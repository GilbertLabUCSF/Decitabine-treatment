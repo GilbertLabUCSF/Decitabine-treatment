{
 "cells": [
  {
   "cell_type": "markdown",
   "metadata": {},
   "source": [
    "- https://github.com/goodarzilab/Ribolog/blob/master/vignettes/RIBOLOG.pdf\n"
   ]
  },
  {
   "cell_type": "code",
   "execution_count": 20,
   "metadata": {},
   "outputs": [],
   "source": [
    "# !mkdir bam\n",
    "# !mkdir bam/RNA\n",
    "# !mkdir bam/RPF\n",
    "\n",
    "# !mkdir bam_processed/\n",
    "# !mkdir bam_processed/RNA\n",
    "# !mkdir bam_processed/RPF"
   ]
  },
  {
   "cell_type": "code",
   "execution_count": 19,
   "metadata": {},
   "outputs": [],
   "source": [
    "# cat alignment.sh"
   ]
  },
  {
   "cell_type": "markdown",
   "metadata": {},
   "source": [
    "    ---\n",
    "    title: \"Decitabine\"\n",
    "    author: \"Hossein Asgharian\"\n",
    "    date: \"5/13/2020\"\n",
    "    output: pdf_document\n",
    "    ---\n",
    "\n",
    "<!-- Hi, Hossin is asking me a question about Riboseq data for Alex's project \n",
    "which bam files in the RPF folder do you want me to use?\n",
    "-->\n",
    "\n",
    "<!-- *.dd.bam for RPF\n",
    "and normal for RNA\n",
    " -->\n",
    "\n",
    "<!-- Both RNA and RPF file should always be mapped to the fasta where headers are just transcript IDs. RPF fastqs were mapped to the right fasta but RNAs were mapped to the full header fasta (transcript ID, gene ID, gene name etc). It causes problem during input and merger. I fixed the RNA bams by samtools reheader. -->"
   ]
  },
  {
   "cell_type": "markdown",
   "metadata": {},
   "source": [
    "https://github.com/goodarzilab/ribosome_footprinting\n",
    "\n",
    "I need to get Help from Hani and Sohit"
   ]
  },
  {
   "cell_type": "code",
   "execution_count": 25,
   "metadata": {},
   "outputs": [],
   "source": [
    "library(tidyverse)\n",
    "library(Ribolog)\n",
    "library(knitr)\n",
    "library(riboWaltz)\n",
    "library(ggplot2)\n",
    "\n",
    "# opts_chunk$set(tidy.opts=list(width.cutoff=60),tidy=TRUE)\n",
    "# opts_chunk$set(root.dir = \"C:/Science/Projects/Ribosome profiling/People/Abe/\")\n",
    "# library(xlsx)\n",
    "# library(EnhancedVolcano)\n",
    "\n",
    "source('../util.R')"
   ]
  },
  {
   "cell_type": "code",
   "execution_count": 62,
   "metadata": {},
   "outputs": [],
   "source": [
    "annotation_human_cDNA <- Ribolog::read_annotation(\"~/genomes/Ribolog/Human.GRC38.96_annotation.txt\")"
   ]
  },
  {
   "cell_type": "markdown",
   "metadata": {},
   "source": [
    "# Input RPF data"
   ]
  },
  {
   "cell_type": "code",
   "execution_count": 63,
   "metadata": {},
   "outputs": [
    {
     "name": "stdout",
     "output_type": "stream",
     "text": [
      "Reading 1_RiboSeq_S25DMSO_r1.ensemble.cds.longest.srt.dd.bam\n",
      "Input reads: 2.187 M\n",
      "0.000 M  (0.013 %) reads removed: exceeding indel_threshold.\n",
      "0.325 M  (14.857 %) reads removed: reference transcript IDs not found in annotation table.\n",
      "0.269 M  (14.450 %) reads removed: mapping on negative strand.\n",
      "Output reads: 1.593 M\n",
      "Done! 1_RiboSeq_S25DMSO_r1.ensemble.cds.longest.srt.dd.bam has been loaded as 1_RiboSeq_S25DMSO_r1.ensemble.cds.longest.srt.dd \n",
      "\n",
      "Reading 1_RiboSeq_S25DMSO_r2.ensemble.cds.longest.srt.dd.bam\n",
      "Input reads: 1.451 M\n",
      "0.000 M  (0.014 %) reads removed: exceeding indel_threshold.\n",
      "0.219 M  (15.092 %) reads removed: reference transcript IDs not found in annotation table.\n",
      "0.165 M  (13.387 %) reads removed: mapping on negative strand.\n",
      "Output reads: 1.067 M\n",
      "Done! 1_RiboSeq_S25DMSO_r2.ensemble.cds.longest.srt.dd.bam has been loaded as 1_RiboSeq_S25DMSO_r2.ensemble.cds.longest.srt.dd \n",
      "\n",
      "Reading 1_RiboSeq_S25Drug_r1.ensemble.cds.longest.srt.dd.bam\n",
      "Input reads: 1.484 M\n",
      "0.000 M  (0.013 %) reads removed: exceeding indel_threshold.\n",
      "0.220 M  (14.810 %) reads removed: reference transcript IDs not found in annotation table.\n",
      "0.199 M  (15.726 %) reads removed: mapping on negative strand.\n",
      "Output reads: 1.066 M\n",
      "Done! 1_RiboSeq_S25Drug_r1.ensemble.cds.longest.srt.dd.bam has been loaded as 1_RiboSeq_S25Drug_r1.ensemble.cds.longest.srt.dd \n",
      "\n",
      "Reading 1_RiboSeq_S25Drug_r2.ensemble.cds.longest.srt.dd.bam\n",
      "Input reads: 1.420 M\n",
      "0.000 M  (0.015 %) reads removed: exceeding indel_threshold.\n",
      "0.210 M  (14.813 %) reads removed: reference transcript IDs not found in annotation table.\n",
      "0.201 M  (16.616 %) reads removed: mapping on negative strand.\n",
      "Output reads: 1.009 M\n",
      "Done! 1_RiboSeq_S25Drug_r2.ensemble.cds.longest.srt.dd.bam has been loaded as 1_RiboSeq_S25Drug_r2.ensemble.cds.longest.srt.dd \n",
      "\n"
     ]
    }
   ],
   "source": [
    "reads_list_deci <- Ribolog::bamtolist_rW(bamfolder = \"./bam/RPF\", annotation = annotation_human_cDNA)"
   ]
  },
  {
   "cell_type": "markdown",
   "metadata": {},
   "source": [
    "#### rename"
   ]
  },
  {
   "cell_type": "code",
   "execution_count": 64,
   "metadata": {},
   "outputs": [
    {
     "data": {
      "text/html": [
       "<style>\n",
       ".list-inline {list-style: none; margin:0; padding: 0}\n",
       ".list-inline>li {display: inline-block}\n",
       ".list-inline>li:not(:last-child)::after {content: \"\\00b7\"; padding: 0 .5ex}\n",
       "</style>\n",
       "<ol class=list-inline><li>'1_RiboSeq_S25DMSO_r1.ensemble.cds.longest.srt.dd'</li><li>'1_RiboSeq_S25DMSO_r2.ensemble.cds.longest.srt.dd'</li><li>'1_RiboSeq_S25Drug_r1.ensemble.cds.longest.srt.dd'</li><li>'1_RiboSeq_S25Drug_r2.ensemble.cds.longest.srt.dd'</li></ol>\n"
      ],
      "text/latex": [
       "\\begin{enumerate*}\n",
       "\\item '1\\_RiboSeq\\_S25DMSO\\_r1.ensemble.cds.longest.srt.dd'\n",
       "\\item '1\\_RiboSeq\\_S25DMSO\\_r2.ensemble.cds.longest.srt.dd'\n",
       "\\item '1\\_RiboSeq\\_S25Drug\\_r1.ensemble.cds.longest.srt.dd'\n",
       "\\item '1\\_RiboSeq\\_S25Drug\\_r2.ensemble.cds.longest.srt.dd'\n",
       "\\end{enumerate*}\n"
      ],
      "text/markdown": [
       "1. '1_RiboSeq_S25DMSO_r1.ensemble.cds.longest.srt.dd'\n",
       "2. '1_RiboSeq_S25DMSO_r2.ensemble.cds.longest.srt.dd'\n",
       "3. '1_RiboSeq_S25Drug_r1.ensemble.cds.longest.srt.dd'\n",
       "4. '1_RiboSeq_S25Drug_r2.ensemble.cds.longest.srt.dd'\n",
       "\n",
       "\n"
      ],
      "text/plain": [
       "[1] \"1_RiboSeq_S25DMSO_r1.ensemble.cds.longest.srt.dd\"\n",
       "[2] \"1_RiboSeq_S25DMSO_r2.ensemble.cds.longest.srt.dd\"\n",
       "[3] \"1_RiboSeq_S25Drug_r1.ensemble.cds.longest.srt.dd\"\n",
       "[4] \"1_RiboSeq_S25Drug_r2.ensemble.cds.longest.srt.dd\""
      ]
     },
     "metadata": {},
     "output_type": "display_data"
    }
   ],
   "source": [
    "names(reads_list_deci)"
   ]
  },
  {
   "cell_type": "code",
   "execution_count": 65,
   "metadata": {},
   "outputs": [],
   "source": [
    "names(reads_list_deci) <- c(\n",
    "    \"DMSO_rep1_RPF\", \"DMSO_rep2_RPF\", \n",
    "    \"Decitabine_rep1_RPF\", \"Decitabine_rep2_RPF\"\n",
    ")"
   ]
  },
  {
   "cell_type": "code",
   "execution_count": 66,
   "metadata": {},
   "outputs": [
    {
     "name": "stdout",
     "output_type": "stream",
     "text": [
      "processing DMSO_rep1_RPF\n",
      "best offset: 12 nts from the 5' end\n",
      "processing DMSO_rep2_RPF\n",
      "best offset: 13 nts from the 5' end\n",
      "processing Decitabine_rep1_RPF\n",
      "best offset: 13 nts from the 5' end\n",
      "processing Decitabine_rep2_RPF\n",
      "best offset: 13 nts from the 5' end\n"
     ]
    }
   ],
   "source": [
    "psite_offset_deci <- Ribolog::psite_rW(reads_list_deci)"
   ]
  },
  {
   "cell_type": "code",
   "execution_count": 67,
   "metadata": {},
   "outputs": [
    {
     "name": "stdout",
     "output_type": "stream",
     "text": [
      "processing DMSO_rep1_RPF\n",
      "1. adding p-site position\n",
      "2. adding transcript region\n",
      "processing DMSO_rep2_RPF\n",
      "1. adding p-site position\n",
      "2. adding transcript region\n",
      "processing Decitabine_rep1_RPF\n",
      "1. adding p-site position\n",
      "2. adding transcript region\n",
      "processing Decitabine_rep2_RPF\n",
      "1. adding p-site position\n",
      "2. adding transcript region\n"
     ]
    }
   ],
   "source": [
    "reads_psite_list_deci <- Ribolog::psite_info_rW(reads_list_deci, psite_offset_deci)"
   ]
  },
  {
   "cell_type": "markdown",
   "metadata": {},
   "source": [
    "### Check periodicity and choose readlength range"
   ]
  },
  {
   "cell_type": "code",
   "execution_count": 68,
   "metadata": {},
   "outputs": [
    {
     "name": "stderr",
     "output_type": "stream",
     "text": [
      "Warning message:\n",
      "“Removed 8 rows containing missing values (position_stack).”\n",
      "Warning message:\n",
      "“Removed 8 rows containing missing values (position_stack).”\n",
      "Warning message:\n",
      "“Removed 7 rows containing missing values (position_stack).”\n",
      "Warning message:\n",
      "“Removed 7 rows containing missing values (position_stack).”\n"
     ]
    },
    {
     "data": {
      "text/html": [
       "'PDF (./plots/deci_RPF_Read_length_distributions.pdf) created and saved'"
      ],
      "text/latex": [
       "'PDF (./plots/deci\\_RPF\\_Read\\_length\\_distributions.pdf) created and saved'"
      ],
      "text/markdown": [
       "'PDF (./plots/deci_RPF_Read_length_distributions.pdf) created and saved'"
      ],
      "text/plain": [
       "[1] \"PDF (./plots/deci_RPF_Read_length_distributions.pdf) created and saved\""
      ]
     },
     "metadata": {},
     "output_type": "display_data"
    }
   ],
   "source": [
    "Ribolog::print_read_ldist(reads_list_deci, \"./plots/deci_RPF_Read_length_distributions.pdf\")"
   ]
  },
  {
   "cell_type": "code",
   "execution_count": 69,
   "metadata": {},
   "outputs": [
    {
     "data": {
      "text/html": [
       "'PDF (./plots/Periodicity_by_region.pdf) created and saved'"
      ],
      "text/latex": [
       "'PDF (./plots/Periodicity\\_by\\_region.pdf) created and saved'"
      ],
      "text/markdown": [
       "'PDF (./plots/Periodicity_by_region.pdf) created and saved'"
      ],
      "text/plain": [
       "[1] \"PDF (./plots/Periodicity_by_region.pdf) created and saved\""
      ]
     },
     "metadata": {},
     "output_type": "display_data"
    }
   ],
   "source": [
    "Ribolog::print_period_region(reads_psite_list_deci, \"./plots/Periodicity_by_region.pdf\")"
   ]
  },
  {
   "cell_type": "code",
   "execution_count": 72,
   "metadata": {},
   "outputs": [
    {
     "data": {
      "text/html": [
       "'PDF (./plots/Periodicity_by_length_region.pdf) created and saved'"
      ],
      "text/latex": [
       "'PDF (./plots/Periodicity\\_by\\_length\\_region.pdf) created and saved'"
      ],
      "text/markdown": [
       "'PDF (./plots/Periodicity_by_length_region.pdf) created and saved'"
      ],
      "text/plain": [
       "[1] \"PDF (./plots/Periodicity_by_length_region.pdf) created and saved\""
      ]
     },
     "metadata": {},
     "output_type": "display_data"
    }
   ],
   "source": [
    "Ribolog::print_period_region_length(reads_psite_list_deci, \"./plots/Periodicity_by_length_region.pdf\")"
   ]
  },
  {
   "cell_type": "code",
   "execution_count": 20,
   "metadata": {},
   "outputs": [],
   "source": [
    "# Ribolog::print_read_end_heatmap(reads_list_deci, annotation_human_cDNA, \"./plots/deci_RPF_read_end_heatmaps.pdf\")"
   ]
  },
  {
   "cell_type": "code",
   "execution_count": 100,
   "metadata": {},
   "outputs": [],
   "source": [
    "# Ribolog::print_rop(reads_psite_list_deci, annotation_human_cDNA, \"./plots/RPF_ribosome_occupancy_profiles_from_annotation.pdf\")"
   ]
  },
  {
   "cell_type": "markdown",
   "metadata": {},
   "source": [
    "Check what read lengths will be retained by a periodicity filter:\n",
    "\n"
   ]
  },
  {
   "cell_type": "code",
   "execution_count": 73,
   "metadata": {},
   "outputs": [
    {
     "name": "stdout",
     "output_type": "stream",
     "text": [
      "processing DMSO_rep1_RPF\n",
      "reads: 1.59 M\n",
      "0.89 M  (55.84 %) reads removed\n",
      "reads (kept): 0.70 M\n",
      "\n",
      "processing DMSO_rep2_RPF\n",
      "reads: 1.07 M\n",
      "0.60 M  (56.24 %) reads removed\n",
      "reads (kept): 0.47 M\n",
      "\n",
      "processing Decitabine_rep1_RPF\n",
      "reads: 1.07 M\n",
      "0.62 M  (58.33 %) reads removed\n",
      "reads (kept): 0.44 M\n",
      "\n",
      "processing Decitabine_rep2_RPF\n",
      "reads: 1.01 M\n",
      "0.64 M  (63.42 %) reads removed\n",
      "reads (kept): 0.37 M\n",
      "\n"
     ]
    }
   ],
   "source": [
    "filtered_list_deci <- length_filter(data = reads_list_deci, length_filter_mode = \"periodicity\", periodicity_threshold = 40)"
   ]
  },
  {
   "cell_type": "markdown",
   "metadata": {},
   "source": [
    "With the default of threshold = 50, all reads were removed. Threshold = 40 still removes 60-70% of reads.\n"
   ]
  },
  {
   "cell_type": "code",
   "execution_count": 30,
   "metadata": {},
   "outputs": [],
   "source": [
    "# lapply(filtered_list_deci, function(x) summary(as.factor(x$length))) "
   ]
  },
  {
   "cell_type": "markdown",
   "metadata": {},
   "source": [
    "From this output and the plots generated above, the choice of read length 29-40 seems reasonable. \n"
   ]
  },
  {
   "cell_type": "code",
   "execution_count": 39,
   "metadata": {},
   "outputs": [],
   "source": [
    "# tr_codon_read_count_deci <- Ribolog::psite_to_codon_count(reads_psite_list_deci, c(29:40), annotation_human_cDNA,  \"~/genomes/Ribolog/Human.GRC38.96_cDNA_longest_CDS.txt\")"
   ]
  },
  {
   "cell_type": "code",
   "execution_count": 41,
   "metadata": {},
   "outputs": [],
   "source": [
    "# tr_codon_bias_coeff_loess_corrected_count_deci <- Ribolog::CELP_bias(tr_codon_read_count_deci, loess_method = \"direct\")\n"
   ]
  },
  {
   "cell_type": "code",
   "execution_count": 43,
   "metadata": {},
   "outputs": [],
   "source": [
    "# rpf_corrected_sum_deci <- Ribolog::codon2transcript(tr_codon_bias_coeff_loess_corrected_count_deci$tr_codon_read_count_loess_corrected, count.type = \"corrected_count\")\n",
    "# head(rpf_corrected_sum_deci)\n"
   ]
  },
  {
   "cell_type": "code",
   "execution_count": 45,
   "metadata": {},
   "outputs": [],
   "source": [
    "# rpf_observed_sum_deci <- Ribolog::codon2transcript(tr_codon_bias_coeff_loess_corrected_count_deci$tr_codon_read_count_loess_corrected, count.type = \"observed_count\")\n",
    "# head(rpf_observed_sum_deci)"
   ]
  },
  {
   "cell_type": "markdown",
   "metadata": {},
   "source": [
    "# Input RNA data"
   ]
  },
  {
   "cell_type": "code",
   "execution_count": 47,
   "metadata": {},
   "outputs": [],
   "source": [
    "rna_count_deci <- Ribolog::bam2count(bamfolder = \"./bam/RNA\", annotation = annotation_human_cDNA)"
   ]
  },
  {
   "cell_type": "code",
   "execution_count": null,
   "metadata": {},
   "outputs": [],
   "source": [
    "rna_CELP_rpf_count_deci <- merge(rna_count_deci, rpf_corrected_sum_deci, by = \"transcript\")\n",
    "head(rna_CELP_rpf_count_deci)"
   ]
  },
  {
   "cell_type": "markdown",
   "metadata": {},
   "source": [
    "Rename columns for convenience."
   ]
  },
  {
   "cell_type": "code",
   "execution_count": null,
   "metadata": {},
   "outputs": [],
   "source": [
    "names(rna_CELP_rpf_count_deci)[c(2:5)] <- c(\"dmso_r1_rna\", \"dmso_r2_rna\", \"drug_r1_rna\", \"drug_r2_rna\")\n",
    "head(rna_CELP_rpf_count_deci)"
   ]
  },
  {
   "cell_type": "markdown",
   "metadata": {},
   "source": [
    "This is now ready for normalization and filtering.\n"
   ]
  },
  {
   "cell_type": "code",
   "execution_count": null,
   "metadata": {},
   "outputs": [],
   "source": [
    "# Normalize RNA counts\n",
    "rna_CELP_rpf_count_norm1_deci <- Ribolog::normalize_median_of_ratios(rna_CELP_rpf_count_deci, c(2:5))\n",
    "# Normalize RPF counts\n",
    "rna_CELP_rpf_count_norm2_deci <- Ribolog::normalize_median_of_ratios(rna_CELP_rpf_count_norm1_deci, c(6:9))\n",
    "\n"
   ]
  },
  {
   "cell_type": "code",
   "execution_count": null,
   "metadata": {},
   "outputs": [],
   "source": [
    "# Filter for RNA>=5 in all samples\n",
    "rr_deci.v1 <- Ribolog::min_count_filter(rna_CELP_rpf_count_norm2_deci, mincount = 10, columns = c(2:5), method = \"all\") \n",
    "# Filter for average RPF>=5 across samples\n",
    "rr_deci.v2 <- Ribolog::min_count_filter(rr_deci.v1, mincount = 5, columns = c(6:9), method = \"average\") \n",
    "dim(rna_CELP_rpf_count_norm2_deci)\n",
    "dim(rr_deci.v1)\n",
    "dim(rr_deci.v2)\n"
   ]
  },
  {
   "cell_type": "markdown",
   "metadata": {},
   "source": [
    "### QC\n"
   ]
  },
  {
   "cell_type": "code",
   "execution_count": null,
   "metadata": {},
   "outputs": [],
   "source": [
    "te_deci.v2 <- Ribolog::create_te(rr_deci.v2, idcolumns = 1, rnacolumns = c(2:5), rpfcolumns = c(6:9))\n",
    "head(te_deci.v2)\n",
    "\n"
   ]
  },
  {
   "cell_type": "code",
   "execution_count": null,
   "metadata": {},
   "outputs": [],
   "source": [
    "te_deci.v2.cent <- row_center(te_deci.v2, columns = c(2:5))\n",
    "te_deci.v2.stnd <- row_standardize(te_deci.v2, columns = c(2:5))\n",
    "sample_attributes_deci <- read.xlsx(\"./sample_attributes_deci.xlsx\", sheetIndex = 1, header = TRUE)\n",
    "print(sample_attributes_deci)\n",
    "Ribolog::pca_qc(te_deci.v2[, -1], n = 2, ID = sample_attributes_deci$treatment[c(1:4)])\n",
    "Ribolog::pca_qc(te_deci.v2.cent[, -1], n = 2, ID = sample_attributes_deci$treatment[c(1:4)])\n",
    "Ribolog::pca_qc(te_deci.v2.stnd[, -1], n = 2, ID = sample_attributes_deci$treatment[c(1:4)])"
   ]
  },
  {
   "cell_type": "code",
   "execution_count": null,
   "metadata": {},
   "outputs": [],
   "source": []
  },
  {
   "cell_type": "code",
   "execution_count": null,
   "metadata": {},
   "outputs": [],
   "source": [
    "rr_deci.v2.split <- Ribolog::partition_to_uniques(x = rr_deci.v2[,-1], design = sample_attributes_deci, uniqueID = \"replicate_name\")\n",
    "names(rr_deci.v2.split)"
   ]
  },
  {
   "cell_type": "code",
   "execution_count": null,
   "metadata": {},
   "outputs": [],
   "source": [
    "rr_deci.v2.pairwise <- Ribolog::TER_all_pairs(x = rr_deci.v2.split, design = sample_attributes_deci, outcome = \"read_type\", uniqueID = \"replicate_name\", groupID = \"treatment\")\n",
    "pi0df_deci <- Ribolog::pairs2pi0s(rr_deci.v2.pairwise)\n",
    "print(pi0df_deci)\n"
   ]
  },
  {
   "cell_type": "code",
   "execution_count": null,
   "metadata": {},
   "outputs": [],
   "source": [
    "rr_deci.v2.correlograms <- pairs2correlograms(rr_deci.v2.pairwise)\n",
    "\n"
   ]
  },
  {
   "cell_type": "code",
   "execution_count": null,
   "metadata": {},
   "outputs": [],
   "source": [
    "fit1_deci <- Ribolog::logit_seq(rr_deci.v2[,-1], sample_attributes_deci, read_type ~ treatment, as.vector(rr_deci.v2$transcript)) \n",
    "head(fit1_deci)\n",
    "hist(fit1_deci[,4], n=50, main = \"p-value distribution\", xlab = \"p-value\")\n",
    "\n"
   ]
  },
  {
   "cell_type": "markdown",
   "metadata": {},
   "source": [
    "P-value distribution looks good.\n"
   ]
  },
  {
   "cell_type": "code",
   "execution_count": null,
   "metadata": {},
   "outputs": [],
   "source": [
    "pdf(\"./QC and volcano plots.pdf\")\n",
    "Ribolog::pca_qc(te_deci.v2[, -1], n = 2, ID = sample_attributes_deci$treatment[c(1:4)])\n",
    "Ribolog::pca_qc(te_deci.v2.cent[, -1], n = 2, ID = sample_attributes_deci$treatment[c(1:4)])\n",
    "Ribolog::pca_qc(te_deci.v2.stnd[, -1], n = 2, ID = sample_attributes_deci$treatment[c(1:4)])\n",
    "pi0df_deci <- Ribolog::pairs2pi0s(rr_deci.v2.pairwise)\n",
    "rr_deci.v2.correlograms <- pairs2correlograms(rr_deci.v2.pairwise)\n",
    "print(vplot2)\n",
    "dev.off()"
   ]
  },
  {
   "cell_type": "code",
   "execution_count": null,
   "metadata": {},
   "outputs": [],
   "source": [
    "fit1_deci_FDR <- Ribolog::adj_TER_p(fit1_deci, pcols = 4, adj_method = \"fdr\")\n",
    "fit1_deci_qval <- Ribolog::adj_TER_p(fit1_deci, pcols = 4, adj_method = \"qvalue\")\n",
    "fit1_deci_fdr_qval <- Ribolog::adj_TER_p(fit1_deci_FDR, pcols = 4, adj_method = \"qvalue\")\n",
    "fit1_deci_fdr_qval$transcript <- rownames(fit1_deci_fdr_qval)\n",
    "fit1_deci_fdr_qval_g <- merge(human_id_mapper, fit1_deci_fdr_qval, by = \"transcript\")\n",
    "write.table(fit1_deci_fdr_qval_g, \"C:/Science/Projects/Ribosome profiling/People/Abe/fit1_deci_fdr_qval_g.txt\", row.names = FALSE)\n",
    "write.csv(fit1_deci_fdr_qval_g, \"C:/Science/Projects/Ribosome profiling/People/Abe/fit1_deci_fdr_qval_g.csv\", row.names = FALSE)"
   ]
  },
  {
   "cell_type": "code",
   "execution_count": null,
   "metadata": {},
   "outputs": [],
   "source": [
    "# ```{r message = FALSE, warning = FALSE, fig.width = 6, fig.height = 7}\n",
    "vplot1 <- EnhancedVolcano(fit1_deci_fdr_qval_g,\n",
    "                lab = fit1_deci_fdr_qval_g$gene_name,\n",
    "                x = 'Estimate_treatmentDRUG',\n",
    "                xlab = 'Ln fold change',\n",
    "                y = 'fdr_Pr...z.._treatmentDRUG',\n",
    "                ylab = '-Log10 FDR',\n",
    "                title = 'Decitabine data, Drug vs DMSO',\n",
    "                titleLabSize = 12,\n",
    "                border = 'full',\n",
    "                pCutoff = 0.05,\n",
    "                FCcutoff = log(2),\n",
    "                xlim = c(-5, 5), ylim = c(0, 10)) \n",
    "vplot1\n",
    "\n",
    "# ```{r message = FALSE, warning = FALSE, fig.width = 6, fig.height = 7}\n",
    "pdf(\"./Decitabine treatment effect volcano plot, qvalue.pdf\")\n",
    "vplot2 <- EnhancedVolcano(fit1_deci_fdr_qval_g,\n",
    "                lab = fit1_deci_fdr_qval_g$gene_name,\n",
    "                x = 'Estimate_treatmentDRUG',\n",
    "                xlab = 'Ln fold change',\n",
    "                y = 'qvalue_Pr...z.._treatmentDRUG',\n",
    "                ylab = '-Log10 q value',\n",
    "                title = 'Decitabine data, Drug vs DMSO',\n",
    "                titleLabSize = 12,\n",
    "                border = 'full',\n",
    "                pCutoff = 0.05,\n",
    "                FCcutoff = log(2),\n",
    "                xlim = c(-3, 3), ylim = c(0, 6)) \n",
    "vplot2\n",
    "dev.off()"
   ]
  }
 ],
 "metadata": {
  "kernelspec": {
   "display_name": "R [conda env:ribolog]",
   "language": "R",
   "name": "conda-env-ribolog-r"
  },
  "language_info": {
   "codemirror_mode": "r",
   "file_extension": ".r",
   "mimetype": "text/x-r-source",
   "name": "R",
   "pygments_lexer": "r",
   "version": "4.1.1"
  }
 },
 "nbformat": 4,
 "nbformat_minor": 4
}
