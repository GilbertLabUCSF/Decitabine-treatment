{
 "cells": [
  {
   "cell_type": "markdown",
   "metadata": {},
   "source": [
    "# QC plots"
   ]
  },
  {
   "cell_type": "markdown",
   "metadata": {},
   "source": [
    "<table>\n",
    "    <tr>\n",
    "    <td><img src=\"plots/QC_and_volcano_plots-0.png\" style=\"width:500px\">\n",
    "    <td><img src=\"plots/QC_and_volcano_plots-1.png\" style=\"width:500px\">\n",
    "    <tr>\n",
    " <table>\n",
    " <table>\n",
    "    <tr>\n",
    "    <td><img src=\"plots/QC_and_volcano_plots-2.png\" style=\"width:500px\">\n",
    "    <td><img src=\"plots/QC_and_volcano_plots-3.png\" style=\"width:500px\">\n",
    "    <tr>\n",
    "<table>\n",
    " <table>\n",
    "    <tr>\n",
    "    <td><img src=\"plots/QC_and_volcano_plots-4.png\" style=\"width:500px\">\n",
    "    <td><img src=\"plots/QC_and_volcano_plots-5.png\" style=\"width:500px\">\n",
    "    <tr>\n",
    "<table>"
   ]
  },
  {
   "cell_type": "markdown",
   "metadata": {},
   "source": [
    "<h2>DMSO, rep 1<h2>\n",
    "<table>\n",
    "    <tr>\n",
    "    <td><img src=\"plots/deci_RPF_read_end_heatmaps-0.png\" style=\"width:600px\">\n",
    "    RPF_read_end_heatmaps\n",
    "    <td><img src=\"plots/deci_RPF_Read_length_distributions-0.png\" style=\"width:300px\">\n",
    "    RPF_Read_length_distributions\n",
    "    <tr>\n",
    "<table>\n",
    "\n",
    "<table>\n",
    "    <tr>\n",
    "    <td><img src=\"plots/Periodicity_by_length_region-0.png\" style=\"width:500px\">\n",
    "    RPF_read_end_heatmaps\n",
    "    <td><img src=\"plots/Periodicity_by_region-0.png\" style=\"width:400px\">\n",
    "    RPF_Read_length_distributions\n",
    "    <tr>\n",
    "<table>\n",
    "<table>\n",
    "    <tr>\n",
    "    <td><img src=\"plots/RPF_ribosome_occupancy_profiles_from_annotation-0.png\" style=\"width:600px\">\n",
    "    RPF_ribosome_occupancy_profiles_from_annotation\n",
    "    <tr>\n",
    "<table>"
   ]
  },
  {
   "cell_type": "markdown",
   "metadata": {},
   "source": [
    "<h2>DMSO, rep 2<h2>\n",
    "<table>\n",
    "    <tr>\n",
    "    <td><img src=\"plots/deci_RPF_read_end_heatmaps-1.png\" style=\"width:600px\">\n",
    "    RPF_read_end_heatmaps\n",
    "    <td><img src=\"plots/deci_RPF_Read_length_distributions-1.png\" style=\"width:300px\">\n",
    "    RPF_Read_length_distributions\n",
    "    <tr>\n",
    "<table>\n",
    "\n",
    "<table>\n",
    "    <tr>\n",
    "    <td><img src=\"plots/Periodicity_by_length_region-1.png\" style=\"width:500px\">\n",
    "    RPF_read_end_heatmaps\n",
    "    <td><img src=\"plots/Periodicity_by_region-1.png\" style=\"width:400px\">\n",
    "    RPF_Read_length_distributions\n",
    "    <tr>\n",
    "<table>\n",
    "<table>\n",
    "    <tr>\n",
    "    <td><img src=\"plots/RPF_ribosome_occupancy_profiles_from_annotation-1.png\" style=\"width:600px\">\n",
    "    RPF_ribosome_occupancy_profiles_from_annotation\n",
    "    <tr>\n",
    "<table>"
   ]
  },
  {
   "cell_type": "markdown",
   "metadata": {},
   "source": [
    "<h2>Drug, rep 1<h2>\n",
    "<table>\n",
    "    <tr>\n",
    "    <td><img src=\"plots/deci_RPF_read_end_heatmaps-2.png\" style=\"width:600px\">\n",
    "    RPF_read_end_heatmaps\n",
    "    <td><img src=\"plots/deci_RPF_Read_length_distributions-2.png\" style=\"width:300px\">\n",
    "    RPF_Read_length_distributions\n",
    "    <tr>\n",
    "<table>\n",
    "\n",
    "<table>\n",
    "    <tr>\n",
    "    <td><img src=\"plots/Periodicity_by_length_region-2.png\" style=\"width:500px\">\n",
    "    RPF_read_end_heatmaps\n",
    "    <td><img src=\"plots/Periodicity_by_region-2.png\" style=\"width:400px\">\n",
    "    RPF_Read_length_distributions\n",
    "    <tr>\n",
    "<table>\n",
    "<table>\n",
    "    <tr>\n",
    "    <td><img src=\"plots/RPF_ribosome_occupancy_profiles_from_annotation-2.png\" style=\"width:600px\">\n",
    "    RPF_ribosome_occupancy_profiles_from_annotation\n",
    "    <tr>\n",
    "<table>"
   ]
  },
  {
   "cell_type": "markdown",
   "metadata": {},
   "source": [
    "<h2>Drug, rep 2<h2>\n",
    "<table>\n",
    "    <tr>\n",
    "    <td><img src=\"plots/deci_RPF_read_end_heatmaps-3.png\" style=\"width:600px\">\n",
    "    RPF_read_end_heatmaps\n",
    "    <td><img src=\"plots/deci_RPF_Read_length_distributions-3.png\" style=\"width:300px\">\n",
    "    RPF_Read_length_distributions\n",
    "    <tr>\n",
    "<table>\n",
    "\n",
    "<table>\n",
    "    <tr>\n",
    "    <td><img src=\"plots/Periodicity_by_length_region-3.png\" style=\"width:500px\">\n",
    "    RPF_read_end_heatmaps\n",
    "    <td><img src=\"plots/Periodicity_by_region-3.png\" style=\"width:400px\">\n",
    "    RPF_Read_length_distributions\n",
    "    <tr>\n",
    "<table>\n",
    "<table>\n",
    "    <tr>\n",
    "    <td><img src=\"plots/RPF_ribosome_occupancy_profiles_from_annotation-3.png\" style=\"width:600px\">\n",
    "    RPF_ribosome_occupancy_profiles_from_annotation\n",
    "    <tr>\n",
    "<table>"
   ]
  }
 ],
 "metadata": {
  "kernelspec": {
   "display_name": "Python 3",
   "language": "python",
   "name": "python3"
  },
  "language_info": {
   "codemirror_mode": {
    "name": "ipython",
    "version": 3
   },
   "file_extension": ".py",
   "mimetype": "text/x-python",
   "name": "python",
   "nbconvert_exporter": "python",
   "pygments_lexer": "ipython3",
   "version": "3.7.3"
  }
 },
 "nbformat": 4,
 "nbformat_minor": 2
}
