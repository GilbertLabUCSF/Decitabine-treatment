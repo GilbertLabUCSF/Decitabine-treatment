{
 "cells": [
  {
   "cell_type": "markdown",
   "metadata": {
    "tags": []
   },
   "source": [
    "## Volcano plot"
   ]
  },
  {
   "cell_type": "code",
   "execution_count": 1,
   "metadata": {},
   "outputs": [
    {
     "name": "stderr",
     "output_type": "stream",
     "text": [
      "── \u001b[1mAttaching packages\u001b[22m ─────────────────────────────────────── tidyverse 1.3.1 ──\n",
      "\n",
      "\u001b[32m✔\u001b[39m \u001b[34mtibble \u001b[39m 3.1.6     \u001b[32m✔\u001b[39m \u001b[34mdplyr  \u001b[39m 1.0.7\n",
      "\u001b[32m✔\u001b[39m \u001b[34mtidyr  \u001b[39m 1.1.4     \u001b[32m✔\u001b[39m \u001b[34mstringr\u001b[39m 1.4.0\n",
      "\u001b[32m✔\u001b[39m \u001b[34mreadr  \u001b[39m 2.0.2     \u001b[32m✔\u001b[39m \u001b[34mforcats\u001b[39m 0.5.1\n",
      "\u001b[32m✔\u001b[39m \u001b[34mpurrr  \u001b[39m 0.3.4     \n",
      "\n",
      "── \u001b[1mConflicts\u001b[22m ────────────────────────────────────────── tidyverse_conflicts() ──\n",
      "\u001b[31m✖\u001b[39m \u001b[34mdplyr\u001b[39m::\u001b[32mfilter()\u001b[39m masks \u001b[34mstats\u001b[39m::filter()\n",
      "\u001b[31m✖\u001b[39m \u001b[34mdplyr\u001b[39m::\u001b[32mlag()\u001b[39m    masks \u001b[34mstats\u001b[39m::lag()\n",
      "\n"
     ]
    }
   ],
   "source": [
    "library(ggplot2)\n",
    "library(ggthemes)\n",
    "library(ggrepel)\n",
    "library(tidyverse)"
   ]
  },
  {
   "cell_type": "code",
   "execution_count": 2,
   "metadata": {},
   "outputs": [],
   "source": [
    "source(\"../util.R\")"
   ]
  },
  {
   "cell_type": "code",
   "execution_count": 3,
   "metadata": {},
   "outputs": [],
   "source": [
    "table <- read.table(\n",
    "    'hl60_delta_te_table.txt',header=T\n",
    ")"
   ]
  },
  {
   "cell_type": "code",
   "execution_count": 4,
   "metadata": {},
   "outputs": [],
   "source": [
    "table %>% \n",
    "    select(gene_name, Estimate_treatmentDRUG, qvalue_Pr...z.._treatmentDRUG) -> res \n",
    "# %>% column_to_rownames('gene_name') \n",
    "\n",
    "colnames(res) <- c('gene_name','lnFoldChange', 'qvalue')"
   ]
  },
  {
   "cell_type": "code",
   "execution_count": 46,
   "metadata": {},
   "outputs": [],
   "source": [
    "lfc.cutoff = log(2)\n",
    "qval.cutoff = 0.01\n",
    "colors_values = c(\"grey80\", \"tan\")\n",
    "x_min = -4\n",
    "x_max = 4\n",
    "y_max = 10\n",
    "title = expression(Delta*\" TE\")\n",
    "\n",
    "top_hits = res %>% filter(\n",
    "            abs(lnFoldChange) >= lfc.cutoff, \n",
    "            qvalue < qval.cutoff) %>% select('gene_name') %>% as.list %>% unlist %>% unname\n",
    "\n",
    "target_genes = c(\n",
    "    'SQLE','INTS5'\n",
    ")\n",
    "\n",
    "labels <- c(top_hits,target_genes)\n",
    "\n",
    "\n",
    "vol <- res %>% ggplot(aes(x = lnFoldChange, y = -log10(qvalue))) + \n",
    "    geom_point(\n",
    "        data = res %>% filter(\n",
    "            abs(lnFoldChange) >= lfc.cutoff, \n",
    "            qvalue < qval.cutoff), \n",
    "        aes(x = lnFoldChange, y = -log10(qvalue)), \n",
    "        size = 3, alpha = 5/10, shape = 21, \n",
    "        color = \"grey40\", fill = colors_values[2]) + \n",
    "\n",
    "    geom_point(\n",
    "        data = res %>% filter(\n",
    "            (abs(lnFoldChange) < lfc.cutoff) | \n",
    "            (qvalue >= qval.cutoff)), \n",
    "        aes(x = lnFoldChange, y = -log10(qvalue)), \n",
    "        size = 1, alpha = 5/10, shape = 21, color = colors_values[1], \n",
    "        fill = colors_values[1]) + \n",
    "    \n",
    "    geom_point(\n",
    "        data = res %>% filter(gene_name %in% labels),\n",
    "        aes(x = lnFoldChange, y = -log10(qvalue)), \n",
    "        shape = 21, size = 3, color = \"grey40\", fill = \"red3\") + \n",
    "\n",
    "    geom_label_repel(\n",
    "        data = res %>% filter(gene_name %in% labels), \n",
    "        aes(label = gene_name), box.padding = 1, max.overlaps = Inf) + \n",
    "    \n",
    "    xlim(c(x_min, x_max)) + \n",
    "    ylim(c(0, y_max)) + \n",
    "    geom_hline(yintercept = -log10(qval.cutoff), linetype = \"dashed\", alpha = 5/10) + \n",
    "    geom_text(aes(\n",
    "        x_min*0.8,-log10(qval.cutoff),\n",
    "        label = paste(\"-~log[10]~(\",qval.cutoff,')',sep=''), \n",
    "        vjust = x_min*0.05\n",
    "    ),parse = TRUE) +\n",
    "    \n",
    "    theme(\n",
    "        legend.position = \"none\"\n",
    "    ) + \n",
    "    ggtitle(title) + theme_Publication()\n"
   ]
  },
  {
   "cell_type": "code",
   "execution_count": 47,
   "metadata": {},
   "outputs": [
    {
     "name": "stderr",
     "output_type": "stream",
     "text": [
      "Warning message:\n",
      "“Removed 1 rows containing missing values (geom_point).”\n"
     ]
    },
    {
     "data": {
      "image/png": "[encoded data removed]",
      "text/plain": [
       "plot without title"
      ]
     },
     "metadata": {
      "image/png": {
       "height": 420,
       "width": 420
      }
     },
     "output_type": "display_data"
    }
   ],
   "source": [
    "vol"
   ]
  },
  {
   "cell_type": "code",
   "execution_count": 48,
   "metadata": {},
   "outputs": [
    {
     "name": "stderr",
     "output_type": "stream",
     "text": [
      "Warning message:\n",
      "“Removed 1 rows containing missing values (geom_point).”\n"
     ]
    }
   ],
   "source": [
    "ggsave(\n",
    "    'plots/volcano_delta_te.pdf', plot = vol, \n",
    "    device = 'pdf', width = 5, height=5.5, dpi = 300\n",
    ")"
   ]
  },
  {
   "cell_type": "code",
   "execution_count": 17,
   "metadata": {},
   "outputs": [
    {
     "data": {
      "text/plain": [
       "R version 4.1.1 (2021-08-10)\n",
       "Platform: x86_64-conda-linux-gnu (64-bit)\n",
       "Running under: CentOS Linux 7 (Core)\n",
       "\n",
       "Matrix products: default\n",
       "BLAS/LAPACK: /data_gilbert/home/aarab/anaconda3/envs/deseq2/lib/libopenblasp-r0.3.18.so\n",
       "\n",
       "locale:\n",
       " [1] LC_CTYPE=en_US.UTF-8       LC_NUMERIC=C              \n",
       " [3] LC_TIME=en_US.UTF-8        LC_COLLATE=en_US.UTF-8    \n",
       " [5] LC_MONETARY=en_US.UTF-8    LC_MESSAGES=en_US.UTF-8   \n",
       " [7] LC_PAPER=en_US.UTF-8       LC_NAME=C                 \n",
       " [9] LC_ADDRESS=C               LC_TELEPHONE=C            \n",
       "[11] LC_MEASUREMENT=en_US.UTF-8 LC_IDENTIFICATION=C       \n",
       "\n",
       "attached base packages:\n",
       "[1] stats     graphics  grDevices utils     datasets  methods   base     \n",
       "\n",
       "other attached packages:\n",
       " [1] forcats_0.5.1   stringr_1.4.0   dplyr_1.0.7     purrr_0.3.4    \n",
       " [5] readr_2.0.2     tidyr_1.1.4     tibble_3.1.6    tidyverse_1.3.1\n",
       " [9] ggrepel_0.9.1   ggthemes_4.2.4  ggplot2_3.3.5  \n",
       "\n",
       "loaded via a namespace (and not attached):\n",
       " [1] pbdZMQ_0.3-6     tidyselect_1.1.1 repr_1.1.3       haven_2.4.3     \n",
       " [5] colorspace_2.0-2 vctrs_0.3.8      generics_0.1.1   htmltools_0.5.2 \n",
       " [9] base64enc_0.1-3  utf8_1.2.2       rlang_0.4.12     pillar_1.6.4    \n",
       "[13] glue_1.5.0       withr_2.4.2      DBI_1.1.1        dbplyr_2.1.1    \n",
       "[17] modelr_0.1.8     readxl_1.3.1     uuid_1.0-3       lifecycle_1.0.1 \n",
       "[21] munsell_0.5.0    gtable_0.3.0     cellranger_1.1.0 rvest_1.0.2     \n",
       "[25] evaluate_0.14    labeling_0.4.2   tzdb_0.2.0       fastmap_1.1.0   \n",
       "[29] fansi_0.4.2      broom_0.7.10     IRdisplay_1.0    Rcpp_1.0.7      \n",
       "[33] scales_1.1.1     backports_1.3.0  IRkernel_1.2     jsonlite_1.7.2  \n",
       "[37] farver_2.1.0     fs_1.5.0         hms_1.1.1        digest_0.6.28   \n",
       "[41] stringi_1.7.5    grid_4.1.1       cli_3.1.0        tools_4.1.1     \n",
       "[45] magrittr_2.0.1   crayon_1.4.2     pkgconfig_2.0.3  ellipsis_0.3.2  \n",
       "[49] xml2_1.3.2       reprex_2.0.1     lubridate_1.8.0  rstudioapi_0.13 \n",
       "[53] assertthat_0.2.1 httr_1.4.2       R6_2.5.1         compiler_4.1.1  "
      ]
     },
     "metadata": {},
     "output_type": "display_data"
    }
   ],
   "source": [
    "sessionInfo()"
   ]
  },
  {
   "cell_type": "code",
   "execution_count": 18,
   "metadata": {},
   "outputs": [
    {
     "data": {
      "text/html": [
       "<span style=white-space:pre-wrap>'Thu Jan  6 04:36:41 2022'</span>"
      ],
      "text/latex": [
       "'Thu Jan  6 04:36:41 2022'"
      ],
      "text/markdown": [
       "<span style=white-space:pre-wrap>'Thu Jan  6 04:36:41 2022'</span>"
      ],
      "text/plain": [
       "[1] \"Thu Jan  6 04:36:41 2022\""
      ]
     },
     "metadata": {},
     "output_type": "display_data"
    }
   ],
   "source": [
    "date()"
   ]
  },
  {
   "cell_type": "markdown",
   "metadata": {
    "jp-MarkdownHeadingCollapsed": true,
    "tags": []
   },
   "source": [
    "## Pathway enrichment "
   ]
  },
  {
   "cell_type": "code",
   "execution_count": 1,
   "metadata": {},
   "outputs": [],
   "source": [
    "import sys\n",
    "import pandas as pd \n",
    "import numpy as np\n",
    "import matplotlib.pyplot as plt\n",
    "from time import time \n",
    "from glob import glob\n",
    "from matplotlib.pyplot import subplots\n",
    "from itertools import chain\n",
    "from functools import reduce\n",
    "from venn import venn\n",
    "\n",
    "# sys.path.append('/rumi/shams/abe/Projects/ipage-down/')\n",
    "sys.path.append('/data_gilbert/home/aarab/Projects/ipage-down/')\n",
    "\n",
    "import ipage_down as ipd"
   ]
  },
  {
   "cell_type": "markdown",
   "metadata": {},
   "source": [
    "### c5"
   ]
  },
  {
   "cell_type": "code",
   "execution_count": 135,
   "metadata": {},
   "outputs": [
    {
     "data": {
      "text/html": [
       "<style  type=\"text/css\" >\n",
       "#T_66a7ade8_6882_11ec_a108_e707841e9057row0_col0,#T_66a7ade8_6882_11ec_a108_e707841e9057row1_col0,#T_66a7ade8_6882_11ec_a108_e707841e9057row2_col0,#T_66a7ade8_6882_11ec_a108_e707841e9057row3_col0,#T_66a7ade8_6882_11ec_a108_e707841e9057row4_col0,#T_66a7ade8_6882_11ec_a108_e707841e9057row5_col1,#T_66a7ade8_6882_11ec_a108_e707841e9057row6_col1,#T_66a7ade8_6882_11ec_a108_e707841e9057row7_col1,#T_66a7ade8_6882_11ec_a108_e707841e9057row8_col1,#T_66a7ade8_6882_11ec_a108_e707841e9057row9_col1,#T_66a7ade8_6882_11ec_a108_e707841e9057row10_col1,#T_66a7ade8_6882_11ec_a108_e707841e9057row11_col1{\n",
       "            background-color:  white;\n",
       "        }#T_66a7ade8_6882_11ec_a108_e707841e9057row0_col1,#T_66a7ade8_6882_11ec_a108_e707841e9057row1_col1,#T_66a7ade8_6882_11ec_a108_e707841e9057row2_col1,#T_66a7ade8_6882_11ec_a108_e707841e9057row3_col1,#T_66a7ade8_6882_11ec_a108_e707841e9057row4_col1,#T_66a7ade8_6882_11ec_a108_e707841e9057row5_col0,#T_66a7ade8_6882_11ec_a108_e707841e9057row6_col0,#T_66a7ade8_6882_11ec_a108_e707841e9057row7_col0,#T_66a7ade8_6882_11ec_a108_e707841e9057row8_col0,#T_66a7ade8_6882_11ec_a108_e707841e9057row9_col0,#T_66a7ade8_6882_11ec_a108_e707841e9057row10_col0,#T_66a7ade8_6882_11ec_a108_e707841e9057row11_col0{\n",
       "            background-color:  red;\n",
       "        }</style><table id=\"T_66a7ade8_6882_11ec_a108_e707841e9057\" ><thead>    <tr>        <th class=\"blank level0\" ></th>        <th class=\"col_heading level0 col0\" >[-0.36 -0.28]</th>        <th class=\"col_heading level0 col1\" >[0.46 0.54]</th>    </tr></thead><tbody>\n",
       "                <tr>\n",
       "                        <th id=\"T_66a7ade8_6882_11ec_a108_e707841e9057level0_row0\" class=\"row_heading level0 row0\" >BILD_SRC_ONCOGENIC_SIGNATURE</th>\n",
       "                        <td id=\"T_66a7ade8_6882_11ec_a108_e707841e9057row0_col0\" class=\"data row0 col0\" >-1.453000</td>\n",
       "                        <td id=\"T_66a7ade8_6882_11ec_a108_e707841e9057row0_col1\" class=\"data row0 col1\" >2.483000</td>\n",
       "            </tr>\n",
       "            <tr>\n",
       "                        <th id=\"T_66a7ade8_6882_11ec_a108_e707841e9057level0_row1\" class=\"row_heading level0 row1\" >HP_HEREDITARY_NONPOLYPOSIS_COLORECTAL_CARCINOMA</th>\n",
       "                        <td id=\"T_66a7ade8_6882_11ec_a108_e707841e9057row1_col0\" class=\"data row1 col0\" >-0.663000</td>\n",
       "                        <td id=\"T_66a7ade8_6882_11ec_a108_e707841e9057row1_col1\" class=\"data row1 col1\" >2.705000</td>\n",
       "            </tr>\n",
       "            <tr>\n",
       "                        <th id=\"T_66a7ade8_6882_11ec_a108_e707841e9057level0_row2\" class=\"row_heading level0 row2\" >GOMF_RACEMASE_AND_EPIMERASE_ACTIVITY_ACTING_ON_CARBOHYDRATES_AND_DERIVATIVES</th>\n",
       "                        <td id=\"T_66a7ade8_6882_11ec_a108_e707841e9057row2_col0\" class=\"data row2 col0\" >-0.207000</td>\n",
       "                        <td id=\"T_66a7ade8_6882_11ec_a108_e707841e9057row2_col1\" class=\"data row2 col1\" >3.514000</td>\n",
       "            </tr>\n",
       "            <tr>\n",
       "                        <th id=\"T_66a7ade8_6882_11ec_a108_e707841e9057level0_row3\" class=\"row_heading level0 row3\" >GOMF_KINETOCHORE_BINDING</th>\n",
       "                        <td id=\"T_66a7ade8_6882_11ec_a108_e707841e9057row3_col0\" class=\"data row3 col0\" >-0.207000</td>\n",
       "                        <td id=\"T_66a7ade8_6882_11ec_a108_e707841e9057row3_col1\" class=\"data row3 col1\" >2.195000</td>\n",
       "            </tr>\n",
       "            <tr>\n",
       "                        <th id=\"T_66a7ade8_6882_11ec_a108_e707841e9057level0_row4\" class=\"row_heading level0 row4\" >PID_TRAIL_PATHWAY</th>\n",
       "                        <td id=\"T_66a7ade8_6882_11ec_a108_e707841e9057row4_col0\" class=\"data row4 col0\" >0.995000</td>\n",
       "                        <td id=\"T_66a7ade8_6882_11ec_a108_e707841e9057row4_col1\" class=\"data row4 col1\" >2.243000</td>\n",
       "            </tr>\n",
       "            <tr>\n",
       "                        <th id=\"T_66a7ade8_6882_11ec_a108_e707841e9057level0_row5\" class=\"row_heading level0 row5\" >HP_ABNORMAL_ANTERIOR_CHAMBER_MORPHOLOGY</th>\n",
       "                        <td id=\"T_66a7ade8_6882_11ec_a108_e707841e9057row5_col0\" class=\"data row5 col0\" >2.041000</td>\n",
       "                        <td id=\"T_66a7ade8_6882_11ec_a108_e707841e9057row5_col1\" class=\"data row5 col1\" >0.642000</td>\n",
       "            </tr>\n",
       "            <tr>\n",
       "                        <th id=\"T_66a7ade8_6882_11ec_a108_e707841e9057level0_row6\" class=\"row_heading level0 row6\" >GOMF_MANGANESE_ION_BINDING</th>\n",
       "                        <td id=\"T_66a7ade8_6882_11ec_a108_e707841e9057row6_col0\" class=\"data row6 col0\" >2.581000</td>\n",
       "                        <td id=\"T_66a7ade8_6882_11ec_a108_e707841e9057row6_col1\" class=\"data row6 col1\" >1.084000</td>\n",
       "            </tr>\n",
       "            <tr>\n",
       "                        <th id=\"T_66a7ade8_6882_11ec_a108_e707841e9057level0_row7\" class=\"row_heading level0 row7\" >GOBP_MITOCHONDRIAL_RESPIRATORY_CHAIN_COMPLEX_ASSEMBLY</th>\n",
       "                        <td id=\"T_66a7ade8_6882_11ec_a108_e707841e9057row7_col0\" class=\"data row7 col0\" >2.973000</td>\n",
       "                        <td id=\"T_66a7ade8_6882_11ec_a108_e707841e9057row7_col1\" class=\"data row7 col1\" >-0.772000</td>\n",
       "            </tr>\n",
       "            <tr>\n",
       "                        <th id=\"T_66a7ade8_6882_11ec_a108_e707841e9057level0_row8\" class=\"row_heading level0 row8\" >REACTOME_SYNTHESIS_OF_DIPHTHAMIDE_EEF2</th>\n",
       "                        <td id=\"T_66a7ade8_6882_11ec_a108_e707841e9057row8_col0\" class=\"data row8 col0\" >3.059000</td>\n",
       "                        <td id=\"T_66a7ade8_6882_11ec_a108_e707841e9057row8_col1\" class=\"data row8 col1\" >-0.249000</td>\n",
       "            </tr>\n",
       "            <tr>\n",
       "                        <th id=\"T_66a7ade8_6882_11ec_a108_e707841e9057level0_row9\" class=\"row_heading level0 row9\" >HP_KETONURIA</th>\n",
       "                        <td id=\"T_66a7ade8_6882_11ec_a108_e707841e9057row9_col0\" class=\"data row9 col0\" >3.267000</td>\n",
       "                        <td id=\"T_66a7ade8_6882_11ec_a108_e707841e9057row9_col1\" class=\"data row9 col1\" >-0.538000</td>\n",
       "            </tr>\n",
       "            <tr>\n",
       "                        <th id=\"T_66a7ade8_6882_11ec_a108_e707841e9057level0_row10\" class=\"row_heading level0 row10\" >GOBP_PEPTIDYL_HISTIDINE_MODIFICATION</th>\n",
       "                        <td id=\"T_66a7ade8_6882_11ec_a108_e707841e9057row10_col0\" class=\"data row10 col0\" >3.569000</td>\n",
       "                        <td id=\"T_66a7ade8_6882_11ec_a108_e707841e9057row10_col1\" class=\"data row10 col1\" >-0.333000</td>\n",
       "            </tr>\n",
       "            <tr>\n",
       "                        <th id=\"T_66a7ade8_6882_11ec_a108_e707841e9057level0_row11\" class=\"row_heading level0 row11\" >GOMF_CCR_CHEMOKINE_RECEPTOR_BINDING</th>\n",
       "                        <td id=\"T_66a7ade8_6882_11ec_a108_e707841e9057row11_col0\" class=\"data row11 col0\" >4.170000</td>\n",
       "                        <td id=\"T_66a7ade8_6882_11ec_a108_e707841e9057row11_col1\" class=\"data row11 col1\" >-0.165000</td>\n",
       "            </tr>\n",
       "    </tbody></table>"
      ],
      "text/plain": [
       "<pandas.io.formats.style.Styler at 0x7fa323f25a20>"
      ]
     },
     "execution_count": 135,
     "metadata": {},
     "output_type": "execute_result"
    }
   ],
   "source": [
    "df = ipd.clean_bins_range(\n",
    "    pd.concat([\n",
    "        ipd.read_pvmatrix(pvmat) for pvmat in [ \n",
    "            'hl60_delta_te/msigdb_v7.4_c5.all/pvmatrix.L.txt',\n",
    "        ]\n",
    "    ])\n",
    ")\n",
    "\n",
    "\n",
    "cols = df.columns\n",
    "\n",
    "df = pd.concat([df] + [\n",
    "    ipd.read_pvmatrix(pvmat).set_axis(cols, axis=1, inplace=False) \n",
    "    for pvmat in [ \n",
    "        # c5\n",
    "        'hl60_delta_te/msigdb_v7.4_c5.go.mf/pvmatrix.L.txt',\n",
    "        'hl60_delta_te/msigdb_v7.4_c5.go.mf/pvmatrix.R.txt',\n",
    "        'hl60_delta_te/msigdb_v7.4_c5.all/pvmatrix.R.txt',\n",
    "        'hl60_delta_te/msigdb_v7.4_c5.go/pvmatrix.L.txt',\n",
    "#         'hl60_delta_te/msigdb_v7.4_c5.go.bp/pvmatrix.L.txt',\n",
    "        'hl60_delta_te/msigdb_v7.4_c5.go.mf/pvmatrix.L.txt',\n",
    "        'hl60_delta_te/msigdb_v7.4_c5.go.mf/pvmatrix.R.txt', \n",
    "        # c2\n",
    "        'hl60_delta_te/msigdb_v7.4_c2.all/pvmatrix.L.txt',\n",
    "        'hl60_delta_te/msigdb_v7.4_c2.all/pvmatrix.R.txt',\n",
    "        'hl60_delta_te/msigdb_v7.4_c2.cgp/pvmatrix.R.txt',\n",
    "        'hl60_delta_te/msigdb_v7.4_c2.cp.pid/pvmatrix.R.txt',\n",
    "        'hl60_delta_te/msigdb_v7.4_c2.cp/pvmatrix.L.txt',\n",
    "        'hl60_delta_te/msigdb_v7.4_c2.cp.reactome/pvmatrix.L.txt'\n",
    "    ]]\n",
    ")\n",
    "\n",
    "df = df.groupby(df.index).first()\n",
    "ipd.style_clean_pvmatrix(df.iloc[:,[0,10]])"
   ]
  },
  {
   "cell_type": "code",
   "execution_count": 161,
   "metadata": {},
   "outputs": [],
   "source": [
    "df.index = [f'{x} {x}' for x in df.index]"
   ]
  },
  {
   "cell_type": "code",
   "execution_count": 162,
   "metadata": {},
   "outputs": [],
   "source": [
    "df.round(decimals=3).to_csv(\"hl60_delta_te_pvmatrix.txt\",sep = '\\t')"
   ]
  },
  {
   "cell_type": "code",
   "execution_count": 165,
   "metadata": {},
   "outputs": [
    {
     "name": "stdout",
     "output_type": "stream",
     "text": [
      "Reading matrix ... Done.\n",
      "Cluster rows .. best merge is 2, 3, 0.0291787397836764\n",
      "best merge is 2, 11, 0.0610110598508854\n",
      "best merge is 2, 9, 0.153290984481121\n",
      "best merge is 4, 6, 0.16525530851963\n",
      "best merge is 5, 7, 0.226917270733825\n",
      "best merge is 2, 5, 0.319597914831907\n",
      "best merge is 1, 2, 0.397812377435333\n",
      "best merge is 0, 4, 0.400169982748174\n",
      "order classes\n",
      "7 - 0.404546845499467\n",
      "2 - 0.495765925558889\n",
      "1 2 3 11 9 5 7\n",
      "0\n",
      "4 6\n",
      "8\n",
      "10\n",
      "Done.Start drawing\n",
      "0.5\t-0.5\n",
      "BILD_SRC_ONCOGENIC_SIGNATURE\n",
      "GOMF_KINETOCHORE_BINDING\n",
      "GOMF_RACEMASE_AND_EPIMERASE_ACTIVITY_ACTING_ON_CARBOHYDRATES_AND_DERIVATIVES\n",
      "PID_TRAIL_PATHWAY\n",
      "HP_HEREDITARY_NONPOLYPOSIS_COLORECTAL_CARCINOMA\n",
      "GOBP_MITOCHONDRIAL_RESPIRATORY_CHAIN_COMPLEX_ASSEMBLY\n",
      "GOBP_PEPTIDYL_HISTIDINE_MODIFICATION\n",
      "GOMF_CCR_CHEMOKINE_RECEPTOR_BINDING\n",
      "REACTOME_SYNTHESIS_OF_DIPHTHAMIDE_EEF2\n",
      "HP_KETONURIA\n",
      "GOMF_MANGANESE_ION_BINDING\n",
      "HP_ABNORMAL_ANTERIOR_CHAMBER_MORPHOLOGY\n",
      "Outputing EPS file hl60_delta_te.txt_PAGE/hl60_delta_te.txt.summary.eps\n",
      "Convert to PDF hl60_delta_te.txt_PAGE/hl60_delta_te.txt.summary.pdf\n",
      "Finished.\n",
      "‘hl60_delta_te.txt_PAGE/hl60_delta_te.txt.summary.pdf’ -> ‘hl60_delta_te.pdf’\n",
      "removed ‘hl60_delta_te.txt_PAGE/hl60_delta_te.txt.summary.eps’\n",
      "removed directory: ‘hl60_delta_te.txt_PAGE’\n"
     ]
    }
   ],
   "source": [
    "!bash ../ipage_draw_matrix.sh hl60_delta_te.txt hl60_delta_te_pvmatrix.txt"
   ]
  },
  {
   "cell_type": "code",
   "execution_count": 169,
   "metadata": {},
   "outputs": [],
   "source": [
    "!rm hl60_delta_te_pvmatrix.txt\n",
    "!mv hl60_delta_te.pdf plots/ipage_heatmap.pdf"
   ]
  },
  {
   "cell_type": "code",
   "execution_count": null,
   "metadata": {},
   "outputs": [],
   "source": [
    "!date"
   ]
  }
 ],
 "metadata": {
  "kernelspec": {
   "display_name": "R [conda env:deseq2]",
   "language": "R",
   "name": "conda-env-deseq2-r"
  },
  "language_info": {
   "codemirror_mode": "r",
   "file_extension": ".r",
   "mimetype": "text/x-r-source",
   "name": "R",
   "pygments_lexer": "r",
   "version": "4.1.1"
  }
 },
 "nbformat": 4,
 "nbformat_minor": 4
}
