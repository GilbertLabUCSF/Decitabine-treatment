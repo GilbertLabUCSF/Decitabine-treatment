{
 "cells": [
  {
   "cell_type": "markdown",
   "metadata": {
    "tags": []
   },
   "source": [
    "# ... RNA-Seq experiments"
   ]
  },
  {
   "cell_type": "markdown",
   "metadata": {},
   "source": [
    "I'm mapping `hg38/gencode.v34` to the `fastq` files using salmon. "
   ]
  },
  {
   "cell_type": "code",
   "execution_count": 27,
   "metadata": {
    "tags": []
   },
   "outputs": [
    {
     "name": "stdout",
     "output_type": "stream",
     "text": [
      "rsync -av rsync://ftp.sra.ebi.ac.uk/vol1/fastq/SRR321/006/SRR3214296/SRR3214296.fastq.gz .\n"
     ]
    }
   ],
   "source": [
    "cat fastq/download.sh | grep \"96\""
   ]
  },
  {
   "cell_type": "code",
   "execution_count": 13,
   "metadata": {
    "tags": []
   },
   "outputs": [
    {
     "name": "stdout",
     "output_type": "stream",
     "text": [
      "PDIR=$1\n",
      "FASTQDIR=$2\n",
      "quantsDir=$3\n",
      "INDEX=$4\n",
      "JOBS=$5\n",
      "\n",
      "cd $PDIR\n",
      "mkdir -p $quantsDir\n",
      "\n",
      "for f in $FASTQDIR/*fastq.gz; do \n",
      "\tsamp=`basename ${f}`; \n",
      "\tsamp=${samp/.fastq.gz/}; \n",
      "\techo \"Processing sample ${samp}\"; \n",
      "\tsalmon quant -i $INDEX \\\n",
      " \t-l A -r $f -p $JOBS --validateMappings -o $quantsDir/$samp; \n",
      "done\n"
     ]
    }
   ],
   "source": [
    "cat scripts/salmon.sh"
   ]
  },
  {
   "cell_type": "code",
   "execution_count": null,
   "metadata": {
    "tags": []
   },
   "outputs": [],
   "source": [
    "%%bash \n",
    "mkdir -p exp\n",
    "mkdir -p exp/quant\n",
    "\n",
    "nohup bash scripts/salmon.sh \\\n",
    ". \\\n",
    "fastq \\\n",
    "exp/quants \\\n",
    "~/genomes/hg38/gencode.v34/salmon_index/ \\\n",
    "40 &> salmon.out&"
   ]
  },
  {
   "cell_type": "code",
   "execution_count": 33,
   "metadata": {
    "tags": []
   },
   "outputs": [
    {
     "name": "stdout",
     "output_type": "stream",
     "text": [
      "96\n"
     ]
    }
   ],
   "source": [
    "cat SRR_Acc_List.txt | wc -l"
   ]
  },
  {
   "cell_type": "code",
   "execution_count": 22,
   "metadata": {
    "tags": []
   },
   "outputs": [],
   "source": [
    "!mkdir fastq_missing"
   ]
  },
  {
   "cell_type": "code",
   "execution_count": 23,
   "metadata": {
    "tags": []
   },
   "outputs": [],
   "source": [
    "cp fastq/SRR3214296.fastq.gz fastq_missing/"
   ]
  },
  {
   "cell_type": "code",
   "execution_count": 25,
   "metadata": {
    "collapsed": true,
    "jupyter": {
     "outputs_hidden": true
    },
    "tags": []
   },
   "outputs": [
    {
     "name": "stdout",
     "output_type": "stream",
     "text": [
      "Processing sample SRR3214296\n",
      "Version Info: Could not resolve upgrade information in the alotted time.\n",
      "Check for upgrades manually at https://combine-lab.github.io/salmon\n",
      "### salmon (mapping-based) v1.2.1\n",
      "### [ program ] => salmon \n",
      "### [ command ] => quant \n",
      "### [ index ] => { /data_gilbert/home/aarab/genomes/hg38/gencode.v34/salmon_index/ }\n",
      "### [ libType ] => { A }\n",
      "### [ unmatedReads ] => { fastq_missing//SRR3214296.fastq.gz }\n",
      "### [ threads ] => { 40 }\n",
      "### [ validateMappings ] => { }\n",
      "### [ output ] => { exp/quants/SRR3214296 }\n",
      "Logs will be written to exp/quants/SRR3214296/logs\n",
      "\u001b[00m[2024-03-04 18:41:31.225] [jointLog] [info] setting maxHashResizeThreads to 40\n",
      "\u001b[00m\u001b[00m[2024-03-04 18:41:31.225] [jointLog] [info] Fragment incompatibility prior below threshold.  Incompatible fragments will be ignored.\n",
      "\u001b[00m\u001b[00m[2024-03-04 18:41:31.225] [jointLog] [info] Usage of --validateMappings implies use of minScoreFraction. Since not explicitly specified, it is being set to 0.65\n",
      "\u001b[00m\u001b[00m[2024-03-04 18:41:31.225] [jointLog] [info] Usage of --validateMappings implies a default consensus slack of 0.2. Setting consensusSlack to 0.35.\n",
      "\u001b[00m\u001b[00m[2024-03-04 18:41:31.225] [jointLog] [info] parsing read library format\n",
      "\u001b[00m\u001b[00m[2024-03-04 18:41:31.225] [jointLog] [info] There is 1 library.\n",
      "\u001b[00m\u001b[00m[2024-03-04 18:41:31.371] [jointLog] [info] Loading pufferfish index\n",
      "\u001b[00m\u001b[00m[2024-03-04 18:41:31.371] [jointLog] [info] Loading dense pufferfish index.\n",
      "\u001b[00m-----------------------------------------\n",
      "| Loading contig table | Time = 808.3 ms\n",
      "-----------------------------------------\n",
      "size = 1433099\n",
      "-----------------------------------------\n",
      "| Loading contig offsets | Time = 3.5328 ms\n",
      "-----------------------------------------\n",
      "-----------------------------------------\n",
      "| Loading reference lengths | Time = 910.13 us\n",
      "-----------------------------------------\n",
      "-----------------------------------------\n",
      "| Loading mphf table | Time = 65.864 ms\n",
      "-----------------------------------------\n",
      "size = 183903461\n",
      "Number of ones: 1433098\n",
      "Number of ones per inventory item: 512\n",
      "Inventory entries filled: 2800\n",
      "-----------------------------------------\n",
      "| Loading contig boundaries | Time = 278.44 ms\n",
      "-----------------------------------------\n",
      "size = 183903461\n",
      "-----------------------------------------\n",
      "| Loading sequence | Time = 30.982 ms\n",
      "-----------------------------------------\n",
      "size = 140910521\n",
      "-----------------------------------------\n",
      "| Loading positions | Time = 437.21 ms\n",
      "-----------------------------------------\n",
      "size = 359738237\n",
      "-----------------------------------------\n",
      "| Loading reference sequence | Time = 58.307 ms\n",
      "-----------------------------------------\n",
      "-----------------------------------------\n",
      "| Loading reference accumulative lengths | Time = 1.6761 ms\n",
      "-----------------------------------------\n",
      "\u001b[00m[2024-03-04 18:41:33.058] [jointLog] [info] done\n",
      "\u001b[00m\u001b[00m[2024-03-04 18:41:33.058] [jointLog] [info] Index contained 227,201 targets\n",
      "\u001b[00m\u001b[00m[2024-03-04 18:41:33.144] [jointLog] [info] Number of decoys : 0\n",
      "\u001b[00m\n",
      "\n",
      "\n",
      "\n",
      "\u001b[00m[2024-03-04 18:41:33.928] [jointLog] [info] Automatically detected most likely library type as U\n",
      "\u001b[32mprocessed\u001b[31m 500,005 \u001b[32mfragments\u001b[0m\n",
      "\u001b[32mprocessed\u001b[31m 1,000,000 \u001b[32mfragments\u001b[0m\n",
      "\u001b[32mprocessed\u001b[31m 1,500,002 \u001b[32mfragments\u001b[0m\n",
      "\u001b[32mprocessed\u001b[31m 2,000,001 \u001b[32mfragments\u001b[0m\n",
      "\u001b[32mprocessed\u001b[31m 2,500,000 \u001b[32mfragments\u001b[0m\n",
      "\u001b[32mprocessed\u001b[31m 3,000,001 \u001b[32mfragments\u001b[0m\n",
      "\u001b[32mprocessed\u001b[31m 3,500,001 \u001b[32mfragments\u001b[0m\n",
      "\u001b[32mprocessed\u001b[31m 4,000,000 \u001b[32mfragments\u001b[0m\n",
      "\u001b[32mprocessed\u001b[31m 4,500,001 \u001b[32mfragments\u001b[0m\n",
      "\u001b[32mprocessed\u001b[31m 5,000,000 \u001b[32mfragments\u001b[0m\n",
      "\u001b[32mprocessed\u001b[31m 5,500,000 \u001b[32mfragments\u001b[0m\n",
      "\u001b[32mprocessed\u001b[31m 6,000,000 \u001b[32mfragments\u001b[0m\n",
      "\u001b[32mprocessed\u001b[31m 6,500,000 \u001b[32mfragments\u001b[0m\n",
      "\u001b[32mprocessed\u001b[31m 7,000,000 \u001b[32mfragments\u001b[0m\n",
      "\u001b[32mprocessed\u001b[31m 7,500,000 \u001b[32mfragments\u001b[0m\n",
      "\u001b[32mprocessed\u001b[31m 8,000,000 \u001b[32mfragments\u001b[0m\n",
      "\u001b[32mprocessed\u001b[31m 8,500,000 \u001b[32mfragments\u001b[0m\n",
      "\u001b[32mprocessed\u001b[31m 9,000,000 \u001b[32mfragments\u001b[0m\n",
      "\u001b[32mprocessed\u001b[31m 9,500,000 \u001b[32mfragments\u001b[0m\n",
      "\u001b[32mprocessed\u001b[31m 10,000,001 \u001b[32mfragments\u001b[0m\n",
      "\u001b[32mprocessed\u001b[31m 10,500,001 \u001b[32mfragments\u001b[0m\n",
      "\u001b[32mprocessed\u001b[31m 11,000,000 \u001b[32mfragments\u001b[0m\n",
      "\u001b[32mprocessed\u001b[31m 11,500,000 \u001b[32mfragments\u001b[0m\n",
      "\u001b[32mprocessed\u001b[31m 12,000,000 \u001b[32mfragments\u001b[0m\n",
      "\u001b[32mprocessed\u001b[31m 12,500,001 \u001b[32mfragments\u001b[0m\n",
      "\u001b[32mprocessed\u001b[31m 13,000,000 \u001b[32mfragments\u001b[0m\n",
      "\u001b[32mprocessed\u001b[31m 13,500,000 \u001b[32mfragments\u001b[0m\n",
      "hits: 13,858,944; hits per frag:  1.02732\u001b[31m\u001b[1m[2024-03-04 18:42:02.945] [jointLog] [error] \n",
      "\n",
      "\n",
      "\u001b[00m\u001b[31m\u001b[1m[2024-03-04 18:42:02.945] [jointLog] [error] Processing reads : Error reading from the FASTA/Q stream. Minimum return code for left and right read was (-2). Make sure the file is valid.\n",
      "\u001b[00m"
     ]
    }
   ],
   "source": [
    "!bash scripts/salmon.sh \\\n",
    ". \\\n",
    "fastq_missing/ \\\n",
    "exp/quants \\\n",
    "~/genomes/hg38/gencode.v34/salmon_index/ \\\n",
    "40"
   ]
  },
  {
   "cell_type": "code",
   "execution_count": 16,
   "metadata": {
    "tags": []
   },
   "outputs": [
    {
     "name": "stdout",
     "output_type": "stream",
     "text": [
      "-rw-rw-r--. 1 aarab aarab 10442600 Mar  4 15:49 exp/quants/SRR3214253/quant.sf\n",
      "-rw-rw-r--. 1 aarab aarab 10411548 Mar  4 15:49 exp/quants/SRR3214254/quant.sf\n",
      "-rw-rw-r--. 1 aarab aarab 10440634 Mar  4 15:50 exp/quants/SRR3214255/quant.sf\n",
      "-rw-rw-r--. 1 aarab aarab 10448874 Mar  4 15:50 exp/quants/SRR3214256/quant.sf\n",
      "-rw-rw-r--. 1 aarab aarab 10457737 Mar  4 15:52 exp/quants/SRR3214257/quant.sf\n",
      "-rw-rw-r--. 1 aarab aarab 10441382 Mar  4 15:52 exp/quants/SRR3214258/quant.sf\n",
      "-rw-rw-r--. 1 aarab aarab 10454963 Mar  4 15:53 exp/quants/SRR3214259/quant.sf\n",
      "-rw-rw-r--. 1 aarab aarab 10436567 Mar  4 15:54 exp/quants/SRR3214260/quant.sf\n",
      "-rw-rw-r--. 1 aarab aarab 10450740 Mar  4 15:55 exp/quants/SRR3214261/quant.sf\n",
      "-rw-rw-r--. 1 aarab aarab 10459171 Mar  4 15:56 exp/quants/SRR3214262/quant.sf\n",
      "-rw-rw-r--. 1 aarab aarab 10432308 Mar  4 15:56 exp/quants/SRR3214263/quant.sf\n",
      "-rw-rw-r--. 1 aarab aarab 10441773 Mar  4 15:57 exp/quants/SRR3214264/quant.sf\n",
      "-rw-rw-r--. 1 aarab aarab 10451287 Mar  4 15:58 exp/quants/SRR3214265/quant.sf\n",
      "-rw-rw-r--. 1 aarab aarab 10422497 Mar  4 15:58 exp/quants/SRR3214266/quant.sf\n",
      "-rw-rw-r--. 1 aarab aarab 10445698 Mar  4 15:59 exp/quants/SRR3214267/quant.sf\n",
      "-rw-rw-r--. 1 aarab aarab 10457329 Mar  4 16:00 exp/quants/SRR3214268/quant.sf\n",
      "-rw-rw-r--. 1 aarab aarab 10439284 Mar  4 16:01 exp/quants/SRR3214269/quant.sf\n",
      "-rw-rw-r--. 1 aarab aarab 10455576 Mar  4 16:02 exp/quants/SRR3214270/quant.sf\n",
      "-rw-rw-r--. 1 aarab aarab 10441451 Mar  4 16:03 exp/quants/SRR3214271/quant.sf\n",
      "-rw-rw-r--. 1 aarab aarab 10434584 Mar  4 16:03 exp/quants/SRR3214272/quant.sf\n",
      "-rw-rw-r--. 1 aarab aarab 10439033 Mar  4 16:04 exp/quants/SRR3214273/quant.sf\n",
      "-rw-rw-r--. 1 aarab aarab 10456778 Mar  4 16:05 exp/quants/SRR3214274/quant.sf\n",
      "-rw-rw-r--. 1 aarab aarab 10428795 Mar  4 16:05 exp/quants/SRR3214275/quant.sf\n",
      "-rw-rw-r--. 1 aarab aarab 10451950 Mar  4 16:06 exp/quants/SRR3214276/quant.sf\n",
      "-rw-rw-r--. 1 aarab aarab 10458481 Mar  4 16:07 exp/quants/SRR3214277/quant.sf\n",
      "-rw-rw-r--. 1 aarab aarab 10427968 Mar  4 16:08 exp/quants/SRR3214278/quant.sf\n",
      "-rw-rw-r--. 1 aarab aarab 10456236 Mar  4 16:08 exp/quants/SRR3214279/quant.sf\n",
      "-rw-rw-r--. 1 aarab aarab 10445247 Mar  4 16:09 exp/quants/SRR3214280/quant.sf\n",
      "-rw-rw-r--. 1 aarab aarab 10430046 Mar  4 16:10 exp/quants/SRR3214281/quant.sf\n",
      "-rw-rw-r--. 1 aarab aarab 10439814 Mar  4 16:10 exp/quants/SRR3214282/quant.sf\n",
      "-rw-rw-r--. 1 aarab aarab 10455743 Mar  4 16:12 exp/quants/SRR3214283/quant.sf\n",
      "-rw-rw-r--. 1 aarab aarab 10434998 Mar  4 16:13 exp/quants/SRR3214284/quant.sf\n",
      "-rw-rw-r--. 1 aarab aarab 10444548 Mar  4 16:13 exp/quants/SRR3214285/quant.sf\n",
      "-rw-rw-r--. 1 aarab aarab 10459775 Mar  4 16:15 exp/quants/SRR3214286/quant.sf\n",
      "-rw-rw-r--. 1 aarab aarab 10452242 Mar  4 16:16 exp/quants/SRR3214288/quant.sf\n",
      "-rw-rw-r--. 1 aarab aarab 10461492 Mar  4 16:17 exp/quants/SRR3214289/quant.sf\n",
      "-rw-rw-r--. 1 aarab aarab 10432553 Mar  4 16:18 exp/quants/SRR3214290/quant.sf\n",
      "-rw-rw-r--. 1 aarab aarab 10456589 Mar  4 16:19 exp/quants/SRR3214291/quant.sf\n",
      "-rw-rw-r--. 1 aarab aarab 10443498 Mar  4 16:19 exp/quants/SRR3214292/quant.sf\n",
      "-rw-rw-r--. 1 aarab aarab 10438314 Mar  4 16:20 exp/quants/SRR3214293/quant.sf\n",
      "-rw-rw-r--. 1 aarab aarab 10444396 Mar  4 16:21 exp/quants/SRR3214294/quant.sf\n",
      "-rw-rw-r--. 1 aarab aarab 10449532 Mar  4 16:22 exp/quants/SRR3214295/quant.sf\n",
      "-rw-rw-r--. 1 aarab aarab 10449553 Mar  4 16:23 exp/quants/SRR3214297/quant.sf\n",
      "-rw-rw-r--. 1 aarab aarab 10457885 Mar  4 16:24 exp/quants/SRR3214298/quant.sf\n",
      "-rw-rw-r--. 1 aarab aarab 10436901 Mar  4 16:25 exp/quants/SRR3214299/quant.sf\n",
      "-rw-rw-r--. 1 aarab aarab 10454861 Mar  4 16:26 exp/quants/SRR3214300/quant.sf\n",
      "-rw-rw-r--. 1 aarab aarab 10455388 Mar  4 16:27 exp/quants/SRR3214301/quant.sf\n",
      "-rw-rw-r--. 1 aarab aarab 10433458 Mar  4 16:28 exp/quants/SRR3214302/quant.sf\n",
      "-rw-rw-r--. 1 aarab aarab 10448868 Mar  4 16:29 exp/quants/SRR3214303/quant.sf\n",
      "-rw-rw-r--. 1 aarab aarab 10453001 Mar  4 16:30 exp/quants/SRR3214304/quant.sf\n",
      "-rw-rw-r--. 1 aarab aarab 10428546 Mar  4 16:30 exp/quants/SRR3214305/quant.sf\n",
      "-rw-rw-r--. 1 aarab aarab 10445374 Mar  4 16:31 exp/quants/SRR3214306/quant.sf\n",
      "-rw-rw-r--. 1 aarab aarab 10469699 Mar  4 16:33 exp/quants/SRR3214307/quant.sf\n",
      "-rw-rw-r--. 1 aarab aarab 10431829 Mar  4 16:34 exp/quants/SRR3214308/quant.sf\n",
      "-rw-rw-r--. 1 aarab aarab 10456315 Mar  4 16:35 exp/quants/SRR3214309/quant.sf\n",
      "-rw-rw-r--. 1 aarab aarab 10459380 Mar  4 16:36 exp/quants/SRR3214310/quant.sf\n",
      "-rw-rw-r--. 1 aarab aarab 10410156 Mar  4 16:37 exp/quants/SRR3214311/quant.sf\n",
      "-rw-rw-r--. 1 aarab aarab 10451621 Mar  4 16:38 exp/quants/SRR3214312/quant.sf\n",
      "-rw-rw-r--. 1 aarab aarab 10436130 Mar  4 16:39 exp/quants/SRR3214314/quant.sf\n",
      "-rw-rw-r--. 1 aarab aarab 10451978 Mar  4 16:40 exp/quants/SRR3214315/quant.sf\n",
      "-rw-rw-r--. 1 aarab aarab 10444329 Mar  4 16:41 exp/quants/SRR3214316/quant.sf\n",
      "-rw-rw-r--. 1 aarab aarab 10437611 Mar  4 16:42 exp/quants/SRR3214317/quant.sf\n",
      "-rw-rw-r--. 1 aarab aarab 10439815 Mar  4 16:42 exp/quants/SRR3214318/quant.sf\n",
      "-rw-rw-r--. 1 aarab aarab 10446979 Mar  4 16:43 exp/quants/SRR3214319/quant.sf\n",
      "-rw-rw-r--. 1 aarab aarab 10436709 Mar  4 16:44 exp/quants/SRR3214320/quant.sf\n",
      "-rw-rw-r--. 1 aarab aarab 10431049 Mar  4 16:44 exp/quants/SRR3214321/quant.sf\n",
      "-rw-rw-r--. 1 aarab aarab 10453767 Mar  4 16:45 exp/quants/SRR3214322/quant.sf\n",
      "-rw-rw-r--. 1 aarab aarab 10445729 Mar  4 16:46 exp/quants/SRR3214323/quant.sf\n",
      "-rw-rw-r--. 1 aarab aarab 10450275 Mar  4 16:47 exp/quants/SRR3214324/quant.sf\n",
      "-rw-rw-r--. 1 aarab aarab 10436132 Mar  4 16:48 exp/quants/SRR3214325/quant.sf\n",
      "-rw-rw-r--. 1 aarab aarab 10447471 Mar  4 16:49 exp/quants/SRR3214326/quant.sf\n",
      "-rw-rw-r--. 1 aarab aarab 10437155 Mar  4 16:50 exp/quants/SRR3214327/quant.sf\n",
      "-rw-rw-r--. 1 aarab aarab 10454449 Mar  4 16:51 exp/quants/SRR3214328/quant.sf\n",
      "-rw-rw-r--. 1 aarab aarab 10452159 Mar  4 16:52 exp/quants/SRR3214329/quant.sf\n",
      "-rw-rw-r--. 1 aarab aarab 10452858 Mar  4 16:53 exp/quants/SRR3214330/quant.sf\n",
      "-rw-rw-r--. 1 aarab aarab 10453355 Mar  4 16:54 exp/quants/SRR3214332/quant.sf\n",
      "-rw-rw-r--. 1 aarab aarab 10446929 Mar  4 16:55 exp/quants/SRR3214333/quant.sf\n",
      "-rw-rw-r--. 1 aarab aarab 10451374 Mar  4 16:56 exp/quants/SRR3214334/quant.sf\n",
      "-rw-rw-r--. 1 aarab aarab 10445507 Mar  4 16:57 exp/quants/SRR3214335/quant.sf\n",
      "-rw-rw-r--. 1 aarab aarab 10448153 Mar  4 16:58 exp/quants/SRR3214336/quant.sf\n",
      "-rw-rw-r--. 1 aarab aarab 10447819 Mar  4 16:59 exp/quants/SRR3214337/quant.sf\n",
      "-rw-rw-r--. 1 aarab aarab 10450580 Mar  4 17:01 exp/quants/SRR3214338/quant.sf\n",
      "-rw-rw-r--. 1 aarab aarab 10453744 Mar  4 17:02 exp/quants/SRR3214339/quant.sf\n",
      "-rw-rw-r--. 1 aarab aarab 10445751 Mar  4 17:03 exp/quants/SRR3214340/quant.sf\n",
      "-rw-rw-r--. 1 aarab aarab 10445298 Mar  4 17:03 exp/quants/SRR3214341/quant.sf\n",
      "-rw-rw-r--. 1 aarab aarab 10451090 Mar  4 17:04 exp/quants/SRR3214342/quant.sf\n",
      "-rw-rw-r--. 1 aarab aarab 10439698 Mar  4 17:05 exp/quants/SRR3214343/quant.sf\n",
      "-rw-rw-r--. 1 aarab aarab 10444229 Mar  4 17:06 exp/quants/SRR3214344/quant.sf\n",
      "-rw-rw-r--. 1 aarab aarab 10439592 Mar  4 17:07 exp/quants/SRR3214345/quant.sf\n",
      "-rw-rw-r--. 1 aarab aarab 10439099 Mar  4 17:08 exp/quants/SRR3214346/quant.sf\n",
      "-rw-rw-r--. 1 aarab aarab 10441760 Mar  4 17:09 exp/quants/SRR3214347/quant.sf\n",
      "-rw-rw-r--. 1 aarab aarab 10445614 Mar  4 17:10 exp/quants/SRR3214348/quant.sf\n"
     ]
    }
   ],
   "source": [
    "ls -l exp/quants/*/quant.sf"
   ]
  },
  {
   "cell_type": "code",
   "execution_count": null,
   "metadata": {
    "tags": []
   },
   "outputs": [],
   "source": [
    "cat salmon.out | grep \"Mapping rate\" | wc -l"
   ]
  },
  {
   "cell_type": "markdown",
   "metadata": {},
   "source": [
    "___"
   ]
  },
  {
   "cell_type": "markdown",
   "metadata": {
    "tags": []
   },
   "source": [
    "## Load packages and functions"
   ]
  },
  {
   "cell_type": "code",
   "execution_count": 1,
   "metadata": {
    "tags": []
   },
   "outputs": [],
   "source": [
    "# %load_ext rpy2.ipython"
   ]
  },
  {
   "cell_type": "code",
   "execution_count": 2,
   "metadata": {
    "tags": []
   },
   "outputs": [],
   "source": [
    "# %%R \n",
    "suppressMessages(suppressWarnings(library (GenomicFeatures)))\n",
    "suppressMessages(suppressWarnings(library (tximport)))\n",
    "suppressMessages(suppressWarnings(library (tidyverse)))\n",
    "suppressMessages(suppressWarnings(library (ggplot2)))\n",
    "suppressMessages(suppressWarnings(library (ggrepel)))\n",
    "suppressMessages(suppressWarnings(library (DESeq2)))\n",
    "suppressMessages(suppressWarnings(library (patchwork)))\n",
    "suppressMessages(suppressWarnings(library (BiocParallel)))\n",
    "suppressMessages(suppressWarnings(library(gridExtra)))\n",
    "library(grid)\n",
    "library(ggthemes)\n",
    "\n",
    "register(MulticoreParam(18))"
   ]
  },
  {
   "cell_type": "code",
   "execution_count": 3,
   "metadata": {
    "tags": []
   },
   "outputs": [],
   "source": [
    "source(\"../scripts/util.R\")"
   ]
  },
  {
   "cell_type": "markdown",
   "metadata": {},
   "source": [
    "- https://medium.com/analytics-vidhya/ggplot2-themes-for-publication-ready-plots-including-dark-themes-9cd65cc5a7e3\n",
    "\n",
    "- https://rpubs.com/Koundy/71792"
   ]
  },
  {
   "cell_type": "code",
   "execution_count": 4,
   "metadata": {
    "tags": []
   },
   "outputs": [],
   "source": [
    "# Filter non-informative genes:\n",
    "filter_low_counts <- function (dds_in , min_count=10){\n",
    "    # all samples with a count of higher than `min_count`\n",
    "    keep <- rowSums(counts(dds_in ) > min_count) == ncol(dds_in )\n",
    "    # at least 3 samples with a count of 10 or higher\n",
    "    # keep <- rowSums(counts(dds) >= 10) >= 3\n",
    "    dds_out <- dds_in [keep,]\n",
    "    print (paste (nrow(dds_in), 'genes filtered to ->' , nrow(dds_out),'genes!', sep=' ') )\n",
    "    return (dds_out)\n",
    "}\n",
    "\n",
    "\n",
    "plot_PCA <- function(vsd, colData, labels='', gr=c('cond'), title='', leg=\"none\"){\n",
    "    z <- plotPCA(vsd,intgroup=gr, returnData=TRUE)\n",
    "    percentVar <- round(100 * attr(z, \"percentVar\"))\n",
    "    pca <- ggplot(z, aes(PC1, PC2)) +\n",
    "            geom_point(aes(colour=group), alpha = 4/10,size=12) + \n",
    "            geom_point(shape = 1,size = 12,colour = \"black\") + \n",
    "            # geom_point(\n",
    "            #     aes(color=group), \n",
    "            #     \n",
    "            # size=10,\n",
    "            # stroke = 0.5\n",
    "            # ) +\n",
    "            geom_text_repel(\n",
    "                aes(label = labels),\n",
    "                box.padding = 1.5, max.overlaps = Inf\n",
    "            ) + #,size = 3.5)) +\n",
    "            xlab(paste0(\"PC1: \",percentVar[1],\"% variance\")) +\n",
    "            ylab(paste0(\"PC2: \",percentVar[2],\"% variance\")) +\n",
    "            ggtitle (title) + \n",
    "            scale_colour_Publication() + \n",
    "            theme_Publication(legend.position='top') +\n",
    "            guides (size = 'none') + theme(legend.title = element_blank()) \n",
    "    return (pca)\n",
    "}"
   ]
  },
  {
   "cell_type": "code",
   "execution_count": 5,
   "metadata": {
    "tags": []
   },
   "outputs": [],
   "source": [
    "write_Result <- function(res, name_it, col=FALSE, row=FALSE){\n",
    "    write.table(res,name_it, sep=\"\\t\", quote=FALSE, col.names=col, row.names=row)\n",
    "}\n",
    "\n",
    "\n",
    "correct_batch <- function (dds,gr,out,labels='',title=''){\n",
    "    vsd <- varianceStabilizingTransformation(dds, blind=FALSE)\n",
    "    p0 <- plot_PCA(vsd, gr, labels=labels,title=paste0(title,' Before removeBatchEffect'))\n",
    "    mat <- assay(vsd)\n",
    "    \n",
    "    mat <- limma::removeBatchEffect(mat, vsd$reps) # batch is same as time \n",
    "    assay(vsd) <- mat\n",
    "    p1 <- plot_PCA(vsd, gr, labels=labels,title=paste0(title,' After removeBatchEffect'))\n",
    "    counts_batch_corrected <- assay(vsd)\n",
    "    \n",
    "    if (out == 'plot') {return (p0 + p1)}\n",
    "    if (out == 'plot1'){return (p1)}\n",
    "    if (out == 'vsd')  {return (vsd)}\n",
    "    if (out == 'cbc')  {return (counts_batch_corrected)}\n",
    "}\n",
    "\n",
    "\n",
    "ann_Result <- function(res){\n",
    "    return (\n",
    "        res %>% data.frame %>% \n",
    "        add_column(gene_name=gene2name[rownames(res),]) %>%\n",
    "        add_column(gene_id=rownames(res)) %>% \n",
    "        select (gene_id,gene_name,everything())\n",
    "    )\n",
    "}\n",
    "\n",
    "plot_gene_counts <- function (dds, gene_id,gene_name){\n",
    "    fiss <- plotCounts(dds, gene_id, intgroup = c(\"cond\"), returnData = TRUE)\n",
    "\n",
    "    p <- ggplot(fiss,\n",
    "      aes(x = cond, y = count, color = cond)) + \n",
    "      geom_point(size=5,alpha=8/10) + stat_summary(fun=mean, geom=\"line\") +\n",
    "      scale_y_log10() + \n",
    "      theme_bw() + \n",
    "      ggtitle(gene_name)\n",
    "    \n",
    "    return (p + theme_Publication())\n",
    "}"
   ]
  },
  {
   "cell_type": "markdown",
   "metadata": {
    "tags": []
   },
   "source": [
    "## Load annotations"
   ]
  },
  {
   "cell_type": "code",
   "execution_count": 6,
   "metadata": {
    "tags": []
   },
   "outputs": [
    {
     "name": "stderr",
     "output_type": "stream",
     "text": [
      "Import genomic features from the file as a GRanges object ... \n",
      "OK\n",
      "\n",
      "Prepare the 'metadata' data frame ... \n",
      "OK\n",
      "\n",
      "Make the TxDb object ... \n",
      "Warning message in .get_cds_IDX(mcols0$type, mcols0$phase):\n",
      "“The \"phase\" metadata column contains non-NA values for features of type\n",
      "  stop_codon. This information was ignored.”\n",
      "OK\n",
      "\n",
      "'select()' returned 1:1 mapping between keys and columns\n",
      "\n"
     ]
    }
   ],
   "source": [
    "# %%R\n",
    "GTF = '~/genomes/hg38/gencode.v34/gencode.v34.annotation.gtf'\n",
    "gtf <- rtracklayer::import(GTF)\n",
    "gene2name <- gtf[gtf$type == \"gene\"] %>% \n",
    "    data.frame %>% \n",
    "    column_to_rownames('gene_id') %>% \n",
    "    dplyr::select('gene_name')\n",
    "\n",
    "txdb  = makeTxDbFromGFF(GTF,organism='Homo sapiens')\n",
    "# tx2gene objects \n",
    "k <- keys(txdb, keytype = \"TXNAME\")\n",
    "tx2gene <- AnnotationDbi::select(txdb, k, \"GENEID\", \"TXNAME\")"
   ]
  },
  {
   "cell_type": "code",
   "execution_count": 7,
   "metadata": {
    "tags": []
   },
   "outputs": [],
   "source": [
    "# %%R \n",
    "tx2name <- gtf[gtf$type == \"transcript\"] %>% \n",
    "    data.frame %>% column_to_rownames('transcript_id') %>% \n",
    "    dplyr::select('transcript_name')"
   ]
  },
  {
   "cell_type": "markdown",
   "metadata": {
    "tags": []
   },
   "source": [
    "## Load salmon quant files"
   ]
  },
  {
   "cell_type": "markdown",
   "metadata": {},
   "source": [
    "List every salmon quant files"
   ]
  },
  {
   "cell_type": "code",
   "execution_count": 8,
   "metadata": {
    "tags": []
   },
   "outputs": [],
   "source": [
    "# %%R\n",
    "files <- list.files(path='./exp/quants', pattern=\"quant.sf\",full.names = TRUE, recursive=T)\n",
    "names(files) <- gsub(\"./exp/quants/(\\\\S+)/quant.sf\",\"\\\\1\",files)"
   ]
  },
  {
   "cell_type": "code",
   "execution_count": 125,
   "metadata": {
    "tags": []
   },
   "outputs": [],
   "source": [
    "# txi <- tximport(files, type = \"salmon\", tx2gene = tx2gene, txOut=TRUE)\n",
    "\n",
    "# txi.gene <- summarizeToGene(txi, tx2gene, ignoreAfterBar= TRUE)"
   ]
  },
  {
   "cell_type": "markdown",
   "metadata": {
    "tags": []
   },
   "source": [
    "### Define sample sheet"
   ]
  },
  {
   "cell_type": "code",
   "execution_count": 172,
   "metadata": {
    "tags": []
   },
   "outputs": [],
   "source": [
    "meta = read.table('SraRunTable.txt',sep = ',', header = T) %>%\n",
    "    column_to_rownames('Run') %>% select(c('source_name','induction','Time'))\n",
    "\n",
    "meta = meta[names(files),]\n",
    "\n",
    "meta = meta %>% \n",
    "    # mutate(condition=paste(source_name,induction,Time, sep = '_')) %>%\n",
    "    mutate(condition=source_name) %>%\n",
    "    select(-c(source_name)) %>%\n",
    "    mutate(Time=str_replace(Time,' hr','h')) %>%\n",
    "    mutate(condition=str_replace(condition,' ','_')) %>%\n",
    "    mutate(condition=str_replace(condition,'-',''))"
   ]
  },
  {
   "cell_type": "markdown",
   "metadata": {},
   "source": [
    "#### Make `DESeq` object and run test"
   ]
  },
  {
   "cell_type": "code",
   "execution_count": 244,
   "metadata": {
    "tags": []
   },
   "outputs": [],
   "source": [
    "run_deseq <- function(me,cond_name){\n",
    "    txi <- tximport(\n",
    "        files[me %>% rownames], \n",
    "        type = \"salmon\", tx2gene = tx2gene, txOut=TRUE\n",
    "    )\n",
    "\n",
    "    txi.gene <- summarizeToGene(txi, tx2gene, ignoreAfterBar= TRUE)\n",
    "\n",
    "    dds <- DESeqDataSetFromTximport(\n",
    "        txi.gene,\n",
    "        me,\n",
    "        design=~Time\n",
    "    )\n",
    "\n",
    "    dds <- estimateSizeFactors(dds)\n",
    "\n",
    "    dds = DESeq(dds)\n",
    "    \n",
    "    RES = list()\n",
    "\n",
    "    for (res_name in resultsNames(dds)[2:8]){\n",
    "        print(res_name)\n",
    "\n",
    "        res = results(dds, name = res_name)\n",
    "\n",
    "        res %>% summary\n",
    "\n",
    "        RES[[paste0(cond_name,res_name)]] = res\n",
    "\n",
    "    }\n",
    "    \n",
    "    # temp file for running iPAGE \n",
    "    # write results \n",
    "    for (name in names(RES)){\n",
    "        print (name)\n",
    "        # write results \n",
    "        RES[[name]] %>% ann_Result %>%\n",
    "            mutate(log2FoldChange = replace_na(log2FoldChange, 0)) %>% remove_rownames %>% \n",
    "            dplyr::select('gene_name','log2FoldChange') %>% \n",
    "            write_Result(paste('exp/res_',name,'_delta_exp.txt', sep=''),col=TRUE)\n",
    "    }\n",
    "\n",
    "    for (name in names(RES)){\n",
    "        print (name)\n",
    "        # write results \n",
    "        RES[[name]] %>% ann_Result %>%\n",
    "            arrange(gene_name) %>% \n",
    "            dplyr::select('gene_id','gene_name','log2FoldChange','pvalue',everything()) %>% \n",
    "            write_Result(paste('exp/res_',name,'_delta_exp_table.txt', sep=''),col=TRUE)\n",
    "    }\n",
    "}"
   ]
  },
  {
   "cell_type": "markdown",
   "metadata": {},
   "source": [
    "### Neutrophil"
   ]
  },
  {
   "cell_type": "code",
   "execution_count": 249,
   "metadata": {
    "tags": []
   },
   "outputs": [
    {
     "name": "stderr",
     "output_type": "stream",
     "text": [
      "reading in files with read_tsv\n",
      "\n",
      "1 \n",
      "2 \n",
      "3 \n",
      "4 \n",
      "5 \n",
      "6 \n",
      "7 \n",
      "8 \n",
      "9 \n",
      "10 \n",
      "11 \n",
      "12 \n",
      "13 \n",
      "14 \n",
      "15 \n",
      "16 \n",
      "17 \n",
      "18 \n",
      "19 \n",
      "20 \n",
      "21 \n",
      "22 \n",
      "23 \n",
      "\n",
      "\n",
      "summarizing abundance\n",
      "\n",
      "summarizing counts\n",
      "\n",
      "summarizing length\n",
      "\n",
      "Warning message in DESeqDataSet(se, design = design, ignoreRank):\n",
      "“some variables in design formula are characters, converting to factors”\n",
      "using counts and average transcript lengths from tximport\n",
      "\n",
      "using 'avgTxLength' from assays(dds), correcting for library size\n",
      "\n",
      "using pre-existing normalization factors\n",
      "\n",
      "estimating dispersions\n",
      "\n",
      "gene-wise dispersion estimates\n",
      "\n",
      "mean-dispersion relationship\n",
      "\n",
      "final dispersion estimates\n",
      "\n",
      "fitting model and testing\n",
      "\n"
     ]
    },
    {
     "name": "stdout",
     "output_type": "stream",
     "text": [
      "[1] \"Time_120h_vs_0h\"\n",
      "\n",
      "out of 37715 with nonzero total read count\n",
      "adjusted p-value < 0.1\n",
      "LFC > 0 (up)       : 925, 2.5%\n",
      "LFC < 0 (down)     : 472, 1.3%\n",
      "outliers [1]       : 629, 1.7%\n",
      "low counts [2]     : 19116, 51%\n",
      "(mean count < 5)\n",
      "[1] see 'cooksCutoff' argument of ?results\n",
      "[2] see 'independentFiltering' argument of ?results\n",
      "\n",
      "[1] \"Time_12h_vs_0h\"\n",
      "\n",
      "out of 37715 with nonzero total read count\n",
      "adjusted p-value < 0.1\n",
      "LFC > 0 (up)       : 117, 0.31%\n",
      "LFC < 0 (down)     : 36, 0.095%\n",
      "outliers [1]       : 629, 1.7%\n",
      "low counts [2]     : 21942, 58%\n",
      "(mean count < 11)\n",
      "[1] see 'cooksCutoff' argument of ?results\n",
      "[2] see 'independentFiltering' argument of ?results\n",
      "\n",
      "[1] \"Time_24h_vs_0h\"\n",
      "\n",
      "out of 37715 with nonzero total read count\n",
      "adjusted p-value < 0.1\n",
      "LFC > 0 (up)       : 529, 1.4%\n",
      "LFC < 0 (down)     : 381, 1%\n",
      "outliers [1]       : 629, 1.7%\n",
      "low counts [2]     : 18410, 49%\n",
      "(mean count < 4)\n",
      "[1] see 'cooksCutoff' argument of ?results\n",
      "[2] see 'independentFiltering' argument of ?results\n",
      "\n",
      "[1] \"Time_3h_vs_0h\"\n",
      "\n",
      "out of 37715 with nonzero total read count\n",
      "adjusted p-value < 0.1\n",
      "LFC > 0 (up)       : 61, 0.16%\n",
      "LFC < 0 (down)     : 86, 0.23%\n",
      "outliers [1]       : 629, 1.7%\n",
      "low counts [2]     : 16996, 45%\n",
      "(mean count < 3)\n",
      "[1] see 'cooksCutoff' argument of ?results\n",
      "[2] see 'independentFiltering' argument of ?results\n",
      "\n",
      "[1] \"Time_48h_vs_0h\"\n",
      "\n",
      "out of 37715 with nonzero total read count\n",
      "adjusted p-value < 0.1\n",
      "LFC > 0 (up)       : 1073, 2.8%\n",
      "LFC < 0 (down)     : 698, 1.9%\n",
      "outliers [1]       : 629, 1.7%\n",
      "low counts [2]     : 18410, 49%\n",
      "(mean count < 4)\n",
      "[1] see 'cooksCutoff' argument of ?results\n",
      "[2] see 'independentFiltering' argument of ?results\n",
      "\n",
      "[1] \"Time_6h_vs_0h\"\n",
      "\n",
      "out of 37715 with nonzero total read count\n",
      "adjusted p-value < 0.1\n",
      "LFC > 0 (up)       : 656, 1.7%\n",
      "LFC < 0 (down)     : 246, 0.65%\n",
      "outliers [1]       : 629, 1.7%\n",
      "low counts [2]     : 19116, 51%\n",
      "(mean count < 5)\n",
      "[1] see 'cooksCutoff' argument of ?results\n",
      "[2] see 'independentFiltering' argument of ?results\n",
      "\n",
      "[1] \"Time_96h_vs_0h\"\n",
      "\n",
      "out of 37715 with nonzero total read count\n",
      "adjusted p-value < 0.1\n",
      "LFC > 0 (up)       : 1704, 4.5%\n",
      "LFC < 0 (down)     : 1196, 3.2%\n",
      "outliers [1]       : 629, 1.7%\n",
      "low counts [2]     : 19116, 51%\n",
      "(mean count < 5)\n",
      "[1] see 'cooksCutoff' argument of ?results\n",
      "[2] see 'independentFiltering' argument of ?results\n",
      "\n",
      "[1] \"MonocyteTime_120h_vs_0h\"\n",
      "[1] \"MonocyteTime_12h_vs_0h\"\n",
      "[1] \"MonocyteTime_24h_vs_0h\"\n",
      "[1] \"MonocyteTime_3h_vs_0h\"\n",
      "[1] \"MonocyteTime_48h_vs_0h\"\n",
      "[1] \"MonocyteTime_6h_vs_0h\"\n",
      "[1] \"MonocyteTime_96h_vs_0h\"\n",
      "[1] \"MonocyteTime_120h_vs_0h\"\n",
      "[1] \"MonocyteTime_12h_vs_0h\"\n",
      "[1] \"MonocyteTime_24h_vs_0h\"\n",
      "[1] \"MonocyteTime_3h_vs_0h\"\n",
      "[1] \"MonocyteTime_48h_vs_0h\"\n",
      "[1] \"MonocyteTime_6h_vs_0h\"\n",
      "[1] \"MonocyteTime_96h_vs_0h\"\n"
     ]
    }
   ],
   "source": [
    "run_deseq(\n",
    "    meta %>% \n",
    "        filter(condition %in% c('HL60','Monocyte')) %>%\n",
    "        filter(induction %in% c('None','PMA','DMSO/ATRA','Vitamin D3')),\n",
    "    \n",
    "    'Monocyte'\n",
    ")"
   ]
  },
  {
   "cell_type": "code",
   "execution_count": null,
   "metadata": {
    "tags": []
   },
   "outputs": [],
   "source": []
  },
  {
   "cell_type": "code",
   "execution_count": null,
   "metadata": {
    "tags": []
   },
   "outputs": [],
   "source": []
  },
  {
   "cell_type": "markdown",
   "metadata": {},
   "source": [
    "### "
   ]
  },
  {
   "cell_type": "code",
   "execution_count": null,
   "metadata": {
    "tags": []
   },
   "outputs": [],
   "source": [
    "dds_Neutrophil = run_deseq(\n",
    "    meta %>% \n",
    "        filter(condition %in% c('HL60','Neutrophil')) %>%\n",
    "        filter(induction %in% c('None','PMA','DMSO/ATRA','Vitamin D3'))\n",
    ")"
   ]
  },
  {
   "cell_type": "markdown",
   "metadata": {},
   "source": [
    "### "
   ]
  },
  {
   "cell_type": "code",
   "execution_count": 235,
   "metadata": {
    "tags": []
   },
   "outputs": [
    {
     "name": "stdout",
     "output_type": "stream",
     "text": [
      "[1] \"Neutrophil_Time_120h_vs_0h\"\n",
      "[1] \"Neutrophil_Time_12h_vs_0h\"\n",
      "[1] \"Neutrophil_Time_24h_vs_0h\"\n",
      "[1] \"Neutrophil_Time_3h_vs_0h\"\n",
      "[1] \"Neutrophil_Time_48h_vs_0h\"\n",
      "[1] \"Neutrophil_Time_6h_vs_0h\"\n",
      "[1] \"Neutrophil_Time_96h_vs_0h\"\n"
     ]
    }
   ],
   "source": [
    "# temp file for running iPAGE \n",
    "# write results \n",
    "for (name in names(RES)){\n",
    "    print (name)\n",
    "    # write results \n",
    "    RES[[name]] %>% ann_Result %>%\n",
    "        mutate(log2FoldChange = replace_na(log2FoldChange, 0)) %>% remove_rownames %>% \n",
    "        dplyr::select('gene_name','log2FoldChange') %>% \n",
    "        write_Result(paste('exp/res_',name,'_delta_exp.txt', sep=''),col=TRUE)\n",
    "}"
   ]
  },
  {
   "cell_type": "code",
   "execution_count": 236,
   "metadata": {
    "tags": []
   },
   "outputs": [
    {
     "name": "stdout",
     "output_type": "stream",
     "text": [
      "[1] \"Neutrophil_Time_120h_vs_0h\"\n",
      "[1] \"Neutrophil_Time_12h_vs_0h\"\n",
      "[1] \"Neutrophil_Time_24h_vs_0h\"\n",
      "[1] \"Neutrophil_Time_3h_vs_0h\"\n",
      "[1] \"Neutrophil_Time_48h_vs_0h\"\n",
      "[1] \"Neutrophil_Time_6h_vs_0h\"\n",
      "[1] \"Neutrophil_Time_96h_vs_0h\"\n"
     ]
    }
   ],
   "source": [
    "for (name in names(RES)){\n",
    "    print (name)\n",
    "    # write results \n",
    "    RES[[name]] %>% ann_Result %>%\n",
    "        arrange(gene_name) %>% \n",
    "        dplyr::select('gene_id','gene_name','log2FoldChange','pvalue',everything()) %>% \n",
    "        write_Result(paste('exp/res_',name,'_delta_exp_table.txt', sep=''),col=TRUE)\n",
    "}"
   ]
  },
  {
   "cell_type": "code",
   "execution_count": null,
   "metadata": {},
   "outputs": [],
   "source": []
  },
  {
   "cell_type": "code",
   "execution_count": null,
   "metadata": {},
   "outputs": [],
   "source": []
  },
  {
   "cell_type": "code",
   "execution_count": 230,
   "metadata": {
    "tags": []
   },
   "outputs": [],
   "source": [
    "# RES = list(\n",
    "#     res_Macrophage_vs_HL_60, \n",
    "#     res_Monocyte_vs_HL_60,\n",
    "#     res_Neutrophil_vs_HL_60\n",
    "# )\n",
    "\n",
    "# names (RES) <- c('Macrophage_vs_HL_60', 'Monocyte_vs_HL_60','Neutrophil_vs_HL_60')"
   ]
  },
  {
   "cell_type": "markdown",
   "metadata": {
    "tags": []
   },
   "source": [
    "#### Save normalized counts"
   ]
  },
  {
   "cell_type": "code",
   "execution_count": 203,
   "metadata": {
    "tags": []
   },
   "outputs": [],
   "source": [
    "# dds1 <- estimateSizeFactors(dds)\n",
    "\n",
    "# ncu <- counts(dds1, normalized=TRUE) %>% \n",
    "#     data.frame %>% rownames_to_column('gene_id') %>% \n",
    "#     add_column(gene_name=gene2name[rownames(dds1),], .after='gene_id')\n",
    "\n",
    "# write.table(\n",
    "#     ncu,'exp/deseq2_norm.txt', sep=\"\\t\", quote=FALSE, col.names=TRUE\n",
    "# )\n",
    "\n",
    "# ___\n",
    "\n",
    "# counts.raw <- counts(dds1, normalized=FALSE) %>% \n",
    "#     data.frame %>% rownames_to_column('gene_id') %>% \n",
    "#     add_column(gene_name=gene2name[rownames(dds1),], .after='gene_id')\n",
    "\n",
    "# write.table(\n",
    "#     counts.raw,'exp/deseq2_raw_counts.txt',\n",
    "#     sep=\"\\t\", quote=FALSE, col.names=TRUE\n",
    "# )"
   ]
  },
  {
   "cell_type": "markdown",
   "metadata": {},
   "source": [
    "# "
   ]
  },
  {
   "cell_type": "code",
   "execution_count": 103,
   "metadata": {
    "tags": []
   },
   "outputs": [],
   "source": [
    "RES = list(\n",
    "    res_Macrophage_vs_HL_60, \n",
    "    res_Monocyte_vs_HL_60,\n",
    "    res_Neutrophil_vs_HL_60\n",
    ")\n",
    "\n",
    "names (RES) <- c('Macrophage_vs_HL_60', 'Monocyte_vs_HL_60','Neutrophil_vs_HL_60')"
   ]
  },
  {
   "cell_type": "code",
   "execution_count": 104,
   "metadata": {
    "tags": []
   },
   "outputs": [
    {
     "name": "stdout",
     "output_type": "stream",
     "text": [
      "[1] \"Macrophage_vs_HL_60\"\n",
      "[1] \"Monocyte_vs_HL_60\"\n",
      "[1] \"Neutrophil_vs_HL_60\"\n"
     ]
    }
   ],
   "source": [
    "# temp file for running iPAGE \n",
    "# write results \n",
    "for (name in names(RES)){\n",
    "    print (name)\n",
    "    # write results \n",
    "    RES[[name]] %>% ann_Result %>%\n",
    "        mutate(log2FoldChange = replace_na(log2FoldChange, 0)) %>% remove_rownames %>% \n",
    "        dplyr::select('gene_name','log2FoldChange') %>% \n",
    "        write_Result(paste('exp/res_',name,'_delta_exp.txt', sep=''),col=TRUE)\n",
    "}"
   ]
  },
  {
   "cell_type": "code",
   "execution_count": 105,
   "metadata": {
    "tags": []
   },
   "outputs": [
    {
     "name": "stdout",
     "output_type": "stream",
     "text": [
      "[1] \"Macrophage_vs_HL_60\"\n",
      "[1] \"Monocyte_vs_HL_60\"\n",
      "[1] \"Neutrophil_vs_HL_60\"\n"
     ]
    }
   ],
   "source": [
    "for (name in names(RES)){\n",
    "    print (name)\n",
    "    # write results \n",
    "    RES[[name]] %>% ann_Result %>%\n",
    "        arrange(gene_name) %>% \n",
    "        dplyr::select('gene_id','gene_name','log2FoldChange','pvalue',everything()) %>% \n",
    "        write_Result(paste('exp/res_',name,'_delta_exp_table.txt', sep=''),col=TRUE)\n",
    "}"
   ]
  },
  {
   "cell_type": "markdown",
   "metadata": {},
   "source": [
    "### "
   ]
  },
  {
   "cell_type": "code",
   "execution_count": 106,
   "metadata": {
    "tags": []
   },
   "outputs": [],
   "source": [
    "# res_Macrophage_vs_HL_60 %>% data.frame %>% \n",
    "#     filter(log2FoldChange>4 & pvalue < 0.001) %>% ann_Result"
   ]
  },
  {
   "cell_type": "markdown",
   "metadata": {
    "tags": []
   },
   "source": [
    "# Session Info"
   ]
  },
  {
   "cell_type": "code",
   "execution_count": 107,
   "metadata": {
    "tags": []
   },
   "outputs": [
    {
     "data": {
      "text/plain": [
       "R version 4.1.1 (2021-08-10)\n",
       "Platform: x86_64-conda-linux-gnu (64-bit)\n",
       "Running under: CentOS Linux 7 (Core)\n",
       "\n",
       "Matrix products: default\n",
       "BLAS/LAPACK: /data_gilbert/home/aarab/anaconda3/envs/deseq2/lib/libopenblasp-r0.3.18.so\n",
       "\n",
       "locale:\n",
       " [1] LC_CTYPE=en_US.UTF-8       LC_NUMERIC=C              \n",
       " [3] LC_TIME=en_US.UTF-8        LC_COLLATE=en_US.UTF-8    \n",
       " [5] LC_MONETARY=en_US.UTF-8    LC_MESSAGES=en_US.UTF-8   \n",
       " [7] LC_PAPER=en_US.UTF-8       LC_NAME=C                 \n",
       " [9] LC_ADDRESS=C               LC_TELEPHONE=C            \n",
       "[11] LC_MEASUREMENT=en_US.UTF-8 LC_IDENTIFICATION=C       \n",
       "\n",
       "attached base packages:\n",
       "[1] grid      stats4    stats     graphics  grDevices utils     datasets \n",
       "[8] methods   base     \n",
       "\n",
       "other attached packages:\n",
       " [1] ggthemes_4.2.4              gridExtra_2.3              \n",
       " [3] BiocParallel_1.28.0         patchwork_1.1.1            \n",
       " [5] DESeq2_1.34.0               SummarizedExperiment_1.24.0\n",
       " [7] MatrixGenerics_1.6.0        matrixStats_0.61.0         \n",
       " [9] ggrepel_0.9.1               forcats_0.5.1              \n",
       "[11] stringr_1.4.0               dplyr_1.0.7                \n",
       "[13] purrr_0.3.4                 readr_2.0.2                \n",
       "[15] tidyr_1.1.4                 tibble_3.1.6               \n",
       "[17] ggplot2_3.3.5               tidyverse_1.3.1            \n",
       "[19] tximport_1.22.0             GenomicFeatures_1.46.1     \n",
       "[21] AnnotationDbi_1.56.1        Biobase_2.54.0             \n",
       "[23] GenomicRanges_1.46.0        GenomeInfoDb_1.30.0        \n",
       "[25] IRanges_2.28.0              S4Vectors_0.32.0           \n",
       "[27] BiocGenerics_0.40.0        \n",
       "\n",
       "loaded via a namespace (and not attached):\n",
       " [1] colorspace_2.0-2         rjson_0.2.20             ellipsis_0.3.2          \n",
       " [4] IRdisplay_1.0            XVector_0.34.0           base64enc_0.1-3         \n",
       " [7] fs_1.5.0                 rstudioapi_0.13          bit64_4.0.5             \n",
       "[10] fansi_0.4.2              lubridate_1.8.0          xml2_1.3.2              \n",
       "[13] splines_4.1.1            cachem_1.0.6             geneplotter_1.72.0      \n",
       "[16] IRkernel_1.2             jsonlite_1.7.2           Rsamtools_2.10.0        \n",
       "[19] broom_0.7.10             annotate_1.72.0          dbplyr_2.1.1            \n",
       "[22] png_0.1-7                compiler_4.1.1           httr_1.4.2              \n",
       "[25] backports_1.3.0          assertthat_0.2.1         Matrix_1.3-4            \n",
       "[28] fastmap_1.1.0            cli_3.1.0                htmltools_0.5.2         \n",
       "[31] prettyunits_1.1.1        tools_4.1.1              gtable_0.3.0            \n",
       "[34] glue_1.5.0               GenomeInfoDbData_1.2.7   rappdirs_0.3.3          \n",
       "[37] Rcpp_1.0.7               cellranger_1.1.0         vctrs_0.3.8             \n",
       "[40] Biostrings_2.62.0        rtracklayer_1.54.0       rvest_1.0.2             \n",
       "[43] lifecycle_1.0.1          restfulr_0.0.13          XML_3.99-0.8            \n",
       "[46] zlibbioc_1.40.0          scales_1.1.1             vroom_1.5.5             \n",
       "[49] hms_1.1.1                parallel_4.1.1           RColorBrewer_1.1-2      \n",
       "[52] yaml_2.2.1               curl_4.3.2               memoise_2.0.0           \n",
       "[55] biomaRt_2.50.0           stringi_1.7.5            RSQLite_2.2.8           \n",
       "[58] genefilter_1.76.0        BiocIO_1.4.0             filelock_1.0.2          \n",
       "[61] repr_1.1.3               rlang_0.4.12             pkgconfig_2.0.3         \n",
       "[64] bitops_1.0-7             evaluate_0.14            lattice_0.20-45         \n",
       "[67] GenomicAlignments_1.30.0 bit_4.0.4                tidyselect_1.1.1        \n",
       "[70] magrittr_2.0.1           R6_2.5.1                 generics_0.1.1          \n",
       "[73] pbdZMQ_0.3-6             DelayedArray_0.20.0      DBI_1.1.1               \n",
       "[76] pillar_1.6.4             haven_2.4.3              withr_2.4.2             \n",
       "[79] survival_3.2-13          KEGGREST_1.34.0          RCurl_1.98-1.5          \n",
       "[82] modelr_0.1.8             crayon_1.4.2             uuid_1.0-3              \n",
       "[85] utf8_1.2.2               BiocFileCache_2.2.0      tzdb_0.2.0              \n",
       "[88] progress_1.2.2           locfit_1.5-9.4           readxl_1.3.1            \n",
       "[91] blob_1.2.2               reprex_2.0.1             digest_0.6.28           \n",
       "[94] xtable_1.8-4             munsell_0.5.0           "
      ]
     },
     "metadata": {},
     "output_type": "display_data"
    }
   ],
   "source": [
    "sessionInfo()"
   ]
  },
  {
   "cell_type": "code",
   "execution_count": 108,
   "metadata": {
    "tags": []
   },
   "outputs": [
    {
     "data": {
      "text/html": [
       "'Sat Mar 16 04:17:18 2024'"
      ],
      "text/latex": [
       "'Sat Mar 16 04:17:18 2024'"
      ],
      "text/markdown": [
       "'Sat Mar 16 04:17:18 2024'"
      ],
      "text/plain": [
       "[1] \"Sat Mar 16 04:17:18 2024\""
      ]
     },
     "metadata": {},
     "output_type": "display_data"
    }
   ],
   "source": [
    "date()"
   ]
  }
 ],
 "metadata": {
  "kernelspec": {
   "display_name": "R [conda env:anaconda3-deseq2]",
   "language": "R",
   "name": "conda-env-anaconda3-deseq2-r"
  },
  "language_info": {
   "codemirror_mode": "r",
   "file_extension": ".r",
   "mimetype": "text/x-r-source",
   "name": "R",
   "pygments_lexer": "r",
   "version": "4.1.1"
  },
  "widgets": {
   "application/vnd.jupyter.widget-state+json": {
    "state": {},
    "version_major": 2,
    "version_minor": 0
   }
  }
 },
 "nbformat": 4,
 "nbformat_minor": 4
}
