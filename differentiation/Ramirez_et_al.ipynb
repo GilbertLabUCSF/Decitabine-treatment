{
 "cells": [
  {
   "cell_type": "markdown",
   "id": "99dcf31b-b066-421e-b224-df4b3440503a",
   "metadata": {},
   "source": [
    "### "
   ]
  },
  {
   "cell_type": "markdown",
   "id": "3e43f461-2b79-408e-8e1f-5b23d118ddc0",
   "metadata": {},
   "source": [
    "`fastq-dump`\n",
    "\n",
    "https://www.biostars.org/p/222122/\n"
   ]
  },
  {
   "cell_type": "code",
   "execution_count": 1,
   "id": "9afca249-20c0-405b-bccb-5e379d28ad91",
   "metadata": {},
   "outputs": [],
   "source": [
    "# !wget ftp.sra.ebi.ac.uk/vol1/fastq/SRR117/072/SRR11711272/SRR11711272_1.fastq.gz"
   ]
  },
  {
   "cell_type": "code",
   "execution_count": 2,
   "id": "94881b94-639d-4805-abf6-9c12f33aa381",
   "metadata": {
    "tags": []
   },
   "outputs": [],
   "source": [
    "# ls -lh GSE79044_RNAseq/fastq"
   ]
  },
  {
   "cell_type": "code",
   "execution_count": 3,
   "id": "d2d64149-1a98-45b1-b832-a94160b2b28f",
   "metadata": {},
   "outputs": [],
   "source": [
    "# cat GSE79044_RNAseq/fastq/download.out"
   ]
  },
  {
   "cell_type": "code",
   "execution_count": 4,
   "id": "69ba0147-761b-476f-bbc9-cbed5a234d3d",
   "metadata": {
    "tags": []
   },
   "outputs": [],
   "source": [
    "# srr = open('GSE79044_RNAseq/SRR_Acc_List.txt')\n",
    "\n",
    "# for s in srr.readlines():\n",
    "#     s = s.replace('\\n','')\n",
    "#     n = s[-1]\n",
    "#     cmd=f'rsync -av rsync://ftp.sra.ebi.ac.uk/vol1/fastq/SRR321/00{n}/{s}/{s}.fastq.gz .'\n",
    "#     print(cmd)"
   ]
  },
  {
   "cell_type": "markdown",
   "id": "c0c3553f-6d71-4cb0-9ab8-0b9800ca7d62",
   "metadata": {},
   "source": [
    "### "
   ]
  },
  {
   "cell_type": "code",
   "execution_count": 55,
   "id": "063aeb71-87fe-4e45-b776-4eb96b740150",
   "metadata": {
    "tags": []
   },
   "outputs": [],
   "source": [
    "import os\n",
    "import anndata as ad\n",
    "import pandas as pd\n",
    "import numpy as np\n",
    "import scanpy as sc\n",
    "from glob import glob\n",
    "\n",
    "from pydeseq2.preprocessing import deseq2_norm"
   ]
  },
  {
   "cell_type": "code",
   "execution_count": 56,
   "id": "48527c21-16e8-4a16-818e-5670d590bfdc",
   "metadata": {
    "tags": []
   },
   "outputs": [],
   "source": [
    "import sys"
   ]
  },
  {
   "cell_type": "code",
   "execution_count": 57,
   "id": "ae8e4d80-a986-4574-8d5b-0a25ec9fd840",
   "metadata": {
    "tags": []
   },
   "outputs": [],
   "source": [
    "sys.path.append('../scripts')\n",
    "\n",
    "from util import find_top"
   ]
  },
  {
   "cell_type": "code",
   "execution_count": 58,
   "id": "7afa58ff-6c14-40c2-a948-8f0e69264179",
   "metadata": {
    "tags": []
   },
   "outputs": [],
   "source": [
    "import blitzgsea as blitz\n",
    "\n",
    "import upsetplot as up\n",
    "\n",
    "from matplotlib import pyplot as plt"
   ]
  },
  {
   "cell_type": "code",
   "execution_count": 59,
   "id": "95141306-2648-4379-8b37-2569d2c96cc3",
   "metadata": {
    "tags": []
   },
   "outputs": [],
   "source": [
    "import upsetplot as up"
   ]
  },
  {
   "cell_type": "code",
   "execution_count": 60,
   "id": "48f81b16-1d52-49ad-9dea-6c5fffd7e372",
   "metadata": {
    "tags": []
   },
   "outputs": [],
   "source": [
    "import pypage\n",
    "import upsetplot as up"
   ]
  },
  {
   "cell_type": "code",
   "execution_count": 108,
   "id": "d1dc0597-9a44-4527-8f1a-b99e4761ee42",
   "metadata": {
    "tags": []
   },
   "outputs": [],
   "source": [
    "delta_exp = {}\n",
    "\n",
    "for cell_type in ['Macrophage','Monocyte','Neutrophil']:\n",
    "    for end_time in [#'3h',#'6h',\n",
    "                     # '12h','24h','48h','96h',\n",
    "                     '120h'\n",
    "                     ]:\n",
    "        delta_exp[\n",
    "            f'{cell_type}_{end_time}'\n",
    "        ]=pd.read_csv(\n",
    "            f'exp/res_{cell_type}Time_{end_time}_vs_0h_delta_exp_table.txt',\n",
    "            sep='\\t'\n",
    "        ).set_index(['gene_id','gene_name'])"
   ]
  },
  {
   "cell_type": "code",
   "execution_count": 109,
   "id": "0e83d36d-1971-4635-8721-cfaae1b2722d",
   "metadata": {
    "tags": []
   },
   "outputs": [],
   "source": [
    "# ls exp/*_vs_0h_delta_exp.txt"
   ]
  },
  {
   "cell_type": "code",
   "execution_count": 110,
   "id": "d574005a-1f1f-4a12-b1fa-e9ba7c9c8c85",
   "metadata": {
    "tags": []
   },
   "outputs": [],
   "source": [
    "delta_exp.update({\n",
    "    \"decitabine+rg3039\":pd.read_csv(\n",
    "    #     '../DAC-rg3039/RNA-seq/exp/res_decitabine.rg3039_delta_exp_table.txt',sep='\\t'\n",
    "        '../DAC-rg3039/RNA-seq/exp/res_comb_vs_dmso_delta_exp_table.txt',sep='\\t'\n",
    "    ).set_index(['gene_id','gene_name']),\n",
    "    \"decitabine\":pd.read_csv(\n",
    "        '../DAC-rg3039/RNA-seq/exp/res_decitabine_vs_dmso_delta_exp_table.txt',sep='\\t'\n",
    "    ).set_index(['gene_id','gene_name']),\n",
    "    \"rg3039\":pd.read_csv(\n",
    "        '../DAC-rg3039/RNA-seq/exp/res_rg3039_vs_dmso_delta_exp_table.txt',sep='\\t'\n",
    "    ).set_index(['gene_id','gene_name'])\n",
    "})"
   ]
  },
  {
   "cell_type": "code",
   "execution_count": 111,
   "id": "ead7812e-51e9-48f7-ac4a-1293b3332369",
   "metadata": {
    "tags": []
   },
   "outputs": [
    {
     "data": {
      "text/plain": [
       "['Macrophage_120h',\n",
       " 'Monocyte_120h',\n",
       " 'Neutrophil_120h',\n",
       " 'decitabine+rg3039',\n",
       " 'decitabine',\n",
       " 'rg3039']"
      ]
     },
     "execution_count": 111,
     "metadata": {},
     "output_type": "execute_result"
    }
   ],
   "source": [
    "list(\n",
    "    delta_exp.keys()\n",
    ")"
   ]
  },
  {
   "cell_type": "code",
   "execution_count": 112,
   "id": "e67ac56e-f9d9-4c5c-89f2-2f2b6e141bbc",
   "metadata": {
    "tags": []
   },
   "outputs": [],
   "source": [
    "delta_exp_df = pd.concat(delta_exp,axis=1)"
   ]
  },
  {
   "cell_type": "code",
   "execution_count": 113,
   "id": "8ab6299a-f234-4382-8180-6459b665586e",
   "metadata": {
    "tags": []
   },
   "outputs": [
    {
     "data": {
      "text/plain": [
       "dict_keys(['Macrophage_120h', 'Monocyte_120h', 'Neutrophil_120h', 'decitabine+rg3039', 'decitabine', 'rg3039'])"
      ]
     },
     "execution_count": 113,
     "metadata": {},
     "output_type": "execute_result"
    }
   ],
   "source": [
    "delta_exp.keys()"
   ]
  },
  {
   "cell_type": "code",
   "execution_count": 107,
   "id": "60721462-cbda-416a-aa95-bce032d66e60",
   "metadata": {
    "tags": []
   },
   "outputs": [],
   "source": [
    "# pd.concat(dict([\n",
    "#     (cond,delta_exp_df[cond]['log2FoldChange'])\n",
    "#     for cond in delta_exp.keys()\n",
    "# ]),axis=1).to_csv('delta_exp_log2FoldChange_table.txt',sep='\\t')"
   ]
  },
  {
   "cell_type": "markdown",
   "id": "80366a7c-52d1-47ac-835b-719a16edeea8",
   "metadata": {},
   "source": [
    "___"
   ]
  },
  {
   "cell_type": "code",
   "execution_count": 81,
   "id": "a7c2a907-a783-4d33-b01e-fa4fe45188cd",
   "metadata": {
    "tags": []
   },
   "outputs": [
    {
     "name": "stdout",
     "output_type": "stream",
     "text": [
      "\u001b[1mMacrophage_120h\u001b[0m\n",
      "up:  3494\n",
      "down: 3223\n",
      "\u001b[1mMonocyte_120h\u001b[0m\n",
      "up:  1518\n",
      "down: 1141\n",
      "\u001b[1mNeutrophil_120h\u001b[0m\n",
      "up:  3123\n",
      "down: 3781\n",
      "\u001b[1mdecitabine+rg3039\u001b[0m\n",
      "up:  2156\n",
      "down: 1487\n",
      "\u001b[1mdecitabine\u001b[0m\n",
      "up:  1150\n",
      "down: 265\n",
      "\u001b[1mrg3039\u001b[0m\n",
      "up:  1160\n",
      "down: 820\n"
     ]
    }
   ],
   "source": [
    "delta_exp_genes = {}\n",
    "\n",
    "for delta_name in delta_exp.keys():\n",
    "    print(f'\\033[1m{delta_name}\\033[0m')\n",
    "    # delta_exp_genes[delta_name] = {}\n",
    "    delta_exp_genes[f'{delta_name}_up'], delta_exp_genes[f'{delta_name}_down'] = [\n",
    "        set(df.index.to_frame().gene_name.to_list()) for df in \n",
    "        find_top(delta_exp[delta_name],'log2FoldChange',1,'pvalue',0.05)\n",
    "    ]"
   ]
  },
  {
   "cell_type": "code",
   "execution_count": 82,
   "id": "cd9ea5a0-6234-4bdd-bb38-8180ba399677",
   "metadata": {
    "tags": []
   },
   "outputs": [],
   "source": [
    "data = up.from_contents(delta_exp_genes)"
   ]
  },
  {
   "cell_type": "code",
   "execution_count": 83,
   "id": "a32a0470-76c3-42c0-87c2-3b986fbffe2c",
   "metadata": {
    "tags": []
   },
   "outputs": [
    {
     "data": {
      "image/png": "[encoded data removed]",
      "text/plain": [
       "<Figure size 622.222x533.333 with 4 Axes>"
      ]
     },
     "metadata": {},
     "output_type": "display_data"
    },
    {
     "data": {
      "image/png": "[encoded data removed]",
      "text/plain": [
       "<Figure size 666.667x533.333 with 4 Axes>"
      ]
     },
     "metadata": {},
     "output_type": "display_data"
    }
   ],
   "source": [
    "for side in ['up','down']:\n",
    "\n",
    "    d = up.from_contents({k:v for (k,v) in delta_exp_genes.items() if side in k})\n",
    "\n",
    "    res = up.query(d, \n",
    "                      present=f'decitabine+rg3039_{side}',\n",
    "                      absent=[f'decitabine_{side}',f'rg3039_{side}']\n",
    "                     )\n",
    "\n",
    "    upset = up.UpSet(\n",
    "        res.data, \n",
    "        # data, \n",
    "        sort_by='cardinality',\n",
    "        subset_size=\"count\",\n",
    "        # orientation=\n",
    "        facecolor=\"gray\",\n",
    "        min_degree=2,\n",
    "        show_counts=True,\n",
    "        # max_degree=2\n",
    "    )\n",
    "\n",
    "    upset.style_subsets(\n",
    "        present=[f'Neutrophil_120h_{side}'],\n",
    "        absent=[f'Monocyte_120h_{side}',f'Macrophage_120h_{side}'],\n",
    "        min_degree=2, label=\"Neutrophil\",facecolor=\"tab:brown\")\n",
    "    upset.style_subsets(\n",
    "        present=[f'Monocyte_120h_{side}'],\n",
    "        absent=[f'Neutrophil_120h_{side}',f'Macrophage_120h_{side}'],\n",
    "        min_degree=2, label=\"Monocyte\",facecolor=\"tab:cyan\")\n",
    "    upset.style_subsets(\n",
    "        present=[f'Macrophage_120h_{side}'],\n",
    "        absent=[f'Neutrophil_120h_{side}',f'Monocyte_120h_{side}'],\n",
    "        min_degree=2, label=\"Macrophage\",facecolor=\"tab:olive\")\n",
    "\n",
    "    # upset.style_subsets(present=['Monocyte_120h_down'],     min_degree=2, label='Monocyte',facecolor=\"blue\")#,hatch=\"xx\", edgecolor=\"m\")\n",
    "    # upset.style_subsets(present=['Macrophage_120h_down'],   min_degree=2, label='Macrophage',facecolor=\"blue\")\n",
    "\n",
    "    upset.style_categories(f\"decitabine+rg3039_{side}\", shading_edgecolor=\"black\", shading_linewidth=.3)\n",
    "\n",
    "    upset.plot()\n",
    "    plt.savefig(f'upsetplot_{side}.pdf')\n",
    "    plt.show()"
   ]
  },
  {
   "cell_type": "code",
   "execution_count": 182,
   "id": "6deb9d57-675f-4b26-8e0d-f72ca8bf796f",
   "metadata": {
    "tags": []
   },
   "outputs": [],
   "source": [
    "ol_genesets = {}\n",
    "\n",
    "for side in ['up','down']:\n",
    "    ol_genesets[f'Neutrophil_120h_{side}'] = list(set(up.query(\n",
    "            data,\n",
    "            present=[f'decitabine+rg3039_{side}',f'Neutrophil_120h_{side}'],\n",
    "            absent=[f'decitabine_{side}',f'rg3039_{side}',\n",
    "                    f'Macrophage_120h_{side}',f'Monocyte_120h_{side}']\n",
    "        ).data['id']))\n",
    "\n",
    "    ol_genesets[f'Monocyte_120h_{side}'] = list(set(up.query(\n",
    "            data,\n",
    "            present=[f'decitabine+rg3039_{side}',f'Monocyte_120h_{side}'],\n",
    "            absent=[f'decitabine_{side}',f'rg3039_{side}',\n",
    "                    f'Macrophage_120h_{side}',f'Neutrophil_120h_{side}']\n",
    "        ).data['id']))\n",
    "\n",
    "    ol_genesets[f'Macrophage_120h_{side}'] = list(set(up.query(\n",
    "            data,\n",
    "            present=[f'decitabine+rg3039_{side}',f'Macrophage_120h_{side}'],\n",
    "            absent=[f'decitabine_{side}',f'rg3039_{side}',\n",
    "                    f'Monocyte_120h_{side}',f'Neutrophil_120h_{side}']\n",
    "        ).data['id']))"
   ]
  },
  {
   "cell_type": "code",
   "execution_count": 187,
   "id": "6d96fcee-152d-4628-8773-3dc77f9e2219",
   "metadata": {
    "tags": []
   },
   "outputs": [
    {
     "data": {
      "text/plain": [
       "['ZP3',\n",
       " 'ISG15',\n",
       " 'AL137186.2',\n",
       " 'TMEM120A',\n",
       " 'PIAS3',\n",
       " 'TAP1',\n",
       " 'PRELP',\n",
       " 'LTB',\n",
       " 'ZC2HC1A',\n",
       " 'DGKK',\n",
       " 'VENTX',\n",
       " 'LINC02452',\n",
       " 'PPP2R5B',\n",
       " 'GPR35',\n",
       " 'AC138932.3',\n",
       " 'UPB1',\n",
       " 'AC092944.1',\n",
       " 'AC064805.2',\n",
       " 'G6PD',\n",
       " 'TNFSF9',\n",
       " 'ABTB2',\n",
       " 'EPHB3',\n",
       " 'HCFC2',\n",
       " 'H1-10',\n",
       " 'SPSB2',\n",
       " 'PROCA1',\n",
       " 'FGD3',\n",
       " 'IFITM2',\n",
       " 'LTA',\n",
       " 'MYO5A',\n",
       " 'DYNLT3',\n",
       " 'MYADM',\n",
       " 'APCDD1',\n",
       " 'CLEC4D',\n",
       " 'SGMS1-AS1',\n",
       " 'C15orf62',\n",
       " 'BIRC7',\n",
       " 'AC130371.2',\n",
       " 'AL137018.1',\n",
       " 'ZNF211',\n",
       " 'AC073957.3',\n",
       " 'PTPN22',\n",
       " 'CSF2RA',\n",
       " 'AC002519.1',\n",
       " 'NUAK2',\n",
       " 'AC068473.3',\n",
       " 'DIO2',\n",
       " 'ZNF876P',\n",
       " 'PARP10',\n",
       " 'AP000355.1',\n",
       " 'FAM106A',\n",
       " 'FAM227A',\n",
       " 'RIC8A',\n",
       " 'AL031733.2',\n",
       " 'CAPN3',\n",
       " 'CCR3',\n",
       " 'PCDHGA5',\n",
       " 'N4BP3',\n",
       " 'AC023157.2',\n",
       " 'GLCCI1']"
      ]
     },
     "execution_count": 187,
     "metadata": {},
     "output_type": "execute_result"
    }
   ],
   "source": [
    "ol_genesets[f'Neutrophil_120h_up']"
   ]
  },
  {
   "cell_type": "code",
   "execution_count": 600,
   "id": "91bfa735-097f-43cf-9250-d640cc27ce22",
   "metadata": {
    "tags": []
   },
   "outputs": [],
   "source": [
    "# mkdir onePAGE"
   ]
  },
  {
   "cell_type": "code",
   "execution_count": 601,
   "id": "d9b8f0e2-149e-49fb-8731-4f6c60d68224",
   "metadata": {
    "tags": []
   },
   "outputs": [],
   "source": [
    "for k,v in ol_genesets.items():\n",
    "    pd.Series(v).to_csv(f'onePAGE/geneset_{k}.txt',index=False,header=None)    "
   ]
  },
  {
   "cell_type": "code",
   "execution_count": 602,
   "id": "87e3b337-bfa9-486f-9b67-993076f11f4d",
   "metadata": {
    "tags": []
   },
   "outputs": [
    {
     "data": {
      "text/plain": [
       "[('Neutrophil_120h_up', 60),\n",
       " ('Monocyte_120h_up', 26),\n",
       " ('Macrophage_120h_up', 76),\n",
       " ('Neutrophil_120h_down', 175),\n",
       " ('Monocyte_120h_down', 10),\n",
       " ('Macrophage_120h_down', 61)]"
      ]
     },
     "execution_count": 602,
     "metadata": {},
     "output_type": "execute_result"
    }
   ],
   "source": [
    "[(k, len(v))for k,v in ol_genesets.items()]"
   ]
  },
  {
   "cell_type": "code",
   "execution_count": 1,
   "id": "af804980-0d1a-4838-b4cd-f31c41cc69b6",
   "metadata": {
    "tags": []
   },
   "outputs": [],
   "source": [
    "import os"
   ]
  },
  {
   "cell_type": "code",
   "execution_count": 2,
   "id": "e5366a1b-8008-445d-a44d-52db40318f31",
   "metadata": {
    "tags": []
   },
   "outputs": [
    {
     "data": {
      "text/plain": [
       "'/data_gilbert/home/aarab/tools/TEISERv1.1/'"
      ]
     },
     "execution_count": 2,
     "metadata": {},
     "output_type": "execute_result"
    }
   ],
   "source": [
    "os.environ['TEISERDIR']"
   ]
  },
  {
   "cell_type": "code",
   "execution_count": 634,
   "id": "d4ae2fee-5f09-4b2f-a124-929ff89b3904",
   "metadata": {
    "tags": []
   },
   "outputs": [
    {
     "name": "stdout",
     "output_type": "stream",
     "text": [
      "comb_vs_dmso Neutrophil_120h_up\n",
      "decitabine_vs_dmso Neutrophil_120h_up\n",
      "rg3039_vs_dmso Neutrophil_120h_up\n",
      "decitabine.rg3039 Neutrophil_120h_up\n",
      "comb_vs_dmso Neutrophil_120h_down\n",
      "decitabine_vs_dmso Neutrophil_120h_down\n",
      "rg3039_vs_dmso Neutrophil_120h_down\n",
      "decitabine.rg3039 Neutrophil_120h_down\n"
     ]
    }
   ],
   "source": [
    "RNA_seq_dir = '../DAC-rg3039/RNA-seq/exp'\n",
    "\n",
    "conditions = ['comb_vs_dmso','decitabine_vs_dmso','rg3039_vs_dmso','decitabine.rg3039']\n",
    "\n",
    "for geneset_name in ol_genesets.keys():\n",
    "    if 'Neutrophil' in geneset_name:\n",
    "\n",
    "        for condition in conditions:\n",
    "            pd.read_csv(\n",
    "                f'{RNA_seq_dir}/res_{condition}_delta_exp.txt',sep='\\t'\n",
    "            ).drop_duplicates('gene_name').to_csv(\n",
    "                f'onePAGE/res_{condition}_delta_exp.c.txt',sep='\\t',index=False\n",
    "            )\n",
    "\n",
    "            print(condition,geneset_name)\n",
    "\n",
    "            !bash ../scripts/onePAGE.sh \\\n",
    "                onePAGE \\\n",
    "                res_{condition}_delta_exp.c.txt \\\n",
    "                geneset_{geneset_name} &> /dev/null\n",
    "\n",
    "            !rm onePAGE/res_{condition}_delta_exp.c.txt\n",
    "            !rm onePAGE/res_{condition}_delta_exp.c_onePAGE_geneset_{geneset_name}.summary.pdf            "
   ]
  },
  {
   "cell_type": "code",
   "execution_count": null,
   "id": "6c8b377d-836a-48b7-807f-16dcb66f9d98",
   "metadata": {},
   "outputs": [],
   "source": []
  },
  {
   "cell_type": "code",
   "execution_count": null,
   "id": "7dfbd1d8-c202-40d4-b48e-405bc9a6732d",
   "metadata": {},
   "outputs": [],
   "source": []
  },
  {
   "cell_type": "code",
   "execution_count": 605,
   "id": "9caa9170-ee37-4f0e-b8f1-1e7d60a2a9ff",
   "metadata": {
    "tags": []
   },
   "outputs": [
    {
     "name": "stdout",
     "output_type": "stream",
     "text": [
      "up:  537\n",
      "down: 654\n"
     ]
    }
   ],
   "source": [
    "comb = pd.read_csv(\n",
    "    '../DAC-rg3039/RNA-seq/exp/res_decitabine.rg3039_delta_exp_table.txt',sep='\\t'\n",
    ").set_index(['gene_id','gene_name'])\n",
    "\n",
    "pd.Series([\n",
    "    gene for df in find_top(comb,'log2FoldChange',1,'pvalue',0.05)\n",
    "    for gene in set(df.index.to_frame().gene_name.to_list()) \n",
    "]).to_csv(f'onePAGE/geneset_decitabine.rg3039.txt',index=False,header=None)"
   ]
  },
  {
   "cell_type": "code",
   "execution_count": 606,
   "id": "43ebe81b-b21a-4fa7-a75a-38e463731e91",
   "metadata": {
    "tags": []
   },
   "outputs": [
    {
     "name": "stdout",
     "output_type": "stream",
     "text": [
      "up:  537\n",
      "down: 654\n",
      "up:  537\n",
      "down: 654\n"
     ]
    }
   ],
   "source": [
    "df,_ = find_top(comb,'log2FoldChange',1,'pvalue',0.05)\n",
    "\n",
    "pd.Series([\n",
    "    gene for gene in set(df.index.to_frame().gene_name.to_list()) \n",
    "]).to_csv(f'onePAGE/geneset_decitabine.rg3039_up.txt',index=False,header=None)\n",
    "\n",
    "_,df = find_top(comb,'log2FoldChange',1,'pvalue',0.05)\n",
    "\n",
    "pd.Series([\n",
    "    gene for gene in set(df.index.to_frame().gene_name.to_list()) \n",
    "]).to_csv(f'onePAGE/geneset_decitabine.rg3039_down.txt',index=False,header=None)"
   ]
  },
  {
   "cell_type": "code",
   "execution_count": 630,
   "id": "b96beeae-4e34-49b2-a715-ef6ed8ab906a",
   "metadata": {
    "tags": []
   },
   "outputs": [
    {
     "name": "stdout",
     "output_type": "stream",
     "text": [
      "NeutrophilTime_3h_vs_0h Neutrophil_120h_down\n",
      "NeutrophilTime_6h_vs_0h Neutrophil_120h_down\n",
      "NeutrophilTime_12h_vs_0h Neutrophil_120h_down\n",
      "NeutrophilTime_24h_vs_0h Neutrophil_120h_down\n",
      "NeutrophilTime_48h_vs_0h Neutrophil_120h_down\n",
      "NeutrophilTime_96h_vs_0h Neutrophil_120h_down\n",
      "NeutrophilTime_120h_vs_0h Neutrophil_120h_down\n"
     ]
    }
   ],
   "source": [
    "RNA_seq_dir = 'exp'\n",
    "\n",
    "geneset_name = 'Neutrophil_120h_down'\n",
    "\n",
    "for cell_type in [#'Macrophage','Monocyte',\n",
    "                  'Neutrophil']:\n",
    "    for end_time in ['3h','6h',\n",
    "                     '12h','24h','48h','96h',\n",
    "                     '120h'\n",
    "                     ]:\n",
    "        condition = f'{cell_type}Time_{end_time}_vs_0h'\n",
    "\n",
    "        pd.read_csv(\n",
    "            f'{RNA_seq_dir}/res_{condition}_delta_exp.txt',sep='\\t'\n",
    "        ).drop_duplicates('gene_name').to_csv(\n",
    "            f'onePAGE/res_{condition}_delta_exp.c.txt',sep='\\t',index=False\n",
    "        )\n",
    "\n",
    "        print(condition,geneset_name)\n",
    "        \n",
    "        !bash ../scripts/onePAGE.sh \\\n",
    "            onePAGE \\\n",
    "            res_{condition}_delta_exp.c.txt \\\n",
    "            geneset_{geneset_name} &> /dev/null\n",
    "        \n",
    "        !rm onePAGE/res_{condition}_delta_exp.c.txt\n",
    "        !rm onePAGE/res_{condition}_delta_exp.c_onePAGE_geneset_{geneset_name}.summary.pdf"
   ]
  },
  {
   "cell_type": "code",
   "execution_count": 3,
   "id": "b6bf7e9b-4e99-419f-b038-98b8c7291598",
   "metadata": {
    "tags": []
   },
   "outputs": [],
   "source": [
    "import sys"
   ]
  },
  {
   "cell_type": "code",
   "execution_count": 4,
   "id": "399955a9-8a02-4284-b3fe-5d14273390a7",
   "metadata": {
    "tags": []
   },
   "outputs": [],
   "source": [
    "sys.path.append('/data_gilbert/home/aarab/tools/pager/')"
   ]
  },
  {
   "cell_type": "code",
   "execution_count": 5,
   "id": "3919c050-3ce6-4b64-9493-106ff99e91fe",
   "metadata": {
    "tags": []
   },
   "outputs": [],
   "source": [
    "from onePAGE import merge_onePAGE_results"
   ]
  },
  {
   "cell_type": "code",
   "execution_count": 6,
   "id": "1b0c3759-d833-4199-9c06-7f081fff2c66",
   "metadata": {
    "tags": []
   },
   "outputs": [],
   "source": [
    "from glob import glob"
   ]
  },
  {
   "cell_type": "code",
   "execution_count": 49,
   "id": "6b3e6680-a16b-443f-8564-587cc5aaab97",
   "metadata": {
    "tags": []
   },
   "outputs": [],
   "source": [
    "geneset = 'Neutrophil_120h_down'\n",
    "\n",
    "onePAGE_path = 'onePAGE'\n",
    "onePAGE_name = f'drug_treatment_geneset_{geneset}'\n",
    "\n",
    "matrix,summary = merge_onePAGE_results(\n",
    "    glob(f'onePAGE/*vs_dmso_*onePAGE*{geneset}/'),\n",
    "    merge_by='exp',\n",
    "    fix_bins=True,\n",
    "    clean_geneset_names = ['_vs_dmso_delta_exp.c','res_','Time']\n",
    ")\n",
    "\n",
    "summary['index']=pd.Categorical(summary['index'],categories=['decitabine','rg3039','comb'])\n",
    "summary = summary.sort_values(['index'],ascending=False)\n",
    "matrix['MOTIF']=pd.Categorical(matrix['MOTIF'],categories=['decitabine','rg3039','comb'])\n",
    "matrix = matrix.sort_values(['MOTIF'],ascending=False)\n",
    "\n",
    "matrix.to_csv(f'{onePAGE_path}/{onePAGE_name}.txt.matrix',sep='\\t',header=True,index=False)\n",
    "summary.to_csv(f'{onePAGE_path}/{onePAGE_name}.txt.summary',sep='\\t',header=True,index=False)"
   ]
  },
  {
   "cell_type": "code",
   "execution_count": 50,
   "id": "6bc0f56f-b6f1-447b-86e1-ffec60e1abbc",
   "metadata": {
    "tags": []
   },
   "outputs": [],
   "source": [
    "!bash ../scripts/onePAGE_draw_matrix.sh {onePAGE_path} {onePAGE_name} & > /dev/null"
   ]
  },
  {
   "cell_type": "code",
   "execution_count": null,
   "id": "89192d0f-a853-458e-a54b-a575798b4ec4",
   "metadata": {},
   "outputs": [],
   "source": []
  },
  {
   "cell_type": "code",
   "execution_count": null,
   "id": "aebee07d-1390-43bd-9b94-8893d2fa9c06",
   "metadata": {},
   "outputs": [],
   "source": []
  },
  {
   "cell_type": "code",
   "execution_count": null,
   "id": "c0c92761-0f92-4508-bd35-14f3012989d7",
   "metadata": {},
   "outputs": [],
   "source": []
  },
  {
   "cell_type": "code",
   "execution_count": 52,
   "id": "a8b19443-7b54-4840-820d-b75ee7c15b28",
   "metadata": {
    "tags": []
   },
   "outputs": [],
   "source": [
    "cell_type = 'Neutrophil'\n",
    "\n",
    "geneset = 'Neutrophil_120h_down'\n",
    "\n",
    "onePAGE_path = 'onePAGE'\n",
    "onePAGE_name = f'{cell_type}_geneset_{geneset}'\n",
    "\n",
    "\n",
    "matrix,summary = merge_onePAGE_results(\n",
    "    glob(f'onePAGE/*{cell_type}*_0h_delta_exp*onePAGE*{geneset}/'),\n",
    "    merge_by='exp',\n",
    "    fix_bins=True,\n",
    "    clean_geneset_names = ['_vs_0h_delta_exp.c','res_','Time']\n",
    ")\n",
    "\n",
    "summary['time']=summary['index'].str.split('_').str[1].str[:-1].astype(int)\n",
    "summary = summary.sort_values(['time'],ascending=False).drop(columns='time')\n",
    "\n",
    "matrix['time']=matrix['MOTIF'].str.split('_').str[1].str[:-1].astype(int)\n",
    "matrix = matrix.sort_values(['time'],ascending=False).drop(columns='time')\n",
    "\n",
    "matrix.to_csv(f'{onePAGE_path}/{onePAGE_name}.txt.matrix',sep='\\t',header=True,index=False)\n",
    "summary.to_csv(f'{onePAGE_path}/{onePAGE_name}.txt.summary',sep='\\t',header=True,index=False)"
   ]
  },
  {
   "cell_type": "code",
   "execution_count": 53,
   "id": "7511e79e-afe4-4b9c-84de-d1cb534f8def",
   "metadata": {
    "tags": []
   },
   "outputs": [],
   "source": [
    "!bash ../scripts/onePAGE_draw_matrix.sh {onePAGE_path} {onePAGE_name} & > /dev/null"
   ]
  },
  {
   "cell_type": "code",
   "execution_count": 116,
   "id": "da1dec8d-2a36-4bb9-8aeb-b4b593732c98",
   "metadata": {
    "tags": []
   },
   "outputs": [
    {
     "data": {
      "text/plain": [
       "['Neutrophil_120h',\n",
       " 'Neutrophil_96h',\n",
       " 'Neutrophil_48h',\n",
       " 'Neutrophil_24h',\n",
       " 'Neutrophil_12h',\n",
       " 'Neutrophil_6h',\n",
       " 'Neutrophil_3h']"
      ]
     },
     "execution_count": 116,
     "metadata": {},
     "output_type": "execute_result"
    }
   ],
   "source": [
    "summary['index'].to_list()"
   ]
  },
  {
   "cell_type": "code",
   "execution_count": null,
   "id": "d6769ef4-9f3d-41fc-9569-aed863110cf4",
   "metadata": {},
   "outputs": [],
   "source": []
  },
  {
   "cell_type": "code",
   "execution_count": null,
   "id": "e8f2477b-b7c6-44e4-b076-27b341646bc7",
   "metadata": {},
   "outputs": [],
   "source": []
  },
  {
   "cell_type": "code",
   "execution_count": null,
   "id": "7c656973-c0b8-4b5d-9736-003af026ed9f",
   "metadata": {},
   "outputs": [],
   "source": []
  },
  {
   "cell_type": "code",
   "execution_count": 119,
   "id": "cd909e4e-9e17-4539-a0cb-3a2c6245d591",
   "metadata": {
    "tags": []
   },
   "outputs": [],
   "source": [
    "pager_annotation_path = '/data_gilbert/home/aarab/tools/pager/annotations/human'"
   ]
  },
  {
   "cell_type": "code",
   "execution_count": 120,
   "id": "52fdf2f7-7162-449f-a3ec-7116a6461d46",
   "metadata": {
    "tags": []
   },
   "outputs": [],
   "source": [
    "c5_go_gmt = blitz.enrichr.read_gmt(\n",
    "    f'{pager_annotation_path}/msigdb_v7.4_c5.go/c5.go.v7.4.symbols.gmt'\n",
    ")"
   ]
  },
  {
   "cell_type": "code",
   "execution_count": 123,
   "id": "31feb8d7-5367-4659-a041-77efee0b9cbc",
   "metadata": {
    "tags": []
   },
   "outputs": [],
   "source": [
    "library = c5_go_gmt#{}"
   ]
  },
  {
   "cell_type": "code",
   "execution_count": 124,
   "id": "d2ec58c5-0ae1-4ef9-b6a1-d1c42b30d40e",
   "metadata": {
    "tags": []
   },
   "outputs": [],
   "source": [
    "# library = {k:v for k,v in delta_exp_genes.items() if k \n",
    "#          not in [\n",
    "#              t+'_'+s for t in ['decitabine+rg3039','decitabine','rg3039'] for s in ['up','down']\n",
    "#          ]}"
   ]
  },
  {
   "cell_type": "code",
   "execution_count": 158,
   "id": "1a55d4f5-e562-4f7b-939a-8df627e9e67f",
   "metadata": {
    "tags": []
   },
   "outputs": [],
   "source": [
    "library['ol'] = set(up.query(data,\n",
    "         present=['decitabine+rg3039_up',\n",
    "                  'Neutrophil_120h_up'],\n",
    "         absent=['decitabine_up','rg3039_up',\n",
    "                 'Macrophage_120h_up',\n",
    "                  'Monocyte_120h_up',\n",
    "                ]\n",
    "        ).data['id'].to_list()\n",
    ")"
   ]
  },
  {
   "cell_type": "markdown",
   "id": "2c2de554-9d6a-4fc7-955a-3cbb16e2e3c2",
   "metadata": {},
   "source": [
    "### "
   ]
  },
  {
   "cell_type": "code",
   "execution_count": 126,
   "id": "253a877d-af55-4c79-ad5e-68decb6b0d05",
   "metadata": {
    "tags": []
   },
   "outputs": [],
   "source": [
    "# {k:v for (k,v) in delta_exp_genes.items() if 'up' in k}"
   ]
  },
  {
   "cell_type": "code",
   "execution_count": null,
   "id": "ebfe088e-54e9-44af-a1a2-faf29c407699",
   "metadata": {
    "tags": []
   },
   "outputs": [],
   "source": []
  },
  {
   "cell_type": "code",
   "execution_count": 159,
   "id": "92839c75-7d7a-456d-ade5-6b9217ff254d",
   "metadata": {
    "tags": []
   },
   "outputs": [
    {
     "name": "stdout",
     "output_type": "stream",
     "text": [
      "Use cached anchor parameters\n"
     ]
    },
    {
     "name": "stderr",
     "output_type": "stream",
     "text": [
      "Enrichment : 100%|██████████| 10186/10186 [00:10<00:00, 937.03it/s]\n",
      "/data_gilbert/home/aarab/anaconda3/envs/mamba/envs/screenpro2/lib/python3.9/site-packages/statsmodels/stats/multitest.py:164: RuntimeWarning: divide by zero encountered in log1p\n",
      "  pvals_corrected = -np.expm1(ntests * np.log1p(-pvals))\n"
     ]
    },
    {
     "name": "stdout",
     "output_type": "stream",
     "text": [
      "Kolmogorov-Smirnov test failed. Gamma approximation deviates from permutation samples.\n",
      "KS p-value (pos): 0.0004645569794633747\n",
      "KS p-value (neg): 0.0004645569794633747\n"
     ]
    }
   ],
   "source": [
    "signature = res_decitabine_rg3039_interaction_term = pd.read_csv(\n",
    "    '../DAC-rg3039/RNA-seq/exp/res_decitabine.rg3039_delta_exp_table.txt',sep='\\t'\n",
    ").set_index(\n",
    "    ['gene_id','gene_name']\n",
    ")['log2FoldChange'].reset_index('gene_name').reset_index(drop=True).fillna(0).copy()\n",
    "\n",
    "res = blitz.gsea(\n",
    "    signature,\n",
    "    library,\n",
    "    verbose=True\n",
    ")"
   ]
  },
  {
   "cell_type": "code",
   "execution_count": 166,
   "id": "3e5e6226-5230-4782-ab2c-ccb0f1652437",
   "metadata": {
    "tags": []
   },
   "outputs": [],
   "source": [
    "# fig_table = blitz.plot.top_table(\n",
    "#     signature, library, \n",
    "#     # res[res.index.str.contains('GOBP_POSITIVE_REGULATION_OF_MYELOID_LEUKOCYTE_DIFFERENTIATION')], \n",
    "#     res.loc[['ol'],], \n",
    "#     n=1\n",
    "# )"
   ]
  },
  {
   "cell_type": "code",
   "execution_count": 167,
   "id": "969a0609-17eb-423b-b67e-8d3cfc4bd5cb",
   "metadata": {
    "tags": []
   },
   "outputs": [],
   "source": [
    "# fig_table"
   ]
  },
  {
   "cell_type": "code",
   "execution_count": 168,
   "id": "8ff7ec59-744e-497f-9f71-d7fc16d02962",
   "metadata": {
    "tags": []
   },
   "outputs": [],
   "source": [
    "# figs = {}\n",
    "\n",
    "# for treat in ['decitabine+rg3039','decitabine','rg3039']:\n",
    "\n",
    "#     signature = delta_exp[treat]['log2FoldChange'].reset_index('gene_name').reset_index(drop=True).fillna(0).copy()\n",
    "    \n",
    "#     res = gsea_results[treat]\n",
    "    \n",
    "#     fig_table = blitz.plot.top_table(signature, library, res, n=1)\n",
    "\n",
    "#     figs[treat] = fig_table\n",
    "    \n",
    "#     del res,signature"
   ]
  },
  {
   "cell_type": "markdown",
   "id": "3c9dba56-720c-47c5-a92d-aa3f41b1fc62",
   "metadata": {},
   "source": [
    "___"
   ]
  },
  {
   "cell_type": "code",
   "execution_count": 169,
   "id": "1c5d437f-75c9-41fa-9202-9c6c559d2cb5",
   "metadata": {},
   "outputs": [],
   "source": [
    "# gs_ann = pypage.GeneSets(ann_file=, n_bins=3)"
   ]
  },
  {
   "cell_type": "code",
   "execution_count": 170,
   "id": "51252aaa-f846-43c3-9269-26cf4212b8e8",
   "metadata": {},
   "outputs": [],
   "source": [
    "# def run_pyPAGE(expression, annotation):\n",
    "    \n",
    "#     p = pypage.PAGE(\n",
    "#         expression,\n",
    "#         annotation,\n",
    "#         n_shuffle=1000,\n",
    "#         k=7,\n",
    "#         filter_redundant=True\n",
    "#     )\n",
    "#     results, hm = p.run()\n",
    "#     hm.convert_from_to('gs', 'ensg', 'human')\n",
    "#     hm.show(show_reg=True)\n",
    "    \n",
    "#     return results\n"
   ]
  },
  {
   "cell_type": "code",
   "execution_count": 171,
   "id": "a37b7b1e-3d78-4d81-a3f7-1a3a5f13a09c",
   "metadata": {
    "tags": []
   },
   "outputs": [],
   "source": [
    "upset = up.UpSet(data, intersection_plot_elements=0)  # disable the default bar chart"
   ]
  },
  {
   "cell_type": "code",
   "execution_count": 172,
   "id": "8c7ac98f-c177-42e8-8b26-5ecf12975142",
   "metadata": {
    "tags": []
   },
   "outputs": [],
   "source": [
    "# from matplotlib import cm\n",
    "\n",
    "# upset.add_stacked_bars(\n",
    "#     by=\"Sex\", colors=cm.Pastel1, title=\"Count by gender\", elements=10\n",
    "# )\n",
    "\n",
    "# upset.plot()\n",
    "# plt.suptitle(\"Gender for first class and survival on Titanic\")\n",
    "# plt.show()\n"
   ]
  },
  {
   "cell_type": "code",
   "execution_count": 173,
   "id": "b7a025a2-85e0-4d1f-9519-7fa68dacbe6a",
   "metadata": {},
   "outputs": [],
   "source": [
    "# data = from_contents({k:v for (k,v) in delta_exp_genes.items() if 'down' in k})\n",
    "# data[data.reset_index().set_index('id')[\n",
    "#     ['Macrophage_down','Monocyte_down','Neutrophil_down','decitabine+rg3039_down']\n",
    "# ].all(axis=1).to_list()]['id'].to_list()"
   ]
  },
  {
   "cell_type": "code",
   "execution_count": null,
   "id": "6532b622-44c6-4e16-808c-48d777ef3bae",
   "metadata": {},
   "outputs": [],
   "source": []
  },
  {
   "cell_type": "code",
   "execution_count": null,
   "id": "c8012658-9323-4399-890f-7173b4d7058a",
   "metadata": {},
   "outputs": [],
   "source": []
  },
  {
   "cell_type": "code",
   "execution_count": null,
   "id": "5f220b67-ff7f-4eb1-aac1-4acb9f2091fa",
   "metadata": {},
   "outputs": [],
   "source": []
  },
  {
   "cell_type": "code",
   "execution_count": 174,
   "id": "8d841e15-c973-49f8-8576-fa0a332210ec",
   "metadata": {
    "tags": []
   },
   "outputs": [],
   "source": [
    "# cnt = pd.read_csv('GSE79044_RNAseq/exp/deseq2_raw_counts.txt',sep='\\t')\n",
    "\n",
    "# meta = pd.read_csv(\"GSE79044_RNAseq/SraRunTable.txt\").set_index('Run').loc[\n",
    "#     :,['source_name','Time']\n",
    "# ].loc[cnt.columns[2:].to_list()]\n",
    "\n",
    "# # cnt = pd.concat(dict([\n",
    "# #     (\n",
    "# #         os.path.basename(file).split('_')[0],\n",
    "# #         pd.read_csv(file,sep='\\t').set_index('gene_id').iloc[:,0]\n",
    "# #     )\n",
    "# #     for file in glob('GSE79044_RNAseq/processed/*')\n",
    "# # ]),axis=1)\n",
    "# # cnt.index.name = None\n",
    "\n",
    "\n",
    "\n",
    "# adata = ad.AnnData(\n",
    "#     X=cnt.set_index(['gene_id']).drop(columns='gene_name').T,\n",
    "#     obs=meta,\n",
    "#     var=cnt.set_index(['gene_id'])[['gene_name']]\n",
    "# )\n",
    "\n",
    "# cnt_DAC_rg3039 = pd.read_csv(\n",
    "#     'DAC-rg3039/RNA-seq/deseq2_raw_counts.txt',\n",
    "#     sep='\\t'\n",
    "# ).set_index('gene_id')\n",
    "\n",
    "# ann = cnt_DAC_rg3039[['gene_name']]\n",
    "# cnt_DAC_rg3039 = cnt_DAC_rg3039.drop(columns='gene_name')\n",
    "\n",
    "# ol = list(\n",
    "#     set(cnt_DAC_rg3039.index) & set(adata.var.index)\n",
    "# )\n",
    "\n",
    "# bdata = ad.AnnData(\n",
    "#     X=cnt_DAC_rg3039.T,\n",
    "#     # obs=\n",
    "#     var=ann\n",
    "# )\n",
    "\n",
    "# from venn import venn\n",
    "\n",
    "# venn(\n",
    "#     {\n",
    "#         'Ramirez_et_al':set(adata.var.index),\n",
    "#         'bioRxiv':set(cnt_DAC_rg3039.index)\n",
    "#     }\n",
    "# )\n",
    "\n",
    "# mdata = ad.concat([adata, bdata])\n",
    "# sc.pp.filter_genes(mdata,min_counts=50)\n",
    "\n",
    "# mdata.X = np.log1p(deseq2_norm(mdata.X)[0])\n",
    "\n",
    "# mdata.shape"
   ]
  },
  {
   "cell_type": "code",
   "execution_count": 175,
   "id": "a309bc53-9392-44d3-94b0-daf855116145",
   "metadata": {
    "tags": []
   },
   "outputs": [],
   "source": [
    "# adata_filt = adata[adata.obs.query('Time in [\"0 hr\",\"120 hr\"]').index].copy()\n",
    "\n",
    "# sc.pp.pca(adata_filt)\n",
    "# sc.pp.neighbors(adata_filt)"
   ]
  },
  {
   "cell_type": "code",
   "execution_count": 176,
   "id": "ed2a3b66-2b5c-447f-bb8f-9fb9cb6046a9",
   "metadata": {
    "tags": []
   },
   "outputs": [],
   "source": [
    "# sc.tl.umap(adata_filt,alpha=.9)\n",
    "# # sc.tl.leiden(mdata)\n",
    "\n",
    "# sc.pl.pca(adata_filt,size=100,color='source_name')\n",
    "# sc.pl.pca(adata_filt,size=100,color='Time')"
   ]
  },
  {
   "cell_type": "code",
   "execution_count": null,
   "id": "5d6419a8-2e24-4cfc-92e6-ec41d4cfc3a2",
   "metadata": {},
   "outputs": [],
   "source": []
  },
  {
   "cell_type": "code",
   "execution_count": null,
   "id": "5449a154-b385-41c5-b0cb-f491a1f020a7",
   "metadata": {},
   "outputs": [],
   "source": []
  },
  {
   "cell_type": "code",
   "execution_count": null,
   "id": "3281cdc0-fe6f-4890-be1f-04bd8a0aa566",
   "metadata": {},
   "outputs": [],
   "source": [
    "mdata.obs['source'] = ''\n",
    "\n",
    "mdata.obs.loc[mdata.obs.index.str.contains('SRR'),'source'] = 'Ramirez_et_al'\n",
    "mdata.obs.loc[~mdata.obs.index.str.contains('SRR'),'source'] = 'bioRxiv'"
   ]
  },
  {
   "cell_type": "code",
   "execution_count": null,
   "id": "f865dcd0-88f0-4e16-a94b-1e0c55b7a941",
   "metadata": {
    "tags": []
   },
   "outputs": [],
   "source": [
    "sc.pp.pca(mdata)\n",
    "sc.pp.neighbors(mdata)"
   ]
  },
  {
   "cell_type": "code",
   "execution_count": null,
   "id": "bfba80d3-a1af-41ce-a730-82ca6fd8b1f6",
   "metadata": {
    "tags": []
   },
   "outputs": [],
   "source": [
    "sc.tl.umap(mdata,alpha=.9)\n",
    "# sc.tl.leiden(mdata)\n",
    "\n",
    "sc.pl.umap(mdata,size=100,color='source')"
   ]
  },
  {
   "cell_type": "code",
   "execution_count": null,
   "id": "266c6d50-7b8b-4633-a7b9-273ce57d1c76",
   "metadata": {
    "tags": []
   },
   "outputs": [],
   "source": [
    "sc.pl.pca(mdata,size=100,color='source')"
   ]
  },
  {
   "cell_type": "markdown",
   "id": "bf937f0f-5008-4b1e-8cd9-25937e45ec37",
   "metadata": {},
   "source": [
    "### "
   ]
  },
  {
   "cell_type": "code",
   "execution_count": null,
   "id": "62282d0d-71f1-4257-9654-84f0fa4eef19",
   "metadata": {
    "tags": []
   },
   "outputs": [],
   "source": [
    "adata = ad.AnnData(\n",
    "    X=counts.T\n",
    ")\n",
    "\n",
    "adata.obs = pd.DataFrame(adata.obs.index.str.split('_R').to_list(),columns=['group', 'replicate'],index=adata.obs.index)\n",
    "# adata.X = deseq2_norm(np.log1p(adata.X))[0]"
   ]
  },
  {
   "cell_type": "code",
   "execution_count": null,
   "id": "41744710-0df4-4a00-86ca-4db555a20823",
   "metadata": {
    "tags": []
   },
   "outputs": [],
   "source": [
    "adata"
   ]
  },
  {
   "cell_type": "code",
   "execution_count": null,
   "id": "c9991ba7-5e85-4516-b368-c2e3df21bce7",
   "metadata": {
    "tags": []
   },
   "outputs": [],
   "source": [
    "sc.pp.pca(adata)\n",
    "sc.pp.neighbors(adata)"
   ]
  },
  {
   "cell_type": "code",
   "execution_count": null,
   "id": "bdac227a-4261-440f-b4b9-ac415326c430",
   "metadata": {
    "tags": []
   },
   "outputs": [],
   "source": [
    "sc.tl.umap(adata)"
   ]
  },
  {
   "cell_type": "code",
   "execution_count": null,
   "id": "defdfe41-5515-42bd-9c2b-f76adf1d22cc",
   "metadata": {
    "tags": []
   },
   "outputs": [],
   "source": [
    "sc.tl.leiden(adata)"
   ]
  },
  {
   "cell_type": "code",
   "execution_count": null,
   "id": "566a3519-4697-4c7c-9944-f53dbddb1806",
   "metadata": {
    "tags": []
   },
   "outputs": [],
   "source": [
    "sc.pl.pca(adata,size=100,color='group')"
   ]
  },
  {
   "cell_type": "code",
   "execution_count": null,
   "id": "4b757b0d-a975-4d87-a022-7a971890eb43",
   "metadata": {},
   "outputs": [],
   "source": []
  },
  {
   "cell_type": "code",
   "execution_count": null,
   "id": "df8fc2e2-5777-4ce6-bfa3-ff423c5aa010",
   "metadata": {
    "tags": []
   },
   "outputs": [],
   "source": [
    "sc.pl.umap(adata,size=100,color='leiden')"
   ]
  },
  {
   "cell_type": "markdown",
   "id": "19aa7275-11ea-42e3-90a0-397dabe714eb",
   "metadata": {
    "tags": []
   },
   "source": [
    "# "
   ]
  },
  {
   "cell_type": "code",
   "execution_count": 178,
   "id": "7352f7ea",
   "metadata": {
    "tags": []
   },
   "outputs": [],
   "source": [
    "%load_ext watermark"
   ]
  },
  {
   "cell_type": "code",
   "execution_count": 179,
   "id": "56ff40c3-8508-4280-9bb6-ed3a7b8ba00d",
   "metadata": {},
   "outputs": [
    {
     "name": "stdout",
     "output_type": "stream",
     "text": [
      "Last updated: 2024-03-18T07:56:51.305494-07:00\n",
      "\n",
      "Python implementation: CPython\n",
      "Python version       : 3.9.18\n",
      "IPython version      : 8.18.1\n",
      "\n",
      "Compiler    : GCC 11.2.0\n",
      "OS          : Linux\n",
      "Release     : 3.10.0-957.27.2.el7.x86_64\n",
      "Machine     : x86_64\n",
      "Processor   : x86_64\n",
      "CPU cores   : 64\n",
      "Architecture: 64bit\n",
      "\n"
     ]
    }
   ],
   "source": [
    "%watermark"
   ]
  },
  {
   "cell_type": "code",
   "execution_count": 180,
   "id": "26360442-387e-4e3c-96dd-d77c51bd14bf",
   "metadata": {
    "tags": []
   },
   "outputs": [
    {
     "name": "stdout",
     "output_type": "stream",
     "text": [
      "numpy     : 1.26.4\n",
      "matplotlib: 3.6.3\n",
      "blitzgsea : 1.3.39\n",
      "pandas    : 1.5.3\n",
      "pypage    : 2.0.9\n",
      "anndata   : 0.10.5.post1\n",
      "sys       : 3.9.18 (main, Sep 11 2023, 13:41:44) \n",
      "[GCC 11.2.0]\n",
      "upsetplot : 0.9.0\n",
      "scanpy    : 1.9.8\n",
      "\n"
     ]
    }
   ],
   "source": [
    "%watermark --iversions"
   ]
  }
 ],
 "metadata": {
  "kernelspec": {
   "display_name": "Python [conda env:screenpro2]",
   "language": "python",
   "name": "conda-env-screenpro2-py"
  },
  "language_info": {
   "codemirror_mode": {
    "name": "ipython",
    "version": 3
   },
   "file_extension": ".py",
   "mimetype": "text/x-python",
   "name": "python",
   "nbconvert_exporter": "python",
   "pygments_lexer": "ipython3",
   "version": "3.9.18"
  }
 },
 "nbformat": 4,
 "nbformat_minor": 5
}
