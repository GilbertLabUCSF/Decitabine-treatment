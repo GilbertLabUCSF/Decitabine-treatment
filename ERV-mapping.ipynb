{
 "cells": [
  {
   "cell_type": "markdown",
   "metadata": {},
   "source": [
    "### HERVd: the Human Endogenous RetroViruses Database\n",
    "- https://herv.img.cas.cz/"
   ]
  },
  {
   "cell_type": "markdown",
   "metadata": {},
   "source": [
    "<!-- here I'm using a custom [scallop](https://github.com/Kingsford-Group/scallop) + [gtfmerge](https://github.com/Kingsford-Group/rnaseqtools#gtfmerge) pipeline to create merged gtf annotation of hg19 and tinat transcripts introduced in this  -->"
   ]
  },
  {
   "cell_type": "code",
   "execution_count": 72,
   "metadata": {},
   "outputs": [],
   "source": [
    "import pandas as pd"
   ]
  },
  {
   "cell_type": "code",
   "execution_count": 18,
   "metadata": {},
   "outputs": [],
   "source": [
    "import gzip"
   ]
  },
  {
   "cell_type": "code",
   "execution_count": 80,
   "metadata": {},
   "outputs": [],
   "source": [
    "def write_fasta(path, fa):\n",
    "    file = open(path, 'w')\n",
    "    for f in fa:\n",
    "        file.write('>' + f + '\\n')\n",
    "        file.write(fa[f] + '\\n')\n",
    "    file.close()\n",
    "\n",
    "    \n",
    "def read_fasta(path):\n",
    "    if 'gz' in path:\n",
    "        file=gzip.open(path, 'rb')\n",
    "        lines = [x.strip() for x in file.readlines()]\n",
    "    else:\n",
    "        file = open(path)\n",
    "        lines = file.read().splitlines()\n",
    "    ids = [s[1:] for s in lines if '>' in s]\n",
    "    n = [i for i,s in enumerate(lines) if '>' in s]\n",
    "    n.append(len(lines))\n",
    "    sequences = [''.join(lines[i+1:j]) for i,j in zip(n[:-1],n[1:])]\n",
    "    file.close()\n",
    "    fa = dict(zip(ids, sequences))\n",
    "    return fa"
   ]
  },
  {
   "cell_type": "code",
   "execution_count": 48,
   "metadata": {},
   "outputs": [
    {
     "name": "stdout",
     "output_type": "stream",
     "text": [
      "\u001b[0m\u001b[38;5;9mpackage-entities-dna.gff3.gz\u001b[0m  \u001b[38;5;9mpackage-entities-erv.gff3.gz\u001b[0m\n",
      "package-entities-erv.c.gff3   \u001b[38;5;27mpackage-entities-erv_salmon_index\u001b[0m/\n",
      "\u001b[38;5;9mpackage-entities-erv.fa.gz\u001b[0m    package-entities-erv_salmon_index.log\n"
     ]
    }
   ],
   "source": [
    "ls herv-genome/"
   ]
  },
  {
   "cell_type": "code",
   "execution_count": 3,
   "metadata": {},
   "outputs": [],
   "source": [
    "!zcat herv-genome/package-entities-erv.gff3.gz | grep -v \"#\" \\\n",
    "> herv-genome/package-entities-erv.c.gff3"
   ]
  },
  {
   "cell_type": "markdown",
   "metadata": {},
   "source": [
    "## STAR"
   ]
  },
  {
   "cell_type": "markdown",
   "metadata": {},
   "source": [
    "https://hbctraining.github.io/Intro-to-rnaseq-hpc-O2/lessons/03_alignment.html"
   ]
  },
  {
   "cell_type": "code",
   "execution_count": 133,
   "metadata": {},
   "outputs": [
    {
     "name": "stdout",
     "output_type": "stream",
     "text": [
      "chr1\t.\tBED_feature\t34597\t34659\t500\t-\t.\tID=BED_feature1;Name=12:ERV:MLT1L\n",
      "chr1\t.\tBED_thick_feature\t34597\t34659\t500\t-\t.\tParent=BED_feature1;Name=12:ERV:MLT1L\n",
      "chr1\t.\tBED_block\t34597\t34659\t500\t-\t.\tParent=BED_feature1;Name=12:ERV:MLT1L\n",
      "chr1\t.\tBED_feature\t34566\t34972\t500\t-\t.\tID=BED_feature2;Name=14:ERV:MLT1J2\n",
      "chr1\t.\tBED_thick_feature\t34566\t34972\t500\t-\t.\tParent=BED_feature2;Name=14:ERV:MLT1J2\n",
      "chr1\t.\tBED_block\t34566\t34972\t500\t-\t.\tParent=BED_feature2;Name=14:ERV:MLT1J2\n",
      "chr1\t.\tBED_feature\t40850\t41007\t500\t-\t.\tID=BED_feature3;Name=18:ERV:LTR16C\n",
      "chr1\t.\tBED_thick_feature\t40850\t41007\t500\t-\t.\tParent=BED_feature3;Name=18:ERV:LTR16C\n",
      "chr1\t.\tBED_block\t40850\t41007\t500\t-\t.\tParent=BED_feature3;Name=18:ERV:LTR16C\n",
      "chr1\t.\tBED_feature\t41804\t42717\t500\t-\t.\tID=BED_feature4;Name=19:ERV:ERV3-16A3_I\n",
      "chr1\t.\tBED_thick_feature\t41804\t42717\t500\t-\t.\tParent=BED_feature4;Name=19:ERV:ERV3-16A3_I\n",
      "chr1\t.\tBED_block\t41804\t42717\t500\t-\t.\tParent=BED_feature4;Name=19:ERV:ERV3-16A3_I\n",
      "chr1\t.\tBED_feature\t46766\t46842\t500\t-\t.\tID=BED_feature5;Name=20:ERV:LTR12B\n",
      "chr1\t.\tBED_thick_feature\t46766\t46842\t500\t-\t.\tParent=BED_feature5;Name=20:ERV:LTR12B\n",
      "chr1\t.\tBED_block\t46766\t46842\t500\t-\t.\tParent=BED_feature5;Name=20:ERV:LTR12B\n",
      "chr1\t.\tBED_feature\t70764\t70893\t500\t-\t.\tID=BED_feature6;Name=29:ERV:LTR89\n",
      "chr1\t.\tBED_thick_feature\t70764\t70893\t500\t-\t.\tParent=BED_feature6;Name=29:ERV:LTR89\n",
      "chr1\t.\tBED_block\t70764\t70893\t500\t-\t.\tParent=BED_feature6;Name=29:ERV:LTR89\n",
      "chr1\t.\tBED_feature\t91610\t91678\t500\t-\t.\tID=BED_feature7;Name=36:ERV:MER4E1\n",
      "chr1\t.\tBED_thick_feature\t91610\t91678\t500\t-\t.\tParent=BED_feature7;Name=36:ERV:MER4E1\n",
      "chr1\t.\tBED_block\t91610\t91678\t500\t-\t.\tParent=BED_feature7;Name=36:ERV:MER4E1\n",
      "chr1\t.\tBED_feature\t92187\t92477\t500\t-\t.\tID=BED_feature8;Name=37:ERV:MER4D1\n",
      "chr1\t.\tBED_thick_feature\t92187\t92477\t500\t-\t.\tParent=BED_feature8;Name=37:ERV:MER4D1\n",
      "chr1\t.\tBED_block\t92187\t92477\t500\t-\t.\tParent=BED_feature8;Name=37:ERV:MER4D1\n",
      "chr1\t.\tBED_feature\t94751\t95005\t500\t-\t.\tID=BED_feature9;Name=39:ERV:MLT1H\n",
      "chr1\t.\tBED_thick_feature\t94751\t95005\t500\t-\t.\tParent=BED_feature9;Name=39:ERV:MLT1H\n",
      "chr1\t.\tBED_block\t94751\t95005\t500\t-\t.\tParent=BED_feature9;Name=39:ERV:MLT1H\n",
      "chr1\t.\tBED_feature\t99986\t100626\t500\t-\t.\tID=BED_feature10;Name=43:ERV:MamRep605\n",
      "chr1\t.\tBED_block\t99986\t100393\t500\t-\t.\tParent=BED_feature10;Name=43:ERV:MamRep605\n",
      "chr1\t.\tBED_thick_feature\t99986\t100626\t500\t-\t.\tParent=BED_feature10;Name=43:ERV:MamRep605\n"
     ]
    }
   ],
   "source": [
    "!head -n 30 herv-genome/package-entities-erv.c.gff3"
   ]
  },
  {
   "cell_type": "code",
   "execution_count": 127,
   "metadata": {},
   "outputs": [
    {
     "name": "stderr",
     "output_type": "stream",
     "text": [
      "mkdir: cannot create directory ‘STAR.index’: File exists\n"
     ]
    }
   ],
   "source": [
    "%%bash\n",
    "\n",
    "cd herv-genome/\n",
    "mkdir STAR.index\n",
    "\n",
    "nohup STAR \\\n",
    "    --runThreadN 32 \\\n",
    "    --runMode genomeGenerate \\\n",
    "    --sjdbGTFfeatureExon BED_block \\\n",
    "    --genomeDir STAR.index \\\n",
    "    --limitGenomeGenerateRAM 400000000000 \\\n",
    "    --genomeFastaFiles /data_gilbert/home/aarab/genomes/hg38/gencode.v34/GRCh38.primary_assembly.genome.fa \\\n",
    "    --sjdbGTFfile package-entities-erv.c.gff3 \\\n",
    "    --sjdbOverhang 99 &> STAR.index.log&\n",
    "# package-entities-erv.c.fa \\\n",
    "cd ../"
   ]
  },
  {
   "cell_type": "code",
   "execution_count": 134,
   "metadata": {},
   "outputs": [
    {
     "name": "stdout",
     "output_type": "stream",
     "text": [
      "Nov 13 23:59:50 ..... started STAR run\n",
      "Nov 13 23:59:50 ... starting to generate Genome files\n",
      "Nov 14 00:00:55 ... starting to sort Suffix Array. This may take a long time...\n",
      "Nov 14 00:01:08 ... sorting Suffix Array chunks and saving them to disk...\n",
      "Nov 14 00:17:14 ... loading chunks from disk, packing SA...\n",
      "Nov 14 00:18:42 ... finished generating suffix array\n",
      "Nov 14 00:18:42 ... generating Suffix Array index\n",
      "Nov 14 00:22:47 ... completed Suffix Array index\n",
      "Nov 14 00:22:47 ..... processing annotations GTF\n",
      "Nov 14 00:22:57 ... writing Genome to disk ...\n",
      "Nov 14 00:23:04 ... writing Suffix Array to disk ...\n",
      "Nov 14 00:23:51 ... writing SAindex to disk\n",
      "Nov 14 00:23:58 ..... finished successfully\n"
     ]
    }
   ],
   "source": [
    "cat herv-genome/STAR.index.log"
   ]
  },
  {
   "cell_type": "markdown",
   "metadata": {},
   "source": [
    "## Salmon"
   ]
  },
  {
   "cell_type": "code",
   "execution_count": 81,
   "metadata": {},
   "outputs": [],
   "source": [
    "fa = read_fasta('herv-genome/package-entities-erv.fa')\n",
    "\n",
    "fa = dict([(n.split(' ')[5].replace('cloud_id=',''), fa[n]) for n in fa.keys()])\n",
    "\n",
    "write_fasta('herv-genome/package-entities-erv.c.fa', fa)"
   ]
  },
  {
   "cell_type": "code",
   "execution_count": 82,
   "metadata": {},
   "outputs": [],
   "source": [
    "!salmon index -t herv-genome/package-entities-erv.c.fa \\\n",
    "    -i herv-genome/package-entities-erv_salmon_index \\\n",
    "&> herv-genome/package-entities-erv_salmon_index.log"
   ]
  },
  {
   "cell_type": "code",
   "execution_count": null,
   "metadata": {},
   "outputs": [],
   "source": []
  },
  {
   "cell_type": "code",
   "execution_count": 83,
   "metadata": {},
   "outputs": [
    {
     "name": "stdout",
     "output_type": "stream",
     "text": [
      "[2022-11-10 22:19:05.217] [puff::index::jointLog] [info] chunk size = 212,572,123\n",
      "[2022-11-10 22:19:05.217] [puff::index::jointLog] [info] chunk 0 = [0, 212,572,139)\n",
      "[2022-11-10 22:19:05.217] [puff::index::jointLog] [info] chunk 1 = [212,572,139, 425,144,216)\n",
      "[2022-11-10 22:20:00.373] [puff::index::jointLog] [info] finished populating pos vector\n",
      "[2022-11-10 22:20:00.373] [puff::index::jointLog] [info] writing index components\n",
      "[2022-11-10 22:20:02.841] [puff::index::jointLog] [info] finished writing dense pufferfish index\n",
      "[2022-11-10 22:20:03.145] [jLog] [info] done building index\n",
      "for info, total work write each  : 2.331    total work inram from level 3 : 4.322  total work raw : 25.000 \n",
      "Bitarray      1279781248  bits (100.00 %)   (array + ranks )\n",
      "final hash             0  bits (0.00 %) (nb in final hash 0)\n"
     ]
    }
   ],
   "source": [
    "!tail herv-genome/package-entities-erv_salmon_index.log"
   ]
  },
  {
   "cell_type": "markdown",
   "metadata": {},
   "source": [
    "### DAC"
   ]
  },
  {
   "cell_type": "code",
   "execution_count": 84,
   "metadata": {},
   "outputs": [
    {
     "name": "stdout",
     "output_type": "stream",
     "text": [
      "hl60_120h_t_1\n",
      "Thu Nov 10 22:20:04 PST 2022\n",
      "Thu Nov 10 22:22:24 PST 2022\n",
      "hl60_120h_t_2\n",
      "Thu Nov 10 22:22:24 PST 2022\n",
      "Thu Nov 10 22:24:57 PST 2022\n",
      "hl60_120h_u_1\n",
      "Thu Nov 10 22:24:57 PST 2022\n",
      "Thu Nov 10 22:26:58 PST 2022\n",
      "hl60_120h_u_2\n",
      "Thu Nov 10 22:26:58 PST 2022\n",
      "Thu Nov 10 22:29:22 PST 2022\n",
      "hl60_6h_t_1\n",
      "Thu Nov 10 22:29:22 PST 2022\n",
      "Thu Nov 10 22:31:40 PST 2022\n",
      "hl60_6h_t_2\n",
      "Thu Nov 10 22:31:40 PST 2022\n",
      "Thu Nov 10 22:35:37 PST 2022\n",
      "hl60_6h_u_1\n",
      "Thu Nov 10 22:35:37 PST 2022\n",
      "Thu Nov 10 22:37:18 PST 2022\n",
      "hl60_6h_u_2\n",
      "Thu Nov 10 22:37:18 PST 2022\n",
      "Thu Nov 10 22:39:49 PST 2022\n",
      "hl60_72h_t_1\n",
      "Thu Nov 10 22:39:49 PST 2022\n",
      "Thu Nov 10 22:42:23 PST 2022\n",
      "hl60_72h_t_2\n",
      "Thu Nov 10 22:42:23 PST 2022\n",
      "Thu Nov 10 22:44:59 PST 2022\n",
      "hl60_72h_u_1\n",
      "Thu Nov 10 22:44:59 PST 2022\n",
      "Thu Nov 10 22:48:34 PST 2022\n",
      "hl60_72h_u_2\n",
      "Thu Nov 10 22:48:34 PST 2022\n",
      "Thu Nov 10 22:52:54 PST 2022\n",
      "kg1_t_1\n",
      "Thu Nov 10 22:52:54 PST 2022\n",
      "Thu Nov 10 22:55:20 PST 2022\n",
      "kg1_t_2\n",
      "Thu Nov 10 22:55:20 PST 2022\n",
      "Thu Nov 10 22:55:56 PST 2022\n",
      "kg1_t_3\n",
      "Thu Nov 10 22:55:56 PST 2022\n",
      "Thu Nov 10 22:58:20 PST 2022\n",
      "kg1_u_1\n",
      "Thu Nov 10 22:58:20 PST 2022\n",
      "Thu Nov 10 23:00:27 PST 2022\n",
      "kg1_u_2\n",
      "Thu Nov 10 23:00:27 PST 2022\n",
      "Thu Nov 10 23:00:55 PST 2022\n",
      "kg1_u_3\n",
      "Thu Nov 10 23:00:55 PST 2022\n",
      "Thu Nov 10 23:04:21 PST 2022\n",
      "molm14_t_1\n",
      "Thu Nov 10 23:04:21 PST 2022\n",
      "Thu Nov 10 23:06:11 PST 2022\n",
      "molm14_t_2\n",
      "Thu Nov 10 23:06:11 PST 2022\n",
      "Thu Nov 10 23:06:31 PST 2022\n",
      "molm14_t_3\n",
      "Thu Nov 10 23:06:31 PST 2022\n",
      "Thu Nov 10 23:08:13 PST 2022\n",
      "molm14_u_1\n",
      "Thu Nov 10 23:08:13 PST 2022\n",
      "Thu Nov 10 23:09:50 PST 2022\n",
      "molm14_u_2\n",
      "Thu Nov 10 23:09:50 PST 2022\n",
      "Thu Nov 10 23:10:11 PST 2022\n",
      "molm14_u_3\n",
      "Thu Nov 10 23:10:11 PST 2022\n",
      "Thu Nov 10 23:12:02 PST 2022\n",
      "ociaml2_t_1\n",
      "Thu Nov 10 23:12:02 PST 2022\n",
      "Thu Nov 10 23:14:25 PST 2022\n",
      "ociaml2_t_2\n",
      "Thu Nov 10 23:14:25 PST 2022\n",
      "Thu Nov 10 23:14:54 PST 2022\n",
      "ociaml2_t_3\n",
      "Thu Nov 10 23:14:54 PST 2022\n",
      "Thu Nov 10 23:18:13 PST 2022\n",
      "ociaml2_u_1\n",
      "Thu Nov 10 23:18:13 PST 2022\n",
      "Thu Nov 10 23:20:00 PST 2022\n",
      "ociaml2_u_2\n",
      "Thu Nov 10 23:20:00 PST 2022\n",
      "Thu Nov 10 23:20:21 PST 2022\n",
      "ociaml2_u_3\n",
      "Thu Nov 10 23:20:21 PST 2022\n",
      "Thu Nov 10 23:23:15 PST 2022\n",
      "ociaml3_t_1\n",
      "Thu Nov 10 23:23:15 PST 2022\n",
      "Thu Nov 10 23:26:23 PST 2022\n",
      "ociaml3_t_2\n",
      "Thu Nov 10 23:26:23 PST 2022\n",
      "Thu Nov 10 23:26:49 PST 2022\n",
      "ociaml3_t_3\n",
      "Thu Nov 10 23:26:49 PST 2022\n",
      "Thu Nov 10 23:28:42 PST 2022\n",
      "ociaml3_u_1\n",
      "Thu Nov 10 23:28:42 PST 2022\n",
      "Thu Nov 10 23:30:51 PST 2022\n",
      "ociaml3_u_2\n",
      "Thu Nov 10 23:30:51 PST 2022\n",
      "Thu Nov 10 23:31:20 PST 2022\n",
      "ociaml3_u_3\n",
      "Thu Nov 10 23:31:20 PST 2022\n",
      "Thu Nov 10 23:33:46 PST 2022\n",
      "thp1_t_1\n",
      "Thu Nov 10 23:33:46 PST 2022\n",
      "Thu Nov 10 23:36:25 PST 2022\n",
      "thp1_t_2\n",
      "Thu Nov 10 23:36:25 PST 2022\n",
      "Thu Nov 10 23:37:08 PST 2022\n",
      "thp1_t_3\n",
      "Thu Nov 10 23:37:08 PST 2022\n",
      "Thu Nov 10 23:39:41 PST 2022\n",
      "thp1_u_1\n",
      "Thu Nov 10 23:39:41 PST 2022\n",
      "Thu Nov 10 23:41:46 PST 2022\n",
      "thp1_u_2\n",
      "Thu Nov 10 23:41:46 PST 2022\n",
      "Thu Nov 10 23:42:13 PST 2022\n",
      "thp1_u_3\n",
      "Thu Nov 10 23:42:13 PST 2022\n",
      "Thu Nov 10 23:44:51 PST 2022\n"
     ]
    }
   ],
   "source": [
    "%%bash \n",
    "cd DAC/RNA-seq/\n",
    "mkdir -p herv/\n",
    "mkdir -p herv/quants\n",
    "\n",
    "for f in fastq/*; do\n",
    "\tf=`basename $f`;\n",
    "\to=${f/.fastq.gz/};\n",
    "\techo $o\n",
    "\techo `date`\n",
    "\tsalmon quant \\\n",
    "\t\t-i ../../herv-genome/package-entities-erv_salmon_index \\\n",
    "\t\t-l A \\\n",
    "\t\t-r fastq/$f -o herv/quants/$o -p 10 &> herv/quants/$o.log\n",
    "\techo `date`\n",
    "done\n",
    "cd ../../"
   ]
  },
  {
   "cell_type": "markdown",
   "metadata": {},
   "source": [
    "### DAC-rg3038"
   ]
  },
  {
   "cell_type": "code",
   "execution_count": 85,
   "metadata": {},
   "outputs": [
    {
     "name": "stdout",
     "output_type": "stream",
     "text": [
      "hl60_combination_1\n",
      "Thu Nov 10 23:44:51 PST 2022\n",
      "Thu Nov 10 23:49:15 PST 2022\n",
      "hl60_combination_2\n",
      "Thu Nov 10 23:49:15 PST 2022\n",
      "Thu Nov 10 23:54:34 PST 2022\n",
      "hl60_decitabine_1\n",
      "Thu Nov 10 23:54:34 PST 2022\n",
      "Thu Nov 10 23:57:57 PST 2022\n",
      "hl60_decitabine_2\n",
      "Thu Nov 10 23:57:57 PST 2022\n",
      "Fri Nov 11 00:01:43 PST 2022\n",
      "hl60_dmso_1\n",
      "Fri Nov 11 00:01:43 PST 2022\n",
      "Fri Nov 11 00:07:02 PST 2022\n",
      "hl60_dmso_2\n",
      "Fri Nov 11 00:07:02 PST 2022\n",
      "Fri Nov 11 00:10:02 PST 2022\n",
      "hl60_rg3039_1\n",
      "Fri Nov 11 00:10:02 PST 2022\n",
      "Fri Nov 11 00:13:02 PST 2022\n",
      "hl60_rg3039_2\n",
      "Fri Nov 11 00:13:02 PST 2022\n",
      "Fri Nov 11 00:17:46 PST 2022\n"
     ]
    }
   ],
   "source": [
    "%%bash \n",
    "cd DAC-rg3039/RNA-seq/\n",
    "mkdir -p herv/\n",
    "mkdir -p herv/quants\n",
    "\n",
    "for f in fastq/*; do\n",
    "\tf=`basename $f`;\n",
    "\to=${f/.fastq.gz/};\n",
    "\techo $o\n",
    "\techo `date`\n",
    "\tsalmon quant \\\n",
    "\t\t-i ../../herv-genome/package-entities-erv_salmon_index \\\n",
    "\t\t-l A \\\n",
    "\t\t-r fastq/$f -o herv/quants/$o -p 10 &> herv/quants/$o.log\n",
    "\techo `date`\n",
    "done\n",
    "cd ../../"
   ]
  },
  {
   "cell_type": "markdown",
   "metadata": {},
   "source": [
    "## "
   ]
  },
  {
   "cell_type": "code",
   "execution_count": 86,
   "metadata": {},
   "outputs": [
    {
     "name": "stdout",
     "output_type": "stream",
     "text": [
      "Fri Nov 11 00:17:46 PST 2022\n"
     ]
    }
   ],
   "source": [
    "!date"
   ]
  }
 ],
 "metadata": {
  "kernelspec": {
   "display_name": "Python [conda env:alignment]",
   "language": "python",
   "name": "conda-env-alignment-py"
  },
  "language_info": {
   "codemirror_mode": {
    "name": "ipython",
    "version": 3
   },
   "file_extension": ".py",
   "mimetype": "text/x-python",
   "name": "python",
   "nbconvert_exporter": "python",
   "pygments_lexer": "ipython3",
   "version": "3.6.10"
  }
 },
 "nbformat": 4,
 "nbformat_minor": 4
}
