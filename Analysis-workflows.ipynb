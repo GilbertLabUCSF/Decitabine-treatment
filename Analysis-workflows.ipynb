{
 "cells": [
  {
   "cell_type": "markdown",
   "id": "a8e3dead",
   "metadata": {
    "tags": []
   },
   "source": [
    "# Differential Analysis Result Tables \n",
    "\n",
    "- [ ] short report about raw data and experiment design \n",
    "- [ ] describe analysis workflow and applied tools \n",
    "- [ ] describe results (plots, tables)\n",
    "- [ ] final interpretation "
   ]
  },
  {
   "cell_type": "code",
   "execution_count": 3,
   "id": "5ea2b113-e7c0-45b6-9187-6bfac2c7ae24",
   "metadata": {
    "tags": []
   },
   "outputs": [],
   "source": [
    "import matplotlib.pyplot as plt\n",
    "import seaborn as sns\n",
    "import pandas as pd\n",
    "import numpy as np\n",
    "\n",
    "from matplotlib import style \n",
    "from statannotations.Annotator import Annotator\n",
    "# style.use('seaborn-colorblind')\n",
    "sns.set(style='white')\n",
    "\n",
    "#adapted from http://nbviewer.ipython.org/github/cs109/content/blob/master/lec_03_statistical_graphs.ipynb    \n",
    "# https://sourcegraph.com/github.com/mhorlbeck/ScreenProcessing@4d8298df6ab831fd1bd160235488f3450f57363e/-/blob/screen_analysis.py?L570:5\n",
    "def cleanAxes(axis, top=False, right=False, bottom=True, left=True):\n",
    "    axis.spines['top'].set_visible(top)\n",
    "    axis.spines['right'].set_visible(right)\n",
    "    axis.spines['left'].set_visible(left)\n",
    "    axis.spines['bottom'].set_visible(bottom)\n",
    "\n",
    "    #turn off all ticks\n",
    "    axis.yaxis.set_ticks_position('none')\n",
    "    axis.xaxis.set_ticks_position('none')\n",
    "\n",
    "    #now re-enable visibles\n",
    "    if top:\n",
    "        axis.xaxis.tick_top()\n",
    "    if bottom:\n",
    "        axis.xaxis.tick_bottom()\n",
    "    if left:\n",
    "        axis.yaxis.tick_left()\n",
    "    if right:\n",
    "        axis.yaxis.tick_right()\n"
   ]
  },
  {
   "cell_type": "code",
   "execution_count": 11,
   "id": "ac5540c6-5cde-4f11-abf0-70bdf994137b",
   "metadata": {},
   "outputs": [],
   "source": [
    "from scipy import stats\n",
    "import statsmodels.api as sm\n",
    "from statsmodels.formula.api import ols"
   ]
  },
  {
   "cell_type": "markdown",
   "id": "0453b5a7-b167-4d43-875b-fac6b0344a28",
   "metadata": {
    "jp-MarkdownHeadingCollapsed": true,
    "tags": []
   },
   "source": [
    "## CRISPRi-screen\n",
    "Aim: analyzing differential phenotype of CRISPRi-screen data\n",
    "\n",
    "Tool: [ScreenProcessing](https://github.com/mhorlbeck/ScreenProcessing)\n",
    "\n",
    "#### Result:\n",
    "`CRISPRi-screen/hl60_exp1/DAC_processing_output_genetable_collapsed.txt`\n",
    "<!--`CRISPRi-screen/hl60_exp2/DAC_processing_output_genetable_collapsed.txt`-->\n",
    "\n",
    "<!-- > __Note__: all 5 gRNAs considered here.  -->\n",
    "\n",
    "- https://github.com/trevismd/statannotations"
   ]
  },
  {
   "cell_type": "markdown",
   "id": "07c5de8b-325a-4c19-b110-4ab079906394",
   "metadata": {
    "jp-MarkdownHeadingCollapsed": true,
    "tags": []
   },
   "source": [
    "#### `DESeq2` normalization \n",
    "- https://physiology.med.cornell.edu/faculty/skrabanek/lab/angsd/lecture_notes/08_practical.pdf"
   ]
  },
  {
   "cell_type": "code",
   "execution_count": 2,
   "id": "49ce8b68-64d7-467b-b9b4-961788f179c5",
   "metadata": {},
   "outputs": [],
   "source": [
    "library(DESeq2)\n",
    "library(dplyr)"
   ]
  },
  {
   "cell_type": "code",
   "execution_count": 3,
   "id": "ffc8120e-dafb-4986-aa9d-dd4d427eba29",
   "metadata": {},
   "outputs": [],
   "source": [
    "data = read.table(\n",
    "    'CRISPRi-screen/hl60_exp1/DAC_mergedcountstable.txt',\n",
    "    sep='\\t',header=TRUE,row.names=1)[-c(1,2),]\n",
    "\n",
    "data <- mutate_all(data, function(x) as.numeric(as.character(x)))\n",
    "\n",
    "meta = data.frame(\n",
    "    sampletype=c(rep('T0',2),rep('treated',2),rep('untreated',2)),\n",
    "    row.names=colnames(data)\n",
    ")"
   ]
  },
  {
   "cell_type": "code",
   "execution_count": 4,
   "id": "c0a144ee-1451-481a-b023-41dacc03a414",
   "metadata": {},
   "outputs": [
    {
     "name": "stderr",
     "output_type": "stream",
     "text": [
      "converting counts to integer mode\n",
      "\n",
      "Warning message in DESeqDataSet(se, design = design, ignoreRank):\n",
      "“some variables in design formula are characters, converting to factors”\n"
     ]
    }
   ],
   "source": [
    "dds <- DESeqDataSetFromMatrix(countData = data, colData = meta, design = ~ sampletype)\n",
    "dds <- estimateSizeFactors(dds)\n",
    "normalized_counts <- counts(dds, normalized=TRUE)\n",
    "# DESeq.rlog <- rlog(dds, blind = TRUE)\n",
    "# rlog.norm.counts <- assay(DESeq.rlog)\n",
    "\n",
    "write.table(\n",
    "    normalized_counts, \n",
    "    # rlog.norm.counts,\n",
    "    file=\"CRISPRi-screen/hl60_exp1/DAC_mergedcountstable_normalized_counts.txt\", sep=\"\\t\", quote=F\n",
    ")"
   ]
  },
  {
   "cell_type": "markdown",
   "id": "21df558c-4207-4a7c-8f06-1b2a03552564",
   "metadata": {
    "tags": []
   },
   "source": [
    "#### Barplot"
   ]
  },
  {
   "cell_type": "code",
   "execution_count": 142,
   "id": "2f23e6f5-2ae2-49df-9eb2-b43b71caad17",
   "metadata": {
    "tags": []
   },
   "outputs": [
    {
     "data": {
      "text/html": [
       "<div>\n",
       "<style scoped>\n",
       "    .dataframe tbody tr th:only-of-type {\n",
       "        vertical-align: middle;\n",
       "    }\n",
       "\n",
       "    .dataframe tbody tr th {\n",
       "        vertical-align: top;\n",
       "    }\n",
       "\n",
       "    .dataframe thead th {\n",
       "        text-align: right;\n",
       "    }\n",
       "</style>\n",
       "<table border=\"1\" class=\"dataframe\">\n",
       "  <thead>\n",
       "    <tr style=\"text-align: right;\">\n",
       "      <th></th>\n",
       "      <th>T0</th>\n",
       "      <th>T0.1</th>\n",
       "      <th>treated</th>\n",
       "      <th>treated.1</th>\n",
       "      <th>untreated</th>\n",
       "      <th>untreated.1</th>\n",
       "    </tr>\n",
       "  </thead>\n",
       "  <tbody>\n",
       "    <tr>\n",
       "      <th>count</th>\n",
       "      <td>104535.00000</td>\n",
       "      <td>104535.00000</td>\n",
       "      <td>104535.000000</td>\n",
       "      <td>104535.000000</td>\n",
       "      <td>104535.000000</td>\n",
       "      <td>104535.000000</td>\n",
       "    </tr>\n",
       "    <tr>\n",
       "      <th>mean</th>\n",
       "      <td>545.70697</td>\n",
       "      <td>545.70697</td>\n",
       "      <td>727.478423</td>\n",
       "      <td>727.544124</td>\n",
       "      <td>590.554094</td>\n",
       "      <td>588.936462</td>\n",
       "    </tr>\n",
       "    <tr>\n",
       "      <th>std</th>\n",
       "      <td>345.09397</td>\n",
       "      <td>345.09397</td>\n",
       "      <td>2496.508008</td>\n",
       "      <td>2549.954165</td>\n",
       "      <td>478.568782</td>\n",
       "      <td>476.587327</td>\n",
       "    </tr>\n",
       "  </tbody>\n",
       "</table>\n",
       "</div>"
      ],
      "text/plain": [
       "                 T0          T0.1        treated      treated.1  \\\n",
       "count  104535.00000  104535.00000  104535.000000  104535.000000   \n",
       "mean      545.70697     545.70697     727.478423     727.544124   \n",
       "std       345.09397     345.09397    2496.508008    2549.954165   \n",
       "\n",
       "           untreated    untreated.1  \n",
       "count  104535.000000  104535.000000  \n",
       "mean      590.554094     588.936462  \n",
       "std       478.568782     476.587327  "
      ]
     },
     "execution_count": 142,
     "metadata": {},
     "output_type": "execute_result"
    }
   ],
   "source": [
    "Ci_counts = pd.read_csv('CRISPRi-screen/hl60_exp1/DAC_mergedcountstable_normalized_counts.txt',sep='\\t')\n",
    "Ci_counts.describe().iloc[:3,]"
   ]
  },
  {
   "cell_type": "code",
   "execution_count": 143,
   "id": "812faebe-7b55-4fd0-a27f-3c4adfad8b91",
   "metadata": {},
   "outputs": [],
   "source": [
    "Ci_counts.index = Ci_counts.index.str.split('_').str[0]\n",
    "Ci_counts.index.name = None\n",
    "Ci_counts = Ci_counts[Ci_counts.sum(axis=1) > 5]\n",
    "Ci_counts = Ci_counts[Ci_counts.index != 'non-targeting']\n",
    "# Ci_counts.describe().iloc[:3,]"
   ]
  },
  {
   "cell_type": "code",
   "execution_count": 144,
   "id": "a1bbb581-0945-4e2e-acae-f478f16b06da",
   "metadata": {
    "tags": []
   },
   "outputs": [],
   "source": [
    "def plot_Ci_counts(counts,gene,ax=None,plot='boxplot',ylim=None,T0=False):\n",
    "    \n",
    "    # df = counts[counts.gene == gene].drop('gene',axis=1).T\n",
    "    df = counts[counts.index == gene].T\n",
    "    # select top 3 sgRNAs\n",
    "    df = pd.DataFrame(\n",
    "        [list(df.iloc[row,:].nlargest(3)) for row,_ in enumerate(df.index)],\n",
    "        index=[row_id for _,row_id in enumerate(df.index)],\n",
    "        columns=[gene,gene,gene]\n",
    "    )\n",
    "    df['treatment'] = [\"T0\",\"T0\",\"Decitabine\",\"Decitabine\",\"DMSO\",\"DMSO\"]\n",
    "    # df_column_uniquify\n",
    "    df_columns = df.columns\n",
    "    new_columns = []\n",
    "    for counter,item in enumerate(df_columns):\n",
    "        if gene in item:\n",
    "            newitem = \"{}_gRNA{}\".format(item, counter + 1)\n",
    "        else:\n",
    "            newitem = item\n",
    "        new_columns.append(newitem)\n",
    "    df.columns = new_columns\n",
    "    \n",
    "    dd=pd.melt(\n",
    "        df,\n",
    "        id_vars='treatment',value_vars=[col for col in df.columns if gene in col],var_name='columns'\n",
    "    )\n",
    "    data_title = \"gRNA count\" # Normalized\n",
    "    dd = dd.rename({'value':data_title},axis=1)\n",
    "    dd[data_title] = dd[data_title].astype(int)\n",
    "    my_pal = {\"Decitabine\": \"c\", \"DMSO\": \"lightgray\", 'T0':'azure'}\n",
    "    \n",
    "    if not T0:\n",
    "        dd = dd[dd.treatment != 'T0'].sort_values(by='treatment', axis=0, ascending=True)\n",
    "    if ax:\n",
    "        cleanAxes(ax)\n",
    "        if plot == 'pointplot':\n",
    "            p = sns.pointplot(x='treatment',y=data_title,data=dd,hue='treatment',palette=my_pal,ax=ax)\n",
    "\n",
    "        if plot == 'boxplot':\n",
    "            p = sns.boxplot(x='treatment',y=data_title,data=dd,hue='treatment',palette=my_pal,ax=ax)\n",
    "        \n",
    "        pairs=[(\"Decitabine\",\"DMSO\")]\n",
    "\n",
    "        annotator = Annotator(ax, pairs, x='treatment',y=data_title,data=dd)\n",
    "        annotator.configure(test='Mann-Whitney', text_format='star', loc='inside')\n",
    "        annotator.apply_and_annotate()\n",
    "        ax.set_title(gene,y=1.15,fontsize=14)\n",
    "        ax.set_xlabel(None)\n",
    "        ax.set_ylim(top=ylim)\n",
    "        ax.set_yscale('log')\n",
    "\n",
    "        for label in ax.get_xticklabels():\n",
    "            label.set_rotation(45)\n",
    "            label.set_ha('right')\n",
    "            \n",
    "        # return p\n",
    "        ax.tick_params(axis='both', which='major', labelsize=8)\n",
    "        ax.tick_params(axis='both', which='minor', labelsize=8)\n",
    "\n",
    "    else: \n",
    "        return dd"
   ]
  },
  {
   "cell_type": "code",
   "execution_count": 148,
   "id": "01e4e1a2-483d-4da0-a2b9-e5ac78329e75",
   "metadata": {
    "tags": []
   },
   "outputs": [
    {
     "name": "stderr",
     "output_type": "stream",
     "text": [
      "WARNING:matplotlib.legend:No handles with labels found to put in legend.\n"
     ]
    },
    {
     "name": "stdout",
     "output_type": "stream",
     "text": [
      "p-value annotation legend:\n",
      "      ns: p <= 1.00e+00\n",
      "       *: 1.00e-02 < p <= 5.00e-02\n",
      "      **: 1.00e-03 < p <= 1.00e-02\n",
      "     ***: 1.00e-04 < p <= 1.00e-03\n",
      "    ****: p <= 1.00e-04\n",
      "\n",
      "DMSO vs. Decitabine: Mann-Whitney-Wilcoxon test two-sided, P_val:3.064e-02 U_stat=3.200e+01\n",
      "p-value annotation legend:\n",
      "      ns: p <= 1.00e+00\n",
      "       *: 1.00e-02 < p <= 5.00e-02\n",
      "      **: 1.00e-03 < p <= 1.00e-02\n",
      "     ***: 1.00e-04 < p <= 1.00e-03\n",
      "    ****: p <= 1.00e-04\n",
      "\n",
      "DMSO vs. Decitabine: Mann-Whitney-Wilcoxon test two-sided, P_val:3.064e-02 U_stat=3.200e+01\n"
     ]
    },
    {
     "data": {
      "image/png": "[encoded data removed]",
      "text/plain": [
       "<Figure size 288x216 with 2 Axes>"
      ]
     },
     "metadata": {},
     "output_type": "display_data"
    }
   ],
   "source": [
    "f, axes = plt.subplots(1, 2,figsize=(4,3))\n",
    "leg = plt.legend()\n",
    "\n",
    "plot_Ci_counts(Ci_counts,gene = 'SQLE',ax=axes[0],ylim=3000)\n",
    "plot_Ci_counts(Ci_counts,gene = 'INTS5',ax=axes[1],ylim=3000)\n",
    "\n",
    "for ax in axes:\n",
    "    ax.get_legend().remove()\n",
    "    \n",
    "axes[1].set_ylabel(None)\n",
    "axes[1].tick_params(axis='y',label1On=False)\n",
    "# axes[1].legend(bbox_to_anchor=(1.05, 1), loc=2, borderaxespad=0.)\n",
    "\n",
    "f.tight_layout()\n",
    "f.savefig('Target-genes/Ci_counts.pdf')"
   ]
  },
  {
   "cell_type": "code",
   "execution_count": 55,
   "id": "ea1b47bc-73a1-4dd6-8667-3b11d13ea30a",
   "metadata": {
    "tags": []
   },
   "outputs": [],
   "source": [
    "# f, axes = plt.subplots(1, 2,figsize=(6,3))\n",
    "\n",
    "# plot_Ci_counts(Ci_counts,gene = 'BCL2',ax=axes[0])\n",
    "# plot_Ci_counts(Ci_counts,gene = 'FDFT1',ax=axes[1])\n",
    "\n",
    "# for ax in axes:\n",
    "#     leg = plt.legend()\n",
    "#     ax.get_legend().remove()\n",
    "# # axes[1].legend(bbox_to_anchor=(1.05, 1), loc=2, borderaxespad=0.)\n",
    "\n",
    "# plt.tight_layout()"
   ]
  },
  {
   "cell_type": "markdown",
   "id": "9ecc208f",
   "metadata": {
    "tags": []
   },
   "source": [
    "## RNA-seq\n",
    "Aim-1: analyzing differential experssion of RNA-seq data\n",
    "\n",
    "Tool: [DESeq2](https://bioconductor.org/packages/release/bioc/html/DESeq2.html), [iPAGE](https://github.com/goodarzilab/PAGE)\n",
    "\n",
    "#### Result: \n",
    "`RNA-seq/hl60-exp/hl60_exp_deseq2_norm.txt` - normalized counts \n",
    "\n",
    "`RNA-seq/hl60-exp/hl60_delta_exp_table.txt`\n",
    "- `gene_id`\n",
    "- `gene_name`\n",
    "- `baseMean`\n",
    "- `log2FC_6h`\n",
    "- `pval_6h`\n",
    "- `log2FC_72h`\n",
    "- `pval_72h`\n",
    "- `log2FC_120h`\n",
    "- `pval_120h`\n",
    "\n",
    "Aim-2: cell line consistency analysis \n"
   ]
  },
  {
   "cell_type": "code",
   "execution_count": 382,
   "id": "09995765-31a2-44b4-8451-f67a7f0b9653",
   "metadata": {},
   "outputs": [],
   "source": [
    "# exp = pd.read_csv('RNA-seq/exp/delta_exp_table.txt',sep='\\t')"
   ]
  },
  {
   "cell_type": "markdown",
   "id": "005cffc6-c638-49f8-a727-ea4452095c46",
   "metadata": {
    "tags": []
   },
   "source": [
    "### Expression"
   ]
  },
  {
   "cell_type": "code",
   "execution_count": 6,
   "id": "5fce6b02-6f96-4cf0-a54c-1325efd8ba07",
   "metadata": {},
   "outputs": [],
   "source": [
    "exp_counts  = pd.read_csv('RNA-seq/exp/deseq2_norm.txt',sep='\\t')"
   ]
  },
  {
   "cell_type": "code",
   "execution_count": 149,
   "id": "8aa28440-9c90-4ef2-88d9-431b750875be",
   "metadata": {
    "tags": []
   },
   "outputs": [],
   "source": [
    "def convert_pvalue_to_asterisks(pvalue):\n",
    "    if pvalue <= 0.0001:\n",
    "        return \"****\"\n",
    "    elif pvalue <= 0.001:\n",
    "        return \"***\"\n",
    "    elif pvalue <= 0.01:\n",
    "        return \"**\"\n",
    "    elif pvalue <= 0.05:\n",
    "        return \"*\"\n",
    "    return \"\"\n",
    "\n",
    "def plot_time_rna_seq(counts,gene,ax,data,plot='boxplot',ymin=None,ylim=None):\n",
    "    \n",
    "    df = counts[counts['name'] == gene].set_index('name').T\n",
    "    df['treatment'] = df.index.str.split('_').str[-2]\n",
    "    df['line'] = df.index.str.split('_').str[0]\n",
    "    df['time'] = 72\n",
    "    df.loc[df.line == 'hl60','time'] = df[df.line == 'hl60'].index.str.split('_').str[1].str[:-1].astype(int)\n",
    "    dd=pd.melt(\n",
    "        df[df.line == 'hl60'],\n",
    "        id_vars=['treatment','time'],value_vars=[gene],var_name='columns'\n",
    "    ).sort_values(by='time', axis=0, ascending=True)\n",
    "    dd['treatment'] = dd['treatment'].str.replace('t', 'Decitabine')\n",
    "    dd['treatment'] = dd['treatment'].str.replace('u', 'DMSO')\n",
    "    dd = dd.sort_values(by='treatment', axis=0, ascending=True).rename({'value':f'{data}'},axis=1)\n",
    "\n",
    "    my_pal = {\"Decitabine\": \"c\", \"DMSO\": \"lightgray\"}\n",
    "    \n",
    "    cleanAxes(ax)\n",
    "    if plot == 'pointplot':\n",
    "        p = sns.pointplot(x='time',y=f'{data}',data=dd,hue='treatment',palette=my_pal,ax=ax)\n",
    "        \n",
    "        # perform two-way ANOVA\n",
    "        model = ols(f'{data} ~ treatment + time + treatment:time', data=dd).fit()\n",
    "        pvalue = round(sm.stats.anova_lm(model, typ=2).iloc[0,3],3)\n",
    "        star = convert_pvalue_to_asterisks(pvalue)\n",
    "        # add pvalue as text\n",
    "        ax.text(0.8, 1,\n",
    "                # ,\n",
    "                f'{star} P={pvalue}', \n",
    "                horizontalalignment='center',\n",
    "                verticalalignment='center',\n",
    "                fontsize=8,color='darkblue',\n",
    "                weight=\"bold\",\n",
    "                transform = ax.transAxes\n",
    "               )\n",
    "        ax.set_title(gene,y=1.15,fontsize=14)\n",
    "    \n",
    "    # ax.set_ylim([ymin,ylim])\n",
    "    # ax.set_yscale('log')\n",
    "    if plot == 'boxplot':\n",
    "        p = sns.boxplot(x='time',y=f'{data}',data=dd,hue='treatment',palette=my_pal,ax=ax)\n",
    "    \n",
    "    ax.tick_params(axis='both', which='major', labelsize=8)\n",
    "    ax.tick_params(axis='both', which='minor', labelsize=8)\n",
    "\n",
    "    return p"
   ]
  },
  {
   "cell_type": "code",
   "execution_count": 150,
   "id": "538b5a3b-963e-4f64-af62-53ff5c5c4bc3",
   "metadata": {
    "tags": []
   },
   "outputs": [
    {
     "data": {
      "image/png": "[encoded data removed]",
      "text/plain": [
       "<Figure size 576x216 with 2 Axes>"
      ]
     },
     "metadata": {},
     "output_type": "display_data"
    }
   ],
   "source": [
    "f, axes = plt.subplots(1, 2,figsize=(8,3))\n",
    "\n",
    "plot_time_rna_seq(exp_counts,gene = 'SQLE',ax=axes[0],data='Expression',plot='pointplot')\n",
    "axes[0].get_legend().remove()\n",
    "axes[0].set_ylim(bottom=1000,top=2000)\n",
    "# axes[0].set_yscale('log')\n",
    "\n",
    "plot_time_rna_seq(exp_counts,gene = 'INTS5',ax=axes[1],data='Expression',plot='pointplot')\n",
    "axes[1].legend(bbox_to_anchor=(1.05, 1), loc=2, borderaxespad=0.)\n",
    "axes[1].set_ylim(bottom=50,top=200)\n",
    "\n",
    "plt.tight_layout()\n",
    "plt.savefig('Target-genes/Exp.pdf')"
   ]
  },
  {
   "cell_type": "code",
   "execution_count": 151,
   "id": "98746bec-7be6-4e33-9a43-a17cf8aefe2f",
   "metadata": {},
   "outputs": [],
   "source": [
    "# plot_time_rna_seq(exp_counts,gene = 'SQLE',ax=axes[0,0],data='Expression',ylim=ylim)\n",
    "# leg = f.legend()\n",
    "# axes[0,0].get_legend().remove()\n",
    "# plot_time_rna_seq(exp_counts,gene = 'INTS5',ax=axes[0,1],data='Expression',ylim=ylim)\n",
    "# axes[0,1].get_legend().remove()\n"
   ]
  },
  {
   "cell_type": "markdown",
   "id": "54e13593-c55f-4c67-a284-3006e685e543",
   "metadata": {},
   "source": [
    "## Stability"
   ]
  },
  {
   "cell_type": "code",
   "execution_count": 152,
   "id": "9d7ba0b9-4fad-4756-a2a9-0ca88ec56121",
   "metadata": {},
   "outputs": [],
   "source": [
    "stbl_counts_norm = pd.read_csv('RNA-seq/stbl/normalized_stbl_count_table.txt',sep='\\t')\n",
    "stbl_counts = pd.read_csv('RNA-seq/stbl/REMBRANDTS.txt',sep='\\t').set_index('GeneID').loc[stbl_counts_norm.index,]\n",
    "stbl_counts['name'] = stbl_counts_norm['name']\n",
    "# stbl_counts.set_index('name',inplace=True)"
   ]
  },
  {
   "cell_type": "code",
   "execution_count": 153,
   "id": "cddb2d0e-488a-4fde-9a03-ed19f5ffe8a2",
   "metadata": {
    "tags": []
   },
   "outputs": [
    {
     "data": {
      "image/png": "[encoded data removed]",
      "text/plain": [
       "<Figure size 576x216 with 2 Axes>"
      ]
     },
     "metadata": {},
     "output_type": "display_data"
    }
   ],
   "source": [
    "f, axes = plt.subplots(1, 2,figsize=(8,3))\n",
    "\n",
    "plot_time_rna_seq(stbl_counts,gene = 'SQLE',ax=axes[0],data='Stability',plot='pointplot',ylim=ylim)\n",
    "axes[0].get_legend().remove()\n",
    "axes[0].set_ylim(bottom=-0.4,top=0.4)\n",
    "\n",
    "plot_time_rna_seq(stbl_counts,gene = 'FDFT1',ax=axes[1],data='Stability',plot='pointplot',ylim=ylim)\n",
    "axes[1].legend(bbox_to_anchor=(1.05, 1), loc=2, borderaxespad=0.)\n",
    "axes[1].set_ylim(bottom=-0.8,top=0.3)\n",
    "\n",
    "plt.tight_layout()\n",
    "plt.savefig('Target-genes/Stbl.pdf')"
   ]
  },
  {
   "cell_type": "code",
   "execution_count": 133,
   "id": "e90c3c9c-de4b-4885-983c-fe5740aa66c6",
   "metadata": {
    "tags": []
   },
   "outputs": [],
   "source": [
    "# f, axes = plt.subplots(2, 2,figsize=(10,6))\n",
    "\n",
    "# plot_time_rna_seq(stbl_counts,gene = 'SQLE',ax=axes[0,0],data='Stability',plot='pointplot')\n",
    "# axes[0,0].legend('')\n",
    "# plot_time_rna_seq(stbl_counts,gene = 'FDFT1',ax=axes[0,1],data='Stability',plot='pointplot')\n",
    "# axes[0,1].legend(bbox_to_anchor=(1.05, 1), loc=2, borderaxespad=0.)\n",
    "\n",
    "# plot_time_rna_seq(stbl_counts,gene = 'CES1',ax=axes[1,0],data='Stability',plot='pointplot')\n",
    "# axes[1,0].legend('')\n",
    "# plot_time_rna_seq(stbl_counts,gene = 'TGFBR1',ax=axes[1,1],data='Stability',plot='pointplot')\n",
    "# axes[1,1].legend('')\n",
    "\n",
    "# plt.tight_layout()"
   ]
  },
  {
   "cell_type": "markdown",
   "id": "ea025e42-3122-4d0e-900f-693e578702e6",
   "metadata": {
    "jp-MarkdownHeadingCollapsed": true,
    "tags": []
   },
   "source": [
    "> #### FDFT1\n",
    "> [__Azacitidine in combination with chemotherapy in pediatric AML patients– a phase I study__](https://aml-hub.com/medical-information/azacitidine-in-combination-with-chemotherapy-in-pediatric-aml-patients-a-phase-i-study)\n",
    "> - _FDFT1 was significantly different between responders and non-responders, P = 0.002_"
   ]
  },
  {
   "cell_type": "markdown",
   "id": "6c1ec4ad-76e8-43c0-a33a-450f9fab2023",
   "metadata": {},
   "source": [
    "## meRIP-seq\n",
    "Experiment design: Two replicates of samples for both treated with Decitabine drug and non-treated (\n",
    "`T1.input.bam`\n",
    "`T1.m6A.bam`\n",
    "`T2.input.bam`\n",
    "`T2.m6A.bam`\n",
    "`U1.input.bam`\n",
    "`U1.m6A.bam`\n",
    "`U2.input.bam`\n",
    "`U2.m6A.bam`\n",
    ") used for meRIP-seq experiment. \n",
    "\n",
    "Aim: analyzing differential methylation of MeRIP-seq data\n",
    "\n",
    "Tool: [RADAR](https://github.com/scottzijiezhang/RADAR)\n",
    "\n",
    "#### Result: \n",
    "`meRIP-seq/hl60_delta_mtyl_table.txt`. \n",
    "_Columns_: \n",
    "- `chr`\n",
    "- `start`\n",
    "- `end`\n",
    "- `name`\n",
    "- `score`\n",
    "- `strand`\n",
    "- `thickStart`\n",
    "- `thickEnd`\n",
    "- `itemRgb`\n",
    "- `blockCount`\n",
    "- `blockSizes`\n",
    "- `blockStarts`\n",
    "- `logFC`\n",
    "- `p_value`\n",
    "- `ensembl`"
   ]
  },
  {
   "cell_type": "markdown",
   "id": "27c4d49a",
   "metadata": {},
   "source": [
    "## Ribo-seq\n",
    "\n",
    "Aim: analyzing differential translation of Ribo-seq data\n",
    "\n",
    "Tool: [Ribolog](https://github.com/goodarzilab/Ribolog)\n",
    "\n",
    "\n",
    "#### Result:\n",
    "`Ribo-seq/hl60_delta_te_table.txt`\n",
    "\n",
    "- `transcript`\n",
    "- `gene_id`\n",
    "- `gene_name`\n",
    "- `Estimate_treatmentDRUG`\n",
    "- `Pr...z.._treatmentDRUG`\n",
    "- `fdr_Pr...z.._treatmentDRUG`\n",
    "- `qvalue_Pr...z.._treatmentDRUG`\n"
   ]
  },
  {
   "cell_type": "markdown",
   "id": "f3fec395",
   "metadata": {},
   "source": [
    "# Combined Analysis\n",
    "\n",
    "- [ ] describe analysis purpose \n",
    "- [ ] describe results (plots, tables)\n",
    "- [ ] final interpretation "
   ]
  },
  {
   "cell_type": "markdown",
   "id": "c60f7e68",
   "metadata": {},
   "source": [
    "## hyper-geometric-test\n",
    "\n",
    "## mtyl-enrichment\n",
    "\n",
    "## intersectional-genes\n"
   ]
  }
 ],
 "metadata": {
  "kernelspec": {
   "display_name": "Python [conda env:down]",
   "language": "python",
   "name": "conda-env-down-py"
  },
  "language_info": {
   "codemirror_mode": {
    "name": "ipython",
    "version": 3
   },
   "file_extension": ".py",
   "mimetype": "text/x-python",
   "name": "python",
   "nbconvert_exporter": "python",
   "pygments_lexer": "ipython3",
   "version": "3.6.13"
  }
 },
 "nbformat": 4,
 "nbformat_minor": 5
}
