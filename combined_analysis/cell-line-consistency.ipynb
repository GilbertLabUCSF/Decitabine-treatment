{
 "cells": [
  {
   "cell_type": "markdown",
   "metadata": {
    "tags": []
   },
   "source": [
    "# Compare cell lines "
   ]
  },
  {
   "cell_type": "markdown",
   "metadata": {},
   "source": [
    "Aim: Looking for genes that are hyper methylated and sensitized in HL60 cell line, and show decrease in RNA expression or stability among multiple AML cell lines. "
   ]
  },
  {
   "cell_type": "code",
   "execution_count": 2,
   "metadata": {
    "tags": []
   },
   "outputs": [],
   "source": [
    "import matplotlib as mpl\n",
    "\n",
    "import sys \n",
    "import pandas as pd \n",
    "import numpy as np\n",
    "from matplotlib.pyplot import subplots\n",
    "from itertools import chain, product\n",
    "from matplotlib_venn import venn3,venn3_circles, venn3_unweighted\n",
    "from venn import venn \n",
    "\n",
    "import upsetplot as us\n",
    "from matplotlib.backends.backend_pdf import PdfPages\n",
    "\n",
    "sys.path.append('../scripts/')\n",
    "\n",
    "from util import *"
   ]
  },
  {
   "cell_type": "code",
   "execution_count": 3,
   "metadata": {},
   "outputs": [],
   "source": [
    "wd = '/data_gilbert/home/aarab/AML/Decitabine-treatment/DAC'"
   ]
  },
  {
   "cell_type": "code",
   "execution_count": 4,
   "metadata": {},
   "outputs": [],
   "source": [
    "!mkdir -p cell-line-consistency"
   ]
  },
  {
   "cell_type": "markdown",
   "metadata": {},
   "source": [
    "## Load data\n",
    "Comparing treated with Decitabine vs. non-treated:\n",
    "- **$\\Delta$RNA methylation**  (hl60 cell line)\n",
    "- **$\\Delta$Translational efficiency** (hl60 cell line)\n",
    "- **$\\Delta$RNA expression** (For all 6 AML cell lines)\n",
    "- **$\\Delta$RNA stability** (For all 6 AML cell lines)\n",
    "- **$\\Delta$Phenotype, CRISPRi-screen $\\rho$(rho) score** (hl60 and molm13 cell lines) "
   ]
  },
  {
   "cell_type": "markdown",
   "metadata": {},
   "source": [
    "https://stackoverflow.com/questions/8376335/styling-part-of-label-in-legend-in-matplotlib"
   ]
  },
  {
   "cell_type": "code",
   "execution_count": 5,
   "metadata": {},
   "outputs": [],
   "source": [
    "def upset_to_intersect(upset_data, extract):\n",
    "    ids = us.from_contents(upset_data).id.to_list()\n",
    "    df = us.from_contents(upset_data).index.to_frame().reset_index(drop=True)\n",
    "    df.index = ids\n",
    "    out = df[df[extract].sum(axis=1) == len(extract)].index.to_list()\n",
    "    return out"
   ]
  },
  {
   "cell_type": "code",
   "execution_count": 6,
   "metadata": {},
   "outputs": [],
   "source": [
    "comps = load_data(comparisons=True,wd=wd)"
   ]
  },
  {
   "cell_type": "markdown",
   "metadata": {},
   "source": [
    "## rho down"
   ]
  },
  {
   "cell_type": "code",
   "execution_count": 7,
   "metadata": {},
   "outputs": [
    {
     "name": "stdout",
     "output_type": "stream",
     "text": [
      "up:  592\n",
      "down: 701\n"
     ]
    }
   ],
   "source": [
    "scrns = load_data(screens=True,wd=wd)\n",
    "\n",
    "scrns['hl60_exp1_rho'] = scrns['hl60_exp1_rho'].astype(float)\n",
    "\n",
    "scrns['hl60_exp1_rho'].columns\n",
    "\n",
    "_,Ci_down = find_top(\n",
    "    scrns['hl60_exp1_rho'],'rho score', 0.1,'Mann-Whitney p-value',0.05\n",
    ")"
   ]
  },
  {
   "cell_type": "markdown",
   "metadata": {},
   "source": [
    "## hyper methylation"
   ]
  },
  {
   "cell_type": "code",
   "execution_count": 8,
   "metadata": {},
   "outputs": [
    {
     "name": "stdout",
     "output_type": "stream",
     "text": [
      "up:  2064\n",
      "down: 1399\n"
     ]
    }
   ],
   "source": [
    "mtyl_up, _ = find_top(comps['delta_mtyl'],\"logFC\",1,\"pval\",0.05)"
   ]
  },
  {
   "cell_type": "markdown",
   "metadata": {},
   "source": [
    "# Phe"
   ]
  },
  {
   "cell_type": "code",
   "execution_count": 9,
   "metadata": {
    "tags": []
   },
   "outputs": [],
   "source": [
    "delta_phe = merge_screen_data(cells=['hl60','molm13','skm1'],exps=['exp1','exp'],scores=['rho'],data=scrns).reset_index()"
   ]
  },
  {
   "cell_type": "code",
   "execution_count": 10,
   "metadata": {},
   "outputs": [
    {
     "name": "stdout",
     "output_type": "stream",
     "text": [
      "hl60\n",
      "691\n",
      "____________________\n",
      "molm13\n",
      "524\n",
      "____________________\n",
      "skm1\n",
      "912\n",
      "____________________\n"
     ]
    }
   ],
   "source": [
    "cell_lines = {}\n",
    "\n",
    "for fc, pval in zip(delta_phe.columns[1::2],  delta_phe.columns[2::2]):\n",
    "    \n",
    "    name = fc.replace('_rho score','').split('_')[0]\n",
    "    print (name)\n",
    "    \n",
    "    _,sen_hits = find_top(delta_phe.dropna(),fc, 0.1, pval, 0.05,silent=True)\n",
    "    \n",
    "    cell_lines[fc.replace('_rho score','')] = list(set(\n",
    "        sen_hits.gene_name.tolist())\n",
    "        # .intersection(set(\n",
    "        # mtyl_up.gene_name))\n",
    "    )\n",
    "    print(len(cell_lines[fc.replace('_rho score','')]))\n",
    "    print (20*'_')\n",
    "    "
   ]
  },
  {
   "cell_type": "code",
   "execution_count": null,
   "metadata": {},
   "outputs": [],
   "source": []
  },
  {
   "cell_type": "code",
   "execution_count": 11,
   "metadata": {
    "tags": []
   },
   "outputs": [],
   "source": [
    "# cell_lines['skm1_exp']"
   ]
  },
  {
   "cell_type": "code",
   "execution_count": 12,
   "metadata": {},
   "outputs": [],
   "source": [
    "# phe_upset_data = dict([(c,cell_lines[c]) for c in cell_lines if cell_lines[c]])"
   ]
  },
  {
   "cell_type": "code",
   "execution_count": 13,
   "metadata": {},
   "outputs": [],
   "source": [
    "# # Stability upset plot\n",
    "# fig1 = plt.figure()\n",
    "# upset1 = us.UpSet(\n",
    "#     us.from_contents(phe_upset_data),\n",
    "#     # min_degree=2,\n",
    "#     sort_by='cardinality',\n",
    "#     # orientation='vertical',\n",
    "#     show_counts=True,\n",
    "#     # totals_plot_elements=10,\n",
    "#     other_dots_color=0.2,\n",
    "#     facecolor='lightgrey'\n",
    "# )\n",
    "# upset1.style_subsets(\n",
    "#     present=[\"hl60_exp1\"], \n",
    "#     # label=\"\", \n",
    "#     facecolor='brown'\n",
    "# )\n",
    "# upset1.style_subsets(\n",
    "#     present=[\"hl60_exp1\"], \n",
    "#     facecolor='brown'\n",
    "# )\n",
    "\n",
    "# upset1.plot(fig1)\n",
    "\n",
    "\n",
    "# # plt.title(\n",
    "# #     \"HL-60:\\nΔPhenotype (ρ)\\nlog2FC < -0.1\\nΔRNA Methylation\\nlog2FC > 1\\n\\nAML Cell lines panel:\\nΔRNA Stability\\nlog2FC < -0.1\",\n",
    "# #     fontsize=10,#fontweight='bold'\n",
    "# # )\n",
    "# # plt.savefig('cell-line-consistency/intersection_stbl_upset_plot.pdf',dpi=300)\n",
    "# plt.show()"
   ]
  },
  {
   "cell_type": "code",
   "execution_count": 14,
   "metadata": {},
   "outputs": [],
   "source": [
    "# upset_to_intersect(phe_upset_data, extract = ['hl60_exp1','molm13_exp'])"
   ]
  },
  {
   "cell_type": "code",
   "execution_count": 15,
   "metadata": {},
   "outputs": [],
   "source": [
    "# upset_to_intersect(phe_upset_data, extract = ['hl60_exp1','skm1_exp'])"
   ]
  },
  {
   "cell_type": "markdown",
   "metadata": {
    "tags": []
   },
   "source": [
    "# Exp"
   ]
  },
  {
   "cell_type": "code",
   "execution_count": 16,
   "metadata": {},
   "outputs": [
    {
     "name": "stdout",
     "output_type": "stream",
     "text": [
      "hl60_6h\n",
      "____________________\n",
      "9\n",
      "hl60_72h\n",
      "____________________\n",
      "10\n",
      "hl60_72h_only\n",
      "____________________\n",
      "4\n",
      "hl60_120h\n",
      "____________________\n",
      "16\n",
      "kg1\n",
      "____________________\n",
      "4\n",
      "molm13\n",
      "____________________\n",
      "38\n",
      "molm14\n",
      "____________________\n",
      "7\n",
      "ociaml3\n",
      "____________________\n",
      "3\n",
      "skm1\n",
      "____________________\n",
      "36\n"
     ]
    }
   ],
   "source": [
    "cell_lines = {}\n",
    "\n",
    "for fc, pval in zip(comps['delta_exp'].columns[1::2],  comps['delta_exp'].columns[2::2]):\n",
    "    \n",
    "    print (fc.replace('_log2FC',''))\n",
    "    _,exp_down = find_top(comps['delta_exp'].dropna(),fc, 0.1, pval, 0.05,silent=True)\n",
    "    print (20*'_')\n",
    "    \n",
    "    cell_lines[fc.replace('_log2FC','')] = list(set(\n",
    "        exp_down.gene_name.tolist()).intersection(set(\n",
    "        Ci_down.index.tolist())).intersection(set(\n",
    "        mtyl_up.gene_name)))\n",
    "    print(len(cell_lines[fc.replace('_log2FC','')]))\n",
    "\n",
    "del cell_lines['hl60_72h_only']\n",
    "del cell_lines['hl60_6h']"
   ]
  },
  {
   "cell_type": "code",
   "execution_count": 17,
   "metadata": {},
   "outputs": [],
   "source": [
    "exp_upset_data = dict([(c,cell_lines[c]) for c in cell_lines if cell_lines[c]])"
   ]
  },
  {
   "cell_type": "code",
   "execution_count": 18,
   "metadata": {},
   "outputs": [
    {
     "data": {
      "image/png": "[encoded data removed]",
      "text/plain": [
       "<Figure size 577.778x844.444 with 4 Axes>"
      ]
     },
     "metadata": {},
     "output_type": "display_data"
    }
   ],
   "source": [
    "# Expression upset plot\n",
    "fig1 = plt.figure()\n",
    "upset1 = us.UpSet(\n",
    "    us.from_contents(exp_upset_data),\n",
    "    min_degree=2,\n",
    "    sort_by='cardinality',\n",
    "    orientation='vertical',\n",
    "    show_counts=True,\n",
    "    # totals_plot_elements=10,\n",
    "    other_dots_color=0.2,\n",
    "    facecolor='lightgrey'\n",
    ")\n",
    "upset1.style_subsets(\n",
    "    present=[\"hl60_72h\"], \n",
    "    # label=\"\", \n",
    "    facecolor='brown'\n",
    ")\n",
    "upset1.style_subsets(\n",
    "    present=[\"hl60_120h\"], \n",
    "    facecolor='brown'\n",
    ")\n",
    "\n",
    "upset1.plot(fig=fig1)\n",
    "plt.title(\n",
    "    \"HL-60:\\nΔPhenotype (ρ)\\nlog2FC < -0.1\\nΔRNA Methylation\\nlog2FC > 1\\n\\nAML Cell lines panel:\\nΔRNA Expression\\nlog2FC < -0.1\",\n",
    "    fontsize=10,#fontweight='bold'\n",
    ")\n",
    "plt.savefig('cell-line-consistency/intersection_exp_upset_plot.pdf',dpi=300)\n",
    "plt.show()"
   ]
  },
  {
   "cell_type": "code",
   "execution_count": 19,
   "metadata": {},
   "outputs": [
    {
     "data": {
      "text/plain": [
       "{'MYBBP1A', 'RBM14-RBM4', 'RNF126', 'SLC7A6'}"
      ]
     },
     "execution_count": 19,
     "metadata": {},
     "output_type": "execute_result"
    }
   ],
   "source": [
    "set(upset_to_intersect(exp_upset_data, extract = ['hl60_120h','hl60_72h'])) - \\\n",
    "set(upset_to_intersect(exp_upset_data, extract = ['molm13','skm1','hl60_120h','hl60_72h']))"
   ]
  },
  {
   "cell_type": "code",
   "execution_count": 20,
   "metadata": {},
   "outputs": [
    {
     "data": {
      "text/plain": [
       "['INTS5', 'DHODH', 'ZNF777', 'SQLE', 'PMPCA']"
      ]
     },
     "execution_count": 20,
     "metadata": {},
     "output_type": "execute_result"
    }
   ],
   "source": [
    "upset_to_intersect(exp_upset_data, extract = ['molm13','skm1','hl60_120h','hl60_72h'])"
   ]
  },
  {
   "cell_type": "code",
   "execution_count": 21,
   "metadata": {},
   "outputs": [
    {
     "data": {
      "text/plain": [
       "['XRCC2', 'SMC4']"
      ]
     },
     "execution_count": 21,
     "metadata": {},
     "output_type": "execute_result"
    }
   ],
   "source": [
    "upset_to_intersect(exp_upset_data, extract = ['molm13','skm1','hl60_120h','molm14'])"
   ]
  },
  {
   "cell_type": "code",
   "execution_count": 22,
   "metadata": {},
   "outputs": [
    {
     "data": {
      "text/plain": [
       "{'CCP110', 'RABEP1', 'USP37'}"
      ]
     },
     "execution_count": 22,
     "metadata": {},
     "output_type": "execute_result"
    }
   ],
   "source": [
    "set(upset_to_intersect(exp_upset_data, extract = ['molm13','skm1','hl60_120h'])) - \\\n",
    "set(upset_to_intersect(exp_upset_data, extract = ['molm13','skm1','hl60_120h','hl60_72h'])) - \\\n",
    "set(upset_to_intersect(exp_upset_data, extract = ['molm13','skm1','hl60_120h','molm14']))"
   ]
  },
  {
   "cell_type": "code",
   "execution_count": 23,
   "metadata": {},
   "outputs": [
    {
     "data": {
      "text/plain": [
       "['INTS5',\n",
       " 'MYBBP1A',\n",
       " 'RNF126',\n",
       " 'DHODH',\n",
       " 'ZNF777',\n",
       " 'SQLE',\n",
       " 'PMPCA',\n",
       " 'CCP110',\n",
       " 'XRCC2',\n",
       " 'USP37',\n",
       " 'RABEP1',\n",
       " 'FAT1',\n",
       " 'SMC4']"
      ]
     },
     "execution_count": 23,
     "metadata": {},
     "output_type": "execute_result"
    }
   ],
   "source": [
    "upset_to_intersect(exp_upset_data, extract = ['hl60_120h','skm1'])"
   ]
  },
  {
   "cell_type": "code",
   "execution_count": 24,
   "metadata": {},
   "outputs": [
    {
     "data": {
      "text/plain": [
       "['INTS5',\n",
       " 'DHODH',\n",
       " 'ZNF777',\n",
       " 'SQLE',\n",
       " 'PMPCA',\n",
       " 'CCP110',\n",
       " 'XRCC2',\n",
       " 'USP37',\n",
       " 'RABEP1',\n",
       " 'SMC4']"
      ]
     },
     "execution_count": 24,
     "metadata": {},
     "output_type": "execute_result"
    }
   ],
   "source": [
    "upset_to_intersect(exp_upset_data, extract = ['hl60_120h','skm1','molm13'])"
   ]
  },
  {
   "cell_type": "code",
   "execution_count": 25,
   "metadata": {},
   "outputs": [
    {
     "data": {
      "text/plain": [
       "['MYBBP1A']"
      ]
     },
     "execution_count": 25,
     "metadata": {},
     "output_type": "execute_result"
    }
   ],
   "source": [
    "upset_to_intersect(exp_upset_data, extract = ['hl60_120h','skm1','ociaml3'])"
   ]
  },
  {
   "cell_type": "code",
   "execution_count": 26,
   "metadata": {},
   "outputs": [
    {
     "data": {
      "text/plain": [
       "{'MYBBP1A', 'RNF126'}"
      ]
     },
     "execution_count": 26,
     "metadata": {},
     "output_type": "execute_result"
    }
   ],
   "source": [
    "set(upset_to_intersect(exp_upset_data, extract = ['hl60_120h','hl60_72h','skm1'])) - \\\n",
    "set(upset_to_intersect(exp_upset_data, extract = ['molm13','skm1','hl60_120h','hl60_72h']))"
   ]
  },
  {
   "cell_type": "code",
   "execution_count": 27,
   "metadata": {},
   "outputs": [
    {
     "data": {
      "text/plain": [
       "{'INO80D'}"
      ]
     },
     "execution_count": 27,
     "metadata": {},
     "output_type": "execute_result"
    }
   ],
   "source": [
    "set(upset_to_intersect(exp_upset_data, extract = ['hl60_72h','molm13'])) - \\\n",
    "set(upset_to_intersect(exp_upset_data, extract = ['molm13','skm1','hl60_120h','hl60_72h']))"
   ]
  },
  {
   "cell_type": "code",
   "execution_count": 28,
   "metadata": {},
   "outputs": [
    {
     "data": {
      "text/plain": [
       "{'BCL2', 'EIF3A', 'HEBP2', 'LIN9', 'SMC4', 'XRCC2'}"
      ]
     },
     "execution_count": 28,
     "metadata": {},
     "output_type": "execute_result"
    }
   ],
   "source": [
    "set(upset_to_intersect(exp_upset_data, extract = ['molm13','molm14']))"
   ]
  },
  {
   "cell_type": "code",
   "execution_count": 29,
   "metadata": {},
   "outputs": [
    {
     "data": {
      "text/plain": [
       "{'PRDM15'}"
      ]
     },
     "execution_count": 29,
     "metadata": {},
     "output_type": "execute_result"
    }
   ],
   "source": [
    "set(upset_to_intersect(exp_upset_data, extract = ['ociaml3','kg1']))"
   ]
  },
  {
   "cell_type": "code",
   "execution_count": 30,
   "metadata": {},
   "outputs": [
    {
     "data": {
      "text/plain": [
       "{'GSK3B', 'PTEN'}"
      ]
     },
     "execution_count": 30,
     "metadata": {},
     "output_type": "execute_result"
    }
   ],
   "source": [
    "set(upset_to_intersect(exp_upset_data, extract = ['molm13','kg1']))"
   ]
  },
  {
   "cell_type": "code",
   "execution_count": 31,
   "metadata": {
    "tags": []
   },
   "outputs": [
    {
     "data": {
      "text/plain": [
       "['kg1', 'molm13']"
      ]
     },
     "execution_count": 31,
     "metadata": {},
     "output_type": "execute_result"
    }
   ],
   "source": [
    "[comp for comp,genes in exp_upset_data.items() if 'PTEN' in genes]"
   ]
  },
  {
   "cell_type": "markdown",
   "metadata": {},
   "source": [
    "> #### Role and potential for therapeutic targeting of MYB in leukemia\n",
    "> - https://www.nature.com/articles/leu2012225\n",
    "> - The NRD is believed to act at least in part by the recruitment of co-repressors, such as TIF1β and __Mybbp1a__, that interfere with target gene activation."
   ]
  },
  {
   "cell_type": "markdown",
   "metadata": {},
   "source": [
    "> #### DHODH inhibition synergizes with DNA-demethylating agents in the treatment of myelodysplastic syndromes\n",
    "> - https://www.ncbi.nlm.nih.gov/pmc/articles/PMC7839369/"
   ]
  },
  {
   "cell_type": "code",
   "execution_count": 32,
   "metadata": {},
   "outputs": [],
   "source": [
    "# ol_genes = list({gene for _, genes in exp_upset_data.items() for gene in genes})\n",
    "# ol_genes.sort()"
   ]
  },
  {
   "cell_type": "code",
   "execution_count": 33,
   "metadata": {
    "tags": []
   },
   "outputs": [],
   "source": [
    "# ol_genes"
   ]
  },
  {
   "cell_type": "markdown",
   "metadata": {},
   "source": [
    "## Stbl"
   ]
  },
  {
   "cell_type": "code",
   "execution_count": 34,
   "metadata": {},
   "outputs": [
    {
     "name": "stdout",
     "output_type": "stream",
     "text": [
      "hl60_120h\n",
      "____________________\n",
      "6\n",
      "hl60_72h\n",
      "____________________\n",
      "2\n",
      "hl60_6h\n",
      "____________________\n",
      "2\n",
      "kg1\n",
      "____________________\n",
      "2\n",
      "molm13\n",
      "____________________\n",
      "16\n",
      "molm14\n",
      "____________________\n",
      "3\n",
      "ociaml3\n",
      "____________________\n",
      "0\n",
      "skm1\n",
      "____________________\n",
      "14\n"
     ]
    }
   ],
   "source": [
    "cell_lines = {}\n",
    "\n",
    "for fc, pval in zip(comps['delta_stbl'].columns[1::2],  comps['delta_stbl'].columns[2::2]):\n",
    "    \n",
    "    print (fc.replace('_log2FC',''))\n",
    "    _,exp_down = find_top(comps['delta_stbl'].dropna(),fc, 0.1, pval, 0.05,silent=True)\n",
    "    print (20*'_')\n",
    "    \n",
    "    cell_lines[fc.replace('_log2FC','')] = list(set(\n",
    "        exp_down.gene_name.tolist()).intersection(set(\n",
    "        Ci_down.index.tolist())).intersection(set(\n",
    "        mtyl_up.gene_name)))\n",
    "    print(len(cell_lines[fc.replace('_log2FC','')]))\n",
    "\n",
    "del cell_lines['hl60_6h']"
   ]
  },
  {
   "cell_type": "code",
   "execution_count": 35,
   "metadata": {},
   "outputs": [],
   "source": [
    "stbl_upset_data = dict([(c,cell_lines[c]) for c in cell_lines if cell_lines[c]])"
   ]
  },
  {
   "cell_type": "code",
   "execution_count": 36,
   "metadata": {},
   "outputs": [
    {
     "data": {
      "text/plain": [
       "dict_keys(['hl60_120h', 'hl60_72h', 'kg1', 'molm13', 'molm14', 'skm1'])"
      ]
     },
     "execution_count": 36,
     "metadata": {},
     "output_type": "execute_result"
    }
   ],
   "source": [
    "stbl_upset_data.keys()"
   ]
  },
  {
   "cell_type": "code",
   "execution_count": 37,
   "metadata": {},
   "outputs": [
    {
     "data": {
      "image/png": "[encoded data removed]",
      "text/plain": [
       "<Figure size 533.333x533.333 with 4 Axes>"
      ]
     },
     "metadata": {},
     "output_type": "display_data"
    }
   ],
   "source": [
    "# Stability upset plot\n",
    "fig1 = plt.figure()\n",
    "upset1 = us.UpSet(\n",
    "    us.from_contents(stbl_upset_data),\n",
    "    min_degree=2,\n",
    "    sort_by='cardinality',\n",
    "    orientation='vertical',\n",
    "    show_counts=True,\n",
    "    # totals_plot_elements=10,\n",
    "    other_dots_color=0.2,\n",
    "    facecolor='lightgrey'\n",
    ")\n",
    "upset1.style_subsets(\n",
    "    present=[\"hl60_72h\"], \n",
    "    # label=\"\", \n",
    "    facecolor='brown'\n",
    ")\n",
    "upset1.style_subsets(\n",
    "    present=[\"hl60_120h\"], \n",
    "    facecolor='brown'\n",
    ")\n",
    "\n",
    "upset1.plot(fig1)\n",
    "\n",
    "\n",
    "plt.title(\n",
    "    \"HL-60:\\nΔPhenotype (ρ)\\nlog2FC < -0.1\\nΔRNA Methylation\\nlog2FC > 1\\n\\nAML Cell lines panel:\\nΔRNA Stability\\nlog2FC < -0.1\",\n",
    "    fontsize=10,#fontweight='bold'\n",
    ")\n",
    "plt.savefig('cell-line-consistency/intersection_stbl_upset_plot.pdf',dpi=300)\n",
    "plt.show()"
   ]
  },
  {
   "cell_type": "code",
   "execution_count": 37,
   "metadata": {},
   "outputs": [
    {
     "data": {
      "text/plain": [
       "['HNRNPUL1', 'TMEM186', 'PMPCA', 'THUMPD2', 'BCL2', 'INTS5']"
      ]
     },
     "execution_count": 37,
     "metadata": {},
     "output_type": "execute_result"
    }
   ],
   "source": [
    "upset_to_intersect(stbl_upset_data, extract = ['hl60_120h','skm1'])"
   ]
  },
  {
   "cell_type": "code",
   "execution_count": 38,
   "metadata": {},
   "outputs": [
    {
     "data": {
      "text/plain": [
       "['HNRNPUL1', 'TMEM186', 'BCL2']"
      ]
     },
     "execution_count": 38,
     "metadata": {},
     "output_type": "execute_result"
    }
   ],
   "source": [
    "upset_to_intersect(stbl_upset_data, extract = ['molm13','skm1','hl60_120h'])"
   ]
  },
  {
   "cell_type": "code",
   "execution_count": 39,
   "metadata": {
    "tags": []
   },
   "outputs": [
    {
     "data": {
      "text/plain": [
       "{'CREB1', 'HNRNPUL1', 'PPP4R2', 'TMEM186', 'XRCC2'}"
      ]
     },
     "execution_count": 39,
     "metadata": {},
     "output_type": "execute_result"
    }
   ],
   "source": [
    "set(upset_to_intersect(stbl_upset_data, extract = ['molm13','skm1'])) - \\\n",
    "set(upset_to_intersect(stbl_upset_data, extract = ['molm13','skm1','hl60_120h','molm14'])) - \\\n",
    "set(upset_to_intersect(stbl_upset_data, extract = ['molm13','skm1','hl60_120h','molm14']))"
   ]
  },
  {
   "cell_type": "code",
   "execution_count": 39,
   "metadata": {},
   "outputs": [
    {
     "data": {
      "text/plain": [
       "['BCL2']"
      ]
     },
     "execution_count": 39,
     "metadata": {},
     "output_type": "execute_result"
    }
   ],
   "source": [
    "upset_to_intersect(stbl_upset_data, extract = ['molm13','skm1','hl60_120h','molm14'])"
   ]
  },
  {
   "cell_type": "code",
   "execution_count": 40,
   "metadata": {},
   "outputs": [
    {
     "data": {
      "text/plain": [
       "['INTS5']"
      ]
     },
     "execution_count": 40,
     "metadata": {},
     "output_type": "execute_result"
    }
   ],
   "source": [
    "upset_to_intersect(stbl_upset_data, extract = ['skm1','hl60_120h','hl60_72h'])"
   ]
  },
  {
   "cell_type": "code",
   "execution_count": 41,
   "metadata": {},
   "outputs": [
    {
     "data": {
      "text/plain": [
       "['BCL2', 'PTTG1IP']"
      ]
     },
     "execution_count": 41,
     "metadata": {},
     "output_type": "execute_result"
    }
   ],
   "source": [
    "upset_to_intersect(stbl_upset_data, extract = ['molm14','molm13'])"
   ]
  },
  {
   "cell_type": "code",
   "execution_count": 42,
   "metadata": {
    "tags": []
   },
   "outputs": [
    {
     "data": {
      "text/plain": [
       "['molm13']"
      ]
     },
     "execution_count": 42,
     "metadata": {},
     "output_type": "execute_result"
    }
   ],
   "source": [
    "[comp for comp,genes in stbl_upset_data.items() if 'PTEN' in genes]"
   ]
  },
  {
   "cell_type": "markdown",
   "metadata": {},
   "source": [
    "### heatmap"
   ]
  },
  {
   "cell_type": "code",
   "execution_count": 44,
   "metadata": {
    "tags": []
   },
   "outputs": [],
   "source": [
    "# df = pd.concat({\n",
    "#     'Expression':us.from_contents(exp_upset_data).reset_index().set_index('id').astype(int),\n",
    "#     'Stability':us.from_contents(stbl_upset_data).reset_index().set_index('id').astype(int)\n",
    "# },axis=1).replace(np.nan,0).astype(int)\n",
    "\n",
    "# df = df[df.sum(axis=1)>2]"
   ]
  },
  {
   "cell_type": "code",
   "execution_count": 45,
   "metadata": {
    "tags": []
   },
   "outputs": [],
   "source": [
    "# import PyComplexHeatmap\n",
    "# from PyComplexHeatmap import *"
   ]
  },
  {
   "cell_type": "code",
   "execution_count": 46,
   "metadata": {
    "tags": []
   },
   "outputs": [],
   "source": [
    "# df_col = df.columns.to_frame()"
   ]
  },
  {
   "cell_type": "code",
   "execution_count": 47,
   "metadata": {
    "tags": []
   },
   "outputs": [],
   "source": [
    "# cm = ClusterMapPlotter(data=df,\n",
    "#                        # col_cluster=True,row_cluster=True,\n",
    "#                        col_split=df_col[[0]],\n",
    "#                        col_split_gap=0.5,row_split_gap=0.8,\n",
    "#                        # label='values',row_dendrogram=True,\n",
    "#                        show_rownames=True,show_colnames=True,\n",
    "#                        tree_kws={'row_cmap': 'Set1'},verbose=0,legend_gap=5,\n",
    "#                        cmap='Greys',xticklabels_kws={'labelrotation':-90,'labelcolor':'blue'}\n",
    "#                       )\n",
    "# plt.savefig(\"cell-line-consistency/heatmap.pdf\", bbox_inches='tight')\n",
    "# plt.show()"
   ]
  },
  {
   "cell_type": "code",
   "execution_count": 48,
   "metadata": {
    "tags": []
   },
   "outputs": [],
   "source": [
    "# df_screens = merge_screen_data(cells=['hl60','molm13','skm1'],exps=['exp1','exp'],scores=['rho'],data=scrns).loc[df.index,:]"
   ]
  },
  {
   "cell_type": "code",
   "execution_count": 49,
   "metadata": {
    "tags": []
   },
   "outputs": [],
   "source": [
    "# _,dn1 = find_top(df_screens,\n",
    "#          'hl60_exp1_rho score',0.1, \n",
    "#          'hl60_exp1_rho pvalue', 0.05\n",
    "# )\n",
    "\n",
    "# _,dn2 = find_top(df_screens,\n",
    "#          'molm13_exp_rho score',0.1, \n",
    "#          'molm13_exp_rho pvalue', 0.05\n",
    "# )\n",
    "\n",
    "# _,dn3 = find_top(df_screens,\n",
    "#          'skm1_exp_rho score',0.1, \n",
    "#          'skm1_exp_rho pvalue', 0.05\n",
    "# )"
   ]
  },
  {
   "cell_type": "markdown",
   "metadata": {},
   "source": [
    "<!-- No resistance hits! -->"
   ]
  },
  {
   "cell_type": "code",
   "execution_count": 50,
   "metadata": {
    "tags": []
   },
   "outputs": [],
   "source": [
    "# set(df.index) - set(dn1.index.to_list())"
   ]
  },
  {
   "cell_type": "code",
   "execution_count": 51,
   "metadata": {
    "tags": []
   },
   "outputs": [],
   "source": [
    "# df_screens.loc['BCL2',:]"
   ]
  },
  {
   "cell_type": "code",
   "execution_count": 52,
   "metadata": {
    "tags": []
   },
   "outputs": [],
   "source": [
    "# dn2.index.to_list()"
   ]
  },
  {
   "cell_type": "code",
   "execution_count": 53,
   "metadata": {
    "tags": []
   },
   "outputs": [],
   "source": [
    "# dn3.index.to_list()"
   ]
  },
  {
   "cell_type": "code",
   "execution_count": 54,
   "metadata": {},
   "outputs": [],
   "source": [
    "# df.style.background_gradient(cmap='Blues')"
   ]
  },
  {
   "cell_type": "markdown",
   "metadata": {},
   "source": [
    "# "
   ]
  },
  {
   "cell_type": "code",
   "execution_count": 55,
   "metadata": {
    "tags": []
   },
   "outputs": [
    {
     "name": "stdout",
     "output_type": "stream",
     "text": [
      "Last updated: 2023-09-06T01:15:53.316933-07:00\n",
      "\n",
      "Python implementation: CPython\n",
      "Python version       : 3.10.8\n",
      "IPython version      : 8.7.0\n",
      "\n",
      "Compiler    : GCC 10.4.0\n",
      "OS          : Linux\n",
      "Release     : 3.10.0-957.27.2.el7.x86_64\n",
      "Machine     : x86_64\n",
      "Processor   : x86_64\n",
      "CPU cores   : 64\n",
      "Architecture: 64bit\n",
      "\n",
      "________________________________________________________________________________\n",
      "sys       : 3.10.8 | packaged by conda-forge | (main, Nov 22 2022, 08:26:04) [GCC 10.4.0]\n",
      "matplotlib: 3.6.2\n",
      "numpy     : 1.23.5\n",
      "seaborn   : 0.12.1\n",
      "upsetplot : 0.8.0\n",
      "pandas    : 1.5.2\n",
      "\n"
     ]
    }
   ],
   "source": [
    "from watermark import watermark\n",
    "print(\n",
    "    watermark()\n",
    ")\n",
    "print('_'*80)\n",
    "print(\n",
    "    watermark(iversions=True, globals_=globals())\n",
    ")"
   ]
  }
 ],
 "metadata": {
  "kernelspec": {
   "display_name": "Python [conda env:anaconda3-down]",
   "language": "python",
   "name": "conda-env-anaconda3-down-py"
  },
  "language_info": {
   "codemirror_mode": {
    "name": "ipython",
    "version": 3
   },
   "file_extension": ".py",
   "mimetype": "text/x-python",
   "name": "python",
   "nbconvert_exporter": "python",
   "pygments_lexer": "ipython3",
   "version": "3.10.8"
  }
 },
 "nbformat": 4,
 "nbformat_minor": 4
}
