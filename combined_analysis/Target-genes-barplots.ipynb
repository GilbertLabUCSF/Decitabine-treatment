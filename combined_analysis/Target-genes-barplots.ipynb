{
 "cells": [
  {
   "cell_type": "code",
   "execution_count": 1,
   "id": "5ea2b113-e7c0-45b6-9187-6bfac2c7ae24",
   "metadata": {
    "tags": []
   },
   "outputs": [],
   "source": [
    "import matplotlib.pyplot as plt\n",
    "import seaborn as sns\n",
    "import pandas as pd\n",
    "import numpy as np\n",
    "\n",
    "from matplotlib import style \n",
    "# style.use('seaborn-colorblind')\n",
    "sns.set(style='white')"
   ]
  },
  {
   "cell_type": "code",
   "execution_count": 2,
   "id": "66f2195e-5cc6-43f8-a24f-81dbcaf582ac",
   "metadata": {},
   "outputs": [],
   "source": [
    "import sys\n",
    "sys.path.append('../')\n",
    "\n",
    "\n",
    "from scripts.util import cleanAxes"
   ]
  },
  {
   "cell_type": "code",
   "execution_count": 3,
   "id": "ac5540c6-5cde-4f11-abf0-70bdf994137b",
   "metadata": {},
   "outputs": [],
   "source": [
    "from scipy import stats\n",
    "import statsmodels.api as sm\n",
    "from statsmodels.formula.api import ols"
   ]
  },
  {
   "cell_type": "code",
   "execution_count": 5,
   "id": "5dde3ebf-8823-431c-b7d0-b00d3ec03656",
   "metadata": {},
   "outputs": [],
   "source": [
    "# from statannotations.Annotator import Annotator"
   ]
  },
  {
   "cell_type": "markdown",
   "id": "d11db843-a0d4-43a0-80d9-c4078caa43e5",
   "metadata": {},
   "source": [
    "- https://github.com/trevismd/statannotations \n"
   ]
  },
  {
   "cell_type": "markdown",
   "id": "0453b5a7-b167-4d43-875b-fac6b0344a28",
   "metadata": {
    "tags": []
   },
   "source": [
    "## CRISPRi-screen\n",
    "<!-- Aim: analyzing differential phenotype of CRISPRi-screen data\n",
    "\n",
    "Tool: [ScreenProcessing](https://github.com/mhorlbeck/ScreenProcessing)\n",
    "\n",
    "#### Result:\n",
    "`CRISPRi-screen/hl60_exp1/DAC_processing_output_genetable_collapsed.txt`\n",
    "<!--`CRISPRi-screen/hl60_exp2/DAC_processing_output_genetable_collapsed.txt`-->\n",
    "\n",
    "<!-- > __Note__: all 5 gRNAs considered here.  \n",
    "-->"
   ]
  },
  {
   "cell_type": "markdown",
   "id": "07c5de8b-325a-4c19-b110-4ab079906394",
   "metadata": {
    "tags": []
   },
   "source": [
    "#### `DESeq2` normalization \n",
    "- https://physiology.med.cornell.edu/faculty/skrabanek/lab/angsd/lecture_notes/08_practical.pdf"
   ]
  },
  {
   "cell_type": "code",
   "execution_count": 7,
   "id": "6a8971ab-394b-4cc7-9262-08a9cfd5e352",
   "metadata": {},
   "outputs": [],
   "source": [
    "# library(DESeq2)\n",
    "# library(dplyr)"
   ]
  },
  {
   "cell_type": "code",
   "execution_count": 9,
   "id": "ffc8120e-dafb-4986-aa9d-dd4d427eba29",
   "metadata": {},
   "outputs": [],
   "source": [
    "# data = read.table(\n",
    "#     'CRISPRi-screen/hl60_exp1/DAC_mergedcountstable.txt',\n",
    "#     sep='\\t',header=TRUE,row.names=1)[-c(1,2),]\n",
    "\n",
    "# data <- mutate_all(data, function(x) as.numeric(as.character(x)))\n",
    "\n",
    "# meta = data.frame(\n",
    "#     sampletype=c(rep('T0',2),rep('treated',2),rep('untreated',2)),\n",
    "#     row.names=colnames(data)\n",
    "# )"
   ]
  },
  {
   "cell_type": "code",
   "execution_count": 10,
   "id": "c0a144ee-1451-481a-b023-41dacc03a414",
   "metadata": {},
   "outputs": [],
   "source": [
    "# dds <- DESeqDataSetFromMatrix(countData = data, colData = meta, design = ~ sampletype)\n",
    "# dds <- estimateSizeFactors(dds)\n",
    "# normalized_counts <- counts(dds, normalized=TRUE)\n",
    "# # DESeq.rlog <- rlog(dds, blind = TRUE)\n",
    "# # rlog.norm.counts <- assay(DESeq.rlog)\n",
    "\n",
    "# write.table(\n",
    "#     normalized_counts, \n",
    "#     # rlog.norm.counts,\n",
    "#     file=\"CRISPRi-screen/hl60_exp1/DAC_mergedcountstable_normalized_counts.txt\", sep=\"\\t\", quote=F\n",
    "# )"
   ]
  },
  {
   "cell_type": "markdown",
   "id": "8bb43824-9361-46c8-a828-51b08a3dab9a",
   "metadata": {
    "tags": []
   },
   "source": [
    "#### Barplot\n",
    "<!-- \n",
    "> Hani - Feb 2022\n",
    "> - try Welch’s t-test\n",
    "> - can you show non-targeting guides as well? -->"
   ]
  },
  {
   "cell_type": "code",
   "execution_count": 11,
   "id": "df33139c-f99b-4a04-a73f-7e488fce3c23",
   "metadata": {},
   "outputs": [],
   "source": [
    "# Ci_counts0 = pd.read_csv('CRISPRi-screen/hl60_exp1/DAC_mergedcountstable.txt',sep='\\t',index_col=0).iloc[2:,]\n",
    "# Ci_counts0.index = Ci_counts0.index.str.split('_').str[0]\n",
    "# Ci_counts0.index.name = None\n",
    "# Ci_counts0 = Ci_counts0.astype(int)\n",
    "# Ci_counts0 = Ci_counts0[Ci_counts0.sum(axis=1) > 5]"
   ]
  },
  {
   "cell_type": "code",
   "execution_count": 12,
   "id": "2f23e6f5-2ae2-49df-9eb2-b43b71caad17",
   "metadata": {
    "tags": []
   },
   "outputs": [
    {
     "data": {
      "text/html": [
       "<div>\n",
       "<style scoped>\n",
       "    .dataframe tbody tr th:only-of-type {\n",
       "        vertical-align: middle;\n",
       "    }\n",
       "\n",
       "    .dataframe tbody tr th {\n",
       "        vertical-align: top;\n",
       "    }\n",
       "\n",
       "    .dataframe thead th {\n",
       "        text-align: right;\n",
       "    }\n",
       "</style>\n",
       "<table border=\"1\" class=\"dataframe\">\n",
       "  <thead>\n",
       "    <tr style=\"text-align: right;\">\n",
       "      <th></th>\n",
       "      <th>T0</th>\n",
       "      <th>T0.1</th>\n",
       "      <th>treated</th>\n",
       "      <th>treated.1</th>\n",
       "      <th>untreated</th>\n",
       "      <th>untreated.1</th>\n",
       "    </tr>\n",
       "  </thead>\n",
       "  <tbody>\n",
       "    <tr>\n",
       "      <th>count</th>\n",
       "      <td>104535.00000</td>\n",
       "      <td>104535.00000</td>\n",
       "      <td>104535.000000</td>\n",
       "      <td>104535.000000</td>\n",
       "      <td>104535.000000</td>\n",
       "      <td>104535.000000</td>\n",
       "    </tr>\n",
       "    <tr>\n",
       "      <th>mean</th>\n",
       "      <td>545.70697</td>\n",
       "      <td>545.70697</td>\n",
       "      <td>727.478423</td>\n",
       "      <td>727.544124</td>\n",
       "      <td>590.554094</td>\n",
       "      <td>588.936462</td>\n",
       "    </tr>\n",
       "    <tr>\n",
       "      <th>std</th>\n",
       "      <td>345.09397</td>\n",
       "      <td>345.09397</td>\n",
       "      <td>2496.508008</td>\n",
       "      <td>2549.954165</td>\n",
       "      <td>478.568782</td>\n",
       "      <td>476.587327</td>\n",
       "    </tr>\n",
       "  </tbody>\n",
       "</table>\n",
       "</div>"
      ],
      "text/plain": [
       "                 T0          T0.1        treated      treated.1  \\\n",
       "count  104535.00000  104535.00000  104535.000000  104535.000000   \n",
       "mean      545.70697     545.70697     727.478423     727.544124   \n",
       "std       345.09397     345.09397    2496.508008    2549.954165   \n",
       "\n",
       "           untreated    untreated.1  \n",
       "count  104535.000000  104535.000000  \n",
       "mean      590.554094     588.936462  \n",
       "std       478.568782     476.587327  "
      ]
     },
     "execution_count": 12,
     "metadata": {},
     "output_type": "execute_result"
    }
   ],
   "source": [
    "Ci_counts = pd.read_csv('../DAC/CRISPRi-screen/hl60_exp1/DAC_mergedcountstable_normalized_counts.txt',sep='\\t')\n",
    "Ci_counts.describe().iloc[:3,]"
   ]
  },
  {
   "cell_type": "code",
   "execution_count": 13,
   "id": "21c98388-c0e0-4387-8520-88ba31926a74",
   "metadata": {},
   "outputs": [],
   "source": [
    "Ci_counts.index = Ci_counts.index.str.split('_').str[0]\n",
    "Ci_counts.index.name = None\n",
    "# Ci_counts = Ci_counts[Ci_counts.sum(axis=1) > 5]\n",
    "# Ci_counts = Ci_counts[np.sum(Ci_counts == 0,axis=1) == 0]"
   ]
  },
  {
   "cell_type": "code",
   "execution_count": 14,
   "id": "42e989ac-b3f0-4346-a061-b8f364193a1b",
   "metadata": {},
   "outputs": [],
   "source": [
    "# Ci_counts[Ci_counts.index != 'non-targeting'].describe().iloc[:3,]\n",
    "# Ci_counts[Ci_counts.index == 'non-targeting'].describe().iloc[:3,]"
   ]
  },
  {
   "cell_type": "code",
   "execution_count": 15,
   "id": "a1bbb581-0945-4e2e-acae-f478f16b06da",
   "metadata": {
    "tags": []
   },
   "outputs": [],
   "source": [
    "def plot_Ci_counts(counts,sgrna,top_n=3, ax=None,ylim=None,T0=False,annotate=True):\n",
    "    \n",
    "    df = counts[counts.index == sgrna].T\n",
    "    if top_n:\n",
    "        # select top n sgRNAs\n",
    "        df = pd.DataFrame(\n",
    "            [list(df.iloc[row,:].nlargest(top_n)) for row,_ in enumerate(df.index)],\n",
    "            index=[row_id for _,row_id in enumerate(df.index)],\n",
    "            columns=[sgrna for i in range(top_n)]\n",
    "        )\n",
    "        \n",
    "    df['treatment'] = [\"T0\",\"T0\",\"Decitabine\",\"Decitabine\",\"DMSO\",\"DMSO\"]\n",
    "    # df_column_uniquify\n",
    "    df_columns = df.columns\n",
    "    new_columns = []\n",
    "    for counter,item in enumerate(df_columns):\n",
    "        if sgrna in item:\n",
    "            newitem = \"{}_gRNA{}\".format(item, counter + 1)\n",
    "        else:\n",
    "            newitem = item\n",
    "        new_columns.append(newitem)\n",
    "    df.columns = new_columns\n",
    "    \n",
    "    dd=pd.melt(\n",
    "        df,\n",
    "        id_vars='treatment',value_vars=[col for col in df.columns if sgrna in col],var_name='columns'\n",
    "    )\n",
    "    data_title = \"Normalized\\ngRNA count\" # \n",
    "    dd = dd.rename({'value':data_title},axis=1)\n",
    "    dd[data_title] = dd[data_title].astype(int)\n",
    "    my_pal = {\"Decitabine\": \"c\", \"DMSO\": \"lightgray\", 'T0':'azure'}\n",
    "    \n",
    "    if not T0:\n",
    "        dd = dd[dd.treatment != 'T0'].sort_values(by='treatment', axis=0, ascending=True)\n",
    "    if ax:\n",
    "        cleanAxes(ax)\n",
    "        p = sns.barplot(x='treatment',y=data_title,data=dd,hue='treatment',palette=my_pal,ax=ax,linewidth=0, alpha = 0.5, errwidth=0)\n",
    "        p = sns.stripplot(x='treatment',y=data_title,data=dd,hue='treatment',\n",
    "                          palette=my_pal,ax=ax,linewidth=0, color=\".1\", dodge=True)\n",
    "        \n",
    "        pairs=[(\"Decitabine\",\"DMSO\")]\n",
    "\n",
    "        if annotate:\n",
    "            annotator = Annotator(ax, pairs, x='treatment',y=data_title,data=dd)\n",
    "            # Welch’s t-test\n",
    "            annotator.configure(\n",
    "                test='t-test_welch', text_format='simple', loc='outside',\n",
    "                show_test_name=False,verbose=False,fontsize=8,line_width=1#,color='blue'\n",
    "            )\n",
    "            annotator.apply_and_annotate()\n",
    "            \n",
    "        ax.set_title(sgrna,y=1.1,fontsize=10)\n",
    "        ax.set_xlabel(None)\n",
    "        # ax.set_ylim(top=ylim)\n",
    "        # ax.set_yscale('log')\n",
    "\n",
    "        for label in ax.get_xticklabels():\n",
    "            label.set_rotation(45)\n",
    "            label.set_ha('right')\n",
    "            \n",
    "        # return p\n",
    "        ax.tick_params(axis='both', which='major', labelsize=8)\n",
    "        ax.tick_params(axis='both', which='minor', labelsize=8)\n",
    "\n",
    "    else: \n",
    "        return dd"
   ]
  },
  {
   "cell_type": "markdown",
   "id": "3e4a329b-8d48-43cf-aa1d-51b3c9645102",
   "metadata": {
    "tags": []
   },
   "source": [
    "#### 1"
   ]
  },
  {
   "cell_type": "code",
   "execution_count": null,
   "id": "02737e5c-74b3-4c40-9957-fa8790343590",
   "metadata": {
    "tags": []
   },
   "outputs": [],
   "source": [
    "f, axes = plt.subplots(1, 5,figsize=(8,3),dpi=150)\n",
    "leg = plt.legend()\n",
    "# ylim=2*10**4\n",
    "\n",
    "plot_Ci_counts(Ci_counts,sgrna = 'SQLE',top_n=5,ax=axes[0],ylim=ylim)\n",
    "plot_Ci_counts(Ci_counts,sgrna = 'INTS5',top_n=5,ax=axes[1],ylim=ylim)\n",
    "plot_Ci_counts(Ci_counts,sgrna = 'BCL2',top_n=5,ax=axes[2],ylim=ylim)\n",
    "plot_Ci_counts(Ci_counts,sgrna = 'MYBBP1A',top_n=5,ax=axes[3],ylim=ylim) # ,top_n=2\n",
    "\n",
    "plot_Ci_counts(Ci_counts,sgrna = 'non-targeting',top_n=1500,ax=axes[4],ylim=ylim,annotate=False)\n",
    "\n",
    "for ax in axes:\n",
    "    ax.get_legend().remove()\n",
    "    \n",
    "for i in [1,2,3,4]:\n",
    "    # cleanAxes(axes[i],left=False)\n",
    "    axes[i].set_ylabel(None)\n",
    "    # axes[i].tick_params(axis='y',label1On=False)\n",
    "    # axes[i].legend(bbox_to_anchor=(1.05, 1), loc=2, borderaxespad=0.,prop={'size': 6})\n",
    "\n",
    "f.suptitle('CRISPRi screen')\n",
    "f.tight_layout()\n",
    "f.savefig('Target-genes/Ci_counts.pdf')"
   ]
  },
  {
   "cell_type": "markdown",
   "id": "47a15cb2-b45c-4524-9333-0feaa26cb713",
   "metadata": {},
   "source": [
    "#### 2"
   ]
  },
  {
   "cell_type": "code",
   "execution_count": null,
   "id": "72d5e5da-4d83-46b3-b534-8e84fe15a064",
   "metadata": {
    "tags": []
   },
   "outputs": [],
   "source": [
    "f, axes = plt.subplots(1, 4,figsize=(6,3),dpi=150)\n",
    "leg = plt.legend()\n",
    "\n",
    "plot_Ci_counts(Ci_counts,sgrna = 'SQLE',top_n=3,ax=axes[0],ylim=ylim)\n",
    "plot_Ci_counts(Ci_counts,sgrna = 'INTS5',top_n=3,ax=axes[1],ylim=ylim)\n",
    "plot_Ci_counts(Ci_counts,sgrna = 'BCL2',top_n=3,ax=axes[2],ylim=ylim)\n",
    "plot_Ci_counts(Ci_counts,sgrna = 'MYBBP1A',top_n=2,ax=axes[3],ylim=ylim) # ,top_n=2\n",
    "\n",
    "for ax in axes:\n",
    "    ax.get_legend().remove()\n",
    "    \n",
    "for i in [1,2,3]:\n",
    "    axes[i].set_ylabel(None)\n",
    "\n",
    "f.suptitle('CRISPRi screen')\n",
    "f.tight_layout()\n",
    "# f.savefig('Target-genes/Ci_counts.pdf')"
   ]
  },
  {
   "cell_type": "markdown",
   "id": "2073446c-50eb-4f7a-a2c8-4787dfefeac3",
   "metadata": {},
   "source": [
    "#### 3"
   ]
  },
  {
   "cell_type": "code",
   "execution_count": null,
   "id": "2e2334ee-6cdb-4608-9e68-0206fde8482b",
   "metadata": {
    "tags": []
   },
   "outputs": [],
   "source": [
    "f, axes = plt.subplots(1, 4,figsize=(6,3),dpi=150)\n",
    "leg = plt.legend()\n",
    "\n",
    "plot_Ci_counts(Ci_counts,sgrna = 'SQLE',top_n=5,ax=axes[0],ylim=ylim)\n",
    "plot_Ci_counts(Ci_counts,sgrna = 'INTS5',top_n=5,ax=axes[1],ylim=ylim)\n",
    "plot_Ci_counts(Ci_counts,sgrna = 'BCL2',top_n=5,ax=axes[2],ylim=ylim)\n",
    "plot_Ci_counts(Ci_counts,sgrna = 'MYBBP1A',top_n=5,ax=axes[3],ylim=ylim) # ,top_n=2\n",
    "\n",
    "for ax in axes:\n",
    "    ax.get_legend().remove()\n",
    "    \n",
    "for i in [1,2,3]:\n",
    "    axes[i].set_ylabel(None)\n",
    "\n",
    "f.suptitle('CRISPRi screen')\n",
    "f.tight_layout()\n",
    "# f.savefig('Target-genes/Ci_counts.pdf')"
   ]
  },
  {
   "cell_type": "code",
   "execution_count": 362,
   "id": "99b7ef59-7239-4d70-a755-3f99dd09802d",
   "metadata": {},
   "outputs": [],
   "source": [
    "# Ci_counts[Ci_counts.index.isin(['MAT2A','MAT1A','MAT2B'])]"
   ]
  },
  {
   "cell_type": "code",
   "execution_count": 73,
   "id": "5d7e237e-fc0b-4163-94a9-7a1cc3e68c70",
   "metadata": {
    "tags": []
   },
   "outputs": [],
   "source": [
    "# f, axes = plt.subplots(1, 3,figsize=(5,3),dpi=300)\n",
    "# leg = plt.legend()\n",
    "# ylim=1.2*10**4\n",
    "\n",
    "# plot_Ci_counts(Ci_counts,sgrna = 'MAT1A', ax=axes[0],top_n=1,T0=True,ylim=ylim)\n",
    "# plot_Ci_counts(Ci_counts,sgrna = 'MAT2A',ax=axes[1],top_n=1,T0=True,ylim=ylim)\n",
    "# plot_Ci_counts(Ci_counts,sgrna = 'MAT2B', ax=axes[2],top_n=3,T0=True,ylim=ylim)\n",
    "\n",
    "# for ax in axes:\n",
    "#     ax.get_legend().remove()\n",
    "    \n",
    "# cleanAxes(axes[1],left=False)\n",
    "# cleanAxes(axes[2],left=False)\n",
    "# axes[1].set_ylabel(None)\n",
    "# axes[2].set_ylabel(None)\n",
    "# axes[1].tick_params(axis='y',label1On=False)\n",
    "# axes[2].tick_params(axis='y',label1On=False)\n",
    "# # axes[2].legend(bbox_to_anchor=(1.05, 1), loc=2, borderaxespad=0.,prop={'size': 6})\n",
    "\n",
    "# f.suptitle('CRISPRi screen')\n",
    "# f.tight_layout()\n",
    "# # f.savefig('Target-genes/Ci_counts_2.pdf')"
   ]
  },
  {
   "cell_type": "code",
   "execution_count": 74,
   "id": "ea1b47bc-73a1-4dd6-8667-3b11d13ea30a",
   "metadata": {
    "tags": []
   },
   "outputs": [],
   "source": [
    "# f, axes = plt.subplots(1, 2,figsize=(6,3))\n",
    "\n",
    "# plot_Ci_counts(Ci_counts,gene = 'BCL2',ax=axes[0])\n",
    "# plot_Ci_counts(Ci_counts,gene = 'FDFT1',ax=axes[1])\n",
    "\n",
    "# for ax in axes:\n",
    "#     leg = plt.legend()\n",
    "#     ax.get_legend().remove()\n",
    "# # axes[1].legend(bbox_to_anchor=(1.05, 1), loc=2, borderaxespad=0.)\n",
    "\n",
    "# plt.tight_layout()"
   ]
  },
  {
   "cell_type": "markdown",
   "id": "9ecc208f",
   "metadata": {
    "tags": []
   },
   "source": [
    "## RNA-seq\n"
   ]
  },
  {
   "cell_type": "code",
   "execution_count": 19,
   "id": "09995765-31a2-44b4-8451-f67a7f0b9653",
   "metadata": {},
   "outputs": [],
   "source": [
    "exp = pd.read_csv('../DAC/RNA-seq/exp/delta_exp_table.txt',sep='\\t')"
   ]
  },
  {
   "cell_type": "code",
   "execution_count": 20,
   "id": "0ffd87d9-0a03-471f-80bf-86d3e71614fe",
   "metadata": {},
   "outputs": [
    {
     "data": {
      "text/html": [
       "<div>\n",
       "<style scoped>\n",
       "    .dataframe tbody tr th:only-of-type {\n",
       "        vertical-align: middle;\n",
       "    }\n",
       "\n",
       "    .dataframe tbody tr th {\n",
       "        vertical-align: top;\n",
       "    }\n",
       "\n",
       "    .dataframe thead th {\n",
       "        text-align: right;\n",
       "    }\n",
       "</style>\n",
       "<table border=\"1\" class=\"dataframe\">\n",
       "  <thead>\n",
       "    <tr style=\"text-align: right;\">\n",
       "      <th></th>\n",
       "      <th>hl60_6h_log2FC</th>\n",
       "      <th>hl60_6h_pvalue</th>\n",
       "      <th>hl60_72h_log2FC</th>\n",
       "      <th>hl60_72h_pvalue</th>\n",
       "      <th>hl60_72h_only_log2FC</th>\n",
       "      <th>hl60_72h_only_pvalue</th>\n",
       "      <th>hl60_120h_log2FC</th>\n",
       "      <th>hl60_120h_pvalue</th>\n",
       "    </tr>\n",
       "    <tr>\n",
       "      <th>gene_name</th>\n",
       "      <th></th>\n",
       "      <th></th>\n",
       "      <th></th>\n",
       "      <th></th>\n",
       "      <th></th>\n",
       "      <th></th>\n",
       "      <th></th>\n",
       "      <th></th>\n",
       "    </tr>\n",
       "  </thead>\n",
       "  <tbody>\n",
       "    <tr>\n",
       "      <th>SQLE</th>\n",
       "      <td>0.113950</td>\n",
       "      <td>2.305181e-11</td>\n",
       "      <td>-0.525967</td>\n",
       "      <td>2.305181e-11</td>\n",
       "      <td>-0.576365</td>\n",
       "      <td>0.087040</td>\n",
       "      <td>-0.754409</td>\n",
       "      <td>2.305181e-11</td>\n",
       "    </tr>\n",
       "    <tr>\n",
       "      <th>INTS5</th>\n",
       "      <td>0.192253</td>\n",
       "      <td>2.918347e-02</td>\n",
       "      <td>-0.861624</td>\n",
       "      <td>2.918347e-02</td>\n",
       "      <td>-0.911393</td>\n",
       "      <td>0.052916</td>\n",
       "      <td>-0.495722</td>\n",
       "      <td>2.918347e-02</td>\n",
       "    </tr>\n",
       "    <tr>\n",
       "      <th>BCL2</th>\n",
       "      <td>-0.194502</td>\n",
       "      <td>9.235412e-02</td>\n",
       "      <td>0.046305</td>\n",
       "      <td>9.235412e-02</td>\n",
       "      <td>-0.002800</td>\n",
       "      <td>0.995018</td>\n",
       "      <td>-0.906291</td>\n",
       "      <td>9.235412e-02</td>\n",
       "    </tr>\n",
       "    <tr>\n",
       "      <th>MYBBP1A</th>\n",
       "      <td>-0.321097</td>\n",
       "      <td>1.220844e-15</td>\n",
       "      <td>-0.594186</td>\n",
       "      <td>1.220844e-15</td>\n",
       "      <td>-0.644625</td>\n",
       "      <td>0.063032</td>\n",
       "      <td>-1.566491</td>\n",
       "      <td>1.220844e-15</td>\n",
       "    </tr>\n",
       "  </tbody>\n",
       "</table>\n",
       "</div>"
      ],
      "text/plain": [
       "           hl60_6h_log2FC  hl60_6h_pvalue  hl60_72h_log2FC  hl60_72h_pvalue  \\\n",
       "gene_name                                                                     \n",
       "SQLE             0.113950    2.305181e-11        -0.525967     2.305181e-11   \n",
       "INTS5            0.192253    2.918347e-02        -0.861624     2.918347e-02   \n",
       "BCL2            -0.194502    9.235412e-02         0.046305     9.235412e-02   \n",
       "MYBBP1A         -0.321097    1.220844e-15        -0.594186     1.220844e-15   \n",
       "\n",
       "           hl60_72h_only_log2FC  hl60_72h_only_pvalue  hl60_120h_log2FC  \\\n",
       "gene_name                                                                 \n",
       "SQLE                  -0.576365              0.087040         -0.754409   \n",
       "INTS5                 -0.911393              0.052916         -0.495722   \n",
       "BCL2                  -0.002800              0.995018         -0.906291   \n",
       "MYBBP1A               -0.644625              0.063032         -1.566491   \n",
       "\n",
       "           hl60_120h_pvalue  \n",
       "gene_name                    \n",
       "SQLE           2.305181e-11  \n",
       "INTS5          2.918347e-02  \n",
       "BCL2           9.235412e-02  \n",
       "MYBBP1A        1.220844e-15  "
      ]
     },
     "execution_count": 20,
     "metadata": {},
     "output_type": "execute_result"
    }
   ],
   "source": [
    "exp.set_index('gene_name').loc[['SQLE','INTS5','BCL2','MYBBP1A'],:].filter(regex='hl60')#.filter(regex='h_pvalue')"
   ]
  },
  {
   "cell_type": "markdown",
   "id": "005cffc6-c638-49f8-a727-ea4452095c46",
   "metadata": {
    "tags": []
   },
   "source": [
    "### Expression"
   ]
  },
  {
   "cell_type": "code",
   "execution_count": 21,
   "id": "5fce6b02-6f96-4cf0-a54c-1325efd8ba07",
   "metadata": {},
   "outputs": [],
   "source": [
    "exp_counts  = pd.read_csv('../DAC/RNA-seq/exp/deseq2_norm.txt',sep='\\t')"
   ]
  },
  {
   "cell_type": "code",
   "execution_count": 22,
   "id": "8aa28440-9c90-4ef2-88d9-431b750875be",
   "metadata": {
    "tags": []
   },
   "outputs": [],
   "source": [
    "# def convert_pvalue_to_asterisks(pvalue):\n",
    "#     if pvalue <= 0.0001:\n",
    "#         return \"****\"\n",
    "#     elif pvalue <= 0.001:\n",
    "#         return \"***\"\n",
    "#     elif pvalue <= 0.01:\n",
    "#         return \"**\"\n",
    "#     elif pvalue <= 0.05:\n",
    "#         return \"*\"\n",
    "#     return \"\"\n",
    "\n",
    "def plot_time_rna_seq(counts,gene,ax,data,pvalue,ymin=None,ylim=None):\n",
    "    \n",
    "    df = counts[counts['name'] == gene].set_index('name').T\n",
    "    df['treatment'] = df.index.str.split('_').str[-2]\n",
    "    df['line'] = df.index.str.split('_').str[0]\n",
    "    df['time'] = 72\n",
    "    df.loc[df.line == 'hl60','time'] = df[df.line == 'hl60'].index.str.split('_').str[1].str[:-1].astype(int)\n",
    "    dd=pd.melt(\n",
    "        df[df.line == 'hl60'],\n",
    "        id_vars=['treatment','time'],value_vars=[gene],var_name='columns'\n",
    "    ).sort_values(by='time', axis=0, ascending=True)\n",
    "    dd['treatment'] = dd['treatment'].str.replace('t', 'Decitabine')\n",
    "    dd['treatment'] = dd['treatment'].str.replace('u', 'DMSO')\n",
    "    dd = dd.sort_values(by='treatment', axis=0, ascending=True).rename({'value':f'{data}'},axis=1)\n",
    "\n",
    "    my_pal = {\"Decitabine\": \"c\", \"DMSO\": \"lightgray\"}\n",
    "    \n",
    "    cleanAxes(ax)\n",
    "\n",
    "    p = sns.pointplot(x='time',y=f'{data}',data=dd,hue='treatment',palette=my_pal,ax=ax,errwidth=0,markers='')\n",
    "    p = sns.barplot(x='time',y=f'{data}',data=dd,hue='treatment',palette=my_pal,ax=ax,linewidth=0, alpha = 0.5, errwidth=0)\n",
    "    p = sns.swarmplot(x='time',y=f'{data}',data=dd,hue='treatment',ax=ax,palette=my_pal,\n",
    "                      linewidth=0, color=\".1\", dodge=True)\n",
    "\n",
    "    # perform two-way ANOVA\n",
    "    # model = ols(f'{data} ~ treatment + time + treatment:time', data=dd).fit()\n",
    "    # pvalue = sm.stats.anova_lm(model, typ=2).iloc[0,3]\n",
    "    # pvalue_str = '{:.2e}'.format(pvalue)\n",
    "\n",
    "    # star = convert_pvalue_to_asterisks(pvalue)\n",
    "    # add pvalue as text\n",
    "    ax.text(0.8, 1,\n",
    "            # ,\n",
    "            # f'P={pvalue_str}',\n",
    "            'P={:.2e}'.format(pvalue),\n",
    "            horizontalalignment='center',\n",
    "            verticalalignment='center',\n",
    "            fontsize=8,\n",
    "            # color='darkblue',\n",
    "            weight=\"bold\",\n",
    "            transform = ax.transAxes\n",
    "           )\n",
    "    ax.set_title(gene,y=1.15,fontsize=12)\n",
    "\n",
    "    # ax.set_ylim([ymin,ylim])\n",
    "    # ax.set_yscale('log')\n",
    "    \n",
    "    ax.tick_params(axis='both', which='major', labelsize=8)\n",
    "    ax.tick_params(axis='both', which='minor', labelsize=8)\n",
    "\n",
    "    return p"
   ]
  },
  {
   "cell_type": "code",
   "execution_count": 23,
   "id": "77c2ef3a-9e5e-4362-b1e7-b546ea5d0032",
   "metadata": {},
   "outputs": [
    {
     "data": {
      "text/html": [
       "<div>\n",
       "<style scoped>\n",
       "    .dataframe tbody tr th:only-of-type {\n",
       "        vertical-align: middle;\n",
       "    }\n",
       "\n",
       "    .dataframe tbody tr th {\n",
       "        vertical-align: top;\n",
       "    }\n",
       "\n",
       "    .dataframe thead th {\n",
       "        text-align: right;\n",
       "    }\n",
       "</style>\n",
       "<table border=\"1\" class=\"dataframe\">\n",
       "  <thead>\n",
       "    <tr style=\"text-align: right;\">\n",
       "      <th></th>\n",
       "      <th>hl60_6h_log2FC</th>\n",
       "      <th>hl60_6h_pvalue</th>\n",
       "      <th>hl60_72h_log2FC</th>\n",
       "      <th>hl60_72h_pvalue</th>\n",
       "      <th>hl60_72h_only_log2FC</th>\n",
       "      <th>hl60_72h_only_pvalue</th>\n",
       "      <th>hl60_120h_log2FC</th>\n",
       "      <th>hl60_120h_pvalue</th>\n",
       "    </tr>\n",
       "    <tr>\n",
       "      <th>gene_name</th>\n",
       "      <th></th>\n",
       "      <th></th>\n",
       "      <th></th>\n",
       "      <th></th>\n",
       "      <th></th>\n",
       "      <th></th>\n",
       "      <th></th>\n",
       "      <th></th>\n",
       "    </tr>\n",
       "  </thead>\n",
       "  <tbody>\n",
       "    <tr>\n",
       "      <th>SQLE</th>\n",
       "      <td>0.113950</td>\n",
       "      <td>2.305181e-11</td>\n",
       "      <td>-0.525967</td>\n",
       "      <td>2.305181e-11</td>\n",
       "      <td>-0.576365</td>\n",
       "      <td>0.087040</td>\n",
       "      <td>-0.754409</td>\n",
       "      <td>2.305181e-11</td>\n",
       "    </tr>\n",
       "    <tr>\n",
       "      <th>INTS5</th>\n",
       "      <td>0.192253</td>\n",
       "      <td>2.918347e-02</td>\n",
       "      <td>-0.861624</td>\n",
       "      <td>2.918347e-02</td>\n",
       "      <td>-0.911393</td>\n",
       "      <td>0.052916</td>\n",
       "      <td>-0.495722</td>\n",
       "      <td>2.918347e-02</td>\n",
       "    </tr>\n",
       "  </tbody>\n",
       "</table>\n",
       "</div>"
      ],
      "text/plain": [
       "           hl60_6h_log2FC  hl60_6h_pvalue  hl60_72h_log2FC  hl60_72h_pvalue  \\\n",
       "gene_name                                                                     \n",
       "SQLE             0.113950    2.305181e-11        -0.525967     2.305181e-11   \n",
       "INTS5            0.192253    2.918347e-02        -0.861624     2.918347e-02   \n",
       "\n",
       "           hl60_72h_only_log2FC  hl60_72h_only_pvalue  hl60_120h_log2FC  \\\n",
       "gene_name                                                                 \n",
       "SQLE                  -0.576365              0.087040         -0.754409   \n",
       "INTS5                 -0.911393              0.052916         -0.495722   \n",
       "\n",
       "           hl60_120h_pvalue  \n",
       "gene_name                    \n",
       "SQLE           2.305181e-11  \n",
       "INTS5          2.918347e-02  "
      ]
     },
     "execution_count": 23,
     "metadata": {},
     "output_type": "execute_result"
    }
   ],
   "source": [
    "exp.set_index('gene_name').loc[['SQLE','INTS5'],:].filter(regex='hl60')#.filter(regex='h_pvalue')"
   ]
  },
  {
   "cell_type": "code",
   "execution_count": 24,
   "id": "cd0cdc9d-e9fc-4005-9e61-e12b890f4bca",
   "metadata": {},
   "outputs": [],
   "source": [
    "sqle_pvalue  = exp.set_index('gene_name').loc['SQLE','hl60_72h_pvalue']\n",
    "ints5_pvalue = exp.set_index('gene_name').loc['INTS5','hl60_72h_pvalue']"
   ]
  },
  {
   "cell_type": "code",
   "execution_count": 25,
   "id": "16759f69-0f9b-4754-831a-1c4d0a0473a1",
   "metadata": {},
   "outputs": [],
   "source": [
    "bcl2_pvalue  = exp.set_index('gene_name').loc['BCL2','hl60_72h_pvalue']\n",
    "mybbp1a_pvalue  = exp.set_index('gene_name').loc['MYBBP1A','hl60_72h_pvalue']"
   ]
  },
  {
   "cell_type": "code",
   "execution_count": 26,
   "id": "538b5a3b-963e-4f64-af62-53ff5c5c4bc3",
   "metadata": {
    "tags": []
   },
   "outputs": [
    {
     "name": "stderr",
     "output_type": "stream",
     "text": [
      "/data_gilbert/home/aarab/anaconda3/envs/down/lib/python3.10/site-packages/seaborn/categorical.py:1728: UserWarning: You passed a edgecolor/edgecolors ((0.8274509803921568, 0.8274509803921568, 0.8274509803921568)) for an unfilled marker ('').  Matplotlib is ignoring the edgecolor in favor of the facecolor.  This behavior may change in the future.\n",
      "  ax.scatter(x, y, label=hue_level,\n",
      "/data_gilbert/home/aarab/anaconda3/envs/down/lib/python3.10/site-packages/seaborn/categorical.py:1728: UserWarning: You passed a edgecolor/edgecolors ((0.39215686274509803, 0.7098039215686275, 0.803921568627451)) for an unfilled marker ('').  Matplotlib is ignoring the edgecolor in favor of the facecolor.  This behavior may change in the future.\n",
      "  ax.scatter(x, y, label=hue_level,\n",
      "/data_gilbert/home/aarab/anaconda3/envs/down/lib/python3.10/site-packages/seaborn/categorical.py:1728: UserWarning: You passed a edgecolor/edgecolors ((0.8274509803921568, 0.8274509803921568, 0.8274509803921568)) for an unfilled marker ('').  Matplotlib is ignoring the edgecolor in favor of the facecolor.  This behavior may change in the future.\n",
      "  ax.scatter(x, y, label=hue_level,\n",
      "/data_gilbert/home/aarab/anaconda3/envs/down/lib/python3.10/site-packages/seaborn/categorical.py:1728: UserWarning: You passed a edgecolor/edgecolors ((0.39215686274509803, 0.7098039215686275, 0.803921568627451)) for an unfilled marker ('').  Matplotlib is ignoring the edgecolor in favor of the facecolor.  This behavior may change in the future.\n",
      "  ax.scatter(x, y, label=hue_level,\n",
      "/data_gilbert/home/aarab/anaconda3/envs/down/lib/python3.10/site-packages/seaborn/categorical.py:1728: UserWarning: You passed a edgecolor/edgecolors ((0.8274509803921568, 0.8274509803921568, 0.8274509803921568)) for an unfilled marker ('').  Matplotlib is ignoring the edgecolor in favor of the facecolor.  This behavior may change in the future.\n",
      "  ax.scatter(x, y, label=hue_level,\n",
      "/data_gilbert/home/aarab/anaconda3/envs/down/lib/python3.10/site-packages/seaborn/categorical.py:1728: UserWarning: You passed a edgecolor/edgecolors ((0.39215686274509803, 0.7098039215686275, 0.803921568627451)) for an unfilled marker ('').  Matplotlib is ignoring the edgecolor in favor of the facecolor.  This behavior may change in the future.\n",
      "  ax.scatter(x, y, label=hue_level,\n",
      "/data_gilbert/home/aarab/anaconda3/envs/down/lib/python3.10/site-packages/seaborn/categorical.py:1728: UserWarning: You passed a edgecolor/edgecolors ((0.8274509803921568, 0.8274509803921568, 0.8274509803921568)) for an unfilled marker ('').  Matplotlib is ignoring the edgecolor in favor of the facecolor.  This behavior may change in the future.\n",
      "  ax.scatter(x, y, label=hue_level,\n",
      "/data_gilbert/home/aarab/anaconda3/envs/down/lib/python3.10/site-packages/seaborn/categorical.py:1728: UserWarning: You passed a edgecolor/edgecolors ((0.39215686274509803, 0.7098039215686275, 0.803921568627451)) for an unfilled marker ('').  Matplotlib is ignoring the edgecolor in favor of the facecolor.  This behavior may change in the future.\n",
      "  ax.scatter(x, y, label=hue_level,\n"
     ]
    },
    {
     "data": {
      "image/png": "[encoded data removed]",
      "text/plain": [
       "<Figure size 1200x400 with 4 Axes>"
      ]
     },
     "metadata": {},
     "output_type": "display_data"
    }
   ],
   "source": [
    "f, axes = plt.subplots(1, 4,figsize=(12,4))\n",
    "\n",
    "plot_time_rna_seq(exp_counts,gene = 'SQLE',ax=axes[0],data='Normalized\\nmRNA Expression',pvalue = sqle_pvalue)\n",
    "axes[0].get_legend().remove()\n",
    "axes[0].set_ylim(bottom=50,top=2100)\n",
    "# axes[0].set_yscale('log')\n",
    "\n",
    "plot_time_rna_seq(exp_counts,gene = 'INTS5',ax=axes[1],data='Expression',pvalue = ints5_pvalue)\n",
    "axes[1].get_legend().remove()\n",
    "# axes[1].legend(bbox_to_anchor=(1.05, 1), loc=2, borderaxespad=0.,prop={'size': 8})\n",
    "axes[1].set_ylabel(None)\n",
    "axes[1].set_ylim(bottom=50,top=200)\n",
    "\n",
    "\n",
    "plot_time_rna_seq(exp_counts,gene = 'BCL2',ax=axes[2],data='Expression',pvalue = bcl2_pvalue)\n",
    "axes[2].get_legend().remove()\n",
    "axes[2].set_ylabel(None)\n",
    "axes[2].set_ylim(bottom=50,top=2500)\n",
    "\n",
    "plot_time_rna_seq(exp_counts,gene = 'MYBBP1A',ax=axes[3],data='Expression',pvalue = mybbp1a_pvalue)\n",
    "axes[3].get_legend().remove()\n",
    "axes[3].set_ylabel(None)\n",
    "axes[3].set_ylim(bottom=50,top=1500)\n",
    "\n",
    "\n",
    "\n",
    "f.suptitle('Time-series RNA-seq')\n",
    "f.tight_layout()\n",
    "f.savefig('Target-genes/Exp.pdf')"
   ]
  },
  {
   "cell_type": "code",
   "execution_count": 426,
   "id": "4388201d-fd3f-474c-8411-d85e04003ec1",
   "metadata": {
    "tags": []
   },
   "outputs": [],
   "source": [
    "# f, axes = plt.subplots(1, 2,figsize=(6,3))\n",
    "\n",
    "# plot_time_rna_seq(exp_counts,gene = 'BCL2',ax=axes[0],data='Expression',pvalue = bcl2_pvalue)\n",
    "# axes[0].get_legend().remove()\n",
    "# axes[0].set_ylim(bottom=800,top=2500)\n",
    "# # axes[0].set_yscale('log')\n",
    "\n",
    "# plot_time_rna_seq(exp_counts,gene = 'MYBBP1A',ax=axes[1],data='Expression',pvalue = mybbp1a_pvalue)\n",
    "# axes[1].get_legend().remove()\n",
    "# # axes[1].legend(bbox_to_anchor=(1.05, 1), loc=2, borderaxespad=0.,prop={'size': 8})\n",
    "# axes[1].set_ylabel(None)\n",
    "# axes[1].set_ylim(bottom=200,top=1500)\n",
    "\n",
    "# f.suptitle('Time-series RNA-seq')\n",
    "# f.tight_layout()\n",
    "# f.savefig('Target-genes/Exp_2.pdf')"
   ]
  },
  {
   "cell_type": "markdown",
   "id": "001d04b0-67bb-4117-93a6-2a35d5be3e47",
   "metadata": {
    "tags": []
   },
   "source": [
    "#### Down, 120h | GOBP_REGULATION_OF_CHOLESTEROL_BIOSYNTHETIC_PROCESS"
   ]
  },
  {
   "cell_type": "code",
   "execution_count": 427,
   "id": "98746bec-7be6-4e33-9a43-a17cf8aefe2f",
   "metadata": {
    "tags": []
   },
   "outputs": [],
   "source": [
    "# f, axes = plt.subplots(1, 3,figsize=(12,3))\n",
    "\n",
    "# plot_time_rna_seq(\n",
    "#     exp_counts,gene = 'SCD',ax=axes[0],data='Expression',\n",
    "#     pvalue=exp.set_index('gene_name').loc['SCD','hl60_72h_pvalue'],\n",
    "#     plot='pointplot'\n",
    "# )\n",
    "# axes[0].get_legend().remove()\n",
    "# axes[0].set_ylim(bottom=1001,top=5999)\n",
    "# # axes[0].set_yscale('log')\n",
    "\n",
    "# plot_time_rna_seq(\n",
    "#     exp_counts,gene = 'LSS',ax=axes[1],data='Expression',\n",
    "#     pvalue=exp.set_index('gene_name').loc['LSS','hl60_72h_pvalue'],\n",
    "#     plot='pointplot')\n",
    "# axes[1].get_legend().remove()\n",
    "# axes[1].set_ylim(bottom=201,top=999)\n",
    "\n",
    "# plot_time_rna_seq(\n",
    "#     exp_counts,gene = 'ACACA',ax=axes[2],data='Expression',\n",
    "#     pvalue=exp.set_index('gene_name').loc['ACACA','hl60_72h_pvalue'],\n",
    "#     plot='pointplot')\n",
    "# axes[2].legend(bbox_to_anchor=(1.05, 1), loc=2, borderaxespad=0.)\n",
    "# axes[2].set_ylim(bottom=401,top=1799)\n",
    "\n",
    "# plt.tight_layout()\n",
    "# plt.savefig('Target-genes/Exp_3.pdf')"
   ]
  },
  {
   "cell_type": "markdown",
   "id": "bc0de875-74c8-4a63-84c2-b959537b2123",
   "metadata": {
    "jp-MarkdownHeadingCollapsed": true,
    "tags": []
   },
   "source": [
    "> #### SCD, stearoyl CoA desaturase\n",
    "> [__Metabolic adaptation of acute lymphoblastic leukemia to the central nervous system microenvironment is dependent on Stearoyl CoA desaturase__](https://pubmed.ncbi.nlm.nih.gov/33479702/)\n",
    "> - _We identified a metabolic signature of fatty-acid synthesis in CNS leukemia, highlighting Stearoyl-CoA desaturase (SCD1) as a key player. In vivo SCD1 overexpression increases CNS disease, whilst genetic or pharmacological inhibition of SCD1 decreases CNS load._"
   ]
  },
  {
   "cell_type": "code",
   "execution_count": 428,
   "id": "06a9d322-5c04-4ad6-8009-74c1659a5826",
   "metadata": {
    "tags": []
   },
   "outputs": [],
   "source": [
    "# # gs = 'GOBP_REGULATION_OF_CHOLESTEROL_BIOSYNTHETIC_PROCESS'\n",
    "# # ['CYP51A1', 'FDFT1', 'SQLE', 'ERLIN1', 'KPNB1', \n",
    "# # 'SC5D', 'HMGCR', 'SCAP', 'GPAM', \n",
    "\n",
    "# f, axes = plt.subplots(1, 3,figsize=(12,3))\n",
    "\n",
    "# plot_time_rna_seq(\n",
    "#     exp_counts,gene = 'GPAM',ax=axes[0],data='Expression',\n",
    "#     pvalue=exp.set_index('gene_name').loc['GPAM','hl60_72h_pvalue'],\n",
    "#     plot='pointplot')\n",
    "# axes[0].get_legend().remove()\n",
    "# # axes[0].set_ylim(bottom=1000,top=2000)\n",
    "# # axes[0].set_yscale('log')\n",
    "\n",
    "# plot_time_rna_seq(\n",
    "#     exp_counts,gene = 'SCAP',ax=axes[1],data='Expression',\n",
    "#     pvalue=exp.set_index('gene_name').loc['SCAP','hl60_72h_pvalue'],\n",
    "#     plot='pointplot')\n",
    "# axes[1].get_legend().remove()\n",
    "# # axes[1].set_ylim(bottom=50,top=200)\n",
    "\n",
    "# plot_time_rna_seq(\n",
    "#     exp_counts,gene = 'ERLIN1',ax=axes[2],data='Expression',\n",
    "#     pvalue=exp.set_index('gene_name').loc['ERLIN1','hl60_72h_pvalue'],\n",
    "#     plot='pointplot')\n",
    "# axes[2].legend(bbox_to_anchor=(1.05, 1), loc=2, borderaxespad=0.)\n",
    "# # axes[2].set_ylim(bottom=50,top=200)\n",
    "\n",
    "# plt.tight_layout()\n",
    "# # plt.savefig('Target-genes/Exp.pdf')"
   ]
  },
  {
   "cell_type": "code",
   "execution_count": 429,
   "id": "dadcf4f5-7b91-472c-96bf-9295848448a4",
   "metadata": {
    "tags": []
   },
   "outputs": [],
   "source": [
    "# # 'RAN', 'SOD1', 'FDPS', 'PMVK', 'DHCR7']]\n",
    "\n",
    "# f, axes = plt.subplots(1, 3,figsize=(12,3))\n",
    "\n",
    "# plot_time_rna_seq(\n",
    "#     exp_counts,gene = 'RAN',ax=axes[0],data='Expression',\n",
    "#     pvalue=exp.set_index('gene_name').loc['RAN','hl60_72h_pvalue'],\n",
    "#     plot='pointplot')\n",
    "# axes[0].get_legend().remove()\n",
    "# # axes[0].set_ylim(bottom=1000,top=2000)\n",
    "# # axes[0].set_yscale('log')\n",
    "\n",
    "# plot_time_rna_seq(\n",
    "#     exp_counts,gene = 'SOD1',ax=axes[1],data='Expression',\n",
    "#     pvalue=exp.set_index('gene_name').loc['SOD1','hl60_72h_pvalue'],\n",
    "#     plot='pointplot')\n",
    "# axes[1].get_legend().remove()\n",
    "# # axes[1].set_ylim(bottom=50,top=200)\n",
    "\n",
    "# plot_time_rna_seq(\n",
    "#     exp_counts,gene = 'FDPS',ax=axes[2],data='Expression',\n",
    "#     pvalue=exp.set_index('gene_name').loc['FDPS','hl60_72h_pvalue'],\n",
    "#     plot='pointplot')\n",
    "# axes[2].legend(bbox_to_anchor=(1.05, 1), loc=2, borderaxespad=0.)\n",
    "# # axes[2].set_ylim(bottom=50,top=200)\n",
    "\n",
    "# plt.tight_layout()\n",
    "# # plt.savefig('Target-genes/Exp.pdf')"
   ]
  },
  {
   "cell_type": "code",
   "execution_count": 430,
   "id": "93acedd3-cc52-4c21-ad95-7219b9c9df21",
   "metadata": {
    "tags": []
   },
   "outputs": [],
   "source": [
    "# # 'RAN', 'SOD1', 'FDPS', 'PMVK', 'DHCR7']]\n",
    "\n",
    "# f, axes = plt.subplots(1, 3,figsize=(12,3))\n",
    "\n",
    "# plot_time_rna_seq(exp_counts,gene = 'FDFT1',ax=axes[0],data='Expression')\n",
    "# axes[0].get_legend().remove()\n",
    "# # axes[0].set_ylim(bottom=1000,top=2000)\n",
    "# # axes[0].set_yscale('log')\n",
    "\n",
    "# plot_time_rna_seq(exp_counts,gene = 'PMVK',ax=axes[1],data='Expression')\n",
    "# axes[1].get_legend().remove()\n",
    "\n",
    "# plot_time_rna_seq(exp_counts,gene = 'DHCR7',ax=axes[2],data='Expression')\n",
    "# axes[2].legend(bbox_to_anchor=(1.05, 1), loc=2, borderaxespad=0.)\n",
    "# # axes[1].set_ylim(bottom=50,top=200)\n",
    "\n",
    "# plt.tight_layout()\n",
    "# # plt.savefig('Target-genes/Exp.pdf')"
   ]
  },
  {
   "cell_type": "markdown",
   "id": "1c4b82d3-6102-4f5c-8d7f-c2b49d1e10c8",
   "metadata": {},
   "source": [
    "    GOMF_S_ADENOSYLMETHIONINE_DEPENDENT_METHYLTRANSFERASE_ACTIVITY\n",
    "\n",
    "    [['METTL1', 'FTSJ1', 'PRMT5', 'SETD6', 'FBL', 'DPH5', 'KMT2A', 'EEF2KMT', 'METTL8', 'PRMT1', 'METTL16', 'COQ3', 'PRMT7', 'PEMT', 'MEN1', 'CARM1', 'SETD7', 'TFB2M', 'TRMT61A', 'SETMAR', 'TRMT61B', 'MRM3', 'TRMT10C', 'PRMT3', 'WDR5'], ['TFB1M', 'NSUN2', 'TARBP1', 'TRMT11', 'BUD23', 'DIMT1', 'METTL2A', 'TRMT6', 'RNMT', 'SUV39H1', 'TRMT1', 'FTSJ3', 'NOP2', 'ICMT', 'NSUN4', 'MRM2', 'EEF1AKMT3', 'EMG1', 'TRMT5', 'DNMT1', 'RRP8', 'SETDB2', 'THUMPD2', 'METTL5', 'PRDM16', 'EEF1AKMT1', 'SUV39H2', 'SETD9', 'CARNMT1', 'WDR4', 'COMTD1', 'ZCCHC4', 'PRMT6', 'EHMT2', 'MRM1', 'EEF1AKMT4']]\n"
   ]
  },
  {
   "cell_type": "code",
   "execution_count": 431,
   "id": "3a29bef6-cbe5-445d-869b-42d7ac660f36",
   "metadata": {},
   "outputs": [],
   "source": [
    "pvalue_120h = 'P(120h) = {:.2e}'.format(\n",
    "    exp.set_index('gene_name').loc['MAT2A','hl60_120h_pvalue']\n",
    ")\n",
    "pvalue_72h = 'P(72h) = {:.2e}'.format(\n",
    "    exp.set_index('gene_name').loc['MAT2A','hl60_72h_pvalue']\n",
    ")\n",
    "\n",
    "pvalue_6h = 'P(6h) = {:.2e}'.format(\n",
    "    exp.set_index('gene_name').loc['MAT2A','hl60_6h_pvalue']\n",
    ")"
   ]
  },
  {
   "cell_type": "code",
   "execution_count": 432,
   "id": "15bbd0e2-0abf-470a-8f68-78392b403fc8",
   "metadata": {},
   "outputs": [
    {
     "data": {
      "text/plain": [
       "'P(120h) = 4.48e-12'"
      ]
     },
     "execution_count": 432,
     "metadata": {},
     "output_type": "execute_result"
    }
   ],
   "source": [
    "pvalue_str = f'{pvalue_120h}'#\\n{pvalue_72h}\\n{pvalue_6h}'\n",
    "pvalue_str"
   ]
  },
  {
   "cell_type": "code",
   "execution_count": 433,
   "id": "b7e7678a-e49e-445d-ac09-025fa05941bf",
   "metadata": {
    "tags": []
   },
   "outputs": [
    {
     "data": {
      "image/png": "[encoded data removed]",
      "text/plain": [
       "<Figure size 450x450 with 1 Axes>"
      ]
     },
     "metadata": {},
     "output_type": "display_data"
    }
   ],
   "source": [
    "f, ax = plt.subplots(1, 1,figsize=(3,3),dpi=150)\n",
    "\n",
    "plot_time_rna_seq(\n",
    "    exp_counts,\n",
    "    gene = 'MAT2A',\n",
    "    pvalue=4.48e-12,\n",
    "    ax=ax,data='Normalizd\\nmRNA Expression',ylim=ylim\n",
    ")\n",
    "\n",
    "ax.get_legend().remove()\n",
    "ax.set_ylim(bottom=50,top=4000)\n",
    "\n",
    "plt.tight_layout()\n",
    "plt.savefig('Target-genes/Exp_MAT2A.pdf')"
   ]
  },
  {
   "cell_type": "code",
   "execution_count": null,
   "id": "da9f773c-7293-4cd8-9552-940c06763085",
   "metadata": {},
   "outputs": [],
   "source": []
  },
  {
   "cell_type": "code",
   "execution_count": 477,
   "id": "0df34a9f-d6de-46e1-a6d5-ae2c6e57e325",
   "metadata": {
    "tags": []
   },
   "outputs": [
    {
     "data": {
      "image/png": "[encoded data removed]",
      "text/plain": [
       "<Figure size 1350x450 with 4 Axes>"
      ]
     },
     "metadata": {},
     "output_type": "display_data"
    }
   ],
   "source": [
    "f, axes = plt.subplots(1, 4,figsize=(9,3),dpi=150)\n",
    "\n",
    "g = 'DCK'\n",
    "plot_time_rna_seq(\n",
    "    exp_counts,\n",
    "    gene = g,pvalue=exp.set_index('gene_name').loc[g,'hl60_72h_pvalue'],\n",
    "    ax=axes[0],data='Normalizd\\nmRNA Expression',ylim=ylim\n",
    ")\n",
    "\n",
    "g = 'BCL2'\n",
    "plot_time_rna_seq(\n",
    "    exp_counts,\n",
    "    gene = g,pvalue=exp.set_index('gene_name').loc[g,'hl60_72h_pvalue'],\n",
    "    ax=axes[1],data='Normalizd\\nmRNA Expression',ylim=ylim\n",
    ")\n",
    "\n",
    "g = 'SLC29A1'\n",
    "plot_time_rna_seq(\n",
    "    exp_counts,\n",
    "    gene = g,pvalue=exp.set_index('gene_name').loc[g,'hl60_72h_pvalue'],\n",
    "    ax=axes[2],data='Normalizd\\nmRNA Expression',ylim=ylim\n",
    ")\n",
    "\n",
    "g = 'MCL1'\n",
    "plot_time_rna_seq(\n",
    "    exp_counts,\n",
    "    gene = g,pvalue=exp.set_index('gene_name').loc[g,'hl60_72h_pvalue'],\n",
    "    ax=axes[3],data='Normalizd\\nmRNA Expression',ylim=ylim\n",
    ")\n",
    "\n",
    "for ax in axes:\n",
    "    ax.get_legend().remove()\n",
    "    ax.set_ylabel(None)\n",
    "# ax.set_ylim(bottom=50,top=4000)\n",
    "\n",
    "plt.tight_layout()\n",
    "# plt.savefig('Target-genes/Exp_MAT2A.pdf')"
   ]
  },
  {
   "cell_type": "markdown",
   "id": "54e13593-c55f-4c67-a284-3006e685e543",
   "metadata": {
    "tags": []
   },
   "source": [
    "### Stability"
   ]
  },
  {
   "cell_type": "code",
   "execution_count": 33,
   "id": "9d7ba0b9-4fad-4756-a2a9-0ca88ec56121",
   "metadata": {
    "tags": []
   },
   "outputs": [],
   "source": [
    "stbl_counts_norm = pd.read_csv('../DAC/RNA-seq/stbl/normalized_stbl_count_table.txt',sep='\\t')\n",
    "stbl_counts = pd.read_csv('../DAC/RNA-seq/stbl/REMBRANDTS.txt',sep='\\t').set_index('GeneID').loc[stbl_counts_norm.index,]\n",
    "stbl_counts['name'] = stbl_counts_norm['name']\n",
    "# stbl_counts.set_index('name',inplace=True)"
   ]
  },
  {
   "cell_type": "code",
   "execution_count": 34,
   "id": "ecba3a80-c9ae-4c75-b4d6-e38537f5e89b",
   "metadata": {},
   "outputs": [],
   "source": [
    "stbl = pd.read_csv('../DAC/RNA-seq/stbl/delta_stbl_table.txt',sep='\\t')"
   ]
  },
  {
   "cell_type": "code",
   "execution_count": 35,
   "id": "13801ae4-b5e2-46f5-91e4-b4523ca22b91",
   "metadata": {},
   "outputs": [
    {
     "data": {
      "text/html": [
       "<div>\n",
       "<style scoped>\n",
       "    .dataframe tbody tr th:only-of-type {\n",
       "        vertical-align: middle;\n",
       "    }\n",
       "\n",
       "    .dataframe tbody tr th {\n",
       "        vertical-align: top;\n",
       "    }\n",
       "\n",
       "    .dataframe thead th {\n",
       "        text-align: right;\n",
       "    }\n",
       "</style>\n",
       "<table border=\"1\" class=\"dataframe\">\n",
       "  <thead>\n",
       "    <tr style=\"text-align: right;\">\n",
       "      <th></th>\n",
       "      <th>hl60_120h_log2FC</th>\n",
       "      <th>hl60_120h_pvalue</th>\n",
       "      <th>hl60_72h_log2FC</th>\n",
       "      <th>hl60_72h_pvalue</th>\n",
       "      <th>hl60_6h_log2FC</th>\n",
       "      <th>hl60_6h_pvalue</th>\n",
       "      <th>kg1_log2FC</th>\n",
       "      <th>kg1_pvalue</th>\n",
       "      <th>molm14_log2FC</th>\n",
       "      <th>molm14_pvalue</th>\n",
       "      <th>ociaml2_log2FC</th>\n",
       "      <th>ociaml2_pvalue</th>\n",
       "      <th>ociaml3_log2FC</th>\n",
       "      <th>ociaml3_pvalue</th>\n",
       "      <th>thp1_log2FC</th>\n",
       "      <th>thp1_pvalue</th>\n",
       "    </tr>\n",
       "    <tr>\n",
       "      <th>gene_name</th>\n",
       "      <th></th>\n",
       "      <th></th>\n",
       "      <th></th>\n",
       "      <th></th>\n",
       "      <th></th>\n",
       "      <th></th>\n",
       "      <th></th>\n",
       "      <th></th>\n",
       "      <th></th>\n",
       "      <th></th>\n",
       "      <th></th>\n",
       "      <th></th>\n",
       "      <th></th>\n",
       "      <th></th>\n",
       "      <th></th>\n",
       "      <th></th>\n",
       "    </tr>\n",
       "  </thead>\n",
       "  <tbody>\n",
       "    <tr>\n",
       "      <th>SQLE</th>\n",
       "      <td>-0.326497</td>\n",
       "      <td>0.033652</td>\n",
       "      <td>-0.106687</td>\n",
       "      <td>0.422241</td>\n",
       "      <td>0.141628</td>\n",
       "      <td>0.210682</td>\n",
       "      <td>0.015310</td>\n",
       "      <td>0.843350</td>\n",
       "      <td>0.024853</td>\n",
       "      <td>0.879954</td>\n",
       "      <td>0.381374</td>\n",
       "      <td>0.030886</td>\n",
       "      <td>-0.092109</td>\n",
       "      <td>0.658859</td>\n",
       "      <td>-0.055117</td>\n",
       "      <td>0.494456</td>\n",
       "    </tr>\n",
       "    <tr>\n",
       "      <th>BCL2</th>\n",
       "      <td>-0.364531</td>\n",
       "      <td>0.008860</td>\n",
       "      <td>-0.270596</td>\n",
       "      <td>0.285827</td>\n",
       "      <td>-0.228470</td>\n",
       "      <td>0.027198</td>\n",
       "      <td>-0.048082</td>\n",
       "      <td>0.554119</td>\n",
       "      <td>-0.429219</td>\n",
       "      <td>0.004958</td>\n",
       "      <td>-0.214983</td>\n",
       "      <td>0.090099</td>\n",
       "      <td>0.155364</td>\n",
       "      <td>0.164870</td>\n",
       "      <td>-0.028392</td>\n",
       "      <td>0.748094</td>\n",
       "    </tr>\n",
       "  </tbody>\n",
       "</table>\n",
       "</div>"
      ],
      "text/plain": [
       "           hl60_120h_log2FC  hl60_120h_pvalue  hl60_72h_log2FC  \\\n",
       "gene_name                                                        \n",
       "SQLE              -0.326497          0.033652        -0.106687   \n",
       "BCL2              -0.364531          0.008860        -0.270596   \n",
       "\n",
       "           hl60_72h_pvalue  hl60_6h_log2FC  hl60_6h_pvalue  kg1_log2FC  \\\n",
       "gene_name                                                                \n",
       "SQLE              0.422241        0.141628        0.210682    0.015310   \n",
       "BCL2              0.285827       -0.228470        0.027198   -0.048082   \n",
       "\n",
       "           kg1_pvalue  molm14_log2FC  molm14_pvalue  ociaml2_log2FC  \\\n",
       "gene_name                                                             \n",
       "SQLE         0.843350       0.024853       0.879954        0.381374   \n",
       "BCL2         0.554119      -0.429219       0.004958       -0.214983   \n",
       "\n",
       "           ociaml2_pvalue  ociaml3_log2FC  ociaml3_pvalue  thp1_log2FC  \\\n",
       "gene_name                                                                \n",
       "SQLE             0.030886       -0.092109        0.658859    -0.055117   \n",
       "BCL2             0.090099        0.155364        0.164870    -0.028392   \n",
       "\n",
       "           thp1_pvalue  \n",
       "gene_name               \n",
       "SQLE          0.494456  \n",
       "BCL2          0.748094  "
      ]
     },
     "execution_count": 35,
     "metadata": {},
     "output_type": "execute_result"
    }
   ],
   "source": [
    "stbl.set_index('gene_name').loc[['SQLE','BCL2'],:]\n",
    "# .filter(regex='hl60')#.filter(regex='h_pvalue')"
   ]
  },
  {
   "cell_type": "code",
   "execution_count": 36,
   "id": "cc326bb8-659a-4fa4-a74c-5364ad26bed0",
   "metadata": {
    "tags": []
   },
   "outputs": [
    {
     "name": "stderr",
     "output_type": "stream",
     "text": [
      "/data_gilbert/home/aarab/anaconda3/envs/down/lib/python3.10/site-packages/seaborn/categorical.py:1728: UserWarning: You passed a edgecolor/edgecolors ((0.8274509803921568, 0.8274509803921568, 0.8274509803921568)) for an unfilled marker ('').  Matplotlib is ignoring the edgecolor in favor of the facecolor.  This behavior may change in the future.\n",
      "  ax.scatter(x, y, label=hue_level,\n",
      "/data_gilbert/home/aarab/anaconda3/envs/down/lib/python3.10/site-packages/seaborn/categorical.py:1728: UserWarning: You passed a edgecolor/edgecolors ((0.39215686274509803, 0.7098039215686275, 0.803921568627451)) for an unfilled marker ('').  Matplotlib is ignoring the edgecolor in favor of the facecolor.  This behavior may change in the future.\n",
      "  ax.scatter(x, y, label=hue_level,\n",
      "/data_gilbert/home/aarab/anaconda3/envs/down/lib/python3.10/site-packages/seaborn/categorical.py:1728: UserWarning: You passed a edgecolor/edgecolors ((0.8274509803921568, 0.8274509803921568, 0.8274509803921568)) for an unfilled marker ('').  Matplotlib is ignoring the edgecolor in favor of the facecolor.  This behavior may change in the future.\n",
      "  ax.scatter(x, y, label=hue_level,\n",
      "/data_gilbert/home/aarab/anaconda3/envs/down/lib/python3.10/site-packages/seaborn/categorical.py:1728: UserWarning: You passed a edgecolor/edgecolors ((0.39215686274509803, 0.7098039215686275, 0.803921568627451)) for an unfilled marker ('').  Matplotlib is ignoring the edgecolor in favor of the facecolor.  This behavior may change in the future.\n",
      "  ax.scatter(x, y, label=hue_level,\n"
     ]
    },
    {
     "data": {
      "image/png": "[encoded data removed]",
      "text/plain": [
       "<Figure size 600x300 with 2 Axes>"
      ]
     },
     "metadata": {},
     "output_type": "display_data"
    }
   ],
   "source": [
    "f, axes = plt.subplots(1, 2,figsize=(6,3))\n",
    "\n",
    "ylim = None\n",
    "\n",
    "plot_time_rna_seq(\n",
    "    stbl_counts,gene = 'SQLE',ax=axes[0],data='Normalized\\nmRNA Stability',ylim=ylim, \n",
    "    pvalue=stbl.set_index('gene_name').loc['SQLE','hl60_120h_pvalue']\n",
    "                 )\n",
    "axes[0].get_legend().remove()\n",
    "axes[0].set_ylim(bottom=-0.5,top=0.5)\n",
    "\n",
    "plot_time_rna_seq(\n",
    "    stbl_counts,gene = 'BCL2',ax=axes[1],data='Stability',ylim=ylim, \n",
    "    pvalue=stbl.set_index('gene_name').loc['BCL2','hl60_120h_pvalue']\n",
    ")\n",
    "axes[1].get_legend().remove()\n",
    "axes[1].set_ylabel(None)\n",
    "# axes[1].legend(bbox_to_anchor=(1.05, 1), loc=2, borderaxespad=0.)\n",
    "axes[1].set_ylim(bottom=-0.5,top=0.5)\n",
    "\n",
    "plt.tight_layout()\n",
    "plt.savefig('Target-genes/Stbl.pdf')"
   ]
  },
  {
   "cell_type": "markdown",
   "id": "0be11f79-e004-46d5-83c2-6c11f0ed6ba1",
   "metadata": {
    "tags": []
   },
   "source": [
    "#### up in 6h, GOBP_REGULATION_OF_CHOLESTEROL_BIOSYNTHETIC_PROCESS\n",
    "- 'NFYA', 'SQLE', 'FDPS', 'SREBF1', 'FDFT1', 'SCAP', 'PRKAA1', 'ERLIN2', 'FASN', 'SREBF2'"
   ]
  },
  {
   "cell_type": "code",
   "execution_count": 37,
   "id": "cddb2d0e-488a-4fde-9a03-ed19f5ffe8a2",
   "metadata": {
    "tags": []
   },
   "outputs": [],
   "source": [
    "# f, axes = plt.subplots(1, 2,figsize=(8,3))\n",
    "\n",
    "# plot_time_rna_seq(\n",
    "#     stbl_counts,gene = 'SQLE',ax=axes[0],data='Stability',ylim=ylim, \n",
    "#     pvalue=stbl.set_index('gene_name').loc['SQLE','hl60_120h_pvalue']\n",
    "#                  )\n",
    "# axes[0].get_legend().remove()\n",
    "# axes[0].set_ylim(bottom=-0.4,top=0.4)\n",
    "\n",
    "# plot_time_rna_seq(\n",
    "#     stbl_counts,gene = 'FDFT1',ax=axes[1],data='Stability',ylim=ylim, \n",
    "#     pvalue=stbl.set_index('gene_name').loc['FDFT1','hl60_120h_pvalue']\n",
    "# )\n",
    "# axes[1].legend(bbox_to_anchor=(1.05, 1), loc=2, borderaxespad=0.)\n",
    "# axes[1].set_ylim(bottom=-0.8,top=0.3)\n",
    "\n",
    "# plt.tight_layout()\n",
    "# # plt.savefig('Target-genes/Stbl.pdf')"
   ]
  },
  {
   "cell_type": "markdown",
   "id": "a581d9e1-f907-4ebe-af8c-ab3c870e4ca5",
   "metadata": {
    "tags": []
   },
   "source": [
    "#### up in 120h, GOBP_RESPONSE_TO_STEROL\n",
    "- 'TGFBR2', 'GRAMD1B', 'TGFBR1', 'LRP8', 'SMAD2', 'CES1'"
   ]
  },
  {
   "cell_type": "code",
   "execution_count": 38,
   "id": "779914d2-1170-4099-8ea2-2a4c5fda62a3",
   "metadata": {
    "tags": []
   },
   "outputs": [],
   "source": [
    "# # TGFBR2', 'GRAMD1B', 'TGFBR1', 'LRP8', 'SMAD2', 'CES1'\n",
    "# f, axes = plt.subplots(1, 2,figsize=(8,3))\n",
    "\n",
    "# plot_time_rna_seq(stbl_counts,gene = 'TGFBR2',ax=axes[0],data='Stability',ylim=ylim)\n",
    "# axes[0].get_legend().remove()\n",
    "# # axes[0].set_ylim(bottom=-0.4,top=0.4)\n",
    "\n",
    "# plot_time_rna_seq(stbl_counts,gene = 'TGFBR1',ax=axes[1],data='Stability',ylim=ylim)\n",
    "# axes[1].legend(bbox_to_anchor=(1.05, 1), loc=2, borderaxespad=0.)\n",
    "# # axes[1].set_ylim(bottom=-0.8,top=0.3)\n",
    "\n",
    "# plt.tight_layout()"
   ]
  },
  {
   "cell_type": "markdown",
   "id": "ea025e42-3122-4d0e-900f-693e578702e6",
   "metadata": {
    "jp-MarkdownHeadingCollapsed": true,
    "tags": []
   },
   "source": [
    "> #### FDFT1\n",
    "> [__Azacitidine in combination with chemotherapy in pediatric AML patients– a phase I study__](https://aml-hub.com/medical-information/azacitidine-in-combination-with-chemotherapy-in-pediatric-aml-patients-a-phase-i-study)\n",
    "> - _FDFT1 was significantly different between responders and non-responders, P = 0.002_"
   ]
  },
  {
   "cell_type": "code",
   "execution_count": 39,
   "id": "3072ec90-99c1-49e2-bd55-a74344af32c0",
   "metadata": {
    "tags": []
   },
   "outputs": [],
   "source": [
    "# f, axes = plt.subplots(1, 2,figsize=(8,3))\n",
    "\n",
    "# plot_time_rna_seq(stbl_counts,gene = 'BCL2',ax=axes[0],data='Stability',ylim=ylim, pvalue=0)\n",
    "# axes[0].get_legend().remove()\n",
    "# axes[0].set_ylim(bottom=-0.4,top=0.4)\n",
    "\n",
    "# plot_time_rna_seq(stbl_counts,gene = 'MYB',ax=axes[1],data='Stability',ylim=ylim, pvalue=0)\n",
    "# axes[1].legend(bbox_to_anchor=(1.05, 1), loc=2, borderaxespad=0.)\n",
    "# axes[1].set_ylim(bottom=-0.8,top=0.3)\n",
    "\n",
    "# plt.tight_layout()\n",
    "# # plt.savefig('Target-genes/Stbl.pdf')"
   ]
  },
  {
   "cell_type": "code",
   "execution_count": 40,
   "id": "5617c06a-f4de-4403-b941-e6b27f3081a6",
   "metadata": {},
   "outputs": [
    {
     "data": {
      "text/plain": [
       "['MAT2A', 'MAT1A', 'MAT2B']"
      ]
     },
     "execution_count": 40,
     "metadata": {},
     "output_type": "execute_result"
    }
   ],
   "source": [
    "['MAT2A','MAT1A','MAT2B']"
   ]
  },
  {
   "cell_type": "code",
   "execution_count": 41,
   "id": "a4a75c5a-746e-4219-86cd-1966bae5b077",
   "metadata": {},
   "outputs": [],
   "source": [
    "pvalue_120h = 'P(120h) = {:.2e}'.format(\n",
    "    stbl.set_index('gene_name').loc['MAT2A','hl60_120h_pvalue']\n",
    ")\n",
    "pvalue_72h = 'P(72h) = {:.2e}'.format(\n",
    "    stbl.set_index('gene_name').loc['MAT2A','hl60_72h_pvalue']\n",
    ")\n",
    "\n",
    "pvalue_6h = 'P(6h) = {:.2e}'.format(\n",
    "    stbl.set_index('gene_name').loc['MAT2A','hl60_6h_pvalue']\n",
    ")"
   ]
  },
  {
   "cell_type": "code",
   "execution_count": 42,
   "id": "6ece7eaa-9560-427e-9e36-6d3c047953a3",
   "metadata": {},
   "outputs": [],
   "source": [
    "pvalue_str = f'{pvalue_120h}\\n{pvalue_72h}\\n{pvalue_6h}'"
   ]
  },
  {
   "cell_type": "code",
   "execution_count": 43,
   "id": "a78f6e4c-68bc-44fa-99fc-94d3769a8604",
   "metadata": {},
   "outputs": [
    {
     "data": {
      "text/plain": [
       "'P(120h) = 1.58e-03'"
      ]
     },
     "execution_count": 43,
     "metadata": {},
     "output_type": "execute_result"
    }
   ],
   "source": [
    "pvalue_120h"
   ]
  },
  {
   "cell_type": "code",
   "execution_count": 44,
   "id": "6e4914b4-545c-4f11-b2a2-8212fb619d80",
   "metadata": {
    "tags": []
   },
   "outputs": [
    {
     "name": "stderr",
     "output_type": "stream",
     "text": [
      "/data_gilbert/home/aarab/anaconda3/envs/down/lib/python3.10/site-packages/seaborn/categorical.py:1728: UserWarning: You passed a edgecolor/edgecolors ((0.8274509803921568, 0.8274509803921568, 0.8274509803921568)) for an unfilled marker ('').  Matplotlib is ignoring the edgecolor in favor of the facecolor.  This behavior may change in the future.\n",
      "  ax.scatter(x, y, label=hue_level,\n",
      "/data_gilbert/home/aarab/anaconda3/envs/down/lib/python3.10/site-packages/seaborn/categorical.py:1728: UserWarning: You passed a edgecolor/edgecolors ((0.39215686274509803, 0.7098039215686275, 0.803921568627451)) for an unfilled marker ('').  Matplotlib is ignoring the edgecolor in favor of the facecolor.  This behavior may change in the future.\n",
      "  ax.scatter(x, y, label=hue_level,\n"
     ]
    },
    {
     "data": {
      "image/png": "[encoded data removed]",
      "text/plain": [
       "<Figure size 450x450 with 1 Axes>"
      ]
     },
     "metadata": {},
     "output_type": "display_data"
    }
   ],
   "source": [
    "f, ax = plt.subplots(1, 1,figsize=(3,3),dpi=150)\n",
    "\n",
    "plot_time_rna_seq(\n",
    "    stbl_counts,\n",
    "    gene = 'MAT2A',\n",
    "    pvalue=1.58e-03,\n",
    "    ax=ax,data='Normalized\\nmRNA Stability',ylim=ylim\n",
    ")\n",
    "\n",
    "ax.get_legend().remove()\n",
    "ax.set_ylim(bottom=-1.2,top=0.8)\n",
    "\n",
    "plt.tight_layout()\n",
    "plt.savefig('Target-genes/Stbl_MAT2A.pdf')"
   ]
  },
  {
   "cell_type": "code",
   "execution_count": 45,
   "id": "06ad662c-ea83-4721-825b-c9821ea89c1e",
   "metadata": {},
   "outputs": [
    {
     "data": {
      "text/plain": [
       "'P(120h) = 1.77e-03'"
      ]
     },
     "execution_count": 45,
     "metadata": {},
     "output_type": "execute_result"
    }
   ],
   "source": [
    "'P(120h) = {:.2e}'.format(\n",
    "    stbl.set_index('gene_name').loc['YTHDF2','hl60_120h_pvalue']\n",
    ")"
   ]
  },
  {
   "cell_type": "code",
   "execution_count": null,
   "id": "9c381dd8-3a88-4b3c-abd0-ed6f34a01e99",
   "metadata": {},
   "outputs": [],
   "source": []
  },
  {
   "cell_type": "code",
   "execution_count": null,
   "id": "31590d4a-dab3-444b-ad93-92f0d45ee01c",
   "metadata": {},
   "outputs": [],
   "source": []
  },
  {
   "cell_type": "code",
   "execution_count": null,
   "id": "ff565ddc-2671-4544-a0d1-3028cb6f5d32",
   "metadata": {},
   "outputs": [],
   "source": []
  },
  {
   "cell_type": "code",
   "execution_count": null,
   "id": "bed8930f-c828-4ae6-846d-afb523b7463c",
   "metadata": {},
   "outputs": [],
   "source": []
  },
  {
   "cell_type": "markdown",
   "id": "712eb06a-9d6a-4be9-8f53-3553e4100c5d",
   "metadata": {},
   "source": [
    "## YTHDF2"
   ]
  },
  {
   "cell_type": "code",
   "execution_count": null,
   "id": "70f93fc8-caff-4d68-882a-7399bf9e8db5",
   "metadata": {},
   "outputs": [],
   "source": [
    "pvalue_120h = 'P(120h) = {:.2e}'.format(\n",
    "    exp.set_index('gene_name').loc['YTHDF2','hl60_120h_pvalue']\n",
    ")\n",
    "pvalue_72h = 'P(72h) = {:.2e}'.format(\n",
    "    exp.set_index('gene_name').loc['YTHDF2','hl60_72h_pvalue']\n",
    ")\n",
    "\n",
    "pvalue_6h = 'P(6h) = {:.2e}'.format(\n",
    "    exp.set_index('gene_name').loc['YTHDF2','hl60_6h_pvalue']\n",
    ")"
   ]
  },
  {
   "cell_type": "code",
   "execution_count": 28,
   "id": "60f43b6b-573e-424d-ac8e-4dd661050385",
   "metadata": {},
   "outputs": [
    {
     "data": {
      "text/plain": [
       "'P(120h) = 3.17e-02'"
      ]
     },
     "execution_count": 28,
     "metadata": {},
     "output_type": "execute_result"
    }
   ],
   "source": [
    "pvalue_str = f'{pvalue_120h}'#\\n{pvalue_72h}\\n{pvalue_6h}'\n",
    "pvalue_str"
   ]
  },
  {
   "cell_type": "code",
   "execution_count": 54,
   "id": "1e3d4b39-7825-498e-babc-d3c3697b7dd2",
   "metadata": {
    "tags": []
   },
   "outputs": [
    {
     "name": "stderr",
     "output_type": "stream",
     "text": [
      "/data_gilbert/home/aarab/anaconda3/envs/down/lib/python3.10/site-packages/seaborn/categorical.py:1728: UserWarning: You passed a edgecolor/edgecolors ((0.8274509803921568, 0.8274509803921568, 0.8274509803921568)) for an unfilled marker ('').  Matplotlib is ignoring the edgecolor in favor of the facecolor.  This behavior may change in the future.\n",
      "  ax.scatter(x, y, label=hue_level,\n",
      "/data_gilbert/home/aarab/anaconda3/envs/down/lib/python3.10/site-packages/seaborn/categorical.py:1728: UserWarning: You passed a edgecolor/edgecolors ((0.39215686274509803, 0.7098039215686275, 0.803921568627451)) for an unfilled marker ('').  Matplotlib is ignoring the edgecolor in favor of the facecolor.  This behavior may change in the future.\n",
      "  ax.scatter(x, y, label=hue_level,\n",
      "/data_gilbert/home/aarab/anaconda3/envs/down/lib/python3.10/site-packages/seaborn/categorical.py:1728: UserWarning: You passed a edgecolor/edgecolors ((0.8274509803921568, 0.8274509803921568, 0.8274509803921568)) for an unfilled marker ('').  Matplotlib is ignoring the edgecolor in favor of the facecolor.  This behavior may change in the future.\n",
      "  ax.scatter(x, y, label=hue_level,\n",
      "/data_gilbert/home/aarab/anaconda3/envs/down/lib/python3.10/site-packages/seaborn/categorical.py:1728: UserWarning: You passed a edgecolor/edgecolors ((0.39215686274509803, 0.7098039215686275, 0.803921568627451)) for an unfilled marker ('').  Matplotlib is ignoring the edgecolor in favor of the facecolor.  This behavior may change in the future.\n",
      "  ax.scatter(x, y, label=hue_level,\n"
     ]
    },
    {
     "data": {
      "image/png": "[encoded data removed]",
      "text/plain": [
       "<Figure size 450x750 with 2 Axes>"
      ]
     },
     "metadata": {},
     "output_type": "display_data"
    }
   ],
   "source": [
    "f, (ax,bx) = plt.subplots(2, 1,figsize=(3,5),dpi=150)\n",
    "\n",
    "ylim = 1200\n",
    "plot_time_rna_seq(\n",
    "    exp_counts,\n",
    "    gene = 'YTHDF2',\n",
    "    pvalue=4.48e-12,\n",
    "    ax=ax,data='Normalizd\\nmRNA Expression',ylim=ylim\n",
    ")\n",
    "\n",
    "ax.get_legend().remove()\n",
    "ax.set_xlabel('')\n",
    "ax.set_ylim(bottom=50,top=1200)\n",
    "\n",
    "plot_time_rna_seq(\n",
    "    stbl_counts,\n",
    "    gene = 'YTHDF2',\n",
    "    pvalue=1.77e-03,\n",
    "    ax=bx,data='Normalized\\nmRNA Stability',ylim=ylim\n",
    ")\n",
    "\n",
    "bx.get_legend().remove()\n",
    "bx.set_ylim(bottom=-0.4,top=0.8)\n",
    "bx.set_title('')\n",
    "\n",
    "plt.tight_layout()\n",
    "plt.savefig('Target-genes/YTHDF2.pdf')"
   ]
  },
  {
   "cell_type": "markdown",
   "id": "6c1ec4ad-76e8-43c0-a33a-450f9fab2023",
   "metadata": {},
   "source": [
    "# meRIP-seq\n"
   ]
  },
  {
   "cell_type": "markdown",
   "id": "00783486-3123-4918-9254-bb2b8cf0cec5",
   "metadata": {},
   "source": [
    "> ### $\\frac{IP}{Input} (drug)$ vs. $\\frac{IP}{Input} (control)$"
   ]
  },
  {
   "cell_type": "code",
   "execution_count": 440,
   "id": "87465ccc-9fe3-4e56-ae3f-39ddd626bbae",
   "metadata": {},
   "outputs": [],
   "source": [
    "radar_res = pd.read_csv('../DAC/meRIP-seq/hl60_delta_mtyl_table.txt',sep='\\t').set_index('ensembl')"
   ]
  },
  {
   "cell_type": "code",
   "execution_count": 441,
   "id": "15c5c92f-3f8d-43e5-b438-449a7470e514",
   "metadata": {},
   "outputs": [
    {
     "data": {
      "text/html": [
       "<div>\n",
       "<style scoped>\n",
       "    .dataframe tbody tr th:only-of-type {\n",
       "        vertical-align: middle;\n",
       "    }\n",
       "\n",
       "    .dataframe tbody tr th {\n",
       "        vertical-align: top;\n",
       "    }\n",
       "\n",
       "    .dataframe thead th {\n",
       "        text-align: right;\n",
       "    }\n",
       "</style>\n",
       "<table border=\"1\" class=\"dataframe\">\n",
       "  <thead>\n",
       "    <tr style=\"text-align: right;\">\n",
       "      <th></th>\n",
       "      <th>chr</th>\n",
       "      <th>start</th>\n",
       "      <th>end</th>\n",
       "      <th>name</th>\n",
       "      <th>score</th>\n",
       "      <th>strand</th>\n",
       "      <th>thickStart</th>\n",
       "      <th>thickEnd</th>\n",
       "      <th>itemRgb</th>\n",
       "      <th>blockCount</th>\n",
       "      <th>blockSizes</th>\n",
       "      <th>blockStarts</th>\n",
       "      <th>logFC</th>\n",
       "      <th>p_value</th>\n",
       "    </tr>\n",
       "    <tr>\n",
       "      <th>ensembl</th>\n",
       "      <th></th>\n",
       "      <th></th>\n",
       "      <th></th>\n",
       "      <th></th>\n",
       "      <th></th>\n",
       "      <th></th>\n",
       "      <th></th>\n",
       "      <th></th>\n",
       "      <th></th>\n",
       "      <th></th>\n",
       "      <th></th>\n",
       "      <th></th>\n",
       "      <th></th>\n",
       "      <th></th>\n",
       "    </tr>\n",
       "  </thead>\n",
       "  <tbody>\n",
       "    <tr>\n",
       "      <th>ENSG00000104549.12</th>\n",
       "      <td>chr8</td>\n",
       "      <td>124999289</td>\n",
       "      <td>124999338</td>\n",
       "      <td>SQLE</td>\n",
       "      <td>0</td>\n",
       "      <td>+</td>\n",
       "      <td>124999289</td>\n",
       "      <td>124999338</td>\n",
       "      <td>0</td>\n",
       "      <td>1</td>\n",
       "      <td>49</td>\n",
       "      <td>0</td>\n",
       "      <td>1.113278</td>\n",
       "      <td>0.000235</td>\n",
       "    </tr>\n",
       "    <tr>\n",
       "      <th>ENSG00000132382.14</th>\n",
       "      <td>chr17</td>\n",
       "      <td>4539741</td>\n",
       "      <td>4539790</td>\n",
       "      <td>MYBBP1A</td>\n",
       "      <td>0</td>\n",
       "      <td>-</td>\n",
       "      <td>4539741</td>\n",
       "      <td>4539790</td>\n",
       "      <td>0</td>\n",
       "      <td>1</td>\n",
       "      <td>49</td>\n",
       "      <td>0</td>\n",
       "      <td>1.160648</td>\n",
       "      <td>0.002957</td>\n",
       "    </tr>\n",
       "    <tr>\n",
       "      <th>ENSG00000171791.13</th>\n",
       "      <td>chr18</td>\n",
       "      <td>63127633</td>\n",
       "      <td>63127682</td>\n",
       "      <td>BCL2</td>\n",
       "      <td>0</td>\n",
       "      <td>-</td>\n",
       "      <td>63127633</td>\n",
       "      <td>63127682</td>\n",
       "      <td>0</td>\n",
       "      <td>1</td>\n",
       "      <td>49</td>\n",
       "      <td>0</td>\n",
       "      <td>-1.619069</td>\n",
       "      <td>0.001442</td>\n",
       "    </tr>\n",
       "    <tr>\n",
       "      <th>ENSG00000171791.13</th>\n",
       "      <td>chr18</td>\n",
       "      <td>63318783</td>\n",
       "      <td>63318832</td>\n",
       "      <td>BCL2</td>\n",
       "      <td>0</td>\n",
       "      <td>-</td>\n",
       "      <td>63318783</td>\n",
       "      <td>63318832</td>\n",
       "      <td>0</td>\n",
       "      <td>1</td>\n",
       "      <td>49</td>\n",
       "      <td>0</td>\n",
       "      <td>1.545043</td>\n",
       "      <td>0.003015</td>\n",
       "    </tr>\n",
       "    <tr>\n",
       "      <th>ENSG00000185085.2</th>\n",
       "      <td>chr11</td>\n",
       "      <td>62647794</td>\n",
       "      <td>62647843</td>\n",
       "      <td>INTS5</td>\n",
       "      <td>0</td>\n",
       "      <td>-</td>\n",
       "      <td>62647794</td>\n",
       "      <td>62647843</td>\n",
       "      <td>0</td>\n",
       "      <td>1</td>\n",
       "      <td>49</td>\n",
       "      <td>0</td>\n",
       "      <td>1.057699</td>\n",
       "      <td>0.000609</td>\n",
       "    </tr>\n",
       "    <tr>\n",
       "      <th>ENSG00000185085.2</th>\n",
       "      <td>chr11</td>\n",
       "      <td>62649635</td>\n",
       "      <td>62649684</td>\n",
       "      <td>INTS5</td>\n",
       "      <td>0</td>\n",
       "      <td>-</td>\n",
       "      <td>62649635</td>\n",
       "      <td>62649684</td>\n",
       "      <td>0</td>\n",
       "      <td>1</td>\n",
       "      <td>49</td>\n",
       "      <td>0</td>\n",
       "      <td>3.295837</td>\n",
       "      <td>0.000383</td>\n",
       "    </tr>\n",
       "  </tbody>\n",
       "</table>\n",
       "</div>"
      ],
      "text/plain": [
       "                      chr      start        end     name  score strand  \\\n",
       "ensembl                                                                  \n",
       "ENSG00000104549.12   chr8  124999289  124999338     SQLE      0      +   \n",
       "ENSG00000132382.14  chr17    4539741    4539790  MYBBP1A      0      -   \n",
       "ENSG00000171791.13  chr18   63127633   63127682     BCL2      0      -   \n",
       "ENSG00000171791.13  chr18   63318783   63318832     BCL2      0      -   \n",
       "ENSG00000185085.2   chr11   62647794   62647843    INTS5      0      -   \n",
       "ENSG00000185085.2   chr11   62649635   62649684    INTS5      0      -   \n",
       "\n",
       "                    thickStart   thickEnd  itemRgb  blockCount blockSizes  \\\n",
       "ensembl                                                                     \n",
       "ENSG00000104549.12   124999289  124999338        0           1         49   \n",
       "ENSG00000132382.14     4539741    4539790        0           1         49   \n",
       "ENSG00000171791.13    63127633   63127682        0           1         49   \n",
       "ENSG00000171791.13    63318783   63318832        0           1         49   \n",
       "ENSG00000185085.2     62647794   62647843        0           1         49   \n",
       "ENSG00000185085.2     62649635   62649684        0           1         49   \n",
       "\n",
       "                   blockStarts     logFC   p_value  \n",
       "ensembl                                             \n",
       "ENSG00000104549.12           0  1.113278  0.000235  \n",
       "ENSG00000132382.14           0  1.160648  0.002957  \n",
       "ENSG00000171791.13           0 -1.619069  0.001442  \n",
       "ENSG00000171791.13           0  1.545043  0.003015  \n",
       "ENSG00000185085.2            0  1.057699  0.000609  \n",
       "ENSG00000185085.2            0  3.295837  0.000383  "
      ]
     },
     "execution_count": 441,
     "metadata": {},
     "output_type": "execute_result"
    }
   ],
   "source": [
    "radar_res[radar_res.name.isin(['SQLE','INTS5','BCL2','MYBBP1A'])]"
   ]
  },
  {
   "cell_type": "code",
   "execution_count": 442,
   "id": "82496cee-bcf1-4e37-9533-c5a18c87defd",
   "metadata": {},
   "outputs": [],
   "source": [
    "sqle_id  = 'ENSG00000104549.12'\n",
    "ints5_id = 'ENSG00000185085.2'\n",
    "BCL2_id = \"ENSG00000171791.13\"\n",
    "MYBBP1A_id = \"ENSG00000132382.14\""
   ]
  },
  {
   "cell_type": "code",
   "execution_count": 443,
   "id": "85c25732-6414-4fcf-bb12-e996984896b0",
   "metadata": {},
   "outputs": [],
   "source": [
    "IN_cnt = pd.read_csv('../DAC/meRIP-seq/radar/normalized_Input_counts.txt',sep='\\t')\n",
    "IP_cnt = pd.read_csv('../DAC/meRIP-seq/radar/normalized_IP_counts.txt',sep='\\t')\n",
    "ol = set(IP_cnt.index).intersection(set(IN_cnt.index))\n",
    "\n",
    "sqle_IN_cnt = IN_cnt.loc[[o for o in ol if o.split(',')[0] == sqle_id],:]\n",
    "sqle_IP_cnt = IP_cnt.loc[[o for o in ol if o.split(',')[0] == sqle_id],:]\n",
    "\n",
    "ints5_IN_cnt = IN_cnt.loc[[o for o in ol if o.split(',')[0] == ints5_id],:]\n",
    "ints5_IP_cnt = IP_cnt.loc[[o for o in ol if o.split(',')[0] == ints5_id],:]"
   ]
  },
  {
   "cell_type": "code",
   "execution_count": 444,
   "id": "4cb36835-b92d-4ecb-965d-04bb65d09742",
   "metadata": {},
   "outputs": [],
   "source": [
    "BCL2_IN_cnt = IN_cnt.loc[[o for o in ol if o.split(',')[0] == BCL2_id],:]\n",
    "BCL2_IP_cnt = IP_cnt.loc[[o for o in ol if o.split(',')[0] == BCL2_id],:]\n",
    "\n",
    "MYBBP1A_IN_cnt = IN_cnt.loc[[o for o in ol if o.split(',')[0] == MYBBP1A_id],:]\n",
    "MYBBP1A_IP_cnt = IP_cnt.loc[[o for o in ol if o.split(',')[0] == MYBBP1A_id],:]"
   ]
  },
  {
   "cell_type": "code",
   "execution_count": 445,
   "id": "49f38e4a-afce-4a52-b5bb-c214c385afa2",
   "metadata": {},
   "outputs": [
    {
     "data": {
      "text/plain": [
       "Index(['ENSG00000104549.12,1064', 'ENSG00000104549.12,1113',\n",
       "       'ENSG00000104549.12,1361', 'ENSG00000104549.12,1410',\n",
       "       'ENSG00000104549.12,371', 'ENSG00000104549.12,421',\n",
       "       'ENSG00000104549.12,520', 'ENSG00000104549.12,619',\n",
       "       'ENSG00000104549.12,668', 'ENSG00000104549.12,718',\n",
       "       'ENSG00000104549.12,767', 'ENSG00000104549.12,817',\n",
       "       'ENSG00000104549.12,866', 'ENSG00000104549.12,916',\n",
       "       'ENSG00000104549.12,965'],\n",
       "      dtype='object')"
      ]
     },
     "execution_count": 445,
     "metadata": {},
     "output_type": "execute_result"
    }
   ],
   "source": [
    "sqle_IN_cnt.index.sort_values()"
   ]
  },
  {
   "cell_type": "code",
   "execution_count": 446,
   "id": "b03df8eb-d7c3-460b-a2fd-64987be26106",
   "metadata": {},
   "outputs": [
    {
     "data": {
      "text/plain": [
       "Index(['ENSG00000185085.2,1020', 'ENSG00000185085.2,1070',\n",
       "       'ENSG00000185085.2,1120', 'ENSG00000185085.2,1170',\n",
       "       'ENSG00000185085.2,1219', 'ENSG00000185085.2,125',\n",
       "       'ENSG00000185085.2,1269', 'ENSG00000185085.2,1319',\n",
       "       'ENSG00000185085.2,1369', 'ENSG00000185085.2,1419',\n",
       "       'ENSG00000185085.2,1468', 'ENSG00000185085.2,1568',\n",
       "       'ENSG00000185085.2,1618', 'ENSG00000185085.2,1667',\n",
       "       'ENSG00000185085.2,1717', 'ENSG00000185085.2,174',\n",
       "       'ENSG00000185085.2,1767', 'ENSG00000185085.2,1817',\n",
       "       'ENSG00000185085.2,1866', 'ENSG00000185085.2,1966',\n",
       "       'ENSG00000185085.2,2066', 'ENSG00000185085.2,2265',\n",
       "       'ENSG00000185085.2,2414', 'ENSG00000185085.2,2464',\n",
       "       'ENSG00000185085.2,2513', 'ENSG00000185085.2,2563',\n",
       "       'ENSG00000185085.2,2613', 'ENSG00000185085.2,2713',\n",
       "       'ENSG00000185085.2,2762', 'ENSG00000185085.2,2812',\n",
       "       'ENSG00000185085.2,871', 'ENSG00000185085.2,971'],\n",
       "      dtype='object')"
      ]
     },
     "execution_count": 446,
     "metadata": {},
     "output_type": "execute_result"
    }
   ],
   "source": [
    "ints5_IN_cnt.index.sort_values()"
   ]
  },
  {
   "cell_type": "code",
   "execution_count": 456,
   "id": "d6251453-c2d0-4c9c-b9ca-17f74b38fe35",
   "metadata": {},
   "outputs": [],
   "source": [
    "def plot_meRIP_count(in_cnt,ip_cnt,title,ax,ylim=None):\n",
    "    df = pd.DataFrame({\n",
    "        'Input': in_cnt.mean(),\n",
    "        'IP': ip_cnt.mean()\n",
    "    })\n",
    "\n",
    "    data_title = 'Normalized\\nmeRIP-seq counts'\n",
    "\n",
    "    df['treatment'] = [\"DMSO\",\"DMSO\",\"Decitabine\",\"Decitabine\"]\n",
    "    dd=pd.melt(\n",
    "        df,\n",
    "        id_vars='treatment',\n",
    "        var_name='meRIP'\n",
    "    ).rename({'value':data_title},axis=1)\n",
    "\n",
    "    my_pal = {\"Decitabine\": \"c\", \"DMSO\": \"lightgray\"}\n",
    "\n",
    "    cleanAxes(ax)\n",
    "    p = sns.swarmplot(x='meRIP',y=data_title,data=dd,hue='treatment',palette=my_pal,ax=ax,\n",
    "                  linewidth=0, color=\".1\", dodge=True)\n",
    "    p = sns.barplot(x='meRIP',y=data_title,data=dd,hue='treatment',palette=my_pal,ax=ax,errwidth=0,capsize=.2,alpha=0.5)\n",
    "\n",
    "    ax.set_title(title,y=1.1,fontsize=11)\n",
    "    ax.set_xlabel(None)\n",
    "    ax.set_ylim(top=ylim)\n",
    "\n",
    "    for label in ax.get_xticklabels():\n",
    "        label.set_rotation(45)\n",
    "        label.set_ha('right')\n",
    "\n",
    "    ax.tick_params(axis='both', which='major', labelsize=8)\n",
    "    ax.tick_params(axis='both', which='minor', labelsize=8)"
   ]
  },
  {
   "cell_type": "code",
   "execution_count": 457,
   "id": "a32b00fa-c30d-4c02-950f-69b309f3a9c8",
   "metadata": {},
   "outputs": [
    {
     "data": {
      "image/png": "[encoded data removed]",
      "text/plain": [
       "<Figure size 1200x450 with 4 Axes>"
      ]
     },
     "metadata": {},
     "output_type": "display_data"
    }
   ],
   "source": [
    "f, (ax1,ax2,ax3,ax4) = plt.subplots(1,4,figsize=(8,3),dpi=150)\n",
    "ylim=None\n",
    "\n",
    "plot_meRIP_count(sqle_IN_cnt,sqle_IP_cnt,\n",
    "                 'SQLE',ax1,ylim=750)\n",
    "plot_meRIP_count(ints5_IN_cnt,ints5_IP_cnt,\n",
    "                 'INTS5',ax2,ylim=180)\n",
    "\n",
    "ax1.get_legend().remove()\n",
    "ax2.get_legend().remove()\n",
    "\n",
    "\n",
    "# cleanAxes(ax2,left=False)\n",
    "ax2.set_ylabel(None)\n",
    "# ax2.tick_params(axis='y',label1On=False)\n",
    "# ax2.legend(bbox_to_anchor=(1.05, 1), loc=2, borderaxespad=0.,prop={'size': 8})\n",
    "\n",
    "\n",
    "plot_meRIP_count(BCL2_IN_cnt,BCL2_IP_cnt,'BCL2',ax3,ylim=710)\n",
    "plot_meRIP_count(MYBBP1A_IN_cnt,MYBBP1A_IP_cnt,'MYBBP1A',ax4,ylim=190)\n",
    "ax3.get_legend().remove()\n",
    "ax3.set_ylabel(None)\n",
    "ax4.get_legend().remove()\n",
    "ax4.set_ylabel(None)\n",
    "\n",
    "\n",
    "\n",
    "# f.suptitle('meRIP-seq counts')\n",
    "f.tight_layout()\n",
    "f.savefig('Target-genes/meRIP_counts.pdf')"
   ]
  },
  {
   "cell_type": "code",
   "execution_count": 458,
   "id": "bd9d1f2e-49e7-44db-974f-5ed4d18c62ca",
   "metadata": {},
   "outputs": [],
   "source": [
    "# # ['MAT2A','MAT1A','MAT2B']\n",
    "# f, (ax1,ax2,ax3) = plt.subplots(1,3,figsize=(5,3),dpi=300)\n",
    "# ylim=None\n",
    "\n",
    "# plot_meRIP_count(sqle_IN_cnt,sqle_IP_cnt,\n",
    "#                  'MAT2A',ax1,ylim=800)\n",
    "# plot_meRIP_count(ints5_IN_cnt,ints5_IP_cnt,\n",
    "#                  'MAT1A',ax2,ylim=200)\n",
    "# plot_meRIP_count(ints5_IN_cnt,ints5_IP_cnt,\n",
    "#                  'MAT2B',ax3,ylim=200)\n",
    "\n",
    "# ax1.get_legend().remove()\n",
    "# ax2.get_legend().remove()\n",
    "# ax3.get_legend().remove()\n",
    "\n",
    "\n",
    "# # cleanAxes(ax2,left=False)\n",
    "# ax2.set_ylabel(None)\n",
    "# ax3.set_ylabel(None)\n",
    "# # ax2.tick_params(axis='y',label1On=False)\n",
    "# # ax2.legend(bbox_to_anchor=(1.05, 1), loc=2, borderaxespad=0.,prop={'size': 8})\n",
    "\n",
    "# f.suptitle('meRIP-seq counts')\n",
    "# f.tight_layout()\n",
    "# # f.savefig('Target-genes/meRIP_counts.pdf')"
   ]
  },
  {
   "cell_type": "code",
   "execution_count": 295,
   "id": "f9fa7099-ddaa-46aa-80e1-cafaab10ef1a",
   "metadata": {},
   "outputs": [
    {
     "name": "stdout",
     "output_type": "stream",
     "text": [
      "Thu Oct 20 17:16:08 PDT 2022\n"
     ]
    }
   ],
   "source": [
    "!date"
   ]
  }
 ],
 "metadata": {
  "kernelspec": {
   "display_name": "Python [conda env:down]",
   "language": "python",
   "name": "conda-env-down-py"
  },
  "language_info": {
   "codemirror_mode": {
    "name": "ipython",
    "version": 3
   },
   "file_extension": ".py",
   "mimetype": "text/x-python",
   "name": "python",
   "nbconvert_exporter": "python",
   "pygments_lexer": "ipython3",
   "version": "3.10.8"
  }
 },
 "nbformat": 4,
 "nbformat_minor": 5
}
