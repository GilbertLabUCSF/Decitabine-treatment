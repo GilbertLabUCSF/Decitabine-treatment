{
 "cells": [
  {
   "cell_type": "markdown",
   "metadata": {},
   "source": [
    "> We have already established that using annotated HeLa m6A sites, we can observe changes in genes with m6A sites (HL-60) cells. In order to confirm this m6A sites, we performed MeRIP-seq in treated and untreated cells, and did observe a general increase in m6A levels upon treatments for a large number of annotated sites. Here, our goal is to indpendently analyze the MeRIP data without relying on HeLa annotations and use it to define a **treatment-induced hyper-methylation sites**. We will then assess the location and behaviour of these targets across the other datasets generated in this study."
   ]
  },
  {
   "cell_type": "markdown",
   "metadata": {
    "tags": []
   },
   "source": [
    "## Test enrichment of treatment-induced hyper/hypo-methylation sites\n",
    "\n",
    "### Goal\n",
    "Here, I aim to identify the genes that are hyper or hypo methylated as genesets, and see if they have enriched accross all datasets; the input table is list of genes with control vs. treated fold change of RNA expression, RNA stability and translational efficiency. \n",
    "### Steps \n",
    "1. Prepare inputs  \n",
    "    - Filtering genes with $\\Delta$methylation >= 2 as hyper-methylation sites (P-Value < 0.01)\n",
    "    - Filtering genes with $\\Delta$methylation <= -2 as hypo-methylation sites (P-Value < 0.01)\n",
    "2. Run `run_mi_gene_list.pl` command \n"
   ]
  },
  {
   "cell_type": "code",
   "execution_count": 6,
   "metadata": {},
   "outputs": [],
   "source": [
    "import os \n",
    "from glob import glob \n",
    "import sys \n",
    "import pandas as pd \n",
    "import numpy as np\n",
    "sys.path.append('../')\n",
    "\n",
    "from util import *"
   ]
  },
  {
   "cell_type": "code",
   "execution_count": 18,
   "metadata": {},
   "outputs": [],
   "source": [
    "for exp in [\n",
    "    '../RNA-seq/exp/hl60_6h_delta_exp.txt',\n",
    "    '../RNA-seq/exp/hl60_72h_delta_exp.txt',\n",
    "    '../RNA-seq/exp/hl60_72h_only_delta_exp.txt',\n",
    "    '../RNA-seq/exp/hl60_120h_delta_exp.txt',\n",
    "    '../RNA-seq/exp/kg1_delta_exp.txt',\n",
    "    '../RNA-seq/exp/molm14_delta_exp.txt',\n",
    "    '../RNA-seq/exp/ociaml2_delta_exp.txt',\n",
    "    '../RNA-seq/exp/ociaml3_delta_exp.txt',\n",
    "    '../RNA-seq/exp/thp1_delta_exp.txt',\n",
    "    '../DAC-rg3039/RNA-seq/comb_vs_decitabine_delta_exp.txt',\n",
    "    '../DAC-rg3039/RNA-seq/comb_vs_dmso_delta_exp.txt'\n",
    "\n",
    "]: \n",
    "    pd.read_csv(exp,sep='\\t').drop_duplicates('gene_name').to_csv(exp.replace('.txt','.c.txt'),sep='\\t',index=None)\n"
   ]
  },
  {
   "cell_type": "code",
   "execution_count": 7,
   "metadata": {},
   "outputs": [
    {
     "name": "stdout",
     "output_type": "stream",
     "text": [
      "CPU times: user 2.35 s, sys: 26.3 ms, total: 2.37 s\n",
      "Wall time: 2.37 s\n"
     ]
    }
   ],
   "source": [
    "%%time \n",
    "data = pd.read_csv('../meRIP-seq/hl60_delta_mtyl_table.txt',sep='\\t').loc[:,['ensembl','name','logFC','p_value']]\n",
    "data = data.iloc[[int(data[(data.ensembl == gene)].logFC.abs().idxmax()) for gene in set(data.ensembl)],:].set_index('ensembl')"
   ]
  },
  {
   "cell_type": "code",
   "execution_count": 20,
   "metadata": {},
   "outputs": [],
   "source": [
    "!mkdir -p mtyl-enrichment"
   ]
  },
  {
   "cell_type": "code",
   "execution_count": 8,
   "metadata": {},
   "outputs": [],
   "source": [
    "hyper, hypo = two_sided_mtyl(data,fcthr=2)\n",
    "\n",
    "hyper.reindex(\n",
    "    hyper.logFC.abs().sort_values(ascending=False).index\n",
    ").to_csv('mtyl-enrichment/hyper_mtyl.txt',sep='\\t',index=None,header=None)\n",
    "\n",
    "hypo.reindex(\n",
    "    hypo.logFC.abs().sort_values(ascending=False).index\n",
    ").to_csv ('mtyl-enrichment/hypo_mtyl.txt', sep='\\t',index=None,header=None)"
   ]
  },
  {
   "cell_type": "markdown",
   "metadata": {},
   "source": [
    "2. Using a [TEISER](https://github.com/goodarzilab/TEISER) script to do enrichment test \n",
    "\n"
   ]
  },
  {
   "cell_type": "code",
   "execution_count": 3,
   "metadata": {},
   "outputs": [
    {
     "name": "stdout",
     "output_type": "stream",
     "text": [
      "\u001b[0m\u001b[38;5;9miPAGEv1.0.zip\u001b[0m  \u001b[38;5;9mQoRTs-STABLE.jar\u001b[0m  \u001b[38;5;27mTEISERv1.1\u001b[0m/  \u001b[38;5;9mTEISER.zip\u001b[0m\n"
     ]
    }
   ],
   "source": [
    "ls ~/Workflows"
   ]
  },
  {
   "cell_type": "code",
   "execution_count": 36,
   "metadata": {},
   "outputs": [
    {
     "name": "stdout",
     "output_type": "stream",
     "text": [
      "../DNA-RNA-mtyl/CpG-nearend.txt hyper_mtyl\n",
      "done!\n",
      "../DNA-RNA-mtyl/CpG-nearend.txt hypo_mtyl\n",
      "done!\n",
      "../DNA-RNA-mtyl/CpG-promoter.txt hyper_mtyl\n",
      "done!\n",
      "../DNA-RNA-mtyl/CpG-promoter.txt hypo_mtyl\n",
      "done!\n"
     ]
    }
   ],
   "source": [
    "%%bash\n",
    "\n",
    "# export PAGEDIR='/data_gilbert/home/aarab/iPAGE'\n",
    "export TEISERDIR='/data_gilbert/home/aarab/Workflows/TEISERv1.1'\n",
    "\n",
    "declare -a Genesets=('hyper_mtyl' 'hypo_mtyl')\n",
    "declare -a Experiments=(\n",
    "# # Ribo-seq\n",
    "# '../Ribo-seq/hl60_delta_te.txt'\n",
    "\n",
    "# ## HL-60 RNA-seq \n",
    "# # RNA experssion \n",
    "# '../RNA-seq/exp/hl60_6h_delta_exp.c.txt' \n",
    "# '../RNA-seq/exp/hl60_72h_delta_exp.c.txt' \n",
    "# '../RNA-seq/exp/hl60_72h_only_delta_exp.c.txt' \n",
    "# '../RNA-seq/exp/hl60_120h_delta_exp.c.txt' \n",
    "# # RNA stability  \n",
    "# '../RNA-seq/stbl/hl60_120h_delta_stbl.txt'  \n",
    "# '../RNA-seq/stbl/hl60_72h_delta_stbl.txt'\n",
    "# '../RNA-seq/stbl/hl60_6h_delta_stbl.txt'\n",
    "\n",
    "# ## 5 other AML cell lines RNA-seq\n",
    "# # RNA experssion \n",
    "# '../RNA-seq/exp/kg1_delta_exp.c.txt'\n",
    "# '../RNA-seq/exp/molm14_delta_exp.c.txt'\n",
    "# '../RNA-seq/exp/ociaml2_delta_exp.c.txt' \n",
    "# '../RNA-seq/exp/ociaml3_delta_exp.c.txt'\n",
    "# '../RNA-seq/exp/thp1_delta_exp.c.txt'\n",
    "# # RNA stability  \n",
    "# '../RNA-seq/stbl/kg1_delta_stbl.txt' \n",
    "# '../RNA-seq/stbl/molm14_delta_stbl.txt' \n",
    "# '../RNA-seq/stbl/ociaml2_delta_stbl.txt' \n",
    "# '../RNA-seq/stbl/ociaml3_delta_stbl.txt'\n",
    "# '../RNA-seq/stbl/thp1_delta_stbl.txt'\n",
    "\n",
    "# ## drug combination\n",
    "# # RNA experssion \n",
    "# '../DAC-rg3039/RNA-seq/comb_vs_decitabine_delta_exp.c.txt'\n",
    "# '../DAC-rg3039/RNA-seq/comb_vs_dmso_delta_exp.c.txt'\n",
    "## DNA RNA me\n",
    "'../DNA-RNA-mtyl/CpG-nearend.txt'\n",
    "'../DNA-RNA-mtyl/CpG-promoter.txt'\n",
    ")\n",
    "\n",
    "for exp in \"${Experiments[@]}\"; do\n",
    "    for geneset in \"${Genesets[@]}\"; do\n",
    "    \n",
    "        echo $exp $geneset\n",
    "        base=`basename $exp`\n",
    "        base=${base/.txt/}\n",
    "        \n",
    "#         # remove results from previous run \n",
    "#         rm -rf ${exp}_GENESET\n",
    "        \n",
    "#         # remove results from previous run \n",
    "#         rm -fr mtyl-enrichment/${geneset}_${base}\n",
    "\n",
    "        # get intersect\n",
    "        awk 'NR==FNR{A[$1];next}$1 in A' $exp mtyl-enrichment/${geneset}.txt > mtyl-enrichment/${geneset}_${base}.txt\n",
    "        \n",
    "        perl ${TEISERDIR}/run_mi_gene_list.pl \\\n",
    "            --expfile=$exp \\\n",
    "            --genefile=mtyl-enrichment/${geneset}_${base}.txt \\\n",
    "            --exptype=continuous \\\n",
    "            --ebins=11 \\\n",
    "            --species=human \\\n",
    "            --doremovedups=0 \\\n",
    "            --doremoveextra=0 &> mtyl-enrichment/${geneset}_${base}.log\n",
    "        \n",
    "        \n",
    "        rm mtyl-enrichment/${geneset}_${base}.txt #mtyl-enrichment/${geneset}_${base}.log\n",
    "        mv ${exp}_GENESET mtyl-enrichment/${geneset}_${base}_GENESET\n",
    "        \n",
    "        echo 'done!'\n",
    "        \n",
    "    done\n",
    "\n",
    "done"
   ]
  },
  {
   "cell_type": "code",
   "execution_count": 27,
   "metadata": {},
   "outputs": [
    {
     "name": "stdout",
     "output_type": "stream",
     "text": [
      "Reading MI data ... "
     ]
    },
    {
     "name": "stderr",
     "output_type": "stream",
     "text": [
      "Option suffix requires an argument\n",
      "Table.pm: cannot open file \"../DNA-RNA-mtyl/CpG-promoter.txt_GENESET/CpG-promoter.txt.matrix\" ..\n"
     ]
    },
    {
     "ename": "CalledProcessError",
     "evalue": "Command 'b\"\\n# export PAGEDIR='/data_gilbert/home/aarab/iPAGE'\\nexport TEISERDIR='/data_gilbert/home/aarab/Workflows/TEISERv1.1'\\nperl /data_gilbert/home/aarab/Workflows/TEISERv1.1/Scripts/teiser_draw_matrix.pl --pvmatrixfile=../DNA-RNA-mtyl/CpG-promoter.txt_GENESET/CpG-promoter.txt.matrix --summaryfile=../DNA-RNA-mtyl/CpG-promoter.txt_GENESET/CpG-promoter.txt.summary --expfile=../DNA-RNA-mtyl/CpG-promoter.txt_GENESET/CpG-promoter.txt --quantized=0 --colmap=/data_gilbert/home/aarab/Workflows/TEISERv1.1/Scripts/HEATMAPS/cmap_1.txt --order=0 --min=-10 --max=10 --cluster=5 --suffix=\\n\"' returned non-zero exit status 2.",
     "output_type": "error",
     "traceback": [
      "\u001b[0;31m---------------------------------------------------------------------------\u001b[0m",
      "\u001b[0;31mCalledProcessError\u001b[0m                        Traceback (most recent call last)",
      "\u001b[0;32m<ipython-input-27-755d827a9bb6>\u001b[0m in \u001b[0;36m<module>\u001b[0;34m\u001b[0m\n\u001b[0;32m----> 1\u001b[0;31m \u001b[0mget_ipython\u001b[0m\u001b[0;34m(\u001b[0m\u001b[0;34m)\u001b[0m\u001b[0;34m.\u001b[0m\u001b[0mrun_cell_magic\u001b[0m\u001b[0;34m(\u001b[0m\u001b[0;34m'bash'\u001b[0m\u001b[0;34m,\u001b[0m \u001b[0;34m''\u001b[0m\u001b[0;34m,\u001b[0m \u001b[0;34m\"\\n# export PAGEDIR='/data_gilbert/home/aarab/iPAGE'\\nexport TEISERDIR='/data_gilbert/home/aarab/Workflows/TEISERv1.1'\\nperl /data_gilbert/home/aarab/Workflows/TEISERv1.1/Scripts/teiser_draw_matrix.pl --pvmatrixfile=../DNA-RNA-mtyl/CpG-promoter.txt_GENESET/CpG-promoter.txt.matrix --summaryfile=../DNA-RNA-mtyl/CpG-promoter.txt_GENESET/CpG-promoter.txt.summary --expfile=../DNA-RNA-mtyl/CpG-promoter.txt_GENESET/CpG-promoter.txt --quantized=0 --colmap=/data_gilbert/home/aarab/Workflows/TEISERv1.1/Scripts/HEATMAPS/cmap_1.txt --order=0 --min=-10 --max=10 --cluster=5 --suffix=\\n\"\u001b[0m\u001b[0;34m)\u001b[0m\u001b[0;34m\u001b[0m\u001b[0;34m\u001b[0m\u001b[0m\n\u001b[0m",
      "\u001b[0;32m~/anaconda3/envs/alignment/lib/python3.6/site-packages/IPython/core/interactiveshell.py\u001b[0m in \u001b[0;36mrun_cell_magic\u001b[0;34m(self, magic_name, line, cell)\u001b[0m\n\u001b[1;32m   2360\u001b[0m             \u001b[0;32mwith\u001b[0m \u001b[0mself\u001b[0m\u001b[0;34m.\u001b[0m\u001b[0mbuiltin_trap\u001b[0m\u001b[0;34m:\u001b[0m\u001b[0;34m\u001b[0m\u001b[0;34m\u001b[0m\u001b[0m\n\u001b[1;32m   2361\u001b[0m                 \u001b[0margs\u001b[0m \u001b[0;34m=\u001b[0m \u001b[0;34m(\u001b[0m\u001b[0mmagic_arg_s\u001b[0m\u001b[0;34m,\u001b[0m \u001b[0mcell\u001b[0m\u001b[0;34m)\u001b[0m\u001b[0;34m\u001b[0m\u001b[0;34m\u001b[0m\u001b[0m\n\u001b[0;32m-> 2362\u001b[0;31m                 \u001b[0mresult\u001b[0m \u001b[0;34m=\u001b[0m \u001b[0mfn\u001b[0m\u001b[0;34m(\u001b[0m\u001b[0;34m*\u001b[0m\u001b[0margs\u001b[0m\u001b[0;34m,\u001b[0m \u001b[0;34m**\u001b[0m\u001b[0mkwargs\u001b[0m\u001b[0;34m)\u001b[0m\u001b[0;34m\u001b[0m\u001b[0;34m\u001b[0m\u001b[0m\n\u001b[0m\u001b[1;32m   2363\u001b[0m             \u001b[0;32mreturn\u001b[0m \u001b[0mresult\u001b[0m\u001b[0;34m\u001b[0m\u001b[0;34m\u001b[0m\u001b[0m\n\u001b[1;32m   2364\u001b[0m \u001b[0;34m\u001b[0m\u001b[0m\n",
      "\u001b[0;32m~/anaconda3/envs/alignment/lib/python3.6/site-packages/IPython/core/magics/script.py\u001b[0m in \u001b[0;36mnamed_script_magic\u001b[0;34m(line, cell)\u001b[0m\n\u001b[1;32m    140\u001b[0m             \u001b[0;32melse\u001b[0m\u001b[0;34m:\u001b[0m\u001b[0;34m\u001b[0m\u001b[0;34m\u001b[0m\u001b[0m\n\u001b[1;32m    141\u001b[0m                 \u001b[0mline\u001b[0m \u001b[0;34m=\u001b[0m \u001b[0mscript\u001b[0m\u001b[0;34m\u001b[0m\u001b[0;34m\u001b[0m\u001b[0m\n\u001b[0;32m--> 142\u001b[0;31m             \u001b[0;32mreturn\u001b[0m \u001b[0mself\u001b[0m\u001b[0;34m.\u001b[0m\u001b[0mshebang\u001b[0m\u001b[0;34m(\u001b[0m\u001b[0mline\u001b[0m\u001b[0;34m,\u001b[0m \u001b[0mcell\u001b[0m\u001b[0;34m)\u001b[0m\u001b[0;34m\u001b[0m\u001b[0;34m\u001b[0m\u001b[0m\n\u001b[0m\u001b[1;32m    143\u001b[0m \u001b[0;34m\u001b[0m\u001b[0m\n\u001b[1;32m    144\u001b[0m         \u001b[0;31m# write a basic docstring:\u001b[0m\u001b[0;34m\u001b[0m\u001b[0;34m\u001b[0m\u001b[0;34m\u001b[0m\u001b[0m\n",
      "\u001b[0;32m<decorator-gen-110>\u001b[0m in \u001b[0;36mshebang\u001b[0;34m(self, line, cell)\u001b[0m\n",
      "\u001b[0;32m~/anaconda3/envs/alignment/lib/python3.6/site-packages/IPython/core/magic.py\u001b[0m in \u001b[0;36m<lambda>\u001b[0;34m(f, *a, **k)\u001b[0m\n\u001b[1;32m    185\u001b[0m     \u001b[0;31m# but it's overkill for just that one bit of state.\u001b[0m\u001b[0;34m\u001b[0m\u001b[0;34m\u001b[0m\u001b[0;34m\u001b[0m\u001b[0m\n\u001b[1;32m    186\u001b[0m     \u001b[0;32mdef\u001b[0m \u001b[0mmagic_deco\u001b[0m\u001b[0;34m(\u001b[0m\u001b[0marg\u001b[0m\u001b[0;34m)\u001b[0m\u001b[0;34m:\u001b[0m\u001b[0;34m\u001b[0m\u001b[0;34m\u001b[0m\u001b[0m\n\u001b[0;32m--> 187\u001b[0;31m         \u001b[0mcall\u001b[0m \u001b[0;34m=\u001b[0m \u001b[0;32mlambda\u001b[0m \u001b[0mf\u001b[0m\u001b[0;34m,\u001b[0m \u001b[0;34m*\u001b[0m\u001b[0ma\u001b[0m\u001b[0;34m,\u001b[0m \u001b[0;34m**\u001b[0m\u001b[0mk\u001b[0m\u001b[0;34m:\u001b[0m \u001b[0mf\u001b[0m\u001b[0;34m(\u001b[0m\u001b[0;34m*\u001b[0m\u001b[0ma\u001b[0m\u001b[0;34m,\u001b[0m \u001b[0;34m**\u001b[0m\u001b[0mk\u001b[0m\u001b[0;34m)\u001b[0m\u001b[0;34m\u001b[0m\u001b[0;34m\u001b[0m\u001b[0m\n\u001b[0m\u001b[1;32m    188\u001b[0m \u001b[0;34m\u001b[0m\u001b[0m\n\u001b[1;32m    189\u001b[0m         \u001b[0;32mif\u001b[0m \u001b[0mcallable\u001b[0m\u001b[0;34m(\u001b[0m\u001b[0marg\u001b[0m\u001b[0;34m)\u001b[0m\u001b[0;34m:\u001b[0m\u001b[0;34m\u001b[0m\u001b[0;34m\u001b[0m\u001b[0m\n",
      "\u001b[0;32m~/anaconda3/envs/alignment/lib/python3.6/site-packages/IPython/core/magics/script.py\u001b[0m in \u001b[0;36mshebang\u001b[0;34m(self, line, cell)\u001b[0m\n\u001b[1;32m    243\u001b[0m             \u001b[0msys\u001b[0m\u001b[0;34m.\u001b[0m\u001b[0mstderr\u001b[0m\u001b[0;34m.\u001b[0m\u001b[0mflush\u001b[0m\u001b[0;34m(\u001b[0m\u001b[0;34m)\u001b[0m\u001b[0;34m\u001b[0m\u001b[0;34m\u001b[0m\u001b[0m\n\u001b[1;32m    244\u001b[0m         \u001b[0;32mif\u001b[0m \u001b[0margs\u001b[0m\u001b[0;34m.\u001b[0m\u001b[0mraise_error\u001b[0m \u001b[0;32mand\u001b[0m \u001b[0mp\u001b[0m\u001b[0;34m.\u001b[0m\u001b[0mreturncode\u001b[0m\u001b[0;34m!=\u001b[0m\u001b[0;36m0\u001b[0m\u001b[0;34m:\u001b[0m\u001b[0;34m\u001b[0m\u001b[0;34m\u001b[0m\u001b[0m\n\u001b[0;32m--> 245\u001b[0;31m             \u001b[0;32mraise\u001b[0m \u001b[0mCalledProcessError\u001b[0m\u001b[0;34m(\u001b[0m\u001b[0mp\u001b[0m\u001b[0;34m.\u001b[0m\u001b[0mreturncode\u001b[0m\u001b[0;34m,\u001b[0m \u001b[0mcell\u001b[0m\u001b[0;34m,\u001b[0m \u001b[0moutput\u001b[0m\u001b[0;34m=\u001b[0m\u001b[0mout\u001b[0m\u001b[0;34m,\u001b[0m \u001b[0mstderr\u001b[0m\u001b[0;34m=\u001b[0m\u001b[0merr\u001b[0m\u001b[0;34m)\u001b[0m\u001b[0;34m\u001b[0m\u001b[0;34m\u001b[0m\u001b[0m\n\u001b[0m\u001b[1;32m    246\u001b[0m \u001b[0;34m\u001b[0m\u001b[0m\n\u001b[1;32m    247\u001b[0m     \u001b[0;32mdef\u001b[0m \u001b[0m_run_script\u001b[0m\u001b[0;34m(\u001b[0m\u001b[0mself\u001b[0m\u001b[0;34m,\u001b[0m \u001b[0mp\u001b[0m\u001b[0;34m,\u001b[0m \u001b[0mcell\u001b[0m\u001b[0;34m,\u001b[0m \u001b[0mto_close\u001b[0m\u001b[0;34m)\u001b[0m\u001b[0;34m:\u001b[0m\u001b[0;34m\u001b[0m\u001b[0;34m\u001b[0m\u001b[0m\n",
      "\u001b[0;31mCalledProcessError\u001b[0m: Command 'b\"\\n# export PAGEDIR='/data_gilbert/home/aarab/iPAGE'\\nexport TEISERDIR='/data_gilbert/home/aarab/Workflows/TEISERv1.1'\\nperl /data_gilbert/home/aarab/Workflows/TEISERv1.1/Scripts/teiser_draw_matrix.pl --pvmatrixfile=../DNA-RNA-mtyl/CpG-promoter.txt_GENESET/CpG-promoter.txt.matrix --summaryfile=../DNA-RNA-mtyl/CpG-promoter.txt_GENESET/CpG-promoter.txt.summary --expfile=../DNA-RNA-mtyl/CpG-promoter.txt_GENESET/CpG-promoter.txt --quantized=0 --colmap=/data_gilbert/home/aarab/Workflows/TEISERv1.1/Scripts/HEATMAPS/cmap_1.txt --order=0 --min=-10 --max=10 --cluster=5 --suffix=\\n\"' returned non-zero exit status 2."
     ]
    }
   ],
   "source": [
    "%%bash\n",
    "\n",
    "# export PAGEDIR='/data_gilbert/home/aarab/iPAGE'\n",
    "export TEISERDIR='/data_gilbert/home/aarab/Workflows/TEISERv1.1'\n",
    "perl /data_gilbert/home/aarab/Workflows/TEISERv1.1/Scripts/teiser_draw_matrix.pl --pvmatrixfile=../DNA-RNA-mtyl/CpG-promoter.txt_GENESET/CpG-promoter.txt.matrix --summaryfile=../DNA-RNA-mtyl/CpG-promoter.txt_GENESET/CpG-promoter.txt.summary --expfile=../DNA-RNA-mtyl/CpG-promoter.txt_GENESET/CpG-promoter.txt --quantized=0 --colmap=/data_gilbert/home/aarab/Workflows/TEISERv1.1/Scripts/HEATMAPS/cmap_1.txt --order=0 --min=-10 --max=10 --cluster=5 --suffix=\n"
   ]
  },
  {
   "cell_type": "code",
   "execution_count": null,
   "metadata": {},
   "outputs": [],
   "source": []
  },
  {
   "cell_type": "code",
   "execution_count": null,
   "metadata": {},
   "outputs": [],
   "source": []
  },
  {
   "cell_type": "code",
   "execution_count": null,
   "metadata": {},
   "outputs": [],
   "source": []
  },
  {
   "cell_type": "markdown",
   "metadata": {},
   "source": [
    "3. Merge hypo and hyper results"
   ]
  },
  {
   "cell_type": "code",
   "execution_count": null,
   "metadata": {},
   "outputs": [],
   "source": [
    "# comps = [(\n",
    "#     comp.split('/')[1].split('_mtyl_')[0],\n",
    "#     comp.split('/')[1].split('_mtyl_')[1].replace('_GENESET','')\n",
    "# ) for comp in glob('mtyl-enrichment/*delta*')]\n",
    "\n",
    "# comps.sort(key=lambda a: len(a[1]))\n",
    "\n",
    "# comps"
   ]
  },
  {
   "cell_type": "code",
   "execution_count": 25,
   "metadata": {},
   "outputs": [],
   "source": [
    "comps = [(\n",
    "    comp.split('/')[1].split('_mtyl_')[0],\n",
    "    comp.split('/')[1].split('_mtyl_')[1].replace('_GENESET','')\n",
    ") for comp in glob('mtyl-enrichment/*CpG*')]\n",
    "\n",
    "comps.sort(key=lambda a: len(a[1]))"
   ]
  },
  {
   "cell_type": "code",
   "execution_count": 26,
   "metadata": {},
   "outputs": [
    {
     "ename": "FileNotFoundError",
     "evalue": "[Errno 2] No such file or directory: 'mtyl-enrichment/hyper_mtyl_CpG-nearend_GENESET/CpG-nearend.txt.summary'",
     "output_type": "error",
     "traceback": [
      "\u001b[0;31m---------------------------------------------------------------------------\u001b[0m",
      "\u001b[0;31mFileNotFoundError\u001b[0m                         Traceback (most recent call last)",
      "\u001b[0;32m<ipython-input-26-cbad9ba7f663>\u001b[0m in \u001b[0;36m<module>\u001b[0;34m\u001b[0m\n\u001b[1;32m     19\u001b[0m     \u001b[0mexp_df\u001b[0m\u001b[0;34m.\u001b[0m\u001b[0mto_csv\u001b[0m\u001b[0;34m(\u001b[0m\u001b[0;34mf'{path}/{c}.txt'\u001b[0m\u001b[0;34m,\u001b[0m\u001b[0mheader\u001b[0m\u001b[0;34m=\u001b[0m\u001b[0;32mNone\u001b[0m\u001b[0;34m,\u001b[0m\u001b[0mindex\u001b[0m\u001b[0;34m=\u001b[0m\u001b[0;32mFalse\u001b[0m\u001b[0;34m,\u001b[0m\u001b[0msep\u001b[0m\u001b[0;34m=\u001b[0m\u001b[0;34m'\\t'\u001b[0m\u001b[0;34m)\u001b[0m\u001b[0;34m\u001b[0m\u001b[0;34m\u001b[0m\u001b[0m\n\u001b[1;32m     20\u001b[0m \u001b[0;34m\u001b[0m\u001b[0m\n\u001b[0;32m---> 21\u001b[0;31m     \u001b[0msum_df\u001b[0m \u001b[0;34m=\u001b[0m \u001b[0mpd\u001b[0m\u001b[0;34m.\u001b[0m\u001b[0mconcat\u001b[0m\u001b[0;34m(\u001b[0m\u001b[0;34m[\u001b[0m\u001b[0mpd\u001b[0m\u001b[0;34m.\u001b[0m\u001b[0mread_csv\u001b[0m\u001b[0;34m(\u001b[0m\u001b[0msummaryfiles\u001b[0m\u001b[0;34m[\u001b[0m\u001b[0mc\u001b[0m\u001b[0;34m]\u001b[0m\u001b[0;34m[\u001b[0m\u001b[0;34m'hyper'\u001b[0m\u001b[0;34m]\u001b[0m\u001b[0;34m,\u001b[0m\u001b[0msep\u001b[0m\u001b[0;34m=\u001b[0m\u001b[0;34m'\\t'\u001b[0m\u001b[0;34m)\u001b[0m\u001b[0;34m,\u001b[0m\u001b[0mpd\u001b[0m\u001b[0;34m.\u001b[0m\u001b[0mread_csv\u001b[0m\u001b[0;34m(\u001b[0m\u001b[0msummaryfiles\u001b[0m\u001b[0;34m[\u001b[0m\u001b[0mc\u001b[0m\u001b[0;34m]\u001b[0m\u001b[0;34m[\u001b[0m\u001b[0;34m'hypo'\u001b[0m\u001b[0;34m]\u001b[0m\u001b[0;34m,\u001b[0m\u001b[0msep\u001b[0m\u001b[0;34m=\u001b[0m\u001b[0;34m'\\t'\u001b[0m\u001b[0;34m)\u001b[0m\u001b[0;34m]\u001b[0m\u001b[0;34m)\u001b[0m\u001b[0;34m\u001b[0m\u001b[0;34m\u001b[0m\u001b[0m\n\u001b[0m\u001b[1;32m     22\u001b[0m     \u001b[0msum_df\u001b[0m\u001b[0;34m[\u001b[0m\u001b[0;34m'index'\u001b[0m\u001b[0;34m]\u001b[0m \u001b[0;34m=\u001b[0m \u001b[0;34m[\u001b[0m\u001b[0;34m'Hyper-methylated geneset'\u001b[0m\u001b[0;34m,\u001b[0m\u001b[0;34m'Hypo-methylated geneset'\u001b[0m\u001b[0;34m]\u001b[0m\u001b[0;34m\u001b[0m\u001b[0;34m\u001b[0m\u001b[0m\n\u001b[1;32m     23\u001b[0m     \u001b[0msum_df\u001b[0m\u001b[0;34m.\u001b[0m\u001b[0mto_csv\u001b[0m\u001b[0;34m(\u001b[0m\u001b[0;34mf'{path}/{c}.txt.summary'\u001b[0m\u001b[0;34m,\u001b[0m\u001b[0mindex\u001b[0m\u001b[0;34m=\u001b[0m\u001b[0;32mFalse\u001b[0m\u001b[0;34m,\u001b[0m\u001b[0msep\u001b[0m\u001b[0;34m=\u001b[0m\u001b[0;34m'\\t'\u001b[0m\u001b[0;34m)\u001b[0m\u001b[0;34m\u001b[0m\u001b[0;34m\u001b[0m\u001b[0m\n",
      "\u001b[0;32m~/anaconda3/envs/alignment/lib/python3.6/site-packages/pandas/io/parsers.py\u001b[0m in \u001b[0;36mread_csv\u001b[0;34m(filepath_or_buffer, sep, delimiter, header, names, index_col, usecols, squeeze, prefix, mangle_dupe_cols, dtype, engine, converters, true_values, false_values, skipinitialspace, skiprows, skipfooter, nrows, na_values, keep_default_na, na_filter, verbose, skip_blank_lines, parse_dates, infer_datetime_format, keep_date_col, date_parser, dayfirst, cache_dates, iterator, chunksize, compression, thousands, decimal, lineterminator, quotechar, quoting, doublequote, escapechar, comment, encoding, dialect, error_bad_lines, warn_bad_lines, delim_whitespace, low_memory, memory_map, float_precision)\u001b[0m\n\u001b[1;32m    684\u001b[0m     )\n\u001b[1;32m    685\u001b[0m \u001b[0;34m\u001b[0m\u001b[0m\n\u001b[0;32m--> 686\u001b[0;31m     \u001b[0;32mreturn\u001b[0m \u001b[0m_read\u001b[0m\u001b[0;34m(\u001b[0m\u001b[0mfilepath_or_buffer\u001b[0m\u001b[0;34m,\u001b[0m \u001b[0mkwds\u001b[0m\u001b[0;34m)\u001b[0m\u001b[0;34m\u001b[0m\u001b[0;34m\u001b[0m\u001b[0m\n\u001b[0m\u001b[1;32m    687\u001b[0m \u001b[0;34m\u001b[0m\u001b[0m\n\u001b[1;32m    688\u001b[0m \u001b[0;34m\u001b[0m\u001b[0m\n",
      "\u001b[0;32m~/anaconda3/envs/alignment/lib/python3.6/site-packages/pandas/io/parsers.py\u001b[0m in \u001b[0;36m_read\u001b[0;34m(filepath_or_buffer, kwds)\u001b[0m\n\u001b[1;32m    450\u001b[0m \u001b[0;34m\u001b[0m\u001b[0m\n\u001b[1;32m    451\u001b[0m     \u001b[0;31m# Create the parser.\u001b[0m\u001b[0;34m\u001b[0m\u001b[0;34m\u001b[0m\u001b[0;34m\u001b[0m\u001b[0m\n\u001b[0;32m--> 452\u001b[0;31m     \u001b[0mparser\u001b[0m \u001b[0;34m=\u001b[0m \u001b[0mTextFileReader\u001b[0m\u001b[0;34m(\u001b[0m\u001b[0mfp_or_buf\u001b[0m\u001b[0;34m,\u001b[0m \u001b[0;34m**\u001b[0m\u001b[0mkwds\u001b[0m\u001b[0;34m)\u001b[0m\u001b[0;34m\u001b[0m\u001b[0;34m\u001b[0m\u001b[0m\n\u001b[0m\u001b[1;32m    453\u001b[0m \u001b[0;34m\u001b[0m\u001b[0m\n\u001b[1;32m    454\u001b[0m     \u001b[0;32mif\u001b[0m \u001b[0mchunksize\u001b[0m \u001b[0;32mor\u001b[0m \u001b[0miterator\u001b[0m\u001b[0;34m:\u001b[0m\u001b[0;34m\u001b[0m\u001b[0;34m\u001b[0m\u001b[0m\n",
      "\u001b[0;32m~/anaconda3/envs/alignment/lib/python3.6/site-packages/pandas/io/parsers.py\u001b[0m in \u001b[0;36m__init__\u001b[0;34m(self, f, engine, **kwds)\u001b[0m\n\u001b[1;32m    934\u001b[0m             \u001b[0mself\u001b[0m\u001b[0;34m.\u001b[0m\u001b[0moptions\u001b[0m\u001b[0;34m[\u001b[0m\u001b[0;34m\"has_index_names\"\u001b[0m\u001b[0;34m]\u001b[0m \u001b[0;34m=\u001b[0m \u001b[0mkwds\u001b[0m\u001b[0;34m[\u001b[0m\u001b[0;34m\"has_index_names\"\u001b[0m\u001b[0;34m]\u001b[0m\u001b[0;34m\u001b[0m\u001b[0;34m\u001b[0m\u001b[0m\n\u001b[1;32m    935\u001b[0m \u001b[0;34m\u001b[0m\u001b[0m\n\u001b[0;32m--> 936\u001b[0;31m         \u001b[0mself\u001b[0m\u001b[0;34m.\u001b[0m\u001b[0m_make_engine\u001b[0m\u001b[0;34m(\u001b[0m\u001b[0mself\u001b[0m\u001b[0;34m.\u001b[0m\u001b[0mengine\u001b[0m\u001b[0;34m)\u001b[0m\u001b[0;34m\u001b[0m\u001b[0;34m\u001b[0m\u001b[0m\n\u001b[0m\u001b[1;32m    937\u001b[0m \u001b[0;34m\u001b[0m\u001b[0m\n\u001b[1;32m    938\u001b[0m     \u001b[0;32mdef\u001b[0m \u001b[0mclose\u001b[0m\u001b[0;34m(\u001b[0m\u001b[0mself\u001b[0m\u001b[0;34m)\u001b[0m\u001b[0;34m:\u001b[0m\u001b[0;34m\u001b[0m\u001b[0;34m\u001b[0m\u001b[0m\n",
      "\u001b[0;32m~/anaconda3/envs/alignment/lib/python3.6/site-packages/pandas/io/parsers.py\u001b[0m in \u001b[0;36m_make_engine\u001b[0;34m(self, engine)\u001b[0m\n\u001b[1;32m   1166\u001b[0m     \u001b[0;32mdef\u001b[0m \u001b[0m_make_engine\u001b[0m\u001b[0;34m(\u001b[0m\u001b[0mself\u001b[0m\u001b[0;34m,\u001b[0m \u001b[0mengine\u001b[0m\u001b[0;34m=\u001b[0m\u001b[0;34m\"c\"\u001b[0m\u001b[0;34m)\u001b[0m\u001b[0;34m:\u001b[0m\u001b[0;34m\u001b[0m\u001b[0;34m\u001b[0m\u001b[0m\n\u001b[1;32m   1167\u001b[0m         \u001b[0;32mif\u001b[0m \u001b[0mengine\u001b[0m \u001b[0;34m==\u001b[0m \u001b[0;34m\"c\"\u001b[0m\u001b[0;34m:\u001b[0m\u001b[0;34m\u001b[0m\u001b[0;34m\u001b[0m\u001b[0m\n\u001b[0;32m-> 1168\u001b[0;31m             \u001b[0mself\u001b[0m\u001b[0;34m.\u001b[0m\u001b[0m_engine\u001b[0m \u001b[0;34m=\u001b[0m \u001b[0mCParserWrapper\u001b[0m\u001b[0;34m(\u001b[0m\u001b[0mself\u001b[0m\u001b[0;34m.\u001b[0m\u001b[0mf\u001b[0m\u001b[0;34m,\u001b[0m \u001b[0;34m**\u001b[0m\u001b[0mself\u001b[0m\u001b[0;34m.\u001b[0m\u001b[0moptions\u001b[0m\u001b[0;34m)\u001b[0m\u001b[0;34m\u001b[0m\u001b[0;34m\u001b[0m\u001b[0m\n\u001b[0m\u001b[1;32m   1169\u001b[0m         \u001b[0;32melse\u001b[0m\u001b[0;34m:\u001b[0m\u001b[0;34m\u001b[0m\u001b[0;34m\u001b[0m\u001b[0m\n\u001b[1;32m   1170\u001b[0m             \u001b[0;32mif\u001b[0m \u001b[0mengine\u001b[0m \u001b[0;34m==\u001b[0m \u001b[0;34m\"python\"\u001b[0m\u001b[0;34m:\u001b[0m\u001b[0;34m\u001b[0m\u001b[0;34m\u001b[0m\u001b[0m\n",
      "\u001b[0;32m~/anaconda3/envs/alignment/lib/python3.6/site-packages/pandas/io/parsers.py\u001b[0m in \u001b[0;36m__init__\u001b[0;34m(self, src, **kwds)\u001b[0m\n\u001b[1;32m   1996\u001b[0m         \u001b[0mkwds\u001b[0m\u001b[0;34m[\u001b[0m\u001b[0;34m\"usecols\"\u001b[0m\u001b[0;34m]\u001b[0m \u001b[0;34m=\u001b[0m \u001b[0mself\u001b[0m\u001b[0;34m.\u001b[0m\u001b[0musecols\u001b[0m\u001b[0;34m\u001b[0m\u001b[0;34m\u001b[0m\u001b[0m\n\u001b[1;32m   1997\u001b[0m \u001b[0;34m\u001b[0m\u001b[0m\n\u001b[0;32m-> 1998\u001b[0;31m         \u001b[0mself\u001b[0m\u001b[0;34m.\u001b[0m\u001b[0m_reader\u001b[0m \u001b[0;34m=\u001b[0m \u001b[0mparsers\u001b[0m\u001b[0;34m.\u001b[0m\u001b[0mTextReader\u001b[0m\u001b[0;34m(\u001b[0m\u001b[0msrc\u001b[0m\u001b[0;34m,\u001b[0m \u001b[0;34m**\u001b[0m\u001b[0mkwds\u001b[0m\u001b[0;34m)\u001b[0m\u001b[0;34m\u001b[0m\u001b[0;34m\u001b[0m\u001b[0m\n\u001b[0m\u001b[1;32m   1999\u001b[0m         \u001b[0mself\u001b[0m\u001b[0;34m.\u001b[0m\u001b[0munnamed_cols\u001b[0m \u001b[0;34m=\u001b[0m \u001b[0mself\u001b[0m\u001b[0;34m.\u001b[0m\u001b[0m_reader\u001b[0m\u001b[0;34m.\u001b[0m\u001b[0munnamed_cols\u001b[0m\u001b[0;34m\u001b[0m\u001b[0;34m\u001b[0m\u001b[0m\n\u001b[1;32m   2000\u001b[0m \u001b[0;34m\u001b[0m\u001b[0m\n",
      "\u001b[0;32mpandas/_libs/parsers.pyx\u001b[0m in \u001b[0;36mpandas._libs.parsers.TextReader.__cinit__\u001b[0;34m()\u001b[0m\n",
      "\u001b[0;32mpandas/_libs/parsers.pyx\u001b[0m in \u001b[0;36mpandas._libs.parsers.TextReader._setup_parser_source\u001b[0;34m()\u001b[0m\n",
      "\u001b[0;31mFileNotFoundError\u001b[0m: [Errno 2] No such file or directory: 'mtyl-enrichment/hyper_mtyl_CpG-nearend_GENESET/CpG-nearend.txt.summary'"
     ]
    }
   ],
   "source": [
    "expfiles = {}\n",
    "summaryfiles = {}\n",
    "pvmatrixfiles = {}\n",
    "\n",
    "for c in {comp for _,comp in comps}:\n",
    "    \n",
    "    path = f'mtyl-enrichment/{c}'\n",
    "    os.mkdir(path) \n",
    "    expfiles[c] = {}\n",
    "    summaryfiles[c] = {}\n",
    "    pvmatrixfiles[c] = {}\n",
    "    \n",
    "    for m in {mtyl for mtyl,_ in comps}:\n",
    "        expfiles[c][m] = f'mtyl-enrichment/{m}_mtyl_{c}_GENESET/{c}.txt'\n",
    "        summaryfiles[c][m] = f'mtyl-enrichment/{m}_mtyl_{c}_GENESET/{c}.txt.summary'\n",
    "        pvmatrixfiles[c][m] = f'mtyl-enrichment/{m}_mtyl_{c}_GENESET/{c}.txt.matrix'\n",
    "    \n",
    "    exp_df = pd.read_csv(expfiles[c]['hyper'],sep='\\t', header=None)\n",
    "    exp_df.to_csv(f'{path}/{c}.txt',header=None,index=False,sep='\\t')\n",
    "    \n",
    "    sum_df = pd.concat([pd.read_csv(summaryfiles[c]['hyper'],sep='\\t'),pd.read_csv(summaryfiles[c]['hypo'],sep='\\t')])\n",
    "    sum_df['index'] = ['Hyper-methylated geneset','Hypo-methylated geneset']\n",
    "    sum_df.to_csv(f'{path}/{c}.txt.summary',index=False,sep='\\t')\n",
    "    \n",
    "    \n",
    "    mtx_df = pd.concat([pd.read_csv(pvmatrixfiles[c]['hyper'],sep='\\t'),pd.read_csv(pvmatrixfiles[c]['hypo'],sep='\\t')])\n",
    "    mtx_df.MOTIF = ['Hyper-methylated geneset','Hypo-methylated geneset']\n",
    "    mtx_df.to_csv(f'{path}/{c}.txt.matrix',index=False,sep='\\t')"
   ]
  },
  {
   "cell_type": "code",
   "execution_count": 24,
   "metadata": {},
   "outputs": [
    {
     "name": "stdout",
     "output_type": "stream",
     "text": [
      "comb_vs_decitabine_delta_exp.c\n",
      "done!\n",
      "comb_vs_dmso_delta_exp.c\n",
      "done!\n",
      "hl60_120h_delta_exp.c\n",
      "done!\n",
      "hl60_120h_delta_stbl\n",
      "done!\n",
      "hl60_6h_delta_exp.c\n",
      "done!\n",
      "hl60_6h_delta_stbl\n",
      "done!\n",
      "hl60_72h_delta_exp.c\n",
      "done!\n",
      "hl60_72h_delta_stbl\n",
      "done!\n",
      "hl60_72h_only_delta_exp.c\n",
      "done!\n",
      "hl60_delta_te\n",
      "done!\n",
      "kg1_delta_exp.c\n",
      "done!\n",
      "kg1_delta_stbl\n",
      "done!\n",
      "molm14_delta_exp.c\n",
      "done!\n",
      "molm14_delta_stbl\n",
      "done!\n",
      "ociaml2_delta_exp.c\n",
      "done!\n",
      "ociaml2_delta_stbl\n",
      "done!\n",
      "ociaml3_delta_exp.c\n",
      "done!\n",
      "ociaml3_delta_stbl\n",
      "done!\n",
      "thp1_delta_exp.c\n",
      "done!\n",
      "thp1_delta_stbl\n",
      "done!\n"
     ]
    }
   ],
   "source": [
    "%%bash \n",
    "cd mtyl-enrichment\n",
    "for exp in `ls | grep -v '_GENESET' | grep 'delta'`; do \n",
    "\n",
    "    echo $exp\n",
    "\n",
    "    cd $exp\n",
    "\n",
    "    perl ${TEISERDIR}Scripts/teiser_draw_matrix.pl \\\n",
    "        --pvmatrixfile=${exp}.txt.matrix \\\n",
    "        --summaryfile=${exp}.txt.summary \\\n",
    "        --expfile=${exp}.txt \\\n",
    "        --quantized=0 \\\n",
    "        --order=0 \\\n",
    "        --min=-10 --max=10 --cluster=5 \\\n",
    "        --colmap=${TEISERDIR}Scripts/HEATMAPS/cmap_1.txt &> ${exp}.log\n",
    "        \n",
    "        rm ${exp}.log\n",
    "    cd ..\n",
    "    echo \"done!\"\n",
    "\n",
    "done \n",
    "cd ../"
   ]
  },
  {
   "cell_type": "markdown",
   "metadata": {},
   "source": [
    "4. Redraw heatmaps using `--min=-3 --max=3` thresholds for those plots which have smaller range of signals:"
   ]
  },
  {
   "cell_type": "code",
   "execution_count": 25,
   "metadata": {},
   "outputs": [
    {
     "name": "stdout",
     "output_type": "stream",
     "text": [
      "hl60_6h_delta_stbl\n",
      "done!\n",
      "hl60_72h_delta_stbl\n",
      "done!\n",
      "hl60_120h_delta_stbl\n",
      "done!\n",
      "kg1_delta_stbl\n",
      "done!\n",
      "ociaml2_delta_stbl\n",
      "done!\n",
      "molm14_delta_stbl\n",
      "done!\n",
      "ociaml3_delta_stbl\n",
      "done!\n",
      "thp1_delta_stbl\n",
      "done!\n",
      "hl60_delta_te\n",
      "done!\n"
     ]
    }
   ],
   "source": [
    "%%bash \n",
    "cd mtyl-enrichment\n",
    "\n",
    "declare -a Experiments=(\n",
    "'hl60_6h_delta_stbl' 'hl60_72h_delta_stbl' 'hl60_120h_delta_stbl' \n",
    "'kg1_delta_stbl' 'ociaml2_delta_stbl' 'molm14_delta_stbl' \n",
    "'ociaml3_delta_stbl' 'thp1_delta_stbl'\n",
    "'hl60_delta_te'\n",
    ")\n",
    "for exp in \"${Experiments[@]}\"; do\n",
    "\n",
    "    echo $exp\n",
    "\n",
    "    cd $exp\n",
    "\n",
    "    perl /flash/bin/TEISERv1.1/Scripts/teiser_draw_matrix.pl \\\n",
    "        --pvmatrixfile=${exp}.txt.matrix \\\n",
    "        --summaryfile=${exp}.txt.summary \\\n",
    "        --expfile=${exp}.txt \\\n",
    "        --quantized=0 \\\n",
    "        --order=0 \\\n",
    "        --min=-3 --max=3 --cluster=5 \\\n",
    "        --colmap=${TEISERDIR}Scripts/HEATMAPS/cmap_1.txt &> ${exp}.log\n",
    "        \n",
    "        rm ${exp}.log\n",
    "    cd ..\n",
    "    echo \"done!\"\n",
    "\n",
    "done \n",
    "cd ../"
   ]
  },
  {
   "cell_type": "code",
   "execution_count": 26,
   "metadata": {},
   "outputs": [],
   "source": [
    "# !mkdir mtyl-enrichment/log\n",
    "# !mv mtyl-enrichment/*_GENESET mtyl-enrichment/log\n",
    "# !mv mtyl-enrichment/*.log mtyl-enrichment/log\n",
    "!rm -r mtyl-enrichment/*_GENESET"
   ]
  },
  {
   "cell_type": "markdown",
   "metadata": {},
   "source": [
    "4. Make `png` figures:"
   ]
  },
  {
   "cell_type": "code",
   "execution_count": null,
   "metadata": {},
   "outputs": [],
   "source": [
    "%%bash \n",
    "for pdf in mtyl-enrichment/*/*.txt.summary.pdf; do \n",
    "    png=${pdf/.pdf/.png}\n",
    "    di=`dirname $pdf`\n",
    "    out=`basename $di`\n",
    "    \n",
    "    bash /rumi/shams/abe/GitHub/Abe/my_scripts/pdf2png.sh $pdf \n",
    "\n",
    "    mv $pdf mtyl-enrichment/${out}.pdf\n",
    "    mv $png mtyl-enrichment/${out}.png\n",
    "    \n",
    "done "
   ]
  },
  {
   "cell_type": "code",
   "execution_count": 42,
   "metadata": {},
   "outputs": [],
   "source": [
    "rm mtyl-enrichment/*.png"
   ]
  },
  {
   "cell_type": "code",
   "execution_count": 45,
   "metadata": {},
   "outputs": [],
   "source": [
    "%%bash \n",
    "for f in mtyl-enrichment/*.c.pdf; do o=${f/.c./.}; mv $f $o; done "
   ]
  },
  {
   "cell_type": "code",
   "execution_count": null,
   "metadata": {},
   "outputs": [],
   "source": [
    "rm mtyl-enrichment/hyper_mtyl.txt mtyl-enrichment/hypo_mtyl.txt"
   ]
  },
  {
   "cell_type": "code",
   "execution_count": 40,
   "metadata": {},
   "outputs": [
    {
     "name": "stdout",
     "output_type": "stream",
     "text": [
      "Wed Dec 22 18:10:46 PST 2021\n"
     ]
    }
   ],
   "source": [
    "!date"
   ]
  }
 ],
 "metadata": {
  "kernelspec": {
   "display_name": "Python [conda env:alignment]",
   "language": "python",
   "name": "conda-env-alignment-py"
  },
  "language_info": {
   "codemirror_mode": {
    "name": "ipython",
    "version": 3
   },
   "file_extension": ".py",
   "mimetype": "text/x-python",
   "name": "python",
   "nbconvert_exporter": "python",
   "pygments_lexer": "ipython3",
   "version": "3.6.10"
  }
 },
 "nbformat": 4,
 "nbformat_minor": 4
}
