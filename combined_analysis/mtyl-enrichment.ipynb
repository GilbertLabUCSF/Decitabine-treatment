{
 "cells": [
  {
   "cell_type": "markdown",
   "metadata": {},
   "source": [
    "> We have already established that using annotated HeLa m6A sites, we can observe changes in genes with m6A sites (HL-60) cells. In order to confirm this m6A sites, we performed MeRIP-seq in treated and untreated cells, and did observe a general increase in m6A levels upon treatments for a large number of annotated sites. Here, our goal is to indpendently analyze the MeRIP data without relying on HeLa annotations and use it to define a **treatment-induced hyper-methylation sites**. We will then assess the location and behaviour of these targets across the other datasets generated in this study."
   ]
  },
  {
   "cell_type": "markdown",
   "metadata": {},
   "source": [
    "## Test enrichment of treatment-induced hyper/hypo-methylation sites\n",
    "\n",
    "### Goal\n",
    "Here, I aim to identify the genes that are hyper or hypo methylated as genesets, and see if they have enriched accross all datasets; the input table is list of genes with control vs. treated fold change of RNA expression, RNA stability and translational efficiency. \n",
    "### Steps \n",
    "1. Prepare inputs  \n",
    "    - Filtering genes with $\\Delta$methylation >= 2 as hyper-methylation sites (P-Value < 0.01)\n",
    "    - Filtering genes with $\\Delta$methylation <= -2 as hypo-methylation sites (P-Value < 0.01)\n",
    "2. Run `run_mi_gene_list.pl` command \n"
   ]
  },
  {
   "cell_type": "code",
   "execution_count": 1,
   "metadata": {},
   "outputs": [],
   "source": [
    "import sys \n",
    "import pandas as pd \n",
    "import numpy as np\n",
    "sys.path.append('../')\n",
    "\n",
    "from util import *"
   ]
  },
  {
   "cell_type": "code",
   "execution_count": 7,
   "metadata": {},
   "outputs": [
    {
     "name": "stdout",
     "output_type": "stream",
     "text": [
      "CPU times: user 2.57 s, sys: 39.9 ms, total: 2.61 s\n",
      "Wall time: 2.58 s\n"
     ]
    }
   ],
   "source": [
    "%%time \n",
    "data = pd.read_csv('../meRIP-seq/radar/result.sig.txt',sep='\\t').loc[:,['ensembl','name','logFC','p_value']]\n",
    "data = data.iloc[[int(data[(data.ensembl == gene)].logFC.abs().idxmax()) for gene in set(data.ensembl)],:].set_index('ensembl')"
   ]
  },
  {
   "cell_type": "code",
   "execution_count": 12,
   "metadata": {},
   "outputs": [],
   "source": [
    "!mkdir mtyl-enrichment"
   ]
  },
  {
   "cell_type": "code",
   "execution_count": 13,
   "metadata": {},
   "outputs": [],
   "source": [
    "hyper, hypo = two_sided_mtyl(data,fcthr=2)\n",
    "\n",
    "hyper.to_csv('mtyl-enrichment/hyper_mtyl.txt',sep='\\t',index=None,header=None)\n",
    "hypo.to_csv ('mtyl-enrichment/hypo_mtyl.txt', sep='\\t',index=None,header=None)"
   ]
  },
  {
   "cell_type": "markdown",
   "metadata": {},
   "source": [
    "2. Using a [TEISER](https://github.com/goodarzilab/TEISER) script to do enrichment test \n",
    "\n"
   ]
  },
  {
   "cell_type": "code",
   "execution_count": 29,
   "metadata": {},
   "outputs": [],
   "source": [
    "%%bash\n",
    "\n",
    "# export PAGEDIR='/data_gilbert/home/aarab/iPAGE'\n",
    "# export TEISERDIR='/data_gilbert/home/aarab/iPAGE'\n",
    "\n",
    "declare -a Genesets=('hyper_mtyl' 'hypo_mtyl')\n",
    "declare -a Experiments=(\n",
    "# Ribo-seq\n",
    "'../Ribo-seq/hl60_delta_te.txt'\n",
    "\n",
    "## HL-60 RNA-seq \n",
    "# RNA experssion \n",
    "'../RNA-seq/exp/hl60_6h_delta_exp.txt' \n",
    "'../RNA-seq/exp/hl60_72h_delta_exp.txt' \n",
    "'../RNA-seq/exp/hl60_72h_only_delta_exp.txt' \n",
    "'../RNA-seq/exp/hl60_120h_delta_exp.txt' \n",
    "# RNA stability  \n",
    "'../RNA-seq/stbl/hl60_120h_delta_stbl.txt'  \n",
    "'../RNA-seq/stbl/hl60_72h_delta_stbl.txt'\n",
    "'../RNA-seq/stbl/hl60_6h_delta_stbl.txt'\n",
    "\n",
    "## 5 other AML cell lines RNA-seq\n",
    "# RNA experssion \n",
    "'../RNA-seq/exp/kg1_delta_exp.txt' \n",
    "'../RNA-seq/exp/molm14_delta_exp.txt'\n",
    "'../RNA-seq/exp/ociaml2_delta_exp.txt' \n",
    "'../RNA-seq/exp/ociaml3_delta_exp.txt'\n",
    "'../RNA-seq/exp/thp1_delta_exp.txt'\n",
    "# RNA stability  \n",
    "'../RNA-seq/stbl/kg1_delta_stbl.txt' \n",
    "'../RNA-seq/stbl/molm14_delta_stbl.txt' \n",
    "'../RNA-seq/stbl/ociaml2_delta_stbl.txt' \n",
    "'../RNA-seq/stbl/ociaml3_delta_stbl.txt'\n",
    "'../RNA-seq/stbl/thp1_delta_stbl.txt'\n",
    "\n",
    "## drug combination\n",
    "# RNA experssion \n",
    "'../dec_rg3039/RNA-seq/comb_vs_decitabine_delta_exp'\n",
    "'../dec_rg3039/RNA-seq/comb_vs_dmso_delta_exp'\n",
    "\n",
    ")\n",
    "\n",
    "for exp in \"${Experiments[@]}\"; do\n",
    "    for geneset in \"${Genesets[@]}\"; do\n",
    "    \n",
    "        echo $exp $geneset\n",
    "        base=`basename $exp`\n",
    "        base=${base/.txt/}\n",
    "        \n",
    "        # get intersect \n",
    "        awk 'NR==FNR{A[$1];next}$1 in A' $exp mtyl-enrichment/${geneset}.txt > mtyl-enrichment/${geneset}_${base}.txt\n",
    "        \n",
    "        perl $PAGEDIR/run_mi_gene_list.pl \\\n",
    "            --expfile=$exp \\\n",
    "            --genefile=mtyl-enrichment/${geneset}_${base}.txt \\\n",
    "            --exptype=continuous \\\n",
    "            --ebins=11 \\\n",
    "            --species=human \\\n",
    "            --doremovedups=0 \\\n",
    "            --doremoveextra=0 &> mtyl-enrichment/${geneset}_${base}.log\n",
    "#         # remove results from previous run \n",
    "#         rm -fr mtyl-enrichment/${geneset}_${base}_GENESET\n",
    "        \n",
    "        rm mtyl-enrichment/${geneset}_${base}.txt\n",
    "        mv ${exp}_GENESET mtyl-enrichment/${geneset}_${base}_GENESET\n",
    "        \n",
    "        echo 'done!'\n",
    "        \n",
    "    done \n",
    "\n",
    "done"
   ]
  },
  {
   "cell_type": "markdown",
   "metadata": {},
   "source": [
    "3. Merge hypo and hyper results"
   ]
  },
  {
   "cell_type": "code",
   "execution_count": null,
   "metadata": {},
   "outputs": [],
   "source": [
    "import os \n",
    "from glob import glob \n",
    "\n",
    "comps = [(\n",
    "    comp.split('/')[1].split('_mtyl_')[0],\n",
    "    comp.split('/')[1].split('_mtyl_')[1].replace('_GENESET','')\n",
    ") for comp in glob('mtyl-enrichment/*_GENESET')]\n",
    "\n",
    "comps.sort(key=lambda a: len(a[1]))\n",
    "\n",
    "expfiles = {}\n",
    "summaryfiles = {}\n",
    "pvmatrixfiles = {}\n",
    "\n",
    "for c in {comp for _,comp in comps}:\n",
    "    \n",
    "    path = f'mtyl-enrichment/{c}'\n",
    "    os.mkdir(path) \n",
    "    expfiles[c] = {}\n",
    "    summaryfiles[c] = {}\n",
    "    pvmatrixfiles[c] = {}\n",
    "    \n",
    "    for m in {mtyl for mtyl,_ in comps}:\n",
    "        expfiles[c][m] = f'mtyl-enrichment/{m}_mtyl_{c}_GENESET/{c}.txt'\n",
    "        summaryfiles[c][m] = f'mtyl-enrichment/{m}_mtyl_{c}_GENESET/{c}.txt.summary'\n",
    "        pvmatrixfiles[c][m] = f'mtyl-enrichment/{m}_mtyl_{c}_GENESET/{c}.txt.matrix'\n",
    "    \n",
    "    exp_df = pd.read_csv(expfiles[c]['hyper'],sep='\\t', header=None)\n",
    "    exp_df.to_csv(f'{path}/{c}.txt',header=None,index=False,sep='\\t')\n",
    "    \n",
    "    sum_df = pd.concat([pd.read_csv(summaryfiles[c]['hyper'],sep='\\t'),pd.read_csv(summaryfiles[c]['hypo'],sep='\\t')])\n",
    "    sum_df['index'] = ['Hyper-methylated geneset','Hypo-methylated geneset']\n",
    "    sum_df.to_csv(f'{path}/{c}.txt.summary',index=False,sep='\\t')\n",
    "    \n",
    "    \n",
    "    mtx_df = pd.concat([pd.read_csv(pvmatrixfiles[c]['hyper'],sep='\\t'),pd.read_csv(pvmatrixfiles[c]['hypo'],sep='\\t')])\n",
    "    mtx_df.MOTIF = ['Hyper-methylated geneset','Hypo-methylated geneset']\n",
    "    mtx_df.to_csv(f'{path}/{c}.txt.matrix',index=False,sep='\\t')"
   ]
  },
  {
   "cell_type": "code",
   "execution_count": null,
   "metadata": {},
   "outputs": [],
   "source": [
    "%%bash \n",
    "cd mtyl-enrichment\n",
    "for exp in `ls | grep -v '_GENESET' |  grep -v '.log' | grep 'delta'`; do \n",
    "\n",
    "    echo $exp\n",
    "\n",
    "    cd $exp\n",
    "\n",
    "    perl /flash/bin/TEISERv1.1/Scripts/teiser_draw_matrix.pl \\\n",
    "        --pvmatrixfile=${exp}.txt.matrix \\\n",
    "        --summaryfile=${exp}.txt.summary \\\n",
    "        --expfile=${exp}.txt \\\n",
    "        --quantized=0 \\\n",
    "        --order=0 \\\n",
    "        --min=-10 --max=10 --cluster=5 \\\n",
    "        --colmap=/flash/bin/TEISERv1.1//Scripts/HEATMAPS/cmap_1.txt \n",
    "    cd ..\n",
    "    echo \"------------------------------------------\"\n",
    "\n",
    "done \n",
    "cd ../"
   ]
  },
  {
   "cell_type": "markdown",
   "metadata": {},
   "source": [
    "4. Redraw heatmaps using `--min=-3 --max=3` thresholds for those plots which have smaller range of signals:"
   ]
  },
  {
   "cell_type": "code",
   "execution_count": null,
   "metadata": {},
   "outputs": [],
   "source": [
    "%%bash \n",
    "cd mtyl-enrichment\n",
    "\n",
    "declare -a Experiments=(\n",
    "'6h_delta_stbl' '120h_delta_stbl' \n",
    "'kg1_delta_stbl' 'ociaml2_delta_stbl' 'molm14_delta_stbl' \n",
    "'ociaml3_delta_stbl' 'thp1_delta_stbl'\n",
    "'hl60_delta_te'\n",
    ")\n",
    "for exp in \"${Experiments[@]}\"; do\n",
    "\n",
    "    echo $exp\n",
    "\n",
    "    cd $exp\n",
    "\n",
    "    perl /flash/bin/TEISERv1.1/Scripts/teiser_draw_matrix.pl \\\n",
    "        --pvmatrixfile=${exp}.txt.matrix \\\n",
    "        --summaryfile=${exp}.txt.summary \\\n",
    "        --expfile=${exp}.txt \\\n",
    "        --quantized=0 \\\n",
    "        --order=0 \\\n",
    "        --min=-3 --max=3 --cluster=5\n",
    "    cd ..\n",
    "    echo \"------------------------------------------\"\n",
    "\n",
    "done \n",
    "cd ../"
   ]
  },
  {
   "cell_type": "code",
   "execution_count": null,
   "metadata": {},
   "outputs": [],
   "source": [
    "!mkdir mtyl-enrichment/log\n",
    "!mv mtyl-enrichment/*_GENESET mtyl-enrichment/log\n",
    "!mv mtyl-enrichment/*.log mtyl-enrichment/log"
   ]
  },
  {
   "cell_type": "markdown",
   "metadata": {},
   "source": [
    "4. Make `png` figures:"
   ]
  },
  {
   "cell_type": "code",
   "execution_count": null,
   "metadata": {},
   "outputs": [],
   "source": [
    "%%bash \n",
    "for pdf in mtyl-enrichment/*/*.txt.summary.pdf; do \n",
    "    png=${pdf/.pdf/.png}\n",
    "    di=`dirname $pdf`\n",
    "    out=`basename $di`\n",
    "    \n",
    "    bash /rumi/shams/abe/GitHub/Abe/my_scripts/pdf2png.sh $pdf \n",
    "\n",
    "    mv $pdf mtyl-enrichment/${out}.pdf\n",
    "    mv $png mtyl-enrichment/${out}.png\n",
    "done "
   ]
  },
  {
   "cell_type": "code",
   "execution_count": null,
   "metadata": {},
   "outputs": [],
   "source": [
    "%%bash \n",
    "cd mtyl-enrichment\n",
    "zip merged.zip *pdf\n",
    "cd ../"
   ]
  },
  {
   "cell_type": "markdown",
   "metadata": {},
   "source": [
    "5. Write README.md draft\n",
    "    - Write HTML codes which link all plots into a `README.md` format to prepare GitHub friendly report"
   ]
  },
  {
   "cell_type": "code",
   "execution_count": null,
   "metadata": {},
   "outputs": [],
   "source": [
    "# %%bash \n",
    "# readme='mtyl-enrichment.md'\n",
    "# touch $readme\n",
    "# for f in mtyl-enrichment/*.png; do \n",
    "#     b=`basename $f`\n",
    "#     t=${b/.png/}\n",
    "#     echo '#### '$t >> $readme\n",
    "#     echo -e \"<img src=\\\"\"$f\"\\\" title=\\\"\"$t\"\\\" style=\\\"width:1000px\\\">\\n\" >> $readme\n",
    "# done "
   ]
  },
  {
   "cell_type": "code",
   "execution_count": null,
   "metadata": {},
   "outputs": [],
   "source": []
  },
  {
   "cell_type": "code",
   "execution_count": null,
   "metadata": {},
   "outputs": [],
   "source": []
  },
  {
   "cell_type": "code",
   "execution_count": null,
   "metadata": {},
   "outputs": [],
   "source": []
  },
  {
   "cell_type": "code",
   "execution_count": null,
   "metadata": {},
   "outputs": [],
   "source": []
  },
  {
   "cell_type": "code",
   "execution_count": 52,
   "metadata": {},
   "outputs": [],
   "source": [
    "# https://github.com/artemy-bakulin/iPAGE-2/\n",
    "\n",
    "\n",
    "# import numpy as np\n",
    "# import pandas as pd\n",
    "# import matplotlib.pyplot as plt\n",
    "# from matplotlib.gridspec import GridSpec\n",
    "# import matplotlib\n",
    "# import copy\n",
    "\n",
    "\n",
    "\n",
    "# def columnwise_heatmap(array, ax=None, expression=False, cmap_main='RdBu_r', cmap_reg='YlOrBr', **kw):\n",
    "#     #ax = ax or plt.gca()\n",
    "#     images = []\n",
    "#     if expression:\n",
    "#         current_cmap = copy.copy(matplotlib.cm.get_cmap(cmap_reg))\n",
    "#         current_cmap.set_bad(color='black')\n",
    "#         im = ax[0].imshow(np.atleast_2d(array[:, 0]).T, cmap=current_cmap, **kw)\n",
    "#         images.append(im)\n",
    "#         im = ax[1].imshow(np.atleast_2d(array[:, 1:]), cmap=cmap_main, **kw)\n",
    "#     else:\n",
    "#         im = ax.imshow(np.atleast_2d(array[:, :]), cmap=cmap_main, **kw)\n",
    "\n",
    "#     images.append(im)\n",
    "#     return images\n",
    "\n",
    "\n",
    "# def add_colorbar(fig, ims, n):\n",
    "#     fig.subplots_adjust(left=0.06, right=0.65)\n",
    "#     rows = n\n",
    "#     cols = 1\n",
    "#     gs = GridSpec(rows, cols)\n",
    "#     gs.update(left=0.7, right=0.75, wspace=1, hspace=0.3)\n",
    "#     if n == 0:\n",
    "#         colorbar_names = ['']\n",
    "#         colorbar_images = []\n",
    "#     elif n == 1:\n",
    "#         colorbar_names = ['Regulon\\'s \\n enrichment']\n",
    "#         colorbar_images = [-1]\n",
    "#     elif n == 2:\n",
    "#         colorbar_names = ['Regulator\\'s \\n expression', 'Regulon\\'s \\n enrichment']\n",
    "#         colorbar_images = [0, 1]\n",
    "#     for i in colorbar_images:\n",
    "#         cax = fig.add_subplot(gs[i // cols, i % cols])\n",
    "#         fig.colorbar(ims[i], cax=cax)\n",
    "#         cax.set_title(colorbar_names[i], fontsize=10)\n",
    "\n",
    "\n",
    "# def draw_heatmap(names, values, output_name='output_ipage', expression=None, cmap_main='RdBu_r', cmap_reg='RdBu_r'):\n",
    "\n",
    "#     if type(names[0]) != list:\n",
    "#         df = pd.DataFrame(values, index=names)\n",
    "#     else:\n",
    "#         df = pd.DataFrame(values, index=names[0], columns=names[1])\n",
    "\n",
    "#     if expression:\n",
    "#         df.insert(0, 'regulator', expression)\n",
    "#     plt.rcParams.update({'font.weight': 'roman'})\n",
    "#     plt.rcParams.update({'ytick.labelsize': 10})\n",
    "#     fontsize_pt = plt.rcParams['ytick.labelsize']\n",
    "#     dpi = 72.27\n",
    "#     matrix_height_pt = (fontsize_pt+30/2) * df.shape[0]\n",
    "#     matrix_height_in = matrix_height_pt / dpi\n",
    "#     matrix_width_pt = (fontsize_pt+50/2) * df.shape[1]\n",
    "#     matrix_width_in = matrix_width_pt / dpi\n",
    "#     top_margin = 0.04  # in percentage of the figure height\n",
    "#     bottom_margin = 0.04  # in percentage of the figure height / (1 - top_margin - bottom_margin)\n",
    "#     figure_height = matrix_height_in\n",
    "#     figure_width = matrix_width_in\n",
    "\n",
    "#     if expression:\n",
    "#         fig, ax = plt.subplots(1, 2, figsize=(figure_width, figure_height), gridspec_kw={'width_ratios': [1, df.shape[1]-1]})\n",
    "#         fig.subplots_adjust(wspace=0.05)\n",
    "#     else:\n",
    "#         fig, ax = plt.subplots(1, 1, figsize=(figure_width, figure_height))\n",
    "\n",
    "#     ims = columnwise_heatmap(df.values, ax=ax, aspect=\"auto\", expression=bool(expression),\n",
    "#                              cmap_main=cmap_main, cmap_reg=cmap_reg)\n",
    "#     if expression:\n",
    "#         ax[0].set(xticks=[], yticks=np.arange(len(df)), yticklabels=df.index, xlabel='Regulator')\n",
    "#         ax[0].xaxis.set_label_position('top')\n",
    "#         ax[1].set(xticks=[], yticks=[], xlabel='Regulon')\n",
    "#         ax[1].xaxis.set_label_position('top')\n",
    "#     else:\n",
    "\n",
    "#         ax.set(xticks=[], yticks=np.arange(len(df)), yticklabels=df.index, xlabel='Regulon')\n",
    "#         ax.xaxis.set_label_position('top')\n",
    "#         plt.xticks(rotation=90)\n",
    "\n",
    "\n",
    "\n",
    "#     # ax.tick_params(bottom=False, top=False,\n",
    "#     #               labelbottom=False, labeltop=True, left=False)\n",
    "#     if expression:\n",
    "#         n = 2\n",
    "#     else:\n",
    "#         n = 1\n",
    "#     add_colorbar(fig, ims, n)\n",
    "#     if output_name == 'stdout':\n",
    "#         plt.show(block=False)\n",
    "#     else:\n",
    "#         plt.savefig('%s.svg' % output_name, bbox_inches='tight')\n",
    "#         plt.close()\n"
   ]
  }
 ],
 "metadata": {
  "kernelspec": {
   "display_name": "Python [conda env:down]",
   "language": "python",
   "name": "conda-env-down-py"
  },
  "language_info": {
   "codemirror_mode": {
    "name": "ipython",
    "version": 3
   },
   "file_extension": ".py",
   "mimetype": "text/x-python",
   "name": "python",
   "nbconvert_exporter": "python",
   "pygments_lexer": "ipython3",
   "version": "3.6.13"
  }
 },
 "nbformat": 4,
 "nbformat_minor": 4
}
