{
 "cells": [
  {
   "cell_type": "markdown",
   "metadata": {},
   "source": [
    "    Mon Jun 26 17:40:59 PDT 2023\n",
    "\n",
    "We discussed a plan w/ Luke:\n",
    "- onePAGE analysis of [GOBP_LEUKOCYTE_DIFFERENTIATION](https://www.gsea-msigdb.org/gsea/msigdb/human/geneset/GOBP_LEUKOCYTE_DIFFERENTIATION.html), \n",
    "- compare with other DIFFERENTIATION genesets, \n",
    "- show CHEMOTAXIS genesets."
   ]
  },
  {
   "cell_type": "code",
   "execution_count": null,
   "metadata": {},
   "outputs": [],
   "source": []
  },
  {
   "cell_type": "code",
   "execution_count": null,
   "metadata": {},
   "outputs": [],
   "source": []
  },
  {
   "cell_type": "code",
   "execution_count": null,
   "metadata": {},
   "outputs": [],
   "source": []
  },
  {
   "cell_type": "code",
   "execution_count": null,
   "metadata": {},
   "outputs": [],
   "source": []
  },
  {
   "cell_type": "code",
   "execution_count": null,
   "metadata": {},
   "outputs": [],
   "source": []
  },
  {
   "cell_type": "code",
   "execution_count": null,
   "metadata": {},
   "outputs": [],
   "source": []
  },
  {
   "cell_type": "code",
   "execution_count": null,
   "metadata": {},
   "outputs": [],
   "source": []
  },
  {
   "cell_type": "code",
   "execution_count": null,
   "metadata": {},
   "outputs": [],
   "source": []
  },
  {
   "cell_type": "code",
   "execution_count": null,
   "metadata": {},
   "outputs": [],
   "source": []
  },
  {
   "cell_type": "code",
   "execution_count": null,
   "metadata": {},
   "outputs": [],
   "source": []
  },
  {
   "cell_type": "code",
   "execution_count": null,
   "metadata": {},
   "outputs": [],
   "source": []
  },
  {
   "cell_type": "code",
   "execution_count": null,
   "metadata": {},
   "outputs": [],
   "source": []
  },
  {
   "cell_type": "code",
   "execution_count": null,
   "metadata": {},
   "outputs": [],
   "source": []
  },
  {
   "cell_type": "markdown",
   "metadata": {},
   "source": [
    "__Aim:__ Consistency analysis across cell lines using pathway enrichment results to find commonly up/down regulated pathways and their genes. \n",
    "\n",
    "___\n",
    "- https://github.com/abearab/pager\n",
    "- https://github.com/tanghaibao/goatools\n",
    "- https://gseapy.readthedocs.io/en/latest/index.html"
   ]
  },
  {
   "cell_type": "markdown",
   "metadata": {},
   "source": [
    "Hani: _\"You must redo iPAGE with `--independence=0` option for comparing results between multiple smaples.\"_"
   ]
  },
  {
   "cell_type": "code",
   "execution_count": 1,
   "metadata": {
    "tags": []
   },
   "outputs": [],
   "source": [
    "import re\n",
    "import sys\n",
    "import pandas as pd \n",
    "import numpy as np\n",
    "import matplotlib.pyplot as plt\n",
    "from time import time \n",
    "from glob import glob\n",
    "from matplotlib.pyplot import subplots\n",
    "from itertools import chain\n",
    "from functools import reduce\n",
    "from venn import venn\n",
    "\n",
    "# sys.path.append('/rumi/shams/abe/Projects/ipage-down/')\n",
    "sys.path.append('/data_gilbert/home/aarab/tools/pager/')\n",
    "\n",
    "import upsetplot as us\n",
    "import pager\n",
    "from matplotlib.backends.backend_pdf import PdfPages\n",
    "\n",
    "from IPython.display import IFrame"
   ]
  },
  {
   "cell_type": "code",
   "execution_count": 20,
   "metadata": {
    "tags": []
   },
   "outputs": [],
   "source": [
    "pagerdir='/data_gilbert/home/aarab/tools/pager'"
   ]
  },
  {
   "cell_type": "code",
   "execution_count": null,
   "metadata": {},
   "outputs": [],
   "source": []
  },
  {
   "cell_type": "code",
   "execution_count": null,
   "metadata": {},
   "outputs": [],
   "source": []
  },
  {
   "cell_type": "code",
   "execution_count": null,
   "metadata": {},
   "outputs": [],
   "source": []
  },
  {
   "cell_type": "code",
   "execution_count": 2,
   "metadata": {
    "tags": []
   },
   "outputs": [],
   "source": [
    "# def get_pvmatrix_list(parent_path,pattern):\n",
    "#     \"\"\"\n",
    "#     pattern: msigdb gene set cluster name \n",
    "#     \"\"\"\n",
    "#     return glob(f'{parent_path}/*{pattern}*/pvmatrix.txt')\n",
    "\n",
    "# def get_pv_signal(exp,patterns,pdf=None):\n",
    "#     \"\"\"\n",
    "#     exp: experiment name\n",
    "#     patterns: list of patterns\n",
    "#     \"\"\"\n",
    "#     cols = pd.concat([\n",
    "#         pager.pvmat2bio_signal(pager.merge_multiple_pvmat(\n",
    "#             get_pvmatrix_list(f\"{exp}_fdr\",\"c1\")\n",
    "#         ),s,n_clust=1) for s in ['up','both','down']\n",
    "#     ]).columns\n",
    "    \n",
    "#     pv_signal = pd.concat([\n",
    "#         pager.pvmat2bio_signal(pager.merge_multiple_pvmat([\n",
    "#             pvmat for pattern in patterns\n",
    "#             for pvmat in \n",
    "#             get_pvmatrix_list(f\"{exp}\",pattern) + \\\n",
    "#             get_pvmatrix_list(f\"{exp}_fdr\",pattern)\n",
    "#         ]),s,n_clust=2) for s in ['up','both','down']\n",
    "#     ])\n",
    "    \n",
    "#     pv_signal.columns = cols\n",
    "#     pv_signal=pv_signal[~pv_signal.duplicated()]\n",
    "    \n",
    "#     if pdf:\n",
    "#         pv_signal.to_csv('temp-pvmatrix.txt',sep='\\t')\n",
    "    \n",
    "#         !bash {pager_dir}/iPAGE_draw_matrix.sh \\\n",
    "#             {exp}'.txt' \"temp-pvmatrix.txt\" \\\n",
    "#             {pdf} &> /dev/null\n",
    "    \n",
    "#         !rm -v 'temp-pvmatrix.txt'\n",
    "#     else: \n",
    "#         return pv_signal\n"
   ]
  },
  {
   "cell_type": "code",
   "execution_count": null,
   "metadata": {},
   "outputs": [],
   "source": []
  },
  {
   "cell_type": "code",
   "execution_count": null,
   "metadata": {},
   "outputs": [],
   "source": []
  },
  {
   "cell_type": "code",
   "execution_count": null,
   "metadata": {},
   "outputs": [],
   "source": []
  },
  {
   "cell_type": "code",
   "execution_count": null,
   "metadata": {},
   "outputs": [],
   "source": []
  },
  {
   "cell_type": "code",
   "execution_count": 3,
   "metadata": {
    "tags": []
   },
   "outputs": [],
   "source": [
    "dictfilt = lambda x, y: dict([ (i,x[i]) for i in x if i in set(y) ])"
   ]
  },
  {
   "cell_type": "code",
   "execution_count": 4,
   "metadata": {
    "tags": []
   },
   "outputs": [
    {
     "data": {
      "text/plain": [
       "'/data_gilbert/home/aarab/tools/pager/'"
      ]
     },
     "execution_count": 4,
     "metadata": {},
     "output_type": "execute_result"
    }
   ],
   "source": [
    "sys.path[-1]"
   ]
  },
  {
   "cell_type": "code",
   "execution_count": 5,
   "metadata": {
    "tags": []
   },
   "outputs": [],
   "source": [
    "# !cat /data_gilbert/home/aarab/Projects/pager/ipage_loop.sh"
   ]
  },
  {
   "cell_type": "markdown",
   "metadata": {
    "jp-MarkdownHeadingCollapsed": true,
    "tags": []
   },
   "source": [
    "## $\\Delta$Expression"
   ]
  },
  {
   "cell_type": "markdown",
   "metadata": {
    "tags": []
   },
   "source": [
    "#### `ind0`"
   ]
  },
  {
   "cell_type": "code",
   "execution_count": null,
   "metadata": {
    "tags": []
   },
   "outputs": [],
   "source": [
    "%%bash\n",
    "export PAGEDIR='/data_gilbert/home/aarab/iPAGE'\n",
    "\n",
    "cd exp/\n",
    "ls *_delta_exp.txt | parallel -j18 -k bash /data_gilbert/home/aarab/Projects/pager/ipage_loop.sh\n",
    "cd ../"
   ]
  },
  {
   "cell_type": "markdown",
   "metadata": {
    "tags": []
   },
   "source": [
    "### Remake from pvmatrix (correct bin clusters)"
   ]
  },
  {
   "cell_type": "code",
   "execution_count": 9,
   "metadata": {
    "tags": []
   },
   "outputs": [],
   "source": [
    "cell_line_pws = {}"
   ]
  },
  {
   "cell_type": "markdown",
   "metadata": {
    "tags": []
   },
   "source": [
    "### HL-60 time series"
   ]
  },
  {
   "cell_type": "code",
   "execution_count": 10,
   "metadata": {
    "tags": []
   },
   "outputs": [],
   "source": [
    "# cell_line_pws ['120h'] = merge_multiple_pvmat(\n",
    "#     pvmat_list = glob('exp/hl60_120h_delta_exp_ind0/*c5*/pvmatrix.[L-R].txt')\n",
    "# )"
   ]
  },
  {
   "cell_type": "markdown",
   "metadata": {
    "tags": []
   },
   "source": [
    "#### hl60 6h delta_exp"
   ]
  },
  {
   "cell_type": "code",
   "execution_count": 21,
   "metadata": {
    "tags": []
   },
   "outputs": [
    {
     "name": "stderr",
     "output_type": "stream",
     "text": [
      "/data_gilbert/home/aarab/tools/pager/pager.py:235: FutureWarning: DataFrame.set_axis 'inplace' keyword is deprecated and will be removed in a future version. Use `obj = obj.set_axis(..., copy=False)` instead\n",
      "  read_pvmatrix(pvmat).set_axis(cols, axis=1, inplace=False)\n",
      "/data_gilbert/home/aarab/tools/pager/pager.py:235: FutureWarning: DataFrame.set_axis 'inplace' keyword is deprecated and will be removed in a future version. Use `obj = obj.set_axis(..., copy=False)` instead\n",
      "  read_pvmatrix(pvmat).set_axis(cols, axis=1, inplace=False)\n",
      "/data_gilbert/home/aarab/tools/pager/pager.py:235: FutureWarning: DataFrame.set_axis 'inplace' keyword is deprecated and will be removed in a future version. Use `obj = obj.set_axis(..., copy=False)` instead\n",
      "  read_pvmatrix(pvmat).set_axis(cols, axis=1, inplace=False)\n"
     ]
    }
   ],
   "source": [
    "study = 'hl60_6h_delta_exp'\n",
    "\n",
    "pvmat = pager.merge_multiple_pvmat(\n",
    "    pvmat_list = glob(f'exp/{study}/*c5.go*/pvmatrix.txt')\n",
    ")\n",
    "\n",
    "bio_signal = pd.concat([\n",
    "    pager.pvmat2bio_signal(pvmat,side='down',n_clust=1),\n",
    "    pager.pvmat2bio_signal(pvmat,side='up',n_clust=1),\n",
    "    pager.pvmat2bio_signal(pvmat,side='both'),\n",
    "],axis=0)\n",
    "\n",
    "\n",
    "bio_signal = bio_signal[bio_signal.index.str.contains('CHEMOTAXIS')]\n",
    "\n",
    "\n",
    "bio_signal.to_csv(f'exp/{study}_pvmatrix.txt',sep='\\t')\n",
    "cell_line_pws[study] = bio_signal\n",
    "exp_file = f'{study}.txt'\n",
    "pvmat_file = f'{study}_pvmatrix.txt'\n",
    "pdf_file = f'{study}.pdf'\n",
    "\n",
    "!cd exp; bash {pagerdir}/iPAGE_draw_matrix.sh $exp_file $pvmat_file $pdf_file &> /dev/null; cd ../"
   ]
  },
  {
   "cell_type": "code",
   "execution_count": 22,
   "metadata": {
    "tags": []
   },
   "outputs": [
    {
     "data": {
      "text/html": [
       "\n",
       "        <iframe\n",
       "            width=\"800\"\n",
       "            height=\"300\"\n",
       "            src=\"exp/hl60_6h_delta_exp.pdf\"\n",
       "            frameborder=\"0\"\n",
       "            allowfullscreen\n",
       "            \n",
       "        ></iframe>\n",
       "        "
      ],
      "text/plain": [
       "<IPython.lib.display.IFrame at 0x7fdc48fae530>"
      ]
     },
     "execution_count": 22,
     "metadata": {},
     "output_type": "execute_result"
    }
   ],
   "source": [
    "pdf = 'exp/hl60_6h_delta_exp.pdf'\n",
    "IFrame(pdf, width=800, height=300)"
   ]
  },
  {
   "cell_type": "code",
   "execution_count": 23,
   "metadata": {
    "tags": []
   },
   "outputs": [],
   "source": [
    "# gs_cluster_path = pager.detect_gs_cluster(pvmat_list, gs=gs)\n",
    "\n",
    "# print ([p.split('/')[1:3] for p in gs_cluster_path])\n",
    "\n",
    "# gs_cluster_path = gs_cluster_path[1].split('pvmatrix.R.txt')[0]\n",
    "# print ('Down')\n",
    "# print (pager.bin_identifier_genes(gs_cluster_path, '0', gs=gs))\n",
    "# print ('Up')\n",
    "# print (pager.bin_identifier_genes(gs_cluster_path, '9', gs=gs))\n",
    "# print (pager.bin_identifier_genes(gs_cluster_path, '10', gs=gs))"
   ]
  },
  {
   "cell_type": "markdown",
   "metadata": {
    "tags": []
   },
   "source": [
    "#### hl60 72h delta_exp"
   ]
  },
  {
   "cell_type": "code",
   "execution_count": 24,
   "metadata": {
    "tags": []
   },
   "outputs": [
    {
     "name": "stderr",
     "output_type": "stream",
     "text": [
      "/data_gilbert/home/aarab/tools/pager/pager.py:235: FutureWarning: DataFrame.set_axis 'inplace' keyword is deprecated and will be removed in a future version. Use `obj = obj.set_axis(..., copy=False)` instead\n",
      "  read_pvmatrix(pvmat).set_axis(cols, axis=1, inplace=False)\n",
      "/data_gilbert/home/aarab/tools/pager/pager.py:235: FutureWarning: DataFrame.set_axis 'inplace' keyword is deprecated and will be removed in a future version. Use `obj = obj.set_axis(..., copy=False)` instead\n",
      "  read_pvmatrix(pvmat).set_axis(cols, axis=1, inplace=False)\n",
      "/data_gilbert/home/aarab/tools/pager/pager.py:235: FutureWarning: DataFrame.set_axis 'inplace' keyword is deprecated and will be removed in a future version. Use `obj = obj.set_axis(..., copy=False)` instead\n",
      "  read_pvmatrix(pvmat).set_axis(cols, axis=1, inplace=False)\n"
     ]
    }
   ],
   "source": [
    "study = 'hl60_72h_delta_exp'\n",
    "\n",
    "pvmat = pager.merge_multiple_pvmat(\n",
    "    pvmat_list = glob(f'exp/{study}/*c5.go*/pvmatrix.txt') #+ glob(f'exp/{study}_ind1/*c2.cp.kegg*/pvmatrix.txt')\n",
    ")\n",
    "\n",
    "# bio_signal = pd.concat([\n",
    "#     pager.pvmat2bio_signal(pvmat,side='down',n_clust=1),\n",
    "#     pager.pvmat2bio_signal(pvmat,side='down',n_clust=2),\n",
    "#     pager.pvmat2bio_signal(pvmat,side='up',n_clust=1),\n",
    "#     pager.pvmat2bio_signal(pvmat,side='up',n_clust=2),\n",
    "#     pager.pvmat2bio_signal(pvmat,side='both'),\n",
    "# ],axis=0)\n",
    "\n",
    "\n",
    "bio_signal = pvmat\n",
    "\n",
    "# bio_signal = bio_signal[bio_signal.index.str.contains('CHEMOTAXIS'.upper())]\n",
    "bio_signal = bio_signal[bio_signal.index.str.contains('hemopoiesis'.upper())]\n",
    "# bio_signal = bio_signal[bio_signal.index.str.contains('Neutrophil'.upper())]\n",
    "\n",
    "\n",
    "\n",
    "\n",
    "cell_line_pws[study] = bio_signal\n",
    "\n",
    "bio_signal.to_csv(f'exp/{study}_pvmatrix.txt',sep='\\t')\n",
    "\n",
    "exp_file = f'{study}.txt'\n",
    "pvmat_file = f'{study}_pvmatrix.txt'\n",
    "pdf_file = f'{study}.pdf'\n",
    "\n",
    "!cd exp; bash {pagerdir}/iPAGE_draw_matrix.sh $exp_file $pvmat_file $pdf_file &> /dev/null; cd ../"
   ]
  },
  {
   "cell_type": "code",
   "execution_count": 25,
   "metadata": {
    "tags": []
   },
   "outputs": [
    {
     "data": {
      "text/html": [
       "\n",
       "        <iframe\n",
       "            width=\"800\"\n",
       "            height=\"300\"\n",
       "            src=\"exp/hl60_72h_delta_exp.pdf\"\n",
       "            frameborder=\"0\"\n",
       "            allowfullscreen\n",
       "            \n",
       "        ></iframe>\n",
       "        "
      ],
      "text/plain": [
       "<IPython.lib.display.IFrame at 0x7fde90c1ace0>"
      ]
     },
     "execution_count": 25,
     "metadata": {},
     "output_type": "execute_result"
    }
   ],
   "source": [
    "pdf = 'exp/hl60_72h_delta_exp.pdf'\n",
    "IFrame(pdf, width=800, height=300)"
   ]
  },
  {
   "cell_type": "markdown",
   "metadata": {
    "tags": []
   },
   "source": [
    "#### hl60 120h delta_exp"
   ]
  },
  {
   "cell_type": "code",
   "execution_count": 3,
   "metadata": {
    "tags": []
   },
   "outputs": [
    {
     "ename": "NameError",
     "evalue": "name 'pager' is not defined",
     "output_type": "error",
     "traceback": [
      "\u001b[0;31m---------------------------------------------------------------------------\u001b[0m",
      "\u001b[0;31mNameError\u001b[0m                                 Traceback (most recent call last)",
      "Cell \u001b[0;32mIn[3], line 3\u001b[0m\n\u001b[1;32m      1\u001b[0m study \u001b[38;5;241m=\u001b[39m \u001b[38;5;124m'\u001b[39m\u001b[38;5;124mhl60_120h_delta_exp\u001b[39m\u001b[38;5;124m'\u001b[39m\n\u001b[0;32m----> 3\u001b[0m pvmat \u001b[38;5;241m=\u001b[39m \u001b[43mpager\u001b[49m\u001b[38;5;241m.\u001b[39mmerge_multiple_pvmat(\n\u001b[1;32m      4\u001b[0m     pvmat_list \u001b[38;5;241m=\u001b[39m glob(\u001b[38;5;124mf\u001b[39m\u001b[38;5;124m'\u001b[39m\u001b[38;5;124mexp/\u001b[39m\u001b[38;5;132;01m{\u001b[39;00mstudy\u001b[38;5;132;01m}\u001b[39;00m\u001b[38;5;124m/*c5*/pvmatrix.txt\u001b[39m\u001b[38;5;124m'\u001b[39m)\n\u001b[1;32m      5\u001b[0m     \u001b[38;5;66;03m# pvmat_list = glob(f'exp/{study}/*c8*/pvmatrix.txt')\u001b[39;00m\n\u001b[1;32m      6\u001b[0m     \n\u001b[1;32m      7\u001b[0m )\n\u001b[1;32m      9\u001b[0m \u001b[38;5;66;03m# bio_signal = pd.concat([\u001b[39;00m\n\u001b[1;32m     10\u001b[0m \u001b[38;5;66;03m#     pager.pvmat2bio_signal(pvmat,side='down',n_clust=1),\u001b[39;00m\n\u001b[1;32m     11\u001b[0m \u001b[38;5;66;03m#     pager.pvmat2bio_signal(pvmat,side='down',n_clust=2),\u001b[39;00m\n\u001b[0;32m   (...)\u001b[0m\n\u001b[1;32m     14\u001b[0m \u001b[38;5;66;03m#     # pager.pvmat2bio_signal(pvmat,side='both'),\u001b[39;00m\n\u001b[1;32m     15\u001b[0m \u001b[38;5;66;03m# ],axis=0)\u001b[39;00m\n\u001b[1;32m     18\u001b[0m bio_signal \u001b[38;5;241m=\u001b[39m pvmat\n",
      "\u001b[0;31mNameError\u001b[0m: name 'pager' is not defined"
     ]
    }
   ],
   "source": [
    "study = 'hl60_120h_delta_exp'\n",
    "\n",
    "pvmat = pager.merge_multiple_pvmat(\n",
    "    pvmat_list = glob(f'exp/{study}/*c5*/pvmatrix.txt')\n",
    "    # pvmat_list = glob(f'exp/{study}/*c8*/pvmatrix.txt')\n",
    "    \n",
    ")\n",
    "\n",
    "# bio_signal = pd.concat([\n",
    "#     pager.pvmat2bio_signal(pvmat,side='down',n_clust=1),\n",
    "#     pager.pvmat2bio_signal(pvmat,side='down',n_clust=2),\n",
    "#     pager.pvmat2bio_signal(pvmat,side='up',n_clust=1),\n",
    "#     pager.pvmat2bio_signal(pvmat,side='up',n_clust=2),\n",
    "#     # pager.pvmat2bio_signal(pvmat,side='both'),\n",
    "# ],axis=0)\n",
    "\n",
    "\n",
    "bio_signal = pvmat\n",
    "\n",
    "\n",
    "\n",
    "# bio_signal = bio_signal[bio_signal.index.str.contains('CHEMOTAXIS'.upper())]\n",
    "# bio_signal = bio_signal[bio_signal.index.str.contains('leukocyte'.upper())]\n",
    "# bio_signal = bio_signal[bio_signal.index.str.contains('MYELOID')]\n",
    "bio_signal = bio_signal[bio_signal.index.str.contains('DIFFERENTIATION')]\n",
    "\n",
    "\n",
    "\n",
    "cell_line_pws[study] = bio_signal\n",
    "\n",
    "bio_signal.to_csv(f'exp/{study}_pvmatrix.txt',sep='\\t')\n",
    "\n",
    "exp_file = f'{study}.txt'\n",
    "pvmat_file = f'{study}_pvmatrix.txt'\n",
    "pdf_file = f'{study}.pdf'\n",
    "\n",
    "!cd exp; bash {pagerdir}/iPAGE_draw_matrix.sh $exp_file $pvmat_file $pdf_file &> /dev/null; cd ../"
   ]
  },
  {
   "cell_type": "code",
   "execution_count": 22,
   "metadata": {
    "tags": []
   },
   "outputs": [
    {
     "data": {
      "text/html": [
       "\n",
       "        <iframe\n",
       "            width=\"800\"\n",
       "            height=\"400\"\n",
       "            src=\"exp/hl60_120h_delta_exp.pdf\"\n",
       "            frameborder=\"0\"\n",
       "            allowfullscreen\n",
       "            \n",
       "        ></iframe>\n",
       "        "
      ],
      "text/plain": [
       "<IPython.lib.display.IFrame at 0x7f887c288be0>"
      ]
     },
     "execution_count": 22,
     "metadata": {},
     "output_type": "execute_result"
    }
   ],
   "source": [
    "pdf = f'exp/{study}.pdf'\n",
    "IFrame(pdf, width=800, height=400)"
   ]
  },
  {
   "cell_type": "code",
   "execution_count": null,
   "metadata": {},
   "outputs": [],
   "source": []
  },
  {
   "cell_type": "code",
   "execution_count": null,
   "metadata": {},
   "outputs": [],
   "source": []
  },
  {
   "cell_type": "markdown",
   "metadata": {},
   "source": [
    "### \n",
    "___"
   ]
  },
  {
   "cell_type": "code",
   "execution_count": 243,
   "metadata": {
    "tags": []
   },
   "outputs": [
    {
     "data": {
      "text/plain": [
       "'NOD2\",\"LGALS3\",\"S100A12\",\"CCL5\",\"IL1R1\",\"CXCL3\",\"CCN3\",\"CCL3\",\"CCL14\",\"FPR2\",\"PLA2G7\",\"CCL24\",\"DUSP1\",\"CCL1\",\"SLIT2\",\"CCL20\",\"CCR1\",\"C3AR1\",\"SERPINE1\",\"CXCL11\",\"ADAM8\",\"CCL3L1\",\"CCL15\",\"CXCL1\",\"FLT1\",\"CCL2\",\"EDN1\",\"CXCR1\",\"CCL4\",\"DEFB124\",\"DPP4\",\"PLA2G1B'"
      ]
     },
     "execution_count": 243,
     "metadata": {},
     "output_type": "execute_result"
    }
   ],
   "source": [
    "gs = \"GOBP_MONOCYTE_CHEMOTAXIS\"\n",
    "# pager.detect_gs_cluster(glob(f'exp/{study}/*c5.go.mf*/pvmatrix.txt'), gs)[0]\n",
    "\n",
    "l_120 = {\n",
    "    g \n",
    "    for c in [\"10\"]\n",
    "    for g in list(pager.bin_identifier_genes(\"exp/hl60_120h_delta_exp/msigdb_v7.4_c5.go.bp\", c, gs).values())[0]\n",
    "}\n",
    "\n",
    "'\",\"'.join(set(list(l_72) + list(l_120)))"
   ]
  },
  {
   "cell_type": "code",
   "execution_count": 217,
   "metadata": {
    "tags": []
   },
   "outputs": [
    {
     "data": {
      "text/plain": [
       "'NOD2\",\"LGALS3\",\"S100A12\",\"CCL5\",\"CXCL6\",\"S100A8\",\"IL1R1\",\"CXCL3\",\"CCL3\",\"CCL14\",\"MDK\",\"CXCL5\",\"XG\",\"CCL24\",\"CCL1\",\"RHOH\",\"SLIT2\",\"CCL20\",\"RIPOR2\",\"C5AR1\",\"C3AR1\",\"CXCL8\",\"CXCL11\",\"ADAM8\",\"CCL3L1\",\"CD177\",\"CCL15\",\"CXCL1\",\"JAML\",\"CCL2\",\"EDN1\",\"CXCR1\",\"CCL4\",\"S100A9\",\"DPP4\",\"PLA2G1B'"
      ]
     },
     "execution_count": 217,
     "metadata": {},
     "output_type": "execute_result"
    }
   ],
   "source": [
    "gs = \"GOBP_NEUTROPHIL_MIGRATION\"\n",
    "# pager.detect_gs_cluster(glob(f'exp/{study}/*c5.go.mf*/pvmatrix.txt'), gs)[0]\n",
    "\n",
    "l_72 = {\n",
    "    g \n",
    "    for c in [\"10\"]\n",
    "    for g in list(pager.bin_identifier_genes(\"exp/hl60_72h_delta_exp/msigdb_v7.4_c5.go.bp\", c, gs).values())[0]\n",
    "}\n",
    "\n",
    "l_120 = {\n",
    "    g \n",
    "    for c in [\"10\"]\n",
    "    for g in list(pager.bin_identifier_genes(\"exp/hl60_120h_delta_exp/msigdb_v7.4_c5.go.bp\", c, gs).values())[0]\n",
    "}\n",
    "\n",
    "'\",\"'.join(set(list(l_72) + list(l_120)))"
   ]
  },
  {
   "cell_type": "code",
   "execution_count": 216,
   "metadata": {
    "tags": []
   },
   "outputs": [
    {
     "data": {
      "text/plain": [
       "'COL11A1\",\"CHADL\",\"COL2A1\",\"ADAMTS7\",\"CCN3\",\"NKX3-2\",\"ACVRL1\",\"PTH1R\",\"SOX5\",\"AXIN2\",\"MDK\",\"SHOX2\",\"BMPR1B\",\"GDF6\",\"MATN1\",\"BMPR1A\",\"GLI2\",\"WNT9A\",\"FGFR3\",\"SULF2\",\"SMPD3\",\"IHH\",\"BMP4\",\"CCN4\",\"GDF5\",\"EXT1\",\"TRPS1\",\"COL27A1\",\"WNT5B'"
      ]
     },
     "execution_count": 216,
     "metadata": {},
     "output_type": "execute_result"
    }
   ],
   "source": [
    "gs = \"GOBP_CHONDROCYTE_DIFFERENTIATION\"\n",
    "# pager.detect_gs_cluster(glob(f'exp/{study}/*c5.go.mf*/pvmatrix.txt'), gs)[0]\n",
    "\n",
    "l_72 = {\n",
    "    g \n",
    "    for c in [\"10\"]\n",
    "    for g in list(pager.bin_identifier_genes(\"exp/hl60_72h_delta_exp/msigdb_v7.4_c5.go.bp\", c, gs).values())[0]\n",
    "}\n",
    "\n",
    "l_120 = {\n",
    "    g \n",
    "    for c in [\"10\"]\n",
    "    for g in list(pager.bin_identifier_genes(\"exp/hl60_120h_delta_exp/msigdb_v7.4_c5.go.bp\", c, gs).values())[0]\n",
    "}\n",
    "\n",
    "'\",\"'.join(set(list(l_72) + list(l_120)))"
   ]
  },
  {
   "cell_type": "markdown",
   "metadata": {
    "tags": []
   },
   "source": [
    "### 72h trearment in all cell lines "
   ]
  },
  {
   "cell_type": "markdown",
   "metadata": {
    "tags": []
   },
   "source": [
    "#### hl60_72h_only_delta_exp"
   ]
  },
  {
   "cell_type": "code",
   "execution_count": 254,
   "metadata": {
    "tags": []
   },
   "outputs": [],
   "source": [
    "study = 'hl60_72h_only_delta_exp'\n",
    "\n",
    "pvmat = pager.merge_multiple_pvmat(\n",
    "    pvmat_list = glob(f'exp/{study}/*c5.go.bp*/pvmatrix.txt')\n",
    ")\n",
    "\n",
    "bio_signal = pd.concat([\n",
    "    pager.pvmat2bio_signal(pvmat,side='down',n_clust=1),\n",
    "    pager.pvmat2bio_signal(pvmat,side='down',n_clust=2),\n",
    "    pager.pvmat2bio_signal(pvmat,side='up',n_clust=1),\n",
    "    pager.pvmat2bio_signal(pvmat,side='up',n_clust=2),\n",
    "    pager.pvmat2bio_signal(pvmat,side='both'),\n",
    "],axis=0)\n",
    "\n",
    "\n",
    "bio_signal = bio_signal[bio_signal.index.str.contains('CHEMOTAXIS'.upper())]\n",
    "\n",
    "\n",
    "\n",
    "bio_signal.to_csv(f'exp/{study}_pvmatrix.txt',sep='\\t')\n",
    "cell_line_pws[study] = bio_signal\n",
    "exp_file = f'{study}.txt'\n",
    "pvmat_file = f'{study}_pvmatrix.txt'\n",
    "pdf_file = f'{study}.pdf'\n",
    "\n",
    "!cd exp; bash {pagerdir}/iPAGE_draw_matrix.sh $exp_file $pvmat_file $pdf_file &> /dev/null; cd ../"
   ]
  },
  {
   "cell_type": "code",
   "execution_count": 255,
   "metadata": {
    "tags": []
   },
   "outputs": [
    {
     "data": {
      "text/html": [
       "\n",
       "        <iframe\n",
       "            width=\"800\"\n",
       "            height=\"300\"\n",
       "            src=\"exp/hl60_72h_only_delta_exp.pdf\"\n",
       "            frameborder=\"0\"\n",
       "            allowfullscreen\n",
       "            \n",
       "        ></iframe>\n",
       "        "
      ],
      "text/plain": [
       "<IPython.lib.display.IFrame at 0x7f2170ab8e50>"
      ]
     },
     "execution_count": 255,
     "metadata": {},
     "output_type": "execute_result"
    }
   ],
   "source": [
    "pdf = 'exp/hl60_72h_only_delta_exp.pdf'\n",
    "IFrame(pdf, width=800, height=300)"
   ]
  },
  {
   "cell_type": "markdown",
   "metadata": {
    "tags": []
   },
   "source": [
    "#### molm14_delta_exp"
   ]
  },
  {
   "cell_type": "code",
   "execution_count": 256,
   "metadata": {
    "tags": []
   },
   "outputs": [],
   "source": [
    "study = 'molm14_delta_exp'\n",
    "\n",
    "pvmat = pager.merge_multiple_pvmat(\n",
    "    pvmat_list = glob(f'exp/{study}/*c5.go.bp*/pvmatrix.txt')\n",
    ")\n",
    "\n",
    "bio_signal = pd.concat([\n",
    "    pager.pvmat2bio_signal(pvmat,side='down',n_clust=1),\n",
    "    pager.pvmat2bio_signal(pvmat,side='down',n_clust=2),\n",
    "    pager.pvmat2bio_signal(pvmat,side='up',n_clust=2),\n",
    "    pager.pvmat2bio_signal(pvmat,side='up',n_clust=1),\n",
    "    pager.pvmat2bio_signal(pvmat,side='both'),\n",
    "],axis=0)\n",
    "\n",
    "\n",
    "\n",
    "bio_signal = bio_signal[bio_signal.index.str.contains('CHEMOTAXIS'.upper())]\n",
    "\n",
    "\n",
    "bio_signal.to_csv(f'exp/{study}_pvmatrix.txt',sep='\\t')\n",
    "cell_line_pws[study] = bio_signal\n",
    "exp_file = f'{study}.txt'\n",
    "pvmat_file = f'{study}_pvmatrix.txt'\n",
    "pdf_file = f'{study}.pdf'\n",
    "\n",
    "!cd exp; bash {pagerdir}/iPAGE_draw_matrix.sh $exp_file $pvmat_file $pdf_file &> /dev/null; cd ../"
   ]
  },
  {
   "cell_type": "code",
   "execution_count": 257,
   "metadata": {
    "tags": []
   },
   "outputs": [
    {
     "data": {
      "text/html": [
       "\n",
       "        <iframe\n",
       "            width=\"800\"\n",
       "            height=\"300\"\n",
       "            src=\"exp/molm14_delta_exp.pdf\"\n",
       "            frameborder=\"0\"\n",
       "            allowfullscreen\n",
       "            \n",
       "        ></iframe>\n",
       "        "
      ],
      "text/plain": [
       "<IPython.lib.display.IFrame at 0x7f2170989150>"
      ]
     },
     "execution_count": 257,
     "metadata": {},
     "output_type": "execute_result"
    }
   ],
   "source": [
    "pdf = 'exp/molm14_delta_exp.pdf'\n",
    "IFrame(pdf, width=800, height=300)"
   ]
  },
  {
   "cell_type": "markdown",
   "metadata": {
    "tags": []
   },
   "source": [
    "#### ociaml2_delta_exp"
   ]
  },
  {
   "cell_type": "code",
   "execution_count": 258,
   "metadata": {
    "tags": []
   },
   "outputs": [],
   "source": [
    "study = 'ociaml2_delta_exp'\n",
    "\n",
    "pvmat = pager.merge_multiple_pvmat(\n",
    "    pvmat_list = glob(f'exp/{study}/*c5.go.bp*/pvmatrix.txt')\n",
    ")\n",
    "\n",
    "bio_signal = pd.concat([\n",
    "    pager.pvmat2bio_signal(pvmat,side='down',n_clust=2),\n",
    "    pager.pvmat2bio_signal(pvmat,side='down',n_clust=1),\n",
    "    pager.pvmat2bio_signal(pvmat,side='up',n_clust=2),\n",
    "    pager.pvmat2bio_signal(pvmat,side='up',n_clust=1),\n",
    "    pager.pvmat2bio_signal(pvmat,side='both'),\n",
    "],axis=0)\n",
    "\n",
    "\n",
    "bio_signal = bio_signal[bio_signal.index.str.contains('CHEMOTAXIS'.upper())]\n",
    "\n",
    "\n",
    "bio_signal.to_csv(f'exp/{study}_pvmatrix.txt',sep='\\t')\n",
    "cell_line_pws[study] = bio_signal\n",
    "exp_file = f'{study}.txt'\n",
    "pvmat_file = f'{study}_pvmatrix.txt'\n",
    "pdf_file = f'{study}.pdf'\n",
    "\n",
    "!cd exp; bash {pagerdir}/iPAGE_draw_matrix.sh $exp_file $pvmat_file $pdf_file &> /dev/null; cd ../"
   ]
  },
  {
   "cell_type": "code",
   "execution_count": 259,
   "metadata": {
    "tags": []
   },
   "outputs": [
    {
     "data": {
      "text/html": [
       "\n",
       "        <iframe\n",
       "            width=\"800\"\n",
       "            height=\"300\"\n",
       "            src=\"exp/ociaml2_delta_exp.pdf\"\n",
       "            frameborder=\"0\"\n",
       "            allowfullscreen\n",
       "            \n",
       "        ></iframe>\n",
       "        "
      ],
      "text/plain": [
       "<IPython.lib.display.IFrame at 0x7f2170ab9ea0>"
      ]
     },
     "execution_count": 259,
     "metadata": {},
     "output_type": "execute_result"
    }
   ],
   "source": [
    "pdf = 'exp/ociaml2_delta_exp.pdf'\n",
    "IFrame(pdf, width=800, height=300)"
   ]
  },
  {
   "cell_type": "markdown",
   "metadata": {
    "tags": []
   },
   "source": [
    "#### ociaml3_delta_exp"
   ]
  },
  {
   "cell_type": "code",
   "execution_count": 262,
   "metadata": {
    "tags": []
   },
   "outputs": [
    {
     "name": "stderr",
     "output_type": "stream",
     "text": [
      "/data_gilbert/home/aarab/tools/pager/pager.py:235: FutureWarning: DataFrame.set_axis 'inplace' keyword is deprecated and will be removed in a future version. Use `obj = obj.set_axis(..., copy=False)` instead\n",
      "  read_pvmatrix(pvmat).set_axis(cols, axis=1, inplace=False)\n",
      "/data_gilbert/home/aarab/tools/pager/pager.py:235: FutureWarning: DataFrame.set_axis 'inplace' keyword is deprecated and will be removed in a future version. Use `obj = obj.set_axis(..., copy=False)` instead\n",
      "  read_pvmatrix(pvmat).set_axis(cols, axis=1, inplace=False)\n",
      "/data_gilbert/home/aarab/tools/pager/pager.py:235: FutureWarning: DataFrame.set_axis 'inplace' keyword is deprecated and will be removed in a future version. Use `obj = obj.set_axis(..., copy=False)` instead\n",
      "  read_pvmatrix(pvmat).set_axis(cols, axis=1, inplace=False)\n"
     ]
    }
   ],
   "source": [
    "study = 'ociaml3_delta_exp'\n",
    "\n",
    "pvmat = pager.merge_multiple_pvmat(\n",
    "    pvmat_list = glob(f'exp/{study}/*c5.go*/pvmatrix.txt')\n",
    ")\n",
    "\n",
    "bio_signal = pd.concat([\n",
    "    pager.pvmat2bio_signal(pvmat,side='down',n_clust=2),\n",
    "    pager.pvmat2bio_signal(pvmat,side='down',n_clust=1),\n",
    "    pager.pvmat2bio_signal(pvmat,side='up',n_clust=2),\n",
    "    pager.pvmat2bio_signal(pvmat,side='up',n_clust=1),\n",
    "    pager.pvmat2bio_signal(pvmat,side='both'),\n",
    "],axis=0)\n",
    "\n",
    "\n",
    "bio_signal = bio_signal[bio_signal.index.str.contains('CHEMOTAXIS'.upper())]\n",
    "\n",
    "\n",
    "bio_signal.to_csv(f'exp/{study}_pvmatrix.txt',sep='\\t')\n",
    "cell_line_pws[study] = bio_signal\n",
    "exp_file = f'{study}.txt'\n",
    "pvmat_file = f'{study}_pvmatrix.txt'\n",
    "pdf_file = f'{study}.pdf'\n",
    "\n",
    "!cd exp; bash {pagerdir}/iPAGE_draw_matrix.sh $exp_file $pvmat_file $pdf_file &> /dev/null; cd ../"
   ]
  },
  {
   "cell_type": "code",
   "execution_count": 263,
   "metadata": {
    "tags": []
   },
   "outputs": [
    {
     "data": {
      "text/html": [
       "\n",
       "        <iframe\n",
       "            width=\"800\"\n",
       "            height=\"300\"\n",
       "            src=\"exp/ociaml3_delta_exp.pdf\"\n",
       "            frameborder=\"0\"\n",
       "            allowfullscreen\n",
       "            \n",
       "        ></iframe>\n",
       "        "
      ],
      "text/plain": [
       "<IPython.lib.display.IFrame at 0x7f2170ab84c0>"
      ]
     },
     "execution_count": 263,
     "metadata": {},
     "output_type": "execute_result"
    }
   ],
   "source": [
    "pdf = 'exp/ociaml3_delta_exp.pdf'\n",
    "IFrame(pdf, width=800, height=300)"
   ]
  },
  {
   "cell_type": "markdown",
   "metadata": {
    "tags": []
   },
   "source": [
    "#### thp1_delta_exp"
   ]
  },
  {
   "cell_type": "code",
   "execution_count": 264,
   "metadata": {
    "tags": []
   },
   "outputs": [
    {
     "name": "stderr",
     "output_type": "stream",
     "text": [
      "/data_gilbert/home/aarab/tools/pager/pager.py:235: FutureWarning: DataFrame.set_axis 'inplace' keyword is deprecated and will be removed in a future version. Use `obj = obj.set_axis(..., copy=False)` instead\n",
      "  read_pvmatrix(pvmat).set_axis(cols, axis=1, inplace=False)\n",
      "/data_gilbert/home/aarab/tools/pager/pager.py:235: FutureWarning: DataFrame.set_axis 'inplace' keyword is deprecated and will be removed in a future version. Use `obj = obj.set_axis(..., copy=False)` instead\n",
      "  read_pvmatrix(pvmat).set_axis(cols, axis=1, inplace=False)\n",
      "/data_gilbert/home/aarab/tools/pager/pager.py:235: FutureWarning: DataFrame.set_axis 'inplace' keyword is deprecated and will be removed in a future version. Use `obj = obj.set_axis(..., copy=False)` instead\n",
      "  read_pvmatrix(pvmat).set_axis(cols, axis=1, inplace=False)\n"
     ]
    }
   ],
   "source": [
    "study = 'thp1_delta_exp'\n",
    "\n",
    "pvmat = pager.merge_multiple_pvmat(\n",
    "    pvmat_list = glob(f'exp/{study}/*c5.go*/pvmatrix.txt')\n",
    ")\n",
    "\n",
    "bio_signal = pd.concat([\n",
    "    pager.pvmat2bio_signal(pvmat,side='down',n_clust=2),\n",
    "    pager.pvmat2bio_signal(pvmat,side='down',n_clust=1),\n",
    "    pager.pvmat2bio_signal(pvmat,side='up',n_clust=2),\n",
    "    pager.pvmat2bio_signal(pvmat,side='up',n_clust=1),\n",
    "    pager.pvmat2bio_signal(pvmat,side='both'),\n",
    "],axis=0)\n",
    "\n",
    "\n",
    "bio_signal = bio_signal[bio_signal.index.str.contains('CHEMOTAXIS'.upper())]\n",
    "\n",
    "\n",
    "bio_signal.to_csv(f'exp/{study}_pvmatrix.txt',sep='\\t')\n",
    "cell_line_pws[study] = bio_signal\n",
    "exp_file = f'{study}.txt'\n",
    "pvmat_file = f'{study}_pvmatrix.txt'\n",
    "pdf_file = f'{study}.pdf'\n",
    "\n",
    "!cd exp; bash {pagerdir}/iPAGE_draw_matrix.sh $exp_file $pvmat_file $pdf_file &> /dev/null; cd ../"
   ]
  },
  {
   "cell_type": "code",
   "execution_count": 265,
   "metadata": {
    "tags": []
   },
   "outputs": [
    {
     "data": {
      "text/html": [
       "\n",
       "        <iframe\n",
       "            width=\"800\"\n",
       "            height=\"300\"\n",
       "            src=\"exp/thp1_delta_exp.pdf\"\n",
       "            frameborder=\"0\"\n",
       "            allowfullscreen\n",
       "            \n",
       "        ></iframe>\n",
       "        "
      ],
      "text/plain": [
       "<IPython.lib.display.IFrame at 0x7f2170989690>"
      ]
     },
     "execution_count": 265,
     "metadata": {},
     "output_type": "execute_result"
    }
   ],
   "source": [
    "pdf = 'exp/thp1_delta_exp.pdf'\n",
    "IFrame(pdf, width=800, height=300)"
   ]
  },
  {
   "cell_type": "markdown",
   "metadata": {
    "tags": []
   },
   "source": [
    "#### kg1_delta_exp"
   ]
  },
  {
   "cell_type": "code",
   "execution_count": 266,
   "metadata": {
    "tags": []
   },
   "outputs": [],
   "source": [
    "study = 'kg1_delta_exp'\n",
    "\n",
    "pvmat = pager.merge_multiple_pvmat(\n",
    "    pvmat_list = glob(f'exp/{study}/*c5.go.bp*/pvmatrix.txt')\n",
    ")\n",
    "\n",
    "bio_signal = pd.concat([\n",
    "    pager.pvmat2bio_signal(pvmat,side='down',n_clust=2),\n",
    "    pager.pvmat2bio_signal(pvmat,side='down',n_clust=1),\n",
    "    pager.pvmat2bio_signal(pvmat,side='up',n_clust=2),\n",
    "    pager.pvmat2bio_signal(pvmat,side='up',n_clust=1),\n",
    "    pager.pvmat2bio_signal(pvmat,side='both'),\n",
    "],axis=0)\n",
    "\n",
    "\n",
    "bio_signal = bio_signal[bio_signal.index.str.contains('CHEMOTAXIS'.upper())]\n",
    "\n",
    "\n",
    "bio_signal.to_csv(f'exp/{study}_pvmatrix.txt',sep='\\t')\n",
    "cell_line_pws[study] = bio_signal\n",
    "exp_file = f'{study}.txt'\n",
    "pvmat_file = f'{study}_pvmatrix.txt'\n",
    "pdf_file = f'{study}.pdf'\n",
    "\n",
    "!cd exp; bash {pagerdir}/iPAGE_draw_matrix.sh $exp_file $pvmat_file $pdf_file &> /dev/null; cd ../"
   ]
  },
  {
   "cell_type": "code",
   "execution_count": 267,
   "metadata": {
    "tags": []
   },
   "outputs": [
    {
     "data": {
      "text/html": [
       "\n",
       "        <iframe\n",
       "            width=\"800\"\n",
       "            height=\"300\"\n",
       "            src=\"exp/kg1_delta_exp.pdf\"\n",
       "            frameborder=\"0\"\n",
       "            allowfullscreen\n",
       "            \n",
       "        ></iframe>\n",
       "        "
      ],
      "text/plain": [
       "<IPython.lib.display.IFrame at 0x7f219bfaafb0>"
      ]
     },
     "execution_count": 267,
     "metadata": {},
     "output_type": "execute_result"
    }
   ],
   "source": [
    "pdf = 'exp/kg1_delta_exp.pdf'\n",
    "IFrame(pdf, width=800, height=300)"
   ]
  },
  {
   "cell_type": "markdown",
   "metadata": {
    "tags": []
   },
   "source": [
    "# Intersection "
   ]
  },
  {
   "cell_type": "code",
   "execution_count": 268,
   "metadata": {
    "tags": []
   },
   "outputs": [],
   "source": [
    "for name in cell_line_pws:\n",
    "    cell_line_pws[name].columns = list(range(11))"
   ]
  },
  {
   "cell_type": "markdown",
   "metadata": {},
   "source": [
    "source: https://www.nature.com/articles/s41586-021-03313-9/figures/9\n",
    "\n",
    "I want something like module g\n",
    "\n",
    "<img src=\"https://media.springernature.com/full/springer-static/esm/art%3A10.1038%2Fs41586-021-03313-9/MediaObjects/41586_2021_3313_Fig9_ESM.jpg?as=webp\" width=600 > "
   ]
  },
  {
   "cell_type": "markdown",
   "metadata": {},
   "source": [
    "### HL-60"
   ]
  },
  {
   "cell_type": "code",
   "execution_count": 269,
   "metadata": {
    "tags": []
   },
   "outputs": [],
   "source": [
    "data = dict([\n",
    "    ('6h_dn',  set(cell_line_pws['hl60_6h_delta_exp'  ].loc[cell_line_pws['hl60_6h_delta_exp'].iloc  [:,0]   > 2,:].index.to_list())),\n",
    "    ('6h_up',  set(cell_line_pws['hl60_6h_delta_exp'  ].loc[cell_line_pws['hl60_6h_delta_exp'].iloc  [:,10]  > 2,:].index.to_list())),\n",
    "    ('72h_dn', set(cell_line_pws['hl60_72h_delta_exp' ].loc[cell_line_pws['hl60_72h_delta_exp'].iloc [:,0]   > 2,:].index.to_list())),\n",
    "    ('72h_up', set(cell_line_pws['hl60_72h_delta_exp' ].loc[cell_line_pws['hl60_72h_delta_exp'].iloc [:,10]  > 2,:].index.to_list())),\n",
    "    ('120h_dn',set(cell_line_pws['hl60_120h_delta_exp'].loc[cell_line_pws['hl60_120h_delta_exp'].iloc[:,0]   > 2,:].index.to_list())),\n",
    "    ('120h_up',set(cell_line_pws['hl60_120h_delta_exp'].loc[cell_line_pws['hl60_120h_delta_exp'].iloc[:,10]  > 2,:].index.to_list())),\n",
    "])"
   ]
  },
  {
   "cell_type": "code",
   "execution_count": 270,
   "metadata": {
    "tags": []
   },
   "outputs": [
    {
     "data": {
      "image/png": "[encoded data removed]",
      "text/plain": [
       "<Figure size 311.111x533.333 with 4 Axes>"
      ]
     },
     "metadata": {},
     "output_type": "display_data"
    }
   ],
   "source": [
    "fig1 = plt.figure()\n",
    "upset1 = us.UpSet(\n",
    "    us.from_contents(data),\n",
    "    # min_subset_size=5,\n",
    "    min_degree=2,\n",
    "    # max_degree=3,\n",
    "    orientation='horizontal',show_counts=True,\n",
    ")\n",
    "# upset1.style_subsets(present='hl60_72h_only',edgecolor=\"red\",linewidth=2)\n",
    "upset1.plot(fig=fig1)\n",
    "fig1.suptitle('iPAGE results',fontsize=20)\n",
    "plt.show()\n",
    "# pdf.savefig()"
   ]
  },
  {
   "cell_type": "markdown",
   "metadata": {},
   "source": [
    "# "
   ]
  },
  {
   "cell_type": "code",
   "execution_count": 162,
   "metadata": {},
   "outputs": [
    {
     "name": "stdout",
     "output_type": "stream",
     "text": [
      "Wed Oct 19 14:55:19 PDT 2022\n"
     ]
    }
   ],
   "source": [
    "!date"
   ]
  }
 ],
 "metadata": {
  "kernelspec": {
   "display_name": "Python [conda env:anaconda3-down]",
   "language": "python",
   "name": "conda-env-anaconda3-down-py"
  },
  "language_info": {
   "codemirror_mode": {
    "name": "ipython",
    "version": 3
   },
   "file_extension": ".py",
   "mimetype": "text/x-python",
   "name": "python",
   "nbconvert_exporter": "python",
   "pygments_lexer": "ipython3",
   "version": "3.10.8"
  }
 },
 "nbformat": 4,
 "nbformat_minor": 4
}
