{
 "cells": [
  {
   "cell_type": "markdown",
   "metadata": {},
   "source": [
    "> We have already established that using annotated HeLa m6A sites, we can observe changes in genes with m6A sites (HL-60) cells. In order to confirm this m6A sites, we performed MeRIP-seq in treated and untreated cells, and did observe a general increase in m6A levels upon treatments for a large number of annotated sites. Here, our goal is to indpendently analyze the MeRIP data without relying on HeLa annotations and use it to define a **treatment-induced hyper-methylation sites**. We will then assess the location and behaviour of these targets across the other datasets generated in this study."
   ]
  },
  {
   "cell_type": "markdown",
   "metadata": {},
   "source": [
    "## Test enrichment of treatment-induced hyper/hypo-methylation sites\n",
    "\n",
    "### Goal\n",
    "Here, I aim to identify the genes that are hyper or hypo methylated as genesets, and see if they have enriched accross all datasets; the input table is list of genes with control vs. treated fold change of RNA expression, RNA stability and translational efficiency. \n",
    "### Steps \n",
    "1. Prepare inputs  \n",
    "    - Filtering genes with $\\Delta$methylation >= 1 as hyper-methylation sites (P-Value < 0.01)\n",
    "    - Filtering genes with $\\Delta$methylation <= -1 as hypo-methylation sites (P-Value < 0.01)\n",
    "2. Run `run_mi_gene_list.pl` command \n"
   ]
  },
  {
   "cell_type": "code",
   "execution_count": 6,
   "metadata": {},
   "outputs": [],
   "source": [
    "import pandas as pd \n",
    "import numpy as np\n",
    "\n",
    "\n",
    "def two_sided_mtyl(fcthr=1,pvthr=0.01):\n",
    "    delta_mtyl = pd.read_csv('../meRIP-seq/hl60_delta_mtyl_table.txt', sep='\\t')\n",
    "    ### hyper_methylation gene list\n",
    "    # subset by threshold \n",
    "    hyper = delta_mtyl.iloc[np.where([(l and p) for l,p in zip(delta_mtyl.logFC >= fcthr,delta_mtyl.p_value < pvthr)])]\n",
    "    ### hypo_methylation gene list\n",
    "    # subset by threshold \n",
    "    hypo = delta_mtyl.iloc[np.where([(l and p) for l,p in zip(delta_mtyl.logFC <= -(fcthr),delta_mtyl.p_value < pvthr)])]\n",
    "    \n",
    "    return hyper, hypo\n",
    "\n",
    "    \n",
    "def write_gene_file(df,file_name):\n",
    "    \n",
    "    df = pd.DataFrame({'ensembl':[ens[:-3] for ens in df.ensembl.tolist()]}).drop_duplicates('ensembl')\n",
    "    df.to_csv(file_name,sep='\\t',index=None,header=None)\n",
    "    \n",
    "\n",
    "hyper, hypo = two_sided_mtyl()\n",
    "write_gene_file(hyper,'mtyl_enrichment/hyper_mtyl.txt')\n",
    "write_gene_file(hypo,'mtyl_enrichment/hypo_mtyl.txt')"
   ]
  },
  {
   "cell_type": "markdown",
   "metadata": {},
   "source": [
    "2. Using a [TEISER](https://github.com/goodarzilab/TEISER) script to do enrichment test \n",
    "\n"
   ]
  },
  {
   "cell_type": "code",
   "execution_count": 10,
   "metadata": {},
   "outputs": [
    {
     "name": "stdout",
     "output_type": "stream",
     "text": [
      "hyper_mtyl.txt  hypo_mtyl.txt  \u001b[0m\u001b[01;34mplots\u001b[0m/\r\n"
     ]
    }
   ],
   "source": [
    "ls mtyl_enrichment"
   ]
  },
  {
   "cell_type": "code",
   "execution_count": 11,
   "metadata": {},
   "outputs": [
    {
     "name": "stdout",
     "output_type": "stream",
     "text": [
      "../Ribo-seq/hl60_delta_te.txt hyper_mtyl\n",
      "done!\n",
      "../Ribo-seq/hl60_delta_te.txt hypo_mtyl\n",
      "done!\n",
      "../RNA-seq/hl60-exp/6h_delta_exp.txt hyper_mtyl\n",
      "done!\n",
      "../RNA-seq/hl60-exp/6h_delta_exp.txt hypo_mtyl\n",
      "done!\n",
      "../RNA-seq/hl60-exp/72h_delta_exp.txt hyper_mtyl\n",
      "done!\n",
      "../RNA-seq/hl60-exp/72h_delta_exp.txt hypo_mtyl\n",
      "done!\n",
      "../RNA-seq/hl60-exp/120h_delta_exp.txt hyper_mtyl\n",
      "done!\n",
      "../RNA-seq/hl60-exp/120h_delta_exp.txt hypo_mtyl\n",
      "done!\n",
      "../RNA-seq/hl60-stbl/120h_delta_stbl.txt hyper_mtyl\n",
      "done!\n",
      "../RNA-seq/hl60-stbl/120h_delta_stbl.txt hypo_mtyl\n",
      "done!\n",
      "../RNA-seq/hl60-stbl/6h_delta_stbl.txt hyper_mtyl\n",
      "done!\n",
      "../RNA-seq/hl60-stbl/6h_delta_stbl.txt hypo_mtyl\n",
      "done!\n",
      "../RNA-seq/other-exp/kg1_delta_exp.txt hyper_mtyl\n",
      "done!\n",
      "../RNA-seq/other-exp/kg1_delta_exp.txt hypo_mtyl\n",
      "done!\n",
      "../RNA-seq/other-exp/molm14_delta_exp.txt hyper_mtyl\n",
      "done!\n",
      "../RNA-seq/other-exp/molm14_delta_exp.txt hypo_mtyl\n",
      "done!\n",
      "../RNA-seq/other-exp/ociaml2_delta_exp.txt hyper_mtyl\n",
      "done!\n",
      "../RNA-seq/other-exp/ociaml2_delta_exp.txt hypo_mtyl\n",
      "done!\n",
      "../RNA-seq/other-exp/ociaml3_delta_exp.txt hyper_mtyl\n",
      "done!\n",
      "../RNA-seq/other-exp/ociaml3_delta_exp.txt hypo_mtyl\n",
      "done!\n",
      "../RNA-seq/other-exp/thp1_delta_exp.txt hyper_mtyl\n",
      "done!\n",
      "../RNA-seq/other-exp/thp1_delta_exp.txt hypo_mtyl\n",
      "done!\n",
      "../RNA-seq/other-stbl/kg1_delta_stbl.txt hyper_mtyl\n",
      "done!\n",
      "../RNA-seq/other-stbl/kg1_delta_stbl.txt hypo_mtyl\n",
      "done!\n",
      "../RNA-seq/other-stbl/molm14_delta_stbl.txt hyper_mtyl\n",
      "done!\n",
      "../RNA-seq/other-stbl/molm14_delta_stbl.txt hypo_mtyl\n",
      "done!\n",
      "../RNA-seq/other-stbl/ociaml2_delta_stbl.txt hyper_mtyl\n",
      "done!\n",
      "../RNA-seq/other-stbl/ociaml2_delta_stbl.txt hypo_mtyl\n",
      "done!\n",
      "../RNA-seq/other-stbl/ociaml3_delta_stbl.txt hyper_mtyl\n",
      "done!\n",
      "../RNA-seq/other-stbl/ociaml3_delta_stbl.txt hypo_mtyl\n",
      "done!\n",
      "../RNA-seq/other-stbl/thp1_delta_stbl.txt hyper_mtyl\n",
      "done!\n",
      "../RNA-seq/other-stbl/thp1_delta_stbl.txt hypo_mtyl\n",
      "done!\n"
     ]
    }
   ],
   "source": [
    "%%bash\n",
    "\n",
    "declare -a Genesets=('hyper_mtyl' 'hypo_mtyl')\n",
    "declare -a Experiments=(\n",
    "# Ribo-seq\n",
    "'../Ribo-seq/hl60_delta_te.txt'\n",
    "\n",
    "## HL-60 RNA-seq \n",
    "# RNA experssion \n",
    "'../RNA-seq/hl60-exp/6h_delta_exp.txt' \n",
    "'../RNA-seq/hl60-exp/72h_delta_exp.txt' \n",
    "'../RNA-seq/hl60-exp/120h_delta_exp.txt' \n",
    "# RNA stability  \n",
    "'../RNA-seq/hl60-stbl/120h_delta_stbl.txt'  \n",
    "'../RNA-seq/hl60-stbl/6h_delta_stbl.txt'\n",
    "\n",
    "## 5 other AML cell lines RNA-seq\n",
    "# RNA experssion \n",
    "'../RNA-seq/other-exp/kg1_delta_exp.txt' \n",
    "'../RNA-seq/other-exp/molm14_delta_exp.txt'\n",
    "'../RNA-seq/other-exp/ociaml2_delta_exp.txt' \n",
    "'../RNA-seq/other-exp/ociaml3_delta_exp.txt'\n",
    "'../RNA-seq/other-exp/thp1_delta_exp.txt'\n",
    "# RNA stability  \n",
    "'../RNA-seq/other-stbl/kg1_delta_stbl.txt' \n",
    "'../RNA-seq/other-stbl/molm14_delta_stbl.txt' \n",
    "'../RNA-seq/other-stbl/ociaml2_delta_stbl.txt' \n",
    "'../RNA-seq/other-stbl/ociaml3_delta_stbl.txt'\n",
    "'../RNA-seq/other-stbl/thp1_delta_stbl.txt'\n",
    ")\n",
    "\n",
    "for exp in \"${Experiments[@]}\"; do\n",
    "    for geneset in \"${Genesets[@]}\"; do\n",
    "    \n",
    "        echo $exp $geneset\n",
    "        base=`basename $exp`\n",
    "        base=${base/.txt/}\n",
    "        \n",
    "        # get intersect \n",
    "        awk 'NR==FNR{A[$1];next}$1 in A' $exp mtyl_enrichment/${geneset}.txt > mtyl_enrichment/${geneset}_${base}.txt\n",
    "        \n",
    "        perl $TEISERDIR/run_mi_gene_list.pl \\\n",
    "            --expfile=$exp \\\n",
    "            --genefile=mtyl_enrichment/${geneset}_${base}.txt \\\n",
    "            --exptype=continuous \\\n",
    "            --ebins=7 \\\n",
    "            --species=human \\\n",
    "            --doremovedups=0 \\\n",
    "            --doremoveextra=0 &> mtyl_enrichment/${geneset}_${base}.log\n",
    "#         # remove results from previous run \n",
    "#         rm -fr mtyl_enrichment/${geneset}_${base}_GENESET\n",
    "        \n",
    "        rm mtyl_enrichment/${geneset}_${base}.txt\n",
    "        mv ${exp}_GENESET mtyl_enrichment/${geneset}_${base}_GENESET\n",
    "        \n",
    "        echo 'done!'\n",
    "        \n",
    "    done \n",
    "\n",
    "done"
   ]
  },
  {
   "cell_type": "markdown",
   "metadata": {},
   "source": [
    "3. Redraw heatmaps using `--min=-3 --max=3` thresholds for those plots which have smaller range of signals:"
   ]
  },
  {
   "cell_type": "code",
   "execution_count": 14,
   "metadata": {},
   "outputs": [
    {
     "name": "stdout",
     "output_type": "stream",
     "text": [
      "6h_delta_stbl hyper_mtyl\n",
      "done!\n",
      "6h_delta_stbl hypo_mtyl\n",
      "done!\n",
      "120h_delta_stbl hyper_mtyl\n",
      "done!\n",
      "120h_delta_stbl hypo_mtyl\n",
      "done!\n",
      "kg1_delta_stbl hyper_mtyl\n",
      "done!\n",
      "kg1_delta_stbl hypo_mtyl\n",
      "done!\n",
      "ociaml2_delta_stbl hyper_mtyl\n",
      "done!\n",
      "ociaml2_delta_stbl hypo_mtyl\n",
      "done!\n",
      "molm14_delta_stbl hyper_mtyl\n",
      "done!\n",
      "molm14_delta_stbl hypo_mtyl\n",
      "done!\n",
      "ociaml3_delta_stbl hyper_mtyl\n",
      "done!\n",
      "ociaml3_delta_stbl hypo_mtyl\n",
      "done!\n",
      "thp1_delta_stbl hyper_mtyl\n",
      "done!\n",
      "thp1_delta_stbl hypo_mtyl\n",
      "done!\n",
      "hl60_delta_te hyper_mtyl\n",
      "done!\n",
      "hl60_delta_te hypo_mtyl\n",
      "done!\n"
     ]
    }
   ],
   "source": [
    "%%bash \n",
    "declare -a Genesets=('hyper_mtyl' 'hypo_mtyl')\n",
    "declare -a Experiments=(\n",
    "'6h_delta_stbl' '120h_delta_stbl' \n",
    "'kg1_delta_stbl' 'ociaml2_delta_stbl' 'molm14_delta_stbl' \n",
    "'ociaml3_delta_stbl' 'thp1_delta_stbl'\n",
    "'hl60_delta_te'\n",
    ")\n",
    "for exp in \"${Experiments[@]}\"; do\n",
    "    for geneset in \"${Genesets[@]}\"; do\n",
    "        echo $exp $geneset    \n",
    "        perl $TEISERDIR/Scripts/teiser_draw_matrix.pl \\\n",
    "        --pvmatrixfile=mtyl_enrichment/${geneset}_${exp}_GENESET/${exp}.txt.matrix \\\n",
    "        --summaryfile=mtyl_enrichment/${geneset}_${exp}_GENESET/${exp}.txt.summary \\\n",
    "        --expfile=mtyl_enrichment/${geneset}_${exp}_GENESET/${exp}.txt \\\n",
    "        --quantized=0 \\\n",
    "        --colmap=$TEISERDIR/Scripts/HEATMAPS/cmap_1.txt \\\n",
    "        --order=0 \\\n",
    "        --min=-3 --max=3 \\\n",
    "        --cluster=5 &>> mtyl_enrichment/${geneset}_${exp}.log\n",
    "        \n",
    "        echo 'done!'\n",
    "        \n",
    "    done \n",
    "done"
   ]
  },
  {
   "cell_type": "markdown",
   "metadata": {},
   "source": [
    "4. Make `png` figures:"
   ]
  },
  {
   "cell_type": "code",
   "execution_count": 17,
   "metadata": {},
   "outputs": [],
   "source": [
    "mkdir -p mtyl_enrichment/plots/"
   ]
  },
  {
   "cell_type": "code",
   "execution_count": 19,
   "metadata": {
    "scrolled": false
   },
   "outputs": [
    {
     "name": "stdout",
     "output_type": "stream",
     "text": [
      "mtyl_enrichment/hyper_mtyl_120h_delta_exp_GENESET/120h_delta_exp.txt.summary.pdf > mtyl_enrichment/hyper_mtyl_120h_delta_exp_GENESET/120h_delta_exp.txt.summary.png\n",
      "done!\n",
      "mtyl_enrichment/hyper_mtyl_120h_delta_stbl_GENESET/120h_delta_stbl.txt.summary.pdf > mtyl_enrichment/hyper_mtyl_120h_delta_stbl_GENESET/120h_delta_stbl.txt.summary.png\n",
      "done!\n",
      "mtyl_enrichment/hyper_mtyl_6h_delta_exp_GENESET/6h_delta_exp.txt.summary.pdf > mtyl_enrichment/hyper_mtyl_6h_delta_exp_GENESET/6h_delta_exp.txt.summary.png\n",
      "done!\n",
      "mtyl_enrichment/hyper_mtyl_6h_delta_stbl_GENESET/6h_delta_stbl.txt.summary.pdf > mtyl_enrichment/hyper_mtyl_6h_delta_stbl_GENESET/6h_delta_stbl.txt.summary.png\n",
      "done!\n",
      "mtyl_enrichment/hyper_mtyl_72h_delta_exp_GENESET/72h_delta_exp.txt.summary.pdf > mtyl_enrichment/hyper_mtyl_72h_delta_exp_GENESET/72h_delta_exp.txt.summary.png\n",
      "done!\n",
      "mtyl_enrichment/hyper_mtyl_hl60_delta_te_GENESET/hl60_delta_te.txt.summary.pdf > mtyl_enrichment/hyper_mtyl_hl60_delta_te_GENESET/hl60_delta_te.txt.summary.png\n",
      "done!\n",
      "mtyl_enrichment/hyper_mtyl_kg1_delta_exp_GENESET/kg1_delta_exp.txt.summary.pdf > mtyl_enrichment/hyper_mtyl_kg1_delta_exp_GENESET/kg1_delta_exp.txt.summary.png\n",
      "done!\n",
      "mtyl_enrichment/hyper_mtyl_kg1_delta_stbl_GENESET/kg1_delta_stbl.txt.summary.pdf > mtyl_enrichment/hyper_mtyl_kg1_delta_stbl_GENESET/kg1_delta_stbl.txt.summary.png\n",
      "done!\n",
      "mtyl_enrichment/hyper_mtyl_molm14_delta_exp_GENESET/molm14_delta_exp.txt.summary.pdf > mtyl_enrichment/hyper_mtyl_molm14_delta_exp_GENESET/molm14_delta_exp.txt.summary.png\n",
      "done!\n",
      "mtyl_enrichment/hyper_mtyl_molm14_delta_stbl_GENESET/molm14_delta_stbl.txt.summary.pdf > mtyl_enrichment/hyper_mtyl_molm14_delta_stbl_GENESET/molm14_delta_stbl.txt.summary.png\n",
      "done!\n",
      "mtyl_enrichment/hyper_mtyl_ociaml2_delta_exp_GENESET/ociaml2_delta_exp.txt.summary.pdf > mtyl_enrichment/hyper_mtyl_ociaml2_delta_exp_GENESET/ociaml2_delta_exp.txt.summary.png\n",
      "done!\n",
      "mtyl_enrichment/hyper_mtyl_ociaml2_delta_stbl_GENESET/ociaml2_delta_stbl.txt.summary.pdf > mtyl_enrichment/hyper_mtyl_ociaml2_delta_stbl_GENESET/ociaml2_delta_stbl.txt.summary.png\n",
      "done!\n",
      "mtyl_enrichment/hyper_mtyl_ociaml3_delta_exp_GENESET/ociaml3_delta_exp.txt.summary.pdf > mtyl_enrichment/hyper_mtyl_ociaml3_delta_exp_GENESET/ociaml3_delta_exp.txt.summary.png\n",
      "done!\n",
      "mtyl_enrichment/hyper_mtyl_ociaml3_delta_stbl_GENESET/ociaml3_delta_stbl.txt.summary.pdf > mtyl_enrichment/hyper_mtyl_ociaml3_delta_stbl_GENESET/ociaml3_delta_stbl.txt.summary.png\n",
      "done!\n",
      "mtyl_enrichment/hyper_mtyl_thp1_delta_exp_GENESET/thp1_delta_exp.txt.summary.pdf > mtyl_enrichment/hyper_mtyl_thp1_delta_exp_GENESET/thp1_delta_exp.txt.summary.png\n",
      "done!\n",
      "mtyl_enrichment/hyper_mtyl_thp1_delta_stbl_GENESET/thp1_delta_stbl.txt.summary.pdf > mtyl_enrichment/hyper_mtyl_thp1_delta_stbl_GENESET/thp1_delta_stbl.txt.summary.png\n",
      "done!\n",
      "mtyl_enrichment/hypo_mtyl_120h_delta_exp_GENESET/120h_delta_exp.txt.summary.pdf > mtyl_enrichment/hypo_mtyl_120h_delta_exp_GENESET/120h_delta_exp.txt.summary.png\n",
      "done!\n",
      "mtyl_enrichment/hypo_mtyl_120h_delta_stbl_GENESET/120h_delta_stbl.txt.summary.pdf > mtyl_enrichment/hypo_mtyl_120h_delta_stbl_GENESET/120h_delta_stbl.txt.summary.png\n",
      "done!\n",
      "mtyl_enrichment/hypo_mtyl_6h_delta_exp_GENESET/6h_delta_exp.txt.summary.pdf > mtyl_enrichment/hypo_mtyl_6h_delta_exp_GENESET/6h_delta_exp.txt.summary.png\n",
      "done!\n",
      "mtyl_enrichment/hypo_mtyl_6h_delta_stbl_GENESET/6h_delta_stbl.txt.summary.pdf > mtyl_enrichment/hypo_mtyl_6h_delta_stbl_GENESET/6h_delta_stbl.txt.summary.png\n",
      "done!\n",
      "mtyl_enrichment/hypo_mtyl_72h_delta_exp_GENESET/72h_delta_exp.txt.summary.pdf > mtyl_enrichment/hypo_mtyl_72h_delta_exp_GENESET/72h_delta_exp.txt.summary.png\n",
      "done!\n",
      "mtyl_enrichment/hypo_mtyl_hl60_delta_te_GENESET/hl60_delta_te.txt.summary.pdf > mtyl_enrichment/hypo_mtyl_hl60_delta_te_GENESET/hl60_delta_te.txt.summary.png\n",
      "done!\n",
      "mtyl_enrichment/hypo_mtyl_kg1_delta_exp_GENESET/kg1_delta_exp.txt.summary.pdf > mtyl_enrichment/hypo_mtyl_kg1_delta_exp_GENESET/kg1_delta_exp.txt.summary.png\n",
      "done!\n",
      "mtyl_enrichment/hypo_mtyl_kg1_delta_stbl_GENESET/kg1_delta_stbl.txt.summary.pdf > mtyl_enrichment/hypo_mtyl_kg1_delta_stbl_GENESET/kg1_delta_stbl.txt.summary.png\n",
      "done!\n",
      "mtyl_enrichment/hypo_mtyl_molm14_delta_exp_GENESET/molm14_delta_exp.txt.summary.pdf > mtyl_enrichment/hypo_mtyl_molm14_delta_exp_GENESET/molm14_delta_exp.txt.summary.png\n",
      "done!\n",
      "mtyl_enrichment/hypo_mtyl_molm14_delta_stbl_GENESET/molm14_delta_stbl.txt.summary.pdf > mtyl_enrichment/hypo_mtyl_molm14_delta_stbl_GENESET/molm14_delta_stbl.txt.summary.png\n",
      "done!\n",
      "mtyl_enrichment/hypo_mtyl_ociaml2_delta_exp_GENESET/ociaml2_delta_exp.txt.summary.pdf > mtyl_enrichment/hypo_mtyl_ociaml2_delta_exp_GENESET/ociaml2_delta_exp.txt.summary.png\n",
      "done!\n",
      "mtyl_enrichment/hypo_mtyl_ociaml2_delta_stbl_GENESET/ociaml2_delta_stbl.txt.summary.pdf > mtyl_enrichment/hypo_mtyl_ociaml2_delta_stbl_GENESET/ociaml2_delta_stbl.txt.summary.png\n",
      "done!\n",
      "mtyl_enrichment/hypo_mtyl_ociaml3_delta_exp_GENESET/ociaml3_delta_exp.txt.summary.pdf > mtyl_enrichment/hypo_mtyl_ociaml3_delta_exp_GENESET/ociaml3_delta_exp.txt.summary.png\n",
      "done!\n",
      "mtyl_enrichment/hypo_mtyl_ociaml3_delta_stbl_GENESET/ociaml3_delta_stbl.txt.summary.pdf > mtyl_enrichment/hypo_mtyl_ociaml3_delta_stbl_GENESET/ociaml3_delta_stbl.txt.summary.png\n",
      "done!\n",
      "mtyl_enrichment/hypo_mtyl_thp1_delta_exp_GENESET/thp1_delta_exp.txt.summary.pdf > mtyl_enrichment/hypo_mtyl_thp1_delta_exp_GENESET/thp1_delta_exp.txt.summary.png\n",
      "done!\n",
      "mtyl_enrichment/hypo_mtyl_thp1_delta_stbl_GENESET/thp1_delta_stbl.txt.summary.pdf > mtyl_enrichment/hypo_mtyl_thp1_delta_stbl_GENESET/thp1_delta_stbl.txt.summary.png\n",
      "done!\n"
     ]
    }
   ],
   "source": [
    "%%bash \n",
    "for pdf in mtyl_enrichment/*_GENESET/*.txt.summary.pdf; do \n",
    "    png=${pdf/.pdf/.png}\n",
    "    di=`dirname $pdf`\n",
    "    out=`basename $di`\n",
    "    outpng=${out/_GENESET/.png}\n",
    "    outpdf=${out/_GENESET/.pdf}\n",
    "    \n",
    "    bash /rumi/shams/abe/GitHub/Abe/my_scripts/pdf2png.sh $pdf\n",
    "    cp $pdf mtyl_enrichment/plots/$outpdf\n",
    "    mv $png mtyl_enrichment/plots/$outpng\n",
    "done "
   ]
  },
  {
   "cell_type": "markdown",
   "metadata": {},
   "source": [
    "5. Write README.md draft\n",
    "    - Write HTML codes which link all plots into a `README.md` format to prepare GitHub friendly report"
   ]
  },
  {
   "cell_type": "code",
   "execution_count": 25,
   "metadata": {},
   "outputs": [],
   "source": [
    "%%bash \n",
    "readme='mtyl_enrichment.md'\n",
    "touch $readme\n",
    "for f in mtyl_enrichment/plots/*.png; do \n",
    "    b=`basename $f`\n",
    "    t=${b/.png/}\n",
    "    echo '#### '$t >> $readme\n",
    "    echo -e \"<img src=\\\"\"$f\"\\\" title=\\\"\"$t\"\\\" style=\\\"width:1000px\\\">\\n\" >> $readme\n",
    "done "
   ]
  },
  {
   "cell_type": "markdown",
   "metadata": {},
   "source": [
    "## Hyper-geometric test\n",
    "\n",
    "### Goal\n",
    "Here, I aim to do _hyper-geometric test_ on enriched genesets (iPAGE results) in CRISPR screening experiment (Rho scores) to test hyper/hypo methylation enrichment. "
   ]
  },
  {
   "cell_type": "markdown",
   "metadata": {},
   "source": [
    "___\n",
    "- Clean up iPAGE results with no signal"
   ]
  },
  {
   "cell_type": "raw",
   "metadata": {},
   "source": [
    "%%bash \n",
    "for pv in `ls screen/CRISPRi_HL60_rho/*/pvmatrix.*.txt`; do \n",
    "    b=`basename $pv`; b=${b/pvmatrix./};b=${b/.txt/}\n",
    "    if  [ \"$(wc -l < $pv)\" -eq \"$(echo '1')\" ]; then \n",
    "        echo `dirname $pv` $b NO SIGNAL!\n",
    "        rm -v $pv\n",
    "    elif [ \"$(wc -l < $pv)\" -eq \"$(echo '0')\" ]; then \n",
    "        echo `dirname $pv` $b NO DATA!\n",
    "        rm -v $pv\n",
    "    else\n",
    "        echo `dirname $pv` $b `cat $pv | wc -l`\n",
    "    fi\n",
    "    echo '------------'\n",
    "done "
   ]
  },
  {
   "cell_type": "markdown",
   "metadata": {},
   "source": [
    "1. Read iPAGE results into python"
   ]
  },
  {
   "cell_type": "code",
   "execution_count": 8,
   "metadata": {},
   "outputs": [
    {
     "name": "stdout",
     "output_type": "stream",
     "text": [
      "\u001b[0m\u001b[01;34mhl60_DAC_processing_output\u001b[0m/\r\n",
      "hl60_DAC_processing_output_genetable_collapsed.txt\r\n",
      "\u001b[01;34mhl60_GSK_processing_output\u001b[0m/\r\n",
      "hl60_GSK_processing_output_genetable_collapsed.txt\r\n"
     ]
    }
   ],
   "source": [
    "ls CRISPRi-screen/hl60_exp2"
   ]
  },
  {
   "cell_type": "code",
   "execution_count": 7,
   "metadata": {},
   "outputs": [
    {
     "name": "stdout",
     "output_type": "stream",
     "text": [
      "\u001b[0m\u001b[01;34mhl60_DAC_processing_output_gamma\u001b[0m/\r\n",
      "hl60_DAC_processing_output_gamma.txt\r\n",
      "hl60_DAC_processing_output_genetable_collapsed.xlsx\r\n",
      "\u001b[01;34mhl60_DAC_processing_output_rho\u001b[0m/\r\n",
      "hl60_DAC_processing_output_rho.txt\r\n",
      "ipage.out\r\n",
      "README.md\r\n"
     ]
    }
   ],
   "source": [
    "ls CRISPRi-screen/hl60_exp1"
   ]
  },
  {
   "cell_type": "code",
   "execution_count": null,
   "metadata": {},
   "outputs": [],
   "source": [
    "# https://bioinformatics.stackexchange.com/questions/5400/how-to-convert-data-in-gmt-format-to-dataframe\n",
    "# https://gseapy.readthedocs.io/en/latest/gseapy_tutorial.html"
   ]
  },
  {
   "cell_type": "code",
   "execution_count": 28,
   "metadata": {},
   "outputs": [],
   "source": [
    "import pandas as pd\n",
    "from glob import glob \n",
    "import sys\n",
    "\n",
    "sys.path.append('/rumi/shams/abe/GitHub/Abe/my_scripts/')\n",
    "\n",
    "import ipage_down as ipd"
   ]
  },
  {
   "cell_type": "code",
   "execution_count": 32,
   "metadata": {},
   "outputs": [
    {
     "data": {
      "text/plain": [
       "function"
      ]
     },
     "execution_count": 32,
     "metadata": {},
     "output_type": "execute_result"
    }
   ],
   "source": [
    "type(ipd.make_page_dict)"
   ]
  },
  {
   "cell_type": "code",
   "execution_count": 31,
   "metadata": {},
   "outputs": [
    {
     "data": {
      "text/plain": [
       "['make_page_dict',\n",
       " 'read_gmt',\n",
       " 'read_page_annotations',\n",
       " 'read_page_index',\n",
       " 'read_page_names',\n",
       " 'subset_dict']"
      ]
     },
     "execution_count": 31,
     "metadata": {},
     "output_type": "execute_result"
    }
   ],
   "source": [
    "[\n",
    "    'make_page_dict',\n",
    "    'read_gmt',\n",
    "    'read_page_annotations',\n",
    "    'read_page_index',\n",
    "    'read_page_names',\n",
    "    'subset_dict'\n",
    "]"
   ]
  },
  {
   "cell_type": "code",
   "execution_count": 2,
   "metadata": {},
   "outputs": [],
   "source": [
    "def get_enriched(pagefolder,side='L'):\n",
    "    paths = glob(f'{pagefolder}/*/pvmatrix.{side}.txt')\n",
    "\n",
    "    out = {} \n",
    "    for f in paths:\n",
    "        page = make_page_dict(f)\n",
    "        if 'index' in page['annotations'].keys():\n",
    "            key = page['gs_name']\n",
    "#             out[key] = page['data'].index.tolist()\n",
    "            out[key] = [page['annotations']['index'][gs] for gs in page['data'].index.tolist()]\n",
    "        \n",
    "    return out"
   ]
  },
  {
   "cell_type": "code",
   "execution_count": null,
   "metadata": {},
   "outputs": [],
   "source": [
    "D = read_page_index('/flash/bin/iPAGEv1.0/PAGE_DATA/ANNOTATIONS/human_c2_gs/human_c2_gs_index.txt')"
   ]
  },
  {
   "cell_type": "code",
   "execution_count": null,
   "metadata": {},
   "outputs": [],
   "source": []
  },
  {
   "cell_type": "code",
   "execution_count": null,
   "metadata": {},
   "outputs": [],
   "source": [
    "enrich = get_enriched('screen/CRISPRi_HL60_rho/')"
   ]
  },
  {
   "cell_type": "code",
   "execution_count": null,
   "metadata": {},
   "outputs": [],
   "source": []
  },
  {
   "cell_type": "code",
   "execution_count": null,
   "metadata": {},
   "outputs": [],
   "source": []
  },
  {
   "cell_type": "code",
   "execution_count": null,
   "metadata": {},
   "outputs": [],
   "source": [
    "import numpy as np"
   ]
  },
  {
   "cell_type": "code",
   "execution_count": null,
   "metadata": {},
   "outputs": [],
   "source": [
    "out.values()"
   ]
  },
  {
   "cell_type": "code",
   "execution_count": null,
   "metadata": {},
   "outputs": [],
   "source": []
  },
  {
   "cell_type": "code",
   "execution_count": null,
   "metadata": {},
   "outputs": [],
   "source": []
  },
  {
   "cell_type": "code",
   "execution_count": null,
   "metadata": {},
   "outputs": [],
   "source": []
  },
  {
   "cell_type": "code",
   "execution_count": null,
   "metadata": {},
   "outputs": [],
   "source": [
    "l_page = [make_page_dict(path) for path in glob('screen/CRISPRi_HL60_rho/*/pvmatrix.L.txt')]\n",
    "r_page = [make_page_dict(path) for path in glob('screen/CRISPRi_HL60_rho/*/pvmatrix.R.txt')]"
   ]
  },
  {
   "cell_type": "markdown",
   "metadata": {},
   "source": [
    "2. Run the hypergeom test\n",
    "\n",
    "\n",
    "\n"
   ]
  },
  {
   "cell_type": "markdown",
   "metadata": {},
   "source": [
    "https://github.com/JohnDeJesus22/DataScienceMathFunctions/blob/master/hypergeometricfunctions.py#L38"
   ]
  },
  {
   "cell_type": "code",
   "execution_count": null,
   "metadata": {},
   "outputs": [],
   "source": [
    "import numpy as np\n",
    "import matplotlib.pyplot as plt\n",
    "from scipy.special import comb\n",
    "\n",
    "def hypergeom_pmf(N, A, n, x):\n",
    "    '''\n",
    "    Probability Mass Function for Hypergeometric Distribution\n",
    "    :param N: population size\n",
    "    :param A: total number of desired items in N\n",
    "    :param n: number of draws made from N\n",
    "    :param x: number of desired items in our draw of n items\n",
    "    :returns: PMF computed at x\n",
    "    '''\n",
    "    Achoosex = comb(A,x)\n",
    "    NAchoosenx = comb(N-A, n-x)\n",
    "    Nchoosen = comb(N,n)\n",
    "    \n",
    "    return (Achoosex)*NAchoosenx/Nchoosen\n",
    "    \n",
    "    \n",
    "def hypergeom_plot(N, A, n):\n",
    "    '''\n",
    "    Visualization of Hypergeometric Distribution for given parameters\n",
    "    '''\n",
    "    x = np.arange(0, n+1)\n",
    "    y = [hypergeom_pmf(N, A, n, x) for x in range(n+1)]\n",
    "    plt.plot(x, y, 'bo')\n",
    "    plt.vlines(x, 0, y, lw=2)\n",
    "    plt.xlabel('# of desired items in our draw')\n",
    "    plt.ylabel('Probablities')\n",
    "    plt.title('Hypergeometric Distribution Plot')\n",
    "    plt.show()\n"
   ]
  },
  {
   "cell_type": "code",
   "execution_count": null,
   "metadata": {},
   "outputs": [],
   "source": [
    "hyper, hypo = [set(list(mtyl.name)) for mtyl in two_sided_mtyl()]"
   ]
  },
  {
   "cell_type": "code",
   "execution_count": null,
   "metadata": {},
   "outputs": [],
   "source": [
    "l_page"
   ]
  },
  {
   "cell_type": "code",
   "execution_count": null,
   "metadata": {},
   "outputs": [],
   "source": [
    "gmt = l_page[3]['annotations']['gmt']\n",
    "pw = [gmt[pw]['genes'] for pw in gmt][0]"
   ]
  },
  {
   "cell_type": "code",
   "execution_count": null,
   "metadata": {},
   "outputs": [],
   "source": []
  },
  {
   "cell_type": "code",
   "execution_count": null,
   "metadata": {},
   "outputs": [],
   "source": []
  },
  {
   "cell_type": "code",
   "execution_count": null,
   "metadata": {},
   "outputs": [],
   "source": [
    "def intersection(lst1, lst2): \n",
    "    lst3 = [value for value in lst1 if value in lst2] \n",
    "    return lst3 "
   ]
  },
  {
   "cell_type": "code",
   "execution_count": null,
   "metadata": {},
   "outputs": [],
   "source": [
    "N = len(hyper)\n",
    "A = len(intersection(hyper, pw))"
   ]
  },
  {
   "cell_type": "code",
   "execution_count": null,
   "metadata": {},
   "outputs": [],
   "source": [
    "help(hypergeom_pmf)"
   ]
  },
  {
   "cell_type": "markdown",
   "metadata": {},
   "source": [
    "For this matter, we have:\n",
    "\n",
    "    ○ N = # of all genes \n",
    "    ○ n/A = # of metylated genes OR enriched pathway's genes \n",
    "    ○ x = # of genes in n and A overlap "
   ]
  },
  {
   "cell_type": "code",
   "execution_count": null,
   "metadata": {},
   "outputs": [],
   "source": [
    "hypergeom_pmf(100,10,5,4)"
   ]
  },
  {
   "cell_type": "code",
   "execution_count": null,
   "metadata": {},
   "outputs": [],
   "source": [
    "from utility import *"
   ]
  },
  {
   "cell_type": "code",
   "execution_count": null,
   "metadata": {
    "scrolled": true
   },
   "outputs": [],
   "source": [
    "screen = pd.read_excel('screen/CRISPRi_HL60_DAC_genetable_collapsed.xlsx')\n",
    "\n",
    "Data['hl60']['rho'] = make_score_df(screen, 'rho')\n",
    "Data['hl60']['gamma'] = make_score_df(screen, 'gamma')"
   ]
  },
  {
   "cell_type": "markdown",
   "metadata": {},
   "source": [
    "OK! I need to write something that can read index and names in iPAGE format, easy!"
   ]
  },
  {
   "cell_type": "code",
   "execution_count": null,
   "metadata": {},
   "outputs": [],
   "source": []
  }
 ],
 "metadata": {
  "kernelspec": {
   "display_name": "Python [conda env:deseq]",
   "language": "python",
   "name": "conda-env-deseq-py"
  },
  "language_info": {
   "codemirror_mode": {
    "name": "ipython",
    "version": 3
   },
   "file_extension": ".py",
   "mimetype": "text/x-python",
   "name": "python",
   "nbconvert_exporter": "python",
   "pygments_lexer": "ipython3",
   "version": "3.7.3"
  }
 },
 "nbformat": 4,
 "nbformat_minor": 2
}
