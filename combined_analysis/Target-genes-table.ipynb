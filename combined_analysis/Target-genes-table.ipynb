{
 "cells": [
  {
   "cell_type": "markdown",
   "metadata": {},
   "source": [
    "Table of final selected target genes with all logFCs, pvalues and screening scores."
   ]
  },
  {
   "cell_type": "markdown",
   "metadata": {
    "tags": []
   },
   "source": [
    "# Selected target genes\n",
    "\n",
    "__Rho_down & Exp_down & Hyper_m6A__\n",
    "\n",
    "> #### __SQLE__\n",
    "> #### Value of SQLE Expression in Prognostic Evaluation of Patients with Acute Myeloid Leukemia \n",
    "https://pubmed.ncbi.nlm.nih.gov/33554790/\n",
    "\n",
    "> #### __INTS5__\n",
    "> #### Coordinated Alterations in RNA Splicing and Epigenetic Regulation Drive Leukemogenesis \n",
    "https://www.nature.com/articles/s41586-019-1618-0\n",
    ">> Transcriptional pausing was also evident at INTS5 and INTS14 in SRSF2 mutant cells (Extended Data Fig. 7r, ​,s),s), which, in combination with aberrant splicing of several Integrator subunits (Supplementary Table 24), suggested impaired function of the entire Integrator complex in SRSF2 mutant cells\n",
    "\n",
    "> #### __BCL2__\n",
    "> #### Venetoclax combined with decitabine or azacitidine in treatment-naive, elderly patients with acute myeloid leukemia \n",
    "> #### Clinical Trials & Observations \n",
    "https://doi.org/10.1182/blood-2018-08-868752\n",
    "\n",
    "> #### __MYBBP1A__\n",
    "> #### Identification of Myb-binding Protein 1A (MYBBP1A) as a Novel Substrate for Aurora B Kinase \n",
    "> https://doi.org/10.1074/jbc.M109.068312"
   ]
  },
  {
   "cell_type": "code",
   "execution_count": 3,
   "metadata": {},
   "outputs": [],
   "source": [
    "import sys \n",
    "import pandas as pd \n",
    "import numpy as np\n",
    "from matplotlib.pyplot import subplots\n",
    "from itertools import chain, product\n",
    "from matplotlib_venn import venn3,venn3_circles, venn3_unweighted\n",
    "from venn import venn \n",
    "\n",
    "import upsetplot as us\n",
    "from matplotlib.backends.backend_pdf import PdfPages\n",
    "\n",
    "sys.path.append('../')\n",
    "\n",
    "from util import *"
   ]
  },
  {
   "cell_type": "code",
   "execution_count": 4,
   "metadata": {},
   "outputs": [],
   "source": [
    "# wd = '/rumi/shams/abe/Projects/Decitabine-treatment/'\n",
    "wd = '/data_gilbert/home/aarab/Projects/Decitabine-treatment'"
   ]
  },
  {
   "cell_type": "markdown",
   "metadata": {
    "tags": []
   },
   "source": [
    "## Load data\n",
    "Comparing treated with Decitabine vs. non-treated:\n",
    "- **$\\Delta$RNA methylation**  (hl60 cell line)\n",
    "- **$\\Delta$Translational efficiency** (hl60 cell line)\n",
    "- **$\\Delta$RNA expression** (For all 6 AML cell lines)\n",
    "- **$\\Delta$RNA stability** (For all 6 AML cell lines)\n",
    "- **$\\Delta$Phenotype, CRISPRi-screen $\\rho$(rho) score** (hl60 and molm13 cell lines) "
   ]
  },
  {
   "cell_type": "code",
   "execution_count": 5,
   "metadata": {},
   "outputs": [],
   "source": [
    "comps = load_data(comparisons=True,wd=wd)"
   ]
  },
  {
   "cell_type": "code",
   "execution_count": 6,
   "metadata": {},
   "outputs": [],
   "source": [
    "scrns = load_data(screens=True,wd=wd)"
   ]
  },
  {
   "cell_type": "markdown",
   "metadata": {
    "tags": []
   },
   "source": [
    "## Generate final merged table"
   ]
  },
  {
   "cell_type": "code",
   "execution_count": 10,
   "metadata": {},
   "outputs": [],
   "source": [
    "all_genes_list = [\n",
    "    'SQLE',\n",
    "    'INTS5',\n",
    "    'BCL2',\n",
    "    'MYBBP1A'\n",
    "]"
   ]
  },
  {
   "cell_type": "code",
   "execution_count": 385,
   "metadata": {},
   "outputs": [],
   "source": [
    "# all_genes = {}\n",
    "# all_genes_list = []\n",
    "\n",
    "# for i,j,k in iter_by_two(['up', 'down'],['up', 'down'],['Hyper', 'Hypo']):\n",
    "    \n",
    "#     for third in ['Exp','TE','Stbl']:\n",
    "#         name = f'Rho_{i} & {k}_m6A & {third}_{j}'\n",
    "#         genes = list(set(eval(f'Rho_{i}')).intersection(eval(f'{k}_m6A'),eval(f'{third}_{j}')))\n",
    "#         all_genes[name] = genes\n",
    "#         all_genes_list = all_genes_list + genes\n",
    "        \n",
    "# all_genes_list = set(all_genes_list)"
   ]
  },
  {
   "cell_type": "code",
   "execution_count": 8,
   "metadata": {},
   "outputs": [],
   "source": [
    "def get_intersect_df(genes, data, key=None):\n",
    "    # get intersects \n",
    "    if key is not None: \n",
    "        df = data[key]\n",
    "    else: \n",
    "        df = data\n",
    "\n",
    "    out = df.iloc[[i for i, g in enumerate (df.gene_name) if g in list(genes)],]\n",
    "\n",
    "    return out\n",
    "\n",
    "\n",
    "def make_comp_final_table(genes,data):\n",
    "    E = get_intersect_df(genes, data['delta_exp'])\n",
    "    S = get_intersect_df(genes, data['delta_stbl'])\n",
    "    T = get_intersect_df(genes, data['delta_te'])\n",
    "\n",
    "    out = pd.DataFrame(index=genes)\n",
    "\n",
    "    out = pd.concat([\n",
    "        out,\n",
    "        # RNA Expression\n",
    "        E.reset_index(drop=True).set_index('gene_name').add_prefix('Exp.'),\n",
    "        # RNA Stability \n",
    "        S.reset_index(drop=True).set_index('gene_name').add_prefix('Stbl.'),\n",
    "        # Translational Efficiency\n",
    "        T.reset_index(drop=True).set_index('gene_name').add_prefix('TE.'),\n",
    "    ],axis=1)\n",
    "\n",
    "    out = out.round(5)\n",
    "    return out\n",
    "\n",
    "def make_scrn_final_table(genes,data):\n",
    "    return merge_screen_data(\n",
    "        cells= ['hl60','molm13'], \n",
    "        exps = ['exp1','exp2','exp'], \n",
    "        drugs=['DAC'], \n",
    "        scores = ['gamma','rho'], data=data\n",
    "    ).loc[genes,:]\n",
    "\n",
    "def make_mtyl_final_table(genes):\n",
    "    mtyl_bed12 = pd.read_csv('../meRIP-seq/hl60_delta_mtyl_table.txt',sep='\\t').rename(columns={'name':'gene_name'})\n",
    "    M = get_intersect_df(genes,mtyl_bed12)\n",
    "\n",
    "    # RNA Methylation \n",
    "    out = M.reset_index(drop=True)\n",
    "    return out "
   ]
  },
  {
   "cell_type": "markdown",
   "metadata": {
    "tags": []
   },
   "source": [
    "### Write excel file "
   ]
  },
  {
   "cell_type": "code",
   "execution_count": 17,
   "metadata": {},
   "outputs": [],
   "source": [
    "# multi index\n",
    "# out = \n",
    "# pd.DataFrame(\n",
    "#     # [key.split(' & ') + [val] for key, value in all_genes.items() \n",
    "#      # for val in value if value]\n",
    "# )#.rename({0:'1st',1:'2ed',2:'3ed',3:'gene_name'},axis=1)\n",
    "\n",
    "sheet1 = make_comp_final_table(genes = all_genes_list,data = comps)\n",
    "sheet2 = make_scrn_final_table(genes = all_genes_list,data = scrns)\n",
    "sheet3 = make_mtyl_final_table(genes = all_genes_list)"
   ]
  },
  {
   "cell_type": "code",
   "execution_count": 18,
   "metadata": {},
   "outputs": [],
   "source": [
    "# # multi index\n",
    "# out = pd.DataFrame(\n",
    "#     [key.split(' & ') + [val] for key, value in all_genes.items() \n",
    "#      for val in value if value]\n",
    "# ).rename({0:'1st',1:'2ed',2:'3ed',3:'gene_name'},axis=1)\n",
    "\n",
    "# sheet1 = make_comp_final_table(genes = all_genes_list,data = comps).loc[out.gene_name,:].set_index(pd.MultiIndex.from_frame(out))\n",
    "# sheet2 = make_scrn_final_table(genes = all_genes_list,data = scrns).loc[out.gene_name,:].set_index(pd.MultiIndex.from_frame(out))\n",
    "# sheet3 = make_mtyl_final_table(genes = all_genes_list)"
   ]
  },
  {
   "cell_type": "code",
   "execution_count": 19,
   "metadata": {},
   "outputs": [],
   "source": [
    "# intersections\n",
    "writer = pd.ExcelWriter(f'Target-genes/differential-analysis-values.xlsx', engine='xlsxwriter')\n",
    "\n",
    "sheet1.to_excel(writer, sheet_name='Comparisons')\n",
    "sheet2.to_excel(writer, sheet_name='CRISPRi-screens')\n",
    "sheet3.to_excel(writer, sheet_name='Methylation',index=False)\n",
    "\n",
    "writer.save()"
   ]
  },
  {
   "cell_type": "markdown",
   "metadata": {
    "tags": []
   },
   "source": [
    "### Print gene names"
   ]
  },
  {
   "cell_type": "code",
   "execution_count": 20,
   "metadata": {},
   "outputs": [],
   "source": [
    "# for key, value in all_genes.items():\n",
    "#     if value: \n",
    "#         print(key)\n",
    "#         for val in value: \n",
    "#             print(f'\\t{val}')\n",
    "#         print('_'*30)"
   ]
  },
  {
   "cell_type": "code",
   "execution_count": 21,
   "metadata": {},
   "outputs": [
    {
     "name": "stdout",
     "output_type": "stream",
     "text": [
      "Wed Mar 30 11:19:53 PDT 2022\n"
     ]
    }
   ],
   "source": [
    "!date"
   ]
  }
 ],
 "metadata": {
  "kernelspec": {
   "display_name": "Python [conda env:down]",
   "language": "python",
   "name": "conda-env-down-py"
  },
  "language_info": {
   "codemirror_mode": {
    "name": "ipython",
    "version": 3
   },
   "file_extension": ".py",
   "mimetype": "text/x-python",
   "name": "python",
   "nbconvert_exporter": "python",
   "pygments_lexer": "ipython3",
   "version": "3.6.13"
  }
 },
 "nbformat": 4,
 "nbformat_minor": 4
}
