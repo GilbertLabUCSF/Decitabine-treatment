{
 "cells": [
  {
   "cell_type": "code",
   "execution_count": 7,
   "id": "03084cba-4f3a-4385-81b7-710e6609a9dc",
   "metadata": {},
   "outputs": [],
   "source": [
    "from functools import reduce\n",
    "import pathlib\n",
    "import pandas as pd \n",
    "import sys\n",
    "import numpy as np\n",
    "import matplotlib.pyplot as plt\n",
    "from mpl_toolkits.axes_grid1 import make_axes_locatable\n",
    "from adjustText import adjust_text # https://stackoverflow.com/questions/34693991/repel-annotations-in-matplotlib\n",
    "\n",
    "# sys.path.append('/rumi/shams/abe/CanDI/')\n",
    "sys.path.append('/data_gilbert2/backups/aarab/CanDI')\n",
    "\n",
    "from CanDI import candi as can"
   ]
  },
  {
   "cell_type": "code",
   "execution_count": 8,
   "id": "4299d1a8-ab38-43d9-80f5-770289ba77fc",
   "metadata": {},
   "outputs": [
    {
     "data": {
      "text/plain": [
       "'2.0.8'"
      ]
     },
     "execution_count": 8,
     "metadata": {},
     "output_type": "execute_result"
    }
   ],
   "source": [
    "from glob import glob\n",
    "import bioinfokit\n",
    "bioinfokit.__version__"
   ]
  },
  {
   "cell_type": "code",
   "execution_count": 9,
   "id": "94fce0c0-d4a0-4d85-b741-0459370df9d6",
   "metadata": {},
   "outputs": [],
   "source": [
    "from scripts.util import *"
   ]
  },
  {
   "cell_type": "code",
   "execution_count": 10,
   "id": "7117caaf-e2f9-472d-933f-dbaa0c667fdb",
   "metadata": {},
   "outputs": [],
   "source": [
    "wd = '/data_gilbert/home/aarab/Projects/Decitabine-treatment'"
   ]
  },
  {
   "cell_type": "code",
   "execution_count": 11,
   "id": "8cf8350d-ed92-4754-9328-8aa83851462a",
   "metadata": {},
   "outputs": [],
   "source": [
    "sam_dependent_genes = [\n",
    "    'METTL1', 'FTSJ1', 'PRMT5', 'SETD6', 'FBL', 'DPH5', 'KMT2A', 'EEF2KMT', \n",
    "    'METTL8', 'PRMT1', 'METTL16', 'COQ3', 'PRMT7', 'PEMT', 'MEN1', 'CARM1', 'SETD7', 'TFB2M', \n",
    "    'TRMT61A', 'SETMAR', 'TRMT61B', 'MRM3', 'TRMT10C', 'PRMT3', 'WDR5',\n",
    "    'TFB1M', 'NSUN2', 'TARBP1', 'TRMT11', 'BUD23', 'DIMT1', 'METTL2A', \n",
    "    'TRMT6', 'RNMT', 'SUV39H1', 'TRMT1', 'FTSJ3', 'NOP2', 'ICMT', 'NSUN4', \n",
    "    'MRM2', 'EEF1AKMT3', 'EMG1', 'TRMT5', 'DNMT1', 'RRP8', 'SETDB2', 'THUMPD2', 'METTL5', \n",
    "    'PRDM16', 'EEF1AKMT1', 'SUV39H2', 'SETD9', 'CARNMT1', 'WDR4', 'COMTD1', 'ZCCHC4', \n",
    "    'PRMT6', 'EHMT2', 'MRM1', \n",
    "    'EEF1AKMT4'\n",
    "]"
   ]
  },
  {
   "cell_type": "code",
   "execution_count": 12,
   "id": "d405ccdc-6d5a-45bf-8306-b8b6806586ad",
   "metadata": {},
   "outputs": [
    {
     "data": {
      "text/plain": [
       "'Catalysis of the transfer of a methyl group from S-adenosyl-L-methionine to a substrate. [GOC:mah]'"
      ]
     },
     "execution_count": 12,
     "metadata": {},
     "output_type": "execute_result"
    }
   ],
   "source": [
    "all_sam_dependent_genes_df = pd.read_csv('RNA-seq/GOMF_SAM_DEPENDENT_METHYLTRANSFERASE_ACTIVITY.tsv',sep='\\t',header=None).set_index(0)\n",
    "\n",
    "all_sam_dependent_genes_df.loc['DESCRIPTION_BRIEF',1]"
   ]
  },
  {
   "cell_type": "code",
   "execution_count": 13,
   "id": "3f7ffbd7-9463-4f6a-9c92-665a8d60dde1",
   "metadata": {},
   "outputs": [],
   "source": [
    "all_sam_dependent_genes = all_sam_dependent_genes_df.loc['MAPPED_SYMBOLS',1].split(',')"
   ]
  },
  {
   "cell_type": "markdown",
   "id": "a59fd812-d5ba-4c7d-aec7-4eedae480966",
   "metadata": {
    "tags": []
   },
   "source": [
    "# Our CRISPRi screens\n",
    "DNMT1 inhibitor drugs "
   ]
  },
  {
   "cell_type": "code",
   "execution_count": 14,
   "id": "83c6e69e-ae73-492d-b048-d263e064d77b",
   "metadata": {},
   "outputs": [],
   "source": [
    "scrns = load_data(screens=True,wd=wd)"
   ]
  },
  {
   "cell_type": "code",
   "execution_count": 15,
   "id": "c1541493-4550-4899-882a-02b01b61db83",
   "metadata": {},
   "outputs": [
    {
     "data": {
      "text/plain": [
       "dict_keys(['hl60_exp1_DAC_rho', 'hl60_exp1_DAC_gamma', 'hl60_exp2_DAC_rho', 'hl60_exp2_DAC_gamma', 'hl60_exp2_GSK_rho', 'hl60_exp2_GSK_gamma', 'molm13_exp_DAC_rho', 'molm13_exp_DAC_gamma', 'molm13_exp_GSK_rho', 'molm13_exp_GSK_gamma'])"
      ]
     },
     "execution_count": 15,
     "metadata": {},
     "output_type": "execute_result"
    }
   ],
   "source": [
    "scrns.keys()"
   ]
  },
  {
   "cell_type": "code",
   "execution_count": 52,
   "id": "0fb5b422-adee-49b4-881e-fd9f677fc31a",
   "metadata": {},
   "outputs": [
    {
     "name": "stdout",
     "output_type": "stream",
     "text": [
      "up:  104\n",
      "down: 119\n"
     ]
    }
   ],
   "source": [
    "res,sen = find_top(scrns['hl60_exp1_DAC_rho'].astype(float), \n",
    "         'rho score',0.2,\n",
    "         'Mann-Whitney p-value',0.01)"
   ]
  },
  {
   "cell_type": "code",
   "execution_count": 62,
   "id": "225db192-0e7c-4267-b0b1-e05c0b457bea",
   "metadata": {},
   "outputs": [
    {
     "data": {
      "text/plain": [
       "'AMBRA1\",\"APCS\",\"API5\",\"ARGLU1\",\"ARHGAP30\",\"ARID4A\",\"ARIH1\",\"ATF7IP\",\"BCL2\",\"BLM\",\"BRMS1\",\"C16orf82\",\"C6orf57\",\"CCAR1\",\"CCDC125\",\"CCDC22\",\"CCDC53\",\"CENPB\",\"CHRM5\",\"CHTOP\",\"CIB4\",\"CMTR2\",\"COL4A5\",\"COMMD1\",\"COMMD2\",\"COMMD4\",\"CP\",\"CSDE1\",\"CSNK1A1\",\"CSNK2A1\",\"CTDSPL2\",\"CTPS1\",\"CXXC4\",\"CYLD\",\"DCP2\",\"DDA1\",\"DDX17\",\"DEF6\",\"DEFB125\",\"DET1\",\"DNAJA2\",\"DYNLRB1\",\"EIF3M\",\"ERCC2\",\"FAF2\",\"FAM58A\",\"FIBP\",\"FZR1\",\"GPATCH8\",\"GPR162\",\"GRB10\",\"HNRNPM\",\"ILF3\",\"INO80E\",\"INTS5\",\"KDM1A\",\"KIAA0195\",\"KIAA0196\",\"LHFPL5\",\"LSM14A\",\"MARK3\",\"MED23\",\"METTL9\",\"MON2\",\"MSN\",\"MTF1\",\"NANS\",\"NOP58\",\"NPRL3\",\"PCBP1\",\"PPP2R1A\",\"PPP6C\",\"PRKRIR\",\"PTEN\",\"PTPN7\",\"PUM1\",\"RAB5C\",\"RABEP1\",\"RALGAPB\",\"RASA2\",\"RASA3\",\"RBBP4\",\"RBM14\",\"RBM14-RBM4\",\"RBM5\",\"REG3G\",\"RFC1\",\"RGS19\",\"RHOA\",\"RNF4\",\"SAMD1\",\"SAP130\",\"SCAF1\",\"SCAF8\",\"SDHAF1\",\"SERF2\",\"SFPQ\",\"SIN3A\",\"SNRPB2\",\"SOCS5\",\"SQLE\",\"SS18\",\"SUPT20H\",\"SYVN1\",\"TAF6L\",\"TBC1D22B\",\"TBRG1\",\"TCERG1\",\"TFRC\",\"TONSL\",\"TOP1\",\"TPTE2\",\"TRIB1\",\"TTC39C\",\"USP22\",\"YTHDC1\",\"ZC3H12D\",\"ZC3H18\",\"ZMYM2'"
      ]
     },
     "execution_count": 62,
     "metadata": {},
     "output_type": "execute_result"
    }
   ],
   "source": [
    "'\",\"'.join(sen.index.to_list())"
   ]
  },
  {
   "cell_type": "code",
   "execution_count": 32,
   "id": "67d4c20c-cea4-455d-b13e-5f913d8401f8",
   "metadata": {},
   "outputs": [
    {
     "data": {
      "text/html": [
       "<div>\n",
       "<style scoped>\n",
       "    .dataframe tbody tr th:only-of-type {\n",
       "        vertical-align: middle;\n",
       "    }\n",
       "\n",
       "    .dataframe tbody tr th {\n",
       "        vertical-align: top;\n",
       "    }\n",
       "\n",
       "    .dataframe thead th {\n",
       "        text-align: right;\n",
       "    }\n",
       "</style>\n",
       "<table border=\"1\" class=\"dataframe\">\n",
       "  <thead>\n",
       "    <tr style=\"text-align: right;\">\n",
       "      <th></th>\n",
       "      <th>rho score</th>\n",
       "      <th>Mann-Whitney p-value</th>\n",
       "    </tr>\n",
       "    <tr>\n",
       "      <th>gene_name</th>\n",
       "      <th></th>\n",
       "      <th></th>\n",
       "    </tr>\n",
       "  </thead>\n",
       "  <tbody>\n",
       "    <tr>\n",
       "      <th>AACS</th>\n",
       "      <td>-0.206845</td>\n",
       "      <td>0.178195</td>\n",
       "    </tr>\n",
       "    <tr>\n",
       "      <th>AARD</th>\n",
       "      <td>-0.231037</td>\n",
       "      <td>0.017208</td>\n",
       "    </tr>\n",
       "    <tr>\n",
       "      <th>ACTR8</th>\n",
       "      <td>-0.252510</td>\n",
       "      <td>0.104162</td>\n",
       "    </tr>\n",
       "    <tr>\n",
       "      <th>ADGB</th>\n",
       "      <td>-0.200293</td>\n",
       "      <td>0.396290</td>\n",
       "    </tr>\n",
       "    <tr>\n",
       "      <th>ADIPOQ</th>\n",
       "      <td>-0.207956</td>\n",
       "      <td>0.137479</td>\n",
       "    </tr>\n",
       "    <tr>\n",
       "      <th>...</th>\n",
       "      <td>...</td>\n",
       "      <td>...</td>\n",
       "    </tr>\n",
       "    <tr>\n",
       "      <th>ZC3H18</th>\n",
       "      <td>-0.531268</td>\n",
       "      <td>0.000218</td>\n",
       "    </tr>\n",
       "    <tr>\n",
       "      <th>ZCCHC5</th>\n",
       "      <td>-0.299699</td>\n",
       "      <td>0.071541</td>\n",
       "    </tr>\n",
       "    <tr>\n",
       "      <th>ZMYM2</th>\n",
       "      <td>-0.274859</td>\n",
       "      <td>0.000901</td>\n",
       "    </tr>\n",
       "    <tr>\n",
       "      <th>ZMYM4</th>\n",
       "      <td>-0.210308</td>\n",
       "      <td>0.071970</td>\n",
       "    </tr>\n",
       "    <tr>\n",
       "      <th>ZP3</th>\n",
       "      <td>-0.257791</td>\n",
       "      <td>0.039363</td>\n",
       "    </tr>\n",
       "  </tbody>\n",
       "</table>\n",
       "<p>270 rows × 2 columns</p>\n",
       "</div>"
      ],
      "text/plain": [
       "           rho score  Mann-Whitney p-value\n",
       "gene_name                                 \n",
       "AACS       -0.206845              0.178195\n",
       "AARD       -0.231037              0.017208\n",
       "ACTR8      -0.252510              0.104162\n",
       "ADGB       -0.200293              0.396290\n",
       "ADIPOQ     -0.207956              0.137479\n",
       "...              ...                   ...\n",
       "ZC3H18     -0.531268              0.000218\n",
       "ZCCHC5     -0.299699              0.071541\n",
       "ZMYM2      -0.274859              0.000901\n",
       "ZMYM4      -0.210308              0.071970\n",
       "ZP3        -0.257791              0.039363\n",
       "\n",
       "[270 rows x 2 columns]"
      ]
     },
     "execution_count": 32,
     "metadata": {},
     "output_type": "execute_result"
    }
   ],
   "source": [
    "df = scrns['hl60_exp1_DAC_rho'].astype(float)\n"
   ]
  },
  {
   "cell_type": "code",
   "execution_count": 16,
   "id": "cf48e65d-14ea-4931-87e2-9358a113ebbb",
   "metadata": {},
   "outputs": [],
   "source": [
    "rho_df = merge_screen_data('hl60', ['exp1','exp2'], ['GSK','DAC'], 'rho', data=scrns)"
   ]
  },
  {
   "cell_type": "markdown",
   "id": "96f58460-2df2-4e50-b92d-5d5dd02dfe19",
   "metadata": {},
   "source": [
    "> MAT1A, MAT2A, MAT2B "
   ]
  },
  {
   "cell_type": "code",
   "execution_count": 17,
   "id": "7ae047b8-f432-40b6-b19b-c6ea85fa02e6",
   "metadata": {},
   "outputs": [
    {
     "data": {
      "text/plain": [
       "{'BUD23',\n",
       " 'CARNMT1',\n",
       " 'EEF1AKMT1',\n",
       " 'EEF1AKMT3',\n",
       " 'EEF1AKMT4',\n",
       " 'EEF2KMT',\n",
       " 'MRM2',\n",
       " 'MRM3',\n",
       " 'WDR5'}"
      ]
     },
     "execution_count": 17,
     "metadata": {},
     "output_type": "execute_result"
    }
   ],
   "source": [
    "set(sam_dependent_genes) ^ (set(sam_dependent_genes) & set(rho_df.index))"
   ]
  },
  {
   "cell_type": "code",
   "execution_count": 347,
   "id": "d2895b16-2673-4aca-a4f5-7c60f092765c",
   "metadata": {},
   "outputs": [],
   "source": [
    "rho_df_sam_dependent = rho_df.loc[set(rho_df.index) & set(sam_dependent_genes),]\n",
    "# rho_df_sam_dependent[rho_df_sam_dependent[\"hl60_exp1_DAC_rho pvalue\"] < 0.05]"
   ]
  },
  {
   "cell_type": "code",
   "execution_count": 100,
   "id": "93837b02-3b4f-4c3b-a464-87619327060f",
   "metadata": {},
   "outputs": [
    {
     "data": {
      "image/png": "[encoded data removed]",
      "text/plain": [
       "<Figure size 360x360 with 1 Axes>"
      ]
     },
     "metadata": {
      "needs_background": "light"
     },
     "output_type": "display_data"
    }
   ],
   "source": [
    "rho_df_sam_dependent = rho_df.loc[set(rho_df.index) & set(sam_dependent_genes),].reset_index()\n",
    "\n",
    "bioinfokit.visuz.GeneExpression.volcano(\n",
    "    rho_df_sam_dependent, \n",
    "    'hl60_exp1_DAC_rho score','hl60_exp1_DAC_rho pvalue', lfc_thr=(0.1,0.1),#pv_thr=(0.01,0.01),\n",
    "    dotsize=40,\n",
    "    geneid='gene_name',genenames='deg',show=True,axxlabel='rho score',markerdot='P',color= ('#1b9e77','grey','#7570b3') # ,'#e7298a','#66a61e','#e6ab02','#a6761d','#666666'\n",
    ")"
   ]
  },
  {
   "cell_type": "code",
   "execution_count": 102,
   "id": "ed248bd3-bdbc-456e-a69b-b7155fa9a5d8",
   "metadata": {},
   "outputs": [
    {
     "data": {
      "image/png": "[encoded data removed]",
      "text/plain": [
       "<Figure size 360x360 with 1 Axes>"
      ]
     },
     "metadata": {
      "needs_background": "light"
     },
     "output_type": "display_data"
    }
   ],
   "source": [
    "rho_df_sam_dependent = rho_df.loc[set(rho_df.index) & set(all_sam_dependent_genes),].reset_index()\n",
    "\n",
    "bioinfokit.visuz.GeneExpression.volcano(\n",
    "    rho_df_sam_dependent, \n",
    "    'hl60_exp1_DAC_rho score','hl60_exp1_DAC_rho pvalue', lfc_thr=(0.1,0.1),pv_thr=(0.05,0.05),\n",
    "    dotsize=40,\n",
    "    geneid='gene_name',genenames='deg',show=True,axxlabel='rho score',markerdot='P',color= ('#1b9e77','grey','#7570b3') # ,'#e7298a','#66a61e','#e6ab02','#a6761d','#666666'\n",
    ")"
   ]
  },
  {
   "cell_type": "code",
   "execution_count": 20,
   "id": "ff4ab58f-a0de-41c3-bce5-f05fde90a684",
   "metadata": {},
   "outputs": [],
   "source": [
    "# rho_df.loc[['MAT1A', 'MAT2A', 'MAT2B','DNMT3A','METTL14','METTL16'],] "
   ]
  },
  {
   "cell_type": "code",
   "execution_count": 21,
   "id": "20d4fca8",
   "metadata": {},
   "outputs": [],
   "source": [
    "# import stringdb\n",
    "\n",
    "# def run_enrichment(genes):\n",
    "#     string_ids = stringdb.get_string_ids(genes)\n",
    "#     enrichment_df = stringdb.get_enrichment(string_ids.queryItem).sort_values('number_of_genes',ascending=False)\n",
    "    \n",
    "#     df = enrichment_df[['inputGenes','p_value','fdr','description','term']]\n",
    "    \n",
    "#     return df"
   ]
  },
  {
   "cell_type": "markdown",
   "id": "7fad470e-26bc-4f05-841e-339b1ce0b523",
   "metadata": {},
   "source": [
    "# Our RNA-seq data\n"
   ]
  },
  {
   "cell_type": "code",
   "execution_count": 22,
   "id": "10bb250b-7fe5-4092-9811-5a08a7d5e4ac",
   "metadata": {},
   "outputs": [],
   "source": [
    "comps = load_data(comparisons=True,wd=wd)"
   ]
  },
  {
   "cell_type": "code",
   "execution_count": 103,
   "id": "9139ebb5-7039-4405-b13a-09f2810cf6c7",
   "metadata": {},
   "outputs": [
    {
     "data": {
      "text/plain": [
       "dict_keys(['delta_mtyl', 'delta_te', 'delta_exp', 'delta_stbl'])"
      ]
     },
     "execution_count": 103,
     "metadata": {},
     "output_type": "execute_result"
    }
   ],
   "source": [
    "comps.keys()"
   ]
  },
  {
   "cell_type": "code",
   "execution_count": 38,
   "id": "8f87d2df-088d-46e1-ba62-818a188f7a5f",
   "metadata": {},
   "outputs": [],
   "source": [
    "from bioinfokit import analys, visuz"
   ]
  },
  {
   "cell_type": "code",
   "execution_count": 105,
   "id": "05ecf431-6cf9-4c57-8eb9-64842ec0a668",
   "metadata": {},
   "outputs": [],
   "source": [
    "# comps['delta_te'][comps['delta_te'].gene_name.isin(sam_dependent_genes)]"
   ]
  },
  {
   "cell_type": "code",
   "execution_count": 361,
   "id": "556d8f10-aa0c-47a4-b6cb-82989ccb4c3b",
   "metadata": {},
   "outputs": [
    {
     "data": {
      "image/png": "[encoded data removed]",
      "text/plain": [
       "<Figure size 360x360 with 1 Axes>"
      ]
     },
     "metadata": {
      "needs_background": "light"
     },
     "output_type": "display_data"
    },
    {
     "data": {
      "image/png": "[encoded data removed]",
      "text/plain": [
       "<Figure size 360x360 with 1 Axes>"
      ]
     },
     "metadata": {
      "needs_background": "light"
     },
     "output_type": "display_data"
    },
    {
     "ename": "AssertionError",
     "evalue": "either significant or non-significant genes are missing; try to change lfc_thr or pv_thr to include both significant and non-significant genes",
     "output_type": "error",
     "traceback": [
      "\u001b[0;31m---------------------------------------------------------------------------\u001b[0m",
      "\u001b[0;31mAssertionError\u001b[0m                            Traceback (most recent call last)",
      "\u001b[0;32m<ipython-input-361-60f32cdeb469>\u001b[0m in \u001b[0;36m<module>\u001b[0;34m\u001b[0m\n\u001b[1;32m      9\u001b[0m         \u001b[0;31m# geneid='gene_name',genenames='deg',gstyle=1,gfont=7,\u001b[0m\u001b[0;34m\u001b[0m\u001b[0;34m\u001b[0m\u001b[0;34m\u001b[0m\u001b[0m\n\u001b[1;32m     10\u001b[0m         \u001b[0mdotsize\u001b[0m\u001b[0;34m=\u001b[0m\u001b[0;36m40\u001b[0m\u001b[0;34m,\u001b[0m\u001b[0mshow\u001b[0m\u001b[0;34m=\u001b[0m\u001b[0;32mTrue\u001b[0m\u001b[0;34m,\u001b[0m\u001b[0;34m\u001b[0m\u001b[0;34m\u001b[0m\u001b[0m\n\u001b[0;32m---> 11\u001b[0;31m         \u001b[0maxxlabel\u001b[0m\u001b[0;34m=\u001b[0m\u001b[0;34mf'log2FC - exp@{time}'\u001b[0m\u001b[0;34m,\u001b[0m\u001b[0mmarkerdot\u001b[0m\u001b[0;34m=\u001b[0m\u001b[0;34m'P'\u001b[0m\u001b[0;34m,\u001b[0m\u001b[0mcolor\u001b[0m\u001b[0;34m=\u001b[0m \u001b[0;34m(\u001b[0m\u001b[0;34m'#1b9e77'\u001b[0m\u001b[0;34m,\u001b[0m\u001b[0;34m'grey'\u001b[0m\u001b[0;34m,\u001b[0m\u001b[0;34m'#7570b3'\u001b[0m\u001b[0;34m)\u001b[0m \u001b[0;31m# ,'#e7298a','#66a61e','#e6ab02','#a6761d','#666666'\u001b[0m\u001b[0;34m\u001b[0m\u001b[0;34m\u001b[0m\u001b[0m\n\u001b[0m\u001b[1;32m     12\u001b[0m     )\n",
      "\u001b[0;32m~/anaconda3/envs/down/lib/python3.6/site-packages/bioinfokit/visuz.py\u001b[0m in \u001b[0;36mvolcano\u001b[0;34m(df, lfc, pv, lfc_thr, pv_thr, color, valpha, geneid, genenames, gfont, dim, r, ar, dotsize, markerdot, sign_line, gstyle, show, figtype, axtickfontsize, axtickfontname, axlabelfontsize, axlabelfontname, axxlabel, axylabel, xlm, ylm, plotlegend, legendpos, figname, legendanchor, legendlabels, theme)\u001b[0m\n\u001b[1;32m    157\u001b[0m         \u001b[0mcolor_result_num\u001b[0m \u001b[0;34m=\u001b[0m \u001b[0;34m[\u001b[0m\u001b[0massign_values\u001b[0m\u001b[0;34m[\u001b[0m\u001b[0mi\u001b[0m\u001b[0;34m]\u001b[0m \u001b[0;32mfor\u001b[0m \u001b[0mi\u001b[0m \u001b[0;32min\u001b[0m \u001b[0mdf\u001b[0m\u001b[0;34m[\u001b[0m\u001b[0;34m'color_add_axy'\u001b[0m\u001b[0;34m]\u001b[0m\u001b[0;34m]\u001b[0m\u001b[0;34m\u001b[0m\u001b[0;34m\u001b[0m\u001b[0m\n\u001b[1;32m    158\u001b[0m         \u001b[0;32massert\u001b[0m \u001b[0mlen\u001b[0m\u001b[0;34m(\u001b[0m\u001b[0mset\u001b[0m\u001b[0;34m(\u001b[0m\u001b[0mcolor_result_num\u001b[0m\u001b[0;34m)\u001b[0m\u001b[0;34m)\u001b[0m \u001b[0;34m==\u001b[0m \u001b[0;36m3\u001b[0m\u001b[0;34m,\u001b[0m\u001b[0;31m \u001b[0m\u001b[0;31m\\\u001b[0m\u001b[0;34m\u001b[0m\u001b[0;34m\u001b[0m\u001b[0m\n\u001b[0;32m--> 159\u001b[0;31m             \u001b[0;34m'either significant or non-significant genes are missing; try to change lfc_thr or pv_thr to include '\u001b[0m\u001b[0;31m \u001b[0m\u001b[0;31m\\\u001b[0m\u001b[0;34m\u001b[0m\u001b[0;34m\u001b[0m\u001b[0m\n\u001b[0m\u001b[1;32m    160\u001b[0m             \u001b[0;34m'both significant and non-significant genes'\u001b[0m\u001b[0;34m\u001b[0m\u001b[0;34m\u001b[0m\u001b[0m\n\u001b[1;32m    161\u001b[0m         \u001b[0;32mif\u001b[0m \u001b[0mtheme\u001b[0m \u001b[0;34m==\u001b[0m \u001b[0;34m'dark'\u001b[0m\u001b[0;34m:\u001b[0m\u001b[0;34m\u001b[0m\u001b[0;34m\u001b[0m\u001b[0m\n",
      "\u001b[0;31mAssertionError\u001b[0m: either significant or non-significant genes are missing; try to change lfc_thr or pv_thr to include both significant and non-significant genes"
     ]
    }
   ],
   "source": [
    "exp_df = comps['delta_exp']\n",
    "\n",
    "exp_df_sam_dependent = exp_df[exp_df.gene_name.isin(all_sam_dependent_genes)].dropna()\n",
    "\n",
    "for time in ['120h', '72h' , '6h']:\n",
    "    bioinfokit.visuz.GeneExpression.volcano(\n",
    "        exp_df_sam_dependent, \n",
    "        f'hl60_{time}_log2FC',f'hl60_{time}_pvalue', lfc_thr=(1,1),pv_thr=(0.01,0.01),\n",
    "        # geneid='gene_name',genenames='deg',gstyle=1,gfont=7,\n",
    "        dotsize=40,show=True,\n",
    "        axxlabel=f'log2FC - exp@{time}',markerdot='P',color= ('#1b9e77','grey','#7570b3') # ,'#e7298a','#66a61e','#e6ab02','#a6761d','#666666'\n",
    "    )"
   ]
  },
  {
   "cell_type": "code",
   "execution_count": 160,
   "id": "b7f28935-281f-4814-bc22-87a473908bea",
   "metadata": {},
   "outputs": [
    {
     "data": {
      "image/png": "[encoded data removed]",
      "text/plain": [
       "<Figure size 360x360 with 1 Axes>"
      ]
     },
     "metadata": {
      "needs_background": "light"
     },
     "output_type": "display_data"
    },
    {
     "data": {
      "image/png": "[encoded data removed]",
      "text/plain": [
       "<Figure size 360x360 with 1 Axes>"
      ]
     },
     "metadata": {
      "needs_background": "light"
     },
     "output_type": "display_data"
    },
    {
     "data": {
      "image/png": "[encoded data removed]",
      "text/plain": [
       "<Figure size 360x360 with 1 Axes>"
      ]
     },
     "metadata": {
      "needs_background": "light"
     },
     "output_type": "display_data"
    }
   ],
   "source": [
    "stbl_df = comps['delta_stbl']\n",
    "\n",
    "stbl_df_sam_dependent = stbl_df[stbl_df.gene_name.isin(all_sam_dependent_genes)].dropna()\n",
    "\n",
    "for time in ['120h', '72h' , '6h']:\n",
    "    bioinfokit.visuz.GeneExpression.volcano(\n",
    "        stbl_df_sam_dependent, \n",
    "        f'hl60_{time}_log2FC',f'hl60_{time}_pvalue', lfc_thr=(0.1,0.1),pv_thr=(0.05,0.05),\n",
    "        geneid='gene_name',genenames='deg',gstyle=1,\n",
    "        dotsize=40,show=True,\n",
    "        axxlabel=f'log2FC - stbl@{time}',markerdot='P',color= ('#1b9e77','grey','#7570b3') # ,'#e7298a','#66a61e','#e6ab02','#a6761d','#666666'\n",
    "    )"
   ]
  },
  {
   "cell_type": "code",
   "execution_count": 350,
   "id": "77f88ea8-e637-497d-b833-b31ae476e175",
   "metadata": {},
   "outputs": [
    {
     "data": {
      "image/png": "[encoded data removed]",
      "text/plain": [
       "<Figure size 360x360 with 1 Axes>"
      ]
     },
     "metadata": {
      "needs_background": "light"
     },
     "output_type": "display_data"
    }
   ],
   "source": [
    "mtyl_df = comps['delta_mtyl']\n",
    "\n",
    "mtyl_df_sam_dependent = mtyl_df[mtyl_df.gene_name.isin(all_sam_dependent_genes + ['MAT2A'])].dropna()\n",
    "\n",
    "bioinfokit.visuz.GeneExpression.volcano(\n",
    "    mtyl_df_sam_dependent, \n",
    "    'logFC','pval', lfc_thr=(2,2),pv_thr=(0.001,0.001),\n",
    "    geneid='gene_name',genenames='deg',gstyle=1,\n",
    "    dotsize=40,show=True,\n",
    "    axxlabel=f'logFC - mtyl',markerdot='P',color= ('#1b9e77','grey','#7570b3') # ,'#e7298a','#66a61e','#e6ab02','#a6761d','#666666'\n",
    ")"
   ]
  },
  {
   "cell_type": "code",
   "execution_count": 105,
   "id": "316672df-d651-47ab-b89c-15c6c7db0025",
   "metadata": {},
   "outputs": [],
   "source": [
    "# comps['delta_te'][comps['delta_te'].gene_name.isin(sam_dependent_genes)]"
   ]
  },
  {
   "cell_type": "markdown",
   "id": "8938f6b7-7cef-4a2c-b53b-d0916f065775",
   "metadata": {
    "tags": []
   },
   "source": [
    "## Splicing "
   ]
  },
  {
   "cell_type": "code",
   "execution_count": 351,
   "id": "79b65938-1e87-4c5d-a055-7ef40dc560b6",
   "metadata": {},
   "outputs": [],
   "source": [
    "sam_dependent_id2name = mtyl_df_sam_dependent[['gene_id','gene_name']].drop_duplicates().set_index('gene_id')"
   ]
  },
  {
   "cell_type": "code",
   "execution_count": 352,
   "id": "9c90f388-4d61-4716-859f-7ead0a30ca9e",
   "metadata": {},
   "outputs": [],
   "source": [
    "isoform_psi = pd.concat([\n",
    "    pd.read_csv(path,sep='\\t').set_index('Event_id') \n",
    "    for path in glob('RNA-seq/suppa/diffSplice/isoform_hl60_*h_t_vs_u.dpsi.temp.0')\n",
    "],axis=1).dropna().reset_index().rename(columns={'index':'Event_id'})\n",
    "isoform_psi = pd.concat([\n",
    "    isoform_psi, \n",
    "    isoform_psi.Event_id.str.split(';',expand=True).rename(columns={0:'gene_id',1:'transcript_id'})\n",
    "],axis=1)\n"
   ]
  },
  {
   "cell_type": "code",
   "execution_count": 353,
   "id": "6041fe27-f431-405c-8165-201e5fe037db",
   "metadata": {},
   "outputs": [],
   "source": [
    "isoform_psi_df_sam_dependent = isoform_psi[isoform_psi.gene_id.isin(list(set(mtyl_df_sam_dependent.gene_id)))].reset_index(drop=True)\n",
    "\n",
    "isoform_psi_df_sam_dependent = pd.concat([\n",
    "    isoform_psi_df_sam_dependent,\n",
    "    sam_dependent_id2name.loc[isoform_psi_df_sam_dependent.gene_id,].reset_index(drop=True)\n",
    "],axis=1)"
   ]
  },
  {
   "cell_type": "code",
   "execution_count": 354,
   "id": "aa3fe520-ce7c-4142-97fb-707b1e757e94",
   "metadata": {},
   "outputs": [
    {
     "data": {
      "image/png": "[encoded data removed]",
      "text/plain": [
       "<Figure size 360x360 with 1 Axes>"
      ]
     },
     "metadata": {
      "needs_background": "light"
     },
     "output_type": "display_data"
    },
    {
     "data": {
      "image/png": "[encoded data removed]",
      "text/plain": [
       "<Figure size 360x360 with 1 Axes>"
      ]
     },
     "metadata": {
      "needs_background": "light"
     },
     "output_type": "display_data"
    },
    {
     "data": {
      "image/png": "[encoded data removed]",
      "text/plain": [
       "<Figure size 360x360 with 1 Axes>"
      ]
     },
     "metadata": {
      "needs_background": "light"
     },
     "output_type": "display_data"
    }
   ],
   "source": [
    "for time in ['120h', '72h' , '6h']:\n",
    "    bioinfokit.visuz.GeneExpression.volcano(\n",
    "        isoform_psi_df_sam_dependent, \n",
    "        f'isoform_hl60_{time}_t-isoform_hl60_{time}_u_dPSI',f'isoform_hl60_{time}_t-isoform_hl60_{time}_u_p-val',\n",
    "        lfc_thr=(0.1,0.1),pv_thr=(0.2,0.2),\n",
    "        geneid='gene_name',genenames='deg',gstyle=1,\n",
    "        dotsize=40,show=True,\n",
    "        axxlabel=f'dPSI@{time}',markerdot='P',color= ('#1b9e77','grey','#7570b3') # ,'#e7298a','#66a61e','#e6ab02','#a6761d','#666666'\n",
    "    )"
   ]
  },
  {
   "cell_type": "code",
   "execution_count": 355,
   "id": "29b05e9c-723d-434b-b1da-e5f9c64396a4",
   "metadata": {},
   "outputs": [],
   "source": [
    "# isoform_psi_df_sam_dependent"
   ]
  },
  {
   "cell_type": "markdown",
   "id": "e7562fde-1dc5-4a39-9d1d-4245d1ec61b2",
   "metadata": {},
   "source": [
    "#### events"
   ]
  },
  {
   "cell_type": "code",
   "execution_count": 30,
   "id": "698c523a-4496-4cc2-9b04-ede2af8a4881",
   "metadata": {},
   "outputs": [],
   "source": [
    "def get_gene_id(suppa,gene_id):\n",
    "    keep = suppa.index.str.split(';').str[0].str.split('.').str[0].isin([gene_id])\n",
    "    return suppa[keep]\n"
   ]
  },
  {
   "cell_type": "code",
   "execution_count": 251,
   "id": "0154e3b7-7dfe-48bc-8b1c-c38f0bbf8d4e",
   "metadata": {},
   "outputs": [],
   "source": [
    "psi = pd.read_csv('RNA-seq/suppa/events.psi',sep='\\t')"
   ]
  },
  {
   "cell_type": "code",
   "execution_count": 252,
   "id": "51c66f4b-c678-4574-8e50-300c0b984ca6",
   "metadata": {},
   "outputs": [],
   "source": [
    "suppa_hl60_120h = pd.read_csv(\n",
    "    'RNA-seq/suppa/diffSplice/hl60_120h_t_vs_u.dpsi.temp.0',sep='\\t'\n",
    ").set_index('Event_id')\n",
    "\n",
    "suppa_hl60_72h = pd.read_csv(\n",
    "    'RNA-seq/suppa/diffSplice/hl60_72h_t_vs_u.dpsi.temp.0',sep='\\t'\n",
    ").set_index('Event_id')\n",
    "\n",
    "suppa_hl60_6h = pd.read_csv(\n",
    "    'RNA-seq/suppa/diffSplice/hl60_6h_t_vs_u.dpsi.temp.0',sep='\\t'\n",
    ").set_index('Event_id')\n"
   ]
  },
  {
   "cell_type": "code",
   "execution_count": 356,
   "id": "c69c31cd-7573-4add-bbec-c886455e656a",
   "metadata": {},
   "outputs": [],
   "source": [
    "suppa_hl60 = pd.concat([\n",
    "    suppa_hl60_120h, suppa_hl60_72h,suppa_hl60_6h\n",
    "],axis=1)\n",
    "suppa_hl60['Event_type'] = suppa_hl60.index.str.split(';').str[1].str.split(':').str[0]\n",
    "\n",
    "suppa_hl60['gene_id'] = suppa_hl60.index.str.split(';').str[0]\n",
    "sam_dependent_psi_events = suppa_hl60[suppa_hl60.gene_id.isin(sam_dependent_id2name.index)].dropna().reset_index()\n",
    "\n",
    "sam_dependent_psi_events = pd.concat([\n",
    "    sam_dependent_psi_events, \n",
    "    sam_dependent_id2name.loc[sam_dependent_psi_events.gene_id,].reset_index(drop=True)\n",
    "],axis=1).dropna()"
   ]
  },
  {
   "cell_type": "markdown",
   "id": "1c3512db-0566-47a5-a382-bf6fa7710f57",
   "metadata": {},
   "source": [
    "#### RI"
   ]
  },
  {
   "cell_type": "code",
   "execution_count": 357,
   "id": "ce3d3e4d-556f-4fcc-91d7-a184170fd67b",
   "metadata": {},
   "outputs": [
    {
     "data": {
      "image/png": "[encoded data removed]",
      "text/plain": [
       "<Figure size 360x360 with 1 Axes>"
      ]
     },
     "metadata": {
      "needs_background": "light"
     },
     "output_type": "display_data"
    },
    {
     "data": {
      "image/png": "[encoded data removed]",
      "text/plain": [
       "<Figure size 360x360 with 1 Axes>"
      ]
     },
     "metadata": {
      "needs_background": "light"
     },
     "output_type": "display_data"
    },
    {
     "data": {
      "image/png": "[encoded data removed]",
      "text/plain": [
       "<Figure size 360x360 with 1 Axes>"
      ]
     },
     "metadata": {
      "needs_background": "light"
     },
     "output_type": "display_data"
    }
   ],
   "source": [
    "for time in ['120h', '72h' , '6h']:\n",
    "    bioinfokit.visuz.GeneExpression.volcano(\n",
    "        sam_dependent_psi_events[sam_dependent_psi_events.Event_type=='RI'], \n",
    "        f'events_hl60_{time}_t-events_hl60_{time}_u_dPSI',f'events_hl60_{time}_t-events_hl60_{time}_u_p-val',\n",
    "        lfc_thr=(0.01,0.01),pv_thr=(1,1),\n",
    "        geneid='gene_name',genenames='deg',gstyle=1,\n",
    "        dotsize=40,show=True,\n",
    "        axxlabel=f'dPSI@{time}',markerdot='P',color= ('#1b9e77','grey','#7570b3') # ,'#e7298a','#66a61e','#e6ab02','#a6761d','#666666'\n",
    "    )"
   ]
  },
  {
   "cell_type": "code",
   "execution_count": null,
   "id": "82b83b36-03df-454a-ba28-ae1afd319881",
   "metadata": {},
   "outputs": [],
   "source": []
  },
  {
   "cell_type": "code",
   "execution_count": null,
   "id": "d65af5af-3ef5-4694-a179-05924a3e256d",
   "metadata": {},
   "outputs": [],
   "source": []
  },
  {
   "cell_type": "code",
   "execution_count": null,
   "id": "927d5854-af63-4ee3-8cfe-1e445235b25f",
   "metadata": {},
   "outputs": [],
   "source": []
  },
  {
   "cell_type": "markdown",
   "id": "be93398d-08e3-42c1-84a0-47e3b12d6a52",
   "metadata": {
    "tags": []
   },
   "source": [
    "# Our meRIP-seq data"
   ]
  },
  {
   "cell_type": "code",
   "execution_count": null,
   "id": "6bec1d8b-e568-4ceb-a716-3d3e590f61c7",
   "metadata": {},
   "outputs": [],
   "source": [
    "hl60_RNAme_df = pd.read_csv('meRIP-seq/radar/result.sig.txt',sep='\\t')"
   ]
  },
  {
   "cell_type": "code",
   "execution_count": null,
   "id": "50c616a2-4040-4bea-90bf-6b4fcc116f8f",
   "metadata": {},
   "outputs": [
    {
     "data": {
      "text/html": [
       "<div>\n",
       "<style scoped>\n",
       "    .dataframe tbody tr th:only-of-type {\n",
       "        vertical-align: middle;\n",
       "    }\n",
       "\n",
       "    .dataframe tbody tr th {\n",
       "        vertical-align: top;\n",
       "    }\n",
       "\n",
       "    .dataframe thead th {\n",
       "        text-align: right;\n",
       "    }\n",
       "</style>\n",
       "<table border=\"1\" class=\"dataframe\">\n",
       "  <thead>\n",
       "    <tr style=\"text-align: right;\">\n",
       "      <th></th>\n",
       "      <th>chr</th>\n",
       "      <th>start</th>\n",
       "      <th>end</th>\n",
       "      <th>name</th>\n",
       "      <th>score</th>\n",
       "      <th>strand</th>\n",
       "      <th>thickStart</th>\n",
       "      <th>thickEnd</th>\n",
       "      <th>itemRgb</th>\n",
       "      <th>blockCount</th>\n",
       "      <th>blockSizes</th>\n",
       "      <th>blockStarts</th>\n",
       "      <th>logFC</th>\n",
       "      <th>p_value</th>\n",
       "      <th>ensembl</th>\n",
       "    </tr>\n",
       "  </thead>\n",
       "  <tbody>\n",
       "    <tr>\n",
       "      <th>1954</th>\n",
       "      <td>chr4</td>\n",
       "      <td>118710493</td>\n",
       "      <td>118710542</td>\n",
       "      <td>METTL14</td>\n",
       "      <td>0</td>\n",
       "      <td>+</td>\n",
       "      <td>118710493</td>\n",
       "      <td>118710542</td>\n",
       "      <td>0</td>\n",
       "      <td>1</td>\n",
       "      <td>49</td>\n",
       "      <td>0</td>\n",
       "      <td>5.068904</td>\n",
       "      <td>0.001316</td>\n",
       "      <td>ENSG00000145388.15</td>\n",
       "    </tr>\n",
       "  </tbody>\n",
       "</table>\n",
       "</div>"
      ],
      "text/plain": [
       "       chr      start        end     name  score strand  thickStart  \\\n",
       "1954  chr4  118710493  118710542  METTL14      0      +   118710493   \n",
       "\n",
       "       thickEnd  itemRgb  blockCount blockSizes blockStarts     logFC  \\\n",
       "1954  118710542        0           1         49           0  5.068904   \n",
       "\n",
       "       p_value             ensembl  \n",
       "1954  0.001316  ENSG00000145388.15  "
      ]
     },
     "execution_count": 66,
     "metadata": {},
     "output_type": "execute_result"
    }
   ],
   "source": [
    "hl60_RNAme_df[hl60_RNAme_df.name.isin(['MAT1A', 'MAT2A', 'MAT2B','METTL14'])]"
   ]
  },
  {
   "cell_type": "code",
   "execution_count": 14,
   "id": "d5a4d190-e9ca-42c5-ae87-f72b722d3c9e",
   "metadata": {},
   "outputs": [],
   "source": [
    "# genes1 = genes.copy()\n",
    "# genes2 = genes.copy()\n",
    "\n",
    "# genes1['hyper_m6A'] = set(m6A_hl60_df[\n",
    "#     (m6A_hl60_df.logFC > 2) & (m6A_hl60_df.p_value < 0.001)\n",
    "# ].name.tolist())\n",
    "\n",
    "# genes2['hypo_m6A']  = set(m6A_hl60_df[\n",
    "#     (m6A_hl60_df.logFC < -2) & (m6A_hl60_df.p_value < 0.001)\n",
    "# ].name.tolist())"
   ]
  },
  {
   "cell_type": "code",
   "execution_count": 15,
   "id": "99f12999-0a1e-48d2-81b0-b265cf1db539",
   "metadata": {},
   "outputs": [],
   "source": [
    "# from venn import venn \n",
    "# fontsize=8\n",
    "\n",
    "# # Set up the plot\n",
    "# f, (ax1,ax2) = plt.subplots(1,2,figsize=(8,5))\n",
    "\n",
    "# venn(genes1,fontsize=fontsize,legend_loc=\"lower left\",ax=ax1)\n",
    "# ax1.set_title('\\n\\nDecitabine', size = 15)\n",
    "\n",
    "# # Set up the plot\n",
    "# venn(genes2,fontsize=fontsize,legend_loc=\"lower right\",ax=ax2)\n",
    "# ax2.set_title('\\n\\nDMSO', size = 15)\n",
    "\n",
    "# f.suptitle(\"HL60 DNA & RNA methylation genes\",fontsize = 25)\n",
    "# plt.tight_layout()\n",
    "# f.subplots_adjust(wspace=0, hspace=0)\n",
    "# plt.show()"
   ]
  },
  {
   "cell_type": "code",
   "execution_count": 16,
   "id": "5945b96f-8ca5-4929-9d46-980b97d10c48",
   "metadata": {},
   "outputs": [],
   "source": [
    "# reduce(set.intersection, (set(val) for val in genes1.values()))"
   ]
  },
  {
   "cell_type": "code",
   "execution_count": 17,
   "id": "259c604e-a501-40e6-b380-92d790588c8d",
   "metadata": {},
   "outputs": [],
   "source": [
    "# reduce(set.intersection, (set(val) for val in genes2.values()))"
   ]
  },
  {
   "cell_type": "markdown",
   "id": "7eb7016c-5ee6-49d4-b5bc-532db84b1de1",
   "metadata": {
    "tags": []
   },
   "source": [
    "# DAC vs. DMSO DNA methylation data\n",
    "> **Extended representation bisulfite sequencing of gene regulatory elements in multiplexed samples and single cells**\n",
    "> - https://www.nature.com/articles/s41587-021-00910-x\n",
    "\n",
    "Data: [GSE149954](https://www.ncbi.nlm.nih.gov/geo/query/acc.cgi?acc=GSE149954)\n",
    "- [HL60 Bisulfite-Seq - 10ng dmso](https://www.ncbi.nlm.nih.gov/geo/query/acc.cgi?acc=GSM4518676)\n",
    "- [HL60 Bisulfite-Seq - 10ng decitabine](https://www.ncbi.nlm.nih.gov/geo/query/acc.cgi?acc=GSM4518677)"
   ]
  },
  {
   "cell_type": "code",
   "execution_count": 6,
   "id": "f40a82fb-aba9-47c2-b132-3d4d9dbd61d9",
   "metadata": {},
   "outputs": [],
   "source": [
    "hl60_DNAme_df = pd.read_csv('DNA-RNA-mtyl/Shareef-et-al-2021-Supp-Table2.csv')\n",
    "hl60_DNAme_df['score'] = 0"
   ]
  },
  {
   "cell_type": "code",
   "execution_count": 11,
   "id": "cd9cbf3a-9039-4e3b-b95d-406b3b1adc53",
   "metadata": {},
   "outputs": [
    {
     "data": {
      "text/html": [
       "<div>\n",
       "<style scoped>\n",
       "    .dataframe tbody tr th:only-of-type {\n",
       "        vertical-align: middle;\n",
       "    }\n",
       "\n",
       "    .dataframe tbody tr th {\n",
       "        vertical-align: top;\n",
       "    }\n",
       "\n",
       "    .dataframe thead th {\n",
       "        text-align: right;\n",
       "    }\n",
       "</style>\n",
       "<table border=\"1\" class=\"dataframe\">\n",
       "  <thead>\n",
       "    <tr style=\"text-align: right;\">\n",
       "      <th></th>\n",
       "      <th>Gene</th>\n",
       "      <th>ID</th>\n",
       "      <th>Chromosome</th>\n",
       "      <th>Start</th>\n",
       "      <th>End</th>\n",
       "      <th>Strand</th>\n",
       "      <th>K562 average methylation</th>\n",
       "      <th>Kasumi-1 average methylation</th>\n",
       "      <th>OCI-AML3 average methylation</th>\n",
       "      <th>HL-60 average methylation</th>\n",
       "      <th>K562-specific hypermethylation</th>\n",
       "      <th>Kasumi-1-specific hypermethylation</th>\n",
       "      <th>OCI-AML3-specific hypermethylation</th>\n",
       "      <th>HL-60-specific hypermethylation</th>\n",
       "      <th>K562-specific hypomethylation</th>\n",
       "      <th>Kasumi-1-specific hypomethylation</th>\n",
       "      <th>OCI-AML3-specific hypomethylation</th>\n",
       "      <th>HL-60-specific hypomethylation</th>\n",
       "      <th>score</th>\n",
       "    </tr>\n",
       "  </thead>\n",
       "  <tbody>\n",
       "    <tr>\n",
       "      <th>0</th>\n",
       "      <td>A3GALT2</td>\n",
       "      <td>NM_001080438.1</td>\n",
       "      <td>chr1</td>\n",
       "      <td>33,320,098</td>\n",
       "      <td>33,322,097</td>\n",
       "      <td>-</td>\n",
       "      <td>0.059</td>\n",
       "      <td>0.770</td>\n",
       "      <td>0.625</td>\n",
       "      <td>0.479</td>\n",
       "      <td>NaN</td>\n",
       "      <td>NaN</td>\n",
       "      <td>NaN</td>\n",
       "      <td>NaN</td>\n",
       "      <td>X</td>\n",
       "      <td>NaN</td>\n",
       "      <td>NaN</td>\n",
       "      <td>NaN</td>\n",
       "      <td>0</td>\n",
       "    </tr>\n",
       "    <tr>\n",
       "      <th>1</th>\n",
       "      <td>AADACL3</td>\n",
       "      <td>NM_001103170.2</td>\n",
       "      <td>chr1</td>\n",
       "      <td>12,715,115</td>\n",
       "      <td>12,717,114</td>\n",
       "      <td>+</td>\n",
       "      <td>0.024</td>\n",
       "      <td>0.777</td>\n",
       "      <td>0.606</td>\n",
       "      <td>0.644</td>\n",
       "      <td>NaN</td>\n",
       "      <td>NaN</td>\n",
       "      <td>NaN</td>\n",
       "      <td>NaN</td>\n",
       "      <td>X</td>\n",
       "      <td>NaN</td>\n",
       "      <td>NaN</td>\n",
       "      <td>NaN</td>\n",
       "      <td>0</td>\n",
       "    </tr>\n",
       "    <tr>\n",
       "      <th>2</th>\n",
       "      <td>AARD</td>\n",
       "      <td>NM_001025357.2</td>\n",
       "      <td>chr8</td>\n",
       "      <td>116,937,225</td>\n",
       "      <td>116,939,224</td>\n",
       "      <td>+</td>\n",
       "      <td>0.108</td>\n",
       "      <td>0.969</td>\n",
       "      <td>0.879</td>\n",
       "      <td>0.271</td>\n",
       "      <td>NaN</td>\n",
       "      <td>X</td>\n",
       "      <td>NaN</td>\n",
       "      <td>NaN</td>\n",
       "      <td>X</td>\n",
       "      <td>NaN</td>\n",
       "      <td>NaN</td>\n",
       "      <td>NaN</td>\n",
       "      <td>0</td>\n",
       "    </tr>\n",
       "    <tr>\n",
       "      <th>3</th>\n",
       "      <td>AASS</td>\n",
       "      <td>NM_005763.3</td>\n",
       "      <td>chr7</td>\n",
       "      <td>122,143,290</td>\n",
       "      <td>122,145,289</td>\n",
       "      <td>-</td>\n",
       "      <td>0.071</td>\n",
       "      <td>0.976</td>\n",
       "      <td>0.579</td>\n",
       "      <td>0.452</td>\n",
       "      <td>NaN</td>\n",
       "      <td>X</td>\n",
       "      <td>NaN</td>\n",
       "      <td>NaN</td>\n",
       "      <td>X</td>\n",
       "      <td>NaN</td>\n",
       "      <td>NaN</td>\n",
       "      <td>NaN</td>\n",
       "      <td>0</td>\n",
       "    </tr>\n",
       "    <tr>\n",
       "      <th>4</th>\n",
       "      <td>ABAT</td>\n",
       "      <td>NM_000663.4</td>\n",
       "      <td>chr16</td>\n",
       "      <td>8,711,969</td>\n",
       "      <td>8,713,968</td>\n",
       "      <td>+</td>\n",
       "      <td>0.062</td>\n",
       "      <td>0.962</td>\n",
       "      <td>0.569</td>\n",
       "      <td>0.704</td>\n",
       "      <td>NaN</td>\n",
       "      <td>X</td>\n",
       "      <td>NaN</td>\n",
       "      <td>NaN</td>\n",
       "      <td>X</td>\n",
       "      <td>NaN</td>\n",
       "      <td>NaN</td>\n",
       "      <td>NaN</td>\n",
       "      <td>0</td>\n",
       "    </tr>\n",
       "    <tr>\n",
       "      <th>...</th>\n",
       "      <td>...</td>\n",
       "      <td>...</td>\n",
       "      <td>...</td>\n",
       "      <td>...</td>\n",
       "      <td>...</td>\n",
       "      <td>...</td>\n",
       "      <td>...</td>\n",
       "      <td>...</td>\n",
       "      <td>...</td>\n",
       "      <td>...</td>\n",
       "      <td>...</td>\n",
       "      <td>...</td>\n",
       "      <td>...</td>\n",
       "      <td>...</td>\n",
       "      <td>...</td>\n",
       "      <td>...</td>\n",
       "      <td>...</td>\n",
       "      <td>...</td>\n",
       "      <td>...</td>\n",
       "    </tr>\n",
       "    <tr>\n",
       "      <th>3344</th>\n",
       "      <td>ZSCAN18</td>\n",
       "      <td>NM_023926.4</td>\n",
       "      <td>chr19</td>\n",
       "      <td>58,097,363</td>\n",
       "      <td>58,099,362</td>\n",
       "      <td>-</td>\n",
       "      <td>0.029</td>\n",
       "      <td>0.143</td>\n",
       "      <td>0.827</td>\n",
       "      <td>0.178</td>\n",
       "      <td>NaN</td>\n",
       "      <td>NaN</td>\n",
       "      <td>X</td>\n",
       "      <td>NaN</td>\n",
       "      <td>NaN</td>\n",
       "      <td>NaN</td>\n",
       "      <td>NaN</td>\n",
       "      <td>NaN</td>\n",
       "      <td>0</td>\n",
       "    </tr>\n",
       "    <tr>\n",
       "      <th>3345</th>\n",
       "      <td>ZSCAN4</td>\n",
       "      <td>NM_152677.2</td>\n",
       "      <td>chr19</td>\n",
       "      <td>57,667,935</td>\n",
       "      <td>57,669,934</td>\n",
       "      <td>+</td>\n",
       "      <td>0.000</td>\n",
       "      <td>0.912</td>\n",
       "      <td>0.745</td>\n",
       "      <td>0.677</td>\n",
       "      <td>NaN</td>\n",
       "      <td>NaN</td>\n",
       "      <td>NaN</td>\n",
       "      <td>NaN</td>\n",
       "      <td>X</td>\n",
       "      <td>NaN</td>\n",
       "      <td>NaN</td>\n",
       "      <td>NaN</td>\n",
       "      <td>0</td>\n",
       "    </tr>\n",
       "    <tr>\n",
       "      <th>3346</th>\n",
       "      <td>ZSCAN5A</td>\n",
       "      <td>NM_001322072.1</td>\n",
       "      <td>chr19</td>\n",
       "      <td>56,367,383</td>\n",
       "      <td>56,369,382</td>\n",
       "      <td>-</td>\n",
       "      <td>0.131</td>\n",
       "      <td>0.957</td>\n",
       "      <td>0.409</td>\n",
       "      <td>0.616</td>\n",
       "      <td>NaN</td>\n",
       "      <td>X</td>\n",
       "      <td>NaN</td>\n",
       "      <td>NaN</td>\n",
       "      <td>X</td>\n",
       "      <td>NaN</td>\n",
       "      <td>NaN</td>\n",
       "      <td>NaN</td>\n",
       "      <td>0</td>\n",
       "    </tr>\n",
       "    <tr>\n",
       "      <th>3347</th>\n",
       "      <td>ZSCAN5A</td>\n",
       "      <td>NM_024303.2</td>\n",
       "      <td>chr19</td>\n",
       "      <td>56,229,399</td>\n",
       "      <td>56,231,398</td>\n",
       "      <td>-</td>\n",
       "      <td>0.310</td>\n",
       "      <td>0.929</td>\n",
       "      <td>0.982</td>\n",
       "      <td>0.875</td>\n",
       "      <td>NaN</td>\n",
       "      <td>NaN</td>\n",
       "      <td>NaN</td>\n",
       "      <td>NaN</td>\n",
       "      <td>X</td>\n",
       "      <td>NaN</td>\n",
       "      <td>NaN</td>\n",
       "      <td>NaN</td>\n",
       "      <td>0</td>\n",
       "    </tr>\n",
       "    <tr>\n",
       "      <th>3348</th>\n",
       "      <td>ZYG11A</td>\n",
       "      <td>NM_001004339.2</td>\n",
       "      <td>chr1</td>\n",
       "      <td>52,841,511</td>\n",
       "      <td>52,843,510</td>\n",
       "      <td>+</td>\n",
       "      <td>0.006</td>\n",
       "      <td>0.645</td>\n",
       "      <td>0.296</td>\n",
       "      <td>0.591</td>\n",
       "      <td>NaN</td>\n",
       "      <td>NaN</td>\n",
       "      <td>NaN</td>\n",
       "      <td>NaN</td>\n",
       "      <td>X</td>\n",
       "      <td>NaN</td>\n",
       "      <td>NaN</td>\n",
       "      <td>NaN</td>\n",
       "      <td>0</td>\n",
       "    </tr>\n",
       "  </tbody>\n",
       "</table>\n",
       "<p>3349 rows × 19 columns</p>\n",
       "</div>"
      ],
      "text/plain": [
       "         Gene              ID Chromosome        Start          End Strand  \\\n",
       "0     A3GALT2  NM_001080438.1       chr1   33,320,098   33,322,097      -   \n",
       "1     AADACL3  NM_001103170.2       chr1   12,715,115   12,717,114      +   \n",
       "2        AARD  NM_001025357.2       chr8  116,937,225  116,939,224      +   \n",
       "3        AASS     NM_005763.3       chr7  122,143,290  122,145,289      -   \n",
       "4        ABAT     NM_000663.4      chr16    8,711,969    8,713,968      +   \n",
       "...       ...             ...        ...          ...          ...    ...   \n",
       "3344  ZSCAN18     NM_023926.4      chr19   58,097,363   58,099,362      -   \n",
       "3345   ZSCAN4     NM_152677.2      chr19   57,667,935   57,669,934      +   \n",
       "3346  ZSCAN5A  NM_001322072.1      chr19   56,367,383   56,369,382      -   \n",
       "3347  ZSCAN5A     NM_024303.2      chr19   56,229,399   56,231,398      -   \n",
       "3348   ZYG11A  NM_001004339.2       chr1   52,841,511   52,843,510      +   \n",
       "\n",
       "      K562 average methylation  Kasumi-1 average methylation  \\\n",
       "0                        0.059                         0.770   \n",
       "1                        0.024                         0.777   \n",
       "2                        0.108                         0.969   \n",
       "3                        0.071                         0.976   \n",
       "4                        0.062                         0.962   \n",
       "...                        ...                           ...   \n",
       "3344                     0.029                         0.143   \n",
       "3345                     0.000                         0.912   \n",
       "3346                     0.131                         0.957   \n",
       "3347                     0.310                         0.929   \n",
       "3348                     0.006                         0.645   \n",
       "\n",
       "      OCI-AML3 average methylation  HL-60 average methylation  \\\n",
       "0                            0.625                      0.479   \n",
       "1                            0.606                      0.644   \n",
       "2                            0.879                      0.271   \n",
       "3                            0.579                      0.452   \n",
       "4                            0.569                      0.704   \n",
       "...                            ...                        ...   \n",
       "3344                         0.827                      0.178   \n",
       "3345                         0.745                      0.677   \n",
       "3346                         0.409                      0.616   \n",
       "3347                         0.982                      0.875   \n",
       "3348                         0.296                      0.591   \n",
       "\n",
       "     K562-specific hypermethylation Kasumi-1-specific hypermethylation  \\\n",
       "0                               NaN                                NaN   \n",
       "1                               NaN                                NaN   \n",
       "2                               NaN                                  X   \n",
       "3                               NaN                                  X   \n",
       "4                               NaN                                  X   \n",
       "...                             ...                                ...   \n",
       "3344                            NaN                                NaN   \n",
       "3345                            NaN                                NaN   \n",
       "3346                            NaN                                  X   \n",
       "3347                            NaN                                NaN   \n",
       "3348                            NaN                                NaN   \n",
       "\n",
       "     OCI-AML3-specific hypermethylation HL-60-specific hypermethylation  \\\n",
       "0                                   NaN                             NaN   \n",
       "1                                   NaN                             NaN   \n",
       "2                                   NaN                             NaN   \n",
       "3                                   NaN                             NaN   \n",
       "4                                   NaN                             NaN   \n",
       "...                                 ...                             ...   \n",
       "3344                                  X                             NaN   \n",
       "3345                                NaN                             NaN   \n",
       "3346                                NaN                             NaN   \n",
       "3347                                NaN                             NaN   \n",
       "3348                                NaN                             NaN   \n",
       "\n",
       "     K562-specific hypomethylation Kasumi-1-specific hypomethylation  \\\n",
       "0                                X                               NaN   \n",
       "1                                X                               NaN   \n",
       "2                                X                               NaN   \n",
       "3                                X                               NaN   \n",
       "4                                X                               NaN   \n",
       "...                            ...                               ...   \n",
       "3344                           NaN                               NaN   \n",
       "3345                             X                               NaN   \n",
       "3346                             X                               NaN   \n",
       "3347                             X                               NaN   \n",
       "3348                             X                               NaN   \n",
       "\n",
       "     OCI-AML3-specific hypomethylation HL-60-specific hypomethylation  score  \n",
       "0                                  NaN                            NaN      0  \n",
       "1                                  NaN                            NaN      0  \n",
       "2                                  NaN                            NaN      0  \n",
       "3                                  NaN                            NaN      0  \n",
       "4                                  NaN                            NaN      0  \n",
       "...                                ...                            ...    ...  \n",
       "3344                               NaN                            NaN      0  \n",
       "3345                               NaN                            NaN      0  \n",
       "3346                               NaN                            NaN      0  \n",
       "3347                               NaN                            NaN      0  \n",
       "3348                               NaN                            NaN      0  \n",
       "\n",
       "[3349 rows x 19 columns]"
      ]
     },
     "execution_count": 11,
     "metadata": {},
     "output_type": "execute_result"
    }
   ],
   "source": [
    "hl60_DNAme_df#.loc[~hl60_DNAme_df[\"HL-60-specific hypermethylation\"].isna(),:]"
   ]
  },
  {
   "cell_type": "code",
   "execution_count": 15,
   "id": "2dc89f17-2ec5-4e76-b578-b4660bb07964",
   "metadata": {},
   "outputs": [
    {
     "data": {
      "text/html": [
       "<div>\n",
       "<style scoped>\n",
       "    .dataframe tbody tr th:only-of-type {\n",
       "        vertical-align: middle;\n",
       "    }\n",
       "\n",
       "    .dataframe tbody tr th {\n",
       "        vertical-align: top;\n",
       "    }\n",
       "\n",
       "    .dataframe thead th {\n",
       "        text-align: right;\n",
       "    }\n",
       "</style>\n",
       "<table border=\"1\" class=\"dataframe\">\n",
       "  <thead>\n",
       "    <tr style=\"text-align: right;\">\n",
       "      <th></th>\n",
       "      <th>chr</th>\n",
       "      <th>start</th>\n",
       "      <th>end</th>\n",
       "      <th>name</th>\n",
       "      <th>score</th>\n",
       "      <th>strand</th>\n",
       "      <th>thickStart</th>\n",
       "      <th>thickEnd</th>\n",
       "      <th>itemRgb</th>\n",
       "      <th>blockCount</th>\n",
       "      <th>blockSizes</th>\n",
       "      <th>blockStarts</th>\n",
       "      <th>logFC</th>\n",
       "      <th>p_value</th>\n",
       "      <th>ensembl</th>\n",
       "    </tr>\n",
       "  </thead>\n",
       "  <tbody>\n",
       "    <tr>\n",
       "      <th>0</th>\n",
       "      <td>chr6</td>\n",
       "      <td>53498437</td>\n",
       "      <td>53498486</td>\n",
       "      <td>GCLC</td>\n",
       "      <td>0</td>\n",
       "      <td>-</td>\n",
       "      <td>53498437</td>\n",
       "      <td>53498486</td>\n",
       "      <td>0</td>\n",
       "      <td>1</td>\n",
       "      <td>49</td>\n",
       "      <td>0</td>\n",
       "      <td>-1.092898</td>\n",
       "      <td>0.000168</td>\n",
       "      <td>ENSG00000001084.13</td>\n",
       "    </tr>\n",
       "    <tr>\n",
       "      <th>1</th>\n",
       "      <td>chr7</td>\n",
       "      <td>92398338</td>\n",
       "      <td>92398387</td>\n",
       "      <td>ANKIB1</td>\n",
       "      <td>0</td>\n",
       "      <td>+</td>\n",
       "      <td>92398338</td>\n",
       "      <td>92398387</td>\n",
       "      <td>0</td>\n",
       "      <td>1</td>\n",
       "      <td>49</td>\n",
       "      <td>0</td>\n",
       "      <td>-0.950192</td>\n",
       "      <td>0.000268</td>\n",
       "      <td>ENSG00000001629.10</td>\n",
       "    </tr>\n",
       "    <tr>\n",
       "      <th>2</th>\n",
       "      <td>chr2</td>\n",
       "      <td>201757551</td>\n",
       "      <td>201757600</td>\n",
       "      <td>ALS2</td>\n",
       "      <td>0</td>\n",
       "      <td>-</td>\n",
       "      <td>201757551</td>\n",
       "      <td>201757600</td>\n",
       "      <td>0</td>\n",
       "      <td>1</td>\n",
       "      <td>49</td>\n",
       "      <td>0</td>\n",
       "      <td>-0.830939</td>\n",
       "      <td>0.003995</td>\n",
       "      <td>ENSG00000003393.15</td>\n",
       "    </tr>\n",
       "    <tr>\n",
       "      <th>3</th>\n",
       "      <td>chr2</td>\n",
       "      <td>201760946</td>\n",
       "      <td>201760995</td>\n",
       "      <td>ALS2</td>\n",
       "      <td>0</td>\n",
       "      <td>-</td>\n",
       "      <td>201760946</td>\n",
       "      <td>201760995</td>\n",
       "      <td>0</td>\n",
       "      <td>1</td>\n",
       "      <td>49</td>\n",
       "      <td>0</td>\n",
       "      <td>-1.102796</td>\n",
       "      <td>0.002809</td>\n",
       "      <td>ENSG00000003393.15</td>\n",
       "    </tr>\n",
       "    <tr>\n",
       "      <th>4</th>\n",
       "      <td>chr2</td>\n",
       "      <td>201761345</td>\n",
       "      <td>201761394</td>\n",
       "      <td>ALS2</td>\n",
       "      <td>0</td>\n",
       "      <td>-</td>\n",
       "      <td>201761345</td>\n",
       "      <td>201761394</td>\n",
       "      <td>0</td>\n",
       "      <td>1</td>\n",
       "      <td>49</td>\n",
       "      <td>0</td>\n",
       "      <td>1.573659</td>\n",
       "      <td>0.003033</td>\n",
       "      <td>ENSG00000003393.15</td>\n",
       "    </tr>\n",
       "    <tr>\n",
       "      <th>...</th>\n",
       "      <td>...</td>\n",
       "      <td>...</td>\n",
       "      <td>...</td>\n",
       "      <td>...</td>\n",
       "      <td>...</td>\n",
       "      <td>...</td>\n",
       "      <td>...</td>\n",
       "      <td>...</td>\n",
       "      <td>...</td>\n",
       "      <td>...</td>\n",
       "      <td>...</td>\n",
       "      <td>...</td>\n",
       "      <td>...</td>\n",
       "      <td>...</td>\n",
       "      <td>...</td>\n",
       "    </tr>\n",
       "    <tr>\n",
       "      <th>4621</th>\n",
       "      <td>chr9</td>\n",
       "      <td>62801969</td>\n",
       "      <td>62802018</td>\n",
       "      <td>AL512625.3</td>\n",
       "      <td>0</td>\n",
       "      <td>-</td>\n",
       "      <td>62801969</td>\n",
       "      <td>62802018</td>\n",
       "      <td>0</td>\n",
       "      <td>1</td>\n",
       "      <td>49</td>\n",
       "      <td>0</td>\n",
       "      <td>1.536867</td>\n",
       "      <td>0.000884</td>\n",
       "      <td>ENSG00000287168.1</td>\n",
       "    </tr>\n",
       "    <tr>\n",
       "      <th>4622</th>\n",
       "      <td>chr11</td>\n",
       "      <td>69087931</td>\n",
       "      <td>69087980</td>\n",
       "      <td>AP003071.5</td>\n",
       "      <td>0</td>\n",
       "      <td>+</td>\n",
       "      <td>69087931</td>\n",
       "      <td>69087980</td>\n",
       "      <td>0</td>\n",
       "      <td>1</td>\n",
       "      <td>49</td>\n",
       "      <td>0</td>\n",
       "      <td>-1.834062</td>\n",
       "      <td>0.002682</td>\n",
       "      <td>ENSG00000287725.1</td>\n",
       "    </tr>\n",
       "    <tr>\n",
       "      <th>4623</th>\n",
       "      <td>chr13</td>\n",
       "      <td>40875077</td>\n",
       "      <td>40875126</td>\n",
       "      <td>AL590064.1</td>\n",
       "      <td>0</td>\n",
       "      <td>-</td>\n",
       "      <td>40875077</td>\n",
       "      <td>40875126</td>\n",
       "      <td>0</td>\n",
       "      <td>1</td>\n",
       "      <td>49</td>\n",
       "      <td>0</td>\n",
       "      <td>-0.545051</td>\n",
       "      <td>0.001402</td>\n",
       "      <td>ENSG00000287837.1</td>\n",
       "    </tr>\n",
       "    <tr>\n",
       "      <th>4624</th>\n",
       "      <td>chrX</td>\n",
       "      <td>49071766</td>\n",
       "      <td>49071815</td>\n",
       "      <td>AC231657.3</td>\n",
       "      <td>0</td>\n",
       "      <td>-</td>\n",
       "      <td>49071766</td>\n",
       "      <td>49071815</td>\n",
       "      <td>0</td>\n",
       "      <td>1</td>\n",
       "      <td>49</td>\n",
       "      <td>0</td>\n",
       "      <td>-1.623623</td>\n",
       "      <td>0.003689</td>\n",
       "      <td>ENSG00000288053.1</td>\n",
       "    </tr>\n",
       "    <tr>\n",
       "      <th>4625</th>\n",
       "      <td>chr19</td>\n",
       "      <td>2295092</td>\n",
       "      <td>2295141</td>\n",
       "      <td>AC104530.1</td>\n",
       "      <td>0</td>\n",
       "      <td>+</td>\n",
       "      <td>2295092</td>\n",
       "      <td>2295141</td>\n",
       "      <td>0</td>\n",
       "      <td>1</td>\n",
       "      <td>49</td>\n",
       "      <td>0</td>\n",
       "      <td>0.570545</td>\n",
       "      <td>0.003357</td>\n",
       "      <td>ENSG00000288156.1</td>\n",
       "    </tr>\n",
       "  </tbody>\n",
       "</table>\n",
       "<p>4626 rows × 15 columns</p>\n",
       "</div>"
      ],
      "text/plain": [
       "        chr      start        end        name  score strand  thickStart  \\\n",
       "0      chr6   53498437   53498486        GCLC      0      -    53498437   \n",
       "1      chr7   92398338   92398387      ANKIB1      0      +    92398338   \n",
       "2      chr2  201757551  201757600        ALS2      0      -   201757551   \n",
       "3      chr2  201760946  201760995        ALS2      0      -   201760946   \n",
       "4      chr2  201761345  201761394        ALS2      0      -   201761345   \n",
       "...     ...        ...        ...         ...    ...    ...         ...   \n",
       "4621   chr9   62801969   62802018  AL512625.3      0      -    62801969   \n",
       "4622  chr11   69087931   69087980  AP003071.5      0      +    69087931   \n",
       "4623  chr13   40875077   40875126  AL590064.1      0      -    40875077   \n",
       "4624   chrX   49071766   49071815  AC231657.3      0      -    49071766   \n",
       "4625  chr19    2295092    2295141  AC104530.1      0      +     2295092   \n",
       "\n",
       "       thickEnd  itemRgb  blockCount blockSizes blockStarts     logFC  \\\n",
       "0      53498486        0           1         49           0 -1.092898   \n",
       "1      92398387        0           1         49           0 -0.950192   \n",
       "2     201757600        0           1         49           0 -0.830939   \n",
       "3     201760995        0           1         49           0 -1.102796   \n",
       "4     201761394        0           1         49           0  1.573659   \n",
       "...         ...      ...         ...        ...         ...       ...   \n",
       "4621   62802018        0           1         49           0  1.536867   \n",
       "4622   69087980        0           1         49           0 -1.834062   \n",
       "4623   40875126        0           1         49           0 -0.545051   \n",
       "4624   49071815        0           1         49           0 -1.623623   \n",
       "4625    2295141        0           1         49           0  0.570545   \n",
       "\n",
       "       p_value             ensembl  \n",
       "0     0.000168  ENSG00000001084.13  \n",
       "1     0.000268  ENSG00000001629.10  \n",
       "2     0.003995  ENSG00000003393.15  \n",
       "3     0.002809  ENSG00000003393.15  \n",
       "4     0.003033  ENSG00000003393.15  \n",
       "...        ...                 ...  \n",
       "4621  0.000884   ENSG00000287168.1  \n",
       "4622  0.002682   ENSG00000287725.1  \n",
       "4623  0.001402   ENSG00000287837.1  \n",
       "4624  0.003689   ENSG00000288053.1  \n",
       "4625  0.003357   ENSG00000288156.1  \n",
       "\n",
       "[4626 rows x 15 columns]"
      ]
     },
     "execution_count": 15,
     "metadata": {},
     "output_type": "execute_result"
    }
   ],
   "source": [
    "hl60_RNAme_df"
   ]
  },
  {
   "cell_type": "code",
   "execution_count": 13,
   "id": "e1e35107-4df7-4cc6-8831-9ba883dc2574",
   "metadata": {},
   "outputs": [
    {
     "ename": "NameError",
     "evalue": "name 'hl60_RNAme_df' is not defined",
     "output_type": "error",
     "traceback": [
      "\u001b[0;31m---------------------------------------------------------------------------\u001b[0m",
      "\u001b[0;31mNameError\u001b[0m                                 Traceback (most recent call last)",
      "\u001b[0;32m<ipython-input-13-d486fe9346eb>\u001b[0m in \u001b[0;36m<module>\u001b[0;34m\u001b[0m\n\u001b[1;32m      8\u001b[0m )\n\u001b[1;32m      9\u001b[0m \u001b[0;34m\u001b[0m\u001b[0m\n\u001b[0;32m---> 10\u001b[0;31m \u001b[0mhl60_RNAme_hyper\u001b[0m\u001b[0;34m,\u001b[0m \u001b[0mhl60_RNAme_hypo\u001b[0m \u001b[0;34m=\u001b[0m \u001b[0mtwo_sided_mtyl\u001b[0m\u001b[0;34m(\u001b[0m\u001b[0mhl60_RNAme_df\u001b[0m\u001b[0;34m,\u001b[0m \u001b[0mfcthr\u001b[0m\u001b[0;34m=\u001b[0m\u001b[0;36m2\u001b[0m\u001b[0;34m,\u001b[0m \u001b[0mpvthr\u001b[0m\u001b[0;34m=\u001b[0m\u001b[0;36m0.01\u001b[0m\u001b[0;34m)\u001b[0m\u001b[0;34m\u001b[0m\u001b[0;34m\u001b[0m\u001b[0m\n\u001b[0m\u001b[1;32m     11\u001b[0m \u001b[0mhl60_RNAme_hyper\u001b[0m \u001b[0;34m=\u001b[0m \u001b[0mset\u001b[0m\u001b[0;34m(\u001b[0m\u001b[0mhl60_RNAme_hyper\u001b[0m\u001b[0;34m.\u001b[0m\u001b[0mname\u001b[0m\u001b[0;34m)\u001b[0m\u001b[0;34m\u001b[0m\u001b[0;34m\u001b[0m\u001b[0m\n\u001b[1;32m     12\u001b[0m \u001b[0mhl60_RNAme_hypo\u001b[0m  \u001b[0;34m=\u001b[0m \u001b[0mset\u001b[0m\u001b[0;34m(\u001b[0m\u001b[0mhl60_RNAme_hypo\u001b[0m\u001b[0;34m.\u001b[0m\u001b[0mname\u001b[0m\u001b[0;34m)\u001b[0m\u001b[0;34m\u001b[0m\u001b[0;34m\u001b[0m\u001b[0m\n",
      "\u001b[0;31mNameError\u001b[0m: name 'hl60_RNAme_df' is not defined"
     ]
    }
   ],
   "source": [
    "hl60_DNAme_hyper = set(\n",
    "    # hl60_DNAme_df.Gene[hl60_DNAme_df['HL-60 average methylation'] > hl60_DNAme_df['HL-60 average methylation'].quantile(q=0.75)]\n",
    "    hl60_DNAme_df.loc[~hl60_DNAme_df[\"HL-60-specific hypermethylation\"].isna(),\"Gene\"]\n",
    ")\n",
    "hl60_DNAme_hypo  = set(\n",
    "    # hl60_DNAme_df.Gene[hl60_DNAme_df['HL-60 average methylation'] < hl60_DNAme_df['HL-60 average methylation'].quantile(q=0.25)]\n",
    "    hl60_DNAme_df.loc[~hl60_DNAme_df[\"HL-60-specific hypomethylation\"].isna(),\"Gene\"]\n",
    ")\n",
    "\n",
    "hl60_RNAme_hyper, hl60_RNAme_hypo = two_sided_mtyl(hl60_RNAme_df, fcthr=2, pvthr=0.01)\n",
    "hl60_RNAme_hyper = set(hl60_RNAme_hyper.name)\n",
    "hl60_RNAme_hypo  = set(hl60_RNAme_hypo.name)"
   ]
  },
  {
   "cell_type": "code",
   "execution_count": 23,
   "id": "3435fea1-7184-40e9-b656-2d421bf67f76",
   "metadata": {},
   "outputs": [
    {
     "data": {
      "text/plain": [
       "{'B3GNT7', 'NR2F2', 'ZNF229', 'ZNF667', 'ZNF814'}"
      ]
     },
     "execution_count": 23,
     "metadata": {},
     "output_type": "execute_result"
    }
   ],
   "source": [
    "hl60_RNAme_hyper.intersection(hl60_DNAme_hypo)"
   ]
  },
  {
   "cell_type": "code",
   "execution_count": 24,
   "id": "2d5c5e2c-4088-4153-bc45-64c89fdd931f",
   "metadata": {
    "tags": []
   },
   "outputs": [
    {
     "data": {
      "text/plain": [
       "{'TLE3', 'ZNF22', 'ZNF441'}"
      ]
     },
     "execution_count": 24,
     "metadata": {},
     "output_type": "execute_result"
    }
   ],
   "source": [
    "hl60_RNAme_hyper.intersection(hl60_DNAme_hyper)"
   ]
  },
  {
   "cell_type": "markdown",
   "id": "fcb89eb2-d539-4c69-8e55-d01cc6ca9e90",
   "metadata": {},
   "source": [
    "<!-- > #### Enhancer recruitment of transcription repressors RUNX1 and TLE3 by mis-expressed FOXC1 blocks differentiation in acute myeloid leukemia\n",
    "https://doi.org/10.1016/j.celrep.2021.109725 -->"
   ]
  },
  {
   "cell_type": "code",
   "execution_count": 25,
   "id": "43f7176e-246c-4421-94dc-60adcf8ff87a",
   "metadata": {
    "tags": []
   },
   "outputs": [
    {
     "data": {
      "text/plain": [
       "{'WBP1L', 'ZNF331', 'ZNF441'}"
      ]
     },
     "execution_count": 25,
     "metadata": {},
     "output_type": "execute_result"
    }
   ],
   "source": [
    "hl60_RNAme_hypo.intersection(hl60_DNAme_hyper)"
   ]
  },
  {
   "cell_type": "code",
   "execution_count": 26,
   "id": "5a842828-26db-457c-a27a-48ce009662ac",
   "metadata": {
    "tags": []
   },
   "outputs": [
    {
     "data": {
      "text/plain": [
       "{'MNDA', 'NR2F2', 'ZNF667'}"
      ]
     },
     "execution_count": 26,
     "metadata": {},
     "output_type": "execute_result"
    }
   ],
   "source": [
    "hl60_RNAme_hypo.intersection(hl60_DNAme_hypo)"
   ]
  },
  {
   "cell_type": "code",
   "execution_count": null,
   "id": "d9d4acfb-078c-4564-a86c-6f5cec12a0c3",
   "metadata": {},
   "outputs": [],
   "source": []
  },
  {
   "cell_type": "code",
   "execution_count": null,
   "id": "ef61f839-c6b0-4400-8573-735102b274cd",
   "metadata": {},
   "outputs": [],
   "source": []
  },
  {
   "cell_type": "code",
   "execution_count": 36,
   "id": "df8f85ad-90e3-4097-9482-26d8236678f4",
   "metadata": {},
   "outputs": [],
   "source": [
    "hl60_DNAme_bed = hl60_DNAme_df.loc[:,['Chromosome','Start','End','Gene','score','Strand','HL-60 average methylation']]\n",
    "hl60_DNAme_bed.columns = ['chr','start','end','name','score','strand','DNAme']\n",
    "hl60_DNAme_bed.start = hl60_DNAme_bed.start.str.replace(',','').astype(int)\n",
    "hl60_DNAme_bed.end   = hl60_DNAme_bed.end.str.replace(',','').astype(int)\n",
    "hl60_DNAme_bed = hl60_DNAme_bed.sort_values(['chr','start','end'])\n",
    "\n",
    "hl60_DNAme_bed.rename({'chr':'# chr'},axis=1).to_csv('DNA-RNA-mtyl/hl60_DNAme.bed',index=None,sep='\\t')"
   ]
  },
  {
   "cell_type": "code",
   "execution_count": 37,
   "id": "93b09e74-0331-4bb5-9375-c63367bb5039",
   "metadata": {},
   "outputs": [],
   "source": [
    "hl60_RNAme_bed = hl60_RNAme_df.iloc[:,list(range(0,6))+[12]].rename({'logFC':'RNAme'},axis=1).sort_values(['chr','start','end'])\n",
    "hl60_RNAme_bed.rename({'chr':'# chr'},axis=1).to_csv('DNA-RNA-mtyl/hl60_RNAme.bed',index=None,sep='\\t')"
   ]
  },
  {
   "cell_type": "code",
   "execution_count": null,
   "id": "161d40cb-b66b-42be-943e-2c17a4c7f777",
   "metadata": {},
   "outputs": [],
   "source": []
  },
  {
   "cell_type": "markdown",
   "id": "16fb852b-09c9-4505-a906-e30821e241a7",
   "metadata": {},
   "source": [
    "`alignment` env"
   ]
  },
  {
   "cell_type": "code",
   "execution_count": null,
   "id": "f962097c-0a12-44ce-85f5-edb70ccbe78b",
   "metadata": {},
   "outputs": [],
   "source": [
    "%%bash\n",
    "bedtools intersect -wo \\\n",
    "    -a DNA-RNA-mtyl/hl60_RNAme.bed \\\n",
    "    -b DNA-RNA-mtyl/hl60_DNAme.bed > hl60_intersect.bed"
   ]
  },
  {
   "cell_type": "markdown",
   "id": "ebf8fcd5-d7c2-433e-9f35-ef1e617bcae3",
   "metadata": {},
   "source": [
    "___"
   ]
  },
  {
   "cell_type": "code",
   "execution_count": 48,
   "id": "9bb4d89f-71f2-404d-9942-7b77db388d65",
   "metadata": {},
   "outputs": [],
   "source": [
    "hl60_intersect_df = pd.read_csv('DNA-RNA-mtyl/hl60_intersect.bed',sep='\\t',header=None).iloc[:,list(range(0,7)) + [13,14]]\n",
    "hl60_intersect_df.columns = ['chr','start','end','name','score','strand','RNAme','DNAme','overlap']"
   ]
  },
  {
   "cell_type": "code",
   "execution_count": 49,
   "id": "ed01b993-8abb-4ab6-b636-31d20f0d3cde",
   "metadata": {},
   "outputs": [
    {
     "data": {
      "text/html": [
       "<div>\n",
       "<style scoped>\n",
       "    .dataframe tbody tr th:only-of-type {\n",
       "        vertical-align: middle;\n",
       "    }\n",
       "\n",
       "    .dataframe tbody tr th {\n",
       "        vertical-align: top;\n",
       "    }\n",
       "\n",
       "    .dataframe thead th {\n",
       "        text-align: right;\n",
       "    }\n",
       "</style>\n",
       "<table border=\"1\" class=\"dataframe\">\n",
       "  <thead>\n",
       "    <tr style=\"text-align: right;\">\n",
       "      <th></th>\n",
       "      <th>chr</th>\n",
       "      <th>start</th>\n",
       "      <th>end</th>\n",
       "      <th>name</th>\n",
       "      <th>score</th>\n",
       "      <th>strand</th>\n",
       "      <th>RNAme</th>\n",
       "      <th>DNAme</th>\n",
       "      <th>overlap</th>\n",
       "    </tr>\n",
       "  </thead>\n",
       "  <tbody>\n",
       "    <tr>\n",
       "      <th>0</th>\n",
       "      <td>chr1</td>\n",
       "      <td>45326994</td>\n",
       "      <td>45327043</td>\n",
       "      <td>HPDL</td>\n",
       "      <td>0</td>\n",
       "      <td>+</td>\n",
       "      <td>0.658300</td>\n",
       "      <td>0.010</td>\n",
       "      <td>49</td>\n",
       "    </tr>\n",
       "    <tr>\n",
       "      <th>1</th>\n",
       "      <td>chr14</td>\n",
       "      <td>20956291</td>\n",
       "      <td>20956340</td>\n",
       "      <td>RNASE2</td>\n",
       "      <td>0</td>\n",
       "      <td>+</td>\n",
       "      <td>-1.143912</td>\n",
       "      <td>0.027</td>\n",
       "      <td>49</td>\n",
       "    </tr>\n",
       "    <tr>\n",
       "      <th>2</th>\n",
       "      <td>chr14</td>\n",
       "      <td>24311457</td>\n",
       "      <td>24311506</td>\n",
       "      <td>LTB4R2</td>\n",
       "      <td>0</td>\n",
       "      <td>+</td>\n",
       "      <td>-0.649662</td>\n",
       "      <td>0.156</td>\n",
       "      <td>49</td>\n",
       "    </tr>\n",
       "    <tr>\n",
       "      <th>3</th>\n",
       "      <td>chr14</td>\n",
       "      <td>24311457</td>\n",
       "      <td>24311506</td>\n",
       "      <td>LTB4R2</td>\n",
       "      <td>0</td>\n",
       "      <td>+</td>\n",
       "      <td>-0.649662</td>\n",
       "      <td>0.156</td>\n",
       "      <td>49</td>\n",
       "    </tr>\n",
       "    <tr>\n",
       "      <th>4</th>\n",
       "      <td>chr14</td>\n",
       "      <td>24311457</td>\n",
       "      <td>24311506</td>\n",
       "      <td>LTB4R2</td>\n",
       "      <td>0</td>\n",
       "      <td>+</td>\n",
       "      <td>-0.649662</td>\n",
       "      <td>0.156</td>\n",
       "      <td>49</td>\n",
       "    </tr>\n",
       "    <tr>\n",
       "      <th>5</th>\n",
       "      <td>chr15</td>\n",
       "      <td>68205671</td>\n",
       "      <td>68205720</td>\n",
       "      <td>AC107871.1</td>\n",
       "      <td>0</td>\n",
       "      <td>-</td>\n",
       "      <td>4.709530</td>\n",
       "      <td>0.409</td>\n",
       "      <td>49</td>\n",
       "    </tr>\n",
       "    <tr>\n",
       "      <th>6</th>\n",
       "      <td>chr15</td>\n",
       "      <td>96331630</td>\n",
       "      <td>96331679</td>\n",
       "      <td>NR2F2</td>\n",
       "      <td>0</td>\n",
       "      <td>+</td>\n",
       "      <td>-2.602690</td>\n",
       "      <td>0.008</td>\n",
       "      <td>49</td>\n",
       "    </tr>\n",
       "    <tr>\n",
       "      <th>7</th>\n",
       "      <td>chr15</td>\n",
       "      <td>96331929</td>\n",
       "      <td>96331978</td>\n",
       "      <td>NR2F2</td>\n",
       "      <td>0</td>\n",
       "      <td>+</td>\n",
       "      <td>5.105945</td>\n",
       "      <td>0.008</td>\n",
       "      <td>49</td>\n",
       "    </tr>\n",
       "    <tr>\n",
       "      <th>8</th>\n",
       "      <td>chr18</td>\n",
       "      <td>77016707</td>\n",
       "      <td>77016756</td>\n",
       "      <td>MBP</td>\n",
       "      <td>0</td>\n",
       "      <td>-</td>\n",
       "      <td>0.523800</td>\n",
       "      <td>0.947</td>\n",
       "      <td>49</td>\n",
       "    </tr>\n",
       "    <tr>\n",
       "      <th>9</th>\n",
       "      <td>chr19</td>\n",
       "      <td>3178963</td>\n",
       "      <td>3179012</td>\n",
       "      <td>S1PR4</td>\n",
       "      <td>0</td>\n",
       "      <td>+</td>\n",
       "      <td>3.839452</td>\n",
       "      <td>0.009</td>\n",
       "      <td>49</td>\n",
       "    </tr>\n",
       "    <tr>\n",
       "      <th>10</th>\n",
       "      <td>chr2</td>\n",
       "      <td>169081642</td>\n",
       "      <td>169081691</td>\n",
       "      <td>DHRS9</td>\n",
       "      <td>0</td>\n",
       "      <td>+</td>\n",
       "      <td>4.941642</td>\n",
       "      <td>0.868</td>\n",
       "      <td>49</td>\n",
       "    </tr>\n",
       "    <tr>\n",
       "      <th>11</th>\n",
       "      <td>chr3</td>\n",
       "      <td>48467197</td>\n",
       "      <td>48467246</td>\n",
       "      <td>ATRIP</td>\n",
       "      <td>0</td>\n",
       "      <td>+</td>\n",
       "      <td>4.499810</td>\n",
       "      <td>0.035</td>\n",
       "      <td>32</td>\n",
       "    </tr>\n",
       "    <tr>\n",
       "      <th>12</th>\n",
       "      <td>chr3</td>\n",
       "      <td>48467197</td>\n",
       "      <td>48467246</td>\n",
       "      <td>TREX1</td>\n",
       "      <td>0</td>\n",
       "      <td>+</td>\n",
       "      <td>4.579852</td>\n",
       "      <td>0.035</td>\n",
       "      <td>32</td>\n",
       "    </tr>\n",
       "    <tr>\n",
       "      <th>13</th>\n",
       "      <td>chr6</td>\n",
       "      <td>33203991</td>\n",
       "      <td>33204040</td>\n",
       "      <td>SLC39A7</td>\n",
       "      <td>0</td>\n",
       "      <td>+</td>\n",
       "      <td>-1.133386</td>\n",
       "      <td>0.844</td>\n",
       "      <td>49</td>\n",
       "    </tr>\n",
       "    <tr>\n",
       "      <th>14</th>\n",
       "      <td>chr9</td>\n",
       "      <td>38616013</td>\n",
       "      <td>38620097</td>\n",
       "      <td>ANKRD18A</td>\n",
       "      <td>0</td>\n",
       "      <td>-</td>\n",
       "      <td>-1.445435</td>\n",
       "      <td>0.101</td>\n",
       "      <td>437</td>\n",
       "    </tr>\n",
       "  </tbody>\n",
       "</table>\n",
       "</div>"
      ],
      "text/plain": [
       "      chr      start        end        name  score strand     RNAme  DNAme  \\\n",
       "0    chr1   45326994   45327043        HPDL      0      +  0.658300  0.010   \n",
       "1   chr14   20956291   20956340      RNASE2      0      + -1.143912  0.027   \n",
       "2   chr14   24311457   24311506      LTB4R2      0      + -0.649662  0.156   \n",
       "3   chr14   24311457   24311506      LTB4R2      0      + -0.649662  0.156   \n",
       "4   chr14   24311457   24311506      LTB4R2      0      + -0.649662  0.156   \n",
       "5   chr15   68205671   68205720  AC107871.1      0      -  4.709530  0.409   \n",
       "6   chr15   96331630   96331679       NR2F2      0      + -2.602690  0.008   \n",
       "7   chr15   96331929   96331978       NR2F2      0      +  5.105945  0.008   \n",
       "8   chr18   77016707   77016756         MBP      0      -  0.523800  0.947   \n",
       "9   chr19    3178963    3179012       S1PR4      0      +  3.839452  0.009   \n",
       "10   chr2  169081642  169081691       DHRS9      0      +  4.941642  0.868   \n",
       "11   chr3   48467197   48467246       ATRIP      0      +  4.499810  0.035   \n",
       "12   chr3   48467197   48467246       TREX1      0      +  4.579852  0.035   \n",
       "13   chr6   33203991   33204040     SLC39A7      0      + -1.133386  0.844   \n",
       "14   chr9   38616013   38620097    ANKRD18A      0      - -1.445435  0.101   \n",
       "\n",
       "    overlap  \n",
       "0        49  \n",
       "1        49  \n",
       "2        49  \n",
       "3        49  \n",
       "4        49  \n",
       "5        49  \n",
       "6        49  \n",
       "7        49  \n",
       "8        49  \n",
       "9        49  \n",
       "10       49  \n",
       "11       32  \n",
       "12       32  \n",
       "13       49  \n",
       "14      437  "
      ]
     },
     "execution_count": 49,
     "metadata": {},
     "output_type": "execute_result"
    }
   ],
   "source": [
    "hl60_intersect_df"
   ]
  },
  {
   "cell_type": "raw",
   "id": "b2265938-e000-492b-a653-ef07bb76ce63",
   "metadata": {},
   "source": [
    "12\tchr3\t48467197\t48467246\tTREX1\t0\t+\t4.579852\t0.035\t32"
   ]
  },
  {
   "cell_type": "raw",
   "id": "63361605-4dcd-4054-8b82-1913f35157ca",
   "metadata": {},
   "source": [
    "13\tchr6\t33203991\t33204040\tSLC39A7\t0\t+\t-1.133386\t0.844\t49"
   ]
  },
  {
   "cell_type": "code",
   "execution_count": 50,
   "id": "0e2ac5a0-61cc-4489-b3de-366610d474e5",
   "metadata": {},
   "outputs": [],
   "source": [
    "wd = '/data_gilbert/home/aarab/Projects/Decitabine-treatment'\n",
    "\n",
    "comps = load_data(comparisons=True,wd=wd)\n",
    "scrns = load_data(screens=True,wd=wd)"
   ]
  },
  {
   "cell_type": "code",
   "execution_count": 59,
   "id": "424d1f3e-44b0-487b-bc31-e88d281bbc40",
   "metadata": {},
   "outputs": [
    {
     "data": {
      "text/html": [
       "<div>\n",
       "<style scoped>\n",
       "    .dataframe tbody tr th:only-of-type {\n",
       "        vertical-align: middle;\n",
       "    }\n",
       "\n",
       "    .dataframe tbody tr th {\n",
       "        vertical-align: top;\n",
       "    }\n",
       "\n",
       "    .dataframe thead th {\n",
       "        text-align: right;\n",
       "    }\n",
       "</style>\n",
       "<table border=\"1\" class=\"dataframe\">\n",
       "  <thead>\n",
       "    <tr style=\"text-align: right;\">\n",
       "      <th></th>\n",
       "      <th>gene_name</th>\n",
       "      <th>hl60_6h_log2FC</th>\n",
       "      <th>hl60_6h_pvalue</th>\n",
       "      <th>hl60_72h_log2FC</th>\n",
       "      <th>hl60_72h_pvalue</th>\n",
       "      <th>hl60_72h_only_log2FC</th>\n",
       "      <th>hl60_72h_only_pvalue</th>\n",
       "      <th>hl60_120h_log2FC</th>\n",
       "      <th>hl60_120h_pvalue</th>\n",
       "      <th>kg1_log2FC</th>\n",
       "      <th>kg1_pvalue</th>\n",
       "      <th>molm14_log2FC</th>\n",
       "      <th>molm14_pvalue</th>\n",
       "      <th>ociaml2_log2FC</th>\n",
       "      <th>ociaml2_pvalue</th>\n",
       "      <th>ociaml3_log2FC</th>\n",
       "      <th>ociaml3_pvalue</th>\n",
       "      <th>thp1_log2FC</th>\n",
       "      <th>thp1_pvalue</th>\n",
       "    </tr>\n",
       "  </thead>\n",
       "  <tbody>\n",
       "    <tr>\n",
       "      <th>ENSG00000112473.18</th>\n",
       "      <td>SLC39A7</td>\n",
       "      <td>0.033115</td>\n",
       "      <td>0.025757</td>\n",
       "      <td>0.370989</td>\n",
       "      <td>0.025757</td>\n",
       "      <td>0.320985</td>\n",
       "      <td>0.362331</td>\n",
       "      <td>-0.088687</td>\n",
       "      <td>0.025757</td>\n",
       "      <td>0.220891</td>\n",
       "      <td>0.203216</td>\n",
       "      <td>0.365204</td>\n",
       "      <td>0.107815</td>\n",
       "      <td>0.175256</td>\n",
       "      <td>0.395472</td>\n",
       "      <td>-0.104593</td>\n",
       "      <td>0.625199</td>\n",
       "      <td>0.242608</td>\n",
       "      <td>0.151773</td>\n",
       "    </tr>\n",
       "    <tr>\n",
       "      <th>ENSG00000213689.14</th>\n",
       "      <td>TREX1</td>\n",
       "      <td>0.180867</td>\n",
       "      <td>0.004585</td>\n",
       "      <td>-0.744397</td>\n",
       "      <td>0.004585</td>\n",
       "      <td>-0.795110</td>\n",
       "      <td>0.209584</td>\n",
       "      <td>-1.988669</td>\n",
       "      <td>0.004585</td>\n",
       "      <td>0.711876</td>\n",
       "      <td>0.389471</td>\n",
       "      <td>1.067947</td>\n",
       "      <td>0.010724</td>\n",
       "      <td>0.050864</td>\n",
       "      <td>0.924305</td>\n",
       "      <td>0.561549</td>\n",
       "      <td>0.109210</td>\n",
       "      <td>-0.187934</td>\n",
       "      <td>0.701555</td>\n",
       "    </tr>\n",
       "  </tbody>\n",
       "</table>\n",
       "</div>"
      ],
      "text/plain": [
       "                   gene_name  hl60_6h_log2FC  hl60_6h_pvalue  hl60_72h_log2FC  \\\n",
       "ENSG00000112473.18   SLC39A7        0.033115        0.025757         0.370989   \n",
       "ENSG00000213689.14     TREX1        0.180867        0.004585        -0.744397   \n",
       "\n",
       "                    hl60_72h_pvalue  hl60_72h_only_log2FC  \\\n",
       "ENSG00000112473.18         0.025757              0.320985   \n",
       "ENSG00000213689.14         0.004585             -0.795110   \n",
       "\n",
       "                    hl60_72h_only_pvalue  hl60_120h_log2FC  hl60_120h_pvalue  \\\n",
       "ENSG00000112473.18              0.362331         -0.088687          0.025757   \n",
       "ENSG00000213689.14              0.209584         -1.988669          0.004585   \n",
       "\n",
       "                    kg1_log2FC  kg1_pvalue  molm14_log2FC  molm14_pvalue  \\\n",
       "ENSG00000112473.18    0.220891    0.203216       0.365204       0.107815   \n",
       "ENSG00000213689.14    0.711876    0.389471       1.067947       0.010724   \n",
       "\n",
       "                    ociaml2_log2FC  ociaml2_pvalue  ociaml3_log2FC  \\\n",
       "ENSG00000112473.18        0.175256        0.395472       -0.104593   \n",
       "ENSG00000213689.14        0.050864        0.924305        0.561549   \n",
       "\n",
       "                    ociaml3_pvalue  thp1_log2FC  thp1_pvalue  \n",
       "ENSG00000112473.18        0.625199     0.242608     0.151773  \n",
       "ENSG00000213689.14        0.109210    -0.187934     0.701555  "
      ]
     },
     "execution_count": 59,
     "metadata": {},
     "output_type": "execute_result"
    }
   ],
   "source": [
    "comps['delta_exp'].query('gene_name == \"TREX1\" or gene_name == \"SLC39A7\"')"
   ]
  },
  {
   "cell_type": "code",
   "execution_count": 64,
   "id": "636243f0-d7a4-4367-a437-39915068e22b",
   "metadata": {},
   "outputs": [
    {
     "data": {
      "text/html": [
       "<div>\n",
       "<style scoped>\n",
       "    .dataframe tbody tr th:only-of-type {\n",
       "        vertical-align: middle;\n",
       "    }\n",
       "\n",
       "    .dataframe tbody tr th {\n",
       "        vertical-align: top;\n",
       "    }\n",
       "\n",
       "    .dataframe thead th {\n",
       "        text-align: right;\n",
       "    }\n",
       "</style>\n",
       "<table border=\"1\" class=\"dataframe\">\n",
       "  <thead>\n",
       "    <tr style=\"text-align: right;\">\n",
       "      <th></th>\n",
       "      <th>gene_id</th>\n",
       "      <th>gene_name</th>\n",
       "      <th>logFC</th>\n",
       "      <th>pval</th>\n",
       "    </tr>\n",
       "  </thead>\n",
       "  <tbody>\n",
       "    <tr>\n",
       "      <th>985</th>\n",
       "      <td>ENSG00000112473.18</td>\n",
       "      <td>SLC39A7</td>\n",
       "      <td>0.622168</td>\n",
       "      <td>0.000633</td>\n",
       "    </tr>\n",
       "    <tr>\n",
       "      <th>986</th>\n",
       "      <td>ENSG00000112473.18</td>\n",
       "      <td>SLC39A7</td>\n",
       "      <td>-1.133386</td>\n",
       "      <td>0.000246</td>\n",
       "    </tr>\n",
       "    <tr>\n",
       "      <th>3953</th>\n",
       "      <td>ENSG00000213689.14</td>\n",
       "      <td>TREX1</td>\n",
       "      <td>4.579852</td>\n",
       "      <td>0.000977</td>\n",
       "    </tr>\n",
       "  </tbody>\n",
       "</table>\n",
       "</div>"
      ],
      "text/plain": [
       "                 gene_id gene_name     logFC      pval\n",
       "985   ENSG00000112473.18   SLC39A7  0.622168  0.000633\n",
       "986   ENSG00000112473.18   SLC39A7 -1.133386  0.000246\n",
       "3953  ENSG00000213689.14     TREX1  4.579852  0.000977"
      ]
     },
     "execution_count": 64,
     "metadata": {},
     "output_type": "execute_result"
    }
   ],
   "source": [
    "comps['delta_mtyl'].query('gene_name == \"TREX1\" or gene_name == \"SLC39A7\"')"
   ]
  },
  {
   "cell_type": "code",
   "execution_count": 67,
   "id": "788044e8-7124-4c8b-8a21-0b6bbd5aa3dc",
   "metadata": {},
   "outputs": [
    {
     "data": {
      "text/html": [
       "<div>\n",
       "<style scoped>\n",
       "    .dataframe tbody tr th:only-of-type {\n",
       "        vertical-align: middle;\n",
       "    }\n",
       "\n",
       "    .dataframe tbody tr th {\n",
       "        vertical-align: top;\n",
       "    }\n",
       "\n",
       "    .dataframe thead th {\n",
       "        text-align: right;\n",
       "    }\n",
       "</style>\n",
       "<table border=\"1\" class=\"dataframe\">\n",
       "  <thead>\n",
       "    <tr style=\"text-align: right;\">\n",
       "      <th></th>\n",
       "      <th>rho score</th>\n",
       "      <th>Mann-Whitney p-value</th>\n",
       "    </tr>\n",
       "    <tr>\n",
       "      <th>gene_name</th>\n",
       "      <th></th>\n",
       "      <th></th>\n",
       "    </tr>\n",
       "  </thead>\n",
       "  <tbody>\n",
       "    <tr>\n",
       "      <th>SLC39A7</th>\n",
       "      <td>0.206758921345</td>\n",
       "      <td>0.219858232406</td>\n",
       "    </tr>\n",
       "    <tr>\n",
       "      <th>TREX1</th>\n",
       "      <td>-0.00377612669048</td>\n",
       "      <td>0.822729144287</td>\n",
       "    </tr>\n",
       "  </tbody>\n",
       "</table>\n",
       "</div>"
      ],
      "text/plain": [
       "                   rho score Mann-Whitney p-value\n",
       "gene_name                                        \n",
       "SLC39A7       0.206758921345       0.219858232406\n",
       "TREX1      -0.00377612669048       0.822729144287"
      ]
     },
     "execution_count": 67,
     "metadata": {},
     "output_type": "execute_result"
    }
   ],
   "source": [
    "scrns['hl60_exp1_DAC_rho'].query('gene_name == \"TREX1\" or gene_name == \"SLC39A7\"')"
   ]
  },
  {
   "cell_type": "markdown",
   "id": "a1cf41a9-2f3f-4e74-ab14-724f7aae7cbb",
   "metadata": {},
   "source": [
    "> Systematic genetic mapping of necroptosis identifies SLC39A7 as modulator of death receptor trafficking\n",
    "https://www.nature.com/articles/s41418-018-0192-6\n",
    "\n",
    "> Transcriptomic analysis reveals proinflammatory signatures associated with acute myeloid leukemia progression\n",
    "https://pubmed.ncbi.nlm.nih.gov/34619772/"
   ]
  },
  {
   "cell_type": "code",
   "execution_count": 100,
   "id": "9c24d4fe-c8c9-4464-8afb-3e1f6dad710d",
   "metadata": {},
   "outputs": [
    {
     "name": "stdout",
     "output_type": "stream",
     "text": [
      "alternative-splicing.ipynb         \u001b[0m\u001b[38;5;27mQC-reports\u001b[0m/\n",
      "\u001b[38;5;27mbam\u001b[0m/                               QoRTs.out\n",
      "\u001b[38;5;27mcell-line-consistency\u001b[0m/             QoRTs.sh\n",
      "cell-line-consistency.ipynb        \u001b[38;5;27mquants\u001b[0m/\n",
      "checksum-fastq.txt                 run-JunctionSeq.R\n",
      "\u001b[38;5;27mexp\u001b[0m/                               \u001b[38;5;27mscallop-genome\u001b[0m/\n",
      "exp-differential-expression.ipynb  \u001b[38;5;27mscripts\u001b[0m/\n",
      "\u001b[38;5;27mfastq\u001b[0m/                             \u001b[38;5;27mstbl\u001b[0m/\n",
      "\u001b[38;5;27mfastQC\u001b[0m/                            \u001b[38;5;27mstbl-counts\u001b[0m/\n",
      "\u001b[38;5;27mfigures\u001b[0m/                           stbl-differential-stability.ipynb\n",
      "\u001b[38;5;27mhl60-tinat\u001b[0m/                        \u001b[38;5;27mstbl-log\u001b[0m/\n",
      "iso-prep-JunctionSeq.ipynb         \u001b[38;5;27mstbl-output\u001b[0m/\n",
      "\u001b[38;5;27mmiso\u001b[0m/                              stbl-run-REMBRANDTS.ipynb\n",
      "\u001b[38;5;27mother-tinat\u001b[0m/                       \u001b[38;5;27msuppa\u001b[0m/\n",
      "pathway-enrichment.ipynb\n"
     ]
    }
   ],
   "source": [
    "ls RNA-seq"
   ]
  },
  {
   "cell_type": "code",
   "execution_count": null,
   "id": "dab0641f-d8ba-48ab-95ae-ef1b62505918",
   "metadata": {},
   "outputs": [],
   "source": []
  },
  {
   "cell_type": "code",
   "execution_count": null,
   "id": "78ae0cd4-89c9-493d-955a-e6c0bb0d6c04",
   "metadata": {},
   "outputs": [],
   "source": []
  },
  {
   "cell_type": "code",
   "execution_count": null,
   "id": "2459ad25-fc4c-4e8d-b670-578082a8977b",
   "metadata": {},
   "outputs": [],
   "source": []
  },
  {
   "cell_type": "markdown",
   "id": "abaf84ce-d0ec-4ed4-a0c3-8d183ab05fad",
   "metadata": {
    "tags": []
   },
   "source": [
    "# CanDI analysis "
   ]
  },
  {
   "cell_type": "markdown",
   "id": "8ccab2b6-19c8-41b8-aec4-cf6df850c95a",
   "metadata": {},
   "source": [
    "There some missing data from DepMap in CanDI that I like to work with them here. So I downloaded them manually and I want to try explore them together with the CanDI's functionalities. \n",
    "\n",
    "    CCLE_metabolomics_20190502.csv\n",
    "    CCLE_RRBS_cgi_CpG_clusters_20181119.txt.gz\n",
    "    CCLE_RRBS_enh_CpG_clusters_20181119.txt.gz\n",
    "    CCLE_RRBS_TSS1kb_20181022.txt.gz\n",
    "    CCLE_RRBS_tss_CpG_clusters_20181022.txt.gz\n"
   ]
  },
  {
   "cell_type": "code",
   "execution_count": null,
   "id": "c6e7d528",
   "metadata": {},
   "outputs": [
    {
     "data": {
      "text/html": [
       "<div>\n",
       "<style scoped>\n",
       "    .dataframe tbody tr th:only-of-type {\n",
       "        vertical-align: middle;\n",
       "    }\n",
       "\n",
       "    .dataframe tbody tr th {\n",
       "        vertical-align: top;\n",
       "    }\n",
       "\n",
       "    .dataframe thead th {\n",
       "        text-align: right;\n",
       "    }\n",
       "</style>\n",
       "<table border=\"1\" class=\"dataframe\">\n",
       "  <thead>\n",
       "    <tr style=\"text-align: right;\">\n",
       "      <th></th>\n",
       "      <th>gene</th>\n",
       "      <th>Entrez_Gene_Id</th>\n",
       "      <th>NCBI_Build</th>\n",
       "      <th>Chromosome</th>\n",
       "      <th>Start_position</th>\n",
       "      <th>End_position</th>\n",
       "      <th>Strand</th>\n",
       "      <th>Variant_Classification</th>\n",
       "      <th>Variant_Type</th>\n",
       "      <th>Reference_Allele</th>\n",
       "      <th>...</th>\n",
       "      <th>isCOSMIChotspot</th>\n",
       "      <th>COSMIChsCnt</th>\n",
       "      <th>ExAC_AF</th>\n",
       "      <th>Variant_annotation</th>\n",
       "      <th>CGA_WES_AC</th>\n",
       "      <th>HC_AC</th>\n",
       "      <th>RD_AC</th>\n",
       "      <th>RNAseq_AC</th>\n",
       "      <th>SangerWES_AC</th>\n",
       "      <th>WGS_AC</th>\n",
       "    </tr>\n",
       "  </thead>\n",
       "  <tbody>\n",
       "    <tr>\n",
       "      <th>0</th>\n",
       "      <td>VPS13D</td>\n",
       "      <td>55187</td>\n",
       "      <td>37</td>\n",
       "      <td>1</td>\n",
       "      <td>12359347</td>\n",
       "      <td>12359347</td>\n",
       "      <td>+</td>\n",
       "      <td>Nonsense_Mutation</td>\n",
       "      <td>SNP</td>\n",
       "      <td>C</td>\n",
       "      <td>...</td>\n",
       "      <td>False</td>\n",
       "      <td>0.0</td>\n",
       "      <td>NaN</td>\n",
       "      <td>damaging</td>\n",
       "      <td>34:213</td>\n",
       "      <td>NaN</td>\n",
       "      <td>NaN</td>\n",
       "      <td>NaN</td>\n",
       "      <td>34:221</td>\n",
       "      <td>NaN</td>\n",
       "    </tr>\n",
       "    <tr>\n",
       "      <th>1</th>\n",
       "      <td>AADACL4</td>\n",
       "      <td>343066</td>\n",
       "      <td>37</td>\n",
       "      <td>1</td>\n",
       "      <td>12726308</td>\n",
       "      <td>12726322</td>\n",
       "      <td>+</td>\n",
       "      <td>In_Frame_Del</td>\n",
       "      <td>DEL</td>\n",
       "      <td>CTGGCGTGACGCCAT</td>\n",
       "      <td>...</td>\n",
       "      <td>False</td>\n",
       "      <td>3.0</td>\n",
       "      <td>NaN</td>\n",
       "      <td>other non-conserving</td>\n",
       "      <td>57:141</td>\n",
       "      <td>NaN</td>\n",
       "      <td>NaN</td>\n",
       "      <td>NaN</td>\n",
       "      <td>9:0</td>\n",
       "      <td>28:32</td>\n",
       "    </tr>\n",
       "    <tr>\n",
       "      <th>2</th>\n",
       "      <td>IFNLR1</td>\n",
       "      <td>163702</td>\n",
       "      <td>37</td>\n",
       "      <td>1</td>\n",
       "      <td>24484172</td>\n",
       "      <td>24484172</td>\n",
       "      <td>+</td>\n",
       "      <td>Silent</td>\n",
       "      <td>SNP</td>\n",
       "      <td>G</td>\n",
       "      <td>...</td>\n",
       "      <td>False</td>\n",
       "      <td>0.0</td>\n",
       "      <td>NaN</td>\n",
       "      <td>silent</td>\n",
       "      <td>118:0</td>\n",
       "      <td>NaN</td>\n",
       "      <td>NaN</td>\n",
       "      <td>10:0</td>\n",
       "      <td>118:0</td>\n",
       "      <td>18:0</td>\n",
       "    </tr>\n",
       "    <tr>\n",
       "      <th>3</th>\n",
       "      <td>TMEM57</td>\n",
       "      <td>55219</td>\n",
       "      <td>37</td>\n",
       "      <td>1</td>\n",
       "      <td>25785018</td>\n",
       "      <td>25785019</td>\n",
       "      <td>+</td>\n",
       "      <td>Frame_Shift_Ins</td>\n",
       "      <td>INS</td>\n",
       "      <td>-</td>\n",
       "      <td>...</td>\n",
       "      <td>False</td>\n",
       "      <td>0.0</td>\n",
       "      <td>NaN</td>\n",
       "      <td>damaging</td>\n",
       "      <td>NaN</td>\n",
       "      <td>NaN</td>\n",
       "      <td>NaN</td>\n",
       "      <td>6:28</td>\n",
       "      <td>NaN</td>\n",
       "      <td>NaN</td>\n",
       "    </tr>\n",
       "    <tr>\n",
       "      <th>4</th>\n",
       "      <td>ZSCAN20</td>\n",
       "      <td>7579</td>\n",
       "      <td>37</td>\n",
       "      <td>1</td>\n",
       "      <td>33954141</td>\n",
       "      <td>33954141</td>\n",
       "      <td>+</td>\n",
       "      <td>Missense_Mutation</td>\n",
       "      <td>SNP</td>\n",
       "      <td>T</td>\n",
       "      <td>...</td>\n",
       "      <td>False</td>\n",
       "      <td>0.0</td>\n",
       "      <td>NaN</td>\n",
       "      <td>other non-conserving</td>\n",
       "      <td>28:62</td>\n",
       "      <td>NaN</td>\n",
       "      <td>NaN</td>\n",
       "      <td>NaN</td>\n",
       "      <td>27:61</td>\n",
       "      <td>NaN</td>\n",
       "    </tr>\n",
       "    <tr>\n",
       "      <th>...</th>\n",
       "      <td>...</td>\n",
       "      <td>...</td>\n",
       "      <td>...</td>\n",
       "      <td>...</td>\n",
       "      <td>...</td>\n",
       "      <td>...</td>\n",
       "      <td>...</td>\n",
       "      <td>...</td>\n",
       "      <td>...</td>\n",
       "      <td>...</td>\n",
       "      <td>...</td>\n",
       "      <td>...</td>\n",
       "      <td>...</td>\n",
       "      <td>...</td>\n",
       "      <td>...</td>\n",
       "      <td>...</td>\n",
       "      <td>...</td>\n",
       "      <td>...</td>\n",
       "      <td>...</td>\n",
       "      <td>...</td>\n",
       "      <td>...</td>\n",
       "    </tr>\n",
       "    <tr>\n",
       "      <th>1226331</th>\n",
       "      <td>SLC39A4</td>\n",
       "      <td>55630</td>\n",
       "      <td>37</td>\n",
       "      <td>8</td>\n",
       "      <td>145641991</td>\n",
       "      <td>145641991</td>\n",
       "      <td>+</td>\n",
       "      <td>Silent</td>\n",
       "      <td>SNP</td>\n",
       "      <td>C</td>\n",
       "      <td>...</td>\n",
       "      <td>False</td>\n",
       "      <td>0.0</td>\n",
       "      <td>0.000017</td>\n",
       "      <td>silent</td>\n",
       "      <td>52:23</td>\n",
       "      <td>NaN</td>\n",
       "      <td>NaN</td>\n",
       "      <td>NaN</td>\n",
       "      <td>NaN</td>\n",
       "      <td>NaN</td>\n",
       "    </tr>\n",
       "    <tr>\n",
       "      <th>1226332</th>\n",
       "      <td>TAL2</td>\n",
       "      <td>6887</td>\n",
       "      <td>37</td>\n",
       "      <td>9</td>\n",
       "      <td>108424778</td>\n",
       "      <td>108424778</td>\n",
       "      <td>+</td>\n",
       "      <td>Start_Codon_SNP</td>\n",
       "      <td>SNP</td>\n",
       "      <td>A</td>\n",
       "      <td>...</td>\n",
       "      <td>False</td>\n",
       "      <td>0.0</td>\n",
       "      <td>NaN</td>\n",
       "      <td>damaging</td>\n",
       "      <td>27:0</td>\n",
       "      <td>NaN</td>\n",
       "      <td>NaN</td>\n",
       "      <td>NaN</td>\n",
       "      <td>NaN</td>\n",
       "      <td>NaN</td>\n",
       "    </tr>\n",
       "    <tr>\n",
       "      <th>1226333</th>\n",
       "      <td>TRO</td>\n",
       "      <td>7216</td>\n",
       "      <td>37</td>\n",
       "      <td>X</td>\n",
       "      <td>54955098</td>\n",
       "      <td>54955098</td>\n",
       "      <td>+</td>\n",
       "      <td>Silent</td>\n",
       "      <td>SNP</td>\n",
       "      <td>C</td>\n",
       "      <td>...</td>\n",
       "      <td>False</td>\n",
       "      <td>0.0</td>\n",
       "      <td>NaN</td>\n",
       "      <td>silent</td>\n",
       "      <td>5:16</td>\n",
       "      <td>NaN</td>\n",
       "      <td>NaN</td>\n",
       "      <td>NaN</td>\n",
       "      <td>NaN</td>\n",
       "      <td>NaN</td>\n",
       "    </tr>\n",
       "    <tr>\n",
       "      <th>1226334</th>\n",
       "      <td>USP51</td>\n",
       "      <td>158880</td>\n",
       "      <td>37</td>\n",
       "      <td>X</td>\n",
       "      <td>55514703</td>\n",
       "      <td>55514703</td>\n",
       "      <td>+</td>\n",
       "      <td>Missense_Mutation</td>\n",
       "      <td>SNP</td>\n",
       "      <td>G</td>\n",
       "      <td>...</td>\n",
       "      <td>False</td>\n",
       "      <td>0.0</td>\n",
       "      <td>NaN</td>\n",
       "      <td>other non-conserving</td>\n",
       "      <td>23:0</td>\n",
       "      <td>NaN</td>\n",
       "      <td>NaN</td>\n",
       "      <td>NaN</td>\n",
       "      <td>NaN</td>\n",
       "      <td>NaN</td>\n",
       "    </tr>\n",
       "    <tr>\n",
       "      <th>1226335</th>\n",
       "      <td>C1GALT1C1</td>\n",
       "      <td>29071</td>\n",
       "      <td>37</td>\n",
       "      <td>X</td>\n",
       "      <td>119760406</td>\n",
       "      <td>119760406</td>\n",
       "      <td>+</td>\n",
       "      <td>Missense_Mutation</td>\n",
       "      <td>SNP</td>\n",
       "      <td>T</td>\n",
       "      <td>...</td>\n",
       "      <td>False</td>\n",
       "      <td>0.0</td>\n",
       "      <td>NaN</td>\n",
       "      <td>other non-conserving</td>\n",
       "      <td>28:0</td>\n",
       "      <td>NaN</td>\n",
       "      <td>NaN</td>\n",
       "      <td>NaN</td>\n",
       "      <td>NaN</td>\n",
       "      <td>NaN</td>\n",
       "    </tr>\n",
       "  </tbody>\n",
       "</table>\n",
       "<p>1226336 rows × 32 columns</p>\n",
       "</div>"
      ],
      "text/plain": [
       "              gene  Entrez_Gene_Id  NCBI_Build Chromosome  Start_position  \\\n",
       "0           VPS13D           55187          37          1        12359347   \n",
       "1          AADACL4          343066          37          1        12726308   \n",
       "2           IFNLR1          163702          37          1        24484172   \n",
       "3           TMEM57           55219          37          1        25785018   \n",
       "4          ZSCAN20            7579          37          1        33954141   \n",
       "...            ...             ...         ...        ...             ...   \n",
       "1226331    SLC39A4           55630          37          8       145641991   \n",
       "1226332       TAL2            6887          37          9       108424778   \n",
       "1226333        TRO            7216          37          X        54955098   \n",
       "1226334      USP51          158880          37          X        55514703   \n",
       "1226335  C1GALT1C1           29071          37          X       119760406   \n",
       "\n",
       "         End_position Strand Variant_Classification Variant_Type  \\\n",
       "0            12359347      +      Nonsense_Mutation          SNP   \n",
       "1            12726322      +           In_Frame_Del          DEL   \n",
       "2            24484172      +                 Silent          SNP   \n",
       "3            25785019      +        Frame_Shift_Ins          INS   \n",
       "4            33954141      +      Missense_Mutation          SNP   \n",
       "...               ...    ...                    ...          ...   \n",
       "1226331     145641991      +                 Silent          SNP   \n",
       "1226332     108424778      +        Start_Codon_SNP          SNP   \n",
       "1226333      54955098      +                 Silent          SNP   \n",
       "1226334      55514703      +      Missense_Mutation          SNP   \n",
       "1226335     119760406      +      Missense_Mutation          SNP   \n",
       "\n",
       "        Reference_Allele  ... isCOSMIChotspot COSMIChsCnt   ExAC_AF  \\\n",
       "0                      C  ...           False         0.0       NaN   \n",
       "1        CTGGCGTGACGCCAT  ...           False         3.0       NaN   \n",
       "2                      G  ...           False         0.0       NaN   \n",
       "3                      -  ...           False         0.0       NaN   \n",
       "4                      T  ...           False         0.0       NaN   \n",
       "...                  ...  ...             ...         ...       ...   \n",
       "1226331                C  ...           False         0.0  0.000017   \n",
       "1226332                A  ...           False         0.0       NaN   \n",
       "1226333                C  ...           False         0.0       NaN   \n",
       "1226334                G  ...           False         0.0       NaN   \n",
       "1226335                T  ...           False         0.0       NaN   \n",
       "\n",
       "           Variant_annotation CGA_WES_AC HC_AC RD_AC RNAseq_AC SangerWES_AC  \\\n",
       "0                    damaging     34:213   NaN   NaN       NaN       34:221   \n",
       "1        other non-conserving     57:141   NaN   NaN       NaN          9:0   \n",
       "2                      silent      118:0   NaN   NaN      10:0        118:0   \n",
       "3                    damaging        NaN   NaN   NaN      6:28          NaN   \n",
       "4        other non-conserving      28:62   NaN   NaN       NaN        27:61   \n",
       "...                       ...        ...   ...   ...       ...          ...   \n",
       "1226331                silent      52:23   NaN   NaN       NaN          NaN   \n",
       "1226332              damaging       27:0   NaN   NaN       NaN          NaN   \n",
       "1226333                silent       5:16   NaN   NaN       NaN          NaN   \n",
       "1226334  other non-conserving       23:0   NaN   NaN       NaN          NaN   \n",
       "1226335  other non-conserving       28:0   NaN   NaN       NaN          NaN   \n",
       "\n",
       "        WGS_AC  \n",
       "0          NaN  \n",
       "1        28:32  \n",
       "2         18:0  \n",
       "3          NaN  \n",
       "4          NaN  \n",
       "...        ...  \n",
       "1226331    NaN  \n",
       "1226332    NaN  \n",
       "1226333    NaN  \n",
       "1226334    NaN  \n",
       "1226335    NaN  \n",
       "\n",
       "[1226336 rows x 32 columns]"
      ]
     },
     "execution_count": 3,
     "metadata": {},
     "output_type": "execute_result"
    }
   ],
   "source": [
    "can.data.load('mutations')"
   ]
  },
  {
   "cell_type": "code",
   "execution_count": null,
   "id": "6be4e96b",
   "metadata": {},
   "outputs": [],
   "source": [
    "def intersection(lst1, lst2):\n",
    "    return list(set(lst1) & set(lst2))\n",
    "\n",
    "\n",
    "def pretty_print_attr(obj):\n",
    "    attr = []\n",
    "    ls_attr = []\n",
    "    meth = []\n",
    "    for i in dir(obj):\n",
    "        if \"_\" != i[0]:\n",
    "            if type(getattr(obj, i)) == str or type(getattr(obj, i)) == int:\n",
    "                attr.append(i)\n",
    "            elif type(getattr(obj, i)) == list:\n",
    "                ls_attr.append(i)\n",
    "            else:\n",
    "                meth.append(i)\n",
    "\n",
    "    print(\"Attributes:\\n\")\n",
    "    for i in attr: print(i+\":\", getattr(obj, i))\n",
    "    for i in ls_attr: print(i+\" list first item:\", getattr(obj, i)[0])\n",
    "    for i in ls_attr: print(i+\" length:\", len(getattr(obj, i)))\n",
    "    print(\"\\nMethods:\\n\")\n",
    "    for i in meth: print(i)"
   ]
  },
  {
   "cell_type": "code",
   "execution_count": null,
   "id": "73dad444",
   "metadata": {},
   "outputs": [],
   "source": [
    "def mt_wt_objs(cancer, genes):\n",
    "    # Cell lines with mutation\n",
    "    mt_list = cancer.mutated(genes)\n",
    "    mt = can.CellLineCluster(mt_list) \n",
    "\n",
    "    # CellLineCluster ojbect must be instantiated with a mutable sequence\n",
    "    # I use set operations to get wild type cell line ids and convert to a list\n",
    "    wt_list = list(set(lu.depmap_ids) - set(mt_list)) \n",
    "\n",
    "    wt = can.CellLineCluster(wt_list) \n",
    "    print (f'#of mutated cell lines:\\n\\t{len(mt.depmap_ids)}')\n",
    "    print (f'#of wildtype cell lines:\\n\\t{len(wt.depmap_ids)}')\n",
    "    \n",
    "    return mt, wt"
   ]
  },
  {
   "cell_type": "code",
   "execution_count": null,
   "id": "f19f9fe4",
   "metadata": {},
   "outputs": [],
   "source": [
    "def gene_effect_heatmap(obj1, obj2, genes, name = None):\n",
    "    #Make Figure appropriate size, dpi, and font\n",
    "    plt.rcParams.update({\"figure.figsize\": (16, 6),\n",
    "                        \"savefig.dpi\": 300,\n",
    "                        \"font.size\": 12\n",
    "                        })\n",
    "\n",
    "    #One figure with one subplot\n",
    "    fig, ax = plt.subplots(1,1)\n",
    "\n",
    "    #Construcat matrix to make heatmap and cell line labels\n",
    "    data = pd.concat([obj1.effect_of(genes), obj2.effect_of(genes)], axis=1)\n",
    "    names = can.data.cell_lines.loc[data.columns, \"cell_line_name\"]\n",
    "\n",
    "    # We want to show all ticks...\n",
    "    ax.set_xticks(np.arange(len(names)))\n",
    "    ax.set_yticks(np.arange(len(genes)))\n",
    "    # ... and label them with the respective list entries\n",
    "    ax.set_xticklabels(names)\n",
    "    ax.set_yticklabels(genes)\n",
    "\n",
    "    #make heatmap\n",
    "    im = ax.imshow(data, cmap=\"RdBu\")\n",
    "\n",
    "    #Make colorbar scale to axis\n",
    "    divider = make_axes_locatable(ax)\n",
    "    cax = divider.append_axes(\"right\", size=\"5%\", pad=0.1)\n",
    "    cbar = ax.figure.colorbar(im, ax = ax, cax = cax)\n",
    "    cbar.ax.set_ylabel(\"Gene Effect\", rotation=-90, va=\"bottom\")\n",
    "\n",
    "    #Draw Dividing line btween mutant and\n",
    "    ax.axvline(x=obj1.gene_effect.shape[1] - 0.5, c = \"black\", linewidth = 3)\n",
    "    plt.setp(ax.get_xticklabels(), rotation=-90, ha=\"left\", va=\"center\",\n",
    "         rotation_mode=\"anchor\")\n",
    "    plt.tight_layout()\n",
    "    plt.show()\n",
    "\n",
    "    if name:\n",
    "        fig.savefig(name, dpi=300)\n",
    "\n",
    "        \n",
    "def gene_effect_scatter(mt, wt, genes=None, name_scatter='', return_effect=False, plot=True, name=None):\n",
    "\n",
    "    # Average Gene Effect \n",
    "    mt_effect = mt.gene_dependency.mean(1)\n",
    "    wt_effect = wt.gene_dependency.mean(1)\n",
    "\n",
    "    if return_effect:\n",
    "        return mt_effect, wt_effect\n",
    "    \n",
    "    if plot:\n",
    "        #Make Figure appropriate size, dpi, and font\n",
    "        plt.rcParams.update({\"figure.figsize\": (8, 8),\n",
    "                            \"savefig.dpi\": 300,\n",
    "                            \"font.family\": \"sans-serif\",\n",
    "                            \"font.size\": 12\n",
    "                            })\n",
    "\n",
    "        #Generate Figure and Axis objects\n",
    "        fig, ax = plt.subplots(1,1)\n",
    "\n",
    "        #Label Axes\n",
    "        ax.set_xlabel(f\"{name_scatter} MT Average Gene Effect (CERES Score)\")\n",
    "        ax.set_ylabel(f\"{name_scatter} WT Average Gene Effect (CERES Score)\")\n",
    "\n",
    "        #Draw Line at median common essential value\n",
    "        ax.axhline(y = 0.50,\n",
    "                   c = \"black\",\n",
    "                   linewidth=0.5,\n",
    "                   label = \"Minimun Gene Dependencey Probability\"\n",
    "                  )\n",
    "\n",
    "        ax.axvline(x = 0.50,\n",
    "                   c= \"black\",\n",
    "                   linewidth=0.5)\n",
    "\n",
    "        #Plot all genes\n",
    "        ax.scatter(mt_effect,\n",
    "                   wt_effect,\n",
    "                   c = \"#2166ac\",\n",
    "                   alpha = 0.1,\n",
    "                   s = 50\n",
    "                  )\n",
    "\n",
    "        ax.legend()\n",
    "\n",
    "        if genes:\n",
    "            #For Labeling\n",
    "            if type(genes) != list:\n",
    "                mt_lab = mt_effect.loc[[genes]]\n",
    "                wt_lab = wt_effect.loc[[genes]]\n",
    "            else:\n",
    "                mt_lab = mt_effect.loc[genes]\n",
    "                wt_lab = wt_effect.loc[genes]\n",
    "            # Outline Genes To label\n",
    "            ax.scatter(mt_lab,\n",
    "                       wt_lab,\n",
    "                       c = \"#2166ac\",\n",
    "                       s = 50,\n",
    "                       edgecolor = \"black\",\n",
    "                       linewidth = 2,\n",
    "                       alpha = 0.7\n",
    "                      )\n",
    "        #     for i in range(mt_lab.shape[0]):\n",
    "        #         text = list(mt_lab.index)\n",
    "        #         ax.annotate(text[i],\n",
    "        #                     xy = (mt_lab[i], wt_lab[i]),\n",
    "        #                     xytext = label[i],\n",
    "        #                     xycoords = \"data\",\n",
    "        #                     arrowprops = {\"arrowstyle\": \"-\"}\n",
    "        #                    )\n",
    "            texts = []\n",
    "            for x, y, s in zip(mt_lab, wt_lab, mt_lab.index.tolist()):\n",
    "                texts.append(plt.text(x, y, s))\n",
    "\n",
    "            adjust_text(\n",
    "                texts, force_points=0.2, force_text=0.2,\n",
    "                expand_points=(2, 2), \n",
    "                expand_text=(2, 2),\n",
    "                arrowprops=dict(arrowstyle=\"-\", color='black', lw=0.2)\n",
    "            )\n",
    "\n",
    "        plt.show()\n",
    "\n",
    "        if name:\n",
    "            fig.savefig(name, dpi=300)\n"
   ]
  },
  {
   "cell_type": "code",
   "execution_count": null,
   "id": "b572d859",
   "metadata": {},
   "outputs": [],
   "source": [
    "cell_lines = can.data.cell_lines\n",
    "genes = can.data.genes.index.tolist()\n",
    "\n",
    "m6A = pd.read_csv('m6A-genes.tsv',sep='\\t')\n",
    "m6A_genes = [g.split(' ')[0] for g in m6A.Names if g in genes]\n",
    "\n",
    "DNMT_genes = [g for g in genes if 'DNMT' in g]"
   ]
  },
  {
   "cell_type": "code",
   "execution_count": null,
   "id": "f03cc6c1",
   "metadata": {},
   "outputs": [
    {
     "data": {
      "text/plain": [
       "{'m6A eraser', 'm6A reader', 'm6A writer'}"
      ]
     },
     "execution_count": 8,
     "metadata": {},
     "output_type": "execute_result"
    }
   ],
   "source": [
    "set(m6A.Type)"
   ]
  },
  {
   "cell_type": "code",
   "execution_count": null,
   "id": "7e1a8101",
   "metadata": {},
   "outputs": [],
   "source": [
    "m6A_writer_genes = [g.split(' ')[0] for g in m6A[m6A.Type == 'm6A writer'].Names if g in genes] \n",
    "m6A_eraser_genes = [g.split(' ')[0] for g in m6A[m6A.Type == 'm6A eraser'].Names if g in genes] "
   ]
  },
  {
   "cell_type": "code",
   "execution_count": null,
   "id": "226e73ab",
   "metadata": {},
   "outputs": [
    {
     "name": "stdout",
     "output_type": "stream",
     "text": [
      "97\n"
     ]
    }
   ],
   "source": [
    "lu = can.Cancer(\"Leukemia\", subtype='AML')\n",
    "\n",
    "# Number of Leukemia lines\n",
    "print(len(lu.depmap_ids))"
   ]
  },
  {
   "cell_type": "code",
   "execution_count": null,
   "id": "be37f4e0",
   "metadata": {},
   "outputs": [
    {
     "data": {
      "text/plain": [
       "Index(['gene', 'Entrez_Gene_Id', 'NCBI_Build', 'Chromosome', 'Start_position',\n",
       "       'End_position', 'Strand', 'Variant_Classification', 'Variant_Type',\n",
       "       'Reference_Allele', 'Tumor_Seq_Allele1', 'dbSNP_RS', 'dbSNP_Val_Status',\n",
       "       'Genome_Change', 'Annotation_Transcript', 'DepMap_ID', 'cDNA_Change',\n",
       "       'Codon_Change', 'Protein_Change', 'isDeleterious', 'isTCGAhotspot',\n",
       "       'TCGAhsCnt', 'isCOSMIChotspot', 'COSMIChsCnt', 'ExAC_AF',\n",
       "       'Variant_annotation', 'CGA_WES_AC', 'HC_AC', 'RD_AC', 'RNAseq_AC',\n",
       "       'SangerWES_AC', 'WGS_AC'],\n",
       "      dtype='object')"
      ]
     },
     "execution_count": 11,
     "metadata": {},
     "output_type": "execute_result"
    }
   ],
   "source": [
    "can.data.mutations.columns"
   ]
  },
  {
   "cell_type": "code",
   "execution_count": null,
   "id": "8a3c2333",
   "metadata": {},
   "outputs": [
    {
     "data": {
      "text/plain": [
       "['p.N1515K',\n",
       " 'p.T1469M',\n",
       " 'p.R43R',\n",
       " 'p.P210H',\n",
       " 'p.P258fs',\n",
       " 'p.R3662P',\n",
       " 'p.T58S',\n",
       " 'p.S876Y',\n",
       " 'p.C2157F']"
      ]
     },
     "execution_count": 12,
     "metadata": {},
     "output_type": "execute_result"
    }
   ],
   "source": [
    "list(set(can.data.mutations.Protein_Change))[1:10]"
   ]
  },
  {
   "cell_type": "markdown",
   "id": "a3f192c2-6e82-43f4-924d-1512987b13a8",
   "metadata": {},
   "source": [
    "### Analyzing Global Gene Dependency\n",
    "\n",
    "\n",
    "> #### [Note-about-Gene-Effect-Scores:-Dependency-vs-Essentiality:](https://candi.readthedocs.io/en/latest/kras_egfr_scatter.html#Note-about-Gene-Effect-Scores:-Dependency-vs-Essentiality) \n",
    "A more negative gene effect means more dependent. A gene effect of -1.0 is the median gene effect of all common essential genes. If a gene has a gene effect of -1.0 or lower it then that gene is essential. A cell line can still be dependent on a gene with a lower gene effect if knocking out that gene slows growth/proliferation.\n",
    "\n"
   ]
  },
  {
   "cell_type": "markdown",
   "id": "f0028bb6-3913-4195-94bd-8d8370074218",
   "metadata": {},
   "source": [
    "### m6A writer mutation"
   ]
  },
  {
   "cell_type": "code",
   "execution_count": null,
   "id": "d89412b3",
   "metadata": {},
   "outputs": [
    {
     "name": "stdout",
     "output_type": "stream",
     "text": [
      "#of mutated cell lines:\n",
      "\t28\n",
      "#of wildtype cell lines:\n",
      "\t69\n"
     ]
    }
   ],
   "source": [
    "m6A_mt, m6A_wt = mt_wt_objs(lu, m6A_writer_genes + ['TP53'])"
   ]
  },
  {
   "cell_type": "code",
   "execution_count": null,
   "id": "794f0b6d",
   "metadata": {},
   "outputs": [
    {
     "name": "stdout",
     "output_type": "stream",
     "text": [
      "gene_effect has not been loaded. Do you want to load, y/n?> y\n",
      "Load Complete\n"
     ]
    },
    {
     "data": {
      "image/png": "[encoded data removed]",
      "text/plain": [
       "<Figure size 1152x432 with 2 Axes>"
      ]
     },
     "metadata": {
      "needs_background": "light"
     },
     "output_type": "display_data"
    }
   ],
   "source": [
    "gene_effect_heatmap(m6A_mt, m6A_wt,m6A_writer_genes + DNMT_genes)"
   ]
  },
  {
   "cell_type": "code",
   "execution_count": null,
   "id": "35cc2db7",
   "metadata": {},
   "outputs": [
    {
     "data": {
      "image/png": "[encoded data removed]",
      "text/plain": [
       "<Figure size 576x576 with 1 Axes>"
      ]
     },
     "metadata": {
      "needs_background": "light"
     },
     "output_type": "display_data"
    },
    {
     "data": {
      "text/html": [
       "<div>\n",
       "<style scoped>\n",
       "    .dataframe tbody tr th:only-of-type {\n",
       "        vertical-align: middle;\n",
       "    }\n",
       "\n",
       "    .dataframe tbody tr th {\n",
       "        vertical-align: top;\n",
       "    }\n",
       "\n",
       "    .dataframe thead th {\n",
       "        text-align: right;\n",
       "    }\n",
       "</style>\n",
       "<table border=\"1\" class=\"dataframe\">\n",
       "  <thead>\n",
       "    <tr style=\"text-align: right;\">\n",
       "      <th></th>\n",
       "      <th>inputGenes</th>\n",
       "      <th>p_value</th>\n",
       "      <th>fdr</th>\n",
       "      <th>description</th>\n",
       "      <th>term</th>\n",
       "    </tr>\n",
       "  </thead>\n",
       "  <tbody>\n",
       "  </tbody>\n",
       "</table>\n",
       "</div>"
      ],
      "text/plain": [
       "Empty DataFrame\n",
       "Columns: [inputGenes, p_value, fdr, description, term]\n",
       "Index: []"
      ]
     },
     "execution_count": 32,
     "metadata": {},
     "output_type": "execute_result"
    }
   ],
   "source": [
    "m6A_mt_effect, m6A_wt_effect = gene_effect_scatter(\n",
    "    m6A_mt, m6A_wt,return_effect=True,plot=False\n",
    ")\n",
    "\n",
    "labels = intersection (\n",
    "    m6A_mt_effect[m6A_mt_effect <= 0.45].index.tolist(),m6A_wt_effect[m6A_wt_effect >= 0.7].index.tolist()\n",
    ") + intersection (m6A_mt_effect[m6A_mt_effect >= 0.65].index.tolist(),m6A_wt_effect[m6A_wt_effect <= 0.3].index.tolist())\n",
    "\n",
    "gene_effect_scatter(\n",
    "    m6A_mt, m6A_wt,\n",
    "    genes=labels + ['DNMT1'] + ['INTS5'] + \n",
    "    [g for g in m6A_writer_genes if g in m6A_mt_effect.index.tolist()],\n",
    "    name_scatter='m6A writer',\n",
    "    name='DNA-RNA-mtyl-m6A-scatter.pdf'\n",
    ")\n",
    "\n",
    "run_enrichment(labels)"
   ]
  },
  {
   "cell_type": "markdown",
   "id": "a24459e0-4031-4f1f-b2a9-f809e0ad2473",
   "metadata": {},
   "source": [
    "### INTS5 or m6A writer mutation"
   ]
  },
  {
   "cell_type": "code",
   "execution_count": null,
   "id": "108381ae",
   "metadata": {},
   "outputs": [
    {
     "name": "stdout",
     "output_type": "stream",
     "text": [
      "#of mutated cell lines:\n",
      "\t30\n",
      "#of wildtype cell lines:\n",
      "\t67\n"
     ]
    }
   ],
   "source": [
    "mt, wt = mt_wt_objs(lu, m6A_writer_genes+['INTS5','TP53'])"
   ]
  },
  {
   "cell_type": "code",
   "execution_count": null,
   "id": "5ba8f3ae",
   "metadata": {},
   "outputs": [],
   "source": [
    "# gene_effect_heatmap(DNMT_mt, DNMT_wt,m6A_writer_genes + DNMT_genes)"
   ]
  },
  {
   "cell_type": "code",
   "execution_count": null,
   "id": "38a815a7",
   "metadata": {},
   "outputs": [
    {
     "data": {
      "image/png": "[encoded data removed]",
      "text/plain": [
       "<Figure size 576x576 with 1 Axes>"
      ]
     },
     "metadata": {
      "needs_background": "light"
     },
     "output_type": "display_data"
    },
    {
     "data": {
      "text/html": [
       "<div>\n",
       "<style scoped>\n",
       "    .dataframe tbody tr th:only-of-type {\n",
       "        vertical-align: middle;\n",
       "    }\n",
       "\n",
       "    .dataframe tbody tr th {\n",
       "        vertical-align: top;\n",
       "    }\n",
       "\n",
       "    .dataframe thead th {\n",
       "        text-align: right;\n",
       "    }\n",
       "</style>\n",
       "<table border=\"1\" class=\"dataframe\">\n",
       "  <thead>\n",
       "    <tr style=\"text-align: right;\">\n",
       "      <th></th>\n",
       "      <th>inputGenes</th>\n",
       "      <th>p_value</th>\n",
       "      <th>fdr</th>\n",
       "      <th>description</th>\n",
       "      <th>term</th>\n",
       "    </tr>\n",
       "  </thead>\n",
       "  <tbody>\n",
       "    <tr>\n",
       "      <th>0</th>\n",
       "      <td>CARS2,NDUFS1,NDUFA13</td>\n",
       "      <td>0.000043</td>\n",
       "      <td>0.0401</td>\n",
       "      <td>Primary mitochondrial disease</td>\n",
       "      <td>KW-1274</td>\n",
       "    </tr>\n",
       "  </tbody>\n",
       "</table>\n",
       "</div>"
      ],
      "text/plain": [
       "             inputGenes   p_value     fdr                    description  \\\n",
       "0  CARS2,NDUFS1,NDUFA13  0.000043  0.0401  Primary mitochondrial disease   \n",
       "\n",
       "      term  \n",
       "0  KW-1274  "
      ]
     },
     "execution_count": 68,
     "metadata": {},
     "output_type": "execute_result"
    }
   ],
   "source": [
    "mt_effect, wt_effect = gene_effect_scatter(\n",
    "    mt, wt,return_effect=True,plot=False\n",
    ")\n",
    "\n",
    "labels = intersection (\n",
    "    mt_effect[mt_effect < 0.35].index.tolist(),wt_effect[wt_effect > 0.65].index.tolist()\n",
    ") + intersection (mt_effect[mt_effect > 0.7].index.tolist(),wt_effect[wt_effect < 0.4].index.tolist())\n",
    "\n",
    "gene_effect_scatter(\n",
    "    mt, wt,\n",
    "    genes=labels + ['DNMT1'] + ['INTS5', 'SQLE'] +\n",
    "    [g for g in m6A_writer_genes if g in mt_effect.index.tolist()],\n",
    "    name_scatter='DNMT family',\n",
    "#     name='DNA-RNA-mtyl-DNmt-scatter.pdf'\n",
    ")\n",
    "\n",
    "run_enrichment(labels)"
   ]
  },
  {
   "cell_type": "markdown",
   "id": "806c1669-7785-4017-a657-51bf4ed878c6",
   "metadata": {},
   "source": [
    "### DESeq analysis"
   ]
  },
  {
   "cell_type": "code",
   "execution_count": null,
   "id": "2528f39c",
   "metadata": {},
   "outputs": [],
   "source": [
    "def make_counts_coldata(obj1, obj2, condition, factor1, factor2):\n",
    "\n",
    "    counts1 = obj1.rnaseq_reads\n",
    "    coldat1 = pd.Series(counts1.shape[1] * [factor1], index = counts1.columns, name = condition)\n",
    "\n",
    "    counts2 = obj2.rnaseq_reads\n",
    "    coldat2 = pd.Series(counts2.shape[1] * [factor2], index = counts2.columns, name = condition)\n",
    "\n",
    "    #Concatenate Column Data\n",
    "    coldat = pd.concat([coldat1, coldat2], axis = 0)\n",
    "    #Concatenate read count data\n",
    "    counts_mat = pd.concat([counts1, counts2], axis = 1)\n",
    "    #Sum duplicate indeces\n",
    "    counts_mat = counts_mat.groupby(counts_mat.index).sum().astype(int)\n",
    "\n",
    "    return counts_mat, coldat"
   ]
  },
  {
   "cell_type": "code",
   "execution_count": null,
   "id": "758b468a",
   "metadata": {},
   "outputs": [],
   "source": [
    "counts_mat, coldat = make_counts_coldata(m6A_mt, m6A_wt,'mutation','mt','wt')"
   ]
  },
  {
   "cell_type": "code",
   "execution_count": null,
   "id": "8a40ebc2",
   "metadata": {},
   "outputs": [
    {
     "data": {
      "text/plain": [
       "ACH-000146    mt\n",
       "ACH-000487    mt\n",
       "ACH-000084    mt\n",
       "ACH-000198    mt\n",
       "Name: mutation, dtype: object"
      ]
     },
     "execution_count": 29,
     "metadata": {},
     "output_type": "execute_result"
    }
   ],
   "source": [
    "coldat[coldat == 'mt']"
   ]
  },
  {
   "cell_type": "code",
   "execution_count": null,
   "id": "54414a25-e271-4ba4-bc07-3225c8457b41",
   "metadata": {},
   "outputs": [],
   "source": []
  },
  {
   "cell_type": "markdown",
   "id": "8a0c3f66-d1c8-46b7-9397-b17b7c5e2724",
   "metadata": {
    "tags": []
   },
   "source": [
    "## CCLE DNA Methylation data"
   ]
  },
  {
   "cell_type": "markdown",
   "id": "5ccab04b-4f9d-441a-bb5d-33a31e0e8d5f",
   "metadata": {},
   "source": [
    "HL-60 raw data - https://trace.ncbi.nlm.nih.gov/Traces/sra/?run=SRR8633931"
   ]
  },
  {
   "cell_type": "code",
   "execution_count": null,
   "id": "97b45437-6c07-41ac-a049-69e98e84144b",
   "metadata": {},
   "outputs": [],
   "source": [
    "depmap_data_path = str(pathlib.Path(can.__file__).resolve().parent.parent)+'/setup/data/depmap'\n",
    "\n",
    "cgi_CpG_clusters = pd.read_csv(\n",
    "    f'{depmap_data_path}/CCLE_RRBS_cgi_CpG_clusters_20181119.txt.gz',\n",
    "    sep='\\t', quotechar='\"',low_memory=False\n",
    ")\n",
    "\n",
    "enh_CpG_clusters = pd.read_csv(\n",
    "    f'{depmap_data_path}/CCLE_RRBS_enh_CpG_clusters_20181119.txt.gz',\n",
    "    sep='\\t', quotechar='\"',low_memory=False\n",
    ")\n",
    "\n",
    "tss_CpG_clusters = pd.read_csv(\n",
    "    f'{depmap_data_path}/CCLE_RRBS_tss_CpG_clusters_20181022.txt.gz',\n",
    "    sep='\\t', quotechar='\"',low_memory=False\n",
    ")\n",
    "\n",
    "TSS1kb = pd.read_csv(\n",
    "    f'{depmap_data_path}/CCLE_RRBS_TSS1kb_20181022.txt.gz',\n",
    "    sep='\\t', quotechar='\"',low_memory=False\n",
    ")"
   ]
  },
  {
   "cell_type": "code",
   "execution_count": null,
   "id": "f077becc-f6b0-4071-8688-b8f3b1115d45",
   "metadata": {},
   "outputs": [],
   "source": [
    "# cgi_CpG_clusters"
   ]
  },
  {
   "cell_type": "code",
   "execution_count": null,
   "id": "6fa9bcf1-89e4-408d-92b2-09840333a3dd",
   "metadata": {},
   "outputs": [],
   "source": [
    "# enh_CpG_clusters"
   ]
  },
  {
   "cell_type": "code",
   "execution_count": null,
   "id": "7afa5129-5d76-4e1e-9d0e-2daec9554b9a",
   "metadata": {},
   "outputs": [],
   "source": [
    "genes = {}"
   ]
  },
  {
   "cell_type": "markdown",
   "id": "c34b138a-9d37-4f30-b23c-472d1286636f",
   "metadata": {},
   "source": [
    "### TSS1kb"
   ]
  },
  {
   "cell_type": "code",
   "execution_count": null,
   "id": "232cf928-82c5-4197-9519-1ee4f71962b3",
   "metadata": {},
   "outputs": [],
   "source": [
    "tss1kb_hl60_df = TSS1kb.loc[\n",
    "    :,['locus_id','CpG_sites_hg19','avg_coverage']+\n",
    "    [col for col in TSS1kb.columns for aml in [\n",
    "    'HL60_',#'OCIAML2','OCIAML2','KG1_'\n",
    "] if aml in col]].dropna()\n",
    "# .unique()\n"
   ]
  },
  {
   "cell_type": "code",
   "execution_count": null,
   "id": "38a932d8-ea1c-49c5-b550-c825b21b0c6b",
   "metadata": {},
   "outputs": [],
   "source": [
    "data1 = tss1kb_hl60_df.loc[:,['locus_id','HL60_HAEMATOPOIETIC_AND_LYMPHOID_TISSUE']].set_index('locus_id').astype('double')"
   ]
  },
  {
   "cell_type": "code",
   "execution_count": null,
   "id": "c6c7ffd9-dd1a-487f-b1b8-64753a51b944",
   "metadata": {},
   "outputs": [],
   "source": [
    "genes['tss1kb'],_,_,_ = zip(*\n",
    "    data1[data1.iloc[:,0] > 0.95].index.str.split('_').tolist()\n",
    ")\n",
    "genes['tss1kb'] = set(tss1kb_hl60_genes)"
   ]
  },
  {
   "cell_type": "markdown",
   "id": "fcb5d166-8b2f-4d90-a762-a6f5884ee329",
   "metadata": {},
   "source": [
    "### CpG"
   ]
  },
  {
   "cell_type": "code",
   "execution_count": null,
   "id": "5e2c1abb-c5a5-43f5-8ff1-a53e8accc589",
   "metadata": {},
   "outputs": [],
   "source": [
    "tss_CpG_hl60_df = tss_CpG_clusters.loc[\n",
    "    :,['cluster_id','CpG_sites_hg19','avg_coverage']+\n",
    "    [col for col in TSS1kb.columns for aml in [\n",
    "    'HL60_',#'OCIAML2','OCIAML2','KG1_'\n",
    "] if aml in col]].dropna()\n",
    "# .unique()"
   ]
  },
  {
   "cell_type": "code",
   "execution_count": null,
   "id": "82f8a790-d849-446b-b2db-09638820481a",
   "metadata": {},
   "outputs": [],
   "source": [
    "data2 = tss_CpG_hl60_df.loc[:,['cluster_id','HL60_HAEMATOPOIETIC_AND_LYMPHOID_TISSUE']].set_index('cluster_id').astype('double')"
   ]
  },
  {
   "cell_type": "code",
   "execution_count": null,
   "id": "be3ef3c9-136d-4fa3-ac42-b7be4fb81a28",
   "metadata": {},
   "outputs": [
    {
     "data": {
      "image/png": "[encoded data removed]",
      "text/plain": [
       "<Figure size 576x144 with 2 Axes>"
      ]
     },
     "metadata": {
      "needs_background": "light"
     },
     "output_type": "display_data"
    }
   ],
   "source": [
    "# Set up the plot\n",
    "f, (ax1,ax2) = plt.subplots(1,2,figsize=(8,2))\n",
    "\n",
    "ax1.hist(\n",
    "    data1, histtype='step', stacked=False, fill=False, bins = 100, \n",
    ")\n",
    "ax1.set_title('HL60 TSS1kb', size = 12)\n",
    "ax1.set_ylabel('log(Frequency)', size= 10)\n",
    "ax1.set_ylim(0,10000)\n",
    "\n",
    "# Set up the plot\n",
    "ax2 = plt.subplot(1, 2, 2)\n",
    "\n",
    "ax2.hist(\n",
    "    data2, histtype='step', stacked=False, fill=False, bins = 100, \n",
    ")\n",
    "ax2.set_title('HL60 TSS CpG', size = 12)\n",
    "ax2.set_ylim(0,10000)\n",
    "# Title and labels\n",
    "\n",
    "# f.set_yscale('log')\n",
    "plt.tight_layout()\n",
    "plt.show()"
   ]
  },
  {
   "cell_type": "code",
   "execution_count": null,
   "id": "5b2250bb-4aed-4940-85d6-1bda35f7e7c2",
   "metadata": {},
   "outputs": [],
   "source": [
    "genes['tss_CpG'] = set([x[0] for x in data[data.iloc[:,0] > 0.95].index.str.split('_').tolist()])"
   ]
  },
  {
   "cell_type": "code",
   "execution_count": null,
   "id": "b1999cab-98a5-4ef9-9a9b-1a703583cbde",
   "metadata": {},
   "outputs": [],
   "source": []
  },
  {
   "cell_type": "code",
   "execution_count": null,
   "id": "f6bf1c8d-1ab4-4971-b4cb-807d4cf801d5",
   "metadata": {},
   "outputs": [],
   "source": []
  },
  {
   "cell_type": "markdown",
   "id": "0dd3c27b-ac65-496a-9045-4dc8eb8f29d1",
   "metadata": {
    "tags": []
   },
   "source": [
    "## CCLE metabolomics\n",
    "\n",
    "    CCLE_metabolomics_20190502.csv\n"
   ]
  },
  {
   "cell_type": "markdown",
   "id": "19aa7275-11ea-42e3-90a0-397dabe714eb",
   "metadata": {
    "tags": []
   },
   "source": [
    "# "
   ]
  },
  {
   "cell_type": "code",
   "execution_count": 405,
   "id": "7352f7ea",
   "metadata": {},
   "outputs": [
    {
     "name": "stdout",
     "output_type": "stream",
     "text": [
      "Fri Dec 17 19:26:37 PST 2021\n"
     ]
    }
   ],
   "source": [
    "!date"
   ]
  }
 ],
 "metadata": {
  "kernelspec": {
   "display_name": "Python [conda env:down]",
   "language": "python",
   "name": "conda-env-down-py"
  },
  "language_info": {
   "codemirror_mode": {
    "name": "ipython",
    "version": 3
   },
   "file_extension": ".py",
   "mimetype": "text/x-python",
   "name": "python",
   "nbconvert_exporter": "python",
   "pygments_lexer": "ipython3",
   "version": "3.6.13"
  }
 },
 "nbformat": 4,
 "nbformat_minor": 5
}
