{
 "cells": [
  {
   "cell_type": "markdown",
   "id": "a8e3dead",
   "metadata": {},
   "source": [
    "# Differential Analysis Result Tables \n",
    "\n",
    "- [ ] short report about raw data and experiment design \n",
    "- [ ] describe analysis workflow and applied tools \n",
    "- [ ] describe results (plots, tables)\n",
    "- [ ] final interpretation "
   ]
  },
  {
   "cell_type": "markdown",
   "id": "32c6ea8c",
   "metadata": {},
   "source": [
    "## meRIP-seq\n",
    "Experiment design: Two replicates of samples for both treated with Decitabine drug and non-treated (\n",
    "`T1.input.bam`\n",
    "`T1.m6A.bam`\n",
    "`T2.input.bam`\n",
    "`T2.m6A.bam`\n",
    "`U1.input.bam`\n",
    "`U1.m6A.bam`\n",
    "`U2.input.bam`\n",
    "`U2.m6A.bam`\n",
    ") used for meRIP-seq experiment. \n",
    "\n",
    "Aim: analyzing differential methylation of MeRIP-seq data\n",
    "\n",
    "Tool: [RADAR](https://github.com/scottzijiezhang/RADAR)\n",
    "\n",
    "#### Result: \n",
    "`meRIP-seq/hl60_delta_mtyl_table.txt`. \n",
    "_Columns_: \n",
    "- `chr`\n",
    "- `start`\n",
    "- `end`\n",
    "- `name`\n",
    "- `score`\n",
    "- `strand`\n",
    "- `thickStart`\n",
    "- `thickEnd`\n",
    "- `itemRgb`\n",
    "- `blockCount`\n",
    "- `blockSizes`\n",
    "- `blockStarts`\n",
    "- `logFC`\n",
    "- `p_value`\n",
    "- `ensembl`"
   ]
  },
  {
   "cell_type": "markdown",
   "id": "9ecc208f",
   "metadata": {},
   "source": [
    "## RNA-seq\n",
    "Aim-1: analyzing differential experssion of RNA-seq data\n",
    "\n",
    "Tool: [DESeq2](https://bioconductor.org/packages/release/bioc/html/DESeq2.html), [iPAGE](https://github.com/goodarzilab/PAGE)\n",
    "\n",
    "#### Result: \n",
    "`RNA-seq/hl60-exp/hl60_exp_deseq2_norm.txt` - normalized counts \n",
    "\n",
    "`RNA-seq/hl60-exp/hl60_delta_exp_table.txt`\n",
    "- `gene_id`\n",
    "- `gene_name`\n",
    "- `baseMean`\n",
    "- `log2FC_6h`\n",
    "- `pval_6h`\n",
    "- `log2FC_72h`\n",
    "- `pval_72h`\n",
    "- `log2FC_120h`\n",
    "- `pval_120h`\n",
    "\n",
    "Aim-2: cell line consistency analysis \n"
   ]
  },
  {
   "cell_type": "markdown",
   "id": "27c4d49a",
   "metadata": {},
   "source": [
    "## Ribo-seq\n",
    "\n",
    "Aim: analyzing differential translation of Ribo-seq data\n",
    "\n",
    "Tool: [Ribolog](https://github.com/goodarzilab/Ribolog)\n",
    "\n",
    "\n",
    "#### Result:\n",
    "`Ribo-seq/hl60_delta_te_table.txt`\n",
    "\n",
    "- `transcript`\n",
    "- `gene_id`\n",
    "- `gene_name`\n",
    "- `Estimate_treatmentDRUG`\n",
    "- `Pr...z.._treatmentDRUG`\n",
    "- `fdr_Pr...z.._treatmentDRUG`\n",
    "- `qvalue_Pr...z.._treatmentDRUG`\n"
   ]
  },
  {
   "cell_type": "markdown",
   "id": "d8a5af61",
   "metadata": {},
   "source": [
    "## CRISPRi-screen\n",
    "Aim: analyzing differential phenotype of CRISPRi-screen data\n",
    "\n",
    "Tool: [ScreenProcessing](https://github.com/mhorlbeck/ScreenProcessing)\n",
    "\n",
    "#### Result:\n",
    "`CRISPRi-screen/hl60_exp1/DAC_processing_output_genetable_collapsed.txt`\n",
    "\n",
    "`CRISPRi-screen/hl60_exp2/DAC_processing_output_genetable_collapsed.txt`\n",
    "\n"
   ]
  },
  {
   "cell_type": "markdown",
   "id": "f3fec395",
   "metadata": {},
   "source": [
    "# Combined Analysis\n",
    "\n",
    "- [ ] describe analysis purpose \n",
    "- [ ] describe results (plots, tables)\n",
    "- [ ] final interpretation "
   ]
  },
  {
   "cell_type": "markdown",
   "id": "c60f7e68",
   "metadata": {},
   "source": [
    "## hyper-geometric-test\n",
    "\n",
    "## mtyl-enrichment\n",
    "\n",
    "## intersectional-genes\n"
   ]
  }
 ],
 "metadata": {
  "kernelspec": {
   "display_name": "Python [conda env:nb-env] *",
   "language": "python",
   "name": "conda-env-nb-env-py"
  },
  "language_info": {
   "codemirror_mode": {
    "name": "ipython",
    "version": 3
   },
   "file_extension": ".py",
   "mimetype": "text/x-python",
   "name": "python",
   "nbconvert_exporter": "python",
   "pygments_lexer": "ipython3",
   "version": "3.8.8"
  }
 },
 "nbformat": 4,
 "nbformat_minor": 5
}
