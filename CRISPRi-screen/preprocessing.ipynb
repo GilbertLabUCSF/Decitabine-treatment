{
 "cells": [
  {
   "cell_type": "markdown",
   "metadata": {},
   "source": [
    "https://github.com/mhorlbeck/ScreenProcessing"
   ]
  },
  {
   "cell_type": "markdown",
   "metadata": {},
   "source": [
    " https://github.com/goodarzilab/iAnalyzer"
   ]
  },
  {
   "cell_type": "markdown",
   "metadata": {},
   "source": [
    "https://docs.scipy.org/doc/scipy/reference/generated/scipy.stats.spearmanr.html"
   ]
  },
  {
   "cell_type": "code",
   "execution_count": 34,
   "metadata": {},
   "outputs": [],
   "source": [
    "import pandas as pd \n",
    "import sys \n",
    "from scipy import stats\n",
    "\n",
    "\n",
    "sys.path.append(\"../\")\n",
    "from util import *"
   ]
  },
  {
   "cell_type": "markdown",
   "metadata": {},
   "source": [
    "Using my `iAnalyzeR-r` env to run `univariate_analysis.R` script. "
   ]
  },
  {
   "cell_type": "markdown",
   "metadata": {},
   "source": [
    "### hl60_exp1"
   ]
  },
  {
   "cell_type": "markdown",
   "metadata": {},
   "source": [
    "#### DAC Drug:"
   ]
  },
  {
   "cell_type": "code",
   "execution_count": 7,
   "metadata": {},
   "outputs": [
    {
     "name": "stdout",
     "output_type": "stream",
     "text": [
      "nohup: ignoring input and redirecting stderr to stdout\r\n"
     ]
    }
   ],
   "source": [
    "!nohup Rscript univariate_analysis.R hl60_exp1 DAC_meta.txt ~sample.type T0 SES DAC_de.txt > hl60_exp1/DAC_de.log"
   ]
  },
  {
   "cell_type": "code",
   "execution_count": 59,
   "metadata": {},
   "outputs": [],
   "source": [
    "def compare_pipelines(m_path,h_path):\n",
    "    m = read_genetable_collapsed(m_path,'rho')\n",
    "    h = pd.read_csv(h_path,sep='\\t').set_index('gene')\n",
    "\n",
    "    genes = set(m.index).intersection(h.index)\n",
    "\n",
    "    m = m.loc[genes,:]\n",
    "    h = h.loc[genes,:]\n",
    "\n",
    "    df = pd.concat([m,h],axis=1).filter(like='rho').rename(columns={'rho score': 'max pipeline','rho': 'iAnalyzeR'}).astype(float)\n",
    "    \n",
    "    return df"
   ]
  },
  {
   "cell_type": "code",
   "execution_count": 60,
   "metadata": {},
   "outputs": [],
   "source": [
    "m_path = 'hl60_exp1/process_screen_output/CRISPRi_HL60_DAC_genetable_collapsed.xlsx'\n",
    "h_path = 'hl60_exp1/DAC_de.txt'\n",
    "\n",
    "hl60_exp_1_dac = compare_pipelines(m_path,h_path)"
   ]
  },
  {
   "cell_type": "code",
   "execution_count": 61,
   "metadata": {},
   "outputs": [],
   "source": [
    "hl60_exp_1_dac.to_csv('hl60_exp_1_dac.csv')"
   ]
  },
  {
   "cell_type": "code",
   "execution_count": 62,
   "metadata": {},
   "outputs": [
    {
     "data": {
      "text/plain": [
       "SpearmanrResult(correlation=0.01926815169723306, pvalue=0.1949131137428832)"
      ]
     },
     "execution_count": 62,
     "metadata": {},
     "output_type": "execute_result"
    }
   ],
   "source": [
    "stats.spearmanr(hl60_exp_1_dac,axis=0)"
   ]
  },
  {
   "cell_type": "markdown",
   "metadata": {},
   "source": [
    "### hl60_exp2"
   ]
  },
  {
   "cell_type": "markdown",
   "metadata": {},
   "source": [
    "#### DAC Drug:"
   ]
  },
  {
   "cell_type": "code",
   "execution_count": 10,
   "metadata": {},
   "outputs": [
    {
     "name": "stdout",
     "output_type": "stream",
     "text": [
      "nohup: ignoring input and redirecting stderr to stdout\r\n"
     ]
    }
   ],
   "source": [
    "!nohup Rscript univariate_analysis.R hl60_exp2 DAC_meta.txt ~sample.type T0 SES DAC_de.txt > hl60_exp2/DAC_de.log"
   ]
  },
  {
   "cell_type": "code",
   "execution_count": 63,
   "metadata": {},
   "outputs": [],
   "source": [
    "m_path = 'hl60_exp2/process_screen_output/processing_output_DAC_nextseq/DACnextseq_process_experiments_genetable_collapsed.xlsx'\n",
    "h_path = 'hl60_exp2/DAC_de.txt'\n",
    "\n",
    "hl60_exp_2_dac = compare_pipelines(m_path,h_path)"
   ]
  },
  {
   "cell_type": "code",
   "execution_count": 64,
   "metadata": {},
   "outputs": [],
   "source": [
    "hl60_exp_2_dac.to_csv('hl60_exp_2_dac.csv')"
   ]
  },
  {
   "cell_type": "code",
   "execution_count": 65,
   "metadata": {},
   "outputs": [
    {
     "data": {
      "text/plain": [
       "SpearmanrResult(correlation=-0.0010750348522162905, pvalue=0.9306492049348263)"
      ]
     },
     "execution_count": 65,
     "metadata": {},
     "output_type": "execute_result"
    }
   ],
   "source": [
    "stats.spearmanr(hl60_exp_2_dac,axis=0)"
   ]
  },
  {
   "cell_type": "markdown",
   "metadata": {},
   "source": [
    "#### GSK Drug:"
   ]
  },
  {
   "cell_type": "code",
   "execution_count": 11,
   "metadata": {},
   "outputs": [
    {
     "name": "stdout",
     "output_type": "stream",
     "text": [
      "nohup: ignoring input and redirecting stderr to stdout\r\n"
     ]
    }
   ],
   "source": [
    "!nohup Rscript univariate_analysis.R hl60_exp2 GSK_meta.txt ~sample.type T0 SES GSK_de.txt > hl60_exp2/GSK_de.log"
   ]
  },
  {
   "cell_type": "code",
   "execution_count": 66,
   "metadata": {},
   "outputs": [],
   "source": [
    "m_path = 'hl60_exp2/process_screen_output/processing_output_GSK_nextseq/GSKnextseq_process_experiments_genetable_collapsed.xlsx'\n",
    "h_path = 'hl60_exp2/GSK_de.txt'\n",
    "\n",
    "hl60_exp_2_gsk = compare_pipelines(m_path,h_path)"
   ]
  },
  {
   "cell_type": "code",
   "execution_count": 67,
   "metadata": {},
   "outputs": [],
   "source": [
    "hl60_exp_2_gsk.to_csv('hl60_exp_2_gsk.csv')"
   ]
  },
  {
   "cell_type": "code",
   "execution_count": 68,
   "metadata": {},
   "outputs": [
    {
     "data": {
      "text/plain": [
       "SpearmanrResult(correlation=-0.02972255924812315, pvalue=0.018249388792980156)"
      ]
     },
     "execution_count": 68,
     "metadata": {},
     "output_type": "execute_result"
    }
   ],
   "source": [
    "stats.spearmanr(hl60_exp_2_gsk,axis=0)"
   ]
  },
  {
   "cell_type": "markdown",
   "metadata": {},
   "source": [
    "### molm13_exp"
   ]
  },
  {
   "cell_type": "code",
   "execution_count": null,
   "metadata": {},
   "outputs": [],
   "source": [
    "# !nohup Rscript univariate_analysis.R molm13_exp DAC_meta.txt ~sample.type T0 SES DAC_de.txt > molm13_exp/DAC_de.log"
   ]
  },
  {
   "cell_type": "code",
   "execution_count": null,
   "metadata": {},
   "outputs": [],
   "source": [
    "# !nohup Rscript univariate_analysis.R molm13_exp GSK_meta.txt ~sample.type T0 SES GSK_de.txt > molm13_exp/GSK_de.log"
   ]
  }
 ],
 "metadata": {
  "kernelspec": {
   "display_name": "Python [conda env:down]",
   "language": "python",
   "name": "conda-env-down-py"
  },
  "language_info": {
   "codemirror_mode": {
    "name": "ipython",
    "version": 3
   },
   "file_extension": ".py",
   "mimetype": "text/x-python",
   "name": "python",
   "nbconvert_exporter": "python",
   "pygments_lexer": "ipython3",
   "version": "3.8.5"
  }
 },
 "nbformat": 4,
 "nbformat_minor": 4
}
