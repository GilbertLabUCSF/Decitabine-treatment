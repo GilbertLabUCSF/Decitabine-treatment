{
 "cells": [
  {
   "cell_type": "markdown",
   "metadata": {},
   "source": [
    "CRISPRi screening results analyzed with [ScreenProcessing](https://github.com/mhorlbeck/ScreenProcessing) pipeline. \n",
    "\n",
    "- Load screening result tables into python \n",
    "- Pathway enrichment analysis over the gamma and rho scores\n",
    "- Make sure gene names are correctly assigned \n",
    "- Exploring correlations, differences, and intersections among the screens."
   ]
  },
  {
   "cell_type": "code",
   "execution_count": 12,
   "metadata": {},
   "outputs": [],
   "source": [
    "import sys\n",
    "import pandas as pd\n",
    "import numpy as np \n",
    "from itertools import chain, product\n",
    "\n",
    "sys.path.append(\"../\")\n",
    "sys.path.append(\"/data_gilbert/home/aarab/Projects/ipage-down/\")\n",
    "\n",
    "from util import *\n",
    "import ipage_down as ipd"
   ]
  },
  {
   "cell_type": "code",
   "execution_count": 13,
   "metadata": {},
   "outputs": [],
   "source": [
    "# wd = '/rumi/shams/abe/Projects/Decitabine-treatment/'\n",
    "wd = '/data_gilbert/home/aarab/Projects/Decitabine-treatment'"
   ]
  },
  {
   "cell_type": "code",
   "execution_count": 14,
   "metadata": {},
   "outputs": [],
   "source": [
    "data = load_data(screens=True,wd=wd)"
   ]
  },
  {
   "cell_type": "code",
   "execution_count": 15,
   "metadata": {},
   "outputs": [
    {
     "data": {
      "text/plain": [
       "dict_keys(['exp1_DAC_rho', 'exp1_DAC_gamma', 'exp2_DAC_rho', 'exp2_DAC_gamma', 'exp2_GSK_rho', 'exp2_GSK_gamma'])"
      ]
     },
     "execution_count": 15,
     "metadata": {},
     "output_type": "execute_result"
    }
   ],
   "source": [
    "data['hl60'].keys()"
   ]
  },
  {
   "cell_type": "markdown",
   "metadata": {},
   "source": [
    "## Phenotype-enrichment analysis\n",
    "I've selected `ave_Rep1_Rep2` column together with gene names for both $\\gamma$ (gamma) and $\\rho$ (rho) scores as seprate two-column tables to run iPAGE for phenotype encrichment analysis. \n",
    "\n",
    "Run `iPAGE`:"
   ]
  },
  {
   "cell_type": "code",
   "execution_count": 16,
   "metadata": {},
   "outputs": [],
   "source": [
    "from matplotlib import pyplot\n",
    "# from scipy.stats import yeojohnson\n",
    "# 'exp1_DAC_gamma'\n",
    "# 'exp2_DAC_rho'\n",
    "# 'exp2_DAC_gamma'\n",
    "# 'exp2_GSK_rho'\n",
    "# 'exp2_GSK_gamma'\n",
    "# df = pd.concat(find_top(data['hl60']['exp1_DAC_rho'].astype(float),'rho score',0,'Mann-Whitney p-value',1)).reset_index()\n",
    "df = data['hl60']['exp1_DAC_rho'].astype(float).reset_index()\n",
    "df.to_csv('hl60_exp1_DAC_rho_delta_phenotype.txt',sep='\\t',index=None, header=None)"
   ]
  },
  {
   "cell_type": "code",
   "execution_count": 17,
   "metadata": {},
   "outputs": [],
   "source": [
    "# df.plot(x='rho score', y='Mann-Whitney p-value', kind='scatter')\n",
    "# plt.show()\n",
    "# # histogram\n",
    "# pyplot.hist(df.iloc[:,0])\n",
    "# pyplot.show()"
   ]
  },
  {
   "cell_type": "markdown",
   "metadata": {},
   "source": [
    "https://github.com/goodarzilab/server_wiki/tree/main/lab_softwares"
   ]
  },
  {
   "cell_type": "code",
   "execution_count": 18,
   "metadata": {},
   "outputs": [],
   "source": [
    "%reload_ext rpy2.ipython"
   ]
  },
  {
   "cell_type": "code",
   "execution_count": 19,
   "metadata": {},
   "outputs": [],
   "source": [
    "%%R -i df -o data\n",
    "data = df\n",
    "data[['fdr']] <- sign(data[,'rho score'])*(1-data[,'Mann-Whitney p-value'])\n",
    "data <- data[!is.na(data$'fdr'), ]\n",
    "data <- data[, c('gene_name', 'fdr','rho score','Mann-Whitney p-value')]"
   ]
  },
  {
   "cell_type": "code",
   "execution_count": 20,
   "metadata": {},
   "outputs": [
    {
     "data": {
      "image/png": "[encoded data removed]",
      "text/plain": [
       "<Figure size 432x288 with 1 Axes>"
      ]
     },
     "metadata": {
      "needs_background": "light"
     },
     "output_type": "display_data"
    }
   ],
   "source": [
    "data.plot(x='rho score', y='fdr', kind='scatter')\n",
    "data.to_csv('hl60_exp1_DAC_rho_delta_phenotype_fdr.txt',sep='\\t',index=None, header=None)\n",
    "\n",
    "plt.show()"
   ]
  },
  {
   "cell_type": "markdown",
   "metadata": {},
   "source": [
    "https://medium.com/analytics-vidhya/techniques-to-transform-data-distribution-565a4d0f2da\n"
   ]
  },
  {
   "cell_type": "code",
   "execution_count": 21,
   "metadata": {},
   "outputs": [],
   "source": [
    "# df.iloc[:,0] = yeojohnson(np.array(df.iloc[:,0]),lmbda=0.5)\n",
    "\n",
    "# df.to_csv('hl60_exp1_DAC_rho_delta_phenotype.txt',sep='\\t')\n",
    "\n",
    "# df.plot(x='rho score', y='Mann-Whitney p-value', kind='scatter')\n",
    "# plt.show()\n",
    "\n",
    "# # histogram\n",
    "# pyplot.hist(df.iloc[:,0])\n",
    "# pyplot.show()"
   ]
  },
  {
   "cell_type": "markdown",
   "metadata": {},
   "source": [
    "# Pathway enrichment analysis"
   ]
  },
  {
   "cell_type": "code",
   "execution_count": 33,
   "metadata": {},
   "outputs": [],
   "source": [
    "# rm -rv hl60_exp1_DAC_rho_delta_phenotype"
   ]
  },
  {
   "cell_type": "code",
   "execution_count": null,
   "metadata": {},
   "outputs": [],
   "source": [
    "%%bash \n",
    "export PAGEDIR=/data_gilbert/home/aarab/iPAGE\n",
    "\n",
    "nohup ls *delta_phenotype*.txt | parallel -j18 -k bash ipage_loop.sh  {} &> ipage.out"
   ]
  },
  {
   "cell_type": "markdown",
   "metadata": {},
   "source": [
    "___"
   ]
  },
  {
   "cell_type": "code",
   "execution_count": 22,
   "metadata": {},
   "outputs": [],
   "source": [
    "idx=pd.IndexSlice"
   ]
  },
  {
   "cell_type": "code",
   "execution_count": 23,
   "metadata": {},
   "outputs": [],
   "source": [
    "# PAGE_rho = ipd.make_ipage_run_data_frame('hl60_exp1_DAC_rho_delta_phenotype/')\n",
    "PAGE = ipd.make_ipage_run_data_frame('hl60_exp1_DAC_rho_delta_phenotype_fdr/')"
   ]
  },
  {
   "cell_type": "code",
   "execution_count": 24,
   "metadata": {},
   "outputs": [
    {
     "data": {
      "text/html": [
       "<style  type=\"text/css\" >\n",
       "#T_58a72168_330f_11ec_9b6d_0d516ae745bdrow0_col0,#T_58a72168_330f_11ec_9b6d_0d516ae745bdrow14_col0,#T_58a72168_330f_11ec_9b6d_0d516ae745bdrow18_col0{\n",
       "            background-color:  #3b4cc0;\n",
       "            color:  #f1f1f1;\n",
       "        }#T_58a72168_330f_11ec_9b6d_0d516ae745bdrow0_col1,#T_58a72168_330f_11ec_9b6d_0d516ae745bdrow1_col0,#T_58a72168_330f_11ec_9b6d_0d516ae745bdrow1_col1,#T_58a72168_330f_11ec_9b6d_0d516ae745bdrow2_col0,#T_58a72168_330f_11ec_9b6d_0d516ae745bdrow3_col1,#T_58a72168_330f_11ec_9b6d_0d516ae745bdrow4_col1,#T_58a72168_330f_11ec_9b6d_0d516ae745bdrow5_col0,#T_58a72168_330f_11ec_9b6d_0d516ae745bdrow6_col0,#T_58a72168_330f_11ec_9b6d_0d516ae745bdrow6_col1,#T_58a72168_330f_11ec_9b6d_0d516ae745bdrow7_col1,#T_58a72168_330f_11ec_9b6d_0d516ae745bdrow8_col0,#T_58a72168_330f_11ec_9b6d_0d516ae745bdrow9_col1,#T_58a72168_330f_11ec_9b6d_0d516ae745bdrow10_col0,#T_58a72168_330f_11ec_9b6d_0d516ae745bdrow11_col0,#T_58a72168_330f_11ec_9b6d_0d516ae745bdrow12_col1,#T_58a72168_330f_11ec_9b6d_0d516ae745bdrow13_col1,#T_58a72168_330f_11ec_9b6d_0d516ae745bdrow14_col1,#T_58a72168_330f_11ec_9b6d_0d516ae745bdrow15_col0,#T_58a72168_330f_11ec_9b6d_0d516ae745bdrow15_col1,#T_58a72168_330f_11ec_9b6d_0d516ae745bdrow16_col1,#T_58a72168_330f_11ec_9b6d_0d516ae745bdrow17_col1,#T_58a72168_330f_11ec_9b6d_0d516ae745bdrow18_col1,#T_58a72168_330f_11ec_9b6d_0d516ae745bdrow19_col0,#T_58a72168_330f_11ec_9b6d_0d516ae745bdrow19_col1,#T_58a72168_330f_11ec_9b6d_0d516ae745bdrow20_col1,#T_58a72168_330f_11ec_9b6d_0d516ae745bdrow21_col1,#T_58a72168_330f_11ec_9b6d_0d516ae745bdrow22_col0,#T_58a72168_330f_11ec_9b6d_0d516ae745bdrow23_col0,#T_58a72168_330f_11ec_9b6d_0d516ae745bdrow24_col1,#T_58a72168_330f_11ec_9b6d_0d516ae745bdrow25_col1,#T_58a72168_330f_11ec_9b6d_0d516ae745bdrow26_col0,#T_58a72168_330f_11ec_9b6d_0d516ae745bdrow27_col0,#T_58a72168_330f_11ec_9b6d_0d516ae745bdrow28_col0,#T_58a72168_330f_11ec_9b6d_0d516ae745bdrow29_col0,#T_58a72168_330f_11ec_9b6d_0d516ae745bdrow30_col1,#T_58a72168_330f_11ec_9b6d_0d516ae745bdrow31_col0,#T_58a72168_330f_11ec_9b6d_0d516ae745bdrow32_col0,#T_58a72168_330f_11ec_9b6d_0d516ae745bdrow33_col0,#T_58a72168_330f_11ec_9b6d_0d516ae745bdrow34_col0,#T_58a72168_330f_11ec_9b6d_0d516ae745bdrow35_col1,#T_58a72168_330f_11ec_9b6d_0d516ae745bdrow36_col0,#T_58a72168_330f_11ec_9b6d_0d516ae745bdrow37_col0,#T_58a72168_330f_11ec_9b6d_0d516ae745bdrow37_col1,#T_58a72168_330f_11ec_9b6d_0d516ae745bdrow38_col1,#T_58a72168_330f_11ec_9b6d_0d516ae745bdrow39_col1,#T_58a72168_330f_11ec_9b6d_0d516ae745bdrow40_col1,#T_58a72168_330f_11ec_9b6d_0d516ae745bdrow41_col1,#T_58a72168_330f_11ec_9b6d_0d516ae745bdrow42_col1,#T_58a72168_330f_11ec_9b6d_0d516ae745bdrow43_col0,#T_58a72168_330f_11ec_9b6d_0d516ae745bdrow44_col0,#T_58a72168_330f_11ec_9b6d_0d516ae745bdrow45_col1,#T_58a72168_330f_11ec_9b6d_0d516ae745bdrow46_col0,#T_58a72168_330f_11ec_9b6d_0d516ae745bdrow47_col1,#T_58a72168_330f_11ec_9b6d_0d516ae745bdrow48_col0,#T_58a72168_330f_11ec_9b6d_0d516ae745bdrow49_col1,#T_58a72168_330f_11ec_9b6d_0d516ae745bdrow50_col1,#T_58a72168_330f_11ec_9b6d_0d516ae745bdrow51_col0,#T_58a72168_330f_11ec_9b6d_0d516ae745bdrow52_col0{\n",
       "            background-color:  #b40426;\n",
       "            color:  #f1f1f1;\n",
       "        }#T_58a72168_330f_11ec_9b6d_0d516ae745bdrow2_col1,#T_58a72168_330f_11ec_9b6d_0d516ae745bdrow4_col0{\n",
       "            background-color:  #d85646;\n",
       "            color:  #000000;\n",
       "        }#T_58a72168_330f_11ec_9b6d_0d516ae745bdrow3_col0{\n",
       "            background-color:  #90b2fe;\n",
       "            color:  #000000;\n",
       "        }#T_58a72168_330f_11ec_9b6d_0d516ae745bdrow5_col1{\n",
       "            background-color:  #9dbdff;\n",
       "            color:  #000000;\n",
       "        }#T_58a72168_330f_11ec_9b6d_0d516ae745bdrow7_col0,#T_58a72168_330f_11ec_9b6d_0d516ae745bdrow51_col1{\n",
       "            background-color:  #ccd9ed;\n",
       "            color:  #000000;\n",
       "        }#T_58a72168_330f_11ec_9b6d_0d516ae745bdrow8_col1{\n",
       "            background-color:  #b1cbfc;\n",
       "            color:  #000000;\n",
       "        }#T_58a72168_330f_11ec_9b6d_0d516ae745bdrow9_col0{\n",
       "            background-color:  #c7d7f0;\n",
       "            color:  #000000;\n",
       "        }#T_58a72168_330f_11ec_9b6d_0d516ae745bdrow10_col1{\n",
       "            background-color:  #f5c2aa;\n",
       "            color:  #000000;\n",
       "        }#T_58a72168_330f_11ec_9b6d_0d516ae745bdrow11_col1{\n",
       "            background-color:  #ed8366;\n",
       "            color:  #000000;\n",
       "        }#T_58a72168_330f_11ec_9b6d_0d516ae745bdrow12_col0{\n",
       "            background-color:  #f6a586;\n",
       "            color:  #000000;\n",
       "        }#T_58a72168_330f_11ec_9b6d_0d516ae745bdrow13_col0{\n",
       "            background-color:  #a5c3fe;\n",
       "            color:  #000000;\n",
       "        }#T_58a72168_330f_11ec_9b6d_0d516ae745bdrow16_col0{\n",
       "            background-color:  #f08b6e;\n",
       "            color:  #000000;\n",
       "        }#T_58a72168_330f_11ec_9b6d_0d516ae745bdrow17_col0{\n",
       "            background-color:  #cc403a;\n",
       "            color:  #f1f1f1;\n",
       "        }#T_58a72168_330f_11ec_9b6d_0d516ae745bdrow20_col0{\n",
       "            background-color:  #f7b99e;\n",
       "            color:  #000000;\n",
       "        }#T_58a72168_330f_11ec_9b6d_0d516ae745bdrow21_col0{\n",
       "            background-color:  #aec9fc;\n",
       "            color:  #000000;\n",
       "        }#T_58a72168_330f_11ec_9b6d_0d516ae745bdrow22_col1{\n",
       "            background-color:  #b6cefa;\n",
       "            color:  #000000;\n",
       "        }#T_58a72168_330f_11ec_9b6d_0d516ae745bdrow23_col1{\n",
       "            background-color:  #93b5fe;\n",
       "            color:  #000000;\n",
       "        }#T_58a72168_330f_11ec_9b6d_0d516ae745bdrow24_col0{\n",
       "            background-color:  #cad8ef;\n",
       "            color:  #000000;\n",
       "        }#T_58a72168_330f_11ec_9b6d_0d516ae745bdrow25_col0{\n",
       "            background-color:  #efcfbf;\n",
       "            color:  #000000;\n",
       "        }#T_58a72168_330f_11ec_9b6d_0d516ae745bdrow26_col1{\n",
       "            background-color:  #b7cff9;\n",
       "            color:  #000000;\n",
       "        }#T_58a72168_330f_11ec_9b6d_0d516ae745bdrow27_col1,#T_58a72168_330f_11ec_9b6d_0d516ae745bdrow33_col1{\n",
       "            background-color:  #bfd3f6;\n",
       "            color:  #000000;\n",
       "        }#T_58a72168_330f_11ec_9b6d_0d516ae745bdrow28_col1{\n",
       "            background-color:  #f0cdbb;\n",
       "            color:  #000000;\n",
       "        }#T_58a72168_330f_11ec_9b6d_0d516ae745bdrow29_col1,#T_58a72168_330f_11ec_9b6d_0d516ae745bdrow49_col0,#T_58a72168_330f_11ec_9b6d_0d516ae745bdrow50_col0{\n",
       "            background-color:  #b9d0f9;\n",
       "            color:  #000000;\n",
       "        }#T_58a72168_330f_11ec_9b6d_0d516ae745bdrow30_col0,#T_58a72168_330f_11ec_9b6d_0d516ae745bdrow34_col1{\n",
       "            background-color:  #f7b396;\n",
       "            color:  #000000;\n",
       "        }#T_58a72168_330f_11ec_9b6d_0d516ae745bdrow31_col1,#T_58a72168_330f_11ec_9b6d_0d516ae745bdrow48_col1{\n",
       "            background-color:  #c5d6f2;\n",
       "            color:  #000000;\n",
       "        }#T_58a72168_330f_11ec_9b6d_0d516ae745bdrow32_col1{\n",
       "            background-color:  #e46e56;\n",
       "            color:  #000000;\n",
       "        }#T_58a72168_330f_11ec_9b6d_0d516ae745bdrow35_col0{\n",
       "            background-color:  #c9d7f0;\n",
       "            color:  #000000;\n",
       "        }#T_58a72168_330f_11ec_9b6d_0d516ae745bdrow36_col1{\n",
       "            background-color:  #f39475;\n",
       "            color:  #000000;\n",
       "        }#T_58a72168_330f_11ec_9b6d_0d516ae745bdrow38_col0{\n",
       "            background-color:  #f4c5ad;\n",
       "            color:  #000000;\n",
       "        }#T_58a72168_330f_11ec_9b6d_0d516ae745bdrow39_col0{\n",
       "            background-color:  #de614d;\n",
       "            color:  #000000;\n",
       "        }#T_58a72168_330f_11ec_9b6d_0d516ae745bdrow40_col0,#T_58a72168_330f_11ec_9b6d_0d516ae745bdrow43_col1{\n",
       "            background-color:  #f5c1a9;\n",
       "            color:  #000000;\n",
       "        }#T_58a72168_330f_11ec_9b6d_0d516ae745bdrow41_col0{\n",
       "            background-color:  #e67259;\n",
       "            color:  #000000;\n",
       "        }#T_58a72168_330f_11ec_9b6d_0d516ae745bdrow42_col0{\n",
       "            background-color:  #e16751;\n",
       "            color:  #000000;\n",
       "        }#T_58a72168_330f_11ec_9b6d_0d516ae745bdrow44_col1{\n",
       "            background-color:  #f7a688;\n",
       "            color:  #000000;\n",
       "        }#T_58a72168_330f_11ec_9b6d_0d516ae745bdrow45_col0{\n",
       "            background-color:  #9bbcff;\n",
       "            color:  #000000;\n",
       "        }#T_58a72168_330f_11ec_9b6d_0d516ae745bdrow46_col1{\n",
       "            background-color:  #edd2c3;\n",
       "            color:  #000000;\n",
       "        }#T_58a72168_330f_11ec_9b6d_0d516ae745bdrow47_col0{\n",
       "            background-color:  #c6d6f1;\n",
       "            color:  #000000;\n",
       "        }#T_58a72168_330f_11ec_9b6d_0d516ae745bdrow52_col1{\n",
       "            background-color:  #f59c7d;\n",
       "            color:  #000000;\n",
       "        }</style><table id=\"T_58a72168_330f_11ec_9b6d_0d516ae745bd\" ><thead>    <tr>        <th class=\"blank\" ></th>        <th class=\"blank level0\" ></th>        <th class=\"col_heading level0 col0\" >[-1.00 -0.89]</th>        <th class=\"col_heading level0 col1\" >[0.88 1.00]</th>    </tr>    <tr>        <th class=\"index_name level0\" >gene_set</th>        <th class=\"index_name level1\" >gs_cluster</th>        <th class=\"blank\" ></th>        <th class=\"blank\" ></th>    </tr></thead><tbody>\n",
       "                <tr>\n",
       "                        <th id=\"T_58a72168_330f_11ec_9b6d_0d516ae745bdlevel0_row0\" class=\"row_heading level0 row0\" >REACTOME_MITOCHONDRIAL_TRANSLATION</th>\n",
       "                        <th id=\"T_58a72168_330f_11ec_9b6d_0d516ae745bdlevel1_row0\" class=\"row_heading level1 row0\" >human_c2_gs</th>\n",
       "                        <td id=\"T_58a72168_330f_11ec_9b6d_0d516ae745bdrow0_col0\" class=\"data row0 col0\" >-2.099000</td>\n",
       "                        <td id=\"T_58a72168_330f_11ec_9b6d_0d516ae745bdrow0_col1\" class=\"data row0 col1\" >10.339000</td>\n",
       "            </tr>\n",
       "            <tr>\n",
       "                        <th id=\"T_58a72168_330f_11ec_9b6d_0d516ae745bdlevel0_row1\" class=\"row_heading level0 row1\" >REACTOME_HATS_ACETYLATE_HISTONES</th>\n",
       "                        <th id=\"T_58a72168_330f_11ec_9b6d_0d516ae745bdlevel1_row1\" class=\"row_heading level1 row1\" >human_c2_gs</th>\n",
       "                        <td id=\"T_58a72168_330f_11ec_9b6d_0d516ae745bdrow1_col0\" class=\"data row1 col0\" >2.874000</td>\n",
       "                        <td id=\"T_58a72168_330f_11ec_9b6d_0d516ae745bdrow1_col1\" class=\"data row1 col1\" >6.248000</td>\n",
       "            </tr>\n",
       "            <tr>\n",
       "                        <th id=\"T_58a72168_330f_11ec_9b6d_0d516ae745bdlevel0_row2\" class=\"row_heading level0 row2\" >REACTOME_S_PHASE</th>\n",
       "                        <th id=\"T_58a72168_330f_11ec_9b6d_0d516ae745bdlevel1_row2\" class=\"row_heading level1 row2\" >human_c2_gs</th>\n",
       "                        <td id=\"T_58a72168_330f_11ec_9b6d_0d516ae745bdrow2_col0\" class=\"data row2 col0\" >6.989000</td>\n",
       "                        <td id=\"T_58a72168_330f_11ec_9b6d_0d516ae745bdrow2_col1\" class=\"data row2 col1\" >1.578000</td>\n",
       "            </tr>\n",
       "            <tr>\n",
       "                        <th id=\"T_58a72168_330f_11ec_9b6d_0d516ae745bdlevel0_row3\" class=\"row_heading level0 row3\" >REACTOME_RNA_POLYMERASE_III_TRANSCRIPTION</th>\n",
       "                        <th id=\"T_58a72168_330f_11ec_9b6d_0d516ae745bdlevel1_row3\" class=\"row_heading level1 row3\" >human_c2_gs</th>\n",
       "                        <td id=\"T_58a72168_330f_11ec_9b6d_0d516ae745bdrow3_col0\" class=\"data row3 col0\" >-0.958000</td>\n",
       "                        <td id=\"T_58a72168_330f_11ec_9b6d_0d516ae745bdrow3_col1\" class=\"data row3 col1\" >6.007000</td>\n",
       "            </tr>\n",
       "            <tr>\n",
       "                        <th id=\"T_58a72168_330f_11ec_9b6d_0d516ae745bdlevel0_row4\" class=\"row_heading level0 row4\" >PID_IL8_CXCR2_PATHWAY</th>\n",
       "                        <th id=\"T_58a72168_330f_11ec_9b6d_0d516ae745bdlevel1_row4\" class=\"row_heading level1 row4\" >human_c2_gs</th>\n",
       "                        <td id=\"T_58a72168_330f_11ec_9b6d_0d516ae745bdrow4_col0\" class=\"data row4 col0\" >1.578000</td>\n",
       "                        <td id=\"T_58a72168_330f_11ec_9b6d_0d516ae745bdrow4_col1\" class=\"data row4 col1\" >2.097000</td>\n",
       "            </tr>\n",
       "            <tr>\n",
       "                        <th id=\"T_58a72168_330f_11ec_9b6d_0d516ae745bdlevel0_row5\" class=\"row_heading level0 row5\" >REACTOME_TP53_REGULATES_TRANSCRIPTION_OF_ADDITIONAL_CELL_CYCLE_GENES_WHOSE_EXACT_ROLE_IN_THE_P53_PATHWAY_REMAIN_UNCERTAIN</th>\n",
       "                        <th id=\"T_58a72168_330f_11ec_9b6d_0d516ae745bdlevel1_row5\" class=\"row_heading level1 row5\" >human_c2_gs</th>\n",
       "                        <td id=\"T_58a72168_330f_11ec_9b6d_0d516ae745bdrow5_col0\" class=\"data row5 col0\" >4.560000</td>\n",
       "                        <td id=\"T_58a72168_330f_11ec_9b6d_0d516ae745bdrow5_col1\" class=\"data row5 col1\" >-0.827000</td>\n",
       "            </tr>\n",
       "            <tr>\n",
       "                        <th id=\"T_58a72168_330f_11ec_9b6d_0d516ae745bdlevel0_row6\" class=\"row_heading level0 row6\" >YU_MYC_TARGETS_UP</th>\n",
       "                        <th id=\"T_58a72168_330f_11ec_9b6d_0d516ae745bdlevel1_row6\" class=\"row_heading level1 row6\" >human_c2_gs</th>\n",
       "                        <td id=\"T_58a72168_330f_11ec_9b6d_0d516ae745bdrow6_col0\" class=\"data row6 col0\" >2.390000</td>\n",
       "                        <td id=\"T_58a72168_330f_11ec_9b6d_0d516ae745bdrow6_col1\" class=\"data row6 col1\" >2.396000</td>\n",
       "            </tr>\n",
       "            <tr>\n",
       "                        <th id=\"T_58a72168_330f_11ec_9b6d_0d516ae745bdlevel0_row7\" class=\"row_heading level0 row7\" >REACTOME_NEGATIVE_FEEDBACK_REGULATION_OF_MAPK_PATHWAY</th>\n",
       "                        <th id=\"T_58a72168_330f_11ec_9b6d_0d516ae745bdlevel1_row7\" class=\"row_heading level1 row7\" >human_c2_gs</th>\n",
       "                        <td id=\"T_58a72168_330f_11ec_9b6d_0d516ae745bdrow7_col0\" class=\"data row7 col0\" >-0.248000</td>\n",
       "                        <td id=\"T_58a72168_330f_11ec_9b6d_0d516ae745bdrow7_col1\" class=\"data row7 col1\" >6.257000</td>\n",
       "            </tr>\n",
       "            <tr>\n",
       "                        <th id=\"T_58a72168_330f_11ec_9b6d_0d516ae745bdlevel0_row8\" class=\"row_heading level0 row8\" >RAMPON_ENRICHED_LEARNING_ENVIRONMENT_EARLY_UP</th>\n",
       "                        <th id=\"T_58a72168_330f_11ec_9b6d_0d516ae745bdlevel1_row8\" class=\"row_heading level1 row8\" >human_c2_gs</th>\n",
       "                        <td id=\"T_58a72168_330f_11ec_9b6d_0d516ae745bdrow8_col0\" class=\"data row8 col0\" >4.009000</td>\n",
       "                        <td id=\"T_58a72168_330f_11ec_9b6d_0d516ae745bdrow8_col1\" class=\"data row8 col1\" >-0.579000</td>\n",
       "            </tr>\n",
       "            <tr>\n",
       "                        <th id=\"T_58a72168_330f_11ec_9b6d_0d516ae745bdlevel0_row9\" class=\"row_heading level0 row9\" >XU_HGF_SIGNALING_NOT_VIA_AKT1_48HR_DN</th>\n",
       "                        <th id=\"T_58a72168_330f_11ec_9b6d_0d516ae745bdlevel1_row9\" class=\"row_heading level1 row9\" >human_c2_gs</th>\n",
       "                        <td id=\"T_58a72168_330f_11ec_9b6d_0d516ae745bdrow9_col0\" class=\"data row9 col0\" >-0.298000</td>\n",
       "                        <td id=\"T_58a72168_330f_11ec_9b6d_0d516ae745bdrow9_col1\" class=\"data row9 col1\" >3.188000</td>\n",
       "            </tr>\n",
       "            <tr>\n",
       "                        <th id=\"T_58a72168_330f_11ec_9b6d_0d516ae745bdlevel0_row10\" class=\"row_heading level0 row10\" >ABBUD_LIF_SIGNALING_2_UP</th>\n",
       "                        <th id=\"T_58a72168_330f_11ec_9b6d_0d516ae745bdlevel1_row10\" class=\"row_heading level1 row10\" >human_c2_gs</th>\n",
       "                        <td id=\"T_58a72168_330f_11ec_9b6d_0d516ae745bdrow10_col0\" class=\"data row10 col0\" >2.547000</td>\n",
       "                        <td id=\"T_58a72168_330f_11ec_9b6d_0d516ae745bdrow10_col1\" class=\"data row10 col1\" >0.525000</td>\n",
       "            </tr>\n",
       "            <tr>\n",
       "                        <th id=\"T_58a72168_330f_11ec_9b6d_0d516ae745bdlevel0_row11\" class=\"row_heading level0 row11\" >GGCNKCCATNK_UNKNOWN</th>\n",
       "                        <th id=\"T_58a72168_330f_11ec_9b6d_0d516ae745bdlevel1_row11\" class=\"row_heading level1 row11\" >human_c3_gs</th>\n",
       "                        <td id=\"T_58a72168_330f_11ec_9b6d_0d516ae745bdrow11_col0\" class=\"data row11 col0\" >2.417000</td>\n",
       "                        <td id=\"T_58a72168_330f_11ec_9b6d_0d516ae745bdrow11_col1\" class=\"data row11 col1\" >1.212000</td>\n",
       "            </tr>\n",
       "            <tr>\n",
       "                        <th id=\"T_58a72168_330f_11ec_9b6d_0d516ae745bdlevel0_row12\" class=\"row_heading level0 row12\" >MIR24_1_5P_MIR24_2_5P</th>\n",
       "                        <th id=\"T_58a72168_330f_11ec_9b6d_0d516ae745bdlevel1_row12\" class=\"row_heading level1 row12\" >human_c3_gs</th>\n",
       "                        <td id=\"T_58a72168_330f_11ec_9b6d_0d516ae745bdrow12_col0\" class=\"data row12 col0\" >0.884000</td>\n",
       "                        <td id=\"T_58a72168_330f_11ec_9b6d_0d516ae745bdrow12_col1\" class=\"data row12 col1\" >2.061000</td>\n",
       "            </tr>\n",
       "            <tr>\n",
       "                        <th id=\"T_58a72168_330f_11ec_9b6d_0d516ae745bdlevel0_row13\" class=\"row_heading level0 row13\" >MIR10398_5P</th>\n",
       "                        <th id=\"T_58a72168_330f_11ec_9b6d_0d516ae745bdlevel1_row13\" class=\"row_heading level1 row13\" >human_c3_gs</th>\n",
       "                        <td id=\"T_58a72168_330f_11ec_9b6d_0d516ae745bdrow13_col0\" class=\"data row13 col0\" >-0.731000</td>\n",
       "                        <td id=\"T_58a72168_330f_11ec_9b6d_0d516ae745bdrow13_col1\" class=\"data row13 col1\" >2.612000</td>\n",
       "            </tr>\n",
       "            <tr>\n",
       "                        <th id=\"T_58a72168_330f_11ec_9b6d_0d516ae745bdlevel0_row14\" class=\"row_heading level0 row14\" >MIR6734_5P</th>\n",
       "                        <th id=\"T_58a72168_330f_11ec_9b6d_0d516ae745bdlevel1_row14\" class=\"row_heading level1 row14\" >human_c3_gs</th>\n",
       "                        <td id=\"T_58a72168_330f_11ec_9b6d_0d516ae745bdrow14_col0\" class=\"data row14 col0\" >-2.820000</td>\n",
       "                        <td id=\"T_58a72168_330f_11ec_9b6d_0d516ae745bdrow14_col1\" class=\"data row14 col1\" >2.112000</td>\n",
       "            </tr>\n",
       "            <tr>\n",
       "                        <th id=\"T_58a72168_330f_11ec_9b6d_0d516ae745bdlevel0_row15\" class=\"row_heading level0 row15\" >GNF2_TDG</th>\n",
       "                        <th id=\"T_58a72168_330f_11ec_9b6d_0d516ae745bdlevel1_row15\" class=\"row_heading level1 row15\" >human_c4_gs</th>\n",
       "                        <td id=\"T_58a72168_330f_11ec_9b6d_0d516ae745bdrow15_col0\" class=\"data row15 col0\" >4.764000</td>\n",
       "                        <td id=\"T_58a72168_330f_11ec_9b6d_0d516ae745bdrow15_col1\" class=\"data row15 col1\" >2.085000</td>\n",
       "            </tr>\n",
       "            <tr>\n",
       "                        <th id=\"T_58a72168_330f_11ec_9b6d_0d516ae745bdlevel0_row16\" class=\"row_heading level0 row16\" >GNF2_CKS2</th>\n",
       "                        <th id=\"T_58a72168_330f_11ec_9b6d_0d516ae745bdlevel1_row16\" class=\"row_heading level1 row16\" >human_c4_gs</th>\n",
       "                        <td id=\"T_58a72168_330f_11ec_9b6d_0d516ae745bdrow16_col0\" class=\"data row16 col0\" >1.131000</td>\n",
       "                        <td id=\"T_58a72168_330f_11ec_9b6d_0d516ae745bdrow16_col1\" class=\"data row16 col1\" >3.694000</td>\n",
       "            </tr>\n",
       "            <tr>\n",
       "                        <th id=\"T_58a72168_330f_11ec_9b6d_0d516ae745bdlevel0_row17\" class=\"row_heading level0 row17\" >MORF_TPR</th>\n",
       "                        <th id=\"T_58a72168_330f_11ec_9b6d_0d516ae745bdlevel1_row17\" class=\"row_heading level1 row17\" >human_c4_gs</th>\n",
       "                        <td id=\"T_58a72168_330f_11ec_9b6d_0d516ae745bdrow17_col0\" class=\"data row17 col0\" >1.731000</td>\n",
       "                        <td id=\"T_58a72168_330f_11ec_9b6d_0d516ae745bdrow17_col1\" class=\"data row17 col1\" >2.293000</td>\n",
       "            </tr>\n",
       "            <tr>\n",
       "                        <th id=\"T_58a72168_330f_11ec_9b6d_0d516ae745bdlevel0_row18\" class=\"row_heading level0 row18\" >GO_MITOCHONDRIAL_GENE_EXPRESSION</th>\n",
       "                        <th id=\"T_58a72168_330f_11ec_9b6d_0d516ae745bdlevel1_row18\" class=\"row_heading level1 row18\" >human_c5_gs</th>\n",
       "                        <td id=\"T_58a72168_330f_11ec_9b6d_0d516ae745bdrow18_col0\" class=\"data row18 col0\" >-2.792000</td>\n",
       "                        <td id=\"T_58a72168_330f_11ec_9b6d_0d516ae745bdrow18_col1\" class=\"data row18 col1\" >11.943000</td>\n",
       "            </tr>\n",
       "            <tr>\n",
       "                        <th id=\"T_58a72168_330f_11ec_9b6d_0d516ae745bdlevel0_row19\" class=\"row_heading level0 row19\" >GO_PROTEIN_ACETYLTRANSFERASE_COMPLEX</th>\n",
       "                        <th id=\"T_58a72168_330f_11ec_9b6d_0d516ae745bdlevel1_row19\" class=\"row_heading level1 row19\" >human_c5_gs</th>\n",
       "                        <td id=\"T_58a72168_330f_11ec_9b6d_0d516ae745bdrow19_col0\" class=\"data row19 col0\" >2.951000</td>\n",
       "                        <td id=\"T_58a72168_330f_11ec_9b6d_0d516ae745bdrow19_col1\" class=\"data row19 col1\" >4.385000</td>\n",
       "            </tr>\n",
       "            <tr>\n",
       "                        <th id=\"T_58a72168_330f_11ec_9b6d_0d516ae745bdlevel0_row20\" class=\"row_heading level0 row20\" >GO_REGULATION_OF_CYTOPLASMIC_TRANSLATION</th>\n",
       "                        <th id=\"T_58a72168_330f_11ec_9b6d_0d516ae745bdlevel1_row20\" class=\"row_heading level1 row20\" >human_c5_gs</th>\n",
       "                        <td id=\"T_58a72168_330f_11ec_9b6d_0d516ae745bdrow20_col0\" class=\"data row20 col0\" >0.645000</td>\n",
       "                        <td id=\"T_58a72168_330f_11ec_9b6d_0d516ae745bdrow20_col1\" class=\"data row20 col1\" >4.945000</td>\n",
       "            </tr>\n",
       "            <tr>\n",
       "                        <th id=\"T_58a72168_330f_11ec_9b6d_0d516ae745bdlevel0_row21\" class=\"row_heading level0 row21\" >GO_TRNA_WOBBLE_URIDINE_MODIFICATION</th>\n",
       "                        <th id=\"T_58a72168_330f_11ec_9b6d_0d516ae745bdlevel1_row21\" class=\"row_heading level1 row21\" >human_c5_gs</th>\n",
       "                        <td id=\"T_58a72168_330f_11ec_9b6d_0d516ae745bdrow21_col0\" class=\"data row21 col0\" >-0.621000</td>\n",
       "                        <td id=\"T_58a72168_330f_11ec_9b6d_0d516ae745bdrow21_col1\" class=\"data row21 col1\" >5.897000</td>\n",
       "            </tr>\n",
       "            <tr>\n",
       "                        <th id=\"T_58a72168_330f_11ec_9b6d_0d516ae745bdlevel0_row22\" class=\"row_heading level0 row22\" >GO_PROTEIN_K11_LINKED_UBIQUITINATION</th>\n",
       "                        <th id=\"T_58a72168_330f_11ec_9b6d_0d516ae745bdlevel1_row22\" class=\"row_heading level1 row22\" >human_c5_gs</th>\n",
       "                        <td id=\"T_58a72168_330f_11ec_9b6d_0d516ae745bdrow22_col0\" class=\"data row22 col0\" >7.036000</td>\n",
       "                        <td id=\"T_58a72168_330f_11ec_9b6d_0d516ae745bdrow22_col1\" class=\"data row22 col1\" >-0.522000</td>\n",
       "            </tr>\n",
       "            <tr>\n",
       "                        <th id=\"T_58a72168_330f_11ec_9b6d_0d516ae745bdlevel0_row23\" class=\"row_heading level0 row23\" >GO_RECOMBINATIONAL_REPAIR</th>\n",
       "                        <th id=\"T_58a72168_330f_11ec_9b6d_0d516ae745bdlevel1_row23\" class=\"row_heading level1 row23\" >human_c5_gs</th>\n",
       "                        <td id=\"T_58a72168_330f_11ec_9b6d_0d516ae745bdrow23_col0\" class=\"data row23 col0\" >6.938000</td>\n",
       "                        <td id=\"T_58a72168_330f_11ec_9b6d_0d516ae745bdrow23_col1\" class=\"data row23 col1\" >-0.929000</td>\n",
       "            </tr>\n",
       "            <tr>\n",
       "                        <th id=\"T_58a72168_330f_11ec_9b6d_0d516ae745bdlevel0_row24\" class=\"row_heading level0 row24\" >GO_THIOESTER_BIOSYNTHETIC_PROCESS</th>\n",
       "                        <th id=\"T_58a72168_330f_11ec_9b6d_0d516ae745bdlevel1_row24\" class=\"row_heading level1 row24\" >human_c5_gs</th>\n",
       "                        <td id=\"T_58a72168_330f_11ec_9b6d_0d516ae745bdrow24_col0\" class=\"data row24 col0\" >-0.270000</td>\n",
       "                        <td id=\"T_58a72168_330f_11ec_9b6d_0d516ae745bdrow24_col1\" class=\"data row24 col1\" >5.422000</td>\n",
       "            </tr>\n",
       "            <tr>\n",
       "                        <th id=\"T_58a72168_330f_11ec_9b6d_0d516ae745bdlevel0_row25\" class=\"row_heading level0 row25\" >GO_NCRNA_TRANSCRIPTION</th>\n",
       "                        <th id=\"T_58a72168_330f_11ec_9b6d_0d516ae745bdlevel1_row25\" class=\"row_heading level1 row25\" >human_c5_gs</th>\n",
       "                        <td id=\"T_58a72168_330f_11ec_9b6d_0d516ae745bdrow25_col0\" class=\"data row25 col0\" >0.325000</td>\n",
       "                        <td id=\"T_58a72168_330f_11ec_9b6d_0d516ae745bdrow25_col1\" class=\"data row25 col1\" >3.206000</td>\n",
       "            </tr>\n",
       "            <tr>\n",
       "                        <th id=\"T_58a72168_330f_11ec_9b6d_0d516ae745bdlevel0_row26\" class=\"row_heading level0 row26\" >GO_REGULATION_OF_UBIQUITIN_DEPENDENT_PROTEIN_CATABOLIC_PROCESS</th>\n",
       "                        <th id=\"T_58a72168_330f_11ec_9b6d_0d516ae745bdlevel1_row26\" class=\"row_heading level1 row26\" >human_c5_gs</th>\n",
       "                        <td id=\"T_58a72168_330f_11ec_9b6d_0d516ae745bdrow26_col0\" class=\"data row26 col0\" >5.219000</td>\n",
       "                        <td id=\"T_58a72168_330f_11ec_9b6d_0d516ae745bdrow26_col1\" class=\"data row26 col1\" >-0.506000</td>\n",
       "            </tr>\n",
       "            <tr>\n",
       "                        <th id=\"T_58a72168_330f_11ec_9b6d_0d516ae745bdlevel0_row27\" class=\"row_heading level0 row27\" >GO_REGULATION_OF_MICROTUBULE_BINDING</th>\n",
       "                        <th id=\"T_58a72168_330f_11ec_9b6d_0d516ae745bdlevel1_row27\" class=\"row_heading level1 row27\" >human_c5_gs</th>\n",
       "                        <td id=\"T_58a72168_330f_11ec_9b6d_0d516ae745bdrow27_col0\" class=\"data row27 col0\" >4.071000</td>\n",
       "                        <td id=\"T_58a72168_330f_11ec_9b6d_0d516ae745bdrow27_col1\" class=\"data row27 col1\" >-0.415000</td>\n",
       "            </tr>\n",
       "            <tr>\n",
       "                        <th id=\"T_58a72168_330f_11ec_9b6d_0d516ae745bdlevel0_row28\" class=\"row_heading level0 row28\" >GO_ESTABLISHMENT_OF_RNA_LOCALIZATION</th>\n",
       "                        <th id=\"T_58a72168_330f_11ec_9b6d_0d516ae745bdlevel1_row28\" class=\"row_heading level1 row28\" >human_c5_gs</th>\n",
       "                        <td id=\"T_58a72168_330f_11ec_9b6d_0d516ae745bdrow28_col0\" class=\"data row28 col0\" >4.489000</td>\n",
       "                        <td id=\"T_58a72168_330f_11ec_9b6d_0d516ae745bdrow28_col1\" class=\"data row28 col1\" >0.348000</td>\n",
       "            </tr>\n",
       "            <tr>\n",
       "                        <th id=\"T_58a72168_330f_11ec_9b6d_0d516ae745bdlevel0_row29\" class=\"row_heading level0 row29\" >GO_MHC_PROTEIN_COMPLEX_BINDING</th>\n",
       "                        <th id=\"T_58a72168_330f_11ec_9b6d_0d516ae745bdlevel1_row29\" class=\"row_heading level1 row29\" >human_c5_gs</th>\n",
       "                        <td id=\"T_58a72168_330f_11ec_9b6d_0d516ae745bdrow29_col0\" class=\"data row29 col0\" >3.658000</td>\n",
       "                        <td id=\"T_58a72168_330f_11ec_9b6d_0d516ae745bdrow29_col1\" class=\"data row29 col1\" >-0.492000</td>\n",
       "            </tr>\n",
       "            <tr>\n",
       "                        <th id=\"T_58a72168_330f_11ec_9b6d_0d516ae745bdlevel0_row30\" class=\"row_heading level0 row30\" >GO_HISTONE_DEMETHYLASE_ACTIVITY</th>\n",
       "                        <th id=\"T_58a72168_330f_11ec_9b6d_0d516ae745bdlevel1_row30\" class=\"row_heading level1 row30\" >human_c5_gs</th>\n",
       "                        <td id=\"T_58a72168_330f_11ec_9b6d_0d516ae745bdrow30_col0\" class=\"data row30 col0\" >0.727000</td>\n",
       "                        <td id=\"T_58a72168_330f_11ec_9b6d_0d516ae745bdrow30_col1\" class=\"data row30 col1\" >2.246000</td>\n",
       "            </tr>\n",
       "            <tr>\n",
       "                        <th id=\"T_58a72168_330f_11ec_9b6d_0d516ae745bdlevel0_row31\" class=\"row_heading level0 row31\" >GO_CORE_MEDIATOR_COMPLEX</th>\n",
       "                        <th id=\"T_58a72168_330f_11ec_9b6d_0d516ae745bdlevel1_row31\" class=\"row_heading level1 row31\" >human_c5_gs</th>\n",
       "                        <td id=\"T_58a72168_330f_11ec_9b6d_0d516ae745bdrow31_col0\" class=\"data row31 col0\" >4.876000</td>\n",
       "                        <td id=\"T_58a72168_330f_11ec_9b6d_0d516ae745bdrow31_col1\" class=\"data row31 col1\" >-0.332000</td>\n",
       "            </tr>\n",
       "            <tr>\n",
       "                        <th id=\"T_58a72168_330f_11ec_9b6d_0d516ae745bdlevel0_row32\" class=\"row_heading level0 row32\" >GO_CELLULAR_RESPONSE_TO_NITRIC_OXIDE</th>\n",
       "                        <th id=\"T_58a72168_330f_11ec_9b6d_0d516ae745bdlevel1_row32\" class=\"row_heading level1 row32\" >human_c5_gs</th>\n",
       "                        <td id=\"T_58a72168_330f_11ec_9b6d_0d516ae745bdrow32_col0\" class=\"data row32 col0\" >2.867000</td>\n",
       "                        <td id=\"T_58a72168_330f_11ec_9b6d_0d516ae745bdrow32_col1\" class=\"data row32 col1\" >1.383000</td>\n",
       "            </tr>\n",
       "            <tr>\n",
       "                        <th id=\"T_58a72168_330f_11ec_9b6d_0d516ae745bdlevel0_row33\" class=\"row_heading level0 row33\" >GO_ISWI_TYPE_COMPLEX</th>\n",
       "                        <th id=\"T_58a72168_330f_11ec_9b6d_0d516ae745bdlevel1_row33\" class=\"row_heading level1 row33\" >human_c5_gs</th>\n",
       "                        <td id=\"T_58a72168_330f_11ec_9b6d_0d516ae745bdrow33_col0\" class=\"data row33 col0\" >4.071000</td>\n",
       "                        <td id=\"T_58a72168_330f_11ec_9b6d_0d516ae745bdrow33_col1\" class=\"data row33 col1\" >-0.415000</td>\n",
       "            </tr>\n",
       "            <tr>\n",
       "                        <th id=\"T_58a72168_330f_11ec_9b6d_0d516ae745bdlevel0_row34\" class=\"row_heading level0 row34\" >GCNP_SHH_UP_LATE.V1_UP</th>\n",
       "                        <th id=\"T_58a72168_330f_11ec_9b6d_0d516ae745bdlevel1_row34\" class=\"row_heading level1 row34\" >human_c6_gs</th>\n",
       "                        <td id=\"T_58a72168_330f_11ec_9b6d_0d516ae745bdrow34_col0\" class=\"data row34 col0\" >2.654000</td>\n",
       "                        <td id=\"T_58a72168_330f_11ec_9b6d_0d516ae745bdrow34_col1\" class=\"data row34 col1\" >0.732000</td>\n",
       "            </tr>\n",
       "            <tr>\n",
       "                        <th id=\"T_58a72168_330f_11ec_9b6d_0d516ae745bdlevel0_row35\" class=\"row_heading level0 row35\" >GSE7568_IL4_VS_IL4_AND_TGFB_TREATED_MACROPHAGE_24H_DN</th>\n",
       "                        <th id=\"T_58a72168_330f_11ec_9b6d_0d516ae745bdlevel1_row35\" class=\"row_heading level1 row35\" >human_c7_gs</th>\n",
       "                        <td id=\"T_58a72168_330f_11ec_9b6d_0d516ae745bdrow35_col0\" class=\"data row35 col0\" >-0.293000</td>\n",
       "                        <td id=\"T_58a72168_330f_11ec_9b6d_0d516ae745bdrow35_col1\" class=\"data row35 col1\" >6.973000</td>\n",
       "            </tr>\n",
       "            <tr>\n",
       "                        <th id=\"T_58a72168_330f_11ec_9b6d_0d516ae745bdlevel0_row36\" class=\"row_heading level0 row36\" >GSE3920_IFNB_VS_IFNG_TREATED_ENDOTHELIAL_CELL_DN</th>\n",
       "                        <th id=\"T_58a72168_330f_11ec_9b6d_0d516ae745bdlevel1_row36\" class=\"row_heading level1 row36\" >human_c7_gs</th>\n",
       "                        <td id=\"T_58a72168_330f_11ec_9b6d_0d516ae745bdrow36_col0\" class=\"data row36 col0\" >2.561000</td>\n",
       "                        <td id=\"T_58a72168_330f_11ec_9b6d_0d516ae745bdrow36_col1\" class=\"data row36 col1\" >1.061000</td>\n",
       "            </tr>\n",
       "            <tr>\n",
       "                        <th id=\"T_58a72168_330f_11ec_9b6d_0d516ae745bdlevel0_row37\" class=\"row_heading level0 row37\" >GSE9006_TYPE_1_DIABETES_AT_DX_VS_1MONTH_POST_DX_PBMC_UP</th>\n",
       "                        <th id=\"T_58a72168_330f_11ec_9b6d_0d516ae745bdlevel1_row37\" class=\"row_heading level1 row37\" >human_c7_gs</th>\n",
       "                        <td id=\"T_58a72168_330f_11ec_9b6d_0d516ae745bdrow37_col0\" class=\"data row37 col0\" >3.246000</td>\n",
       "                        <td id=\"T_58a72168_330f_11ec_9b6d_0d516ae745bdrow37_col1\" class=\"data row37 col1\" >3.936000</td>\n",
       "            </tr>\n",
       "            <tr>\n",
       "                        <th id=\"T_58a72168_330f_11ec_9b6d_0d516ae745bdlevel0_row38\" class=\"row_heading level0 row38\" >GSE36476_CTRL_VS_TSST_ACT_72H_MEMORY_CD4_TCELL_OLD_DN</th>\n",
       "                        <th id=\"T_58a72168_330f_11ec_9b6d_0d516ae745bdlevel1_row38\" class=\"row_heading level1 row38\" >human_c7_gs</th>\n",
       "                        <td id=\"T_58a72168_330f_11ec_9b6d_0d516ae745bdrow38_col0\" class=\"data row38 col0\" >0.498000</td>\n",
       "                        <td id=\"T_58a72168_330f_11ec_9b6d_0d516ae745bdrow38_col1\" class=\"data row38 col1\" >4.441000</td>\n",
       "            </tr>\n",
       "            <tr>\n",
       "                        <th id=\"T_58a72168_330f_11ec_9b6d_0d516ae745bdlevel0_row39\" class=\"row_heading level0 row39\" >GSE10240_IL22_VS_IL17_STIM_PRIMARY_BRONCHIAL_EPITHELIAL_CELLS_UP</th>\n",
       "                        <th id=\"T_58a72168_330f_11ec_9b6d_0d516ae745bdlevel1_row39\" class=\"row_heading level1 row39\" >human_c7_gs</th>\n",
       "                        <td id=\"T_58a72168_330f_11ec_9b6d_0d516ae745bdrow39_col0\" class=\"data row39 col0\" >1.486000</td>\n",
       "                        <td id=\"T_58a72168_330f_11ec_9b6d_0d516ae745bdrow39_col1\" class=\"data row39 col1\" >4.936000</td>\n",
       "            </tr>\n",
       "            <tr>\n",
       "                        <th id=\"T_58a72168_330f_11ec_9b6d_0d516ae745bdlevel0_row40\" class=\"row_heading level0 row40\" >GSE2770_IL12_VS_IL4_TREATED_ACT_CD4_TCELL_6H_DN</th>\n",
       "                        <th id=\"T_58a72168_330f_11ec_9b6d_0d516ae745bdlevel1_row40\" class=\"row_heading level1 row40\" >human_c7_gs</th>\n",
       "                        <td id=\"T_58a72168_330f_11ec_9b6d_0d516ae745bdrow40_col0\" class=\"data row40 col0\" >0.543000</td>\n",
       "                        <td id=\"T_58a72168_330f_11ec_9b6d_0d516ae745bdrow40_col1\" class=\"data row40 col1\" >2.385000</td>\n",
       "            </tr>\n",
       "            <tr>\n",
       "                        <th id=\"T_58a72168_330f_11ec_9b6d_0d516ae745bdlevel0_row41\" class=\"row_heading level0 row41\" >GSE7852_THYMUS_VS_FAT_TREG_UP</th>\n",
       "                        <th id=\"T_58a72168_330f_11ec_9b6d_0d516ae745bdlevel1_row41\" class=\"row_heading level1 row41\" >human_c7_gs</th>\n",
       "                        <td id=\"T_58a72168_330f_11ec_9b6d_0d516ae745bdrow41_col0\" class=\"data row41 col0\" >1.345000</td>\n",
       "                        <td id=\"T_58a72168_330f_11ec_9b6d_0d516ae745bdrow41_col1\" class=\"data row41 col1\" >3.546000</td>\n",
       "            </tr>\n",
       "            <tr>\n",
       "                        <th id=\"T_58a72168_330f_11ec_9b6d_0d516ae745bdlevel0_row42\" class=\"row_heading level0 row42\" >GSE36009_WT_VS_NLRP10_KO_DC_DN</th>\n",
       "                        <th id=\"T_58a72168_330f_11ec_9b6d_0d516ae745bdlevel1_row42\" class=\"row_heading level1 row42\" >human_c7_gs</th>\n",
       "                        <td id=\"T_58a72168_330f_11ec_9b6d_0d516ae745bdrow42_col0\" class=\"data row42 col0\" >1.438000</td>\n",
       "                        <td id=\"T_58a72168_330f_11ec_9b6d_0d516ae745bdrow42_col1\" class=\"data row42 col1\" >3.379000</td>\n",
       "            </tr>\n",
       "            <tr>\n",
       "                        <th id=\"T_58a72168_330f_11ec_9b6d_0d516ae745bdlevel0_row43\" class=\"row_heading level0 row43\" >GSE2770_UNTREATED_VS_IL12_TREATED_ACT_CD4_TCELL_48H_DN</th>\n",
       "                        <th id=\"T_58a72168_330f_11ec_9b6d_0d516ae745bdlevel1_row43\" class=\"row_heading level1 row43\" >human_c7_gs</th>\n",
       "                        <td id=\"T_58a72168_330f_11ec_9b6d_0d516ae745bdrow43_col0\" class=\"data row43 col0\" >2.430000</td>\n",
       "                        <td id=\"T_58a72168_330f_11ec_9b6d_0d516ae745bdrow43_col1\" class=\"data row43 col1\" >0.542000</td>\n",
       "            </tr>\n",
       "            <tr>\n",
       "                        <th id=\"T_58a72168_330f_11ec_9b6d_0d516ae745bdlevel0_row44\" class=\"row_heading level0 row44\" >GSE360_T_GONDII_VS_B_MALAYI_HIGH_DOSE_MAC_DN</th>\n",
       "                        <th id=\"T_58a72168_330f_11ec_9b6d_0d516ae745bdlevel1_row44\" class=\"row_heading level1 row44\" >human_c7_gs</th>\n",
       "                        <td id=\"T_58a72168_330f_11ec_9b6d_0d516ae745bdrow44_col0\" class=\"data row44 col0\" >2.736000</td>\n",
       "                        <td id=\"T_58a72168_330f_11ec_9b6d_0d516ae745bdrow44_col1\" class=\"data row44 col1\" >0.867000</td>\n",
       "            </tr>\n",
       "            <tr>\n",
       "                        <th id=\"T_58a72168_330f_11ec_9b6d_0d516ae745bdlevel0_row45\" class=\"row_heading level0 row45\" >GO:0005762</th>\n",
       "                        <th id=\"T_58a72168_330f_11ec_9b6d_0d516ae745bdlevel1_row45\" class=\"row_heading level1 row45\" >human_go_gs</th>\n",
       "                        <td id=\"T_58a72168_330f_11ec_9b6d_0d516ae745bdrow45_col0\" class=\"data row45 col0\" >-0.837000</td>\n",
       "                        <td id=\"T_58a72168_330f_11ec_9b6d_0d516ae745bdrow45_col1\" class=\"data row45 col1\" >9.029000</td>\n",
       "            </tr>\n",
       "            <tr>\n",
       "                        <th id=\"T_58a72168_330f_11ec_9b6d_0d516ae745bdlevel0_row46\" class=\"row_heading level0 row46\" >GO:0000124</th>\n",
       "                        <th id=\"T_58a72168_330f_11ec_9b6d_0d516ae745bdlevel1_row46\" class=\"row_heading level1 row46\" >human_go_gs</th>\n",
       "                        <td id=\"T_58a72168_330f_11ec_9b6d_0d516ae745bdrow46_col0\" class=\"data row46 col0\" >4.783000</td>\n",
       "                        <td id=\"T_58a72168_330f_11ec_9b6d_0d516ae745bdrow46_col1\" class=\"data row46 col1\" >0.279000</td>\n",
       "            </tr>\n",
       "            <tr>\n",
       "                        <th id=\"T_58a72168_330f_11ec_9b6d_0d516ae745bdlevel0_row47\" class=\"row_heading level0 row47\" >GO:0035267</th>\n",
       "                        <th id=\"T_58a72168_330f_11ec_9b6d_0d516ae745bdlevel1_row47\" class=\"row_heading level1 row47\" >human_go_gs</th>\n",
       "                        <td id=\"T_58a72168_330f_11ec_9b6d_0d516ae745bdrow47_col0\" class=\"data row47 col0\" >-0.324000</td>\n",
       "                        <td id=\"T_58a72168_330f_11ec_9b6d_0d516ae745bdrow47_col1\" class=\"data row47 col1\" >4.783000</td>\n",
       "            </tr>\n",
       "            <tr>\n",
       "                        <th id=\"T_58a72168_330f_11ec_9b6d_0d516ae745bdlevel0_row48\" class=\"row_heading level0 row48\" >GO:0070847</th>\n",
       "                        <th id=\"T_58a72168_330f_11ec_9b6d_0d516ae745bdlevel1_row48\" class=\"row_heading level1 row48\" >human_go_gs</th>\n",
       "                        <td id=\"T_58a72168_330f_11ec_9b6d_0d516ae745bdrow48_col0\" class=\"data row48 col0\" >4.875000</td>\n",
       "                        <td id=\"T_58a72168_330f_11ec_9b6d_0d516ae745bdrow48_col1\" class=\"data row48 col1\" >-0.331000</td>\n",
       "            </tr>\n",
       "            <tr>\n",
       "                        <th id=\"T_58a72168_330f_11ec_9b6d_0d516ae745bdlevel0_row49\" class=\"row_heading level0 row49\" >GO:0030904</th>\n",
       "                        <th id=\"T_58a72168_330f_11ec_9b6d_0d516ae745bdlevel1_row49\" class=\"row_heading level1 row49\" >human_go_gs</th>\n",
       "                        <td id=\"T_58a72168_330f_11ec_9b6d_0d516ae745bdrow49_col0\" class=\"data row49 col0\" >-0.497000</td>\n",
       "                        <td id=\"T_58a72168_330f_11ec_9b6d_0d516ae745bdrow49_col1\" class=\"data row49 col1\" >2.548000</td>\n",
       "            </tr>\n",
       "            <tr>\n",
       "                        <th id=\"T_58a72168_330f_11ec_9b6d_0d516ae745bdlevel0_row50\" class=\"row_heading level0 row50\" >GO:1990498</th>\n",
       "                        <th id=\"T_58a72168_330f_11ec_9b6d_0d516ae745bdlevel1_row50\" class=\"row_heading level1 row50\" >human_go_gs</th>\n",
       "                        <td id=\"T_58a72168_330f_11ec_9b6d_0d516ae745bdrow50_col0\" class=\"data row50 col0\" >-0.497000</td>\n",
       "                        <td id=\"T_58a72168_330f_11ec_9b6d_0d516ae745bdrow50_col1\" class=\"data row50 col1\" >3.496000</td>\n",
       "            </tr>\n",
       "            <tr>\n",
       "                        <th id=\"T_58a72168_330f_11ec_9b6d_0d516ae745bdlevel0_row51\" class=\"row_heading level0 row51\" >GO:0016589</th>\n",
       "                        <th id=\"T_58a72168_330f_11ec_9b6d_0d516ae745bdlevel1_row51\" class=\"row_heading level1 row51\" >human_go_gs</th>\n",
       "                        <td id=\"T_58a72168_330f_11ec_9b6d_0d516ae745bdrow51_col0\" class=\"data row51 col0\" >4.465000</td>\n",
       "                        <td id=\"T_58a72168_330f_11ec_9b6d_0d516ae745bdrow51_col1\" class=\"data row51 col1\" >-0.248000</td>\n",
       "            </tr>\n",
       "            <tr>\n",
       "                        <th id=\"T_58a72168_330f_11ec_9b6d_0d516ae745bdlevel0_row52\" class=\"row_heading level0 row52\" >HALLMARK_G2M_CHECKPOINT</th>\n",
       "                        <th id=\"T_58a72168_330f_11ec_9b6d_0d516ae745bdlevel1_row52\" class=\"row_heading level1 row52\" >human_h_gs</th>\n",
       "                        <td id=\"T_58a72168_330f_11ec_9b6d_0d516ae745bdrow52_col0\" class=\"data row52 col0\" >7.149000</td>\n",
       "                        <td id=\"T_58a72168_330f_11ec_9b6d_0d516ae745bdrow52_col1\" class=\"data row52 col1\" >0.974000</td>\n",
       "            </tr>\n",
       "    </tbody></table>"
      ],
      "text/plain": [
       "<pandas.io.formats.style.Styler at 0x7f518607c710>"
      ]
     },
     "execution_count": 24,
     "metadata": {},
     "output_type": "execute_result"
    }
   ],
   "source": [
    "# PAGE = pd.concat([\n",
    "#     PAGE_rho.loc[\n",
    "#         set(PAGE_rho.index.to_list()).intersection(set(PAGE_fdr.index.to_list()) ),\n",
    "#     ],\n",
    "#     PAGE_fdr.loc[\n",
    "#         set(PAGE_rho.index.to_list()).intersection(set(PAGE_fdr.index.to_list()) ),\n",
    "#     ]],axis=1)\n",
    "\n",
    "\n",
    "PAGE.style.background_gradient(cmap='coolwarm',axis=None,vmin=-2,vmax=2)"
   ]
  },
  {
   "cell_type": "code",
   "execution_count": 25,
   "metadata": {},
   "outputs": [],
   "source": [
    "ann = ipd.make_annotation_dict(PAGE.loc[idx[:,['human_c5_gs','human_h_gs']],],gz=False)\n",
    "ann.update(ipd.make_annotation_dict(PAGE.loc[idx[:,['human_go_gs']],]))"
   ]
  },
  {
   "cell_type": "code",
   "execution_count": 26,
   "metadata": {},
   "outputs": [
    {
     "data": {
      "text/plain": [
       "{'names': ['GO_TRNA_WOBBLE_URIDINE_MODIFICATION', 'P', 'human_c5_gs'],\n",
       " 'genes': ['DPH3P1',\n",
       "  'DPH3',\n",
       "  'ELP4',\n",
       "  'ELP2',\n",
       "  'KTI12',\n",
       "  'ELP5',\n",
       "  'MTO1',\n",
       "  'MOCS3',\n",
       "  'CTU2',\n",
       "  'ELP6',\n",
       "  'ELP3',\n",
       "  'TRMU',\n",
       "  'TRMT9B',\n",
       "  'URM1',\n",
       "  'GTPBP3',\n",
       "  'ELP1',\n",
       "  'CTU1',\n",
       "  'ALKBH8']}"
      ]
     },
     "execution_count": 26,
     "metadata": {},
     "output_type": "execute_result"
    }
   ],
   "source": [
    "ann['GO_TRNA_WOBBLE_URIDINE_MODIFICATION']"
   ]
  },
  {
   "cell_type": "code",
   "execution_count": 34,
   "metadata": {},
   "outputs": [
    {
     "name": "stdout",
     "output_type": "stream",
     "text": [
      "GO_TRNA_WOBBLE_URIDINE_MODIFICATION GO_TRNA_WOBBLE_URIDINE_MODIFICATION\t10\tALKBH8\tCTU1\tCTU2\tELP2\tELP3\tELP4\tELP5\tELP6\tGTPBP3\tKTI12\r\n"
     ]
    }
   ],
   "source": [
    "cat hl60_exp1_DAC_rho_delta_phenotype/human_c5_gs/output.ipage_intersections | grep GO_TRNA_WOBBLE_URIDINE_MODIFICATION | grep 10"
   ]
  },
  {
   "cell_type": "markdown",
   "metadata": {},
   "source": [
    "## EnrichR"
   ]
  },
  {
   "cell_type": "code",
   "execution_count": 17,
   "metadata": {},
   "outputs": [],
   "source": [
    "# # GO = pd.read_csv('~/iPAGE/PAGE_DATA/ANNOTATIONS/human_go_gs/human_go_gs_names.txt',sep='\\t',header=None)\n",
    "# gmt = pd.read_csv('~/Projects/ipage-down/annotations/human_go_gs/human_go_gs.gmt.gz',sep='\\t',header=None)\n",
    "\n",
    "# # GO.columns = ['ID','Term','Cluster']\n",
    "# # GO = GO.set_index('ID')"
   ]
  },
  {
   "cell_type": "code",
   "execution_count": 35,
   "metadata": {},
   "outputs": [],
   "source": [
    "# GO.loc[['N6-adenosine' in term for term in GO.Term],:]\n"
   ]
  },
  {
   "cell_type": "code",
   "execution_count": 36,
   "metadata": {},
   "outputs": [
    {
     "name": "stdout",
     "output_type": "stream",
     "text": [
      "Help on function enrichr in module gseapy.enrichr:\n",
      "\n",
      "enrichr(gene_list, gene_sets, description='', outdir='Enrichr', cutoff=0.05, format='pdf', figsize=(8, 6), top_term=10, no_plot=False, verbose=False)\n",
      "    Enrichr API.\n",
      "    \n",
      "    :param gene_list: Flat file with list of genes, one gene id per row, or a python list object\n",
      "    :param gene_sets: Enrichr Library to query. Required enrichr library name(s). Separate each name by comma.\n",
      "    :param description: name of analysis. optional.\n",
      "    :param outdir: Output file directory\n",
      "    :param float cutoff: Adjust P-value cutoff, for plotting. Default: 0.05\n",
      "    :param str format: Output figure format supported by matplotlib,('pdf','png','eps'...). Default: 'pdf'.\n",
      "    :param list figsize: Matplotlib figsize, accept a tuple or list, e.g. (width,height). Default: (6.5,6).\n",
      "    :param bool no_plot: if equal to True, no figure will be draw. Default: False.\n",
      "    :param bool verbose: Increase output verbosity, print out progress of your job, Default: False.\n",
      "    \n",
      "    :return: An Enrichr object, which obj.res2d contains your enrichr query.\n",
      "\n"
     ]
    }
   ],
   "source": [
    "import gseapy as gp\n",
    "help(gp.enrichr)"
   ]
  },
  {
   "cell_type": "markdown",
   "metadata": {},
   "source": [
    "Alex Ge: \n",
    "> If we do Enrichr analysis on the resistance/sensitivity hits defined by Max’s cutoffs, (n = 418 genes), we do see mRNA methylation (adj p = 0.018) and RNA destabilization (adj p = 0.005) come out as significant GO biological processes. METTL3 is included in these GO terms.\n",
    "\n",
    "> If we do Enrichr analysis on just the resistance hits (n = 197), mRNA methylation is even more significant (adj p = 0.002), which makes sense since we see more METTL3 biology on the resistance side. It is one of the top five GO terms by adjusted P-value.\n",
    "\n",
    "> This analysis was done today with the 2021 GO terms, which have updated annotations for the newer m6A genes. When I did the same Enrichr analysis in 2018, RNA destabilization and mRNA methylation were not as significant since the GO annotations were not updated.\n",
    "\n",
    "> I think Enrichr analysis might make more sense here – in Abe’s analysis, I can see that a lot of rho scores that are < 0.2 are being included in the analysis; these are likely to be statistically insignificant. It also looks graphically like the highest bin is including rho values that are < 0?\n"
   ]
  },
  {
   "cell_type": "code",
   "execution_count": 37,
   "metadata": {},
   "outputs": [],
   "source": [
    "import os\n",
    "os.environ['http_proxy'] = \"http://marlowe-proxy:3128\"\n",
    "os.environ['https_proxy'] = \"https://marlowe-proxy:3128\""
   ]
  },
  {
   "cell_type": "code",
   "execution_count": 38,
   "metadata": {},
   "outputs": [],
   "source": [
    "resistance = open(\"resistance.txt\", \"w\")\n",
    "for gene in df.gene_name[df.iloc[:,1] > 0.2].to_list():\n",
    "    resistance.write(gene + \"\\n\")\n",
    "resistance.close()\n",
    "\n",
    "sensitivity = open(\"sensitivity.txt\", \"w\")\n",
    "for gene in df.gene_name[df.iloc[:,1] < -0.2].to_list():\n",
    "    sensitivity.write(gene + \"\\n\")\n",
    "sensitivity.close()"
   ]
  },
  {
   "cell_type": "code",
   "execution_count": 39,
   "metadata": {},
   "outputs": [],
   "source": [
    "# # run enrichr\n",
    "# # enrichr(gene_list, gene_sets, description='', outdir='Enrichr', cutoff=0.05, format='pdf', figsize=(8, 6), top_term=10, no_plot=False, verbose=False)\n",
    "# enr = gp.enrichr(gene_list=df.gene_name[df.iloc[:,1] > 0.2].to_list(),\n",
    "#                  description='resistance',\n",
    "#                  gene_sets=\"GO_Biological_Process\",\n",
    "#                  outdir='enrichr_go',\n",
    "#                  cutoff=0.5, # only used for testing.\n",
    "#                  verbose=True\n",
    "#                 )"
   ]
  },
  {
   "cell_type": "code",
   "execution_count": 40,
   "metadata": {},
   "outputs": [],
   "source": [
    "# enr = gp.enrichr(gene_list=df.gene_name[df.iloc[:,1] < -0.2].to_list(),\n",
    "#                  description='sensitivity',\n",
    "#                  gene_sets=\"GO_Biological_Process_2021\",\n",
    "#                  outdir='enrichr_go',\n",
    "#                  cutoff=0.5, # only used for testing.\n",
    "#                  verbose=True\n",
    "#                 )"
   ]
  },
  {
   "cell_type": "markdown",
   "metadata": {},
   "source": [
    "I've used the resistance genes manually to use [EnrichR](https://maayanlab.cloud/Enrichr/) webtool. "
   ]
  },
  {
   "cell_type": "code",
   "execution_count": 41,
   "metadata": {},
   "outputs": [],
   "source": [
    "enrichr = pd.read_csv('resistance-GO_Biological_Process_2021_table.txt', sep = '\\t')"
   ]
  },
  {
   "cell_type": "code",
   "execution_count": 42,
   "metadata": {},
   "outputs": [],
   "source": [
    "tRNA_terms = enrichr[\n",
    "    [('tRNA' in term) for term, genes in zip(enrichr.Term, enrichr.Genes)]\n",
    "].sort_values('Combined Score',ascending=False)#.head(n=10)\n",
    "\n",
    "METTL3_terms = enrichr[\n",
    "    [('METTL3' in genes) for term, genes in zip(enrichr.Term, enrichr.Genes)]\n",
    "].sort_values('Combined Score',ascending=False)#.head(n=10)"
   ]
  },
  {
   "cell_type": "code",
   "execution_count": 43,
   "metadata": {},
   "outputs": [],
   "source": [
    "my_terms = pd.concat([METTL3_terms.iloc[0:3,:], tRNA_terms.iloc[0:1,:]],axis=0)"
   ]
  },
  {
   "cell_type": "code",
   "execution_count": 44,
   "metadata": {},
   "outputs": [
    {
     "data": {
      "text/html": [
       "<div>\n",
       "<style scoped>\n",
       "    .dataframe tbody tr th:only-of-type {\n",
       "        vertical-align: middle;\n",
       "    }\n",
       "\n",
       "    .dataframe tbody tr th {\n",
       "        vertical-align: top;\n",
       "    }\n",
       "\n",
       "    .dataframe thead th {\n",
       "        text-align: right;\n",
       "    }\n",
       "</style>\n",
       "<table border=\"1\" class=\"dataframe\">\n",
       "  <thead>\n",
       "    <tr style=\"text-align: right;\">\n",
       "      <th></th>\n",
       "      <th>Term</th>\n",
       "      <th>Overlap</th>\n",
       "      <th>P-value</th>\n",
       "      <th>Adjusted P-value</th>\n",
       "      <th>Old P-value</th>\n",
       "      <th>Old Adjusted P-value</th>\n",
       "      <th>Odds Ratio</th>\n",
       "      <th>Combined Score</th>\n",
       "      <th>Genes</th>\n",
       "    </tr>\n",
       "  </thead>\n",
       "  <tbody>\n",
       "    <tr>\n",
       "      <th>6</th>\n",
       "      <td>mRNA methylation (GO:0080009)</td>\n",
       "      <td>4/15</td>\n",
       "      <td>5.411388e-06</td>\n",
       "      <td>0.000790</td>\n",
       "      <td>0</td>\n",
       "      <td>0</td>\n",
       "      <td>45.342481</td>\n",
       "      <td>549.868493</td>\n",
       "      <td>TRMT10C;METTL3;ZC3H13;CBLL1</td>\n",
       "    </tr>\n",
       "    <tr>\n",
       "      <th>27</th>\n",
       "      <td>delamination (GO:0060232)</td>\n",
       "      <td>2/7</td>\n",
       "      <td>1.349594e-03</td>\n",
       "      <td>0.046513</td>\n",
       "      <td>0</td>\n",
       "      <td>0</td>\n",
       "      <td>49.272050</td>\n",
       "      <td>325.587310</td>\n",
       "      <td>YTHDF2;METTL3</td>\n",
       "    </tr>\n",
       "    <tr>\n",
       "      <th>9</th>\n",
       "      <td>mRNA modification (GO:0016556)</td>\n",
       "      <td>4/22</td>\n",
       "      <td>2.773701e-05</td>\n",
       "      <td>0.002835</td>\n",
       "      <td>0</td>\n",
       "      <td>0</td>\n",
       "      <td>27.699511</td>\n",
       "      <td>290.643851</td>\n",
       "      <td>TRMT10C;METTL3;ZC3H13;CBLL1</td>\n",
       "    </tr>\n",
       "    <tr>\n",
       "      <th>0</th>\n",
       "      <td>tRNA wobble base modification (GO:0002097)</td>\n",
       "      <td>5/14</td>\n",
       "      <td>6.378393e-08</td>\n",
       "      <td>0.000033</td>\n",
       "      <td>0</td>\n",
       "      <td>0</td>\n",
       "      <td>69.718706</td>\n",
       "      <td>1155.083106</td>\n",
       "      <td>CTU1;KTI12;ELP3;ELP4;ALKBH8</td>\n",
       "    </tr>\n",
       "  </tbody>\n",
       "</table>\n",
       "</div>"
      ],
      "text/plain": [
       "                                          Term Overlap       P-value  \\\n",
       "6                mRNA methylation (GO:0080009)    4/15  5.411388e-06   \n",
       "27                   delamination (GO:0060232)     2/7  1.349594e-03   \n",
       "9               mRNA modification (GO:0016556)    4/22  2.773701e-05   \n",
       "0   tRNA wobble base modification (GO:0002097)    5/14  6.378393e-08   \n",
       "\n",
       "    Adjusted P-value  Old P-value  Old Adjusted P-value  Odds Ratio  \\\n",
       "6           0.000790            0                     0   45.342481   \n",
       "27          0.046513            0                     0   49.272050   \n",
       "9           0.002835            0                     0   27.699511   \n",
       "0           0.000033            0                     0   69.718706   \n",
       "\n",
       "    Combined Score                        Genes  \n",
       "6       549.868493  TRMT10C;METTL3;ZC3H13;CBLL1  \n",
       "27      325.587310                YTHDF2;METTL3  \n",
       "9       290.643851  TRMT10C;METTL3;ZC3H13;CBLL1  \n",
       "0      1155.083106  CTU1;KTI12;ELP3;ELP4;ALKBH8  "
      ]
     },
     "execution_count": 44,
     "metadata": {},
     "output_type": "execute_result"
    }
   ],
   "source": [
    "my_terms"
   ]
  },
  {
   "cell_type": "code",
   "execution_count": 177,
   "metadata": {},
   "outputs": [],
   "source": [
    "%%R\n",
    "library(ggplot2)\n",
    "library(tidyverse)\n",
    "library(RColorBrewer)\n",
    "library(patchwork)"
   ]
  },
  {
   "cell_type": "code",
   "execution_count": 91,
   "metadata": {},
   "outputs": [],
   "source": [
    "%%R -i enrichr\n",
    "# https://stackoverflow.com/questions/10688137/how-to-fix-spaces-in-column-names-of-a-data-frame-remove-spaces-inject-dots\n"
   ]
  },
  {
   "cell_type": "code",
   "execution_count": 298,
   "metadata": {},
   "outputs": [],
   "source": [
    "%%R \n",
    "plot_enrichr <- function(enrichr,n=7){\n",
    "    \n",
    "    enrichr <- enrichr %>% dplyr::rename_all(funs(make.names(.)))\n",
    "\n",
    "    enrichr$Term <- as.character(enrichr$Term)\n",
    "    enrichr$Combined.Score <- as.numeric(enrichr$Combined.Score) \n",
    "    enrichr$Adjusted.P.value <- as.numeric(enrichr$Adjusted.P.value) \n",
    "\n",
    "    enrichr$Term <- gsub(' [(]GO.*', '', enrichr$Term)\n",
    "\n",
    "    enrichr$star <- ifelse(\n",
    "        enrichr[['Adjusted.P.value']] < 0.001, ' ***', \n",
    "        ifelse(\n",
    "            enrichr[['Adjusted.P.value']] >= 0.001 & enrichr[['Adjusted.P.value']] < 0.01, ' **',\n",
    "            ifelse(enrichr[['Adjusted.P.value']] >= 0.01 & enrichr[['Adjusted.P.value']] < 0.05, ' *', ' ')\n",
    "        )\n",
    "    )\n",
    "\n",
    "    p <- arrange(enrichr,desc(Combined.Score))[1:n,] %>% \n",
    "    ggplot(aes(x = reorder(Term,Combined.Score), y = log(Combined.Score), label = star)) +\n",
    "        geom_bar(stat = 'identity', width = 0.65, fill = brewer.pal(8, 'Accent')[3], color = brewer.pal(2, 'Accent')[3]) +\n",
    "        theme_classic() +\n",
    "        coord_flip() +\n",
    "        geom_text(hjust = -0.02, vjust = 0.5, size = 2) +\n",
    "        theme(axis.text.x = element_text(size = 6, color = 'black'),\n",
    "              axis.text.y = element_text(size = 9, color = 'black'), \n",
    "              axis.title.x = element_text(size = 9),\n",
    "              axis.title.y = element_blank()\n",
    "              ) +\n",
    "        ylab('\\nErichment score') #+\n",
    "        # scale_y_continuous(expand = c(0,0), limits = c(0,47))\n",
    "    \n",
    "    return (p)\n",
    "\n",
    "}"
   ]
  },
  {
   "cell_type": "code",
   "execution_count": 299,
   "metadata": {},
   "outputs": [
    {
     "data": {
      "image/png": "[encoded data removed]"
     },
     "metadata": {},
     "output_type": "display_data"
    }
   ],
   "source": [
    "%%R -i my_terms\n",
    "p = plot_enrichr(my_terms,n=4)\n",
    "ggsave('resistance.pdf',p, height = 3, width = 3)\n",
    "p"
   ]
  },
  {
   "cell_type": "markdown",
   "metadata": {},
   "source": [
    "# Pairwise correlations\n",
    "\n",
    "Using `.iloc` induced the pandas into an object instead of dataframe, so `corr()` didn't work. Here is the solution: https://stackoverflow.com/questions/55251166/pandas-corr-returning\n",
    "\n",
    "Then, using https://stackoverflow.com/questions/29432629/plot-correlation-matrix-using-pandas"
   ]
  },
  {
   "cell_type": "code",
   "execution_count": 112,
   "metadata": {},
   "outputs": [],
   "source": [
    "# import seaborn as sns\n",
    "# import matplotlib.pyplot as plt\n",
    "# from matplotlib.pyplot import subplots\n",
    "# from venn import venn "
   ]
  },
  {
   "cell_type": "code",
   "execution_count": 111,
   "metadata": {},
   "outputs": [],
   "source": [
    "# def drug_score_df(data, DRUG, SCORE):\n",
    "#     '''\n",
    "#     A function to read screening data for given score and drug\n",
    "#     '''\n",
    "#     all_genes = [set(data[cell][key].index) for cell in data for key in data[cell] if DRUG in key and SCORE in key]\n",
    "#     genes = all_genes[0].intersection(*all_genes[1:])\n",
    "    \n",
    "#     keys = ['_'.join([cell,key]) for cell in data for key in data[cell] if DRUG in key and SCORE in key]\n",
    "#     cols = [col[0]+col[1] for col in product(keys,[' score',' pvalue'])]\n",
    "    \n",
    "#     all_df = [data[cell][key].loc[genes] for cell in data for key in data[cell] if DRUG in key and SCORE in key]\n",
    "    \n",
    "#     df = pd.concat(all_df, axis=1).dropna().astype(float)\n",
    "#     df.columns = cols\n",
    "    \n",
    "#     return df"
   ]
  },
  {
   "cell_type": "markdown",
   "metadata": {},
   "source": [
    "### DAC $\\gamma$-score"
   ]
  },
  {
   "cell_type": "code",
   "execution_count": 110,
   "metadata": {},
   "outputs": [],
   "source": [
    "# df = drug_score_df(data,'DAC','gamma').filter(like='score',axis=1)\n",
    "# plot_corr(df)\n",
    "# df.corr().style.background_gradient(cmap='coolwarm',axis=None,vmin=0.5)"
   ]
  },
  {
   "cell_type": "markdown",
   "metadata": {},
   "source": [
    "### DAC $\\rho$-score"
   ]
  },
  {
   "cell_type": "code",
   "execution_count": 109,
   "metadata": {},
   "outputs": [],
   "source": [
    "# df = drug_score_df(data,'DAC','rho').filter(like='score',axis=1)\n",
    "# plot_corr(df)\n",
    "# df.corr().style.background_gradient(cmap='coolwarm',axis=None)"
   ]
  },
  {
   "cell_type": "markdown",
   "metadata": {},
   "source": [
    "# Intersection"
   ]
  },
  {
   "cell_type": "code",
   "execution_count": 108,
   "metadata": {},
   "outputs": [],
   "source": [
    "# def intersection_analysis(SCORE,score_thr = 0.1,pvalue_thr = 1):\n",
    "\n",
    "#     raw_df = drug_score_df(data,'DAC',SCORE)\n",
    "#     exps = set([col.split(f'_{SCORE}')[0] for col in raw_df.columns.tolist()])\n",
    "\n",
    "#     dfs = [[e,raw_df.filter(like=e,axis=1)] for e in exps]\n",
    "\n",
    "#     results = []\n",
    "#     for exp in dfs:\n",
    "#         print(exp[0])\n",
    "#         results.append([exp[0]] + [find_top(\n",
    "#             exp[1],\n",
    "#             f'{exp[0]}_{SCORE} score', score_thr,\n",
    "#             f'{exp[0]}_{SCORE} pvalue', pvalue_thr\n",
    "#         )])\n",
    "\n",
    "#     studies = dict()\n",
    "#     for res in results:\n",
    "#         up,dn = res[1]\n",
    "#         studies[res[0]] = {}\n",
    "#         studies[res[0]]['up'] = set(up.index)\n",
    "#         studies[res[0]]['dn'] = set(dn.index)\n",
    "\n",
    "#     _, axs = subplots(ncols=2, nrows=1, figsize=(15, 5))\n",
    "\n",
    "#     venn(dict([[std,studies[std]['up']] for std in studies]),fontsize=10,legend_loc=\"upper left\",ax=axs[0])\n",
    "#     axs[0].set_title(f\"Up\\n{SCORE} score >= {score_thr} &\\n P-Value < {pvalue_thr}\",fontsize=16)\n",
    "\n",
    "#     venn(dict([[std,studies[std]['dn']] for std in studies]),fontsize=10,legend_loc=\"upper left\",ax=axs[1])\n",
    "#     axs[1].set_title(f\"Down\\n{SCORE} score <= {-1*score_thr} &\\n P-Value < {pvalue_thr}\",fontsize=16)\n",
    "\n",
    "#     plt.show()"
   ]
  },
  {
   "cell_type": "code",
   "execution_count": 10,
   "metadata": {},
   "outputs": [],
   "source": [
    "# def find_hits(df, pvalue_thr = 0.05, score_thr = 0.1):\n",
    "#     up = df.index[\n",
    "#         (df.iloc[:,0] >= score_thr) &\n",
    "#         (df.iloc[:,1] < pvalue_thr)\n",
    "#     ]\n",
    "#     dn = df.index[\n",
    "#         (df.iloc[:,0] <= -1*score_thr) &\n",
    "#         (df.iloc[:,1] < pvalue_thr)\n",
    "#     ]\n",
    "    \n",
    "#     return up, dn"
   ]
  },
  {
   "cell_type": "markdown",
   "metadata": {},
   "source": [
    "### DAC $\\rho$-score"
   ]
  },
  {
   "cell_type": "code",
   "execution_count": 107,
   "metadata": {},
   "outputs": [],
   "source": [
    "# intersection_analysis('rho')"
   ]
  },
  {
   "cell_type": "markdown",
   "metadata": {},
   "source": [
    "### DAC $\\gamma$-score"
   ]
  },
  {
   "cell_type": "code",
   "execution_count": 106,
   "metadata": {},
   "outputs": [],
   "source": [
    "# intersection_analysis('gamma')"
   ]
  },
  {
   "cell_type": "markdown",
   "metadata": {},
   "source": [
    "## m6A reader and writer genes \n",
    "[Table 1](https://www.nature.com/articles/s41419-017-0129-x/tables/1) at\n",
    "> Dai, D., Wang, H., Zhu, L. et al. N6-methyladenosine links RNA metabolism to cancer progression. _Cell Death Dis_ **9**, 124 (2018). https://doi.org/10.1038/s41419-017-0129-x"
   ]
  },
  {
   "cell_type": "code",
   "execution_count": 105,
   "metadata": {},
   "outputs": [],
   "source": [
    "# table = pd.read_csv('../m6A-genes.tsv', sep = '\\t')\n",
    "\n",
    "# # Clean and filter above table to take matched gene names for further analysis:\n",
    "# m6A_genes = table.Names.tolist()\n",
    "# RBMs = m6A_genes[4].split(' and its paralogue ')\n",
    "# m6A_genes.remove(m6A_genes[4])\n",
    "# m6A_genes = m6A_genes+RBMs\n",
    "\n",
    "# table "
   ]
  },
  {
   "cell_type": "markdown",
   "metadata": {},
   "source": [
    "Add heatmap!"
   ]
  },
  {
   "cell_type": "code",
   "execution_count": 104,
   "metadata": {
    "scrolled": false
   },
   "outputs": [],
   "source": [
    "# def plot_score_heatmap(score, drug, genes):\n",
    "#     df = drug_score_df(data,drug,score)\n",
    "#     # keep non-missing gene names \n",
    "#     genes = [gene for gene in genes if gene in df.index.tolist()]\n",
    "\n",
    "#     # draw heatmap\n",
    "#     sns.set_theme()\n",
    "\n",
    "#     sc_df = df.loc[genes].filter(like='score')\n",
    "#     sc_df.columns = [c.replace(f'_{score} score','') for c in sc_df.columns]\n",
    "    \n",
    "#     pv_df= df.loc[genes].filter(like='pvalue')\n",
    "#     pv_df.columns = [c.replace(f'_{score} pvalue','') for c in pv_df.columns]\n",
    "\n",
    "#     _, (ax1,ax2) = subplots(ncols=2, nrows=1, figsize=(15, 5))\n",
    "\n",
    "#     pv = sns.heatmap(pv_df, vmin=0, vmax=0.05, annot=True, linewidth=0.1,ax=ax1, cbar=False,cmap=\"YlGnBu\")\n",
    "#     pv.set_ylabel('')\n",
    "#     pv.set_xlabel('')\n",
    "#     ax1.set_title('P-Values', fontsize=15)\n",
    "\n",
    "#     sc = sns.heatmap(sc_df, vmin=-0.2, vmax=0.2, annot=True, linewidth=0.1,ax=ax2,yticklabels=False)\n",
    "#     sc.set_ylabel('')\n",
    "#     sc.set_xlabel('')\n",
    "#     ax2.set_title(f'{score} scores', fontsize=15)\n",
    "\n",
    "#     # rotate the ticklabels correctly:\n",
    "#     for ax in [sc,pv]:\n",
    "#         tl = ax.get_xticklabels()\n",
    "#         ax.set_xticklabels(tl, rotation=45)\n",
    "#     plt.show()"
   ]
  },
  {
   "cell_type": "markdown",
   "metadata": {},
   "source": [
    "### Rho score of DAC m6A genes "
   ]
  },
  {
   "cell_type": "code",
   "execution_count": 103,
   "metadata": {},
   "outputs": [],
   "source": [
    "# plot_score_heatmap('rho', 'DAC', m6A_genes)"
   ]
  },
  {
   "cell_type": "markdown",
   "metadata": {},
   "source": [
    "### Rho score of GSK m6A genes "
   ]
  },
  {
   "cell_type": "code",
   "execution_count": 102,
   "metadata": {},
   "outputs": [],
   "source": [
    "# plot_score_heatmap('rho', 'GSK', m6A_genes)"
   ]
  },
  {
   "cell_type": "code",
   "execution_count": null,
   "metadata": {},
   "outputs": [],
   "source": []
  },
  {
   "cell_type": "code",
   "execution_count": null,
   "metadata": {},
   "outputs": [],
   "source": []
  },
  {
   "cell_type": "code",
   "execution_count": null,
   "metadata": {},
   "outputs": [],
   "source": []
  },
  {
   "cell_type": "code",
   "execution_count": null,
   "metadata": {},
   "outputs": [],
   "source": []
  },
  {
   "cell_type": "code",
   "execution_count": null,
   "metadata": {},
   "outputs": [],
   "source": []
  },
  {
   "cell_type": "code",
   "execution_count": null,
   "metadata": {},
   "outputs": [],
   "source": []
  },
  {
   "cell_type": "code",
   "execution_count": null,
   "metadata": {},
   "outputs": [],
   "source": []
  },
  {
   "cell_type": "code",
   "execution_count": null,
   "metadata": {},
   "outputs": [],
   "source": []
  },
  {
   "cell_type": "code",
   "execution_count": null,
   "metadata": {},
   "outputs": [],
   "source": []
  },
  {
   "cell_type": "code",
   "execution_count": null,
   "metadata": {},
   "outputs": [],
   "source": [
    "# %reload_ext rpy2.ipython"
   ]
  },
  {
   "cell_type": "code",
   "execution_count": null,
   "metadata": {},
   "outputs": [],
   "source": [
    "# %%R \n",
    "# library (ggplot2)\n",
    "\n",
    "# plot_Save <- function (p, name_it){\n",
    "#     ggsave(paste(name_it,'png',sep='.'), plot = p, device = 'png', dpi = 300)\n",
    "#     ggsave(paste(name_it,'pdf',sep='.'), plot = p, device = 'pdf', dpi = 300)\n",
    "# }\n",
    "\n",
    "\n",
    "# plot_Hist = function(res, title, x_min=-0.5,x_max=0.5){\n",
    "# #     w <- wilcox.test(res$logFC, mu=0, alternative = \"greater\")\n",
    "# #     t <- t.test(res$logFC, mu=0, alternative = \"greater\")\n",
    "#     h = ggplot(res, aes(x=logFC)) + \n",
    "#         ggtitle(title) +#,sprintf(\n",
    "# #             \"wilcox.test (-log10 p.value): %.5f \\nt.test (-log10 p.value):%.5f \\n[mu=0,alter=greater]\", \n",
    "# #             -log10(w$p.value), -log10(t$p.value))) +\n",
    "#         xlim(c(x_min,x_max)) +\n",
    "#         geom_histogram(binwidth=0.001)\n",
    "\n",
    "#     return (h)\n",
    "# } \n"
   ]
  },
  {
   "cell_type": "code",
   "execution_count": null,
   "metadata": {},
   "outputs": [],
   "source": [
    "# %%R -i res\n",
    "# plot_Hist(res, 'Rho score')"
   ]
  }
 ],
 "metadata": {
  "kernelspec": {
   "display_name": "Python [conda env:down]",
   "language": "python",
   "name": "conda-env-down-py"
  },
  "language_info": {
   "codemirror_mode": {
    "name": "ipython",
    "version": 3
   },
   "file_extension": ".py",
   "mimetype": "text/x-python",
   "name": "python",
   "nbconvert_exporter": "python",
   "pygments_lexer": "ipython3",
   "version": "3.6.13"
  }
 },
 "nbformat": 4,
 "nbformat_minor": 4
}
