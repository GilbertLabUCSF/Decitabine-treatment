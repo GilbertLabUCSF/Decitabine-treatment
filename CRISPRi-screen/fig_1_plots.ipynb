{
 "cells": [
  {
   "cell_type": "code",
   "execution_count": 64,
   "metadata": {},
   "outputs": [],
   "source": [
    "library(ggplot2)\n",
    "library(ggrepel)\n",
    "library(RColorBrewer)\n",
    "library(tidyverse)"
   ]
  },
  {
   "cell_type": "code",
   "execution_count": 2,
   "metadata": {},
   "outputs": [],
   "source": [
    "#import collapsed genetable\n",
    "genetable_collapsed <- na.omit(read.table('hl60_exp1/DAC_genetable_collapsed.txt', header = FALSE, #skip = 4, \n",
    "                                  sep = '\\t', na.strings = ' '))\n",
    "\n",
    "genetable_collapsed[4,3:length(genetable_collapsed)] = apply(genetable_collapsed[1:4,3:length(genetable_collapsed)], 2, paste, collapse=\"_\")\n",
    "colnames(genetable_collapsed) <- genetable_collapsed[4,]\n",
    "genetable_collapsed = genetable_collapsed[5:dim(genetable_collapsed)[1],] %>% data.frame"
   ]
  },
  {
   "cell_type": "code",
   "execution_count": 85,
   "metadata": {},
   "outputs": [],
   "source": [
    "threshold = 4\n",
    "draw_threshold <- function(x){threshold * pseudo_sd * sign(x)/(x)}"
   ]
  },
  {
   "cell_type": "code",
   "execution_count": 86,
   "metadata": {},
   "outputs": [],
   "source": [
    "rho_df = genetable_collapsed[,\n",
    "    c('gene', 'rho_ave_Rep1_Rep2_Mann.Whitney.p.value_','rho_ave_Rep1_Rep2_average.phenotype.of.strongest.3_')\n",
    "      # which (unlist(gregexpr('rho_ave_Rep1_Rep2', colnames(genetable_collapsed))) == 1))\n",
    "] %>% remove_rownames\n",
    "rownames(rho_df) = seq(length=nrow(rho_df))\n",
    "\n",
    "\n",
    "colnames(rho_df) <- c('gene','pvalue','score')\n",
    "\n",
    "\n",
    "rho_df$score = rho_df$score %>% as.double\n",
    "rho_df$pvalue = rho_df$pvalue %>% as.double\n",
    "\n",
    "#create dataframe with pseudogene phenotypes\n",
    "rho_df$label = '.'\n",
    "\n",
    "rho_df %>% \n",
    "    mutate(label = replace(label, grepl('pseudo', rho_df[[1]], fixed = TRUE), 'pseudo')) -> rho_df\n",
    "\n",
    "pseudo_sd <- rho_df %>% filter(label=='pseudo') %>% select(score) %>% as.list %>% unlist %>% sd\n",
    "\n",
    "rho_df %>%\n",
    "    mutate(label = replace(\n",
    "        label,score > 0 & label != \"pseudo\" & score / pseudo_sd * -log10(pvalue) >= threshold,\n",
    "        'resistance_hit'\n",
    "    ))-> rho_df\n",
    "rho_df %>%\n",
    "    mutate(label = replace(\n",
    "        label,score < 0 & label != \"pseudo\" & score / pseudo_sd * -log10(pvalue) <= -threshold,\n",
    "        'sensitivity_hit'\n",
    "    )) -> rho_df\n",
    "rho_df %>%\n",
    "    mutate(label = replace(label, label == '.', 'gene_non_hit')) -> rho_df\n",
    "\n",
    "# reorder factors\n",
    "rho_df$label <- factor(rho_df$label, levels = c('sensitivity_hit', 'resistance_hit','gene_non_hit','pseudo'))"
   ]
  },
  {
   "cell_type": "code",
   "execution_count": 87,
   "metadata": {},
   "outputs": [
    {
     "data": {
      "text/html": [
       "<table class=\"dataframe\">\n",
       "<caption>A grouped_df: 4 × 2</caption>\n",
       "<thead>\n",
       "\t<tr><th scope=col>label</th><th scope=col>n</th></tr>\n",
       "\t<tr><th scope=col>&lt;fct&gt;</th><th scope=col>&lt;int&gt;</th></tr>\n",
       "</thead>\n",
       "<tbody>\n",
       "\t<tr><td>sensitivity_hit</td><td>  469</td></tr>\n",
       "\t<tr><td>resistance_hit </td><td>  377</td></tr>\n",
       "\t<tr><td>gene_non_hit   </td><td>19678</td></tr>\n",
       "\t<tr><td>pseudo         </td><td>20524</td></tr>\n",
       "</tbody>\n",
       "</table>\n"
      ],
      "text/latex": [
       "A grouped\\_df: 4 × 2\n",
       "\\begin{tabular}{ll}\n",
       " label & n\\\\\n",
       " <fct> & <int>\\\\\n",
       "\\hline\n",
       "\t sensitivity\\_hit &   469\\\\\n",
       "\t resistance\\_hit  &   377\\\\\n",
       "\t gene\\_non\\_hit    & 19678\\\\\n",
       "\t pseudo          & 20524\\\\\n",
       "\\end{tabular}\n"
      ],
      "text/markdown": [
       "\n",
       "A grouped_df: 4 × 2\n",
       "\n",
       "| label &lt;fct&gt; | n &lt;int&gt; |\n",
       "|---|---|\n",
       "| sensitivity_hit |   469 |\n",
       "| resistance_hit  |   377 |\n",
       "| gene_non_hit    | 19678 |\n",
       "| pseudo          | 20524 |\n",
       "\n"
      ],
      "text/plain": [
       "  label           n    \n",
       "1 sensitivity_hit   469\n",
       "2 resistance_hit    377\n",
       "3 gene_non_hit    19678\n",
       "4 pseudo          20524"
      ]
     },
     "metadata": {},
     "output_type": "display_data"
    }
   ],
   "source": [
    "rho_df %>% group_by(label) %>% count"
   ]
  },
  {
   "cell_type": "code",
   "execution_count": 88,
   "metadata": {},
   "outputs": [],
   "source": [
    "p <- rho_df %>% drop_na %>%\n",
    "    ggplot(aes(x=score,y=-1*log10(pvalue)) ) + \n",
    "    geom_point(\n",
    "        data = rho_df %>% filter(label=='pseudo'), \n",
    "        alpha=1/100, size = 1, color = 'gray80') +\n",
    "    geom_point(\n",
    "        data = rho_df %>% filter(label=='gene_non_hit'), \n",
    "        alpha=10/100, size = 1, color = 'gray90') +\n",
    "    geom_point(\n",
    "        data = rho_df %>% filter(label=='resistance_hit'), \n",
    "        alpha=80/100, size = 2, color = '#fcae91') + \n",
    "    geom_point(\n",
    "        data = rho_df %>% filter(label=='sensitivity_hit'), \n",
    "        alpha=80/100, size = 2, color = '#bdd7e7') +\n",
    "    theme_classic() +\n",
    "    xlim(-1.0, 1.0) +\n",
    "    scale_y_continuous(limits = c(0.5,4.5)) +\n",
    "    xlab(expression('CRISPRi decitabine phenotype (' * rho * ')')) +\n",
    "    ylab(expression('-log'[10] * '(Mann-Whitney p-value)')) +\n",
    "    stat_function(fun = draw_threshold, linetype = 'dashed', color = 'black') +\n",
    "    scale_color_manual(values = c('#3182bd', '#de2d26'),\n",
    "                       labels = c('Sensitizing Hits', 'Resistance Hits'))"
   ]
  },
  {
   "cell_type": "code",
   "execution_count": 108,
   "metadata": {},
   "outputs": [],
   "source": [
    "label_sensitivity_hit <- function(p,dd, t_x = -0.2, t_y = -0.1){\n",
    "    p + geom_point(\n",
    "        data = dd, \n",
    "        size = 3, shape=21,\n",
    "        stroke=0.5, \n",
    "        colour = \"grey30\", fill = \"#3182bd\"\n",
    "    ) + \n",
    "    geom_text_repel(data = dd,\n",
    "                    aes(label=gene),\n",
    "                    color = 'black', size = 4.5, nudge_x = t_x, nudge_y = t_y)\n",
    "}\n",
    "\n",
    "label_resistance_hit <- function(p,dd, t_x = 0.2, t_y = 0.1){\n",
    "    p + geom_point(\n",
    "        data = dd, \n",
    "        size = 3, shape=21,\n",
    "        stroke=0.5, \n",
    "        colour = \"grey30\", fill = \"#de2d26\"\n",
    "    ) + \n",
    "    geom_text_repel(data = dd,\n",
    "                    aes(label=gene),\n",
    "                    color = 'black', size = 4.5, nudge_x = t_x, nudge_y = t_y)\n",
    "}"
   ]
  },
  {
   "cell_type": "code",
   "execution_count": 118,
   "metadata": {},
   "outputs": [],
   "source": [
    "p1 = p\n",
    "\n",
    "### Genes to label:\n",
    "# 1. Decapping proteins: DCP2, DCP1A, DCPS\n",
    "p1 <- label_sensitivity_hit(p1, rho_df %>% filter(gene %in% c('DCP2','DCP1A', 'DCPS')))\n",
    "# 2. BCL2 family proteins: DCL2, MCL1\n",
    "p1 <- label_sensitivity_hit(p1, rho_df %>% filter(gene %in% c('DCL2')))\n",
    "p1 <- label_sensitivity_hit(p1, rho_df %>% filter(gene %in% c('MCL1')), t_x = -0.3, t_y = -0.4)\n",
    "# 3. Positive controls: DCK, SLC29A1\n",
    "p1 <- label_resistance_hit(p1, rho_df %>% filter(gene %in% c('DCK','SLC29A1')),t_y=-0.2)\n",
    "# 4. m6A writers: METTL3, CBLL1, ZC3H13, KIAA1429\n",
    "p1 <- label_resistance_hit(p1, rho_df %>% filter(gene %in% c('METTL3', 'KIAA1429')))\n",
    "p1 <- label_resistance_hit(p1, rho_df %>% filter(gene %in% c('CBLL1')),t_y=+0.2)\n",
    "p1 <- label_resistance_hit(p1, rho_df %>% filter(gene %in% c('ZC3H13')),t_y=-0.1)\n",
    "# 5. target genes: SQLE, INTS5, MYBBP1A\n",
    "p1 <- label_sensitivity_hit(p1, rho_df %>% filter(gene %in% c('SQLE', 'INTS5', 'MYBBP1A')))"
   ]
  },
  {
   "cell_type": "code",
   "execution_count": 119,
   "metadata": {},
   "outputs": [],
   "source": [
    "p1 <- p1 + theme(axis.text.x = element_text(size = 15, color = 'black'),\n",
    "          axis.text.y = element_text(size = 15, color = 'black'),\n",
    "          axis.title.x = element_text(size = 16),\n",
    "          axis.title.y = element_text(size = 16),\n",
    "          legend.title = element_blank(),\n",
    "          legend.text = element_text(size = rel(1.5), color = 'black'),\n",
    "          legend.position = 'right'\n",
    "          )"
   ]
  },
  {
   "cell_type": "code",
   "execution_count": 120,
   "metadata": {},
   "outputs": [
    {
     "name": "stderr",
     "output_type": "stream",
     "text": [
      "Warning message:\n",
      "“Removed 13796 rows containing missing values (geom_point).”\n",
      "Warning message:\n",
      "“Removed 12778 rows containing missing values (geom_point).”\n",
      "Warning message:\n",
      "“Removed 54 row(s) containing missing values (geom_path).”\n",
      "Warning message:\n",
      "“Removed 1 rows containing missing values (geom_point).”\n",
      "Warning message:\n",
      "“Removed 1 rows containing missing values (geom_text_repel).”\n",
      "Warning message in grid.Call.graphics(C_points, x$x, x$y, x$pch, x$size):\n",
      "“semi-transparency is not supported on this device: reported only once per page”\n",
      "Warning message:\n",
      "“Removed 13796 rows containing missing values (geom_point).”\n",
      "Warning message:\n",
      "“Removed 12778 rows containing missing values (geom_point).”\n",
      "Warning message:\n",
      "“Removed 54 row(s) containing missing values (geom_path).”\n",
      "Warning message:\n",
      "“Removed 1 rows containing missing values (geom_point).”\n",
      "Warning message:\n",
      "“Removed 1 rows containing missing values (geom_text_repel).”\n"
     ]
    }
   ],
   "source": [
    "ggsave('plots/CRISPRi-rho_volcano_v3.eps',p1, width = 6, height = 4)\n",
    "ggsave('plots/CRISPRi-rho_volcano_v3.pdf',p1, width = 6, height = 4)"
   ]
  },
  {
   "cell_type": "code",
   "execution_count": 84,
   "metadata": {},
   "outputs": [
    {
     "data": {
      "text/plain": [
       "R version 4.1.1 (2021-08-10)\n",
       "Platform: x86_64-conda-linux-gnu (64-bit)\n",
       "Running under: CentOS Linux 7 (Core)\n",
       "\n",
       "Matrix products: default\n",
       "BLAS/LAPACK: /data_gilbert/home/aarab/anaconda3/envs/deseq2/lib/libopenblasp-r0.3.18.so\n",
       "\n",
       "locale:\n",
       " [1] LC_CTYPE=en_US.UTF-8       LC_NUMERIC=C              \n",
       " [3] LC_TIME=en_US.UTF-8        LC_COLLATE=en_US.UTF-8    \n",
       " [5] LC_MONETARY=en_US.UTF-8    LC_MESSAGES=en_US.UTF-8   \n",
       " [7] LC_PAPER=en_US.UTF-8       LC_NAME=C                 \n",
       " [9] LC_ADDRESS=C               LC_TELEPHONE=C            \n",
       "[11] LC_MEASUREMENT=en_US.UTF-8 LC_IDENTIFICATION=C       \n",
       "\n",
       "attached base packages:\n",
       "[1] stats     graphics  grDevices utils     datasets  methods   base     \n",
       "\n",
       "other attached packages:\n",
       " [1] forcats_0.5.1      stringr_1.4.0      dplyr_1.0.7        purrr_0.3.4       \n",
       " [5] readr_2.0.2        tidyr_1.1.4        tibble_3.1.6       tidyverse_1.3.1   \n",
       " [9] RColorBrewer_1.1-2 ggrepel_0.9.1      ggplot2_3.3.5     \n",
       "\n",
       "loaded via a namespace (and not attached):\n",
       " [1] pbdZMQ_0.3-6     tidyselect_1.1.1 repr_1.1.3       haven_2.4.3     \n",
       " [5] colorspace_2.0-2 vctrs_0.3.8      generics_0.1.1   htmltools_0.5.2 \n",
       " [9] base64enc_0.1-3  utf8_1.2.2       rlang_0.4.12     pillar_1.6.4    \n",
       "[13] glue_1.5.0       withr_2.4.2      DBI_1.1.1        dbplyr_2.1.1    \n",
       "[17] modelr_0.1.8     readxl_1.3.1     uuid_1.0-3       lifecycle_1.0.1 \n",
       "[21] munsell_0.5.0    gtable_0.3.0     cellranger_1.1.0 rvest_1.0.2     \n",
       "[25] evaluate_0.14    labeling_0.4.2   tzdb_0.2.0       fastmap_1.1.0   \n",
       "[29] fansi_0.4.2      broom_0.7.10     IRdisplay_1.0    Rcpp_1.0.7      \n",
       "[33] scales_1.1.1     backports_1.3.0  IRkernel_1.2     jsonlite_1.7.2  \n",
       "[37] farver_2.1.0     fs_1.5.0         hms_1.1.1        digest_0.6.28   \n",
       "[41] stringi_1.7.5    grid_4.1.1       cli_3.1.0        tools_4.1.1     \n",
       "[45] magrittr_2.0.1   crayon_1.4.2     pkgconfig_2.0.3  ellipsis_0.3.2  \n",
       "[49] xml2_1.3.2       reprex_2.0.1     lubridate_1.8.0  rstudioapi_0.13 \n",
       "[53] assertthat_0.2.1 httr_1.4.2       R6_2.5.1         compiler_4.1.1  "
      ]
     },
     "metadata": {},
     "output_type": "display_data"
    }
   ],
   "source": [
    "sessionInfo()"
   ]
  },
  {
   "cell_type": "code",
   "execution_count": 68,
   "metadata": {},
   "outputs": [],
   "source": [
    "# no_negs_res <- no_negs[c('DCK', 'SLC29A1', 'METTL3', 'YTHDF2', 'KIAA1429', 'CBLL1', 'ZC3H13'),]\n",
    "# no_negs_res$cat2 <- ifelse(no_negs_res[[1]] %in% c('DCK', 'SLC29A1'), 'drug', 'm6a')\n",
    "# no_negs_res <- no_negs[no_negs$V1 %in% c('DCK', 'SLC29A1'),]\n",
    "# no_negs_sens <- no_negs[c('BCL2', 'MCL1', 'DCP2', 'DCPS', 'EDC3', 'DCP1A', 'CMTR2', 'LSM14A', 'CSDE1', 'PUM1', 'ZC3H18'),]\n",
    "# no_negs_sens$cat2 <- ifelse(no_negs_sens[[1]] %in% c('BCL2', 'MCL1'), 'bcl2', 'decap')\n",
    "# no_negs_sens <- no_negs[no_negs$V1 %in% c('BCL2', 'DCP2', 'DCPS', 'EDC3', 'DCP1A'),]\n",
    "# no_negs_labels <- rbind(no_negs_res, no_negs_sens)\n",
    "# head(no_negs_labels, n = 15)\n",
    "\n",
    "# # reorder factors\n",
    "# no_negs_labels$cat <- factor(no_negs_labels$cat, levels = c('sensitizing_hit', 'resistance_hit'))\n",
    "\n",
    "# scale_shape_manual(values = c(16, 16, 16, 16), \n",
    "#                    labels = c('BCL-2 family', 'mRNA decapping', 'Drug metabolism', 'RNA methylation')) +\n",
    "# scale_shape_manual(values = c(16, 16), \n",
    "#                    labels = c('Sensitizing Hits', 'Resistance Hits')) +\n",
    "# geom_text_repel(data = no_negs[c('METTL3'),], \n",
    "# geom_text_repel(data = no_negs[c('DCK'),], \n",
    "# geom_text_repel(data = no_negs[c('SLC29A1'),], \n",
    "# geom_text_repel(data = no_negs[c('BCL2'),],\n",
    "# geom_text_repel(data = no_negs[c('MCL1'),],\n",
    "# geom_text_repel(data = no_negs[c('DCP2'),],\n",
    "# geom_text_repel(data = no_negs[c('DCPS'),],\n",
    "# geom_text_repel(data = no_negs[c('DCP1A'),],\n",
    "# geom_text_repel(data = no_negs[c('EDC3'),],\n",
    "\n",
    "# no_negs_res$cat2 <- ifelse(no_negs_res[[1]] %in% c('DCK', 'SLC29A1'), 'drug', 'm6a')\n",
    "# no_negs_sens <- no_negs[c('TAF6L', 'SUPT20H', 'CCDC101', 'USP22'),]\n",
    "# no_negs_sens$cat2 <- ('saga')\n",
    "# no_negs_labels <- rbind(no_negs_res, no_negs_sens)\n",
    "\n",
    "# head(no_negs_labels, n = 15)\n",
    "\n",
    "# p <- ggplot(no_negs, aes(x = V29, y = -1 * log(V28, 10), label = V1)) +\n",
    "# geom_point(data = no_negs, size = 1, color = 'gray90') +\n",
    "# geom_point(data = resistance_hits, size = 1, color = '#fcae91') + \n",
    "# geom_point(data = sensitivity_hits, size = 1, color = '#bdd7e7') +\n",
    "# theme_classic()+\n",
    "# xlim(-1.0, 1.0) +\n",
    "# scale_y_continuous(limits = c(0.5,4.7)) +\n",
    "# xlab(expression('CRISPRi DNMTi phenotype (' * rho * ')')) +\n",
    "# ylab(expression('-log'[10] * '(Mann-Whitney p-value)')) +\n",
    "# theme(axis.text.x = element_text(size = 15, color = 'black'),\n",
    "#       axis.text.y = element_text(size = 15, color = 'black'),\n",
    "#       axis.title.x = element_text(size = 20),\n",
    "#       axis.title.y = element_text(size = 20),\n",
    "#       legend.title = element_blank(),\n",
    "#       legend.text = element_text(size = rel(1.5), color = 'black'),\n",
    "#       legend.position = 'none'\n",
    "#       ) +\n",
    "\n",
    "# stat_function(fun = draw_threshold_neg, linetype = 'dashed', color = 'black') +\n",
    "# stat_function(fun = draw_threshold_pos, linetype = 'dashed', color = 'black')+\n",
    "# geom_point(data = no_negs_labels, shape = 16, color = '#3182bd', size = 4) +\n",
    "# geom_text_repel(data = no_negs[c('SUPT20H'),], \n",
    "#                 color = 'black', size = 4.5, nudge_x = -0.3, nudge_y = 0.05) +\n",
    "# geom_text_repel(data = no_negs[c('TAF6L'),], \n",
    "#                 color = 'black', size = 4.5, nudge_x = -0.2) +\n",
    "# geom_text_repel(data = no_negs[c('USP22'),], \n",
    "#                 color = 'black', size = 4.5, nudge_x = -0.25, nudge_y = -0.27) +\n",
    "# geom_text_repel(data = no_negs[c('CCDC101'),], \n",
    "#                 color = 'black', size = 4.5, nudge_x = -0.4, nudge_y = -0.1)\n",
    "\n",
    "# p\n",
    "\n",
    "# ggsave(file = 'ray_volcano_plot_v2.eps', height = 5.5, width = 5.5)"
   ]
  }
 ],
 "metadata": {
  "kernelspec": {
   "display_name": "R [conda env:deseq2]",
   "language": "R",
   "name": "conda-env-deseq2-r"
  },
  "language_info": {
   "codemirror_mode": "r",
   "file_extension": ".r",
   "mimetype": "text/x-r-source",
   "name": "R",
   "pygments_lexer": "r",
   "version": "4.1.1"
  }
 },
 "nbformat": 4,
 "nbformat_minor": 4
}
