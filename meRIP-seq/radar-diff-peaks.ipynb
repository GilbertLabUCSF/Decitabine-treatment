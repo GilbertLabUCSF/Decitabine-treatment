{
 "cells": [
  {
   "cell_type": "markdown",
   "metadata": {},
   "source": [
    "We aim to use `RADAR` to do differential analysis of m6A peaks. I'm starting from `fastq` raw data to align them using `STAR`; then I will use `bam` files to run `RADAR` and explore the results for downstream analysis.\n",
    "\n",
    "I needed to re-build `STAR` indices as I've described in my notebook at `genomes/build-genome.ipynb` (see my GitHub repo). "
   ]
  },
  {
   "cell_type": "markdown",
   "metadata": {},
   "source": [
    "# Alignment task - Running `STAR`"
   ]
  },
  {
   "cell_type": "code",
   "execution_count": 12,
   "metadata": {
    "scrolled": false
   },
   "outputs": [
    {
     "name": "stdout",
     "output_type": "stream",
     "text": [
      "mkdir -p bam\r\n",
      "mkdir -p qc_star\r\n",
      "\r\n",
      "STAR --genomeLoad LoadAndExit --genomeDir ~/genomes/hg38/gencode.v34/star_index\r\n",
      "\r\n",
      "for fq in fastq/*R1*; do\r\n",
      "    fq=`basename $fq`\r\n",
      "    echo '------------' $fq '-----------'\r\n",
      "    out=${fq/_S*/}\r\n",
      "    STAR \\\r\n",
      "    --outSAMtype BAM SortedByCoordinate \\\r\n",
      "    --readFilesCommand zcat \\\r\n",
      "    --runThreadN 18 \\\r\n",
      "    --genomeDir ~/genomes/hg38/gencode.v34/star_index \\\r\n",
      "    --readFilesIn fastq/$fq \\\r\n",
      "    --outFileNamePrefix bam/$out\r\n",
      "done\r\n",
      "\r\n",
      "STAR --genomeLoad Remove --genomeDir ~/genomes/hg38/gencode.v34/star_index\r\n",
      "\r\n",
      "rm -vr _STARtmp/ Aligned.out.sam Log.out Log.progress.out\r\n",
      "\r\n"
     ]
    }
   ],
   "source": [
    "cat star.sh"
   ]
  },
  {
   "cell_type": "code",
   "execution_count": 11,
   "metadata": {},
   "outputs": [
    {
     "name": "stdout",
     "output_type": "stream",
     "text": [
      "T1.input.bam      T2.input.bam      U1.input.bam      U2.input.bam\r\n",
      "T1.input.bam.bai  T2.input.bam.bai  U1.input.bam.bai  U2.input.bam.bai\r\n",
      "T1.m6A.bam        T2.m6A.bam        U1.m6A.bam        U2.m6A.bam\r\n",
      "T1.m6A.bam.bai    T2.m6A.bam.bai    U1.m6A.bam.bai    U2.m6A.bam.bai\r\n"
     ]
    }
   ],
   "source": [
    "ls bam/"
   ]
  },
  {
   "cell_type": "code",
   "execution_count": 20,
   "metadata": {
    "scrolled": false
   },
   "outputs": [
    {
     "name": "stdout",
     "output_type": "stream",
     "text": [
      "Jun 21 10:18:35 ..... started STAR run\r\n",
      "Jun 21 10:18:35 ..... loading genome\r\n",
      "\r\n",
      "EXITING because of FATAL ERROR: waited too long for the other job to finish loading the genomeSuccess\r\n",
      "SOLUTION: remove the shared memory chunk by running STAR with --genomeLoad Remove, and restart STAR\r\n",
      "Jun 21 11:58:35 ...... FATAL ERROR, exiting\r\n",
      "------------ Input_T1_S43_L006_R1_001.fastq.gz -----------\r\n",
      "Jun 21 11:58:35 ..... started STAR run\r\n",
      "Jun 21 11:58:36 ..... loading genome\r\n",
      "Jun 21 11:59:01 ..... started mapping\r\n",
      "Jun 21 12:00:47 ..... finished mapping\r\n",
      "Jun 21 12:00:49 ..... started sorting BAM\r\n",
      "Jun 21 12:02:00 ..... finished successfully\r\n",
      "------------ Input_T2_S44_L006_R1_001.fastq.gz -----------\r\n",
      "Jun 21 12:03:14 ..... started STAR run\r\n",
      "Jun 21 12:03:14 ..... loading genome\r\n",
      "Jun 21 12:03:37 ..... started mapping\r\n",
      "Jun 21 12:05:20 ..... finished mapping\r\n",
      "Jun 21 12:05:23 ..... started sorting BAM\r\n",
      "Jun 21 12:06:31 ..... finished successfully\r\n",
      "------------ Input_U1_S41_L006_R1_001.fastq.gz -----------\r\n",
      "Jun 21 12:07:56 ..... started STAR run\r\n",
      "Jun 21 12:07:56 ..... loading genome\r\n",
      "Jun 21 12:08:18 ..... started mapping\r\n",
      "Jun 21 12:09:57 ..... finished mapping\r\n",
      "Jun 21 12:10:00 ..... started sorting BAM\r\n",
      "Jun 21 12:11:12 ..... finished successfully\r\n",
      "------------ Input_U2_S42_L006_R1_001.fastq.gz -----------\r\n",
      "Jun 21 12:12:17 ..... started STAR run\r\n",
      "Jun 21 12:12:17 ..... loading genome\r\n",
      "Jun 21 12:12:43 ..... started mapping\r\n",
      "Jun 21 12:14:44 ..... finished mapping\r\n",
      "Jun 21 12:14:47 ..... started sorting BAM\r\n",
      "Jun 21 12:16:07 ..... finished successfully\r\n",
      "------------ IP_T1_S47_L006_R1_001.fastq.gz -----------\r\n",
      "Jun 21 12:17:30 ..... started STAR run\r\n",
      "Jun 21 12:17:30 ..... loading genome\r\n",
      "Jun 21 12:17:56 ..... started mapping\r\n",
      "Jun 21 12:19:30 ..... finished mapping\r\n",
      "Jun 21 12:19:32 ..... started sorting BAM\r\n",
      "Jun 21 12:19:58 ..... finished successfully\r\n",
      "------------ IP_T2_S48_L006_R1_001.fastq.gz -----------\r\n",
      "Jun 21 12:20:26 ..... started STAR run\r\n",
      "Jun 21 12:20:26 ..... loading genome\r\n",
      "Jun 21 12:20:51 ..... started mapping\r\n",
      "Jun 21 12:22:29 ..... finished mapping\r\n",
      "Jun 21 12:22:31 ..... started sorting BAM\r\n",
      "Jun 21 12:23:00 ..... finished successfully\r\n",
      "------------ IP_U1_S45_L006_R1_001.fastq.gz -----------\r\n",
      "Jun 21 12:23:30 ..... started STAR run\r\n",
      "Jun 21 12:23:30 ..... loading genome\r\n",
      "Jun 21 12:23:51 ..... started mapping\r\n",
      "Jun 21 12:25:25 ..... finished mapping\r\n",
      "Jun 21 12:25:27 ..... started sorting BAM\r\n",
      "Jun 21 12:25:52 ..... finished successfully\r\n",
      "------------ IP_U2_S46_L006_R1_001.fastq.gz -----------\r\n",
      "Jun 21 12:26:12 ..... started STAR run\r\n",
      "Jun 21 12:26:12 ..... loading genome\r\n",
      "Jun 21 12:26:33 ..... started mapping\r\n",
      "Jun 21 12:28:22 ..... finished mapping\r\n",
      "Jun 21 12:28:24 ..... started sorting BAM\r\n",
      "Jun 21 12:28:57 ..... finished successfully\r\n",
      "Jun 21 12:29:18 ..... started STAR run\r\n",
      "Jun 21 12:29:18 ..... loading genome\r\n",
      "removed directory '_STARtmp/'\r\n",
      "removed 'Aligned.out.sam'\r\n",
      "removed 'Log.out'\r\n",
      "removed 'Log.progress.out'\r\n"
     ]
    }
   ],
   "source": [
    "cat star.out"
   ]
  },
  {
   "cell_type": "markdown",
   "metadata": {},
   "source": [
    "# Peak calling task - Running `RADAR`\n",
    "\n",
    "https://scottzijiezhang.github.io/RADARmanual/workflow.html"
   ]
  },
  {
   "cell_type": "code",
   "execution_count": 1,
   "metadata": {},
   "outputs": [],
   "source": [
    "%reload_ext rpy2.ipython"
   ]
  },
  {
   "cell_type": "code",
   "execution_count": 2,
   "metadata": {},
   "outputs": [],
   "source": [
    "%%R \n",
    "suppressMessages(suppressWarnings(library (RADAR)))\n",
    "\n",
    "GTF = '/rumi/shams/abe/genomes/hg38/gencode.v34/gencode.v34.annotation.gtf'"
   ]
  },
  {
   "cell_type": "markdown",
   "metadata": {},
   "source": [
    "### 1. load `bam` files and make `MeRIP.RADAR` object\n",
    "I'll save the object for later usage while it takes long time to generate. "
   ]
  },
  {
   "cell_type": "code",
   "execution_count": 6,
   "metadata": {
    "scrolled": true
   },
   "outputs": [
    {
     "name": "stdout",
     "output_type": "stream",
     "text": [
      "Reading gtf file to obtain gene model\n",
      "Filter out ambiguous model...\n"
     ]
    },
    {
     "name": "stderr",
     "output_type": "stream",
     "text": [
      "R[write to console]: Import genomic features from the file as a GRanges object ... \n",
      "R[write to console]: OK\n",
      "\n",
      "R[write to console]: Prepare the 'metadata' data frame ... \n",
      "R[write to console]: OK\n",
      "\n",
      "R[write to console]: Make the TxDb object ... \n",
      "R[write to console]: OK\n",
      "\n"
     ]
    },
    {
     "name": "stdout",
     "output_type": "stream",
     "text": [
      "Gene model obtained from gtf file...\n",
      "counting reads for each genes, this step may takes a few hours....\n",
      "Hyper-thread registered: TRUE \n",
      "Using 18 thread(s) to count reads in continuous bins...\n",
      "Time used to count reads: 35.8268306573232 mins... \n"
     ]
    }
   ],
   "source": [
    "%%R \n",
    "radar <- countReads(\n",
    "\tsamplenames=c('U1','U2','T1','T2'), gtf = GTF,\n",
    "\tbamFolder='./bam/',modification = \"m6A\", \n",
    "    strandToKeep = \"opposite\",\n",
    "    outputDir='radar', \n",
    "    threads = 18\n",
    ") "
   ]
  },
  {
   "cell_type": "code",
   "execution_count": 7,
   "metadata": {},
   "outputs": [],
   "source": [
    "%%R \n",
    "saveRDS(radar, 'radar/rawObj.rds')"
   ]
  },
  {
   "cell_type": "code",
   "execution_count": 15,
   "metadata": {},
   "outputs": [
    {
     "name": "stdout",
     "output_type": "stream",
     "text": [
      "MeRIP.RADAR dataset of 4 samples.\n",
      "Read count quantified in 50-bp consecutive bins on the transcript.\n",
      "The total read count for Input and IP samples are (Million reads):\n",
      "         U1    U2    T1    T2\n",
      "Input 29.95 37.35 33.16 29.93\n",
      "IP    38.34 36.35 43.09 44.55\n",
      "Input gene level read count available.\n",
      "There are 1 predictor variables/covariates. Can access by function variable(MeRIPdata). \n",
      "Differential methylation tested by PoissonGamma test (RADAR).\n",
      "Multiple test corrected by Benjamini & Hochberg.\n",
      "Neighboring significant bins merged. There are 45566 reported differential loci at FDR < 1.1 and logFoldChange > 0.\n"
     ]
    }
   ],
   "source": [
    "%%R \n",
    "summary(radar)"
   ]
  },
  {
   "cell_type": "markdown",
   "metadata": {},
   "source": [
    "___\n",
    "\n",
    "### 2. Running RADAR pre processing commands \n",
    "https://scottzijiezhang.github.io/RADARmanual/Mannual.html\n",
    "\n",
    "Final object after this step also saved into `radar/finalObj.rds`."
   ]
  },
  {
   "cell_type": "code",
   "execution_count": 1,
   "metadata": {},
   "outputs": [],
   "source": [
    "%reload_ext rpy2.ipython"
   ]
  },
  {
   "cell_type": "code",
   "execution_count": 2,
   "metadata": {},
   "outputs": [],
   "source": [
    "%%R \n",
    "suppressMessages(suppressWarnings(library (RADAR)))"
   ]
  },
  {
   "cell_type": "code",
   "execution_count": 3,
   "metadata": {},
   "outputs": [],
   "source": [
    "%%R \n",
    "radar0 <- readRDS('radar/rawObj.rds')\n",
    "radar0 <- normalizeLibrary(radar0, boxPlot=0)"
   ]
  },
  {
   "cell_type": "code",
   "execution_count": 10,
   "metadata": {
    "scrolled": true
   },
   "outputs": [
    {
     "name": "stdout",
     "output_type": "stream",
     "text": [
      "Adjusting expression level using Input geneSum read count...\n"
     ]
    }
   ],
   "source": [
    "%%R \n",
    "radar0 <- adjustExprLevel(radar0)\n",
    "# radar <- adjustExprLevel(radar, adjustBy = \"pos\")\n",
    "\n",
    "# If you expect intensive alternative splicing events cross the experimental groups, \n",
    "# using gene-level read counts to represent pre-IP RNA level could leads to bias. \n",
    "# Therefore, the user can also choose to use the local bin-level read count to adjust \n",
    "# the pre-IP RNA level variation\n",
    "\n",
    "variable(radar0) <- data.frame( group = c(rep(\"Untreated\",2),rep(\"Treated\",2)))"
   ]
  },
  {
   "cell_type": "code",
   "execution_count": 11,
   "metadata": {},
   "outputs": [
    {
     "name": "stdout",
     "output_type": "stream",
     "text": [
      "Filtering bins with low read counts...\n",
      "Bins with average counts lower than  15  in both groups have been removed...\n",
      "Filtering bins that is enriched in IP experiment...The predictor variable has been converted:\n",
      "Untreated Untreated   Treated   Treated \n",
      "        0         0         1         1 \n",
      "running PoissonGamma test at single beta mode\n",
      "Hyper-thread registered: TRUE \n",
      "Using 18 thread(s) to run PoissonGamma test...\n",
      "Time used to run PoissonGamma test: 0.769741535186768 mins... \n",
      "\n"
     ]
    }
   ],
   "source": [
    "%%R\n",
    "radar0 <- filterBins(radar0,minCountsCutOff = 15)\n",
    "\n",
    "radar0 <- diffIP_parallel(radar0,thread = 18)\n",
    "saveRDS(radar0, 'radar/finalObj.rds')"
   ]
  },
  {
   "cell_type": "markdown",
   "metadata": {},
   "source": [
    "### 4. Get results and select significant bins\n",
    "\n",
    "Results for all data (no filtering):"
   ]
  },
  {
   "cell_type": "code",
   "execution_count": 3,
   "metadata": {},
   "outputs": [
    {
     "name": "stdout",
     "output_type": "stream",
     "text": [
      "Hyper-thread registered: TRUE \n",
      "Using 18 thread(s) to report merged report...\n",
      "Time used to report peaks: 5.53279948631922 mins... \n",
      "When merging neighboring significant bins, logFC was reported as the max logFC among these bins.\n",
      "p-value of these bins were combined by Fisher's method.\n",
      "There are 45566 reported differential loci at FDR < 1.1 and logFoldChange > 0.\n"
     ]
    }
   ],
   "source": [
    "%%R \n",
    "radar0 <- readRDS('radar/finalObj.rds')\n",
    "\n",
    "radar_all <- reportResult(radar0, cutoff = 1.1, Beta_cutoff = 0.00, threads=18)\n",
    "\n",
    "result_all <- results(radar_all)\n",
    "rm(radar0)"
   ]
  },
  {
   "cell_type": "markdown",
   "metadata": {},
   "source": [
    "> Due to the resolution of the MeRIP-seq experiment where RNA molecules are fragmented into 100-300nt, neighboring bins can usually contain reads from the same locus. Therefore, we do a post-processing to merge significant neighboring bins after the test to obtain a final list of differential peaks. We merge the p-value of connecting bins by fisher’s method and report the max beta from neighbouring bins.\n",
    "\n",
    "Here, we use FDR<0.1 and log fold change > 0.5 as default cutoff for selecting significant bins"
   ]
  },
  {
   "cell_type": "code",
   "execution_count": 10,
   "metadata": {},
   "outputs": [
    {
     "name": "stdout",
     "output_type": "stream",
     "text": [
      "Hyper-thread registered: TRUE \n",
      "Using 18 thread(s) to report merged report...\n",
      "Time used to report peaks: 0.673348740736644 mins... \n",
      "When merging neighboring significant bins, logFC was reported as the max logFC among these bins.\n",
      "p-value of these bins were combined by Fisher's method.\n",
      "There are 4626 reported differential loci at FDR < 0.1 and logFoldChange > 0.5.\n"
     ]
    }
   ],
   "source": [
    "%%R \n",
    "radar0 <- readRDS('radar/finalObj.rds')\n",
    "\n",
    "radar_sig <- reportResult(radar0, cutoff = 0.10, Beta_cutoff = 0.5, threads=18)\n",
    "\n",
    "result_sig = results(radar_sig) \n",
    "rm(radar0)"
   ]
  },
  {
   "cell_type": "markdown",
   "metadata": {},
   "source": [
    "### 5. Plots\n",
    "#### Pre processing plots\n",
    "\n",
    "Below command normalize the library and make box plots. I'll save the plots into files."
   ]
  },
  {
   "cell_type": "code",
   "execution_count": 4,
   "metadata": {},
   "outputs": [
    {
     "name": "stdout",
     "output_type": "stream",
     "text": [
      "png \n",
      "  2 \n"
     ]
    }
   ],
   "source": [
    "%%R\n",
    "## save pictures \n",
    "pdf('plots/boxPlot.pdf')\n",
    "radar <- normalizeLibrary(radar0)\n",
    "dev.off()\n",
    "png('plots/boxPlot.png')\n",
    "radar <- normalizeLibrary(radar0)\n",
    "dev.off()"
   ]
  },
  {
   "cell_type": "code",
   "execution_count": 5,
   "metadata": {},
   "outputs": [
    {
     "name": "stdout",
     "output_type": "stream",
     "text": [
      "Plot heat map for differential loci at FDR < 0.1 and logFoldChange > 0.5.\n",
      "Returning normalized and expression level adjusted IP read counts.\n"
     ]
    },
    {
     "data": {
      "image/png": "[encoded data removed]"
     },
     "metadata": {},
     "output_type": "display_data"
    }
   ],
   "source": [
    "%%R \n",
    "plotHeatMap(radar_sig)"
   ]
  },
  {
   "cell_type": "code",
   "execution_count": 4,
   "metadata": {},
   "outputs": [
    {
     "name": "stdout",
     "output_type": "stream",
     "text": [
      "There are 4626 reported differential loci at FDR < 0.1 and logFoldChange > 0.5.\n"
     ]
    },
    {
     "name": "stderr",
     "output_type": "stream",
     "text": [
      "R[write to console]: Import genomic features from the file as a GRanges object ... \n",
      "R[write to console]: OK\n",
      "\n",
      "R[write to console]: Prepare the 'metadata' data frame ... \n",
      "R[write to console]: OK\n",
      "\n",
      "R[write to console]: Make the TxDb object ... \n",
      "R[write to console]: OK\n",
      "\n"
     ]
    },
    {
     "data": {
      "image/png": "[encoded data removed]"
     },
     "metadata": {},
     "output_type": "display_data"
    }
   ],
   "source": [
    "%%R \n",
    "peakDistribution(radar_sig)"
   ]
  },
  {
   "cell_type": "markdown",
   "metadata": {},
   "source": [
    "### 5. PCA analysis"
   ]
  },
  {
   "cell_type": "code",
   "execution_count": null,
   "metadata": {},
   "outputs": [],
   "source": [
    "%%R \n",
    "# radar0 <- readRDS('radar/finalObj.rds')\n",
    "\n",
    "top_bins <- extractIP(radar0,filtered = T)[order(rowMeans( extractIP(radar0,filtered = T) ),decreasing = T)[1:1000],] \n",
    "## save pictures \n",
    "png('plots/PCAPlot.png')\n",
    "plotPCAfromMatrix(top_bins,group = unlist(variable(radar0)) )\n",
    "dev.off()\n",
    "pdf('plots/PCAPlot.pdf')\n",
    "plotPCAfromMatrix(top_bins,group = unlist(variable(radar0)) )\n",
    "dev.off()"
   ]
  },
  {
   "cell_type": "code",
   "execution_count": null,
   "metadata": {},
   "outputs": [],
   "source": [
    "%%R \n",
    "plotPCAfromMatrix(top_bins,group = unlist(variable(radar0)) )"
   ]
  },
  {
   "cell_type": "markdown",
   "metadata": {},
   "source": [
    "___\n",
    "## Save results into files"
   ]
  },
  {
   "cell_type": "code",
   "execution_count": 12,
   "metadata": {},
   "outputs": [],
   "source": [
    "%%R \n",
    "suppressMessages(suppressWarnings(library (tidyverse)))"
   ]
  },
  {
   "cell_type": "code",
   "execution_count": 16,
   "metadata": {},
   "outputs": [],
   "source": [
    "%%R \n",
    "gtf <- rtracklayer::import(GTF)\n",
    "\n",
    "gene2name <- gtf[gtf$type == \"gene\"] %>% data.frame %>% column_to_rownames('gene_id') %>% dplyr::select('gene_name')\n",
    "message ('-> GTF loaded!')\n",
    "\n",
    "add_Name <- function(res, gene2name){\n",
    "    res$ensembl <- res$name %>% as.character\n",
    "    res$name <- gene2name[res$ensembl %>% as.character,]\n",
    "    return (res)\n",
    "}"
   ]
  },
  {
   "cell_type": "code",
   "execution_count": 52,
   "metadata": {},
   "outputs": [],
   "source": [
    "%%R\n",
    "write.table(add_Name(result_all, gene2name), file = \"radar/result.all.txt\",row.names=F, sep='\\t', quote=FALSE) \n",
    "write.table(add_Name(result_sig, gene2name), file = \"radar/result.sig.txt\",row.names=F, sep='\\t',quote=FALSE) "
   ]
  },
  {
   "cell_type": "code",
   "execution_count": 53,
   "metadata": {},
   "outputs": [
    {
     "name": "stdout",
     "output_type": "stream",
     "text": [
      "'radar/result.sig.txt' -> 'hl60_delta_mtyl_table.txt'\r\n"
     ]
    }
   ],
   "source": [
    "cp -v radar/result.sig.txt hl60_delta_mtyl_table.txt "
   ]
  },
  {
   "cell_type": "markdown",
   "metadata": {},
   "source": [
    "### Save results into `bed12` format \n",
    "`tidyverse` can not be loaded while using RADAR!"
   ]
  },
  {
   "cell_type": "code",
   "execution_count": 54,
   "metadata": {},
   "outputs": [],
   "source": [
    "%%R\n",
    "# save bed 12 format \n",
    "names(result_all)[1] <- paste0(\"# \", names(result_all)[1])\n",
    "write.table(result_all %>% dplyr::select(c(1:12)), file = \"radar/result.all.bed\",row.names=F, sep=\"\\t\", quote=FALSE) "
   ]
  },
  {
   "cell_type": "code",
   "execution_count": 55,
   "metadata": {},
   "outputs": [],
   "source": [
    "%%R \n",
    "# save bed 12 format \n",
    "names(result_sig)[1] <- paste0(\"# \", names(result_sig)[1])\n",
    "write.table(result_sig %>% dplyr::select(c(1:12)), file = \"radar/result.sig.bed\",row.names=F, sep='\\t',quote=FALSE)"
   ]
  },
  {
   "cell_type": "markdown",
   "metadata": {},
   "source": [
    "### Exrtact results for running iGET "
   ]
  },
  {
   "cell_type": "code",
   "execution_count": 56,
   "metadata": {},
   "outputs": [],
   "source": [
    "%%R \n",
    "iPAGE_input = result_sig %>%\n",
    "    mutate(ensembl=result_sig$name %>% substr(0, 15)) %>% \n",
    "    dplyr::select('ensembl', 'logFC')\n",
    "\n",
    "write.table(iPAGE_input, file = 'hl60_delta_mtyl.txt', sep='\\t',col.names = F, row.names=F, quote=FALSE)"
   ]
  },
  {
   "cell_type": "markdown",
   "metadata": {},
   "source": [
    "___\n",
    "### Check logFC direction for top hits "
   ]
  },
  {
   "cell_type": "code",
   "execution_count": 1,
   "metadata": {},
   "outputs": [],
   "source": [
    "%load_ext rpy2.ipython"
   ]
  },
  {
   "cell_type": "code",
   "execution_count": 2,
   "metadata": {},
   "outputs": [],
   "source": [
    "%%R \n",
    "suppressMessages(suppressWarnings(library (RADAR)))\n",
    "suppressMessages(suppressWarnings(library (tidyverse)))"
   ]
  },
  {
   "cell_type": "code",
   "execution_count": 3,
   "metadata": {},
   "outputs": [],
   "source": [
    "%%R\n",
    "radar0 <- readRDS('radar/finalObj.rds')"
   ]
  },
  {
   "cell_type": "code",
   "execution_count": 4,
   "metadata": {
    "scrolled": true
   },
   "outputs": [
    {
     "name": "stdout",
     "output_type": "stream",
     "text": [
      "       input        ip\n",
      "U1 0.9214818 0.9585912\n",
      "U2 1.1376908 0.9164328\n",
      "T1 1.0340700 1.1175568\n",
      "T2 0.9422907 1.1388845\n"
     ]
    }
   ],
   "source": [
    "%%R \n",
    "sizeFactors(radar0)"
   ]
  },
  {
   "cell_type": "code",
   "execution_count": 5,
   "metadata": {
    "scrolled": true
   },
   "outputs": [
    {
     "name": "stdout",
     "output_type": "stream",
     "text": [
      "Returning normalized, expression level adjusted and low-counts-filtered IP read counts.\n"
     ]
    }
   ],
   "source": [
    "%%R \n",
    "IP = extractIP(radar0, normalized=T, adjusted=T, filtered=T)"
   ]
  },
  {
   "cell_type": "code",
   "execution_count": 6,
   "metadata": {},
   "outputs": [
    {
     "name": "stdout",
     "output_type": "stream",
     "text": [
      "Returning normalized INPUT read counts.\n"
     ]
    }
   ],
   "source": [
    "%%R \n",
    "Input = extractInput(radar0, normalized=T)"
   ]
  },
  {
   "cell_type": "code",
   "execution_count": 7,
   "metadata": {},
   "outputs": [],
   "source": [
    "%%R \n",
    "rm(radar0)"
   ]
  },
  {
   "cell_type": "markdown",
   "metadata": {},
   "source": [
    "Results sorted by logFC and p-value:"
   ]
  },
  {
   "cell_type": "code",
   "execution_count": 9,
   "metadata": {},
   "outputs": [
    {
     "name": "stdout",
     "output_type": "stream",
     "text": [
      "             ensembl            name     logFC      p_value\n",
      "1  ENSG00000235513.2     L3MBTL2-AS1 20.814131 2.732964e-04\n",
      "2 ENSG00000105732.13          ZNF574 -6.795706 1.604696e-04\n",
      "3 ENSG00000184635.16           ZNF93 -6.787845 1.438220e-05\n",
      "4  ENSG00000254996.5 ANKHD1-EIF4EBP3  6.746412 4.497806e-08\n",
      "5 ENSG00000007202.15        KIAA0100 -6.727432 4.741114e-04\n",
      "6 ENSG00000116731.22           PRDM2  6.637258 2.348933e-09\n"
     ]
    }
   ],
   "source": [
    "%%R \n",
    "res_sig = read.table('radar/result.sig.txt', header=TRUE,stringsAsFactors=FALSE)\n",
    "\n",
    "data <- res_sig %>% data.frame %>% dplyr::select('ensembl','name','logFC','p_value') %>% \n",
    "    arrange(desc(abs(logFC)),p_value) \n",
    "\n",
    "data %>% head "
   ]
  },
  {
   "cell_type": "code",
   "execution_count": 10,
   "metadata": {},
   "outputs": [],
   "source": [
    "%%R \n",
    "\n",
    "check_hit <- function (gene){\n",
    "    ip    = IP [grep(paste0(gene,'*'), rownames(IP)),] %>% data.frame\n",
    "    input = Input [grep(paste0(gene,'*'), rownames(Input)), ] %>% data.frame\n",
    "    \n",
    "    input = colSums(input) \n",
    "    if (ip %>% dim != list(4,1)){\n",
    "        ip    = colSums(ip) \n",
    "        frac_T = (ip[['T1']] + ip[['T2']] ) + 0.1 / (input[['T1']]  + input[['T2']] + 0.1)\n",
    "        frac_U = (ip[['U1']] + ip[['U2']] ) + 0.1 / (input[['U1']]  + input[['U2']] + 0.1)\n",
    "    } else {\n",
    "        frac_T = (ip['T1',] + ip['T2',] ) + 0.1 / (input[['T1']]  + input[['T2']] + 0.1)\n",
    "        frac_U = (ip['U1',] + ip['U2',] ) + 0.1 / (input[['T1']]  + input[['T2']] + 0.1)\n",
    "    }\n",
    "    print (gene)\n",
    "#     return (input)\n",
    "    return ( frac_T / frac_U )\n",
    "}"
   ]
  },
  {
   "cell_type": "code",
   "execution_count": 11,
   "metadata": {},
   "outputs": [
    {
     "name": "stdout",
     "output_type": "stream",
     "text": [
      "[1] \"ENSG00000235513.2\"\n",
      "[1] 7700.041\n"
     ]
    }
   ],
   "source": [
    "%%R \n",
    "check_hit('ENSG00000235513.2')"
   ]
  },
  {
   "cell_type": "code",
   "execution_count": 12,
   "metadata": {},
   "outputs": [
    {
     "name": "stdout",
     "output_type": "stream",
     "text": [
      "[1] \"ENSG00000235513.2\"\n",
      "[1] \"ENSG00000105732.13\"\n",
      "[1] \"ENSG00000184635.16\"\n",
      "[1] \"ENSG00000254996.5\"\n",
      "[1] \"ENSG00000007202.15\"\n",
      "[1] \"ENSG00000116731.22\"\n",
      "[[1]]\n",
      "[1] 7700.041\n",
      "\n",
      "[[2]]\n",
      "[1] 0.8122709\n",
      "\n",
      "[[3]]\n",
      "[1] 0.5011191\n",
      "\n",
      "[[4]]\n",
      "[1] 1.045049\n",
      "\n",
      "[[5]]\n",
      "[1] 0.9632443\n",
      "\n",
      "[[6]]\n",
      "[1] 0.7373645\n",
      "\n"
     ]
    }
   ],
   "source": [
    "%%R \n",
    "lapply (data[1:6,'ensembl'] , check_hit)\n"
   ]
  },
  {
   "cell_type": "markdown",
   "metadata": {},
   "source": [
    "# Therefore, we have $\\frac{IP}{Input} (Treated)$ vs. $\\frac{IP}{Input} (Untreated)$"
   ]
  },
  {
   "cell_type": "code",
   "execution_count": 15,
   "metadata": {},
   "outputs": [
    {
     "name": "stdout",
     "output_type": "stream",
     "text": [
      "R version 3.5.1 (2018-07-02)\n",
      "Platform: x86_64-conda_cos6-linux-gnu (64-bit)\n",
      "Running under: Ubuntu 18.04.4 LTS\n",
      "\n",
      "Matrix products: default\n",
      "BLAS: /rumi/shams/abe/anaconda3/envs/imRIP/radar/lib/R/lib/libRblas.so\n",
      "LAPACK: /rumi/shams/abe/anaconda3/envs/imRIP/radar/lib/R/lib/libRlapack.so\n",
      "\n",
      "locale:\n",
      " [1] LC_CTYPE=en_US.UTF-8       LC_NUMERIC=C              \n",
      " [3] LC_TIME=en_US.UTF-8        LC_COLLATE=en_US.UTF-8    \n",
      " [5] LC_MONETARY=en_US.UTF-8    LC_MESSAGES=en_US.UTF-8   \n",
      " [7] LC_PAPER=en_US.UTF-8       LC_NAME=C                 \n",
      " [9] LC_ADDRESS=C               LC_TELEPHONE=C            \n",
      "[11] LC_MEASUREMENT=en_US.UTF-8 LC_IDENTIFICATION=C       \n",
      "\n",
      "attached base packages:\n",
      " [1] stats4    parallel  tools     stats     graphics  grDevices utils    \n",
      " [8] datasets  methods   base     \n",
      "\n",
      "other attached packages:\n",
      " [1] patchwork_1.0.0           ggrepel_0.8.2            \n",
      " [3] bindrcpp_0.2.2            forcats_0.3.0            \n",
      " [5] stringr_1.3.1             dplyr_0.7.6              \n",
      " [7] purrr_0.2.5               readr_1.1.1              \n",
      " [9] tidyr_0.8.1               tibble_1.4.2             \n",
      "[11] tidyverse_1.2.1           RADAR_0.2.3              \n",
      "[13] qvalue_2.16.0             RcppArmadillo_0.8.600.0.0\n",
      "[15] Rcpp_1.0.4.6              RColorBrewer_1.1-2       \n",
      "[17] gplots_3.0.1              doParallel_1.0.11        \n",
      "[19] iterators_1.0.10          foreach_1.4.4            \n",
      "[21] ggplot2_3.0.0             Rsamtools_1.34.0         \n",
      "[23] Biostrings_2.50.2         XVector_0.22.0           \n",
      "[25] GenomicFeatures_1.34.1    AnnotationDbi_1.44.0     \n",
      "[27] Biobase_2.42.0            GenomicRanges_1.34.0     \n",
      "[29] GenomeInfoDb_1.18.1       IRanges_2.16.0           \n",
      "[31] S4Vectors_0.20.1          BiocGenerics_0.28.0      \n",
      "\n",
      "loaded via a namespace (and not attached):\n",
      " [1] colorspace_1.3-2            htmlTable_1.12             \n",
      " [3] base64enc_0.1-3             rstudioapi_0.7             \n",
      " [5] bit64_0.9-7                 lubridate_1.7.4            \n",
      " [7] xml2_1.2.0                  codetools_0.2-15           \n",
      " [9] splines_3.5.1               geneplotter_1.60.0         \n",
      "[11] knitr_1.20                  Formula_1.2-3              \n",
      "[13] jsonlite_1.5                broom_0.5.0                \n",
      "[15] annotate_1.60.1             cluster_2.0.7-1            \n",
      "[17] compiler_3.5.1              httr_1.3.1                 \n",
      "[19] backports_1.1.2             assertthat_0.2.0           \n",
      "[21] Matrix_1.2-14               lazyeval_0.2.1             \n",
      "[23] cli_1.0.0                   acepack_1.4.1              \n",
      "[25] htmltools_0.3.6             prettyunits_1.0.2          \n",
      "[27] gtable_0.2.0                glue_1.3.0                 \n",
      "[29] GenomeInfoDbData_1.2.1      reshape2_1.4.3             \n",
      "[31] cellranger_1.1.0            gdata_2.18.0               \n",
      "[33] nlme_3.1-137                rtracklayer_1.42.1         \n",
      "[35] rvest_0.3.2                 gtools_3.8.1               \n",
      "[37] XML_3.98-1.12               zlibbioc_1.28.0            \n",
      "[39] scales_0.5.0                hms_0.4.2                  \n",
      "[41] SummarizedExperiment_1.12.0 memoise_1.1.0              \n",
      "[43] gridExtra_2.3               biomaRt_2.38.0             \n",
      "[45] rpart_4.1-13                latticeExtra_0.6-28        \n",
      "[47] stringi_1.2.4               RSQLite_2.1.1              \n",
      "[49] genefilter_1.64.0           checkmate_1.8.5            \n",
      "[51] caTools_1.17.1.1            BiocParallel_1.16.6        \n",
      "[53] rlang_0.4.7                 pkgconfig_2.0.1            \n",
      "[55] matrixStats_0.56.0          bitops_1.0-6               \n",
      "[57] lattice_0.20-35             bindr_0.1.1                \n",
      "[59] labeling_0.3                GenomicAlignments_1.18.1   \n",
      "[61] htmlwidgets_1.2             bit_1.1-14                 \n",
      "[63] tidyselect_0.2.4            plyr_1.8.4                 \n",
      "[65] magrittr_1.5                DESeq2_1.22.1              \n",
      "[67] R6_2.2.2                    Hmisc_4.1-1                \n",
      "[69] DelayedArray_0.8.0          DBI_1.0.0                  \n",
      "[71] pillar_1.3.0                haven_1.1.2                \n",
      "[73] foreign_0.8-71              withr_2.1.2                \n",
      "[75] survival_2.42-6             RCurl_1.95-4.11            \n",
      "[77] nnet_7.3-12                 modelr_0.1.2               \n",
      "[79] crayon_1.3.4                KernSmooth_2.23-15         \n",
      "[81] progress_1.2.2              locfit_1.5-9.4             \n",
      "[83] grid_3.5.1                  readxl_1.1.0               \n",
      "[85] data.table_1.11.6           blob_1.1.1                 \n",
      "[87] digest_0.6.15               xtable_1.8-2               \n",
      "[89] munsell_0.5.0              \n"
     ]
    }
   ],
   "source": [
    "%%R\n",
    "sessionInfo()"
   ]
  },
  {
   "cell_type": "markdown",
   "metadata": {},
   "source": [
    "___\n",
    "\n",
    "### Draw volcano plot and test global methylation shift \n",
    "Using my `down-viz` conda env. "
   ]
  },
  {
   "cell_type": "markdown",
   "metadata": {},
   "source": [
    "> - https://stackoverflow.com/questions/8545035/scatterplot-with-marginal-histograms-in-ggplot2 \n",
    "> - https://github.com/daattali/ggExtra "
   ]
  },
  {
   "cell_type": "code",
   "execution_count": 1,
   "metadata": {},
   "outputs": [],
   "source": [
    "%reload_ext rpy2.ipython"
   ]
  },
  {
   "cell_type": "code",
   "execution_count": 6,
   "metadata": {},
   "outputs": [],
   "source": [
    "%%R \n",
    "library (ggExtra)\n",
    "library (ggplot2)\n",
    "library (ggrepel)\n",
    "library (patchwork)\n",
    "library (tidyverse)\n",
    "\n",
    "plot_Save <- function (p, name_it,w = 5, h = 4, d = 300){\n",
    "    ggsave(paste(name_it,'png',sep='.'), plot = p, device = 'png', width = w, height = h,dpi = d)\n",
    "    ggsave(paste(name_it,'pdf',sep='.'), plot = p, device = 'pdf', width = w, height = h,dpi = d)\n",
    "}"
   ]
  },
  {
   "cell_type": "markdown",
   "metadata": {},
   "source": [
    "Load `diff-mtyl` results:"
   ]
  },
  {
   "cell_type": "code",
   "execution_count": 3,
   "metadata": {},
   "outputs": [],
   "source": [
    "%%R \n",
    "# res = read.table('radar/result.all.txt', header=TRUE,stringsAsFactors=FALSE)\n",
    "# res_sig = read.table('radar/result.sig.txt', header=TRUE,stringsAsFactors=FALSE)\n",
    "\n",
    "# Significant bins: FDR<0.2 and logFC > 0.5\n",
    "res = read.table('radar/result.sig.txt', header=TRUE,stringsAsFactors=FALSE)\n"
   ]
  },
  {
   "cell_type": "markdown",
   "metadata": {},
   "source": [
    "Volcano plot and histogram "
   ]
  },
  {
   "cell_type": "code",
   "execution_count": 18,
   "metadata": {},
   "outputs": [],
   "source": [
    "%%R \n",
    "plot_hyperhypo <- function(\n",
    "    res, lfc.cutoff  = 1, pval.cutoff = 0.001,\n",
    "    x_min=-7,x_max=7\n",
    "){\n",
    "    w <- wilcox.test(res$logFC, mu=0, alternative = \"greater\")\n",
    "    t <- t.test(res$logFC, mu=0, alternative = \"greater\")\n",
    "    \n",
    "    res$sig <- as.factor(res$p_value < pval.cutoff & abs(res$logFC) > lfc.cutoff)\n",
    "    relevel(res$sig, ref=TRUE)\n",
    "\n",
    "    p = res %>% ggplot(\n",
    "        aes(x=logFC, y=-log10(p_value), colour=sig, fill=sig)) +\n",
    "        geom_point(aes(color = sig),alpha = 4/10) +\n",
    "            xlim(c(x_min,x_max)) +\n",
    "#             ylim(c(2,15)) +\n",
    "            geom_hline(yintercept=-log10(pval.cutoff), linetype=\"dashed\", alpha = 4/10) +\n",
    "            geom_vline(xintercept=lfc.cutoff, linetype=\"dashed\", alpha = 4/10) +\n",
    "            geom_vline(xintercept=(-1)*lfc.cutoff, linetype=\"dashed\", alpha = 4/10) +\n",
    "            scale_color_manual(values = c(\"grey50\", \"green4\")) +\n",
    "            theme_bw() + \n",
    "            theme(aspect.ratio = 0.6,legend.position=\"none\") +\n",
    "            ggtitle(sprintf(\n",
    "                \"wilcox.test (-log10 p.value): %.5f \\nt.test (-log10 p.value):%.5f \\n[mu=0,alter=greater]\", \n",
    "                -log10(w$p.value), -log10(t$p.value))) +\n",
    "            theme(aspect.ratio = 0.6,\n",
    "                  rect=element_rect(fill=\"transparent\"),\n",
    "#                   panel.border = element_blank(),\n",
    "                  panel.grid = element_blank(),\n",
    "                  panel.background= element_blank()\n",
    "                 )\n",
    "#             geom_text_repel(\n",
    "#                 data = subset(res[order(res$p_value),], sig == TRUE)[1:7,],\n",
    "#                 aes(label = name),\n",
    "#                 size = 3,\n",
    "#                 box.padding = unit(0.35, \"lines\"),\n",
    "#                 point.padding = unit(0.3, \"lines\")\n",
    "#             )\n",
    "\n",
    "    return (p)\n",
    "} "
   ]
  },
  {
   "cell_type": "code",
   "execution_count": 20,
   "metadata": {
    "scrolled": false
   },
   "outputs": [
    {
     "data": {
      "image/png": "[encoded data removed]"
     },
     "metadata": {},
     "output_type": "display_data"
    }
   ],
   "source": [
    "%%R \n",
    "vol = plot_hyperhypo (res)\n",
    "p = ggExtra::ggMarginal(vol, margins = \"x\", size = 10, #type = \"histogram\",\n",
    "           col = \"green4\")#, fill = \"\")\n",
    "\n",
    "plot_Save(p, 'plots/d_mtyl_T_vs_U',w = 5, h = 5)\n",
    "p"
   ]
  },
  {
   "cell_type": "code",
   "execution_count": 58,
   "metadata": {},
   "outputs": [
    {
     "name": "stdout",
     "output_type": "stream",
     "text": [
      "name: down-viz\n",
      "channels:\n",
      "  - defaults\n",
      "  - anaconda\n",
      "  - r\n",
      "  - bioconda\n",
      "  - conda-forge\n",
      "dependencies:\n",
      "  - r-ggextra\n",
      "  - r-patchwork\n",
      "  - r-tidyverse\n",
      "  - r-ggrepel\n",
      "  - ipykernel\n",
      "  - numpy\n",
      "  - pandas\n",
      "prefix: /rumi/shams/abe/anaconda3/envs/down-viz\n",
      "\n",
      "Note: you may need to restart the kernel to use updated packages.\n"
     ]
    }
   ],
   "source": [
    "conda env export --from-history"
   ]
  },
  {
   "cell_type": "code",
   "execution_count": 57,
   "metadata": {},
   "outputs": [
    {
     "name": "stdout",
     "output_type": "stream",
     "text": [
      "R version 4.1.1 (2021-08-10)\n",
      "Platform: x86_64-conda-linux-gnu (64-bit)\n",
      "Running under: Ubuntu 18.04.4 LTS\n",
      "\n",
      "Matrix products: default\n",
      "BLAS/LAPACK: /rumi/shams/abe/anaconda3/envs/down-viz/lib/libopenblasp-r0.3.17.so\n",
      "\n",
      "locale:\n",
      " [1] LC_CTYPE=en_US.UTF-8       LC_NUMERIC=C              \n",
      " [3] LC_TIME=en_US.UTF-8        LC_COLLATE=en_US.UTF-8    \n",
      " [5] LC_MONETARY=en_US.UTF-8    LC_MESSAGES=en_US.UTF-8   \n",
      " [7] LC_PAPER=en_US.UTF-8       LC_NAME=C                 \n",
      " [9] LC_ADDRESS=C               LC_TELEPHONE=C            \n",
      "[11] LC_MEASUREMENT=en_US.UTF-8 LC_IDENTIFICATION=C       \n",
      "\n",
      "attached base packages:\n",
      "[1] tools     stats     graphics  grDevices utils     datasets  methods  \n",
      "[8] base     \n",
      "\n",
      "other attached packages:\n",
      " [1] forcats_0.5.1   stringr_1.4.0   dplyr_1.0.7     purrr_0.3.4    \n",
      " [5] readr_2.0.1     tidyr_1.1.3     tibble_3.1.4    tidyverse_1.3.1\n",
      " [9] patchwork_1.1.1 ggrepel_0.9.1   ggplot2_3.3.5   ggExtra_0.9    \n",
      "\n",
      "loaded via a namespace (and not attached):\n",
      " [1] tidyselect_1.1.1 haven_2.4.3      colorspace_2.0-2 vctrs_0.3.8     \n",
      " [5] generics_0.1.0   miniUI_0.1.1.1   htmltools_0.5.2  utf8_1.2.2      \n",
      " [9] rlang_0.4.11     later_1.2.0      pillar_1.6.2     glue_1.4.2      \n",
      "[13] withr_2.4.2      DBI_1.1.1        dbplyr_2.1.1     modelr_0.1.8    \n",
      "[17] readxl_1.3.1     lifecycle_1.0.0  cellranger_1.1.0 munsell_0.5.0   \n",
      "[21] gtable_0.3.0     rvest_1.0.1      labeling_0.4.2   tzdb_0.1.2      \n",
      "[25] fastmap_1.1.0    httpuv_1.6.3     fansi_0.4.2      broom_0.7.9     \n",
      "[29] Rcpp_1.0.7       xtable_1.8-4     promises_1.2.0.1 scales_1.1.1    \n",
      "[33] backports_1.2.1  jsonlite_1.7.2   farver_2.1.0     fs_1.5.0        \n",
      "[37] mime_0.11        hms_1.1.0        digest_0.6.28    stringi_1.7.4   \n",
      "[41] shiny_1.6.0      grid_4.1.1       cli_3.0.1        magrittr_2.0.1  \n",
      "[45] crayon_1.4.1     pkgconfig_2.0.3  ellipsis_0.3.2   xml2_1.3.2      \n",
      "[49] reprex_2.0.1     lubridate_1.7.10 rstudioapi_0.13  assertthat_0.2.1\n",
      "[53] httr_1.4.2       R6_2.5.1         compiler_4.1.1  \n"
     ]
    }
   ],
   "source": [
    "%%R\n",
    "sessionInfo()"
   ]
  }
 ],
 "metadata": {
  "kernelspec": {
   "display_name": "Python [conda env:down-viz]",
   "language": "python",
   "name": "conda-env-down-viz-py"
  },
  "language_info": {
   "codemirror_mode": {
    "name": "ipython",
    "version": 3
   },
   "file_extension": ".py",
   "mimetype": "text/x-python",
   "name": "python",
   "nbconvert_exporter": "python",
   "pygments_lexer": "ipython3",
   "version": "3.7.7"
  }
 },
 "nbformat": 4,
 "nbformat_minor": 2
}
