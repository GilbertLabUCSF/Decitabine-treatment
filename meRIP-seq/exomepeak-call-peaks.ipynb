{
 "cells": [
  {
   "cell_type": "markdown",
   "metadata": {},
   "source": [
    "## 1. Run `exomePeak`"
   ]
  },
  {
   "cell_type": "code",
   "execution_count": 1,
   "metadata": {},
   "outputs": [],
   "source": [
    "%reload_ext rpy2.ipython"
   ]
  },
  {
   "cell_type": "code",
   "execution_count": 2,
   "metadata": {},
   "outputs": [],
   "source": [
    "%%R \n",
    "mkdir <- function (output_dir){\n",
    "    if (!dir.exists(output_dir)){\n",
    "        dir.create(output_dir)\n",
    "        print(output_dir)\n",
    "        print(\"created!\")\n",
    "    } else {\n",
    "        print(output_dir)\n",
    "        print(\"already exists!\")\n",
    "    }\n",
    "}"
   ]
  },
  {
   "cell_type": "code",
   "execution_count": 3,
   "metadata": {},
   "outputs": [],
   "source": [
    "%%R\n",
    "suppressMessages(suppressWarnings(library (GenomicFeatures)))\n",
    "suppressMessages(suppressWarnings(library (exomePeak)))"
   ]
  },
  {
   "cell_type": "code",
   "execution_count": 4,
   "metadata": {},
   "outputs": [
    {
     "data": {
      "text/plain": [
       "['bam/U2.input.bam.bai',\n",
       " 'bam/U2.m6A.bam.bai',\n",
       " 'bam/U1.m6A.bam',\n",
       " 'bam/U2.input.bam',\n",
       " 'bam/U1.input.bam',\n",
       " 'bam/U1.input.bam.bai',\n",
       " 'bam/U2.m6A.bam',\n",
       " 'bam/U1.m6A.bam.bai']"
      ]
     },
     "execution_count": 4,
     "metadata": {},
     "output_type": "execute_result"
    }
   ],
   "source": [
    "import glob\n",
    "\n",
    "glob.glob('bam/U*')"
   ]
  },
  {
   "cell_type": "code",
   "execution_count": 5,
   "metadata": {},
   "outputs": [],
   "source": [
    "%%R\n",
    "######################################## read meta ######################################$\n",
    "\n",
    "Samples = c(\"U1\",\"U2\")\n",
    "IP = '.m6A'\n",
    "INPUT = '.input'\n",
    "\n",
    "OUTPUT = 'exomepeak'\n",
    "\n",
    "Samples = unlist(Samples)\n",
    "\n",
    "IP_BAM = paste(Samples, IP, '.bam', sep='')\n",
    "INPUT_BAM = paste(Samples, INPUT, '.bam', sep='')\n",
    "\n",
    "GTF = '/rumi/shams/abe/genomes/hg38/gencode.v34/gencode.v34.annotation.gtf'"
   ]
  },
  {
   "cell_type": "code",
   "execution_count": 6,
   "metadata": {},
   "outputs": [
    {
     "name": "stderr",
     "output_type": "stream",
     "text": [
      "R[write to console]: Import genomic features from the file as a GRanges object ... \n",
      "R[write to console]: OK\n",
      "\n",
      "R[write to console]: Prepare the 'metadata' data frame ... \n",
      "R[write to console]: OK\n",
      "\n",
      "R[write to console]: Make the TxDb object ... \n",
      "R[write to console]: OK\n",
      "\n"
     ]
    }
   ],
   "source": [
    "%%R\n",
    "######################################## genome ####################################\n",
    "txdb <- makeTxDbFromGFF(GTF, organism=NA )"
   ]
  },
  {
   "cell_type": "code",
   "execution_count": 7,
   "metadata": {},
   "outputs": [
    {
     "name": "stdout",
     "output_type": "stream",
     "text": [
      "TxDb object:\n",
      "# Db type: TxDb\n",
      "# Supporting package: GenomicFeatures\n",
      "# Data source: /rumi/shams/abe/genomes/hg38/gencode.v34/gencode.v34.annotation.gtf\n",
      "# Organism: NA\n",
      "# Taxonomy ID: NA\n",
      "# miRBase build ID: NA\n",
      "# Genome: NA\n",
      "# transcript_nrow: 228048\n",
      "# exon_nrow: 748089\n",
      "# cds_nrow: 275255\n",
      "# Db created by: GenomicFeatures package from Bioconductor\n",
      "# Creation time: 2021-09-03 20:03:02 +0000 (Fri, 03 Sep 2021)\n",
      "# GenomicFeatures version at creation time: 1.32.3\n",
      "# RSQLite version at creation time: 2.1.1\n",
      "# DBSCHEMAVERSION: 1.2\n"
     ]
    }
   ],
   "source": [
    "%%R\n",
    "txdb"
   ]
  },
  {
   "cell_type": "code",
   "execution_count": 8,
   "metadata": {},
   "outputs": [],
   "source": [
    "%%R \n",
    "setwd(\"bam\")"
   ]
  },
  {
   "cell_type": "code",
   "execution_count": 9,
   "metadata": {},
   "outputs": [
    {
     "name": "stdout",
     "output_type": "stream",
     "text": [
      "[1] TRUE TRUE\n"
     ]
    }
   ],
   "source": [
    "%%R\n",
    "file.exists(INPUT_BAM)"
   ]
  },
  {
   "cell_type": "code",
   "execution_count": null,
   "metadata": {},
   "outputs": [],
   "source": [
    "# %%R\n",
    "# options(digits=5)\n",
    "\n",
    "# runexomepeak <- function(WINDOW = 50,STEP = 5,LENGTH = 200,ENRICH = 1){\n",
    "#     EXP = paste('WINDOW',WINDOW,'STEP',STEP,'LENGTH',LENGTH,'ENRICH',ENRICH,sep='-')\n",
    "\n",
    "#     print (EXP)\n",
    "    \n",
    "#     res <- exomepeak(\n",
    "#         TXDB = txdb,\n",
    "#         IP_BAM=IP_BAM,\n",
    "#         INPUT_BAM=INPUT_BAM,\n",
    "\n",
    "#         OUTPUT_DIR=paste('..',OUTPUT,sep='/'),\n",
    "#         EXPERIMENT_NAME=EXP,\n",
    "\n",
    "#         # options\n",
    "#         WINDOW_WIDTH = WINDOW,\n",
    "#         SLIDING_STEP = STEP,\n",
    "#         FRAGMENT_LENGTH = LENGTH,\n",
    "#     #     PEAK_CUTOFF_PVALUE = 1,\n",
    "#     #     PEAK_CUTOFF_FDR = 1, # as.double(FDR),\n",
    "#         FOLD_ENRICHMENT = ENRICH\n",
    "#     )\n",
    "\n",
    "#     mkdir(paste('..', OUTPUT, sep='/'))\n",
    "#     mkdir(paste('..', OUTPUT, EXP, sep='/'))\n",
    "\n",
    "#     saveRDS(res, paste('..', OUTPUT, EXP, 'results.rds', sep='/'))\n",
    "# }"
   ]
  },
  {
   "cell_type": "code",
   "execution_count": null,
   "metadata": {},
   "outputs": [],
   "source": [
    "%%R\n",
    "options(digits=5)\n",
    "\n",
    "WINDOW = 50 # 10 or 25\n",
    "STEP = 5 \n",
    "LENGTH = 200 # 150, 100 or 50\n",
    "ENRICH = 1\n",
    "EXP = paste('WINDOW',WINDOW,'STEP',STEP,'LENGTH',LENGTH,'ENRICH',ENRICH,sep='-')\n",
    "\n",
    "res <- exomepeak(\n",
    "    TXDB = txdb,\n",
    "    IP_BAM=IP_BAM,\n",
    "    INPUT_BAM=INPUT_BAM,\n",
    "    \n",
    "    OUTPUT_DIR=paste('..',OUTPUT,sep='/'),\n",
    "    EXPERIMENT_NAME=EXP,\n",
    "\n",
    "    # options\n",
    "    WINDOW_WIDTH = WINDOW,\n",
    "    SLIDING_STEP = STEP,\n",
    "    FRAGMENT_LENGTH = LENGTH,\n",
    "#     PEAK_CUTOFF_PVALUE = 1,\n",
    "#     PEAK_CUTOFF_FDR = 1, # as.double(FDR),\n",
    "    FOLD_ENRICHMENT = ENRICH\n",
    ")\n",
    "\n",
    "mkdir(paste('..', OUTPUT, sep='/'))\n",
    "mkdir(paste('..', OUTPUT, EXP, sep='/'))\n",
    "\n",
    "saveRDS(res, paste('..', OUTPUT, EXP, 'results.rds', sep='/'))"
   ]
  },
  {
   "cell_type": "code",
   "execution_count": null,
   "metadata": {},
   "outputs": [],
   "source": [
    "%%R \n",
    "setwd(\"../\")"
   ]
  },
  {
   "cell_type": "code",
   "execution_count": 18,
   "metadata": {},
   "outputs": [
    {
     "name": "stdout",
     "output_type": "stream",
     "text": [
      "name: /rumi/shams/abe/anaconda3/envs/imRIP/exomepeak\n",
      "channels:\n",
      "  - defaults\n",
      "  - anaconda\n",
      "  - r\n",
      "  - bioconda\n",
      "  - conda-forge\n",
      "dependencies:\n",
      "  - bioconductor-exomepeak\n",
      "  - bioconductor-genomicfeatures=1.32.3\n",
      "  - r-ggplot2\n",
      "  - r-tidyverse\n",
      "  - pip\n",
      "  - pandas\n",
      "  - numpy\n",
      "  - ipykernel\n",
      "prefix: /rumi/shams/abe/anaconda3/envs/imRIP/exomepeak\n"
     ]
    }
   ],
   "source": [
    "!conda env export --from-history "
   ]
  },
  {
   "cell_type": "code",
   "execution_count": 80,
   "metadata": {},
   "outputs": [
    {
     "name": "stdout",
     "output_type": "stream",
     "text": [
      "R version 3.5.1 (2018-07-02)\n",
      "Platform: x86_64-conda_cos6-linux-gnu (64-bit)\n",
      "Running under: Ubuntu 18.04.4 LTS\n",
      "\n",
      "Matrix products: default\n",
      "BLAS/LAPACK: /rumi/shams/abe/anaconda3/envs/imRIP/exomepeak/lib/R/lib/libRblas.so\n",
      "\n",
      "locale:\n",
      " [1] LC_CTYPE=en_US.UTF-8       LC_NUMERIC=C              \n",
      " [3] LC_TIME=en_US.UTF-8        LC_COLLATE=en_US.UTF-8    \n",
      " [5] LC_MONETARY=en_US.UTF-8    LC_MESSAGES=en_US.UTF-8   \n",
      " [7] LC_PAPER=en_US.UTF-8       LC_NAME=C                 \n",
      " [9] LC_ADDRESS=C               LC_TELEPHONE=C            \n",
      "[11] LC_MEASUREMENT=en_US.UTF-8 LC_IDENTIFICATION=C       \n",
      "\n",
      "attached base packages:\n",
      " [1] stats4    parallel  tools     stats     graphics  grDevices utils    \n",
      " [8] datasets  methods   base     \n",
      "\n",
      "other attached packages:\n",
      " [1] exomePeak_2.14.0            GenomicAlignments_1.16.0   \n",
      " [3] SummarizedExperiment_1.10.1 DelayedArray_0.6.6         \n",
      " [5] BiocParallel_1.14.2         matrixStats_0.56.0         \n",
      " [7] rtracklayer_1.40.6          Rsamtools_1.32.3           \n",
      " [9] Biostrings_2.48.0           XVector_0.20.0             \n",
      "[11] GenomicFeatures_1.32.3      AnnotationDbi_1.42.1       \n",
      "[13] Biobase_2.40.0              GenomicRanges_1.32.7       \n",
      "[15] GenomeInfoDb_1.16.0         IRanges_2.14.12            \n",
      "[17] S4Vectors_0.18.3            BiocGenerics_0.26.0        \n",
      "\n",
      "loaded via a namespace (and not attached):\n",
      " [1] Rcpp_0.12.18           compiler_3.5.1         prettyunits_1.0.2     \n",
      " [4] bitops_1.0-6           progress_1.2.2         zlibbioc_1.26.0       \n",
      " [7] biomaRt_2.36.1         digest_0.6.15          bit_1.1-14            \n",
      "[10] lattice_0.20-35        RSQLite_2.1.1          memoise_1.1.0         \n",
      "[13] pkgconfig_2.0.1        rlang_0.2.1            Matrix_1.2-14         \n",
      "[16] DBI_1.0.0              GenomeInfoDbData_1.2.1 stringr_1.3.1         \n",
      "[19] httr_1.3.1             hms_0.4.2              grid_3.5.1            \n",
      "[22] bit64_0.9-7            R6_2.2.2               XML_3.98-1.12         \n",
      "[25] blob_1.1.1             magrittr_1.5           assertthat_0.2.0      \n",
      "[28] stringi_1.2.4          RCurl_1.95-4.11        crayon_1.3.4          \n"
     ]
    }
   ],
   "source": [
    "%%R \n",
    "sessionInfo()"
   ]
  },
  {
   "cell_type": "markdown",
   "metadata": {},
   "source": [
    "___"
   ]
  },
  {
   "cell_type": "markdown",
   "metadata": {},
   "source": [
    "## 2. `RGAC` & `DRACH` motif analysis "
   ]
  },
  {
   "cell_type": "code",
   "execution_count": null,
   "metadata": {},
   "outputs": [],
   "source": [
    "!bash ~/GitHub/imRIP/scripts/exomepeak-motif.sh ~/Projects/Decitabine-treatment/meRIP-seq/exomepeak"
   ]
  },
  {
   "cell_type": "markdown",
   "metadata": {},
   "source": [
    "Let's examine how exomepeak paramaters affect FIRE's results: "
   ]
  },
  {
   "cell_type": "code",
   "execution_count": 18,
   "metadata": {},
   "outputs": [],
   "source": [
    "import pandas as pd\n",
    "from glob import glob"
   ]
  },
  {
   "cell_type": "code",
   "execution_count": 102,
   "metadata": {},
   "outputs": [
    {
     "data": {
      "text/plain": [
       "[['WINDOW-50-STEP-5-LENGTH-200-ENRICH-1',\n",
       "                    0  1   2  3      4     5\n",
       "  0           [AG]GAC  0  49  0  0.790  6902\n",
       "  1           [AG]GAC  1  51  1  0.824  6902\n",
       "  2  [AGT][AG]AC[ACT]  0  49  0  0.944  6902\n",
       "  3  [AGT][AG]AC[ACT]  1  51  1  0.949  6902],\n",
       " ['WINDOW-50-STEP-5-LENGTH-50-ENRICH-1',\n",
       "                    0  1   2  3      4      5\n",
       "  0           [AG]GAC  0  50  0  0.498  20609\n",
       "  1           [AG]GAC  1  50  1  0.518  20609\n",
       "  2  [AGT][AG]AC[ACT]  0  50  0  0.744  20609\n",
       "  3  [AGT][AG]AC[ACT]  1  50  1  0.755  20609],\n",
       " ['WINDOW-10-STEP-5-LENGTH-150-ENRICH-1',\n",
       "                    0  1   2  3      4    5\n",
       "  0           [AG]GAC  0  49  0  0.722  227\n",
       "  1           [AG]GAC  1  51  1  0.758  227\n",
       "  2  [AGT][AG]AC[ACT]  0  45  0  0.863  227\n",
       "  3  [AGT][AG]AC[ACT]  1  55  1  0.930  227],\n",
       " ['WINDOW-50-STEP-5-LENGTH-150-ENRICH-1',\n",
       "                    0  1   2  3      4     5\n",
       "  0           [AG]GAC  0  49  0  0.724  8899\n",
       "  1           [AG]GAC  1  51  1  0.762  8899\n",
       "  2  [AGT][AG]AC[ACT]  0  49  0  0.916  8899\n",
       "  3  [AGT][AG]AC[ACT]  1  51  1  0.926  8899],\n",
       " ['WINDOW-50-STEP-5-LENGTH-100-ENRICH-1',\n",
       "                    0  1   2  3      4      5\n",
       "  0           [AG]GAC  0  50  0  0.648  12148\n",
       "  1           [AG]GAC  1  50  1  0.676  12148\n",
       "  2  [AGT][AG]AC[ACT]  0  50  0  0.864  12148\n",
       "  3  [AGT][AG]AC[ACT]  1  50  1  0.870  12148],\n",
       " ['WINDOW-25-STEP-5-LENGTH-150-ENRICH-1',\n",
       "                    0  1   2  3      4     5\n",
       "  0           [AG]GAC  0  49  0  0.683  4593\n",
       "  1           [AG]GAC  1  51  1  0.732  4593\n",
       "  2  [AGT][AG]AC[ACT]  0  49  0  0.906  4593\n",
       "  3  [AGT][AG]AC[ACT]  1  51  1  0.919  4593]]"
      ]
     },
     "execution_count": 102,
     "metadata": {},
     "output_type": "execute_result"
    }
   ],
   "source": [
    "[\n",
    "    [\n",
    "        l.split('/')[1],\n",
    "        pd.read_csv(l,header=None,sep='\\t')\n",
    "    ]\n",
    "    for l in glob('exomepeak/*/non-discovery_FIRE/RNA/peak_fire.txt.signif.motifs.rep')\n",
    "]\n",
    " \n",
    "# pd.concat(, axis=0)"
   ]
  },
  {
   "cell_type": "markdown",
   "metadata": {},
   "source": [
    "`WINDOW-50-STEP-5-LENGTH-150-ENRICH-1` seem the best which shows the enrichment of `RGAC` motif. "
   ]
  },
  {
   "cell_type": "markdown",
   "metadata": {},
   "source": [
    "___"
   ]
  },
  {
   "cell_type": "markdown",
   "metadata": {},
   "source": [
    "### WINDOW-50-STEP-5-LENGTH-150-ENRICH-1\n"
   ]
  },
  {
   "cell_type": "code",
   "execution_count": 44,
   "metadata": {},
   "outputs": [
    {
     "name": "stdout",
     "output_type": "stream",
     "text": [
      "con_peak.bed        exomePeak.Rdata         peak.fa        results.rds\n",
      "con_peak.xls        \u001b[0m\u001b[34;42mnon-discovery_FIRE\u001b[0m/     peak_fire.fa\n",
      "\u001b[34;42mdiscovery_FIRE\u001b[0m/     non-discovery_FIRE.log  peak_fire.txt\n",
      "discovery_FIRE.log  peak.bed                peak.xls\n"
     ]
    }
   ],
   "source": [
    "ls exomepeak/WINDOW-50-STEP-5-LENGTH-150-ENRICH-1"
   ]
  },
  {
   "cell_type": "code",
   "execution_count": 5,
   "metadata": {},
   "outputs": [
    {
     "name": "stdout",
     "output_type": "stream",
     "text": [
      "/rumi/shams/abe/Projects/Decitabine-treatment/meRIP-seq\n",
      "/rumi/shams/abe/Projects/Decitabine-treatment/meRIP-seq/exomepeak/WINDOW-50-STEP-5-LENGTH-150-ENRICH-1\n",
      "RNA, Step 7: draw matrix figure.\n",
      "Now doing the graphical display.\n",
      "xsize = 1200, ysize = 400, xbase = 35, ybase = 250\n",
      "Processing [AG]GAC ... Outputing motif 0.eps ... Done.\n",
      "Plotting significance boxes.\n",
      "Creating peak_fire.txt_FIRE/RNA/peak_fire.txt.summary.eps ...Done.\n",
      "Creating PDF peak_fire.txt_FIRE/RNA/peak_fire.txt.summary.pdf ... Done.\n",
      "/rumi/shams/abe/Projects/Decitabine-treatment/meRIP-seq\n"
     ]
    }
   ],
   "source": [
    "%%bash \n",
    "echo `pwd`\n",
    "cd exomepeak/WINDOW-50-STEP-5-LENGTH-150-ENRICH-1\n",
    "echo `pwd`\n",
    "# export FIREDIR=/flash/bin/FIRE-1.1\n",
    "# export LD_LIBRARY_PATH=/flash/bin/FIRE-1.1/modules/lib\n",
    "# date\n",
    "\n",
    "mv non-discovery_FIRE peak_fire.txt_FIRE\n",
    "\n",
    "echo \"RNA, Step 7: draw matrix figure.\"\n",
    "perl /flash/bin/FIRE-1.1/SCRIPTS/mi_draw_matrix.pl \\\n",
    "    --expfile=peak_fire.txt_FIRE/RNA/peak_fire.txt \\\n",
    "    --matfile=peak_fire.txt_FIRE/RNA/peak_fire.txt.matrix \\\n",
    "    --summaryfile=peak_fire.txt_FIRE/RNA/peak_fire.txt.summary \\\n",
    "    --columnsfile=peak_fire.txt_FIRE/RNA/peak_fire.txt.columns \\\n",
    "    --ps2pdf=1 --every=1 --quantized=1 --motifnames=peak_fire.txt_FIRE/RNA/peak_fire.txt.motifnames \\\n",
    "    --ybase=250 --colmap=/flash/bin/FIRE-1.1/SCRIPTS/HEATMAPS/cmap2.txt \\\n",
    "    --clustfile=peak_fire.txt_FIRE/RNA/peak_fire.txt.clusters  \\\n",
    "    --lp_t_draw=10 \\\n",
    "    --gofile=peak_fire.txt_FIRE/RNA/peak_fire.txt.GO \n",
    "\n",
    "mv peak_fire.txt_FIRE non-discovery_FIRE \n",
    "\n",
    "cd ../../\n",
    "\n",
    "echo `pwd`"
   ]
  },
  {
   "cell_type": "code",
   "execution_count": 6,
   "metadata": {},
   "outputs": [
    {
     "name": "stdout",
     "output_type": "stream",
     "text": [
      "'exomepeak/WINDOW-50-STEP-5-LENGTH-150-ENRICH-1/non-discovery_FIRE/RNA/peak_fire.txt.summary.pdf' -> 'plots/known-motifs.pdf'\n",
      "plots/known-motifs.pdf > plots/known-motifs.png\n",
      "done!\n"
     ]
    }
   ],
   "source": [
    "!cp -v exomepeak/WINDOW-50-STEP-5-LENGTH-150-ENRICH-1/non-discovery_FIRE/RNA/peak_fire.txt.summary.pdf plots/known-motifs.pdf\n",
    "!bash ~/GitHub/Abe/my_scripts/pdf2png.sh plots/known-motifs.pdf"
   ]
  },
  {
   "cell_type": "code",
   "execution_count": 48,
   "metadata": {},
   "outputs": [
    {
     "name": "stdout",
     "output_type": "stream",
     "text": [
      "Mon Jan  3 18:48:39 PST 2022\n"
     ]
    }
   ],
   "source": [
    "!date"
   ]
  }
 ],
 "metadata": {
  "kernelspec": {
   "display_name": "Python [conda env:deseq]",
   "language": "python",
   "name": "conda-env-deseq-py"
  },
  "language_info": {
   "codemirror_mode": {
    "name": "ipython",
    "version": 3
   },
   "file_extension": ".py",
   "mimetype": "text/x-python",
   "name": "python",
   "nbconvert_exporter": "python",
   "pygments_lexer": "ipython3",
   "version": "3.7.3"
  }
 },
 "nbformat": 4,
 "nbformat_minor": 4
}
