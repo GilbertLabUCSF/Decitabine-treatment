{
 "cells": [
  {
   "cell_type": "markdown",
   "id": "3bb5ca09-2f52-4d7a-b5b9-f7c5da66fadb",
   "metadata": {
    "jp-MarkdownHeadingCollapsed": true,
    "tags": []
   },
   "source": [
    "## "
   ]
  },
  {
   "cell_type": "code",
   "execution_count": 80,
   "id": "21113b7e-0a97-4455-b070-32eeb520beae",
   "metadata": {},
   "outputs": [
    {
     "data": {
      "text/html": [
       "<table class=\"dataframe\">\n",
       "<caption>A data.frame: 24 × 7</caption>\n",
       "<thead>\n",
       "\t<tr><th scope=col>chr</th><th scope=col>name</th><th scope=col>ensembl</th><th scope=col>start</th><th scope=col>end</th><th scope=col>logFC</th><th scope=col>p_value</th></tr>\n",
       "\t<tr><th scope=col>&lt;chr&gt;</th><th scope=col>&lt;chr&gt;</th><th scope=col>&lt;chr&gt;</th><th scope=col>&lt;int&gt;</th><th scope=col>&lt;int&gt;</th><th scope=col>&lt;dbl&gt;</th><th scope=col>&lt;dbl&gt;</th></tr>\n",
       "</thead>\n",
       "<tbody>\n",
       "\t<tr><td>chr1 </td><td>ARID4B  </td><td>ENSG00000054267.22</td><td>235181852</td><td>235181901</td><td>-5.3798974</td><td>1.090897e-04</td></tr>\n",
       "\t<tr><td>chr1 </td><td>ARID4B  </td><td>ENSG00000054267.22</td><td>235131933</td><td>235135686</td><td> 4.8751973</td><td>4.258416e-08</td></tr>\n",
       "\t<tr><td>chr1 </td><td>ARID4B  </td><td>ENSG00000054267.22</td><td>235131734</td><td>235131783</td><td>-1.3734279</td><td>3.928503e-03</td></tr>\n",
       "\t<tr><td>chrX </td><td>ATRX    </td><td>ENSG00000085224.22</td><td> 77685000</td><td> 77688860</td><td>-5.4510385</td><td>2.353828e-03</td></tr>\n",
       "\t<tr><td>chrX </td><td>ATRX    </td><td>ENSG00000085224.22</td><td> 77682758</td><td> 77682807</td><td> 5.2882670</td><td>8.854450e-04</td></tr>\n",
       "\t<tr><td>chrX </td><td>ATRX    </td><td>ENSG00000085224.22</td><td> 77673994</td><td> 77674043</td><td> 4.8040210</td><td>2.639629e-05</td></tr>\n",
       "\t<tr><td>chrX </td><td>ATRX    </td><td>ENSG00000085224.22</td><td> 77521478</td><td> 77521527</td><td> 4.4659081</td><td>3.829439e-03</td></tr>\n",
       "\t<tr><td>chrX </td><td>ATRX    </td><td>ENSG00000085224.22</td><td> 77681660</td><td> 77681709</td><td>-2.9387636</td><td>4.730416e-05</td></tr>\n",
       "\t<tr><td>chrX </td><td>ATRX    </td><td>ENSG00000085224.22</td><td> 77682060</td><td> 77682109</td><td>-0.7539954</td><td>3.139958e-03</td></tr>\n",
       "\t<tr><td>chrX </td><td>BCORL1  </td><td>ENSG00000085185.15</td><td>130015980</td><td>130016029</td><td> 1.9904690</td><td>2.574042e-03</td></tr>\n",
       "\t<tr><td>chr22</td><td>C22orf46</td><td>ENSG00000184208.12</td><td> 41696192</td><td> 41696241</td><td> 1.4476274</td><td>4.559666e-04</td></tr>\n",
       "\t<tr><td>chr22</td><td>C22orf46</td><td>ENSG00000184208.12</td><td> 41694196</td><td> 41694245</td><td> 0.9300172</td><td>6.599203e-04</td></tr>\n",
       "\t<tr><td>chr22</td><td>C22orf46</td><td>ENSG00000184208.12</td><td> 41697488</td><td> 41697537</td><td>-0.7263912</td><td>5.542018e-04</td></tr>\n",
       "\t<tr><td>chr11</td><td>INTS5   </td><td>ENSG00000185085.2 </td><td> 62649635</td><td> 62649684</td><td> 3.2958369</td><td>3.832111e-04</td></tr>\n",
       "\t<tr><td>chr11</td><td>INTS5   </td><td>ENSG00000185085.2 </td><td> 62647794</td><td> 62647843</td><td> 1.0576988</td><td>6.092647e-04</td></tr>\n",
       "\t<tr><td>chr6 </td><td>MARCKS  </td><td>ENSG00000277443.3 </td><td>113860579</td><td>113860628</td><td>-0.7555004</td><td>7.291891e-04</td></tr>\n",
       "\t<tr><td>chr1 </td><td>MCL1    </td><td>ENSG00000143384.13</td><td>150577084</td><td>150577133</td><td> 1.7097645</td><td>8.933597e-04</td></tr>\n",
       "\t<tr><td>chr1 </td><td>MCL1    </td><td>ENSG00000143384.13</td><td>150577332</td><td>150577381</td><td> 1.1328455</td><td>2.191564e-03</td></tr>\n",
       "\t<tr><td>chr1 </td><td>MCL1    </td><td>ENSG00000143384.13</td><td>150578994</td><td>150579043</td><td>-0.6120545</td><td>8.583863e-04</td></tr>\n",
       "\t<tr><td>chr15</td><td>MEIS2   </td><td>ENSG00000134138.20</td><td> 36891248</td><td> 36891297</td><td> 4.3944492</td><td>3.424658e-06</td></tr>\n",
       "\t<tr><td>chr1 </td><td>MTF1    </td><td>ENSG00000188786.10</td><td> 37822305</td><td> 37822354</td><td> 5.4553211</td><td>9.373189e-07</td></tr>\n",
       "\t<tr><td>chr1 </td><td>MTF1    </td><td>ENSG00000188786.10</td><td> 37857674</td><td> 37858501</td><td>-1.7429693</td><td>4.859270e-04</td></tr>\n",
       "\t<tr><td>chr8 </td><td>SQLE    </td><td>ENSG00000104549.12</td><td>124999289</td><td>124999338</td><td> 1.1132780</td><td>2.353447e-04</td></tr>\n",
       "\t<tr><td>chr2 </td><td>UBXN4   </td><td>ENSG00000144224.17</td><td>135783158</td><td>135783207</td><td>-6.3007858</td><td>2.931302e-04</td></tr>\n",
       "</tbody>\n",
       "</table>\n"
      ],
      "text/latex": [
       "A data.frame: 24 × 7\n",
       "\\begin{tabular}{lllllll}\n",
       " chr & name & ensembl & start & end & logFC & p\\_value\\\\\n",
       " <chr> & <chr> & <chr> & <int> & <int> & <dbl> & <dbl>\\\\\n",
       "\\hline\n",
       "\t chr1  & ARID4B   & ENSG00000054267.22 & 235181852 & 235181901 & -5.3798974 & 1.090897e-04\\\\\n",
       "\t chr1  & ARID4B   & ENSG00000054267.22 & 235131933 & 235135686 &  4.8751973 & 4.258416e-08\\\\\n",
       "\t chr1  & ARID4B   & ENSG00000054267.22 & 235131734 & 235131783 & -1.3734279 & 3.928503e-03\\\\\n",
       "\t chrX  & ATRX     & ENSG00000085224.22 &  77685000 &  77688860 & -5.4510385 & 2.353828e-03\\\\\n",
       "\t chrX  & ATRX     & ENSG00000085224.22 &  77682758 &  77682807 &  5.2882670 & 8.854450e-04\\\\\n",
       "\t chrX  & ATRX     & ENSG00000085224.22 &  77673994 &  77674043 &  4.8040210 & 2.639629e-05\\\\\n",
       "\t chrX  & ATRX     & ENSG00000085224.22 &  77521478 &  77521527 &  4.4659081 & 3.829439e-03\\\\\n",
       "\t chrX  & ATRX     & ENSG00000085224.22 &  77681660 &  77681709 & -2.9387636 & 4.730416e-05\\\\\n",
       "\t chrX  & ATRX     & ENSG00000085224.22 &  77682060 &  77682109 & -0.7539954 & 3.139958e-03\\\\\n",
       "\t chrX  & BCORL1   & ENSG00000085185.15 & 130015980 & 130016029 &  1.9904690 & 2.574042e-03\\\\\n",
       "\t chr22 & C22orf46 & ENSG00000184208.12 &  41696192 &  41696241 &  1.4476274 & 4.559666e-04\\\\\n",
       "\t chr22 & C22orf46 & ENSG00000184208.12 &  41694196 &  41694245 &  0.9300172 & 6.599203e-04\\\\\n",
       "\t chr22 & C22orf46 & ENSG00000184208.12 &  41697488 &  41697537 & -0.7263912 & 5.542018e-04\\\\\n",
       "\t chr11 & INTS5    & ENSG00000185085.2  &  62649635 &  62649684 &  3.2958369 & 3.832111e-04\\\\\n",
       "\t chr11 & INTS5    & ENSG00000185085.2  &  62647794 &  62647843 &  1.0576988 & 6.092647e-04\\\\\n",
       "\t chr6  & MARCKS   & ENSG00000277443.3  & 113860579 & 113860628 & -0.7555004 & 7.291891e-04\\\\\n",
       "\t chr1  & MCL1     & ENSG00000143384.13 & 150577084 & 150577133 &  1.7097645 & 8.933597e-04\\\\\n",
       "\t chr1  & MCL1     & ENSG00000143384.13 & 150577332 & 150577381 &  1.1328455 & 2.191564e-03\\\\\n",
       "\t chr1  & MCL1     & ENSG00000143384.13 & 150578994 & 150579043 & -0.6120545 & 8.583863e-04\\\\\n",
       "\t chr15 & MEIS2    & ENSG00000134138.20 &  36891248 &  36891297 &  4.3944492 & 3.424658e-06\\\\\n",
       "\t chr1  & MTF1     & ENSG00000188786.10 &  37822305 &  37822354 &  5.4553211 & 9.373189e-07\\\\\n",
       "\t chr1  & MTF1     & ENSG00000188786.10 &  37857674 &  37858501 & -1.7429693 & 4.859270e-04\\\\\n",
       "\t chr8  & SQLE     & ENSG00000104549.12 & 124999289 & 124999338 &  1.1132780 & 2.353447e-04\\\\\n",
       "\t chr2  & UBXN4    & ENSG00000144224.17 & 135783158 & 135783207 & -6.3007858 & 2.931302e-04\\\\\n",
       "\\end{tabular}\n"
      ],
      "text/markdown": [
       "\n",
       "A data.frame: 24 × 7\n",
       "\n",
       "| chr &lt;chr&gt; | name &lt;chr&gt; | ensembl &lt;chr&gt; | start &lt;int&gt; | end &lt;int&gt; | logFC &lt;dbl&gt; | p_value &lt;dbl&gt; |\n",
       "|---|---|---|---|---|---|---|\n",
       "| chr1  | ARID4B   | ENSG00000054267.22 | 235181852 | 235181901 | -5.3798974 | 1.090897e-04 |\n",
       "| chr1  | ARID4B   | ENSG00000054267.22 | 235131933 | 235135686 |  4.8751973 | 4.258416e-08 |\n",
       "| chr1  | ARID4B   | ENSG00000054267.22 | 235131734 | 235131783 | -1.3734279 | 3.928503e-03 |\n",
       "| chrX  | ATRX     | ENSG00000085224.22 |  77685000 |  77688860 | -5.4510385 | 2.353828e-03 |\n",
       "| chrX  | ATRX     | ENSG00000085224.22 |  77682758 |  77682807 |  5.2882670 | 8.854450e-04 |\n",
       "| chrX  | ATRX     | ENSG00000085224.22 |  77673994 |  77674043 |  4.8040210 | 2.639629e-05 |\n",
       "| chrX  | ATRX     | ENSG00000085224.22 |  77521478 |  77521527 |  4.4659081 | 3.829439e-03 |\n",
       "| chrX  | ATRX     | ENSG00000085224.22 |  77681660 |  77681709 | -2.9387636 | 4.730416e-05 |\n",
       "| chrX  | ATRX     | ENSG00000085224.22 |  77682060 |  77682109 | -0.7539954 | 3.139958e-03 |\n",
       "| chrX  | BCORL1   | ENSG00000085185.15 | 130015980 | 130016029 |  1.9904690 | 2.574042e-03 |\n",
       "| chr22 | C22orf46 | ENSG00000184208.12 |  41696192 |  41696241 |  1.4476274 | 4.559666e-04 |\n",
       "| chr22 | C22orf46 | ENSG00000184208.12 |  41694196 |  41694245 |  0.9300172 | 6.599203e-04 |\n",
       "| chr22 | C22orf46 | ENSG00000184208.12 |  41697488 |  41697537 | -0.7263912 | 5.542018e-04 |\n",
       "| chr11 | INTS5    | ENSG00000185085.2  |  62649635 |  62649684 |  3.2958369 | 3.832111e-04 |\n",
       "| chr11 | INTS5    | ENSG00000185085.2  |  62647794 |  62647843 |  1.0576988 | 6.092647e-04 |\n",
       "| chr6  | MARCKS   | ENSG00000277443.3  | 113860579 | 113860628 | -0.7555004 | 7.291891e-04 |\n",
       "| chr1  | MCL1     | ENSG00000143384.13 | 150577084 | 150577133 |  1.7097645 | 8.933597e-04 |\n",
       "| chr1  | MCL1     | ENSG00000143384.13 | 150577332 | 150577381 |  1.1328455 | 2.191564e-03 |\n",
       "| chr1  | MCL1     | ENSG00000143384.13 | 150578994 | 150579043 | -0.6120545 | 8.583863e-04 |\n",
       "| chr15 | MEIS2    | ENSG00000134138.20 |  36891248 |  36891297 |  4.3944492 | 3.424658e-06 |\n",
       "| chr1  | MTF1     | ENSG00000188786.10 |  37822305 |  37822354 |  5.4553211 | 9.373189e-07 |\n",
       "| chr1  | MTF1     | ENSG00000188786.10 |  37857674 |  37858501 | -1.7429693 | 4.859270e-04 |\n",
       "| chr8  | SQLE     | ENSG00000104549.12 | 124999289 | 124999338 |  1.1132780 | 2.353447e-04 |\n",
       "| chr2  | UBXN4    | ENSG00000144224.17 | 135783158 | 135783207 | -6.3007858 | 2.931302e-04 |\n",
       "\n"
      ],
      "text/plain": [
       "   chr   name     ensembl            start     end       logFC     \n",
       "1  chr1  ARID4B   ENSG00000054267.22 235181852 235181901 -5.3798974\n",
       "2  chr1  ARID4B   ENSG00000054267.22 235131933 235135686  4.8751973\n",
       "3  chr1  ARID4B   ENSG00000054267.22 235131734 235131783 -1.3734279\n",
       "4  chrX  ATRX     ENSG00000085224.22  77685000  77688860 -5.4510385\n",
       "5  chrX  ATRX     ENSG00000085224.22  77682758  77682807  5.2882670\n",
       "6  chrX  ATRX     ENSG00000085224.22  77673994  77674043  4.8040210\n",
       "7  chrX  ATRX     ENSG00000085224.22  77521478  77521527  4.4659081\n",
       "8  chrX  ATRX     ENSG00000085224.22  77681660  77681709 -2.9387636\n",
       "9  chrX  ATRX     ENSG00000085224.22  77682060  77682109 -0.7539954\n",
       "10 chrX  BCORL1   ENSG00000085185.15 130015980 130016029  1.9904690\n",
       "11 chr22 C22orf46 ENSG00000184208.12  41696192  41696241  1.4476274\n",
       "12 chr22 C22orf46 ENSG00000184208.12  41694196  41694245  0.9300172\n",
       "13 chr22 C22orf46 ENSG00000184208.12  41697488  41697537 -0.7263912\n",
       "14 chr11 INTS5    ENSG00000185085.2   62649635  62649684  3.2958369\n",
       "15 chr11 INTS5    ENSG00000185085.2   62647794  62647843  1.0576988\n",
       "16 chr6  MARCKS   ENSG00000277443.3  113860579 113860628 -0.7555004\n",
       "17 chr1  MCL1     ENSG00000143384.13 150577084 150577133  1.7097645\n",
       "18 chr1  MCL1     ENSG00000143384.13 150577332 150577381  1.1328455\n",
       "19 chr1  MCL1     ENSG00000143384.13 150578994 150579043 -0.6120545\n",
       "20 chr15 MEIS2    ENSG00000134138.20  36891248  36891297  4.3944492\n",
       "21 chr1  MTF1     ENSG00000188786.10  37822305  37822354  5.4553211\n",
       "22 chr1  MTF1     ENSG00000188786.10  37857674  37858501 -1.7429693\n",
       "23 chr8  SQLE     ENSG00000104549.12 124999289 124999338  1.1132780\n",
       "24 chr2  UBXN4    ENSG00000144224.17 135783158 135783207 -6.3007858\n",
       "   p_value     \n",
       "1  1.090897e-04\n",
       "2  4.258416e-08\n",
       "3  3.928503e-03\n",
       "4  2.353828e-03\n",
       "5  8.854450e-04\n",
       "6  2.639629e-05\n",
       "7  3.829439e-03\n",
       "8  4.730416e-05\n",
       "9  3.139958e-03\n",
       "10 2.574042e-03\n",
       "11 4.559666e-04\n",
       "12 6.599203e-04\n",
       "13 5.542018e-04\n",
       "14 3.832111e-04\n",
       "15 6.092647e-04\n",
       "16 7.291891e-04\n",
       "17 8.933597e-04\n",
       "18 2.191564e-03\n",
       "19 8.583863e-04\n",
       "20 3.424658e-06\n",
       "21 9.373189e-07\n",
       "22 4.859270e-04\n",
       "23 2.353447e-04\n",
       "24 2.931302e-04"
      ]
     },
     "metadata": {},
     "output_type": "display_data"
    }
   ],
   "source": [
    "suppressMessages(suppressWarnings(library (tidyverse)))\n",
    "\n",
    "selected_genes = c(\n",
    "    ## target genes (round 1)\n",
    "    'MTF1','MCL1',\n",
    "    # 'CYLD','APLP2',\n",
    "    ## target genes (round 2)\n",
    "    'SQLE','INTS5',\n",
    "    ## 'WP_PATHWAYS_AFFECTED_IN_ADENOID_CYSTIC_CARCINOMA':\n",
    "    # 'KMT2C','FBXW7','BCOR','ARID5B','PTEN','NOTCH1','ATM','PIK3CA',\n",
    "    'ARID4B','ATRX','BCORL1',\n",
    "    ## 'MIR3925_3P'\n",
    "    'FLAD1',\n",
    "    'MEIS2',\n",
    "    'MARCKS',\n",
    "    'NFE2L1',\n",
    "    'MAP3K3',\n",
    "    'C22orf46',\n",
    "    'UBXN4',\n",
    "    'CELF2'\n",
    ")\n",
    "\n",
    "read.table('hl60_delta_mtyl_table.txt',sep='\\t',header=TRUE) %>% \n",
    "    dplyr::filter(name %in% selected_genes) %>% \n",
    "    dplyr::select(chr, name,ensembl,start,end,logFC,p_value) %>% \n",
    "    arrange (name, desc(abs(logFC)),p_value)"
   ]
  },
  {
   "cell_type": "markdown",
   "id": "bb1a7d60-8a66-4386-9287-084b9c23be84",
   "metadata": {
    "tags": []
   },
   "source": [
    "## Plot Gene and Peak Coverage"
   ]
  },
  {
   "cell_type": "markdown",
   "id": "3e8e8477-3ddf-4d5f-b293-106a5179db25",
   "metadata": {
    "tags": []
   },
   "source": [
    "### \n",
    "`radar` conda env"
   ]
  },
  {
   "cell_type": "code",
   "execution_count": 1,
   "id": "d226195a-3c5d-4bda-af47-86e716bf8ba0",
   "metadata": {},
   "outputs": [],
   "source": [
    "%load_ext rpy2.ipython"
   ]
  },
  {
   "cell_type": "code",
   "execution_count": 2,
   "id": "9ec769a1-c0e8-4916-b5c0-31b1b249d636",
   "metadata": {},
   "outputs": [],
   "source": [
    "%%R \n",
    "suppressMessages(suppressWarnings(library (RADAR)))\n",
    "suppressMessages(suppressWarnings(library (patchwork)))"
   ]
  },
  {
   "cell_type": "code",
   "execution_count": 3,
   "id": "ac0ba887-24e1-4c2f-9201-fa0e63d9cb78",
   "metadata": {},
   "outputs": [],
   "source": [
    "%%R\n",
    "radar0 <- readRDS('radar/finalObj.rds')"
   ]
  },
  {
   "cell_type": "code",
   "execution_count": 4,
   "id": "a881a245-d777-4123-b0bf-d774e85d553e",
   "metadata": {},
   "outputs": [],
   "source": [
    "%%R\n",
    "radar <- PrepCoveragePlot(radar0)"
   ]
  },
  {
   "cell_type": "code",
   "execution_count": 5,
   "id": "4177279b-0112-4a36-b0be-15c74d1d7d2d",
   "metadata": {},
   "outputs": [
    {
     "name": "stdout",
     "output_type": "stream",
     "text": [
      "MeRIP.RADAR dataset of 4 samples.\n",
      "Read count quantified in 50-bp consecutive bins on the transcript.\n",
      "The total read count for Input and IP samples are (Million reads):\n",
      "         U1    U2    T1    T2\n",
      "Input 29.95 37.35 33.16 29.93\n",
      "IP    38.34 36.35 43.09 44.55\n",
      "Input gene level read count available.\n",
      "There are 1 predictor variables/covariates. Can access by function variable(MeRIPdata). \n",
      "Differential methylation tested by PoissonGamma test (RADAR).\n",
      "Multiple test corrected by Benjamini & Hochberg.\n"
     ]
    }
   ],
   "source": [
    "%%R \n",
    "summary(radar)"
   ]
  },
  {
   "cell_type": "markdown",
   "id": "70cebffb-1073-4861-8e10-88700fe6b9bb",
   "metadata": {
    "jp-MarkdownHeadingCollapsed": true,
    "tags": []
   },
   "source": [
    "### [ARID4B](https://www.genecards.org/cgi-bin/carddisp.pl?gene=ARID4B)"
   ]
  },
  {
   "cell_type": "raw",
   "id": "87ba0f16-5e85-4443-a4a5-ae48712b93a6",
   "metadata": {},
   "source": [
    "#    # name            ensembl     start       end      logFC      p_value\n",
    "# 2  ARID4B ENSG00000054267.22 235181852 235181901 -5.3798974 1.090897e-04\n",
    "# 3  ARID4B ENSG00000054267.22 235131933 235135686  4.8751973 4.258416e-08\n",
    "# 4  ARID4B ENSG00000054267.22 235131734 235131783 -1.3734279 3.928503e-03"
   ]
  },
  {
   "cell_type": "code",
   "execution_count": 57,
   "id": "32364fbc-964c-40fa-bef1-4dd0f3eab084",
   "metadata": {},
   "outputs": [],
   "source": [
    "%%R \n",
    "ZoomIn_peak = c(235181852,235181901 + 30)\n",
    "geneName <- 'ENSG00000054267.22'\n",
    "chr <- \"chr1\"\n",
    "title <- 'ARID4B'\n",
    "ymax <- 500\n",
    "\n",
    "gr = radar@GTF[seqnames(radar@GTF) == chr & radar@GTF$type == 'gene' & radar@GTF$gene_id == geneName]\n",
    "ZoomIn_gene = c(start (gr),end (gr))"
   ]
  },
  {
   "cell_type": "code",
   "execution_count": 58,
   "id": "2e3cd687-b8d5-43f0-9c7a-f0f8c2500c72",
   "metadata": {},
   "outputs": [],
   "source": [
    "%%R \n",
    "\n",
    "p_peak <- plotGeneCov(\n",
    "    radar,geneName = geneName,\n",
    "    center = mean, libraryType = \"opposite\",\n",
    "    ZoomIn = c(\n",
    "        ZoomIn_peak[1],\n",
    "        ZoomIn_peak[2]\n",
    "    ), adjustExprLevel = T\n",
    "    #, split = T\n",
    ") + theme_classic() +\n",
    "# theme_void() + \n",
    "theme(\n",
    "    legend.position = \"none\",    \n",
    "    axis.text.x = element_text(angle = 30, vjust = 1,hjust=1)\n",
    ") + ggtitle(title)"
   ]
  },
  {
   "cell_type": "code",
   "execution_count": 59,
   "id": "ad0296fc-eed0-4ffa-b0fe-acc95ff9b3d0",
   "metadata": {},
   "outputs": [
    {
     "name": "stderr",
     "output_type": "stream",
     "text": [
      "WARNING:rpy2.rinterface_lib.callbacks:R[write to console]: Scale for 'y' is already present. Adding another scale for 'y', which will\n",
      "replace the existing scale.\n",
      "\n"
     ]
    }
   ],
   "source": [
    "%%R \n",
    "\n",
    "p_gene <- plotGeneCov(\n",
    "    radar,geneName = geneName,\n",
    "    center = mean, libraryType = \"opposite\",\n",
    "    ZoomIn = ZoomIn_gene, adjustExprLevel = T\n",
    "    #, split = T\n",
    ") + theme_classic() + theme(\n",
    "    axis.text.x = element_text(angle = 30, vjust = 1,hjust=1)\n",
    ") + geom_vline(\n",
    "    xintercept = ZoomIn_peak[1], colour=\"lightgrey\", linetype = \"longdash\"\n",
    ") + geom_vline(\n",
    "    xintercept = ZoomIn_peak[2], colour=\"lightgrey\", linetype = \"longdash\"\n",
    ") + ylim(0,ymax) "
   ]
  },
  {
   "cell_type": "code",
   "execution_count": 60,
   "id": "dc776022-f3b4-44b9-ba03-8b02462c1a75",
   "metadata": {},
   "outputs": [
    {
     "data": {
      "image/png": "[encoded data removed]"
     },
     "metadata": {},
     "output_type": "display_data"
    }
   ],
   "source": [
    "%%R \n",
    "p_peak / p_gene"
   ]
  },
  {
   "cell_type": "code",
   "execution_count": 61,
   "id": "6a080b29-77e8-452e-b283-c5fdc0b38532",
   "metadata": {},
   "outputs": [],
   "source": [
    "%%R \n",
    "ggsave(paste0('plots/coverage_',title,'.eps'),p_peak / p_gene,width=10,height=5,dpi=600,device=cairo_ps)"
   ]
  },
  {
   "cell_type": "markdown",
   "id": "c4b9ed67-f80e-4a18-8c0c-7abd68818ceb",
   "metadata": {
    "tags": []
   },
   "source": [
    "### [ATRX](https://www.genecards.org/cgi-bin/carddisp.pl?gene=ATRX)\n"
   ]
  },
  {
   "cell_type": "raw",
   "id": "ba1c2e3a-5e19-4823-a75e-c1ae88195e3d",
   "metadata": {},
   "source": [
    "    # name            ensembl     start       end      logFC      p_value\n",
    "# 6    ATRX ENSG00000085224.22  77685000  77688860 -5.4510385 2.353828e-03\n",
    "# 7    ATRX ENSG00000085224.22  77682758  77682807  5.2882670 8.854450e-04\n",
    "# 8    ATRX ENSG00000085224.22  77673994  77674043  4.8040210 2.639629e-05\n",
    "# 9    ATRX ENSG00000085224.22  77521478  77521527  4.4659081 3.829439e-03\n",
    "# 10   ATRX ENSG00000085224.22  77681660  77681709 -2.9387636 4.730416e-05\n",
    "# 11   ATRX ENSG00000085224.22  77682060  77682109 -0.7539954 3.139958e-03\n"
   ]
  },
  {
   "cell_type": "code",
   "execution_count": 62,
   "id": "91630df3-6068-4347-bc0a-ee8cf79fb4c5",
   "metadata": {
    "tags": []
   },
   "outputs": [],
   "source": [
    "%%R \n",
    "ZoomIn_peak = c(77681660,77681709 + 30)\n",
    "geneName <- 'ENSG00000085224.22'\n",
    "chr <- \"chrX\"\n",
    "title <- 'ATRX'\n",
    "ymax <- 500\n",
    "\n",
    "gr = radar@GTF[seqnames(radar@GTF) == chr & radar@GTF$type == 'gene' & radar@GTF$gene_id == geneName]\n",
    "ZoomIn_gene = c(start (gr),end (gr))"
   ]
  },
  {
   "cell_type": "code",
   "execution_count": 63,
   "id": "7a03eac1-8492-4315-9f7e-44cc79a6beda",
   "metadata": {
    "tags": []
   },
   "outputs": [],
   "source": [
    "%%R \n",
    "\n",
    "\n",
    "p_peak <- plotGeneCov(\n",
    "    radar,geneName = geneName,\n",
    "    center = mean, libraryType = \"opposite\",\n",
    "    ZoomIn = c(\n",
    "        ZoomIn_peak[1],\n",
    "        ZoomIn_peak[2]\n",
    "    ), adjustExprLevel = T\n",
    "    #, split = T\n",
    ") + theme_classic() +\n",
    "# theme_void() + \n",
    "theme(\n",
    "    legend.position = \"none\",    \n",
    "    axis.text.x = element_text(angle = 30, vjust = 1,hjust=1)\n",
    ") + ggtitle(title)"
   ]
  },
  {
   "cell_type": "code",
   "execution_count": 64,
   "id": "c36f3cf0-c98f-4785-8cfc-8b248734194a",
   "metadata": {
    "tags": []
   },
   "outputs": [
    {
     "name": "stderr",
     "output_type": "stream",
     "text": [
      "WARNING:rpy2.rinterface_lib.callbacks:R[write to console]: Scale for 'y' is already present. Adding another scale for 'y', which will\n",
      "replace the existing scale.\n",
      "\n"
     ]
    }
   ],
   "source": [
    "%%R \n",
    "\n",
    "\n",
    "p_gene <- plotGeneCov(\n",
    "    radar,geneName = geneName,\n",
    "    center = mean, libraryType = \"opposite\",\n",
    "    ZoomIn = ZoomIn_gene, adjustExprLevel = T\n",
    "    #, split = T\n",
    ") + theme_classic() + theme(\n",
    "    axis.text.x = element_text(angle = 30, vjust = 1,hjust=1)\n",
    ") + geom_vline(\n",
    "    xintercept = ZoomIn_peak[1], colour=\"lightgrey\", linetype = \"longdash\"\n",
    ") + geom_vline(\n",
    "    xintercept = ZoomIn_peak[2] - 1000, colour=\"lightgrey\", linetype = \"longdash\"\n",
    ") + ylim(0,ymax) "
   ]
  },
  {
   "cell_type": "code",
   "execution_count": 66,
   "id": "1e00ff64-2482-4687-b5f0-763bf7dba262",
   "metadata": {
    "tags": []
   },
   "outputs": [
    {
     "data": {
      "image/png": "[encoded data removed]"
     },
     "metadata": {},
     "output_type": "display_data"
    }
   ],
   "source": [
    "%%R \n",
    "p_peak / p_gene"
   ]
  },
  {
   "cell_type": "code",
   "execution_count": 67,
   "id": "5f4c1c04-6414-42ec-938a-fed78847b214",
   "metadata": {},
   "outputs": [],
   "source": [
    "%%R \n",
    "ggsave(paste0('plots/coverage_',title,'.eps'),p_peak / p_gene,width=10,height=5,dpi=600,device=cairo_ps)"
   ]
  },
  {
   "cell_type": "markdown",
   "id": "7f5b9932-f1d7-437b-a543-768080515f11",
   "metadata": {
    "tags": []
   },
   "source": [
    "### [SQLE](https://www.genecards.org/cgi-bin/carddisp.pl?gene=SQLE)"
   ]
  },
  {
   "cell_type": "raw",
   "id": "50816fbc-c12c-45c8-be34-95f7c3792715",
   "metadata": {},
   "source": [
    "# name            ensembl     start       end      logFC      p_value\n",
    "29   SQLE ENSG00000104549.12 124999289 124999338  1.1132780 2.353447e-04"
   ]
  },
  {
   "cell_type": "code",
   "execution_count": 110,
   "id": "e196cf65-1656-4b16-8d3f-402c2959f7c4",
   "metadata": {},
   "outputs": [],
   "source": [
    "%%R \n",
    "ZoomIn_peak = c(124999289, 124999338 + 40)\n",
    "geneName <- 'ENSG00000104549.12'\n",
    "chr <- \"chr8\"\n",
    "title <- 'SQLE'\n",
    "ymax <- 500\n",
    "\n",
    "gr = radar@GTF[seqnames(radar@GTF) == chr & radar@GTF$type == 'gene' & radar@GTF$gene_id == geneName]\n",
    "ZoomIn_gene = c(start (gr),end (gr))"
   ]
  },
  {
   "cell_type": "code",
   "execution_count": 115,
   "id": "4358e3fb-0a7c-4699-bd04-7f423a2045bb",
   "metadata": {},
   "outputs": [],
   "source": [
    "%%R \n",
    "p_peak <- plotGeneCov(\n",
    "    radar,geneName = geneName,\n",
    "    center = mean, libraryType = \"opposite\",\n",
    "    ZoomIn = c(\n",
    "        ZoomIn_peak[1],\n",
    "        ZoomIn_peak[2]\n",
    "    ), adjustExprLevel = T\n",
    "    #, split = T\n",
    ") + theme_classic() +\n",
    "# theme_void() + \n",
    "theme(\n",
    "    legend.position = \"none\",    \n",
    "    axis.text.x = element_text(angle = 30, vjust = 1,hjust=1)\n",
    ") + ggtitle(title)"
   ]
  },
  {
   "cell_type": "code",
   "execution_count": 118,
   "id": "03e2328e-29cc-44d8-9114-6edeef0ba86d",
   "metadata": {},
   "outputs": [
    {
     "name": "stderr",
     "output_type": "stream",
     "text": [
      "WARNING:rpy2.rinterface_lib.callbacks:R[write to console]: Scale for 'y' is already present. Adding another scale for 'y', which will\n",
      "replace the existing scale.\n",
      "\n"
     ]
    }
   ],
   "source": [
    "%%R \n",
    "\n",
    "\n",
    "\n",
    "p_gene <- plotGeneCov(\n",
    "    radar,geneName = geneName,\n",
    "    center = mean, libraryType = \"opposite\",\n",
    "    ZoomIn = ZoomIn_gene, adjustExprLevel = T\n",
    "    #, split = T\n",
    ") + theme_classic() + theme(\n",
    "    axis.text.x = element_text(angle = 30, vjust = 1,hjust=1)\n",
    ") + geom_vline(\n",
    "    xintercept = ZoomIn_peak[1], colour=\"lightgrey\", linetype = \"longdash\"\n",
    ") + geom_vline(\n",
    "    xintercept = ZoomIn_peak[2] - 1000, colour=\"lightgrey\", linetype = \"longdash\"\n",
    ") + ylim(0,ymax) "
   ]
  },
  {
   "cell_type": "code",
   "execution_count": 119,
   "id": "f7f2e63a-b37a-4b54-b159-dcd17a0a2bed",
   "metadata": {},
   "outputs": [
    {
     "data": {
      "image/png": "[encoded data removed]"
     },
     "metadata": {},
     "output_type": "display_data"
    }
   ],
   "source": [
    "%%R \n",
    "p_peak / p_gene"
   ]
  },
  {
   "cell_type": "code",
   "execution_count": 120,
   "id": "ee2d21be-fefc-4329-bdad-3bafa5a7119a",
   "metadata": {},
   "outputs": [],
   "source": [
    "%%R \n",
    "ggsave(paste0('plots/coverage_',title,'.eps'),p_peak / p_gene,width=10,height=5,dpi=600,device=cairo_ps)"
   ]
  },
  {
   "cell_type": "markdown",
   "id": "2bcc8cdf-cde6-4136-9aab-f31a288ac43f",
   "metadata": {
    "tags": []
   },
   "source": [
    "### [INTS5](https://www.genecards.org/cgi-bin/carddisp.pl?gene=INTS5)"
   ]
  },
  {
   "cell_type": "raw",
   "id": "429cf853-3729-430d-9db6-cf94f0823761",
   "metadata": {},
   "source": [
    "    chr\tname\tensembl\tstart\tend\tlogFC\tp_value\n",
    "chr11\tINTS5\tENSG00000185085.2\t62649635\t62649684\t3.2958369\t3.832111e-04\n",
    "chr11\tINTS5\tENSG00000185085.2\t62647794\t62647843\t1.0576988\t6.092647e-04"
   ]
  },
  {
   "cell_type": "code",
   "execution_count": 122,
   "id": "3648e2f4-1243-4aed-a15c-32ba546a57b8",
   "metadata": {},
   "outputs": [],
   "source": [
    "%%R \n",
    "ZoomIn_peak = c(62649635,62649684)\n",
    "geneName <- 'ENSG00000185085.2'\n",
    "chr <- \"chr11\"\n",
    "title <- 'INTS5'\n",
    "ymax <- 500\n",
    "\n",
    "gr = radar@GTF[seqnames(radar@GTF) == chr & radar@GTF$type == 'gene' & radar@GTF$gene_id == geneName]\n",
    "ZoomIn_gene = c(start (gr),end (gr))"
   ]
  },
  {
   "cell_type": "code",
   "execution_count": 123,
   "id": "0c34425e-c751-4a50-b746-fadb5792b675",
   "metadata": {},
   "outputs": [],
   "source": [
    "%%R \n",
    "\n",
    "p_peak <- plotGeneCov(\n",
    "    radar,geneName = geneName,\n",
    "    center = mean, libraryType = \"opposite\",\n",
    "    ZoomIn = c(\n",
    "        ZoomIn_peak[1] - 30,\n",
    "        ZoomIn_peak[2] - 10\n",
    "    ), adjustExprLevel = T\n",
    "    #, split = T\n",
    ") + theme_classic() +\n",
    "# theme_void() + \n",
    "theme(\n",
    "    legend.position = \"none\",    \n",
    "    axis.text.x = element_text(angle = 30, vjust = 1,hjust=1)\n",
    ") + ggtitle(title)"
   ]
  },
  {
   "cell_type": "code",
   "execution_count": 124,
   "id": "bd1eb481-e694-4f3c-a139-d64cab3685e2",
   "metadata": {},
   "outputs": [
    {
     "name": "stderr",
     "output_type": "stream",
     "text": [
      "WARNING:rpy2.rinterface_lib.callbacks:R[write to console]: Scale for 'y' is already present. Adding another scale for 'y', which will\n",
      "replace the existing scale.\n",
      "\n"
     ]
    }
   ],
   "source": [
    "%%R \n",
    "\n",
    "\n",
    "p_gene <- plotGeneCov(\n",
    "    radar,geneName = geneName,\n",
    "    center = mean, libraryType = \"opposite\",\n",
    "    ZoomIn = ZoomIn_gene, adjustExprLevel = T\n",
    "    #, split = T\n",
    ") + theme_classic() + theme(\n",
    "    axis.text.x = element_text(angle = 30, vjust = 1,hjust=1)\n",
    ") + geom_vline(\n",
    "    xintercept = ZoomIn_peak[1], colour=\"lightgrey\", linetype = \"longdash\"\n",
    ") + geom_vline(\n",
    "    xintercept = ZoomIn_peak[2], colour=\"lightgrey\", linetype = \"longdash\"\n",
    ") + ylim(0,ymax) "
   ]
  },
  {
   "cell_type": "code",
   "execution_count": 125,
   "id": "725fa3ce-d11d-40d8-a710-fa67a8c66c56",
   "metadata": {},
   "outputs": [
    {
     "data": {
      "image/png": "[encoded data removed]"
     },
     "metadata": {},
     "output_type": "display_data"
    }
   ],
   "source": [
    "%%R \n",
    "p_peak / p_gene"
   ]
  },
  {
   "cell_type": "code",
   "execution_count": 126,
   "id": "a80df136-903c-4a78-823b-1be586d77179",
   "metadata": {},
   "outputs": [],
   "source": [
    "%%R \n",
    "ggsave(paste0('plots/coverage_',title,'.eps'),p_peak / p_gene,width=10,height=5,dpi=600,device=cairo_ps)"
   ]
  },
  {
   "cell_type": "markdown",
   "id": "b917c1ad-3458-4d5d-8eee-44b0859116c2",
   "metadata": {
    "jp-MarkdownHeadingCollapsed": true,
    "tags": []
   },
   "source": [
    "### [BCORL1](https://www.genecards.org/cgi-bin/carddisp.pl?gene=BCORL1)\n"
   ]
  },
  {
   "cell_type": "raw",
   "id": "7669a753-209b-4237-94ca-3277a390b89d",
   "metadata": {},
   "source": [
    "# name            ensembl     start       end      logFC      p_value\n",
    "12   BCOR ENSG00000183337.17  40052268  40052317 -4.9698133 2.229620e-03\n",
    "13 BCORL1 ENSG00000085185.15 130015980 130016029  1.9904690 2.574042e-03"
   ]
  },
  {
   "cell_type": "markdown",
   "id": "a24b6738-d835-400e-b96a-5fd45d1ad463",
   "metadata": {
    "jp-MarkdownHeadingCollapsed": true,
    "tags": []
   },
   "source": [
    "### [MCL1](https://www.genecards.org/cgi-bin/carddisp.pl?gene=MCL1)"
   ]
  },
  {
   "cell_type": "raw",
   "id": "511ffd11-8436-468f-a757-d1f08a92a50a",
   "metadata": {},
   "source": [
    "# name            ensembl     start       end      logFC      p_value\n",
    "20   MCL1 ENSG00000143384.13 150577084 150577133  1.7097645 8.933597e-04\n",
    "21   MCL1 ENSG00000143384.13 150577332 150577381  1.1328455 2.191564e-03\n",
    "22   MCL1 ENSG00000143384.13 150578994 150579043 -0.6120545 8.583863e-04"
   ]
  },
  {
   "cell_type": "markdown",
   "id": "4050f011-2a50-4a13-b105-3b64129175d3",
   "metadata": {
    "jp-MarkdownHeadingCollapsed": true,
    "tags": []
   },
   "source": [
    "### [MTF1](https://www.genecards.org/cgi-bin/carddisp.pl?gene=MTF1)\n"
   ]
  },
  {
   "cell_type": "raw",
   "id": "dcdfea0a-4e65-4582-9789-006bdd0b129a",
   "metadata": {},
   "source": [
    "# name            ensembl     start       end      logFC      p_value\n",
    "23   MTF1 ENSG00000188786.10  37822305  37822354  5.4553211 9.373189e-07\n",
    "24   MTF1 ENSG00000188786.10  37857674  37858501 -1.7429693 4.859270e-04"
   ]
  },
  {
   "cell_type": "markdown",
   "id": "6c55e67a-adf2-4581-a66c-4cf319bb6000",
   "metadata": {
    "tags": []
   },
   "source": [
    "### [gene](https://www.genecards.org/cgi-bin/carddisp.pl?gene=gene)\n"
   ]
  },
  {
   "cell_type": "raw",
   "id": "fe6555cd-e52a-4ccb-b81b-6cc404a46ade",
   "metadata": {},
   "source": [
    "    name\tensembl\tstart\tend\tlogFC\tp_value\n",
    "C22orf46\tENSG00000184208.12\t41696192\t41696241\t1.4476274\t4.559666e-04\n",
    "C22orf46\tENSG00000184208.12\t41694196\t41694245\t0.9300172\t6.599203e-04\n",
    "C22orf46\tENSG00000184208.12\t41697488\t41697537\t-0.7263912\t5.542018e-04"
   ]
  },
  {
   "cell_type": "markdown",
   "id": "2be09ffb-009f-4d78-a457-79bf7c506c90",
   "metadata": {
    "tags": []
   },
   "source": [
    "### [gene](https://www.genecards.org/cgi-bin/carddisp.pl?gene=gene)\n"
   ]
  },
  {
   "cell_type": "raw",
   "id": "ef8eca5d-d82f-4d8e-9c22-7aeb75dca3c7",
   "metadata": {},
   "source": [
    "    name\tensembl\tstart\tend\tlogFC\tp_value\n",
    "MARCKS\tENSG00000277443.3\t113860579\t113860628\t-0.7555004\t7.291891e-04"
   ]
  },
  {
   "cell_type": "markdown",
   "id": "d61c22b6-5238-4ec0-9bbb-f806896fd40f",
   "metadata": {
    "tags": []
   },
   "source": [
    "### [gene](https://www.genecards.org/cgi-bin/carddisp.pl?gene=gene)\n"
   ]
  },
  {
   "cell_type": "raw",
   "id": "f775bece-ba0a-4a1c-ac21-afda1e76b9e4",
   "metadata": {},
   "source": [
    "    name\tensembl\tstart\tend\tlogFC\tp_value\n",
    "MEIS2\tENSG00000134138.20\t36891248\t36891297\t4.3944492\t3.424658e-06"
   ]
  },
  {
   "cell_type": "markdown",
   "id": "a7a1fcff-99ee-450d-a361-369431aaf843",
   "metadata": {
    "tags": []
   },
   "source": [
    "### [gene](https://www.genecards.org/cgi-bin/carddisp.pl?gene=gene)\n"
   ]
  },
  {
   "cell_type": "raw",
   "id": "fb552ca4-7365-42c1-b98e-14eb76f0c39d",
   "metadata": {},
   "source": [
    "    name\tensembl\tstart\tend\tlogFC\tp_value\n",
    "UBXN4\tENSG00000144224.17\t135783158\t135783207\t-6.3007858\t2.931302e-04"
   ]
  },
  {
   "cell_type": "markdown",
   "id": "e9051eaa-afa7-4a12-9b46-35285270e28b",
   "metadata": {
    "jp-MarkdownHeadingCollapsed": true,
    "tags": []
   },
   "source": [
    "### "
   ]
  },
  {
   "cell_type": "code",
   "execution_count": null,
   "id": "831b6b7a-79c6-4d5a-8abd-636de8eb5b1c",
   "metadata": {},
   "outputs": [],
   "source": [
    "%%R \n",
    "sessionInfo()"
   ]
  },
  {
   "cell_type": "markdown",
   "id": "391069ba-1856-4479-9c0e-4d5a109de862",
   "metadata": {
    "tags": []
   },
   "source": [
    "## Plot annotation track\n",
    "\n",
    "- https://www.biostars.org/p/184091"
   ]
  },
  {
   "cell_type": "markdown",
   "id": "e4aa923b-aade-4f8d-9be2-3d0cca37ffa8",
   "metadata": {},
   "source": [
    "`gviz` conda env"
   ]
  },
  {
   "cell_type": "code",
   "execution_count": 1,
   "id": "4dbb0d40-f765-48a6-bb06-67f6f53b50a6",
   "metadata": {},
   "outputs": [],
   "source": [
    "suppressMessages(suppressWarnings(library (Gviz)))\n",
    "suppressMessages(suppressWarnings(library (GenomicRanges)))\n",
    "suppressMessages(suppressWarnings(library (GenomicFeatures)))\n",
    "suppressMessages(suppressWarnings(library (tidyverse)))"
   ]
  },
  {
   "cell_type": "code",
   "execution_count": 2,
   "id": "25b20b93-c6aa-40c9-9e15-ec50b90b8ea4",
   "metadata": {},
   "outputs": [
    {
     "name": "stderr",
     "output_type": "stream",
     "text": [
      "Import genomic features from the file as a GRanges object ... \n",
      "OK\n",
      "\n",
      "Prepare the 'metadata' data frame ... \n",
      "OK\n",
      "\n",
      "Make the TxDb object ... \n",
      "Warning message in .get_cds_IDX(mcols0$type, mcols0$phase):\n",
      "\"The \"phase\" metadata column contains non-NA values for features of type\n",
      "  stop_codon. This information was ignored.\"\n",
      "OK\n",
      "\n"
     ]
    }
   ],
   "source": [
    "GTF = '~/genomes/hg38/gencode.v34/gencode.v34.annotation.gtf'\n",
    "\n",
    "gtf  = rtracklayer::import(GTF)\n",
    "txdb = GenomicFeatures::makeTxDbFromGFF(GTF,organism='Homo sapiens')"
   ]
  },
  {
   "cell_type": "code",
   "execution_count": 4,
   "id": "dcf2aa1b-28fa-41c1-b1d7-c292ae24b97b",
   "metadata": {
    "tags": []
   },
   "outputs": [],
   "source": [
    "plot_gene_tracks <- function(txdb, gene_id, title, ZoomIn_peak, gen='hg38',wide=0,save=NULL){\n",
    "    gn <- genes(txdb)[genes(txdb)$gene_id == gene_id]\n",
    "    \n",
    "    Start <- gn %>% start\n",
    "    End   <- gn %>% end\n",
    "\n",
    "    gr <- exonsBy(txdb, by = \"gene\")[c(gene_id)]\n",
    "    gr <- unlist(gr)\n",
    "\n",
    "    elementMetadata(gr)$transcript <- names(gr)\n",
    "\n",
    "    gtrack  <- GenomeAxisTrack()\n",
    "    itrack  <- IdeogramTrack(genome = gen, chromosome = seqnames(gn) %>% as.character, col=\"lightgrey\",fill=\"orangered\")\n",
    "    grtrack <- Gviz::GeneRegionTrack(\n",
    "        gr, \n",
    "        start = Start, end = End,\n",
    "        name=\"\",\n",
    "        background.panel = NA, \n",
    "        background.title = NA\n",
    "    )\n",
    "    \n",
    "    ht <- HighlightTrack(\n",
    "        trackList = list(gtrack,grtrack),\n",
    "        start = ZoomIn_peak[1] - wide, end = ZoomIn_peak[2] + wide,\n",
    "        chromosome = seqnames(gn) %>% as.character,\n",
    "        inBackground=FALSE,\n",
    "        col=\"lightgrey\",fill=\"lightgrey\" #\"orangered\"\n",
    "    )\n",
    "    l = list (ht, itrack)\n",
    "    s = c (3,1,1)\n",
    "    if (!is.null(save)){\n",
    "        pdf(save,width=10, height=2)\n",
    "        Gviz::plotTracks(l,from = Start, to = End, main = title, sizes=s)\n",
    "        dev.off()\n",
    "    } else {\n",
    "        Gviz::plotTracks(l,from = Start, to = End, main = title, sizes=s)\n",
    "    }\n",
    "}"
   ]
  },
  {
   "cell_type": "code",
   "execution_count": 5,
   "id": "ea373b6f-0cfc-41f9-819e-8765605b26db",
   "metadata": {},
   "outputs": [],
   "source": [
    "p <- plot_gene_tracks(\n",
    "    txdb, \n",
    "    'ENSG00000054267.22',\n",
    "    'ARID4B',\n",
    "    ZoomIn_peak = c(235181852,235181901 + 30)\n",
    "    ,wide = 100\n",
    "    ,save = 'plots/tracks_ARID4B.pdf'\n",
    ")"
   ]
  },
  {
   "cell_type": "code",
   "execution_count": 179,
   "id": "5ce2bc20-ae5e-4473-a139-e5609b933531",
   "metadata": {},
   "outputs": [],
   "source": [
    "p <- plot_gene_tracks(\n",
    "    txdb, \n",
    "    'ENSG00000085224.22',\n",
    "    'ATRX',\n",
    "    ZoomIn_peak = c(77681660,77681709 + 30)\n",
    "    ,wide = 100\n",
    "    ,save = 'plots/tracks_ATRX.pdf'\n",
    ")"
   ]
  },
  {
   "cell_type": "code",
   "execution_count": 180,
   "id": "fdf93d13-f75f-4743-9b3a-2811f35179ac",
   "metadata": {},
   "outputs": [],
   "source": [
    "p <- plot_gene_tracks(\n",
    "    txdb, \n",
    "    'ENSG00000185085.2',\n",
    "    'INTS5',\n",
    "    ZoomIn_peak=c(62649635,62649684+40),\n",
    "    ,save = 'plots/tracks_INTS5.pdf'\n",
    "    \n",
    ")"
   ]
  },
  {
   "cell_type": "code",
   "execution_count": 181,
   "id": "eb50bb42-58e2-4fb4-bd4f-122d2e2b1a09",
   "metadata": {},
   "outputs": [],
   "source": [
    "p <- plot_gene_tracks(\n",
    "    txdb, \n",
    "    'ENSG00000104549.12',\n",
    "    ZoomIn_peak=c(124999289,124999338 + 40),\n",
    "    'SQLE',save = 'plots/tracks_SQLE.pdf'\n",
    "    \n",
    ")"
   ]
  },
  {
   "cell_type": "code",
   "execution_count": 182,
   "id": "e3c3d7e4-d1cc-4d17-adc6-1e4b4d0a5308",
   "metadata": {},
   "outputs": [
    {
     "data": {
      "text/plain": [
       "R version 4.1.2 (2021-11-01)\n",
       "Platform: x86_64-conda-linux-gnu (64-bit)\n",
       "Running under: Ubuntu 18.04.4 LTS\n",
       "\n",
       "Matrix products: default\n",
       "BLAS/LAPACK: /rumi/shams/abe/anaconda3/envs/gviz/lib/libopenblasp-r0.3.18.so\n",
       "\n",
       "locale:\n",
       " [1] LC_CTYPE=en_US.UTF-8       LC_NUMERIC=C              \n",
       " [3] LC_TIME=en_US.UTF-8        LC_COLLATE=en_US.UTF-8    \n",
       " [5] LC_MONETARY=en_US.UTF-8    LC_MESSAGES=en_US.UTF-8   \n",
       " [7] LC_PAPER=en_US.UTF-8       LC_NAME=C                 \n",
       " [9] LC_ADDRESS=C               LC_TELEPHONE=C            \n",
       "[11] LC_MEASUREMENT=en_US.UTF-8 LC_IDENTIFICATION=C       \n",
       "\n",
       "attached base packages:\n",
       "[1] grid      stats4    stats     graphics  grDevices utils     datasets \n",
       "[8] methods   base     \n",
       "\n",
       "other attached packages:\n",
       " [1] forcats_0.5.1          stringr_1.4.0          dplyr_1.0.7           \n",
       " [4] purrr_0.3.4            readr_2.1.1            tidyr_1.1.4           \n",
       " [7] tibble_3.1.6           ggplot2_3.3.5          tidyverse_1.3.1       \n",
       "[10] GenomicFeatures_1.46.1 AnnotationDbi_1.56.1   Biobase_2.54.0        \n",
       "[13] Gviz_1.38.0            GenomicRanges_1.46.0   GenomeInfoDb_1.30.0   \n",
       "[16] IRanges_2.28.0         S4Vectors_0.32.0       BiocGenerics_0.40.0   \n",
       "\n",
       "loaded via a namespace (and not attached):\n",
       "  [1] colorspace_2.0-2            rjson_0.2.20               \n",
       "  [3] ellipsis_0.3.2              biovizBase_1.42.0          \n",
       "  [5] IRdisplay_1.1               htmlTable_2.4.0            \n",
       "  [7] XVector_0.34.0              fs_1.5.2                   \n",
       "  [9] base64enc_0.1-3             dichromat_2.0-0            \n",
       " [11] rstudioapi_0.13             bit64_4.0.5                \n",
       " [13] lubridate_1.8.0             fansi_0.4.2                \n",
       " [15] xml2_1.3.3                  splines_4.1.2              \n",
       " [17] cachem_1.0.6                knitr_1.37                 \n",
       " [19] IRkernel_1.3                Formula_1.2-4              \n",
       " [21] jsonlite_1.7.2              Rsamtools_2.10.0           \n",
       " [23] broom_0.7.11                cluster_2.1.2              \n",
       " [25] dbplyr_2.1.1                png_0.1-7                  \n",
       " [27] compiler_4.1.2              httr_1.4.2                 \n",
       " [29] backports_1.4.1             assertthat_0.2.1           \n",
       " [31] Matrix_1.4-0                fastmap_1.1.0              \n",
       " [33] lazyeval_0.2.2              cli_3.1.0                  \n",
       " [35] htmltools_0.5.2             prettyunits_1.1.1          \n",
       " [37] tools_4.1.2                 gtable_0.3.0               \n",
       " [39] glue_1.6.0                  GenomeInfoDbData_1.2.7     \n",
       " [41] rappdirs_0.3.3              Rcpp_1.0.7                 \n",
       " [43] cellranger_1.1.0            vctrs_0.3.8                \n",
       " [45] Biostrings_2.62.0           rtracklayer_1.54.0         \n",
       " [47] xfun_0.29                   rvest_1.0.2                \n",
       " [49] lifecycle_1.0.1             restfulr_0.0.13            \n",
       " [51] ensembldb_2.18.1            XML_3.99-0.8               \n",
       " [53] zlibbioc_1.40.0             scales_1.1.1               \n",
       " [55] BSgenome_1.62.0             VariantAnnotation_1.40.0   \n",
       " [57] hms_1.1.1                   MatrixGenerics_1.6.0       \n",
       " [59] ProtGenerics_1.26.0         parallel_4.1.2             \n",
       " [61] SummarizedExperiment_1.24.0 AnnotationFilter_1.18.0    \n",
       " [63] RColorBrewer_1.1-2          yaml_2.2.1                 \n",
       " [65] curl_4.3.2                  memoise_2.0.1              \n",
       " [67] gridExtra_2.3               biomaRt_2.50.0             \n",
       " [69] rpart_4.1-15                latticeExtra_0.6-29        \n",
       " [71] stringi_1.7.6               RSQLite_2.2.8              \n",
       " [73] BiocIO_1.4.0                checkmate_2.0.0            \n",
       " [75] filelock_1.0.2              BiocParallel_1.28.0        \n",
       " [77] repr_1.1.4                  rlang_0.4.12               \n",
       " [79] pkgconfig_2.0.3             matrixStats_0.61.0         \n",
       " [81] bitops_1.0-7                evaluate_0.14              \n",
       " [83] lattice_0.20-45             GenomicAlignments_1.30.0   \n",
       " [85] htmlwidgets_1.5.4           bit_4.0.4                  \n",
       " [87] tidyselect_1.1.1            magrittr_2.0.1             \n",
       " [89] R6_2.5.1                    generics_0.1.1             \n",
       " [91] Hmisc_4.6-0                 pbdZMQ_0.3-6               \n",
       " [93] DelayedArray_0.20.0         DBI_1.1.2                  \n",
       " [95] withr_2.4.3                 haven_2.4.3                \n",
       " [97] pillar_1.6.4                foreign_0.8-81             \n",
       " [99] survival_3.2-13             KEGGREST_1.34.0            \n",
       "[101] RCurl_1.98-1.5              nnet_7.3-16                \n",
       "[103] modelr_0.1.8                crayon_1.4.2               \n",
       "[105] uuid_1.0-3                  utf8_1.2.2                 \n",
       "[107] BiocFileCache_2.2.0         tzdb_0.2.0                 \n",
       "[109] jpeg_0.1-9                  progress_1.2.2             \n",
       "[111] readxl_1.3.1                data.table_1.14.2          \n",
       "[113] blob_1.2.2                  reprex_2.0.1               \n",
       "[115] digest_0.6.29               munsell_0.5.0              "
      ]
     },
     "metadata": {},
     "output_type": "display_data"
    }
   ],
   "source": [
    "sessionInfo()"
   ]
  },
  {
   "cell_type": "markdown",
   "id": "6f788d2f-8d46-4b9d-b024-7198f0ba7a56",
   "metadata": {
    "jp-MarkdownHeadingCollapsed": true,
    "tags": []
   },
   "source": [
    "# Target-genes"
   ]
  },
  {
   "cell_type": "code",
   "execution_count": 7,
   "id": "01300021-a420-4381-9989-ff38ff2cd5fc",
   "metadata": {},
   "outputs": [],
   "source": [
    "!cat radar/result.sig.bed | grep \"end\\|ENSG00000104549.12\\|ENSG00000185085.2\" > target-genes-sig-peaks.bed"
   ]
  },
  {
   "cell_type": "code",
   "execution_count": 8,
   "id": "c39874e6-bbb1-4b0b-b3ea-45006345ae01",
   "metadata": {},
   "outputs": [
    {
     "name": "stdout",
     "output_type": "stream",
     "text": [
      "name\tstart-end\n",
      "ENSG00000104549.12\t124999289-124999338\n",
      "ENSG00000185085.2\t62647794-62647843\n",
      "ENSG00000185085.2\t62649635-62649684\n"
     ]
    }
   ],
   "source": [
    "!cat target-genes-sig-peaks.bed | awk -F \"\\t\" '{print $4\"\\t\"$2\"-\"$3}'"
   ]
  },
  {
   "cell_type": "markdown",
   "id": "feaa51d8-e9a0-4bc6-a1ce-8a0b961d577b",
   "metadata": {
    "jp-MarkdownHeadingCollapsed": true,
    "tags": []
   },
   "source": [
    "## Extract Peak Sequence "
   ]
  },
  {
   "cell_type": "code",
   "execution_count": 91,
   "id": "3b8ccfda-b1da-4f4c-8f56-0886f3185077",
   "metadata": {},
   "outputs": [],
   "source": [
    "import pandas as pd "
   ]
  },
  {
   "cell_type": "code",
   "execution_count": 92,
   "id": "c445ddae-a4ca-452b-9eda-f4d6759e9504",
   "metadata": {},
   "outputs": [],
   "source": [
    "def read_fasta(path):\n",
    "    file = open(path)\n",
    "    lines = file.read().splitlines()\n",
    "    ids = [s[1:] for s in lines if '>' in s]\n",
    "    n = [i for i,s in enumerate(lines) if '>' in s]\n",
    "    n.append(len(lines))\n",
    "    sequences = [''.join(lines[i+1:j]) for i,j in zip(n[:-1],n[1:])]\n",
    "    file.close()\n",
    "    fa = dict(zip(ids, sequences))\n",
    "    return fa"
   ]
  },
  {
   "cell_type": "code",
   "execution_count": 93,
   "id": "f5b693d3-9fc5-49b6-8a66-782fbbdcbdeb",
   "metadata": {},
   "outputs": [],
   "source": [
    "def remove_intron(bed, fa):\n",
    "    '''\n",
    "    Remove introns for genes in given bed12 file \n",
    "    with blockSizes greater than 1\n",
    "    '''\n",
    "    # fa = read_fasta(fa)\n",
    "    # bed = pd.read_table(bed, header=0)\n",
    "    tochange = bed[bed.blockCount > 1]\n",
    "    starts = [tochange.blockStarts[i].split(',')[:tochange.blockCount[i]] for i in tochange.index.tolist() ]\n",
    "    sizes = [tochange.blockSizes[i].split(',')[:tochange.blockCount[i]] for i in tochange.index.tolist() ]\n",
    "    for id, x, l in zip(tochange.name.tolist(), starts, sizes):\n",
    "        fa[id] = ''.join([fa[id][int(i):int(i)+int(j)] for i,j in zip(x,l)])\n",
    "    return fa\n"
   ]
  },
  {
   "cell_type": "code",
   "execution_count": 94,
   "id": "83b73c72-58a4-4552-ada2-ce26d412a89b",
   "metadata": {},
   "outputs": [],
   "source": [
    "def search_fasta(fa1,fa2):\n",
    "    return dict(\n",
    "        [((x,fa1[x]),(y,fa2[y])) for x in fa1 for y in fa2 if fa1[x] in fa2[y] ]\n",
    "    )\n",
    "        "
   ]
  },
  {
   "cell_type": "code",
   "execution_count": 126,
   "id": "84793a98-8e11-4eb8-833b-4dff1fa45de1",
   "metadata": {},
   "outputs": [],
   "source": [
    "!samtools faidx /rumi/shams/abe/genomes/hg38/gencode.v34/GRCh38.primary_assembly.genome.fa"
   ]
  },
  {
   "cell_type": "code",
   "execution_count": 95,
   "id": "2b232304-107c-4a73-bdf0-0d98dd2c1e86",
   "metadata": {},
   "outputs": [
    {
     "name": "stdout",
     "output_type": "stream",
     "text": [
      "/usr/bin/bedtools\n"
     ]
    }
   ],
   "source": [
    "!which bedtools"
   ]
  },
  {
   "cell_type": "code",
   "execution_count": 49,
   "id": "22d3d15b-d95d-4415-a90c-3160b0985ed8",
   "metadata": {},
   "outputs": [],
   "source": [
    "# %%bash \n",
    "# bedtools getfasta -name -s -fi \\\n",
    "# /rumi/shams/abe/genomes/hg38/gencode.v34/GRCh38.primary_assembly.genome.fa \\\n",
    "# -bed target-genes.bed -split -fo target-genes.fa"
   ]
  },
  {
   "cell_type": "code",
   "execution_count": 96,
   "id": "53b70718-58c2-4cc2-8d5a-5e0942f67973",
   "metadata": {},
   "outputs": [
    {
     "name": "stdout",
     "output_type": "stream",
     "text": [
      "name\tstart-end\n",
      "ENSG00000104549.12\t124999289-124999338\n",
      "ENSG00000185085.2\t62647794-62647843\n",
      "ENSG00000185085.2\t62649635-62649684\n"
     ]
    }
   ],
   "source": [
    "!cat target-genes-sig-peaks.bed | awk -F \"\\t\" '{print $4\"\\t\"$2\"-\"$3}'"
   ]
  },
  {
   "cell_type": "code",
   "execution_count": 97,
   "id": "cf91daf1-156d-4c4a-9653-db72c04034fd",
   "metadata": {},
   "outputs": [],
   "source": [
    "%%bash \n",
    "bedtools getfasta -name -s -fi \\\n",
    "/rumi/shams/abe/genomes/hg38/gencode.v34/GRCh38.primary_assembly.genome.fa \\\n",
    "-bed target-genes-sig-peaks.bed -split -fo target-genes-sig-peaks.fa"
   ]
  },
  {
   "cell_type": "code",
   "execution_count": 98,
   "id": "6826ec96-935b-4cbc-825b-f8587cc92d74",
   "metadata": {},
   "outputs": [],
   "source": [
    "# target_fa = read_fasta('target-genes.fa')\n",
    "target_fa = read_fasta('target-genes-sig-peaks.fa')\n",
    "\n",
    "# target_fa = dict([(key.split('::')[0]+'_peak'+str(i),target_fa[key]) for i,key in enumerate(target_fa)])"
   ]
  },
  {
   "cell_type": "code",
   "execution_count": 99,
   "id": "35ad2284-b6d3-4a28-b2a7-35c0c7a7970b",
   "metadata": {},
   "outputs": [],
   "source": [
    "genome_fa = read_fasta('/rumi/shams/abe/genomes/hg38/gencode.v34/gencode.v34.transcripts.fa')"
   ]
  },
  {
   "cell_type": "code",
   "execution_count": 100,
   "id": "b16fea25-9c6c-4f51-a220-834306d32e0d",
   "metadata": {},
   "outputs": [],
   "source": [
    "o = search_fasta(target_fa,genome_fa)"
   ]
  },
  {
   "cell_type": "code",
   "execution_count": 101,
   "id": "7ab8cf44-32c4-4e91-98a3-11f38260dc30",
   "metadata": {},
   "outputs": [],
   "source": [
    "transcripts = dict(list({(\n",
    "    o[peak][0].split('|')[1], o[peak][1]\n",
    ") for peak in o.keys()}))"
   ]
  },
  {
   "cell_type": "code",
   "execution_count": 103,
   "id": "d9151a12-148c-42e3-9668-326da70ef543",
   "metadata": {},
   "outputs": [
    {
     "data": {
      "text/plain": [
       "{'ENSG00000185085.2': 'ATGCGCCGCCTGCGCTCCGCCGCTCGCGCCTCGGGCTCGGCTCGGGCTCCGGGATGTCCGCGCTGTGCGACCCTCCCGGGGCCCCAGGGCCACCTGGGCCTGCCCCGGCCACCCACGGTCCCGCGCCTCTCAGTGCTCAGGAGCTGTCCCAGGAAATCAAGGCTTTTCTGACTGGCGTAGACCCCATTCTGGGCCACCAACTCTCAGCCCGGGAACATGCTCGCTGTGGTCTTCTCCTGCTCCGTTCTTTGCCACCTGCTCGGGCTGCTGTGCTTGACCACTTGAGAGGTGTCTTTGATGAGAGTGTCCGGGCCCACCTGGCTGCCCTGGATGAAACCCCTGTGGCTGGTCCACCTCACCTCCGTCCACCTCCACCCTCTCATGTCCCTGCTGGTGGACCTGGTCTAGAGGATGTGGTTCAGGAAGTGCAGCAGGTGCTGTCTGAGTTTATCCGGGCCAACCCAAAGGCCTGGGCACCTGTGATTAGTGCATGGTCCATTGACCTCATGGGGCAACTGAGCAGCACGTACTCAGGCCAGCACCAGCGTGTTCCCCACGCTACTGGCGCTCTTAATGAACTGCTACAGCTGTGGATGGGTTGTAGGGCCACGCGTACATTAATGGACATCTATGTGCAGTGCCTCTCGGCTCTCATTGGTAGCTGCCCAGATGCGTGTGTGGATGCCTTGCTGGATACCTCTGTTCAGCATTCTCCACACTTTGACTGGGTTGTGGCACATATTGGCTCCTCTTTTCCTGGCACCATCATTTCCCGGGTTCTCTCCTGTGGCCTTAAGGACTTTTGTGTCCATGGTGGGGCTGGAGGTGGAGCTGGCAGTAGTGGTGGAAGCTCTTCTCAGACCCCCTCTACAGACCCCTTCCCTGGATCTCCTGCCATTCCTGCGGAGAAACGGGTGCCCAAGATTGCCTCAGTTGTAGGCATCCTAGGTCACCTGGCCTCCCGCCACGGAGATAGCATCCGACGGGAGCTCCTGCGAATGTTCCATGATAGCCTGGCAGGGGGATCTGGAGGCCGCAGTGGGGACCCCTCCCTTCAGGCCACGGTTCCGTTCCTACTGCAGCTGGCAGTCATGTCACCAGCTTTGCTGGGCACTGTCTCTGGAGAGCTTGTGGATTGCCTCAAGCCCCCAGCTGTGCTGAGCCAGCTGCAGCAACACCTTCAAGGATTCCCCCGAGAGGAGCTGGACAACATGTTGAACCTGGCTGTGCACCTGGTGAGCCAGGCCTCTGGGGCAGGTGCCTACCGCTTGCTGCAGTTCCTGGTGGACACAGCTATGCCTGCTTCGGTCATTACCACCCAGGGCCTGGCTGTGCCAGACACCGTGCGTGAGGCTTGTGACCGGCTAATCCAGCTGCTGCTGCTGCACCTGCAAAAACTGGTTCATCACCGGGGAGGGTCTCCTGGGGAAGGGGTGCTAGGCCCGCCCCCACCTCCCCGCTTGGTGCCCTTTTTAGATGCGCTCAAAAACCATGTTGGAGAGCTGTGTGGAGAGACGTTACGATTGGAACGGAAGCGCTTCCTCTGGCAGCACCAGCTCTTGGGCCTGCTGTCTGTCTATACCCGGCCTAGCTGTGGACCTGAGGCCTTGGGCCATCTGCTGAGCCGAGCCCGAAGCCCTGAAGAGTTGAGTTTGGCCACCCAGTTATATGCAGGGCTAGTGGTCAGCCTCTCTGGCCTCCTGCCCCTGGCTTTCCGAAGCTGTCTGGCTCGGGTGCATGCAGGGACATTACAGCCTCCCTTCACGGCCCGGTTCCTGCGCAACTTGGCACTGCTAGTAGGGTGGGAACAGCAGGGTGGCGAGGGCCCTGCAGCCCTAGGGGCGCACTTTGGGGAATCTGCCTCAGCCCATCTGTCTGACCTGGCTCCTCTCCTGCTACATCCTGAGGAGGAAGTAGCTGAAGCTGCTGCCTCTCTCCTGGCCATTTGTCCCTTTCCTTCTGAAGCCTTATCCCCCTCCCAGCTCCTGGGACTGGTAAGGGCTGGGGTGCACCGCTTCTTTGCCTCTCTGAGGCTGCATGGACCCCCAGGTGTGGCCTCAGCCTGTCAGCTTCTCACCCGCCTGTCTCAGACATCCCCAGCTGGGCTCAAGGCTGTCCTGCAGCTGCTGGTTGAAGGAGCCTTACATCGAGGCAACACAGAACTGTTTGGTGGGCAAGTAGATGGGGACAATGAGACTCTCTCAGTTGTTTCAGCTTCTTTGGCTTCTGCCTCCCTGTTGGACACTAACCGGAGGCACACTGCAGCTGTGCCAGGTCCTGGAGGGATTTGGTCAGTTTTCCATGCTGGAGTCATCGGCCGTGGCTTAAAGCCACCCAAGTTTGTCCAGTCACGAAATCAGCAGGAAGTGATCTATAACACCCAGAGCCTCCTCAGCCTCCTGGTTCACTGCTGCAGTGCCCCAGGGGGCACTGAATGTGGGGAATGCTGGGGGGCACCCATCTTGAGTCCAGAGGCAGCCAAAGCAGTGGCAGTGACCTTGGTGGAGAGTGTGTGTCCCGATGCAGCTGGTGCAGAGCTGGCCTGGCCCCCCGAGGAACACGCCCGGGCCACCGTGGAGCGGGATCTCCGCATTGGCCGGCGCTTCCGCGAACAGCCCCTGCTCTTTGAGCTGTTAAAGCTGGTAGCAGCTGCACCCCCAGCCCTGTGCTACTGTTCCGTGCTGCTTCGGGGGCTGCTGGCCGCCCTCTTGGGCCATTGGGAAGCCTCTCGCCACCCTGACACGACCCACTCCCCCTGGCACCTGGAGGCATCCTGCACCTTAGTGGCTGTCATGGCTGAGGGAAGCCTCCTGCCTCCGGCCCTGGGTAATATGCATGAAGTATTTAGCCAACTGGCACCTTTCGAGGTGCGTCTGCTGCTGCTCAGTGTCTGGGGTTTTCTCCGGGAGCATGGGCCCTTGCCTCAGAAGTTCATCTTCCAATCAGAGCGGGGTCGCTTCATTCGGGACTTCTCCAGGGAGGGTGGAGGTGAGGGTGGACCCCATCTGGCTGTGCTGCACAGTGTCCTCCACCGCAACATCGACCGCCTAGGTCTTTTCTCTGGCCGTTTCCAGGCACCTTCACCGTCCACTCTCCTTCGACAGGGGACGTAGCCTTTTCTTGCTCTGGAAGCCCAGGGAGGTTGAGCAGTGAGAGAGGGAAGGGACTAACGTGCTCCGGAAGGGTGGAGGTTTCTCTTCTAAGTCCTTGGTCTAAAGAGCGCTGTCACTTTTTTCTCTCCCACTTTTTTTTTTCTAAATAAAATTTGCCAACTTGAGAAAACCA',\n",
       " 'ENSG00000104549.12': 'GAGACGCGTGGAGCCTGGCGGCGAGTGGGGGCGTGCGACGGTTACTCTGGTTACTGGGGCCGCGCCGCGCTGGCGAGAGCCGCCGCCCGCGAGGGATGCTGGTGAGGAAGCCGTCGGGAGCCGCCGCCGCCATCTGAGGGAGGTACCCTGGAAACCACCTTTTATCGGTGGGGAAGTGCAGTCGCGGTGGGCGGCTCTGGGGGCCAGCGAAACGGGAGGCCTCTAAATCTTTAGGTTGGGGCTGCATTGCCCTGGAGCCGCACTCTTGAGTCCGAGGCCATCTTTTGTTGGAGAAGGCGTCGGCGTTGGCGTTTTCCCGAGGTTGGGCTGTACAGTGTCTCCGTCCGCGGAAAAAGAAGCCTCTGAACCCGCGCCGGCCCGCAGCCCCCGTGCCTTCCGGCCGCTGCTCGCCGTCGCCAGAGGCTAGGCCACGTTTCCCCCAGTGCCGAGGTGTTTCTGTGACCCTCCCTCCACTCCCATTCCCTTCTGAAAGGGCACCTGCTCTTGGTGAGAAAAGAAATTATAGCACGAAGAGCCAGTATCAGAAGAGTATCCATCACCCGCAGCAACCGCTCAGGGAACACCATCAAAAAAGAAAAAAAGGGAATATCTGGATTTCCTGGGCGAGGAGGAGCGAGTCTGCTCGGGAGCTGTTCCAGCAGGCGATTTTTAAATACTGCTTTCTACGCCCTATACAACTTGGCTTCACATACTTTTACACTAACTTTATATGATTTTTAAAAACTGGTCTGATCGGACTTCTCGTCCTGGGACACTGTTTACTGGAGTCTGGCCGGCTCTCCGTGCTCCTCTTGGTACCTCATTTTGGGGAGAACCTTAAACCCACTCGAGCAGATAATCTCCGCCTTGACCGGTGCCACCAAAGAAGCCTTGGAACCATGTGGACTTTTCTGGGCATTGCCACTTTCACCTATTTTTATAAGAAGTTCGGGGACTTCATCACTTTGGCCAACAGGGAGGTCCTGTTGTGCGTGCTGGTGTTCCTCTCGCTGGGCCTGGTGCTCTCCTACCGCTGTCGCCACCGAAACGGGGGTCTCCTCGGGCGCCAGCAGAGCGGCTCCCAGTTCGCCCTCTTCTCGGATATTCTCTCAGGCCTGCCTTTCATTGGCTTCTTCTGGGCCAAATCCCCCCCTGAATCAGAAAATAAGGAGCAGCTCGAGGCCAGGAGGCGCAGAAAAGGAACCAATATTTCAGAAACAAGCTTAATAGGAACAGCTGCCTGTACATCAACATCTTCTCAGAATGACCCAGAAGTTATCATCGTGGGAGCTGGCGTGCTTGGCTCTGCTTTGGCAGCTGTGCTTTCCAGAGATGGAAGAAAGGTGACAGTCATTGAGAGAGACTTAAAAGAGCCTGACAGAATAGTTGGAGAATTCCTGCAGCCGGGTGGTTATCATGTTCTCAAAGACCTTGGTCTTGGAGATACAGTGGAAGGTCTTGATGCCCAGGTTGTAAATGGTTACATGATTCATGATCAGGAAAGCAAATCAGAGGTTCAGATTCCTTACCCTCTGTCAGAAAACAATCAAGTGCAGAGTGGAAGAGCTTTCCATCACGGAAGATTCATCATGAGTCTCCGGAAAGCAGCTATGGCAGAGCCCAATGCAAAGTTTATTGAAGGTGTTGTGTTACAGTTATTAGAGGAAGATGATGTTGTGATGGGAGTTCAGTACAAGGATAAAGAGACTGGAGATATCAAGGAACTCCATGCTCCACTGACTGTTGTTGCAGATGGGCTTTTCTCCAAGTTCAGGAAAAGCCTGGTCTCCAATAAAGTTTCTGTATCATCTCATTTTGTTGGCTTTCTTATGAAGAATGCACCACAGTTTAAAGCAAATCATGCTGAACTTATTTTAGCTAACCCGAGTCCAGTTCTCATCTACCAGATTTCATCCAGTGAAACTCGAGTACTTGTTGACATTAGAGGAGAAATGCCAAGGAATTTAAGAGAATACATGGTTGAAAAAATTTACCCACAAATACCTGATCACCTGAAAGAACCATTCTTAGAAGCCACTGACAATTCTCATCTGAGGTCCATGCCAGCAAGCTTCCTTCCTCCTTCATCAGTGAAGAAACGAGGTGTTCTTCTTTTGGGAGACGCATATAATATGAGGCATCCACTTACTGGTGGAGGAATGACTGTTGCTTTTAAAGATATAAAACTATGGAGAAAACTGCTAAAGGGTATCCCTGACCTTTATGATGATGCAGCTATTTTCGAGGCCAAAAAATCATTTTACTGGGCAAGAAAAACATCTCATTCCTTTGTCGTGAATATCCTTGCTCAGGCTCTTTATGAATTATTTTCTGCCACAGATGATTCCCTGCATCAACTAAGAAAAGCCTGTTTTCTTTATTTCAAACTTGGTGGCGAATGTGTTGCGGGTCCTGTTGGGCTGCTTTCTGTATTGTCTCCTAACCCTCTAGTTTTAATTGGACACTTCTTTGCTGTTGCAATCTATGCCGTGTATTTTTGCTTTAAGTCAGAACCTTGGATTACAAAACCTCGAGCCCTTCTCAGTAGTGGTGCTGTATTGTACAAAGCGTGTTCTGTAATATTTCCTCTAATTTACTCAGAAATGAAGTATATGGTTCATTAAGCTTAAAGGGGAACCATTTGTGAATGAATATTTGGAACTTACCAAGTCCTAAGAGACTTTTGGAAGAGGATATATATAGCATAGTACCATACCACTTATAAAGTGGAAACTCTTGGACCAAGATTTGGATTAATTTGTTTTTGAAGTTTTTTGTATATAAATATGTAAATACATGCTTTAATTTGCAATTTAAAATGAAGGGGTTAAATAAGTTAGACATTTAAAAGAAATGATTGTTACCATAAATTAGTGCTAATGCTGAGGAGAACTACAGTTTTTCTTTTGAATTTAGTATTTGAGATGAGTTGTTGGGACATGCAAATAAAATGAAGAATGAA'}"
      ]
     },
     "execution_count": 103,
     "metadata": {},
     "output_type": "execute_result"
    }
   ],
   "source": [
    "transcripts"
   ]
  },
  {
   "cell_type": "code",
   "execution_count": 105,
   "id": "03bf648e-43e9-48c2-9b89-fc7a1c0d8e89",
   "metadata": {},
   "outputs": [
    {
     "name": "stdout",
     "output_type": "stream",
     "text": [
      ">ENSG00000104549.12::chr8:124999289-124999338(+)\n",
      "GAGTCTGGCCGGCTCTCCGTGCTCCTCTTGGTACCTCATTTTGGGGAGA\n",
      ">ENSG00000185085.2::chr11:62647794-62647843(-)\n",
      "GGTCAGTTTTCCATGCTGGAGTCATCGGCCGTGGCTTAAAGCCACCCAA\n",
      ">ENSG00000185085.2::chr11:62649635-62649684(-)\n",
      "TATCCGGGCCAACCCAAAGGCCTGGGCACCTGTGATTAGTGCATGGTCC\n"
     ]
    }
   ],
   "source": [
    "cat target-genes-sig-peaks.fa"
   ]
  },
  {
   "cell_type": "code",
   "execution_count": 112,
   "id": "ea3951fb-fbff-4f6c-8838-60d1f27fb96b",
   "metadata": {},
   "outputs": [
    {
     "data": {
      "text/plain": [
       "[{'ENSG00000104549.12': 'GAGTCTGGCCGGCTCTCCGTGCTCCTCTTGGTACCTCATTTTGGGGAGA'},\n",
       " {'ENSG00000185085.2': 'GGTCAGTTTTCCATGCTGGAGTCATCGGCCGTGGCTTAAAGCCACCCAA'},\n",
       " {'ENSG00000185085.2': 'TATCCGGGCCAACCCAAAGGCCTGGGCACCTGTGATTAGTGCATGGTCC'}]"
      ]
     },
     "execution_count": 112,
     "metadata": {},
     "output_type": "execute_result"
    }
   ],
   "source": [
    "# bed = pd.read_table('target-genes.bed', header=0)\n",
    "bed = pd.read_table('target-genes-sig-peaks.bed', header=0)\n",
    "\n",
    "[\n",
    "    remove_intron(\n",
    "        bed[bed.iloc[:,1] == int(peak.split('::')[1].split(':')[1].split('-')[0])],\n",
    "        {peak.split('::')[0]: target_fa[peak]}\n",
    "    )\n",
    "    for peak in target_fa\n",
    "]"
   ]
  },
  {
   "cell_type": "code",
   "execution_count": null,
   "id": "0611e4b5-e320-4760-9063-f869577d3e1f",
   "metadata": {},
   "outputs": [],
   "source": [
    "!date"
   ]
  }
 ],
 "metadata": {
  "kernelspec": {
   "display_name": "R [conda env:gviz]",
   "language": "R",
   "name": "conda-env-gviz-r"
  },
  "language_info": {
   "codemirror_mode": "r",
   "file_extension": ".r",
   "mimetype": "text/x-r-source",
   "name": "R",
   "pygments_lexer": "r",
   "version": "4.1.2"
  }
 },
 "nbformat": 4,
 "nbformat_minor": 5
}
