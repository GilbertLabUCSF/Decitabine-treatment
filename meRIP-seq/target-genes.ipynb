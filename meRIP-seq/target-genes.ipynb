{
 "cells": [
  {
   "cell_type": "markdown",
   "id": "bb1a7d60-8a66-4386-9287-084b9c23be84",
   "metadata": {},
   "source": [
    "## Plot Gene and Peak Coverage"
   ]
  },
  {
   "cell_type": "markdown",
   "id": "caf6b54e-2dab-4fe1-a0f9-00db8ab9c642",
   "metadata": {},
   "source": [
    "`radar` conda env"
   ]
  },
  {
   "cell_type": "code",
   "execution_count": 1,
   "id": "d226195a-3c5d-4bda-af47-86e716bf8ba0",
   "metadata": {},
   "outputs": [],
   "source": [
    "%load_ext rpy2.ipython"
   ]
  },
  {
   "cell_type": "code",
   "execution_count": 2,
   "id": "9ec769a1-c0e8-4916-b5c0-31b1b249d636",
   "metadata": {},
   "outputs": [],
   "source": [
    "%%R \n",
    "suppressMessages(suppressWarnings(library (RADAR)))\n",
    "suppressMessages(suppressWarnings(library (patchwork)))"
   ]
  },
  {
   "cell_type": "code",
   "execution_count": 3,
   "id": "ac0ba887-24e1-4c2f-9201-fa0e63d9cb78",
   "metadata": {},
   "outputs": [],
   "source": [
    "%%R\n",
    "radar0 <- readRDS('radar/finalObj.rds')"
   ]
  },
  {
   "cell_type": "code",
   "execution_count": 4,
   "id": "a881a245-d777-4123-b0bf-d774e85d553e",
   "metadata": {},
   "outputs": [],
   "source": [
    "%%R\n",
    "radar <- PrepCoveragePlot(radar0)"
   ]
  },
  {
   "cell_type": "code",
   "execution_count": 5,
   "id": "4177279b-0112-4a36-b0be-15c74d1d7d2d",
   "metadata": {},
   "outputs": [
    {
     "name": "stdout",
     "output_type": "stream",
     "text": [
      "MeRIP.RADAR dataset of 4 samples.\n",
      "Read count quantified in 50-bp consecutive bins on the transcript.\n",
      "The total read count for Input and IP samples are (Million reads):\n",
      "         U1    U2    T1    T2\n",
      "Input 29.95 37.35 33.16 29.93\n",
      "IP    38.34 36.35 43.09 44.55\n",
      "Input gene level read count available.\n",
      "There are 1 predictor variables/covariates. Can access by function variable(MeRIPdata). \n",
      "Differential methylation tested by PoissonGamma test (RADAR).\n",
      "Multiple test corrected by Benjamini & Hochberg.\n"
     ]
    }
   ],
   "source": [
    "%%R \n",
    "summary(radar)"
   ]
  },
  {
   "cell_type": "code",
   "execution_count": 47,
   "id": "2d67fcd2-303b-4aa6-a20f-98d658a72a91",
   "metadata": {},
   "outputs": [],
   "source": [
    "# %%R \n",
    "# plot_target_gene <- function(radar,gene_id,gene_name,start,end,peak_start,peak_end){\n",
    "\n",
    "#     p1 = plotGeneCov(\n",
    "#         radar,geneName = gene_id,\n",
    "#         center = mean, libraryType = \"opposite\",\n",
    "#         ZoomIn = c(start,end), adjustExprLevel = T\n",
    "#     ) + ggtitle(gene_name)\n",
    "\n",
    "#     p1 <- p1 + theme(\n",
    "#         axis.text.x = element_text(angle = 30, vjust = 1,hjust=1),\n",
    "#         legend.position = \"none\"\n",
    "#     )\n",
    "    \n",
    "#     p2 = plotGeneCov(\n",
    "#         radar,geneName = gene_id,\n",
    "#         center = mean, libraryType = \"opposite\",\n",
    "#         ZoomIn = c(\n",
    "#             peak_start, # + \n",
    "#             peak_end    # -\n",
    "#         ), adjustExprLevel = T\n",
    "#     )\n",
    "#     p2 <- p2 + theme_minimal()\n",
    "    \n",
    "#     return(p1 + p2)\n",
    "# }"
   ]
  },
  {
   "cell_type": "code",
   "execution_count": 7,
   "id": "01300021-a420-4381-9989-ff38ff2cd5fc",
   "metadata": {},
   "outputs": [],
   "source": [
    "!cat radar/result.sig.bed | grep \"end\\|ENSG00000104549.12\\|ENSG00000185085.2\" > target-genes-sig-peaks.bed"
   ]
  },
  {
   "cell_type": "code",
   "execution_count": 8,
   "id": "c39874e6-bbb1-4b0b-b3ea-45006345ae01",
   "metadata": {},
   "outputs": [
    {
     "name": "stdout",
     "output_type": "stream",
     "text": [
      "name\tstart-end\n",
      "ENSG00000104549.12\t124999289-124999338\n",
      "ENSG00000185085.2\t62647794-62647843\n",
      "ENSG00000185085.2\t62649635-62649684\n"
     ]
    }
   ],
   "source": [
    "!cat target-genes-sig-peaks.bed | awk -F \"\\t\" '{print $4\"\\t\"$2\"-\"$3}'"
   ]
  },
  {
   "cell_type": "markdown",
   "id": "7f5b9932-f1d7-437b-a543-768080515f11",
   "metadata": {},
   "source": [
    "### [SQLE](https://www.genecards.org/cgi-bin/carddisp.pl?gene=SQLE)\n",
    "chr8:124,998,497-125,022,283(GRCh38/hg38)"
   ]
  },
  {
   "cell_type": "code",
   "execution_count": 128,
   "id": "f1c8e500-515e-4d57-bd27-895c6bf9fcb3",
   "metadata": {},
   "outputs": [],
   "source": [
    "# %%R\n",
    "# p_sqle = plot_target_gene(\n",
    "#     radar,\"ENSG00000104549.12\",'SQLE',\n",
    "#     start=124998497,end=125022283,\n",
    "#     peak_start=124999289,\n",
    "#     peak_end=124999338\n",
    "# )"
   ]
  },
  {
   "cell_type": "code",
   "execution_count": 24,
   "id": "7101f0f0-28dc-4cc7-8614-a18aea60d1ef",
   "metadata": {},
   "outputs": [],
   "source": [
    "%%R\n",
    "p1 <- plotGeneCov(\n",
    "    radar,geneName = \"ENSG00000104549.12\", # SQLE\n",
    "    center = mean, libraryType = \"opposite\",\n",
    "    ZoomIn = c(124998497,125022283), adjustExprLevel = T\n",
    "    #, split = T\n",
    ") "
   ]
  },
  {
   "cell_type": "code",
   "execution_count": 35,
   "id": "213f36aa-7044-4a09-88bd-b4af645ba8dc",
   "metadata": {},
   "outputs": [],
   "source": [
    "%%R \n",
    "p1 <- p1 + ggtitle('SQLE') + theme_classic() + theme(\n",
    "    legend.position = \"none\",\n",
    "    axis.text.x = element_text(angle = 30, vjust = 1,hjust=1)\n",
    ")"
   ]
  },
  {
   "cell_type": "code",
   "execution_count": 48,
   "id": "ae67e771-3749-4636-94b9-6de0a6fac92d",
   "metadata": {},
   "outputs": [],
   "source": [
    "%%R\n",
    "p2 = plotGeneCov(\n",
    "    radar,geneName = \"ENSG00000104549.12\", # SQLE\n",
    "    center = mean, libraryType = \"opposite\",\n",
    "    ZoomIn = c(\n",
    "        124999289,\n",
    "        124999338 + 40\n",
    "    ), adjustExprLevel = T\n",
    "    #, split = T\n",
    ")"
   ]
  },
  {
   "cell_type": "code",
   "execution_count": 49,
   "id": "faa968b7-1912-4393-b1d2-4c994c980dc5",
   "metadata": {},
   "outputs": [],
   "source": [
    "%%R\n",
    "p2 <- p2 + ggtitle('SQLE peak') + theme_classic() + theme(\n",
    "    axis.text.x = element_text(angle = 30, vjust = 1,hjust=1)\n",
    ")"
   ]
  },
  {
   "cell_type": "code",
   "execution_count": 50,
   "id": "86a6dc57-ab4a-4265-90d3-fbc0672d0ca1",
   "metadata": {},
   "outputs": [
    {
     "data": {
      "image/png": "[encoded data removed]"
     },
     "metadata": {},
     "output_type": "display_data"
    }
   ],
   "source": [
    "%%R \n",
    "p_sqle <- p1 + p2\n",
    "p_sqle"
   ]
  },
  {
   "cell_type": "code",
   "execution_count": 51,
   "id": "59ba65e5-ebc4-4131-8534-4a912ce017d3",
   "metadata": {},
   "outputs": [],
   "source": [
    "%%R \n",
    "ggsave('SQLE.pdf',p_sqle,width=25,height=5)"
   ]
  },
  {
   "cell_type": "markdown",
   "id": "2bcc8cdf-cde6-4136-9aab-f31a288ac43f",
   "metadata": {},
   "source": [
    "### [INTS5](https://www.genecards.org/cgi-bin/carddisp.pl?gene=INTS5)\n",
    "chr11:62,646,848-62,653,302(GRCh38/hg38)"
   ]
  },
  {
   "cell_type": "code",
   "execution_count": null,
   "id": "dd07cb60-03d2-459f-91c5-06cbb4a114d4",
   "metadata": {},
   "outputs": [],
   "source": [
    "# %%R\n",
    "# p_ints5 = plot_target_gene(\n",
    "#     radar,\"ENSG00000185085.2\",'INTS5',\n",
    "#     start=62646848,end=62653302,\n",
    "#     peak_start=62649635,\n",
    "#     peak_end=62649684\n",
    "# )"
   ]
  },
  {
   "cell_type": "code",
   "execution_count": 52,
   "id": "1859fb47-f697-496e-8117-81c517ee9116",
   "metadata": {},
   "outputs": [],
   "source": [
    "%%R\n",
    "p3 = plotGeneCov(\n",
    "    radar,geneName = \"ENSG00000185085.2\", # \n",
    "    center = mean, libraryType = \"opposite\",\n",
    "    ZoomIn = c(62646848,62653302), adjustExprLevel = T\n",
    "    #, split = T\n",
    ")"
   ]
  },
  {
   "cell_type": "code",
   "execution_count": 53,
   "id": "6d0ffa20-48d9-4ea7-b061-ef518e2c9cee",
   "metadata": {},
   "outputs": [],
   "source": [
    "%%R \n",
    "p3 <- p3 + ggtitle('INTS5') + theme(\n",
    "    axis.text.x = element_text(angle = 30, vjust = 1,hjust=1),\n",
    "    legend.position = \"none\"\n",
    ")"
   ]
  },
  {
   "cell_type": "code",
   "execution_count": 57,
   "id": "27573b0e-d846-4171-9c99-89c40925a9a6",
   "metadata": {},
   "outputs": [],
   "source": [
    "%%R\n",
    "p4 = plotGeneCov(\n",
    "    radar,geneName = \"ENSG00000185085.2\", # INTS5\n",
    "    center = mean, libraryType = \"opposite\",\n",
    "    ZoomIn = c(\n",
    "        62649635 - 30,\n",
    "        62649684\n",
    "    ), adjustExprLevel = T\n",
    "    #, split = T\n",
    ")"
   ]
  },
  {
   "cell_type": "code",
   "execution_count": 58,
   "id": "26f98e1a-15d2-476f-a6fe-7b0b798cd7be",
   "metadata": {},
   "outputs": [],
   "source": [
    "%%R \n",
    "p4 <- p4 + ggtitle('INTS5 peak') + theme(axis.text.x = element_text(angle = 30, vjust = 1,hjust=1))"
   ]
  },
  {
   "cell_type": "code",
   "execution_count": 59,
   "id": "e4853cea-bcf1-415d-90a1-3fa40726767d",
   "metadata": {},
   "outputs": [
    {
     "data": {
      "image/png": "[encoded data removed]"
     },
     "metadata": {},
     "output_type": "display_data"
    }
   ],
   "source": [
    "%%R \n",
    "p_ints5 <- p3 + p4\n",
    "p_ints5"
   ]
  },
  {
   "cell_type": "code",
   "execution_count": 60,
   "id": "5c7f2eff-a879-497a-985a-d18d97cba803",
   "metadata": {},
   "outputs": [],
   "source": [
    "%%R \n",
    "ggsave('INTS5.pdf',p_ints5,width=25,height=5)"
   ]
  },
  {
   "cell_type": "markdown",
   "id": "feaa51d8-e9a0-4bc6-a1ce-8a0b961d577b",
   "metadata": {
    "tags": []
   },
   "source": [
    "## Extract Peak Sequence "
   ]
  },
  {
   "cell_type": "code",
   "execution_count": 91,
   "id": "3b8ccfda-b1da-4f4c-8f56-0886f3185077",
   "metadata": {},
   "outputs": [],
   "source": [
    "import pandas as pd "
   ]
  },
  {
   "cell_type": "code",
   "execution_count": 92,
   "id": "c445ddae-a4ca-452b-9eda-f4d6759e9504",
   "metadata": {},
   "outputs": [],
   "source": [
    "def read_fasta(path):\n",
    "    file = open(path)\n",
    "    lines = file.read().splitlines()\n",
    "    ids = [s[1:] for s in lines if '>' in s]\n",
    "    n = [i for i,s in enumerate(lines) if '>' in s]\n",
    "    n.append(len(lines))\n",
    "    sequences = [''.join(lines[i+1:j]) for i,j in zip(n[:-1],n[1:])]\n",
    "    file.close()\n",
    "    fa = dict(zip(ids, sequences))\n",
    "    return fa"
   ]
  },
  {
   "cell_type": "code",
   "execution_count": 93,
   "id": "f5b693d3-9fc5-49b6-8a66-782fbbdcbdeb",
   "metadata": {},
   "outputs": [],
   "source": [
    "def remove_intron(bed, fa):\n",
    "    '''\n",
    "    Remove introns for genes in given bed12 file \n",
    "    with blockSizes greater than 1\n",
    "    '''\n",
    "    # fa = read_fasta(fa)\n",
    "    # bed = pd.read_table(bed, header=0)\n",
    "    tochange = bed[bed.blockCount > 1]\n",
    "    starts = [tochange.blockStarts[i].split(',')[:tochange.blockCount[i]] for i in tochange.index.tolist() ]\n",
    "    sizes = [tochange.blockSizes[i].split(',')[:tochange.blockCount[i]] for i in tochange.index.tolist() ]\n",
    "    for id, x, l in zip(tochange.name.tolist(), starts, sizes):\n",
    "        fa[id] = ''.join([fa[id][int(i):int(i)+int(j)] for i,j in zip(x,l)])\n",
    "    return fa\n"
   ]
  },
  {
   "cell_type": "code",
   "execution_count": 94,
   "id": "83b73c72-58a4-4552-ada2-ce26d412a89b",
   "metadata": {},
   "outputs": [],
   "source": [
    "def search_fasta(fa1,fa2):\n",
    "    return dict(\n",
    "        [((x,fa1[x]),(y,fa2[y])) for x in fa1 for y in fa2 if fa1[x] in fa2[y] ]\n",
    "    )\n",
    "        "
   ]
  },
  {
   "cell_type": "code",
   "execution_count": 126,
   "id": "84793a98-8e11-4eb8-833b-4dff1fa45de1",
   "metadata": {},
   "outputs": [],
   "source": [
    "!samtools faidx /rumi/shams/abe/genomes/hg38/gencode.v34/GRCh38.primary_assembly.genome.fa"
   ]
  },
  {
   "cell_type": "code",
   "execution_count": 95,
   "id": "2b232304-107c-4a73-bdf0-0d98dd2c1e86",
   "metadata": {},
   "outputs": [
    {
     "name": "stdout",
     "output_type": "stream",
     "text": [
      "/usr/bin/bedtools\n"
     ]
    }
   ],
   "source": [
    "!which bedtools"
   ]
  },
  {
   "cell_type": "code",
   "execution_count": 49,
   "id": "22d3d15b-d95d-4415-a90c-3160b0985ed8",
   "metadata": {},
   "outputs": [],
   "source": [
    "# %%bash \n",
    "# bedtools getfasta -name -s -fi \\\n",
    "# /rumi/shams/abe/genomes/hg38/gencode.v34/GRCh38.primary_assembly.genome.fa \\\n",
    "# -bed target-genes.bed -split -fo target-genes.fa"
   ]
  },
  {
   "cell_type": "code",
   "execution_count": 96,
   "id": "53b70718-58c2-4cc2-8d5a-5e0942f67973",
   "metadata": {},
   "outputs": [
    {
     "name": "stdout",
     "output_type": "stream",
     "text": [
      "name\tstart-end\n",
      "ENSG00000104549.12\t124999289-124999338\n",
      "ENSG00000185085.2\t62647794-62647843\n",
      "ENSG00000185085.2\t62649635-62649684\n"
     ]
    }
   ],
   "source": [
    "!cat target-genes-sig-peaks.bed | awk -F \"\\t\" '{print $4\"\\t\"$2\"-\"$3}'"
   ]
  },
  {
   "cell_type": "code",
   "execution_count": 97,
   "id": "cf91daf1-156d-4c4a-9653-db72c04034fd",
   "metadata": {},
   "outputs": [],
   "source": [
    "%%bash \n",
    "bedtools getfasta -name -s -fi \\\n",
    "/rumi/shams/abe/genomes/hg38/gencode.v34/GRCh38.primary_assembly.genome.fa \\\n",
    "-bed target-genes-sig-peaks.bed -split -fo target-genes-sig-peaks.fa"
   ]
  },
  {
   "cell_type": "code",
   "execution_count": 98,
   "id": "6826ec96-935b-4cbc-825b-f8587cc92d74",
   "metadata": {},
   "outputs": [],
   "source": [
    "# target_fa = read_fasta('target-genes.fa')\n",
    "target_fa = read_fasta('target-genes-sig-peaks.fa')\n",
    "\n",
    "# target_fa = dict([(key.split('::')[0]+'_peak'+str(i),target_fa[key]) for i,key in enumerate(target_fa)])"
   ]
  },
  {
   "cell_type": "code",
   "execution_count": 99,
   "id": "35ad2284-b6d3-4a28-b2a7-35c0c7a7970b",
   "metadata": {},
   "outputs": [],
   "source": [
    "genome_fa = read_fasta('/rumi/shams/abe/genomes/hg38/gencode.v34/gencode.v34.transcripts.fa')"
   ]
  },
  {
   "cell_type": "code",
   "execution_count": 100,
   "id": "b16fea25-9c6c-4f51-a220-834306d32e0d",
   "metadata": {},
   "outputs": [],
   "source": [
    "o = search_fasta(target_fa,genome_fa)"
   ]
  },
  {
   "cell_type": "code",
   "execution_count": 101,
   "id": "7ab8cf44-32c4-4e91-98a3-11f38260dc30",
   "metadata": {},
   "outputs": [],
   "source": [
    "transcripts = dict(list({(\n",
    "    o[peak][0].split('|')[1], o[peak][1]\n",
    ") for peak in o.keys()}))"
   ]
  },
  {
   "cell_type": "code",
   "execution_count": 103,
   "id": "d9151a12-148c-42e3-9668-326da70ef543",
   "metadata": {},
   "outputs": [
    {
     "data": {
      "text/plain": [
       "{'ENSG00000185085.2': 'ATGCGCCGCCTGCGCTCCGCCGCTCGCGCCTCGGGCTCGGCTCGGGCTCCGGGATGTCCGCGCTGTGCGACCCTCCCGGGGCCCCAGGGCCACCTGGGCCTGCCCCGGCCACCCACGGTCCCGCGCCTCTCAGTGCTCAGGAGCTGTCCCAGGAAATCAAGGCTTTTCTGACTGGCGTAGACCCCATTCTGGGCCACCAACTCTCAGCCCGGGAACATGCTCGCTGTGGTCTTCTCCTGCTCCGTTCTTTGCCACCTGCTCGGGCTGCTGTGCTTGACCACTTGAGAGGTGTCTTTGATGAGAGTGTCCGGGCCCACCTGGCTGCCCTGGATGAAACCCCTGTGGCTGGTCCACCTCACCTCCGTCCACCTCCACCCTCTCATGTCCCTGCTGGTGGACCTGGTCTAGAGGATGTGGTTCAGGAAGTGCAGCAGGTGCTGTCTGAGTTTATCCGGGCCAACCCAAAGGCCTGGGCACCTGTGATTAGTGCATGGTCCATTGACCTCATGGGGCAACTGAGCAGCACGTACTCAGGCCAGCACCAGCGTGTTCCCCACGCTACTGGCGCTCTTAATGAACTGCTACAGCTGTGGATGGGTTGTAGGGCCACGCGTACATTAATGGACATCTATGTGCAGTGCCTCTCGGCTCTCATTGGTAGCTGCCCAGATGCGTGTGTGGATGCCTTGCTGGATACCTCTGTTCAGCATTCTCCACACTTTGACTGGGTTGTGGCACATATTGGCTCCTCTTTTCCTGGCACCATCATTTCCCGGGTTCTCTCCTGTGGCCTTAAGGACTTTTGTGTCCATGGTGGGGCTGGAGGTGGAGCTGGCAGTAGTGGTGGAAGCTCTTCTCAGACCCCCTCTACAGACCCCTTCCCTGGATCTCCTGCCATTCCTGCGGAGAAACGGGTGCCCAAGATTGCCTCAGTTGTAGGCATCCTAGGTCACCTGGCCTCCCGCCACGGAGATAGCATCCGACGGGAGCTCCTGCGAATGTTCCATGATAGCCTGGCAGGGGGATCTGGAGGCCGCAGTGGGGACCCCTCCCTTCAGGCCACGGTTCCGTTCCTACTGCAGCTGGCAGTCATGTCACCAGCTTTGCTGGGCACTGTCTCTGGAGAGCTTGTGGATTGCCTCAAGCCCCCAGCTGTGCTGAGCCAGCTGCAGCAACACCTTCAAGGATTCCCCCGAGAGGAGCTGGACAACATGTTGAACCTGGCTGTGCACCTGGTGAGCCAGGCCTCTGGGGCAGGTGCCTACCGCTTGCTGCAGTTCCTGGTGGACACAGCTATGCCTGCTTCGGTCATTACCACCCAGGGCCTGGCTGTGCCAGACACCGTGCGTGAGGCTTGTGACCGGCTAATCCAGCTGCTGCTGCTGCACCTGCAAAAACTGGTTCATCACCGGGGAGGGTCTCCTGGGGAAGGGGTGCTAGGCCCGCCCCCACCTCCCCGCTTGGTGCCCTTTTTAGATGCGCTCAAAAACCATGTTGGAGAGCTGTGTGGAGAGACGTTACGATTGGAACGGAAGCGCTTCCTCTGGCAGCACCAGCTCTTGGGCCTGCTGTCTGTCTATACCCGGCCTAGCTGTGGACCTGAGGCCTTGGGCCATCTGCTGAGCCGAGCCCGAAGCCCTGAAGAGTTGAGTTTGGCCACCCAGTTATATGCAGGGCTAGTGGTCAGCCTCTCTGGCCTCCTGCCCCTGGCTTTCCGAAGCTGTCTGGCTCGGGTGCATGCAGGGACATTACAGCCTCCCTTCACGGCCCGGTTCCTGCGCAACTTGGCACTGCTAGTAGGGTGGGAACAGCAGGGTGGCGAGGGCCCTGCAGCCCTAGGGGCGCACTTTGGGGAATCTGCCTCAGCCCATCTGTCTGACCTGGCTCCTCTCCTGCTACATCCTGAGGAGGAAGTAGCTGAAGCTGCTGCCTCTCTCCTGGCCATTTGTCCCTTTCCTTCTGAAGCCTTATCCCCCTCCCAGCTCCTGGGACTGGTAAGGGCTGGGGTGCACCGCTTCTTTGCCTCTCTGAGGCTGCATGGACCCCCAGGTGTGGCCTCAGCCTGTCAGCTTCTCACCCGCCTGTCTCAGACATCCCCAGCTGGGCTCAAGGCTGTCCTGCAGCTGCTGGTTGAAGGAGCCTTACATCGAGGCAACACAGAACTGTTTGGTGGGCAAGTAGATGGGGACAATGAGACTCTCTCAGTTGTTTCAGCTTCTTTGGCTTCTGCCTCCCTGTTGGACACTAACCGGAGGCACACTGCAGCTGTGCCAGGTCCTGGAGGGATTTGGTCAGTTTTCCATGCTGGAGTCATCGGCCGTGGCTTAAAGCCACCCAAGTTTGTCCAGTCACGAAATCAGCAGGAAGTGATCTATAACACCCAGAGCCTCCTCAGCCTCCTGGTTCACTGCTGCAGTGCCCCAGGGGGCACTGAATGTGGGGAATGCTGGGGGGCACCCATCTTGAGTCCAGAGGCAGCCAAAGCAGTGGCAGTGACCTTGGTGGAGAGTGTGTGTCCCGATGCAGCTGGTGCAGAGCTGGCCTGGCCCCCCGAGGAACACGCCCGGGCCACCGTGGAGCGGGATCTCCGCATTGGCCGGCGCTTCCGCGAACAGCCCCTGCTCTTTGAGCTGTTAAAGCTGGTAGCAGCTGCACCCCCAGCCCTGTGCTACTGTTCCGTGCTGCTTCGGGGGCTGCTGGCCGCCCTCTTGGGCCATTGGGAAGCCTCTCGCCACCCTGACACGACCCACTCCCCCTGGCACCTGGAGGCATCCTGCACCTTAGTGGCTGTCATGGCTGAGGGAAGCCTCCTGCCTCCGGCCCTGGGTAATATGCATGAAGTATTTAGCCAACTGGCACCTTTCGAGGTGCGTCTGCTGCTGCTCAGTGTCTGGGGTTTTCTCCGGGAGCATGGGCCCTTGCCTCAGAAGTTCATCTTCCAATCAGAGCGGGGTCGCTTCATTCGGGACTTCTCCAGGGAGGGTGGAGGTGAGGGTGGACCCCATCTGGCTGTGCTGCACAGTGTCCTCCACCGCAACATCGACCGCCTAGGTCTTTTCTCTGGCCGTTTCCAGGCACCTTCACCGTCCACTCTCCTTCGACAGGGGACGTAGCCTTTTCTTGCTCTGGAAGCCCAGGGAGGTTGAGCAGTGAGAGAGGGAAGGGACTAACGTGCTCCGGAAGGGTGGAGGTTTCTCTTCTAAGTCCTTGGTCTAAAGAGCGCTGTCACTTTTTTCTCTCCCACTTTTTTTTTTCTAAATAAAATTTGCCAACTTGAGAAAACCA',\n",
       " 'ENSG00000104549.12': 'GAGACGCGTGGAGCCTGGCGGCGAGTGGGGGCGTGCGACGGTTACTCTGGTTACTGGGGCCGCGCCGCGCTGGCGAGAGCCGCCGCCCGCGAGGGATGCTGGTGAGGAAGCCGTCGGGAGCCGCCGCCGCCATCTGAGGGAGGTACCCTGGAAACCACCTTTTATCGGTGGGGAAGTGCAGTCGCGGTGGGCGGCTCTGGGGGCCAGCGAAACGGGAGGCCTCTAAATCTTTAGGTTGGGGCTGCATTGCCCTGGAGCCGCACTCTTGAGTCCGAGGCCATCTTTTGTTGGAGAAGGCGTCGGCGTTGGCGTTTTCCCGAGGTTGGGCTGTACAGTGTCTCCGTCCGCGGAAAAAGAAGCCTCTGAACCCGCGCCGGCCCGCAGCCCCCGTGCCTTCCGGCCGCTGCTCGCCGTCGCCAGAGGCTAGGCCACGTTTCCCCCAGTGCCGAGGTGTTTCTGTGACCCTCCCTCCACTCCCATTCCCTTCTGAAAGGGCACCTGCTCTTGGTGAGAAAAGAAATTATAGCACGAAGAGCCAGTATCAGAAGAGTATCCATCACCCGCAGCAACCGCTCAGGGAACACCATCAAAAAAGAAAAAAAGGGAATATCTGGATTTCCTGGGCGAGGAGGAGCGAGTCTGCTCGGGAGCTGTTCCAGCAGGCGATTTTTAAATACTGCTTTCTACGCCCTATACAACTTGGCTTCACATACTTTTACACTAACTTTATATGATTTTTAAAAACTGGTCTGATCGGACTTCTCGTCCTGGGACACTGTTTACTGGAGTCTGGCCGGCTCTCCGTGCTCCTCTTGGTACCTCATTTTGGGGAGAACCTTAAACCCACTCGAGCAGATAATCTCCGCCTTGACCGGTGCCACCAAAGAAGCCTTGGAACCATGTGGACTTTTCTGGGCATTGCCACTTTCACCTATTTTTATAAGAAGTTCGGGGACTTCATCACTTTGGCCAACAGGGAGGTCCTGTTGTGCGTGCTGGTGTTCCTCTCGCTGGGCCTGGTGCTCTCCTACCGCTGTCGCCACCGAAACGGGGGTCTCCTCGGGCGCCAGCAGAGCGGCTCCCAGTTCGCCCTCTTCTCGGATATTCTCTCAGGCCTGCCTTTCATTGGCTTCTTCTGGGCCAAATCCCCCCCTGAATCAGAAAATAAGGAGCAGCTCGAGGCCAGGAGGCGCAGAAAAGGAACCAATATTTCAGAAACAAGCTTAATAGGAACAGCTGCCTGTACATCAACATCTTCTCAGAATGACCCAGAAGTTATCATCGTGGGAGCTGGCGTGCTTGGCTCTGCTTTGGCAGCTGTGCTTTCCAGAGATGGAAGAAAGGTGACAGTCATTGAGAGAGACTTAAAAGAGCCTGACAGAATAGTTGGAGAATTCCTGCAGCCGGGTGGTTATCATGTTCTCAAAGACCTTGGTCTTGGAGATACAGTGGAAGGTCTTGATGCCCAGGTTGTAAATGGTTACATGATTCATGATCAGGAAAGCAAATCAGAGGTTCAGATTCCTTACCCTCTGTCAGAAAACAATCAAGTGCAGAGTGGAAGAGCTTTCCATCACGGAAGATTCATCATGAGTCTCCGGAAAGCAGCTATGGCAGAGCCCAATGCAAAGTTTATTGAAGGTGTTGTGTTACAGTTATTAGAGGAAGATGATGTTGTGATGGGAGTTCAGTACAAGGATAAAGAGACTGGAGATATCAAGGAACTCCATGCTCCACTGACTGTTGTTGCAGATGGGCTTTTCTCCAAGTTCAGGAAAAGCCTGGTCTCCAATAAAGTTTCTGTATCATCTCATTTTGTTGGCTTTCTTATGAAGAATGCACCACAGTTTAAAGCAAATCATGCTGAACTTATTTTAGCTAACCCGAGTCCAGTTCTCATCTACCAGATTTCATCCAGTGAAACTCGAGTACTTGTTGACATTAGAGGAGAAATGCCAAGGAATTTAAGAGAATACATGGTTGAAAAAATTTACCCACAAATACCTGATCACCTGAAAGAACCATTCTTAGAAGCCACTGACAATTCTCATCTGAGGTCCATGCCAGCAAGCTTCCTTCCTCCTTCATCAGTGAAGAAACGAGGTGTTCTTCTTTTGGGAGACGCATATAATATGAGGCATCCACTTACTGGTGGAGGAATGACTGTTGCTTTTAAAGATATAAAACTATGGAGAAAACTGCTAAAGGGTATCCCTGACCTTTATGATGATGCAGCTATTTTCGAGGCCAAAAAATCATTTTACTGGGCAAGAAAAACATCTCATTCCTTTGTCGTGAATATCCTTGCTCAGGCTCTTTATGAATTATTTTCTGCCACAGATGATTCCCTGCATCAACTAAGAAAAGCCTGTTTTCTTTATTTCAAACTTGGTGGCGAATGTGTTGCGGGTCCTGTTGGGCTGCTTTCTGTATTGTCTCCTAACCCTCTAGTTTTAATTGGACACTTCTTTGCTGTTGCAATCTATGCCGTGTATTTTTGCTTTAAGTCAGAACCTTGGATTACAAAACCTCGAGCCCTTCTCAGTAGTGGTGCTGTATTGTACAAAGCGTGTTCTGTAATATTTCCTCTAATTTACTCAGAAATGAAGTATATGGTTCATTAAGCTTAAAGGGGAACCATTTGTGAATGAATATTTGGAACTTACCAAGTCCTAAGAGACTTTTGGAAGAGGATATATATAGCATAGTACCATACCACTTATAAAGTGGAAACTCTTGGACCAAGATTTGGATTAATTTGTTTTTGAAGTTTTTTGTATATAAATATGTAAATACATGCTTTAATTTGCAATTTAAAATGAAGGGGTTAAATAAGTTAGACATTTAAAAGAAATGATTGTTACCATAAATTAGTGCTAATGCTGAGGAGAACTACAGTTTTTCTTTTGAATTTAGTATTTGAGATGAGTTGTTGGGACATGCAAATAAAATGAAGAATGAA'}"
      ]
     },
     "execution_count": 103,
     "metadata": {},
     "output_type": "execute_result"
    }
   ],
   "source": [
    "transcripts"
   ]
  },
  {
   "cell_type": "code",
   "execution_count": 105,
   "id": "03bf648e-43e9-48c2-9b89-fc7a1c0d8e89",
   "metadata": {},
   "outputs": [
    {
     "name": "stdout",
     "output_type": "stream",
     "text": [
      ">ENSG00000104549.12::chr8:124999289-124999338(+)\n",
      "GAGTCTGGCCGGCTCTCCGTGCTCCTCTTGGTACCTCATTTTGGGGAGA\n",
      ">ENSG00000185085.2::chr11:62647794-62647843(-)\n",
      "GGTCAGTTTTCCATGCTGGAGTCATCGGCCGTGGCTTAAAGCCACCCAA\n",
      ">ENSG00000185085.2::chr11:62649635-62649684(-)\n",
      "TATCCGGGCCAACCCAAAGGCCTGGGCACCTGTGATTAGTGCATGGTCC\n"
     ]
    }
   ],
   "source": [
    "cat target-genes-sig-peaks.fa"
   ]
  },
  {
   "cell_type": "code",
   "execution_count": 112,
   "id": "ea3951fb-fbff-4f6c-8838-60d1f27fb96b",
   "metadata": {},
   "outputs": [
    {
     "data": {
      "text/plain": [
       "[{'ENSG00000104549.12': 'GAGTCTGGCCGGCTCTCCGTGCTCCTCTTGGTACCTCATTTTGGGGAGA'},\n",
       " {'ENSG00000185085.2': 'GGTCAGTTTTCCATGCTGGAGTCATCGGCCGTGGCTTAAAGCCACCCAA'},\n",
       " {'ENSG00000185085.2': 'TATCCGGGCCAACCCAAAGGCCTGGGCACCTGTGATTAGTGCATGGTCC'}]"
      ]
     },
     "execution_count": 112,
     "metadata": {},
     "output_type": "execute_result"
    }
   ],
   "source": [
    "# bed = pd.read_table('target-genes.bed', header=0)\n",
    "bed = pd.read_table('target-genes-sig-peaks.bed', header=0)\n",
    "\n",
    "[\n",
    "    remove_intron(\n",
    "        bed[bed.iloc[:,1] == int(peak.split('::')[1].split(':')[1].split('-')[0])],\n",
    "        {peak.split('::')[0]: target_fa[peak]}\n",
    "    )\n",
    "    for peak in target_fa\n",
    "]"
   ]
  },
  {
   "cell_type": "code",
   "execution_count": null,
   "id": "0611e4b5-e320-4760-9063-f869577d3e1f",
   "metadata": {},
   "outputs": [],
   "source": []
  }
 ],
 "metadata": {
  "kernelspec": {
   "display_name": "Python [conda env:radar]",
   "language": "python",
   "name": "conda-env-radar-py"
  },
  "language_info": {
   "codemirror_mode": {
    "name": "ipython",
    "version": 3
   },
   "file_extension": ".py",
   "mimetype": "text/x-python",
   "name": "python",
   "nbconvert_exporter": "python",
   "pygments_lexer": "ipython3",
   "version": "3.8.6"
  }
 },
 "nbformat": 4,
 "nbformat_minor": 5
}
