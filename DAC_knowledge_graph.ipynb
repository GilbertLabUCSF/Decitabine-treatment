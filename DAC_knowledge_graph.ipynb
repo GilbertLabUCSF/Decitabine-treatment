{
 "cells": [
  {
   "cell_type": "markdown",
   "id": "06f7cf1b-1606-45ab-874e-4b170a4f958f",
   "metadata": {},
   "source": [
    "__Aim:__\n",
    "- [x] \n",
    "- [ ] "
   ]
  },
  {
   "cell_type": "markdown",
   "id": "44368fca-41c3-4fcd-99ae-311a2b458561",
   "metadata": {},
   "source": [
    "___"
   ]
  },
  {
   "cell_type": "markdown",
   "id": "c1c37fe2-0d76-416d-8bf2-f9c1a0c2dff8",
   "metadata": {
    "tags": []
   },
   "source": [
    "### Load ..."
   ]
  },
  {
   "cell_type": "code",
   "execution_count": 1,
   "id": "a800836e-7645-4ac8-b2ea-467590d23327",
   "metadata": {
    "tags": []
   },
   "outputs": [],
   "source": [
    "import numpy as np \n",
    "import pandas as pd\n",
    "import anndata as ad\n",
    "import screenpro as scp\n",
    "\n",
    "from screenpro.load import loadScreenProcessingData, read_screen_pkl"
   ]
  },
  {
   "cell_type": "code",
   "execution_count": 2,
   "id": "190d718e-c201-4a63-9a14-e1840df6780e",
   "metadata": {
    "tags": []
   },
   "outputs": [],
   "source": [
    "from scripts.util import *"
   ]
  },
  {
   "cell_type": "code",
   "execution_count": 3,
   "id": "f21666e5-1f60-419c-b581-8ee09de2ce9b",
   "metadata": {
    "tags": []
   },
   "outputs": [],
   "source": [
    "import matplotlib.pyplot as plt\n",
    "\n",
    "from matplotlib import font_manager as fm\n",
    "from matplotlib import rcParams\n",
    "\n",
    "font_files = fm.findSystemFonts(fontpaths=None, fontext='ttf')\n",
    "\n",
    "for font_file in font_files:\n",
    "    fm.fontManager.addfont(font_file)\n",
    "\n",
    "# {f.name for f in matplotlib.font_manager.fontManager.ttflist}\n",
    "\n",
    "rcParams['font.family'] = ['Arial']"
   ]
  },
  {
   "cell_type": "markdown",
   "id": "96aa6caf-5552-4ad4-8d95-26f2560a0416",
   "metadata": {},
   "source": [
    "___"
   ]
  },
  {
   "cell_type": "code",
   "execution_count": 4,
   "id": "1b0f186a-7d12-4955-83d2-9c9fa65bf117",
   "metadata": {
    "tags": []
   },
   "outputs": [],
   "source": [
    "import igraph as ig"
   ]
  },
  {
   "cell_type": "code",
   "execution_count": 5,
   "id": "8c8bd695-55ad-4e52-82ae-19729b50f19d",
   "metadata": {
    "tags": []
   },
   "outputs": [],
   "source": [
    "from tdc.utils.knowledge_graph import KnowledgeGraph, build_KG"
   ]
  },
  {
   "cell_type": "code",
   "execution_count": 6,
   "id": "b7e37f98-9fed-4327-a016-a2b40ecd9b32",
   "metadata": {
    "tags": []
   },
   "outputs": [],
   "source": [
    "wd = '/data_gilbert/home/aarab/AML/Decitabine-treatment/DAC'"
   ]
  },
  {
   "cell_type": "markdown",
   "id": "487c28db-f301-49bc-82f3-29979ea38d28",
   "metadata": {},
   "source": [
    "### "
   ]
  },
  {
   "cell_type": "code",
   "execution_count": 7,
   "id": "05b09ba4-1c5a-4a80-b830-fb02a4faac0a",
   "metadata": {
    "tags": []
   },
   "outputs": [],
   "source": [
    "comps = load_data(comparisons=True, wd=wd)"
   ]
  },
  {
   "cell_type": "markdown",
   "id": "84b03e18-be9e-4876-a472-531f354c0dc2",
   "metadata": {},
   "source": [
    "### "
   ]
  },
  {
   "cell_type": "markdown",
   "id": "ce4e74f7-a06d-4417-b3f3-96e1960845a3",
   "metadata": {
    "tags": []
   },
   "source": [
    "- **$\\Delta$RNA methylation**  (hl60 cell line)"
   ]
  },
  {
   "cell_type": "code",
   "execution_count": 8,
   "id": "f2d6837e-59d9-402e-a10f-908545aad2d3",
   "metadata": {
    "tags": []
   },
   "outputs": [],
   "source": [
    "cell_line_names = {\n",
    "    'hl60_72h':'HL-60',\n",
    "    'molm13':'MOLM-13',\n",
    "    'skm1':'SKM-1'\n",
    "}"
   ]
  },
  {
   "cell_type": "code",
   "execution_count": 15,
   "id": "60cbcca7-5d6b-4328-a6ba-b4f4b14d3b41",
   "metadata": {
    "tags": []
   },
   "outputs": [],
   "source": [
    "def build_mtyl_kg(cell_line):\n",
    "    \n",
    "    mtyl_dict = set_Top_Mtyl(1,0.05,data=comps)\n",
    "\n",
    "    mtyl_up_kg = build_KG(\n",
    "        indices = mtyl_dict['up'].reset_index(drop=True).index,# a list to assign row names of output data frame\n",
    "        relation = 'RNA_methylation',# a list or string to assign values\n",
    "        display_relation= 'hypermethylated',# a list or string to assign values\n",
    "\n",
    "        x_id = cell_line_names[cell_line],# a list or string to assign values\n",
    "        x_type = 'cell_line',# a list or string to assign values\n",
    "        x_name = cell_line_names[cell_line],# a list or string to assign values\n",
    "        x_source = 'CCLE',# a list or string to assign values\n",
    "\n",
    "        y_id = mtyl_dict['up'].gene_name.to_list(),# a list or string to assign values\n",
    "        y_type = 'gene',# a list or string to assign values\n",
    "        y_name = mtyl_dict['up'].gene_name.to_list(),# a list or string to assign values\n",
    "        y_source = 'NCBI'# a list or string to assign values\n",
    "    )\n",
    "    \n",
    "    mtyl_dn_kg = build_KG(\n",
    "        indices = mtyl_dict['down'].reset_index(drop=True).index,# a list to assign row names of output data frame\n",
    "        relation = 'RNA_methylation',# a list or string to assign values\n",
    "        display_relation= 'hypomethylated',# a list or string to assign values\n",
    "\n",
    "        x_id = cell_line_names[cell_line],# a list or string to assign values\n",
    "        x_type = 'cell_line',# a list or string to assign values\n",
    "        x_name = cell_line_names[cell_line],# a list or string to assign values\n",
    "        x_source = 'CCLE',# a list or string to assign values\n",
    "\n",
    "        y_id = mtyl_dict['down'].gene_name.to_list(),# a list or string to assign values\n",
    "        y_type = 'gene',# a list or string to assign values\n",
    "        y_name = mtyl_dict['down'].gene_name.to_list(),# a list or string to assign values\n",
    "        y_source = 'NCBI'# a list or string to assign values\n",
    "    )\n",
    "    \n",
    "    return pd.concat([mtyl_up_kg.df,mtyl_dn_kg.df])"
   ]
  },
  {
   "cell_type": "code",
   "execution_count": 17,
   "id": "667cc66f-812e-4d81-9688-ce63cc560f28",
   "metadata": {},
   "outputs": [
    {
     "name": "stdout",
     "output_type": "stream",
     "text": [
      "Subset Top Mtyl data frame:\n",
      "up:  1704\n",
      "down: 1210\n",
      "(fc_thr=1, pv_thr=0.05)\n"
     ]
    }
   ],
   "source": [
    "mtyl_kg = KnowledgeGraph(\n",
    "    df=build_mtyl_kg('hl60_72h')\n",
    ")"
   ]
  },
  {
   "cell_type": "markdown",
   "id": "ca49925d-7a00-4248-bd2c-cfeaf95697d5",
   "metadata": {},
   "source": [
    "### "
   ]
  },
  {
   "cell_type": "markdown",
   "id": "1b06248b-d43e-4aa2-b274-14e356c1d7b9",
   "metadata": {
    "tags": []
   },
   "source": [
    "- **$\\Delta$RNA expression** (For all 6 AML cell lines)"
   ]
  },
  {
   "cell_type": "code",
   "execution_count": 18,
   "id": "f3d30b38-0fc6-4bdb-9c34-8d0923793ce8",
   "metadata": {
    "tags": []
   },
   "outputs": [],
   "source": [
    "cell_line_names = {\n",
    "    'hl60_72h':'HL-60',\n",
    "    'molm13':'MOLM-13',\n",
    "    'skm1':'SKM-1'\n",
    "}"
   ]
  },
  {
   "cell_type": "code",
   "execution_count": 19,
   "id": "166dbcbd-0e12-47f4-8db1-9454a3683b93",
   "metadata": {
    "tags": []
   },
   "outputs": [],
   "source": [
    "def build_exp_kg(cell_line):\n",
    "    exp_dict = set_Top_Exp(0.1,0.05,data=comps,comp=cell_line)\n",
    "\n",
    "    exp_up_kg = build_KG(\n",
    "        indices = exp_dict['up'].reset_index(drop=True).index,# a list to assign row names of output data frame\n",
    "        relation = 'RNA_expression',# a list or string to assign values\n",
    "        display_relation= 'up_regulated',# a list or string to assign values\n",
    "\n",
    "        x_id = cell_line_names[cell_line],# a list or string to assign values\n",
    "        x_type = 'cell_line',# a list or string to assign values\n",
    "        x_name = cell_line_names[cell_line],# a list or string to assign values\n",
    "        x_source = 'CCLE',# a list or string to assign values\n",
    "\n",
    "        y_id = exp_dict['up'].gene_name.to_list(),# a list or string to assign values\n",
    "        y_type = 'gene',# a list or string to assign values\n",
    "        y_name = exp_dict['up'].gene_name.to_list(),# a list or string to assign values\n",
    "        y_source = 'NCBI'# a list or string to assign values\n",
    "    )\n",
    "    \n",
    "    exp_dn_kg = build_KG(\n",
    "        indices = exp_dict['down'].reset_index(drop=True).index,# a list to assign row names of output data frame\n",
    "        relation = 'RNA_expression',# a list or string to assign values\n",
    "        display_relation= 'down_regulated',# a list or string to assign values\n",
    "\n",
    "        x_id = cell_line_names[cell_line],# a list or string to assign values\n",
    "        x_type = 'cell_line',# a list or string to assign values\n",
    "        x_name = cell_line_names[cell_line],# a list or string to assign values\n",
    "        x_source = 'CCLE',# a list or string to assign values\n",
    "\n",
    "        y_id = exp_dict['down'].gene_name.to_list(),# a list or string to assign values\n",
    "        y_type = 'gene',# a list or string to assign values\n",
    "        y_name = exp_dict['down'].gene_name.to_list(),# a list or string to assign values\n",
    "        y_source = 'NCBI'# a list or string to assign values\n",
    "    )\n",
    "    \n",
    "    return pd.concat([exp_up_kg.df,exp_dn_kg.df])"
   ]
  },
  {
   "cell_type": "code",
   "execution_count": 20,
   "id": "e1e290fd-591f-486f-89f5-fc5525bdfdba",
   "metadata": {
    "tags": []
   },
   "outputs": [
    {
     "name": "stdout",
     "output_type": "stream",
     "text": [
      "Subset Top Exp data frame:\n",
      "up:  2841\n",
      "down: 4410\n",
      "(molm13)\n",
      "(fc_thr=0.1, pv_thr=0.05\n",
      "Subset Top Exp data frame:\n",
      "up:  5060\n",
      "down: 5036\n",
      "(skm1)\n",
      "(fc_thr=0.1, pv_thr=0.05\n",
      "Subset Top Exp data frame:\n",
      "up:  3512\n",
      "down: 2732\n",
      "(hl60_72h)\n",
      "(fc_thr=0.1, pv_thr=0.05\n"
     ]
    }
   ],
   "source": [
    "exp_kg = KnowledgeGraph(\n",
    "    df=pd.concat([\n",
    "        build_exp_kg('molm13'),\n",
    "        build_exp_kg('skm1'),\n",
    "        build_exp_kg('hl60_72h')\n",
    "    ]).reset_index(drop=True)\n",
    ")"
   ]
  },
  {
   "cell_type": "markdown",
   "id": "2f644c75-a3ec-40a4-80a8-1b566f9c6a52",
   "metadata": {},
   "source": [
    "### "
   ]
  },
  {
   "cell_type": "markdown",
   "id": "ea0497a2-45f9-4492-98c6-ce026d3c4115",
   "metadata": {
    "tags": []
   },
   "source": [
    "- **$\\Delta$RNA stability** (For all 6 AML cell lines)"
   ]
  },
  {
   "cell_type": "code",
   "execution_count": 21,
   "id": "768b976c-3ea3-4f5c-b3cd-096ce5b61da4",
   "metadata": {
    "tags": []
   },
   "outputs": [],
   "source": [
    "def build_stbl_kg(cell_line):\n",
    "    experiment = cell_line\n",
    "    \n",
    "    stbl_dict = set_Top_Stbl(0.1,0.05,data=comps,comp=experiment)\n",
    "\n",
    "    stbl_up_kg = build_KG(\n",
    "        indices = stbl_dict['up'].reset_index(drop=True).index,# a list to assign row names of output data frame\n",
    "        relation = 'RNA_stability',# a list or string to assign values\n",
    "        display_relation= 'up_regulated',# a list or string to assign values\n",
    "\n",
    "        x_id = cell_line_names[cell_line],# a list or string to assign values\n",
    "        x_type = 'cell_line',# a list or string to assign values\n",
    "        x_name = cell_line_names[cell_line],# a list or string to assign values\n",
    "        x_source = 'CCLE',# a list or string to assign values\n",
    "\n",
    "        y_id = stbl_dict['up'].gene_name.to_list(),# a list or string to assign values\n",
    "        y_type = 'gene',# a list or string to assign values\n",
    "        y_name = stbl_dict['up'].gene_name.to_list(),# a list or string to assign values\n",
    "        y_source = 'NCBI'# a list or string to assign values\n",
    "    )\n",
    "    \n",
    "    stbl_dn_kg = build_KG(\n",
    "        indices = stbl_dict['down'].reset_index(drop=True).index,# a list to assign row names of output data frame\n",
    "        relation = 'RNA_stability',# a list or string to assign values\n",
    "        display_relation= 'down_regulated',# a list or string to assign values\n",
    "\n",
    "        x_id = cell_line_names[cell_line],# a list or string to assign values\n",
    "        x_type = 'cell_line',# a list or string to assign values\n",
    "        x_name = cell_line_names[cell_line],# a list or string to assign values\n",
    "        x_source = 'CCLE',# a list or string to assign values\n",
    "\n",
    "        y_id = stbl_dict['down'].gene_name.to_list(),# a list or string to assign values\n",
    "        y_type = 'gene',# a list or string to assign values\n",
    "        y_name = stbl_dict['down'].gene_name.to_list(),# a list or string to assign values\n",
    "        y_source = 'NCBI'# a list or string to assign values\n",
    "    )\n",
    "    \n",
    "    return pd.concat([stbl_up_kg.df,stbl_dn_kg.df])"
   ]
  },
  {
   "cell_type": "code",
   "execution_count": 22,
   "id": "75a482b4-5aa2-4abd-b568-67e2312cee29",
   "metadata": {
    "tags": []
   },
   "outputs": [
    {
     "name": "stdout",
     "output_type": "stream",
     "text": [
      "Subset Top Stbl data frame:\n",
      "up:  1708\n",
      "down: 1978\n",
      "(molm13)\n",
      "(fc_thr=0.1, pv_thr=0.05\n",
      "Subset Top Stbl data frame:\n",
      "up:  1480\n",
      "down: 1869\n",
      "(skm1)\n",
      "(fc_thr=0.1, pv_thr=0.05\n",
      "Subset Top Stbl data frame:\n",
      "up:  566\n",
      "down: 494\n",
      "(hl60_72h)\n",
      "(fc_thr=0.1, pv_thr=0.05\n"
     ]
    }
   ],
   "source": [
    "stbl_kg = KnowledgeGraph(\n",
    "    df=pd.concat([\n",
    "        build_stbl_kg('molm13'),\n",
    "        build_stbl_kg('skm1'),\n",
    "        build_stbl_kg('hl60_72h')\n",
    "    ]).reset_index(drop=True)\n",
    ")"
   ]
  },
  {
   "cell_type": "markdown",
   "id": "235fa9b8-3733-46c0-b3f4-9aab125bdec5",
   "metadata": {},
   "source": [
    "### "
   ]
  },
  {
   "cell_type": "markdown",
   "id": "aa5fa9c5-649f-4604-84ec-91136f67997e",
   "metadata": {
    "tags": []
   },
   "source": [
    "- **$\\Delta$Phenotype, CRISPRi-screen $\\rho$(rho) score** (hl60, skm1, and molm13 cell lines) "
   ]
  },
  {
   "cell_type": "code",
   "execution_count": 23,
   "id": "c805723c-ee6f-4edb-b1e8-891553f7b6fe",
   "metadata": {
    "tags": []
   },
   "outputs": [],
   "source": [
    "def read_rho_phenotype_table(screen_path,threshold=5):\n",
    "    df = pd.read_csv(\n",
    "            f'{screen_path}/genetable_collapsed.txt',\n",
    "            sep='\\t',\n",
    "            header=list(range(3)), \n",
    "            index_col=list(range(1))\n",
    "        )['rho']['ave_Rep1_Rep2'].reset_index()[\n",
    "        ['gene','average phenotype of strongest 3','Mann-Whitney p-value']\n",
    "    ]\n",
    "    df.columns = ['target','rho score','pvalue']\n",
    "    df = scp.utils.ann_score_df(df,threshold=threshold,ctrl_label='pseudo')\n",
    "    return df.set_index('target')"
   ]
  },
  {
   "cell_type": "code",
   "execution_count": 24,
   "id": "77f57038-2d15-4e27-9f49-27a15e5f625f",
   "metadata": {
    "tags": []
   },
   "outputs": [],
   "source": [
    "def get_top_hits(df):\n",
    "    return {\n",
    "        \"up\":df.query('label == \"resistance_hit\"'),\n",
    "        \"down\":df.query('label == \"sensitivity_hit\"')        \n",
    "    }\n",
    "\n",
    "def build_rho_kg(df, cell_line):\n",
    "\n",
    "    rho_dict = get_top_hits(df)\n",
    "\n",
    "    rho_up_kg = build_KG(\n",
    "        indices = rho_dict['up'].reset_index(drop=True).index,# a list to assign row names of output data frame\n",
    "        relation = 'CRISPRi',# a list or string to assign values\n",
    "        display_relation= 'resistance_hit',# a list or string to assign values\n",
    "\n",
    "        x_id = cell_line_names[cell_line],# a list or string to assign values\n",
    "        x_type = 'cell_line',# a list or string to assign values\n",
    "        x_name = cell_line_names[cell_line],# a list or string to assign values\n",
    "        x_source = 'CCLE',# a list or string to assign values\n",
    "\n",
    "        y_id = rho_dict['up'].index.to_list(),# a list or string to assign values\n",
    "        y_type = 'gene',# a list or string to assign values\n",
    "        y_name = rho_dict['up'].index.to_list(),# a list or string to assign values\n",
    "        y_source = 'NCBI'# a list or string to assign values\n",
    "    )\n",
    "    \n",
    "    rho_dn_kg = build_KG(\n",
    "        indices = rho_dict['down'].reset_index(drop=True).index,# a list to assign row names of output data frame\n",
    "        relation = 'CRISPRi',# a list or string to assign values\n",
    "        display_relation= 'sensitivity_hit',# a list or string to assign values\n",
    "\n",
    "        x_id = cell_line_names[cell_line],# a list or string to assign values\n",
    "        x_type = 'cell_line',# a list or string to assign values\n",
    "        x_name = cell_line_names[cell_line],# a list or string to assign values\n",
    "        x_source = 'CCLE',# a list or string to assign values\n",
    "\n",
    "        y_id = rho_dict['down'].index.to_list(),# a list or string to assign values\n",
    "        y_type = 'gene',# a list or string to assign values\n",
    "        y_name = rho_dict['down'].index.to_list(),# a list or string to assign values\n",
    "        y_source = 'NCBI'# a list or string to assign values\n",
    "    )\n",
    "    \n",
    "    return pd.concat([rho_up_kg.df,rho_dn_kg.df])"
   ]
  },
  {
   "cell_type": "markdown",
   "id": "1c01dfb4-1560-4fbe-815e-400eb91b8b41",
   "metadata": {},
   "source": [
    "___"
   ]
  },
  {
   "cell_type": "code",
   "execution_count": 25,
   "id": "de683434-b1f4-4426-bee6-c4a8b2a43b0e",
   "metadata": {
    "tags": []
   },
   "outputs": [],
   "source": [
    "rho_kg = KnowledgeGraph(\n",
    "    df=pd.concat([\n",
    "        build_rho_kg(\n",
    "            read_rho_phenotype_table(f'{wd}/CRISPRi-screen/molm13_exp/'), \n",
    "            'molm13'\n",
    "        ),\n",
    "        build_rho_kg(\n",
    "            read_rho_phenotype_table(f'{wd}/CRISPRi-screen/skm1_exp/'), \n",
    "            'skm1'\n",
    "        ),\n",
    "        build_rho_kg(\n",
    "            read_rho_phenotype_table(f'{wd}/CRISPRi-screen/hl60_exp1/'), \n",
    "            'hl60_72h'\n",
    "        ),    ]).reset_index(drop=True)\n",
    ")"
   ]
  },
  {
   "cell_type": "markdown",
   "id": "b8d5bf0e-e2aa-406e-8216-4c910b56b3b6",
   "metadata": {
    "tags": []
   },
   "source": [
    "# "
   ]
  },
  {
   "cell_type": "code",
   "execution_count": 26,
   "id": "6ea71d4c-f91e-45de-846b-29d2b178b929",
   "metadata": {
    "tags": []
   },
   "outputs": [],
   "source": [
    "DAC_kg = KnowledgeGraph(\n",
    "    pd.concat([\n",
    "        exp_kg.df,\n",
    "        stbl_kg.df,\n",
    "        rho_kg.df\n",
    "    ]).reset_index(drop=True)\n",
    ")"
   ]
  },
  {
   "cell_type": "code",
   "execution_count": 41,
   "id": "d46679e3-c842-4879-8ced-4d24ab36f9b6",
   "metadata": {
    "tags": []
   },
   "outputs": [],
   "source": [
    "# DAC_kg.get_nodes_by_source('NCBI')"
   ]
  },
  {
   "cell_type": "code",
   "execution_count": 45,
   "id": "b0e10079-6b15-411f-aa27-e275a579fc79",
   "metadata": {
    "tags": []
   },
   "outputs": [
    {
     "data": {
      "text/plain": [
       "relation        display_relation  x_name \n",
       "CRISPRi         resistance_hit    HL-60       251\n",
       "                                  MOLM-13     117\n",
       "                                  SKM-1       136\n",
       "                sensitivity_hit   HL-60       306\n",
       "                                  MOLM-13     128\n",
       "                                  SKM-1       683\n",
       "RNA_expression  down_regulated    HL-60      2732\n",
       "                                  MOLM-13    4410\n",
       "                                  SKM-1      5036\n",
       "                up_regulated      HL-60      3512\n",
       "                                  MOLM-13    2841\n",
       "                                  SKM-1      5060\n",
       "RNA_stability   down_regulated    HL-60       494\n",
       "                                  MOLM-13    1978\n",
       "                                  SKM-1      1869\n",
       "                up_regulated      HL-60       566\n",
       "                                  MOLM-13    1708\n",
       "                                  SKM-1      1480\n",
       "dtype: int64"
      ]
     },
     "execution_count": 45,
     "metadata": {},
     "output_type": "execute_result"
    }
   ],
   "source": [
    "DAC_kg.df.groupby(['relation','display_relation','x_name']).size()"
   ]
  },
  {
   "cell_type": "markdown",
   "id": "d6930d9b-20b5-4315-a796-6dd14fbb7cd0",
   "metadata": {},
   "source": [
    "# "
   ]
  },
  {
   "cell_type": "code",
   "execution_count": 43,
   "id": "62cdb0a8-81b8-403a-9801-9e1c526d27c8",
   "metadata": {
    "tags": []
   },
   "outputs": [],
   "source": [
    "DAC_hl60_kg = DAC_kg.copy()\n",
    "\n",
    "DAC_hl60_kg.run_query(\"x_name == 'HL-60'\")\n",
    "\n",
    "DAC_hl60_kg = KnowledgeGraph(df=pd.concat([DAC_hl60_kg.df, mtyl_kg.df]))"
   ]
  },
  {
   "cell_type": "code",
   "execution_count": 46,
   "id": "3d8359ba-e44a-4acb-9c3a-0755b5a20717",
   "metadata": {
    "tags": []
   },
   "outputs": [
    {
     "data": {
      "text/plain": [
       "relation         display_relation  x_name\n",
       "CRISPRi          resistance_hit    HL-60      251\n",
       "                 sensitivity_hit   HL-60      306\n",
       "RNA_expression   down_regulated    HL-60     2732\n",
       "                 up_regulated      HL-60     3512\n",
       "RNA_methylation  hypermethylated   HL-60     1704\n",
       "                 hypomethylated    HL-60     1210\n",
       "RNA_stability    down_regulated    HL-60      494\n",
       "                 up_regulated      HL-60      566\n",
       "dtype: int64"
      ]
     },
     "execution_count": 46,
     "metadata": {},
     "output_type": "execute_result"
    }
   ],
   "source": [
    "DAC_hl60_kg.df.groupby(['relation','display_relation','x_name']).size()"
   ]
  },
  {
   "cell_type": "code",
   "execution_count": 47,
   "id": "59a447cd-acfb-45d9-9c22-060bd4c1bfb6",
   "metadata": {
    "tags": []
   },
   "outputs": [
    {
     "data": {
      "text/plain": [
       "<tdc.utils.knowledge_graph.KnowledgeGraph at 0x7f896bd07a00>"
      ]
     },
     "execution_count": 47,
     "metadata": {},
     "output_type": "execute_result"
    }
   ],
   "source": [
    "DAC_hl60_kg"
   ]
  },
  {
   "cell_type": "markdown",
   "id": "8ce2e825-a5eb-4899-80da-b9a3b00869ae",
   "metadata": {},
   "source": [
    "# "
   ]
  },
  {
   "cell_type": "code",
   "execution_count": 29,
   "id": "0ee9deb7-7d42-4f28-94b4-3424822dd674",
   "metadata": {
    "tags": []
   },
   "outputs": [],
   "source": [
    "%reload_ext watermark"
   ]
  },
  {
   "cell_type": "code",
   "execution_count": 45,
   "id": "c997f861-5631-4fef-a795-cec09e1d3014",
   "metadata": {
    "tags": []
   },
   "outputs": [
    {
     "name": "stdout",
     "output_type": "stream",
     "text": [
      "Last updated: 2023-12-10T07:37:04.264006-08:00\n",
      "\n",
      "Python implementation: CPython\n",
      "Python version       : 3.9.16\n",
      "IPython version      : 8.14.0\n",
      "\n",
      "Compiler    : GCC 11.3.0\n",
      "OS          : Linux\n",
      "Release     : 3.10.0-957.27.2.el7.x86_64\n",
      "Machine     : x86_64\n",
      "Processor   : x86_64\n",
      "CPU cores   : 64\n",
      "Architecture: 64bit\n",
      "\n"
     ]
    }
   ],
   "source": [
    "%watermark"
   ]
  },
  {
   "cell_type": "code",
   "execution_count": 46,
   "id": "1a5567ce-142a-4106-83eb-68090b34c375",
   "metadata": {
    "tags": []
   },
   "outputs": [
    {
     "name": "stdout",
     "output_type": "stream",
     "text": [
      "numpy     : 1.24.4\n",
      "seaborn   : 0.12.2\n",
      "anndata   : 0.9.1\n",
      "screenpro : 0.2.5\n",
      "matplotlib: 3.7.2\n",
      "igraph    : 0.10.4\n",
      "pandas    : 1.5.3\n",
      "\n"
     ]
    }
   ],
   "source": [
    "%watermark --iversions"
   ]
  },
  {
   "cell_type": "code",
   "execution_count": 48,
   "id": "31d989d1-b0f2-49f3-927e-8a3c04c5cf81",
   "metadata": {
    "tags": []
   },
   "outputs": [
    {
     "name": "stdout",
     "output_type": "stream",
     "text": [
      "Sun Dec 10 07:37:13 PST 2023\n"
     ]
    }
   ],
   "source": [
    "!date"
   ]
  }
 ],
 "metadata": {
  "kernelspec": {
   "display_name": "Python [conda env:screenpro2]",
   "language": "python",
   "name": "conda-env-screenpro2-py"
  },
  "language_info": {
   "codemirror_mode": {
    "name": "ipython",
    "version": 3
   },
   "file_extension": ".py",
   "mimetype": "text/x-python",
   "name": "python",
   "nbconvert_exporter": "python",
   "pygments_lexer": "ipython3",
   "version": "3.9.16"
  }
 },
 "nbformat": 4,
 "nbformat_minor": 5
}
