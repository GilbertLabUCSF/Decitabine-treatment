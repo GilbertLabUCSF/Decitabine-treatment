{
 "cells": [
  {
   "cell_type": "markdown",
   "id": "615c44fb-e529-42e3-816c-0e77e1ace997",
   "metadata": {},
   "source": [
    "__Aim:__\n",
    "- [x] Exploring PrimeKG to find potential drugs for targets listed through multi-omics data integration.\n",
    "- [x] List of potential drugs for combination with DAC to target genes listed through multi-omics data integration.\n",
    "- [x] Evaluation of _Clinical Phase_ for listed drugs.\n",
    "- [ ] Rank drugs for potential experimental validations.\n",
    "- [ ] GDSC ...\n",
    "\n",
    "__Contributions:__\n",
    "- Expanding TDC data loader for PrimeKG\n",
    "  - https://github.com/mims-harvard/PrimeKG#dataloader-therapeutics-data-commons\n",
    "  - https://github.com/mims-harvard/PrimeKG/pull/12#issuecomment-1741878955\n",
    "\n",
    "<!-- \n",
    "__Related works/links:__\n",
    "\n",
    "- https://github.com/AstraZeneca/skywalkR-graph-features\n",
    "\n",
    "> KR4SL: knowledge graph reasoning for explainable prediction of synthetic lethality \n",
    "> - https://doi.org/10.1093/bioinformatics/btad261\n",
    "\n",
    "- https://tdcommons.ai/multi_pred_tasks/ppi/ -->"
   ]
  },
  {
   "cell_type": "markdown",
   "id": "dc5e7b42-d30f-4762-8b42-8336c28181bf",
   "metadata": {},
   "source": [
    "___"
   ]
  },
  {
   "cell_type": "markdown",
   "id": "e7814746-d9d0-4940-8196-ee52dfa42f66",
   "metadata": {
    "jp-MarkdownHeadingCollapsed": true,
    "tags": []
   },
   "source": [
    "### Load ..."
   ]
  },
  {
   "cell_type": "code",
   "execution_count": 1,
   "id": "ad18dca8-18aa-4c47-ae0e-11d5626b3ec6",
   "metadata": {
    "tags": []
   },
   "outputs": [],
   "source": [
    "import numpy as np \n",
    "import pandas as pd\n",
    "import anndata as ad\n",
    "import screenpro\n",
    "\n",
    "from screenpro.load import loadScreenProcessingData, read_adata_pkl"
   ]
  },
  {
   "cell_type": "code",
   "execution_count": 2,
   "id": "c0158330-2ccb-4f8e-a41d-669d3f3459d4",
   "metadata": {
    "tags": []
   },
   "outputs": [],
   "source": [
    "import matplotlib.pyplot as plt\n",
    "\n",
    "from matplotlib import font_manager as fm\n",
    "from matplotlib import rcParams\n",
    "\n",
    "font_files = fm.findSystemFonts(fontpaths=None, fontext='ttf')\n",
    "\n",
    "for font_file in font_files:\n",
    "    fm.fontManager.addfont(font_file)\n",
    "\n",
    "# {f.name for f in matplotlib.font_manager.fontManager.ttflist}\n",
    "\n",
    "rcParams['font.family'] = ['Arial']"
   ]
  },
  {
   "cell_type": "markdown",
   "id": "adc8662b-0025-403d-a0ce-3d0932d8ff5d",
   "metadata": {},
   "source": [
    "___"
   ]
  },
  {
   "cell_type": "code",
   "execution_count": 3,
   "id": "bf99e9ab-f920-444b-83b2-88ddcb9fd678",
   "metadata": {
    "tags": []
   },
   "outputs": [],
   "source": [
    "import igraph as ig"
   ]
  },
  {
   "cell_type": "markdown",
   "id": "b1f8ccdc-6765-4701-9e68-d58dbbffb1ac",
   "metadata": {
    "jp-MarkdownHeadingCollapsed": true,
    "tags": []
   },
   "source": [
    "### Drug KG"
   ]
  },
  {
   "cell_type": "code",
   "execution_count": 4,
   "id": "a454b7d8-46d7-4123-a74e-f8a39af45976",
   "metadata": {
    "tags": []
   },
   "outputs": [],
   "source": [
    "!mkdir -p datasets"
   ]
  },
  {
   "cell_type": "code",
   "execution_count": 5,
   "id": "1ac86e3a-0b85-4d73-94a7-7393b6b7e1cc",
   "metadata": {
    "tags": []
   },
   "outputs": [],
   "source": [
    "import pandas as pd\n",
    "\n",
    "from tdc.multi_pred import DrugRes\n",
    "from tdc.resource import PrimeKG"
   ]
  },
  {
   "cell_type": "code",
   "execution_count": 6,
   "id": "5b729c25-d650-4f29-9866-76c8133bb54f",
   "metadata": {
    "tags": []
   },
   "outputs": [],
   "source": [
    "from tdc.knowledge_graph import KnowledgeGraph"
   ]
  },
  {
   "cell_type": "code",
   "execution_count": 7,
   "id": "609352fc-543e-4fde-a4ad-38bb51888280",
   "metadata": {
    "tags": []
   },
   "outputs": [],
   "source": [
    "# Drug Response Prediction Task Overview\n",
    "# Y is the log normalized IC50. This is the version 2 of GDSC, which uses improved experimental procedures.\n",
    "\n",
    "# https://tdcommons.ai/multi_pred_tasks/drugres/"
   ]
  },
  {
   "cell_type": "code",
   "execution_count": 8,
   "id": "3ee3e361-fedd-4f42-82cb-8ca6241e2a9b",
   "metadata": {
    "tags": []
   },
   "outputs": [
    {
     "name": "stderr",
     "output_type": "stream",
     "text": [
      "Found local copy...\n",
      "Loading...\n",
      "Done!\n",
      "Found local copy...\n",
      "Loading...\n",
      "Done!\n",
      "Found local copy...\n",
      "Loading...\n"
     ]
    }
   ],
   "source": [
    "GDSC1 = DrugRes(name = 'GDSC1', path = './datasets/GDSC1')\n",
    "GDSC2 = DrugRes(name = 'GDSC2', path = './datasets/GDSC2')\n",
    "\n",
    "primekg = PrimeKG(path = './datasets/PrimeKG').to_KG()"
   ]
  },
  {
   "cell_type": "markdown",
   "id": "96fb7d54-3522-4baf-b09e-0731bbab39a7",
   "metadata": {
    "jp-MarkdownHeadingCollapsed": true,
    "tags": []
   },
   "source": [
    "### DAC + X Drug"
   ]
  },
  {
   "cell_type": "code",
   "execution_count": 9,
   "id": "08c618b5-3c64-426b-8521-34e2be6f0cb7",
   "metadata": {
    "tags": []
   },
   "outputs": [],
   "source": [
    "primekg_drug_target = primekg.copy()\n",
    "\n",
    "primekg_drug_target.run_query(query='relation == \"drug_protein\" & display_relation == \"target\"')"
   ]
  },
  {
   "cell_type": "code",
   "execution_count": 10,
   "id": "8cc900c4-3e50-483f-ab62-61a82a7b736a",
   "metadata": {
    "tags": []
   },
   "outputs": [],
   "source": [
    "durgs = primekg.get_nodes_by_source('DrugBank')"
   ]
  },
  {
   "cell_type": "code",
   "execution_count": 11,
   "id": "8653b64c-9bd9-49dd-a01f-da452cc58811",
   "metadata": {
    "tags": []
   },
   "outputs": [
    {
     "data": {
      "text/html": [
       "<div>\n",
       "<style scoped>\n",
       "    .dataframe tbody tr th:only-of-type {\n",
       "        vertical-align: middle;\n",
       "    }\n",
       "\n",
       "    .dataframe tbody tr th {\n",
       "        vertical-align: top;\n",
       "    }\n",
       "\n",
       "    .dataframe thead th {\n",
       "        text-align: right;\n",
       "    }\n",
       "</style>\n",
       "<table border=\"1\" class=\"dataframe\">\n",
       "  <thead>\n",
       "    <tr style=\"text-align: right;\">\n",
       "      <th></th>\n",
       "      <th>id</th>\n",
       "      <th>type</th>\n",
       "      <th>name</th>\n",
       "      <th>source</th>\n",
       "    </tr>\n",
       "  </thead>\n",
       "  <tbody>\n",
       "    <tr>\n",
       "      <th>0</th>\n",
       "      <td>DB09130</td>\n",
       "      <td>drug</td>\n",
       "      <td>Copper</td>\n",
       "      <td>DrugBank</td>\n",
       "    </tr>\n",
       "    <tr>\n",
       "      <th>1</th>\n",
       "      <td>DB09140</td>\n",
       "      <td>drug</td>\n",
       "      <td>Oxygen</td>\n",
       "      <td>DrugBank</td>\n",
       "    </tr>\n",
       "    <tr>\n",
       "      <th>2</th>\n",
       "      <td>DB00180</td>\n",
       "      <td>drug</td>\n",
       "      <td>Flunisolide</td>\n",
       "      <td>DrugBank</td>\n",
       "    </tr>\n",
       "    <tr>\n",
       "      <th>3</th>\n",
       "      <td>DB00240</td>\n",
       "      <td>drug</td>\n",
       "      <td>Alclometasone</td>\n",
       "      <td>DrugBank</td>\n",
       "    </tr>\n",
       "    <tr>\n",
       "      <th>4</th>\n",
       "      <td>DB00253</td>\n",
       "      <td>drug</td>\n",
       "      <td>Medrysone</td>\n",
       "      <td>DrugBank</td>\n",
       "    </tr>\n",
       "    <tr>\n",
       "      <th>...</th>\n",
       "      <td>...</td>\n",
       "      <td>...</td>\n",
       "      <td>...</td>\n",
       "      <td>...</td>\n",
       "    </tr>\n",
       "    <tr>\n",
       "      <th>7952</th>\n",
       "      <td>DB01486</td>\n",
       "      <td>drug</td>\n",
       "      <td>Cathine</td>\n",
       "      <td>DrugBank</td>\n",
       "    </tr>\n",
       "    <tr>\n",
       "      <th>7953</th>\n",
       "      <td>DB11104</td>\n",
       "      <td>drug</td>\n",
       "      <td>Sulfur hexafluoride</td>\n",
       "      <td>DrugBank</td>\n",
       "    </tr>\n",
       "    <tr>\n",
       "      <th>7954</th>\n",
       "      <td>DB00639</td>\n",
       "      <td>drug</td>\n",
       "      <td>Butoconazole</td>\n",
       "      <td>DrugBank</td>\n",
       "    </tr>\n",
       "    <tr>\n",
       "      <th>7955</th>\n",
       "      <td>DB00538</td>\n",
       "      <td>drug</td>\n",
       "      <td>Gadoversetamide</td>\n",
       "      <td>DrugBank</td>\n",
       "    </tr>\n",
       "    <tr>\n",
       "      <th>7956</th>\n",
       "      <td>DB06703</td>\n",
       "      <td>drug</td>\n",
       "      <td>Gadobutrol</td>\n",
       "      <td>DrugBank</td>\n",
       "    </tr>\n",
       "  </tbody>\n",
       "</table>\n",
       "<p>7957 rows × 4 columns</p>\n",
       "</div>"
      ],
      "text/plain": [
       "           id  type                 name    source\n",
       "0     DB09130  drug               Copper  DrugBank\n",
       "1     DB09140  drug               Oxygen  DrugBank\n",
       "2     DB00180  drug          Flunisolide  DrugBank\n",
       "3     DB00240  drug        Alclometasone  DrugBank\n",
       "4     DB00253  drug            Medrysone  DrugBank\n",
       "...       ...   ...                  ...       ...\n",
       "7952  DB01486  drug              Cathine  DrugBank\n",
       "7953  DB11104  drug  Sulfur hexafluoride  DrugBank\n",
       "7954  DB00639  drug         Butoconazole  DrugBank\n",
       "7955  DB00538  drug      Gadoversetamide  DrugBank\n",
       "7956  DB06703  drug           Gadobutrol  DrugBank\n",
       "\n",
       "[7957 rows x 4 columns]"
      ]
     },
     "execution_count": 11,
     "metadata": {},
     "output_type": "execute_result"
    }
   ],
   "source": [
    "durgs"
   ]
  },
  {
   "cell_type": "code",
   "execution_count": 12,
   "id": "44893151-39c0-4ebd-b68c-9bea780f9952",
   "metadata": {
    "tags": []
   },
   "outputs": [],
   "source": [
    "primekg_dac_synergy = primekg.copy()\n",
    "\n",
    "primekg_dac_synergy.run_query('(x_name == \"Decitabine\" | y_name == \"Decitabine\")&(display_relation == \"synergistic interaction\")')"
   ]
  },
  {
   "cell_type": "code",
   "execution_count": 13,
   "id": "e9f462d0-b5dc-4859-a0ed-a4afcef3e089",
   "metadata": {
    "tags": []
   },
   "outputs": [],
   "source": [
    "primekg_dac_synergy_drug_names = primekg_dac_synergy.get_nodes_by_source(source='DrugBank').name.to_list()"
   ]
  },
  {
   "cell_type": "markdown",
   "id": "9e2c62cb-724a-44ab-8947-47cd538e95ab",
   "metadata": {},
   "source": [
    "___"
   ]
  },
  {
   "cell_type": "markdown",
   "id": "a0357574-59fa-4b52-8940-e4e8460e0af8",
   "metadata": {},
   "source": [
    "see Figure 4B – https://biorxiv.org/content/10.1101/2022.12.14.518457v2"
   ]
  },
  {
   "cell_type": "code",
   "execution_count": 14,
   "id": "c3c5432b-d52e-41e1-9087-23bd1434f6d6",
   "metadata": {
    "tags": []
   },
   "outputs": [],
   "source": [
    "target_genes = [\n",
    "    \"PMPCA\",\"RNF126\",\"SLC7A6\",\"DHODH\",\"ZNF777\",\"SQLE\",\"MYBBP1A\",\n",
    "    \"RBM14-RBM4\",\"INTS5\",\"INO80D\",\n",
    "    'BCL2'\n",
    "] \n",
    "# + ['DNMT1']"
   ]
  },
  {
   "cell_type": "code",
   "execution_count": 15,
   "id": "32529c3e-8241-489b-ba6c-67bdf68a203c",
   "metadata": {
    "tags": []
   },
   "outputs": [
    {
     "data": {
      "text/plain": [
       "['PMPCA',\n",
       " 'RNF126',\n",
       " 'SLC7A6',\n",
       " 'DHODH',\n",
       " 'ZNF777',\n",
       " 'SQLE',\n",
       " 'MYBBP1A',\n",
       " 'RBM14-RBM4',\n",
       " 'INTS5',\n",
       " 'INO80D',\n",
       " 'BCL2']"
      ]
     },
     "execution_count": 15,
     "metadata": {},
     "output_type": "execute_result"
    }
   ],
   "source": [
    "target_genes"
   ]
  },
  {
   "cell_type": "code",
   "execution_count": 16,
   "id": "2faaa5f9-efff-45b3-93ff-f6a19ec2fc1c",
   "metadata": {
    "tags": []
   },
   "outputs": [],
   "source": [
    "primekg_drugs_for_combo = primekg_drug_target.copy()\n",
    "primekg_drugs_for_combo.run_query(f'x_name in {target_genes} | y_name in {target_genes}')"
   ]
  },
  {
   "cell_type": "code",
   "execution_count": 17,
   "id": "7bcc730d-734d-4cb7-a055-c1158a6432f5",
   "metadata": {
    "tags": []
   },
   "outputs": [
    {
     "data": {
      "text/html": [
       "<div>\n",
       "<style scoped>\n",
       "    .dataframe tbody tr th:only-of-type {\n",
       "        vertical-align: middle;\n",
       "    }\n",
       "\n",
       "    .dataframe tbody tr th {\n",
       "        vertical-align: top;\n",
       "    }\n",
       "\n",
       "    .dataframe thead th {\n",
       "        text-align: right;\n",
       "    }\n",
       "</style>\n",
       "<table border=\"1\" class=\"dataframe\">\n",
       "  <thead>\n",
       "    <tr style=\"text-align: right;\">\n",
       "      <th></th>\n",
       "      <th>id</th>\n",
       "      <th>type</th>\n",
       "      <th>name</th>\n",
       "      <th>source</th>\n",
       "    </tr>\n",
       "  </thead>\n",
       "  <tbody>\n",
       "    <tr>\n",
       "      <th>0</th>\n",
       "      <td>596</td>\n",
       "      <td>gene/protein</td>\n",
       "      <td>BCL2</td>\n",
       "      <td>NCBI</td>\n",
       "    </tr>\n",
       "    <tr>\n",
       "      <th>1</th>\n",
       "      <td>1723</td>\n",
       "      <td>gene/protein</td>\n",
       "      <td>DHODH</td>\n",
       "      <td>NCBI</td>\n",
       "    </tr>\n",
       "    <tr>\n",
       "      <th>2</th>\n",
       "      <td>6713</td>\n",
       "      <td>gene/protein</td>\n",
       "      <td>SQLE</td>\n",
       "      <td>NCBI</td>\n",
       "    </tr>\n",
       "  </tbody>\n",
       "</table>\n",
       "</div>"
      ],
      "text/plain": [
       "     id          type   name source\n",
       "0   596  gene/protein   BCL2   NCBI\n",
       "1  1723  gene/protein  DHODH   NCBI\n",
       "2  6713  gene/protein   SQLE   NCBI"
      ]
     },
     "execution_count": 17,
     "metadata": {},
     "output_type": "execute_result"
    }
   ],
   "source": [
    "primekg_drugs_for_combo.get_nodes_by_source('NCBI')"
   ]
  },
  {
   "cell_type": "code",
   "execution_count": 18,
   "id": "718df2e0-0218-4cdb-b37b-4fffc7f0c68e",
   "metadata": {
    "tags": []
   },
   "outputs": [],
   "source": [
    "primekg_dac_synergy_drugs_for_combo = primekg_drugs_for_combo.copy()\n",
    "primekg_dac_synergy_drugs_for_combo.run_query(f'x_name in {primekg_dac_synergy_drug_names} | y_name in {primekg_dac_synergy_drug_names}')"
   ]
  },
  {
   "cell_type": "code",
   "execution_count": 19,
   "id": "0239b8e7-7d7e-4dbb-a49a-3a49484663ba",
   "metadata": {
    "tags": []
   },
   "outputs": [],
   "source": [
    "primekg_dac_synergy_drugs_for_combo_list = primekg_dac_synergy_drugs_for_combo.get_nodes_by_source(source='DrugBank').name.to_list()"
   ]
  },
  {
   "cell_type": "markdown",
   "id": "895a33dd-5097-479a-8eaa-f9dc37f51dd6",
   "metadata": {
    "tags": []
   },
   "source": [
    "### \n",
    "prep a table for paper..."
   ]
  },
  {
   "cell_type": "code",
   "execution_count": 20,
   "id": "6a9bf200-ecf0-4c19-99f3-6f3272f75d56",
   "metadata": {
    "tags": []
   },
   "outputs": [],
   "source": [
    "table_0 = primekg_drugs_for_combo.df.query('x_type==\"drug\"')#.set_index(['y_name','x_id'])[['x_name']]\n",
    "\n",
    "table_0['dac_synergy'] = table_0.x_name.isin(primekg_dac_synergy_drugs_for_combo_list)\n",
    "table_0.sort_values(['y_name','dac_synergy'],ascending=False,inplace=True)"
   ]
  },
  {
   "cell_type": "code",
   "execution_count": 21,
   "id": "5fd7126a-9bf1-4542-998f-efb53bd0fe6f",
   "metadata": {
    "tags": []
   },
   "outputs": [],
   "source": [
    "table_1 = table_0[['y_name','x_id','x_name','dac_synergy']].rename(columns={'y_name':'target','x_id':'DrugBank','x_name':'Drug full name'}).set_index(['target','DrugBank'])"
   ]
  },
  {
   "cell_type": "code",
   "execution_count": 22,
   "id": "8956eb77-c433-4a83-86eb-71509542dad9",
   "metadata": {
    "tags": []
   },
   "outputs": [],
   "source": [
    "drug_targets = {}\n",
    "\n",
    "for drug in table_1.reset_index().DrugBank:\n",
    "    drug_kg = primekg_drug_target.copy()\n",
    "    drug_kg.run_query(f'x_id == \"{drug}\" | y_id == \"{drug}\"')\n",
    "    \n",
    "    drug_targets[drug] = ','.join(drug_kg.get_nodes_by_source('NCBI').name.to_list())\n",
    "\n",
    "table_1['drug_targets'] = drug_targets.values()\n",
    "\n",
    "del drug_targets"
   ]
  },
  {
   "cell_type": "code",
   "execution_count": 23,
   "id": "75fea09c-2b5d-4b00-8c67-bf4314b1bf9b",
   "metadata": {
    "tags": []
   },
   "outputs": [
    {
     "data": {
      "text/html": [
       "<div>\n",
       "<style scoped>\n",
       "    .dataframe tbody tr th:only-of-type {\n",
       "        vertical-align: middle;\n",
       "    }\n",
       "\n",
       "    .dataframe tbody tr th {\n",
       "        vertical-align: top;\n",
       "    }\n",
       "\n",
       "    .dataframe thead th {\n",
       "        text-align: right;\n",
       "    }\n",
       "</style>\n",
       "<table border=\"1\" class=\"dataframe\">\n",
       "  <thead>\n",
       "    <tr style=\"text-align: right;\">\n",
       "      <th></th>\n",
       "      <th></th>\n",
       "      <th>Drug full name</th>\n",
       "      <th>dac_synergy</th>\n",
       "      <th>drug_targets</th>\n",
       "    </tr>\n",
       "    <tr>\n",
       "      <th>target</th>\n",
       "      <th>DrugBank</th>\n",
       "      <th></th>\n",
       "      <th></th>\n",
       "      <th></th>\n",
       "    </tr>\n",
       "  </thead>\n",
       "  <tbody>\n",
       "    <tr>\n",
       "      <th rowspan=\"4\" valign=\"top\">SQLE</th>\n",
       "      <th>DB00735</th>\n",
       "      <td>Naftifine</td>\n",
       "      <td>False</td>\n",
       "      <td>SQLE</td>\n",
       "    </tr>\n",
       "    <tr>\n",
       "      <th>DB00857</th>\n",
       "      <td>Terbinafine</td>\n",
       "      <td>False</td>\n",
       "      <td>SQLE</td>\n",
       "    </tr>\n",
       "    <tr>\n",
       "      <th>DB01091</th>\n",
       "      <td>Butenafine</td>\n",
       "      <td>False</td>\n",
       "      <td>SQLE</td>\n",
       "    </tr>\n",
       "    <tr>\n",
       "      <th>DB08846</th>\n",
       "      <td>Ellagic acid</td>\n",
       "      <td>False</td>\n",
       "      <td>CA1,CA2,CA4,SQLE,PRKCB,PRKCA,CSNK2A1,SYK,CA12,...</td>\n",
       "    </tr>\n",
       "    <tr>\n",
       "      <th rowspan=\"26\" valign=\"top\">DHODH</th>\n",
       "      <th>DB01097</th>\n",
       "      <td>Leflunomide</td>\n",
       "      <td>True</td>\n",
       "      <td>DHODH,PTK2B,AHR</td>\n",
       "    </tr>\n",
       "    <tr>\n",
       "      <th>DB03523</th>\n",
       "      <td>Brequinar</td>\n",
       "      <td>True</td>\n",
       "      <td>DHODH</td>\n",
       "    </tr>\n",
       "    <tr>\n",
       "      <th>DB08880</th>\n",
       "      <td>Teriflunomide</td>\n",
       "      <td>True</td>\n",
       "      <td>DHODH</td>\n",
       "    </tr>\n",
       "    <tr>\n",
       "      <th>DB01117</th>\n",
       "      <td>Atovaquone</td>\n",
       "      <td>False</td>\n",
       "      <td>DHODH</td>\n",
       "    </tr>\n",
       "    <tr>\n",
       "      <th>DB02262</th>\n",
       "      <td>Orotic acid</td>\n",
       "      <td>False</td>\n",
       "      <td>DHODH</td>\n",
       "    </tr>\n",
       "    <tr>\n",
       "      <th>DB02613</th>\n",
       "      <td>Capric dimethyl amine oxide</td>\n",
       "      <td>False</td>\n",
       "      <td>DHODH,PNLIPRP2</td>\n",
       "    </tr>\n",
       "    <tr>\n",
       "      <th>DB03247</th>\n",
       "      <td>Flavin mononucleotide</td>\n",
       "      <td>False</td>\n",
       "      <td>NOS1,PNPO,RFK,DHODH,BLVRB,DPYD,POR,PPCDC,HAO1,...</td>\n",
       "    </tr>\n",
       "    <tr>\n",
       "      <th>DB03480</th>\n",
       "      <td>Brequinar Analog</td>\n",
       "      <td>False</td>\n",
       "      <td>DHODH</td>\n",
       "    </tr>\n",
       "    <tr>\n",
       "      <th>DB04147</th>\n",
       "      <td>Dodecyldimethylamine N-oxide</td>\n",
       "      <td>False</td>\n",
       "      <td>DHODH,RHO,MAOB,IGKV1D-33,IGHV3-23,DSTN,NFE2L1,...</td>\n",
       "    </tr>\n",
       "    <tr>\n",
       "      <th>DB04281</th>\n",
       "      <td>2-[4-(4-Chlorophenyl)Cyclohexylidene]-3,4-Dihy...</td>\n",
       "      <td>False</td>\n",
       "      <td>DHODH</td>\n",
       "    </tr>\n",
       "    <tr>\n",
       "      <th>DB04583</th>\n",
       "      <td>5-Carbamoyl-1,1':4',1''-terphenyl-3-carboxylic...</td>\n",
       "      <td>False</td>\n",
       "      <td>DHODH</td>\n",
       "    </tr>\n",
       "    <tr>\n",
       "      <th>DB05125</th>\n",
       "      <td>SC12267</td>\n",
       "      <td>False</td>\n",
       "      <td>DHODH</td>\n",
       "    </tr>\n",
       "    <tr>\n",
       "      <th>DB06481</th>\n",
       "      <td>Manitimus</td>\n",
       "      <td>False</td>\n",
       "      <td>DHODH</td>\n",
       "    </tr>\n",
       "    <tr>\n",
       "      <th>DB07443</th>\n",
       "      <td>(2Z)-N-biphenyl-4-yl-2-cyano-3-hydroxybut-2-en...</td>\n",
       "      <td>False</td>\n",
       "      <td>DHODH</td>\n",
       "    </tr>\n",
       "    <tr>\n",
       "      <th>DB07559</th>\n",
       "      <td>(2Z)-2-cyano-N-(2,2'-dichlorobiphenyl-4-yl)-3-...</td>\n",
       "      <td>False</td>\n",
       "      <td>DHODH</td>\n",
       "    </tr>\n",
       "    <tr>\n",
       "      <th>DB07561</th>\n",
       "      <td>(2Z)-2-cyano-N-(3'-ethoxybiphenyl-4-yl)-3-hydr...</td>\n",
       "      <td>False</td>\n",
       "      <td>DHODH</td>\n",
       "    </tr>\n",
       "    <tr>\n",
       "      <th>DB07646</th>\n",
       "      <td>UNDECYLAMINE-N,N-DIMETHYL-N-OXIDE</td>\n",
       "      <td>False</td>\n",
       "      <td>DHODH</td>\n",
       "    </tr>\n",
       "    <tr>\n",
       "      <th>DB07975</th>\n",
       "      <td>2-({[3,5-DIFLUORO-3'-(TRIFLUOROMETHOXY)BIPHENY...</td>\n",
       "      <td>False</td>\n",
       "      <td>DHODH</td>\n",
       "    </tr>\n",
       "    <tr>\n",
       "      <th>DB07976</th>\n",
       "      <td>3-{[(3-FLUORO-3'-METHOXYBIPHENYL-4-YL)AMINO]CA...</td>\n",
       "      <td>False</td>\n",
       "      <td>DHODH</td>\n",
       "    </tr>\n",
       "    <tr>\n",
       "      <th>DB07977</th>\n",
       "      <td>3-({[3,5-DIFLUORO-3'-(TRIFLUOROMETHOXY)BIPHENY...</td>\n",
       "      <td>False</td>\n",
       "      <td>DHODH</td>\n",
       "    </tr>\n",
       "    <tr>\n",
       "      <th>DB07978</th>\n",
       "      <td>2-({[2,3,5,6-TETRAFLUORO-3'-(TRIFLUOROMETHOXY)...</td>\n",
       "      <td>False</td>\n",
       "      <td>DHODH</td>\n",
       "    </tr>\n",
       "    <tr>\n",
       "      <th>DB08006</th>\n",
       "      <td>N-anthracen-2-yl-5-methyl[1,2,4]triazolo[1,5-a...</td>\n",
       "      <td>False</td>\n",
       "      <td>DHODH</td>\n",
       "    </tr>\n",
       "    <tr>\n",
       "      <th>DB08008</th>\n",
       "      <td>5-methyl-N-[4-(trifluoromethyl)phenyl][1,2,4]t...</td>\n",
       "      <td>False</td>\n",
       "      <td>DHODH</td>\n",
       "    </tr>\n",
       "    <tr>\n",
       "      <th>DB08169</th>\n",
       "      <td>(2Z)-N-biphenyl-4-yl-2-cyano-3-cyclopropyl-3-h...</td>\n",
       "      <td>False</td>\n",
       "      <td>DHODH</td>\n",
       "    </tr>\n",
       "    <tr>\n",
       "      <th>DB08172</th>\n",
       "      <td>(2Z)-N-(3-chloro-2'-methoxybiphenyl-4-yl)-2-cy...</td>\n",
       "      <td>False</td>\n",
       "      <td>DHODH</td>\n",
       "    </tr>\n",
       "    <tr>\n",
       "      <th>DB08249</th>\n",
       "      <td>3,6,9,12,15-PENTAOXATRICOSAN-1-OL</td>\n",
       "      <td>False</td>\n",
       "      <td>DHODH</td>\n",
       "    </tr>\n",
       "    <tr>\n",
       "      <th rowspan=\"13\" valign=\"top\">BCL2</th>\n",
       "      <th>DB01229</th>\n",
       "      <td>Paclitaxel</td>\n",
       "      <td>True</td>\n",
       "      <td>TUBB1,BCL2,NR1I2,MAP2,MAPT,MAP4,TUBB1</td>\n",
       "    </tr>\n",
       "    <tr>\n",
       "      <th>DB01248</th>\n",
       "      <td>Docetaxel</td>\n",
       "      <td>True</td>\n",
       "      <td>TUBB1,BCL2,NR1I2,MAP2,MAPT,MAP4,TUBB1</td>\n",
       "    </tr>\n",
       "    <tr>\n",
       "      <th>DB08871</th>\n",
       "      <td>Eribulin</td>\n",
       "      <td>True</td>\n",
       "      <td>TUBB1,BCL2,TUBB1</td>\n",
       "    </tr>\n",
       "    <tr>\n",
       "      <th>DB01050</th>\n",
       "      <td>Ibuprofen</td>\n",
       "      <td>False</td>\n",
       "      <td>PTGS1,PPARA,PPARG,BCL2,PTGS2,GP1BA,THBD,CFTR,F...</td>\n",
       "    </tr>\n",
       "    <tr>\n",
       "      <th>DB01367</th>\n",
       "      <td>Rasagiline</td>\n",
       "      <td>False</td>\n",
       "      <td>BCL2,MAOB</td>\n",
       "    </tr>\n",
       "    <tr>\n",
       "      <th>DB05297</th>\n",
       "      <td>Paclitaxel docosahexaenoic acid</td>\n",
       "      <td>False</td>\n",
       "      <td>BCL2</td>\n",
       "    </tr>\n",
       "    <tr>\n",
       "      <th>DB06307</th>\n",
       "      <td>Apoptone</td>\n",
       "      <td>False</td>\n",
       "      <td>BCL2</td>\n",
       "    </tr>\n",
       "    <tr>\n",
       "      <th>DB06756</th>\n",
       "      <td>Glycine betaine</td>\n",
       "      <td>False</td>\n",
       "      <td>BCL2</td>\n",
       "    </tr>\n",
       "    <tr>\n",
       "      <th>DB09213</th>\n",
       "      <td>Dexibuprofen</td>\n",
       "      <td>False</td>\n",
       "      <td>PTGS1,PPARA,PPARG,BCL2,PTGS2,SLC15A1,GP1BA,PLA...</td>\n",
       "    </tr>\n",
       "    <tr>\n",
       "      <th>DB09401</th>\n",
       "      <td>Isosorbide</td>\n",
       "      <td>False</td>\n",
       "      <td>BCL2,BCL2L1,MCL1</td>\n",
       "    </tr>\n",
       "    <tr>\n",
       "      <th>DB11581</th>\n",
       "      <td>Venetoclax</td>\n",
       "      <td>False</td>\n",
       "      <td>BCL2</td>\n",
       "    </tr>\n",
       "    <tr>\n",
       "      <th>DB12191</th>\n",
       "      <td>Obatoclax</td>\n",
       "      <td>False</td>\n",
       "      <td>BCL2</td>\n",
       "    </tr>\n",
       "    <tr>\n",
       "      <th>DB12340</th>\n",
       "      <td>Navitoclax</td>\n",
       "      <td>False</td>\n",
       "      <td>BCL2,BCL2L2-PABPN1,BAD</td>\n",
       "    </tr>\n",
       "  </tbody>\n",
       "</table>\n",
       "</div>"
      ],
      "text/plain": [
       "                                                    Drug full name  \\\n",
       "target DrugBank                                                      \n",
       "SQLE   DB00735                                           Naftifine   \n",
       "       DB00857                                         Terbinafine   \n",
       "       DB01091                                          Butenafine   \n",
       "       DB08846                                        Ellagic acid   \n",
       "DHODH  DB01097                                         Leflunomide   \n",
       "       DB03523                                           Brequinar   \n",
       "       DB08880                                       Teriflunomide   \n",
       "       DB01117                                          Atovaquone   \n",
       "       DB02262                                         Orotic acid   \n",
       "       DB02613                         Capric dimethyl amine oxide   \n",
       "       DB03247                               Flavin mononucleotide   \n",
       "       DB03480                                    Brequinar Analog   \n",
       "       DB04147                        Dodecyldimethylamine N-oxide   \n",
       "       DB04281   2-[4-(4-Chlorophenyl)Cyclohexylidene]-3,4-Dihy...   \n",
       "       DB04583   5-Carbamoyl-1,1':4',1''-terphenyl-3-carboxylic...   \n",
       "       DB05125                                             SC12267   \n",
       "       DB06481                                           Manitimus   \n",
       "       DB07443   (2Z)-N-biphenyl-4-yl-2-cyano-3-hydroxybut-2-en...   \n",
       "       DB07559   (2Z)-2-cyano-N-(2,2'-dichlorobiphenyl-4-yl)-3-...   \n",
       "       DB07561   (2Z)-2-cyano-N-(3'-ethoxybiphenyl-4-yl)-3-hydr...   \n",
       "       DB07646                   UNDECYLAMINE-N,N-DIMETHYL-N-OXIDE   \n",
       "       DB07975   2-({[3,5-DIFLUORO-3'-(TRIFLUOROMETHOXY)BIPHENY...   \n",
       "       DB07976   3-{[(3-FLUORO-3'-METHOXYBIPHENYL-4-YL)AMINO]CA...   \n",
       "       DB07977   3-({[3,5-DIFLUORO-3'-(TRIFLUOROMETHOXY)BIPHENY...   \n",
       "       DB07978   2-({[2,3,5,6-TETRAFLUORO-3'-(TRIFLUOROMETHOXY)...   \n",
       "       DB08006   N-anthracen-2-yl-5-methyl[1,2,4]triazolo[1,5-a...   \n",
       "       DB08008   5-methyl-N-[4-(trifluoromethyl)phenyl][1,2,4]t...   \n",
       "       DB08169   (2Z)-N-biphenyl-4-yl-2-cyano-3-cyclopropyl-3-h...   \n",
       "       DB08172   (2Z)-N-(3-chloro-2'-methoxybiphenyl-4-yl)-2-cy...   \n",
       "       DB08249                   3,6,9,12,15-PENTAOXATRICOSAN-1-OL   \n",
       "BCL2   DB01229                                          Paclitaxel   \n",
       "       DB01248                                           Docetaxel   \n",
       "       DB08871                                            Eribulin   \n",
       "       DB01050                                           Ibuprofen   \n",
       "       DB01367                                          Rasagiline   \n",
       "       DB05297                     Paclitaxel docosahexaenoic acid   \n",
       "       DB06307                                            Apoptone   \n",
       "       DB06756                                     Glycine betaine   \n",
       "       DB09213                                        Dexibuprofen   \n",
       "       DB09401                                          Isosorbide   \n",
       "       DB11581                                          Venetoclax   \n",
       "       DB12191                                           Obatoclax   \n",
       "       DB12340                                          Navitoclax   \n",
       "\n",
       "                 dac_synergy  \\\n",
       "target DrugBank                \n",
       "SQLE   DB00735         False   \n",
       "       DB00857         False   \n",
       "       DB01091         False   \n",
       "       DB08846         False   \n",
       "DHODH  DB01097          True   \n",
       "       DB03523          True   \n",
       "       DB08880          True   \n",
       "       DB01117         False   \n",
       "       DB02262         False   \n",
       "       DB02613         False   \n",
       "       DB03247         False   \n",
       "       DB03480         False   \n",
       "       DB04147         False   \n",
       "       DB04281         False   \n",
       "       DB04583         False   \n",
       "       DB05125         False   \n",
       "       DB06481         False   \n",
       "       DB07443         False   \n",
       "       DB07559         False   \n",
       "       DB07561         False   \n",
       "       DB07646         False   \n",
       "       DB07975         False   \n",
       "       DB07976         False   \n",
       "       DB07977         False   \n",
       "       DB07978         False   \n",
       "       DB08006         False   \n",
       "       DB08008         False   \n",
       "       DB08169         False   \n",
       "       DB08172         False   \n",
       "       DB08249         False   \n",
       "BCL2   DB01229          True   \n",
       "       DB01248          True   \n",
       "       DB08871          True   \n",
       "       DB01050         False   \n",
       "       DB01367         False   \n",
       "       DB05297         False   \n",
       "       DB06307         False   \n",
       "       DB06756         False   \n",
       "       DB09213         False   \n",
       "       DB09401         False   \n",
       "       DB11581         False   \n",
       "       DB12191         False   \n",
       "       DB12340         False   \n",
       "\n",
       "                                                      drug_targets  \n",
       "target DrugBank                                                     \n",
       "SQLE   DB00735                                                SQLE  \n",
       "       DB00857                                                SQLE  \n",
       "       DB01091                                                SQLE  \n",
       "       DB08846   CA1,CA2,CA4,SQLE,PRKCB,PRKCA,CSNK2A1,SYK,CA12,...  \n",
       "DHODH  DB01097                                     DHODH,PTK2B,AHR  \n",
       "       DB03523                                               DHODH  \n",
       "       DB08880                                               DHODH  \n",
       "       DB01117                                               DHODH  \n",
       "       DB02262                                               DHODH  \n",
       "       DB02613                                      DHODH,PNLIPRP2  \n",
       "       DB03247   NOS1,PNPO,RFK,DHODH,BLVRB,DPYD,POR,PPCDC,HAO1,...  \n",
       "       DB03480                                               DHODH  \n",
       "       DB04147   DHODH,RHO,MAOB,IGKV1D-33,IGHV3-23,DSTN,NFE2L1,...  \n",
       "       DB04281                                               DHODH  \n",
       "       DB04583                                               DHODH  \n",
       "       DB05125                                               DHODH  \n",
       "       DB06481                                               DHODH  \n",
       "       DB07443                                               DHODH  \n",
       "       DB07559                                               DHODH  \n",
       "       DB07561                                               DHODH  \n",
       "       DB07646                                               DHODH  \n",
       "       DB07975                                               DHODH  \n",
       "       DB07976                                               DHODH  \n",
       "       DB07977                                               DHODH  \n",
       "       DB07978                                               DHODH  \n",
       "       DB08006                                               DHODH  \n",
       "       DB08008                                               DHODH  \n",
       "       DB08169                                               DHODH  \n",
       "       DB08172                                               DHODH  \n",
       "       DB08249                                               DHODH  \n",
       "BCL2   DB01229               TUBB1,BCL2,NR1I2,MAP2,MAPT,MAP4,TUBB1  \n",
       "       DB01248               TUBB1,BCL2,NR1I2,MAP2,MAPT,MAP4,TUBB1  \n",
       "       DB08871                                    TUBB1,BCL2,TUBB1  \n",
       "       DB01050   PTGS1,PPARA,PPARG,BCL2,PTGS2,GP1BA,THBD,CFTR,F...  \n",
       "       DB01367                                           BCL2,MAOB  \n",
       "       DB05297                                                BCL2  \n",
       "       DB06307                                                BCL2  \n",
       "       DB06756                                                BCL2  \n",
       "       DB09213   PTGS1,PPARA,PPARG,BCL2,PTGS2,SLC15A1,GP1BA,PLA...  \n",
       "       DB09401                                    BCL2,BCL2L1,MCL1  \n",
       "       DB11581                                                BCL2  \n",
       "       DB12191                                                BCL2  \n",
       "       DB12340                              BCL2,BCL2L2-PABPN1,BAD  "
      ]
     },
     "execution_count": 23,
     "metadata": {},
     "output_type": "execute_result"
    }
   ],
   "source": [
    "table_1"
   ]
  },
  {
   "cell_type": "code",
   "execution_count": 24,
   "id": "1bb3a634-c6ed-422d-b170-27d146016b44",
   "metadata": {
    "tags": []
   },
   "outputs": [],
   "source": [
    "table_1.to_excel('DAC_combo_candidates.xlsx')"
   ]
  },
  {
   "cell_type": "markdown",
   "id": "2de3e72b-986d-4015-b33a-aec0e3089081",
   "metadata": {},
   "source": [
    "### Clinical Phase"
   ]
  },
  {
   "cell_type": "markdown",
   "id": "baeb6be6-78b7-47a7-aaba-6adf16a59758",
   "metadata": {
    "tags": []
   },
   "source": [
    "Manually searched here ... https://clue.io/repurposing-app\n",
    "<!--     \n",
    "    - leflunomide\tLaunched\n",
    "    - brequinar\tPhase 2\n",
    "    - teriflunomide\tLaunched\n",
    "    - butenafine\tLaunched\n",
    "    - terbinafine\tLaunched\n",
    "    - atovaquone\tLaunched\n",
    "    - manitimus\tPreclinical\n",
    "    - naftifine\tLaunched -->"
   ]
  },
  {
   "cell_type": "code",
   "execution_count": 32,
   "id": "1e38e103-418b-4444-a43e-b5b41617c6a8",
   "metadata": {
    "tags": []
   },
   "outputs": [],
   "source": [
    "# '\",\"'.join(table_1['Drug full name'])"
   ]
  },
  {
   "cell_type": "code",
   "execution_count": 30,
   "id": "c8163b49-f3e7-4bf8-8502-c1fa5ab9a443",
   "metadata": {
    "tags": []
   },
   "outputs": [],
   "source": [
    "cell_lines = ['HL-60','MOLM-13']"
   ]
  },
  {
   "cell_type": "markdown",
   "id": "666eac19-9200-40b9-a15c-3f2e9d990060",
   "metadata": {},
   "source": [
    "___"
   ]
  },
  {
   "cell_type": "markdown",
   "id": "402da367-26d2-4622-910d-7fd307f23691",
   "metadata": {},
   "source": [
    "### GDSC ..."
   ]
  },
  {
   "cell_type": "code",
   "execution_count": 31,
   "id": "b6156a8c-0ad6-4c26-9019-caef83c4cdd1",
   "metadata": {
    "tags": []
   },
   "outputs": [],
   "source": [
    "# GDSC1.get_data().query(f\"Drug_ID in {primekg_dac_synergy_drugs_for_combo_list} &  `Cell Line_ID` in {cell_lines}\").sort_values('Y',ascending=False)"
   ]
  },
  {
   "cell_type": "code",
   "execution_count": 32,
   "id": "52689579-4702-4677-a757-695724a20f13",
   "metadata": {
    "tags": []
   },
   "outputs": [
    {
     "data": {
      "text/html": [
       "<div>\n",
       "<style scoped>\n",
       "    .dataframe tbody tr th:only-of-type {\n",
       "        vertical-align: middle;\n",
       "    }\n",
       "\n",
       "    .dataframe tbody tr th {\n",
       "        vertical-align: top;\n",
       "    }\n",
       "\n",
       "    .dataframe thead th {\n",
       "        text-align: right;\n",
       "    }\n",
       "</style>\n",
       "<table border=\"1\" class=\"dataframe\">\n",
       "  <thead>\n",
       "    <tr style=\"text-align: right;\">\n",
       "      <th></th>\n",
       "      <th>Drug_ID</th>\n",
       "      <th>Drug</th>\n",
       "      <th>Cell Line_ID</th>\n",
       "      <th>Cell Line</th>\n",
       "      <th>Y</th>\n",
       "    </tr>\n",
       "  </thead>\n",
       "  <tbody>\n",
       "    <tr>\n",
       "      <th>47559</th>\n",
       "      <td>Leflunomide</td>\n",
       "      <td>CC1=C(C=NO1)C(=O)NC2=CC=C(C=C2)C(F)(F)F</td>\n",
       "      <td>HL-60</td>\n",
       "      <td>[3.3509853404098497, 2.99626031382298, 9.94965...</td>\n",
       "      <td>4.818404</td>\n",
       "    </tr>\n",
       "    <tr>\n",
       "      <th>48115</th>\n",
       "      <td>Leflunomide</td>\n",
       "      <td>CC1=C(C=NO1)C(=O)NC2=CC=C(C=C2)C(F)(F)F</td>\n",
       "      <td>MOLM-13</td>\n",
       "      <td>[3.4406201832575, 2.92685171367912, 9.11426679...</td>\n",
       "      <td>2.624924</td>\n",
       "    </tr>\n",
       "    <tr>\n",
       "      <th>4792</th>\n",
       "      <td>Navitoclax</td>\n",
       "      <td>CC1(CCC(=C(C1)CN2CCN(CC2)C3=CC=C(C=C3)C(=O)NS(...</td>\n",
       "      <td>HL-60</td>\n",
       "      <td>[3.3509853404098497, 2.99626031382298, 9.94965...</td>\n",
       "      <td>-0.887512</td>\n",
       "    </tr>\n",
       "    <tr>\n",
       "      <th>5286</th>\n",
       "      <td>Navitoclax</td>\n",
       "      <td>CC1(CCC(=C(C1)CN2CCN(CC2)C3=CC=C(C=C3)C(=O)NS(...</td>\n",
       "      <td>MOLM-13</td>\n",
       "      <td>[3.4406201832575, 2.92685171367912, 9.11426679...</td>\n",
       "      <td>-1.978750</td>\n",
       "    </tr>\n",
       "    <tr>\n",
       "      <th>67374</th>\n",
       "      <td>Venetoclax</td>\n",
       "      <td>CC1(CCC(=C(C1)C2=CC=C(C=C2)Cl)CN3CCN(CC3)C4=CC...</td>\n",
       "      <td>HL-60</td>\n",
       "      <td>[3.3509853404098497, 2.99626031382298, 9.94965...</td>\n",
       "      <td>-4.545733</td>\n",
       "    </tr>\n",
       "    <tr>\n",
       "      <th>19635</th>\n",
       "      <td>Paclitaxel</td>\n",
       "      <td>CC1=C2[C@H](C(=O)[C@@]3([C@H](C[C@@H]4[C@]([C@...</td>\n",
       "      <td>HL-60</td>\n",
       "      <td>[3.3509853404098497, 2.99626031382298, 9.94965...</td>\n",
       "      <td>-4.939358</td>\n",
       "    </tr>\n",
       "    <tr>\n",
       "      <th>3242</th>\n",
       "      <td>Docetaxel</td>\n",
       "      <td>CC1=C2[C@H](C(=O)[C@@]3([C@H](C[C@@H]4[C@]([C@...</td>\n",
       "      <td>HL-60</td>\n",
       "      <td>[3.3509853404098497, 2.99626031382298, 9.94965...</td>\n",
       "      <td>-5.691190</td>\n",
       "    </tr>\n",
       "    <tr>\n",
       "      <th>67914</th>\n",
       "      <td>Venetoclax</td>\n",
       "      <td>CC1(CCC(=C(C1)C2=CC=C(C=C2)Cl)CN3CCN(CC3)C4=CC...</td>\n",
       "      <td>MOLM-13</td>\n",
       "      <td>[3.4406201832575, 2.92685171367912, 9.11426679...</td>\n",
       "      <td>-5.782811</td>\n",
       "    </tr>\n",
       "    <tr>\n",
       "      <th>20211</th>\n",
       "      <td>Paclitaxel</td>\n",
       "      <td>CC1=C2[C@H](C(=O)[C@@]3([C@H](C[C@@H]4[C@]([C@...</td>\n",
       "      <td>MOLM-13</td>\n",
       "      <td>[3.4406201832575, 2.92685171367912, 9.11426679...</td>\n",
       "      <td>-5.874419</td>\n",
       "    </tr>\n",
       "    <tr>\n",
       "      <th>3786</th>\n",
       "      <td>Docetaxel</td>\n",
       "      <td>CC1=C2[C@H](C(=O)[C@@]3([C@H](C[C@@H]4[C@]([C@...</td>\n",
       "      <td>MOLM-13</td>\n",
       "      <td>[3.4406201832575, 2.92685171367912, 9.11426679...</td>\n",
       "      <td>-6.550864</td>\n",
       "    </tr>\n",
       "  </tbody>\n",
       "</table>\n",
       "</div>"
      ],
      "text/plain": [
       "           Drug_ID                                               Drug  \\\n",
       "47559  Leflunomide            CC1=C(C=NO1)C(=O)NC2=CC=C(C=C2)C(F)(F)F   \n",
       "48115  Leflunomide            CC1=C(C=NO1)C(=O)NC2=CC=C(C=C2)C(F)(F)F   \n",
       "4792    Navitoclax  CC1(CCC(=C(C1)CN2CCN(CC2)C3=CC=C(C=C3)C(=O)NS(...   \n",
       "5286    Navitoclax  CC1(CCC(=C(C1)CN2CCN(CC2)C3=CC=C(C=C3)C(=O)NS(...   \n",
       "67374   Venetoclax  CC1(CCC(=C(C1)C2=CC=C(C=C2)Cl)CN3CCN(CC3)C4=CC...   \n",
       "19635   Paclitaxel  CC1=C2[C@H](C(=O)[C@@]3([C@H](C[C@@H]4[C@]([C@...   \n",
       "3242     Docetaxel  CC1=C2[C@H](C(=O)[C@@]3([C@H](C[C@@H]4[C@]([C@...   \n",
       "67914   Venetoclax  CC1(CCC(=C(C1)C2=CC=C(C=C2)Cl)CN3CCN(CC3)C4=CC...   \n",
       "20211   Paclitaxel  CC1=C2[C@H](C(=O)[C@@]3([C@H](C[C@@H]4[C@]([C@...   \n",
       "3786     Docetaxel  CC1=C2[C@H](C(=O)[C@@]3([C@H](C[C@@H]4[C@]([C@...   \n",
       "\n",
       "      Cell Line_ID                                          Cell Line  \\\n",
       "47559        HL-60  [3.3509853404098497, 2.99626031382298, 9.94965...   \n",
       "48115      MOLM-13  [3.4406201832575, 2.92685171367912, 9.11426679...   \n",
       "4792         HL-60  [3.3509853404098497, 2.99626031382298, 9.94965...   \n",
       "5286       MOLM-13  [3.4406201832575, 2.92685171367912, 9.11426679...   \n",
       "67374        HL-60  [3.3509853404098497, 2.99626031382298, 9.94965...   \n",
       "19635        HL-60  [3.3509853404098497, 2.99626031382298, 9.94965...   \n",
       "3242         HL-60  [3.3509853404098497, 2.99626031382298, 9.94965...   \n",
       "67914      MOLM-13  [3.4406201832575, 2.92685171367912, 9.11426679...   \n",
       "20211      MOLM-13  [3.4406201832575, 2.92685171367912, 9.11426679...   \n",
       "3786       MOLM-13  [3.4406201832575, 2.92685171367912, 9.11426679...   \n",
       "\n",
       "              Y  \n",
       "47559  4.818404  \n",
       "48115  2.624924  \n",
       "4792  -0.887512  \n",
       "5286  -1.978750  \n",
       "67374 -4.545733  \n",
       "19635 -4.939358  \n",
       "3242  -5.691190  \n",
       "67914 -5.782811  \n",
       "20211 -5.874419  \n",
       "3786  -6.550864  "
      ]
     },
     "execution_count": 32,
     "metadata": {},
     "output_type": "execute_result"
    }
   ],
   "source": [
    "GDSC2.get_data().query(f\"Drug_ID in {primekg_drugs_for_combo.get_nodes_by_source('DrugBank').name.to_list()} &  `Cell Line_ID` in {cell_lines}\").sort_values('Y',ascending=False)"
   ]
  },
  {
   "cell_type": "markdown",
   "id": "1730158c-4448-4780-8544-d884b10d49ea",
   "metadata": {},
   "source": [
    "### Drug -> AML\n",
    "Finding links between drugs and AML phenotypes in PrimeKG ..."
   ]
  },
  {
   "cell_type": "code",
   "execution_count": 27,
   "id": "64253580-11b0-46d0-94a8-a89910644ab9",
   "metadata": {
    "tags": []
   },
   "outputs": [],
   "source": [
    "# `Cell Line_ID` in [\"HL-60\",\"MOLM-13\"] &"
   ]
  },
  {
   "cell_type": "code",
   "execution_count": 28,
   "id": "6218ff2b-d0ba-4d17-9917-d472b744b5a5",
   "metadata": {
    "tags": []
   },
   "outputs": [],
   "source": [
    "# g = PrimeKG.to_nx()"
   ]
  },
  {
   "cell_type": "code",
   "execution_count": 29,
   "id": "c8a737c3-c501-455e-8394-d6a8fef2cbce",
   "metadata": {
    "tags": []
   },
   "outputs": [],
   "source": [
    "# g = ig.Graph.from_networkx(g)"
   ]
  },
  {
   "cell_type": "markdown",
   "id": "f376f34d-905a-4edb-abe2-e3a09ed09f37",
   "metadata": {},
   "source": [
    "this is problematic – https://github.com/mims-harvard/TDC/blob/6af2a41679a0699446ad627be8051504548e86fa/tdc/resource/primekg.py#L30"
   ]
  },
  {
   "cell_type": "markdown",
   "id": "2d92972a-6cee-40bc-b9b7-231b3e17b879",
   "metadata": {
    "tags": []
   },
   "source": [
    "# "
   ]
  },
  {
   "cell_type": "code",
   "execution_count": 33,
   "id": "5e21f3d7-d6e6-45fd-a521-86802b01cfea",
   "metadata": {
    "tags": []
   },
   "outputs": [
    {
     "name": "stdout",
     "output_type": "stream",
     "text": [
      "Last updated: 2023-10-15T04:12:44.821774-07:00\n",
      "\n",
      "Python implementation: CPython\n",
      "Python version       : 3.9.16\n",
      "IPython version      : 8.14.0\n",
      "\n",
      "Compiler    : GCC 11.3.0\n",
      "OS          : Linux\n",
      "Release     : 3.10.0-957.27.2.el7.x86_64\n",
      "Machine     : x86_64\n",
      "Processor   : x86_64\n",
      "CPU cores   : 64\n",
      "Architecture: 64bit\n",
      "\n",
      "________________________________________________________________________________\n",
      "anndata   : 0.9.1\n",
      "matplotlib: 3.7.2\n",
      "screenpro : 0.2.3\n",
      "pandas    : 2.0.3\n",
      "igraph    : 0.10.4\n",
      "numpy     : 1.24.4\n",
      "\n"
     ]
    }
   ],
   "source": [
    "from watermark import watermark\n",
    "print(\n",
    "    watermark()\n",
    ")\n",
    "print('_'*80)\n",
    "print(\n",
    "    watermark(iversions=True, globals_=globals())\n",
    ")"
   ]
  }
 ],
 "metadata": {
  "kernelspec": {
   "display_name": "Python [conda env:screenpro2]",
   "language": "python",
   "name": "conda-env-screenpro2-py"
  },
  "language_info": {
   "codemirror_mode": {
    "name": "ipython",
    "version": 3
   },
   "file_extension": ".py",
   "mimetype": "text/x-python",
   "name": "python",
   "nbconvert_exporter": "python",
   "pygments_lexer": "ipython3",
   "version": "3.9.16"
  }
 },
 "nbformat": 4,
 "nbformat_minor": 5
}
