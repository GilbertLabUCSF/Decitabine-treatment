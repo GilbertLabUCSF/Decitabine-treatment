{
 "cells": [
  {
   "cell_type": "markdown",
   "metadata": {
    "tags": []
   },
   "source": [
    "# Drug synergy\n",
    "- Bliss synergy paper: https://www.frontiersin.org/articles/10.3389/fphar.2017.00158/full\n"
   ]
  },
  {
   "cell_type": "markdown",
   "metadata": {},
   "source": [
    "## Experiment design\n",
    "Hey Abe, I believe I already shared some papers regarding Bliss synergy calculation with you. Synergy is showing whether or not drug A and drug B have greater killing than drug A alone + drug B alone\n",
    "\n",
    "CTG stands for cell titer glo which is the luciferase assay used to measure killing\n",
    "\n",
    "To perform the assay you dose in a grid with increased concentrations of drug A on the x axis and increased concentrations of drug B on the y axis\n",
    "\n",
    "The visual representation you get from the data is a heat map\n",
    "\n",
    "Which shows excess killing compared to what is expected from drug A alone + drug B alone\n",
    "\n",
    "One way to plot the data is using the heat map\n",
    "\n",
    "You can also present the numerical scores in a table format\n",
    "\n",
    "HL-60 and KG-1 showed positive results, aka there was synergy between decitabine and RG3039\n",
    "\n",
    "The other cell lines were negative\n",
    "\n",
    "    hl60_bliss_mat_6x6.txt  kg1_bliss_mat_6x6.txt\n",
    "    hl60_ctg_mat_6x6.txt    kg1_ctg_mat_6x6.txt\n",
    "    hl60_ctg_mat_7x7.txt    kg1_ctg_mat_7x7.txt\n",
    "\n",
    "These are the data used by the notebook to plot the heat maps\n",
    "\n",
    "Since we only see positive data with HL60 and KG1\n",
    "\n",
    "You can see if 6x6 or 7x7 looks better\n",
    "\n",
    "I thought 6x6 was good\n",
    "\n",
    "I can clean the tables, but it will have to be over Christmas break"
   ]
  },
  {
   "cell_type": "code",
   "execution_count": 1,
   "metadata": {},
   "outputs": [
    {
     "name": "stdout",
     "output_type": "stream",
     "text": [
      "synergy/hl60_bliss_mat_6x6.txt  synergy/kg1_bliss_mat_6x6.txt\n",
      "synergy/hl60_ctg_mat_6x6.txt    synergy/kg1_ctg_mat_6x6.txt\n",
      "synergy/hl60_ctg_mat_7x7.txt    synergy/kg1_ctg_mat_7x7.txt\n"
     ]
    }
   ],
   "source": [
    "ls synergy/*.txt"
   ]
  },
  {
   "cell_type": "code",
   "execution_count": 6,
   "metadata": {},
   "outputs": [
    {
     "name": "stdout",
     "output_type": "stream",
     "text": [
      "190216_hl60_d5.xls    190218_kg1_d7.xls\n",
      "190216_kg1_d5.xls     190218_molm14_d7.xls\n",
      "190216_molm14_d5.xls  190218_oci2_d7.xls\n",
      "190216_oci2_d5.xls    190218_oci3_d7.xls\n",
      "190216_oci3_d5.xls    190218_thp1_d7.xls\n",
      "190216_thp1_d5.xls    190320_molm14_newdoses_n3_biological_reps_d5.xls\n",
      "190218_hl60_d7.xls    190423_kasumi1_d5.xls\n"
     ]
    }
   ],
   "source": [
    "!ls synergy/ctg/raw_data_glomax"
   ]
  },
  {
   "cell_type": "markdown",
   "metadata": {},
   "source": [
    "## Heatmap"
   ]
  },
  {
   "cell_type": "code",
   "execution_count": 3,
   "metadata": {},
   "outputs": [],
   "source": [
    "%reload_ext rpy2.ipython"
   ]
  },
  {
   "cell_type": "code",
   "execution_count": 82,
   "metadata": {
    "scrolled": true
   },
   "outputs": [],
   "source": [
    "%%R \n",
    "library(tidyverse)\n",
    "library(ggplot2)\n",
    "library(RColorBrewer)\n",
    "library(viridis)\n",
    "library(reshape2)\n",
    "library(patchwork)\n",
    "# library(ggthemes)"
   ]
  },
  {
   "cell_type": "markdown",
   "metadata": {
    "tags": []
   },
   "source": [
    "# CTG\n",
    "CTG stands for cell titer glo which is the luciferase assay used to measure killing\n"
   ]
  },
  {
   "cell_type": "code",
   "execution_count": 164,
   "metadata": {},
   "outputs": [],
   "source": [
    "%%R\n",
    "plot_CTG <- function(ctg_mat,title){\n",
    "    p <- ggplot(ctg_mat, aes(x = variable, y = dec_dose, fill = value, label = sprintf('%.1f', value))) +\n",
    "    geom_tile(color = 'white', size = 0.5) +\n",
    "    theme_minimal() + \n",
    "    geom_text(aes(color = threshold), size = 5) +\n",
    "    theme(plot.title = element_text(face = \"bold\",size = rel(1.2), hjust = 0.5),\n",
    "          axis.text.x = element_text(size=10,color = 'black',angle = 45, hjust = 1),\n",
    "          axis.text.y = element_text(size=10,color = 'black',angle = 45, hjust = 1),\n",
    "          panel.grid.major = element_blank(),\n",
    "          text = element_text(size=15),\n",
    "          legend.title = element_blank(),\n",
    "          plot.margin=unit(c(10,5,5,5),\"mm\"),\n",
    "          # legend.background = element_rect(fill=\"transparent\"),\n",
    "          # legend.position = element_blank() #'right'\n",
    "         ) +\n",
    "    ggtitle(title) + \n",
    "    scale_fill_viridis(limits = c(-10,100)) +\n",
    "    scale_color_manual(values = c('darkblue', 'white')) + \n",
    "    xlab(expression('[RG3039] (' * mu * 'M)')) +\n",
    "    ylab(expression('[Decitabine] (' * mu * 'M)')) +\n",
    "    guides(color = FALSE)\n",
    "    \n",
    "    return(p)\n",
    "}"
   ]
  },
  {
   "cell_type": "code",
   "execution_count": 165,
   "metadata": {},
   "outputs": [],
   "source": [
    "%%R \n",
    "ctg_mat_melt <- read.table('synergy/ctg_mat_6x6.txt', sep = '\\t', header = TRUE, check.names = FALSE)\n",
    "\n",
    "ctg_mat_melt <- melt(ctg_mat_melt, id.vars = c('line','dec_dose'))\n",
    "ctg_mat_melt$dec_dose <- as.character(sprintf('%.3f', ctg_mat_melt$dec_dose))\n",
    "ctg_mat_melt$variable <- as.factor(ctg_mat_melt$variable)\n",
    "ctg_mat_melt$value = ctg_mat_melt$value * 100\n",
    "\n",
    "ctg_mat_melt$threshold <- ifelse(ctg_mat_melt$value < 40, 'under', 'over')"
   ]
  },
  {
   "cell_type": "code",
   "execution_count": 166,
   "metadata": {},
   "outputs": [
    {
     "name": "stdout",
     "output_type": "stream",
     "text": [
      "[1] \"HL-60\"    \"Kasumi-1\" \"KG-1\"     \"MOLM-14\"  \"OCI-AML2\" \"OCI-AML3\" \"THP-1\"   \n"
     ]
    }
   ],
   "source": [
    "%%R \n",
    "ctg_mat_melt$line %>% levels"
   ]
  },
  {
   "cell_type": "markdown",
   "metadata": {
    "tags": []
   },
   "source": [
    "### ..."
   ]
  },
  {
   "cell_type": "code",
   "execution_count": 167,
   "metadata": {
    "tags": []
   },
   "outputs": [],
   "source": [
    "%%R \n",
    "plot_CTG(ctg_mat_melt %>% filter(line == 'HL-60'),'HL-60') +\n",
    "plot_CTG(ctg_mat_melt %>% filter(line == 'KG-1'),'KG-1') +\n",
    "plot_CTG(ctg_mat_melt %>% filter(line == 'MOLM-14'),'MOLM-14') +\n",
    "plot_CTG(ctg_mat_melt %>% filter(line == 'OCI-AML2'),'OCI-AML2') +\n",
    "plot_CTG(ctg_mat_melt %>% filter(line == 'OCI-AML3'),'OCI-AML3') +\n",
    "plot_CTG(ctg_mat_melt %>% filter(line == 'THP-1'),'THP-1') +\n",
    "plot_CTG(ctg_mat_melt %>% filter(line == 'Kasumi-1'),'Kasumi-1')\n",
    "ggsave('synergy/CTG.pdf',width = 18, height = 16)"
   ]
  },
  {
   "cell_type": "markdown",
   "metadata": {},
   "source": [
    "# bliss"
   ]
  },
  {
   "cell_type": "code",
   "execution_count": 177,
   "metadata": {},
   "outputs": [],
   "source": [
    "%%R \n",
    "plot_bliss <- function(bliss_mat,title){\n",
    "    p <- ggplot(bliss_mat, aes(x = variable, y = dec_dose, fill = value, label = sprintf('%.1f', value))) +\n",
    "    geom_tile(color = 'white', size = 0.5) +\n",
    "    theme_minimal() +\n",
    "    theme(plot.title = element_text(face = \"bold\",\n",
    "                                             size = rel(1.2), hjust = 0.5),\n",
    "          axis.text.x = element_text(size=10,color = 'black',angle = 45, hjust = 0.85),\n",
    "          axis.text.y = element_text(size=10,color = 'black',angle = 45),# hjust = 0.1),\n",
    "          panel.grid.major = element_blank(),\n",
    "          text = element_text(size=15),\n",
    "          legend.title = element_blank(),\n",
    "          plot.margin=unit(c(10,5,5,5),\"mm\"),\n",
    "          legend.position = 'right'\n",
    "         ) +\n",
    "    scale_fill_gradient2(low = '#3182bd', mid = 'gray95', high = '#de2d26', midpoint = 0) +\n",
    "    geom_text(size = 5) +\n",
    "    xlab(expression('[RG3039] (' * mu * 'M)')) +\n",
    "    ylab(expression('[Decitabine] (' * mu * 'M)')) +\n",
    "    ggtitle(title) + \n",
    "    scale_color_manual(values = c('black', 'white'))\n",
    "    return(p)\n",
    "}"
   ]
  },
  {
   "cell_type": "code",
   "execution_count": 178,
   "metadata": {},
   "outputs": [],
   "source": [
    "%%R \n",
    "bliss_mat_melt <- read.table('synergy/bliss_mat_6x6.txt', sep = '\\t', header = TRUE, check.names = FALSE)\n",
    "bliss_mat_melt\n",
    "\n",
    "bliss_mat_melt <- melt(bliss_mat_melt, id.vars = c('line','dec_dose'))\n",
    "bliss_mat_melt$dec_dose <- as.character(sprintf('%.3f', bliss_mat_melt$dec_dose))\n",
    "bliss_mat_melt$variable <- as.factor(bliss_mat_melt$variable)\n",
    "\n",
    "bliss_mat_melt$value = bliss_mat_melt$value * 100\n",
    "# ctg_mat_melt$threshold <- ifelse(ctg_mat_melt$value < 0.4, 'under', 'over')"
   ]
  },
  {
   "cell_type": "code",
   "execution_count": 179,
   "metadata": {
    "tags": []
   },
   "outputs": [],
   "source": [
    "%%R \n",
    "plot_bliss(bliss_mat_melt %>% filter(line == 'HL-60'),'HL-60') +\n",
    "plot_bliss(bliss_mat_melt %>% filter(line == 'KG-1'),'KG-1') +\n",
    "plot_bliss(bliss_mat_melt %>% filter(line == 'MOLM-14'),'MOLM-14') +\n",
    "plot_bliss(bliss_mat_melt %>% filter(line == 'OCI-AML2'),'OCI-AML2') +\n",
    "plot_bliss(bliss_mat_melt %>% filter(line == 'OCI-AML3'),'OCI-AML3') +\n",
    "plot_bliss(bliss_mat_melt %>% filter(line == 'THP-1'),'THP-1') +\n",
    "plot_bliss(bliss_mat_melt %>% filter(line == 'Kasumi-1'),'Kasumi-1')\n",
    "\n",
    "ggsave('synergy/bliss.pdf',width = 18, height = 16)"
   ]
  },
  {
   "cell_type": "markdown",
   "metadata": {
    "tags": []
   },
   "source": [
    "### hl60"
   ]
  },
  {
   "cell_type": "code",
   "execution_count": 102,
   "metadata": {},
   "outputs": [],
   "source": [
    "# %%R \n",
    "# #import dose matrix\n",
    "# hl60_bliss_mat <- read.table('synergy/hl60_bliss_mat_6x6.txt', sep = '\\t', header = TRUE, check.names = FALSE)\n",
    "\n",
    "# #rename first column\n",
    "# names(hl60_bliss_mat)[1] <- 'dec_dose'\n",
    "\n",
    "# #melt data using first column as id variable\n",
    "# hl60_bliss_mat_melt <- melt(hl60_bliss_mat, id.vars = 'dec_dose')\n",
    "\n",
    "# #convert decitabine doses (w three decimal places) to characters\n",
    "# hl60_bliss_mat_melt$dec_dose <- as.character(sprintf('%.3f', hl60_bliss_mat_melt$dec_dose))\n",
    "\n",
    "# #convert rg3039 doses to factor\n",
    "# hl60_bliss_mat_melt$variable <- as.factor(hl60_bliss_mat_melt$variable)\n",
    "\n",
    "# #create variable for value font color\n",
    "# #hl60_ctg_mat_melt$threshold <- ifelse(hl60_ctg_mat_melt$value < 0.4, 'under', 'over')\n",
    "\n",
    "# head(hl60_bliss_mat_melt, n = 15)"
   ]
  },
  {
   "cell_type": "code",
   "execution_count": 103,
   "metadata": {},
   "outputs": [],
   "source": [
    "# %%R \n",
    "# p <- ggplot(hl60_bliss_mat_melt, aes(x = variable, y = dec_dose, fill = value, label = sprintf('%.2f', value))) +\n",
    "# geom_tile(color = 'white', size = 0.5) +\n",
    "# theme_minimal() +\n",
    "# theme(plot.title = element_text(face = \"bold\",\n",
    "#                                          size = rel(1.2), hjust = 0.5),\n",
    "#       axis.text.x = element_text(size=10,color = 'black',angle = 45, hjust = 0.85),\n",
    "#       axis.text.y = element_text(size=10,color = 'black',angle = 45),# hjust = 0.1),\n",
    "#       panel.grid.major = element_blank(),\n",
    "#       text = element_text(size=15),\n",
    "#       legend.title = element_blank(),\n",
    "#       plot.margin=unit(c(10,5,5,5),\"mm\"),\n",
    "#       legend.position = 'right'\n",
    "#      ) +\n",
    "# scale_fill_gradient2(low = '#3182bd', mid = 'gray95', high = '#de2d26', midpoint = 0) +\n",
    "# geom_text(size = 5) +\n",
    "# xlab(expression('[RG3039] (' * mu * 'M)')) +\n",
    "# ylab(expression('[Decitabine] (' * mu * 'M)')) +\n",
    "# ggtitle('hl60 bliss') + \n",
    "# scale_color_manual(values = c('black', 'white'))\n",
    "\n",
    "# ggsave('synergy/hl60_bliss_v4.pdf',width = 6, height = 5.5)\n",
    "\n",
    "# p"
   ]
  },
  {
   "cell_type": "code",
   "execution_count": 105,
   "metadata": {},
   "outputs": [],
   "source": [
    "# p <- ggplot(kg1_bliss_mat_melt, aes(x = variable, y = dec_dose, fill = value, label = sprintf('%.2f', value))) +\n",
    "# geom_tile(color = NA) +\n",
    "# theme_minimal() +\n",
    "# xlab(expression('RG3039 (uM)')) +\n",
    "# ylab(expression('Decitabine (uM)')) +\n",
    "# theme(axis.text.x = element_text(size = rel(2), color = 'black', angle = 45, hjust = 1),\n",
    "#       axis.text.y = element_text(size = rel(2), color = 'black'),\n",
    "#       axis.title.x = element_text(size = rel(1.75), color = 'black'),\n",
    "#       axis.title.y = element_text(size = rel(1.75), color = 'black'),\n",
    "#       panel.grid.major = element_blank(),\n",
    "#       legend.title = element_blank(),\n",
    "#       legend.position = 'right',\n",
    "#       legend.text = element_text(size = rel(1.5))) +\n",
    "# scale_fill_gradient2(low = '#3182bd', mid = 'gray95', high = '#de2d26', midpoint = 0,\n",
    "#                      guide = guide_colorbar(ticks.linewidth = 2, barheight = 10)) +\n",
    "# scale_color_manual(values = c('black', 'white'))\n",
    "\n",
    "# ggsave('kg1_bliss_v2.eps', width = 5.35, height = 4.4)\n",
    "\n",
    "# p"
   ]
  },
  {
   "cell_type": "markdown",
   "metadata": {},
   "source": [
    "# "
   ]
  },
  {
   "cell_type": "code",
   "execution_count": 106,
   "metadata": {},
   "outputs": [
    {
     "name": "stdout",
     "output_type": "stream",
     "text": [
      "R version 3.6.0 (2019-04-26)\n",
      "Platform: x86_64-redhat-linux-gnu (64-bit)\n",
      "Running under: CentOS Linux 7 (Core)\n",
      "\n",
      "Matrix products: default\n",
      "BLAS/LAPACK: /data_gilbert/home/aarab/anaconda3/envs/down/lib/libmkl_rt.so\n",
      "\n",
      "locale:\n",
      " [1] LC_CTYPE=en_US.UTF-8       LC_NUMERIC=C              \n",
      " [3] LC_TIME=en_US.UTF-8        LC_COLLATE=en_US.UTF-8    \n",
      " [5] LC_MONETARY=en_US.UTF-8    LC_MESSAGES=en_US.UTF-8   \n",
      " [7] LC_PAPER=en_US.UTF-8       LC_NAME=C                 \n",
      " [9] LC_ADDRESS=C               LC_TELEPHONE=C            \n",
      "[11] LC_MEASUREMENT=en_US.UTF-8 LC_IDENTIFICATION=C       \n",
      "\n",
      "attached base packages:\n",
      "[1] tools     stats     graphics  grDevices utils     datasets  methods  \n",
      "[8] base     \n",
      "\n",
      "other attached packages:\n",
      "[1] viridis_0.5.1      viridisLite_0.4.0  reshape2_1.4.3     RColorBrewer_1.1-2\n",
      "[5] ggplot2_3.3.3     \n",
      "\n",
      "loaded via a namespace (and not attached):\n",
      " [1] Rcpp_1.0.6       rstudioapi_0.13  magrittr_2.0.1   tidyselect_0.2.5\n",
      " [5] munsell_0.5.0    colorspace_2.0-1 R6_2.5.0         rlang_0.4.11    \n",
      " [9] fansi_0.4.2      stringr_1.4.0    plyr_1.8.4       dplyr_0.8.0.1   \n",
      "[13] grid_3.6.1       gtable_0.3.0     utf8_1.2.1       withr_2.4.2     \n",
      "[17] ellipsis_0.3.2   digest_0.6.27    assertthat_0.2.1 tibble_3.1.2    \n",
      "[21] lifecycle_1.0.0  crayon_1.4.1     gridExtra_2.3    farver_2.1.0    \n",
      "[25] purrr_0.3.2      vctrs_0.3.8      glue_1.4.2       labeling_0.4.2  \n",
      "[29] stringi_1.4.3    compiler_3.6.1   pillar_1.6.1     scales_1.1.1    \n",
      "[33] pkgconfig_2.0.3 \n"
     ]
    }
   ],
   "source": [
    "%%R \n",
    "sessionInfo()"
   ]
  },
  {
   "cell_type": "code",
   "execution_count": 107,
   "metadata": {},
   "outputs": [
    {
     "name": "stdout",
     "output_type": "stream",
     "text": [
      "Tue Dec 14 13:07:42 PST 2021\n"
     ]
    }
   ],
   "source": [
    "!date"
   ]
  }
 ],
 "metadata": {
  "kernelspec": {
   "display_name": "Python [conda env:down]",
   "language": "python",
   "name": "conda-env-down-py"
  },
  "language_info": {
   "codemirror_mode": {
    "name": "ipython",
    "version": 3
   },
   "file_extension": ".py",
   "mimetype": "text/x-python",
   "name": "python",
   "nbconvert_exporter": "python",
   "pygments_lexer": "ipython3",
   "version": "3.6.13"
  }
 },
 "nbformat": 4,
 "nbformat_minor": 4
}
