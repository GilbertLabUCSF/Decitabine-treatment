{
 "cells": [
  {
   "cell_type": "code",
   "execution_count": 1,
   "metadata": {},
   "outputs": [
    {
     "name": "stderr",
     "output_type": "stream",
     "text": [
      "── \u001b[1mAttaching packages\u001b[22m ─────────────────────────────────────── tidyverse 1.3.1 ──\n",
      "\n",
      "\u001b[32m✔\u001b[39m \u001b[34mtibble \u001b[39m 3.1.6     \u001b[32m✔\u001b[39m \u001b[34mdplyr  \u001b[39m 1.0.7\n",
      "\u001b[32m✔\u001b[39m \u001b[34mtidyr  \u001b[39m 1.1.4     \u001b[32m✔\u001b[39m \u001b[34mstringr\u001b[39m 1.4.0\n",
      "\u001b[32m✔\u001b[39m \u001b[34mreadr  \u001b[39m 2.0.2     \u001b[32m✔\u001b[39m \u001b[34mforcats\u001b[39m 0.5.1\n",
      "\u001b[32m✔\u001b[39m \u001b[34mpurrr  \u001b[39m 0.3.4     \n",
      "\n",
      "── \u001b[1mConflicts\u001b[22m ────────────────────────────────────────── tidyverse_conflicts() ──\n",
      "\u001b[31m✖\u001b[39m \u001b[34mdplyr\u001b[39m::\u001b[32mfilter()\u001b[39m masks \u001b[34mstats\u001b[39m::filter()\n",
      "\u001b[31m✖\u001b[39m \u001b[34mdplyr\u001b[39m::\u001b[32mlag()\u001b[39m    masks \u001b[34mstats\u001b[39m::lag()\n",
      "\n"
     ]
    }
   ],
   "source": [
    "library(ggplot2)\n",
    "library(ggthemes)\n",
    "library(ggrepel)\n",
    "library(tidyverse)"
   ]
  },
  {
   "cell_type": "code",
   "execution_count": 2,
   "metadata": {},
   "outputs": [],
   "source": [
    "source(\"../../scripts/util.R\")"
   ]
  },
  {
   "cell_type": "code",
   "execution_count": 13,
   "metadata": {},
   "outputs": [],
   "source": [
    "# table <- read.table(\n",
    "#     'deseq2_counts_log2_tpm.txt',header=T\n",
    "# )\n",
    "\n",
    "# table %>% \n",
    "#     select(gene_name,log2FoldChange,pvalue) -> res \n",
    "# # %>% column_to_rownames('gene_name') "
   ]
  },
  {
   "cell_type": "code",
   "execution_count": 17,
   "metadata": {},
   "outputs": [],
   "source": [
    "ncu = read.table(\n",
    "    'deseq2_norm.txt', sep=\"\\t\"#, col.names=TRUE\n",
    ")"
   ]
  },
  {
   "cell_type": "code",
   "execution_count": 18,
   "metadata": {},
   "outputs": [
    {
     "data": {
      "text/html": [
       "<table class=\"dataframe\">\n",
       "<caption>A data.frame: 8 × 2</caption>\n",
       "<thead>\n",
       "\t<tr><th></th><th scope=col>cond</th><th scope=col>reps</th></tr>\n",
       "\t<tr><th></th><th scope=col>&lt;fct&gt;</th><th scope=col>&lt;fct&gt;</th></tr>\n",
       "</thead>\n",
       "<tbody>\n",
       "\t<tr><th scope=row>hl60_combination_1</th><td>Combination</td><td>rep1</td></tr>\n",
       "\t<tr><th scope=row>hl60_combination_2</th><td>Combination</td><td>rep2</td></tr>\n",
       "\t<tr><th scope=row>hl60_decitabine_1</th><td>Decitabine </td><td>rep1</td></tr>\n",
       "\t<tr><th scope=row>hl60_decitabine_2</th><td>Decitabine </td><td>rep2</td></tr>\n",
       "\t<tr><th scope=row>hl60_dmso_1</th><td>DMSO       </td><td>rep1</td></tr>\n",
       "\t<tr><th scope=row>hl60_dmso_2</th><td>DMSO       </td><td>rep2</td></tr>\n",
       "\t<tr><th scope=row>hl60_rg3039_1</th><td>rg3039     </td><td>rep1</td></tr>\n",
       "\t<tr><th scope=row>hl60_rg3039_2</th><td>rg3039     </td><td>rep2</td></tr>\n",
       "</tbody>\n",
       "</table>\n"
      ],
      "text/latex": [
       "A data.frame: 8 × 2\n",
       "\\begin{tabular}{r|ll}\n",
       "  & cond & reps\\\\\n",
       "  & <fct> & <fct>\\\\\n",
       "\\hline\n",
       "\thl60\\_combination\\_1 & Combination & rep1\\\\\n",
       "\thl60\\_combination\\_2 & Combination & rep2\\\\\n",
       "\thl60\\_decitabine\\_1 & Decitabine  & rep1\\\\\n",
       "\thl60\\_decitabine\\_2 & Decitabine  & rep2\\\\\n",
       "\thl60\\_dmso\\_1 & DMSO        & rep1\\\\\n",
       "\thl60\\_dmso\\_2 & DMSO        & rep2\\\\\n",
       "\thl60\\_rg3039\\_1 & rg3039      & rep1\\\\\n",
       "\thl60\\_rg3039\\_2 & rg3039      & rep2\\\\\n",
       "\\end{tabular}\n"
      ],
      "text/markdown": [
       "\n",
       "A data.frame: 8 × 2\n",
       "\n",
       "| <!--/--> | cond &lt;fct&gt; | reps &lt;fct&gt; |\n",
       "|---|---|---|\n",
       "| hl60_combination_1 | Combination | rep1 |\n",
       "| hl60_combination_2 | Combination | rep2 |\n",
       "| hl60_decitabine_1 | Decitabine  | rep1 |\n",
       "| hl60_decitabine_2 | Decitabine  | rep2 |\n",
       "| hl60_dmso_1 | DMSO        | rep1 |\n",
       "| hl60_dmso_2 | DMSO        | rep2 |\n",
       "| hl60_rg3039_1 | rg3039      | rep1 |\n",
       "| hl60_rg3039_2 | rg3039      | rep2 |\n",
       "\n"
      ],
      "text/plain": [
       "                   cond        reps\n",
       "hl60_combination_1 Combination rep1\n",
       "hl60_combination_2 Combination rep2\n",
       "hl60_decitabine_1  Decitabine  rep1\n",
       "hl60_decitabine_2  Decitabine  rep2\n",
       "hl60_dmso_1        DMSO        rep1\n",
       "hl60_dmso_2        DMSO        rep2\n",
       "hl60_rg3039_1      rg3039      rep1\n",
       "hl60_rg3039_2      rg3039      rep2"
      ]
     },
     "metadata": {},
     "output_type": "display_data"
    }
   ],
   "source": [
    "# meta \n",
    "conds  <- factor(c(\n",
    "    rep('Combination',2),rep('Decitabine',2),rep('DMSO',2),rep('rg3039',2)\n",
    "), levels = c('DMSO','Decitabine','rg3039','Combination'))\n",
    "\n",
    "reps <- factor(c(\n",
    "    rep(c('rep1','rep2'),4)\n",
    "),c('rep1','rep2'))\n",
    "\n",
    "colData <- data.frame(\n",
    "    cond=conds,\n",
    "    reps=reps,\n",
    "    row.names=colnames(ncu)[-1],\n",
    "    stringsAsFactors=FALSE\n",
    ")\n",
    "colData"
   ]
  },
  {
   "cell_type": "code",
   "execution_count": 41,
   "metadata": {},
   "outputs": [],
   "source": [
    "labels <- c(\n",
    " 'ADAM8',\n",
    " 'ADGRE2',\n",
    " 'ALOX5',\n",
    " 'ANXA1',\n",
    " 'BCAR1',\n",
    " 'BIN2',\n",
    " 'C5AR1',\n",
    " 'C5AR2',\n",
    " 'CCL1',\n",
    " 'CCL2',\n",
    " 'CCL20',\n",
    " 'CCL22',\n",
    " 'CCL23',\n",
    " 'CCL3',\n",
    " 'CCL3L1',\n",
    " 'CCL4',\n",
    " 'CCL5',\n",
    " 'CCR1',\n",
    " 'CCR10',\n",
    " 'CCR3',\n",
    " 'CCR4',\n",
    " 'CCRL2',\n",
    " 'CORO1A',\n",
    " 'CORO1B',\n",
    " 'CSF1',\n",
    " 'CSF1R',\n",
    " 'CSF3R',\n",
    " 'CXCL16',\n",
    " 'CXCL6',\n",
    " 'CXCL8',\n",
    " 'CXCR1',\n",
    " 'CXCR5',\n",
    " 'DAPK2',\n",
    " 'DUSP1',\n",
    " 'EGR3',\n",
    " 'FCER1G',\n",
    " 'FFAR2',\n",
    " 'FGFR1',\n",
    " 'FLT1',\n",
    " 'FPR2',\n",
    " 'GPR183',\n",
    " 'HBEGF',\n",
    " 'HRH1',\n",
    " 'HSD3B7',\n",
    " 'IL23A',\n",
    " 'ITGA1',\n",
    " 'ITGB2',\n",
    " 'JAML',\n",
    " 'LGALS3',\n",
    " 'LPAR1',\n",
    " 'MST1',\n",
    " 'NOD2',\n",
    " 'NOTCH1',\n",
    " 'NR4A1',\n",
    " 'NRP1',\n",
    " 'P2RX4',\n",
    " 'PDE4B',\n",
    " 'PTPRO',\n",
    " 'RAB13',\n",
    " 'RIN3',\n",
    " 'RIPOR2',\n",
    " 'S100A12',\n",
    " 'S100A8',\n",
    " 'S100A9',\n",
    " 'SFTPD',\n",
    " 'SLAMF8',\n",
    " 'SLIT2',\n",
    " 'THBS1',\n",
    " 'TIRAP',\n",
    " 'TNFRSF11A',\n",
    " 'ZNF580'\n",
    "    # 'ADAM8','CCL3', 'CCR2', 'CD14', 'CD86', 'HLA-E', 'IL12B',\n",
    "    # 'IL23A', 'LILRA2', 'LILRA5', 'MAPKAPK2', 'NOD2', 'ORM1',\n",
    "    # 'ORM2', 'PTAFR', 'PTPRC', 'PTPRJ', 'THBS1', 'TLR4', 'TLR9', 'TYROBP'\n",
    "    )"
   ]
  },
  {
   "cell_type": "code",
   "execution_count": null,
   "metadata": {},
   "outputs": [],
   "source": []
  },
  {
   "cell_type": "code",
   "execution_count": 30,
   "metadata": {},
   "outputs": [],
   "source": [
    "library(RColorBrewer)\n",
    "library(pheatmap)\n",
    "\n",
    "heat_colors <- brewer.pal(n = 6, name = \"RdYlBu\") %>% rev\n",
    "paired <- brewer.pal(n = 10, name = \"Paired\")"
   ]
  },
  {
   "cell_type": "code",
   "execution_count": 31,
   "metadata": {},
   "outputs": [],
   "source": [
    "ann_colors = list(\n",
    "    cond = c('DMSO'= paired[1], 'Decitabine'=paired[3], 'rg3039'=paired[9],'Combination'=paired[10])\n",
    ")"
   ]
  },
  {
   "cell_type": "code",
   "execution_count": null,
   "metadata": {},
   "outputs": [],
   "source": [
    "mat <- ncu[\n",
    "    # subset to selected genes \n",
    "    ncu$name %in% labels, \n",
    "    # subset normalized counts\n",
    "    c('name',colData %>% arrange(cond) %>% rownames)\n",
    "] %>%  remove_rownames %>% column_to_rownames('name') \n",
    "\n",
    "# mat[rowSums(log2(mat) > 10) > 2,] %>%\n",
    "mat %>%\n",
    "    # generate heatmap\n",
    "    pheatmap(\n",
    "        color = heat_colors, \n",
    "        show_colnames = F,\n",
    "        show_rownames = T,\n",
    "        # cutree_rows = 2,\n",
    "        # main = 'GOBP_POSITIVE_REGULATION_OF\\nMYELOID_CELL_DIFFERENTIATION',\n",
    "        main = 'GOBP_CELL_CHEMOTAXIS',\n",
    "        annotation = colData %>% arrange(cond) %>% select(cond),\n",
    "        cluster_cols = F, \n",
    "        cellheight=10,\n",
    "        scale = 'row',\n",
    "        angle_col= 45,\n",
    "        annotation_colors = ann_colors\n",
    ") -> hm\n",
    "\n",
    "# https://stackoverflow.com/questions/43051525/how-to-draw-pheatmap-plot-to-screen-and-also-save-to-file\n",
    "pdf('heatmap_clustering_GOBP_CELL_CHEMOTAXIS.pdf', width=4.5, height=6)\n",
    "grid::grid.newpage()\n",
    "grid::grid.draw(hm$gtable)\n",
    "dev.off()"
   ]
  },
  {
   "cell_type": "markdown",
   "metadata": {},
   "source": [
    "# "
   ]
  },
  {
   "cell_type": "code",
   "execution_count": 38,
   "metadata": {},
   "outputs": [
    {
     "data": {
      "text/plain": [
       "R version 4.1.1 (2021-08-10)\n",
       "Platform: x86_64-conda-linux-gnu (64-bit)\n",
       "Running under: CentOS Linux 7 (Core)\n",
       "\n",
       "Matrix products: default\n",
       "BLAS/LAPACK: /data_gilbert/home/aarab/anaconda3/envs/deseq2/lib/libopenblasp-r0.3.18.so\n",
       "\n",
       "locale:\n",
       " [1] LC_CTYPE=en_US.UTF-8       LC_NUMERIC=C              \n",
       " [3] LC_TIME=en_US.UTF-8        LC_COLLATE=en_US.UTF-8    \n",
       " [5] LC_MONETARY=en_US.UTF-8    LC_MESSAGES=en_US.UTF-8   \n",
       " [7] LC_PAPER=en_US.UTF-8       LC_NAME=C                 \n",
       " [9] LC_ADDRESS=C               LC_TELEPHONE=C            \n",
       "[11] LC_MEASUREMENT=en_US.UTF-8 LC_IDENTIFICATION=C       \n",
       "\n",
       "attached base packages:\n",
       "[1] stats     graphics  grDevices utils     datasets  methods   base     \n",
       "\n",
       "other attached packages:\n",
       " [1] pheatmap_1.0.12    RColorBrewer_1.1-2 forcats_0.5.1      stringr_1.4.0     \n",
       " [5] dplyr_1.0.7        purrr_0.3.4        readr_2.0.2        tidyr_1.1.4       \n",
       " [9] tibble_3.1.6       tidyverse_1.3.1    ggrepel_0.9.1      ggthemes_4.2.4    \n",
       "[13] ggplot2_3.3.5     \n",
       "\n",
       "loaded via a namespace (and not attached):\n",
       " [1] pbdZMQ_0.3-6     tidyselect_1.1.1 repr_1.1.3       haven_2.4.3     \n",
       " [5] colorspace_2.0-2 vctrs_0.3.8      generics_0.1.1   htmltools_0.5.2 \n",
       " [9] base64enc_0.1-3  utf8_1.2.2       rlang_0.4.12     pillar_1.6.4    \n",
       "[13] glue_1.5.0       withr_2.4.2      DBI_1.1.1        dbplyr_2.1.1    \n",
       "[17] modelr_0.1.8     readxl_1.3.1     uuid_1.0-3       lifecycle_1.0.1 \n",
       "[21] munsell_0.5.0    gtable_0.3.0     cellranger_1.1.0 rvest_1.0.2     \n",
       "[25] evaluate_0.14    tzdb_0.2.0       fastmap_1.1.0    fansi_0.4.2     \n",
       "[29] broom_0.7.10     IRdisplay_1.0    Rcpp_1.0.7       scales_1.1.1    \n",
       "[33] backports_1.3.0  IRkernel_1.2     jsonlite_1.7.2   farver_2.1.0    \n",
       "[37] fs_1.5.0         hms_1.1.1        digest_0.6.28    stringi_1.7.5   \n",
       "[41] grid_4.1.1       cli_3.1.0        tools_4.1.1      magrittr_2.0.1  \n",
       "[45] crayon_1.4.2     pkgconfig_2.0.3  ellipsis_0.3.2   xml2_1.3.2      \n",
       "[49] reprex_2.0.1     lubridate_1.8.0  rstudioapi_0.13  assertthat_0.2.1\n",
       "[53] httr_1.4.2       R6_2.5.1         compiler_4.1.1  "
      ]
     },
     "metadata": {},
     "output_type": "display_data"
    }
   ],
   "source": [
    "sessionInfo()"
   ]
  },
  {
   "cell_type": "code",
   "execution_count": 39,
   "metadata": {},
   "outputs": [
    {
     "data": {
      "text/html": [
       "'Sun Jan 28 18:10:58 2024'"
      ],
      "text/latex": [
       "'Sun Jan 28 18:10:58 2024'"
      ],
      "text/markdown": [
       "'Sun Jan 28 18:10:58 2024'"
      ],
      "text/plain": [
       "[1] \"Sun Jan 28 18:10:58 2024\""
      ]
     },
     "metadata": {},
     "output_type": "display_data"
    }
   ],
   "source": [
    "date()"
   ]
  }
 ],
 "metadata": {
  "kernelspec": {
   "display_name": "R [conda env:anaconda3-deseq2]",
   "language": "R",
   "name": "conda-env-anaconda3-deseq2-r"
  },
  "language_info": {
   "codemirror_mode": "r",
   "file_extension": ".r",
   "mimetype": "text/x-r-source",
   "name": "R",
   "pygments_lexer": "r",
   "version": "4.1.1"
  }
 },
 "nbformat": 4,
 "nbformat_minor": 4
}
