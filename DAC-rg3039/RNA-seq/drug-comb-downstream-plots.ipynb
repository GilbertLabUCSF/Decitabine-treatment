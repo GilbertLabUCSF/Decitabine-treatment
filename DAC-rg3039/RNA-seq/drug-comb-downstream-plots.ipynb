{
 "cells": [
  {
   "cell_type": "code",
   "execution_count": 1,
   "metadata": {},
   "outputs": [
    {
     "name": "stderr",
     "output_type": "stream",
     "text": [
      "── \u001b[1mAttaching packages\u001b[22m ─────────────────────────────────────── tidyverse 1.3.1 ──\n",
      "\n",
      "\u001b[32m✔\u001b[39m \u001b[34mtibble \u001b[39m 3.1.6     \u001b[32m✔\u001b[39m \u001b[34mdplyr  \u001b[39m 1.0.7\n",
      "\u001b[32m✔\u001b[39m \u001b[34mtidyr  \u001b[39m 1.1.4     \u001b[32m✔\u001b[39m \u001b[34mstringr\u001b[39m 1.4.0\n",
      "\u001b[32m✔\u001b[39m \u001b[34mreadr  \u001b[39m 2.0.2     \u001b[32m✔\u001b[39m \u001b[34mforcats\u001b[39m 0.5.1\n",
      "\u001b[32m✔\u001b[39m \u001b[34mpurrr  \u001b[39m 0.3.4     \n",
      "\n",
      "── \u001b[1mConflicts\u001b[22m ────────────────────────────────────────── tidyverse_conflicts() ──\n",
      "\u001b[31m✖\u001b[39m \u001b[34mdplyr\u001b[39m::\u001b[32mfilter()\u001b[39m masks \u001b[34mstats\u001b[39m::filter()\n",
      "\u001b[31m✖\u001b[39m \u001b[34mdplyr\u001b[39m::\u001b[32mlag()\u001b[39m    masks \u001b[34mstats\u001b[39m::lag()\n",
      "\n"
     ]
    }
   ],
   "source": [
    "library(ggplot2)\n",
    "library(ggthemes)\n",
    "library(ggrepel)\n",
    "library(tidyverse)"
   ]
  },
  {
   "cell_type": "code",
   "execution_count": 2,
   "metadata": {},
   "outputs": [],
   "source": [
    "source(\"../../scripts/util.R\")"
   ]
  },
  {
   "cell_type": "code",
   "execution_count": 3,
   "metadata": {},
   "outputs": [],
   "source": [
    "# table <- read.table(\n",
    "#     'deseq2_counts_log2_tpm.txt',header=T\n",
    "# )\n",
    "\n",
    "# table %>% \n",
    "#     select(gene_name,log2FoldChange,pvalue) -> res \n",
    "# # %>% column_to_rownames('gene_name') "
   ]
  },
  {
   "cell_type": "code",
   "execution_count": 4,
   "metadata": {},
   "outputs": [],
   "source": [
    "ncu = read.table(\n",
    "    'deseq2_norm.txt', sep=\"\\t\"#, col.names=TRUE\n",
    ")"
   ]
  },
  {
   "cell_type": "code",
   "execution_count": 5,
   "metadata": {},
   "outputs": [
    {
     "data": {
      "text/html": [
       "<table class=\"dataframe\">\n",
       "<caption>A data.frame: 8 × 2</caption>\n",
       "<thead>\n",
       "\t<tr><th></th><th scope=col>cond</th><th scope=col>reps</th></tr>\n",
       "\t<tr><th></th><th scope=col>&lt;fct&gt;</th><th scope=col>&lt;fct&gt;</th></tr>\n",
       "</thead>\n",
       "<tbody>\n",
       "\t<tr><th scope=row>hl60_combination_1</th><td>Combination</td><td>rep1</td></tr>\n",
       "\t<tr><th scope=row>hl60_combination_2</th><td>Combination</td><td>rep2</td></tr>\n",
       "\t<tr><th scope=row>hl60_decitabine_1</th><td>Decitabine </td><td>rep1</td></tr>\n",
       "\t<tr><th scope=row>hl60_decitabine_2</th><td>Decitabine </td><td>rep2</td></tr>\n",
       "\t<tr><th scope=row>hl60_dmso_1</th><td>DMSO       </td><td>rep1</td></tr>\n",
       "\t<tr><th scope=row>hl60_dmso_2</th><td>DMSO       </td><td>rep2</td></tr>\n",
       "\t<tr><th scope=row>hl60_rg3039_1</th><td>rg3039     </td><td>rep1</td></tr>\n",
       "\t<tr><th scope=row>hl60_rg3039_2</th><td>rg3039     </td><td>rep2</td></tr>\n",
       "</tbody>\n",
       "</table>\n"
      ],
      "text/latex": [
       "A data.frame: 8 × 2\n",
       "\\begin{tabular}{r|ll}\n",
       "  & cond & reps\\\\\n",
       "  & <fct> & <fct>\\\\\n",
       "\\hline\n",
       "\thl60\\_combination\\_1 & Combination & rep1\\\\\n",
       "\thl60\\_combination\\_2 & Combination & rep2\\\\\n",
       "\thl60\\_decitabine\\_1 & Decitabine  & rep1\\\\\n",
       "\thl60\\_decitabine\\_2 & Decitabine  & rep2\\\\\n",
       "\thl60\\_dmso\\_1 & DMSO        & rep1\\\\\n",
       "\thl60\\_dmso\\_2 & DMSO        & rep2\\\\\n",
       "\thl60\\_rg3039\\_1 & rg3039      & rep1\\\\\n",
       "\thl60\\_rg3039\\_2 & rg3039      & rep2\\\\\n",
       "\\end{tabular}\n"
      ],
      "text/markdown": [
       "\n",
       "A data.frame: 8 × 2\n",
       "\n",
       "| <!--/--> | cond &lt;fct&gt; | reps &lt;fct&gt; |\n",
       "|---|---|---|\n",
       "| hl60_combination_1 | Combination | rep1 |\n",
       "| hl60_combination_2 | Combination | rep2 |\n",
       "| hl60_decitabine_1 | Decitabine  | rep1 |\n",
       "| hl60_decitabine_2 | Decitabine  | rep2 |\n",
       "| hl60_dmso_1 | DMSO        | rep1 |\n",
       "| hl60_dmso_2 | DMSO        | rep2 |\n",
       "| hl60_rg3039_1 | rg3039      | rep1 |\n",
       "| hl60_rg3039_2 | rg3039      | rep2 |\n",
       "\n"
      ],
      "text/plain": [
       "                   cond        reps\n",
       "hl60_combination_1 Combination rep1\n",
       "hl60_combination_2 Combination rep2\n",
       "hl60_decitabine_1  Decitabine  rep1\n",
       "hl60_decitabine_2  Decitabine  rep2\n",
       "hl60_dmso_1        DMSO        rep1\n",
       "hl60_dmso_2        DMSO        rep2\n",
       "hl60_rg3039_1      rg3039      rep1\n",
       "hl60_rg3039_2      rg3039      rep2"
      ]
     },
     "metadata": {},
     "output_type": "display_data"
    }
   ],
   "source": [
    "# meta \n",
    "conds  <- factor(c(\n",
    "    rep('Combination',2),rep('Decitabine',2),rep('DMSO',2),rep('rg3039',2)\n",
    "), levels = c('DMSO','Decitabine','rg3039','Combination'))\n",
    "\n",
    "reps <- factor(c(\n",
    "    rep(c('rep1','rep2'),4)\n",
    "),c('rep1','rep2'))\n",
    "\n",
    "colData <- data.frame(\n",
    "    cond=conds,\n",
    "    reps=reps,\n",
    "    row.names=ncu %>% dplyr::select(-c('gene_id','gene_name')) %>% colnames,\n",
    "    stringsAsFactors=FALSE\n",
    ")\n",
    "colData"
   ]
  },
  {
   "cell_type": "code",
   "execution_count": 6,
   "metadata": {},
   "outputs": [],
   "source": [
    "# labels <- c(\n",
    "#  'ADAM8',\n",
    "#  'ADGRE2',\n",
    "#  'ALOX5',\n",
    "#  'ANXA1',\n",
    "#  'BCAR1',\n",
    "#  'BIN2',\n",
    "#  'C5AR1',\n",
    "#  'C5AR2',\n",
    "#  'CCL1',\n",
    "#  'CCL2',\n",
    "#  'CCL20',\n",
    "#  'CCL22',\n",
    "#  'CCL23',\n",
    "#  'CCL3',\n",
    "#  'CCL3L1',\n",
    "#  'CCL4',\n",
    "#  'CCL5',\n",
    "#  'CCR1',\n",
    "#  'CCR10',\n",
    "#  'CCR3',\n",
    "#  'CCR4',\n",
    "#  'CCRL2',\n",
    "#  'CORO1A',\n",
    "#  'CORO1B',\n",
    "#  'CSF1',\n",
    "#  'CSF1R',\n",
    "#  'CSF3R',\n",
    "#  'CXCL16',\n",
    "#  'CXCL6',\n",
    "#  'CXCL8',\n",
    "#  'CXCR1',\n",
    "#  'CXCR5',\n",
    "#  'DAPK2',\n",
    "#  'DUSP1',\n",
    "#  'EGR3',\n",
    "#  'FCER1G',\n",
    "#  'FFAR2',\n",
    "#  'FGFR1',\n",
    "#  'FLT1',\n",
    "#  'FPR2',\n",
    "#  'GPR183',\n",
    "#  'HBEGF',\n",
    "#  'HRH1',\n",
    "#  'HSD3B7',\n",
    "#  'IL23A',\n",
    "#  'ITGA1',\n",
    "#  'ITGB2',\n",
    "#  'JAML',\n",
    "#  'LGALS3',\n",
    "#  'LPAR1',\n",
    "#  'MST1',\n",
    "#  'NOD2',\n",
    "#  'NOTCH1',\n",
    "#  'NR4A1',\n",
    "#  'NRP1',\n",
    "#  'P2RX4',\n",
    "#  'PDE4B',\n",
    "#  'PTPRO',\n",
    "#  'RAB13',\n",
    "#  'RIN3',\n",
    "#  'RIPOR2',\n",
    "#  'S100A12',\n",
    "#  'S100A8',\n",
    "#  'S100A9',\n",
    "#  'SFTPD',\n",
    "#  'SLAMF8',\n",
    "#  'SLIT2',\n",
    "#  'THBS1',\n",
    "#  'TIRAP',\n",
    "#  'TNFRSF11A',\n",
    "#  'ZNF580'\n",
    "#     # 'ADAM8','CCL3', 'CCR2', 'CD14', 'CD86', 'HLA-E', 'IL12B',\n",
    "#     # 'IL23A', 'LILRA2', 'LILRA5', 'MAPKAPK2', 'NOD2', 'ORM1',\n",
    "#     # 'ORM2', 'PTAFR', 'PTPRC', 'PTPRJ', 'THBS1', 'TLR4', 'TLR9', 'TYROBP'\n",
    "#     )"
   ]
  },
  {
   "cell_type": "code",
   "execution_count": null,
   "metadata": {},
   "outputs": [],
   "source": []
  },
  {
   "cell_type": "code",
   "execution_count": 7,
   "metadata": {},
   "outputs": [],
   "source": [
    "library(RColorBrewer)\n",
    "library(pheatmap)\n",
    "\n",
    "heat_colors <- brewer.pal(n = 6, name = \"RdYlBu\") %>% rev\n",
    "paired <- brewer.pal(n = 10, name = \"Paired\")"
   ]
  },
  {
   "cell_type": "code",
   "execution_count": 8,
   "metadata": {},
   "outputs": [],
   "source": [
    "ann_colors = list(\n",
    "    cond = c('DMSO'= paired[1], 'Decitabine'=paired[3], 'rg3039'=paired[9],'Combination'=paired[10])\n",
    ")"
   ]
  },
  {
   "cell_type": "code",
   "execution_count": 9,
   "metadata": {
    "tags": []
   },
   "outputs": [],
   "source": [
    "labels = list()"
   ]
  },
  {
   "cell_type": "code",
   "execution_count": 11,
   "metadata": {
    "tags": []
   },
   "outputs": [],
   "source": [
    "labels[['Neutrophil_up_regulated']] = c(\n",
    " 'ZP3',\n",
    " 'ISG15',\n",
    " 'AL137186.2',\n",
    " 'TMEM120A',\n",
    " 'PIAS3',\n",
    " 'TAP1',\n",
    " 'PRELP',\n",
    " 'LTB',\n",
    " 'ZC2HC1A',\n",
    " 'DGKK',\n",
    " 'VENTX',\n",
    " 'LINC02452',\n",
    " 'PPP2R5B',\n",
    " 'GPR35',\n",
    " 'AC138932.3',\n",
    " 'UPB1',\n",
    " 'AC092944.1',\n",
    " 'AC064805.2',\n",
    " 'G6PD',\n",
    " 'TNFSF9',\n",
    " 'ABTB2',\n",
    " 'EPHB3',\n",
    " 'HCFC2',\n",
    " 'H1-10',\n",
    " 'SPSB2',\n",
    " 'PROCA1',\n",
    " 'FGD3',\n",
    " 'IFITM2',\n",
    " 'LTA',\n",
    " 'MYO5A',\n",
    " 'DYNLT3',\n",
    " 'MYADM',\n",
    " 'APCDD1',\n",
    " 'CLEC4D',\n",
    " 'SGMS1-AS1',\n",
    " 'C15orf62',\n",
    " 'BIRC7',\n",
    " 'AC130371.2',\n",
    " 'AL137018.1',\n",
    " 'ZNF211',\n",
    " 'AC073957.3',\n",
    " 'PTPN22',\n",
    " 'CSF2RA',\n",
    " 'AC002519.1',\n",
    " 'NUAK2',\n",
    " 'AC068473.3',\n",
    " 'DIO2',\n",
    " 'ZNF876P',\n",
    " 'PARP10',\n",
    " 'AP000355.1',\n",
    " 'FAM106A',\n",
    " 'FAM227A',\n",
    " 'RIC8A',\n",
    " 'AL031733.2',\n",
    " 'CAPN3',\n",
    " 'CCR3',\n",
    " 'PCDHGA5',\n",
    " 'N4BP3',\n",
    " 'AC023157.2',\n",
    " 'GLCCI1'\n",
    ")"
   ]
  },
  {
   "cell_type": "code",
   "execution_count": null,
   "metadata": {},
   "outputs": [],
   "source": []
  },
  {
   "cell_type": "code",
   "execution_count": null,
   "metadata": {},
   "outputs": [],
   "source": []
  },
  {
   "cell_type": "code",
   "execution_count": null,
   "metadata": {},
   "outputs": [],
   "source": []
  },
  {
   "cell_type": "code",
   "execution_count": null,
   "metadata": {},
   "outputs": [],
   "source": []
  },
  {
   "cell_type": "code",
   "execution_count": 12,
   "metadata": {
    "tags": []
   },
   "outputs": [],
   "source": [
    "geneset_name = 'Neutrophil_up_regulated'"
   ]
  },
  {
   "cell_type": "code",
   "execution_count": 114,
   "metadata": {
    "tags": []
   },
   "outputs": [],
   "source": [
    "mat <- ncu[\n",
    "    # subset to selected genes \n",
    "    ncu$gene_name %in% labels[[geneset_name]], \n",
    "    # subset normalized counts\n",
    "    c('gene_name',colData %>% arrange(cond) %>% rownames)\n",
    "] %>%  remove_rownames %>% column_to_rownames('gene_name')\n",
    "\n",
    "mat = mat %>% \n",
    "    mutate(\n",
    "        hl60_combinatio_diff = abs(log10(hl60_combination_1 / hl60_combination_2)),\n",
    "        hl60_dmso_diff = abs(log10(hl60_dmso_1 / hl60_dmso_2)),\n",
    "        hl60_decitabine_diff = abs(log10(hl60_decitabine_1 / hl60_decitabine_2)),\n",
    "        hl60_rg3039_diff = abs(log10(hl60_rg3039_1 / hl60_rg3039_2))\n",
    "    ) %>% \n",
    "\n",
    "    arrange(hl60_combinatio_diff) %>% \n",
    "    filter(\n",
    "        hl60_combinatio_diff < 0.2 #& hl60_decitabine_diff < 0.3 & hl60_rg3039_diff < 0.3\n",
    "    ) %>%\n",
    "    select(-c(hl60_combinatio_diff,hl60_dmso_diff,hl60_decitabine_diff,hl60_rg3039_diff))"
   ]
  },
  {
   "cell_type": "code",
   "execution_count": 115,
   "metadata": {
    "tags": []
   },
   "outputs": [
    {
     "data": {
      "text/html": [
       "<style>\n",
       ".list-inline {list-style: none; margin:0; padding: 0}\n",
       ".list-inline>li {display: inline-block}\n",
       ".list-inline>li:not(:last-child)::after {content: \"\\00b7\"; padding: 0 .5ex}\n",
       "</style>\n",
       "<ol class=list-inline><li>'GLCCI1'</li><li>'AP000355.1'</li><li>'PIAS3'</li><li>'ISG15'</li><li>'CAPN3'</li><li>'H1-10'</li><li>'LTB'</li><li>'AC068473.3'</li><li>'MYO5A'</li><li>'AC073957.3'</li><li>'AC023157.2'</li><li>'PTPN22'</li><li>'MYADM'</li><li>'FAM227A'</li><li>'DGKK'</li><li>'ZP3'</li><li>'G6PD'</li><li>'FGD3'</li><li>'AC138932.3'</li><li>'PROCA1'</li><li>'ZC2HC1A'</li><li>'CLEC4D'</li><li>'EPHB3'</li><li>'PARP10'</li><li>'AL137186.2'</li><li>'TAP1'</li><li>'SPSB2'</li><li>'AL031733.2'</li><li>'UPB1'</li><li>'N4BP3'</li><li>'IFITM2'</li><li>'TMEM120A'</li><li>'TNFSF9'</li><li>'DYNLT3'</li><li>'ZNF876P'</li><li>'C15orf62'</li><li>'APCDD1'</li><li>'NUAK2'</li><li>'CCR3'</li><li>'GPR35'</li><li>'ABTB2'</li><li>'PRELP'</li><li>'SGMS1-AS1'</li><li>'BIRC7'</li><li>'VENTX'</li><li>'LTA'</li></ol>\n"
      ],
      "text/latex": [
       "\\begin{enumerate*}\n",
       "\\item 'GLCCI1'\n",
       "\\item 'AP000355.1'\n",
       "\\item 'PIAS3'\n",
       "\\item 'ISG15'\n",
       "\\item 'CAPN3'\n",
       "\\item 'H1-10'\n",
       "\\item 'LTB'\n",
       "\\item 'AC068473.3'\n",
       "\\item 'MYO5A'\n",
       "\\item 'AC073957.3'\n",
       "\\item 'AC023157.2'\n",
       "\\item 'PTPN22'\n",
       "\\item 'MYADM'\n",
       "\\item 'FAM227A'\n",
       "\\item 'DGKK'\n",
       "\\item 'ZP3'\n",
       "\\item 'G6PD'\n",
       "\\item 'FGD3'\n",
       "\\item 'AC138932.3'\n",
       "\\item 'PROCA1'\n",
       "\\item 'ZC2HC1A'\n",
       "\\item 'CLEC4D'\n",
       "\\item 'EPHB3'\n",
       "\\item 'PARP10'\n",
       "\\item 'AL137186.2'\n",
       "\\item 'TAP1'\n",
       "\\item 'SPSB2'\n",
       "\\item 'AL031733.2'\n",
       "\\item 'UPB1'\n",
       "\\item 'N4BP3'\n",
       "\\item 'IFITM2'\n",
       "\\item 'TMEM120A'\n",
       "\\item 'TNFSF9'\n",
       "\\item 'DYNLT3'\n",
       "\\item 'ZNF876P'\n",
       "\\item 'C15orf62'\n",
       "\\item 'APCDD1'\n",
       "\\item 'NUAK2'\n",
       "\\item 'CCR3'\n",
       "\\item 'GPR35'\n",
       "\\item 'ABTB2'\n",
       "\\item 'PRELP'\n",
       "\\item 'SGMS1-AS1'\n",
       "\\item 'BIRC7'\n",
       "\\item 'VENTX'\n",
       "\\item 'LTA'\n",
       "\\end{enumerate*}\n"
      ],
      "text/markdown": [
       "1. 'GLCCI1'\n",
       "2. 'AP000355.1'\n",
       "3. 'PIAS3'\n",
       "4. 'ISG15'\n",
       "5. 'CAPN3'\n",
       "6. 'H1-10'\n",
       "7. 'LTB'\n",
       "8. 'AC068473.3'\n",
       "9. 'MYO5A'\n",
       "10. 'AC073957.3'\n",
       "11. 'AC023157.2'\n",
       "12. 'PTPN22'\n",
       "13. 'MYADM'\n",
       "14. 'FAM227A'\n",
       "15. 'DGKK'\n",
       "16. 'ZP3'\n",
       "17. 'G6PD'\n",
       "18. 'FGD3'\n",
       "19. 'AC138932.3'\n",
       "20. 'PROCA1'\n",
       "21. 'ZC2HC1A'\n",
       "22. 'CLEC4D'\n",
       "23. 'EPHB3'\n",
       "24. 'PARP10'\n",
       "25. 'AL137186.2'\n",
       "26. 'TAP1'\n",
       "27. 'SPSB2'\n",
       "28. 'AL031733.2'\n",
       "29. 'UPB1'\n",
       "30. 'N4BP3'\n",
       "31. 'IFITM2'\n",
       "32. 'TMEM120A'\n",
       "33. 'TNFSF9'\n",
       "34. 'DYNLT3'\n",
       "35. 'ZNF876P'\n",
       "36. 'C15orf62'\n",
       "37. 'APCDD1'\n",
       "38. 'NUAK2'\n",
       "39. 'CCR3'\n",
       "40. 'GPR35'\n",
       "41. 'ABTB2'\n",
       "42. 'PRELP'\n",
       "43. 'SGMS1-AS1'\n",
       "44. 'BIRC7'\n",
       "45. 'VENTX'\n",
       "46. 'LTA'\n",
       "\n",
       "\n"
      ],
      "text/plain": [
       " [1] \"GLCCI1\"     \"AP000355.1\" \"PIAS3\"      \"ISG15\"      \"CAPN3\"     \n",
       " [6] \"H1-10\"      \"LTB\"        \"AC068473.3\" \"MYO5A\"      \"AC073957.3\"\n",
       "[11] \"AC023157.2\" \"PTPN22\"     \"MYADM\"      \"FAM227A\"    \"DGKK\"      \n",
       "[16] \"ZP3\"        \"G6PD\"       \"FGD3\"       \"AC138932.3\" \"PROCA1\"    \n",
       "[21] \"ZC2HC1A\"    \"CLEC4D\"     \"EPHB3\"      \"PARP10\"     \"AL137186.2\"\n",
       "[26] \"TAP1\"       \"SPSB2\"      \"AL031733.2\" \"UPB1\"       \"N4BP3\"     \n",
       "[31] \"IFITM2\"     \"TMEM120A\"   \"TNFSF9\"     \"DYNLT3\"     \"ZNF876P\"   \n",
       "[36] \"C15orf62\"   \"APCDD1\"     \"NUAK2\"      \"CCR3\"       \"GPR35\"     \n",
       "[41] \"ABTB2\"      \"PRELP\"      \"SGMS1-AS1\"  \"BIRC7\"      \"VENTX\"     \n",
       "[46] \"LTA\"       "
      ]
     },
     "metadata": {},
     "output_type": "display_data"
    }
   ],
   "source": [
    "mat %>% rownames"
   ]
  },
  {
   "cell_type": "code",
   "execution_count": 118,
   "metadata": {},
   "outputs": [
    {
     "data": {
      "text/html": [
       "<strong>png:</strong> 2"
      ],
      "text/latex": [
       "\\textbf{png:} 2"
      ],
      "text/markdown": [
       "**png:** 2"
      ],
      "text/plain": [
       "png \n",
       "  2 "
      ]
     },
     "metadata": {},
     "output_type": "display_data"
    },
    {
     "data": {
      "image/png": "[encoded data removed]",
      "text/plain": [
       "plot without title"
      ]
     },
     "metadata": {
      "image/png": {
       "height": 420,
       "width": 420
      }
     },
     "output_type": "display_data"
    }
   ],
   "source": [
    "mat %>%\n",
    "    # generate heatmap\n",
    "    pheatmap(\n",
    "        color = heat_colors, \n",
    "        show_colnames = F,\n",
    "        show_rownames = T,\n",
    "        cutree_rows = 3,\n",
    "        main = geneset_name,\n",
    "        annotation = colData %>% arrange(cond) %>% select(cond),\n",
    "        cluster_cols = F, \n",
    "        cellheight=10,\n",
    "        border_color = NA,\n",
    "        scale = 'row',\n",
    "        angle_col= 45,\n",
    "        annotation_colors = ann_colors\n",
    ") -> hm\n",
    "\n",
    "# https://stackoverflow.com/questions/43051525/how-to-draw-pheatmap-plot-to-screen-and-also-save-to-file\n",
    "pdf(paste0('plots/heatmap_clustering_',geneset_name,'.pdf'), width=4.5, height=6)\n",
    "grid::grid.newpage()\n",
    "grid::grid.draw(hm$gtable)\n",
    "dev.off()"
   ]
  },
  {
   "cell_type": "markdown",
   "metadata": {},
   "source": [
    "# "
   ]
  },
  {
   "cell_type": "code",
   "execution_count": 21,
   "metadata": {
    "tags": []
   },
   "outputs": [],
   "source": [
    "library(ggplot2)\n",
    "\n",
    "library(tidyverse)"
   ]
  },
  {
   "cell_type": "code",
   "execution_count": 22,
   "metadata": {
    "tags": []
   },
   "outputs": [],
   "source": [
    "library(patchwork)"
   ]
  },
  {
   "cell_type": "code",
   "execution_count": 23,
   "metadata": {
    "tags": []
   },
   "outputs": [],
   "source": [
    "res_Macrophage_vs_HL_60 = read.table(\n",
    "    '../../DIFFERENTIATION/exp/res_Macrophage_vs_HL_60_delta_exp_table.txt',header = T)\n",
    "res_Monocyte_vs_HL_60 = read.table(\n",
    "    '../../DIFFERENTIATION/exp/res_Monocyte_vs_HL_60_delta_exp_table.txt',header = T)\n",
    "res_Neutrophil_vs_HL_60 = read.table(\n",
    "    '../../DIFFERENTIATION/exp/res_Neutrophil_vs_HL_60_delta_exp_table.txt',header = T)"
   ]
  },
  {
   "cell_type": "code",
   "execution_count": 24,
   "metadata": {
    "tags": []
   },
   "outputs": [],
   "source": [
    "res_comb_vs_dmso = read.table('exp/res_comb_vs_dmso_delta_exp_table.txt',header = T)\n",
    "res_comb_vs_decitabine = read.table('exp/res_comb_vs_decitabine_delta_exp_table.txt',header = T)\n",
    "res_decitabine_vs_dmso = read.table('exp/res_decitabine_vs_dmso_delta_exp_table.txt',header = T)\n",
    "res_rg3039_vs_dmso = read.table('exp/res_rg3039_vs_dmso_delta_exp_table.txt',header = T)"
   ]
  },
  {
   "cell_type": "code",
   "execution_count": null,
   "metadata": {},
   "outputs": [],
   "source": []
  },
  {
   "cell_type": "code",
   "execution_count": 25,
   "metadata": {
    "tags": []
   },
   "outputs": [],
   "source": [
    "df = data.frame(\n",
    "    gene_name=res_comb_vs_dmso$gene_name,\n",
    "    comb_vs_dmso=res_comb_vs_dmso$log2FoldChange,\n",
    "    comb_vs_decitabine=res_comb_vs_decitabine$log2FoldChange,\n",
    "    decitabine_vs_dmso=res_decitabine_vs_dmso$log2FoldChange,\n",
    "    rg3039_vs_dmso=res_rg3039_vs_dmso$log2FoldChange,\n",
    "    Macrophage_vs_HL_60=res_Macrophage_vs_HL_60$log2FoldChange,\n",
    "    Monocyte_vs_HL_60=res_Monocyte_vs_HL_60$log2FoldChange,\n",
    "    Neutrophil_vs_HL_60=res_Neutrophil_vs_HL_60$log2FoldChange\n",
    ") %>% drop_na ()"
   ]
  },
  {
   "cell_type": "markdown",
   "metadata": {},
   "source": [
    "### "
   ]
  },
  {
   "cell_type": "code",
   "execution_count": 26,
   "metadata": {
    "tags": []
   },
   "outputs": [],
   "source": [
    "p1 = df %>%\n",
    "    ggplot(aes(y=comb_vs_dmso, x=Macrophage_vs_HL_60)) +\n",
    "    geom_point(size=1,alpha=.1,color='gray10') +\n",
    "    geom_smooth(method=lm) +\n",
    "    ggtitle('Macrophage') + \n",
    "    xlim(-15,15) +\n",
    "    ylim(-15,15) +\n",
    "    theme_classic() +\n",
    "    theme(plot.title = element_text(size = 16, hjust=.5, face = \"bold\"))"
   ]
  },
  {
   "cell_type": "code",
   "execution_count": 27,
   "metadata": {
    "tags": []
   },
   "outputs": [],
   "source": [
    "p2 = df %>%\n",
    "    ggplot(aes(y=comb_vs_dmso, x=Monocyte_vs_HL_60)) +\n",
    "    geom_point(size=1,alpha=.1,color='gray10') +\n",
    "    geom_smooth(method=lm) +\n",
    "    ggtitle('Monocyte') + \n",
    "    xlim(-15,15) +\n",
    "    ylim(-15,15) +\n",
    "    theme_classic() +\n",
    "    theme(plot.title = element_text(size = 16, hjust=.5, face = \"bold\"))"
   ]
  },
  {
   "cell_type": "code",
   "execution_count": 28,
   "metadata": {
    "tags": []
   },
   "outputs": [],
   "source": [
    "p3 = df %>%\n",
    "    ggplot(aes(y=comb_vs_dmso, x=Neutrophil_vs_HL_60)) +\n",
    "    geom_point(size=1,alpha=.1,color='gray10') +\n",
    "    geom_smooth(method=lm) +\n",
    "    xlim(-15,15) +\n",
    "    ylim(-15,15) +\n",
    "    ggtitle('Neutrophil') + \n",
    "    theme_classic() +\n",
    "    theme(plot.title = element_text(size = 16, hjust=.5, face = \"bold\"))"
   ]
  },
  {
   "cell_type": "code",
   "execution_count": null,
   "metadata": {},
   "outputs": [],
   "source": []
  },
  {
   "cell_type": "code",
   "execution_count": 29,
   "metadata": {
    "tags": []
   },
   "outputs": [],
   "source": [
    "p4 = df %>%\n",
    "    ggplot(aes(y=decitabine_vs_dmso, x=Macrophage_vs_HL_60)) +\n",
    "    geom_point(size=1,alpha=.1,color='gray10') +\n",
    "    geom_smooth(method=lm) +\n",
    "    ggtitle('Macrophage') + \n",
    "    xlim(-15,15) +\n",
    "    ylim(-15,15) +\n",
    "    theme_classic() +\n",
    "    theme(plot.title = element_text(size = 16, hjust=.5, face = \"bold\"))"
   ]
  },
  {
   "cell_type": "code",
   "execution_count": 30,
   "metadata": {
    "tags": []
   },
   "outputs": [],
   "source": [
    "p5 = df %>%\n",
    "    ggplot(aes(y=decitabine_vs_dmso, x=Monocyte_vs_HL_60)) +\n",
    "    geom_point(size=1,alpha=.1,color='gray10') +\n",
    "    geom_smooth(method=lm) +\n",
    "    ggtitle('Monocyte') + \n",
    "    xlim(-15,15) +\n",
    "    ylim(-15,15) +\n",
    "    theme_classic() +\n",
    "    theme(plot.title = element_text(size = 16, hjust=.5, face = \"bold\"))"
   ]
  },
  {
   "cell_type": "code",
   "execution_count": 31,
   "metadata": {
    "tags": []
   },
   "outputs": [],
   "source": [
    "p6 = df %>%\n",
    "    ggplot(aes(y=decitabine_vs_dmso, x=Neutrophil_vs_HL_60)) +\n",
    "    geom_point(size=1,alpha=.1,color='gray10') +\n",
    "    geom_smooth(method=lm) +\n",
    "    ggtitle('Neutrophil') + \n",
    "    xlim(-15,15) +\n",
    "    ylim(-15,15) +\n",
    "    theme_classic() +\n",
    "    theme(plot.title = element_text(size = 16, hjust=.5, face = \"bold\"))"
   ]
  },
  {
   "cell_type": "code",
   "execution_count": null,
   "metadata": {},
   "outputs": [],
   "source": []
  },
  {
   "cell_type": "code",
   "execution_count": 32,
   "metadata": {
    "tags": []
   },
   "outputs": [],
   "source": [
    "p7 = df %>%\n",
    "    ggplot(aes(y=rg3039_vs_dmso, x=Macrophage_vs_HL_60)) +\n",
    "    geom_point(size=1,alpha=.1,color='gray10') +\n",
    "    geom_smooth(method=lm) +\n",
    "    ggtitle('Macrophage') + \n",
    "    xlim(-15,15) +\n",
    "    ylim(-15,15) +\n",
    "    theme_classic() +\n",
    "    theme(plot.title = element_text(size = 16, hjust=.5, face = \"bold\"))"
   ]
  },
  {
   "cell_type": "code",
   "execution_count": 33,
   "metadata": {
    "tags": []
   },
   "outputs": [],
   "source": [
    "p8 = df %>%\n",
    "    ggplot(aes(y=rg3039_vs_dmso, x=Monocyte_vs_HL_60)) +\n",
    "    geom_point(size=1,alpha=.1,color='gray10') +\n",
    "    geom_smooth(method=lm) +\n",
    "    ggtitle('Monocyte') + \n",
    "    xlim(-15,15) +\n",
    "    ylim(-15,15) +\n",
    "    theme_classic() +\n",
    "    theme(plot.title = element_text(size = 16, hjust=.5, face = \"bold\"))"
   ]
  },
  {
   "cell_type": "code",
   "execution_count": 34,
   "metadata": {
    "tags": []
   },
   "outputs": [],
   "source": [
    "p9 = df %>%\n",
    "    ggplot(aes(y=rg3039_vs_dmso, x=Neutrophil_vs_HL_60)) +\n",
    "    geom_point(size=1,alpha=.1,color='gray10') +\n",
    "    geom_smooth(method=lm) +\n",
    "    ggtitle('Neutrophil') + \n",
    "    xlim(-15,15) +\n",
    "    ylim(-15,15) +\n",
    "    theme_classic() +\n",
    "    theme(plot.title = element_text(size = 16, hjust=.5, face = \"bold\"))"
   ]
  },
  {
   "cell_type": "code",
   "execution_count": 38,
   "metadata": {
    "tags": []
   },
   "outputs": [
    {
     "name": "stderr",
     "output_type": "stream",
     "text": [
      "`geom_smooth()` using formula 'y ~ x'\n",
      "\n",
      "Warning message:\n",
      "“Removed 6 rows containing non-finite values (stat_smooth).”\n",
      "Warning message:\n",
      "“Removed 6 rows containing missing values (geom_point).”\n",
      "`geom_smooth()` using formula 'y ~ x'\n",
      "\n",
      "Warning message:\n",
      "“Removed 5 rows containing non-finite values (stat_smooth).”\n",
      "Warning message:\n",
      "“Removed 5 rows containing missing values (geom_point).”\n",
      "`geom_smooth()` using formula 'y ~ x'\n",
      "\n",
      "Warning message:\n",
      "“Removed 8 rows containing non-finite values (stat_smooth).”\n",
      "Warning message:\n",
      "“Removed 8 rows containing missing values (geom_point).”\n",
      "`geom_smooth()` using formula 'y ~ x'\n",
      "\n",
      "Warning message:\n",
      "“Removed 4 rows containing non-finite values (stat_smooth).”\n",
      "Warning message:\n",
      "“Removed 4 rows containing missing values (geom_point).”\n",
      "`geom_smooth()` using formula 'y ~ x'\n",
      "\n",
      "Warning message:\n",
      "“Removed 3 rows containing non-finite values (stat_smooth).”\n",
      "Warning message:\n",
      "“Removed 3 rows containing missing values (geom_point).”\n",
      "`geom_smooth()` using formula 'y ~ x'\n",
      "\n",
      "Warning message:\n",
      "“Removed 6 rows containing non-finite values (stat_smooth).”\n",
      "Warning message:\n",
      "“Removed 6 rows containing missing values (geom_point).”\n",
      "`geom_smooth()` using formula 'y ~ x'\n",
      "\n",
      "Warning message:\n",
      "“Removed 5 rows containing non-finite values (stat_smooth).”\n",
      "Warning message:\n",
      "“Removed 5 rows containing missing values (geom_point).”\n",
      "`geom_smooth()` using formula 'y ~ x'\n",
      "\n",
      "Warning message:\n",
      "“Removed 4 rows containing non-finite values (stat_smooth).”\n",
      "Warning message:\n",
      "“Removed 4 rows containing missing values (geom_point).”\n",
      "`geom_smooth()` using formula 'y ~ x'\n",
      "\n",
      "Warning message:\n",
      "“Removed 7 rows containing non-finite values (stat_smooth).”\n",
      "Warning message:\n",
      "“Removed 7 rows containing missing values (geom_point).”\n"
     ]
    }
   ],
   "source": [
    "ggsave(\"plots/differentiation_comb.pdf\",\n",
    "       p1 + p2 + p3,\n",
    "       width = 12, height = 6, device = cairo_pdf)\n",
    "\n",
    "ggsave(\"plots/differentiation_decitabine.pdf\",\n",
    "       p4 + p5 + p6,\n",
    "       width = 12, height = 6, device = cairo_pdf)\n",
    "\n",
    "ggsave(\"plots/differentiation_rg3039.pdf\",\n",
    "       p7 + p8 + p9,\n",
    "       width = 12, height = 6, device = cairo_pdf)"
   ]
  },
  {
   "cell_type": "markdown",
   "metadata": {
    "tags": []
   },
   "source": [
    "### Correlation matrix"
   ]
  },
  {
   "cell_type": "code",
   "execution_count": 39,
   "metadata": {},
   "outputs": [],
   "source": [
    "library(Hmisc)\n",
    "library(corrplot)\n",
    "library(pheatmap)\n",
    "library(ggcorrplot)"
   ]
  },
  {
   "cell_type": "code",
   "execution_count": 43,
   "metadata": {},
   "outputs": [],
   "source": [
    "corr <- rcorr(\n",
    "    as.matrix(\n",
    "        df %>% select(-c(gene_name))\n",
    "    )\n",
    ")\n",
    "\n",
    "corr_df = corr$r[\n",
    "    c('comb_vs_dmso','rg3039_vs_dmso','decitabine_vs_dmso'),\n",
    "    c('Neutrophil_vs_HL_60','Macrophage_vs_HL_60','Monocyte_vs_HL_60')\n",
    "]"
   ]
  },
  {
   "cell_type": "code",
   "execution_count": 45,
   "metadata": {},
   "outputs": [
    {
     "name": "stderr",
     "output_type": "stream",
     "text": [
      "Scale for 'fill' is already present. Adding another scale for 'fill', which\n",
      "will replace the existing scale.\n",
      "\n"
     ]
    },
    {
     "data": {
      "image/png": "[encoded data removed]",
      "text/plain": [
       "plot without title"
      ]
     },
     "metadata": {
      "image/png": {
       "height": 420,
       "width": 420
      }
     },
     "output_type": "display_data"
    }
   ],
   "source": [
    "colors=c(\"#386cb0\",\"white\",\"#fdb462\")\n",
    "ggcorrplot(\n",
    "    corr_df,\n",
    "    method = c(\"square\", \"circle\"),\n",
    "    hc.order = FALSE,\n",
    "    # type = \"upper\", \n",
    "    p.mat = corr$p,\n",
    "    \n",
    ") + ggtitle(\n",
    "    \"Differential RNA Expression\\nCorrelation matrix\"\n",
    ") + ggplot2::scale_fill_gradient2(\n",
    "    low = colors[1], high = colors[3], mid = colors[2], \n",
    "    midpoint = .0, limit = c(0, 0.2), space = \"Lab\"\n",
    ") + theme(\n",
    "    plot.title = element_text(\n",
    "        # face = \"bold\",\n",
    "        size = rel(1.5), hjust = 0.5),\n",
    "    panel.background = element_blank(), \n",
    "    panel.border = element_blank(), \n",
    "    panel.grid.major = element_line(colour = \"white\"), \n",
    "    legend.title = element_blank(),\n",
    "    # legend.position=\"bottom\"\n",
    ")\n",
    "\n",
    "ggsave('plots/differentiation_logFC_corr.pdf',width = 4, height = 4)"
   ]
  },
  {
   "cell_type": "markdown",
   "metadata": {},
   "source": [
    "# "
   ]
  },
  {
   "cell_type": "code",
   "execution_count": 57,
   "metadata": {},
   "outputs": [
    {
     "data": {
      "text/plain": [
       "R version 4.1.1 (2021-08-10)\n",
       "Platform: x86_64-conda-linux-gnu (64-bit)\n",
       "Running under: CentOS Linux 7 (Core)\n",
       "\n",
       "Matrix products: default\n",
       "BLAS/LAPACK: /data_gilbert/home/aarab/anaconda3/envs/deseq2/lib/libopenblasp-r0.3.18.so\n",
       "\n",
       "locale:\n",
       " [1] LC_CTYPE=en_US.UTF-8       LC_NUMERIC=C              \n",
       " [3] LC_TIME=en_US.UTF-8        LC_COLLATE=en_US.UTF-8    \n",
       " [5] LC_MONETARY=en_US.UTF-8    LC_MESSAGES=en_US.UTF-8   \n",
       " [7] LC_PAPER=en_US.UTF-8       LC_NAME=C                 \n",
       " [9] LC_ADDRESS=C               LC_TELEPHONE=C            \n",
       "[11] LC_MEASUREMENT=en_US.UTF-8 LC_IDENTIFICATION=C       \n",
       "\n",
       "attached base packages:\n",
       "[1] stats     graphics  grDevices utils     datasets  methods   base     \n",
       "\n",
       "other attached packages:\n",
       " [1] pheatmap_1.0.12    RColorBrewer_1.1-2 forcats_0.5.1      stringr_1.4.0     \n",
       " [5] dplyr_1.0.7        purrr_0.3.4        readr_2.0.2        tidyr_1.1.4       \n",
       " [9] tibble_3.1.6       tidyverse_1.3.1    ggrepel_0.9.1      ggthemes_4.2.4    \n",
       "[13] ggplot2_3.3.5     \n",
       "\n",
       "loaded via a namespace (and not attached):\n",
       " [1] pbdZMQ_0.3-6     tidyselect_1.1.1 repr_1.1.3       haven_2.4.3     \n",
       " [5] colorspace_2.0-2 vctrs_0.3.8      generics_0.1.1   htmltools_0.5.2 \n",
       " [9] base64enc_0.1-3  utf8_1.2.2       rlang_0.4.12     pillar_1.6.4    \n",
       "[13] glue_1.5.0       withr_2.4.2      DBI_1.1.1        dbplyr_2.1.1    \n",
       "[17] modelr_0.1.8     readxl_1.3.1     uuid_1.0-3       lifecycle_1.0.1 \n",
       "[21] munsell_0.5.0    gtable_0.3.0     cellranger_1.1.0 rvest_1.0.2     \n",
       "[25] evaluate_0.14    tzdb_0.2.0       fastmap_1.1.0    fansi_0.4.2     \n",
       "[29] broom_0.7.10     IRdisplay_1.0    Rcpp_1.0.7       scales_1.1.1    \n",
       "[33] backports_1.3.0  IRkernel_1.2     jsonlite_1.7.2   farver_2.1.0    \n",
       "[37] fs_1.5.0         hms_1.1.1        digest_0.6.28    stringi_1.7.5   \n",
       "[41] grid_4.1.1       cli_3.1.0        tools_4.1.1      magrittr_2.0.1  \n",
       "[45] crayon_1.4.2     pkgconfig_2.0.3  ellipsis_0.3.2   xml2_1.3.2      \n",
       "[49] reprex_2.0.1     lubridate_1.8.0  rstudioapi_0.13  assertthat_0.2.1\n",
       "[53] httr_1.4.2       R6_2.5.1         compiler_4.1.1  "
      ]
     },
     "metadata": {},
     "output_type": "display_data"
    }
   ],
   "source": [
    "sessionInfo()"
   ]
  },
  {
   "cell_type": "code",
   "execution_count": 58,
   "metadata": {},
   "outputs": [
    {
     "data": {
      "text/html": [
       "<span style=white-space:pre-wrap>'Sat Mar  9 23:27:11 2024'</span>"
      ],
      "text/latex": [
       "'Sat Mar  9 23:27:11 2024'"
      ],
      "text/markdown": [
       "<span style=white-space:pre-wrap>'Sat Mar  9 23:27:11 2024'</span>"
      ],
      "text/plain": [
       "[1] \"Sat Mar  9 23:27:11 2024\""
      ]
     },
     "metadata": {},
     "output_type": "display_data"
    }
   ],
   "source": [
    "date()"
   ]
  }
 ],
 "metadata": {
  "kernelspec": {
   "display_name": "R [conda env:anaconda3-deseq2]",
   "language": "R",
   "name": "conda-env-anaconda3-deseq2-r"
  },
  "language_info": {
   "codemirror_mode": "r",
   "file_extension": ".r",
   "mimetype": "text/x-r-source",
   "name": "R",
   "pygments_lexer": "r",
   "version": "4.1.1"
  }
 },
 "nbformat": 4,
 "nbformat_minor": 4
}
