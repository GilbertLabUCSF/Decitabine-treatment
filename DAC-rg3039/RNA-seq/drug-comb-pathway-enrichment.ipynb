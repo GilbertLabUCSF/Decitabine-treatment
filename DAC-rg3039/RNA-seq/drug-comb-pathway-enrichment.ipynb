{
 "cells": [
  {
   "cell_type": "markdown",
   "metadata": {},
   "source": [
    "__Aim:__ Consistency analysis across cell lines using pathway enrichment results to find commonly up/down regulated pathways and their genes. \n",
    "\n",
    "__tools__:\n",
    "- https://github.com/goodarzilab/iPAGE\n",
    "- https://github.com/goodarzilab/pypage\n",
    "- https://github.com/abearab/pager\n",
    "\n",
    "__other tools__:\n",
    "- https://github.com/tanghaibao/goatools\n",
    "- https://github.com/MaayanLab/blitzgsea\n",
    "- https://gseapy.readthedocs.io/en/latest/index.html"
   ]
  },
  {
   "cell_type": "markdown",
   "metadata": {},
   "source": [
    "___\n",
    "<!-- source: https://www.nature.com/articles/s41586-021-03313-9/figures/9\n",
    "\n",
    "I want something like module g\n",
    "\n",
    "<img src=\"https://media.springernature.com/full/springer-static/esm/art%3A10.1038%2Fs41586-021-03313-9/MediaObjects/41586_2021_3313_Fig9_ESM.jpg?as=webp\" width=600 >  -->"
   ]
  },
  {
   "cell_type": "code",
   "execution_count": 1,
   "metadata": {
    "tags": []
   },
   "outputs": [],
   "source": [
    "!mkdir -p page"
   ]
  },
  {
   "cell_type": "code",
   "execution_count": 2,
   "metadata": {
    "tags": []
   },
   "outputs": [],
   "source": [
    "import re\n",
    "import sys\n",
    "import pandas as pd \n",
    "import numpy as np\n",
    "import matplotlib.pyplot as plt\n",
    "from time import time \n",
    "from glob import glob\n",
    "from matplotlib.pyplot import subplots\n",
    "from itertools import chain\n",
    "from functools import reduce\n",
    "from venn import venn\n",
    "\n",
    "sys.path.append('/data_gilbert/home/aarab/tools/pager/')\n",
    "\n",
    "import upsetplot as us\n",
    "import pager\n",
    "from matplotlib.backends.backend_pdf import PdfPages\n",
    "\n",
    "from IPython.display import IFrame"
   ]
  },
  {
   "cell_type": "code",
   "execution_count": 3,
   "metadata": {
    "tags": []
   },
   "outputs": [],
   "source": [
    "import pypage"
   ]
  },
  {
   "cell_type": "code",
   "execution_count": 4,
   "metadata": {
    "tags": []
   },
   "outputs": [],
   "source": [
    "pagerdir='/data_gilbert/home/aarab/tools/pager'"
   ]
  },
  {
   "cell_type": "code",
   "execution_count": 5,
   "metadata": {
    "tags": []
   },
   "outputs": [],
   "source": [
    "dictfilt = lambda x, y: dict([ (i,x[i]) for i in x if i in set(y) ])"
   ]
  },
  {
   "cell_type": "code",
   "execution_count": 6,
   "metadata": {
    "tags": []
   },
   "outputs": [],
   "source": [
    "from pypage import ExpressionProfile\n",
    "from pypage import GeneSets\n",
    "from pypage import PAGE"
   ]
  },
  {
   "cell_type": "code",
   "execution_count": 7,
   "metadata": {
    "tags": []
   },
   "outputs": [],
   "source": [
    "import pickle\n",
    "\n",
    "def write_adata_pkl(data, name):\n",
    "    file_name = f'{name}.pkl'\n",
    "    with open(file_name, 'wb') as file:\n",
    "        pickle.dump(data, file)\n",
    "        print(f'Object successfully saved to \"{file_name}\"')\n",
    "\n",
    "\n",
    "def read_adata_pkl(name):\n",
    "    file_name = f'{name}.pkl'\n",
    "    with open(file_name, 'rb') as f:\n",
    "        data = pickle.load(f)\n",
    "    return data"
   ]
  },
  {
   "cell_type": "code",
   "execution_count": 8,
   "metadata": {
    "tags": []
   },
   "outputs": [],
   "source": [
    "def load_annotation(ann_file):\n",
    "    gs_ann = GeneSets(ann_file=ann_file, n_bins=3)\n",
    "    return gs_ann\n",
    "\n",
    "\n",
    "def load_expression(expression_file):\n",
    "    df = pd.read_csv(expression_file,\n",
    "                     sep=\"\\t\",\n",
    "                     header=0,\n",
    "                     names=[\"gene\", \"exp\"])\n",
    "    exp = ExpressionProfile(df.iloc[:, 0],\n",
    "                            df.iloc[:, 1],\n",
    "                            n_bins=10)\n",
    "    # exp.convert_from_to('refseq', 'ensg', 'human')\n",
    "    return exp\n",
    "\n",
    "\n",
    "def run_pyPAGE(expression, annotation,threads=18):\n",
    "    p = PAGE(\n",
    "        expression,\n",
    "        annotation,\n",
    "        n_shuffle=1000,\n",
    "        n_jobs=threads,\n",
    "        # Hani: _\"You must redo iPAGE with `--independence=0` option for comparing results between multiple smaples.\"_        \n",
    "        filter_redundant=False\n",
    "    )\n",
    "    \n",
    "    _,_ = p.run()\n",
    "    \n",
    "    return p"
   ]
  },
  {
   "cell_type": "markdown",
   "metadata": {
    "tags": []
   },
   "source": [
    "### Load genesets"
   ]
  },
  {
   "cell_type": "code",
   "execution_count": 9,
   "metadata": {},
   "outputs": [],
   "source": [
    "# msigdb_c5_go = load_annotation(f'{pagerdir}/annotations/human/msigdb_v7.4_c5.go/c5.go.v7.4.symbols.gmt')\n",
    "# msigdb_c5_go._calculate_pathway_sizes()"
   ]
  },
  {
   "cell_type": "code",
   "execution_count": 10,
   "metadata": {
    "tags": []
   },
   "outputs": [],
   "source": [
    "# pd.Series(msigdb_c5_go.pathway_sizes).plot.hist(bins=200)\n",
    "# plt.axvline(10, color='k', linestyle='dashed', linewidth=1)\n",
    "# plt.axvline(500, color='k', linestyle='dashed', linewidth=1)\n",
    "\n",
    "# plt.yscale('log')\n",
    "# plt.show()"
   ]
  },
  {
   "cell_type": "code",
   "execution_count": 11,
   "metadata": {
    "tags": []
   },
   "outputs": [],
   "source": [
    "# msigdb_c5_go.filter_pathways(min_size=10,max_size=500)"
   ]
  },
  {
   "cell_type": "code",
   "execution_count": 12,
   "metadata": {},
   "outputs": [],
   "source": [
    "# msigdb_c2_kegg = load_annotation(f'{pagerdir}/annotations/human/msigdb_v7.4_c2.cp.kegg/c2.cp.kegg.v7.4.symbols.gmt')\n",
    "\n",
    "msigdb_c5_gobp = load_annotation(f'{pagerdir}/annotations/human/msigdb_v7.4_c5.go.bp/c5.go.bp.v7.4.symbols.gmt')\n",
    "# msigdb_c5_gobp._calculate_pathway_sizes()\n",
    "\n",
    "# msigdb_c5_gobp.filter_pathways(min_size=50,max_size=150)"
   ]
  },
  {
   "cell_type": "markdown",
   "metadata": {},
   "source": [
    "## run pyPAGE"
   ]
  },
  {
   "cell_type": "code",
   "execution_count": 13,
   "metadata": {
    "tags": []
   },
   "outputs": [],
   "source": [
    "counts = pd.read_csv('deseq2_norm.txt',sep='\\t')"
   ]
  },
  {
   "cell_type": "markdown",
   "metadata": {},
   "source": [
    "### $\\Delta$Expression"
   ]
  },
  {
   "cell_type": "code",
   "execution_count": 30,
   "metadata": {
    "tags": []
   },
   "outputs": [
    {
     "name": "stdout",
     "output_type": "stream",
     "text": [
      "comb_vs_dmso\n"
     ]
    },
    {
     "name": "stderr",
     "output_type": "stream",
     "text": [
      "calculating conditional mutual information: 100%|██████████| 7481/7481 [00:12<00:00, 592.34it/s]\n",
      "permutation testing:   5%|▌         | 402/7481 [02:11<38:37,  3.06it/s]\n",
      "hypergeometric tests: 370it [00:01, 230.96it/s]\n"
     ]
    },
    {
     "name": "stdout",
     "output_type": "stream",
     "text": [
      "\n",
      "comb_vs_decitabine\n"
     ]
    },
    {
     "name": "stderr",
     "output_type": "stream",
     "text": [
      "calculating conditional mutual information: 100%|██████████| 7481/7481 [00:12<00:00, 616.59it/s]\n",
      "permutation testing:   8%|▊         | 580/7481 [03:04<36:30,  3.15it/s]\n",
      "hypergeometric tests: 388it [00:01, 302.67it/s]"
     ]
    },
    {
     "name": "stdout",
     "output_type": "stream",
     "text": [
      "\n"
     ]
    },
    {
     "name": "stderr",
     "output_type": "stream",
     "text": [
      "\n"
     ]
    }
   ],
   "source": [
    "exp_results = {}\n",
    "\n",
    "for delta_exp in glob('exp/*delta_exp.txt'):\n",
    "    msigdb_c5_gobp.modified = False   # https://github.com/goodarzilab/pypage/issues/47#issuecomment-1699760555 \n",
    "    name = delta_exp.split('/')[1].replace('_delta_exp.txt','')\n",
    "    print(name)\n",
    "    exp_results[name] = run_pyPAGE(load_expression(delta_exp),msigdb_c5_gobp)\n",
    "    print()"
   ]
  },
  {
   "cell_type": "code",
   "execution_count": 32,
   "metadata": {
    "tags": []
   },
   "outputs": [
    {
     "name": "stdout",
     "output_type": "stream",
     "text": [
      "Object successfully saved to \"page/exp_results_msigdb_c5_gobp.pkl\"\n"
     ]
    }
   ],
   "source": [
    "write_adata_pkl(exp_results,'page/exp_results_msigdb_c5_gobp')"
   ]
  },
  {
   "cell_type": "code",
   "execution_count": 14,
   "metadata": {
    "tags": []
   },
   "outputs": [],
   "source": [
    "exp_results = read_adata_pkl('page/exp_results_msigdb_c5_gobp')"
   ]
  },
  {
   "cell_type": "markdown",
   "metadata": {},
   "source": [
    "## Draw heatmaps\n",
    "Fig. S3E"
   ]
  },
  {
   "cell_type": "code",
   "execution_count": 15,
   "metadata": {
    "tags": []
   },
   "outputs": [],
   "source": [
    "def subset_results(p):\n",
    "    return pd.concat([\n",
    "        pager.pvmat2bio_signal(\n",
    "            p.get_es_matrix(),\n",
    "            side=s,n_clust=n,\n",
    "            thr = -np.log10(0.05)\n",
    "        ) for s,n in zip(['up','down'],[1,2,3])\n",
    "    ])\n",
    "\n",
    "\n",
    "def draw_heatmap(es_matrix,cmap = 'viridis'):\n",
    "    # https://github.com/goodarzilab/pypage/issues/46\n",
    "    return pypage.heatmap.Heatmap(pathways=es_matrix.index,graphical_ar=es_matrix.to_numpy(),cmap_main = cmap)"
   ]
  },
  {
   "cell_type": "code",
   "execution_count": 16,
   "metadata": {
    "tags": []
   },
   "outputs": [],
   "source": [
    "modality = \"RNA Expression\""
   ]
  },
  {
   "cell_type": "code",
   "execution_count": 31,
   "metadata": {
    "tags": []
   },
   "outputs": [
    {
     "data": {
      "image/png": "[encoded data removed]",
      "text/plain": [
       "<Figure size 484.295x207.555 with 2 Axes>"
      ]
     },
     "metadata": {},
     "output_type": "display_data"
    }
   ],
   "source": [
    "draw_heatmap(\n",
    "    subset_results(exp_results['comb_vs_dmso'])\n",
    ").show(title=f'{modality}\\nHL-60 comb_vs_dmso')"
   ]
  },
  {
   "cell_type": "code",
   "execution_count": 33,
   "metadata": {
    "tags": []
   },
   "outputs": [
    {
     "data": {
      "image/png": "[encoded data removed]",
      "text/plain": [
       "<Figure size 484.295x103.778 with 2 Axes>"
      ]
     },
     "metadata": {},
     "output_type": "display_data"
    }
   ],
   "source": [
    "draw_heatmap(\n",
    "    subset_results(exp_results['comb_vs_decitabine'])\n",
    ").show(title=f'{modality}\\nHL-60 comb_vs_decitabine')"
   ]
  },
  {
   "cell_type": "code",
   "execution_count": 34,
   "metadata": {
    "tags": []
   },
   "outputs": [
    {
     "data": {
      "text/html": [
       "<div>\n",
       "<style scoped>\n",
       "    .dataframe tbody tr th:only-of-type {\n",
       "        vertical-align: middle;\n",
       "    }\n",
       "\n",
       "    .dataframe tbody tr th {\n",
       "        vertical-align: top;\n",
       "    }\n",
       "\n",
       "    .dataframe thead th {\n",
       "        text-align: right;\n",
       "    }\n",
       "</style>\n",
       "<table border=\"1\" class=\"dataframe\">\n",
       "  <thead>\n",
       "    <tr style=\"text-align: right;\">\n",
       "      <th></th>\n",
       "      <th>0</th>\n",
       "      <th>1</th>\n",
       "      <th>2</th>\n",
       "      <th>3</th>\n",
       "      <th>4</th>\n",
       "      <th>5</th>\n",
       "      <th>6</th>\n",
       "      <th>7</th>\n",
       "      <th>8</th>\n",
       "      <th>9</th>\n",
       "    </tr>\n",
       "  </thead>\n",
       "  <tbody>\n",
       "    <tr>\n",
       "      <th>GOBP_NEGATIVE_REGULATION_OF_IMMUNE_SYSTEM_PROCESS</th>\n",
       "      <td>0.718778</td>\n",
       "      <td>-3.432921</td>\n",
       "      <td>-0.509812</td>\n",
       "      <td>-0.414212</td>\n",
       "      <td>-0.876665</td>\n",
       "      <td>-1.036669</td>\n",
       "      <td>0.270373</td>\n",
       "      <td>0.337547</td>\n",
       "      <td>0.845197</td>\n",
       "      <td>4.645526</td>\n",
       "    </tr>\n",
       "    <tr>\n",
       "      <th>GOBP_REGIONALIZATION</th>\n",
       "      <td>6.292680</td>\n",
       "      <td>2.805761</td>\n",
       "      <td>-1.440917</td>\n",
       "      <td>-2.346056</td>\n",
       "      <td>-4.174273</td>\n",
       "      <td>0.362626</td>\n",
       "      <td>-1.437324</td>\n",
       "      <td>-1.205142</td>\n",
       "      <td>0.703120</td>\n",
       "      <td>0.846052</td>\n",
       "    </tr>\n",
       "    <tr>\n",
       "      <th>GOBP_CILIUM_MOVEMENT</th>\n",
       "      <td>4.168642</td>\n",
       "      <td>1.754759</td>\n",
       "      <td>-0.362701</td>\n",
       "      <td>-0.737956</td>\n",
       "      <td>-1.812077</td>\n",
       "      <td>-1.367607</td>\n",
       "      <td>-1.365380</td>\n",
       "      <td>0.522764</td>\n",
       "      <td>0.524126</td>\n",
       "      <td>-0.737956</td>\n",
       "    </tr>\n",
       "  </tbody>\n",
       "</table>\n",
       "</div>"
      ],
      "text/plain": [
       "                                                          0         1  \\\n",
       "GOBP_NEGATIVE_REGULATION_OF_IMMUNE_SYSTEM_PROCESS  0.718778 -3.432921   \n",
       "GOBP_REGIONALIZATION                               6.292680  2.805761   \n",
       "GOBP_CILIUM_MOVEMENT                               4.168642  1.754759   \n",
       "\n",
       "                                                          2         3  \\\n",
       "GOBP_NEGATIVE_REGULATION_OF_IMMUNE_SYSTEM_PROCESS -0.509812 -0.414212   \n",
       "GOBP_REGIONALIZATION                              -1.440917 -2.346056   \n",
       "GOBP_CILIUM_MOVEMENT                              -0.362701 -0.737956   \n",
       "\n",
       "                                                          4         5  \\\n",
       "GOBP_NEGATIVE_REGULATION_OF_IMMUNE_SYSTEM_PROCESS -0.876665 -1.036669   \n",
       "GOBP_REGIONALIZATION                              -4.174273  0.362626   \n",
       "GOBP_CILIUM_MOVEMENT                              -1.812077 -1.367607   \n",
       "\n",
       "                                                          6         7  \\\n",
       "GOBP_NEGATIVE_REGULATION_OF_IMMUNE_SYSTEM_PROCESS  0.270373  0.337547   \n",
       "GOBP_REGIONALIZATION                              -1.437324 -1.205142   \n",
       "GOBP_CILIUM_MOVEMENT                              -1.365380  0.522764   \n",
       "\n",
       "                                                          8         9  \n",
       "GOBP_NEGATIVE_REGULATION_OF_IMMUNE_SYSTEM_PROCESS  0.845197  4.645526  \n",
       "GOBP_REGIONALIZATION                               0.703120  0.846052  \n",
       "GOBP_CILIUM_MOVEMENT                               0.524126 -0.737956  "
      ]
     },
     "execution_count": 34,
     "metadata": {},
     "output_type": "execute_result"
    }
   ],
   "source": [
    "subset_results(exp_results['comb_vs_decitabine'])"
   ]
  },
  {
   "cell_type": "code",
   "execution_count": null,
   "metadata": {},
   "outputs": [],
   "source": []
  },
  {
   "cell_type": "code",
   "execution_count": null,
   "metadata": {},
   "outputs": [],
   "source": []
  },
  {
   "cell_type": "code",
   "execution_count": 35,
   "metadata": {
    "tags": []
   },
   "outputs": [
    {
     "data": {
      "text/plain": [
       "'ANXA1\",\"BCL6\",\"C5AR2\",\"CCL3\",\"CD22\",\"CD300A\",\"CD55\",\"CD86\",\"CEBPB\",\"CRTAM\",\"DHX58\",\"DLG5\",\"DUSP1\",\"FCGR2B\",\"FCRLB\",\"FGL2\",\"FGR\",\"GBP1\",\"GPR137\",\"GPR137B\",\"HMOX1\",\"IFI16\",\"IL12B\",\"IL1RL1\",\"IL20RB\",\"IL2RA\",\"IL4R\",\"KIR2DL4\",\"KITLG\",\"LGALS3\",\"LILRB2\",\"LILRB3\",\"LRRC17\",\"MAFB\",\"MERTK\",\"NOD2\",\"PAG1\",\"PAWR\",\"PLCL2\",\"PTPN22\",\"PTPRJ\",\"RIN3\",\"RIPOR2\",\"SDC4\",\"SFTPD\",\"SYT11\",\"THBS1\",\"TNF\",\"TNFRSF14\",\"TRIB1\",\"VSIR\",\"ZC3H12A'"
      ]
     },
     "execution_count": 35,
     "metadata": {},
     "output_type": "execute_result"
    }
   ],
   "source": [
    "'\",\"'.join(\n",
    "    [gene for genes in exp_results['comb_vs_decitabine'].get_enriched_genes(\n",
    "        'GOBP_NEGATIVE_REGULATION_OF_IMMUNE_SYSTEM_PROCESS')[-1:] for gene in genes]\n",
    ")"
   ]
  },
  {
   "cell_type": "code",
   "execution_count": null,
   "metadata": {},
   "outputs": [],
   "source": []
  },
  {
   "cell_type": "code",
   "execution_count": null,
   "metadata": {},
   "outputs": [],
   "source": []
  },
  {
   "cell_type": "code",
   "execution_count": null,
   "metadata": {},
   "outputs": [],
   "source": []
  },
  {
   "cell_type": "markdown",
   "metadata": {
    "tags": []
   },
   "source": [
    "___\n",
    "# "
   ]
  },
  {
   "cell_type": "code",
   "execution_count": 36,
   "metadata": {
    "tags": []
   },
   "outputs": [
    {
     "name": "stdout",
     "output_type": "stream",
     "text": [
      "Mon Sep  4 03:56:17 PDT 2023\n"
     ]
    }
   ],
   "source": [
    "!date"
   ]
  }
 ],
 "metadata": {
  "kernelspec": {
   "display_name": "Python [conda env:pypage]",
   "language": "python",
   "name": "conda-env-pypage-py"
  },
  "language_info": {
   "codemirror_mode": {
    "name": "ipython",
    "version": 3
   },
   "file_extension": ".py",
   "mimetype": "text/x-python",
   "name": "python",
   "nbconvert_exporter": "python",
   "pygments_lexer": "ipython3",
   "version": "3.11.5"
  }
 },
 "nbformat": 4,
 "nbformat_minor": 4
}
