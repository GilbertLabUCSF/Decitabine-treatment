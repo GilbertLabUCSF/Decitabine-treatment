{
 "cells": [
  {
   "cell_type": "markdown",
   "id": "7e4c051c",
   "metadata": {
    "tags": []
   },
   "source": [
    "# iPAGE \n",
    "https://github.com/goodarzilab/PAGE  "
   ]
  },
  {
   "cell_type": "code",
   "execution_count": 4,
   "id": "be67d662-c074-4ea5-a9f5-dfcd417b7836",
   "metadata": {},
   "outputs": [],
   "source": [
    "import os\n",
    "\n",
    "import sys\n",
    "import pandas as pd \n",
    "import numpy as np\n",
    "from time import time \n",
    "from glob import glob\n",
    "\n",
    "pager_dir = '/data_gilbert/home/aarab/Projects/pager/'\n",
    "# pager_dir = '/rumi/shams/abe/Projects/ipage-down/'\n",
    "sys.path.append(pager_dir)\n",
    "\n",
    "# import ipage_down as ipd"
   ]
  },
  {
   "cell_type": "markdown",
   "id": "4bd6d71e",
   "metadata": {},
   "source": [
    "https://github.com/goodarzilab/server_wiki/tree/main/lab_softwares"
   ]
  },
  {
   "cell_type": "code",
   "execution_count": 5,
   "id": "ab4a0f57-481e-42d1-80e7-84a0fe46cf89",
   "metadata": {},
   "outputs": [],
   "source": [
    "def fdr_diff_table(file):\n",
    "    df = pd.read_csv(file,sep='\\t').set_index('gene_name')\n",
    "    df['fdr'] = np.sign(df.log2FoldChange ) * (1 - df.pvalue)\n",
    "    df[['fdr']].to_csv(file.replace('.txt','_fdr.txt'),sep='\\t')"
   ]
  },
  {
   "cell_type": "code",
   "execution_count": 6,
   "id": "c5ec2160-2994-4632-9634-44bb7711e3f1",
   "metadata": {},
   "outputs": [],
   "source": [
    "files = glob('diffexp/*delta_exp.txt')\n",
    "\n",
    "for file in files:\n",
    "    fdr_diff_table (file)"
   ]
  },
  {
   "cell_type": "markdown",
   "id": "3e5ce351-f943-497e-99e2-ad70051f39a7",
   "metadata": {},
   "source": [
    "___\n",
    "run iPAGE"
   ]
  },
  {
   "cell_type": "code",
   "execution_count": 11,
   "id": "4a134936",
   "metadata": {},
   "outputs": [],
   "source": [
    "%%bash \n",
    "export PAGEDIR=/data_gilbert/home/aarab/iPAGE\n",
    "\n",
    "cd diffexp/\n",
    "nohup ls *delta_exp*.txt \\\n",
    "    | parallel -j8 -k bash ~/Projects/pager/ipage_loop.sh {} \\\n",
    "    &> ipage.out & \n",
    "cd ../"
   ]
  },
  {
   "cell_type": "code",
   "execution_count": 13,
   "id": "2d9163c5-1751-4940-a3c4-91d8bed48833",
   "metadata": {},
   "outputs": [],
   "source": [
    "cat diffexp/ipage.out"
   ]
  },
  {
   "cell_type": "markdown",
   "id": "fa656b0f-65f5-49d1-85ab-6879b9f3d549",
   "metadata": {},
   "source": [
    "___\n",
    "# `pager`\n",
    "https://github.com/abearab/pager"
   ]
  },
  {
   "cell_type": "code",
   "execution_count": 9,
   "id": "f30ac30e-c41c-4c6a-a307-dcca7e47651d",
   "metadata": {},
   "outputs": [],
   "source": [
    "def get_pvmatrix_list(parent_path,pattern):\n",
    "    \"\"\"\n",
    "    pattern: msigdb gene set cluster name \n",
    "    \"\"\"\n",
    "    return glob(f'{parent_path}/*{pattern}*/pvmatrix.txt')\n",
    "\n",
    "def get_pv_signal(exp,patterns,pdf=None):\n",
    "    \"\"\"\n",
    "    exp: experiment name\n",
    "    patterns: list of patterns\n",
    "    \"\"\"\n",
    "    cols = pd.concat([\n",
    "        ipd.pvmat2bio_signal(ipd.merge_multiple_pvmat(\n",
    "            get_pvmatrix_list(f\"{exp}_fdr\",\"c1\")\n",
    "        ),s,n_clust=1) for s in ['up','both','down']\n",
    "    ]).columns\n",
    "    \n",
    "    pv_signal = pd.concat([\n",
    "        ipd.pvmat2bio_signal(ipd.merge_multiple_pvmat([\n",
    "            pvmat for pattern in patterns\n",
    "            for pvmat in \n",
    "            get_pvmatrix_list(f\"{exp}\",pattern) + \\\n",
    "            get_pvmatrix_list(f\"{exp}_fdr\",pattern)\n",
    "        ]),s,n_clust=2) for s in ['up','both','down']\n",
    "    ])\n",
    "    \n",
    "    pv_signal.columns = cols\n",
    "    pv_signal=pv_signal[~pv_signal.duplicated()]\n",
    "    \n",
    "    if pdf:\n",
    "        pv_signal.to_csv('temp-pvmatrix.txt',sep='\\t')\n",
    "    \n",
    "        !bash {pager_dir}/ipage_draw_matrix.sh \\\n",
    "            {exp}'.txt' \"temp-pvmatrix.txt\" \\\n",
    "            {pdf} &> /dev/null\n",
    "    \n",
    "        !rm -v 'temp-pvmatrix.txt'\n",
    "    else: \n",
    "        return pv_signal\n"
   ]
  },
  {
   "cell_type": "markdown",
   "id": "6591dcc6-5281-405b-8db5-bf25c88eb9a9",
   "metadata": {
    "tags": []
   },
   "source": [
    "# comb_vs_decitabine"
   ]
  },
  {
   "cell_type": "code",
   "execution_count": 51,
   "id": "5e119f93-d2b1-4dfb-b204-5694777d9d0a",
   "metadata": {},
   "outputs": [],
   "source": [
    "pvmat_comb_vs_decitabine = get_pv_signal(\n",
    "    'diffexp/comb_vs_decitabine_delta_exp',[\n",
    "        'c5.go.bp',\n",
    "        # 'c2.cp.kegg'\n",
    "    ]\n",
    ")"
   ]
  },
  {
   "cell_type": "code",
   "execution_count": null,
   "id": "2b821c1e-7f81-4c45-8dd3-5d98f3d6f4d0",
   "metadata": {
    "tags": []
   },
   "outputs": [],
   "source": []
  },
  {
   "cell_type": "code",
   "execution_count": 53,
   "id": "4ebcf0d0-19de-460a-abd6-b0ba7c85d2e7",
   "metadata": {},
   "outputs": [
    {
     "name": "stdout",
     "output_type": "stream",
     "text": [
      "removed ‘temp-pvmatrix.txt’\n"
     ]
    }
   ],
   "source": [
    "os.chdir(\"diffexp\")\n",
    "get_pv_signal('comb_vs_decitabine_delta_exp',[\n",
    "    'c5.go.bp',\n",
    "    'c2.cp.kegg'\n",
    "],'comb_vs_decitabine_delta_exp-GO.pdf')\n",
    "os.chdir(\"..\")"
   ]
  },
  {
   "cell_type": "markdown",
   "id": "bfb625c4-9c72-4840-a1e9-d59924c38b0e",
   "metadata": {
    "tags": []
   },
   "source": [
    "### BIOCARTA_SM_PATHWAY"
   ]
  },
  {
   "cell_type": "code",
   "execution_count": 158,
   "id": "a7512a06-c94a-4d7d-8005-618b704f4a01",
   "metadata": {},
   "outputs": [
    {
     "data": {
      "text/plain": [
       "['diffexp/comb_vs_decitabine_delta_exp_fdr/msigdb_v7.4_c2.all/pvmatrix.txt',\n",
       " 'diffexp/comb_vs_decitabine_delta_exp_fdr/msigdb_v7.4_c2.cp/pvmatrix.txt',\n",
       " 'diffexp/comb_vs_decitabine_delta_exp_fdr/msigdb_v7.4_c2.cp.biocarta/pvmatrix.txt']"
      ]
     },
     "execution_count": 158,
     "metadata": {},
     "output_type": "execute_result"
    }
   ],
   "source": [
    "ipd.detect_gs_cluster(get_pvmatrix_list(\"diffexp/comb_vs_decitabine_delta_exp*\",\"c\"),\"BIOCARTA_SM_PATHWAY\")"
   ]
  },
  {
   "cell_type": "code",
   "execution_count": 161,
   "id": "08c03b46-4757-4aaf-b460-0a046561c9ff",
   "metadata": {},
   "outputs": [
    {
     "data": {
      "text/plain": [
       "['SNRNP70',\n",
       " 'SNRPA1',\n",
       " 'SNRPD1',\n",
       " 'SNRPD3',\n",
       " 'SNRPE',\n",
       " 'SNRPF',\n",
       " 'SRSF2',\n",
       " 'U2AF1',\n",
       " 'SNRPB',\n",
       " 'SNRPC',\n",
       " 'SNRPD2',\n",
       " 'SNRPG']"
      ]
     },
     "execution_count": 161,
     "metadata": {},
     "output_type": "execute_result"
    }
   ],
   "source": [
    "[gene for clust in ['0','1','2'] for gene in list(ipd.bin_identifier_genes(\n",
    "    \"diffexp/comb_vs_decitabine_delta_exp_fdr/msigdb_v7.4_c2.all\",clust,'BIOCARTA_SM_PATHWAY'\n",
    ").values())[0]]"
   ]
  },
  {
   "cell_type": "markdown",
   "id": "9fa20b45-e122-4c35-b56c-2b684103df20",
   "metadata": {
    "tags": []
   },
   "source": [
    "### GOCC_METHYLOSOME"
   ]
  },
  {
   "cell_type": "code",
   "execution_count": 142,
   "id": "35de4d46-8fec-43f3-9678-0260b95d1ddb",
   "metadata": {},
   "outputs": [
    {
     "data": {
      "text/plain": [
       "['diffexp/comb_vs_decitabine_delta_exp_fdr/msigdb_v7.4_c5.all/pvmatrix.txt',\n",
       " 'diffexp/comb_vs_decitabine_delta_exp_fdr/msigdb_v7.4_c5.go/pvmatrix.txt',\n",
       " 'diffexp/comb_vs_decitabine_delta_exp_fdr/msigdb_v7.4_c5.go.cc/pvmatrix.txt']"
      ]
     },
     "execution_count": 142,
     "metadata": {},
     "output_type": "execute_result"
    }
   ],
   "source": [
    "ipd.detect_gs_cluster(get_pvmatrix_list(\"diffexp/comb_vs_decitabine_delta_exp*\",\"c\"),\"GOCC_METHYLOSOME\")"
   ]
  },
  {
   "cell_type": "code",
   "execution_count": 157,
   "id": "5ad596a8-d11b-4024-901c-358e0fd73cd8",
   "metadata": {},
   "outputs": [
    {
     "data": {
      "text/plain": [
       "['CLNS1A',\n",
       " 'SNRPD1',\n",
       " 'SNRPD3',\n",
       " 'SNRPF',\n",
       " 'WDR77',\n",
       " 'PRMT1',\n",
       " 'PRMT5',\n",
       " 'SNRPB',\n",
       " 'SNRPD2',\n",
       " 'SNRPE',\n",
       " 'SNRPG']"
      ]
     },
     "execution_count": 157,
     "metadata": {},
     "output_type": "execute_result"
    }
   ],
   "source": [
    "[gene for clust in ['0','1'] for gene in list(ipd.bin_identifier_genes(\n",
    "    \"diffexp/comb_vs_decitabine_delta_exp_fdr/msigdb_v7.4_c5.go\",clust,'GOCC_METHYLOSOME'\n",
    ").values())[0]]"
   ]
  },
  {
   "cell_type": "markdown",
   "id": "096cea1d-2c82-4291-8469-dc061e11cd19",
   "metadata": {
    "tags": []
   },
   "source": [
    "## "
   ]
  },
  {
   "cell_type": "code",
   "execution_count": 23,
   "id": "f04ad14a-6536-4fd1-80d0-26d93ba8c43d",
   "metadata": {},
   "outputs": [
    {
     "data": {
      "text/html": [
       "<div>\n",
       "<style scoped>\n",
       "    .dataframe tbody tr th:only-of-type {\n",
       "        vertical-align: middle;\n",
       "    }\n",
       "\n",
       "    .dataframe tbody tr th {\n",
       "        vertical-align: top;\n",
       "    }\n",
       "\n",
       "    .dataframe thead th {\n",
       "        text-align: right;\n",
       "    }\n",
       "</style>\n",
       "<table border=\"1\" class=\"dataframe\">\n",
       "  <thead>\n",
       "    <tr style=\"text-align: right;\">\n",
       "      <th></th>\n",
       "      <th>[-1.22 -1.00]</th>\n",
       "      <th>[-1.00 -0.96]</th>\n",
       "      <th>[-0.96 -0.79]</th>\n",
       "      <th>[-0.79 -0.53]</th>\n",
       "      <th>[-0.53 -0.22]</th>\n",
       "      <th>[-0.22 0.08]</th>\n",
       "      <th>[0.08 0.39]</th>\n",
       "      <th>[0.39 0.69]</th>\n",
       "      <th>[0.69 0.91]</th>\n",
       "      <th>[0.91 1.00]</th>\n",
       "      <th>[1.00 1.22]</th>\n",
       "    </tr>\n",
       "  </thead>\n",
       "  <tbody>\n",
       "    <tr>\n",
       "      <th>GOMF_GROWTH_FACTOR_BINDING</th>\n",
       "      <td>0.246</td>\n",
       "      <td>-2.000</td>\n",
       "      <td>-1.078</td>\n",
       "      <td>-1.078</td>\n",
       "      <td>-0.771</td>\n",
       "      <td>-0.364</td>\n",
       "      <td>-0.771</td>\n",
       "      <td>0.246</td>\n",
       "      <td>-0.538</td>\n",
       "      <td>3.028</td>\n",
       "      <td>4.950</td>\n",
       "    </tr>\n",
       "    <tr>\n",
       "      <th>GOCC_TERTIARY_GRANULE</th>\n",
       "      <td>-1.194</td>\n",
       "      <td>-1.860</td>\n",
       "      <td>-1.499</td>\n",
       "      <td>-1.499</td>\n",
       "      <td>-0.939</td>\n",
       "      <td>1.063</td>\n",
       "      <td>-0.301</td>\n",
       "      <td>-0.413</td>\n",
       "      <td>-0.413</td>\n",
       "      <td>3.370</td>\n",
       "      <td>4.523</td>\n",
       "    </tr>\n",
       "    <tr>\n",
       "      <th>GOBP_T_CELL_PROLIFERATION</th>\n",
       "      <td>0.275</td>\n",
       "      <td>-2.888</td>\n",
       "      <td>-1.568</td>\n",
       "      <td>-0.328</td>\n",
       "      <td>-0.594</td>\n",
       "      <td>-0.447</td>\n",
       "      <td>-1.256</td>\n",
       "      <td>-0.447</td>\n",
       "      <td>1.436</td>\n",
       "      <td>2.554</td>\n",
       "      <td>2.862</td>\n",
       "    </tr>\n",
       "    <tr>\n",
       "      <th>GOCC_SPECIFIC_GRANULE</th>\n",
       "      <td>-0.338</td>\n",
       "      <td>-1.591</td>\n",
       "      <td>-0.791</td>\n",
       "      <td>-1.591</td>\n",
       "      <td>-0.791</td>\n",
       "      <td>-1.012</td>\n",
       "      <td>-0.608</td>\n",
       "      <td>0.978</td>\n",
       "      <td>0.794</td>\n",
       "      <td>2.210</td>\n",
       "      <td>2.820</td>\n",
       "    </tr>\n",
       "    <tr>\n",
       "      <th>GOBP_POSITIVE_REGULATION_OF_TUMOR_NECROSIS_FACTOR_SUPERFAMILY_CYTOKINE_PRODUCTION</th>\n",
       "      <td>-0.488</td>\n",
       "      <td>-1.518</td>\n",
       "      <td>-1.064</td>\n",
       "      <td>-0.488</td>\n",
       "      <td>1.156</td>\n",
       "      <td>-1.518</td>\n",
       "      <td>0.446</td>\n",
       "      <td>-0.314</td>\n",
       "      <td>-1.064</td>\n",
       "      <td>2.206</td>\n",
       "      <td>2.612</td>\n",
       "    </tr>\n",
       "    <tr>\n",
       "      <th>GOMF_LIPASE_ACTIVITY</th>\n",
       "      <td>0.350</td>\n",
       "      <td>-0.812</td>\n",
       "      <td>-0.812</td>\n",
       "      <td>-0.257</td>\n",
       "      <td>-0.571</td>\n",
       "      <td>-0.257</td>\n",
       "      <td>-2.066</td>\n",
       "      <td>-0.812</td>\n",
       "      <td>-0.257</td>\n",
       "      <td>2.911</td>\n",
       "      <td>2.489</td>\n",
       "    </tr>\n",
       "    <tr>\n",
       "      <th>GOBP_LEUKOCYTE_HOMEOSTASIS</th>\n",
       "      <td>1.099</td>\n",
       "      <td>0.389</td>\n",
       "      <td>-0.585</td>\n",
       "      <td>-0.884</td>\n",
       "      <td>-0.884</td>\n",
       "      <td>-1.891</td>\n",
       "      <td>-0.585</td>\n",
       "      <td>-0.585</td>\n",
       "      <td>-0.374</td>\n",
       "      <td>2.179</td>\n",
       "      <td>2.167</td>\n",
       "    </tr>\n",
       "    <tr>\n",
       "      <th>GOBP_MATURATION_OF_5_8S_RRNA</th>\n",
       "      <td>3.086</td>\n",
       "      <td>2.482</td>\n",
       "      <td>-0.430</td>\n",
       "      <td>-1.450</td>\n",
       "      <td>-0.430</td>\n",
       "      <td>-1.450</td>\n",
       "      <td>-0.430</td>\n",
       "      <td>-0.218</td>\n",
       "      <td>-0.218</td>\n",
       "      <td>-0.218</td>\n",
       "      <td>-0.800</td>\n",
       "    </tr>\n",
       "    <tr>\n",
       "      <th>GOBP_PROTEIN_LOCALIZATION_TO_CHROMOSOME_TELOMERIC_REGION</th>\n",
       "      <td>2.996</td>\n",
       "      <td>2.364</td>\n",
       "      <td>-0.320</td>\n",
       "      <td>-0.640</td>\n",
       "      <td>-0.640</td>\n",
       "      <td>-0.640</td>\n",
       "      <td>-1.243</td>\n",
       "      <td>0.283</td>\n",
       "      <td>-0.640</td>\n",
       "      <td>0.283</td>\n",
       "      <td>-0.643</td>\n",
       "    </tr>\n",
       "    <tr>\n",
       "      <th>GOBP_CLEAVAGE_INVOLVED_IN_RRNA_PROCESSING</th>\n",
       "      <td>2.679</td>\n",
       "      <td>3.372</td>\n",
       "      <td>-1.118</td>\n",
       "      <td>-0.550</td>\n",
       "      <td>-0.260</td>\n",
       "      <td>-0.550</td>\n",
       "      <td>-0.550</td>\n",
       "      <td>-0.550</td>\n",
       "      <td>-0.550</td>\n",
       "      <td>-0.260</td>\n",
       "      <td>-0.552</td>\n",
       "    </tr>\n",
       "    <tr>\n",
       "      <th>GOCC_METHYLOSOME</th>\n",
       "      <td>2.549</td>\n",
       "      <td>3.498</td>\n",
       "      <td>0.167</td>\n",
       "      <td>-0.497</td>\n",
       "      <td>-0.497</td>\n",
       "      <td>-0.497</td>\n",
       "      <td>-0.497</td>\n",
       "      <td>-0.497</td>\n",
       "      <td>-0.497</td>\n",
       "      <td>-0.497</td>\n",
       "      <td>-0.499</td>\n",
       "    </tr>\n",
       "    <tr>\n",
       "      <th>GOBP_MATURATION_OF_5_8S_RRNA_FROM_TRICISTRONIC_RRNA_TRANSCRIPT_SSU_RRNA_5_8S_RRNA_LSU_RRNA</th>\n",
       "      <td>2.360</td>\n",
       "      <td>3.052</td>\n",
       "      <td>-0.462</td>\n",
       "      <td>-0.994</td>\n",
       "      <td>-0.204</td>\n",
       "      <td>-0.994</td>\n",
       "      <td>-0.462</td>\n",
       "      <td>-0.462</td>\n",
       "      <td>-0.462</td>\n",
       "      <td>-0.204</td>\n",
       "      <td>-0.464</td>\n",
       "    </tr>\n",
       "  </tbody>\n",
       "</table>\n",
       "</div>"
      ],
      "text/plain": [
       "                                                    [-1.22 -1.00]  \\\n",
       "GOMF_GROWTH_FACTOR_BINDING                                  0.246   \n",
       "GOCC_TERTIARY_GRANULE                                      -1.194   \n",
       "GOBP_T_CELL_PROLIFERATION                                   0.275   \n",
       "GOCC_SPECIFIC_GRANULE                                      -0.338   \n",
       "GOBP_POSITIVE_REGULATION_OF_TUMOR_NECROSIS_FACT...         -0.488   \n",
       "GOMF_LIPASE_ACTIVITY                                        0.350   \n",
       "GOBP_LEUKOCYTE_HOMEOSTASIS                                  1.099   \n",
       "GOBP_MATURATION_OF_5_8S_RRNA                                3.086   \n",
       "GOBP_PROTEIN_LOCALIZATION_TO_CHROMOSOME_TELOMER...          2.996   \n",
       "GOBP_CLEAVAGE_INVOLVED_IN_RRNA_PROCESSING                   2.679   \n",
       "GOCC_METHYLOSOME                                            2.549   \n",
       "GOBP_MATURATION_OF_5_8S_RRNA_FROM_TRICISTRONIC_...          2.360   \n",
       "\n",
       "                                                    [-1.00 -0.96]  \\\n",
       "GOMF_GROWTH_FACTOR_BINDING                                 -2.000   \n",
       "GOCC_TERTIARY_GRANULE                                      -1.860   \n",
       "GOBP_T_CELL_PROLIFERATION                                  -2.888   \n",
       "GOCC_SPECIFIC_GRANULE                                      -1.591   \n",
       "GOBP_POSITIVE_REGULATION_OF_TUMOR_NECROSIS_FACT...         -1.518   \n",
       "GOMF_LIPASE_ACTIVITY                                       -0.812   \n",
       "GOBP_LEUKOCYTE_HOMEOSTASIS                                  0.389   \n",
       "GOBP_MATURATION_OF_5_8S_RRNA                                2.482   \n",
       "GOBP_PROTEIN_LOCALIZATION_TO_CHROMOSOME_TELOMER...          2.364   \n",
       "GOBP_CLEAVAGE_INVOLVED_IN_RRNA_PROCESSING                   3.372   \n",
       "GOCC_METHYLOSOME                                            3.498   \n",
       "GOBP_MATURATION_OF_5_8S_RRNA_FROM_TRICISTRONIC_...          3.052   \n",
       "\n",
       "                                                    [-0.96 -0.79]  \\\n",
       "GOMF_GROWTH_FACTOR_BINDING                                 -1.078   \n",
       "GOCC_TERTIARY_GRANULE                                      -1.499   \n",
       "GOBP_T_CELL_PROLIFERATION                                  -1.568   \n",
       "GOCC_SPECIFIC_GRANULE                                      -0.791   \n",
       "GOBP_POSITIVE_REGULATION_OF_TUMOR_NECROSIS_FACT...         -1.064   \n",
       "GOMF_LIPASE_ACTIVITY                                       -0.812   \n",
       "GOBP_LEUKOCYTE_HOMEOSTASIS                                 -0.585   \n",
       "GOBP_MATURATION_OF_5_8S_RRNA                               -0.430   \n",
       "GOBP_PROTEIN_LOCALIZATION_TO_CHROMOSOME_TELOMER...         -0.320   \n",
       "GOBP_CLEAVAGE_INVOLVED_IN_RRNA_PROCESSING                  -1.118   \n",
       "GOCC_METHYLOSOME                                            0.167   \n",
       "GOBP_MATURATION_OF_5_8S_RRNA_FROM_TRICISTRONIC_...         -0.462   \n",
       "\n",
       "                                                    [-0.79 -0.53]  \\\n",
       "GOMF_GROWTH_FACTOR_BINDING                                 -1.078   \n",
       "GOCC_TERTIARY_GRANULE                                      -1.499   \n",
       "GOBP_T_CELL_PROLIFERATION                                  -0.328   \n",
       "GOCC_SPECIFIC_GRANULE                                      -1.591   \n",
       "GOBP_POSITIVE_REGULATION_OF_TUMOR_NECROSIS_FACT...         -0.488   \n",
       "GOMF_LIPASE_ACTIVITY                                       -0.257   \n",
       "GOBP_LEUKOCYTE_HOMEOSTASIS                                 -0.884   \n",
       "GOBP_MATURATION_OF_5_8S_RRNA                               -1.450   \n",
       "GOBP_PROTEIN_LOCALIZATION_TO_CHROMOSOME_TELOMER...         -0.640   \n",
       "GOBP_CLEAVAGE_INVOLVED_IN_RRNA_PROCESSING                  -0.550   \n",
       "GOCC_METHYLOSOME                                           -0.497   \n",
       "GOBP_MATURATION_OF_5_8S_RRNA_FROM_TRICISTRONIC_...         -0.994   \n",
       "\n",
       "                                                    [-0.53 -0.22]  \\\n",
       "GOMF_GROWTH_FACTOR_BINDING                                 -0.771   \n",
       "GOCC_TERTIARY_GRANULE                                      -0.939   \n",
       "GOBP_T_CELL_PROLIFERATION                                  -0.594   \n",
       "GOCC_SPECIFIC_GRANULE                                      -0.791   \n",
       "GOBP_POSITIVE_REGULATION_OF_TUMOR_NECROSIS_FACT...          1.156   \n",
       "GOMF_LIPASE_ACTIVITY                                       -0.571   \n",
       "GOBP_LEUKOCYTE_HOMEOSTASIS                                 -0.884   \n",
       "GOBP_MATURATION_OF_5_8S_RRNA                               -0.430   \n",
       "GOBP_PROTEIN_LOCALIZATION_TO_CHROMOSOME_TELOMER...         -0.640   \n",
       "GOBP_CLEAVAGE_INVOLVED_IN_RRNA_PROCESSING                  -0.260   \n",
       "GOCC_METHYLOSOME                                           -0.497   \n",
       "GOBP_MATURATION_OF_5_8S_RRNA_FROM_TRICISTRONIC_...         -0.204   \n",
       "\n",
       "                                                    [-0.22 0.08]  [0.08 0.39]  \\\n",
       "GOMF_GROWTH_FACTOR_BINDING                                -0.364       -0.771   \n",
       "GOCC_TERTIARY_GRANULE                                      1.063       -0.301   \n",
       "GOBP_T_CELL_PROLIFERATION                                 -0.447       -1.256   \n",
       "GOCC_SPECIFIC_GRANULE                                     -1.012       -0.608   \n",
       "GOBP_POSITIVE_REGULATION_OF_TUMOR_NECROSIS_FACT...        -1.518        0.446   \n",
       "GOMF_LIPASE_ACTIVITY                                      -0.257       -2.066   \n",
       "GOBP_LEUKOCYTE_HOMEOSTASIS                                -1.891       -0.585   \n",
       "GOBP_MATURATION_OF_5_8S_RRNA                              -1.450       -0.430   \n",
       "GOBP_PROTEIN_LOCALIZATION_TO_CHROMOSOME_TELOMER...        -0.640       -1.243   \n",
       "GOBP_CLEAVAGE_INVOLVED_IN_RRNA_PROCESSING                 -0.550       -0.550   \n",
       "GOCC_METHYLOSOME                                          -0.497       -0.497   \n",
       "GOBP_MATURATION_OF_5_8S_RRNA_FROM_TRICISTRONIC_...        -0.994       -0.462   \n",
       "\n",
       "                                                    [0.39 0.69]  [0.69 0.91]  \\\n",
       "GOMF_GROWTH_FACTOR_BINDING                                0.246       -0.538   \n",
       "GOCC_TERTIARY_GRANULE                                    -0.413       -0.413   \n",
       "GOBP_T_CELL_PROLIFERATION                                -0.447        1.436   \n",
       "GOCC_SPECIFIC_GRANULE                                     0.978        0.794   \n",
       "GOBP_POSITIVE_REGULATION_OF_TUMOR_NECROSIS_FACT...       -0.314       -1.064   \n",
       "GOMF_LIPASE_ACTIVITY                                     -0.812       -0.257   \n",
       "GOBP_LEUKOCYTE_HOMEOSTASIS                               -0.585       -0.374   \n",
       "GOBP_MATURATION_OF_5_8S_RRNA                             -0.218       -0.218   \n",
       "GOBP_PROTEIN_LOCALIZATION_TO_CHROMOSOME_TELOMER...        0.283       -0.640   \n",
       "GOBP_CLEAVAGE_INVOLVED_IN_RRNA_PROCESSING                -0.550       -0.550   \n",
       "GOCC_METHYLOSOME                                         -0.497       -0.497   \n",
       "GOBP_MATURATION_OF_5_8S_RRNA_FROM_TRICISTRONIC_...       -0.462       -0.462   \n",
       "\n",
       "                                                    [0.91 1.00]  [1.00 1.22]  \n",
       "GOMF_GROWTH_FACTOR_BINDING                                3.028        4.950  \n",
       "GOCC_TERTIARY_GRANULE                                     3.370        4.523  \n",
       "GOBP_T_CELL_PROLIFERATION                                 2.554        2.862  \n",
       "GOCC_SPECIFIC_GRANULE                                     2.210        2.820  \n",
       "GOBP_POSITIVE_REGULATION_OF_TUMOR_NECROSIS_FACT...        2.206        2.612  \n",
       "GOMF_LIPASE_ACTIVITY                                      2.911        2.489  \n",
       "GOBP_LEUKOCYTE_HOMEOSTASIS                                2.179        2.167  \n",
       "GOBP_MATURATION_OF_5_8S_RRNA                             -0.218       -0.800  \n",
       "GOBP_PROTEIN_LOCALIZATION_TO_CHROMOSOME_TELOMER...        0.283       -0.643  \n",
       "GOBP_CLEAVAGE_INVOLVED_IN_RRNA_PROCESSING                -0.260       -0.552  \n",
       "GOCC_METHYLOSOME                                         -0.497       -0.499  \n",
       "GOBP_MATURATION_OF_5_8S_RRNA_FROM_TRICISTRONIC_...       -0.204       -0.464  "
      ]
     },
     "execution_count": 23,
     "metadata": {},
     "output_type": "execute_result"
    }
   ],
   "source": [
    "get_pv_signal('diffexp/comb_vs_decitabine_delta_exp',[\n",
    "    'c5.go',\n",
    "    'c2.cp.kegg'\n",
    "])\n"
   ]
  },
  {
   "cell_type": "markdown",
   "id": "53a25674-917f-469c-9512-59c82ce59161",
   "metadata": {
    "jp-MarkdownHeadingCollapsed": true,
    "tags": []
   },
   "source": [
    "### GOBP_POSITIVE_REGULATION_OF_TUMOR_NECROSIS_FACTOR_SUPERFAMILY_CYTOKINE_PRODUCTION"
   ]
  },
  {
   "cell_type": "code",
   "execution_count": 25,
   "id": "ea199a94-e459-4cfd-9832-b0a439c9df1a",
   "metadata": {},
   "outputs": [
    {
     "data": {
      "text/plain": [
       "['diffexp/comb_vs_decitabine_delta_exp/msigdb_v7.4_c5.all/pvmatrix.txt',\n",
       " 'diffexp/comb_vs_decitabine_delta_exp/msigdb_v7.4_c5.go/pvmatrix.txt',\n",
       " 'diffexp/comb_vs_decitabine_delta_exp/msigdb_v7.4_c5.go.bp/pvmatrix.txt']"
      ]
     },
     "execution_count": 25,
     "metadata": {},
     "output_type": "execute_result"
    }
   ],
   "source": [
    "ipd.detect_gs_cluster(\n",
    "    get_pvmatrix_list(\"diffexp/comb_vs_decitabine_delta_exp\",\"c\"),\n",
    "    \"GOBP_POSITIVE_REGULATION_OF_TUMOR_NECROSIS_FACTOR_SUPERFAMILY_CYTOKINE_PRODUCTION\"\n",
    ")"
   ]
  },
  {
   "cell_type": "code",
   "execution_count": 28,
   "id": "a034ff45-3f63-461d-87eb-6d4eda5c9590",
   "metadata": {},
   "outputs": [
    {
     "data": {
      "text/plain": [
       "['AGER',\n",
       " 'CLEC7A',\n",
       " 'RIPK1',\n",
       " 'CLU',\n",
       " 'HLA-E',\n",
       " 'IFIH1',\n",
       " 'IL23A',\n",
       " 'LBP',\n",
       " 'LEP',\n",
       " 'MAPKAPK2',\n",
       " 'ORM1',\n",
       " 'PSEN1',\n",
       " 'PTAFR',\n",
       " 'PTPRC',\n",
       " 'TIRAP',\n",
       " 'TLR1',\n",
       " 'TLR4',\n",
       " 'TYROBP',\n",
       " 'ADAM8',\n",
       " 'CCL3',\n",
       " 'CD14',\n",
       " 'CD86',\n",
       " 'IL12B',\n",
       " 'IL1A',\n",
       " 'LILRA2',\n",
       " 'LILRA5',\n",
       " 'NOD2',\n",
       " 'ORM2',\n",
       " 'PTPRJ',\n",
       " 'SASH3',\n",
       " 'THBS1',\n",
       " 'TLR9']"
      ]
     },
     "execution_count": 28,
     "metadata": {},
     "output_type": "execute_result"
    }
   ],
   "source": [
    "[gene for clust in ['8','9','10'] for gene in list(ipd.bin_identifier_genes(\n",
    "    \"diffexp/comb_vs_decitabine_delta_exp/msigdb_v7.4_c5.all\",clust,\n",
    "    'GOBP_POSITIVE_REGULATION_OF_TUMOR_NECROSIS_FACTOR_SUPERFAMILY_CYTOKINE_PRODUCTION'\n",
    ").values())[0]]"
   ]
  },
  {
   "cell_type": "markdown",
   "id": "2a4e7df8-bdf7-48ed-a2da-e1d4ab839c05",
   "metadata": {
    "jp-MarkdownHeadingCollapsed": true,
    "tags": []
   },
   "source": [
    "### GOBP_T_CELL_PROLIFERATION"
   ]
  },
  {
   "cell_type": "code",
   "execution_count": 29,
   "id": "f41e0cc3-cec7-4960-953d-23283dbbad11",
   "metadata": {},
   "outputs": [
    {
     "data": {
      "text/plain": [
       "['diffexp/comb_vs_decitabine_delta_exp/msigdb_v7.4_c5.all/pvmatrix.txt',\n",
       " 'diffexp/comb_vs_decitabine_delta_exp/msigdb_v7.4_c5.go/pvmatrix.txt',\n",
       " 'diffexp/comb_vs_decitabine_delta_exp/msigdb_v7.4_c5.go.bp/pvmatrix.txt']"
      ]
     },
     "execution_count": 29,
     "metadata": {},
     "output_type": "execute_result"
    }
   ],
   "source": [
    "ipd.detect_gs_cluster(\n",
    "    get_pvmatrix_list(\"diffexp/comb_vs_decitabine_delta_exp\",\"c\"),\n",
    "    \"GOBP_T_CELL_PROLIFERATION\"\n",
    ")"
   ]
  },
  {
   "cell_type": "code",
   "execution_count": 30,
   "id": "f0019146-ff9a-4192-afea-b0264df09919",
   "metadata": {},
   "outputs": [
    {
     "data": {
      "text/plain": [
       "['AGER',\n",
       " 'BAX',\n",
       " 'BMP4',\n",
       " 'CD151',\n",
       " 'CD1D',\n",
       " 'CD46',\n",
       " 'CD81',\n",
       " 'DOCK2',\n",
       " 'HLA-DMB',\n",
       " 'IL6ST',\n",
       " 'IRF1',\n",
       " 'LGALS9C',\n",
       " 'PNP',\n",
       " 'PRDX2',\n",
       " 'PTPN6',\n",
       " 'RASAL3',\n",
       " 'RC3H2',\n",
       " 'RIPK3',\n",
       " 'TGFBR2',\n",
       " 'TNFRSF1B',\n",
       " 'TP53',\n",
       " 'ANXA1',\n",
       " 'CCDC88B',\n",
       " 'CD276',\n",
       " 'CD55',\n",
       " 'CD70',\n",
       " 'CD80',\n",
       " 'CEBPB',\n",
       " 'CORO1A',\n",
       " 'DLG5',\n",
       " 'DOCK8',\n",
       " 'FKBP1B',\n",
       " 'FYN',\n",
       " 'HLA-A',\n",
       " 'HLA-E',\n",
       " 'IDO1',\n",
       " 'IL23A',\n",
       " 'LEP',\n",
       " 'MAD1L1',\n",
       " 'MARCHF7',\n",
       " 'PRKAR1A',\n",
       " 'PTPRC',\n",
       " 'SLC11A1',\n",
       " 'SOS2',\n",
       " 'SPTA1',\n",
       " 'TNFSF9',\n",
       " 'ZBTB7B',\n",
       " 'ZP3',\n",
       " 'CCL5',\n",
       " 'CCND3',\n",
       " 'CD3E',\n",
       " 'CD40LG',\n",
       " 'CD86',\n",
       " 'CRTAM',\n",
       " 'ICOSLG',\n",
       " 'IGF1',\n",
       " 'IL12B',\n",
       " 'IL1A',\n",
       " 'IL1B',\n",
       " 'IL20RB',\n",
       " 'IL2RA',\n",
       " 'LGALS3',\n",
       " 'LILRB2',\n",
       " 'PAWR',\n",
       " 'PTPN22',\n",
       " 'SASH3',\n",
       " 'SDC4',\n",
       " 'SFTPD',\n",
       " 'TNFRSF14',\n",
       " 'TNFRSF4',\n",
       " 'TNFSF14',\n",
       " 'VSIR']"
      ]
     },
     "execution_count": 30,
     "metadata": {},
     "output_type": "execute_result"
    }
   ],
   "source": [
    "[gene for clust in ['8','9','10'] for gene in list(ipd.bin_identifier_genes(\n",
    "    \"diffexp/comb_vs_decitabine_delta_exp/msigdb_v7.4_c5.all\",clust,\n",
    "    'GOBP_T_CELL_PROLIFERATION'\n",
    ").values())[0]]"
   ]
  },
  {
   "cell_type": "markdown",
   "id": "bb6fe6e3-3851-4b32-bfe0-4e04f381d31b",
   "metadata": {
    "jp-MarkdownHeadingCollapsed": true,
    "tags": []
   },
   "source": [
    "### "
   ]
  },
  {
   "cell_type": "code",
   "execution_count": null,
   "id": "acf5197c-63c6-43b3-a5f9-480682d9aeb6",
   "metadata": {},
   "outputs": [],
   "source": []
  },
  {
   "cell_type": "markdown",
   "id": "7bd63fb9-83c6-4c74-b495-9f583a4fafd7",
   "metadata": {
    "tags": []
   },
   "source": [
    "# comb_vs_dmso"
   ]
  },
  {
   "cell_type": "code",
   "execution_count": 8,
   "id": "1072d6a4-0355-414e-a5c8-dbf5476cc2be",
   "metadata": {},
   "outputs": [],
   "source": [
    "pvmat_comb_vs_dmso = get_pv_signal(\n",
    "    'diffexp/comb_vs_dmso_delta_exp',[\n",
    "        'c5.go',\n",
    "        'c2.cp.kegg'\n",
    "    ]\n",
    ")"
   ]
  },
  {
   "cell_type": "code",
   "execution_count": 232,
   "id": "90337781-e518-42de-8fee-fdff58a4ed14",
   "metadata": {},
   "outputs": [
    {
     "name": "stdout",
     "output_type": "stream",
     "text": [
      "removed ‘temp-pvmatrix.txt’\n"
     ]
    }
   ],
   "source": [
    "os.chdir(\"diffexp\")\n",
    "get_pv_signal('comb_vs_dmso_delta_exp',[\n",
    "    'c5.go',\n",
    "    # 'h.all'\n",
    "],'comb_vs_dmso_delta_exp-GO.pdf')\n",
    "os.chdir(\"..\")"
   ]
  },
  {
   "cell_type": "markdown",
   "id": "2d95a82f-27a6-44d8-a5b5-74ccb7a80d48",
   "metadata": {
    "tags": []
   },
   "source": [
    "# Interpret!"
   ]
  },
  {
   "cell_type": "markdown",
   "id": "8ebdb769-1554-4395-99ac-f980187a38e5",
   "metadata": {},
   "source": [
    "Alex: \n",
    "\n",
    "> Figure 6 is something I made with Kevin\n",
    "> > KRASG12 inhibition produces a driver-limited state revealing collateral dependencies https://pubmed.ncbi.nlm.nih.gov/31138768/\n",
    "\n",
    " \n",
    "> So I think we’re trying to find out the mechanism of RG3039 + DAC synergy"
   ]
  },
  {
   "cell_type": "code",
   "execution_count": null,
   "id": "93fc6e3c-396d-4eef-82aa-f8ffe35a36ab",
   "metadata": {},
   "outputs": [],
   "source": []
  },
  {
   "cell_type": "markdown",
   "id": "8acfc728-0851-48c0-a8c3-f34b59297c1e",
   "metadata": {},
   "source": [
    "### GOBP_POSITIVE_REGULATION_OF_TUMOR_NECROSIS_FACTOR_SUPERFAMILY_CYTOKINE_PRODUCTION"
   ]
  },
  {
   "cell_type": "code",
   "execution_count": 19,
   "id": "afc68d3b-8d6d-4bbe-af8b-345c90dab088",
   "metadata": {},
   "outputs": [],
   "source": [
    "gs = 'GOBP_POSITIVE_REGULATION_OF_TUMOR_NECROSIS_FACTOR_SUPERFAMILY_CYTOKINE_PRODUCTION'"
   ]
  },
  {
   "cell_type": "code",
   "execution_count": 20,
   "id": "d66ac6fc-74d7-4125-8406-32eb8626ba42",
   "metadata": {},
   "outputs": [
    {
     "data": {
      "text/plain": [
       "['diffexp/comb_vs_decitabine_delta_exp_fdr/msigdb_v7.4_c5.all/pvmatrix.txt',\n",
       " 'diffexp/comb_vs_decitabine_delta_exp_fdr/msigdb_v7.4_c5.go/pvmatrix.txt',\n",
       " 'diffexp/comb_vs_decitabine_delta_exp_fdr/msigdb_v7.4_c5.go.bp/pvmatrix.txt',\n",
       " 'diffexp/comb_vs_decitabine_delta_exp/msigdb_v7.4_c5.all/pvmatrix.txt',\n",
       " 'diffexp/comb_vs_decitabine_delta_exp/msigdb_v7.4_c5.go/pvmatrix.txt',\n",
       " 'diffexp/comb_vs_decitabine_delta_exp/msigdb_v7.4_c5.go.bp/pvmatrix.txt']"
      ]
     },
     "execution_count": 20,
     "metadata": {},
     "output_type": "execute_result"
    }
   ],
   "source": [
    "ipd.detect_gs_cluster(\n",
    "    get_pvmatrix_list(\"diffexp/comb_vs_decitabine_delta_exp*\",\"c\"),gs\n",
    ")"
   ]
  },
  {
   "cell_type": "code",
   "execution_count": 44,
   "id": "7878df08-eaa0-4ca4-9134-936315445ef7",
   "metadata": {},
   "outputs": [
    {
     "data": {
      "text/plain": [
       "['ADAM8',\n",
       " 'CCL3',\n",
       " 'CCR2',\n",
       " 'CD14',\n",
       " 'CD86',\n",
       " 'HLA-E',\n",
       " 'IL12B',\n",
       " 'IL23A',\n",
       " 'LILRA2',\n",
       " 'LILRA5',\n",
       " 'MAPKAPK2',\n",
       " 'NOD2',\n",
       " 'ORM1',\n",
       " 'ORM2',\n",
       " 'PTAFR',\n",
       " 'PTPRC',\n",
       " 'PTPRJ',\n",
       " 'THBS1',\n",
       " 'TLR4',\n",
       " 'TLR9',\n",
       " 'TYROBP']"
      ]
     },
     "execution_count": 44,
     "metadata": {},
     "output_type": "execute_result"
    }
   ],
   "source": [
    "[\n",
    "    g for n in [10] for g in list(ipd.bin_identifier_genes(\n",
    "        'diffexp/comb_vs_decitabine_delta_exp_fdr/msigdb_v7.4_c5.go.bp',str(n),gs\n",
    "    ).values())[0] \n",
    "]"
   ]
  },
  {
   "cell_type": "code",
   "execution_count": null,
   "id": "a93b63b4-c523-4574-99f3-56cbac7a4916",
   "metadata": {},
   "outputs": [],
   "source": []
  },
  {
   "cell_type": "code",
   "execution_count": null,
   "id": "c0713332-98c9-4681-9403-4391d6f96dba",
   "metadata": {},
   "outputs": [],
   "source": []
  },
  {
   "cell_type": "code",
   "execution_count": null,
   "id": "8095bcea-0e5e-496e-bb61-a610a29612dc",
   "metadata": {},
   "outputs": [],
   "source": []
  },
  {
   "cell_type": "code",
   "execution_count": null,
   "id": "ec3f091e-d05f-4ea0-a933-91d356e0d3b2",
   "metadata": {},
   "outputs": [],
   "source": []
  },
  {
   "cell_type": "markdown",
   "id": "7c05c289-6324-4c35-97ad-3a619bc0d523",
   "metadata": {},
   "source": [
    "### GOBP_POSITIVE_REGULATION_OF_MYELOID_CELL_DIFFERENTIATION\n",
    "\n",
    "> In the combo vs. DMSO, positive regulation of myeloid cell differentiation is interesting. Can we take a look at expression of genes in that annotation?"
   ]
  },
  {
   "cell_type": "code",
   "execution_count": 10,
   "id": "f6b4df12-6af7-4b52-aa6a-27c619bfb581",
   "metadata": {},
   "outputs": [],
   "source": [
    "gs = 'GOBP_POSITIVE_REGULATION_OF_MYELOID_CELL_DIFFERENTIATION'"
   ]
  },
  {
   "cell_type": "code",
   "execution_count": 11,
   "id": "72c4057f-b840-4dbb-a41a-613f1ad32b86",
   "metadata": {},
   "outputs": [
    {
     "data": {
      "text/plain": [
       "['diffexp/comb_vs_decitabine_delta_exp_fdr/msigdb_v7.4_c5.all/pvmatrix.txt',\n",
       " 'diffexp/comb_vs_decitabine_delta_exp_fdr/msigdb_v7.4_c5.go/pvmatrix.txt',\n",
       " 'diffexp/comb_vs_decitabine_delta_exp_fdr/msigdb_v7.4_c5.go.bp/pvmatrix.txt']"
      ]
     },
     "execution_count": 11,
     "metadata": {},
     "output_type": "execute_result"
    }
   ],
   "source": [
    "ipd.detect_gs_cluster(\n",
    "    get_pvmatrix_list(\"diffexp/comb_vs_decitabine_delta_exp*\",\"c\"),\n",
    "    \"GOBP_POSITIVE_REGULATION_OF_MYELOID_CELL_DIFFERENTIATION\"\n",
    ")"
   ]
  },
  {
   "cell_type": "code",
   "execution_count": 12,
   "id": "c7806f7f-0360-45e2-8191-619d65e90ba4",
   "metadata": {},
   "outputs": [
    {
     "data": {
      "text/plain": [
       "{'GOBP_POSITIVE_REGULATION_OF_MYELOID_CELL_DIFFERENTIATION': {0: 'CD74,CTNNBIP1,GNAS,IL23R,PPARGC1B,PRKDC,SLC9B2,STAT5B',\n",
       "  1: 'FAM210B,HMGB1,PITHD1,PRMT1,ROR2,RUNX1,SMAP1,TESC,TGFB1',\n",
       "  2: 'HSPA1B,INHBA,MED1,TMEM64,ZNF16',\n",
       "  8: 'ANKRD54,CSF1,FADD,HAX1,INPP5D,MAPK14,NCKAP1L,RIPK1,STAT3',\n",
       "  9: 'ACVR2A,ATP6AP1,FES,HCLS1,HIF1A,HMGB2,JAG1,NOTCH2,OCSTAMP,POU4F1,RB1,RCOR1,STAT1',\n",
       "  10: 'BRD1,CCR1,CD101,ETS1,EVI2B,FOS,FOXO3,GATA1,GATA2,GPR68,IL12B,IL23A,ISG15,JUN,RAB7B,RHEX,SCIN,TNF,TRIB1,TYROBP'}}"
      ]
     },
     "execution_count": 12,
     "metadata": {},
     "output_type": "execute_result"
    }
   ],
   "source": [
    "pd.DataFrame([\n",
    "    (n,','.join(list(ipd.bin_identifier_genes(\n",
    "        'diffexp/comb_vs_decitabine_delta_exp_fdr/msigdb_v7.4_c5.go',str(n),gs\n",
    "    ).values())[0])) for n in [0,1,2,8,9,10]\n",
    "],columns=['clust',gs]).set_index('clust').to_dict()"
   ]
  },
  {
   "cell_type": "markdown",
   "id": "bc387ee5-b7f0-44d9-839e-a2e7312e151c",
   "metadata": {},
   "source": [
    "### \n",
    "\n",
    "\n",
    "> We want to look for a group of genes that show synergistic upregulation in the combination.\n",
    "\n",
    "> For example, low expression in the DMSO condition, moderate levels of expression in DAC and/or RG3039, and then high levels of expression in the combination\n",
    "\n",
    "> Or reverse\n",
    "(downregulation)\n",
    "\n",
    "> The comparison is a great start. But now we need to look at expression in each of the individual conditions\n",
    "\n",
    "> I would also look at TNF genes (the first annotation in combination vs. decitabine)"
   ]
  },
  {
   "cell_type": "code",
   "execution_count": 27,
   "id": "88ec8789-30bf-4098-9c5c-0b676884bb43",
   "metadata": {},
   "outputs": [
    {
     "data": {
      "text/html": [
       "\n",
       "        <iframe\n",
       "            width=\"600\"\n",
       "            height=\"300\"\n",
       "            src=\"diffexp/comb_vs_decitabine_delta_exp-GO.pdf\"\n",
       "            frameborder=\"0\"\n",
       "            allowfullscreen\n",
       "        ></iframe>\n",
       "        "
      ],
      "text/plain": [
       "<IPython.lib.display.IFrame at 0x7f33d71e8320>"
      ]
     },
     "execution_count": 27,
     "metadata": {},
     "output_type": "execute_result"
    }
   ],
   "source": [
    "from IPython.display import IFrame\n",
    "IFrame(\"diffexp/comb_vs_decitabine_delta_exp-GO.pdf\", width=600, height=300)"
   ]
  },
  {
   "cell_type": "code",
   "execution_count": 29,
   "id": "1a80201a-db51-4794-b303-e2b98847fabe",
   "metadata": {},
   "outputs": [],
   "source": [
    "# pvmat_comb_vs_decitabine.index"
   ]
  },
  {
   "cell_type": "code",
   "execution_count": 30,
   "id": "befd8022-09ce-49dc-a602-c493f4caea51",
   "metadata": {},
   "outputs": [],
   "source": [
    "gs = 'GOBP_POSITIVE_REGULATION_OF_TUMOR_NECROSIS_FACTOR_SUPERFAMILY_CYTOKINE_PRODUCTION'"
   ]
  },
  {
   "cell_type": "code",
   "execution_count": 31,
   "id": "45be94ed-6daf-4500-8c3b-7769b41cffda",
   "metadata": {},
   "outputs": [
    {
     "data": {
      "text/plain": [
       "['diffexp/comb_vs_decitabine_delta_exp_fdr/msigdb_v7.4_c5.all/pvmatrix.txt',\n",
       " 'diffexp/comb_vs_decitabine_delta_exp_fdr/msigdb_v7.4_c5.go/pvmatrix.txt',\n",
       " 'diffexp/comb_vs_decitabine_delta_exp_fdr/msigdb_v7.4_c5.go.bp/pvmatrix.txt',\n",
       " 'diffexp/comb_vs_decitabine_delta_exp/msigdb_v7.4_c5.all/pvmatrix.txt',\n",
       " 'diffexp/comb_vs_decitabine_delta_exp/msigdb_v7.4_c5.go/pvmatrix.txt',\n",
       " 'diffexp/comb_vs_decitabine_delta_exp/msigdb_v7.4_c5.go.bp/pvmatrix.txt']"
      ]
     },
     "execution_count": 31,
     "metadata": {},
     "output_type": "execute_result"
    }
   ],
   "source": [
    "ipd.detect_gs_cluster(\n",
    "    get_pvmatrix_list(\"diffexp/comb_vs_decitabine_delta_exp*\",\"c\"),gs\n",
    ")"
   ]
  },
  {
   "cell_type": "code",
   "execution_count": 32,
   "id": "002f9eb2-eae1-42b9-a230-80a1b8de4aeb",
   "metadata": {},
   "outputs": [
    {
     "data": {
      "text/plain": [
       "{'GOBP_POSITIVE_REGULATION_OF_TUMOR_NECROSIS_FACTOR_SUPERFAMILY_CYTOKINE_PRODUCTION': {0: 'AZU1,DDT,LGALS9,LPL,MMP8',\n",
       "  1: 'BCL10,DHX9,HDAC2,HMGB1',\n",
       "  2: 'ARHGEF2,MAVS,MIF,NOD1',\n",
       "  8: 'CLU,FADD,JAK2,RIPK1,STAT3',\n",
       "  9: 'IFIH1,IL1A,PSEN1,SASH3,SPN',\n",
       "  10: 'ADAM8,CCL3,CCR2,CD14,CD86,HLA-E,IL12B,IL23A,LILRA2,LILRA5,MAPKAPK2,NOD2,ORM1,ORM2,PTAFR,PTPRC,PTPRJ,THBS1,TLR4,TLR9,TYROBP'}}"
      ]
     },
     "execution_count": 32,
     "metadata": {},
     "output_type": "execute_result"
    }
   ],
   "source": [
    "pd.DataFrame([\n",
    "    (n,','.join(list(ipd.bin_identifier_genes(\n",
    "        'diffexp/comb_vs_decitabine_delta_exp_fdr/msigdb_v7.4_c5.go',str(n),gs\n",
    "    ).values())[0])) for n in [0,1,2,8,9,10]\n",
    "],columns=['clust',gs]).set_index('clust').to_dict()"
   ]
  },
  {
   "cell_type": "code",
   "execution_count": null,
   "id": "353c326f-d1dd-46e3-9d53-5d3ffdc4b17d",
   "metadata": {},
   "outputs": [],
   "source": []
  },
  {
   "cell_type": "markdown",
   "id": "9ac87604-76e2-4b1e-a905-18677a67f9dd",
   "metadata": {},
   "source": [
    "___\n",
    "# "
   ]
  },
  {
   "cell_type": "code",
   "execution_count": 162,
   "id": "e199fac0-65d4-44b5-b94e-7f0980cc91f0",
   "metadata": {},
   "outputs": [
    {
     "name": "stdout",
     "output_type": "stream",
     "text": [
      "Thu Aug  4 18:13:12 PDT 2022\n"
     ]
    }
   ],
   "source": [
    "!date"
   ]
  },
  {
   "cell_type": "code",
   "execution_count": null,
   "id": "fcf19cb6-95b8-4e03-a164-1d227f0fcf70",
   "metadata": {},
   "outputs": [],
   "source": []
  },
  {
   "cell_type": "code",
   "execution_count": null,
   "id": "9ee64a5c-a97f-45c4-b606-57e4563e6559",
   "metadata": {},
   "outputs": [],
   "source": []
  },
  {
   "cell_type": "code",
   "execution_count": null,
   "id": "e8d5b94f-6780-4fc7-8249-a9b332f24222",
   "metadata": {},
   "outputs": [],
   "source": []
  },
  {
   "cell_type": "code",
   "execution_count": null,
   "id": "4798c599-2e2e-4396-9e0f-848f9306cf9c",
   "metadata": {},
   "outputs": [],
   "source": []
  }
 ],
 "metadata": {
  "kernelspec": {
   "display_name": "Python [conda env:pypage]",
   "language": "python",
   "name": "conda-env-pypage-py"
  },
  "language_info": {
   "codemirror_mode": {
    "name": "ipython",
    "version": 3
   },
   "file_extension": ".py",
   "mimetype": "text/x-python",
   "name": "python",
   "nbconvert_exporter": "python",
   "pygments_lexer": "ipython3",
   "version": "3.11.5"
  }
 },
 "nbformat": 4,
 "nbformat_minor": 5
}
