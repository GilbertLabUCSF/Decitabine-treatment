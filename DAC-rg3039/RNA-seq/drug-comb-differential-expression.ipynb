{
 "cells": [
  {
   "cell_type": "markdown",
   "metadata": {
    "jp-MarkdownHeadingCollapsed": true,
    "tags": []
   },
   "source": [
    "# Decitabine and rg3039 treatment RNA-Seq experiments\n",
    "Decitabine -> DNMT1 inhibitor \n",
    "\n",
    "rg3039 -> DCPS inhibitor\n",
    "\n",
    "- ### [Pre-processing](#Pre-processing)\n",
    "- ### [Differential expression analysis using `DESeq2`](#Differential-expression-analysis-using-DESeq2)"
   ]
  },
  {
   "cell_type": "markdown",
   "metadata": {
    "jp-MarkdownHeadingCollapsed": true,
    "tags": []
   },
   "source": [
    "# Pre-processing "
   ]
  },
  {
   "cell_type": "markdown",
   "metadata": {},
   "source": [
    "I'm mapping `hg38/gencode.v34` to the `fastq` files using salmon. "
   ]
  },
  {
   "cell_type": "code",
   "execution_count": 1,
   "metadata": {
    "tags": []
   },
   "outputs": [],
   "source": [
    "# %%bash \n",
    "# nohup bash scripts/salmon.sh \\\n",
    "# ~/Gilbertlab/Decitabine_treatment/RNA-seq/hl60-exp \\\n",
    "# ~/Gilbertlab/Decitabine_treatment/RNA-seq/hl60-fastq \\\n",
    "# ~/genomes/hg38/gencode.v34/salmon_index/ > hl60-salmon.out&"
   ]
  },
  {
   "cell_type": "markdown",
   "metadata": {
    "tags": []
   },
   "source": [
    "# Differential expression analysis using `DESeq2`"
   ]
  },
  {
   "cell_type": "markdown",
   "metadata": {
    "jp-MarkdownHeadingCollapsed": true,
    "tags": []
   },
   "source": [
    "## Load packages and functions"
   ]
  },
  {
   "cell_type": "code",
   "execution_count": 2,
   "metadata": {
    "tags": []
   },
   "outputs": [],
   "source": [
    "# %load_ext rpy2.ipython"
   ]
  },
  {
   "cell_type": "code",
   "execution_count": 3,
   "metadata": {
    "tags": []
   },
   "outputs": [],
   "source": [
    "# %%R \n",
    "suppressMessages(suppressWarnings(library (GenomicFeatures)))\n",
    "suppressMessages(suppressWarnings(library (tximport)))\n",
    "suppressMessages(suppressWarnings(library (tidyverse)))\n",
    "suppressMessages(suppressWarnings(library (ggplot2)))\n",
    "suppressMessages(suppressWarnings(library (ggrepel)))\n",
    "suppressMessages(suppressWarnings(library (DESeq2)))\n",
    "suppressMessages(suppressWarnings(library (patchwork)))\n",
    "suppressMessages(suppressWarnings(library (BiocParallel)))\n",
    "suppressMessages(suppressWarnings(library(gridExtra)))\n",
    "library(grid)\n",
    "library(ggthemes)\n",
    "\n",
    "register(MulticoreParam(18))"
   ]
  },
  {
   "cell_type": "code",
   "execution_count": 4,
   "metadata": {
    "tags": []
   },
   "outputs": [],
   "source": [
    "source(\"../../scripts/util.R\")"
   ]
  },
  {
   "cell_type": "markdown",
   "metadata": {},
   "source": [
    "- https://medium.com/analytics-vidhya/ggplot2-themes-for-publication-ready-plots-including-dark-themes-9cd65cc5a7e3\n",
    "\n",
    "- https://rpubs.com/Koundy/71792"
   ]
  },
  {
   "cell_type": "code",
   "execution_count": 5,
   "metadata": {
    "tags": []
   },
   "outputs": [],
   "source": [
    "# Filter non-informative genes:\n",
    "filter_low_counts <- function (dds_in , min_count=10){\n",
    "    # all samples with a count of higher than `min_count`\n",
    "    keep <- rowSums(counts(dds_in ) > min_count) == ncol(dds_in )\n",
    "    # at least 3 samples with a count of 10 or higher\n",
    "    # keep <- rowSums(counts(dds) >= 10) >= 3\n",
    "    dds_out <- dds_in [keep,]\n",
    "    print (paste (nrow(dds_in), 'genes filtered to ->' , nrow(dds_out),'genes!', sep=' ') )\n",
    "    return (dds_out)\n",
    "}\n",
    "\n",
    "\n",
    "plot_PCA <- function(vsd, colData, labels='', gr=c('cond'), title='', leg=\"none\"){\n",
    "    z <- plotPCA(vsd,intgroup=gr, returnData=TRUE)\n",
    "    percentVar <- round(100 * attr(z, \"percentVar\"))\n",
    "    pca <- ggplot(z, aes(PC1, PC2)) +\n",
    "            geom_point(aes(colour=group), alpha = 4/10,size=12) + \n",
    "            geom_point(shape = 1,size = 12,colour = \"black\") + \n",
    "            # geom_point(\n",
    "            #     aes(color=group), \n",
    "            #     \n",
    "            # size=10,\n",
    "            # stroke = 0.5\n",
    "            # ) +\n",
    "            geom_text_repel(\n",
    "                aes(label = labels),\n",
    "                box.padding = 1.5, max.overlaps = Inf\n",
    "            ) + #,size = 3.5)) +\n",
    "            xlab(paste0(\"PC1: \",percentVar[1],\"% variance\")) +\n",
    "            ylab(paste0(\"PC2: \",percentVar[2],\"% variance\")) +\n",
    "            ggtitle (title) + \n",
    "            scale_colour_Publication() + \n",
    "            theme_Publication(legend.position='top') +\n",
    "            guides (size = 'none') + theme(legend.title = element_blank()) \n",
    "    return (pca)\n",
    "}"
   ]
  },
  {
   "cell_type": "code",
   "execution_count": 6,
   "metadata": {
    "tags": []
   },
   "outputs": [],
   "source": [
    "write_Result <- function(res, name_it, col=FALSE, row=FALSE){\n",
    "    write.table(res,name_it, sep=\"\\t\", quote=FALSE, col.names=col, row.names=row)\n",
    "}\n",
    "\n",
    "\n",
    "correct_batch <- function (dds,gr,out,labels='',title=''){\n",
    "    vsd <- varianceStabilizingTransformation(dds, blind=FALSE)\n",
    "    p0 <- plot_PCA(vsd, gr, labels=labels,title=paste0(title,' Before removeBatchEffect'))\n",
    "    mat <- assay(vsd)\n",
    "    \n",
    "    mat <- limma::removeBatchEffect(mat, vsd$reps) # batch is same as time \n",
    "    assay(vsd) <- mat\n",
    "    p1 <- plot_PCA(vsd, gr, labels=labels,title=paste0(title,' After removeBatchEffect'))\n",
    "    counts_batch_corrected <- assay(vsd)\n",
    "    \n",
    "    if (out == 'plot') {return (p0 + p1)}\n",
    "    if (out == 'plot1'){return (p1)}\n",
    "    if (out == 'vsd')  {return (vsd)}\n",
    "    if (out == 'cbc')  {return (counts_batch_corrected)}\n",
    "}\n",
    "\n",
    "\n",
    "ann_Result <- function(res){\n",
    "    return (\n",
    "        res %>% data.frame %>% \n",
    "        add_column(gene_name=gene2name[rownames(res),]) %>%\n",
    "        add_column(gene_id=rownames(res)) %>% \n",
    "        select (gene_id,gene_name,everything())\n",
    "    )\n",
    "}\n",
    "\n",
    "plot_gene_counts <- function (dds, gene_id,gene_name){\n",
    "    fiss <- plotCounts(dds, gene_id, intgroup = c(\"cond\"), returnData = TRUE)\n",
    "\n",
    "    p <- ggplot(fiss,\n",
    "      aes(x = cond, y = count, color = cond)) + \n",
    "      geom_point(size=5,alpha=8/10) + stat_summary(fun=mean, geom=\"line\") +\n",
    "      scale_y_log10() + \n",
    "      theme_bw() + \n",
    "      ggtitle(gene_name)\n",
    "    \n",
    "    return (p + theme_Publication())\n",
    "}"
   ]
  },
  {
   "cell_type": "markdown",
   "metadata": {
    "jp-MarkdownHeadingCollapsed": true,
    "tags": []
   },
   "source": [
    "## Load annotations"
   ]
  },
  {
   "cell_type": "code",
   "execution_count": 7,
   "metadata": {
    "tags": []
   },
   "outputs": [
    {
     "name": "stderr",
     "output_type": "stream",
     "text": [
      "Import genomic features from the file as a GRanges object ... \n",
      "OK\n",
      "\n",
      "Prepare the 'metadata' data frame ... \n",
      "OK\n",
      "\n",
      "Make the TxDb object ... \n",
      "Warning message in .get_cds_IDX(mcols0$type, mcols0$phase):\n",
      "“The \"phase\" metadata column contains non-NA values for features of type\n",
      "  stop_codon. This information was ignored.”\n",
      "OK\n",
      "\n",
      "'select()' returned 1:1 mapping between keys and columns\n",
      "\n"
     ]
    }
   ],
   "source": [
    "# %%R\n",
    "GTF = '~/genomes/hg38/gencode.v34/gencode.v34.annotation.gtf'\n",
    "gtf <- rtracklayer::import(GTF)\n",
    "gene2name <- gtf[gtf$type == \"gene\"] %>% \n",
    "    data.frame %>% \n",
    "    column_to_rownames('gene_id') %>% \n",
    "    dplyr::select('gene_name')\n",
    "\n",
    "txdb  = makeTxDbFromGFF(GTF,organism='Homo sapiens')\n",
    "# tx2gene objects \n",
    "k <- keys(txdb, keytype = \"TXNAME\")\n",
    "tx2gene <- AnnotationDbi::select(txdb, k, \"GENEID\", \"TXNAME\")"
   ]
  },
  {
   "cell_type": "code",
   "execution_count": 8,
   "metadata": {
    "tags": []
   },
   "outputs": [],
   "source": [
    "# %%R \n",
    "tx2name <- gtf[gtf$type == \"transcript\"] %>% \n",
    "    data.frame %>% column_to_rownames('transcript_id') %>% \n",
    "    dplyr::select('transcript_name')"
   ]
  },
  {
   "cell_type": "markdown",
   "metadata": {
    "jp-MarkdownHeadingCollapsed": true,
    "tags": []
   },
   "source": [
    "## Load salmon quant files"
   ]
  },
  {
   "cell_type": "markdown",
   "metadata": {},
   "source": [
    "List every salmon quant files"
   ]
  },
  {
   "cell_type": "code",
   "execution_count": 9,
   "metadata": {
    "tags": []
   },
   "outputs": [],
   "source": [
    "# %%R\n",
    "files <- list.files(path='./quants', pattern=\"quant.sf\",full.names = TRUE, recursive=T)\n",
    "names(files) <- gsub(\"./quants/(\\\\S+)/quant.sf\",\"\\\\1\",files)"
   ]
  },
  {
   "cell_type": "code",
   "execution_count": 10,
   "metadata": {
    "tags": []
   },
   "outputs": [
    {
     "data": {
      "text/html": [
       "<style>\n",
       ".dl-inline {width: auto; margin:0; padding: 0}\n",
       ".dl-inline>dt, .dl-inline>dd {float: none; width: auto; display: inline-block}\n",
       ".dl-inline>dt::after {content: \":\\0020\"; padding-right: .5ex}\n",
       ".dl-inline>dt:not(:first-of-type) {padding-left: .5ex}\n",
       "</style><dl class=dl-inline><dt>hl60_combination_1</dt><dd>'./quants/hl60_combination_1/quant.sf'</dd><dt>hl60_combination_2</dt><dd>'./quants/hl60_combination_2/quant.sf'</dd><dt>hl60_decitabine_1</dt><dd>'./quants/hl60_decitabine_1/quant.sf'</dd><dt>hl60_decitabine_2</dt><dd>'./quants/hl60_decitabine_2/quant.sf'</dd><dt>hl60_dmso_1</dt><dd>'./quants/hl60_dmso_1/quant.sf'</dd><dt>hl60_dmso_2</dt><dd>'./quants/hl60_dmso_2/quant.sf'</dd><dt>hl60_rg3039_1</dt><dd>'./quants/hl60_rg3039_1/quant.sf'</dd><dt>hl60_rg3039_2</dt><dd>'./quants/hl60_rg3039_2/quant.sf'</dd></dl>\n"
      ],
      "text/latex": [
       "\\begin{description*}\n",
       "\\item[hl60\\textbackslash{}\\_combination\\textbackslash{}\\_1] './quants/hl60\\_combination\\_1/quant.sf'\n",
       "\\item[hl60\\textbackslash{}\\_combination\\textbackslash{}\\_2] './quants/hl60\\_combination\\_2/quant.sf'\n",
       "\\item[hl60\\textbackslash{}\\_decitabine\\textbackslash{}\\_1] './quants/hl60\\_decitabine\\_1/quant.sf'\n",
       "\\item[hl60\\textbackslash{}\\_decitabine\\textbackslash{}\\_2] './quants/hl60\\_decitabine\\_2/quant.sf'\n",
       "\\item[hl60\\textbackslash{}\\_dmso\\textbackslash{}\\_1] './quants/hl60\\_dmso\\_1/quant.sf'\n",
       "\\item[hl60\\textbackslash{}\\_dmso\\textbackslash{}\\_2] './quants/hl60\\_dmso\\_2/quant.sf'\n",
       "\\item[hl60\\textbackslash{}\\_rg3039\\textbackslash{}\\_1] './quants/hl60\\_rg3039\\_1/quant.sf'\n",
       "\\item[hl60\\textbackslash{}\\_rg3039\\textbackslash{}\\_2] './quants/hl60\\_rg3039\\_2/quant.sf'\n",
       "\\end{description*}\n"
      ],
      "text/markdown": [
       "hl60_combination_1\n",
       ":   './quants/hl60_combination_1/quant.sf'hl60_combination_2\n",
       ":   './quants/hl60_combination_2/quant.sf'hl60_decitabine_1\n",
       ":   './quants/hl60_decitabine_1/quant.sf'hl60_decitabine_2\n",
       ":   './quants/hl60_decitabine_2/quant.sf'hl60_dmso_1\n",
       ":   './quants/hl60_dmso_1/quant.sf'hl60_dmso_2\n",
       ":   './quants/hl60_dmso_2/quant.sf'hl60_rg3039_1\n",
       ":   './quants/hl60_rg3039_1/quant.sf'hl60_rg3039_2\n",
       ":   './quants/hl60_rg3039_2/quant.sf'\n",
       "\n"
      ],
      "text/plain": [
       "                    hl60_combination_1                     hl60_combination_2 \n",
       "\"./quants/hl60_combination_1/quant.sf\" \"./quants/hl60_combination_2/quant.sf\" \n",
       "                     hl60_decitabine_1                      hl60_decitabine_2 \n",
       " \"./quants/hl60_decitabine_1/quant.sf\"  \"./quants/hl60_decitabine_2/quant.sf\" \n",
       "                           hl60_dmso_1                            hl60_dmso_2 \n",
       "       \"./quants/hl60_dmso_1/quant.sf\"        \"./quants/hl60_dmso_2/quant.sf\" \n",
       "                         hl60_rg3039_1                          hl60_rg3039_2 \n",
       "     \"./quants/hl60_rg3039_1/quant.sf\"      \"./quants/hl60_rg3039_2/quant.sf\" "
      ]
     },
     "metadata": {},
     "output_type": "display_data"
    }
   ],
   "source": [
    "files"
   ]
  },
  {
   "cell_type": "code",
   "execution_count": 11,
   "metadata": {
    "tags": []
   },
   "outputs": [
    {
     "name": "stderr",
     "output_type": "stream",
     "text": [
      "reading in files with read_tsv\n",
      "\n",
      "1 \n",
      "2 \n",
      "3 \n",
      "4 \n",
      "5 \n",
      "6 \n",
      "7 \n",
      "8 \n",
      "\n",
      "\n",
      "summarizing abundance\n",
      "\n",
      "summarizing counts\n",
      "\n",
      "summarizing length\n",
      "\n"
     ]
    }
   ],
   "source": [
    "txi <- tximport(files, type = \"salmon\", tx2gene = tx2gene, txOut=TRUE)\n",
    "\n",
    "txi.gene <- summarizeToGene(txi, tx2gene, ignoreAfterBar= TRUE)"
   ]
  },
  {
   "cell_type": "code",
   "execution_count": 12,
   "metadata": {
    "tags": []
   },
   "outputs": [
    {
     "data": {
      "text/html": [
       "<style>\n",
       ".list-inline {list-style: none; margin:0; padding: 0}\n",
       ".list-inline>li {display: inline-block}\n",
       ".list-inline>li:not(:last-child)::after {content: \"\\00b7\"; padding: 0 .5ex}\n",
       "</style>\n",
       "<ol class=list-inline><li>'hl60_combination_1'</li><li>'hl60_combination_2'</li><li>'hl60_decitabine_1'</li><li>'hl60_decitabine_2'</li><li>'hl60_dmso_1'</li><li>'hl60_dmso_2'</li><li>'hl60_rg3039_1'</li><li>'hl60_rg3039_2'</li></ol>\n"
      ],
      "text/latex": [
       "\\begin{enumerate*}\n",
       "\\item 'hl60\\_combination\\_1'\n",
       "\\item 'hl60\\_combination\\_2'\n",
       "\\item 'hl60\\_decitabine\\_1'\n",
       "\\item 'hl60\\_decitabine\\_2'\n",
       "\\item 'hl60\\_dmso\\_1'\n",
       "\\item 'hl60\\_dmso\\_2'\n",
       "\\item 'hl60\\_rg3039\\_1'\n",
       "\\item 'hl60\\_rg3039\\_2'\n",
       "\\end{enumerate*}\n"
      ],
      "text/markdown": [
       "1. 'hl60_combination_1'\n",
       "2. 'hl60_combination_2'\n",
       "3. 'hl60_decitabine_1'\n",
       "4. 'hl60_decitabine_2'\n",
       "5. 'hl60_dmso_1'\n",
       "6. 'hl60_dmso_2'\n",
       "7. 'hl60_rg3039_1'\n",
       "8. 'hl60_rg3039_2'\n",
       "\n",
       "\n"
      ],
      "text/plain": [
       "[1] \"hl60_combination_1\" \"hl60_combination_2\" \"hl60_decitabine_1\" \n",
       "[4] \"hl60_decitabine_2\"  \"hl60_dmso_1\"        \"hl60_dmso_2\"       \n",
       "[7] \"hl60_rg3039_1\"      \"hl60_rg3039_2\"     "
      ]
     },
     "metadata": {},
     "output_type": "display_data"
    }
   ],
   "source": [
    "names(files)"
   ]
  },
  {
   "cell_type": "markdown",
   "metadata": {
    "jp-MarkdownHeadingCollapsed": true,
    "tags": []
   },
   "source": [
    "### Define sample sheet"
   ]
  },
  {
   "cell_type": "code",
   "execution_count": 13,
   "metadata": {
    "tags": []
   },
   "outputs": [
    {
     "data": {
      "text/html": [
       "<table class=\"dataframe\">\n",
       "<caption>A data.frame: 8 × 2</caption>\n",
       "<thead>\n",
       "\t<tr><th></th><th scope=col>cond</th><th scope=col>reps</th></tr>\n",
       "\t<tr><th></th><th scope=col>&lt;fct&gt;</th><th scope=col>&lt;fct&gt;</th></tr>\n",
       "</thead>\n",
       "<tbody>\n",
       "\t<tr><th scope=row>hl60_combination_1</th><td>Combination</td><td>rep1</td></tr>\n",
       "\t<tr><th scope=row>hl60_combination_2</th><td>Combination</td><td>rep2</td></tr>\n",
       "\t<tr><th scope=row>hl60_decitabine_1</th><td>Decitabine </td><td>rep1</td></tr>\n",
       "\t<tr><th scope=row>hl60_decitabine_2</th><td>Decitabine </td><td>rep2</td></tr>\n",
       "\t<tr><th scope=row>hl60_dmso_1</th><td>DMSO       </td><td>rep1</td></tr>\n",
       "\t<tr><th scope=row>hl60_dmso_2</th><td>DMSO       </td><td>rep2</td></tr>\n",
       "\t<tr><th scope=row>hl60_rg3039_1</th><td>rg3039     </td><td>rep1</td></tr>\n",
       "\t<tr><th scope=row>hl60_rg3039_2</th><td>rg3039     </td><td>rep2</td></tr>\n",
       "</tbody>\n",
       "</table>\n"
      ],
      "text/latex": [
       "A data.frame: 8 × 2\n",
       "\\begin{tabular}{r|ll}\n",
       "  & cond & reps\\\\\n",
       "  & <fct> & <fct>\\\\\n",
       "\\hline\n",
       "\thl60\\_combination\\_1 & Combination & rep1\\\\\n",
       "\thl60\\_combination\\_2 & Combination & rep2\\\\\n",
       "\thl60\\_decitabine\\_1 & Decitabine  & rep1\\\\\n",
       "\thl60\\_decitabine\\_2 & Decitabine  & rep2\\\\\n",
       "\thl60\\_dmso\\_1 & DMSO        & rep1\\\\\n",
       "\thl60\\_dmso\\_2 & DMSO        & rep2\\\\\n",
       "\thl60\\_rg3039\\_1 & rg3039      & rep1\\\\\n",
       "\thl60\\_rg3039\\_2 & rg3039      & rep2\\\\\n",
       "\\end{tabular}\n"
      ],
      "text/markdown": [
       "\n",
       "A data.frame: 8 × 2\n",
       "\n",
       "| <!--/--> | cond &lt;fct&gt; | reps &lt;fct&gt; |\n",
       "|---|---|---|\n",
       "| hl60_combination_1 | Combination | rep1 |\n",
       "| hl60_combination_2 | Combination | rep2 |\n",
       "| hl60_decitabine_1 | Decitabine  | rep1 |\n",
       "| hl60_decitabine_2 | Decitabine  | rep2 |\n",
       "| hl60_dmso_1 | DMSO        | rep1 |\n",
       "| hl60_dmso_2 | DMSO        | rep2 |\n",
       "| hl60_rg3039_1 | rg3039      | rep1 |\n",
       "| hl60_rg3039_2 | rg3039      | rep2 |\n",
       "\n"
      ],
      "text/plain": [
       "                   cond        reps\n",
       "hl60_combination_1 Combination rep1\n",
       "hl60_combination_2 Combination rep2\n",
       "hl60_decitabine_1  Decitabine  rep1\n",
       "hl60_decitabine_2  Decitabine  rep2\n",
       "hl60_dmso_1        DMSO        rep1\n",
       "hl60_dmso_2        DMSO        rep2\n",
       "hl60_rg3039_1      rg3039      rep1\n",
       "hl60_rg3039_2      rg3039      rep2"
      ]
     },
     "metadata": {},
     "output_type": "display_data"
    }
   ],
   "source": [
    "# meta \n",
    "conds  <- factor(c(\n",
    "    rep('Combination',2),rep('Decitabine',2),rep('DMSO',2),rep('rg3039',2)\n",
    "), levels = c('DMSO','Decitabine','rg3039','Combination'))\n",
    "\n",
    "reps <- factor(c(\n",
    "    rep(c('rep1','rep2'),4)\n",
    "),c('rep1','rep2'))\n",
    "\n",
    "colData <- data.frame(\n",
    "    cond=conds,\n",
    "    reps=reps,\n",
    "    row.names=colnames(txi$abundance),\n",
    "    stringsAsFactors=FALSE\n",
    ")\n",
    "colData"
   ]
  },
  {
   "cell_type": "markdown",
   "metadata": {},
   "source": [
    "#### Make `DESeq` object"
   ]
  },
  {
   "cell_type": "code",
   "execution_count": 13,
   "metadata": {
    "tags": []
   },
   "outputs": [
    {
     "name": "stderr",
     "output_type": "stream",
     "text": [
      "using counts and average transcript lengths from tximport\n",
      "\n"
     ]
    }
   ],
   "source": [
    "dds0 <- DESeqDataSetFromTximport(txi.gene, colData, ~cond)"
   ]
  },
  {
   "cell_type": "markdown",
   "metadata": {
    "tags": []
   },
   "source": [
    "#### Save normalized counts"
   ]
  },
  {
   "cell_type": "code",
   "execution_count": 30,
   "metadata": {
    "tags": []
   },
   "outputs": [
    {
     "name": "stderr",
     "output_type": "stream",
     "text": [
      "using 'avgTxLength' from assays(dds), correcting for library size\n",
      "\n"
     ]
    }
   ],
   "source": [
    "dds1 <- estimateSizeFactors(dds0)"
   ]
  },
  {
   "cell_type": "code",
   "execution_count": null,
   "metadata": {},
   "outputs": [],
   "source": [
    "ncu <- counts(dds1, normalized=TRUE) %>% \n",
    "    data.frame %>% add_column(name = gene2name[rownames(dds1),]) %>% \n",
    "    select(name, everything())"
   ]
  },
  {
   "cell_type": "code",
   "execution_count": 16,
   "metadata": {},
   "outputs": [],
   "source": [
    "write.table(\n",
    "    ncu,'deseq2_norm.txt', sep=\"\\t\", quote=FALSE, col.names=TRUE\n",
    ")"
   ]
  },
  {
   "cell_type": "code",
   "execution_count": 31,
   "metadata": {
    "tags": []
   },
   "outputs": [],
   "source": [
    "counts.log2_tpm = log2 (t( t(counts(dds1)) * 1e6 / colSums(counts(dds1)) ) + 1)  %>% data.frame %>% \n",
    "    rownames_to_column('gene_id') %>% \n",
    "    add_column(gene_name=gene2name[rownames(dds1),], .after='gene_id')"
   ]
  },
  {
   "cell_type": "code",
   "execution_count": 33,
   "metadata": {
    "tags": []
   },
   "outputs": [],
   "source": [
    "write.table(\n",
    "    counts.log2_tpm,'deseq2_counts_log2_tpm.txt',\n",
    "    sep=\"\\t\", quote=FALSE, col.names=TRUE\n",
    ")"
   ]
  },
  {
   "cell_type": "code",
   "execution_count": null,
   "metadata": {},
   "outputs": [],
   "source": []
  },
  {
   "cell_type": "code",
   "execution_count": 38,
   "metadata": {
    "tags": []
   },
   "outputs": [
    {
     "data": {
      "text/html": [
       "<table class=\"dataframe\">\n",
       "<caption>A matrix: 10 × 2 of type chr</caption>\n",
       "<tbody>\n",
       "\t<tr><th scope=row>gene_id</th><td>ENSG00000169896.18</td><td>ENSG00000170458.14</td></tr>\n",
       "\t<tr><th scope=row>gene_name</th><td>ITGAM             </td><td>CD14              </td></tr>\n",
       "\t<tr><th scope=row>hl60_combination_1</th><td>2.457506          </td><td>4.628673          </td></tr>\n",
       "\t<tr><th scope=row>hl60_combination_2</th><td>2.591105          </td><td>4.906686          </td></tr>\n",
       "\t<tr><th scope=row>hl60_decitabine_1</th><td>2.801105          </td><td>3.294280          </td></tr>\n",
       "\t<tr><th scope=row>hl60_decitabine_2</th><td>2.802497          </td><td>2.838397          </td></tr>\n",
       "\t<tr><th scope=row>hl60_dmso_1</th><td>1.970174          </td><td>2.495470          </td></tr>\n",
       "\t<tr><th scope=row>hl60_dmso_2</th><td>2.157115          </td><td>2.480899          </td></tr>\n",
       "\t<tr><th scope=row>hl60_rg3039_1</th><td>1.578623          </td><td>4.031474          </td></tr>\n",
       "\t<tr><th scope=row>hl60_rg3039_2</th><td>1.770167          </td><td>4.083683          </td></tr>\n",
       "</tbody>\n",
       "</table>\n"
      ],
      "text/latex": [
       "A matrix: 10 × 2 of type chr\n",
       "\\begin{tabular}{r|ll}\n",
       "\tgene\\_id & ENSG00000169896.18 & ENSG00000170458.14\\\\\n",
       "\tgene\\_name & ITGAM              & CD14              \\\\\n",
       "\thl60\\_combination\\_1 & 2.457506           & 4.628673          \\\\\n",
       "\thl60\\_combination\\_2 & 2.591105           & 4.906686          \\\\\n",
       "\thl60\\_decitabine\\_1 & 2.801105           & 3.294280          \\\\\n",
       "\thl60\\_decitabine\\_2 & 2.802497           & 2.838397          \\\\\n",
       "\thl60\\_dmso\\_1 & 1.970174           & 2.495470          \\\\\n",
       "\thl60\\_dmso\\_2 & 2.157115           & 2.480899          \\\\\n",
       "\thl60\\_rg3039\\_1 & 1.578623           & 4.031474          \\\\\n",
       "\thl60\\_rg3039\\_2 & 1.770167           & 4.083683          \\\\\n",
       "\\end{tabular}\n"
      ],
      "text/markdown": [
       "\n",
       "A matrix: 10 × 2 of type chr\n",
       "\n",
       "| gene_id | ENSG00000169896.18 | ENSG00000170458.14 |\n",
       "| gene_name | ITGAM              | CD14               |\n",
       "| hl60_combination_1 | 2.457506           | 4.628673           |\n",
       "| hl60_combination_2 | 2.591105           | 4.906686           |\n",
       "| hl60_decitabine_1 | 2.801105           | 3.294280           |\n",
       "| hl60_decitabine_2 | 2.802497           | 2.838397           |\n",
       "| hl60_dmso_1 | 1.970174           | 2.495470           |\n",
       "| hl60_dmso_2 | 2.157115           | 2.480899           |\n",
       "| hl60_rg3039_1 | 1.578623           | 4.031474           |\n",
       "| hl60_rg3039_2 | 1.770167           | 4.083683           |\n",
       "\n"
      ],
      "text/plain": [
       "                   [,1]               [,2]              \n",
       "gene_id            ENSG00000169896.18 ENSG00000170458.14\n",
       "gene_name          ITGAM              CD14              \n",
       "hl60_combination_1 2.457506           4.628673          \n",
       "hl60_combination_2 2.591105           4.906686          \n",
       "hl60_decitabine_1  2.801105           3.294280          \n",
       "hl60_decitabine_2  2.802497           2.838397          \n",
       "hl60_dmso_1        1.970174           2.495470          \n",
       "hl60_dmso_2        2.157115           2.480899          \n",
       "hl60_rg3039_1      1.578623           4.031474          \n",
       "hl60_rg3039_2      1.770167           4.083683          "
      ]
     },
     "metadata": {},
     "output_type": "display_data"
    }
   ],
   "source": [
    "counts.log2_tpm %>% filter(gene_name %in% c('CD14','ITGAM')) %>% t\n",
    "# 'ITGAM' (CD11B)'\n",
    "# )"
   ]
  },
  {
   "cell_type": "code",
   "execution_count": null,
   "metadata": {},
   "outputs": [],
   "source": []
  },
  {
   "cell_type": "code",
   "execution_count": null,
   "metadata": {},
   "outputs": [],
   "source": []
  },
  {
   "cell_type": "markdown",
   "metadata": {},
   "source": [
    "> _In order to test for any differences over multiple time points, once can use a design including the time factor, and then test using the **likelihood ratio test (LRT)**. Here, as we have control (DMSO) and treatment (Decitabine) time series, design formula containing the condition factor, the time factor, and the interaction of the two. In this case, using the likelihood ratio test with a reduced model which does not contain the interaction terms will test whether the condition induces a change in gene expression at any time point after the reference level time point (time 0)._\n",
    "\n",
    "> _(see [this](http://bioconductor.org/packages/devel/bioc/vignettes/DESeq2/inst/doc/DESeq2.html#time-series-experiments)  OR [this](http://master.bioconductor.org/packages/release/workflows/vignettes/rnaseqGene/inst/doc/rnaseqGene.html#time-course-experiments) for more details about DESeq2 time series experiments)_"
   ]
  },
  {
   "cell_type": "markdown",
   "metadata": {
    "jp-MarkdownHeadingCollapsed": true,
    "tags": []
   },
   "source": [
    "## PCA\n",
    "<!-- Initial principal component analysis (PCA) shows the second treated biological replicate at 72h time point, behaves as an outlier. Removing that from the analysis give us a better representation of our dataset. In the second PCA plot, we can see that treated samples at 6h cluster with the non-treated samples which suggest that 6 hours treatment with the drug is not as effective as 72h and 120h. Although, we will check the variant genes in this time-point in the following statistical analysis. -->\n"
   ]
  },
  {
   "cell_type": "code",
   "execution_count": 17,
   "metadata": {},
   "outputs": [
    {
     "name": "stderr",
     "output_type": "stream",
     "text": [
      "estimating size factors\n",
      "\n",
      "using 'avgTxLength' from assays(dds), correcting for library size\n",
      "\n",
      "estimating dispersions\n",
      "\n",
      "gene-wise dispersion estimates: 18 workers\n",
      "\n",
      "mean-dispersion relationship\n",
      "\n",
      "final dispersion estimates, fitting model and testing: 18 workers\n",
      "\n"
     ]
    }
   ],
   "source": [
    "dds.pca <- DESeq(dds0, parallel=TRUE)\n",
    "# results \n",
    "vsd <- varianceStabilizingTransformation(dds.pca)"
   ]
  },
  {
   "cell_type": "code",
   "execution_count": 18,
   "metadata": {},
   "outputs": [
    {
     "data": {
      "image/png": "[encoded data removed]",
      "text/plain": [
       "plot without title"
      ]
     },
     "metadata": {
      "image/png": {
       "height": 420,
       "width": 420
      }
     },
     "output_type": "display_data"
    }
   ],
   "source": [
    "pca = plot_PCA(\n",
    "    vsd, \n",
    "    colData(vsd), \n",
    "    labels=colData(vsd)[,'cond'],\n",
    "    gr=c('cond'), title='Drug combination'\n",
    ")\n",
    "pca"
   ]
  },
  {
   "cell_type": "code",
   "execution_count": 19,
   "metadata": {},
   "outputs": [],
   "source": [
    "ggsave('pca.pdf',pca,width=6, height=6.8)"
   ]
  },
  {
   "cell_type": "code",
   "execution_count": 20,
   "metadata": {},
   "outputs": [
    {
     "data": {
      "image/png": "[encoded data removed]",
      "text/plain": [
       "plot without title"
      ]
     },
     "metadata": {
      "image/png": {
       "height": 420,
       "width": 420
      }
     },
     "output_type": "display_data"
    }
   ],
   "source": [
    "par(mar=c(15,5,1,1))\n",
    "boxplot(log10(assays(dds.pca)[[\"cooks\"]]), range=0, las=2)"
   ]
  },
  {
   "cell_type": "markdown",
   "metadata": {
    "tags": []
   },
   "source": [
    "## Differential expression analysis\n",
    "\n",
    "<!-- We make two different `dds` object one with with no `cond:time` interaction term and the other one with the interaction term (**ANOVA-like comparison**).  -->\n",
    "\n",
    "<!-- Then, I'm replacing results from first object to the secound one for genes with adjust p-values (padj) > 0.05. Hossien Asgharian told me these genes has more accurate estimation from the model with no interaction term.  -->\n",
    "\n",
    "<!-- https://bioconductor.org/packages/release/workflows/vignettes/RNAseq123/inst/doc/designmatrices.html#design-matrices-with-and-without-intercept-term -->"
   ]
  },
  {
   "cell_type": "code",
   "execution_count": 14,
   "metadata": {
    "tags": []
   },
   "outputs": [
    {
     "data": {
      "text/html": [
       "<table class=\"dataframe\">\n",
       "<caption>A data.frame: 8 × 4</caption>\n",
       "<thead>\n",
       "\t<tr><th></th><th scope=col>cond</th><th scope=col>reps</th><th scope=col>Decitabine</th><th scope=col>rg3039</th></tr>\n",
       "\t<tr><th></th><th scope=col>&lt;fct&gt;</th><th scope=col>&lt;fct&gt;</th><th scope=col>&lt;fct&gt;</th><th scope=col>&lt;fct&gt;</th></tr>\n",
       "</thead>\n",
       "<tbody>\n",
       "\t<tr><th scope=row>hl60_combination_1</th><td>Combination</td><td>rep1</td><td>Treated   </td><td>Treated   </td></tr>\n",
       "\t<tr><th scope=row>hl60_combination_2</th><td>Combination</td><td>rep2</td><td>Treated   </td><td>Treated   </td></tr>\n",
       "\t<tr><th scope=row>hl60_decitabine_1</th><td>Decitabine </td><td>rep1</td><td>Treated   </td><td>NotTreated</td></tr>\n",
       "\t<tr><th scope=row>hl60_decitabine_2</th><td>Decitabine </td><td>rep2</td><td>Treated   </td><td>NotTreated</td></tr>\n",
       "\t<tr><th scope=row>hl60_dmso_1</th><td>DMSO       </td><td>rep1</td><td>NotTreated</td><td>NotTreated</td></tr>\n",
       "\t<tr><th scope=row>hl60_dmso_2</th><td>DMSO       </td><td>rep2</td><td>NotTreated</td><td>NotTreated</td></tr>\n",
       "\t<tr><th scope=row>hl60_rg3039_1</th><td>rg3039     </td><td>rep1</td><td>NotTreated</td><td>Treated   </td></tr>\n",
       "\t<tr><th scope=row>hl60_rg3039_2</th><td>rg3039     </td><td>rep2</td><td>NotTreated</td><td>Treated   </td></tr>\n",
       "</tbody>\n",
       "</table>\n"
      ],
      "text/latex": [
       "A data.frame: 8 × 4\n",
       "\\begin{tabular}{r|llll}\n",
       "  & cond & reps & Decitabine & rg3039\\\\\n",
       "  & <fct> & <fct> & <fct> & <fct>\\\\\n",
       "\\hline\n",
       "\thl60\\_combination\\_1 & Combination & rep1 & Treated    & Treated   \\\\\n",
       "\thl60\\_combination\\_2 & Combination & rep2 & Treated    & Treated   \\\\\n",
       "\thl60\\_decitabine\\_1 & Decitabine  & rep1 & Treated    & NotTreated\\\\\n",
       "\thl60\\_decitabine\\_2 & Decitabine  & rep2 & Treated    & NotTreated\\\\\n",
       "\thl60\\_dmso\\_1 & DMSO        & rep1 & NotTreated & NotTreated\\\\\n",
       "\thl60\\_dmso\\_2 & DMSO        & rep2 & NotTreated & NotTreated\\\\\n",
       "\thl60\\_rg3039\\_1 & rg3039      & rep1 & NotTreated & Treated   \\\\\n",
       "\thl60\\_rg3039\\_2 & rg3039      & rep2 & NotTreated & Treated   \\\\\n",
       "\\end{tabular}\n"
      ],
      "text/markdown": [
       "\n",
       "A data.frame: 8 × 4\n",
       "\n",
       "| <!--/--> | cond &lt;fct&gt; | reps &lt;fct&gt; | Decitabine &lt;fct&gt; | rg3039 &lt;fct&gt; |\n",
       "|---|---|---|---|---|\n",
       "| hl60_combination_1 | Combination | rep1 | Treated    | Treated    |\n",
       "| hl60_combination_2 | Combination | rep2 | Treated    | Treated    |\n",
       "| hl60_decitabine_1 | Decitabine  | rep1 | Treated    | NotTreated |\n",
       "| hl60_decitabine_2 | Decitabine  | rep2 | Treated    | NotTreated |\n",
       "| hl60_dmso_1 | DMSO        | rep1 | NotTreated | NotTreated |\n",
       "| hl60_dmso_2 | DMSO        | rep2 | NotTreated | NotTreated |\n",
       "| hl60_rg3039_1 | rg3039      | rep1 | NotTreated | Treated    |\n",
       "| hl60_rg3039_2 | rg3039      | rep2 | NotTreated | Treated    |\n",
       "\n"
      ],
      "text/plain": [
       "                   cond        reps Decitabine rg3039    \n",
       "hl60_combination_1 Combination rep1 Treated    Treated   \n",
       "hl60_combination_2 Combination rep2 Treated    Treated   \n",
       "hl60_decitabine_1  Decitabine  rep1 Treated    NotTreated\n",
       "hl60_decitabine_2  Decitabine  rep2 Treated    NotTreated\n",
       "hl60_dmso_1        DMSO        rep1 NotTreated NotTreated\n",
       "hl60_dmso_2        DMSO        rep2 NotTreated NotTreated\n",
       "hl60_rg3039_1      rg3039      rep1 NotTreated Treated   \n",
       "hl60_rg3039_2      rg3039      rep2 NotTreated Treated   "
      ]
     },
     "metadata": {},
     "output_type": "display_data"
    }
   ],
   "source": [
    "# add dummy variables for drug treatment \n",
    "colData$Decitabine <- factor(c(\n",
    "    rep('Treated',4),rep('NotTreated',4)\n",
    "),c('NotTreated','Treated'))\n",
    "\n",
    "colData$rg3039     <- factor(c(\n",
    "    rep('Treated',2),rep('NotTreated',4),rep('Treated',2)\n",
    "),c('NotTreated','Treated'))\n",
    "\n",
    "\n",
    "colData"
   ]
  },
  {
   "cell_type": "markdown",
   "metadata": {},
   "source": [
    "### Combination Treatment vs DMSO "
   ]
  },
  {
   "cell_type": "code",
   "execution_count": 15,
   "metadata": {
    "tags": []
   },
   "outputs": [
    {
     "data": {
      "text/html": [
       "<table class=\"dataframe\">\n",
       "<caption>A matrix: 8 × 4 of type dbl</caption>\n",
       "<thead>\n",
       "\t<tr><th></th><th scope=col>DecitabineNotTreated</th><th scope=col>DecitabineTreated</th><th scope=col>rg3039Treated</th><th scope=col>DecitabineTreated:rg3039Treated</th></tr>\n",
       "</thead>\n",
       "<tbody>\n",
       "\t<tr><th scope=row>hl60_combination_1</th><td>0</td><td>1</td><td>1</td><td>1</td></tr>\n",
       "\t<tr><th scope=row>hl60_combination_2</th><td>0</td><td>1</td><td>1</td><td>1</td></tr>\n",
       "\t<tr><th scope=row>hl60_decitabine_1</th><td>0</td><td>1</td><td>0</td><td>0</td></tr>\n",
       "\t<tr><th scope=row>hl60_decitabine_2</th><td>0</td><td>1</td><td>0</td><td>0</td></tr>\n",
       "\t<tr><th scope=row>hl60_dmso_1</th><td>1</td><td>0</td><td>0</td><td>0</td></tr>\n",
       "\t<tr><th scope=row>hl60_dmso_2</th><td>1</td><td>0</td><td>0</td><td>0</td></tr>\n",
       "\t<tr><th scope=row>hl60_rg3039_1</th><td>1</td><td>0</td><td>1</td><td>0</td></tr>\n",
       "\t<tr><th scope=row>hl60_rg3039_2</th><td>1</td><td>0</td><td>1</td><td>0</td></tr>\n",
       "</tbody>\n",
       "</table>\n"
      ],
      "text/latex": [
       "A matrix: 8 × 4 of type dbl\n",
       "\\begin{tabular}{r|llll}\n",
       "  & DecitabineNotTreated & DecitabineTreated & rg3039Treated & DecitabineTreated:rg3039Treated\\\\\n",
       "\\hline\n",
       "\thl60\\_combination\\_1 & 0 & 1 & 1 & 1\\\\\n",
       "\thl60\\_combination\\_2 & 0 & 1 & 1 & 1\\\\\n",
       "\thl60\\_decitabine\\_1 & 0 & 1 & 0 & 0\\\\\n",
       "\thl60\\_decitabine\\_2 & 0 & 1 & 0 & 0\\\\\n",
       "\thl60\\_dmso\\_1 & 1 & 0 & 0 & 0\\\\\n",
       "\thl60\\_dmso\\_2 & 1 & 0 & 0 & 0\\\\\n",
       "\thl60\\_rg3039\\_1 & 1 & 0 & 1 & 0\\\\\n",
       "\thl60\\_rg3039\\_2 & 1 & 0 & 1 & 0\\\\\n",
       "\\end{tabular}\n"
      ],
      "text/markdown": [
       "\n",
       "A matrix: 8 × 4 of type dbl\n",
       "\n",
       "| <!--/--> | DecitabineNotTreated | DecitabineTreated | rg3039Treated | DecitabineTreated:rg3039Treated |\n",
       "|---|---|---|---|---|\n",
       "| hl60_combination_1 | 0 | 1 | 1 | 1 |\n",
       "| hl60_combination_2 | 0 | 1 | 1 | 1 |\n",
       "| hl60_decitabine_1 | 0 | 1 | 0 | 0 |\n",
       "| hl60_decitabine_2 | 0 | 1 | 0 | 0 |\n",
       "| hl60_dmso_1 | 1 | 0 | 0 | 0 |\n",
       "| hl60_dmso_2 | 1 | 0 | 0 | 0 |\n",
       "| hl60_rg3039_1 | 1 | 0 | 1 | 0 |\n",
       "| hl60_rg3039_2 | 1 | 0 | 1 | 0 |\n",
       "\n"
      ],
      "text/plain": [
       "                   DecitabineNotTreated DecitabineTreated rg3039Treated\n",
       "hl60_combination_1 0                    1                 1            \n",
       "hl60_combination_2 0                    1                 1            \n",
       "hl60_decitabine_1  0                    1                 0            \n",
       "hl60_decitabine_2  0                    1                 0            \n",
       "hl60_dmso_1        1                    0                 0            \n",
       "hl60_dmso_2        1                    0                 0            \n",
       "hl60_rg3039_1      1                    0                 1            \n",
       "hl60_rg3039_2      1                    0                 1            \n",
       "                   DecitabineTreated:rg3039Treated\n",
       "hl60_combination_1 1                              \n",
       "hl60_combination_2 1                              \n",
       "hl60_decitabine_1  0                              \n",
       "hl60_decitabine_2  0                              \n",
       "hl60_dmso_1        0                              \n",
       "hl60_dmso_2        0                              \n",
       "hl60_rg3039_1      0                              \n",
       "hl60_rg3039_2      0                              "
      ]
     },
     "metadata": {},
     "output_type": "display_data"
    }
   ],
   "source": [
    "model.matrix(~0+Decitabine+rg3039+Decitabine*rg3039, colData)"
   ]
  },
  {
   "cell_type": "code",
   "execution_count": 16,
   "metadata": {
    "tags": []
   },
   "outputs": [
    {
     "name": "stderr",
     "output_type": "stream",
     "text": [
      "using counts and average transcript lengths from tximport\n",
      "\n",
      "estimating size factors\n",
      "\n",
      "using 'avgTxLength' from assays(dds), correcting for library size\n",
      "\n",
      "estimating dispersions\n",
      "\n",
      "gene-wise dispersion estimates: 18 workers\n",
      "\n",
      "mean-dispersion relationship\n",
      "\n",
      "final dispersion estimates, fitting model and testing: 18 workers\n",
      "\n"
     ]
    }
   ],
   "source": [
    "dds2 <- DESeqDataSetFromTximport(txi.gene, colData, ~0+Decitabine+rg3039+Decitabine*rg3039)\n",
    "\n",
    "# Annova test\n",
    "dds2 <- DESeq(dds2, test=\"LRT\", reduced=~1, parallel=TRUE)"
   ]
  },
  {
   "cell_type": "code",
   "execution_count": 17,
   "metadata": {
    "tags": []
   },
   "outputs": [
    {
     "data": {
      "text/html": [
       "<style>\n",
       ".list-inline {list-style: none; margin:0; padding: 0}\n",
       ".list-inline>li {display: inline-block}\n",
       ".list-inline>li:not(:last-child)::after {content: \"\\00b7\"; padding: 0 .5ex}\n",
       "</style>\n",
       "<ol class=list-inline><li>'DecitabineNotTreated'</li><li>'DecitabineTreated'</li><li>'rg3039Treated'</li><li>'DecitabineTreated.rg3039Treated'</li></ol>\n"
      ],
      "text/latex": [
       "\\begin{enumerate*}\n",
       "\\item 'DecitabineNotTreated'\n",
       "\\item 'DecitabineTreated'\n",
       "\\item 'rg3039Treated'\n",
       "\\item 'DecitabineTreated.rg3039Treated'\n",
       "\\end{enumerate*}\n"
      ],
      "text/markdown": [
       "1. 'DecitabineNotTreated'\n",
       "2. 'DecitabineTreated'\n",
       "3. 'rg3039Treated'\n",
       "4. 'DecitabineTreated.rg3039Treated'\n",
       "\n",
       "\n"
      ],
      "text/plain": [
       "[1] \"DecitabineNotTreated\"            \"DecitabineTreated\"              \n",
       "[3] \"rg3039Treated\"                   \"DecitabineTreated.rg3039Treated\""
      ]
     },
     "metadata": {},
     "output_type": "display_data"
    }
   ],
   "source": [
    "resultsNames(dds2)"
   ]
  },
  {
   "cell_type": "code",
   "execution_count": 18,
   "metadata": {
    "tags": []
   },
   "outputs": [],
   "source": [
    "# contrast design: combination treatment vs dmso \n",
    "res_comb_vs_dmso  = results(dds2, contrast=list(\n",
    "    c('DecitabineTreated','rg3039Treated','DecitabineTreated.rg3039Treated'),\n",
    "    c('DecitabineNotTreated')\n",
    "),listValues=c(1,-1)) %>% ann_Result"
   ]
  },
  {
   "cell_type": "code",
   "execution_count": 19,
   "metadata": {
    "tags": []
   },
   "outputs": [
    {
     "data": {
      "text/html": [
       "<table class=\"dataframe\">\n",
       "<caption>A data.frame: 3 × 8</caption>\n",
       "<thead>\n",
       "\t<tr><th></th><th scope=col>gene_id</th><th scope=col>gene_name</th><th scope=col>baseMean</th><th scope=col>log2FoldChange</th><th scope=col>lfcSE</th><th scope=col>stat</th><th scope=col>pvalue</th><th scope=col>padj</th></tr>\n",
       "\t<tr><th></th><th scope=col>&lt;chr&gt;</th><th scope=col>&lt;chr&gt;</th><th scope=col>&lt;dbl&gt;</th><th scope=col>&lt;dbl&gt;</th><th scope=col>&lt;dbl&gt;</th><th scope=col>&lt;dbl&gt;</th><th scope=col>&lt;dbl&gt;</th><th scope=col>&lt;dbl&gt;</th></tr>\n",
       "</thead>\n",
       "<tbody>\n",
       "\t<tr><th scope=row>ENSG00000137411.18</th><td>ENSG00000137411.18</td><td>VARS2 </td><td>252.30350</td><td>11.287746</td><td>2.768208</td><td> 11.52328</td><td>9.208106e-03</td><td>4.305212e-02</td></tr>\n",
       "\t<tr><th scope=row>ENSG00000131016.17</th><td>ENSG00000131016.17</td><td>AKAP12</td><td> 76.78152</td><td>10.345897</td><td>1.526764</td><td>179.11799</td><td>1.367530e-38</td><td>5.259830e-36</td></tr>\n",
       "\t<tr><th scope=row>ENSG00000101335.10</th><td>ENSG00000101335.10</td><td>MYL9  </td><td>137.93934</td><td> 9.900975</td><td>1.380417</td><td>270.71892</td><td>2.157388e-58</td><td>1.759135e-55</td></tr>\n",
       "</tbody>\n",
       "</table>\n"
      ],
      "text/latex": [
       "A data.frame: 3 × 8\n",
       "\\begin{tabular}{r|llllllll}\n",
       "  & gene\\_id & gene\\_name & baseMean & log2FoldChange & lfcSE & stat & pvalue & padj\\\\\n",
       "  & <chr> & <chr> & <dbl> & <dbl> & <dbl> & <dbl> & <dbl> & <dbl>\\\\\n",
       "\\hline\n",
       "\tENSG00000137411.18 & ENSG00000137411.18 & VARS2  & 252.30350 & 11.287746 & 2.768208 &  11.52328 & 9.208106e-03 & 4.305212e-02\\\\\n",
       "\tENSG00000131016.17 & ENSG00000131016.17 & AKAP12 &  76.78152 & 10.345897 & 1.526764 & 179.11799 & 1.367530e-38 & 5.259830e-36\\\\\n",
       "\tENSG00000101335.10 & ENSG00000101335.10 & MYL9   & 137.93934 &  9.900975 & 1.380417 & 270.71892 & 2.157388e-58 & 1.759135e-55\\\\\n",
       "\\end{tabular}\n"
      ],
      "text/markdown": [
       "\n",
       "A data.frame: 3 × 8\n",
       "\n",
       "| <!--/--> | gene_id &lt;chr&gt; | gene_name &lt;chr&gt; | baseMean &lt;dbl&gt; | log2FoldChange &lt;dbl&gt; | lfcSE &lt;dbl&gt; | stat &lt;dbl&gt; | pvalue &lt;dbl&gt; | padj &lt;dbl&gt; |\n",
       "|---|---|---|---|---|---|---|---|---|\n",
       "| ENSG00000137411.18 | ENSG00000137411.18 | VARS2  | 252.30350 | 11.287746 | 2.768208 |  11.52328 | 9.208106e-03 | 4.305212e-02 |\n",
       "| ENSG00000131016.17 | ENSG00000131016.17 | AKAP12 |  76.78152 | 10.345897 | 1.526764 | 179.11799 | 1.367530e-38 | 5.259830e-36 |\n",
       "| ENSG00000101335.10 | ENSG00000101335.10 | MYL9   | 137.93934 |  9.900975 | 1.380417 | 270.71892 | 2.157388e-58 | 1.759135e-55 |\n",
       "\n"
      ],
      "text/plain": [
       "                   gene_id            gene_name baseMean  log2FoldChange\n",
       "ENSG00000137411.18 ENSG00000137411.18 VARS2     252.30350 11.287746     \n",
       "ENSG00000131016.17 ENSG00000131016.17 AKAP12     76.78152 10.345897     \n",
       "ENSG00000101335.10 ENSG00000101335.10 MYL9      137.93934  9.900975     \n",
       "                   lfcSE    stat      pvalue       padj        \n",
       "ENSG00000137411.18 2.768208  11.52328 9.208106e-03 4.305212e-02\n",
       "ENSG00000131016.17 1.526764 179.11799 1.367530e-38 5.259830e-36\n",
       "ENSG00000101335.10 1.380417 270.71892 2.157388e-58 1.759135e-55"
      ]
     },
     "metadata": {},
     "output_type": "display_data"
    }
   ],
   "source": [
    "res_comb_vs_dmso %>% \n",
    "    filter(pvalue < 0.01) %>% \n",
    "    arrange(desc(log2FoldChange)) %>% head(3)"
   ]
  },
  {
   "cell_type": "code",
   "execution_count": null,
   "metadata": {},
   "outputs": [],
   "source": []
  },
  {
   "cell_type": "code",
   "execution_count": 27,
   "metadata": {
    "tags": []
   },
   "outputs": [
    {
     "data": {
      "text/html": [
       "<table class=\"dataframe\">\n",
       "<caption>A data.frame: 3 × 8</caption>\n",
       "<thead>\n",
       "\t<tr><th></th><th scope=col>gene_id</th><th scope=col>gene_name</th><th scope=col>baseMean</th><th scope=col>log2FoldChange</th><th scope=col>lfcSE</th><th scope=col>stat</th><th scope=col>pvalue</th><th scope=col>padj</th></tr>\n",
       "\t<tr><th></th><th scope=col>&lt;chr&gt;</th><th scope=col>&lt;chr&gt;</th><th scope=col>&lt;dbl&gt;</th><th scope=col>&lt;dbl&gt;</th><th scope=col>&lt;dbl&gt;</th><th scope=col>&lt;dbl&gt;</th><th scope=col>&lt;dbl&gt;</th><th scope=col>&lt;dbl&gt;</th></tr>\n",
       "</thead>\n",
       "<tbody>\n",
       "\t<tr><th scope=row>ENSG00000005381.8</th><td>ENSG00000005381.8 </td><td>MPO  </td><td>111614.9285</td><td>-1.04374571</td><td>0.1921873</td><td>41.834512</td><td>4.350015e-09</td><td>1.034715e-07</td></tr>\n",
       "\t<tr><th scope=row>ENSG00000012223.13</th><td>ENSG00000012223.13</td><td>LTF  </td><td>   160.3277</td><td> 0.09986985</td><td>0.3681934</td><td> 1.471413</td><td>6.888837e-01</td><td>8.760384e-01</td></tr>\n",
       "\t<tr><th scope=row>ENSG00000197561.7</th><td>ENSG00000197561.7 </td><td>ELANE</td><td> 12373.5685</td><td>-0.46915571</td><td>0.1928262</td><td>11.328208</td><td>1.007728e-02</td><td>4.622535e-02</td></tr>\n",
       "</tbody>\n",
       "</table>\n"
      ],
      "text/latex": [
       "A data.frame: 3 × 8\n",
       "\\begin{tabular}{r|llllllll}\n",
       "  & gene\\_id & gene\\_name & baseMean & log2FoldChange & lfcSE & stat & pvalue & padj\\\\\n",
       "  & <chr> & <chr> & <dbl> & <dbl> & <dbl> & <dbl> & <dbl> & <dbl>\\\\\n",
       "\\hline\n",
       "\tENSG00000005381.8 & ENSG00000005381.8  & MPO   & 111614.9285 & -1.04374571 & 0.1921873 & 41.834512 & 4.350015e-09 & 1.034715e-07\\\\\n",
       "\tENSG00000012223.13 & ENSG00000012223.13 & LTF   &    160.3277 &  0.09986985 & 0.3681934 &  1.471413 & 6.888837e-01 & 8.760384e-01\\\\\n",
       "\tENSG00000197561.7 & ENSG00000197561.7  & ELANE &  12373.5685 & -0.46915571 & 0.1928262 & 11.328208 & 1.007728e-02 & 4.622535e-02\\\\\n",
       "\\end{tabular}\n"
      ],
      "text/markdown": [
       "\n",
       "A data.frame: 3 × 8\n",
       "\n",
       "| <!--/--> | gene_id &lt;chr&gt; | gene_name &lt;chr&gt; | baseMean &lt;dbl&gt; | log2FoldChange &lt;dbl&gt; | lfcSE &lt;dbl&gt; | stat &lt;dbl&gt; | pvalue &lt;dbl&gt; | padj &lt;dbl&gt; |\n",
       "|---|---|---|---|---|---|---|---|---|\n",
       "| ENSG00000005381.8 | ENSG00000005381.8  | MPO   | 111614.9285 | -1.04374571 | 0.1921873 | 41.834512 | 4.350015e-09 | 1.034715e-07 |\n",
       "| ENSG00000012223.13 | ENSG00000012223.13 | LTF   |    160.3277 |  0.09986985 | 0.3681934 |  1.471413 | 6.888837e-01 | 8.760384e-01 |\n",
       "| ENSG00000197561.7 | ENSG00000197561.7  | ELANE |  12373.5685 | -0.46915571 | 0.1928262 | 11.328208 | 1.007728e-02 | 4.622535e-02 |\n",
       "\n"
      ],
      "text/plain": [
       "                   gene_id            gene_name baseMean    log2FoldChange\n",
       "ENSG00000005381.8  ENSG00000005381.8  MPO       111614.9285 -1.04374571   \n",
       "ENSG00000012223.13 ENSG00000012223.13 LTF          160.3277  0.09986985   \n",
       "ENSG00000197561.7  ENSG00000197561.7  ELANE      12373.5685 -0.46915571   \n",
       "                   lfcSE     stat      pvalue       padj        \n",
       "ENSG00000005381.8  0.1921873 41.834512 4.350015e-09 1.034715e-07\n",
       "ENSG00000012223.13 0.3681934  1.471413 6.888837e-01 8.760384e-01\n",
       "ENSG00000197561.7  0.1928262 11.328208 1.007728e-02 4.622535e-02"
      ]
     },
     "metadata": {},
     "output_type": "display_data"
    }
   ],
   "source": [
    "res_comb_vs_dmso[\n",
    "    res_comb_vs_dmso$gene_name %in% c('LY6G', 'ELANE', 'MPO', 'LTF'),\n",
    "]"
   ]
  },
  {
   "cell_type": "code",
   "execution_count": 25,
   "metadata": {
    "tags": []
   },
   "outputs": [
    {
     "name": "stderr",
     "output_type": "stream",
     "text": [
      "geom_path: Each group consists of only one observation. Do you need to adjust\n",
      "the group aesthetic?\n",
      "\n"
     ]
    },
    {
     "data": {
      "image/png": "[encoded data removed]",
      "text/plain": [
       "plot without title"
      ]
     },
     "metadata": {
      "image/png": {
       "height": 420,
       "width": 420
      }
     },
     "output_type": "display_data"
    }
   ],
   "source": [
    "plot_gene_counts(\n",
    "    dds2,\n",
    "    'ENSG00000197561.7','ELANE'\n",
    ")"
   ]
  },
  {
   "cell_type": "code",
   "execution_count": 22,
   "metadata": {
    "tags": []
   },
   "outputs": [
    {
     "name": "stderr",
     "output_type": "stream",
     "text": [
      "geom_path: Each group consists of only one observation. Do you need to adjust\n",
      "the group aesthetic?\n",
      "\n"
     ]
    },
    {
     "data": {
      "image/png": "[encoded data removed]",
      "text/plain": [
       "plot without title"
      ]
     },
     "metadata": {
      "image/png": {
       "height": 420,
       "width": 420
      }
     },
     "output_type": "display_data"
    }
   ],
   "source": [
    "# CD11B\n",
    "# https://www.genecards.org/cgi-bin/carddisp.pl?gene=ITGAM\n",
    "\n",
    "plot_gene_counts(\n",
    "    dds2,\n",
    "    'ENSG00000169896.18','ITGAM (CD11B)'\n",
    "\n",
    ")"
   ]
  },
  {
   "cell_type": "markdown",
   "metadata": {},
   "source": [
    "### Combination Treatment vs Decitabine"
   ]
  },
  {
   "cell_type": "code",
   "execution_count": 22,
   "metadata": {},
   "outputs": [
    {
     "data": {
      "text/html": [
       "<table class=\"dataframe\">\n",
       "<caption>A matrix: 8 × 4 of type dbl</caption>\n",
       "<thead>\n",
       "\t<tr><th></th><th scope=col>rg3039NotTreated</th><th scope=col>rg3039Treated</th><th scope=col>DecitabineTreated</th><th scope=col>rg3039Treated:DecitabineTreated</th></tr>\n",
       "</thead>\n",
       "<tbody>\n",
       "\t<tr><th scope=row>hl60_combination_1</th><td>0</td><td>1</td><td>1</td><td>1</td></tr>\n",
       "\t<tr><th scope=row>hl60_combination_2</th><td>0</td><td>1</td><td>1</td><td>1</td></tr>\n",
       "\t<tr><th scope=row>hl60_decitabine_1</th><td>1</td><td>0</td><td>1</td><td>0</td></tr>\n",
       "\t<tr><th scope=row>hl60_decitabine_2</th><td>1</td><td>0</td><td>1</td><td>0</td></tr>\n",
       "\t<tr><th scope=row>hl60_dmso_1</th><td>1</td><td>0</td><td>0</td><td>0</td></tr>\n",
       "\t<tr><th scope=row>hl60_dmso_2</th><td>1</td><td>0</td><td>0</td><td>0</td></tr>\n",
       "\t<tr><th scope=row>hl60_rg3039_1</th><td>0</td><td>1</td><td>0</td><td>0</td></tr>\n",
       "\t<tr><th scope=row>hl60_rg3039_2</th><td>0</td><td>1</td><td>0</td><td>0</td></tr>\n",
       "</tbody>\n",
       "</table>\n"
      ],
      "text/latex": [
       "A matrix: 8 × 4 of type dbl\n",
       "\\begin{tabular}{r|llll}\n",
       "  & rg3039NotTreated & rg3039Treated & DecitabineTreated & rg3039Treated:DecitabineTreated\\\\\n",
       "\\hline\n",
       "\thl60\\_combination\\_1 & 0 & 1 & 1 & 1\\\\\n",
       "\thl60\\_combination\\_2 & 0 & 1 & 1 & 1\\\\\n",
       "\thl60\\_decitabine\\_1 & 1 & 0 & 1 & 0\\\\\n",
       "\thl60\\_decitabine\\_2 & 1 & 0 & 1 & 0\\\\\n",
       "\thl60\\_dmso\\_1 & 1 & 0 & 0 & 0\\\\\n",
       "\thl60\\_dmso\\_2 & 1 & 0 & 0 & 0\\\\\n",
       "\thl60\\_rg3039\\_1 & 0 & 1 & 0 & 0\\\\\n",
       "\thl60\\_rg3039\\_2 & 0 & 1 & 0 & 0\\\\\n",
       "\\end{tabular}\n"
      ],
      "text/markdown": [
       "\n",
       "A matrix: 8 × 4 of type dbl\n",
       "\n",
       "| <!--/--> | rg3039NotTreated | rg3039Treated | DecitabineTreated | rg3039Treated:DecitabineTreated |\n",
       "|---|---|---|---|---|\n",
       "| hl60_combination_1 | 0 | 1 | 1 | 1 |\n",
       "| hl60_combination_2 | 0 | 1 | 1 | 1 |\n",
       "| hl60_decitabine_1 | 1 | 0 | 1 | 0 |\n",
       "| hl60_decitabine_2 | 1 | 0 | 1 | 0 |\n",
       "| hl60_dmso_1 | 1 | 0 | 0 | 0 |\n",
       "| hl60_dmso_2 | 1 | 0 | 0 | 0 |\n",
       "| hl60_rg3039_1 | 0 | 1 | 0 | 0 |\n",
       "| hl60_rg3039_2 | 0 | 1 | 0 | 0 |\n",
       "\n"
      ],
      "text/plain": [
       "                   rg3039NotTreated rg3039Treated DecitabineTreated\n",
       "hl60_combination_1 0                1             1                \n",
       "hl60_combination_2 0                1             1                \n",
       "hl60_decitabine_1  1                0             1                \n",
       "hl60_decitabine_2  1                0             1                \n",
       "hl60_dmso_1        1                0             0                \n",
       "hl60_dmso_2        1                0             0                \n",
       "hl60_rg3039_1      0                1             0                \n",
       "hl60_rg3039_2      0                1             0                \n",
       "                   rg3039Treated:DecitabineTreated\n",
       "hl60_combination_1 1                              \n",
       "hl60_combination_2 1                              \n",
       "hl60_decitabine_1  0                              \n",
       "hl60_decitabine_2  0                              \n",
       "hl60_dmso_1        0                              \n",
       "hl60_dmso_2        0                              \n",
       "hl60_rg3039_1      0                              \n",
       "hl60_rg3039_2      0                              "
      ]
     },
     "metadata": {},
     "output_type": "display_data"
    }
   ],
   "source": [
    "model.matrix(~0+rg3039+Decitabine+Decitabine*rg3039, colData)"
   ]
  },
  {
   "cell_type": "code",
   "execution_count": 23,
   "metadata": {},
   "outputs": [
    {
     "name": "stderr",
     "output_type": "stream",
     "text": [
      "using counts and average transcript lengths from tximport\n",
      "\n",
      "estimating size factors\n",
      "\n",
      "using 'avgTxLength' from assays(dds), correcting for library size\n",
      "\n",
      "estimating dispersions\n",
      "\n",
      "gene-wise dispersion estimates: 18 workers\n",
      "\n",
      "mean-dispersion relationship\n",
      "\n",
      "final dispersion estimates, fitting model and testing: 18 workers\n",
      "\n"
     ]
    }
   ],
   "source": [
    "dds3 <- DESeqDataSetFromTximport(txi.gene, colData, ~0+rg3039+Decitabine+Decitabine*rg3039)\n",
    "\n",
    "# Annova test\n",
    "dds3 <- DESeq(dds3, test=\"LRT\", reduced=~1, parallel=TRUE)"
   ]
  },
  {
   "cell_type": "code",
   "execution_count": 24,
   "metadata": {},
   "outputs": [
    {
     "data": {
      "text/html": [
       "<style>\n",
       ".list-inline {list-style: none; margin:0; padding: 0}\n",
       ".list-inline>li {display: inline-block}\n",
       ".list-inline>li:not(:last-child)::after {content: \"\\00b7\"; padding: 0 .5ex}\n",
       "</style>\n",
       "<ol class=list-inline><li>'rg3039NotTreated'</li><li>'rg3039Treated'</li><li>'DecitabineTreated'</li><li>'rg3039Treated.DecitabineTreated'</li></ol>\n"
      ],
      "text/latex": [
       "\\begin{enumerate*}\n",
       "\\item 'rg3039NotTreated'\n",
       "\\item 'rg3039Treated'\n",
       "\\item 'DecitabineTreated'\n",
       "\\item 'rg3039Treated.DecitabineTreated'\n",
       "\\end{enumerate*}\n"
      ],
      "text/markdown": [
       "1. 'rg3039NotTreated'\n",
       "2. 'rg3039Treated'\n",
       "3. 'DecitabineTreated'\n",
       "4. 'rg3039Treated.DecitabineTreated'\n",
       "\n",
       "\n"
      ],
      "text/plain": [
       "[1] \"rg3039NotTreated\"                \"rg3039Treated\"                  \n",
       "[3] \"DecitabineTreated\"               \"rg3039Treated.DecitabineTreated\""
      ]
     },
     "metadata": {},
     "output_type": "display_data"
    }
   ],
   "source": [
    "resultsNames(dds3)"
   ]
  },
  {
   "cell_type": "code",
   "execution_count": 25,
   "metadata": {},
   "outputs": [],
   "source": [
    "# contrast design: combination treatment vs decitabine\n",
    "res_comb_vs_decitabine  = results(dds3, contrast=list(\n",
    "    c('rg3039Treated','rg3039Treated.DecitabineTreated'),\n",
    "    c('rg3039NotTreated')\n",
    "),listValues=c(1,-1)) %>% ann_Result"
   ]
  },
  {
   "cell_type": "code",
   "execution_count": 26,
   "metadata": {},
   "outputs": [
    {
     "data": {
      "text/html": [
       "<table class=\"dataframe\">\n",
       "<caption>A data.frame: 3 × 8</caption>\n",
       "<thead>\n",
       "\t<tr><th></th><th scope=col>gene_id</th><th scope=col>gene_name</th><th scope=col>baseMean</th><th scope=col>log2FoldChange</th><th scope=col>lfcSE</th><th scope=col>stat</th><th scope=col>pvalue</th><th scope=col>padj</th></tr>\n",
       "\t<tr><th></th><th scope=col>&lt;chr&gt;</th><th scope=col>&lt;chr&gt;</th><th scope=col>&lt;dbl&gt;</th><th scope=col>&lt;dbl&gt;</th><th scope=col>&lt;dbl&gt;</th><th scope=col>&lt;dbl&gt;</th><th scope=col>&lt;dbl&gt;</th><th scope=col>&lt;dbl&gt;</th></tr>\n",
       "</thead>\n",
       "<tbody>\n",
       "\t<tr><th scope=row>ENSG00000221420.2</th><td>ENSG00000221420.2 </td><td>SNORA81   </td><td>23.94724</td><td>7.749684</td><td>1.674131</td><td>26.82627</td><td>6.402329e-06</td><td>7.962873e-05</td></tr>\n",
       "\t<tr><th scope=row>ENSG00000211448.13</th><td>ENSG00000211448.13</td><td>DIO2      </td><td>13.03464</td><td>7.738086</td><td>2.136193</td><td>19.15470</td><td>2.539824e-04</td><td>2.069317e-03</td></tr>\n",
       "\t<tr><th scope=row>ENSG00000283189.2</th><td>ENSG00000283189.2 </td><td>AC104452.1</td><td>18.03123</td><td>7.569176</td><td>1.944665</td><td>15.07914</td><td>1.750251e-03</td><td>1.079542e-02</td></tr>\n",
       "</tbody>\n",
       "</table>\n"
      ],
      "text/latex": [
       "A data.frame: 3 × 8\n",
       "\\begin{tabular}{r|llllllll}\n",
       "  & gene\\_id & gene\\_name & baseMean & log2FoldChange & lfcSE & stat & pvalue & padj\\\\\n",
       "  & <chr> & <chr> & <dbl> & <dbl> & <dbl> & <dbl> & <dbl> & <dbl>\\\\\n",
       "\\hline\n",
       "\tENSG00000221420.2 & ENSG00000221420.2  & SNORA81    & 23.94724 & 7.749684 & 1.674131 & 26.82627 & 6.402329e-06 & 7.962873e-05\\\\\n",
       "\tENSG00000211448.13 & ENSG00000211448.13 & DIO2       & 13.03464 & 7.738086 & 2.136193 & 19.15470 & 2.539824e-04 & 2.069317e-03\\\\\n",
       "\tENSG00000283189.2 & ENSG00000283189.2  & AC104452.1 & 18.03123 & 7.569176 & 1.944665 & 15.07914 & 1.750251e-03 & 1.079542e-02\\\\\n",
       "\\end{tabular}\n"
      ],
      "text/markdown": [
       "\n",
       "A data.frame: 3 × 8\n",
       "\n",
       "| <!--/--> | gene_id &lt;chr&gt; | gene_name &lt;chr&gt; | baseMean &lt;dbl&gt; | log2FoldChange &lt;dbl&gt; | lfcSE &lt;dbl&gt; | stat &lt;dbl&gt; | pvalue &lt;dbl&gt; | padj &lt;dbl&gt; |\n",
       "|---|---|---|---|---|---|---|---|---|\n",
       "| ENSG00000221420.2 | ENSG00000221420.2  | SNORA81    | 23.94724 | 7.749684 | 1.674131 | 26.82627 | 6.402329e-06 | 7.962873e-05 |\n",
       "| ENSG00000211448.13 | ENSG00000211448.13 | DIO2       | 13.03464 | 7.738086 | 2.136193 | 19.15470 | 2.539824e-04 | 2.069317e-03 |\n",
       "| ENSG00000283189.2 | ENSG00000283189.2  | AC104452.1 | 18.03123 | 7.569176 | 1.944665 | 15.07914 | 1.750251e-03 | 1.079542e-02 |\n",
       "\n"
      ],
      "text/plain": [
       "                   gene_id            gene_name  baseMean log2FoldChange\n",
       "ENSG00000221420.2  ENSG00000221420.2  SNORA81    23.94724 7.749684      \n",
       "ENSG00000211448.13 ENSG00000211448.13 DIO2       13.03464 7.738086      \n",
       "ENSG00000283189.2  ENSG00000283189.2  AC104452.1 18.03123 7.569176      \n",
       "                   lfcSE    stat     pvalue       padj        \n",
       "ENSG00000221420.2  1.674131 26.82627 6.402329e-06 7.962873e-05\n",
       "ENSG00000211448.13 2.136193 19.15470 2.539824e-04 2.069317e-03\n",
       "ENSG00000283189.2  1.944665 15.07914 1.750251e-03 1.079542e-02"
      ]
     },
     "metadata": {},
     "output_type": "display_data"
    }
   ],
   "source": [
    "res_comb_vs_decitabine %>% \n",
    "    filter(pvalue < 0.01) %>% \n",
    "    arrange(desc(log2FoldChange)) %>% head(3)"
   ]
  },
  {
   "cell_type": "code",
   "execution_count": 28,
   "metadata": {},
   "outputs": [
    {
     "name": "stderr",
     "output_type": "stream",
     "text": [
      "geom_path: Each group consists of only one observation. Do you need to adjust\n",
      "the group aesthetic?\n",
      "\n"
     ]
    },
    {
     "data": {
      "image/png": "[encoded data removed]",
      "text/plain": [
       "plot without title"
      ]
     },
     "metadata": {
      "image/png": {
       "height": 420,
       "width": 420
      }
     },
     "output_type": "display_data"
    }
   ],
   "source": [
    "plot_gene_counts(\n",
    "    dds2,\n",
    "    'ENSG00000283189.2','AC104452.1'\n",
    ")"
   ]
  },
  {
   "cell_type": "markdown",
   "metadata": {
    "tags": []
   },
   "source": [
    "### Save results"
   ]
  },
  {
   "cell_type": "code",
   "execution_count": 34,
   "metadata": {},
   "outputs": [],
   "source": [
    "RES = list(res_comb_vs_dmso, res_comb_vs_decitabine)\n",
    "names (RES) <- c('comb_vs_dmso', 'comb_vs_decitabine')"
   ]
  },
  {
   "cell_type": "code",
   "execution_count": null,
   "metadata": {},
   "outputs": [
    {
     "name": "stdout",
     "output_type": "stream",
     "text": [
      "[1] \"comb_vs_dmso\"\n",
      "[1] \"comb_vs_decitabine\"\n"
     ]
    }
   ],
   "source": [
    "# temp file for running iPAGE \n",
    "# write results \n",
    "for (name in names(RES)){\n",
    "    print (name)\n",
    "    # write results \n",
    "    RES[[name]] %>% \n",
    "        mutate(log2FoldChange = replace_na(log2FoldChange, 0)) %>% remove_rownames %>% \n",
    "        dplyr::select('gene_name','log2FoldChange') %>% \n",
    "        write_Result(paste(name,'_delta_exp.txt', sep=''),col=TRUE)\n",
    "}"
   ]
  },
  {
   "cell_type": "code",
   "execution_count": null,
   "metadata": {},
   "outputs": [
    {
     "name": "stdout",
     "output_type": "stream",
     "text": [
      "[1] \"comb_vs_dmso\"\n",
      "[1] \"comb_vs_decitabine\"\n"
     ]
    }
   ],
   "source": [
    "for (name in names(RES)){\n",
    "    print (name)\n",
    "    # write results \n",
    "    RES[[name]] %>% \n",
    "        arrange(gene_name) %>% \n",
    "        dplyr::select('gene_id','gene_name','log2FoldChange','pvalue',everything()) %>% \n",
    "        write_Result(paste(name,'_delta_exp_table.txt', sep=''),col=TRUE)\n",
    "}"
   ]
  },
  {
   "cell_type": "code",
   "execution_count": 33,
   "metadata": {},
   "outputs": [
    {
     "data": {
      "text/html": [
       "<style>\n",
       ".list-inline {list-style: none; margin:0; padding: 0}\n",
       ".list-inline>li {display: inline-block}\n",
       ".list-inline>li:not(:last-child)::after {content: \"\\00b7\"; padding: 0 .5ex}\n",
       "</style>\n",
       "<ol class=list-inline><li>'comb_vs_dmso'</li><li>'comb_vs_decitabine'</li></ol>\n"
      ],
      "text/latex": [
       "\\begin{enumerate*}\n",
       "\\item 'comb\\_vs\\_dmso'\n",
       "\\item 'comb\\_vs\\_decitabine'\n",
       "\\end{enumerate*}\n"
      ],
      "text/markdown": [
       "1. 'comb_vs_dmso'\n",
       "2. 'comb_vs_decitabine'\n",
       "\n",
       "\n"
      ],
      "text/plain": [
       "[1] \"comb_vs_dmso\"       \"comb_vs_decitabine\""
      ]
     },
     "metadata": {},
     "output_type": "display_data"
    }
   ],
   "source": [
    "names(RES)"
   ]
  },
  {
   "cell_type": "code",
   "execution_count": null,
   "metadata": {},
   "outputs": [],
   "source": [
    "result_table <- cbind(\n",
    "    RES[[1]] %>% select('gene_name','log2FoldChange','pvalue') %>% rename(comb_vs_dmso_log2FC=log2FoldChange,comb_vs_dmso_pvalue=pvalue),\n",
    "    RES[[2]] %>% select('log2FoldChange','pvalue') %>% rename(comb_vs_decitabine_log2FC=log2FoldChange,comb_vs_decitabine_pvalue=pvalue)\n",
    ")\n",
    "# result_table"
   ]
  },
  {
   "cell_type": "markdown",
   "metadata": {
    "jp-MarkdownHeadingCollapsed": true,
    "tags": []
   },
   "source": [
    "## Plots"
   ]
  },
  {
   "cell_type": "markdown",
   "metadata": {
    "jp-MarkdownHeadingCollapsed": true,
    "tags": []
   },
   "source": [
    "### Correlation matrix"
   ]
  },
  {
   "cell_type": "code",
   "execution_count": 39,
   "metadata": {},
   "outputs": [
    {
     "name": "stderr",
     "output_type": "stream",
     "text": [
      "Loading required package: lattice\n",
      "\n",
      "Loading required package: survival\n",
      "\n",
      "Loading required package: Formula\n",
      "\n",
      "\n",
      "Attaching package: ‘Hmisc’\n",
      "\n",
      "\n",
      "The following objects are masked from ‘package:dplyr’:\n",
      "\n",
      "    src, summarize\n",
      "\n",
      "\n",
      "The following object is masked from ‘package:AnnotationDbi’:\n",
      "\n",
      "    contents\n",
      "\n",
      "\n",
      "The following object is masked from ‘package:Biobase’:\n",
      "\n",
      "    contents\n",
      "\n",
      "\n",
      "The following objects are masked from ‘package:base’:\n",
      "\n",
      "    format.pval, units\n",
      "\n",
      "\n",
      "corrplot 0.92 loaded\n",
      "\n"
     ]
    }
   ],
   "source": [
    "library(Hmisc)\n",
    "library(corrplot)\n",
    "library(pheatmap)\n",
    "library(ggcorrplot)"
   ]
  },
  {
   "cell_type": "code",
   "execution_count": 40,
   "metadata": {},
   "outputs": [],
   "source": [
    "# all_fc <- result_table %>% select(ends_with(\"log2FC\")) \n",
    "# colnames(all_fc) <- colnames(all_fc) %>% stringr::str_remove(pattern = \"_log2FC\") %>% unlist"
   ]
  },
  {
   "cell_type": "code",
   "execution_count": 41,
   "metadata": {},
   "outputs": [],
   "source": [
    "corr <- rcorr(\n",
    "    as.matrix(\n",
    "        # all_fc %>% select('hl60_6h','hl60_72h','hl60_120h','kg1','molm14','ociaml2','ociaml3','thp1')\n",
    "        ncu\n",
    "    )\n",
    ")"
   ]
  },
  {
   "cell_type": "code",
   "execution_count": 42,
   "metadata": {},
   "outputs": [
    {
     "name": "stderr",
     "output_type": "stream",
     "text": [
      "Scale for 'fill' is already present. Adding another scale for 'fill', which\n",
      "will replace the existing scale.\n",
      "\n"
     ]
    }
   ],
   "source": [
    "colors=c(\"#386cb0\",\"white\",\"#fdb462\")\n",
    "corr_p <- ggcorrplot(\n",
    "    corr$r, \n",
    "    method = c(\"square\", \"circle\"),\n",
    "    # hc.order = TRUE,\n",
    "    type = \"upper\", \n",
    "    p.mat = corr$p,\n",
    "    \n",
    "# ) + ggtitle(\n",
    "#     \"Differential RNA Expression\\nCorrelation matrix\"\n",
    ") + ggplot2::scale_fill_gradient2(\n",
    "    low = colors[1], high = colors[3], mid = colors[2], \n",
    "    midpoint = 0.95, limit = c(0.9, 1), space = \"Lab\"\n",
    ") + theme(\n",
    "    plot.title = element_text(\n",
    "        # face = \"bold\",\n",
    "        size = rel(1.5), hjust = 0.5),\n",
    "    panel.background = element_blank(), \n",
    "    panel.border = element_blank(), \n",
    "    panel.grid.major = element_line(colour = \"white\"), \n",
    "    legend.title = element_blank(),\n",
    "    # legend.position=\"bottom\"\n",
    ")\n",
    "\n",
    "# ggsave('exp/plots/logFC_corr.pdf',width = 4, height = 4)"
   ]
  },
  {
   "cell_type": "code",
   "execution_count": 43,
   "metadata": {},
   "outputs": [
    {
     "data": {
      "image/png": "[encoded data removed]",
      "text/plain": [
       "plot without title"
      ]
     },
     "metadata": {
      "image/png": {
       "height": 420,
       "width": 420
      }
     },
     "output_type": "display_data"
    }
   ],
   "source": [
    "corr_p"
   ]
  },
  {
   "cell_type": "markdown",
   "metadata": {},
   "source": [
    "I'm not sure if it's useful!"
   ]
  },
  {
   "cell_type": "markdown",
   "metadata": {
    "jp-MarkdownHeadingCollapsed": true,
    "tags": []
   },
   "source": [
    "### Scatter plot"
   ]
  },
  {
   "cell_type": "code",
   "execution_count": 29,
   "metadata": {},
   "outputs": [],
   "source": [
    "source(\"../../scripts/util.R\")"
   ]
  },
  {
   "cell_type": "code",
   "execution_count": 45,
   "metadata": {},
   "outputs": [
    {
     "data": {
      "text/html": [
       "<style>\n",
       ".list-inline {list-style: none; margin:0; padding: 0}\n",
       ".list-inline>li {display: inline-block}\n",
       ".list-inline>li:not(:last-child)::after {content: \"\\00b7\"; padding: 0 .5ex}\n",
       "</style>\n",
       "<ol class=list-inline><li>'comb_vs_dmso'</li><li>'comb_vs_decitabine'</li></ol>\n"
      ],
      "text/latex": [
       "\\begin{enumerate*}\n",
       "\\item 'comb\\_vs\\_dmso'\n",
       "\\item 'comb\\_vs\\_decitabine'\n",
       "\\end{enumerate*}\n"
      ],
      "text/markdown": [
       "1. 'comb_vs_dmso'\n",
       "2. 'comb_vs_decitabine'\n",
       "\n",
       "\n"
      ],
      "text/plain": [
       "[1] \"comb_vs_dmso\"       \"comb_vs_decitabine\""
      ]
     },
     "metadata": {},
     "output_type": "display_data"
    }
   ],
   "source": [
    "names(RES)"
   ]
  },
  {
   "cell_type": "code",
   "execution_count": 53,
   "metadata": {},
   "outputs": [],
   "source": [
    "# RES$comb_vs_dmso$log2FoldChange\n",
    "# RES$comb_vs_dmso$log2FoldChange"
   ]
  },
  {
   "cell_type": "code",
   "execution_count": 54,
   "metadata": {},
   "outputs": [],
   "source": [
    "# plot_scatter()"
   ]
  },
  {
   "cell_type": "markdown",
   "metadata": {
    "jp-MarkdownHeadingCollapsed": true,
    "tags": []
   },
   "source": [
    "### Volcano plots"
   ]
  },
  {
   "cell_type": "code",
   "execution_count": 44,
   "metadata": {},
   "outputs": [],
   "source": [
    "plot_Volcano <- function (res, lfc.cutoff, pval.cutoff, title, labels, x_min, x_max) {\n",
    "\n",
    "    res %>% \n",
    "        ggplot(aes(x = log2FoldChange, y = -log10(pvalue))) + \n",
    "        # significant points \n",
    "        geom_point(\n",
    "            data=res %>% filter (abs(log2FoldChange) >= lfc.cutoff, pvalue < pval.cutoff),\n",
    "            aes(x = log2FoldChange, y = -log10(pvalue)), \n",
    "            size=1, alpha = 5/10,\n",
    "            shape=21,color='grey40',fill=colors_values[2]\n",
    "        ) + \n",
    "        # not significant points \n",
    "        geom_point(\n",
    "            data=res %>% filter ((abs(log2FoldChange) < lfc.cutoff) | (pvalue >= pval.cutoff)),\n",
    "            aes(x = log2FoldChange, y = -log10(pvalue)), \n",
    "            size=1, alpha = 1/10,\n",
    "            shape=21,color=colors_values[1],fill=colors_values[1]\n",
    "        ) + \n",
    "        # highlights \n",
    "        geom_point(\n",
    "            data=res %>% filter(gene_name %in% labels),\n",
    "            aes(x = log2FoldChange, y = -log10(pvalue)), \n",
    "            shape=21,size=3,color='grey40',fill='red3'\n",
    "        ) + \n",
    "        geom_label_repel(\n",
    "            data=res %>% filter(gene_name %in% labels),\n",
    "            aes(label = gene_name), box.padding = 1, max.overlaps = Inf\n",
    "        ) + \n",
    "        xlim(c(x_min, x_max)) + \n",
    "        geom_hline(yintercept = -log10(pval.cutoff),linetype = \"dashed\", alpha = 1/10) + \n",
    "        theme(legend.position = \"none\") + \n",
    "        ggtitle(title) + \n",
    "        theme_Publication() -> vol\n",
    "    \n",
    "    return(vol)\n",
    "}"
   ]
  },
  {
   "cell_type": "code",
   "execution_count": 45,
   "metadata": {},
   "outputs": [],
   "source": [
    "\n",
    "# plot_Volcano(\n",
    "#     res_comb_vs_dmso %>% drop_na, \n",
    "#     title='Combination vs DMSO',\n",
    "#     labels=c('MYL9')\n",
    "# )\n",
    "\n",
    "# vol_comb_vs_decitabine <- plot_Volcano(\n",
    "#     res_comb_vs_decitabine %>% drop_na, \n",
    "#     title='Combination vs Decitabine',\n",
    "# )\n",
    "\n",
    "# plot_Volcano(\n",
    "#     res_comb_vs_decitabine %>% drop_na, \n",
    "#     title='Combination vs Decitabine',\n",
    "#     labels='AC104452.1'\n",
    "# )"
   ]
  },
  {
   "cell_type": "code",
   "execution_count": 46,
   "metadata": {},
   "outputs": [],
   "source": [
    "# vol_comb_vs_decitabine + vol_comb_vs_dmso"
   ]
  },
  {
   "cell_type": "code",
   "execution_count": 47,
   "metadata": {},
   "outputs": [],
   "source": [
    "VOL = list()"
   ]
  },
  {
   "cell_type": "code",
   "execution_count": 48,
   "metadata": {},
   "outputs": [],
   "source": [
    "lfc.cutoff = 1\n",
    "pval.cutoff = 0.05\n",
    "colors_values = c(\"grey80\", \"tan\")\n",
    "labels = c(\n",
    "    'SQLE','INTS5'\n",
    ")\n",
    "x_min = -15\n",
    "x_max = 15"
   ]
  },
  {
   "cell_type": "code",
   "execution_count": 49,
   "metadata": {},
   "outputs": [
    {
     "data": {
      "text/html": [
       "<style>\n",
       ".list-inline {list-style: none; margin:0; padding: 0}\n",
       ".list-inline>li {display: inline-block}\n",
       ".list-inline>li:not(:last-child)::after {content: \"\\00b7\"; padding: 0 .5ex}\n",
       "</style>\n",
       "<ol class=list-inline><li>'comb_vs_dmso'</li><li>'comb_vs_decitabine'</li></ol>\n"
      ],
      "text/latex": [
       "\\begin{enumerate*}\n",
       "\\item 'comb\\_vs\\_dmso'\n",
       "\\item 'comb\\_vs\\_decitabine'\n",
       "\\end{enumerate*}\n"
      ],
      "text/markdown": [
       "1. 'comb_vs_dmso'\n",
       "2. 'comb_vs_decitabine'\n",
       "\n",
       "\n"
      ],
      "text/plain": [
       "[1] \"comb_vs_dmso\"       \"comb_vs_decitabine\""
      ]
     },
     "metadata": {},
     "output_type": "display_data"
    }
   ],
   "source": [
    "names(RES)"
   ]
  },
  {
   "cell_type": "code",
   "execution_count": 50,
   "metadata": {},
   "outputs": [
    {
     "ename": "ERROR",
     "evalue": "Error in UseMethod(\"drop_na\"): no applicable method for 'drop_na' applied to an object of class \"NULL\"\n",
     "output_type": "error",
     "traceback": [
      "Error in UseMethod(\"drop_na\"): no applicable method for 'drop_na' applied to an object of class \"NULL\"\nTraceback:\n",
      "1. plot_Volcano(RES[[\"hl60_6h\"]] %>% drop_na(), lfc.cutoff, pval.cutoff, \n .     title = \"HL60 - 6 hours treatment\", labels, x_min, x_max)",
      "2. res %>% ggplot(aes(x = log2FoldChange, y = -log10(pvalue)))   # at line 3-33 of file <text>",
      "3. ggplot(., aes(x = log2FoldChange, y = -log10(pvalue)))",
      "4. RES[[\"hl60_6h\"]] %>% drop_na()",
      "5. drop_na(.)"
     ]
    }
   ],
   "source": [
    "VOL[['hl60_6h']] = plot_Volcano(\n",
    "    RES[['hl60_6h']] %>% drop_na(),\n",
    "    lfc.cutoff, pval.cutoff,\n",
    "    title  = 'HL60 - 6 hours treatment',\n",
    "    labels, x_min, x_max\n",
    ")\n",
    "\n",
    "VOL[['hl60_72h']] = plot_Volcano(\n",
    "    RES[['hl60_72h']] %>% drop_na(),\n",
    "    lfc.cutoff, pval.cutoff,\n",
    "    title  = 'HL60 - 72 hours treatment', \n",
    "    labels, x_min, x_max\n",
    ")\n",
    "\n",
    "\n",
    "VOL[['hl60_72h_only']] = plot_Volcano(\n",
    "    RES[['hl60_72h_only']] %>% drop_na(),\n",
    "    lfc.cutoff, pval.cutoff, \n",
    "    title  = 'HL60',\n",
    "    labels, x_min, x_max\n",
    ")\n",
    "\n",
    "VOL[['hl60_120h']] <- plot_Volcano(\n",
    "    RES[['hl60_120h']] %>% drop_na(),\n",
    "    lfc.cutoff, pval.cutoff,\n",
    "    title  = 'HL60 - 120 hours treatment', \n",
    "    labels, x_min, x_max\n",
    ")"
   ]
  },
  {
   "cell_type": "code",
   "execution_count": null,
   "metadata": {},
   "outputs": [],
   "source": [
    "# pdf('exp/plots/volcano_plots.pdf')\n",
    "for (name in  names(VOL)){\n",
    "    # print (VOL[[name]])    \n",
    "    ggsave(\n",
    "        paste0('exp/plots/volcano_',name,'.pdf'), \n",
    "        plot = VOL[[name]], device = 'pdf', width = 5, height=5, dpi = 300\n",
    "    )\n",
    "}\n",
    "# dev.off()"
   ]
  },
  {
   "cell_type": "code",
   "execution_count": null,
   "metadata": {},
   "outputs": [],
   "source": []
  },
  {
   "cell_type": "code",
   "execution_count": null,
   "metadata": {},
   "outputs": [],
   "source": []
  },
  {
   "cell_type": "code",
   "execution_count": null,
   "metadata": {},
   "outputs": [],
   "source": []
  },
  {
   "cell_type": "code",
   "execution_count": null,
   "metadata": {},
   "outputs": [],
   "source": []
  },
  {
   "cell_type": "code",
   "execution_count": null,
   "metadata": {},
   "outputs": [],
   "source": []
  },
  {
   "cell_type": "markdown",
   "metadata": {
    "jp-MarkdownHeadingCollapsed": true,
    "tags": []
   },
   "source": [
    "### Clustering "
   ]
  },
  {
   "cell_type": "code",
   "execution_count": 3,
   "metadata": {
    "tags": []
   },
   "outputs": [],
   "source": [
    "library(RColorBrewer)\n",
    "library(pheatmap)\n",
    "\n",
    "heat_colors <- brewer.pal(n = 6, name = \"RdYlBu\") %>% rev\n",
    "paired <- brewer.pal(n = 10, name = \"Paired\")\n",
    "\n",
    "ann_colors = list(\n",
    "    cond = c('DMSO'= paired[1], 'Decitabine'=paired[3], 'rg3039'=paired[9],'Combination'=paired[10])\n",
    ")"
   ]
  },
  {
   "cell_type": "code",
   "execution_count": 9,
   "metadata": {
    "tags": []
   },
   "outputs": [],
   "source": [
    "# result_table %>% colnames"
   ]
  },
  {
   "cell_type": "code",
   "execution_count": 10,
   "metadata": {
    "tags": []
   },
   "outputs": [],
   "source": [
    "# ncu[\n",
    "#     # select genes based on abs(log2FC) and pvalue\n",
    "#     result_table %>%\n",
    "#         filter(\n",
    "#             (comb_vs_dmso_log2FC  > 3 & comb_vs_dmso_pvalue   < 0.0001) |\n",
    "#             (comb_vs_decitabine_log2FC > 3 & comb_vs_decitabine_pvalue  < 0.001) |\n",
    "#             (comb_vs_dmso_log2FC  < -3 & comb_vs_dmso_pvalue < 0.001)\n",
    "#         ) %>% \n",
    "#         rownames\n",
    "#     , \n",
    "#     # subset normalized counts\n",
    "#     colData %>% arrange(cond) %>% rownames\n",
    "# ] %>%  \n",
    "#     # generate heatmap\n",
    "#     pheatmap(\n",
    "#         color = heat_colors, \n",
    "#         show_colnames = F,\n",
    "#         show_rownames = F,\n",
    "#         cutree_rows = 4,\n",
    "#         main = 'Decitabine and rg3039 drug combination\\nRNA expression of HL-60 cell line',\n",
    "#         annotation = colData %>% arrange(cond) %>% select(cond),\n",
    "#         cluster_cols = F, \n",
    "#         scale = 'row',\n",
    "#         angle_col= 45,\n",
    "#         annotation_colors = ann_colors\n",
    "# ) -> hm\n",
    "\n",
    "# # https://stackoverflow.com/questions/43051525/how-to-draw-pheatmap-plot-to-screen-and-also-save-to-file\n",
    "# pdf('heatmap_clustering.pdf', width=4, height=4)\n",
    "# grid::grid.newpage()\n",
    "# grid::grid.draw(hm$gtable)\n",
    "# dev.off()"
   ]
  },
  {
   "cell_type": "code",
   "execution_count": 49,
   "metadata": {
    "tags": []
   },
   "outputs": [],
   "source": [
    "genes = c(\n",
    "    # GOBP_MYELOID_LEUKOCYTE_MEDIATED_IMMUNITY\n",
    "    \"ACE\",\"ADAM8\",\"ADGRE3\",\"ADGRG3\",\"ANXA2\",\"C3\",\"C3AR1\",\"C5AR1\",\"CAMP\",\"CCL3\",\n",
    "    \"CD14\",\"CD68\",\"CD93\",\"CDA\",\"CEACAM3\",\"CHI3L1\",\n",
    "    # \"CHIT1\",\n",
    "    \"CKAP4\",\"CLEC4C\",\"CRISPLD2\",\n",
    "    \"CTSD\",\"CTSZ\",\"CXCL6\",\"CXCR1\",\"DSP\",\"EPX\",\"FCGR3B\",\"FGR\",\"FOLR3\",\"FPR1\",\n",
    "    \"FPR2\",\"FTH1\",\"GAA\",\"GATA2\",\"GPR84\",\"HMOX1\",\"HP\",\"HPSE\",\"HSPA6\",\"HVCN1\",\n",
    "    \"IGF2R\",\"IL4R\",\"ITGAX\",\"LAT\",\"LCN2\",\"LGALS3\",\"LILRB2\",\"LILRB3\",\"MCEMP1\",\n",
    "    \"MME\",\"MMP25\",\"MMP9\",\"NR4A3\",\"ORM1\",\"ORM2\",\"PECAM1\",\"PIGR\",\"PLAUR\",\"PLEKHO2\",\n",
    "    # \"PRG3\",\n",
    "    \"PTAFR\",\"PTPRB\",\"PTPRJ\",\"PTX3\",\"QPCT\",\"RAB3D\",\"RNASE2\",\"RNASE3\",\"S100A11\",\n",
    "    \"S100A8\",\"S100A9\",\"S100P\",\"SELL\",\"SERPINA1\",\"SIGLEC9\",\"SIRPB1\",\"SLC11A1\",\"SLC2A3\",\n",
    "    \"SLCO4C1\",\"STXBP1\",\"TCN1\",\"TIMP2\",\"TNFAIP6\",\"VNN1\"\n",
    ")"
   ]
  },
  {
   "cell_type": "code",
   "execution_count": 51,
   "metadata": {
    "tags": []
   },
   "outputs": [],
   "source": [
    "genes = c(\n",
    "    # GOBP_NEGATIVE_REGULATION_OF_IMMUNE_SYSTEM_PROCESS\n",
    "    \"ANXA1\",\"BCL6\",\"C5AR2\",\"CCL3\",\"CD22\",\"CD300A\",\"CD55\",\"CD86\",\"CEBPB\",\"CRTAM\",\n",
    "    \"DHX58\",\"DLG5\",\"DUSP1\",\"FCGR2B\",\"FCRLB\",\"FGL2\",\"FGR\",\"GBP1\",\"GPR137\",\"GPR137B\",\n",
    "    \"HMOX1\",\"IFI16\",\"IL12B\",\"IL1RL1\",\"IL20RB\",\"IL2RA\",\"IL4R\",\"KIR2DL4\",\"KITLG\",\"LGALS3\",\n",
    "    \"LILRB2\",\"LILRB3\",\"LRRC17\",\"MAFB\",\"MERTK\",\"NOD2\",\"PAG1\",\"PAWR\",\"PLCL2\",\"PTPN22\",\n",
    "    \"PTPRJ\",\"RIN3\",\"RIPOR2\",\"SDC4\",\"SFTPD\",\"SYT11\",\"THBS1\",\"TNF\",\"TNFRSF14\",\"TRIB1\",\n",
    "    \"VSIR\",\"ZC3H12A\"\n",
    ")"
   ]
  },
  {
   "cell_type": "code",
   "execution_count": 52,
   "metadata": {
    "tags": []
   },
   "outputs": [
    {
     "data": {
      "text/html": [
       "<strong>png:</strong> 2"
      ],
      "text/latex": [
       "\\textbf{png:} 2"
      ],
      "text/markdown": [
       "**png:** 2"
      ],
      "text/plain": [
       "png \n",
       "  2 "
      ]
     },
     "metadata": {},
     "output_type": "display_data"
    },
    {
     "data": {
      "image/png": "[encoded data removed]",
      "text/plain": [
       "plot without title"
      ]
     },
     "metadata": {
      "image/png": {
       "height": 420,
       "width": 420
      }
     },
     "output_type": "display_data"
    }
   ],
   "source": [
    "mat <- counts[\n",
    "    # subset to selected genes \n",
    "    counts$name %in% genes, \n",
    "    # subset normalized counts\n",
    "    c('name',colData %>% arrange(cond) %>% rownames)\n",
    "] %>%  remove_rownames %>% column_to_rownames('name') \n",
    "\n",
    "mat [rowSums(mat > 10) > 0,] %>%\n",
    "    # generate heatmap\n",
    "    pheatmap(\n",
    "        color = heat_colors, \n",
    "        show_colnames = F,\n",
    "        show_rownames = T,\n",
    "        cutree_rows = 2,\n",
    "        main = 'Decitabine and rg3039 drug combination\\nRNA expression of HL-60 cell line\\nGOBP_MYELOID_LEUKOCYTE_MEDIATED_IMMUNITY',\n",
    "        annotation = colData %>% arrange(cond) %>% select(cond),\n",
    "        cluster_cols = F, \n",
    "        cellheight=10,\n",
    "        scale = 'row',\n",
    "        angle_col= 45,\n",
    "        annotation_colors = ann_colors\n",
    ") -> hm\n",
    "\n",
    "# https://stackoverflow.com/questions/43051525/how-to-draw-pheatmap-plot-to-screen-and-also-save-to-file\n",
    "pdf('heatmap_clustering_GOBP_NEGATIVE_REGULATION_OF_IMMUNE_SYSTEM_PROCESS.pdf', width=6, height=15)\n",
    "grid::grid.newpage()\n",
    "grid::grid.draw(hm$gtable)\n",
    "dev.off()"
   ]
  },
  {
   "cell_type": "markdown",
   "metadata": {
    "jp-MarkdownHeadingCollapsed": true,
    "tags": []
   },
   "source": [
    "# Session Info"
   ]
  },
  {
   "cell_type": "code",
   "execution_count": 143,
   "metadata": {},
   "outputs": [
    {
     "data": {
      "text/plain": [
       "R version 4.1.1 (2021-08-10)\n",
       "Platform: x86_64-conda-linux-gnu (64-bit)\n",
       "Running under: CentOS Linux 7 (Core)\n",
       "\n",
       "Matrix products: default\n",
       "BLAS/LAPACK: /data_gilbert/home/aarab/anaconda3/envs/deseq2/lib/libopenblasp-r0.3.18.so\n",
       "\n",
       "locale:\n",
       " [1] LC_CTYPE=en_US.UTF-8       LC_NUMERIC=C              \n",
       " [3] LC_TIME=en_US.UTF-8        LC_COLLATE=en_US.UTF-8    \n",
       " [5] LC_MONETARY=en_US.UTF-8    LC_MESSAGES=en_US.UTF-8   \n",
       " [7] LC_PAPER=en_US.UTF-8       LC_NAME=C                 \n",
       " [9] LC_ADDRESS=C               LC_TELEPHONE=C            \n",
       "[11] LC_MEASUREMENT=en_US.UTF-8 LC_IDENTIFICATION=C       \n",
       "\n",
       "attached base packages:\n",
       "[1] grid      stats4    stats     graphics  grDevices utils     datasets \n",
       "[8] methods   base     \n",
       "\n",
       "other attached packages:\n",
       " [1] scales_1.1.1                ggthemes_4.2.4             \n",
       " [3] gridExtra_2.3               BiocParallel_1.28.0        \n",
       " [5] patchwork_1.1.1             DESeq2_1.34.0              \n",
       " [7] SummarizedExperiment_1.24.0 MatrixGenerics_1.6.0       \n",
       " [9] matrixStats_0.61.0          ggrepel_0.9.1              \n",
       "[11] forcats_0.5.1               stringr_1.4.0              \n",
       "[13] dplyr_1.0.7                 purrr_0.3.4                \n",
       "[15] readr_2.0.2                 tidyr_1.1.4                \n",
       "[17] tibble_3.1.6                ggplot2_3.3.5              \n",
       "[19] tidyverse_1.3.1             tximport_1.22.0            \n",
       "[21] GenomicFeatures_1.46.1      AnnotationDbi_1.56.1       \n",
       "[23] Biobase_2.54.0              GenomicRanges_1.46.0       \n",
       "[25] GenomeInfoDb_1.30.0         IRanges_2.28.0             \n",
       "[27] S4Vectors_0.32.0            BiocGenerics_0.40.0        \n",
       "\n",
       "loaded via a namespace (and not attached):\n",
       " [1] colorspace_2.0-2         rjson_0.2.20             ellipsis_0.3.2          \n",
       " [4] IRdisplay_1.0            XVector_0.34.0           base64enc_0.1-3         \n",
       " [7] fs_1.5.0                 rstudioapi_0.13          farver_2.1.0            \n",
       "[10] bit64_4.0.5              fansi_0.4.2              lubridate_1.8.0         \n",
       "[13] xml2_1.3.2               splines_4.1.1            cachem_1.0.6            \n",
       "[16] geneplotter_1.72.0       IRkernel_1.2             jsonlite_1.7.2          \n",
       "[19] Rsamtools_2.10.0         broom_0.7.10             annotate_1.72.0         \n",
       "[22] dbplyr_2.1.1             png_0.1-7                compiler_4.1.1          \n",
       "[25] httr_1.4.2               backports_1.3.0          assertthat_0.2.1        \n",
       "[28] Matrix_1.3-4             fastmap_1.1.0            cli_3.1.0               \n",
       "[31] htmltools_0.5.2          prettyunits_1.1.1        tools_4.1.1             \n",
       "[34] gtable_0.3.0             glue_1.5.0               GenomeInfoDbData_1.2.7  \n",
       "[37] rappdirs_0.3.3           Rcpp_1.0.7               cellranger_1.1.0        \n",
       "[40] vctrs_0.3.8              Biostrings_2.62.0        rtracklayer_1.54.0      \n",
       "[43] rvest_1.0.2              lifecycle_1.0.1          restfulr_0.0.13         \n",
       "[46] XML_3.99-0.8             zlibbioc_1.40.0          vroom_1.5.5             \n",
       "[49] hms_1.1.1                parallel_4.1.1           RColorBrewer_1.1-2      \n",
       "[52] yaml_2.2.1               curl_4.3.2               memoise_2.0.0           \n",
       "[55] biomaRt_2.50.0           stringi_1.7.5            RSQLite_2.2.8           \n",
       "[58] genefilter_1.76.0        BiocIO_1.4.0             filelock_1.0.2          \n",
       "[61] repr_1.1.3               rlang_0.4.12             pkgconfig_2.0.3         \n",
       "[64] bitops_1.0-7             evaluate_0.14            lattice_0.20-45         \n",
       "[67] labeling_0.4.2           GenomicAlignments_1.30.0 bit_4.0.4               \n",
       "[70] tidyselect_1.1.1         magrittr_2.0.1           R6_2.5.1                \n",
       "[73] generics_0.1.1           pbdZMQ_0.3-6             DelayedArray_0.20.0     \n",
       "[76] DBI_1.1.1                pillar_1.6.4             haven_2.4.3             \n",
       "[79] withr_2.4.2              survival_3.2-13          KEGGREST_1.34.0         \n",
       "[82] RCurl_1.98-1.5           modelr_0.1.8             crayon_1.4.2            \n",
       "[85] uuid_1.0-3               utf8_1.2.2               BiocFileCache_2.2.0     \n",
       "[88] tzdb_0.2.0               progress_1.2.2           locfit_1.5-9.4          \n",
       "[91] readxl_1.3.1             blob_1.2.2               reprex_2.0.1            \n",
       "[94] digest_0.6.28            xtable_1.8-4             munsell_0.5.0           "
      ]
     },
     "metadata": {},
     "output_type": "display_data"
    }
   ],
   "source": [
    "sessionInfo()"
   ]
  },
  {
   "cell_type": "code",
   "execution_count": 67,
   "metadata": {},
   "outputs": [
    {
     "data": {
      "text/html": [
       "<span style=white-space:pre-wrap>'Tue Aug  2 17:58:51 2022'</span>"
      ],
      "text/latex": [
       "'Tue Aug  2 17:58:51 2022'"
      ],
      "text/markdown": [
       "<span style=white-space:pre-wrap>'Tue Aug  2 17:58:51 2022'</span>"
      ],
      "text/plain": [
       "[1] \"Tue Aug  2 17:58:51 2022\""
      ]
     },
     "metadata": {},
     "output_type": "display_data"
    }
   ],
   "source": [
    "date()"
   ]
  }
 ],
 "metadata": {
  "kernelspec": {
   "display_name": "R [conda env:anaconda3-deseq2]",
   "language": "R",
   "name": "conda-env-anaconda3-deseq2-r"
  },
  "language_info": {
   "codemirror_mode": "r",
   "file_extension": ".r",
   "mimetype": "text/x-r-source",
   "name": "R",
   "pygments_lexer": "r",
   "version": "4.1.1"
  },
  "widgets": {
   "application/vnd.jupyter.widget-state+json": {
    "state": {},
    "version_major": 2,
    "version_minor": 0
   }
  }
 },
 "nbformat": 4,
 "nbformat_minor": 4
}
