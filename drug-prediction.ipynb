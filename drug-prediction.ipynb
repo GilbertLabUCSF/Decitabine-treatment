{
 "cells": [
  {
   "cell_type": "markdown",
   "id": "615c44fb-e529-42e3-816c-0e77e1ace997",
   "metadata": {},
   "source": [
    "- https://github.com/AstraZeneca/skywalkR-graph-features\n",
    "\n",
    "> KR4SL: knowledge graph reasoning for explainable prediction of synthetic lethality \n",
    "> - https://doi.org/10.1093/bioinformatics/btad261\n",
    "\n",
    "- https://github.com/mims-harvard/PrimeKG#dataloader-therapeutics-data-commons\n",
    "\n",
    "- https://tdcommons.ai/multi_pred_tasks/ppi/"
   ]
  },
  {
   "cell_type": "markdown",
   "id": "dc5e7b42-d30f-4762-8b42-8336c28181bf",
   "metadata": {},
   "source": [
    "___"
   ]
  },
  {
   "cell_type": "markdown",
   "id": "e7814746-d9d0-4940-8196-ee52dfa42f66",
   "metadata": {
    "jp-MarkdownHeadingCollapsed": true,
    "tags": []
   },
   "source": [
    "### Load ..."
   ]
  },
  {
   "cell_type": "code",
   "execution_count": 1,
   "id": "ad18dca8-18aa-4c47-ae0e-11d5626b3ec6",
   "metadata": {
    "tags": []
   },
   "outputs": [],
   "source": [
    "import numpy as np \n",
    "import pandas as pd\n",
    "import anndata as ad\n",
    "import screenpro\n",
    "\n",
    "from screenpro.load import loadScreenProcessingData, read_adata_pkl\n",
    "\n",
    "import sys\n",
    "sys.path.append(\"/data_gilbert/home/aarab/FunGI\")\n",
    "from search import *"
   ]
  },
  {
   "cell_type": "code",
   "execution_count": 2,
   "id": "c0158330-2ccb-4f8e-a41d-669d3f3459d4",
   "metadata": {
    "tags": []
   },
   "outputs": [],
   "source": [
    "import matplotlib.pyplot as plt\n",
    "\n",
    "from matplotlib import font_manager as fm\n",
    "from matplotlib import rcParams\n",
    "\n",
    "font_files = fm.findSystemFonts(fontpaths=None, fontext='ttf')\n",
    "\n",
    "for font_file in font_files:\n",
    "    fm.fontManager.addfont(font_file)\n",
    "\n",
    "# {f.name for f in matplotlib.font_manager.fontManager.ttflist}\n",
    "\n",
    "rcParams['font.family'] = ['Arial']"
   ]
  },
  {
   "cell_type": "markdown",
   "id": "adc8662b-0025-403d-a0ce-3d0932d8ff5d",
   "metadata": {},
   "source": [
    "___"
   ]
  },
  {
   "cell_type": "code",
   "execution_count": 3,
   "id": "bf99e9ab-f920-444b-83b2-88ddcb9fd678",
   "metadata": {
    "tags": []
   },
   "outputs": [],
   "source": [
    "import igraph as ig"
   ]
  },
  {
   "cell_type": "code",
   "execution_count": 134,
   "id": "6e6b54bc-e653-41c5-a81f-2a20f95fe807",
   "metadata": {
    "tags": []
   },
   "outputs": [],
   "source": [
    "# def convert_graph_to_dataframe(G):\n",
    "#     # https://igraph.discourse.group/t/convert-graph-object-to-dataframe/575\n",
    "#     node_df = pd.DataFrame({attr: G.vs[attr] for attr in G.vertex_attributes()})\n",
    "#     edge_df = pd.DataFrame({attr: G.es[attr] for attr in G.edge_attributes()})\n",
    "    \n",
    "#     return edge_df, node_df"
   ]
  },
  {
   "cell_type": "code",
   "execution_count": 4,
   "id": "3b896b7f-5bd6-4360-823e-e26fb2bf56ab",
   "metadata": {
    "tags": []
   },
   "outputs": [
    {
     "name": "stdout",
     "output_type": "stream",
     "text": [
      "Help on function filter_graph_by_weight in module search:\n",
      "\n",
      "filter_graph_by_weight(G, weight_thr, side, verbose=True)\n",
      "    subset graph by weight threshold\n",
      "\n"
     ]
    }
   ],
   "source": [
    "help(filter_graph_by_weight)"
   ]
  },
  {
   "cell_type": "code",
   "execution_count": 5,
   "id": "afe4081b-868e-4677-956b-3222227d2c87",
   "metadata": {
    "tags": []
   },
   "outputs": [
    {
     "name": "stdout",
     "output_type": "stream",
     "text": [
      "Help on function run_bfs in module search:\n",
      "\n",
      "run_bfs(graph, node, distance=1)\n",
      "    Run BFS – Breadth-First Traversal (or Search)\n",
      "    This function is running BFS algorithm to create a subgraph for given 1) `igraph` object, 2) node id, and 3) distance from the node.\n",
      "    The subgraph includes all nodes with certain distance (defualt 1) from the given node.\n",
      "\n"
     ]
    }
   ],
   "source": [
    "help(run_bfs)"
   ]
  },
  {
   "cell_type": "code",
   "execution_count": 6,
   "id": "64edefaa-abac-406c-8a30-0315ebafbd15",
   "metadata": {
    "tags": []
   },
   "outputs": [],
   "source": [
    "def build_graph(df,verbose=True):\n",
    "\n",
    "    out = ig.Graph.TupleList(df.itertuples(index=False), directed=False, weights=True)\n",
    "\n",
    "    if verbose: get_graph_features(out)\n",
    "\n",
    "    return out"
   ]
  },
  {
   "cell_type": "code",
   "execution_count": 81,
   "id": "85560a1a-7f43-43c8-89e2-dbd89e96c7ed",
   "metadata": {
    "tags": []
   },
   "outputs": [],
   "source": [
    "def filter_graph_by_nodes_BFS(G, nodes, max_distance=1, verbose=True):\n",
    "    \"\"\"filter graph `G` by running BFS for given nodes\n",
    "    \"\"\"\n",
    "    bfs = []\n",
    "    for node in nodes:\n",
    "        for distance in range(1, max_distance + 1):\n",
    "            bfs = bfs + run_bfs(G, node, distance=distance)\n",
    "    \n",
    "    outG = G.vs.select(name_in=bfs + nodes).subgraph()\n",
    "    \n",
    "    if verbose: get_graph_features(outG)\n",
    "    \n",
    "    return outG"
   ]
  },
  {
   "cell_type": "code",
   "execution_count": 8,
   "id": "7c96ac02-bc9c-436a-9f5e-55ea076c7875",
   "metadata": {
    "tags": []
   },
   "outputs": [],
   "source": [
    "def plot_graph(G, geneset=None, geneset2=None, layout=\"kk\", b1=500, b2=500):\n",
    "    \"\"\"visualising graph data\n",
    "    \"\"\"\n",
    "    G.vs[\"color\"] = [\"lightgray\" for vertex in G.vs] \n",
    "\n",
    "    if geneset: \n",
    "        for gene in geneset:\n",
    "            G.vs[[i for i, x in enumerate(G.vs['name']) if x == gene][0]]['color'] = 'yellow'\n",
    "            \n",
    "    if geneset2: \n",
    "        for gene in geneset2:\n",
    "            G.vs[[i for i, x in enumerate(G.vs['name']) if x == gene][0]]['color'] = \"lightblue\"\n",
    "\n",
    "    return ig.plot(\n",
    "        G,\n",
    "        layout=G.layout(layout),\n",
    "        vertex_label=G.vs[\"name\"],\n",
    "        vertex_color=G.vs[\"color\"],\n",
    "        vertex_label_size=6, \n",
    "        vertex_size=35,\n",
    "        edge_arrow_size = 0.5,\n",
    "        edge_arrow_width = 2,\n",
    "        bbox=(b1, b2), margin=60,\n",
    "    )"
   ]
  },
  {
   "cell_type": "markdown",
   "id": "2c44b16b-ed0e-4ea4-9596-06b267f81075",
   "metadata": {},
   "source": [
    "___"
   ]
  },
  {
   "cell_type": "code",
   "execution_count": 9,
   "id": "39fde15f-e155-4082-a92d-08d49d4f3008",
   "metadata": {
    "tags": []
   },
   "outputs": [],
   "source": [
    "%load_ext rpy2.ipython"
   ]
  },
  {
   "cell_type": "markdown",
   "id": "8b8cb4c7-8cfa-43e7-9329-8aec50685357",
   "metadata": {},
   "source": [
    "https://users.dimi.uniud.it/~massimo.franceschet/R/communities.html"
   ]
  },
  {
   "cell_type": "markdown",
   "id": "5714e944-389a-4f2a-a3f3-424e64bde35b",
   "metadata": {},
   "source": [
    "https://kateto.net/netscix2016.html"
   ]
  },
  {
   "cell_type": "code",
   "execution_count": 10,
   "id": "68f15be2-b319-48eb-8569-76f69bedee2a",
   "metadata": {
    "tags": []
   },
   "outputs": [
    {
     "name": "stderr",
     "output_type": "stream",
     "text": [
      "R[write to console]: \n",
      "Attaching package: ‘igraph’\n",
      "\n",
      "\n",
      "R[write to console]: The following objects are masked from ‘package:stats’:\n",
      "\n",
      "    decompose, spectrum\n",
      "\n",
      "\n",
      "R[write to console]: The following object is masked from ‘package:base’:\n",
      "\n",
      "    union\n",
      "\n",
      "\n"
     ]
    },
    {
     "name": "stdout",
     "output_type": "stream",
     "text": [
      "── Attaching core tidyverse packages ──────────────────────── tidyverse 2.0.0 ──\n",
      "✔ dplyr     1.1.2     ✔ readr     2.1.4\n",
      "✔ forcats   1.0.0     ✔ stringr   1.5.0\n",
      "✔ ggplot2   3.4.2     ✔ tibble    3.2.1\n",
      "✔ lubridate 1.9.2     ✔ tidyr     1.3.0\n",
      "✔ purrr     1.0.1     \n",
      "── Conflicts ────────────────────────────────────────── tidyverse_conflicts() ──\n",
      "✖ lubridate::%--%()      masks igraph::%--%()\n",
      "✖ dplyr::as_data_frame() masks tibble::as_data_frame(), igraph::as_data_frame()\n",
      "✖ purrr::compose()       masks igraph::compose()\n",
      "✖ tidyr::crossing()      masks igraph::crossing()\n",
      "✖ dplyr::filter()        masks stats::filter()\n",
      "✖ dplyr::lag()           masks stats::lag()\n",
      "✖ purrr::simplify()      masks igraph::simplify()\n",
      "ℹ Use the conflicted package (<http://conflicted.r-lib.org/>) to force all conflicts to become errors\n"
     ]
    }
   ],
   "source": [
    "%%R\n",
    "library(igraph)\n",
    "library(tidyverse)"
   ]
  },
  {
   "cell_type": "markdown",
   "id": "29883b44-6be7-4d4c-9cc3-8dee22b8b2b2",
   "metadata": {},
   "source": [
    "___"
   ]
  },
  {
   "cell_type": "markdown",
   "id": "b1f8ccdc-6765-4701-9e68-d58dbbffb1ac",
   "metadata": {
    "jp-MarkdownHeadingCollapsed": true,
    "tags": []
   },
   "source": [
    "### Drug KG"
   ]
  },
  {
   "cell_type": "code",
   "execution_count": 1,
   "id": "a454b7d8-46d7-4123-a74e-f8a39af45976",
   "metadata": {
    "tags": []
   },
   "outputs": [],
   "source": [
    "!mkdir -p datasets"
   ]
  },
  {
   "cell_type": "code",
   "execution_count": 2,
   "id": "1ac86e3a-0b85-4d73-94a7-7393b6b7e1cc",
   "metadata": {},
   "outputs": [],
   "source": [
    "import pandas as pd\n",
    "\n",
    "from tdc.multi_pred import DrugRes\n",
    "from tdc.resource import PrimeKG\n",
    "\n",
    "from copy import copy\n",
    "\n",
    "\n",
    "class PrimeExplorer:\n",
    "\n",
    "    \"\"\"PrimeKG Explorer\n",
    "    \"\"\"\n",
    "    def __init__(self, df=None,primekg=None):\n",
    "        \"\"\"load the subgraph of PrimeKG\"\"\"\n",
    "        if df:\n",
    "            self.df = df\n",
    "        else:\n",
    "            self.df = primekg.df\n",
    "    \n",
    "    def copy(self):\n",
    "        return copy(self)\n",
    "    \n",
    "    def run_query(self, query):\n",
    "        \"\"\"build subgraph using given query\"\"\"\n",
    "        self.df_raw = self.df\n",
    "        self.df = self.df.query(query)\n",
    "    \n",
    "    def get_nodes_by_source(self, source):\n",
    "        # extract x nodes\n",
    "        x_df = self.df.query(\n",
    "            f\"x_source == '{source}' | y_source == '{source}'\"\n",
    "        )[[col for col in self.df.columns if col.startswith(\"x_\")]]\n",
    "\n",
    "        for col in x_df.columns:\n",
    "            x_df = x_df.rename(columns={col: col[2:]})\n",
    "\n",
    "        # extract y nodes\n",
    "        y_df = self.df.query(\n",
    "            f\"x_source == '{source}' | y_source == '{source}'\"\n",
    "        )[[col for col in self.df.columns if col.startswith(\"y_\")]]\n",
    "        for col in y_df.columns:\n",
    "            y_df = y_df.rename(columns={col: col[2:]})\n",
    "        # merge x and y nodes and keep only unique nodes\n",
    "        out = pd.concat([x_df, y_df], axis=0).query(f'source == \"{source}\"').drop_duplicates().reset_index(drop=True)\n",
    "\n",
    "        return out"
   ]
  },
  {
   "cell_type": "code",
   "execution_count": 3,
   "id": "609352fc-543e-4fde-a4ad-38bb51888280",
   "metadata": {
    "tags": []
   },
   "outputs": [],
   "source": [
    "# Drug Response Prediction Task Overview\n",
    "# Y is the log normalized IC50. This is the version 2 of GDSC, which uses improved experimental procedures.\n",
    "\n",
    "# https://tdcommons.ai/multi_pred_tasks/drugres/"
   ]
  },
  {
   "cell_type": "code",
   "execution_count": 4,
   "id": "3ee3e361-fedd-4f42-82cb-8ca6241e2a9b",
   "metadata": {
    "tags": []
   },
   "outputs": [
    {
     "name": "stderr",
     "output_type": "stream",
     "text": [
      "Found local copy...\n",
      "Loading...\n",
      "Done!\n",
      "Found local copy...\n",
      "Loading...\n",
      "Done!\n",
      "Found local copy...\n",
      "Loading...\n"
     ]
    }
   ],
   "source": [
    "GDSC1 = DrugRes(name = 'GDSC1', path = './datasets/GDSC1')\n",
    "GDSC2 = DrugRes(name = 'GDSC2', path = './datasets/GDSC2')\n",
    "\n",
    "primekg = PrimeExplorer(primekg = PrimeKG(path = './datasets/PrimeKG'))"
   ]
  },
  {
   "cell_type": "markdown",
   "id": "5904a600-fd04-4b0d-bb30-f47588d5e525",
   "metadata": {},
   "source": [
    "### DAC - gene"
   ]
  },
  {
   "cell_type": "code",
   "execution_count": null,
   "id": "f3b7bb82-c8c0-4d07-8294-e5bec911f959",
   "metadata": {},
   "outputs": [],
   "source": []
  },
  {
   "cell_type": "code",
   "execution_count": null,
   "id": "35672cae-0a31-4be6-bf54-bc3be5457125",
   "metadata": {},
   "outputs": [],
   "source": []
  },
  {
   "cell_type": "code",
   "execution_count": null,
   "id": "8c1c7052-6585-4d10-a98b-5fcf4f4fcd72",
   "metadata": {},
   "outputs": [],
   "source": []
  },
  {
   "cell_type": "code",
   "execution_count": null,
   "id": "20258a1b-2c25-4962-bb51-cf06f3915cb2",
   "metadata": {},
   "outputs": [],
   "source": []
  },
  {
   "cell_type": "markdown",
   "id": "96fb7d54-3522-4baf-b09e-0731bbab39a7",
   "metadata": {},
   "source": [
    "### DAC + X Drug"
   ]
  },
  {
   "cell_type": "code",
   "execution_count": 50,
   "id": "08c618b5-3c64-426b-8521-34e2be6f0cb7",
   "metadata": {
    "tags": []
   },
   "outputs": [],
   "source": [
    "primekg_drug_target = primekg.copy()\n",
    "\n",
    "primekg_drug_target.run_query(query='relation == \"drug_protein\" & display_relation == \"target\"')"
   ]
  },
  {
   "cell_type": "code",
   "execution_count": 7,
   "id": "8cc900c4-3e50-483f-ab62-61a82a7b736a",
   "metadata": {
    "tags": []
   },
   "outputs": [],
   "source": [
    "durgs = primekg.get_nodes_by_source('DrugBank')"
   ]
  },
  {
   "cell_type": "code",
   "execution_count": 8,
   "id": "8653b64c-9bd9-49dd-a01f-da452cc58811",
   "metadata": {
    "tags": []
   },
   "outputs": [
    {
     "data": {
      "text/html": [
       "<div>\n",
       "<style scoped>\n",
       "    .dataframe tbody tr th:only-of-type {\n",
       "        vertical-align: middle;\n",
       "    }\n",
       "\n",
       "    .dataframe tbody tr th {\n",
       "        vertical-align: top;\n",
       "    }\n",
       "\n",
       "    .dataframe thead th {\n",
       "        text-align: right;\n",
       "    }\n",
       "</style>\n",
       "<table border=\"1\" class=\"dataframe\">\n",
       "  <thead>\n",
       "    <tr style=\"text-align: right;\">\n",
       "      <th></th>\n",
       "      <th>id</th>\n",
       "      <th>type</th>\n",
       "      <th>name</th>\n",
       "      <th>source</th>\n",
       "    </tr>\n",
       "  </thead>\n",
       "  <tbody>\n",
       "    <tr>\n",
       "      <th>0</th>\n",
       "      <td>DB09130</td>\n",
       "      <td>drug</td>\n",
       "      <td>Copper</td>\n",
       "      <td>DrugBank</td>\n",
       "    </tr>\n",
       "    <tr>\n",
       "      <th>1</th>\n",
       "      <td>DB09140</td>\n",
       "      <td>drug</td>\n",
       "      <td>Oxygen</td>\n",
       "      <td>DrugBank</td>\n",
       "    </tr>\n",
       "    <tr>\n",
       "      <th>2</th>\n",
       "      <td>DB00180</td>\n",
       "      <td>drug</td>\n",
       "      <td>Flunisolide</td>\n",
       "      <td>DrugBank</td>\n",
       "    </tr>\n",
       "    <tr>\n",
       "      <th>3</th>\n",
       "      <td>DB00240</td>\n",
       "      <td>drug</td>\n",
       "      <td>Alclometasone</td>\n",
       "      <td>DrugBank</td>\n",
       "    </tr>\n",
       "    <tr>\n",
       "      <th>4</th>\n",
       "      <td>DB00253</td>\n",
       "      <td>drug</td>\n",
       "      <td>Medrysone</td>\n",
       "      <td>DrugBank</td>\n",
       "    </tr>\n",
       "    <tr>\n",
       "      <th>...</th>\n",
       "      <td>...</td>\n",
       "      <td>...</td>\n",
       "      <td>...</td>\n",
       "      <td>...</td>\n",
       "    </tr>\n",
       "    <tr>\n",
       "      <th>7952</th>\n",
       "      <td>DB01486</td>\n",
       "      <td>drug</td>\n",
       "      <td>Cathine</td>\n",
       "      <td>DrugBank</td>\n",
       "    </tr>\n",
       "    <tr>\n",
       "      <th>7953</th>\n",
       "      <td>DB11104</td>\n",
       "      <td>drug</td>\n",
       "      <td>Sulfur hexafluoride</td>\n",
       "      <td>DrugBank</td>\n",
       "    </tr>\n",
       "    <tr>\n",
       "      <th>7954</th>\n",
       "      <td>DB00639</td>\n",
       "      <td>drug</td>\n",
       "      <td>Butoconazole</td>\n",
       "      <td>DrugBank</td>\n",
       "    </tr>\n",
       "    <tr>\n",
       "      <th>7955</th>\n",
       "      <td>DB00538</td>\n",
       "      <td>drug</td>\n",
       "      <td>Gadoversetamide</td>\n",
       "      <td>DrugBank</td>\n",
       "    </tr>\n",
       "    <tr>\n",
       "      <th>7956</th>\n",
       "      <td>DB06703</td>\n",
       "      <td>drug</td>\n",
       "      <td>Gadobutrol</td>\n",
       "      <td>DrugBank</td>\n",
       "    </tr>\n",
       "  </tbody>\n",
       "</table>\n",
       "<p>7957 rows × 4 columns</p>\n",
       "</div>"
      ],
      "text/plain": [
       "           id  type                 name    source\n",
       "0     DB09130  drug               Copper  DrugBank\n",
       "1     DB09140  drug               Oxygen  DrugBank\n",
       "2     DB00180  drug          Flunisolide  DrugBank\n",
       "3     DB00240  drug        Alclometasone  DrugBank\n",
       "4     DB00253  drug            Medrysone  DrugBank\n",
       "...       ...   ...                  ...       ...\n",
       "7952  DB01486  drug              Cathine  DrugBank\n",
       "7953  DB11104  drug  Sulfur hexafluoride  DrugBank\n",
       "7954  DB00639  drug         Butoconazole  DrugBank\n",
       "7955  DB00538  drug      Gadoversetamide  DrugBank\n",
       "7956  DB06703  drug           Gadobutrol  DrugBank\n",
       "\n",
       "[7957 rows x 4 columns]"
      ]
     },
     "execution_count": 8,
     "metadata": {},
     "output_type": "execute_result"
    }
   ],
   "source": [
    "durgs"
   ]
  },
  {
   "cell_type": "code",
   "execution_count": 9,
   "id": "44893151-39c0-4ebd-b68c-9bea780f9952",
   "metadata": {
    "tags": []
   },
   "outputs": [],
   "source": [
    "primekg_dac_synergy = primekg.copy()\n",
    "\n",
    "primekg_dac_synergy.run_query('(x_name == \"Decitabine\" | y_name == \"Decitabine\")&(display_relation == \"synergistic interaction\")')"
   ]
  },
  {
   "cell_type": "code",
   "execution_count": 10,
   "id": "e9f462d0-b5dc-4859-a0ed-a4afcef3e089",
   "metadata": {},
   "outputs": [],
   "source": [
    "primekg_dac_synergy_drug_names = primekg_dac_synergy.get_nodes_by_source(source='DrugBank').name.to_list()"
   ]
  },
  {
   "cell_type": "markdown",
   "id": "9e2c62cb-724a-44ab-8947-47cd538e95ab",
   "metadata": {},
   "source": [
    "___"
   ]
  },
  {
   "cell_type": "code",
   "execution_count": 11,
   "id": "c3c5432b-d52e-41e1-9087-23bd1434f6d6",
   "metadata": {},
   "outputs": [],
   "source": [
    "target_genes = [\n",
    "    \"PMPCA\",\"RNF126\",\"SLC7A6\",\"DHODH\",\"ZNF777\",\"SQLE\",\"MYBBP1A\",\"RBM14-RBM4\",\"INTS5\",\"INO80D\",\n",
    "    'BCL2'\n",
    "] \n",
    "# + ['DNMT1']"
   ]
  },
  {
   "cell_type": "code",
   "execution_count": 13,
   "id": "32529c3e-8241-489b-ba6c-67bdf68a203c",
   "metadata": {
    "tags": []
   },
   "outputs": [
    {
     "data": {
      "text/plain": [
       "['PMPCA',\n",
       " 'RNF126',\n",
       " 'SLC7A6',\n",
       " 'DHODH',\n",
       " 'ZNF777',\n",
       " 'SQLE',\n",
       " 'MYBBP1A',\n",
       " 'RBM14-RBM4',\n",
       " 'INTS5',\n",
       " 'INO80D']"
      ]
     },
     "execution_count": 13,
     "metadata": {},
     "output_type": "execute_result"
    }
   ],
   "source": [
    "target_genes"
   ]
  },
  {
   "cell_type": "code",
   "execution_count": 14,
   "id": "2faaa5f9-efff-45b3-93ff-f6a19ec2fc1c",
   "metadata": {},
   "outputs": [],
   "source": [
    "primekg_drugs_for_combo = primekg_drug_target.copy()\n",
    "primekg_drugs_for_combo.run_query(f'x_name in {target_genes} | y_name in {target_genes}')"
   ]
  },
  {
   "cell_type": "code",
   "execution_count": 15,
   "id": "7bcc730d-734d-4cb7-a055-c1158a6432f5",
   "metadata": {
    "tags": []
   },
   "outputs": [
    {
     "data": {
      "text/html": [
       "<div>\n",
       "<style scoped>\n",
       "    .dataframe tbody tr th:only-of-type {\n",
       "        vertical-align: middle;\n",
       "    }\n",
       "\n",
       "    .dataframe tbody tr th {\n",
       "        vertical-align: top;\n",
       "    }\n",
       "\n",
       "    .dataframe thead th {\n",
       "        text-align: right;\n",
       "    }\n",
       "</style>\n",
       "<table border=\"1\" class=\"dataframe\">\n",
       "  <thead>\n",
       "    <tr style=\"text-align: right;\">\n",
       "      <th></th>\n",
       "      <th>id</th>\n",
       "      <th>type</th>\n",
       "      <th>name</th>\n",
       "      <th>source</th>\n",
       "    </tr>\n",
       "  </thead>\n",
       "  <tbody>\n",
       "    <tr>\n",
       "      <th>0</th>\n",
       "      <td>1723</td>\n",
       "      <td>gene/protein</td>\n",
       "      <td>DHODH</td>\n",
       "      <td>NCBI</td>\n",
       "    </tr>\n",
       "    <tr>\n",
       "      <th>1</th>\n",
       "      <td>6713</td>\n",
       "      <td>gene/protein</td>\n",
       "      <td>SQLE</td>\n",
       "      <td>NCBI</td>\n",
       "    </tr>\n",
       "  </tbody>\n",
       "</table>\n",
       "</div>"
      ],
      "text/plain": [
       "     id          type   name source\n",
       "0  1723  gene/protein  DHODH   NCBI\n",
       "1  6713  gene/protein   SQLE   NCBI"
      ]
     },
     "execution_count": 15,
     "metadata": {},
     "output_type": "execute_result"
    }
   ],
   "source": [
    "primekg_drugs_for_combo.get_nodes_by_source('NCBI')"
   ]
  },
  {
   "cell_type": "code",
   "execution_count": 20,
   "id": "718df2e0-0218-4cdb-b37b-4fffc7f0c68e",
   "metadata": {},
   "outputs": [],
   "source": [
    "primekg_dac_synergy_drugs_for_combo = primekg_drugs_for_combo.copy()\n",
    "primekg_dac_synergy_drugs_for_combo.run_query(f'x_name in {primekg_dac_synergy_drug_names} | y_name in {primekg_dac_synergy_drug_names}')"
   ]
  },
  {
   "cell_type": "code",
   "execution_count": 25,
   "id": "0239b8e7-7d7e-4dbb-a49a-3a49484663ba",
   "metadata": {
    "tags": []
   },
   "outputs": [],
   "source": [
    "primekg_dac_synergy_drugs_for_combo_list = primekg_dac_synergy_drugs_for_combo.get_nodes_by_source(source='DrugBank').name.to_list()"
   ]
  },
  {
   "cell_type": "markdown",
   "id": "895a33dd-5097-479a-8eaa-f9dc37f51dd6",
   "metadata": {},
   "source": [
    "### \n",
    "prep a table for paper..."
   ]
  },
  {
   "cell_type": "code",
   "execution_count": 26,
   "id": "6a9bf200-ecf0-4c19-99f3-6f3272f75d56",
   "metadata": {
    "tags": []
   },
   "outputs": [],
   "source": [
    "table_0 = primekg_drugs_for_combo.df.query('x_type==\"drug\"')#.set_index(['y_name','x_id'])[['x_name']]\n",
    "\n",
    "table_0['dac_synergy'] = table_0.x_name.isin(primekg_dac_synergy_drugs_for_combo_list)\n",
    "table_0.sort_values(['y_name','dac_synergy'],ascending=False,inplace=True)"
   ]
  },
  {
   "cell_type": "code",
   "execution_count": 85,
   "id": "5fd7126a-9bf1-4542-998f-efb53bd0fe6f",
   "metadata": {
    "tags": []
   },
   "outputs": [],
   "source": [
    "table_1 = table_0[['y_name','x_id','x_name','dac_synergy']].rename(columns={'y_name':'target','x_id':'DrugBank','x_name':'Drug full name'}).set_index(['target','DrugBank'])"
   ]
  },
  {
   "cell_type": "code",
   "execution_count": 86,
   "id": "8956eb77-c433-4a83-86eb-71509542dad9",
   "metadata": {
    "tags": []
   },
   "outputs": [],
   "source": [
    "drug_targets = {}\n",
    "\n",
    "for drug in table_1.reset_index().DrugBank:\n",
    "    drug_kg = primekg_drug_target.copy()\n",
    "    drug_kg.run_query(f'x_id == \"{drug}\" | y_id == \"{drug}\"')\n",
    "    \n",
    "    drug_targets[drug] = ','.join(drug_kg.get_nodes_by_source('NCBI').name.to_list())\n",
    "\n",
    "table_1['drug_targets'] = drug_targets.values()\n",
    "\n",
    "del drug_targets"
   ]
  },
  {
   "cell_type": "code",
   "execution_count": null,
   "id": "75fea09c-2b5d-4b00-8c67-bf4314b1bf9b",
   "metadata": {},
   "outputs": [
    {
     "data": {
      "text/html": [
       "<div>\n",
       "<style scoped>\n",
       "    .dataframe tbody tr th:only-of-type {\n",
       "        vertical-align: middle;\n",
       "    }\n",
       "\n",
       "    .dataframe tbody tr th {\n",
       "        vertical-align: top;\n",
       "    }\n",
       "\n",
       "    .dataframe thead th {\n",
       "        text-align: right;\n",
       "    }\n",
       "</style>\n",
       "<table border=\"1\" class=\"dataframe\">\n",
       "  <thead>\n",
       "    <tr style=\"text-align: right;\">\n",
       "      <th></th>\n",
       "      <th></th>\n",
       "      <th>Drug full name</th>\n",
       "      <th>dac_synergy</th>\n",
       "      <th>drug_targets</th>\n",
       "    </tr>\n",
       "    <tr>\n",
       "      <th>target</th>\n",
       "      <th>DrugBank</th>\n",
       "      <th></th>\n",
       "      <th></th>\n",
       "      <th></th>\n",
       "    </tr>\n",
       "  </thead>\n",
       "  <tbody>\n",
       "    <tr>\n",
       "      <th rowspan=\"4\" valign=\"top\">SQLE</th>\n",
       "      <th>DB00735</th>\n",
       "      <td>Naftifine</td>\n",
       "      <td>False</td>\n",
       "      <td>SQLE</td>\n",
       "    </tr>\n",
       "    <tr>\n",
       "      <th>DB00857</th>\n",
       "      <td>Terbinafine</td>\n",
       "      <td>False</td>\n",
       "      <td>SQLE</td>\n",
       "    </tr>\n",
       "    <tr>\n",
       "      <th>DB01091</th>\n",
       "      <td>Butenafine</td>\n",
       "      <td>False</td>\n",
       "      <td>SQLE</td>\n",
       "    </tr>\n",
       "    <tr>\n",
       "      <th>DB08846</th>\n",
       "      <td>Ellagic acid</td>\n",
       "      <td>False</td>\n",
       "      <td>CA1,CA2,CA4,SQLE,PRKCB,PRKCA,CSNK2A1,SYK,CA12,...</td>\n",
       "    </tr>\n",
       "    <tr>\n",
       "      <th rowspan=\"26\" valign=\"top\">DHODH</th>\n",
       "      <th>DB01097</th>\n",
       "      <td>Leflunomide</td>\n",
       "      <td>True</td>\n",
       "      <td>DHODH,PTK2B,AHR</td>\n",
       "    </tr>\n",
       "    <tr>\n",
       "      <th>DB03523</th>\n",
       "      <td>Brequinar</td>\n",
       "      <td>True</td>\n",
       "      <td>DHODH</td>\n",
       "    </tr>\n",
       "    <tr>\n",
       "      <th>DB08880</th>\n",
       "      <td>Teriflunomide</td>\n",
       "      <td>True</td>\n",
       "      <td>DHODH</td>\n",
       "    </tr>\n",
       "    <tr>\n",
       "      <th>DB01117</th>\n",
       "      <td>Atovaquone</td>\n",
       "      <td>False</td>\n",
       "      <td>DHODH</td>\n",
       "    </tr>\n",
       "    <tr>\n",
       "      <th>DB02262</th>\n",
       "      <td>Orotic acid</td>\n",
       "      <td>False</td>\n",
       "      <td>DHODH</td>\n",
       "    </tr>\n",
       "    <tr>\n",
       "      <th>DB02613</th>\n",
       "      <td>Capric dimethyl amine oxide</td>\n",
       "      <td>False</td>\n",
       "      <td>DHODH,PNLIPRP2</td>\n",
       "    </tr>\n",
       "    <tr>\n",
       "      <th>DB03247</th>\n",
       "      <td>Flavin mononucleotide</td>\n",
       "      <td>False</td>\n",
       "      <td>NOS1,PNPO,RFK,DHODH,BLVRB,DPYD,POR,PPCDC,HAO1,...</td>\n",
       "    </tr>\n",
       "    <tr>\n",
       "      <th>DB03480</th>\n",
       "      <td>Brequinar Analog</td>\n",
       "      <td>False</td>\n",
       "      <td>DHODH</td>\n",
       "    </tr>\n",
       "    <tr>\n",
       "      <th>DB04147</th>\n",
       "      <td>Dodecyldimethylamine N-oxide</td>\n",
       "      <td>False</td>\n",
       "      <td>DHODH,RHO,MAOB,IGKV1D-33,IGHV3-23,DSTN,NFE2L1,...</td>\n",
       "    </tr>\n",
       "    <tr>\n",
       "      <th>DB04281</th>\n",
       "      <td>2-[4-(4-Chlorophenyl)Cyclohexylidene]-3,4-Dihy...</td>\n",
       "      <td>False</td>\n",
       "      <td>DHODH</td>\n",
       "    </tr>\n",
       "    <tr>\n",
       "      <th>DB04583</th>\n",
       "      <td>5-Carbamoyl-1,1':4',1''-terphenyl-3-carboxylic...</td>\n",
       "      <td>False</td>\n",
       "      <td>DHODH</td>\n",
       "    </tr>\n",
       "    <tr>\n",
       "      <th>DB05125</th>\n",
       "      <td>SC12267</td>\n",
       "      <td>False</td>\n",
       "      <td>DHODH</td>\n",
       "    </tr>\n",
       "    <tr>\n",
       "      <th>DB06481</th>\n",
       "      <td>Manitimus</td>\n",
       "      <td>False</td>\n",
       "      <td>DHODH</td>\n",
       "    </tr>\n",
       "    <tr>\n",
       "      <th>DB07443</th>\n",
       "      <td>(2Z)-N-biphenyl-4-yl-2-cyano-3-hydroxybut-2-en...</td>\n",
       "      <td>False</td>\n",
       "      <td>DHODH</td>\n",
       "    </tr>\n",
       "    <tr>\n",
       "      <th>DB07559</th>\n",
       "      <td>(2Z)-2-cyano-N-(2,2'-dichlorobiphenyl-4-yl)-3-...</td>\n",
       "      <td>False</td>\n",
       "      <td>DHODH</td>\n",
       "    </tr>\n",
       "    <tr>\n",
       "      <th>DB07561</th>\n",
       "      <td>(2Z)-2-cyano-N-(3'-ethoxybiphenyl-4-yl)-3-hydr...</td>\n",
       "      <td>False</td>\n",
       "      <td>DHODH</td>\n",
       "    </tr>\n",
       "    <tr>\n",
       "      <th>DB07646</th>\n",
       "      <td>UNDECYLAMINE-N,N-DIMETHYL-N-OXIDE</td>\n",
       "      <td>False</td>\n",
       "      <td>DHODH</td>\n",
       "    </tr>\n",
       "    <tr>\n",
       "      <th>DB07975</th>\n",
       "      <td>2-({[3,5-DIFLUORO-3'-(TRIFLUOROMETHOXY)BIPHENY...</td>\n",
       "      <td>False</td>\n",
       "      <td>DHODH</td>\n",
       "    </tr>\n",
       "    <tr>\n",
       "      <th>DB07976</th>\n",
       "      <td>3-{[(3-FLUORO-3'-METHOXYBIPHENYL-4-YL)AMINO]CA...</td>\n",
       "      <td>False</td>\n",
       "      <td>DHODH</td>\n",
       "    </tr>\n",
       "    <tr>\n",
       "      <th>DB07977</th>\n",
       "      <td>3-({[3,5-DIFLUORO-3'-(TRIFLUOROMETHOXY)BIPHENY...</td>\n",
       "      <td>False</td>\n",
       "      <td>DHODH</td>\n",
       "    </tr>\n",
       "    <tr>\n",
       "      <th>DB07978</th>\n",
       "      <td>2-({[2,3,5,6-TETRAFLUORO-3'-(TRIFLUOROMETHOXY)...</td>\n",
       "      <td>False</td>\n",
       "      <td>DHODH</td>\n",
       "    </tr>\n",
       "    <tr>\n",
       "      <th>DB08006</th>\n",
       "      <td>N-anthracen-2-yl-5-methyl[1,2,4]triazolo[1,5-a...</td>\n",
       "      <td>False</td>\n",
       "      <td>DHODH</td>\n",
       "    </tr>\n",
       "    <tr>\n",
       "      <th>DB08008</th>\n",
       "      <td>5-methyl-N-[4-(trifluoromethyl)phenyl][1,2,4]t...</td>\n",
       "      <td>False</td>\n",
       "      <td>DHODH</td>\n",
       "    </tr>\n",
       "    <tr>\n",
       "      <th>DB08169</th>\n",
       "      <td>(2Z)-N-biphenyl-4-yl-2-cyano-3-cyclopropyl-3-h...</td>\n",
       "      <td>False</td>\n",
       "      <td>DHODH</td>\n",
       "    </tr>\n",
       "    <tr>\n",
       "      <th>DB08172</th>\n",
       "      <td>(2Z)-N-(3-chloro-2'-methoxybiphenyl-4-yl)-2-cy...</td>\n",
       "      <td>False</td>\n",
       "      <td>DHODH</td>\n",
       "    </tr>\n",
       "    <tr>\n",
       "      <th>DB08249</th>\n",
       "      <td>3,6,9,12,15-PENTAOXATRICOSAN-1-OL</td>\n",
       "      <td>False</td>\n",
       "      <td>DHODH</td>\n",
       "    </tr>\n",
       "  </tbody>\n",
       "</table>\n",
       "</div>"
      ],
      "text/plain": [
       "                                                    Drug full name  \\\n",
       "target DrugBank                                                      \n",
       "SQLE   DB00735                                           Naftifine   \n",
       "       DB00857                                         Terbinafine   \n",
       "       DB01091                                          Butenafine   \n",
       "       DB08846                                        Ellagic acid   \n",
       "DHODH  DB01097                                         Leflunomide   \n",
       "       DB03523                                           Brequinar   \n",
       "       DB08880                                       Teriflunomide   \n",
       "       DB01117                                          Atovaquone   \n",
       "       DB02262                                         Orotic acid   \n",
       "       DB02613                         Capric dimethyl amine oxide   \n",
       "       DB03247                               Flavin mononucleotide   \n",
       "       DB03480                                    Brequinar Analog   \n",
       "       DB04147                        Dodecyldimethylamine N-oxide   \n",
       "       DB04281   2-[4-(4-Chlorophenyl)Cyclohexylidene]-3,4-Dihy...   \n",
       "       DB04583   5-Carbamoyl-1,1':4',1''-terphenyl-3-carboxylic...   \n",
       "       DB05125                                             SC12267   \n",
       "       DB06481                                           Manitimus   \n",
       "       DB07443   (2Z)-N-biphenyl-4-yl-2-cyano-3-hydroxybut-2-en...   \n",
       "       DB07559   (2Z)-2-cyano-N-(2,2'-dichlorobiphenyl-4-yl)-3-...   \n",
       "       DB07561   (2Z)-2-cyano-N-(3'-ethoxybiphenyl-4-yl)-3-hydr...   \n",
       "       DB07646                   UNDECYLAMINE-N,N-DIMETHYL-N-OXIDE   \n",
       "       DB07975   2-({[3,5-DIFLUORO-3'-(TRIFLUOROMETHOXY)BIPHENY...   \n",
       "       DB07976   3-{[(3-FLUORO-3'-METHOXYBIPHENYL-4-YL)AMINO]CA...   \n",
       "       DB07977   3-({[3,5-DIFLUORO-3'-(TRIFLUOROMETHOXY)BIPHENY...   \n",
       "       DB07978   2-({[2,3,5,6-TETRAFLUORO-3'-(TRIFLUOROMETHOXY)...   \n",
       "       DB08006   N-anthracen-2-yl-5-methyl[1,2,4]triazolo[1,5-a...   \n",
       "       DB08008   5-methyl-N-[4-(trifluoromethyl)phenyl][1,2,4]t...   \n",
       "       DB08169   (2Z)-N-biphenyl-4-yl-2-cyano-3-cyclopropyl-3-h...   \n",
       "       DB08172   (2Z)-N-(3-chloro-2'-methoxybiphenyl-4-yl)-2-cy...   \n",
       "       DB08249                   3,6,9,12,15-PENTAOXATRICOSAN-1-OL   \n",
       "\n",
       "                 dac_synergy  \\\n",
       "target DrugBank                \n",
       "SQLE   DB00735         False   \n",
       "       DB00857         False   \n",
       "       DB01091         False   \n",
       "       DB08846         False   \n",
       "DHODH  DB01097          True   \n",
       "       DB03523          True   \n",
       "       DB08880          True   \n",
       "       DB01117         False   \n",
       "       DB02262         False   \n",
       "       DB02613         False   \n",
       "       DB03247         False   \n",
       "       DB03480         False   \n",
       "       DB04147         False   \n",
       "       DB04281         False   \n",
       "       DB04583         False   \n",
       "       DB05125         False   \n",
       "       DB06481         False   \n",
       "       DB07443         False   \n",
       "       DB07559         False   \n",
       "       DB07561         False   \n",
       "       DB07646         False   \n",
       "       DB07975         False   \n",
       "       DB07976         False   \n",
       "       DB07977         False   \n",
       "       DB07978         False   \n",
       "       DB08006         False   \n",
       "       DB08008         False   \n",
       "       DB08169         False   \n",
       "       DB08172         False   \n",
       "       DB08249         False   \n",
       "\n",
       "                                                      drug_targets  \n",
       "target DrugBank                                                     \n",
       "SQLE   DB00735                                                SQLE  \n",
       "       DB00857                                                SQLE  \n",
       "       DB01091                                                SQLE  \n",
       "       DB08846   CA1,CA2,CA4,SQLE,PRKCB,PRKCA,CSNK2A1,SYK,CA12,...  \n",
       "DHODH  DB01097                                     DHODH,PTK2B,AHR  \n",
       "       DB03523                                               DHODH  \n",
       "       DB08880                                               DHODH  \n",
       "       DB01117                                               DHODH  \n",
       "       DB02262                                               DHODH  \n",
       "       DB02613                                      DHODH,PNLIPRP2  \n",
       "       DB03247   NOS1,PNPO,RFK,DHODH,BLVRB,DPYD,POR,PPCDC,HAO1,...  \n",
       "       DB03480                                               DHODH  \n",
       "       DB04147   DHODH,RHO,MAOB,IGKV1D-33,IGHV3-23,DSTN,NFE2L1,...  \n",
       "       DB04281                                               DHODH  \n",
       "       DB04583                                               DHODH  \n",
       "       DB05125                                               DHODH  \n",
       "       DB06481                                               DHODH  \n",
       "       DB07443                                               DHODH  \n",
       "       DB07559                                               DHODH  \n",
       "       DB07561                                               DHODH  \n",
       "       DB07646                                               DHODH  \n",
       "       DB07975                                               DHODH  \n",
       "       DB07976                                               DHODH  \n",
       "       DB07977                                               DHODH  \n",
       "       DB07978                                               DHODH  \n",
       "       DB08006                                               DHODH  \n",
       "       DB08008                                               DHODH  \n",
       "       DB08169                                               DHODH  \n",
       "       DB08172                                               DHODH  \n",
       "       DB08249                                               DHODH  "
      ]
     },
     "execution_count": 87,
     "metadata": {},
     "output_type": "execute_result"
    }
   ],
   "source": [
    "table_1"
   ]
  },
  {
   "cell_type": "markdown",
   "id": "0c57ad32-7878-419d-a2b7-07451ae3631b",
   "metadata": {},
   "source": [
    "### Literature search"
   ]
  },
  {
   "cell_type": "code",
   "execution_count": 72,
   "id": "1bb3a634-c6ed-422d-b170-27d146016b44",
   "metadata": {
    "tags": []
   },
   "outputs": [],
   "source": [
    "table_1.to_excel('DAC_combo_candidates.xlsx')"
   ]
  },
  {
   "cell_type": "markdown",
   "id": "baeb6be6-78b7-47a7-aaba-6adf16a59758",
   "metadata": {
    "tags": []
   },
   "source": [
    "https://clue.io/repurposing-app\n",
    "    \n",
    "- leflunomide\tLaunched\n",
    "- brequinar\tPhase 2\n",
    "- teriflunomide\tLaunched\n",
    "- butenafine\tLaunched\n",
    "- terbinafine\tLaunched\n",
    "- atovaquone\tLaunched\n",
    "  - https://www.ncbi.nlm.nih.gov/pmc/articles/PMC9954468/\n",
    "> We show, in a clinical pilot study, that combining atovaquone with standard AML induction chemotherapy is feasible and safe in children.\n",
    "- manitimus\tPreclinical\n",
    "- naftifine\tLaunched"
   ]
  },
  {
   "cell_type": "code",
   "execution_count": 61,
   "id": "c8163b49-f3e7-4bf8-8502-c1fa5ab9a443",
   "metadata": {
    "tags": []
   },
   "outputs": [],
   "source": [
    "cell_lines = ['HL-60','MOLM-13']"
   ]
  },
  {
   "cell_type": "markdown",
   "id": "666eac19-9200-40b9-a15c-3f2e9d990060",
   "metadata": {},
   "source": [
    "___"
   ]
  },
  {
   "cell_type": "code",
   "execution_count": 62,
   "id": "b6156a8c-0ad6-4c26-9019-caef83c4cdd1",
   "metadata": {
    "tags": []
   },
   "outputs": [],
   "source": [
    "# GDSC1.get_data().query(f\"Drug_ID in {primekg_dac_synergy_drugs_for_combo_list} &  `Cell Line_ID` in {cell_lines}\").sort_values('Y',ascending=False)"
   ]
  },
  {
   "cell_type": "code",
   "execution_count": 70,
   "id": "52689579-4702-4677-a757-695724a20f13",
   "metadata": {
    "tags": []
   },
   "outputs": [
    {
     "data": {
      "text/html": [
       "<div>\n",
       "<style scoped>\n",
       "    .dataframe tbody tr th:only-of-type {\n",
       "        vertical-align: middle;\n",
       "    }\n",
       "\n",
       "    .dataframe tbody tr th {\n",
       "        vertical-align: top;\n",
       "    }\n",
       "\n",
       "    .dataframe thead th {\n",
       "        text-align: right;\n",
       "    }\n",
       "</style>\n",
       "<table border=\"1\" class=\"dataframe\">\n",
       "  <thead>\n",
       "    <tr style=\"text-align: right;\">\n",
       "      <th></th>\n",
       "      <th>Drug_ID</th>\n",
       "      <th>Drug</th>\n",
       "      <th>Cell Line_ID</th>\n",
       "      <th>Cell Line</th>\n",
       "      <th>Y</th>\n",
       "    </tr>\n",
       "  </thead>\n",
       "  <tbody>\n",
       "    <tr>\n",
       "      <th>47559</th>\n",
       "      <td>Leflunomide</td>\n",
       "      <td>CC1=C(C=NO1)C(=O)NC2=CC=C(C=C2)C(F)(F)F</td>\n",
       "      <td>HL-60</td>\n",
       "      <td>[3.3509853404098497, 2.99626031382298, 9.94965...</td>\n",
       "      <td>4.818404</td>\n",
       "    </tr>\n",
       "    <tr>\n",
       "      <th>48115</th>\n",
       "      <td>Leflunomide</td>\n",
       "      <td>CC1=C(C=NO1)C(=O)NC2=CC=C(C=C2)C(F)(F)F</td>\n",
       "      <td>MOLM-13</td>\n",
       "      <td>[3.4406201832575, 2.92685171367912, 9.11426679...</td>\n",
       "      <td>2.624924</td>\n",
       "    </tr>\n",
       "  </tbody>\n",
       "</table>\n",
       "</div>"
      ],
      "text/plain": [
       "           Drug_ID                                     Drug Cell Line_ID  \\\n",
       "47559  Leflunomide  CC1=C(C=NO1)C(=O)NC2=CC=C(C=C2)C(F)(F)F        HL-60   \n",
       "48115  Leflunomide  CC1=C(C=NO1)C(=O)NC2=CC=C(C=C2)C(F)(F)F      MOLM-13   \n",
       "\n",
       "                                               Cell Line         Y  \n",
       "47559  [3.3509853404098497, 2.99626031382298, 9.94965...  4.818404  \n",
       "48115  [3.4406201832575, 2.92685171367912, 9.11426679...  2.624924  "
      ]
     },
     "execution_count": 70,
     "metadata": {},
     "output_type": "execute_result"
    }
   ],
   "source": [
    "GDSC2.get_data().query(f\"Drug_ID in {primekg_drugs_for_combo.get_nodes_by_source('DrugBank').name.to_list()} &  `Cell Line_ID` in {cell_lines}\").sort_values('Y',ascending=False)"
   ]
  },
  {
   "cell_type": "code",
   "execution_count": null,
   "id": "04b47dbd-03c7-426c-a0e0-74ca2061c03f",
   "metadata": {
    "tags": []
   },
   "outputs": [],
   "source": []
  },
  {
   "cell_type": "code",
   "execution_count": null,
   "id": "58b2f2be-6e55-414f-8126-a5bcd359e05b",
   "metadata": {},
   "outputs": [],
   "source": []
  },
  {
   "cell_type": "code",
   "execution_count": null,
   "id": "891426a4-ce42-464e-8dc5-5a210e5cd3c8",
   "metadata": {},
   "outputs": [],
   "source": []
  },
  {
   "cell_type": "markdown",
   "id": "1730158c-4448-4780-8544-d884b10d49ea",
   "metadata": {},
   "source": [
    "### Drug -> AML"
   ]
  },
  {
   "cell_type": "code",
   "execution_count": null,
   "id": "8694f20a-91ab-490b-9778-7dd9b91cc3bd",
   "metadata": {},
   "outputs": [],
   "source": []
  },
  {
   "cell_type": "code",
   "execution_count": null,
   "id": "78d0111a-7b54-4b9c-823c-a6619d23d29b",
   "metadata": {},
   "outputs": [],
   "source": []
  },
  {
   "cell_type": "code",
   "execution_count": null,
   "id": "086fabc0-5a1a-49f9-881b-0b2b2f6b6de2",
   "metadata": {},
   "outputs": [],
   "source": []
  },
  {
   "cell_type": "code",
   "execution_count": 36,
   "id": "64253580-11b0-46d0-94a8-a89910644ab9",
   "metadata": {
    "tags": []
   },
   "outputs": [],
   "source": [
    "# `Cell Line_ID` in [\"HL-60\",\"MOLM-13\"] &"
   ]
  },
  {
   "cell_type": "code",
   "execution_count": 34,
   "id": "6218ff2b-d0ba-4d17-9917-d472b744b5a5",
   "metadata": {
    "tags": []
   },
   "outputs": [],
   "source": [
    "# g = PrimeKG.to_nx()"
   ]
  },
  {
   "cell_type": "code",
   "execution_count": 35,
   "id": "c8a737c3-c501-455e-8394-d6a8fef2cbce",
   "metadata": {
    "tags": []
   },
   "outputs": [],
   "source": [
    "# g = ig.Graph.from_networkx(g)"
   ]
  },
  {
   "cell_type": "markdown",
   "id": "f376f34d-905a-4edb-abe2-e3a09ed09f37",
   "metadata": {},
   "source": [
    "this is problematic – https://github.com/mims-harvard/TDC/blob/6af2a41679a0699446ad627be8051504548e86fa/tdc/resource/primekg.py#L30"
   ]
  },
  {
   "cell_type": "code",
   "execution_count": 107,
   "id": "c7a45b9a-1305-4fbf-9106-9b693c958392",
   "metadata": {
    "tags": []
   },
   "outputs": [],
   "source": [
    "# help(ig.Graph.TupleList)"
   ]
  },
  {
   "cell_type": "code",
   "execution_count": 177,
   "id": "becc945a-a658-4fa6-9530-db56aab3235b",
   "metadata": {
    "tags": []
   },
   "outputs": [],
   "source": [
    "g = ig.Graph.TupleList(\n",
    "    data.df[['x_id','y_id','display_relation','x_type','x_name','y_type','y_name']].itertuples(index=False),\n",
    "    edge_attrs=['display_relation','x_type','x_name','y_type','y_name'],\n",
    "    directed=True, weights=False\n",
    ")"
   ]
  },
  {
   "cell_type": "code",
   "execution_count": 178,
   "id": "a679500a-67a3-4e60-aeba-d875add01210",
   "metadata": {
    "tags": []
   },
   "outputs": [
    {
     "name": "stdout",
     "output_type": "stream",
     "text": [
      "IGRAPH DN-- 135010 8100498 -- \n",
      "+ attr: name (v), display_relation (e), x_name (e), x_type (e), y_name (e), y_type (e) \n",
      "\n",
      "Number of vertices in the graph: 135010\n",
      "Number of edges in the graph 8100498\n",
      "Is the graph directed: True\n",
      "Maximum degree in the graph: 34998\n",
      "Node name with Maximum degree: []\n"
     ]
    }
   ],
   "source": [
    "get_graph_features(g)"
   ]
  },
  {
   "cell_type": "code",
   "execution_count": 179,
   "id": "2b7e2cc2-fd40-48eb-b552-08f837bcef69",
   "metadata": {
    "tags": []
   },
   "outputs": [
    {
     "name": "stdout",
     "output_type": "stream",
     "text": [
      "IGRAPH DN-- 11252 3258577 -- \n",
      "+ attr: name (v), display_relation (e), x_name (e), x_type (e), y_name (e), y_type (e) \n",
      "\n",
      "Number of vertices in the graph: 11252\n",
      "Number of edges in the graph 3258577\n",
      "Is the graph directed: True\n",
      "Maximum degree in the graph: 5200\n",
      "Node name with Maximum degree: ['DB00908']\n"
     ]
    }
   ],
   "source": [
    "g_PARPi = filter_graph_by_nodes_BFS(g,['DB09074'],max_distance=2)"
   ]
  },
  {
   "cell_type": "code",
   "execution_count": 180,
   "id": "3e72a679-9964-4bcf-adcc-aeec19590ad4",
   "metadata": {
    "tags": []
   },
   "outputs": [],
   "source": [
    "g_PARPi_edge_df = g_PARPi.get_edge_dataframe()"
   ]
  },
  {
   "cell_type": "markdown",
   "id": "32e9c97e-2c53-4869-bd81-893e1dcd9676",
   "metadata": {},
   "source": [
    "___"
   ]
  },
  {
   "cell_type": "code",
   "execution_count": 181,
   "id": "6706374e-daef-4ecd-8bd4-03d4a7a2462f",
   "metadata": {
    "tags": []
   },
   "outputs": [],
   "source": [
    "d = g_PARPi_edge_df"
   ]
  },
  {
   "cell_type": "code",
   "execution_count": 182,
   "id": "e404b10e-563d-465e-9579-37b280010a7d",
   "metadata": {
    "tags": []
   },
   "outputs": [],
   "source": [
    "%%R -i d\n",
    "g = graph_from_data_frame(d, directed = FALSE, vertices = NULL)\n",
    "g = igraph::simplify(g)\n",
    "\n",
    "# V(g)$color <- l[V(g)$name,]\n",
    "# E(g)$width <- E(g)$weight "
   ]
  },
  {
   "cell_type": "code",
   "execution_count": null,
   "id": "bdd5660f-32ed-4b5a-9cc6-6455cdb60d66",
   "metadata": {},
   "outputs": [],
   "source": [
    "%%R\n",
    "V(g)$name"
   ]
  },
  {
   "cell_type": "code",
   "execution_count": 185,
   "id": "fb391794-98d6-43b6-9582-041263de09ef",
   "metadata": {
    "tags": []
   },
   "outputs": [
    {
     "data": {
      "image/png": "[encoded data removed]",
      "text/plain": [
       "<IPython.core.display.Image object>"
      ]
     },
     "metadata": {},
     "output_type": "display_data"
    }
   ],
   "source": [
    "%%R\n",
    "coords = layout_with_fr(g)\n",
    "\n",
    "# plot the graph\n",
    "plot(g, layout=coords, \n",
    "     vertex.label=NA, \n",
    "     # vertex.color =l[V(g)$name,],\n",
    "     vertex.size=10,\n",
    "    )"
   ]
  },
  {
   "cell_type": "markdown",
   "id": "4ede80f0-9baf-42bc-b095-b417f87f28e7",
   "metadata": {
    "tags": []
   },
   "source": [
    "### Get phenotype scores"
   ]
  },
  {
   "cell_type": "code",
   "execution_count": 155,
   "id": "d4d25574-ba6e-4f33-8feb-b3c3abc21a76",
   "metadata": {
    "tags": []
   },
   "outputs": [],
   "source": [
    "Ci_adata = read_adata_pkl('datasets/CRISPRi')\n",
    "Ca_A549_adata = read_adata_pkl('datasets/CRISPRa_A549')\n",
    "Ca_k562_adata = read_adata_pkl('datasets/CRISPRa_k562')"
   ]
  },
  {
   "cell_type": "code",
   "execution_count": 156,
   "id": "091207f9-8bab-4760-8686-c2f1e87884e7",
   "metadata": {
    "tags": []
   },
   "outputs": [],
   "source": [
    "def get_annotated_score_df(adata,score,level,threshold):\n",
    "    if level == 'transcript':\n",
    "        df = adata.transcript_scores[score]['ave_rep1_rep2'][[\n",
    "            'average phenotype of strongest 3',\n",
    "            'Mann-Whitney p-value',\n",
    "        ]].reset_index('gene').reset_index(drop=True).copy()\n",
    "    \n",
    "    elif level == 'gene':\n",
    "        df = adata.gene_scores[score]['ave_rep1_rep2'][[\n",
    "            'average phenotype of strongest 3',\n",
    "            'Mann-Whitney p-value',\n",
    "        ]].reset_index('gene').copy()\n",
    "        \n",
    "    df = screenpro.phenoScore.ann_score_df(df, ctrl_label='pseudo',threshold=threshold)\n",
    "    \n",
    "    return df"
   ]
  },
  {
   "cell_type": "code",
   "execution_count": 157,
   "id": "4d289b84-c681-40af-b452-392063678092",
   "metadata": {
    "tags": []
   },
   "outputs": [
    {
     "data": {
      "text/plain": [
       "<function screenpro.phenoScore.ann_score_df(df_in, up_hit='resistance_hit', down_hit='sensitivity_hit', ctrl_label='non-targeting', threshold=10)>"
      ]
     },
     "execution_count": 157,
     "metadata": {},
     "output_type": "execute_result"
    }
   ],
   "source": [
    "screenpro.phenoScore.ann_score_df"
   ]
  },
  {
   "cell_type": "code",
   "execution_count": 158,
   "id": "66995458-9922-4bf0-9f90-e111d12f6222",
   "metadata": {
    "tags": []
   },
   "outputs": [],
   "source": [
    "threshold = 2"
   ]
  },
  {
   "cell_type": "code",
   "execution_count": 159,
   "id": "e12a6611-f204-40c7-b0d8-6710d02c480c",
   "metadata": {
    "tags": []
   },
   "outputs": [],
   "source": [
    "rho_dict = dict([\n",
    "    (treat,get_annotated_score_df(Ci_adata,score,'gene',threshold = threshold).set_index('target')) for treat, score in Ci_adata.comparisons.items()\n",
    "])"
   ]
  },
  {
   "cell_type": "code",
   "execution_count": 160,
   "id": "89464db5-e4ff-491d-9379-2083c425c9b8",
   "metadata": {
    "tags": []
   },
   "outputs": [],
   "source": [
    "rho_df = pd.concat(dict([(treat,rho.score) for treat, rho in rho_dict.items()]),axis=1)\n",
    "# rho_df = pd.concat(rho_dict,axis=1)\n",
    "\n",
    "rho_label = pd.concat(dict([(treat,rho.label) for treat, rho in rho_dict.items()]),axis=1)"
   ]
  },
  {
   "cell_type": "code",
   "execution_count": 161,
   "id": "7fe56cc4-fc5e-4d18-baf3-b602ae26a48c",
   "metadata": {
    "tags": []
   },
   "outputs": [],
   "source": [
    "rho_bin = pd.DataFrame(0,index=rho_label.index,columns=rho_label.columns)\n",
    "\n",
    "rho_bin = (rho_label.isin(['sensitivity_hit']) * -1) + (rho_label.isin(['resistance_hit']) * 1)\n",
    "\n",
    "# rho_bin = rho_bin[~rho_bin.eq(0).sum(axis=1).eq(9)]"
   ]
  },
  {
   "cell_type": "markdown",
   "id": "e9c950c7-06d4-4967-8e64-395eca6be851",
   "metadata": {},
   "source": [
    "___"
   ]
  },
  {
   "cell_type": "code",
   "execution_count": 165,
   "id": "9a5bc5bd-0a82-457c-bfe6-ecb2f3ce8541",
   "metadata": {
    "tags": []
   },
   "outputs": [
    {
     "data": {
      "text/html": [
       "<div>\n",
       "<style scoped>\n",
       "    .dataframe tbody tr th:only-of-type {\n",
       "        vertical-align: middle;\n",
       "    }\n",
       "\n",
       "    .dataframe tbody tr th {\n",
       "        vertical-align: top;\n",
       "    }\n",
       "\n",
       "    .dataframe thead th {\n",
       "        text-align: right;\n",
       "    }\n",
       "</style>\n",
       "<table border=\"1\" class=\"dataframe\">\n",
       "  <thead>\n",
       "    <tr style=\"text-align: right;\">\n",
       "      <th></th>\n",
       "      <th>relation</th>\n",
       "      <th>display_relation</th>\n",
       "      <th>x_id</th>\n",
       "      <th>x_type</th>\n",
       "      <th>x_name</th>\n",
       "      <th>x_source</th>\n",
       "      <th>y_id</th>\n",
       "      <th>y_type</th>\n",
       "      <th>y_name</th>\n",
       "      <th>y_source</th>\n",
       "    </tr>\n",
       "  </thead>\n",
       "  <tbody>\n",
       "    <tr>\n",
       "      <th>2467</th>\n",
       "      <td>protein_protein</td>\n",
       "      <td>ppi</td>\n",
       "      <td>5052</td>\n",
       "      <td>gene/protein</td>\n",
       "      <td>PRDX1</td>\n",
       "      <td>NCBI</td>\n",
       "      <td>55692</td>\n",
       "      <td>gene/protein</td>\n",
       "      <td>LUC7L</td>\n",
       "      <td>NCBI</td>\n",
       "    </tr>\n",
       "    <tr>\n",
       "      <th>4249</th>\n",
       "      <td>protein_protein</td>\n",
       "      <td>ppi</td>\n",
       "      <td>5052</td>\n",
       "      <td>gene/protein</td>\n",
       "      <td>PRDX1</td>\n",
       "      <td>NCBI</td>\n",
       "      <td>117157</td>\n",
       "      <td>gene/protein</td>\n",
       "      <td>SH2D1B</td>\n",
       "      <td>NCBI</td>\n",
       "    </tr>\n",
       "    <tr>\n",
       "      <th>5540</th>\n",
       "      <td>protein_protein</td>\n",
       "      <td>ppi</td>\n",
       "      <td>5052</td>\n",
       "      <td>gene/protein</td>\n",
       "      <td>PRDX1</td>\n",
       "      <td>NCBI</td>\n",
       "      <td>23512</td>\n",
       "      <td>gene/protein</td>\n",
       "      <td>SUZ12</td>\n",
       "      <td>NCBI</td>\n",
       "    </tr>\n",
       "    <tr>\n",
       "      <th>10167</th>\n",
       "      <td>protein_protein</td>\n",
       "      <td>ppi</td>\n",
       "      <td>5052</td>\n",
       "      <td>gene/protein</td>\n",
       "      <td>PRDX1</td>\n",
       "      <td>NCBI</td>\n",
       "      <td>246184</td>\n",
       "      <td>gene/protein</td>\n",
       "      <td>CDC26</td>\n",
       "      <td>NCBI</td>\n",
       "    </tr>\n",
       "    <tr>\n",
       "      <th>28299</th>\n",
       "      <td>protein_protein</td>\n",
       "      <td>ppi</td>\n",
       "      <td>5052</td>\n",
       "      <td>gene/protein</td>\n",
       "      <td>PRDX1</td>\n",
       "      <td>NCBI</td>\n",
       "      <td>9585</td>\n",
       "      <td>gene/protein</td>\n",
       "      <td>KIF20B</td>\n",
       "      <td>NCBI</td>\n",
       "    </tr>\n",
       "    <tr>\n",
       "      <th>...</th>\n",
       "      <td>...</td>\n",
       "      <td>...</td>\n",
       "      <td>...</td>\n",
       "      <td>...</td>\n",
       "      <td>...</td>\n",
       "      <td>...</td>\n",
       "      <td>...</td>\n",
       "      <td>...</td>\n",
       "      <td>...</td>\n",
       "      <td>...</td>\n",
       "    </tr>\n",
       "    <tr>\n",
       "      <th>5729251</th>\n",
       "      <td>drug_protein</td>\n",
       "      <td>target</td>\n",
       "      <td>5052</td>\n",
       "      <td>gene/protein</td>\n",
       "      <td>PRDX1</td>\n",
       "      <td>NCBI</td>\n",
       "      <td>DB14487</td>\n",
       "      <td>drug</td>\n",
       "      <td>Zinc acetate</td>\n",
       "      <td>DrugBank</td>\n",
       "    </tr>\n",
       "    <tr>\n",
       "      <th>5729252</th>\n",
       "      <td>drug_protein</td>\n",
       "      <td>target</td>\n",
       "      <td>5052</td>\n",
       "      <td>gene/protein</td>\n",
       "      <td>PRDX1</td>\n",
       "      <td>NCBI</td>\n",
       "      <td>DB14533</td>\n",
       "      <td>drug</td>\n",
       "      <td>Zinc chloride</td>\n",
       "      <td>DrugBank</td>\n",
       "    </tr>\n",
       "    <tr>\n",
       "      <th>5729253</th>\n",
       "      <td>drug_protein</td>\n",
       "      <td>target</td>\n",
       "      <td>5052</td>\n",
       "      <td>gene/protein</td>\n",
       "      <td>PRDX1</td>\n",
       "      <td>NCBI</td>\n",
       "      <td>DB14548</td>\n",
       "      <td>drug</td>\n",
       "      <td>Zinc sulfate, unspecified form</td>\n",
       "      <td>DrugBank</td>\n",
       "    </tr>\n",
       "    <tr>\n",
       "      <th>6496314</th>\n",
       "      <td>exposure_protein</td>\n",
       "      <td>interacts with</td>\n",
       "      <td>5052</td>\n",
       "      <td>gene/protein</td>\n",
       "      <td>PRDX1</td>\n",
       "      <td>NCBI</td>\n",
       "      <td>D001151</td>\n",
       "      <td>exposure</td>\n",
       "      <td>Arsenic</td>\n",
       "      <td>CTD</td>\n",
       "    </tr>\n",
       "    <tr>\n",
       "      <th>6496610</th>\n",
       "      <td>exposure_protein</td>\n",
       "      <td>interacts with</td>\n",
       "      <td>5052</td>\n",
       "      <td>gene/protein</td>\n",
       "      <td>PRDX1</td>\n",
       "      <td>NCBI</td>\n",
       "      <td>D008628</td>\n",
       "      <td>exposure</td>\n",
       "      <td>Mercury</td>\n",
       "      <td>CTD</td>\n",
       "    </tr>\n",
       "  </tbody>\n",
       "</table>\n",
       "<p>286 rows × 10 columns</p>\n",
       "</div>"
      ],
      "text/plain": [
       "                 relation display_relation  x_id        x_type x_name  \\\n",
       "2467      protein_protein              ppi  5052  gene/protein  PRDX1   \n",
       "4249      protein_protein              ppi  5052  gene/protein  PRDX1   \n",
       "5540      protein_protein              ppi  5052  gene/protein  PRDX1   \n",
       "10167     protein_protein              ppi  5052  gene/protein  PRDX1   \n",
       "28299     protein_protein              ppi  5052  gene/protein  PRDX1   \n",
       "...                   ...              ...   ...           ...    ...   \n",
       "5729251      drug_protein           target  5052  gene/protein  PRDX1   \n",
       "5729252      drug_protein           target  5052  gene/protein  PRDX1   \n",
       "5729253      drug_protein           target  5052  gene/protein  PRDX1   \n",
       "6496314  exposure_protein   interacts with  5052  gene/protein  PRDX1   \n",
       "6496610  exposure_protein   interacts with  5052  gene/protein  PRDX1   \n",
       "\n",
       "        x_source     y_id        y_type                          y_name  \\\n",
       "2467        NCBI    55692  gene/protein                           LUC7L   \n",
       "4249        NCBI   117157  gene/protein                          SH2D1B   \n",
       "5540        NCBI    23512  gene/protein                           SUZ12   \n",
       "10167       NCBI   246184  gene/protein                           CDC26   \n",
       "28299       NCBI     9585  gene/protein                          KIF20B   \n",
       "...          ...      ...           ...                             ...   \n",
       "5729251     NCBI  DB14487          drug                    Zinc acetate   \n",
       "5729252     NCBI  DB14533          drug                   Zinc chloride   \n",
       "5729253     NCBI  DB14548          drug  Zinc sulfate, unspecified form   \n",
       "6496314     NCBI  D001151      exposure                         Arsenic   \n",
       "6496610     NCBI  D008628      exposure                         Mercury   \n",
       "\n",
       "         y_source  \n",
       "2467         NCBI  \n",
       "4249         NCBI  \n",
       "5540         NCBI  \n",
       "10167        NCBI  \n",
       "28299        NCBI  \n",
       "...           ...  \n",
       "5729251  DrugBank  \n",
       "5729252  DrugBank  \n",
       "5729253  DrugBank  \n",
       "6496314       CTD  \n",
       "6496610       CTD  \n",
       "\n",
       "[286 rows x 10 columns]"
      ]
     },
     "execution_count": 165,
     "metadata": {},
     "output_type": "execute_result"
    }
   ],
   "source": [
    "data.df.query('x_name == \"PRDX1\"')"
   ]
  },
  {
   "cell_type": "code",
   "execution_count": 288,
   "id": "dd6520c5-bde0-4839-a577-196e31a43d18",
   "metadata": {
    "tags": []
   },
   "outputs": [
    {
     "name": "stdout",
     "output_type": "stream",
     "text": [
      "IGRAPH DN-- 11252 3258577 -- \n",
      "+ attr: name (v), display_relation (e), x_name (e), x_type (e), y_name (e), y_type (e) \n",
      "\n",
      "Number of vertices in the graph: 11252\n",
      "Number of edges in the graph 3258577\n",
      "Is the graph directed: True\n",
      "Maximum degree in the graph: 5200\n",
      "Node name with Maximum degree: ['DB00908']\n"
     ]
    }
   ],
   "source": [
    "get_graph_features(g_PARPi)"
   ]
  },
  {
   "cell_type": "code",
   "execution_count": 285,
   "id": "27e69f5e-275d-427b-88ef-1b7532961e28",
   "metadata": {
    "tags": []
   },
   "outputs": [
    {
     "name": "stdout",
     "output_type": "stream",
     "text": [
      "IGRAPH DN-- 4587 2223894 -- \n",
      "+ attr: name (v), display_relation (e), x_name (e), x_type (e), y_name (e), y_type (e) \n",
      "\n",
      "Number of vertices in the graph: 4587\n",
      "Number of edges in the graph 2223894\n",
      "Is the graph directed: True\n",
      "Maximum degree in the graph: 4451\n",
      "Node name with Maximum degree: ['DB00363']\n"
     ]
    }
   ],
   "source": [
    "g_PARPi_prdx1 = filter_graph_by_nodes_BFS(g_PARPi,['5052'],max_distance=2)"
   ]
  },
  {
   "cell_type": "code",
   "execution_count": null,
   "id": "5e7a4e8d-5d17-46f3-8ea9-a2ad7e90e7bd",
   "metadata": {
    "tags": []
   },
   "outputs": [],
   "source": [
    "plot_graph(\n",
    "    g_PARPi_prdx1,\n",
    "    geneset = ['5052'],\n",
    "    geneset2= ['DB09074']\n",
    ")"
   ]
  },
  {
   "cell_type": "markdown",
   "id": "8146c865-6471-4ac7-8411-037bea94aeb8",
   "metadata": {},
   "source": [
    "___"
   ]
  },
  {
   "cell_type": "code",
   "execution_count": 187,
   "id": "179a20c5-c7ab-4c5b-b524-6206e3d07aa3",
   "metadata": {
    "tags": []
   },
   "outputs": [],
   "source": [
    "d = g_PARPi_prdx1.get_edge_dataframe()"
   ]
  },
  {
   "cell_type": "code",
   "execution_count": 188,
   "id": "24c7b2a8-6cb9-471b-9146-d6e577ce8c32",
   "metadata": {
    "tags": []
   },
   "outputs": [],
   "source": [
    "%%R -i d\n",
    "# ,s,l\n",
    "g = graph_from_data_frame(d, directed = FALSE, vertices = NULL)\n",
    "g = igraph::simplify(g)\n",
    "\n",
    "# V(g)$color <- l[V(g)$name,]\n",
    "# E(g)$width <- E(g)$weight "
   ]
  },
  {
   "cell_type": "code",
   "execution_count": 190,
   "id": "8c54b4e2-933c-430c-bfe8-c482f0d9757d",
   "metadata": {
    "tags": []
   },
   "outputs": [
    {
     "data": {
      "image/png": "[encoded data removed]",
      "text/plain": [
       "<IPython.core.display.Image object>"
      ]
     },
     "metadata": {},
     "output_type": "display_data"
    }
   ],
   "source": [
    "%%R\n",
    "coords = layout_with_fr(g)\n",
    "\n",
    "# plot the graph\n",
    "plot(g, layout=coords, \n",
    "     vertex.label=NA, \n",
    "     # vertex.color =l[V(g)$name,],\n",
    "     vertex.size=10,\n",
    "     edge.label = d$display_relation\n",
    "    )"
   ]
  },
  {
   "cell_type": "markdown",
   "id": "4927dd9a-4530-44ff-92e3-ac995fe07430",
   "metadata": {},
   "source": [
    "___"
   ]
  },
  {
   "cell_type": "markdown",
   "id": "447191bd-4aa1-4223-9cf2-0ba4b1579680",
   "metadata": {
    "tags": []
   },
   "source": [
    "### geneset!"
   ]
  },
  {
   "cell_type": "code",
   "execution_count": 18,
   "id": "6ef1f319-1fe9-4362-bfa0-8a92be5c472b",
   "metadata": {
    "tags": []
   },
   "outputs": [],
   "source": [
    "gesa_res = pd.concat(dict([\n",
    "    (treat, pd.read_excel('results/go_gsea.xlsx',index_col=0,header=0,sheet_name=f'CRISPRi {treat}')['es'])\n",
    "    for treat in Ci_adata.comparisons.keys()\n",
    "]),axis=1).fillna(0)"
   ]
  },
  {
   "cell_type": "markdown",
   "id": "803c8df6-03c2-4ac3-8aee-86335463e929",
   "metadata": {
    "jp-MarkdownHeadingCollapsed": true,
    "tags": []
   },
   "source": [
    "### PCC graph\n",
    "Pearson’s correlation coefficient (PCC) `gene-gene-cor` graph"
   ]
  },
  {
   "cell_type": "markdown",
   "id": "24db876f-87cb-4934-8959-cbd87cf278ee",
   "metadata": {},
   "source": [
    "> #### A Genetic Map of the Response to DNA Damage in Human Cells\n",
    "> The similarity in profiles of genes having related function (e.g.,\n",
    "XRCC4 and LIG4 or ERCC6 and ERCC8) prompted us to undertake similarity profiling based on their Pearson correlation coefficient (PCC). This allowed us to build a network where genes are\n",
    "nodes, and their edges are constrained by their PCC values\n",
    "\n",
    "> - https://doi.org/10.1016/j.cell.2020.05.040\n"
   ]
  },
  {
   "cell_type": "code",
   "execution_count": 19,
   "id": "e329f415-e00d-4225-bfd1-784b9391f194",
   "metadata": {
    "tags": []
   },
   "outputs": [],
   "source": [
    "# exclude neg-ctrl signal\n",
    "rho_df_1 = rho_df[~rho_df.index.str.contains('pseudo')].copy()\n",
    "\n",
    "# exclude genes if they are non-hit in all screens\n",
    "rho_df_2 = rho_df_1[~rho_label[~rho_df.index.str.contains('pseudo')].eq('target_non_hit').sum(axis=1).eq(9)].copy()\n",
    "\n",
    "# get gene level corr values\n",
    "rho_target_corr = rho_df_2.T.corr()\n",
    "rho_target_corr.columns.name = None"
   ]
  },
  {
   "cell_type": "code",
   "execution_count": 20,
   "id": "062f0061-6c23-47a9-8547-666aecf97ab4",
   "metadata": {
    "tags": []
   },
   "outputs": [],
   "source": [
    "# make the graph table\n",
    "rho_target_corr_gr_table0 = rho_target_corr.reset_index().melt(\n",
    "    id_vars=['target'],var_name=['target2']\n",
    ")"
   ]
  },
  {
   "cell_type": "markdown",
   "id": "cd9fadda-9c6e-4ff0-9128-8823c6ed4f26",
   "metadata": {},
   "source": [
    "<div class=\"alert alert-block alert-info\"> <b>NOTE</b> `target` and `target2` are target genes from a single targeting CRISPR platform. These are just named for Pearson’s correlation coefficient (PCC) graph analysis. </div>"
   ]
  },
  {
   "cell_type": "code",
   "execution_count": 21,
   "id": "f96e77d6-c814-44a5-a70f-cb789589e8f1",
   "metadata": {
    "tags": []
   },
   "outputs": [
    {
     "data": {
      "image/png": "[encoded data removed]",
      "text/plain": [
       "<Figure size 400x300 with 1 Axes>"
      ]
     },
     "metadata": {},
     "output_type": "display_data"
    }
   ],
   "source": [
    "rho_target_corr_gr_table0.value.hist(bins=100,figsize=(4,3))\n",
    "plt.xlabel('PCC')\n",
    "plt.ylabel('Frequency')\n",
    "plt.grid('off', alpha=0.1) \n",
    "plt.show() "
   ]
  },
  {
   "cell_type": "markdown",
   "id": "5cd5048a-6ce4-4e1b-9dc8-02f8cf65c234",
   "metadata": {},
   "source": [
    "#### filter"
   ]
  },
  {
   "cell_type": "code",
   "execution_count": 22,
   "id": "ca915691-e812-4b69-972b-559cf57513d2",
   "metadata": {
    "tags": []
   },
   "outputs": [],
   "source": [
    "rho_target_corr_gr_table = rho_target_corr_gr_table0.query(\"value > 0.9 & target != target2\").reset_index(drop=True)"
   ]
  },
  {
   "cell_type": "code",
   "execution_count": 23,
   "id": "f2537ff4-bb5f-4a54-8d73-e23d1ada09a1",
   "metadata": {
    "tags": []
   },
   "outputs": [],
   "source": [
    "# rho_target_corr_gr_table.value.hist(bins=100,figsize=(4,3))\n",
    "# plt.xlabel('PCC')\n",
    "# plt.ylabel('Frequency')\n",
    "# plt.grid('off', alpha=0.1) \n",
    "# plt.show() "
   ]
  },
  {
   "cell_type": "code",
   "execution_count": 24,
   "id": "3f9daef6-1f34-4c6b-a71d-86c0537ca6c7",
   "metadata": {
    "tags": []
   },
   "outputs": [
    {
     "name": "stdout",
     "output_type": "stream",
     "text": [
      "IGRAPH UNW- 10035 702798 -- \n",
      "+ attr: name (v), weight (e) \n",
      "\n",
      "Number of vertices in the graph: 10035\n",
      "Number of edges in the graph 702798\n",
      "Is the graph directed: False\n",
      "Maximum degree in the graph: 13146\n",
      "Node name with Maximum degree: ['ANLN', 'GAR1', 'NOP2', 'POLR2H', 'RPS13', 'UTP20']\n"
     ]
    }
   ],
   "source": [
    "rho_target_corr_gr = build_graph(rho_target_corr_gr_table)"
   ]
  },
  {
   "cell_type": "code",
   "execution_count": 25,
   "id": "1e9b7dfe-f10f-480d-bc98-86cbd3a7b1e3",
   "metadata": {
    "tags": []
   },
   "outputs": [
    {
     "name": "stdout",
     "output_type": "stream",
     "text": [
      "Help on function filter_graph_by_weight in module search:\n",
      "\n",
      "filter_graph_by_weight(G, weight_thr, side, verbose=True)\n",
      "    subset graph by weight threshold\n",
      "\n"
     ]
    }
   ],
   "source": [
    "help(filter_graph_by_weight)"
   ]
  },
  {
   "cell_type": "code",
   "execution_count": 26,
   "id": "c60057c0-3b0d-4c17-b02e-44cd0bf15909",
   "metadata": {
    "tags": []
   },
   "outputs": [
    {
     "name": "stdout",
     "output_type": "stream",
     "text": [
      "IGRAPH UNW- 30 382 -- \n",
      "+ attr: name (v), weight (e) \n",
      "\n",
      "Number of vertices in the graph: 30\n",
      "Number of edges in the graph 382\n",
      "Is the graph directed: False\n",
      "Maximum degree in the graph: 58\n",
      "Node name with Maximum degree: ['PRDX1']\n"
     ]
    }
   ],
   "source": [
    "rho_target_corr_gr_prdx1 = filter_graph_by_geneset(\n",
    "    rho_target_corr_gr,\n",
    "    geneset=['PRDX1'],\n",
    "    max_distance=1\n",
    ")"
   ]
  },
  {
   "cell_type": "code",
   "execution_count": 27,
   "id": "0f25ea8b-d0dd-4aa3-b485-9c1c3e163f18",
   "metadata": {
    "tags": []
   },
   "outputs": [],
   "source": [
    "# plot_graph(\n",
    "#     rho_target_corr_gr_prdx1.simplify(),\n",
    "#     geneset=['PRDX1'],\n",
    "#     # geneset2 = list(set(rho_phenotypes.vs['name']) - set(['ctrlcontext']) ),\n",
    "#     layout='kk', b1=600,b2=450)"
   ]
  },
  {
   "cell_type": "markdown",
   "id": "bcf1e263-2bf6-4ec1-afe2-ee19ac8eea0f",
   "metadata": {},
   "source": [
    "___"
   ]
  },
  {
   "cell_type": "code",
   "execution_count": 199,
   "id": "402f6298-c94c-4a5d-a769-2fb8061a2d65",
   "metadata": {
    "tags": []
   },
   "outputs": [],
   "source": [
    "keep = rho_target_corr_gr_prdx1.vs['name']"
   ]
  },
  {
   "cell_type": "code",
   "execution_count": 288,
   "id": "54a64a5a-b12a-4bd1-b58d-93ad08e351b1",
   "metadata": {
    "tags": []
   },
   "outputs": [],
   "source": [
    "d = rho_target_corr_gr_table.query(f'target in {keep} and target2 in {keep}').reset_index(drop=True)\n",
    "d.columns = ['V1','V2','weight']"
   ]
  },
  {
   "cell_type": "markdown",
   "id": "ba943e75-98df-4ab1-9794-e037dd3ca3aa",
   "metadata": {
    "tags": []
   },
   "source": [
    "### PARPi"
   ]
  },
  {
   "cell_type": "code",
   "execution_count": 310,
   "id": "7f624070-2cd6-490d-af12-d2aa2d3b2758",
   "metadata": {
    "tags": []
   },
   "outputs": [],
   "source": [
    "treat = 'PARPi+WEE1i'"
   ]
  },
  {
   "cell_type": "code",
   "execution_count": 311,
   "id": "19032237-7d24-4f76-8e07-128ce028659d",
   "metadata": {
    "tags": []
   },
   "outputs": [],
   "source": [
    "s = rho_df.loc[keep,[treat]].fillna(0).abs()"
   ]
  },
  {
   "cell_type": "code",
   "execution_count": 312,
   "id": "0aad9041-2913-46bb-8f04-5a162dd5b115",
   "metadata": {
    "tags": []
   },
   "outputs": [],
   "source": [
    "l = rho_label.loc[keep,[treat]].replace({treat: {\n",
    "    'target_non_hit': 'grey30', \n",
    "    'resistance_hit': '#de2d26', \n",
    "    'sensitivity_hit': \"#3182bd\", \n",
    "}}).astype(str)"
   ]
  },
  {
   "cell_type": "code",
   "execution_count": 317,
   "id": "5efc5fee-d01f-45b4-a51c-45adb91a1376",
   "metadata": {
    "tags": []
   },
   "outputs": [
    {
     "data": {
      "image/png": "[encoded data removed]",
      "text/plain": [
       "<IPython.core.display.Image object>"
      ]
     },
     "metadata": {},
     "output_type": "display_data"
    }
   ],
   "source": [
    "%%R -i d,s,l\n",
    "g = graph_from_data_frame(d, directed = FALSE, vertices = NULL)\n",
    "g = igraph::simplify(g)\n",
    "\n",
    "V(g)$color <- l[V(g)$name,]\n",
    "E(g)$width <- E(g)$weight \n",
    "\n",
    "coords = layout_with_fr(g)\n",
    "\n",
    "# plot the graph\n",
    "plot(g, layout=coords, \n",
    "     vertex.label=NA, \n",
    "     vertex.color =l[V(g)$name,],\n",
    "     vertex.size=abs(s[V(g)$name,] * 20)\n",
    "    )"
   ]
  },
  {
   "cell_type": "code",
   "execution_count": 293,
   "id": "230d89ec-7314-4ef7-8e1e-aaa748f82447",
   "metadata": {
    "tags": []
   },
   "outputs": [
    {
     "name": "stdout",
     "output_type": "stream",
     "text": [
      "[1] TRUE\n"
     ]
    }
   ],
   "source": [
    "%%R\n",
    "is_weighted(g)"
   ]
  },
  {
   "cell_type": "markdown",
   "id": "ae56ee54-29c3-4899-913b-3d2ce94be7f4",
   "metadata": {},
   "source": [
    "___"
   ]
  },
  {
   "cell_type": "code",
   "execution_count": 172,
   "id": "6e2f4339-0a55-497d-85db-04d9a5401932",
   "metadata": {
    "tags": []
   },
   "outputs": [],
   "source": [
    "# %%R \n",
    "# c1 = cluster_optimal(g)\n",
    "# # modularity(c1)"
   ]
  },
  {
   "cell_type": "code",
   "execution_count": 233,
   "id": "f4610035-fcbd-4ce7-b48a-1857664b6f4c",
   "metadata": {
    "tags": []
   },
   "outputs": [],
   "source": [
    "%%R\n",
    "c2 = cluster_leading_eigen(g)"
   ]
  },
  {
   "cell_type": "code",
   "execution_count": 259,
   "id": "864ca46a-2364-4dc3-bd2c-6c93b90b00f3",
   "metadata": {
    "tags": []
   },
   "outputs": [
    {
     "data": {
      "image/png": "[encoded data removed]",
      "text/plain": [
       "<IPython.core.display.Image object>"
      ]
     },
     "metadata": {},
     "output_type": "display_data"
    }
   ],
   "source": [
    "%%R\n",
    "igraph::plot_dendrogram(c2)"
   ]
  },
  {
   "cell_type": "code",
   "execution_count": 260,
   "id": "1a283182-0ebf-4536-918e-129a4040ab22",
   "metadata": {
    "tags": []
   },
   "outputs": [
    {
     "data": {
      "image/png": "[encoded data removed]",
      "text/plain": [
       "<IPython.core.display.Image object>"
      ]
     },
     "metadata": {},
     "output_type": "display_data"
    }
   ],
   "source": [
    "%%R \n",
    "plot(c2, g, \n",
    "     layout=coords, \n",
    "     vertex.label=NA, \n",
    "     vertex.color =l[V(g)$name,],\n",
    "     # vertex.size=abs(s[V(g)$name,] * 20)\n",
    "    )"
   ]
  },
  {
   "cell_type": "markdown",
   "id": "025e0276-d14e-4369-bfeb-5caa3dcea17a",
   "metadata": {
    "jp-MarkdownHeadingCollapsed": true,
    "tags": []
   },
   "source": [
    "### \n",
    "<!-- GTP graph -->\n",
    "`Gene-Treatment-PhenotypeScore` wighted graph"
   ]
  },
  {
   "cell_type": "markdown",
   "id": "4cf5bc9f-b9f2-4ce4-9657-62bc60a783a6",
   "metadata": {},
   "source": [
    "___\n",
    "build graph"
   ]
  },
  {
   "cell_type": "code",
   "execution_count": null,
   "id": "3d53b702-f820-4f25-8bcb-a22a62c3a6f6",
   "metadata": {
    "tags": []
   },
   "outputs": [],
   "source": [
    "# gr_table = pd.concat([\n",
    "#     rho_df.reset_index().melt(id_vars=['target'],value_name='score',var_name='treatment').set_index(['target','treatment']),\n",
    "#     rho_label.reset_index().melt(id_vars=['target'],var_name='treatment',value_name='label').set_index(['target','treatment'])\n",
    "# ],axis=1).query('label != \"pseudo\" and label != \"target_non_hit\"')"
   ]
  },
  {
   "cell_type": "code",
   "execution_count": null,
   "id": "36e21e0e-c2a0-4918-bfbe-3c276d24e32a",
   "metadata": {
    "tags": []
   },
   "outputs": [],
   "source": [
    "# gr = build_graph(gr_table.drop(columns='label').reset_index())"
   ]
  },
  {
   "cell_type": "markdown",
   "id": "021c1c71-ca00-4131-9706-db6be6a7c049",
   "metadata": {},
   "source": [
    "___\n",
    "combine"
   ]
  },
  {
   "cell_type": "code",
   "execution_count": null,
   "id": "f6849d3f-f0d5-44a5-8968-68925d984387",
   "metadata": {
    "tags": []
   },
   "outputs": [],
   "source": [
    "# keep = rho_target_corr_gr_prdx1.vs['name']"
   ]
  },
  {
   "cell_type": "code",
   "execution_count": null,
   "id": "9aecc7f7-f520-443c-b688-3a24fe468724",
   "metadata": {
    "tags": []
   },
   "outputs": [],
   "source": [
    "# d1 = rho_target_corr_gr_table.query(f'target in {keep} and target2 in {keep}').reset_index(drop=True)\n",
    "# d1.columns = ['col_1','col_2','value']\n",
    "# d1['edgeType'] = 'PCC'\n",
    "\n",
    "# d2 = gr_table.drop(columns='label').reset_index().query(f'target in {keep}').reset_index(drop=True)\n",
    "# d2.columns = ['col_1','col_2','value']\n",
    "# d2['edgeType'] = 'GTP'\n",
    "\n",
    "# d = pd.concat([d1,d2],axis=0).reset_index(drop=True)"
   ]
  },
  {
   "cell_type": "code",
   "execution_count": null,
   "id": "8047d5a2-b0b0-40b0-b6c0-d38d4417a3eb",
   "metadata": {
    "tags": []
   },
   "outputs": [],
   "source": [
    "# %%R -i d\n",
    "\n",
    "# d %>% head"
   ]
  },
  {
   "cell_type": "code",
   "execution_count": null,
   "id": "4971459e-a39f-47a9-a84e-dd498a4fb237",
   "metadata": {
    "tags": []
   },
   "outputs": [],
   "source": [
    "# %%R\n",
    "# g = graph_from_data_frame(d, directed = FALSE, vertices = NULL)\n",
    "# g = igraph::simplify(g)"
   ]
  },
  {
   "cell_type": "code",
   "execution_count": null,
   "id": "aa92037e-9482-45c5-a49f-dff6d980519a",
   "metadata": {
    "tags": []
   },
   "outputs": [],
   "source": [
    "# %%R\n",
    "# coords = layout_with_fr(g)\n",
    "# # plot the graph\n",
    "# plot(igraph::simplify(g), layout=coords, vertex.label=NA, vertex.size=10)"
   ]
  },
  {
   "cell_type": "code",
   "execution_count": null,
   "id": "7094ac60-b17c-4c1d-ba94-3a5d1e7849b3",
   "metadata": {
    "tags": []
   },
   "outputs": [],
   "source": [
    "# %%R \n",
    "# c1 = cluster_optimal(g)\n",
    "# # modularity(c1)"
   ]
  },
  {
   "cell_type": "code",
   "execution_count": null,
   "id": "de6d1cba-16b1-45e4-8d36-64da509c0dc8",
   "metadata": {
    "tags": []
   },
   "outputs": [],
   "source": [
    "# %%R\n",
    "# c2 = cluster_leading_eigen(g)"
   ]
  },
  {
   "cell_type": "code",
   "execution_count": null,
   "id": "07d60190-ada2-4ba6-a04c-9bf7a43ac6eb",
   "metadata": {
    "tags": []
   },
   "outputs": [],
   "source": [
    "# %%R\n",
    "# igraph::plot_dendrogram(c2)"
   ]
  },
  {
   "cell_type": "code",
   "execution_count": null,
   "id": "19f4b43f-c52a-4533-a044-92a7649d884b",
   "metadata": {
    "tags": []
   },
   "outputs": [],
   "source": [
    "# %%R \n",
    "# plot(c2, g, layout=coords, vertex.color=membership(c1),vertex.label=NA, vertex.size=10)"
   ]
  },
  {
   "cell_type": "code",
   "execution_count": null,
   "id": "e6e77c1f-174d-45f2-aa15-54cacd987b93",
   "metadata": {
    "tags": []
   },
   "outputs": [],
   "source": [
    "# %%R\n",
    "# plot(g, vertex.color=membership(c2), layout=coords)"
   ]
  },
  {
   "cell_type": "markdown",
   "id": "2d92972a-6cee-40bc-b9b7-231b3e17b879",
   "metadata": {
    "tags": []
   },
   "source": [
    "# "
   ]
  },
  {
   "cell_type": "code",
   "execution_count": null,
   "id": "e653d66a-3072-409f-9cc9-7af887f3eaf2",
   "metadata": {},
   "outputs": [],
   "source": [
    "%%R\n",
    "sessionInfo()"
   ]
  },
  {
   "cell_type": "code",
   "execution_count": 19,
   "id": "5e21f3d7-d6e6-45fd-a521-86802b01cfea",
   "metadata": {
    "tags": []
   },
   "outputs": [
    {
     "name": "stdout",
     "output_type": "stream",
     "text": [
      "Last updated: 2023-08-03T13:09:50.628633-07:00\n",
      "\n",
      "Python implementation: CPython\n",
      "Python version       : 3.9.16\n",
      "IPython version      : 8.14.0\n",
      "\n",
      "Compiler    : GCC 11.3.0\n",
      "OS          : Linux\n",
      "Release     : 3.10.0-957.27.2.el7.x86_64\n",
      "Machine     : x86_64\n",
      "Processor   : x86_64\n",
      "CPU cores   : 64\n",
      "Architecture: 64bit\n",
      "\n",
      "________________________________________________________________________________\n",
      "pandas: 2.0.3\n",
      "\n"
     ]
    }
   ],
   "source": [
    "from watermark import watermark\n",
    "print(\n",
    "    watermark()\n",
    ")\n",
    "print('_'*80)\n",
    "print(\n",
    "    watermark(iversions=True, globals_=globals())\n",
    ")"
   ]
  },
  {
   "cell_type": "code",
   "execution_count": null,
   "id": "9c64f926-3ec6-46d8-8d95-7e7c866a566a",
   "metadata": {},
   "outputs": [],
   "source": []
  }
 ],
 "metadata": {
  "kernelspec": {
   "display_name": "Python [conda env:screenpro2]",
   "language": "python",
   "name": "conda-env-screenpro2-py"
  },
  "language_info": {
   "codemirror_mode": {
    "name": "ipython",
    "version": 3
   },
   "file_extension": ".py",
   "mimetype": "text/x-python",
   "name": "python",
   "nbconvert_exporter": "python",
   "pygments_lexer": "ipython3",
   "version": "3.9.16"
  }
 },
 "nbformat": 4,
 "nbformat_minor": 5
}
