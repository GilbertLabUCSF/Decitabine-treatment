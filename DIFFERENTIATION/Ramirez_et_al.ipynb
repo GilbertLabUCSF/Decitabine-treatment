{
 "cells": [
  {
   "cell_type": "markdown",
   "id": "99dcf31b-b066-421e-b224-df4b3440503a",
   "metadata": {},
   "source": [
    "### "
   ]
  },
  {
   "cell_type": "markdown",
   "id": "3e43f461-2b79-408e-8e1f-5b23d118ddc0",
   "metadata": {},
   "source": [
    "`fastq-dump`\n",
    "\n",
    "https://www.biostars.org/p/222122/\n"
   ]
  },
  {
   "cell_type": "code",
   "execution_count": 1,
   "id": "9afca249-20c0-405b-bccb-5e379d28ad91",
   "metadata": {},
   "outputs": [],
   "source": [
    "# !wget ftp.sra.ebi.ac.uk/vol1/fastq/SRR117/072/SRR11711272/SRR11711272_1.fastq.gz"
   ]
  },
  {
   "cell_type": "code",
   "execution_count": 2,
   "id": "94881b94-639d-4805-abf6-9c12f33aa381",
   "metadata": {
    "tags": []
   },
   "outputs": [],
   "source": [
    "# ls -lh GSE79044_RNAseq/fastq"
   ]
  },
  {
   "cell_type": "code",
   "execution_count": 3,
   "id": "d2d64149-1a98-45b1-b832-a94160b2b28f",
   "metadata": {},
   "outputs": [],
   "source": [
    "# cat GSE79044_RNAseq/fastq/download.out"
   ]
  },
  {
   "cell_type": "code",
   "execution_count": 4,
   "id": "69ba0147-761b-476f-bbc9-cbed5a234d3d",
   "metadata": {
    "tags": []
   },
   "outputs": [],
   "source": [
    "# srr = open('GSE79044_RNAseq/SRR_Acc_List.txt')\n",
    "\n",
    "# for s in srr.readlines():\n",
    "#     s = s.replace('\\n','')\n",
    "#     n = s[-1]\n",
    "#     cmd=f'rsync -av rsync://ftp.sra.ebi.ac.uk/vol1/fastq/SRR321/00{n}/{s}/{s}.fastq.gz .'\n",
    "#     print(cmd)"
   ]
  },
  {
   "cell_type": "markdown",
   "id": "c0c3553f-6d71-4cb0-9ab8-0b9800ca7d62",
   "metadata": {},
   "source": [
    "### "
   ]
  },
  {
   "cell_type": "code",
   "execution_count": 5,
   "id": "063aeb71-87fe-4e45-b776-4eb96b740150",
   "metadata": {
    "tags": []
   },
   "outputs": [],
   "source": [
    "import os\n",
    "import anndata as ad\n",
    "import pandas as pd\n",
    "import numpy as np\n",
    "import scanpy as sc\n",
    "from glob import glob\n",
    "\n",
    "from pydeseq2.preprocessing import deseq2_norm"
   ]
  },
  {
   "cell_type": "code",
   "execution_count": 6,
   "id": "48527c21-16e8-4a16-818e-5670d590bfdc",
   "metadata": {
    "tags": []
   },
   "outputs": [],
   "source": [
    "import sys"
   ]
  },
  {
   "cell_type": "code",
   "execution_count": 9,
   "id": "ae8e4d80-a986-4574-8d5b-0a25ec9fd840",
   "metadata": {
    "tags": []
   },
   "outputs": [],
   "source": [
    "sys.path.append('../scripts')\n",
    "\n",
    "from util import find_top"
   ]
  },
  {
   "cell_type": "code",
   "execution_count": 10,
   "id": "7afa58ff-6c14-40c2-a948-8f0e69264179",
   "metadata": {
    "tags": []
   },
   "outputs": [],
   "source": [
    "import blitzgsea as blitz\n",
    "\n",
    "import upsetplot as up\n",
    "\n",
    "from matplotlib import pyplot as plt"
   ]
  },
  {
   "cell_type": "code",
   "execution_count": 11,
   "id": "95141306-2648-4379-8b37-2569d2c96cc3",
   "metadata": {
    "tags": []
   },
   "outputs": [],
   "source": [
    "import upsetplot as up"
   ]
  },
  {
   "cell_type": "code",
   "execution_count": 13,
   "id": "d574005a-1f1f-4a12-b1fa-e9ba7c9c8c85",
   "metadata": {
    "tags": []
   },
   "outputs": [],
   "source": [
    "delta_exp = {\n",
    "    \"Macrophage\": pd.read_csv(\n",
    "        'exp/res_Macrophage_vs_HL_60_delta_exp_table.txt',sep='\\t'\n",
    "    ).set_index(['gene_id','gene_name']),\n",
    "    'Monocyte': pd.read_csv(\n",
    "        'exp/res_Monocyte_vs_HL_60_delta_exp_table.txt',sep='\\t'\n",
    "    ).set_index(['gene_id','gene_name']),\n",
    "    \"Neutrophil\": pd.read_csv(\n",
    "        'exp/res_Neutrophil_vs_HL_60_delta_exp_table.txt',sep='\\t'\n",
    "    ).set_index(['gene_id','gene_name']),\n",
    "    \"decitabine+rg3039\":pd.read_csv(\n",
    "        '../DAC-rg3039/RNA-seq/exp/res_comb_vs_dmso_delta_exp_table.txt',sep='\\t'\n",
    "    ).set_index(['gene_id','gene_name']),\n",
    "    \"decitabine\":pd.read_csv(\n",
    "        '../DAC-rg3039/RNA-seq/exp/res_decitabine_vs_dmso_delta_exp_table.txt',sep='\\t'\n",
    "    ).set_index(['gene_id','gene_name']),\n",
    "    \"rg3039\":pd.read_csv(\n",
    "        '../DAC-rg3039/RNA-seq/exp/res_rg3039_vs_dmso_delta_exp_table.txt',sep='\\t'\n",
    "    ).set_index(['gene_id','gene_name'])\n",
    "}\n",
    "\n",
    "delta_exp_df = pd.concat(delta_exp,axis=1)"
   ]
  },
  {
   "cell_type": "code",
   "execution_count": 14,
   "id": "a7c2a907-a783-4d33-b01e-fa4fe45188cd",
   "metadata": {
    "tags": []
   },
   "outputs": [
    {
     "name": "stdout",
     "output_type": "stream",
     "text": [
      "\u001b[1mMacrophage\u001b[0m\n",
      "up:  3117\n",
      "down: 3046\n",
      "\u001b[1mMonocyte\u001b[0m\n",
      "up:  1442\n",
      "down: 1253\n",
      "\u001b[1mNeutrophil\u001b[0m\n",
      "up:  2571\n",
      "down: 3221\n",
      "\u001b[1mdecitabine+rg3039\u001b[0m\n",
      "up:  2156\n",
      "down: 1487\n",
      "\u001b[1mdecitabine\u001b[0m\n",
      "up:  1150\n",
      "down: 265\n",
      "\u001b[1mrg3039\u001b[0m\n",
      "up:  1160\n",
      "down: 820\n"
     ]
    }
   ],
   "source": [
    "delta_exp_genes = {}\n",
    "\n",
    "for delta_name in delta_exp.keys():\n",
    "    print(f'\\033[1m{delta_name}\\033[0m')\n",
    "    # delta_exp_genes[delta_name] = {}\n",
    "    delta_exp_genes[f'{delta_name}_up'], delta_exp_genes[f'{delta_name}_down'] = [\n",
    "        set(df.index.to_frame().gene_name.to_list()) for df in \n",
    "        find_top(delta_exp[delta_name],'log2FoldChange',1,'pvalue',0.05)\n",
    "    ]"
   ]
  },
  {
   "cell_type": "code",
   "execution_count": 76,
   "id": "cd9ea5a0-6234-4bdd-bb38-8180ba399677",
   "metadata": {
    "tags": []
   },
   "outputs": [],
   "source": [
    "data = up.from_contents(delta_exp_genes)"
   ]
  },
  {
   "cell_type": "code",
   "execution_count": 77,
   "id": "cd909e4e-9e17-4539-a0cb-3a2c6245d591",
   "metadata": {
    "tags": []
   },
   "outputs": [],
   "source": [
    "pager_annotation_path = '/data_gilbert/home/aarab/tools/pager/annotations/human'"
   ]
  },
  {
   "cell_type": "code",
   "execution_count": 78,
   "id": "52fdf2f7-7162-449f-a3ec-7116a6461d46",
   "metadata": {
    "tags": []
   },
   "outputs": [],
   "source": [
    "c5_go_gmt = blitz.enrichr.read_gmt(\n",
    "    f'{pager_annotation_path}/msigdb_v7.4_c5.go/c5.go.v7.4.symbols.gmt'\n",
    ")"
   ]
  },
  {
   "cell_type": "code",
   "execution_count": 79,
   "id": "31feb8d7-5367-4659-a041-77efee0b9cbc",
   "metadata": {
    "tags": []
   },
   "outputs": [],
   "source": [
    "library = {}\n",
    "# library = c5_go_gmt#{}"
   ]
  },
  {
   "cell_type": "code",
   "execution_count": 80,
   "id": "d2ec58c5-0ae1-4ef9-b6a1-d1c42b30d40e",
   "metadata": {
    "tags": []
   },
   "outputs": [],
   "source": [
    "# library = {k:v for k,v in delta_exp_genes.items() if k \n",
    "#          not in [\n",
    "#              t+'_'+s for t in ['decitabine+rg3039','decitabine','rg3039'] for s in ['up','down']\n",
    "#          ]}"
   ]
  },
  {
   "cell_type": "code",
   "execution_count": 81,
   "id": "1a55d4f5-e562-4f7b-939a-8df627e9e67f",
   "metadata": {
    "tags": []
   },
   "outputs": [],
   "source": [
    "library['ol'] = set(\n",
    "    up.query(data,\n",
    "             present=['decitabine+rg3039_up','Macrophage_up','Monocyte_up','Neutrophil_up'],\n",
    "             absent=['decitabine_up','rg3039_up']\n",
    "            ).data['id'].to_list()\n",
    ")"
   ]
  },
  {
   "cell_type": "markdown",
   "id": "25daca28-b441-4691-8d04-a84c2cea0787",
   "metadata": {},
   "source": [
    "### "
   ]
  },
  {
   "cell_type": "code",
   "execution_count": 82,
   "id": "253a877d-af55-4c79-ad5e-68decb6b0d05",
   "metadata": {
    "tags": []
   },
   "outputs": [],
   "source": [
    "# {k:v for (k,v) in delta_exp_genes.items() if 'up' in k}"
   ]
  },
  {
   "cell_type": "code",
   "execution_count": 83,
   "id": "746d5765-7ff9-45eb-be78-14870bc13e12",
   "metadata": {
    "tags": []
   },
   "outputs": [
    {
     "name": "stdout",
     "output_type": "stream",
     "text": [
      "Use cached anchor parameters\n"
     ]
    },
    {
     "name": "stderr",
     "output_type": "stream",
     "text": [
      "Enrichment : 100%|██████████| 1/1 [00:00<00:00, 361.24it/s]\n"
     ]
    },
    {
     "name": "stdout",
     "output_type": "stream",
     "text": [
      "Use cached anchor parameters\n"
     ]
    },
    {
     "name": "stderr",
     "output_type": "stream",
     "text": [
      "Enrichment : 100%|██████████| 1/1 [00:00<00:00, 460.66it/s]\n"
     ]
    },
    {
     "name": "stdout",
     "output_type": "stream",
     "text": [
      "Use cached anchor parameters\n"
     ]
    },
    {
     "name": "stderr",
     "output_type": "stream",
     "text": [
      "Enrichment : 100%|██████████| 1/1 [00:00<00:00, 374.56it/s]"
     ]
    },
    {
     "name": "stdout",
     "output_type": "stream",
     "text": [
      "Kolmogorov-Smirnov test failed. Gamma approximation deviates from permutation samples.\n",
      "KS p-value (pos): 3.2406641315741814e-06\n",
      "KS p-value (neg): 3.2406641315741814e-06\n"
     ]
    },
    {
     "name": "stderr",
     "output_type": "stream",
     "text": [
      "\n"
     ]
    }
   ],
   "source": [
    "gsea_results = {}\n",
    "\n",
    "for treat in ['decitabine+rg3039','decitabine','rg3039']:\n",
    "\n",
    "    signature = delta_exp[treat]['log2FoldChange'].reset_index('gene_name').reset_index(drop=True).fillna(0).copy()\n",
    "    \n",
    "    res = blitz.gsea(\n",
    "        signature,\n",
    "        library,\n",
    "        verbose=True\n",
    "    )\n",
    "    \n",
    "    gsea_results[treat] = res\n",
    "    \n",
    "    del res,signature"
   ]
  },
  {
   "cell_type": "code",
   "execution_count": 84,
   "id": "0e7af7ba-30be-4601-8a12-9e1f8022948c",
   "metadata": {
    "tags": []
   },
   "outputs": [],
   "source": [
    "figs = {}\n",
    "\n",
    "for treat in ['decitabine+rg3039','decitabine','rg3039']:\n",
    "\n",
    "    signature = delta_exp[treat]['log2FoldChange'].reset_index('gene_name').reset_index(drop=True).fillna(0).copy()\n",
    "    \n",
    "    res = gsea_results[treat]\n",
    "    \n",
    "    fig_table = blitz.plot.top_table(signature, library, res, n=1)\n",
    "\n",
    "    figs[treat] = fig_table\n",
    "    \n",
    "    del res,signature"
   ]
  },
  {
   "cell_type": "code",
   "execution_count": null,
   "id": "59ebd1aa-d3b0-4dd8-b671-7a6794d16fcf",
   "metadata": {},
   "outputs": [],
   "source": []
  },
  {
   "cell_type": "code",
   "execution_count": null,
   "id": "cabc2411-7e63-4e5a-b28e-04495232b8ab",
   "metadata": {},
   "outputs": [],
   "source": []
  },
  {
   "cell_type": "code",
   "execution_count": null,
   "id": "b7d64b1c-a7ca-4632-af97-838e45641645",
   "metadata": {},
   "outputs": [],
   "source": []
  },
  {
   "cell_type": "code",
   "execution_count": null,
   "id": "68850d18-df75-4234-98b4-e236248e7d78",
   "metadata": {},
   "outputs": [],
   "source": []
  },
  {
   "cell_type": "code",
   "execution_count": 85,
   "id": "ffff4b28-938e-4f16-a3d7-b2c90ff71e8c",
   "metadata": {
    "tags": []
   },
   "outputs": [],
   "source": [
    "import pypage"
   ]
  },
  {
   "cell_type": "code",
   "execution_count": 86,
   "id": "1c5d437f-75c9-41fa-9202-9c6c559d2cb5",
   "metadata": {},
   "outputs": [],
   "source": [
    "# gs_ann = pypage.GeneSets(ann_file=, n_bins=3)"
   ]
  },
  {
   "cell_type": "code",
   "execution_count": 87,
   "id": "51252aaa-f846-43c3-9269-26cf4212b8e8",
   "metadata": {},
   "outputs": [],
   "source": [
    "# def run_pyPAGE(expression, annotation):\n",
    "    \n",
    "#     p = pypage.PAGE(\n",
    "#         expression,\n",
    "#         annotation,\n",
    "#         n_shuffle=1000,\n",
    "#         k=7,\n",
    "#         filter_redundant=True\n",
    "#     )\n",
    "#     results, hm = p.run()\n",
    "#     hm.convert_from_to('gs', 'ensg', 'human')\n",
    "#     hm.show(show_reg=True)\n",
    "    \n",
    "#     return results\n"
   ]
  },
  {
   "cell_type": "code",
   "execution_count": 88,
   "id": "8b026549-92df-4974-91a6-ef0007b58905",
   "metadata": {},
   "outputs": [],
   "source": [
    "import upsetplot as up"
   ]
  },
  {
   "cell_type": "code",
   "execution_count": 89,
   "id": "a37b7b1e-3d78-4d81-a3f7-1a3a5f13a09c",
   "metadata": {
    "tags": []
   },
   "outputs": [],
   "source": [
    "upset = up.UpSet(data, intersection_plot_elements=0)  # disable the default bar chart"
   ]
  },
  {
   "cell_type": "code",
   "execution_count": 90,
   "id": "8c7ac98f-c177-42e8-8b26-5ecf12975142",
   "metadata": {
    "tags": []
   },
   "outputs": [],
   "source": [
    "# from matplotlib import cm\n",
    "\n",
    "# upset.add_stacked_bars(\n",
    "#     by=\"Sex\", colors=cm.Pastel1, title=\"Count by gender\", elements=10\n",
    "# )\n",
    "\n",
    "# upset.plot()\n",
    "# plt.suptitle(\"Gender for first class and survival on Titanic\")\n",
    "# plt.show()\n"
   ]
  },
  {
   "cell_type": "code",
   "execution_count": 92,
   "id": "a32a0470-76c3-42c0-87c2-3b986fbffe2c",
   "metadata": {
    "tags": []
   },
   "outputs": [
    {
     "data": {
      "image/png": "[encoded data removed]",
      "text/plain": [
       "<Figure size 666.667x533.333 with 4 Axes>"
      ]
     },
     "metadata": {},
     "output_type": "display_data"
    }
   ],
   "source": [
    "data_down = up.from_contents({k:v for (k,v) in delta_exp_genes.items() if 'down' in k})\n",
    "\n",
    "result = up.query(data_down, \n",
    "                  present='decitabine+rg3039_down',\n",
    "                  absent=['decitabine_down','rg3039_down']\n",
    "                 )\n",
    "\n",
    "upset = up.UpSet(\n",
    "    result.data, \n",
    "    # data, \n",
    "    sort_by='cardinality',\n",
    "    subset_size=\"count\",\n",
    "    # orientation=\n",
    "    facecolor=\"gray\",\n",
    "    min_degree=2,\n",
    "    show_counts=True,\n",
    "    # max_degree=2\n",
    ")\n",
    "\n",
    "upset.style_subsets(present=['Neutrophil_down'],   min_degree=2, label=\"Neutrophil\",facecolor=\"blue\")\n",
    "upset.style_subsets(present=['Monocyte_down'],     min_degree=2, label='Monocyte',hatch=\"xx\", edgecolor=\"m\")\n",
    "upset.style_subsets(present=['Macrophage_down'],   min_degree=2, label='Macrophage',edgecolor=\"teal\")\n",
    "\n",
    "upset.style_categories(\"decitabine+rg3039_down\", shading_edgecolor=\"black\", shading_linewidth=1)\n",
    "\n",
    "upset.plot()\n",
    "plt.show()"
   ]
  },
  {
   "cell_type": "code",
   "execution_count": 93,
   "id": "bfaa34b8-f26c-4e74-98ca-c3597cecd2f3",
   "metadata": {
    "tags": []
   },
   "outputs": [
    {
     "data": {
      "image/png": "[encoded data removed]",
      "text/plain": [
       "<Figure size 622.222x533.333 with 4 Axes>"
      ]
     },
     "metadata": {},
     "output_type": "display_data"
    }
   ],
   "source": [
    "data_up = up.from_contents({k:v for (k,v) in delta_exp_genes.items() if 'up' in k})\n",
    "\n",
    "result = up.query(data_up, \n",
    "                  present='decitabine+rg3039_up',\n",
    "                  absent=['decitabine_up','rg3039_up']\n",
    "                 )\n",
    "\n",
    "upset = up.UpSet(\n",
    "    result.data, \n",
    "    # data, \n",
    "    sort_by='cardinality',\n",
    "    subset_size=\"count\",\n",
    "    # orientation=\n",
    "    facecolor=\"gray\",\n",
    "    min_degree=2,\n",
    "    show_counts=True,\n",
    "    # max_degree=2\n",
    ")\n",
    "\n",
    "upset.style_subsets(present=['Neutrophil_up'],   min_degree=2, label=\"Neutrophil\",facecolor=\"blue\")\n",
    "upset.style_subsets(present=['Monocyte_up'],     min_degree=2, label='Monocyte',hatch=\"xx\", edgecolor=\"m\")\n",
    "upset.style_subsets(present=['Macrophage_up'],   min_degree=2, label='Macrophage',edgecolor=\"teal\")\n",
    "\n",
    "upset.style_categories(\"decitabine+rg3039_up\", shading_edgecolor=\"black\", shading_linewidth=1)\n",
    "\n",
    "upset.plot()\n",
    "plt.show()"
   ]
  },
  {
   "cell_type": "code",
   "execution_count": 99,
   "id": "6deb9d57-675f-4b26-8e0d-f72ca8bf796f",
   "metadata": {
    "tags": []
   },
   "outputs": [],
   "source": [
    "ol_genesets = {}\n",
    "\n",
    "for side in ['up','down']:\n",
    "    ol_genesets[f'Neutrophil_{side}'] = list(set(up.query(\n",
    "            data,\n",
    "            present=[f'decitabine+rg3039_{side}',f'Neutrophil_{side}'],\n",
    "            absent=[f'decitabine_{side}',f'rg3039_{side}',\n",
    "                    f'Macrophage_{side}',f'Monocyte_{side}']\n",
    "        ).data['id']))\n",
    "\n",
    "    ol_genesets[f'Monocyte_{side}'] = list(set(up.query(\n",
    "            data,\n",
    "            present=[f'decitabine+rg3039_{side}',f'Monocyte_{side}'],\n",
    "            absent=[f'decitabine_{side}',f'rg3039_{side}',\n",
    "                    f'Macrophage_{side}',f'Neutrophil_{side}']\n",
    "        ).data['id']))\n",
    "\n",
    "    ol_genesets[f'Macrophage_{side}'] = list(set(up.query(\n",
    "            data,\n",
    "            present=[f'decitabine+rg3039_{side}',f'Macrophage_{side}'],\n",
    "            absent=[f'decitabine_{side}',f'rg3039_{side}',\n",
    "                    f'Monocyte_{side}',f'Neutrophil_{side}']\n",
    "        ).data['id']))"
   ]
  },
  {
   "cell_type": "code",
   "execution_count": 100,
   "id": "d9b8f0e2-149e-49fb-8731-4f6c60d68224",
   "metadata": {
    "tags": []
   },
   "outputs": [],
   "source": [
    "for k,v in ol_genesets.items():\n",
    "    pd.Series(v).to_csv(f'exp/geneset_{k}.txt',index=False,header=None)\n",
    "    pd.Series(v).to_csv(f'../DAC-rg3039/RNA-seq/exp/geneset_{k}.txt',index=False,header=None)    "
   ]
  },
  {
   "cell_type": "code",
   "execution_count": 103,
   "id": "87e3b337-bfa9-486f-9b67-993076f11f4d",
   "metadata": {
    "tags": []
   },
   "outputs": [
    {
     "data": {
      "text/plain": [
       "[('Neutrophil_up', 38),\n",
       " ('Monocyte_up', 25),\n",
       " ('Macrophage_up', 64),\n",
       " ('Neutrophil_down', 169),\n",
       " ('Monocyte_down', 11),\n",
       " ('Macrophage_down', 63)]"
      ]
     },
     "execution_count": 103,
     "metadata": {},
     "output_type": "execute_result"
    }
   ],
   "source": [
    "[(k, len(v))for k,v in ol_genesets.items()]"
   ]
  },
  {
   "cell_type": "code",
   "execution_count": 104,
   "id": "d4ae2fee-5f09-4b2f-a124-929ff89b3904",
   "metadata": {
    "tags": []
   },
   "outputs": [
    {
     "name": "stdout",
     "output_type": "stream",
     "text": [
      "comb_vs_dmso Neutrophil_up\n",
      "decitabine_vs_dmso Neutrophil_up\n",
      "rg3039_vs_dmso Neutrophil_up\n",
      "comb_vs_dmso Monocyte_up\n",
      "decitabine_vs_dmso Monocyte_up\n",
      "rg3039_vs_dmso Monocyte_up\n",
      "comb_vs_dmso Macrophage_up\n",
      "decitabine_vs_dmso Macrophage_up\n",
      "rg3039_vs_dmso Macrophage_up\n",
      "comb_vs_dmso Neutrophil_down\n",
      "decitabine_vs_dmso Neutrophil_down\n",
      "rg3039_vs_dmso Neutrophil_down\n",
      "comb_vs_dmso Monocyte_down\n",
      "decitabine_vs_dmso Monocyte_down\n",
      "rg3039_vs_dmso Monocyte_down\n",
      "comb_vs_dmso Macrophage_down\n",
      "decitabine_vs_dmso Macrophage_down\n",
      "rg3039_vs_dmso Macrophage_down\n"
     ]
    }
   ],
   "source": [
    "# RNA_seq_dir = 'exp'\n",
    "RNA_seq_dir = '../DAC-rg3039/RNA-seq/exp'\n",
    "\n",
    "# conditions = ['Macrophage_vs_HL_60','Monocyte_vs_HL_60','Neutrophil_vs_HL_60']\n",
    "conditions = ['comb_vs_dmso','decitabine_vs_dmso','rg3039_vs_dmso']\n",
    "\n",
    "# for geneset_name in [geneset_name]:#['Monocyte_up']:#ol_genesets.keys():\n",
    "for geneset_name in ol_genesets.keys():\n",
    "\n",
    "    for condition in conditions:\n",
    "        pd.read_csv(\n",
    "            f'{RNA_seq_dir}/res_{condition}_delta_exp.txt',sep='\\t'\n",
    "        ).drop_duplicates('gene_name').to_csv(f'{RNA_seq_dir}/res_{condition}_delta_exp.c.txt',sep='\\t',index=False)\n",
    "\n",
    "        print(condition,geneset_name)\n",
    "        !bash ../scripts/onePAGE.sh \\\n",
    "            {RNA_seq_dir} \\\n",
    "            res_{condition}_delta_exp.c.txt \\\n",
    "            geneset_{geneset_name} &> /dev/null"
   ]
  },
  {
   "cell_type": "code",
   "execution_count": null,
   "id": "6c8b377d-836a-48b7-807f-16dcb66f9d98",
   "metadata": {},
   "outputs": [],
   "source": []
  },
  {
   "cell_type": "code",
   "execution_count": null,
   "id": "7dfbd1d8-c202-40d4-b48e-405bc9a6732d",
   "metadata": {},
   "outputs": [],
   "source": []
  },
  {
   "cell_type": "code",
   "execution_count": null,
   "id": "521d35c5-b35f-4464-a987-8df6c0f85131",
   "metadata": {},
   "outputs": [],
   "source": []
  },
  {
   "cell_type": "code",
   "execution_count": null,
   "id": "57f1842b-8e1f-4d0d-aad5-6846fa3f08ee",
   "metadata": {},
   "outputs": [],
   "source": []
  },
  {
   "cell_type": "code",
   "execution_count": 121,
   "id": "399955a9-8a02-4284-b3fe-5d14273390a7",
   "metadata": {
    "tags": []
   },
   "outputs": [],
   "source": [
    "sys.path.append('/data_gilbert/home/aarab/tools/pager/')"
   ]
  },
  {
   "cell_type": "code",
   "execution_count": 123,
   "id": "3919c050-3ce6-4b64-9493-106ff99e91fe",
   "metadata": {
    "tags": []
   },
   "outputs": [],
   "source": [
    "import onePAGE"
   ]
  },
  {
   "cell_type": "code",
   "execution_count": 126,
   "id": "1b0c3759-d833-4199-9c06-7f081fff2c66",
   "metadata": {
    "tags": []
   },
   "outputs": [],
   "source": [
    "from glob import glob"
   ]
  },
  {
   "cell_type": "code",
   "execution_count": null,
   "id": "aca85101-fa0e-4c61-9a1b-71425318a109",
   "metadata": {
    "tags": []
   },
   "outputs": [],
   "source": []
  },
  {
   "cell_type": "code",
   "execution_count": 151,
   "id": "71af8fe6-3523-4c31-93f7-29ec824ad6a6",
   "metadata": {
    "tags": []
   },
   "outputs": [],
   "source": [
    "path = f'{RNA_seq_dir}/res_comb_vs_dmso_delta_exp.c_onePAGE_geneset_Macrophage_up/'\n",
    "\n",
    "exp = 'res_comb_vs_dmso_delta_exp.c'"
   ]
  },
  {
   "cell_type": "code",
   "execution_count": 152,
   "id": "30734a2d-0251-4dba-81fb-8bcdd96db204",
   "metadata": {
    "tags": []
   },
   "outputs": [
    {
     "data": {
      "text/html": [
       "<div>\n",
       "<style scoped>\n",
       "    .dataframe tbody tr th:only-of-type {\n",
       "        vertical-align: middle;\n",
       "    }\n",
       "\n",
       "    .dataframe tbody tr th {\n",
       "        vertical-align: top;\n",
       "    }\n",
       "\n",
       "    .dataframe thead th {\n",
       "        text-align: right;\n",
       "    }\n",
       "</style>\n",
       "<table border=\"1\" class=\"dataframe\">\n",
       "  <thead>\n",
       "    <tr style=\"text-align: right;\">\n",
       "      <th></th>\n",
       "      <th>MOTIF</th>\n",
       "      <th>[-28.03 -0.52]</th>\n",
       "      <th>[-0.52 0.00]</th>\n",
       "      <th>[0.00 0.00]</th>\n",
       "      <th>[0.00 0.00].1</th>\n",
       "      <th>[0.00 0.00].2</th>\n",
       "      <th>[0.00 0.87]</th>\n",
       "      <th>[0.87 23.59]</th>\n",
       "    </tr>\n",
       "  </thead>\n",
       "  <tbody>\n",
       "    <tr>\n",
       "      <th>0</th>\n",
       "      <td>0</td>\n",
       "      <td>-4.8903</td>\n",
       "      <td>-4.8903</td>\n",
       "      <td>-4.8903</td>\n",
       "      <td>-4.8903</td>\n",
       "      <td>-4.8903</td>\n",
       "      <td>-4.8903</td>\n",
       "      <td>61.8063</td>\n",
       "    </tr>\n",
       "  </tbody>\n",
       "</table>\n",
       "</div>"
      ],
      "text/plain": [
       "   MOTIF  [-28.03 -0.52]  [-0.52 0.00]  [0.00 0.00]  [0.00 0.00].1  \\\n",
       "0      0         -4.8903       -4.8903      -4.8903        -4.8903   \n",
       "\n",
       "   [0.00 0.00].2  [0.00 0.87]  [0.87 23.59]  \n",
       "0        -4.8903      -4.8903       61.8063  "
      ]
     },
     "execution_count": 152,
     "metadata": {},
     "output_type": "execute_result"
    }
   ],
   "source": [
    "pd.read_csv(f'{path}/{exp}.txt.matrix',sep='\\t')"
   ]
  },
  {
   "cell_type": "code",
   "execution_count": null,
   "id": "e3f4aeba-5e14-46aa-be95-cbdeab14ead0",
   "metadata": {},
   "outputs": [],
   "source": [
    "matrix_list.append(pd.read_csv(f'{path}/{exp}.txt.matrix',sep='\\t'))\n",
    "summary_list.append(pd.read_csv(f'{path}/{exp}.txt.summary',sep='\\t'))"
   ]
  },
  {
   "cell_type": "code",
   "execution_count": 135,
   "id": "07e5a6c4-e273-4cbb-9c8a-4a7455a28d54",
   "metadata": {
    "tags": []
   },
   "outputs": [
    {
     "ename": "FileNotFoundError",
     "evalue": "[Errno 2] No such file or directory: 'DAC-rg3039/RNA-seq/exp/res_decitabine_vs_dmso_delta_exp.c_onePAGE_geneset_Macrophage_up//.txt' -> 'DAC-rg3039/RNA-seq/exp/res_decitabine_vs_dmso_delta_exp.c_onePAGE_geneset_Macrophage_up/_onePAGE/.txt'",
     "output_type": "error",
     "traceback": [
      "\u001b[0;31m---------------------------------------------------------------------------\u001b[0m",
      "\u001b[0;31mFileNotFoundError\u001b[0m                         Traceback (most recent call last)",
      "Cell \u001b[0;32mIn[135], line 1\u001b[0m\n\u001b[0;32m----> 1\u001b[0m \u001b[43monePAGE\u001b[49m\u001b[38;5;241;43m.\u001b[39;49m\u001b[43mmerge_onePAGE_results\u001b[49m\u001b[43m(\u001b[49m\n\u001b[1;32m      2\u001b[0m \u001b[43m    \u001b[49m\u001b[43mglob\u001b[49m\u001b[43m(\u001b[49m\u001b[38;5;124;43mf\u001b[39;49m\u001b[38;5;124;43m'\u001b[39;49m\u001b[38;5;132;43;01m{\u001b[39;49;00m\u001b[43mRNA_seq_dir\u001b[49m\u001b[38;5;132;43;01m}\u001b[39;49;00m\u001b[38;5;124;43m/*onePAGE*/\u001b[39;49m\u001b[38;5;124;43m'\u001b[39;49m\u001b[43m)\u001b[49m\n\u001b[1;32m      3\u001b[0m \u001b[43m)\u001b[49m\n",
      "File \u001b[0;32m~/tools/pager/onePAGE.py:14\u001b[0m, in \u001b[0;36mmerge_onePAGE_results\u001b[0;34m(path_list)\u001b[0m\n\u001b[1;32m     12\u001b[0m     os\u001b[38;5;241m.\u001b[39mmkdir(onePAGE)\n\u001b[1;32m     13\u001b[0m \u001b[38;5;28;01mif\u001b[39;00m \u001b[38;5;129;01mnot\u001b[39;00m os\u001b[38;5;241m.\u001b[39mpath\u001b[38;5;241m.\u001b[39mexists(\u001b[38;5;124mf\u001b[39m\u001b[38;5;124m'\u001b[39m\u001b[38;5;132;01m{\u001b[39;00mpdir\u001b[38;5;132;01m}\u001b[39;00m\u001b[38;5;124m/\u001b[39m\u001b[38;5;132;01m{\u001b[39;00mexp\u001b[38;5;132;01m}\u001b[39;00m\u001b[38;5;124m_onePAGE/\u001b[39m\u001b[38;5;132;01m{\u001b[39;00mexp\u001b[38;5;132;01m}\u001b[39;00m\u001b[38;5;124m.txt\u001b[39m\u001b[38;5;124m'\u001b[39m):\n\u001b[0;32m---> 14\u001b[0m     \u001b[43mos\u001b[49m\u001b[38;5;241;43m.\u001b[39;49m\u001b[43mrename\u001b[49m\u001b[43m(\u001b[49m\u001b[38;5;124;43mf\u001b[39;49m\u001b[38;5;124;43m'\u001b[39;49m\u001b[38;5;132;43;01m{\u001b[39;49;00m\u001b[43mpath0\u001b[49m\u001b[38;5;132;43;01m}\u001b[39;49;00m\u001b[38;5;124;43m/\u001b[39;49m\u001b[38;5;132;43;01m{\u001b[39;49;00m\u001b[43mexp\u001b[49m\u001b[38;5;132;43;01m}\u001b[39;49;00m\u001b[38;5;124;43m.txt\u001b[39;49m\u001b[38;5;124;43m'\u001b[39;49m\u001b[43m,\u001b[49m\u001b[43m \u001b[49m\u001b[38;5;124;43mf\u001b[39;49m\u001b[38;5;124;43m'\u001b[39;49m\u001b[38;5;132;43;01m{\u001b[39;49;00m\u001b[43mpdir\u001b[49m\u001b[38;5;132;43;01m}\u001b[39;49;00m\u001b[38;5;124;43m/\u001b[39;49m\u001b[38;5;132;43;01m{\u001b[39;49;00m\u001b[43mexp\u001b[49m\u001b[38;5;132;43;01m}\u001b[39;49;00m\u001b[38;5;124;43m_onePAGE/\u001b[39;49m\u001b[38;5;132;43;01m{\u001b[39;49;00m\u001b[43mexp\u001b[49m\u001b[38;5;132;43;01m}\u001b[39;49;00m\u001b[38;5;124;43m.txt\u001b[39;49m\u001b[38;5;124;43m'\u001b[39;49m\u001b[43m)\u001b[49m\n\u001b[1;32m     16\u001b[0m genesets \u001b[38;5;241m=\u001b[39m []\n\u001b[1;32m     17\u001b[0m matrix_list \u001b[38;5;241m=\u001b[39m []\n",
      "\u001b[0;31mFileNotFoundError\u001b[0m: [Errno 2] No such file or directory: 'DAC-rg3039/RNA-seq/exp/res_decitabine_vs_dmso_delta_exp.c_onePAGE_geneset_Macrophage_up//.txt' -> 'DAC-rg3039/RNA-seq/exp/res_decitabine_vs_dmso_delta_exp.c_onePAGE_geneset_Macrophage_up/_onePAGE/.txt'"
     ]
    }
   ],
   "source": [
    "def merge_onePAGE_results(path_list):\n",
    "    path0 = path_list[0]\n",
    "    \n",
    "    pdir = '/'.join(path0.split('/')[:-1])\n",
    "    exp = path0.split('/')[-1].split('_onePAGE_')[0]\n",
    "    onePAGE = f'{pdir}/{exp}_onePAGE'\n",
    "    if not os.path.exists(onePAGE): \n",
    "        os.mkdir(onePAGE)\n",
    "    if not os.path.exists(f'{pdir}/{exp}_onePAGE/{exp}.txt'):\n",
    "        os.rename(f'{path0}/{exp}.txt', f'{pdir}/{exp}_onePAGE/{exp}.txt')\n",
    "    \n",
    "    genesets = []\n",
    "    matrix_list = []\n",
    "    summary_list = []\n",
    "    \n",
    "    for path in path_list:\n",
    "        geneset = path.split('/')[-1].split('_onePAGE_')[1]\n",
    "        genesets.append(geneset)\n",
    "        # read_onePAGE_matrices\n",
    "        matrix_list.append(pd.read_csv(f'{path}/{exp}.txt.matrix',sep='\\t'))\n",
    "        summary_list.append(pd.read_csv(f'{path}/{exp}.txt.summary',sep='\\t'))\n",
    "    \n",
    "    summary = pd.concat(summary_list)\n",
    "    summary['index'] = genesets\n",
    "    matrix  = pd.concat(matrix_list)\n",
    "    matrix['MOTIF'] = genesets\n",
    "\n",
    "    matrix.to_csv(f'{onePAGE}/{exp}.txt.matrix',sep='\\t',header=True,index=False)\n",
    "    summary.to_csv(f'{onePAGE}/{exp}.txt.summary',sep='\\t',header=True,index=False)\n",
    "    \n",
    "    return matrix\n"
   ]
  },
  {
   "cell_type": "code",
   "execution_count": null,
   "id": "2ab88611-fef2-46c2-a4ee-48844a1c36dc",
   "metadata": {},
   "outputs": [],
   "source": []
  },
  {
   "cell_type": "code",
   "execution_count": null,
   "id": "3748801e-c337-4057-88fb-84a857774026",
   "metadata": {},
   "outputs": [],
   "source": []
  },
  {
   "cell_type": "code",
   "execution_count": null,
   "id": "9bfa2d50-c964-4893-ba17-8312a93ac163",
   "metadata": {},
   "outputs": [],
   "source": []
  },
  {
   "cell_type": "code",
   "execution_count": 107,
   "id": "052861d0-10ca-49d9-9333-657d4df43fda",
   "metadata": {
    "tags": []
   },
   "outputs": [],
   "source": [
    "# RNA_seq_dir = 'DAC-rg3039/RNA-seq/exp'\n",
    "\n",
    "# geneset_name = 'GOBP_POSITIVE_REGULATION_OF_MYELOID_CELL_DIFFERENTIATION'\n",
    "\n",
    "# conditions = ['comb_vs_dmso','decitabine_vs_dmso','rg3039_vs_dmso']\n",
    "\n",
    "# for condition in conditions:\n",
    "#     pd.read_csv(\n",
    "#         f'{RNA_seq_dir}/res_{condition}_delta_exp.txt',sep='\\t'\n",
    "#     ).drop_duplicates('gene_name').to_csv(f'{RNA_seq_dir}/res_{condition}_delta_exp.c.txt',sep='\\t',index=False)\n",
    "\n",
    "        # !bash scripts/onePAGE.sh \\\n",
    "        #     {RNA_seq_dir} \\\n",
    "        #     res_{condition}_delta_exp.c.txt \\\n",
    "        #     geneset_{geneset_name} &> /dev/null"
   ]
  },
  {
   "cell_type": "code",
   "execution_count": 106,
   "id": "cdfe170c-3d47-4daa-a72d-4e2e7f4a4bb5",
   "metadata": {
    "tags": []
   },
   "outputs": [],
   "source": [
    "# pd.Series(list(set(up.query(\n",
    "#     data,\n",
    "#     present=['decitabine+rg3039_up','Macrophage_up','Monocyte_up','Neutrophil_up'],\n",
    "#     absent=['decitabine_up','rg3039_up']\n",
    "# ).data['id']))).to_csv('DAC-rg3039/RNA-seq/exp/geneset.txt',index=False,header=None)\n",
    "\n",
    "# pd.Series(list(set(up.query(\n",
    "#     data,\n",
    "#     present=['decitabine+rg3039_up','Macrophage_up','Monocyte_up','Neutrophil_up'],\n",
    "#     absent=['decitabine_up','rg3039_up']\n",
    "# ).data['id']))).to_list()"
   ]
  },
  {
   "cell_type": "markdown",
   "id": "fb9c5004-2d6d-4be9-8e88-a6d038a7258d",
   "metadata": {},
   "source": [
    "___"
   ]
  },
  {
   "cell_type": "code",
   "execution_count": 109,
   "id": "e69edb1a-f6a6-4343-ab4d-3ba87d125c5b",
   "metadata": {
    "tags": []
   },
   "outputs": [],
   "source": [
    "# for geneset_name,geneset in delta_exp_genes.items():\n",
    "#     pd.Series(list(set(geneset))).to_csv(\n",
    "#         f'DAC-rg3039/RNA-seq/exp/geneset_{geneset_name}.txt',index=False,header=None\n",
    "#     )\n",
    "\n",
    "#     for treatment in ['comb_vs_dmso','decitabine_vs_dmso','rg3039_vs_dmso']:\n",
    "#         pd.read_csv(\n",
    "#             f'DAC-rg3039/RNA-seq/exp/res_{treatment}_delta_exp.txt',sep='\\t'\n",
    "#         ).drop_duplicates('gene_name').to_csv(f'DAC-rg3039/RNA-seq/exp/res_{treatment}_delta_exp.c.txt',sep='\\t',index=False)\n",
    "\n",
    "#         !bash scripts/onePAGE.sh \\\n",
    "#             DAC-rg3039/RNA-seq/exp/ \\\n",
    "#             res_{treatment}_delta_exp.c.txt \\\n",
    "#             geneset_{geneset_name} &> /dev/null"
   ]
  },
  {
   "cell_type": "code",
   "execution_count": null,
   "id": "ec3aeaa2-fe4f-45ac-ad8f-49e89bc854c7",
   "metadata": {},
   "outputs": [],
   "source": []
  },
  {
   "cell_type": "code",
   "execution_count": null,
   "id": "ec265709-cc69-4ff0-97c4-5fb6c89323d3",
   "metadata": {},
   "outputs": [],
   "source": []
  },
  {
   "cell_type": "code",
   "execution_count": null,
   "id": "feae3347-bda4-4371-b605-f56ef11cbfdd",
   "metadata": {},
   "outputs": [],
   "source": []
  },
  {
   "cell_type": "code",
   "execution_count": null,
   "id": "e6779a16-1f20-48cd-8441-31850997c791",
   "metadata": {},
   "outputs": [],
   "source": []
  },
  {
   "cell_type": "code",
   "execution_count": null,
   "id": "a0af3951-1fba-4a50-84f6-bb166cadddf7",
   "metadata": {},
   "outputs": [],
   "source": []
  },
  {
   "cell_type": "code",
   "execution_count": null,
   "id": "c2a06230-0be8-4765-b2eb-932d947d5d19",
   "metadata": {},
   "outputs": [],
   "source": []
  },
  {
   "cell_type": "code",
   "execution_count": null,
   "id": "eae0bad2-39eb-45d9-a470-3801197c6d5b",
   "metadata": {},
   "outputs": [],
   "source": []
  },
  {
   "cell_type": "code",
   "execution_count": 292,
   "id": "d5d8f44d-4158-4002-b0f4-f9c3eb876672",
   "metadata": {
    "tags": []
   },
   "outputs": [],
   "source": []
  },
  {
   "cell_type": "code",
   "execution_count": null,
   "id": "6806a69f-aa92-480b-bee8-e61379a25de8",
   "metadata": {},
   "outputs": [],
   "source": []
  },
  {
   "cell_type": "code",
   "execution_count": null,
   "id": "9ca91ebf-e086-4000-a913-46564f23d561",
   "metadata": {},
   "outputs": [],
   "source": []
  },
  {
   "cell_type": "code",
   "execution_count": 187,
   "id": "b7a025a2-85e0-4d1f-9519-7fa68dacbe6a",
   "metadata": {},
   "outputs": [],
   "source": [
    "# data = from_contents({k:v for (k,v) in delta_exp_genes.items() if 'down' in k})\n",
    "# data[data.reset_index().set_index('id')[\n",
    "#     ['Macrophage_down','Monocyte_down','Neutrophil_down','decitabine+rg3039_down']\n",
    "# ].all(axis=1).to_list()]['id'].to_list()"
   ]
  },
  {
   "cell_type": "code",
   "execution_count": null,
   "id": "6532b622-44c6-4e16-808c-48d777ef3bae",
   "metadata": {},
   "outputs": [],
   "source": []
  },
  {
   "cell_type": "code",
   "execution_count": null,
   "id": "c8012658-9323-4399-890f-7173b4d7058a",
   "metadata": {},
   "outputs": [],
   "source": []
  },
  {
   "cell_type": "code",
   "execution_count": null,
   "id": "5f220b67-ff7f-4eb1-aac1-4acb9f2091fa",
   "metadata": {},
   "outputs": [],
   "source": []
  },
  {
   "cell_type": "code",
   "execution_count": 499,
   "id": "8d841e15-c973-49f8-8576-fa0a332210ec",
   "metadata": {
    "tags": []
   },
   "outputs": [],
   "source": [
    "# cnt = pd.read_csv('GSE79044_RNAseq/exp/deseq2_raw_counts.txt',sep='\\t')\n",
    "\n",
    "# meta = pd.read_csv(\"GSE79044_RNAseq/SraRunTable.txt\").set_index('Run').loc[\n",
    "#     :,['source_name','Time']\n",
    "# ].loc[cnt.columns[2:].to_list()]\n",
    "\n",
    "# # cnt = pd.concat(dict([\n",
    "# #     (\n",
    "# #         os.path.basename(file).split('_')[0],\n",
    "# #         pd.read_csv(file,sep='\\t').set_index('gene_id').iloc[:,0]\n",
    "# #     )\n",
    "# #     for file in glob('GSE79044_RNAseq/processed/*')\n",
    "# # ]),axis=1)\n",
    "# # cnt.index.name = None\n",
    "\n",
    "\n",
    "\n",
    "# adata = ad.AnnData(\n",
    "#     X=cnt.set_index(['gene_id']).drop(columns='gene_name').T,\n",
    "#     obs=meta,\n",
    "#     var=cnt.set_index(['gene_id'])[['gene_name']]\n",
    "# )\n",
    "\n",
    "# cnt_DAC_rg3039 = pd.read_csv(\n",
    "#     'DAC-rg3039/RNA-seq/deseq2_raw_counts.txt',\n",
    "#     sep='\\t'\n",
    "# ).set_index('gene_id')\n",
    "\n",
    "# ann = cnt_DAC_rg3039[['gene_name']]\n",
    "# cnt_DAC_rg3039 = cnt_DAC_rg3039.drop(columns='gene_name')\n",
    "\n",
    "# ol = list(\n",
    "#     set(cnt_DAC_rg3039.index) & set(adata.var.index)\n",
    "# )\n",
    "\n",
    "# bdata = ad.AnnData(\n",
    "#     X=cnt_DAC_rg3039.T,\n",
    "#     # obs=\n",
    "#     var=ann\n",
    "# )\n",
    "\n",
    "# from venn import venn\n",
    "\n",
    "# venn(\n",
    "#     {\n",
    "#         'Ramirez_et_al':set(adata.var.index),\n",
    "#         'bioRxiv':set(cnt_DAC_rg3039.index)\n",
    "#     }\n",
    "# )\n",
    "\n",
    "# mdata = ad.concat([adata, bdata])\n",
    "# sc.pp.filter_genes(mdata,min_counts=50)\n",
    "\n",
    "# mdata.X = np.log1p(deseq2_norm(mdata.X)[0])\n",
    "\n",
    "# mdata.shape"
   ]
  },
  {
   "cell_type": "code",
   "execution_count": 500,
   "id": "a309bc53-9392-44d3-94b0-daf855116145",
   "metadata": {
    "tags": []
   },
   "outputs": [],
   "source": [
    "# adata_filt = adata[adata.obs.query('Time in [\"0 hr\",\"120 hr\"]').index].copy()\n",
    "\n",
    "# sc.pp.pca(adata_filt)\n",
    "# sc.pp.neighbors(adata_filt)"
   ]
  },
  {
   "cell_type": "code",
   "execution_count": 175,
   "id": "ed2a3b66-2b5c-447f-bb8f-9fb9cb6046a9",
   "metadata": {
    "tags": []
   },
   "outputs": [],
   "source": [
    "# sc.tl.umap(adata_filt,alpha=.9)\n",
    "# # sc.tl.leiden(mdata)\n",
    "\n",
    "# sc.pl.pca(adata_filt,size=100,color='source_name')\n",
    "# sc.pl.pca(adata_filt,size=100,color='Time')"
   ]
  },
  {
   "cell_type": "code",
   "execution_count": null,
   "id": "5d6419a8-2e24-4cfc-92e6-ec41d4cfc3a2",
   "metadata": {},
   "outputs": [],
   "source": []
  },
  {
   "cell_type": "code",
   "execution_count": null,
   "id": "5449a154-b385-41c5-b0cb-f491a1f020a7",
   "metadata": {},
   "outputs": [],
   "source": []
  },
  {
   "cell_type": "code",
   "execution_count": 134,
   "id": "07f7e1ab-1bc8-4e57-8bd4-867701290ba7",
   "metadata": {},
   "outputs": [],
   "source": [
    "mdata.obs['source'] = ''\n",
    "\n",
    "mdata.obs.loc[mdata.obs.index.str.contains('SRR'),'source'] = 'Ramirez_et_al'\n",
    "mdata.obs.loc[~mdata.obs.index.str.contains('SRR'),'source'] = 'bioRxiv'"
   ]
  },
  {
   "cell_type": "code",
   "execution_count": 135,
   "id": "38e6d603-b69a-41fb-8a7c-38d57dce5984",
   "metadata": {
    "tags": []
   },
   "outputs": [],
   "source": [
    "sc.pp.pca(mdata)\n",
    "sc.pp.neighbors(mdata)"
   ]
  },
  {
   "cell_type": "code",
   "execution_count": 136,
   "id": "24c45144-8cd2-4896-bbc8-04b9695f0635",
   "metadata": {
    "tags": []
   },
   "outputs": [
    {
     "name": "stderr",
     "output_type": "stream",
     "text": [
      "/data_gilbert/home/aarab/anaconda3/envs/mamba/envs/pydeseq2/lib/python3.8/site-packages/scanpy/plotting/_tools/scatterplots.py:392: UserWarning: No data for colormapping provided via 'c'. Parameters 'cmap' will be ignored\n",
      "  cax = scatter(\n"
     ]
    },
    {
     "data": {
      "image/png": "[encoded data removed]",
      "text/plain": [
       "<Figure size 640x480 with 1 Axes>"
      ]
     },
     "metadata": {},
     "output_type": "display_data"
    }
   ],
   "source": [
    "sc.tl.umap(mdata,alpha=.9)\n",
    "# sc.tl.leiden(mdata)\n",
    "\n",
    "sc.pl.umap(mdata,size=100,color='source')"
   ]
  },
  {
   "cell_type": "code",
   "execution_count": 137,
   "id": "a1b571f8-8ddd-492d-9241-d4705ae418ab",
   "metadata": {
    "tags": []
   },
   "outputs": [
    {
     "name": "stderr",
     "output_type": "stream",
     "text": [
      "/data_gilbert/home/aarab/anaconda3/envs/mamba/envs/pydeseq2/lib/python3.8/site-packages/scanpy/plotting/_tools/scatterplots.py:392: UserWarning: No data for colormapping provided via 'c'. Parameters 'cmap' will be ignored\n",
      "  cax = scatter(\n"
     ]
    },
    {
     "data": {
      "image/png": "[encoded data removed]",
      "text/plain": [
       "<Figure size 640x480 with 1 Axes>"
      ]
     },
     "metadata": {},
     "output_type": "display_data"
    }
   ],
   "source": [
    "sc.pl.pca(mdata,size=100,color='source')"
   ]
  },
  {
   "cell_type": "code",
   "execution_count": null,
   "id": "5cee8594-c41b-4032-84f7-1a3b7741659e",
   "metadata": {},
   "outputs": [],
   "source": []
  },
  {
   "cell_type": "code",
   "execution_count": null,
   "id": "a3c38f15-82d1-4a69-865d-fae6a8b0604b",
   "metadata": {},
   "outputs": [],
   "source": []
  },
  {
   "cell_type": "code",
   "execution_count": null,
   "id": "37510e1b-07e9-4d42-9fa7-225b6e688d01",
   "metadata": {},
   "outputs": [],
   "source": []
  },
  {
   "cell_type": "code",
   "execution_count": null,
   "id": "07ddeafb-97d0-4e75-b23c-5225f4169f8c",
   "metadata": {},
   "outputs": [],
   "source": []
  },
  {
   "cell_type": "code",
   "execution_count": null,
   "id": "4bdd3d33-e619-4038-b5a4-07b198348d6f",
   "metadata": {},
   "outputs": [],
   "source": []
  },
  {
   "cell_type": "code",
   "execution_count": null,
   "id": "4133fa9c-1340-40fe-ba0a-3d96f5f78ce9",
   "metadata": {},
   "outputs": [],
   "source": []
  },
  {
   "cell_type": "code",
   "execution_count": null,
   "id": "edd67658-298a-497b-abaf-965b60d7cad0",
   "metadata": {},
   "outputs": [],
   "source": []
  },
  {
   "cell_type": "code",
   "execution_count": null,
   "id": "25d774ae-dcee-4ddf-ba40-cd6165dc7141",
   "metadata": {},
   "outputs": [],
   "source": []
  },
  {
   "cell_type": "code",
   "execution_count": null,
   "id": "86514ea8-b1b0-47b9-b8a0-454c0e874969",
   "metadata": {},
   "outputs": [],
   "source": []
  },
  {
   "cell_type": "markdown",
   "id": "bf937f0f-5008-4b1e-8cd9-25937e45ec37",
   "metadata": {},
   "source": [
    "### "
   ]
  },
  {
   "cell_type": "code",
   "execution_count": 101,
   "id": "3e1799c3-b8ad-4faf-9c7a-b48b0b6f9641",
   "metadata": {
    "tags": []
   },
   "outputs": [],
   "source": [
    "adata = ad.AnnData(\n",
    "    X=counts.T\n",
    ")\n",
    "\n",
    "adata.obs = pd.DataFrame(adata.obs.index.str.split('_R').to_list(),columns=['group', 'replicate'],index=adata.obs.index)\n",
    "# adata.X = deseq2_norm(np.log1p(adata.X))[0]"
   ]
  },
  {
   "cell_type": "code",
   "execution_count": 102,
   "id": "031224f6-6740-47c8-8473-e1766c10fdd3",
   "metadata": {
    "tags": []
   },
   "outputs": [
    {
     "data": {
      "text/plain": [
       "AnnData object with n_obs × n_vars = 17 × 4570\n",
       "    obs: 'group', 'replicate'"
      ]
     },
     "execution_count": 102,
     "metadata": {},
     "output_type": "execute_result"
    }
   ],
   "source": [
    "adata"
   ]
  },
  {
   "cell_type": "code",
   "execution_count": 103,
   "id": "a82a7c4e-1277-4a9d-a4bd-b3de26c3df5a",
   "metadata": {
    "tags": []
   },
   "outputs": [],
   "source": [
    "sc.pp.pca(adata)\n",
    "sc.pp.neighbors(adata)"
   ]
  },
  {
   "cell_type": "code",
   "execution_count": 104,
   "id": "8a8731d8-0f67-401a-a471-27a61c8b225a",
   "metadata": {
    "tags": []
   },
   "outputs": [],
   "source": [
    "sc.tl.umap(adata)"
   ]
  },
  {
   "cell_type": "code",
   "execution_count": 105,
   "id": "cb8a8a28-e86c-4593-b2da-3568388d1807",
   "metadata": {
    "tags": []
   },
   "outputs": [],
   "source": [
    "sc.tl.leiden(adata)"
   ]
  },
  {
   "cell_type": "code",
   "execution_count": 106,
   "id": "e71ec6cc-a339-4e8e-bec8-a55a62f8fd9f",
   "metadata": {
    "tags": []
   },
   "outputs": [
    {
     "name": "stderr",
     "output_type": "stream",
     "text": [
      "/data_gilbert/home/aarab/anaconda3/envs/mamba/envs/screenpro2/lib/python3.9/site-packages/scanpy/plotting/_tools/scatterplots.py:392: UserWarning: No data for colormapping provided via 'c'. Parameters 'cmap' will be ignored\n",
      "  cax = scatter(\n"
     ]
    },
    {
     "data": {
      "image/png": "[encoded data removed]",
      "text/plain": [
       "<Figure size 640x480 with 1 Axes>"
      ]
     },
     "metadata": {},
     "output_type": "display_data"
    }
   ],
   "source": [
    "sc.pl.pca(adata,size=100,color='group')"
   ]
  },
  {
   "cell_type": "code",
   "execution_count": null,
   "id": "33b3ab43-0515-4ea1-8023-a65069c12805",
   "metadata": {},
   "outputs": [],
   "source": []
  },
  {
   "cell_type": "code",
   "execution_count": 71,
   "id": "3d71647f-3c86-4e8a-956c-25e6abfac6d9",
   "metadata": {
    "tags": []
   },
   "outputs": [
    {
     "name": "stderr",
     "output_type": "stream",
     "text": [
      "/data_gilbert/home/aarab/anaconda3/envs/mamba/envs/screenpro2/lib/python3.9/site-packages/scanpy/plotting/_tools/scatterplots.py:392: UserWarning: No data for colormapping provided via 'c'. Parameters 'cmap' will be ignored\n",
      "  cax = scatter(\n"
     ]
    },
    {
     "data": {
      "image/png": "[encoded data removed]",
      "text/plain": [
       "<Figure size 640x480 with 1 Axes>"
      ]
     },
     "metadata": {},
     "output_type": "display_data"
    }
   ],
   "source": [
    "sc.pl.umap(adata,size=100,color='leiden')"
   ]
  },
  {
   "cell_type": "code",
   "execution_count": null,
   "id": "699a770b-b00d-4c3f-88f1-d84801985a7a",
   "metadata": {},
   "outputs": [],
   "source": []
  },
  {
   "cell_type": "code",
   "execution_count": null,
   "id": "b70996da-0072-4695-9bee-8576ffebb9f2",
   "metadata": {
    "tags": []
   },
   "outputs": [],
   "source": []
  },
  {
   "cell_type": "markdown",
   "id": "19aa7275-11ea-42e3-90a0-397dabe714eb",
   "metadata": {
    "tags": []
   },
   "source": [
    "# "
   ]
  },
  {
   "cell_type": "code",
   "execution_count": null,
   "id": "7352f7ea",
   "metadata": {
    "tags": []
   },
   "outputs": [],
   "source": [
    "%load_ext watermark"
   ]
  },
  {
   "cell_type": "code",
   "execution_count": null,
   "id": "56ff40c3-8508-4280-9bb6-ed3a7b8ba00d",
   "metadata": {},
   "outputs": [
    {
     "name": "stdout",
     "output_type": "stream",
     "text": [
      "Last updated: 2024-02-20T00:18:56.720394-08:00\n",
      "\n",
      "Python implementation: CPython\n",
      "Python version       : 3.9.18\n",
      "IPython version      : 8.15.0\n",
      "\n",
      "Compiler    : GCC 12.3.0\n",
      "OS          : Linux\n",
      "Release     : 3.10.0-957.27.2.el7.x86_64\n",
      "Machine     : x86_64\n",
      "Processor   : x86_64\n",
      "CPU cores   : 64\n",
      "Architecture: 64bit\n",
      "\n"
     ]
    }
   ],
   "source": [
    "%watermark"
   ]
  },
  {
   "cell_type": "code",
   "execution_count": null,
   "id": "26360442-387e-4e3c-96dd-d77c51bd14bf",
   "metadata": {
    "tags": []
   },
   "outputs": [
    {
     "name": "stdout",
     "output_type": "stream",
     "text": [
      "matplotlib: 3.8.0\n",
      "sys       : 3.9.18 | packaged by conda-forge | (main, Aug 30 2023, 03:49:32) \n",
      "[GCC 12.3.0]\n",
      "numpy     : 1.26.0\n",
      "pandas    : 2.1.1\n",
      "seaborn   : 0.12.2\n",
      "\n"
     ]
    }
   ],
   "source": [
    "%watermark --iversions"
   ]
  }
 ],
 "metadata": {
  "kernelspec": {
   "display_name": "Python [conda env:screenpro2]",
   "language": "python",
   "name": "conda-env-screenpro2-py"
  },
  "language_info": {
   "codemirror_mode": {
    "name": "ipython",
    "version": 3
   },
   "file_extension": ".py",
   "mimetype": "text/x-python",
   "name": "python",
   "nbconvert_exporter": "python",
   "pygments_lexer": "ipython3",
   "version": "3.9.18"
  }
 },
 "nbformat": 4,
 "nbformat_minor": 5
}
