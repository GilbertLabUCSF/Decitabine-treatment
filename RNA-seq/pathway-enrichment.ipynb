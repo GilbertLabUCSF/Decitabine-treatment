{
 "cells": [
  {
   "cell_type": "markdown",
   "metadata": {},
   "source": [
    "__Aim:__ Consistency analysis across cell lines using pathway enrichment results to find commonly up/down regulated pathways and their genes. \n",
    "\n",
    "___\n",
    "- https://github.com/abearab/ipage-msigdb\n",
    "- https://github.com/tanghaibao/goatools\n",
    "- https://gseapy.readthedocs.io/en/latest/index.html"
   ]
  },
  {
   "cell_type": "markdown",
   "metadata": {},
   "source": [
    "Hani: _\"You must redo iPAGE with `--independence=0` option for comparing results between multiple smaples.\"_"
   ]
  },
  {
   "cell_type": "code",
   "execution_count": 1,
   "metadata": {},
   "outputs": [],
   "source": [
    "import re\n",
    "import sys\n",
    "import pandas as pd \n",
    "import numpy as np\n",
    "import matplotlib.pyplot as plt\n",
    "from time import time \n",
    "from glob import glob\n",
    "from matplotlib.pyplot import subplots\n",
    "from itertools import chain\n",
    "from functools import reduce\n",
    "from venn import venn\n",
    "\n",
    "# sys.path.append('/rumi/shams/abe/Projects/ipage-down/')\n",
    "sys.path.append('/data_gilbert/home/aarab/Projects/ipage-msigdb/')\n",
    "\n",
    "import upsetplot as us\n",
    "import ipage_down as ipd\n",
    "from matplotlib.backends.backend_pdf import PdfPages"
   ]
  },
  {
   "cell_type": "code",
   "execution_count": 2,
   "metadata": {},
   "outputs": [],
   "source": [
    "from IPython.display import IFrame"
   ]
  },
  {
   "cell_type": "code",
   "execution_count": 3,
   "metadata": {},
   "outputs": [],
   "source": [
    "dictfilt = lambda x, y: dict([ (i,x[i]) for i in x if i in set(y) ])"
   ]
  },
  {
   "cell_type": "code",
   "execution_count": 1,
   "metadata": {
    "collapsed": true,
    "jupyter": {
     "outputs_hidden": true
    },
    "tags": []
   },
   "outputs": [
    {
     "name": "stdout",
     "output_type": "stream",
     "text": [
      "## $1: input file contain table with first two columns as gene name/id and numeric value\n",
      "pattern='msigdb*'\n",
      "# pattern='human_*_gs*'\n",
      "\n",
      "expfile=`basename $1`\n",
      "outdir=${1/.txt/};\n",
      "\n",
      "mkdir -p $outdir\n",
      "cd $outdir; cd ../\n",
      "\n",
      "for f in `ls -d $PAGEDIR/PAGE_DATA/ANNOTATIONS/${pattern}`; do\n",
      "\n",
      "    base=`basename \"$f\"`;\n",
      "    echo '________________' $base '________________';\n",
      "\n",
      "    if [ -d \"${outdir}/${base}/\" ]; \n",
      "    then\n",
      "        echo 'This result exist!';\n",
      "    else\n",
      "        # Run iPAGE \n",
      "        perl $PAGEDIR/page.pl --expfile=$expfile --species=$base --exptype=continuous --ebins=11 --nodups=1 --independence=0; \n",
      "        # --independence=0; option for comparing results between multiple smaples.\n",
      "        wait\n",
      "\n",
      "        mv -v ${expfile}_PAGE/ ${outdir}/${base}/;\n",
      "\n",
      "        # remove the result folder if it was empty\n",
      "        counter=\"$(wc -l < ${outdir}/${base}/pvmatrix.txt)\"\n",
      "        if [ $counter -le \"$(echo '1')\" ] || [ -z $counter ]\n",
      "        then\n",
      "            rm -r ${outdir}/${base}/\n",
      "        else\n",
      "            # keep complete results \n",
      "            pv=${outdir}/${base}/pvmatrix.txt;\n",
      "            pv0=${pv/.txt/.all.txt}; pvL=${pv/.txt/.L.txt}; pvR=${pv/.txt/.R.txt};\n",
      "\n",
      "            # subset pathways with p-value > 2 in the first (Left) or last (Right) cluster\n",
      "            mv -v $pv $pv0;\n",
      "            cat $pv0 | awk -F'\\t' 'BEGIN{FS=OFS=\"\\t\"}; $2>2 {print $0}' > $pvL;\n",
      "            cat $pv0 | awk -F'\\t' 'BEGIN{FS=OFS=\"\\t\"}; $12>2 {print $0}' > $pvR;\n",
      "\n",
      "            for sum in `ls ${outdir}/${base}/*.summary*`; do \n",
      "                sum0=${sum/summary/all};\n",
      "                mv -v $sum $sum0;\n",
      "            done\n",
      "            wait\n",
      "\n",
      "            # draw sided heatmaps     \n",
      "            declare -a Sides=('L' 'R');\n",
      "\n",
      "            for side in \"${Sides[@]}\"; do\n",
      "\n",
      "                # include if pv matrix contain any values \n",
      "                counter=\"$(wc -l < ${outdir}/${base}/pvmatrix.${side}.txt)\"\n",
      "                if [ $counter -le \"$(echo '1')\" ] || [ -z $counter ]\n",
      "                then \n",
      "                    echo '_____...________' $base $side '-> No signal!';    \n",
      "                else \n",
      "                    echo '_____...________' $base $side '...';\n",
      "                    mkdir -p ${expfile}_PAGE;\n",
      "                    perl $PAGEDIR/SCRIPTS/mi_go_draw_matrix.pl  \\\n",
      "                    --pvaluematrixfile=${outdir}/${base}/pvmatrix.${side}.txt \\\n",
      "                    --expfile=$expfile \\\n",
      "                    --order=1 --draw_sample_heatmap=false \\\n",
      "                    --min=-3 --max=3 \\\n",
      "                    --cluster=5 --quantized=0;\n",
      "                    wait\n",
      "                    for sum in `ls ${expfile}_PAGE/*.summary*.pdf`; do \n",
      "                        mv -v ${sum} ${outdir}/${base}.${side}.pdf\n",
      "                    done\n",
      "                    rm -vr ${expfile}_PAGE;\n",
      "                fi;\n",
      "\n",
      "            done\n",
      "            \n",
      "            mv -v $pv0 $pv\n",
      "            \n",
      "        fi;\n",
      "        \n",
      "    fi\n",
      "\n",
      "done\n"
     ]
    }
   ],
   "source": [
    "cat ../ipage_loop.sh"
   ]
  },
  {
   "cell_type": "code",
   "execution_count": null,
   "metadata": {
    "tags": []
   },
   "outputs": [],
   "source": [
    "# %%bash\n",
    "# echo '<h1>'Enrichment analysis'<h1>' >> README.md\n",
    "\n",
    "# declare -a Comp=('6h' '72h' '120h')\n",
    "\n",
    "# for f in `ls -d /flash/bin/iPAGEv1.0/PAGE_DATA/ANNOTATIONS/human_ensembl*`; do\n",
    "#     base=`basename \"$f\"`\n",
    "#     echo '<table>' >> README.md\n",
    "#     echo '  <tr>' >> README.md\n",
    "#     echo '  <h2>'$base'<h2>' >> README.md\n",
    "#     for C in \"${Comp[@]}\"; do\n",
    "#         echo '    <td><img src='${C}'_delta_exp/'${base}'.all.png style=\"width:600px\">' >> README.md\n",
    "#     done\n",
    "#     echo '  <tr>' >> README.md\n",
    "#     echo '<table>' >> README.md\n",
    "# done"
   ]
  },
  {
   "cell_type": "markdown",
   "metadata": {
    "tags": []
   },
   "source": [
    "## $\\Delta$Expression"
   ]
  },
  {
   "cell_type": "markdown",
   "metadata": {
    "jp-MarkdownHeadingCollapsed": true,
    "tags": []
   },
   "source": [
    "#### `ind0`"
   ]
  },
  {
   "cell_type": "code",
   "execution_count": null,
   "metadata": {
    "tags": []
   },
   "outputs": [],
   "source": [
    "%%bash\n",
    "export PAGEDIR='/data_gilbert/home/aarab/iPAGE'\n",
    "\n",
    "cd exp/\n",
    "ls *_delta_exp.txt | parallel -j18 -k bash ../../ipage_loop.sh\n",
    "cd ../"
   ]
  },
  {
   "cell_type": "code",
   "execution_count": 20,
   "metadata": {
    "tags": []
   },
   "outputs": [],
   "source": [
    "!rm -r exp/*delta_exp/*/*.html exp/*delta_exp/*/*.eps exp/*delta_exp/*/imgsrc exp/*delta_exp/*/SUMMARY"
   ]
  },
  {
   "cell_type": "code",
   "execution_count": 29,
   "metadata": {},
   "outputs": [
    {
     "name": "stdout",
     "output_type": "stream",
     "text": [
      "‘exp/hl60_120h_delta_exp/’ -> ‘exp/hl60_120h_delta_exp_ind0/’\n",
      "‘exp/hl60_6h_delta_exp/’ -> ‘exp/hl60_6h_delta_exp_ind0/’\n",
      "‘exp/hl60_72h_delta_exp/’ -> ‘exp/hl60_72h_delta_exp_ind0/’\n",
      "‘exp/hl60_72h_only_delta_exp/’ -> ‘exp/hl60_72h_only_delta_exp_ind0/’\n",
      "‘exp/kg1_delta_exp/’ -> ‘exp/kg1_delta_exp_ind0/’\n",
      "‘exp/molm14_delta_exp/’ -> ‘exp/molm14_delta_exp_ind0/’\n",
      "‘exp/ociaml2_delta_exp/’ -> ‘exp/ociaml2_delta_exp_ind0/’\n",
      "‘exp/ociaml3_delta_exp/’ -> ‘exp/ociaml3_delta_exp_ind0/’\n",
      "‘exp/thp1_delta_exp/’ -> ‘exp/thp1_delta_exp_ind0/’\n"
     ]
    }
   ],
   "source": [
    "%%bash \n",
    "for f in  exp/*delta_exp/; do o=${f/delta_exp/delta_exp_ind0}; mv -v $f $o; done "
   ]
  },
  {
   "cell_type": "markdown",
   "metadata": {
    "jp-MarkdownHeadingCollapsed": true,
    "tags": []
   },
   "source": [
    "#### `ind1`"
   ]
  },
  {
   "cell_type": "code",
   "execution_count": null,
   "metadata": {
    "tags": []
   },
   "outputs": [],
   "source": [
    "%%bash\n",
    "export PAGEDIR='/data_gilbert/home/aarab/iPAGE'\n",
    "\n",
    "cd exp/\n",
    "ls *_delta_exp.txt | parallel -j18 -k bash ../../ipage_loop.sh\n",
    "cd ../"
   ]
  },
  {
   "cell_type": "code",
   "execution_count": 77,
   "metadata": {},
   "outputs": [
    {
     "name": "stdout",
     "output_type": "stream",
     "text": [
      "‘exp/hl60_120h_delta_exp/’ -> ‘exp/hl60_120h_delta_exp_ind1/’\n",
      "‘exp/hl60_6h_delta_exp/’ -> ‘exp/hl60_6h_delta_exp_ind1/’\n",
      "‘exp/hl60_72h_delta_exp/’ -> ‘exp/hl60_72h_delta_exp_ind1/’\n",
      "‘exp/hl60_72h_only_delta_exp/’ -> ‘exp/hl60_72h_only_delta_exp_ind1/’\n",
      "‘exp/kg1_delta_exp/’ -> ‘exp/kg1_delta_exp_ind1/’\n",
      "‘exp/molm14_delta_exp/’ -> ‘exp/molm14_delta_exp_ind1/’\n",
      "‘exp/ociaml2_delta_exp/’ -> ‘exp/ociaml2_delta_exp_ind1/’\n",
      "‘exp/ociaml3_delta_exp/’ -> ‘exp/ociaml3_delta_exp_ind1/’\n",
      "‘exp/thp1_delta_exp/’ -> ‘exp/thp1_delta_exp_ind1/’\n"
     ]
    }
   ],
   "source": [
    "%%bash \n",
    "for f in  exp/*_delta_exp/; do o=${f/_delta_exp/_delta_exp_ind1}; mv -v $f $o; done "
   ]
  },
  {
   "cell_type": "markdown",
   "metadata": {
    "tags": []
   },
   "source": [
    "### Remake from pvmatrix (correct bin clusters)"
   ]
  },
  {
   "cell_type": "code",
   "execution_count": 83,
   "metadata": {},
   "outputs": [],
   "source": [
    "# ls -d exp/*_ind1/*"
   ]
  },
  {
   "cell_type": "code",
   "execution_count": 25,
   "metadata": {},
   "outputs": [],
   "source": [
    "hl60_pws = {}"
   ]
  },
  {
   "cell_type": "code",
   "execution_count": 4,
   "metadata": {},
   "outputs": [],
   "source": [
    "def read_ipage_intersections_file(gs_cluster_path,clust,gs=None):\n",
    "    with open(f'{gs_cluster_path}/output.ipage_intersections') as raw:\n",
    "        lines = [line for line in raw.read().splitlines()]\n",
    "        if gs: \n",
    "            lines = [line.split('\\t') for line in lines if re.search(gs, line)]\n",
    "        else:\n",
    "            lines = [line.split('\\t') for line in lines]\n",
    "\n",
    "    #     left  = dict([(line[0].split(' ')[0],line[2:]) for line in lines if line[1] == '0' ])\n",
    "    #     right = dict([(line[0].split(' ')[0],line[2:]) for line in lines if line[1] == '10'])\n",
    "    # return left,right\n",
    "    return dict([(line[0].split(' ')[0],line[2:]) for line in lines if line[1] == clust ])\n",
    "\n",
    "\n",
    "def merge_multiple_pvmat(pvmat_list):\n",
    "    df = ipd.clean_bins_range(\n",
    "        ipd.read_pvmatrix(pvmat_list[0])\n",
    "    )\n",
    "\n",
    "    cols = df.columns\n",
    "\n",
    "    df = pd.concat(\n",
    "        [df] + [\n",
    "            ipd.read_pvmatrix(pvmat).set_axis(cols, axis=1, inplace=False) \n",
    "            for pvmat in pvmat_list[1:]\n",
    "        ]\n",
    "    )\n",
    "\n",
    "    df = df.groupby(df.index).first()\n",
    "    # ipd.style_clean_pvmatrix(df.iloc[:,[0,10]])    \n",
    "    return df"
   ]
  },
  {
   "cell_type": "code",
   "execution_count": 5,
   "metadata": {},
   "outputs": [],
   "source": [
    "def pvmat2bio_signal(pvmat,side,n_clust=2):\n",
    "    if side == 'up':\n",
    "        out = pvmat.loc[\n",
    "            (pd.DataFrame(pvmat.iloc  [:,-n_clust:]  > 2).all(axis=1)) & \n",
    "            (pd.DataFrame(pvmat.iloc  [:,:-n_clust]  < 2).all(axis=1))\n",
    "            ,:\n",
    "        ].sort_values(by=pvmat.columns[-n_clust:].to_list()[::-1],ascending=False,axis=0)\n",
    "    elif side == 'both':\n",
    "        out = pvmat.loc[\n",
    "            (pd.DataFrame(pvmat.iloc  [:,:n_clust]  > 2).all(axis=1)) & \n",
    "            (pd.DataFrame(pvmat.iloc  [:,-n_clust:]  > 2).all(axis=1)) & \n",
    "            (pd.DataFrame(pvmat.iloc  [:,n_clust+1:-n_clust]  < 2).all(axis=1))\n",
    "            ,:\n",
    "        ].sort_values(\n",
    "            by=pvmat.columns[-n_clust:].to_list()[::-1] + pvmat.columns[:n_clust].to_list(),\n",
    "            ascending=False,axis=0\n",
    "        )\n",
    "    elif side == 'down':\n",
    "        out = pvmat.loc[\n",
    "            (pd.DataFrame(pvmat.iloc  [:,:n_clust]  > 2).all(axis=1)) & \n",
    "            (pd.DataFrame(pvmat.iloc  [:,n_clust+1:]  < 2).all(axis=1))\n",
    "            ,:\n",
    "        ].sort_values(by=pvmat.columns[:n_clust].to_list(),ascending=False,axis=0)\n",
    "    return out"
   ]
  },
  {
   "cell_type": "code",
   "execution_count": 6,
   "metadata": {},
   "outputs": [],
   "source": [
    "def detect_gs_cluster(pvmat_list, gs):\n",
    "    return [\n",
    "        pvmat for pvmat in pvmat_list\n",
    "        if gs in ipd.read_pvmatrix(pvmat).index.to_list()\n",
    "        \n",
    "    ]"
   ]
  },
  {
   "cell_type": "markdown",
   "metadata": {
    "tags": []
   },
   "source": [
    "### HL-60 time series"
   ]
  },
  {
   "cell_type": "code",
   "execution_count": 8,
   "metadata": {},
   "outputs": [],
   "source": [
    "# hl60_pws ['120h'] = merge_multiple_pvmat(\n",
    "#     pvmat_list = glob('exp/hl60_120h_delta_exp_ind0/*c5*/pvmatrix.[L-R].txt')\n",
    "# )"
   ]
  },
  {
   "cell_type": "markdown",
   "metadata": {
    "tags": []
   },
   "source": [
    "#### hl60 6h delta_exp"
   ]
  },
  {
   "cell_type": "code",
   "execution_count": 14,
   "metadata": {
    "tags": []
   },
   "outputs": [
    {
     "name": "stdout",
     "output_type": "stream",
     "text": [
      "Reading matrix ... Done.\n",
      "Cluster rows .. best merge is 4, 5, 0.03421678870196\n",
      "best merge is 3, 4, 0.129338216213538\n",
      "order classes\n",
      "2 - 0.05132518305294\n",
      "4 5\n",
      "1\n",
      "2\n",
      "3\n",
      "0\n",
      "Done.Start drawing\n",
      "0.98\t-0.71\n",
      "GOBP_CHLORIDE_TRANSPORT, \n",
      "GOBP_PERIPHERAL_NERVOUS_SYSTEM_DEVELOPMENT, \n",
      "GOBP_AMINOGLYCAN_METABOLIC_PROCESS, \n",
      "GOCC_INTRINSIC_COMPONENT_OF_POSTSYNAPTIC_MEMBRANE, \n",
      "GOBP_DIGESTIVE_SYSTEM_DEVELOPMENT, \n",
      "GOBP_TRANSMISSION_OF_NERVE_IMPULSE, \n",
      "Outputing EPS file exp/hl60_6h_delta_exp.txt_PAGE/hl60_6h_delta_exp.txt.summary.eps\n",
      "Convert to PDF exp/hl60_6h_delta_exp.txt_PAGE/hl60_6h_delta_exp.txt.summary.pdf\n",
      "Finished.\n",
      "‘exp/hl60_6h_delta_exp.txt_PAGE/hl60_6h_delta_exp.txt.summary.pdf’ -> ‘exp/hl60_6h_delta_exp.pdf’\n",
      "removed ‘exp/hl60_6h_delta_exp.txt_PAGE/hl60_6h_delta_exp.txt.summary.eps’\n",
      "removed directory: ‘exp/hl60_6h_delta_exp.txt_PAGE’\n"
     ]
    }
   ],
   "source": [
    "study = 'hl60_6h_delta_exp'\n",
    "\n",
    "pvmat = merge_multiple_pvmat(\n",
    "    pvmat_list = glob(f'exp/{study}_ind1/*c5.go*/pvmatrix.txt') + glob(f'exp/{study}_ind1/*c2.cp.kegg*/pvmatrix.txt')\n",
    ")\n",
    "\n",
    "bio_signal = pd.concat([\n",
    "    pvmat2bio_signal(pvmat,side='down',n_clust=2),\n",
    "    # pvmat2bio_signal(pvmat,side='down',n_clust=1),\n",
    "    # pvmat2bio_signal(pvmat,side='up',n_clust=1),\n",
    "    pvmat2bio_signal(pvmat,side='up',n_clust=2),\n",
    "    # pvmat2bio_signal(pvmat,side='both'),\n",
    "],axis=0)\n",
    "\n",
    "bio_signal = bio_signal[~bio_signal.index.duplicated()]\n",
    "\n",
    "bio_signal.to_csv(f'exp/{study}_pvmatrix.txt',sep='\\t')\n",
    "\n",
    "exp_file = f'exp/{study}.txt'\n",
    "pvmat_file = f'exp/{study}_pvmatrix.txt'\n",
    "\n",
    "!bash ../ipage_draw_matrix.sh $exp_file $pvmat_file\n",
    "!rm $pvmat_file"
   ]
  },
  {
   "cell_type": "code",
   "execution_count": 15,
   "metadata": {},
   "outputs": [
    {
     "data": {
      "text/html": [
       "\n",
       "        <iframe\n",
       "            width=\"800\"\n",
       "            height=\"600\"\n",
       "            src=\"exp/hl60_6h_delta_exp.pdf\"\n",
       "            frameborder=\"0\"\n",
       "            allowfullscreen\n",
       "        ></iframe>\n",
       "        "
      ],
      "text/plain": [
       "<IPython.lib.display.IFrame at 0x7f7232628ef0>"
      ]
     },
     "execution_count": 15,
     "metadata": {},
     "output_type": "execute_result"
    }
   ],
   "source": [
    "pdf = 'exp/hl60_6h_delta_exp.pdf'\n",
    "IFrame(pdf, width=800, height=600)"
   ]
  },
  {
   "cell_type": "code",
   "execution_count": 160,
   "metadata": {},
   "outputs": [],
   "source": [
    "# gs_cluster_path = ipd.detect_gs_cluster(pvmat_list, gs=gs)\n",
    "\n",
    "# print ([p.split('/')[1:3] for p in gs_cluster_path])\n",
    "\n",
    "# gs_cluster_path = gs_cluster_path[1].split('pvmatrix.R.txt')[0]\n",
    "# print ('Down')\n",
    "# print (ipd.bin_identifier_genes(gs_cluster_path, '0', gs=gs))\n",
    "# print ('Up')\n",
    "# print (ipd.bin_identifier_genes(gs_cluster_path, '9', gs=gs))\n",
    "# print (ipd.bin_identifier_genes(gs_cluster_path, '10', gs=gs))"
   ]
  },
  {
   "cell_type": "code",
   "execution_count": null,
   "metadata": {},
   "outputs": [],
   "source": []
  },
  {
   "cell_type": "code",
   "execution_count": null,
   "metadata": {},
   "outputs": [],
   "source": []
  },
  {
   "cell_type": "markdown",
   "metadata": {
    "tags": []
   },
   "source": [
    "#### hl60 72h delta_exp"
   ]
  },
  {
   "cell_type": "code",
   "execution_count": 20,
   "metadata": {
    "tags": []
   },
   "outputs": [
    {
     "name": "stdout",
     "output_type": "stream",
     "text": [
      "Reading matrix ... Done.\n",
      "Cluster rows .. best merge is 2, 4, 0.0154495366743223\n",
      "best merge is 5, 6, 0.0291317802345272\n",
      "best merge is 0, 2, 0.0406459171529002\n",
      "best merge is 3, 5, 0.0585007151386386\n",
      "best merge is 0, 1, 0.0646233525096261\n",
      "best merge is 0, 3, 0.0984190971370287\n",
      "best merge is 8, 10, 0.116982389929845\n",
      "best merge is 8, 11, 0.164764752624878\n",
      "order classes\n",
      "7 - 0.113197000909515\n",
      "2 - 0.350947169789534\n",
      "0 2 4 1 3 5 6\n",
      "7\n",
      "8 10\n",
      "9\n",
      "11\n",
      "Done.Start drawing\n",
      "2.03\t-1.17\n",
      "GOBP_PIRNA_METABOLIC_PROCESS, \n",
      "GOBP_INTERLEUKIN_4_PRODUCTION, \n",
      "GOBP_ACTIN_FILAMENT_BASED_MOVEMENT, \n",
      "GOBP_HOMOPHILIC_CELL_ADHESION_VIA_PLASMA_MEMBRANE_ADHESION_MOLECULES, \n",
      "GOBP_MITOCHONDRIAL_TRANSLATION, \n",
      "GOBP_TRNA_PROCESSING, \n",
      "GOMF_CATALYTIC_ACTIVITY_ACTING_ON_A_TRNA, \n",
      "GOMF_STRUCTURAL_CONSTITUENT_OF_RIBOSOME, \n",
      "GOBP_MITOCHONDRIAL_RESPIRATORY_CHAIN_COMPLEX_ASSEMBLY, \n",
      "GOCC_INNER_MITOCHONDRIAL_MEMBRANE_PROTEIN_COMPLEX, \n",
      "GOBP_ALPHA_AMINO_ACID_METABOLIC_PROCESS, \n",
      "KEGG_ARGININE_AND_PROLINE_METABOLISM, \n",
      "Outputing EPS file exp/hl60_72h_delta_exp.txt_PAGE/hl60_72h_delta_exp.txt.summary.eps\n",
      "Convert to PDF exp/hl60_72h_delta_exp.txt_PAGE/hl60_72h_delta_exp.txt.summary.pdf\n",
      "Finished.\n",
      "‘exp/hl60_72h_delta_exp.txt_PAGE/hl60_72h_delta_exp.txt.summary.pdf’ -> ‘exp/hl60_72h_delta_exp.pdf’\n",
      "removed ‘exp/hl60_72h_delta_exp.txt_PAGE/hl60_72h_delta_exp.txt.summary.eps’\n",
      "removed directory: ‘exp/hl60_72h_delta_exp.txt_PAGE’\n"
     ]
    }
   ],
   "source": [
    "study = 'hl60_72h_delta_exp'\n",
    "\n",
    "pvmat = merge_multiple_pvmat(\n",
    "    pvmat_list = glob(f'exp/{study}_ind1/*c5.go*/pvmatrix.txt') + glob(f'exp/{study}_ind1/*c2.cp.kegg*/pvmatrix.txt')\n",
    ")\n",
    "\n",
    "bio_signal = pd.concat([\n",
    "    pvmat2bio_signal(pvmat,side='down',n_clust=3),\n",
    "    pvmat2bio_signal(pvmat,side='down',n_clust=2),\n",
    "    # pvmat2bio_signal(pvmat,side='down',n_clust=1),\n",
    "    # pvmat2bio_signal(pvmat,side='up',n_clust=1),\n",
    "    pvmat2bio_signal(pvmat,side='up',n_clust=2),\n",
    "    pvmat2bio_signal(pvmat,side='up',n_clust=3),\n",
    "    # pvmat2bio_signal(pvmat,side='both',n_clust=1),\n",
    "],axis=0)\n",
    "\n",
    "bio_signal = bio_signal[~bio_signal.index.duplicated()]\n",
    "\n",
    "bio_signal.to_csv(f'exp/{study}_pvmatrix.txt',sep='\\t')\n",
    "\n",
    "exp_file = f'exp/{study}.txt'\n",
    "pvmat_file = f'exp/{study}_pvmatrix.txt'\n",
    "!bash ../ipage_draw_matrix.sh $exp_file $pvmat_file\n",
    "# !rm $pvmat_file"
   ]
  },
  {
   "cell_type": "code",
   "execution_count": 44,
   "metadata": {},
   "outputs": [
    {
     "data": {
      "text/html": [
       "\n",
       "        <iframe\n",
       "            width=\"800\"\n",
       "            height=\"200\"\n",
       "            src=\"exp/hl60_72h_delta_exp.pdf\"\n",
       "            frameborder=\"0\"\n",
       "            allowfullscreen\n",
       "        ></iframe>\n",
       "        "
      ],
      "text/plain": [
       "<IPython.lib.display.IFrame at 0x7f72325c7ac8>"
      ]
     },
     "execution_count": 44,
     "metadata": {},
     "output_type": "execute_result"
    }
   ],
   "source": [
    "pdf = 'exp/hl60_72h_delta_exp.pdf'\n",
    "IFrame(pdf, width=800, height=200)"
   ]
  },
  {
   "cell_type": "markdown",
   "metadata": {
    "tags": []
   },
   "source": [
    "#### hl60 120h delta_exp"
   ]
  },
  {
   "cell_type": "code",
   "execution_count": 22,
   "metadata": {
    "tags": []
   },
   "outputs": [
    {
     "name": "stdout",
     "output_type": "stream",
     "text": [
      "Reading matrix ... Done.\n",
      "Cluster rows .. best merge is 5, 6, 0.00917815041791425\n",
      "best merge is 3, 5, 0.0181760435209474\n",
      "best merge is 11, 12, 0.0181962462735121\n",
      "best merge is 0, 10, 0.0324345390533211\n",
      "best merge is 0, 4, 0.0343795188761162\n",
      "best merge is 7, 8, 0.0359355337914352\n",
      "best merge is 16, 22, 0.0470305234169472\n",
      "best merge is 3, 7, 0.057786377262214\n",
      "best merge is 0, 1, 0.0601330620018032\n",
      "best merge is 14, 15, 0.0607235067115951\n",
      "best merge is 16, 23, 0.0733522662824038\n",
      "best merge is 0, 13, 0.0784701668832188\n",
      "best merge is 14, 17, 0.0803846407001989\n",
      "best merge is 0, 11, 0.083293709290138\n",
      "best merge is 18, 19, 0.101876504609925\n",
      "best merge is 3, 9, 0.102732765697954\n",
      "best merge is 25, 26, 0.110681104557474\n",
      "best merge is 16, 18, 0.117512816398401\n",
      "best merge is 14, 16, 0.146627520257435\n",
      "best merge is 14, 20, 0.147884970556992\n",
      "best merge is 0, 2, 0.173215889844249\n",
      "best merge is 0, 3, 0.218958775429656\n",
      "best merge is 14, 21, 0.236170170851606\n",
      "order classes\n",
      "14 - 0.277694352204001\n",
      "9 - 0.341086949289744\n",
      "2 - 0.747097455762947\n",
      "0 10 4 1 13 11 12 2 3 5 6 7 8 9\n",
      "14 15 17 16 22 23 18 19 20\n",
      "21\n",
      "24\n",
      "25 26\n",
      "Done.Start drawing\n",
      "2.45\t-1.26\n",
      "GOMF_IMMUNE_RECEPTOR_ACTIVITY, \n",
      "GOBP_HOMOPHILIC_CELL_ADHESION_VIA_PLASMA_MEMBRANE_ADHESION_MOLECULES, \n",
      "GOBP_DETECTION_OF_EXTERNAL_BIOTIC_STIMULUS, \n",
      "GOMF_VOLTAGE_GATED_CATION_CHANNEL_ACTIVITY, \n",
      "GOBP_REGULATION_OF_CELL_KILLING, \n",
      "GOMF_CARGO_RECEPTOR_ACTIVITY, \n",
      "GOMF_LIPASE_ACTIVITY, \n",
      "GOBP_BASEMENT_MEMBRANE_ORGANIZATION, \n",
      "GOBP_RESPONSE_TO_BMP, \n",
      "GOCC_MYOFILAMENT, \n",
      "GOCC_SPECIFIC_GRANULE, \n",
      "GOBP_AMINOGLYCAN_METABOLIC_PROCESS, \n",
      "GOBP_ACTIN_MEDIATED_CELL_CONTRACTION, \n",
      "GOMF_CATALYTIC_ACTIVITY_ACTING_ON_A_TRNA, \n",
      "KEGG_AMINOACYL_TRNA_BIOSYNTHESIS, \n",
      "GOBP_MITOCHONDRIAL_GENE_EXPRESSION, \n",
      "GOBP_MATURATION_OF_SSU_RRNA, \n",
      "GOBP_REGULATION_OF_CHOLESTEROL_BIOSYNTHETIC_PROCESS, \n",
      "GOBP_POSITIVE_REGULATION_OF_TELOMERASE_RNA_LOCALIZATION_TO_CAJAL_BODY, \n",
      "GOBP_TELOMERASE_RNA_LOCALIZATION, \n",
      "GOMF_S_ADENOSYLMETHIONINE_DEPENDENT_METHYLTRANSFERASE_ACTIVITY, \n",
      "GOCC_PRERIBOSOME, \n",
      "GOMF_SNORNA_BINDING, \n",
      "GOBP_MATURATION_OF_LSU_RRNA, \n",
      "GOCC_NUCLEOID, \n",
      "GOBP_ALPHA_AMINO_ACID_BIOSYNTHETIC_PROCESS, \n",
      "GOBP_RIBONUCLEOSIDE_MONOPHOSPHATE_BIOSYNTHETIC_PROCESS, \n",
      "Outputing EPS file exp/hl60_120h_delta_exp.txt_PAGE/hl60_120h_delta_exp.txt.summary.eps\n",
      "Convert to PDF exp/hl60_120h_delta_exp.txt_PAGE/hl60_120h_delta_exp.txt.summary.pdf\n",
      "Finished.\n",
      "‘exp/hl60_120h_delta_exp.txt_PAGE/hl60_120h_delta_exp.txt.summary.pdf’ -> ‘exp/hl60_120h_delta_exp.pdf’\n",
      "removed ‘exp/hl60_120h_delta_exp.txt_PAGE/hl60_120h_delta_exp.txt.summary.eps’\n",
      "removed directory: ‘exp/hl60_120h_delta_exp.txt_PAGE’\n"
     ]
    }
   ],
   "source": [
    "study = 'hl60_120h_delta_exp'\n",
    "\n",
    "pvmat = merge_multiple_pvmat(\n",
    "    pvmat_list = glob(f'exp/{study}_ind1/*c5.go*/pvmatrix.txt') + glob(f'exp/{study}_ind1/*c2.cp.kegg*/pvmatrix.txt')\n",
    ")\n",
    "\n",
    "bio_signal = pd.concat([\n",
    "    pvmat2bio_signal(pvmat,side='down',n_clust=3),\n",
    "    pvmat2bio_signal(pvmat,side='down',n_clust=2),\n",
    "    # pvmat2bio_signal(pvmat,side='down',n_clust=1),\n",
    "    # pvmat2bio_signal(pvmat,side='up',n_clust=1),\n",
    "    pvmat2bio_signal(pvmat,side='up',n_clust=2),\n",
    "    pvmat2bio_signal(pvmat,side='up',n_clust=3),\n",
    "    # pvmat2bio_signal(pvmat,side='both',n_clust=1),\n",
    "],axis=0)\n",
    "\n",
    "bio_signal = bio_signal[~bio_signal.index.duplicated()]\n",
    "\n",
    "bio_signal.to_csv(f'exp/{study}_pvmatrix.txt',sep='\\t')\n",
    "\n",
    "exp_file = f'exp/{study}.txt'\n",
    "pvmat_file = f'exp/{study}_pvmatrix.txt'\n",
    "!bash ../ipage_draw_matrix.sh $exp_file $pvmat_file\n",
    "# !rm $pvmat_file"
   ]
  },
  {
   "cell_type": "code",
   "execution_count": 45,
   "metadata": {},
   "outputs": [
    {
     "data": {
      "text/html": [
       "\n",
       "        <iframe\n",
       "            width=\"800\"\n",
       "            height=\"300\"\n",
       "            src=\"exp/hl60_120h_delta_exp.pdf\"\n",
       "            frameborder=\"0\"\n",
       "            allowfullscreen\n",
       "        ></iframe>\n",
       "        "
      ],
      "text/plain": [
       "<IPython.lib.display.IFrame at 0x7f7232631e10>"
      ]
     },
     "execution_count": 45,
     "metadata": {},
     "output_type": "execute_result"
    }
   ],
   "source": [
    "pdf = 'exp/hl60_120h_delta_exp.pdf'\n",
    "IFrame(pdf, width=800, height=300)"
   ]
  },
  {
   "cell_type": "code",
   "execution_count": null,
   "metadata": {},
   "outputs": [],
   "source": []
  },
  {
   "cell_type": "code",
   "execution_count": 39,
   "metadata": {},
   "outputs": [],
   "source": [
    "pvmat_list = glob(f'exp/{study}_ind1/*c5.go*/pvmatrix.txt')\n"
   ]
  },
  {
   "cell_type": "code",
   "execution_count": 40,
   "metadata": {},
   "outputs": [
    {
     "name": "stdout",
     "output_type": "stream",
     "text": [
      "[['hl60_120h_delta_exp_ind1', 'msigdb_v7.4_c5.go'], ['hl60_120h_delta_exp_ind1', 'msigdb_v7.4_c5.go.bp']]\n",
      "Down\n",
      "[['SCD', 'SEC14L2', 'HMGCS1', 'ABCG1', 'LSS', 'CYP7A1', 'ELOVL6', 'MIR30C1', 'MIR548P', 'ACACA'], ['CYP51A1', 'FDFT1', 'SQLE', 'ERLIN1', 'KPNB1', 'SC5D', 'HMGCR', 'SCAP', 'GPAM', 'RAN', 'SOD1', 'FDPS', 'PMVK', 'DHCR7']]\n"
     ]
    }
   ],
   "source": [
    "gs = 'GOBP_REGULATION_OF_CHOLESTEROL_BIOSYNTHETIC_PROCESS'\n",
    "\n",
    "gs_cluster_path = ipd.detect_gs_cluster(pvmat_list, gs=gs)\n",
    "\n",
    "print ([p.split('/')[1:3] for p in gs_cluster_path])\n",
    "\n",
    "gs_cluster_path = gs_cluster_path[0].split('pvmatrix.txt')[0]\n",
    "\n",
    "print ('Down')\n",
    "print (list(ipd.bin_identifier_genes(gs_cluster_path, '0', gs=gs).values())+list(ipd.bin_identifier_genes(gs_cluster_path, '1', gs=gs).values()))# print (ipd.bin_identifier_genes(gs_cluster_path, '1', gs=gs))\n",
    "\n",
    "# print ('Up')\n",
    "# print (list(ipd.bin_identifier_genes(gs_cluster_path, '9', gs=gs).values())+list(ipd.bin_identifier_genes(gs_cluster_path, '10', gs=gs).values()))"
   ]
  },
  {
   "cell_type": "code",
   "execution_count": 43,
   "metadata": {},
   "outputs": [
    {
     "name": "stdout",
     "output_type": "stream",
     "text": [
      "[['hl60_120h_delta_exp_ind1', 'msigdb_v7.4_c5.go']]\n",
      "Down\n",
      "[['METTL1', 'FTSJ1', 'PRMT5', 'SETD6', 'FBL', 'DPH5', 'KMT2A', 'EEF2KMT', 'METTL8', 'PRMT1', 'METTL16', 'COQ3', 'PRMT7', 'PEMT', 'MEN1', 'CARM1', 'SETD7', 'TFB2M', 'TRMT61A', 'SETMAR', 'TRMT61B', 'MRM3', 'TRMT10C', 'PRMT3', 'WDR5'], ['TFB1M', 'NSUN2', 'TARBP1', 'TRMT11', 'BUD23', 'DIMT1', 'METTL2A', 'TRMT6', 'RNMT', 'SUV39H1', 'TRMT1', 'FTSJ3', 'NOP2', 'ICMT', 'NSUN4', 'MRM2', 'EEF1AKMT3', 'EMG1', 'TRMT5', 'DNMT1', 'RRP8', 'SETDB2', 'THUMPD2', 'METTL5', 'PRDM16', 'EEF1AKMT1', 'SUV39H2', 'SETD9', 'CARNMT1', 'WDR4', 'COMTD1', 'ZCCHC4', 'PRMT6', 'EHMT2', 'MRM1', 'EEF1AKMT4']]\n"
     ]
    }
   ],
   "source": [
    "gs = 'GOMF_S_ADENOSYLMETHIONINE_DEPENDENT_METHYLTRANSFERASE_ACTIVITY'\n",
    "\n",
    "gs_cluster_path = ipd.detect_gs_cluster(pvmat_list, gs=gs)\n",
    "\n",
    "print ([p.split('/')[1:3] for p in gs_cluster_path])\n",
    "\n",
    "gs_cluster_path = gs_cluster_path[0].split('pvmatrix.txt')[0]\n",
    "\n",
    "print ('Down')\n",
    "print (list(ipd.bin_identifier_genes(gs_cluster_path, '0', gs=gs).values())+list(ipd.bin_identifier_genes(gs_cluster_path, '1', gs=gs).values()))# print (ipd.bin_identifier_genes(gs_cluster_path, '1', gs=gs))\n",
    "\n",
    "# print ('Up')\n",
    "# print (list(ipd.bin_identifier_genes(gs_cluster_path, '9', gs=gs).values())+list(ipd.bin_identifier_genes(gs_cluster_path, '10', gs=gs).values()))"
   ]
  },
  {
   "cell_type": "markdown",
   "metadata": {
    "jp-MarkdownHeadingCollapsed": true,
    "tags": []
   },
   "source": [
    "#### Intersection "
   ]
  },
  {
   "cell_type": "code",
   "execution_count": 170,
   "metadata": {},
   "outputs": [],
   "source": [
    "data = dict([\n",
    "    ('6h_dn',  set(hl60_pws['6h'  ].loc[hl60_pws['6h'].iloc  [:,0]   > 2,:].index.to_list())),\n",
    "    ('6h_up',  set(hl60_pws['6h'  ].loc[hl60_pws['6h'].iloc  [:,10]  > 2,:].index.to_list())),\n",
    "    ('72h_dn', set(hl60_pws['72h' ].loc[hl60_pws['72h'].iloc [:,0]   > 2,:].index.to_list())),\n",
    "    ('72h_up', set(hl60_pws['72h' ].loc[hl60_pws['72h'].iloc [:,10]  > 2,:].index.to_list())),\n",
    "    ('120h_dn',set(hl60_pws['120h'].loc[hl60_pws['120h'].iloc[:,0]   > 2,:].index.to_list())),\n",
    "    ('120h_up',set(hl60_pws['120h'].loc[hl60_pws['120h'].iloc[:,10]  > 2,:].index.to_list())),\n",
    "])"
   ]
  },
  {
   "cell_type": "code",
   "execution_count": 171,
   "metadata": {},
   "outputs": [
    {
     "data": {
      "image/png": "[encoded data removed]",
      "text/plain": [
       "<Figure size 224x384 with 4 Axes>"
      ]
     },
     "metadata": {
      "needs_background": "light"
     },
     "output_type": "display_data"
    }
   ],
   "source": [
    "fig1 = plt.figure()\n",
    "upset1 = us.UpSet(\n",
    "    us.from_contents(data),\n",
    "    min_subset_size=5,\n",
    "    min_degree=3,\n",
    "    max_degree=3,\n",
    "    orientation='horizontal',show_counts=True,\n",
    ")\n",
    "# upset1.style_subsets(present='hl60_72h_only',edgecolor=\"red\",linewidth=2)\n",
    "upset1.plot(fig=fig1)\n",
    "fig1.suptitle('iPAGE results',fontsize=20)\n",
    "plt.show()\n",
    "# pdf.savefig()"
   ]
  },
  {
   "cell_type": "code",
   "execution_count": 238,
   "metadata": {},
   "outputs": [],
   "source": [
    "hl60_intersect = data['6h_dn'].intersection(data['72h_up']).intersection(data['120h_up'])"
   ]
  },
  {
   "cell_type": "code",
   "execution_count": 281,
   "metadata": {},
   "outputs": [],
   "source": [
    "hl60_intersect_genes = {}\n",
    "for gs in hl60_intersect:\n",
    "    genes = {}\n",
    "    genes['6h'] = read_ipage_intersections_file(\n",
    "            detect_gs_cluster(\n",
    "                pvmat_list = glob(f'exp/hl60_6h_delta_exp_ind0/*c5*/pvmatrix.L.txt'),\n",
    "                gs = gs,\n",
    "            )[0].split('pvmatrix')[0],gs = gs,clust = '0',\n",
    "        \n",
    "        )\n",
    "    \n",
    "    genes['72h'] = read_ipage_intersections_file(\n",
    "            detect_gs_cluster(\n",
    "                pvmat_list = glob(f'exp/hl60_72h_delta_exp_ind0/*c5*/pvmatrix.R.txt'),\n",
    "                gs = gs\n",
    "            )[0].split('pvmatrix')[0],gs = gs,clust = '10',\n",
    "        )\n",
    "\n",
    "    genes['120h'] = read_ipage_intersections_file(\n",
    "            detect_gs_cluster(\n",
    "                pvmat_list = glob(f'exp/hl60_120h_delta_exp_ind0/*c5*/pvmatrix.R.txt'),\n",
    "                gs = gs\n",
    "            )[0].split('pvmatrix')[0],gs = gs,clust = '10',\n",
    "        )\n",
    "    hl60_intersect_genes[gs] = set(genes['6h'][gs]).intersection(\n",
    "            set(genes['72h'][gs])).intersection(set(genes['120h'][gs]))"
   ]
  },
  {
   "cell_type": "code",
   "execution_count": 285,
   "metadata": {},
   "outputs": [
    {
     "data": {
      "text/plain": [
       "{'GOCC_INTRINSIC_COMPONENT_OF_SYNAPTIC_MEMBRANE': {'GRIK5', 'KCND2'},\n",
       " 'GOBP_REGULATION_OF_HEART_RATE_BY_CARDIAC_CONDUCTION': set(),\n",
       " 'GOBP_ACTION_POTENTIAL': {'KCND2', 'NEDD4L'},\n",
       " 'GOBP_DNA_METHYLATION_INVOLVED_IN_GAMETE_GENERATION': {'MAEL',\n",
       "  'PIWIL2',\n",
       "  'TDRD1'},\n",
       " 'GOMF_VOLTAGE_GATED_CATION_CHANNEL_ACTIVITY': {'GRIN3A', 'KCND2', 'KCNQ3'},\n",
       " 'GOBP_CARDIAC_MUSCLE_CELL_ACTION_POTENTIAL_INVOLVED_IN_CONTRACTION': {'NEDD4L'},\n",
       " 'GOBP_STRIATED_MUSCLE_CONTRACTION': {'MYBPC3', 'NEDD4L'},\n",
       " 'GOMF_VOLTAGE_GATED_ION_CHANNEL_ACTIVITY': {'GRIN3A', 'KCND2', 'KCNQ3'},\n",
       " 'GOMF_LIGAND_GATED_ION_CHANNEL_ACTIVITY': {'GRIK5', 'GRIN3A'},\n",
       " 'GOBP_HOMOPHILIC_CELL_ADHESION_VIA_PLASMA_MEMBRANE_ADHESION_MOLECULES': {'AMIGO2',\n",
       "  'CDHR5',\n",
       "  'DSC1',\n",
       "  'PCDHA5'},\n",
       " 'GOBP_VENTRICULAR_CARDIAC_MUSCLE_CELL_ACTION_POTENTIAL': {'NEDD4L'},\n",
       " 'GOBP_ACTIN_MEDIATED_CELL_CONTRACTION': {'MYBPC3', 'NEDD4L'},\n",
       " 'GOCC_INTRINSIC_COMPONENT_OF_POSTSYNAPTIC_MEMBRANE': {'GRIK5', 'KCND2'},\n",
       " 'GOBP_SYNAPSE_ASSEMBLY': {'AMIGO2', 'LRTM2', 'NRCAM', 'NTRK1', 'SPTBN2'},\n",
       " 'GOMF_EXTRACELLULAR_MATRIX_STRUCTURAL_CONSTITUENT': {'COL14A1'}}"
      ]
     },
     "execution_count": 285,
     "metadata": {},
     "output_type": "execute_result"
    }
   ],
   "source": [
    "hl60_intersect_genes#.values()"
   ]
  },
  {
   "cell_type": "code",
   "execution_count": null,
   "metadata": {},
   "outputs": [],
   "source": []
  },
  {
   "cell_type": "code",
   "execution_count": null,
   "metadata": {},
   "outputs": [],
   "source": []
  },
  {
   "cell_type": "code",
   "execution_count": 147,
   "metadata": {},
   "outputs": [],
   "source": [
    "# plt.figure(figsize=(8,8))\n",
    "\n",
    "# # Make venn diagram                                                                                                                                                             \n",
    "# v = venn3_unweighted(\n",
    "#     [Exp_down,Rho_down,Hyper_m6A],('ΔRNA Expression\\nlog2FC < -0.1','ΔPhenotype (ρ)\\nlog2FC < -0.1','ΔRNA Methylation\\nlog2FC > 1')\n",
    "#     ,normalize_to=0.5\n",
    "# )\n",
    "\n",
    "# for x in ['100','010','001','110','101','011']:\n",
    "#     v.get_patch_by_id(x).set_alpha(0.5)\n",
    "#     v.get_patch_by_id(x).set_color('lightgrey')\n",
    "#     v.get_label_by_id(x).set_fontsize(12)\n",
    "\n",
    "# v.get_patch_by_id('111').set_color('y')\n",
    "# v.get_label_by_id('111').set_fontsize(15)\n",
    "\n",
    "\n",
    "# c = venn3_circles(\n",
    "#     (1,1,1,1,1,1,1), linestyle='dashed'\n",
    "#     ,normalize_to=0.5\n",
    "# )\n",
    "# for i,_ in enumerate(c):\n",
    "#     c[i].set_lw(1.0)\n",
    "#     c[i].set_ls('dotted')\n",
    "\n",
    "# plt.title(\"Intersectional genes\", fontsize=20)\n",
    "# plt.annotate(\n",
    "#     venn_genes_label, xy=v.get_label_by_id('111').get_position() - np.array([0, 0.05]), \n",
    "#     xytext=(-180,-250),\n",
    "#     ha='center', textcoords='offset points', bbox=dict(boxstyle='round,pad=0.5', fc='gray', alpha=0.1),\n",
    "#     fontsize=12, \n",
    "#     arrowprops=dict(arrowstyle='->', connectionstyle='arc3,rad=0.5',color='gray')\n",
    "# )\n",
    "\n",
    "# plt.figtext(\n",
    "#     0.5, 0.08, \"pvalue < 0.05\", ha=\"center\", fontsize=10, \n",
    "#     bbox={\"facecolor\":\"lightgray\", \"alpha\":0.1, \"pad\":5}\n",
    "# )\n",
    "\n",
    "# plt.savefig('intersectional-genes/venn_plot_Exp_down_Rho_down_Hyper_m6A.pdf')\n",
    "# plt.show()"
   ]
  },
  {
   "cell_type": "code",
   "execution_count": 135,
   "metadata": {},
   "outputs": [
    {
     "data": {
      "image/png": "[encoded data removed]",
      "text/plain": [
       "<Figure size 576x576 with 1 Axes>"
      ]
     },
     "metadata": {},
     "output_type": "display_data"
    }
   ],
   "source": [
    "venn(\n",
    "    data,fontsize=10,legend_loc=\"upper left\"\n",
    ")\n",
    "plt.show()"
   ]
  },
  {
   "cell_type": "markdown",
   "metadata": {
    "jp-MarkdownHeadingCollapsed": true,
    "tags": []
   },
   "source": [
    "### "
   ]
  },
  {
   "cell_type": "markdown",
   "metadata": {
    "tags": []
   },
   "source": [
    "#### hl60_6h_delta_exp_ind1"
   ]
  },
  {
   "cell_type": "code",
   "execution_count": 76,
   "metadata": {},
   "outputs": [],
   "source": [
    "ind1 = 'exp/hl60_6h_delta_exp_ind1'\n",
    "df = ipd.clean_bins_range(\n",
    "    pd.concat([\n",
    "        ipd.read_pvmatrix(f'{ind1}/msigdb_v7.4_c5.all/pvmatrix.L.txt'),\n",
    "        ipd.read_pvmatrix(f'{ind1}/msigdb_v7.4_c5.all/pvmatrix.R.txt')\n",
    "    ])\n",
    ")\n",
    "\n",
    "df = df.groupby(df.index).first()\n",
    "\n",
    "df.index = [f'{x} {x}' for x in df.index]\n",
    "\n",
    "df.to_csv(f\"{ind1.replace('_ind1','_pvmatrix')}.txt\",sep = '\\t')"
   ]
  },
  {
   "cell_type": "code",
   "execution_count": 78,
   "metadata": {},
   "outputs": [],
   "source": [
    "hl60_pws ['6h'] = df"
   ]
  },
  {
   "cell_type": "markdown",
   "metadata": {
    "tags": []
   },
   "source": [
    "#### hl60_72h_delta_exp_ind1"
   ]
  },
  {
   "cell_type": "code",
   "execution_count": 79,
   "metadata": {},
   "outputs": [],
   "source": [
    "ind1 = 'exp/hl60_72h_delta_exp_ind1'\n",
    "df = ipd.clean_bins_range(\n",
    "    pd.concat([\n",
    "        ipd.read_pvmatrix(f'{ind1}/msigdb_v7.4_c5.all/pvmatrix.L.txt'),\n",
    "        ipd.read_pvmatrix(f'{ind1}/msigdb_v7.4_c5.all/pvmatrix.R.txt')\n",
    "    ])\n",
    ")\n",
    "\n",
    "df = df.groupby(df.index).first()\n",
    "\n",
    "df.index = [f'{x} {x}' for x in df.index]\n",
    "\n",
    "df.to_csv(f\"{ind1.replace('_ind1','_pvmatrix')}.txt\",sep = '\\t')"
   ]
  },
  {
   "cell_type": "code",
   "execution_count": 80,
   "metadata": {},
   "outputs": [],
   "source": [
    "hl60_pws ['72h'] = df"
   ]
  },
  {
   "cell_type": "markdown",
   "metadata": {
    "tags": []
   },
   "source": [
    "#### hl60_120h_delta_exp_ind1   "
   ]
  },
  {
   "cell_type": "code",
   "execution_count": 81,
   "metadata": {},
   "outputs": [],
   "source": [
    "ind1 = 'exp/hl60_120h_delta_exp_ind1'\n",
    "df = ipd.clean_bins_range(\n",
    "    pd.concat([\n",
    "        ipd.read_pvmatrix(f'{ind1}/msigdb_v7.4_c5.all/pvmatrix.L.txt'),\n",
    "        ipd.read_pvmatrix(f'{ind1}/msigdb_v7.4_c5.all/pvmatrix.R.txt')\n",
    "    ])\n",
    ")\n",
    "\n",
    "df = df.groupby(df.index).first()\n",
    "\n",
    "df.index = [f'{x} {x}' for x in df.index]\n",
    "\n",
    "df.to_csv(f\"{ind1.replace('_ind1','_pvmatrix')}.txt\",sep = '\\t')"
   ]
  },
  {
   "cell_type": "code",
   "execution_count": 82,
   "metadata": {},
   "outputs": [],
   "source": [
    "hl60_pws ['120h'] = df"
   ]
  },
  {
   "cell_type": "markdown",
   "metadata": {
    "jp-MarkdownHeadingCollapsed": true,
    "tags": []
   },
   "source": [
    "### 72h trearment in all cell lines "
   ]
  },
  {
   "cell_type": "markdown",
   "metadata": {
    "tags": []
   },
   "source": [
    "#### hl60_72h_only_delta_exp_ind1"
   ]
  },
  {
   "cell_type": "code",
   "execution_count": 50,
   "metadata": {},
   "outputs": [],
   "source": [
    "ind1 = 'exp/hl60_72h_only_delta_exp_ind1'\n",
    "df = ipd.clean_bins_range(\n",
    "    pd.concat([\n",
    "        ipd.read_pvmatrix(f'{ind1}/msigdb_v7.4_c5.all/pvmatrix.L.txt'),\n",
    "        ipd.read_pvmatrix(f'{ind1}/msigdb_v7.4_c5.all/pvmatrix.R.txt')\n",
    "    ])\n",
    ")\n",
    "\n",
    "df = df.groupby(df.index).first()\n",
    "\n",
    "df.index = [f'{x} {x}' for x in df.index]\n",
    "\n",
    "df.to_csv(f\"{ind1.replace('_ind1','_pvmatrix')}.txt\",sep = '\\t')"
   ]
  },
  {
   "cell_type": "markdown",
   "metadata": {
    "tags": []
   },
   "source": [
    "#### molm14_delta_exp_ind1"
   ]
  },
  {
   "cell_type": "code",
   "execution_count": 51,
   "metadata": {},
   "outputs": [],
   "source": [
    "ind1 = 'exp/molm14_delta_exp_ind1'\n",
    "df = ipd.clean_bins_range(\n",
    "    pd.concat([\n",
    "        ipd.read_pvmatrix(f'{ind1}/msigdb_v7.4_c5.all/pvmatrix.L.txt'),\n",
    "        ipd.read_pvmatrix(f'{ind1}/msigdb_v7.4_c5.all/pvmatrix.R.txt')\n",
    "    ])\n",
    ")\n",
    "\n",
    "df = df.groupby(df.index).first()\n",
    "\n",
    "df.index = [f'{x} {x}' for x in df.index]\n",
    "\n",
    "df.to_csv(f\"{ind1.replace('_ind1','_pvmatrix')}.txt\",sep = '\\t')"
   ]
  },
  {
   "cell_type": "markdown",
   "metadata": {
    "tags": []
   },
   "source": [
    "#### ociaml2_delta_exp_ind1"
   ]
  },
  {
   "cell_type": "code",
   "execution_count": 52,
   "metadata": {},
   "outputs": [],
   "source": [
    "ind1 = 'exp/ociaml2_delta_exp_ind1'\n",
    "df = ipd.clean_bins_range(\n",
    "    pd.concat([\n",
    "        ipd.read_pvmatrix(f'{ind1}/msigdb_v7.4_c5.all/pvmatrix.L.txt'),\n",
    "        ipd.read_pvmatrix(f'{ind1}/msigdb_v7.4_c5.all/pvmatrix.R.txt')\n",
    "    ])\n",
    ")\n",
    "\n",
    "df = df.groupby(df.index).first()\n",
    "\n",
    "df.index = [f'{x} {x}' for x in df.index]\n",
    "\n",
    "df.to_csv(f\"{ind1.replace('_ind1','_pvmatrix')}.txt\",sep = '\\t')"
   ]
  },
  {
   "cell_type": "markdown",
   "metadata": {
    "jp-MarkdownHeadingCollapsed": true,
    "tags": []
   },
   "source": [
    "#### ociaml3_delta_exp_ind1"
   ]
  },
  {
   "cell_type": "code",
   "execution_count": 53,
   "metadata": {},
   "outputs": [],
   "source": [
    "ind1 = 'exp/ociaml3_delta_exp_ind1'\n",
    "df = ipd.clean_bins_range(\n",
    "    pd.concat([\n",
    "        ipd.read_pvmatrix(f'{ind1}/msigdb_v7.4_c5.all/pvmatrix.L.txt'),\n",
    "        ipd.read_pvmatrix(f'{ind1}/msigdb_v7.4_c5.all/pvmatrix.R.txt')\n",
    "    ])\n",
    ")\n",
    "\n",
    "df = df.groupby(df.index).first()\n",
    "\n",
    "df.index = [f'{x} {x}' for x in df.index]\n",
    "\n",
    "df.to_csv(f\"{ind1.replace('_ind1','_pvmatrix')}.txt\",sep = '\\t')"
   ]
  },
  {
   "cell_type": "markdown",
   "metadata": {
    "jp-MarkdownHeadingCollapsed": true,
    "tags": []
   },
   "source": [
    "#### thp1_delta_exp_ind1"
   ]
  },
  {
   "cell_type": "code",
   "execution_count": 54,
   "metadata": {},
   "outputs": [],
   "source": [
    "ind1 = 'exp/thp1_delta_exp_ind1'\n",
    "df = ipd.clean_bins_range(\n",
    "    pd.concat([\n",
    "        ipd.read_pvmatrix(f'{ind1}/msigdb_v7.4_c5.all/pvmatrix.L.txt'),\n",
    "        ipd.read_pvmatrix(f'{ind1}/msigdb_v7.4_c5.all/pvmatrix.R.txt')\n",
    "    ])\n",
    ")\n",
    "\n",
    "df = df.groupby(df.index).first()\n",
    "\n",
    "df.index = [f'{x} {x}' for x in df.index]\n",
    "\n",
    "df.to_csv(f\"{ind1.replace('_ind1','_pvmatrix')}.txt\",sep = '\\t')"
   ]
  },
  {
   "cell_type": "markdown",
   "metadata": {
    "tags": []
   },
   "source": [
    "#### kg1_delta_exp_ind1"
   ]
  },
  {
   "cell_type": "code",
   "execution_count": 55,
   "metadata": {},
   "outputs": [],
   "source": [
    "ind1 = 'exp/kg1_delta_exp_ind1'\n",
    "df = ipd.clean_bins_range(\n",
    "    pd.concat([\n",
    "        ipd.read_pvmatrix(f'{ind1}/msigdb_v7.4_c5.all/pvmatrix.L.txt'),\n",
    "        ipd.read_pvmatrix(f'{ind1}/msigdb_v7.4_c5.all/pvmatrix.R.txt')\n",
    "    ])\n",
    ")\n",
    "\n",
    "df = df.groupby(df.index).first()\n",
    "\n",
    "df.index = [f'{x} {x}' for x in df.index]\n",
    "\n",
    "df.to_csv(f\"{ind1.replace('_ind1','_pvmatrix')}.txt\",sep = '\\t')"
   ]
  },
  {
   "cell_type": "markdown",
   "metadata": {
    "tags": []
   },
   "source": [
    "### \n",
    "___"
   ]
  },
  {
   "cell_type": "code",
   "execution_count": 61,
   "metadata": {
    "collapsed": true,
    "jupyter": {
     "outputs_hidden": true
    },
    "tags": []
   },
   "outputs": [
    {
     "name": "stdout",
     "output_type": "stream",
     "text": [
      "Reading matrix ... Done.\n",
      "Cluster rows .. best merge is 18, 19, 0.0352146253990937\n",
      "best merge is 5, 8, 0.0458137702468012\n",
      "best merge is 0, 13, 0.0558637106600443\n",
      "best merge is 7, 14, 0.0598616994999702\n",
      "best merge is 18, 25, 0.0756444324195134\n",
      "best merge is 20, 24, 0.0788211073661067\n",
      "best merge is 7, 10, 0.0803175253761167\n",
      "best merge is 1, 18, 0.08118191202991\n",
      "best merge is 0, 15, 0.0837272666153618\n",
      "best merge is 3, 5, 0.110381874673303\n",
      "best merge is 0, 12, 0.113902662707769\n",
      "best merge is 2, 20, 0.11652188453818\n",
      "best merge is 1, 11, 0.12041623580258\n",
      "best merge is 4, 22, 0.157927385643219\n",
      "best merge is 2, 3, 0.167740169991511\n",
      "best merge is 7, 23, 0.198855049062808\n",
      "best merge is 1, 17, 0.204377890752968\n",
      "best merge is 1, 2, 0.247425358426626\n",
      "best merge is 0, 7, 0.276461783106941\n",
      "best merge is 1, 6, 0.377966993446105\n",
      "best merge is 1, 4, 0.396517540331822\n",
      "best merge is 0, 9, 0.477026031668401\n",
      "order classes\n",
      "8 - 0.589618723196522\n",
      "15 - 0.430359824008514\n",
      "1 18 19 25 11 17 2 20 24 3 5 8 6 4 22\n",
      "0 13 15 12 7 14 10 23\n",
      "9\n",
      "16\n",
      "21\n",
      "Done.Start drawing\n",
      "3\t-2\n",
      "GOBP_CHRONIC_INFLAMMATORY_RESPONSE\n",
      "GOMF_EXTRACELLULAR_MATRIX_STRUCTURAL_CONSTITUENT\n",
      "GOMF_IMMUNE_RECEPTOR_ACTIVITY\n",
      "HP_PERSISTENT_BLEEDING_AFTER_TRAUMA\n",
      "GOBP_REGULATION_OF_NEUTROPHIL_EXTRAVASATION\n",
      "GOMF_CARBOHYDRATE_TRANSMEMBRANE_TRANSPORTER_ACTIVITY\n",
      "GOBP_DETECTION_OF_EXTERNAL_BIOTIC_STIMULUS\n",
      "GOMF_LIPASE_ACTIVITY\n",
      "GOMF_VOLTAGE_GATED_CATION_CHANNEL_ACTIVITY\n",
      "GOBP_DNA_METHYLATION_INVOLVED_IN_GAMETE_GENERATION\n",
      "GOBP_HOMOPHILIC_CELL_ADHESION_VIA_PLASMA_MEMBRANE_ADHESION_MOLECULES\n",
      "GOBP_NEGATIVE_CHEMOTAXIS\n",
      "GOBP_MATURE_B_CELL_DIFFERENTIATION\n",
      "GOBP_EMBRYONIC_SKELETAL_SYSTEM_DEVELOPMENT\n",
      "GOMF_SERINE_HYDROLASE_ACTIVITY\n",
      "GOCC_SPECIFIC_GRANULE\n",
      "GOBP_MITOCHONDRIAL_GENE_EXPRESSION\n",
      "GOBP_TELOMERASE_RNA_LOCALIZATION\n",
      "GOBP_REGULATION_OF_CHOLESTEROL_BIOSYNTHETIC_PROCESS\n",
      "GOMF_S_ADENOSYLMETHIONINE_DEPENDENT_METHYLTRANSFERASE_ACTIVITY\n",
      "GOBP_ALPHA_AMINO_ACID_BIOSYNTHETIC_PROCESS\n",
      "GOBP_RRNA_TRANSCRIPTION\n",
      "GOCC_PRERIBOSOME\n",
      "GOBP_RIBONUCLEOSIDE_MONOPHOSPHATE_BIOSYNTHETIC_PROCESS\n",
      "GOBP_PROTEIN_TRIMERIZATION\n",
      "GOMF_RECEPTOR_INHIBITOR_ACTIVITY\n",
      "Outputing EPS file hl60_120h_delta_exp.txt_PAGE/hl60_120h_delta_exp.txt.summary.eps\n",
      "Convert to PDF hl60_120h_delta_exp.txt_PAGE/hl60_120h_delta_exp.txt.summary.pdf\n",
      "Finished.\n",
      "‘hl60_120h_delta_exp.txt_PAGE/hl60_120h_delta_exp.txt.summary.pdf’ -> ‘hl60_120h_delta_exp.pdf’\n",
      "removed ‘hl60_120h_delta_exp.txt_PAGE/hl60_120h_delta_exp.txt.summary.eps’\n",
      "removed directory: ‘hl60_120h_delta_exp.txt_PAGE’\n",
      "Reading matrix ... Done.\n",
      "Cluster rows .. best merge is 2, 13, 0.0557570922419475\n",
      "best merge is 10, 12, 0.0733343520768311\n",
      "best merge is 3, 16, 0.0844284824066494\n",
      "best merge is 4, 5, 0.124060962350733\n",
      "best merge is 1, 7, 0.136117075528687\n",
      "best merge is 2, 14, 0.14508230240549\n",
      "best merge is 4, 11, 0.164290794735316\n",
      "best merge is 8, 10, 0.22323799888833\n",
      "best merge is 3, 17, 0.292446778871712\n",
      "best merge is 4, 8, 0.301734517241131\n",
      "best merge is 1, 2, 0.340439343125906\n",
      "best merge is 0, 4, 0.352094073394859\n",
      "best merge is 1, 3, 0.416242088184305\n",
      "best merge is 6, 9, 0.532578749776248\n",
      "order classes\n",
      "7 - 0.608812267929186\n",
      "8 - 0.663583232408323\n",
      "0 4 5 11 8 10 12\n",
      "1 7 2 13 14 3 16 17\n",
      "6\n",
      "9\n",
      "15\n",
      "Done.Start drawing\n",
      "2\t-2\n",
      "GOBP_CILIUM_MOVEMENT\n",
      "GOBP_PERIPHERAL_NERVOUS_SYSTEM_DEVELOPMENT\n",
      "GOBP_CREATINE_METABOLIC_PROCESS\n",
      "GOMF_CHEMOREPELLENT_ACTIVITY\n",
      "GOMF_EXTRACELLULAR_MATRIX_STRUCTURAL_CONSTITUENT\n",
      "GOMF_LIGAND_GATED_ION_CHANNEL_ACTIVITY\n",
      "GOMF_MONOOXYGENASE_ACTIVITY\n",
      "GOBP_OLIGOSACCHARIDE_METABOLIC_PROCESS\n",
      "GOBP_PYRIDINE_CONTAINING_COMPOUND_METABOLIC_PROCESS\n",
      "GOMF_HORMONE_ACTIVITY\n",
      "GOBP_CALCIUM_INDEPENDENT_CELL_CELL_ADHESION_VIA_PLASMA_MEMBRANE_CELL_ADHESION_MOLECULES\n",
      "GOBP_HOMOPHILIC_CELL_ADHESION_VIA_PLASMA_MEMBRANE_ADHESION_MOLECULES\n",
      "GOBP_HORMONE_CATABOLIC_PROCESS\n",
      "GOCC_VOLTAGE_GATED_SODIUM_CHANNEL_COMPLEX\n",
      "GOBP_PIRNA_METABOLIC_PROCESS\n",
      "GOBP_SKELETAL_MUSCLE_THIN_FILAMENT_ASSEMBLY\n",
      "GOCC_ZONULA_ADHERENS\n",
      "GOBP_DIGESTIVE_SYSTEM_DEVELOPMENT\n",
      "Outputing EPS file hl60_6h_delta_exp.txt_PAGE/hl60_6h_delta_exp.txt.summary.eps\n",
      "Convert to PDF hl60_6h_delta_exp.txt_PAGE/hl60_6h_delta_exp.txt.summary.pdf\n",
      "Finished.\n",
      "‘hl60_6h_delta_exp.txt_PAGE/hl60_6h_delta_exp.txt.summary.pdf’ -> ‘hl60_6h_delta_exp.pdf’\n",
      "removed ‘hl60_6h_delta_exp.txt_PAGE/hl60_6h_delta_exp.txt.summary.eps’\n",
      "removed directory: ‘hl60_6h_delta_exp.txt_PAGE’\n",
      "Reading matrix ... Done.\n",
      "Cluster rows .. best merge is 4, 8, 0.0169307500162453\n",
      "best merge is 5, 9, 0.0296258140860947\n",
      "best merge is 5, 11, 0.0887387928125355\n",
      "best merge is 3, 7, 0.106509754879354\n",
      "best merge is 2, 4, 0.137451283200918\n",
      "best merge is 1, 2, 0.170659204564356\n",
      "best merge is 12, 13, 0.17804853516379\n",
      "best merge is 14, 15, 0.186890382182625\n",
      "best merge is 1, 12, 0.231338830687387\n",
      "best merge is 6, 14, 0.308887644706992\n",
      "best merge is 0, 1, 0.323737371236081\n",
      "best merge is 0, 10, 0.425289464782168\n",
      "order classes\n",
      "7 - 0.445480521347221\n",
      "2 - 0.426039019517415\n",
      "3 - 0.245455881139159\n",
      "3 - 0.953677833003388\n",
      "5 9 11\n",
      "3 7\n",
      "0 1 2 4 8 12 13\n",
      "6 14 15\n",
      "10\n",
      "Done.Start drawing\n",
      "3\t-3\n",
      "GOBP_AMINOGLYCAN_BIOSYNTHETIC_PROCESS\n",
      "GOBP_CRANIAL_NERVE_DEVELOPMENT\n",
      "GOBP_HOMOPHILIC_CELL_ADHESION_VIA_PLASMA_MEMBRANE_ADHESION_MOLECULES\n",
      "GOBP_LIPOXIN_METABOLIC_PROCESS\n",
      "GOBP_PIRNA_METABOLIC_PROCESS\n",
      "GOCC_SARCOLEMMA\n",
      "GOMF_GROWTH_FACTOR_BINDING\n",
      "GOBP_NEGATIVE_REGULATION_OF_HUMORAL_IMMUNE_RESPONSE\n",
      "GOMF_NEUROTRANSMITTER_RECEPTOR_ACTIVITY\n",
      "GOMF_PEPTIDE_RECEPTOR_ACTIVITY\n",
      "GOBP_VERY_LONG_CHAIN_FATTY_ACID_METABOLIC_PROCESS\n",
      "GOBP_MITOCHONDRIAL_TRANSLATION\n",
      "GOBP_TRNA_PROCESSING\n",
      "GOCC_INNER_MITOCHONDRIAL_MEMBRANE_PROTEIN_COMPLEX\n",
      "GOBP_KYNURENINE_METABOLIC_PROCESS\n",
      "GOBP_NEGATIVE_REGULATION_OF_MEGAKARYOCYTE_DIFFERENTIATION\n",
      "Outputing EPS file hl60_72h_delta_exp.txt_PAGE/hl60_72h_delta_exp.txt.summary.eps\n",
      "Convert to PDF hl60_72h_delta_exp.txt_PAGE/hl60_72h_delta_exp.txt.summary.pdf\n",
      "Finished.\n",
      "‘hl60_72h_delta_exp.txt_PAGE/hl60_72h_delta_exp.txt.summary.pdf’ -> ‘hl60_72h_delta_exp.pdf’\n",
      "removed ‘hl60_72h_delta_exp.txt_PAGE/hl60_72h_delta_exp.txt.summary.eps’\n",
      "removed directory: ‘hl60_72h_delta_exp.txt_PAGE’\n",
      "Reading matrix ... Done.\n",
      "Cluster rows .. best merge is 5, 12, 0.0277734979709781\n",
      "best merge is 2, 9, 0.048543794121409\n",
      "best merge is 8, 11, 0.0657799724118251\n",
      "best merge is 5, 13, 0.0784318693067022\n",
      "best merge is 4, 7, 0.0841451761692656\n",
      "best merge is 0, 8, 0.102169541570671\n",
      "best merge is 1, 14, 0.116959315519445\n",
      "best merge is 2, 3, 0.148403704058934\n",
      "best merge is 1, 10, 0.168624612993564\n",
      "best merge is 15, 17, 0.217647279651949\n",
      "best merge is 0, 6, 0.229693432944671\n",
      "best merge is 1, 2, 0.230041536701357\n",
      "best merge is 4, 16, 0.249805117215501\n",
      "best merge is 0, 1, 0.326481717274089\n",
      "order classes\n",
      "4 - 0.53954963684279\n",
      "6 - 0.47832226234301\n",
      "3 - 0.778340547467023\n",
      "3 - 0.24618298211251\n",
      "2 - 0.979412758433769\n",
      "5 12 13\n",
      "1 14 10 2 9 3\n",
      "4 7 16\n",
      "0 8 11 6\n",
      "15 17\n",
      "Done.Start drawing\n",
      "3\t-3\n",
      "GOBP_HOMOPHILIC_CELL_ADHESION_VIA_PLASMA_MEMBRANE_ADHESION_MOLECULES\n",
      "GOMF_GROWTH_FACTOR_BINDING\n",
      "GOBP_REGULATION_OF_HEART_RATE_BY_CARDIAC_CONDUCTION\n",
      "GOBP_INNERVATION\n",
      "GOBP_PIRNA_METABOLIC_PROCESS\n",
      "GOBP_INTERLEUKIN_4_PRODUCTION\n",
      "GOBP_ANATOMICAL_STRUCTURE_ARRANGEMENT\n",
      "GOBP_PANCREATIC_A_CELL_DIFFERENTIATION\n",
      "GOBP_SPECIFICATION_OF_ANIMAL_ORGAN_IDENTITY\n",
      "GOBP_NEGATIVE_REGULATION_OF_EXECUTION_PHASE_OF_APOPTOSIS\n",
      "GOMF_NEUROTRANSMITTER_RECEPTOR_ACTIVITY\n",
      "GOMF_PEPTIDE_RECEPTOR_ACTIVITY\n",
      "GOBP_MITOCHONDRIAL_TRANSLATION\n",
      "GOBP_TRNA_PROCESSING\n",
      "GOCC_INNER_MITOCHONDRIAL_MEMBRANE_PROTEIN_COMPLEX\n",
      "GOBP_KYNURENINE_METABOLIC_PROCESS\n",
      "GOBP_NEGATIVE_REGULATION_OF_MEGAKARYOCYTE_DIFFERENTIATION\n",
      "GOMF_ORGANIC_ACID_TRANSMEMBRANE_TRANSPORTER_ACTIVITY\n",
      "Outputing EPS file hl60_72h_only_delta_exp.txt_PAGE/hl60_72h_only_delta_exp.txt.summary.eps\n",
      "Convert to PDF hl60_72h_only_delta_exp.txt_PAGE/hl60_72h_only_delta_exp.txt.summary.pdf\n",
      "Finished.\n",
      "‘hl60_72h_only_delta_exp.txt_PAGE/hl60_72h_only_delta_exp.txt.summary.pdf’ -> ‘hl60_72h_only_delta_exp.pdf’\n",
      "removed ‘hl60_72h_only_delta_exp.txt_PAGE/hl60_72h_only_delta_exp.txt.summary.eps’\n",
      "removed directory: ‘hl60_72h_only_delta_exp.txt_PAGE’\n",
      "Reading matrix ... Done.\n",
      "Cluster rows .. best merge is 2, 3, 0.0217038870379572\n",
      "best merge is 14, 17, 0.0261276756373431\n",
      "best merge is 4, 12, 0.0364203680670827\n",
      "best merge is 5, 14, 0.0557524078185656\n",
      "best merge is 2, 5, 0.0734977471484378\n",
      "best merge is 2, 4, 0.110029784956003\n",
      "best merge is 2, 16, 0.137652061361576\n",
      "best merge is 9, 10, 0.159632385506589\n",
      "best merge is 11, 13, 0.180103954141366\n",
      "best merge is 2, 8, 0.230843815919965\n",
      "best merge is 1, 7, 0.235883515381588\n",
      "best merge is 1, 2, 0.297435838219816\n",
      "best merge is 0, 15, 0.313554602036118\n",
      "best merge is 0, 9, 0.387274255096466\n",
      "order classes\n",
      "2 - 1.41099570916253\n",
      "11 - 0.274181102183419\n",
      "2 - 0.71834573477965\n",
      "2 - 0.810467793636148\n",
      "1 7 2 3 5 14 17 4 12 16 8\n",
      "0 15\n",
      "6\n",
      "9 10\n",
      "11 13\n",
      "Done.Start drawing\n",
      "2\t-2\n",
      "GOBP_DETECTION_OF_LIGHT_STIMULUS\n",
      "GOBP_STRIATED_MUSCLE_CONTRACTION\n",
      "GOBP_G_PROTEIN_COUPLED_PURINERGIC_NUCLEOTIDE_RECEPTOR_SIGNALING_PATHWAY\n",
      "GOBP_HISTIDINE_CATABOLIC_PROCESS\n",
      "GOBP_NOTOCHORD_DEVELOPMENT\n",
      "GOMF_IGG_BINDING\n",
      "HP_MACROTHROMBOCYTOPENIA\n",
      "GOBP_HOMOPHILIC_CELL_ADHESION_VIA_PLASMA_MEMBRANE_ADHESION_MOLECULES\n",
      "GOMF_EXTRACELLULAR_MATRIX_STRUCTURAL_CONSTITUENT\n",
      "GOMF_SUGAR_TRANSMEMBRANE_TRANSPORTER_ACTIVITY\n",
      "GOCC_SPECIFIC_GRANULE\n",
      "GOMF_CYTOKINE_BINDING\n",
      "GOBP_POSITIVE_REGULATION_OF_STRESS_ACTIVATED_PROTEIN_KINASE_SIGNALING_CASCADE\n",
      "GOMF_CARGO_RECEPTOR_ACTIVITY\n",
      "GOMF_ENDOPEPTIDASE_REGULATOR_ACTIVITY\n",
      "GOMF_HORMONE_ACTIVITY\n",
      "GOBP_CILIUM_MOVEMENT\n",
      "GOMF_METALLOPEPTIDASE_ACTIVITY\n",
      "Outputing EPS file kg1_delta_exp.txt_PAGE/kg1_delta_exp.txt.summary.eps\n",
      "Convert to PDF kg1_delta_exp.txt_PAGE/kg1_delta_exp.txt.summary.pdf\n",
      "Finished.\n",
      "‘kg1_delta_exp.txt_PAGE/kg1_delta_exp.txt.summary.pdf’ -> ‘kg1_delta_exp.pdf’\n",
      "removed ‘kg1_delta_exp.txt_PAGE/kg1_delta_exp.txt.summary.eps’\n",
      "removed directory: ‘kg1_delta_exp.txt_PAGE’\n",
      "Reading matrix ... Done.\n",
      "Cluster rows .. best merge is 3, 12, 0.0836942376653812\n",
      "best merge is 3, 6, 0.093144535591823\n",
      "best merge is 2, 5, 0.0963576735293374\n",
      "best merge is 3, 10, 0.124735720902659\n",
      "best merge is 0, 8, 0.204447807185385\n",
      "best merge is 4, 7, 0.288088565271284\n",
      "best merge is 2, 9, 0.316442992468208\n",
      "best merge is 2, 11, 0.381264772710366\n",
      "best merge is 1, 3, 0.417152823329444\n",
      "order classes\n",
      "2 - 0.664455373352502\n",
      "4 - 0.76092167799247\n",
      "4 - 0.261702379070033\n",
      "2 - 0.936287837131672\n",
      "3 12 6 10\n",
      "1\n",
      "2 5 9 11\n",
      "0 8\n",
      "4 7\n",
      "Done.Start drawing\n",
      "2\t-2\n",
      "GOBP_HOMOPHILIC_CELL_ADHESION_VIA_PLASMA_MEMBRANE_ADHESION_MOLECULES\n",
      "GOBP_POSITIVE_REGULATION_OF_CELL_JUNCTION_ASSEMBLY\n",
      "GOMF_EXTRACELLULAR_MATRIX_STRUCTURAL_CONSTITUENT\n",
      "GOBP_MICROTUBULE_BUNDLE_FORMATION\n",
      "GOMF_CARGO_RECEPTOR_ACTIVITY\n",
      "GOBP_COLLAGEN_CATABOLIC_PROCESS\n",
      "GOMF_CYTOKINE_RECEPTOR_ACTIVITY\n",
      "GOBP_L_SERINE_METABOLIC_PROCESS\n",
      "HP_BRUXISM\n",
      "GOBP_POSITIVE_REGULATION_OF_TRANSCRIPTION_FROM_RNA_POLYMERASE_II_PROMOTER_IN_RESPONSE_TO_STRESS\n",
      "GOMF_ORGANIC_ACID_TRANSMEMBRANE_TRANSPORTER_ACTIVITY\n",
      "GOBP_DNA_REPLICATION_DEPENDENT_NUCLEOSOME_ORGANIZATION\n",
      "GOMF_VOLTAGE_GATED_ION_CHANNEL_ACTIVITY\n",
      "Outputing EPS file molm14_delta_exp.txt_PAGE/molm14_delta_exp.txt.summary.eps\n",
      "Convert to PDF molm14_delta_exp.txt_PAGE/molm14_delta_exp.txt.summary.pdf\n",
      "Finished.\n",
      "‘molm14_delta_exp.txt_PAGE/molm14_delta_exp.txt.summary.pdf’ -> ‘molm14_delta_exp.pdf’\n",
      "removed ‘molm14_delta_exp.txt_PAGE/molm14_delta_exp.txt.summary.eps’\n",
      "removed directory: ‘molm14_delta_exp.txt_PAGE’\n",
      "Reading matrix ... Done.\n",
      "Cluster rows .. best merge is 14, 15, 0.0662437751519867\n",
      "best merge is 5, 12, 0.0668964281710585\n",
      "best merge is 1, 3, 0.123138320862101\n",
      "best merge is 5, 14, 0.123812774478513\n",
      "best merge is 2, 9, 0.158126437770088\n",
      "best merge is 6, 7, 0.159501711625362\n",
      "best merge is 0, 13, 0.173935547932383\n",
      "best merge is 2, 8, 0.231890624652783\n",
      "best merge is 4, 11, 0.246891101905471\n",
      "best merge is 0, 2, 0.255152307314506\n",
      "best merge is 1, 5, 0.332598658662847\n",
      "best merge is 6, 10, 0.373254580562073\n",
      "order classes\n",
      "5 - 0.595649812197139\n",
      "6 - 0.505528724652145\n",
      "2 - 0.987564407621885\n",
      "2 - 0.638006846501449\n",
      "1 3 5 12 14 15\n",
      "0 13 2 9 8\n",
      "4 11\n",
      "6 7\n",
      "10\n",
      "Done.Start drawing\n",
      "2\t-2\n",
      "GOBP_ADENYLATE_CYCLASE_INHIBITING_G_PROTEIN_COUPLED_RECEPTOR_SIGNALING_PATHWAY\n",
      "GOMF_SCAVENGER_RECEPTOR_ACTIVITY\n",
      "GOBP_CILIUM_MOVEMENT\n",
      "GOMF_EXTRACELLULAR_MATRIX_STRUCTURAL_CONSTITUENT\n",
      "GOBP_GRANULOCYTE_CHEMOTAXIS\n",
      "GOBP_INTERFERON_GAMMA_MEDIATED_SIGNALING_PATHWAY\n",
      "GOBP_SURFACTANT_HOMEOSTASIS\n",
      "GOMF_HORMONE_ACTIVITY\n",
      "GOMF_GUANYL_NUCLEOTIDE_EXCHANGE_FACTOR_ACTIVITY\n",
      "GOBP_CATECHOL_CONTAINING_COMPOUND_BIOSYNTHETIC_PROCESS\n",
      "GOBP_DETECTION_OF_CHEMICAL_STIMULUS_INVOLVED_IN_SENSORY_PERCEPTION_OF_TASTE\n",
      "GOBP_HOMOPHILIC_CELL_ADHESION_VIA_PLASMA_MEMBRANE_ADHESION_MOLECULES\n",
      "GOMF_PEPTIDE_HORMONE_BINDING\n",
      "GOMF_TRANSMEMBRANE_RECEPTOR_PROTEIN_TYROSINE_KINASE_ACTIVITY\n",
      "GOMF_VOLTAGE_GATED_ION_CHANNEL_ACTIVITY\n",
      "GOCC_EXCITATORY_SYNAPSE\n",
      "Outputing EPS file ociaml2_delta_exp.txt_PAGE/ociaml2_delta_exp.txt.summary.eps\n",
      "Convert to PDF ociaml2_delta_exp.txt_PAGE/ociaml2_delta_exp.txt.summary.pdf\n",
      "Finished.\n",
      "‘ociaml2_delta_exp.txt_PAGE/ociaml2_delta_exp.txt.summary.pdf’ -> ‘ociaml2_delta_exp.pdf’\n",
      "removed ‘ociaml2_delta_exp.txt_PAGE/ociaml2_delta_exp.txt.summary.eps’\n",
      "removed directory: ‘ociaml2_delta_exp.txt_PAGE’\n",
      "Reading matrix ... Done.\n",
      "Cluster rows .. best merge is 1, 12, 0.0927080223382852\n",
      "best merge is 8, 10, 0.138105811509407\n",
      "best merge is 3, 5, 0.171763894906808\n",
      "best merge is 1, 8, 0.184224690547609\n",
      "best merge is 1, 11, 0.219415905637106\n",
      "best merge is 3, 7, 0.25584227114504\n",
      "best merge is 1, 3, 0.280248640058752\n",
      "best merge is 2, 6, 0.319697894424135\n",
      "best merge is 0, 1, 0.375862695155167\n",
      "order classes\n",
      "8 - 0.341887520846256\n",
      "2 - 1.03901815687844\n",
      "1 12 8 10 11 3 5 7\n",
      "0\n",
      "2 6\n",
      "4\n",
      "9\n",
      "Done.Start drawing\n",
      "2\t-2\n",
      "GOBP_HOMOPHILIC_CELL_ADHESION_VIA_PLASMA_MEMBRANE_ADHESION_MOLECULES\n",
      "GOMF_TRANSMEMBRANE_RECEPTOR_PROTEIN_KINASE_ACTIVITY\n",
      "GOMF_EXTRACELLULAR_MATRIX_STRUCTURAL_CONSTITUENT\n",
      "GOMF_MONOOXYGENASE_ACTIVITY\n",
      "GOMF_POTASSIUM_ION_TRANSMEMBRANE_TRANSPORTER_ACTIVITY\n",
      "GOBP_NEGATIVE_REGULATION_OF_CELL_ACTIVATION\n",
      "GOBP_REGULATION_OF_VASCULOGENESIS\n",
      "GOMF_CARGO_RECEPTOR_ACTIVITY\n",
      "GOBP_HEART_FORMATION\n",
      "GOMF_HORMONE_ACTIVITY\n",
      "GOBP_MUSCLE_FILAMENT_SLIDING\n",
      "GOMF_AMINO_ACID_TRANSMEMBRANE_TRANSPORTER_ACTIVITY\n",
      "GOBP_PIRNA_METABOLIC_PROCESS\n",
      "Outputing EPS file ociaml3_delta_exp.txt_PAGE/ociaml3_delta_exp.txt.summary.eps\n",
      "Convert to PDF ociaml3_delta_exp.txt_PAGE/ociaml3_delta_exp.txt.summary.pdf\n",
      "Finished.\n",
      "‘ociaml3_delta_exp.txt_PAGE/ociaml3_delta_exp.txt.summary.pdf’ -> ‘ociaml3_delta_exp.pdf’\n",
      "removed ‘ociaml3_delta_exp.txt_PAGE/ociaml3_delta_exp.txt.summary.eps’\n",
      "removed directory: ‘ociaml3_delta_exp.txt_PAGE’\n",
      "Reading matrix ... Done.\n",
      "Cluster rows .. best merge is 1, 7, 0.0664853542334868\n",
      "best merge is 4, 12, 0.087930702283485\n",
      "best merge is 4, 13, 0.156619117984136\n",
      "best merge is 1, 3, 0.158153723281444\n",
      "best merge is 0, 4, 0.191609339136815\n",
      "best merge is 2, 8, 0.205362668855324\n",
      "best merge is 1, 5, 0.237765830177012\n",
      "best merge is 2, 10, 0.273859913064347\n",
      "best merge is 0, 1, 0.303176638138016\n",
      "best merge is 2, 11, 0.385838034920361\n",
      "order classes\n",
      "8 - 0.378596829690509\n",
      "3 - 0.780974439242685\n",
      "0 4 12 13 1 7 3 5\n",
      "2 8 10\n",
      "6\n",
      "9\n",
      "11\n",
      "Done.Start drawing\n",
      "2\t-2\n",
      "GOBP_HOMOPHILIC_CELL_ADHESION_VIA_PLASMA_MEMBRANE_ADHESION_MOLECULES\n",
      "HP_ABNORMAL_DARK_ADAPTED_ELECTRORETINOGRAM\n",
      "GOBP_CELLULAR_HORMONE_METABOLIC_PROCESS\n",
      "GOBP_PYRIMIDINE_NUCLEOSIDE_CATABOLIC_PROCESS\n",
      "GOBP_HEAT_GENERATION\n",
      "GOBP_NEGATIVE_CHEMOTAXIS\n",
      "GOMF_EXTRACELLULAR_MATRIX_STRUCTURAL_CONSTITUENT\n",
      "GOMF_BETA_1_3_GALACTOSYLTRANSFERASE_ACTIVITY\n",
      "GOMF_HORMONE_ACTIVITY\n",
      "GOBP_BLOOD_COAGULATION_INTRINSIC_PATHWAY\n",
      "GOMF_VOLTAGE_GATED_ION_CHANNEL_ACTIVITY\n",
      "GOBP_G_PROTEIN_COUPLED_RECEPTOR_SIGNALING_PATHWAY_COUPLED_TO_CYCLIC_NUCLEOTIDE_SECOND_MESSENGER\n",
      "GOCC_ANCHORED_COMPONENT_OF_MEMBRANE\n",
      "GOBP_POSITIVE_REGULATION_OF_INTERLEUKIN_4_PRODUCTION\n",
      "Outputing EPS file thp1_delta_exp.txt_PAGE/thp1_delta_exp.txt.summary.eps\n",
      "Convert to PDF thp1_delta_exp.txt_PAGE/thp1_delta_exp.txt.summary.pdf\n",
      "Finished.\n",
      "‘thp1_delta_exp.txt_PAGE/thp1_delta_exp.txt.summary.pdf’ -> ‘thp1_delta_exp.pdf’\n",
      "removed ‘thp1_delta_exp.txt_PAGE/thp1_delta_exp.txt.summary.eps’\n",
      "removed directory: ‘thp1_delta_exp.txt_PAGE’\n"
     ]
    }
   ],
   "source": [
    "%%bash \n",
    "cd exp\n",
    "for exp in *delta_exp.txt; do \n",
    "    pv=${exp/.txt/_pvmatrix.txt};\n",
    "    bash ../../ipage_draw_matrix.sh $exp $pv;\n",
    "done\n",
    "cd ../"
   ]
  },
  {
   "cell_type": "code",
   "execution_count": 62,
   "metadata": {},
   "outputs": [],
   "source": [
    "!rm exp/*_pvmatrix.txt"
   ]
  },
  {
   "cell_type": "markdown",
   "metadata": {
    "tags": []
   },
   "source": [
    "## $\\Delta$Stability"
   ]
  },
  {
   "cell_type": "markdown",
   "metadata": {
    "jp-MarkdownHeadingCollapsed": true,
    "tags": []
   },
   "source": [
    "#### `ind0`"
   ]
  },
  {
   "cell_type": "code",
   "execution_count": null,
   "metadata": {
    "tags": []
   },
   "outputs": [],
   "source": [
    "%%bash\n",
    "export PAGEDIR='/data_gilbert/home/aarab/iPAGE'\n",
    "\n",
    "cd stbl/\n",
    "ls *_delta_stbl.txt | parallel -j18 -k bash ../../ipage_loop.sh\n",
    "cd ../"
   ]
  },
  {
   "cell_type": "code",
   "execution_count": 21,
   "metadata": {
    "tags": []
   },
   "outputs": [],
   "source": [
    "!rm -r stbl/*delta_stbl/*/*.html stbl/*delta_stbl/*/*.eps stbl/*delta_stbl/*/imgsrc stbl/*delta_stbl/*/SUMMARY"
   ]
  },
  {
   "cell_type": "code",
   "execution_count": 30,
   "metadata": {},
   "outputs": [
    {
     "name": "stdout",
     "output_type": "stream",
     "text": [
      "‘stbl/hl60_120h_delta_stbl/’ -> ‘stbl/hl60_120h_delta_stbl_ind0/’\n",
      "‘stbl/hl60_6h_delta_stbl/’ -> ‘stbl/hl60_6h_delta_stbl_ind0/’\n",
      "‘stbl/hl60_72h_delta_stbl/’ -> ‘stbl/hl60_72h_delta_stbl_ind0/’\n",
      "‘stbl/kg1_delta_stbl/’ -> ‘stbl/kg1_delta_stbl_ind0/’\n",
      "‘stbl/molm14_delta_stbl/’ -> ‘stbl/molm14_delta_stbl_ind0/’\n",
      "‘stbl/ociaml2_delta_stbl/’ -> ‘stbl/ociaml2_delta_stbl_ind0/’\n",
      "‘stbl/ociaml3_delta_stbl/’ -> ‘stbl/ociaml3_delta_stbl_ind0/’\n",
      "‘stbl/thp1_delta_stbl/’ -> ‘stbl/thp1_delta_stbl_ind0/’\n"
     ]
    }
   ],
   "source": [
    "%%bash \n",
    "for f in  stbl/*delta_stbl/; do o=${f/delta_stbl/delta_stbl_ind0}; mv -v $f $o; done "
   ]
  },
  {
   "cell_type": "markdown",
   "metadata": {
    "jp-MarkdownHeadingCollapsed": true,
    "tags": []
   },
   "source": [
    "#### `ind1`"
   ]
  },
  {
   "cell_type": "code",
   "execution_count": null,
   "metadata": {
    "tags": []
   },
   "outputs": [],
   "source": [
    "%%bash\n",
    "export PAGEDIR='/data_gilbert/home/aarab/iPAGE'\n",
    "\n",
    "cd stbl/\n",
    "ls *_delta_stbl.txt | parallel -j18 -k bash ../../ipage_loop.sh\n",
    "cd ../"
   ]
  },
  {
   "cell_type": "code",
   "execution_count": 31,
   "metadata": {
    "tags": []
   },
   "outputs": [],
   "source": [
    "!rm -r stbl/*delta_stbl/*/*.html stbl/*delta_stbl/*/*.eps stbl/*delta_stbl/*/imgsrc stbl/*delta_stbl/*/SUMMARY"
   ]
  },
  {
   "cell_type": "code",
   "execution_count": 32,
   "metadata": {},
   "outputs": [
    {
     "name": "stdout",
     "output_type": "stream",
     "text": [
      "‘stbl/hl60_120h_delta_stbl/’ -> ‘stbl/hl60_120h_delta_stbl_ind1/’\n",
      "‘stbl/hl60_6h_delta_stbl/’ -> ‘stbl/hl60_6h_delta_stbl_ind1/’\n",
      "‘stbl/hl60_72h_delta_stbl/’ -> ‘stbl/hl60_72h_delta_stbl_ind1/’\n",
      "‘stbl/kg1_delta_stbl/’ -> ‘stbl/kg1_delta_stbl_ind1/’\n",
      "‘stbl/molm14_delta_stbl/’ -> ‘stbl/molm14_delta_stbl_ind1/’\n",
      "‘stbl/ociaml2_delta_stbl/’ -> ‘stbl/ociaml2_delta_stbl_ind1/’\n",
      "‘stbl/ociaml3_delta_stbl/’ -> ‘stbl/ociaml3_delta_stbl_ind1/’\n",
      "‘stbl/thp1_delta_stbl/’ -> ‘stbl/thp1_delta_stbl_ind1/’\n"
     ]
    }
   ],
   "source": [
    "%%bash \n",
    "for f in  stbl/*delta_stbl/; do o=${f/delta_stbl/delta_stbl_ind1}; mv -v $f $o; done "
   ]
  },
  {
   "cell_type": "markdown",
   "metadata": {
    "tags": []
   },
   "source": [
    "### Remake from pvmatrix (correct bin clusters)"
   ]
  },
  {
   "cell_type": "markdown",
   "metadata": {
    "tags": []
   },
   "source": [
    "### HL-60 time series"
   ]
  },
  {
   "cell_type": "code",
   "execution_count": 218,
   "metadata": {},
   "outputs": [],
   "source": [
    "# hl60_pws ['120h'] = merge_multiple_pvmat(\n",
    "#     pvmat_list = glob('exp/hl60_120h_delta_exp_ind0/*c5*/pvmatrix.[L-R].txt')\n",
    "# )"
   ]
  },
  {
   "cell_type": "markdown",
   "metadata": {
    "tags": []
   },
   "source": [
    "#### hl60 6h delta_stbl"
   ]
  },
  {
   "cell_type": "code",
   "execution_count": 98,
   "metadata": {
    "tags": []
   },
   "outputs": [
    {
     "name": "stdout",
     "output_type": "stream",
     "text": [
      "Reading matrix ... Done.\n",
      "Start drawing\n",
      "0.22\t-0.22\n",
      "GOBP_STEROL_BIOSYNTHETIC_PROCESS, \n",
      "Outputing EPS file stbl/hl60_6h_delta_stbl.txt_PAGE/hl60_6h_delta_stbl.txt.summary.eps\n",
      "Convert to PDF stbl/hl60_6h_delta_stbl.txt_PAGE/hl60_6h_delta_stbl.txt.summary.pdf\n",
      "Finished.\n",
      "‘stbl/hl60_6h_delta_stbl.txt_PAGE/hl60_6h_delta_stbl.txt.summary.pdf’ -> ‘stbl/hl60_6h_delta_stbl.pdf’\n",
      "removed ‘stbl/hl60_6h_delta_stbl.txt_PAGE/hl60_6h_delta_stbl.txt.summary.eps’\n",
      "removed directory: ‘stbl/hl60_6h_delta_stbl.txt_PAGE’\n"
     ]
    }
   ],
   "source": [
    "study = 'hl60_6h_delta_stbl'\n",
    "\n",
    "pvmat = merge_multiple_pvmat(\n",
    "    pvmat_list = glob(f'stbl/{study}_ind1/*c5.go*/pvmatrix.txt') + glob(f'stbl/{study}_ind1/*c2.cp.kegg*/pvmatrix.txt')\n",
    ")\n",
    "\n",
    "bio_signal = pd.concat([\n",
    "    pvmat2bio_signal(pvmat,side='down',n_clust=1),\n",
    "    pvmat2bio_signal(pvmat,side='up',n_clust=1),\n",
    "    # pvmat2bio_signal(pvmat,side='both'),\n",
    "],axis=0)\n",
    "bio_signal.to_csv(f'stbl/{study}_pvmatrix.txt',sep='\\t')\n",
    "\n",
    "exp_file = f'stbl/{study}.txt'\n",
    "pvmat_file = f'stbl/{study}_pvmatrix.txt'\n",
    "!bash ../ipage_draw_matrix.sh $exp_file $pvmat_file\n",
    "# !rm $pvmat_file"
   ]
  },
  {
   "cell_type": "code",
   "execution_count": 99,
   "metadata": {},
   "outputs": [
    {
     "data": {
      "text/html": [
       "\n",
       "        <iframe\n",
       "            width=\"800\"\n",
       "            height=\"200\"\n",
       "            src=\"stbl/hl60_6h_delta_stbl.pdf\"\n",
       "            frameborder=\"0\"\n",
       "            allowfullscreen\n",
       "        ></iframe>\n",
       "        "
      ],
      "text/plain": [
       "<IPython.lib.display.IFrame at 0x7f7abac077b8>"
      ]
     },
     "execution_count": 99,
     "metadata": {},
     "output_type": "execute_result"
    }
   ],
   "source": [
    "pdf = 'stbl/hl60_6h_delta_stbl.pdf'\n",
    "IFrame(pdf, width=800, height=200)"
   ]
  },
  {
   "cell_type": "code",
   "execution_count": 295,
   "metadata": {},
   "outputs": [
    {
     "name": "stdout",
     "output_type": "stream",
     "text": [
      "[['hl60_6h_delta_stbl_ind0', 'msigdb_v7.4_c5.go'], ['hl60_6h_delta_stbl_ind0', 'msigdb_v7.4_c5.go.bp']]\n",
      "Down\n",
      "{'GOBP_REGULATION_OF_CHOLESTEROL_BIOSYNTHETIC_PROCESS': []}\n",
      "Up\n",
      "{'GOBP_REGULATION_OF_CHOLESTEROL_BIOSYNTHETIC_PROCESS': ['NFYA', 'SQLE', 'FDPS']}\n",
      "{'GOBP_REGULATION_OF_CHOLESTEROL_BIOSYNTHETIC_PROCESS': ['SREBF1', 'FDFT1', 'SCAP', 'PRKAA1', 'ERLIN2', 'FASN', 'SREBF2']}\n"
     ]
    }
   ],
   "source": [
    "gs = 'GOBP_REGULATION_OF_CHOLESTEROL_BIOSYNTHETIC_PROCESS'\n",
    "pvmat_list = glob(f'stbl/{study}_ind0/*c5.go*/pvmatrix.txt')\n",
    "gs_cluster_path = ipd.detect_gs_cluster(pvmat_list, gs=gs)\n",
    "\n",
    "print ([p.split('/')[1:3] for p in gs_cluster_path])\n",
    "\n",
    "gs_cluster_path = gs_cluster_path[1].split('pvmatrix.txt')[0]\n",
    "print ('Down')\n",
    "print (ipd.bin_identifier_genes(gs_cluster_path, '0', gs=gs))\n",
    "print ('Up')\n",
    "print (ipd.bin_identifier_genes(gs_cluster_path, '9', gs=gs))\n",
    "print (ipd.bin_identifier_genes(gs_cluster_path, '10', gs=gs))"
   ]
  },
  {
   "cell_type": "markdown",
   "metadata": {
    "tags": []
   },
   "source": [
    "#### hl60 72h delta_stbl"
   ]
  },
  {
   "cell_type": "code",
   "execution_count": 105,
   "metadata": {
    "tags": []
   },
   "outputs": [
    {
     "name": "stdout",
     "output_type": "stream",
     "text": [
      "Reading matrix ... Done.\n",
      "Cluster rows .. best merge is 0, 2, 0.404334456714884\n",
      "order classes\n",
      "0\n",
      "1\n",
      "2\n",
      "Done.Start drawing\n",
      "0.41\t-0.44\n",
      "GOBP_POSITIVE_REGULATION_OF_CHROMOSOME_ORGANIZATION, \n",
      "GOCC_CATALYTIC_STEP_2_SPLICEOSOME, \n",
      "GOBP_NUCLEOSOME_ORGANIZATION, \n",
      "Outputing EPS file stbl/hl60_72h_delta_stbl.txt_PAGE/hl60_72h_delta_stbl.txt.summary.eps\n",
      "Convert to PDF stbl/hl60_72h_delta_stbl.txt_PAGE/hl60_72h_delta_stbl.txt.summary.pdf\n",
      "Finished.\n",
      "‘stbl/hl60_72h_delta_stbl.txt_PAGE/hl60_72h_delta_stbl.txt.summary.pdf’ -> ‘stbl/hl60_72h_delta_stbl.pdf’\n",
      "removed ‘stbl/hl60_72h_delta_stbl.txt_PAGE/hl60_72h_delta_stbl.txt.summary.eps’\n",
      "removed directory: ‘stbl/hl60_72h_delta_stbl.txt_PAGE’\n"
     ]
    }
   ],
   "source": [
    "study = 'hl60_72h_delta_stbl'\n",
    "\n",
    "pvmat = merge_multiple_pvmat(\n",
    "    pvmat_list = glob(f'stbl/{study}_ind1/*c5.go*/pvmatrix.txt') + glob(f'stbl/{study}_ind1/*c2.cp.kegg*/pvmatrix.txt')\n",
    ")\n",
    "\n",
    "bio_signal = pd.concat([\n",
    "    pvmat2bio_signal(pvmat,side='down',n_clust=1),\n",
    "    pvmat2bio_signal(pvmat,side='down',n_clust=2),\n",
    "    pvmat2bio_signal(pvmat,side='up',n_clust=2),\n",
    "    pvmat2bio_signal(pvmat,side='up',n_clust=1),\n",
    "    pvmat2bio_signal(pvmat,side='both'),\n",
    "],axis=0)\n",
    "bio_signal.to_csv(f'stbl/{study}_pvmatrix.txt',sep='\\t')\n",
    "\n",
    "exp_file = f'stbl/{study}.txt'\n",
    "pvmat_file = f'stbl/{study}_pvmatrix.txt'\n",
    "!bash ../ipage_draw_matrix.sh $exp_file $pvmat_file\n",
    "# !rm $pvmat_file"
   ]
  },
  {
   "cell_type": "code",
   "execution_count": 106,
   "metadata": {},
   "outputs": [
    {
     "data": {
      "text/html": [
       "\n",
       "        <iframe\n",
       "            width=\"800\"\n",
       "            height=\"200\"\n",
       "            src=\"stbl/hl60_72h_delta_stbl.pdf\"\n",
       "            frameborder=\"0\"\n",
       "            allowfullscreen\n",
       "        ></iframe>\n",
       "        "
      ],
      "text/plain": [
       "<IPython.lib.display.IFrame at 0x7f7abac07a58>"
      ]
     },
     "execution_count": 106,
     "metadata": {},
     "output_type": "execute_result"
    }
   ],
   "source": [
    "pdf = 'stbl/hl60_72h_delta_stbl.pdf'\n",
    "IFrame(pdf, width=800, height=200)"
   ]
  },
  {
   "cell_type": "code",
   "execution_count": 104,
   "metadata": {},
   "outputs": [
    {
     "name": "stdout",
     "output_type": "stream",
     "text": [
      "[['hl60_72h_delta_stbl_ind0', 'msigdb_v7.4_c5.go'], ['hl60_72h_delta_stbl_ind0', 'msigdb_v7.4_c5.go.cc']]\n",
      "Down\n",
      "{'GOCC_CATALYTIC_STEP_2_SPLICEOSOME': []}\n",
      "Up\n",
      "{'GOCC_CATALYTIC_STEP_2_SPLICEOSOME': ['SNW1', 'SF3B1']}\n",
      "{'GOCC_CATALYTIC_STEP_2_SPLICEOSOME': ['PABPC1', 'CDC5L', 'HNRNPM', 'PRPF4B', 'HNRNPA2B1', 'HNRNPR', 'SNRPN', 'SRRM1', 'SNRNP200', 'RBMX', 'HNRNPA3']}\n"
     ]
    }
   ],
   "source": [
    "gs = 'GOCC_CATALYTIC_STEP_2_SPLICEOSOME'\n",
    "pvmat_list = glob(f'stbl/{study}_ind0/*c5.go*/pvmatrix.txt')\n",
    "gs_cluster_path = ipd.detect_gs_cluster(pvmat_list, gs=gs)\n",
    "\n",
    "print ([p.split('/')[1:3] for p in gs_cluster_path])\n",
    "\n",
    "gs_cluster_path = gs_cluster_path[1].split('pvmatrix.txt')[0]\n",
    "print ('Down')\n",
    "print (ipd.bin_identifier_genes(gs_cluster_path, '0', gs=gs))\n",
    "print ('Up')\n",
    "print (ipd.bin_identifier_genes(gs_cluster_path, '9', gs=gs))\n",
    "print (ipd.bin_identifier_genes(gs_cluster_path, '10', gs=gs))"
   ]
  },
  {
   "cell_type": "markdown",
   "metadata": {
    "tags": []
   },
   "source": [
    "#### hl60 120h delta_stbl"
   ]
  },
  {
   "cell_type": "code",
   "execution_count": 108,
   "metadata": {
    "tags": []
   },
   "outputs": [
    {
     "name": "stdout",
     "output_type": "stream",
     "text": [
      "Reading matrix ... Done.\n",
      "Cluster rows .. best merge is 0, 1, 0\n",
      "order classes\n",
      "0\n",
      "1\n",
      "2\n",
      "3\n",
      "Done.Start drawing\n",
      "0.4\t-0.44\n",
      "GOBP_RESPONSE_TO_STEROL, \n",
      "GOMF_TRANSMEMBRANE_RECEPTOR_PROTEIN_KINASE_ACTIVITY, \n",
      "GOBP_POSITIVE_REGULATION_OF_WNT_SIGNALING_PATHWAY, \n",
      "GOBP_POSITIVE_REGULATION_OF_WNT_SIGNALING_PATHWAY, \n",
      "Outputing EPS file stbl/hl60_120h_delta_stbl.txt_PAGE/hl60_120h_delta_stbl.txt.summary.eps\n",
      "Convert to PDF stbl/hl60_120h_delta_stbl.txt_PAGE/hl60_120h_delta_stbl.txt.summary.pdf\n",
      "Finished.\n",
      "‘stbl/hl60_120h_delta_stbl.txt_PAGE/hl60_120h_delta_stbl.txt.summary.pdf’ -> ‘stbl/hl60_120h_delta_stbl.pdf’\n",
      "removed ‘stbl/hl60_120h_delta_stbl.txt_PAGE/hl60_120h_delta_stbl.txt.summary.eps’\n",
      "removed directory: ‘stbl/hl60_120h_delta_stbl.txt_PAGE’\n"
     ]
    }
   ],
   "source": [
    "study = 'hl60_120h_delta_stbl'\n",
    "\n",
    "pvmat = merge_multiple_pvmat(\n",
    "    pvmat_list = glob(f'stbl/{study}_ind1/*c5.go*/pvmatrix.txt') + glob(f'stbl/{study}_ind1/*c2.cp.kegg*/pvmatrix.txt')\n",
    ")\n",
    "\n",
    "bio_signal = pd.concat([\n",
    "    pvmat2bio_signal(pvmat,side='down',n_clust=1),\n",
    "    pvmat2bio_signal(pvmat,side='down',n_clust=2),\n",
    "    pvmat2bio_signal(pvmat,side='up',n_clust=2),\n",
    "    pvmat2bio_signal(pvmat,side='up',n_clust=1),\n",
    "    pvmat2bio_signal(pvmat,side='both'),\n",
    "],axis=0)\n",
    "bio_signal.to_csv(f'stbl/{study}_pvmatrix.txt',sep='\\t')\n",
    "\n",
    "exp_file = f'stbl/{study}.txt'\n",
    "pvmat_file = f'stbl/{study}_pvmatrix.txt'\n",
    "!bash ../ipage_draw_matrix.sh $exp_file $pvmat_file\n",
    "# !rm $pvmat_file"
   ]
  },
  {
   "cell_type": "code",
   "execution_count": 109,
   "metadata": {},
   "outputs": [
    {
     "data": {
      "text/html": [
       "\n",
       "        <iframe\n",
       "            width=\"800\"\n",
       "            height=\"200\"\n",
       "            src=\"stbl/hl60_120h_delta_stbl.pdf\"\n",
       "            frameborder=\"0\"\n",
       "            allowfullscreen\n",
       "        ></iframe>\n",
       "        "
      ],
      "text/plain": [
       "<IPython.lib.display.IFrame at 0x7f7abac07b38>"
      ]
     },
     "execution_count": 109,
     "metadata": {},
     "output_type": "execute_result"
    }
   ],
   "source": [
    "pdf = 'stbl/hl60_120h_delta_stbl.pdf'\n",
    "IFrame(pdf, width=800, height=200)"
   ]
  },
  {
   "cell_type": "code",
   "execution_count": null,
   "metadata": {},
   "outputs": [],
   "source": []
  },
  {
   "cell_type": "code",
   "execution_count": 303,
   "metadata": {},
   "outputs": [
    {
     "name": "stdout",
     "output_type": "stream",
     "text": [
      "[['hl60_120h_delta_stbl_ind0', 'msigdb_v7.4_c5.go'], ['hl60_120h_delta_stbl_ind0', 'msigdb_v7.4_c5.go.bp']]\n",
      "Down\n",
      "{'GOBP_RESPONSE_TO_STEROL': []}\n",
      "Up\n",
      "{'GOBP_RESPONSE_TO_STEROL': ['TGFBR2']}\n",
      "{'GOBP_RESPONSE_TO_STEROL': ['GRAMD1B', 'TGFBR1', 'LRP8', 'SMAD2', 'CES1']}\n"
     ]
    }
   ],
   "source": [
    "gs = 'GOBP_RESPONSE_TO_STEROL'\n",
    "pvmat_list = glob(f'stbl/{study}_ind0/*c5.go*/pvmatrix.txt')\n",
    "gs_cluster_path = ipd.detect_gs_cluster(pvmat_list, gs=gs)\n",
    "\n",
    "print ([p.split('/')[1:3] for p in gs_cluster_path])\n",
    "\n",
    "gs_cluster_path = gs_cluster_path[1].split('pvmatrix.txt')[0]\n",
    "print ('Down')\n",
    "print (ipd.bin_identifier_genes(gs_cluster_path, '0', gs=gs))\n",
    "print ('Up')\n",
    "print (ipd.bin_identifier_genes(gs_cluster_path, '9', gs=gs))\n",
    "print (ipd.bin_identifier_genes(gs_cluster_path, '10', gs=gs))"
   ]
  },
  {
   "cell_type": "code",
   "execution_count": null,
   "metadata": {},
   "outputs": [],
   "source": []
  },
  {
   "cell_type": "code",
   "execution_count": 302,
   "metadata": {},
   "outputs": [],
   "source": [
    "# ind1 = 'hl60_120h_delta_stbl_ind1'\n",
    "# ipd.clean_bins_range(\n",
    "#     pd.concat([\n",
    "#         ipd.read_pvmatrix(f'stbl/{ind1}/msigdb_v7.4_c5.all/pvmatrix.L.txt'),\n",
    "#         ipd.read_pvmatrix(f'stbl/{ind1}/msigdb_v7.4_c5.all/pvmatrix.R.txt')\n",
    "#     ])\n",
    "# ).drop_duplicates().to_csv(f\"stbl/{ind1.replace('_ind1','_pvmatrix')}.txt\",sep = '\\t')"
   ]
  },
  {
   "cell_type": "markdown",
   "metadata": {
    "jp-MarkdownHeadingCollapsed": true,
    "tags": []
   },
   "source": [
    "#### molm14_delta_stbl_ind1"
   ]
  },
  {
   "cell_type": "code",
   "execution_count": 26,
   "metadata": {},
   "outputs": [],
   "source": [
    "ind1 = 'molm14_delta_stbl_ind1'\n",
    "ipd.clean_bins_range(\n",
    "    pd.concat([\n",
    "        ipd.read_pvmatrix(f'stbl/{ind1}/msigdb_v7.4_c5.all/pvmatrix.L.txt'),\n",
    "        ipd.read_pvmatrix(f'stbl/{ind1}/msigdb_v7.4_c5.all/pvmatrix.R.txt')\n",
    "    ])\n",
    ").drop_duplicates().to_csv(f\"stbl/{ind1.replace('_ind1','_pvmatrix')}.txt\",sep = '\\t')"
   ]
  },
  {
   "cell_type": "markdown",
   "metadata": {
    "jp-MarkdownHeadingCollapsed": true,
    "tags": []
   },
   "source": [
    "#### ociaml2_delta_stbl_ind1"
   ]
  },
  {
   "cell_type": "code",
   "execution_count": 27,
   "metadata": {},
   "outputs": [],
   "source": [
    "ind1 = 'ociaml2_delta_stbl_ind1'\n",
    "ipd.clean_bins_range(\n",
    "    pd.concat([\n",
    "        ipd.read_pvmatrix(f'stbl/{ind1}/msigdb_v7.4_c5.all/pvmatrix.L.txt'),\n",
    "        ipd.read_pvmatrix(f'stbl/{ind1}/msigdb_v7.4_c5.all/pvmatrix.R.txt')\n",
    "    ])\n",
    ").drop_duplicates().to_csv(f\"stbl/{ind1.replace('_ind1','_pvmatrix')}.txt\",sep = '\\t')"
   ]
  },
  {
   "cell_type": "markdown",
   "metadata": {
    "jp-MarkdownHeadingCollapsed": true,
    "tags": []
   },
   "source": [
    "#### ociaml3_delta_stbl_ind1"
   ]
  },
  {
   "cell_type": "code",
   "execution_count": 28,
   "metadata": {},
   "outputs": [],
   "source": [
    "ind1 = 'ociaml3_delta_stbl_ind1'\n",
    "ipd.clean_bins_range(\n",
    "    pd.concat([\n",
    "        ipd.read_pvmatrix(f'stbl/{ind1}/msigdb_v7.4_c5.all/pvmatrix.L.txt'),\n",
    "        ipd.read_pvmatrix(f'stbl/{ind1}/msigdb_v7.4_c5.all/pvmatrix.R.txt')\n",
    "    ])\n",
    ").drop_duplicates().to_csv(f\"stbl/{ind1.replace('_ind1','_pvmatrix')}.txt\",sep = '\\t')"
   ]
  },
  {
   "cell_type": "markdown",
   "metadata": {
    "jp-MarkdownHeadingCollapsed": true,
    "tags": []
   },
   "source": [
    "#### kg1_delta_stbl_ind1"
   ]
  },
  {
   "cell_type": "code",
   "execution_count": 29,
   "metadata": {},
   "outputs": [],
   "source": [
    "ind1 = 'kg1_delta_stbl_ind1'\n",
    "ipd.clean_bins_range(\n",
    "    pd.concat([\n",
    "        ipd.read_pvmatrix(f'stbl/{ind1}/msigdb_v7.4_c5.all/pvmatrix.L.txt'),\n",
    "        ipd.read_pvmatrix(f'stbl/{ind1}/msigdb_v7.4_c5.all/pvmatrix.R.txt')\n",
    "    ])\n",
    ").drop_duplicates().to_csv(f\"stbl/{ind1.replace('_ind1','_pvmatrix')}.txt\",sep = '\\t')"
   ]
  },
  {
   "cell_type": "markdown",
   "metadata": {
    "jp-MarkdownHeadingCollapsed": true,
    "tags": []
   },
   "source": [
    "#### thp1_delta_stbl_ind1"
   ]
  },
  {
   "cell_type": "code",
   "execution_count": 30,
   "metadata": {},
   "outputs": [],
   "source": [
    "ind1 = 'thp1_delta_stbl_ind1'\n",
    "ipd.clean_bins_range(\n",
    "    pd.concat([\n",
    "        ipd.read_pvmatrix(f'stbl/{ind1}/msigdb_v7.4_c5.all/pvmatrix.L.txt'),\n",
    "        ipd.read_pvmatrix(f'stbl/{ind1}/msigdb_v7.4_c5.all/pvmatrix.R.txt')\n",
    "    ])\n",
    ").drop_duplicates().to_csv(f\"stbl/{ind1.replace('_ind1','_pvmatrix')}.txt\",sep = '\\t')"
   ]
  },
  {
   "cell_type": "markdown",
   "metadata": {},
   "source": [
    "___"
   ]
  },
  {
   "cell_type": "code",
   "execution_count": 31,
   "metadata": {},
   "outputs": [
    {
     "name": "stdout",
     "output_type": "stream",
     "text": [
      "Reading matrix ... Done.\n",
      "Cluster rows .. best merge is 1, 3, 0.413997434319903\n",
      "order classes\n",
      "0\n",
      "1\n",
      "2\n",
      "3\n",
      "Done.Start drawing\n",
      "0.4\t-0.44\n",
      "GOBP_RESPONSE_TO_STEROL, \n",
      "GOBP_RECEPTOR_SIGNALING_PATHWAY_VIA_STAT, \n",
      "GOBP_REGULATION_OF_MITOCHONDRION_ORGANIZATION, \n",
      "GOBP_POSITIVE_REGULATION_OF_WNT_SIGNALING_PATHWAY, \n",
      "Outputing EPS file hl60_120h_delta_stbl.txt_PAGE/hl60_120h_delta_stbl.txt.summary.eps\n",
      "Convert to PDF hl60_120h_delta_stbl.txt_PAGE/hl60_120h_delta_stbl.txt.summary.pdf\n",
      "Finished.\n",
      "‘hl60_120h_delta_stbl.txt_PAGE/hl60_120h_delta_stbl.txt.summary.pdf’ -> ‘hl60_120h_delta_stbl.pdf’\n",
      "removed ‘hl60_120h_delta_stbl.txt_PAGE/hl60_120h_delta_stbl.txt.summary.eps’\n",
      "removed directory: ‘hl60_120h_delta_stbl.txt_PAGE’\n",
      "Reading matrix ... Done.\n",
      "Start drawing\n",
      "0.22\t-0.22\n",
      "GOBP_STEROL_BIOSYNTHETIC_PROCESS, \n",
      "HP_HIGHLY_ARCHED_EYEBROW, \n",
      "Outputing EPS file hl60_6h_delta_stbl.txt_PAGE/hl60_6h_delta_stbl.txt.summary.eps\n",
      "Convert to PDF hl60_6h_delta_stbl.txt_PAGE/hl60_6h_delta_stbl.txt.summary.pdf\n",
      "Finished.\n",
      "‘hl60_6h_delta_stbl.txt_PAGE/hl60_6h_delta_stbl.txt.summary.pdf’ -> ‘hl60_6h_delta_stbl.pdf’\n",
      "removed ‘hl60_6h_delta_stbl.txt_PAGE/hl60_6h_delta_stbl.txt.summary.eps’\n",
      "removed directory: ‘hl60_6h_delta_stbl.txt_PAGE’\n",
      "Reading matrix ... Done.\n",
      "Cluster rows .. best merge is 0, 2, 0.370487261190336\n",
      "order classes\n",
      "0\n",
      "1\n",
      "2\n",
      "Done.Start drawing\n",
      "0.41\t-0.44\n",
      "GOCC_CATALYTIC_STEP_2_SPLICEOSOME, \n",
      "GOBP_NUCLEOSOME_ORGANIZATION, \n",
      "GOBP_POSITIVE_REGULATION_OF_CHROMOSOME_ORGANIZATION, \n",
      "Outputing EPS file hl60_72h_delta_stbl.txt_PAGE/hl60_72h_delta_stbl.txt.summary.eps\n",
      "Convert to PDF hl60_72h_delta_stbl.txt_PAGE/hl60_72h_delta_stbl.txt.summary.pdf\n",
      "Finished.\n",
      "‘hl60_72h_delta_stbl.txt_PAGE/hl60_72h_delta_stbl.txt.summary.pdf’ -> ‘hl60_72h_delta_stbl.pdf’\n",
      "removed ‘hl60_72h_delta_stbl.txt_PAGE/hl60_72h_delta_stbl.txt.summary.eps’\n",
      "removed directory: ‘hl60_72h_delta_stbl.txt_PAGE’\n",
      "Reading matrix ... Done.\n",
      "Cluster rows .. best merge is 1, 2, 0.0688743646742659\n",
      "order classes\n",
      "0\n",
      "1\n",
      "2\n",
      "Done.Start drawing\n",
      "0.27\t-0.26\n",
      "GOCC_GOLGI_CISTERNA_MEMBRANE, \n",
      "GOBP_CELLULAR_RESPONSE_TO_CORTICOSTEROID_STIMULUS, \n",
      "HP_DECREASED_ACTIVITY_OF_MITOCHONDRIAL_COMPLEX_I, \n",
      "Outputing EPS file kg1_delta_stbl.txt_PAGE/kg1_delta_stbl.txt.summary.eps\n",
      "Convert to PDF kg1_delta_stbl.txt_PAGE/kg1_delta_stbl.txt.summary.pdf\n",
      "Finished.\n",
      "‘kg1_delta_stbl.txt_PAGE/kg1_delta_stbl.txt.summary.pdf’ -> ‘kg1_delta_stbl.pdf’\n",
      "removed ‘kg1_delta_stbl.txt_PAGE/kg1_delta_stbl.txt.summary.eps’\n",
      "removed directory: ‘kg1_delta_stbl.txt_PAGE’\n",
      "Reading matrix ... Done.\n",
      "Start drawing\n",
      "0.39\t-0.39\n",
      "GOBP_L_AMINO_ACID_TRANSPORT, \n",
      "GOBP_ANAPHASE_PROMOTING_COMPLEX_DEPENDENT_CATABOLIC_PROCESS, \n",
      "Outputing EPS file molm14_delta_stbl.txt_PAGE/molm14_delta_stbl.txt.summary.eps\n",
      "Convert to PDF molm14_delta_stbl.txt_PAGE/molm14_delta_stbl.txt.summary.pdf\n",
      "Finished.\n",
      "‘molm14_delta_stbl.txt_PAGE/molm14_delta_stbl.txt.summary.pdf’ -> ‘molm14_delta_stbl.pdf’\n",
      "removed ‘molm14_delta_stbl.txt_PAGE/molm14_delta_stbl.txt.summary.eps’\n",
      "removed directory: ‘molm14_delta_stbl.txt_PAGE’\n",
      "Reading matrix ... Done.\n",
      "Start drawing\n",
      "0.28\t-0.28\n",
      "GOBP_CHONDROCYTE_DIFFERENTIATION, \n",
      "Outputing EPS file ociaml2_delta_stbl.txt_PAGE/ociaml2_delta_stbl.txt.summary.eps\n",
      "Convert to PDF ociaml2_delta_stbl.txt_PAGE/ociaml2_delta_stbl.txt.summary.pdf\n",
      "Finished.\n",
      "‘ociaml2_delta_stbl.txt_PAGE/ociaml2_delta_stbl.txt.summary.pdf’ -> ‘ociaml2_delta_stbl.pdf’\n",
      "removed ‘ociaml2_delta_stbl.txt_PAGE/ociaml2_delta_stbl.txt.summary.eps’\n",
      "removed directory: ‘ociaml2_delta_stbl.txt_PAGE’\n",
      "Reading matrix ... Done.\n",
      "Start drawing\n",
      "0.47\t-0.41\n",
      "GOBP_MUCOPOLYSACCHARIDE_METABOLIC_PROCESS, \n",
      "GOCC_FICOLIN_1_RICH_GRANULE, \n",
      "Outputing EPS file ociaml3_delta_stbl.txt_PAGE/ociaml3_delta_stbl.txt.summary.eps\n",
      "Convert to PDF ociaml3_delta_stbl.txt_PAGE/ociaml3_delta_stbl.txt.summary.pdf\n",
      "Finished.\n",
      "‘ociaml3_delta_stbl.txt_PAGE/ociaml3_delta_stbl.txt.summary.pdf’ -> ‘ociaml3_delta_stbl.pdf’\n",
      "removed ‘ociaml3_delta_stbl.txt_PAGE/ociaml3_delta_stbl.txt.summary.eps’\n",
      "removed directory: ‘ociaml3_delta_stbl.txt_PAGE’\n",
      "Reading matrix ... Done.\n",
      "Cluster rows .. best merge is 1, 2, 0.443004148749303\n",
      "order classes\n",
      "0\n",
      "1\n",
      "2\n",
      "Done.Start drawing\n",
      "0.28\t-0.28\n",
      "GOBP_COTRANSLATIONAL_PROTEIN_TARGETING_TO_MEMBRANE, \n",
      "GOBP_NEGATIVE_REGULATION_OF_RNA_SPLICING, \n",
      "GOMF_CHAPERONE_BINDING, \n",
      "Outputing EPS file thp1_delta_stbl.txt_PAGE/thp1_delta_stbl.txt.summary.eps\n",
      "Convert to PDF thp1_delta_stbl.txt_PAGE/thp1_delta_stbl.txt.summary.pdf\n",
      "Finished.\n",
      "‘thp1_delta_stbl.txt_PAGE/thp1_delta_stbl.txt.summary.pdf’ -> ‘thp1_delta_stbl.pdf’\n",
      "removed ‘thp1_delta_stbl.txt_PAGE/thp1_delta_stbl.txt.summary.eps’\n",
      "removed directory: ‘thp1_delta_stbl.txt_PAGE’\n"
     ]
    }
   ],
   "source": [
    "%%bash \n",
    "cd stbl\n",
    "for exp in *delta_stbl.txt; do \n",
    "    pv=${exp/.txt/_pvmatrix.txt};\n",
    "    bash ../../ipage_draw_matrix.sh $exp $pv;\n",
    "done\n",
    "cd ../"
   ]
  },
  {
   "cell_type": "markdown",
   "metadata": {
    "tags": []
   },
   "source": [
    "## Load iPAGE results - iPAGE-down"
   ]
  },
  {
   "cell_type": "code",
   "execution_count": null,
   "metadata": {},
   "outputs": [],
   "source": [
    "import upsetplot as us\n",
    "\n",
    "from matplotlib.backends.backend_pdf import PdfPages"
   ]
  },
  {
   "cell_type": "code",
   "execution_count": 156,
   "metadata": {},
   "outputs": [],
   "source": [
    "def read_ipage_intersections_file(gs_cluster_path,gs=None):\n",
    "    with open(f'{gs_cluster_path}/output.ipage_intersections') as raw:\n",
    "        lines = [line for line in raw.read().splitlines()]\n",
    "        if gs: \n",
    "            lines = [line.split('\\t') for line in lines if re.search(gs, line)][1:]\n",
    "        else:\n",
    "            lines = [line.split('\\t') for line in lines][1:]\n",
    "\n",
    "        left  = dict([(line[0].split(' ')[0],line[2:]) for line in lines if line[1] == '0' ])\n",
    "        right = dict([(line[0].split(' ')[0],line[2:]) for line in lines if line[1] == '10'])\n",
    "\n",
    "    return left,right"
   ]
  },
  {
   "cell_type": "code",
   "execution_count": 450,
   "metadata": {},
   "outputs": [],
   "source": [
    "def make_empty_genes_dict(pws,data):\n",
    "    genes = dict.fromkeys(pws)\n",
    "    for k in genes:\n",
    "        genes[k]=dict.fromkeys(data)\n",
    "        for j in genes[k]: genes[k][j]= {}\n",
    "    return genes"
   ]
  },
  {
   "cell_type": "markdown",
   "metadata": {
    "jp-MarkdownHeadingCollapsed": true,
    "tags": []
   },
   "source": [
    "### $\\Delta$Expression"
   ]
  },
  {
   "cell_type": "code",
   "execution_count": 121,
   "metadata": {},
   "outputs": [],
   "source": [
    "data = dict(\n",
    "    [(exp.split('/')[1].replace('_delta_exp_ind0',''),ipd.make_ipage_run_data_frame(exp)) for exp in glob('exp/*delta_exp_ind0/')]\n",
    ")"
   ]
  },
  {
   "cell_type": "code",
   "execution_count": 122,
   "metadata": {},
   "outputs": [],
   "source": [
    "hl60_data = dict([(time,data[time]) for time in ['hl60_120h','hl60_72h','hl60_6h']])"
   ]
  },
  {
   "cell_type": "code",
   "execution_count": 118,
   "metadata": {},
   "outputs": [],
   "source": [
    "# del data['hl60_120h']\n",
    "# del data['hl60_72h']\n",
    "# del data['hl60_6h']\n",
    "\n",
    "# Exp_up = dict([(\n",
    "#     line,\n",
    "#     # to make it unique pathway accross different msigdb clusters\n",
    "#     # list(dict(\n",
    "#         data[line][data[line].iloc[:,10] > 2].sort_index(level='gs_cluster').index.tolist()\n",
    "# # )\n",
    "#     # .items()\n",
    "#     # )\n",
    "# ) for line in data])\n",
    "\n",
    "# Exp_dn = dict([(\n",
    "#     line,\n",
    "#     # to make it unique pathway accross different msigdb clusters\n",
    "#     # list(dict(data[line].index[data[line].iloc[:,0] > 2].tolist()).items())\n",
    "#     data[line][data[line].iloc[:,0] > 2].sort_index(level='gs_cluster').index.tolist()\n",
    "    \n",
    "# ) for line in data])"
   ]
  },
  {
   "cell_type": "code",
   "execution_count": 420,
   "metadata": {
    "scrolled": true
   },
   "outputs": [],
   "source": [
    "# fig, ((ax1,ax2,ax3,ax4)) = subplots(ncols=2, nrows=1, figsize=(20, 10),dpi=300)\n",
    "\n",
    "# for std,ax in zip(['Exp_dn', 'Exp_up', 'Stbl_dn', 'Stbl_up'],[ax1,ax2,ax3,ax4]):\n",
    "#     venn(eval(std),fontsize=6,\n",
    "# #          legend_loc=None,  \n",
    "#          legend_loc=\"lower left\",  \n",
    "#          ax=ax)\n",
    "#     ax.set_title(std,fontsize=15)\n",
    "\n",
    "# fig.savefig('cell-line-consistency-Venn.pdf')\n",
    "# plt.show()"
   ]
  },
  {
   "cell_type": "markdown",
   "metadata": {
    "tags": []
   },
   "source": [
    "#### UpSetPlot\n",
    "\n",
    "https://upsetplot.readthedocs.io/en/stable/\n"
   ]
  },
  {
   "cell_type": "code",
   "execution_count": 124,
   "metadata": {},
   "outputs": [],
   "source": [
    "# fig1 = plt.figure()\n",
    "# upset1 = us.UpSet(\n",
    "#     us.from_contents(Exp_dn),\n",
    "#     min_degree=3,        \n",
    "#     orientation='horizontal',show_counts=True\n",
    "# )\n",
    "# upset1.style_subsets(present='hl60_72h_only',edgecolor=\"red\",linewidth=2)\n",
    "# upset1.plot(fig=fig1)\n",
    "# plt.title('Exp_dn',fontsize=20)\n",
    "# pdf.savefig()\n",
    "\n",
    "# fig2 = plt.figure()\n",
    "# upset2 = us.UpSet(\n",
    "#     us.from_contents(Exp_up),\n",
    "#     min_degree=3,        \n",
    "#     orientation='horizontal',show_counts=True)\n",
    "# upset2.style_subsets(present='hl60_72h_only',edgecolor=\"red\",linewidth=2)\n",
    "# upset2.plot(fig=fig2)\n",
    "# plt.title('Exp_up',fontsize=20)\n",
    "# pdf.savefig()\n"
   ]
  },
  {
   "cell_type": "code",
   "execution_count": 116,
   "metadata": {},
   "outputs": [],
   "source": [
    "# cat exp/hl60_120h_delta_exp/msigdb_v7.4_c5.all/pvmatrix.txt.killed"
   ]
  },
  {
   "cell_type": "code",
   "execution_count": 125,
   "metadata": {},
   "outputs": [],
   "source": [
    "# pws = set.intersection(*[{'::'.join(pw) for pw in Exp_up[val]} for val in Exp_up])\n",
    "# pws "
   ]
  },
  {
   "cell_type": "markdown",
   "metadata": {
    "tags": []
   },
   "source": [
    "#### See genes within the commonly enriched pathway "
   ]
  },
  {
   "cell_type": "code",
   "execution_count": 126,
   "metadata": {
    "tags": []
   },
   "outputs": [],
   "source": [
    "# left_genes = make_empty_genes_dict(pws,data)\n",
    "# right_genes= make_empty_genes_dict(pws,data)\n",
    "\n",
    "# for pw in pws:\n",
    "#     gs, gs_cluster = pw.split('::')\n",
    "#     print (30*'==')\n",
    "#     print(gs, gs_cluster)\n",
    "#     for exp in data:\n",
    "#         print (exp)\n",
    "#         l,r = read_ipage_intersections_file(\n",
    "#             f'exp/{exp}_delta_exp/{gs_cluster}', gs\n",
    "#         )\n",
    "        \n",
    "#         if len(l) > 0:\n",
    "#             print(f'left: {l[gs]}')\n",
    "#             left_genes[pw][exp] = l[gs]\n",
    "\n",
    "#         if len(r) > 0:\n",
    "#             print(f'right: {r[gs]}')\n",
    "#             right_genes[pw][exp] = r[gs]\n",
    "\n",
    "#         print (30*'--')    "
   ]
  },
  {
   "cell_type": "code",
   "execution_count": 127,
   "metadata": {},
   "outputs": [],
   "source": [
    "# for pw in right_genes:\n",
    "#     fig = plt.figure()\n",
    "#     upset = us.UpSet(\n",
    "#         us.from_contents(right_genes[pw]),\n",
    "#         min_degree=3,\n",
    "#         orientation='horizontal',show_counts=True\n",
    "#     )\n",
    "#     upset.style_subsets(present='hl60_72h_only',edgecolor=\"red\",linewidth=2)\n",
    "#     upset.plot(fig=fig)\n",
    "#     plt.title(pw,fontsize=20)\n",
    "#     plt.show()\n",
    "#     # pdf.savefig()"
   ]
  },
  {
   "cell_type": "markdown",
   "metadata": {
    "tags": []
   },
   "source": [
    "### $\\Delta$Stability"
   ]
  },
  {
   "cell_type": "code",
   "execution_count": 327,
   "metadata": {},
   "outputs": [],
   "source": [
    "pvmat_list = [pvmat for gs in [\n",
    "    # 'msigdb_v7.4_c5.all',\n",
    "    'msigdb_v7.4_c5.go',\n",
    "    'msigdb_v7.4_c5.go.bp',\n",
    "    'msigdb_v7.4_c5.go.mf',\n",
    "    # 'msigdb_v7.4_c2.cp.biocarta',\n",
    "    'msigdb_v7.4_c2.cp.reactome',\n",
    "    'msigdb_v7.4_h.all'\n",
    "    # 'msigdb_v7.4_c2.cp.wikipathways'\n",
    "] for pvmat in glob(f'stbl/*delta_stbl_ind0/{gs}/pvmatrix.[L-R].txt')]"
   ]
  },
  {
   "cell_type": "code",
   "execution_count": 328,
   "metadata": {},
   "outputs": [],
   "source": [
    "data = dict(\n",
    "    [(pvmat.split('/')[1].replace('_delta_stbl_ind0',''),{}) for pvmat in pvmat_list]\n",
    ")"
   ]
  },
  {
   "cell_type": "code",
   "execution_count": 329,
   "metadata": {},
   "outputs": [],
   "source": [
    "for cell in data: \n",
    "    data[cell] = ipd.merge_multiple_pvmat(\n",
    "        [pvmat for pvmat in pvmat_list if cell in pvmat]\n",
    "    )"
   ]
  },
  {
   "cell_type": "code",
   "execution_count": 330,
   "metadata": {},
   "outputs": [],
   "source": [
    "# set(data['hl60_6h'].index)"
   ]
  },
  {
   "cell_type": "code",
   "execution_count": 331,
   "metadata": {},
   "outputs": [],
   "source": [
    "# set(data['hl60_72h'].index)"
   ]
  },
  {
   "cell_type": "code",
   "execution_count": 332,
   "metadata": {},
   "outputs": [],
   "source": [
    "# set(data['hl60_120h'].index)"
   ]
  },
  {
   "cell_type": "code",
   "execution_count": 333,
   "metadata": {},
   "outputs": [],
   "source": [
    "# hl60_df = pd.concat([\n",
    "#     hl60_data['hl60_120h'].query('gs_cluster == @var') for var in [\n",
    "#     ]\n",
    "# ])"
   ]
  },
  {
   "cell_type": "code",
   "execution_count": 334,
   "metadata": {},
   "outputs": [],
   "source": [
    "# ipd.read_pvmatrix_killed('hl60_delta_mtyl/msigdb_v7.4_c2.cp.biocarta')['BIOCARTA_VDR_PATHWAY']"
   ]
  },
  {
   "cell_type": "code",
   "execution_count": 335,
   "metadata": {},
   "outputs": [],
   "source": [
    "upset_data = {}\n",
    "for cell in data: \n",
    "    for bin_n, direction in zip([10,0],['Up','Down']):\n",
    "        upset_data[f'{cell}_{direction}'] = set(data[cell][data[cell].iloc[:,bin_n] > 2].index)"
   ]
  },
  {
   "cell_type": "markdown",
   "metadata": {
    "jp-MarkdownHeadingCollapsed": true,
    "tags": []
   },
   "source": [
    "#### UpSetPlot\n",
    "\n",
    "https://upsetplot.readthedocs.io/en/stable/\n"
   ]
  },
  {
   "cell_type": "code",
   "execution_count": 336,
   "metadata": {},
   "outputs": [],
   "source": [
    "# # with PdfPages('cell-line-consistency-UpSet.pdf') as pdf:\n",
    "# fig = plt.figure()\n",
    "# upset = us.UpSet(us.from_contents(upset_data),\n",
    "#                  min_degree=2,\n",
    "#                  orientation='horizontal',show_counts=True)\n",
    "# upset.plot(fig=fig)\n",
    "# # plt.title('Stbl_dn',fontsize=20)\n",
    "# # pdf.savefig()\n",
    "# plt.show()"
   ]
  },
  {
   "cell_type": "code",
   "execution_count": 337,
   "metadata": {},
   "outputs": [],
   "source": [
    "# cat exp/hl60_120h_delta_exp/msigdb_v7.4_c5.all/pvmatrix.txt.killed"
   ]
  },
  {
   "cell_type": "markdown",
   "metadata": {
    "tags": []
   },
   "source": [
    "#### Sterol biology"
   ]
  },
  {
   "cell_type": "code",
   "execution_count": 338,
   "metadata": {},
   "outputs": [
    {
     "name": "stdout",
     "output_type": "stream",
     "text": [
      "[['hl60_6h_delta_stbl_ind0', 'msigdb_v7.4_c5.go'], ['hl60_6h_delta_stbl_ind0', 'msigdb_v7.4_c5.go.bp']]\n",
      "Down\n",
      "{'GOBP_REGULATION_OF_CHOLESTEROL_METABOLIC_PROCESS': []}\n",
      "Up\n",
      "{'GOBP_REGULATION_OF_CHOLESTEROL_METABOLIC_PROCESS': ['NFYA', 'SQLE', 'FDPS']}\n",
      "{'GOBP_REGULATION_OF_CHOLESTEROL_METABOLIC_PROCESS': ['SREBF1', 'FDFT1', 'SCAP', 'PRKAA1', 'ERLIN2', 'FASN', 'SREBF2']}\n"
     ]
    }
   ],
   "source": [
    "# gs = 'GOBP_REGULATION_OF_CHOLESTEROL_BIOSYNTHETIC_PROCESS'\n",
    "\n",
    "gs = 'GOBP_REGULATION_OF_CHOLESTEROL_METABOLIC_PROCESS'\n",
    "\n",
    "gs_cluster_path = ipd.detect_gs_cluster(pvmat_list, gs=gs)\n",
    "\n",
    "print ([p.split('/')[1:3] for p in gs_cluster_path])\n",
    "\n",
    "gs_cluster_path = gs_cluster_path[1].split('pvmatrix.R.txt')[0]\n",
    "print ('Down')\n",
    "print (ipd.bin_identifier_genes(gs_cluster_path, '0', gs=gs))\n",
    "print ('Up')\n",
    "print (ipd.bin_identifier_genes(gs_cluster_path, '9', gs=gs))\n",
    "print (ipd.bin_identifier_genes(gs_cluster_path, '10', gs=gs))"
   ]
  },
  {
   "cell_type": "code",
   "execution_count": 339,
   "metadata": {},
   "outputs": [
    {
     "name": "stdout",
     "output_type": "stream",
     "text": [
      "[['hl60_6h_delta_stbl_ind0', 'msigdb_v7.4_c5.go'], ['hl60_6h_delta_stbl_ind0', 'msigdb_v7.4_c5.go.bp']]\n",
      "Down\n",
      "{'GOBP_STEROL_BIOSYNTHETIC_PROCESS': []}\n",
      "Up\n",
      "{'GOBP_STEROL_BIOSYNTHETIC_PROCESS': ['NFYA', 'SQLE', 'DHCR24', 'ACLY', 'FDPS']}\n",
      "{'GOBP_STEROL_BIOSYNTHETIC_PROCESS': ['SREBF1', 'FDFT1', 'SCAP', 'PRKAA1', 'ERLIN2', 'FASN', 'SREBF2']}\n"
     ]
    }
   ],
   "source": [
    "gs = 'GOBP_STEROL_BIOSYNTHETIC_PROCESS'\n",
    "\n",
    "gs_cluster_path = ipd.detect_gs_cluster(pvmat_list, gs=gs)\n",
    "\n",
    "print ([p.split('/')[1:3] for p in gs_cluster_path])\n",
    "\n",
    "gs_cluster_path = gs_cluster_path[1].split('pvmatrix.R.txt')[0]\n",
    "print ('Down')\n",
    "print (ipd.bin_identifier_genes(gs_cluster_path, '0', gs=gs))\n",
    "print ('Up')\n",
    "print (ipd.bin_identifier_genes(gs_cluster_path, '9', gs=gs))\n",
    "print (ipd.bin_identifier_genes(gs_cluster_path, '10', gs=gs))"
   ]
  },
  {
   "cell_type": "code",
   "execution_count": 340,
   "metadata": {},
   "outputs": [
    {
     "name": "stdout",
     "output_type": "stream",
     "text": [
      "[['hl60_120h_delta_stbl_ind0', 'msigdb_v7.4_c5.go'], ['hl60_120h_delta_stbl_ind0', 'msigdb_v7.4_c5.go.bp']]\n",
      "Down\n",
      "{'GOBP_RESPONSE_TO_STEROL': []}\n",
      "Up\n",
      "{'GOBP_RESPONSE_TO_STEROL': ['TGFBR2']}\n",
      "{'GOBP_RESPONSE_TO_STEROL': ['GRAMD1B', 'TGFBR1', 'LRP8', 'SMAD2', 'CES1']}\n"
     ]
    }
   ],
   "source": [
    "gs = 'GOBP_RESPONSE_TO_STEROL'\n",
    "\n",
    "gs_cluster_path = ipd.detect_gs_cluster(pvmat_list, gs=gs)\n",
    "\n",
    "print ([p.split('/')[1:3] for p in gs_cluster_path])\n",
    "\n",
    "gs_cluster_path = gs_cluster_path[1].split('pvmatrix.R.txt')[0]\n",
    "print ('Down')\n",
    "print (ipd.bin_identifier_genes(gs_cluster_path, '0', gs=gs))\n",
    "print ('Up')\n",
    "print (ipd.bin_identifier_genes(gs_cluster_path, '9', gs=gs))\n",
    "print (ipd.bin_identifier_genes(gs_cluster_path, '10', gs=gs))"
   ]
  },
  {
   "cell_type": "markdown",
   "metadata": {
    "tags": []
   },
   "source": [
    "#### HALLMARK_OXIDATIVE_PHOSPHORYLATION"
   ]
  },
  {
   "cell_type": "code",
   "execution_count": 353,
   "metadata": {},
   "outputs": [
    {
     "name": "stdout",
     "output_type": "stream",
     "text": [
      "[['hl60_6h_delta_stbl_ind0', 'msigdb_v7.4_h.all']]\n",
      "Down\n",
      "{'HALLMARK_OXIDATIVE_PHOSPHORYLATION': []}\n",
      "{'HALLMARK_OXIDATIVE_PHOSPHORYLATION': ['SLC25A3', 'DECR1', 'ATP6V0E1', 'NDUFS4']}\n",
      "{'HALLMARK_OXIDATIVE_PHOSPHORYLATION': []}\n",
      "{'HALLMARK_OXIDATIVE_PHOSPHORYLATION': ['MDH1', 'NDUFS1', 'CS', 'OGDH', 'HSPA9', 'ABCB7', 'IMMT', 'IDH1']}\n",
      "{'HALLMARK_OXIDATIVE_PHOSPHORYLATION': ['TOMM70', 'NDUFV2']}\n",
      "{'HALLMARK_OXIDATIVE_PHOSPHORYLATION': ['SDHA', 'GPI', 'CPT1A', 'TCIRG1', 'NNT', 'MTRR', 'HADHB', 'AFG3L2', 'COX6C']}\n"
     ]
    }
   ],
   "source": [
    "gs = 'HALLMARK_OXIDATIVE_PHOSPHORYLATION'\n",
    "\n",
    "gs_cluster_path = ipd.detect_gs_cluster(pvmat_list, gs=gs)\n",
    "\n",
    "print ([p.split('/')[1:3] for p in gs_cluster_path])\n",
    "\n",
    "gs_cluster_path = gs_cluster_path[0].split('pvmatrix.R.txt')[0]\n",
    "print ('Down')\n",
    "print (ipd.bin_identifier_genes(gs_cluster_path, '0', gs=gs))\n",
    "print (ipd.bin_identifier_genes(gs_cluster_path, '1', gs=gs))\n",
    "print (ipd.bin_identifier_genes(gs_cluster_path, '2', gs=gs))\n",
    "# print ('Up')\n",
    "print (ipd.bin_identifier_genes(gs_cluster_path, '8', gs=gs))\n",
    "print (ipd.bin_identifier_genes(gs_cluster_path, '9', gs=gs))\n",
    "print (ipd.bin_identifier_genes(gs_cluster_path, '10', gs=gs))"
   ]
  },
  {
   "cell_type": "markdown",
   "metadata": {
    "tags": []
   },
   "source": [
    "#### WNT"
   ]
  },
  {
   "cell_type": "code",
   "execution_count": 347,
   "metadata": {},
   "outputs": [
    {
     "name": "stdout",
     "output_type": "stream",
     "text": [
      "[['hl60_120h_delta_stbl_ind0', 'msigdb_v7.4_c5.go'], ['hl60_120h_delta_stbl_ind0', 'msigdb_v7.4_c5.go.bp']]\n",
      "Down\n",
      "{'GOBP_POSITIVE_REGULATION_OF_CANONICAL_WNT_SIGNALING_PATHWAY': ['PSMA3', 'PSMA6', 'PSMD11', 'NFKB1', 'CSNK1D', 'TBL1XR1', 'PSMD13', 'PSMD12']}\n",
      "{'GOBP_POSITIVE_REGULATION_OF_CANONICAL_WNT_SIGNALING_PATHWAY': ['TNKS2', 'PSMD14', 'PSMF1', 'PSMB7', 'VCP', 'CSNK1G1', 'TNKS', 'PSMD1', 'FAM53B']}\n"
     ]
    }
   ],
   "source": [
    "gs = 'GOBP_POSITIVE_REGULATION_OF_CANONICAL_WNT_SIGNALING_PATHWAY'\n",
    "\n",
    "gs_cluster_path = ipd.detect_gs_cluster(pvmat_list, gs=gs)\n",
    "\n",
    "print ([p.split('/')[1:3] for p in gs_cluster_path])\n",
    "\n",
    "gs_cluster_path = gs_cluster_path[0].split('pvmatrix.L.txt')[0]\n",
    "print ('Down')\n",
    "print (ipd.bin_identifier_genes(gs_cluster_path, '0', gs=gs))\n",
    "print (ipd.bin_identifier_genes(gs_cluster_path, '1', gs=gs))\n",
    "# print (ipd.bin_identifier_genes(gs_cluster_path, '2', gs=gs))\n",
    "# print ('Up')\n",
    "# print (ipd.bin_identifier_genes(gs_cluster_path, '8', gs=gs))\n",
    "# print (ipd.bin_identifier_genes(gs_cluster_path, '9', gs=gs))\n",
    "# print (ipd.bin_identifier_genes(gs_cluster_path, '10', gs=gs))"
   ]
  },
  {
   "cell_type": "code",
   "execution_count": 346,
   "metadata": {},
   "outputs": [
    {
     "name": "stdout",
     "output_type": "stream",
     "text": [
      "[['hl60_120h_delta_stbl_ind0', 'msigdb_v7.4_c5.go'], ['hl60_120h_delta_stbl_ind0', 'msigdb_v7.4_c5.go.bp']]\n",
      "Down\n",
      "{'GOBP_POSITIVE_REGULATION_OF_WNT_SIGNALING_PATHWAY': ['PSMA3', 'PSMA6', 'CSNK2A1', 'PSMD11', 'NFKB1', 'CSNK1D', 'SKI', 'TBL1XR1', 'PSMD13', 'PSMD12']}\n",
      "{'GOBP_POSITIVE_REGULATION_OF_WNT_SIGNALING_PATHWAY': ['TNKS2', 'PSMD14', 'PSMF1', 'PSMB7', 'VCP', 'CSNK1G1', 'TNKS', 'PSMD1', 'FAM53B']}\n"
     ]
    }
   ],
   "source": [
    "gs = 'GOBP_POSITIVE_REGULATION_OF_WNT_SIGNALING_PATHWAY'\n",
    "\n",
    "gs_cluster_path = ipd.detect_gs_cluster(pvmat_list, gs=gs)\n",
    "\n",
    "print ([p.split('/')[1:3] for p in gs_cluster_path])\n",
    "\n",
    "gs_cluster_path = gs_cluster_path[0].split('pvmatrix.L.txt')[0]\n",
    "print ('Down')\n",
    "print (ipd.bin_identifier_genes(gs_cluster_path, '0', gs=gs))\n",
    "print (ipd.bin_identifier_genes(gs_cluster_path, '1', gs=gs))\n",
    "# print (ipd.bin_identifier_genes(gs_cluster_path, '2', gs=gs))\n",
    "# print ('Up')\n",
    "# print (ipd.bin_identifier_genes(gs_cluster_path, '8', gs=gs))\n",
    "# print (ipd.bin_identifier_genes(gs_cluster_path, '9', gs=gs))\n",
    "# print (ipd.bin_identifier_genes(gs_cluster_path, '10', gs=gs))"
   ]
  },
  {
   "cell_type": "markdown",
   "metadata": {},
   "source": [
    "#### CSNK1D\n",
    "> In fact, CK1δ phosphorylates a main regulator of DNA methylation, the ubiquitin-like containing PHD and RING finger domains 1 protein (UHRF1), on Ser-108, increasing its proteasomal degradation.\n",
    "https://en.wikipedia.org/wiki/CSNK1D#Cellular_functions"
   ]
  },
  {
   "cell_type": "markdown",
   "metadata": {
    "tags": []
   },
   "source": [
    "#### other pathways"
   ]
  },
  {
   "cell_type": "code",
   "execution_count": 247,
   "metadata": {},
   "outputs": [
    {
     "name": "stdout",
     "output_type": "stream",
     "text": [
      "[['hl60_120h_delta_stbl_ind0', 'msigdb_v7.4_c2.cp.reactome'], ['thp1_delta_stbl_ind0', 'msigdb_v7.4_c2.cp.reactome']]\n",
      "Down\n",
      "[['EIF4G1', 'RPS17'], []]\n",
      "Up\n",
      "[['EIF3L', 'EIF3D', 'RPS19', 'EIF3B', 'EIF4H', 'RPS6', 'RPS24', 'EIF3M', 'RPS4X'], ['EIF4B', 'PABPC1', 'RPS12', 'RPS4Y1', 'EIF2S3', 'EIF4E', 'RPSA', 'RPS23', 'RPS18']]\n"
     ]
    }
   ],
   "source": [
    "gs = 'REACTOME_ACTIVATION_OF_THE_MRNA_UPON_BINDING_OF_THE_CAP_BINDING_COMPLEX_AND_EIFS_AND_SUBSEQUENT_BINDING_TO_43S'\n",
    "\n",
    "gs_cluster_path = ipd.detect_gs_cluster(pvmat_list, gs=gs)\n",
    "\n",
    "print ([p.split('/')[1:3] for p in gs_cluster_path])\n",
    "\n",
    "gs_cluster_path = gs_cluster_path[0].split('pvmatrix.R.txt')[0]\n",
    "print ('Down')\n",
    "print (list(ipd.bin_identifier_genes(gs_cluster_path, '0', gs=gs).values())+list(ipd.bin_identifier_genes(gs_cluster_path, '1', gs=gs).values()))# print (ipd.bin_identifier_genes(gs_cluster_path, '1', gs=gs))\n",
    "\n",
    "print ('Up')\n",
    "print (list(ipd.bin_identifier_genes(gs_cluster_path, '9', gs=gs).values())+list(ipd.bin_identifier_genes(gs_cluster_path, '10', gs=gs).values()))"
   ]
  },
  {
   "cell_type": "markdown",
   "metadata": {
    "tags": []
   },
   "source": [
    "___\n",
    "# "
   ]
  },
  {
   "cell_type": "code",
   "execution_count": 273,
   "metadata": {},
   "outputs": [
    {
     "name": "stdout",
     "output_type": "stream",
     "text": [
      "Tue Feb  8 17:38:38 PST 2022\n"
     ]
    }
   ],
   "source": [
    "!date"
   ]
  }
 ],
 "metadata": {
  "kernelspec": {
   "display_name": "Python [conda env:down]",
   "language": "python",
   "name": "conda-env-down-py"
  },
  "language_info": {
   "codemirror_mode": {
    "name": "ipython",
    "version": 3
   },
   "file_extension": ".py",
   "mimetype": "text/x-python",
   "name": "python",
   "nbconvert_exporter": "python",
   "pygments_lexer": "ipython3",
   "version": "3.6.13"
  }
 },
 "nbformat": 4,
 "nbformat_minor": 4
}
