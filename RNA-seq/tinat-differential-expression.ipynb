{
 "cells": [
  {
   "cell_type": "markdown",
   "metadata": {
    "jp-MarkdownHeadingCollapsed": true,
    "tags": []
   },
   "source": [
    "## Decitabine treatment RNA-Seq experiments\n",
    "- #### [Decitabine treatment time-series RNA-Seq experiments in HL60 cell line](#Decitabine-treatment-time-series-RNA-Seq-experiments-in-HL60-cell-line)\n",
    "- #### [Decitabine treatment RNA-Seq experiments in 5 other AML cell lines](#Decitabine-treatment-RNA-Seq-experiments-in-5-other-AML-cell-lines)"
   ]
  },
  {
   "cell_type": "markdown",
   "metadata": {
    "tags": []
   },
   "source": [
    "## Load packages, functions and main data"
   ]
  },
  {
   "cell_type": "code",
   "execution_count": 1,
   "metadata": {},
   "outputs": [],
   "source": [
    "# %load_ext rpy2.ipython"
   ]
  },
  {
   "cell_type": "code",
   "execution_count": 1,
   "metadata": {},
   "outputs": [],
   "source": [
    "# %%R \n",
    "suppressMessages(suppressWarnings(library (GenomicFeatures)))\n",
    "suppressMessages(suppressWarnings(library (tximport)))\n",
    "suppressMessages(suppressWarnings(library (tidyverse)))\n",
    "suppressMessages(suppressWarnings(library (ggplot2)))\n",
    "suppressMessages(suppressWarnings(library (ggrepel)))\n",
    "suppressMessages(suppressWarnings(library (DESeq2)))\n",
    "suppressMessages(suppressWarnings(library (patchwork)))\n",
    "suppressMessages(suppressWarnings(library (BiocParallel)))\n",
    "suppressMessages(suppressWarnings(library (gridExtra)))\n",
    "library(grid)\n",
    "\n",
    "register(MulticoreParam(18))"
   ]
  },
  {
   "cell_type": "code",
   "execution_count": 2,
   "metadata": {},
   "outputs": [],
   "source": [
    "source('../scripts/util.R')"
   ]
  },
  {
   "cell_type": "code",
   "execution_count": 3,
   "metadata": {},
   "outputs": [],
   "source": [
    "# Filter non-informative genes:\n",
    "filter_low_counts <- function (dds_in , min_count=10){\n",
    "    # all samples with a count of higher than `min_count`\n",
    "    keep <- rowSums(counts(dds_in ) > min_count) == ncol(dds_in )\n",
    "    dds_out <- dds_in [keep,]\n",
    "    print (paste (nrow(dds_in), 'genes filtered to ->' , nrow(dds_out),'genes!', sep=' ') )\n",
    "    return (dds_out)\n",
    "}\n",
    "\n",
    "\n",
    "plot_PCA <- function(vsd, colData, labels='', gr=c('cond'), title='', leg=\"none\"){\n",
    "    z <- plotPCA(vsd,intgroup=gr, returnData=TRUE)\n",
    "    percentVar <- round(100 * attr(z, \"percentVar\"))\n",
    "    pca <- ggplot(z, aes(PC1, PC2)) +\n",
    "            geom_point(aes(colour=group), alpha = 4/10,size=12) + \n",
    "            geom_point(shape = 1,size = 12,colour = \"black\") + \n",
    "            # geom_point(\n",
    "            #     aes(color=group), \n",
    "            #     \n",
    "            # size=10,\n",
    "            # stroke = 0.5\n",
    "            # ) +\n",
    "            geom_text_repel(\n",
    "                aes(label = labels),\n",
    "                box.padding = 1.5, max.overlaps = Inf\n",
    "            ) + #,size = 3.5)) +\n",
    "            xlab(paste0(\"PC1: \",percentVar[1],\"% variance\")) +\n",
    "            ylab(paste0(\"PC2: \",percentVar[2],\"% variance\")) +\n",
    "            ggtitle (title) + \n",
    "            scale_colour_Publication() + \n",
    "            theme_Publication(legend.position='top') +\n",
    "            guides (size = 'none') + theme(legend.title = element_blank()) \n",
    "    return (pca)\n",
    "}"
   ]
  },
  {
   "cell_type": "code",
   "execution_count": 4,
   "metadata": {},
   "outputs": [],
   "source": [
    "write_Result <- function(res, name_it, col=FALSE, row=FALSE){\n",
    "    write.table(res,name_it, sep=\"\\t\", quote=FALSE, col.names=col, row.names=row)\n",
    "}\n",
    "\n",
    "\n",
    "correct_batch <- function (dds,gr,out,labels='',title=''){\n",
    "    vsd <- varianceStabilizingTransformation(dds, blind=FALSE)\n",
    "    p0 <- plot_PCA(vsd, gr, labels=labels,title=paste0(title,' Before removeBatchEffect'))\n",
    "    mat <- assay(vsd)\n",
    "    \n",
    "    mat <- limma::removeBatchEffect(mat, vsd$reps) # batch is same as time \n",
    "    assay(vsd) <- mat\n",
    "    p1 <- plot_PCA(vsd, gr, labels=labels,title=paste0(title,' After removeBatchEffect'))\n",
    "    counts_batch_corrected <- assay(vsd)\n",
    "    \n",
    "    if (out == 'plot') {return (p0 + p1)}\n",
    "    if (out == 'plot1'){return (p1)}\n",
    "    if (out == 'vsd')  {return (vsd)}\n",
    "    if (out == 'cbc')  {return (counts_batch_corrected)}\n",
    "}\n",
    "\n",
    "\n",
    "ann_Result <- function(res){\n",
    "    return (\n",
    "        res %>% data.frame %>% \n",
    "        add_column(gene_name=gene2name[rownames(res),]) %>%\n",
    "        add_column(gene_id=rownames(res)) %>% \n",
    "        select (gene_id,gene_name,everything())\n",
    "    )\n",
    "}\n",
    "\n",
    "plot_gene_counts <- function (dds, gene_id,gene_name){\n",
    "    fiss <- plotCounts(dds, gene_id, intgroup = c(\"cond\"), returnData = TRUE)\n",
    "\n",
    "    p <- ggplot(fiss,\n",
    "      aes(x = cond, y = count, color = cond)) + \n",
    "      geom_point(size=5,alpha=8/10) + stat_summary(fun=mean, geom=\"line\") +\n",
    "      scale_y_log10() + \n",
    "      theme_bw() + \n",
    "      ggtitle(gene_name)\n",
    "    \n",
    "    return (p + theme_Publication())\n",
    "}"
   ]
  },
  {
   "cell_type": "markdown",
   "metadata": {},
   "source": [
    "Load annotations"
   ]
  },
  {
   "cell_type": "code",
   "execution_count": 6,
   "metadata": {},
   "outputs": [
    {
     "name": "stderr",
     "output_type": "stream",
     "text": [
      "Import genomic features from the file as a GRanges object ... \n",
      "OK\n",
      "\n",
      "Prepare the 'metadata' data frame ... \n",
      "OK\n",
      "\n",
      "Make the TxDb object ... \n",
      "Warning message in .get_cds_IDX(mcols0$type, mcols0$phase):\n",
      "“The \"phase\" metadata column contains non-NA values for features of type\n",
      "  stop_codon. This information was ignored.”\n",
      "OK\n",
      "\n",
      "'select()' returned 1:1 mapping between keys and columns\n",
      "\n"
     ]
    }
   ],
   "source": [
    "# %%R \n",
    "txdb.hg19  = makeTxDbFromGFF('../scallop-genome/hg19/hg19.knownGene.gtf', organism='Homo sapiens')\n",
    "\n",
    "tin_1 <- rtracklayer::import('../scallop-genome/tinat/DAC+SB_TINATs.gtf')%>% data.frame %>% filter(type == \"transcript\") %>% dplyr::select('gene_id','transcript_id')\n",
    "tin_2 <- rtracklayer::import('../scallop-genome/tinat/DAC_TINATs.gtf')   %>% data.frame %>% filter(type == \"transcript\") %>% dplyr::select('gene_id','transcript_id')\n",
    "tin_3 <- rtracklayer::import('../scallop-genome/tinat/SB939_TINATs.gtf') %>% data.frame %>% filter(type == \"transcript\") %>% dplyr::select('gene_id','transcript_id')\n",
    "tins <- rbind(tin_1, tin_2,tin_3) \n",
    "colnames(tins) <- c(\"GENEID\", \"TXNAME\")\n",
    "\n",
    "# tx2gene objects \n",
    "k.hg19 <- keys(txdb.hg19, keytype = \"TXNAME\")\n",
    "tx2gene.hg19 <- AnnotationDbi::select(txdb.hg19, k.hg19, \"GENEID\", \"TXNAME\")\n",
    "\n",
    "tx2gene = rbind(tx2gene.hg19, tins)"
   ]
  },
  {
   "cell_type": "code",
   "execution_count": 134,
   "metadata": {},
   "outputs": [
    {
     "name": "stderr",
     "output_type": "stream",
     "text": [
      "  744 genes were dropped because they have exons located on both strands\n",
      "  of the same reference sequence or on more than one reference sequence,\n",
      "  so cannot be represented by a single genomic range.\n",
      "  Use 'single.strand.genes.only=FALSE' to get all the genes in a\n",
      "  GRangesList object, or use suppressMessages() to suppress this message.\n",
      "\n"
     ]
    }
   ],
   "source": [
    "genes_df = genes(txdb.hg19) %>% data.frame "
   ]
  },
  {
   "cell_type": "markdown",
   "metadata": {
    "tags": []
   },
   "source": [
    "## General analysis"
   ]
  },
  {
   "cell_type": "markdown",
   "metadata": {},
   "source": [
    "List every salmon quant files"
   ]
  },
  {
   "cell_type": "code",
   "execution_count": 9,
   "metadata": {},
   "outputs": [],
   "source": [
    "# %%R\n",
    "files <- list.files(path='tinat/quants', pattern=\"quant.sf\",full.names = TRUE, recursive=T)\n",
    "names(files) <- gsub(\"tinat/quants/(\\\\S+)/quant.sf\",\"\\\\1\",files)"
   ]
  },
  {
   "cell_type": "code",
   "execution_count": 10,
   "metadata": {},
   "outputs": [
    {
     "name": "stdout",
     "output_type": "stream",
     "text": [
      "[1] \"tinat/quants/hl60_120h_t_1/quant.sf\"\n",
      "[1] \"tinat/quants/hl60_120h_t_2/quant.sf\"\n",
      "[1] \"tinat/quants/hl60_120h_u_1/quant.sf\"\n",
      "[1] \"tinat/quants/hl60_120h_u_2/quant.sf\"\n",
      "[1] \"tinat/quants/hl60_6h_t_1/quant.sf\"\n",
      "[1] \"tinat/quants/hl60_6h_t_2/quant.sf\"\n",
      "[1] \"tinat/quants/hl60_6h_u_1/quant.sf\"\n",
      "[1] \"tinat/quants/hl60_6h_u_2/quant.sf\"\n",
      "[1] \"tinat/quants/hl60_72h_t_1/quant.sf\"\n",
      "[1] \"tinat/quants/hl60_72h_t_2/quant.sf\"\n",
      "[1] \"tinat/quants/hl60_72h_u_1/quant.sf\"\n",
      "[1] \"tinat/quants/hl60_72h_u_2/quant.sf\"\n",
      "[1] \"tinat/quants/kg1_t_1/quant.sf\"\n",
      "[1] \"tinat/quants/kg1_t_2/quant.sf\"\n",
      "[1] \"tinat/quants/kg1_t_3/quant.sf\"\n",
      "[1] \"tinat/quants/kg1_u_1/quant.sf\"\n",
      "[1] \"tinat/quants/kg1_u_2/quant.sf\"\n",
      "[1] \"tinat/quants/kg1_u_3/quant.sf\"\n",
      "[1] \"tinat/quants/molm14_t_1/quant.sf\"\n",
      "[1] \"tinat/quants/molm14_t_2/quant.sf\"\n",
      "[1] \"tinat/quants/molm14_t_3/quant.sf\"\n",
      "[1] \"tinat/quants/molm14_u_1/quant.sf\"\n",
      "[1] \"tinat/quants/molm14_u_2/quant.sf\"\n",
      "[1] \"tinat/quants/molm14_u_3/quant.sf\"\n",
      "[1] \"tinat/quants/ociaml2_t_1/quant.sf\"\n",
      "[1] \"tinat/quants/ociaml2_t_2/quant.sf\"\n",
      "[1] \"tinat/quants/ociaml2_t_3/quant.sf\"\n",
      "[1] \"tinat/quants/ociaml2_u_1/quant.sf\"\n",
      "[1] \"tinat/quants/ociaml2_u_2/quant.sf\"\n",
      "[1] \"tinat/quants/ociaml2_u_3/quant.sf\"\n",
      "[1] \"tinat/quants/ociaml3_t_1/quant.sf\"\n",
      "[1] \"tinat/quants/ociaml3_t_2/quant.sf\"\n",
      "[1] \"tinat/quants/ociaml3_t_3/quant.sf\"\n",
      "[1] \"tinat/quants/ociaml3_u_1/quant.sf\"\n",
      "[1] \"tinat/quants/ociaml3_u_2/quant.sf\"\n",
      "[1] \"tinat/quants/ociaml3_u_3/quant.sf\"\n",
      "[1] \"tinat/quants/thp1_t_1/quant.sf\"\n",
      "[1] \"tinat/quants/thp1_t_2/quant.sf\"\n",
      "[1] \"tinat/quants/thp1_t_3/quant.sf\"\n",
      "[1] \"tinat/quants/thp1_u_1/quant.sf\"\n",
      "[1] \"tinat/quants/thp1_u_2/quant.sf\"\n",
      "[1] \"tinat/quants/thp1_u_3/quant.sf\"\n"
     ]
    }
   ],
   "source": [
    "for (f in files){print(f)}"
   ]
  },
  {
   "cell_type": "code",
   "execution_count": 11,
   "metadata": {},
   "outputs": [
    {
     "data": {
      "text/html": [
       "<style>\n",
       ".dl-inline {width: auto; margin:0; padding: 0}\n",
       ".dl-inline>dt, .dl-inline>dd {float: none; width: auto; display: inline-block}\n",
       ".dl-inline>dt::after {content: \":\\0020\"; padding-right: .5ex}\n",
       ".dl-inline>dt:not(:first-of-type) {padding-left: .5ex}\n",
       "</style><dl class=dl-inline><dt>hl60_120h_t_1</dt><dd>'tinat/quants/hl60_120h_t_1/quant.sf'</dd><dt>hl60_120h_t_2</dt><dd>'tinat/quants/hl60_120h_t_2/quant.sf'</dd><dt>hl60_120h_u_1</dt><dd>'tinat/quants/hl60_120h_u_1/quant.sf'</dd><dt>hl60_120h_u_2</dt><dd>'tinat/quants/hl60_120h_u_2/quant.sf'</dd><dt>hl60_6h_t_1</dt><dd>'tinat/quants/hl60_6h_t_1/quant.sf'</dd><dt>hl60_6h_t_2</dt><dd>'tinat/quants/hl60_6h_t_2/quant.sf'</dd><dt>hl60_6h_u_1</dt><dd>'tinat/quants/hl60_6h_u_1/quant.sf'</dd><dt>hl60_6h_u_2</dt><dd>'tinat/quants/hl60_6h_u_2/quant.sf'</dd><dt>hl60_72h_t_1</dt><dd>'tinat/quants/hl60_72h_t_1/quant.sf'</dd><dt>hl60_72h_t_2</dt><dd>'tinat/quants/hl60_72h_t_2/quant.sf'</dd><dt>hl60_72h_u_1</dt><dd>'tinat/quants/hl60_72h_u_1/quant.sf'</dd><dt>hl60_72h_u_2</dt><dd>'tinat/quants/hl60_72h_u_2/quant.sf'</dd><dt>kg1_t_1</dt><dd>'tinat/quants/kg1_t_1/quant.sf'</dd><dt>kg1_t_2</dt><dd>'tinat/quants/kg1_t_2/quant.sf'</dd><dt>kg1_t_3</dt><dd>'tinat/quants/kg1_t_3/quant.sf'</dd><dt>kg1_u_1</dt><dd>'tinat/quants/kg1_u_1/quant.sf'</dd><dt>kg1_u_2</dt><dd>'tinat/quants/kg1_u_2/quant.sf'</dd><dt>kg1_u_3</dt><dd>'tinat/quants/kg1_u_3/quant.sf'</dd><dt>molm14_t_1</dt><dd>'tinat/quants/molm14_t_1/quant.sf'</dd><dt>molm14_t_2</dt><dd>'tinat/quants/molm14_t_2/quant.sf'</dd><dt>molm14_t_3</dt><dd>'tinat/quants/molm14_t_3/quant.sf'</dd><dt>molm14_u_1</dt><dd>'tinat/quants/molm14_u_1/quant.sf'</dd><dt>molm14_u_2</dt><dd>'tinat/quants/molm14_u_2/quant.sf'</dd><dt>molm14_u_3</dt><dd>'tinat/quants/molm14_u_3/quant.sf'</dd><dt>ociaml2_t_1</dt><dd>'tinat/quants/ociaml2_t_1/quant.sf'</dd><dt>ociaml2_t_2</dt><dd>'tinat/quants/ociaml2_t_2/quant.sf'</dd><dt>ociaml2_t_3</dt><dd>'tinat/quants/ociaml2_t_3/quant.sf'</dd><dt>ociaml2_u_1</dt><dd>'tinat/quants/ociaml2_u_1/quant.sf'</dd><dt>ociaml2_u_2</dt><dd>'tinat/quants/ociaml2_u_2/quant.sf'</dd><dt>ociaml2_u_3</dt><dd>'tinat/quants/ociaml2_u_3/quant.sf'</dd><dt>ociaml3_t_1</dt><dd>'tinat/quants/ociaml3_t_1/quant.sf'</dd><dt>ociaml3_t_2</dt><dd>'tinat/quants/ociaml3_t_2/quant.sf'</dd><dt>ociaml3_t_3</dt><dd>'tinat/quants/ociaml3_t_3/quant.sf'</dd><dt>ociaml3_u_1</dt><dd>'tinat/quants/ociaml3_u_1/quant.sf'</dd><dt>ociaml3_u_2</dt><dd>'tinat/quants/ociaml3_u_2/quant.sf'</dd><dt>ociaml3_u_3</dt><dd>'tinat/quants/ociaml3_u_3/quant.sf'</dd><dt>thp1_t_1</dt><dd>'tinat/quants/thp1_t_1/quant.sf'</dd><dt>thp1_t_2</dt><dd>'tinat/quants/thp1_t_2/quant.sf'</dd><dt>thp1_t_3</dt><dd>'tinat/quants/thp1_t_3/quant.sf'</dd><dt>thp1_u_1</dt><dd>'tinat/quants/thp1_u_1/quant.sf'</dd><dt>thp1_u_2</dt><dd>'tinat/quants/thp1_u_2/quant.sf'</dd><dt>thp1_u_3</dt><dd>'tinat/quants/thp1_u_3/quant.sf'</dd></dl>\n"
      ],
      "text/latex": [
       "\\begin{description*}\n",
       "\\item[hl60\\textbackslash{}\\_120h\\textbackslash{}\\_t\\textbackslash{}\\_1] 'tinat/quants/hl60\\_120h\\_t\\_1/quant.sf'\n",
       "\\item[hl60\\textbackslash{}\\_120h\\textbackslash{}\\_t\\textbackslash{}\\_2] 'tinat/quants/hl60\\_120h\\_t\\_2/quant.sf'\n",
       "\\item[hl60\\textbackslash{}\\_120h\\textbackslash{}\\_u\\textbackslash{}\\_1] 'tinat/quants/hl60\\_120h\\_u\\_1/quant.sf'\n",
       "\\item[hl60\\textbackslash{}\\_120h\\textbackslash{}\\_u\\textbackslash{}\\_2] 'tinat/quants/hl60\\_120h\\_u\\_2/quant.sf'\n",
       "\\item[hl60\\textbackslash{}\\_6h\\textbackslash{}\\_t\\textbackslash{}\\_1] 'tinat/quants/hl60\\_6h\\_t\\_1/quant.sf'\n",
       "\\item[hl60\\textbackslash{}\\_6h\\textbackslash{}\\_t\\textbackslash{}\\_2] 'tinat/quants/hl60\\_6h\\_t\\_2/quant.sf'\n",
       "\\item[hl60\\textbackslash{}\\_6h\\textbackslash{}\\_u\\textbackslash{}\\_1] 'tinat/quants/hl60\\_6h\\_u\\_1/quant.sf'\n",
       "\\item[hl60\\textbackslash{}\\_6h\\textbackslash{}\\_u\\textbackslash{}\\_2] 'tinat/quants/hl60\\_6h\\_u\\_2/quant.sf'\n",
       "\\item[hl60\\textbackslash{}\\_72h\\textbackslash{}\\_t\\textbackslash{}\\_1] 'tinat/quants/hl60\\_72h\\_t\\_1/quant.sf'\n",
       "\\item[hl60\\textbackslash{}\\_72h\\textbackslash{}\\_t\\textbackslash{}\\_2] 'tinat/quants/hl60\\_72h\\_t\\_2/quant.sf'\n",
       "\\item[hl60\\textbackslash{}\\_72h\\textbackslash{}\\_u\\textbackslash{}\\_1] 'tinat/quants/hl60\\_72h\\_u\\_1/quant.sf'\n",
       "\\item[hl60\\textbackslash{}\\_72h\\textbackslash{}\\_u\\textbackslash{}\\_2] 'tinat/quants/hl60\\_72h\\_u\\_2/quant.sf'\n",
       "\\item[kg1\\textbackslash{}\\_t\\textbackslash{}\\_1] 'tinat/quants/kg1\\_t\\_1/quant.sf'\n",
       "\\item[kg1\\textbackslash{}\\_t\\textbackslash{}\\_2] 'tinat/quants/kg1\\_t\\_2/quant.sf'\n",
       "\\item[kg1\\textbackslash{}\\_t\\textbackslash{}\\_3] 'tinat/quants/kg1\\_t\\_3/quant.sf'\n",
       "\\item[kg1\\textbackslash{}\\_u\\textbackslash{}\\_1] 'tinat/quants/kg1\\_u\\_1/quant.sf'\n",
       "\\item[kg1\\textbackslash{}\\_u\\textbackslash{}\\_2] 'tinat/quants/kg1\\_u\\_2/quant.sf'\n",
       "\\item[kg1\\textbackslash{}\\_u\\textbackslash{}\\_3] 'tinat/quants/kg1\\_u\\_3/quant.sf'\n",
       "\\item[molm14\\textbackslash{}\\_t\\textbackslash{}\\_1] 'tinat/quants/molm14\\_t\\_1/quant.sf'\n",
       "\\item[molm14\\textbackslash{}\\_t\\textbackslash{}\\_2] 'tinat/quants/molm14\\_t\\_2/quant.sf'\n",
       "\\item[molm14\\textbackslash{}\\_t\\textbackslash{}\\_3] 'tinat/quants/molm14\\_t\\_3/quant.sf'\n",
       "\\item[molm14\\textbackslash{}\\_u\\textbackslash{}\\_1] 'tinat/quants/molm14\\_u\\_1/quant.sf'\n",
       "\\item[molm14\\textbackslash{}\\_u\\textbackslash{}\\_2] 'tinat/quants/molm14\\_u\\_2/quant.sf'\n",
       "\\item[molm14\\textbackslash{}\\_u\\textbackslash{}\\_3] 'tinat/quants/molm14\\_u\\_3/quant.sf'\n",
       "\\item[ociaml2\\textbackslash{}\\_t\\textbackslash{}\\_1] 'tinat/quants/ociaml2\\_t\\_1/quant.sf'\n",
       "\\item[ociaml2\\textbackslash{}\\_t\\textbackslash{}\\_2] 'tinat/quants/ociaml2\\_t\\_2/quant.sf'\n",
       "\\item[ociaml2\\textbackslash{}\\_t\\textbackslash{}\\_3] 'tinat/quants/ociaml2\\_t\\_3/quant.sf'\n",
       "\\item[ociaml2\\textbackslash{}\\_u\\textbackslash{}\\_1] 'tinat/quants/ociaml2\\_u\\_1/quant.sf'\n",
       "\\item[ociaml2\\textbackslash{}\\_u\\textbackslash{}\\_2] 'tinat/quants/ociaml2\\_u\\_2/quant.sf'\n",
       "\\item[ociaml2\\textbackslash{}\\_u\\textbackslash{}\\_3] 'tinat/quants/ociaml2\\_u\\_3/quant.sf'\n",
       "\\item[ociaml3\\textbackslash{}\\_t\\textbackslash{}\\_1] 'tinat/quants/ociaml3\\_t\\_1/quant.sf'\n",
       "\\item[ociaml3\\textbackslash{}\\_t\\textbackslash{}\\_2] 'tinat/quants/ociaml3\\_t\\_2/quant.sf'\n",
       "\\item[ociaml3\\textbackslash{}\\_t\\textbackslash{}\\_3] 'tinat/quants/ociaml3\\_t\\_3/quant.sf'\n",
       "\\item[ociaml3\\textbackslash{}\\_u\\textbackslash{}\\_1] 'tinat/quants/ociaml3\\_u\\_1/quant.sf'\n",
       "\\item[ociaml3\\textbackslash{}\\_u\\textbackslash{}\\_2] 'tinat/quants/ociaml3\\_u\\_2/quant.sf'\n",
       "\\item[ociaml3\\textbackslash{}\\_u\\textbackslash{}\\_3] 'tinat/quants/ociaml3\\_u\\_3/quant.sf'\n",
       "\\item[thp1\\textbackslash{}\\_t\\textbackslash{}\\_1] 'tinat/quants/thp1\\_t\\_1/quant.sf'\n",
       "\\item[thp1\\textbackslash{}\\_t\\textbackslash{}\\_2] 'tinat/quants/thp1\\_t\\_2/quant.sf'\n",
       "\\item[thp1\\textbackslash{}\\_t\\textbackslash{}\\_3] 'tinat/quants/thp1\\_t\\_3/quant.sf'\n",
       "\\item[thp1\\textbackslash{}\\_u\\textbackslash{}\\_1] 'tinat/quants/thp1\\_u\\_1/quant.sf'\n",
       "\\item[thp1\\textbackslash{}\\_u\\textbackslash{}\\_2] 'tinat/quants/thp1\\_u\\_2/quant.sf'\n",
       "\\item[thp1\\textbackslash{}\\_u\\textbackslash{}\\_3] 'tinat/quants/thp1\\_u\\_3/quant.sf'\n",
       "\\end{description*}\n"
      ],
      "text/markdown": [
       "hl60_120h_t_1\n",
       ":   'tinat/quants/hl60_120h_t_1/quant.sf'hl60_120h_t_2\n",
       ":   'tinat/quants/hl60_120h_t_2/quant.sf'hl60_120h_u_1\n",
       ":   'tinat/quants/hl60_120h_u_1/quant.sf'hl60_120h_u_2\n",
       ":   'tinat/quants/hl60_120h_u_2/quant.sf'hl60_6h_t_1\n",
       ":   'tinat/quants/hl60_6h_t_1/quant.sf'hl60_6h_t_2\n",
       ":   'tinat/quants/hl60_6h_t_2/quant.sf'hl60_6h_u_1\n",
       ":   'tinat/quants/hl60_6h_u_1/quant.sf'hl60_6h_u_2\n",
       ":   'tinat/quants/hl60_6h_u_2/quant.sf'hl60_72h_t_1\n",
       ":   'tinat/quants/hl60_72h_t_1/quant.sf'hl60_72h_t_2\n",
       ":   'tinat/quants/hl60_72h_t_2/quant.sf'hl60_72h_u_1\n",
       ":   'tinat/quants/hl60_72h_u_1/quant.sf'hl60_72h_u_2\n",
       ":   'tinat/quants/hl60_72h_u_2/quant.sf'kg1_t_1\n",
       ":   'tinat/quants/kg1_t_1/quant.sf'kg1_t_2\n",
       ":   'tinat/quants/kg1_t_2/quant.sf'kg1_t_3\n",
       ":   'tinat/quants/kg1_t_3/quant.sf'kg1_u_1\n",
       ":   'tinat/quants/kg1_u_1/quant.sf'kg1_u_2\n",
       ":   'tinat/quants/kg1_u_2/quant.sf'kg1_u_3\n",
       ":   'tinat/quants/kg1_u_3/quant.sf'molm14_t_1\n",
       ":   'tinat/quants/molm14_t_1/quant.sf'molm14_t_2\n",
       ":   'tinat/quants/molm14_t_2/quant.sf'molm14_t_3\n",
       ":   'tinat/quants/molm14_t_3/quant.sf'molm14_u_1\n",
       ":   'tinat/quants/molm14_u_1/quant.sf'molm14_u_2\n",
       ":   'tinat/quants/molm14_u_2/quant.sf'molm14_u_3\n",
       ":   'tinat/quants/molm14_u_3/quant.sf'ociaml2_t_1\n",
       ":   'tinat/quants/ociaml2_t_1/quant.sf'ociaml2_t_2\n",
       ":   'tinat/quants/ociaml2_t_2/quant.sf'ociaml2_t_3\n",
       ":   'tinat/quants/ociaml2_t_3/quant.sf'ociaml2_u_1\n",
       ":   'tinat/quants/ociaml2_u_1/quant.sf'ociaml2_u_2\n",
       ":   'tinat/quants/ociaml2_u_2/quant.sf'ociaml2_u_3\n",
       ":   'tinat/quants/ociaml2_u_3/quant.sf'ociaml3_t_1\n",
       ":   'tinat/quants/ociaml3_t_1/quant.sf'ociaml3_t_2\n",
       ":   'tinat/quants/ociaml3_t_2/quant.sf'ociaml3_t_3\n",
       ":   'tinat/quants/ociaml3_t_3/quant.sf'ociaml3_u_1\n",
       ":   'tinat/quants/ociaml3_u_1/quant.sf'ociaml3_u_2\n",
       ":   'tinat/quants/ociaml3_u_2/quant.sf'ociaml3_u_3\n",
       ":   'tinat/quants/ociaml3_u_3/quant.sf'thp1_t_1\n",
       ":   'tinat/quants/thp1_t_1/quant.sf'thp1_t_2\n",
       ":   'tinat/quants/thp1_t_2/quant.sf'thp1_t_3\n",
       ":   'tinat/quants/thp1_t_3/quant.sf'thp1_u_1\n",
       ":   'tinat/quants/thp1_u_1/quant.sf'thp1_u_2\n",
       ":   'tinat/quants/thp1_u_2/quant.sf'thp1_u_3\n",
       ":   'tinat/quants/thp1_u_3/quant.sf'\n",
       "\n"
      ],
      "text/plain": [
       "                        hl60_120h_t_1                         hl60_120h_t_2 \n",
       "\"tinat/quants/hl60_120h_t_1/quant.sf\" \"tinat/quants/hl60_120h_t_2/quant.sf\" \n",
       "                        hl60_120h_u_1                         hl60_120h_u_2 \n",
       "\"tinat/quants/hl60_120h_u_1/quant.sf\" \"tinat/quants/hl60_120h_u_2/quant.sf\" \n",
       "                          hl60_6h_t_1                           hl60_6h_t_2 \n",
       "  \"tinat/quants/hl60_6h_t_1/quant.sf\"   \"tinat/quants/hl60_6h_t_2/quant.sf\" \n",
       "                          hl60_6h_u_1                           hl60_6h_u_2 \n",
       "  \"tinat/quants/hl60_6h_u_1/quant.sf\"   \"tinat/quants/hl60_6h_u_2/quant.sf\" \n",
       "                         hl60_72h_t_1                          hl60_72h_t_2 \n",
       " \"tinat/quants/hl60_72h_t_1/quant.sf\"  \"tinat/quants/hl60_72h_t_2/quant.sf\" \n",
       "                         hl60_72h_u_1                          hl60_72h_u_2 \n",
       " \"tinat/quants/hl60_72h_u_1/quant.sf\"  \"tinat/quants/hl60_72h_u_2/quant.sf\" \n",
       "                              kg1_t_1                               kg1_t_2 \n",
       "      \"tinat/quants/kg1_t_1/quant.sf\"       \"tinat/quants/kg1_t_2/quant.sf\" \n",
       "                              kg1_t_3                               kg1_u_1 \n",
       "      \"tinat/quants/kg1_t_3/quant.sf\"       \"tinat/quants/kg1_u_1/quant.sf\" \n",
       "                              kg1_u_2                               kg1_u_3 \n",
       "      \"tinat/quants/kg1_u_2/quant.sf\"       \"tinat/quants/kg1_u_3/quant.sf\" \n",
       "                           molm14_t_1                            molm14_t_2 \n",
       "   \"tinat/quants/molm14_t_1/quant.sf\"    \"tinat/quants/molm14_t_2/quant.sf\" \n",
       "                           molm14_t_3                            molm14_u_1 \n",
       "   \"tinat/quants/molm14_t_3/quant.sf\"    \"tinat/quants/molm14_u_1/quant.sf\" \n",
       "                           molm14_u_2                            molm14_u_3 \n",
       "   \"tinat/quants/molm14_u_2/quant.sf\"    \"tinat/quants/molm14_u_3/quant.sf\" \n",
       "                          ociaml2_t_1                           ociaml2_t_2 \n",
       "  \"tinat/quants/ociaml2_t_1/quant.sf\"   \"tinat/quants/ociaml2_t_2/quant.sf\" \n",
       "                          ociaml2_t_3                           ociaml2_u_1 \n",
       "  \"tinat/quants/ociaml2_t_3/quant.sf\"   \"tinat/quants/ociaml2_u_1/quant.sf\" \n",
       "                          ociaml2_u_2                           ociaml2_u_3 \n",
       "  \"tinat/quants/ociaml2_u_2/quant.sf\"   \"tinat/quants/ociaml2_u_3/quant.sf\" \n",
       "                          ociaml3_t_1                           ociaml3_t_2 \n",
       "  \"tinat/quants/ociaml3_t_1/quant.sf\"   \"tinat/quants/ociaml3_t_2/quant.sf\" \n",
       "                          ociaml3_t_3                           ociaml3_u_1 \n",
       "  \"tinat/quants/ociaml3_t_3/quant.sf\"   \"tinat/quants/ociaml3_u_1/quant.sf\" \n",
       "                          ociaml3_u_2                           ociaml3_u_3 \n",
       "  \"tinat/quants/ociaml3_u_2/quant.sf\"   \"tinat/quants/ociaml3_u_3/quant.sf\" \n",
       "                             thp1_t_1                              thp1_t_2 \n",
       "     \"tinat/quants/thp1_t_1/quant.sf\"      \"tinat/quants/thp1_t_2/quant.sf\" \n",
       "                             thp1_t_3                              thp1_u_1 \n",
       "     \"tinat/quants/thp1_t_3/quant.sf\"      \"tinat/quants/thp1_u_1/quant.sf\" \n",
       "                             thp1_u_2                              thp1_u_3 \n",
       "     \"tinat/quants/thp1_u_2/quant.sf\"      \"tinat/quants/thp1_u_3/quant.sf\" "
      ]
     },
     "metadata": {},
     "output_type": "display_data"
    }
   ],
   "source": [
    "files"
   ]
  },
  {
   "cell_type": "code",
   "execution_count": 12,
   "metadata": {},
   "outputs": [
    {
     "name": "stderr",
     "output_type": "stream",
     "text": [
      "reading in files with read_tsv\n",
      "\n",
      "1 \n",
      "2 \n",
      "3 \n",
      "4 \n",
      "5 \n",
      "6 \n",
      "7 \n",
      "8 \n",
      "9 \n",
      "10 \n",
      "11 \n",
      "12 \n",
      "13 \n",
      "14 \n",
      "15 \n",
      "16 \n",
      "17 \n",
      "18 \n",
      "19 \n",
      "20 \n",
      "21 \n",
      "22 \n",
      "23 \n",
      "24 \n",
      "25 \n",
      "26 \n",
      "27 \n",
      "28 \n",
      "29 \n",
      "30 \n",
      "31 \n",
      "32 \n",
      "33 \n",
      "34 \n",
      "35 \n",
      "36 \n",
      "37 \n",
      "38 \n",
      "39 \n",
      "40 \n",
      "41 \n",
      "42 \n",
      "\n",
      "\n"
     ]
    }
   ],
   "source": [
    "txi <- tximport(files, type = \"salmon\", tx2gene = tx2gene.hg19, txOut=T)"
   ]
  },
  {
   "cell_type": "code",
   "execution_count": 9,
   "metadata": {},
   "outputs": [],
   "source": [
    "# names(files)"
   ]
  },
  {
   "cell_type": "markdown",
   "metadata": {
    "tags": []
   },
   "source": [
    "#### Define sample sheet"
   ]
  },
  {
   "cell_type": "code",
   "execution_count": 13,
   "metadata": {},
   "outputs": [
    {
     "data": {
      "text/html": [
       "<table class=\"dataframe\">\n",
       "<caption>A data.frame: 42 × 4</caption>\n",
       "<thead>\n",
       "\t<tr><th></th><th scope=col>line</th><th scope=col>cond</th><th scope=col>time</th><th scope=col>reps</th></tr>\n",
       "\t<tr><th></th><th scope=col>&lt;chr&gt;</th><th scope=col>&lt;fct&gt;</th><th scope=col>&lt;fct&gt;</th><th scope=col>&lt;fct&gt;</th></tr>\n",
       "</thead>\n",
       "<tbody>\n",
       "\t<tr><th scope=row>hl60_120h_t_1</th><td>hl60   </td><td>Decitabine</td><td>120h</td><td>rep1</td></tr>\n",
       "\t<tr><th scope=row>hl60_120h_t_2</th><td>hl60   </td><td>Decitabine</td><td>120h</td><td>rep2</td></tr>\n",
       "\t<tr><th scope=row>hl60_120h_u_1</th><td>hl60   </td><td>DMSO      </td><td>120h</td><td>rep1</td></tr>\n",
       "\t<tr><th scope=row>hl60_120h_u_2</th><td>hl60   </td><td>DMSO      </td><td>120h</td><td>rep2</td></tr>\n",
       "\t<tr><th scope=row>hl60_6h_t_1</th><td>hl60   </td><td>Decitabine</td><td>6h  </td><td>rep1</td></tr>\n",
       "\t<tr><th scope=row>hl60_6h_t_2</th><td>hl60   </td><td>Decitabine</td><td>6h  </td><td>rep2</td></tr>\n",
       "\t<tr><th scope=row>hl60_6h_u_1</th><td>hl60   </td><td>DMSO      </td><td>6h  </td><td>rep1</td></tr>\n",
       "\t<tr><th scope=row>hl60_6h_u_2</th><td>hl60   </td><td>DMSO      </td><td>6h  </td><td>rep2</td></tr>\n",
       "\t<tr><th scope=row>hl60_72h_t_1</th><td>hl60   </td><td>Decitabine</td><td>72h </td><td>rep1</td></tr>\n",
       "\t<tr><th scope=row>hl60_72h_t_2</th><td>hl60   </td><td>Decitabine</td><td>72h </td><td>rep2</td></tr>\n",
       "\t<tr><th scope=row>hl60_72h_u_1</th><td>hl60   </td><td>DMSO      </td><td>72h </td><td>rep1</td></tr>\n",
       "\t<tr><th scope=row>hl60_72h_u_2</th><td>hl60   </td><td>DMSO      </td><td>72h </td><td>rep2</td></tr>\n",
       "\t<tr><th scope=row>kg1_t_1</th><td>kg1    </td><td>Decitabine</td><td>72h </td><td>rep1</td></tr>\n",
       "\t<tr><th scope=row>kg1_t_2</th><td>kg1    </td><td>Decitabine</td><td>72h </td><td>rep2</td></tr>\n",
       "\t<tr><th scope=row>kg1_t_3</th><td>kg1    </td><td>Decitabine</td><td>72h </td><td>rep3</td></tr>\n",
       "\t<tr><th scope=row>kg1_u_1</th><td>kg1    </td><td>DMSO      </td><td>72h </td><td>rep1</td></tr>\n",
       "\t<tr><th scope=row>kg1_u_2</th><td>kg1    </td><td>DMSO      </td><td>72h </td><td>rep2</td></tr>\n",
       "\t<tr><th scope=row>kg1_u_3</th><td>kg1    </td><td>DMSO      </td><td>72h </td><td>rep3</td></tr>\n",
       "\t<tr><th scope=row>molm14_t_1</th><td>molm14 </td><td>Decitabine</td><td>72h </td><td>rep1</td></tr>\n",
       "\t<tr><th scope=row>molm14_t_2</th><td>molm14 </td><td>Decitabine</td><td>72h </td><td>rep2</td></tr>\n",
       "\t<tr><th scope=row>molm14_t_3</th><td>molm14 </td><td>Decitabine</td><td>72h </td><td>rep3</td></tr>\n",
       "\t<tr><th scope=row>molm14_u_1</th><td>molm14 </td><td>DMSO      </td><td>72h </td><td>rep1</td></tr>\n",
       "\t<tr><th scope=row>molm14_u_2</th><td>molm14 </td><td>DMSO      </td><td>72h </td><td>rep2</td></tr>\n",
       "\t<tr><th scope=row>molm14_u_3</th><td>molm14 </td><td>DMSO      </td><td>72h </td><td>rep3</td></tr>\n",
       "\t<tr><th scope=row>ociaml2_t_1</th><td>ociaml2</td><td>Decitabine</td><td>72h </td><td>rep1</td></tr>\n",
       "\t<tr><th scope=row>ociaml2_t_2</th><td>ociaml2</td><td>Decitabine</td><td>72h </td><td>rep2</td></tr>\n",
       "\t<tr><th scope=row>ociaml2_t_3</th><td>ociaml2</td><td>Decitabine</td><td>72h </td><td>rep3</td></tr>\n",
       "\t<tr><th scope=row>ociaml2_u_1</th><td>ociaml2</td><td>DMSO      </td><td>72h </td><td>rep1</td></tr>\n",
       "\t<tr><th scope=row>ociaml2_u_2</th><td>ociaml2</td><td>DMSO      </td><td>72h </td><td>rep2</td></tr>\n",
       "\t<tr><th scope=row>ociaml2_u_3</th><td>ociaml2</td><td>DMSO      </td><td>72h </td><td>rep3</td></tr>\n",
       "\t<tr><th scope=row>ociaml3_t_1</th><td>ociaml3</td><td>Decitabine</td><td>72h </td><td>rep1</td></tr>\n",
       "\t<tr><th scope=row>ociaml3_t_2</th><td>ociaml3</td><td>Decitabine</td><td>72h </td><td>rep2</td></tr>\n",
       "\t<tr><th scope=row>ociaml3_t_3</th><td>ociaml3</td><td>Decitabine</td><td>72h </td><td>rep3</td></tr>\n",
       "\t<tr><th scope=row>ociaml3_u_1</th><td>ociaml3</td><td>DMSO      </td><td>72h </td><td>rep1</td></tr>\n",
       "\t<tr><th scope=row>ociaml3_u_2</th><td>ociaml3</td><td>DMSO      </td><td>72h </td><td>rep2</td></tr>\n",
       "\t<tr><th scope=row>ociaml3_u_3</th><td>ociaml3</td><td>DMSO      </td><td>72h </td><td>rep3</td></tr>\n",
       "\t<tr><th scope=row>thp1_t_1</th><td>thp1   </td><td>Decitabine</td><td>72h </td><td>rep1</td></tr>\n",
       "\t<tr><th scope=row>thp1_t_2</th><td>thp1   </td><td>Decitabine</td><td>72h </td><td>rep2</td></tr>\n",
       "\t<tr><th scope=row>thp1_t_3</th><td>thp1   </td><td>Decitabine</td><td>72h </td><td>rep3</td></tr>\n",
       "\t<tr><th scope=row>thp1_u_1</th><td>thp1   </td><td>DMSO      </td><td>72h </td><td>rep1</td></tr>\n",
       "\t<tr><th scope=row>thp1_u_2</th><td>thp1   </td><td>DMSO      </td><td>72h </td><td>rep2</td></tr>\n",
       "\t<tr><th scope=row>thp1_u_3</th><td>thp1   </td><td>DMSO      </td><td>72h </td><td>rep3</td></tr>\n",
       "</tbody>\n",
       "</table>\n"
      ],
      "text/latex": [
       "A data.frame: 42 × 4\n",
       "\\begin{tabular}{r|llll}\n",
       "  & line & cond & time & reps\\\\\n",
       "  & <chr> & <fct> & <fct> & <fct>\\\\\n",
       "\\hline\n",
       "\thl60\\_120h\\_t\\_1 & hl60    & Decitabine & 120h & rep1\\\\\n",
       "\thl60\\_120h\\_t\\_2 & hl60    & Decitabine & 120h & rep2\\\\\n",
       "\thl60\\_120h\\_u\\_1 & hl60    & DMSO       & 120h & rep1\\\\\n",
       "\thl60\\_120h\\_u\\_2 & hl60    & DMSO       & 120h & rep2\\\\\n",
       "\thl60\\_6h\\_t\\_1 & hl60    & Decitabine & 6h   & rep1\\\\\n",
       "\thl60\\_6h\\_t\\_2 & hl60    & Decitabine & 6h   & rep2\\\\\n",
       "\thl60\\_6h\\_u\\_1 & hl60    & DMSO       & 6h   & rep1\\\\\n",
       "\thl60\\_6h\\_u\\_2 & hl60    & DMSO       & 6h   & rep2\\\\\n",
       "\thl60\\_72h\\_t\\_1 & hl60    & Decitabine & 72h  & rep1\\\\\n",
       "\thl60\\_72h\\_t\\_2 & hl60    & Decitabine & 72h  & rep2\\\\\n",
       "\thl60\\_72h\\_u\\_1 & hl60    & DMSO       & 72h  & rep1\\\\\n",
       "\thl60\\_72h\\_u\\_2 & hl60    & DMSO       & 72h  & rep2\\\\\n",
       "\tkg1\\_t\\_1 & kg1     & Decitabine & 72h  & rep1\\\\\n",
       "\tkg1\\_t\\_2 & kg1     & Decitabine & 72h  & rep2\\\\\n",
       "\tkg1\\_t\\_3 & kg1     & Decitabine & 72h  & rep3\\\\\n",
       "\tkg1\\_u\\_1 & kg1     & DMSO       & 72h  & rep1\\\\\n",
       "\tkg1\\_u\\_2 & kg1     & DMSO       & 72h  & rep2\\\\\n",
       "\tkg1\\_u\\_3 & kg1     & DMSO       & 72h  & rep3\\\\\n",
       "\tmolm14\\_t\\_1 & molm14  & Decitabine & 72h  & rep1\\\\\n",
       "\tmolm14\\_t\\_2 & molm14  & Decitabine & 72h  & rep2\\\\\n",
       "\tmolm14\\_t\\_3 & molm14  & Decitabine & 72h  & rep3\\\\\n",
       "\tmolm14\\_u\\_1 & molm14  & DMSO       & 72h  & rep1\\\\\n",
       "\tmolm14\\_u\\_2 & molm14  & DMSO       & 72h  & rep2\\\\\n",
       "\tmolm14\\_u\\_3 & molm14  & DMSO       & 72h  & rep3\\\\\n",
       "\tociaml2\\_t\\_1 & ociaml2 & Decitabine & 72h  & rep1\\\\\n",
       "\tociaml2\\_t\\_2 & ociaml2 & Decitabine & 72h  & rep2\\\\\n",
       "\tociaml2\\_t\\_3 & ociaml2 & Decitabine & 72h  & rep3\\\\\n",
       "\tociaml2\\_u\\_1 & ociaml2 & DMSO       & 72h  & rep1\\\\\n",
       "\tociaml2\\_u\\_2 & ociaml2 & DMSO       & 72h  & rep2\\\\\n",
       "\tociaml2\\_u\\_3 & ociaml2 & DMSO       & 72h  & rep3\\\\\n",
       "\tociaml3\\_t\\_1 & ociaml3 & Decitabine & 72h  & rep1\\\\\n",
       "\tociaml3\\_t\\_2 & ociaml3 & Decitabine & 72h  & rep2\\\\\n",
       "\tociaml3\\_t\\_3 & ociaml3 & Decitabine & 72h  & rep3\\\\\n",
       "\tociaml3\\_u\\_1 & ociaml3 & DMSO       & 72h  & rep1\\\\\n",
       "\tociaml3\\_u\\_2 & ociaml3 & DMSO       & 72h  & rep2\\\\\n",
       "\tociaml3\\_u\\_3 & ociaml3 & DMSO       & 72h  & rep3\\\\\n",
       "\tthp1\\_t\\_1 & thp1    & Decitabine & 72h  & rep1\\\\\n",
       "\tthp1\\_t\\_2 & thp1    & Decitabine & 72h  & rep2\\\\\n",
       "\tthp1\\_t\\_3 & thp1    & Decitabine & 72h  & rep3\\\\\n",
       "\tthp1\\_u\\_1 & thp1    & DMSO       & 72h  & rep1\\\\\n",
       "\tthp1\\_u\\_2 & thp1    & DMSO       & 72h  & rep2\\\\\n",
       "\tthp1\\_u\\_3 & thp1    & DMSO       & 72h  & rep3\\\\\n",
       "\\end{tabular}\n"
      ],
      "text/markdown": [
       "\n",
       "A data.frame: 42 × 4\n",
       "\n",
       "| <!--/--> | line &lt;chr&gt; | cond &lt;fct&gt; | time &lt;fct&gt; | reps &lt;fct&gt; |\n",
       "|---|---|---|---|---|\n",
       "| hl60_120h_t_1 | hl60    | Decitabine | 120h | rep1 |\n",
       "| hl60_120h_t_2 | hl60    | Decitabine | 120h | rep2 |\n",
       "| hl60_120h_u_1 | hl60    | DMSO       | 120h | rep1 |\n",
       "| hl60_120h_u_2 | hl60    | DMSO       | 120h | rep2 |\n",
       "| hl60_6h_t_1 | hl60    | Decitabine | 6h   | rep1 |\n",
       "| hl60_6h_t_2 | hl60    | Decitabine | 6h   | rep2 |\n",
       "| hl60_6h_u_1 | hl60    | DMSO       | 6h   | rep1 |\n",
       "| hl60_6h_u_2 | hl60    | DMSO       | 6h   | rep2 |\n",
       "| hl60_72h_t_1 | hl60    | Decitabine | 72h  | rep1 |\n",
       "| hl60_72h_t_2 | hl60    | Decitabine | 72h  | rep2 |\n",
       "| hl60_72h_u_1 | hl60    | DMSO       | 72h  | rep1 |\n",
       "| hl60_72h_u_2 | hl60    | DMSO       | 72h  | rep2 |\n",
       "| kg1_t_1 | kg1     | Decitabine | 72h  | rep1 |\n",
       "| kg1_t_2 | kg1     | Decitabine | 72h  | rep2 |\n",
       "| kg1_t_3 | kg1     | Decitabine | 72h  | rep3 |\n",
       "| kg1_u_1 | kg1     | DMSO       | 72h  | rep1 |\n",
       "| kg1_u_2 | kg1     | DMSO       | 72h  | rep2 |\n",
       "| kg1_u_3 | kg1     | DMSO       | 72h  | rep3 |\n",
       "| molm14_t_1 | molm14  | Decitabine | 72h  | rep1 |\n",
       "| molm14_t_2 | molm14  | Decitabine | 72h  | rep2 |\n",
       "| molm14_t_3 | molm14  | Decitabine | 72h  | rep3 |\n",
       "| molm14_u_1 | molm14  | DMSO       | 72h  | rep1 |\n",
       "| molm14_u_2 | molm14  | DMSO       | 72h  | rep2 |\n",
       "| molm14_u_3 | molm14  | DMSO       | 72h  | rep3 |\n",
       "| ociaml2_t_1 | ociaml2 | Decitabine | 72h  | rep1 |\n",
       "| ociaml2_t_2 | ociaml2 | Decitabine | 72h  | rep2 |\n",
       "| ociaml2_t_3 | ociaml2 | Decitabine | 72h  | rep3 |\n",
       "| ociaml2_u_1 | ociaml2 | DMSO       | 72h  | rep1 |\n",
       "| ociaml2_u_2 | ociaml2 | DMSO       | 72h  | rep2 |\n",
       "| ociaml2_u_3 | ociaml2 | DMSO       | 72h  | rep3 |\n",
       "| ociaml3_t_1 | ociaml3 | Decitabine | 72h  | rep1 |\n",
       "| ociaml3_t_2 | ociaml3 | Decitabine | 72h  | rep2 |\n",
       "| ociaml3_t_3 | ociaml3 | Decitabine | 72h  | rep3 |\n",
       "| ociaml3_u_1 | ociaml3 | DMSO       | 72h  | rep1 |\n",
       "| ociaml3_u_2 | ociaml3 | DMSO       | 72h  | rep2 |\n",
       "| ociaml3_u_3 | ociaml3 | DMSO       | 72h  | rep3 |\n",
       "| thp1_t_1 | thp1    | Decitabine | 72h  | rep1 |\n",
       "| thp1_t_2 | thp1    | Decitabine | 72h  | rep2 |\n",
       "| thp1_t_3 | thp1    | Decitabine | 72h  | rep3 |\n",
       "| thp1_u_1 | thp1    | DMSO       | 72h  | rep1 |\n",
       "| thp1_u_2 | thp1    | DMSO       | 72h  | rep2 |\n",
       "| thp1_u_3 | thp1    | DMSO       | 72h  | rep3 |\n",
       "\n"
      ],
      "text/plain": [
       "              line    cond       time reps\n",
       "hl60_120h_t_1 hl60    Decitabine 120h rep1\n",
       "hl60_120h_t_2 hl60    Decitabine 120h rep2\n",
       "hl60_120h_u_1 hl60    DMSO       120h rep1\n",
       "hl60_120h_u_2 hl60    DMSO       120h rep2\n",
       "hl60_6h_t_1   hl60    Decitabine 6h   rep1\n",
       "hl60_6h_t_2   hl60    Decitabine 6h   rep2\n",
       "hl60_6h_u_1   hl60    DMSO       6h   rep1\n",
       "hl60_6h_u_2   hl60    DMSO       6h   rep2\n",
       "hl60_72h_t_1  hl60    Decitabine 72h  rep1\n",
       "hl60_72h_t_2  hl60    Decitabine 72h  rep2\n",
       "hl60_72h_u_1  hl60    DMSO       72h  rep1\n",
       "hl60_72h_u_2  hl60    DMSO       72h  rep2\n",
       "kg1_t_1       kg1     Decitabine 72h  rep1\n",
       "kg1_t_2       kg1     Decitabine 72h  rep2\n",
       "kg1_t_3       kg1     Decitabine 72h  rep3\n",
       "kg1_u_1       kg1     DMSO       72h  rep1\n",
       "kg1_u_2       kg1     DMSO       72h  rep2\n",
       "kg1_u_3       kg1     DMSO       72h  rep3\n",
       "molm14_t_1    molm14  Decitabine 72h  rep1\n",
       "molm14_t_2    molm14  Decitabine 72h  rep2\n",
       "molm14_t_3    molm14  Decitabine 72h  rep3\n",
       "molm14_u_1    molm14  DMSO       72h  rep1\n",
       "molm14_u_2    molm14  DMSO       72h  rep2\n",
       "molm14_u_3    molm14  DMSO       72h  rep3\n",
       "ociaml2_t_1   ociaml2 Decitabine 72h  rep1\n",
       "ociaml2_t_2   ociaml2 Decitabine 72h  rep2\n",
       "ociaml2_t_3   ociaml2 Decitabine 72h  rep3\n",
       "ociaml2_u_1   ociaml2 DMSO       72h  rep1\n",
       "ociaml2_u_2   ociaml2 DMSO       72h  rep2\n",
       "ociaml2_u_3   ociaml2 DMSO       72h  rep3\n",
       "ociaml3_t_1   ociaml3 Decitabine 72h  rep1\n",
       "ociaml3_t_2   ociaml3 Decitabine 72h  rep2\n",
       "ociaml3_t_3   ociaml3 Decitabine 72h  rep3\n",
       "ociaml3_u_1   ociaml3 DMSO       72h  rep1\n",
       "ociaml3_u_2   ociaml3 DMSO       72h  rep2\n",
       "ociaml3_u_3   ociaml3 DMSO       72h  rep3\n",
       "thp1_t_1      thp1    Decitabine 72h  rep1\n",
       "thp1_t_2      thp1    Decitabine 72h  rep2\n",
       "thp1_t_3      thp1    Decitabine 72h  rep3\n",
       "thp1_u_1      thp1    DMSO       72h  rep1\n",
       "thp1_u_2      thp1    DMSO       72h  rep2\n",
       "thp1_u_3      thp1    DMSO       72h  rep3"
      ]
     },
     "metadata": {},
     "output_type": "display_data"
    }
   ],
   "source": [
    "# meta \n",
    "lines   <- c(rep('hl60',12),lapply(c('kg1', 'molm14', 'ociaml2', 'ociaml3', 'thp1'), rep, 6) %>% unlist)\n",
    "\n",
    "# meta \n",
    "conds  <- factor(c(\n",
    "    # hl60\n",
    "    rep(c(rep('Decitabine',2),rep('DMSO',2)),3),\n",
    "    # 5 other cell lines\n",
    "    rep(c(rep('Decitabine',3), rep('DMSO',3)),5)\n",
    "), levels = c('DMSO','Decitabine'))\n",
    "\n",
    "reps <- factor(c(\n",
    "    # hl60\n",
    "    rep(c('rep1','rep2'),6),\n",
    "    # 5 other cell lines\n",
    "    rep(c('rep1','rep2','rep3'),10)\n",
    "),c('rep1','rep2','rep3'))\n",
    "\n",
    "hours <- factor(c(\n",
    "    # hl60\n",
    "    c(rep('120h',4),rep('6h',4),rep('72h',4)), \n",
    "    # 5 other cell lines\n",
    "    rep('72h',30)\n",
    "),c('6h','72h','120h') )\n",
    "\n",
    "colData <- data.frame(\n",
    "    line=lines, \n",
    "    cond=conds,\n",
    "    time=hours,\n",
    "    reps=reps,\n",
    "    row.names=colnames(txi$abundance),\n",
    "    stringsAsFactors=FALSE\n",
    ")\n",
    "colData"
   ]
  },
  {
   "cell_type": "markdown",
   "metadata": {
    "tags": []
   },
   "source": [
    "#### Save normalized counts"
   ]
  },
  {
   "cell_type": "code",
   "execution_count": 15,
   "metadata": {},
   "outputs": [
    {
     "name": "stderr",
     "output_type": "stream",
     "text": [
      "using counts and average transcript lengths from tximport\n",
      "\n"
     ]
    }
   ],
   "source": [
    "dds <- DESeqDataSetFromTximport(txi, colData, ~cond)"
   ]
  },
  {
   "cell_type": "code",
   "execution_count": 16,
   "metadata": {},
   "outputs": [
    {
     "name": "stderr",
     "output_type": "stream",
     "text": [
      "using 'avgTxLength' from assays(dds), correcting for library size\n",
      "\n"
     ]
    }
   ],
   "source": [
    "dds <- estimateSizeFactors(dds)\n",
    "\n",
    "ncu <- counts(dds, normalized=TRUE) "
   ]
  },
  {
   "cell_type": "code",
   "execution_count": 22,
   "metadata": {},
   "outputs": [],
   "source": [
    "write.table(\n",
    "    ncu,'tinat/deseq2_norm.txt', sep=\"\\t\", quote=FALSE, col.names=TRUE\n",
    ")"
   ]
  },
  {
   "cell_type": "markdown",
   "metadata": {
    "tags": []
   },
   "source": [
    "___\n",
    "## Decitabine treatment time-series RNA-Seq experiments in HL60 cell line"
   ]
  },
  {
   "cell_type": "markdown",
   "metadata": {},
   "source": [
    "In order to test for any differences over multiple time points, once can use a design including the time factor, and then test using the **likelihood ratio test (LRT)**. Here, as we have control (DMSO) and treatment (Decitabine) time series, design formula containing the condition factor, the time factor, and the interaction of the two. In this case, using the likelihood ratio test with a reduced model which does not contain the interaction terms will test whether the condition induces a change in gene expression at any time point after the reference level time point (time 0). \n",
    "\n",
    "(see [this](http://bioconductor.org/packages/devel/bioc/vignettes/DESeq2/inst/doc/DESeq2.html#time-series-experiments)  OR [this](http://master.bioconductor.org/packages/release/workflows/vignettes/rnaseqGene/inst/doc/rnaseqGene.html#time-course-experiments) for more details about DESeq2 time series experiments)"
   ]
  },
  {
   "cell_type": "markdown",
   "metadata": {
    "tags": []
   },
   "source": [
    "### Load count data and meta table "
   ]
  },
  {
   "cell_type": "markdown",
   "metadata": {},
   "source": [
    "Import salmon quants"
   ]
  },
  {
   "cell_type": "code",
   "execution_count": 23,
   "metadata": {},
   "outputs": [
    {
     "name": "stderr",
     "output_type": "stream",
     "text": [
      "reading in files with read_tsv\n",
      "\n",
      "1 \n",
      "2 \n",
      "3 \n",
      "4 \n",
      "5 \n",
      "6 \n",
      "7 \n",
      "8 \n",
      "9 \n",
      "10 \n",
      "11 \n",
      "12 \n",
      "\n",
      "\n"
     ]
    }
   ],
   "source": [
    "txi_hl60 <- tximport(\n",
    "    files[grep(\"hl60\", files, fixed=T)], \n",
    "    type = \"salmon\", tx2gene = tx2gene, txOut=TRUE\n",
    ")\n",
    "\n",
    "# txi_hl60.gene <- summarizeToGene(txi_hl60, tx2gene, ignoreAfterBar= TRUE)"
   ]
  },
  {
   "cell_type": "markdown",
   "metadata": {},
   "source": [
    "Define the sample sheet"
   ]
  },
  {
   "cell_type": "code",
   "execution_count": 25,
   "metadata": {},
   "outputs": [
    {
     "data": {
      "text/html": [
       "<table class=\"dataframe\">\n",
       "<caption>A data.frame: 12 × 4</caption>\n",
       "<thead>\n",
       "\t<tr><th></th><th scope=col>line</th><th scope=col>cond</th><th scope=col>time</th><th scope=col>reps</th></tr>\n",
       "\t<tr><th></th><th scope=col>&lt;chr&gt;</th><th scope=col>&lt;fct&gt;</th><th scope=col>&lt;fct&gt;</th><th scope=col>&lt;fct&gt;</th></tr>\n",
       "</thead>\n",
       "<tbody>\n",
       "\t<tr><th scope=row>hl60_120h_t_1</th><td>hl60</td><td>Decitabine</td><td>120h</td><td>rep1</td></tr>\n",
       "\t<tr><th scope=row>hl60_120h_t_2</th><td>hl60</td><td>Decitabine</td><td>120h</td><td>rep2</td></tr>\n",
       "\t<tr><th scope=row>hl60_120h_u_1</th><td>hl60</td><td>DMSO      </td><td>120h</td><td>rep1</td></tr>\n",
       "\t<tr><th scope=row>hl60_120h_u_2</th><td>hl60</td><td>DMSO      </td><td>120h</td><td>rep2</td></tr>\n",
       "\t<tr><th scope=row>hl60_6h_t_1</th><td>hl60</td><td>Decitabine</td><td>6h  </td><td>rep1</td></tr>\n",
       "\t<tr><th scope=row>hl60_6h_t_2</th><td>hl60</td><td>Decitabine</td><td>6h  </td><td>rep2</td></tr>\n",
       "\t<tr><th scope=row>hl60_6h_u_1</th><td>hl60</td><td>DMSO      </td><td>6h  </td><td>rep1</td></tr>\n",
       "\t<tr><th scope=row>hl60_6h_u_2</th><td>hl60</td><td>DMSO      </td><td>6h  </td><td>rep2</td></tr>\n",
       "\t<tr><th scope=row>hl60_72h_t_1</th><td>hl60</td><td>Decitabine</td><td>72h </td><td>rep1</td></tr>\n",
       "\t<tr><th scope=row>hl60_72h_t_2</th><td>hl60</td><td>Decitabine</td><td>72h </td><td>rep2</td></tr>\n",
       "\t<tr><th scope=row>hl60_72h_u_1</th><td>hl60</td><td>DMSO      </td><td>72h </td><td>rep1</td></tr>\n",
       "\t<tr><th scope=row>hl60_72h_u_2</th><td>hl60</td><td>DMSO      </td><td>72h </td><td>rep2</td></tr>\n",
       "</tbody>\n",
       "</table>\n"
      ],
      "text/latex": [
       "A data.frame: 12 × 4\n",
       "\\begin{tabular}{r|llll}\n",
       "  & line & cond & time & reps\\\\\n",
       "  & <chr> & <fct> & <fct> & <fct>\\\\\n",
       "\\hline\n",
       "\thl60\\_120h\\_t\\_1 & hl60 & Decitabine & 120h & rep1\\\\\n",
       "\thl60\\_120h\\_t\\_2 & hl60 & Decitabine & 120h & rep2\\\\\n",
       "\thl60\\_120h\\_u\\_1 & hl60 & DMSO       & 120h & rep1\\\\\n",
       "\thl60\\_120h\\_u\\_2 & hl60 & DMSO       & 120h & rep2\\\\\n",
       "\thl60\\_6h\\_t\\_1 & hl60 & Decitabine & 6h   & rep1\\\\\n",
       "\thl60\\_6h\\_t\\_2 & hl60 & Decitabine & 6h   & rep2\\\\\n",
       "\thl60\\_6h\\_u\\_1 & hl60 & DMSO       & 6h   & rep1\\\\\n",
       "\thl60\\_6h\\_u\\_2 & hl60 & DMSO       & 6h   & rep2\\\\\n",
       "\thl60\\_72h\\_t\\_1 & hl60 & Decitabine & 72h  & rep1\\\\\n",
       "\thl60\\_72h\\_t\\_2 & hl60 & Decitabine & 72h  & rep2\\\\\n",
       "\thl60\\_72h\\_u\\_1 & hl60 & DMSO       & 72h  & rep1\\\\\n",
       "\thl60\\_72h\\_u\\_2 & hl60 & DMSO       & 72h  & rep2\\\\\n",
       "\\end{tabular}\n"
      ],
      "text/markdown": [
       "\n",
       "A data.frame: 12 × 4\n",
       "\n",
       "| <!--/--> | line &lt;chr&gt; | cond &lt;fct&gt; | time &lt;fct&gt; | reps &lt;fct&gt; |\n",
       "|---|---|---|---|---|\n",
       "| hl60_120h_t_1 | hl60 | Decitabine | 120h | rep1 |\n",
       "| hl60_120h_t_2 | hl60 | Decitabine | 120h | rep2 |\n",
       "| hl60_120h_u_1 | hl60 | DMSO       | 120h | rep1 |\n",
       "| hl60_120h_u_2 | hl60 | DMSO       | 120h | rep2 |\n",
       "| hl60_6h_t_1 | hl60 | Decitabine | 6h   | rep1 |\n",
       "| hl60_6h_t_2 | hl60 | Decitabine | 6h   | rep2 |\n",
       "| hl60_6h_u_1 | hl60 | DMSO       | 6h   | rep1 |\n",
       "| hl60_6h_u_2 | hl60 | DMSO       | 6h   | rep2 |\n",
       "| hl60_72h_t_1 | hl60 | Decitabine | 72h  | rep1 |\n",
       "| hl60_72h_t_2 | hl60 | Decitabine | 72h  | rep2 |\n",
       "| hl60_72h_u_1 | hl60 | DMSO       | 72h  | rep1 |\n",
       "| hl60_72h_u_2 | hl60 | DMSO       | 72h  | rep2 |\n",
       "\n"
      ],
      "text/plain": [
       "              line cond       time reps\n",
       "hl60_120h_t_1 hl60 Decitabine 120h rep1\n",
       "hl60_120h_t_2 hl60 Decitabine 120h rep2\n",
       "hl60_120h_u_1 hl60 DMSO       120h rep1\n",
       "hl60_120h_u_2 hl60 DMSO       120h rep2\n",
       "hl60_6h_t_1   hl60 Decitabine 6h   rep1\n",
       "hl60_6h_t_2   hl60 Decitabine 6h   rep2\n",
       "hl60_6h_u_1   hl60 DMSO       6h   rep1\n",
       "hl60_6h_u_2   hl60 DMSO       6h   rep2\n",
       "hl60_72h_t_1  hl60 Decitabine 72h  rep1\n",
       "hl60_72h_t_2  hl60 Decitabine 72h  rep2\n",
       "hl60_72h_u_1  hl60 DMSO       72h  rep1\n",
       "hl60_72h_u_2  hl60 DMSO       72h  rep2"
      ]
     },
     "metadata": {},
     "output_type": "display_data"
    }
   ],
   "source": [
    "colData[colData$line == 'hl60',]"
   ]
  },
  {
   "cell_type": "markdown",
   "metadata": {
    "tags": []
   },
   "source": [
    "### PCA\n",
    "<!-- Initial principal component analysis (PCA) shows the second treated biological replicate at 72h time point, behaves as an outlier. Removing that from the analysis give us a better representation of our dataset. In the second PCA plot, we can see that treated samples at 6h cluster with the non-treated samples which suggest that 6 hours treatment with the drug is not as effective as 72h and 120h. Although, we will check the variant genes in this time-point in the following statistical analysis. -->\n"
   ]
  },
  {
   "cell_type": "code",
   "execution_count": 26,
   "metadata": {},
   "outputs": [
    {
     "name": "stderr",
     "output_type": "stream",
     "text": [
      "using counts and average transcript lengths from tximport\n",
      "\n"
     ]
    },
    {
     "data": {
      "text/html": [
       "35932"
      ],
      "text/latex": [
       "35932"
      ],
      "text/markdown": [
       "35932"
      ],
      "text/plain": [
       "[1] 35932"
      ]
     },
     "metadata": {},
     "output_type": "display_data"
    }
   ],
   "source": [
    "dds0 <- DESeqDataSetFromTximport(txi_hl60, colData[colData$line == 'hl60',], ~0 + cond + time )\n",
    "nrow(dds0)"
   ]
  },
  {
   "cell_type": "code",
   "execution_count": 27,
   "metadata": {},
   "outputs": [
    {
     "name": "stderr",
     "output_type": "stream",
     "text": [
      "estimating size factors\n",
      "\n",
      "using 'avgTxLength' from assays(dds), correcting for library size\n",
      "\n",
      "estimating dispersions\n",
      "\n",
      "gene-wise dispersion estimates: 18 workers\n",
      "\n",
      "mean-dispersion relationship\n",
      "\n",
      "final dispersion estimates, fitting model and testing: 18 workers\n",
      "\n"
     ]
    }
   ],
   "source": [
    "dds.pca <- DESeq(dds0, parallel=TRUE)\n",
    "# results \n",
    "vsd_hl60 <- varianceStabilizingTransformation(dds.pca)"
   ]
  },
  {
   "cell_type": "code",
   "execution_count": 28,
   "metadata": {},
   "outputs": [
    {
     "data": {
      "image/png": "[encoded data removed]",
      "text/plain": [
       "plot without title"
      ]
     },
     "metadata": {
      "image/png": {
       "height": 420,
       "width": 420
      }
     },
     "output_type": "display_data"
    }
   ],
   "source": [
    "pca_hl60 <- plot_PCA(\n",
    "    vsd_hl60, \n",
    "    colData(vsd_hl60), \n",
    "    labels=colData(vsd_hl60)[,'time'],gr=c('cond'), title='cell line: hl60'\n",
    ")\n",
    "\n",
    "pca_hl60"
   ]
  },
  {
   "cell_type": "code",
   "execution_count": 22,
   "metadata": {},
   "outputs": [
    {
     "data": {
      "image/png": "[encoded data removed]",
      "text/plain": [
       "plot without title"
      ]
     },
     "metadata": {
      "image/png": {
       "height": 420,
       "width": 420
      }
     },
     "output_type": "display_data"
    }
   ],
   "source": [
    "par(mar=c(15,5,1,1))\n",
    "boxplot(log10(assays(dds.pca)[[\"cooks\"]]), range=0, las=2)"
   ]
  },
  {
   "cell_type": "markdown",
   "metadata": {
    "tags": []
   },
   "source": [
    "### Differential expression analysis\n",
    "I'm doing differential expression analysis for treated samples vs. untreated at 6h, 72h and 120h. "
   ]
  },
  {
   "cell_type": "markdown",
   "metadata": {
    "tags": []
   },
   "source": [
    "#### First scenario\n",
    "Time included as factor variable. \n",
    "\n",
    "We make two different `dds` object one with with no `cond:time` interaction term and the other one with the interaction term (**ANOVA-like comparison**). \n",
    "\n",
    "<!-- Then, I'm replacing results from first object to the secound one for genes with adjust p-values (padj) > 0.05. Hossien Asgharian told me these genes has more accurate estimation from the model with no interaction term.  -->\n",
    "\n",
    "https://bioconductor.org/packages/release/workflows/vignettes/RNAseq123/inst/doc/designmatrices.html#design-matrices-with-and-without-intercept-term"
   ]
  },
  {
   "cell_type": "code",
   "execution_count": 29,
   "metadata": {},
   "outputs": [
    {
     "data": {
      "text/html": [
       "<style>\n",
       ".list-inline {list-style: none; margin:0; padding: 0}\n",
       ".list-inline>li {display: inline-block}\n",
       ".list-inline>li:not(:last-child)::after {content: \"\\00b7\"; padding: 0 .5ex}\n",
       "</style>\n",
       "<ol class=list-inline><li>'DMSO'</li><li>'Decitabine'</li></ol>\n"
      ],
      "text/latex": [
       "\\begin{enumerate*}\n",
       "\\item 'DMSO'\n",
       "\\item 'Decitabine'\n",
       "\\end{enumerate*}\n"
      ],
      "text/markdown": [
       "1. 'DMSO'\n",
       "2. 'Decitabine'\n",
       "\n",
       "\n"
      ],
      "text/plain": [
       "[1] \"DMSO\"       \"Decitabine\""
      ]
     },
     "metadata": {},
     "output_type": "display_data"
    }
   ],
   "source": [
    "levels(colData$cond)"
   ]
  },
  {
   "cell_type": "code",
   "execution_count": 30,
   "metadata": {},
   "outputs": [
    {
     "data": {
      "text/html": [
       "<table class=\"dataframe\">\n",
       "<caption>A matrix: 12 × 6 of type dbl</caption>\n",
       "<thead>\n",
       "\t<tr><th></th><th scope=col>condDMSO</th><th scope=col>condDecitabine</th><th scope=col>time72h</th><th scope=col>time120h</th><th scope=col>condDecitabine:time72h</th><th scope=col>condDecitabine:time120h</th></tr>\n",
       "</thead>\n",
       "<tbody>\n",
       "\t<tr><th scope=row>hl60_120h_t_1</th><td>0</td><td>1</td><td>0</td><td>1</td><td>0</td><td>1</td></tr>\n",
       "\t<tr><th scope=row>hl60_120h_t_2</th><td>0</td><td>1</td><td>0</td><td>1</td><td>0</td><td>1</td></tr>\n",
       "\t<tr><th scope=row>hl60_120h_u_1</th><td>1</td><td>0</td><td>0</td><td>1</td><td>0</td><td>0</td></tr>\n",
       "\t<tr><th scope=row>hl60_120h_u_2</th><td>1</td><td>0</td><td>0</td><td>1</td><td>0</td><td>0</td></tr>\n",
       "\t<tr><th scope=row>hl60_6h_t_1</th><td>0</td><td>1</td><td>0</td><td>0</td><td>0</td><td>0</td></tr>\n",
       "\t<tr><th scope=row>hl60_6h_t_2</th><td>0</td><td>1</td><td>0</td><td>0</td><td>0</td><td>0</td></tr>\n",
       "\t<tr><th scope=row>hl60_6h_u_1</th><td>1</td><td>0</td><td>0</td><td>0</td><td>0</td><td>0</td></tr>\n",
       "\t<tr><th scope=row>hl60_6h_u_2</th><td>1</td><td>0</td><td>0</td><td>0</td><td>0</td><td>0</td></tr>\n",
       "\t<tr><th scope=row>hl60_72h_t_1</th><td>0</td><td>1</td><td>1</td><td>0</td><td>1</td><td>0</td></tr>\n",
       "\t<tr><th scope=row>hl60_72h_t_2</th><td>0</td><td>1</td><td>1</td><td>0</td><td>1</td><td>0</td></tr>\n",
       "\t<tr><th scope=row>hl60_72h_u_1</th><td>1</td><td>0</td><td>1</td><td>0</td><td>0</td><td>0</td></tr>\n",
       "\t<tr><th scope=row>hl60_72h_u_2</th><td>1</td><td>0</td><td>1</td><td>0</td><td>0</td><td>0</td></tr>\n",
       "</tbody>\n",
       "</table>\n"
      ],
      "text/latex": [
       "A matrix: 12 × 6 of type dbl\n",
       "\\begin{tabular}{r|llllll}\n",
       "  & condDMSO & condDecitabine & time72h & time120h & condDecitabine:time72h & condDecitabine:time120h\\\\\n",
       "\\hline\n",
       "\thl60\\_120h\\_t\\_1 & 0 & 1 & 0 & 1 & 0 & 1\\\\\n",
       "\thl60\\_120h\\_t\\_2 & 0 & 1 & 0 & 1 & 0 & 1\\\\\n",
       "\thl60\\_120h\\_u\\_1 & 1 & 0 & 0 & 1 & 0 & 0\\\\\n",
       "\thl60\\_120h\\_u\\_2 & 1 & 0 & 0 & 1 & 0 & 0\\\\\n",
       "\thl60\\_6h\\_t\\_1 & 0 & 1 & 0 & 0 & 0 & 0\\\\\n",
       "\thl60\\_6h\\_t\\_2 & 0 & 1 & 0 & 0 & 0 & 0\\\\\n",
       "\thl60\\_6h\\_u\\_1 & 1 & 0 & 0 & 0 & 0 & 0\\\\\n",
       "\thl60\\_6h\\_u\\_2 & 1 & 0 & 0 & 0 & 0 & 0\\\\\n",
       "\thl60\\_72h\\_t\\_1 & 0 & 1 & 1 & 0 & 1 & 0\\\\\n",
       "\thl60\\_72h\\_t\\_2 & 0 & 1 & 1 & 0 & 1 & 0\\\\\n",
       "\thl60\\_72h\\_u\\_1 & 1 & 0 & 1 & 0 & 0 & 0\\\\\n",
       "\thl60\\_72h\\_u\\_2 & 1 & 0 & 1 & 0 & 0 & 0\\\\\n",
       "\\end{tabular}\n"
      ],
      "text/markdown": [
       "\n",
       "A matrix: 12 × 6 of type dbl\n",
       "\n",
       "| <!--/--> | condDMSO | condDecitabine | time72h | time120h | condDecitabine:time72h | condDecitabine:time120h |\n",
       "|---|---|---|---|---|---|---|\n",
       "| hl60_120h_t_1 | 0 | 1 | 0 | 1 | 0 | 1 |\n",
       "| hl60_120h_t_2 | 0 | 1 | 0 | 1 | 0 | 1 |\n",
       "| hl60_120h_u_1 | 1 | 0 | 0 | 1 | 0 | 0 |\n",
       "| hl60_120h_u_2 | 1 | 0 | 0 | 1 | 0 | 0 |\n",
       "| hl60_6h_t_1 | 0 | 1 | 0 | 0 | 0 | 0 |\n",
       "| hl60_6h_t_2 | 0 | 1 | 0 | 0 | 0 | 0 |\n",
       "| hl60_6h_u_1 | 1 | 0 | 0 | 0 | 0 | 0 |\n",
       "| hl60_6h_u_2 | 1 | 0 | 0 | 0 | 0 | 0 |\n",
       "| hl60_72h_t_1 | 0 | 1 | 1 | 0 | 1 | 0 |\n",
       "| hl60_72h_t_2 | 0 | 1 | 1 | 0 | 1 | 0 |\n",
       "| hl60_72h_u_1 | 1 | 0 | 1 | 0 | 0 | 0 |\n",
       "| hl60_72h_u_2 | 1 | 0 | 1 | 0 | 0 | 0 |\n",
       "\n"
      ],
      "text/plain": [
       "              condDMSO condDecitabine time72h time120h condDecitabine:time72h\n",
       "hl60_120h_t_1 0        1              0       1        0                     \n",
       "hl60_120h_t_2 0        1              0       1        0                     \n",
       "hl60_120h_u_1 1        0              0       1        0                     \n",
       "hl60_120h_u_2 1        0              0       1        0                     \n",
       "hl60_6h_t_1   0        1              0       0        0                     \n",
       "hl60_6h_t_2   0        1              0       0        0                     \n",
       "hl60_6h_u_1   1        0              0       0        0                     \n",
       "hl60_6h_u_2   1        0              0       0        0                     \n",
       "hl60_72h_t_1  0        1              1       0        1                     \n",
       "hl60_72h_t_2  0        1              1       0        1                     \n",
       "hl60_72h_u_1  1        0              1       0        0                     \n",
       "hl60_72h_u_2  1        0              1       0        0                     \n",
       "              condDecitabine:time120h\n",
       "hl60_120h_t_1 1                      \n",
       "hl60_120h_t_2 1                      \n",
       "hl60_120h_u_1 0                      \n",
       "hl60_120h_u_2 0                      \n",
       "hl60_6h_t_1   0                      \n",
       "hl60_6h_t_2   0                      \n",
       "hl60_6h_u_1   0                      \n",
       "hl60_6h_u_2   0                      \n",
       "hl60_72h_t_1  0                      \n",
       "hl60_72h_t_2  0                      \n",
       "hl60_72h_u_1  0                      \n",
       "hl60_72h_u_2  0                      "
      ]
     },
     "metadata": {},
     "output_type": "display_data"
    }
   ],
   "source": [
    "model.matrix(~0+cond*time, colData[colData$line=='hl60',])"
   ]
  },
  {
   "cell_type": "code",
   "execution_count": 31,
   "metadata": {},
   "outputs": [
    {
     "name": "stderr",
     "output_type": "stream",
     "text": [
      "using counts and average transcript lengths from tximport\n",
      "\n",
      "estimating size factors\n",
      "\n",
      "using 'avgTxLength' from assays(dds), correcting for library size\n",
      "\n",
      "estimating dispersions\n",
      "\n",
      "gene-wise dispersion estimates: 18 workers\n",
      "\n",
      "mean-dispersion relationship\n",
      "\n",
      "final dispersion estimates, fitting model and testing: 18 workers\n",
      "\n"
     ]
    }
   ],
   "source": [
    "dds <- DESeqDataSetFromTximport(txi_hl60, colData[colData$line=='hl60',], ~0 + cond + time + cond:time)\n",
    "\n",
    "# Annova test\n",
    "dds <- DESeq(dds, test=\"LRT\", reduced=~1, parallel=TRUE)"
   ]
  },
  {
   "cell_type": "code",
   "execution_count": 32,
   "metadata": {},
   "outputs": [
    {
     "data": {
      "text/html": [
       "<style>\n",
       ".list-inline {list-style: none; margin:0; padding: 0}\n",
       ".list-inline>li {display: inline-block}\n",
       ".list-inline>li:not(:last-child)::after {content: \"\\00b7\"; padding: 0 .5ex}\n",
       "</style>\n",
       "<ol class=list-inline><li>'condDMSO'</li><li>'condDecitabine'</li><li>'time72h'</li><li>'time120h'</li><li>'condDecitabine.time72h'</li><li>'condDecitabine.time120h'</li></ol>\n"
      ],
      "text/latex": [
       "\\begin{enumerate*}\n",
       "\\item 'condDMSO'\n",
       "\\item 'condDecitabine'\n",
       "\\item 'time72h'\n",
       "\\item 'time120h'\n",
       "\\item 'condDecitabine.time72h'\n",
       "\\item 'condDecitabine.time120h'\n",
       "\\end{enumerate*}\n"
      ],
      "text/markdown": [
       "1. 'condDMSO'\n",
       "2. 'condDecitabine'\n",
       "3. 'time72h'\n",
       "4. 'time120h'\n",
       "5. 'condDecitabine.time72h'\n",
       "6. 'condDecitabine.time120h'\n",
       "\n",
       "\n"
      ],
      "text/plain": [
       "[1] \"condDMSO\"                \"condDecitabine\"         \n",
       "[3] \"time72h\"                 \"time120h\"               \n",
       "[5] \"condDecitabine.time72h\"  \"condDecitabine.time120h\""
      ]
     },
     "metadata": {},
     "output_type": "display_data"
    }
   ],
   "source": [
    "resultsNames(dds)"
   ]
  },
  {
   "cell_type": "code",
   "execution_count": 33,
   "metadata": {},
   "outputs": [],
   "source": [
    "# saveRDS(dds,'dds.rds.gz',compress='gzip')"
   ]
  },
  {
   "cell_type": "code",
   "execution_count": 34,
   "metadata": {},
   "outputs": [],
   "source": [
    "# dds_ind <- DESeqDataSetFromTximport(txi.gene, colData, ~0+cond + time)\n",
    "\n",
    "# dds_ind$time <- relevel(dds_ind$time, ref=\"6h\")\n",
    "# dds_ind$cond <- relevel(dds_ind$cond, ref=\"DMSO\")\n",
    "\n",
    "\n",
    "# dds_ind <- DESeq(dds_ind, test=\"LRT\", reduced=~1) #, parallel=TRUE)\n",
    "\n",
    "# resultsNames(dds_ind)\n",
    "\n",
    "# # no interaction\n",
    "# res.ind = results(dds_ind,contrast=list(\"condDMSO\",\"condDecitabine\"),listValues=c(1,-1)) %>% ann_Result"
   ]
  },
  {
   "cell_type": "code",
   "execution_count": 34,
   "metadata": {},
   "outputs": [],
   "source": [
    "# contrast design: treatment at 6h vs dmso at 6h\n",
    "res.6h  = results(dds, contrast=list(\"condDecitabine\",\"condDMSO\"),listValues=c(1,-1)) #%>% ann_Result\n",
    "\n",
    "# contrast design: treatment at 72h vs dmso at 72h\n",
    "res.72h = results(dds, contrast=list(c('condDecitabine', 'condDecitabine.time72h'),c('condDMSO')),listValues=c(1,-1)) #%>% ann_Result\n",
    "\n",
    "# contrast design: treatment at 120h vs dmso at 120h\n",
    "res.120h = results(dds, contrast=list(c('condDecitabine', 'condDecitabine.time120h'),c('condDMSO')),listValues=c(1,-1)) #%>% ann_Result"
   ]
  },
  {
   "cell_type": "code",
   "execution_count": 35,
   "metadata": {},
   "outputs": [
    {
     "data": {
      "text/html": [
       "<style>\n",
       ".list-inline {list-style: none; margin:0; padding: 0}\n",
       ".list-inline>li {display: inline-block}\n",
       ".list-inline>li:not(:last-child)::after {content: \"\\00b7\"; padding: 0 .5ex}\n",
       "</style>\n",
       "<ol class=list-inline><li>&lt;NA&gt;</li><li>0.784173792032224</li><li>0.683085058293997</li><li>&lt;NA&gt;</li><li>0.234272922640334</li><li>0.865010145516972</li></ol>\n"
      ],
      "text/latex": [
       "\\begin{enumerate*}\n",
       "\\item <NA>\n",
       "\\item 0.784173792032224\n",
       "\\item 0.683085058293997\n",
       "\\item <NA>\n",
       "\\item 0.234272922640334\n",
       "\\item 0.865010145516972\n",
       "\\end{enumerate*}\n"
      ],
      "text/markdown": [
       "1. &lt;NA&gt;\n",
       "2. 0.784173792032224\n",
       "3. 0.683085058293997\n",
       "4. &lt;NA&gt;\n",
       "5. 0.234272922640334\n",
       "6. 0.865010145516972\n",
       "\n",
       "\n"
      ],
      "text/plain": [
       "[1]        NA 0.7841738 0.6830851        NA 0.2342729 0.8650101"
      ]
     },
     "metadata": {},
     "output_type": "display_data"
    }
   ],
   "source": [
    "res.6h$pvalue %>% head "
   ]
  },
  {
   "cell_type": "code",
   "execution_count": 36,
   "metadata": {},
   "outputs": [
    {
     "data": {
      "text/html": [
       "<style>\n",
       ".list-inline {list-style: none; margin:0; padding: 0}\n",
       ".list-inline>li {display: inline-block}\n",
       ".list-inline>li:not(:last-child)::after {content: \"\\00b7\"; padding: 0 .5ex}\n",
       "</style>\n",
       "<ol class=list-inline><li>&lt;NA&gt;</li><li>0.784173792032224</li><li>0.683085058293997</li><li>&lt;NA&gt;</li><li>0.234272922640334</li><li>0.865010145516972</li></ol>\n"
      ],
      "text/latex": [
       "\\begin{enumerate*}\n",
       "\\item <NA>\n",
       "\\item 0.784173792032224\n",
       "\\item 0.683085058293997\n",
       "\\item <NA>\n",
       "\\item 0.234272922640334\n",
       "\\item 0.865010145516972\n",
       "\\end{enumerate*}\n"
      ],
      "text/markdown": [
       "1. &lt;NA&gt;\n",
       "2. 0.784173792032224\n",
       "3. 0.683085058293997\n",
       "4. &lt;NA&gt;\n",
       "5. 0.234272922640334\n",
       "6. 0.865010145516972\n",
       "\n",
       "\n"
      ],
      "text/plain": [
       "[1]        NA 0.7841738 0.6830851        NA 0.2342729 0.8650101"
      ]
     },
     "metadata": {},
     "output_type": "display_data"
    }
   ],
   "source": [
    "res.72h$pvalue %>% head "
   ]
  },
  {
   "cell_type": "code",
   "execution_count": 39,
   "metadata": {},
   "outputs": [],
   "source": [
    "# %%R \n",
    "# # meta \n",
    "# colData.T <- data.frame(\n",
    "#     time=c(rep(120,4),rep(6,4),rep(72,4)), \n",
    "#     cond=rep(c(rep('DMSO',2), rep('Decitabine',2)),3), \n",
    "#     time_cond=paste(hours,treats,sep='_'), \n",
    "#     sample_id=colnames(txi$abundance),\n",
    "#     row.names=colnames(txi$abundance))\n",
    "\n",
    "# dds.T <- DESeqDataSetFromTximport(txi.gene, colData.T, ~cond + time + cond:time)\n",
    "# dds.T <- DESeq(dds.T, test=\"LRT\", reduced=~1, parallel=TRUE)"
   ]
  },
  {
   "cell_type": "code",
   "execution_count": 40,
   "metadata": {},
   "outputs": [],
   "source": [
    "# %%R\n",
    "# resultsNames(dds.T)"
   ]
  },
  {
   "cell_type": "code",
   "execution_count": 41,
   "metadata": {},
   "outputs": [],
   "source": [
    "# %%R\n",
    "# res_cnt_time_T_vs_U = results(dds.T, name='cond_Decitabine_vs_DMSO', parallel=T) %>% \n",
    "#     data.frame %>% add_column(name = gene2name[rownames(dds.T),]) %>%\n",
    "#     add_column(ensembl = rownames(dds.T) %>% substr(0, 15))\n",
    "\n",
    "# p1 = plot_Volcano(res_cnt_time_T_vs_U, 0.1, title='Time as continuous variable: Treated vs DMSO', \n",
    "#                   x_min=-2,x_max=2)"
   ]
  },
  {
   "cell_type": "code",
   "execution_count": 42,
   "metadata": {},
   "outputs": [],
   "source": [
    "# %%R\n",
    "# res_cnt_time = results(dds.T, name='condDecitabine.time', parallel=T) %>% \n",
    "#     data.frame %>% add_column(name = gene2name[rownames(dds.T),]) %>%\n",
    "#     add_column(ensembl = rownames(dds.T) %>% substr(0, 15))\n",
    "\n",
    "# p2 = plot_Volcano(res_cnt_time, 0.01, title='Time as continuous variable: Condition and time interaction', \n",
    "#                   x_min=-0.1,x_max=0.1)"
   ]
  },
  {
   "cell_type": "code",
   "execution_count": 43,
   "metadata": {},
   "outputs": [],
   "source": [
    "# %%R\n",
    "# df = data.frame(\n",
    "#     'gene_id'=rownames(res_cnt_time_T_vs_U), 'gene_name'= res_cnt_time_T_vs_U$name,\n",
    "#     'baseMean' = res_cnt_time$baseMean,\n",
    "#     'log2FC_time' = res_cnt_time$log2FoldChange,'log2FC_time'= res_cnt_time$pval,\n",
    "#     'log2FC_T_vs_U' = res_cnt_time_T_vs_U$log2FoldChange,'pval_T_vs_U'= res_cnt_time_T_vs_U$pval\n",
    "# )    \n",
    "# df = df[order(df$log2FC_time),]\n",
    "\n",
    "# write_Result(df, 'results_time_continuous.txt', col=TRUE)"
   ]
  },
  {
   "cell_type": "code",
   "execution_count": 44,
   "metadata": {},
   "outputs": [],
   "source": [
    "# %%R\n",
    "# plot_Save(p1 / p2, 'Volcano_time_continuous')\n",
    "# p1 / p2"
   ]
  },
  {
   "cell_type": "markdown",
   "metadata": {
    "tags": []
   },
   "source": [
    "#### 72 hour only comparison "
   ]
  },
  {
   "cell_type": "code",
   "execution_count": 37,
   "metadata": {},
   "outputs": [],
   "source": [
    "# txi_hl60_72h <- tximport(\n",
    "#     files[grep(\"hl60_72h\", files, fixed=T)], \n",
    "#     type = \"salmon\", tx2gene = tx2gene, txOut=TRUE\n",
    "# )\n",
    "\n",
    "# # txi_hl60_72h.gene <- summarizeToGene(txi_hl60_72h, tx2gene, ignoreAfterBar= TRUE)"
   ]
  },
  {
   "cell_type": "markdown",
   "metadata": {},
   "source": [
    "Define the sample sheet"
   ]
  },
  {
   "cell_type": "code",
   "execution_count": 38,
   "metadata": {},
   "outputs": [],
   "source": [
    "# dds72h <- DESeqDataSetFromTximport(txi_hl60_72h.gene, colData[colData$time == '72h' & colData$line =='hl60',], ~cond)\n",
    "\n",
    "# dds72h <- DESeq(dds72h)"
   ]
  },
  {
   "cell_type": "code",
   "execution_count": 39,
   "metadata": {},
   "outputs": [],
   "source": [
    "# res.72h.only <- results(dds72h,name='cond_Decitabine_vs_DMSO') %>% \n",
    "# data.frame %>% ann_Result"
   ]
  },
  {
   "cell_type": "code",
   "execution_count": 40,
   "metadata": {},
   "outputs": [],
   "source": [
    "# plot_Volcano(res.72h.only,labels=10)"
   ]
  },
  {
   "cell_type": "markdown",
   "metadata": {
    "tags": []
   },
   "source": [
    "### Save results into a list"
   ]
  },
  {
   "cell_type": "code",
   "execution_count": 42,
   "metadata": {},
   "outputs": [],
   "source": [
    "RES = list(res.6h,res.72h,res.120h) #res.72h.only,\n",
    "names(RES) <- c('hl60_6h','hl60_72h','hl60_120h') #'hl60_72h_only',"
   ]
  },
  {
   "cell_type": "markdown",
   "metadata": {
    "tags": []
   },
   "source": [
    "___\n",
    "## Decitabine treatment RNA-Seq experiments in 5 other AML cell lines "
   ]
  },
  {
   "cell_type": "markdown",
   "metadata": {},
   "source": [
    "Here, I'll run basic DESeq2 analysis "
   ]
  },
  {
   "cell_type": "markdown",
   "metadata": {
    "tags": []
   },
   "source": [
    "### Load count data and meta table "
   ]
  },
  {
   "cell_type": "markdown",
   "metadata": {},
   "source": [
    "Import salmon quants"
   ]
  },
  {
   "cell_type": "code",
   "execution_count": 43,
   "metadata": {},
   "outputs": [
    {
     "name": "stderr",
     "output_type": "stream",
     "text": [
      "reading in files with read_tsv\n",
      "\n",
      "1 \n",
      "2 \n",
      "3 \n",
      "4 \n",
      "5 \n",
      "6 \n",
      "7 \n",
      "8 \n",
      "9 \n",
      "10 \n",
      "11 \n",
      "12 \n",
      "13 \n",
      "14 \n",
      "15 \n",
      "16 \n",
      "17 \n",
      "18 \n",
      "19 \n",
      "20 \n",
      "21 \n",
      "22 \n",
      "23 \n",
      "24 \n",
      "25 \n",
      "26 \n",
      "27 \n",
      "28 \n",
      "29 \n",
      "30 \n",
      "\n",
      "\n"
     ]
    }
   ],
   "source": [
    "txi_other <- tximport(\n",
    "    files[grep(\"hl60\", files, fixed=T,invert=TRUE)],\n",
    "    type = \"salmon\", tx2gene = tx2gene, txOut=TRUE\n",
    ")\n",
    "\n",
    "# txi_other.gene <- summarizeToGene(txi_other, tx2gene, ignoreAfterBar= TRUE)"
   ]
  },
  {
   "cell_type": "markdown",
   "metadata": {
    "tags": []
   },
   "source": [
    "### Differential expression analysis\n"
   ]
  },
  {
   "cell_type": "markdown",
   "metadata": {},
   "source": [
    "Get results"
   ]
  },
  {
   "cell_type": "code",
   "execution_count": 48,
   "metadata": {},
   "outputs": [
    {
     "name": "stdout",
     "output_type": "stream",
     "text": [
      "[1] \"kg1\"\n"
     ]
    },
    {
     "name": "stderr",
     "output_type": "stream",
     "text": [
      "using counts and average transcript lengths from tximport\n",
      "\n",
      "estimating size factors\n",
      "\n",
      "using 'avgTxLength' from assays(dds), correcting for library size\n",
      "\n",
      "estimating dispersions\n",
      "\n",
      "gene-wise dispersion estimates\n",
      "\n",
      "mean-dispersion relationship\n",
      "\n",
      "-- note: fitType='parametric', but the dispersion trend was not well captured by the\n",
      "   function: y = a/x + b, and a local regression fit was automatically substituted.\n",
      "   specify fitType='local' or 'mean' to avoid this message next time.\n",
      "\n",
      "final dispersion estimates\n",
      "\n",
      "fitting model and testing\n",
      "\n"
     ]
    },
    {
     "name": "stdout",
     "output_type": "stream",
     "text": [
      "[1] \"molm14\"\n"
     ]
    },
    {
     "name": "stderr",
     "output_type": "stream",
     "text": [
      "using counts and average transcript lengths from tximport\n",
      "\n",
      "estimating size factors\n",
      "\n",
      "using 'avgTxLength' from assays(dds), correcting for library size\n",
      "\n",
      "estimating dispersions\n",
      "\n",
      "gene-wise dispersion estimates\n",
      "\n",
      "mean-dispersion relationship\n",
      "\n",
      "final dispersion estimates\n",
      "\n",
      "fitting model and testing\n",
      "\n"
     ]
    },
    {
     "name": "stdout",
     "output_type": "stream",
     "text": [
      "[1] \"ociaml2\"\n"
     ]
    },
    {
     "name": "stderr",
     "output_type": "stream",
     "text": [
      "using counts and average transcript lengths from tximport\n",
      "\n",
      "estimating size factors\n",
      "\n",
      "using 'avgTxLength' from assays(dds), correcting for library size\n",
      "\n",
      "estimating dispersions\n",
      "\n",
      "gene-wise dispersion estimates\n",
      "\n",
      "mean-dispersion relationship\n",
      "\n",
      "-- note: fitType='parametric', but the dispersion trend was not well captured by the\n",
      "   function: y = a/x + b, and a local regression fit was automatically substituted.\n",
      "   specify fitType='local' or 'mean' to avoid this message next time.\n",
      "\n",
      "final dispersion estimates\n",
      "\n",
      "fitting model and testing\n",
      "\n"
     ]
    },
    {
     "name": "stdout",
     "output_type": "stream",
     "text": [
      "[1] \"ociaml3\"\n"
     ]
    },
    {
     "name": "stderr",
     "output_type": "stream",
     "text": [
      "using counts and average transcript lengths from tximport\n",
      "\n",
      "estimating size factors\n",
      "\n",
      "using 'avgTxLength' from assays(dds), correcting for library size\n",
      "\n",
      "estimating dispersions\n",
      "\n",
      "gene-wise dispersion estimates\n",
      "\n",
      "mean-dispersion relationship\n",
      "\n",
      "final dispersion estimates\n",
      "\n",
      "fitting model and testing\n",
      "\n"
     ]
    },
    {
     "name": "stdout",
     "output_type": "stream",
     "text": [
      "[1] \"thp1\"\n"
     ]
    },
    {
     "name": "stderr",
     "output_type": "stream",
     "text": [
      "using counts and average transcript lengths from tximport\n",
      "\n",
      "estimating size factors\n",
      "\n",
      "using 'avgTxLength' from assays(dds), correcting for library size\n",
      "\n",
      "estimating dispersions\n",
      "\n",
      "gene-wise dispersion estimates\n",
      "\n",
      "mean-dispersion relationship\n",
      "\n",
      "-- note: fitType='parametric', but the dispersion trend was not well captured by the\n",
      "   function: y = a/x + b, and a local regression fit was automatically substituted.\n",
      "   specify fitType='local' or 'mean' to avoid this message next time.\n",
      "\n",
      "final dispersion estimates\n",
      "\n",
      "fitting model and testing\n",
      "\n"
     ]
    }
   ],
   "source": [
    "DDS2 = list()\n",
    "\n",
    "# for loop to split DESeq object for more stable analysis  \n",
    "for (l in unique(colData$line) ){\n",
    "    if (l != 'hl60'){\n",
    "        print (l)\n",
    "        k = colData$line == l\n",
    "        # cell lines with BatchEffect \n",
    "        if (l %in% c('thp1','ociaml2') ){\n",
    "            # dds object for each cell line \n",
    "            dds_tmp1 <- DESeqDataSetFromTximport(txi, colData, ~cond + reps)[,c(k)]\n",
    "            DDS2[[l]]<- DESeq(dds_tmp1) #, parallel=TRUE)\n",
    "            # rm(dds_tmp1)\n",
    "        } \n",
    "        else {\n",
    "            dds_tmp2 <- DESeqDataSetFromTximport(txi, colData, ~cond)\n",
    "            dds_tmp2 <- dds_tmp2[,c(k)] # subset samples from dds object https://www.biostars.org/p/442188/\n",
    "            DDS2[[l]]<- DESeq(dds_tmp2) #, parallel=TRUE)\n",
    "            # rm(dds_tmp2)\n",
    "        }\n",
    "        # get results \n",
    "        res = results(\n",
    "            DDS2[[l]], \n",
    "            contrast=c('cond','Decitabine','DMSO'),\n",
    "            parallel=TRUE\n",
    "        )\n",
    "\n",
    "        RES[[l]] = res \n",
    "    }\n",
    "}"
   ]
  },
  {
   "cell_type": "markdown",
   "metadata": {
    "tags": []
   },
   "source": [
    "#### Check direction"
   ]
  },
  {
   "cell_type": "code",
   "execution_count": 56,
   "metadata": {},
   "outputs": [
    {
     "data": {
      "text/html": [
       "<table class=\"dataframe\">\n",
       "<caption>A data.frame: 6 × 6</caption>\n",
       "<thead>\n",
       "\t<tr><th></th><th scope=col>baseMean</th><th scope=col>log2FoldChange</th><th scope=col>lfcSE</th><th scope=col>stat</th><th scope=col>pvalue</th><th scope=col>padj</th></tr>\n",
       "\t<tr><th></th><th scope=col>&lt;dbl&gt;</th><th scope=col>&lt;dbl&gt;</th><th scope=col>&lt;dbl&gt;</th><th scope=col>&lt;dbl&gt;</th><th scope=col>&lt;dbl&gt;</th><th scope=col>&lt;dbl&gt;</th></tr>\n",
       "</thead>\n",
       "<tbody>\n",
       "\t<tr><th scope=row>uc002fnc.2</th><td>284.9988</td><td>-12.62768</td><td>3.843663</td><td>-3.285324</td><td>1.018652e-03</td><td>5.529828e-02</td></tr>\n",
       "\t<tr><th scope=row>uc001iuf.3</th><td>262.0670</td><td> 12.08659</td><td>3.844012</td><td> 3.144264</td><td>1.665052e-03</td><td>7.625612e-02</td></tr>\n",
       "\t<tr><th scope=row>uc001xnr.3</th><td>248.4978</td><td>-11.95814</td><td>3.843674</td><td>-3.111122</td><td>1.863780e-03</td><td>8.223260e-02</td></tr>\n",
       "\t<tr><th scope=row>uc001hxz.2</th><td>262.4489</td><td>-11.69887</td><td>1.302293</td><td>-8.983286</td><td>2.627988e-19</td><td>6.158253e-16</td></tr>\n",
       "\t<tr><th scope=row>uc021pks.1</th><td>240.5009</td><td>-11.07854</td><td>1.269557</td><td>-8.726300</td><td>2.631393e-18</td><td>4.624673e-15</td></tr>\n",
       "\t<tr><th scope=row>uc001nsw.1</th><td>310.1475</td><td>-11.05498</td><td>3.843707</td><td>-2.876125</td><td>4.025899e-03</td><td>1.404569e-01</td></tr>\n",
       "</tbody>\n",
       "</table>\n"
      ],
      "text/latex": [
       "A data.frame: 6 × 6\n",
       "\\begin{tabular}{r|llllll}\n",
       "  & baseMean & log2FoldChange & lfcSE & stat & pvalue & padj\\\\\n",
       "  & <dbl> & <dbl> & <dbl> & <dbl> & <dbl> & <dbl>\\\\\n",
       "\\hline\n",
       "\tuc002fnc.2 & 284.9988 & -12.62768 & 3.843663 & -3.285324 & 1.018652e-03 & 5.529828e-02\\\\\n",
       "\tuc001iuf.3 & 262.0670 &  12.08659 & 3.844012 &  3.144264 & 1.665052e-03 & 7.625612e-02\\\\\n",
       "\tuc001xnr.3 & 248.4978 & -11.95814 & 3.843674 & -3.111122 & 1.863780e-03 & 8.223260e-02\\\\\n",
       "\tuc001hxz.2 & 262.4489 & -11.69887 & 1.302293 & -8.983286 & 2.627988e-19 & 6.158253e-16\\\\\n",
       "\tuc021pks.1 & 240.5009 & -11.07854 & 1.269557 & -8.726300 & 2.631393e-18 & 4.624673e-15\\\\\n",
       "\tuc001nsw.1 & 310.1475 & -11.05498 & 3.843707 & -2.876125 & 4.025899e-03 & 1.404569e-01\\\\\n",
       "\\end{tabular}\n"
      ],
      "text/markdown": [
       "\n",
       "A data.frame: 6 × 6\n",
       "\n",
       "| <!--/--> | baseMean &lt;dbl&gt; | log2FoldChange &lt;dbl&gt; | lfcSE &lt;dbl&gt; | stat &lt;dbl&gt; | pvalue &lt;dbl&gt; | padj &lt;dbl&gt; |\n",
       "|---|---|---|---|---|---|---|\n",
       "| uc002fnc.2 | 284.9988 | -12.62768 | 3.843663 | -3.285324 | 1.018652e-03 | 5.529828e-02 |\n",
       "| uc001iuf.3 | 262.0670 |  12.08659 | 3.844012 |  3.144264 | 1.665052e-03 | 7.625612e-02 |\n",
       "| uc001xnr.3 | 248.4978 | -11.95814 | 3.843674 | -3.111122 | 1.863780e-03 | 8.223260e-02 |\n",
       "| uc001hxz.2 | 262.4489 | -11.69887 | 1.302293 | -8.983286 | 2.627988e-19 | 6.158253e-16 |\n",
       "| uc021pks.1 | 240.5009 | -11.07854 | 1.269557 | -8.726300 | 2.631393e-18 | 4.624673e-15 |\n",
       "| uc001nsw.1 | 310.1475 | -11.05498 | 3.843707 | -2.876125 | 4.025899e-03 | 1.404569e-01 |\n",
       "\n"
      ],
      "text/plain": [
       "           baseMean log2FoldChange lfcSE    stat      pvalue       padj        \n",
       "uc002fnc.2 284.9988 -12.62768      3.843663 -3.285324 1.018652e-03 5.529828e-02\n",
       "uc001iuf.3 262.0670  12.08659      3.844012  3.144264 1.665052e-03 7.625612e-02\n",
       "uc001xnr.3 248.4978 -11.95814      3.843674 -3.111122 1.863780e-03 8.223260e-02\n",
       "uc001hxz.2 262.4489 -11.69887      1.302293 -8.983286 2.627988e-19 6.158253e-16\n",
       "uc021pks.1 240.5009 -11.07854      1.269557 -8.726300 2.631393e-18 4.624673e-15\n",
       "uc001nsw.1 310.1475 -11.05498      3.843707 -2.876125 4.025899e-03 1.404569e-01"
      ]
     },
     "metadata": {},
     "output_type": "display_data"
    }
   ],
   "source": [
    "RES[['ociaml2']] %>% data.frame %>% arrange(desc(abs(log2FoldChange))) %>% head"
   ]
  },
  {
   "cell_type": "code",
   "execution_count": 89,
   "metadata": {},
   "outputs": [
    {
     "name": "stderr",
     "output_type": "stream",
     "text": [
      "geom_path: Each group consists of only one observation. Do you need to adjust\n",
      "the group aesthetic?\n",
      "\n"
     ]
    },
    {
     "data": {
      "image/png": "[encoded data removed]",
      "text/plain": [
       "plot without title"
      ]
     },
     "metadata": {
      "image/png": {
       "height": 420,
       "width": 420
      }
     },
     "output_type": "display_data"
    }
   ],
   "source": [
    "plot_gene_counts(DDS2[['ociaml2']],'uc001hxz.2','uc001hxz.2')"
   ]
  },
  {
   "cell_type": "markdown",
   "metadata": {
    "tags": []
   },
   "source": [
    "## Merge all fold change data "
   ]
  },
  {
   "cell_type": "code",
   "execution_count": 94,
   "metadata": {},
   "outputs": [],
   "source": [
    "result_table = data.frame(\n",
    "    gene_id=rownames(dds0)\n",
    ")"
   ]
  },
  {
   "cell_type": "code",
   "execution_count": 96,
   "metadata": {},
   "outputs": [
    {
     "name": "stdout",
     "output_type": "stream",
     "text": [
      "[1] \"hl60_6h\"\n",
      "[1] \"hl60_72h\"\n",
      "[1] \"hl60_120h\"\n",
      "[1] \"kg1\"\n",
      "[1] \"molm14\"\n",
      "[1] \"ociaml2\"\n",
      "[1] \"ociaml3\"\n",
      "[1] \"thp1\"\n"
     ]
    }
   ],
   "source": [
    "for (name in names(RES)){\n",
    "    print (name)\n",
    "    \n",
    "    df = RES[[name]] %>% data.frame %>% select(c('log2FoldChange','pvalue')) \n",
    "    \n",
    "    colnames(df) <- c(paste0(name,\"_log2FC\"),paste0(name,\"_pvalue\"))\n",
    "    cbind(result_table,df%>% remove_rownames) -> result_table\n",
    "}"
   ]
  },
  {
   "cell_type": "code",
   "execution_count": 97,
   "metadata": {},
   "outputs": [
    {
     "data": {
      "text/html": [
       "<table class=\"dataframe\">\n",
       "<caption>A data.frame: 6 × 17</caption>\n",
       "<thead>\n",
       "\t<tr><th></th><th scope=col>gene_id</th><th scope=col>hl60_6h_log2FC</th><th scope=col>hl60_6h_pvalue</th><th scope=col>hl60_72h_log2FC</th><th scope=col>hl60_72h_pvalue</th><th scope=col>hl60_120h_log2FC</th><th scope=col>hl60_120h_pvalue</th><th scope=col>kg1_log2FC</th><th scope=col>kg1_pvalue</th><th scope=col>molm14_log2FC</th><th scope=col>molm14_pvalue</th><th scope=col>ociaml2_log2FC</th><th scope=col>ociaml2_pvalue</th><th scope=col>ociaml3_log2FC</th><th scope=col>ociaml3_pvalue</th><th scope=col>thp1_log2FC</th><th scope=col>thp1_pvalue</th></tr>\n",
       "\t<tr><th></th><th scope=col>&lt;chr&gt;</th><th scope=col>&lt;dbl&gt;</th><th scope=col>&lt;dbl&gt;</th><th scope=col>&lt;dbl&gt;</th><th scope=col>&lt;dbl&gt;</th><th scope=col>&lt;dbl&gt;</th><th scope=col>&lt;dbl&gt;</th><th scope=col>&lt;dbl&gt;</th><th scope=col>&lt;dbl&gt;</th><th scope=col>&lt;dbl&gt;</th><th scope=col>&lt;dbl&gt;</th><th scope=col>&lt;dbl&gt;</th><th scope=col>&lt;dbl&gt;</th><th scope=col>&lt;dbl&gt;</th><th scope=col>&lt;dbl&gt;</th><th scope=col>&lt;dbl&gt;</th><th scope=col>&lt;dbl&gt;</th></tr>\n",
       "</thead>\n",
       "<tbody>\n",
       "\t<tr><th scope=row>1</th><td>uc001aaa.3</td><td>        NA</td><td>       NA</td><td>        NA</td><td>       NA</td><td>        NA</td><td>       NA</td><td>         NA</td><td>        NA</td><td>-1.9194959</td><td>0.63156082</td><td>        NA</td><td>       NA</td><td>         NA</td><td>        NA</td><td>        NA</td><td>         NA</td></tr>\n",
       "\t<tr><th scope=row>2</th><td>uc010nxq.1</td><td> 2.5043997</td><td>0.7841738</td><td>-4.6361131</td><td>0.7841738</td><td>-0.1382060</td><td>0.7841738</td><td> 0.01839997</td><td>0.99312927</td><td>-2.3581796</td><td>0.55465298</td><td> 0.3844354</td><td>0.8997725</td><td>-0.16010219</td><td>0.96452929</td><td>-2.1662936</td><td>0.586791909</td></tr>\n",
       "\t<tr><th scope=row>3</th><td>uc010nxr.1</td><td> 4.5030896</td><td>0.6830851</td><td> 5.4328140</td><td>0.6830851</td><td>-0.1381478</td><td>0.6830851</td><td>         NA</td><td>        NA</td><td>        NA</td><td>        NA</td><td> 0.0213155</td><td>0.9956948</td><td>         NA</td><td>        NA</td><td> 0.7063051</td><td>0.861307914</td></tr>\n",
       "\t<tr><th scope=row>4</th><td>uc009vis.3</td><td>        NA</td><td>       NA</td><td>        NA</td><td>       NA</td><td>        NA</td><td>       NA</td><td> 7.29156527</td><td>0.06224412</td><td>        NA</td><td>        NA</td><td>-2.0819208</td><td>0.5997154</td><td> 6.44702153</td><td>0.09958849</td><td> 1.3052451</td><td>0.742093778</td></tr>\n",
       "\t<tr><th scope=row>5</th><td>uc001aae.4</td><td>-0.4279113</td><td>0.2342729</td><td>-8.1203831</td><td>0.2342729</td><td>-0.1382915</td><td>0.2342729</td><td> 0.63716627</td><td>0.61630931</td><td> 0.5127029</td><td>0.05272666</td><td> 1.2634239</td><td>0.4064782</td><td>-0.06893293</td><td>0.77453962</td><td> 8.4398597</td><td>0.003098454</td></tr>\n",
       "\t<tr><th scope=row>6</th><td>uc009vit.3</td><td> 0.1387841</td><td>0.8650101</td><td> 0.3949039</td><td>0.8650101</td><td>-0.2905831</td><td>0.8650101</td><td>-1.51590029</td><td>        NA</td><td>-7.7932602</td><td>0.01417428</td><td> 1.2515350</td><td>0.7514875</td><td>         NA</td><td>        NA</td><td>-9.1822087</td><td>0.003654520</td></tr>\n",
       "</tbody>\n",
       "</table>\n"
      ],
      "text/latex": [
       "A data.frame: 6 × 17\n",
       "\\begin{tabular}{r|lllllllllllllllll}\n",
       "  & gene\\_id & hl60\\_6h\\_log2FC & hl60\\_6h\\_pvalue & hl60\\_72h\\_log2FC & hl60\\_72h\\_pvalue & hl60\\_120h\\_log2FC & hl60\\_120h\\_pvalue & kg1\\_log2FC & kg1\\_pvalue & molm14\\_log2FC & molm14\\_pvalue & ociaml2\\_log2FC & ociaml2\\_pvalue & ociaml3\\_log2FC & ociaml3\\_pvalue & thp1\\_log2FC & thp1\\_pvalue\\\\\n",
       "  & <chr> & <dbl> & <dbl> & <dbl> & <dbl> & <dbl> & <dbl> & <dbl> & <dbl> & <dbl> & <dbl> & <dbl> & <dbl> & <dbl> & <dbl> & <dbl> & <dbl>\\\\\n",
       "\\hline\n",
       "\t1 & uc001aaa.3 &         NA &        NA &         NA &        NA &         NA &        NA &          NA &         NA & -1.9194959 & 0.63156082 &         NA &        NA &          NA &         NA &         NA &          NA\\\\\n",
       "\t2 & uc010nxq.1 &  2.5043997 & 0.7841738 & -4.6361131 & 0.7841738 & -0.1382060 & 0.7841738 &  0.01839997 & 0.99312927 & -2.3581796 & 0.55465298 &  0.3844354 & 0.8997725 & -0.16010219 & 0.96452929 & -2.1662936 & 0.586791909\\\\\n",
       "\t3 & uc010nxr.1 &  4.5030896 & 0.6830851 &  5.4328140 & 0.6830851 & -0.1381478 & 0.6830851 &          NA &         NA &         NA &         NA &  0.0213155 & 0.9956948 &          NA &         NA &  0.7063051 & 0.861307914\\\\\n",
       "\t4 & uc009vis.3 &         NA &        NA &         NA &        NA &         NA &        NA &  7.29156527 & 0.06224412 &         NA &         NA & -2.0819208 & 0.5997154 &  6.44702153 & 0.09958849 &  1.3052451 & 0.742093778\\\\\n",
       "\t5 & uc001aae.4 & -0.4279113 & 0.2342729 & -8.1203831 & 0.2342729 & -0.1382915 & 0.2342729 &  0.63716627 & 0.61630931 &  0.5127029 & 0.05272666 &  1.2634239 & 0.4064782 & -0.06893293 & 0.77453962 &  8.4398597 & 0.003098454\\\\\n",
       "\t6 & uc009vit.3 &  0.1387841 & 0.8650101 &  0.3949039 & 0.8650101 & -0.2905831 & 0.8650101 & -1.51590029 &         NA & -7.7932602 & 0.01417428 &  1.2515350 & 0.7514875 &          NA &         NA & -9.1822087 & 0.003654520\\\\\n",
       "\\end{tabular}\n"
      ],
      "text/markdown": [
       "\n",
       "A data.frame: 6 × 17\n",
       "\n",
       "| <!--/--> | gene_id &lt;chr&gt; | hl60_6h_log2FC &lt;dbl&gt; | hl60_6h_pvalue &lt;dbl&gt; | hl60_72h_log2FC &lt;dbl&gt; | hl60_72h_pvalue &lt;dbl&gt; | hl60_120h_log2FC &lt;dbl&gt; | hl60_120h_pvalue &lt;dbl&gt; | kg1_log2FC &lt;dbl&gt; | kg1_pvalue &lt;dbl&gt; | molm14_log2FC &lt;dbl&gt; | molm14_pvalue &lt;dbl&gt; | ociaml2_log2FC &lt;dbl&gt; | ociaml2_pvalue &lt;dbl&gt; | ociaml3_log2FC &lt;dbl&gt; | ociaml3_pvalue &lt;dbl&gt; | thp1_log2FC &lt;dbl&gt; | thp1_pvalue &lt;dbl&gt; |\n",
       "|---|---|---|---|---|---|---|---|---|---|---|---|---|---|---|---|---|---|\n",
       "| 1 | uc001aaa.3 |         NA |        NA |         NA |        NA |         NA |        NA |          NA |         NA | -1.9194959 | 0.63156082 |         NA |        NA |          NA |         NA |         NA |          NA |\n",
       "| 2 | uc010nxq.1 |  2.5043997 | 0.7841738 | -4.6361131 | 0.7841738 | -0.1382060 | 0.7841738 |  0.01839997 | 0.99312927 | -2.3581796 | 0.55465298 |  0.3844354 | 0.8997725 | -0.16010219 | 0.96452929 | -2.1662936 | 0.586791909 |\n",
       "| 3 | uc010nxr.1 |  4.5030896 | 0.6830851 |  5.4328140 | 0.6830851 | -0.1381478 | 0.6830851 |          NA |         NA |         NA |         NA |  0.0213155 | 0.9956948 |          NA |         NA |  0.7063051 | 0.861307914 |\n",
       "| 4 | uc009vis.3 |         NA |        NA |         NA |        NA |         NA |        NA |  7.29156527 | 0.06224412 |         NA |         NA | -2.0819208 | 0.5997154 |  6.44702153 | 0.09958849 |  1.3052451 | 0.742093778 |\n",
       "| 5 | uc001aae.4 | -0.4279113 | 0.2342729 | -8.1203831 | 0.2342729 | -0.1382915 | 0.2342729 |  0.63716627 | 0.61630931 |  0.5127029 | 0.05272666 |  1.2634239 | 0.4064782 | -0.06893293 | 0.77453962 |  8.4398597 | 0.003098454 |\n",
       "| 6 | uc009vit.3 |  0.1387841 | 0.8650101 |  0.3949039 | 0.8650101 | -0.2905831 | 0.8650101 | -1.51590029 |         NA | -7.7932602 | 0.01417428 |  1.2515350 | 0.7514875 |          NA |         NA | -9.1822087 | 0.003654520 |\n",
       "\n"
      ],
      "text/plain": [
       "  gene_id    hl60_6h_log2FC hl60_6h_pvalue hl60_72h_log2FC hl60_72h_pvalue\n",
       "1 uc001aaa.3         NA            NA              NA             NA      \n",
       "2 uc010nxq.1  2.5043997     0.7841738      -4.6361131      0.7841738      \n",
       "3 uc010nxr.1  4.5030896     0.6830851       5.4328140      0.6830851      \n",
       "4 uc009vis.3         NA            NA              NA             NA      \n",
       "5 uc001aae.4 -0.4279113     0.2342729      -8.1203831      0.2342729      \n",
       "6 uc009vit.3  0.1387841     0.8650101       0.3949039      0.8650101      \n",
       "  hl60_120h_log2FC hl60_120h_pvalue kg1_log2FC  kg1_pvalue molm14_log2FC\n",
       "1         NA              NA                 NA         NA -1.9194959   \n",
       "2 -0.1382060       0.7841738         0.01839997 0.99312927 -2.3581796   \n",
       "3 -0.1381478       0.6830851                 NA         NA         NA   \n",
       "4         NA              NA         7.29156527 0.06224412         NA   \n",
       "5 -0.1382915       0.2342729         0.63716627 0.61630931  0.5127029   \n",
       "6 -0.2905831       0.8650101        -1.51590029         NA -7.7932602   \n",
       "  molm14_pvalue ociaml2_log2FC ociaml2_pvalue ociaml3_log2FC ociaml3_pvalue\n",
       "1 0.63156082            NA            NA               NA            NA    \n",
       "2 0.55465298     0.3844354     0.8997725      -0.16010219    0.96452929    \n",
       "3         NA     0.0213155     0.9956948               NA            NA    \n",
       "4         NA    -2.0819208     0.5997154       6.44702153    0.09958849    \n",
       "5 0.05272666     1.2634239     0.4064782      -0.06893293    0.77453962    \n",
       "6 0.01417428     1.2515350     0.7514875               NA            NA    \n",
       "  thp1_log2FC thp1_pvalue\n",
       "1         NA           NA\n",
       "2 -2.1662936  0.586791909\n",
       "3  0.7063051  0.861307914\n",
       "4  1.3052451  0.742093778\n",
       "5  8.4398597  0.003098454\n",
       "6 -9.1822087  0.003654520"
      ]
     },
     "metadata": {},
     "output_type": "display_data"
    }
   ],
   "source": [
    "result_table %>% head "
   ]
  },
  {
   "cell_type": "markdown",
   "metadata": {
    "tags": []
   },
   "source": [
    "## Plots"
   ]
  },
  {
   "cell_type": "markdown",
   "metadata": {
    "tags": []
   },
   "source": [
    "### Correlation matrix"
   ]
  },
  {
   "cell_type": "code",
   "execution_count": 98,
   "metadata": {},
   "outputs": [],
   "source": [
    "library(Hmisc)\n",
    "library(corrplot)\n",
    "library(pheatmap)\n",
    "library(ggcorrplot)"
   ]
  },
  {
   "cell_type": "code",
   "execution_count": 99,
   "metadata": {},
   "outputs": [],
   "source": [
    "all_fc <- result_table %>% select(ends_with(\"log2FC\")) \n",
    "colnames(all_fc) <- colnames(all_fc) %>% stringr::str_remove(pattern = \"_log2FC\") %>% unlist\n"
   ]
  },
  {
   "cell_type": "code",
   "execution_count": 100,
   "metadata": {},
   "outputs": [],
   "source": [
    "corr <- rcorr(\n",
    "    as.matrix(\n",
    "        all_fc %>% select('hl60_6h','hl60_72h','hl60_120h','kg1','molm14','ociaml2','ociaml3','thp1')\n",
    "    )\n",
    ")"
   ]
  },
  {
   "cell_type": "code",
   "execution_count": 102,
   "metadata": {},
   "outputs": [
    {
     "name": "stderr",
     "output_type": "stream",
     "text": [
      "Scale for 'fill' is already present. Adding another scale for 'fill', which\n",
      "will replace the existing scale.\n",
      "\n"
     ]
    },
    {
     "data": {
      "image/png": "[encoded data removed]",
      "text/plain": [
       "plot without title"
      ]
     },
     "metadata": {
      "image/png": {
       "height": 420,
       "width": 420
      }
     },
     "output_type": "display_data"
    }
   ],
   "source": [
    "colors=c(\"#386cb0\",\"white\",\"#fdb462\")\n",
    "ggcorrplot(\n",
    "    corr$r, \n",
    "    method = c(\"square\", \"circle\"),\n",
    "    hc.order = TRUE,type = \"upper\", \n",
    "    p.mat = corr$p,\n",
    "    \n",
    ") + ggtitle(\n",
    "    \"Differential RNA Expression\\nCorrelation matrix\"\n",
    ") + ggplot2::scale_fill_gradient2(\n",
    "    low = colors[1], high = colors[3], mid = colors[2], \n",
    "    midpoint = 0, limit = c(-0.2, 0.2), space = \"Lab\"\n",
    ") + theme(\n",
    "    plot.title = element_text(\n",
    "        # face = \"bold\",\n",
    "        size = rel(1.5), hjust = 0.5),\n",
    "    panel.background = element_blank(), \n",
    "    panel.border = element_blank(), \n",
    "    panel.grid.major = element_line(colour = \"white\"), \n",
    "    legend.title = element_blank(),\n",
    "    # legend.position=\"bottom\"\n",
    ")\n",
    "\n",
    "ggsave('exp/plots/logFC_corr.pdf',width = 4, height = 4)"
   ]
  },
  {
   "cell_type": "markdown",
   "metadata": {
    "tags": []
   },
   "source": [
    "### Volcano plots"
   ]
  },
  {
   "cell_type": "code",
   "execution_count": 103,
   "metadata": {},
   "outputs": [],
   "source": [
    "plot_Volcano <- function (res, lfc.cutoff, pval.cutoff, title, labels, x_min, x_max) {\n",
    "    \n",
    "    colors_values = c(\"grey80\", \"tan\")\n",
    "\n",
    "    vol <- res %>% ggplot(aes(x = log2FoldChange, y = -log10(pvalue))) + \n",
    "        geom_point(\n",
    "            data = res %>% filter(\n",
    "                abs(log2FoldChange) >= lfc.cutoff, \n",
    "                pvalue < pval.cutoff), \n",
    "            aes(x = log2FoldChange, y = -log10(pvalue)), \n",
    "            size = 3, alpha = 5/10, shape = 21, \n",
    "            color = colors_values[2],\n",
    "            fill = colors_values[2]) + \n",
    "\n",
    "        geom_point(\n",
    "            data = res %>% filter(\n",
    "                (abs(log2FoldChange) < lfc.cutoff) | \n",
    "                (pvalue >= pval.cutoff)), \n",
    "            aes(x = log2FoldChange, y = -log10(pvalue)), \n",
    "            size = 1, alpha = 5/10, shape = 21, color = colors_values[1], \n",
    "            fill = colors_values[1]) + \n",
    "\n",
    "        # geom_point(\n",
    "        #     data = res %>% filter(gene_name %in% labels),\n",
    "        #     aes(x = log2FoldChange, y = -log10(pvalue)), \n",
    "        #     shape = 21, size = 3, color = \"grey40\", fill = \"red3\") + \n",
    "        \n",
    "        geom_rug(\n",
    "            data = res %>% filter(\n",
    "                abs(log2FoldChange) >= lfc.cutoff, \n",
    "                pvalue < pval.cutoff), \n",
    "            sides = \"b\", colour='tan') + \n",
    "\n",
    "        # geom_label_repel(\n",
    "        #     data = res %>% filter(gene_name %in% labels), \n",
    "        #     aes(label = gene_name), box.padding = 1, max.overlaps = Inf) + \n",
    "\n",
    "        xlim(c(x_min, x_max)) + \n",
    "        # ylim(c(0, -log10(res %>% select(pvalue) %>% min ))) + \n",
    "        geom_hline(yintercept = -log10(pval.cutoff), linetype = \"dashed\", alpha = 5/10) + \n",
    "        geom_text(aes(\n",
    "            x_min*0.9,-log10(pval.cutoff),\n",
    "            label = paste(\"-~log[10]~(\",pval.cutoff,')',sep=''), \n",
    "            vjust = x_min*0.05\n",
    "        ),parse = TRUE) +\n",
    "\n",
    "        theme(\n",
    "            legend.position = \"none\"\n",
    "        ) + \n",
    "        ggtitle(title) + theme_Publication()\n",
    "\n",
    "    return(vol)\n",
    "}"
   ]
  },
  {
   "cell_type": "code",
   "execution_count": 61,
   "metadata": {},
   "outputs": [],
   "source": [
    "VOL = list()"
   ]
  },
  {
   "cell_type": "code",
   "execution_count": 132,
   "metadata": {},
   "outputs": [
    {
     "data": {
      "text/html": [
       "<style>\n",
       ".list-inline {list-style: none; margin:0; padding: 0}\n",
       ".list-inline>li {display: inline-block}\n",
       ".list-inline>li:not(:last-child)::after {content: \"\\00b7\"; padding: 0 .5ex}\n",
       "</style>\n",
       "<ol class=list-inline><li>'hl60_6h'</li><li>'hl60_72h'</li><li>'hl60_72h_only'</li><li>'hl60_120h'</li><li>'kg1'</li><li>'molm14'</li><li>'ociaml2'</li><li>'ociaml3'</li><li>'thp1'</li></ol>\n"
      ],
      "text/latex": [
       "\\begin{enumerate*}\n",
       "\\item 'hl60\\_6h'\n",
       "\\item 'hl60\\_72h'\n",
       "\\item 'hl60\\_72h\\_only'\n",
       "\\item 'hl60\\_120h'\n",
       "\\item 'kg1'\n",
       "\\item 'molm14'\n",
       "\\item 'ociaml2'\n",
       "\\item 'ociaml3'\n",
       "\\item 'thp1'\n",
       "\\end{enumerate*}\n"
      ],
      "text/markdown": [
       "1. 'hl60_6h'\n",
       "2. 'hl60_72h'\n",
       "3. 'hl60_72h_only'\n",
       "4. 'hl60_120h'\n",
       "5. 'kg1'\n",
       "6. 'molm14'\n",
       "7. 'ociaml2'\n",
       "8. 'ociaml3'\n",
       "9. 'thp1'\n",
       "\n",
       "\n"
      ],
      "text/plain": [
       "[1] \"hl60_6h\"       \"hl60_72h\"      \"hl60_72h_only\" \"hl60_120h\"    \n",
       "[5] \"kg1\"           \"molm14\"        \"ociaml2\"       \"ociaml3\"      \n",
       "[9] \"thp1\"         "
      ]
     },
     "metadata": {},
     "output_type": "display_data"
    }
   ],
   "source": [
    "names(RES)"
   ]
  },
  {
   "cell_type": "markdown",
   "metadata": {},
   "source": [
    "#### hl60 time series"
   ]
  },
  {
   "cell_type": "code",
   "execution_count": 108,
   "metadata": {},
   "outputs": [],
   "source": [
    "VOL[['hl60_6h']] = plot_Volcano(\n",
    "    RES[['hl60_6h']] %>% data.frame %>% drop_na(),\n",
    "    lfc.cutoff  = 2, \n",
    "    pval.cutoff = 0.05,\n",
    "    title  = '6 hours treatment',\n",
    "    x_min = -10, x_max = 10\n",
    ")"
   ]
  },
  {
   "cell_type": "code",
   "execution_count": 109,
   "metadata": {},
   "outputs": [],
   "source": [
    "VOL[['hl60_72h']] = plot_Volcano(\n",
    "    RES[['hl60_72h']] %>% data.frame %>% drop_na(),\n",
    "    lfc.cutoff  = 2, \n",
    "    pval.cutoff = 0.05,\n",
    "    title  = '72 hours treatment', \n",
    "    x_min = -10, x_max = 10\n",
    ")"
   ]
  },
  {
   "cell_type": "code",
   "execution_count": 112,
   "metadata": {},
   "outputs": [],
   "source": [
    "VOL[['hl60_120h']] <- plot_Volcano(\n",
    "    RES[['hl60_120h']] %>% data.frame %>% drop_na(),\n",
    "    lfc.cutoff  = 2, \n",
    "    pval.cutoff = 0.05,\n",
    "    title  = '120 hours treatment', \n",
    "    x_min = -5, x_max = 5\n",
    ")"
   ]
  },
  {
   "cell_type": "code",
   "execution_count": 113,
   "metadata": {},
   "outputs": [],
   "source": [
    "hl60_vol <- VOL[['hl60_6h']] / VOL[['hl60_72h']] / VOL[['hl60_120h']]\n",
    "\n",
    "# Remove title from first subplot\n",
    "hl60_vol[[1]] = hl60_vol[[1]] + theme(axis.text.x = element_blank(),\n",
    "                                        axis.ticks.x = element_blank(),\n",
    "                                        axis.title.x = element_blank() )\n",
    "\n",
    "# Remove title from second subplot\n",
    "hl60_vol[[2]] = hl60_vol[[2]] + theme(axis.text.x = element_blank(),\n",
    "                                        axis.ticks.x = element_blank(),\n",
    "                                        axis.title.x = element_blank() )"
   ]
  },
  {
   "cell_type": "code",
   "execution_count": 114,
   "metadata": {},
   "outputs": [
    {
     "name": "stderr",
     "output_type": "stream",
     "text": [
      "Warning message:\n",
      "“Removed 39 rows containing missing values (geom_point).”\n",
      "Warning message:\n",
      "“Removed 243 rows containing missing values (geom_point).”\n"
     ]
    },
    {
     "data": {
      "image/png": "[encoded data removed]",
      "text/plain": [
       "plot without title"
      ]
     },
     "metadata": {
      "image/png": {
       "height": 420,
       "width": 420
      }
     },
     "output_type": "display_data"
    }
   ],
   "source": [
    "VOL[['hl60_72h']]"
   ]
  },
  {
   "cell_type": "code",
   "execution_count": null,
   "metadata": {},
   "outputs": [],
   "source": [
    "hl60_vol"
   ]
  },
  {
   "cell_type": "code",
   "execution_count": 115,
   "metadata": {},
   "outputs": [],
   "source": [
    "# ggsave(\n",
    "#     'exp/plots/volcano_hl60.pdf', \n",
    "#     plot = hl60_vol, device = 'pdf', width = 8, height=15\n",
    "#     #, dpi = 300\n",
    "# )\n",
    "\n",
    "# ggsave(\n",
    "#     'exp/plots/volcano_hl60.png', \n",
    "#     plot = hl60_vol, device = 'png', width = 8, height=15, dpi = 300\n",
    "# )"
   ]
  },
  {
   "cell_type": "markdown",
   "metadata": {
    "tags": []
   },
   "source": [
    "#### 72h trearment in all cell lines "
   ]
  },
  {
   "cell_type": "code",
   "execution_count": null,
   "metadata": {},
   "outputs": [],
   "source": [
    "lfc.cutoff = 1\n",
    "pval.cutoff = 0.05\n",
    "x_min = -8\n",
    "x_max = 8\n",
    "\n",
    "\n",
    "VOL[['hl60_72h_only']] = plot_Volcano(\n",
    "    RES[['hl60_72h_only']] %>% drop_na(),\n",
    "    lfc.cutoff, pval.cutoff, \n",
    "    title  = 'HL60',\n",
    "    labels, x_min, x_max\n",
    ")\n",
    "\n",
    "VOL[['kg1']] = plot_Volcano(\n",
    "    RES[['kg1']] %>% drop_na(),\n",
    "    lfc.cutoff, pval.cutoff,\n",
    "    title  = 'KG-1',\n",
    "    labels, x_min, x_max\n",
    ")\n",
    "\n",
    "VOL[['molm14']] = plot_Volcano(\n",
    "    RES[['molm14']] %>% drop_na(),\n",
    "    lfc.cutoff, pval.cutoff,\n",
    "    title  = 'MOLM-14', \n",
    "    labels, x_min, x_max\n",
    ")\n",
    "\n",
    "\n",
    "VOL[['ociaml2']] = plot_Volcano(\n",
    "    RES[['ociaml2']] %>% drop_na(),\n",
    "    lfc.cutoff, pval.cutoff, \n",
    "    title  = 'OCIAML2',\n",
    "    labels, x_min, x_max\n",
    ")\n",
    "\n",
    "VOL[['ociaml3']] <- plot_Volcano(\n",
    "    RES[['ociaml3']] %>% drop_na(),\n",
    "    lfc.cutoff, pval.cutoff,\n",
    "    title  = 'OCIAML3', \n",
    "    labels, x_min, x_max\n",
    ")\n",
    "\n",
    "VOL[['thp1']] <- plot_Volcano(\n",
    "    RES[['thp1']] %>% drop_na(),\n",
    "    lfc.cutoff, pval.cutoff,\n",
    "    title  = 'THP-1', \n",
    "    labels, x_min, x_max\n",
    ")"
   ]
  },
  {
   "cell_type": "code",
   "execution_count": null,
   "metadata": {},
   "outputs": [],
   "source": [
    "# pdf('exp/plots/volcano_plots.pdf')\n",
    "for (name in  names(VOL)){\n",
    "    # print (VOL[[name]])    \n",
    "    ggsave(\n",
    "        paste0('exp/plots/volcano_',name,'.pdf'), \n",
    "        plot = VOL[[name]], device = 'pdf', width = 5, height=5, dpi = 300\n",
    "    )\n",
    "}\n",
    "# dev.off()"
   ]
  },
  {
   "cell_type": "markdown",
   "metadata": {
    "tags": []
   },
   "source": [
    "### Clustering "
   ]
  },
  {
   "cell_type": "code",
   "execution_count": 116,
   "metadata": {},
   "outputs": [],
   "source": [
    "# mostVar <- function(data, n, i_want_most_var = TRUE) {\n",
    "#   data.var <- apply(data, 1, stats::var)\n",
    "#   data[order(data.var, decreasing = i_want_most_var)[1:n],] \n",
    "# }"
   ]
  },
  {
   "cell_type": "code",
   "execution_count": 117,
   "metadata": {},
   "outputs": [],
   "source": [
    "library(pheatmap)\n",
    "library(RColorBrewer)\n",
    "\n",
    "heat_colors <- brewer.pal(n = 6, name = \"RdYlBu\") %>% rev\n",
    "greens <- brewer.pal(n = 9, name = \"Greens\")"
   ]
  },
  {
   "cell_type": "markdown",
   "metadata": {
    "tags": []
   },
   "source": [
    "### Heatmap to show HL-60 time series clusters"
   ]
  },
  {
   "cell_type": "code",
   "execution_count": 118,
   "metadata": {},
   "outputs": [],
   "source": [
    "ann_colors = list(\n",
    "    cond = c('DMSO'=\"grey90\", 'Decitabine'=\"darkorchid\"),\n",
    "    time = c('120h'= greens[6], '72h'=greens[4], '6h'=greens[2])\n",
    ")"
   ]
  },
  {
   "cell_type": "code",
   "execution_count": 173,
   "metadata": {},
   "outputs": [
    {
     "data": {
      "text/html": [
       "<table class=\"dataframe\">\n",
       "<caption>A data.frame: 35932 × 16</caption>\n",
       "<thead>\n",
       "\t<tr><th></th><th scope=col>hl60_6h_log2FC</th><th scope=col>hl60_6h_pvalue</th><th scope=col>hl60_72h_log2FC</th><th scope=col>hl60_72h_pvalue</th><th scope=col>hl60_120h_log2FC</th><th scope=col>hl60_120h_pvalue</th><th scope=col>kg1_log2FC</th><th scope=col>kg1_pvalue</th><th scope=col>molm14_log2FC</th><th scope=col>molm14_pvalue</th><th scope=col>ociaml2_log2FC</th><th scope=col>ociaml2_pvalue</th><th scope=col>ociaml3_log2FC</th><th scope=col>ociaml3_pvalue</th><th scope=col>thp1_log2FC</th><th scope=col>thp1_pvalue</th></tr>\n",
       "\t<tr><th></th><th scope=col>&lt;dbl&gt;</th><th scope=col>&lt;dbl&gt;</th><th scope=col>&lt;dbl&gt;</th><th scope=col>&lt;dbl&gt;</th><th scope=col>&lt;dbl&gt;</th><th scope=col>&lt;dbl&gt;</th><th scope=col>&lt;dbl&gt;</th><th scope=col>&lt;dbl&gt;</th><th scope=col>&lt;dbl&gt;</th><th scope=col>&lt;dbl&gt;</th><th scope=col>&lt;dbl&gt;</th><th scope=col>&lt;dbl&gt;</th><th scope=col>&lt;dbl&gt;</th><th scope=col>&lt;dbl&gt;</th><th scope=col>&lt;dbl&gt;</th><th scope=col>&lt;dbl&gt;</th></tr>\n",
       "</thead>\n",
       "<tbody>\n",
       "\t<tr><th scope=row>uc001aaa.3</th><td>         NA</td><td>        NA</td><td>        NA</td><td>        NA</td><td>          NA</td><td>        NA</td><td>         NA</td><td>         NA</td><td>-1.919495925</td><td>0.63156082</td><td>         NA</td><td>       NA</td><td>         NA</td><td>        NA</td><td>         NA</td><td>          NA</td></tr>\n",
       "\t<tr><th scope=row>uc010nxq.1</th><td> 2.50439974</td><td>0.78417379</td><td>-4.6361131</td><td>0.78417379</td><td> -0.13820604</td><td>0.78417379</td><td> 0.01839997</td><td>0.993129267</td><td>-2.358179587</td><td>0.55465298</td><td> 0.38443541</td><td>0.8997725</td><td>-0.16010219</td><td>0.96452929</td><td>-2.16629364</td><td>5.867919e-01</td></tr>\n",
       "\t<tr><th scope=row>uc010nxr.1</th><td> 4.50308956</td><td>0.68308506</td><td> 5.4328140</td><td>0.68308506</td><td> -0.13814780</td><td>0.68308506</td><td>         NA</td><td>         NA</td><td>          NA</td><td>        NA</td><td> 0.02131550</td><td>0.9956948</td><td>         NA</td><td>        NA</td><td> 0.70630509</td><td>8.613079e-01</td></tr>\n",
       "\t<tr><th scope=row>uc009vis.3</th><td>         NA</td><td>        NA</td><td>        NA</td><td>        NA</td><td>          NA</td><td>        NA</td><td> 7.29156527</td><td>0.062244121</td><td>          NA</td><td>        NA</td><td>-2.08192077</td><td>0.5997154</td><td> 6.44702153</td><td>0.09958849</td><td> 1.30524509</td><td>7.420938e-01</td></tr>\n",
       "\t<tr><th scope=row>uc001aae.4</th><td>-0.42791130</td><td>0.23427292</td><td>-8.1203831</td><td>0.23427292</td><td> -0.13829148</td><td>0.23427292</td><td> 0.63716627</td><td>0.616309314</td><td> 0.512702908</td><td>0.05272666</td><td> 1.26342388</td><td>0.4064782</td><td>-0.06893293</td><td>0.77453962</td><td> 8.43985966</td><td>3.098454e-03</td></tr>\n",
       "\t<tr><th scope=row>uc009vit.3</th><td> 0.13878407</td><td>0.86501015</td><td> 0.3949039</td><td>0.86501015</td><td> -0.29058310</td><td>0.86501015</td><td>-1.51590029</td><td>         NA</td><td>-7.793260217</td><td>0.01417428</td><td> 1.25153504</td><td>0.7514875</td><td>         NA</td><td>        NA</td><td>-9.18220865</td><td>3.654520e-03</td></tr>\n",
       "\t<tr><th scope=row>uc009viu.3</th><td> 6.64876668</td><td>0.24974150</td><td>-8.3112049</td><td>0.24974150</td><td> -0.84939791</td><td>0.24974150</td><td>-1.68674213</td><td>0.517493878</td><td> 2.133904126</td><td>0.51152999</td><td>-1.06151407</td><td>0.2770192</td><td>-6.99218074</td><td>0.04713541</td><td>-0.92184611</td><td>8.103726e-01</td></tr>\n",
       "\t<tr><th scope=row>uc001aac.4</th><td>         NA</td><td>        NA</td><td>        NA</td><td>        NA</td><td>          NA</td><td>        NA</td><td>         NA</td><td>         NA</td><td>          NA</td><td>        NA</td><td>         NA</td><td>       NA</td><td>         NA</td><td>        NA</td><td>         NA</td><td>          NA</td></tr>\n",
       "\t<tr><th scope=row>uc001aah.4</th><td>         NA</td><td>        NA</td><td>        NA</td><td>        NA</td><td>          NA</td><td>        NA</td><td>         NA</td><td>         NA</td><td>-7.062402034</td><td>0.07106829</td><td>         NA</td><td>       NA</td><td>         NA</td><td>        NA</td><td> 1.34424972</td><td>7.340038e-01</td></tr>\n",
       "\t<tr><th scope=row>uc009viq.3</th><td> 0.74848915</td><td>0.75729422</td><td>-0.7635298</td><td>0.75729422</td><td> -0.08594768</td><td>0.75729422</td><td> 1.20982538</td><td>0.085274387</td><td>-0.383364414</td><td>0.34767530</td><td>-0.27420101</td><td>0.5711520</td><td>-0.02469616</td><td>0.97128594</td><td>-1.51860772</td><td>3.119406e-02</td></tr>\n",
       "\t<tr><th scope=row>uc009vir.3</th><td>         NA</td><td>        NA</td><td>        NA</td><td>        NA</td><td>          NA</td><td>        NA</td><td>         NA</td><td>         NA</td><td>          NA</td><td>        NA</td><td>         NA</td><td>       NA</td><td>         NA</td><td>        NA</td><td>-2.09121544</td><td>5.968190e-01</td></tr>\n",
       "\t<tr><th scope=row>uc009viv.2</th><td>14.00616508</td><td>0.46950571</td><td>25.9480098</td><td>0.46950571</td><td>-15.99383492</td><td>0.46950571</td><td> 8.47854166</td><td>0.005940701</td><td>-0.636206806</td><td>        NA</td><td>-0.26847815</td><td>0.9259051</td><td>-2.24062285</td><td>0.34787187</td><td>         NA</td><td>          NA</td></tr>\n",
       "\t<tr><th scope=row>uc009viw.2</th><td>-0.01338628</td><td>0.95166194</td><td>-1.3511155</td><td>0.95166194</td><td>  1.78238773</td><td>0.95166194</td><td>-1.95683145</td><td>0.354125345</td><td> 0.442354531</td><td>0.85003128</td><td>-0.14762088</td><td>0.8218176</td><td> 7.89107256</td><td>0.01217300</td><td> 0.01408888</td><td>9.742577e-01</td></tr>\n",
       "\t<tr><th scope=row>uc009vix.2</th><td>         NA</td><td>        NA</td><td>        NA</td><td>        NA</td><td>          NA</td><td>        NA</td><td>         NA</td><td>         NA</td><td>          NA</td><td>        NA</td><td>         NA</td><td>       NA</td><td>         NA</td><td>        NA</td><td>         NA</td><td>          NA</td></tr>\n",
       "\t<tr><th scope=row>uc009vjd.2</th><td>         NA</td><td>        NA</td><td>        NA</td><td>        NA</td><td>          NA</td><td>        NA</td><td>         NA</td><td>         NA</td><td>          NA</td><td>        NA</td><td>         NA</td><td>       NA</td><td>         NA</td><td>        NA</td><td>         NA</td><td>          NA</td></tr>\n",
       "\t<tr><th scope=row>uc009viy.2</th><td>-1.88210782</td><td>0.92200436</td><td> 4.1125937</td><td>0.92200436</td><td> -0.70462890</td><td>0.92200436</td><td> 2.98273952</td><td>0.453487360</td><td>          NA</td><td>        NA</td><td> 1.11190452</td><td>0.7760431</td><td>-2.81745904</td><td>0.48016170</td><td>-1.34897094</td><td>5.286793e-01</td></tr>\n",
       "\t<tr><th scope=row>uc009viz.2</th><td>         NA</td><td>        NA</td><td>        NA</td><td>        NA</td><td>          NA</td><td>        NA</td><td>         NA</td><td>         NA</td><td>          NA</td><td>        NA</td><td>         NA</td><td>       NA</td><td>         NA</td><td>        NA</td><td>         NA</td><td>          NA</td></tr>\n",
       "\t<tr><th scope=row>uc009vjc.1</th><td>         NA</td><td>        NA</td><td>        NA</td><td>        NA</td><td>          NA</td><td>        NA</td><td>         NA</td><td>         NA</td><td>          NA</td><td>        NA</td><td>         NA</td><td>       NA</td><td>         NA</td><td>        NA</td><td>         NA</td><td>          NA</td></tr>\n",
       "\t<tr><th scope=row>uc001aai.1</th><td> 7.48515266</td><td>0.41609604</td><td> 8.7827814</td><td>0.41609604</td><td>  8.38031192</td><td>0.41609604</td><td> 2.15237682</td><td>0.425786356</td><td>          NA</td><td>        NA</td><td>-1.35159255</td><td>0.3481032</td><td>-0.18530749</td><td>0.95378931</td><td>-9.66316919</td><td>2.960305e-11</td></tr>\n",
       "\t<tr><th scope=row>uc010nxs.1</th><td>         NA</td><td>        NA</td><td>        NA</td><td>        NA</td><td>          NA</td><td>        NA</td><td>         NA</td><td>         NA</td><td>          NA</td><td>        NA</td><td>         NA</td><td>       NA</td><td>         NA</td><td>        NA</td><td>         NA</td><td>          NA</td></tr>\n",
       "\t<tr><th scope=row>uc009vjb.1</th><td> 2.84099017</td><td>0.60921430</td><td> 0.7021530</td><td>0.60921430</td><td>  5.58857810</td><td>0.60921430</td><td>         NA</td><td>         NA</td><td>-2.440217454</td><td>0.54078354</td><td>         NA</td><td>       NA</td><td> 2.38657922</td><td>0.54960330</td><td>         NA</td><td>          NA</td></tr>\n",
       "\t<tr><th scope=row>uc009vje.2</th><td> 0.47870440</td><td>0.71956473</td><td>-4.3782925</td><td>0.71956473</td><td> -3.59445969</td><td>0.71956473</td><td> 0.63946456</td><td>0.571376992</td><td> 0.380309969</td><td>0.49018333</td><td>-0.17714953</td><td>0.6403210</td><td>-0.30638344</td><td>0.56371544</td><td> 1.64313065</td><td>2.317035e-01</td></tr>\n",
       "\t<tr><th scope=row>uc009vjf.2</th><td>-0.02440767</td><td>0.82752300</td><td> 0.1473049</td><td>0.82752300</td><td>  0.85166628</td><td>0.82752300</td><td>-0.12127021</td><td>0.869881145</td><td>-0.231748080</td><td>0.94031343</td><td> 0.46955350</td><td>0.7525582</td><td>-0.01872213</td><td>0.98608550</td><td>-1.88733568</td><td>2.305702e-01</td></tr>\n",
       "\t<tr><th scope=row>uc001aak.3</th><td>-0.60649234</td><td>0.04763598</td><td> 7.3790549</td><td>0.04763598</td><td> -0.87704686</td><td>0.04763598</td><td>-1.45126563</td><td>0.282280835</td><td>-1.024555388</td><td>0.57460031</td><td> 0.13726666</td><td>0.9088243</td><td> 0.47138738</td><td>0.73399045</td><td> 0.18262953</td><td>8.840466e-01</td></tr>\n",
       "\t<tr><th scope=row>uc001aal.1</th><td>         NA</td><td>        NA</td><td>        NA</td><td>        NA</td><td>          NA</td><td>        NA</td><td>         NA</td><td>         NA</td><td>          NA</td><td>        NA</td><td>         NA</td><td>       NA</td><td>         NA</td><td>        NA</td><td>         NA</td><td>          NA</td></tr>\n",
       "\t<tr><th scope=row>uc021oeg.2</th><td>-0.77521856</td><td>0.06043989</td><td>-0.4966839</td><td>0.06043989</td><td>  0.90509756</td><td>0.06043989</td><td>-1.23828802</td><td>0.328871655</td><td> 0.002055798</td><td>0.99869254</td><td> 0.74308520</td><td>0.5565271</td><td> 0.73755180</td><td>0.11143727</td><td>-0.57232207</td><td>5.116448e-01</td></tr>\n",
       "\t<tr><th scope=row>uc001aaq.2</th><td>         NA</td><td>        NA</td><td>        NA</td><td>        NA</td><td>          NA</td><td>        NA</td><td>         NA</td><td>         NA</td><td>          NA</td><td>        NA</td><td>         NA</td><td>       NA</td><td>         NA</td><td>        NA</td><td>         NA</td><td>          NA</td></tr>\n",
       "\t<tr><th scope=row>uc001aar.2</th><td> 1.54877949</td><td>0.96061290</td><td>-0.8922732</td><td>0.96061290</td><td>  0.84020158</td><td>0.96061290</td><td>-1.82562950</td><td>0.386628696</td><td> 0.646283641</td><td>0.87076692</td><td>-0.07941554</td><td>0.9841600</td><td> 0.16443168</td><td>0.96709053</td><td>-1.47640497</td><td>7.170165e-01</td></tr>\n",
       "\t<tr><th scope=row>uc009vjk.2</th><td>         NA</td><td>        NA</td><td>        NA</td><td>        NA</td><td>          NA</td><td>        NA</td><td>         NA</td><td>         NA</td><td>          NA</td><td>        NA</td><td>-0.46905405</td><td>0.9027593</td><td> 6.41587486</td><td>0.06583773</td><td> 7.25256688</td><td>4.257383e-02</td></tr>\n",
       "\t<tr><th scope=row>uc001aau.3</th><td>-3.08884710</td><td>0.62957061</td><td>-7.1875990</td><td>0.62957061</td><td> -6.80496026</td><td>0.62957061</td><td>-1.21610638</td><td>0.260161562</td><td>-0.456956040</td><td>0.88061196</td><td> 0.47945487</td><td>0.8077756</td><td>-0.66432819</td><td>0.73601702</td><td>-6.89451703</td><td>3.334668e-03</td></tr>\n",
       "\t<tr><th scope=row>⋮</th><td>⋮</td><td>⋮</td><td>⋮</td><td>⋮</td><td>⋮</td><td>⋮</td><td>⋮</td><td>⋮</td><td>⋮</td><td>⋮</td><td>⋮</td><td>⋮</td><td>⋮</td><td>⋮</td><td>⋮</td><td>⋮</td></tr>\n",
       "\t<tr><th scope=row>DAC+SB.822.1-x1-0</th><td>-2.065788271</td><td>9.834885e-01</td><td> 0.7019861</td><td>9.834885e-01</td><td>-1.57659993</td><td>9.834885e-01</td><td>-1.19457230</td><td>0.36295840</td><td> 1.0320884067</td><td>0.79857484</td><td>         NA</td><td>        NA</td><td>          NA</td><td>         NA</td><td> 0.35293132</td><td>0.9309593</td></tr>\n",
       "\t<tr><th scope=row>uc003mlp.4-x0-0</th><td>-2.065633674</td><td>9.875417e-01</td><td> 2.1344159</td><td>9.875417e-01</td><td>-0.13836306</td><td>9.875417e-01</td><td>-0.16147559</td><td>0.92258634</td><td>           NA</td><td>        NA</td><td> 0.85515065</td><td>0.83269979</td><td>          NA</td><td>         NA</td><td>-0.90525804</td><td>0.8210498</td></tr>\n",
       "\t<tr><th scope=row>uc003mlq.3-x0-0</th><td>          NA</td><td>          NA</td><td>        NA</td><td>          NA</td><td>         NA</td><td>          NA</td><td>         NA</td><td>        NA</td><td>           NA</td><td>        NA</td><td> 0.45735464</td><td>0.91052335</td><td>          NA</td><td>         NA</td><td>-1.07620590</td><td>0.7860781</td></tr>\n",
       "\t<tr><th scope=row>uc021yji.1-x0-0</th><td> 0.700480171</td><td>6.694815e-01</td><td>-1.2900388</td><td>6.694815e-01</td><td> 0.25937814</td><td>6.694815e-01</td><td>-1.08033083</td><td>0.05996669</td><td> 0.3966882720</td><td>0.71195874</td><td> 0.15582869</td><td>0.88775665</td><td>-0.992574023</td><td>0.409170130</td><td>-1.45317249</td><td>0.3073348</td></tr>\n",
       "\t<tr><th scope=row>uc021yjj.1-x0-0</th><td> 0.248743084</td><td>8.939226e-01</td><td> 1.8544162</td><td>8.939226e-01</td><td> 4.90161509</td><td>8.939226e-01</td><td>-2.59180830</td><td>0.51608278</td><td> 3.7820618990</td><td>0.32181086</td><td>-5.43681598</td><td>0.16638750</td><td>-0.190579368</td><td>0.960934768</td><td>-0.83684412</td><td>0.8285882</td></tr>\n",
       "\t<tr><th scope=row>uc021yjk.1-x0-0</th><td>-0.089067963</td><td>6.660904e-01</td><td> 0.4749278</td><td>6.660904e-01</td><td>-0.18788072</td><td>6.660904e-01</td><td>-0.04255706</td><td>0.73781048</td><td>-0.3355954662</td><td>0.28754106</td><td>-0.15172291</td><td>0.37956702</td><td>-0.187638616</td><td>0.590412139</td><td>-0.20725414</td><td>0.2431885</td></tr>\n",
       "\t<tr><th scope=row>uc003mlx.3-x0-0</th><td>-0.887497859</td><td>1.439068e-01</td><td> 0.7975499</td><td>1.439068e-01</td><td> 0.61330658</td><td>1.439068e-01</td><td> 0.51214122</td><td>0.26782062</td><td>-0.4700325635</td><td>0.51397630</td><td>-0.08055729</td><td>0.59770032</td><td>-0.398380820</td><td>0.497248223</td><td>-0.01646254</td><td>0.9507217</td></tr>\n",
       "\t<tr><th scope=row>uc010jle.3-x0-0</th><td>-0.043781619</td><td>4.639039e-01</td><td>-0.1189535</td><td>4.639039e-01</td><td>-0.10581100</td><td>4.639039e-01</td><td>-0.60143367</td><td>0.74918434</td><td> 0.1156361748</td><td>0.93851216</td><td>-0.05788542</td><td>0.58071167</td><td>-0.005661588</td><td>0.988604890</td><td>-0.14809120</td><td>0.3327799</td></tr>\n",
       "\t<tr><th scope=row>uc003mmb.1-x0-0</th><td>          NA</td><td>          NA</td><td>        NA</td><td>          NA</td><td>         NA</td><td>          NA</td><td> 2.13572741</td><td>0.27088811</td><td>-0.9241948643</td><td>0.81925708</td><td> 0.44959229</td><td>0.91200751</td><td>          NA</td><td>         NA</td><td>-0.01284453</td><td>0.9974316</td></tr>\n",
       "\t<tr><th scope=row>uc011dgy.2-x0-0</th><td>          NA</td><td>          NA</td><td>        NA</td><td>          NA</td><td>         NA</td><td>          NA</td><td> 1.09682625</td><td>0.29270542</td><td>           NA</td><td>        NA</td><td>         NA</td><td>        NA</td><td>          NA</td><td>         NA</td><td>-1.81734009</td><td>0.6533111</td></tr>\n",
       "\t<tr><th scope=row>uc011dgz.1-x0-0</th><td>          NA</td><td>          NA</td><td>        NA</td><td>          NA</td><td>         NA</td><td>          NA</td><td> 2.81433463</td><td>0.48005305</td><td>           NA</td><td>        NA</td><td>         NA</td><td>        NA</td><td>          NA</td><td>         NA</td><td>-2.02872363</td><td>0.6148362</td></tr>\n",
       "\t<tr><th scope=row>uc011dha.1-x0-0</th><td>          NA</td><td>          NA</td><td>        NA</td><td>          NA</td><td>         NA</td><td>          NA</td><td>         NA</td><td>        NA</td><td>           NA</td><td>        NA</td><td>         NA</td><td>        NA</td><td>          NA</td><td>         NA</td><td> 0.29838487</td><td>0.9414754</td></tr>\n",
       "\t<tr><th scope=row>uc003mmi.4-x0-0</th><td> 0.285819247</td><td>1.803465e-01</td><td>-0.4367975</td><td>1.803465e-01</td><td> 0.37333661</td><td>1.803465e-01</td><td> 0.20771091</td><td>0.01549722</td><td> 0.2835424816</td><td>0.02446087</td><td> 0.01993176</td><td>0.81646104</td><td> 0.348251506</td><td>0.005605196</td><td> 0.02627917</td><td>0.7659402</td></tr>\n",
       "\t<tr><th scope=row>uc003mmm.4-x0-0</th><td> 1.459837478</td><td>7.656400e-01</td><td>-3.7056463</td><td>7.656400e-01</td><td>-1.15560968</td><td>7.656400e-01</td><td> 0.12968091</td><td>0.75527157</td><td>-0.7759363738</td><td>0.48026990</td><td>-0.23398335</td><td>0.79764886</td><td>-1.057288229</td><td>0.333762848</td><td>-0.77613371</td><td>0.5746900</td></tr>\n",
       "\t<tr><th scope=row>uc010jlk.3-x0-0</th><td> 0.005125685</td><td>4.294806e-02</td><td> 0.2650320</td><td>4.294806e-02</td><td>-0.08142770</td><td>4.294806e-02</td><td>-0.24413314</td><td>0.08208594</td><td>-0.1783952427</td><td>0.33446916</td><td> 0.01629855</td><td>0.93915862</td><td> 0.107240055</td><td>0.631831881</td><td>-0.01988957</td><td>0.9192651</td></tr>\n",
       "\t<tr><th scope=row>DAC+SB.826.2-x1-0</th><td>          NA</td><td>          NA</td><td>        NA</td><td>          NA</td><td>         NA</td><td>          NA</td><td>         NA</td><td>        NA</td><td>           NA</td><td>        NA</td><td>         NA</td><td>        NA</td><td>          NA</td><td>         NA</td><td>         NA</td><td>       NA</td></tr>\n",
       "\t<tr><th scope=row>DAC+SB.826.1-x1-0</th><td>-0.427483997</td><td>1.000000e+00</td><td> 0.7020577</td><td>1.000000e+00</td><td> 1.29348875</td><td>1.000000e+00</td><td>         NA</td><td>        NA</td><td>           NA</td><td>        NA</td><td>         NA</td><td>        NA</td><td>          NA</td><td>         NA</td><td>         NA</td><td>       NA</td></tr>\n",
       "\t<tr><th scope=row>uc010jlp.3-x0-0</th><td>-0.427486511</td><td>9.134670e-01</td><td>-0.6844999</td><td>9.134670e-01</td><td> 3.28706147</td><td>9.134670e-01</td><td>         NA</td><td>        NA</td><td> 1.7008725937</td><td>0.66630156</td><td> 0.06692435</td><td>0.97746531</td><td>          NA</td><td>         NA</td><td> 1.13234833</td><td>0.7794002</td></tr>\n",
       "\t<tr><th scope=row>uc011dhi.1-x0-0</th><td>          NA</td><td>          NA</td><td>        NA</td><td>          NA</td><td>         NA</td><td>          NA</td><td>         NA</td><td>        NA</td><td> 0.5243247574</td><td>0.87090639</td><td>         NA</td><td>        NA</td><td>          NA</td><td>         NA</td><td> 0.33825377</td><td>0.8593680</td></tr>\n",
       "\t<tr><th scope=row>uc003mnb.1-x0-0</th><td> 0.124031796</td><td>3.251134e-01</td><td> 2.6215409</td><td>3.251134e-01</td><td>-0.77805399</td><td>3.251134e-01</td><td> 0.18882037</td><td>0.89813948</td><td>-0.7265695340</td><td>0.71252137</td><td> 0.73612804</td><td>0.62122289</td><td> 0.195467126</td><td>0.894315377</td><td> 1.29069046</td><td>0.4795123</td></tr>\n",
       "\t<tr><th scope=row>uc003mnc.2-x0-0</th><td>-0.066952202</td><td>3.979591e-01</td><td> 0.4388508</td><td>3.979591e-01</td><td>-0.09947468</td><td>3.979591e-01</td><td>-0.05959861</td><td>0.74143586</td><td> 0.1961327924</td><td>0.37423016</td><td> 0.26522132</td><td>0.11426567</td><td> 0.092267914</td><td>0.669876757</td><td> 0.06140352</td><td>0.7479445</td></tr>\n",
       "\t<tr><th scope=row>uc010jlq.1-x0-0</th><td> 0.108987138</td><td>8.448978e-01</td><td>-0.9419623</td><td>8.448978e-01</td><td>-1.00721480</td><td>8.448978e-01</td><td> 0.09824828</td><td>0.90385038</td><td> 0.3236589242</td><td>0.78747562</td><td> 1.66204768</td><td>0.25595792</td><td> 0.737313516</td><td>0.658356899</td><td> 0.16223645</td><td>0.8905861</td></tr>\n",
       "\t<tr><th scope=row>uc003mng.1-x0-0</th><td> 2.088532318</td><td>7.250384e-01</td><td>-3.0201764</td><td>7.250384e-01</td><td>-0.67499042</td><td>7.250384e-01</td><td> 0.15478763</td><td>0.81661466</td><td> 0.9218972087</td><td>0.76078342</td><td>-0.21262904</td><td>0.81051012</td><td>-0.385984040</td><td>0.799741710</td><td>-0.04441092</td><td>0.9636246</td></tr>\n",
       "\t<tr><th scope=row>uc003mnj.1-x0-0</th><td> 0.140605957</td><td>2.547233e-02</td><td>-0.6286684</td><td>2.547233e-02</td><td>-0.45556557</td><td>2.547233e-02</td><td>-0.09370720</td><td>0.43808317</td><td>-0.0001449648</td><td>0.99888560</td><td> 0.10762540</td><td>0.05453766</td><td> 0.023736177</td><td>0.704602348</td><td>-0.04466913</td><td>0.4012525</td></tr>\n",
       "\t<tr><th scope=row>uc011dhk.1-x0-0</th><td> 0.095045762</td><td>4.779589e-15</td><td>-0.4480382</td><td>4.779589e-15</td><td>-0.54138821</td><td>4.779589e-15</td><td>-0.04012182</td><td>0.85955710</td><td>-0.7451196440</td><td>0.02367876</td><td> 0.01455439</td><td>0.95414314</td><td>-0.424342454</td><td>0.290554965</td><td> 0.05395670</td><td>0.8527800</td></tr>\n",
       "\t<tr><th scope=row>uc010jls.3-x0-0</th><td> 0.146025816</td><td>4.509906e-03</td><td>-1.3028605</td><td>4.509906e-03</td><td>-0.72436174</td><td>4.509906e-03</td><td>-0.03888801</td><td>0.91934501</td><td>-0.5284609960</td><td>0.38498600</td><td> 0.50260096</td><td>0.46706853</td><td>-0.162995176</td><td>0.741442050</td><td>-0.79535709</td><td>0.1526333</td></tr>\n",
       "\t<tr><th scope=row>uc011dhl.2-x0-0</th><td> 0.276298275</td><td>1.089803e-01</td><td>-0.3206614</td><td>1.089803e-01</td><td>-0.23540077</td><td>1.089803e-01</td><td> 0.11704722</td><td>0.80318350</td><td> 0.1241371780</td><td>0.79454358</td><td> 0.27792741</td><td>0.36238176</td><td> 0.002665116</td><td>0.993922867</td><td> 0.10285057</td><td>0.8034824</td></tr>\n",
       "\t<tr><th scope=row>uc003mns.2-x0-0</th><td>-5.867190712</td><td>8.289589e-01</td><td> 4.4330354</td><td>8.289589e-01</td><td> 0.14600413</td><td>8.289589e-01</td><td>-1.14474193</td><td>0.31074237</td><td>-2.8268083019</td><td>0.45960561</td><td> 0.85989901</td><td>0.80263943</td><td> 1.990736059</td><td>0.618512999</td><td>-0.68933365</td><td>0.6419334</td></tr>\n",
       "\t<tr><th scope=row>uc010jlv.2-x0-0</th><td> 1.332146878</td><td>6.754110e-01</td><td> 0.9249869</td><td>6.754110e-01</td><td>-6.32127133</td><td>6.754110e-01</td><td> 2.01611673</td><td>0.28192340</td><td> 1.5254302296</td><td>0.12329998</td><td>-0.50249515</td><td>0.89581095</td><td>-7.167417707</td><td>0.031553297</td><td>         NA</td><td>       NA</td></tr>\n",
       "\t<tr><th scope=row>uc003mny.1-x0-0</th><td>          NA</td><td>          NA</td><td>        NA</td><td>          NA</td><td>         NA</td><td>          NA</td><td>         NA</td><td>        NA</td><td>           NA</td><td>        NA</td><td>-0.43147242</td><td>0.91452660</td><td>-0.145213810</td><td>0.971273383</td><td>         NA</td><td>       NA</td></tr>\n",
       "</tbody>\n",
       "</table>\n"
      ],
      "text/latex": [
       "A data.frame: 35932 × 16\n",
       "\\begin{tabular}{r|llllllllllllllll}\n",
       "  & hl60\\_6h\\_log2FC & hl60\\_6h\\_pvalue & hl60\\_72h\\_log2FC & hl60\\_72h\\_pvalue & hl60\\_120h\\_log2FC & hl60\\_120h\\_pvalue & kg1\\_log2FC & kg1\\_pvalue & molm14\\_log2FC & molm14\\_pvalue & ociaml2\\_log2FC & ociaml2\\_pvalue & ociaml3\\_log2FC & ociaml3\\_pvalue & thp1\\_log2FC & thp1\\_pvalue\\\\\n",
       "  & <dbl> & <dbl> & <dbl> & <dbl> & <dbl> & <dbl> & <dbl> & <dbl> & <dbl> & <dbl> & <dbl> & <dbl> & <dbl> & <dbl> & <dbl> & <dbl>\\\\\n",
       "\\hline\n",
       "\tuc001aaa.3 &          NA &         NA &         NA &         NA &           NA &         NA &          NA &          NA & -1.919495925 & 0.63156082 &          NA &        NA &          NA &         NA &          NA &           NA\\\\\n",
       "\tuc010nxq.1 &  2.50439974 & 0.78417379 & -4.6361131 & 0.78417379 &  -0.13820604 & 0.78417379 &  0.01839997 & 0.993129267 & -2.358179587 & 0.55465298 &  0.38443541 & 0.8997725 & -0.16010219 & 0.96452929 & -2.16629364 & 5.867919e-01\\\\\n",
       "\tuc010nxr.1 &  4.50308956 & 0.68308506 &  5.4328140 & 0.68308506 &  -0.13814780 & 0.68308506 &          NA &          NA &           NA &         NA &  0.02131550 & 0.9956948 &          NA &         NA &  0.70630509 & 8.613079e-01\\\\\n",
       "\tuc009vis.3 &          NA &         NA &         NA &         NA &           NA &         NA &  7.29156527 & 0.062244121 &           NA &         NA & -2.08192077 & 0.5997154 &  6.44702153 & 0.09958849 &  1.30524509 & 7.420938e-01\\\\\n",
       "\tuc001aae.4 & -0.42791130 & 0.23427292 & -8.1203831 & 0.23427292 &  -0.13829148 & 0.23427292 &  0.63716627 & 0.616309314 &  0.512702908 & 0.05272666 &  1.26342388 & 0.4064782 & -0.06893293 & 0.77453962 &  8.43985966 & 3.098454e-03\\\\\n",
       "\tuc009vit.3 &  0.13878407 & 0.86501015 &  0.3949039 & 0.86501015 &  -0.29058310 & 0.86501015 & -1.51590029 &          NA & -7.793260217 & 0.01417428 &  1.25153504 & 0.7514875 &          NA &         NA & -9.18220865 & 3.654520e-03\\\\\n",
       "\tuc009viu.3 &  6.64876668 & 0.24974150 & -8.3112049 & 0.24974150 &  -0.84939791 & 0.24974150 & -1.68674213 & 0.517493878 &  2.133904126 & 0.51152999 & -1.06151407 & 0.2770192 & -6.99218074 & 0.04713541 & -0.92184611 & 8.103726e-01\\\\\n",
       "\tuc001aac.4 &          NA &         NA &         NA &         NA &           NA &         NA &          NA &          NA &           NA &         NA &          NA &        NA &          NA &         NA &          NA &           NA\\\\\n",
       "\tuc001aah.4 &          NA &         NA &         NA &         NA &           NA &         NA &          NA &          NA & -7.062402034 & 0.07106829 &          NA &        NA &          NA &         NA &  1.34424972 & 7.340038e-01\\\\\n",
       "\tuc009viq.3 &  0.74848915 & 0.75729422 & -0.7635298 & 0.75729422 &  -0.08594768 & 0.75729422 &  1.20982538 & 0.085274387 & -0.383364414 & 0.34767530 & -0.27420101 & 0.5711520 & -0.02469616 & 0.97128594 & -1.51860772 & 3.119406e-02\\\\\n",
       "\tuc009vir.3 &          NA &         NA &         NA &         NA &           NA &         NA &          NA &          NA &           NA &         NA &          NA &        NA &          NA &         NA & -2.09121544 & 5.968190e-01\\\\\n",
       "\tuc009viv.2 & 14.00616508 & 0.46950571 & 25.9480098 & 0.46950571 & -15.99383492 & 0.46950571 &  8.47854166 & 0.005940701 & -0.636206806 &         NA & -0.26847815 & 0.9259051 & -2.24062285 & 0.34787187 &          NA &           NA\\\\\n",
       "\tuc009viw.2 & -0.01338628 & 0.95166194 & -1.3511155 & 0.95166194 &   1.78238773 & 0.95166194 & -1.95683145 & 0.354125345 &  0.442354531 & 0.85003128 & -0.14762088 & 0.8218176 &  7.89107256 & 0.01217300 &  0.01408888 & 9.742577e-01\\\\\n",
       "\tuc009vix.2 &          NA &         NA &         NA &         NA &           NA &         NA &          NA &          NA &           NA &         NA &          NA &        NA &          NA &         NA &          NA &           NA\\\\\n",
       "\tuc009vjd.2 &          NA &         NA &         NA &         NA &           NA &         NA &          NA &          NA &           NA &         NA &          NA &        NA &          NA &         NA &          NA &           NA\\\\\n",
       "\tuc009viy.2 & -1.88210782 & 0.92200436 &  4.1125937 & 0.92200436 &  -0.70462890 & 0.92200436 &  2.98273952 & 0.453487360 &           NA &         NA &  1.11190452 & 0.7760431 & -2.81745904 & 0.48016170 & -1.34897094 & 5.286793e-01\\\\\n",
       "\tuc009viz.2 &          NA &         NA &         NA &         NA &           NA &         NA &          NA &          NA &           NA &         NA &          NA &        NA &          NA &         NA &          NA &           NA\\\\\n",
       "\tuc009vjc.1 &          NA &         NA &         NA &         NA &           NA &         NA &          NA &          NA &           NA &         NA &          NA &        NA &          NA &         NA &          NA &           NA\\\\\n",
       "\tuc001aai.1 &  7.48515266 & 0.41609604 &  8.7827814 & 0.41609604 &   8.38031192 & 0.41609604 &  2.15237682 & 0.425786356 &           NA &         NA & -1.35159255 & 0.3481032 & -0.18530749 & 0.95378931 & -9.66316919 & 2.960305e-11\\\\\n",
       "\tuc010nxs.1 &          NA &         NA &         NA &         NA &           NA &         NA &          NA &          NA &           NA &         NA &          NA &        NA &          NA &         NA &          NA &           NA\\\\\n",
       "\tuc009vjb.1 &  2.84099017 & 0.60921430 &  0.7021530 & 0.60921430 &   5.58857810 & 0.60921430 &          NA &          NA & -2.440217454 & 0.54078354 &          NA &        NA &  2.38657922 & 0.54960330 &          NA &           NA\\\\\n",
       "\tuc009vje.2 &  0.47870440 & 0.71956473 & -4.3782925 & 0.71956473 &  -3.59445969 & 0.71956473 &  0.63946456 & 0.571376992 &  0.380309969 & 0.49018333 & -0.17714953 & 0.6403210 & -0.30638344 & 0.56371544 &  1.64313065 & 2.317035e-01\\\\\n",
       "\tuc009vjf.2 & -0.02440767 & 0.82752300 &  0.1473049 & 0.82752300 &   0.85166628 & 0.82752300 & -0.12127021 & 0.869881145 & -0.231748080 & 0.94031343 &  0.46955350 & 0.7525582 & -0.01872213 & 0.98608550 & -1.88733568 & 2.305702e-01\\\\\n",
       "\tuc001aak.3 & -0.60649234 & 0.04763598 &  7.3790549 & 0.04763598 &  -0.87704686 & 0.04763598 & -1.45126563 & 0.282280835 & -1.024555388 & 0.57460031 &  0.13726666 & 0.9088243 &  0.47138738 & 0.73399045 &  0.18262953 & 8.840466e-01\\\\\n",
       "\tuc001aal.1 &          NA &         NA &         NA &         NA &           NA &         NA &          NA &          NA &           NA &         NA &          NA &        NA &          NA &         NA &          NA &           NA\\\\\n",
       "\tuc021oeg.2 & -0.77521856 & 0.06043989 & -0.4966839 & 0.06043989 &   0.90509756 & 0.06043989 & -1.23828802 & 0.328871655 &  0.002055798 & 0.99869254 &  0.74308520 & 0.5565271 &  0.73755180 & 0.11143727 & -0.57232207 & 5.116448e-01\\\\\n",
       "\tuc001aaq.2 &          NA &         NA &         NA &         NA &           NA &         NA &          NA &          NA &           NA &         NA &          NA &        NA &          NA &         NA &          NA &           NA\\\\\n",
       "\tuc001aar.2 &  1.54877949 & 0.96061290 & -0.8922732 & 0.96061290 &   0.84020158 & 0.96061290 & -1.82562950 & 0.386628696 &  0.646283641 & 0.87076692 & -0.07941554 & 0.9841600 &  0.16443168 & 0.96709053 & -1.47640497 & 7.170165e-01\\\\\n",
       "\tuc009vjk.2 &          NA &         NA &         NA &         NA &           NA &         NA &          NA &          NA &           NA &         NA & -0.46905405 & 0.9027593 &  6.41587486 & 0.06583773 &  7.25256688 & 4.257383e-02\\\\\n",
       "\tuc001aau.3 & -3.08884710 & 0.62957061 & -7.1875990 & 0.62957061 &  -6.80496026 & 0.62957061 & -1.21610638 & 0.260161562 & -0.456956040 & 0.88061196 &  0.47945487 & 0.8077756 & -0.66432819 & 0.73601702 & -6.89451703 & 3.334668e-03\\\\\n",
       "\t⋮ & ⋮ & ⋮ & ⋮ & ⋮ & ⋮ & ⋮ & ⋮ & ⋮ & ⋮ & ⋮ & ⋮ & ⋮ & ⋮ & ⋮ & ⋮ & ⋮\\\\\n",
       "\tDAC+SB.822.1-x1-0 & -2.065788271 & 9.834885e-01 &  0.7019861 & 9.834885e-01 & -1.57659993 & 9.834885e-01 & -1.19457230 & 0.36295840 &  1.0320884067 & 0.79857484 &          NA &         NA &           NA &          NA &  0.35293132 & 0.9309593\\\\\n",
       "\tuc003mlp.4-x0-0 & -2.065633674 & 9.875417e-01 &  2.1344159 & 9.875417e-01 & -0.13836306 & 9.875417e-01 & -0.16147559 & 0.92258634 &            NA &         NA &  0.85515065 & 0.83269979 &           NA &          NA & -0.90525804 & 0.8210498\\\\\n",
       "\tuc003mlq.3-x0-0 &           NA &           NA &         NA &           NA &          NA &           NA &          NA &         NA &            NA &         NA &  0.45735464 & 0.91052335 &           NA &          NA & -1.07620590 & 0.7860781\\\\\n",
       "\tuc021yji.1-x0-0 &  0.700480171 & 6.694815e-01 & -1.2900388 & 6.694815e-01 &  0.25937814 & 6.694815e-01 & -1.08033083 & 0.05996669 &  0.3966882720 & 0.71195874 &  0.15582869 & 0.88775665 & -0.992574023 & 0.409170130 & -1.45317249 & 0.3073348\\\\\n",
       "\tuc021yjj.1-x0-0 &  0.248743084 & 8.939226e-01 &  1.8544162 & 8.939226e-01 &  4.90161509 & 8.939226e-01 & -2.59180830 & 0.51608278 &  3.7820618990 & 0.32181086 & -5.43681598 & 0.16638750 & -0.190579368 & 0.960934768 & -0.83684412 & 0.8285882\\\\\n",
       "\tuc021yjk.1-x0-0 & -0.089067963 & 6.660904e-01 &  0.4749278 & 6.660904e-01 & -0.18788072 & 6.660904e-01 & -0.04255706 & 0.73781048 & -0.3355954662 & 0.28754106 & -0.15172291 & 0.37956702 & -0.187638616 & 0.590412139 & -0.20725414 & 0.2431885\\\\\n",
       "\tuc003mlx.3-x0-0 & -0.887497859 & 1.439068e-01 &  0.7975499 & 1.439068e-01 &  0.61330658 & 1.439068e-01 &  0.51214122 & 0.26782062 & -0.4700325635 & 0.51397630 & -0.08055729 & 0.59770032 & -0.398380820 & 0.497248223 & -0.01646254 & 0.9507217\\\\\n",
       "\tuc010jle.3-x0-0 & -0.043781619 & 4.639039e-01 & -0.1189535 & 4.639039e-01 & -0.10581100 & 4.639039e-01 & -0.60143367 & 0.74918434 &  0.1156361748 & 0.93851216 & -0.05788542 & 0.58071167 & -0.005661588 & 0.988604890 & -0.14809120 & 0.3327799\\\\\n",
       "\tuc003mmb.1-x0-0 &           NA &           NA &         NA &           NA &          NA &           NA &  2.13572741 & 0.27088811 & -0.9241948643 & 0.81925708 &  0.44959229 & 0.91200751 &           NA &          NA & -0.01284453 & 0.9974316\\\\\n",
       "\tuc011dgy.2-x0-0 &           NA &           NA &         NA &           NA &          NA &           NA &  1.09682625 & 0.29270542 &            NA &         NA &          NA &         NA &           NA &          NA & -1.81734009 & 0.6533111\\\\\n",
       "\tuc011dgz.1-x0-0 &           NA &           NA &         NA &           NA &          NA &           NA &  2.81433463 & 0.48005305 &            NA &         NA &          NA &         NA &           NA &          NA & -2.02872363 & 0.6148362\\\\\n",
       "\tuc011dha.1-x0-0 &           NA &           NA &         NA &           NA &          NA &           NA &          NA &         NA &            NA &         NA &          NA &         NA &           NA &          NA &  0.29838487 & 0.9414754\\\\\n",
       "\tuc003mmi.4-x0-0 &  0.285819247 & 1.803465e-01 & -0.4367975 & 1.803465e-01 &  0.37333661 & 1.803465e-01 &  0.20771091 & 0.01549722 &  0.2835424816 & 0.02446087 &  0.01993176 & 0.81646104 &  0.348251506 & 0.005605196 &  0.02627917 & 0.7659402\\\\\n",
       "\tuc003mmm.4-x0-0 &  1.459837478 & 7.656400e-01 & -3.7056463 & 7.656400e-01 & -1.15560968 & 7.656400e-01 &  0.12968091 & 0.75527157 & -0.7759363738 & 0.48026990 & -0.23398335 & 0.79764886 & -1.057288229 & 0.333762848 & -0.77613371 & 0.5746900\\\\\n",
       "\tuc010jlk.3-x0-0 &  0.005125685 & 4.294806e-02 &  0.2650320 & 4.294806e-02 & -0.08142770 & 4.294806e-02 & -0.24413314 & 0.08208594 & -0.1783952427 & 0.33446916 &  0.01629855 & 0.93915862 &  0.107240055 & 0.631831881 & -0.01988957 & 0.9192651\\\\\n",
       "\tDAC+SB.826.2-x1-0 &           NA &           NA &         NA &           NA &          NA &           NA &          NA &         NA &            NA &         NA &          NA &         NA &           NA &          NA &          NA &        NA\\\\\n",
       "\tDAC+SB.826.1-x1-0 & -0.427483997 & 1.000000e+00 &  0.7020577 & 1.000000e+00 &  1.29348875 & 1.000000e+00 &          NA &         NA &            NA &         NA &          NA &         NA &           NA &          NA &          NA &        NA\\\\\n",
       "\tuc010jlp.3-x0-0 & -0.427486511 & 9.134670e-01 & -0.6844999 & 9.134670e-01 &  3.28706147 & 9.134670e-01 &          NA &         NA &  1.7008725937 & 0.66630156 &  0.06692435 & 0.97746531 &           NA &          NA &  1.13234833 & 0.7794002\\\\\n",
       "\tuc011dhi.1-x0-0 &           NA &           NA &         NA &           NA &          NA &           NA &          NA &         NA &  0.5243247574 & 0.87090639 &          NA &         NA &           NA &          NA &  0.33825377 & 0.8593680\\\\\n",
       "\tuc003mnb.1-x0-0 &  0.124031796 & 3.251134e-01 &  2.6215409 & 3.251134e-01 & -0.77805399 & 3.251134e-01 &  0.18882037 & 0.89813948 & -0.7265695340 & 0.71252137 &  0.73612804 & 0.62122289 &  0.195467126 & 0.894315377 &  1.29069046 & 0.4795123\\\\\n",
       "\tuc003mnc.2-x0-0 & -0.066952202 & 3.979591e-01 &  0.4388508 & 3.979591e-01 & -0.09947468 & 3.979591e-01 & -0.05959861 & 0.74143586 &  0.1961327924 & 0.37423016 &  0.26522132 & 0.11426567 &  0.092267914 & 0.669876757 &  0.06140352 & 0.7479445\\\\\n",
       "\tuc010jlq.1-x0-0 &  0.108987138 & 8.448978e-01 & -0.9419623 & 8.448978e-01 & -1.00721480 & 8.448978e-01 &  0.09824828 & 0.90385038 &  0.3236589242 & 0.78747562 &  1.66204768 & 0.25595792 &  0.737313516 & 0.658356899 &  0.16223645 & 0.8905861\\\\\n",
       "\tuc003mng.1-x0-0 &  2.088532318 & 7.250384e-01 & -3.0201764 & 7.250384e-01 & -0.67499042 & 7.250384e-01 &  0.15478763 & 0.81661466 &  0.9218972087 & 0.76078342 & -0.21262904 & 0.81051012 & -0.385984040 & 0.799741710 & -0.04441092 & 0.9636246\\\\\n",
       "\tuc003mnj.1-x0-0 &  0.140605957 & 2.547233e-02 & -0.6286684 & 2.547233e-02 & -0.45556557 & 2.547233e-02 & -0.09370720 & 0.43808317 & -0.0001449648 & 0.99888560 &  0.10762540 & 0.05453766 &  0.023736177 & 0.704602348 & -0.04466913 & 0.4012525\\\\\n",
       "\tuc011dhk.1-x0-0 &  0.095045762 & 4.779589e-15 & -0.4480382 & 4.779589e-15 & -0.54138821 & 4.779589e-15 & -0.04012182 & 0.85955710 & -0.7451196440 & 0.02367876 &  0.01455439 & 0.95414314 & -0.424342454 & 0.290554965 &  0.05395670 & 0.8527800\\\\\n",
       "\tuc010jls.3-x0-0 &  0.146025816 & 4.509906e-03 & -1.3028605 & 4.509906e-03 & -0.72436174 & 4.509906e-03 & -0.03888801 & 0.91934501 & -0.5284609960 & 0.38498600 &  0.50260096 & 0.46706853 & -0.162995176 & 0.741442050 & -0.79535709 & 0.1526333\\\\\n",
       "\tuc011dhl.2-x0-0 &  0.276298275 & 1.089803e-01 & -0.3206614 & 1.089803e-01 & -0.23540077 & 1.089803e-01 &  0.11704722 & 0.80318350 &  0.1241371780 & 0.79454358 &  0.27792741 & 0.36238176 &  0.002665116 & 0.993922867 &  0.10285057 & 0.8034824\\\\\n",
       "\tuc003mns.2-x0-0 & -5.867190712 & 8.289589e-01 &  4.4330354 & 8.289589e-01 &  0.14600413 & 8.289589e-01 & -1.14474193 & 0.31074237 & -2.8268083019 & 0.45960561 &  0.85989901 & 0.80263943 &  1.990736059 & 0.618512999 & -0.68933365 & 0.6419334\\\\\n",
       "\tuc010jlv.2-x0-0 &  1.332146878 & 6.754110e-01 &  0.9249869 & 6.754110e-01 & -6.32127133 & 6.754110e-01 &  2.01611673 & 0.28192340 &  1.5254302296 & 0.12329998 & -0.50249515 & 0.89581095 & -7.167417707 & 0.031553297 &          NA &        NA\\\\\n",
       "\tuc003mny.1-x0-0 &           NA &           NA &         NA &           NA &          NA &           NA &          NA &         NA &            NA &         NA & -0.43147242 & 0.91452660 & -0.145213810 & 0.971273383 &          NA &        NA\\\\\n",
       "\\end{tabular}\n"
      ],
      "text/markdown": [
       "\n",
       "A data.frame: 35932 × 16\n",
       "\n",
       "| <!--/--> | hl60_6h_log2FC &lt;dbl&gt; | hl60_6h_pvalue &lt;dbl&gt; | hl60_72h_log2FC &lt;dbl&gt; | hl60_72h_pvalue &lt;dbl&gt; | hl60_120h_log2FC &lt;dbl&gt; | hl60_120h_pvalue &lt;dbl&gt; | kg1_log2FC &lt;dbl&gt; | kg1_pvalue &lt;dbl&gt; | molm14_log2FC &lt;dbl&gt; | molm14_pvalue &lt;dbl&gt; | ociaml2_log2FC &lt;dbl&gt; | ociaml2_pvalue &lt;dbl&gt; | ociaml3_log2FC &lt;dbl&gt; | ociaml3_pvalue &lt;dbl&gt; | thp1_log2FC &lt;dbl&gt; | thp1_pvalue &lt;dbl&gt; |\n",
       "|---|---|---|---|---|---|---|---|---|---|---|---|---|---|---|---|---|\n",
       "| uc001aaa.3 |          NA |         NA |         NA |         NA |           NA |         NA |          NA |          NA | -1.919495925 | 0.63156082 |          NA |        NA |          NA |         NA |          NA |           NA |\n",
       "| uc010nxq.1 |  2.50439974 | 0.78417379 | -4.6361131 | 0.78417379 |  -0.13820604 | 0.78417379 |  0.01839997 | 0.993129267 | -2.358179587 | 0.55465298 |  0.38443541 | 0.8997725 | -0.16010219 | 0.96452929 | -2.16629364 | 5.867919e-01 |\n",
       "| uc010nxr.1 |  4.50308956 | 0.68308506 |  5.4328140 | 0.68308506 |  -0.13814780 | 0.68308506 |          NA |          NA |           NA |         NA |  0.02131550 | 0.9956948 |          NA |         NA |  0.70630509 | 8.613079e-01 |\n",
       "| uc009vis.3 |          NA |         NA |         NA |         NA |           NA |         NA |  7.29156527 | 0.062244121 |           NA |         NA | -2.08192077 | 0.5997154 |  6.44702153 | 0.09958849 |  1.30524509 | 7.420938e-01 |\n",
       "| uc001aae.4 | -0.42791130 | 0.23427292 | -8.1203831 | 0.23427292 |  -0.13829148 | 0.23427292 |  0.63716627 | 0.616309314 |  0.512702908 | 0.05272666 |  1.26342388 | 0.4064782 | -0.06893293 | 0.77453962 |  8.43985966 | 3.098454e-03 |\n",
       "| uc009vit.3 |  0.13878407 | 0.86501015 |  0.3949039 | 0.86501015 |  -0.29058310 | 0.86501015 | -1.51590029 |          NA | -7.793260217 | 0.01417428 |  1.25153504 | 0.7514875 |          NA |         NA | -9.18220865 | 3.654520e-03 |\n",
       "| uc009viu.3 |  6.64876668 | 0.24974150 | -8.3112049 | 0.24974150 |  -0.84939791 | 0.24974150 | -1.68674213 | 0.517493878 |  2.133904126 | 0.51152999 | -1.06151407 | 0.2770192 | -6.99218074 | 0.04713541 | -0.92184611 | 8.103726e-01 |\n",
       "| uc001aac.4 |          NA |         NA |         NA |         NA |           NA |         NA |          NA |          NA |           NA |         NA |          NA |        NA |          NA |         NA |          NA |           NA |\n",
       "| uc001aah.4 |          NA |         NA |         NA |         NA |           NA |         NA |          NA |          NA | -7.062402034 | 0.07106829 |          NA |        NA |          NA |         NA |  1.34424972 | 7.340038e-01 |\n",
       "| uc009viq.3 |  0.74848915 | 0.75729422 | -0.7635298 | 0.75729422 |  -0.08594768 | 0.75729422 |  1.20982538 | 0.085274387 | -0.383364414 | 0.34767530 | -0.27420101 | 0.5711520 | -0.02469616 | 0.97128594 | -1.51860772 | 3.119406e-02 |\n",
       "| uc009vir.3 |          NA |         NA |         NA |         NA |           NA |         NA |          NA |          NA |           NA |         NA |          NA |        NA |          NA |         NA | -2.09121544 | 5.968190e-01 |\n",
       "| uc009viv.2 | 14.00616508 | 0.46950571 | 25.9480098 | 0.46950571 | -15.99383492 | 0.46950571 |  8.47854166 | 0.005940701 | -0.636206806 |         NA | -0.26847815 | 0.9259051 | -2.24062285 | 0.34787187 |          NA |           NA |\n",
       "| uc009viw.2 | -0.01338628 | 0.95166194 | -1.3511155 | 0.95166194 |   1.78238773 | 0.95166194 | -1.95683145 | 0.354125345 |  0.442354531 | 0.85003128 | -0.14762088 | 0.8218176 |  7.89107256 | 0.01217300 |  0.01408888 | 9.742577e-01 |\n",
       "| uc009vix.2 |          NA |         NA |         NA |         NA |           NA |         NA |          NA |          NA |           NA |         NA |          NA |        NA |          NA |         NA |          NA |           NA |\n",
       "| uc009vjd.2 |          NA |         NA |         NA |         NA |           NA |         NA |          NA |          NA |           NA |         NA |          NA |        NA |          NA |         NA |          NA |           NA |\n",
       "| uc009viy.2 | -1.88210782 | 0.92200436 |  4.1125937 | 0.92200436 |  -0.70462890 | 0.92200436 |  2.98273952 | 0.453487360 |           NA |         NA |  1.11190452 | 0.7760431 | -2.81745904 | 0.48016170 | -1.34897094 | 5.286793e-01 |\n",
       "| uc009viz.2 |          NA |         NA |         NA |         NA |           NA |         NA |          NA |          NA |           NA |         NA |          NA |        NA |          NA |         NA |          NA |           NA |\n",
       "| uc009vjc.1 |          NA |         NA |         NA |         NA |           NA |         NA |          NA |          NA |           NA |         NA |          NA |        NA |          NA |         NA |          NA |           NA |\n",
       "| uc001aai.1 |  7.48515266 | 0.41609604 |  8.7827814 | 0.41609604 |   8.38031192 | 0.41609604 |  2.15237682 | 0.425786356 |           NA |         NA | -1.35159255 | 0.3481032 | -0.18530749 | 0.95378931 | -9.66316919 | 2.960305e-11 |\n",
       "| uc010nxs.1 |          NA |         NA |         NA |         NA |           NA |         NA |          NA |          NA |           NA |         NA |          NA |        NA |          NA |         NA |          NA |           NA |\n",
       "| uc009vjb.1 |  2.84099017 | 0.60921430 |  0.7021530 | 0.60921430 |   5.58857810 | 0.60921430 |          NA |          NA | -2.440217454 | 0.54078354 |          NA |        NA |  2.38657922 | 0.54960330 |          NA |           NA |\n",
       "| uc009vje.2 |  0.47870440 | 0.71956473 | -4.3782925 | 0.71956473 |  -3.59445969 | 0.71956473 |  0.63946456 | 0.571376992 |  0.380309969 | 0.49018333 | -0.17714953 | 0.6403210 | -0.30638344 | 0.56371544 |  1.64313065 | 2.317035e-01 |\n",
       "| uc009vjf.2 | -0.02440767 | 0.82752300 |  0.1473049 | 0.82752300 |   0.85166628 | 0.82752300 | -0.12127021 | 0.869881145 | -0.231748080 | 0.94031343 |  0.46955350 | 0.7525582 | -0.01872213 | 0.98608550 | -1.88733568 | 2.305702e-01 |\n",
       "| uc001aak.3 | -0.60649234 | 0.04763598 |  7.3790549 | 0.04763598 |  -0.87704686 | 0.04763598 | -1.45126563 | 0.282280835 | -1.024555388 | 0.57460031 |  0.13726666 | 0.9088243 |  0.47138738 | 0.73399045 |  0.18262953 | 8.840466e-01 |\n",
       "| uc001aal.1 |          NA |         NA |         NA |         NA |           NA |         NA |          NA |          NA |           NA |         NA |          NA |        NA |          NA |         NA |          NA |           NA |\n",
       "| uc021oeg.2 | -0.77521856 | 0.06043989 | -0.4966839 | 0.06043989 |   0.90509756 | 0.06043989 | -1.23828802 | 0.328871655 |  0.002055798 | 0.99869254 |  0.74308520 | 0.5565271 |  0.73755180 | 0.11143727 | -0.57232207 | 5.116448e-01 |\n",
       "| uc001aaq.2 |          NA |         NA |         NA |         NA |           NA |         NA |          NA |          NA |           NA |         NA |          NA |        NA |          NA |         NA |          NA |           NA |\n",
       "| uc001aar.2 |  1.54877949 | 0.96061290 | -0.8922732 | 0.96061290 |   0.84020158 | 0.96061290 | -1.82562950 | 0.386628696 |  0.646283641 | 0.87076692 | -0.07941554 | 0.9841600 |  0.16443168 | 0.96709053 | -1.47640497 | 7.170165e-01 |\n",
       "| uc009vjk.2 |          NA |         NA |         NA |         NA |           NA |         NA |          NA |          NA |           NA |         NA | -0.46905405 | 0.9027593 |  6.41587486 | 0.06583773 |  7.25256688 | 4.257383e-02 |\n",
       "| uc001aau.3 | -3.08884710 | 0.62957061 | -7.1875990 | 0.62957061 |  -6.80496026 | 0.62957061 | -1.21610638 | 0.260161562 | -0.456956040 | 0.88061196 |  0.47945487 | 0.8077756 | -0.66432819 | 0.73601702 | -6.89451703 | 3.334668e-03 |\n",
       "| ⋮ | ⋮ | ⋮ | ⋮ | ⋮ | ⋮ | ⋮ | ⋮ | ⋮ | ⋮ | ⋮ | ⋮ | ⋮ | ⋮ | ⋮ | ⋮ | ⋮ |\n",
       "| DAC+SB.822.1-x1-0 | -2.065788271 | 9.834885e-01 |  0.7019861 | 9.834885e-01 | -1.57659993 | 9.834885e-01 | -1.19457230 | 0.36295840 |  1.0320884067 | 0.79857484 |          NA |         NA |           NA |          NA |  0.35293132 | 0.9309593 |\n",
       "| uc003mlp.4-x0-0 | -2.065633674 | 9.875417e-01 |  2.1344159 | 9.875417e-01 | -0.13836306 | 9.875417e-01 | -0.16147559 | 0.92258634 |            NA |         NA |  0.85515065 | 0.83269979 |           NA |          NA | -0.90525804 | 0.8210498 |\n",
       "| uc003mlq.3-x0-0 |           NA |           NA |         NA |           NA |          NA |           NA |          NA |         NA |            NA |         NA |  0.45735464 | 0.91052335 |           NA |          NA | -1.07620590 | 0.7860781 |\n",
       "| uc021yji.1-x0-0 |  0.700480171 | 6.694815e-01 | -1.2900388 | 6.694815e-01 |  0.25937814 | 6.694815e-01 | -1.08033083 | 0.05996669 |  0.3966882720 | 0.71195874 |  0.15582869 | 0.88775665 | -0.992574023 | 0.409170130 | -1.45317249 | 0.3073348 |\n",
       "| uc021yjj.1-x0-0 |  0.248743084 | 8.939226e-01 |  1.8544162 | 8.939226e-01 |  4.90161509 | 8.939226e-01 | -2.59180830 | 0.51608278 |  3.7820618990 | 0.32181086 | -5.43681598 | 0.16638750 | -0.190579368 | 0.960934768 | -0.83684412 | 0.8285882 |\n",
       "| uc021yjk.1-x0-0 | -0.089067963 | 6.660904e-01 |  0.4749278 | 6.660904e-01 | -0.18788072 | 6.660904e-01 | -0.04255706 | 0.73781048 | -0.3355954662 | 0.28754106 | -0.15172291 | 0.37956702 | -0.187638616 | 0.590412139 | -0.20725414 | 0.2431885 |\n",
       "| uc003mlx.3-x0-0 | -0.887497859 | 1.439068e-01 |  0.7975499 | 1.439068e-01 |  0.61330658 | 1.439068e-01 |  0.51214122 | 0.26782062 | -0.4700325635 | 0.51397630 | -0.08055729 | 0.59770032 | -0.398380820 | 0.497248223 | -0.01646254 | 0.9507217 |\n",
       "| uc010jle.3-x0-0 | -0.043781619 | 4.639039e-01 | -0.1189535 | 4.639039e-01 | -0.10581100 | 4.639039e-01 | -0.60143367 | 0.74918434 |  0.1156361748 | 0.93851216 | -0.05788542 | 0.58071167 | -0.005661588 | 0.988604890 | -0.14809120 | 0.3327799 |\n",
       "| uc003mmb.1-x0-0 |           NA |           NA |         NA |           NA |          NA |           NA |  2.13572741 | 0.27088811 | -0.9241948643 | 0.81925708 |  0.44959229 | 0.91200751 |           NA |          NA | -0.01284453 | 0.9974316 |\n",
       "| uc011dgy.2-x0-0 |           NA |           NA |         NA |           NA |          NA |           NA |  1.09682625 | 0.29270542 |            NA |         NA |          NA |         NA |           NA |          NA | -1.81734009 | 0.6533111 |\n",
       "| uc011dgz.1-x0-0 |           NA |           NA |         NA |           NA |          NA |           NA |  2.81433463 | 0.48005305 |            NA |         NA |          NA |         NA |           NA |          NA | -2.02872363 | 0.6148362 |\n",
       "| uc011dha.1-x0-0 |           NA |           NA |         NA |           NA |          NA |           NA |          NA |         NA |            NA |         NA |          NA |         NA |           NA |          NA |  0.29838487 | 0.9414754 |\n",
       "| uc003mmi.4-x0-0 |  0.285819247 | 1.803465e-01 | -0.4367975 | 1.803465e-01 |  0.37333661 | 1.803465e-01 |  0.20771091 | 0.01549722 |  0.2835424816 | 0.02446087 |  0.01993176 | 0.81646104 |  0.348251506 | 0.005605196 |  0.02627917 | 0.7659402 |\n",
       "| uc003mmm.4-x0-0 |  1.459837478 | 7.656400e-01 | -3.7056463 | 7.656400e-01 | -1.15560968 | 7.656400e-01 |  0.12968091 | 0.75527157 | -0.7759363738 | 0.48026990 | -0.23398335 | 0.79764886 | -1.057288229 | 0.333762848 | -0.77613371 | 0.5746900 |\n",
       "| uc010jlk.3-x0-0 |  0.005125685 | 4.294806e-02 |  0.2650320 | 4.294806e-02 | -0.08142770 | 4.294806e-02 | -0.24413314 | 0.08208594 | -0.1783952427 | 0.33446916 |  0.01629855 | 0.93915862 |  0.107240055 | 0.631831881 | -0.01988957 | 0.9192651 |\n",
       "| DAC+SB.826.2-x1-0 |           NA |           NA |         NA |           NA |          NA |           NA |          NA |         NA |            NA |         NA |          NA |         NA |           NA |          NA |          NA |        NA |\n",
       "| DAC+SB.826.1-x1-0 | -0.427483997 | 1.000000e+00 |  0.7020577 | 1.000000e+00 |  1.29348875 | 1.000000e+00 |          NA |         NA |            NA |         NA |          NA |         NA |           NA |          NA |          NA |        NA |\n",
       "| uc010jlp.3-x0-0 | -0.427486511 | 9.134670e-01 | -0.6844999 | 9.134670e-01 |  3.28706147 | 9.134670e-01 |          NA |         NA |  1.7008725937 | 0.66630156 |  0.06692435 | 0.97746531 |           NA |          NA |  1.13234833 | 0.7794002 |\n",
       "| uc011dhi.1-x0-0 |           NA |           NA |         NA |           NA |          NA |           NA |          NA |         NA |  0.5243247574 | 0.87090639 |          NA |         NA |           NA |          NA |  0.33825377 | 0.8593680 |\n",
       "| uc003mnb.1-x0-0 |  0.124031796 | 3.251134e-01 |  2.6215409 | 3.251134e-01 | -0.77805399 | 3.251134e-01 |  0.18882037 | 0.89813948 | -0.7265695340 | 0.71252137 |  0.73612804 | 0.62122289 |  0.195467126 | 0.894315377 |  1.29069046 | 0.4795123 |\n",
       "| uc003mnc.2-x0-0 | -0.066952202 | 3.979591e-01 |  0.4388508 | 3.979591e-01 | -0.09947468 | 3.979591e-01 | -0.05959861 | 0.74143586 |  0.1961327924 | 0.37423016 |  0.26522132 | 0.11426567 |  0.092267914 | 0.669876757 |  0.06140352 | 0.7479445 |\n",
       "| uc010jlq.1-x0-0 |  0.108987138 | 8.448978e-01 | -0.9419623 | 8.448978e-01 | -1.00721480 | 8.448978e-01 |  0.09824828 | 0.90385038 |  0.3236589242 | 0.78747562 |  1.66204768 | 0.25595792 |  0.737313516 | 0.658356899 |  0.16223645 | 0.8905861 |\n",
       "| uc003mng.1-x0-0 |  2.088532318 | 7.250384e-01 | -3.0201764 | 7.250384e-01 | -0.67499042 | 7.250384e-01 |  0.15478763 | 0.81661466 |  0.9218972087 | 0.76078342 | -0.21262904 | 0.81051012 | -0.385984040 | 0.799741710 | -0.04441092 | 0.9636246 |\n",
       "| uc003mnj.1-x0-0 |  0.140605957 | 2.547233e-02 | -0.6286684 | 2.547233e-02 | -0.45556557 | 2.547233e-02 | -0.09370720 | 0.43808317 | -0.0001449648 | 0.99888560 |  0.10762540 | 0.05453766 |  0.023736177 | 0.704602348 | -0.04466913 | 0.4012525 |\n",
       "| uc011dhk.1-x0-0 |  0.095045762 | 4.779589e-15 | -0.4480382 | 4.779589e-15 | -0.54138821 | 4.779589e-15 | -0.04012182 | 0.85955710 | -0.7451196440 | 0.02367876 |  0.01455439 | 0.95414314 | -0.424342454 | 0.290554965 |  0.05395670 | 0.8527800 |\n",
       "| uc010jls.3-x0-0 |  0.146025816 | 4.509906e-03 | -1.3028605 | 4.509906e-03 | -0.72436174 | 4.509906e-03 | -0.03888801 | 0.91934501 | -0.5284609960 | 0.38498600 |  0.50260096 | 0.46706853 | -0.162995176 | 0.741442050 | -0.79535709 | 0.1526333 |\n",
       "| uc011dhl.2-x0-0 |  0.276298275 | 1.089803e-01 | -0.3206614 | 1.089803e-01 | -0.23540077 | 1.089803e-01 |  0.11704722 | 0.80318350 |  0.1241371780 | 0.79454358 |  0.27792741 | 0.36238176 |  0.002665116 | 0.993922867 |  0.10285057 | 0.8034824 |\n",
       "| uc003mns.2-x0-0 | -5.867190712 | 8.289589e-01 |  4.4330354 | 8.289589e-01 |  0.14600413 | 8.289589e-01 | -1.14474193 | 0.31074237 | -2.8268083019 | 0.45960561 |  0.85989901 | 0.80263943 |  1.990736059 | 0.618512999 | -0.68933365 | 0.6419334 |\n",
       "| uc010jlv.2-x0-0 |  1.332146878 | 6.754110e-01 |  0.9249869 | 6.754110e-01 | -6.32127133 | 6.754110e-01 |  2.01611673 | 0.28192340 |  1.5254302296 | 0.12329998 | -0.50249515 | 0.89581095 | -7.167417707 | 0.031553297 |          NA |        NA |\n",
       "| uc003mny.1-x0-0 |           NA |           NA |         NA |           NA |          NA |           NA |          NA |         NA |            NA |         NA | -0.43147242 | 0.91452660 | -0.145213810 | 0.971273383 |          NA |        NA |\n",
       "\n"
      ],
      "text/plain": [
       "                  hl60_6h_log2FC hl60_6h_pvalue hl60_72h_log2FC hl60_72h_pvalue\n",
       "uc001aaa.3                 NA            NA             NA              NA     \n",
       "uc010nxq.1         2.50439974    0.78417379     -4.6361131      0.78417379     \n",
       "uc010nxr.1         4.50308956    0.68308506      5.4328140      0.68308506     \n",
       "uc009vis.3                 NA            NA             NA              NA     \n",
       "uc001aae.4        -0.42791130    0.23427292     -8.1203831      0.23427292     \n",
       "uc009vit.3         0.13878407    0.86501015      0.3949039      0.86501015     \n",
       "uc009viu.3         6.64876668    0.24974150     -8.3112049      0.24974150     \n",
       "uc001aac.4                 NA            NA             NA              NA     \n",
       "uc001aah.4                 NA            NA             NA              NA     \n",
       "uc009viq.3         0.74848915    0.75729422     -0.7635298      0.75729422     \n",
       "uc009vir.3                 NA            NA             NA              NA     \n",
       "uc009viv.2        14.00616508    0.46950571     25.9480098      0.46950571     \n",
       "uc009viw.2        -0.01338628    0.95166194     -1.3511155      0.95166194     \n",
       "uc009vix.2                 NA            NA             NA              NA     \n",
       "uc009vjd.2                 NA            NA             NA              NA     \n",
       "uc009viy.2        -1.88210782    0.92200436      4.1125937      0.92200436     \n",
       "uc009viz.2                 NA            NA             NA              NA     \n",
       "uc009vjc.1                 NA            NA             NA              NA     \n",
       "uc001aai.1         7.48515266    0.41609604      8.7827814      0.41609604     \n",
       "uc010nxs.1                 NA            NA             NA              NA     \n",
       "uc009vjb.1         2.84099017    0.60921430      0.7021530      0.60921430     \n",
       "uc009vje.2         0.47870440    0.71956473     -4.3782925      0.71956473     \n",
       "uc009vjf.2        -0.02440767    0.82752300      0.1473049      0.82752300     \n",
       "uc001aak.3        -0.60649234    0.04763598      7.3790549      0.04763598     \n",
       "uc001aal.1                 NA            NA             NA              NA     \n",
       "uc021oeg.2        -0.77521856    0.06043989     -0.4966839      0.06043989     \n",
       "uc001aaq.2                 NA            NA             NA              NA     \n",
       "uc001aar.2         1.54877949    0.96061290     -0.8922732      0.96061290     \n",
       "uc009vjk.2                 NA            NA             NA              NA     \n",
       "uc001aau.3        -3.08884710    0.62957061     -7.1875990      0.62957061     \n",
       "⋮                 ⋮              ⋮              ⋮               ⋮              \n",
       "DAC+SB.822.1-x1-0 -2.065788271   9.834885e-01    0.7019861      9.834885e-01   \n",
       "uc003mlp.4-x0-0   -2.065633674   9.875417e-01    2.1344159      9.875417e-01   \n",
       "uc003mlq.3-x0-0             NA             NA           NA                NA   \n",
       "uc021yji.1-x0-0    0.700480171   6.694815e-01   -1.2900388      6.694815e-01   \n",
       "uc021yjj.1-x0-0    0.248743084   8.939226e-01    1.8544162      8.939226e-01   \n",
       "uc021yjk.1-x0-0   -0.089067963   6.660904e-01    0.4749278      6.660904e-01   \n",
       "uc003mlx.3-x0-0   -0.887497859   1.439068e-01    0.7975499      1.439068e-01   \n",
       "uc010jle.3-x0-0   -0.043781619   4.639039e-01   -0.1189535      4.639039e-01   \n",
       "uc003mmb.1-x0-0             NA             NA           NA                NA   \n",
       "uc011dgy.2-x0-0             NA             NA           NA                NA   \n",
       "uc011dgz.1-x0-0             NA             NA           NA                NA   \n",
       "uc011dha.1-x0-0             NA             NA           NA                NA   \n",
       "uc003mmi.4-x0-0    0.285819247   1.803465e-01   -0.4367975      1.803465e-01   \n",
       "uc003mmm.4-x0-0    1.459837478   7.656400e-01   -3.7056463      7.656400e-01   \n",
       "uc010jlk.3-x0-0    0.005125685   4.294806e-02    0.2650320      4.294806e-02   \n",
       "DAC+SB.826.2-x1-0           NA             NA           NA                NA   \n",
       "DAC+SB.826.1-x1-0 -0.427483997   1.000000e+00    0.7020577      1.000000e+00   \n",
       "uc010jlp.3-x0-0   -0.427486511   9.134670e-01   -0.6844999      9.134670e-01   \n",
       "uc011dhi.1-x0-0             NA             NA           NA                NA   \n",
       "uc003mnb.1-x0-0    0.124031796   3.251134e-01    2.6215409      3.251134e-01   \n",
       "uc003mnc.2-x0-0   -0.066952202   3.979591e-01    0.4388508      3.979591e-01   \n",
       "uc010jlq.1-x0-0    0.108987138   8.448978e-01   -0.9419623      8.448978e-01   \n",
       "uc003mng.1-x0-0    2.088532318   7.250384e-01   -3.0201764      7.250384e-01   \n",
       "uc003mnj.1-x0-0    0.140605957   2.547233e-02   -0.6286684      2.547233e-02   \n",
       "uc011dhk.1-x0-0    0.095045762   4.779589e-15   -0.4480382      4.779589e-15   \n",
       "uc010jls.3-x0-0    0.146025816   4.509906e-03   -1.3028605      4.509906e-03   \n",
       "uc011dhl.2-x0-0    0.276298275   1.089803e-01   -0.3206614      1.089803e-01   \n",
       "uc003mns.2-x0-0   -5.867190712   8.289589e-01    4.4330354      8.289589e-01   \n",
       "uc010jlv.2-x0-0    1.332146878   6.754110e-01    0.9249869      6.754110e-01   \n",
       "uc003mny.1-x0-0             NA             NA           NA                NA   \n",
       "                  hl60_120h_log2FC hl60_120h_pvalue kg1_log2FC  kg1_pvalue \n",
       "uc001aaa.3                  NA             NA                NA          NA\n",
       "uc010nxq.1         -0.13820604     0.78417379        0.01839997 0.993129267\n",
       "uc010nxr.1         -0.13814780     0.68308506                NA          NA\n",
       "uc009vis.3                  NA             NA        7.29156527 0.062244121\n",
       "uc001aae.4         -0.13829148     0.23427292        0.63716627 0.616309314\n",
       "uc009vit.3         -0.29058310     0.86501015       -1.51590029          NA\n",
       "uc009viu.3         -0.84939791     0.24974150       -1.68674213 0.517493878\n",
       "uc001aac.4                  NA             NA                NA          NA\n",
       "uc001aah.4                  NA             NA                NA          NA\n",
       "uc009viq.3         -0.08594768     0.75729422        1.20982538 0.085274387\n",
       "uc009vir.3                  NA             NA                NA          NA\n",
       "uc009viv.2        -15.99383492     0.46950571        8.47854166 0.005940701\n",
       "uc009viw.2          1.78238773     0.95166194       -1.95683145 0.354125345\n",
       "uc009vix.2                  NA             NA                NA          NA\n",
       "uc009vjd.2                  NA             NA                NA          NA\n",
       "uc009viy.2         -0.70462890     0.92200436        2.98273952 0.453487360\n",
       "uc009viz.2                  NA             NA                NA          NA\n",
       "uc009vjc.1                  NA             NA                NA          NA\n",
       "uc001aai.1          8.38031192     0.41609604        2.15237682 0.425786356\n",
       "uc010nxs.1                  NA             NA                NA          NA\n",
       "uc009vjb.1          5.58857810     0.60921430                NA          NA\n",
       "uc009vje.2         -3.59445969     0.71956473        0.63946456 0.571376992\n",
       "uc009vjf.2          0.85166628     0.82752300       -0.12127021 0.869881145\n",
       "uc001aak.3         -0.87704686     0.04763598       -1.45126563 0.282280835\n",
       "uc001aal.1                  NA             NA                NA          NA\n",
       "uc021oeg.2          0.90509756     0.06043989       -1.23828802 0.328871655\n",
       "uc001aaq.2                  NA             NA                NA          NA\n",
       "uc001aar.2          0.84020158     0.96061290       -1.82562950 0.386628696\n",
       "uc009vjk.2                  NA             NA                NA          NA\n",
       "uc001aau.3         -6.80496026     0.62957061       -1.21610638 0.260161562\n",
       "⋮                 ⋮                ⋮                ⋮           ⋮          \n",
       "DAC+SB.822.1-x1-0 -1.57659993      9.834885e-01     -1.19457230 0.36295840 \n",
       "uc003mlp.4-x0-0   -0.13836306      9.875417e-01     -0.16147559 0.92258634 \n",
       "uc003mlq.3-x0-0            NA                NA              NA         NA \n",
       "uc021yji.1-x0-0    0.25937814      6.694815e-01     -1.08033083 0.05996669 \n",
       "uc021yjj.1-x0-0    4.90161509      8.939226e-01     -2.59180830 0.51608278 \n",
       "uc021yjk.1-x0-0   -0.18788072      6.660904e-01     -0.04255706 0.73781048 \n",
       "uc003mlx.3-x0-0    0.61330658      1.439068e-01      0.51214122 0.26782062 \n",
       "uc010jle.3-x0-0   -0.10581100      4.639039e-01     -0.60143367 0.74918434 \n",
       "uc003mmb.1-x0-0            NA                NA      2.13572741 0.27088811 \n",
       "uc011dgy.2-x0-0            NA                NA      1.09682625 0.29270542 \n",
       "uc011dgz.1-x0-0            NA                NA      2.81433463 0.48005305 \n",
       "uc011dha.1-x0-0            NA                NA              NA         NA \n",
       "uc003mmi.4-x0-0    0.37333661      1.803465e-01      0.20771091 0.01549722 \n",
       "uc003mmm.4-x0-0   -1.15560968      7.656400e-01      0.12968091 0.75527157 \n",
       "uc010jlk.3-x0-0   -0.08142770      4.294806e-02     -0.24413314 0.08208594 \n",
       "DAC+SB.826.2-x1-0          NA                NA              NA         NA \n",
       "DAC+SB.826.1-x1-0  1.29348875      1.000000e+00              NA         NA \n",
       "uc010jlp.3-x0-0    3.28706147      9.134670e-01              NA         NA \n",
       "uc011dhi.1-x0-0            NA                NA              NA         NA \n",
       "uc003mnb.1-x0-0   -0.77805399      3.251134e-01      0.18882037 0.89813948 \n",
       "uc003mnc.2-x0-0   -0.09947468      3.979591e-01     -0.05959861 0.74143586 \n",
       "uc010jlq.1-x0-0   -1.00721480      8.448978e-01      0.09824828 0.90385038 \n",
       "uc003mng.1-x0-0   -0.67499042      7.250384e-01      0.15478763 0.81661466 \n",
       "uc003mnj.1-x0-0   -0.45556557      2.547233e-02     -0.09370720 0.43808317 \n",
       "uc011dhk.1-x0-0   -0.54138821      4.779589e-15     -0.04012182 0.85955710 \n",
       "uc010jls.3-x0-0   -0.72436174      4.509906e-03     -0.03888801 0.91934501 \n",
       "uc011dhl.2-x0-0   -0.23540077      1.089803e-01      0.11704722 0.80318350 \n",
       "uc003mns.2-x0-0    0.14600413      8.289589e-01     -1.14474193 0.31074237 \n",
       "uc010jlv.2-x0-0   -6.32127133      6.754110e-01      2.01611673 0.28192340 \n",
       "uc003mny.1-x0-0            NA                NA              NA         NA \n",
       "                  molm14_log2FC molm14_pvalue ociaml2_log2FC ociaml2_pvalue\n",
       "uc001aaa.3        -1.919495925  0.63156082             NA           NA     \n",
       "uc010nxq.1        -2.358179587  0.55465298     0.38443541    0.8997725     \n",
       "uc010nxr.1                  NA          NA     0.02131550    0.9956948     \n",
       "uc009vis.3                  NA          NA    -2.08192077    0.5997154     \n",
       "uc001aae.4         0.512702908  0.05272666     1.26342388    0.4064782     \n",
       "uc009vit.3        -7.793260217  0.01417428     1.25153504    0.7514875     \n",
       "uc009viu.3         2.133904126  0.51152999    -1.06151407    0.2770192     \n",
       "uc001aac.4                  NA          NA             NA           NA     \n",
       "uc001aah.4        -7.062402034  0.07106829             NA           NA     \n",
       "uc009viq.3        -0.383364414  0.34767530    -0.27420101    0.5711520     \n",
       "uc009vir.3                  NA          NA             NA           NA     \n",
       "uc009viv.2        -0.636206806          NA    -0.26847815    0.9259051     \n",
       "uc009viw.2         0.442354531  0.85003128    -0.14762088    0.8218176     \n",
       "uc009vix.2                  NA          NA             NA           NA     \n",
       "uc009vjd.2                  NA          NA             NA           NA     \n",
       "uc009viy.2                  NA          NA     1.11190452    0.7760431     \n",
       "uc009viz.2                  NA          NA             NA           NA     \n",
       "uc009vjc.1                  NA          NA             NA           NA     \n",
       "uc001aai.1                  NA          NA    -1.35159255    0.3481032     \n",
       "uc010nxs.1                  NA          NA             NA           NA     \n",
       "uc009vjb.1        -2.440217454  0.54078354             NA           NA     \n",
       "uc009vje.2         0.380309969  0.49018333    -0.17714953    0.6403210     \n",
       "uc009vjf.2        -0.231748080  0.94031343     0.46955350    0.7525582     \n",
       "uc001aak.3        -1.024555388  0.57460031     0.13726666    0.9088243     \n",
       "uc001aal.1                  NA          NA             NA           NA     \n",
       "uc021oeg.2         0.002055798  0.99869254     0.74308520    0.5565271     \n",
       "uc001aaq.2                  NA          NA             NA           NA     \n",
       "uc001aar.2         0.646283641  0.87076692    -0.07941554    0.9841600     \n",
       "uc009vjk.2                  NA          NA    -0.46905405    0.9027593     \n",
       "uc001aau.3        -0.456956040  0.88061196     0.47945487    0.8077756     \n",
       "⋮                 ⋮             ⋮             ⋮              ⋮             \n",
       "DAC+SB.822.1-x1-0  1.0320884067 0.79857484             NA            NA    \n",
       "uc003mlp.4-x0-0              NA         NA     0.85515065    0.83269979    \n",
       "uc003mlq.3-x0-0              NA         NA     0.45735464    0.91052335    \n",
       "uc021yji.1-x0-0    0.3966882720 0.71195874     0.15582869    0.88775665    \n",
       "uc021yjj.1-x0-0    3.7820618990 0.32181086    -5.43681598    0.16638750    \n",
       "uc021yjk.1-x0-0   -0.3355954662 0.28754106    -0.15172291    0.37956702    \n",
       "uc003mlx.3-x0-0   -0.4700325635 0.51397630    -0.08055729    0.59770032    \n",
       "uc010jle.3-x0-0    0.1156361748 0.93851216    -0.05788542    0.58071167    \n",
       "uc003mmb.1-x0-0   -0.9241948643 0.81925708     0.44959229    0.91200751    \n",
       "uc011dgy.2-x0-0              NA         NA             NA            NA    \n",
       "uc011dgz.1-x0-0              NA         NA             NA            NA    \n",
       "uc011dha.1-x0-0              NA         NA             NA            NA    \n",
       "uc003mmi.4-x0-0    0.2835424816 0.02446087     0.01993176    0.81646104    \n",
       "uc003mmm.4-x0-0   -0.7759363738 0.48026990    -0.23398335    0.79764886    \n",
       "uc010jlk.3-x0-0   -0.1783952427 0.33446916     0.01629855    0.93915862    \n",
       "DAC+SB.826.2-x1-0            NA         NA             NA            NA    \n",
       "DAC+SB.826.1-x1-0            NA         NA             NA            NA    \n",
       "uc010jlp.3-x0-0    1.7008725937 0.66630156     0.06692435    0.97746531    \n",
       "uc011dhi.1-x0-0    0.5243247574 0.87090639             NA            NA    \n",
       "uc003mnb.1-x0-0   -0.7265695340 0.71252137     0.73612804    0.62122289    \n",
       "uc003mnc.2-x0-0    0.1961327924 0.37423016     0.26522132    0.11426567    \n",
       "uc010jlq.1-x0-0    0.3236589242 0.78747562     1.66204768    0.25595792    \n",
       "uc003mng.1-x0-0    0.9218972087 0.76078342    -0.21262904    0.81051012    \n",
       "uc003mnj.1-x0-0   -0.0001449648 0.99888560     0.10762540    0.05453766    \n",
       "uc011dhk.1-x0-0   -0.7451196440 0.02367876     0.01455439    0.95414314    \n",
       "uc010jls.3-x0-0   -0.5284609960 0.38498600     0.50260096    0.46706853    \n",
       "uc011dhl.2-x0-0    0.1241371780 0.79454358     0.27792741    0.36238176    \n",
       "uc003mns.2-x0-0   -2.8268083019 0.45960561     0.85989901    0.80263943    \n",
       "uc010jlv.2-x0-0    1.5254302296 0.12329998    -0.50249515    0.89581095    \n",
       "uc003mny.1-x0-0              NA         NA    -0.43147242    0.91452660    \n",
       "                  ociaml3_log2FC ociaml3_pvalue thp1_log2FC thp1_pvalue \n",
       "uc001aaa.3                 NA            NA              NA           NA\n",
       "uc010nxq.1        -0.16010219    0.96452929     -2.16629364 5.867919e-01\n",
       "uc010nxr.1                 NA            NA      0.70630509 8.613079e-01\n",
       "uc009vis.3         6.44702153    0.09958849      1.30524509 7.420938e-01\n",
       "uc001aae.4        -0.06893293    0.77453962      8.43985966 3.098454e-03\n",
       "uc009vit.3                 NA            NA     -9.18220865 3.654520e-03\n",
       "uc009viu.3        -6.99218074    0.04713541     -0.92184611 8.103726e-01\n",
       "uc001aac.4                 NA            NA              NA           NA\n",
       "uc001aah.4                 NA            NA      1.34424972 7.340038e-01\n",
       "uc009viq.3        -0.02469616    0.97128594     -1.51860772 3.119406e-02\n",
       "uc009vir.3                 NA            NA     -2.09121544 5.968190e-01\n",
       "uc009viv.2        -2.24062285    0.34787187              NA           NA\n",
       "uc009viw.2         7.89107256    0.01217300      0.01408888 9.742577e-01\n",
       "uc009vix.2                 NA            NA              NA           NA\n",
       "uc009vjd.2                 NA            NA              NA           NA\n",
       "uc009viy.2        -2.81745904    0.48016170     -1.34897094 5.286793e-01\n",
       "uc009viz.2                 NA            NA              NA           NA\n",
       "uc009vjc.1                 NA            NA              NA           NA\n",
       "uc001aai.1        -0.18530749    0.95378931     -9.66316919 2.960305e-11\n",
       "uc010nxs.1                 NA            NA              NA           NA\n",
       "uc009vjb.1         2.38657922    0.54960330              NA           NA\n",
       "uc009vje.2        -0.30638344    0.56371544      1.64313065 2.317035e-01\n",
       "uc009vjf.2        -0.01872213    0.98608550     -1.88733568 2.305702e-01\n",
       "uc001aak.3         0.47138738    0.73399045      0.18262953 8.840466e-01\n",
       "uc001aal.1                 NA            NA              NA           NA\n",
       "uc021oeg.2         0.73755180    0.11143727     -0.57232207 5.116448e-01\n",
       "uc001aaq.2                 NA            NA              NA           NA\n",
       "uc001aar.2         0.16443168    0.96709053     -1.47640497 7.170165e-01\n",
       "uc009vjk.2         6.41587486    0.06583773      7.25256688 4.257383e-02\n",
       "uc001aau.3        -0.66432819    0.73601702     -6.89451703 3.334668e-03\n",
       "⋮                 ⋮              ⋮              ⋮           ⋮           \n",
       "DAC+SB.822.1-x1-0           NA            NA     0.35293132 0.9309593   \n",
       "uc003mlp.4-x0-0             NA            NA    -0.90525804 0.8210498   \n",
       "uc003mlq.3-x0-0             NA            NA    -1.07620590 0.7860781   \n",
       "uc021yji.1-x0-0   -0.992574023   0.409170130    -1.45317249 0.3073348   \n",
       "uc021yjj.1-x0-0   -0.190579368   0.960934768    -0.83684412 0.8285882   \n",
       "uc021yjk.1-x0-0   -0.187638616   0.590412139    -0.20725414 0.2431885   \n",
       "uc003mlx.3-x0-0   -0.398380820   0.497248223    -0.01646254 0.9507217   \n",
       "uc010jle.3-x0-0   -0.005661588   0.988604890    -0.14809120 0.3327799   \n",
       "uc003mmb.1-x0-0             NA            NA    -0.01284453 0.9974316   \n",
       "uc011dgy.2-x0-0             NA            NA    -1.81734009 0.6533111   \n",
       "uc011dgz.1-x0-0             NA            NA    -2.02872363 0.6148362   \n",
       "uc011dha.1-x0-0             NA            NA     0.29838487 0.9414754   \n",
       "uc003mmi.4-x0-0    0.348251506   0.005605196     0.02627917 0.7659402   \n",
       "uc003mmm.4-x0-0   -1.057288229   0.333762848    -0.77613371 0.5746900   \n",
       "uc010jlk.3-x0-0    0.107240055   0.631831881    -0.01988957 0.9192651   \n",
       "DAC+SB.826.2-x1-0           NA            NA             NA        NA   \n",
       "DAC+SB.826.1-x1-0           NA            NA             NA        NA   \n",
       "uc010jlp.3-x0-0             NA            NA     1.13234833 0.7794002   \n",
       "uc011dhi.1-x0-0             NA            NA     0.33825377 0.8593680   \n",
       "uc003mnb.1-x0-0    0.195467126   0.894315377     1.29069046 0.4795123   \n",
       "uc003mnc.2-x0-0    0.092267914   0.669876757     0.06140352 0.7479445   \n",
       "uc010jlq.1-x0-0    0.737313516   0.658356899     0.16223645 0.8905861   \n",
       "uc003mng.1-x0-0   -0.385984040   0.799741710    -0.04441092 0.9636246   \n",
       "uc003mnj.1-x0-0    0.023736177   0.704602348    -0.04466913 0.4012525   \n",
       "uc011dhk.1-x0-0   -0.424342454   0.290554965     0.05395670 0.8527800   \n",
       "uc010jls.3-x0-0   -0.162995176   0.741442050    -0.79535709 0.1526333   \n",
       "uc011dhl.2-x0-0    0.002665116   0.993922867     0.10285057 0.8034824   \n",
       "uc003mns.2-x0-0    1.990736059   0.618512999    -0.68933365 0.6419334   \n",
       "uc010jlv.2-x0-0   -7.167417707   0.031553297             NA        NA   \n",
       "uc003mny.1-x0-0   -0.145213810   0.971273383             NA        NA   "
      ]
     },
     "metadata": {},
     "output_type": "display_data"
    }
   ],
   "source": [
    "sub_res = result_table %>%column_to_rownames('gene_id') \n",
    "        # filter(\n",
    "        #     (abs(hl60_72h_log2FC) > 2 & hl60_72h_pvalue  < 0.001)&\n",
    "        #     (abs(hl60_120h_log2FC)> 2 & hl60_120h_pvalue < 0.001) \n",
    "        # ) %>% \n",
    "\n",
    "# %>% rownames\n",
    "sub_res#[tins$GENEID,]"
   ]
  },
  {
   "cell_type": "code",
   "execution_count": 151,
   "metadata": {},
   "outputs": [
    {
     "data": {
      "text/html": [
       "<strong>png:</strong> 2"
      ],
      "text/latex": [
       "\\textbf{png:} 2"
      ],
      "text/markdown": [
       "**png:** 2"
      ],
      "text/plain": [
       "png \n",
       "  2 "
      ]
     },
     "metadata": {},
     "output_type": "display_data"
    },
    {
     "data": {
      "image/png": "[encoded data removed]",
      "text/plain": [
       "plot without title"
      ]
     },
     "metadata": {
      "image/png": {
       "height": 420,
       "width": 420
      }
     },
     "output_type": "display_data"
    }
   ],
   "source": [
    "ncu[\n",
    "    # select genes based on abs(log2FC) and pvalue\n",
    "    result_table %>%\n",
    "        filter(\n",
    "            (abs(hl60_72h_log2FC) > 2 & hl60_72h_pvalue  < 0.001)&\n",
    "            (abs(hl60_120h_log2FC)> 2 & hl60_120h_pvalue < 0.001) \n",
    "        ) %>% column_to_rownames('gene_id') %>% rownames\n",
    "    ,\n",
    "    # subset normalized counts\n",
    "    colData[colData$line=='hl60',c('cond','time')] %>% arrange(time,cond) %>% rownames\n",
    "] %>% \n",
    "    # generate heatmap\n",
    "    pheatmap(\n",
    "        color = heat_colors, \n",
    "        show_colnames = F,\n",
    "        show_rownames = F,\n",
    "        cutree_rows = 4,\n",
    "        main = 'treatment-induced non-annotated TSSs expression\\nHL-60 cell line',\n",
    "        annotation = colData[colData$line=='hl60',c('cond','time')],\n",
    "        cluster_cols = F, \n",
    "        scale = 'row',\n",
    "        angle_col= 45,\n",
    "        annotation_colors = ann_colors\n",
    ") -> hm_hl60\n",
    "\n",
    "# https://stackoverflow.com/questions/43051525/how-to-draw-pheatmap-plot-to-screen-and-also-save-to-file\n",
    "pdf('tinat/heatmap_clustering_hl60.pdf', width=4, height=7)\n",
    "grid::grid.newpage()\n",
    "grid::grid.draw(hm_hl60$gtable)\n",
    "dev.off()"
   ]
  },
  {
   "cell_type": "markdown",
   "metadata": {
    "tags": []
   },
   "source": [
    "## Save results "
   ]
  },
  {
   "cell_type": "code",
   "execution_count": 146,
   "metadata": {},
   "outputs": [],
   "source": [
    "# write all results into one file \n",
    "write.table(\n",
    "    result_table %>% column_to_rownames('gene_id'), \n",
    "    'tinat/delta_exp_table.txt', quote = F, col.names=TRUE, row.names=TRUE,sep ='\\t'\n",
    ")"
   ]
  },
  {
   "cell_type": "markdown",
   "metadata": {
    "tags": []
   },
   "source": [
    "# Session Info"
   ]
  },
  {
   "cell_type": "code",
   "execution_count": 147,
   "metadata": {},
   "outputs": [
    {
     "data": {
      "text/plain": [
       "R version 4.1.1 (2021-08-10)\n",
       "Platform: x86_64-conda-linux-gnu (64-bit)\n",
       "Running under: CentOS Linux 7 (Core)\n",
       "\n",
       "Matrix products: default\n",
       "BLAS/LAPACK: /data_gilbert/home/aarab/anaconda3/envs/deseq2/lib/libopenblasp-r0.3.18.so\n",
       "\n",
       "locale:\n",
       " [1] LC_CTYPE=en_US.UTF-8       LC_NUMERIC=C              \n",
       " [3] LC_TIME=en_US.UTF-8        LC_COLLATE=en_US.UTF-8    \n",
       " [5] LC_MONETARY=en_US.UTF-8    LC_MESSAGES=en_US.UTF-8   \n",
       " [7] LC_PAPER=en_US.UTF-8       LC_NAME=C                 \n",
       " [9] LC_ADDRESS=C               LC_TELEPHONE=C            \n",
       "[11] LC_MEASUREMENT=en_US.UTF-8 LC_IDENTIFICATION=C       \n",
       "\n",
       "attached base packages:\n",
       "[1] grid      stats4    stats     graphics  grDevices utils     datasets \n",
       "[8] methods   base     \n",
       "\n",
       "other attached packages:\n",
       " [1] RColorBrewer_1.1-2          ggcorrplot_0.1.3           \n",
       " [3] pheatmap_1.0.12             corrplot_0.92              \n",
       " [5] Hmisc_4.6-0                 Formula_1.2-4              \n",
       " [7] survival_3.2-13             lattice_0.20-45            \n",
       " [9] ggthemes_4.2.4              scales_1.1.1               \n",
       "[11] gridExtra_2.3               BiocParallel_1.28.0        \n",
       "[13] patchwork_1.1.1             DESeq2_1.34.0              \n",
       "[15] SummarizedExperiment_1.24.0 MatrixGenerics_1.6.0       \n",
       "[17] matrixStats_0.61.0          ggrepel_0.9.1              \n",
       "[19] forcats_0.5.1               stringr_1.4.0              \n",
       "[21] dplyr_1.0.7                 purrr_0.3.4                \n",
       "[23] readr_2.0.2                 tidyr_1.1.4                \n",
       "[25] tibble_3.1.6                ggplot2_3.3.5              \n",
       "[27] tidyverse_1.3.1             tximport_1.22.0            \n",
       "[29] GenomicFeatures_1.46.1      AnnotationDbi_1.56.1       \n",
       "[31] Biobase_2.54.0              GenomicRanges_1.46.0       \n",
       "[33] GenomeInfoDb_1.30.0         IRanges_2.28.0             \n",
       "[35] S4Vectors_0.32.0            BiocGenerics_0.40.0        \n",
       "\n",
       "loaded via a namespace (and not attached):\n",
       "  [1] readxl_1.3.1             uuid_1.0-3               backports_1.3.0         \n",
       "  [4] BiocFileCache_2.2.0      plyr_1.8.6               repr_1.1.3              \n",
       "  [7] splines_4.1.1            digest_0.6.28            htmltools_0.5.2         \n",
       " [10] fansi_0.4.2              magrittr_2.0.1           checkmate_2.0.0         \n",
       " [13] memoise_2.0.0            cluster_2.1.2            tzdb_0.2.0              \n",
       " [16] Biostrings_2.62.0        annotate_1.72.0          modelr_0.1.8            \n",
       " [19] vroom_1.5.5              prettyunits_1.1.1        jpeg_0.1-9              \n",
       " [22] colorspace_2.0-2         blob_1.2.2               rvest_1.0.2             \n",
       " [25] rappdirs_0.3.3           haven_2.4.3              xfun_0.28               \n",
       " [28] crayon_1.4.2             RCurl_1.98-1.5           jsonlite_1.7.2          \n",
       " [31] genefilter_1.76.0        glue_1.5.0               gtable_0.3.0            \n",
       " [34] zlibbioc_1.40.0          XVector_0.34.0           DelayedArray_0.20.0     \n",
       " [37] DBI_1.1.1                Rcpp_1.0.7               xtable_1.8-4            \n",
       " [40] progress_1.2.2           htmlTable_2.3.0          foreign_0.8-81          \n",
       " [43] bit_4.0.4                htmlwidgets_1.5.4        httr_1.4.2              \n",
       " [46] ellipsis_0.3.2           pkgconfig_2.0.3          XML_3.99-0.8            \n",
       " [49] farver_2.1.0             nnet_7.3-16              dbplyr_2.1.1            \n",
       " [52] locfit_1.5-9.4           utf8_1.2.2               reshape2_1.4.4          \n",
       " [55] tidyselect_1.1.1         labeling_0.4.2           rlang_0.4.12            \n",
       " [58] munsell_0.5.0            cellranger_1.1.0         tools_4.1.1             \n",
       " [61] cachem_1.0.6             cli_3.1.0                generics_0.1.1          \n",
       " [64] RSQLite_2.2.8            broom_0.7.10             evaluate_0.14           \n",
       " [67] fastmap_1.1.0            yaml_2.2.1               knitr_1.35              \n",
       " [70] bit64_4.0.5              fs_1.5.0                 KEGGREST_1.34.0         \n",
       " [73] xml2_1.3.2               biomaRt_2.50.0           compiler_4.1.1          \n",
       " [76] rstudioapi_0.13          filelock_1.0.2           curl_4.3.2              \n",
       " [79] png_0.1-7                reprex_2.0.1             geneplotter_1.72.0      \n",
       " [82] stringi_1.7.5            IRdisplay_1.0            Matrix_1.3-4            \n",
       " [85] vctrs_0.3.8              pillar_1.6.4             lifecycle_1.0.1         \n",
       " [88] data.table_1.14.2        bitops_1.0-7             rtracklayer_1.54.0      \n",
       " [91] R6_2.5.1                 BiocIO_1.4.0             latticeExtra_0.6-29     \n",
       " [94] assertthat_0.2.1         rjson_0.2.20             withr_2.4.2             \n",
       " [97] GenomicAlignments_1.30.0 Rsamtools_2.10.0         GenomeInfoDbData_1.2.7  \n",
       "[100] parallel_4.1.1           hms_1.1.1                rpart_4.1-15            \n",
       "[103] IRkernel_1.2             pbdZMQ_0.3-6             lubridate_1.8.0         \n",
       "[106] base64enc_0.1-3          restfulr_0.0.13         "
      ]
     },
     "metadata": {},
     "output_type": "display_data"
    }
   ],
   "source": [
    "sessionInfo()"
   ]
  },
  {
   "cell_type": "code",
   "execution_count": 148,
   "metadata": {},
   "outputs": [
    {
     "data": {
      "text/html": [
       "'Thu Aug 25 13:26:01 2022'"
      ],
      "text/latex": [
       "'Thu Aug 25 13:26:01 2022'"
      ],
      "text/markdown": [
       "'Thu Aug 25 13:26:01 2022'"
      ],
      "text/plain": [
       "[1] \"Thu Aug 25 13:26:01 2022\""
      ]
     },
     "metadata": {},
     "output_type": "display_data"
    }
   ],
   "source": [
    "date()"
   ]
  }
 ],
 "metadata": {
  "kernelspec": {
   "display_name": "R [conda env:deseq2]",
   "language": "R",
   "name": "conda-env-deseq2-r"
  },
  "language_info": {
   "codemirror_mode": "r",
   "file_extension": ".r",
   "mimetype": "text/x-r-source",
   "name": "R",
   "pygments_lexer": "r",
   "version": "4.1.1"
  },
  "widgets": {
   "application/vnd.jupyter.widget-state+json": {
    "state": {},
    "version_major": 2,
    "version_minor": 0
   }
  }
 },
 "nbformat": 4,
 "nbformat_minor": 4
}
