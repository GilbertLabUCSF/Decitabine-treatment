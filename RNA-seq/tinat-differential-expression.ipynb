{
 "cells": [
  {
   "cell_type": "markdown",
   "metadata": {},
   "source": [
    "# TINATs – treatment-induced non-annotated TSSs"
   ]
  },
  {
   "cell_type": "markdown",
   "metadata": {
    "jp-MarkdownHeadingCollapsed": true,
    "tags": []
   },
   "source": [
    "## Decitabine treatment RNA-Seq experiments\n",
    "- #### [Decitabine treatment time-series RNA-Seq experiments in HL60 cell line](#Decitabine-treatment-time-series-RNA-Seq-experiments-in-HL60-cell-line)\n",
    "- #### [Decitabine treatment RNA-Seq experiments in 5 other AML cell lines](#Decitabine-treatment-RNA-Seq-experiments-in-5-other-AML-cell-lines)"
   ]
  },
  {
   "cell_type": "markdown",
   "metadata": {
    "tags": []
   },
   "source": [
    "## Load packages, functions and main data"
   ]
  },
  {
   "cell_type": "code",
   "execution_count": null,
   "metadata": {},
   "outputs": [],
   "source": [
    "# %load_ext rpy2.ipython"
   ]
  },
  {
   "cell_type": "code",
   "execution_count": 1,
   "metadata": {},
   "outputs": [],
   "source": [
    "# %%R \n",
    "suppressMessages(suppressWarnings(library (GenomicFeatures)))\n",
    "suppressMessages(suppressWarnings(library (tximport)))\n",
    "suppressMessages(suppressWarnings(library (tidyverse)))\n",
    "suppressMessages(suppressWarnings(library (ggplot2)))\n",
    "suppressMessages(suppressWarnings(library (ggrepel)))\n",
    "suppressMessages(suppressWarnings(library (DESeq2)))\n",
    "suppressMessages(suppressWarnings(library (patchwork)))\n",
    "suppressMessages(suppressWarnings(library (BiocParallel)))\n",
    "suppressMessages(suppressWarnings(library (gridExtra)))\n",
    "library(grid)\n",
    "\n",
    "register(MulticoreParam(18))"
   ]
  },
  {
   "cell_type": "code",
   "execution_count": 2,
   "metadata": {},
   "outputs": [],
   "source": [
    "source('../scripts/util.R')"
   ]
  },
  {
   "cell_type": "code",
   "execution_count": 3,
   "metadata": {},
   "outputs": [],
   "source": [
    "# Filter non-informative genes:\n",
    "filter_low_counts <- function (dds_in , min_count=10){\n",
    "    # all samples with a count of higher than `min_count`\n",
    "    keep <- rowSums(counts(dds_in ) > min_count) == ncol(dds_in )\n",
    "    dds_out <- dds_in [keep,]\n",
    "    print (paste (nrow(dds_in), 'genes filtered to ->' , nrow(dds_out),'genes!', sep=' ') )\n",
    "    return (dds_out)\n",
    "}\n",
    "\n",
    "\n",
    "plot_PCA <- function(vsd, colData, labels='', gr=c('cond'), title='', leg=\"none\"){\n",
    "    z <- plotPCA(vsd,intgroup=gr, returnData=TRUE)\n",
    "    percentVar <- round(100 * attr(z, \"percentVar\"))\n",
    "    pca <- ggplot(z, aes(PC1, PC2)) +\n",
    "            geom_point(aes(colour=group), alpha = 4/10,size=12) + \n",
    "            geom_point(shape = 1,size = 12,colour = \"black\") + \n",
    "            # geom_point(\n",
    "            #     aes(color=group), \n",
    "            #     \n",
    "            # size=10,\n",
    "            # stroke = 0.5\n",
    "            # ) +\n",
    "            geom_text_repel(\n",
    "                aes(label = labels),\n",
    "                box.padding = 1.5, max.overlaps = Inf\n",
    "            ) + #,size = 3.5)) +\n",
    "            xlab(paste0(\"PC1: \",percentVar[1],\"% variance\")) +\n",
    "            ylab(paste0(\"PC2: \",percentVar[2],\"% variance\")) +\n",
    "            ggtitle (title) + \n",
    "            scale_colour_Publication() + \n",
    "            theme_Publication(legend.position='top') +\n",
    "            guides (size = 'none') + theme(legend.title = element_blank()) \n",
    "    return (pca)\n",
    "}"
   ]
  },
  {
   "cell_type": "code",
   "execution_count": 4,
   "metadata": {},
   "outputs": [],
   "source": [
    "write_Result <- function(res, name_it, col=FALSE, row=FALSE){\n",
    "    write.table(res,name_it, sep=\"\\t\", quote=FALSE, col.names=col, row.names=row)\n",
    "}\n",
    "\n",
    "\n",
    "correct_batch <- function (dds,gr,out,labels='',title=''){\n",
    "    vsd <- varianceStabilizingTransformation(dds, blind=FALSE)\n",
    "    p0 <- plot_PCA(vsd, gr, labels=labels,title=paste0(title,' Before removeBatchEffect'))\n",
    "    mat <- assay(vsd)\n",
    "    \n",
    "    mat <- limma::removeBatchEffect(mat, vsd$reps) # batch is same as time \n",
    "    assay(vsd) <- mat\n",
    "    p1 <- plot_PCA(vsd, gr, labels=labels,title=paste0(title,' After removeBatchEffect'))\n",
    "    counts_batch_corrected <- assay(vsd)\n",
    "    \n",
    "    if (out == 'plot') {return (p0 + p1)}\n",
    "    if (out == 'plot1'){return (p1)}\n",
    "    if (out == 'vsd')  {return (vsd)}\n",
    "    if (out == 'cbc')  {return (counts_batch_corrected)}\n",
    "}\n",
    "\n",
    "\n",
    "ann_Result <- function(res){\n",
    "    return (\n",
    "        res %>% data.frame %>% \n",
    "        add_column(gene_name=gene2name[rownames(res),]) %>%\n",
    "        add_column(gene_id=rownames(res)) %>% \n",
    "        select (gene_id,gene_name,everything())\n",
    "    )\n",
    "}\n",
    "\n",
    "plot_gene_counts <- function (dds, gene_id,gene_name){\n",
    "    fiss <- plotCounts(dds, gene_id, intgroup = intgroup, returnData = TRUE)\n",
    "\n",
    "    p <- ggplot(fiss,\n",
    "      aes(x = cond, y = count, color = cond)) + \n",
    "      geom_point(size=5,alpha=8/10) + stat_summary(fun=mean, geom=\"line\") +\n",
    "      scale_y_log10() + \n",
    "      theme_bw() + \n",
    "      ggtitle(gene_name)\n",
    "    \n",
    "    return (p + theme_Publication())\n",
    "}"
   ]
  },
  {
   "cell_type": "markdown",
   "metadata": {},
   "source": [
    "Load annotations"
   ]
  },
  {
   "cell_type": "code",
   "execution_count": 7,
   "metadata": {},
   "outputs": [
    {
     "name": "stderr",
     "output_type": "stream",
     "text": [
      "Import genomic features from the file as a GRanges object ... \n",
      "OK\n",
      "\n",
      "Prepare the 'metadata' data frame ... \n",
      "OK\n",
      "\n",
      "Make the TxDb object ... \n",
      "OK\n",
      "\n"
     ]
    }
   ],
   "source": [
    "txdb  = makeTxDbFromGFF('../scallop-genome/DAC_GRCh37_merged.gtf', organism='Homo sapiens')"
   ]
  },
  {
   "cell_type": "code",
   "execution_count": 8,
   "metadata": {},
   "outputs": [
    {
     "name": "stderr",
     "output_type": "stream",
     "text": [
      "'select()' returned 1:1 mapping between keys and columns\n",
      "\n"
     ]
    }
   ],
   "source": [
    "# tx2gene objects \n",
    "k <- keys(txdb, keytype = \"TXNAME\")\n",
    "tx2gene <- AnnotationDbi::select(txdb, k, \"GENEID\", \"TXNAME\")"
   ]
  },
  {
   "cell_type": "code",
   "execution_count": 173,
   "metadata": {},
   "outputs": [],
   "source": [
    "# tin_1 <- rtracklayer::import('../scallop-genome/tinat/DAC+SB_TINATs.gtf')%>% data.frame %>% filter(type == \"transcript\") %>% dplyr::select('gene_id','transcript_id')\n",
    "tin_2 <- rtracklayer::import('../scallop-genome/tinat/DAC_TINATs.gtf')   %>% data.frame %>% filter(type == \"transcript\") %>% dplyr::select('gene_id','transcript_id')\n",
    "# tin_3 <- rtracklayer::import('../scallop-genome/tinat/SB939_TINATs.gtf') %>% data.frame %>% filter(type == \"transcript\") %>% dplyr::select('gene_id','transcript_id')\n",
    "# tins <- rbind(tin_1, tin_2,tin_3) \n",
    "# colnames(tins) <- c(\"GENEID\", \"TXNAME\")"
   ]
  },
  {
   "cell_type": "code",
   "execution_count": 174,
   "metadata": {},
   "outputs": [
    {
     "data": {
      "text/html": [
       "<style>\n",
       ".list-inline {list-style: none; margin:0; padding: 0}\n",
       ".list-inline>li {display: inline-block}\n",
       ".list-inline>li:not(:last-child)::after {content: \"\\00b7\"; padding: 0 .5ex}\n",
       "</style>\n",
       "<ol class=list-inline><li>TRUE</li><li>TRUE</li></ol>\n"
      ],
      "text/latex": [
       "\\begin{enumerate*}\n",
       "\\item TRUE\n",
       "\\item TRUE\n",
       "\\end{enumerate*}\n"
      ],
      "text/markdown": [
       "1. TRUE\n",
       "2. TRUE\n",
       "\n",
       "\n"
      ],
      "text/plain": [
       "[1] TRUE TRUE"
      ]
     },
     "metadata": {},
     "output_type": "display_data"
    }
   ],
   "source": [
    "tin_2 %>% filter(grepl(\"DAC\",gene_id)) %>% dim == tin_2 %>% dim"
   ]
  },
  {
   "cell_type": "code",
   "execution_count": 13,
   "metadata": {},
   "outputs": [],
   "source": [
    "DAC_tx2gene = tx2gene %>% filter(grepl(\"DAC\",TXNAME))"
   ]
  },
  {
   "cell_type": "code",
   "execution_count": 15,
   "metadata": {},
   "outputs": [
    {
     "data": {
      "text/html": [
       "<table class=\"dataframe\">\n",
       "<caption>A data.frame: 6 × 2</caption>\n",
       "<thead>\n",
       "\t<tr><th></th><th scope=col>TXNAME</th><th scope=col>GENEID</th></tr>\n",
       "\t<tr><th></th><th scope=col>&lt;chr&gt;</th><th scope=col>&lt;chr&gt;</th></tr>\n",
       "</thead>\n",
       "<tbody>\n",
       "\t<tr><th scope=row>1</th><td>DAC.3.1-x1-0 </td><td>DAC.3-x1-0 </td></tr>\n",
       "\t<tr><th scope=row>2</th><td>DAC.4.1-x1-0 </td><td>DAC.4-x1-0 </td></tr>\n",
       "\t<tr><th scope=row>3</th><td>DAC.4.2-x1-0 </td><td>DAC.4-x1-0 </td></tr>\n",
       "\t<tr><th scope=row>4</th><td>DAC.8.1-x1-0 </td><td>DAC.8-x1-0 </td></tr>\n",
       "\t<tr><th scope=row>5</th><td>DAC.11.1-x1-0</td><td>DAC.11-x1-0</td></tr>\n",
       "\t<tr><th scope=row>6</th><td>DAC.17.1-x1-0</td><td>DAC.17-x1-0</td></tr>\n",
       "</tbody>\n",
       "</table>\n"
      ],
      "text/latex": [
       "A data.frame: 6 × 2\n",
       "\\begin{tabular}{r|ll}\n",
       "  & TXNAME & GENEID\\\\\n",
       "  & <chr> & <chr>\\\\\n",
       "\\hline\n",
       "\t1 & DAC.3.1-x1-0  & DAC.3-x1-0 \\\\\n",
       "\t2 & DAC.4.1-x1-0  & DAC.4-x1-0 \\\\\n",
       "\t3 & DAC.4.2-x1-0  & DAC.4-x1-0 \\\\\n",
       "\t4 & DAC.8.1-x1-0  & DAC.8-x1-0 \\\\\n",
       "\t5 & DAC.11.1-x1-0 & DAC.11-x1-0\\\\\n",
       "\t6 & DAC.17.1-x1-0 & DAC.17-x1-0\\\\\n",
       "\\end{tabular}\n"
      ],
      "text/markdown": [
       "\n",
       "A data.frame: 6 × 2\n",
       "\n",
       "| <!--/--> | TXNAME &lt;chr&gt; | GENEID &lt;chr&gt; |\n",
       "|---|---|---|\n",
       "| 1 | DAC.3.1-x1-0  | DAC.3-x1-0  |\n",
       "| 2 | DAC.4.1-x1-0  | DAC.4-x1-0  |\n",
       "| 3 | DAC.4.2-x1-0  | DAC.4-x1-0  |\n",
       "| 4 | DAC.8.1-x1-0  | DAC.8-x1-0  |\n",
       "| 5 | DAC.11.1-x1-0 | DAC.11-x1-0 |\n",
       "| 6 | DAC.17.1-x1-0 | DAC.17-x1-0 |\n",
       "\n"
      ],
      "text/plain": [
       "  TXNAME        GENEID     \n",
       "1 DAC.3.1-x1-0  DAC.3-x1-0 \n",
       "2 DAC.4.1-x1-0  DAC.4-x1-0 \n",
       "3 DAC.4.2-x1-0  DAC.4-x1-0 \n",
       "4 DAC.8.1-x1-0  DAC.8-x1-0 \n",
       "5 DAC.11.1-x1-0 DAC.11-x1-0\n",
       "6 DAC.17.1-x1-0 DAC.17-x1-0"
      ]
     },
     "metadata": {},
     "output_type": "display_data"
    }
   ],
   "source": [
    "DAC_tx2gene %>% head"
   ]
  },
  {
   "cell_type": "markdown",
   "metadata": {
    "tags": []
   },
   "source": [
    "## General analysis"
   ]
  },
  {
   "cell_type": "markdown",
   "metadata": {},
   "source": [
    "List every salmon quant files"
   ]
  },
  {
   "cell_type": "code",
   "execution_count": 16,
   "metadata": {},
   "outputs": [],
   "source": [
    "# %%R\n",
    "files <- list.files(path='tinat/quants', pattern=\"quant.sf\",full.names = TRUE, recursive=T)\n",
    "names(files) <- gsub(\"tinat/quants/(\\\\S+)/quant.sf\",\"\\\\1\",files)"
   ]
  },
  {
   "cell_type": "code",
   "execution_count": 17,
   "metadata": {},
   "outputs": [
    {
     "name": "stdout",
     "output_type": "stream",
     "text": [
      "[1] \"tinat/quants/hl60_120h_t_1/quant.sf\"\n",
      "[1] \"tinat/quants/hl60_120h_t_2/quant.sf\"\n",
      "[1] \"tinat/quants/hl60_120h_u_1/quant.sf\"\n",
      "[1] \"tinat/quants/hl60_120h_u_2/quant.sf\"\n",
      "[1] \"tinat/quants/hl60_6h_t_1/quant.sf\"\n",
      "[1] \"tinat/quants/hl60_6h_t_2/quant.sf\"\n",
      "[1] \"tinat/quants/hl60_6h_u_1/quant.sf\"\n",
      "[1] \"tinat/quants/hl60_6h_u_2/quant.sf\"\n",
      "[1] \"tinat/quants/hl60_72h_t_1/quant.sf\"\n",
      "[1] \"tinat/quants/hl60_72h_t_2/quant.sf\"\n",
      "[1] \"tinat/quants/hl60_72h_u_1/quant.sf\"\n",
      "[1] \"tinat/quants/hl60_72h_u_2/quant.sf\"\n",
      "[1] \"tinat/quants/kg1_t_1/quant.sf\"\n",
      "[1] \"tinat/quants/kg1_t_2/quant.sf\"\n",
      "[1] \"tinat/quants/kg1_t_3/quant.sf\"\n",
      "[1] \"tinat/quants/kg1_u_1/quant.sf\"\n",
      "[1] \"tinat/quants/kg1_u_2/quant.sf\"\n",
      "[1] \"tinat/quants/kg1_u_3/quant.sf\"\n",
      "[1] \"tinat/quants/molm14_t_1/quant.sf\"\n",
      "[1] \"tinat/quants/molm14_t_2/quant.sf\"\n",
      "[1] \"tinat/quants/molm14_t_3/quant.sf\"\n",
      "[1] \"tinat/quants/molm14_u_1/quant.sf\"\n",
      "[1] \"tinat/quants/molm14_u_2/quant.sf\"\n",
      "[1] \"tinat/quants/molm14_u_3/quant.sf\"\n",
      "[1] \"tinat/quants/ociaml2_t_1/quant.sf\"\n",
      "[1] \"tinat/quants/ociaml2_t_2/quant.sf\"\n",
      "[1] \"tinat/quants/ociaml2_t_3/quant.sf\"\n",
      "[1] \"tinat/quants/ociaml2_u_1/quant.sf\"\n",
      "[1] \"tinat/quants/ociaml2_u_2/quant.sf\"\n",
      "[1] \"tinat/quants/ociaml2_u_3/quant.sf\"\n",
      "[1] \"tinat/quants/ociaml3_t_1/quant.sf\"\n",
      "[1] \"tinat/quants/ociaml3_t_2/quant.sf\"\n",
      "[1] \"tinat/quants/ociaml3_t_3/quant.sf\"\n",
      "[1] \"tinat/quants/ociaml3_u_1/quant.sf\"\n",
      "[1] \"tinat/quants/ociaml3_u_2/quant.sf\"\n",
      "[1] \"tinat/quants/ociaml3_u_3/quant.sf\"\n",
      "[1] \"tinat/quants/thp1_t_1/quant.sf\"\n",
      "[1] \"tinat/quants/thp1_t_2/quant.sf\"\n",
      "[1] \"tinat/quants/thp1_t_3/quant.sf\"\n",
      "[1] \"tinat/quants/thp1_u_1/quant.sf\"\n",
      "[1] \"tinat/quants/thp1_u_2/quant.sf\"\n",
      "[1] \"tinat/quants/thp1_u_3/quant.sf\"\n"
     ]
    }
   ],
   "source": [
    "for (f in files){print(f)}"
   ]
  },
  {
   "cell_type": "code",
   "execution_count": 18,
   "metadata": {},
   "outputs": [
    {
     "data": {
      "text/html": [
       "<style>\n",
       ".dl-inline {width: auto; margin:0; padding: 0}\n",
       ".dl-inline>dt, .dl-inline>dd {float: none; width: auto; display: inline-block}\n",
       ".dl-inline>dt::after {content: \":\\0020\"; padding-right: .5ex}\n",
       ".dl-inline>dt:not(:first-of-type) {padding-left: .5ex}\n",
       "</style><dl class=dl-inline><dt>hl60_120h_t_1</dt><dd>'tinat/quants/hl60_120h_t_1/quant.sf'</dd><dt>hl60_120h_t_2</dt><dd>'tinat/quants/hl60_120h_t_2/quant.sf'</dd><dt>hl60_120h_u_1</dt><dd>'tinat/quants/hl60_120h_u_1/quant.sf'</dd><dt>hl60_120h_u_2</dt><dd>'tinat/quants/hl60_120h_u_2/quant.sf'</dd><dt>hl60_6h_t_1</dt><dd>'tinat/quants/hl60_6h_t_1/quant.sf'</dd><dt>hl60_6h_t_2</dt><dd>'tinat/quants/hl60_6h_t_2/quant.sf'</dd><dt>hl60_6h_u_1</dt><dd>'tinat/quants/hl60_6h_u_1/quant.sf'</dd><dt>hl60_6h_u_2</dt><dd>'tinat/quants/hl60_6h_u_2/quant.sf'</dd><dt>hl60_72h_t_1</dt><dd>'tinat/quants/hl60_72h_t_1/quant.sf'</dd><dt>hl60_72h_t_2</dt><dd>'tinat/quants/hl60_72h_t_2/quant.sf'</dd><dt>hl60_72h_u_1</dt><dd>'tinat/quants/hl60_72h_u_1/quant.sf'</dd><dt>hl60_72h_u_2</dt><dd>'tinat/quants/hl60_72h_u_2/quant.sf'</dd><dt>kg1_t_1</dt><dd>'tinat/quants/kg1_t_1/quant.sf'</dd><dt>kg1_t_2</dt><dd>'tinat/quants/kg1_t_2/quant.sf'</dd><dt>kg1_t_3</dt><dd>'tinat/quants/kg1_t_3/quant.sf'</dd><dt>kg1_u_1</dt><dd>'tinat/quants/kg1_u_1/quant.sf'</dd><dt>kg1_u_2</dt><dd>'tinat/quants/kg1_u_2/quant.sf'</dd><dt>kg1_u_3</dt><dd>'tinat/quants/kg1_u_3/quant.sf'</dd><dt>molm14_t_1</dt><dd>'tinat/quants/molm14_t_1/quant.sf'</dd><dt>molm14_t_2</dt><dd>'tinat/quants/molm14_t_2/quant.sf'</dd><dt>molm14_t_3</dt><dd>'tinat/quants/molm14_t_3/quant.sf'</dd><dt>molm14_u_1</dt><dd>'tinat/quants/molm14_u_1/quant.sf'</dd><dt>molm14_u_2</dt><dd>'tinat/quants/molm14_u_2/quant.sf'</dd><dt>molm14_u_3</dt><dd>'tinat/quants/molm14_u_3/quant.sf'</dd><dt>ociaml2_t_1</dt><dd>'tinat/quants/ociaml2_t_1/quant.sf'</dd><dt>ociaml2_t_2</dt><dd>'tinat/quants/ociaml2_t_2/quant.sf'</dd><dt>ociaml2_t_3</dt><dd>'tinat/quants/ociaml2_t_3/quant.sf'</dd><dt>ociaml2_u_1</dt><dd>'tinat/quants/ociaml2_u_1/quant.sf'</dd><dt>ociaml2_u_2</dt><dd>'tinat/quants/ociaml2_u_2/quant.sf'</dd><dt>ociaml2_u_3</dt><dd>'tinat/quants/ociaml2_u_3/quant.sf'</dd><dt>ociaml3_t_1</dt><dd>'tinat/quants/ociaml3_t_1/quant.sf'</dd><dt>ociaml3_t_2</dt><dd>'tinat/quants/ociaml3_t_2/quant.sf'</dd><dt>ociaml3_t_3</dt><dd>'tinat/quants/ociaml3_t_3/quant.sf'</dd><dt>ociaml3_u_1</dt><dd>'tinat/quants/ociaml3_u_1/quant.sf'</dd><dt>ociaml3_u_2</dt><dd>'tinat/quants/ociaml3_u_2/quant.sf'</dd><dt>ociaml3_u_3</dt><dd>'tinat/quants/ociaml3_u_3/quant.sf'</dd><dt>thp1_t_1</dt><dd>'tinat/quants/thp1_t_1/quant.sf'</dd><dt>thp1_t_2</dt><dd>'tinat/quants/thp1_t_2/quant.sf'</dd><dt>thp1_t_3</dt><dd>'tinat/quants/thp1_t_3/quant.sf'</dd><dt>thp1_u_1</dt><dd>'tinat/quants/thp1_u_1/quant.sf'</dd><dt>thp1_u_2</dt><dd>'tinat/quants/thp1_u_2/quant.sf'</dd><dt>thp1_u_3</dt><dd>'tinat/quants/thp1_u_3/quant.sf'</dd></dl>\n"
      ],
      "text/latex": [
       "\\begin{description*}\n",
       "\\item[hl60\\textbackslash{}\\_120h\\textbackslash{}\\_t\\textbackslash{}\\_1] 'tinat/quants/hl60\\_120h\\_t\\_1/quant.sf'\n",
       "\\item[hl60\\textbackslash{}\\_120h\\textbackslash{}\\_t\\textbackslash{}\\_2] 'tinat/quants/hl60\\_120h\\_t\\_2/quant.sf'\n",
       "\\item[hl60\\textbackslash{}\\_120h\\textbackslash{}\\_u\\textbackslash{}\\_1] 'tinat/quants/hl60\\_120h\\_u\\_1/quant.sf'\n",
       "\\item[hl60\\textbackslash{}\\_120h\\textbackslash{}\\_u\\textbackslash{}\\_2] 'tinat/quants/hl60\\_120h\\_u\\_2/quant.sf'\n",
       "\\item[hl60\\textbackslash{}\\_6h\\textbackslash{}\\_t\\textbackslash{}\\_1] 'tinat/quants/hl60\\_6h\\_t\\_1/quant.sf'\n",
       "\\item[hl60\\textbackslash{}\\_6h\\textbackslash{}\\_t\\textbackslash{}\\_2] 'tinat/quants/hl60\\_6h\\_t\\_2/quant.sf'\n",
       "\\item[hl60\\textbackslash{}\\_6h\\textbackslash{}\\_u\\textbackslash{}\\_1] 'tinat/quants/hl60\\_6h\\_u\\_1/quant.sf'\n",
       "\\item[hl60\\textbackslash{}\\_6h\\textbackslash{}\\_u\\textbackslash{}\\_2] 'tinat/quants/hl60\\_6h\\_u\\_2/quant.sf'\n",
       "\\item[hl60\\textbackslash{}\\_72h\\textbackslash{}\\_t\\textbackslash{}\\_1] 'tinat/quants/hl60\\_72h\\_t\\_1/quant.sf'\n",
       "\\item[hl60\\textbackslash{}\\_72h\\textbackslash{}\\_t\\textbackslash{}\\_2] 'tinat/quants/hl60\\_72h\\_t\\_2/quant.sf'\n",
       "\\item[hl60\\textbackslash{}\\_72h\\textbackslash{}\\_u\\textbackslash{}\\_1] 'tinat/quants/hl60\\_72h\\_u\\_1/quant.sf'\n",
       "\\item[hl60\\textbackslash{}\\_72h\\textbackslash{}\\_u\\textbackslash{}\\_2] 'tinat/quants/hl60\\_72h\\_u\\_2/quant.sf'\n",
       "\\item[kg1\\textbackslash{}\\_t\\textbackslash{}\\_1] 'tinat/quants/kg1\\_t\\_1/quant.sf'\n",
       "\\item[kg1\\textbackslash{}\\_t\\textbackslash{}\\_2] 'tinat/quants/kg1\\_t\\_2/quant.sf'\n",
       "\\item[kg1\\textbackslash{}\\_t\\textbackslash{}\\_3] 'tinat/quants/kg1\\_t\\_3/quant.sf'\n",
       "\\item[kg1\\textbackslash{}\\_u\\textbackslash{}\\_1] 'tinat/quants/kg1\\_u\\_1/quant.sf'\n",
       "\\item[kg1\\textbackslash{}\\_u\\textbackslash{}\\_2] 'tinat/quants/kg1\\_u\\_2/quant.sf'\n",
       "\\item[kg1\\textbackslash{}\\_u\\textbackslash{}\\_3] 'tinat/quants/kg1\\_u\\_3/quant.sf'\n",
       "\\item[molm14\\textbackslash{}\\_t\\textbackslash{}\\_1] 'tinat/quants/molm14\\_t\\_1/quant.sf'\n",
       "\\item[molm14\\textbackslash{}\\_t\\textbackslash{}\\_2] 'tinat/quants/molm14\\_t\\_2/quant.sf'\n",
       "\\item[molm14\\textbackslash{}\\_t\\textbackslash{}\\_3] 'tinat/quants/molm14\\_t\\_3/quant.sf'\n",
       "\\item[molm14\\textbackslash{}\\_u\\textbackslash{}\\_1] 'tinat/quants/molm14\\_u\\_1/quant.sf'\n",
       "\\item[molm14\\textbackslash{}\\_u\\textbackslash{}\\_2] 'tinat/quants/molm14\\_u\\_2/quant.sf'\n",
       "\\item[molm14\\textbackslash{}\\_u\\textbackslash{}\\_3] 'tinat/quants/molm14\\_u\\_3/quant.sf'\n",
       "\\item[ociaml2\\textbackslash{}\\_t\\textbackslash{}\\_1] 'tinat/quants/ociaml2\\_t\\_1/quant.sf'\n",
       "\\item[ociaml2\\textbackslash{}\\_t\\textbackslash{}\\_2] 'tinat/quants/ociaml2\\_t\\_2/quant.sf'\n",
       "\\item[ociaml2\\textbackslash{}\\_t\\textbackslash{}\\_3] 'tinat/quants/ociaml2\\_t\\_3/quant.sf'\n",
       "\\item[ociaml2\\textbackslash{}\\_u\\textbackslash{}\\_1] 'tinat/quants/ociaml2\\_u\\_1/quant.sf'\n",
       "\\item[ociaml2\\textbackslash{}\\_u\\textbackslash{}\\_2] 'tinat/quants/ociaml2\\_u\\_2/quant.sf'\n",
       "\\item[ociaml2\\textbackslash{}\\_u\\textbackslash{}\\_3] 'tinat/quants/ociaml2\\_u\\_3/quant.sf'\n",
       "\\item[ociaml3\\textbackslash{}\\_t\\textbackslash{}\\_1] 'tinat/quants/ociaml3\\_t\\_1/quant.sf'\n",
       "\\item[ociaml3\\textbackslash{}\\_t\\textbackslash{}\\_2] 'tinat/quants/ociaml3\\_t\\_2/quant.sf'\n",
       "\\item[ociaml3\\textbackslash{}\\_t\\textbackslash{}\\_3] 'tinat/quants/ociaml3\\_t\\_3/quant.sf'\n",
       "\\item[ociaml3\\textbackslash{}\\_u\\textbackslash{}\\_1] 'tinat/quants/ociaml3\\_u\\_1/quant.sf'\n",
       "\\item[ociaml3\\textbackslash{}\\_u\\textbackslash{}\\_2] 'tinat/quants/ociaml3\\_u\\_2/quant.sf'\n",
       "\\item[ociaml3\\textbackslash{}\\_u\\textbackslash{}\\_3] 'tinat/quants/ociaml3\\_u\\_3/quant.sf'\n",
       "\\item[thp1\\textbackslash{}\\_t\\textbackslash{}\\_1] 'tinat/quants/thp1\\_t\\_1/quant.sf'\n",
       "\\item[thp1\\textbackslash{}\\_t\\textbackslash{}\\_2] 'tinat/quants/thp1\\_t\\_2/quant.sf'\n",
       "\\item[thp1\\textbackslash{}\\_t\\textbackslash{}\\_3] 'tinat/quants/thp1\\_t\\_3/quant.sf'\n",
       "\\item[thp1\\textbackslash{}\\_u\\textbackslash{}\\_1] 'tinat/quants/thp1\\_u\\_1/quant.sf'\n",
       "\\item[thp1\\textbackslash{}\\_u\\textbackslash{}\\_2] 'tinat/quants/thp1\\_u\\_2/quant.sf'\n",
       "\\item[thp1\\textbackslash{}\\_u\\textbackslash{}\\_3] 'tinat/quants/thp1\\_u\\_3/quant.sf'\n",
       "\\end{description*}\n"
      ],
      "text/markdown": [
       "hl60_120h_t_1\n",
       ":   'tinat/quants/hl60_120h_t_1/quant.sf'hl60_120h_t_2\n",
       ":   'tinat/quants/hl60_120h_t_2/quant.sf'hl60_120h_u_1\n",
       ":   'tinat/quants/hl60_120h_u_1/quant.sf'hl60_120h_u_2\n",
       ":   'tinat/quants/hl60_120h_u_2/quant.sf'hl60_6h_t_1\n",
       ":   'tinat/quants/hl60_6h_t_1/quant.sf'hl60_6h_t_2\n",
       ":   'tinat/quants/hl60_6h_t_2/quant.sf'hl60_6h_u_1\n",
       ":   'tinat/quants/hl60_6h_u_1/quant.sf'hl60_6h_u_2\n",
       ":   'tinat/quants/hl60_6h_u_2/quant.sf'hl60_72h_t_1\n",
       ":   'tinat/quants/hl60_72h_t_1/quant.sf'hl60_72h_t_2\n",
       ":   'tinat/quants/hl60_72h_t_2/quant.sf'hl60_72h_u_1\n",
       ":   'tinat/quants/hl60_72h_u_1/quant.sf'hl60_72h_u_2\n",
       ":   'tinat/quants/hl60_72h_u_2/quant.sf'kg1_t_1\n",
       ":   'tinat/quants/kg1_t_1/quant.sf'kg1_t_2\n",
       ":   'tinat/quants/kg1_t_2/quant.sf'kg1_t_3\n",
       ":   'tinat/quants/kg1_t_3/quant.sf'kg1_u_1\n",
       ":   'tinat/quants/kg1_u_1/quant.sf'kg1_u_2\n",
       ":   'tinat/quants/kg1_u_2/quant.sf'kg1_u_3\n",
       ":   'tinat/quants/kg1_u_3/quant.sf'molm14_t_1\n",
       ":   'tinat/quants/molm14_t_1/quant.sf'molm14_t_2\n",
       ":   'tinat/quants/molm14_t_2/quant.sf'molm14_t_3\n",
       ":   'tinat/quants/molm14_t_3/quant.sf'molm14_u_1\n",
       ":   'tinat/quants/molm14_u_1/quant.sf'molm14_u_2\n",
       ":   'tinat/quants/molm14_u_2/quant.sf'molm14_u_3\n",
       ":   'tinat/quants/molm14_u_3/quant.sf'ociaml2_t_1\n",
       ":   'tinat/quants/ociaml2_t_1/quant.sf'ociaml2_t_2\n",
       ":   'tinat/quants/ociaml2_t_2/quant.sf'ociaml2_t_3\n",
       ":   'tinat/quants/ociaml2_t_3/quant.sf'ociaml2_u_1\n",
       ":   'tinat/quants/ociaml2_u_1/quant.sf'ociaml2_u_2\n",
       ":   'tinat/quants/ociaml2_u_2/quant.sf'ociaml2_u_3\n",
       ":   'tinat/quants/ociaml2_u_3/quant.sf'ociaml3_t_1\n",
       ":   'tinat/quants/ociaml3_t_1/quant.sf'ociaml3_t_2\n",
       ":   'tinat/quants/ociaml3_t_2/quant.sf'ociaml3_t_3\n",
       ":   'tinat/quants/ociaml3_t_3/quant.sf'ociaml3_u_1\n",
       ":   'tinat/quants/ociaml3_u_1/quant.sf'ociaml3_u_2\n",
       ":   'tinat/quants/ociaml3_u_2/quant.sf'ociaml3_u_3\n",
       ":   'tinat/quants/ociaml3_u_3/quant.sf'thp1_t_1\n",
       ":   'tinat/quants/thp1_t_1/quant.sf'thp1_t_2\n",
       ":   'tinat/quants/thp1_t_2/quant.sf'thp1_t_3\n",
       ":   'tinat/quants/thp1_t_3/quant.sf'thp1_u_1\n",
       ":   'tinat/quants/thp1_u_1/quant.sf'thp1_u_2\n",
       ":   'tinat/quants/thp1_u_2/quant.sf'thp1_u_3\n",
       ":   'tinat/quants/thp1_u_3/quant.sf'\n",
       "\n"
      ],
      "text/plain": [
       "                        hl60_120h_t_1                         hl60_120h_t_2 \n",
       "\"tinat/quants/hl60_120h_t_1/quant.sf\" \"tinat/quants/hl60_120h_t_2/quant.sf\" \n",
       "                        hl60_120h_u_1                         hl60_120h_u_2 \n",
       "\"tinat/quants/hl60_120h_u_1/quant.sf\" \"tinat/quants/hl60_120h_u_2/quant.sf\" \n",
       "                          hl60_6h_t_1                           hl60_6h_t_2 \n",
       "  \"tinat/quants/hl60_6h_t_1/quant.sf\"   \"tinat/quants/hl60_6h_t_2/quant.sf\" \n",
       "                          hl60_6h_u_1                           hl60_6h_u_2 \n",
       "  \"tinat/quants/hl60_6h_u_1/quant.sf\"   \"tinat/quants/hl60_6h_u_2/quant.sf\" \n",
       "                         hl60_72h_t_1                          hl60_72h_t_2 \n",
       " \"tinat/quants/hl60_72h_t_1/quant.sf\"  \"tinat/quants/hl60_72h_t_2/quant.sf\" \n",
       "                         hl60_72h_u_1                          hl60_72h_u_2 \n",
       " \"tinat/quants/hl60_72h_u_1/quant.sf\"  \"tinat/quants/hl60_72h_u_2/quant.sf\" \n",
       "                              kg1_t_1                               kg1_t_2 \n",
       "      \"tinat/quants/kg1_t_1/quant.sf\"       \"tinat/quants/kg1_t_2/quant.sf\" \n",
       "                              kg1_t_3                               kg1_u_1 \n",
       "      \"tinat/quants/kg1_t_3/quant.sf\"       \"tinat/quants/kg1_u_1/quant.sf\" \n",
       "                              kg1_u_2                               kg1_u_3 \n",
       "      \"tinat/quants/kg1_u_2/quant.sf\"       \"tinat/quants/kg1_u_3/quant.sf\" \n",
       "                           molm14_t_1                            molm14_t_2 \n",
       "   \"tinat/quants/molm14_t_1/quant.sf\"    \"tinat/quants/molm14_t_2/quant.sf\" \n",
       "                           molm14_t_3                            molm14_u_1 \n",
       "   \"tinat/quants/molm14_t_3/quant.sf\"    \"tinat/quants/molm14_u_1/quant.sf\" \n",
       "                           molm14_u_2                            molm14_u_3 \n",
       "   \"tinat/quants/molm14_u_2/quant.sf\"    \"tinat/quants/molm14_u_3/quant.sf\" \n",
       "                          ociaml2_t_1                           ociaml2_t_2 \n",
       "  \"tinat/quants/ociaml2_t_1/quant.sf\"   \"tinat/quants/ociaml2_t_2/quant.sf\" \n",
       "                          ociaml2_t_3                           ociaml2_u_1 \n",
       "  \"tinat/quants/ociaml2_t_3/quant.sf\"   \"tinat/quants/ociaml2_u_1/quant.sf\" \n",
       "                          ociaml2_u_2                           ociaml2_u_3 \n",
       "  \"tinat/quants/ociaml2_u_2/quant.sf\"   \"tinat/quants/ociaml2_u_3/quant.sf\" \n",
       "                          ociaml3_t_1                           ociaml3_t_2 \n",
       "  \"tinat/quants/ociaml3_t_1/quant.sf\"   \"tinat/quants/ociaml3_t_2/quant.sf\" \n",
       "                          ociaml3_t_3                           ociaml3_u_1 \n",
       "  \"tinat/quants/ociaml3_t_3/quant.sf\"   \"tinat/quants/ociaml3_u_1/quant.sf\" \n",
       "                          ociaml3_u_2                           ociaml3_u_3 \n",
       "  \"tinat/quants/ociaml3_u_2/quant.sf\"   \"tinat/quants/ociaml3_u_3/quant.sf\" \n",
       "                             thp1_t_1                              thp1_t_2 \n",
       "     \"tinat/quants/thp1_t_1/quant.sf\"      \"tinat/quants/thp1_t_2/quant.sf\" \n",
       "                             thp1_t_3                              thp1_u_1 \n",
       "     \"tinat/quants/thp1_t_3/quant.sf\"      \"tinat/quants/thp1_u_1/quant.sf\" \n",
       "                             thp1_u_2                              thp1_u_3 \n",
       "     \"tinat/quants/thp1_u_2/quant.sf\"      \"tinat/quants/thp1_u_3/quant.sf\" "
      ]
     },
     "metadata": {},
     "output_type": "display_data"
    }
   ],
   "source": [
    "files"
   ]
  },
  {
   "cell_type": "code",
   "execution_count": 20,
   "metadata": {},
   "outputs": [
    {
     "name": "stderr",
     "output_type": "stream",
     "text": [
      "reading in files with read_tsv\n",
      "\n",
      "1 \n",
      "2 \n",
      "3 \n",
      "4 \n",
      "5 \n",
      "6 \n",
      "7 \n",
      "8 \n",
      "9 \n",
      "10 \n",
      "11 \n",
      "12 \n",
      "13 \n",
      "14 \n",
      "15 \n",
      "16 \n",
      "17 \n",
      "18 \n",
      "19 \n",
      "20 \n",
      "21 \n",
      "22 \n",
      "23 \n",
      "24 \n",
      "25 \n",
      "26 \n",
      "27 \n",
      "28 \n",
      "29 \n",
      "30 \n",
      "31 \n",
      "32 \n",
      "33 \n",
      "34 \n",
      "35 \n",
      "36 \n",
      "37 \n",
      "38 \n",
      "39 \n",
      "40 \n",
      "41 \n",
      "42 \n",
      "\n",
      "\n"
     ]
    }
   ],
   "source": [
    "txi <- tximport(files, type = \"salmon\", tx2gene = tx2gene, txOut=T)"
   ]
  },
  {
   "cell_type": "code",
   "execution_count": 29,
   "metadata": {},
   "outputs": [
    {
     "name": "stderr",
     "output_type": "stream",
     "text": [
      "summarizing abundance\n",
      "\n",
      "summarizing counts\n",
      "\n",
      "summarizing length\n",
      "\n"
     ]
    }
   ],
   "source": [
    "txi.gene <- summarizeToGene(txi, tx2gene, ignoreAfterBar= TRUE)"
   ]
  },
  {
   "cell_type": "markdown",
   "metadata": {
    "tags": []
   },
   "source": [
    "#### Define sample sheet"
   ]
  },
  {
   "cell_type": "code",
   "execution_count": 21,
   "metadata": {},
   "outputs": [
    {
     "data": {
      "text/html": [
       "<table class=\"dataframe\">\n",
       "<caption>A data.frame: 42 × 4</caption>\n",
       "<thead>\n",
       "\t<tr><th></th><th scope=col>line</th><th scope=col>cond</th><th scope=col>time</th><th scope=col>reps</th></tr>\n",
       "\t<tr><th></th><th scope=col>&lt;chr&gt;</th><th scope=col>&lt;fct&gt;</th><th scope=col>&lt;fct&gt;</th><th scope=col>&lt;fct&gt;</th></tr>\n",
       "</thead>\n",
       "<tbody>\n",
       "\t<tr><th scope=row>hl60_120h_t_1</th><td>hl60   </td><td>Decitabine</td><td>120h</td><td>rep1</td></tr>\n",
       "\t<tr><th scope=row>hl60_120h_t_2</th><td>hl60   </td><td>Decitabine</td><td>120h</td><td>rep2</td></tr>\n",
       "\t<tr><th scope=row>hl60_120h_u_1</th><td>hl60   </td><td>DMSO      </td><td>120h</td><td>rep1</td></tr>\n",
       "\t<tr><th scope=row>hl60_120h_u_2</th><td>hl60   </td><td>DMSO      </td><td>120h</td><td>rep2</td></tr>\n",
       "\t<tr><th scope=row>hl60_6h_t_1</th><td>hl60   </td><td>Decitabine</td><td>6h  </td><td>rep1</td></tr>\n",
       "\t<tr><th scope=row>hl60_6h_t_2</th><td>hl60   </td><td>Decitabine</td><td>6h  </td><td>rep2</td></tr>\n",
       "\t<tr><th scope=row>hl60_6h_u_1</th><td>hl60   </td><td>DMSO      </td><td>6h  </td><td>rep1</td></tr>\n",
       "\t<tr><th scope=row>hl60_6h_u_2</th><td>hl60   </td><td>DMSO      </td><td>6h  </td><td>rep2</td></tr>\n",
       "\t<tr><th scope=row>hl60_72h_t_1</th><td>hl60   </td><td>Decitabine</td><td>72h </td><td>rep1</td></tr>\n",
       "\t<tr><th scope=row>hl60_72h_t_2</th><td>hl60   </td><td>Decitabine</td><td>72h </td><td>rep2</td></tr>\n",
       "\t<tr><th scope=row>hl60_72h_u_1</th><td>hl60   </td><td>DMSO      </td><td>72h </td><td>rep1</td></tr>\n",
       "\t<tr><th scope=row>hl60_72h_u_2</th><td>hl60   </td><td>DMSO      </td><td>72h </td><td>rep2</td></tr>\n",
       "\t<tr><th scope=row>kg1_t_1</th><td>kg1    </td><td>Decitabine</td><td>72h </td><td>rep1</td></tr>\n",
       "\t<tr><th scope=row>kg1_t_2</th><td>kg1    </td><td>Decitabine</td><td>72h </td><td>rep2</td></tr>\n",
       "\t<tr><th scope=row>kg1_t_3</th><td>kg1    </td><td>Decitabine</td><td>72h </td><td>rep3</td></tr>\n",
       "\t<tr><th scope=row>kg1_u_1</th><td>kg1    </td><td>DMSO      </td><td>72h </td><td>rep1</td></tr>\n",
       "\t<tr><th scope=row>kg1_u_2</th><td>kg1    </td><td>DMSO      </td><td>72h </td><td>rep2</td></tr>\n",
       "\t<tr><th scope=row>kg1_u_3</th><td>kg1    </td><td>DMSO      </td><td>72h </td><td>rep3</td></tr>\n",
       "\t<tr><th scope=row>molm14_t_1</th><td>molm14 </td><td>Decitabine</td><td>72h </td><td>rep1</td></tr>\n",
       "\t<tr><th scope=row>molm14_t_2</th><td>molm14 </td><td>Decitabine</td><td>72h </td><td>rep2</td></tr>\n",
       "\t<tr><th scope=row>molm14_t_3</th><td>molm14 </td><td>Decitabine</td><td>72h </td><td>rep3</td></tr>\n",
       "\t<tr><th scope=row>molm14_u_1</th><td>molm14 </td><td>DMSO      </td><td>72h </td><td>rep1</td></tr>\n",
       "\t<tr><th scope=row>molm14_u_2</th><td>molm14 </td><td>DMSO      </td><td>72h </td><td>rep2</td></tr>\n",
       "\t<tr><th scope=row>molm14_u_3</th><td>molm14 </td><td>DMSO      </td><td>72h </td><td>rep3</td></tr>\n",
       "\t<tr><th scope=row>ociaml2_t_1</th><td>ociaml2</td><td>Decitabine</td><td>72h </td><td>rep1</td></tr>\n",
       "\t<tr><th scope=row>ociaml2_t_2</th><td>ociaml2</td><td>Decitabine</td><td>72h </td><td>rep2</td></tr>\n",
       "\t<tr><th scope=row>ociaml2_t_3</th><td>ociaml2</td><td>Decitabine</td><td>72h </td><td>rep3</td></tr>\n",
       "\t<tr><th scope=row>ociaml2_u_1</th><td>ociaml2</td><td>DMSO      </td><td>72h </td><td>rep1</td></tr>\n",
       "\t<tr><th scope=row>ociaml2_u_2</th><td>ociaml2</td><td>DMSO      </td><td>72h </td><td>rep2</td></tr>\n",
       "\t<tr><th scope=row>ociaml2_u_3</th><td>ociaml2</td><td>DMSO      </td><td>72h </td><td>rep3</td></tr>\n",
       "\t<tr><th scope=row>ociaml3_t_1</th><td>ociaml3</td><td>Decitabine</td><td>72h </td><td>rep1</td></tr>\n",
       "\t<tr><th scope=row>ociaml3_t_2</th><td>ociaml3</td><td>Decitabine</td><td>72h </td><td>rep2</td></tr>\n",
       "\t<tr><th scope=row>ociaml3_t_3</th><td>ociaml3</td><td>Decitabine</td><td>72h </td><td>rep3</td></tr>\n",
       "\t<tr><th scope=row>ociaml3_u_1</th><td>ociaml3</td><td>DMSO      </td><td>72h </td><td>rep1</td></tr>\n",
       "\t<tr><th scope=row>ociaml3_u_2</th><td>ociaml3</td><td>DMSO      </td><td>72h </td><td>rep2</td></tr>\n",
       "\t<tr><th scope=row>ociaml3_u_3</th><td>ociaml3</td><td>DMSO      </td><td>72h </td><td>rep3</td></tr>\n",
       "\t<tr><th scope=row>thp1_t_1</th><td>thp1   </td><td>Decitabine</td><td>72h </td><td>rep1</td></tr>\n",
       "\t<tr><th scope=row>thp1_t_2</th><td>thp1   </td><td>Decitabine</td><td>72h </td><td>rep2</td></tr>\n",
       "\t<tr><th scope=row>thp1_t_3</th><td>thp1   </td><td>Decitabine</td><td>72h </td><td>rep3</td></tr>\n",
       "\t<tr><th scope=row>thp1_u_1</th><td>thp1   </td><td>DMSO      </td><td>72h </td><td>rep1</td></tr>\n",
       "\t<tr><th scope=row>thp1_u_2</th><td>thp1   </td><td>DMSO      </td><td>72h </td><td>rep2</td></tr>\n",
       "\t<tr><th scope=row>thp1_u_3</th><td>thp1   </td><td>DMSO      </td><td>72h </td><td>rep3</td></tr>\n",
       "</tbody>\n",
       "</table>\n"
      ],
      "text/latex": [
       "A data.frame: 42 × 4\n",
       "\\begin{tabular}{r|llll}\n",
       "  & line & cond & time & reps\\\\\n",
       "  & <chr> & <fct> & <fct> & <fct>\\\\\n",
       "\\hline\n",
       "\thl60\\_120h\\_t\\_1 & hl60    & Decitabine & 120h & rep1\\\\\n",
       "\thl60\\_120h\\_t\\_2 & hl60    & Decitabine & 120h & rep2\\\\\n",
       "\thl60\\_120h\\_u\\_1 & hl60    & DMSO       & 120h & rep1\\\\\n",
       "\thl60\\_120h\\_u\\_2 & hl60    & DMSO       & 120h & rep2\\\\\n",
       "\thl60\\_6h\\_t\\_1 & hl60    & Decitabine & 6h   & rep1\\\\\n",
       "\thl60\\_6h\\_t\\_2 & hl60    & Decitabine & 6h   & rep2\\\\\n",
       "\thl60\\_6h\\_u\\_1 & hl60    & DMSO       & 6h   & rep1\\\\\n",
       "\thl60\\_6h\\_u\\_2 & hl60    & DMSO       & 6h   & rep2\\\\\n",
       "\thl60\\_72h\\_t\\_1 & hl60    & Decitabine & 72h  & rep1\\\\\n",
       "\thl60\\_72h\\_t\\_2 & hl60    & Decitabine & 72h  & rep2\\\\\n",
       "\thl60\\_72h\\_u\\_1 & hl60    & DMSO       & 72h  & rep1\\\\\n",
       "\thl60\\_72h\\_u\\_2 & hl60    & DMSO       & 72h  & rep2\\\\\n",
       "\tkg1\\_t\\_1 & kg1     & Decitabine & 72h  & rep1\\\\\n",
       "\tkg1\\_t\\_2 & kg1     & Decitabine & 72h  & rep2\\\\\n",
       "\tkg1\\_t\\_3 & kg1     & Decitabine & 72h  & rep3\\\\\n",
       "\tkg1\\_u\\_1 & kg1     & DMSO       & 72h  & rep1\\\\\n",
       "\tkg1\\_u\\_2 & kg1     & DMSO       & 72h  & rep2\\\\\n",
       "\tkg1\\_u\\_3 & kg1     & DMSO       & 72h  & rep3\\\\\n",
       "\tmolm14\\_t\\_1 & molm14  & Decitabine & 72h  & rep1\\\\\n",
       "\tmolm14\\_t\\_2 & molm14  & Decitabine & 72h  & rep2\\\\\n",
       "\tmolm14\\_t\\_3 & molm14  & Decitabine & 72h  & rep3\\\\\n",
       "\tmolm14\\_u\\_1 & molm14  & DMSO       & 72h  & rep1\\\\\n",
       "\tmolm14\\_u\\_2 & molm14  & DMSO       & 72h  & rep2\\\\\n",
       "\tmolm14\\_u\\_3 & molm14  & DMSO       & 72h  & rep3\\\\\n",
       "\tociaml2\\_t\\_1 & ociaml2 & Decitabine & 72h  & rep1\\\\\n",
       "\tociaml2\\_t\\_2 & ociaml2 & Decitabine & 72h  & rep2\\\\\n",
       "\tociaml2\\_t\\_3 & ociaml2 & Decitabine & 72h  & rep3\\\\\n",
       "\tociaml2\\_u\\_1 & ociaml2 & DMSO       & 72h  & rep1\\\\\n",
       "\tociaml2\\_u\\_2 & ociaml2 & DMSO       & 72h  & rep2\\\\\n",
       "\tociaml2\\_u\\_3 & ociaml2 & DMSO       & 72h  & rep3\\\\\n",
       "\tociaml3\\_t\\_1 & ociaml3 & Decitabine & 72h  & rep1\\\\\n",
       "\tociaml3\\_t\\_2 & ociaml3 & Decitabine & 72h  & rep2\\\\\n",
       "\tociaml3\\_t\\_3 & ociaml3 & Decitabine & 72h  & rep3\\\\\n",
       "\tociaml3\\_u\\_1 & ociaml3 & DMSO       & 72h  & rep1\\\\\n",
       "\tociaml3\\_u\\_2 & ociaml3 & DMSO       & 72h  & rep2\\\\\n",
       "\tociaml3\\_u\\_3 & ociaml3 & DMSO       & 72h  & rep3\\\\\n",
       "\tthp1\\_t\\_1 & thp1    & Decitabine & 72h  & rep1\\\\\n",
       "\tthp1\\_t\\_2 & thp1    & Decitabine & 72h  & rep2\\\\\n",
       "\tthp1\\_t\\_3 & thp1    & Decitabine & 72h  & rep3\\\\\n",
       "\tthp1\\_u\\_1 & thp1    & DMSO       & 72h  & rep1\\\\\n",
       "\tthp1\\_u\\_2 & thp1    & DMSO       & 72h  & rep2\\\\\n",
       "\tthp1\\_u\\_3 & thp1    & DMSO       & 72h  & rep3\\\\\n",
       "\\end{tabular}\n"
      ],
      "text/markdown": [
       "\n",
       "A data.frame: 42 × 4\n",
       "\n",
       "| <!--/--> | line &lt;chr&gt; | cond &lt;fct&gt; | time &lt;fct&gt; | reps &lt;fct&gt; |\n",
       "|---|---|---|---|---|\n",
       "| hl60_120h_t_1 | hl60    | Decitabine | 120h | rep1 |\n",
       "| hl60_120h_t_2 | hl60    | Decitabine | 120h | rep2 |\n",
       "| hl60_120h_u_1 | hl60    | DMSO       | 120h | rep1 |\n",
       "| hl60_120h_u_2 | hl60    | DMSO       | 120h | rep2 |\n",
       "| hl60_6h_t_1 | hl60    | Decitabine | 6h   | rep1 |\n",
       "| hl60_6h_t_2 | hl60    | Decitabine | 6h   | rep2 |\n",
       "| hl60_6h_u_1 | hl60    | DMSO       | 6h   | rep1 |\n",
       "| hl60_6h_u_2 | hl60    | DMSO       | 6h   | rep2 |\n",
       "| hl60_72h_t_1 | hl60    | Decitabine | 72h  | rep1 |\n",
       "| hl60_72h_t_2 | hl60    | Decitabine | 72h  | rep2 |\n",
       "| hl60_72h_u_1 | hl60    | DMSO       | 72h  | rep1 |\n",
       "| hl60_72h_u_2 | hl60    | DMSO       | 72h  | rep2 |\n",
       "| kg1_t_1 | kg1     | Decitabine | 72h  | rep1 |\n",
       "| kg1_t_2 | kg1     | Decitabine | 72h  | rep2 |\n",
       "| kg1_t_3 | kg1     | Decitabine | 72h  | rep3 |\n",
       "| kg1_u_1 | kg1     | DMSO       | 72h  | rep1 |\n",
       "| kg1_u_2 | kg1     | DMSO       | 72h  | rep2 |\n",
       "| kg1_u_3 | kg1     | DMSO       | 72h  | rep3 |\n",
       "| molm14_t_1 | molm14  | Decitabine | 72h  | rep1 |\n",
       "| molm14_t_2 | molm14  | Decitabine | 72h  | rep2 |\n",
       "| molm14_t_3 | molm14  | Decitabine | 72h  | rep3 |\n",
       "| molm14_u_1 | molm14  | DMSO       | 72h  | rep1 |\n",
       "| molm14_u_2 | molm14  | DMSO       | 72h  | rep2 |\n",
       "| molm14_u_3 | molm14  | DMSO       | 72h  | rep3 |\n",
       "| ociaml2_t_1 | ociaml2 | Decitabine | 72h  | rep1 |\n",
       "| ociaml2_t_2 | ociaml2 | Decitabine | 72h  | rep2 |\n",
       "| ociaml2_t_3 | ociaml2 | Decitabine | 72h  | rep3 |\n",
       "| ociaml2_u_1 | ociaml2 | DMSO       | 72h  | rep1 |\n",
       "| ociaml2_u_2 | ociaml2 | DMSO       | 72h  | rep2 |\n",
       "| ociaml2_u_3 | ociaml2 | DMSO       | 72h  | rep3 |\n",
       "| ociaml3_t_1 | ociaml3 | Decitabine | 72h  | rep1 |\n",
       "| ociaml3_t_2 | ociaml3 | Decitabine | 72h  | rep2 |\n",
       "| ociaml3_t_3 | ociaml3 | Decitabine | 72h  | rep3 |\n",
       "| ociaml3_u_1 | ociaml3 | DMSO       | 72h  | rep1 |\n",
       "| ociaml3_u_2 | ociaml3 | DMSO       | 72h  | rep2 |\n",
       "| ociaml3_u_3 | ociaml3 | DMSO       | 72h  | rep3 |\n",
       "| thp1_t_1 | thp1    | Decitabine | 72h  | rep1 |\n",
       "| thp1_t_2 | thp1    | Decitabine | 72h  | rep2 |\n",
       "| thp1_t_3 | thp1    | Decitabine | 72h  | rep3 |\n",
       "| thp1_u_1 | thp1    | DMSO       | 72h  | rep1 |\n",
       "| thp1_u_2 | thp1    | DMSO       | 72h  | rep2 |\n",
       "| thp1_u_3 | thp1    | DMSO       | 72h  | rep3 |\n",
       "\n"
      ],
      "text/plain": [
       "              line    cond       time reps\n",
       "hl60_120h_t_1 hl60    Decitabine 120h rep1\n",
       "hl60_120h_t_2 hl60    Decitabine 120h rep2\n",
       "hl60_120h_u_1 hl60    DMSO       120h rep1\n",
       "hl60_120h_u_2 hl60    DMSO       120h rep2\n",
       "hl60_6h_t_1   hl60    Decitabine 6h   rep1\n",
       "hl60_6h_t_2   hl60    Decitabine 6h   rep2\n",
       "hl60_6h_u_1   hl60    DMSO       6h   rep1\n",
       "hl60_6h_u_2   hl60    DMSO       6h   rep2\n",
       "hl60_72h_t_1  hl60    Decitabine 72h  rep1\n",
       "hl60_72h_t_2  hl60    Decitabine 72h  rep2\n",
       "hl60_72h_u_1  hl60    DMSO       72h  rep1\n",
       "hl60_72h_u_2  hl60    DMSO       72h  rep2\n",
       "kg1_t_1       kg1     Decitabine 72h  rep1\n",
       "kg1_t_2       kg1     Decitabine 72h  rep2\n",
       "kg1_t_3       kg1     Decitabine 72h  rep3\n",
       "kg1_u_1       kg1     DMSO       72h  rep1\n",
       "kg1_u_2       kg1     DMSO       72h  rep2\n",
       "kg1_u_3       kg1     DMSO       72h  rep3\n",
       "molm14_t_1    molm14  Decitabine 72h  rep1\n",
       "molm14_t_2    molm14  Decitabine 72h  rep2\n",
       "molm14_t_3    molm14  Decitabine 72h  rep3\n",
       "molm14_u_1    molm14  DMSO       72h  rep1\n",
       "molm14_u_2    molm14  DMSO       72h  rep2\n",
       "molm14_u_3    molm14  DMSO       72h  rep3\n",
       "ociaml2_t_1   ociaml2 Decitabine 72h  rep1\n",
       "ociaml2_t_2   ociaml2 Decitabine 72h  rep2\n",
       "ociaml2_t_3   ociaml2 Decitabine 72h  rep3\n",
       "ociaml2_u_1   ociaml2 DMSO       72h  rep1\n",
       "ociaml2_u_2   ociaml2 DMSO       72h  rep2\n",
       "ociaml2_u_3   ociaml2 DMSO       72h  rep3\n",
       "ociaml3_t_1   ociaml3 Decitabine 72h  rep1\n",
       "ociaml3_t_2   ociaml3 Decitabine 72h  rep2\n",
       "ociaml3_t_3   ociaml3 Decitabine 72h  rep3\n",
       "ociaml3_u_1   ociaml3 DMSO       72h  rep1\n",
       "ociaml3_u_2   ociaml3 DMSO       72h  rep2\n",
       "ociaml3_u_3   ociaml3 DMSO       72h  rep3\n",
       "thp1_t_1      thp1    Decitabine 72h  rep1\n",
       "thp1_t_2      thp1    Decitabine 72h  rep2\n",
       "thp1_t_3      thp1    Decitabine 72h  rep3\n",
       "thp1_u_1      thp1    DMSO       72h  rep1\n",
       "thp1_u_2      thp1    DMSO       72h  rep2\n",
       "thp1_u_3      thp1    DMSO       72h  rep3"
      ]
     },
     "metadata": {},
     "output_type": "display_data"
    }
   ],
   "source": [
    "# meta \n",
    "lines   <- c(rep('hl60',12),lapply(c('kg1', 'molm14', 'ociaml2', 'ociaml3', 'thp1'), rep, 6) %>% unlist)\n",
    "\n",
    "# meta \n",
    "conds  <- factor(c(\n",
    "    # hl60\n",
    "    rep(c(rep('Decitabine',2),rep('DMSO',2)),3),\n",
    "    # 5 other cell lines\n",
    "    rep(c(rep('Decitabine',3), rep('DMSO',3)),5)\n",
    "), levels = c('DMSO','Decitabine'))\n",
    "\n",
    "reps <- factor(c(\n",
    "    # hl60\n",
    "    rep(c('rep1','rep2'),6),\n",
    "    # 5 other cell lines\n",
    "    rep(c('rep1','rep2','rep3'),10)\n",
    "),c('rep1','rep2','rep3'))\n",
    "\n",
    "hours <- factor(c(\n",
    "    # hl60\n",
    "    c(rep('120h',4),rep('6h',4),rep('72h',4)), \n",
    "    # 5 other cell lines\n",
    "    rep('72h',30)\n",
    "),c('6h','72h','120h') )\n",
    "\n",
    "colData <- data.frame(\n",
    "    line=lines, \n",
    "    cond=conds,\n",
    "    time=hours,\n",
    "    reps=reps,\n",
    "    row.names=colnames(txi$abundance),\n",
    "    stringsAsFactors=FALSE\n",
    ")\n",
    "colData"
   ]
  },
  {
   "cell_type": "markdown",
   "metadata": {
    "tags": []
   },
   "source": [
    "#### Save normalized counts"
   ]
  },
  {
   "cell_type": "code",
   "execution_count": 35,
   "metadata": {},
   "outputs": [
    {
     "name": "stderr",
     "output_type": "stream",
     "text": [
      "using counts and average transcript lengths from tximport\n",
      "\n"
     ]
    }
   ],
   "source": [
    "dds <- DESeqDataSetFromTximport(txi, colData, ~cond)\n",
    "# dds <- DESeqDataSetFromTximport(txi.gene, colData, ~cond)"
   ]
  },
  {
   "cell_type": "code",
   "execution_count": 36,
   "metadata": {},
   "outputs": [
    {
     "name": "stderr",
     "output_type": "stream",
     "text": [
      "using 'avgTxLength' from assays(dds), correcting for library size\n",
      "\n"
     ]
    }
   ],
   "source": [
    "dds <- estimateSizeFactors(dds)\n",
    "\n",
    "ncu <- counts(dds, normalized=TRUE) "
   ]
  },
  {
   "cell_type": "code",
   "execution_count": 39,
   "metadata": {},
   "outputs": [],
   "source": [
    "write.table(\n",
    "    ncu[DAC_tx2gene$TXNAME,],'tinat/deseq2_norm.txt', sep=\"\\t\", quote=FALSE, col.names=TRUE\n",
    ")"
   ]
  },
  {
   "cell_type": "markdown",
   "metadata": {
    "tags": []
   },
   "source": [
    "___\n",
    "## Decitabine treatment time-series RNA-Seq experiments in HL60 cell line"
   ]
  },
  {
   "cell_type": "markdown",
   "metadata": {},
   "source": [
    "In order to test for any differences over multiple time points, once can use a design including the time factor, and then test using the **likelihood ratio test (LRT)**. Here, as we have control (DMSO) and treatment (Decitabine) time series, design formula containing the condition factor, the time factor, and the interaction of the two. In this case, using the likelihood ratio test with a reduced model which does not contain the interaction terms will test whether the condition induces a change in gene expression at any time point after the reference level time point (time 0). \n",
    "\n",
    "(see [this](http://bioconductor.org/packages/devel/bioc/vignettes/DESeq2/inst/doc/DESeq2.html#time-series-experiments)  OR [this](http://master.bioconductor.org/packages/release/workflows/vignettes/rnaseqGene/inst/doc/rnaseqGene.html#time-course-experiments) for more details about DESeq2 time series experiments)"
   ]
  },
  {
   "cell_type": "markdown",
   "metadata": {
    "tags": []
   },
   "source": [
    "### Load count data and meta table "
   ]
  },
  {
   "cell_type": "markdown",
   "metadata": {},
   "source": [
    "Import salmon quants"
   ]
  },
  {
   "cell_type": "code",
   "execution_count": 40,
   "metadata": {},
   "outputs": [
    {
     "name": "stderr",
     "output_type": "stream",
     "text": [
      "reading in files with read_tsv\n",
      "\n",
      "1 \n",
      "2 \n",
      "3 \n",
      "4 \n",
      "5 \n",
      "6 \n",
      "7 \n",
      "8 \n",
      "9 \n",
      "10 \n",
      "11 \n",
      "12 \n",
      "\n",
      "\n"
     ]
    }
   ],
   "source": [
    "txi_hl60 <- tximport(\n",
    "    files[grep(\"hl60\", files, fixed=T)], \n",
    "    type = \"salmon\", tx2gene = tx2gene, txOut=TRUE\n",
    ")\n",
    "\n",
    "# txi_hl60.gene <- summarizeToGene(txi_hl60, tx2gene, ignoreAfterBar= TRUE)"
   ]
  },
  {
   "cell_type": "markdown",
   "metadata": {},
   "source": [
    "Define the sample sheet"
   ]
  },
  {
   "cell_type": "code",
   "execution_count": 41,
   "metadata": {},
   "outputs": [
    {
     "data": {
      "text/html": [
       "<table class=\"dataframe\">\n",
       "<caption>A data.frame: 12 × 4</caption>\n",
       "<thead>\n",
       "\t<tr><th></th><th scope=col>line</th><th scope=col>cond</th><th scope=col>time</th><th scope=col>reps</th></tr>\n",
       "\t<tr><th></th><th scope=col>&lt;chr&gt;</th><th scope=col>&lt;fct&gt;</th><th scope=col>&lt;fct&gt;</th><th scope=col>&lt;fct&gt;</th></tr>\n",
       "</thead>\n",
       "<tbody>\n",
       "\t<tr><th scope=row>hl60_120h_t_1</th><td>hl60</td><td>Decitabine</td><td>120h</td><td>rep1</td></tr>\n",
       "\t<tr><th scope=row>hl60_120h_t_2</th><td>hl60</td><td>Decitabine</td><td>120h</td><td>rep2</td></tr>\n",
       "\t<tr><th scope=row>hl60_120h_u_1</th><td>hl60</td><td>DMSO      </td><td>120h</td><td>rep1</td></tr>\n",
       "\t<tr><th scope=row>hl60_120h_u_2</th><td>hl60</td><td>DMSO      </td><td>120h</td><td>rep2</td></tr>\n",
       "\t<tr><th scope=row>hl60_6h_t_1</th><td>hl60</td><td>Decitabine</td><td>6h  </td><td>rep1</td></tr>\n",
       "\t<tr><th scope=row>hl60_6h_t_2</th><td>hl60</td><td>Decitabine</td><td>6h  </td><td>rep2</td></tr>\n",
       "\t<tr><th scope=row>hl60_6h_u_1</th><td>hl60</td><td>DMSO      </td><td>6h  </td><td>rep1</td></tr>\n",
       "\t<tr><th scope=row>hl60_6h_u_2</th><td>hl60</td><td>DMSO      </td><td>6h  </td><td>rep2</td></tr>\n",
       "\t<tr><th scope=row>hl60_72h_t_1</th><td>hl60</td><td>Decitabine</td><td>72h </td><td>rep1</td></tr>\n",
       "\t<tr><th scope=row>hl60_72h_t_2</th><td>hl60</td><td>Decitabine</td><td>72h </td><td>rep2</td></tr>\n",
       "\t<tr><th scope=row>hl60_72h_u_1</th><td>hl60</td><td>DMSO      </td><td>72h </td><td>rep1</td></tr>\n",
       "\t<tr><th scope=row>hl60_72h_u_2</th><td>hl60</td><td>DMSO      </td><td>72h </td><td>rep2</td></tr>\n",
       "</tbody>\n",
       "</table>\n"
      ],
      "text/latex": [
       "A data.frame: 12 × 4\n",
       "\\begin{tabular}{r|llll}\n",
       "  & line & cond & time & reps\\\\\n",
       "  & <chr> & <fct> & <fct> & <fct>\\\\\n",
       "\\hline\n",
       "\thl60\\_120h\\_t\\_1 & hl60 & Decitabine & 120h & rep1\\\\\n",
       "\thl60\\_120h\\_t\\_2 & hl60 & Decitabine & 120h & rep2\\\\\n",
       "\thl60\\_120h\\_u\\_1 & hl60 & DMSO       & 120h & rep1\\\\\n",
       "\thl60\\_120h\\_u\\_2 & hl60 & DMSO       & 120h & rep2\\\\\n",
       "\thl60\\_6h\\_t\\_1 & hl60 & Decitabine & 6h   & rep1\\\\\n",
       "\thl60\\_6h\\_t\\_2 & hl60 & Decitabine & 6h   & rep2\\\\\n",
       "\thl60\\_6h\\_u\\_1 & hl60 & DMSO       & 6h   & rep1\\\\\n",
       "\thl60\\_6h\\_u\\_2 & hl60 & DMSO       & 6h   & rep2\\\\\n",
       "\thl60\\_72h\\_t\\_1 & hl60 & Decitabine & 72h  & rep1\\\\\n",
       "\thl60\\_72h\\_t\\_2 & hl60 & Decitabine & 72h  & rep2\\\\\n",
       "\thl60\\_72h\\_u\\_1 & hl60 & DMSO       & 72h  & rep1\\\\\n",
       "\thl60\\_72h\\_u\\_2 & hl60 & DMSO       & 72h  & rep2\\\\\n",
       "\\end{tabular}\n"
      ],
      "text/markdown": [
       "\n",
       "A data.frame: 12 × 4\n",
       "\n",
       "| <!--/--> | line &lt;chr&gt; | cond &lt;fct&gt; | time &lt;fct&gt; | reps &lt;fct&gt; |\n",
       "|---|---|---|---|---|\n",
       "| hl60_120h_t_1 | hl60 | Decitabine | 120h | rep1 |\n",
       "| hl60_120h_t_2 | hl60 | Decitabine | 120h | rep2 |\n",
       "| hl60_120h_u_1 | hl60 | DMSO       | 120h | rep1 |\n",
       "| hl60_120h_u_2 | hl60 | DMSO       | 120h | rep2 |\n",
       "| hl60_6h_t_1 | hl60 | Decitabine | 6h   | rep1 |\n",
       "| hl60_6h_t_2 | hl60 | Decitabine | 6h   | rep2 |\n",
       "| hl60_6h_u_1 | hl60 | DMSO       | 6h   | rep1 |\n",
       "| hl60_6h_u_2 | hl60 | DMSO       | 6h   | rep2 |\n",
       "| hl60_72h_t_1 | hl60 | Decitabine | 72h  | rep1 |\n",
       "| hl60_72h_t_2 | hl60 | Decitabine | 72h  | rep2 |\n",
       "| hl60_72h_u_1 | hl60 | DMSO       | 72h  | rep1 |\n",
       "| hl60_72h_u_2 | hl60 | DMSO       | 72h  | rep2 |\n",
       "\n"
      ],
      "text/plain": [
       "              line cond       time reps\n",
       "hl60_120h_t_1 hl60 Decitabine 120h rep1\n",
       "hl60_120h_t_2 hl60 Decitabine 120h rep2\n",
       "hl60_120h_u_1 hl60 DMSO       120h rep1\n",
       "hl60_120h_u_2 hl60 DMSO       120h rep2\n",
       "hl60_6h_t_1   hl60 Decitabine 6h   rep1\n",
       "hl60_6h_t_2   hl60 Decitabine 6h   rep2\n",
       "hl60_6h_u_1   hl60 DMSO       6h   rep1\n",
       "hl60_6h_u_2   hl60 DMSO       6h   rep2\n",
       "hl60_72h_t_1  hl60 Decitabine 72h  rep1\n",
       "hl60_72h_t_2  hl60 Decitabine 72h  rep2\n",
       "hl60_72h_u_1  hl60 DMSO       72h  rep1\n",
       "hl60_72h_u_2  hl60 DMSO       72h  rep2"
      ]
     },
     "metadata": {},
     "output_type": "display_data"
    }
   ],
   "source": [
    "colData[colData$line == 'hl60',]"
   ]
  },
  {
   "cell_type": "markdown",
   "metadata": {
    "tags": []
   },
   "source": [
    "### PCA\n",
    "<!-- Initial principal component analysis (PCA) shows the second treated biological replicate at 72h time point, behaves as an outlier. Removing that from the analysis give us a better representation of our dataset. In the second PCA plot, we can see that treated samples at 6h cluster with the non-treated samples which suggest that 6 hours treatment with the drug is not as effective as 72h and 120h. Although, we will check the variant genes in this time-point in the following statistical analysis. -->\n"
   ]
  },
  {
   "cell_type": "code",
   "execution_count": 42,
   "metadata": {},
   "outputs": [
    {
     "name": "stderr",
     "output_type": "stream",
     "text": [
      "using counts and average transcript lengths from tximport\n",
      "\n"
     ]
    },
    {
     "data": {
      "text/html": [
       "84038"
      ],
      "text/latex": [
       "84038"
      ],
      "text/markdown": [
       "84038"
      ],
      "text/plain": [
       "[1] 84038"
      ]
     },
     "metadata": {},
     "output_type": "display_data"
    }
   ],
   "source": [
    "dds0 <- DESeqDataSetFromTximport(txi_hl60, colData[colData$line == 'hl60',], ~0 + cond + time )\n",
    "nrow(dds0)"
   ]
  },
  {
   "cell_type": "code",
   "execution_count": 43,
   "metadata": {},
   "outputs": [
    {
     "name": "stderr",
     "output_type": "stream",
     "text": [
      "estimating size factors\n",
      "\n",
      "using 'avgTxLength' from assays(dds), correcting for library size\n",
      "\n",
      "estimating dispersions\n",
      "\n",
      "gene-wise dispersion estimates: 18 workers\n",
      "\n",
      "mean-dispersion relationship\n",
      "\n",
      "final dispersion estimates, fitting model and testing: 18 workers\n",
      "\n",
      "-- note: fitType='parametric', but the dispersion trend was not well captured by the\n",
      "   function: y = a/x + b, and a local regression fit was automatically substituted.\n",
      "   specify fitType='local' or 'mean' to avoid this message next time.\n",
      "\n"
     ]
    }
   ],
   "source": [
    "dds.pca <- DESeq(dds0, parallel=TRUE)\n",
    "# results \n",
    "vsd_hl60 <- varianceStabilizingTransformation(dds.pca)"
   ]
  },
  {
   "cell_type": "code",
   "execution_count": 44,
   "metadata": {},
   "outputs": [
    {
     "data": {
      "image/png": "[encoded data removed]",
      "text/plain": [
       "plot without title"
      ]
     },
     "metadata": {
      "image/png": {
       "height": 420,
       "width": 420
      }
     },
     "output_type": "display_data"
    }
   ],
   "source": [
    "pca_hl60 <- plot_PCA(\n",
    "    vsd_hl60, \n",
    "    colData(vsd_hl60), \n",
    "    labels=colData(vsd_hl60)[,'time'],gr=c('cond'), title='cell line: hl60'\n",
    ")\n",
    "\n",
    "pca_hl60"
   ]
  },
  {
   "cell_type": "code",
   "execution_count": 45,
   "metadata": {},
   "outputs": [
    {
     "data": {
      "image/png": "[encoded data removed]",
      "text/plain": [
       "plot without title"
      ]
     },
     "metadata": {
      "image/png": {
       "height": 420,
       "width": 420
      }
     },
     "output_type": "display_data"
    }
   ],
   "source": [
    "par(mar=c(15,5,1,1))\n",
    "boxplot(log10(assays(dds.pca)[[\"cooks\"]]), range=0, las=2)"
   ]
  },
  {
   "cell_type": "markdown",
   "metadata": {
    "tags": []
   },
   "source": [
    "### Differential expression analysis\n",
    "I'm doing differential expression analysis for treated samples vs. untreated at 6h, 72h and 120h. "
   ]
  },
  {
   "cell_type": "markdown",
   "metadata": {
    "tags": []
   },
   "source": [
    "#### First scenario\n",
    "Time included as factor variable. \n",
    "\n",
    "We make two different `dds` object one with with no `cond:time` interaction term and the other one with the interaction term (**ANOVA-like comparison**). \n",
    "\n",
    "<!-- Then, I'm replacing results from first object to the secound one for genes with adjust p-values (padj) > 0.05. Hossien Asgharian told me these genes has more accurate estimation from the model with no interaction term.  -->\n",
    "\n",
    "https://bioconductor.org/packages/release/workflows/vignettes/RNAseq123/inst/doc/designmatrices.html#design-matrices-with-and-without-intercept-term"
   ]
  },
  {
   "cell_type": "code",
   "execution_count": 46,
   "metadata": {},
   "outputs": [
    {
     "data": {
      "text/html": [
       "<style>\n",
       ".list-inline {list-style: none; margin:0; padding: 0}\n",
       ".list-inline>li {display: inline-block}\n",
       ".list-inline>li:not(:last-child)::after {content: \"\\00b7\"; padding: 0 .5ex}\n",
       "</style>\n",
       "<ol class=list-inline><li>'DMSO'</li><li>'Decitabine'</li></ol>\n"
      ],
      "text/latex": [
       "\\begin{enumerate*}\n",
       "\\item 'DMSO'\n",
       "\\item 'Decitabine'\n",
       "\\end{enumerate*}\n"
      ],
      "text/markdown": [
       "1. 'DMSO'\n",
       "2. 'Decitabine'\n",
       "\n",
       "\n"
      ],
      "text/plain": [
       "[1] \"DMSO\"       \"Decitabine\""
      ]
     },
     "metadata": {},
     "output_type": "display_data"
    }
   ],
   "source": [
    "levels(colData$cond)"
   ]
  },
  {
   "cell_type": "code",
   "execution_count": 47,
   "metadata": {},
   "outputs": [
    {
     "data": {
      "text/html": [
       "<table class=\"dataframe\">\n",
       "<caption>A matrix: 12 × 6 of type dbl</caption>\n",
       "<thead>\n",
       "\t<tr><th></th><th scope=col>condDMSO</th><th scope=col>condDecitabine</th><th scope=col>time72h</th><th scope=col>time120h</th><th scope=col>condDecitabine:time72h</th><th scope=col>condDecitabine:time120h</th></tr>\n",
       "</thead>\n",
       "<tbody>\n",
       "\t<tr><th scope=row>hl60_120h_t_1</th><td>0</td><td>1</td><td>0</td><td>1</td><td>0</td><td>1</td></tr>\n",
       "\t<tr><th scope=row>hl60_120h_t_2</th><td>0</td><td>1</td><td>0</td><td>1</td><td>0</td><td>1</td></tr>\n",
       "\t<tr><th scope=row>hl60_120h_u_1</th><td>1</td><td>0</td><td>0</td><td>1</td><td>0</td><td>0</td></tr>\n",
       "\t<tr><th scope=row>hl60_120h_u_2</th><td>1</td><td>0</td><td>0</td><td>1</td><td>0</td><td>0</td></tr>\n",
       "\t<tr><th scope=row>hl60_6h_t_1</th><td>0</td><td>1</td><td>0</td><td>0</td><td>0</td><td>0</td></tr>\n",
       "\t<tr><th scope=row>hl60_6h_t_2</th><td>0</td><td>1</td><td>0</td><td>0</td><td>0</td><td>0</td></tr>\n",
       "\t<tr><th scope=row>hl60_6h_u_1</th><td>1</td><td>0</td><td>0</td><td>0</td><td>0</td><td>0</td></tr>\n",
       "\t<tr><th scope=row>hl60_6h_u_2</th><td>1</td><td>0</td><td>0</td><td>0</td><td>0</td><td>0</td></tr>\n",
       "\t<tr><th scope=row>hl60_72h_t_1</th><td>0</td><td>1</td><td>1</td><td>0</td><td>1</td><td>0</td></tr>\n",
       "\t<tr><th scope=row>hl60_72h_t_2</th><td>0</td><td>1</td><td>1</td><td>0</td><td>1</td><td>0</td></tr>\n",
       "\t<tr><th scope=row>hl60_72h_u_1</th><td>1</td><td>0</td><td>1</td><td>0</td><td>0</td><td>0</td></tr>\n",
       "\t<tr><th scope=row>hl60_72h_u_2</th><td>1</td><td>0</td><td>1</td><td>0</td><td>0</td><td>0</td></tr>\n",
       "</tbody>\n",
       "</table>\n"
      ],
      "text/latex": [
       "A matrix: 12 × 6 of type dbl\n",
       "\\begin{tabular}{r|llllll}\n",
       "  & condDMSO & condDecitabine & time72h & time120h & condDecitabine:time72h & condDecitabine:time120h\\\\\n",
       "\\hline\n",
       "\thl60\\_120h\\_t\\_1 & 0 & 1 & 0 & 1 & 0 & 1\\\\\n",
       "\thl60\\_120h\\_t\\_2 & 0 & 1 & 0 & 1 & 0 & 1\\\\\n",
       "\thl60\\_120h\\_u\\_1 & 1 & 0 & 0 & 1 & 0 & 0\\\\\n",
       "\thl60\\_120h\\_u\\_2 & 1 & 0 & 0 & 1 & 0 & 0\\\\\n",
       "\thl60\\_6h\\_t\\_1 & 0 & 1 & 0 & 0 & 0 & 0\\\\\n",
       "\thl60\\_6h\\_t\\_2 & 0 & 1 & 0 & 0 & 0 & 0\\\\\n",
       "\thl60\\_6h\\_u\\_1 & 1 & 0 & 0 & 0 & 0 & 0\\\\\n",
       "\thl60\\_6h\\_u\\_2 & 1 & 0 & 0 & 0 & 0 & 0\\\\\n",
       "\thl60\\_72h\\_t\\_1 & 0 & 1 & 1 & 0 & 1 & 0\\\\\n",
       "\thl60\\_72h\\_t\\_2 & 0 & 1 & 1 & 0 & 1 & 0\\\\\n",
       "\thl60\\_72h\\_u\\_1 & 1 & 0 & 1 & 0 & 0 & 0\\\\\n",
       "\thl60\\_72h\\_u\\_2 & 1 & 0 & 1 & 0 & 0 & 0\\\\\n",
       "\\end{tabular}\n"
      ],
      "text/markdown": [
       "\n",
       "A matrix: 12 × 6 of type dbl\n",
       "\n",
       "| <!--/--> | condDMSO | condDecitabine | time72h | time120h | condDecitabine:time72h | condDecitabine:time120h |\n",
       "|---|---|---|---|---|---|---|\n",
       "| hl60_120h_t_1 | 0 | 1 | 0 | 1 | 0 | 1 |\n",
       "| hl60_120h_t_2 | 0 | 1 | 0 | 1 | 0 | 1 |\n",
       "| hl60_120h_u_1 | 1 | 0 | 0 | 1 | 0 | 0 |\n",
       "| hl60_120h_u_2 | 1 | 0 | 0 | 1 | 0 | 0 |\n",
       "| hl60_6h_t_1 | 0 | 1 | 0 | 0 | 0 | 0 |\n",
       "| hl60_6h_t_2 | 0 | 1 | 0 | 0 | 0 | 0 |\n",
       "| hl60_6h_u_1 | 1 | 0 | 0 | 0 | 0 | 0 |\n",
       "| hl60_6h_u_2 | 1 | 0 | 0 | 0 | 0 | 0 |\n",
       "| hl60_72h_t_1 | 0 | 1 | 1 | 0 | 1 | 0 |\n",
       "| hl60_72h_t_2 | 0 | 1 | 1 | 0 | 1 | 0 |\n",
       "| hl60_72h_u_1 | 1 | 0 | 1 | 0 | 0 | 0 |\n",
       "| hl60_72h_u_2 | 1 | 0 | 1 | 0 | 0 | 0 |\n",
       "\n"
      ],
      "text/plain": [
       "              condDMSO condDecitabine time72h time120h condDecitabine:time72h\n",
       "hl60_120h_t_1 0        1              0       1        0                     \n",
       "hl60_120h_t_2 0        1              0       1        0                     \n",
       "hl60_120h_u_1 1        0              0       1        0                     \n",
       "hl60_120h_u_2 1        0              0       1        0                     \n",
       "hl60_6h_t_1   0        1              0       0        0                     \n",
       "hl60_6h_t_2   0        1              0       0        0                     \n",
       "hl60_6h_u_1   1        0              0       0        0                     \n",
       "hl60_6h_u_2   1        0              0       0        0                     \n",
       "hl60_72h_t_1  0        1              1       0        1                     \n",
       "hl60_72h_t_2  0        1              1       0        1                     \n",
       "hl60_72h_u_1  1        0              1       0        0                     \n",
       "hl60_72h_u_2  1        0              1       0        0                     \n",
       "              condDecitabine:time120h\n",
       "hl60_120h_t_1 1                      \n",
       "hl60_120h_t_2 1                      \n",
       "hl60_120h_u_1 0                      \n",
       "hl60_120h_u_2 0                      \n",
       "hl60_6h_t_1   0                      \n",
       "hl60_6h_t_2   0                      \n",
       "hl60_6h_u_1   0                      \n",
       "hl60_6h_u_2   0                      \n",
       "hl60_72h_t_1  0                      \n",
       "hl60_72h_t_2  0                      \n",
       "hl60_72h_u_1  0                      \n",
       "hl60_72h_u_2  0                      "
      ]
     },
     "metadata": {},
     "output_type": "display_data"
    }
   ],
   "source": [
    "model.matrix(~0+cond*time, colData[colData$line=='hl60',])"
   ]
  },
  {
   "cell_type": "code",
   "execution_count": 48,
   "metadata": {},
   "outputs": [
    {
     "name": "stderr",
     "output_type": "stream",
     "text": [
      "using counts and average transcript lengths from tximport\n",
      "\n",
      "estimating size factors\n",
      "\n",
      "using 'avgTxLength' from assays(dds), correcting for library size\n",
      "\n",
      "estimating dispersions\n",
      "\n",
      "gene-wise dispersion estimates: 18 workers\n",
      "\n",
      "mean-dispersion relationship\n",
      "\n",
      "final dispersion estimates, fitting model and testing: 18 workers\n",
      "\n"
     ]
    }
   ],
   "source": [
    "dds <- DESeqDataSetFromTximport(txi_hl60, colData[colData$line=='hl60',], ~0 + cond + time + cond:time)\n",
    "\n",
    "# Annova test\n",
    "dds <- DESeq(dds, test=\"LRT\", reduced=~1, parallel=TRUE)"
   ]
  },
  {
   "cell_type": "code",
   "execution_count": 49,
   "metadata": {},
   "outputs": [
    {
     "data": {
      "text/html": [
       "<style>\n",
       ".list-inline {list-style: none; margin:0; padding: 0}\n",
       ".list-inline>li {display: inline-block}\n",
       ".list-inline>li:not(:last-child)::after {content: \"\\00b7\"; padding: 0 .5ex}\n",
       "</style>\n",
       "<ol class=list-inline><li>'condDMSO'</li><li>'condDecitabine'</li><li>'time72h'</li><li>'time120h'</li><li>'condDecitabine.time72h'</li><li>'condDecitabine.time120h'</li></ol>\n"
      ],
      "text/latex": [
       "\\begin{enumerate*}\n",
       "\\item 'condDMSO'\n",
       "\\item 'condDecitabine'\n",
       "\\item 'time72h'\n",
       "\\item 'time120h'\n",
       "\\item 'condDecitabine.time72h'\n",
       "\\item 'condDecitabine.time120h'\n",
       "\\end{enumerate*}\n"
      ],
      "text/markdown": [
       "1. 'condDMSO'\n",
       "2. 'condDecitabine'\n",
       "3. 'time72h'\n",
       "4. 'time120h'\n",
       "5. 'condDecitabine.time72h'\n",
       "6. 'condDecitabine.time120h'\n",
       "\n",
       "\n"
      ],
      "text/plain": [
       "[1] \"condDMSO\"                \"condDecitabine\"         \n",
       "[3] \"time72h\"                 \"time120h\"               \n",
       "[5] \"condDecitabine.time72h\"  \"condDecitabine.time120h\""
      ]
     },
     "metadata": {},
     "output_type": "display_data"
    }
   ],
   "source": [
    "resultsNames(dds)"
   ]
  },
  {
   "cell_type": "code",
   "execution_count": null,
   "metadata": {},
   "outputs": [],
   "source": [
    "# saveRDS(dds,'dds.rds.gz',compress='gzip')"
   ]
  },
  {
   "cell_type": "code",
   "execution_count": null,
   "metadata": {},
   "outputs": [],
   "source": [
    "# dds_ind <- DESeqDataSetFromTximport(txi.gene, colData, ~0+cond + time)\n",
    "\n",
    "# dds_ind$time <- relevel(dds_ind$time, ref=\"6h\")\n",
    "# dds_ind$cond <- relevel(dds_ind$cond, ref=\"DMSO\")\n",
    "\n",
    "\n",
    "# dds_ind <- DESeq(dds_ind, test=\"LRT\", reduced=~1) #, parallel=TRUE)\n",
    "\n",
    "# resultsNames(dds_ind)\n",
    "\n",
    "# # no interaction\n",
    "# res.ind = results(dds_ind,contrast=list(\"condDMSO\",\"condDecitabine\"),listValues=c(1,-1)) %>% ann_Result"
   ]
  },
  {
   "cell_type": "code",
   "execution_count": 50,
   "metadata": {},
   "outputs": [],
   "source": [
    "# contrast design: treatment at 6h vs dmso at 6h\n",
    "res.6h  = results(dds, contrast=list(\"condDecitabine\",\"condDMSO\"),listValues=c(1,-1)) #%>% ann_Result\n",
    "\n",
    "# contrast design: treatment at 72h vs dmso at 72h\n",
    "res.72h = results(dds, contrast=list(c('condDecitabine', 'condDecitabine.time72h'),c('condDMSO')),listValues=c(1,-1)) #%>% ann_Result\n",
    "\n",
    "# contrast design: treatment at 120h vs dmso at 120h\n",
    "res.120h = results(dds, contrast=list(c('condDecitabine', 'condDecitabine.time120h'),c('condDMSO')),listValues=c(1,-1)) #%>% ann_Result"
   ]
  },
  {
   "cell_type": "code",
   "execution_count": 51,
   "metadata": {},
   "outputs": [
    {
     "data": {
      "text/html": [
       "<style>\n",
       ".list-inline {list-style: none; margin:0; padding: 0}\n",
       ".list-inline>li {display: inline-block}\n",
       ".list-inline>li:not(:last-child)::after {content: \"\\00b7\"; padding: 0 .5ex}\n",
       "</style>\n",
       "<ol class=list-inline><li>0.78319729471317</li><li>&lt;NA&gt;</li><li>0.76224229315798</li><li>0.986747428647282</li><li>&lt;NA&gt;</li><li>&lt;NA&gt;</li></ol>\n"
      ],
      "text/latex": [
       "\\begin{enumerate*}\n",
       "\\item 0.78319729471317\n",
       "\\item <NA>\n",
       "\\item 0.76224229315798\n",
       "\\item 0.986747428647282\n",
       "\\item <NA>\n",
       "\\item <NA>\n",
       "\\end{enumerate*}\n"
      ],
      "text/markdown": [
       "1. 0.78319729471317\n",
       "2. &lt;NA&gt;\n",
       "3. 0.76224229315798\n",
       "4. 0.986747428647282\n",
       "5. &lt;NA&gt;\n",
       "6. &lt;NA&gt;\n",
       "\n",
       "\n"
      ],
      "text/plain": [
       "[1] 0.7831973        NA 0.7622423 0.9867474        NA        NA"
      ]
     },
     "metadata": {},
     "output_type": "display_data"
    }
   ],
   "source": [
    "res.6h$pvalue %>% head "
   ]
  },
  {
   "cell_type": "code",
   "execution_count": 52,
   "metadata": {},
   "outputs": [
    {
     "data": {
      "text/html": [
       "<style>\n",
       ".list-inline {list-style: none; margin:0; padding: 0}\n",
       ".list-inline>li {display: inline-block}\n",
       ".list-inline>li:not(:last-child)::after {content: \"\\00b7\"; padding: 0 .5ex}\n",
       "</style>\n",
       "<ol class=list-inline><li>0.78319729471317</li><li>&lt;NA&gt;</li><li>0.76224229315798</li><li>0.986747428647282</li><li>&lt;NA&gt;</li><li>&lt;NA&gt;</li></ol>\n"
      ],
      "text/latex": [
       "\\begin{enumerate*}\n",
       "\\item 0.78319729471317\n",
       "\\item <NA>\n",
       "\\item 0.76224229315798\n",
       "\\item 0.986747428647282\n",
       "\\item <NA>\n",
       "\\item <NA>\n",
       "\\end{enumerate*}\n"
      ],
      "text/markdown": [
       "1. 0.78319729471317\n",
       "2. &lt;NA&gt;\n",
       "3. 0.76224229315798\n",
       "4. 0.986747428647282\n",
       "5. &lt;NA&gt;\n",
       "6. &lt;NA&gt;\n",
       "\n",
       "\n"
      ],
      "text/plain": [
       "[1] 0.7831973        NA 0.7622423 0.9867474        NA        NA"
      ]
     },
     "metadata": {},
     "output_type": "display_data"
    }
   ],
   "source": [
    "res.72h$pvalue %>% head "
   ]
  },
  {
   "cell_type": "code",
   "execution_count": 39,
   "metadata": {},
   "outputs": [],
   "source": [
    "# %%R \n",
    "# # meta \n",
    "# colData.T <- data.frame(\n",
    "#     time=c(rep(120,4),rep(6,4),rep(72,4)), \n",
    "#     cond=rep(c(rep('DMSO',2), rep('Decitabine',2)),3), \n",
    "#     time_cond=paste(hours,treats,sep='_'), \n",
    "#     sample_id=colnames(txi$abundance),\n",
    "#     row.names=colnames(txi$abundance))\n",
    "\n",
    "# dds.T <- DESeqDataSetFromTximport(txi.gene, colData.T, ~cond + time + cond:time)\n",
    "# dds.T <- DESeq(dds.T, test=\"LRT\", reduced=~1, parallel=TRUE)"
   ]
  },
  {
   "cell_type": "code",
   "execution_count": 40,
   "metadata": {},
   "outputs": [],
   "source": [
    "# %%R\n",
    "# resultsNames(dds.T)"
   ]
  },
  {
   "cell_type": "code",
   "execution_count": 41,
   "metadata": {},
   "outputs": [],
   "source": [
    "# %%R\n",
    "# res_cnt_time_T_vs_U = results(dds.T, name='cond_Decitabine_vs_DMSO', parallel=T) %>% \n",
    "#     data.frame %>% add_column(name = gene2name[rownames(dds.T),]) %>%\n",
    "#     add_column(ensembl = rownames(dds.T) %>% substr(0, 15))\n",
    "\n",
    "# p1 = plot_Volcano(res_cnt_time_T_vs_U, 0.1, title='Time as continuous variable: Treated vs DMSO', \n",
    "#                   x_min=-2,x_max=2)"
   ]
  },
  {
   "cell_type": "code",
   "execution_count": 42,
   "metadata": {},
   "outputs": [],
   "source": [
    "# %%R\n",
    "# res_cnt_time = results(dds.T, name='condDecitabine.time', parallel=T) %>% \n",
    "#     data.frame %>% add_column(name = gene2name[rownames(dds.T),]) %>%\n",
    "#     add_column(ensembl = rownames(dds.T) %>% substr(0, 15))\n",
    "\n",
    "# p2 = plot_Volcano(res_cnt_time, 0.01, title='Time as continuous variable: Condition and time interaction', \n",
    "#                   x_min=-0.1,x_max=0.1)"
   ]
  },
  {
   "cell_type": "code",
   "execution_count": 43,
   "metadata": {},
   "outputs": [],
   "source": [
    "# %%R\n",
    "# df = data.frame(\n",
    "#     'gene_id'=rownames(res_cnt_time_T_vs_U), 'gene_name'= res_cnt_time_T_vs_U$name,\n",
    "#     'baseMean' = res_cnt_time$baseMean,\n",
    "#     'log2FC_time' = res_cnt_time$log2FoldChange,'log2FC_time'= res_cnt_time$pval,\n",
    "#     'log2FC_T_vs_U' = res_cnt_time_T_vs_U$log2FoldChange,'pval_T_vs_U'= res_cnt_time_T_vs_U$pval\n",
    "# )    \n",
    "# df = df[order(df$log2FC_time),]\n",
    "\n",
    "# write_Result(df, 'results_time_continuous.txt', col=TRUE)"
   ]
  },
  {
   "cell_type": "code",
   "execution_count": 44,
   "metadata": {},
   "outputs": [],
   "source": [
    "# %%R\n",
    "# plot_Save(p1 / p2, 'Volcano_time_continuous')\n",
    "# p1 / p2"
   ]
  },
  {
   "cell_type": "markdown",
   "metadata": {
    "tags": []
   },
   "source": [
    "#### 72 hour only comparison "
   ]
  },
  {
   "cell_type": "code",
   "execution_count": 37,
   "metadata": {},
   "outputs": [],
   "source": [
    "# txi_hl60_72h <- tximport(\n",
    "#     files[grep(\"hl60_72h\", files, fixed=T)], \n",
    "#     type = \"salmon\", tx2gene = tx2gene, txOut=TRUE\n",
    "# )\n",
    "\n",
    "# # txi_hl60_72h.gene <- summarizeToGene(txi_hl60_72h, tx2gene, ignoreAfterBar= TRUE)"
   ]
  },
  {
   "cell_type": "markdown",
   "metadata": {},
   "source": [
    "Define the sample sheet"
   ]
  },
  {
   "cell_type": "code",
   "execution_count": 38,
   "metadata": {},
   "outputs": [],
   "source": [
    "# dds72h <- DESeqDataSetFromTximport(txi_hl60_72h.gene, colData[colData$time == '72h' & colData$line =='hl60',], ~cond)\n",
    "\n",
    "# dds72h <- DESeq(dds72h)"
   ]
  },
  {
   "cell_type": "code",
   "execution_count": 39,
   "metadata": {},
   "outputs": [],
   "source": [
    "# res.72h.only <- results(dds72h,name='cond_Decitabine_vs_DMSO') %>% \n",
    "# data.frame %>% ann_Result"
   ]
  },
  {
   "cell_type": "code",
   "execution_count": 40,
   "metadata": {},
   "outputs": [],
   "source": [
    "# plot_Volcano(res.72h.only,labels=10)"
   ]
  },
  {
   "cell_type": "markdown",
   "metadata": {
    "tags": []
   },
   "source": [
    "### Save results into a list"
   ]
  },
  {
   "cell_type": "code",
   "execution_count": 53,
   "metadata": {},
   "outputs": [],
   "source": [
    "RES = list(res.6h,res.72h,res.120h) #res.72h.only,\n",
    "names(RES) <- c('hl60_6h','hl60_72h','hl60_120h') #'hl60_72h_only',"
   ]
  },
  {
   "cell_type": "markdown",
   "metadata": {
    "tags": []
   },
   "source": [
    "___\n",
    "## Decitabine treatment RNA-Seq experiments in 5 other AML cell lines "
   ]
  },
  {
   "cell_type": "markdown",
   "metadata": {},
   "source": [
    "Here, I'll run basic DESeq2 analysis "
   ]
  },
  {
   "cell_type": "markdown",
   "metadata": {
    "tags": []
   },
   "source": [
    "### Load count data and meta table "
   ]
  },
  {
   "cell_type": "markdown",
   "metadata": {},
   "source": [
    "Import salmon quants"
   ]
  },
  {
   "cell_type": "code",
   "execution_count": 54,
   "metadata": {},
   "outputs": [
    {
     "name": "stderr",
     "output_type": "stream",
     "text": [
      "reading in files with read_tsv\n",
      "\n",
      "1 \n",
      "2 \n",
      "3 \n",
      "4 \n",
      "5 \n",
      "6 \n",
      "7 \n",
      "8 \n",
      "9 \n",
      "10 \n",
      "11 \n",
      "12 \n",
      "13 \n",
      "14 \n",
      "15 \n",
      "16 \n",
      "17 \n",
      "18 \n",
      "19 \n",
      "20 \n",
      "21 \n",
      "22 \n",
      "23 \n",
      "24 \n",
      "25 \n",
      "26 \n",
      "27 \n",
      "28 \n",
      "29 \n",
      "30 \n",
      "\n",
      "\n"
     ]
    }
   ],
   "source": [
    "txi_other <- tximport(\n",
    "    files[grep(\"hl60\", files, fixed=T,invert=TRUE)],\n",
    "    type = \"salmon\", tx2gene = tx2gene, txOut=TRUE\n",
    ")\n",
    "\n",
    "# txi_other.gene <- summarizeToGene(txi_other, tx2gene, ignoreAfterBar= TRUE)"
   ]
  },
  {
   "cell_type": "markdown",
   "metadata": {
    "tags": []
   },
   "source": [
    "### Differential expression analysis\n"
   ]
  },
  {
   "cell_type": "markdown",
   "metadata": {},
   "source": [
    "Get results"
   ]
  },
  {
   "cell_type": "code",
   "execution_count": 55,
   "metadata": {},
   "outputs": [
    {
     "name": "stdout",
     "output_type": "stream",
     "text": [
      "[1] \"kg1\"\n"
     ]
    },
    {
     "name": "stderr",
     "output_type": "stream",
     "text": [
      "using counts and average transcript lengths from tximport\n",
      "\n",
      "estimating size factors\n",
      "\n",
      "using 'avgTxLength' from assays(dds), correcting for library size\n",
      "\n",
      "estimating dispersions\n",
      "\n",
      "gene-wise dispersion estimates\n",
      "\n",
      "mean-dispersion relationship\n",
      "\n",
      "final dispersion estimates\n",
      "\n",
      "fitting model and testing\n",
      "\n"
     ]
    },
    {
     "name": "stdout",
     "output_type": "stream",
     "text": [
      "[1] \"molm14\"\n"
     ]
    },
    {
     "name": "stderr",
     "output_type": "stream",
     "text": [
      "using counts and average transcript lengths from tximport\n",
      "\n",
      "estimating size factors\n",
      "\n",
      "using 'avgTxLength' from assays(dds), correcting for library size\n",
      "\n",
      "estimating dispersions\n",
      "\n",
      "gene-wise dispersion estimates\n",
      "\n",
      "mean-dispersion relationship\n",
      "\n",
      "final dispersion estimates\n",
      "\n",
      "fitting model and testing\n",
      "\n"
     ]
    },
    {
     "name": "stdout",
     "output_type": "stream",
     "text": [
      "[1] \"ociaml2\"\n"
     ]
    },
    {
     "name": "stderr",
     "output_type": "stream",
     "text": [
      "using counts and average transcript lengths from tximport\n",
      "\n",
      "estimating size factors\n",
      "\n",
      "using 'avgTxLength' from assays(dds), correcting for library size\n",
      "\n",
      "estimating dispersions\n",
      "\n",
      "gene-wise dispersion estimates\n",
      "\n",
      "mean-dispersion relationship\n",
      "\n",
      "-- note: fitType='parametric', but the dispersion trend was not well captured by the\n",
      "   function: y = a/x + b, and a local regression fit was automatically substituted.\n",
      "   specify fitType='local' or 'mean' to avoid this message next time.\n",
      "\n",
      "final dispersion estimates\n",
      "\n",
      "fitting model and testing\n",
      "\n"
     ]
    },
    {
     "name": "stdout",
     "output_type": "stream",
     "text": [
      "[1] \"ociaml3\"\n"
     ]
    },
    {
     "name": "stderr",
     "output_type": "stream",
     "text": [
      "using counts and average transcript lengths from tximport\n",
      "\n",
      "estimating size factors\n",
      "\n",
      "using 'avgTxLength' from assays(dds), correcting for library size\n",
      "\n",
      "estimating dispersions\n",
      "\n",
      "gene-wise dispersion estimates\n",
      "\n",
      "mean-dispersion relationship\n",
      "\n",
      "final dispersion estimates\n",
      "\n",
      "fitting model and testing\n",
      "\n"
     ]
    },
    {
     "name": "stdout",
     "output_type": "stream",
     "text": [
      "[1] \"thp1\"\n"
     ]
    },
    {
     "name": "stderr",
     "output_type": "stream",
     "text": [
      "using counts and average transcript lengths from tximport\n",
      "\n",
      "estimating size factors\n",
      "\n",
      "using 'avgTxLength' from assays(dds), correcting for library size\n",
      "\n",
      "estimating dispersions\n",
      "\n",
      "gene-wise dispersion estimates\n",
      "\n",
      "mean-dispersion relationship\n",
      "\n",
      "-- note: fitType='parametric', but the dispersion trend was not well captured by the\n",
      "   function: y = a/x + b, and a local regression fit was automatically substituted.\n",
      "   specify fitType='local' or 'mean' to avoid this message next time.\n",
      "\n",
      "final dispersion estimates\n",
      "\n",
      "fitting model and testing\n",
      "\n"
     ]
    }
   ],
   "source": [
    "DDS2 = list()\n",
    "\n",
    "# for loop to split DESeq object for more stable analysis  \n",
    "for (l in unique(colData$line) ){\n",
    "    if (l != 'hl60'){\n",
    "        print (l)\n",
    "        k = colData$line == l\n",
    "        # cell lines with BatchEffect \n",
    "        if (l %in% c('thp1','ociaml2') ){\n",
    "            # dds object for each cell line \n",
    "            dds_tmp1 <- DESeqDataSetFromTximport(txi, colData, ~cond + reps)[,c(k)]\n",
    "            DDS2[[l]]<- DESeq(dds_tmp1) #, parallel=TRUE)\n",
    "            # rm(dds_tmp1)\n",
    "        } \n",
    "        else {\n",
    "            dds_tmp2 <- DESeqDataSetFromTximport(txi, colData, ~cond)\n",
    "            dds_tmp2 <- dds_tmp2[,c(k)] # subset samples from dds object https://www.biostars.org/p/442188/\n",
    "            DDS2[[l]]<- DESeq(dds_tmp2) #, parallel=TRUE)\n",
    "            # rm(dds_tmp2)\n",
    "        }\n",
    "        # get results \n",
    "        res = results(\n",
    "            DDS2[[l]], \n",
    "            contrast=c('cond','Decitabine','DMSO'),\n",
    "            parallel=TRUE\n",
    "        )\n",
    "\n",
    "        RES[[l]] = res \n",
    "    }\n",
    "}"
   ]
  },
  {
   "cell_type": "markdown",
   "metadata": {
    "tags": []
   },
   "source": [
    "#### Check direction"
   ]
  },
  {
   "cell_type": "code",
   "execution_count": 69,
   "metadata": {},
   "outputs": [
    {
     "data": {
      "text/html": [
       "<table class=\"dataframe\">\n",
       "<caption>A data.frame: 11 × 6</caption>\n",
       "<thead>\n",
       "\t<tr><th></th><th scope=col>baseMean</th><th scope=col>log2FoldChange</th><th scope=col>lfcSE</th><th scope=col>stat</th><th scope=col>pvalue</th><th scope=col>padj</th></tr>\n",
       "\t<tr><th></th><th scope=col>&lt;dbl&gt;</th><th scope=col>&lt;dbl&gt;</th><th scope=col>&lt;dbl&gt;</th><th scope=col>&lt;dbl&gt;</th><th scope=col>&lt;dbl&gt;</th><th scope=col>&lt;dbl&gt;</th></tr>\n",
       "</thead>\n",
       "<tbody>\n",
       "\t<tr><th scope=row>DAC.301.1-x1-0</th><td> 48.389314</td><td>8.842542</td><td>3.3547184</td><td> 15.30205</td><td> 9.146758e-03</td><td> 5.055135e-02</td></tr>\n",
       "\t<tr><th scope=row>DAC.46.1-x1-0</th><td>129.394763</td><td>6.601420</td><td>0.6256908</td><td>661.31642</td><td>1.133356e-140</td><td>1.149023e-137</td></tr>\n",
       "\t<tr><th scope=row>DAC.53.1-x1-0</th><td> 29.670742</td><td>4.115001</td><td>0.8981334</td><td> 64.36373</td><td> 1.518640e-12</td><td> 4.380546e-11</td></tr>\n",
       "\t<tr><th scope=row>DAC.167.1-x1-0</th><td>  8.914724</td><td>4.038327</td><td>1.3685268</td><td> 35.95576</td><td> 9.693631e-07</td><td> 1.400417e-05</td></tr>\n",
       "\t<tr><th scope=row>DAC.251.1-x1-0</th><td> 25.172674</td><td>3.838740</td><td>0.7233731</td><td> 87.69663</td><td> 2.046357e-17</td><td> 8.591709e-16</td></tr>\n",
       "\t<tr><th scope=row>DAC.18.1-x1-0</th><td>  7.557875</td><td>3.710527</td><td>1.2490586</td><td> 20.59620</td><td> 9.653932e-04</td><td> 7.535576e-03</td></tr>\n",
       "\t<tr><th scope=row>DAC.147.1-x1-0</th><td> 38.879488</td><td>3.563371</td><td>0.7515217</td><td>109.37933</td><td> 5.541886e-22</td><td> 3.126495e-20</td></tr>\n",
       "\t<tr><th scope=row>DAC.140.1-x1-0</th><td>  5.835790</td><td>3.490568</td><td>1.6939430</td><td> 15.71584</td><td> 7.703975e-03</td><td> 4.392260e-02</td></tr>\n",
       "\t<tr><th scope=row>DAC.310.1-x1-0</th><td> 44.571073</td><td>2.782715</td><td>0.4219888</td><td>140.21370</td><td> 1.611555e-28</td><td> 1.313246e-26</td></tr>\n",
       "\t<tr><th scope=row>DAC.85.2-x1-0</th><td> 42.735128</td><td>2.569430</td><td>0.7884329</td><td> 43.35470</td><td> 3.131205e-08</td><td> 5.627353e-07</td></tr>\n",
       "\t<tr><th scope=row>DAC.281.1-x1-0</th><td>  8.957892</td><td>2.189940</td><td>1.2630609</td><td> 22.14740</td><td> 4.908700e-04</td><td> 4.125971e-03</td></tr>\n",
       "</tbody>\n",
       "</table>\n"
      ],
      "text/latex": [
       "A data.frame: 11 × 6\n",
       "\\begin{tabular}{r|llllll}\n",
       "  & baseMean & log2FoldChange & lfcSE & stat & pvalue & padj\\\\\n",
       "  & <dbl> & <dbl> & <dbl> & <dbl> & <dbl> & <dbl>\\\\\n",
       "\\hline\n",
       "\tDAC.301.1-x1-0 &  48.389314 & 8.842542 & 3.3547184 &  15.30205 &  9.146758e-03 &  5.055135e-02\\\\\n",
       "\tDAC.46.1-x1-0 & 129.394763 & 6.601420 & 0.6256908 & 661.31642 & 1.133356e-140 & 1.149023e-137\\\\\n",
       "\tDAC.53.1-x1-0 &  29.670742 & 4.115001 & 0.8981334 &  64.36373 &  1.518640e-12 &  4.380546e-11\\\\\n",
       "\tDAC.167.1-x1-0 &   8.914724 & 4.038327 & 1.3685268 &  35.95576 &  9.693631e-07 &  1.400417e-05\\\\\n",
       "\tDAC.251.1-x1-0 &  25.172674 & 3.838740 & 0.7233731 &  87.69663 &  2.046357e-17 &  8.591709e-16\\\\\n",
       "\tDAC.18.1-x1-0 &   7.557875 & 3.710527 & 1.2490586 &  20.59620 &  9.653932e-04 &  7.535576e-03\\\\\n",
       "\tDAC.147.1-x1-0 &  38.879488 & 3.563371 & 0.7515217 & 109.37933 &  5.541886e-22 &  3.126495e-20\\\\\n",
       "\tDAC.140.1-x1-0 &   5.835790 & 3.490568 & 1.6939430 &  15.71584 &  7.703975e-03 &  4.392260e-02\\\\\n",
       "\tDAC.310.1-x1-0 &  44.571073 & 2.782715 & 0.4219888 & 140.21370 &  1.611555e-28 &  1.313246e-26\\\\\n",
       "\tDAC.85.2-x1-0 &  42.735128 & 2.569430 & 0.7884329 &  43.35470 &  3.131205e-08 &  5.627353e-07\\\\\n",
       "\tDAC.281.1-x1-0 &   8.957892 & 2.189940 & 1.2630609 &  22.14740 &  4.908700e-04 &  4.125971e-03\\\\\n",
       "\\end{tabular}\n"
      ],
      "text/markdown": [
       "\n",
       "A data.frame: 11 × 6\n",
       "\n",
       "| <!--/--> | baseMean &lt;dbl&gt; | log2FoldChange &lt;dbl&gt; | lfcSE &lt;dbl&gt; | stat &lt;dbl&gt; | pvalue &lt;dbl&gt; | padj &lt;dbl&gt; |\n",
       "|---|---|---|---|---|---|---|\n",
       "| DAC.301.1-x1-0 |  48.389314 | 8.842542 | 3.3547184 |  15.30205 |  9.146758e-03 |  5.055135e-02 |\n",
       "| DAC.46.1-x1-0 | 129.394763 | 6.601420 | 0.6256908 | 661.31642 | 1.133356e-140 | 1.149023e-137 |\n",
       "| DAC.53.1-x1-0 |  29.670742 | 4.115001 | 0.8981334 |  64.36373 |  1.518640e-12 |  4.380546e-11 |\n",
       "| DAC.167.1-x1-0 |   8.914724 | 4.038327 | 1.3685268 |  35.95576 |  9.693631e-07 |  1.400417e-05 |\n",
       "| DAC.251.1-x1-0 |  25.172674 | 3.838740 | 0.7233731 |  87.69663 |  2.046357e-17 |  8.591709e-16 |\n",
       "| DAC.18.1-x1-0 |   7.557875 | 3.710527 | 1.2490586 |  20.59620 |  9.653932e-04 |  7.535576e-03 |\n",
       "| DAC.147.1-x1-0 |  38.879488 | 3.563371 | 0.7515217 | 109.37933 |  5.541886e-22 |  3.126495e-20 |\n",
       "| DAC.140.1-x1-0 |   5.835790 | 3.490568 | 1.6939430 |  15.71584 |  7.703975e-03 |  4.392260e-02 |\n",
       "| DAC.310.1-x1-0 |  44.571073 | 2.782715 | 0.4219888 | 140.21370 |  1.611555e-28 |  1.313246e-26 |\n",
       "| DAC.85.2-x1-0 |  42.735128 | 2.569430 | 0.7884329 |  43.35470 |  3.131205e-08 |  5.627353e-07 |\n",
       "| DAC.281.1-x1-0 |   8.957892 | 2.189940 | 1.2630609 |  22.14740 |  4.908700e-04 |  4.125971e-03 |\n",
       "\n"
      ],
      "text/plain": [
       "               baseMean   log2FoldChange lfcSE     stat      pvalue       \n",
       "DAC.301.1-x1-0  48.389314 8.842542       3.3547184  15.30205  9.146758e-03\n",
       "DAC.46.1-x1-0  129.394763 6.601420       0.6256908 661.31642 1.133356e-140\n",
       "DAC.53.1-x1-0   29.670742 4.115001       0.8981334  64.36373  1.518640e-12\n",
       "DAC.167.1-x1-0   8.914724 4.038327       1.3685268  35.95576  9.693631e-07\n",
       "DAC.251.1-x1-0  25.172674 3.838740       0.7233731  87.69663  2.046357e-17\n",
       "DAC.18.1-x1-0    7.557875 3.710527       1.2490586  20.59620  9.653932e-04\n",
       "DAC.147.1-x1-0  38.879488 3.563371       0.7515217 109.37933  5.541886e-22\n",
       "DAC.140.1-x1-0   5.835790 3.490568       1.6939430  15.71584  7.703975e-03\n",
       "DAC.310.1-x1-0  44.571073 2.782715       0.4219888 140.21370  1.611555e-28\n",
       "DAC.85.2-x1-0   42.735128 2.569430       0.7884329  43.35470  3.131205e-08\n",
       "DAC.281.1-x1-0   8.957892 2.189940       1.2630609  22.14740  4.908700e-04\n",
       "               padj         \n",
       "DAC.301.1-x1-0  5.055135e-02\n",
       "DAC.46.1-x1-0  1.149023e-137\n",
       "DAC.53.1-x1-0   4.380546e-11\n",
       "DAC.167.1-x1-0  1.400417e-05\n",
       "DAC.251.1-x1-0  8.591709e-16\n",
       "DAC.18.1-x1-0   7.535576e-03\n",
       "DAC.147.1-x1-0  3.126495e-20\n",
       "DAC.140.1-x1-0  4.392260e-02\n",
       "DAC.310.1-x1-0  1.313246e-26\n",
       "DAC.85.2-x1-0   5.627353e-07\n",
       "DAC.281.1-x1-0  4.125971e-03"
      ]
     },
     "metadata": {},
     "output_type": "display_data"
    }
   ],
   "source": [
    "RES[['hl60_120h']][DAC_tx2gene$TXNAME,] %>% data.frame %>% arrange(desc(abs(log2FoldChange))) %>% filter(pvalue < 0.01 & log2FoldChange > 2)"
   ]
  },
  {
   "cell_type": "code",
   "execution_count": 78,
   "metadata": {},
   "outputs": [
    {
     "name": "stderr",
     "output_type": "stream",
     "text": [
      "geom_path: Each group consists of only one observation. Do you need to adjust\n",
      "the group aesthetic?\n",
      "\n"
     ]
    },
    {
     "data": {
      "image/png": "[encoded data removed]",
      "text/plain": [
       "plot without title"
      ]
     },
     "metadata": {
      "image/png": {
       "height": 420,
       "width": 420
      }
     },
     "output_type": "display_data"
    }
   ],
   "source": [
    "gene_id = 'DAC.301.1-x1-0'\n",
    "\n",
    "fiss <- plotCounts(dds, gene_id, intgroup = c('cond','time'), returnData = TRUE)\n",
    "\n",
    "p <- ggplot(fiss,\n",
    "  aes(x = time, y = count, color = cond)) + \n",
    "  geom_point(size=5,alpha=8/10) + stat_summary(fun=mean, geom=\"line\") +\n",
    "  scale_y_log10() + \n",
    "  theme_bw() + \n",
    "  ggtitle(gene_id)\n",
    "\n",
    "return (p + theme_Publication())"
   ]
  },
  {
   "cell_type": "markdown",
   "metadata": {
    "tags": []
   },
   "source": [
    "## Merge all fold change data "
   ]
  },
  {
   "cell_type": "code",
   "execution_count": 96,
   "metadata": {},
   "outputs": [
    {
     "name": "stdout",
     "output_type": "stream",
     "text": [
      "[1] \"hl60_6h\"\n",
      "[1] \"hl60_72h\"\n",
      "[1] \"hl60_120h\"\n",
      "[1] \"kg1\"\n",
      "[1] \"molm14\"\n",
      "[1] \"ociaml2\"\n",
      "[1] \"ociaml3\"\n",
      "[1] \"thp1\"\n"
     ]
    }
   ],
   "source": [
    "result_table = data.frame(\n",
    "    gene_id=rownames(dds0)\n",
    ")\n",
    "\n",
    "for (name in names(RES)){\n",
    "    print (name)\n",
    "    \n",
    "    df = RES[[name]] %>% data.frame %>% select(c('log2FoldChange','pvalue')) \n",
    "    \n",
    "    colnames(df) <- c(paste0(name,\"_log2FC\"),paste0(name,\"_pvalue\"))\n",
    "    cbind(result_table,df%>% remove_rownames) -> result_table\n",
    "}\n",
    "result_table %>% column_to_rownames('gene_id') -> result_table"
   ]
  },
  {
   "cell_type": "markdown",
   "metadata": {
    "tags": []
   },
   "source": [
    "## Plots"
   ]
  },
  {
   "cell_type": "markdown",
   "metadata": {
    "tags": []
   },
   "source": [
    "### Correlation matrix"
   ]
  },
  {
   "cell_type": "code",
   "execution_count": 99,
   "metadata": {},
   "outputs": [],
   "source": [
    "library(Hmisc)\n",
    "library(corrplot)\n",
    "library(pheatmap)\n",
    "library(ggcorrplot)"
   ]
  },
  {
   "cell_type": "code",
   "execution_count": 100,
   "metadata": {},
   "outputs": [],
   "source": [
    "all_fc <- result_table[DAC_tx2gene$TXNAME,] %>% select(ends_with(\"log2FC\")) \n",
    "colnames(all_fc) <- colnames(all_fc) %>% stringr::str_remove(pattern = \"_log2FC\") %>% unlist\n"
   ]
  },
  {
   "cell_type": "code",
   "execution_count": 101,
   "metadata": {},
   "outputs": [],
   "source": [
    "corr <- rcorr(\n",
    "    as.matrix(\n",
    "        all_fc %>% select('hl60_6h','hl60_72h','hl60_120h','kg1','molm14','ociaml2','ociaml3','thp1')\n",
    "    )\n",
    ")"
   ]
  },
  {
   "cell_type": "code",
   "execution_count": 110,
   "metadata": {},
   "outputs": [
    {
     "name": "stderr",
     "output_type": "stream",
     "text": [
      "Scale for 'fill' is already present. Adding another scale for 'fill', which\n",
      "will replace the existing scale.\n",
      "\n"
     ]
    },
    {
     "data": {
      "image/png": "[encoded data removed]",
      "text/plain": [
       "plot without title"
      ]
     },
     "metadata": {
      "image/png": {
       "height": 420,
       "width": 420
      }
     },
     "output_type": "display_data"
    }
   ],
   "source": [
    "colors=c(\"#386cb0\",\"white\",\"#fdb462\")\n",
    "ggcorrplot(\n",
    "    corr$r, \n",
    "    method = c(\"square\", \"circle\"),\n",
    "    hc.order = FALSE,\n",
    "    type = \"upper\", \n",
    "    p.mat = corr$p,\n",
    "    \n",
    ") + ggtitle(\n",
    "    \"TINAT Transcripts\\nDifferential RNA Expression\\nCorrelation matrix\"\n",
    ") + ggplot2::scale_fill_gradient2(\n",
    "    low = colors[1], high = colors[3], mid = colors[2], \n",
    "    midpoint = 0, limit = c(-0.4, 0.4), space = \"Lab\"\n",
    ") + theme(\n",
    "    plot.title = element_text(\n",
    "        # face = \"bold\",\n",
    "        size = rel(1.5), hjust = 0.5),\n",
    "    panel.background = element_blank(), \n",
    "    panel.border = element_blank(), \n",
    "    panel.grid.major = element_line(colour = \"white\"), \n",
    "    legend.title = element_blank(),\n",
    "    # legend.position=\"bottom\"\n",
    ")\n",
    "\n",
    "ggsave('tinat/logFC_corr.pdf',width = 4, height = 4)"
   ]
  },
  {
   "cell_type": "markdown",
   "metadata": {
    "tags": []
   },
   "source": [
    "### Volcano plots"
   ]
  },
  {
   "cell_type": "code",
   "execution_count": 111,
   "metadata": {},
   "outputs": [],
   "source": [
    "plot_Volcano <- function (res, lfc.cutoff, pval.cutoff, title, labels, x_min, x_max) {\n",
    "    \n",
    "    colors_values = c(\"grey80\", \"tan\")\n",
    "\n",
    "    vol <- res %>% ggplot(aes(x = log2FoldChange, y = -log10(pvalue))) + \n",
    "        geom_point(\n",
    "            data = res %>% filter(\n",
    "                abs(log2FoldChange) >= lfc.cutoff, \n",
    "                pvalue < pval.cutoff), \n",
    "            aes(x = log2FoldChange, y = -log10(pvalue)), \n",
    "            size = 3, alpha = 5/10, shape = 21, \n",
    "            color = colors_values[2],\n",
    "            fill = colors_values[2]) + \n",
    "\n",
    "        geom_point(\n",
    "            data = res %>% filter(\n",
    "                (abs(log2FoldChange) < lfc.cutoff) | \n",
    "                (pvalue >= pval.cutoff)), \n",
    "            aes(x = log2FoldChange, y = -log10(pvalue)), \n",
    "            size = 1, alpha = 5/10, shape = 21, color = colors_values[1], \n",
    "            fill = colors_values[1]) + \n",
    "\n",
    "        # geom_point(\n",
    "        #     data = res %>% filter(gene_name %in% labels),\n",
    "        #     aes(x = log2FoldChange, y = -log10(pvalue)), \n",
    "        #     shape = 21, size = 3, color = \"grey40\", fill = \"red3\") + \n",
    "        \n",
    "        geom_rug(\n",
    "            data = res %>% filter(\n",
    "                abs(log2FoldChange) >= lfc.cutoff, \n",
    "                pvalue < pval.cutoff), \n",
    "            sides = \"b\", colour='tan') + \n",
    "\n",
    "        # geom_label_repel(\n",
    "        #     data = res %>% filter(gene_name %in% labels), \n",
    "        #     aes(label = gene_name), box.padding = 1, max.overlaps = Inf) + \n",
    "\n",
    "        xlim(c(x_min, x_max)) + \n",
    "        # ylim(c(0, -log10(res %>% select(pvalue) %>% min ))) + \n",
    "        geom_hline(yintercept = -log10(pval.cutoff), linetype = \"dashed\", alpha = 5/10) + \n",
    "        geom_text(aes(\n",
    "            x_min*0.9,-log10(pval.cutoff),\n",
    "            label = paste(\"-~log[10]~(\",pval.cutoff,')',sep=''), \n",
    "            vjust = x_min*0.05\n",
    "        ),parse = TRUE) +\n",
    "\n",
    "        theme(\n",
    "            legend.position = \"none\"\n",
    "        ) + \n",
    "        ggtitle(title) + theme_Publication()\n",
    "\n",
    "    return(vol)\n",
    "}"
   ]
  },
  {
   "cell_type": "code",
   "execution_count": 112,
   "metadata": {},
   "outputs": [],
   "source": [
    "VOL = list()"
   ]
  },
  {
   "cell_type": "code",
   "execution_count": 113,
   "metadata": {},
   "outputs": [
    {
     "data": {
      "text/html": [
       "<style>\n",
       ".list-inline {list-style: none; margin:0; padding: 0}\n",
       ".list-inline>li {display: inline-block}\n",
       ".list-inline>li:not(:last-child)::after {content: \"\\00b7\"; padding: 0 .5ex}\n",
       "</style>\n",
       "<ol class=list-inline><li>'hl60_6h'</li><li>'hl60_72h'</li><li>'hl60_120h'</li><li>'kg1'</li><li>'molm14'</li><li>'ociaml2'</li><li>'ociaml3'</li><li>'thp1'</li></ol>\n"
      ],
      "text/latex": [
       "\\begin{enumerate*}\n",
       "\\item 'hl60\\_6h'\n",
       "\\item 'hl60\\_72h'\n",
       "\\item 'hl60\\_120h'\n",
       "\\item 'kg1'\n",
       "\\item 'molm14'\n",
       "\\item 'ociaml2'\n",
       "\\item 'ociaml3'\n",
       "\\item 'thp1'\n",
       "\\end{enumerate*}\n"
      ],
      "text/markdown": [
       "1. 'hl60_6h'\n",
       "2. 'hl60_72h'\n",
       "3. 'hl60_120h'\n",
       "4. 'kg1'\n",
       "5. 'molm14'\n",
       "6. 'ociaml2'\n",
       "7. 'ociaml3'\n",
       "8. 'thp1'\n",
       "\n",
       "\n"
      ],
      "text/plain": [
       "[1] \"hl60_6h\"   \"hl60_72h\"  \"hl60_120h\" \"kg1\"       \"molm14\"    \"ociaml2\"  \n",
       "[7] \"ociaml3\"   \"thp1\"     "
      ]
     },
     "metadata": {},
     "output_type": "display_data"
    }
   ],
   "source": [
    "names(RES)"
   ]
  },
  {
   "cell_type": "markdown",
   "metadata": {},
   "source": [
    "#### hl60 time series"
   ]
  },
  {
   "cell_type": "code",
   "execution_count": null,
   "metadata": {},
   "outputs": [],
   "source": [
    "# VOL[['hl60_6h']] = plot_Volcano(\n",
    "#     RES[['hl60_6h']][DAC_tx2gene$TXNAME,] %>% data.frame %>% drop_na(),\n",
    "#     lfc.cutoff  = 2, \n",
    "#     pval.cutoff = 0.05,\n",
    "#     title  = '6 hours treatment',\n",
    "#     x_min = -10, x_max = 10\n",
    "# )\n",
    "\n",
    "# VOL[['hl60_72h']] = plot_Volcano(\n",
    "#     RES[['hl60_72h']][DAC_tx2gene$TXNAME,] %>% data.frame %>% drop_na(),\n",
    "#     lfc.cutoff  = 2, \n",
    "#     pval.cutoff = 0.05,\n",
    "#     title  = '72 hours treatment', \n",
    "#     x_min = -10, x_max = 10\n",
    "# )\n",
    "\n",
    "# VOL[['hl60_120h']] <- plot_Volcano(\n",
    "#     RES[['hl60_120h']][DAC_tx2gene$TXNAME,] %>% data.frame %>% drop_na(),\n",
    "#     lfc.cutoff  = 2, \n",
    "#     pval.cutoff = 0.05,\n",
    "#     title  = '120 hours treatment', \n",
    "#     x_min = -5, x_max = 5\n",
    "# )\n",
    "\n",
    "# hl60_vol <- VOL[['hl60_6h']] / VOL[['hl60_72h']] / VOL[['hl60_120h']]\n",
    "\n",
    "# # Remove title from first subplot\n",
    "# hl60_vol[[1]] = hl60_vol[[1]] + theme(axis.text.x = element_blank(),\n",
    "#                                         axis.ticks.x = element_blank(),\n",
    "#                                         axis.title.x = element_blank() )\n",
    "\n",
    "# # Remove title from second subplot\n",
    "# hl60_vol[[2]] = hl60_vol[[2]] + theme(axis.text.x = element_blank(),\n",
    "#                                         axis.ticks.x = element_blank(),\n",
    "#                                         axis.title.x = element_blank() )"
   ]
  },
  {
   "cell_type": "code",
   "execution_count": null,
   "metadata": {},
   "outputs": [],
   "source": [
    "# hl60_vol"
   ]
  },
  {
   "cell_type": "code",
   "execution_count": null,
   "metadata": {},
   "outputs": [],
   "source": [
    "# VOL[['hl60_120h']]"
   ]
  },
  {
   "cell_type": "code",
   "execution_count": null,
   "metadata": {},
   "outputs": [],
   "source": [
    "# hl60_vol"
   ]
  },
  {
   "cell_type": "code",
   "execution_count": null,
   "metadata": {},
   "outputs": [],
   "source": [
    "# ggsave(\n",
    "#     'exp/plots/volcano_hl60.pdf', \n",
    "#     plot = hl60_vol, device = 'pdf', width = 8, height=15\n",
    "#     #, dpi = 300\n",
    "# )\n",
    "\n",
    "# ggsave(\n",
    "#     'exp/plots/volcano_hl60.png', \n",
    "#     plot = hl60_vol, device = 'png', width = 8, height=15, dpi = 300\n",
    "# )"
   ]
  },
  {
   "cell_type": "markdown",
   "metadata": {
    "tags": []
   },
   "source": [
    "### Clustering "
   ]
  },
  {
   "cell_type": "code",
   "execution_count": 128,
   "metadata": {},
   "outputs": [],
   "source": [
    "# mostVar <- function(data, n, i_want_most_var = TRUE) {\n",
    "#   data.var <- apply(data, 1, stats::var)\n",
    "#   data[order(data.var, decreasing = i_want_most_var)[1:n],] \n",
    "# }"
   ]
  },
  {
   "cell_type": "code",
   "execution_count": 129,
   "metadata": {},
   "outputs": [],
   "source": [
    "library(pheatmap)\n",
    "library(RColorBrewer)\n",
    "\n",
    "heat_colors <- brewer.pal(n = 6, name = \"RdYlBu\") %>% rev\n",
    "greens <- brewer.pal(n = 9, name = \"Greens\")"
   ]
  },
  {
   "cell_type": "markdown",
   "metadata": {
    "tags": []
   },
   "source": [
    "### Heatmap to show HL-60 time series clusters"
   ]
  },
  {
   "cell_type": "code",
   "execution_count": 130,
   "metadata": {},
   "outputs": [],
   "source": [
    "ann_colors = list(\n",
    "    cond = c('DMSO'=\"grey90\", 'Decitabine'=\"darkorchid\"),\n",
    "    time = c('120h'= greens[6], '72h'=greens[4], '6h'=greens[2])\n",
    ")"
   ]
  },
  {
   "cell_type": "code",
   "execution_count": 141,
   "metadata": {},
   "outputs": [],
   "source": [
    "    # select genes based on abs(log2FC) and pvalue\n",
    "\n",
    "# sub_res =  #%>%column_to_rownames('gene_id') \n",
    "#         # filter(\n",
    "#         #     (abs(hl60_72h_log2FC) > 2 & hl60_72h_pvalue  < 0.001)&\n",
    "#         #     (abs(hl60_120h_log2FC)> 2 & hl60_120h_pvalue < 0.001) \n",
    "#         # ) %>% \n",
    "\n",
    "# # %>% rownames\n",
    "# sub_res#[tins$GENEID,]"
   ]
  },
  {
   "cell_type": "code",
   "execution_count": 180,
   "metadata": {},
   "outputs": [
    {
     "data": {
      "text/html": [
       "<strong>png:</strong> 2"
      ],
      "text/latex": [
       "\\textbf{png:} 2"
      ],
      "text/markdown": [
       "**png:** 2"
      ],
      "text/plain": [
       "png \n",
       "  2 "
      ]
     },
     "metadata": {},
     "output_type": "display_data"
    },
    {
     "data": {
      "image/png": "[encoded data removed]",
      "text/plain": [
       "plot without title"
      ]
     },
     "metadata": {
      "image/png": {
       "height": 420,
       "width": 420
      }
     },
     "output_type": "display_data"
    }
   ],
   "source": [
    "ncu[\n",
    "    DAC_tx2gene$TXNAME\n",
    "    ,\n",
    "    # subset normalized counts\n",
    "    colData[colData$line=='hl60',c('cond','time')] %>% arrange(time,cond) %>% rownames\n",
    "] %>% data.frame %>% filter(rowSums(., na.rm = TRUE) > 0)  %>%\n",
    "    # generate heatmap\n",
    "    pheatmap(\n",
    "        color = heat_colors, \n",
    "        show_colnames = F,\n",
    "        show_rownames = F,\n",
    "        cutree_rows = 4,\n",
    "        main = 'TINAT Transcripts\\nDifferential RNA Expression\\nHL-60 cell line',\n",
    "        annotation = colData[colData$line=='hl60',c('cond','time')],\n",
    "        cluster_cols = F, \n",
    "        scale = 'row',\n",
    "        angle_col= 45,\n",
    "        annotation_colors = ann_colors\n",
    ") -> hm_hl60\n",
    "\n",
    "# https://stackoverflow.com/questions/43051525/how-to-draw-pheatmap-plot-to-screen-and-also-save-to-file\n",
    "pdf('tinat/heatmap_clustering_hl60.pdf', width=4, height=7)\n",
    "grid::grid.newpage()\n",
    "grid::grid.draw(hm_hl60$gtable)\n",
    "dev.off()"
   ]
  },
  {
   "cell_type": "code",
   "execution_count": 192,
   "metadata": {},
   "outputs": [
    {
     "data": {
      "text/html": [
       "<strong>png:</strong> 2"
      ],
      "text/latex": [
       "\\textbf{png:} 2"
      ],
      "text/markdown": [
       "**png:** 2"
      ],
      "text/plain": [
       "png \n",
       "  2 "
      ]
     },
     "metadata": {},
     "output_type": "display_data"
    },
    {
     "data": {
      "image/png": "[encoded data removed]",
      "text/plain": [
       "plot without title"
      ]
     },
     "metadata": {
      "image/png": {
       "height": 420,
       "width": 420
      }
     },
     "output_type": "display_data"
    }
   ],
   "source": [
    "ncu[\n",
    "    DAC_tx2gene$TXNAME\n",
    "    ,\n",
    "    # subset normalized counts\n",
    "    colData %>% arrange(time,cond) %>% rownames\n",
    "] %>% data.frame %>% filter(rowSums(., na.rm = TRUE) > 0)  %>%\n",
    "    # generate heatmap\n",
    "    pheatmap(\n",
    "        color = heat_colors, \n",
    "        show_colnames = F,\n",
    "        show_rownames = F,\n",
    "        cutree_rows = 2,\n",
    "        main = 'TINAT Transcripts\\nDifferential RNA Expression\\nAML cell lines',\n",
    "        annotation = colData[,c('cond','time','line')],\n",
    "        cluster_cols = T, \n",
    "        scale = 'row',\n",
    "        angle_col= 45,\n",
    "        annotation_colors = ann_colors\n",
    ") -> hm_all\n",
    "\n",
    "# https://stackoverflow.com/questions/43051525/how-to-draw-pheatmap-plot-to-screen-and-also-save-to-file\n",
    "pdf('tinat/heatmap_clustering_all.pdf', width=5, height=6)\n",
    "grid::grid.newpage()\n",
    "grid::grid.draw(hm_all$gtable)\n",
    "dev.off()"
   ]
  },
  {
   "cell_type": "markdown",
   "metadata": {
    "tags": []
   },
   "source": [
    "## Save results "
   ]
  },
  {
   "cell_type": "code",
   "execution_count": 158,
   "metadata": {},
   "outputs": [],
   "source": [
    "# write all results into one file \n",
    "write.table(\n",
    "    result_table[DAC_tx2gene$TXNAME,],\n",
    "    'tinat/delta_exp_table.txt', quote = F, col.names=TRUE, row.names=TRUE,sep ='\\t'\n",
    ")"
   ]
  },
  {
   "cell_type": "markdown",
   "metadata": {
    "tags": []
   },
   "source": [
    "# Session Info"
   ]
  },
  {
   "cell_type": "code",
   "execution_count": 159,
   "metadata": {},
   "outputs": [
    {
     "data": {
      "text/plain": [
       "R version 4.1.1 (2021-08-10)\n",
       "Platform: x86_64-conda-linux-gnu (64-bit)\n",
       "Running under: CentOS Linux 7 (Core)\n",
       "\n",
       "Matrix products: default\n",
       "BLAS/LAPACK: /data_gilbert/home/aarab/anaconda3/envs/deseq2/lib/libopenblasp-r0.3.18.so\n",
       "\n",
       "locale:\n",
       " [1] LC_CTYPE=en_US.UTF-8       LC_NUMERIC=C              \n",
       " [3] LC_TIME=en_US.UTF-8        LC_COLLATE=en_US.UTF-8    \n",
       " [5] LC_MONETARY=en_US.UTF-8    LC_MESSAGES=en_US.UTF-8   \n",
       " [7] LC_PAPER=en_US.UTF-8       LC_NAME=C                 \n",
       " [9] LC_ADDRESS=C               LC_TELEPHONE=C            \n",
       "[11] LC_MEASUREMENT=en_US.UTF-8 LC_IDENTIFICATION=C       \n",
       "\n",
       "attached base packages:\n",
       "[1] grid      stats4    stats     graphics  grDevices utils     datasets \n",
       "[8] methods   base     \n",
       "\n",
       "other attached packages:\n",
       " [1] RColorBrewer_1.1-2          ggcorrplot_0.1.3           \n",
       " [3] pheatmap_1.0.12             corrplot_0.92              \n",
       " [5] Hmisc_4.6-0                 Formula_1.2-4              \n",
       " [7] survival_3.2-13             lattice_0.20-45            \n",
       " [9] ggthemes_4.2.4              scales_1.1.1               \n",
       "[11] gridExtra_2.3               BiocParallel_1.28.0        \n",
       "[13] patchwork_1.1.1             DESeq2_1.34.0              \n",
       "[15] SummarizedExperiment_1.24.0 MatrixGenerics_1.6.0       \n",
       "[17] matrixStats_0.61.0          ggrepel_0.9.1              \n",
       "[19] forcats_0.5.1               stringr_1.4.0              \n",
       "[21] dplyr_1.0.7                 purrr_0.3.4                \n",
       "[23] readr_2.0.2                 tidyr_1.1.4                \n",
       "[25] tibble_3.1.6                ggplot2_3.3.5              \n",
       "[27] tidyverse_1.3.1             tximport_1.22.0            \n",
       "[29] GenomicFeatures_1.46.1      AnnotationDbi_1.56.1       \n",
       "[31] Biobase_2.54.0              GenomicRanges_1.46.0       \n",
       "[33] GenomeInfoDb_1.30.0         IRanges_2.28.0             \n",
       "[35] S4Vectors_0.32.0            BiocGenerics_0.40.0        \n",
       "\n",
       "loaded via a namespace (and not attached):\n",
       "  [1] readxl_1.3.1             uuid_1.0-3               backports_1.3.0         \n",
       "  [4] BiocFileCache_2.2.0      plyr_1.8.6               repr_1.1.3              \n",
       "  [7] splines_4.1.1            digest_0.6.28            htmltools_0.5.2         \n",
       " [10] fansi_0.4.2              magrittr_2.0.1           checkmate_2.0.0         \n",
       " [13] memoise_2.0.0            cluster_2.1.2            tzdb_0.2.0              \n",
       " [16] Biostrings_2.62.0        annotate_1.72.0          modelr_0.1.8            \n",
       " [19] vroom_1.5.5              prettyunits_1.1.1        jpeg_0.1-9              \n",
       " [22] colorspace_2.0-2         blob_1.2.2               rvest_1.0.2             \n",
       " [25] rappdirs_0.3.3           haven_2.4.3              xfun_0.28               \n",
       " [28] crayon_1.4.2             RCurl_1.98-1.5           jsonlite_1.7.2          \n",
       " [31] genefilter_1.76.0        glue_1.5.0               gtable_0.3.0            \n",
       " [34] zlibbioc_1.40.0          XVector_0.34.0           DelayedArray_0.20.0     \n",
       " [37] DBI_1.1.1                Rcpp_1.0.7               xtable_1.8-4            \n",
       " [40] progress_1.2.2           htmlTable_2.3.0          foreign_0.8-81          \n",
       " [43] bit_4.0.4                htmlwidgets_1.5.4        httr_1.4.2              \n",
       " [46] ellipsis_0.3.2           pkgconfig_2.0.3          XML_3.99-0.8            \n",
       " [49] farver_2.1.0             nnet_7.3-16              dbplyr_2.1.1            \n",
       " [52] locfit_1.5-9.4           utf8_1.2.2               reshape2_1.4.4          \n",
       " [55] tidyselect_1.1.1         labeling_0.4.2           rlang_0.4.12            \n",
       " [58] munsell_0.5.0            cellranger_1.1.0         tools_4.1.1             \n",
       " [61] cachem_1.0.6             cli_3.1.0                generics_0.1.1          \n",
       " [64] RSQLite_2.2.8            broom_0.7.10             evaluate_0.14           \n",
       " [67] fastmap_1.1.0            yaml_2.2.1               knitr_1.35              \n",
       " [70] bit64_4.0.5              fs_1.5.0                 KEGGREST_1.34.0         \n",
       " [73] xml2_1.3.2               biomaRt_2.50.0           compiler_4.1.1          \n",
       " [76] rstudioapi_0.13          filelock_1.0.2           curl_4.3.2              \n",
       " [79] png_0.1-7                reprex_2.0.1             geneplotter_1.72.0      \n",
       " [82] stringi_1.7.5            IRdisplay_1.0            Matrix_1.3-4            \n",
       " [85] vctrs_0.3.8              pillar_1.6.4             lifecycle_1.0.1         \n",
       " [88] data.table_1.14.2        bitops_1.0-7             rtracklayer_1.54.0      \n",
       " [91] R6_2.5.1                 BiocIO_1.4.0             latticeExtra_0.6-29     \n",
       " [94] assertthat_0.2.1         rjson_0.2.20             withr_2.4.2             \n",
       " [97] GenomicAlignments_1.30.0 Rsamtools_2.10.0         GenomeInfoDbData_1.2.7  \n",
       "[100] parallel_4.1.1           hms_1.1.1                rpart_4.1-15            \n",
       "[103] IRkernel_1.2             pbdZMQ_0.3-6             lubridate_1.8.0         \n",
       "[106] base64enc_0.1-3          restfulr_0.0.13         "
      ]
     },
     "metadata": {},
     "output_type": "display_data"
    }
   ],
   "source": [
    "sessionInfo()"
   ]
  },
  {
   "cell_type": "code",
   "execution_count": 160,
   "metadata": {},
   "outputs": [
    {
     "data": {
      "text/html": [
       "'Tue Aug 30 21:22:45 2022'"
      ],
      "text/latex": [
       "'Tue Aug 30 21:22:45 2022'"
      ],
      "text/markdown": [
       "'Tue Aug 30 21:22:45 2022'"
      ],
      "text/plain": [
       "[1] \"Tue Aug 30 21:22:45 2022\""
      ]
     },
     "metadata": {},
     "output_type": "display_data"
    }
   ],
   "source": [
    "date()"
   ]
  }
 ],
 "metadata": {
  "kernelspec": {
   "display_name": "R [conda env:deseq2]",
   "language": "R",
   "name": "conda-env-deseq2-r"
  },
  "language_info": {
   "codemirror_mode": "r",
   "file_extension": ".r",
   "mimetype": "text/x-r-source",
   "name": "R",
   "pygments_lexer": "r",
   "version": "4.1.1"
  },
  "widgets": {
   "application/vnd.jupyter.widget-state+json": {
    "state": {},
    "version_major": 2,
    "version_minor": 0
   }
  }
 },
 "nbformat": 4,
 "nbformat_minor": 4
}
