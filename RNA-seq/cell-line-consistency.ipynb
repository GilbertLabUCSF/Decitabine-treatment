{
 "cells": [
  {
   "cell_type": "markdown",
   "metadata": {
    "tags": []
   },
   "source": [
    "# Compare cell lines "
   ]
  },
  {
   "cell_type": "markdown",
   "metadata": {},
   "source": [
    "Aim: Looking for genes that are hyper methylated and sensitized in HL60 cell line, and show decrease in RNA expression or stability among multiple AML cell lines. "
   ]
  },
  {
   "cell_type": "code",
   "execution_count": 1,
   "metadata": {},
   "outputs": [],
   "source": [
    "import sys \n",
    "import pandas as pd \n",
    "import numpy as np\n",
    "from matplotlib.pyplot import subplots\n",
    "from itertools import chain, product\n",
    "from matplotlib_venn import venn3,venn3_circles, venn3_unweighted\n",
    "from venn import venn \n",
    "\n",
    "import upsetplot as us\n",
    "from matplotlib.backends.backend_pdf import PdfPages\n",
    "\n",
    "sys.path.append('../')\n",
    "\n",
    "from util import *"
   ]
  },
  {
   "cell_type": "code",
   "execution_count": 6,
   "metadata": {},
   "outputs": [],
   "source": [
    "wd = '/data_gilbert/home/aarab/Projects/Decitabine-treatment/'"
   ]
  },
  {
   "cell_type": "markdown",
   "metadata": {},
   "source": [
    "## Load data\n",
    "Comparing treated with Decitabine vs. non-treated:\n",
    "- **$\\Delta$RNA methylation**  (hl60 cell line)\n",
    "- **$\\Delta$Translational efficiency** (hl60 cell line)\n",
    "- **$\\Delta$RNA expression** (For all 6 AML cell lines)\n",
    "- **$\\Delta$RNA stability** (For all 6 AML cell lines)\n",
    "- **$\\Delta$Phenotype, CRISPRi-screen $\\rho$(rho) score** (hl60 and molm13 cell lines) "
   ]
  },
  {
   "cell_type": "code",
   "execution_count": 7,
   "metadata": {},
   "outputs": [],
   "source": [
    "def upset_to_intersect(upset_data, extract):\n",
    "    ids = us.from_contents(upset_data).id.to_list()\n",
    "    df = us.from_contents(upset_data).index.to_frame().reset_index(drop=True)\n",
    "    df.index = ids\n",
    "    out = df[df[extract].sum(axis=1) == len(extract)].index.to_list()\n",
    "    return out"
   ]
  },
  {
   "cell_type": "code",
   "execution_count": 8,
   "metadata": {},
   "outputs": [],
   "source": [
    "comps = load_data(comparisons=True,wd=wd)"
   ]
  },
  {
   "cell_type": "code",
   "execution_count": 51,
   "metadata": {},
   "outputs": [
    {
     "name": "stdout",
     "output_type": "stream",
     "text": [
      "up:  592\n",
      "down: 701\n"
     ]
    }
   ],
   "source": [
    "scrns = load_data(screens=True,wd=wd)\n",
    "\n",
    "scrns['hl60_exp1_DAC_rho'] = scrns['hl60_exp1_DAC_rho'].astype(float)\n",
    "\n",
    "scrns['hl60_exp1_DAC_rho'].columns\n",
    "\n",
    "_,Ci_down = find_top(\n",
    "    scrns['hl60_exp1_DAC_rho'],'rho score', 0.1,'Mann-Whitney p-value',0.05\n",
    ")"
   ]
  },
  {
   "cell_type": "code",
   "execution_count": 52,
   "metadata": {},
   "outputs": [
    {
     "name": "stdout",
     "output_type": "stream",
     "text": [
      "up:  2064\n",
      "down: 1399\n"
     ]
    }
   ],
   "source": [
    "mtyl_up, _ = find_top(comps['delta_mtyl'],\"logFC\",1,\"pval\",0.05)"
   ]
  },
  {
   "cell_type": "markdown",
   "metadata": {
    "tags": []
   },
   "source": [
    "## Exp"
   ]
  },
  {
   "cell_type": "code",
   "execution_count": 55,
   "metadata": {},
   "outputs": [
    {
     "name": "stdout",
     "output_type": "stream",
     "text": [
      "hl60_6h\n",
      "____________________\n",
      "9\n",
      "hl60_72h\n",
      "____________________\n",
      "10\n",
      "hl60_72h_only\n",
      "____________________\n",
      "4\n",
      "hl60_120h\n",
      "____________________\n",
      "16\n",
      "kg1\n",
      "____________________\n",
      "4\n",
      "molm14\n",
      "____________________\n",
      "7\n",
      "ociaml2\n",
      "____________________\n",
      "1\n",
      "ociaml3\n",
      "____________________\n",
      "3\n",
      "thp1\n",
      "____________________\n",
      "2\n"
     ]
    }
   ],
   "source": [
    "cell_lines = {}\n",
    "\n",
    "for fc, pval in zip(comps['delta_exp'].columns[1::2],  comps['delta_exp'].columns[2::2]):\n",
    "    \n",
    "    print (fc.replace('_log2FC',''))\n",
    "    _,exp_down = find_top(comps['delta_exp'].dropna(),fc, 0.1, pval, 0.05,silent=True)\n",
    "    print (20*'_')\n",
    "    \n",
    "    cell_lines[fc.replace('_log2FC','')] = list(set(\n",
    "        exp_down.gene_name.tolist()).intersection(set(\n",
    "        Ci_down.index.tolist())).intersection(set(\n",
    "        mtyl_up.gene_name)))\n",
    "    print(len(cell_lines[fc.replace('_log2FC','')]))\n",
    "\n",
    "del cell_lines['hl60_72h_only']\n",
    "del cell_lines['hl60_6h']"
   ]
  },
  {
   "cell_type": "code",
   "execution_count": 56,
   "metadata": {},
   "outputs": [],
   "source": [
    "upset_data = dict([(c,cell_lines[c]) for c in cell_lines if cell_lines[c]])"
   ]
  },
  {
   "cell_type": "code",
   "execution_count": 57,
   "metadata": {},
   "outputs": [
    {
     "data": {
      "image/png": "[encoded data removed]",
      "text/plain": [
       "<Figure size 416x352 with 4 Axes>"
      ]
     },
     "metadata": {
      "needs_background": "light"
     },
     "output_type": "display_data"
    }
   ],
   "source": [
    "# with PdfPages('intersectional-genes/comparisons_upset_plot.pdf') as pdf:\n",
    "# Hyper_m6A_upset_data\n",
    "fig1 = plt.figure()\n",
    "upset1 = us.UpSet(\n",
    "    us.from_contents(upset_data),\n",
    "    min_degree=2,\n",
    "    sort_by='cardinality',\n",
    "    orientation='vertical',\n",
    "    show_counts=True,\n",
    "    # totals_plot_elements=10,\n",
    "    other_dots_color=0.2,\n",
    "    facecolor='lightgrey'\n",
    ")\n",
    "upset1.style_subsets(\n",
    "    present=[\"hl60_72h\"], \n",
    "    # label=\"\", \n",
    "    facecolor='brown'\n",
    "    #, edgecolor='dimgrey',linewidth=0.5,linestyle='--'\n",
    ")\n",
    "upset1.style_subsets(\n",
    "    present=[\"hl60_120h\"], \n",
    "    facecolor='brown'\n",
    "    #, edgecolor='dimgrey',linewidth=0.5,linestyle='--'\n",
    ")\n",
    "\n",
    "# upset1.style_subsets(\n",
    "#     present=[\"Exp_down\",\"Hyper_m6A\"], \n",
    "#     # absent='Hypo_m6A',\n",
    "#     label=\"Hyper m6A & Exp down\", \n",
    "#     # facecolor='brown', \n",
    "#     edgecolor='darkgreen',linewidth=2#,linestyle='--'\n",
    "# )\n",
    "\n",
    "upset1.plot(fig=fig1)\n",
    "plt.title('Expression',fontsize=12)\n",
    "plt.show()\n",
    "\n",
    "# # pdf.savefig(bbox_inches='tight')"
   ]
  },
  {
   "cell_type": "code",
   "execution_count": 62,
   "metadata": {},
   "outputs": [
    {
     "data": {
      "text/plain": [
       "['MYBBP1A', 'XRCC2', 'SMC4']"
      ]
     },
     "execution_count": 62,
     "metadata": {},
     "output_type": "execute_result"
    }
   ],
   "source": [
    "upset_to_intersect(upset_data, extract = ['hl60_120h','molm14'])"
   ]
  },
  {
   "cell_type": "code",
   "execution_count": 61,
   "metadata": {},
   "outputs": [
    {
     "data": {
      "text/plain": [
       "['MYBBP1A']"
      ]
     },
     "execution_count": 61,
     "metadata": {},
     "output_type": "execute_result"
    }
   ],
   "source": [
    "upset_to_intersect(upset_data, extract = ['hl60_72h','hl60_120h','molm14','ociaml3'])"
   ]
  },
  {
   "cell_type": "markdown",
   "metadata": {},
   "source": [
    "> #### Role and potential for therapeutic targeting of MYB in leukemia\n",
    "> - https://www.nature.com/articles/leu2012225\n",
    "> - The NRD is believed to act at least in part by the recruitment of co-repressors, such as TIF1β and __Mybbp1a__, that interfere with target gene activation."
   ]
  },
  {
   "cell_type": "code",
   "execution_count": 59,
   "metadata": {},
   "outputs": [
    {
     "data": {
      "text/plain": [
       "['DHODH',\n",
       " 'ZNF777',\n",
       " 'PMPCA',\n",
       " 'MYBBP1A',\n",
       " 'RNF126',\n",
       " 'INTS5',\n",
       " 'RBM14-RBM4',\n",
       " 'SLC7A6',\n",
       " 'SQLE']"
      ]
     },
     "execution_count": 59,
     "metadata": {},
     "output_type": "execute_result"
    }
   ],
   "source": [
    "upset_to_intersect(upset_data, extract = ['hl60_72h','hl60_120h'])"
   ]
  },
  {
   "cell_type": "markdown",
   "metadata": {},
   "source": [
    "## Stbl"
   ]
  },
  {
   "cell_type": "code",
   "execution_count": 71,
   "metadata": {},
   "outputs": [
    {
     "name": "stdout",
     "output_type": "stream",
     "text": [
      "hl60_120h\n",
      "____________________\n",
      "6\n",
      "hl60_72h\n",
      "____________________\n",
      "1\n",
      "hl60_6h\n",
      "____________________\n",
      "2\n",
      "kg1\n",
      "____________________\n",
      "1\n",
      "molm14\n",
      "____________________\n",
      "3\n",
      "ociaml2\n",
      "____________________\n",
      "1\n",
      "ociaml3\n",
      "____________________\n",
      "4\n",
      "thp1\n",
      "____________________\n",
      "3\n"
     ]
    }
   ],
   "source": [
    "cell_lines = {}\n",
    "\n",
    "for fc, pval in zip(comps['delta_stbl'].columns[1::2],  comps['delta_stbl'].columns[2::2]):\n",
    "    \n",
    "    print (fc.replace('_log2FC',''))\n",
    "    _,exp_down = find_top(comps['delta_stbl'].dropna(),fc, 0.1, pval, 0.05,silent=True)\n",
    "    print (20*'_')\n",
    "    \n",
    "    cell_lines[fc.replace('_log2FC','')] = list(set(\n",
    "        exp_down.gene_name.tolist()).intersection(set(\n",
    "        Ci_down.index.tolist())).intersection(set(\n",
    "        mtyl_up.gene_name)))\n",
    "    print(len(cell_lines[fc.replace('_log2FC','')]))\n",
    "\n",
    "del cell_lines['hl60_6h']"
   ]
  },
  {
   "cell_type": "code",
   "execution_count": 72,
   "metadata": {},
   "outputs": [],
   "source": [
    "upset_data = dict([(c,cell_lines[c]) for c in cell_lines if cell_lines[c]])"
   ]
  },
  {
   "cell_type": "code",
   "execution_count": 73,
   "metadata": {},
   "outputs": [
    {
     "data": {
      "text/plain": [
       "dict_keys(['hl60_120h', 'hl60_72h', 'kg1', 'molm14', 'ociaml2', 'ociaml3', 'thp1'])"
      ]
     },
     "execution_count": 73,
     "metadata": {},
     "output_type": "execute_result"
    }
   ],
   "source": [
    "upset_data.keys()"
   ]
  },
  {
   "cell_type": "code",
   "execution_count": 107,
   "metadata": {},
   "outputs": [
    {
     "data": {
      "image/png": "[encoded data removed]",
      "text/plain": [
       "<Figure size 416x256 with 4 Axes>"
      ]
     },
     "metadata": {
      "needs_background": "light"
     },
     "output_type": "display_data"
    }
   ],
   "source": [
    "# with PdfPages('intersectional-genes/comparisons_upset_plot.pdf') as pdf:\n",
    "# Hyper_m6A_upset_data\n",
    "fig1 = plt.figure()\n",
    "upset1 = us.UpSet(\n",
    "    us.from_contents(upset_data),\n",
    "    min_degree=2,\n",
    "    sort_by='cardinality',\n",
    "    orientation='vertical',\n",
    "    show_counts=True,\n",
    "    # totals_plot_elements=10,\n",
    "    other_dots_color=0.2,\n",
    "    facecolor='lightgrey'\n",
    ")\n",
    "upset1.style_subsets(\n",
    "    present=[\"hl60_72h\"], \n",
    "    # label=\"\", \n",
    "    facecolor='brown'\n",
    "    #, edgecolor='dimgrey',linewidth=0.5,linestyle='--'\n",
    ")\n",
    "upset1.style_subsets(\n",
    "    present=[\"hl60_120h\"], \n",
    "    facecolor='brown'\n",
    "    #, edgecolor='dimgrey',linewidth=0.5,linestyle='--'\n",
    ")\n",
    "\n",
    "# upset1.style_subsets(\n",
    "#     present=[\"Exp_down\",\"Hyper_m6A\"], \n",
    "#     # absent='Hypo_m6A',\n",
    "#     label=\"Hyper m6A & Exp down\", \n",
    "#     # facecolor='brown', \n",
    "#     edgecolor='darkgreen',linewidth=2#,linestyle='--'\n",
    "# )\n",
    "\n",
    "upset1.plot(fig1)\n",
    "# upset1.plot_totals(ax2)\n",
    "\n",
    "plt.title('Stability',fontsize=12)\n",
    "plt.show()\n",
    "\n",
    "# pdf.savefig(bbox_inches='tight')"
   ]
  },
  {
   "cell_type": "code",
   "execution_count": 108,
   "metadata": {},
   "outputs": [
    {
     "data": {
      "text/plain": [
       "['BCL2']"
      ]
     },
     "execution_count": 108,
     "metadata": {},
     "output_type": "execute_result"
    }
   ],
   "source": [
    "upset_to_intersect(upset_data, extract = ['molm14','hl60_120h'])"
   ]
  },
  {
   "cell_type": "code",
   "execution_count": 109,
   "metadata": {},
   "outputs": [
    {
     "data": {
      "text/plain": [
       "['PTTG1IP']"
      ]
     },
     "execution_count": 109,
     "metadata": {},
     "output_type": "execute_result"
    }
   ],
   "source": [
    "upset_to_intersect(upset_data, extract = ['molm14','ociaml3'])"
   ]
  },
  {
   "cell_type": "code",
   "execution_count": 110,
   "metadata": {},
   "outputs": [
    {
     "data": {
      "text/plain": [
       "['MARK3']"
      ]
     },
     "execution_count": 110,
     "metadata": {},
     "output_type": "execute_result"
    }
   ],
   "source": [
    "upset_to_intersect(upset_data, extract = ['thp1','ociaml3'])"
   ]
  },
  {
   "cell_type": "code",
   "execution_count": 76,
   "metadata": {},
   "outputs": [
    {
     "name": "stdout",
     "output_type": "stream",
     "text": [
      "Sun Feb 13 23:22:10 PST 2022\n"
     ]
    }
   ],
   "source": [
    "!date"
   ]
  }
 ],
 "metadata": {
  "kernelspec": {
   "display_name": "Python [conda env:down]",
   "language": "python",
   "name": "conda-env-down-py"
  },
  "language_info": {
   "codemirror_mode": {
    "name": "ipython",
    "version": 3
   },
   "file_extension": ".py",
   "mimetype": "text/x-python",
   "name": "python",
   "nbconvert_exporter": "python",
   "pygments_lexer": "ipython3",
   "version": "3.6.13"
  }
 },
 "nbformat": 4,
 "nbformat_minor": 4
}
