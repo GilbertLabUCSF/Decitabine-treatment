{
 "cells": [
  {
   "cell_type": "markdown",
   "metadata": {},
   "source": [
    "here I'm using a custom [scallop](https://github.com/Kingsford-Group/scallop) + [gtfmerge](https://github.com/Kingsford-Group/rnaseqtools#gtfmerge) pipeline to create merged gtf annotation of hg19 and tinat transcripts introduced in this \n",
    "\n",
    "Alex\n",
    "> I was curious myself so I decided to align our RNA-seq data to their chimeric transcripts... it looks promising, but let me know if there's anything in my analysis I need to change. Still working on seeing if we can identify alternative TSS without CAGE-seq. \n",
    "I'm guessing we can look for novel transcripts using [StringTie](https://ccb.jhu.edu/software/stringtie/) or cufflinks?\n",
    "\n",
    "Ray\n",
    "> I'm asking because in [this paper](https://www.nature.com/articles/ng.3889) they treated lung cancer cells with decitabine and performed Cage-seq to map and identify cryptic transcription start sites. They found cryptic TSSs that generated spliced variants, half of which were in-frame isoforms (and some of which resulted in chimeric transcripts, others original or truncated). This got me thinking about our project and whether we could see these chimeric/fusion transcripts (that are skewed toward the 5'end due Cage-seq and being TSS-induced) in HL60s.  \n",
    "\n",
    "\n",
    "Luke\n",
    "> Hi Ray, Alex and Abe\n",
    "This is an interesting paper which claims genetic alterations to DNA methylation core genes drive dysregulated hematopoietic development due to CpG changes that regulate transcription factor binding (figure 4 and 5). How many TFs are methylation sensitive has been controversial in my understanding but is an interesting idea with lots of data within mylomonocytic cells. https://www.nature.com/articles/s41588-020-0595-4\n",
    "I am not suggesting a specific plan but this is an interesting idea.\n"
   ]
  },
  {
   "cell_type": "code",
   "execution_count": 2,
   "metadata": {},
   "outputs": [
    {
     "name": "stdout",
     "output_type": "stream",
     "text": [
      "hg19/hg19.knownGene.gtf\r\n",
      "tinat/DAC+SB_TINATs.gtf\r\n",
      "tinat/DAC_TINATs.gtf\r\n",
      "tinat/SB939_TINATs.gtf\r\n",
      "\r\n"
     ]
    }
   ],
   "source": [
    "cat ../hl60-exp/scallop/tinat/tinat-gtf-list.txt"
   ]
  },
  {
   "cell_type": "code",
   "execution_count": 3,
   "metadata": {},
   "outputs": [
    {
     "name": "stdout",
     "output_type": "stream",
     "text": [
      "mkdir -p scallop/tinat/compare\r\n",
      "\r\n",
      "PATH=$PATH:/rumi/shams/abe/Workflows/rnaseqtools-1.0.3/bin/\r\n",
      "\r\n",
      "conda activate scallop\r\n",
      "# 1. merge\r\n",
      "gtfmerge union scallop/tinat/tinat-gtf-list.txt scallop/tinat/hg19.tinat.gtf -t 18\r\n",
      "# 2. compare \r\n",
      "gffcompare -o scallop/tinat/gffall -r /rumi/shams/genomes/hg19/hg19_genes.gtf scallop/tinat/hg19.tinat.gtf \r\n",
      "# 3. subset\r\n",
      "gtfcuff puniq scallop/tinat/gffall.hg19.tinat.gtf.tmap scallop/tinat/hg19.tinat.gtf /rumi/shams/genomes/hg19/hg19_genes.gtf scallop/tinat/unique.gtf\r\n",
      "# 4. gtf2fasta\r\n",
      "gffread scallop/tinat/unique.gtf -g /rumi/shams/genomes/hg19/hg19.fa -w scallop/tinat/unique.fa\r\n",
      "# 5.concatenate with hg19 fasta\r\n",
      "# mkdir -p scallop/hg19\r\n",
      "# wget https://hgdownload.soe.ucsc.edu/goldenPath/hg19/bigZips/genes/hg19.knownGene.gtf.gz\r\n",
      "# mv hg19.knownGene.gtf.gz scallop/hg19/hg19.knownGene.gtf.gz\r\n",
      "# gunzip scallop/hg19/hg19.knownGene.gtf.gz\r\n",
      "gffread scallop/hg19/hg19.knownGene.gtf -g /rumi/shams/genomes/hg19/hg19.fa -w scallop/hg19/hg19.knownGene.fa\r\n",
      "cat scallop/hg19/hg19.knownGene.fa scallop/tinat/unique.fa > scallop/tinat/hg19.tinat.fa\r\n",
      "\r\n",
      "# alignment \r\n",
      "conda activate alignment\r\n",
      "\r\n",
      "salmon index -t scallop/tinat/hg19.tinat.fa -i scallop/tinat/salmon.index -p 12\r\n",
      "\r\n",
      "mkdir -p hg19.tinat_quants\r\n",
      "\r\n",
      "for f in fastq/*; do\r\n",
      "\tf=`basename $f`;\r\n",
      "\to=${f/.fastq.gz/};\r\n",
      "\tsalmon quant -i scallop/tinat/salmon.index -l A \\\r\n",
      "\t-r fastq/$f -o hg19.tinat_quants/$o -p 12;\r\n",
      "done\r\n"
     ]
    }
   ],
   "source": [
    "cat ../hl60-exp/scallop/tinat.sh"
   ]
  },
  {
   "cell_type": "markdown",
   "metadata": {},
   "source": [
    "Okay! I'm aligning these stuff to the same annotation!"
   ]
  },
  {
   "cell_type": "code",
   "execution_count": 4,
   "metadata": {},
   "outputs": [
    {
     "name": "stdout",
     "output_type": "stream",
     "text": [
      "FASTQDIR=$1\r\n",
      "OUTDIR=$2\r\n",
      "\r\n",
      "INDEX=/rumi/shams/abe/Gilbertlab/Decitabine_treatment/RNA-seq/hl60-exp/scallop/tinat/salmon.index\r\n",
      "\r\n",
      "mkdir -p $OUTDIR\r\n",
      "\r\n",
      "for f in $FASTQDIR/*fastq.gz; do \r\n",
      "\tsamp=`basename ${f}`; \r\n",
      "\tsamp=${samp/.fastq.gz/}; \r\n",
      "\techo \"Processing sample ${samp}\"; \r\n",
      "\tsalmon quant -i $INDEX \\\r\n",
      " \t-l A -r $f -p 18 -o ${OUTDIR}/${samp}; \r\n",
      "done\r\n"
     ]
    }
   ],
   "source": [
    "cat salmon_tinat.sh"
   ]
  },
  {
   "cell_type": "code",
   "execution_count": 5,
   "metadata": {},
   "outputs": [],
   "source": [
    "# nohup bash salmon_tinat.sh \\\n",
    "# /rumi/shams/abe/Gilbertlab/Decitabine_treatment/RNA-seq/other-fastq \\\n",
    "# /rumi/shams/abe/Gilbertlab/Decitabine_treatment/RNA-seq/other-exp/hg19.tinat_quants > salmon_tinat.out\n"
   ]
  },
  {
   "cell_type": "code",
   "execution_count": 6,
   "metadata": {},
   "outputs": [],
   "source": [
    "!mkdir -p scallop"
   ]
  },
  {
   "cell_type": "markdown",
   "metadata": {},
   "source": [
    "# R"
   ]
  },
  {
   "cell_type": "code",
   "execution_count": 1,
   "metadata": {},
   "outputs": [],
   "source": [
    "%reload_ext rpy2.ipython"
   ]
  },
  {
   "cell_type": "code",
   "execution_count": 7,
   "metadata": {},
   "outputs": [],
   "source": [
    "%%R \n",
    "library (GenomicFeatures)\n",
    "library (tximport)\n",
    "library (tidyverse)\n",
    "library (ggplot2)\n",
    "library (ggrepel)\n",
    "library (DESeq2)\n",
    "library (patchwork)\n",
    "library (BiocParallel)\n",
    "register(MulticoreParam(4))\n",
    "\n",
    "plot_Save <- function (p, name_it){\n",
    "    ggsave(paste(name_it,'png',sep='.'), plot = p, device = 'png', dpi = 300)\n",
    "    ggsave(paste(name_it,'pdf',sep='.'), plot = p, device = 'pdf', dpi = 300)\n",
    "}"
   ]
  },
  {
   "cell_type": "markdown",
   "metadata": {},
   "source": [
    "### Load genome annotations "
   ]
  },
  {
   "cell_type": "code",
   "execution_count": 8,
   "metadata": {},
   "outputs": [
    {
     "name": "stderr",
     "output_type": "stream",
     "text": [
      "R[write to console]: Import genomic features from the file as a GRanges object ... \n",
      "R[write to console]: OK\n",
      "\n",
      "R[write to console]: Prepare the 'metadata' data frame ... \n",
      "R[write to console]: OK\n",
      "\n",
      "R[write to console]: Make the TxDb object ... \n",
      "R[write to console]: OK\n",
      "\n",
      "R[write to console]: 'select()' returned 1:1 mapping between keys and columns\n",
      "\n"
     ]
    }
   ],
   "source": [
    "%%R \n",
    "txdb.hg19  = makeTxDbFromGFF('../scallop-genome/hg19/hg19.knownGene.gtf', organism='Homo sapiens')\n",
    "\n",
    "tin_1 <- rtracklayer::import('../scallop-genome/tinat/DAC+SB_TINATs.gtf')%>% data.frame %>% filter(type == \"transcript\") %>% dplyr::select('gene_id','transcript_id')\n",
    "tin_2 <- rtracklayer::import('../scallop-genome/tinat/DAC_TINATs.gtf')   %>% data.frame %>% filter(type == \"transcript\") %>% dplyr::select('gene_id','transcript_id')\n",
    "tin_3 <- rtracklayer::import('../scallop-genome/tinat/SB939_TINATs.gtf') %>% data.frame %>% filter(type == \"transcript\") %>% dplyr::select('gene_id','transcript_id')\n",
    "tins <- rbind(tin_1, tin_2,tin_3) \n",
    "colnames(tins) <- c(\"GENEID\", \"TXNAME\")\n",
    "# tx2gene objects \n",
    "k.hg19 <- keys(txdb.hg19, keytype = \"TXNAME\")\n",
    "tx2gene.hg19 <- AnnotationDbi::select(txdb.hg19, k.hg19, \"GENEID\", \"TXNAME\")\n",
    "\n",
    "tx2gene = rbind(tx2gene.hg19, tins)"
   ]
  },
  {
   "cell_type": "code",
   "execution_count": 9,
   "metadata": {},
   "outputs": [
    {
     "name": "stdout",
     "output_type": "stream",
     "text": [
      "[1] 3627  453  744\n"
     ]
    }
   ],
   "source": [
    "%%R\n",
    "c(tin_1 %>% nrow, tin_2 %>% nrow, tin_3 %>% nrow)"
   ]
  },
  {
   "cell_type": "markdown",
   "metadata": {},
   "source": [
    "Read salmon quants "
   ]
  },
  {
   "cell_type": "code",
   "execution_count": 11,
   "metadata": {},
   "outputs": [
    {
     "name": "stderr",
     "output_type": "stream",
     "text": [
      "R[write to console]: reading in files with read_tsv\n",
      "\n",
      "R[write to console]: 1 \n",
      "R[write to console]: 2 \n",
      "R[write to console]: 3 \n",
      "R[write to console]: 4 \n",
      "R[write to console]: 5 \n",
      "R[write to console]: 6 \n",
      "R[write to console]: 7 \n",
      "R[write to console]: 8 \n",
      "R[write to console]: 9 \n",
      "R[write to console]: 10 \n",
      "R[write to console]: 11 \n",
      "R[write to console]: 12 \n",
      "R[write to console]: 13 \n",
      "R[write to console]: 14 \n",
      "R[write to console]: 15 \n",
      "R[write to console]: 16 \n",
      "R[write to console]: 17 \n",
      "R[write to console]: 18 \n",
      "R[write to console]: 19 \n",
      "R[write to console]: 20 \n",
      "R[write to console]: 21 \n",
      "R[write to console]: 22 \n",
      "R[write to console]: 23 \n",
      "R[write to console]: 24 \n",
      "R[write to console]: 25 \n",
      "R[write to console]: 26 \n",
      "R[write to console]: 27 \n",
      "R[write to console]: 28 \n",
      "R[write to console]: 29 \n",
      "R[write to console]: 30 \n",
      "R[write to console]: \n",
      "\n"
     ]
    }
   ],
   "source": [
    "%%R\n",
    "files <- list.files(path='hg19.tinat_quants', pattern=\"quant.sf\",full.names = TRUE, recursive=T)\n",
    "names(files) <- gsub(\"hg19.tinat_quants/(\\\\S+)/quant.sf\",\"\\\\1\",files)\n",
    "\n",
    "txi <- tximport(files, type = \"salmon\", tx2gene = tx2gene, txOut=T)"
   ]
  },
  {
   "cell_type": "code",
   "execution_count": null,
   "metadata": {},
   "outputs": [],
   "source": [
    "# %%R\n",
    "# txi.gene <- summarizeToGene(txi, tx2gene, ignoreAfterBar= TRUE)"
   ]
  },
  {
   "cell_type": "markdown",
   "metadata": {},
   "source": [
    "Define the sample sheet "
   ]
  },
  {
   "cell_type": "code",
   "execution_count": 12,
   "metadata": {},
   "outputs": [
    {
     "name": "stdout",
     "output_type": "stream",
     "text": [
      "     line                cond     sample_id        \n",
      " Length:30          DMSO   :15   Length:30         \n",
      " Class :character   treated:15   Class :character  \n",
      " Mode  :character                Mode  :character  \n"
     ]
    }
   ],
   "source": [
    "%%R \n",
    "# meta \n",
    "lines   <- lapply(c('kg1', 'molm14', 'ociaml2', 'ociaml3', 'thp1'), rep, 6) %>% unlist \n",
    "treats  <- rep(c(rep('treated',3), rep('DMSO',3)),5)\n",
    "reps    <- rep(c('rep1','rep2','rep3'),5)\n",
    "\n",
    "colData <- data.frame(\n",
    "    line=lines, \n",
    "    cond=treats, \n",
    "    sample_id=paste(lines, treats, reps, sep='_'), \n",
    "    row.names=colnames(txi$abundance),\n",
    "    stringsAsFactors=FALSE\n",
    ")\n",
    "colData$cond <- factor(colData$cond)\n",
    "\n",
    "summary(colData)"
   ]
  },
  {
   "cell_type": "code",
   "execution_count": 13,
   "metadata": {
    "scrolled": false
   },
   "outputs": [
    {
     "name": "stderr",
     "output_type": "stream",
     "text": [
      "R[write to console]: using counts and average transcript lengths from tximport\n",
      "\n"
     ]
    },
    {
     "name": "stdout",
     "output_type": "stream",
     "text": [
      "[1] 35932\n"
     ]
    }
   ],
   "source": [
    "%%R \n",
    "dds0 <- DESeqDataSetFromTximport(txi, colData, ~ line + cond)\n",
    "dds0$cond = relevel(dds0$cond, ref='DMSO')\n",
    "nrow(dds0)"
   ]
  },
  {
   "cell_type": "code",
   "execution_count": 20,
   "metadata": {},
   "outputs": [
    {
     "name": "stderr",
     "output_type": "stream",
     "text": [
      "R[write to console]: using 'avgTxLength' from assays(dds), correcting for library size\n",
      "\n"
     ]
    }
   ],
   "source": [
    "%%R\n",
    "# save normazlied counts \n",
    "dds0 <- estimateSizeFactors(dds0)\n",
    "ncu <- counts(dds0, normalized=TRUE)\n",
    "write.table(\n",
    "    ncu[!rownames(ncu) %in% tx2gene.hg19$TXNAME,],\n",
    "    'other_tinat_exp_deseq2_norm.txt',sep=\"\\t\", quote=FALSE, col.names=colData$sample_id)"
   ]
  },
  {
   "cell_type": "markdown",
   "metadata": {},
   "source": [
    "# Differential expression analysis"
   ]
  },
  {
   "cell_type": "code",
   "execution_count": 23,
   "metadata": {},
   "outputs": [],
   "source": [
    "%%R\n",
    "\n",
    "# Filter non-informative genes:\n",
    "filter_low_counts <- function (dds_in , min_count=10){\n",
    "    # all samples with a count of higher than `min_count`\n",
    "    keep <- rowSums(counts(dds_in ) > min_count) == ncol(dds_in )\n",
    "    # at least 3 samples with a count of 10 or higher\n",
    "    # keep <- rowSums(counts(dds) >= 10) >= 3\n",
    "\n",
    "    dds_out <- dds_in [keep,]\n",
    "    print (paste (nrow(dds_in), 'genes filtered to ->' , nrow(dds_out),'genes!', sep=' ') )\n",
    "    return (dds_out)\n",
    "}\n",
    "\n",
    "\n",
    "plot_PCA <- function(vsd, colData, gr=c('cond'), title='', leg=\"none\"){\n",
    "    z <- plotPCA(vsd,intgroup=gr, returnData=TRUE)\n",
    "    percentVar <- round(100 * attr(z, \"percentVar\"))\n",
    "    pca <- ggplot(z, aes(PC1, PC2)) +\n",
    "            geom_point(aes(size = 2,  color=group), alpha = 4/10) +\n",
    "            geom_text_repel(aes(label = row.names(colData)),size = 3.5) +\n",
    "            xlab(paste0(\"PC1: \",percentVar[1],\"% variance\")) +\n",
    "            ylab(paste0(\"PC2: \",percentVar[2],\"% variance\")) +\n",
    "            guides (size = FALSE) +\n",
    "            ggtitle (title)+ \n",
    "            theme(legend.position=leg)\n",
    "    return (pca)\n",
    "}\n",
    "\n",
    "plot_Volcano <- function(res, lfc.cutoff  = 1,pval.cutoff = 0.05, title='', x_min=-20,x_max=20){\n",
    "    res$sig <- as.factor(res$pvalue < pval.cutoff & abs(res$log2FoldChange) > lfc.cutoff)\n",
    "    relevel(res$sig, ref=TRUE)\n",
    "    vol = res %>% ggplot(\n",
    "        aes(x=log2FoldChange, y=-log10(pvalue), colour=sig, fill=sig)) +\n",
    "        geom_point(aes(color = sig),alpha = 1/10) +\n",
    "            xlim(c(x_min,x_max)) +\n",
    "    #         ylim(c(0,11)) +\n",
    "            geom_hline(yintercept=-log10(pval.cutoff), linetype=\"dashed\", alpha = 4/10) +\n",
    "            geom_vline(xintercept=lfc.cutoff, linetype=\"dashed\", alpha = 4/10) +\n",
    "            geom_vline(xintercept=(-1)*lfc.cutoff, linetype=\"dashed\", alpha = 4/10) +\n",
    "            scale_color_manual(values = c(\"grey\", \"red\")) +\n",
    "            theme_bw() + \n",
    "            theme(legend.position=\"none\") +\n",
    "            ggtitle (title) + \n",
    "            geom_text_repel(\n",
    "                data = subset(res[order(res$pvalue),], sig == TRUE)[1:7,],\n",
    "                aes(label = name),\n",
    "                size = 3,\n",
    "                box.padding = unit(0.35, \"lines\"),\n",
    "                point.padding = unit(0.3, \"lines\")\n",
    "            )\n",
    "     return (vol)\n",
    "} \n",
    "\n",
    "get_Result <- function(dds, design){\n",
    "    res = results(dds, contrast=design, parallel=TRUE)  %>% data.frame  %>% add_column(name=rownames(dds))\n",
    "    res$log2FoldChange[is.na(res$log2FoldChange)] <- 0\n",
    "    res$padj[is.na(res$padj)] <- 1\n",
    "    return (res)\n",
    "}\n",
    "\n",
    "write_Result <- function(res, name_it, col=FALSE, row=FALSE){\n",
    "    write.table(res,name_it, sep=\"\\t\", quote=FALSE, col.names=col, row.names=row)\n",
    "}"
   ]
  },
  {
   "cell_type": "code",
   "execution_count": 24,
   "metadata": {
    "scrolled": false
   },
   "outputs": [
    {
     "name": "stderr",
     "output_type": "stream",
     "text": [
      "R[write to console]: using counts and average transcript lengths from tximport\n",
      "\n"
     ]
    },
    {
     "name": "stdout",
     "output_type": "stream",
     "text": [
      "[1] \"kg1\"\n"
     ]
    },
    {
     "name": "stderr",
     "output_type": "stream",
     "text": [
      "R[write to console]: estimating size factors\n",
      "\n",
      "R[write to console]: using 'avgTxLength' from assays(dds), correcting for library size\n",
      "\n",
      "R[write to console]: estimating dispersions\n",
      "\n",
      "R[write to console]: gene-wise dispersion estimates\n",
      "\n",
      "R[write to console]: mean-dispersion relationship\n",
      "\n",
      "R[write to console]: final dispersion estimates\n",
      "\n",
      "R[write to console]: fitting model and testing\n",
      "\n"
     ]
    },
    {
     "name": "stdout",
     "output_type": "stream",
     "text": [
      "[1] \"35932 genes filtered to -> 6420 genes!\"\n",
      "[1] \"molm14\"\n"
     ]
    },
    {
     "name": "stderr",
     "output_type": "stream",
     "text": [
      "R[write to console]: estimating size factors\n",
      "\n",
      "R[write to console]: using 'avgTxLength' from assays(dds), correcting for library size\n",
      "\n",
      "R[write to console]: estimating dispersions\n",
      "\n",
      "R[write to console]: gene-wise dispersion estimates\n",
      "\n",
      "R[write to console]: mean-dispersion relationship\n",
      "\n",
      "R[write to console]: final dispersion estimates\n",
      "\n",
      "R[write to console]: fitting model and testing\n",
      "\n"
     ]
    },
    {
     "name": "stdout",
     "output_type": "stream",
     "text": [
      "[1] \"35932 genes filtered to -> 5024 genes!\"\n",
      "[1] \"ociaml2\"\n"
     ]
    },
    {
     "name": "stderr",
     "output_type": "stream",
     "text": [
      "R[write to console]: estimating size factors\n",
      "\n",
      "R[write to console]: using 'avgTxLength' from assays(dds), correcting for library size\n",
      "\n",
      "R[write to console]: estimating dispersions\n",
      "\n",
      "R[write to console]: gene-wise dispersion estimates\n",
      "\n",
      "R[write to console]: mean-dispersion relationship\n",
      "\n",
      "R[write to console]: final dispersion estimates\n",
      "\n",
      "R[write to console]: fitting model and testing\n",
      "\n"
     ]
    },
    {
     "name": "stdout",
     "output_type": "stream",
     "text": [
      "[1] \"35932 genes filtered to -> 5564 genes!\"\n",
      "[1] \"ociaml3\"\n"
     ]
    },
    {
     "name": "stderr",
     "output_type": "stream",
     "text": [
      "R[write to console]: estimating size factors\n",
      "\n",
      "R[write to console]: using 'avgTxLength' from assays(dds), correcting for library size\n",
      "\n",
      "R[write to console]: estimating dispersions\n",
      "\n",
      "R[write to console]: gene-wise dispersion estimates\n",
      "\n",
      "R[write to console]: mean-dispersion relationship\n",
      "\n",
      "R[write to console]: final dispersion estimates\n",
      "\n",
      "R[write to console]: fitting model and testing\n",
      "\n"
     ]
    },
    {
     "name": "stdout",
     "output_type": "stream",
     "text": [
      "[1] \"35932 genes filtered to -> 5910 genes!\"\n",
      "[1] \"thp1\"\n"
     ]
    },
    {
     "name": "stderr",
     "output_type": "stream",
     "text": [
      "R[write to console]: estimating size factors\n",
      "\n",
      "R[write to console]: using 'avgTxLength' from assays(dds), correcting for library size\n",
      "\n",
      "R[write to console]: estimating dispersions\n",
      "\n",
      "R[write to console]: gene-wise dispersion estimates\n",
      "\n",
      "R[write to console]: mean-dispersion relationship\n",
      "\n",
      "R[write to console]: -- note: fitType='parametric', but the dispersion trend was not well captured by the\n",
      "   function: y = a/x + b, and a local regression fit was automatically substituted.\n",
      "   specify fitType='local' or 'mean' to avoid this message next time.\n",
      "\n",
      "R[write to console]: final dispersion estimates\n",
      "\n",
      "R[write to console]: fitting model and testing\n",
      "\n"
     ]
    },
    {
     "name": "stdout",
     "output_type": "stream",
     "text": [
      "[1] \"35932 genes filtered to -> 6188 genes!\"\n"
     ]
    }
   ],
   "source": [
    "%%R \n",
    "dds1 <- DESeqDataSetFromTximport(txi, colData, ~cond)\n",
    "\n",
    "DDS = list()\n",
    "VSD = list()\n",
    "RES = list()\n",
    "\n",
    "# for loop to split DESeq object for more stable analysis  \n",
    "for (l in unique(colData$line) ){\n",
    "    k = colData$line == l\n",
    "    DDS[[l]] <- dds1[,c(k)] # subset samples from dds object https://www.biostars.org/p/442188/\n",
    "    # for Differential Expression\n",
    "    DDS[[l]] = DESeq(DDS[[l]]) #, parallel=TRUE)\n",
    "    RES[[l]] = get_Result(DDS[[l]])\n",
    "    # for PCA \n",
    "    VSD[[l]] <- varianceStabilizingTransformation(filter_low_counts(DDS[[l]]))\n",
    "    print (l)\n",
    "}"
   ]
  },
  {
   "cell_type": "code",
   "execution_count": 27,
   "metadata": {},
   "outputs": [],
   "source": [
    "%%R \n",
    "# for loop fails!!! \n",
    "kg1 <- plot_PCA(\n",
    "    VSD[[\"kg1\"]], \n",
    "    colData[colData$line == \"kg1\",], \n",
    "    title = 'cell line: kg1'\n",
    ") \n",
    "\n",
    "molm14 <- plot_PCA(\n",
    "    VSD[[\"molm14\"]], \n",
    "    colData[colData$line == \"molm14\",], \n",
    "    title = 'cell line: molm14'\n",
    ")\n",
    "\n",
    "thp1 <- plot_PCA(\n",
    "    VSD[[\"thp1\"]], #[,c(rownames(colData[colData$line == \"thp1\",])!='thp1_u_2')], \n",
    "    colData[colData$line == \"thp1\",],# & rownames(colData)!='thp1_u_2',], \n",
    "    title = 'cell line: thp1'\n",
    ")\n",
    "\n",
    "ociaml2 <- plot_PCA(\n",
    "    VSD[[\"ociaml2\"]], #[,c(rownames(colData[colData$line == \"ociaml2\",])!='ociaml2_u_2')],\n",
    "    colData[colData$line == \"ociaml2\",],# & rownames(colData)!='ociaml2_u_2',], \n",
    "    title = 'cell line: ociaml2'\n",
    ")\n",
    "\n",
    "ociaml3 <- plot_PCA(\n",
    "    VSD[[\"ociaml3\"]], \n",
    "    colData[colData$line == \"ociaml3\",], \n",
    "    title = 'cell line: ociaml3'\n",
    ")"
   ]
  },
  {
   "cell_type": "code",
   "execution_count": 29,
   "metadata": {},
   "outputs": [
    {
     "name": "stdout",
     "output_type": "stream",
     "text": [
      "png \n",
      "  2 \n"
     ]
    }
   ],
   "source": [
    "%%R \n",
    "p1 = kg1 / molm14 / thp1\n",
    "p2 = ociaml2 / ociaml3\n",
    "\n",
    "#start pdf\n",
    "pdf('PCA_split_cell_lines.pdf')\n",
    "print (p1)\n",
    "print (p2)\n",
    "#end pdf\n",
    "dev.off()\n"
   ]
  },
  {
   "cell_type": "code",
   "execution_count": 30,
   "metadata": {},
   "outputs": [
    {
     "data": {
      "image/png": "[encoded data removed]"
     },
     "metadata": {},
     "output_type": "display_data"
    },
    {
     "data": {
      "image/png": "[encoded data removed]"
     },
     "metadata": {},
     "output_type": "display_data"
    }
   ],
   "source": [
    "%%R \n",
    "print (p1)\n",
    "print (p2)\n"
   ]
  },
  {
   "cell_type": "markdown",
   "metadata": {},
   "source": [
    "Volcano plots:"
   ]
  },
  {
   "cell_type": "code",
   "execution_count": 32,
   "metadata": {
    "scrolled": false
   },
   "outputs": [
    {
     "data": {
      "image/png": "[encoded data removed]"
     },
     "metadata": {},
     "output_type": "display_data"
    },
    {
     "data": {
      "image/png": "[encoded data removed]"
     },
     "metadata": {},
     "output_type": "display_data"
    },
    {
     "data": {
      "image/png": "[encoded data removed]"
     },
     "metadata": {},
     "output_type": "display_data"
    },
    {
     "data": {
      "image/png": "[encoded data removed]"
     },
     "metadata": {},
     "output_type": "display_data"
    },
    {
     "data": {
      "image/png": "[encoded data removed]"
     },
     "metadata": {},
     "output_type": "display_data"
    }
   ],
   "source": [
    "%%R \n",
    "\n",
    "for (line in  names(RES)){\n",
    "    print (plot_Volcano(RES[[line]][tins$GENEID,], title = paste('cell line:', line) ) )\n",
    "}\n",
    "# pdf('Volcano_plots.pdf')\n",
    "# dev.off()"
   ]
  },
  {
   "cell_type": "code",
   "execution_count": 35,
   "metadata": {},
   "outputs": [],
   "source": [
    "%%R    \n",
    "for (line in names(RES) ){ \n",
    "\n",
    "    df = RES[[line]] %>% data.frame\n",
    "\n",
    "    write_Result(\n",
    "        df[\n",
    "            !rownames(dds0) %in% tx2gene.hg19$TXNAME,\n",
    "            c('name','baseMean', 'log2FoldChange', 'lfcSE', 'stat', 'pvalue','padj')],\n",
    "        \n",
    "        paste(line,'_tinat_delta_exp_table','.txt',sep=''),row=TRUE,col=TRUE)\n",
    "}"
   ]
  },
  {
   "cell_type": "markdown",
   "metadata": {},
   "source": [
    "## Clustering "
   ]
  },
  {
   "cell_type": "code",
   "execution_count": 1,
   "metadata": {},
   "outputs": [],
   "source": [
    "# %reload_ext rpy2.ipython"
   ]
  },
  {
   "cell_type": "code",
   "execution_count": 24,
   "metadata": {},
   "outputs": [],
   "source": [
    "# import pandas as pd \n",
    "# df = pd.read_table('scallop/results_time_factor.txt')\n",
    "# ncu = pd.read_table('scallop/DE2norm.txt')"
   ]
  },
  {
   "cell_type": "code",
   "execution_count": 64,
   "metadata": {
    "scrolled": false
   },
   "outputs": [],
   "source": [
    "# %%R -i df,ncu\n",
    "# library (tidyverse)\n",
    "# library(RColorBrewer)\n",
    "# library(pheatmap)\n",
    "\n",
    "# df_sig = df %>% \n",
    "#     filter (pval_6h< 0.001 | pval_72h< 0.001 | pval_120h< 0.001) %>% \n",
    "#     remove_rownames %>% column_to_rownames('gene_id') \n",
    "\n",
    "\n",
    "# # Subset normalized counts to significant genes\n",
    "# sig_norm_counts <- ncu[rownames(df_sig), ]\n",
    "\n",
    "# # Choose heatmap color palette\n",
    "# heat_colors <- brewer.pal(n = 6, name = \"YlOrRd\")\n",
    "\n",
    "# ann_colors = list(\n",
    "#     cond = c('DMSO'=\"blue\", 'treated'=\"firebrick\"),\n",
    "#     time = c('120h'= \"darkgreen\", '72h'=\"red\", '6h'=\"orange\")\n",
    "# )\n",
    "\n",
    "# colnames(sig_norm_counts) = rownames(colData)\n",
    "\n",
    "# # Plot heatmap\n",
    "# h = pheatmap(sig_norm_counts, \n",
    "#          color = heat_colors, \n",
    "#          cluster_cols = T, \n",
    "#          cluster_rows = T, \n",
    "#          show_rownames = F,\n",
    "#          annotation = dplyr::select(colData, time, cond), \n",
    "#          scale = 'row', \n",
    "#          angle_col= 45,\n",
    "# #          fontsize_row = 2,\n",
    "#          annotation_legend=F,\n",
    "#          annotation_colors = ann_colors)"
   ]
  },
  {
   "cell_type": "code",
   "execution_count": 65,
   "metadata": {},
   "outputs": [],
   "source": [
    "# %%R \n",
    "# # https://stackoverflow.com/questions/43051525/how-to-draw-pheatmap-plot-to-screen-and-also-save-to-file\n",
    "# pdf('scallop/Heatmap_clustering.pdf', width=7, height=7)\n",
    "# grid::grid.newpage()\n",
    "# grid::grid.draw(h$gtable)\n",
    "# dev.off()"
   ]
  },
  {
   "cell_type": "code",
   "execution_count": 66,
   "metadata": {},
   "outputs": [
    {
     "name": "stdout",
     "output_type": "stream",
     "text": [
      "R version 3.5.1 (2018-07-02)\n",
      "Platform: x86_64-conda_cos6-linux-gnu (64-bit)\n",
      "Running under: Ubuntu 18.04.4 LTS\n",
      "\n",
      "Matrix products: default\n",
      "BLAS/LAPACK: /rumi/shams/abe/anaconda3/envs/deseq/lib/R/lib/libRlapack.so\n",
      "\n",
      "locale:\n",
      " [1] LC_CTYPE=en_US.UTF-8       LC_NUMERIC=C              \n",
      " [3] LC_TIME=en_US.UTF-8        LC_COLLATE=en_US.UTF-8    \n",
      " [5] LC_MONETARY=en_US.UTF-8    LC_MESSAGES=en_US.UTF-8   \n",
      " [7] LC_PAPER=en_US.UTF-8       LC_NAME=C                 \n",
      " [9] LC_ADDRESS=C               LC_TELEPHONE=C            \n",
      "[11] LC_MEASUREMENT=en_US.UTF-8 LC_IDENTIFICATION=C       \n",
      "\n",
      "attached base packages:\n",
      " [1] stats4    parallel  tools     stats     graphics  grDevices utils    \n",
      " [8] datasets  methods   base     \n",
      "\n",
      "other attached packages:\n",
      " [1] patchwork_1.0.0             DESeq2_1.20.0              \n",
      " [3] SummarizedExperiment_1.10.1 DelayedArray_0.6.6         \n",
      " [5] BiocParallel_1.14.2         matrixStats_0.55.0         \n",
      " [7] ggrepel_0.8.1               forcats_0.4.0              \n",
      " [9] stringr_1.4.0               dplyr_0.8.3                \n",
      "[11] purrr_0.3.3                 readr_1.3.1                \n",
      "[13] tidyr_1.0.0                 tibble_2.1.3               \n",
      "[15] ggplot2_3.2.1               tidyverse_1.2.1            \n",
      "[17] tximport_1.10.1             GenomicFeatures_1.32.3     \n",
      "[19] AnnotationDbi_1.42.1        Biobase_2.40.0             \n",
      "[21] GenomicRanges_1.32.7        GenomeInfoDb_1.16.0        \n",
      "[23] IRanges_2.14.12             S4Vectors_0.18.3           \n",
      "[25] BiocGenerics_0.26.0        \n",
      "\n",
      "loaded via a namespace (and not attached):\n",
      " [1] nlme_3.1-141             bitops_1.0-6             lubridate_1.7.4         \n",
      " [4] bit64_0.9-7              RColorBrewer_1.1-2       progress_1.2.2          \n",
      " [7] httr_1.4.1               backports_1.1.5          R6_2.4.0                \n",
      "[10] rpart_4.1-15             Hmisc_4.2-0              DBI_1.0.0               \n",
      "[13] lazyeval_0.2.2           colorspace_1.4-1         nnet_7.3-12             \n",
      "[16] withr_2.1.2              gridExtra_2.3            tidyselect_0.2.5        \n",
      "[19] prettyunits_1.0.2        bit_1.1-14               compiler_3.5.1          \n",
      "[22] cli_1.1.0                rvest_0.3.5              htmlTable_1.13.2        \n",
      "[25] xml2_1.2.2               labeling_0.3             rtracklayer_1.40.6      \n",
      "[28] checkmate_1.9.4          scales_1.0.0             genefilter_1.62.0       \n",
      "[31] digest_0.6.22            Rsamtools_1.32.3         foreign_0.8-72          \n",
      "[34] XVector_0.20.0           htmltools_0.4.0          base64enc_0.1-3         \n",
      "[37] pkgconfig_2.0.3          htmlwidgets_1.5.1        rlang_0.4.1             \n",
      "[40] readxl_1.3.1             rstudioapi_0.10          RSQLite_2.1.2           \n",
      "[43] jsonlite_1.6             acepack_1.4.1            RCurl_1.95-4.12         \n",
      "[46] magrittr_1.5             GenomeInfoDbData_1.1.0   Formula_1.2-3           \n",
      "[49] Matrix_1.2-17            Rcpp_1.0.3               munsell_0.5.0           \n",
      "[52] lifecycle_0.1.0          stringi_1.4.3            zlibbioc_1.26.0         \n",
      "[55] grid_3.5.1               blob_1.2.0               crayon_1.3.4            \n",
      "[58] lattice_0.20-38          Biostrings_2.48.0        haven_2.2.0             \n",
      "[61] splines_3.5.1            annotate_1.58.0          hms_0.5.2               \n",
      "[64] locfit_1.5-9.1           knitr_1.25               zeallot_0.1.0           \n",
      "[67] pillar_1.4.2             geneplotter_1.58.0       biomaRt_2.36.1          \n",
      "[70] XML_3.98-1.20            glue_1.3.1               latticeExtra_0.6-28     \n",
      "[73] data.table_1.11.6        modelr_0.1.5             vctrs_0.2.0             \n",
      "[76] cellranger_1.1.0         gtable_0.3.0             assertthat_0.2.1        \n",
      "[79] xfun_0.10                xtable_1.8-4             broom_0.5.0             \n",
      "[82] survival_2.44-1.1        GenomicAlignments_1.16.0 memoise_1.1.0           \n",
      "[85] cluster_2.1.0           \n"
     ]
    }
   ],
   "source": [
    "%%R \n",
    "sessionInfo()"
   ]
  },
  {
   "cell_type": "code",
   "execution_count": null,
   "metadata": {},
   "outputs": [],
   "source": []
  }
 ],
 "metadata": {
  "kernelspec": {
   "display_name": "Python [conda env:deseq]",
   "language": "python",
   "name": "conda-env-deseq-py"
  },
  "language_info": {
   "codemirror_mode": {
    "name": "ipython",
    "version": 3
   },
   "file_extension": ".py",
   "mimetype": "text/x-python",
   "name": "python",
   "nbconvert_exporter": "python",
   "pygments_lexer": "ipython3",
   "version": "3.7.3"
  }
 },
 "nbformat": 4,
 "nbformat_minor": 2
}
