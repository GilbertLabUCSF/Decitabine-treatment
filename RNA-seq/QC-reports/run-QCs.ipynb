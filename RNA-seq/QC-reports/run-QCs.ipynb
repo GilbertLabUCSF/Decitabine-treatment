{
 "cells": [
  {
   "cell_type": "markdown",
   "metadata": {},
   "source": [
    "## Run fastQC"
   ]
  },
  {
   "cell_type": "code",
   "execution_count": 10,
   "metadata": {},
   "outputs": [
    {
     "name": "stdout",
     "output_type": "stream",
     "text": [
      "-------------- hl60_120h_t_1 --------------\n",
      "-------------- hl60_120h_t_2 --------------\n",
      "-------------- hl60_120h_u_1 --------------\n",
      "-------------- hl60_120h_u_2 --------------\n",
      "-------------- hl60_6h_t_1 --------------\n",
      "-------------- hl60_6h_t_2 --------------\n",
      "-------------- hl60_6h_u_1 --------------\n",
      "-------------- hl60_6h_u_2 --------------\n",
      "-------------- hl60_72h_t_1 --------------\n",
      "-------------- hl60_72h_t_2 --------------\n",
      "-------------- hl60_72h_u_1 --------------\n",
      "-------------- hl60_72h_u_2 --------------\n",
      "-------------- kg1_t_1 --------------\n",
      "-------------- kg1_t_2 --------------\n",
      "-------------- kg1_t_3 --------------\n",
      "-------------- kg1_u_1 --------------\n",
      "-------------- kg1_u_2 --------------\n",
      "-------------- kg1_u_3 --------------\n",
      "-------------- molm14_t_1 --------------\n",
      "-------------- molm14_t_2 --------------\n",
      "-------------- molm14_t_3 --------------\n",
      "-------------- molm14_u_1 --------------\n",
      "-------------- molm14_u_2 --------------\n",
      "-------------- molm14_u_3 --------------\n",
      "-------------- ociaml2_t_1 --------------\n",
      "-------------- ociaml2_t_2 --------------\n",
      "-------------- ociaml2_t_3 --------------\n",
      "-------------- ociaml2_u_1 --------------\n",
      "-------------- ociaml2_u_2 --------------\n",
      "-------------- ociaml2_u_3 --------------\n",
      "-------------- ociaml3_t_1 --------------\n",
      "-------------- ociaml3_t_2 --------------\n",
      "-------------- ociaml3_t_3 --------------\n",
      "-------------- ociaml3_u_1 --------------\n",
      "-------------- ociaml3_u_2 --------------\n",
      "-------------- ociaml3_u_3 --------------\n",
      "-------------- thp1_t_1 --------------\n",
      "-------------- thp1_t_2 --------------\n",
      "-------------- thp1_t_3 --------------\n",
      "-------------- thp1_u_1 --------------\n",
      "-------------- thp1_u_2 --------------\n",
      "-------------- thp1_u_3 --------------\n",
      "\u001b[1;30m[INFO   ]\u001b[0m         multiqc : This is MultiQC v1.9\n",
      "\u001b[1;30m[INFO   ]\u001b[0m         multiqc : Template    : default\n",
      "\u001b[1;30m[INFO   ]\u001b[0m         multiqc : Searching   : /data_gilbert/home/aarab/Projects/Decitabine-treatment/RNA-seq/fastQC\n",
      "\u001b[?25lSearching 84 files..  [####################################]  100%          \u001b[?25h\n",
      "\u001b[1;30m[INFO   ]\u001b[0m          fastqc : Found 42 reports\n",
      "\u001b[1;30m[INFO   ]\u001b[0m         multiqc : Compressing plot data\n",
      "\u001b[1;30m[INFO   ]\u001b[0m         multiqc : Report      : mutiqc-fastQC.html\n",
      "\u001b[1;30m[INFO   ]\u001b[0m         multiqc : Data        : mutiqc-fastQC_data\n",
      "\u001b[1;30m[INFO   ]\u001b[0m         multiqc : MultiQC complete\n"
     ]
    }
   ],
   "source": [
    "!bash ../../fastqc.sh ../ fastq fastQC 24"
   ]
  },
  {
   "cell_type": "code",
   "execution_count": 17,
   "metadata": {},
   "outputs": [
    {
     "name": "stdout",
     "output_type": "stream",
     "text": [
      "‘../mutiqc-fastQC_data’ -> ‘./mutiqc-fastQC_data’\n",
      "‘../mutiqc-fastQC.html’ -> ‘./mutiqc-fastQC.html’\n"
     ]
    }
   ],
   "source": [
    "mv -v ../mutiqc-fastQC* ./"
   ]
  },
  {
   "cell_type": "markdown",
   "metadata": {},
   "source": [
    "## Expression QC"
   ]
  },
  {
   "cell_type": "code",
   "execution_count": null,
   "metadata": {},
   "outputs": [],
   "source": [
    "# https://github.com/goodarzilab/RNA-seq/blob/master/scripts/rna-seq.py#L359\n",
    "# def qc_salmon():\n",
    "#     os.chdir(indir+'/qc_salmon')\n",
    "#     qc_salmon = pd.DataFrame({}, index=samples)\n",
    "#     for s in samples:\n",
    "#     with open('%s_salmon.log' % s) as f:\n",
    "#         log_salmon = json.load(f)\n",
    "#     qc_salmon.loc[s, 'Mapped'] = log_salmon['percent_mapped']\n",
    "#     qc_salmon.to_csv('qc_salmon_mapping.txt', sep='\\t')\n",
    "#     sns.set(font_scale=0.7)\n",
    "#     sns.set_style('white')\n",
    "#     fig,ax = plt.subplots()\n",
    "#     width = len(qc_salmon.index)\n",
    "#     if width <= 18:\n",
    "#     qc_salmon.plot(kind='bar', stacked=True, ax=ax)\n",
    "#     else:\n",
    "#     qc_salmon.plot(kind='bar', stacked=True, ax=ax, figsize=(4+0.3*width, 4))\n",
    "#     plt.xticks(rotation=30, ha='right')\n",
    "#     plt.ylabel('Percentage of Reads')\n",
    "#     box = ax.get_position()\n",
    "#     ax.set_position([box.x0, box.y0, box.width * 0.8, box.height])\n",
    "#     ax.legend(loc='center left', bbox_to_anchor=(1, 0.5))\n",
    "#     plt.tight_layout()\n",
    "#     plt.savefig('qc_salmon_mapping.png', dpi=500)"
   ]
  },
  {
   "cell_type": "code",
   "execution_count": 18,
   "metadata": {},
   "outputs": [
    {
     "name": "stdout",
     "output_type": "stream",
     "text": [
      "\u001b[1;30m[INFO   ]\u001b[0m         multiqc : This is MultiQC v1.9\n",
      "\u001b[1;30m[INFO   ]\u001b[0m         multiqc : Template    : default\n",
      "\u001b[1;30m[INFO   ]\u001b[0m         multiqc : Searching   : /data_gilbert/home/aarab/Projects/Decitabine-treatment/RNA-seq/quants\n",
      "\u001b[?25lSearching 462 files..  [####################################]  100%          \u001b[?25h\n",
      "\u001b[1;30m[INFO   ]\u001b[0m          salmon : Found 42 meta reports\n",
      "\u001b[1;30m[INFO   ]\u001b[0m          salmon : Found 42 fragment length distributions\n",
      "\u001b[1;30m[INFO   ]\u001b[0m         multiqc : Compressing plot data\n",
      "\u001b[1;30m[INFO   ]\u001b[0m         multiqc : Report      : preprocessing-multiqc.html\n",
      "\u001b[1;30m[INFO   ]\u001b[0m         multiqc : Data        : preprocessing-multiqc_data\n",
      "\u001b[1;30m[INFO   ]\u001b[0m         multiqc : MultiQC complete\n"
     ]
    }
   ],
   "source": [
    "!multiqc ../quants -n preprocessing-multiqc.html"
   ]
  },
  {
   "cell_type": "code",
   "execution_count": null,
   "metadata": {},
   "outputs": [],
   "source": []
  },
  {
   "cell_type": "code",
   "execution_count": null,
   "metadata": {},
   "outputs": [],
   "source": []
  },
  {
   "cell_type": "code",
   "execution_count": null,
   "metadata": {},
   "outputs": [],
   "source": []
  },
  {
   "cell_type": "markdown",
   "metadata": {},
   "source": [
    "## Stability QC"
   ]
  },
  {
   "cell_type": "code",
   "execution_count": 11,
   "metadata": {},
   "outputs": [
    {
     "name": "stdout",
     "output_type": "stream",
     "text": [
      "\u001b[1;30m[INFO   ]\u001b[0m         multiqc : This is MultiQC v1.9\n",
      "\u001b[1;30m[INFO   ]\u001b[0m         multiqc : Template    : default\n",
      "\u001b[1;30m[INFO   ]\u001b[0m         multiqc : Searching   : /rumi/shams/abe/Gilbertlab/Decitabine_treatment/RNA-seq/hl60-stbl/counts/120h_DMSO_rep1_exons.ol.txt\n",
      "\u001b[1;30m[INFO   ]\u001b[0m         multiqc : Searching   : /rumi/shams/abe/Gilbertlab/Decitabine_treatment/RNA-seq/hl60-stbl/counts/120h_DMSO_rep1_exons.txt\n",
      "\u001b[1;30m[INFO   ]\u001b[0m         multiqc : Searching   : /rumi/shams/abe/Gilbertlab/Decitabine_treatment/RNA-seq/hl60-stbl/counts/120h_DMSO_rep1_exons.txt.summary\n",
      "\u001b[1;30m[INFO   ]\u001b[0m         multiqc : Searching   : /rumi/shams/abe/Gilbertlab/Decitabine_treatment/RNA-seq/hl60-stbl/counts/120h_DMSO_rep2_exons.ol.txt\n",
      "\u001b[1;30m[INFO   ]\u001b[0m         multiqc : Searching   : /rumi/shams/abe/Gilbertlab/Decitabine_treatment/RNA-seq/hl60-stbl/counts/120h_DMSO_rep2_exons.txt\n",
      "\u001b[1;30m[INFO   ]\u001b[0m         multiqc : Searching   : /rumi/shams/abe/Gilbertlab/Decitabine_treatment/RNA-seq/hl60-stbl/counts/120h_DMSO_rep2_exons.txt.summary\n",
      "\u001b[1;30m[INFO   ]\u001b[0m         multiqc : Searching   : /rumi/shams/abe/Gilbertlab/Decitabine_treatment/RNA-seq/hl60-stbl/counts/120h_treated_rep1_exons.ol.txt\n",
      "\u001b[1;30m[INFO   ]\u001b[0m         multiqc : Searching   : /rumi/shams/abe/Gilbertlab/Decitabine_treatment/RNA-seq/hl60-stbl/counts/120h_treated_rep1_exons.txt\n",
      "\u001b[1;30m[INFO   ]\u001b[0m         multiqc : Searching   : /rumi/shams/abe/Gilbertlab/Decitabine_treatment/RNA-seq/hl60-stbl/counts/120h_treated_rep1_exons.txt.summary\n",
      "\u001b[1;30m[INFO   ]\u001b[0m         multiqc : Searching   : /rumi/shams/abe/Gilbertlab/Decitabine_treatment/RNA-seq/hl60-stbl/counts/120h_treated_rep2_exons.ol.txt\n",
      "\u001b[1;30m[INFO   ]\u001b[0m         multiqc : Searching   : /rumi/shams/abe/Gilbertlab/Decitabine_treatment/RNA-seq/hl60-stbl/counts/120h_treated_rep2_exons.txt\n",
      "\u001b[1;30m[INFO   ]\u001b[0m         multiqc : Searching   : /rumi/shams/abe/Gilbertlab/Decitabine_treatment/RNA-seq/hl60-stbl/counts/120h_treated_rep2_exons.txt.summary\n",
      "\u001b[1;30m[INFO   ]\u001b[0m         multiqc : Searching   : /rumi/shams/abe/Gilbertlab/Decitabine_treatment/RNA-seq/hl60-stbl/counts/6h_DMSO_rep1_exons.ol.txt\n",
      "\u001b[1;30m[INFO   ]\u001b[0m         multiqc : Searching   : /rumi/shams/abe/Gilbertlab/Decitabine_treatment/RNA-seq/hl60-stbl/counts/6h_DMSO_rep1_exons.txt\n",
      "\u001b[1;30m[INFO   ]\u001b[0m         multiqc : Searching   : /rumi/shams/abe/Gilbertlab/Decitabine_treatment/RNA-seq/hl60-stbl/counts/6h_DMSO_rep1_exons.txt.summary\n",
      "\u001b[1;30m[INFO   ]\u001b[0m         multiqc : Searching   : /rumi/shams/abe/Gilbertlab/Decitabine_treatment/RNA-seq/hl60-stbl/counts/6h_DMSO_rep2_exons.ol.txt\n",
      "\u001b[1;30m[INFO   ]\u001b[0m         multiqc : Searching   : /rumi/shams/abe/Gilbertlab/Decitabine_treatment/RNA-seq/hl60-stbl/counts/6h_DMSO_rep2_exons.txt\n",
      "\u001b[1;30m[INFO   ]\u001b[0m         multiqc : Searching   : /rumi/shams/abe/Gilbertlab/Decitabine_treatment/RNA-seq/hl60-stbl/counts/6h_DMSO_rep2_exons.txt.summary\n",
      "\u001b[1;30m[INFO   ]\u001b[0m         multiqc : Searching   : /rumi/shams/abe/Gilbertlab/Decitabine_treatment/RNA-seq/hl60-stbl/counts/6h_treated_rep1_exons.ol.txt\n",
      "\u001b[1;30m[INFO   ]\u001b[0m         multiqc : Searching   : /rumi/shams/abe/Gilbertlab/Decitabine_treatment/RNA-seq/hl60-stbl/counts/6h_treated_rep1_exons.txt\n",
      "\u001b[1;30m[INFO   ]\u001b[0m         multiqc : Searching   : /rumi/shams/abe/Gilbertlab/Decitabine_treatment/RNA-seq/hl60-stbl/counts/6h_treated_rep1_exons.txt.summary\n",
      "\u001b[1;30m[INFO   ]\u001b[0m         multiqc : Searching   : /rumi/shams/abe/Gilbertlab/Decitabine_treatment/RNA-seq/hl60-stbl/counts/6h_treated_rep2_exons.ol.txt\n",
      "\u001b[1;30m[INFO   ]\u001b[0m         multiqc : Searching   : /rumi/shams/abe/Gilbertlab/Decitabine_treatment/RNA-seq/hl60-stbl/counts/6h_treated_rep2_exons.txt\n",
      "\u001b[1;30m[INFO   ]\u001b[0m         multiqc : Searching   : /rumi/shams/abe/Gilbertlab/Decitabine_treatment/RNA-seq/hl60-stbl/counts/6h_treated_rep2_exons.txt.summary\n",
      "\u001b[1;30m[INFO   ]\u001b[0m         multiqc : Searching   : /rumi/shams/abe/Gilbertlab/Decitabine_treatment/RNA-seq/hl60-stbl/counts/72h_DMSO_rep1_exons.ol.txt\n",
      "\u001b[1;30m[INFO   ]\u001b[0m         multiqc : Searching   : /rumi/shams/abe/Gilbertlab/Decitabine_treatment/RNA-seq/hl60-stbl/counts/72h_DMSO_rep1_exons.txt\n",
      "\u001b[1;30m[INFO   ]\u001b[0m         multiqc : Searching   : /rumi/shams/abe/Gilbertlab/Decitabine_treatment/RNA-seq/hl60-stbl/counts/72h_DMSO_rep1_exons.txt.summary\n",
      "\u001b[1;30m[INFO   ]\u001b[0m         multiqc : Searching   : /rumi/shams/abe/Gilbertlab/Decitabine_treatment/RNA-seq/hl60-stbl/counts/72h_DMSO_rep2_exons.ol.txt\n",
      "\u001b[1;30m[INFO   ]\u001b[0m         multiqc : Searching   : /rumi/shams/abe/Gilbertlab/Decitabine_treatment/RNA-seq/hl60-stbl/counts/72h_DMSO_rep2_exons.txt\n",
      "\u001b[1;30m[INFO   ]\u001b[0m         multiqc : Searching   : /rumi/shams/abe/Gilbertlab/Decitabine_treatment/RNA-seq/hl60-stbl/counts/72h_DMSO_rep2_exons.txt.summary\n",
      "\u001b[1;30m[INFO   ]\u001b[0m         multiqc : Searching   : /rumi/shams/abe/Gilbertlab/Decitabine_treatment/RNA-seq/hl60-stbl/counts/72h_treated_rep1_exons.ol.txt\n",
      "\u001b[1;30m[INFO   ]\u001b[0m         multiqc : Searching   : /rumi/shams/abe/Gilbertlab/Decitabine_treatment/RNA-seq/hl60-stbl/counts/72h_treated_rep1_exons.txt\n",
      "\u001b[1;30m[INFO   ]\u001b[0m         multiqc : Searching   : /rumi/shams/abe/Gilbertlab/Decitabine_treatment/RNA-seq/hl60-stbl/counts/72h_treated_rep1_exons.txt.summary\n",
      "\u001b[1;30m[INFO   ]\u001b[0m         multiqc : Searching   : /rumi/shams/abe/Gilbertlab/Decitabine_treatment/RNA-seq/hl60-stbl/counts/72h_treated_rep2_exons.ol.txt\n",
      "\u001b[1;30m[INFO   ]\u001b[0m         multiqc : Searching   : /rumi/shams/abe/Gilbertlab/Decitabine_treatment/RNA-seq/hl60-stbl/counts/72h_treated_rep2_exons.txt\n",
      "\u001b[1;30m[INFO   ]\u001b[0m         multiqc : Searching   : /rumi/shams/abe/Gilbertlab/Decitabine_treatment/RNA-seq/hl60-stbl/counts/72h_treated_rep2_exons.txt.summary\n",
      "\u001b[?25lSearching 36 files..  [####################################]  100%          \u001b[?25h\n",
      "\u001b[1;30m[INFO   ]\u001b[0m  feature_counts : Found 12 reports\n",
      "\u001b[1;30m[INFO   ]\u001b[0m         multiqc : Compressing plot data\n",
      "\u001b[1;30m[INFO   ]\u001b[0m         multiqc : Report      : hl60-stbl/counts-exons-multiqc.html\n",
      "\u001b[1;30m[INFO   ]\u001b[0m         multiqc : Data        : hl60-stbl/counts-exons-multiqc_data\n",
      "\u001b[1;30m[INFO   ]\u001b[0m         multiqc : MultiQC complete\n",
      "\u001b[1;30m[INFO   ]\u001b[0m         multiqc : This is MultiQC v1.9\n",
      "\u001b[1;30m[INFO   ]\u001b[0m         multiqc : Template    : default\n",
      "\u001b[1;30m[INFO   ]\u001b[0m         multiqc : Searching   : /rumi/shams/abe/Gilbertlab/Decitabine_treatment/RNA-seq/hl60-stbl/counts/120h_DMSO_rep1_Introns.ol.txt\n",
      "\u001b[1;30m[INFO   ]\u001b[0m         multiqc : Searching   : /rumi/shams/abe/Gilbertlab/Decitabine_treatment/RNA-seq/hl60-stbl/counts/120h_DMSO_rep1_Introns.txt\n",
      "\u001b[1;30m[INFO   ]\u001b[0m         multiqc : Searching   : /rumi/shams/abe/Gilbertlab/Decitabine_treatment/RNA-seq/hl60-stbl/counts/120h_DMSO_rep1_Introns.txt.summary\n",
      "\u001b[1;30m[INFO   ]\u001b[0m         multiqc : Searching   : /rumi/shams/abe/Gilbertlab/Decitabine_treatment/RNA-seq/hl60-stbl/counts/120h_DMSO_rep2_Introns.ol.txt\n",
      "\u001b[1;30m[INFO   ]\u001b[0m         multiqc : Searching   : /rumi/shams/abe/Gilbertlab/Decitabine_treatment/RNA-seq/hl60-stbl/counts/120h_DMSO_rep2_Introns.txt\n",
      "\u001b[1;30m[INFO   ]\u001b[0m         multiqc : Searching   : /rumi/shams/abe/Gilbertlab/Decitabine_treatment/RNA-seq/hl60-stbl/counts/120h_DMSO_rep2_Introns.txt.summary\n",
      "\u001b[1;30m[INFO   ]\u001b[0m         multiqc : Searching   : /rumi/shams/abe/Gilbertlab/Decitabine_treatment/RNA-seq/hl60-stbl/counts/120h_treated_rep1_Introns.ol.txt\n",
      "\u001b[1;30m[INFO   ]\u001b[0m         multiqc : Searching   : /rumi/shams/abe/Gilbertlab/Decitabine_treatment/RNA-seq/hl60-stbl/counts/120h_treated_rep1_Introns.txt\n",
      "\u001b[1;30m[INFO   ]\u001b[0m         multiqc : Searching   : /rumi/shams/abe/Gilbertlab/Decitabine_treatment/RNA-seq/hl60-stbl/counts/120h_treated_rep1_Introns.txt.summary\n",
      "\u001b[1;30m[INFO   ]\u001b[0m         multiqc : Searching   : /rumi/shams/abe/Gilbertlab/Decitabine_treatment/RNA-seq/hl60-stbl/counts/120h_treated_rep2_Introns.ol.txt\n",
      "\u001b[1;30m[INFO   ]\u001b[0m         multiqc : Searching   : /rumi/shams/abe/Gilbertlab/Decitabine_treatment/RNA-seq/hl60-stbl/counts/120h_treated_rep2_Introns.txt\n",
      "\u001b[1;30m[INFO   ]\u001b[0m         multiqc : Searching   : /rumi/shams/abe/Gilbertlab/Decitabine_treatment/RNA-seq/hl60-stbl/counts/120h_treated_rep2_Introns.txt.summary\n",
      "\u001b[1;30m[INFO   ]\u001b[0m         multiqc : Searching   : /rumi/shams/abe/Gilbertlab/Decitabine_treatment/RNA-seq/hl60-stbl/counts/6h_DMSO_rep1_Introns.ol.txt\n",
      "\u001b[1;30m[INFO   ]\u001b[0m         multiqc : Searching   : /rumi/shams/abe/Gilbertlab/Decitabine_treatment/RNA-seq/hl60-stbl/counts/6h_DMSO_rep1_Introns.txt\n",
      "\u001b[1;30m[INFO   ]\u001b[0m         multiqc : Searching   : /rumi/shams/abe/Gilbertlab/Decitabine_treatment/RNA-seq/hl60-stbl/counts/6h_DMSO_rep1_Introns.txt.summary\n",
      "\u001b[1;30m[INFO   ]\u001b[0m         multiqc : Searching   : /rumi/shams/abe/Gilbertlab/Decitabine_treatment/RNA-seq/hl60-stbl/counts/6h_DMSO_rep2_Introns.ol.txt\n",
      "\u001b[1;30m[INFO   ]\u001b[0m         multiqc : Searching   : /rumi/shams/abe/Gilbertlab/Decitabine_treatment/RNA-seq/hl60-stbl/counts/6h_DMSO_rep2_Introns.txt\n",
      "\u001b[1;30m[INFO   ]\u001b[0m         multiqc : Searching   : /rumi/shams/abe/Gilbertlab/Decitabine_treatment/RNA-seq/hl60-stbl/counts/6h_DMSO_rep2_Introns.txt.summary\n",
      "\u001b[1;30m[INFO   ]\u001b[0m         multiqc : Searching   : /rumi/shams/abe/Gilbertlab/Decitabine_treatment/RNA-seq/hl60-stbl/counts/6h_treated_rep1_Introns.ol.txt\n",
      "\u001b[1;30m[INFO   ]\u001b[0m         multiqc : Searching   : /rumi/shams/abe/Gilbertlab/Decitabine_treatment/RNA-seq/hl60-stbl/counts/6h_treated_rep1_Introns.txt\n",
      "\u001b[1;30m[INFO   ]\u001b[0m         multiqc : Searching   : /rumi/shams/abe/Gilbertlab/Decitabine_treatment/RNA-seq/hl60-stbl/counts/6h_treated_rep1_Introns.txt.summary\n",
      "\u001b[1;30m[INFO   ]\u001b[0m         multiqc : Searching   : /rumi/shams/abe/Gilbertlab/Decitabine_treatment/RNA-seq/hl60-stbl/counts/6h_treated_rep2_Introns.ol.txt\n",
      "\u001b[1;30m[INFO   ]\u001b[0m         multiqc : Searching   : /rumi/shams/abe/Gilbertlab/Decitabine_treatment/RNA-seq/hl60-stbl/counts/6h_treated_rep2_Introns.txt\n",
      "\u001b[1;30m[INFO   ]\u001b[0m         multiqc : Searching   : /rumi/shams/abe/Gilbertlab/Decitabine_treatment/RNA-seq/hl60-stbl/counts/6h_treated_rep2_Introns.txt.summary\n",
      "\u001b[1;30m[INFO   ]\u001b[0m         multiqc : Searching   : /rumi/shams/abe/Gilbertlab/Decitabine_treatment/RNA-seq/hl60-stbl/counts/72h_DMSO_rep1_Introns.ol.txt\n",
      "\u001b[1;30m[INFO   ]\u001b[0m         multiqc : Searching   : /rumi/shams/abe/Gilbertlab/Decitabine_treatment/RNA-seq/hl60-stbl/counts/72h_DMSO_rep1_Introns.txt\n",
      "\u001b[1;30m[INFO   ]\u001b[0m         multiqc : Searching   : /rumi/shams/abe/Gilbertlab/Decitabine_treatment/RNA-seq/hl60-stbl/counts/72h_DMSO_rep1_Introns.txt.summary\n",
      "\u001b[1;30m[INFO   ]\u001b[0m         multiqc : Searching   : /rumi/shams/abe/Gilbertlab/Decitabine_treatment/RNA-seq/hl60-stbl/counts/72h_DMSO_rep2_Introns.ol.txt\n",
      "\u001b[1;30m[INFO   ]\u001b[0m         multiqc : Searching   : /rumi/shams/abe/Gilbertlab/Decitabine_treatment/RNA-seq/hl60-stbl/counts/72h_DMSO_rep2_Introns.txt\n",
      "\u001b[1;30m[INFO   ]\u001b[0m         multiqc : Searching   : /rumi/shams/abe/Gilbertlab/Decitabine_treatment/RNA-seq/hl60-stbl/counts/72h_DMSO_rep2_Introns.txt.summary\n",
      "\u001b[1;30m[INFO   ]\u001b[0m         multiqc : Searching   : /rumi/shams/abe/Gilbertlab/Decitabine_treatment/RNA-seq/hl60-stbl/counts/72h_treated_rep1_Introns.ol.txt\n",
      "\u001b[1;30m[INFO   ]\u001b[0m         multiqc : Searching   : /rumi/shams/abe/Gilbertlab/Decitabine_treatment/RNA-seq/hl60-stbl/counts/72h_treated_rep1_Introns.txt\n",
      "\u001b[1;30m[INFO   ]\u001b[0m         multiqc : Searching   : /rumi/shams/abe/Gilbertlab/Decitabine_treatment/RNA-seq/hl60-stbl/counts/72h_treated_rep1_Introns.txt.summary\n",
      "\u001b[1;30m[INFO   ]\u001b[0m         multiqc : Searching   : /rumi/shams/abe/Gilbertlab/Decitabine_treatment/RNA-seq/hl60-stbl/counts/72h_treated_rep2_Introns.ol.txt\n",
      "\u001b[1;30m[INFO   ]\u001b[0m         multiqc : Searching   : /rumi/shams/abe/Gilbertlab/Decitabine_treatment/RNA-seq/hl60-stbl/counts/72h_treated_rep2_Introns.txt\n",
      "\u001b[1;30m[INFO   ]\u001b[0m         multiqc : Searching   : /rumi/shams/abe/Gilbertlab/Decitabine_treatment/RNA-seq/hl60-stbl/counts/72h_treated_rep2_Introns.txt.summary\n",
      "\u001b[?25lSearching 36 files..  [####################################]  100%          \u001b[?25h\n",
      "\u001b[1;30m[INFO   ]\u001b[0m  feature_counts : Found 12 reports\n",
      "\u001b[1;30m[INFO   ]\u001b[0m         multiqc : Compressing plot data\n",
      "\u001b[1;30m[INFO   ]\u001b[0m         multiqc : Report      : hl60-stbl/counts-introns-multiqc.html\n",
      "\u001b[1;30m[INFO   ]\u001b[0m         multiqc : Data        : hl60-stbl/counts-introns-multiqc_data\n",
      "\u001b[1;30m[INFO   ]\u001b[0m         multiqc : MultiQC complete\n"
     ]
    }
   ],
   "source": [
    "!multiqc ../stbl/counts/*_exons* -n hl60-stbl/counts-exons-multiqc.html\n",
    "!multiqc ../stbl/counts/*_Introns* -n hl60-stbl/counts-introns-multiqc.html"
   ]
  },
  {
   "cell_type": "code",
   "execution_count": 12,
   "metadata": {},
   "outputs": [
    {
     "name": "stdout",
     "output_type": "stream",
     "text": [
      "\u001b[1;30m[INFO   ]\u001b[0m         multiqc : This is MultiQC v1.9\n",
      "\u001b[1;30m[INFO   ]\u001b[0m         multiqc : Template    : default\n",
      "\u001b[1;30m[INFO   ]\u001b[0m         multiqc : Searching   : /rumi/shams/abe/Gilbertlab/Decitabine_treatment/RNA-seq/hl60-exp/scallop\n",
      "\u001b[?25lSearching 340 files..  [####################################]  100%          \u001b[?25h\n",
      "\u001b[1;30m[INFO   ]\u001b[0m          salmon : Found 12 meta reports\n",
      "\u001b[1;30m[INFO   ]\u001b[0m          salmon : Found 12 fragment length distributions\n",
      "\u001b[1;30m[INFO   ]\u001b[0m         multiqc : Compressing plot data\n",
      "\u001b[1;30m[INFO   ]\u001b[0m         multiqc : Report      : hl60-exp/scallop-multiqc.html\n",
      "\u001b[1;30m[INFO   ]\u001b[0m         multiqc : Data        : hl60-exp/scallop-multiqc_data\n",
      "\u001b[1;30m[INFO   ]\u001b[0m         multiqc : MultiQC complete\n"
     ]
    }
   ],
   "source": [
    "!multiqc hl60-exp/scallop/ -n hl60-exp/scallop-multiqc.html"
   ]
  }
 ],
 "metadata": {
  "kernelspec": {
   "display_name": "Python [conda env:alignment]",
   "language": "python",
   "name": "conda-env-alignment-py"
  },
  "language_info": {
   "codemirror_mode": {
    "name": "ipython",
    "version": 3
   },
   "file_extension": ".py",
   "mimetype": "text/x-python",
   "name": "python",
   "nbconvert_exporter": "python",
   "pygments_lexer": "ipython3",
   "version": "3.6.10"
  }
 },
 "nbformat": 4,
 "nbformat_minor": 4
}
