{
 "cells": [
  {
   "cell_type": "code",
   "execution_count": 2,
   "metadata": {},
   "outputs": [
    {
     "name": "stdout",
     "output_type": "stream",
     "text": [
      "\u001b[1;30m[INFO   ]\u001b[0m         multiqc : This is MultiQC v1.9\n",
      "\u001b[1;30m[INFO   ]\u001b[0m         multiqc : Template    : default\n",
      "\u001b[1;30m[INFO   ]\u001b[0m         multiqc : Searching   : /rumi/shams/abe/Gilbertlab/Decitabine_treatment/RNA-seq/other-fastq\n",
      "\u001b[1;30m[INFO   ]\u001b[0m         multiqc : Searching   : /rumi/shams/abe/Gilbertlab/Decitabine_treatment/RNA-seq/other-bam\n",
      "\u001b[1;30m[INFO   ]\u001b[0m         multiqc : Searching   : /rumi/shams/abe/Gilbertlab/Decitabine_treatment/RNA-seq/other-exp\n",
      "\u001b[?25lSearching 577 files..  [####################################]  100%          \u001b[?25h\n",
      "\u001b[1;30m[INFO   ]\u001b[0m          salmon : Found 30 meta reports\n",
      "\u001b[1;30m[INFO   ]\u001b[0m          salmon : Found 30 fragment length distributions\n",
      "\u001b[1;30m[INFO   ]\u001b[0m            star : Found 30 reports\n",
      "\u001b[1;30m[INFO   ]\u001b[0m          fastqc : Found 30 reports\n",
      "\u001b[1;30m[INFO   ]\u001b[0m         multiqc : Compressing plot data\n",
      "\u001b[1;30m[INFO   ]\u001b[0m         multiqc : Report      : other-multiqc.html\n",
      "\u001b[1;30m[INFO   ]\u001b[0m         multiqc : Data        : other-multiqc_data\n",
      "\u001b[1;30m[INFO   ]\u001b[0m         multiqc : MultiQC complete\n"
     ]
    }
   ],
   "source": [
    "!multiqc other-fastq other-bam other-exp -n other-multiqc.html"
   ]
  },
  {
   "cell_type": "markdown",
   "metadata": {},
   "source": [
    "# hl-60"
   ]
  },
  {
   "cell_type": "code",
   "execution_count": 7,
   "metadata": {},
   "outputs": [
    {
     "name": "stdout",
     "output_type": "stream",
     "text": [
      "\u001b[1;30m[INFO   ]\u001b[0m         multiqc : This is MultiQC v1.9\n",
      "\u001b[1;30m[INFO   ]\u001b[0m         multiqc : Template    : default\n",
      "\u001b[1;30m[INFO   ]\u001b[0m         multiqc : Searching   : /rumi/shams/abe/Gilbertlab/Decitabine_treatment/RNA-seq/hl60-fastq\n",
      "\u001b[1;30m[INFO   ]\u001b[0m         multiqc : Searching   : /rumi/shams/abe/Gilbertlab/Decitabine_treatment/RNA-seq/hl60-bam\n",
      "\u001b[1;30m[INFO   ]\u001b[0m         multiqc : Searching   : /rumi/shams/abe/Gilbertlab/Decitabine_treatment/RNA-seq/hl60-exp\n",
      "\u001b[?25lSearching 4981 files..  [####################################]  100%          \u001b[?25h\n",
      "\u001b[1;30m[INFO   ]\u001b[0m  feature_counts : Found 1 reports\n",
      "\u001b[1;30m[INFO   ]\u001b[0m          salmon : Found 12 meta reports\n",
      "\u001b[1;30m[INFO   ]\u001b[0m          salmon : Found 12 fragment length distributions\n",
      "\u001b[1;30m[INFO   ]\u001b[0m            star : Found 12 reports\n",
      "\u001b[1;30m[INFO   ]\u001b[0m          fastqc : Found 12 reports\n",
      "\u001b[1;30m[INFO   ]\u001b[0m         multiqc : Compressing plot data\n",
      "\u001b[1;30m[INFO   ]\u001b[0m         multiqc : Report      : hl60-multiqc.html\n",
      "\u001b[1;30m[INFO   ]\u001b[0m         multiqc : Data        : hl60-multiqc_data\n",
      "\u001b[1;30m[INFO   ]\u001b[0m         multiqc : MultiQC complete\n"
     ]
    }
   ],
   "source": [
    "!multiqc hl60-fastq hl60-bam hl60-exp -n hl60-multiqc.html"
   ]
  },
  {
   "cell_type": "code",
   "execution_count": 11,
   "metadata": {
    "scrolled": false
   },
   "outputs": [
    {
     "name": "stdout",
     "output_type": "stream",
     "text": [
      "\u001b[1;30m[INFO   ]\u001b[0m         multiqc : This is MultiQC v1.9\n",
      "\u001b[1;30m[INFO   ]\u001b[0m         multiqc : Template    : default\n",
      "\u001b[1;30m[INFO   ]\u001b[0m         multiqc : Searching   : /rumi/shams/abe/Gilbertlab/Decitabine_treatment/RNA-seq/hl60-stbl/counts/120h_DMSO_rep1_exons.ol.txt\n",
      "\u001b[1;30m[INFO   ]\u001b[0m         multiqc : Searching   : /rumi/shams/abe/Gilbertlab/Decitabine_treatment/RNA-seq/hl60-stbl/counts/120h_DMSO_rep1_exons.txt\n",
      "\u001b[1;30m[INFO   ]\u001b[0m         multiqc : Searching   : /rumi/shams/abe/Gilbertlab/Decitabine_treatment/RNA-seq/hl60-stbl/counts/120h_DMSO_rep1_exons.txt.summary\n",
      "\u001b[1;30m[INFO   ]\u001b[0m         multiqc : Searching   : /rumi/shams/abe/Gilbertlab/Decitabine_treatment/RNA-seq/hl60-stbl/counts/120h_DMSO_rep2_exons.ol.txt\n",
      "\u001b[1;30m[INFO   ]\u001b[0m         multiqc : Searching   : /rumi/shams/abe/Gilbertlab/Decitabine_treatment/RNA-seq/hl60-stbl/counts/120h_DMSO_rep2_exons.txt\n",
      "\u001b[1;30m[INFO   ]\u001b[0m         multiqc : Searching   : /rumi/shams/abe/Gilbertlab/Decitabine_treatment/RNA-seq/hl60-stbl/counts/120h_DMSO_rep2_exons.txt.summary\n",
      "\u001b[1;30m[INFO   ]\u001b[0m         multiqc : Searching   : /rumi/shams/abe/Gilbertlab/Decitabine_treatment/RNA-seq/hl60-stbl/counts/120h_treated_rep1_exons.ol.txt\n",
      "\u001b[1;30m[INFO   ]\u001b[0m         multiqc : Searching   : /rumi/shams/abe/Gilbertlab/Decitabine_treatment/RNA-seq/hl60-stbl/counts/120h_treated_rep1_exons.txt\n",
      "\u001b[1;30m[INFO   ]\u001b[0m         multiqc : Searching   : /rumi/shams/abe/Gilbertlab/Decitabine_treatment/RNA-seq/hl60-stbl/counts/120h_treated_rep1_exons.txt.summary\n",
      "\u001b[1;30m[INFO   ]\u001b[0m         multiqc : Searching   : /rumi/shams/abe/Gilbertlab/Decitabine_treatment/RNA-seq/hl60-stbl/counts/120h_treated_rep2_exons.ol.txt\n",
      "\u001b[1;30m[INFO   ]\u001b[0m         multiqc : Searching   : /rumi/shams/abe/Gilbertlab/Decitabine_treatment/RNA-seq/hl60-stbl/counts/120h_treated_rep2_exons.txt\n",
      "\u001b[1;30m[INFO   ]\u001b[0m         multiqc : Searching   : /rumi/shams/abe/Gilbertlab/Decitabine_treatment/RNA-seq/hl60-stbl/counts/120h_treated_rep2_exons.txt.summary\n",
      "\u001b[1;30m[INFO   ]\u001b[0m         multiqc : Searching   : /rumi/shams/abe/Gilbertlab/Decitabine_treatment/RNA-seq/hl60-stbl/counts/6h_DMSO_rep1_exons.ol.txt\n",
      "\u001b[1;30m[INFO   ]\u001b[0m         multiqc : Searching   : /rumi/shams/abe/Gilbertlab/Decitabine_treatment/RNA-seq/hl60-stbl/counts/6h_DMSO_rep1_exons.txt\n",
      "\u001b[1;30m[INFO   ]\u001b[0m         multiqc : Searching   : /rumi/shams/abe/Gilbertlab/Decitabine_treatment/RNA-seq/hl60-stbl/counts/6h_DMSO_rep1_exons.txt.summary\n",
      "\u001b[1;30m[INFO   ]\u001b[0m         multiqc : Searching   : /rumi/shams/abe/Gilbertlab/Decitabine_treatment/RNA-seq/hl60-stbl/counts/6h_DMSO_rep2_exons.ol.txt\n",
      "\u001b[1;30m[INFO   ]\u001b[0m         multiqc : Searching   : /rumi/shams/abe/Gilbertlab/Decitabine_treatment/RNA-seq/hl60-stbl/counts/6h_DMSO_rep2_exons.txt\n",
      "\u001b[1;30m[INFO   ]\u001b[0m         multiqc : Searching   : /rumi/shams/abe/Gilbertlab/Decitabine_treatment/RNA-seq/hl60-stbl/counts/6h_DMSO_rep2_exons.txt.summary\n",
      "\u001b[1;30m[INFO   ]\u001b[0m         multiqc : Searching   : /rumi/shams/abe/Gilbertlab/Decitabine_treatment/RNA-seq/hl60-stbl/counts/6h_treated_rep1_exons.ol.txt\n",
      "\u001b[1;30m[INFO   ]\u001b[0m         multiqc : Searching   : /rumi/shams/abe/Gilbertlab/Decitabine_treatment/RNA-seq/hl60-stbl/counts/6h_treated_rep1_exons.txt\n",
      "\u001b[1;30m[INFO   ]\u001b[0m         multiqc : Searching   : /rumi/shams/abe/Gilbertlab/Decitabine_treatment/RNA-seq/hl60-stbl/counts/6h_treated_rep1_exons.txt.summary\n",
      "\u001b[1;30m[INFO   ]\u001b[0m         multiqc : Searching   : /rumi/shams/abe/Gilbertlab/Decitabine_treatment/RNA-seq/hl60-stbl/counts/6h_treated_rep2_exons.ol.txt\n",
      "\u001b[1;30m[INFO   ]\u001b[0m         multiqc : Searching   : /rumi/shams/abe/Gilbertlab/Decitabine_treatment/RNA-seq/hl60-stbl/counts/6h_treated_rep2_exons.txt\n",
      "\u001b[1;30m[INFO   ]\u001b[0m         multiqc : Searching   : /rumi/shams/abe/Gilbertlab/Decitabine_treatment/RNA-seq/hl60-stbl/counts/6h_treated_rep2_exons.txt.summary\n",
      "\u001b[1;30m[INFO   ]\u001b[0m         multiqc : Searching   : /rumi/shams/abe/Gilbertlab/Decitabine_treatment/RNA-seq/hl60-stbl/counts/72h_DMSO_rep1_exons.ol.txt\n",
      "\u001b[1;30m[INFO   ]\u001b[0m         multiqc : Searching   : /rumi/shams/abe/Gilbertlab/Decitabine_treatment/RNA-seq/hl60-stbl/counts/72h_DMSO_rep1_exons.txt\n",
      "\u001b[1;30m[INFO   ]\u001b[0m         multiqc : Searching   : /rumi/shams/abe/Gilbertlab/Decitabine_treatment/RNA-seq/hl60-stbl/counts/72h_DMSO_rep1_exons.txt.summary\n",
      "\u001b[1;30m[INFO   ]\u001b[0m         multiqc : Searching   : /rumi/shams/abe/Gilbertlab/Decitabine_treatment/RNA-seq/hl60-stbl/counts/72h_DMSO_rep2_exons.ol.txt\n",
      "\u001b[1;30m[INFO   ]\u001b[0m         multiqc : Searching   : /rumi/shams/abe/Gilbertlab/Decitabine_treatment/RNA-seq/hl60-stbl/counts/72h_DMSO_rep2_exons.txt\n",
      "\u001b[1;30m[INFO   ]\u001b[0m         multiqc : Searching   : /rumi/shams/abe/Gilbertlab/Decitabine_treatment/RNA-seq/hl60-stbl/counts/72h_DMSO_rep2_exons.txt.summary\n",
      "\u001b[1;30m[INFO   ]\u001b[0m         multiqc : Searching   : /rumi/shams/abe/Gilbertlab/Decitabine_treatment/RNA-seq/hl60-stbl/counts/72h_treated_rep1_exons.ol.txt\n",
      "\u001b[1;30m[INFO   ]\u001b[0m         multiqc : Searching   : /rumi/shams/abe/Gilbertlab/Decitabine_treatment/RNA-seq/hl60-stbl/counts/72h_treated_rep1_exons.txt\n",
      "\u001b[1;30m[INFO   ]\u001b[0m         multiqc : Searching   : /rumi/shams/abe/Gilbertlab/Decitabine_treatment/RNA-seq/hl60-stbl/counts/72h_treated_rep1_exons.txt.summary\n",
      "\u001b[1;30m[INFO   ]\u001b[0m         multiqc : Searching   : /rumi/shams/abe/Gilbertlab/Decitabine_treatment/RNA-seq/hl60-stbl/counts/72h_treated_rep2_exons.ol.txt\n",
      "\u001b[1;30m[INFO   ]\u001b[0m         multiqc : Searching   : /rumi/shams/abe/Gilbertlab/Decitabine_treatment/RNA-seq/hl60-stbl/counts/72h_treated_rep2_exons.txt\n",
      "\u001b[1;30m[INFO   ]\u001b[0m         multiqc : Searching   : /rumi/shams/abe/Gilbertlab/Decitabine_treatment/RNA-seq/hl60-stbl/counts/72h_treated_rep2_exons.txt.summary\n",
      "\u001b[?25lSearching 36 files..  [####################################]  100%          \u001b[?25h\n",
      "\u001b[1;30m[INFO   ]\u001b[0m  feature_counts : Found 12 reports\n",
      "\u001b[1;30m[INFO   ]\u001b[0m         multiqc : Compressing plot data\n",
      "\u001b[1;30m[INFO   ]\u001b[0m         multiqc : Report      : hl60-stbl/counts-exons-multiqc.html\n",
      "\u001b[1;30m[INFO   ]\u001b[0m         multiqc : Data        : hl60-stbl/counts-exons-multiqc_data\n",
      "\u001b[1;30m[INFO   ]\u001b[0m         multiqc : MultiQC complete\n",
      "\u001b[1;30m[INFO   ]\u001b[0m         multiqc : This is MultiQC v1.9\n",
      "\u001b[1;30m[INFO   ]\u001b[0m         multiqc : Template    : default\n",
      "\u001b[1;30m[INFO   ]\u001b[0m         multiqc : Searching   : /rumi/shams/abe/Gilbertlab/Decitabine_treatment/RNA-seq/hl60-stbl/counts/120h_DMSO_rep1_Introns.ol.txt\n",
      "\u001b[1;30m[INFO   ]\u001b[0m         multiqc : Searching   : /rumi/shams/abe/Gilbertlab/Decitabine_treatment/RNA-seq/hl60-stbl/counts/120h_DMSO_rep1_Introns.txt\n",
      "\u001b[1;30m[INFO   ]\u001b[0m         multiqc : Searching   : /rumi/shams/abe/Gilbertlab/Decitabine_treatment/RNA-seq/hl60-stbl/counts/120h_DMSO_rep1_Introns.txt.summary\n",
      "\u001b[1;30m[INFO   ]\u001b[0m         multiqc : Searching   : /rumi/shams/abe/Gilbertlab/Decitabine_treatment/RNA-seq/hl60-stbl/counts/120h_DMSO_rep2_Introns.ol.txt\n",
      "\u001b[1;30m[INFO   ]\u001b[0m         multiqc : Searching   : /rumi/shams/abe/Gilbertlab/Decitabine_treatment/RNA-seq/hl60-stbl/counts/120h_DMSO_rep2_Introns.txt\n",
      "\u001b[1;30m[INFO   ]\u001b[0m         multiqc : Searching   : /rumi/shams/abe/Gilbertlab/Decitabine_treatment/RNA-seq/hl60-stbl/counts/120h_DMSO_rep2_Introns.txt.summary\n",
      "\u001b[1;30m[INFO   ]\u001b[0m         multiqc : Searching   : /rumi/shams/abe/Gilbertlab/Decitabine_treatment/RNA-seq/hl60-stbl/counts/120h_treated_rep1_Introns.ol.txt\n",
      "\u001b[1;30m[INFO   ]\u001b[0m         multiqc : Searching   : /rumi/shams/abe/Gilbertlab/Decitabine_treatment/RNA-seq/hl60-stbl/counts/120h_treated_rep1_Introns.txt\n",
      "\u001b[1;30m[INFO   ]\u001b[0m         multiqc : Searching   : /rumi/shams/abe/Gilbertlab/Decitabine_treatment/RNA-seq/hl60-stbl/counts/120h_treated_rep1_Introns.txt.summary\n",
      "\u001b[1;30m[INFO   ]\u001b[0m         multiqc : Searching   : /rumi/shams/abe/Gilbertlab/Decitabine_treatment/RNA-seq/hl60-stbl/counts/120h_treated_rep2_Introns.ol.txt\n",
      "\u001b[1;30m[INFO   ]\u001b[0m         multiqc : Searching   : /rumi/shams/abe/Gilbertlab/Decitabine_treatment/RNA-seq/hl60-stbl/counts/120h_treated_rep2_Introns.txt\n",
      "\u001b[1;30m[INFO   ]\u001b[0m         multiqc : Searching   : /rumi/shams/abe/Gilbertlab/Decitabine_treatment/RNA-seq/hl60-stbl/counts/120h_treated_rep2_Introns.txt.summary\n",
      "\u001b[1;30m[INFO   ]\u001b[0m         multiqc : Searching   : /rumi/shams/abe/Gilbertlab/Decitabine_treatment/RNA-seq/hl60-stbl/counts/6h_DMSO_rep1_Introns.ol.txt\n",
      "\u001b[1;30m[INFO   ]\u001b[0m         multiqc : Searching   : /rumi/shams/abe/Gilbertlab/Decitabine_treatment/RNA-seq/hl60-stbl/counts/6h_DMSO_rep1_Introns.txt\n",
      "\u001b[1;30m[INFO   ]\u001b[0m         multiqc : Searching   : /rumi/shams/abe/Gilbertlab/Decitabine_treatment/RNA-seq/hl60-stbl/counts/6h_DMSO_rep1_Introns.txt.summary\n",
      "\u001b[1;30m[INFO   ]\u001b[0m         multiqc : Searching   : /rumi/shams/abe/Gilbertlab/Decitabine_treatment/RNA-seq/hl60-stbl/counts/6h_DMSO_rep2_Introns.ol.txt\n",
      "\u001b[1;30m[INFO   ]\u001b[0m         multiqc : Searching   : /rumi/shams/abe/Gilbertlab/Decitabine_treatment/RNA-seq/hl60-stbl/counts/6h_DMSO_rep2_Introns.txt\n",
      "\u001b[1;30m[INFO   ]\u001b[0m         multiqc : Searching   : /rumi/shams/abe/Gilbertlab/Decitabine_treatment/RNA-seq/hl60-stbl/counts/6h_DMSO_rep2_Introns.txt.summary\n",
      "\u001b[1;30m[INFO   ]\u001b[0m         multiqc : Searching   : /rumi/shams/abe/Gilbertlab/Decitabine_treatment/RNA-seq/hl60-stbl/counts/6h_treated_rep1_Introns.ol.txt\n",
      "\u001b[1;30m[INFO   ]\u001b[0m         multiqc : Searching   : /rumi/shams/abe/Gilbertlab/Decitabine_treatment/RNA-seq/hl60-stbl/counts/6h_treated_rep1_Introns.txt\n",
      "\u001b[1;30m[INFO   ]\u001b[0m         multiqc : Searching   : /rumi/shams/abe/Gilbertlab/Decitabine_treatment/RNA-seq/hl60-stbl/counts/6h_treated_rep1_Introns.txt.summary\n",
      "\u001b[1;30m[INFO   ]\u001b[0m         multiqc : Searching   : /rumi/shams/abe/Gilbertlab/Decitabine_treatment/RNA-seq/hl60-stbl/counts/6h_treated_rep2_Introns.ol.txt\n",
      "\u001b[1;30m[INFO   ]\u001b[0m         multiqc : Searching   : /rumi/shams/abe/Gilbertlab/Decitabine_treatment/RNA-seq/hl60-stbl/counts/6h_treated_rep2_Introns.txt\n",
      "\u001b[1;30m[INFO   ]\u001b[0m         multiqc : Searching   : /rumi/shams/abe/Gilbertlab/Decitabine_treatment/RNA-seq/hl60-stbl/counts/6h_treated_rep2_Introns.txt.summary\n",
      "\u001b[1;30m[INFO   ]\u001b[0m         multiqc : Searching   : /rumi/shams/abe/Gilbertlab/Decitabine_treatment/RNA-seq/hl60-stbl/counts/72h_DMSO_rep1_Introns.ol.txt\n",
      "\u001b[1;30m[INFO   ]\u001b[0m         multiqc : Searching   : /rumi/shams/abe/Gilbertlab/Decitabine_treatment/RNA-seq/hl60-stbl/counts/72h_DMSO_rep1_Introns.txt\n",
      "\u001b[1;30m[INFO   ]\u001b[0m         multiqc : Searching   : /rumi/shams/abe/Gilbertlab/Decitabine_treatment/RNA-seq/hl60-stbl/counts/72h_DMSO_rep1_Introns.txt.summary\n",
      "\u001b[1;30m[INFO   ]\u001b[0m         multiqc : Searching   : /rumi/shams/abe/Gilbertlab/Decitabine_treatment/RNA-seq/hl60-stbl/counts/72h_DMSO_rep2_Introns.ol.txt\n",
      "\u001b[1;30m[INFO   ]\u001b[0m         multiqc : Searching   : /rumi/shams/abe/Gilbertlab/Decitabine_treatment/RNA-seq/hl60-stbl/counts/72h_DMSO_rep2_Introns.txt\n",
      "\u001b[1;30m[INFO   ]\u001b[0m         multiqc : Searching   : /rumi/shams/abe/Gilbertlab/Decitabine_treatment/RNA-seq/hl60-stbl/counts/72h_DMSO_rep2_Introns.txt.summary\n",
      "\u001b[1;30m[INFO   ]\u001b[0m         multiqc : Searching   : /rumi/shams/abe/Gilbertlab/Decitabine_treatment/RNA-seq/hl60-stbl/counts/72h_treated_rep1_Introns.ol.txt\n",
      "\u001b[1;30m[INFO   ]\u001b[0m         multiqc : Searching   : /rumi/shams/abe/Gilbertlab/Decitabine_treatment/RNA-seq/hl60-stbl/counts/72h_treated_rep1_Introns.txt\n",
      "\u001b[1;30m[INFO   ]\u001b[0m         multiqc : Searching   : /rumi/shams/abe/Gilbertlab/Decitabine_treatment/RNA-seq/hl60-stbl/counts/72h_treated_rep1_Introns.txt.summary\n",
      "\u001b[1;30m[INFO   ]\u001b[0m         multiqc : Searching   : /rumi/shams/abe/Gilbertlab/Decitabine_treatment/RNA-seq/hl60-stbl/counts/72h_treated_rep2_Introns.ol.txt\n",
      "\u001b[1;30m[INFO   ]\u001b[0m         multiqc : Searching   : /rumi/shams/abe/Gilbertlab/Decitabine_treatment/RNA-seq/hl60-stbl/counts/72h_treated_rep2_Introns.txt\n",
      "\u001b[1;30m[INFO   ]\u001b[0m         multiqc : Searching   : /rumi/shams/abe/Gilbertlab/Decitabine_treatment/RNA-seq/hl60-stbl/counts/72h_treated_rep2_Introns.txt.summary\n"
     ]
    },
    {
     "name": "stdout",
     "output_type": "stream",
     "text": [
      "\u001b[?25lSearching 36 files..  [####################################]  100%          \u001b[?25h\n",
      "\u001b[1;30m[INFO   ]\u001b[0m  feature_counts : Found 12 reports\n",
      "\u001b[1;30m[INFO   ]\u001b[0m         multiqc : Compressing plot data\n",
      "\u001b[1;30m[INFO   ]\u001b[0m         multiqc : Report      : hl60-stbl/counts-introns-multiqc.html\n",
      "\u001b[1;30m[INFO   ]\u001b[0m         multiqc : Data        : hl60-stbl/counts-introns-multiqc_data\n",
      "\u001b[1;30m[INFO   ]\u001b[0m         multiqc : MultiQC complete\n"
     ]
    }
   ],
   "source": [
    "!multiqc hl60-stbl/counts/*_exons* -n hl60-stbl/counts-exons-multiqc.html\n",
    "!multiqc hl60-stbl/counts/*_Introns* -n hl60-stbl/counts-introns-multiqc.html"
   ]
  },
  {
   "cell_type": "code",
   "execution_count": 12,
   "metadata": {},
   "outputs": [
    {
     "name": "stdout",
     "output_type": "stream",
     "text": [
      "\u001b[1;30m[INFO   ]\u001b[0m         multiqc : This is MultiQC v1.9\n",
      "\u001b[1;30m[INFO   ]\u001b[0m         multiqc : Template    : default\n",
      "\u001b[1;30m[INFO   ]\u001b[0m         multiqc : Searching   : /rumi/shams/abe/Gilbertlab/Decitabine_treatment/RNA-seq/hl60-exp/scallop\n",
      "\u001b[?25lSearching 340 files..  [####################################]  100%          \u001b[?25h\n",
      "\u001b[1;30m[INFO   ]\u001b[0m          salmon : Found 12 meta reports\n",
      "\u001b[1;30m[INFO   ]\u001b[0m          salmon : Found 12 fragment length distributions\n",
      "\u001b[1;30m[INFO   ]\u001b[0m         multiqc : Compressing plot data\n",
      "\u001b[1;30m[INFO   ]\u001b[0m         multiqc : Report      : hl60-exp/scallop-multiqc.html\n",
      "\u001b[1;30m[INFO   ]\u001b[0m         multiqc : Data        : hl60-exp/scallop-multiqc_data\n",
      "\u001b[1;30m[INFO   ]\u001b[0m         multiqc : MultiQC complete\n"
     ]
    }
   ],
   "source": [
    "!multiqc hl60-exp/scallop/ -n hl60-exp/scallop-multiqc.html"
   ]
  }
 ],
 "metadata": {
  "kernelspec": {
   "display_name": "Python [conda env:alignment]",
   "language": "python",
   "name": "conda-env-alignment-py"
  },
  "language_info": {
   "codemirror_mode": {
    "name": "ipython",
    "version": 3
   },
   "file_extension": ".py",
   "mimetype": "text/x-python",
   "name": "python",
   "nbconvert_exporter": "python",
   "pygments_lexer": "ipython3",
   "version": "3.6.10"
  }
 },
 "nbformat": 4,
 "nbformat_minor": 4
}
