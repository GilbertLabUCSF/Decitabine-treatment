{
 "cells": [
  {
   "cell_type": "markdown",
   "metadata": {},
   "source": [
    "## Decitabine treatment RNA-Seq time-series experiments\n",
    "In order to test for any differences over multiple time points, once can use a design including the time factor, and then test using the **likelihood ratio test (LRT)**. Here, as we have control (DMSO) and treatment (Decitabine) time series, design formula containing the condition factor, the time factor, and the interaction of the two. In this case, using the likelihood ratio test with a reduced model which does not contain the interaction terms will test whether the condition induces a change in gene expression at any time point after the reference level time point (time 0). \n",
    "\n",
    "(see [this](http://bioconductor.org/packages/devel/bioc/vignettes/DESeq2/inst/doc/DESeq2.html#time-series-experiments)  OR [this](http://master.bioconductor.org/packages/release/workflows/vignettes/rnaseqGene/inst/doc/rnaseqGene.html#time-course-experiments) for more details about DESeq2 time series experiments)\n"
   ]
  },
  {
   "cell_type": "code",
   "execution_count": 2,
   "metadata": {},
   "outputs": [],
   "source": [
    "%reload_ext rpy2.ipython"
   ]
  },
  {
   "cell_type": "code",
   "execution_count": 3,
   "metadata": {},
   "outputs": [],
   "source": [
    "%%R \n",
    "suppressMessages(suppressWarnings(library (GenomicFeatures)))\n",
    "suppressMessages(suppressWarnings(library (tximport)))\n",
    "suppressMessages(suppressWarnings(library (tidyverse)))\n",
    "suppressMessages(suppressWarnings(library (ggplot2)))\n",
    "suppressMessages(suppressWarnings(library (ggrepel)))\n",
    "suppressMessages(suppressWarnings(library (DESeq2)))\n",
    "suppressMessages(suppressWarnings(library (patchwork)))\n",
    "suppressMessages(suppressWarnings(library (BiocParallel)))\n",
    "\n",
    "register(MulticoreParam(18))\n",
    "\n",
    "plot_Save <- function (p, name_it){\n",
    "    ggsave(paste(name_it,'png',sep='.'), plot = p, device = 'png', dpi = 300)\n",
    "    ggsave(paste(name_it,'pdf',sep='.'), plot = p, device = 'pdf', dpi = 300)\n",
    "}"
   ]
  },
  {
   "cell_type": "markdown",
   "metadata": {},
   "source": [
    "## Pre-processing "
   ]
  },
  {
   "cell_type": "markdown",
   "metadata": {},
   "source": [
    "I'm mapping `hg38/gencode.v34` to the `fastq` files using salmon. \n",
    "\n",
    "Raw samples:"
   ]
  },
  {
   "cell_type": "code",
   "execution_count": 4,
   "metadata": {},
   "outputs": [
    {
     "name": "stdout",
     "output_type": "stream",
     "text": [
      "\u001b[0m\u001b[01;32m../hl60-fastq/120h_DMSO_rep1.fastq.gz\u001b[0m*\r\n",
      "\u001b[01;32m../hl60-fastq/120h_DMSO_rep2.fastq.gz\u001b[0m*\r\n",
      "\u001b[01;32m../hl60-fastq/120h_treated_rep1.fastq.gz\u001b[0m*\r\n",
      "\u001b[01;32m../hl60-fastq/120h_treated_rep2.fastq.gz\u001b[0m*\r\n",
      "\u001b[01;32m../hl60-fastq/6h_DMSO_rep1.fastq.gz\u001b[0m*\r\n",
      "\u001b[01;32m../hl60-fastq/6h_DMSO_rep2.fastq.gz\u001b[0m*\r\n",
      "\u001b[01;32m../hl60-fastq/6h_treated_rep1.fastq.gz\u001b[0m*\r\n",
      "\u001b[01;32m../hl60-fastq/6h_treated_rep2.fastq.gz\u001b[0m*\r\n",
      "\u001b[01;32m../hl60-fastq/72h_DMSO_rep1.fastq.gz\u001b[0m*\r\n",
      "\u001b[01;32m../hl60-fastq/72h_DMSO_rep2.fastq.gz\u001b[0m*\r\n",
      "\u001b[01;32m../hl60-fastq/72h_treated_rep1.fastq.gz\u001b[0m*\r\n",
      "\u001b[01;32m../hl60-fastq/72h_treated_rep2.fastq.gz\u001b[0m*\r\n"
     ]
    }
   ],
   "source": [
    "ls ../hl60-fastq/*fastq.gz"
   ]
  },
  {
   "cell_type": "markdown",
   "metadata": {},
   "source": [
    "Alignment script:"
   ]
  },
  {
   "cell_type": "code",
   "execution_count": 5,
   "metadata": {},
   "outputs": [
    {
     "name": "stdout",
     "output_type": "stream",
     "text": [
      "cat: ../salmon.sh: No such file or directory\r\n"
     ]
    }
   ],
   "source": [
    "cat ../salmon.sh"
   ]
  },
  {
   "cell_type": "code",
   "execution_count": 6,
   "metadata": {
    "scrolled": false
   },
   "outputs": [],
   "source": [
    "# %%bash \n",
    "# nohup bash ~/Workflows/my_scripts/salmon.sh \\\n",
    "# ~/Gilbertlab/Decitabine_treatment/RNA-seq/hl60-exp \\\n",
    "# ~/Gilbertlab/Decitabine_treatment/RNA-seq/hl60-fastq \\\n",
    "# ~/genomes/hg38/gencode.v34/salmon_index/ > hl60-salmon.out&"
   ]
  },
  {
   "cell_type": "markdown",
   "metadata": {},
   "source": [
    "Load annotations"
   ]
  },
  {
   "cell_type": "code",
   "execution_count": 7,
   "metadata": {},
   "outputs": [
    {
     "name": "stderr",
     "output_type": "stream",
     "text": [
      "R[write to console]: Import genomic features from the file as a GRanges object ... \n",
      "R[write to console]: OK\n",
      "\n",
      "R[write to console]: Prepare the 'metadata' data frame ... \n",
      "R[write to console]: OK\n",
      "\n",
      "R[write to console]: Make the TxDb object ... \n",
      "R[write to console]: OK\n",
      "\n",
      "R[write to console]: 'select()' returned 1:1 mapping between keys and columns\n",
      "\n"
     ]
    }
   ],
   "source": [
    "%%R\n",
    "GTF = '/rumi/shams/abe/genomes/hg38/gencode.v34/gencode.v34.annotation.gtf'\n",
    "gtf <- rtracklayer::import(GTF)\n",
    "gene2name <- gtf[gtf$type == \"gene\"] %>% data.frame %>% column_to_rownames('gene_id') %>% dplyr::select('gene_name')\n",
    "\n",
    "txdb  = makeTxDbFromGFF(GTF,organism='Homo sapiens')\n",
    "# tx2gene objects \n",
    "k <- keys(txdb, keytype = \"TXNAME\")\n",
    "tx2gene <- AnnotationDbi::select(txdb, k, \"GENEID\", \"TXNAME\")"
   ]
  },
  {
   "cell_type": "code",
   "execution_count": 8,
   "metadata": {},
   "outputs": [],
   "source": [
    "%%R \n",
    "tx2name <- gtf[gtf$type == \"transcript\"] %>% data.frame %>% column_to_rownames('transcript_id') %>% dplyr::select('transcript_name')"
   ]
  },
  {
   "cell_type": "markdown",
   "metadata": {},
   "source": [
    "import salmon quants:"
   ]
  },
  {
   "cell_type": "code",
   "execution_count": 9,
   "metadata": {},
   "outputs": [
    {
     "name": "stderr",
     "output_type": "stream",
     "text": [
      "R[write to console]: reading in files with read_tsv\n",
      "\n",
      "R[write to console]: 1 \n",
      "R[write to console]: 2 \n",
      "R[write to console]: 3 \n",
      "R[write to console]: 4 \n",
      "R[write to console]: 5 \n",
      "R[write to console]: 6 \n",
      "R[write to console]: 7 \n",
      "R[write to console]: 8 \n",
      "R[write to console]: 9 \n",
      "R[write to console]: 10 \n",
      "R[write to console]: 11 \n",
      "R[write to console]: 12 \n",
      "R[write to console]: \n",
      "\n",
      "R[write to console]: summarizing abundance\n",
      "\n",
      "R[write to console]: summarizing counts\n",
      "\n",
      "R[write to console]: summarizing length\n",
      "\n"
     ]
    }
   ],
   "source": [
    "%%R\n",
    "files <- list.files(path='./quants', pattern=\"quant.sf\",full.names = TRUE, recursive=T)\n",
    "names(files) <- gsub(\"./quants/(\\\\S+)/quant.sf\",\"\\\\1\",files)\n",
    "\n",
    "txi <- tximport(files, type = \"salmon\", tx2gene = tx2gene, txOut=T)\n",
    "\n",
    "txi.gene <- summarizeToGene(txi, tx2gene, ignoreAfterBar= TRUE)"
   ]
  },
  {
   "cell_type": "markdown",
   "metadata": {},
   "source": [
    "Define the sample sheet"
   ]
  },
  {
   "cell_type": "code",
   "execution_count": 10,
   "metadata": {},
   "outputs": [
    {
     "name": "stdout",
     "output_type": "stream",
     "text": [
      "                  time    cond         sample_id\n",
      "120h_DMSO_rep1    120h    DMSO    120h_DMSO_rep1\n",
      "120h_DMSO_rep2    120h    DMSO    120h_DMSO_rep2\n",
      "120h_treated_rep1 120h treated 120h_treated_rep1\n",
      "120h_treated_rep2 120h treated 120h_treated_rep2\n",
      "6h_DMSO_rep1        6h    DMSO      6h_DMSO_rep1\n",
      "6h_DMSO_rep2        6h    DMSO      6h_DMSO_rep2\n",
      "6h_treated_rep1     6h treated   6h_treated_rep1\n",
      "6h_treated_rep2     6h treated   6h_treated_rep2\n",
      "72h_DMSO_rep1      72h    DMSO     72h_DMSO_rep1\n",
      "72h_DMSO_rep2      72h    DMSO     72h_DMSO_rep2\n",
      "72h_treated_rep1   72h treated  72h_treated_rep1\n",
      "72h_treated_rep2   72h treated  72h_treated_rep2\n"
     ]
    }
   ],
   "source": [
    "%%R \n",
    "# meta \n",
    "treats  <- rep(c(rep('DMSO',2), rep('treated',2)),3)\n",
    "reps    <- rep(c('rep1','rep2'),6)\n",
    "hours   <- c(rep('120h',4),rep('6h',4),rep('72h',4))\n",
    "colData <- data.frame(\n",
    "    time=hours, \n",
    "    cond=treats, \n",
    "    sample_id=paste(hours, treats, reps, sep='_'),\n",
    "    row.names=colnames(txi$abundance)\n",
    ")\n",
    "colData"
   ]
  },
  {
   "cell_type": "markdown",
   "metadata": {},
   "source": [
    "## PCA\n",
    "Initial principal component analysis (PCA) shows the second treated biological replicate at 72h time point, behaves as an outlier. Removing that from the analysis give us a better representation of our dataset. In the second PCA plot, we can see that treated samples at 6h cluster with the non-treated samples which suggest that 6 hours treatment with the drug is not as effective as 72h and 120h. Although, we will check the variant genes in this time-point in the following statistical analysis.\n"
   ]
  },
  {
   "cell_type": "code",
   "execution_count": 11,
   "metadata": {},
   "outputs": [],
   "source": [
    "%%R\n",
    "plot_PCA <- function(vsd, colData=colData, gr=c('time', 'cond'), title=''){\n",
    "    z <- plotPCA(vsd,intgroup=gr, returnData=TRUE)\n",
    "    percentVar <- round(100 * attr(z, \"percentVar\"))\n",
    "    pca <- ggplot(z, aes(PC1, PC2)) +\n",
    "            geom_point(aes(size = 2,  shape=group), alpha = 4/10) +\n",
    "            geom_text_repel(aes(label = row.names(colData)),size = 3.5) +\n",
    "            xlab(paste0(\"PC1: \",percentVar[1],\"% variance\")) +\n",
    "            ylab(paste0(\"PC2: \",percentVar[2],\"% variance\")) +\n",
    "            guides (size = FALSE) +\n",
    "            ggtitle (title)+ \n",
    "            theme(legend.position=\"none\")\n",
    "    return (pca)\n",
    "}"
   ]
  },
  {
   "cell_type": "code",
   "execution_count": 12,
   "metadata": {},
   "outputs": [
    {
     "name": "stderr",
     "output_type": "stream",
     "text": [
      "R[write to console]: using counts and average transcript lengths from tximport\n",
      "\n"
     ]
    },
    {
     "name": "stdout",
     "output_type": "stream",
     "text": [
      "[1] 60240\n"
     ]
    }
   ],
   "source": [
    "%%R \n",
    "dds0 <- DESeqDataSetFromTximport(txi.gene, colData, ~cond + time )\n",
    "nrow(dds0)"
   ]
  },
  {
   "cell_type": "code",
   "execution_count": 13,
   "metadata": {},
   "outputs": [
    {
     "name": "stderr",
     "output_type": "stream",
     "text": [
      "R[write to console]: estimating size factors\n",
      "\n",
      "R[write to console]: using 'avgTxLength' from assays(dds), correcting for library size\n",
      "\n",
      "R[write to console]: estimating dispersions\n",
      "\n",
      "R[write to console]: gene-wise dispersion estimates: 18 workers\n",
      "\n",
      "R[write to console]: mean-dispersion relationship\n",
      "\n",
      "R[write to console]: final dispersion estimates, fitting model and testing: 18 workers\n",
      "\n"
     ]
    },
    {
     "data": {
      "image/png": "[encoded data removed]"
     },
     "metadata": {},
     "output_type": "display_data"
    }
   ],
   "source": [
    "%%R \n",
    "dds.pca <- DESeq(dds0, parallel=TRUE)\n",
    "# results \n",
    "vsd <- varianceStabilizingTransformation(dds.pca)\n",
    "\n",
    "pca = plot_PCA(vsd, colData)\n",
    "pca"
   ]
  },
  {
   "cell_type": "code",
   "execution_count": 14,
   "metadata": {},
   "outputs": [
    {
     "name": "stderr",
     "output_type": "stream",
     "text": [
      "R[write to console]: Saving 6.67 x 6.67 in image\n",
      "\n",
      "R[write to console]: Saving 6.67 x 6.67 in image\n",
      "\n"
     ]
    }
   ],
   "source": [
    "%%R\n",
    "plot_Save(pca,'plots/PCA_raw')"
   ]
  },
  {
   "cell_type": "code",
   "execution_count": 15,
   "metadata": {
    "scrolled": false
   },
   "outputs": [
    {
     "data": {
      "image/png": "[encoded data removed]"
     },
     "metadata": {},
     "output_type": "display_data"
    }
   ],
   "source": [
    "%%R\n",
    "par(mar=c(15,5,1,1))\n",
    "boxplot(log10(assays(dds.pca)[[\"cooks\"]]), range=0, las=2)"
   ]
  },
  {
   "cell_type": "markdown",
   "metadata": {},
   "source": [
    "Filter non-informative genes and outlier sample:"
   ]
  },
  {
   "cell_type": "code",
   "execution_count": 16,
   "metadata": {},
   "outputs": [
    {
     "name": "stderr",
     "output_type": "stream",
     "text": [
      "R[write to console]: estimating size factors\n",
      "\n",
      "R[write to console]: using 'avgTxLength' from assays(dds), correcting for library size\n",
      "\n",
      "R[write to console]: estimating dispersions\n",
      "\n",
      "R[write to console]: gene-wise dispersion estimates\n",
      "\n",
      "R[write to console]: mean-dispersion relationship\n",
      "\n",
      "R[write to console]: final dispersion estimates\n",
      "\n",
      "R[write to console]: fitting model and testing\n",
      "\n"
     ]
    },
    {
     "name": "stdout",
     "output_type": "stream",
     "text": [
      "[1] 12309\n"
     ]
    }
   ],
   "source": [
    "%%R \n",
    "# all samples with a count of higher than 10\n",
    "keep <- rowSums(counts(dds0) > 10) == ncol(dds0)\n",
    "# at least 3 samples with a count of 10 or higher\n",
    "# keep <- rowSums(counts(dds) >= 10) >= 3\n",
    "\n",
    "dds1 <- dds0[keep,-12]\n",
    "dds1 <- DESeq(dds1) #, parallel=TRUE)\n",
    "nrow(dds1)"
   ]
  },
  {
   "cell_type": "code",
   "execution_count": 17,
   "metadata": {},
   "outputs": [],
   "source": [
    "%%R\n",
    "# results \n",
    "vsd <- varianceStabilizingTransformation(dds1)\n",
    "p = plot_PCA(vsd, colData[-12,], title='Remove sample `72h_treated_rep2`')"
   ]
  },
  {
   "cell_type": "markdown",
   "metadata": {},
   "source": [
    "Create seprate PCAs"
   ]
  },
  {
   "cell_type": "code",
   "execution_count": 18,
   "metadata": {},
   "outputs": [
    {
     "name": "stderr",
     "output_type": "stream",
     "text": [
      "R[write to console]: using counts and average transcript lengths from tximport\n",
      "\n",
      "R[write to console]: estimating size factors\n",
      "\n",
      "R[write to console]: using 'avgTxLength' from assays(dds), correcting for library size\n",
      "\n",
      "R[write to console]: estimating dispersions\n",
      "\n",
      "R[write to console]: gene-wise dispersion estimates\n",
      "\n",
      "R[write to console]: mean-dispersion relationship\n",
      "\n",
      "R[write to console]: -- note: fitType='parametric', but the dispersion trend was not well captured by the\n",
      "   function: y = a/x + b, and a local regression fit was automatically substituted.\n",
      "   specify fitType='local' or 'mean' to avoid this message next time.\n",
      "\n",
      "R[write to console]: final dispersion estimates\n",
      "\n",
      "R[write to console]: fitting model and testing\n",
      "\n",
      "R[write to console]: estimating size factors\n",
      "\n",
      "R[write to console]: using 'avgTxLength' from assays(dds), correcting for library size\n",
      "\n",
      "R[write to console]: estimating dispersions\n",
      "\n",
      "R[write to console]: gene-wise dispersion estimates\n",
      "\n",
      "R[write to console]: mean-dispersion relationship\n",
      "\n",
      "R[write to console]: -- note: fitType='parametric', but the dispersion trend was not well captured by the\n",
      "   function: y = a/x + b, and a local regression fit was automatically substituted.\n",
      "   specify fitType='local' or 'mean' to avoid this message next time.\n",
      "\n",
      "R[write to console]: final dispersion estimates\n",
      "\n",
      "R[write to console]: fitting model and testing\n",
      "\n"
     ]
    }
   ],
   "source": [
    "%%R \n",
    "dds1 <- DESeqDataSetFromTximport(txi, colData, ~time)\n",
    "\n",
    "U = grep('DMSO',    colnames(dds0), value=1)\n",
    "T = grep('treated', colnames(dds0), value=1)[-6]\n",
    "\n",
    "# subset\n",
    "dds.U = dds1[keep, U]\n",
    "# make object for the PCA\n",
    "dds.pcaU <- DESeq(dds.U) #, parallel=TRUE)\n",
    "vsd.U <- varianceStabilizingTransformation(dds.pcaU)\n",
    "# plot it \n",
    "p.U = plot_PCA(vsd.U, colData[U,], gr=c('time'), title='Non-treated')\n",
    "\n",
    "\n",
    "# subset\n",
    "dds.T = dds1[keep, T]\n",
    "# make object for the PCA\n",
    "dds.pcaT <- DESeq(dds.T) #, parallel=TRUE)\n",
    "vsd.T <- varianceStabilizingTransformation(dds.pcaT)\n",
    "# plot it \n",
    "p.T = plot_PCA(vsd.T, colData[T,], gr=c('time'), title='Treated')"
   ]
  },
  {
   "cell_type": "code",
   "execution_count": 19,
   "metadata": {},
   "outputs": [
    {
     "data": {
      "image/png": "[encoded data removed]"
     },
     "metadata": {},
     "output_type": "display_data"
    }
   ],
   "source": [
    "%%R\n",
    "p / (p.U + p.T) "
   ]
  },
  {
   "cell_type": "code",
   "execution_count": 20,
   "metadata": {},
   "outputs": [
    {
     "name": "stderr",
     "output_type": "stream",
     "text": [
      "R[write to console]: Saving 6.67 x 6.67 in image\n",
      "\n",
      "R[write to console]: Saving 6.67 x 6.67 in image\n",
      "\n"
     ]
    }
   ],
   "source": [
    "%%R\n",
    "plot_Save(p / (p.U + p.T), 'plots/PCA_filtered')"
   ]
  },
  {
   "cell_type": "code",
   "execution_count": 21,
   "metadata": {},
   "outputs": [],
   "source": [
    "# %%bash\n",
    "# echo '## PCA' >> README.md\n",
    "# echo '<img src=plots/plots/PCA_filtered.png style=\"width:600px\">' >> README.md"
   ]
  },
  {
   "cell_type": "markdown",
   "metadata": {},
   "source": [
    "# Differential expression analysis\n",
    "I'm doing differential expression analysis for treated samples vs. untreated at 6h, 72h and 120h. "
   ]
  },
  {
   "cell_type": "code",
   "execution_count": 52,
   "metadata": {},
   "outputs": [],
   "source": [
    "%%R\n",
    "plot_Volcano <- function(res, lfc.cutoff  = 1,pval.cutoff = 0.05, title='', x_min=-20,x_max=20){\n",
    "    res$sig <- as.factor(res$pvalue < pval.cutoff & abs(res$log2FoldChange) > lfc.cutoff)\n",
    "    relevel(res$sig, ref=TRUE)\n",
    "    vol = res %>% ggplot(\n",
    "        aes(x=log2FoldChange, y=-log10(pvalue), colour=sig, fill=sig)) +\n",
    "        geom_point(aes(color = sig),alpha = 1/10) +\n",
    "            xlim(c(x_min,x_max)) +\n",
    "    #         ylim(c(0,11)) +\n",
    "            geom_hline(yintercept=-log10(pval.cutoff), linetype=\"dashed\", alpha = 4/10) +\n",
    "            geom_vline(xintercept=lfc.cutoff, linetype=\"dashed\", alpha = 4/10) +\n",
    "            geom_vline(xintercept=(-1)*lfc.cutoff, linetype=\"dashed\", alpha = 4/10) +\n",
    "            scale_color_manual(values = c(\"grey\", \"red\")) +\n",
    "            theme_bw() + \n",
    "            theme(legend.position=\"none\") +\n",
    "            ggtitle (title) + \n",
    "            geom_text_repel(\n",
    "                data = subset(res[order(res$pvalue),], sig == TRUE)[1:7,],\n",
    "                aes(label = name),\n",
    "                size = 3,\n",
    "                box.padding = unit(0.35, \"lines\"),\n",
    "                point.padding = unit(0.3, \"lines\")\n",
    "            )\n",
    "     return (vol)\n",
    "} \n",
    "\n",
    "write_Result <- function(res, name_it, col=FALSE, row=FALSE){\n",
    "    write.table(res,name_it, sep=\"\\t\", quote=FALSE, col.names=col, row.names=row)\n",
    "}"
   ]
  },
  {
   "cell_type": "code",
   "execution_count": 59,
   "metadata": {},
   "outputs": [],
   "source": [
    "%%R\n",
    "ann_Result <- function(res){\n",
    "    return (\n",
    "        res %>% data.frame %>% \n",
    "        add_column(name=gene2name[rownames(res),]) %>%\n",
    "        add_column(ensembl=rownames(res) %>% substr(0, 15))\n",
    "    )\n",
    "}"
   ]
  },
  {
   "cell_type": "code",
   "execution_count": 23,
   "metadata": {},
   "outputs": [],
   "source": [
    "%%R\n",
    "plot_gene_counts <- function (dds, gene_id,gene_name){\n",
    "    fiss <- plotCounts(dds, gene_id, \n",
    "                       intgroup = c(\"cond\",'time'), returnData = TRUE)\n",
    "    fiss$time <- as.character(fiss$time)\n",
    "    p <- ggplot(fiss,\n",
    "      aes(x = cond, y = count, color = time, group = time)) + \n",
    "      geom_point() + stat_summary(fun.y=mean, geom=\"line\") +\n",
    "      scale_y_log10() + \n",
    "      theme_bw() + \n",
    "      ggtitle(gene_name)\n",
    "    \n",
    "    return (p)\n",
    "}"
   ]
  },
  {
   "cell_type": "markdown",
   "metadata": {},
   "source": [
    "### First scenario\n",
    "Time included as factor variable. \n",
    "\n",
    "We make two different `dds` object one with with no `cond:time` interaction term and the other one with the interaction term (**ANOVA-like comparison**). \n",
    "\n",
    "<!-- Then, I'm replacing results from first object to the secound one for genes with adjust p-values (padj) > 0.05. Hossien Asgharian told me these genes has more accurate estimation from the model with no interaction term.  -->\n",
    "\n",
    "https://bioconductor.org/packages/release/workflows/vignettes/RNAseq123/inst/doc/designmatrices.html#design-matrices-with-and-without-intercept-term"
   ]
  },
  {
   "cell_type": "code",
   "execution_count": 84,
   "metadata": {},
   "outputs": [
    {
     "name": "stdout",
     "output_type": "stream",
     "text": [
      "[1] \"DMSO\"    \"treated\"\n"
     ]
    }
   ],
   "source": [
    "%%R \n",
    "levels(colData$cond)"
   ]
  },
  {
   "cell_type": "code",
   "execution_count": 158,
   "metadata": {},
   "outputs": [
    {
     "name": "stdout",
     "output_type": "stream",
     "text": [
      "                  condDMSO condtreated time6h time72h condtreated:time6h\n",
      "120h_DMSO_rep1           1           0      0       0                  0\n",
      "120h_DMSO_rep2           1           0      0       0                  0\n",
      "120h_treated_rep1        0           1      0       0                  0\n",
      "120h_treated_rep2        0           1      0       0                  0\n",
      "6h_DMSO_rep1             1           0      1       0                  0\n",
      "6h_DMSO_rep2             1           0      1       0                  0\n",
      "6h_treated_rep1          0           1      1       0                  1\n",
      "6h_treated_rep2          0           1      1       0                  1\n",
      "72h_DMSO_rep1            1           0      0       1                  0\n",
      "72h_DMSO_rep2            1           0      0       1                  0\n",
      "72h_treated_rep1         0           1      0       1                  0\n",
      "72h_treated_rep2         0           1      0       1                  0\n",
      "                  condtreated:time72h\n",
      "120h_DMSO_rep1                      0\n",
      "120h_DMSO_rep2                      0\n",
      "120h_treated_rep1                   0\n",
      "120h_treated_rep2                   0\n",
      "6h_DMSO_rep1                        0\n",
      "6h_DMSO_rep2                        0\n",
      "6h_treated_rep1                     0\n",
      "6h_treated_rep2                     0\n",
      "72h_DMSO_rep1                       0\n",
      "72h_DMSO_rep2                       0\n",
      "72h_treated_rep1                    1\n",
      "72h_treated_rep2                    1\n",
      "attr(,\"assign\")\n",
      "[1] 1 1 2 2 3 3\n",
      "attr(,\"contrasts\")\n",
      "attr(,\"contrasts\")$cond\n",
      "[1] \"contr.treatment\"\n",
      "\n",
      "attr(,\"contrasts\")$time\n",
      "[1] \"contr.treatment\"\n",
      "\n"
     ]
    }
   ],
   "source": [
    "%%R \n",
    "model.matrix(~0+cond*time, colData)"
   ]
  },
  {
   "cell_type": "code",
   "execution_count": 157,
   "metadata": {},
   "outputs": [
    {
     "name": "stderr",
     "output_type": "stream",
     "text": [
      "R[write to console]: using counts and average transcript lengths from tximport\n",
      "\n",
      "R[write to console]: estimating size factors\n",
      "\n",
      "R[write to console]: using 'avgTxLength' from assays(dds), correcting for library size\n",
      "\n",
      "R[write to console]: estimating dispersions\n",
      "\n",
      "R[write to console]: gene-wise dispersion estimates\n",
      "\n",
      "R[write to console]: mean-dispersion relationship\n",
      "\n",
      "R[write to console]: final dispersion estimates\n",
      "\n",
      "R[write to console]: fitting model and testing\n",
      "\n"
     ]
    }
   ],
   "source": [
    "%%R \n",
    "dds <- DESeqDataSetFromTximport(txi.gene, colData, ~0 + cond + time + cond:time)\n",
    "\n",
    "dds$time <- relevel(dds$time, ref=\"6h\")\n",
    "dds$cond <- relevel(dds$cond, ref=\"DMSO\")\n",
    "\n",
    "# Annova test\n",
    "dds <- DESeq(dds, test=\"LRT\", reduced=~1) #, parallel=TRUE)\n",
    "ncu <- counts(dds, normalized=TRUE) "
   ]
  },
  {
   "cell_type": "code",
   "execution_count": 159,
   "metadata": {},
   "outputs": [
    {
     "name": "stdout",
     "output_type": "stream",
     "text": [
      "[1] \"condDMSO\"             \"condtreated\"          \"time120h\"            \n",
      "[4] \"time72h\"              \"condtreated.time120h\" \"condtreated.time72h\" \n"
     ]
    }
   ],
   "source": [
    "%%R\n",
    "resultsNames(dds)"
   ]
  },
  {
   "cell_type": "code",
   "execution_count": 160,
   "metadata": {},
   "outputs": [],
   "source": [
    "%%R \n",
    "write.table(\n",
    "    ncu %>% data.frame %>% add_column(name = gene2name[rownames(ncu),]),\n",
    "    'hl60_exp_deseq2_norm.txt', sep=\"\\t\", quote=FALSE, \n",
    "    col.names=do.call(c, list(levels(colData$sample_id), c('name')))\n",
    ")"
   ]
  },
  {
   "cell_type": "code",
   "execution_count": 179,
   "metadata": {},
   "outputs": [],
   "source": [
    "# %%R\n",
    "# dds_ind <- DESeqDataSetFromTximport(txi.gene, colData, ~0+cond + time)\n",
    "\n",
    "# dds_ind$time <- relevel(dds_ind$time, ref=\"6h\")\n",
    "# dds_ind$cond <- relevel(dds_ind$cond, ref=\"DMSO\")\n",
    "\n",
    "\n",
    "# dds_ind <- DESeq(dds_ind, test=\"LRT\", reduced=~1) #, parallel=TRUE)"
   ]
  },
  {
   "cell_type": "code",
   "execution_count": 178,
   "metadata": {},
   "outputs": [],
   "source": [
    "# %%R\n",
    "# resultsNames(dds_ind)"
   ]
  },
  {
   "cell_type": "code",
   "execution_count": 180,
   "metadata": {},
   "outputs": [],
   "source": [
    "# %%R\n",
    "# # no interaction\n",
    "# res.ind = results(dds_ind,contrast=list(\"condDMSO\",\"condtreated\"),listValues=c(1,-1)) %>% ann_Result"
   ]
  },
  {
   "cell_type": "code",
   "execution_count": 183,
   "metadata": {},
   "outputs": [],
   "source": [
    "%%R\n",
    "# contrast design: treatment at 6h vs dmso at 6h\n",
    "res.6h  = results(dds, contrast=list(\"condtreated\",\"condDMSO\"),listValues=c(1,-1)) %>% ann_Result\n",
    "\n",
    "vol.6h  = plot_Volcano(res.6h, title='Treated time: 6 hours')"
   ]
  },
  {
   "cell_type": "code",
   "execution_count": 184,
   "metadata": {},
   "outputs": [],
   "source": [
    "%%R\n",
    "# contrast design: treatment at 72h vs dmso at 72h\n",
    "res.72h = results(dds, contrast=list(c('condtreated', 'condtreated.time72h'),c('condDMSO')),listValues=c(1,-1)) %>% ann_Result\n",
    "\n",
    "vol.72h = plot_Volcano(res.72h, title='Treated time: 72 hours')"
   ]
  },
  {
   "cell_type": "code",
   "execution_count": 185,
   "metadata": {},
   "outputs": [],
   "source": [
    "%%R\n",
    "# contrast design: treatment at 120h vs dmso at 120h\n",
    "res.120h = results(dds, contrast=list(c('condtreated', 'condtreated.time120h'),c('condDMSO')),listValues=c(1,-1)) %>% ann_Result\n",
    "\n",
    "vol.120h= plot_Volcano(res.120h, title='Treated time: 120 hours')"
   ]
  },
  {
   "cell_type": "code",
   "execution_count": 186,
   "metadata": {
    "scrolled": false
   },
   "outputs": [
    {
     "data": {
      "image/png": "[encoded data removed]"
     },
     "metadata": {},
     "output_type": "display_data"
    }
   ],
   "source": [
    "%%R\n",
    "vol = vol.6h / vol.72h / vol.120h\n",
    "vol"
   ]
  },
  {
   "cell_type": "code",
   "execution_count": 187,
   "metadata": {},
   "outputs": [
    {
     "name": "stderr",
     "output_type": "stream",
     "text": [
      "R[write to console]: Saving 6.67 x 6.67 in image\n",
      "\n",
      "R[write to console]: Saving 6.67 x 6.67 in image\n",
      "\n"
     ]
    }
   ],
   "source": [
    "%%R\n",
    "plot_Save(vol, 'plots/Volcano_plot')"
   ]
  },
  {
   "cell_type": "code",
   "execution_count": 188,
   "metadata": {},
   "outputs": [],
   "source": [
    "# %%bash\n",
    "# echo '## Volcano plot' >> README.md\n",
    "# echo '<img src=plots/plots/Volcano_plot.png style=\"width:600px\">' >> README.md"
   ]
  },
  {
   "cell_type": "code",
   "execution_count": 189,
   "metadata": {},
   "outputs": [],
   "source": [
    "%%R    \n",
    "df = data.frame(\n",
    "    'gene_id'=rownames(dds), 'gene_name'= gene2name[rownames(dds),],\n",
    "    'log2FC_6h' = res.6h$log2FoldChange,'pval_6h'= res.6h$pval,\n",
    "    'log2FC_72h' = res.72h$log2FoldChange,'pval_72h'= res.72h$pval,\n",
    "    'log2FC_120h'  = res.120h$log2FoldChange,'pval_120h'= res.120h$pval) %>% remove_rownames\n",
    "    \n",
    "df = df[order(df$log2FC_72h),] %>% remove_rownames\n",
    "    \n",
    "write_Result(df, 'hl60_delta_exp_table.txt', col=TRUE)"
   ]
  },
  {
   "cell_type": "code",
   "execution_count": 190,
   "metadata": {},
   "outputs": [],
   "source": [
    "%%R \n",
    "df_sig = df %>% \n",
    "    filter ((pval_6h < 0.05 | pval_72h < 0.05 | pval_120h < 0.05) & \n",
    "            (abs(log2FC_6h) > 2 | abs(log2FC_72h) > 2 | abs(log2FC_120h) > 2)) %>% \n",
    "    remove_rownames %>% column_to_rownames('gene_id') "
   ]
  },
  {
   "cell_type": "markdown",
   "metadata": {},
   "source": [
    "## Check the direction of logFC "
   ]
  },
  {
   "cell_type": "code",
   "execution_count": 191,
   "metadata": {},
   "outputs": [
    {
     "name": "stdout",
     "output_type": "stream",
     "text": [
      "                    gene_name log2FC_6h      pval_6h log2FC_72h     pval_72h\n",
      "ENSG00000256206.2  AC018523.2 9.5014911 1.510688e-03 -10.699226 1.510688e-03\n",
      "ENSG00000205609.13     EIF3CL 4.7709525 9.373767e-04 -10.068521 9.373767e-04\n",
      "ENSG00000234431.2  AC007283.1 0.1086207 1.128725e-03  -7.595344 1.128725e-03\n",
      "ENSG00000250506.7        CDK3 0.3020142 8.177233e-11  -7.507771 8.177233e-11\n",
      "ENSG00000204778.4      CBWD4P 4.4111625 1.612892e-02  -6.392439 1.612892e-02\n",
      "ENSG00000243789.11      JMJD7 2.1825039 1.441457e-04  -6.350021 1.441457e-04\n",
      "                    log2FC_120h    pval_120h\n",
      "ENSG00000256206.2   -3.11549349 1.510688e-03\n",
      "ENSG00000205609.13 -10.47264081 9.373767e-04\n",
      "ENSG00000234431.2   -0.55555753 1.128725e-03\n",
      "ENSG00000250506.7   -1.61903080 8.177233e-11\n",
      "ENSG00000204778.4   -4.23409326 1.612892e-02\n",
      "ENSG00000243789.11   0.09574719 1.441457e-04\n"
     ]
    }
   ],
   "source": [
    "%%R \n",
    "head(df_sig)"
   ]
  },
  {
   "cell_type": "code",
   "execution_count": 193,
   "metadata": {
    "scrolled": false
   },
   "outputs": [
    {
     "data": {
      "image/png": "[encoded data removed]"
     },
     "metadata": {},
     "output_type": "display_data"
    }
   ],
   "source": [
    "%%R \n",
    "\n",
    "\n",
    "gene_names = levels(droplevels(head(df_sig$gene_name)))\n",
    "gene_ids = rownames(gene2name)[gene2name$gene_name %in% gene_names]\n",
    "\n",
    "\n",
    "plot_gene_counts(dds,  gene_ids[4],gene_names[4]) /\n",
    "plot_gene_counts(dds,  gene_ids[5],gene_names[5])"
   ]
  },
  {
   "cell_type": "markdown",
   "metadata": {},
   "source": [
    "# Heatmap \n",
    "## Most variable genes \n",
    "Cluster high variant genes over time. "
   ]
  },
  {
   "cell_type": "code",
   "execution_count": 100,
   "metadata": {
    "scrolled": false
   },
   "outputs": [],
   "source": [
    "# %%R \n",
    "# library(pheatmap)\n",
    "# # mostVar Calculate the top n most variable genes in a matrix of gene expression data\n",
    "# # https://rdrr.io/github/abc-igmm/transcripTools/man/mostVar.html\n",
    "# mostVar <- function(data, n, i_want_most_var = FALSE) {\n",
    "#   data.var <- apply(data, 1, stats::var)\n",
    "#   data[order(data.var, decreasing = i_want_most_var)[1:n],] \n",
    "# }\n",
    "\n",
    "# ncu %>% head \n",
    "# # fc <- df[!duplicated(df$gene_name),c('gene_name','log2FC_6h','log2FC_72h','log2FC_120h')] %>% remove_rownames %>% column_to_rownames('gene_name')\n",
    "\n",
    "# # # scale - Z-Score\n",
    "# # fc <- data.frame(apply(fc,2,scale, center=TRUE, scale=TRUE), row.names=rownames(fc)) \n",
    "\n",
    "# # # filter most variable genes\n",
    "# # fc = mostVar(fc,30)\n",
    "# # # Plot heatmap\n",
    "# # h1 <- pheatmap(fc,cluster_cols = FALSE,angle_col=45)\n",
    "# # h1"
   ]
  },
  {
   "cell_type": "markdown",
   "metadata": {},
   "source": [
    "## Clustering "
   ]
  },
  {
   "cell_type": "code",
   "execution_count": 217,
   "metadata": {},
   "outputs": [
    {
     "name": "stdout",
     "output_type": "stream",
     "text": [
      "                   6h_DMSO_rep1 6h_DMSO_rep2 6h_treated_rep1 6h_treated_rep2\n",
      "ENSG00000000003.15      7.36705     9.318714        9.269854        8.802836\n",
      "ENSG00000000005.6       0.00000     0.000000        0.000000        0.000000\n",
      "ENSG00000000419.12   2513.13800  2500.557736     2402.711568     2100.313086\n",
      "ENSG00000000457.14    248.88662   315.103261      276.541375      284.694141\n",
      "ENSG00000000460.17   1164.34746  1264.225534     1006.351313     1096.716566\n",
      "ENSG00000000938.13    254.70234   235.129580      251.185452      227.320236\n",
      "                   120h_DMSO_rep1 120h_DMSO_rep2 120h_treated_rep1\n",
      "ENSG00000000003.15       7.351925       13.55335          15.16106\n",
      "ENSG00000000005.6        0.000000        0.00000           0.00000\n",
      "ENSG00000000419.12    1976.335064     2069.49876        1265.46709\n",
      "ENSG00000000457.14     307.680025      257.39607         319.27148\n",
      "ENSG00000000460.17     974.239561     1109.45819         847.10648\n",
      "ENSG00000000938.13     304.080231      239.02603        1388.42230\n",
      "                   120h_treated_rep2 72h_DMSO_rep1 72h_DMSO_rep2\n",
      "ENSG00000000003.15          16.67404       9.25973      1.773393\n",
      "ENSG00000000005.6            0.00000       0.00000      0.000000\n",
      "ENSG00000000419.12        1415.35205    2126.58054   2247.801953\n",
      "ENSG00000000457.14         331.21402     267.64401    295.636072\n",
      "ENSG00000000460.17         873.07300    1148.26786    946.277082\n",
      "ENSG00000000938.13        1756.21863     307.48951    267.257472\n",
      "                   72h_treated_rep1 72h_treated_rep2\n",
      "ENSG00000000003.15         19.59436         18.66133\n",
      "ENSG00000000005.6           0.00000          0.00000\n",
      "ENSG00000000419.12       1654.04336       1159.50476\n",
      "ENSG00000000457.14        316.40362        313.93310\n",
      "ENSG00000000460.17       1040.02716        907.18417\n",
      "ENSG00000000938.13        692.69954        359.54684\n"
     ]
    }
   ],
   "source": [
    "%%R \n",
    "ncu[,c(5:8,1:4,9:12)] %>% head \n"
   ]
  },
  {
   "cell_type": "code",
   "execution_count": 219,
   "metadata": {
    "scrolled": false
   },
   "outputs": [
    {
     "data": {
      "image/png": "[encoded data removed]"
     },
     "metadata": {},
     "output_type": "display_data"
    }
   ],
   "source": [
    "%%R \n",
    "library(RColorBrewer)\n",
    "library(pheatmap)\n",
    "\n",
    "# Subset normalized counts to significant genes\n",
    "sig_norm_counts <- ncu[rownames(df_sig),c(5:12,1:4)]\n",
    "\n",
    "# Choose heatmap color palette\n",
    "heat_colors <- brewer.pal(n = 6, name = \"YlOrRd\")\n",
    "\n",
    "ann_colors = list(\n",
    "    cond = c('DMSO'=\"blue\", 'treated'=\"firebrick\"),\n",
    "    time = c('120h'= \"darkgreen\", '72h'=\"red\", '6h'=\"orange\")\n",
    ")\n",
    "\n",
    "# Plot heatmap\n",
    "h = pheatmap(sig_norm_counts, \n",
    "         color = heat_colors, \n",
    "         cluster_cols = F, \n",
    "         show_rownames = F,\n",
    "         annotation = select(colData, time, cond), \n",
    "         scale = 'row',\n",
    "         main = 'RNA Expression\\nhl60 cell line',\n",
    "         angle_col= 45,\n",
    "         annotation_legend=F,\n",
    "         annotation_colors = ann_colors\n",
    "            )"
   ]
  },
  {
   "cell_type": "code",
   "execution_count": 220,
   "metadata": {},
   "outputs": [
    {
     "name": "stdout",
     "output_type": "stream",
     "text": [
      "png \n",
      "  2 \n"
     ]
    }
   ],
   "source": [
    "%%R \n",
    "# https://stackoverflow.com/questions/43051525/how-to-draw-pheatmap-plot-to-screen-and-also-save-to-file\n",
    "pdf('plots/Heatmap_clustering.pdf', width=7, height=7)\n",
    "grid::grid.newpage()\n",
    "grid::grid.draw(h$gtable)\n",
    "dev.off()"
   ]
  },
  {
   "cell_type": "code",
   "execution_count": 221,
   "metadata": {},
   "outputs": [],
   "source": [
    "# %%bash\n",
    "# echo '## Heatmap clustering' >> README.md\n",
    "# echo '<img src=plots/plots/Heatmap_clustering.pdf.png style=\"width:600px\">' >> README.md"
   ]
  },
  {
   "cell_type": "markdown",
   "metadata": {},
   "source": [
    "## Enrichment analysis \n",
    "\n",
    "Prepare results for running iPAGE:"
   ]
  },
  {
   "cell_type": "code",
   "execution_count": 222,
   "metadata": {},
   "outputs": [],
   "source": [
    "%%R \n",
    "write_Result(res.6h  [,c('ensembl','log2FoldChange')] %>% remove_rownames, '6h_delta_exp.txt')\n",
    "write_Result(res.72h [,c('ensembl','log2FoldChange')] %>% remove_rownames, '72h_delta_exp.txt')\n",
    "write_Result(res.120h[,c('ensembl','log2FoldChange')] %>% remove_rownames, '120h_delta_exp.txt')"
   ]
  },
  {
   "cell_type": "code",
   "execution_count": 223,
   "metadata": {},
   "outputs": [],
   "source": [
    "# %%bash\n",
    "# ipage=/rumi/shams/abe/Workflows/my_scripts/ipage_human_ensembl.sh \n",
    "# nohup ls *delta_exp.txt | parallel -j18 -k bash $ipage {} &> ipage.out &"
   ]
  },
  {
   "cell_type": "code",
   "execution_count": 224,
   "metadata": {},
   "outputs": [],
   "source": [
    "# %%bash\n",
    "# echo '<h1>'Enrichment analysis'<h1>' >> README.md\n",
    "\n",
    "# declare -a Comp=('6h' '72h' '120h')\n",
    "\n",
    "# for f in `ls -d /flash/bin/iPAGEv1.0/PAGE_DATA/ANNOTATIONS/human_ensembl*`; do\n",
    "#     base=`basename \"$f\"`\n",
    "#     echo '<table>' >> README.md\n",
    "#     echo '  <tr>' >> README.md\n",
    "#     echo '  <h2>'$base'<h2>' >> README.md\n",
    "#     for C in \"${Comp[@]}\"; do\n",
    "#         echo '    <td><img src='${C}'_delta_exp/'${base}'.all.png style=\"width:600px\">' >> README.md\n",
    "#     done\n",
    "#     echo '  <tr>' >> README.md\n",
    "#     echo '<table>' >> README.md\n",
    "# done"
   ]
  },
  {
   "cell_type": "markdown",
   "metadata": {},
   "source": [
    "### Second scenario\n",
    "Time as continues variable"
   ]
  },
  {
   "cell_type": "code",
   "execution_count": 23,
   "metadata": {},
   "outputs": [],
   "source": [
    "# %%R \n",
    "# # meta \n",
    "# colData.T <- data.frame(\n",
    "#     time=c(rep(120,4),rep(6,4),rep(72,4)), \n",
    "#     cond=rep(c(rep('DMSO',2), rep('treated',2)),3), \n",
    "#     time_cond=paste(hours,treats,sep='_'), \n",
    "#     sample_id=colnames(txi$abundance),\n",
    "#     row.names=colnames(txi$abundance))\n",
    "\n",
    "# dds.T <- DESeqDataSetFromTximport(txi.gene, colData.T, ~cond + time + cond:time)\n",
    "# dds.T <- DESeq(dds.T, test=\"LRT\", reduced=~1, parallel=TRUE)"
   ]
  },
  {
   "cell_type": "code",
   "execution_count": 24,
   "metadata": {},
   "outputs": [],
   "source": [
    "# %%R\n",
    "# resultsNames(dds.T)"
   ]
  },
  {
   "cell_type": "code",
   "execution_count": 25,
   "metadata": {},
   "outputs": [],
   "source": [
    "# %%R\n",
    "# res_cnt_time_T_vs_U = results(dds.T, name='cond_treated_vs_DMSO', parallel=T) %>% \n",
    "#     data.frame %>% add_column(name = gene2name[rownames(dds.T),]) %>%\n",
    "#     add_column(ensembl = rownames(dds.T) %>% substr(0, 15))\n",
    "\n",
    "# p1 = plot_Volcano(res_cnt_time_T_vs_U, 0.1, title='Time as continuous variable: Treated vs DMSO', \n",
    "#                   x_min=-2,x_max=2)"
   ]
  },
  {
   "cell_type": "code",
   "execution_count": 56,
   "metadata": {},
   "outputs": [],
   "source": [
    "# %%R\n",
    "# res_cnt_time = results(dds.T, name='condtreated.time', parallel=T) %>% \n",
    "#     data.frame %>% add_column(name = gene2name[rownames(dds.T),]) %>%\n",
    "#     add_column(ensembl = rownames(dds.T) %>% substr(0, 15))\n",
    "\n",
    "# p2 = plot_Volcano(res_cnt_time, 0.01, title='Time as continuous variable: Condition and time interaction', \n",
    "#                   x_min=-0.1,x_max=0.1)"
   ]
  },
  {
   "cell_type": "code",
   "execution_count": 26,
   "metadata": {},
   "outputs": [],
   "source": [
    "# %%R\n",
    "# df = data.frame(\n",
    "#     'gene_id'=rownames(res_cnt_time_T_vs_U), 'gene_name'= res_cnt_time_T_vs_U$name,\n",
    "#     'baseMean' = res_cnt_time$baseMean,\n",
    "#     'log2FC_time' = res_cnt_time$log2FoldChange,'log2FC_time'= res_cnt_time$pval,\n",
    "#     'log2FC_T_vs_U' = res_cnt_time_T_vs_U$log2FoldChange,'pval_T_vs_U'= res_cnt_time_T_vs_U$pval\n",
    "# )    \n",
    "# df = df[order(df$log2FC_time),]\n",
    "\n",
    "# write_Result(df, 'results_time_continuous.txt', col=TRUE)"
   ]
  },
  {
   "cell_type": "code",
   "execution_count": 27,
   "metadata": {},
   "outputs": [],
   "source": [
    "# %%R\n",
    "# plot_Save(p1 / p2, 'Volcano_time_continuous')\n",
    "# p1 / p2"
   ]
  },
  {
   "cell_type": "markdown",
   "metadata": {},
   "source": [
    "___\n",
    "## Find transcripts of genes selected for experimental validation \n",
    "Hani: \n",
    "> can you tell me for the selected genes, which isoforms are the major isoforms?"
   ]
  },
  {
   "cell_type": "code",
   "execution_count": 1,
   "metadata": {},
   "outputs": [],
   "source": [
    "# %%R \n",
    "# valid_genes = gene2name %>% rownames_to_column('GENEID') %>% filter(gene_name%in%c('MTF1', 'MCL1', 'CYLD', 'APLP2'))\n",
    "\n",
    "# valid_txs = tx2gene %>% filter(GENEID%in%valid_genes$GENEID)\n",
    "\n",
    "# ddsـtxi <- DESeqDataSetFromTximport(txi, colData, ~cond + time + cond:time)\n",
    "# nrow(ddsـtxi)"
   ]
  },
  {
   "cell_type": "code",
   "execution_count": 2,
   "metadata": {},
   "outputs": [],
   "source": [
    "# %%R -o valid_df\n",
    "\n",
    "# counts(ddsـtxi[valid_txs$TXNAME,], normalized=FALSE) %>% \n",
    "#     data.frame %>% \n",
    "#     rownames_to_column('transcript_id') -> valid_df\n",
    "# valid_df %>% \n",
    "#     add_column(name=tx2name[valid_df$transcript_id,]) %>% \n",
    "#     arrange(desc(X72h_DMSO_rep1)) -> valid_df\n",
    "\n"
   ]
  },
  {
   "cell_type": "code",
   "execution_count": 3,
   "metadata": {},
   "outputs": [],
   "source": [
    "# valid_df.set_index('transcript_id').loc[\n",
    "#     list (valid_df.loc[:,['X72h_DMSO_rep1','X72h_DMSO_rep2','X72h_treated_rep1','X72h_treated_rep2']].min(axis=1) > 300),\n",
    "#     ['name','X72h_DMSO_rep1','X72h_DMSO_rep2','X72h_treated_rep1','X72h_treated_rep2']\n",
    "# ]"
   ]
  },
  {
   "cell_type": "code",
   "execution_count": 4,
   "metadata": {},
   "outputs": [],
   "source": [
    "# %%R \n",
    "# ddsـtxi$time <- relevel(ddsـtxi$time, ref=\"6h\")\n",
    "\n",
    "# # Annova test\n",
    "# ddsـtxi <- DESeq(ddsـtxi, test=\"LRT\", reduced=~1) #, parallel=TRUE)\n",
    "# ncu_txi <- counts(ddsـtxi, normalized=TRUE) \n",
    "# # write.table(ncu,'hl60_exp_deseq2_norm.txt', sep=\"\\t\", quote=FALSE, col.names=colData$sample_id)"
   ]
  },
  {
   "cell_type": "code",
   "execution_count": 5,
   "metadata": {},
   "outputs": [],
   "source": [
    "# %%R\n",
    "# resultsNames(ddsـtxi)"
   ]
  },
  {
   "cell_type": "code",
   "execution_count": 6,
   "metadata": {},
   "outputs": [],
   "source": [
    "# %%R \n",
    "# dds_valid_txs = ddsـtxi[valid_txs$TXNAME,]"
   ]
  },
  {
   "cell_type": "code",
   "execution_count": 7,
   "metadata": {},
   "outputs": [],
   "source": [
    "# %%R \n",
    "# tx2name %>% rownames_to_column('transcript_id') %>% filter(transcript_id %in% rownames(dds_valid_txs) )\n"
   ]
  },
  {
   "cell_type": "code",
   "execution_count": 9,
   "metadata": {},
   "outputs": [],
   "source": [
    "# %%R \n",
    "# get_Result_txi <- function(dds, design){\n",
    "#     res = results(dds, contrast=design, parallel=TRUE)  %>%\n",
    "#         data.frame %>% \n",
    "#         add_column(name=tx2name[rownames(dds),])\n",
    "                \n",
    "#     return (res)\n",
    "# }\n",
    "\n",
    "# # contrast design: treatment at 72h vs dmso at 72h\n",
    "# res_txi.72h = get_Result_txi(ddsـtxi, list('cond_treated_vs_DMSO', 'condtreated.time72h')) \n",
    "# res_valid_txi.72h = get_Result_txi(dds_valid_txs, list('cond_treated_vs_DMSO', 'condtreated.time72h')) \n",
    "\n",
    "# # # contrast design: treatment at 6h vs dmso at 6h\n",
    "# # res.6h  = get_Result(ddsـtxi, list('cond_treated_vs_DMSO'))\n",
    "# # # contrast design: treatment at 120h vs dmso at 120h\n",
    "# # res.120h= get_Result(dds, list('cond_treated_vs_DMSO', 'condtreated.time120h'))"
   ]
  },
  {
   "cell_type": "code",
   "execution_count": 11,
   "metadata": {},
   "outputs": [],
   "source": [
    "# %%R \n",
    "\n",
    "# lfc.cutoff  = 0; pval.cutoff = 1; \n",
    "# title='Treated time: 72 hours'; \n",
    "# x_min=-20;x_max=20;y_max=4\n",
    "# res = res_valid_txi.72h\n",
    "\n",
    "# res$sig <- as.factor(res$pvalue < pval.cutoff & abs(res$log2FoldChange) > lfc.cutoff)\n",
    "# res$sig <- relevel(res$sig, ref=TRUE)\n",
    "\n",
    "# vol = res %>% ggplot(\n",
    "#     aes(x=log2FoldChange, y=-log10(pvalue), colour=sig, fill=sig)) +\n",
    "#     geom_point(aes(color = sig),alpha = 1/10) +\n",
    "#     xlim(c(x_min,x_max)) +\n",
    "#     ylim(c(0,y_max)) +\n",
    "#         geom_hline(yintercept=-log10(pval.cutoff), linetype=\"dashed\", alpha = 4/10) +\n",
    "#         geom_vline(xintercept=lfc.cutoff, linetype=\"dashed\", alpha = 4/10) +\n",
    "#         geom_vline(xintercept=(-1)*lfc.cutoff, linetype=\"dashed\", alpha = 4/10) +\n",
    "#         scale_color_manual(values = c(\"grey\", \"red\")) +\n",
    "#         theme_bw() + \n",
    "#         theme(legend.position=\"none\") +\n",
    "#         ggtitle (title) + \n",
    "#         geom_text_repel(\n",
    "#             data = subset(res[order(res$pvalue),], sig == TRUE),#[1:10,],\n",
    "#             aes(label = name),\n",
    "#             size = 2,\n",
    "#             box.padding = unit(0.35, \"lines\"),\n",
    "#             point.padding = unit(0.3, \"lines\")\n",
    "#         )\n",
    "# plot_Save(vol, 'plots/Volcano_plot_validation_genes')\n",
    "# vol\n"
   ]
  },
  {
   "cell_type": "code",
   "execution_count": 46,
   "metadata": {},
   "outputs": [
    {
     "name": "stdout",
     "output_type": "stream",
     "text": [
      "R version 3.5.1 (2018-07-02)\n",
      "Platform: x86_64-conda_cos6-linux-gnu (64-bit)\n",
      "Running under: Ubuntu 18.04.4 LTS\n",
      "\n",
      "Matrix products: default\n",
      "BLAS/LAPACK: /rumi/shams/abe/anaconda3/envs/deseq/lib/R/lib/libRlapack.so\n",
      "\n",
      "locale:\n",
      " [1] LC_CTYPE=en_US.UTF-8       LC_NUMERIC=C              \n",
      " [3] LC_TIME=en_US.UTF-8        LC_COLLATE=en_US.UTF-8    \n",
      " [5] LC_MONETARY=en_US.UTF-8    LC_MESSAGES=en_US.UTF-8   \n",
      " [7] LC_PAPER=en_US.UTF-8       LC_NAME=C                 \n",
      " [9] LC_ADDRESS=C               LC_TELEPHONE=C            \n",
      "[11] LC_MEASUREMENT=en_US.UTF-8 LC_IDENTIFICATION=C       \n",
      "\n",
      "attached base packages:\n",
      " [1] stats4    parallel  tools     stats     graphics  grDevices utils    \n",
      " [8] datasets  methods   base     \n",
      "\n",
      "other attached packages:\n",
      " [1] patchwork_1.0.0             DESeq2_1.20.0              \n",
      " [3] SummarizedExperiment_1.10.1 DelayedArray_0.6.6         \n",
      " [5] BiocParallel_1.14.2         matrixStats_0.55.0         \n",
      " [7] ggrepel_0.8.1               forcats_0.4.0              \n",
      " [9] stringr_1.4.0               dplyr_0.8.3                \n",
      "[11] purrr_0.3.3                 readr_1.3.1                \n",
      "[13] tidyr_1.0.0                 tibble_2.1.3               \n",
      "[15] ggplot2_3.2.1               tidyverse_1.2.1            \n",
      "[17] tximport_1.10.1             GenomicFeatures_1.32.3     \n",
      "[19] AnnotationDbi_1.42.1        Biobase_2.40.0             \n",
      "[21] GenomicRanges_1.32.7        GenomeInfoDb_1.16.0        \n",
      "[23] IRanges_2.14.12             S4Vectors_0.18.3           \n",
      "[25] BiocGenerics_0.26.0        \n",
      "\n",
      "loaded via a namespace (and not attached):\n",
      " [1] nlme_3.1-141             bitops_1.0-6             lubridate_1.7.4         \n",
      " [4] bit64_0.9-7              RColorBrewer_1.1-2       progress_1.2.2          \n",
      " [7] httr_1.4.1               backports_1.1.5          utf8_1.1.4              \n",
      "[10] R6_2.4.0                 rpart_4.1-15             Hmisc_4.2-0             \n",
      "[13] DBI_1.0.0                lazyeval_0.2.2           colorspace_1.4-1        \n",
      "[16] nnet_7.3-12              withr_2.1.2              gridExtra_2.3           \n",
      "[19] tidyselect_0.2.5         prettyunits_1.0.2        bit_1.1-14              \n",
      "[22] compiler_3.5.1           cli_1.1.0                rvest_0.3.5             \n",
      "[25] htmlTable_1.13.2         xml2_1.2.2               labeling_0.3            \n",
      "[28] rtracklayer_1.40.6       checkmate_1.9.4          scales_1.0.0            \n",
      "[31] genefilter_1.62.0        digest_0.6.22            Rsamtools_1.32.3        \n",
      "[34] foreign_0.8-72           XVector_0.20.0           htmltools_0.4.0         \n",
      "[37] base64enc_0.1-3          pkgconfig_2.0.3          htmlwidgets_1.5.1       \n",
      "[40] rlang_0.4.1              readxl_1.3.1             rstudioapi_0.10         \n",
      "[43] RSQLite_2.1.2            jsonlite_1.6             acepack_1.4.1           \n",
      "[46] RCurl_1.95-4.12          magrittr_1.5             GenomeInfoDbData_1.1.0  \n",
      "[49] Formula_1.2-3            Matrix_1.2-17            fansi_0.4.0             \n",
      "[52] Rcpp_1.0.3               munsell_0.5.0            lifecycle_0.1.0         \n",
      "[55] stringi_1.4.3            zlibbioc_1.26.0          grid_3.5.1              \n",
      "[58] blob_1.2.0               crayon_1.3.4             lattice_0.20-38         \n",
      "[61] Biostrings_2.48.0        haven_2.2.0              splines_3.5.1           \n",
      "[64] annotate_1.58.0          hms_0.5.2                locfit_1.5-9.1          \n",
      "[67] knitr_1.25               zeallot_0.1.0            pillar_1.4.2            \n",
      "[70] geneplotter_1.58.0       biomaRt_2.36.1           XML_3.98-1.20           \n",
      "[73] glue_1.3.1               latticeExtra_0.6-28      data.table_1.11.6       \n",
      "[76] modelr_0.1.5             vctrs_0.2.0              cellranger_1.1.0        \n",
      "[79] gtable_0.3.0             assertthat_0.2.1         xfun_0.10               \n",
      "[82] xtable_1.8-4             broom_0.5.0              survival_2.44-1.1       \n",
      "[85] GenomicAlignments_1.16.0 memoise_1.1.0            cluster_2.1.0           \n"
     ]
    }
   ],
   "source": [
    "%%R\n",
    "sessionInfo()"
   ]
  }
 ],
 "metadata": {
  "kernelspec": {
   "display_name": "Python [conda env:deseq]",
   "language": "python",
   "name": "conda-env-deseq-py"
  },
  "language_info": {
   "codemirror_mode": {
    "name": "ipython",
    "version": 3
   },
   "file_extension": ".py",
   "mimetype": "text/x-python",
   "name": "python",
   "nbconvert_exporter": "python",
   "pygments_lexer": "ipython3",
   "version": "3.7.3"
  },
  "widgets": {
   "application/vnd.jupyter.widget-state+json": {
    "state": {},
    "version_major": 2,
    "version_minor": 0
   }
  }
 },
 "nbformat": 4,
 "nbformat_minor": 2
}
