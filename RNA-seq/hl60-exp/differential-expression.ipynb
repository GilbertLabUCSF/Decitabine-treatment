{
 "cells": [
  {
   "cell_type": "markdown",
   "metadata": {},
   "source": [
    "## Decitabine treatment RNA-Seq time-series experiments\n",
    "In order to test for any differences over multiple time points, once can use a design including the time factor, and then test using the **likelihood ratio test (LRT)**. Here, as we have control (DMSO) and treatment (Decitabine) time series, design formula containing the condition factor, the time factor, and the interaction of the two. In this case, using the likelihood ratio test with a reduced model which does not contain the interaction terms will test whether the condition induces a change in gene expression at any time point after the reference level time point (time 0). \n",
    "\n",
    "(see [DESeq2 Time-series-experiments](http://bioconductor.org/packages/devel/bioc/vignettes/DESeq2/inst/doc/DESeq2.html#time-series-experiments) for more details)\n"
   ]
  },
  {
   "cell_type": "code",
   "execution_count": 68,
   "metadata": {},
   "outputs": [],
   "source": [
    "%%bash \n",
    "echo '## Decitabine treatment RNA-Seq time-series experiments\n",
    "In order to test for any differences over multiple time points, once can use a design including the time factor, and then test using the **likelihood ratio test (LRT)**. Here, as we have control (DMSO) and treatment (Decitabine) time series, design formula containing the condition factor, the time factor, and the interaction of the two. In this case, using the likelihood ratio test with a reduced model which does not contain the interaction terms will test whether the condition induces a change in gene expression at any time point after the reference level time point (time 0).\n",
    "(see [DESeq2 Time-series-experiments](http://bioconductor.org/packages/devel/bioc/vignettes/DESeq2/inst/doc/DESeq2.html#time-series-experiments) for more details)' \\\n",
    "> README.md"
   ]
  },
  {
   "cell_type": "markdown",
   "metadata": {},
   "source": [
    "## Pre-processing "
   ]
  },
  {
   "cell_type": "markdown",
   "metadata": {},
   "source": [
    "I'm mapping `hg38/gencode.v34` to the `fastq` files using salmon. \n",
    "\n",
    "Raw samples:"
   ]
  },
  {
   "cell_type": "code",
   "execution_count": 1,
   "metadata": {},
   "outputs": [
    {
     "name": "stdout",
     "output_type": "stream",
     "text": [
      "\u001b[0m\u001b[01;32m../hl60-fastq/120h_DMSO_rep1.fastq.gz\u001b[0m*\r\n",
      "\u001b[01;32m../hl60-fastq/120h_DMSO_rep2.fastq.gz\u001b[0m*\r\n",
      "\u001b[01;32m../hl60-fastq/120h_treated_rep1.fastq.gz\u001b[0m*\r\n",
      "\u001b[01;32m../hl60-fastq/120h_treated_rep2.fastq.gz\u001b[0m*\r\n",
      "\u001b[01;32m../hl60-fastq/6h_DMSO_rep1.fastq.gz\u001b[0m*\r\n",
      "\u001b[01;32m../hl60-fastq/6h_DMSO_rep2.fastq.gz\u001b[0m*\r\n",
      "\u001b[01;32m../hl60-fastq/6h_treated_rep1.fastq.gz\u001b[0m*\r\n",
      "\u001b[01;32m../hl60-fastq/6h_treated_rep2.fastq.gz\u001b[0m*\r\n",
      "\u001b[01;32m../hl60-fastq/72h_DMSO_rep1.fastq.gz\u001b[0m*\r\n",
      "\u001b[01;32m../hl60-fastq/72h_DMSO_rep2.fastq.gz\u001b[0m*\r\n",
      "\u001b[01;32m../hl60-fastq/72h_treated_rep1.fastq.gz\u001b[0m*\r\n",
      "\u001b[01;32m../hl60-fastq/72h_treated_rep2.fastq.gz\u001b[0m*\r\n"
     ]
    }
   ],
   "source": [
    "ls ../hl60-fastq/*fastq.gz"
   ]
  },
  {
   "cell_type": "markdown",
   "metadata": {},
   "source": [
    "Alignment script:"
   ]
  },
  {
   "cell_type": "code",
   "execution_count": 2,
   "metadata": {},
   "outputs": [
    {
     "name": "stdout",
     "output_type": "stream",
     "text": [
      "JOBDIR=$1\r\n",
      "FASTQDIR=$2\r\n",
      "INDEX=$3\r\n",
      "\r\n",
      "cd $JOBDIR\r\n",
      "mkdir -p ./quants/\r\n",
      "\r\n",
      "for f in $FASTQDIR/*fastq.gz; do \r\n",
      "\tsamp=`basename ${f}`; \r\n",
      "\tsamp=${samp/.fastq.gz/}; \r\n",
      "\techo \"Processing sample ${samp}\"; \r\n",
      "\tsalmon quant -i $INDEX \\\r\n",
      " \t-l A -r $f -p 18 --validateMappings -o ./quants/$samp; \r\n",
      "done\r\n"
     ]
    }
   ],
   "source": [
    "cat ../salmon.sh"
   ]
  },
  {
   "cell_type": "code",
   "execution_count": 20,
   "metadata": {
    "scrolled": false
   },
   "outputs": [],
   "source": [
    "# %%bash \n",
    "# nohup bash ~/Workflows/my_scripts/salmon.sh \\\n",
    "# ~/Gilbertlab/Decitabine_treatment/RNA-seq/hl60-exp \\\n",
    "# ~/Gilbertlab/Decitabine_treatment/RNA-seq/hl60-fastq \\\n",
    "# ~/genomes/hg38/gencode.v34/salmon_index/ > hl60-salmon.out&"
   ]
  },
  {
   "cell_type": "code",
   "execution_count": 1,
   "metadata": {},
   "outputs": [],
   "source": [
    "%reload_ext rpy2.ipython"
   ]
  },
  {
   "cell_type": "code",
   "execution_count": 15,
   "metadata": {},
   "outputs": [],
   "source": [
    "%%R \n",
    "library (GenomicFeatures)\n",
    "library (tximport)\n",
    "library (tidyverse)\n",
    "library (ggplot2)\n",
    "library (ggrepel)\n",
    "library (DESeq2)\n",
    "library (patchwork)\n",
    "library (BiocParallel)\n",
    "register(MulticoreParam(18))\n",
    "\n",
    "plot_Save <- function (p, name_it){\n",
    "    ggsave(paste(name_it,'png',sep='.'), plot = p, device = 'png', dpi = 300)\n",
    "    ggsave(paste(name_it,'pdf',sep='.'), plot = p, device = 'pdf', dpi = 300)\n",
    "}"
   ]
  },
  {
   "cell_type": "markdown",
   "metadata": {},
   "source": [
    "Load annotations"
   ]
  },
  {
   "cell_type": "code",
   "execution_count": 3,
   "metadata": {},
   "outputs": [
    {
     "name": "stderr",
     "output_type": "stream",
     "text": [
      "R[write to console]: Import genomic features from the file as a GRanges object ... \n",
      "R[write to console]: OK\n",
      "\n",
      "R[write to console]: Prepare the 'metadata' data frame ... \n",
      "R[write to console]: OK\n",
      "\n",
      "R[write to console]: Make the TxDb object ... \n",
      "R[write to console]: OK\n",
      "\n",
      "R[write to console]: 'select()' returned 1:1 mapping between keys and columns\n",
      "\n"
     ]
    }
   ],
   "source": [
    "%%R\n",
    "GTF = '/rumi/shams/abe/genomes/hg38/gencode.v34/gencode.v34.annotation.gtf'\n",
    "gtf <- rtracklayer::import(GTF)\n",
    "gene2name <- gtf[gtf$type == \"gene\"] %>% data.frame %>% column_to_rownames('gene_id') %>% dplyr::select('gene_name')\n",
    "\n",
    "txdb  = makeTxDbFromGFF(GTF,organism='Homo sapiens')\n",
    "# tx2gene objects \n",
    "k <- keys(txdb, keytype = \"TXNAME\")\n",
    "tx2gene <- AnnotationDbi::select(txdb, k, \"GENEID\", \"TXNAME\")"
   ]
  },
  {
   "cell_type": "markdown",
   "metadata": {},
   "source": [
    "import salmon quants:"
   ]
  },
  {
   "cell_type": "code",
   "execution_count": 4,
   "metadata": {},
   "outputs": [
    {
     "name": "stderr",
     "output_type": "stream",
     "text": [
      "R[write to console]: reading in files with read_tsv\n",
      "\n",
      "R[write to console]: 1 \n",
      "R[write to console]: 2 \n",
      "R[write to console]: 3 \n",
      "R[write to console]: 4 \n",
      "R[write to console]: 5 \n",
      "R[write to console]: 6 \n",
      "R[write to console]: 7 \n",
      "R[write to console]: 8 \n",
      "R[write to console]: 9 \n",
      "R[write to console]: 10 \n",
      "R[write to console]: 11 \n",
      "R[write to console]: 12 \n",
      "R[write to console]: \n",
      "\n",
      "R[write to console]: summarizing abundance\n",
      "\n",
      "R[write to console]: summarizing counts\n",
      "\n",
      "R[write to console]: summarizing length\n",
      "\n"
     ]
    }
   ],
   "source": [
    "%%R\n",
    "files <- list.files(path='./quants', pattern=\"quant.sf\",full.names = TRUE, recursive=T)\n",
    "names(files) <- gsub(\"./quants/(\\\\S+)/quant.sf\",\"\\\\1\",files)\n",
    "\n",
    "txi <- tximport(files, type = \"salmon\", tx2gene = tx2gene, txOut=T)\n",
    "\n",
    "txi.gene <- summarizeToGene(txi, tx2gene, ignoreAfterBar= TRUE)"
   ]
  },
  {
   "cell_type": "markdown",
   "metadata": {},
   "source": [
    "Define the sample sheet"
   ]
  },
  {
   "cell_type": "code",
   "execution_count": 5,
   "metadata": {},
   "outputs": [
    {
     "name": "stdout",
     "output_type": "stream",
     "text": [
      "                  time    cond         sample_id\n",
      "120h_DMSO_rep1    120h    DMSO    120h_DMSO_rep1\n",
      "120h_DMSO_rep2    120h    DMSO    120h_DMSO_rep2\n",
      "120h_treated_rep1 120h treated 120h_treated_rep1\n",
      "120h_treated_rep2 120h treated 120h_treated_rep2\n",
      "6h_DMSO_rep1        6h    DMSO      6h_DMSO_rep1\n",
      "6h_DMSO_rep2        6h    DMSO      6h_DMSO_rep2\n",
      "6h_treated_rep1     6h treated   6h_treated_rep1\n",
      "6h_treated_rep2     6h treated   6h_treated_rep2\n",
      "72h_DMSO_rep1      72h    DMSO     72h_DMSO_rep1\n",
      "72h_DMSO_rep2      72h    DMSO     72h_DMSO_rep2\n",
      "72h_treated_rep1   72h treated  72h_treated_rep1\n",
      "72h_treated_rep2   72h treated  72h_treated_rep2\n"
     ]
    }
   ],
   "source": [
    "%%R \n",
    "# meta \n",
    "treats  <- rep(c(rep('DMSO',2), rep('treated',2)),3)\n",
    "reps    <- rep(c('rep1','rep2'),6)\n",
    "hours   <- c(rep('120h',4),rep('6h',4),rep('72h',4))\n",
    "colData <- data.frame(\n",
    "    time=hours, \n",
    "    cond=treats, \n",
    "    sample_id=paste(hours, treats, reps, sep='_'),\n",
    "    row.names=colnames(txi$abundance)\n",
    ")\n",
    "colData"
   ]
  },
  {
   "cell_type": "markdown",
   "metadata": {},
   "source": [
    "## PCA\n",
    "Initial principal component analysis (PCA) shows the second treated biological replicate at 72h time point, behaves as an outlier. Removing that from the analysis give us a better representation of our dataset. In the second PCA plot, we can see that treated samples at 6h cluster with the non-treated samples which suggest that 6 hours treatment with the drug is not as effective as 72h and 120h. Although, we will check the variant genes in this time-point in the following statistical analysis.\n"
   ]
  },
  {
   "cell_type": "code",
   "execution_count": 6,
   "metadata": {},
   "outputs": [],
   "source": [
    "%%R\n",
    "plot_PCA <- function(vsd, colData=colData, gr=c('time', 'cond'), title=''){\n",
    "    z <- plotPCA(vsd,intgroup=gr, returnData=TRUE)\n",
    "    percentVar <- round(100 * attr(z, \"percentVar\"))\n",
    "    pca <- ggplot(z, aes(PC1, PC2)) +\n",
    "            geom_point(aes(size = 2,  shape=group), alpha = 4/10) +\n",
    "            geom_text_repel(aes(label = row.names(colData)),size = 3.5) +\n",
    "            xlab(paste0(\"PC1: \",percentVar[1],\"% variance\")) +\n",
    "            ylab(paste0(\"PC2: \",percentVar[2],\"% variance\")) +\n",
    "            guides (size = FALSE) +\n",
    "            ggtitle (title)+ \n",
    "            theme(legend.position=\"none\")\n",
    "    return (pca)\n",
    "}"
   ]
  },
  {
   "cell_type": "code",
   "execution_count": 7,
   "metadata": {},
   "outputs": [
    {
     "name": "stderr",
     "output_type": "stream",
     "text": [
      "R[write to console]: using counts and average transcript lengths from tximport\n",
      "\n"
     ]
    },
    {
     "name": "stdout",
     "output_type": "stream",
     "text": [
      "[1] 60240\n"
     ]
    }
   ],
   "source": [
    "%%R \n",
    "dds0 <- DESeqDataSetFromTximport(txi.gene, colData, ~cond + time )\n",
    "nrow(dds0)"
   ]
  },
  {
   "cell_type": "code",
   "execution_count": 9,
   "metadata": {},
   "outputs": [
    {
     "name": "stderr",
     "output_type": "stream",
     "text": [
      "R[write to console]: estimating size factors\n",
      "\n",
      "R[write to console]: using 'avgTxLength' from assays(dds), correcting for library size\n",
      "\n",
      "R[write to console]: estimating dispersions\n",
      "\n",
      "R[write to console]: gene-wise dispersion estimates: 18 workers\n",
      "\n",
      "R[write to console]: mean-dispersion relationship\n",
      "\n",
      "R[write to console]: final dispersion estimates, fitting model and testing: 18 workers\n",
      "\n",
      "From cffi callback <function _processevents at 0x7ff18c39d730>:\n",
      "Traceback (most recent call last):\n",
      "  File \"/rumi/shams/abe/anaconda3/envs/deseq/lib/python3.7/site-packages/rpy2/rinterface_lib/callbacks.py\", line 262, in _processevents\n",
      "    @ffi_proxy.callback(ffi_proxy._processevents_def,\n",
      "KeyboardInterrupt\n"
     ]
    },
    {
     "data": {
      "image/png": "[encoded data removed]"
     },
     "metadata": {},
     "output_type": "display_data"
    }
   ],
   "source": [
    "%%R \n",
    "dds.pca <- DESeq(dds0, parallel=TRUE)\n",
    "# results \n",
    "vsd <- varianceStabilizingTransformation(dds.pca)\n",
    "\n",
    "pca = plot_PCA(vsd, colData)\n",
    "pca"
   ]
  },
  {
   "cell_type": "code",
   "execution_count": 10,
   "metadata": {},
   "outputs": [
    {
     "name": "stderr",
     "output_type": "stream",
     "text": [
      "R[write to console]: Saving 6.67 x 6.67 in image\n",
      "\n",
      "R[write to console]: Saving 6.67 x 6.67 in image\n",
      "\n"
     ]
    }
   ],
   "source": [
    "%%R\n",
    "plot_Save(pca,'plots/PCA_raw')"
   ]
  },
  {
   "cell_type": "code",
   "execution_count": 11,
   "metadata": {
    "scrolled": false
   },
   "outputs": [
    {
     "data": {
      "image/png": "[encoded data removed]"
     },
     "metadata": {},
     "output_type": "display_data"
    }
   ],
   "source": [
    "%%R\n",
    "par(mar=c(15,5,1,1))\n",
    "boxplot(log10(assays(dds.pca)[[\"cooks\"]]), range=0, las=2)"
   ]
  },
  {
   "cell_type": "markdown",
   "metadata": {},
   "source": [
    "Filter non-informative genes and outlier sample:"
   ]
  },
  {
   "cell_type": "code",
   "execution_count": 12,
   "metadata": {},
   "outputs": [
    {
     "name": "stderr",
     "output_type": "stream",
     "text": [
      "R[write to console]: estimating size factors\n",
      "\n",
      "R[write to console]: using 'avgTxLength' from assays(dds), correcting for library size\n",
      "\n",
      "R[write to console]: estimating dispersions\n",
      "\n",
      "R[write to console]: gene-wise dispersion estimates: 18 workers\n",
      "\n",
      "R[write to console]: mean-dispersion relationship\n",
      "\n",
      "R[write to console]: final dispersion estimates, fitting model and testing: 18 workers\n",
      "\n"
     ]
    },
    {
     "name": "stdout",
     "output_type": "stream",
     "text": [
      "[1] 12309\n"
     ]
    }
   ],
   "source": [
    "%%R \n",
    "# all samples with a count of higher than 10\n",
    "keep <- rowSums(counts(dds0) > 10) == ncol(dds0)\n",
    "# at least 3 samples with a count of 10 or higher\n",
    "# keep <- rowSums(counts(dds) >= 10) >= 3\n",
    "\n",
    "dds1 <- dds0[keep,-12]\n",
    "dds1 <- DESeq(dds1) #, parallel=TRUE)\n",
    "nrow(dds1)"
   ]
  },
  {
   "cell_type": "code",
   "execution_count": 13,
   "metadata": {},
   "outputs": [],
   "source": [
    "%%R\n",
    "# results \n",
    "vsd <- varianceStabilizingTransformation(dds1)\n",
    "p = plot_PCA(vsd, colData[-12,], title='Remove sample `72h_treated_rep2`')"
   ]
  },
  {
   "cell_type": "markdown",
   "metadata": {},
   "source": [
    "Create seprate PCAs"
   ]
  },
  {
   "cell_type": "code",
   "execution_count": 14,
   "metadata": {},
   "outputs": [
    {
     "name": "stderr",
     "output_type": "stream",
     "text": [
      "R[write to console]: using counts and average transcript lengths from tximport\n",
      "\n",
      "R[write to console]: estimating size factors\n",
      "\n",
      "R[write to console]: using 'avgTxLength' from assays(dds), correcting for library size\n",
      "\n",
      "R[write to console]: estimating dispersions\n",
      "\n",
      "R[write to console]: gene-wise dispersion estimates\n",
      "\n",
      "R[write to console]: mean-dispersion relationship\n",
      "\n",
      "R[write to console]: -- note: fitType='parametric', but the dispersion trend was not well captured by the\n",
      "   function: y = a/x + b, and a local regression fit was automatically substituted.\n",
      "   specify fitType='local' or 'mean' to avoid this message next time.\n",
      "\n",
      "R[write to console]: final dispersion estimates\n",
      "\n",
      "R[write to console]: fitting model and testing\n",
      "\n",
      "R[write to console]: estimating size factors\n",
      "\n",
      "R[write to console]: using 'avgTxLength' from assays(dds), correcting for library size\n",
      "\n",
      "R[write to console]: estimating dispersions\n",
      "\n",
      "R[write to console]: gene-wise dispersion estimates\n",
      "\n",
      "R[write to console]: mean-dispersion relationship\n",
      "\n",
      "R[write to console]: -- note: fitType='parametric', but the dispersion trend was not well captured by the\n",
      "   function: y = a/x + b, and a local regression fit was automatically substituted.\n",
      "   specify fitType='local' or 'mean' to avoid this message next time.\n",
      "\n",
      "R[write to console]: final dispersion estimates\n",
      "\n",
      "R[write to console]: fitting model and testing\n",
      "\n"
     ]
    }
   ],
   "source": [
    "%%R \n",
    "dds1 <- DESeqDataSetFromTximport(txi, colData, ~time)\n",
    "\n",
    "U = grep('DMSO',    colnames(dds0), value=1)\n",
    "T = grep('treated', colnames(dds0), value=1)[-6]\n",
    "\n",
    "# subset\n",
    "dds.U = dds1[keep, U]\n",
    "# make object for the PCA\n",
    "dds.pcaU <- DESeq(dds.U) #, parallel=TRUE)\n",
    "vsd.U <- varianceStabilizingTransformation(dds.pcaU)\n",
    "# plot it \n",
    "p.U = plot_PCA(vsd.U, colData[U,], gr=c('time'), title='Non-treated')\n",
    "\n",
    "\n",
    "# subset\n",
    "dds.T = dds1[keep, T]\n",
    "# make object for the PCA\n",
    "dds.pcaT <- DESeq(dds.T) #, parallel=TRUE)\n",
    "vsd.T <- varianceStabilizingTransformation(dds.pcaT)\n",
    "# plot it \n",
    "p.T = plot_PCA(vsd.T, colData[T,], gr=c('time'), title='Treated')"
   ]
  },
  {
   "cell_type": "code",
   "execution_count": 15,
   "metadata": {},
   "outputs": [
    {
     "data": {
      "image/png": "[encoded data removed]"
     },
     "metadata": {},
     "output_type": "display_data"
    }
   ],
   "source": [
    "%%R\n",
    "p / (p.U + p.T) "
   ]
  },
  {
   "cell_type": "code",
   "execution_count": 16,
   "metadata": {},
   "outputs": [
    {
     "name": "stderr",
     "output_type": "stream",
     "text": [
      "R[write to console]: Saving 6.67 x 6.67 in image\n",
      "\n",
      "R[write to console]: Saving 6.67 x 6.67 in image\n",
      "\n"
     ]
    }
   ],
   "source": [
    "%%R\n",
    "plot_Save(p / (p.U + p.T), 'plots/PCA_filtered')"
   ]
  },
  {
   "cell_type": "code",
   "execution_count": null,
   "metadata": {},
   "outputs": [],
   "source": []
  },
  {
   "cell_type": "code",
   "execution_count": 70,
   "metadata": {},
   "outputs": [],
   "source": [
    "%%bash\n",
    "echo '## PCA' >> README.md\n",
    "echo '<img src=plots/plots/PCA_filtered.png style=\"width:600px\">' >> README.md"
   ]
  },
  {
   "cell_type": "markdown",
   "metadata": {},
   "source": [
    "# Differential expression analysis\n",
    "I'm doing differential expression analysis for treated samples vs. untreated at 6h, 72h and 120h. "
   ]
  },
  {
   "cell_type": "code",
   "execution_count": 8,
   "metadata": {},
   "outputs": [],
   "source": [
    "%%R\n",
    "plot_Volcano <- function(res, lfc.cutoff  = 1,pval.cutoff = 0.05, title='', x_min=-20,x_max=20){\n",
    "    res$sig <- as.factor(res$pvalue < pval.cutoff & abs(res$log2FoldChange) > lfc.cutoff)\n",
    "    relevel(res$sig, ref=TRUE)\n",
    "    vol = res %>% ggplot(\n",
    "        aes(x=log2FoldChange, y=-log10(pvalue), colour=sig, fill=sig)) +\n",
    "        geom_point(aes(color = sig),alpha = 1/10) +\n",
    "            xlim(c(x_min,x_max)) +\n",
    "    #         ylim(c(0,11)) +\n",
    "            geom_hline(yintercept=-log10(pval.cutoff), linetype=\"dashed\", alpha = 4/10) +\n",
    "            geom_vline(xintercept=lfc.cutoff, linetype=\"dashed\", alpha = 4/10) +\n",
    "            geom_vline(xintercept=(-1)*lfc.cutoff, linetype=\"dashed\", alpha = 4/10) +\n",
    "            scale_color_manual(values = c(\"grey\", \"red\")) +\n",
    "            theme_bw() + \n",
    "            theme(legend.position=\"none\") +\n",
    "            ggtitle (title) + \n",
    "            geom_text_repel(\n",
    "                data = subset(res[order(res$pvalue),], sig == TRUE)[1:7,],\n",
    "                aes(label = name),\n",
    "                size = 3,\n",
    "                box.padding = unit(0.35, \"lines\"),\n",
    "                point.padding = unit(0.3, \"lines\")\n",
    "            )\n",
    "     return (vol)\n",
    "} \n",
    "\n",
    "get_Result <- function(dds, design){\n",
    "    res = results(dds, contrast=design, parallel=TRUE)  %>%\n",
    "        data.frame %>% \n",
    "        add_column(name=gene2name[rownames(dds),]) %>%\n",
    "        add_column(ensembl=rownames(dds) %>% substr(0, 15))\n",
    "                \n",
    "    res$log2FoldChange[is.na(res$log2FoldChange)] <- 0\n",
    "    res$padj[is.na(res$padj)] <- 1\n",
    "    return (res)\n",
    "}\n",
    "\n",
    "write_Result <- function(res, name_it, col=FALSE, row=FALSE){\n",
    "    write.table(res,name_it, sep=\"\\t\", quote=FALSE, col.names=col, row.names=row)\n",
    "}"
   ]
  },
  {
   "cell_type": "markdown",
   "metadata": {},
   "source": [
    "### First scenario\n",
    "Time included as factor variable. \n",
    "\n",
    "We make two different `dds` object one with with no `cond:time` interaction term and the other one with the interaction term (**ANOVA-like comparison**). Then, I'm replacing results from first object to the secound one for genes with adjust p-values (padj) > 0.05. Hossien Asgharian told me these genes has more accurate estimation from the model with no interaction term. "
   ]
  },
  {
   "cell_type": "code",
   "execution_count": 9,
   "metadata": {},
   "outputs": [
    {
     "name": "stderr",
     "output_type": "stream",
     "text": [
      "R[write to console]: using counts and average transcript lengths from tximport\n",
      "\n",
      "R[write to console]: estimating size factors\n",
      "\n",
      "R[write to console]: using 'avgTxLength' from assays(dds), correcting for library size\n",
      "\n",
      "R[write to console]: estimating dispersions\n",
      "\n",
      "R[write to console]: gene-wise dispersion estimates\n",
      "\n",
      "R[write to console]: mean-dispersion relationship\n",
      "\n",
      "R[write to console]: final dispersion estimates\n",
      "\n",
      "R[write to console]: fitting model and testing\n",
      "\n"
     ]
    }
   ],
   "source": [
    "%%R \n",
    "dds <- DESeqDataSetFromTximport(txi.gene, colData, ~cond + time + cond:time)\n",
    "\n",
    "dds$time <- relevel(dds$time, ref=\"6h\")\n",
    "\n",
    "# Annova test\n",
    "dds <- DESeq(dds, test=\"LRT\", reduced=~1) #, parallel=TRUE)\n",
    "ncu <- counts(dds, normalized=TRUE) \n",
    "write.table(ncu,'hl60_exp_deseq2_norm.txt', sep=\"\\t\", quote=FALSE, col.names=colData$sample_id)"
   ]
  },
  {
   "cell_type": "code",
   "execution_count": 10,
   "metadata": {},
   "outputs": [
    {
     "name": "stdout",
     "output_type": "stream",
     "text": [
      "[1] \"Intercept\"            \"cond_treated_vs_DMSO\" \"time_120h_vs_6h\"     \n",
      "[4] \"time_72h_vs_6h\"       \"condtreated.time120h\" \"condtreated.time72h\" \n"
     ]
    }
   ],
   "source": [
    "%%R\n",
    "resultsNames(dds)"
   ]
  },
  {
   "cell_type": "code",
   "execution_count": 11,
   "metadata": {},
   "outputs": [
    {
     "name": "stderr",
     "output_type": "stream",
     "text": [
      "R[write to console]: using counts and average transcript lengths from tximport\n",
      "\n",
      "R[write to console]: estimating size factors\n",
      "\n",
      "R[write to console]: using 'avgTxLength' from assays(dds), correcting for library size\n",
      "\n",
      "R[write to console]: estimating dispersions\n",
      "\n",
      "R[write to console]: gene-wise dispersion estimates\n",
      "\n",
      "R[write to console]: mean-dispersion relationship\n",
      "\n",
      "R[write to console]: final dispersion estimates\n",
      "\n",
      "R[write to console]: fitting model and testing\n",
      "\n"
     ]
    }
   ],
   "source": [
    "%%R\n",
    "dds_ind <- DESeqDataSetFromTximport(txi.gene, colData, ~cond + time)\n",
    "\n",
    "dds_ind$time <- relevel(dds_ind$time, ref=\"6h\")\n",
    "\n",
    "dds_ind <- DESeq(dds_ind, test=\"LRT\", reduced=~1) #, parallel=TRUE)"
   ]
  },
  {
   "cell_type": "code",
   "execution_count": 12,
   "metadata": {},
   "outputs": [
    {
     "name": "stdout",
     "output_type": "stream",
     "text": [
      "[1] \"Intercept\"            \"cond_treated_vs_DMSO\" \"time_120h_vs_6h\"     \n",
      "[4] \"time_72h_vs_6h\"      \n"
     ]
    }
   ],
   "source": [
    "%%R\n",
    "resultsNames(dds_ind)"
   ]
  },
  {
   "cell_type": "code",
   "execution_count": 13,
   "metadata": {},
   "outputs": [],
   "source": [
    "%%R\n",
    "# no interaction\n",
    "res.ind = get_Result(dds_ind,list('cond_treated_vs_DMSO'))\n",
    "\n",
    "# contrast design: treatment at 6h vs dmso at 6h\n",
    "res.6h  = get_Result(dds, list('cond_treated_vs_DMSO'))\n",
    "res.6h  [res.6h$padj   > 0.05,] = res.ind[res.6h$padj  > 0.05,]\n",
    "vol.6h  = plot_Volcano(res.6h, title='Treated time: 6 hours')\n",
    "# contrast design: treatment at 72h vs dmso at 72h\n",
    "res.72h = get_Result(dds, list('cond_treated_vs_DMSO', 'condtreated.time72h'))\n",
    "res.72h [res.72h$padj  > 0.05,] = res.ind[res.72h$padj > 0.05,]\n",
    "vol.72h = plot_Volcano(res.72h, title='Treated time: 72 hours')\n",
    "\n",
    "# contrast design: treatment at 120h vs dmso at 120h\n",
    "res.120h= get_Result(dds, list('cond_treated_vs_DMSO', 'condtreated.time120h'))\n",
    "res.120h[res.120h$padj > 0.05,] = res.ind[res.120h$padj> 0.05,]\n",
    "vol.120h= plot_Volcano(res.120h, title='Treated time: 120 hours')"
   ]
  },
  {
   "cell_type": "code",
   "execution_count": 27,
   "metadata": {
    "scrolled": false
   },
   "outputs": [
    {
     "data": {
      "image/png": "[encoded data removed]"
     },
     "metadata": {},
     "output_type": "display_data"
    }
   ],
   "source": [
    "%%R\n",
    "vol = vol.6h / vol.72h / vol.120h\n",
    "vol"
   ]
  },
  {
   "cell_type": "code",
   "execution_count": 28,
   "metadata": {},
   "outputs": [
    {
     "name": "stderr",
     "output_type": "stream",
     "text": [
      "R[write to console]: Saving 6.67 x 6.67 in image\n",
      "\n",
      "R[write to console]: Saving 6.67 x 6.67 in image\n",
      "\n"
     ]
    }
   ],
   "source": [
    "%%R\n",
    "plot_Save(vol, 'plots/Volcano_plot')"
   ]
  },
  {
   "cell_type": "code",
   "execution_count": 71,
   "metadata": {},
   "outputs": [],
   "source": [
    "%%bash\n",
    "echo '## Volcano plot' >> README.md\n",
    "echo '<img src=plots/plots/Volcano_plot.png style=\"width:600px\">' >> README.md"
   ]
  },
  {
   "cell_type": "code",
   "execution_count": 29,
   "metadata": {},
   "outputs": [],
   "source": [
    "%%R    \n",
    "df = data.frame(\n",
    "    'gene_id'=rownames(res.ind), 'gene_name'= res.ind$name,\n",
    "    'baseMean' = res.ind$baseMean,\n",
    "    'log2FC_6h' = res.6h$log2FoldChange,'pval_6h'= res.6h$pval,\n",
    "    'log2FC_72h' = res.72h$log2FoldChange,'pval_72h'= res.72h$pval,\n",
    "    'log2FC_120h'  = res.120h$log2FoldChange,'pval_120h'= res.120h$pval) %>% remove_rownames\n",
    "    \n",
    "df = df[order(df$log2FC_120h),] %>% remove_rownames\n",
    "    \n",
    "write_Result(df, 'hl60_delta_exp_table.txt', col=TRUE)"
   ]
  },
  {
   "cell_type": "code",
   "execution_count": 36,
   "metadata": {},
   "outputs": [],
   "source": [
    "%%R \n",
    "df_sig = df %>% \n",
    "    filter ((pval_6h < 0.05 | pval_72h < 0.05 | pval_120h < 0.05) & \n",
    "            (abs(log2FC_6h) > 2 | abs(log2FC_72h) > 2 | abs(log2FC_120h) > 2)) %>% \n",
    "    remove_rownames %>% column_to_rownames('gene_id') "
   ]
  },
  {
   "cell_type": "markdown",
   "metadata": {},
   "source": [
    "# Heatmap \n",
    "## Most variable genes \n",
    "Cluster high variant genes over time. "
   ]
  },
  {
   "cell_type": "code",
   "execution_count": 100,
   "metadata": {
    "scrolled": false
   },
   "outputs": [],
   "source": [
    "# %%R \n",
    "# library(pheatmap)\n",
    "# # mostVar Calculate the top n most variable genes in a matrix of gene expression data\n",
    "# # https://rdrr.io/github/abc-igmm/transcripTools/man/mostVar.html\n",
    "# mostVar <- function(data, n, i_want_most_var = FALSE) {\n",
    "#   data.var <- apply(data, 1, stats::var)\n",
    "#   data[order(data.var, decreasing = i_want_most_var)[1:n],] \n",
    "# }\n",
    "\n",
    "# ncu %>% head \n",
    "# # fc <- df[!duplicated(df$gene_name),c('gene_name','log2FC_6h','log2FC_72h','log2FC_120h')] %>% remove_rownames %>% column_to_rownames('gene_name')\n",
    "\n",
    "# # # scale - Z-Score\n",
    "# # fc <- data.frame(apply(fc,2,scale, center=TRUE, scale=TRUE), row.names=rownames(fc)) \n",
    "\n",
    "# # # filter most variable genes\n",
    "# # fc = mostVar(fc,30)\n",
    "# # # Plot heatmap\n",
    "# # h1 <- pheatmap(fc,cluster_cols = FALSE,angle_col=45)\n",
    "# # h1"
   ]
  },
  {
   "cell_type": "markdown",
   "metadata": {},
   "source": [
    "## Clustering "
   ]
  },
  {
   "cell_type": "code",
   "execution_count": 57,
   "metadata": {
    "scrolled": false
   },
   "outputs": [
    {
     "data": {
      "image/png": "[encoded data removed]"
     },
     "metadata": {},
     "output_type": "display_data"
    }
   ],
   "source": [
    "%%R \n",
    "library(RColorBrewer)\n",
    "library(pheatmap)\n",
    "\n",
    "# Subset normalized counts to significant genes\n",
    "sig_norm_counts <- ncu[rownames(df_sig), ]\n",
    "\n",
    "# Choose heatmap color palette\n",
    "heat_colors <- brewer.pal(n = 6, name = \"YlOrRd\")\n",
    "\n",
    "ann_colors = list(\n",
    "    cond = c('DMSO'=\"blue\", 'treated'=\"firebrick\"),\n",
    "    time = c('120h'= \"darkgreen\", '72h'=\"red\", '6h'=\"orange\")\n",
    ")\n",
    "\n",
    "# Plot heatmap\n",
    "h = pheatmap(sig_norm_counts, \n",
    "         color = heat_colors, \n",
    "         cluster_cols = F, \n",
    "         show_rownames = F,\n",
    "         annotation = select(colData, time, cond), \n",
    "         scale = 'row',\n",
    "         main = 'RNA Expression\\nhl60 cell line',\n",
    "         angle_col= 45,\n",
    "         annotation_legend=F,\n",
    "         annotation_colors = ann_colors\n",
    "            )"
   ]
  },
  {
   "cell_type": "code",
   "execution_count": 58,
   "metadata": {},
   "outputs": [
    {
     "name": "stdout",
     "output_type": "stream",
     "text": [
      "png \n",
      "  2 \n"
     ]
    }
   ],
   "source": [
    "%%R \n",
    "# https://stackoverflow.com/questions/43051525/how-to-draw-pheatmap-plot-to-screen-and-also-save-to-file\n",
    "pdf('plots/Heatmap_clustering.pdf', width=7, height=7)\n",
    "grid::grid.newpage()\n",
    "grid::grid.draw(h$gtable)\n",
    "dev.off()"
   ]
  },
  {
   "cell_type": "code",
   "execution_count": 72,
   "metadata": {},
   "outputs": [],
   "source": [
    "%%bash\n",
    "echo '## Heatmap clustering' >> README.md\n",
    "echo '<img src=plots/plots/Heatmap_clustering.pdf.png style=\"width:600px\">' >> README.md"
   ]
  },
  {
   "cell_type": "markdown",
   "metadata": {},
   "source": [
    "## Enrichment analysis \n",
    "\n",
    "Prepare results for running iPAGE:"
   ]
  },
  {
   "cell_type": "code",
   "execution_count": 14,
   "metadata": {},
   "outputs": [],
   "source": [
    "%%R \n",
    "write_Result(res.6h  [,c('ensembl','log2FoldChange')] %>% remove_rownames, '6h_delta_exp.txt')\n",
    "write_Result(res.72h [,c('ensembl','log2FoldChange')] %>% remove_rownames, '72h_delta_exp.txt')\n",
    "write_Result(res.120h[,c('ensembl','log2FoldChange')] %>% remove_rownames, '120h_delta_exp.txt')"
   ]
  },
  {
   "cell_type": "code",
   "execution_count": 92,
   "metadata": {},
   "outputs": [],
   "source": [
    "%%bash\n",
    "ipage=/rumi/shams/abe/Workflows/my_scripts/ipage_human_ensembl.sh \n",
    "nohup ls *delta_exp.txt | parallel -j18 -k bash $ipage {} &> ipage.out &"
   ]
  },
  {
   "cell_type": "code",
   "execution_count": 131,
   "metadata": {},
   "outputs": [],
   "source": [
    "%%bash\n",
    "echo '<h1>'Enrichment analysis'<h1>' >> README.md\n",
    "\n",
    "declare -a Comp=('6h' '72h' '120h')\n",
    "\n",
    "for f in `ls -d /flash/bin/iPAGEv1.0/PAGE_DATA/ANNOTATIONS/human_ensembl*`; do\n",
    "    base=`basename \"$f\"`\n",
    "    echo '<table>' >> README.md\n",
    "    echo '  <tr>' >> README.md\n",
    "    echo '  <h2>'$base'<h2>' >> README.md\n",
    "    for C in \"${Comp[@]}\"; do\n",
    "        echo '    <td><img src='${C}'_delta_exp/'${base}'.all.png style=\"width:600px\">' >> README.md\n",
    "    done\n",
    "    echo '  <tr>' >> README.md\n",
    "    echo '<table>' >> README.md\n",
    "done"
   ]
  },
  {
   "cell_type": "markdown",
   "metadata": {},
   "source": [
    "### Second scenario\n",
    "Time as continues variable"
   ]
  },
  {
   "cell_type": "code",
   "execution_count": 23,
   "metadata": {},
   "outputs": [],
   "source": [
    "# %%R \n",
    "# # meta \n",
    "# colData.T <- data.frame(\n",
    "#     time=c(rep(120,4),rep(6,4),rep(72,4)), \n",
    "#     cond=rep(c(rep('DMSO',2), rep('treated',2)),3), \n",
    "#     time_cond=paste(hours,treats,sep='_'), \n",
    "#     sample_id=colnames(txi$abundance),\n",
    "#     row.names=colnames(txi$abundance))\n",
    "\n",
    "# dds.T <- DESeqDataSetFromTximport(txi.gene, colData.T, ~cond + time + cond:time)\n",
    "# dds.T <- DESeq(dds.T, test=\"LRT\", reduced=~1, parallel=TRUE)"
   ]
  },
  {
   "cell_type": "code",
   "execution_count": 24,
   "metadata": {},
   "outputs": [],
   "source": [
    "# %%R\n",
    "# resultsNames(dds.T)"
   ]
  },
  {
   "cell_type": "code",
   "execution_count": 25,
   "metadata": {},
   "outputs": [],
   "source": [
    "# %%R\n",
    "# res_cnt_time_T_vs_U = results(dds.T, name='cond_treated_vs_DMSO', parallel=T) %>% \n",
    "#     data.frame %>% add_column(name = gene2name[rownames(dds.T),]) %>%\n",
    "#     add_column(ensembl = rownames(dds.T) %>% substr(0, 15))\n",
    "\n",
    "# p1 = plot_Volcano(res_cnt_time_T_vs_U, 0.1, title='Time as continuous variable: Treated vs DMSO', \n",
    "#                   x_min=-2,x_max=2)"
   ]
  },
  {
   "cell_type": "code",
   "execution_count": 56,
   "metadata": {},
   "outputs": [],
   "source": [
    "# %%R\n",
    "# res_cnt_time = results(dds.T, name='condtreated.time', parallel=T) %>% \n",
    "#     data.frame %>% add_column(name = gene2name[rownames(dds.T),]) %>%\n",
    "#     add_column(ensembl = rownames(dds.T) %>% substr(0, 15))\n",
    "\n",
    "# p2 = plot_Volcano(res_cnt_time, 0.01, title='Time as continuous variable: Condition and time interaction', \n",
    "#                   x_min=-0.1,x_max=0.1)"
   ]
  },
  {
   "cell_type": "code",
   "execution_count": 26,
   "metadata": {},
   "outputs": [],
   "source": [
    "# %%R\n",
    "# df = data.frame(\n",
    "#     'gene_id'=rownames(res_cnt_time_T_vs_U), 'gene_name'= res_cnt_time_T_vs_U$name,\n",
    "#     'baseMean' = res_cnt_time$baseMean,\n",
    "#     'log2FC_time' = res_cnt_time$log2FoldChange,'log2FC_time'= res_cnt_time$pval,\n",
    "#     'log2FC_T_vs_U' = res_cnt_time_T_vs_U$log2FoldChange,'pval_T_vs_U'= res_cnt_time_T_vs_U$pval\n",
    "# )    \n",
    "# df = df[order(df$log2FC_time),]\n",
    "\n",
    "# write_Result(df, 'results_time_continuous.txt', col=TRUE)"
   ]
  },
  {
   "cell_type": "code",
   "execution_count": 27,
   "metadata": {},
   "outputs": [],
   "source": [
    "# %%R\n",
    "# plot_Save(p1 / p2, 'Volcano_time_continuous')\n",
    "# p1 / p2"
   ]
  },
  {
   "cell_type": "code",
   "execution_count": 46,
   "metadata": {},
   "outputs": [
    {
     "name": "stdout",
     "output_type": "stream",
     "text": [
      "R version 3.5.1 (2018-07-02)\n",
      "Platform: x86_64-conda_cos6-linux-gnu (64-bit)\n",
      "Running under: Ubuntu 18.04.2 LTS\n",
      "\n",
      "Matrix products: default\n",
      "BLAS/LAPACK: /rumi/shams/abe/anaconda3/envs/deseq/lib/R/lib/libRlapack.so\n",
      "\n",
      "locale:\n",
      " [1] LC_CTYPE=en_US.UTF-8       LC_NUMERIC=C              \n",
      " [3] LC_TIME=en_US.UTF-8        LC_COLLATE=en_US.UTF-8    \n",
      " [5] LC_MONETARY=en_US.UTF-8    LC_MESSAGES=en_US.UTF-8   \n",
      " [7] LC_PAPER=en_US.UTF-8       LC_NAME=C                 \n",
      " [9] LC_ADDRESS=C               LC_TELEPHONE=C            \n",
      "[11] LC_MEASUREMENT=en_US.UTF-8 LC_IDENTIFICATION=C       \n",
      "\n",
      "attached base packages:\n",
      " [1] stats4    parallel  tools     stats     graphics  grDevices utils    \n",
      " [8] datasets  methods   base     \n",
      "\n",
      "other attached packages:\n",
      " [1] patchwork_1.0.0             DESeq2_1.20.0              \n",
      " [3] SummarizedExperiment_1.10.1 DelayedArray_0.6.6         \n",
      " [5] BiocParallel_1.14.2         matrixStats_0.55.0         \n",
      " [7] ggrepel_0.8.1               forcats_0.4.0              \n",
      " [9] stringr_1.4.0               dplyr_0.8.3                \n",
      "[11] purrr_0.3.3                 readr_1.3.1                \n",
      "[13] tidyr_1.0.0                 tibble_2.1.3               \n",
      "[15] ggplot2_3.2.1               tidyverse_1.2.1            \n",
      "[17] tximport_1.10.1             GenomicFeatures_1.32.3     \n",
      "[19] AnnotationDbi_1.42.1        Biobase_2.40.0             \n",
      "[21] GenomicRanges_1.32.7        GenomeInfoDb_1.16.0        \n",
      "[23] IRanges_2.14.12             S4Vectors_0.18.3           \n",
      "[25] BiocGenerics_0.26.0        \n",
      "\n",
      "loaded via a namespace (and not attached):\n",
      " [1] nlme_3.1-141             bitops_1.0-6             lubridate_1.7.4         \n",
      " [4] bit64_0.9-7              RColorBrewer_1.1-2       progress_1.2.2          \n",
      " [7] httr_1.4.1               backports_1.1.5          R6_2.4.0                \n",
      "[10] rpart_4.1-15             Hmisc_4.2-0              DBI_1.0.0               \n",
      "[13] lazyeval_0.2.2           colorspace_1.4-1         nnet_7.3-12             \n",
      "[16] withr_2.1.2              gridExtra_2.3            tidyselect_0.2.5        \n",
      "[19] prettyunits_1.0.2        bit_1.1-14               compiler_3.5.1          \n",
      "[22] cli_1.1.0                rvest_0.3.5              htmlTable_1.13.2        \n",
      "[25] xml2_1.2.2               labeling_0.3             rtracklayer_1.40.6      \n",
      "[28] checkmate_1.9.4          scales_1.0.0             genefilter_1.62.0       \n",
      "[31] digest_0.6.22            Rsamtools_1.32.3         foreign_0.8-72          \n",
      "[34] XVector_0.20.0           htmltools_0.4.0          base64enc_0.1-3         \n",
      "[37] pkgconfig_2.0.3          htmlwidgets_1.5.1        rlang_0.4.1             \n",
      "[40] readxl_1.3.1             rstudioapi_0.10          RSQLite_2.1.2           \n",
      "[43] jsonlite_1.6             acepack_1.4.1            RCurl_1.95-4.12         \n",
      "[46] magrittr_1.5             GenomeInfoDbData_1.1.0   Formula_1.2-3           \n",
      "[49] Matrix_1.2-17            Rcpp_1.0.3               munsell_0.5.0           \n",
      "[52] lifecycle_0.1.0          stringi_1.4.3            zlibbioc_1.26.0         \n",
      "[55] grid_3.5.1               blob_1.2.0               crayon_1.3.4            \n",
      "[58] lattice_0.20-38          Biostrings_2.48.0        haven_2.2.0             \n",
      "[61] splines_3.5.1            annotate_1.58.0          hms_0.5.2               \n",
      "[64] locfit_1.5-9.1           knitr_1.25               zeallot_0.1.0           \n",
      "[67] pillar_1.4.2             geneplotter_1.58.0       biomaRt_2.36.1          \n",
      "[70] XML_3.98-1.20            glue_1.3.1               latticeExtra_0.6-28     \n",
      "[73] data.table_1.11.6        modelr_0.1.5             vctrs_0.2.0             \n",
      "[76] cellranger_1.1.0         gtable_0.3.0             assertthat_0.2.1        \n",
      "[79] xfun_0.10                xtable_1.8-4             broom_0.5.0             \n",
      "[82] survival_2.44-1.1        GenomicAlignments_1.16.0 memoise_1.1.0           \n",
      "[85] cluster_2.1.0           \n"
     ]
    }
   ],
   "source": [
    "%%R\n",
    "sessionInfo()"
   ]
  }
 ],
 "metadata": {
  "kernelspec": {
   "display_name": "Python [conda env:deseq]",
   "language": "python",
   "name": "conda-env-deseq-py"
  },
  "language_info": {
   "codemirror_mode": {
    "name": "ipython",
    "version": 3
   },
   "file_extension": ".py",
   "mimetype": "text/x-python",
   "name": "python",
   "nbconvert_exporter": "python",
   "pygments_lexer": "ipython3",
   "version": "3.7.3"
  },
  "widgets": {
   "application/vnd.jupyter.widget-state+json": {
    "state": {},
    "version_major": 2,
    "version_minor": 0
   }
  }
 },
 "nbformat": 4,
 "nbformat_minor": 2
}
