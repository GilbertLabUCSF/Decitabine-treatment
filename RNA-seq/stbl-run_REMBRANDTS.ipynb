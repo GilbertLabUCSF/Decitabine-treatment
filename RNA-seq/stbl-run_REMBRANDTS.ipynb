{
 "cells": [
  {
   "cell_type": "markdown",
   "metadata": {},
   "source": [
    "# CRIES\n",
    "### Counting Reads for Intronic and Exonic Segments\n",
    "https://github.com/csglab/CRIES\n",
    "\n",
    "\n",
    "**Step 1. Creating GTF annotation files**\n",
    "\n",
    "Intron and exon annotations for `gencode.v34` made within my notebook named `build-genome.ipynb`. \n",
    "\n",
    "**Step 2. Mapping reads**\n",
    "\n",
    "`STAR` \n",
    "\n",
    "**Step 3. Counting reads that map to intronic or exonic segments of each gene**\n",
    "\n",
    "`featureCounts`\n",
    "http://bioinf.wehi.edu.au/featureCounts/"
   ]
  },
  {
   "cell_type": "code",
   "execution_count": 2,
   "metadata": {},
   "outputs": [
    {
     "name": "stdout",
     "output_type": "stream",
     "text": [
      "#loop featureCounts intron and exon counts\r\n",
      "\r\n",
      "PDIR=$1\r\n",
      "bamDIR=$2\r\n",
      "countDIR=$3\r\n",
      "logDIR=$4\r\n",
      "JOBS=$5\r\n",
      "\r\n",
      "cd $PDIR\r\n",
      "\r\n",
      "GTF_index='/rumi/shams/genomes/hg38/hg38_ensemble_'\r\n",
      "\r\n",
      "mkdir -p $countDIR\r\n",
      "mkdir -p $logDIR\r\n",
      "\r\n",
      "for f in ${bamDIR}/*.bam; do\r\n",
      "    base=`basename $f`\r\n",
      "    sample=${base/.bam/};\r\n",
      "    echo -e '----------------------- ' $sample  ' -----------------------'\r\n",
      "    echo `date` \r\n",
      "    featureCounts -M -T $JOBS -t intron -g gene_id -a ${GTF_index}introns.gtf -o ${countDIR}/${sample}_introns.txt ${f} &> ${logDIR}/${sample}_introns.log\r\n",
      "    featureCounts -M -T $JOBS -t exon -g gene_id -a ${GTF_index}consExons.gtf -o ${countDIR}/${sample}_exons.txt ${f} &> ${logDIR}/${sample}_exons.log\r\n",
      "    echo `date` Done!\r\n",
      "done\r\n"
     ]
    }
   ],
   "source": [
    "!cat ~/GitHub/Abe/my_scripts/intron_exon_counts.sh"
   ]
  },
  {
   "cell_type": "markdown",
   "metadata": {},
   "source": [
    "Note that `$countDIR` is `./stbl-counts`"
   ]
  },
  {
   "cell_type": "markdown",
   "metadata": {},
   "source": [
    "### Run multiQC"
   ]
  },
  {
   "cell_type": "raw",
   "metadata": {
    "scrolled": false
   },
   "source": [
    "!multiqc stbl-counts/*_exons.txt.summary -f -n counts-exons-multiqc.html\n",
    "!multiqc stbl-counts/*_introns.txt.summary -f -n counts-introns-multiqc.html"
   ]
  },
  {
   "cell_type": "markdown",
   "metadata": {},
   "source": [
    "**Step 4. Normalization** - REMBRANDTS"
   ]
  },
  {
   "cell_type": "markdown",
   "metadata": {},
   "source": [
    "#### REMoving Bias from Rna-seq ANalysis of Differential Transcript Stability\n",
    "[REMBRANDTS](https://github.com/csglab/REMBRANDTS) is a package for analysis of RNA-seq data across multiple samples in order to obtain unbiased estimates of differential mRNA stability. It uses DESeq to obtain estimates of differential pre-mRNA and mature mRNA abundance across samples, and then estimates a gene-specific bias function that is then subtracted from Δexon–Δintron to provide unbiased differential mRNA stability measures.\n",
    "\n"
   ]
  },
  {
   "cell_type": "code",
   "execution_count": 2,
   "metadata": {},
   "outputs": [],
   "source": [
    "import os\n",
    "import subprocess\n",
    "import glob\n",
    "import warnings\n",
    "import pandas as pd\n",
    "import numpy as np\n",
    "\n",
    "from rpy2.rinterface import RRuntimeWarning\n",
    "warnings.filterwarnings(\"ignore\")\n",
    "warnings.filterwarnings(\"ignore\", category=RRuntimeWarning)"
   ]
  },
  {
   "cell_type": "markdown",
   "metadata": {},
   "source": [
    "Prepare inputs:"
   ]
  },
  {
   "cell_type": "code",
   "execution_count": 29,
   "metadata": {},
   "outputs": [],
   "source": [
    "def make_interon_exon_df(stbldir,samples):\n",
    "    # list path to intron and exon count files \n",
    "    exon_count_files = glob.glob(f'{stbldir}/*_exons.txt')\n",
    "    intron_count_files = glob.glob(f'{stbldir}/*_introns.txt')\n",
    "    # define gene_ids for each count results for exon and intron \n",
    "    exon_gene_ids = pd.read_table(exon_count_files[0], skiprows=1)['Geneid'].tolist()\n",
    "    intron_gene_ids = pd.read_table(intron_count_files[0], skiprows=1)['Geneid'].tolist()\n",
    "    \n",
    "    # read all count tables into one dataframe \n",
    "    df_exon = pd.DataFrame({}, index=exon_gene_ids)\n",
    "    df_intron = pd.DataFrame({}, index=intron_gene_ids)\n",
    "\n",
    "    for f in exon_count_files:\n",
    "        counts = pd.read_table(f, skiprows=1).iloc[:, -1].tolist()\n",
    "        f_n = f.split('/')[-1].replace('_exons.txt', '')\n",
    "        df_exon[f_n] = counts\n",
    "    for f in intron_count_files:\n",
    "        counts = pd.read_table(f, skiprows=1).iloc[:, -1].tolist()\n",
    "        f_n = f.split('/')[-1].replace('_introns.txt', '')\n",
    "        df_intron[f_n] = counts\n",
    "\n",
    "    # reorder in to same column order as the meta table rows \n",
    "    df_exon = df_exon[samples] \n",
    "    df_intron = df_intron[samples] \n",
    "\n",
    "    # select overlap gene_ids\n",
    "    overlaps = list(set(df_exon.index)&set(df_intron.index))\n",
    "    # subset by overlap gene_ids \n",
    "    df_exon = df_exon.loc[overlaps, ]\n",
    "    df_intron = df_intron.loc[overlaps, ]\n",
    "    df_intron = df_intron.loc[df_exon.index.tolist(),:]\n",
    "    return df_exon, df_intron\n",
    "\n",
    "\n",
    "def write_inputs(stbldir, df_exon, df_intron):\n",
    "    # write input counts \n",
    "    for c in samples:\n",
    "        df_exon.loc[:, c].to_csv(f'{stbldir}/{c}_exons.ol.txt', sep='\\t', header=None)    \n",
    "        df_intron.loc[:, c].to_csv(f'{stbldir}/{c}_introns.ol.txt', sep='\\t', header=None)\n",
    "\n",
    "    ### Prepare REMBRANDTS inputs\n",
    "    # make meta data for running REMBRANDTS\n",
    "    labels = np.repeat(df_exon.columns.tolist(), 2)\n",
    "    files = [f'{labels[i]}_exons.ol.txt' if i%2==0 else f'{labels[i]}_introns.ol.txt' for i in range(len(labels))]\n",
    "    readtypes = ['exonic' if i%2==0 else 'intronic' for i in range(len(labels))]\n",
    "    meta = pd.DataFrame({'Label':labels, 'File':files, 'ReadType':readtypes, 'Batch':1})\n",
    "    meta.to_csv(f'{stbldir}/input_table.txt', index=False, sep='\\t')"
   ]
  },
  {
   "cell_type": "code",
   "execution_count": 8,
   "metadata": {},
   "outputs": [],
   "source": [
    "samples = [b.split('/')[-1].replace('.bam','') for b in glob.glob('*-bam/*.bam')]"
   ]
  },
  {
   "cell_type": "code",
   "execution_count": 7,
   "metadata": {},
   "outputs": [],
   "source": [
    "df_exon, df_intron = make_interon_exon_df('stbl-counts',samples)\n",
    "\n",
    "write_inputs('stbl-counts', df_exon, df_intron)"
   ]
  },
  {
   "cell_type": "markdown",
   "metadata": {},
   "source": [
    "Run REMBRANDTS"
   ]
  },
  {
   "cell_type": "code",
   "execution_count": 4,
   "metadata": {},
   "outputs": [],
   "source": [
    "workdir = os.getcwd()\n",
    "countdir = f'{workdir}/stbl-counts'\n",
    "outdir = f'{workdir}/stbl-output'"
   ]
  },
  {
   "cell_type": "code",
   "execution_count": 43,
   "metadata": {},
   "outputs": [
    {
     "name": "stdout",
     "output_type": "stream",
     "text": [
      "\n",
      "********************************** Finished **********************************\n",
      "\n"
     ]
    }
   ],
   "source": [
    "# Run REMBRANDTS\n",
    "os.chdir('/rumi/shams/abe/Workflows/REMBRANDTS/')\n",
    "cmd = f'bash REMBRANDTS.sh Decitabine {countdir}/input_table.txt {countdir}/ 0.99 linear'\n",
    "subprocess.call(cmd , shell=True)\n",
    "\n",
    "# # remove results from previous run \n",
    "# subprocess.call(f'rm -rv {outdir}', shell=True)\n",
    "subprocess.call(f'mkdir -p {outdir}', shell=True)\n",
    "subprocess.call(f'mv -v ./out/Decitabine/* {outdir}', shell=True)\n",
    "os.chdir(workdir)\n",
    "\n",
    "print('\\n********************************** Finished **********************************\\n')"
   ]
  },
  {
   "cell_type": "code",
   "execution_count": 11,
   "metadata": {},
   "outputs": [
    {
     "name": "stdout",
     "output_type": "stream",
     "text": [
      "cell-line-consistency.ipynb   hl60-multiqc.html    REMBRANDTS.txt\r\n",
      "checksum-fastq.txt            \u001b[0m\u001b[01;34mhl60-stbl\u001b[0m/           run-QCs.ipynb\r\n",
      "\u001b[01;34mcounts-exons-multiqc_data\u001b[0m/    \u001b[01;34mhl60-tinat\u001b[0m/          salmon.sh\r\n",
      "counts-exons-multiqc.html     \u001b[01;34mother-bam\u001b[0m/           salmon_tinat.sh\r\n",
      "\u001b[01;34mcounts-introns-multiqc_data\u001b[0m/  \u001b[01;34mother-exp\u001b[0m/           \u001b[01;34mscallop-genome\u001b[0m/\r\n",
      "counts-introns-multiqc.html   \u001b[01;34mother-fastq\u001b[0m/         \u001b[01;34mstbl-counts\u001b[0m/\r\n",
      "\u001b[01;34mhl60-bam\u001b[0m/                     \u001b[01;34mother-logs\u001b[0m/          \u001b[01;34mstbl-output\u001b[0m/\r\n",
      "\u001b[01;34mhl60-exp\u001b[0m/                     \u001b[01;34mother-multiqc_data\u001b[0m/  stbl-run_REMBRANDTS.ipynb\r\n",
      "\u001b[01;34mhl60-fastq\u001b[0m/                   other-multiqc.html   tinat.sh\r\n",
      "\u001b[01;34mhl60-logs\u001b[0m/                    \u001b[01;34mother-stbl\u001b[0m/\r\n",
      "\u001b[01;34mhl60-multiqc_data\u001b[0m/            \u001b[01;34mother-tinat\u001b[0m/\r\n"
     ]
    }
   ],
   "source": [
    "subprocess.call('ls "
   ]
  },
  {
   "cell_type": "code",
   "execution_count": 9,
   "metadata": {},
   "outputs": [],
   "source": [
    "out = pd.read_table(f'{outdir}/stability.filtered.mx.txt', index_col=0)\n",
    "out.columns = samples\n",
    "out.to_csv('REMBRANDTS.txt', sep='\\t')"
   ]
  },
  {
   "cell_type": "code",
   "execution_count": 10,
   "metadata": {},
   "outputs": [
    {
     "data": {
      "text/plain": [
       "(2776, 42)"
      ]
     },
     "execution_count": 10,
     "metadata": {},
     "output_type": "execute_result"
    }
   ],
   "source": [
    "out.shape"
   ]
  },
  {
   "cell_type": "markdown",
   "metadata": {},
   "source": [
    "All done!"
   ]
  }
 ],
 "metadata": {
  "kernelspec": {
   "display_name": "Python [conda env:yikai]",
   "language": "python",
   "name": "conda-env-yikai-py"
  }
 },
 "nbformat": 4,
 "nbformat_minor": 2
}
