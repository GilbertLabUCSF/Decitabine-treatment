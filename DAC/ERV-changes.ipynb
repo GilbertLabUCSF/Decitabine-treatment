{
 "cells": [
  {
   "cell_type": "markdown",
   "metadata": {
    "tags": []
   },
   "source": [
    "## RNAme analysis"
   ]
  },
  {
   "cell_type": "code",
   "execution_count": 1,
   "metadata": {
    "tags": []
   },
   "outputs": [],
   "source": [
    "import pandas as pd"
   ]
  },
  {
   "cell_type": "code",
   "execution_count": 2,
   "metadata": {
    "tags": []
   },
   "outputs": [],
   "source": [
    "def read_fasta(path):\n",
    "    file = open(path)\n",
    "    lines = file.read().splitlines()\n",
    "    ids = [s[1:].split('::')[0] for s in lines if '>' in s]\n",
    "    n = [i for i,s in enumerate(lines) if '>' in s]\n",
    "    n.append(len(lines))\n",
    "    sequences = [''.join(lines[i+1:j]) for i,j in zip(n[:-1],n[1:])]\n",
    "    file.close()\n",
    "    fa = dict(zip(ids, sequences))\n",
    "    return fa"
   ]
  },
  {
   "cell_type": "code",
   "execution_count": 3,
   "metadata": {
    "tags": []
   },
   "outputs": [],
   "source": [
    "def radar_results_to_bed_and_fa(path):\n",
    "    df = pd.read_csv(f'{path}/result.sig.txt',sep='\\t')\n",
    "    bed_file = f'{path}/peak.bed'\n",
    "    fa_file = f'{path}/peak.fa'\n",
    "    \n",
    "    df.iloc[:,:12].to_csv(bed_file,sep='\\t',index=False,header=False)\n",
    "    \n",
    "    !sort -k1,1 -k2,2n {bed_file} | \\\n",
    "    bedtools getfasta -name -s -fi /data_gilbert/home/aarab/genomes/hg38/hg38.fa \\\n",
    "    -bed - -split -fo {fa_file}"
   ]
  },
  {
   "cell_type": "code",
   "execution_count": 11,
   "metadata": {
    "tags": []
   },
   "outputs": [],
   "source": [
    "with pd.ExcelWriter(\"hERV-hyper-m6A-peaks.xlsx\") as writer:\n",
    "   \n",
    "    # use to_excel function and specify the sheet_name and index \n",
    "    # to store the dataframe in specified sheet\n",
    "    for name in ['line','sine','retroposon']:\n",
    "        df = pd.read_csv(f'meRIP-seq/radar_herv/{name}/result.sig.txt',sep='\\t')\n",
    "        df.query('logFC > 0').to_excel(writer, sheet_name=name, index=False)"
   ]
  },
  {
   "cell_type": "markdown",
   "metadata": {
    "tags": []
   },
   "source": [
    "#### LINEs"
   ]
  },
  {
   "cell_type": "code",
   "execution_count": 74,
   "metadata": {
    "tags": []
   },
   "outputs": [],
   "source": [
    "radar_results_to_bed_and_fa('meRIP-seq/radar_herv/line')"
   ]
  },
  {
   "cell_type": "code",
   "execution_count": 102,
   "metadata": {
    "tags": []
   },
   "outputs": [],
   "source": [
    "fa = read_fasta('meRIP-seq/radar_herv/line/peak.fa')"
   ]
  },
  {
   "cell_type": "code",
   "execution_count": 91,
   "metadata": {
    "tags": []
   },
   "outputs": [],
   "source": [
    "df = pd.read_csv('meRIP-seq/radar_herv/line/result.sig.txt',sep='\\t')"
   ]
  },
  {
   "cell_type": "code",
   "execution_count": 107,
   "metadata": {
    "tags": []
   },
   "outputs": [
    {
     "data": {
      "text/plain": [
       "[('1011737:LINE:L1P1_orf2',\n",
       "  'ttgaaaccaatgagaacaaagacacaacataccagaatctctgggacaca'),\n",
       " ('2172981:LINE:L1P1_orf2',\n",
       "  'ttgaaaccaatgagaacaaagacacaacataccagaatctctgggacaca'),\n",
       " ('2350540:LINE:L1MA10_3end',\n",
       "  'acaggtgcttgaaggcagcatgctcgttaagagtcatcaccactccctaa'),\n",
       " ('3429068:LINE:L1PA4_3end',\n",
       "  'atatccagaatctacaatgaactcaaacaagcttacaagaaaaaaacaaa')]"
      ]
     },
     "execution_count": 107,
     "metadata": {},
     "output_type": "execute_result"
    }
   ],
   "source": [
    "[(n, fa[n]) for n in df[df.logFC.gt(20)].name.to_list()]"
   ]
  },
  {
   "cell_type": "markdown",
   "metadata": {
    "tags": []
   },
   "source": [
    "#### SINEs"
   ]
  },
  {
   "cell_type": "code",
   "execution_count": 108,
   "metadata": {
    "tags": []
   },
   "outputs": [],
   "source": [
    "radar_results_to_bed_and_fa('meRIP-seq/radar_herv/sine')"
   ]
  },
  {
   "cell_type": "code",
   "execution_count": 109,
   "metadata": {
    "tags": []
   },
   "outputs": [],
   "source": [
    "fa = read_fasta('meRIP-seq/radar_herv/sine/peak.fa')"
   ]
  },
  {
   "cell_type": "code",
   "execution_count": 110,
   "metadata": {
    "tags": []
   },
   "outputs": [],
   "source": [
    "df = pd.read_csv('meRIP-seq/radar_herv/sine/result.sig.txt',sep='\\t')"
   ]
  },
  {
   "cell_type": "code",
   "execution_count": 111,
   "metadata": {
    "tags": []
   },
   "outputs": [
    {
     "data": {
      "text/plain": [
       "[('1964087:SINE:AluSx',\n",
       "  'ctgggtgacaagcaagactccgtctcaaaaaaaaaaaaaaaaaaaaaaaaaaaaaaaaaaa'),\n",
       " ('3275173:SINE:AluJb',\n",
       "  'tccagcttgggtgacggagaggagcgagaccctgtctcaaaaaaaaaaaaaaa'),\n",
       " ('409648:SINE:AluJb', 'agccaggagtttgagatcagcctaggcaacaaatgagactccgtctctta'),\n",
       " ('491781:SINE:AluSx', 'aactccgtctctaataaaaatacaaaaaaattagctggatgtggtggcgt'),\n",
       " ('870057:SINE:AluSx', 'gaaaccccatctccctactaaaaatacaaaaatgggctgggcgcagtggc')]"
      ]
     },
     "execution_count": 111,
     "metadata": {},
     "output_type": "execute_result"
    }
   ],
   "source": [
    "[(n, fa[n]) for n in df[df.logFC.gt(20)].name.to_list()]"
   ]
  },
  {
   "cell_type": "markdown",
   "metadata": {
    "tags": []
   },
   "source": [
    "### retroposon"
   ]
  },
  {
   "cell_type": "code",
   "execution_count": 114,
   "metadata": {
    "tags": []
   },
   "outputs": [],
   "source": [
    "radar_results_to_bed_and_fa('meRIP-seq/radar_herv/retroposon')"
   ]
  },
  {
   "cell_type": "code",
   "execution_count": 115,
   "metadata": {
    "tags": []
   },
   "outputs": [],
   "source": [
    "fa = read_fasta('meRIP-seq/radar_herv/retroposon/peak.fa')"
   ]
  },
  {
   "cell_type": "code",
   "execution_count": 116,
   "metadata": {
    "tags": []
   },
   "outputs": [],
   "source": [
    "df = pd.read_csv('meRIP-seq/radar_herv/retroposon/result.sig.txt',sep='\\t')"
   ]
  },
  {
   "cell_type": "code",
   "execution_count": 117,
   "metadata": {
    "tags": []
   },
   "outputs": [
    {
     "data": {
      "text/plain": [
       "[('1459712:Retroposon:SVA_D',\n",
       "  'acagatgcttgaaggcagcatgctccttaagagtcatcaccactccctaa'),\n",
       " ('1851595:Retroposon:SVA_D',\n",
       "  'ccactccctaatctttaagtacccagggacacaaacactgcggaaggccg'),\n",
       " ('1971872:Retroposon:SVA_F',\n",
       "  'gcttgaaggcagcatgctcgttaagagtcatcaccactccctaatctcaa'),\n",
       " ('2350541:Retroposon:SVA_D',\n",
       "  'aacaggtgcttgaaggcagcatgctcgttaagagtcatcaccactcccta'),\n",
       " ('421041:Retroposon:SVA_D',\n",
       "  'ttaaacagatgcttgaaggcagcatgctccttaagagtcatcaccactcc'),\n",
       " ('740219:Retroposon:SVA_B',\n",
       "  'ggggagcgcctctgccccgccgccccgtctgagatgtgaggagcgcctct')]"
      ]
     },
     "execution_count": 117,
     "metadata": {},
     "output_type": "execute_result"
    }
   ],
   "source": [
    "[(n, fa[n]) for n in df[df.logFC.gt(20)].name.to_list()]"
   ]
  },
  {
   "cell_type": "markdown",
   "metadata": {
    "tags": []
   },
   "source": [
    "## Load RNA-seq data"
   ]
  },
  {
   "cell_type": "code",
   "execution_count": null,
   "metadata": {},
   "outputs": [],
   "source": []
  },
  {
   "cell_type": "code",
   "execution_count": null,
   "metadata": {},
   "outputs": [],
   "source": []
  }
 ],
 "metadata": {
  "kernelspec": {
   "display_name": "Python [conda env:screenpro2]",
   "language": "python",
   "name": "conda-env-screenpro2-py"
  },
  "language_info": {
   "codemirror_mode": {
    "name": "ipython",
    "version": 3
   },
   "file_extension": ".py",
   "mimetype": "text/x-python",
   "name": "python",
   "nbconvert_exporter": "python",
   "pygments_lexer": "ipython3",
   "version": "3.9.16"
  },
  "widgets": {
   "application/vnd.jupyter.widget-state+json": {
    "state": {},
    "version_major": 2,
    "version_minor": 0
   }
  }
 },
 "nbformat": 4,
 "nbformat_minor": 4
}
