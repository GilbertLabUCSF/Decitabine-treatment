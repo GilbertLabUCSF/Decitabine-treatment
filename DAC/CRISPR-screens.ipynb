{
 "cells": [
  {
   "cell_type": "code",
   "execution_count": 1,
   "id": "c22d3e18-e46e-4ea8-b1a0-8251f3c8a474",
   "metadata": {
    "tags": []
   },
   "outputs": [],
   "source": [
    "import pandas as pd\n",
    "import anndata as ad\n",
    "import screenpro as scp"
   ]
  },
  {
   "cell_type": "code",
   "execution_count": 2,
   "id": "942fdfeb-10b8-42bb-92f8-4ffb26e2ca1d",
   "metadata": {
    "tags": []
   },
   "outputs": [],
   "source": [
    "import scanpy as sc\n",
    "import matplotlib.pyplot as plt\n",
    "from matplotlib import rcParams, rc_context"
   ]
  },
  {
   "cell_type": "code",
   "execution_count": 3,
   "id": "4ca7f4de-4fb2-4214-b039-a29242279a00",
   "metadata": {
    "tags": []
   },
   "outputs": [],
   "source": [
    "from matplotlib import font_manager as fm\n",
    "\n",
    "from matplotlib import rcParams, rc_context\n",
    "\n",
    "font_files = fm.findSystemFonts(fontpaths=None, fontext='ttf')\n",
    "\n",
    "for font_file in font_files:\n",
    "    fm.fontManager.addfont(font_file)\n",
    "\n",
    "# {f.name for f in matplotlib.font_manager.fontManager.ttflist}\n",
    "\n",
    "rcParams['font.family'] = ['Arial']"
   ]
  },
  {
   "cell_type": "code",
   "execution_count": 4,
   "id": "e4882ad5-34bb-4d80-974f-4eadb5addced",
   "metadata": {
    "tags": []
   },
   "outputs": [],
   "source": [
    "wd = '/data_gilbert/home/aarab/AML/Decitabine-treatment/DAC'"
   ]
  },
  {
   "cell_type": "code",
   "execution_count": 5,
   "id": "10cadc24-5216-4158-8aeb-c20d3cb90d5d",
   "metadata": {
    "tags": []
   },
   "outputs": [],
   "source": [
    "TFs_list = pd.read_csv('../annotations/TF_names_v_1.01.txt',header=None)[0].to_list()"
   ]
  },
  {
   "cell_type": "code",
   "execution_count": 6,
   "id": "7da65140-e22b-4515-bb17-78c7f2a89224",
   "metadata": {
    "tags": []
   },
   "outputs": [],
   "source": [
    "import pandas as pd\n",
    "# from plotnine import *"
   ]
  },
  {
   "cell_type": "code",
   "execution_count": 7,
   "id": "36a4814f-999b-474a-bc27-06316fb2bb4f",
   "metadata": {
    "tags": []
   },
   "outputs": [],
   "source": [
    "pagerdir='/data_gilbert/home/aarab/tools/pager'"
   ]
  },
  {
   "cell_type": "code",
   "execution_count": 9,
   "id": "dfa06d24-b555-4ba8-b7e3-5fa257b47b47",
   "metadata": {
    "tags": []
   },
   "outputs": [],
   "source": [
    "# import blitzgsea as blitz"
   ]
  },
  {
   "cell_type": "code",
   "execution_count": 11,
   "id": "41b91fa7-63eb-4c7f-8119-2a4ca7415872",
   "metadata": {
    "tags": []
   },
   "outputs": [],
   "source": [
    "# msigdb_c5_go_gmt = blitz.enrichr.read_gmt(\n",
    "#     f'{pagerdir}/annotations/human/msigdb_v7.4_c5.go/c5.go.v7.4.symbols.gmt'\n",
    "# )"
   ]
  },
  {
   "cell_type": "code",
   "execution_count": null,
   "id": "881d27dc-4203-4b99-90e2-bade07f12a0f",
   "metadata": {},
   "outputs": [],
   "source": []
  },
  {
   "cell_type": "code",
   "execution_count": null,
   "id": "a198e423-4491-4991-82ff-fbc21ece09e2",
   "metadata": {},
   "outputs": [],
   "source": []
  },
  {
   "cell_type": "code",
   "execution_count": 12,
   "id": "a4a4b5a1-49d5-4278-9fc3-8118258e6570",
   "metadata": {
    "tags": []
   },
   "outputs": [],
   "source": [
    "def get_replicate_score(screen,x_label, y_label, growth_rate=1):\n",
    "    adata_ctrl = screen.adata[:,screen.adata.var.targetType.eq('negCtrl')].copy()\n",
    "\n",
    "    results = {}\n",
    "    \n",
    "    for replicate in screen.adata.obs.replicate.unique():\n",
    "\n",
    "        res = scp.ps.getPhenotypeScore(\n",
    "            x = screen.adata[screen.adata.obs.query(f'condition == \"{x_label}\" & replicate == {replicate}').index].X,\n",
    "            y = screen.adata[screen.adata.obs.query(f'condition == \"{y_label}\" & replicate == {replicate}').index].X,\n",
    "\n",
    "            x_ctrl = adata_ctrl[adata_ctrl.obs.query(f'condition == \"{x_label}\" & replicate == {replicate}').index].X,\n",
    "            y_ctrl = adata_ctrl[adata_ctrl.obs.query(f'condition == \"{y_label}\" & replicate == {replicate}').index].X,\n",
    "\n",
    "            growth_rate=growth_rate,\n",
    "            math = screen.math,\n",
    "            ave = 'row'\n",
    "        )\n",
    "        \n",
    "        results.update({f'replicate_{replicate}':res})\n",
    "    \n",
    "    \n",
    "    out = pd.DataFrame(\n",
    "        results,\n",
    "        index = screen.adata.var.index\n",
    "    )\n",
    "    return out"
   ]
  },
  {
   "cell_type": "code",
   "execution_count": null,
   "id": "e4fb5620-3063-4025-aaf2-74415ae91cc6",
   "metadata": {},
   "outputs": [],
   "source": []
  },
  {
   "cell_type": "code",
   "execution_count": 13,
   "id": "9b953fdc-2af5-4a10-940e-3c8922891eb8",
   "metadata": {
    "tags": []
   },
   "outputs": [],
   "source": [
    "def plot_scatter_with_annotations(ax, phe, gamma, rho, target_name,exp='',selected_size=30, default_size=3):\n",
    "    # Scatter plot for targeting data\n",
    "    targeting_data = phe[phe['targetType'] == 'targeting']\n",
    "    ax.scatter(targeting_data[gamma], targeting_data[rho],\n",
    "               s=default_size, linewidth=0.3, edgecolors='black', facecolors='#3182bd', label='Targeting')\n",
    "\n",
    "    # Scatter plot for non-targeting data\n",
    "    non_targeting_data = phe[phe['targetType'] == 'negCtrl']\n",
    "    ax.scatter(non_targeting_data[gamma], non_targeting_data[rho],\n",
    "               s=default_size, linewidth=0, edgecolors='black', facecolors='gray', label='Non-Targeting')\n",
    "\n",
    "    # Annotate the specified target name with increased size\n",
    "    target_row = targeting_data[targeting_data['target'] == target_name]\n",
    "    ax.scatter(target_row[gamma], target_row[rho],\n",
    "               s=selected_size, linewidth=0.5, edgecolors='black', facecolors='#d73027', label=target_name)\n",
    "    # # Annotate the specified target name\n",
    "    # target_row = targeting_data[targeting_data['target'] == target_name]\n",
    "    # ax.annotate(target_name, (target_row[gamma].iloc[0], target_row[rho].iloc[0]))\n",
    "\n",
    "    # Set x-axis and y-axis labels\n",
    "    ax.set_xlabel(f'{exp} gamma score')\n",
    "    ax.set_ylabel(f'{exp} rho score')\n",
    "\n",
    "    # # Add legend\n",
    "    # ax.legend()\n",
    "\n",
    "    ax.set_title(target_name)\n",
    "    \n",
    "    return ax"
   ]
  },
  {
   "cell_type": "code",
   "execution_count": 14,
   "id": "14ef2013-862f-4804-9a76-80cf568a01f0",
   "metadata": {
    "tags": []
   },
   "outputs": [],
   "source": [
    "def plot_ggplot_pca(adata,fill,shape,legend_position= 'top',figure_size= (4.5, 5)):\n",
    "    pca = pd.concat([\n",
    "        pd.DataFrame(\n",
    "            adata.obsm['X_pca'][:,[0,1]],\n",
    "            index=adata.obs.index,\n",
    "            columns=['PC-1','PC-2']\n",
    "        ),\n",
    "        adata.obs.drop('replicate',axis=1)\n",
    "    ],axis=1)\n",
    "    \n",
    "    pca_p =  (ggplot(pca) \n",
    "     + geom_point(aes(\n",
    "         x = 'PC-1',\n",
    "         y = 'PC-2',\n",
    "         fill=fill, \n",
    "         shape = shape\n",
    "     ), color='black', size = 8)\n",
    "     + theme_classic()\n",
    "     + theme(\n",
    "         panel_grid_major   = element_blank(), \n",
    "         panel_grid_minor   = element_blank(), \n",
    "         panel_background   = element_blank(), \n",
    "\n",
    "         legend_background  = element_blank(), \n",
    "         legend_position    = legend_position,\n",
    "         legend_direction   = 'horizontal', # affected by the ncol=2\n",
    "         # legend_text_legend = element_text(size=8),\n",
    "\n",
    "         axis_line          = element_line(size=2),\n",
    "         axis_text_x        = element_text(size=8),\n",
    "         axis_text_y        = element_text(size=8),\n",
    "         axis_title_x       = element_text(weight='bold', size=12),\n",
    "         axis_title_y       = element_text(weight='bold', size=12),\n",
    "\n",
    "         text               = element_text(font = 'arial'),\n",
    "\n",
    "         figure_size        = figure_size\n",
    "     )\n",
    "    )\n",
    "\n",
    "    return pca_p"
   ]
  },
  {
   "cell_type": "markdown",
   "id": "c21bb93d-49c8-4a8c-886f-43be311ee55a",
   "metadata": {
    "tags": []
   },
   "source": [
    "### "
   ]
  },
  {
   "cell_type": "code",
   "execution_count": 15,
   "id": "31b00dcb-05e6-4444-854a-195c3da500c4",
   "metadata": {
    "tags": []
   },
   "outputs": [],
   "source": [
    "def find_low_counts(adata, filter_type = 'either',minimum_reads = 100, return_filtered=False):\n",
    "    # Do you require greater than or equal to the minimum reads\n",
    "    # for both experiments in a comparison or either experiment?\n",
    "    # Default is either, other option is all\n",
    "    count_bin = adata.X >= minimum_reads\n",
    "    if filter_type == 'either':\n",
    "        out = adata[:,count_bin.any(axis=0)].copy()\n",
    "    elif filter_type == 'all':\n",
    "        out = adata[:,count_bin.all(axis=0)].copy()\n",
    "    \n",
    "    # print the number of removed variables\n",
    "    n_removed = adata.shape[1] - out.shape[1]\n",
    "    print(\n",
    "        f\"{n_removed} variables with less than {minimum_reads} reads in {filter_type} replicates / experiment\"\n",
    "    )   \n",
    "    \n",
    "    if return_filtered:\n",
    "        return out\n",
    "    else:\n",
    "        adata.var['low_count'] = ~adata.var.index.isin(out.var.index.to_list())"
   ]
  },
  {
   "cell_type": "code",
   "execution_count": 16,
   "id": "eb8e4eb1-eb71-41c1-874b-265661d3cdb9",
   "metadata": {
    "tags": []
   },
   "outputs": [
    {
     "name": "stdout",
     "output_type": "stream",
     "text": [
      "3353 variables with less than 100 reads in either replicates / experiment\n",
      "4783 variables with less than 100 reads in either replicates / experiment\n",
      "3705 variables with less than 100 reads in either replicates / experiment\n"
     ]
    }
   ],
   "source": [
    "screens = {}\n",
    "\n",
    "for exp in ['hl60_exp1','molm13_exp','skm1_exp']:\n",
    "    name = exp.split('_')[0]\n",
    "    cnt = pd.read_csv(f'{wd}/CRISPRi-screen/{exp}/mergedcountstable.txt',sep='\\t', header=list(range(2)),index_col=list(range(1)))\n",
    "    meta = cnt.columns.to_frame().reset_index(drop=True)\n",
    "    samples = [f'{exp}_sample_{i+1}' for i in meta.index.to_list()]\n",
    "    cnt.columns = samples\n",
    "    meta.index = samples\n",
    "    meta.columns = ['condition','replicate']\n",
    "    meta.replicate = meta.replicate.str[-1].astype(int)\n",
    "    \n",
    "    oligo = cnt.index.to_frame()\n",
    "    oligo.index.name = None\n",
    "    oligo['target'] = oligo.sgId.str.split('_').str[0]\n",
    "    del oligo['sgId']\n",
    "    oligo['targetType'] = oligo.target.apply(lambda x: \"negCtrl\" if x == \"non-targeting\" else \"targeting\")\n",
    "    oligo = oligo.sort_values('target').sort_values('targetType',ascending=False)\n",
    "    oligo.targetType = pd.Categorical(oligo.targetType,categories=['targeting','negCtrl'])\n",
    "    \n",
    "    adata = ad.AnnData(X=cnt.loc[oligo.index,:].T.astype(float) + 1, var=oligo, obs=meta)\n",
    "    scp.ps.seqDepthNormalization(adata)\n",
    "    \n",
    "    # adata = \n",
    "    find_low_counts(adata)\n",
    "    \n",
    "    phenotypetable = pd.read_csv(f'{wd}/CRISPRi-screen/{exp}/phenotypetable.txt',sep='\\t',header=[0,1],index_col=0)\n",
    "    genetable = pd.read_csv(f'{wd}/CRISPRi-screen/{exp}/genetable_collapsed.txt',sep='\\t',header=[0,1,2],index_col=0)\n",
    "    \n",
    "    screens[name] = scp.ScreenPro(adata)\n",
    "    screens[name].phenotypes.update({\n",
    "        'phenotypetable':phenotypetable,\n",
    "        'genetable':genetable\n",
    "    })"
   ]
  },
  {
   "cell_type": "code",
   "execution_count": null,
   "id": "72f000e4-7078-42b5-87de-bb11c7c85f5e",
   "metadata": {},
   "outputs": [],
   "source": []
  },
  {
   "cell_type": "code",
   "execution_count": 17,
   "id": "461547b8-1010-47c6-9461-4584d1241a7d",
   "metadata": {
    "tags": []
   },
   "outputs": [],
   "source": [
    "gamma_hl60 = screens['hl60'].phenotypes['phenotypetable']['gamma']#['ave_Rep1_Rep2']"
   ]
  },
  {
   "cell_type": "code",
   "execution_count": 18,
   "id": "626519c2-a7d9-4896-b601-df55fbb0ab42",
   "metadata": {
    "tags": []
   },
   "outputs": [
    {
     "data": {
      "text/html": [
       "<div>\n",
       "<style scoped>\n",
       "    .dataframe tbody tr th:only-of-type {\n",
       "        vertical-align: middle;\n",
       "    }\n",
       "\n",
       "    .dataframe tbody tr th {\n",
       "        vertical-align: top;\n",
       "    }\n",
       "\n",
       "    .dataframe thead th {\n",
       "        text-align: right;\n",
       "    }\n",
       "</style>\n",
       "<table border=\"1\" class=\"dataframe\">\n",
       "  <thead>\n",
       "    <tr style=\"text-align: right;\">\n",
       "      <th></th>\n",
       "      <th>Rep1</th>\n",
       "      <th>Rep2</th>\n",
       "      <th>ave_Rep1_Rep2</th>\n",
       "    </tr>\n",
       "    <tr>\n",
       "      <th>sgId</th>\n",
       "      <th></th>\n",
       "      <th></th>\n",
       "      <th></th>\n",
       "    </tr>\n",
       "  </thead>\n",
       "  <tbody>\n",
       "    <tr>\n",
       "      <th>METTL14_+_119607013.23-P1P2</th>\n",
       "      <td>0.024501</td>\n",
       "      <td>0.027094</td>\n",
       "      <td>0.025797</td>\n",
       "    </tr>\n",
       "    <tr>\n",
       "      <th>METTL14_-_119606560.23-P1P2</th>\n",
       "      <td>-0.002057</td>\n",
       "      <td>-0.010708</td>\n",
       "      <td>-0.006382</td>\n",
       "    </tr>\n",
       "    <tr>\n",
       "      <th>METTL14_-_119606630.23-P1P2</th>\n",
       "      <td>0.010789</td>\n",
       "      <td>-0.036203</td>\n",
       "      <td>-0.012707</td>\n",
       "    </tr>\n",
       "    <tr>\n",
       "      <th>METTL14_-_119606721.23-P1P2</th>\n",
       "      <td>0.004758</td>\n",
       "      <td>0.042077</td>\n",
       "      <td>0.023417</td>\n",
       "    </tr>\n",
       "    <tr>\n",
       "      <th>METTL14_-_119606785.23-P1P2</th>\n",
       "      <td>0.009025</td>\n",
       "      <td>0.022760</td>\n",
       "      <td>0.015893</td>\n",
       "    </tr>\n",
       "  </tbody>\n",
       "</table>\n",
       "</div>"
      ],
      "text/plain": [
       "                                 Rep1      Rep2  ave_Rep1_Rep2\n",
       "sgId                                                          \n",
       "METTL14_+_119607013.23-P1P2  0.024501  0.027094       0.025797\n",
       "METTL14_-_119606560.23-P1P2 -0.002057 -0.010708      -0.006382\n",
       "METTL14_-_119606630.23-P1P2  0.010789 -0.036203      -0.012707\n",
       "METTL14_-_119606721.23-P1P2  0.004758  0.042077       0.023417\n",
       "METTL14_-_119606785.23-P1P2  0.009025  0.022760       0.015893"
      ]
     },
     "execution_count": 18,
     "metadata": {},
     "output_type": "execute_result"
    }
   ],
   "source": [
    "gamma_hl60[gamma_hl60.index.str.contains('METTL14')]"
   ]
  },
  {
   "cell_type": "markdown",
   "id": "97b65c72-140a-4a51-8fdc-ab31cd4a5b99",
   "metadata": {},
   "source": [
    "# "
   ]
  },
  {
   "cell_type": "code",
   "execution_count": 19,
   "id": "a3aedced-06ae-4c65-add4-1a3b75f9b878",
   "metadata": {
    "tags": []
   },
   "outputs": [],
   "source": [
    "rho_hl60 = screens['hl60'].phenotypes['phenotypetable']['rho']#['ave_Rep1_Rep2']"
   ]
  },
  {
   "cell_type": "code",
   "execution_count": 20,
   "id": "c8c42d8d-82eb-4038-a4aa-f4aa96e39d04",
   "metadata": {
    "tags": []
   },
   "outputs": [
    {
     "data": {
      "text/html": [
       "<div>\n",
       "<style scoped>\n",
       "    .dataframe tbody tr th:only-of-type {\n",
       "        vertical-align: middle;\n",
       "    }\n",
       "\n",
       "    .dataframe tbody tr th {\n",
       "        vertical-align: top;\n",
       "    }\n",
       "\n",
       "    .dataframe thead th {\n",
       "        text-align: right;\n",
       "    }\n",
       "</style>\n",
       "<table border=\"1\" class=\"dataframe\">\n",
       "  <thead>\n",
       "    <tr style=\"text-align: right;\">\n",
       "      <th></th>\n",
       "      <th>Rep1</th>\n",
       "      <th>Rep2</th>\n",
       "      <th>ave_Rep1_Rep2</th>\n",
       "    </tr>\n",
       "    <tr>\n",
       "      <th>sgId</th>\n",
       "      <th></th>\n",
       "      <th></th>\n",
       "      <th></th>\n",
       "    </tr>\n",
       "  </thead>\n",
       "  <tbody>\n",
       "    <tr>\n",
       "      <th>SPI1_+_47399936.23-P1P2</th>\n",
       "      <td>0.039316</td>\n",
       "      <td>-0.222827</td>\n",
       "      <td>-0.091755</td>\n",
       "    </tr>\n",
       "    <tr>\n",
       "      <th>SPI1_+_47400057.23-P1P2</th>\n",
       "      <td>NaN</td>\n",
       "      <td>NaN</td>\n",
       "      <td>NaN</td>\n",
       "    </tr>\n",
       "    <tr>\n",
       "      <th>SPI1_+_47400060.23-P1P2</th>\n",
       "      <td>-0.238292</td>\n",
       "      <td>-0.303112</td>\n",
       "      <td>-0.270702</td>\n",
       "    </tr>\n",
       "    <tr>\n",
       "      <th>SPI1_-_47399863.23-P1P2</th>\n",
       "      <td>NaN</td>\n",
       "      <td>NaN</td>\n",
       "      <td>NaN</td>\n",
       "    </tr>\n",
       "    <tr>\n",
       "      <th>SPI1_-_47400003.23-P1P2</th>\n",
       "      <td>NaN</td>\n",
       "      <td>NaN</td>\n",
       "      <td>NaN</td>\n",
       "    </tr>\n",
       "  </tbody>\n",
       "</table>\n",
       "</div>"
      ],
      "text/plain": [
       "                             Rep1      Rep2  ave_Rep1_Rep2\n",
       "sgId                                                      \n",
       "SPI1_+_47399936.23-P1P2  0.039316 -0.222827      -0.091755\n",
       "SPI1_+_47400057.23-P1P2       NaN       NaN            NaN\n",
       "SPI1_+_47400060.23-P1P2 -0.238292 -0.303112      -0.270702\n",
       "SPI1_-_47399863.23-P1P2       NaN       NaN            NaN\n",
       "SPI1_-_47400003.23-P1P2       NaN       NaN            NaN"
      ]
     },
     "execution_count": 20,
     "metadata": {},
     "output_type": "execute_result"
    }
   ],
   "source": [
    "rho_hl60.loc[rho_hl60.index.str.contains('SPI1'),:]"
   ]
  },
  {
   "cell_type": "code",
   "execution_count": 21,
   "id": "052baeae-5a7f-4a82-871e-5f8af86612fd",
   "metadata": {
    "tags": []
   },
   "outputs": [],
   "source": [
    "import sys\n",
    "\n",
    "sys.path.append('../scripts')\n",
    "\n",
    "from util import *"
   ]
  },
  {
   "cell_type": "code",
   "execution_count": 22,
   "id": "f016e479-e771-420b-aaa4-989fb320e728",
   "metadata": {
    "tags": []
   },
   "outputs": [],
   "source": [
    "from matplotlib_venn import venn3,venn3_circles, venn3_unweighted"
   ]
  },
  {
   "cell_type": "code",
   "execution_count": 23,
   "id": "cd9ddbcd-6e24-45b3-b5fe-cfecfb44980e",
   "metadata": {
    "tags": []
   },
   "outputs": [],
   "source": [
    "def get_hits(rho,pval_thr):\n",
    "    # filter\n",
    "    rho = rho[~rho.index.str.contains('pseudo_')].copy()\n",
    "    res,sen = find_top(rho,keep[0],0.1,keep[1],pval_thr)\n",
    "    out = {'resistance':set(res.index.to_list()),\n",
    "           'sensitizing':set(sen.index.to_list())\n",
    "          }\n",
    "    return out"
   ]
  },
  {
   "cell_type": "code",
   "execution_count": 24,
   "id": "9b1ba9ac-2409-48bc-aace-050dd9d151cc",
   "metadata": {
    "tags": []
   },
   "outputs": [],
   "source": [
    "def get_venn_genes_label(data,a_label,b_label,c_label,side_label,overlap_id):\n",
    "    if overlap_id=='111':\n",
    "        venn_genes_label = '\\n'.join(list(\n",
    "            data[a_label][side_label] & data[b_label][side_label] & data[c_label][side_label]\n",
    "        ))\n",
    "    elif overlap_id=='101':\n",
    "        venn_genes_label = '\\n'.join(list(\n",
    "            (data[a_label][side_label] & data[c_label][side_label]) - data[b_label][side_label]\n",
    "        ))\n",
    "    elif overlap_id=='011':\n",
    "        venn_genes_label = '\\n'.join(list(\n",
    "            (data[b_label][side_label] & data[c_label][side_label]) - data[a_label][side_label]\n",
    "        ))\n",
    "    elif overlap_id=='110':\n",
    "        venn_genes_label = '\\n'.join(list(\n",
    "            (data[a_label][side_label] & data[b_label][side_label]) - data[c_label][side_label]\n",
    "        ))\n",
    "    elif overlap_id=='100':\n",
    "        venn_genes_label = '\\n'.join(list(\n",
    "            (data[a_label][side_label] - data[b_label][side_label]) - data[c_label][side_label]\n",
    "        ))\n",
    "    elif overlap_id=='010':\n",
    "        venn_genes_label = '\\n'.join(list(\n",
    "            (data[b_label][side_label] - data[a_label][side_label]) - data[c_label][side_label]\n",
    "        ))\n",
    "    elif overlap_id=='001':\n",
    "        venn_genes_label = '\\n'.join(list(\n",
    "            (data[c_label][side_label] - data[a_label][side_label]) - data[b_label][side_label]\n",
    "        ))\n",
    "    \n",
    "    return venn_genes_label"
   ]
  },
  {
   "cell_type": "code",
   "execution_count": 25,
   "id": "1b204ad7-5e58-4ba6-940e-6aa6b66abb93",
   "metadata": {
    "tags": []
   },
   "outputs": [],
   "source": [
    "def venn_diagram_resistance(data,title_header='',size_scale=1,show_pval_thr=False,show_labels=None,save=None):\n",
    "    plt.figure(figsize=(8*size_scale,8*size_scale))\n",
    "\n",
    "\n",
    "    # Make venn diagram                                                                                                                                                             \n",
    "    v = venn3_unweighted(\n",
    "        [\n",
    "            data['hl60']['resistance'],\n",
    "            data['molm13']['resistance'],\n",
    "            data['skm1']['resistance'],\n",
    "        ],\n",
    "        ('HL-60\\nΔPhenotype (ρ)\\nlog2FC > 0.1',\n",
    "         'MOLM-13\\nΔPhenotype (ρ)\\nlog2FC > 0.1',\n",
    "         'SKM-1\\nΔPhenotype (ρ)\\nlog2FC > 0.1')\n",
    "        ,normalize_to=0.5\n",
    "    )\n",
    "\n",
    "    for x in ['100','010','001','110','101','011',\n",
    "             '111'\n",
    "             ]:\n",
    "        v.get_patch_by_id(x).set_alpha(0.5)\n",
    "        v.get_patch_by_id(x).set_color('lightgrey')\n",
    "        v.get_label_by_id(x).set_fontsize(12)\n",
    "\n",
    "    c = venn3_circles(\n",
    "        (1,1,1,1,1,1,1), linestyle='dashed'\n",
    "        ,normalize_to=0.5\n",
    "    )\n",
    "    for i,_ in enumerate(c):\n",
    "        c[i].set_lw(1.0)\n",
    "        c[i].set_ls('dotted')\n",
    "\n",
    "    plt.title(f\"{title_header}\\nresistance\", fontsize=20)\n",
    "    if show_labels:\n",
    "        for overlap_id in show_labels:\n",
    "            v.get_patch_by_id(overlap_id).set_color('y')\n",
    "            v.get_label_by_id(overlap_id).set_fontsize(15)\n",
    "\n",
    "            venn_genes_label = get_venn_genes_label(data,'hl60','molm13','skm1','resistance',overlap_id)\n",
    "\n",
    "            x_text, y_text = v.get_label_by_id(overlap_id).get_position()\n",
    "            \n",
    "            plt.annotate(\n",
    "                venn_genes_label, \n",
    "                xy=(x_text,y_text) - np.array([0, 0.05]), \n",
    "                xytext=(x_text+200*size_scale,y_text+(-250*size_scale)),\n",
    "                ha='center', textcoords='offset points', bbox=dict(boxstyle='round,pad=0.5', fc='gray', alpha=0.1),\n",
    "                fontsize=12,\n",
    "                arrowprops=dict(arrowstyle='->', connectionstyle='arc3,rad=0.5',color='gray')\n",
    "            )\n",
    "\n",
    "    if show_pval_thr:\n",
    "        plt.figtext(\n",
    "            0.5, 0.08, f\"pvalue < {pval_thr}\", ha=\"center\", fontsize=10, \n",
    "            bbox={\"facecolor\":\"lightgray\", \"alpha\":0.1, \"pad\":5}\n",
    "        )\n",
    "\n",
    "    if save: plt.savefig(save)\n",
    "    plt.show()\n",
    "\n",
    "\n",
    "def venn_diagram_sensitizing(data,title_header='',size_scale=1,show_pval_thr=False, show_labels=None,save=None):\n",
    "    plt.figure(figsize=(8*size_scale,8*size_scale))\n",
    "\n",
    "    # Make venn diagram                                                                                                                                                             \n",
    "    v = venn3_unweighted(\n",
    "        [\n",
    "            data['hl60']['sensitizing'],\n",
    "            data['molm13']['sensitizing'],\n",
    "            data['skm1']['sensitizing'],\n",
    "        ],\n",
    "        ('HL-60\\nΔPhenotype (ρ)\\nlog2FC < -0.1',\n",
    "         'MOLM-13\\nΔPhenotype (ρ)\\nlog2FC < -0.1',\n",
    "         'SKM-1\\nΔPhenotype (ρ)\\nlog2FC < -0.1')\n",
    "        ,normalize_to=0.5\n",
    "    )\n",
    "\n",
    "    for x in ['100','010','001','110','101','011',\n",
    "             '111'\n",
    "             ]:\n",
    "        v.get_patch_by_id(x).set_alpha(0.5)\n",
    "        v.get_patch_by_id(x).set_color('lightgrey')\n",
    "        v.get_label_by_id(x).set_fontsize(12)\n",
    "\n",
    "\n",
    "    c = venn3_circles(\n",
    "        (1,1,1,1,1,1,1), linestyle='dashed'\n",
    "        ,normalize_to=0.5\n",
    "    )\n",
    "    for i,_ in enumerate(c):\n",
    "        c[i].set_lw(1.0)\n",
    "        c[i].set_ls('dotted')\n",
    "\n",
    "    plt.title(f\"{title_header}\\nsensitizing\", fontsize=20)\n",
    "    if show_labels:\n",
    "        for overlap_id in show_labels:\n",
    "            v.get_patch_by_id(overlap_id).set_color('y')\n",
    "            v.get_label_by_id(overlap_id).set_fontsize(15)\n",
    "\n",
    "            venn_genes_label = get_venn_genes_label(data,'hl60','molm13','skm1','sensitizing',overlap_id)\n",
    "            \n",
    "            x_text, y_text = v.get_label_by_id(overlap_id).get_position()\n",
    "            \n",
    "            plt.annotate(\n",
    "                venn_genes_label, \n",
    "                xy=(x_text,y_text) - np.array([0, 0.05]), \n",
    "                xytext=(x_text+200*size_scale,y_text+(-250*size_scale)),\n",
    "                ha='center', textcoords='offset points', bbox=dict(boxstyle='round,pad=0.5', fc='gray', alpha=0.1),\n",
    "                fontsize=12,\n",
    "                arrowprops=dict(arrowstyle='->', connectionstyle='arc3,rad=0.5',color='gray')\n",
    "            )\n",
    "\n",
    "    if show_pval_thr:\n",
    "        plt.figtext(\n",
    "            0.5, 0.08, f\"pvalue < {pval_thr}\", ha=\"center\", fontsize=10, \n",
    "            bbox={\"facecolor\":\"lightgray\", \"alpha\":0.1, \"pad\":5}\n",
    "        )\n",
    "\n",
    "    if save: plt.savefig(save)\n",
    "    plt.show()"
   ]
  },
  {
   "cell_type": "code",
   "execution_count": null,
   "id": "5f535bc9-23ce-4d8c-9a77-51c5b7349dda",
   "metadata": {},
   "outputs": [],
   "source": []
  },
  {
   "cell_type": "code",
   "execution_count": 26,
   "id": "310428eb-02de-4df3-b636-eb8a7d168d82",
   "metadata": {
    "tags": []
   },
   "outputs": [],
   "source": [
    "# pval_thr = 0.025\n",
    "pval_thr = 0.05"
   ]
  },
  {
   "cell_type": "code",
   "execution_count": 27,
   "id": "5ae1add9-2c95-4631-bdc9-981d481ce479",
   "metadata": {
    "tags": []
   },
   "outputs": [],
   "source": [
    "keep = ['average phenotype of strongest 3','Mann-Whitney p-value']"
   ]
  },
  {
   "cell_type": "code",
   "execution_count": null,
   "id": "349c36c3-9018-4eb8-b135-1b416f721d2e",
   "metadata": {
    "tags": []
   },
   "outputs": [],
   "source": []
  },
  {
   "cell_type": "code",
   "execution_count": 28,
   "id": "73d5dd97-f754-42b9-8bed-7e5960b8687a",
   "metadata": {
    "tags": []
   },
   "outputs": [
    {
     "name": "stdout",
     "output_type": "stream",
     "text": [
      "up:  592\n",
      "down: 705\n",
      "up:  724\n",
      "down: 528\n",
      "up:  224\n",
      "down: 944\n"
     ]
    }
   ],
   "source": [
    "data = dict([\n",
    "    (cell_line,get_hits(\n",
    "        screens[cell_line].phenotypes['genetable']['rho']['ave_Rep1_Rep2'][keep], pval_thr) \n",
    "    )\n",
    "    for cell_line in screens.keys()\n",
    "])"
   ]
  },
  {
   "cell_type": "code",
   "execution_count": 29,
   "id": "90cd4236-99c3-4564-81c7-37f304511dd1",
   "metadata": {},
   "outputs": [
    {
     "data": {
      "text/plain": [
       "[('hl60',\n",
       "  average phenotype of strongest 3    0.250638\n",
       "  Mann-Whitney p-value                0.000581\n",
       "  Name: METTL3, dtype: float64),\n",
       " ('molm13',\n",
       "  average phenotype of strongest 3    0.484901\n",
       "  Mann-Whitney p-value                0.001874\n",
       "  Name: METTL3, dtype: float64),\n",
       " ('skm1',\n",
       "  average phenotype of strongest 3    0.078701\n",
       "  Mann-Whitney p-value                0.074443\n",
       "  Name: METTL3, dtype: float64)]"
      ]
     },
     "execution_count": 29,
     "metadata": {},
     "output_type": "execute_result"
    }
   ],
   "source": [
    "[\n",
    "    (cell_line,screens[cell_line].phenotypes['genetable']['rho']['ave_Rep1_Rep2'][keep].loc['METTL3'])\n",
    "    for cell_line in screens.keys()\n",
    "]"
   ]
  },
  {
   "cell_type": "code",
   "execution_count": 30,
   "id": "07758cf1-1ddc-4aaf-9bc2-c89547098629",
   "metadata": {
    "tags": []
   },
   "outputs": [
    {
     "data": {
      "image/png": "[encoded data removed]",
      "text/plain": [
       "<Figure size 480x480 with 1 Axes>"
      ]
     },
     "metadata": {},
     "output_type": "display_data"
    },
    {
     "data": {
      "image/png": "[encoded data removed]",
      "text/plain": [
       "<Figure size 480x480 with 1 Axes>"
      ]
     },
     "metadata": {},
     "output_type": "display_data"
    }
   ],
   "source": [
    "venn_diagram_resistance(\n",
    "    data,\n",
    "    size_scale=0.6,\n",
    "    save='CRISPR-screens-resistance-gene-panel-venn.pdf')#,show_labels=['111'])\n",
    "venn_diagram_sensitizing(\n",
    "    data,\n",
    "    size_scale=.6,\n",
    "    save='CRISPR-screens-sensitizing-gene-panel-venn.pdf'\n",
    ")#,show_labels=['111'])"
   ]
  },
  {
   "cell_type": "markdown",
   "id": "56d83e54-7e45-475f-a8a8-3f3c43f3f7e5",
   "metadata": {},
   "source": [
    "### "
   ]
  },
  {
   "cell_type": "code",
   "execution_count": 31,
   "id": "bbb75f47-6ee6-4c17-8d63-b0e7c51bb4fb",
   "metadata": {
    "tags": []
   },
   "outputs": [
    {
     "name": "stdout",
     "output_type": "stream",
     "text": [
      "up:  45\n",
      "down: 38\n",
      "up:  51\n",
      "down: 39\n",
      "up:  14\n",
      "down: 53\n"
     ]
    }
   ],
   "source": [
    "data_TFs = dict([\n",
    "    (cell_line,get_hits(\n",
    "        screens[cell_line].phenotypes['genetable']['rho']['ave_Rep1_Rep2'].loc[\n",
    "            list(set(screens[cell_line].adata.var.target) & set(TFs_list)),keep], pval_thr) \n",
    "    )\n",
    "    for cell_line in screens.keys()\n",
    "])"
   ]
  },
  {
   "cell_type": "code",
   "execution_count": null,
   "id": "6ff8f79d-ac05-4ec6-90bd-f28df08454e9",
   "metadata": {
    "tags": []
   },
   "outputs": [],
   "source": []
  },
  {
   "cell_type": "code",
   "execution_count": 30,
   "id": "2152f64e-2e3c-4b95-b10b-07961551fe21",
   "metadata": {
    "tags": []
   },
   "outputs": [
    {
     "data": {
      "image/png": "[encoded data removed]",
      "text/plain": [
       "<Figure size 400x400 with 1 Axes>"
      ]
     },
     "metadata": {},
     "output_type": "display_data"
    }
   ],
   "source": [
    "venn_diagram_resistance(data_TFs,'TFs',.5,show_labels=['110'])"
   ]
  },
  {
   "cell_type": "code",
   "execution_count": 31,
   "id": "97215393-bbb3-4cbc-802c-326a0b4e5af7",
   "metadata": {
    "tags": []
   },
   "outputs": [
    {
     "data": {
      "image/png": "[encoded data removed]",
      "text/plain": [
       "<Figure size 400x400 with 1 Axes>"
      ]
     },
     "metadata": {},
     "output_type": "display_data"
    }
   ],
   "source": [
    "venn_diagram_sensitizing(data_TFs,'TFs',.5,show_labels=['011','101','110'])"
   ]
  },
  {
   "cell_type": "code",
   "execution_count": 988,
   "id": "b2a22ebb-a9d3-4f60-89b4-fc6a45a1f584",
   "metadata": {
    "tags": []
   },
   "outputs": [
    {
     "data": {
      "text/plain": [
       "{'ZNF595'}"
      ]
     },
     "execution_count": 988,
     "metadata": {},
     "output_type": "execute_result"
    }
   ],
   "source": [
    "set(data_TFs['hl60']['sensitizing']) & set(data_TFs['molm13']['sensitizing'])"
   ]
  },
  {
   "cell_type": "code",
   "execution_count": 989,
   "id": "ea7c0ece-66d1-4ac7-b534-6f76414afa2b",
   "metadata": {
    "tags": []
   },
   "outputs": [
    {
     "data": {
      "text/plain": [
       "{'CENPB', 'CREB1', 'DNMT1', 'HSF2', 'MTF1', 'SETDB1', 'SPI1', 'YY1', 'ZEB2'}"
      ]
     },
     "execution_count": 989,
     "metadata": {},
     "output_type": "execute_result"
    }
   ],
   "source": [
    "set(data_TFs['hl60']['sensitizing']) & set(data_TFs['skm1']['sensitizing'])"
   ]
  },
  {
   "cell_type": "code",
   "execution_count": 990,
   "id": "f3b00385-1979-47ea-9cbe-f530a40ebc61",
   "metadata": {
    "tags": []
   },
   "outputs": [
    {
     "data": {
      "text/plain": [
       "{'ARNT', 'SON', 'TOPORS', 'ZNF131'}"
      ]
     },
     "execution_count": 990,
     "metadata": {},
     "output_type": "execute_result"
    }
   ],
   "source": [
    "set(data_TFs['molm13']['sensitizing']) & set(data_TFs['skm1']['sensitizing'])"
   ]
  },
  {
   "cell_type": "code",
   "execution_count": 33,
   "id": "e413d2cc-5215-48a4-a00f-7c89ac10736d",
   "metadata": {},
   "outputs": [],
   "source": [
    "\n",
    "\n",
    "# ### \n",
    "\n",
    "# # msigdb_c5_go_gmt['GOBP_LEUKOCYTE_DIFFERENTIATION']\n",
    "\n",
    "# # msigdb_c5_go_gmt['GOBP_MYELOID_LEUKOCYTE_DIFFERENTIATION']\n",
    "\n",
    "# msigdb_c5_go_gmt['GOBP_CELL_DIFFERENTIATION_INVOLVED_IN_PHENOTYPIC_SWITCHING']\n",
    "\n",
    "# data_GOBP_LEUKOCYTE_DIFFERENTIATION = dict([\n",
    "#     (cell_line,get_hits(\n",
    "#         screens[cell_line].phenotypes['genetable']['rho']['ave_Rep1_Rep2'].loc[\n",
    "#             list(set(screens[cell_line].adata.var.target) & \n",
    "#                  set(msigdb_c5_go_gmt['GOBP_LEUKOCYTE_DIFFERENTIATION'])),keep], pval_thr) \n",
    "#     )\n",
    "#     for cell_line in screens.keys()\n",
    "# ])\n",
    "\n",
    "# ___\n",
    "\n",
    "# venn_diagram_resistance(\n",
    "#     data_GOBP_LEUKOCYTE_DIFFERENTIATION,\n",
    "#     'Leukocyte differentiation'\n",
    "#     ,.5,show_labels=['110'])\n",
    "\n",
    "# venn_diagram_sensitizing(\n",
    "#     data_GOBP_LEUKOCYTE_DIFFERENTIATION,\n",
    "#     'Leukocyte differentiation',.5,show_labels=['101','011'])\n",
    "\n",
    "\n",
    "\n",
    "\n",
    "\n",
    "# # screens['hl60'].adata.var[screens['hl60'].adata.var.target.str.contains('METTL')]\n",
    "\n",
    "# ### \n",
    "\n",
    "# data_GOBP_RNA_PROCESSING = dict([\n",
    "#     (cell_line,get_hits(\n",
    "#         screens[cell_line].phenotypes['genetable']['rho']['ave_Rep1_Rep2'].loc[\n",
    "#             list(set(screens[cell_line].adata.var.target) & \n",
    "#                  set(msigdb_c5_go_gmt['GOBP_RNA_PROCESSING'])),keep], pval_thr) \n",
    "#     )\n",
    "#     for cell_line in screens.keys()\n",
    "# ])\n",
    "\n",
    "# # venn_diagram_resistance(\n",
    "# #     data_GOBP_RNA_PROCESSING,\n",
    "# #     'RNA processing'\n",
    "# #     ,.5,show_labels=['110','101','111'])\n",
    "\n",
    "# venn_diagram_sensitizing(\n",
    "#     data_GOBP_RNA_PROCESSING,\n",
    "#     'RNA processing',.5,show_labels=['111'])\n",
    "\n",
    "# ### \n",
    "\n",
    "# len(msigdb_c5_go_gmt['GOBP_METHYLATION'])\n",
    "\n",
    "# data_GOBP_METYL = dict([\n",
    "#     (cell_line,get_hits(\n",
    "#         screens[cell_line].phenotypes['genetable']['rho']['ave_Rep1_Rep2'].loc[\n",
    "#             list(set(screens[cell_line].adata.var.target) & \n",
    "#                  set(msigdb_c5_go_gmt['GOBP_METHYLATION'])),keep], pval_thr) \n",
    "#     )\n",
    "#     for cell_line in screens.keys()\n",
    "# ])\n",
    "\n",
    "# venn_diagram_resistance(\n",
    "#     data_GOBP_METYL,\n",
    "#     'GO:0032259\\nmethylation\\n',.5,show_labels=['111','110','101'])\n",
    "\n",
    "# venn_diagram_sensitizing(\n",
    "#     data_GOBP_METYL,\n",
    "#     'GO:0032259\\nmethylation\\n',.5,show_labels=['011','101'])\n",
    "\n",
    "\n",
    "\n",
    "\n",
    "\n",
    "\n",
    "\n",
    "\n",
    "\n",
    "# # \n",
    "\n",
    "# gene_panel = [\n",
    "#     'TP53',\n",
    "#     'FTO','ALKBH5',\n",
    "#     'DCK', 'SLC29A1', 'DCTD',\n",
    "#     'BCL2', 'MCL1',\n",
    "#     'DCPS', 'DCP2', 'DCP1A', 'SCAF8',\n",
    "#     'METTL3', 'YTHDF2', 'YTHDC1', 'ZC3H13', 'VIRMA',#'KIAA1429', \n",
    "#     'CBLL1',\n",
    "#     'PTEN', 'SQLE', 'INTS5', 'DHODH', 'MYBBP1A',\n",
    "#     'INO80D', 'PMPCA', 'ZNF777', 'SLC7A6', 'RNF126', 'RBM14-RBM4',\n",
    "# ]\n",
    "\n",
    "# data_our_gene_panel = dict([\n",
    "#     (cell_line,get_hits(\n",
    "#         screens[cell_line].phenotypes['genetable']['rho']['ave_Rep1_Rep2'].loc[\n",
    "#             list(set(screens[cell_line].adata.var.target) & \n",
    "#                  set(gene_panel)),keep], pval_thr) \n",
    "#     )\n",
    "#     for cell_line in screens.keys()\n",
    "# ])\n",
    "\n",
    "# #### resistance\n",
    "\n",
    "# venn_diagram_resistance(\n",
    "#     data_our_gene_panel,\n",
    "#     ' ',.8,show_labels=['100','101','110','010','111'],\n",
    "#     save='CRISPR-screens-resistance-gene-panel-venn.pdf'\n",
    "# )\n",
    "\n",
    "# #### sensitizing\n",
    "\n",
    "# venn_diagram_sensitizing(\n",
    "#     data_our_gene_panel,\n",
    "#     ' ',.8,\n",
    "#     show_labels=['100','110','101','001'],\n",
    "#     show_pval_thr=True,\n",
    "#     save='CRISPR-screens-sensitizing-gene-panel-venn.pdf'\n",
    "# )\n",
    "\n",
    "\n",
    "\n",
    "# # set(data['hl60']['sensitizing']) & set(data['skm1']['sensitizing'])\n",
    "\n",
    "\n",
    "\n",
    "\n",
    "\n",
    "\n",
    "\n",
    "# # adata_filt = adata[:,adata.to_df().sum(axis=0).gt(0)].copy()\n",
    "\n",
    "# molm13_db = {\n",
    "#     \"untreated\":10.04,\n",
    "#     \"treated\":7.46,\n",
    "# }\n",
    "\n",
    "\n",
    "\n",
    "\n",
    "\n",
    "# # phe = pd.concat([\n",
    "# #     # get_replicate_score(screens['hl60'],'untreated', 'treated',\n",
    "# #     #                    molm13_db['untreated'] - molm13_db['treated'],\n",
    "# #     #                    ).add_prefix('hl60_rho_'),\n",
    "# #     scp.ps.runPhenoScoreForReplicate(screens['hl60'],'T0', 'untreated',\n",
    "# #                        molm13_db['untreated']\n",
    "# #                        ).add_prefix('hl60_gamma_'),\n",
    "# #     scp.ps.runPhenoScoreForReplicate(screens['hl60'],'T0', 'treated',\n",
    "# #                        molm13_db['treated'],\n",
    "# #                        ).add_prefix('hl60_tau_'),\n",
    "    \n",
    "# #     # get_replicate_score(screens['molm13'],'DMSO', 'DAC',\n",
    "# #     #                    molm13_db['untreated'] - molm13_db['treated'],\n",
    "# #     #                    ).add_prefix('molm13_rho_'),\n",
    "    \n",
    "# #     scp.ps.runPhenoScoreForReplicate(screens['molm13'],'T0', 'DMSO',\n",
    "# #                        molm13_db['untreated'],\n",
    "# #                        ).add_prefix('molm13_gamma_'),\n",
    "# #     scp.ps.runPhenoScoreForReplicate(screens['molm13'],'T0', 'DAC',\n",
    "# #                        molm13_db['treated'],\n",
    "# #                        ).add_prefix('molm13_tau_'),\n",
    "\n",
    "# #     # get_replicate_score(screens['skm1'],'DMSO', 'DAC',\n",
    "# #     #                     molm13_db['untreated'] - molm13_db['treated'],\n",
    "# #     #                    ).add_prefix('skm1_rho_'),\n",
    "    \n",
    "# #     scp.ps.runPhenoScoreForReplicate(screens['skm1'],'T0', 'DMSO',\n",
    "# #                         molm13_db['untreated']\n",
    "# #                        ).add_prefix('skm1_gamma_'),\n",
    "# #     scp.ps.runPhenoScoreForReplicate(screens['skm1'],'T0', 'DAC',\n",
    "# #                         molm13_db['treated'],\n",
    "# #                        ).add_prefix('skm1_tau_'),\n",
    "# # ],axis=1).T\n",
    "\n",
    "# # pdata = ad.AnnData(X=phe,var=oligo)\n",
    "\n",
    "# # pdata.obs['cell_line'] = pdata.obs.index.str.split('_').str[0]\n",
    "# # pdata.obs['score'] = pdata.obs.index.str.split('_').str[1]\n",
    "# # pdata.obs['replicate'] = pdata.obs.index.str.split('_').str[-1]\n",
    "\n",
    "# # pdata_filt = pd.concat(dict([(line,screens[line].adata.var['low_count']) for line in screens]),axis=1).sum(axis=1).gt(0)\n",
    "\n",
    "# # pdata = pdata[:,~pdata_filt].copy()\n",
    "\n",
    "# # pdata0 = pdata.copy()\n",
    "\n",
    "# # pdata = pdata0[pdata0.obs.score.isin(['rho','gamma'])].copy()\n",
    "\n",
    "\n",
    "\n",
    "# ### \n",
    "\n",
    "# sc.tl.pca(pdata)#, svd_solver='arpack')\n",
    "\n",
    "# with rc_context({'figure.figsize': (3, 3)}):\n",
    "#     sc.pl.pca_variance_ratio(pdata, n_pcs=8)\n",
    "#     plt.tight_layout()\n",
    "#     plt.show()\n",
    "\n",
    "# with rc_context({'figure.figsize': (2, 2)}):\n",
    "#     sc.pl.pca_scatter(pdata,color='score',size=300,alpha=0.7)\n",
    "#     sc.pl.pca_scatter(pdata,color='cell_line',size=300,alpha=0.7)\n",
    "\n",
    "# pca = plot_ggplot_pca(pdata,fill = 'cell_line',shape='score',legend_position=None,figure_size= (6, 3.5))\n",
    "\n",
    "# pca#.save('pca.pdf')\n",
    "\n",
    "# from screenpro.plotting import almost_black\n",
    "\n",
    "# def draw_scatter(adata, x, y, title, ax):\n",
    "#     bdata = adata[[x, y],:].copy()\n",
    "    \n",
    "#     print(bdata.shape)\n",
    "    \n",
    "#     bdata.obs.index = [f'Replicate {str(r)}' for r in bdata.obs.replicate.to_list()]\n",
    "#     x_lab, y_lab = [f'Replicate {str(r)}' for r in bdata.obs.replicate.to_list()]\n",
    "    \n",
    "#     sc.pp.log1p(bdata)\n",
    "#     sc.pl.scatter(\n",
    "#         bdata,\n",
    "#         x_lab, y_lab,\n",
    "#         legend_fontsize='xx-large',\n",
    "#         palette=[almost_black,'#BFBFBF'],\n",
    "#         color='targetType',\n",
    "#         title=title,\n",
    "#         size=5,\n",
    "#         show=False,\n",
    "#         ax = ax\n",
    "#     )\n",
    "#     ax.set_ylim(-2,1)\n",
    "#     ax.set_xlim(-2,1)\n",
    "#     ax.tick_params(axis='both', labelsize=10)\n",
    "#     ax.get_legend().remove()\n",
    "    \n",
    "#     ax.grid(False)\n",
    "\n",
    "\n",
    "\n",
    "\n",
    "# fig, axes = plt.subplots(ncols=4,\n",
    "#                          figsize=(10,3), \n",
    "#                          gridspec_kw={'wspace': 0.5, 'left': 0.12,'top':.8,'bottom':.3}, \n",
    "#                          # sharey=True\n",
    "#                         )\n",
    "\n",
    "# draw_scatter(pdata, 'hl60_gamma_replicate_1','hl60_gamma_replicate_2','hl60_gamma', axes[0])\n",
    "# draw_scatter(pdata, 'hl60_tau_replicate_1','hl60_tau_replicate_2','hl60_tau', axes[1])\n",
    "\n",
    "# draw_scatter(pdata, 'molm13_gamma_replicate_1','molm13_gamma_replicate_2','molm13_gamma', axes[2])\n",
    "# draw_scatter(pdata, 'molm13_tau_replicate_1','molm13_tau_replicate_2','molm13_tau', axes[3])\n",
    "\n",
    "# # fig.suptitle('PRDX1 parent screen',fontsize=15)\n",
    "\n",
    "# # plt.savefig('NAC_counts_qc.pdf',bbox_inches='tight')\n",
    "# plt.show()\n",
    "\n",
    "# fig, axes = plt.subplots(ncols=4,\n",
    "#                          figsize=(10,3), \n",
    "#                          gridspec_kw={'wspace': 0.5, 'left': 0.12,'top':.8,'bottom':.3}, \n",
    "#                          # sharey=True\n",
    "#                         )\n",
    "# draw_scatter(pdata0, 'hl60_gamma_replicate_1','hl60_gamma_replicate_2','hl60_gamma', axes[0])\n",
    "# draw_scatter(pdata0, 'hl60_tau_replicate_1','hl60_tau_replicate_2','hl60_tau', axes[1])\n",
    "\n",
    "# draw_scatter(pdata0, 'molm13_gamma_replicate_1','molm13_gamma_replicate_2','molm13_gamma', axes[2])\n",
    "# draw_scatter(pdata0, 'molm13_tau_replicate_1','molm13_tau_replicate_2','molm13_tau', axes[3])\n",
    "\n",
    "# # fig.suptitle('PRDX1 parent screen',fontsize=15)\n",
    "\n",
    "# # plt.savefig('NAC_counts_qc.pdf',bbox_inches='tight')\n",
    "# plt.show()\n",
    "\n",
    "\n",
    "\n",
    "\n",
    "\n",
    "\n",
    "\n",
    "\n",
    "\n",
    "\n",
    "\n",
    "\n",
    "\n",
    "# # \n",
    "\n",
    "# def plot_scatter_for_a_gene_on_three_cell_lines(gene_name):\n",
    "#     # Create subplots and specify the size\n",
    "#     fig, axes = plt.subplots(3, 2, figsize=(6, 9))\n",
    "\n",
    "#     cell_line_names = {\n",
    "#         'hl60':'HL-60',\n",
    "#         'molm13':'MOLM13',\n",
    "#         'skm1':'SKM1',\n",
    "#     }\n",
    "\n",
    "#     for i,rep_num in enumerate([1,2]):\n",
    "#         for j,cell_line in enumerate(['hl60','molm13','skm1']):\n",
    "#             plot_scatter_with_annotations(\n",
    "#                 axes[j,i],\n",
    "#                 pd.concat([pdata.var.T,pdata.to_df()],axis=0).T,\n",
    "#                 gamma=f'{cell_line}_gamma_replicate_{rep_num}',\n",
    "#                 rho=f'{cell_line}_rho_replicate_{rep_num}',\n",
    "#                 target_name=gene_name,\n",
    "#                 exp = f'{cell_line_names[cell_line]} CRISPRi (Rep {rep_num})'\n",
    "#             )\n",
    "\n",
    "#     # Show the plot\n",
    "#     plt.tight_layout()\n",
    "#     plt.show()\n",
    "\n",
    "# def rank_plot(series, highlight_values=None, xlabel='Rank', ylabel='Values', title='Rank Plot',dot_size=3,highlight_color='red', highlight_size_factor=2):\n",
    "#     \"\"\"\n",
    "#     Create a rank plot for a pandas Series.\n",
    "\n",
    "#     Parameters:\n",
    "#     - series: pd.Series\n",
    "#         The input pandas Series for which the rank plot is to be created.\n",
    "#     - xlabel: str, optional\n",
    "#         The label for the x-axis.\n",
    "#     - ylabel: str, optional\n",
    "#         The label for the y-axis.\n",
    "#     - title: str, optional\n",
    "#         The title of the plot.\n",
    "\n",
    "#     Returns:\n",
    "#     - None\n",
    "#     \"\"\"\n",
    "#     # Create a copy of the series and sort it\n",
    "#     sorted_series = series.sort_values(ascending=True)\n",
    "\n",
    "#     # Create a new DataFrame with the values and their corresponding ranks\n",
    "#     rank_df = pd.DataFrame({'Rank': range(1, len(sorted_series) + 1), 'Values': sorted_series.values})\n",
    "\n",
    "#     # Use a color that is suitable for publications\n",
    "#     plot_color = '#3498db'  # A shade of blue\n",
    "\n",
    "#     # Plot the ranks against their values with specified color\n",
    "#     plt.figure(figsize=(6, 3))\n",
    "#     plt.plot(rank_df['Rank'], rank_df['Values'], marker='o', linestyle='-', color=plot_color,markersize=dot_size)\n",
    "\n",
    "#     # Add labels and title\n",
    "#     plt.xlabel(xlabel)\n",
    "#     plt.ylabel(ylabel)\n",
    "#     plt.title(title)\n",
    "\n",
    "#     # Customize the grid lines for a clean look\n",
    "#     # plt.grid(True, linestyle='--', alpha=0.7)\n",
    "#     plt.grid(False)\n",
    "\n",
    "#     # Show the plot\n",
    "#     plt.show()\n",
    "\n",
    "# d = pdata.to_df().T['molm13_rho_replicate_2'].T\n",
    "\n",
    "# rank_plot(d,d.sort_values()[:10].index)\n",
    "\n",
    "\n",
    "\n",
    "\n",
    "\n",
    "\n",
    "\n",
    "\n",
    "\n",
    "\n",
    "\n",
    "\n",
    "\n",
    "# plot_scatter_for_a_gene_on_three_cell_lines('DCK')\n",
    "\n",
    "# plot_scatter_for_a_gene_on_three_cell_lines('SLC29A1')\n",
    "\n",
    "# plot_scatter_for_a_gene_on_three_cell_lines('DHODH')\n",
    "\n",
    "# # \n",
    "\n",
    "# Ca_library = pd.read_csv('../DAC/CRISPRa-screen/CRISPRa_v2_mouse_librarytable.txt',sep='\\t',index_col=0)\n",
    "# Ca_library.rename(columns={'gene':'target'},inplace=True)\n",
    "# Ca_library['targetType'] = Ca_library.target.apply(lambda x: \"negCtrl\" if x == \"negative_control\" else \"targeting\")\n",
    "# Ca_library = Ca_library.sort_values('target').sort_values('targetType',ascending=False)\n",
    "# Ca_library.targetType = pd.Categorical(Ca_library.targetType,categories=['targeting','negCtrl'])\n",
    "\n",
    "# Ca = pd.read_csv(\n",
    "#     '../DAC/CRISPRa-screen/GSE240570_raw_counts.txt.gz',\n",
    "#     sep='\\t',header=[0,1],index_col=0\n",
    "# )\n",
    "# meta = Ca.columns.to_frame(name=['condition','replicate']).reset_index(drop=True)\n",
    "# meta.replicate = meta.replicate.str[-1].astype(int)\n",
    "\n",
    "# Ca_screen = scp.ScreenPro(\n",
    "#     ad.AnnData(\n",
    "#         Ca.T.reset_index(drop=True),\n",
    "#         var=Ca_library.loc[Ca.index,:],\n",
    "#         obs=meta\n",
    "#     )\n",
    "# )\n",
    "\n",
    "# Ca_phe = pd.concat([\n",
    "#     get_replicate_score(Ca_screen,x_label='DMSO',y_label='DAC').add_prefix('rho_'),\n",
    "#     get_replicate_score(Ca_screen,x_label='T0',y_label='DMSO').add_prefix('gamma_'),\n",
    "# ],axis=1)\n",
    "\n",
    "# Ca_phe = pd.concat([Ca_phe, Ca_library.loc[Ca_phe.index,]],axis=1)\n",
    "\n",
    "# # plot_scatter_with_annotations(\n",
    "# #     Ca_phe,\n",
    "# #     gamma='gamma_replicate_1',\n",
    "# #     rho='rho_replicate_1',\n",
    "# #     target_name='Dck',\n",
    "# #     exp = 'CRISPRa'\n",
    "# # )\n",
    "\n",
    "# # plot_scatter_with_annotations(\n",
    "# #     Ca_phe,\n",
    "# #     gamma='gamma_replicate_1',\n",
    "# #     rho='rho_replicate_1',\n",
    "# #     target_name='Slc29a1',\n",
    "# #     exp = 'CRISPRa'\n",
    "# # )\n",
    "\n",
    "# # d = Ca_phe['gamma_replicate_1'].T\n",
    "\n",
    "# # rank_plot(d,d.sort_values()[:10].index)\n",
    "\n",
    "# d = Ca_phe['rho_replicate_1'].T\n",
    "\n",
    "# rank_plot(d,d.sort_values()[:10].index)\n",
    "\n",
    "# # \n",
    "\n",
    "# # from upsetplot import from_contents,UpSet\n",
    "\n",
    "# # import sys\n",
    "\n",
    "# # sys.path.append('../scripts/')\n",
    "\n",
    "# # from util import find_top\n",
    "\n",
    "# # def read_rho_phenotype_table(screen_path):\n",
    "# #     df = pd.read_csv(\n",
    "# #             f'{screen_path}/genetable_collapsed.txt',\n",
    "# #             sep='\\t',\n",
    "# #             header=list(range(3)), \n",
    "# #             index_col=list(range(1))\n",
    "# #         )['rho']['ave_Rep1_Rep2'].reset_index()[\n",
    "# #         ['gene','average phenotype of strongest 3','Mann-Whitney p-value']\n",
    "# #     ]\n",
    "# #     df.columns = ['target','rho score','pvalue']\n",
    "# #     df = scp.utils.ann_score_df(df,ctrl_label='pseudo')\n",
    "# #     return df.set_index('target')\n",
    "\n",
    "# # pd.concat([\n",
    "# #     read_rho_phenotype_table(f'{wd}/CRISPRi-screen/hl60_exp1/').add_prefix('hl60_'),\n",
    "# #     read_rho_phenotype_table(f'{wd}/CRISPRi-screen/skm1_exp/').add_prefix('skm1_'),\n",
    "# #     read_rho_phenotype_table(f'{wd}/CRISPRi-screen/molm13_exp/').add_prefix('molm13_'),\n",
    "# # ],axis=1)\n",
    "\n",
    "# Exp_up = set(Top['Exp']['up'].gene_name.to_list())# + u[1].gene_name.tolist())\n",
    "# Rho_up = set(Top['Rho']['up'].index.tolist())\n",
    "# Stbl_up = set(Top['Stbl']['up'].gene_name.tolist())\n",
    "# TE_up = set(Top['TE']['up'].gene_name.tolist())\n",
    "# Hyper_m6A = set(Top['Mtyl']['up'].gene_name.tolist())\n",
    "\n",
    "# Exp_down = set(Top['Exp']['down'].gene_name.tolist())# + d[1].gene_name.tolist())\n",
    "# Stbl_down = set(Top['Stbl']['down'].gene_name.tolist())\n",
    "# Rho_down = set(Top['Rho']['down'].index.tolist())\n",
    "# TE_down = set(Top['TE']['down'].gene_name.tolist())\n",
    "# Hypo_m6A = set(Top['Mtyl']['down'].gene_name.tolist())\n",
    "\n",
    "# 'MYBBP1A' in Rho_down \n",
    "\n",
    "# 'INTS5' in Exp_down\n",
    "\n",
    "# upset_data = {\n",
    "#     'Hyper_m6A':Hyper_m6A,\n",
    "#     # 'Hypo_m6A':Hypo_m6A,\n",
    "\n",
    "#     'Exp_up':Exp_up,\n",
    "#     'Rho_up':Rho_up,\n",
    "#     # 'Stbl_up':Stbl_up,\n",
    "#     'TE_up':TE_up,\n",
    "\n",
    "#     'Exp_down':Exp_down,\n",
    "#     # 'Stbl_down':Stbl_down,\n",
    "#     'Rho_down':Rho_down,\n",
    "#     'TE_down':TE_down\n",
    "# }\n",
    "\n",
    "# with PdfPages('intersectional-genes/comparisons_upset_plot.pdf') as pdf:\n",
    "#     # Hyper_m6A_upset_data\n",
    "#     fig1 = plt.figure()\n",
    "#     upset1 = us.UpSet(\n",
    "#         us.from_contents(upset_data),\n",
    "#         min_degree=3,\n",
    "#         sort_by='cardinality',\n",
    "#         # orientation='vertical',\n",
    "#         show_counts=True,\n",
    "#         # totals_plot_elements=\n",
    "#         other_dots_color=0.2,\n",
    "#         facecolor='lightgrey'\n",
    "#     )\n",
    "#     upset1.style_subsets(\n",
    "#         present=[\"Rho_down\",\"Hyper_m6A\"], \n",
    "#         # absent='Hypo_m6A',\n",
    "#         label=\"Hyper m6A & Rho down\", \n",
    "#         facecolor='brown'\n",
    "#         #, edgecolor='dimgrey',linewidth=0.5,linestyle='--'\n",
    "#     )\n",
    "    \n",
    "#     upset1.style_subsets(\n",
    "#         present=[\"Exp_down\",\"Hyper_m6A\"], \n",
    "#         # absent='Hypo_m6A',\n",
    "#         label=\"Hyper m6A & Exp down\", \n",
    "#         # facecolor='brown', \n",
    "#         edgecolor='darkgreen',linewidth=2#,linestyle='--'\n",
    "#     )\n",
    "\n",
    "#     upset1.plot(fig=fig1)\n",
    "#     plt.title('Differential analysis intersections',fontsize=12)\n",
    "#     pdf.savefig(bbox_inches='tight')"
   ]
  },
  {
   "cell_type": "markdown",
   "id": "985ffa4e-02c1-41b8-84d6-880c4b256faa",
   "metadata": {},
   "source": [
    "# "
   ]
  },
  {
   "cell_type": "code",
   "execution_count": 34,
   "id": "3786da2c-ab5d-45ed-9ecf-0f53b9ba1150",
   "metadata": {
    "tags": []
   },
   "outputs": [],
   "source": [
    "%reload_ext watermark"
   ]
  },
  {
   "cell_type": "code",
   "execution_count": 35,
   "id": "55a84171-8ea7-401a-a79b-26c7a892f85e",
   "metadata": {
    "tags": []
   },
   "outputs": [
    {
     "name": "stdout",
     "output_type": "stream",
     "text": [
      "Last updated: 2024-03-13T16:46:52.055071-07:00\n",
      "\n",
      "Python implementation: CPython\n",
      "Python version       : 3.9.18\n",
      "IPython version      : 8.18.1\n",
      "\n",
      "Compiler    : GCC 11.2.0\n",
      "OS          : Linux\n",
      "Release     : 3.10.0-957.27.2.el7.x86_64\n",
      "Machine     : x86_64\n",
      "Processor   : x86_64\n",
      "CPU cores   : 64\n",
      "Architecture: 64bit\n",
      "\n"
     ]
    }
   ],
   "source": [
    "%watermark"
   ]
  },
  {
   "cell_type": "code",
   "execution_count": 36,
   "id": "825c4895-7a55-4c43-8a25-1a7e9adbbca0",
   "metadata": {
    "tags": []
   },
   "outputs": [
    {
     "name": "stdout",
     "output_type": "stream",
     "text": [
      "screenpro : 0.2.6\n",
      "anndata   : 0.10.5.post1\n",
      "pandas    : 1.5.3\n",
      "seaborn   : 0.13.2\n",
      "numpy     : 1.26.4\n",
      "sys       : 3.9.18 (main, Sep 11 2023, 13:41:44) \n",
      "[GCC 11.2.0]\n",
      "matplotlib: 3.6.3\n",
      "scanpy    : 1.9.8\n",
      "\n"
     ]
    }
   ],
   "source": [
    "%watermark --iversions"
   ]
  },
  {
   "cell_type": "code",
   "execution_count": 37,
   "id": "8c0dac6d-5fb2-4ebe-9ab5-23837fdbbfab",
   "metadata": {
    "tags": []
   },
   "outputs": [
    {
     "name": "stdout",
     "output_type": "stream",
     "text": [
      "Wed Mar 13 16:46:55 PDT 2024\n"
     ]
    }
   ],
   "source": [
    "!date"
   ]
  }
 ],
 "metadata": {
  "kernelspec": {
   "display_name": "Python [conda env:screenpro2]",
   "language": "python",
   "name": "conda-env-screenpro2-py"
  },
  "language_info": {
   "codemirror_mode": {
    "name": "ipython",
    "version": 3
   },
   "file_extension": ".py",
   "mimetype": "text/x-python",
   "name": "python",
   "nbconvert_exporter": "python",
   "pygments_lexer": "ipython3",
   "version": "3.9.18"
  }
 },
 "nbformat": 4,
 "nbformat_minor": 5
}
