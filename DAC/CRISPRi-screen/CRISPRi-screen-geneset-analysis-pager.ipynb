{
 "cells": [
  {
   "cell_type": "markdown",
   "metadata": {},
   "source": [
    "# Pathway enrichment analysis\n",
    "\n",
    "<!-- Luke and Ray has shared the CRISPRi screening results which was analyzed with [ScreenProcessing](https://github.com/mhorlbeck/ScreenProcessing) pipeline.  -->\n",
    "\n",
    "<!-- - $\\gamma$ - gamma score -->\n",
    "<!-- - $\\rho$ - rho score -->\n",
    "\n",
    "<!-- - Pathway enrichment analysis over rho scores -->\n",
    "<!-- - Load screening result tables into python \n",
    "- Make sure gene names are correctly assigned \n",
    " -->\n",
    "\n",
    "<!-- Alex Ge: \n",
    "> If we do Enrichr analysis on the resistance/sensitivity hits defined by Max’s cutoffs, (n = 418 genes), we do see mRNA methylation (adj p = 0.018) and RNA destabilization (adj p = 0.005) come out as significant GO biological processes. METTL3 is included in these GO terms.\n",
    "\n",
    "> If we do Enrichr analysis on just the resistance hits (n = 197), mRNA methylation is even more significant (adj p = 0.002), which makes sense since we see more METTL3 biology on the resistance side. It is one of the top five GO terms by adjusted P-value.\n",
    "\n",
    "> This analysis was done today with the 2021 GO terms, which have updated annotations for the newer m6A genes. When I did the same Enrichr analysis in 2018, RNA destabilization and mRNA methylation were not as significant since the GO annotations were not updated.\n",
    "\n",
    "> I think Enrichr analysis might make more sense here – in Abe’s analysis, I can see that a lot of rho scores that are < 0.2 are being included in the analysis; these are likely to be statistically insignificant. It also looks graphically like the highest bin is including rho values that are < 0?\n",
    " -->"
   ]
  },
  {
   "cell_type": "code",
   "execution_count": 1,
   "metadata": {},
   "outputs": [],
   "source": [
    "from matplotlib_venn import venn2"
   ]
  },
  {
   "cell_type": "code",
   "execution_count": 2,
   "metadata": {},
   "outputs": [],
   "source": [
    "from IPython.display import IFrame"
   ]
  },
  {
   "cell_type": "code",
   "execution_count": 3,
   "metadata": {},
   "outputs": [],
   "source": [
    "from glob import glob\n",
    "\n",
    "import sys\n",
    "import pandas as pd\n",
    "import numpy as np \n",
    "from itertools import chain, product\n",
    "\n",
    "sys.path.append(\"../../\")\n",
    "pager_dir = \"/data_gilbert/home/aarab/Projects/pager/\"\n",
    "sys.path.append(pager_dir)\n",
    "\n",
    "from scripts.util import *\n",
    "import ipage_down as ipd"
   ]
  },
  {
   "cell_type": "code",
   "execution_count": 4,
   "metadata": {},
   "outputs": [],
   "source": [
    "# wd = '/rumi/shams/abe/Projects/Decitabine-treatment/'\n",
    "wd = '/data_gilbert/home/aarab/Projects/Decitabine-treatment/DAC'"
   ]
  },
  {
   "cell_type": "code",
   "execution_count": 5,
   "metadata": {},
   "outputs": [],
   "source": [
    "data = load_data(screens=True,wd=wd)"
   ]
  },
  {
   "cell_type": "code",
   "execution_count": 6,
   "metadata": {},
   "outputs": [
    {
     "data": {
      "text/plain": [
       "dict_keys(['hl60_exp1_DAC_rho', 'hl60_exp1_DAC_gamma', 'hl60_exp2_DAC_rho', 'hl60_exp2_DAC_gamma', 'hl60_exp2_GSK_rho', 'hl60_exp2_GSK_gamma', 'molm13_exp_DAC_rho', 'molm13_exp_DAC_gamma', 'molm13_exp_GSK_rho', 'molm13_exp_GSK_gamma'])"
      ]
     },
     "execution_count": 6,
     "metadata": {},
     "output_type": "execute_result"
    }
   ],
   "source": [
    "data.keys()"
   ]
  },
  {
   "cell_type": "markdown",
   "metadata": {
    "tags": []
   },
   "source": [
    "## Run `iPAGE`:"
   ]
  },
  {
   "cell_type": "markdown",
   "metadata": {},
   "source": [
    "https://medium.com/analytics-vidhya/techniques-to-transform-data-distribution-565a4d0f2da\n"
   ]
  },
  {
   "cell_type": "code",
   "execution_count": 93,
   "metadata": {},
   "outputs": [
    {
     "name": "stdout",
     "output_type": "stream",
     "text": [
      "up:  8896\n",
      "down: 9864\n"
     ]
    }
   ],
   "source": [
    "from matplotlib import pyplot\n",
    "from scipy.stats import yeojohnson\n",
    "\n",
    "rho = pd.concat(find_top(data['hl60_exp1_DAC_rho'].astype(float),'rho score',0,'Mann-Whitney p-value',1)).reset_index()"
   ]
  },
  {
   "cell_type": "code",
   "execution_count": 103,
   "metadata": {},
   "outputs": [],
   "source": [
    "def fdr_diff_table(df,fold_change,stat_val):\n",
    "    df['fdr'] = np.sign(df[fold_change] ) * (1 - df[stat_val])\n",
    "    return df"
   ]
  },
  {
   "cell_type": "code",
   "execution_count": 189,
   "metadata": {},
   "outputs": [],
   "source": [
    "rho[['gene_name','rho score']].to_csv(\n",
    "    'hl60_exp1_DAC_rho_delta_phenotype.txt',sep='\\t',index=None, header=None\n",
    ")"
   ]
  },
  {
   "cell_type": "code",
   "execution_count": 190,
   "metadata": {},
   "outputs": [
    {
     "name": "stdout",
     "output_type": "stream",
     "text": [
      "gene_name\trho score\n",
      "A1CF\t0.00493164595946\n",
      "A2ML1\t0.0625139181208\n",
      "A4GALT\t0.0952827862429\n",
      "A4GNT\t0.00884423785995\n",
      "AADACL4\t0.0252223337879\n",
      "AAED1\t0.0294955169881\n",
      "AAK1\t0.0549906505538\n",
      "AAR2\t0.118809960392\n",
      "AARS2\t0.179262551668\n"
     ]
    }
   ],
   "source": [
    "!head hl60_exp1_DAC_rho_delta_phenotype.txt"
   ]
  },
  {
   "cell_type": "code",
   "execution_count": 109,
   "metadata": {},
   "outputs": [],
   "source": [
    "fdr_diff_table(\n",
    "    rho,'rho score','Mann-Whitney p-value'\n",
    ").set_index('gene_name')[['fdr']].to_csv(\n",
    "    'hl60_exp1_DAC_rho_delta_phenotype_fdr.txt',sep='\\t',header=None\n",
    ")"
   ]
  },
  {
   "cell_type": "code",
   "execution_count": 110,
   "metadata": {},
   "outputs": [
    {
     "name": "stdout",
     "output_type": "stream",
     "text": [
      "A1CF\t0.20091296344200005\n",
      "A2ML1\t0.825801017649\n",
      "A4GALT\t0.99259028423435\n",
      "A4GNT\t0.11282162900899995\n",
      "AADACL4\t0.129521651322\n",
      "AAED1\t0.43757634167399995\n",
      "AAK1\t0.596610457282\n",
      "AAR2\t0.896198649463\n",
      "AARS2\t0.999131696699001\n",
      "AASS\t0.49524476780500004\n"
     ]
    }
   ],
   "source": [
    "!head hl60_exp1_DAC_rho_delta_phenotype_fdr.txt"
   ]
  },
  {
   "cell_type": "code",
   "execution_count": 114,
   "metadata": {},
   "outputs": [
    {
     "name": "stdout",
     "output_type": "stream",
     "text": [
      "hl60_exp1_DAC_rho_delta_phenotype_fdr.txt\n",
      "hl60_exp1_DAC_rho_delta_phenotype.txt\n"
     ]
    }
   ],
   "source": [
    "ls *delta_phenotype*.txt"
   ]
  },
  {
   "cell_type": "code",
   "execution_count": 115,
   "metadata": {},
   "outputs": [],
   "source": [
    "%%bash \n",
    "export PAGEDIR=/data_gilbert/home/aarab/Workflows/iPAGE\n",
    "\n",
    "nohup ls *delta_phenotype*.txt | parallel -j18 -k bash ~/Projects/pager/ipage_loop.sh  {} &> ipage.out"
   ]
  },
  {
   "cell_type": "markdown",
   "metadata": {
    "tags": []
   },
   "source": [
    "## Interpret results – `pager`\n",
    "https://github.com/abearab/pager"
   ]
  },
  {
   "cell_type": "code",
   "execution_count": 116,
   "metadata": {},
   "outputs": [],
   "source": [
    "exp = 'hl60_exp1_DAC_rho_delta_phenotype'\n",
    "\n",
    "def get_pvmatrix_list(parent_path,pattern):\n",
    "    \"\"\"\n",
    "    pattern: msigdb gene set cluster name \n",
    "    \"\"\"\n",
    "    return glob(f'{parent_path}/*{pattern}*/pvmatrix.txt')"
   ]
  },
  {
   "cell_type": "markdown",
   "metadata": {},
   "source": [
    "### Draw iPAGE heatmap"
   ]
  },
  {
   "cell_type": "markdown",
   "metadata": {},
   "source": [
    "### C5 GO"
   ]
  },
  {
   "cell_type": "code",
   "execution_count": 117,
   "metadata": {},
   "outputs": [
    {
     "name": "stdout",
     "output_type": "stream",
     "text": [
      "‘CRISPRi-rho-pager-GO_all.pdf’ -> ‘plots/CRISPRi-rho-pager-GO_all.pdf’\n",
      "removed ‘temp-pvmatrix.txt’\n"
     ]
    }
   ],
   "source": [
    "pdf = 'CRISPRi-rho-pager-GO_all.pdf'\n",
    "\n",
    "ipd.merge_multiple_pvmat(\n",
    "    get_pvmatrix_list(exp,'c5.go')\n",
    ").to_csv('temp-pvmatrix.txt',sep='\\t')\n",
    "\n",
    "!bash {pager_dir}/ipage_draw_matrix.sh \\\n",
    "    {exp}'.txt' \"temp-pvmatrix.txt\" \\\n",
    "    {pdf} &> /dev/null\n",
    "\n",
    "!mv -v {pdf} plots/\n",
    "!rm -v 'temp-pvmatrix.txt'"
   ]
  },
  {
   "cell_type": "code",
   "execution_count": 118,
   "metadata": {},
   "outputs": [],
   "source": [
    "pv_signal_go0 = pd.concat([ \n",
    "    ipd.pvmat2bio_signal( \n",
    "        ipd.merge_multiple_pvmat(get_pvmatrix_list(exp,'c5.go')), s, n_clust=n, thr=2\n",
    "    ) for s in ['both'] for n in [1,2,3] \n",
    "])"
   ]
  },
  {
   "cell_type": "code",
   "execution_count": 123,
   "metadata": {},
   "outputs": [],
   "source": [
    "# pv_signal_go0"
   ]
  },
  {
   "cell_type": "code",
   "execution_count": 122,
   "metadata": {},
   "outputs": [],
   "source": [
    "# gs = 'GOBP_MRNA_PROCESSING'\n",
    "\n",
    "# pd.DataFrame([\n",
    "#     (n,','.join(list(ipd.bin_identifier_genes(\n",
    "#         'hl60_exp1_DAC_rho_delta_phenotype/msigdb_v7.4_c5.go',str(n),gs\n",
    "#     ).values())[0])) for n in [0,\n",
    "#                                #1,2,3,4,6,7,8,9,\n",
    "#                                10]\n",
    "# ],columns=['clust',gs]).set_index('clust').to_dict()"
   ]
  },
  {
   "cell_type": "code",
   "execution_count": 16,
   "metadata": {},
   "outputs": [
    {
     "name": "stdout",
     "output_type": "stream",
     "text": [
      "‘CRISPRi-rho-pager-GO-both.pdf’ -> ‘plots/CRISPRi-rho-pager-GO-both.pdf’\n",
      "removed ‘temp-pvmatrix.txt’\n"
     ]
    }
   ],
   "source": [
    "pdf = 'CRISPRi-rho-pager-GO-both.pdf'\n",
    "\n",
    "pv_signal_go0.to_csv('temp-pvmatrix.txt',sep='\\t')\n",
    "\n",
    "!bash {pager_dir}/ipage_draw_matrix.sh \\\n",
    "    {exp}'.txt' \"temp-pvmatrix.txt\" \\\n",
    "    {pdf} &> /dev/null\n",
    "!mv -v {pdf} plots/\n",
    "!rm -v 'temp-pvmatrix.txt'"
   ]
  },
  {
   "cell_type": "code",
   "execution_count": 69,
   "metadata": {},
   "outputs": [],
   "source": [
    "pv_signal_go1 = pd.concat([ \n",
    "    ipd.pvmat2bio_signal( \n",
    "        ipd.merge_multiple_pvmat(get_pvmatrix_list(exp,'c5.go')), s, n_clust=n, thr=1\n",
    "    ) for s in ['up','down','both'] for n in [1,2] \n",
    "]) "
   ]
  },
  {
   "cell_type": "code",
   "execution_count": 70,
   "metadata": {},
   "outputs": [
    {
     "name": "stdout",
     "output_type": "stream",
     "text": [
      "‘CRISPRi-rho-pager-GO.pdf’ -> ‘plots/CRISPRi-rho-pager-GO.pdf’\n",
      "removed ‘temp-pvmatrix.txt’\n"
     ]
    }
   ],
   "source": [
    "pdf = 'CRISPRi-rho-pager-GO.pdf'\n",
    "\n",
    "pv_signal_go1.to_csv('temp-pvmatrix.txt',sep='\\t')\n",
    "\n",
    "!bash {pager_dir}/ipage_draw_matrix.sh \\\n",
    "    {exp}'.txt' \"temp-pvmatrix.txt\" \\\n",
    "    {pdf} &> /dev/null\n",
    "!mv -v {pdf} plots/\n",
    "!rm -v 'temp-pvmatrix.txt'"
   ]
  },
  {
   "cell_type": "code",
   "execution_count": 71,
   "metadata": {},
   "outputs": [
    {
     "data": {
      "text/html": [
       "\n",
       "        <iframe\n",
       "            width=\"600\"\n",
       "            height=\"300\"\n",
       "            src=\"plots/CRISPRi-rho-pager-GO.pdf\"\n",
       "            frameborder=\"0\"\n",
       "            allowfullscreen\n",
       "        ></iframe>\n",
       "        "
      ],
      "text/plain": [
       "<IPython.lib.display.IFrame at 0x7f0b47092320>"
      ]
     },
     "execution_count": 71,
     "metadata": {},
     "output_type": "execute_result"
    }
   ],
   "source": [
    "IFrame(\"plots/CRISPRi-rho-pager-GO.pdf\", width=600, height=300)"
   ]
  },
  {
   "cell_type": "code",
   "execution_count": 33,
   "metadata": {},
   "outputs": [],
   "source": [
    "# pdf = 'CRISPRi-rho-pager-GO-down.pdf'\n",
    "\n",
    "# pv_signal_go2.to_csv('temp-pvmatrix.txt',sep='\\t')\n",
    "\n",
    "# !bash {pager_dir}/ipage_draw_matrix.sh \\\n",
    "#     {exp}'.txt' \"temp-pvmatrix.txt\" \\\n",
    "#     {pdf} &> /dev/null\n",
    "# !mv -v {pdf} plots/\n",
    "# !rm -v 'temp-pvmatrix.txt'"
   ]
  },
  {
   "cell_type": "markdown",
   "metadata": {
    "tags": []
   },
   "source": [
    "### C2"
   ]
  },
  {
   "cell_type": "code",
   "execution_count": 125,
   "metadata": {},
   "outputs": [
    {
     "name": "stdout",
     "output_type": "stream",
     "text": [
      "‘CRISPRi-rho-pager-KEGG_all.pdf’ -> ‘plots/CRISPRi-rho-pager-KEGG_all.pdf’\n",
      "removed ‘temp-pvmatrix.txt’\n"
     ]
    }
   ],
   "source": [
    "pdf = 'CRISPRi-rho-pager-KEGG_all.pdf'\n",
    "\n",
    "ipd.merge_multiple_pvmat(get_pvmatrix_list(exp,'c2.cp')).to_csv('temp-pvmatrix.txt',sep='\\t')\n",
    "\n",
    "!bash {pager_dir}/ipage_draw_matrix.sh \\\n",
    "    {exp}'.txt' \"temp-pvmatrix.txt\" \\\n",
    "    {pdf} &> /dev/null\n",
    "!mv -v {pdf} plots/\n",
    "!rm -v 'temp-pvmatrix.txt'"
   ]
  },
  {
   "cell_type": "code",
   "execution_count": 181,
   "metadata": {},
   "outputs": [],
   "source": [
    "pv_signal_c2 = pd.concat([\n",
    "    ipd.pvmat2bio_signal(\n",
    "        ipd.merge_multiple_pvmat(get_pvmatrix_list(exp,'c2.cp.kegg')),s, thr=2,\n",
    "        n_clust=n\n",
    "    )\n",
    "    for s in ['up','both','down'] for n in [1,2,3]\n",
    "])"
   ]
  },
  {
   "cell_type": "code",
   "execution_count": 182,
   "metadata": {},
   "outputs": [
    {
     "data": {
      "text/html": [
       "<div>\n",
       "<style scoped>\n",
       "    .dataframe tbody tr th:only-of-type {\n",
       "        vertical-align: middle;\n",
       "    }\n",
       "\n",
       "    .dataframe tbody tr th {\n",
       "        vertical-align: top;\n",
       "    }\n",
       "\n",
       "    .dataframe thead th {\n",
       "        text-align: right;\n",
       "    }\n",
       "</style>\n",
       "<table border=\"1\" class=\"dataframe\">\n",
       "  <thead>\n",
       "    <tr style=\"text-align: right;\">\n",
       "      <th></th>\n",
       "      <th>[-0.12 -0.10]</th>\n",
       "      <th>[-0.10 -0.07]</th>\n",
       "      <th>[-0.07 -0.05]</th>\n",
       "      <th>[-0.05 -0.03]</th>\n",
       "      <th>[-0.03 -0.01]</th>\n",
       "      <th>[-0.01 0.00]</th>\n",
       "      <th>[0.00 0.02]</th>\n",
       "      <th>[0.02 0.03]</th>\n",
       "      <th>[0.03 0.05]</th>\n",
       "      <th>[0.05 0.08]</th>\n",
       "      <th>[0.08 0.1]</th>\n",
       "    </tr>\n",
       "  </thead>\n",
       "  <tbody>\n",
       "    <tr>\n",
       "      <th>KEGG_AMINOACYL_TRNA_BIOSYNTHESIS</th>\n",
       "      <td>-0.872</td>\n",
       "      <td>0.235</td>\n",
       "      <td>0.235</td>\n",
       "      <td>-0.379</td>\n",
       "      <td>-0.872</td>\n",
       "      <td>0.235</td>\n",
       "      <td>0.235</td>\n",
       "      <td>0.930</td>\n",
       "      <td>-0.872</td>\n",
       "      <td>-0.872</td>\n",
       "      <td>3.543</td>\n",
       "    </tr>\n",
       "    <tr>\n",
       "      <th>KEGG_SPLICEOSOME</th>\n",
       "      <td>2.357</td>\n",
       "      <td>-0.446</td>\n",
       "      <td>-0.619</td>\n",
       "      <td>-0.446</td>\n",
       "      <td>-0.619</td>\n",
       "      <td>-1.449</td>\n",
       "      <td>-0.313</td>\n",
       "      <td>-0.619</td>\n",
       "      <td>0.561</td>\n",
       "      <td>-1.111</td>\n",
       "      <td>3.163</td>\n",
       "    </tr>\n",
       "  </tbody>\n",
       "</table>\n",
       "</div>"
      ],
      "text/plain": [
       "                                  [-0.12 -0.10]  [-0.10 -0.07]  [-0.07 -0.05]  \\\n",
       "KEGG_AMINOACYL_TRNA_BIOSYNTHESIS         -0.872          0.235          0.235   \n",
       "KEGG_SPLICEOSOME                          2.357         -0.446         -0.619   \n",
       "\n",
       "                                  [-0.05 -0.03]  [-0.03 -0.01]  [-0.01 0.00]  \\\n",
       "KEGG_AMINOACYL_TRNA_BIOSYNTHESIS         -0.379         -0.872         0.235   \n",
       "KEGG_SPLICEOSOME                         -0.446         -0.619        -1.449   \n",
       "\n",
       "                                  [0.00 0.02]  [0.02 0.03]  [0.03 0.05]  \\\n",
       "KEGG_AMINOACYL_TRNA_BIOSYNTHESIS        0.235        0.930       -0.872   \n",
       "KEGG_SPLICEOSOME                       -0.313       -0.619        0.561   \n",
       "\n",
       "                                  [0.05 0.08]  [0.08 0.1]  \n",
       "KEGG_AMINOACYL_TRNA_BIOSYNTHESIS       -0.872       3.543  \n",
       "KEGG_SPLICEOSOME                       -1.111       3.163  "
      ]
     },
     "execution_count": 182,
     "metadata": {},
     "output_type": "execute_result"
    }
   ],
   "source": [
    "pv_signal_c2"
   ]
  },
  {
   "cell_type": "code",
   "execution_count": 183,
   "metadata": {},
   "outputs": [
    {
     "name": "stdout",
     "output_type": "stream",
     "text": [
      "‘CRISPRi-rho-pager-C2.pdf’ -> ‘plots/CRISPRi-rho-pager-C2.pdf’\n",
      "removed ‘temp-pvmatrix.txt’\n"
     ]
    }
   ],
   "source": [
    "pdf = 'CRISPRi-rho-pager-C2.pdf'\n",
    "\n",
    "pv_signal_c2.to_csv('temp-pvmatrix.txt',sep='\\t')\n",
    "\n",
    "!bash {pager_dir}/ipage_draw_matrix.sh \\\n",
    "    {exp}'.txt' \"temp-pvmatrix.txt\" \\\n",
    "    {pdf} &> /dev/null\n",
    "!mv -v {pdf} plots/\n",
    "!rm -v 'temp-pvmatrix.txt'"
   ]
  },
  {
   "cell_type": "code",
   "execution_count": 184,
   "metadata": {},
   "outputs": [
    {
     "data": {
      "text/html": [
       "\n",
       "        <iframe\n",
       "            width=\"600\"\n",
       "            height=\"300\"\n",
       "            src=\"plots/CRISPRi-rho-pager-C2.pdf\"\n",
       "            frameborder=\"0\"\n",
       "            allowfullscreen\n",
       "        ></iframe>\n",
       "        "
      ],
      "text/plain": [
       "<IPython.lib.display.IFrame at 0x7f0b4dc11668>"
      ]
     },
     "execution_count": 184,
     "metadata": {},
     "output_type": "execute_result"
    }
   ],
   "source": [
    "IFrame(\"plots/CRISPRi-rho-pager-C2.pdf\", width=600, height=300)"
   ]
  },
  {
   "cell_type": "markdown",
   "metadata": {
    "jp-MarkdownHeadingCollapsed": true,
    "tags": []
   },
   "source": [
    "## C3"
   ]
  },
  {
   "cell_type": "code",
   "execution_count": 28,
   "metadata": {},
   "outputs": [
    {
     "data": {
      "text/html": [
       "<div>\n",
       "<style scoped>\n",
       "    .dataframe tbody tr th:only-of-type {\n",
       "        vertical-align: middle;\n",
       "    }\n",
       "\n",
       "    .dataframe tbody tr th {\n",
       "        vertical-align: top;\n",
       "    }\n",
       "\n",
       "    .dataframe thead th {\n",
       "        text-align: right;\n",
       "    }\n",
       "</style>\n",
       "<table border=\"1\" class=\"dataframe\">\n",
       "  <thead>\n",
       "    <tr style=\"text-align: right;\">\n",
       "      <th></th>\n",
       "      <th>[-0.12 -0.10]</th>\n",
       "      <th>[-0.10 -0.06]</th>\n",
       "      <th>[-0.06 -0.04]</th>\n",
       "      <th>[-0.04 -0.03]</th>\n",
       "      <th>[-0.03 -0.01]</th>\n",
       "      <th>[-0.01 0.00]</th>\n",
       "      <th>[0.00 0.02]</th>\n",
       "      <th>[0.02 0.03]</th>\n",
       "      <th>[0.03 0.05]</th>\n",
       "      <th>[0.05 0.08]</th>\n",
       "      <th>[0.08 0.1]</th>\n",
       "    </tr>\n",
       "  </thead>\n",
       "  <tbody>\n",
       "    <tr>\n",
       "      <th>GGCNKCCATNK_UNKNOWN</th>\n",
       "      <td>4.507</td>\n",
       "      <td>-0.774</td>\n",
       "      <td>0.610</td>\n",
       "      <td>-1.035</td>\n",
       "      <td>-1.359</td>\n",
       "      <td>-0.567</td>\n",
       "      <td>-0.281</td>\n",
       "      <td>-0.405</td>\n",
       "      <td>-0.774</td>\n",
       "      <td>-0.405</td>\n",
       "      <td>1.257</td>\n",
       "    </tr>\n",
       "    <tr>\n",
       "      <th>CAVIN1_TARGET_GENES</th>\n",
       "      <td>2.350</td>\n",
       "      <td>1.547</td>\n",
       "      <td>0.906</td>\n",
       "      <td>-0.527</td>\n",
       "      <td>-1.784</td>\n",
       "      <td>-0.811</td>\n",
       "      <td>1.206</td>\n",
       "      <td>-2.655</td>\n",
       "      <td>-0.811</td>\n",
       "      <td>-0.527</td>\n",
       "      <td>0.277</td>\n",
       "    </tr>\n",
       "    <tr>\n",
       "      <th>MIR4772_5P</th>\n",
       "      <td>0.750</td>\n",
       "      <td>-0.837</td>\n",
       "      <td>-0.513</td>\n",
       "      <td>-0.301</td>\n",
       "      <td>1.056</td>\n",
       "      <td>-1.328</td>\n",
       "      <td>-1.328</td>\n",
       "      <td>0.498</td>\n",
       "      <td>-1.328</td>\n",
       "      <td>0.498</td>\n",
       "      <td>2.781</td>\n",
       "    </tr>\n",
       "  </tbody>\n",
       "</table>\n",
       "</div>"
      ],
      "text/plain": [
       "                     [-0.12 -0.10]  [-0.10 -0.06]  [-0.06 -0.04]  \\\n",
       "GGCNKCCATNK_UNKNOWN          4.507         -0.774          0.610   \n",
       "CAVIN1_TARGET_GENES          2.350          1.547          0.906   \n",
       "MIR4772_5P                   0.750         -0.837         -0.513   \n",
       "\n",
       "                     [-0.04 -0.03]  [-0.03 -0.01]  [-0.01 0.00]  [0.00 0.02]  \\\n",
       "GGCNKCCATNK_UNKNOWN         -1.035         -1.359        -0.567       -0.281   \n",
       "CAVIN1_TARGET_GENES         -0.527         -1.784        -0.811        1.206   \n",
       "MIR4772_5P                  -0.301          1.056        -1.328       -1.328   \n",
       "\n",
       "                     [0.02 0.03]  [0.03 0.05]  [0.05 0.08]  [0.08 0.1]  \n",
       "GGCNKCCATNK_UNKNOWN       -0.405       -0.774       -0.405       1.257  \n",
       "CAVIN1_TARGET_GENES       -2.655       -0.811       -0.527       0.277  \n",
       "MIR4772_5P                 0.498       -1.328        0.498       2.781  "
      ]
     },
     "execution_count": 28,
     "metadata": {},
     "output_type": "execute_result"
    }
   ],
   "source": [
    "pvmat = ipd.merge_multiple_pvmat(\n",
    "    pvmat_list = glob(f'{exp}/*c3*/pvmatrix.txt')\n",
    ")\n",
    "\n",
    "bio_signal = pd.concat([\n",
    "    ipd.pvmat2bio_signal(pvmat,side='down',n_clust=1),\n",
    "    ipd.pvmat2bio_signal(pvmat,side='up',n_clust=1),\n",
    "    ipd.pvmat2bio_signal(pvmat,side='both'),\n",
    "],axis=0)\n",
    "\n",
    "bio_signal"
   ]
  },
  {
   "cell_type": "code",
   "execution_count": 15,
   "metadata": {},
   "outputs": [
    {
     "name": "stdout",
     "output_type": "stream",
     "text": [
      "[['msigdb_v7.4_c3.all', 'pvmatrix.txt'], ['msigdb_v7.4_c3.mir.mirdb', 'pvmatrix.txt']]\n"
     ]
    }
   ],
   "source": [
    "pvmat_list = glob(f'{exp}/*c3*/pvmatrix.txt')\n",
    "gs_cluster_path = ipd.detect_gs_cluster(pvmat_list, gs=gs)\n",
    "\n",
    "print ([p.split('/')[1:3] for p in gs_cluster_path])\n",
    "\n",
    "gs_cluster_path = gs_cluster_path[0].split('pvmatrix.txt')[0]\n"
   ]
  },
  {
   "cell_type": "code",
   "execution_count": 35,
   "metadata": {},
   "outputs": [
    {
     "data": {
      "text/plain": [
       "'ACBD5,ARID4A,ATF7IP2,CMTM3,LEPROTL1,P4HB,RBBP4,SEC14L1,SLC34A1,STAP2,TCERG1,VDAC2,ZSCAN31'"
      ]
     },
     "execution_count": 35,
     "metadata": {},
     "output_type": "execute_result"
    }
   ],
   "source": [
    "gs = 'CAVIN1_TARGET_GENES'\n",
    "\n",
    "pd.DataFrame([\n",
    "    (n,','.join(list(ipd.bin_identifier_genes(\n",
    "        f'{gs_cluster_path}',str(n),gs\n",
    "    ).values())[0])) for n in [0,1,2,3,4,6,7,8,9,10]\n",
    "],columns=['clust',gs]).set_index('clust')[gs][0]"
   ]
  },
  {
   "cell_type": "markdown",
   "metadata": {},
   "source": [
    "## Identifier genes of enriched pathways"
   ]
  },
  {
   "cell_type": "markdown",
   "metadata": {
    "tags": []
   },
   "source": [
    "### GOBP_RNA_MODIFICATION"
   ]
  },
  {
   "cell_type": "code",
   "execution_count": 63,
   "metadata": {},
   "outputs": [
    {
     "data": {
      "text/plain": [
       "{'GOBP_RNA_MODIFICATION': {0: 'ADAT2,CDKAL1,CMTR1,CMTR2,DTWD1,FTSJ1,NOP2,NSUN2,RPUSD1,THUMPD2',\n",
       "  1: 'ALKBH3,ALKBH5,DUS3L,LCMT2,METTL16,NAT10,NHP2',\n",
       "  9: 'C9orf64,MEPCE,METTL1,METTL14,METTL5,NSUN4,NSUN6,PARN,RBM15,RPUSD3,RPUSD4,TRMT10A,TRUB1,TRUB2,URM1',\n",
       "  10: 'AARS2,ALKBH1,ALKBH8,ANKRD16,BCDIN3D,CBLL1,CTU1,CTU2,DKC1,DUS2,ELP2,ELP3,ELP4,ELP5,ELP6,FTO,FTSJ3,GAR1,GTPBP3,KTI12,METTL3,METTL4,NAF1,PUS7L,PUSL1,RPUSD2,SSB,TPRKB,TRMT10C,TRMT2B,WDR4,ZC3H13'}}"
      ]
     },
     "execution_count": 63,
     "metadata": {},
     "output_type": "execute_result"
    }
   ],
   "source": [
    "gs = 'GOBP_RNA_MODIFICATION'\n",
    "\n",
    "pd.DataFrame([\n",
    "    (n,','.join(list(ipd.bin_identifier_genes(\n",
    "        'hl60_exp1_DAC_rho_delta_phenotype/msigdb_v7.4_c5.go',str(n),gs\n",
    "    ).values())[0])) for n in [0,1,\n",
    "                               # 2,3,4,6,7,8,\n",
    "                               9,10]\n",
    "],columns=['clust',gs]).set_index('clust').to_dict()"
   ]
  },
  {
   "cell_type": "markdown",
   "metadata": {
    "tags": []
   },
   "source": [
    "### GOBP_NEGATIVE_REGULATION_OF_INTRINSIC_APOPTOTIC_SIGNALING_PATHWAY_BY_P53_CLASS_MEDIATOR"
   ]
  },
  {
   "cell_type": "code",
   "execution_count": 623,
   "metadata": {},
   "outputs": [
    {
     "data": {
      "text/plain": [
       "['KDM1A',\n",
       " 'SIRT1',\n",
       " 'ZNF385A',\n",
       " 'ING2',\n",
       " 'MIR21',\n",
       " 'MDM2',\n",
       " 'MIF',\n",
       " 'MUC1',\n",
       " 'PRKN',\n",
       " 'TRIAP1',\n",
       " 'TAF9B',\n",
       " 'BCL2',\n",
       " 'BDKRB2',\n",
       " 'MARCHF7',\n",
       " 'TAF9',\n",
       " 'PTTG1IP',\n",
       " 'ELL3',\n",
       " 'BCL2L12',\n",
       " 'ARMC10',\n",
       " 'CD44',\n",
       " 'CD74']"
      ]
     },
     "execution_count": 623,
     "metadata": {},
     "output_type": "execute_result"
    }
   ],
   "source": [
    "c5_go_gmt['GOBP_NEGATIVE_REGULATION_OF_INTRINSIC_APOPTOTIC_SIGNALING_PATHWAY_BY_P53_CLASS_MEDIATOR']"
   ]
  },
  {
   "cell_type": "code",
   "execution_count": 185,
   "metadata": {},
   "outputs": [
    {
     "data": {
      "text/plain": [
       "{'GOBP_NEGATIVE_REGULATION_OF_INTRINSIC_APOPTOTIC_SIGNALING_PATHWAY_BY_P53_CLASS_MEDIATOR': {0: 'BCL2,CD44,CD74,KDM1A,PTTG1IP,TRIAP1',\n",
       "  10: 'SIRT1,ZNF385A'}}"
      ]
     },
     "execution_count": 185,
     "metadata": {},
     "output_type": "execute_result"
    }
   ],
   "source": [
    "gs = 'GOBP_NEGATIVE_REGULATION_OF_INTRINSIC_APOPTOTIC_SIGNALING_PATHWAY_BY_P53_CLASS_MEDIATOR'\n",
    "\n",
    "pd.DataFrame([\n",
    "    (n,','.join(list(ipd.bin_identifier_genes(\n",
    "        'hl60_exp1_DAC_rho_delta_phenotype/msigdb_v7.4_c5.go',str(n),gs\n",
    "    ).values())[0])) for n in [0,\n",
    "                               # 2,3,4,6,7,8,\n",
    "                               10]\n",
    "],columns=['clust',gs]).set_index('clust').to_dict()"
   ]
  },
  {
   "cell_type": "markdown",
   "metadata": {
    "tags": []
   },
   "source": [
    "### GOCC_SPLICEOSOMAL_COMPLEX"
   ]
  },
  {
   "cell_type": "code",
   "execution_count": 82,
   "metadata": {},
   "outputs": [
    {
     "data": {
      "text/plain": [
       "{'GOCC_SPLICEOSOMAL_COMPLEX': {0: 'API5,DDX23,DDX39B,DDX5,DHX15,DHX8,HNRNPM,HSPA8,IK,LSM7,PDCD7,PRPF38B,PRPF4,RBM5,SF3A3,SMU1,SNRPA1,SNRPB2,SNRPD2,SNRPG,SUGP1',\n",
       "  1: 'ALYREF,CWC15,LGALS3,NCL,PRPF40A,SF3A2,SLU7,SNRNP200,SRSF1,TFIP11,USP39,ZMAT2',\n",
       "  9: 'DHX32,GPATCH1,IVNS1ABP,PPP1R8,RNPC3,SF1,SF3B4,SNIP1,SNRPA,SNRPB,TRA2B,WDR83,ZMAT5',\n",
       "  10: 'AAR2,AQR,BUD13,CTNNBL1,CWF19L1,HNRNPF,HNRNPH3,HNRNPK,HNRNPR,HNRNPU,LSM2,LSM5,LUC7L3,PHF5A,PNN,PPIE,PPIL1,PPIL3,PRPF8,RBM3,RBMXL2,SF3B5,SNRNP40,SNRNP70,SNRPC,SNRPF,SNW1,SREK1,SYF2,SYNCRIP,WBP11,WBP4,ZCRB1,ZNF830,ZRSR2'}}"
      ]
     },
     "execution_count": 82,
     "metadata": {},
     "output_type": "execute_result"
    }
   ],
   "source": [
    "gs = 'GOCC_SPLICEOSOMAL_COMPLEX'\n",
    "\n",
    "pd.DataFrame([\n",
    "    (n,','.join(list(ipd.bin_identifier_genes(\n",
    "        'hl60_exp1_DAC_rho_delta_phenotype/msigdb_v7.4_c5.go',str(n),gs\n",
    "    ).values())[0])) for n in [0,1,\n",
    "                               # 2,3,4,6,7,8,\n",
    "                               9,10]\n",
    "],columns=['clust',gs]).set_index('clust').to_dict()"
   ]
  },
  {
   "cell_type": "markdown",
   "metadata": {},
   "source": [
    "# "
   ]
  },
  {
   "cell_type": "code",
   "execution_count": 232,
   "metadata": {},
   "outputs": [
    {
     "name": "stdout",
     "output_type": "stream",
     "text": [
      "Sat Sep 17 14:44:09 PDT 2022\n"
     ]
    }
   ],
   "source": [
    "!date"
   ]
  }
 ],
 "metadata": {
  "kernelspec": {
   "display_name": "Python [conda env:down]",
   "language": "python",
   "name": "conda-env-down-py"
  },
  "language_info": {
   "codemirror_mode": {
    "name": "ipython",
    "version": 3
   },
   "file_extension": ".py",
   "mimetype": "text/x-python",
   "name": "python",
   "nbconvert_exporter": "python",
   "pygments_lexer": "ipython3",
   "version": "3.6.13"
  }
 },
 "nbformat": 4,
 "nbformat_minor": 4
}
