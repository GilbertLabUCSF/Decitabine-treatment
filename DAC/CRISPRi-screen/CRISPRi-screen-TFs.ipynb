{
 "cells": [
  {
   "cell_type": "markdown",
   "metadata": {},
   "source": [
    "__tasks:__\n",
    "- [x] Check TFs in CRISPRi screens\n",
    "- [ ] Plot"
   ]
  },
  {
   "cell_type": "code",
   "execution_count": 1,
   "metadata": {
    "tags": []
   },
   "outputs": [
    {
     "name": "stderr",
     "output_type": "stream",
     "text": [
      "── \u001b[1mAttaching packages\u001b[22m ─────────────────────────────────────── tidyverse 1.3.1 ──\n",
      "\n",
      "\u001b[32m✔\u001b[39m \u001b[34mtibble \u001b[39m 3.1.6     \u001b[32m✔\u001b[39m \u001b[34mdplyr  \u001b[39m 1.0.7\n",
      "\u001b[32m✔\u001b[39m \u001b[34mtidyr  \u001b[39m 1.1.4     \u001b[32m✔\u001b[39m \u001b[34mstringr\u001b[39m 1.4.0\n",
      "\u001b[32m✔\u001b[39m \u001b[34mreadr  \u001b[39m 2.0.2     \u001b[32m✔\u001b[39m \u001b[34mforcats\u001b[39m 0.5.1\n",
      "\u001b[32m✔\u001b[39m \u001b[34mpurrr  \u001b[39m 0.3.4     \n",
      "\n",
      "── \u001b[1mConflicts\u001b[22m ────────────────────────────────────────── tidyverse_conflicts() ──\n",
      "\u001b[31m✖\u001b[39m \u001b[34mdplyr\u001b[39m::\u001b[32mfilter()\u001b[39m masks \u001b[34mstats\u001b[39m::filter()\n",
      "\u001b[31m✖\u001b[39m \u001b[34mdplyr\u001b[39m::\u001b[32mlag()\u001b[39m    masks \u001b[34mstats\u001b[39m::lag()\n",
      "\n"
     ]
    }
   ],
   "source": [
    "library(ggplot2)\n",
    "library(ggrepel)\n",
    "library(RColorBrewer)\n",
    "library(tidyverse)\n",
    "library(patchwork)"
   ]
  },
  {
   "cell_type": "markdown",
   "metadata": {
    "tags": []
   },
   "source": [
    "### functions"
   ]
  },
  {
   "cell_type": "code",
   "execution_count": 2,
   "metadata": {
    "tags": []
   },
   "outputs": [],
   "source": [
    "read_genetable_collapsed <- function(file_path){\n",
    "    #import collapsed genetable\n",
    "    genetable_collapsed <- na.omit(read.table(\n",
    "        file_path, header = FALSE, #skip = 4, \n",
    "        sep = '\\t', na.strings = ' '))\n",
    "\n",
    "    genetable_collapsed[4,3:length(genetable_collapsed)] = apply(\n",
    "        genetable_collapsed[1:4,3:length(genetable_collapsed)], 2, paste, collapse=\"_\")\n",
    "\n",
    "    colnames(genetable_collapsed) <- genetable_collapsed[4,]\n",
    "    genetable_collapsed = genetable_collapsed[5:dim(genetable_collapsed)[1],] %>% data.frame\n",
    "}"
   ]
  },
  {
   "cell_type": "code",
   "execution_count": 3,
   "metadata": {
    "tags": []
   },
   "outputs": [],
   "source": [
    "get_score_df <- function(genetable_collapsed,score,up_hit='resistance_hit',down_hit='sensitivity_hit',threshold = 4){\n",
    "    df = genetable_collapsed[,c('gene', \n",
    "                                paste0(score,'_ave_Rep1_Rep2_Mann.Whitney.p.value_'),\n",
    "                                paste0(score,'_ave_Rep1_Rep2_average.phenotype.of.strongest.3_'))\n",
    "          # which (unlist(gregexpr('rho_ave_Rep1_Rep2', colnames(genetable_collapsed))) == 1))\n",
    "    ] %>% remove_rownames\n",
    "    rownames(df) = seq(length=nrow(df))\n",
    "\n",
    "    colnames(df) <- c('gene','pvalue','score')\n",
    "\n",
    "    df$score = df$score %>% as.double\n",
    "    df$pvalue = df$pvalue %>% as.double\n",
    "\n",
    "    #create dataframe with pseudogene phenotypes\n",
    "    df$label = '.'\n",
    "\n",
    "    df %>% mutate(label = replace(label, grepl('pseudo', df[[1]], fixed = TRUE), 'pseudo')) -> df\n",
    "\n",
    "    pseudo_sd <- df %>% filter(label=='pseudo') %>% select(score) %>% as.list %>% unlist %>% sd\n",
    "\n",
    "    df %>%\n",
    "        mutate(label = replace(\n",
    "            label,score > 0 & label != \"pseudo\" & score / pseudo_sd * -log10(pvalue) >= threshold,\n",
    "            up_hit\n",
    "        ))-> df\n",
    "    df %>%\n",
    "        mutate(label = replace(\n",
    "            label,score < 0 & label != \"pseudo\" & score / pseudo_sd * -log10(pvalue) <= -threshold,\n",
    "            down_hit\n",
    "        )) -> df\n",
    "    df %>% mutate(label = replace(label, label == '.', 'gene_non_hit')) -> df\n",
    "\n",
    "    # reorder factors\n",
    "    df$label <- factor(df$label, levels = c(down_hit, up_hit,'gene_non_hit','pseudo'))\n",
    "    \n",
    "    out = list()\n",
    "    out[[\"data\"]] = df\n",
    "    out[[\"pseudo_sd\"]] = pseudo_sd\n",
    "    return(out)\n",
    "}"
   ]
  },
  {
   "cell_type": "code",
   "execution_count": 4,
   "metadata": {
    "tags": []
   },
   "outputs": [],
   "source": [
    "# scale_color_manual(values = c('#3182bd', '#de2d26'),\n",
    "#                    labels = c('Sensitizing Hits', 'Resistance Hits'))\n",
    "\n",
    "plot_volcano <- function(df, pseudo_sd, score = 'rho',threshold = 4,\n",
    "                         up_hit='resistance_hit',down_hit='sensitivity_hit',\n",
    "                         xlim_l=-2.0,xlim_r=2.0,ylim=4.5){\n",
    "    \n",
    "    draw_threshold <- function(x){threshold * pseudo_sd * sign(x)/(x)}\n",
    "\n",
    "    p <- df %>% drop_na %>%\n",
    "        ggplot(aes(x=score,y=-1*log10(pvalue)) ) + \n",
    "        geom_point(\n",
    "            data = df %>% filter(label=='pseudo'), \n",
    "            size = 1, color = 'gray80') +\n",
    "        geom_point(\n",
    "            data = df %>% filter(label=='gene_non_hit'), \n",
    "            size = 1, color = 'gray90') +\n",
    "        geom_point(\n",
    "            data = df %>% filter(label==up_hit), \n",
    "            size = 2, color = '#fcae91') + \n",
    "        geom_point(\n",
    "            data = df %>% filter(label==down_hit), \n",
    "            size = 2, color = '#bdd7e7') \n",
    "    \n",
    "    if (score == 'gamma'){\n",
    "        p + xlab(expression('CRISPRi control phenotype (' * gamma * ')')) -> p\n",
    "    } \n",
    "    if (score == 'rho'){\n",
    "        p + xlab(expression('CRISPRi drug phenotype (' * rho * ')')) -> p\n",
    "    }\n",
    "    p +\n",
    "        theme_classic() +\n",
    "        xlim(xlim_l,xlim_r) +\n",
    "        scale_y_continuous(limits = c(0.1,ylim)) +\n",
    "        ylab(expression('-log'[10] * '(Mann-Whitney p-value)')) +\n",
    "        stat_function(fun = draw_threshold, linetype = 'dashed', color = 'black') -> p\n",
    "    \n",
    "    return(p)\n",
    "}\n",
    "\n",
    "label_as_black <- function(p,dd, size = 3, t_x = -0.2, t_y = -0.1){\n",
    "    p + geom_point(\n",
    "        data = dd, \n",
    "        size = size, shape=21,\n",
    "        stroke=0.5, \n",
    "        colour = \"black\", fill = \"black\"\n",
    "    ) + \n",
    "    geom_text_repel(data = dd,\n",
    "                    aes(label=gene),\n",
    "                    color = 'black', size = size, nudge_x = t_x, nudge_y = t_y)\n",
    "}\n",
    "\n",
    "label_sensitivity_hit <- function(p,dd, size = 2, t_x = -0.2, t_y = -0.1){\n",
    "    p + geom_point(\n",
    "        data = dd, \n",
    "        size = size, shape=21,\n",
    "        # stroke=0.5, \n",
    "        # colour = \"grey30\", \n",
    "        fill = \"#3182bd\"\n",
    "    ) + \n",
    "    geom_text_repel(data = dd,\n",
    "                    aes(label=gene),\n",
    "                    color = 'black', size = size, nudge_x = t_x, nudge_y = t_y)\n",
    "}\n",
    "\n",
    "label_resistance_hit <- function(p,dd, size = 3, t_x = 0.2, t_y = 0.1){\n",
    "    p + geom_point(\n",
    "        data = dd, \n",
    "        size = size, shape=21,\n",
    "        stroke=0.5, \n",
    "        colour = \"grey30\", fill = \"#de2d26\"\n",
    "    ) + \n",
    "    geom_text_repel(data = dd,\n",
    "                    aes(label=gene),\n",
    "                    color = 'black', size = size, nudge_x = t_x, nudge_y = t_y)\n",
    "}"
   ]
  },
  {
   "cell_type": "markdown",
   "metadata": {},
   "source": [
    "### load ScreenProcessing results and rho $\\rho$ scores"
   ]
  },
  {
   "cell_type": "code",
   "execution_count": 5,
   "metadata": {
    "tags": []
   },
   "outputs": [],
   "source": [
    "read_scores <- function(file_path,threshold){\n",
    "    genetable_collapsed = read_genetable_collapsed(file_path)\n",
    "\n",
    "    out = c()\n",
    "\n",
    "    out$rho = get_score_df(genetable_collapsed,\"rho\", threshold = threshold)\n",
    "\n",
    "    out$rho$data = out$rho$data %>% \n",
    "        filter(duplicated(gene) == FALSE) %>%\n",
    "        column_to_rownames('gene')\n",
    "\n",
    "    out$gamma = get_score_df(genetable_collapsed,\"gamma\",\n",
    "                             up_hit = \"up_hit\", \n",
    "                             down_hit = \"essential_hit\",\n",
    "                             threshold = threshold)\n",
    "\n",
    "    out$gamma$data = out$gamma$data %>% \n",
    "        filter(duplicated(gene) == FALSE) %>%\n",
    "        column_to_rownames('gene')\n",
    "    \n",
    "    return(out)\n",
    "}"
   ]
  },
  {
   "cell_type": "code",
   "execution_count": 44,
   "metadata": {
    "tags": []
   },
   "outputs": [],
   "source": [
    "threshold=3"
   ]
  },
  {
   "cell_type": "code",
   "execution_count": 45,
   "metadata": {
    "tags": []
   },
   "outputs": [],
   "source": [
    "hl60_exp1_DAC = read_scores('hl60_exp1/genetable_collapsed.txt',threshold=threshold)"
   ]
  },
  {
   "cell_type": "code",
   "execution_count": 46,
   "metadata": {
    "tags": []
   },
   "outputs": [],
   "source": [
    "molm13_exp_DAC = read_scores('molm13_exp/genetable_collapsed.txt',threshold=threshold)"
   ]
  },
  {
   "cell_type": "code",
   "execution_count": 47,
   "metadata": {
    "tags": []
   },
   "outputs": [],
   "source": [
    "skm1_exp_DAC = read_scores('skm1_exp/genetable_collapsed.txt',threshold=threshold)"
   ]
  },
  {
   "cell_type": "markdown",
   "metadata": {},
   "source": [
    "### combined cell lines"
   ]
  },
  {
   "cell_type": "code",
   "execution_count": 48,
   "metadata": {
    "tags": []
   },
   "outputs": [],
   "source": [
    "ol = Reduce(intersect,list(\n",
    "    hl60_exp1_DAC$rho$data %>% rownames, \n",
    "    skm1_exp_DAC$rho$data %>% rownames,\n",
    "    molm13_exp_DAC$rho$data %>% rownames\n",
    "    ))"
   ]
  },
  {
   "cell_type": "code",
   "execution_count": 49,
   "metadata": {
    "tags": []
   },
   "outputs": [],
   "source": [
    "cell_lines_DAC = cbind(\n",
    "    hl60_exp1_DAC$rho$data[ol,] %>% rename_with( .fn = function(.x){paste0(\"rho_hl60_\", .x)}),\n",
    "    skm1_exp_DAC$rho$data[ol,] %>% rename_with( .fn = function(.x){paste0(\"rho_skm1_\", .x)}),\n",
    "    molm13_exp_DAC$rho$data[ol,] %>% rename_with( .fn = function(.x){paste0(\"rho_molm13_\", .x)})\n",
    "\n",
    "    # hl60_exp1_DAC$gamma$data[ol,] %>% rename_with( .fn = function(.x){paste0(\"gamma_hl60_\", .x)}),\n",
    "    # skm1_exp_DAC$gamma$data[ol,] %>% rename_with( .fn = function(.x){paste0(\"gamma_skm1_\", .x)}),\n",
    "    # molm13_exp_DAC$gamma$data[ol,] %>% rename_with( .fn = function(.x){paste0(\"gamma_molm13_\", .x)})\n",
    ")"
   ]
  },
  {
   "cell_type": "code",
   "execution_count": 50,
   "metadata": {
    "tags": []
   },
   "outputs": [],
   "source": [
    "TFs = read.table('../../annotations/TF_names_v_1.01.txt')$V1"
   ]
  },
  {
   "cell_type": "markdown",
   "metadata": {},
   "source": [
    "### "
   ]
  },
  {
   "cell_type": "code",
   "execution_count": 51,
   "metadata": {
    "tags": []
   },
   "outputs": [],
   "source": [
    "cell_lines_DAC_TFs = cell_lines_DAC[Reduce(intersect,list(rownames(cell_lines_DAC), TFs)),]"
   ]
  },
  {
   "cell_type": "code",
   "execution_count": 52,
   "metadata": {
    "tags": []
   },
   "outputs": [],
   "source": [
    "cell_lines_DAC_TFs %>% \n",
    "    dplyr::filter(rho_hl60_label!='gene_non_hit' | rho_molm13_label!='gene_non_hit' | rho_skm1_label !='gene_non_hit') %>% write.table(\n",
    "    'cell_lines_DAC_TFs.txt',sep='\\t',quote=F,row.names=T\n",
    ")"
   ]
  },
  {
   "cell_type": "code",
   "execution_count": 74,
   "metadata": {
    "tags": []
   },
   "outputs": [
    {
     "data": {
      "text/html": [
       "<table class=\"dataframe\">\n",
       "<caption>A data.frame: 3 × 9</caption>\n",
       "<thead>\n",
       "\t<tr><th></th><th scope=col>rho_hl60_pvalue</th><th scope=col>rho_hl60_score</th><th scope=col>rho_hl60_label</th><th scope=col>rho_skm1_pvalue</th><th scope=col>rho_skm1_score</th><th scope=col>rho_skm1_label</th><th scope=col>rho_molm13_pvalue</th><th scope=col>rho_molm13_score</th><th scope=col>rho_molm13_label</th></tr>\n",
       "\t<tr><th></th><th scope=col>&lt;dbl&gt;</th><th scope=col>&lt;dbl&gt;</th><th scope=col>&lt;fct&gt;</th><th scope=col>&lt;dbl&gt;</th><th scope=col>&lt;dbl&gt;</th><th scope=col>&lt;fct&gt;</th><th scope=col>&lt;dbl&gt;</th><th scope=col>&lt;dbl&gt;</th><th scope=col>&lt;fct&gt;</th></tr>\n",
       "</thead>\n",
       "<tbody>\n",
       "\t<tr><th scope=row>YTHDC1</th><td>0.0001407076</td><td>-0.4106999</td><td>sensitivity_hit</td><td>0.0856336995</td><td>-0.2245044</td><td>sensitivity_hit</td><td>0.15347059</td><td> 0.3432996</td><td>gene_non_hit</td></tr>\n",
       "\t<tr><th scope=row>SETDB1</th><td>0.0126598699</td><td>-0.3303919</td><td>sensitivity_hit</td><td>0.0001320475</td><td>-0.2613722</td><td>sensitivity_hit</td><td>0.06360547</td><td> 0.2481020</td><td>gene_non_hit</td></tr>\n",
       "\t<tr><th scope=row>ATF5</th><td>0.0895224878</td><td>-0.2535249</td><td>sensitivity_hit</td><td>          NA</td><td>        NA</td><td>gene_non_hit   </td><td>0.12422806</td><td>-0.3742385</td><td>gene_non_hit</td></tr>\n",
       "</tbody>\n",
       "</table>\n"
      ],
      "text/latex": [
       "A data.frame: 3 × 9\n",
       "\\begin{tabular}{r|lllllllll}\n",
       "  & rho\\_hl60\\_pvalue & rho\\_hl60\\_score & rho\\_hl60\\_label & rho\\_skm1\\_pvalue & rho\\_skm1\\_score & rho\\_skm1\\_label & rho\\_molm13\\_pvalue & rho\\_molm13\\_score & rho\\_molm13\\_label\\\\\n",
       "  & <dbl> & <dbl> & <fct> & <dbl> & <dbl> & <fct> & <dbl> & <dbl> & <fct>\\\\\n",
       "\\hline\n",
       "\tYTHDC1 & 0.0001407076 & -0.4106999 & sensitivity\\_hit & 0.0856336995 & -0.2245044 & sensitivity\\_hit & 0.15347059 &  0.3432996 & gene\\_non\\_hit\\\\\n",
       "\tSETDB1 & 0.0126598699 & -0.3303919 & sensitivity\\_hit & 0.0001320475 & -0.2613722 & sensitivity\\_hit & 0.06360547 &  0.2481020 & gene\\_non\\_hit\\\\\n",
       "\tATF5 & 0.0895224878 & -0.2535249 & sensitivity\\_hit &           NA &         NA & gene\\_non\\_hit    & 0.12422806 & -0.3742385 & gene\\_non\\_hit\\\\\n",
       "\\end{tabular}\n"
      ],
      "text/markdown": [
       "\n",
       "A data.frame: 3 × 9\n",
       "\n",
       "| <!--/--> | rho_hl60_pvalue &lt;dbl&gt; | rho_hl60_score &lt;dbl&gt; | rho_hl60_label &lt;fct&gt; | rho_skm1_pvalue &lt;dbl&gt; | rho_skm1_score &lt;dbl&gt; | rho_skm1_label &lt;fct&gt; | rho_molm13_pvalue &lt;dbl&gt; | rho_molm13_score &lt;dbl&gt; | rho_molm13_label &lt;fct&gt; |\n",
       "|---|---|---|---|---|---|---|---|---|---|\n",
       "| YTHDC1 | 0.0001407076 | -0.4106999 | sensitivity_hit | 0.0856336995 | -0.2245044 | sensitivity_hit | 0.15347059 |  0.3432996 | gene_non_hit |\n",
       "| SETDB1 | 0.0126598699 | -0.3303919 | sensitivity_hit | 0.0001320475 | -0.2613722 | sensitivity_hit | 0.06360547 |  0.2481020 | gene_non_hit |\n",
       "| ATF5 | 0.0895224878 | -0.2535249 | sensitivity_hit |           NA |         NA | gene_non_hit    | 0.12422806 | -0.3742385 | gene_non_hit |\n",
       "\n"
      ],
      "text/plain": [
       "       rho_hl60_pvalue rho_hl60_score rho_hl60_label  rho_skm1_pvalue\n",
       "YTHDC1 0.0001407076    -0.4106999     sensitivity_hit 0.0856336995   \n",
       "SETDB1 0.0126598699    -0.3303919     sensitivity_hit 0.0001320475   \n",
       "ATF5   0.0895224878    -0.2535249     sensitivity_hit           NA   \n",
       "       rho_skm1_score rho_skm1_label  rho_molm13_pvalue rho_molm13_score\n",
       "YTHDC1 -0.2245044     sensitivity_hit 0.15347059         0.3432996      \n",
       "SETDB1 -0.2613722     sensitivity_hit 0.06360547         0.2481020      \n",
       "ATF5           NA     gene_non_hit    0.12422806        -0.3742385      \n",
       "       rho_molm13_label\n",
       "YTHDC1 gene_non_hit    \n",
       "SETDB1 gene_non_hit    \n",
       "ATF5   gene_non_hit    "
      ]
     },
     "metadata": {},
     "output_type": "display_data"
    }
   ],
   "source": [
    "cell_lines_DAC[c('YTHDC1','SETDB1','ATF5'),]"
   ]
  },
  {
   "cell_type": "code",
   "execution_count": 76,
   "metadata": {
    "tags": []
   },
   "outputs": [
    {
     "data": {
      "text/html": [
       "<style>\n",
       ".list-inline {list-style: none; margin:0; padding: 0}\n",
       ".list-inline>li {display: inline-block}\n",
       ".list-inline>li:not(:last-child)::after {content: \"\\00b7\"; padding: 0 .5ex}\n",
       "</style>\n",
       "<ol class=list-inline><li>'ADNP'</li><li>'ATF5'</li><li>'ATF7'</li><li>'BPTF'</li><li>'CENPB'</li><li>'CREB1'</li><li>'CSRNP3'</li><li>'CXXC4'</li><li>'DMTF1'</li><li>'DNMT1'</li><li>'E2F6'</li><li>'ESR2'</li><li>'FOXA2'</li><li>'HIF1A'</li><li>'HOXD3'</li><li>'HSF2'</li><li>'MTF1'</li><li>'MYB'</li><li>'NAIF1'</li><li>'NEUROG2'</li><li>'NFYC'</li><li>'NR1D2'</li><li>'PRDM15'</li><li>'SCRT1'</li><li>'SETDB1'</li><li>'SOX11'</li><li>'SPI1'</li><li>'THYN1'</li><li>'USF2'</li><li>'YY1'</li><li>'ZBTB9'</li><li>'ZEB2'</li><li>'ZFX'</li><li>'ZNF281'</li><li>'ZNF514'</li><li>'ZNF595'</li><li>'ZNF644'</li><li>'ZNF646'</li><li>'ZNF81'</li></ol>\n"
      ],
      "text/latex": [
       "\\begin{enumerate*}\n",
       "\\item 'ADNP'\n",
       "\\item 'ATF5'\n",
       "\\item 'ATF7'\n",
       "\\item 'BPTF'\n",
       "\\item 'CENPB'\n",
       "\\item 'CREB1'\n",
       "\\item 'CSRNP3'\n",
       "\\item 'CXXC4'\n",
       "\\item 'DMTF1'\n",
       "\\item 'DNMT1'\n",
       "\\item 'E2F6'\n",
       "\\item 'ESR2'\n",
       "\\item 'FOXA2'\n",
       "\\item 'HIF1A'\n",
       "\\item 'HOXD3'\n",
       "\\item 'HSF2'\n",
       "\\item 'MTF1'\n",
       "\\item 'MYB'\n",
       "\\item 'NAIF1'\n",
       "\\item 'NEUROG2'\n",
       "\\item 'NFYC'\n",
       "\\item 'NR1D2'\n",
       "\\item 'PRDM15'\n",
       "\\item 'SCRT1'\n",
       "\\item 'SETDB1'\n",
       "\\item 'SOX11'\n",
       "\\item 'SPI1'\n",
       "\\item 'THYN1'\n",
       "\\item 'USF2'\n",
       "\\item 'YY1'\n",
       "\\item 'ZBTB9'\n",
       "\\item 'ZEB2'\n",
       "\\item 'ZFX'\n",
       "\\item 'ZNF281'\n",
       "\\item 'ZNF514'\n",
       "\\item 'ZNF595'\n",
       "\\item 'ZNF644'\n",
       "\\item 'ZNF646'\n",
       "\\item 'ZNF81'\n",
       "\\end{enumerate*}\n"
      ],
      "text/markdown": [
       "1. 'ADNP'\n",
       "2. 'ATF5'\n",
       "3. 'ATF7'\n",
       "4. 'BPTF'\n",
       "5. 'CENPB'\n",
       "6. 'CREB1'\n",
       "7. 'CSRNP3'\n",
       "8. 'CXXC4'\n",
       "9. 'DMTF1'\n",
       "10. 'DNMT1'\n",
       "11. 'E2F6'\n",
       "12. 'ESR2'\n",
       "13. 'FOXA2'\n",
       "14. 'HIF1A'\n",
       "15. 'HOXD3'\n",
       "16. 'HSF2'\n",
       "17. 'MTF1'\n",
       "18. 'MYB'\n",
       "19. 'NAIF1'\n",
       "20. 'NEUROG2'\n",
       "21. 'NFYC'\n",
       "22. 'NR1D2'\n",
       "23. 'PRDM15'\n",
       "24. 'SCRT1'\n",
       "25. 'SETDB1'\n",
       "26. 'SOX11'\n",
       "27. 'SPI1'\n",
       "28. 'THYN1'\n",
       "29. 'USF2'\n",
       "30. 'YY1'\n",
       "31. 'ZBTB9'\n",
       "32. 'ZEB2'\n",
       "33. 'ZFX'\n",
       "34. 'ZNF281'\n",
       "35. 'ZNF514'\n",
       "36. 'ZNF595'\n",
       "37. 'ZNF644'\n",
       "38. 'ZNF646'\n",
       "39. 'ZNF81'\n",
       "\n",
       "\n"
      ],
      "text/plain": [
       " [1] \"ADNP\"    \"ATF5\"    \"ATF7\"    \"BPTF\"    \"CENPB\"   \"CREB1\"   \"CSRNP3\" \n",
       " [8] \"CXXC4\"   \"DMTF1\"   \"DNMT1\"   \"E2F6\"    \"ESR2\"    \"FOXA2\"   \"HIF1A\"  \n",
       "[15] \"HOXD3\"   \"HSF2\"    \"MTF1\"    \"MYB\"     \"NAIF1\"   \"NEUROG2\" \"NFYC\"   \n",
       "[22] \"NR1D2\"   \"PRDM15\"  \"SCRT1\"   \"SETDB1\"  \"SOX11\"   \"SPI1\"    \"THYN1\"  \n",
       "[29] \"USF2\"    \"YY1\"     \"ZBTB9\"   \"ZEB2\"    \"ZFX\"     \"ZNF281\"  \"ZNF514\" \n",
       "[36] \"ZNF595\"  \"ZNF644\"  \"ZNF646\"  \"ZNF81\"  "
      ]
     },
     "metadata": {},
     "output_type": "display_data"
    }
   ],
   "source": [
    "cell_lines_DAC_TFs %>% \n",
    "    dplyr::filter(rho_hl60_label=='sensitivity_hit') %>%rownames"
   ]
  },
  {
   "cell_type": "code",
   "execution_count": 67,
   "metadata": {
    "tags": []
   },
   "outputs": [],
   "source": [
    "# cell_lines_DAC_TFs %>% \n",
    "#     dplyr::filter(rho_hl60_label!='gene_non_hit' | rho_molm13_label!='gene_non_hit' | rho_skm1_label !='gene_non_hit') %>% \n",
    "#     group_by(\n",
    "#         rho_hl60_label,\n",
    "#         rho_molm13_label,\n",
    "#         rho_skm1_label\n",
    "#     ) %>% \n",
    "#     count"
   ]
  },
  {
   "cell_type": "code",
   "execution_count": 75,
   "metadata": {
    "tags": []
   },
   "outputs": [
    {
     "data": {
      "text/html": [
       "<style>\n",
       ".list-inline {list-style: none; margin:0; padding: 0}\n",
       ".list-inline>li {display: inline-block}\n",
       ".list-inline>li:not(:last-child)::after {content: \"\\00b7\"; padding: 0 .5ex}\n",
       "</style>\n",
       "<ol class=list-inline><li>'ADNP'</li><li>'AHCTF1'</li><li>'AHR'</li><li>'AKNA'</li><li>'ANKZF1'</li><li>'ARID3A'</li><li>'ARNT'</li><li>'ATF4'</li><li>'ATF5'</li><li>'ATF7'</li><li>'BACH1'</li><li>'BPTF'</li><li>'BRF2'</li><li>'CASZ1'</li><li>'CDC5L'</li><li>'CDX2'</li><li>'CEBPA'</li><li>'CEBPB'</li><li>'CENPB'</li><li>'CENPT'</li><li>'CHAMP1'</li><li>'CPEB1'</li><li>'CREB1'</li><li>'CSRNP3'</li><li>'CXXC4'</li><li>'DBP'</li><li>'DLX3'</li><li>'DMTF1'</li><li>'DNMT1'</li><li>'DNTTIP1'</li><li>'DPF3'</li><li>'E2F1'</li><li>'E2F2'</li><li>'E2F3'</li><li>'E2F6'</li><li>'E2F8'</li><li>'EGR1'</li><li>'ESR2'</li><li>'ESRRA'</li><li>'ESRRG'</li><li>'ESX1'</li><li>'ETV6'</li><li>'FOXA2'</li><li>'FOXH1'</li><li>'FOXN3'</li><li>'FOXP3'</li><li>'GATA2'</li><li>'GATA4'</li><li>'GATAD2A'</li><li>'GCM1'</li><li>'GLIS1'</li><li>'GRHL3'</li><li>'GTF2IRD1'</li><li>'HES1'</li><li>'HIF1A'</li><li>'HLF'</li><li>'HMBOX1'</li><li>'HMG20A'</li><li>'HMG20B'</li><li>'HOXA1'</li><li>'HOXD10'</li><li>'HOXD3'</li><li>'HSF2'</li><li>'IKZF2'</li><li>'IKZF5'</li><li>'IRF2'</li><li>'IRX1'</li><li>'JUNB'</li><li>'KAT7'</li><li>'KDM2A'</li><li>'KIN'</li><li>'KLF16'</li><li>'KMT2A'</li><li>'LYL1'</li><li>'MAX'</li><li>'MBD2'</li><li>'MBD3'</li><li>'MBD6'</li><li>'MGA'</li><li>'MLXIP'</li><li>'MNT'</li><li>'MTF1'</li><li>'MTF2'</li><li>'MYB'</li><li>'MYBL2'</li><li>'MYCN'</li><li>'MYSM1'</li><li>'NAIF1'</li><li>'NEUROD4'</li><li>'NEUROG2'</li><li>'NFE2'</li><li>'NFIB'</li><li>'NFKB1'</li><li>'NFYC'</li><li>'NKRF'</li><li>'NKX2-6'</li><li>'NR1D2'</li><li>'NRF1'</li><li>'PA2G4'</li><li>'PAX2'</li><li>'PBX2'</li><li>'PHF19'</li><li>'PHF20'</li><li>'PHF21A'</li><li>'PLAGL2'</li><li>'POGK'</li><li>'PRDM1'</li><li>'PRDM15'</li><li>'PRDM4'</li><li>'PREB'</li><li>'PURA'</li><li>'PURG'</li><li>'RARB'</li><li>'RBCK1'</li><li>'REST'</li><li>'RFX1'</li><li>'RLF'</li><li>'RUNX1'</li><li>'RUNX3'</li><li>'SCMH1'</li><li>'SCRT1'</li><li>'SETDB1'</li><li>'SETDB2'</li><li>'SKIL'</li><li>'SMYD3'</li><li>'SNAPC2'</li><li>'SON'</li><li>'SOX11'</li><li>'SOX13'</li><li>'SOX17'</li><li>'SOX5'</li><li>'SPEN'</li><li>'SPI1'</li><li>'SPIC'</li><li>'T'</li><li>'TBP'</li><li>'TET2'</li><li>'TFAP4'</li><li>'TFDP1'</li><li>'TGIF2'</li><li>'THAP1'</li><li>'THAP11'</li><li>'THYN1'</li><li>'TOPORS'</li><li>'TP53'</li><li>'TWIST1'</li><li>'TWIST2'</li><li>'USF2'</li><li>'VSX2'</li><li>'WT1'</li><li>'YY1'</li><li>'ZBED1'</li><li>'ZBTB17'</li><li>'ZBTB20'</li><li>'ZBTB4'</li><li>'ZBTB6'</li><li>'ZBTB7B'</li><li>'ZBTB9'</li><li>'ZC3H8'</li><li>'ZEB2'</li><li>'ZFP28'</li><li>'ZFP57'</li><li>'ZFPM1'</li><li>'ZFX'</li><li>'ZNF131'</li><li>'ZNF195'</li><li>'ZNF207'</li><li>'ZNF264'</li><li>'ZNF280C'</li><li>'ZNF281'</li><li>'ZNF292'</li><li>'ZNF326'</li><li>'ZNF334'</li><li>'ZNF341'</li><li>'ZNF345'</li><li>'ZNF354A'</li><li>'ZNF354C'</li><li>'ZNF367'</li><li>'ZNF408'</li><li>'ZNF410'</li><li>'ZNF433'</li><li>'ZNF44'</li><li>'ZNF493'</li><li>'ZNF506'</li><li>'ZNF511'</li><li>'ZNF514'</li><li>'ZNF540'</li><li>'ZNF570'</li><li>'ZNF574'</li><li>'ZNF595'</li><li>'ZNF596'</li><li>'ZNF628'</li><li>'ZNF644'</li><li>'ZNF646'</li><li>'ZNF664'</li><li>'ZNF699'</li><li>'ZNF700'</li><li>'ZNF703'</li><li>'ZNF763'</li><li>'ZNF765'</li><li>'ZNF768'</li><li>'ZNF784'</li><li>'ZNF785'</li><li>'ZNF787'</li><li>'ZNF81'</li><li>'ZNF84'</li><li>'ZSCAN2'</li></ol>\n"
      ],
      "text/latex": [
       "\\begin{enumerate*}\n",
       "\\item 'ADNP'\n",
       "\\item 'AHCTF1'\n",
       "\\item 'AHR'\n",
       "\\item 'AKNA'\n",
       "\\item 'ANKZF1'\n",
       "\\item 'ARID3A'\n",
       "\\item 'ARNT'\n",
       "\\item 'ATF4'\n",
       "\\item 'ATF5'\n",
       "\\item 'ATF7'\n",
       "\\item 'BACH1'\n",
       "\\item 'BPTF'\n",
       "\\item 'BRF2'\n",
       "\\item 'CASZ1'\n",
       "\\item 'CDC5L'\n",
       "\\item 'CDX2'\n",
       "\\item 'CEBPA'\n",
       "\\item 'CEBPB'\n",
       "\\item 'CENPB'\n",
       "\\item 'CENPT'\n",
       "\\item 'CHAMP1'\n",
       "\\item 'CPEB1'\n",
       "\\item 'CREB1'\n",
       "\\item 'CSRNP3'\n",
       "\\item 'CXXC4'\n",
       "\\item 'DBP'\n",
       "\\item 'DLX3'\n",
       "\\item 'DMTF1'\n",
       "\\item 'DNMT1'\n",
       "\\item 'DNTTIP1'\n",
       "\\item 'DPF3'\n",
       "\\item 'E2F1'\n",
       "\\item 'E2F2'\n",
       "\\item 'E2F3'\n",
       "\\item 'E2F6'\n",
       "\\item 'E2F8'\n",
       "\\item 'EGR1'\n",
       "\\item 'ESR2'\n",
       "\\item 'ESRRA'\n",
       "\\item 'ESRRG'\n",
       "\\item 'ESX1'\n",
       "\\item 'ETV6'\n",
       "\\item 'FOXA2'\n",
       "\\item 'FOXH1'\n",
       "\\item 'FOXN3'\n",
       "\\item 'FOXP3'\n",
       "\\item 'GATA2'\n",
       "\\item 'GATA4'\n",
       "\\item 'GATAD2A'\n",
       "\\item 'GCM1'\n",
       "\\item 'GLIS1'\n",
       "\\item 'GRHL3'\n",
       "\\item 'GTF2IRD1'\n",
       "\\item 'HES1'\n",
       "\\item 'HIF1A'\n",
       "\\item 'HLF'\n",
       "\\item 'HMBOX1'\n",
       "\\item 'HMG20A'\n",
       "\\item 'HMG20B'\n",
       "\\item 'HOXA1'\n",
       "\\item 'HOXD10'\n",
       "\\item 'HOXD3'\n",
       "\\item 'HSF2'\n",
       "\\item 'IKZF2'\n",
       "\\item 'IKZF5'\n",
       "\\item 'IRF2'\n",
       "\\item 'IRX1'\n",
       "\\item 'JUNB'\n",
       "\\item 'KAT7'\n",
       "\\item 'KDM2A'\n",
       "\\item 'KIN'\n",
       "\\item 'KLF16'\n",
       "\\item 'KMT2A'\n",
       "\\item 'LYL1'\n",
       "\\item 'MAX'\n",
       "\\item 'MBD2'\n",
       "\\item 'MBD3'\n",
       "\\item 'MBD6'\n",
       "\\item 'MGA'\n",
       "\\item 'MLXIP'\n",
       "\\item 'MNT'\n",
       "\\item 'MTF1'\n",
       "\\item 'MTF2'\n",
       "\\item 'MYB'\n",
       "\\item 'MYBL2'\n",
       "\\item 'MYCN'\n",
       "\\item 'MYSM1'\n",
       "\\item 'NAIF1'\n",
       "\\item 'NEUROD4'\n",
       "\\item 'NEUROG2'\n",
       "\\item 'NFE2'\n",
       "\\item 'NFIB'\n",
       "\\item 'NFKB1'\n",
       "\\item 'NFYC'\n",
       "\\item 'NKRF'\n",
       "\\item 'NKX2-6'\n",
       "\\item 'NR1D2'\n",
       "\\item 'NRF1'\n",
       "\\item 'PA2G4'\n",
       "\\item 'PAX2'\n",
       "\\item 'PBX2'\n",
       "\\item 'PHF19'\n",
       "\\item 'PHF20'\n",
       "\\item 'PHF21A'\n",
       "\\item 'PLAGL2'\n",
       "\\item 'POGK'\n",
       "\\item 'PRDM1'\n",
       "\\item 'PRDM15'\n",
       "\\item 'PRDM4'\n",
       "\\item 'PREB'\n",
       "\\item 'PURA'\n",
       "\\item 'PURG'\n",
       "\\item 'RARB'\n",
       "\\item 'RBCK1'\n",
       "\\item 'REST'\n",
       "\\item 'RFX1'\n",
       "\\item 'RLF'\n",
       "\\item 'RUNX1'\n",
       "\\item 'RUNX3'\n",
       "\\item 'SCMH1'\n",
       "\\item 'SCRT1'\n",
       "\\item 'SETDB1'\n",
       "\\item 'SETDB2'\n",
       "\\item 'SKIL'\n",
       "\\item 'SMYD3'\n",
       "\\item 'SNAPC2'\n",
       "\\item 'SON'\n",
       "\\item 'SOX11'\n",
       "\\item 'SOX13'\n",
       "\\item 'SOX17'\n",
       "\\item 'SOX5'\n",
       "\\item 'SPEN'\n",
       "\\item 'SPI1'\n",
       "\\item 'SPIC'\n",
       "\\item 'T'\n",
       "\\item 'TBP'\n",
       "\\item 'TET2'\n",
       "\\item 'TFAP4'\n",
       "\\item 'TFDP1'\n",
       "\\item 'TGIF2'\n",
       "\\item 'THAP1'\n",
       "\\item 'THAP11'\n",
       "\\item 'THYN1'\n",
       "\\item 'TOPORS'\n",
       "\\item 'TP53'\n",
       "\\item 'TWIST1'\n",
       "\\item 'TWIST2'\n",
       "\\item 'USF2'\n",
       "\\item 'VSX2'\n",
       "\\item 'WT1'\n",
       "\\item 'YY1'\n",
       "\\item 'ZBED1'\n",
       "\\item 'ZBTB17'\n",
       "\\item 'ZBTB20'\n",
       "\\item 'ZBTB4'\n",
       "\\item 'ZBTB6'\n",
       "\\item 'ZBTB7B'\n",
       "\\item 'ZBTB9'\n",
       "\\item 'ZC3H8'\n",
       "\\item 'ZEB2'\n",
       "\\item 'ZFP28'\n",
       "\\item 'ZFP57'\n",
       "\\item 'ZFPM1'\n",
       "\\item 'ZFX'\n",
       "\\item 'ZNF131'\n",
       "\\item 'ZNF195'\n",
       "\\item 'ZNF207'\n",
       "\\item 'ZNF264'\n",
       "\\item 'ZNF280C'\n",
       "\\item 'ZNF281'\n",
       "\\item 'ZNF292'\n",
       "\\item 'ZNF326'\n",
       "\\item 'ZNF334'\n",
       "\\item 'ZNF341'\n",
       "\\item 'ZNF345'\n",
       "\\item 'ZNF354A'\n",
       "\\item 'ZNF354C'\n",
       "\\item 'ZNF367'\n",
       "\\item 'ZNF408'\n",
       "\\item 'ZNF410'\n",
       "\\item 'ZNF433'\n",
       "\\item 'ZNF44'\n",
       "\\item 'ZNF493'\n",
       "\\item 'ZNF506'\n",
       "\\item 'ZNF511'\n",
       "\\item 'ZNF514'\n",
       "\\item 'ZNF540'\n",
       "\\item 'ZNF570'\n",
       "\\item 'ZNF574'\n",
       "\\item 'ZNF595'\n",
       "\\item 'ZNF596'\n",
       "\\item 'ZNF628'\n",
       "\\item 'ZNF644'\n",
       "\\item 'ZNF646'\n",
       "\\item 'ZNF664'\n",
       "\\item 'ZNF699'\n",
       "\\item 'ZNF700'\n",
       "\\item 'ZNF703'\n",
       "\\item 'ZNF763'\n",
       "\\item 'ZNF765'\n",
       "\\item 'ZNF768'\n",
       "\\item 'ZNF784'\n",
       "\\item 'ZNF785'\n",
       "\\item 'ZNF787'\n",
       "\\item 'ZNF81'\n",
       "\\item 'ZNF84'\n",
       "\\item 'ZSCAN2'\n",
       "\\end{enumerate*}\n"
      ],
      "text/markdown": [
       "1. 'ADNP'\n",
       "2. 'AHCTF1'\n",
       "3. 'AHR'\n",
       "4. 'AKNA'\n",
       "5. 'ANKZF1'\n",
       "6. 'ARID3A'\n",
       "7. 'ARNT'\n",
       "8. 'ATF4'\n",
       "9. 'ATF5'\n",
       "10. 'ATF7'\n",
       "11. 'BACH1'\n",
       "12. 'BPTF'\n",
       "13. 'BRF2'\n",
       "14. 'CASZ1'\n",
       "15. 'CDC5L'\n",
       "16. 'CDX2'\n",
       "17. 'CEBPA'\n",
       "18. 'CEBPB'\n",
       "19. 'CENPB'\n",
       "20. 'CENPT'\n",
       "21. 'CHAMP1'\n",
       "22. 'CPEB1'\n",
       "23. 'CREB1'\n",
       "24. 'CSRNP3'\n",
       "25. 'CXXC4'\n",
       "26. 'DBP'\n",
       "27. 'DLX3'\n",
       "28. 'DMTF1'\n",
       "29. 'DNMT1'\n",
       "30. 'DNTTIP1'\n",
       "31. 'DPF3'\n",
       "32. 'E2F1'\n",
       "33. 'E2F2'\n",
       "34. 'E2F3'\n",
       "35. 'E2F6'\n",
       "36. 'E2F8'\n",
       "37. 'EGR1'\n",
       "38. 'ESR2'\n",
       "39. 'ESRRA'\n",
       "40. 'ESRRG'\n",
       "41. 'ESX1'\n",
       "42. 'ETV6'\n",
       "43. 'FOXA2'\n",
       "44. 'FOXH1'\n",
       "45. 'FOXN3'\n",
       "46. 'FOXP3'\n",
       "47. 'GATA2'\n",
       "48. 'GATA4'\n",
       "49. 'GATAD2A'\n",
       "50. 'GCM1'\n",
       "51. 'GLIS1'\n",
       "52. 'GRHL3'\n",
       "53. 'GTF2IRD1'\n",
       "54. 'HES1'\n",
       "55. 'HIF1A'\n",
       "56. 'HLF'\n",
       "57. 'HMBOX1'\n",
       "58. 'HMG20A'\n",
       "59. 'HMG20B'\n",
       "60. 'HOXA1'\n",
       "61. 'HOXD10'\n",
       "62. 'HOXD3'\n",
       "63. 'HSF2'\n",
       "64. 'IKZF2'\n",
       "65. 'IKZF5'\n",
       "66. 'IRF2'\n",
       "67. 'IRX1'\n",
       "68. 'JUNB'\n",
       "69. 'KAT7'\n",
       "70. 'KDM2A'\n",
       "71. 'KIN'\n",
       "72. 'KLF16'\n",
       "73. 'KMT2A'\n",
       "74. 'LYL1'\n",
       "75. 'MAX'\n",
       "76. 'MBD2'\n",
       "77. 'MBD3'\n",
       "78. 'MBD6'\n",
       "79. 'MGA'\n",
       "80. 'MLXIP'\n",
       "81. 'MNT'\n",
       "82. 'MTF1'\n",
       "83. 'MTF2'\n",
       "84. 'MYB'\n",
       "85. 'MYBL2'\n",
       "86. 'MYCN'\n",
       "87. 'MYSM1'\n",
       "88. 'NAIF1'\n",
       "89. 'NEUROD4'\n",
       "90. 'NEUROG2'\n",
       "91. 'NFE2'\n",
       "92. 'NFIB'\n",
       "93. 'NFKB1'\n",
       "94. 'NFYC'\n",
       "95. 'NKRF'\n",
       "96. 'NKX2-6'\n",
       "97. 'NR1D2'\n",
       "98. 'NRF1'\n",
       "99. 'PA2G4'\n",
       "100. 'PAX2'\n",
       "101. 'PBX2'\n",
       "102. 'PHF19'\n",
       "103. 'PHF20'\n",
       "104. 'PHF21A'\n",
       "105. 'PLAGL2'\n",
       "106. 'POGK'\n",
       "107. 'PRDM1'\n",
       "108. 'PRDM15'\n",
       "109. 'PRDM4'\n",
       "110. 'PREB'\n",
       "111. 'PURA'\n",
       "112. 'PURG'\n",
       "113. 'RARB'\n",
       "114. 'RBCK1'\n",
       "115. 'REST'\n",
       "116. 'RFX1'\n",
       "117. 'RLF'\n",
       "118. 'RUNX1'\n",
       "119. 'RUNX3'\n",
       "120. 'SCMH1'\n",
       "121. 'SCRT1'\n",
       "122. 'SETDB1'\n",
       "123. 'SETDB2'\n",
       "124. 'SKIL'\n",
       "125. 'SMYD3'\n",
       "126. 'SNAPC2'\n",
       "127. 'SON'\n",
       "128. 'SOX11'\n",
       "129. 'SOX13'\n",
       "130. 'SOX17'\n",
       "131. 'SOX5'\n",
       "132. 'SPEN'\n",
       "133. 'SPI1'\n",
       "134. 'SPIC'\n",
       "135. 'T'\n",
       "136. 'TBP'\n",
       "137. 'TET2'\n",
       "138. 'TFAP4'\n",
       "139. 'TFDP1'\n",
       "140. 'TGIF2'\n",
       "141. 'THAP1'\n",
       "142. 'THAP11'\n",
       "143. 'THYN1'\n",
       "144. 'TOPORS'\n",
       "145. 'TP53'\n",
       "146. 'TWIST1'\n",
       "147. 'TWIST2'\n",
       "148. 'USF2'\n",
       "149. 'VSX2'\n",
       "150. 'WT1'\n",
       "151. 'YY1'\n",
       "152. 'ZBED1'\n",
       "153. 'ZBTB17'\n",
       "154. 'ZBTB20'\n",
       "155. 'ZBTB4'\n",
       "156. 'ZBTB6'\n",
       "157. 'ZBTB7B'\n",
       "158. 'ZBTB9'\n",
       "159. 'ZC3H8'\n",
       "160. 'ZEB2'\n",
       "161. 'ZFP28'\n",
       "162. 'ZFP57'\n",
       "163. 'ZFPM1'\n",
       "164. 'ZFX'\n",
       "165. 'ZNF131'\n",
       "166. 'ZNF195'\n",
       "167. 'ZNF207'\n",
       "168. 'ZNF264'\n",
       "169. 'ZNF280C'\n",
       "170. 'ZNF281'\n",
       "171. 'ZNF292'\n",
       "172. 'ZNF326'\n",
       "173. 'ZNF334'\n",
       "174. 'ZNF341'\n",
       "175. 'ZNF345'\n",
       "176. 'ZNF354A'\n",
       "177. 'ZNF354C'\n",
       "178. 'ZNF367'\n",
       "179. 'ZNF408'\n",
       "180. 'ZNF410'\n",
       "181. 'ZNF433'\n",
       "182. 'ZNF44'\n",
       "183. 'ZNF493'\n",
       "184. 'ZNF506'\n",
       "185. 'ZNF511'\n",
       "186. 'ZNF514'\n",
       "187. 'ZNF540'\n",
       "188. 'ZNF570'\n",
       "189. 'ZNF574'\n",
       "190. 'ZNF595'\n",
       "191. 'ZNF596'\n",
       "192. 'ZNF628'\n",
       "193. 'ZNF644'\n",
       "194. 'ZNF646'\n",
       "195. 'ZNF664'\n",
       "196. 'ZNF699'\n",
       "197. 'ZNF700'\n",
       "198. 'ZNF703'\n",
       "199. 'ZNF763'\n",
       "200. 'ZNF765'\n",
       "201. 'ZNF768'\n",
       "202. 'ZNF784'\n",
       "203. 'ZNF785'\n",
       "204. 'ZNF787'\n",
       "205. 'ZNF81'\n",
       "206. 'ZNF84'\n",
       "207. 'ZSCAN2'\n",
       "\n",
       "\n"
      ],
      "text/plain": [
       "  [1] \"ADNP\"     \"AHCTF1\"   \"AHR\"      \"AKNA\"     \"ANKZF1\"   \"ARID3A\"  \n",
       "  [7] \"ARNT\"     \"ATF4\"     \"ATF5\"     \"ATF7\"     \"BACH1\"    \"BPTF\"    \n",
       " [13] \"BRF2\"     \"CASZ1\"    \"CDC5L\"    \"CDX2\"     \"CEBPA\"    \"CEBPB\"   \n",
       " [19] \"CENPB\"    \"CENPT\"    \"CHAMP1\"   \"CPEB1\"    \"CREB1\"    \"CSRNP3\"  \n",
       " [25] \"CXXC4\"    \"DBP\"      \"DLX3\"     \"DMTF1\"    \"DNMT1\"    \"DNTTIP1\" \n",
       " [31] \"DPF3\"     \"E2F1\"     \"E2F2\"     \"E2F3\"     \"E2F6\"     \"E2F8\"    \n",
       " [37] \"EGR1\"     \"ESR2\"     \"ESRRA\"    \"ESRRG\"    \"ESX1\"     \"ETV6\"    \n",
       " [43] \"FOXA2\"    \"FOXH1\"    \"FOXN3\"    \"FOXP3\"    \"GATA2\"    \"GATA4\"   \n",
       " [49] \"GATAD2A\"  \"GCM1\"     \"GLIS1\"    \"GRHL3\"    \"GTF2IRD1\" \"HES1\"    \n",
       " [55] \"HIF1A\"    \"HLF\"      \"HMBOX1\"   \"HMG20A\"   \"HMG20B\"   \"HOXA1\"   \n",
       " [61] \"HOXD10\"   \"HOXD3\"    \"HSF2\"     \"IKZF2\"    \"IKZF5\"    \"IRF2\"    \n",
       " [67] \"IRX1\"     \"JUNB\"     \"KAT7\"     \"KDM2A\"    \"KIN\"      \"KLF16\"   \n",
       " [73] \"KMT2A\"    \"LYL1\"     \"MAX\"      \"MBD2\"     \"MBD3\"     \"MBD6\"    \n",
       " [79] \"MGA\"      \"MLXIP\"    \"MNT\"      \"MTF1\"     \"MTF2\"     \"MYB\"     \n",
       " [85] \"MYBL2\"    \"MYCN\"     \"MYSM1\"    \"NAIF1\"    \"NEUROD4\"  \"NEUROG2\" \n",
       " [91] \"NFE2\"     \"NFIB\"     \"NFKB1\"    \"NFYC\"     \"NKRF\"     \"NKX2-6\"  \n",
       " [97] \"NR1D2\"    \"NRF1\"     \"PA2G4\"    \"PAX2\"     \"PBX2\"     \"PHF19\"   \n",
       "[103] \"PHF20\"    \"PHF21A\"   \"PLAGL2\"   \"POGK\"     \"PRDM1\"    \"PRDM15\"  \n",
       "[109] \"PRDM4\"    \"PREB\"     \"PURA\"     \"PURG\"     \"RARB\"     \"RBCK1\"   \n",
       "[115] \"REST\"     \"RFX1\"     \"RLF\"      \"RUNX1\"    \"RUNX3\"    \"SCMH1\"   \n",
       "[121] \"SCRT1\"    \"SETDB1\"   \"SETDB2\"   \"SKIL\"     \"SMYD3\"    \"SNAPC2\"  \n",
       "[127] \"SON\"      \"SOX11\"    \"SOX13\"    \"SOX17\"    \"SOX5\"     \"SPEN\"    \n",
       "[133] \"SPI1\"     \"SPIC\"     \"T\"        \"TBP\"      \"TET2\"     \"TFAP4\"   \n",
       "[139] \"TFDP1\"    \"TGIF2\"    \"THAP1\"    \"THAP11\"   \"THYN1\"    \"TOPORS\"  \n",
       "[145] \"TP53\"     \"TWIST1\"   \"TWIST2\"   \"USF2\"     \"VSX2\"     \"WT1\"     \n",
       "[151] \"YY1\"      \"ZBED1\"    \"ZBTB17\"   \"ZBTB20\"   \"ZBTB4\"    \"ZBTB6\"   \n",
       "[157] \"ZBTB7B\"   \"ZBTB9\"    \"ZC3H8\"    \"ZEB2\"     \"ZFP28\"    \"ZFP57\"   \n",
       "[163] \"ZFPM1\"    \"ZFX\"      \"ZNF131\"   \"ZNF195\"   \"ZNF207\"   \"ZNF264\"  \n",
       "[169] \"ZNF280C\"  \"ZNF281\"   \"ZNF292\"   \"ZNF326\"   \"ZNF334\"   \"ZNF341\"  \n",
       "[175] \"ZNF345\"   \"ZNF354A\"  \"ZNF354C\"  \"ZNF367\"   \"ZNF408\"   \"ZNF410\"  \n",
       "[181] \"ZNF433\"   \"ZNF44\"    \"ZNF493\"   \"ZNF506\"   \"ZNF511\"   \"ZNF514\"  \n",
       "[187] \"ZNF540\"   \"ZNF570\"   \"ZNF574\"   \"ZNF595\"   \"ZNF596\"   \"ZNF628\"  \n",
       "[193] \"ZNF644\"   \"ZNF646\"   \"ZNF664\"   \"ZNF699\"   \"ZNF700\"   \"ZNF703\"  \n",
       "[199] \"ZNF763\"   \"ZNF765\"   \"ZNF768\"   \"ZNF784\"   \"ZNF785\"   \"ZNF787\"  \n",
       "[205] \"ZNF81\"    \"ZNF84\"    \"ZSCAN2\"  "
      ]
     },
     "metadata": {},
     "output_type": "display_data"
    }
   ],
   "source": [
    "cell_lines_DAC_TFs %>% \n",
    "    dplyr::filter(rho_hl60_label!='gene_non_hit' | rho_molm13_label!='gene_non_hit' | rho_skm1_label !='gene_non_hit') %>% rownames"
   ]
  },
  {
   "cell_type": "code",
   "execution_count": null,
   "metadata": {},
   "outputs": [],
   "source": []
  },
  {
   "cell_type": "code",
   "execution_count": null,
   "metadata": {},
   "outputs": [],
   "source": []
  },
  {
   "cell_type": "code",
   "execution_count": 236,
   "metadata": {
    "tags": []
   },
   "outputs": [],
   "source": [
    "# cell_lines_DAC %>% group_by(\n",
    "#     # rho_hl60_label,\n",
    "#     # rho_molm13_label,\n",
    "#     # rho_molm13_label,\n",
    "#     gamma_molm13_label,\n",
    "#     # rho_skm1_label\n",
    "#                            ) %>% count"
   ]
  },
  {
   "cell_type": "code",
   "execution_count": 237,
   "metadata": {
    "tags": []
   },
   "outputs": [],
   "source": [
    "# cell_lines_DAC %>% group_by(\n",
    "#     # rho_hl60_label,\n",
    "#     # rho_molm13_label,\n",
    "#     # rho_molm13_label,\n",
    "#     gamma_skm1_label,\n",
    "#     # rho_skm1_label\n",
    "#                            ) %>% count"
   ]
  },
  {
   "cell_type": "markdown",
   "metadata": {},
   "source": [
    "### volcano plots"
   ]
  },
  {
   "cell_type": "code",
   "execution_count": 46,
   "metadata": {
    "tags": []
   },
   "outputs": [],
   "source": [
    "# # cell_lines_DAC_rho %>% group_by(hl60_label,molm13_label) %>% count\n",
    "# cell_lines_DAC %>% \n",
    "#     # filter(hl60_label=='resistance_hit' & molm13_label=='sensitivity_hit') %>% \n",
    "#     # filter(hl60_label=='sensitivity_hit' & molm13_label=='sensitivity_hit') %>% \n",
    "#     # filter(hl60_label=='resistance_hit' & molm13_label=='resistance_hit' & skm1_label =='resistance_hit') %>% \n",
    "#     filter(rho_hl60_label=='sensitivity_hit' & rho_molm13_label=='sensitivity_hit' & rho_skm1_label =='sensitivity_hit') %>% \n",
    "#     arrange(rho_hl60_label) # %>% rownames"
   ]
  },
  {
   "cell_type": "code",
   "execution_count": 47,
   "metadata": {
    "tags": []
   },
   "outputs": [],
   "source": [
    "vol_hl60 = plot_volcano(\n",
    "    hl60_exp1_DAC$rho$data,hl60_exp1_DAC$rho$pseudo_sd,threshold=threshold, xlim_l = -2,xlim_r = 2,ylim = 4.5    \n",
    ") %>% label_as_black(\n",
    "    hl60_exp1_DAC$rho$data[bioRxiv_labels,] %>% rownames_to_column('gene')\n",
    ") + \n",
    "    ggtitle('HL-60') + theme(plot.title = element_text(size = 20,hjust = 0.5) )"
   ]
  },
  {
   "cell_type": "code",
   "execution_count": 48,
   "metadata": {
    "tags": []
   },
   "outputs": [],
   "source": [
    "res_genes_molm13 = c('DCK',\"SLC29A1\",'DCTD',\"METTL3\",'KIAA1429')\n",
    "sen_genes_molm13 = c('MYBBP1A','INTS5')\n",
    "\n",
    "vol_molm13 = plot_volcano(\n",
    "    molm13_exp_DAC$rho$data,molm13_exp_DAC$rho$pseudo_sd,threshold=threshold, xlim_l = -2,xlim_r = 2,ylim = 4.5    \n",
    ") %>% label_as_black(\n",
    "    molm13_exp_DAC$rho$data[bioRxiv_labels,] %>% rownames_to_column('gene')\n",
    "# ) %>% label_resistance_hit(\n",
    "#     molm13_exp_DAC$rho$data[res_genes_molm13,] %>% rownames_to_column('gene')\n",
    "# ) %>% label_sensitivity_hit(\n",
    "#     molm13_exp_DAC$rho$data[sen_genes_molm13,] %>% rownames_to_column('gene')\n",
    ") + \n",
    "    ggtitle('MOLM-13') + theme(plot.title = element_text(size = 20,hjust = 0.5) )"
   ]
  },
  {
   "cell_type": "markdown",
   "metadata": {},
   "source": [
    "### cell line scatter plots"
   ]
  },
  {
   "cell_type": "code",
   "execution_count": 55,
   "metadata": {
    "tags": []
   },
   "outputs": [],
   "source": [
    "ann_pp <- function(pp,x_limits,y_limits){\n",
    "    pp + \n",
    "        geom_hline(yintercept = 0,linetype = 'dashed', color = 'gray50') +\n",
    "        geom_vline(xintercept = 0,linetype = 'dashed', color = 'gray50') +\n",
    "        scale_x_continuous(limits = x_limits,breaks = seq(-1, 1, by = 0.5)) +\n",
    "        scale_y_continuous(limits = y_limits,breaks = seq(-2, 1, by = 0.5)) -> pp\n",
    "    \n",
    "    return(pp)\n",
    "}"
   ]
  },
  {
   "cell_type": "markdown",
   "metadata": {},
   "source": [
    "#### rho vs rho"
   ]
  },
  {
   "cell_type": "code",
   "execution_count": 56,
   "metadata": {
    "tags": []
   },
   "outputs": [],
   "source": [
    "cell_lines_DAC %>% ggplot(aes(x=rho_hl60_score, y=rho_molm13_score)) +\n",
    "    geom_point(\n",
    "        data = cell_lines_DAC %>% filter(!(rho_hl60_label=='pseudo' | rho_molm13_label=='pseudo')),\n",
    "        alpha=10/100, size = 1, color = 'gray10', shape = 21\n",
    "    ) +\n",
    "    geom_point(\n",
    "        data = cell_lines_DAC %>% filter(rho_hl60_label=='pseudo' | rho_molm13_label=='pseudo'),\n",
    "        alpha=1/100, size = 1, color = 'gray90', shape = 21\n",
    "    ) +\n",
    "    geom_point(\n",
    "        data = cell_lines_DAC %>% filter(rho_hl60_label=='resistance_hit' & rho_molm13_label=='resistance_hit'),\n",
    "        alpha=30/100, size = 2, color = '#fcae91') + \n",
    "    geom_point(\n",
    "        data = cell_lines_DAC %>% filter(rho_hl60_label=='sensitivity_hit' & rho_molm13_label=='sensitivity_hit'),\n",
    "        alpha=30/100, size = 2, color = '#bdd7e7') +\n",
    "    theme_classic() +\n",
    "#     xlim(-1.0, 1.0) +\n",
    "#     ylim(-0.7, 0.2) +\n",
    "    ylab(expression('MOLM-13 CRISPRi drug phenotype (' * rho * ')')) +\n",
    "    xlab(expression('HL-60 CRISPRi drug phenotype (' * rho * ')')) +\n",
    "    theme(axis.text.x = element_text(size = 15, color = 'black'),\n",
    "          axis.text.y = element_text(size = 15, color = 'black'),\n",
    "          axis.title.x = element_text(size = 16),\n",
    "          axis.title.y = element_text(size = 16),\n",
    "          legend.title = element_blank(),\n",
    "          legend.text = element_text(size = rel(1.5), color = 'black'),\n",
    "          legend.position = 'right'\n",
    ") -> pp\n",
    "\n",
    "pp %>% label_as_black(cell_lines_DAC %>% rownames_to_column('gene') %>% dplyr::filter(gene %in% bioRxiv_labels),size = 3) -> pp\n",
    "\n",
    "# ann_labels(cell_lines_DAC,pp,\n",
    "#     res_labels = res_genes_molm13,\n",
    "#     sen_labels = sen_genes_molm13\n",
    "# )-> pp\n",
    "\n",
    "ann_pp(pp,\n",
    "       c(-1,1),c(-2,1)) -> pp\n",
    "\n",
    "pp -> rho_hl60_vs_rho_molm13"
   ]
  },
  {
   "cell_type": "code",
   "execution_count": 57,
   "metadata": {
    "tags": []
   },
   "outputs": [],
   "source": [
    "cell_lines_DAC %>% ggplot(aes(x=rho_hl60_score, y=rho_skm1_score)) +\n",
    "    geom_point(\n",
    "        data = cell_lines_DAC %>% filter(!(rho_hl60_label=='pseudo' | rho_skm1_label=='pseudo')),\n",
    "        alpha=10/100, size = 1, color = 'gray10', shape = 21\n",
    "    ) +\n",
    "    geom_point(\n",
    "        data = cell_lines_DAC %>% filter(rho_hl60_label=='pseudo' | rho_skm1_label=='pseudo'),\n",
    "        alpha=1/100, size = 1, color = 'gray90', shape = 21\n",
    "    ) +\n",
    "    geom_point(\n",
    "        data = cell_lines_DAC %>% filter(rho_hl60_label=='resistance_hit' & rho_skm1_label=='resistance_hit'),\n",
    "        alpha=30/100, size = 2, color = '#fcae91') + \n",
    "    geom_point(\n",
    "        data = cell_lines_DAC %>% filter(rho_hl60_label=='sensitivity_hit' & rho_skm1_label=='sensitivity_hit'),\n",
    "        alpha=30/100, size = 2, color = '#bdd7e7') +\n",
    "    theme_classic() +\n",
    "#     xlim(-1.0, 1.0) +\n",
    "#     ylim(-0.7, 0.2) +\n",
    "    ylab(expression('SKM-1 CRISPRi drug phenotype (' * rho * ')')) +\n",
    "    xlab(expression('HL-60 CRISPRi drug phenotype (' * rho * ')')) +\n",
    "    theme(axis.text.x = element_text(size = 15, color = 'black'),\n",
    "          axis.text.y = element_text(size = 15, color = 'black'),\n",
    "          axis.title.x = element_text(size = 16),\n",
    "          axis.title.y = element_text(size = 16),\n",
    "          legend.title = element_blank(),\n",
    "          legend.text = element_text(size = rel(1.5), color = 'black'),\n",
    "          legend.position = 'right'          \n",
    ") -> pp\n",
    "\n",
    "pp %>% label_as_black(cell_lines_DAC %>% rownames_to_column('gene') %>% dplyr::filter(gene %in% bioRxiv_labels),size = 3) -> pp\n",
    "\n",
    "# ann_labels(cell_lines_DAC,pp,\n",
    "#     res_labels = res_genes,\n",
    "#     sen_labels = sen_genes_skm1\n",
    "# )->pp\n",
    "\n",
    "ann_pp(pp,\n",
    "       c(-1,1),c(-1.2,1.2)) -> pp\n",
    "\n",
    "pp -> rho_hl60_vs_rho_skm1"
   ]
  },
  {
   "cell_type": "markdown",
   "metadata": {},
   "source": [
    "#### gamma vs gamma"
   ]
  },
  {
   "cell_type": "code",
   "execution_count": 58,
   "metadata": {
    "tags": []
   },
   "outputs": [],
   "source": [
    "cell_lines_DAC %>% ggplot(aes(x=gamma_hl60_score, y=gamma_molm13_score)) +\n",
    "    geom_point(\n",
    "        data = cell_lines_DAC %>% filter(!(gamma_hl60_score=='pseudo' | gamma_molm13_score=='pseudo')),\n",
    "        alpha=10/100, size = 1, color = 'gray10', shape = 21\n",
    "    ) +\n",
    "    geom_point(\n",
    "        data = cell_lines_DAC %>% filter(gamma_hl60_score=='pseudo' | gamma_molm13_score=='pseudo'),\n",
    "        alpha=1/100, size = 1, color = 'gray90', shape = 21\n",
    "    ) +\n",
    "    geom_point(\n",
    "        data = cell_lines_DAC %>% filter(gamma_hl60_score=='up_hit' & gamma_molm13_score=='essential_hit'),\n",
    "        alpha=30/100, size = 2, color = '#fcae91') + \n",
    "    geom_point(\n",
    "        data = cell_lines_DAC %>% filter(gamma_hl60_score=='up_hit' & gamma_molm13_score=='essential_hit'),\n",
    "        alpha=30/100, size = 2, color = '#bdd7e7') +\n",
    "    theme_classic() +\n",
    "    # xlim(-1.0, 1.0) +\n",
    "    # ylim(-0.7, 0.2) +\n",
    "    ylab(expression('MOLM-13 CRISPRi control phenotype (' * gamma * ')')) + \n",
    "    xlab(expression('HL-60 CRISPRi control phenotype (' * gamma * ')')) +\n",
    "    theme(axis.text.x = element_text(size = 15, color = 'black'),\n",
    "          axis.text.y = element_text(size = 15, color = 'black'),\n",
    "          axis.title.x = element_text(size = 16),\n",
    "          axis.title.y = element_text(size = 16),\n",
    "          legend.title = element_blank(),\n",
    "          legend.text = element_text(size = rel(1.5), color = 'black'),\n",
    "          legend.position = 'right'\n",
    ") -> pp\n",
    "\n",
    "pp %>% label_as_black(cell_lines_DAC %>% rownames_to_column('gene') %>% dplyr::filter(gene %in% bioRxiv_labels),size = 3) -> pp\n",
    "\n",
    "# ann_labels(cell_lines_DAC,pp,\n",
    "#     res_labels = res_genes_molm13,\n",
    "#     sen_labels = sen_genes_molm13\n",
    "# )-> pp\n",
    "\n",
    "ann_pp(pp,\n",
    "       c(-1,0.5),c(-1,0.5)) -> pp\n",
    "\n",
    "pp -> gamma_hl60_vs_gamma_molm13"
   ]
  },
  {
   "cell_type": "code",
   "execution_count": 59,
   "metadata": {
    "tags": []
   },
   "outputs": [],
   "source": [
    "cell_lines_DAC %>% ggplot(aes(x=gamma_hl60_score, y=gamma_skm1_score)) +\n",
    "    geom_point(\n",
    "        data = cell_lines_DAC %>% filter(!(gamma_hl60_score=='pseudo' | gamma_skm1_score=='pseudo')),\n",
    "        alpha=10/100, size = 1, color = 'gray10', shape = 21\n",
    "    ) +\n",
    "    geom_point(\n",
    "        data = cell_lines_DAC %>% filter(gamma_hl60_score=='pseudo' | gamma_skm1_score=='pseudo'),\n",
    "        alpha=1/100, size = 1, color = 'gray90', shape = 21\n",
    "    ) +\n",
    "    geom_point(\n",
    "        data = cell_lines_DAC %>% filter(gamma_hl60_score=='up_hit' & gamma_skm1_score=='essential_hit'),\n",
    "        alpha=30/100, size = 2, color = '#fcae91') + \n",
    "    geom_point(\n",
    "        data = cell_lines_DAC %>% filter(gamma_hl60_score=='up_hit' & gamma_skm1_score=='essential_hit'),\n",
    "        alpha=30/100, size = 2, color = '#bdd7e7') +\n",
    "    theme_classic() +\n",
    "    # xlim(-1.0, 1.0) +\n",
    "    # ylim(-0.7, 0.2) +\n",
    "    ylab(expression('SKM1 CRISPRi control phenotype (' * gamma * ')')) + \n",
    "    xlab(expression('HL-60 CRISPRi control phenotype (' * gamma * ')')) +\n",
    "    theme(axis.text.x = element_text(size = 15, color = 'black'),\n",
    "          axis.text.y = element_text(size = 15, color = 'black'),\n",
    "          axis.title.x = element_text(size = 16),\n",
    "          axis.title.y = element_text(size = 16),\n",
    "          legend.title = element_blank(),\n",
    "          legend.text = element_text(size = rel(1.5), color = 'black'),\n",
    "          legend.position = 'right'\n",
    ") -> pp\n",
    "\n",
    "pp %>% label_as_black(cell_lines_DAC %>% rownames_to_column('gene') %>% dplyr::filter(gene %in% bioRxiv_labels),size = 3) -> pp\n",
    "\n",
    "# ann_labels(cell_lines_DAC,pp,\n",
    "#     res_labels = res_genes,\n",
    "#     sen_labels = sen_genes_skm1\n",
    "# )->pp\n",
    "\n",
    "ann_pp(pp,\n",
    "       c(-1,0.5),c(-1,0.5)) -> pp\n",
    "\n",
    "pp -> gamma_hl60_vs_gamma_skm1"
   ]
  },
  {
   "cell_type": "code",
   "execution_count": 60,
   "metadata": {
    "tags": []
   },
   "outputs": [],
   "source": [
    "# ggsave('plots/CRISPRi-cell-lines-rho.pdf',\n",
    "#        ann_pp(pp1,c(-1,1),c(-1.8,1.2)) +\n",
    "#        ann_pp(pp2,c(-1,1),c(-1.2,1.2)),\n",
    "#        width = 12, height = 6)"
   ]
  },
  {
   "cell_type": "code",
   "execution_count": 61,
   "metadata": {
    "tags": []
   },
   "outputs": [],
   "source": [
    "# ggsave('plots/CRISPRi-cell-lines-rho.png',\n",
    "#        ann_pp(pp1,c(-1,1),c(-1.8,1.2)) +\n",
    "#        ann_pp(pp2,c(-1,1),c(-1.2,1.2)),\n",
    "#        width = 12, height = 6)"
   ]
  },
  {
   "cell_type": "code",
   "execution_count": null,
   "metadata": {},
   "outputs": [],
   "source": []
  },
  {
   "cell_type": "code",
   "execution_count": 62,
   "metadata": {
    "tags": []
   },
   "outputs": [
    {
     "name": "stderr",
     "output_type": "stream",
     "text": [
      "Warning message:\n",
      "“Removed 3593 rows containing missing values (geom_point).”\n",
      "Warning message:\n",
      "“Removed 3249 rows containing missing values (geom_point).”\n",
      "Warning message:\n",
      "“Removed 70 row(s) containing missing values (geom_path).”\n",
      "Warning message:\n",
      "“Removed 3567 rows containing missing values (geom_point).”\n",
      "Warning message:\n",
      "“Removed 3500 rows containing missing values (geom_point).”\n",
      "Warning message:\n",
      "“Removed 1 rows containing missing values (geom_point).”\n",
      "Warning message:\n",
      "“Removed 36 row(s) containing missing values (geom_path).”\n",
      "Warning message:\n",
      "“Removed 3509 rows containing missing values (geom_point).”\n",
      "Warning message:\n",
      "“Removed 3043 rows containing missing values (geom_point).”\n",
      "Warning message:\n",
      "“Removed 62 row(s) containing missing values (geom_path).”\n",
      "Warning message:\n",
      "“Removed 1 rows containing missing values (geom_point).”\n",
      "Warning message:\n",
      "“Removed 1 rows containing missing values (geom_text_repel).”\n",
      "Warning message:\n",
      "“Removed 10 rows containing missing values (geom_point).”\n",
      "Warning message:\n",
      "“Removed 1 rows containing missing values (geom_point).”\n",
      "Warning message:\n",
      "“Removed 2 rows containing missing values (geom_point).”\n",
      "Warning message:\n",
      "“Removed 2 rows containing missing values (geom_point).”\n",
      "Warning message:\n",
      "“Removed 159 rows containing missing values (geom_point).”\n",
      "Warning message:\n",
      "“Removed 100 rows containing missing values (geom_point).”\n"
     ]
    },
    {
     "data": {
      "text/html": [
       "<strong>png:</strong> 2"
      ],
      "text/latex": [
       "\\textbf{png:} 2"
      ],
      "text/markdown": [
       "**png:** 2"
      ],
      "text/plain": [
       "png \n",
       "  2 "
      ]
     },
     "metadata": {},
     "output_type": "display_data"
    }
   ],
   "source": [
    "# Start the PDF device\n",
    "pdf(\"multipage_plots.pdf\", height=6, width=6)\n",
    "\n",
    "vol_hl60\n",
    "vol_molm13\n",
    "vol_skm1\n",
    "\n",
    "rho_gamma_scatter_molm13\n",
    "rho_gamma_scatter_skm1\n",
    "\n",
    "rho_hl60_vs_rho_molm13\n",
    "rho_hl60_vs_rho_skm1\n",
    "\n",
    "gamma_hl60_vs_gamma_molm13\n",
    "gamma_hl60_vs_gamma_skm1\n",
    "\n",
    "# End the PDF device\n",
    "dev.off()"
   ]
  },
  {
   "cell_type": "code",
   "execution_count": 63,
   "metadata": {
    "tags": []
   },
   "outputs": [
    {
     "name": "stderr",
     "output_type": "stream",
     "text": [
      "Saving 6.67 x 6.67 in image\n",
      "\n",
      "Warning message:\n",
      "“Removed 159 rows containing missing values (geom_point).”\n"
     ]
    }
   ],
   "source": [
    "ggsave(\n",
    "    'plots/MOLM13-rho-vs-HL60-rho.pdf',\n",
    "    rho_hl60_vs_rho_molm13\n",
    ")"
   ]
  },
  {
   "cell_type": "code",
   "execution_count": 64,
   "metadata": {
    "tags": []
   },
   "outputs": [
    {
     "name": "stderr",
     "output_type": "stream",
     "text": [
      "Saving 6.67 x 6.67 in image\n",
      "\n",
      "Warning message:\n",
      "“Removed 100 rows containing missing values (geom_point).”\n"
     ]
    }
   ],
   "source": [
    "ggsave(\n",
    "    'plots/SKM1-rho-vs-HL60-rho.pdf',\n",
    "    rho_hl60_vs_rho_skm1\n",
    ")"
   ]
  },
  {
   "cell_type": "code",
   "execution_count": null,
   "metadata": {},
   "outputs": [],
   "source": []
  },
  {
   "cell_type": "code",
   "execution_count": 157,
   "metadata": {
    "tags": []
   },
   "outputs": [
    {
     "name": "stderr",
     "output_type": "stream",
     "text": [
      "Warning message:\n",
      "“Removed 159 rows containing missing values (geom_point).”\n"
     ]
    },
    {
     "ename": "ERROR",
     "evalue": "Error in value[[3L]](cond): could not open file '/tmp/Rtmpy7NiRW/file3ddfb3c6cce25.png'\n",
     "output_type": "error",
     "traceback": [
      "Error in value[[3L]](cond): could not open file '/tmp/Rtmpy7NiRW/file3ddfb3c6cce25.png'\nTraceback:\n"
     ]
    },
    {
     "data": {
      "text/plain": [
       "plot without title"
      ]
     },
     "metadata": {
      "image/png": {
       "height": 420,
       "width": 420
      }
     },
     "output_type": "display_data"
    }
   ],
   "source": [
    "rho_hl60_vs_rho_molm13"
   ]
  },
  {
   "cell_type": "code",
   "execution_count": 66,
   "metadata": {
    "tags": []
   },
   "outputs": [
    {
     "name": "stderr",
     "output_type": "stream",
     "text": [
      "Warning message:\n",
      "“Removed 100 rows containing missing values (geom_point).”\n"
     ]
    },
    {
     "data": {
      "image/png": "[encoded data removed]",
      "text/plain": [
       "plot without title"
      ]
     },
     "metadata": {
      "image/png": {
       "height": 420,
       "width": 420
      }
     },
     "output_type": "display_data"
    }
   ],
   "source": [
    "rho_hl60_vs_rho_skm1"
   ]
  },
  {
   "cell_type": "code",
   "execution_count": null,
   "metadata": {},
   "outputs": [],
   "source": []
  },
  {
   "cell_type": "markdown",
   "metadata": {},
   "source": [
    "___"
   ]
  },
  {
   "cell_type": "code",
   "execution_count": 90,
   "metadata": {},
   "outputs": [
    {
     "data": {
      "text/plain": [
       "R version 4.1.1 (2021-08-10)\n",
       "Platform: x86_64-conda-linux-gnu (64-bit)\n",
       "Running under: CentOS Linux 7 (Core)\n",
       "\n",
       "Matrix products: default\n",
       "BLAS/LAPACK: /data_gilbert/home/aarab/anaconda3/envs/deseq2/lib/libopenblasp-r0.3.18.so\n",
       "\n",
       "locale:\n",
       " [1] LC_CTYPE=en_US.UTF-8       LC_NUMERIC=C              \n",
       " [3] LC_TIME=en_US.UTF-8        LC_COLLATE=en_US.UTF-8    \n",
       " [5] LC_MONETARY=en_US.UTF-8    LC_MESSAGES=en_US.UTF-8   \n",
       " [7] LC_PAPER=en_US.UTF-8       LC_NAME=C                 \n",
       " [9] LC_ADDRESS=C               LC_TELEPHONE=C            \n",
       "[11] LC_MEASUREMENT=en_US.UTF-8 LC_IDENTIFICATION=C       \n",
       "\n",
       "attached base packages:\n",
       "[1] stats     graphics  grDevices utils     datasets  methods   base     \n",
       "\n",
       "other attached packages:\n",
       " [1] patchwork_1.1.1    forcats_0.5.1      stringr_1.4.0      dplyr_1.0.7       \n",
       " [5] purrr_0.3.4        readr_2.0.2        tidyr_1.1.4        tibble_3.1.6      \n",
       " [9] tidyverse_1.3.1    RColorBrewer_1.1-2 ggrepel_0.9.1      ggplot2_3.3.5     \n",
       "\n",
       "loaded via a namespace (and not attached):\n",
       " [1] pbdZMQ_0.3-6     tidyselect_1.1.1 repr_1.1.3       haven_2.4.3     \n",
       " [5] colorspace_2.0-2 vctrs_0.3.8      generics_0.1.1   htmltools_0.5.2 \n",
       " [9] base64enc_0.1-3  utf8_1.2.2       rlang_0.4.12     pillar_1.6.4    \n",
       "[13] glue_1.5.0       withr_2.4.2      DBI_1.1.1        dbplyr_2.1.1    \n",
       "[17] modelr_0.1.8     readxl_1.3.1     uuid_1.0-3       lifecycle_1.0.1 \n",
       "[21] munsell_0.5.0    gtable_0.3.0     cellranger_1.1.0 rvest_1.0.2     \n",
       "[25] evaluate_0.14    labeling_0.4.2   tzdb_0.2.0       fastmap_1.1.0   \n",
       "[29] fansi_0.4.2      broom_0.7.10     IRdisplay_1.0    Rcpp_1.0.7      \n",
       "[33] scales_1.1.1     backports_1.3.0  IRkernel_1.2     jsonlite_1.7.2  \n",
       "[37] farver_2.1.0     fs_1.5.0         hms_1.1.1        digest_0.6.28   \n",
       "[41] stringi_1.7.5    grid_4.1.1       cli_3.1.0        tools_4.1.1     \n",
       "[45] magrittr_2.0.1   crayon_1.4.2     pkgconfig_2.0.3  ellipsis_0.3.2  \n",
       "[49] xml2_1.3.2       reprex_2.0.1     lubridate_1.8.0  rstudioapi_0.13 \n",
       "[53] assertthat_0.2.1 httr_1.4.2       R6_2.5.1         compiler_4.1.1  "
      ]
     },
     "metadata": {},
     "output_type": "display_data"
    }
   ],
   "source": [
    "sessionInfo()"
   ]
  }
 ],
 "metadata": {
  "kernelspec": {
   "display_name": "R [conda env:anaconda3-deseq2]",
   "language": "R",
   "name": "conda-env-anaconda3-deseq2-r"
  },
  "language_info": {
   "codemirror_mode": "r",
   "file_extension": ".r",
   "mimetype": "text/x-r-source",
   "name": "R",
   "pygments_lexer": "r",
   "version": "4.1.1"
  }
 },
 "nbformat": 4,
 "nbformat_minor": 4
}
