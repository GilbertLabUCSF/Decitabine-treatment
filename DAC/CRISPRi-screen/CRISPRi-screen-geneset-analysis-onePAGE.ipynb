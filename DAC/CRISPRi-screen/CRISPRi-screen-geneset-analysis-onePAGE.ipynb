{
 "cells": [
  {
   "cell_type": "markdown",
   "metadata": {},
   "source": [
    "# Pathway enrichment analysis\n",
    "\n",
    "<!-- Luke and Ray has shared the CRISPRi screening results which was analyzed with [ScreenProcessing](https://github.com/mhorlbeck/ScreenProcessing) pipeline.  -->\n",
    "\n",
    "<!-- - $\\gamma$ - gamma score -->\n",
    "<!-- - $\\rho$ - rho score -->\n",
    "\n",
    "<!-- - Pathway enrichment analysis over rho scores -->\n",
    "<!-- - Load screening result tables into python \n",
    "- Make sure gene names are correctly assigned \n",
    " -->\n",
    "\n",
    "<!-- Alex Ge: \n",
    "> If we do Enrichr analysis on the resistance/sensitivity hits defined by Max’s cutoffs, (n = 418 genes), we do see mRNA methylation (adj p = 0.018) and RNA destabilization (adj p = 0.005) come out as significant GO biological processes. METTL3 is included in these GO terms.\n",
    "\n",
    "> If we do Enrichr analysis on just the resistance hits (n = 197), mRNA methylation is even more significant (adj p = 0.002), which makes sense since we see more METTL3 biology on the resistance side. It is one of the top five GO terms by adjusted P-value.\n",
    "\n",
    "> This analysis was done today with the 2021 GO terms, which have updated annotations for the newer m6A genes. When I did the same Enrichr analysis in 2018, RNA destabilization and mRNA methylation were not as significant since the GO annotations were not updated.\n",
    "\n",
    "> I think Enrichr analysis might make more sense here – in Abe’s analysis, I can see that a lot of rho scores that are < 0.2 are being included in the analysis; these are likely to be statistically insignificant. It also looks graphically like the highest bin is including rho values that are < 0?\n",
    " -->"
   ]
  },
  {
   "cell_type": "code",
   "execution_count": 1,
   "metadata": {},
   "outputs": [],
   "source": [
    "from matplotlib_venn import venn2"
   ]
  },
  {
   "cell_type": "code",
   "execution_count": 2,
   "metadata": {},
   "outputs": [],
   "source": [
    "from IPython.display import IFrame"
   ]
  },
  {
   "cell_type": "code",
   "execution_count": 3,
   "metadata": {},
   "outputs": [],
   "source": [
    "from glob import glob\n",
    "\n",
    "import sys\n",
    "import pandas as pd\n",
    "import numpy as np \n",
    "from itertools import chain, product\n",
    "\n",
    "sys.path.append(\"../../\")\n",
    "pager_dir = \"/data_gilbert/home/aarab/Projects/pager/\"\n",
    "sys.path.append(pager_dir)\n",
    "\n",
    "from scripts.util import *\n",
    "import ipage_down as ipd"
   ]
  },
  {
   "cell_type": "code",
   "execution_count": 4,
   "metadata": {},
   "outputs": [],
   "source": [
    "# wd = '/rumi/shams/abe/Projects/Decitabine-treatment/'\n",
    "wd = '/data_gilbert/home/aarab/Projects/Decitabine-treatment/DAC'"
   ]
  },
  {
   "cell_type": "code",
   "execution_count": 5,
   "metadata": {},
   "outputs": [],
   "source": [
    "data = load_data(screens=True,wd=wd)"
   ]
  },
  {
   "cell_type": "code",
   "execution_count": 6,
   "metadata": {},
   "outputs": [
    {
     "data": {
      "text/plain": [
       "dict_keys(['hl60_exp1_DAC_rho', 'hl60_exp1_DAC_gamma', 'hl60_exp2_DAC_rho', 'hl60_exp2_DAC_gamma', 'hl60_exp2_GSK_rho', 'hl60_exp2_GSK_gamma', 'molm13_exp_DAC_rho', 'molm13_exp_DAC_gamma', 'molm13_exp_GSK_rho', 'molm13_exp_GSK_gamma'])"
      ]
     },
     "execution_count": 6,
     "metadata": {},
     "output_type": "execute_result"
    }
   ],
   "source": [
    "data.keys()"
   ]
  },
  {
   "cell_type": "markdown",
   "metadata": {
    "tags": []
   },
   "source": [
    "## Run `onePAGE`:"
   ]
  },
  {
   "cell_type": "markdown",
   "metadata": {},
   "source": [
    "https://medium.com/analytics-vidhya/techniques-to-transform-data-distribution-565a4d0f2da\n"
   ]
  },
  {
   "cell_type": "code",
   "execution_count": 9,
   "metadata": {},
   "outputs": [
    {
     "name": "stdout",
     "output_type": "stream",
     "text": [
      "up:  8896\n",
      "down: 9864\n"
     ]
    }
   ],
   "source": [
    "from matplotlib import pyplot\n",
    "from scipy.stats import yeojohnson\n",
    "\n",
    "rho = pd.concat(find_top(data['hl60_exp1_DAC_rho'].astype(float),'rho score',0,'Mann-Whitney p-value',1)).reset_index()"
   ]
  },
  {
   "cell_type": "code",
   "execution_count": 10,
   "metadata": {},
   "outputs": [],
   "source": [
    "# def fdr_diff_table(df,fold_change,stat_val):\n",
    "#     df['fdr'] = np.sign(df[fold_change] ) * (1 - df[stat_val])\n",
    "#     return df"
   ]
  },
  {
   "cell_type": "code",
   "execution_count": 11,
   "metadata": {},
   "outputs": [],
   "source": [
    "rho[['gene_name','rho score']].drop_duplicates(subset='gene_name',keep='first').to_csv(\n",
    "    'hl60_exp1_DAC_rho_delta_phenotype.txt',sep='\\t',index=None, \n",
    ")"
   ]
  },
  {
   "cell_type": "code",
   "execution_count": 13,
   "metadata": {},
   "outputs": [],
   "source": [
    "!bash ../../scripts/onePAGE.sh . \\\n",
    "    hl60_exp1_DAC_rho_delta_phenotype.txt \\\n",
    "    GOBP_MRNA_PROCESSING &> /dev/null"
   ]
  },
  {
   "cell_type": "code",
   "execution_count": null,
   "metadata": {},
   "outputs": [],
   "source": []
  },
  {
   "cell_type": "code",
   "execution_count": 36,
   "metadata": {},
   "outputs": [
    {
     "name": "stdout",
     "output_type": "stream",
     "text": [
      "cmdline.txt\n",
      "hl60_exp1_DAC_rho_delta_phenotype.txt\n",
      "hl60_exp1_DAC_rho_delta_phenotype.txt.matrix\n",
      "hl60_exp1_DAC_rho_delta_phenotype.txt.pre\n",
      "hl60_exp1_DAC_rho_delta_phenotype.txt.profile\n",
      "hl60_exp1_DAC_rho_delta_phenotype.txt.q\n",
      "hl60_exp1_DAC_rho_delta_phenotype.txt.script\n",
      "hl60_exp1_DAC_rho_delta_phenotype.txt.summary\n",
      "hl60_exp1_DAC_rho_delta_phenotype.txt.summary.eps\n",
      "\u001b[0m\u001b[38;5;27mMotifs\u001b[0m/\n"
     ]
    }
   ],
   "source": [
    "ls hl60_exp1_DAC_rho_delta_phenotype_onePAGE_GOBP_MRNA_PROCESSING/"
   ]
  },
  {
   "cell_type": "code",
   "execution_count": 63,
   "metadata": {},
   "outputs": [],
   "source": [
    "profile = pd.read_csv(\n",
    "    'hl60_exp1_DAC_rho_delta_phenotype_onePAGE_GOBP_MRNA_PROCESSING/hl60_exp1_DAC_rho_delta_phenotype.txt.profile',sep='\\t',header=None\n",
    ").rename(columns={0:'gene',1:'member'}).set_index('gene').astype(int)"
   ]
  },
  {
   "cell_type": "code",
   "execution_count": 87,
   "metadata": {},
   "outputs": [],
   "source": [
    "q = pd.read_csv(\n",
    "    'hl60_exp1_DAC_rho_delta_phenotype_onePAGE_GOBP_MRNA_PROCESSING/hl60_exp1_DAC_rho_delta_phenotype.txt.q',sep='\\t'\n",
    ")\n",
    "q.columns = ['gene','bin']\n",
    "q.set_index('gene',inplace=True)"
   ]
  },
  {
   "cell_type": "code",
   "execution_count": 126,
   "metadata": {},
   "outputs": [
    {
     "data": {
      "text/plain": [
       "gene\n",
       "A1CF       False\n",
       "AAR2        True\n",
       "ACIN1       True\n",
       "ADARB1     False\n",
       "AHCYL1      True\n",
       "           ...  \n",
       "ZC3H3       True\n",
       "ZCCHC8     False\n",
       "ZFP36L1    False\n",
       "ZMAT2      False\n",
       "ZNF473     False\n",
       "Name: bin, Length: 474, dtype: bool"
      ]
     },
     "execution_count": 126,
     "metadata": {},
     "output_type": "execute_result"
    }
   ],
   "source": [
    "q.loc[(profile[profile.member.eq(1)].index.to_list()),:].bin.isin([0,10],)"
   ]
  },
  {
   "cell_type": "code",
   "execution_count": 136,
   "metadata": {},
   "outputs": [],
   "source": [
    "profile_q = q.loc[(profile[profile.member.eq(1)].index.to_list()),:]"
   ]
  },
  {
   "cell_type": "code",
   "execution_count": 155,
   "metadata": {},
   "outputs": [],
   "source": [
    "pd.DataFrame(\n",
    "    profile_q[profile_q.bin.isin([0,10])].index\n",
    ").to_csv('GOBP_MRNA_PROCESSING_onePAGE_leading_edge.csv',index=False)"
   ]
  },
  {
   "cell_type": "code",
   "execution_count": null,
   "metadata": {},
   "outputs": [],
   "source": []
  },
  {
   "cell_type": "code",
   "execution_count": null,
   "metadata": {},
   "outputs": [],
   "source": []
  },
  {
   "cell_type": "code",
   "execution_count": 85,
   "metadata": {},
   "outputs": [
    {
     "name": "stdout",
     "output_type": "stream",
     "text": [
      "Sun Nov 27 17:50:14 PST 2022\n"
     ]
    }
   ],
   "source": [
    "!date"
   ]
  }
 ],
 "metadata": {
  "kernelspec": {
   "display_name": "Python [conda env:down]",
   "language": "python",
   "name": "conda-env-down-py"
  },
  "language_info": {
   "codemirror_mode": {
    "name": "ipython",
    "version": 3
   },
   "file_extension": ".py",
   "mimetype": "text/x-python",
   "name": "python",
   "nbconvert_exporter": "python",
   "pygments_lexer": "ipython3",
   "version": "3.6.13"
  }
 },
 "nbformat": 4,
 "nbformat_minor": 4
}
