{
 "cells": [
  {
   "cell_type": "markdown",
   "id": "bb1a7d60-8a66-4386-9287-084b9c23be84",
   "metadata": {
    "tags": []
   },
   "source": [
    "## Plot TINATs Peak Coverage"
   ]
  },
  {
   "cell_type": "markdown",
   "id": "3e8e8477-3ddf-4d5f-b293-106a5179db25",
   "metadata": {
    "tags": []
   },
   "source": [
    "`radar` conda env"
   ]
  },
  {
   "cell_type": "code",
   "execution_count": 10,
   "id": "21113b7e-0a97-4455-b070-32eeb520beae",
   "metadata": {},
   "outputs": [
    {
     "data": {
      "text/html": [
       "<table>\n",
       "<caption>A data.frame: 2 × 14</caption>\n",
       "<thead>\n",
       "\t<tr><th scope=col>chr</th><th scope=col>start</th><th scope=col>end</th><th scope=col>name</th><th scope=col>score</th><th scope=col>strand</th><th scope=col>thickStart</th><th scope=col>thickEnd</th><th scope=col>itemRgb</th><th scope=col>blockCount</th><th scope=col>blockSizes</th><th scope=col>blockStarts</th><th scope=col>logFC</th><th scope=col>p_value</th></tr>\n",
       "\t<tr><th scope=col>&lt;fct&gt;</th><th scope=col>&lt;int&gt;</th><th scope=col>&lt;int&gt;</th><th scope=col>&lt;fct&gt;</th><th scope=col>&lt;int&gt;</th><th scope=col>&lt;fct&gt;</th><th scope=col>&lt;int&gt;</th><th scope=col>&lt;int&gt;</th><th scope=col>&lt;int&gt;</th><th scope=col>&lt;int&gt;</th><th scope=col>&lt;int&gt;</th><th scope=col>&lt;int&gt;</th><th scope=col>&lt;dbl&gt;</th><th scope=col>&lt;dbl&gt;</th></tr>\n",
       "</thead>\n",
       "<tbody>\n",
       "\t<tr><td>chr1 </td><td>85724299</td><td>85724348</td><td>DAC.12-x1-0 </td><td>0</td><td>-</td><td>85724299</td><td>85724348</td><td>0</td><td>1</td><td>49</td><td>0</td><td>2.944439</td><td>1.912371e-03</td></tr>\n",
       "\t<tr><td>chr13</td><td>27787083</td><td>27787132</td><td>DAC.252-x1-0</td><td>0</td><td>+</td><td>27787083</td><td>27787132</td><td>0</td><td>1</td><td>49</td><td>0</td><td>4.382027</td><td>2.465841e-05</td></tr>\n",
       "</tbody>\n",
       "</table>\n"
      ],
      "text/latex": [
       "A data.frame: 2 × 14\n",
       "\\begin{tabular}{r|llllllllllllll}\n",
       " chr & start & end & name & score & strand & thickStart & thickEnd & itemRgb & blockCount & blockSizes & blockStarts & logFC & p\\_value\\\\\n",
       " <fct> & <int> & <int> & <fct> & <int> & <fct> & <int> & <int> & <int> & <int> & <int> & <int> & <dbl> & <dbl>\\\\\n",
       "\\hline\n",
       "\t chr1  & 85724299 & 85724348 & DAC.12-x1-0  & 0 & - & 85724299 & 85724348 & 0 & 1 & 49 & 0 & 2.944439 & 1.912371e-03\\\\\n",
       "\t chr13 & 27787083 & 27787132 & DAC.252-x1-0 & 0 & + & 27787083 & 27787132 & 0 & 1 & 49 & 0 & 4.382027 & 2.465841e-05\\\\\n",
       "\\end{tabular}\n"
      ],
      "text/markdown": [
       "\n",
       "A data.frame: 2 × 14\n",
       "\n",
       "| chr &lt;fct&gt; | start &lt;int&gt; | end &lt;int&gt; | name &lt;fct&gt; | score &lt;int&gt; | strand &lt;fct&gt; | thickStart &lt;int&gt; | thickEnd &lt;int&gt; | itemRgb &lt;int&gt; | blockCount &lt;int&gt; | blockSizes &lt;int&gt; | blockStarts &lt;int&gt; | logFC &lt;dbl&gt; | p_value &lt;dbl&gt; |\n",
       "|---|---|---|---|---|---|---|---|---|---|---|---|---|---|\n",
       "| chr1  | 85724299 | 85724348 | DAC.12-x1-0  | 0 | - | 85724299 | 85724348 | 0 | 1 | 49 | 0 | 2.944439 | 1.912371e-03 |\n",
       "| chr13 | 27787083 | 27787132 | DAC.252-x1-0 | 0 | + | 27787083 | 27787132 | 0 | 1 | 49 | 0 | 4.382027 | 2.465841e-05 |\n",
       "\n"
      ],
      "text/plain": [
       "  chr   start    end      name         score strand thickStart thickEnd itemRgb\n",
       "1 chr1  85724299 85724348 DAC.12-x1-0  0     -      85724299   85724348 0      \n",
       "2 chr13 27787083 27787132 DAC.252-x1-0 0     +      27787083   27787132 0      \n",
       "  blockCount blockSizes blockStarts logFC    p_value     \n",
       "1 1          49         0           2.944439 1.912371e-03\n",
       "2 1          49         0           4.382027 2.465841e-05"
      ]
     },
     "metadata": {},
     "output_type": "display_data"
    }
   ],
   "source": [
    "res = read.table('../meRIP-seq/radar_scallop/result.sig.txt',header=TRUE)\n",
    "res"
   ]
  },
  {
   "cell_type": "code",
   "execution_count": 2,
   "id": "d226195a-3c5d-4bda-af47-86e716bf8ba0",
   "metadata": {},
   "outputs": [],
   "source": [
    "# %load_ext rpy2.ipython"
   ]
  },
  {
   "cell_type": "code",
   "execution_count": 1,
   "id": "9ec769a1-c0e8-4916-b5c0-31b1b249d636",
   "metadata": {},
   "outputs": [],
   "source": [
    "# %%R \n",
    "suppressMessages(suppressWarnings(library (RADAR)))\n",
    "suppressMessages(suppressWarnings(library (patchwork)))"
   ]
  },
  {
   "cell_type": "code",
   "execution_count": 54,
   "id": "ac0ba887-24e1-4c2f-9201-fa0e63d9cb78",
   "metadata": {},
   "outputs": [],
   "source": [
    "# %%R\n",
    "radar0 <- readRDS('radar_scallop/finalObj.rds')"
   ]
  },
  {
   "cell_type": "code",
   "execution_count": 55,
   "id": "a881a245-d777-4123-b0bf-d774e85d553e",
   "metadata": {},
   "outputs": [],
   "source": [
    "# %%R\n",
    "radar <- PrepCoveragePlot(radar0)\n",
    "#,gtf='../scallop-genome/gencode.v34lift37.basic.annotation.gtf')"
   ]
  },
  {
   "cell_type": "code",
   "execution_count": 74,
   "id": "9cfd859b-d633-4812-909b-908a2726821a",
   "metadata": {},
   "outputs": [],
   "source": [
    "# %%R\n",
    "radar1 <- PrepCoveragePlot(radar0,gtf='../scallop-genome/gencode.v34lift37.basic.annotation.gtf')"
   ]
  },
  {
   "cell_type": "code",
   "execution_count": 56,
   "id": "4177279b-0112-4a36-b0be-15c74d1d7d2d",
   "metadata": {},
   "outputs": [
    {
     "name": "stdout",
     "output_type": "stream",
     "text": [
      "MeRIP.RADAR dataset of 4 samples.\n",
      "Read count quantified in 50-bp consecutive bins on the transcript.\n",
      "The total read count for Input and IP samples are (Million reads):\n",
      "         U1    U2    T1    T2\n",
      "Input 22.36 27.48 24.09 21.92\n",
      "IP    34.95 33.21 39.47 40.76\n",
      "Input gene level read count available.\n",
      "There are 1 predictor variables/covariates. Can access by function variable(MeRIPdata). \n",
      "Differential methylation tested by PoissonGamma test (RADAR).\n",
      "Multiple test corrected by Benjamini & Hochberg.\n"
     ]
    }
   ],
   "source": [
    "# %%R \n",
    "summary(radar)"
   ]
  },
  {
   "cell_type": "markdown",
   "id": "c4b9ed67-f80e-4a18-8c0c-7abd68818ceb",
   "metadata": {
    "tags": []
   },
   "source": [
    "### DAC.12-x1-0"
   ]
  },
  {
   "cell_type": "code",
   "execution_count": 76,
   "id": "a18d57a2-e2d4-46a7-8802-f0db3672a746",
   "metadata": {},
   "outputs": [
    {
     "data": {
      "text/plain": [
       "GRanges object with 1 range and 0 metadata columns:\n",
       "      seqnames            ranges strand\n",
       "         <Rle>         <IRanges>  <Rle>\n",
       "  [1]     chr1 85724299-85724348      -\n",
       "  -------\n",
       "  seqinfo: 2 sequences from an unspecified genome; no seqlengths"
      ]
     },
     "metadata": {},
     "output_type": "display_data"
    }
   ],
   "source": [
    "    makeGRangesFromDataFrame(res[res$name == 'DAC.12-x1-0',])"
   ]
  },
  {
   "cell_type": "code",
   "execution_count": 93,
   "id": "b8c61e1d-cdba-42c2-810c-bb198181a4b4",
   "metadata": {},
   "outputs": [
    {
     "data": {
      "text/plain": [
       "GRanges object with 6 ranges and 1 metadata column:\n",
       "      seqnames            ranges strand |                   gene_id\n",
       "         <Rle>         <IRanges>  <Rle> |               <character>\n",
       "  [1]     chr1 85715636-85725345      - | ENSG00000162642.14_5-x0-0\n",
       "  [2]     chr1 85724207-85724405      - | ENSG00000162642.14_5-x0-0\n",
       "  [3]     chr1 85723126-85725316      - | ENSG00000162642.14_5-x0-0\n",
       "  [4]     chr1 85724207-85724405      - | ENSG00000162642.14_5-x0-0\n",
       "  [5]     chr1 85718286-85724396      - |               DAC.12-x1-0\n",
       "  [6]     chr1 85724207-85724396      - |               DAC.12-x1-0\n",
       "  -------\n",
       "  seqinfo: 24 sequences from an unspecified genome; no seqlengths"
      ]
     },
     "metadata": {},
     "output_type": "display_data"
    }
   ],
   "source": [
    "subsetByOverlaps(\n",
    "    radar1@GTF,\n",
    "    makeGRangesFromDataFrame(res[res$name == 'DAC.12-x1-0',])\n",
    ")[,c('gene_id')]"
   ]
  },
  {
   "cell_type": "code",
   "execution_count": 80,
   "id": "3eb86a0a-fcac-4f45-9454-b37557273109",
   "metadata": {},
   "outputs": [],
   "source": [
    "gr = radar@GTF[seqnames(radar@GTF) == chr & radar@GTF$type == 'gene' & radar@GTF$gene_id == geneName]"
   ]
  },
  {
   "cell_type": "code",
   "execution_count": 69,
   "id": "91630df3-6068-4347-bc0a-ee8cf79fb4c5",
   "metadata": {
    "tags": []
   },
   "outputs": [],
   "source": [
    "ZoomIn_peak = c(85724299,85724348 + 100)\n",
    "geneName <- 'DAC.12-x1-0'\n",
    "chr <- \"chr1\"\n",
    "title <- 'DAC.12-x1-0'\n",
    "ymax <- 500\n",
    "\n",
    "gr = radar@GTF[seqnames(radar@GTF) == chr & radar@GTF$type == 'gene' & radar@GTF$gene_id == geneName]\n",
    "ZoomIn_gene = c(start (gr),end (gr))"
   ]
  },
  {
   "cell_type": "code",
   "execution_count": null,
   "id": "37c02202-8664-4fe0-a32b-d7f2a8bd7fbb",
   "metadata": {},
   "outputs": [],
   "source": [
    "gr"
   ]
  },
  {
   "cell_type": "code",
   "execution_count": 87,
   "id": "7a03eac1-8492-4315-9f7e-44cc79a6beda",
   "metadata": {
    "tags": []
   },
   "outputs": [],
   "source": [
    "p_peak <- plotGeneCov(\n",
    "    radar,geneName = geneName,\n",
    "    center = mean, libraryType = \"opposite\",\n",
    "    ZoomIn = c(\n",
    "        ZoomIn_peak[1],\n",
    "        ZoomIn_peak[2]\n",
    "    ), adjustExprLevel = F\n",
    "    , split = F\n",
    ") + theme_classic() +\n",
    "# theme_void() + \n",
    "theme(\n",
    "    # legend.position = \"none\",    \n",
    "    axis.text.x = element_text(angle = 30, vjust = 1,hjust=1)\n",
    ") + ggtitle(title)"
   ]
  },
  {
   "cell_type": "code",
   "execution_count": 88,
   "id": "01037277-12b6-4fcf-904c-42102c2db81d",
   "metadata": {},
   "outputs": [
    {
     "data": {
      "image/png": "[encoded data removed]",
      "text/plain": [
       "plot without title"
      ]
     },
     "metadata": {
      "image/png": {
       "height": 420,
       "width": 420
      },
      "text/plain": {
       "height": 420,
       "width": 420
      }
     },
     "output_type": "display_data"
    }
   ],
   "source": [
    "p_peak"
   ]
  },
  {
   "cell_type": "code",
   "execution_count": 106,
   "id": "c36f3cf0-c98f-4785-8cfc-8b248734194a",
   "metadata": {
    "tags": []
   },
   "outputs": [],
   "source": [
    "# p_gene <- plotGeneCov(\n",
    "#     radar1,geneName = 'ENSG00000162642.14_5',\n",
    "#     center = mean, libraryType = \"opposite\",\n",
    "#     ZoomIn = ZoomIn_gene, adjustExprLevel = T\n",
    "#     #, split = T\n",
    "# ) + theme_classic() + theme(\n",
    "#     axis.text.x = element_text(angle = 30, vjust = 1,hjust=1)\n",
    "# ) + geom_vline(\n",
    "#     xintercept = ZoomIn_peak[1], colour=\"lightgrey\", linetype = \"longdash\"\n",
    "# ) + geom_vline(\n",
    "#     xintercept = ZoomIn_peak[2] - 1000, colour=\"lightgrey\", linetype = \"longdash\"\n",
    "# ) + ylim(0,ymax) "
   ]
  },
  {
   "cell_type": "code",
   "execution_count": 107,
   "id": "44c36dc6-ebd4-4460-8b34-cfce620b6585",
   "metadata": {
    "tags": []
   },
   "outputs": [],
   "source": [
    "# %%R \n",
    "# p_peak / p_gene"
   ]
  },
  {
   "cell_type": "code",
   "execution_count": 108,
   "id": "5f4c1c04-6414-42ec-938a-fed78847b214",
   "metadata": {},
   "outputs": [],
   "source": [
    "# %%R \n",
    "# ggsave(paste0('plots/coverage_',title,'.eps'),p_peak / p_gene,width=10,height=5,dpi=600,device=cairo_ps)"
   ]
  },
  {
   "cell_type": "markdown",
   "id": "9badf1d9-dece-4c27-82a6-ca2c1774aed9",
   "metadata": {
    "tags": []
   },
   "source": [
    "### DAC.252-x1-0"
   ]
  },
  {
   "cell_type": "code",
   "execution_count": 111,
   "id": "a1226d06-daa8-4261-b29d-57548d07de54",
   "metadata": {},
   "outputs": [
    {
     "data": {
      "text/plain": [
       "GRanges object with 1 range and 0 metadata columns:\n",
       "    seqnames            ranges strand\n",
       "       <Rle>         <IRanges>  <Rle>\n",
       "  2    chr13 27787083-27787132      +\n",
       "  -------\n",
       "  seqinfo: 2 sequences from an unspecified genome; no seqlengths"
      ]
     },
     "metadata": {},
     "output_type": "display_data"
    }
   ],
   "source": [
    "makeGRangesFromDataFrame(res[res$name == 'DAC.252-x1-0',])"
   ]
  },
  {
   "cell_type": "code",
   "execution_count": 112,
   "id": "4d8ddef2-f17d-4f8d-b39f-12d662be9e19",
   "metadata": {},
   "outputs": [
    {
     "data": {
      "text/plain": [
       "GRanges object with 2 ranges and 1 metadata column:\n",
       "      seqnames            ranges strand |      gene_id\n",
       "         <Rle>         <IRanges>  <Rle> |  <character>\n",
       "  [1]    chr13 27786802-27793696      + | DAC.252-x1-0\n",
       "  [2]    chr13 27786802-27787340      + | DAC.252-x1-0\n",
       "  -------\n",
       "  seqinfo: 24 sequences from an unspecified genome; no seqlengths"
      ]
     },
     "metadata": {},
     "output_type": "display_data"
    }
   ],
   "source": [
    "subsetByOverlaps(\n",
    "    radar1@GTF,\n",
    "    makeGRangesFromDataFrame(res[res$name == 'DAC.252-x1-0',])\n",
    ")[,c('gene_id')]"
   ]
  },
  {
   "cell_type": "code",
   "execution_count": 126,
   "id": "03d3de02-8034-41d3-b0c1-24a5c5ead9f7",
   "metadata": {
    "tags": []
   },
   "outputs": [],
   "source": [
    "ZoomIn_peak = c(27787083 - 30,27787132)\n",
    "geneName <- 'DAC.252-x1-0'\n",
    "chr <- \"chr13\"\n",
    "title <- 'DAC.252-x1-0'\n",
    "ymax <- 500\n",
    "\n",
    "gr = radar@GTF[seqnames(radar@GTF) == chr & \n",
    "               radar@GTF$type == 'transcript' & \n",
    "               radar@GTF$gene_id == geneName\n",
    "              ]\n",
    "ZoomIn_gene = c(start (gr),end (gr))"
   ]
  },
  {
   "cell_type": "code",
   "execution_count": 127,
   "id": "2caa832e-4152-49ad-b0ee-a5010ded935b",
   "metadata": {
    "tags": []
   },
   "outputs": [],
   "source": [
    "p_peak <- plotGeneCov(\n",
    "    radar,geneName = geneName,\n",
    "    center = mean, libraryType = \"opposite\",\n",
    "    ZoomIn = c(\n",
    "        ZoomIn_peak[1],\n",
    "        ZoomIn_peak[2]\n",
    "    ), adjustExprLevel = F\n",
    "    , split = F\n",
    ") + theme_classic() +\n",
    "# theme_void() + \n",
    "theme(\n",
    "    # legend.position = \"none\",    \n",
    "    axis.text.x = element_text(angle = 30, vjust = 1,hjust=1)\n",
    ") + ggtitle(title)"
   ]
  },
  {
   "cell_type": "code",
   "execution_count": 128,
   "id": "481992cf-f850-4b8c-9ec7-65017c005450",
   "metadata": {},
   "outputs": [
    {
     "data": {
      "image/png": "[encoded data removed]",
      "text/plain": [
       "plot without title"
      ]
     },
     "metadata": {
      "image/png": {
       "height": 420,
       "width": 420
      },
      "text/plain": {
       "height": 420,
       "width": 420
      }
     },
     "output_type": "display_data"
    }
   ],
   "source": [
    "p_peak"
   ]
  },
  {
   "cell_type": "markdown",
   "id": "391069ba-1856-4479-9c0e-4d5a109de862",
   "metadata": {
    "tags": []
   },
   "source": [
    "## Plot annotation track\n",
    "\n",
    "- https://www.biostars.org/p/184091"
   ]
  },
  {
   "cell_type": "markdown",
   "id": "e4aa923b-aade-4f8d-9be2-3d0cca37ffa8",
   "metadata": {},
   "source": [
    "`gviz` conda env"
   ]
  },
  {
   "cell_type": "code",
   "execution_count": null,
   "id": "734d8994-a21a-46da-b116-85ac348f2adc",
   "metadata": {},
   "outputs": [],
   "source": [
    "suppressMessages(suppressWarnings(library (Gviz)))\n",
    "suppressMessages(suppressWarnings(library (GenomicRanges)))\n",
    "suppressMessages(suppressWarnings(library (GenomicFeatures)))\n",
    "suppressMessages(suppressWarnings(library (tidyverse)))"
   ]
  },
  {
   "cell_type": "code",
   "execution_count": null,
   "id": "78f5e2fa-8bfe-4f92-828a-d411b92ec454",
   "metadata": {},
   "outputs": [],
   "source": [
    "GTF ='../scallop-genome/DAC_GRCh37_merged.gtf'\n",
    "\n",
    "gtf  = rtracklayer::import(GTF)\n",
    "txdb = GenomicFeatures::makeTxDbFromGFF(GTF,organism='Homo sapiens')"
   ]
  },
  {
   "cell_type": "code",
   "execution_count": null,
   "id": "a03f0def-10ab-4b61-b080-5ff84f3bf190",
   "metadata": {
    "tags": []
   },
   "outputs": [],
   "source": [
    "plot_gene_tracks <- function(txdb, gene_id, title, ZoomIn_peak, gen='hg38',wide=0,save=NULL){\n",
    "    gn <- genes(txdb)[genes(txdb)$gene_id == gene_id]\n",
    "    \n",
    "    Start <- gn %>% start\n",
    "    End   <- gn %>% end\n",
    "\n",
    "    gr <- exonsBy(txdb, by = \"gene\")[c(gene_id)]\n",
    "    gr <- unlist(gr)\n",
    "\n",
    "    elementMetadata(gr)$transcript <- names(gr)\n",
    "\n",
    "    gtrack  <- GenomeAxisTrack()\n",
    "    itrack  <- IdeogramTrack(genome = gen, chromosome = seqnames(gn) %>% as.character, col=\"lightgrey\",fill=\"orangered\")\n",
    "    grtrack <- Gviz::GeneRegionTrack(\n",
    "        gr, \n",
    "        start = Start, end = End,\n",
    "        name=\"\",\n",
    "        background.panel = NA, \n",
    "        background.title = NA\n",
    "    )\n",
    "    \n",
    "    ht <- HighlightTrack(\n",
    "        trackList = list(gtrack,grtrack),\n",
    "        start = ZoomIn_peak[1] - wide, end = ZoomIn_peak[2] + wide,\n",
    "        chromosome = seqnames(gn) %>% as.character,\n",
    "        inBackground=FALSE,\n",
    "        col=\"lightgrey\",fill=\"lightgrey\" #\"orangered\"\n",
    "    )\n",
    "    l = list (ht, itrack)\n",
    "    s = c (3,1,1)\n",
    "    if (!is.null(save)){\n",
    "        pdf(save,width=10, height=2)\n",
    "        Gviz::plotTracks(l,from = Start, to = End, main = title, sizes=s)\n",
    "        dev.off()\n",
    "    } else {\n",
    "        Gviz::plotTracks(l,from = Start, to = End, main = title, sizes=s)\n",
    "    }\n",
    "}"
   ]
  },
  {
   "cell_type": "code",
   "execution_count": null,
   "id": "9f597969-1f6e-4aa9-8db4-ca3c4bcc6d79",
   "metadata": {},
   "outputs": [],
   "source": [
    "res[res$name == 'DAC.12-x1-0',]"
   ]
  },
  {
   "cell_type": "code",
   "execution_count": null,
   "id": "f4068302-bb40-42c2-8241-71867c984873",
   "metadata": {},
   "outputs": [],
   "source": [
    "p <- plot_gene_tracks(\n",
    "    txdb, \n",
    "    'DAC.12-x1-0',\n",
    "    'DAC.12-x1-0',\n",
    "    ZoomIn_peak = c(85724299,85724348)\n",
    "    ,wide = 300\n",
    "    # ,save = 'plots/tracks_BCL2.pdf'\n",
    ")\n",
    "\n",
    "# ZoomIn_peak = c()\n",
    "# geneName <- ''\n",
    "# chr <- \"chr1\"\n",
    "# title <- 'DAC.12-x1-0'\n"
   ]
  },
  {
   "cell_type": "code",
   "execution_count": null,
   "id": "4511bd78-b7c4-4bde-a647-05279c8971b1",
   "metadata": {},
   "outputs": [],
   "source": [
    "sessionInfo()"
   ]
  },
  {
   "cell_type": "markdown",
   "id": "feaa51d8-e9a0-4bc6-a1ce-8a0b961d577b",
   "metadata": {
    "tags": []
   },
   "source": [
    "## Extract Peak Sequence "
   ]
  },
  {
   "cell_type": "code",
   "execution_count": null,
   "id": "cc7580a9-f4d0-4c57-9f85-8678c3331c65",
   "metadata": {},
   "outputs": [],
   "source": [
    "import pandas as pd "
   ]
  },
  {
   "cell_type": "code",
   "execution_count": null,
   "id": "c9cbee2b-c54d-49d6-b3d3-4777b0cbb853",
   "metadata": {},
   "outputs": [],
   "source": [
    "def read_fasta(path):\n",
    "    file = open(path)\n",
    "    lines = file.read().splitlines()\n",
    "    ids = [s[1:] for s in lines if '>' in s]\n",
    "    n = [i for i,s in enumerate(lines) if '>' in s]\n",
    "    n.append(len(lines))\n",
    "    sequences = [''.join(lines[i+1:j]) for i,j in zip(n[:-1],n[1:])]\n",
    "    file.close()\n",
    "    fa = dict(zip(ids, sequences))\n",
    "    return fa"
   ]
  },
  {
   "cell_type": "code",
   "execution_count": null,
   "id": "3f8152a6-c99c-4ae0-aa2e-5681940d5b3a",
   "metadata": {},
   "outputs": [],
   "source": [
    "def remove_intron(bed, fa):\n",
    "    '''\n",
    "    Remove introns for genes in given bed12 file \n",
    "    with blockSizes greater than 1\n",
    "    '''\n",
    "    # fa = read_fasta(fa)\n",
    "    # bed = pd.read_table(bed, header=0)\n",
    "    tochange = bed[bed.blockCount > 1]\n",
    "    starts = [tochange.blockStarts[i].split(',')[:tochange.blockCount[i]] for i in tochange.index.tolist() ]\n",
    "    sizes = [tochange.blockSizes[i].split(',')[:tochange.blockCount[i]] for i in tochange.index.tolist() ]\n",
    "    for id, x, l in zip(tochange.name.tolist(), starts, sizes):\n",
    "        fa[id] = ''.join([fa[id][int(i):int(i)+int(j)] for i,j in zip(x,l)])\n",
    "    return fa\n"
   ]
  },
  {
   "cell_type": "code",
   "execution_count": null,
   "id": "24d8de98-e28b-4ba9-a034-747e2b421b70",
   "metadata": {},
   "outputs": [],
   "source": [
    "def search_fasta(fa1,fa2):\n",
    "    return dict(\n",
    "        [((x,fa1[x]),(y,fa2[y])) for x in fa1 for y in fa2 if fa1[x] in fa2[y] ]\n",
    "    )\n",
    "        "
   ]
  },
  {
   "cell_type": "code",
   "execution_count": null,
   "id": "21c4775b-89e6-40ba-b8f1-ceb610a6db5a",
   "metadata": {},
   "outputs": [],
   "source": [
    "!zcat ~/genomes/hg38/gencode.v34/GRCh38.primary_assembly.genome.fa.gz \\\n",
    "> ~/genomes/hg38/gencode.v34/GRCh38.primary_assembly.genome.fa"
   ]
  },
  {
   "cell_type": "code",
   "execution_count": null,
   "id": "d080de01-0308-4c78-bc36-677e698445b5",
   "metadata": {},
   "outputs": [],
   "source": [
    "!which samtools"
   ]
  },
  {
   "cell_type": "code",
   "execution_count": null,
   "id": "429bab41-da97-46c2-830a-eec5ae357840",
   "metadata": {},
   "outputs": [],
   "source": [
    "!samtools faidx ~/genomes/hg38/gencode.v34/GRCh38.primary_assembly.genome.fa"
   ]
  },
  {
   "cell_type": "code",
   "execution_count": null,
   "id": "b5f7dfdd-fae7-4e85-8b3f-17709b03e91c",
   "metadata": {},
   "outputs": [],
   "source": [
    "!which bedtools"
   ]
  },
  {
   "cell_type": "code",
   "execution_count": null,
   "id": "cfd72545-0024-4500-b782-052c365ad84b",
   "metadata": {},
   "outputs": [],
   "source": [
    "%%bash \n",
    "bedtools getfasta -name -s -fi \\\n",
    "~/genomes/hg38/gencode.v34/GRCh38.primary_assembly.genome.fa \\\n",
    "-bed target-genes-sig-peaks.bed -split -fo target-genes-sig-peaks.fa"
   ]
  },
  {
   "cell_type": "code",
   "execution_count": null,
   "id": "4f37f01b-0d0c-4781-b9a1-7b30c1dc6969",
   "metadata": {},
   "outputs": [],
   "source": [
    "!cat target-genes-sig-peaks.fa"
   ]
  },
  {
   "cell_type": "code",
   "execution_count": null,
   "id": "adf4cdf9-f1a4-4550-94bb-c84f6297abc2",
   "metadata": {},
   "outputs": [],
   "source": [
    "# target_fa = read_fasta('target-genes.fa')\n",
    "target_fa = read_fasta('target-genes-sig-peaks.fa')\n",
    "\n",
    "# target_fa = dict([(key.split('::')[0]+'_peak'+str(i),target_fa[key]) for i,key in enumerate(target_fa)])"
   ]
  },
  {
   "cell_type": "code",
   "execution_count": null,
   "id": "feb777fb-19a0-44ee-9b4f-5489ba5ffd05",
   "metadata": {},
   "outputs": [],
   "source": [
    "target_fa"
   ]
  },
  {
   "cell_type": "code",
   "execution_count": null,
   "id": "0312c66c-4f78-47e8-85d1-5ce59b948ae5",
   "metadata": {},
   "outputs": [],
   "source": [
    "genome_fa = read_fasta(\n",
    "    '/data_gilbert/home/aarab/genomes/hg38/gencode.v34/gencode.v34.transcripts.fa'\n",
    ")"
   ]
  },
  {
   "cell_type": "code",
   "execution_count": null,
   "id": "b21e79ca-fed0-476c-aed4-4002a1a9c1f0",
   "metadata": {},
   "outputs": [],
   "source": [
    "o = search_fasta(target_fa,genome_fa)"
   ]
  },
  {
   "cell_type": "code",
   "execution_count": null,
   "id": "3257ac06-4b9f-4dd3-9be5-c2e007c5ea18",
   "metadata": {},
   "outputs": [],
   "source": [
    "target_id2name = {\n",
    "    \"ENSG00000185085.2\":\"INTS5\",\n",
    "    \"ENSG00000132382.14\":\"MYBBP1A\",\n",
    "    \"ENSG00000104549.12\":\"SQLE\",\n",
    "    \"ENSG00000171791.13\":\"BCL2\"\n",
    "}"
   ]
  },
  {
   "cell_type": "code",
   "execution_count": null,
   "id": "8b2b9233-76a9-4267-a2f6-b9d53cab5d86",
   "metadata": {},
   "outputs": [],
   "source": [
    "transcripts = dict(list({(\n",
    "    # target_id2name[o[peak][0].split('|')[1]], o[peak][1]\n",
    "    o[peak][0], o[peak][1]\n",
    ") for peak in o.keys()}))"
   ]
  },
  {
   "cell_type": "code",
   "execution_count": null,
   "id": "2e1e8e3c-149c-43bc-b677-afdb3ad6e9a5",
   "metadata": {},
   "outputs": [],
   "source": [
    "{(k,transcripts[k]) for k in transcripts if 'BCL2' in k}"
   ]
  },
  {
   "cell_type": "code",
   "execution_count": null,
   "id": "2b713a04-dbf1-44ea-92f1-250370b80472",
   "metadata": {},
   "outputs": [],
   "source": [
    "bed = pd.read_table('target-genes-sig-peaks.bed', header=0)\n",
    "\n",
    "[\n",
    "    remove_intron(\n",
    "        bed[bed.iloc[:,1] == int(peak.split('::')[1].split(':')[1].split('-')[0])],\n",
    "        {peak.split('::')[0]: target_fa[peak]}\n",
    "    )\n",
    "    for peak in target_fa\n",
    "]"
   ]
  },
  {
   "cell_type": "code",
   "execution_count": null,
   "id": "0611e4b5-e320-4760-9063-f869577d3e1f",
   "metadata": {},
   "outputs": [],
   "source": [
    "!date"
   ]
  }
 ],
 "metadata": {
  "kernelspec": {
   "display_name": "R [conda env:radar]",
   "language": "R",
   "name": "conda-env-radar-r"
  },
  "language_info": {
   "codemirror_mode": "r",
   "file_extension": ".r",
   "mimetype": "text/x-r-source",
   "name": "R",
   "pygments_lexer": "r",
   "version": "3.5.1"
  }
 },
 "nbformat": 4,
 "nbformat_minor": 5
}
