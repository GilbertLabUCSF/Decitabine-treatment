{
 "cells": [
  {
   "cell_type": "markdown",
   "id": "7e4c051c",
   "metadata": {
    "tags": []
   },
   "source": [
    "# iPAGE \n",
    "https://github.com/goodarzilab/PAGE  "
   ]
  },
  {
   "cell_type": "code",
   "execution_count": 1,
   "id": "2a8c35a4",
   "metadata": {},
   "outputs": [],
   "source": [
    "import pandas as pd "
   ]
  },
  {
   "cell_type": "code",
   "execution_count": 2,
   "id": "4a785c1f",
   "metadata": {},
   "outputs": [],
   "source": [
    "df = pd.read_csv('radar/result.all.txt',sep='\\t').loc[:,['name','logFC','p_value']]#.set_index('ensembl')"
   ]
  },
  {
   "cell_type": "markdown",
   "id": "4bd6d71e",
   "metadata": {},
   "source": [
    "https://github.com/goodarzilab/server_wiki/tree/main/lab_softwares"
   ]
  },
  {
   "cell_type": "code",
   "execution_count": 3,
   "id": "895f037b",
   "metadata": {},
   "outputs": [],
   "source": [
    "%reload_ext rpy2.ipython"
   ]
  },
  {
   "cell_type": "code",
   "execution_count": 4,
   "id": "200c7987",
   "metadata": {},
   "outputs": [],
   "source": [
    "%%R -i df -o data\n",
    "data = df\n",
    "data[['fdr']] <- sign(data[,'logFC'])*(1-data[,'p_value'])\n",
    "data <- data[!is.na(data$'fdr'), ]\n",
    "data <- data[, c('name', 'fdr','logFC','p_value')]"
   ]
  },
  {
   "cell_type": "markdown",
   "id": "c415bdd1-ffcb-468d-b23f-097f8be21553",
   "metadata": {},
   "source": [
    "Select max logFC for each gene "
   ]
  },
  {
   "cell_type": "code",
   "execution_count": 5,
   "id": "7b51881f",
   "metadata": {},
   "outputs": [
    {
     "name": "stdout",
     "output_type": "stream",
     "text": [
      "CPU times: user 20.4 s, sys: 54.3 ms, total: 20.5 s\n",
      "Wall time: 20.5 s\n"
     ]
    }
   ],
   "source": [
    "%%time \n",
    "data = data.iloc[[int(data[(data.name == gene)].logFC.idxmax()) for gene in set(data.name)],:]"
   ]
  },
  {
   "cell_type": "code",
   "execution_count": 7,
   "id": "47fd1bca",
   "metadata": {},
   "outputs": [],
   "source": [
    "# data.plot(x='logFC', y='fdr', kind='scatter')\n",
    "# data.plot(x='logFC', y='p_value', kind='scatter')\n",
    "# data.plot(x='fdr', y='p_value', kind='scatter')\n",
    "# plt.show()"
   ]
  },
  {
   "cell_type": "code",
   "execution_count": 33,
   "id": "61eef28b-a270-476f-9b51-0cf61a7a1fc5",
   "metadata": {},
   "outputs": [],
   "source": [
    "data[['name','fdr']].to_csv('hl60_delta_mtyl_fdr.txt',sep='\\t',index=None, header=None)\n",
    "data[['name','logFC']].to_csv('hl60_delta_mtyl.txt',sep='\\t',index=None, header=None)"
   ]
  },
  {
   "cell_type": "code",
   "execution_count": 7,
   "id": "4a134936",
   "metadata": {},
   "outputs": [],
   "source": [
    "%%bash \n",
    "export PAGEDIR=/data_gilbert/home/aarab/iPAGE\n",
    "\n",
    "touch ipage.out; rm ipage.out; touch ipage.out; \n",
    "\n",
    "nohup ls hl60_delta_mtyl.txt \\\n",
    "    | parallel -j8 -k bash ~/Projects/pager/ipage_loop.sh {} \\\n",
    "    &>> ipage.out & \n",
    "\n",
    "nohup ls hl60_delta_mtyl_fdr.txt \\\n",
    "    | parallel -j8 -k bash ~/Projects/pager/ipage_loop.sh {} \\\n",
    "    &>> ipage.out & "
   ]
  },
  {
   "cell_type": "code",
   "execution_count": null,
   "id": "2d9163c5-1751-4940-a3c4-91d8bed48833",
   "metadata": {},
   "outputs": [],
   "source": [
    "!cat ipage.out"
   ]
  },
  {
   "cell_type": "markdown",
   "id": "fa656b0f-65f5-49d1-85ab-6879b9f3d549",
   "metadata": {},
   "source": [
    "___\n",
    "# "
   ]
  },
  {
   "cell_type": "code",
   "execution_count": 1,
   "id": "ea5760ce-ff6b-4097-9929-e913cf0fb503",
   "metadata": {},
   "outputs": [],
   "source": [
    "import sys\n",
    "import pandas as pd \n",
    "import numpy as np\n",
    "from time import time \n",
    "from glob import glob\n",
    "# from itertools import chain\n",
    "# from functools import reduce\n",
    "# import matplotlib.pyplot as plt\n",
    "# from matplotlib.pyplot import subplots\n",
    "# from venn import venn\n",
    "\n",
    "pager_dir = '/data_gilbert/home/aarab/Projects/pager/'\n",
    "# pager_dir = '/rumi/shams/abe/Projects/ipage-down/'\n",
    "sys.path.append(pager_dir)\n",
    "\n",
    "import ipage_down as ipd"
   ]
  },
  {
   "cell_type": "code",
   "execution_count": 2,
   "id": "12ba01a5-77c4-4448-ac65-1a6c8f768eba",
   "metadata": {},
   "outputs": [],
   "source": [
    "def get_pvmatrix_list(parent_path,pattern):\n",
    "    \"\"\"\n",
    "    pattern: msigdb gene set cluster name \n",
    "    \"\"\"\n",
    "    return glob(f'{parent_path}/*{pattern}*/pvmatrix.txt')"
   ]
  },
  {
   "cell_type": "code",
   "execution_count": 3,
   "id": "7ba2bbda-23e2-4c79-a356-682310d5328b",
   "metadata": {},
   "outputs": [],
   "source": [
    "cols = pd.concat([\n",
    "    ipd.pvmat2bio_signal(ipd.merge_multiple_pvmat(\n",
    "        get_pvmatrix_list(\"hl60_delta_mtyl_fdr\",\"c2\")\n",
    "    ),s,n_clust=1) for s in ['up','both','down']\n",
    "]).columns"
   ]
  },
  {
   "cell_type": "code",
   "execution_count": 4,
   "id": "89066dac-2944-49ac-a5b9-b255bb937da8",
   "metadata": {},
   "outputs": [
    {
     "name": "stdout",
     "output_type": "stream",
     "text": [
      "removed ‘RNA-mtyl-geneset-enrichment-pvmatrix.txt’\n"
     ]
    }
   ],
   "source": [
    "pv_signal = pd.concat([\n",
    "    ipd.pvmat2bio_signal(ipd.merge_multiple_pvmat(\n",
    "        get_pvmatrix_list(\"hl60_delta_mtyl_fdr\",\"c2.cp.kegg\") + \\\n",
    "\n",
    "        get_pvmatrix_list(\"hl60_delta_mtyl\",\"c5.go.\") + \\\n",
    "        get_pvmatrix_list(\"hl60_delta_mtyl_fdr\",\"c5.go.\") #+ \\\n",
    "\n",
    "    ),s,n_clust=1) for s in ['up','both','down']\n",
    "])\n",
    "\n",
    "pv_signal.columns = cols\n",
    "pv_signal=pv_signal[~pv_signal.duplicated()]\n",
    "\n",
    "pv_signal.to_csv('RNA-mtyl-geneset-enrichment-pvmatrix.txt',sep='\\t')\n",
    "\n",
    "!bash {pager_dir}/ipage_draw_matrix.sh \\\n",
    "    'hl60_delta_mtyl.txt' \\\n",
    "    'RNA-mtyl-geneset-enrichment-pvmatrix.txt' \\\n",
    "    'RNA-mtyl-geneset-enrichment-GOandKEGG.pdf' &> /dev/null\n",
    "\n",
    "!rm -v 'RNA-mtyl-geneset-enrichment-pvmatrix.txt'"
   ]
  },
  {
   "cell_type": "code",
   "execution_count": 5,
   "id": "744606cf-6dbb-44a8-ac45-55d0d67ea143",
   "metadata": {},
   "outputs": [
    {
     "name": "stdout",
     "output_type": "stream",
     "text": [
      "removed ‘RNA-mtyl-geneset-enrichment-pvmatrix.txt’\n"
     ]
    }
   ],
   "source": [
    "pv_signal = pd.concat([\n",
    "    ipd.pvmat2bio_signal(ipd.merge_multiple_pvmat(\n",
    "        get_pvmatrix_list(\"hl60_delta_mtyl\",\"c5.go.\") + \\\n",
    "        get_pvmatrix_list(\"hl60_delta_mtyl_fdr\",\"c5.go.\") #+ \\\n",
    "\n",
    "    ),s,n_clust=1) for s in ['up','both','down']\n",
    "])\n",
    "\n",
    "pv_signal.columns = cols\n",
    "pv_signal=pv_signal[~pv_signal.duplicated()]\n",
    "\n",
    "pv_signal.to_csv('RNA-mtyl-geneset-enrichment-pvmatrix.txt',sep='\\t')\n",
    "\n",
    "!bash {pager_dir}/ipage_draw_matrix.sh \\\n",
    "    'hl60_delta_mtyl.txt' \\\n",
    "    'RNA-mtyl-geneset-enrichment-pvmatrix.txt' \\\n",
    "    'RNA-mtyl-geneset-enrichment-GO.pdf' &> /dev/null\n",
    "\n",
    "!rm -v 'RNA-mtyl-geneset-enrichment-pvmatrix.txt'"
   ]
  },
  {
   "cell_type": "code",
   "execution_count": 149,
   "id": "ee33457a-9cff-42ba-a148-ba02be282db1",
   "metadata": {},
   "outputs": [
    {
     "name": "stdout",
     "output_type": "stream",
     "text": [
      "removed ‘RNA-mtyl-geneset-enrichment-pvmatrix.txt’\n"
     ]
    }
   ],
   "source": [
    "pv_signal = pd.concat([\n",
    "    ipd.pvmat2bio_signal(ipd.merge_multiple_pvmat(\n",
    "        get_pvmatrix_list(\"hl60_delta_mtyl\",\"c3.mir\") + \\\n",
    "        get_pvmatrix_list(\"hl60_delta_mtyl_fdr\",\"c3.mir\")\n",
    "    ),s,n_clust=1) for s in ['up','both','down']\n",
    "])\n",
    "\n",
    "pv_signal.columns = cols\n",
    "pv_signal=pv_signal[~pv_signal.duplicated()]\n",
    "\n",
    "pv_signal.to_csv('RNA-mtyl-geneset-enrichment-pvmatrix.txt',sep='\\t')\n",
    "\n",
    "!bash {pager_dir}/ipage_draw_matrix.sh \\\n",
    "    'hl60_delta_mtyl.txt' \\\n",
    "    'RNA-mtyl-geneset-enrichment-pvmatrix.txt' \\\n",
    "    'RNA-mtyl-geneset-enrichment-miR.pdf' &> /dev/null\n",
    "\n",
    "!rm -v 'RNA-mtyl-geneset-enrichment-pvmatrix.txt'"
   ]
  },
  {
   "cell_type": "code",
   "execution_count": 150,
   "id": "682fd615-475b-4c70-bce7-9594d3c65b61",
   "metadata": {},
   "outputs": [
    {
     "name": "stdout",
     "output_type": "stream",
     "text": [
      "removed ‘RNA-mtyl-geneset-enrichment-pvmatrix.txt’\n"
     ]
    }
   ],
   "source": [
    "pv_signal = pd.concat([\n",
    "    ipd.pvmat2bio_signal(ipd.merge_multiple_pvmat(\n",
    "        get_pvmatrix_list(\"hl60_delta_mtyl\",\"c1\") + \\\n",
    "        get_pvmatrix_list(\"hl60_delta_mtyl_fdr\",\"c1\")\n",
    "    ),s,n_clust=1) for s in ['up','both','down']\n",
    "])\n",
    "\n",
    "pv_signal.columns = cols\n",
    "pv_signal=pv_signal[~pv_signal.duplicated()]\n",
    "\n",
    "pv_signal.to_csv('RNA-mtyl-geneset-enrichment-pvmatrix.txt',sep='\\t')\n",
    "\n",
    "!bash {pager_dir}/ipage_draw_matrix.sh \\\n",
    "    'hl60_delta_mtyl.txt' \\\n",
    "    'RNA-mtyl-geneset-enrichment-pvmatrix.txt' \\\n",
    "    'RNA-mtyl-geneset-enrichment-Chr.pdf' &> /dev/null\n",
    "\n",
    "!rm -v 'RNA-mtyl-geneset-enrichment-pvmatrix.txt'"
   ]
  },
  {
   "cell_type": "markdown",
   "id": "9fa20b45-e122-4c35-b56c-2b684103df20",
   "metadata": {
    "tags": []
   },
   "source": [
    "### GOBP_HISTONE_H3_K36_METHYLATION"
   ]
  },
  {
   "cell_type": "code",
   "execution_count": 6,
   "id": "20a7d98c-4ab2-4908-be10-a59ad7947c8e",
   "metadata": {},
   "outputs": [
    {
     "data": {
      "text/plain": [
       "['hl60_delta_mtyl_fdr/msigdb_v7.4_c5.go/pvmatrix.txt',\n",
       " 'hl60_delta_mtyl_fdr/msigdb_v7.4_c5.go.bp/pvmatrix.txt',\n",
       " 'hl60_delta_mtyl_fdr/msigdb_v7.4_c5.all/pvmatrix.txt']"
      ]
     },
     "execution_count": 6,
     "metadata": {},
     "output_type": "execute_result"
    }
   ],
   "source": [
    "ipd.detect_gs_cluster(get_pvmatrix_list(\"hl60_delta_mtyl_fdr\",\"c\"),\"GOBP_HISTONE_H3_K36_METHYLATION\")"
   ]
  },
  {
   "cell_type": "code",
   "execution_count": 7,
   "id": "231176be-4e8b-4da6-89d6-ec94ce50ac7c",
   "metadata": {},
   "outputs": [
    {
     "data": {
      "text/plain": [
       "['SETD5', 'SETMAR', 'BCOR', 'NSD2', 'SETD2', 'PAXIP1', 'NSD1', 'ASH1L', 'BRD4']"
      ]
     },
     "execution_count": 7,
     "metadata": {},
     "output_type": "execute_result"
    }
   ],
   "source": [
    "[gene for clust in ['8','9','10'] for gene in list(ipd.bin_identifier_genes(\n",
    "    \"hl60_delta_mtyl_fdr/msigdb_v7.4_c5.go.bp\",clust,'GOBP_HISTONE_H3_K36_METHYLATION'\n",
    ").values())[0]]"
   ]
  },
  {
   "cell_type": "markdown",
   "id": "56c91c2c-2ace-40cc-8404-ed034062d8c2",
   "metadata": {
    "tags": []
   },
   "source": [
    "### KEGG_LYSINE_DEGRADATION"
   ]
  },
  {
   "cell_type": "code",
   "execution_count": 8,
   "id": "9aed78c6-b601-40c9-98bb-d6d53baeb547",
   "metadata": {},
   "outputs": [
    {
     "data": {
      "text/plain": [
       "['hl60_delta_mtyl_fdr/msigdb_v7.4_c2.cp.kegg/pvmatrix.txt']"
      ]
     },
     "execution_count": 8,
     "metadata": {},
     "output_type": "execute_result"
    }
   ],
   "source": [
    "ipd.detect_gs_cluster(get_pvmatrix_list(\"hl60_delta_mtyl_fdr\",\"c\"),\"KEGG_LYSINE_DEGRADATION\")"
   ]
  },
  {
   "cell_type": "code",
   "execution_count": 9,
   "id": "ce8f3c41-2f92-4d0a-acdf-91195b5db670",
   "metadata": {},
   "outputs": [
    {
     "data": {
      "text/plain": [
       "['DOT1L',\n",
       " 'KMT5A',\n",
       " 'OGDH',\n",
       " 'SETMAR',\n",
       " 'GCDH',\n",
       " 'SETDB2',\n",
       " 'KMT5B',\n",
       " 'ALDH1B1',\n",
       " 'SETD1B',\n",
       " 'ECHS1',\n",
       " 'NSD2',\n",
       " 'SETD2',\n",
       " 'NSD1',\n",
       " 'SETD1A',\n",
       " 'ASH1L',\n",
       " 'EHMT1']"
      ]
     },
     "execution_count": 9,
     "metadata": {},
     "output_type": "execute_result"
    }
   ],
   "source": [
    "[gene for clust in ['8','9','10'] for gene in list(ipd.bin_identifier_genes(\n",
    "    \"hl60_delta_mtyl_fdr/msigdb_v7.4_c2.cp.kegg\",clust,'KEGG_LYSINE_DEGRADATION'\n",
    ").values())[0]]"
   ]
  },
  {
   "cell_type": "markdown",
   "id": "9ac87604-76e2-4b1e-a905-18677a67f9dd",
   "metadata": {},
   "source": [
    "___\n",
    "# "
   ]
  },
  {
   "cell_type": "code",
   "execution_count": 37,
   "id": "e199fac0-65d4-44b5-b94e-7f0980cc91f0",
   "metadata": {},
   "outputs": [
    {
     "name": "stdout",
     "output_type": "stream",
     "text": [
      "Mon Jan  3 15:13:38 PST 2022\n"
     ]
    }
   ],
   "source": [
    "!date"
   ]
  }
 ],
 "metadata": {
  "kernelspec": {
   "display_name": "Python [conda env:down]",
   "language": "python",
   "name": "conda-env-down-py"
  },
  "language_info": {
   "codemirror_mode": {
    "name": "ipython",
    "version": 3
   },
   "file_extension": ".py",
   "mimetype": "text/x-python",
   "name": "python",
   "nbconvert_exporter": "python",
   "pygments_lexer": "ipython3",
   "version": "3.6.13"
  }
 },
 "nbformat": 4,
 "nbformat_minor": 5
}
