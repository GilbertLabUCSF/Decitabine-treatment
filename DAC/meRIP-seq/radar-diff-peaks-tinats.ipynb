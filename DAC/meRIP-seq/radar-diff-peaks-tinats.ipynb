{
 "cells": [
  {
   "cell_type": "markdown",
   "metadata": {},
   "source": [
    "We aim to use `RADAR` to do differential analysis of m6A peaks. I'm starting from `fastq` raw data to align them using `STAR`; then I will use `bam` files to run `RADAR` and explore the results for downstream analysis.\n",
    "\n",
    "I needed to re-build `STAR` indices as I've described in my notebook at `genomes/build-genome.ipynb` (see my GitHub repo). "
   ]
  },
  {
   "cell_type": "markdown",
   "metadata": {
    "tags": []
   },
   "source": [
    "# Alignment task - Running `STAR`"
   ]
  },
  {
   "cell_type": "markdown",
   "metadata": {},
   "source": [
    "https://hbctraining.github.io/Intro-to-rnaseq-hpc-O2/lessons/03_alignment.html"
   ]
  },
  {
   "cell_type": "code",
   "execution_count": 14,
   "metadata": {},
   "outputs": [],
   "source": [
    "# STAR --runThreadN 6 \\\n",
    "#     --runMode genomeGenerate \\\n",
    "#     --genomeDir STAR.index \\\n",
    "#     --genomeFastaFiles GRCh37.primary_assembly.genome.fa \\\n",
    "#     --sjdbGTFfile DAC_GRCh37_merged.gtf \\\n",
    "#     --sjdbOverhang 99"
   ]
  },
  {
   "cell_type": "code",
   "execution_count": 4,
   "metadata": {
    "tags": []
   },
   "outputs": [
    {
     "name": "stdout",
     "output_type": "stream",
     "text": [
      "index=$1\n",
      "bamDIR=$2\n",
      "\n",
      "mkdir -p ${bamDIR}\n",
      "mkdir -p ${bamDIR}_star_qc\n",
      "\n",
      "STAR --genomeLoad LoadAndExit --genomeDir $index\n",
      "\n",
      "for fq in fastq/*R1*; do\n",
      "    fq=`basename $fq`\n",
      "    echo '------------' $fq '-----------'\n",
      "    out=${fq/_R1*/}\n",
      "    STAR \\\n",
      "    --outSAMtype BAM SortedByCoordinate \\\n",
      "    --readFilesCommand zcat \\\n",
      "    --runThreadN 18 \\\n",
      "    --genomeDir $index \\\n",
      "    --readFilesIn fastq/$fq \\\n",
      "    --outFileNamePrefix ${bamDIR}/$out\n",
      "done\n",
      "\n",
      "STAR --genomeLoad Remove --genomeDir $index\n",
      "\n",
      "rm -vr _STARtmp/ Aligned.out.sam Log.out Log.progress.out\n"
     ]
    }
   ],
   "source": [
    "cat star.sh"
   ]
  },
  {
   "cell_type": "code",
   "execution_count": 1,
   "metadata": {},
   "outputs": [
    {
     "name": "stdout",
     "output_type": "stream",
     "text": [
      "/rumi/shams/abe/anaconda3/envs/alignment/bin/STAR\n"
     ]
    }
   ],
   "source": [
    "!which STAR"
   ]
  },
  {
   "cell_type": "code",
   "execution_count": 6,
   "metadata": {
    "tags": []
   },
   "outputs": [],
   "source": [
    "# !bash star.sh ../scallop-genome/STAR.index bam_scallop"
   ]
  },
  {
   "cell_type": "markdown",
   "metadata": {
    "tags": []
   },
   "source": [
    "# Peak calling task - Running `RADAR`\n",
    "\n",
    "https://scottzijiezhang.github.io/RADARmanual/workflow.html"
   ]
  },
  {
   "cell_type": "code",
   "execution_count": 2,
   "metadata": {},
   "outputs": [],
   "source": [
    "!mkdir radar_scallop"
   ]
  },
  {
   "cell_type": "code",
   "execution_count": null,
   "metadata": {},
   "outputs": [],
   "source": [
    "# %load_ext rpy2.ipython"
   ]
  },
  {
   "cell_type": "code",
   "execution_count": 1,
   "metadata": {
    "tags": []
   },
   "outputs": [],
   "source": [
    "# %%R \n",
    "suppressMessages(suppressWarnings(library (RADAR)))"
   ]
  },
  {
   "cell_type": "code",
   "execution_count": 2,
   "metadata": {
    "tags": []
   },
   "outputs": [],
   "source": [
    "GTF = '../../scallop-genome/DAC_GRCh37_merged.gtf'"
   ]
  },
  {
   "cell_type": "markdown",
   "metadata": {
    "tags": []
   },
   "source": [
    "### 1. load `bam` files and make `MeRIP.RADAR` object\n",
    "I'll save the object for later usage while it takes long time to generate. "
   ]
  },
  {
   "cell_type": "code",
   "execution_count": 4,
   "metadata": {
    "tags": []
   },
   "outputs": [
    {
     "name": "stdout",
     "output_type": "stream",
     "text": [
      "[1] \"Stage: index bam file ./align/bam_scallop//U1.input.bam\"\n",
      "[1] \"Stage: index bam file ./align/bam_scallop//U1.m6A.bam\"\n",
      "[1] \"Stage: index bam file ./align/bam_scallop//U2.input.bam\"\n",
      "[1] \"Stage: index bam file ./align/bam_scallop//U2.m6A.bam\"\n",
      "[1] \"Stage: index bam file ./align/bam_scallop//T1.input.bam\"\n",
      "[1] \"Stage: index bam file ./align/bam_scallop//T1.m6A.bam\"\n",
      "[1] \"Stage: index bam file ./align/bam_scallop//T2.input.bam\"\n",
      "[1] \"Stage: index bam file ./align/bam_scallop//T2.m6A.bam\"\n",
      "Reading gtf file to obtain gene model\n",
      "Filter out ambiguous model...\n"
     ]
    },
    {
     "name": "stderr",
     "output_type": "stream",
     "text": [
      "Import genomic features from the file as a GRanges object ... \n",
      "OK\n",
      "\n",
      "Prepare the 'metadata' data frame ... \n",
      "OK\n",
      "\n",
      "Make the TxDb object ... \n",
      "OK\n",
      "\n"
     ]
    },
    {
     "name": "stdout",
     "output_type": "stream",
     "text": [
      "Gene model obtained from gtf file...\n",
      "counting reads for each genes, this step may takes a few hours....\n",
      "Hyper-thread registered: TRUE \n",
      "Using 30 thread(s) to count reads in continuous bins...\n",
      "Time used to count reads: 15.0573156754176 mins... \n"
     ]
    }
   ],
   "source": [
    "# %%R \n",
    "radar <- countReads(\n",
    "\tsamplenames=c('U1','U2','T1','T2'), \n",
    "    annotation = GTF,\n",
    "\tbamFolder='./align/bam_scallop/',modification = \"m6A\", \n",
    "    strandToKeep = \"opposite\",\n",
    "    outputDir='radar_scallop', \n",
    "    threads = 30\n",
    ") "
   ]
  },
  {
   "cell_type": "code",
   "execution_count": 5,
   "metadata": {
    "tags": []
   },
   "outputs": [],
   "source": [
    "# %%R \n",
    "saveRDS(radar, 'radar_scallop/rawObj.rds')"
   ]
  },
  {
   "cell_type": "code",
   "execution_count": 6,
   "metadata": {
    "tags": []
   },
   "outputs": [
    {
     "name": "stdout",
     "output_type": "stream",
     "text": [
      "MeRIP dataset of 4 samples.\n",
      "Read count quantified in 50-bp consecutive bins on the transcript.\n",
      "The total read count for Input and IP samples are (Million reads):\n",
      "         U1    U2    T1    T2\n",
      "Input 21.71 26.67 23.38 21.27\n",
      "IP    34.08 32.36 38.46 39.72\n"
     ]
    }
   ],
   "source": [
    "# %%R \n",
    "summary(radar)"
   ]
  },
  {
   "cell_type": "markdown",
   "metadata": {
    "tags": []
   },
   "source": [
    "___\n",
    "\n",
    "### 2. Running RADAR pre processing commands \n",
    "https://scottzijiezhang.github.io/RADARmanual/Mannual.html\n",
    "\n",
    "Final object after this step also saved into `radar/finalObj.rds`."
   ]
  },
  {
   "cell_type": "code",
   "execution_count": 7,
   "metadata": {
    "tags": []
   },
   "outputs": [],
   "source": [
    "# %reload_ext rpy2.ipython"
   ]
  },
  {
   "cell_type": "code",
   "execution_count": 1,
   "metadata": {},
   "outputs": [],
   "source": [
    "# %%R \n",
    "suppressMessages(suppressWarnings(library (RADAR)))"
   ]
  },
  {
   "cell_type": "code",
   "execution_count": 9,
   "metadata": {
    "tags": []
   },
   "outputs": [],
   "source": [
    "radar0 <- readRDS('radar_scallop/rawObj.rds')"
   ]
  },
  {
   "cell_type": "code",
   "execution_count": 10,
   "metadata": {
    "tags": []
   },
   "outputs": [],
   "source": [
    "radar0 <- normalizeLibrary(radar0, boxPlot=0)"
   ]
  },
  {
   "cell_type": "code",
   "execution_count": 11,
   "metadata": {
    "tags": []
   },
   "outputs": [
    {
     "name": "stdout",
     "output_type": "stream",
     "text": [
      "Adjusting expression level using Input geneSum read count...\n"
     ]
    }
   ],
   "source": [
    "radar0 <- adjustExprLevel(radar0)\n",
    "# radar <- adjustExprLevel(radar, adjustBy = \"pos\")\n",
    "\n",
    "# If you expect intensive alternative splicing events cross the experimental groups, \n",
    "# using gene-level read counts to represent pre-IP RNA level could leads to bias. \n",
    "# Therefore, the user can also choose to use the local bin-level read count to adjust \n",
    "# the pre-IP RNA level variation\n",
    "\n",
    "variable(radar0) <- data.frame( group = c(rep(\"Untreated\",2),rep(\"Treated\",2)))"
   ]
  },
  {
   "cell_type": "code",
   "execution_count": 12,
   "metadata": {
    "tags": []
   },
   "outputs": [
    {
     "name": "stdout",
     "output_type": "stream",
     "text": [
      "Filtering bins with low read counts...\n",
      "Bins with average counts lower than  0  in both groups have been removed...\n",
      "Filtering bins that is enriched in IP experiment...The predictor variable has been converted:\n",
      "Untreated Untreated   Treated   Treated \n",
      "        0         0         1         1 \n",
      "running PoissonGamma test at single beta mode\n",
      "Hyper-thread registered: TRUE \n",
      "Using 30 thread(s) to run PoissonGamma test...\n",
      "Time used to run PoissonGamma test: 0.809651660919189 mins... \n",
      "\n"
     ]
    }
   ],
   "source": [
    "radar0 <- filterBins(radar0,minCountsCutOff = 0)\n",
    "\n",
    "radar0 <- diffIP_parallel(radar0,thread = 30)\n",
    "saveRDS(radar0, 'radar_scallop/finalObj.rds')"
   ]
  },
  {
   "cell_type": "markdown",
   "metadata": {
    "tags": []
   },
   "source": [
    "### 4. Get results and select significant bins\n",
    "\n",
    "Results for all data (no filtering):"
   ]
  },
  {
   "cell_type": "code",
   "execution_count": 13,
   "metadata": {
    "tags": []
   },
   "outputs": [],
   "source": [
    "# %%R \n",
    "# radar0 <- readRDS('radar_scallop/finalObj.rds')"
   ]
  },
  {
   "cell_type": "code",
   "execution_count": 14,
   "metadata": {
    "tags": []
   },
   "outputs": [
    {
     "name": "stdout",
     "output_type": "stream",
     "text": [
      "Hyper-thread registered: TRUE \n",
      "Using 18 thread(s) to report merged report...\n",
      "Time used to report peaks: 4.74480501413345 mins... \n",
      "When merging neighboring significant bins, logFC was reported as the max logFC among these bins.\n",
      "p-value of these bins were combined by Fisher's method.\n",
      "There are 41143 reported differential loci at FDR < 1.1 and logFoldChange > 0.\n"
     ]
    }
   ],
   "source": [
    "radar_all <- reportResult(radar0, cutoff = 1.1, Beta_cutoff = 0.00, threads=18)\n",
    "\n",
    "result_all <- results(radar_all)\n",
    "rm(radar0)"
   ]
  },
  {
   "cell_type": "markdown",
   "metadata": {},
   "source": [
    "> Due to the resolution of the MeRIP-seq experiment where RNA molecules are fragmented into 100-300nt, neighboring bins can usually contain reads from the same locus. Therefore, we do a post-processing to merge significant neighboring bins after the test to obtain a final list of differential peaks. We merge the p-value of connecting bins by fisher’s method and report the max beta from neighbouring bins.\n",
    "\n",
    "Here, we use FDR<0.1 and log fold change > 0.5 as default cutoff for selecting significant bins"
   ]
  },
  {
   "cell_type": "code",
   "execution_count": 22,
   "metadata": {
    "tags": []
   },
   "outputs": [],
   "source": [
    "radar0 <- readRDS('radar_scallop/finalObj.rds')"
   ]
  },
  {
   "cell_type": "code",
   "execution_count": 23,
   "metadata": {
    "tags": []
   },
   "outputs": [
    {
     "name": "stdout",
     "output_type": "stream",
     "text": [
      "Hyper-thread registered: TRUE \n",
      "Using 18 thread(s) to report merged report...\n",
      "Time used to report peaks: 0.711121610800425 mins... \n",
      "When merging neighboring significant bins, logFC was reported as the max logFC among these bins.\n",
      "p-value of these bins were combined by Fisher's method.\n",
      "There are 4144 reported differential loci at FDR < 0.1 and logFoldChange > 0.5.\n"
     ]
    }
   ],
   "source": [
    "radar_sig <- reportResult(radar0, cutoff = 0.10, Beta_cutoff = 0.5, threads=18)\n",
    "\n",
    "result_sig = results(radar_sig) \n",
    "rm(radar0)"
   ]
  },
  {
   "cell_type": "markdown",
   "metadata": {
    "tags": []
   },
   "source": [
    "### 5. Plots\n",
    "#### Pre processing plots\n",
    "\n",
    "Below command normalize the library and make box plots. I'll save the plots into files."
   ]
  },
  {
   "cell_type": "code",
   "execution_count": 24,
   "metadata": {
    "tags": []
   },
   "outputs": [],
   "source": [
    "# %%R\n",
    "# ## save pictures \n",
    "# pdf('radar_scallop/plots/boxPlot.pdf')\n",
    "# radar <- normalizeLibrary(radar0)\n",
    "# dev.off()\n",
    "# png('plots/boxPlot.png')\n",
    "# radar <- normalizeLibrary(radar0)\n",
    "# dev.off()"
   ]
  },
  {
   "cell_type": "code",
   "execution_count": 25,
   "metadata": {
    "tags": []
   },
   "outputs": [
    {
     "name": "stdout",
     "output_type": "stream",
     "text": [
      "MeRIP.RADAR dataset of 4 samples.\n",
      "Read count quantified in 50-bp consecutive bins on the transcript.\n",
      "The total read count for Input and IP samples are (Million reads):\n",
      "         U1    U2    T1    T2\n",
      "Input 21.71 26.67 23.38 21.27\n",
      "IP    34.08 32.36 38.46 39.72\n",
      "Input gene level read count available.\n",
      "There are 1 predictor variables/covariates. Can access by function variable(MeRIPdata). \n",
      "Differential methylation tested by PoissonGamma test (RADAR).\n",
      "Multiple test corrected by Benjamini & Hochberg.\n",
      "Neighboring significant bins merged. There are 4144 reported differential loci at FDR < 0.1 and logFoldChange > 0.5.\n"
     ]
    }
   ],
   "source": [
    "summary(radar_sig)"
   ]
  },
  {
   "cell_type": "code",
   "execution_count": 26,
   "metadata": {
    "tags": []
   },
   "outputs": [
    {
     "name": "stdout",
     "output_type": "stream",
     "text": [
      "Plot heat map for differential loci at FDR < 0.1 and logFoldChange > 0.5.\n",
      "Returning normalized and expression level adjusted IP read counts.\n"
     ]
    },
    {
     "data": {
      "image/png": "[encoded data removed]",
      "text/plain": [
       "Plot with title “Color Key\n",
       "and Histogram”"
      ]
     },
     "metadata": {
      "image/png": {
       "height": 420,
       "width": 420
      },
      "text/plain": {
       "height": 420,
       "width": 420
      }
     },
     "output_type": "display_data"
    }
   ],
   "source": [
    "# %%R \n",
    "plotHeatMap(radar_sig)"
   ]
  },
  {
   "cell_type": "code",
   "execution_count": 27,
   "metadata": {
    "tags": []
   },
   "outputs": [
    {
     "name": "stdout",
     "output_type": "stream",
     "text": [
      "There are 4144 reported differential loci at FDR < 0.1 and logFoldChange > 0.5.\n"
     ]
    },
    {
     "name": "stderr",
     "output_type": "stream",
     "text": [
      "Import genomic features from the file as a GRanges object ... \n",
      "OK\n",
      "\n",
      "Prepare the 'metadata' data frame ... \n",
      "OK\n",
      "\n",
      "Make the TxDb object ... \n",
      "OK\n",
      "\n"
     ]
    },
    {
     "data": {
      "image/png": "[encoded data removed]",
      "text/plain": [
       "plot without title"
      ]
     },
     "metadata": {
      "image/png": {
       "height": 420,
       "width": 420
      },
      "text/plain": {
       "height": 420,
       "width": 420
      }
     },
     "output_type": "display_data"
    }
   ],
   "source": [
    "# %%R \n",
    "peakDistribution(radar_sig)"
   ]
  },
  {
   "cell_type": "markdown",
   "metadata": {
    "tags": []
   },
   "source": [
    "___\n",
    "## Save results into files"
   ]
  },
  {
   "cell_type": "code",
   "execution_count": 28,
   "metadata": {
    "tags": []
   },
   "outputs": [],
   "source": [
    "# %%R \n",
    "suppressMessages(suppressWarnings(library (tidyverse)))"
   ]
  },
  {
   "cell_type": "code",
   "execution_count": 29,
   "metadata": {
    "tags": []
   },
   "outputs": [
    {
     "data": {
      "text/html": [
       "'../../scallop-genome/DAC_GRCh37_merged.gtf'"
      ],
      "text/latex": [
       "'../../scallop-genome/DAC\\_GRCh37\\_merged.gtf'"
      ],
      "text/markdown": [
       "'../../scallop-genome/DAC_GRCh37_merged.gtf'"
      ],
      "text/plain": [
       "[1] \"../../scallop-genome/DAC_GRCh37_merged.gtf\""
      ]
     },
     "metadata": {},
     "output_type": "display_data"
    }
   ],
   "source": [
    "GTF"
   ]
  },
  {
   "cell_type": "code",
   "execution_count": 30,
   "metadata": {
    "tags": []
   },
   "outputs": [],
   "source": [
    "# %%R \n",
    "gtf <- rtracklayer::import(GTF)\n",
    "\n",
    "# gene2name <- gtf[gtf$type == \"gene\"] %>% data.frame %>% column_to_rownames('gene_id') %>% dplyr::select('gene_name')\n",
    "# message ('-> GTF loaded!')\n",
    "\n",
    "# add_Name <- function(res, gene2name){\n",
    "#     res$ensembl <- res$name %>% as.character\n",
    "#     res$name <- gene2name[res$ensembl %>% as.character,]\n",
    "#     return (res)\n",
    "# }"
   ]
  },
  {
   "cell_type": "code",
   "execution_count": 37,
   "metadata": {
    "tags": []
   },
   "outputs": [],
   "source": [
    "# result_sig %>% filter(grepl('DAC',name))"
   ]
  },
  {
   "cell_type": "code",
   "execution_count": 38,
   "metadata": {
    "tags": []
   },
   "outputs": [
    {
     "data": {
      "text/html": [
       "<table>\n",
       "<caption>A data.frame: 19 × 14</caption>\n",
       "<thead>\n",
       "\t<tr><th scope=col>chr</th><th scope=col>start</th><th scope=col>end</th><th scope=col>name</th><th scope=col>score</th><th scope=col>strand</th><th scope=col>thickStart</th><th scope=col>thickEnd</th><th scope=col>itemRgb</th><th scope=col>blockCount</th><th scope=col>blockSizes</th><th scope=col>blockStarts</th><th scope=col>logFC</th><th scope=col>p_value</th></tr>\n",
       "\t<tr><th scope=col>&lt;fct&gt;</th><th scope=col>&lt;dbl&gt;</th><th scope=col>&lt;dbl&gt;</th><th scope=col>&lt;fct&gt;</th><th scope=col>&lt;dbl&gt;</th><th scope=col>&lt;fct&gt;</th><th scope=col>&lt;dbl&gt;</th><th scope=col>&lt;dbl&gt;</th><th scope=col>&lt;dbl&gt;</th><th scope=col>&lt;int&gt;</th><th scope=col>&lt;fct&gt;</th><th scope=col>&lt;fct&gt;</th><th scope=col>&lt;dbl&gt;</th><th scope=col>&lt;dbl&gt;</th></tr>\n",
       "</thead>\n",
       "<tbody>\n",
       "\t<tr><td>chr1 </td><td> 85718376</td><td> 85724246</td><td>DAC.12-x1-0 </td><td>0</td><td>-</td><td> 85718376</td><td> 85724246</td><td>0</td><td>2</td><td>10,40  </td><td>0,5831       </td><td> 0.03138160</td><td>0.9502750878</td></tr>\n",
       "\t<tr><td>chr1 </td><td> 85724297</td><td> 85724346</td><td>DAC.12-x1-0 </td><td>0</td><td>-</td><td> 85724297</td><td> 85724346</td><td>0</td><td>1</td><td>50     </td><td>0            </td><td> 2.25129180</td><td>0.1864916032</td></tr>\n",
       "\t<tr><td>chr7 </td><td> 23340604</td><td> 23347503</td><td>DAC.157-x1-0</td><td>0</td><td>+</td><td> 23340604</td><td> 23347503</td><td>0</td><td>2</td><td>33,17  </td><td>0,6883       </td><td>-0.08961216</td><td>0.9680716636</td></tr>\n",
       "\t<tr><td>chr8 </td><td>142146634</td><td>142146683</td><td>DAC.198-x1-0</td><td>0</td><td>+</td><td>142146634</td><td>142146683</td><td>0</td><td>1</td><td>50     </td><td>0            </td><td>-0.99212880</td><td>0.4989123692</td></tr>\n",
       "\t<tr><td>chr9 </td><td> 74586496</td><td> 74587618</td><td>DAC.204-x1-0</td><td>0</td><td>+</td><td> 74586496</td><td> 74587618</td><td>0</td><td>2</td><td>39,11  </td><td>0,1112       </td><td>-3.80666249</td><td>0.1681170576</td></tr>\n",
       "\t<tr><td>chr11</td><td> 65306424</td><td> 65306473</td><td>DAC.222-x1-0</td><td>0</td><td>-</td><td> 65306424</td><td> 65306473</td><td>0</td><td>1</td><td>50     </td><td>0            </td><td>-2.18953223</td><td>0.4515358915</td></tr>\n",
       "\t<tr><td>chr11</td><td>110171085</td><td>110171134</td><td>DAC.223-x1-0</td><td>0</td><td>-</td><td>110171085</td><td>110171134</td><td>0</td><td>1</td><td>50     </td><td>0            </td><td>-1.38629436</td><td>0.2881648875</td></tr>\n",
       "\t<tr><td>chr12</td><td>  1192346</td><td>  1192695</td><td>DAC.230-x1-0</td><td>0</td><td>+</td><td>  1192346</td><td>  1192695</td><td>0</td><td>1</td><td>350    </td><td>0            </td><td> 1.34013232</td><td>0.0004329188</td></tr>\n",
       "\t<tr><td>chr12</td><td>  1192746</td><td>  1219431</td><td>DAC.230-x1-0</td><td>0</td><td>+</td><td>  1192746</td><td>  1219431</td><td>0</td><td>3</td><td>1,75,74</td><td>0,21170,26612</td><td> 1.65490028</td><td>0.4220921244</td></tr>\n",
       "\t<tr><td>chr12</td><td>  1225166</td><td>  1250851</td><td>DAC.230-x1-0</td><td>0</td><td>+</td><td>  1225166</td><td>  1250851</td><td>0</td><td>2</td><td>34,66  </td><td>0,25620      </td><td>-2.48181545</td><td>0.2796766415</td></tr>\n",
       "\t<tr><td>chr13</td><td> 27787052</td><td> 27787101</td><td>DAC.252-x1-0</td><td>0</td><td>+</td><td> 27787052</td><td> 27787101</td><td>0</td><td>1</td><td>50     </td><td>0            </td><td> 2.63905733</td><td>0.0711850789</td></tr>\n",
       "\t<tr><td>chr13</td><td> 27787152</td><td> 27787251</td><td>DAC.252-x1-0</td><td>0</td><td>+</td><td> 27787152</td><td> 27787251</td><td>0</td><td>1</td><td>100    </td><td>0            </td><td> 1.17104213</td><td>0.7150052288</td></tr>\n",
       "\t<tr><td>chr13</td><td> 27787302</td><td> 27793544</td><td>DAC.252-x1-0</td><td>0</td><td>+</td><td> 27787302</td><td> 27793544</td><td>0</td><td>2</td><td>39,61  </td><td>0,6182       </td><td> 0.56452980</td><td>0.8802249252</td></tr>\n",
       "\t<tr><td>chr14</td><td> 20779901</td><td> 20781665</td><td>DAC.263-x1-0</td><td>0</td><td>-</td><td> 20779901</td><td> 20781665</td><td>0</td><td>2</td><td>11,39  </td><td>0,1726       </td><td>-1.27012293</td><td>0.4446832815</td></tr>\n",
       "\t<tr><td>chr14</td><td> 20784391</td><td> 20784440</td><td>DAC.263-x1-0</td><td>0</td><td>-</td><td> 20784391</td><td> 20784440</td><td>0</td><td>1</td><td>50     </td><td>0            </td><td> 0.82667857</td><td>0.7430748525</td></tr>\n",
       "\t<tr><td>chr19</td><td>   994301</td><td>   994350</td><td>DAC.308-x1-0</td><td>0</td><td>+</td><td>   994301</td><td>   994350</td><td>0</td><td>1</td><td>50     </td><td>0            </td><td>-4.89034913</td><td>0.1415953570</td></tr>\n",
       "\t<tr><td>chr19</td><td> 35166578</td><td> 35166627</td><td>DAC.314-x1-0</td><td>0</td><td>-</td><td> 35166578</td><td> 35166627</td><td>0</td><td>1</td><td>50     </td><td>0            </td><td>-0.58314629</td><td>0.7163032708</td></tr>\n",
       "\t<tr><td>chr19</td><td> 56894246</td><td> 56895156</td><td>DAC.322-x1-0</td><td>0</td><td>-</td><td> 56894246</td><td> 56895156</td><td>0</td><td>2</td><td>42,8   </td><td>0,903        </td><td> 0.67015766</td><td>0.7881352358</td></tr>\n",
       "\t<tr><td>chr1 </td><td> 20945062</td><td> 20945311</td><td>DAC.4-x1-0  </td><td>0</td><td>+</td><td> 20945062</td><td> 20945311</td><td>0</td><td>1</td><td>250    </td><td>0            </td><td>-0.70746723</td><td>0.9746537178</td></tr>\n",
       "</tbody>\n",
       "</table>\n"
      ],
      "text/latex": [
       "A data.frame: 19 × 14\n",
       "\\begin{tabular}{llllllllllllll}\n",
       " chr & start & end & name & score & strand & thickStart & thickEnd & itemRgb & blockCount & blockSizes & blockStarts & logFC & p\\_value\\\\\n",
       " <fct> & <dbl> & <dbl> & <fct> & <dbl> & <fct> & <dbl> & <dbl> & <dbl> & <int> & <fct> & <fct> & <dbl> & <dbl>\\\\\n",
       "\\hline\n",
       "\t chr1  &  85718376 &  85724246 & DAC.12-x1-0  & 0 & - &  85718376 &  85724246 & 0 & 2 & 10,40   & 0,5831        &  0.03138160 & 0.9502750878\\\\\n",
       "\t chr1  &  85724297 &  85724346 & DAC.12-x1-0  & 0 & - &  85724297 &  85724346 & 0 & 1 & 50      & 0             &  2.25129180 & 0.1864916032\\\\\n",
       "\t chr7  &  23340604 &  23347503 & DAC.157-x1-0 & 0 & + &  23340604 &  23347503 & 0 & 2 & 33,17   & 0,6883        & -0.08961216 & 0.9680716636\\\\\n",
       "\t chr8  & 142146634 & 142146683 & DAC.198-x1-0 & 0 & + & 142146634 & 142146683 & 0 & 1 & 50      & 0             & -0.99212880 & 0.4989123692\\\\\n",
       "\t chr9  &  74586496 &  74587618 & DAC.204-x1-0 & 0 & + &  74586496 &  74587618 & 0 & 2 & 39,11   & 0,1112        & -3.80666249 & 0.1681170576\\\\\n",
       "\t chr11 &  65306424 &  65306473 & DAC.222-x1-0 & 0 & - &  65306424 &  65306473 & 0 & 1 & 50      & 0             & -2.18953223 & 0.4515358915\\\\\n",
       "\t chr11 & 110171085 & 110171134 & DAC.223-x1-0 & 0 & - & 110171085 & 110171134 & 0 & 1 & 50      & 0             & -1.38629436 & 0.2881648875\\\\\n",
       "\t chr12 &   1192346 &   1192695 & DAC.230-x1-0 & 0 & + &   1192346 &   1192695 & 0 & 1 & 350     & 0             &  1.34013232 & 0.0004329188\\\\\n",
       "\t chr12 &   1192746 &   1219431 & DAC.230-x1-0 & 0 & + &   1192746 &   1219431 & 0 & 3 & 1,75,74 & 0,21170,26612 &  1.65490028 & 0.4220921244\\\\\n",
       "\t chr12 &   1225166 &   1250851 & DAC.230-x1-0 & 0 & + &   1225166 &   1250851 & 0 & 2 & 34,66   & 0,25620       & -2.48181545 & 0.2796766415\\\\\n",
       "\t chr13 &  27787052 &  27787101 & DAC.252-x1-0 & 0 & + &  27787052 &  27787101 & 0 & 1 & 50      & 0             &  2.63905733 & 0.0711850789\\\\\n",
       "\t chr13 &  27787152 &  27787251 & DAC.252-x1-0 & 0 & + &  27787152 &  27787251 & 0 & 1 & 100     & 0             &  1.17104213 & 0.7150052288\\\\\n",
       "\t chr13 &  27787302 &  27793544 & DAC.252-x1-0 & 0 & + &  27787302 &  27793544 & 0 & 2 & 39,61   & 0,6182        &  0.56452980 & 0.8802249252\\\\\n",
       "\t chr14 &  20779901 &  20781665 & DAC.263-x1-0 & 0 & - &  20779901 &  20781665 & 0 & 2 & 11,39   & 0,1726        & -1.27012293 & 0.4446832815\\\\\n",
       "\t chr14 &  20784391 &  20784440 & DAC.263-x1-0 & 0 & - &  20784391 &  20784440 & 0 & 1 & 50      & 0             &  0.82667857 & 0.7430748525\\\\\n",
       "\t chr19 &    994301 &    994350 & DAC.308-x1-0 & 0 & + &    994301 &    994350 & 0 & 1 & 50      & 0             & -4.89034913 & 0.1415953570\\\\\n",
       "\t chr19 &  35166578 &  35166627 & DAC.314-x1-0 & 0 & - &  35166578 &  35166627 & 0 & 1 & 50      & 0             & -0.58314629 & 0.7163032708\\\\\n",
       "\t chr19 &  56894246 &  56895156 & DAC.322-x1-0 & 0 & - &  56894246 &  56895156 & 0 & 2 & 42,8    & 0,903         &  0.67015766 & 0.7881352358\\\\\n",
       "\t chr1  &  20945062 &  20945311 & DAC.4-x1-0   & 0 & + &  20945062 &  20945311 & 0 & 1 & 250     & 0             & -0.70746723 & 0.9746537178\\\\\n",
       "\\end{tabular}\n"
      ],
      "text/markdown": [
       "\n",
       "A data.frame: 19 × 14\n",
       "\n",
       "| chr &lt;fct&gt; | start &lt;dbl&gt; | end &lt;dbl&gt; | name &lt;fct&gt; | score &lt;dbl&gt; | strand &lt;fct&gt; | thickStart &lt;dbl&gt; | thickEnd &lt;dbl&gt; | itemRgb &lt;dbl&gt; | blockCount &lt;int&gt; | blockSizes &lt;fct&gt; | blockStarts &lt;fct&gt; | logFC &lt;dbl&gt; | p_value &lt;dbl&gt; |\n",
       "|---|---|---|---|---|---|---|---|---|---|---|---|---|---|\n",
       "| chr1  |  85718376 |  85724246 | DAC.12-x1-0  | 0 | - |  85718376 |  85724246 | 0 | 2 | 10,40   | 0,5831        |  0.03138160 | 0.9502750878 |\n",
       "| chr1  |  85724297 |  85724346 | DAC.12-x1-0  | 0 | - |  85724297 |  85724346 | 0 | 1 | 50      | 0             |  2.25129180 | 0.1864916032 |\n",
       "| chr7  |  23340604 |  23347503 | DAC.157-x1-0 | 0 | + |  23340604 |  23347503 | 0 | 2 | 33,17   | 0,6883        | -0.08961216 | 0.9680716636 |\n",
       "| chr8  | 142146634 | 142146683 | DAC.198-x1-0 | 0 | + | 142146634 | 142146683 | 0 | 1 | 50      | 0             | -0.99212880 | 0.4989123692 |\n",
       "| chr9  |  74586496 |  74587618 | DAC.204-x1-0 | 0 | + |  74586496 |  74587618 | 0 | 2 | 39,11   | 0,1112        | -3.80666249 | 0.1681170576 |\n",
       "| chr11 |  65306424 |  65306473 | DAC.222-x1-0 | 0 | - |  65306424 |  65306473 | 0 | 1 | 50      | 0             | -2.18953223 | 0.4515358915 |\n",
       "| chr11 | 110171085 | 110171134 | DAC.223-x1-0 | 0 | - | 110171085 | 110171134 | 0 | 1 | 50      | 0             | -1.38629436 | 0.2881648875 |\n",
       "| chr12 |   1192346 |   1192695 | DAC.230-x1-0 | 0 | + |   1192346 |   1192695 | 0 | 1 | 350     | 0             |  1.34013232 | 0.0004329188 |\n",
       "| chr12 |   1192746 |   1219431 | DAC.230-x1-0 | 0 | + |   1192746 |   1219431 | 0 | 3 | 1,75,74 | 0,21170,26612 |  1.65490028 | 0.4220921244 |\n",
       "| chr12 |   1225166 |   1250851 | DAC.230-x1-0 | 0 | + |   1225166 |   1250851 | 0 | 2 | 34,66   | 0,25620       | -2.48181545 | 0.2796766415 |\n",
       "| chr13 |  27787052 |  27787101 | DAC.252-x1-0 | 0 | + |  27787052 |  27787101 | 0 | 1 | 50      | 0             |  2.63905733 | 0.0711850789 |\n",
       "| chr13 |  27787152 |  27787251 | DAC.252-x1-0 | 0 | + |  27787152 |  27787251 | 0 | 1 | 100     | 0             |  1.17104213 | 0.7150052288 |\n",
       "| chr13 |  27787302 |  27793544 | DAC.252-x1-0 | 0 | + |  27787302 |  27793544 | 0 | 2 | 39,61   | 0,6182        |  0.56452980 | 0.8802249252 |\n",
       "| chr14 |  20779901 |  20781665 | DAC.263-x1-0 | 0 | - |  20779901 |  20781665 | 0 | 2 | 11,39   | 0,1726        | -1.27012293 | 0.4446832815 |\n",
       "| chr14 |  20784391 |  20784440 | DAC.263-x1-0 | 0 | - |  20784391 |  20784440 | 0 | 1 | 50      | 0             |  0.82667857 | 0.7430748525 |\n",
       "| chr19 |    994301 |    994350 | DAC.308-x1-0 | 0 | + |    994301 |    994350 | 0 | 1 | 50      | 0             | -4.89034913 | 0.1415953570 |\n",
       "| chr19 |  35166578 |  35166627 | DAC.314-x1-0 | 0 | - |  35166578 |  35166627 | 0 | 1 | 50      | 0             | -0.58314629 | 0.7163032708 |\n",
       "| chr19 |  56894246 |  56895156 | DAC.322-x1-0 | 0 | - |  56894246 |  56895156 | 0 | 2 | 42,8    | 0,903         |  0.67015766 | 0.7881352358 |\n",
       "| chr1  |  20945062 |  20945311 | DAC.4-x1-0   | 0 | + |  20945062 |  20945311 | 0 | 1 | 250     | 0             | -0.70746723 | 0.9746537178 |\n",
       "\n"
      ],
      "text/plain": [
       "   chr   start     end       name         score strand thickStart thickEnd \n",
       "1  chr1   85718376  85724246 DAC.12-x1-0  0     -       85718376   85724246\n",
       "2  chr1   85724297  85724346 DAC.12-x1-0  0     -       85724297   85724346\n",
       "3  chr7   23340604  23347503 DAC.157-x1-0 0     +       23340604   23347503\n",
       "4  chr8  142146634 142146683 DAC.198-x1-0 0     +      142146634  142146683\n",
       "5  chr9   74586496  74587618 DAC.204-x1-0 0     +       74586496   74587618\n",
       "6  chr11  65306424  65306473 DAC.222-x1-0 0     -       65306424   65306473\n",
       "7  chr11 110171085 110171134 DAC.223-x1-0 0     -      110171085  110171134\n",
       "8  chr12   1192346   1192695 DAC.230-x1-0 0     +        1192346    1192695\n",
       "9  chr12   1192746   1219431 DAC.230-x1-0 0     +        1192746    1219431\n",
       "10 chr12   1225166   1250851 DAC.230-x1-0 0     +        1225166    1250851\n",
       "11 chr13  27787052  27787101 DAC.252-x1-0 0     +       27787052   27787101\n",
       "12 chr13  27787152  27787251 DAC.252-x1-0 0     +       27787152   27787251\n",
       "13 chr13  27787302  27793544 DAC.252-x1-0 0     +       27787302   27793544\n",
       "14 chr14  20779901  20781665 DAC.263-x1-0 0     -       20779901   20781665\n",
       "15 chr14  20784391  20784440 DAC.263-x1-0 0     -       20784391   20784440\n",
       "16 chr19    994301    994350 DAC.308-x1-0 0     +         994301     994350\n",
       "17 chr19  35166578  35166627 DAC.314-x1-0 0     -       35166578   35166627\n",
       "18 chr19  56894246  56895156 DAC.322-x1-0 0     -       56894246   56895156\n",
       "19 chr1   20945062  20945311 DAC.4-x1-0   0     +       20945062   20945311\n",
       "   itemRgb blockCount blockSizes blockStarts   logFC       p_value     \n",
       "1  0       2          10,40      0,5831         0.03138160 0.9502750878\n",
       "2  0       1          50         0              2.25129180 0.1864916032\n",
       "3  0       2          33,17      0,6883        -0.08961216 0.9680716636\n",
       "4  0       1          50         0             -0.99212880 0.4989123692\n",
       "5  0       2          39,11      0,1112        -3.80666249 0.1681170576\n",
       "6  0       1          50         0             -2.18953223 0.4515358915\n",
       "7  0       1          50         0             -1.38629436 0.2881648875\n",
       "8  0       1          350        0              1.34013232 0.0004329188\n",
       "9  0       3          1,75,74    0,21170,26612  1.65490028 0.4220921244\n",
       "10 0       2          34,66      0,25620       -2.48181545 0.2796766415\n",
       "11 0       1          50         0              2.63905733 0.0711850789\n",
       "12 0       1          100        0              1.17104213 0.7150052288\n",
       "13 0       2          39,61      0,6182         0.56452980 0.8802249252\n",
       "14 0       2          11,39      0,1726        -1.27012293 0.4446832815\n",
       "15 0       1          50         0              0.82667857 0.7430748525\n",
       "16 0       1          50         0             -4.89034913 0.1415953570\n",
       "17 0       1          50         0             -0.58314629 0.7163032708\n",
       "18 0       2          42,8       0,903          0.67015766 0.7881352358\n",
       "19 0       1          250        0             -0.70746723 0.9746537178"
      ]
     },
     "metadata": {},
     "output_type": "display_data"
    }
   ],
   "source": [
    "result_all %>% filter(grepl('DAC',name))"
   ]
  },
  {
   "cell_type": "code",
   "execution_count": 39,
   "metadata": {
    "tags": []
   },
   "outputs": [],
   "source": [
    "# %%R\n",
    "write.table(result_all %>% filter(grepl('DAC',name)), file = \"radar_scallop/result.all.txt\",row.names=F, sep='\\t', quote=FALSE) \n",
    "# write.table(result_sig %>% filter(grepl('DAC',name)), file = \"radar_scallop/result.sig.txt\",row.names=F, sep='\\t',quote=FALSE) "
   ]
  },
  {
   "cell_type": "code",
   "execution_count": 40,
   "metadata": {
    "tags": []
   },
   "outputs": [],
   "source": [
    "# cp -v radar/result.sig.txt hl60_delta_mtyl_table.txt "
   ]
  },
  {
   "cell_type": "code",
   "execution_count": 41,
   "metadata": {
    "tags": []
   },
   "outputs": [],
   "source": [
    "# !cat hl60_delta_mtyl_table.txt | head "
   ]
  },
  {
   "cell_type": "markdown",
   "metadata": {
    "tags": []
   },
   "source": [
    "### Save results into `bed12` format \n",
    "`tidyverse` can not be loaded while using RADAR!"
   ]
  },
  {
   "cell_type": "code",
   "execution_count": 42,
   "metadata": {
    "tags": []
   },
   "outputs": [],
   "source": [
    "# save bed 12 format \n",
    "names(result_all)[1] <- paste0(\"# \", names(result_all)[1])\n",
    "write.table(result_all %>% dplyr::select(c(1:12)) %>% filter(grepl('DAC',name)), file = \"radar_scallop/result.all.bed\",row.names=F, sep=\"\\t\", quote=FALSE) "
   ]
  },
  {
   "cell_type": "code",
   "execution_count": 43,
   "metadata": {
    "tags": []
   },
   "outputs": [],
   "source": [
    "# save bed 12 format \n",
    "names(result_sig)[1] <- paste0(\"# \", names(result_sig)[1])\n",
    "write.table(result_sig %>% dplyr::select(c(1:12)) %>% filter(grepl('DAC',name)), file = \"radar/result.sig.bed\",row.names=F, sep='\\t',quote=FALSE)"
   ]
  },
  {
   "cell_type": "code",
   "execution_count": 44,
   "metadata": {
    "tags": []
   },
   "outputs": [
    {
     "data": {
      "text/plain": [
       "R version 3.5.1 (2018-07-02)\n",
       "Platform: x86_64-conda_cos6-linux-gnu (64-bit)\n",
       "Running under: CentOS Linux 7 (Core)\n",
       "\n",
       "Matrix products: default\n",
       "BLAS/LAPACK: /data_gilbert/home/aarab/anaconda3/envs/mamba/envs/radar/lib/R/lib/libRblas.so\n",
       "\n",
       "locale:\n",
       " [1] LC_CTYPE=en_US.UTF-8       LC_NUMERIC=C              \n",
       " [3] LC_TIME=en_US.UTF-8        LC_COLLATE=en_US.UTF-8    \n",
       " [5] LC_MONETARY=en_US.UTF-8    LC_MESSAGES=en_US.UTF-8   \n",
       " [7] LC_PAPER=en_US.UTF-8       LC_NAME=C                 \n",
       " [9] LC_ADDRESS=C               LC_TELEPHONE=C            \n",
       "[11] LC_MEASUREMENT=en_US.UTF-8 LC_IDENTIFICATION=C       \n",
       "\n",
       "attached base packages:\n",
       "[1] stats4    parallel  stats     graphics  grDevices utils     datasets \n",
       "[8] methods   base     \n",
       "\n",
       "other attached packages:\n",
       " [1] forcats_0.5.0            stringr_1.4.0            dplyr_0.8.5             \n",
       " [4] purrr_0.3.4              readr_1.3.1              tidyr_1.0.2             \n",
       " [7] tibble_3.2.1             tidyverse_1.2.1          RADAR_0.2.4             \n",
       "[10] qvalue_2.16.0            RcppArmadillo_0.12.6.3.0 Rcpp_1.0.10             \n",
       "[13] RColorBrewer_1.1-3       gplots_3.1.3             doParallel_1.0.17       \n",
       "[16] iterators_1.0.14         foreach_1.5.2            ggplot2_3.4.3           \n",
       "[19] Rsamtools_1.34.0         Biostrings_2.50.2        XVector_0.22.0          \n",
       "[22] GenomicFeatures_1.34.1   AnnotationDbi_1.44.0     Biobase_2.42.0          \n",
       "[25] GenomicRanges_1.34.0     GenomeInfoDb_1.18.1      IRanges_2.16.0          \n",
       "[28] S4Vectors_0.20.1         BiocGenerics_0.28.0     \n",
       "\n",
       "loaded via a namespace (and not attached):\n",
       "  [1] colorspace_1.4-1            IRdisplay_0.7.0            \n",
       "  [3] htmlTable_1.13.3            base64enc_0.1-3            \n",
       "  [5] rstudioapi_0.11             farver_2.1.1               \n",
       "  [7] bit64_0.9-7                 lubridate_1.7.8            \n",
       "  [9] fansi_1.0.4                 xml2_1.3.2                 \n",
       " [11] codetools_0.2-16            splines_3.5.1              \n",
       " [13] geneplotter_1.60.0          knitr_1.28                 \n",
       " [15] IRkernel_1.1                Formula_1.2-3              \n",
       " [17] jsonlite_1.6.1              broom_0.5.6                \n",
       " [19] annotate_1.60.1             cluster_2.1.0              \n",
       " [21] compiler_3.5.1              httr_1.4.1                 \n",
       " [23] backports_1.1.6             assertthat_0.2.1           \n",
       " [25] Matrix_1.2-18               cli_3.6.1                  \n",
       " [27] acepack_1.4.1               htmltools_0.4.0            \n",
       " [29] prettyunits_1.1.1           tools_3.5.1                \n",
       " [31] gtable_0.3.4                glue_1.6.2                 \n",
       " [33] GenomeInfoDbData_1.2.1      reshape2_1.4.4             \n",
       " [35] cellranger_1.1.0            vctrs_0.6.3                \n",
       " [37] nlme_3.1-147                rtracklayer_1.42.1         \n",
       " [39] xfun_0.13                   rvest_0.3.5                \n",
       " [41] lifecycle_1.0.3             gtools_3.9.4               \n",
       " [43] XML_3.99-0.3                zlibbioc_1.28.0            \n",
       " [45] scales_1.2.1                hms_0.5.3                  \n",
       " [47] SummarizedExperiment_1.12.0 memoise_1.1.0              \n",
       " [49] gridExtra_2.3               biomaRt_2.38.0             \n",
       " [51] rpart_4.1-15                latticeExtra_0.6-28        \n",
       " [53] stringi_1.4.3               RSQLite_2.2.0              \n",
       " [55] genefilter_1.64.0           checkmate_2.0.0            \n",
       " [57] caTools_1.17.1.4            BiocParallel_1.16.6        \n",
       " [59] repr_1.1.0                  rlang_1.1.1                \n",
       " [61] pkgconfig_2.0.3             matrixStats_0.56.0         \n",
       " [63] bitops_1.0-6                evaluate_0.14              \n",
       " [65] lattice_0.20-41             GenomicAlignments_1.18.1   \n",
       " [67] htmlwidgets_1.5.1           labeling_0.4.2             \n",
       " [69] bit_1.1-15.2                tidyselect_1.0.0           \n",
       " [71] plyr_1.8.6                  magrittr_2.0.3             \n",
       " [73] DESeq2_1.22.1               R6_2.5.1                   \n",
       " [75] generics_0.0.2              Hmisc_4.4-0                \n",
       " [77] pbdZMQ_0.3-3                DelayedArray_0.8.0         \n",
       " [79] DBI_1.1.0                   haven_2.2.0                \n",
       " [81] pillar_1.9.0                foreign_0.8-76             \n",
       " [83] withr_2.5.0                 survival_3.1-12            \n",
       " [85] RCurl_1.98-1.2              nnet_7.3-14                \n",
       " [87] modelr_0.1.7                crayon_1.3.4               \n",
       " [89] uuid_0.1-4                  KernSmooth_2.23-17         \n",
       " [91] utf8_1.2.3                  progress_1.2.2             \n",
       " [93] readxl_1.3.1                locfit_1.5-9.4             \n",
       " [95] grid_3.5.1                  data.table_1.12.8          \n",
       " [97] blob_1.2.1                  digest_0.6.25              \n",
       " [99] xtable_1.8-4                munsell_0.5.0              "
      ]
     },
     "metadata": {},
     "output_type": "display_data"
    }
   ],
   "source": [
    "sessionInfo()"
   ]
  },
  {
   "cell_type": "code",
   "execution_count": 45,
   "metadata": {
    "tags": []
   },
   "outputs": [
    {
     "data": {
      "text/html": [
       "<span style=white-space:pre-wrap>'Mon Sep  4 05:06:57 2023'</span>"
      ],
      "text/latex": [
       "'Mon Sep  4 05:06:57 2023'"
      ],
      "text/markdown": [
       "<span style=white-space:pre-wrap>'Mon Sep  4 05:06:57 2023'</span>"
      ],
      "text/plain": [
       "[1] \"Mon Sep  4 05:06:57 2023\""
      ]
     },
     "metadata": {},
     "output_type": "display_data"
    }
   ],
   "source": [
    "date()"
   ]
  }
 ],
 "metadata": {
  "kernelspec": {
   "display_name": "R [conda env:radar]",
   "language": "R",
   "name": "conda-env-radar-r"
  },
  "language_info": {
   "codemirror_mode": "r",
   "file_extension": ".r",
   "mimetype": "text/x-r-source",
   "name": "R",
   "pygments_lexer": "r",
   "version": "3.5.1"
  }
 },
 "nbformat": 4,
 "nbformat_minor": 4
}
