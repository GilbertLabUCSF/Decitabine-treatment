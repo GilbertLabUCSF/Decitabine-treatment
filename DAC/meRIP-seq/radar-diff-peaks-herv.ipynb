{
 "cells": [
  {
   "cell_type": "markdown",
   "metadata": {},
   "source": [
    "We aim to use `RADAR` to do differential analysis of m6A peaks. I'm starting from `fastq` raw data to align them using `STAR`; then I will use `bam` files to run `RADAR` and explore the results for downstream analysis.\n",
    "\n",
    "I needed to re-build `STAR` indices as I've described in my notebook at `genomes/build-genome.ipynb` (see my GitHub repo). "
   ]
  },
  {
   "cell_type": "markdown",
   "metadata": {
    "tags": []
   },
   "source": [
    "# Alignment task - Running `STAR`"
   ]
  },
  {
   "cell_type": "code",
   "execution_count": 10,
   "metadata": {},
   "outputs": [
    {
     "data": {
      "text/plain": [
       "'/data_gilbert/home/aarab/Projects/Decitabine-treatment/DAC/meRIP-seq'"
      ]
     },
     "execution_count": 10,
     "metadata": {},
     "output_type": "execute_result"
    }
   ],
   "source": [
    "pwd"
   ]
  },
  {
   "cell_type": "code",
   "execution_count": 7,
   "metadata": {
    "tags": []
   },
   "outputs": [
    {
     "name": "stdout",
     "output_type": "stream",
     "text": [
      "index=$1\n",
      "bamDIR=$2\n",
      "\n",
      "mkdir -p ${bamDIR}\n",
      "mkdir -p ${bamDIR}_star_qc\n",
      "\n",
      "STAR --genomeLoad LoadAndExit --genomeDir $index\n",
      "\n",
      "for fq in fastq/*R1*; do\n",
      "    fq=`basename $fq`\n",
      "    out=${fq/_R1*/}\n",
      "    echo '------------' $out '-----------'\n",
      "    STAR \\\n",
      "    --outSAMtype BAM SortedByCoordinate \\\n",
      "    --readFilesCommand zcat \\\n",
      "    --runThreadN 18 \\\n",
      "    --genomeDir $index \\\n",
      "    --readFilesIn fastq/$fq \\\n",
      "    --outFileNamePrefix ${bamDIR}/$out\n",
      "done\n",
      "\n",
      "STAR --genomeLoad Remove --genomeDir $index\n",
      "\n",
      "rm -vr _STARtmp/ Aligned.out.sam Log.out Log.progress.out\n"
     ]
    }
   ],
   "source": [
    "cat star.sh"
   ]
  },
  {
   "cell_type": "code",
   "execution_count": 2,
   "metadata": {},
   "outputs": [
    {
     "name": "stdout",
     "output_type": "stream",
     "text": [
      "/data_gilbert/home/aarab/anaconda3/envs/alignment/bin/STAR\n"
     ]
    }
   ],
   "source": [
    "!which STAR"
   ]
  },
  {
   "cell_type": "code",
   "execution_count": 8,
   "metadata": {},
   "outputs": [
    {
     "name": "stdout",
     "output_type": "stream",
     "text": [
      "chrLength.txt      exonInfo.tab          SAindex\n",
      "chrNameLength.txt  geneInfo.tab          sjdbInfo.txt\n",
      "chrName.txt        Genome                sjdbList.fromGTF.out.tab\n",
      "chrStart.txt       genomeParameters.txt  sjdbList.out.tab\n",
      "exonGeTrInfo.tab   SA                    transcriptInfo.tab\n"
     ]
    }
   ],
   "source": [
    "ls ../../herv-genome/STAR.index/"
   ]
  },
  {
   "cell_type": "code",
   "execution_count": 9,
   "metadata": {
    "tags": []
   },
   "outputs": [
    {
     "name": "stdout",
     "output_type": "stream",
     "text": [
      "Nov 14 12:19:45 ..... started STAR run\n",
      "Nov 14 12:19:45 ..... loading genome\n",
      "------------ T1.input -----------\n",
      "Nov 14 12:20:13 ..... started STAR run\n",
      "Nov 14 12:20:13 ..... loading genome\n",
      "Nov 14 12:20:35 ..... started mapping\n",
      "Nov 14 12:22:35 ..... finished mapping\n",
      "Nov 14 12:22:41 ..... started sorting BAM\n",
      "Nov 14 12:23:47 ..... finished successfully\n",
      "------------ T1.m6A -----------\n",
      "Nov 14 12:23:54 ..... started STAR run\n",
      "Nov 14 12:23:54 ..... loading genome\n",
      "Nov 14 12:24:15 ..... started mapping\n",
      "Nov 14 12:25:56 ..... finished mapping\n",
      "Nov 14 12:26:01 ..... started sorting BAM\n",
      "Nov 14 12:26:28 ..... finished successfully\n",
      "------------ T2.input -----------\n",
      "Nov 14 12:26:31 ..... started STAR run\n",
      "Nov 14 12:26:31 ..... loading genome\n",
      "Nov 14 12:26:52 ..... started mapping\n",
      "Nov 14 12:28:51 ..... finished mapping\n",
      "Nov 14 12:28:56 ..... started sorting BAM\n",
      "Nov 14 12:29:57 ..... finished successfully\n",
      "------------ T2.m6A -----------\n",
      "Nov 14 12:30:04 ..... started STAR run\n",
      "Nov 14 12:30:04 ..... loading genome\n",
      "Nov 14 12:30:25 ..... started mapping\n",
      "Nov 14 12:32:08 ..... finished mapping\n",
      "Nov 14 12:32:12 ..... started sorting BAM\n",
      "Nov 14 12:32:44 ..... finished successfully\n",
      "------------ U1.input -----------\n",
      "Nov 14 12:32:47 ..... started STAR run\n",
      "Nov 14 12:32:47 ..... loading genome\n",
      "Nov 14 12:33:10 ..... started mapping\n",
      "Nov 14 12:35:07 ..... finished mapping\n",
      "Nov 14 12:35:12 ..... started sorting BAM\n",
      "Nov 14 12:36:11 ..... finished successfully\n",
      "------------ U1.m6A -----------\n",
      "Nov 14 12:36:17 ..... started STAR run\n",
      "Nov 14 12:36:17 ..... loading genome\n",
      "Nov 14 12:36:37 ..... started mapping\n",
      "Nov 14 12:38:16 ..... finished mapping\n",
      "Nov 14 12:38:20 ..... started sorting BAM\n",
      "Nov 14 12:38:44 ..... finished successfully\n",
      "------------ U2.input -----------\n",
      "Nov 14 12:38:47 ..... started STAR run\n",
      "Nov 14 12:38:47 ..... loading genome\n",
      "Nov 14 12:39:07 ..... started mapping\n",
      "Nov 14 12:41:28 ..... finished mapping\n",
      "Nov 14 12:41:33 ..... started sorting BAM\n",
      "Nov 14 12:42:47 ..... finished successfully\n",
      "------------ U2.m6A -----------\n",
      "Nov 14 12:42:54 ..... started STAR run\n",
      "Nov 14 12:42:54 ..... loading genome\n",
      "Nov 14 12:43:15 ..... started mapping\n",
      "Nov 14 12:44:45 ..... finished mapping\n",
      "Nov 14 12:44:50 ..... started sorting BAM\n",
      "Nov 14 12:45:11 ..... finished successfully\n",
      "Nov 14 12:45:14 ..... started STAR run\n",
      "Nov 14 12:45:14 ..... loading genome\n",
      "removed directory: ‘_STARtmp/’\n",
      "removed ‘Aligned.out.sam’\n",
      "removed ‘Log.out’\n",
      "removed ‘Log.progress.out’\n"
     ]
    }
   ],
   "source": [
    "!bash star.sh ../../herv-genome/STAR.index/ bam_erv"
   ]
  },
  {
   "cell_type": "markdown",
   "metadata": {
    "tags": []
   },
   "source": [
    "# Peak calling task - Running `RADAR`\n",
    "\n",
    "https://scottzijiezhang.github.io/RADARmanual/workflow.html"
   ]
  },
  {
   "cell_type": "code",
   "execution_count": 2,
   "metadata": {},
   "outputs": [],
   "source": [
    "!mkdir radar_erv"
   ]
  },
  {
   "cell_type": "code",
   "execution_count": null,
   "metadata": {},
   "outputs": [],
   "source": [
    "# %load_ext rpy2.ipython"
   ]
  },
  {
   "cell_type": "code",
   "execution_count": 1,
   "metadata": {},
   "outputs": [],
   "source": [
    "# %%R \n",
    "suppressMessages(suppressWarnings(library (RADAR)))"
   ]
  },
  {
   "cell_type": "code",
   "execution_count": null,
   "metadata": {},
   "outputs": [],
   "source": [
    "GTF = '../../herv-genome/package-entities-erv.c.gff3'"
   ]
  },
  {
   "cell_type": "markdown",
   "metadata": {
    "tags": []
   },
   "source": [
    "### 1. load `bam` files and make `MeRIP.RADAR` object\n",
    "I'll save the object for later usage while it takes long time to generate. "
   ]
  },
  {
   "cell_type": "code",
   "execution_count": 7,
   "metadata": {},
   "outputs": [
    {
     "name": "stdout",
     "output_type": "stream",
     "text": [
      "Reading gtf file to obtain gene model\n",
      "Filter out ambiguous model...\n"
     ]
    },
    {
     "name": "stderr",
     "output_type": "stream",
     "text": [
      "Import genomic features from the file as a GRanges object ... \n",
      "OK\n",
      "\n",
      "Prepare the 'metadata' data frame ... \n",
      "OK\n",
      "\n",
      "Make the TxDb object ... \n",
      "OK\n",
      "\n"
     ]
    },
    {
     "name": "stdout",
     "output_type": "stream",
     "text": [
      "Gene model obtained from gtf file...\n",
      "counting reads for each genes, this step may takes a few hours....\n",
      "Hyper-thread registered: TRUE \n",
      "Using 30 thread(s) to count reads in continuous bins...\n",
      "Time used to count reads: 22.7265259464582 mins... \n"
     ]
    }
   ],
   "source": [
    "# %%R \n",
    "radar <- countReads(\n",
    "\tsamplenames=c('U1','U2','T1','T2'), gtf = GTF,\n",
    "\tbamFolder='./bam_scallop/',modification = \"m6A\", \n",
    "    strandToKeep = \"opposite\",\n",
    "    outputDir='radar_scallop', \n",
    "    threads = 30\n",
    ") "
   ]
  },
  {
   "cell_type": "code",
   "execution_count": 8,
   "metadata": {},
   "outputs": [],
   "source": [
    "# %%R \n",
    "saveRDS(radar, 'radar_scallop/rawObj.rds')"
   ]
  },
  {
   "cell_type": "code",
   "execution_count": 9,
   "metadata": {},
   "outputs": [
    {
     "name": "stdout",
     "output_type": "stream",
     "text": [
      "MeRIP dataset of 4 samples.\n",
      "Read count quantified in 50-bp consecutive bins on the transcript.\n",
      "The total read count for Input and IP samples are (Million reads):\n",
      "         U1    U2    T1    T2\n",
      "Input 22.36 27.48 24.09 21.92\n",
      "IP    34.95 33.21 39.47 40.76\n"
     ]
    }
   ],
   "source": [
    "# %%R \n",
    "summary(radar)"
   ]
  },
  {
   "cell_type": "markdown",
   "metadata": {
    "tags": []
   },
   "source": [
    "___\n",
    "\n",
    "### 2. Running RADAR pre processing commands \n",
    "https://scottzijiezhang.github.io/RADARmanual/Mannual.html\n",
    "\n",
    "Final object after this step also saved into `radar/finalObj.rds`."
   ]
  },
  {
   "cell_type": "code",
   "execution_count": null,
   "metadata": {},
   "outputs": [],
   "source": [
    "# %reload_ext rpy2.ipython"
   ]
  },
  {
   "cell_type": "code",
   "execution_count": 1,
   "metadata": {},
   "outputs": [],
   "source": [
    "# %%R \n",
    "suppressMessages(suppressWarnings(library (RADAR)))"
   ]
  },
  {
   "cell_type": "code",
   "execution_count": 2,
   "metadata": {},
   "outputs": [],
   "source": [
    "radar0 <- readRDS('radar_scallop/rawObj.rds')"
   ]
  },
  {
   "cell_type": "code",
   "execution_count": 3,
   "metadata": {},
   "outputs": [],
   "source": [
    "radar0 <- normalizeLibrary(radar0, boxPlot=0)"
   ]
  },
  {
   "cell_type": "code",
   "execution_count": 4,
   "metadata": {},
   "outputs": [
    {
     "name": "stdout",
     "output_type": "stream",
     "text": [
      "Adjusting expression level using Input geneSum read count...\n"
     ]
    }
   ],
   "source": [
    "radar0 <- adjustExprLevel(radar0)\n",
    "# radar <- adjustExprLevel(radar, adjustBy = \"pos\")\n",
    "\n",
    "# If you expect intensive alternative splicing events cross the experimental groups, \n",
    "# using gene-level read counts to represent pre-IP RNA level could leads to bias. \n",
    "# Therefore, the user can also choose to use the local bin-level read count to adjust \n",
    "# the pre-IP RNA level variation\n",
    "\n",
    "variable(radar0) <- data.frame( group = c(rep(\"Untreated\",2),rep(\"Treated\",2)))"
   ]
  },
  {
   "cell_type": "code",
   "execution_count": 6,
   "metadata": {},
   "outputs": [
    {
     "name": "stdout",
     "output_type": "stream",
     "text": [
      "Filtering bins with low read counts...\n",
      "Bins with average counts lower than  0  in both groups have been removed...\n",
      "Filtering bins that is enriched in IP experiment...The predictor variable has been converted:\n",
      "Untreated Untreated   Treated   Treated \n",
      "        0         0         1         1 \n",
      "running PoissonGamma test at single beta mode\n",
      "Hyper-thread registered: TRUE \n",
      "Using 30 thread(s) to run PoissonGamma test...\n",
      "Time used to run PoissonGamma test: 0.690665825208028 mins... \n",
      "\n"
     ]
    }
   ],
   "source": [
    "radar0 <- filterBins(radar0,minCountsCutOff = 0)\n",
    "\n",
    "radar0 <- diffIP_parallel(radar0,thread = 30)\n",
    "saveRDS(radar0, 'radar_scallop/finalObj.rds')"
   ]
  },
  {
   "cell_type": "markdown",
   "metadata": {
    "tags": []
   },
   "source": [
    "### 4. Get results and select significant bins\n",
    "\n",
    "Results for all data (no filtering):"
   ]
  },
  {
   "cell_type": "code",
   "execution_count": 7,
   "metadata": {},
   "outputs": [],
   "source": [
    "# %%R \n",
    "# radar0 <- readRDS('radar_scallop/finalObj.rds')"
   ]
  },
  {
   "cell_type": "code",
   "execution_count": 8,
   "metadata": {},
   "outputs": [
    {
     "name": "stdout",
     "output_type": "stream",
     "text": [
      "Hyper-thread registered: TRUE \n",
      "Using 18 thread(s) to report merged report...\n",
      "Time used to report peaks: 4.03426253795624 mins... \n",
      "When merging neighboring significant bins, logFC was reported as the max logFC among these bins.\n",
      "p-value of these bins were combined by Fisher's method.\n",
      "There are 41029 reported differential loci at FDR < 1.1 and logFoldChange > 0.\n"
     ]
    }
   ],
   "source": [
    "radar_all <- reportResult(radar0, cutoff = 1.1, Beta_cutoff = 0.00, threads=18)\n",
    "\n",
    "result_all <- results(radar_all)\n",
    "rm(radar0)"
   ]
  },
  {
   "cell_type": "markdown",
   "metadata": {},
   "source": [
    "> Due to the resolution of the MeRIP-seq experiment where RNA molecules are fragmented into 100-300nt, neighboring bins can usually contain reads from the same locus. Therefore, we do a post-processing to merge significant neighboring bins after the test to obtain a final list of differential peaks. We merge the p-value of connecting bins by fisher’s method and report the max beta from neighbouring bins.\n",
    "\n",
    "Here, we use FDR<0.1 and log fold change > 0.5 as default cutoff for selecting significant bins"
   ]
  },
  {
   "cell_type": "code",
   "execution_count": 9,
   "metadata": {},
   "outputs": [],
   "source": [
    "radar0 <- readRDS('radar_scallop/finalObj.rds')"
   ]
  },
  {
   "cell_type": "code",
   "execution_count": 10,
   "metadata": {},
   "outputs": [
    {
     "name": "stdout",
     "output_type": "stream",
     "text": [
      "Hyper-thread registered: TRUE \n",
      "Using 18 thread(s) to report merged report...\n",
      "Time used to report peaks: 0.579263540108999 mins... \n",
      "When merging neighboring significant bins, logFC was reported as the max logFC among these bins.\n",
      "p-value of these bins were combined by Fisher's method.\n",
      "There are 4253 reported differential loci at FDR < 0.1 and logFoldChange > 0.5.\n"
     ]
    }
   ],
   "source": [
    "radar_sig <- reportResult(radar0, cutoff = 0.10, Beta_cutoff = 0.5, threads=18)\n",
    "\n",
    "result_sig = results(radar_sig) \n",
    "rm(radar0)"
   ]
  },
  {
   "cell_type": "markdown",
   "metadata": {
    "tags": []
   },
   "source": [
    "### 5. Plots\n",
    "#### Pre processing plots\n",
    "\n",
    "Below command normalize the library and make box plots. I'll save the plots into files."
   ]
  },
  {
   "cell_type": "code",
   "execution_count": null,
   "metadata": {},
   "outputs": [],
   "source": [
    "# %%R\n",
    "# ## save pictures \n",
    "# pdf('radar_scallop/plots/boxPlot.pdf')\n",
    "# radar <- normalizeLibrary(radar0)\n",
    "# dev.off()\n",
    "# png('plots/boxPlot.png')\n",
    "# radar <- normalizeLibrary(radar0)\n",
    "# dev.off()"
   ]
  },
  {
   "cell_type": "code",
   "execution_count": 12,
   "metadata": {},
   "outputs": [
    {
     "name": "stdout",
     "output_type": "stream",
     "text": [
      "MeRIP.RADAR dataset of 4 samples.\n",
      "Read count quantified in 50-bp consecutive bins on the transcript.\n",
      "The total read count for Input and IP samples are (Million reads):\n",
      "         U1    U2    T1    T2\n",
      "Input 22.36 27.48 24.09 21.92\n",
      "IP    34.95 33.21 39.47 40.76\n",
      "Input gene level read count available.\n",
      "There are 1 predictor variables/covariates. Can access by function variable(MeRIPdata). \n",
      "Differential methylation tested by PoissonGamma test (RADAR).\n",
      "Multiple test corrected by Benjamini & Hochberg.\n",
      "Neighboring significant bins merged. There are 4253 reported differential loci at FDR < 0.1 and logFoldChange > 0.5.\n"
     ]
    }
   ],
   "source": [
    "summary(radar_sig)"
   ]
  },
  {
   "cell_type": "code",
   "execution_count": 13,
   "metadata": {},
   "outputs": [
    {
     "name": "stdout",
     "output_type": "stream",
     "text": [
      "Plot heat map for differential loci at FDR < 0.1 and logFoldChange > 0.5.\n",
      "Returning normalized and expression level adjusted IP read counts.\n"
     ]
    },
    {
     "data": {
      "image/png": "[encoded data removed]",
      "text/plain": [
       "Plot with title “Color Key\n",
       "and Histogram”"
      ]
     },
     "metadata": {
      "image/png": {
       "height": 420,
       "width": 420
      },
      "text/plain": {
       "height": 420,
       "width": 420
      }
     },
     "output_type": "display_data"
    }
   ],
   "source": [
    "# %%R \n",
    "plotHeatMap(radar_sig)"
   ]
  },
  {
   "cell_type": "code",
   "execution_count": null,
   "metadata": {},
   "outputs": [],
   "source": [
    "# %%R \n",
    "peakDistribution(radar_sig)"
   ]
  },
  {
   "cell_type": "markdown",
   "metadata": {
    "tags": []
   },
   "source": [
    "___\n",
    "## Save results into files"
   ]
  },
  {
   "cell_type": "code",
   "execution_count": 14,
   "metadata": {},
   "outputs": [],
   "source": [
    "# %%R \n",
    "suppressMessages(suppressWarnings(library (tidyverse)))"
   ]
  },
  {
   "cell_type": "code",
   "execution_count": 17,
   "metadata": {},
   "outputs": [
    {
     "data": {
      "text/html": [
       "'../scallop-genome/DAC_GRCh37_merged.gtf'"
      ],
      "text/latex": [
       "'../scallop-genome/DAC\\_GRCh37\\_merged.gtf'"
      ],
      "text/markdown": [
       "'../scallop-genome/DAC_GRCh37_merged.gtf'"
      ],
      "text/plain": [
       "[1] \"../scallop-genome/DAC_GRCh37_merged.gtf\""
      ]
     },
     "metadata": {},
     "output_type": "display_data"
    }
   ],
   "source": [
    "GTF"
   ]
  },
  {
   "cell_type": "code",
   "execution_count": 18,
   "metadata": {},
   "outputs": [],
   "source": [
    "# %%R \n",
    "gtf <- rtracklayer::import(GTF)\n",
    "\n",
    "# gene2name <- gtf[gtf$type == \"gene\"] %>% data.frame %>% column_to_rownames('gene_id') %>% dplyr::select('gene_name')\n",
    "# message ('-> GTF loaded!')\n",
    "\n",
    "# add_Name <- function(res, gene2name){\n",
    "#     res$ensembl <- res$name %>% as.character\n",
    "#     res$name <- gene2name[res$ensembl %>% as.character,]\n",
    "#     return (res)\n",
    "# }"
   ]
  },
  {
   "cell_type": "code",
   "execution_count": 22,
   "metadata": {},
   "outputs": [
    {
     "data": {
      "text/html": [
       "<table>\n",
       "<caption>A data.frame: 2 × 14</caption>\n",
       "<thead>\n",
       "\t<tr><th scope=col>chr</th><th scope=col>start</th><th scope=col>end</th><th scope=col>name</th><th scope=col>score</th><th scope=col>strand</th><th scope=col>thickStart</th><th scope=col>thickEnd</th><th scope=col>itemRgb</th><th scope=col>blockCount</th><th scope=col>blockSizes</th><th scope=col>blockStarts</th><th scope=col>logFC</th><th scope=col>p_value</th></tr>\n",
       "\t<tr><th scope=col>&lt;fct&gt;</th><th scope=col>&lt;dbl&gt;</th><th scope=col>&lt;dbl&gt;</th><th scope=col>&lt;fct&gt;</th><th scope=col>&lt;dbl&gt;</th><th scope=col>&lt;fct&gt;</th><th scope=col>&lt;dbl&gt;</th><th scope=col>&lt;dbl&gt;</th><th scope=col>&lt;dbl&gt;</th><th scope=col>&lt;int&gt;</th><th scope=col>&lt;fct&gt;</th><th scope=col>&lt;fct&gt;</th><th scope=col>&lt;dbl&gt;</th><th scope=col>&lt;dbl&gt;</th></tr>\n",
       "</thead>\n",
       "<tbody>\n",
       "\t<tr><td>chr1 </td><td>85724299</td><td>85724348</td><td>DAC.12-x1-0 </td><td>0</td><td>-</td><td>85724299</td><td>85724348</td><td>0</td><td>1</td><td>49</td><td>0</td><td>2.944439</td><td>1.912371e-03</td></tr>\n",
       "\t<tr><td>chr13</td><td>27787083</td><td>27787132</td><td>DAC.252-x1-0</td><td>0</td><td>+</td><td>27787083</td><td>27787132</td><td>0</td><td>1</td><td>49</td><td>0</td><td>4.382027</td><td>2.465841e-05</td></tr>\n",
       "</tbody>\n",
       "</table>\n"
      ],
      "text/latex": [
       "A data.frame: 2 × 14\n",
       "\\begin{tabular}{r|llllllllllllll}\n",
       " chr & start & end & name & score & strand & thickStart & thickEnd & itemRgb & blockCount & blockSizes & blockStarts & logFC & p\\_value\\\\\n",
       " <fct> & <dbl> & <dbl> & <fct> & <dbl> & <fct> & <dbl> & <dbl> & <dbl> & <int> & <fct> & <fct> & <dbl> & <dbl>\\\\\n",
       "\\hline\n",
       "\t chr1  & 85724299 & 85724348 & DAC.12-x1-0  & 0 & - & 85724299 & 85724348 & 0 & 1 & 49 & 0 & 2.944439 & 1.912371e-03\\\\\n",
       "\t chr13 & 27787083 & 27787132 & DAC.252-x1-0 & 0 & + & 27787083 & 27787132 & 0 & 1 & 49 & 0 & 4.382027 & 2.465841e-05\\\\\n",
       "\\end{tabular}\n"
      ],
      "text/markdown": [
       "\n",
       "A data.frame: 2 × 14\n",
       "\n",
       "| chr &lt;fct&gt; | start &lt;dbl&gt; | end &lt;dbl&gt; | name &lt;fct&gt; | score &lt;dbl&gt; | strand &lt;fct&gt; | thickStart &lt;dbl&gt; | thickEnd &lt;dbl&gt; | itemRgb &lt;dbl&gt; | blockCount &lt;int&gt; | blockSizes &lt;fct&gt; | blockStarts &lt;fct&gt; | logFC &lt;dbl&gt; | p_value &lt;dbl&gt; |\n",
       "|---|---|---|---|---|---|---|---|---|---|---|---|---|---|\n",
       "| chr1  | 85724299 | 85724348 | DAC.12-x1-0  | 0 | - | 85724299 | 85724348 | 0 | 1 | 49 | 0 | 2.944439 | 1.912371e-03 |\n",
       "| chr13 | 27787083 | 27787132 | DAC.252-x1-0 | 0 | + | 27787083 | 27787132 | 0 | 1 | 49 | 0 | 4.382027 | 2.465841e-05 |\n",
       "\n"
      ],
      "text/plain": [
       "  chr   start    end      name         score strand thickStart thickEnd itemRgb\n",
       "1 chr1  85724299 85724348 DAC.12-x1-0  0     -      85724299   85724348 0      \n",
       "2 chr13 27787083 27787132 DAC.252-x1-0 0     +      27787083   27787132 0      \n",
       "  blockCount blockSizes blockStarts logFC    p_value     \n",
       "1 1          49         0           2.944439 1.912371e-03\n",
       "2 1          49         0           4.382027 2.465841e-05"
      ]
     },
     "metadata": {},
     "output_type": "display_data"
    }
   ],
   "source": [
    "result_sig %>% filter(grepl('DAC',name))"
   ]
  },
  {
   "cell_type": "code",
   "execution_count": 23,
   "metadata": {},
   "outputs": [
    {
     "data": {
      "text/html": [
       "<table>\n",
       "<caption>A data.frame: 13 × 14</caption>\n",
       "<thead>\n",
       "\t<tr><th scope=col>chr</th><th scope=col>start</th><th scope=col>end</th><th scope=col>name</th><th scope=col>score</th><th scope=col>strand</th><th scope=col>thickStart</th><th scope=col>thickEnd</th><th scope=col>itemRgb</th><th scope=col>blockCount</th><th scope=col>blockSizes</th><th scope=col>blockStarts</th><th scope=col>logFC</th><th scope=col>p_value</th></tr>\n",
       "\t<tr><th scope=col>&lt;fct&gt;</th><th scope=col>&lt;dbl&gt;</th><th scope=col>&lt;dbl&gt;</th><th scope=col>&lt;fct&gt;</th><th scope=col>&lt;dbl&gt;</th><th scope=col>&lt;fct&gt;</th><th scope=col>&lt;dbl&gt;</th><th scope=col>&lt;dbl&gt;</th><th scope=col>&lt;dbl&gt;</th><th scope=col>&lt;int&gt;</th><th scope=col>&lt;fct&gt;</th><th scope=col>&lt;fct&gt;</th><th scope=col>&lt;dbl&gt;</th><th scope=col>&lt;dbl&gt;</th></tr>\n",
       "</thead>\n",
       "<tbody>\n",
       "\t<tr><td>chr1 </td><td> 85718382</td><td> 85724348</td><td>DAC.12-x1-0 </td><td>0</td><td>-</td><td> 85718382</td><td> 85724348</td><td>0</td><td>2</td><td>4,142</td><td>0,5825</td><td>-5.4847969</td><td>0.01058394</td></tr>\n",
       "\t<tr><td>chr9 </td><td> 74586481</td><td> 74587648</td><td>DAC.204-x1-0</td><td>0</td><td>+</td><td> 74586481</td><td> 74587648</td><td>0</td><td>2</td><td>54,41</td><td>0,1127</td><td>-3.9512437</td><td>0.12382754</td></tr>\n",
       "\t<tr><td>chr11</td><td> 65306434</td><td> 65306483</td><td>DAC.222-x1-0</td><td>0</td><td>-</td><td> 65306434</td><td> 65306483</td><td>0</td><td>1</td><td>49   </td><td>0     </td><td>-2.1897896</td><td>0.45291340</td></tr>\n",
       "\t<tr><td>chr11</td><td>110171043</td><td>110171092</td><td>DAC.223-x1-0</td><td>0</td><td>-</td><td>110171043</td><td>110171092</td><td>0</td><td>1</td><td>49   </td><td>0     </td><td>-1.3862944</td><td>0.28816489</td></tr>\n",
       "\t<tr><td>chr12</td><td>  1192345</td><td>  1192689</td><td>DAC.230-x1-0</td><td>0</td><td>+</td><td>  1192345</td><td>  1192689</td><td>0</td><td>1</td><td>344  </td><td>0     </td><td> 0.8758617</td><td>0.04156374</td></tr>\n",
       "\t<tr><td>chr12</td><td>  1213957</td><td>  1219422</td><td>DAC.230-x1-0</td><td>0</td><td>+</td><td>  1213957</td><td>  1219422</td><td>0</td><td>2</td><td>34,65</td><td>0,5401</td><td> 0.6127657</td><td>0.81236235</td></tr>\n",
       "\t<tr><td>chr12</td><td>  1250787</td><td>  1250885</td><td>DAC.230-x1-0</td><td>0</td><td>+</td><td>  1250787</td><td>  1250885</td><td>0</td><td>1</td><td>98   </td><td>0     </td><td>-5.5947114</td><td>0.05141639</td></tr>\n",
       "\t<tr><td>chr13</td><td> 27787083</td><td> 27787319</td><td>DAC.252-x1-0</td><td>0</td><td>+</td><td> 27787083</td><td> 27787319</td><td>0</td><td>1</td><td>236  </td><td>0     </td><td> 4.3820266</td><td>0.00315255</td></tr>\n",
       "\t<tr><td>chr13</td><td> 27793507</td><td> 27793556</td><td>DAC.252-x1-0</td><td>0</td><td>+</td><td> 27793507</td><td> 27793556</td><td>0</td><td>1</td><td>49   </td><td>0     </td><td> 0.4700036</td><td>0.72965087</td></tr>\n",
       "\t<tr><td>chr14</td><td> 20781640</td><td> 20781689</td><td>DAC.263-x1-0</td><td>0</td><td>-</td><td> 20781640</td><td> 20781689</td><td>0</td><td>1</td><td>49   </td><td>0     </td><td>-1.2655020</td><td>0.44649997</td></tr>\n",
       "\t<tr><td>chr19</td><td> 35166588</td><td> 35166637</td><td>DAC.314-x1-0</td><td>0</td><td>-</td><td> 35166588</td><td> 35166637</td><td>0</td><td>1</td><td>49   </td><td>0     </td><td>-0.5831463</td><td>0.71630327</td></tr>\n",
       "\t<tr><td>chr19</td><td> 56894263</td><td> 56895173</td><td>DAC.322-x1-0</td><td>0</td><td>-</td><td> 56894263</td><td> 56895173</td><td>0</td><td>2</td><td>25,25</td><td>0,886 </td><td> 0.6701577</td><td>0.78813524</td></tr>\n",
       "\t<tr><td>chr1 </td><td> 20945055</td><td> 20945299</td><td>DAC.4-x1-0  </td><td>0</td><td>+</td><td> 20945055</td><td> 20945299</td><td>0</td><td>1</td><td>244  </td><td>0     </td><td> 1.7346011</td><td>0.83556288</td></tr>\n",
       "</tbody>\n",
       "</table>\n"
      ],
      "text/latex": [
       "A data.frame: 13 × 14\n",
       "\\begin{tabular}{r|llllllllllllll}\n",
       " chr & start & end & name & score & strand & thickStart & thickEnd & itemRgb & blockCount & blockSizes & blockStarts & logFC & p\\_value\\\\\n",
       " <fct> & <dbl> & <dbl> & <fct> & <dbl> & <fct> & <dbl> & <dbl> & <dbl> & <int> & <fct> & <fct> & <dbl> & <dbl>\\\\\n",
       "\\hline\n",
       "\t chr1  &  85718382 &  85724348 & DAC.12-x1-0  & 0 & - &  85718382 &  85724348 & 0 & 2 & 4,142 & 0,5825 & -5.4847969 & 0.01058394\\\\\n",
       "\t chr9  &  74586481 &  74587648 & DAC.204-x1-0 & 0 & + &  74586481 &  74587648 & 0 & 2 & 54,41 & 0,1127 & -3.9512437 & 0.12382754\\\\\n",
       "\t chr11 &  65306434 &  65306483 & DAC.222-x1-0 & 0 & - &  65306434 &  65306483 & 0 & 1 & 49    & 0      & -2.1897896 & 0.45291340\\\\\n",
       "\t chr11 & 110171043 & 110171092 & DAC.223-x1-0 & 0 & - & 110171043 & 110171092 & 0 & 1 & 49    & 0      & -1.3862944 & 0.28816489\\\\\n",
       "\t chr12 &   1192345 &   1192689 & DAC.230-x1-0 & 0 & + &   1192345 &   1192689 & 0 & 1 & 344   & 0      &  0.8758617 & 0.04156374\\\\\n",
       "\t chr12 &   1213957 &   1219422 & DAC.230-x1-0 & 0 & + &   1213957 &   1219422 & 0 & 2 & 34,65 & 0,5401 &  0.6127657 & 0.81236235\\\\\n",
       "\t chr12 &   1250787 &   1250885 & DAC.230-x1-0 & 0 & + &   1250787 &   1250885 & 0 & 1 & 98    & 0      & -5.5947114 & 0.05141639\\\\\n",
       "\t chr13 &  27787083 &  27787319 & DAC.252-x1-0 & 0 & + &  27787083 &  27787319 & 0 & 1 & 236   & 0      &  4.3820266 & 0.00315255\\\\\n",
       "\t chr13 &  27793507 &  27793556 & DAC.252-x1-0 & 0 & + &  27793507 &  27793556 & 0 & 1 & 49    & 0      &  0.4700036 & 0.72965087\\\\\n",
       "\t chr14 &  20781640 &  20781689 & DAC.263-x1-0 & 0 & - &  20781640 &  20781689 & 0 & 1 & 49    & 0      & -1.2655020 & 0.44649997\\\\\n",
       "\t chr19 &  35166588 &  35166637 & DAC.314-x1-0 & 0 & - &  35166588 &  35166637 & 0 & 1 & 49    & 0      & -0.5831463 & 0.71630327\\\\\n",
       "\t chr19 &  56894263 &  56895173 & DAC.322-x1-0 & 0 & - &  56894263 &  56895173 & 0 & 2 & 25,25 & 0,886  &  0.6701577 & 0.78813524\\\\\n",
       "\t chr1  &  20945055 &  20945299 & DAC.4-x1-0   & 0 & + &  20945055 &  20945299 & 0 & 1 & 244   & 0      &  1.7346011 & 0.83556288\\\\\n",
       "\\end{tabular}\n"
      ],
      "text/markdown": [
       "\n",
       "A data.frame: 13 × 14\n",
       "\n",
       "| chr &lt;fct&gt; | start &lt;dbl&gt; | end &lt;dbl&gt; | name &lt;fct&gt; | score &lt;dbl&gt; | strand &lt;fct&gt; | thickStart &lt;dbl&gt; | thickEnd &lt;dbl&gt; | itemRgb &lt;dbl&gt; | blockCount &lt;int&gt; | blockSizes &lt;fct&gt; | blockStarts &lt;fct&gt; | logFC &lt;dbl&gt; | p_value &lt;dbl&gt; |\n",
       "|---|---|---|---|---|---|---|---|---|---|---|---|---|---|\n",
       "| chr1  |  85718382 |  85724348 | DAC.12-x1-0  | 0 | - |  85718382 |  85724348 | 0 | 2 | 4,142 | 0,5825 | -5.4847969 | 0.01058394 |\n",
       "| chr9  |  74586481 |  74587648 | DAC.204-x1-0 | 0 | + |  74586481 |  74587648 | 0 | 2 | 54,41 | 0,1127 | -3.9512437 | 0.12382754 |\n",
       "| chr11 |  65306434 |  65306483 | DAC.222-x1-0 | 0 | - |  65306434 |  65306483 | 0 | 1 | 49    | 0      | -2.1897896 | 0.45291340 |\n",
       "| chr11 | 110171043 | 110171092 | DAC.223-x1-0 | 0 | - | 110171043 | 110171092 | 0 | 1 | 49    | 0      | -1.3862944 | 0.28816489 |\n",
       "| chr12 |   1192345 |   1192689 | DAC.230-x1-0 | 0 | + |   1192345 |   1192689 | 0 | 1 | 344   | 0      |  0.8758617 | 0.04156374 |\n",
       "| chr12 |   1213957 |   1219422 | DAC.230-x1-0 | 0 | + |   1213957 |   1219422 | 0 | 2 | 34,65 | 0,5401 |  0.6127657 | 0.81236235 |\n",
       "| chr12 |   1250787 |   1250885 | DAC.230-x1-0 | 0 | + |   1250787 |   1250885 | 0 | 1 | 98    | 0      | -5.5947114 | 0.05141639 |\n",
       "| chr13 |  27787083 |  27787319 | DAC.252-x1-0 | 0 | + |  27787083 |  27787319 | 0 | 1 | 236   | 0      |  4.3820266 | 0.00315255 |\n",
       "| chr13 |  27793507 |  27793556 | DAC.252-x1-0 | 0 | + |  27793507 |  27793556 | 0 | 1 | 49    | 0      |  0.4700036 | 0.72965087 |\n",
       "| chr14 |  20781640 |  20781689 | DAC.263-x1-0 | 0 | - |  20781640 |  20781689 | 0 | 1 | 49    | 0      | -1.2655020 | 0.44649997 |\n",
       "| chr19 |  35166588 |  35166637 | DAC.314-x1-0 | 0 | - |  35166588 |  35166637 | 0 | 1 | 49    | 0      | -0.5831463 | 0.71630327 |\n",
       "| chr19 |  56894263 |  56895173 | DAC.322-x1-0 | 0 | - |  56894263 |  56895173 | 0 | 2 | 25,25 | 0,886  |  0.6701577 | 0.78813524 |\n",
       "| chr1  |  20945055 |  20945299 | DAC.4-x1-0   | 0 | + |  20945055 |  20945299 | 0 | 1 | 244   | 0      |  1.7346011 | 0.83556288 |\n",
       "\n"
      ],
      "text/plain": [
       "   chr   start     end       name         score strand thickStart thickEnd \n",
       "1  chr1   85718382  85724348 DAC.12-x1-0  0     -       85718382   85724348\n",
       "2  chr9   74586481  74587648 DAC.204-x1-0 0     +       74586481   74587648\n",
       "3  chr11  65306434  65306483 DAC.222-x1-0 0     -       65306434   65306483\n",
       "4  chr11 110171043 110171092 DAC.223-x1-0 0     -      110171043  110171092\n",
       "5  chr12   1192345   1192689 DAC.230-x1-0 0     +        1192345    1192689\n",
       "6  chr12   1213957   1219422 DAC.230-x1-0 0     +        1213957    1219422\n",
       "7  chr12   1250787   1250885 DAC.230-x1-0 0     +        1250787    1250885\n",
       "8  chr13  27787083  27787319 DAC.252-x1-0 0     +       27787083   27787319\n",
       "9  chr13  27793507  27793556 DAC.252-x1-0 0     +       27793507   27793556\n",
       "10 chr14  20781640  20781689 DAC.263-x1-0 0     -       20781640   20781689\n",
       "11 chr19  35166588  35166637 DAC.314-x1-0 0     -       35166588   35166637\n",
       "12 chr19  56894263  56895173 DAC.322-x1-0 0     -       56894263   56895173\n",
       "13 chr1   20945055  20945299 DAC.4-x1-0   0     +       20945055   20945299\n",
       "   itemRgb blockCount blockSizes blockStarts logFC      p_value   \n",
       "1  0       2          4,142      0,5825      -5.4847969 0.01058394\n",
       "2  0       2          54,41      0,1127      -3.9512437 0.12382754\n",
       "3  0       1          49         0           -2.1897896 0.45291340\n",
       "4  0       1          49         0           -1.3862944 0.28816489\n",
       "5  0       1          344        0            0.8758617 0.04156374\n",
       "6  0       2          34,65      0,5401       0.6127657 0.81236235\n",
       "7  0       1          98         0           -5.5947114 0.05141639\n",
       "8  0       1          236        0            4.3820266 0.00315255\n",
       "9  0       1          49         0            0.4700036 0.72965087\n",
       "10 0       1          49         0           -1.2655020 0.44649997\n",
       "11 0       1          49         0           -0.5831463 0.71630327\n",
       "12 0       2          25,25      0,886        0.6701577 0.78813524\n",
       "13 0       1          244        0            1.7346011 0.83556288"
      ]
     },
     "metadata": {},
     "output_type": "display_data"
    }
   ],
   "source": [
    "result_all %>% filter(grepl('DAC',name))"
   ]
  },
  {
   "cell_type": "code",
   "execution_count": 24,
   "metadata": {},
   "outputs": [],
   "source": [
    "# %%R\n",
    "write.table(result_all %>% filter(grepl('DAC',name)), file = \"radar_scallop/result.all.txt\",row.names=F, sep='\\t', quote=FALSE) \n",
    "write.table(result_sig %>% filter(grepl('DAC',name)), file = \"radar_scallop/result.sig.txt\",row.names=F, sep='\\t',quote=FALSE) "
   ]
  },
  {
   "cell_type": "code",
   "execution_count": null,
   "metadata": {},
   "outputs": [],
   "source": [
    "# cp -v radar/result.sig.txt hl60_delta_mtyl_table.txt "
   ]
  },
  {
   "cell_type": "code",
   "execution_count": null,
   "metadata": {},
   "outputs": [],
   "source": [
    "# !cat hl60_delta_mtyl_table.txt | head "
   ]
  },
  {
   "cell_type": "markdown",
   "metadata": {
    "tags": []
   },
   "source": [
    "### Save results into `bed12` format \n",
    "`tidyverse` can not be loaded while using RADAR!"
   ]
  },
  {
   "cell_type": "code",
   "execution_count": 26,
   "metadata": {},
   "outputs": [
    {
     "name": "stderr",
     "output_type": "stream",
     "text": [
      "Warning message:\n",
      "“`lang()` is deprecated as of rlang 0.2.0.\n",
      "Please use `call2()` instead.\n",
      "\u001b[90mThis warning is displayed once per session.\u001b[39m”\n",
      "Warning message:\n",
      "“`new_overscope()` is deprecated as of rlang 0.2.0.\n",
      "Please use `new_data_mask()` instead.\n",
      "\u001b[90mThis warning is displayed once per session.\u001b[39m”\n",
      "Warning message:\n",
      "“`overscope_eval_next()` is deprecated as of rlang 0.2.0.\n",
      "Please use `eval_tidy()` with a data mask instead.\n",
      "\u001b[90mThis warning is displayed once per session.\u001b[39m”\n"
     ]
    }
   ],
   "source": [
    "# save bed 12 format \n",
    "names(result_all)[1] <- paste0(\"# \", names(result_all)[1])\n",
    "write.table(result_all %>% dplyr::select(c(1:12)) %>% filter(grepl('DAC',name)), file = \"radar_scallop/result.all.bed\",row.names=F, sep=\"\\t\", quote=FALSE) "
   ]
  },
  {
   "cell_type": "code",
   "execution_count": 27,
   "metadata": {},
   "outputs": [],
   "source": [
    "# save bed 12 format \n",
    "names(result_sig)[1] <- paste0(\"# \", names(result_sig)[1])\n",
    "write.table(result_sig %>% dplyr::select(c(1:12)) %>% filter(grepl('DAC',name)), file = \"radar/result.sig.bed\",row.names=F, sep='\\t',quote=FALSE)"
   ]
  },
  {
   "cell_type": "code",
   "execution_count": 29,
   "metadata": {},
   "outputs": [
    {
     "data": {
      "text/plain": [
       "R version 3.5.1 (2018-07-02)\n",
       "Platform: x86_64-conda_cos6-linux-gnu (64-bit)\n",
       "Running under: Ubuntu 18.04.4 LTS\n",
       "\n",
       "Matrix products: default\n",
       "BLAS/LAPACK: /rumi/shams/abe/anaconda3/envs/imRIP/radar/lib/R/lib/libRblas.so\n",
       "\n",
       "locale:\n",
       " [1] LC_CTYPE=en_US.UTF-8       LC_NUMERIC=C              \n",
       " [3] LC_TIME=en_US.UTF-8        LC_COLLATE=en_US.UTF-8    \n",
       " [5] LC_MONETARY=en_US.UTF-8    LC_MESSAGES=en_US.UTF-8   \n",
       " [7] LC_PAPER=en_US.UTF-8       LC_NAME=C                 \n",
       " [9] LC_ADDRESS=C               LC_TELEPHONE=C            \n",
       "[11] LC_MEASUREMENT=en_US.UTF-8 LC_IDENTIFICATION=C       \n",
       "\n",
       "attached base packages:\n",
       "[1] stats4    parallel  stats     graphics  grDevices utils     datasets \n",
       "[8] methods   base     \n",
       "\n",
       "other attached packages:\n",
       " [1] bindrcpp_0.2.2            forcats_0.3.0            \n",
       " [3] stringr_1.3.1             dplyr_0.7.6              \n",
       " [5] purrr_0.2.5               readr_1.1.1              \n",
       " [7] tidyr_0.8.1               tibble_1.4.2             \n",
       " [9] tidyverse_1.2.1           RADAR_0.2.3              \n",
       "[11] qvalue_2.16.0             RcppArmadillo_0.8.600.0.0\n",
       "[13] Rcpp_1.0.4.6              RColorBrewer_1.1-2       \n",
       "[15] gplots_3.0.1              doParallel_1.0.11        \n",
       "[17] iterators_1.0.10          foreach_1.4.4            \n",
       "[19] ggplot2_3.0.0             Rsamtools_1.34.0         \n",
       "[21] Biostrings_2.50.2         XVector_0.22.0           \n",
       "[23] GenomicFeatures_1.34.1    AnnotationDbi_1.44.0     \n",
       "[25] Biobase_2.42.0            GenomicRanges_1.34.0     \n",
       "[27] GenomeInfoDb_1.18.1       IRanges_2.16.0           \n",
       "[29] S4Vectors_0.20.1          BiocGenerics_0.28.0      \n",
       "\n",
       "loaded via a namespace (and not attached):\n",
       " [1] colorspace_1.3-2            IRdisplay_0.7.0            \n",
       " [3] htmlTable_1.12              base64enc_0.1-3            \n",
       " [5] rstudioapi_0.7              bit64_0.9-7                \n",
       " [7] lubridate_1.7.4             xml2_1.2.0                 \n",
       " [9] codetools_0.2-15            splines_3.5.1              \n",
       "[11] geneplotter_1.60.0          knitr_1.20                 \n",
       "[13] IRkernel_1.1                Formula_1.2-3              \n",
       "[15] jsonlite_1.5                broom_0.5.0                \n",
       "[17] annotate_1.60.1             cluster_2.0.7-1            \n",
       "[19] compiler_3.5.1              httr_1.3.1                 \n",
       "[21] backports_1.1.2             assertthat_0.2.0           \n",
       "[23] Matrix_1.2-14               lazyeval_0.2.1             \n",
       "[25] cli_1.0.0                   acepack_1.4.1              \n",
       "[27] htmltools_0.3.6             prettyunits_1.0.2          \n",
       "[29] tools_3.5.1                 gtable_0.2.0               \n",
       "[31] glue_1.3.0                  GenomeInfoDbData_1.2.1     \n",
       "[33] reshape2_1.4.3              cellranger_1.1.0           \n",
       "[35] gdata_2.18.0                nlme_3.1-137               \n",
       "[37] rtracklayer_1.42.1          rvest_0.3.2                \n",
       "[39] gtools_3.8.1                XML_3.98-1.12              \n",
       "[41] zlibbioc_1.28.0             scales_0.5.0               \n",
       "[43] hms_0.4.2                   SummarizedExperiment_1.12.0\n",
       "[45] memoise_1.1.0               gridExtra_2.3              \n",
       "[47] biomaRt_2.38.0              rpart_4.1-13               \n",
       "[49] latticeExtra_0.6-28         stringi_1.2.4              \n",
       "[51] RSQLite_2.1.1               genefilter_1.64.0          \n",
       "[53] checkmate_1.8.5             caTools_1.17.1.1           \n",
       "[55] BiocParallel_1.16.6         repr_1.0.0                 \n",
       "[57] rlang_0.4.7                 pkgconfig_2.0.1            \n",
       "[59] matrixStats_0.56.0          bitops_1.0-6               \n",
       "[61] evaluate_0.11               lattice_0.20-35            \n",
       "[63] bindr_0.1.1                 GenomicAlignments_1.18.1   \n",
       "[65] htmlwidgets_1.2             bit_1.1-14                 \n",
       "[67] tidyselect_0.2.4            plyr_1.8.4                 \n",
       "[69] magrittr_1.5                DESeq2_1.22.1              \n",
       "[71] R6_2.2.2                    Hmisc_4.1-1                \n",
       "[73] pbdZMQ_0.3-3                DelayedArray_0.8.0         \n",
       "[75] DBI_1.0.0                   pillar_1.3.0               \n",
       "[77] haven_1.1.2                 foreign_0.8-71             \n",
       "[79] withr_2.1.2                 survival_2.42-6            \n",
       "[81] RCurl_1.95-4.11             nnet_7.3-12                \n",
       "[83] modelr_0.1.2                crayon_1.3.4               \n",
       "[85] uuid_0.1-4                  KernSmooth_2.23-15         \n",
       "[87] progress_1.2.2              readxl_1.1.0               \n",
       "[89] locfit_1.5-9.4              grid_3.5.1                 \n",
       "[91] data.table_1.11.6           blob_1.1.1                 \n",
       "[93] digest_0.6.15               xtable_1.8-2               \n",
       "[95] munsell_0.5.0              "
      ]
     },
     "metadata": {},
     "output_type": "display_data"
    }
   ],
   "source": [
    "sessionInfo()"
   ]
  },
  {
   "cell_type": "code",
   "execution_count": 30,
   "metadata": {},
   "outputs": [
    {
     "data": {
      "text/html": [
       "'Tue Aug 30 22:10:03 2022'"
      ],
      "text/latex": [
       "'Tue Aug 30 22:10:03 2022'"
      ],
      "text/markdown": [
       "'Tue Aug 30 22:10:03 2022'"
      ],
      "text/plain": [
       "[1] \"Tue Aug 30 22:10:03 2022\""
      ]
     },
     "metadata": {},
     "output_type": "display_data"
    }
   ],
   "source": [
    "date()"
   ]
  }
 ],
 "metadata": {
  "kernelspec": {
   "display_name": "Python [conda env:alignment]",
   "language": "python",
   "name": "conda-env-alignment-py"
  },
  "language_info": {
   "codemirror_mode": {
    "name": "ipython",
    "version": 3
   },
   "file_extension": ".py",
   "mimetype": "text/x-python",
   "name": "python",
   "nbconvert_exporter": "python",
   "pygments_lexer": "ipython3",
   "version": "3.6.10"
  }
 },
 "nbformat": 4,
 "nbformat_minor": 4
}
