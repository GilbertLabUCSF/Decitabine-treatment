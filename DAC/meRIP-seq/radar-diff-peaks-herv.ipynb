{
 "cells": [
  {
   "cell_type": "markdown",
   "metadata": {},
   "source": [
    "We aim to use `RADAR` to do differential analysis of m6A peaks. I'm starting from `fastq` raw data to align them using `STAR`; then I will use `bam` files to run `RADAR` and explore the results for downstream analysis.\n",
    "\n",
    "I needed to re-build `STAR` indices as I've described in my notebook at `genomes/build-genome.ipynb` (see my GitHub repo). "
   ]
  },
  {
   "cell_type": "code",
   "execution_count": 1,
   "metadata": {
    "tags": []
   },
   "outputs": [],
   "source": [
    "mkdir <- function (output_dir){\n",
    "    if (!dir.exists(output_dir)){\n",
    "        dir.create(output_dir)\n",
    "        print(output_dir)\n",
    "        print(\"created!\")\n",
    "    } else {\n",
    "        print(output_dir)\n",
    "        print(\"already exists!\")\n",
    "    }\n",
    "}"
   ]
  },
  {
   "cell_type": "markdown",
   "metadata": {
    "tags": []
   },
   "source": [
    "# Peak calling task - Running `RADAR`\n",
    "\n",
    "https://scottzijiezhang.github.io/RADARmanual/workflow.html"
   ]
  },
  {
   "cell_type": "code",
   "execution_count": 2,
   "metadata": {},
   "outputs": [],
   "source": [
    "suppressMessages(suppressWarnings(library (RADAR)))\n",
    "suppressMessages(suppressWarnings(library (tidyverse)))\n",
    "suppressMessages(suppressWarnings(library (genomation)))"
   ]
  },
  {
   "cell_type": "markdown",
   "metadata": {
    "tags": []
   },
   "source": [
    "## 1. load `bam` files and make `MeRIP.RADAR` object\n",
    "I'll save the object for later usage while it takes long time to generate. "
   ]
  },
  {
   "cell_type": "code",
   "execution_count": 3,
   "metadata": {},
   "outputs": [],
   "source": [
    "# read_bed12 <- function(herv_bed_file){\n",
    "#     bed12_colnames = paste0('V',1:12)\n",
    "#     names(bed12_colnames) = c(\n",
    "#         'chromosome','start','end','name','score','strand',\n",
    "#         'thickStart','thickEnd','itemRgb','blockCount','blockSizes', 'blockStarts'\n",
    "#     )\n",
    "\n",
    "#     herv_bed = read.table(herv_bed_file)\n",
    "\n",
    "#     herv_bed_gr = herv_bed %>% dplyr::rename(all_of(bed12_colnames)) %>% GRanges\n",
    "\n",
    "#     herv_exons = herv_bed %>% convertBed2Exons\n",
    "\n",
    "#     herv_exons_grl = split(herv_exons,mcols(herv_exons)$name)\n",
    "\n",
    "#     return(herv_exons_grl)\n",
    "# }"
   ]
  },
  {
   "cell_type": "code",
   "execution_count": null,
   "metadata": {
    "tags": []
   },
   "outputs": [],
   "source": []
  },
  {
   "cell_type": "code",
   "execution_count": 4,
   "metadata": {},
   "outputs": [],
   "source": [
    "run_radar <- function(GTF, bamDir,outputDir,threads){\n",
    "    mkdir(outputDir)\n",
    "    \n",
    "    radar <- countReads(\n",
    "        samplenames=c('U1','U2','T1','T2'),\n",
    "        annotation = GTF,\n",
    "        # gtf = GTF,\n",
    "        bamFolder=bamDir,\n",
    "        modification = \"m6A\", \n",
    "        strandToKeep = \"opposite\",\n",
    "        threads = threads,\n",
    "    )\n",
    "        \n",
    "    return(radar)\n",
    "}"
   ]
  },
  {
   "cell_type": "code",
   "execution_count": 5,
   "metadata": {
    "tags": []
   },
   "outputs": [],
   "source": [
    "# radar_results = list()"
   ]
  },
  {
   "cell_type": "markdown",
   "metadata": {
    "tags": []
   },
   "source": [
    "### erv"
   ]
  },
  {
   "cell_type": "code",
   "execution_count": null,
   "metadata": {},
   "outputs": [
    {
     "name": "stdout",
     "output_type": "stream",
     "text": [
      "[1] \"radar_herv/erv\"\n",
      "[1] \"already exists!\"\n",
      "[1] \"Stage: index bam file align/bam_erv/U1.input.bam\"\n",
      "[1] \"Stage: index bam file align/bam_erv/U1.m6A.bam\"\n",
      "[1] \"Stage: index bam file align/bam_erv/U2.input.bam\"\n",
      "[1] \"Stage: index bam file align/bam_erv/U2.m6A.bam\"\n",
      "[1] \"Stage: index bam file align/bam_erv/T1.input.bam\"\n",
      "[1] \"Stage: index bam file align/bam_erv/T1.m6A.bam\"\n",
      "[1] \"Stage: index bam file align/bam_erv/T2.input.bam\"\n",
      "[1] \"Stage: index bam file align/bam_erv/T2.m6A.bam\"\n",
      "Reading gtf file to obtain gene model\n",
      "Filter out ambiguous model...\n"
     ]
    },
    {
     "name": "stderr",
     "output_type": "stream",
     "text": [
      "Import genomic features from the file as a GRanges object ... \n",
      "OK\n",
      "\n",
      "Prepare the 'metadata' data frame ... \n",
      "OK\n",
      "\n",
      "Make the TxDb object ... \n",
      "OK\n",
      "\n"
     ]
    }
   ],
   "source": [
    "radar = run_radar(\n",
    "    GTF = '~/tools/HERVs/files/package-entities-erv.gtf.gz',\n",
    "    bamDir='align/bam_erv',\n",
    "    outputDir='radar_herv/erv',\n",
    "    threads = 25\n",
    ")"
   ]
  },
  {
   "cell_type": "code",
   "execution_count": null,
   "metadata": {
    "tags": []
   },
   "outputs": [],
   "source": [
    "radar <- normalizeLibrary(radar, boxPlot=0)"
   ]
  },
  {
   "cell_type": "code",
   "execution_count": null,
   "metadata": {
    "tags": []
   },
   "outputs": [],
   "source": [
    "radar <- adjustExprLevel(radar)\n",
    "# radar <- adjustExprLevel(radar, adjustBy = \"pos\")\n",
    "\n",
    "# If you expect intensive alternative splicing events cross the experimental groups, \n",
    "# using gene-level read counts to represent pre-IP RNA level could leads to bias. \n",
    "# Therefore, the user can also choose to use the local bin-level read count to adjust \n",
    "# the pre-IP RNA level variation\n",
    "\n",
    "variable(radar) <- data.frame( group = c(rep(\"Untreated\",2),rep(\"Treated\",2)))"
   ]
  },
  {
   "cell_type": "code",
   "execution_count": null,
   "metadata": {
    "tags": []
   },
   "outputs": [],
   "source": [
    "radar <- filterBins(radar,minCountsCutOff = 0)\n",
    "\n",
    "radar <- diffIP_parallel(radar,thread = 30)"
   ]
  },
  {
   "cell_type": "code",
   "execution_count": null,
   "metadata": {
    "tags": []
   },
   "outputs": [],
   "source": [
    "saveRDS(radar, 'radar_herv/erv/finalObj.rds')"
   ]
  },
  {
   "cell_type": "code",
   "execution_count": null,
   "metadata": {},
   "outputs": [],
   "source": [
    "radar_all <- reportResult(radar, cutoff = 1.1, Beta_cutoff = 0.00, threads=18) %>% results"
   ]
  },
  {
   "cell_type": "code",
   "execution_count": null,
   "metadata": {
    "tags": []
   },
   "outputs": [],
   "source": [
    "write.table(\n",
    "    radar_all, \n",
    "    file = \"radar_herv/erv/result.all.txt\",\n",
    "    row.names=F, sep='\\t',quote=FALSE\n",
    ")"
   ]
  },
  {
   "cell_type": "code",
   "execution_count": null,
   "metadata": {
    "tags": []
   },
   "outputs": [],
   "source": [
    "radar_sig <- reportResult(radar, cutoff = 0.10, Beta_cutoff = 0.5, threads=18) %>% results"
   ]
  },
  {
   "cell_type": "code",
   "execution_count": null,
   "metadata": {
    "tags": []
   },
   "outputs": [],
   "source": [
    "write.table(\n",
    "    radar_sig, \n",
    "    file = \"radar_herv/erv/result.sig.txt\",\n",
    "    row.names=F, sep='\\t',quote=FALSE\n",
    ")"
   ]
  },
  {
   "cell_type": "markdown",
   "metadata": {
    "jp-MarkdownHeadingCollapsed": true,
    "tags": []
   },
   "source": [
    "### line"
   ]
  },
  {
   "cell_type": "code",
   "execution_count": null,
   "metadata": {
    "tags": []
   },
   "outputs": [
    {
     "name": "stdout",
     "output_type": "stream",
     "text": [
      "[1] \"radar_herv/line\"\n",
      "[1] \"created!\"\n",
      "[1] \"Stage: index bam file align/bam_line/U1.input.bam\"\n",
      "[1] \"Stage: index bam file align/bam_line/U1.m6A.bam\"\n",
      "[1] \"Stage: index bam file align/bam_line/U2.input.bam\"\n",
      "[1] \"Stage: index bam file align/bam_line/U2.m6A.bam\"\n",
      "[1] \"Stage: index bam file align/bam_line/T1.input.bam\"\n",
      "[1] \"Stage: index bam file align/bam_line/T1.m6A.bam\"\n",
      "[1] \"Stage: index bam file align/bam_line/T2.input.bam\"\n",
      "[1] \"Stage: index bam file align/bam_line/T2.m6A.bam\"\n",
      "Reading gtf file to obtain gene model\n",
      "Filter out ambiguous model...\n"
     ]
    },
    {
     "name": "stderr",
     "output_type": "stream",
     "text": [
      "Import genomic features from the file as a GRanges object ... \n",
      "OK\n",
      "\n",
      "Prepare the 'metadata' data frame ... \n",
      "OK\n",
      "\n",
      "Make the TxDb object ... \n",
      "OK\n",
      "\n"
     ]
    }
   ],
   "source": [
    "radar = run_radar(\n",
    "    GTF = '~/tools/HERVs/files/package-entities-line.gtf.gz',\n",
    "    bamDir='align/bam_line',\n",
    "    outputDir='radar_herv/line',\n",
    "    threads = 25\n",
    ")"
   ]
  },
  {
   "cell_type": "code",
   "execution_count": null,
   "metadata": {
    "tags": []
   },
   "outputs": [],
   "source": [
    "radar <- normalizeLibrary(radar, boxPlot=0)"
   ]
  },
  {
   "cell_type": "code",
   "execution_count": null,
   "metadata": {
    "tags": []
   },
   "outputs": [],
   "source": [
    "radar <- adjustExprLevel(radar)\n",
    "# radar <- adjustExprLevel(radar, adjustBy = \"pos\")\n",
    "\n",
    "# If you expect intensive alternative splicing events cross the experimental groups, \n",
    "# using gene-level read counts to represent pre-IP RNA level could leads to bias. \n",
    "# Therefore, the user can also choose to use the local bin-level read count to adjust \n",
    "# the pre-IP RNA level variation\n",
    "\n",
    "variable(radar) <- data.frame( group = c(rep(\"Untreated\",2),rep(\"Treated\",2)))"
   ]
  },
  {
   "cell_type": "code",
   "execution_count": null,
   "metadata": {
    "tags": []
   },
   "outputs": [],
   "source": [
    "radar <- filterBins(radar,minCountsCutOff = 0)\n",
    "\n",
    "radar <- diffIP_parallel(radar,thread = 30)"
   ]
  },
  {
   "cell_type": "code",
   "execution_count": null,
   "metadata": {
    "tags": []
   },
   "outputs": [],
   "source": [
    "saveRDS(radar, 'radar_herv/line/finalObj.rds')"
   ]
  },
  {
   "cell_type": "code",
   "execution_count": null,
   "metadata": {
    "tags": []
   },
   "outputs": [],
   "source": [
    "radar_all <- reportResult(radar, cutoff = 1.1, Beta_cutoff = 0.00, threads=18) %>% results"
   ]
  },
  {
   "cell_type": "code",
   "execution_count": null,
   "metadata": {
    "tags": []
   },
   "outputs": [],
   "source": [
    "write.table(\n",
    "    radar_all, \n",
    "    file = \"radar_herv/line/result.all.txt\",\n",
    "    row.names=F, sep='\\t',quote=FALSE\n",
    ")"
   ]
  },
  {
   "cell_type": "code",
   "execution_count": null,
   "metadata": {
    "tags": []
   },
   "outputs": [],
   "source": [
    "radar_sig <- reportResult(radar, cutoff = 0.10, Beta_cutoff = 0.5, threads=18) %>% results"
   ]
  },
  {
   "cell_type": "code",
   "execution_count": null,
   "metadata": {
    "tags": []
   },
   "outputs": [],
   "source": [
    "write.table(\n",
    "    radar_sig, \n",
    "    file = \"radar_herv/line/result.sig.txt\",\n",
    "    row.names=F, sep='\\t',quote=FALSE\n",
    ")"
   ]
  },
  {
   "cell_type": "markdown",
   "metadata": {
    "jp-MarkdownHeadingCollapsed": true,
    "tags": []
   },
   "source": [
    "### rc"
   ]
  },
  {
   "cell_type": "code",
   "execution_count": 42,
   "metadata": {
    "tags": []
   },
   "outputs": [
    {
     "name": "stdout",
     "output_type": "stream",
     "text": [
      "[1] \"radar_herv/rc\"\n",
      "[1] \"created!\"\n",
      "[1] \"Stage: index bam file align/bam_rc/U1.input.bam\"\n",
      "[1] \"Stage: index bam file align/bam_rc/U1.m6A.bam\"\n",
      "[1] \"Stage: index bam file align/bam_rc/U2.input.bam\"\n",
      "[1] \"Stage: index bam file align/bam_rc/U2.m6A.bam\"\n",
      "[1] \"Stage: index bam file align/bam_rc/T1.input.bam\"\n",
      "[1] \"Stage: index bam file align/bam_rc/T1.m6A.bam\"\n",
      "[1] \"Stage: index bam file align/bam_rc/T2.input.bam\"\n",
      "[1] \"Stage: index bam file align/bam_rc/T2.m6A.bam\"\n",
      "Reading gtf file to obtain gene model\n",
      "Filter out ambiguous model...\n"
     ]
    },
    {
     "name": "stderr",
     "output_type": "stream",
     "text": [
      "Import genomic features from the file as a GRanges object ... \n",
      "OK\n",
      "\n",
      "Prepare the 'metadata' data frame ... \n",
      "OK\n",
      "\n",
      "Make the TxDb object ... \n",
      "OK\n",
      "\n"
     ]
    },
    {
     "name": "stdout",
     "output_type": "stream",
     "text": [
      "Gene model obtained from gtf file...\n",
      "counting reads for each genes, this step may takes a few hours....\n",
      "Hyper-thread registered: TRUE \n",
      "Using 25 thread(s) to count reads in continuous bins...\n",
      "Time used to count reads: 0.595678393046061 mins... \n"
     ]
    }
   ],
   "source": [
    "radar = run_radar(\n",
    "    GTF = '~/tools/HERVs/files/package-entities-rc.gtf.gz',\n",
    "    bamDir='align/bam_rc',\n",
    "    outputDir='radar_herv/rc',\n",
    "    threads = 25\n",
    ")"
   ]
  },
  {
   "cell_type": "code",
   "execution_count": 43,
   "metadata": {},
   "outputs": [],
   "source": [
    "radar <- normalizeLibrary(radar, boxPlot=0)"
   ]
  },
  {
   "cell_type": "code",
   "execution_count": 44,
   "metadata": {},
   "outputs": [
    {
     "name": "stdout",
     "output_type": "stream",
     "text": [
      "Adjusting expression level using Input geneSum read count...\n"
     ]
    }
   ],
   "source": [
    "radar <- adjustExprLevel(radar)\n",
    "# radar <- adjustExprLevel(radar, adjustBy = \"pos\")\n",
    "\n",
    "# If you expect intensive alternative splicing events cross the experimental groups, \n",
    "# using gene-level read counts to represent pre-IP RNA level could leads to bias. \n",
    "# Therefore, the user can also choose to use the local bin-level read count to adjust \n",
    "# the pre-IP RNA level variation\n",
    "\n",
    "variable(radar) <- data.frame( group = c(rep(\"Untreated\",2),rep(\"Treated\",2)))"
   ]
  },
  {
   "cell_type": "code",
   "execution_count": 45,
   "metadata": {},
   "outputs": [
    {
     "name": "stdout",
     "output_type": "stream",
     "text": [
      "Filtering bins with low read counts...\n",
      "Bins with average counts lower than  0  in both groups have been removed...\n",
      "Filtering bins that is enriched in IP experiment...The predictor variable has been converted:\n",
      "Untreated Untreated   Treated   Treated \n",
      "        0         0         1         1 \n",
      "running PoissonGamma test at single beta mode\n",
      "Hyper-thread registered: TRUE \n",
      "Using 30 thread(s) to run PoissonGamma test...\n",
      "Time used to run PoissonGamma test: 0.00204348166783651 mins... \n",
      "\n"
     ]
    }
   ],
   "source": [
    "radar <- filterBins(radar,minCountsCutOff = 0)\n",
    "\n",
    "radar <- diffIP_parallel(radar,thread = 30)"
   ]
  },
  {
   "cell_type": "code",
   "execution_count": 46,
   "metadata": {
    "tags": []
   },
   "outputs": [],
   "source": [
    "saveRDS(radar, 'radar_herv/rc/finalObj.rds')"
   ]
  },
  {
   "cell_type": "code",
   "execution_count": 47,
   "metadata": {},
   "outputs": [
    {
     "name": "stdout",
     "output_type": "stream",
     "text": [
      "Hyper-thread registered: TRUE \n",
      "Using 18 thread(s) to report merged report...\n",
      "Time used to report peaks: 0.00560049613316854 mins... \n",
      "When merging neighboring significant bins, logFC was reported as the max logFC among these bins.\n",
      "p-value of these bins were combined by Fisher's method.\n",
      "There are 2 reported differential loci at FDR < 1.1 and logFoldChange > 0.\n"
     ]
    }
   ],
   "source": [
    "radar_all <- reportResult(radar, cutoff = 1.1, Beta_cutoff = 0.00, threads=18) %>% results"
   ]
  },
  {
   "cell_type": "code",
   "execution_count": 48,
   "metadata": {
    "tags": []
   },
   "outputs": [],
   "source": [
    "write.table(\n",
    "    radar_all, \n",
    "    file = \"radar_herv/rc/result.all.txt\",\n",
    "    row.names=F, sep='\\t',quote=FALSE\n",
    ")"
   ]
  },
  {
   "cell_type": "code",
   "execution_count": 50,
   "metadata": {
    "tags": []
   },
   "outputs": [],
   "source": [
    "# radar_sig <- reportResult(radar, cutoff = 0.10, Beta_cutoff = 0.5, threads=18) %>% results"
   ]
  },
  {
   "cell_type": "code",
   "execution_count": 51,
   "metadata": {
    "tags": []
   },
   "outputs": [],
   "source": [
    "# write.table(\n",
    "#     radar_sig, \n",
    "#     file = \"radar_herv/rc/result.sig.txt\",\n",
    "#     row.names=F, sep='\\t',quote=FALSE\n",
    "# )"
   ]
  },
  {
   "cell_type": "markdown",
   "metadata": {
    "jp-MarkdownHeadingCollapsed": true,
    "tags": []
   },
   "source": [
    "### retroposon"
   ]
  },
  {
   "cell_type": "code",
   "execution_count": 30,
   "metadata": {
    "tags": []
   },
   "outputs": [
    {
     "name": "stdout",
     "output_type": "stream",
     "text": [
      "[1] \"radar_herv/retroposon\"\n",
      "[1] \"created!\"\n",
      "[1] \"Stage: index bam file align/bam_retroposon/U1.input.bam\"\n",
      "[1] \"Stage: index bam file align/bam_retroposon/U1.m6A.bam\"\n",
      "[1] \"Stage: index bam file align/bam_retroposon/U2.input.bam\"\n",
      "[1] \"Stage: index bam file align/bam_retroposon/U2.m6A.bam\"\n",
      "[1] \"Stage: index bam file align/bam_retroposon/T1.input.bam\"\n",
      "[1] \"Stage: index bam file align/bam_retroposon/T1.m6A.bam\"\n",
      "[1] \"Stage: index bam file align/bam_retroposon/T2.input.bam\"\n",
      "[1] \"Stage: index bam file align/bam_retroposon/T2.m6A.bam\"\n",
      "Reading gtf file to obtain gene model\n",
      "Filter out ambiguous model...\n"
     ]
    },
    {
     "name": "stderr",
     "output_type": "stream",
     "text": [
      "Import genomic features from the file as a GRanges object ... \n",
      "OK\n",
      "\n",
      "Prepare the 'metadata' data frame ... \n",
      "OK\n",
      "\n",
      "Make the TxDb object ... \n",
      "OK\n",
      "\n"
     ]
    },
    {
     "name": "stdout",
     "output_type": "stream",
     "text": [
      "Gene model obtained from gtf file...\n",
      "counting reads for each genes, this step may takes a few hours....\n",
      "Hyper-thread registered: TRUE \n",
      "Using 15 thread(s) to count reads in continuous bins...\n",
      "Time used to count reads: 6.74785027503967 mins... \n"
     ]
    }
   ],
   "source": [
    "radar = run_radar(\n",
    "    GTF = '~/tools/HERVs/files/package-entities-retroposon.gtf.gz',\n",
    "    bamDir='align/bam_retroposon',\n",
    "    outputDir='radar_herv/retroposon',\n",
    "    threads = 15\n",
    ")"
   ]
  },
  {
   "cell_type": "code",
   "execution_count": 31,
   "metadata": {},
   "outputs": [],
   "source": [
    "radar <- normalizeLibrary(radar, boxPlot=0)"
   ]
  },
  {
   "cell_type": "code",
   "execution_count": 32,
   "metadata": {},
   "outputs": [
    {
     "name": "stdout",
     "output_type": "stream",
     "text": [
      "Adjusting expression level using Input geneSum read count...\n"
     ]
    }
   ],
   "source": [
    "radar <- adjustExprLevel(radar)\n",
    "# radar <- adjustExprLevel(radar, adjustBy = \"pos\")\n",
    "\n",
    "# If you expect intensive alternative splicing events cross the experimental groups, \n",
    "# using gene-level read counts to represent pre-IP RNA level could leads to bias. \n",
    "# Therefore, the user can also choose to use the local bin-level read count to adjust \n",
    "# the pre-IP RNA level variation\n",
    "\n",
    "variable(radar) <- data.frame( group = c(rep(\"Untreated\",2),rep(\"Treated\",2)))"
   ]
  },
  {
   "cell_type": "code",
   "execution_count": 33,
   "metadata": {},
   "outputs": [
    {
     "name": "stdout",
     "output_type": "stream",
     "text": [
      "Filtering bins with low read counts...\n",
      "Bins with average counts lower than  0  in both groups have been removed...\n",
      "Filtering bins that is enriched in IP experiment...The predictor variable has been converted:\n",
      "Untreated Untreated   Treated   Treated \n",
      "        0         0         1         1 \n",
      "running PoissonGamma test at single beta mode\n",
      "Hyper-thread registered: TRUE \n",
      "Using 30 thread(s) to run PoissonGamma test...\n",
      "Time used to run PoissonGamma test: 0.0182193557421366 mins... \n",
      "\n"
     ]
    }
   ],
   "source": [
    "radar <- filterBins(radar,minCountsCutOff = 0)\n",
    "\n",
    "radar <- diffIP_parallel(radar,thread = 30)"
   ]
  },
  {
   "cell_type": "code",
   "execution_count": 34,
   "metadata": {
    "tags": []
   },
   "outputs": [],
   "source": [
    "saveRDS(radar, 'radar_herv/retroposon/finalObj.rds')"
   ]
  },
  {
   "cell_type": "code",
   "execution_count": 35,
   "metadata": {},
   "outputs": [
    {
     "name": "stdout",
     "output_type": "stream",
     "text": [
      "Hyper-thread registered: TRUE \n",
      "Using 18 thread(s) to report merged report...\n",
      "Time used to report peaks: 0.0793903350830078 mins... \n",
      "When merging neighboring significant bins, logFC was reported as the max logFC among these bins.\n",
      "p-value of these bins were combined by Fisher's method.\n",
      "There are 508 reported differential loci at FDR < 1.1 and logFoldChange > 0.\n"
     ]
    }
   ],
   "source": [
    "radar_all <- reportResult(radar, cutoff = 1.1, Beta_cutoff = 0.00, threads=18) %>% results"
   ]
  },
  {
   "cell_type": "code",
   "execution_count": 37,
   "metadata": {
    "tags": []
   },
   "outputs": [],
   "source": [
    "write.table(\n",
    "    radar_all, \n",
    "    file = \"radar_herv/retroposon/result.all.txt\",\n",
    "    row.names=F, sep='\\t',quote=FALSE\n",
    ")"
   ]
  },
  {
   "cell_type": "code",
   "execution_count": 38,
   "metadata": {
    "tags": []
   },
   "outputs": [
    {
     "name": "stdout",
     "output_type": "stream",
     "text": [
      "Hyper-thread registered: TRUE \n",
      "Using 18 thread(s) to report merged report...\n",
      "Time used to report peaks: 0.0207521875699361 mins... \n",
      "When merging neighboring significant bins, logFC was reported as the max logFC among these bins.\n",
      "p-value of these bins were combined by Fisher's method.\n",
      "There are 55 reported differential loci at FDR < 0.1 and logFoldChange > 0.5.\n"
     ]
    }
   ],
   "source": [
    "radar_sig <- reportResult(radar, cutoff = 0.10, Beta_cutoff = 0.5, threads=18) %>% results"
   ]
  },
  {
   "cell_type": "code",
   "execution_count": 41,
   "metadata": {
    "tags": []
   },
   "outputs": [],
   "source": [
    "write.table(\n",
    "    radar_sig, \n",
    "    file = \"radar_herv/retroposon/result.sig.txt\",\n",
    "    row.names=F, sep='\\t',quote=FALSE\n",
    ")"
   ]
  },
  {
   "cell_type": "markdown",
   "metadata": {
    "jp-MarkdownHeadingCollapsed": true,
    "tags": []
   },
   "source": [
    "### satellite"
   ]
  },
  {
   "cell_type": "code",
   "execution_count": 7,
   "metadata": {
    "tags": []
   },
   "outputs": [
    {
     "name": "stdout",
     "output_type": "stream",
     "text": [
      "[1] \"radar_herv/satellite\"\n",
      "[1] \"created!\"\n",
      "[1] \"Stage: index bam file align/bam_satellite/U1.input.bam\"\n",
      "[1] \"Stage: index bam file align/bam_satellite/U1.m6A.bam\"\n",
      "[1] \"Stage: index bam file align/bam_satellite/U2.input.bam\"\n",
      "[1] \"Stage: index bam file align/bam_satellite/U2.m6A.bam\"\n",
      "[1] \"Stage: index bam file align/bam_satellite/T1.input.bam\"\n",
      "[1] \"Stage: index bam file align/bam_satellite/T1.m6A.bam\"\n",
      "[1] \"Stage: index bam file align/bam_satellite/T2.input.bam\"\n",
      "[1] \"Stage: index bam file align/bam_satellite/T2.m6A.bam\"\n",
      "Reading gtf file to obtain gene model\n",
      "Filter out ambiguous model...\n"
     ]
    },
    {
     "name": "stderr",
     "output_type": "stream",
     "text": [
      "Import genomic features from the file as a GRanges object ... \n",
      "OK\n",
      "\n",
      "Prepare the 'metadata' data frame ... \n",
      "OK\n",
      "\n",
      "Make the TxDb object ... \n",
      "OK\n",
      "\n"
     ]
    },
    {
     "name": "stdout",
     "output_type": "stream",
     "text": [
      "Gene model obtained from gtf file...\n",
      "counting reads for each genes, this step may takes a few hours....\n",
      "Hyper-thread registered: TRUE \n",
      "Using 15 thread(s) to count reads in continuous bins...\n",
      "Time used to count reads: 2.03983365694682 mins... \n"
     ]
    }
   ],
   "source": [
    "radar = run_radar(\n",
    "    GTF = '~/tools/HERVs/files/package-entities-satellite.gtf.gz',\n",
    "    bamDir='align/bam_satellite',\n",
    "    outputDir='radar_herv/satellite',\n",
    "    threads = 15\n",
    ")"
   ]
  },
  {
   "cell_type": "code",
   "execution_count": 12,
   "metadata": {},
   "outputs": [],
   "source": [
    "radar <- normalizeLibrary(radar, boxPlot=0)"
   ]
  },
  {
   "cell_type": "code",
   "execution_count": 13,
   "metadata": {},
   "outputs": [
    {
     "name": "stdout",
     "output_type": "stream",
     "text": [
      "Adjusting expression level using Input geneSum read count...\n"
     ]
    }
   ],
   "source": [
    "radar <- adjustExprLevel(radar)\n",
    "# radar <- adjustExprLevel(radar, adjustBy = \"pos\")\n",
    "\n",
    "# If you expect intensive alternative splicing events cross the experimental groups, \n",
    "# using gene-level read counts to represent pre-IP RNA level could leads to bias. \n",
    "# Therefore, the user can also choose to use the local bin-level read count to adjust \n",
    "# the pre-IP RNA level variation\n",
    "\n",
    "variable(radar) <- data.frame( group = c(rep(\"Untreated\",2),rep(\"Treated\",2)))"
   ]
  },
  {
   "cell_type": "code",
   "execution_count": 14,
   "metadata": {},
   "outputs": [
    {
     "name": "stdout",
     "output_type": "stream",
     "text": [
      "Filtering bins with low read counts...\n",
      "Bins with average counts lower than  0  in both groups have been removed...\n",
      "Filtering bins that is enriched in IP experiment...The predictor variable has been converted:\n",
      "Untreated Untreated   Treated   Treated \n",
      "        0         0         1         1 \n",
      "running PoissonGamma test at single beta mode\n",
      "Hyper-thread registered: TRUE \n",
      "Using 30 thread(s) to run PoissonGamma test...\n",
      "Time used to run PoissonGamma test: 0.00667332013448079 mins... \n",
      "\n"
     ]
    }
   ],
   "source": [
    "radar <- filterBins(radar,minCountsCutOff = 0)\n",
    "\n",
    "radar <- diffIP_parallel(radar,thread = 30)"
   ]
  },
  {
   "cell_type": "code",
   "execution_count": 18,
   "metadata": {
    "tags": []
   },
   "outputs": [],
   "source": [
    "saveRDS(radar, 'radar_herv/satellite/finalObj.rds')"
   ]
  },
  {
   "cell_type": "code",
   "execution_count": 26,
   "metadata": {},
   "outputs": [
    {
     "name": "stdout",
     "output_type": "stream",
     "text": [
      "Hyper-thread registered: TRUE \n",
      "Using 18 thread(s) to report merged report...\n",
      "Time used to report peaks: 0.0091277281443278 mins... \n",
      "When merging neighboring significant bins, logFC was reported as the max logFC among these bins.\n",
      "p-value of these bins were combined by Fisher's method.\n",
      "There are 14 reported differential loci at FDR < 1.1 and logFoldChange > 0.\n"
     ]
    }
   ],
   "source": [
    "radar_all <- reportResult(radar, cutoff = 1.1, Beta_cutoff = 0.00, threads=18) %>% results"
   ]
  },
  {
   "cell_type": "code",
   "execution_count": 29,
   "metadata": {
    "tags": []
   },
   "outputs": [],
   "source": [
    "write.table(\n",
    "    radar_all, \n",
    "    file = \"radar_herv/satellite/result.all.txt\",\n",
    "    row.names=F, sep='\\t',quote=FALSE\n",
    ") "
   ]
  },
  {
   "cell_type": "markdown",
   "metadata": {
    "jp-MarkdownHeadingCollapsed": true,
    "tags": []
   },
   "source": [
    "### sine"
   ]
  },
  {
   "cell_type": "code",
   "execution_count": null,
   "metadata": {
    "tags": []
   },
   "outputs": [
    {
     "name": "stdout",
     "output_type": "stream",
     "text": [
      "[1] \"radar_herv/sine\"\n",
      "[1] \"already exists!\"\n",
      "[1] \"Stage: index bam file align/bam_sine/U1.input.bam\"\n",
      "[1] \"Stage: index bam file align/bam_sine/U1.m6A.bam\"\n",
      "[1] \"Stage: index bam file align/bam_sine/U2.input.bam\"\n",
      "[1] \"Stage: index bam file align/bam_sine/U2.m6A.bam\"\n",
      "[1] \"Stage: index bam file align/bam_sine/T1.input.bam\"\n",
      "[1] \"Stage: index bam file align/bam_sine/T1.m6A.bam\"\n",
      "[1] \"Stage: index bam file align/bam_sine/T2.input.bam\"\n",
      "[1] \"Stage: index bam file align/bam_sine/T2.m6A.bam\"\n",
      "Reading gtf file to obtain gene model\n",
      "Filter out ambiguous model...\n"
     ]
    },
    {
     "name": "stderr",
     "output_type": "stream",
     "text": [
      "Import genomic features from the file as a GRanges object ... \n",
      "OK\n",
      "\n",
      "Prepare the 'metadata' data frame ... \n",
      "OK\n",
      "\n",
      "Make the TxDb object ... \n",
      "OK\n",
      "\n"
     ]
    }
   ],
   "source": [
    "radar = run_radar(\n",
    "    GTF = '~/tools/HERVs/files/package-entities-sine.gtf.gz',\n",
    "    bamDir='align/bam_sine',\n",
    "    outputDir='radar_herv/sine',\n",
    "    threads = 35\n",
    ")"
   ]
  },
  {
   "cell_type": "code",
   "execution_count": 69,
   "metadata": {},
   "outputs": [],
   "source": [
    "radar <- normalizeLibrary(radar, boxPlot=0)"
   ]
  },
  {
   "cell_type": "code",
   "execution_count": 70,
   "metadata": {},
   "outputs": [
    {
     "name": "stdout",
     "output_type": "stream",
     "text": [
      "Adjusting expression level using Input geneSum read count...\n"
     ]
    }
   ],
   "source": [
    "radar <- adjustExprLevel(radar)\n",
    "# radar <- adjustExprLevel(radar, adjustBy = \"pos\")\n",
    "\n",
    "# If you expect intensive alternative splicing events cross the experimental groups, \n",
    "# using gene-level read counts to represent pre-IP RNA level could leads to bias. \n",
    "# Therefore, the user can also choose to use the local bin-level read count to adjust \n",
    "# the pre-IP RNA level variation\n",
    "\n",
    "variable(radar) <- data.frame( group = c(rep(\"Untreated\",2),rep(\"Treated\",2)))"
   ]
  },
  {
   "cell_type": "code",
   "execution_count": 71,
   "metadata": {},
   "outputs": [
    {
     "name": "stdout",
     "output_type": "stream",
     "text": [
      "Filtering bins with low read counts...\n",
      "Bins with average counts lower than  0  in both groups have been removed...\n",
      "Filtering bins that is enriched in IP experiment...The predictor variable has been converted:\n",
      "Untreated Untreated   Treated   Treated \n",
      "        0         0         1         1 \n",
      "running PoissonGamma test at single beta mode\n",
      "Hyper-thread registered: TRUE \n",
      "Using 30 thread(s) to run PoissonGamma test...\n",
      "Time used to run PoissonGamma test: 0.178535417715708 mins... \n",
      "\n"
     ]
    }
   ],
   "source": [
    "radar <- filterBins(radar,minCountsCutOff = 0)\n",
    "\n",
    "radar <- diffIP_parallel(radar,thread = 30)"
   ]
  },
  {
   "cell_type": "code",
   "execution_count": 72,
   "metadata": {
    "tags": []
   },
   "outputs": [],
   "source": [
    "saveRDS(radar, 'radar_herv/sine/finalObj.rds')"
   ]
  },
  {
   "cell_type": "code",
   "execution_count": 75,
   "metadata": {},
   "outputs": [
    {
     "name": "stdout",
     "output_type": "stream",
     "text": [
      "Hyper-thread registered: TRUE \n",
      "Using 18 thread(s) to report merged report...\n",
      "Time used to report peaks: 3.99129880666733 mins... \n",
      "When merging neighboring significant bins, logFC was reported as the max logFC among these bins.\n",
      "p-value of these bins were combined by Fisher's method.\n",
      "There are 4311 reported differential loci at FDR < 1.1 and logFoldChange > 0.\n"
     ]
    }
   ],
   "source": [
    "radar_all <- reportResult(radar, cutoff = 1.1, Beta_cutoff = 0.00, threads=18) %>% results"
   ]
  },
  {
   "cell_type": "code",
   "execution_count": 77,
   "metadata": {
    "tags": []
   },
   "outputs": [],
   "source": [
    "write.table(\n",
    "    radar_all, \n",
    "    file = \"radar_herv/sine/result.all.txt\",\n",
    "    row.names=F, sep='\\t',quote=FALSE\n",
    ")"
   ]
  },
  {
   "cell_type": "code",
   "execution_count": 78,
   "metadata": {
    "tags": []
   },
   "outputs": [
    {
     "name": "stdout",
     "output_type": "stream",
     "text": [
      "Hyper-thread registered: TRUE \n",
      "Using 18 thread(s) to report merged report...\n",
      "Time used to report peaks: 0.340062908331553 mins... \n",
      "When merging neighboring significant bins, logFC was reported as the max logFC among these bins.\n",
      "p-value of these bins were combined by Fisher's method.\n",
      "There are 184 reported differential loci at FDR < 0.1 and logFoldChange > 0.5.\n"
     ]
    }
   ],
   "source": [
    "radar_sig <- reportResult(radar, cutoff = 0.10, Beta_cutoff = 0.5, threads=18) %>% results"
   ]
  },
  {
   "cell_type": "code",
   "execution_count": 79,
   "metadata": {
    "tags": []
   },
   "outputs": [],
   "source": [
    "write.table(\n",
    "    radar_sig, \n",
    "    file = \"radar_herv/sine/result.sig.txt\",\n",
    "    row.names=F, sep='\\t',quote=FALSE\n",
    ")"
   ]
  },
  {
   "cell_type": "markdown",
   "metadata": {
    "jp-MarkdownHeadingCollapsed": true,
    "tags": []
   },
   "source": [
    "### scrna"
   ]
  },
  {
   "cell_type": "code",
   "execution_count": 81,
   "metadata": {
    "tags": []
   },
   "outputs": [
    {
     "name": "stdout",
     "output_type": "stream",
     "text": [
      "[1] \"radar_herv/scrna\"\n",
      "[1] \"already exists!\"\n",
      "[1] \"Stage: index bam file align/bam_scrna/U1.input.bam\"\n",
      "[1] \"Stage: index bam file align/bam_scrna/U1.m6A.bam\"\n",
      "[1] \"Stage: index bam file align/bam_scrna/U2.input.bam\"\n",
      "[1] \"Stage: index bam file align/bam_scrna/U2.m6A.bam\"\n",
      "[1] \"Stage: index bam file align/bam_scrna/T1.input.bam\"\n",
      "[1] \"Stage: index bam file align/bam_scrna/T1.m6A.bam\"\n",
      "[1] \"Stage: index bam file align/bam_scrna/T2.input.bam\"\n",
      "[1] \"Stage: index bam file align/bam_scrna/T2.m6A.bam\"\n",
      "Reading gtf file to obtain gene model\n",
      "Filter out ambiguous model...\n"
     ]
    },
    {
     "name": "stderr",
     "output_type": "stream",
     "text": [
      "Import genomic features from the file as a GRanges object ... \n",
      "OK\n",
      "\n",
      "Prepare the 'metadata' data frame ... \n",
      "OK\n",
      "\n",
      "Make the TxDb object ... \n",
      "OK\n",
      "\n"
     ]
    },
    {
     "name": "stdout",
     "output_type": "stream",
     "text": [
      "Gene model obtained from gtf file...\n",
      "counting reads for each genes, this step may takes a few hours....\n",
      "Hyper-thread registered: TRUE \n",
      "Using 25 thread(s) to count reads in continuous bins...\n",
      "Time used to count reads: 0.239574722448985 mins... \n"
     ]
    },
    {
     "ename": "ERROR",
     "evalue": "Error in `colnames<-`(`*tmp*`, value = c(paste(samplenames, \"input\", sep = \"-\"), : attempt to set 'colnames' on an object with less than two dimensions\n",
     "output_type": "error",
     "traceback": [
      "Error in `colnames<-`(`*tmp*`, value = c(paste(samplenames, \"input\", sep = \"-\"), : attempt to set 'colnames' on an object with less than two dimensions\nTraceback:\n",
      "1. run_radar(GTF = \"~/tools/HERVs/files/package-entities-scrna.gtf.gz\", \n .     bamDir = \"align/bam_scrna\", outputDir = \"radar_herv/scrna\", \n .     threads = 25)",
      "2. countReads(samplenames = c(\"U1\", \"U2\", \"T1\", \"T2\"), annotation = GTF, \n .     bamFolder = bamDir, modification = \"m6A\", strandToKeep = \"opposite\", \n .     threads = threads, )   # at line 4-12 of file <text>",
      "3. `colnames<-`(`*tmp*`, value = c(paste(samplenames, \"input\", sep = \"-\"), \n .     paste(samplenames, \"IP\", sep = \"-\")))",
      "4. stop(\"attempt to set 'colnames' on an object with less than two dimensions\")"
     ]
    }
   ],
   "source": [
    "radar = run_radar(\n",
    "    GTF = '~/tools/HERVs/files/package-entities-scrna.gtf.gz',\n",
    "    bamDir='align/bam_scrna',\n",
    "    outputDir='radar_herv/scrna',\n",
    "    threads = 25\n",
    ")"
   ]
  },
  {
   "cell_type": "markdown",
   "metadata": {
    "jp-MarkdownHeadingCollapsed": true,
    "tags": []
   },
   "source": [
    "### snrna"
   ]
  },
  {
   "cell_type": "code",
   "execution_count": 82,
   "metadata": {
    "tags": []
   },
   "outputs": [
    {
     "name": "stdout",
     "output_type": "stream",
     "text": [
      "[1] \"radar_herv/snrna\"\n",
      "[1] \"created!\"\n",
      "[1] \"Stage: index bam file align/bam_snrna/U1.input.bam\"\n",
      "[1] \"Stage: index bam file align/bam_snrna/U1.m6A.bam\"\n",
      "[1] \"Stage: index bam file align/bam_snrna/U2.input.bam\"\n",
      "[1] \"Stage: index bam file align/bam_snrna/U2.m6A.bam\"\n",
      "[1] \"Stage: index bam file align/bam_snrna/T1.input.bam\"\n",
      "[1] \"Stage: index bam file align/bam_snrna/T1.m6A.bam\"\n",
      "[1] \"Stage: index bam file align/bam_snrna/T2.input.bam\"\n",
      "[1] \"Stage: index bam file align/bam_snrna/T2.m6A.bam\"\n",
      "Reading gtf file to obtain gene model\n",
      "Filter out ambiguous model...\n"
     ]
    },
    {
     "name": "stderr",
     "output_type": "stream",
     "text": [
      "Import genomic features from the file as a GRanges object ... \n",
      "OK\n",
      "\n",
      "Prepare the 'metadata' data frame ... \n",
      "OK\n",
      "\n",
      "Make the TxDb object ... \n",
      "OK\n",
      "\n"
     ]
    },
    {
     "name": "stdout",
     "output_type": "stream",
     "text": [
      "Gene model obtained from gtf file...\n",
      "counting reads for each genes, this step may takes a few hours....\n",
      "Hyper-thread registered: TRUE \n",
      "Using 25 thread(s) to count reads in continuous bins...\n",
      "Time used to count reads: 1.39116697311401 mins... \n"
     ]
    }
   ],
   "source": [
    "radar = run_radar(\n",
    "    GTF = '~/tools/HERVs/files/package-entities-snrna.gtf.gz',\n",
    "    bamDir='align/bam_snrna',\n",
    "    outputDir='radar_herv/snrna',\n",
    "    threads = 25\n",
    ")"
   ]
  },
  {
   "cell_type": "code",
   "execution_count": 83,
   "metadata": {},
   "outputs": [],
   "source": [
    "radar <- normalizeLibrary(radar, boxPlot=0)"
   ]
  },
  {
   "cell_type": "code",
   "execution_count": 84,
   "metadata": {},
   "outputs": [
    {
     "name": "stdout",
     "output_type": "stream",
     "text": [
      "Adjusting expression level using Input geneSum read count...\n"
     ]
    }
   ],
   "source": [
    "radar <- adjustExprLevel(radar)\n",
    "# radar <- adjustExprLevel(radar, adjustBy = \"pos\")\n",
    "\n",
    "# If you expect intensive alternative splicing events cross the experimental groups, \n",
    "# using gene-level read counts to represent pre-IP RNA level could leads to bias. \n",
    "# Therefore, the user can also choose to use the local bin-level read count to adjust \n",
    "# the pre-IP RNA level variation\n",
    "\n",
    "variable(radar) <- data.frame( group = c(rep(\"Untreated\",2),rep(\"Treated\",2)))"
   ]
  },
  {
   "cell_type": "code",
   "execution_count": 85,
   "metadata": {},
   "outputs": [
    {
     "name": "stdout",
     "output_type": "stream",
     "text": [
      "Filtering bins with low read counts...\n",
      "Bins with average counts lower than  0  in both groups have been removed...\n",
      "Filtering bins that is enriched in IP experiment...The predictor variable has been converted:\n",
      "Untreated Untreated   Treated   Treated \n",
      "        0         0         1         1 \n",
      "running PoissonGamma test at single beta mode\n",
      "Hyper-thread registered: TRUE \n",
      "Using 30 thread(s) to run PoissonGamma test...\n",
      "Time used to run PoissonGamma test: 0.00926119486490885 mins... \n",
      "\n"
     ]
    }
   ],
   "source": [
    "radar <- filterBins(radar,minCountsCutOff = 0)\n",
    "\n",
    "radar <- diffIP_parallel(radar,thread = 30)"
   ]
  },
  {
   "cell_type": "code",
   "execution_count": 86,
   "metadata": {
    "tags": []
   },
   "outputs": [],
   "source": [
    "saveRDS(radar, 'radar_herv/snrna/finalObj.rds')"
   ]
  },
  {
   "cell_type": "code",
   "execution_count": 90,
   "metadata": {
    "tags": []
   },
   "outputs": [
    {
     "name": "stdout",
     "output_type": "stream",
     "text": [
      "MeRIP.RADAR dataset of 4 samples.\n",
      "Read count quantified in 50-bp consecutive bins on the transcript.\n",
      "The total read count for Input and IP samples are (Million reads):\n",
      "       U1   U2   T1   T2\n",
      "Input 0.2 0.32 0.36 0.28\n",
      "IP    0.0 0.00 0.00 0.00\n",
      "Input gene level read count available.\n",
      "There are 1 predictor variables/covariates. Can access by function variable(MeRIPdata). \n"
     ]
    }
   ],
   "source": [
    "summary(radar)"
   ]
  },
  {
   "cell_type": "code",
   "execution_count": 88,
   "metadata": {},
   "outputs": [
    {
     "ename": "ERROR",
     "evalue": "Error in reportResult(radar, cutoff = 1.1, Beta_cutoff = 0, threads = 18): Need to run diffIP/diffIP_parallel to test for differential methylation before report result! Currently no test statistics available...\n",
     "output_type": "error",
     "traceback": [
      "Error in reportResult(radar, cutoff = 1.1, Beta_cutoff = 0, threads = 18): Need to run diffIP/diffIP_parallel to test for differential methylation before report result! Currently no test statistics available...\nTraceback:\n",
      "1. reportResult(radar, cutoff = 1.1, Beta_cutoff = 0, threads = 18)",
      "2. reportResult(radar, cutoff = 1.1, Beta_cutoff = 0, threads = 18)",
      "3. stop(\"Need to run diffIP/diffIP_parallel to test for differential methylation before report result! Currently no test statistics available...\")"
     ]
    }
   ],
   "source": [
    "radar_all <- reportResult(radar, cutoff = 1.1, Beta_cutoff = 0.00, threads=18)"
   ]
  },
  {
   "cell_type": "code",
   "execution_count": 91,
   "metadata": {
    "tags": []
   },
   "outputs": [],
   "source": [
    "# write.table(\n",
    "#     radar_all, \n",
    "#     file = \"radar_herv/snrna/result.all.txt\",\n",
    "#     row.names=F, sep='\\t',quote=FALSE\n",
    "# )"
   ]
  },
  {
   "cell_type": "markdown",
   "metadata": {
    "tags": []
   },
   "source": [
    "### trna"
   ]
  },
  {
   "cell_type": "code",
   "execution_count": 92,
   "metadata": {
    "tags": []
   },
   "outputs": [
    {
     "name": "stdout",
     "output_type": "stream",
     "text": [
      "[1] \"radar_herv/trna\"\n",
      "[1] \"created!\"\n",
      "[1] \"Stage: index bam file align/bam_trna/U1.input.bam\"\n",
      "[1] \"Stage: index bam file align/bam_trna/U1.m6A.bam\"\n",
      "[1] \"Stage: index bam file align/bam_trna/U2.input.bam\"\n",
      "[1] \"Stage: index bam file align/bam_trna/U2.m6A.bam\"\n",
      "[1] \"Stage: index bam file align/bam_trna/T1.input.bam\"\n",
      "[1] \"Stage: index bam file align/bam_trna/T1.m6A.bam\"\n",
      "[1] \"Stage: index bam file align/bam_trna/T2.input.bam\"\n",
      "[1] \"Stage: index bam file align/bam_trna/T2.m6A.bam\"\n",
      "Reading gtf file to obtain gene model\n",
      "Filter out ambiguous model...\n"
     ]
    },
    {
     "name": "stderr",
     "output_type": "stream",
     "text": [
      "Import genomic features from the file as a GRanges object ... \n",
      "OK\n",
      "\n",
      "Prepare the 'metadata' data frame ... \n",
      "OK\n",
      "\n",
      "Make the TxDb object ... \n",
      "OK\n",
      "\n"
     ]
    },
    {
     "name": "stdout",
     "output_type": "stream",
     "text": [
      "Gene model obtained from gtf file...\n",
      "counting reads for each genes, this step may takes a few hours....\n",
      "Hyper-thread registered: TRUE \n",
      "Using 25 thread(s) to count reads in continuous bins...\n",
      "Time used to count reads: 0.429320987065633 mins... \n"
     ]
    },
    {
     "ename": "ERROR",
     "evalue": "Error in `colnames<-`(`*tmp*`, value = c(paste(samplenames, \"input\", sep = \"-\"), : attempt to set 'colnames' on an object with less than two dimensions\n",
     "output_type": "error",
     "traceback": [
      "Error in `colnames<-`(`*tmp*`, value = c(paste(samplenames, \"input\", sep = \"-\"), : attempt to set 'colnames' on an object with less than two dimensions\nTraceback:\n",
      "1. run_radar(GTF = \"~/tools/HERVs/files/package-entities-trna.gtf.gz\", \n .     bamDir = \"align/bam_trna\", outputDir = \"radar_herv/trna\", \n .     threads = 25)",
      "2. countReads(samplenames = c(\"U1\", \"U2\", \"T1\", \"T2\"), annotation = GTF, \n .     bamFolder = bamDir, modification = \"m6A\", strandToKeep = \"opposite\", \n .     threads = threads, )   # at line 4-12 of file <text>",
      "3. `colnames<-`(`*tmp*`, value = c(paste(samplenames, \"input\", sep = \"-\"), \n .     paste(samplenames, \"IP\", sep = \"-\")))",
      "4. stop(\"attempt to set 'colnames' on an object with less than two dimensions\")"
     ]
    }
   ],
   "source": [
    "radar = run_radar(\n",
    "    GTF = '~/tools/HERVs/files/package-entities-trna.gtf.gz',\n",
    "    bamDir='align/bam_trna',\n",
    "    outputDir='radar_herv/trna',\n",
    "    threads = 25\n",
    ")"
   ]
  },
  {
   "cell_type": "markdown",
   "metadata": {
    "tags": []
   },
   "source": [
    "___\n",
    "## Save results into files"
   ]
  },
  {
   "cell_type": "markdown",
   "metadata": {
    "tags": []
   },
   "source": [
    "### Save results into `bed12` format \n",
    "`tidyverse` can not be loaded while using RADAR!"
   ]
  },
  {
   "cell_type": "code",
   "execution_count": null,
   "metadata": {},
   "outputs": [],
   "source": [
    "# # save bed 12 format \n",
    "# names(result_all)[1] <- paste0(\"# \", names(result_all)[1])\n",
    "# write.table(result_all %>% dplyr::select(c(1:12)) %>% filter(grepl('DAC',name)), file = \"radar_erv/result.all.bed\",row.names=F, sep=\"\\t\", quote=FALSE) "
   ]
  },
  {
   "cell_type": "code",
   "execution_count": null,
   "metadata": {},
   "outputs": [],
   "source": [
    "sessionInfo()"
   ]
  },
  {
   "cell_type": "code",
   "execution_count": null,
   "metadata": {},
   "outputs": [],
   "source": [
    "!date"
   ]
  },
  {
   "cell_type": "code",
   "execution_count": null,
   "metadata": {},
   "outputs": [],
   "source": []
  }
 ],
 "metadata": {
  "kernelspec": {
   "display_name": "R [conda env:radar]",
   "language": "R",
   "name": "conda-env-radar-r"
  },
  "language_info": {
   "codemirror_mode": "r",
   "file_extension": ".r",
   "mimetype": "text/x-r-source",
   "name": "R",
   "pygments_lexer": "r",
   "version": "3.5.1"
  }
 },
 "nbformat": 4,
 "nbformat_minor": 4
}
