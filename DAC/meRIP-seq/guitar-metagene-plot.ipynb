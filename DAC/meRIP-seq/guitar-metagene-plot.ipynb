{
 "cells": [
  {
   "cell_type": "markdown",
   "metadata": {},
   "source": [
    "# Metagene plots\n",
    "Now, let's draw **metagene plots**: (using seprate conda env and ipython kernel)"
   ]
  },
  {
   "cell_type": "markdown",
   "metadata": {},
   "source": [
    "Using my `guitar` envirnment. "
   ]
  },
  {
   "cell_type": "code",
   "execution_count": 1,
   "metadata": {},
   "outputs": [],
   "source": [
    "%reload_ext rpy2.ipython"
   ]
  },
  {
   "cell_type": "code",
   "execution_count": 2,
   "metadata": {},
   "outputs": [],
   "source": [
    "%%R\n",
    "suppressMessages(suppressWarnings(library (Guitar)))"
   ]
  },
  {
   "cell_type": "code",
   "execution_count": 3,
   "metadata": {},
   "outputs": [
    {
     "name": "stderr",
     "output_type": "stream",
     "text": [
      "R[write to console]: Import genomic features from the file as a GRanges object ... \n",
      "R[write to console]: OK\n",
      "\n",
      "R[write to console]: Prepare the 'metadata' data frame ... \n",
      "R[write to console]: OK\n",
      "\n",
      "R[write to console]: Make the TxDb object ... \n",
      "R[write to console]: OK\n",
      "\n"
     ]
    }
   ],
   "source": [
    "%%R \n",
    "txdb <- makeTxDbFromGFF('/rumi/shams/abe/genomes/hg38/gencode.v34/gencode.v34.annotation.gtf',organism='Homo sapiens')"
   ]
  },
  {
   "cell_type": "code",
   "execution_count": 4,
   "metadata": {
    "scrolled": true
   },
   "outputs": [
    {
     "name": "stdout",
     "output_type": "stream",
     "text": [
      "[1] \"20210323213038\"\n",
      "[1] \"There are 228048 transcripts of 60669 genes in the genome.\"\n",
      "[1] \"total 228048 transcripts extracted ...\"\n",
      "[1] \"total 97941 transcripts left after ambiguity filter ...\"\n",
      "[1] \"total 97941 transcripts left after check chromosome validity ...\"\n",
      "[1] \"total 10939 mRNAs left after component length filter ...\"\n",
      "[1] \"total 60598 ncRNAs left after ncRNA length filter ...\"\n",
      "[1] \"generate components for all tx\"\n",
      "[1] \"generate components for mRNA\"\n",
      "[1] \"generate components for lncRNA\"\n",
      "[1] \"generate chiped transcriptome\"\n",
      "[1] \"generate coverage checking ranges for tx\"\n",
      "[1] \"generate coverage checking ranges for mrna\"\n",
      "[1] \"generate coverage checking ranges for ncrna\"\n",
      "[1] \"20210323213529\"\n",
      "[1] \"import BED file radar/result.sig.bed\"\n",
      "[1] \"sample 10 points for Group1\"\n",
      "[1] \"start figure plotting for tx ...\"\n",
      "[1] \"start figure plotting for mrna ...\"\n",
      "[1] \"start figure plotting for ncrna ...\"\n"
     ]
    }
   ],
   "source": [
    "%%R \n",
    "GuitarPlot(txTxdb = txdb,stBedFiles = list(\"radar/result.sig.bed\"),miscOutFilePrefix = \"Guitar\")"
   ]
  },
  {
   "cell_type": "code",
   "execution_count": 5,
   "metadata": {
    "scrolled": true
   },
   "outputs": [
    {
     "name": "stdout",
     "output_type": "stream",
     "text": [
      "renamed 'Guitar_mrna_test.pdf' -> 'plots/Guitar_mrna_test.pdf'\n",
      "renamed 'Guitar_ncrna_test.pdf' -> 'plots/Guitar_ncrna_test.pdf'\n",
      "renamed 'Guitar_tx_test.pdf' -> 'plots/Guitar_tx_test.pdf'\n"
     ]
    }
   ],
   "source": [
    "mv -v Guitar_* plots/"
   ]
  },
  {
   "cell_type": "code",
   "execution_count": 11,
   "metadata": {},
   "outputs": [],
   "source": [
    "!for f in plots/Guitar*.pdf; do bash ~/Workflows/my_scripts/pdf2png.sh $f; done"
   ]
  }
 ],
 "metadata": {
  "kernelspec": {
   "display_name": "Python [conda env:perl]",
   "language": "python",
   "name": "conda-env-perl-py"
  },
  "language_info": {
   "codemirror_mode": {
    "name": "ipython",
    "version": 3
   },
   "file_extension": ".py",
   "mimetype": "text/x-python",
   "name": "python",
   "nbconvert_exporter": "python",
   "pygments_lexer": "ipython3",
   "version": "3.8.2"
  }
 },
 "nbformat": 4,
 "nbformat_minor": 4
}
