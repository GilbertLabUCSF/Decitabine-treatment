{
 "cells": [
  {
   "cell_type": "markdown",
   "id": "3ee297f6-3f76-4d74-8c9c-b88228004cca",
   "metadata": {},
   "source": [
    "# TEISER\n",
    "\n",
    "<!-- > ## Initializing the structural seeds\n",
    "TEISER starts by evaluating a predefined set of structural motifs which we call seeds. The significant seeds are then further optimizied and elongated into more informative motifs. You can initialize the seed space as you see fit but we used the following criteria:\n",
    "\n",
    "        stem length: from 4bp to 7bp.\n",
    "        loop length\" from 4nt to 9nt.\n",
    "        Number of informative bases: 4nt to 6nt.\n",
    "        Information of the motif: 14-20. -->\n",
    "\n",
    "<!-- > This program creates the seeds that satisfies the set constraints and packages them into seperate files, each containing 250,000 independent seeds. We recommend using the seeds folder in the TEISER_Data directory to deposit the seed files. For example, for the above parameters, set the 'outfile' parameter to \"$TEISERDIR/TEISER_Data/seeds/seeds.4-7.4-9.4-6.14\". There is a file called \"seedfiles.txt\" in this folder which must contain all the generated files (with paths reported relative to TEISER home directory); if not, modify this file as needed. For each species, in the species_data folder, this file is set as a parameter, which enables TEISER to locate all the necessary seeds. -->\n",
    "\n"
   ]
  },
  {
   "cell_type": "code",
   "execution_count": 1,
   "id": "555d148f-3a79-4409-85b1-b3ea9d5079da",
   "metadata": {},
   "outputs": [],
   "source": [
    "# %%bash \n",
    "# export TEISERDIR=/data_gilbert/home/aarab/Workflows/TEISERv1.1/\n",
    "\n",
    "# $TEISERDIR/Programs/seed_creator \\\n",
    "#     -min_stem_length 4 \\\n",
    "#     -max_stem_length 7 \\\n",
    "#     -min_loop_length 4 \\\n",
    "#     -max_loop_length 9 \\\n",
    "#     -min_inf_seq 4 \\\n",
    "#     -max_inf_seq 6 \\\n",
    "#     -min_inf 14 \\\n",
    "#     -max_inf 20 \\\n",
    "#     -outfile TEISER_results/seed"
   ]
  },
  {
   "cell_type": "markdown",
   "id": "6b1da1d8-0872-4eb2-97ad-e3ac7dc97d03",
   "metadata": {},
   "source": [
    "## pyteiser\n",
    "https://github.com/goodarzilab/pyteiser\n",
    "> A framework for identifying the structural motifs that are informative of whole-genome measurements across all the transcripts\n",
    "\n"
   ]
  },
  {
   "cell_type": "code",
   "execution_count": 9,
   "id": "5a7b8be8-7917-4174-9e57-46d74a7c5d32",
   "metadata": {},
   "outputs": [
    {
     "name": "stdout",
     "output_type": "stream",
     "text": [
      ">ENSG00000001084.13::chr6:53498437-53498486(-)\n",
      "ACTCTGGAGCAACCTACTGTCTAAGCAGTTTTGTAAATGTACTGGTAAT\n",
      ">ENSG00000001629.10::chr7:92398338-92398387(+)\n",
      "CGATAGGCACTTCTTTACCTTCCAGGCTGGACTCTGTCCCCAGAAATAC\n",
      ">ENSG00000003393.15::chr2:201757551-201757600(-)\n",
      "TATAGTACAACCCCTTGTGAAACTGGAGCTCAGGCAGGCAGTAGTGCCA\n",
      ">ENSG00000003393.15::chr2:201760946-201760995(-)\n",
      "CAGAAACATACCATCATACCCTGACACCCAAGCAGTCAATGAATACCTA\n",
      ">ENSG00000003393.15::chr2:201761345-201761394(-)\n",
      "GCGAGTGGTGCTTCAAGTTGCCTGTGGTGCTTTCCACAGCTTAGCCCTT\n"
     ]
    }
   ],
   "source": [
    "!head radar/result.sig.fa"
   ]
  },
  {
   "cell_type": "markdown",
   "id": "2e6f3283-fd64-4ee9-993f-6301e16e3f31",
   "metadata": {},
   "source": [
    "### prepare inputs"
   ]
  },
  {
   "cell_type": "markdown",
   "id": "1ba645d8-06f1-46d6-a474-cb0ba25b9daf",
   "metadata": {},
   "source": [
    "> The names of these two columns have to be specified with the `--anno_name_column` and `--measur_column`"
   ]
  },
  {
   "cell_type": "code",
   "execution_count": 93,
   "id": "57ba0f77-c120-45ea-a97e-e3c9b431376f",
   "metadata": {},
   "outputs": [],
   "source": [
    "!echo -e \"index\\tpeak_name\\tlogFC\" > result.sig.txt.exp_values_file\n",
    "!cat radar/result.sig.txt | awk 'NR>1{print 0\"\\t\"$15\"::\"$1\":\"$2\"-\"$3\"(\"$6\")\\t\"$13}' >> result.sig.txt.exp_values_file"
   ]
  },
  {
   "cell_type": "code",
   "execution_count": 94,
   "id": "6d7a4870-c7ce-46ed-a864-c667d67ab17d",
   "metadata": {},
   "outputs": [
    {
     "name": "stdout",
     "output_type": "stream",
     "text": [
      "index\tpeak_name\tlogFC\n",
      "0\tENSG00000001084.13::chr6:53498437-53498486(-)\t-1.09289798740744\n",
      "0\tENSG00000001629.10::chr7:92398338-92398387(+)\t-0.950192283583678\n",
      "0\tENSG00000003393.15::chr2:201757551-201757600(-)\t-0.830939338045323\n",
      "0\tENSG00000003393.15::chr2:201760946-201760995(-)\t-1.10279639519063\n",
      "0\tENSG00000003393.15::chr2:201761345-201761394(-)\t1.57365896834208\n",
      "0\tENSG00000003402.20::chr2:201129982-201130031(+)\t-1.64690884386422\n",
      "0\tENSG00000004142.12::chr17:28347325-28347374(-)\t-1.12467239533797\n",
      "0\tENSG00000004142.12::chr17:28347523-28347572(-)\t1.94591014888379\n",
      "0\tENSG00000004487.17::chr1:23083490-23083539(+)\t-0.885893254689784\n"
     ]
    }
   ],
   "source": [
    "!head result.sig.txt.exp_values_file"
   ]
  },
  {
   "cell_type": "markdown",
   "id": "d017584a-f686-4126-86bf-056591cc9d46",
   "metadata": {},
   "source": [
    "___"
   ]
  },
  {
   "cell_type": "markdown",
   "id": "506c48d8-2d4d-4666-94c4-0c5a6b2ab808",
   "metadata": {},
   "source": [
    "### 1. Generate seeds"
   ]
  },
  {
   "cell_type": "code",
   "execution_count": 121,
   "id": "804a282d-7aaf-4b05-a695-4c1a4725ef69",
   "metadata": {},
   "outputs": [],
   "source": [
    "mkdir /data_gilbert/home/aarab/Workflows/pyteiser_files/seeds"
   ]
  },
  {
   "cell_type": "code",
   "execution_count": null,
   "id": "e890bd0a-826d-4422-8e19-be5721a0d045",
   "metadata": {},
   "outputs": [],
   "source": [
    "!python /data_gilbert/home/aarab/Workflows/pyteiser_files/pyteiser/pyteiser/seeds_generator.py \\\n",
    "    --prefix seed \\\n",
    "    --outfolder ~/Workflows/pyteiser_files/seeds/"
   ]
  },
  {
   "cell_type": "code",
   "execution_count": 134,
   "id": "621d4cfd-03c2-44ff-9276-1fad5f9459eb",
   "metadata": {},
   "outputs": [
    {
     "name": "stdout",
     "output_type": "stream",
     "text": [
      "683094\n"
     ]
    }
   ],
   "source": [
    "!ls -l ~/Workflows/pyteiser_files/seeds  | wc -l"
   ]
  },
  {
   "cell_type": "markdown",
   "id": "c07ad3eb-fd59-4e37-b344-c50bfa0a7ec8",
   "metadata": {},
   "source": [
    "### 2. Convert sequences from fasta to binary format"
   ]
  },
  {
   "cell_type": "code",
   "execution_count": 151,
   "id": "d9896a22-7937-46c4-90e1-fb60ff0f100e",
   "metadata": {},
   "outputs": [
    {
     "name": "stdout",
     "output_type": "stream",
     "text": [
      "Read sequence number  1000\n",
      "Read sequence number  2000\n",
      "Read sequence number  3000\n",
      "Read sequence number  4000\n",
      "Compressed sequence number  0\n",
      "Compressed sequence number  1000\n",
      "Compressed sequence number  2000\n",
      "Compressed sequence number  3000\n",
      "Compressed sequence number  4000\n"
     ]
    }
   ],
   "source": [
    "!python /data_gilbert/home/aarab/Workflows/pyteiser_files/pyteiser/pyteiser/wrappers/binarize_sequences.py \\\n",
    "    --rna_fastafile radar/result.sig.fa \\\n",
    "    --rna_bin_file radar/result.sig.bin\n",
    "    \n",
    "#     --prefix seed \\\n",
    "#     --outfolder ~/Workflows/pyteiser_files/seeds/"
   ]
  },
  {
   "cell_type": "markdown",
   "id": "94a8c2fd-4b9e-4091-948b-15e3b5e60e6e",
   "metadata": {},
   "source": [
    "### 3. Precalculate seed occurence profiles\n",
    "Use `pyteiser/wrappers/calculate_seed_profiles.py` - run on HPC!\n"
   ]
  },
  {
   "cell_type": "code",
   "execution_count": 155,
   "id": "d57cbb85-e557-45de-a931-c42aa74fb769",
   "metadata": {},
   "outputs": [
    {
     "name": "stdout",
     "output_type": "stream",
     "text": [
      "import numpy as np\n",
      "import argparse\n",
      "import os\n",
      "\n",
      "from pyteiser import IO\n",
      "from pyteiser import matchmaker\n",
      "from pyteiser import type_conversions\n",
      "from pyteiser import sge\n",
      "\n",
      "def handler():\n",
      "    parser = argparse.ArgumentParser()\n",
      "\n",
      "    parser.add_argument(\"--task_mapping_file\", help=\"\", type=str)\n",
      "\n",
      "    parser.add_argument(\"--seed_folder\", help=\"\", type=str)\n",
      "    parser.add_argument(\"--rna_bin_file\", help=\"\", type=str)\n",
      "    parser.add_argument(\"--out_folder\", help=\"\", type=str)\n",
      "    parser.add_argument(\"--inp_filename_template\", help=\"\", type=str)\n",
      "    parser.add_argument(\"--out_filename_template\", help=\"\", type=str)\n",
      "    parser.add_argument(\"--print_qstat\", help=\"\", type=str)\n",
      "    parser.add_argument(\"--path_to_qstat\", help=\"\", type=str)\n",
      "    parser.add_argument(\"--are_seeds_degenerate\", help=\"\", type=str)\n",
      "    parser.add_argument(\"--indices_mode\", help=\"compression in the index mode\", type=bool)\n",
      "    parser.add_argument(\"--index_bit_width\", help=\"number of bits per one index when compressing\", type=int)\n",
      "\n",
      "\n",
      "\n",
      "    parser.set_defaults(\n",
      "\n",
      "        # seed_folder='/wynton/home/goodarzi/khorms/pyteiser_root/testing_data/test_seeds',\n",
      "        # out_folder='/wynton/home/goodarzi/khorms/pyteiser_root/testing_data/test_profiles',\n",
      "        # inp_filename_template='test_seeds_101',\n",
      "        # out_filename_template='test_motifs_101',\n",
      "        seed_folder='/wynton/home/goodarzi/khorms/pyteiser_root/data/seeds/seeds_4-7_4-9_4-6_14-20/motifs_per_file_30k',\n",
      "        out_folder='/wynton/home/goodarzi/khorms/pyteiser_root/data/profiles/profiles_4-7_4-9_4-6_14-20/profiles_per_file_30k',\n",
      "        inp_filename_template='seeds_4-7_4-9_4-6_14-20_30k',\n",
      "        out_filename_template='profiles_4-7_4-9_4-6_14-20_30k',\n",
      "        rna_bin_file='/wynton/home/goodarzi/khorms/pyteiser_root/data/reference_transcriptomes/binarized/Gencode_v28_GTEx_expressed_transcripts_from_coding_genes_3_utrs_fasta.bin',\n",
      "        path_to_qstat='/opt/sge/bin/lx-amd64/qstat',\n",
      "        print_qstat='y',\n",
      "        are_seeds_degenerate='n',\n",
      "        indices_mode=False,\n",
      "        index_bit_width = 24,\n",
      "\n",
      "    )\n",
      "\n",
      "    args = parser.parse_args()\n",
      "\n",
      "    return args\n",
      "\n",
      "\n",
      "def get_current_in_out_filenames(args, env_variables_dict, mapping_dict):\n",
      "    file_index_to_use =  mapping_dict[env_variables_dict[\"task_id\"]]\n",
      "    inp_filename_short = \"%s_%s.bin\" % (args.inp_filename_template, file_index_to_use)\n",
      "    out_filename_short = \"%s_%s.bin\" % (args.out_filename_template, file_index_to_use)\n",
      "    seeds_filename_full = os.path.join(args.seed_folder, inp_filename_short)\n",
      "    profiles_filename_full = os.path.join(args.out_folder, out_filename_short)\n",
      "    rna_bin_filename = args.rna_bin_file\n",
      "\n",
      "    return seeds_filename_full, profiles_filename_full, rna_bin_filename\n",
      "\n",
      "\n",
      "\n",
      "def calculate_write_profiles(n_motifs_list, n_seqs_list,\n",
      "                            out_filename, are_seeds_degenerate,\n",
      "                            indices_mode, index_bit_width,\n",
      "                             do_print=False, do_return = False):\n",
      "    if are_seeds_degenerate == 'yes' or are_seeds_degenerate == 'y':\n",
      "        is_degenerate = True\n",
      "    else:\n",
      "        is_degenerate = False\n",
      "\n",
      "    with open(out_filename, 'wb') as wf:\n",
      "        if do_return:\n",
      "            profiles_list = [0] * len(n_motifs_list)\n",
      "\n",
      "        for i, motif in enumerate(n_motifs_list):\n",
      "            current_profile, time_spent = matchmaker.calculate_profile_one_motif(motif, n_seqs_list,\n",
      "                                                                                 is_degenerate = is_degenerate)\n",
      "            if indices_mode:\n",
      "                current_profile.compress_indices(width = index_bit_width)\n",
      "                wf.write(current_profile.bytestring_indices)\n",
      "            else:\n",
      "                current_profile.compress()\n",
      "                wf.write(current_profile.bytestring)\n",
      "\n",
      "\n",
      "            if do_return:\n",
      "                profiles_list[i] = current_profile.values\n",
      "\n",
      "            if do_print:\n",
      "                print(\"Motif number %d binds %d sequences. It took %.2f seconds\"\n",
      "                      % (i, current_profile.sum(), time_spent))\n",
      "    if do_return:\n",
      "        profiles_array = np.array(profiles_list)\n",
      "        return profiles_array\n",
      "\n",
      "\n",
      "def read_input_files(seeds_filename_full, rna_bin_filename):\n",
      "    seqs_dict, seqs_order = IO.read_rna_bin_file(rna_bin_filename)\n",
      "    w_motifs_list = IO.read_motif_file(seeds_filename_full)\n",
      "    w_seqs_list = [seqs_dict[name] for name in seqs_order]\n",
      "    n_motifs_list = type_conversions.w_to_n_motifs_list(w_motifs_list)\n",
      "    n_seqs_list = type_conversions.w_to_n_sequences_list(w_seqs_list)\n",
      "\n",
      "    return n_motifs_list, n_seqs_list\n",
      "\n",
      "\n",
      "def non_sge_dependent_main(seeds_filename_full, profiles_filename_full, rna_bin_filename,\n",
      "                           are_seeds_degenerate,\n",
      "                           indices_mode,\n",
      "                           index_bit_width\n",
      "                           ):\n",
      "    # get the names of input and output files\n",
      "\n",
      "    n_motifs_list, n_seqs_list = read_input_files(seeds_filename_full, rna_bin_filename)\n",
      "\n",
      "    # the main procedure - calculate profiles\n",
      "    calculate_write_profiles(n_motifs_list, n_seqs_list,\n",
      "                             profiles_filename_full,\n",
      "                             are_seeds_degenerate,\n",
      "                             indices_mode,\n",
      "                             index_bit_width,\n",
      "                             do_print=True)\n",
      "\n",
      "\n",
      "\n",
      "def main():\n",
      "    args = handler()\n",
      "\n",
      "    # get mapping of task ids to input files\n",
      "    mapping_dict = sge.parse_task_mapping_file(args.task_mapping_file)\n",
      "\n",
      "    # get the task id\n",
      "    env_variables_dict = sge.get_env_variables()\n",
      "\n",
      "    # get the input filenames\n",
      "    seeds_filename_full, profiles_filename_full, rna_bin_filename = get_current_in_out_filenames(args,\n",
      "                                                                                                 env_variables_dict,\n",
      "                                                                                                 mapping_dict)\n",
      "\n",
      "    # run the calculation\n",
      "    non_sge_dependent_main(seeds_filename_full, profiles_filename_full, rna_bin_filename,\n",
      "                           args.are_seeds_degenerate,\n",
      "                           args.indices_mode,\n",
      "                           args.index_bit_width,\n",
      "                           do_print=True\n",
      "                           )\n",
      "\n",
      "    if args.print_qstat == 'y':\n",
      "        sge.print_qstat_proc(env_variables_dict, args.path_to_qstat)\n",
      "\n",
      "\n",
      "if __name__ == \"__main__\":\n",
      "    main()\n",
      "\n",
      "\n"
     ]
    }
   ],
   "source": [
    "!python /data_gilbert/home/aarab/Workflows/pyteiser_files/pyteiser/pyteiser/wrappers/calculate_seed_profiles.py \n",
    "--task_mapping_file \\\n",
    "--seed_folder ~/Workflows/pyteiser_files/seeds/--rna_bin_file \\\n",
    "--out_folder \n",
    "--inp_filename_template\n",
    "--out_filename_template\n",
    "--print_qstat\n",
    "--path_to_qstat\n",
    "--are_seeds_degenerate\n",
    "--indices_mode\n",
    "--index_bit_width\n",
    "\n",
    "#     --rna_fastafile radar/result.sig.fa \\\n",
    "#     --rna_bin_file radar/result.sig.bin\n",
    "    \n",
    "# #     --prefix seed \\\n",
    "# #     --outfolder ~/Workflows/pyteiser_files/seeds/"
   ]
  },
  {
   "cell_type": "code",
   "execution_count": null,
   "id": "94914610-e3d2-4c16-8db8-eac425291bc3",
   "metadata": {},
   "outputs": [],
   "source": []
  },
  {
   "cell_type": "code",
   "execution_count": null,
   "id": "10469b4b-7fdb-45ee-80d8-7193c6763915",
   "metadata": {},
   "outputs": [],
   "source": []
  },
  {
   "cell_type": "code",
   "execution_count": null,
   "id": "a15a2bc8-4501-481a-8bcb-5fe803f1aec2",
   "metadata": {},
   "outputs": [],
   "source": []
  },
  {
   "cell_type": "markdown",
   "id": "c7cd355a-4622-4d0f-a0b1-14ed5b359bdf",
   "metadata": {},
   "source": [
    "### run `pyteiser_pipeline`"
   ]
  },
  {
   "cell_type": "code",
   "execution_count": 152,
   "id": "742d2fa2-4086-4dc1-93e7-2c6d8b4c5544",
   "metadata": {},
   "outputs": [
    {
     "name": "stdout",
     "output_type": "stream",
     "text": [
      "Read sequence number  1000\n",
      "Read sequence number  2000\n",
      "Read sequence number  3000\n",
      "Read sequence number  4000\n",
      "Compressed sequence number  0\n",
      "Compressed sequence number  1000\n",
      "Compressed sequence number  2000\n",
      "Compressed sequence number  3000\n",
      "Compressed sequence number  4000\n",
      "Traceback (most recent call last):\n",
      "  File \"/data_gilbert/home/aarab/anaconda3/envs/pyteiser/bin/pyteiser_pipeline\", line 5, in <module>\n",
      "    pyteiser_pipeline.main()\n",
      "  File \"/data_gilbert/home/aarab/anaconda3/envs/pyteiser/lib/python3.10/site-packages/pyteiser/wrappers/pyteiser_pipeline.py\", line 195, in main\n",
      "    calculate_seed_profiles.non_sge_dependent_main(\n",
      "  File \"/data_gilbert/home/aarab/anaconda3/envs/pyteiser/lib/python3.10/site-packages/pyteiser/wrappers/calculate_seed_profiles.py\", line 116, in non_sge_dependent_main\n",
      "    n_motifs_list, n_seqs_list = read_input_files(seeds_filename_full, rna_bin_filename)\n",
      "  File \"/data_gilbert/home/aarab/anaconda3/envs/pyteiser/lib/python3.10/site-packages/pyteiser/wrappers/calculate_seed_profiles.py\", line 101, in read_input_files\n",
      "    w_motifs_list = IO.read_motif_file(seeds_filename_full)\n",
      "  File \"/data_gilbert/home/aarab/anaconda3/envs/pyteiser/lib/python3.10/site-packages/pyteiser/IO.py\", line 54, in read_motif_file\n",
      "    with open(inp_file, 'rb') as rf:\n",
      "IsADirectoryError: [Errno 21] Is a directory: '/data_gilbert/home/aarab/Workflows/pyteiser_files/seeds/'\n"
     ]
    }
   ],
   "source": [
    "!pyteiser_pipeline \\\n",
    "    --rna_fastafile radar/result.sig.fa \\\n",
    "    --exp_values_file result.sig.txt.exp_values_file \\\n",
    "    --anno_name_column peak_name \\\n",
    "    --measur_column logFC \\\n",
    "    --seeds_file ~/Workflows/pyteiser_files/seeds/"
   ]
  },
  {
   "cell_type": "code",
   "execution_count": null,
   "id": "20aa1a07-fdef-4b6a-9413-79b1a708c310",
   "metadata": {},
   "outputs": [],
   "source": []
  },
  {
   "cell_type": "code",
   "execution_count": null,
   "id": "9bdaf606-c4a9-4854-810a-e5ed625d48cd",
   "metadata": {},
   "outputs": [],
   "source": []
  },
  {
   "cell_type": "code",
   "execution_count": null,
   "id": "9a004494-1c29-44ed-ba04-02062eaf8529",
   "metadata": {},
   "outputs": [],
   "source": []
  },
  {
   "cell_type": "code",
   "execution_count": null,
   "id": "7b884d8d-e741-48c3-802b-e47edb456862",
   "metadata": {},
   "outputs": [],
   "source": []
  },
  {
   "cell_type": "markdown",
   "id": "7e4c051c",
   "metadata": {
    "tags": []
   },
   "source": [
    "# iPAGE \n",
    "https://github.com/goodarzilab/PAGE  "
   ]
  },
  {
   "cell_type": "code",
   "execution_count": 1,
   "id": "2a8c35a4",
   "metadata": {},
   "outputs": [],
   "source": [
    "import pandas as pd "
   ]
  },
  {
   "cell_type": "code",
   "execution_count": 2,
   "id": "4a785c1f",
   "metadata": {},
   "outputs": [],
   "source": [
    "df = pd.read_csv('radar/result.all.txt',sep='\\t').loc[:,['name','logFC','p_value']]#.set_index('ensembl')"
   ]
  },
  {
   "cell_type": "markdown",
   "id": "4bd6d71e",
   "metadata": {},
   "source": [
    "https://github.com/goodarzilab/server_wiki/tree/main/lab_softwares"
   ]
  },
  {
   "cell_type": "code",
   "execution_count": 3,
   "id": "895f037b",
   "metadata": {},
   "outputs": [],
   "source": [
    "%reload_ext rpy2.ipython"
   ]
  },
  {
   "cell_type": "code",
   "execution_count": 4,
   "id": "200c7987",
   "metadata": {},
   "outputs": [],
   "source": [
    "%%R -i df -o data\n",
    "data = df\n",
    "data[['fdr']] <- sign(data[,'logFC'])*(1-data[,'p_value'])\n",
    "data <- data[!is.na(data$'fdr'), ]\n",
    "data <- data[, c('name', 'fdr','logFC','p_value')]"
   ]
  },
  {
   "cell_type": "markdown",
   "id": "c415bdd1-ffcb-468d-b23f-097f8be21553",
   "metadata": {},
   "source": [
    "Select max logFC for each gene "
   ]
  },
  {
   "cell_type": "code",
   "execution_count": 5,
   "id": "7b51881f",
   "metadata": {},
   "outputs": [
    {
     "name": "stdout",
     "output_type": "stream",
     "text": [
      "CPU times: user 20.4 s, sys: 54.3 ms, total: 20.5 s\n",
      "Wall time: 20.5 s\n"
     ]
    }
   ],
   "source": [
    "%%time \n",
    "data = data.iloc[[int(data[(data.name == gene)].logFC.idxmax()) for gene in set(data.name)],:]"
   ]
  },
  {
   "cell_type": "code",
   "execution_count": 7,
   "id": "47fd1bca",
   "metadata": {},
   "outputs": [],
   "source": [
    "# data.plot(x='logFC', y='fdr', kind='scatter')\n",
    "# data.plot(x='logFC', y='p_value', kind='scatter')\n",
    "# data.plot(x='fdr', y='p_value', kind='scatter')\n",
    "# plt.show()"
   ]
  },
  {
   "cell_type": "code",
   "execution_count": 33,
   "id": "61eef28b-a270-476f-9b51-0cf61a7a1fc5",
   "metadata": {},
   "outputs": [],
   "source": [
    "data[['name','fdr']].to_csv('hl60_delta_mtyl_fdr.txt',sep='\\t',index=None, header=None)\n",
    "data[['name','logFC']].to_csv('hl60_delta_mtyl.txt',sep='\\t',index=None, header=None)"
   ]
  },
  {
   "cell_type": "code",
   "execution_count": null,
   "id": "def62fbf-6cbb-461c-89d7-0994a6447be7",
   "metadata": {},
   "outputs": [],
   "source": []
  },
  {
   "cell_type": "code",
   "execution_count": null,
   "id": "4939ce20-4716-4bfc-8aeb-033d9f8cfd93",
   "metadata": {},
   "outputs": [],
   "source": []
  },
  {
   "cell_type": "code",
   "execution_count": 7,
   "id": "4a134936",
   "metadata": {},
   "outputs": [],
   "source": [
    "%%bash \n",
    "export PAGEDIR=/data_gilbert/home/aarab/iPAGE\n",
    "\n",
    "touch ipage.out; rm ipage.out; touch ipage.out; \n",
    "\n",
    "nohup ls hl60_delta_mtyl.txt \\\n",
    "    | parallel -j8 -k bash ~/Projects/pager/ipage_loop.sh {} \\\n",
    "    &>> ipage.out & \n",
    "\n",
    "nohup ls hl60_delta_mtyl_fdr.txt \\\n",
    "    | parallel -j8 -k bash ~/Projects/pager/ipage_loop.sh {} \\\n",
    "    &>> ipage.out & "
   ]
  },
  {
   "cell_type": "code",
   "execution_count": null,
   "id": "2d9163c5-1751-4940-a3c4-91d8bed48833",
   "metadata": {},
   "outputs": [],
   "source": [
    "!cat ipage.out"
   ]
  },
  {
   "cell_type": "markdown",
   "id": "fa656b0f-65f5-49d1-85ab-6879b9f3d549",
   "metadata": {},
   "source": [
    "___\n",
    "# "
   ]
  },
  {
   "cell_type": "code",
   "execution_count": 1,
   "id": "ea5760ce-ff6b-4097-9929-e913cf0fb503",
   "metadata": {},
   "outputs": [],
   "source": [
    "import sys\n",
    "import pandas as pd \n",
    "import numpy as np\n",
    "from time import time \n",
    "from glob import glob\n",
    "# from itertools import chain\n",
    "# from functools import reduce\n",
    "# import matplotlib.pyplot as plt\n",
    "# from matplotlib.pyplot import subplots\n",
    "# from venn import venn\n",
    "\n",
    "pager_dir = '/data_gilbert/home/aarab/Projects/pager/'\n",
    "# pager_dir = '/rumi/shams/abe/Projects/ipage-down/'\n",
    "sys.path.append(pager_dir)\n",
    "\n",
    "import ipage_down as ipd"
   ]
  },
  {
   "cell_type": "code",
   "execution_count": 2,
   "id": "12ba01a5-77c4-4448-ac65-1a6c8f768eba",
   "metadata": {},
   "outputs": [],
   "source": [
    "def get_pvmatrix_list(parent_path,pattern):\n",
    "    \"\"\"\n",
    "    pattern: msigdb gene set cluster name \n",
    "    \"\"\"\n",
    "    return glob(f'{parent_path}/*{pattern}*/pvmatrix.txt')"
   ]
  },
  {
   "cell_type": "code",
   "execution_count": 3,
   "id": "7ba2bbda-23e2-4c79-a356-682310d5328b",
   "metadata": {},
   "outputs": [],
   "source": [
    "cols = pd.concat([\n",
    "    ipd.pvmat2bio_signal(ipd.merge_multiple_pvmat(\n",
    "        get_pvmatrix_list(\"hl60_delta_mtyl_fdr\",\"c2\")\n",
    "    ),s,n_clust=1) for s in ['up','both','down']\n",
    "]).columns"
   ]
  },
  {
   "cell_type": "code",
   "execution_count": 4,
   "id": "89066dac-2944-49ac-a5b9-b255bb937da8",
   "metadata": {},
   "outputs": [
    {
     "name": "stdout",
     "output_type": "stream",
     "text": [
      "removed ‘RNA-mtyl-geneset-enrichment-pvmatrix.txt’\n"
     ]
    }
   ],
   "source": [
    "pv_signal = pd.concat([\n",
    "    ipd.pvmat2bio_signal(ipd.merge_multiple_pvmat(\n",
    "        get_pvmatrix_list(\"hl60_delta_mtyl_fdr\",\"c2.cp.kegg\") + \\\n",
    "\n",
    "        get_pvmatrix_list(\"hl60_delta_mtyl\",\"c5.go.\") + \\\n",
    "        get_pvmatrix_list(\"hl60_delta_mtyl_fdr\",\"c5.go.\") #+ \\\n",
    "\n",
    "    ),s,n_clust=1) for s in ['up','both','down']\n",
    "])\n",
    "\n",
    "pv_signal.columns = cols\n",
    "pv_signal=pv_signal[~pv_signal.duplicated()]\n",
    "\n",
    "pv_signal.to_csv('RNA-mtyl-geneset-enrichment-pvmatrix.txt',sep='\\t')\n",
    "\n",
    "!bash {pager_dir}/ipage_draw_matrix.sh \\\n",
    "    'hl60_delta_mtyl.txt' \\\n",
    "    'RNA-mtyl-geneset-enrichment-pvmatrix.txt' \\\n",
    "    'RNA-mtyl-geneset-enrichment-GOandKEGG.pdf' &> /dev/null\n",
    "\n",
    "!rm -v 'RNA-mtyl-geneset-enrichment-pvmatrix.txt'"
   ]
  },
  {
   "cell_type": "code",
   "execution_count": 5,
   "id": "744606cf-6dbb-44a8-ac45-55d0d67ea143",
   "metadata": {},
   "outputs": [
    {
     "name": "stdout",
     "output_type": "stream",
     "text": [
      "removed ‘RNA-mtyl-geneset-enrichment-pvmatrix.txt’\n"
     ]
    }
   ],
   "source": [
    "pv_signal = pd.concat([\n",
    "    ipd.pvmat2bio_signal(ipd.merge_multiple_pvmat(\n",
    "        get_pvmatrix_list(\"hl60_delta_mtyl\",\"c5.go.\") + \\\n",
    "        get_pvmatrix_list(\"hl60_delta_mtyl_fdr\",\"c5.go.\") #+ \\\n",
    "\n",
    "    ),s,n_clust=1) for s in ['up','both','down']\n",
    "])\n",
    "\n",
    "pv_signal.columns = cols\n",
    "pv_signal=pv_signal[~pv_signal.duplicated()]\n",
    "\n",
    "pv_signal.to_csv('RNA-mtyl-geneset-enrichment-pvmatrix.txt',sep='\\t')\n",
    "\n",
    "!bash {pager_dir}/ipage_draw_matrix.sh \\\n",
    "    'hl60_delta_mtyl.txt' \\\n",
    "    'RNA-mtyl-geneset-enrichment-pvmatrix.txt' \\\n",
    "    'RNA-mtyl-geneset-enrichment-GO.pdf' &> /dev/null\n",
    "\n",
    "!rm -v 'RNA-mtyl-geneset-enrichment-pvmatrix.txt'"
   ]
  },
  {
   "cell_type": "code",
   "execution_count": 149,
   "id": "ee33457a-9cff-42ba-a148-ba02be282db1",
   "metadata": {},
   "outputs": [
    {
     "name": "stdout",
     "output_type": "stream",
     "text": [
      "removed ‘RNA-mtyl-geneset-enrichment-pvmatrix.txt’\n"
     ]
    }
   ],
   "source": [
    "pv_signal = pd.concat([\n",
    "    ipd.pvmat2bio_signal(ipd.merge_multiple_pvmat(\n",
    "        get_pvmatrix_list(\"hl60_delta_mtyl\",\"c3.mir\") + \\\n",
    "        get_pvmatrix_list(\"hl60_delta_mtyl_fdr\",\"c3.mir\")\n",
    "    ),s,n_clust=1) for s in ['up','both','down']\n",
    "])\n",
    "\n",
    "pv_signal.columns = cols\n",
    "pv_signal=pv_signal[~pv_signal.duplicated()]\n",
    "\n",
    "pv_signal.to_csv('RNA-mtyl-geneset-enrichment-pvmatrix.txt',sep='\\t')\n",
    "\n",
    "!bash {pager_dir}/ipage_draw_matrix.sh \\\n",
    "    'hl60_delta_mtyl.txt' \\\n",
    "    'RNA-mtyl-geneset-enrichment-pvmatrix.txt' \\\n",
    "    'RNA-mtyl-geneset-enrichment-miR.pdf' &> /dev/null\n",
    "\n",
    "!rm -v 'RNA-mtyl-geneset-enrichment-pvmatrix.txt'"
   ]
  },
  {
   "cell_type": "code",
   "execution_count": 150,
   "id": "682fd615-475b-4c70-bce7-9594d3c65b61",
   "metadata": {},
   "outputs": [
    {
     "name": "stdout",
     "output_type": "stream",
     "text": [
      "removed ‘RNA-mtyl-geneset-enrichment-pvmatrix.txt’\n"
     ]
    }
   ],
   "source": [
    "pv_signal = pd.concat([\n",
    "    ipd.pvmat2bio_signal(ipd.merge_multiple_pvmat(\n",
    "        get_pvmatrix_list(\"hl60_delta_mtyl\",\"c1\") + \\\n",
    "        get_pvmatrix_list(\"hl60_delta_mtyl_fdr\",\"c1\")\n",
    "    ),s,n_clust=1) for s in ['up','both','down']\n",
    "])\n",
    "\n",
    "pv_signal.columns = cols\n",
    "pv_signal=pv_signal[~pv_signal.duplicated()]\n",
    "\n",
    "pv_signal.to_csv('RNA-mtyl-geneset-enrichment-pvmatrix.txt',sep='\\t')\n",
    "\n",
    "!bash {pager_dir}/ipage_draw_matrix.sh \\\n",
    "    'hl60_delta_mtyl.txt' \\\n",
    "    'RNA-mtyl-geneset-enrichment-pvmatrix.txt' \\\n",
    "    'RNA-mtyl-geneset-enrichment-Chr.pdf' &> /dev/null\n",
    "\n",
    "!rm -v 'RNA-mtyl-geneset-enrichment-pvmatrix.txt'"
   ]
  },
  {
   "cell_type": "markdown",
   "id": "9fa20b45-e122-4c35-b56c-2b684103df20",
   "metadata": {
    "tags": []
   },
   "source": [
    "### GOBP_HISTONE_H3_K36_METHYLATION"
   ]
  },
  {
   "cell_type": "code",
   "execution_count": 6,
   "id": "20a7d98c-4ab2-4908-be10-a59ad7947c8e",
   "metadata": {},
   "outputs": [
    {
     "data": {
      "text/plain": [
       "['hl60_delta_mtyl_fdr/msigdb_v7.4_c5.go/pvmatrix.txt',\n",
       " 'hl60_delta_mtyl_fdr/msigdb_v7.4_c5.go.bp/pvmatrix.txt',\n",
       " 'hl60_delta_mtyl_fdr/msigdb_v7.4_c5.all/pvmatrix.txt']"
      ]
     },
     "execution_count": 6,
     "metadata": {},
     "output_type": "execute_result"
    }
   ],
   "source": [
    "ipd.detect_gs_cluster(get_pvmatrix_list(\"hl60_delta_mtyl_fdr\",\"c\"),\"GOBP_HISTONE_H3_K36_METHYLATION\")"
   ]
  },
  {
   "cell_type": "code",
   "execution_count": 7,
   "id": "231176be-4e8b-4da6-89d6-ec94ce50ac7c",
   "metadata": {},
   "outputs": [
    {
     "data": {
      "text/plain": [
       "['SETD5', 'SETMAR', 'BCOR', 'NSD2', 'SETD2', 'PAXIP1', 'NSD1', 'ASH1L', 'BRD4']"
      ]
     },
     "execution_count": 7,
     "metadata": {},
     "output_type": "execute_result"
    }
   ],
   "source": [
    "[gene for clust in ['8','9','10'] for gene in list(ipd.bin_identifier_genes(\n",
    "    \"hl60_delta_mtyl_fdr/msigdb_v7.4_c5.go.bp\",clust,'GOBP_HISTONE_H3_K36_METHYLATION'\n",
    ").values())[0]]"
   ]
  },
  {
   "cell_type": "markdown",
   "id": "56c91c2c-2ace-40cc-8404-ed034062d8c2",
   "metadata": {
    "tags": []
   },
   "source": [
    "### KEGG_LYSINE_DEGRADATION"
   ]
  },
  {
   "cell_type": "code",
   "execution_count": 8,
   "id": "9aed78c6-b601-40c9-98bb-d6d53baeb547",
   "metadata": {},
   "outputs": [
    {
     "data": {
      "text/plain": [
       "['hl60_delta_mtyl_fdr/msigdb_v7.4_c2.cp.kegg/pvmatrix.txt']"
      ]
     },
     "execution_count": 8,
     "metadata": {},
     "output_type": "execute_result"
    }
   ],
   "source": [
    "ipd.detect_gs_cluster(get_pvmatrix_list(\"hl60_delta_mtyl_fdr\",\"c\"),\"KEGG_LYSINE_DEGRADATION\")"
   ]
  },
  {
   "cell_type": "code",
   "execution_count": 9,
   "id": "ce8f3c41-2f92-4d0a-acdf-91195b5db670",
   "metadata": {},
   "outputs": [
    {
     "data": {
      "text/plain": [
       "['DOT1L',\n",
       " 'KMT5A',\n",
       " 'OGDH',\n",
       " 'SETMAR',\n",
       " 'GCDH',\n",
       " 'SETDB2',\n",
       " 'KMT5B',\n",
       " 'ALDH1B1',\n",
       " 'SETD1B',\n",
       " 'ECHS1',\n",
       " 'NSD2',\n",
       " 'SETD2',\n",
       " 'NSD1',\n",
       " 'SETD1A',\n",
       " 'ASH1L',\n",
       " 'EHMT1']"
      ]
     },
     "execution_count": 9,
     "metadata": {},
     "output_type": "execute_result"
    }
   ],
   "source": [
    "[gene for clust in ['8','9','10'] for gene in list(ipd.bin_identifier_genes(\n",
    "    \"hl60_delta_mtyl_fdr/msigdb_v7.4_c2.cp.kegg\",clust,'KEGG_LYSINE_DEGRADATION'\n",
    ").values())[0]]"
   ]
  },
  {
   "cell_type": "markdown",
   "id": "9ac87604-76e2-4b1e-a905-18677a67f9dd",
   "metadata": {},
   "source": [
    "___\n",
    "# "
   ]
  },
  {
   "cell_type": "code",
   "execution_count": 37,
   "id": "e199fac0-65d4-44b5-b94e-7f0980cc91f0",
   "metadata": {},
   "outputs": [
    {
     "name": "stdout",
     "output_type": "stream",
     "text": [
      "Mon Jan  3 15:13:38 PST 2022\n"
     ]
    }
   ],
   "source": [
    "!date"
   ]
  }
 ],
 "metadata": {
  "kernelspec": {
   "display_name": "Python [conda env:pyteiser]",
   "language": "python",
   "name": "conda-env-pyteiser-py"
  },
  "language_info": {
   "codemirror_mode": {
    "name": "ipython",
    "version": 3
   },
   "file_extension": ".py",
   "mimetype": "text/x-python",
   "name": "python",
   "nbconvert_exporter": "python",
   "pygments_lexer": "ipython3",
   "version": "3.10.6"
  }
 },
 "nbformat": 4,
 "nbformat_minor": 5
}
