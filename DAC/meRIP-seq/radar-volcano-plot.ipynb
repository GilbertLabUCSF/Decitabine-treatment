{
 "cells": [
  {
   "cell_type": "markdown",
   "metadata": {
    "tags": []
   },
   "source": [
    "### Draw volcano plot and test global methylation shift \n",
    "<!-- Using my `down-viz` conda env.  -->"
   ]
  },
  {
   "cell_type": "markdown",
   "metadata": {},
   "source": [
    "> - https://stackoverflow.com/questions/8545035/scatterplot-with-marginal-histograms-in-ggplot2 \n",
    "> - https://github.com/daattali/ggExtra "
   ]
  },
  {
   "cell_type": "code",
   "execution_count": 1,
   "metadata": {},
   "outputs": [],
   "source": [
    "# %reload_ext rpy2.ipython"
   ]
  },
  {
   "cell_type": "code",
   "execution_count": 2,
   "metadata": {},
   "outputs": [
    {
     "name": "stderr",
     "output_type": "stream",
     "text": [
      "── \u001b[1mAttaching packages\u001b[22m ─────────────────────────────────────── tidyverse 1.3.1 ──\n",
      "\n",
      "\u001b[32m✔\u001b[39m \u001b[34mtibble \u001b[39m 3.1.6     \u001b[32m✔\u001b[39m \u001b[34mdplyr  \u001b[39m 1.0.7\n",
      "\u001b[32m✔\u001b[39m \u001b[34mtidyr  \u001b[39m 1.1.4     \u001b[32m✔\u001b[39m \u001b[34mstringr\u001b[39m 1.4.0\n",
      "\u001b[32m✔\u001b[39m \u001b[34mreadr  \u001b[39m 2.0.2     \u001b[32m✔\u001b[39m \u001b[34mforcats\u001b[39m 0.5.1\n",
      "\u001b[32m✔\u001b[39m \u001b[34mpurrr  \u001b[39m 0.3.4     \n",
      "\n",
      "── \u001b[1mConflicts\u001b[22m ────────────────────────────────────────── tidyverse_conflicts() ──\n",
      "\u001b[31m✖\u001b[39m \u001b[34mdplyr\u001b[39m::\u001b[32mfilter()\u001b[39m masks \u001b[34mstats\u001b[39m::filter()\n",
      "\u001b[31m✖\u001b[39m \u001b[34mdplyr\u001b[39m::\u001b[32mlag()\u001b[39m    masks \u001b[34mstats\u001b[39m::lag()\n",
      "\n"
     ]
    }
   ],
   "source": [
    "# %%R \n",
    "library (ggExtra)\n",
    "library (ggplot2)\n",
    "library (ggrepel)\n",
    "library (patchwork)\n",
    "library (tidyverse)\n",
    "\n",
    "source('../../scripts/util.R')"
   ]
  },
  {
   "cell_type": "markdown",
   "metadata": {},
   "source": [
    "Volcano plot and histogram "
   ]
  },
  {
   "cell_type": "code",
   "execution_count": 21,
   "metadata": {},
   "outputs": [],
   "source": [
    "# %%R \n",
    "plot_hyperhypo <- function(\n",
    "    res, lfc.cutoff  = 1, pval.cutoff = 0.001,\n",
    "    x_min=-10,x_max=22, labels=FALSE\n",
    "){\n",
    "    w <- wilcox.test(res$logFC, mu=0, alternative = \"greater\")\n",
    "    t <- t.test(res$logFC, mu=0, alternative = \"greater\")\n",
    "    \n",
    "    res$sig <- as.factor(res$p_value < pval.cutoff & abs(res$logFC) > lfc.cutoff)\n",
    "    relevel(res$sig, ref=TRUE)\n",
    "\n",
    "    p = res %>% ggplot(\n",
    "        aes(x=logFC, y=-log10(p_value), colour=sig, fill=sig)) +\n",
    "        geom_point(aes(color = sig)) +\n",
    "            xlim(c(x_min,x_max)) +\n",
    "            # ylim(c(2,20)) +\n",
    "            geom_hline(yintercept=-log10(pval.cutoff), linetype=\"dashed\") +\n",
    "            geom_vline(xintercept=lfc.cutoff, linetype=\"dashed\") +\n",
    "            geom_vline(xintercept=(-1)*lfc.cutoff, linetype=\"dashed\") +\n",
    "            geom_label_repel(\n",
    "                data = res %>% filter(name %in% labels),\n",
    "                size=2, \n",
    "                segment.colour = \"black\",\n",
    "                aes(label = name), \n",
    "                color = 'grey10',fill='white',\n",
    "                box.padding = 1, max.overlaps = Inf) + \n",
    "            scale_color_manual(values = c(\"grey50\", \"green4\")) +\n",
    "            ggtitle(sprintf(\n",
    "                \"\\n[mu=0,alter=greater]\\nwilcox.test (-log10 p.value): %.5f\\nt.test (-log10 p.value):%.5f\", \n",
    "                -log10(w$p.value), -log10(t$p.value))) +\n",
    "            theme_bw() + \n",
    "            theme(\n",
    "                # aspect.ratio = 0.6,\n",
    "                legend.position=\"none\",\n",
    "                rect=element_rect(fill=\"transparent\"),\n",
    "                plot.title = element_text(size = 6),\n",
    "                # axis.text=element_text(size=8),\n",
    "                # axis.title=element_text(size=10),\n",
    "                # panel.border = element_blank(),\n",
    "                panel.grid = element_blank(),\n",
    "                panel.background= element_blank()\n",
    "            )\n",
    "    return (p)\n",
    "} "
   ]
  },
  {
   "cell_type": "code",
   "execution_count": 30,
   "metadata": {
    "tags": []
   },
   "outputs": [],
   "source": [
    "print_hyper_hypo_stats <- function(\n",
    "    res, lfc.cutoff  = 1, pval.cutoff = 0.005\n",
    "){\n",
    "    hyper = res %>% dplyr::filter(logFC > 1 & p_value < 0.005) %>% dim\n",
    "    hyper = hyper[1]\n",
    "    hypo  = res %>% dplyr::filter(logFC < -1 & p_value < 0.005) %>% dim\n",
    "    hypo  = hypo[1]\n",
    "    \n",
    "    print(paste0(\"# of hyper m6A peaks: \",hyper))\n",
    "    print(paste0(\"# of hypo m6A peaks: \",hypo))\n",
    "}"
   ]
  },
  {
   "cell_type": "markdown",
   "metadata": {},
   "source": [
    "Load `diff-mtyl` results:"
   ]
  },
  {
   "cell_type": "code",
   "execution_count": 7,
   "metadata": {},
   "outputs": [],
   "source": [
    "# %%R \n",
    "# Significant bins: FDR<0.2 and logFC > 0.5\n",
    "res = read.table('hl60_delta_mtyl_table.txt', header=TRUE,stringsAsFactors=FALSE)"
   ]
  },
  {
   "cell_type": "code",
   "execution_count": 31,
   "metadata": {
    "tags": []
   },
   "outputs": [
    {
     "name": "stdout",
     "output_type": "stream",
     "text": [
      "[1] \"# of hyper m6A peaks: 2064\"\n",
      "[1] \"# of hypo m6A peaks: 1399\"\n"
     ]
    }
   ],
   "source": [
    "print_hyper_hypo_stats(res)"
   ]
  },
  {
   "cell_type": "code",
   "execution_count": 28,
   "metadata": {},
   "outputs": [],
   "source": [
    "vol = plot_hyperhypo (res) + ylab('-log10(pvalue)')\n",
    "p = ggExtra::ggMarginal(vol, margins = \"x\", size = 10, #type = \"histogram\",\n",
    "           col = \"green4\")#, fill = \"\")"
   ]
  },
  {
   "cell_type": "code",
   "execution_count": 41,
   "metadata": {
    "tags": []
   },
   "outputs": [],
   "source": [
    "# res %>% filter(logFC> 20)"
   ]
  },
  {
   "cell_type": "code",
   "execution_count": 42,
   "metadata": {},
   "outputs": [],
   "source": [
    "plot_Save(p, 'plots/d_mtyl_T_vs_U',w = 3, h = 4)\n"
   ]
  },
  {
   "cell_type": "code",
   "execution_count": 43,
   "metadata": {},
   "outputs": [],
   "source": [
    "ggsave('plots/d_mtyl_T_vs_U.eps',p, w = 4, h = 4)"
   ]
  },
  {
   "cell_type": "markdown",
   "metadata": {},
   "source": [
    "### "
   ]
  },
  {
   "cell_type": "markdown",
   "metadata": {},
   "source": [
    "Load `diff-mtyl` results:"
   ]
  },
  {
   "cell_type": "code",
   "execution_count": 4,
   "metadata": {
    "tags": []
   },
   "outputs": [],
   "source": [
    "HERV_m6a_results=list()"
   ]
  },
  {
   "cell_type": "code",
   "execution_count": 32,
   "metadata": {
    "tags": []
   },
   "outputs": [
    {
     "name": "stdout",
     "output_type": "stream",
     "text": [
      "[1] \"line\"\n",
      "[1] \"# of hyper m6A peaks: 180\"\n",
      "[1] \"# of hypo m6A peaks: 45\"\n",
      "[1] \"retroposon\"\n",
      "[1] \"# of hyper m6A peaks: 37\"\n",
      "[1] \"# of hypo m6A peaks: 9\"\n",
      "[1] \"sine\"\n",
      "[1] \"# of hyper m6A peaks: 131\"\n",
      "[1] \"# of hypo m6A peaks: 48\"\n"
     ]
    }
   ],
   "source": [
    "for(name in c(\n",
    "    # 'erv',\n",
    "    'line',\n",
    "    # 'rc',\n",
    "    'retroposon',\n",
    "    # 'satellite',\n",
    "    # 'scrna',\n",
    "    'sine'\n",
    "    # 'snrna','trna'\n",
    ")){\n",
    "    res_tmp = read.table(paste0('radar_herv/',name,'/result.sig.txt'), header=TRUE,stringsAsFactors=FALSE)\n",
    "    \n",
    "    print(name)\n",
    "    print_hyper_hypo_stats(res_tmp)\n",
    "    HERV_m6a_results[[name]] = res_tmp\n",
    "    rm(res_tmp)\n",
    "}"
   ]
  },
  {
   "cell_type": "markdown",
   "metadata": {},
   "source": [
    "___"
   ]
  },
  {
   "cell_type": "code",
   "execution_count": 112,
   "metadata": {},
   "outputs": [
    {
     "name": "stdout",
     "output_type": "stream",
     "text": [
      "[1] \"line\"\n",
      "[1] \"retroposon\"\n",
      "[1] \"sine\"\n"
     ]
    }
   ],
   "source": [
    "for(name in names(HERV_m6a_results)){\n",
    "    res = HERV_m6a_results[[name]]\n",
    "    print(name)\n",
    "    \n",
    "    vol = plot_hyperhypo (res,x_min=res$logFC %>% min -1, x_max=res$logFC %>% max + 1) + ylab('-log10(pvalue)')\n",
    "    p = ggExtra::ggMarginal(vol, margins = \"x\", size = 10, #type = \"histogram\",\n",
    "               col = \"green4\")#, fill = \"\")\n",
    "    \n",
    "    plot_Save(p, paste0('radar_herv/',name,'/volcano_plot'),w = 2.5, h = 3)\n",
    "    ggsave( paste0('radar_herv/',name,'/volcano_plot.eps'),p, w = 2.5, h = 3)\n",
    "}"
   ]
  },
  {
   "cell_type": "markdown",
   "metadata": {
    "tags": []
   },
   "source": [
    "___\n",
    "# "
   ]
  },
  {
   "cell_type": "code",
   "execution_count": 50,
   "metadata": {},
   "outputs": [],
   "source": [
    "# conda env export --from-history"
   ]
  },
  {
   "cell_type": "code",
   "execution_count": 18,
   "metadata": {},
   "outputs": [
    {
     "data": {
      "text/plain": [
       "R version 4.1.1 (2021-08-10)\n",
       "Platform: x86_64-conda-linux-gnu (64-bit)\n",
       "Running under: CentOS Linux 7 (Core)\n",
       "\n",
       "Matrix products: default\n",
       "BLAS/LAPACK: /data_gilbert/home/aarab/anaconda3/envs/deseq2/lib/libopenblasp-r0.3.18.so\n",
       "\n",
       "locale:\n",
       " [1] LC_CTYPE=en_US.UTF-8       LC_NUMERIC=C              \n",
       " [3] LC_TIME=en_US.UTF-8        LC_COLLATE=en_US.UTF-8    \n",
       " [5] LC_MONETARY=en_US.UTF-8    LC_MESSAGES=en_US.UTF-8   \n",
       " [7] LC_PAPER=en_US.UTF-8       LC_NAME=C                 \n",
       " [9] LC_ADDRESS=C               LC_TELEPHONE=C            \n",
       "[11] LC_MEASUREMENT=en_US.UTF-8 LC_IDENTIFICATION=C       \n",
       "\n",
       "attached base packages:\n",
       "[1] stats     graphics  grDevices utils     datasets  methods   base     \n",
       "\n",
       "other attached packages:\n",
       " [1] forcats_0.5.1   stringr_1.4.0   dplyr_1.0.7     purrr_0.3.4    \n",
       " [5] readr_2.0.2     tidyr_1.1.4     tibble_3.1.6    tidyverse_1.3.1\n",
       " [9] patchwork_1.1.1 ggrepel_0.9.1   ggplot2_3.3.5   ggExtra_0.9    \n",
       "\n",
       "loaded via a namespace (and not attached):\n",
       " [1] Rcpp_1.0.7       lubridate_1.8.0  assertthat_0.2.1 digest_0.6.28   \n",
       " [5] utf8_1.2.2       mime_0.12        IRdisplay_1.0    R6_2.5.1        \n",
       " [9] cellranger_1.1.0 repr_1.1.3       backports_1.3.0  reprex_2.0.1    \n",
       "[13] evaluate_0.14    httr_1.4.2       pillar_1.6.4     rlang_0.4.12    \n",
       "[17] uuid_1.0-3       readxl_1.3.1     rstudioapi_0.13  miniUI_0.1.1.1  \n",
       "[21] labeling_0.4.2   munsell_0.5.0    shiny_1.7.1      broom_0.7.10    \n",
       "[25] compiler_4.1.1   httpuv_1.6.3     modelr_0.1.8     pkgconfig_2.0.3 \n",
       "[29] base64enc_0.1-3  htmltools_0.5.2  tidyselect_1.1.1 fansi_0.4.2     \n",
       "[33] crayon_1.4.2     tzdb_0.2.0       dbplyr_2.1.1     withr_2.4.2     \n",
       "[37] later_1.2.0      grid_4.1.1       jsonlite_1.7.2   xtable_1.8-4    \n",
       "[41] gtable_0.3.0     lifecycle_1.0.1  DBI_1.1.1        magrittr_2.0.1  \n",
       "[45] scales_1.1.1     cli_3.1.0        stringi_1.7.5    farver_2.1.0    \n",
       "[49] fs_1.5.0         promises_1.2.0.1 xml2_1.3.2       ellipsis_0.3.2  \n",
       "[53] generics_0.1.1   vctrs_0.3.8      IRkernel_1.2     tools_4.1.1     \n",
       "[57] glue_1.5.0       hms_1.1.1        fastmap_1.1.0    colorspace_2.0-2\n",
       "[61] rvest_1.0.2      pbdZMQ_0.3-6     haven_2.4.3     "
      ]
     },
     "metadata": {},
     "output_type": "display_data"
    }
   ],
   "source": [
    "sessionInfo()"
   ]
  }
 ],
 "metadata": {
  "kernelspec": {
   "display_name": "R [conda env:anaconda3-deseq2]",
   "language": "R",
   "name": "conda-env-anaconda3-deseq2-r"
  },
  "language_info": {
   "codemirror_mode": "r",
   "file_extension": ".r",
   "mimetype": "text/x-r-source",
   "name": "R",
   "pygments_lexer": "r",
   "version": "4.1.1"
  }
 },
 "nbformat": 4,
 "nbformat_minor": 4
}
