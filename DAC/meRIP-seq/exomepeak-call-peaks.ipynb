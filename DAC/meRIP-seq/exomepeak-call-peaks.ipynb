{
 "cells": [
  {
   "cell_type": "markdown",
   "metadata": {},
   "source": [
    "We aim to use exomePeak package for each treatment separately."
   ]
  },
  {
   "cell_type": "code",
   "execution_count": 1,
   "metadata": {},
   "outputs": [],
   "source": [
    "%reload_ext rpy2.ipython"
   ]
  },
  {
   "cell_type": "code",
   "execution_count": 2,
   "metadata": {},
   "outputs": [],
   "source": [
    "%%R\n",
    "suppressMessages(suppressWarnings(library (GenomicFeatures)))\n",
    "suppressMessages(suppressWarnings(library (exomePeak)))"
   ]
  },
  {
   "cell_type": "code",
   "execution_count": 25,
   "metadata": {},
   "outputs": [],
   "source": [
    "%%R\n",
    "suppressMessages(suppressWarnings(library (Guitar)))"
   ]
  },
  {
   "cell_type": "code",
   "execution_count": 3,
   "metadata": {},
   "outputs": [],
   "source": [
    "%%R \n",
    "mkdir <- function (output_dir){\n",
    "    if (!dir.exists(output_dir)){\n",
    "        dir.create(output_dir)\n",
    "        print(output_dir)\n",
    "        print(\"created!\")\n",
    "    } else {\n",
    "        print(output_dir)\n",
    "        print(\"already exists!\")\n",
    "    }\n",
    "}"
   ]
  },
  {
   "cell_type": "code",
   "execution_count": null,
   "metadata": {},
   "outputs": [
    {
     "name": "stderr",
     "output_type": "stream",
     "text": [
      "R[write to console]: Import genomic features from the file as a GRanges object ... \n",
      "R[write to console]: OK\n",
      "\n",
      "R[write to console]: Prepare the 'metadata' data frame ... \n",
      "R[write to console]: OK\n",
      "\n",
      "R[write to console]: Make the TxDb object ... \n",
      "R[write to console]: OK\n",
      "\n"
     ]
    }
   ],
   "source": [
    "%%R\n",
    "######################################## genome ####################################\n",
    "GTF = '~/genomes/hg38/gencode.v34/gencode.v34.annotation.gtf'\n",
    "\n",
    "txdb <- makeTxDbFromGFF(GTF, organism=NA )"
   ]
  },
  {
   "cell_type": "code",
   "execution_count": 11,
   "metadata": {},
   "outputs": [
    {
     "name": "stdout",
     "output_type": "stream",
     "text": [
      "TxDb object:\n",
      "# Db type: TxDb\n",
      "# Supporting package: GenomicFeatures\n",
      "# Data source: ~/genomes/hg38/gencode.v34/gencode.v34.annotation.gtf\n",
      "# Organism: NA\n",
      "# Taxonomy ID: NA\n",
      "# miRBase build ID: NA\n",
      "# Genome: NA\n",
      "# transcript_nrow: 228048\n",
      "# exon_nrow: 748089\n",
      "# cds_nrow: 275255\n",
      "# Db created by: GenomicFeatures package from Bioconductor\n",
      "# Creation time: 2023-02-28 19:52:09 -0800 (Tue, 28 Feb 2023)\n",
      "# GenomicFeatures version at creation time: 1.36.4\n",
      "# RSQLite version at creation time: 2.2.5\n",
      "# DBSCHEMAVERSION: 1.2\n"
     ]
    }
   ],
   "source": [
    "%%R\n",
    "txdb"
   ]
  },
  {
   "cell_type": "markdown",
   "metadata": {
    "tags": []
   },
   "source": [
    "# DMSO"
   ]
  },
  {
   "cell_type": "code",
   "execution_count": 4,
   "metadata": {},
   "outputs": [
    {
     "data": {
      "text/plain": [
       "['bam/U1.input.bam.bai',\n",
       " 'bam/U1.m6A.bam.bai',\n",
       " 'bam/U2.input.bam.bai',\n",
       " 'bam/U2.m6A.bam.bai',\n",
       " 'bam/U1.input.bam',\n",
       " 'bam/U1.m6A.bam',\n",
       " 'bam/U2.input.bam',\n",
       " 'bam/U2.m6A.bam']"
      ]
     },
     "execution_count": 4,
     "metadata": {},
     "output_type": "execute_result"
    }
   ],
   "source": [
    "import glob\n",
    "glob.glob('bam/U*')"
   ]
  },
  {
   "cell_type": "markdown",
   "metadata": {
    "tags": []
   },
   "source": [
    "## 1. Run `exomePeak`"
   ]
  },
  {
   "cell_type": "code",
   "execution_count": 5,
   "metadata": {},
   "outputs": [],
   "source": [
    "# %%R\n",
    "######################################## read meta ######################################$\n",
    "\n",
    "Samples = c(\"U1\",\"U2\")\n",
    "IP = '.m6A'\n",
    "INPUT = '.input'\n",
    "\n",
    "OUTPUT = 'exomepeak'\n",
    "\n",
    "Samples = unlist(Samples)\n",
    "\n",
    "IP_BAM = paste(Samples, IP, '.bam', sep='')\n",
    "INPUT_BAM = paste(Samples, INPUT, '.bam', sep='')"
   ]
  },
  {
   "cell_type": "code",
   "execution_count": 9,
   "metadata": {},
   "outputs": [],
   "source": [
    "# %%R \n",
    "setwd(\"bam\")"
   ]
  },
  {
   "cell_type": "code",
   "execution_count": null,
   "metadata": {},
   "outputs": [],
   "source": []
  },
  {
   "cell_type": "code",
   "execution_count": 10,
   "metadata": {},
   "outputs": [
    {
     "data": {
      "text/html": [
       "<style>\n",
       ".list-inline {list-style: none; margin:0; padding: 0}\n",
       ".list-inline>li {display: inline-block}\n",
       ".list-inline>li:not(:last-child)::after {content: \"\\00b7\"; padding: 0 .5ex}\n",
       "</style>\n",
       "<ol class=list-inline><li>FALSE</li><li>FALSE</li></ol>\n"
      ],
      "text/latex": [
       "\\begin{enumerate*}\n",
       "\\item FALSE\n",
       "\\item FALSE\n",
       "\\end{enumerate*}\n"
      ],
      "text/markdown": [
       "1. FALSE\n",
       "2. FALSE\n",
       "\n",
       "\n"
      ],
      "text/plain": [
       "[1] FALSE FALSE"
      ]
     },
     "metadata": {},
     "output_type": "display_data"
    }
   ],
   "source": [
    "# %%R\n",
    "file.exists(INPUT_BAM)"
   ]
  },
  {
   "cell_type": "code",
   "execution_count": null,
   "metadata": {},
   "outputs": [],
   "source": [
    "# %%R\n",
    "# options(digits=5)\n",
    "\n",
    "# runexomepeak <- function(WINDOW = 50,STEP = 5,LENGTH = 200,ENRICH = 1){\n",
    "#     EXP = paste('WINDOW',WINDOW,'STEP',STEP,'LENGTH',LENGTH,'ENRICH',ENRICH,sep='-')\n",
    "\n",
    "#     print (EXP)\n",
    "    \n",
    "#     res <- exomepeak(\n",
    "#         TXDB = txdb,\n",
    "#         IP_BAM=IP_BAM,\n",
    "#         INPUT_BAM=INPUT_BAM,\n",
    "\n",
    "#         OUTPUT_DIR=paste('..',OUTPUT,sep='/'),\n",
    "#         EXPERIMENT_NAME=EXP,\n",
    "\n",
    "#         # options\n",
    "#         WINDOW_WIDTH = WINDOW,\n",
    "#         SLIDING_STEP = STEP,\n",
    "#         FRAGMENT_LENGTH = LENGTH,\n",
    "#     #     PEAK_CUTOFF_PVALUE = 1,\n",
    "#     #     PEAK_CUTOFF_FDR = 1, # as.double(FDR),\n",
    "#         FOLD_ENRICHMENT = ENRICH\n",
    "#     )\n",
    "\n",
    "#     mkdir(paste('..', OUTPUT, sep='/'))\n",
    "#     mkdir(paste('..', OUTPUT, EXP, sep='/'))\n",
    "\n",
    "#     saveRDS(res, paste('..', OUTPUT, EXP, 'results.rds', sep='/'))\n",
    "# }"
   ]
  },
  {
   "cell_type": "code",
   "execution_count": null,
   "metadata": {},
   "outputs": [],
   "source": [
    "%%R\n",
    "options(digits=5)\n",
    "\n",
    "WINDOW = 50 # 10 or 25\n",
    "STEP = 5 \n",
    "LENGTH = 200 # 150, 100 or 50\n",
    "ENRICH = 1\n",
    "EXP = paste('WINDOW',WINDOW,'STEP',STEP,'LENGTH',LENGTH,'ENRICH',ENRICH,sep='-')\n",
    "\n",
    "res <- exomepeak(\n",
    "    TXDB = txdb,\n",
    "    IP_BAM=IP_BAM,\n",
    "    INPUT_BAM=INPUT_BAM,\n",
    "    \n",
    "    OUTPUT_DIR=paste('..',OUTPUT,sep='/'),\n",
    "    EXPERIMENT_NAME=EXP,\n",
    "\n",
    "    # options\n",
    "    WINDOW_WIDTH = WINDOW,\n",
    "    SLIDING_STEP = STEP,\n",
    "    FRAGMENT_LENGTH = LENGTH,\n",
    "#     PEAK_CUTOFF_PVALUE = 1,\n",
    "#     PEAK_CUTOFF_FDR = 1, # as.double(FDR),\n",
    "    FOLD_ENRICHMENT = ENRICH\n",
    ")\n",
    "\n",
    "mkdir(paste('..', OUTPUT, sep='/'))\n",
    "mkdir(paste('..', OUTPUT, EXP, sep='/'))\n",
    "\n",
    "saveRDS(res, paste('..', OUTPUT, EXP, 'results.rds', sep='/'))"
   ]
  },
  {
   "cell_type": "code",
   "execution_count": null,
   "metadata": {},
   "outputs": [],
   "source": [
    "%%R \n",
    "setwd(\"../\")"
   ]
  },
  {
   "cell_type": "markdown",
   "metadata": {},
   "source": [
    "___"
   ]
  },
  {
   "cell_type": "markdown",
   "metadata": {
    "jp-MarkdownHeadingCollapsed": true,
    "tags": []
   },
   "source": [
    "## 2. `RGAC` & `DRACH` motif analysis "
   ]
  },
  {
   "cell_type": "code",
   "execution_count": 6,
   "metadata": {},
   "outputs": [
    {
     "name": "stdout",
     "output_type": "stream",
     "text": [
      "MAIN=$1\n",
      "MOTIF=/rumi/shams/abe/GitHub/imRIP/motifs.txt\n",
      "\n",
      "cd ${MAIN}\n",
      "for sam in *; do\n",
      "\tcd $sam\n",
      "\techo \"__________________________________________________________________________________________\"\n",
      "\techo $sam\n",
      "\techo \"step 1: extract mRNA sequences\"\n",
      "\tcat peak.bed | sort -k1,1 -k2,2n peak.bed | cgat bed2bed --method=merge --merge-by-name |  awk '! /#/' | bedtools getfasta -name -s -fi /rumi/shams/genomes/hg38/hg38.fa -bed - -split -fo peak.fa\n",
      "\techo \"--- DONE! ---\"\n",
      "\n",
      "\techo \"step 2: prepare inputs for FIRE\"\n",
      "\t# perl $TEISERDIR/prep_seqs_for_teiser_run.pl peak.fa peaks\n",
      "\t/rumi/shams/abe/anaconda3/envs/cgat/bin/python $TEISERDIR/prep_fasta_for_fire_run.py peak.fa\n",
      "\techo \"--- DONE! ---\"\n",
      "\n",
      "\techo \"step 3: run FIRE for known m6A motifs (non-discovery mode)\"\n",
      "\tperl $FIREDIR/fire.pl --expfile=peak_fire.txt --exptype=discrete --fastafile_rna=peak_fire.fa \\\n",
      "\t--nodups=1 --dodna=0 --dodnarna=0 --species=human --doskipdiscovery=1 \\\n",
      "\t--motiffile_rna=$MOTIF --oribiasonly=0 > non-discovery_FIRE.log\n",
      "\trm -rv non-discovery_FIRE \n",
      "\tmv -v peak_fire.txt_FIRE/ non-discovery_FIRE \n",
      "\techo \"--- DONE! ---\"\n",
      "\n",
      "\techo \"step 4: run FIRE discovery mode\"\n",
      "\tperl $FIREDIR/fire.pl --expfile=peak_fire.txt --exptype=discrete --fastafile_rna=peak_fire.fa \\\n",
      "\t--nodups=1 --dodna=0 --dodnarna=0 --species=human --oribiasonly=0 > discovery_FIRE.log \n",
      "\trm -rv discovery_FIRE \n",
      "\tmv -v peak_fire.txt_FIRE/ discovery_FIRE\n",
      "\techo \"--- DONE! ---\"\n",
      "\n",
      "\tcd ../\n",
      "done"
     ]
    }
   ],
   "source": [
    "cat ~/GitHub/imRIP/scr/exomepeak-motif.sh"
   ]
  },
  {
   "cell_type": "code",
   "execution_count": null,
   "metadata": {},
   "outputs": [],
   "source": [
    "!bash ~/GitHub/imRIP/scr/exomepeak-motif.sh ~/Projects/Decitabine-treatment/meRIP-seq/exomepeak"
   ]
  },
  {
   "cell_type": "markdown",
   "metadata": {},
   "source": [
    "Let's examine how exomepeak paramaters affect FIRE's results: "
   ]
  },
  {
   "cell_type": "code",
   "execution_count": 18,
   "metadata": {},
   "outputs": [],
   "source": [
    "import pandas as pd\n",
    "from glob import glob"
   ]
  },
  {
   "cell_type": "code",
   "execution_count": 102,
   "metadata": {},
   "outputs": [
    {
     "data": {
      "text/plain": [
       "[['WINDOW-50-STEP-5-LENGTH-200-ENRICH-1',\n",
       "                    0  1   2  3      4     5\n",
       "  0           [AG]GAC  0  49  0  0.790  6902\n",
       "  1           [AG]GAC  1  51  1  0.824  6902\n",
       "  2  [AGT][AG]AC[ACT]  0  49  0  0.944  6902\n",
       "  3  [AGT][AG]AC[ACT]  1  51  1  0.949  6902],\n",
       " ['WINDOW-50-STEP-5-LENGTH-50-ENRICH-1',\n",
       "                    0  1   2  3      4      5\n",
       "  0           [AG]GAC  0  50  0  0.498  20609\n",
       "  1           [AG]GAC  1  50  1  0.518  20609\n",
       "  2  [AGT][AG]AC[ACT]  0  50  0  0.744  20609\n",
       "  3  [AGT][AG]AC[ACT]  1  50  1  0.755  20609],\n",
       " ['WINDOW-10-STEP-5-LENGTH-150-ENRICH-1',\n",
       "                    0  1   2  3      4    5\n",
       "  0           [AG]GAC  0  49  0  0.722  227\n",
       "  1           [AG]GAC  1  51  1  0.758  227\n",
       "  2  [AGT][AG]AC[ACT]  0  45  0  0.863  227\n",
       "  3  [AGT][AG]AC[ACT]  1  55  1  0.930  227],\n",
       " ['WINDOW-50-STEP-5-LENGTH-150-ENRICH-1',\n",
       "                    0  1   2  3      4     5\n",
       "  0           [AG]GAC  0  49  0  0.724  8899\n",
       "  1           [AG]GAC  1  51  1  0.762  8899\n",
       "  2  [AGT][AG]AC[ACT]  0  49  0  0.916  8899\n",
       "  3  [AGT][AG]AC[ACT]  1  51  1  0.926  8899],\n",
       " ['WINDOW-50-STEP-5-LENGTH-100-ENRICH-1',\n",
       "                    0  1   2  3      4      5\n",
       "  0           [AG]GAC  0  50  0  0.648  12148\n",
       "  1           [AG]GAC  1  50  1  0.676  12148\n",
       "  2  [AGT][AG]AC[ACT]  0  50  0  0.864  12148\n",
       "  3  [AGT][AG]AC[ACT]  1  50  1  0.870  12148],\n",
       " ['WINDOW-25-STEP-5-LENGTH-150-ENRICH-1',\n",
       "                    0  1   2  3      4     5\n",
       "  0           [AG]GAC  0  49  0  0.683  4593\n",
       "  1           [AG]GAC  1  51  1  0.732  4593\n",
       "  2  [AGT][AG]AC[ACT]  0  49  0  0.906  4593\n",
       "  3  [AGT][AG]AC[ACT]  1  51  1  0.919  4593]]"
      ]
     },
     "execution_count": 102,
     "metadata": {},
     "output_type": "execute_result"
    }
   ],
   "source": [
    "[\n",
    "    [\n",
    "        l.split('/')[1],\n",
    "        pd.read_csv(l,header=None,sep='\\t')\n",
    "    ]\n",
    "    for l in glob('exomepeak/*/non-discovery_FIRE/RNA/peak_fire.txt.signif.motifs.rep')\n",
    "]\n",
    " \n",
    "# pd.concat(, axis=0)"
   ]
  },
  {
   "cell_type": "markdown",
   "metadata": {},
   "source": [
    "`WINDOW-50-STEP-5-LENGTH-150-ENRICH-1` seem the best which shows the enrichment of `RGAC` motif. "
   ]
  },
  {
   "cell_type": "markdown",
   "metadata": {},
   "source": [
    "___"
   ]
  },
  {
   "cell_type": "markdown",
   "metadata": {},
   "source": [
    "### WINDOW-50-STEP-5-LENGTH-150-ENRICH-1\n"
   ]
  },
  {
   "cell_type": "code",
   "execution_count": 44,
   "metadata": {},
   "outputs": [
    {
     "name": "stdout",
     "output_type": "stream",
     "text": [
      "con_peak.bed        exomePeak.Rdata         peak.fa        results.rds\n",
      "con_peak.xls        \u001b[0m\u001b[34;42mnon-discovery_FIRE\u001b[0m/     peak_fire.fa\n",
      "\u001b[34;42mdiscovery_FIRE\u001b[0m/     non-discovery_FIRE.log  peak_fire.txt\n",
      "discovery_FIRE.log  peak.bed                peak.xls\n"
     ]
    }
   ],
   "source": [
    "ls exomepeak/WINDOW-50-STEP-5-LENGTH-150-ENRICH-1"
   ]
  },
  {
   "cell_type": "code",
   "execution_count": null,
   "metadata": {},
   "outputs": [],
   "source": []
  },
  {
   "cell_type": "code",
   "execution_count": 5,
   "metadata": {},
   "outputs": [
    {
     "name": "stdout",
     "output_type": "stream",
     "text": [
      "/rumi/shams/abe/Projects/Decitabine-treatment/meRIP-seq\n",
      "/rumi/shams/abe/Projects/Decitabine-treatment/meRIP-seq/exomepeak/WINDOW-50-STEP-5-LENGTH-150-ENRICH-1\n",
      "RNA, Step 7: draw matrix figure.\n",
      "Now doing the graphical display.\n",
      "xsize = 1200, ysize = 400, xbase = 35, ybase = 250\n",
      "Processing [AG]GAC ... Outputing motif 0.eps ... Done.\n",
      "Plotting significance boxes.\n",
      "Creating peak_fire.txt_FIRE/RNA/peak_fire.txt.summary.eps ...Done.\n",
      "Creating PDF peak_fire.txt_FIRE/RNA/peak_fire.txt.summary.pdf ... Done.\n",
      "/rumi/shams/abe/Projects/Decitabine-treatment/meRIP-seq\n"
     ]
    }
   ],
   "source": [
    "%%bash \n",
    "echo `pwd`\n",
    "cd exomepeak/WINDOW-50-STEP-5-LENGTH-150-ENRICH-1\n",
    "echo `pwd`\n",
    "# export FIREDIR=/flash/bin/FIRE-1.1\n",
    "# export LD_LIBRARY_PATH=/flash/bin/FIRE-1.1/modules/lib\n",
    "# date\n",
    "\n",
    "mv non-discovery_FIRE peak_fire.txt_FIRE\n",
    "\n",
    "echo \"RNA, Step 7: draw matrix figure.\"\n",
    "perl /flash/bin/FIRE-1.1/SCRIPTS/mi_draw_matrix.pl \\\n",
    "    --expfile=peak_fire.txt_FIRE/RNA/peak_fire.txt \\\n",
    "    --matfile=peak_fire.txt_FIRE/RNA/peak_fire.txt.matrix \\\n",
    "    --summaryfile=peak_fire.txt_FIRE/RNA/peak_fire.txt.summary \\\n",
    "    --columnsfile=peak_fire.txt_FIRE/RNA/peak_fire.txt.columns \\\n",
    "    --ps2pdf=1 --every=1 --quantized=1 --motifnames=peak_fire.txt_FIRE/RNA/peak_fire.txt.motifnames \\\n",
    "    --ybase=250 --colmap=/flash/bin/FIRE-1.1/SCRIPTS/HEATMAPS/cmap2.txt \\\n",
    "    --clustfile=peak_fire.txt_FIRE/RNA/peak_fire.txt.clusters  \\\n",
    "    --lp_t_draw=10 \\\n",
    "    --gofile=peak_fire.txt_FIRE/RNA/peak_fire.txt.GO \n",
    "\n",
    "mv peak_fire.txt_FIRE non-discovery_FIRE \n",
    "\n",
    "cd ../../\n",
    "\n",
    "echo `pwd`"
   ]
  },
  {
   "cell_type": "code",
   "execution_count": 7,
   "metadata": {},
   "outputs": [
    {
     "name": "stdout",
     "output_type": "stream",
     "text": [
      "'exomepeak/WINDOW-50-STEP-5-LENGTH-150-ENRICH-1/non-discovery_FIRE/RNA/peak_fire.txt.summary.pdf' -> 'plots/FIRE-known-motifs.pdf'\n",
      "plots/FIRE-known-motifs.pdf > plots/FIRE-known-motifs.png\n",
      "done!\n"
     ]
    }
   ],
   "source": [
    "!cp -v exomepeak/WINDOW-50-STEP-5-LENGTH-150-ENRICH-1/non-discovery_FIRE/RNA/peak_fire.txt.summary.pdf plots/FIRE-known-motifs.pdf\n",
    "!bash ~/GitHub/Abe/my_scripts/pdf2png.sh plots/FIRE-known-motifs.pdf"
   ]
  },
  {
   "cell_type": "markdown",
   "metadata": {},
   "source": [
    "# Decitabine"
   ]
  },
  {
   "cell_type": "code",
   "execution_count": 5,
   "metadata": {},
   "outputs": [
    {
     "data": {
      "text/plain": [
       "['bam/T1.input.bam.bai',\n",
       " 'bam/T1.m6A.bam.bai',\n",
       " 'bam/T2.input.bam.bai',\n",
       " 'bam/T2.m6A.bam.bai',\n",
       " 'bam/T1.input.bam',\n",
       " 'bam/T1.m6A.bam',\n",
       " 'bam/T2.input.bam',\n",
       " 'bam/T2.m6A.bam']"
      ]
     },
     "execution_count": 5,
     "metadata": {},
     "output_type": "execute_result"
    }
   ],
   "source": [
    "glob.glob('bam/T*')"
   ]
  },
  {
   "cell_type": "markdown",
   "metadata": {},
   "source": [
    "## 1. Run `exomePeak`"
   ]
  },
  {
   "cell_type": "code",
   "execution_count": 9,
   "metadata": {},
   "outputs": [],
   "source": [
    "%%R\n",
    "######################################## read meta ######################################$\n",
    "\n",
    "Samples = c(\"T1\",\"T2\")\n",
    "IP = '.m6A'\n",
    "INPUT = '.input'\n",
    "\n",
    "OUTPUT = 'exomepeak'\n",
    "\n",
    "Samples = unlist(Samples)\n",
    "\n",
    "IP_BAM = paste(Samples, IP, '.bam', sep='')\n",
    "INPUT_BAM = paste(Samples, INPUT, '.bam', sep='')"
   ]
  },
  {
   "cell_type": "code",
   "execution_count": 12,
   "metadata": {},
   "outputs": [],
   "source": [
    "%%R \n",
    "setwd(\"bam\")"
   ]
  },
  {
   "cell_type": "code",
   "execution_count": null,
   "metadata": {},
   "outputs": [],
   "source": []
  },
  {
   "cell_type": "code",
   "execution_count": 13,
   "metadata": {},
   "outputs": [
    {
     "name": "stdout",
     "output_type": "stream",
     "text": [
      "[1] TRUE TRUE\n"
     ]
    }
   ],
   "source": [
    "%%R\n",
    "file.exists(INPUT_BAM)"
   ]
  },
  {
   "cell_type": "code",
   "execution_count": null,
   "metadata": {},
   "outputs": [
    {
     "name": "stderr",
     "output_type": "stream",
     "text": [
      "R[write to console]: 'select()' returned 1:many mapping between keys and columns\n",
      "\n"
     ]
    },
    {
     "name": "stdout",
     "output_type": "stream",
     "text": [
      "[1] \"Divide transcriptome into chr-gene-batch sections ...\"\n",
      "[1] \"Get Reads Count ...\"\n",
      "[1] \"This step may take a few hours ...\"\n",
      "[1] \"0.275 %\"\n",
      "[1] \"0.549 %\"\n",
      "[1] \"0.824 %\"\n",
      "[1] \"1.1 %\"\n",
      "[1] \"1.37 %\"\n",
      "[1] \"1.65 %\"\n",
      "[1] \"1.92 %\"\n",
      "[1] \"2.2 %\"\n",
      "[1] \"2.47 %\"\n",
      "[1] \"2.75 %\"\n",
      "[1] \"3.02 %\"\n",
      "[1] \"3.3 %\"\n",
      "[1] \"3.57 %\"\n",
      "[1] \"3.85 %\"\n",
      "[1] \"4.12 %\"\n",
      "[1] \"4.4 %\"\n",
      "[1] \"4.67 %\"\n",
      "[1] \"4.95 %\"\n",
      "[1] \"5.22 %\"\n",
      "[1] \"5.49 %\"\n",
      "[1] \"5.77 %\"\n",
      "[1] \"6.04 %\"\n",
      "[1] \"6.32 %\"\n",
      "[1] \"6.59 %\"\n",
      "[1] \"6.87 %\"\n",
      "[1] \"7.14 %\"\n",
      "[1] \"7.42 %\"\n",
      "[1] \"7.69 %\"\n",
      "[1] \"7.97 %\"\n",
      "[1] \"8.24 %\"\n",
      "[1] \"8.52 %\"\n",
      "[1] \"8.79 %\"\n",
      "[1] \"9.07 %\"\n"
     ]
    }
   ],
   "source": [
    "%%R\n",
    "options(digits=5)\n",
    "\n",
    "WINDOW = 50 # 10 or 25\n",
    "STEP = 5 \n",
    "LENGTH = 200 # 150, 100 or 50\n",
    "ENRICH = 1\n",
    "EXP = paste('WINDOW',WINDOW,'STEP',STEP,'LENGTH',LENGTH,'ENRICH',ENRICH,sep='-')\n",
    "\n",
    "res <- exomepeak(\n",
    "    TXDB = txdb,\n",
    "    IP_BAM=IP_BAM,\n",
    "    INPUT_BAM=INPUT_BAM,\n",
    "    \n",
    "    OUTPUT_DIR=paste('..',OUTPUT,sep='/'),\n",
    "    EXPERIMENT_NAME=EXP,\n",
    "\n",
    "    # options\n",
    "    WINDOW_WIDTH = WINDOW,\n",
    "    SLIDING_STEP = STEP,\n",
    "    FRAGMENT_LENGTH = LENGTH,\n",
    "#     PEAK_CUTOFF_PVALUE = 1,\n",
    "#     PEAK_CUTOFF_FDR = 1, # as.double(FDR),\n",
    "    FOLD_ENRICHMENT = ENRICH\n",
    ")\n",
    "\n",
    "mkdir(paste('..', OUTPUT, sep='/'))\n",
    "mkdir(paste('..', OUTPUT, EXP, sep='/'))\n",
    "\n",
    "saveRDS(res, paste('..', OUTPUT, EXP, 'results.rds', sep='/'))"
   ]
  },
  {
   "cell_type": "code",
   "execution_count": 16,
   "metadata": {},
   "outputs": [],
   "source": [
    "%%R \n",
    "setwd(\"../\")"
   ]
  },
  {
   "cell_type": "markdown",
   "metadata": {},
   "source": [
    "___"
   ]
  },
  {
   "cell_type": "markdown",
   "metadata": {},
   "source": [
    "## 2. Metagene plots\n",
    "Now, let's draw **metagene plots**: (using seprate conda env and ipython kernel)"
   ]
  },
  {
   "cell_type": "code",
   "execution_count": 26,
   "metadata": {
    "scrolled": true,
    "tags": []
   },
   "outputs": [
    {
     "name": "stdout",
     "output_type": "stream",
     "text": [
      "[1] \"20230301113706\"\n",
      "[1] \"There are 228048 transcripts of 60669 genes in the genome.\"\n",
      "[1] \"total 228048 transcripts extracted ...\"\n",
      "[1] \"total 97941 transcripts left after ambiguity filter ...\"\n",
      "[1] \"total 97941 transcripts left after check chromosome validity ...\"\n",
      "[1] \"total 10939 mRNAs left after component length filter ...\"\n",
      "[1] \"total 60598 ncRNAs left after ncRNA length filter ...\"\n",
      "[1] \"generate components for all tx\"\n",
      "[1] \"generate components for mRNA\"\n",
      "[1] \"generate components for lncRNA\"\n",
      "[1] \"generate chiped transcriptome\"\n",
      "[1] \"generate coverage checking ranges for tx\"\n",
      "[1] \"generate coverage checking ranges for mrna\"\n",
      "[1] \"generate coverage checking ranges for ncrna\"\n",
      "[1] \"20230301114018\"\n",
      "[1] \"import BED file exomepeak/WINDOW-50-STEP-5-LENGTH-200-ENRICH-1/peak.bed\"\n",
      "[1] \"sample 10 points for Group1\"\n",
      "[1] \"start figure plotting for tx ...\"\n",
      "[1] \"start figure plotting for mrna ...\"\n",
      "[1] \"start figure plotting for ncrna ...\"\n"
     ]
    }
   ],
   "source": [
    "%%R \n",
    "GuitarPlot(txTxdb = txdb,stBedFiles = list(\"exomepeak/WINDOW-50-STEP-5-LENGTH-200-ENRICH-1/peak.bed\"),miscOutFilePrefix = \"Guitar\")"
   ]
  },
  {
   "cell_type": "code",
   "execution_count": 28,
   "metadata": {},
   "outputs": [
    {
     "name": "stdout",
     "output_type": "stream",
     "text": [
      "‘Guitar_mrna_test.pdf’ -> ‘plots/DAC_Guitar_mrna_test.pdf’\n",
      "‘Guitar_ncrna_test.pdf’ -> ‘plots/DAC_Guitar_ncrna_test.pdf’\n",
      "‘Guitar_tx_test.pdf’ -> ‘plots/DAC_Guitar_tx_test.pdf’\n"
     ]
    }
   ],
   "source": [
    "%%bash \n",
    "for f in Guitar_*; do \n",
    "mv -v $f plots/DAC_$f;\n",
    "done"
   ]
  },
  {
   "cell_type": "markdown",
   "metadata": {},
   "source": [
    "## 3. `RGAC` & `DRACH` motif analysis "
   ]
  },
  {
   "cell_type": "code",
   "execution_count": 18,
   "metadata": {},
   "outputs": [
    {
     "name": "stdout",
     "output_type": "stream",
     "text": [
      "MAIN=$1\n",
      "MOTIF=/rumi/shams/abe/GitHub/imRIP/motifs.txt\n",
      "\n",
      "cd ${MAIN}\n",
      "for sam in *; do\n",
      "\tcd $sam\n",
      "\techo \"__________________________________________________________________________________________\"\n",
      "\techo $sam\n",
      "\techo \"step 1: extract mRNA sequences\"\n",
      "\tcat peak.bed | sort -k1,1 -k2,2n peak.bed | cgat bed2bed --method=merge --merge-by-name |  awk '! /#/' | bedtools getfasta -name -s -fi /rumi/shams/genomes/hg38/hg38.fa -bed - -split -fo peak.fa\n",
      "\techo \"--- DONE! ---\"\n",
      "\n",
      "\techo \"step 2: prepare inputs for FIRE\"\n",
      "\t# perl $TEISERDIR/prep_seqs_for_teiser_run.pl peak.fa peaks\n",
      "\t/rumi/shams/abe/anaconda3/envs/cgat/bin/python $TEISERDIR/prep_fasta_for_fire_run.py peak.fa\n",
      "\techo \"--- DONE! ---\"\n",
      "\n",
      "\techo \"step 3: run FIRE for known m6A motifs (non-discovery mode)\"\n",
      "\tperl $FIREDIR/fire.pl --expfile=peak_fire.txt --exptype=discrete --fastafile_rna=peak_fire.fa \\\n",
      "\t--nodups=1 --dodna=0 --dodnarna=0 --species=human --doskipdiscovery=1 \\\n",
      "\t--motiffile_rna=$MOTIF --oribiasonly=0 > non-discovery_FIRE.log\n",
      "\trm -rv non-discovery_FIRE \n",
      "\tmv -v peak_fire.txt_FIRE/ non-discovery_FIRE \n",
      "\techo \"--- DONE! ---\"\n",
      "\n",
      "\techo \"step 4: run FIRE discovery mode\"\n",
      "\tperl $FIREDIR/fire.pl --expfile=peak_fire.txt --exptype=discrete --fastafile_rna=peak_fire.fa \\\n",
      "\t--nodups=1 --dodna=0 --dodnarna=0 --species=human --oribiasonly=0 > discovery_FIRE.log \n",
      "\trm -rv discovery_FIRE \n",
      "\tmv -v peak_fire.txt_FIRE/ discovery_FIRE\n",
      "\techo \"--- DONE! ---\"\n",
      "\n",
      "\tcd ../\n",
      "done"
     ]
    }
   ],
   "source": [
    "cat /data_gilbert/home/aarab/Workflows/imRIP/scr/exomepeak-motif.sh"
   ]
  },
  {
   "cell_type": "code",
   "execution_count": null,
   "metadata": {},
   "outputs": [],
   "source": [
    "!bash /data_gilbert/home/aarab/Workflows/imRIP/scr/exomepeak-motif.sh exomepeak/WINDOW-50-STEP-5-LENGTH-200-ENRICH-1/"
   ]
  },
  {
   "cell_type": "markdown",
   "metadata": {},
   "source": [
    "Let's examine how exomepeak paramaters affect FIRE's results: "
   ]
  },
  {
   "cell_type": "code",
   "execution_count": null,
   "metadata": {},
   "outputs": [],
   "source": [
    "import pandas as pd\n",
    "from glob import glob"
   ]
  },
  {
   "cell_type": "code",
   "execution_count": null,
   "metadata": {},
   "outputs": [],
   "source": [
    "[\n",
    "    [\n",
    "        l.split('/')[1],\n",
    "        pd.read_csv(l,header=None,sep='\\t')\n",
    "    ]\n",
    "    for l in glob('exomepeak/*/non-discovery_FIRE/RNA/peak_fire.txt.signif.motifs.rep')\n",
    "]\n",
    " \n",
    "# pd.concat(, axis=0)"
   ]
  },
  {
   "cell_type": "markdown",
   "metadata": {},
   "source": [
    "`WINDOW-50-STEP-5-LENGTH-150-ENRICH-1` seem the best which shows the enrichment of `RGAC` motif. "
   ]
  },
  {
   "cell_type": "markdown",
   "metadata": {},
   "source": [
    "___"
   ]
  },
  {
   "cell_type": "markdown",
   "metadata": {},
   "source": [
    "### WINDOW-50-STEP-5-LENGTH-150-ENRICH-1\n"
   ]
  },
  {
   "cell_type": "code",
   "execution_count": null,
   "metadata": {},
   "outputs": [],
   "source": [
    "%%bash \n",
    "echo `pwd`\n",
    "cd exomepeak/WINDOW-50-STEP-5-LENGTH-150-ENRICH-1\n",
    "echo `pwd`\n",
    "# export FIREDIR=/flash/bin/FIRE-1.1\n",
    "# export LD_LIBRARY_PATH=/flash/bin/FIRE-1.1/modules/lib\n",
    "# date\n",
    "\n",
    "mv non-discovery_FIRE peak_fire.txt_FIRE\n",
    "\n",
    "echo \"RNA, Step 7: draw matrix figure.\"\n",
    "perl /flash/bin/FIRE-1.1/SCRIPTS/mi_draw_matrix.pl \\\n",
    "    --expfile=peak_fire.txt_FIRE/RNA/peak_fire.txt \\\n",
    "    --matfile=peak_fire.txt_FIRE/RNA/peak_fire.txt.matrix \\\n",
    "    --summaryfile=peak_fire.txt_FIRE/RNA/peak_fire.txt.summary \\\n",
    "    --columnsfile=peak_fire.txt_FIRE/RNA/peak_fire.txt.columns \\\n",
    "    --ps2pdf=1 --every=1 --quantized=1 --motifnames=peak_fire.txt_FIRE/RNA/peak_fire.txt.motifnames \\\n",
    "    --ybase=250 --colmap=/flash/bin/FIRE-1.1/SCRIPTS/HEATMAPS/cmap2.txt \\\n",
    "    --clustfile=peak_fire.txt_FIRE/RNA/peak_fire.txt.clusters  \\\n",
    "    --lp_t_draw=10 \\\n",
    "    --gofile=peak_fire.txt_FIRE/RNA/peak_fire.txt.GO \n",
    "\n",
    "mv peak_fire.txt_FIRE non-discovery_FIRE \n",
    "\n",
    "cd ../../\n",
    "\n",
    "echo `pwd`"
   ]
  },
  {
   "cell_type": "code",
   "execution_count": null,
   "metadata": {},
   "outputs": [],
   "source": [
    "!cp -v exomepeak/WINDOW-50-STEP-5-LENGTH-150-ENRICH-1/non-discovery_FIRE/RNA/peak_fire.txt.summary.pdf plots/FIRE-known-motifs.pdf\n",
    "!bash ~/GitHub/Abe/my_scripts/pdf2png.sh plots/FIRE-known-motifs.pdf"
   ]
  },
  {
   "cell_type": "markdown",
   "metadata": {},
   "source": [
    "# "
   ]
  },
  {
   "cell_type": "code",
   "execution_count": 29,
   "metadata": {},
   "outputs": [
    {
     "name": "stdout",
     "output_type": "stream",
     "text": [
      "name: /data_gilbert/home/aarab/anaconda3/envs/mamba/envs/exomepeak\n",
      "channels:\n",
      "  - numba\n",
      "  - anaconda\n",
      "  - r\n",
      "  - conda-forge\n",
      "  - bioconda\n",
      "dependencies:\n",
      "  - bioconductor-exomepeak\n",
      "  - bioconductor-genomicfeatures\n",
      "  - r-ggplot2\n",
      "  - r-tidyverse\n",
      "  - pip\n",
      "  - pandas\n",
      "  - numpy\n",
      "  - ipykernel\n",
      "  - r-irkernel\n",
      "  - bioconductor-guitar\n",
      "  - ca-certificates\n",
      "  - openssl\n",
      "prefix: /data_gilbert/home/aarab/anaconda3/envs/mamba/envs/exomepeak\n"
     ]
    }
   ],
   "source": [
    "!conda env export --from-history "
   ]
  },
  {
   "cell_type": "code",
   "execution_count": 30,
   "metadata": {},
   "outputs": [
    {
     "name": "stdout",
     "output_type": "stream",
     "text": [
      "R version 3.6.1 (2019-07-05)\n",
      "Platform: x86_64-conda_cos6-linux-gnu (64-bit)\n",
      "Running under: CentOS Linux 7 (Core)\n",
      "\n",
      "Matrix products: default\n",
      "BLAS/LAPACK: /data_gilbert/home/aarab/anaconda3/envs/mamba/envs/exomepeak/lib/R/lib/libRblas.so\n",
      "\n",
      "locale:\n",
      " [1] LC_CTYPE=en_US.UTF-8       LC_NUMERIC=C              \n",
      " [3] LC_TIME=en_US.UTF-8        LC_COLLATE=en_US.UTF-8    \n",
      " [5] LC_MONETARY=en_US.UTF-8    LC_MESSAGES=en_US.UTF-8   \n",
      " [7] LC_PAPER=en_US.UTF-8       LC_NAME=C                 \n",
      " [9] LC_ADDRESS=C               LC_TELEPHONE=C            \n",
      "[11] LC_MEASUREMENT=en_US.UTF-8 LC_IDENTIFICATION=C       \n",
      "\n",
      "attached base packages:\n",
      " [1] stats4    parallel  tools     stats     graphics  grDevices utils    \n",
      " [8] datasets  methods   base     \n",
      "\n",
      "other attached packages:\n",
      " [1] Guitar_2.0.0                dplyr_1.0.6                \n",
      " [3] knitr_1.33                  ggplot2_3.3.3              \n",
      " [5] magrittr_2.0.1              exomePeak_2.17.0           \n",
      " [7] GenomicAlignments_1.20.1    SummarizedExperiment_1.14.0\n",
      " [9] DelayedArray_0.10.0         BiocParallel_1.18.0        \n",
      "[11] matrixStats_0.58.0          rtracklayer_1.44.2         \n",
      "[13] Rsamtools_2.0.0             Biostrings_2.52.0          \n",
      "[15] XVector_0.24.0              GenomicFeatures_1.36.4     \n",
      "[17] AnnotationDbi_1.46.0        Biobase_2.44.0             \n",
      "[19] GenomicRanges_1.36.0        GenomeInfoDb_1.20.0        \n",
      "[21] IRanges_2.18.2              S4Vectors_0.22.0           \n",
      "[23] BiocGenerics_0.30.0        \n",
      "\n",
      "loaded via a namespace (and not attached):\n",
      " [1] Rcpp_1.0.6             lattice_0.20-44        prettyunits_1.1.1     \n",
      " [4] digest_0.6.27          assertthat_0.2.1       utf8_1.2.1            \n",
      " [7] R6_2.5.0               RSQLite_2.2.5          httr_1.4.2            \n",
      "[10] pillar_1.6.1           zlibbioc_1.30.0        rlang_0.4.11          \n",
      "[13] progress_1.2.2         blob_1.2.1             Matrix_1.3-3          \n",
      "[16] labeling_0.4.2         stringr_1.4.0          RCurl_1.98-1.3        \n",
      "[19] bit_4.0.4              biomaRt_2.40.3         munsell_0.5.0         \n",
      "[22] xfun_0.23              compiler_3.6.1         pkgconfig_2.0.3       \n",
      "[25] tidyselect_1.1.1       tibble_3.1.2           GenomeInfoDbData_1.2.2\n",
      "[28] XML_3.99-0.3           fansi_0.4.2            withr_2.4.2           \n",
      "[31] crayon_1.4.1           bitops_1.0-7           grid_3.6.1            \n",
      "[34] gtable_0.3.0           lifecycle_1.0.0        DBI_1.1.1             \n",
      "[37] scales_1.1.1           stringi_1.4.3          cachem_1.0.5          \n",
      "[40] farver_2.1.0           ellipsis_0.3.2         vctrs_0.3.8           \n",
      "[43] generics_0.1.0         bit64_4.0.5            glue_1.4.2            \n",
      "[46] purrr_0.3.4            hms_1.1.0              fastmap_1.1.0         \n",
      "[49] colorspace_2.0-1       memoise_2.0.0         \n"
     ]
    }
   ],
   "source": [
    "%%R \n",
    "sessionInfo()"
   ]
  },
  {
   "cell_type": "code",
   "execution_count": 31,
   "metadata": {},
   "outputs": [
    {
     "name": "stdout",
     "output_type": "stream",
     "text": [
      "Wed Mar  1 11:46:27 PST 2023\n"
     ]
    }
   ],
   "source": [
    "!date"
   ]
  }
 ],
 "metadata": {
  "kernelspec": {
   "display_name": "Python [conda env:mamba-exomepeak]",
   "language": "python",
   "name": "conda-env-mamba-exomepeak-py"
  },
  "language_info": {
   "codemirror_mode": {
    "name": "ipython",
    "version": 3
   },
   "file_extension": ".py",
   "mimetype": "text/x-python",
   "name": "python",
   "nbconvert_exporter": "python",
   "pygments_lexer": "ipython3",
   "version": "3.11.0"
  }
 },
 "nbformat": 4,
 "nbformat_minor": 4
}
