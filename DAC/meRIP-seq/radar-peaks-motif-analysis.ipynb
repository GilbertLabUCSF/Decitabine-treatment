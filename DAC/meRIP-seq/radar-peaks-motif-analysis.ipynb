{
 "cells": [
  {
   "cell_type": "markdown",
   "metadata": {},
   "source": [
    "motivation: \n",
    "- __YTHDC1__ is known to physically interact with __SETDB1__. They both show up as sensetizing hits in Alex's DAC CRISPRi screen. \n",
    "\n",
    "aim:\n",
    "- Thus, I'm doing non-discovery mode motif analysis of "
   ]
  },
  {
   "cell_type": "markdown",
   "metadata": {},
   "source": [
    "### [Flexible Binding of m6A Reader Protein YTHDC1 to Its Preferred RNA Motif](https://pubs.acs.org/doi/10.1021/acs.jctc.9b00987)\n",
    "\n",
    "    YTHDC1 -> 5′-G–2G–1(m6A)C+1U+2-3′"
   ]
  },
  {
   "cell_type": "markdown",
   "metadata": {},
   "source": [
    "### [RNA methylation preserves ES cell identity by chromatin silencing of retrotransposons](https://www.nature.com/articles/s41392-021-00683-4)\n",
    "> Coimmunoprecipitation revealed physical interactions between YTHDC1 and SETDB1, suggesting that m6A-binding YTHDC1 recruits SETDB1 to methylate H3K9 at specific retrotransposons ([Fig. 1](https://www.nature.com/articles/s41392-021-00683-4/figures/1)).\n",
    "\n",
    "> Working model for the mechanism underlying m6A and YTHDC1-mediated maintenance of embryonic stem cell identity through chromatin silencing. Methylation of retrotransposon RNA recruits m6A reader YTHDC1 and H3K9me3 methyltransferase SETDB1 to promote retrotransposon chromatin silencing, which represses two-cell-like state transition, leading to embryonic stem cell identity maintenance\n",
    "\n",
    "\n",
    "<img src=\"https://media.springernature.com/full/springer-static/image/art%3A10.1038%2Fs41392-021-00683-4/MediaObjects/41392_2021_683_Fig1_HTML.png\" width=500 />"
   ]
  },
  {
   "cell_type": "code",
   "execution_count": 4,
   "metadata": {},
   "outputs": [],
   "source": [
    "from IPython.display import IFrame"
   ]
  },
  {
   "cell_type": "markdown",
   "metadata": {
    "jp-MarkdownHeadingCollapsed": true,
    "tags": []
   },
   "source": [
    "### imRIP pipeline"
   ]
  },
  {
   "cell_type": "code",
   "execution_count": 20,
   "metadata": {},
   "outputs": [
    {
     "name": "stdout",
     "output_type": "stream",
     "text": [
      "[AG]GAC\n",
      "[AGT][AG]AC[ACT]\n"
     ]
    }
   ],
   "source": [
    "!cat ~/Workflows/imRIP/motifs.txt"
   ]
  },
  {
   "cell_type": "code",
   "execution_count": 21,
   "metadata": {},
   "outputs": [
    {
     "name": "stdout",
     "output_type": "stream",
     "text": [
      "MAIN=$1\n",
      "MOTIF=/rumi/shams/abe/GitHub/imRIP/motifs.txt\n",
      "\n",
      "cd ${MAIN}\n",
      "for sam in *; do\n",
      "\tcd $sam\n",
      "\techo \"__________________________________________________________________________________________\"\n",
      "\techo $sam\n",
      "\techo \"step 1: extract mRNA sequences\"\n",
      "\tcat peak.bed | sort -k1,1 -k2,2n peak.bed | cgat bed2bed --method=merge --merge-by-name |  awk '! /#/' | bedtools getfasta -name -s -fi /rumi/shams/genomes/hg38/hg38.fa -bed - -split -fo peak.fa\n",
      "\techo \"--- DONE! ---\"\n",
      "\n",
      "\techo \"step 2: prepare inputs for FIRE\"\n",
      "\t# perl $TEISERDIR/prep_seqs_for_teiser_run.pl peak.fa peaks\n",
      "\t/rumi/shams/abe/anaconda3/envs/cgat/bin/python $TEISERDIR/prep_fasta_for_fire_run.py peak.fa\n",
      "\techo \"--- DONE! ---\"\n",
      "\n",
      "\techo \"step 3: run FIRE for known m6A motifs (non-discovery mode)\"\n",
      "\tperl $FIREDIR/fire.pl --expfile=peak_fire.txt --exptype=discrete --fastafile_rna=peak_fire.fa \\\n",
      "\t--nodups=1 --dodna=0 --dodnarna=0 --species=human --doskipdiscovery=1 \\\n",
      "\t--motiffile_rna=$MOTIF --oribiasonly=0 > non-discovery_FIRE.log\n",
      "\trm -rv non-discovery_FIRE \n",
      "\tmv -v peak_fire.txt_FIRE/ non-discovery_FIRE \n",
      "\techo \"--- DONE! ---\"\n",
      "\n",
      "\techo \"step 4: run FIRE discovery mode\"\n",
      "\tperl $FIREDIR/fire.pl --expfile=peak_fire.txt --exptype=discrete --fastafile_rna=peak_fire.fa \\\n",
      "\t--nodups=1 --dodna=0 --dodnarna=0 --species=human --oribiasonly=0 > discovery_FIRE.log \n",
      "\trm -rv discovery_FIRE \n",
      "\tmv -v peak_fire.txt_FIRE/ discovery_FIRE\n",
      "\techo \"--- DONE! ---\"\n",
      "\n",
      "\tcd ../\n",
      "done"
     ]
    }
   ],
   "source": [
    "!cat ~/Workflows/imRIP/scr/exomepeak-motif.sh"
   ]
  },
  {
   "cell_type": "markdown",
   "metadata": {},
   "source": [
    "___\n",
    "I only need \"step3\" here, I already made the `.fasta` file for radar peaks – i.e. decitabine induced differentially m6A methylated peaks :)"
   ]
  },
  {
   "cell_type": "code",
   "execution_count": 81,
   "metadata": {},
   "outputs": [
    {
     "name": "stdout",
     "output_type": "stream",
     "text": [
      "GGACT\n",
      "[AG][AG]AC[ACT]"
     ]
    }
   ],
   "source": [
    "cat radar/YTH_motifs.txt"
   ]
  },
  {
   "cell_type": "code",
   "execution_count": 83,
   "metadata": {
    "tags": []
   },
   "outputs": [
    {
     "name": "stdout",
     "output_type": "stream",
     "text": [
      "step 3: run FIRE for known m6A motifs (non-discovery mode)\n",
      "removed ‘YTHDC1motifs_FIRE/cmdline.txt’\n",
      "removed directory: ‘YTHDC1motifs_FIRE/DNA’\n",
      "removed ‘YTHDC1motifs_FIRE/RNA/result.all_fire.txt’\n",
      "removed directory: ‘YTHDC1motifs_FIRE/RNA/result.all_fire.txt.mimatrix_OUT’\n",
      "removed ‘YTHDC1motifs_FIRE/RNA/result.all_fire.txt.script’\n",
      "removed ‘YTHDC1motifs_FIRE/RNA/result.all_fire.txt.optim’\n",
      "removed directory: ‘YTHDC1motifs_FIRE/RNA’\n",
      "removed directory: ‘YTHDC1motifs_FIRE/DNA_RNA’\n",
      "removed directory: ‘YTHDC1motifs_FIRE’\n",
      "‘result.all_fire.txt_FIRE/’ -> ‘YTHDC1motifs_FIRE’\n",
      "--- DONE! ---\n"
     ]
    }
   ],
   "source": [
    "%%bash\n",
    "export FIREDIR=/data_gilbert/home/aarab/Workflows/FIRE-1.1\n",
    "PEAKS_exp=result.all_fire.txt\n",
    "PEAKS_fa=result.all_fire.fa\n",
    "\n",
    "MOTIF=\"YTH_motifs.txt\"\n",
    "\n",
    "echo \"step 3: run FIRE for known m6A motifs (non-discovery mode)\"\n",
    "\n",
    "cd radar\n",
    "perl $FIREDIR/fire.pl \\\n",
    "    --expfile=$PEAKS_exp --exptype=discrete \\\n",
    "    --fastafile_rna=$PEAKS_fa \\\n",
    "    --nodups=1 --dodna=0 --dodnarna=0 --species=human --doskipdiscovery=1 \\\n",
    "    --motiffile_rna=$MOTIF \\\n",
    "    --oribiasonly=0 &> /dev/null\n",
    "#> non-discovery_FIRE.log\n",
    "\n",
    "rm -rv YTHDC1motifs_FIRE\n",
    "mv -v ${PEAKS_exp}_FIRE/ YTHDC1motifs_FIRE \n",
    "\n",
    "cd ../\n",
    "echo \"--- DONE! ---\"\n"
   ]
  },
  {
   "cell_type": "code",
   "execution_count": 87,
   "metadata": {},
   "outputs": [
    {
     "data": {
      "text/html": [
       "\n",
       "        <iframe\n",
       "            width=\"1200\"\n",
       "            height=\"500\"\n",
       "            src=\"radar/YTHDC1motifs_FIRE/RNA/result.all_fire.txt.summary.pdf\"\n",
       "            frameborder=\"0\"\n",
       "            allowfullscreen\n",
       "        ></iframe>\n",
       "        "
      ],
      "text/plain": [
       "<IPython.lib.display.IFrame at 0x7f1c28c12518>"
      ]
     },
     "execution_count": 87,
     "metadata": {},
     "output_type": "execute_result"
    }
   ],
   "source": [
    "IFrame(\"radar/YTHDC1motifs_FIRE/RNA/result.all_fire.txt.summary.pdf\", width=1200, height=500)"
   ]
  },
  {
   "cell_type": "code",
   "execution_count": null,
   "metadata": {
    "tags": []
   },
   "outputs": [],
   "source": [
    "%%bash\n",
    "export FIREDIR=/data_gilbert/home/aarab/Workflows/FIRE-1.1\n",
    "PEAKS_exp=result.all_fire.txt\n",
    "PEAKS_fa=result.all_fire.fa\n",
    "\n",
    "echo \"step 4: run FIRE discovery mode\"\n",
    "\n",
    "cd radar\n",
    "perl $FIREDIR/fire.pl \\\n",
    "    --expfile=$PEAKS_exp --exptype=discrete --fastafile_rna=$PEAKS_fa \\\n",
    "    --nodups=1 --dodna=0 --dodnarna=0 --species=human --oribiasonly=0\n",
    "\n",
    "rm -rv discovery_FIRE \n",
    "mv -v ${PEAKS_exp}_FIRE/ discovery_FIRE\n",
    "\n",
    "cd ../\n",
    "echo \"--- DONE! ---\""
   ]
  },
  {
   "cell_type": "code",
   "execution_count": null,
   "metadata": {},
   "outputs": [],
   "source": [
    "IFrame(\"radar/result.all_fire.txt_FIRE/RNA/result.all_fire.txt\", width=1200, height=500)"
   ]
  },
  {
   "cell_type": "code",
   "execution_count": null,
   "metadata": {},
   "outputs": [],
   "source": []
  },
  {
   "cell_type": "markdown",
   "metadata": {},
   "source": [
    "# "
   ]
  },
  {
   "cell_type": "code",
   "execution_count": 12,
   "metadata": {},
   "outputs": [],
   "source": [
    "!echo \"TACAGAGAA\" > radar/MAT2A_hairpin_motif.txt"
   ]
  },
  {
   "cell_type": "code",
   "execution_count": 14,
   "metadata": {
    "tags": []
   },
   "outputs": [
    {
     "name": "stdout",
     "output_type": "stream",
     "text": [
      "step 3: run FIRE for known m6A motifs (non-discovery mode)\n",
      "‘result.all_fire.txt_FIRE/’ -> ‘MAT2A_hairpin_motif_FIRE’\n",
      "--- DONE! ---\n"
     ]
    }
   ],
   "source": [
    "%%bash\n",
    "export FIREDIR=/data_gilbert/home/aarab/Workflows/FIRE-1.1\n",
    "PEAKS_exp=result.all_fire.txt\n",
    "PEAKS_fa=result.all_fire.fa\n",
    "\n",
    "MOTIF=\"MAT2A_hairpin_motif.txt\"\n",
    "\n",
    "echo \"step 3: run FIRE for known m6A motifs (non-discovery mode)\"\n",
    "\n",
    "cd radar\n",
    "perl $FIREDIR/fire.pl \\\n",
    "    --expfile=$PEAKS_exp --exptype=discrete \\\n",
    "    --fastafile_rna=$PEAKS_fa \\\n",
    "    --nodups=1 --dodna=0 --dodnarna=0 --species=human --doskipdiscovery=1 \\\n",
    "    --motiffile_rna=$MOTIF \\\n",
    "    --oribiasonly=0 &> /dev/null\n",
    "#> non-discovery_FIRE.log\n",
    "\n",
    "rm -r MAT2A_hairpin_motif_FIRE\n",
    "mv -v ${PEAKS_exp}_FIRE/ MAT2A_hairpin_motif_FIRE \n",
    "\n",
    "cd ../\n",
    "echo \"--- DONE! ---\"\n"
   ]
  },
  {
   "cell_type": "code",
   "execution_count": 16,
   "metadata": {},
   "outputs": [
    {
     "data": {
      "text/html": [
       "\n",
       "        <iframe\n",
       "            width=\"1200\"\n",
       "            height=\"500\"\n",
       "            src=\"radar/MAT2A_hairpin_motif_FIRE/RNA/result.all_fire.txt.summary.pdf\"\n",
       "            frameborder=\"0\"\n",
       "            allowfullscreen\n",
       "        ></iframe>\n",
       "        "
      ],
      "text/plain": [
       "<IPython.lib.display.IFrame at 0x7ff307e7c1d0>"
      ]
     },
     "execution_count": 16,
     "metadata": {},
     "output_type": "execute_result"
    }
   ],
   "source": [
    "IFrame(\n",
    "    \"radar/MAT2A_hairpin_motif_FIRE/RNA/result.all_fire.txt.summary.pdf\", \n",
    "    width=1200, height=500\n",
    ")"
   ]
  },
  {
   "cell_type": "code",
   "execution_count": null,
   "metadata": {},
   "outputs": [],
   "source": []
  },
  {
   "cell_type": "code",
   "execution_count": null,
   "metadata": {},
   "outputs": [],
   "source": []
  },
  {
   "cell_type": "code",
   "execution_count": null,
   "metadata": {},
   "outputs": [],
   "source": []
  },
  {
   "cell_type": "code",
   "execution_count": null,
   "metadata": {},
   "outputs": [],
   "source": []
  },
  {
   "cell_type": "code",
   "execution_count": 48,
   "metadata": {},
   "outputs": [
    {
     "name": "stdout",
     "output_type": "stream",
     "text": [
      "Mon Jan  3 18:48:39 PST 2022\n"
     ]
    }
   ],
   "source": [
    "!date"
   ]
  }
 ],
 "metadata": {
  "kernelspec": {
   "display_name": "Python [conda env:alignment]",
   "language": "python",
   "name": "conda-env-alignment-py"
  },
  "language_info": {
   "codemirror_mode": {
    "name": "ipython",
    "version": 3
   },
   "file_extension": ".py",
   "mimetype": "text/x-python",
   "name": "python",
   "nbconvert_exporter": "python",
   "pygments_lexer": "ipython3",
   "version": "3.6.10"
  }
 },
 "nbformat": 4,
 "nbformat_minor": 4
}
