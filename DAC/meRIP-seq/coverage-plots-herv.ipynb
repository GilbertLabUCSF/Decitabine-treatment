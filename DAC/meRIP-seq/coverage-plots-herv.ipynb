{
 "cells": [
  {
   "cell_type": "markdown",
   "id": "bb1a7d60-8a66-4386-9287-084b9c23be84",
   "metadata": {
    "tags": []
   },
   "source": [
    "## Plot HERVs Peak Coverage"
   ]
  },
  {
   "cell_type": "code",
   "execution_count": 4,
   "id": "9ec769a1-c0e8-4916-b5c0-31b1b249d636",
   "metadata": {
    "tags": []
   },
   "outputs": [],
   "source": [
    "# %%R \n",
    "suppressMessages(suppressWarnings(library (RADAR)))\n",
    "# suppressMessages(suppressWarnings(library (patchwork)))\n",
    "suppressMessages(suppressWarnings(library (tidyverse)))"
   ]
  },
  {
   "cell_type": "markdown",
   "id": "3e8e8477-3ddf-4d5f-b293-106a5179db25",
   "metadata": {
    "tags": []
   },
   "source": [
    "`radar` conda env"
   ]
  },
  {
   "cell_type": "code",
   "execution_count": null,
   "id": "511bf51a-cfc1-4baa-9ab2-f9703153db18",
   "metadata": {
    "tags": []
   },
   "outputs": [],
   "source": [
    "res = read.table('radar_herv/retroposon/result.sig.txt',header=TRUE)\n",
    "res %>% arrange(logFC)"
   ]
  },
  {
   "cell_type": "code",
   "execution_count": 83,
   "id": "ac0ba887-24e1-4c2f-9201-fa0e63d9cb78",
   "metadata": {
    "tags": []
   },
   "outputs": [],
   "source": [
    "# %%R\n",
    "radar0 <- readRDS('radar_herv/retroposon/finalObj.rds')"
   ]
  },
  {
   "cell_type": "code",
   "execution_count": 84,
   "id": "760b7609-0141-4900-8bd1-edf289231bcd",
   "metadata": {
    "tags": []
   },
   "outputs": [],
   "source": [
    "# %%R\n",
    "radar <- PrepCoveragePlot(\n",
    "    radar0\n",
    "    # ,gtf='../../scallop-genome/DAC_GRCh37_merged.gtf'\n",
    ")"
   ]
  },
  {
   "cell_type": "code",
   "execution_count": 85,
   "id": "bf95bedf-026e-4692-8ad1-726968fadbac",
   "metadata": {
    "tags": []
   },
   "outputs": [
    {
     "name": "stdout",
     "output_type": "stream",
     "text": [
      "MeRIP.RADAR dataset of 4 samples.\n",
      "Read count quantified in 50-bp consecutive bins on the transcript.\n",
      "The total read count for Input and IP samples are (Million reads):\n",
      "        U1   U2   T1   T2\n",
      "Input 0.08 0.10 0.09 0.09\n",
      "IP    0.06 0.06 0.07 0.07\n",
      "Input gene level read count available.\n",
      "There are 1 predictor variables/covariates. Can access by function variable(MeRIPdata). \n",
      "Differential methylation tested by PoissonGamma test (RADAR).\n",
      "Multiple test corrected by Benjamini & Hochberg.\n"
     ]
    }
   ],
   "source": [
    "# %%R \n",
    "summary(radar)"
   ]
  },
  {
   "cell_type": "markdown",
   "id": "b7467c6a-d1ee-421f-a5ef-14adc13c37ba",
   "metadata": {
    "tags": []
   },
   "source": [
    "### `1459712:Retroposon:SVA_D`"
   ]
  },
  {
   "cell_type": "code",
   "execution_count": 97,
   "id": "7998adb0-8489-47e9-9722-4c225650f4bb",
   "metadata": {
    "tags": []
   },
   "outputs": [
    {
     "data": {
      "text/plain": [
       "GRanges object with 1 range and 0 metadata columns:\n",
       "     seqnames            ranges strand\n",
       "        <Rle>         <IRanges>  <Rle>\n",
       "  18     chr3 14945540-14945589      -\n",
       "  -------\n",
       "  seqinfo: 17 sequences from an unspecified genome; no seqlengths"
      ]
     },
     "metadata": {},
     "output_type": "display_data"
    }
   ],
   "source": [
    "name_it = '2244425:Retroposon:SVA_A'\n",
    "makeGRangesFromDataFrame(res[res$name == name_it,])"
   ]
  },
  {
   "cell_type": "code",
   "execution_count": 110,
   "id": "a58796cb-c0d8-4d18-8359-65379ae637e5",
   "metadata": {
    "tags": []
   },
   "outputs": [],
   "source": [
    "ZoomIn_peak = c(14945540 - 120,14945589 - 50)\n",
    "geneName <- name_it\n",
    "chr <- \"chr3\"\n",
    "title <- name_it\n",
    "ymax <- 500\n",
    "\n",
    "gr = radar@GTF[seqnames(radar@GTF) == chr & radar@GTF$type == 'gene' & radar@GTF$gene_id == geneName]\n",
    "ZoomIn_gene = c(start (gr),end (gr))"
   ]
  },
  {
   "cell_type": "code",
   "execution_count": 111,
   "id": "5592d00e-756a-4669-95b5-620198981d00",
   "metadata": {
    "tags": []
   },
   "outputs": [
    {
     "data": {
      "text/plain": [
       "GRanges object with 0 ranges and 6 metadata columns:\n",
       "   seqnames    ranges strand |   source     type     score     phase\n",
       "      <Rle> <IRanges>  <Rle> | <factor> <factor> <numeric> <integer>\n",
       "       gene_id transcript_id\n",
       "   <character>   <character>\n",
       "  -------\n",
       "  seqinfo: 24 sequences from an unspecified genome; no seqlengths"
      ]
     },
     "metadata": {},
     "output_type": "display_data"
    }
   ],
   "source": [
    "gr"
   ]
  },
  {
   "cell_type": "code",
   "execution_count": 112,
   "id": "b8e14d93-b67e-4c0e-8940-83b167d434ae",
   "metadata": {
    "tags": []
   },
   "outputs": [],
   "source": [
    "p_peak <- plotGeneCov(\n",
    "    radar,geneName = geneName,\n",
    "    center = mean, libraryType = \"opposite\",\n",
    "    ZoomIn = c(\n",
    "        ZoomIn_peak[1],\n",
    "        ZoomIn_peak[2]\n",
    "    ), adjustExprLevel = F\n",
    "    , split = F\n",
    ") + theme_classic() +\n",
    "# theme_void() + \n",
    "theme(\n",
    "    # legend.position = \"none\",    \n",
    "    axis.text.x = element_text(angle = 30, vjust = 1,hjust=1)\n",
    ") + ggtitle(title)"
   ]
  },
  {
   "cell_type": "code",
   "execution_count": 113,
   "id": "7891d864-a4b9-4129-beaa-64cf709f0c71",
   "metadata": {
    "tags": []
   },
   "outputs": [
    {
     "data": {
      "image/png": "[encoded data removed]",
      "text/plain": [
       "plot without title"
      ]
     },
     "metadata": {
      "image/png": {
       "height": 420,
       "width": 420
      },
      "text/plain": {
       "height": 420,
       "width": 420
      }
     },
     "output_type": "display_data"
    }
   ],
   "source": [
    "p_peak"
   ]
  },
  {
   "cell_type": "code",
   "execution_count": 114,
   "id": "5c32ef90-7e6c-4094-8acc-f4e58e6a42d4",
   "metadata": {
    "tags": []
   },
   "outputs": [],
   "source": [
    "ggsave(\n",
    "    paste0('plots/coverage_',title,'.eps'),\n",
    "    p_peak,\n",
    "    width=10,height=5,dpi=600,device=cairo_ps\n",
    ")"
   ]
  },
  {
   "cell_type": "markdown",
   "id": "d6981445-6346-4bd2-bf57-c5c7b0693d0f",
   "metadata": {
    "tags": []
   },
   "source": [
    "### `1448721:SINE:AluJb`"
   ]
  },
  {
   "cell_type": "code",
   "execution_count": 65,
   "id": "732df27c-2335-4f2c-bc6e-98f6b45cfb5e",
   "metadata": {
    "tags": []
   },
   "outputs": [
    {
     "data": {
      "text/plain": [
       "GRanges object with 1 range and 0 metadata columns:\n",
       "     seqnames            ranges strand\n",
       "        <Rle>         <IRanges>  <Rle>\n",
       "  22    chr17 78108988-78109037      -\n",
       "  -------\n",
       "  seqinfo: 23 sequences from an unspecified genome; no seqlengths"
      ]
     },
     "metadata": {},
     "output_type": "display_data"
    }
   ],
   "source": [
    "name_it = '1448721:SINE:AluJb'\n",
    "makeGRangesFromDataFrame(res[res$name == name_it,])"
   ]
  },
  {
   "cell_type": "code",
   "execution_count": 75,
   "id": "cc041039-cbfb-4469-8943-9dc8893e4a66",
   "metadata": {
    "tags": []
   },
   "outputs": [],
   "source": [
    "ZoomIn_peak = c(78108988 - 40,78109037)\n",
    "geneName <- name_it\n",
    "chr <- \"chr17\"\n",
    "title <- name_it\n",
    "ymax <- 500\n",
    "\n",
    "gr = radar@GTF[seqnames(radar@GTF) == chr & radar@GTF$type == 'gene' & radar@GTF$gene_id == geneName]\n",
    "ZoomIn_gene = c(start (gr),end (gr))"
   ]
  },
  {
   "cell_type": "code",
   "execution_count": 76,
   "id": "8d08fe20-6770-41c1-bc23-7296a4367bdb",
   "metadata": {
    "tags": []
   },
   "outputs": [
    {
     "data": {
      "text/plain": [
       "GRanges object with 0 ranges and 6 metadata columns:\n",
       "   seqnames    ranges strand |   source     type     score     phase\n",
       "      <Rle> <IRanges>  <Rle> | <factor> <factor> <numeric> <integer>\n",
       "       gene_id transcript_id\n",
       "   <character>   <character>\n",
       "  -------\n",
       "  seqinfo: 24 sequences from an unspecified genome; no seqlengths"
      ]
     },
     "metadata": {},
     "output_type": "display_data"
    }
   ],
   "source": [
    "gr"
   ]
  },
  {
   "cell_type": "code",
   "execution_count": 77,
   "id": "1eb35bab-288b-4628-b3a8-2afd128bec9b",
   "metadata": {
    "tags": []
   },
   "outputs": [],
   "source": [
    "p_peak <- plotGeneCov(\n",
    "    radar,geneName = geneName,\n",
    "    center = mean, libraryType = \"opposite\",\n",
    "    ZoomIn = c(\n",
    "        ZoomIn_peak[1],\n",
    "        ZoomIn_peak[2]\n",
    "    ), adjustExprLevel = F\n",
    "    , split = F\n",
    ") + theme_classic() +\n",
    "# theme_void() + \n",
    "theme(\n",
    "    # legend.position = \"none\",    \n",
    "    axis.text.x = element_text(angle = 30, vjust = 1,hjust=1)\n",
    ") + ggtitle(title)"
   ]
  },
  {
   "cell_type": "code",
   "execution_count": 78,
   "id": "897e1554-ef04-4375-b5d8-e6977b850a00",
   "metadata": {
    "tags": []
   },
   "outputs": [
    {
     "data": {
      "image/png": "[encoded data removed]",
      "text/plain": [
       "plot without title"
      ]
     },
     "metadata": {
      "image/png": {
       "height": 420,
       "width": 420
      },
      "text/plain": {
       "height": 420,
       "width": 420
      }
     },
     "output_type": "display_data"
    }
   ],
   "source": [
    "p_peak"
   ]
  },
  {
   "cell_type": "code",
   "execution_count": 79,
   "id": "59ad73fb-5c9c-4fa4-84d6-86cf0e965c4f",
   "metadata": {
    "tags": []
   },
   "outputs": [],
   "source": [
    "ggsave(\n",
    "    paste0('plots/coverage_',title,'.eps'),\n",
    "    p_peak,\n",
    "    width=10,height=5,dpi=600,device=cairo_ps\n",
    ")"
   ]
  },
  {
   "cell_type": "markdown",
   "id": "c4b9ed67-f80e-4a18-8c0c-7abd68818ceb",
   "metadata": {
    "jp-MarkdownHeadingCollapsed": true,
    "tags": []
   },
   "source": [
    "### `1011737:LINE:L1P1_orf2`"
   ]
  },
  {
   "cell_type": "code",
   "execution_count": 25,
   "id": "ddb8f109-4336-4ed3-9862-5814d24d584b",
   "metadata": {
    "tags": []
   },
   "outputs": [
    {
     "data": {
      "text/plain": [
       "GRanges object with 1 range and 0 metadata columns:\n",
       "    seqnames              ranges strand\n",
       "       <Rle>           <IRanges>  <Rle>\n",
       "  4     chr1 155468145-155468194      -\n",
       "  -------\n",
       "  seqinfo: 24 sequences from an unspecified genome; no seqlengths"
      ]
     },
     "metadata": {},
     "output_type": "display_data"
    }
   ],
   "source": [
    "name_it = '103841:LINE:L1MD3_3end'\n",
    "makeGRangesFromDataFrame(res[res$name == name_it,])"
   ]
  },
  {
   "cell_type": "code",
   "execution_count": 31,
   "id": "f6ef8162-01ed-48ed-93c6-38cbf271c199",
   "metadata": {
    "tags": []
   },
   "outputs": [],
   "source": [
    "ZoomIn_peak = c(155468145-100,155468194)\n",
    "geneName <- name_it\n",
    "chr <- \"chr1\"\n",
    "title <- name_it\n",
    "ymax <- 500\n",
    "\n",
    "gr = radar@GTF[seqnames(radar@GTF) == chr & radar@GTF$type == 'gene' & radar@GTF$gene_id == geneName]\n",
    "ZoomIn_gene = c(start (gr),end (gr))"
   ]
  },
  {
   "cell_type": "code",
   "execution_count": 32,
   "id": "fb87ce8b-0f9f-4950-9056-3c5cd1f66734",
   "metadata": {
    "tags": []
   },
   "outputs": [
    {
     "data": {
      "text/plain": [
       "GRanges object with 0 ranges and 6 metadata columns:\n",
       "   seqnames    ranges strand |   source     type     score     phase\n",
       "      <Rle> <IRanges>  <Rle> | <factor> <factor> <numeric> <integer>\n",
       "       gene_id transcript_id\n",
       "   <character>   <character>\n",
       "  -------\n",
       "  seqinfo: 24 sequences from an unspecified genome; no seqlengths"
      ]
     },
     "metadata": {},
     "output_type": "display_data"
    }
   ],
   "source": [
    "gr"
   ]
  },
  {
   "cell_type": "code",
   "execution_count": 33,
   "id": "7528a8a4-acab-46bf-b5f5-f55906f7bcb1",
   "metadata": {
    "tags": []
   },
   "outputs": [],
   "source": [
    "p_peak <- plotGeneCov(\n",
    "    radar,geneName = geneName,\n",
    "    center = mean, libraryType = \"opposite\",\n",
    "    ZoomIn = c(\n",
    "        ZoomIn_peak[1],\n",
    "        ZoomIn_peak[2]\n",
    "    ), adjustExprLevel = F\n",
    "    , split = F\n",
    ") + theme_classic() +\n",
    "# theme_void() + \n",
    "theme(\n",
    "    # legend.position = \"none\",    \n",
    "    axis.text.x = element_text(angle = 30, vjust = 1,hjust=1)\n",
    ") + ggtitle(title)"
   ]
  },
  {
   "cell_type": "code",
   "execution_count": 45,
   "id": "33aeca8f-3638-4d3c-958f-1b4f568b28d2",
   "metadata": {
    "tags": []
   },
   "outputs": [
    {
     "data": {
      "image/png": "[encoded data removed]",
      "text/plain": [
       "plot without title"
      ]
     },
     "metadata": {
      "image/png": {
       "height": 420,
       "width": 420
      },
      "text/plain": {
       "height": 420,
       "width": 420
      }
     },
     "output_type": "display_data"
    }
   ],
   "source": [
    "p_peak"
   ]
  },
  {
   "cell_type": "code",
   "execution_count": 39,
   "id": "ac871d88-5ae6-4ced-9cd9-b190a3ba18f3",
   "metadata": {
    "tags": []
   },
   "outputs": [],
   "source": [
    "# p_gene <- plotGeneCov(\n",
    "#     radar,geneName = name_it,\n",
    "#     center = mean, \n",
    "#     libraryType = \"opposite\",\n",
    "#     ZoomIn = ZoomIn_gene, adjustExprLevel = T\n",
    "#     #, split = T\n",
    "# ) + theme_classic() + theme(\n",
    "#     axis.text.x = element_text(angle = 30, vjust = 1,hjust=1)\n",
    "# ) + geom_vline(\n",
    "#     xintercept = ZoomIn_peak[1], colour=\"lightgrey\", linetype = \"longdash\"\n",
    "# ) + geom_vline(\n",
    "#     xintercept = ZoomIn_peak[2] - 1000, colour=\"lightgrey\", linetype = \"longdash\"\n",
    "# ) + ylim(0,ymax) "
   ]
  },
  {
   "cell_type": "code",
   "execution_count": 40,
   "id": "e1b19cc9-9a6a-4f32-8a56-99ba36132bad",
   "metadata": {
    "tags": []
   },
   "outputs": [],
   "source": [
    "# %%R \n",
    "# p_peak / p_gene"
   ]
  },
  {
   "cell_type": "code",
   "execution_count": 41,
   "id": "1cc7501c-6069-4569-b830-d8f829d89ac9",
   "metadata": {
    "tags": []
   },
   "outputs": [],
   "source": [
    "# %%R \n",
    "# ggsave(paste0('plots/coverage_',title,'.eps'),p_peak / p_gene,width=10,height=5,dpi=600,device=cairo_ps)"
   ]
  },
  {
   "cell_type": "code",
   "execution_count": 46,
   "id": "481992cf-f850-4b8c-9ec7-65017c005450",
   "metadata": {
    "tags": []
   },
   "outputs": [],
   "source": [
    "ggsave(\n",
    "    paste0('plots/coverage_',title,'.eps'),\n",
    "    p_peak,\n",
    "    width=10,height=5,dpi=600,device=cairo_ps\n",
    ")"
   ]
  },
  {
   "cell_type": "markdown",
   "id": "5d32d702-04d3-419f-9b8b-e890b00e38ce",
   "metadata": {},
   "source": [
    "### "
   ]
  },
  {
   "cell_type": "code",
   "execution_count": 44,
   "id": "0611e4b5-e320-4760-9063-f869577d3e1f",
   "metadata": {},
   "outputs": [
    {
     "data": {
      "text/html": [
       "<span style=white-space:pre-wrap>'Mon Sep  4 22:56:28 2023'</span>"
      ],
      "text/latex": [
       "'Mon Sep  4 22:56:28 2023'"
      ],
      "text/markdown": [
       "<span style=white-space:pre-wrap>'Mon Sep  4 22:56:28 2023'</span>"
      ],
      "text/plain": [
       "[1] \"Mon Sep  4 22:56:28 2023\""
      ]
     },
     "metadata": {},
     "output_type": "display_data"
    }
   ],
   "source": [
    "date()\n"
   ]
  },
  {
   "cell_type": "markdown",
   "id": "391069ba-1856-4479-9c0e-4d5a109de862",
   "metadata": {
    "tags": []
   },
   "source": [
    "## Plot annotation track\n",
    "\n",
    "- https://www.biostars.org/p/184091"
   ]
  },
  {
   "cell_type": "markdown",
   "id": "e4aa923b-aade-4f8d-9be2-3d0cca37ffa8",
   "metadata": {},
   "source": [
    "`gviz` conda env"
   ]
  },
  {
   "cell_type": "code",
   "execution_count": null,
   "id": "6a5caa05-51e6-4bc5-925e-70e8844da7be",
   "metadata": {},
   "outputs": [],
   "source": [
    "suppressMessages(suppressWarnings(library (Gviz)))\n",
    "suppressMessages(suppressWarnings(library (GenomicRanges)))\n",
    "suppressMessages(suppressWarnings(library (GenomicFeatures)))\n",
    "suppressMessages(suppressWarnings(library (tidyverse)))"
   ]
  },
  {
   "cell_type": "code",
   "execution_count": null,
   "id": "78f5e2fa-8bfe-4f92-828a-d411b92ec454",
   "metadata": {},
   "outputs": [],
   "source": [
    "GTF ='../scallop-genome/DAC_GRCh37_merged.gtf'\n",
    "\n",
    "gtf  = rtracklayer::import(GTF)\n",
    "txdb = GenomicFeatures::makeTxDbFromGFF(GTF,organism='Homo sapiens')"
   ]
  },
  {
   "cell_type": "code",
   "execution_count": null,
   "id": "a03f0def-10ab-4b61-b080-5ff84f3bf190",
   "metadata": {
    "tags": []
   },
   "outputs": [],
   "source": [
    "plot_gene_tracks <- function(txdb, gene_id, title, ZoomIn_peak, gen='hg38',wide=0,save=NULL){\n",
    "    gn <- genes(txdb)[genes(txdb)$gene_id == gene_id]\n",
    "    \n",
    "    Start <- gn %>% start\n",
    "    End   <- gn %>% end\n",
    "\n",
    "    gr <- exonsBy(txdb, by = \"gene\")[c(gene_id)]\n",
    "    gr <- unlist(gr)\n",
    "\n",
    "    elementMetadata(gr)$transcript <- names(gr)\n",
    "\n",
    "    gtrack  <- GenomeAxisTrack()\n",
    "    itrack  <- IdeogramTrack(genome = gen, chromosome = seqnames(gn) %>% as.character, col=\"lightgrey\",fill=\"orangered\")\n",
    "    grtrack <- Gviz::GeneRegionTrack(\n",
    "        gr, \n",
    "        start = Start, end = End,\n",
    "        name=\"\",\n",
    "        background.panel = NA, \n",
    "        background.title = NA\n",
    "    )\n",
    "    \n",
    "    ht <- HighlightTrack(\n",
    "        trackList = list(gtrack,grtrack),\n",
    "        start = ZoomIn_peak[1] - wide, end = ZoomIn_peak[2] + wide,\n",
    "        chromosome = seqnames(gn) %>% as.character,\n",
    "        inBackground=FALSE,\n",
    "        col=\"lightgrey\",fill=\"lightgrey\" #\"orangered\"\n",
    "    )\n",
    "    l = list (ht, itrack)\n",
    "    s = c (3,1,1)\n",
    "    if (!is.null(save)){\n",
    "        pdf(save,width=10, height=2)\n",
    "        Gviz::plotTracks(l,from = Start, to = End, main = title, sizes=s)\n",
    "        dev.off()\n",
    "    } else {\n",
    "        Gviz::plotTracks(l,from = Start, to = End, main = title, sizes=s)\n",
    "    }\n",
    "}"
   ]
  },
  {
   "cell_type": "code",
   "execution_count": null,
   "id": "9f597969-1f6e-4aa9-8db4-ca3c4bcc6d79",
   "metadata": {},
   "outputs": [],
   "source": [
    "res[res$name == 'DAC.12-x1-0',]"
   ]
  },
  {
   "cell_type": "code",
   "execution_count": null,
   "id": "f4068302-bb40-42c2-8241-71867c984873",
   "metadata": {},
   "outputs": [],
   "source": [
    "p <- plot_gene_tracks(\n",
    "    txdb, \n",
    "    'DAC.12-x1-0',\n",
    "    'DAC.12-x1-0',\n",
    "    ZoomIn_peak = c(85724299,85724348)\n",
    "    ,wide = 300\n",
    "    # ,save = 'plots/tracks_BCL2.pdf'\n",
    ")\n",
    "\n",
    "# ZoomIn_peak = c()\n",
    "# geneName <- ''\n",
    "# chr <- \"chr1\"\n",
    "# title <- 'DAC.12-x1-0'\n"
   ]
  },
  {
   "cell_type": "code",
   "execution_count": null,
   "id": "4511bd78-b7c4-4bde-a647-05279c8971b1",
   "metadata": {},
   "outputs": [],
   "source": [
    "sessionInfo()"
   ]
  },
  {
   "cell_type": "markdown",
   "id": "feaa51d8-e9a0-4bc6-a1ce-8a0b961d577b",
   "metadata": {
    "tags": []
   },
   "source": [
    "## Extract Peak Sequence "
   ]
  },
  {
   "cell_type": "code",
   "execution_count": null,
   "id": "cc7580a9-f4d0-4c57-9f85-8678c3331c65",
   "metadata": {},
   "outputs": [],
   "source": [
    "import pandas as pd "
   ]
  },
  {
   "cell_type": "code",
   "execution_count": null,
   "id": "c9cbee2b-c54d-49d6-b3d3-4777b0cbb853",
   "metadata": {},
   "outputs": [],
   "source": [
    "def read_fasta(path):\n",
    "    file = open(path)\n",
    "    lines = file.read().splitlines()\n",
    "    ids = [s[1:] for s in lines if '>' in s]\n",
    "    n = [i for i,s in enumerate(lines) if '>' in s]\n",
    "    n.append(len(lines))\n",
    "    sequences = [''.join(lines[i+1:j]) for i,j in zip(n[:-1],n[1:])]\n",
    "    file.close()\n",
    "    fa = dict(zip(ids, sequences))\n",
    "    return fa"
   ]
  },
  {
   "cell_type": "code",
   "execution_count": null,
   "id": "3f8152a6-c99c-4ae0-aa2e-5681940d5b3a",
   "metadata": {},
   "outputs": [],
   "source": [
    "def remove_intron(bed, fa):\n",
    "    '''\n",
    "    Remove introns for genes in given bed12 file \n",
    "    with blockSizes greater than 1\n",
    "    '''\n",
    "    # fa = read_fasta(fa)\n",
    "    # bed = pd.read_table(bed, header=0)\n",
    "    tochange = bed[bed.blockCount > 1]\n",
    "    starts = [tochange.blockStarts[i].split(',')[:tochange.blockCount[i]] for i in tochange.index.tolist() ]\n",
    "    sizes = [tochange.blockSizes[i].split(',')[:tochange.blockCount[i]] for i in tochange.index.tolist() ]\n",
    "    for id, x, l in zip(tochange.name.tolist(), starts, sizes):\n",
    "        fa[id] = ''.join([fa[id][int(i):int(i)+int(j)] for i,j in zip(x,l)])\n",
    "    return fa\n"
   ]
  },
  {
   "cell_type": "code",
   "execution_count": null,
   "id": "24d8de98-e28b-4ba9-a034-747e2b421b70",
   "metadata": {},
   "outputs": [],
   "source": [
    "def search_fasta(fa1,fa2):\n",
    "    return dict(\n",
    "        [((x,fa1[x]),(y,fa2[y])) for x in fa1 for y in fa2 if fa1[x] in fa2[y] ]\n",
    "    )\n",
    "        "
   ]
  },
  {
   "cell_type": "code",
   "execution_count": null,
   "id": "21c4775b-89e6-40ba-b8f1-ceb610a6db5a",
   "metadata": {},
   "outputs": [],
   "source": [
    "!zcat ~/genomes/hg38/gencode.v34/GRCh38.primary_assembly.genome.fa.gz \\\n",
    "> ~/genomes/hg38/gencode.v34/GRCh38.primary_assembly.genome.fa"
   ]
  },
  {
   "cell_type": "code",
   "execution_count": null,
   "id": "d080de01-0308-4c78-bc36-677e698445b5",
   "metadata": {},
   "outputs": [],
   "source": [
    "!which samtools"
   ]
  },
  {
   "cell_type": "code",
   "execution_count": null,
   "id": "429bab41-da97-46c2-830a-eec5ae357840",
   "metadata": {},
   "outputs": [],
   "source": [
    "!samtools faidx ~/genomes/hg38/gencode.v34/GRCh38.primary_assembly.genome.fa"
   ]
  },
  {
   "cell_type": "code",
   "execution_count": null,
   "id": "b5f7dfdd-fae7-4e85-8b3f-17709b03e91c",
   "metadata": {},
   "outputs": [],
   "source": [
    "!which bedtools"
   ]
  },
  {
   "cell_type": "code",
   "execution_count": null,
   "id": "cfd72545-0024-4500-b782-052c365ad84b",
   "metadata": {},
   "outputs": [],
   "source": [
    "%%bash \n",
    "bedtools getfasta -name -s -fi \\\n",
    "~/genomes/hg38/gencode.v34/GRCh38.primary_assembly.genome.fa \\\n",
    "-bed target-genes-sig-peaks.bed -split -fo target-genes-sig-peaks.fa"
   ]
  },
  {
   "cell_type": "code",
   "execution_count": null,
   "id": "4f37f01b-0d0c-4781-b9a1-7b30c1dc6969",
   "metadata": {},
   "outputs": [],
   "source": [
    "!cat target-genes-sig-peaks.fa"
   ]
  },
  {
   "cell_type": "code",
   "execution_count": null,
   "id": "adf4cdf9-f1a4-4550-94bb-c84f6297abc2",
   "metadata": {},
   "outputs": [],
   "source": [
    "# target_fa = read_fasta('target-genes.fa')\n",
    "target_fa = read_fasta('target-genes-sig-peaks.fa')\n",
    "\n",
    "# target_fa = dict([(key.split('::')[0]+'_peak'+str(i),target_fa[key]) for i,key in enumerate(target_fa)])"
   ]
  },
  {
   "cell_type": "code",
   "execution_count": null,
   "id": "feb777fb-19a0-44ee-9b4f-5489ba5ffd05",
   "metadata": {},
   "outputs": [],
   "source": [
    "target_fa"
   ]
  },
  {
   "cell_type": "code",
   "execution_count": null,
   "id": "0312c66c-4f78-47e8-85d1-5ce59b948ae5",
   "metadata": {},
   "outputs": [],
   "source": [
    "genome_fa = read_fasta(\n",
    "    '/data_gilbert/home/aarab/genomes/hg38/gencode.v34/gencode.v34.transcripts.fa'\n",
    ")"
   ]
  },
  {
   "cell_type": "code",
   "execution_count": null,
   "id": "b21e79ca-fed0-476c-aed4-4002a1a9c1f0",
   "metadata": {},
   "outputs": [],
   "source": [
    "o = search_fasta(target_fa,genome_fa)"
   ]
  },
  {
   "cell_type": "code",
   "execution_count": null,
   "id": "3257ac06-4b9f-4dd3-9be5-c2e007c5ea18",
   "metadata": {},
   "outputs": [],
   "source": [
    "target_id2name = {\n",
    "    \"ENSG00000185085.2\":\"INTS5\",\n",
    "    \"ENSG00000132382.14\":\"MYBBP1A\",\n",
    "    \"ENSG00000104549.12\":\"SQLE\",\n",
    "    \"ENSG00000171791.13\":\"BCL2\"\n",
    "}"
   ]
  },
  {
   "cell_type": "code",
   "execution_count": null,
   "id": "8b2b9233-76a9-4267-a2f6-b9d53cab5d86",
   "metadata": {},
   "outputs": [],
   "source": [
    "transcripts = dict(list({(\n",
    "    # target_id2name[o[peak][0].split('|')[1]], o[peak][1]\n",
    "    o[peak][0], o[peak][1]\n",
    ") for peak in o.keys()}))"
   ]
  },
  {
   "cell_type": "code",
   "execution_count": null,
   "id": "2e1e8e3c-149c-43bc-b677-afdb3ad6e9a5",
   "metadata": {},
   "outputs": [],
   "source": [
    "{(k,transcripts[k]) for k in transcripts if 'BCL2' in k}"
   ]
  },
  {
   "cell_type": "code",
   "execution_count": null,
   "id": "2b713a04-dbf1-44ea-92f1-250370b80472",
   "metadata": {},
   "outputs": [],
   "source": [
    "bed = pd.read_table('target-genes-sig-peaks.bed', header=0)\n",
    "\n",
    "[\n",
    "    remove_intron(\n",
    "        bed[bed.iloc[:,1] == int(peak.split('::')[1].split(':')[1].split('-')[0])],\n",
    "        {peak.split('::')[0]: target_fa[peak]}\n",
    "    )\n",
    "    for peak in target_fa\n",
    "]"
   ]
  },
  {
   "cell_type": "code",
   "execution_count": null,
   "id": "a0a1605d-8def-4d13-a130-0cd5940fd183",
   "metadata": {},
   "outputs": [],
   "source": []
  }
 ],
 "metadata": {
  "kernelspec": {
   "display_name": "R [conda env:radar]",
   "language": "R",
   "name": "conda-env-radar-r"
  },
  "language_info": {
   "codemirror_mode": "r",
   "file_extension": ".r",
   "mimetype": "text/x-r-source",
   "name": "R",
   "pygments_lexer": "r",
   "version": "3.5.1"
  }
 },
 "nbformat": 4,
 "nbformat_minor": 5
}
