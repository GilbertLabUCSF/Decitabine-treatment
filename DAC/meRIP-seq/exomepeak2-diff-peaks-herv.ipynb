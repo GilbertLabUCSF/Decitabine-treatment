{
 "cells": [
  {
   "cell_type": "markdown",
   "metadata": {},
   "source": [
    "https://www.cell.com/molecular-cell/pdf/S1097-2765(22)00900-5.pdf"
   ]
  },
  {
   "cell_type": "markdown",
   "metadata": {
    "tags": []
   },
   "source": [
    "# Alignment task - Running `STAR`"
   ]
  },
  {
   "cell_type": "code",
   "execution_count": 9,
   "metadata": {
    "tags": []
   },
   "outputs": [
    {
     "name": "stdout",
     "output_type": "stream",
     "text": [
      "index=$1\n",
      "bamDIR=$2\n",
      "JOBS=$3\n",
      "\n",
      "mkdir -p ${bamDIR}\n",
      "mkdir -p ${bamDIR}_star_qc\n",
      "\n",
      "STAR --genomeLoad LoadAndExit --genomeDir $index\n",
      "\n",
      "for fq in fastq/*R1*; do\n",
      "    fq=`basename $fq`\n",
      "    out=${fq/_R1*/}\n",
      "    echo '------------' $out '-----------'\n",
      "    STAR \\\n",
      "    --outSAMtype BAM SortedByCoordinate \\\n",
      "    --readFilesCommand zcat \\\n",
      "    --runThreadN $JOBS \\\n",
      "    --genomeDir $index \\\n",
      "    --readFilesIn fastq/$fq \\\n",
      "    --outFileNamePrefix ${bamDIR}/$out\n",
      "    \n",
      "    mv -v ${bamDIR}/${out}Aligned.sortedByCoord.out.bam ${bamDIR}/${out}.bam\n",
      "    mv -v ${bamDIR}/${out}Log.final.out ${bamDIR}_star_qc/\n",
      "    rm -v ${bamDIR}/${out}*out*\n",
      "    rm -rv ${bamDIR}/${out}_STARtmp/\n",
      "    \n",
      "done\n",
      "\n",
      "STAR --genomeLoad Remove --genomeDir $index\n",
      "\n",
      "rm -r _STARtmp/ Log.out Log.progress.out Aligned.out.sam\n"
     ]
    }
   ],
   "source": [
    "cat star.sh"
   ]
  },
  {
   "cell_type": "code",
   "execution_count": 3,
   "metadata": {
    "tags": []
   },
   "outputs": [
    {
     "name": "stdout",
     "output_type": "stream",
     "text": [
      "erv\n",
      "line\n",
      "rc\n",
      "retroposon\n",
      "satellite\n",
      "scrna\n",
      "sine\n",
      "snrna\n",
      "trna\n"
     ]
    }
   ],
   "source": [
    "%%bash\n",
    "for STARindex in `ls -d ~/tools/HERVs/files/*_star_index/`; do\n",
    "    name=`basename $STARindex`; name=${name/package-entities-/}; name=${name/_star_index/};\n",
    "    echo $name\n",
    "    # nohup bash star.sh $STARindex align/bam_${name} 30 &> align/bam_${name}.out;\n",
    "    wait;\n",
    "done"
   ]
  },
  {
   "cell_type": "markdown",
   "metadata": {},
   "source": [
    "___"
   ]
  },
  {
   "cell_type": "markdown",
   "metadata": {},
   "source": [
    "To get only the mapped reads – https://www.biostars.org/p/56246/"
   ]
  },
  {
   "cell_type": "code",
   "execution_count": null,
   "metadata": {
    "tags": []
   },
   "outputs": [],
   "source": [
    "%%bash\n",
    "for STARindex in `ls -d ~/tools/HERVs/files/*_star_index/`; do\n",
    "    name=`basename $STARindex`; name=${name/package-entities-/}; name=${name/_star_index/};\n",
    "    echo $name\n",
    "    for bam in align/bam_${name}/*.bam; do\n",
    "        echo $bam\n",
    "        bam_mapped=${bam/.bam/.mapped.bam};\n",
    "        samtools view -b -F 4 $bam > $bam_mapped;\n",
    "    done\n",
    "done"
   ]
  },
  {
   "cell_type": "code",
   "execution_count": 17,
   "metadata": {
    "tags": []
   },
   "outputs": [
    {
     "name": "stdout",
     "output_type": "stream",
     "text": [
      "erv\n",
      "‘align/bam_erv/T1.input.mapped.bam’ -> ‘align/bam_erv/T1.input.bam’\n",
      "‘align/bam_erv/T1.m6A.mapped.bam’ -> ‘align/bam_erv/T1.m6A.bam’\n",
      "‘align/bam_erv/T2.input.mapped.bam’ -> ‘align/bam_erv/T2.input.bam’\n",
      "‘align/bam_erv/T2.m6A.mapped.bam’ -> ‘align/bam_erv/T2.m6A.bam’\n",
      "‘align/bam_erv/U1.input.mapped.bam’ -> ‘align/bam_erv/U1.input.bam’\n",
      "‘align/bam_erv/U1.input.mapped.mapped.bam’ -> ‘align/bam_erv/U1.input.mapped.bam’\n",
      "‘align/bam_erv/U1.m6A.mapped.bam’ -> ‘align/bam_erv/U1.m6A.bam’\n",
      "‘align/bam_erv/U2.input.mapped.bam’ -> ‘align/bam_erv/U2.input.bam’\n",
      "‘align/bam_erv/U2.m6A.mapped.bam’ -> ‘align/bam_erv/U2.m6A.bam’\n",
      "line\n",
      "‘align/bam_line/T1.input.mapped.bam’ -> ‘align/bam_line/T1.input.bam’\n",
      "‘align/bam_line/T1.m6A.mapped.bam’ -> ‘align/bam_line/T1.m6A.bam’\n",
      "‘align/bam_line/T2.input.mapped.bam’ -> ‘align/bam_line/T2.input.bam’\n",
      "‘align/bam_line/T2.m6A.mapped.bam’ -> ‘align/bam_line/T2.m6A.bam’\n",
      "‘align/bam_line/U1.input.mapped.bam’ -> ‘align/bam_line/U1.input.bam’\n",
      "‘align/bam_line/U1.m6A.mapped.bam’ -> ‘align/bam_line/U1.m6A.bam’\n",
      "‘align/bam_line/U2.input.mapped.bam’ -> ‘align/bam_line/U2.input.bam’\n",
      "‘align/bam_line/U2.m6A.mapped.bam’ -> ‘align/bam_line/U2.m6A.bam’\n",
      "rc\n",
      "‘align/bam_rc/T1.input.mapped.bam’ -> ‘align/bam_rc/T1.input.bam’\n",
      "‘align/bam_rc/T1.m6A.mapped.bam’ -> ‘align/bam_rc/T1.m6A.bam’\n",
      "‘align/bam_rc/T2.input.mapped.bam’ -> ‘align/bam_rc/T2.input.bam’\n",
      "‘align/bam_rc/T2.m6A.mapped.bam’ -> ‘align/bam_rc/T2.m6A.bam’\n",
      "‘align/bam_rc/U1.input.mapped.bam’ -> ‘align/bam_rc/U1.input.bam’\n",
      "‘align/bam_rc/U1.m6A.mapped.bam’ -> ‘align/bam_rc/U1.m6A.bam’\n",
      "‘align/bam_rc/U2.input.mapped.bam’ -> ‘align/bam_rc/U2.input.bam’\n",
      "‘align/bam_rc/U2.m6A.mapped.bam’ -> ‘align/bam_rc/U2.m6A.bam’\n",
      "retroposon\n",
      "‘align/bam_retroposon/T1.input.mapped.bam’ -> ‘align/bam_retroposon/T1.input.bam’\n",
      "‘align/bam_retroposon/T1.m6A.mapped.bam’ -> ‘align/bam_retroposon/T1.m6A.bam’\n",
      "‘align/bam_retroposon/T2.input.mapped.bam’ -> ‘align/bam_retroposon/T2.input.bam’\n",
      "‘align/bam_retroposon/T2.m6A.mapped.bam’ -> ‘align/bam_retroposon/T2.m6A.bam’\n",
      "‘align/bam_retroposon/U1.input.mapped.bam’ -> ‘align/bam_retroposon/U1.input.bam’\n",
      "‘align/bam_retroposon/U1.m6A.mapped.bam’ -> ‘align/bam_retroposon/U1.m6A.bam’\n",
      "‘align/bam_retroposon/U2.input.mapped.bam’ -> ‘align/bam_retroposon/U2.input.bam’\n",
      "‘align/bam_retroposon/U2.m6A.mapped.bam’ -> ‘align/bam_retroposon/U2.m6A.bam’\n",
      "satellite\n",
      "‘align/bam_satellite/T1.input.mapped.bam’ -> ‘align/bam_satellite/T1.input.bam’\n",
      "‘align/bam_satellite/T1.m6A.mapped.bam’ -> ‘align/bam_satellite/T1.m6A.bam’\n",
      "‘align/bam_satellite/T2.input.mapped.bam’ -> ‘align/bam_satellite/T2.input.bam’\n",
      "‘align/bam_satellite/T2.m6A.mapped.bam’ -> ‘align/bam_satellite/T2.m6A.bam’\n",
      "‘align/bam_satellite/U1.input.mapped.bam’ -> ‘align/bam_satellite/U1.input.bam’\n",
      "‘align/bam_satellite/U1.m6A.mapped.bam’ -> ‘align/bam_satellite/U1.m6A.bam’\n",
      "‘align/bam_satellite/U2.input.mapped.bam’ -> ‘align/bam_satellite/U2.input.bam’\n",
      "‘align/bam_satellite/U2.m6A.mapped.bam’ -> ‘align/bam_satellite/U2.m6A.bam’\n",
      "scrna\n",
      "‘align/bam_scrna/T1.input.mapped.bam’ -> ‘align/bam_scrna/T1.input.bam’\n",
      "‘align/bam_scrna/T1.m6A.mapped.bam’ -> ‘align/bam_scrna/T1.m6A.bam’\n",
      "‘align/bam_scrna/T2.input.mapped.bam’ -> ‘align/bam_scrna/T2.input.bam’\n",
      "‘align/bam_scrna/T2.m6A.mapped.bam’ -> ‘align/bam_scrna/T2.m6A.bam’\n",
      "‘align/bam_scrna/U1.input.mapped.bam’ -> ‘align/bam_scrna/U1.input.bam’\n",
      "‘align/bam_scrna/U1.m6A.mapped.bam’ -> ‘align/bam_scrna/U1.m6A.bam’\n",
      "‘align/bam_scrna/U2.input.mapped.bam’ -> ‘align/bam_scrna/U2.input.bam’\n",
      "‘align/bam_scrna/U2.m6A.mapped.bam’ -> ‘align/bam_scrna/U2.m6A.bam’\n",
      "sine\n",
      "‘align/bam_sine/T1.input.mapped.bam’ -> ‘align/bam_sine/T1.input.bam’\n",
      "‘align/bam_sine/T1.m6A.mapped.bam’ -> ‘align/bam_sine/T1.m6A.bam’\n",
      "‘align/bam_sine/T2.input.mapped.bam’ -> ‘align/bam_sine/T2.input.bam’\n",
      "‘align/bam_sine/T2.m6A.mapped.bam’ -> ‘align/bam_sine/T2.m6A.bam’\n",
      "‘align/bam_sine/U1.input.mapped.bam’ -> ‘align/bam_sine/U1.input.bam’\n",
      "‘align/bam_sine/U1.m6A.mapped.bam’ -> ‘align/bam_sine/U1.m6A.bam’\n",
      "‘align/bam_sine/U2.input.mapped.bam’ -> ‘align/bam_sine/U2.input.bam’\n",
      "‘align/bam_sine/U2.m6A.mapped.bam’ -> ‘align/bam_sine/U2.m6A.bam’\n",
      "snrna\n",
      "‘align/bam_snrna/T1.input.mapped.bam’ -> ‘align/bam_snrna/T1.input.bam’\n",
      "‘align/bam_snrna/T1.m6A.mapped.bam’ -> ‘align/bam_snrna/T1.m6A.bam’\n",
      "‘align/bam_snrna/T2.input.mapped.bam’ -> ‘align/bam_snrna/T2.input.bam’\n",
      "‘align/bam_snrna/T2.m6A.mapped.bam’ -> ‘align/bam_snrna/T2.m6A.bam’\n",
      "‘align/bam_snrna/U1.input.mapped.bam’ -> ‘align/bam_snrna/U1.input.bam’\n",
      "‘align/bam_snrna/U1.m6A.mapped.bam’ -> ‘align/bam_snrna/U1.m6A.bam’\n",
      "‘align/bam_snrna/U2.input.mapped.bam’ -> ‘align/bam_snrna/U2.input.bam’\n",
      "‘align/bam_snrna/U2.m6A.mapped.bam’ -> ‘align/bam_snrna/U2.m6A.bam’\n",
      "trna\n",
      "‘align/bam_trna/T1.input.mapped.bam’ -> ‘align/bam_trna/T1.input.bam’\n",
      "‘align/bam_trna/T1.m6A.mapped.bam’ -> ‘align/bam_trna/T1.m6A.bam’\n",
      "‘align/bam_trna/T2.input.mapped.bam’ -> ‘align/bam_trna/T2.input.bam’\n",
      "‘align/bam_trna/T2.m6A.mapped.bam’ -> ‘align/bam_trna/T2.m6A.bam’\n",
      "‘align/bam_trna/U1.input.mapped.bam’ -> ‘align/bam_trna/U1.input.bam’\n",
      "‘align/bam_trna/U1.m6A.mapped.bam’ -> ‘align/bam_trna/U1.m6A.bam’\n",
      "‘align/bam_trna/U2.input.mapped.bam’ -> ‘align/bam_trna/U2.input.bam’\n",
      "‘align/bam_trna/U2.m6A.mapped.bam’ -> ‘align/bam_trna/U2.m6A.bam’\n"
     ]
    }
   ],
   "source": [
    "%%bash\n",
    "for STARindex in `ls -d ~/tools/HERVs/files/*_star_index/`; do\n",
    "    name=`basename $STARindex`; name=${name/package-entities-/}; name=${name/_star_index/};\n",
    "    echo $name\n",
    "    for bam_mapped in align/bam_${name}/*mapped.bam; do\n",
    "        bam=${bam_mapped/.mapped.bam/.bam};\n",
    "        mv -v $bam_mapped $bam\n",
    "    done\n",
    "done"
   ]
  },
  {
   "cell_type": "code",
   "execution_count": null,
   "metadata": {},
   "outputs": [],
   "source": []
  },
  {
   "cell_type": "code",
   "execution_count": null,
   "metadata": {},
   "outputs": [],
   "source": []
  },
  {
   "cell_type": "markdown",
   "metadata": {
    "tags": []
   },
   "source": [
    "# Peak calling task - Running `exomePeak2`\n",
    "\n",
    "https://bioconductor.org/packages/release/bioc/vignettes/exomePeak2/inst/doc/Vignette_V_2.00.html"
   ]
  },
  {
   "cell_type": "markdown",
   "metadata": {},
   "source": [
    "`exomepeak2` env"
   ]
  },
  {
   "cell_type": "code",
   "execution_count": 1,
   "metadata": {
    "tags": []
   },
   "outputs": [],
   "source": [
    "suppressMessages(suppressWarnings(library(exomePeak2)))"
   ]
  },
  {
   "cell_type": "code",
   "execution_count": 2,
   "metadata": {
    "tags": []
   },
   "outputs": [],
   "source": [
    "suppressMessages(suppressWarnings(library (GenomicFeatures)))"
   ]
  },
  {
   "cell_type": "code",
   "execution_count": 2,
   "metadata": {
    "tags": []
   },
   "outputs": [],
   "source": [
    "suppressMessages(suppressWarnings(library (tidyverse)))"
   ]
  },
  {
   "cell_type": "code",
   "execution_count": 3,
   "metadata": {
    "tags": []
   },
   "outputs": [],
   "source": [
    "# suppressMessages(suppressWarnings(library (Guitar)))"
   ]
  },
  {
   "cell_type": "code",
   "execution_count": 4,
   "metadata": {
    "tags": []
   },
   "outputs": [],
   "source": [
    "options(digits=5)"
   ]
  },
  {
   "cell_type": "code",
   "execution_count": 5,
   "metadata": {
    "tags": []
   },
   "outputs": [],
   "source": [
    "mkdir <- function (output_dir){\n",
    "    if (!dir.exists(output_dir)){\n",
    "        dir.create(output_dir)\n",
    "        print(output_dir)\n",
    "        print(\"created!\")\n",
    "    } else {\n",
    "        print(output_dir)\n",
    "        print(\"already exists!\")\n",
    "    }\n",
    "}"
   ]
  },
  {
   "cell_type": "code",
   "execution_count": 7,
   "metadata": {
    "tags": []
   },
   "outputs": [],
   "source": [
    "runexomepeak <- function(GENE_ANNO_GTF,OUTPUT,bamDIR){\n",
    "    \n",
    "    ############################### read meta ###############################\n",
    "    Samples = c(\"U1\",\"U2\")\n",
    "    TREATED_Samples = c('T1','T2')\n",
    "\n",
    "    IP = '.m6A'\n",
    "    INPUT = '.input'\n",
    "\n",
    "    OUTPUT = 'exomepeak'\n",
    "\n",
    "    Samples = unlist(Samples)\n",
    "\n",
    "    IP_BAM = paste(Samples, IP, '.bam', sep='')\n",
    "    INPUT_BAM = paste(Samples, INPUT, '.bam', sep='')\n",
    "\n",
    "    TREATED_IP_BAM = paste(TREATED_Samples, IP, '.bam', sep='')\n",
    "    TREATED_INPUT_BAM = paste(TREATED_Samples, INPUT, '.bam', sep='')\n",
    "    ############################### run exomepeak ###########################\n",
    "    txdb  = makeTxDbFromGFF(GENE_ANNO_GTF,organism='Homo sapiens')\n",
    "    \n",
    "    setwd(bamDIR)\n",
    "    \n",
    "    res = exomePeak2(bam_ip = IP_BAM,\n",
    "                     bam_input = INPUT_BAM,\n",
    "                     bam_ip_treated = TREATED_IP_BAM,\n",
    "                     bam_input_treated = TREATED_INPUT_BAM,\n",
    "                     txdb = txdb,\n",
    "                     parallel = 15\n",
    "                    )\n",
    "    setwd('../..')   \n",
    "    \n",
    "    return (res)    \n",
    "}"
   ]
  },
  {
   "cell_type": "markdown",
   "metadata": {
    "jp-MarkdownHeadingCollapsed": true,
    "tags": []
   },
   "source": [
    "### erv"
   ]
  },
  {
   "cell_type": "code",
   "execution_count": 76,
   "metadata": {
    "tags": []
   },
   "outputs": [
    {
     "name": "stderr",
     "output_type": "stream",
     "text": [
      "Import genomic features from the file as a GRanges object ... \n",
      "OK\n",
      "\n",
      "Prepare the 'metadata' data frame ... \n",
      "OK\n",
      "\n",
      "Make the TxDb object ... \n",
      "OK\n",
      "\n",
      "Warning message in diffAnalysis(bam_IP = bam_ip, bam_input = bam_input, bam_IP_treated = bam_ip_treated, :\n",
      "“Reference genome not provided, GC content bias is left uncorrected.”\n",
      "Extract bin features ... \n"
     ]
    }
   ],
   "source": [
    "res = runexomepeak(\n",
    "    GENE_ANNO_GTF = '~/tools/HERVs/files/package-entities-erv.gtf.gz',\n",
    "    OUTPUT = 'exomepeak2/erv',\n",
    "    bamDIR = 'align/bam_erv'\n",
    ")"
   ]
  },
  {
   "cell_type": "code",
   "execution_count": null,
   "metadata": {
    "tags": []
   },
   "outputs": [],
   "source": [
    "saveRDS(res, 'exomepeak2/erv/results.rds')"
   ]
  },
  {
   "cell_type": "markdown",
   "metadata": {
    "jp-MarkdownHeadingCollapsed": true,
    "tags": []
   },
   "source": [
    "### line"
   ]
  },
  {
   "cell_type": "code",
   "execution_count": 84,
   "metadata": {
    "tags": []
   },
   "outputs": [],
   "source": [
    "rm(res)"
   ]
  },
  {
   "cell_type": "code",
   "execution_count": 87,
   "metadata": {
    "tags": []
   },
   "outputs": [
    {
     "name": "stderr",
     "output_type": "stream",
     "text": [
      "Import genomic features from the file as a GRanges object ... \n",
      "OK\n",
      "\n",
      "Prepare the 'metadata' data frame ... \n",
      "OK\n",
      "\n",
      "Make the TxDb object ... \n",
      "OK\n",
      "\n",
      "Warning message in diffAnalysis(bam_IP = bam_ip, bam_input = bam_input, bam_IP_treated = bam_ip_treated, :\n",
      "“Reference genome not provided, GC content bias is left uncorrected.”\n",
      "Extract bin features ... \n"
     ]
    }
   ],
   "source": [
    "res = runexomepeak(\n",
    "    GENE_ANNO_GTF = '~/tools/HERVs/files/package-entities-line.gtf.gz',\n",
    "    OUTPUT = 'exomepeak2/line',\n",
    "    bamDIR = 'align/bam_line'\n",
    ")"
   ]
  },
  {
   "cell_type": "code",
   "execution_count": null,
   "metadata": {
    "tags": []
   },
   "outputs": [],
   "source": [
    "mkdir('exomepeak2/line')"
   ]
  },
  {
   "cell_type": "code",
   "execution_count": null,
   "metadata": {
    "tags": []
   },
   "outputs": [],
   "source": [
    "saveRDS(res, 'exomepeak2/line/results.rds')"
   ]
  },
  {
   "cell_type": "markdown",
   "metadata": {
    "jp-MarkdownHeadingCollapsed": true,
    "tags": []
   },
   "source": [
    "### rc"
   ]
  },
  {
   "cell_type": "code",
   "execution_count": 22,
   "metadata": {
    "tags": []
   },
   "outputs": [],
   "source": [
    "setwd('../../')"
   ]
  },
  {
   "cell_type": "code",
   "execution_count": 23,
   "metadata": {
    "tags": []
   },
   "outputs": [
    {
     "name": "stderr",
     "output_type": "stream",
     "text": [
      "Import genomic features from the file as a GRanges object ... \n",
      "OK\n",
      "\n",
      "Prepare the 'metadata' data frame ... \n",
      "OK\n",
      "\n",
      "Make the TxDb object ... \n",
      "OK\n",
      "\n",
      "Warning message in diffAnalysis(bam_IP = bam_ip, bam_input = bam_input, bam_IP_treated = bam_ip_treated, :\n",
      "“Reference genome not provided, GC content bias is left uncorrected.”\n",
      "Extract bin features ... \n",
      "OK\n",
      "\n",
      "Count reads on bin features ... \n",
      "OK\n",
      "\n",
      "Identify background features ... \n",
      "OK\n",
      "\n",
      "Estimate sample sepecific size factors from the background ... \n",
      "OK\n",
      "\n",
      "Detect peaks with GLM ... \n",
      "OK\n",
      "\n",
      "Count reads on peaks ... \n",
      "OK\n",
      "\n",
      "Calculate offset matrix for peaks ... \n",
      "OK\n",
      "\n",
      "Detect differentially modified peaks with interactive GLM ... \n",
      "OK\n",
      "\n",
      "No significant peaks detected, result unsaved.\n",
      "\n"
     ]
    }
   ],
   "source": [
    "res = runexomepeak(\n",
    "    GENE_ANNO_GTF = '~/tools/HERVs/files/package-entities-rc.gtf.gz',\n",
    "    OUTPUT = 'exomepeak2/rc',\n",
    "    bamDIR = 'align/bam_rc'\n",
    ")"
   ]
  },
  {
   "cell_type": "code",
   "execution_count": null,
   "metadata": {
    "tags": []
   },
   "outputs": [],
   "source": [
    "# saveRDS(res, 'exomepeak2/rc/results.rds')"
   ]
  },
  {
   "cell_type": "markdown",
   "metadata": {
    "jp-MarkdownHeadingCollapsed": true,
    "tags": []
   },
   "source": [
    "### retroposon"
   ]
  },
  {
   "cell_type": "code",
   "execution_count": null,
   "metadata": {
    "tags": []
   },
   "outputs": [],
   "source": [
    "setwd('../../')"
   ]
  },
  {
   "cell_type": "code",
   "execution_count": null,
   "metadata": {
    "tags": []
   },
   "outputs": [
    {
     "name": "stderr",
     "output_type": "stream",
     "text": [
      "Import genomic features from the file as a GRanges object ... \n",
      "OK\n",
      "\n",
      "Prepare the 'metadata' data frame ... \n",
      "OK\n",
      "\n",
      "Make the TxDb object ... \n",
      "OK\n",
      "\n",
      "Warning message in diffAnalysis(bam_IP = bam_ip, bam_input = bam_input, bam_IP_treated = bam_ip_treated, :\n",
      "“Reference genome not provided, GC content bias is left uncorrected.”\n",
      "Extract bin features ... \n",
      "OK\n",
      "\n",
      "Count reads on bin features ... \n",
      "OK\n",
      "\n",
      "Identify background features ... \n",
      "OK\n",
      "\n",
      "Estimate sample sepecific size factors from the background ... \n",
      "OK\n",
      "\n",
      "Detect peaks with GLM ... \n",
      "OK\n",
      "\n",
      "Count reads on peaks ... \n"
     ]
    }
   ],
   "source": [
    "res = runexomepeak(\n",
    "    GENE_ANNO_GTF = '~/tools/HERVs/files/package-entities-retroposon.gtf.gz',\n",
    "    OUTPUT = 'exomepeak2/retroposon',\n",
    "    bamDIR = 'align/bam_retroposon'\n",
    ")"
   ]
  },
  {
   "cell_type": "code",
   "execution_count": 28,
   "metadata": {
    "tags": []
   },
   "outputs": [
    {
     "data": {
      "text/plain": [
       "GRangesList object of length 206:\n",
       "$`1`\n",
       "GRanges object with 1 range and 0 metadata columns:\n",
       "    seqnames            ranges strand\n",
       "       <Rle>         <IRanges>  <Rle>\n",
       "  1    chr14 20309837-20309886      +\n",
       "  -------\n",
       "  seqinfo: 24 sequences from an unspecified genome; no seqlengths\n",
       "\n",
       "$`2`\n",
       "GRanges object with 1 range and 0 metadata columns:\n",
       "    seqnames              ranges strand\n",
       "       <Rle>           <IRanges>  <Rle>\n",
       "  2     chr1 156058333-156058407      -\n",
       "  -------\n",
       "  seqinfo: 24 sequences from an unspecified genome; no seqlengths\n",
       "\n",
       "$`3`\n",
       "GRanges object with 1 range and 0 metadata columns:\n",
       "    seqnames              ranges strand\n",
       "       <Rle>           <IRanges>  <Rle>\n",
       "  3     chr1 156292215-156292239      -\n",
       "  -------\n",
       "  seqinfo: 24 sequences from an unspecified genome; no seqlengths\n",
       "\n",
       "...\n",
       "<203 more elements>"
      ]
     },
     "metadata": {},
     "output_type": "display_data"
    }
   ],
   "source": [
    "res"
   ]
  },
  {
   "cell_type": "code",
   "execution_count": 31,
   "metadata": {
    "tags": []
   },
   "outputs": [
    {
     "name": "stdout",
     "output_type": "stream",
     "text": [
      "[1] \"exomepeak2/retroposon\"\n",
      "[1] \"created!\"\n"
     ]
    }
   ],
   "source": [
    "mkdir('exomepeak2/retroposon')"
   ]
  },
  {
   "cell_type": "code",
   "execution_count": 32,
   "metadata": {
    "tags": []
   },
   "outputs": [],
   "source": [
    "saveRDS(res, 'exomepeak2/retroposon/results.rds')"
   ]
  },
  {
   "cell_type": "code",
   "execution_count": 38,
   "metadata": {
    "tags": []
   },
   "outputs": [],
   "source": [
    "res %>% \n",
    "    as.data.frame %>% \n",
    "    dplyr::select(c('seqnames','start','end','strand')) %>%\n",
    "    write.table('exomepeak2/retroposon/results.bed',sep = '\\t',quote = F, row.names = F)"
   ]
  },
  {
   "cell_type": "markdown",
   "metadata": {
    "jp-MarkdownHeadingCollapsed": true,
    "tags": []
   },
   "source": [
    "### satellite"
   ]
  },
  {
   "cell_type": "code",
   "execution_count": null,
   "metadata": {
    "tags": []
   },
   "outputs": [
    {
     "name": "stderr",
     "output_type": "stream",
     "text": [
      "Import genomic features from the file as a GRanges object ... \n",
      "OK\n",
      "\n",
      "Prepare the 'metadata' data frame ... \n",
      "OK\n",
      "\n",
      "Make the TxDb object ... \n",
      "OK\n",
      "\n",
      "Warning message in diffAnalysis(bam_IP = bam_ip, bam_input = bam_input, bam_IP_treated = bam_ip_treated, :\n",
      "“Reference genome not provided, GC content bias is left uncorrected.”\n",
      "Extract bin features ... \n",
      "OK\n",
      "\n",
      "Count reads on bin features ... \n",
      "OK\n",
      "\n",
      "Identify background features ... \n",
      "OK\n",
      "\n",
      "Estimate sample sepecific size factors from the background ... \n",
      "OK\n",
      "\n",
      "Detect peaks with GLM ... \n",
      "OK\n",
      "\n",
      "Count reads on peaks ... \n"
     ]
    }
   ],
   "source": [
    "res = runexomepeak(\n",
    "    GENE_ANNO_GTF = '~/tools/HERVs/files/package-entities-satellite.gtf.gz',\n",
    "    OUTPUT = 'exomepeak2/satellite',\n",
    "    bamDIR = 'align/bam_satellite'\n",
    ")"
   ]
  },
  {
   "cell_type": "code",
   "execution_count": 43,
   "metadata": {
    "tags": []
   },
   "outputs": [
    {
     "name": "stdout",
     "output_type": "stream",
     "text": [
      "[1] \"exomepeak2/satellite\"\n",
      "[1] \"created!\"\n"
     ]
    }
   ],
   "source": [
    "mkdir('exomepeak2/satellite')"
   ]
  },
  {
   "cell_type": "code",
   "execution_count": 44,
   "metadata": {
    "tags": []
   },
   "outputs": [],
   "source": [
    "saveRDS(res, 'exomepeak2/satellite/results.rds')"
   ]
  },
  {
   "cell_type": "code",
   "execution_count": 45,
   "metadata": {
    "tags": []
   },
   "outputs": [],
   "source": [
    "res %>% \n",
    "    as.data.frame %>% \n",
    "    dplyr::select(c('seqnames','start','end','strand')) %>%\n",
    "    write.table('exomepeak2/satellite/results.bed',sep = '\\t',quote = F, row.names = F)"
   ]
  },
  {
   "cell_type": "markdown",
   "metadata": {
    "jp-MarkdownHeadingCollapsed": true,
    "tags": []
   },
   "source": [
    "### scrna"
   ]
  },
  {
   "cell_type": "code",
   "execution_count": null,
   "metadata": {
    "tags": []
   },
   "outputs": [
    {
     "name": "stderr",
     "output_type": "stream",
     "text": [
      "Import genomic features from the file as a GRanges object ... \n",
      "OK\n",
      "\n",
      "Prepare the 'metadata' data frame ... \n",
      "OK\n",
      "\n",
      "Make the TxDb object ... \n",
      "OK\n",
      "\n",
      "Warning message in diffAnalysis(bam_IP = bam_ip, bam_input = bam_input, bam_IP_treated = bam_ip_treated, :\n",
      "“Reference genome not provided, GC content bias is left uncorrected.”\n",
      "Extract bin features ... \n",
      "OK\n",
      "\n",
      "Count reads on bin features ... \n",
      "OK\n",
      "\n",
      "Identify background features ... \n",
      "OK\n",
      "\n",
      "Estimate sample sepecific size factors from the background ... \n",
      "OK\n",
      "\n",
      "Detect peaks with GLM ... \n",
      "OK\n",
      "\n",
      "Count reads on peaks ... \n"
     ]
    }
   ],
   "source": [
    "res = runexomepeak(\n",
    "    GENE_ANNO_GTF = '~/tools/HERVs/files/package-entities-scrna.gtf.gz',\n",
    "    OUTPUT = 'exomepeak2/scrna',\n",
    "    bamDIR = 'align/bam_scrna'\n",
    ")"
   ]
  },
  {
   "cell_type": "code",
   "execution_count": 54,
   "metadata": {
    "tags": []
   },
   "outputs": [
    {
     "name": "stdout",
     "output_type": "stream",
     "text": [
      "[1] \"exomepeak2/scrna\"\n",
      "[1] \"created!\"\n"
     ]
    }
   ],
   "source": [
    "mkdir('exomepeak2/scrna')"
   ]
  },
  {
   "cell_type": "code",
   "execution_count": 56,
   "metadata": {
    "tags": []
   },
   "outputs": [],
   "source": [
    "res %>% \n",
    "    as.data.frame %>% \n",
    "    dplyr::select(c('seqnames','start','end','strand')) %>%\n",
    "    write.table('exomepeak2/scrna/results.bed',sep = '\\t',quote = F, row.names = F)"
   ]
  },
  {
   "cell_type": "code",
   "execution_count": 55,
   "metadata": {
    "tags": []
   },
   "outputs": [],
   "source": [
    "saveRDS(res, 'exomepeak2/scrna/results.rds')"
   ]
  },
  {
   "cell_type": "markdown",
   "metadata": {
    "jp-MarkdownHeadingCollapsed": true,
    "tags": []
   },
   "source": [
    "### sine"
   ]
  },
  {
   "cell_type": "code",
   "execution_count": null,
   "metadata": {
    "tags": []
   },
   "outputs": [
    {
     "name": "stderr",
     "output_type": "stream",
     "text": [
      "Import genomic features from the file as a GRanges object ... \n",
      "OK\n",
      "\n",
      "Prepare the 'metadata' data frame ... \n",
      "OK\n",
      "\n",
      "Make the TxDb object ... \n",
      "OK\n",
      "\n",
      "Warning message in diffAnalysis(bam_IP = bam_ip, bam_input = bam_input, bam_IP_treated = bam_ip_treated, :\n",
      "“Reference genome not provided, GC content bias is left uncorrected.”\n",
      "Extract bin features ... \n"
     ]
    }
   ],
   "source": [
    "res = runexomepeak(\n",
    "    GENE_ANNO_GTF = '~/tools/HERVs/files/package-entities-sine.gtf.gz',\n",
    "    OUTPUT = 'exomepeak2/sine',\n",
    "    bamDIR = 'align/bam_sine'\n",
    ")"
   ]
  },
  {
   "cell_type": "code",
   "execution_count": 66,
   "metadata": {
    "tags": []
   },
   "outputs": [
    {
     "data": {
      "text/html": [
       "'/data_gilbert/home/aarab/AML/Decitabine-treatment/DAC/meRIP-seq'"
      ],
      "text/latex": [
       "'/data\\_gilbert/home/aarab/AML/Decitabine-treatment/DAC/meRIP-seq'"
      ],
      "text/markdown": [
       "'/data_gilbert/home/aarab/AML/Decitabine-treatment/DAC/meRIP-seq'"
      ],
      "text/plain": [
       "[1] \"/data_gilbert/home/aarab/AML/Decitabine-treatment/DAC/meRIP-seq\""
      ]
     },
     "metadata": {},
     "output_type": "display_data"
    }
   ],
   "source": [
    "getwd()"
   ]
  },
  {
   "cell_type": "code",
   "execution_count": 67,
   "metadata": {
    "tags": []
   },
   "outputs": [
    {
     "name": "stdout",
     "output_type": "stream",
     "text": [
      "[1] \"exomepeak2/sine\"\n",
      "[1] \"created!\"\n"
     ]
    }
   ],
   "source": [
    "mkdir('exomepeak2/sine')"
   ]
  },
  {
   "cell_type": "code",
   "execution_count": 68,
   "metadata": {
    "tags": []
   },
   "outputs": [],
   "source": [
    "res %>% \n",
    "    as.data.frame %>% \n",
    "    dplyr::select(c('seqnames','start','end','strand')) %>%\n",
    "    write.table('exomepeak2/sine/results.bed',sep = '\\t',quote = F, row.names = F)"
   ]
  },
  {
   "cell_type": "code",
   "execution_count": 69,
   "metadata": {
    "tags": []
   },
   "outputs": [],
   "source": [
    "saveRDS(res, 'exomepeak2/sine/results.rds')"
   ]
  },
  {
   "cell_type": "markdown",
   "metadata": {
    "jp-MarkdownHeadingCollapsed": true,
    "tags": []
   },
   "source": [
    "### snrna"
   ]
  },
  {
   "cell_type": "code",
   "execution_count": 6,
   "metadata": {
    "tags": []
   },
   "outputs": [
    {
     "name": "stderr",
     "output_type": "stream",
     "text": [
      "Import genomic features from the file as a GRanges object ... \n",
      "OK\n",
      "\n",
      "Prepare the 'metadata' data frame ... \n",
      "OK\n",
      "\n",
      "Make the TxDb object ... \n",
      "OK\n",
      "\n",
      "Warning message in diffAnalysis(bam_IP = bam_ip, bam_input = bam_input, bam_IP_treated = bam_ip_treated, :\n",
      "“Reference genome not provided, GC content bias is left uncorrected.”\n",
      "Extract bin features ... \n",
      "OK\n",
      "\n",
      "Count reads on bin features ... \n",
      "OK\n",
      "\n",
      "Identify background features ... \n",
      "OK\n",
      "\n",
      "Estimate sample sepecific size factors from the background ... \n",
      "OK\n",
      "\n",
      "Detect peaks with GLM ... \n",
      "OK\n",
      "\n",
      "Count reads on peaks ... \n",
      "OK\n",
      "\n",
      "Calculate offset matrix for peaks ... \n",
      "OK\n",
      "\n",
      "Detect differentially modified peaks with interactive GLM ... \n",
      "OK\n",
      "\n"
     ]
    }
   ],
   "source": [
    "res = runexomepeak(\n",
    "    GENE_ANNO_GTF = '~/tools/HERVs/files/package-entities-snrna.gtf.gz',\n",
    "    OUTPUT = 'exomepeak2/snrna',\n",
    "    bamDIR = 'align/bam_snrna'\n",
    ")"
   ]
  },
  {
   "cell_type": "markdown",
   "metadata": {},
   "source": [
    "#### 7SK methylation by METTL3 promotes transcriptional activity\n",
    "https://www.science.org/doi/10.1126/sciadv.ade7500"
   ]
  },
  {
   "cell_type": "code",
   "execution_count": null,
   "metadata": {},
   "outputs": [],
   "source": [
    "saveRDS(res, 'exomepeak2/snrna/results.rds')"
   ]
  },
  {
   "cell_type": "markdown",
   "metadata": {
    "tags": []
   },
   "source": [
    "### trna"
   ]
  },
  {
   "cell_type": "code",
   "execution_count": null,
   "metadata": {
    "tags": []
   },
   "outputs": [
    {
     "name": "stderr",
     "output_type": "stream",
     "text": [
      "Import genomic features from the file as a GRanges object ... \n",
      "OK\n",
      "\n",
      "Prepare the 'metadata' data frame ... \n",
      "OK\n",
      "\n",
      "Make the TxDb object ... \n",
      "OK\n",
      "\n",
      "Warning message in diffAnalysis(bam_IP = bam_ip, bam_input = bam_input, bam_IP_treated = bam_ip_treated, :\n",
      "“Reference genome not provided, GC content bias is left uncorrected.”\n",
      "Extract bin features ... \n",
      "OK\n",
      "\n",
      "Count reads on bin features ... \n",
      "OK\n",
      "\n",
      "Identify background features ... \n",
      "OK\n",
      "\n",
      "Estimate sample sepecific size factors from the background ... \n",
      "OK\n",
      "\n",
      "Detect peaks with GLM ... \n",
      "OK\n",
      "\n",
      "Count reads on peaks ... \n"
     ]
    }
   ],
   "source": [
    "res = runexomepeak(\n",
    "    GENE_ANNO_GTF = '~/tools/HERVs/files/package-entities-trna.gtf.gz',\n",
    "    OUTPUT = 'exomepeak2/trna',\n",
    "    bamDIR = 'align/bam_trna'\n",
    ")"
   ]
  },
  {
   "cell_type": "code",
   "execution_count": 74,
   "metadata": {
    "tags": []
   },
   "outputs": [
    {
     "name": "stdout",
     "output_type": "stream",
     "text": [
      "[1] \"exomepeak2/trna\"\n",
      "[1] \"created!\"\n"
     ]
    }
   ],
   "source": [
    "mkdir('exomepeak2/trna')"
   ]
  },
  {
   "cell_type": "code",
   "execution_count": 75,
   "metadata": {
    "tags": []
   },
   "outputs": [],
   "source": [
    "saveRDS(res, 'exomepeak2/trna/results.rds')"
   ]
  },
  {
   "cell_type": "markdown",
   "metadata": {
    "tags": []
   },
   "source": [
    "___\n",
    "## Save results into files"
   ]
  },
  {
   "cell_type": "code",
   "execution_count": null,
   "metadata": {},
   "outputs": [],
   "source": [
    "# %%R \n",
    "suppressMessages(suppressWarnings(library (tidyverse)))"
   ]
  },
  {
   "cell_type": "code",
   "execution_count": null,
   "metadata": {},
   "outputs": [],
   "source": [
    "# %%R \n",
    "gtf <- rtracklayer::import(GTF)\n",
    "\n",
    "# gene2name <- gtf[gtf$type == \"gene\"] %>% data.frame %>% column_to_rownames('gene_id') %>% dplyr::select('gene_name')\n",
    "# message ('-> GTF loaded!')\n",
    "\n",
    "# add_Name <- function(res, gene2name){\n",
    "#     res$ensembl <- res$name %>% as.character\n",
    "#     res$name <- gene2name[res$ensembl %>% as.character,]\n",
    "#     return (res)\n",
    "# }"
   ]
  },
  {
   "cell_type": "code",
   "execution_count": null,
   "metadata": {},
   "outputs": [],
   "source": []
  },
  {
   "cell_type": "code",
   "execution_count": null,
   "metadata": {},
   "outputs": [],
   "source": [
    "result_sig %>% filter(grepl('DAC',name))"
   ]
  },
  {
   "cell_type": "code",
   "execution_count": null,
   "metadata": {},
   "outputs": [],
   "source": [
    "result_all %>% filter(grepl('DAC',name))"
   ]
  },
  {
   "cell_type": "code",
   "execution_count": null,
   "metadata": {},
   "outputs": [],
   "source": [
    "# %%R\n",
    "write.table(result_all %>% filter(grepl('DAC',name)), file = \"radar_erv/result.all.txt\",row.names=F, sep='\\t', quote=FALSE) \n",
    "write.table(result_sig %>% filter(grepl('DAC',name)), file = \"radar_erv/result.sig.txt\",row.names=F, sep='\\t',quote=FALSE) "
   ]
  },
  {
   "cell_type": "code",
   "execution_count": null,
   "metadata": {},
   "outputs": [],
   "source": [
    "# cp -v radar/result.sig.txt hl60_delta_mtyl_table.txt "
   ]
  },
  {
   "cell_type": "code",
   "execution_count": null,
   "metadata": {},
   "outputs": [],
   "source": [
    "# !cat hl60_delta_mtyl_table.txt | head "
   ]
  },
  {
   "cell_type": "markdown",
   "metadata": {
    "tags": []
   },
   "source": [
    "### Save results into `bed12` format \n",
    "`tidyverse` can not be loaded while using RADAR!"
   ]
  },
  {
   "cell_type": "code",
   "execution_count": null,
   "metadata": {},
   "outputs": [],
   "source": [
    "# save bed 12 format \n",
    "names(result_all)[1] <- paste0(\"# \", names(result_all)[1])\n",
    "write.table(result_all %>% dplyr::select(c(1:12)) %>% filter(grepl('DAC',name)), file = \"radar_erv/result.all.bed\",row.names=F, sep=\"\\t\", quote=FALSE) "
   ]
  },
  {
   "cell_type": "code",
   "execution_count": null,
   "metadata": {},
   "outputs": [],
   "source": [
    "# save bed 12 format \n",
    "names(result_sig)[1] <- paste0(\"# \", names(result_sig)[1])\n",
    "write.table(result_sig %>% dplyr::select(c(1:12)) %>% filter(grepl('DAC',name)), file = \"radar/result.sig.bed\",row.names=F, sep='\\t',quote=FALSE)"
   ]
  },
  {
   "cell_type": "code",
   "execution_count": null,
   "metadata": {},
   "outputs": [],
   "source": [
    "sessionInfo()"
   ]
  },
  {
   "cell_type": "code",
   "execution_count": null,
   "metadata": {},
   "outputs": [],
   "source": [
    "!date"
   ]
  }
 ],
 "metadata": {
  "kernelspec": {
   "display_name": "R [conda env:exomepeak2]",
   "language": "R",
   "name": "conda-env-exomepeak2-r"
  },
  "language_info": {
   "codemirror_mode": "r",
   "file_extension": ".r",
   "mimetype": "text/x-r-source",
   "name": "R",
   "pygments_lexer": "r",
   "version": "4.3.1"
  }
 },
 "nbformat": 4,
 "nbformat_minor": 4
}
