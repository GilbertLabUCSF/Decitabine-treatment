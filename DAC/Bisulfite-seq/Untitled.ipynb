{
 "cells": [
  {
   "cell_type": "markdown",
   "id": "87130f8b-53ab-4277-ab1a-3de9e5a8d439",
   "metadata": {
    "tags": []
   },
   "source": [
    "# Genehancer \n",
    "- https://genome.ucsc.edu/cgi-bin/hgTables?db=hg38&hgta_group=regulation&hgta_track=geneHancer&hgta_table=geneHancerGenesDoubleElite&hgta_doSchema=describe+table+schema\n",
    "- https://www.weizmann.ac.il/molgen/genehancer-genome-wide-integration-enhancers-and-target-genes-genecards\n",
    "\n",
    "- http://www.enhanceratlas.org/linkv2.php#l"
   ]
  },
  {
   "cell_type": "code",
   "execution_count": null,
   "id": "8f567e39-f01b-48b0-935a-8513c16b4ca6",
   "metadata": {},
   "outputs": [],
   "source": [
    "import pandas as pd "
   ]
  },
  {
   "cell_type": "code",
   "execution_count": null,
   "id": "f025028b-9d8c-4d4e-b69a-b06f998bd81a",
   "metadata": {},
   "outputs": [],
   "source": [
    "cat -t delta_DNAme_table.txt | head "
   ]
  },
  {
   "cell_type": "code",
   "execution_count": null,
   "id": "608fd15c-a65c-406a-8c01-2bfc2520df58",
   "metadata": {},
   "outputs": [],
   "source": [
    "cat -t SE_02_1028_SE_hg38.bed | head "
   ]
  },
  {
   "cell_type": "code",
   "execution_count": null,
   "id": "8da71193-4be3-4d2b-9d5f-0db09ba00d83",
   "metadata": {},
   "outputs": [],
   "source": [
    "!bedtools intersect \\\n",
    "    -b SE_02_1028_SE_hg38.bed \\\n",
    "    -a delta_DNAme_table.txt -wb"
   ]
  },
  {
   "cell_type": "code",
   "execution_count": null,
   "id": "589db239-97a5-48ab-954b-7b0b7a511d74",
   "metadata": {},
   "outputs": [],
   "source": [
    "pd.read_csv('SE_02_1028_SE_hg38.bed',sep='\\t').head()\n",
    "\n",
    "pd.read_csv('delta_DNAme_table.txt',sep='\\t').head()"
   ]
  }
 ],
 "metadata": {
  "kernelspec": {
   "display_name": "Python [conda env:alignment]",
   "language": "python",
   "name": "conda-env-alignment-py"
  },
  "language_info": {
   "codemirror_mode": {
    "name": "ipython",
    "version": 3
   },
   "file_extension": ".py",
   "mimetype": "text/x-python",
   "name": "python",
   "nbconvert_exporter": "python",
   "pygments_lexer": "ipython3",
   "version": "3.6.10"
  }
 },
 "nbformat": 4,
 "nbformat_minor": 5
}
