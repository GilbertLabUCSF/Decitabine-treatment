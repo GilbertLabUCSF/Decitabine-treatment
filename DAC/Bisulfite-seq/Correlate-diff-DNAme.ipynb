{
 "cells": [
  {
   "cell_type": "markdown",
   "id": "51b0a716-9b75-4155-a74a-3c9b174c9ef5",
   "metadata": {},
   "source": [
    "# Bisulfite \n",
    "- https://en.wikipedia.org/wiki/Bisulfite_sequencing\n",
    "- Figure 2: Outline of the chemical reaction that underlies the bisulfite-catalyzed conversion of cytosine to uracil.\n",
    "<img src=\"https://upload.wikimedia.org/wikipedia/commons/b/bc/Bisulfite_conversion.svg\" />"
   ]
  },
  {
   "cell_type": "code",
   "execution_count": null,
   "id": "42005716-6843-4f51-93b5-dd074343941a",
   "metadata": {
    "tags": []
   },
   "outputs": [],
   "source": [
    "library(methylKit)\n",
    "library(DSS)\n",
    "library(edgeR)\n",
    "library(tidyverse)\n",
    "library(ggrepel)\n",
    "library(patchwork)\n",
    "library(genomation)\n",
    "library(GenomicFeatures)\n",
    "library(ORFik)\n",
    "library(ggExtra)"
   ]
  },
  {
   "cell_type": "code",
   "execution_count": null,
   "id": "c29b46e1-9255-4323-a12c-75a63e35fe53",
   "metadata": {},
   "outputs": [],
   "source": [
    "source('../scripts/util.R')"
   ]
  },
  {
   "cell_type": "markdown",
   "id": "bc3a0f75-90b5-497f-8ee3-c5aa39e52573",
   "metadata": {
    "tags": []
   },
   "source": [
    "### Correlate with RNA-seq profiles"
   ]
  },
  {
   "cell_type": "code",
   "execution_count": null,
   "id": "38df59d6-189f-4a4f-8de0-7da672318014",
   "metadata": {},
   "outputs": [],
   "source": [
    "> load(\"rna.RData\")\n",
    "> dim(y_rna)\n",
    "> haveME <- row.names(y_rna) %in% row.names(ypr)\n",
    "> y_rna <- y_rna[haveME,]\n",
    "> dim(y_rna)\n",
    "> fitrna <- glmFit(y_rna)\n",
    "> Contrastrna <- makeContrasts(L.virgin-B.virgin, levels=y_rna$design)\n",
    "> lrtrna <- glmLRT(fitrna, contrast=Contrastrna)\n",
    "# Correlate methylation and expression\n",
    "> topME$logFC.RNA <- lrtrna$table[row.names(topME),\"logFC\"]\n",
    "> topME[1:30,c(\"Symbol\",\"logFC\",\"logFC.RNA\")]\n",
    "\n",
    "> plot(topME$logFC, topME$logFC.RNA, main=\"Lumina vs Basal\",\n",
    "+      xlab=\"Methylation logFC\", ylab=\"Expression logFC\",\n",
    "+      pch=16, cex=0.8, col=\"gray30\")\n",
    "> abline(h=0, v=0, col=\"gray10\", lty=2, lwd=2)\n"
   ]
  },
  {
   "cell_type": "markdown",
   "id": "f262e61f-afd9-448e-ac9d-53b7245e2b79",
   "metadata": {},
   "source": [
    "> Figure 8. Scatter plot of the log-fold-changes of methylation levels in gene promoters (x-axis) vs the log fold-changes of gene expression (y-axis).\n"
   ]
  },
  {
   "cell_type": "code",
   "execution_count": null,
   "id": "6cd15f4d-53b9-4daf-b756-5fd99e581153",
   "metadata": {},
   "outputs": [],
   "source": []
  },
  {
   "cell_type": "code",
   "execution_count": null,
   "id": "1803b34b-d22d-49b2-ab57-f2c76bb72c89",
   "metadata": {},
   "outputs": [],
   "source": [
    "> RNAvsME <- lm(topME$logFC.RNA ~ 0 + topME$logFC)\n",
    "> coef(summary(RNAvsME))\n",
    "\n",
    "> abline(RNAvsME, col=\"red\", lwd=2) \n"
   ]
  },
  {
   "cell_type": "code",
   "execution_count": null,
   "id": "0f932dcd-14b4-4960-a6b6-a40e29b4c8e5",
   "metadata": {},
   "outputs": [],
   "source": [
    "# Gene set testing\n",
    "> ME <- data.frame(ID=row.names(topME), logFC=topME$logFC, stringsAsFactors=FALSE)\n",
    "> inRNA <- ME$ID %in% row.names(y_rna)\n",
    "> ME <- ME[inRNA,]\n",
    "> fry(y_rna, index=ME, contrast=Contrastrna)\n",
    "\n",
    "> logFC.ME <- rep_len(0,nrow(y_rna))\n",
    "> names(logFC.ME) <- row.names(y_rna)\n",
    "> logFC.ME[ME$ID] <- ME$logFC\n",
    "> barcodeplot(lrtrna$table$logFC, gene.weights=logFC.ME,\n",
    "+               labels=c(\"Basal\",\"Luminal\"), main=\"Luminal vs Basal\",\n",
    "+               xlab=\"Expression logFC\", weights.label=\"Me logFC\")\n",
    "> legend(\"topright\", col=c(\"red\",\"blue\"), lty=1, lwd=2,\n",
    "+         legend=c(\"Hypermethylated in Luminal\", \"Hypomethylated in Luminal\"))\n"
   ]
  },
  {
   "cell_type": "code",
   "execution_count": null,
   "id": "b0e74c3d-09cd-4f5b-b9bb-e71dcb4c968f",
   "metadata": {},
   "outputs": [],
   "source": []
  },
  {
   "cell_type": "code",
   "execution_count": null,
   "id": "e7ae47a7-66db-4b2e-8a9a-b82902899701",
   "metadata": {},
   "outputs": [],
   "source": []
  },
  {
   "cell_type": "code",
   "execution_count": null,
   "id": "b013d0de-b2fd-4256-bd0e-a0d6bc0474c2",
   "metadata": {},
   "outputs": [],
   "source": []
  },
  {
   "cell_type": "markdown",
   "id": "c219e260-92c3-4a46-818d-8210fb0cd153",
   "metadata": {},
   "source": [
    "### Focus on gene lists"
   ]
  },
  {
   "cell_type": "code",
   "execution_count": null,
   "id": "7f1a5c37-7498-4cbf-8f99-636cf61444e3",
   "metadata": {},
   "outputs": [],
   "source": [
    "smaller_volcano <- function(genes,title){\n",
    "    v = myDiff_tiles_ann[myDiff_tiles_ann$symbol %in% genes,] %>% \n",
    "        plot_hyperhypo(5,0.05,title=title,x_lim=c(-100,100),y_lim=7) +\n",
    "        geom_point(\n",
    "            data = res_promoters[res_promoters$symbol %in% genes,] %>% filter(\n",
    "                    abs(meth.diff) >= meth.diff.cutoff, \n",
    "                    pvalue < pvalue.cutoff), \n",
    "            aes(x = meth.diff, y = -log10(pvalue)),\n",
    "            shape = 21, size = 4, color = \"black\", fill = \"red\"\n",
    "        ) + geom_rug(\n",
    "                data = res_promoters[res_promoters$symbol %in% genes,] %>% filter(\n",
    "                    abs(meth.diff) >= meth.diff.cutoff, \n",
    "                    pvalue < pvalue.cutoff), \n",
    "                sides = \"b\", colour= 'black') + \n",
    "        scale_y_sqrt(limits=c(0,20))\n",
    "    return (v)\n",
    "}"
   ]
  },
  {
   "cell_type": "code",
   "execution_count": null,
   "id": "8d4d45ab-0549-4493-b2d7-3b853183d29d",
   "metadata": {},
   "outputs": [],
   "source": [
    "res_promoters[res_promoters$symbol %in% RNAme_hyper,] %>% filter(\n",
    "                abs(meth.diff) >= meth.diff.cutoff, \n",
    "                pvalue < pvalue.cutoff)"
   ]
  },
  {
   "cell_type": "code",
   "execution_count": null,
   "id": "f8cb6122-d1a4-45b1-b6d3-72d90cbef99f",
   "metadata": {},
   "outputs": [],
   "source": [
    "smaller_volcano(RNAme_hyper,'Hyper RNAme')"
   ]
  },
  {
   "cell_type": "code",
   "execution_count": null,
   "id": "f4eea70a-9874-42d7-8ac0-1ab4edf55888",
   "metadata": {},
   "outputs": [],
   "source": [
    "res_promoters[res_promoters$symbol %in% RNAme_hypo,] %>% filter(\n",
    "                abs(meth.diff) >= meth.diff.cutoff, \n",
    "                pvalue < pvalue.cutoff)"
   ]
  },
  {
   "cell_type": "code",
   "execution_count": null,
   "id": "1d53291d-2d51-45aa-b796-efd43a640a19",
   "metadata": {},
   "outputs": [],
   "source": [
    "# smaller_volcano(RNAme_hypo)"
   ]
  },
  {
   "cell_type": "code",
   "execution_count": null,
   "id": "f9fffe94-4865-473d-8260-631ea496972c",
   "metadata": {},
   "outputs": [],
   "source": [
    "            # geom_label_repel(\n",
    "            #     data = res %>% filter(name %in% labels),\n",
    "            #     size=2, \n",
    "            #     segment.colour = \"black\",\n",
    "            #     aes(label = name), \n",
    "            #     color = 'grey10',fill='white',\n",
    "            #     box.padding = 1, max.overlaps = Inf) + \n",
    "            # scale_color_manual(values = c(\"grey50\", \"green4\")) +\n"
   ]
  },
  {
   "cell_type": "markdown",
   "id": "60568a63-c13f-43a9-9d2e-b5ef9149868e",
   "metadata": {},
   "source": [
    "### sensitivity"
   ]
  },
  {
   "cell_type": "code",
   "execution_count": null,
   "id": "4a4b4695-726a-4042-980d-f74c59a6de45",
   "metadata": {
    "tags": []
   },
   "outputs": [],
   "source": []
  },
  {
   "cell_type": "code",
   "execution_count": null,
   "id": "bdfa697f-d944-4407-b410-97f801fc79a3",
   "metadata": {},
   "outputs": [],
   "source": [
    "smaller_volcano(resistance,'resistance hits')"
   ]
  },
  {
   "cell_type": "markdown",
   "id": "0b11ac93-f792-404e-9991-7638956c63f1",
   "metadata": {
    "tags": []
   },
   "source": [
    "## "
   ]
  },
  {
   "cell_type": "code",
   "execution_count": null,
   "id": "d57f6d7a-2cab-4c87-8e48-05ce241c8343",
   "metadata": {},
   "outputs": [],
   "source": [
    "data = myDiff_tiles_ann %>% mutate(\n",
    "    label = case_when(\n",
    "        myDiff_tiles_ann$symbol %in% RNAme_hyper ~ 'RNAme_hyper',\n",
    "        myDiff_tiles_ann$symbol %in% RNAme_hypo ~ 'RNAme_hypo', \n",
    "        TRUE ~ ''\n",
    "    )) "
   ]
  },
  {
   "cell_type": "code",
   "execution_count": null,
   "id": "f1e1d041-3059-4bf9-91f3-c0e6f9302a6a",
   "metadata": {},
   "outputs": [],
   "source": [
    "# rbind(\n",
    "#     lowess(data$distance[data$label =='RNAme_hyper'],data$meth.diff[data$label =='RNAme_hyper'], f=.4) %>% data.frame %>% mutate(label='RNAme_hyper'),\n",
    "#     lowess(data$distance[data$label ==''],data$meth.diff[data$label ==''], f=.01) %>% data.frame %>% mutate(label='')\n",
    "# )\n",
    "data %>%\n",
    "    ggplot(aes(x=distance, y=meth.diff,fill=label)) + \n",
    "    geom_point(\n",
    "        data=data, \n",
    "        aes(x=distance, y=meth.diff,fill='gray10',size=1),alpha=.01) + \n",
    "    geom_point(\n",
    "        data=data %>% dplyr::filter(label %in% c('RNAme_hyper')), \n",
    "        aes(x=distance, y=meth.diff,colour=label,shape=label,size=1),alpha=.5) + \n",
    "    # geom_smooth(aes(colour=label), span = 10,method='lm') + \n",
    "    xlab(\"Distance to TSS\") + \n",
    "    # ylim(-100,50) + \n",
    "    geom_hline(yintercept=0, linetype=\"dashed\", color = \"gray90\", size=1) +\n",
    "    xlim(-10**4*3,10**4*3) + \n",
    "    # facet_wrap(~label) +\n",
    "    theme_Publication()    \n"
   ]
  },
  {
   "cell_type": "code",
   "execution_count": null,
   "id": "c2b7a9db-e09e-4fad-bb36-8f8998fd84e9",
   "metadata": {},
   "outputs": [],
   "source": [
    "#      geom_point(data,\n",
    "#         aes(x = meth.diff, y = -log10(pvalue),colour=label),\n",
    "#         shape = 21, size = 3#, color = \"black\", fill = \"red1\"\n",
    "#     # )# + geom_rug(data,\n",
    "#     #     sides = \"b\", colour= 'red1'\n",
    "#     # )\n",
    "# # ggsave('diff-DNAme-volcano.pdf',width=8,height=7)\n",
    "\n",
    "# res_promoters %>% dplyr::filter(pvalue < pvalue.cutoff, meth.diff > meth.diff.cutoff) %>% dplyr::select(symbol) %>% unique\n",
    "\n",
    "# lowess(data$distance[keep], data$meth.diff[keep], f=0.1) \n",
    "\n",
    "\n",
    "# %>% filter(abs(meth.diff) >= meth.diff.cutoff, pvalue < pvalue.cutoff)"
   ]
  },
  {
   "cell_type": "code",
   "execution_count": null,
   "id": "f0f0ca5d-ee29-4995-9a36-68e00e924293",
   "metadata": {},
   "outputs": [],
   "source": []
  },
  {
   "cell_type": "code",
   "execution_count": null,
   "id": "54032327-2e86-4a86-bc1d-db12d683c731",
   "metadata": {},
   "outputs": [],
   "source": []
  },
  {
   "cell_type": "code",
   "execution_count": null,
   "id": "7fe17136-8dfe-4b7b-9abe-46bfc71f6dc5",
   "metadata": {},
   "outputs": [],
   "source": []
  },
  {
   "cell_type": "code",
   "execution_count": null,
   "id": "16ed8e16-1ec6-49f8-84f3-b30785833ba1",
   "metadata": {},
   "outputs": [],
   "source": []
  },
  {
   "cell_type": "code",
   "execution_count": null,
   "id": "a4f82b55-c807-4905-a5b7-e13f952c5f1a",
   "metadata": {
    "tags": []
   },
   "outputs": [],
   "source": [
    "plot_hyperhypo <- function (res, meth.diff.cutoff, pvalue.cutoff, title='', x_lim=FALSE,y_lim=NA,alpha = 5/10, size = 3) {\n",
    "    if (x_lim==FALSE){\n",
    "        x_min = res$meth.diff %>% min\n",
    "        x_max = res$meth.diff %>% max\n",
    "    } else if (length(x_lim)==2) {\n",
    "        x_min = x_lim[1]\n",
    "        x_max = x_lim[2]\n",
    "    }\n",
    "    colors_values = c(\"grey80\", \"#FF4500\") # https://www.rapidtables.com/web/color/RGB_Color.html\n",
    "\n",
    "    w <- wilcox.test(res$meth.diff, mu=-5, alternative = \"less\")\n",
    "    t <- t.test(res$meth.diff, mu=-5, alternative = \"less\")\n",
    "    \n",
    "    res$sig <- as.factor(res$pvalue < pvalue.cutoff & abs(res$meth.diff) > meth.diff.cutoff)\n",
    "    relevel(res$sig, ref=TRUE)\n",
    "    \n",
    "    vol <- res %>% ggplot(aes(x = meth.diff, y = -log10(pvalue))) + \n",
    "        geom_point(\n",
    "            data = res %>% filter(\n",
    "                abs(meth.diff) >= meth.diff.cutoff, \n",
    "                pvalue < pvalue.cutoff), \n",
    "            aes(x = meth.diff, y = -log10(pvalue)), \n",
    "            size = size, alpha = alpha, shape = 21, \n",
    "            color = colors_values[2],\n",
    "            fill = colors_values[2]) + \n",
    "\n",
    "        geom_point(\n",
    "            data = res %>% filter(\n",
    "                (abs(meth.diff) < meth.diff.cutoff) | \n",
    "                (pvalue >= pvalue.cutoff)), \n",
    "            aes(x = meth.diff, y = -log10(pvalue)), \n",
    "            size = 1, alpha = alpha, \n",
    "            shape = 21, color = colors_values[1], \n",
    "            fill = colors_values[1]) + \n",
    "        \n",
    "        geom_rug(\n",
    "            data = res %>% filter(\n",
    "                abs(meth.diff) >= meth.diff.cutoff, \n",
    "                pvalue < pvalue.cutoff), \n",
    "            alpha = alpha,\n",
    "            sides = \"b\", colour= colors_values[2]) + \n",
    "\n",
    "        xlim(c(x_min, x_max)) + \n",
    "        ylim(c(0, y_lim)) + \n",
    "        # ylim(c(0, -log10(res %>% select(pvalue) %>% min ))) + \n",
    "        geom_hline(yintercept = -log10(pvalue.cutoff), linetype = \"dashed\", alpha = 5/10) + \n",
    "        ggtitle(title) +\n",
    "        geom_text(aes(\n",
    "            x_max*0.5,-log10(pvalue.cutoff)/1000,\n",
    "            label = sprintf(\n",
    "                \"\\n[mu=-5,alter=less]\\nwilcox.test (-log10 p.value): %.2f\\nt.test (-log10 p.value):%.2f\",\n",
    "                -log10(w$p.value), -log10(t$p.value)),\n",
    "            vjust = x_min*0.05\n",
    "        )) +\n",
    "        theme(\n",
    "            legend.position = \"none\"\n",
    "        ) + \n",
    "        theme_Publication()\n",
    "    return(vol)\n",
    "}"
   ]
  },
  {
   "cell_type": "code",
   "execution_count": null,
   "id": "27644bc7-b81b-4ddb-a8d3-13b9f2ba5c1a",
   "metadata": {},
   "outputs": [],
   "source": [
    "filtere_obj <- function(myobj){\n",
    "    filtered.myobj=filterByCoverage(myobj,lo.count=10,lo.perc=NULL,\n",
    "                                    hi.count=NULL,hi.perc=99.9)\n",
    "    return(filtered.myobj)\n",
    "    }"
   ]
  },
  {
   "cell_type": "markdown",
   "id": "84f01d8f-2fd5-481b-84e8-59fb7b24c351",
   "metadata": {},
   "source": [
    "> ### Reading processed Bismark files \n",
    "> Bismark aligner scripts can produce per base methylation files. These files, namely \"cytosine report\"  and \"coverage\" files can be read in R using methylKit methRead() function. See Bismark manual for details on the files.\n"
   ]
  },
  {
   "cell_type": "markdown",
   "id": "858d4017-bce0-4b3a-b98c-6674d5ae2be6",
   "metadata": {},
   "source": [
    "## CHG context"
   ]
  },
  {
   "cell_type": "code",
   "execution_count": null,
   "id": "de601c68-a801-41da-9ff7-849f6f8e1c4f",
   "metadata": {
    "tags": []
   },
   "outputs": [],
   "source": [
    "meth_CHG = methylKit::processBismarkAln(\n",
    "    files,\n",
    "    sample.id=list('DMSO',\"Decitabine\"),\n",
    "    assembly=\"hg38\",\n",
    "    save.folder='methylKit',\n",
    "    save.context=NULL,\n",
    "    read.context=\"CHG\",\n",
    "    nolap=FALSE,mincov=10,minqual=20,phred64=FALSE,\n",
    "    treatment=c(0,1)\n",
    ")"
   ]
  },
  {
   "cell_type": "code",
   "execution_count": null,
   "id": "d7a6a8a4-8469-43b4-a987-4a6744857470",
   "metadata": {},
   "outputs": [],
   "source": [
    "saveRDS(meth_CHG, file = \"methylKit/meth_CHG.rds\")"
   ]
  },
  {
   "cell_type": "markdown",
   "id": "e86feaed-d059-4f27-9629-67bd747e2f34",
   "metadata": {},
   "source": [
    "## CHH context"
   ]
  },
  {
   "cell_type": "code",
   "execution_count": null,
   "id": "251ddda2-aee2-4a92-868e-7623d84dfdc9",
   "metadata": {
    "tags": []
   },
   "outputs": [],
   "source": [
    "meth_CHH = methylKit::processBismarkAln(\n",
    "    files,\n",
    "    sample.id=list('DMSO',\"Decitabine\"),\n",
    "    assembly=\"hg38\",\n",
    "    save.folder='methylKit',\n",
    "    save.context=NULL,\n",
    "    read.context=\"CHH\",\n",
    "    nolap=FALSE,mincov=10,minqual=20,phred64=FALSE,\n",
    "    treatment=c(0,1)\n",
    ")"
   ]
  },
  {
   "cell_type": "code",
   "execution_count": null,
   "id": "3ae440dd-065f-4a1e-9119-5a76e5dd2f84",
   "metadata": {},
   "outputs": [],
   "source": [
    "saveRDS(meth_CHH, file = \"methylKit/meth_CHH.rds\")"
   ]
  },
  {
   "cell_type": "markdown",
   "id": "f5b5fb6f-e579-4f90-b8d8-5312a8ae39e2",
   "metadata": {},
   "source": [
    "## CpG context"
   ]
  },
  {
   "cell_type": "code",
   "execution_count": null,
   "id": "b670efe8-80e1-45e1-a63c-15806386dc3c",
   "metadata": {},
   "outputs": [],
   "source": [
    "# files = list.files('bismark/',pattern='srt.bam',full.names = TRUE) %>% as.list"
   ]
  },
  {
   "cell_type": "code",
   "execution_count": null,
   "id": "3e42808c-a486-459b-b6cf-35a2ed1c1e80",
   "metadata": {
    "tags": []
   },
   "outputs": [],
   "source": [
    "# meth = methylKit::processBismarkAln(\n",
    "#     files,\n",
    "#     sample.id=list('DMSO',\"Decitabine\"),\n",
    "#     assembly=\"hg38\",\n",
    "#     save.folder='methylKit',\n",
    "#     save.context=NULL,\n",
    "#     read.context=\"CpG\",\n",
    "#     nolap=FALSE,mincov=10,minqual=20,phred64=FALSE,\n",
    "#     treatment=c(0,1)\n",
    "# )"
   ]
  },
  {
   "cell_type": "code",
   "execution_count": null,
   "id": "9a94cdc8-f7d2-46f1-b654-2c626a4aca79",
   "metadata": {},
   "outputs": [],
   "source": [
    "# saveRDS(meth, file = \"methylKit/meth.rds\")"
   ]
  },
  {
   "cell_type": "code",
   "execution_count": null,
   "id": "a9c71ab6-6e49-4ea6-abe6-dd8145bc6e35",
   "metadata": {},
   "outputs": [],
   "source": [
    "meth <- readRDS(file = \"methylKit/meth.rds\")"
   ]
  },
  {
   "cell_type": "markdown",
   "id": "1f048665-606a-4374-b3ca-0edc4103085e",
   "metadata": {},
   "source": [
    "#### Descriptive statistics on samples"
   ]
  },
  {
   "cell_type": "code",
   "execution_count": null,
   "id": "6f794a64-b0f0-4b69-a463-23ecfc75ccee",
   "metadata": {},
   "outputs": [],
   "source": [
    "pdf(file = \"plots/MethylationStatsDMSO.pdf\",   \n",
    "    # The directory you want to save the file in\n",
    "    width = 5, # The width of the plot in inches\n",
    "    height = 5) # The height of the plot in inches\n",
    "\n",
    "getMethylationStats(meth[[1]],plot=TRUE,both.strands=FALSE)\n",
    "\n",
    "# Step 3: Run dev.off() to create the file!\n",
    "dev.off()"
   ]
  },
  {
   "cell_type": "code",
   "execution_count": null,
   "id": "95ace511-c29d-46da-88fa-e8b55ba82ac7",
   "metadata": {},
   "outputs": [],
   "source": [
    "pdf(file = \"plots/MethylationStatsDAC.pdf\",   \n",
    "    # The directory you want to save the file in\n",
    "    width = 5, # The width of the plot in inches\n",
    "    height = 5) # The height of the plot in inches\n",
    "\n",
    "getMethylationStats(meth[[2]],plot=TRUE,both.strands=FALSE)\n",
    "\n",
    "# Step 3: Run dev.off() to create the file!\n",
    "dev.off()"
   ]
  },
  {
   "cell_type": "markdown",
   "id": "eb9cc47c-f451-4800-bcb0-d2c5ef48d1e7",
   "metadata": {},
   "source": [
    "#### Filtering samples based on read coverage"
   ]
  },
  {
   "cell_type": "code",
   "execution_count": null,
   "id": "95d16920-8fac-4d03-98d0-772402d021d7",
   "metadata": {},
   "outputs": [],
   "source": [
    "meth1 = filtere_obj(meth)"
   ]
  },
  {
   "cell_type": "markdown",
   "id": "4655981c-2e86-4fa6-b06f-a49259f1fe73",
   "metadata": {},
   "source": [
    "#### Merging samples"
   ]
  },
  {
   "cell_type": "code",
   "execution_count": null,
   "id": "61fe8a45-0de0-47eb-bb63-086a470fa7d5",
   "metadata": {},
   "outputs": [],
   "source": [
    "meth_merged=methylKit::unite(meth1, destrand=FALSE)"
   ]
  },
  {
   "cell_type": "code",
   "execution_count": null,
   "id": "055e8bfe-83ae-43fe-b92d-b9bc4e963a02",
   "metadata": {},
   "outputs": [],
   "source": [
    "pdf(file = \"plots/MethylationCorrelation.pdf\",   \n",
    "    # The directory you want to save the file in\n",
    "    width = 5, # The width of the plot in inches\n",
    "    height = 5) # The height of the plot in inches\n",
    "\n",
    "getCorrelation(meth_merged,plot=TRUE)\n",
    "\n",
    "# Step 3: Run dev.off() to create the file!\n",
    "dev.off()"
   ]
  },
  {
   "cell_type": "markdown",
   "id": "3b5c4d48-1ac2-4b71-a669-7397302a1a45",
   "metadata": {},
   "source": [
    "### tileMethylCounts"
   ]
  },
  {
   "cell_type": "code",
   "execution_count": null,
   "id": "fb28d72c-cf32-4eae-8368-dd8f704d6447",
   "metadata": {},
   "outputs": [],
   "source": [
    "tiles = tileMethylCounts(meth,win.size=1000,step.size=1000,cov.bases=0)"
   ]
  },
  {
   "cell_type": "code",
   "execution_count": null,
   "id": "541e746b-1d7c-42a4-aa44-d53a4c85a18e",
   "metadata": {},
   "outputs": [],
   "source": [
    "tiles_merged=methylKit::unite(tiles, destrand=FALSE)"
   ]
  },
  {
   "cell_type": "code",
   "execution_count": null,
   "id": "a37bed13-b80f-4166-a01b-2e2bd808b68c",
   "metadata": {},
   "outputs": [],
   "source": [
    "# tiles_merged %>% head"
   ]
  },
  {
   "cell_type": "markdown",
   "id": "71257361-8a1f-4a53-af70-d15341c0fb2f",
   "metadata": {
    "tags": []
   },
   "source": [
    "## Prepare genome annotations \n",
    "https://support.bioconductor.org/p/126514/"
   ]
  },
  {
   "cell_type": "code",
   "execution_count": null,
   "id": "33664fe0-45fc-4325-a1b2-d1597b5c3dec",
   "metadata": {},
   "outputs": [],
   "source": [
    "# GTF = '~/genomes/hg38/gencode.v34/gencode.v34.annotation.gtf'\n",
    "BED12 = '~/genomes/hg38/gencode.v34/gencode.v34.annotation.bed'\n",
    "# gtf <- rtracklayer::import(GTF)\n",
    "# gene2name <- gtf[gtf$type == \"gene\"] %>% data.frame %>% \n",
    "#     column_to_rownames('gene_id') %>% \n",
    "#     dplyr::select('gene_name')"
   ]
  },
  {
   "cell_type": "code",
   "execution_count": null,
   "id": "649aa461-81f3-44e2-aaf2-084314a4e298",
   "metadata": {},
   "outputs": [],
   "source": [
    "gtf = gffToGRanges(BED12)"
   ]
  },
  {
   "cell_type": "code",
   "execution_count": null,
   "id": "7f851d12-d5dd-49ba-ac8b-3787bf63a6f6",
   "metadata": {},
   "outputs": [],
   "source": [
    "rtracklayer::export.bed(myDiff_gr,con='delta_DNAme_table.bed')"
   ]
  },
  {
   "cell_type": "code",
   "execution_count": null,
   "id": "a3e0263b-122c-41d1-880d-e42d92c712b3",
   "metadata": {},
   "outputs": [],
   "source": [
    "genes_ol <- findOverlaps(\n",
    "    gtf[gtf$type == \"gene\"],\n",
    "    myDiff_gr\n",
    ")"
   ]
  },
  {
   "cell_type": "code",
   "execution_count": null,
   "id": "07f7a791-3b5b-4e17-b630-1c8244439305",
   "metadata": {},
   "outputs": [],
   "source": [
    "myDiff_gr[queryHits(gtf_ol)]"
   ]
  },
  {
   "cell_type": "code",
   "execution_count": null,
   "id": "65ba9c9a-02e8-45d2-8377-ec5767de9b55",
   "metadata": {},
   "outputs": [],
   "source": [
    "myDiff_gtf_ann = cbind(\n",
    "    gtf[queryHits(gtf_ol)] %>% data.frame,\n",
    "    myDiff_gr[queryHits(gtf_ol)] %>% data.frame %>% dplyr::rename(cpg_start=start,cpg_end=end,cpg_chr=chr)\n",
    ")\n",
    "\n",
    "# myDiff_gtf_ann_gr = myDiff_tiles_ann %>% GRanges"
   ]
  },
  {
   "cell_type": "code",
   "execution_count": null,
   "id": "a9e5863c-5cc3-427d-9f11-5e381b2b8b92",
   "metadata": {},
   "outputs": [],
   "source": [
    "myDiff_gtf_ann"
   ]
  },
  {
   "cell_type": "code",
   "execution_count": null,
   "id": "f00825ad-730f-4abd-a116-239c3beaecb9",
   "metadata": {},
   "outputs": [],
   "source": []
  },
  {
   "cell_type": "markdown",
   "id": "fa2215c3-e982-4917-a918-85abb119c81a",
   "metadata": {},
   "source": [
    "### Finding differentially methylated bases or regions"
   ]
  },
  {
   "cell_type": "markdown",
   "id": "e77a3fd2-5bee-4b71-8a26-278100aefaf1",
   "metadata": {},
   "source": [
    "Download data from UCSC genome browser\n",
    "\n",
    "https://nbis-workshop-epigenomics.readthedocs.io/en/latest/content/tutorials/methylationSeq/Seq_Tutorial.html#cpg-annotation\n",
    "\n",
    "then, https://www.bioconductor.org/packages/devel/bioc/vignettes/methylKit/inst/doc/methylKit.html#4_Annotating_differentially_methylated_bases_or_regions"
   ]
  },
  {
   "cell_type": "markdown",
   "id": "d3accd9d-2c76-49c1-93ff-cbe6f9d431d9",
   "metadata": {},
   "source": [
    "> https://www.nature.com/articles/s42003-021-01661-w#MOESM2\n",
    "\n",
    "> Promoters are defined as 2 kb flanking the transcription start sites of genes (gencode basic). CGI\n",
    "promoters (orange) were obtained by merging intervals of promoters with overlapping\n",
    "CGIs (UCSC) while the residual promoters are defined as non-CGI promoters (violet).\n",
    "CGIs not overlapping with any promoter regions were defined as orphan CGIs (yellow).\n",
    "Exons (green) and introns (red) are obtained by subtracting CGI promoters and nonCGI promoters from gene exons and introns. All other regions are defined as intergenic\n",
    "(blue)."
   ]
  },
  {
   "cell_type": "code",
   "execution_count": null,
   "id": "7ca6957e-a816-4d3a-aa94-c35983406eed",
   "metadata": {},
   "outputs": [],
   "source": [
    "# First load the annotation data; i.e the coordinates of promoters, TSS, intron and exons\n",
    "gene.obj=readTranscriptFeatures(\"genes.bed.gz\")"
   ]
  },
  {
   "cell_type": "code",
   "execution_count": null,
   "id": "cdd8ec34-4d07-422a-91a0-78fffd277a9d",
   "metadata": {},
   "outputs": [],
   "source": [
    "myDiff <- calculateDiffMeth(meth_merged,\n",
    "                            overdispersion = \"MN\",\n",
    "                            adjust=\"BH\")"
   ]
  },
  {
   "cell_type": "code",
   "execution_count": null,
   "id": "edba2acc-e89e-4717-8d1f-5d4192e90d8a",
   "metadata": {},
   "outputs": [],
   "source": [
    "# get hyper methylated bases and order by qvalue\n",
    "myDiff25p.hyper <- getMethylDiff(myDiff,\n",
    "                              difference=25,\n",
    "                              qvalue=0.01,\n",
    "                              type=\"hyper\")\n",
    "myDiff25p.hyper <- myDiff25p.hyper[order(myDiff25p.hyper$qvalue),]\n",
    "\n",
    "# get hypo methylated bases and order by qvalue\n",
    "myDiff25p.hypo <- getMethylDiff(myDiff,\n",
    "                             difference=25,\n",
    "                             qvalue=0.01,\n",
    "                             type=\"hypo\")\n",
    "myDiff25p.hypo <- myDiff25p.hypo[order(myDiff25p.hypo$qvalue),]\n",
    "\n",
    "# get all differentially methylated bases and order by qvalue\n",
    "myDiff25p <- getMethylDiff(myDiff,\n",
    "                        difference=25,\n",
    "                        qvalue=0.01)\n",
    "myDiff25p <- myDiff25p[order(myDiff25p$qvalue),]"
   ]
  },
  {
   "cell_type": "code",
   "execution_count": null,
   "id": "d0c43a8b-9bc2-4454-8804-07780a5c8d06",
   "metadata": {},
   "outputs": [],
   "source": [
    "# Annotate hypermethylated CpGs (\"target\") with promoter/exon/intron\n",
    "# information (\"feature\"). This function operates on GRanges objects, so we # first coerce the methylKit object to GRanges.\n",
    "myDiff25p.anot <- annotateWithGeneParts(target = as(myDiff25p,\"GRanges\"),feature = gene.obj)"
   ]
  },
  {
   "cell_type": "code",
   "execution_count": null,
   "id": "13ec86b1-d930-4a08-966d-5ce21a6b9c54",
   "metadata": {},
   "outputs": [],
   "source": [
    "# Summary of target set annotation\n",
    "myDiff25p.anot"
   ]
  },
  {
   "cell_type": "code",
   "execution_count": null,
   "id": "a20f9531-44bb-42fe-aeed-4edd0c300790",
   "metadata": {},
   "outputs": [],
   "source": [
    "# This can also be summarized for all differentially methylated CpGs\n",
    "plotTargetAnnotation(myDiff25p.hyper.anot, main = \"Differential Hypo Methylation Annotation\")"
   ]
  },
  {
   "cell_type": "markdown",
   "id": "1a092e9a-4bc8-4454-930d-084c5000fe9a",
   "metadata": {},
   "source": [
    "### getAssociationWithTSS"
   ]
  },
  {
   "cell_type": "code",
   "execution_count": null,
   "id": "1d1d4b4f-feac-4918-857e-ecb193e65905",
   "metadata": {},
   "outputs": [],
   "source": [
    "# View the distance to the nearest Transcription Start Site; the target.row column in the output indicates the row number in the initial target set\n",
    "dist_tss <- getAssociationWithTSS(myDiff25p.anot)\n",
    "# head(dist_tss)"
   ]
  },
  {
   "cell_type": "code",
   "execution_count": null,
   "id": "9d27f9b4-266e-4fec-b458-30b8bdcbe09e",
   "metadata": {},
   "outputs": [],
   "source": [
    "# See whether the differentially methylated CpGs are within promoters,introns or exons; the order is the same as the target set\n",
    "# getMembers(myDiff25p.anot)"
   ]
  },
  {
   "cell_type": "code",
   "execution_count": null,
   "id": "3619e599-75b1-4962-9b5d-7d81c5522170",
   "metadata": {},
   "outputs": [],
   "source": []
  },
  {
   "cell_type": "code",
   "execution_count": null,
   "id": "ba096592-b092-4459-8014-d35f5149312f",
   "metadata": {},
   "outputs": [],
   "source": [
    "# Load the CpG info\n",
    "cpg_anot <- readFeatureFlank(\"CpG_islands.bed.gz\", feature.flank.name = c(\"CpGi\", \"shores\"), flank=2000)\n",
    "diffCpGann <- annotateWithFeatureFlank(as(myDiff25p,\"GRanges\"), feature = cpg_anot$CpGi, \n",
    "                                       flank = cpg_anot$shores, feature.name = \"CpGi\", \n",
    "                                       flank.name = \"shores\")"
   ]
  },
  {
   "cell_type": "code",
   "execution_count": null,
   "id": "d89beb6c-c5e7-4d45-8e85-c1f03a2a2c81",
   "metadata": {},
   "outputs": [],
   "source": [
    "# # See whether the CpG in myDiff25p belong to a CpG Island or Shore\n",
    "# head(getMembers(diffCpGann))"
   ]
  },
  {
   "cell_type": "code",
   "execution_count": null,
   "id": "7bde5d2d-5661-41ab-9a0e-b721387442a8",
   "metadata": {},
   "outputs": [],
   "source": [
    "# This can also be summarized for all differentially methylated CpGs\n",
    "plotTargetAnnotation(diffCpGann, main = \"Differential Methylation Annotation\")"
   ]
  },
  {
   "cell_type": "markdown",
   "id": "fc2fbbd8-a4ee-476c-8357-56714c3b6441",
   "metadata": {},
   "source": [
    "## Differentially Methylated Regions\n"
   ]
  },
  {
   "cell_type": "code",
   "execution_count": null,
   "id": "f8ec804a-97ab-4c60-9c56-8e51cad33d26",
   "metadata": {
    "tags": []
   },
   "outputs": [],
   "source": [
    "# Summarize the original object counts over a certain region, here the CpG Islands\n",
    "# You can ignore the warnings here...\n",
    "myobj_islands <- regionCounts(meth, cpg_anot$CpGi)"
   ]
  },
  {
   "cell_type": "code",
   "execution_count": null,
   "id": "331b1686-ab5a-425a-a9c5-ead0d0e4521e",
   "metadata": {},
   "outputs": [],
   "source": [
    "# Filter the summarized counts by coverage\n",
    "myobj_islands_filt <- filterByCoverage(myobj_islands,\n",
    "                      lo.count=10,\n",
    "                      lo.perc=NULL,\n",
    "                      hi.count=NULL,\n",
    "                      hi.perc=99.9)"
   ]
  },
  {
   "cell_type": "code",
   "execution_count": null,
   "id": "105f277e-5cb5-4442-b111-42b9f1428ff5",
   "metadata": {},
   "outputs": [],
   "source": [
    "# Perform simple normalization\n",
    "myobj_islands_filt_norm <- normalizeCoverage(myobj_islands_filt, method = \"median\")"
   ]
  },
  {
   "cell_type": "code",
   "execution_count": null,
   "id": "4ce037c5-6727-48ae-a3fb-1db94f95d629",
   "metadata": {},
   "outputs": [],
   "source": [
    "# # Merge the samples again\n",
    "meth_islands <- methylKit::unite(myobj_islands_filt_norm, destrand=FALSE)"
   ]
  },
  {
   "cell_type": "code",
   "execution_count": null,
   "id": "20be30c2-61ed-4f9a-be62-957ce1a63e3e",
   "metadata": {},
   "outputs": [],
   "source": [
    "# Test for differential methylation... This might take a few minutes.\n",
    "myDiff_islands <- calculateDiffMeth(meth_islands)\n",
    "# Rank by significance\n",
    "myDiff_islands <- myDiff_islands[order(myDiff_islands$qvalue),]\n",
    "# get all differentially methylated CpG Islands\n",
    "myDiff_islands_25p <- getMethylDiff(myDiff_islands,difference=25,qvalue=0.01)"
   ]
  },
  {
   "cell_type": "code",
   "execution_count": null,
   "id": "0e5d7e4a-9b92-4d5a-a4ae-210afb30b4ac",
   "metadata": {},
   "outputs": [],
   "source": [
    "myDiff_islands_25p_ann <- annotateWithGeneParts(as((myDiff_islands_25p), \"GRanges\"), gene.obj)"
   ]
  },
  {
   "cell_type": "code",
   "execution_count": null,
   "id": "35bde94b-e832-4261-9e4b-9dd5dd3424f6",
   "metadata": {},
   "outputs": [],
   "source": [
    "myDiff_islands_ann <- annotateWithGeneParts(as((myDiff_islands), \"GRanges\"), gene.obj)"
   ]
  },
  {
   "cell_type": "code",
   "execution_count": null,
   "id": "8efd0590-8e7f-4441-8632-389c76916c42",
   "metadata": {},
   "outputs": [],
   "source": [
    "# # View the distance to the nearest Transcription Start Site; the target.row column indicates the row number in myDiff_islands_25p\n",
    "# head(getAssociationWithTSS(myDiff_islands_25p_ann))"
   ]
  },
  {
   "cell_type": "code",
   "execution_count": null,
   "id": "c60f48b5-e3ec-4685-977e-9897c6888bcf",
   "metadata": {},
   "outputs": [],
   "source": [
    "myDiff_islands_25p_ann <- annotateWithGeneParts(as((myDiff_islands_25p), \"GRanges\"), gene.obj)\n",
    "# View the distance to the nearest Transcription Start Site; the target.row column indicates the row number in myDiff_islands_25p\n",
    "head(getAssociationWithTSS(myDiff_islands_25p_ann))"
   ]
  },
  {
   "cell_type": "code",
   "execution_count": null,
   "id": "639f7bb8-4f69-4b10-a20a-6a7c5d0248d3",
   "metadata": {},
   "outputs": [],
   "source": [
    "myDiff_islands %>% data.frame %>% plot_hyperhypo(5,0.05,title='myDiff_islands_25p') # +\n",
    "    # scale_y_sqrt(limits=c(0,100))"
   ]
  },
  {
   "cell_type": "code",
   "execution_count": null,
   "id": "42e4b4a9-4473-41e8-b849-30e4aaa767fe",
   "metadata": {},
   "outputs": [],
   "source": []
  },
  {
   "cell_type": "code",
   "execution_count": null,
   "id": "1d9cea64-1845-4a1c-853f-cd969ead64b7",
   "metadata": {},
   "outputs": [],
   "source": []
  },
  {
   "cell_type": "code",
   "execution_count": null,
   "id": "a89daeb4-12e2-43fd-8290-8e21fbd20510",
   "metadata": {},
   "outputs": [],
   "source": []
  },
  {
   "cell_type": "code",
   "execution_count": null,
   "id": "debeb4bc-3daf-4d25-ba9c-905c90cd16ad",
   "metadata": {},
   "outputs": [],
   "source": []
  },
  {
   "cell_type": "code",
   "execution_count": null,
   "id": "ae6f0dd8-33a9-4bb5-a3fe-36f98306f36d",
   "metadata": {},
   "outputs": [],
   "source": []
  },
  {
   "cell_type": "code",
   "execution_count": null,
   "id": "7bc861b7-0e9b-4ffd-97a8-0378d6d7383d",
   "metadata": {},
   "outputs": [],
   "source": [
    "myDiff %>% as.data.frame %>%\n",
    "    write.table(file = \"delta_DNAme_bases_table.txt\", sep = \"\\t\",row.names = FALSE,quote=FALSE)"
   ]
  },
  {
   "cell_type": "code",
   "execution_count": null,
   "id": "815f30ae-bbcf-4ffb-9fc1-bd27d8ef2d1d",
   "metadata": {},
   "outputs": [],
   "source": []
  },
  {
   "cell_type": "code",
   "execution_count": null,
   "id": "5605a93d-742e-42ae-9a79-d0a16342c21d",
   "metadata": {},
   "outputs": [],
   "source": [
    "myDiff_gr = myDiff %>% GRanges"
   ]
  },
  {
   "cell_type": "code",
   "execution_count": null,
   "id": "01ea2cf1-2062-4ccf-b450-7eeb063ba148",
   "metadata": {},
   "outputs": [],
   "source": [
    "myDiff_tiles=calculateDiffMeth(tiles_merged)"
   ]
  },
  {
   "cell_type": "markdown",
   "id": "6eb6528d-b481-4533-a855-d3150dd0a64e",
   "metadata": {},
   "source": [
    "### Annotating differential methylation events \n",
    "https://www.biostars.org/p/436554/"
   ]
  },
  {
   "cell_type": "code",
   "execution_count": null,
   "id": "82e8dabe-7e6d-4971-8b56-656d69d423e5",
   "metadata": {},
   "outputs": [],
   "source": [
    "# Gene annotation\n",
    "meth_merged_ann = cbind(meth_merged,nearestTSS(meth_merged$chr, meth_merged$start) %>% rename(tss.strand=strand))"
   ]
  },
  {
   "cell_type": "code",
   "execution_count": null,
   "id": "b9dc30da-386c-4333-8b9b-8ae86b1d64ea",
   "metadata": {},
   "outputs": [],
   "source": [
    "# Gene annotation\n",
    "myDiffTop_ann = cbind(myDiffTop,nearestTSS(myDiffTop$chr, myDiffTop$start) %>% rename(tss.strand=strand)) %>% dplyr::select(!c(gene_id,width))"
   ]
  },
  {
   "cell_type": "code",
   "execution_count": null,
   "id": "5e378f63-dca2-4ca1-ae36-832578ebacb1",
   "metadata": {},
   "outputs": [],
   "source": [
    "myDiffTop_ann %>% head"
   ]
  },
  {
   "cell_type": "code",
   "execution_count": null,
   "id": "b35547a6-fa59-4480-b345-1a6eb478d690",
   "metadata": {},
   "outputs": [],
   "source": []
  },
  {
   "cell_type": "code",
   "execution_count": null,
   "id": "9547fc58-f34c-46fe-bf2f-91a87cecd3b6",
   "metadata": {},
   "outputs": [],
   "source": [
    "tiles_merged_ann = cbind(tiles_merged,nearestTSS(tiles_merged$chr, tiles_merged$start) %>% rename(tss.strand=strand))"
   ]
  },
  {
   "cell_type": "code",
   "execution_count": null,
   "id": "6648230f-16bb-4781-8825-b758bc95091e",
   "metadata": {},
   "outputs": [],
   "source": [
    "# Gene annotation\n",
    "myDiff_tiles_ann = cbind(myDiff_tiles,nearestTSS(myDiff_tiles$chr, myDiff_tiles$start) %>% rename(tss.strand=strand)) %>% dplyr::select(!c(gene_id,width))"
   ]
  },
  {
   "cell_type": "code",
   "execution_count": null,
   "id": "210b038e-f62a-49a6-b99b-7b9d2abfc867",
   "metadata": {},
   "outputs": [],
   "source": [
    "myDiff_tiles_ann %>% dplyr::filter(symbol %in% c('BCL2') & pvalue < 0.05)"
   ]
  },
  {
   "cell_type": "code",
   "execution_count": null,
   "id": "6e0bc36c-401c-4256-ad28-dcdb39fb5bdc",
   "metadata": {},
   "outputs": [],
   "source": [
    "myDiff_tiles_ann %>% as.data.frame %>% \n",
    "    write.table(file = \"delta_DNAme_table.txt\", sep = \"\\t\",row.names = FALSE,quote=FALSE)"
   ]
  },
  {
   "cell_type": "code",
   "execution_count": null,
   "id": "fdc917a6-473c-47ef-8c9f-430c78752b0b",
   "metadata": {},
   "outputs": [],
   "source": []
  },
  {
   "cell_type": "code",
   "execution_count": null,
   "id": "1335575e-9751-498a-9ea0-cdf90be5f62f",
   "metadata": {},
   "outputs": [],
   "source": []
  },
  {
   "cell_type": "code",
   "execution_count": null,
   "id": "a475b53e-ac6f-43f6-ab4a-80032ebc9e1e",
   "metadata": {},
   "outputs": [],
   "source": []
  },
  {
   "cell_type": "code",
   "execution_count": null,
   "id": "eaaf3ad5-90c4-4b78-a819-79ad3fdf8f5a",
   "metadata": {},
   "outputs": [],
   "source": [
    "vol = myDiff_tiles_ann %>% plot_hyperhypo(5,0.01,title='Bisulfite-seq\\nDecitabine vs. DMSO',x_lim=c(-110,110)) +\n",
    "    scale_y_sqrt(limits=c(0,20))"
   ]
  },
  {
   "cell_type": "code",
   "execution_count": null,
   "id": "8db0c7a6-e780-4f1c-9cd6-dcd5778ce6fd",
   "metadata": {},
   "outputs": [],
   "source": [
    "vol"
   ]
  },
  {
   "cell_type": "code",
   "execution_count": null,
   "id": "809a2486-2d97-4894-83d5-a61b52045b00",
   "metadata": {},
   "outputs": [],
   "source": [
    "ggsave('plots/diff-DNAme-volcano.pdf',vol,width=8,height=7)"
   ]
  },
  {
   "cell_type": "code",
   "execution_count": null,
   "id": "524b28d4-5046-47c3-a2ba-24e8b4c5f76c",
   "metadata": {},
   "outputs": [],
   "source": []
  },
  {
   "cell_type": "markdown",
   "id": "071f5995-e1ce-460f-940b-2495fbcd22e4",
   "metadata": {},
   "source": [
    "#### Finding differentially methylated promoters"
   ]
  },
  {
   "cell_type": "code",
   "execution_count": null,
   "id": "74b91238-d682-4fc1-b48b-fc4555346795",
   "metadata": {},
   "outputs": [],
   "source": [
    "# PromCpG <- findOverlaps(\n",
    "#     myDiff_tiles %>% GRanges,\n",
    "#     myDiff_tiles_ann %>% dplyr::filter(distance > -2500 & distance < 2500) %>% GRanges\n",
    "# )"
   ]
  },
  {
   "cell_type": "code",
   "execution_count": null,
   "id": "5d62c8a8-4931-4e87-b65c-f036af0205a0",
   "metadata": {},
   "outputs": [],
   "source": [
    "res_promoters = myDiff_tiles_ann %>% dplyr::filter(distance > -2500 & distance < 2500) #%>% GRanges"
   ]
  },
  {
   "cell_type": "code",
   "execution_count": null,
   "id": "4019b8e2-b28c-4a95-86db-4cdcfe0d815f",
   "metadata": {},
   "outputs": [],
   "source": [
    "# res_promoters %>% as.data.frame %>% \n",
    "#     write.table(file = \"meth_prmoters_diff.txt\", sep = \"\\t\",row.names = FALSE,quote=FALSE)"
   ]
  },
  {
   "cell_type": "code",
   "execution_count": null,
   "id": "6bc77d32-63a4-4b5f-a54c-acdbd9b71f59",
   "metadata": {},
   "outputs": [],
   "source": [
    "# res_promoters$symbol %>% unique %>% length == res_promoters$symbol %>% length"
   ]
  },
  {
   "cell_type": "code",
   "execution_count": null,
   "id": "13b88dfd-9d80-47f9-aa0c-fb3c052e62e6",
   "metadata": {},
   "outputs": [],
   "source": [
    "# # labels = res_promoters[(abs(res_promoters$meth.diff) > 40) & (res_promoters$pvalue < 0.001),] %>% rownames\n",
    "\n",
    "# res_promoters %>% plot_Volcano(20,0.05,title='CpG in Promoter\\nDecitabine vs. DMSO') \n",
    "\n",
    "# #+ \n",
    "#         # geom_point(\n",
    "#         #     data = res_promoters[labels,],\n",
    "#         #     aes(x = meth.diff, y = -log10(pvalue)), \n",
    "#         #     shape = 21, size = 3, color = \"grey40\", fill = \"red3\") + \n",
    "#         # geom_label_repel(\n",
    "#         #     data = res_promoters[labels,],\n",
    "#         #     # data = res_promoters %>% filter(symbol %in% labels), \n",
    "#         #     aes(label = symbol), box.padding = 1, max.overlaps = Inf)"
   ]
  },
  {
   "cell_type": "code",
   "execution_count": null,
   "id": "8e795e4d-e7a8-4d18-a5ca-d6fc02722782",
   "metadata": {},
   "outputs": [],
   "source": [
    "res_promoters %>% plot_hyperhypo(5,0.05,title='TSS 2.5kb\\nDecitabine vs. DMSO',x_lim=c(-110,110)) +\n",
    "    scale_y_sqrt(limits=c(0,20))"
   ]
  },
  {
   "cell_type": "code",
   "execution_count": null,
   "id": "c7cef3a9-4f80-4843-a0f8-67b894c697bb",
   "metadata": {},
   "outputs": [],
   "source": [
    "# myDiffTop_ann[myDiffTop_ann$symbol %in% RNAme_hypo,] %>% plot_hyperhypo(meth.diff.cutoff,pvalue.cutoff,title='Hypo RNAme')\n",
    "# + \n",
    "    # geom_point(\n",
    "    #     data = res_promoters %>% filter(\n",
    "    #             abs(meth.diff) >= meth.diff.cutoff, \n",
    "    #             pvalue < pvalue.cutoff), \n",
    "    #     aes(x = meth.diff, y = -log10(pvalue)),\n",
    "    #     shape = 21, size = 3, color = \"black\", fill = \"red1\"\n",
    "    # ) + \n",
    "    #     geom_rug(\n",
    "    #         data = res_promoters %>% filter(\n",
    "    #             abs(meth.diff) >= meth.diff.cutoff, \n",
    "    #             pvalue < pvalue.cutoff), \n",
    "    #         sides = \"b\", colour= 'red1')\n",
    "\n",
    "# ggsave('diff-DNAme-volcano.pdf',width=8,height=7)"
   ]
  },
  {
   "cell_type": "markdown",
   "id": "b97ac966-11bd-4097-976b-c76503e439be",
   "metadata": {},
   "source": [
    "#### Finding differentially methylated enhancers"
   ]
  },
  {
   "cell_type": "code",
   "execution_count": null,
   "id": "a45f6edf-fa3c-471e-ac5a-c230a3c1d468",
   "metadata": {},
   "outputs": [],
   "source": [
    "SupEnh = read.csv('SE_02_1028_SE_hg38.bed',sep='\\t',header=T) %>% GRanges\n",
    "\n",
    "SupEnh_ol <- findOverlaps(\n",
    "    SupEnh,\n",
    "    myDiff_tiles_ann %>% GRanges\n",
    ")\n",
    "\n",
    "myDiff_tiles_ann_gr = myDiff_tiles_ann %>% GRanges"
   ]
  },
  {
   "cell_type": "code",
   "execution_count": null,
   "id": "8f1ea4d0-07a1-484d-8070-7d54fa8e9710",
   "metadata": {},
   "outputs": [],
   "source": [
    "ls "
   ]
  },
  {
   "cell_type": "code",
   "execution_count": null,
   "id": "939cabf0-2943-4c56-8c3e-25880bcfc1a8",
   "metadata": {},
   "outputs": [],
   "source": [
    "SupEnhCpG = cbind(\n",
    "    myDiff_tiles_ann_gr[queryHits(SupEnh_ol)] %>% data.frame, \n",
    "    SupEnh[queryHits(SupEnh_ol)] %>% data.frame %>% dplyr::rename(se_start=start,se_end=end,se_chr=chr)\n",
    ")"
   ]
  },
  {
   "cell_type": "code",
   "execution_count": null,
   "id": "17aace68-50cf-4a46-b491-f4f0eec0977b",
   "metadata": {},
   "outputs": [],
   "source": [
    "SupEnhCpG %>% dplyr::select(start,end,se_start,se_end)"
   ]
  },
  {
   "cell_type": "markdown",
   "id": "d32089e2-6de4-46d3-89ca-e6c632494323",
   "metadata": {
    "tags": []
   },
   "source": [
    "#### Annotating differentially methylated bases or regions"
   ]
  },
  {
   "cell_type": "code",
   "execution_count": null,
   "id": "bb83a0f6-00c6-4844-b1b4-cc0bb97787ef",
   "metadata": {},
   "outputs": [],
   "source": [
    "gene.obj = readTranscriptFeatures('methylKit/gene_annotation.bed')"
   ]
  },
  {
   "cell_type": "code",
   "execution_count": null,
   "id": "8e0244e6-e602-4402-95e3-0f5b9a0b8711",
   "metadata": {},
   "outputs": [],
   "source": [
    "annotateWithGeneParts(as(myDiffTop,\"GRanges\"),gene.obj)"
   ]
  },
  {
   "cell_type": "markdown",
   "id": "fa2cb21f-cb54-4e6d-be57-30e7bf4bf3cf",
   "metadata": {
    "tags": []
   },
   "source": [
    "#### Regional analysis\n"
   ]
  },
  {
   "cell_type": "markdown",
   "id": "da717d46-cda5-4406-ad73-f214c373dce3",
   "metadata": {},
   "source": [
    "> We can also summarize methylation information over a set of defined regions such as promoters or CpG islands. The function below summarizes the methylation information over a given set of promoter regions and outputs a methylRaw or methylRawList object depending on the input. We are using the output of genomation functions used above to provide the locations of promoters. For regional summary functions, we need to provide regions of interest as GRanges object.\n"
   ]
  },
  {
   "cell_type": "code",
   "execution_count": null,
   "id": "c5a8a1c4-84a1-4229-b39a-4da55cd5ef56",
   "metadata": {},
   "outputs": [],
   "source": [
    "promoters=regionCounts(myobj,gene.obj$promoters)\n",
    "\n",
    "head(promoters[[1]])\n"
   ]
  },
  {
   "cell_type": "markdown",
   "id": "f726ab27-ae0c-44f2-8e2e-f0303bf0b714",
   "metadata": {
    "tags": []
   },
   "source": [
    "#### Convenience functions for annotation objects\n"
   ]
  },
  {
   "cell_type": "code",
   "execution_count": null,
   "id": "a0e1bb35-1738-4ef8-ae8c-8c5685796e46",
   "metadata": {},
   "outputs": [],
   "source": [
    "diffAnn=annotateWithGeneParts(as(myDiff25p,\"GRanges\"),gene.obj)\n",
    "\n",
    "# target.row is the row number in myDiff25p\n",
    "head(getAssociationWithTSS(diffAnn))\n"
   ]
  },
  {
   "cell_type": "code",
   "execution_count": null,
   "id": "424ade48-1abf-41ad-898f-37bde2a1d751",
   "metadata": {},
   "outputs": [],
   "source": [
    "getTargetAnnotationStats(diffAnn,percentage=TRUE,precedence=TRUE)\n"
   ]
  },
  {
   "cell_type": "code",
   "execution_count": null,
   "id": "b7d64f8c-f7b3-4733-9882-d6652e9f4091",
   "metadata": {},
   "outputs": [],
   "source": [
    "plotTargetAnnotation(diffAnn,precedence=TRUE,\n",
    "    main=\"differential methylation annotation\")\n"
   ]
  },
  {
   "cell_type": "code",
   "execution_count": null,
   "id": "ebc97aa3-adb7-4024-9f62-bacbe1731bbb",
   "metadata": {},
   "outputs": [],
   "source": [
    "plotTargetAnnotation(diffCpGann,col=c(\"green\",\"gray\",\"white\"),\n",
    "       main=\"differential methylation annotation\")\n"
   ]
  },
  {
   "cell_type": "code",
   "execution_count": null,
   "id": "ebde5f80-86e4-442e-b8fb-1aa4ae214c5d",
   "metadata": {},
   "outputs": [],
   "source": [
    "getFeatsWithTargetsStats(diffAnn,percentage=TRUE)"
   ]
  },
  {
   "cell_type": "code",
   "execution_count": null,
   "id": "d7fe0891-d72f-4f21-9c9c-32d6222eb1cc",
   "metadata": {},
   "outputs": [],
   "source": []
  },
  {
   "cell_type": "code",
   "execution_count": null,
   "id": "dd13a65c-0e7a-4203-bc7d-7b1a1c6b9bd9",
   "metadata": {},
   "outputs": [],
   "source": []
  },
  {
   "cell_type": "code",
   "execution_count": null,
   "id": "79368af7-96fe-486d-83a8-98d35b37e0b2",
   "metadata": {},
   "outputs": [],
   "source": []
  },
  {
   "cell_type": "code",
   "execution_count": null,
   "id": "2331d5d8-51db-4621-96ed-b2df98016145",
   "metadata": {},
   "outputs": [],
   "source": [
    "sm = ScoreMatrix(target = cage, windows = promoters)\n",
    "\n",
    "heatMatrix(sm, xcoords = c(-1000, 1000))\n",
    "plotMeta(sm, xcoords = c(-1000, 1000))\n"
   ]
  },
  {
   "cell_type": "code",
   "execution_count": null,
   "id": "39d1f7a6-9bb0-45a2-8b10-d8fd0cdb18dc",
   "metadata": {},
   "outputs": [],
   "source": []
  },
  {
   "cell_type": "code",
   "execution_count": null,
   "id": "bc8d03bc-1518-4c3e-be6c-1449fc69bd0d",
   "metadata": {},
   "outputs": [],
   "source": []
  },
  {
   "cell_type": "code",
   "execution_count": null,
   "id": "2f7ae731-272e-4119-be7c-24fc3782ec41",
   "metadata": {},
   "outputs": [],
   "source": []
  },
  {
   "cell_type": "code",
   "execution_count": null,
   "id": "267d49bf-bdd9-4e45-883f-7f266ac05deb",
   "metadata": {},
   "outputs": [],
   "source": [
    "myDiffTop_ann"
   ]
  },
  {
   "cell_type": "code",
   "execution_count": null,
   "id": "2723823e-68c0-4526-b246-39d5d1cd38d8",
   "metadata": {},
   "outputs": [],
   "source": []
  },
  {
   "cell_type": "code",
   "execution_count": null,
   "id": "6e2ffd06-d50f-4341-ac9c-29908e2f13f4",
   "metadata": {},
   "outputs": [],
   "source": []
  },
  {
   "cell_type": "code",
   "execution_count": null,
   "id": "b068958c-ef16-48c7-8d7a-acbe3d1b0f92",
   "metadata": {},
   "outputs": [],
   "source": []
  },
  {
   "cell_type": "code",
   "execution_count": null,
   "id": "164dca90-b49d-421c-a70a-d176123d7f5b",
   "metadata": {},
   "outputs": [],
   "source": []
  },
  {
   "cell_type": "code",
   "execution_count": null,
   "id": "41d0174c-9c8f-48ef-a6a2-89a7f12a5059",
   "metadata": {},
   "outputs": [],
   "source": []
  },
  {
   "cell_type": "code",
   "execution_count": null,
   "id": "f058f126-a70f-40f6-8d87-9f086c534853",
   "metadata": {},
   "outputs": [],
   "source": [
    "> sessionInfo()"
   ]
  },
  {
   "cell_type": "markdown",
   "id": "3818168f-53c4-4067-b178-ebe78c9ebe40",
   "metadata": {},
   "source": [
    "# "
   ]
  },
  {
   "cell_type": "code",
   "execution_count": null,
   "id": "07f3a4c1-a2a9-418b-9289-2ac9d6ebdff1",
   "metadata": {},
   "outputs": [],
   "source": [
    "!date"
   ]
  }
 ],
 "metadata": {
  "kernelspec": {
   "display_name": "R [conda env:DNAme-DSS]",
   "language": "R",
   "name": "conda-env-DNAme-DSS-r"
  },
  "language_info": {
   "codemirror_mode": "r",
   "file_extension": ".r",
   "mimetype": "text/x-r-source",
   "name": "R",
   "pygments_lexer": "r",
   "version": "4.1.2"
  }
 },
 "nbformat": 4,
 "nbformat_minor": 5
}
