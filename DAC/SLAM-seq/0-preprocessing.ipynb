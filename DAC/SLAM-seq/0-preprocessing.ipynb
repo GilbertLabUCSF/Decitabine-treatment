{
 "cells": [
  {
   "cell_type": "markdown",
   "id": "5e7ff055-56bd-4959-a7ba-30348eac5621",
   "metadata": {},
   "source": [
    "### "
   ]
  },
  {
   "cell_type": "markdown",
   "id": "53aafd67-992b-4b47-abb3-1fa9b00a9d44",
   "metadata": {},
   "source": [
    "https://t-neumann.github.io/slamdunk/"
   ]
  },
  {
   "cell_type": "code",
   "execution_count": 28,
   "id": "821d23ad-eac3-4be0-82ab-8b179a1331b8",
   "metadata": {
    "tags": []
   },
   "outputs": [],
   "source": [
    "# !cat fastq/move.out"
   ]
  },
  {
   "cell_type": "code",
   "execution_count": 28,
   "id": "115a9c69-d0f9-404c-80d8-cecf215e5bee",
   "metadata": {
    "tags": []
   },
   "outputs": [
    {
     "name": "stdout",
     "output_type": "stream",
     "text": [
      "\u001b[0m\u001b[38;5;9mfastq/hl60_0_t_1_R1.fastq.gz\u001b[0m  \u001b[38;5;9mfastq/hl60_4_t_1_R1.fastq.gz\u001b[0m\n",
      "\u001b[38;5;9mfastq/hl60_0_t_2_R1.fastq.gz\u001b[0m  \u001b[38;5;9mfastq/hl60_4_t_2_R1.fastq.gz\u001b[0m\n",
      "\u001b[38;5;9mfastq/hl60_0_t_3_R1.fastq.gz\u001b[0m  \u001b[38;5;9mfastq/hl60_4_t_3_R1.fastq.gz\u001b[0m\n",
      "\u001b[38;5;9mfastq/hl60_0_u_1_R1.fastq.gz\u001b[0m  \u001b[38;5;9mfastq/hl60_4_u_1_R1.fastq.gz\u001b[0m\n",
      "\u001b[38;5;9mfastq/hl60_0_u_2_R1.fastq.gz\u001b[0m  \u001b[38;5;9mfastq/hl60_4_u_2_R1.fastq.gz\u001b[0m\n",
      "\u001b[38;5;9mfastq/hl60_0_u_3_R1.fastq.gz\u001b[0m  \u001b[38;5;9mfastq/hl60_4_u_3_R1.fastq.gz\u001b[0m\n",
      "\u001b[38;5;9mfastq/hl60_2_t_1_R1.fastq.gz\u001b[0m  \u001b[38;5;9mfastq/hl60_8_t_1_R1.fastq.gz\u001b[0m\n",
      "\u001b[38;5;9mfastq/hl60_2_t_2_R1.fastq.gz\u001b[0m  \u001b[38;5;9mfastq/hl60_8_t_2_R1.fastq.gz\u001b[0m\n",
      "\u001b[38;5;9mfastq/hl60_2_t_3_R1.fastq.gz\u001b[0m  \u001b[38;5;9mfastq/hl60_8_t_3_R1.fastq.gz\u001b[0m\n",
      "\u001b[38;5;9mfastq/hl60_2_u_1_R1.fastq.gz\u001b[0m  \u001b[38;5;9mfastq/hl60_8_u_1_R1.fastq.gz\u001b[0m\n",
      "\u001b[38;5;9mfastq/hl60_2_u_2_R1.fastq.gz\u001b[0m  \u001b[38;5;9mfastq/hl60_8_u_2_R1.fastq.gz\u001b[0m\n",
      "\u001b[38;5;9mfastq/hl60_2_u_3_R1.fastq.gz\u001b[0m  \u001b[38;5;9mfastq/hl60_8_u_3_R1.fastq.gz\u001b[0m\n"
     ]
    }
   ],
   "source": [
    "ls fastq/*fastq.gz"
   ]
  },
  {
   "cell_type": "code",
   "execution_count": 9,
   "id": "b8609b6d-8388-4a34-83f2-93051d61fcf2",
   "metadata": {
    "tags": []
   },
   "outputs": [],
   "source": [
    "!cat ~/genomes/hg38/gencode.v34/gencode.v34.annotation.gtf \\\n",
    "| bedparse gtf2bed - | bedparse 3pUTR - \\\n",
    "> ~/genomes/hg38/gencode.v34/gencode.v34.annotation.3pUTR.bed"
   ]
  },
  {
   "cell_type": "code",
   "execution_count": 26,
   "id": "a48dc198-5223-4a80-b4b8-be3fb3c476cc",
   "metadata": {
    "tags": []
   },
   "outputs": [],
   "source": [
    "# #rename \n",
    "# !for f in fastq/*fastq.gz; do o=${f/_S*_R1_001.fastq.gz/_R1.fastq.gz};b=`basename $o`; mv -v $f fastq/hl60_$b; done"
   ]
  },
  {
   "cell_type": "code",
   "execution_count": null,
   "id": "ff2152b1-d415-4861-b9b1-9244e1ad30f8",
   "metadata": {
    "tags": []
   },
   "outputs": [
    {
     "name": "stdout",
     "output_type": "stream",
     "text": [
      "slamdunk all\n",
      "Running slamDunk map for 24 files (20 threads)\n",
      "........................\n",
      "Creating output directory: output_slamdunk/filter\n",
      "Running slamDunk filter for 24 files (20 threads)\n",
      ".\n",
      "\n",
      "Creating output directory: output_slamdunk/snp\n",
      "Running slamDunk SNP for 24 files (10 threads)\n",
      ".......................\n",
      "Creating output directory: output_slamdunk/count\n",
      "Running slamDunk tcount for 24 files (20 threads)\n",
      "........................................"
     ]
    }
   ],
   "source": [
    "!slamdunk all \\\n",
    "    -r ~/genomes/hg38/gencode.v34/gencode.v34.transcripts.fa \\\n",
    "    -b ~/genomes/hg38/gencode.v34/gencode.v34.annotation.3pUTR.bed \\\n",
    "    -o output_slamdunk \\\n",
    "    -5 12 -n 100 \\\n",
    "    -t 20 -m \\\n",
    "    --skip-sam \\\n",
    "    fastq/*fastq.gz"
   ]
  },
  {
   "cell_type": "code",
   "execution_count": 17,
   "id": "187fa454-3f00-4d4f-b5cd-802d7efa8e6f",
   "metadata": {
    "tags": []
   },
   "outputs": [],
   "source": [
    "# !multiqc --help"
   ]
  },
  {
   "cell_type": "code",
   "execution_count": 21,
   "id": "1d06cfca-a904-41cb-bef1-14ad19537b56",
   "metadata": {
    "tags": []
   },
   "outputs": [],
   "source": [
    "# !alleyoop dedup -o output_slamdunk/filter/ -t 20 output_slamdunk/filter/*bam"
   ]
  },
  {
   "cell_type": "code",
   "execution_count": 40,
   "id": "ea688b51-20af-4cbc-a672-4328020d1e59",
   "metadata": {},
   "outputs": [
    {
     "name": "stdout",
     "output_type": "stream",
     "text": [
      "Running alleyoop merge for 24 files\n",
      "\n"
     ]
    }
   ],
   "source": [
    "!alleyoop merge -o output_slamdunk/counts.txt output_slamdunk/count/*_tcount.tsv"
   ]
  },
  {
   "cell_type": "code",
   "execution_count": null,
   "id": "37fc292c-21b0-407b-b88d-7febf7c05b62",
   "metadata": {},
   "outputs": [],
   "source": [
    "Column or expression used to summarize files (e.g. “TcReadCount / ReadCount”)\n"
   ]
  },
  {
   "cell_type": "code",
   "execution_count": 54,
   "id": "a4c3cfcb-7a2e-4e75-bdb4-0ca1c1eb357e",
   "metadata": {},
   "outputs": [
    {
     "name": "stdout",
     "output_type": "stream",
     "text": [
      "Running alleyoop merge for 24 files\n",
      "\n"
     ]
    }
   ],
   "source": [
    "!alleyoop merge -o output_slamdunk/counts.TcReadCount.txt -c TcReadCount output_slamdunk/count/*_tcount.tsv"
   ]
  },
  {
   "cell_type": "code",
   "execution_count": 55,
   "id": "aad6607c-13cd-47f6-a0e7-cb5fba2a5736",
   "metadata": {},
   "outputs": [
    {
     "name": "stdout",
     "output_type": "stream",
     "text": [
      "Running alleyoop merge for 24 files\n",
      "\n"
     ]
    }
   ],
   "source": [
    "!alleyoop merge -o output_slamdunk/counts.ReadCount.txt -c ReadCount output_slamdunk/count/*_tcount.tsv"
   ]
  },
  {
   "cell_type": "code",
   "execution_count": 57,
   "id": "e90083da-05a9-446f-b4fb-23861a15bd01",
   "metadata": {
    "tags": []
   },
   "outputs": [
    {
     "name": "stdout",
     "output_type": "stream",
     "text": [
      "\n",
      "  \u001b[91m///\u001b[0m \u001b]8;id=952599;https://multiqc.info\u001b\\\u001b[1mMultiQC\u001b[0m\u001b]8;;\u001b\\ 🔍 \u001b[2m| v1.19\u001b[0m\n",
      "\n",
      "\u001b[34m|           multiqc\u001b[0m | Search path : /data_gilbert/home/aarab/AML/Decitabine-treatment/DAC/SLAM-seq/output_slamdunk\n",
      "\u001b[2K\u001b[34m|\u001b[0m         \u001b[34msearching\u001b[0m | \u001b[90m━━━━━━━━━━━━━━━━━━━━━━━━━━━━━━━━━━━━━━━━\u001b[0m \u001b[35m100%\u001b[0m \u001b[32m276/276\u001b[0m  0munk/counts.txt\u001b[0m\n",
      "\u001b[?25h\u001b[34m|           multiqc\u001b[0m | \u001b[33mNo analysis results found. Cleaning up..\u001b[0m\n",
      "\u001b[34m|           multiqc\u001b[0m | MultiQC complete\n"
     ]
    }
   ],
   "source": [
    "!multiqc -n output_slamdunk_qc output_slamdunk/"
   ]
  },
  {
   "cell_type": "markdown",
   "id": "1142ec3f-6755-47d4-aa71-85de902727df",
   "metadata": {},
   "source": [
    "# "
   ]
  },
  {
   "cell_type": "code",
   "execution_count": 50,
   "id": "08590421-4ee6-44e4-90ba-b8fd6d63df78",
   "metadata": {
    "tags": []
   },
   "outputs": [],
   "source": [
    "%load_ext watermark "
   ]
  },
  {
   "cell_type": "code",
   "execution_count": 52,
   "id": "cebbae6d-f841-47a5-9166-00f754af7961",
   "metadata": {
    "tags": []
   },
   "outputs": [
    {
     "name": "stdout",
     "output_type": "stream",
     "text": [
      "Last updated: 2024-01-09T10:09:26.689199-08:00\n",
      "\n",
      "Python implementation: CPython\n",
      "Python version       : 3.10.13\n",
      "IPython version      : 8.20.0\n",
      "\n",
      "Compiler    : GCC 12.3.0\n",
      "OS          : Linux\n",
      "Release     : 3.10.0-957.27.2.el7.x86_64\n",
      "Machine     : x86_64\n",
      "Processor   : x86_64\n",
      "CPU cores   : 64\n",
      "Architecture: 64bit\n",
      "\n"
     ]
    }
   ],
   "source": [
    "%watermark"
   ]
  },
  {
   "cell_type": "code",
   "execution_count": 53,
   "id": "0be85605-1dec-4c3b-b7d4-a3bfd9984c51",
   "metadata": {
    "tags": []
   },
   "outputs": [],
   "source": [
    "# %watermark --iversions"
   ]
  }
 ],
 "metadata": {
  "kernelspec": {
   "display_name": "Python [conda env:slamseq]",
   "language": "python",
   "name": "conda-env-slamseq-py"
  },
  "language_info": {
   "codemirror_mode": {
    "name": "ipython",
    "version": 3
   },
   "file_extension": ".py",
   "mimetype": "text/x-python",
   "name": "python",
   "nbconvert_exporter": "python",
   "pygments_lexer": "ipython3",
   "version": "3.10.13"
  }
 },
 "nbformat": 4,
 "nbformat_minor": 5
}
