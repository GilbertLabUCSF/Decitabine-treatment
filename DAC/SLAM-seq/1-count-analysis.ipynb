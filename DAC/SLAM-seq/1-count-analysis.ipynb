{
 "cells": [
  {
   "cell_type": "code",
   "execution_count": 1,
   "id": "45d77a40-88de-4a28-ac21-59112c1b0034",
   "metadata": {
    "tags": []
   },
   "outputs": [],
   "source": [
    "import pandas as pd"
   ]
  },
  {
   "cell_type": "code",
   "execution_count": 22,
   "id": "4a24eb48-6aa5-4dc6-ba0a-717f619c8376",
   "metadata": {},
   "outputs": [],
   "source": [
    "df = pd.read_csv('output_slamdunk/counts.ReadCount.txt',sep='\\t',skiprows=3)"
   ]
  },
  {
   "cell_type": "code",
   "execution_count": 23,
   "id": "ee444e57-cf66-4018-804c-74a88d91bcb6",
   "metadata": {},
   "outputs": [],
   "source": [
    "meta = df[[\n",
    "    'Chromosome', 'Start', 'End', 'Name', 'Length', 'Strand', 'avgReadsCPM',\n",
    "    'avgMultimapper', 'avgTcontent', 'avgCoverageOnTs'\n",
    "]]"
   ]
  },
  {
   "cell_type": "code",
   "execution_count": 24,
   "id": "5cb74acb-5efb-41bd-93b1-fff1bed562f7",
   "metadata": {
    "tags": []
   },
   "outputs": [
    {
     "data": {
      "text/plain": [
       "hl60_0_t_1_R1.fastq    0\n",
       "hl60_0_t_2_R1.fastq    0\n",
       "hl60_0_t_3_R1.fastq    0\n",
       "hl60_0_u_1_R1.fastq    0\n",
       "hl60_0_u_2_R1.fastq    0\n",
       "hl60_0_u_3_R1.fastq    0\n",
       "hl60_2_t_1_R1.fastq    0\n",
       "hl60_2_t_2_R1.fastq    0\n",
       "hl60_2_t_3_R1.fastq    0\n",
       "hl60_2_u_1_R1.fastq    0\n",
       "hl60_2_u_2_R1.fastq    0\n",
       "hl60_2_u_3_R1.fastq    0\n",
       "hl60_4_t_1_R1.fastq    0\n",
       "hl60_4_t_2_R1.fastq    0\n",
       "hl60_4_t_3_R1.fastq    0\n",
       "hl60_4_u_1_R1.fastq    0\n",
       "hl60_4_u_2_R1.fastq    0\n",
       "hl60_4_u_3_R1.fastq    0\n",
       "hl60_8_t_1_R1.fastq    0\n",
       "hl60_8_t_2_R1.fastq    0\n",
       "hl60_8_t_3_R1.fastq    0\n",
       "hl60_8_u_1_R1.fastq    0\n",
       "hl60_8_u_2_R1.fastq    0\n",
       "hl60_8_u_3_R1.fastq    0\n",
       "dtype: int64"
      ]
     },
     "execution_count": 24,
     "metadata": {},
     "output_type": "execute_result"
    }
   ],
   "source": [
    "df.filter(regex='^hl60').sum()"
   ]
  },
  {
   "cell_type": "code",
   "execution_count": 11,
   "id": "cdb81536-518f-4421-980f-8bdb72a97b25",
   "metadata": {
    "tags": []
   },
   "outputs": [],
   "source": [
    "import os"
   ]
  },
  {
   "cell_type": "code",
   "execution_count": 12,
   "id": "50b24c03-0321-4528-a416-82f7729d588f",
   "metadata": {
    "tags": []
   },
   "outputs": [],
   "source": [
    "from glob import glob"
   ]
  },
  {
   "cell_type": "code",
   "execution_count": 8,
   "id": "5b94250a-150d-4860-b9bf-432560848033",
   "metadata": {
    "tags": []
   },
   "outputs": [],
   "source": [
    "import pandas as pd"
   ]
  },
  {
   "cell_type": "code",
   "execution_count": 21,
   "id": "1c7935f3-90d0-445c-ae9d-dc896266e9a3",
   "metadata": {
    "tags": []
   },
   "outputs": [
    {
     "name": "stdout",
     "output_type": "stream",
     "text": [
      "2_t_3_S54_R1_001.fastq\n",
      "0_t_1_S46_R1_001.fastq\n",
      "2_u_1_S49_R1_001.fastq\n",
      "0_t_2_S47_R1_001.fastq\n",
      "2_t_1_S52_R1_001.fastq\n",
      "0_t_3_S48_R1_001.fastq\n",
      "2_u_2_S50_R1_001.fastq\n",
      "0_u_1_S43_R1_001.fastq\n",
      "2_t_2_S53_R1_001.fastq\n",
      "0_u_2_S44_R1_001.fastq\n",
      "2_u_3_S51_R1_001.fastq\n",
      "0_u_3_S45_R1_001.fastq\n",
      "4_t_1_S58_R1_001.fastq\n",
      "4_t_2_S59_R1_001.fastq\n",
      "4_t_3_S60_R1_001.fastq\n",
      "4_u_1_S55_R1_001.fastq\n",
      "4_u_2_S56_R1_001.fastq\n",
      "4_u_3_S57_R1_001.fastq\n",
      "8_t_1_S64_R1_001.fastq\n",
      "8_t_2_S65_R1_001.fastq\n",
      "8_t_3_S66_R1_001.fastq\n",
      "8_u_1_S61_R1_001.fastq\n",
      "8_u_2_S62_R1_001.fastq\n",
      "8_u_3_S63_R1_001.fastq\n"
     ]
    }
   ],
   "source": [
    "for file in glob('slamdunk_output/count/*tcount.tsv'):\n",
    "    # df = pd.read_csv(file,sep='\\t',skiprows=2)\n",
    "    print(file.split('/')[2].replace('_slamdunk_mapped_filtered_tcount.tsv',''))"
   ]
  },
  {
   "cell_type": "code",
   "execution_count": 11,
   "id": "9b1394f1-4d02-441b-a934-79d6143edfd7",
   "metadata": {
    "tags": []
   },
   "outputs": [],
   "source": [
    "df = pd.read_csv(file,sep='\\t',skiprows=2)"
   ]
  },
  {
   "cell_type": "code",
   "execution_count": null,
   "id": "fb06cbf0-fed6-4407-bcb7-edd98b3504fc",
   "metadata": {},
   "outputs": [],
   "source": [
    "fnames = list.files(path = '/avicenna/alex_ge/AGLG06/slamdunk_output/count', pattern = 'tcount.tsv', full.names = TRUE)\n",
    "\n",
    "tcountfiles <- lapply(fnames, read.table, header = TRUE, sep = '\\t', skip = 2)"
   ]
  }
 ],
 "metadata": {
  "kernelspec": {
   "display_name": "Python [conda env:anaconda3-deseq2]",
   "language": "python",
   "name": "conda-env-anaconda3-deseq2-py"
  },
  "language_info": {
   "codemirror_mode": {
    "name": "ipython",
    "version": 3
   },
   "file_extension": ".py",
   "mimetype": "text/x-python",
   "name": "python",
   "nbconvert_exporter": "python",
   "pygments_lexer": "ipython3",
   "version": "3.9.7"
  }
 },
 "nbformat": 4,
 "nbformat_minor": 5
}
