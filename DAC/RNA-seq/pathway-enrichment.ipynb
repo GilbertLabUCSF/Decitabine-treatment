{
 "cells": [
  {
   "cell_type": "markdown",
   "metadata": {},
   "source": [
    "__Aim:__ Consistency analysis across cell lines using pathway enrichment results to find commonly up/down regulated pathways and their genes. \n",
    "\n",
    "__tools__:\n",
    "- https://github.com/goodarzilab/iPAGE\n",
    "- https://github.com/goodarzilab/pypage\n",
    "- https://github.com/abearab/pager\n",
    "\n",
    "__other tools__:\n",
    "- https://github.com/tanghaibao/goatools\n",
    "- https://github.com/MaayanLab/blitzgsea\n",
    "- https://gseapy.readthedocs.io/en/latest/index.html"
   ]
  },
  {
   "cell_type": "markdown",
   "metadata": {},
   "source": [
    "___\n",
    "<!-- source: https://www.nature.com/articles/s41586-021-03313-9/figures/9\n",
    "\n",
    "I want something like module g\n",
    "\n",
    "<img src=\"https://media.springernature.com/full/springer-static/esm/art%3A10.1038%2Fs41586-021-03313-9/MediaObjects/41586_2021_3313_Fig9_ESM.jpg?as=webp\" width=600 >  -->"
   ]
  },
  {
   "cell_type": "code",
   "execution_count": 1,
   "metadata": {
    "tags": []
   },
   "outputs": [],
   "source": [
    "!mkdir -p page"
   ]
  },
  {
   "cell_type": "code",
   "execution_count": 2,
   "metadata": {
    "tags": []
   },
   "outputs": [],
   "source": [
    "import re\n",
    "import sys\n",
    "import pandas as pd \n",
    "import numpy as np\n",
    "import matplotlib.pyplot as plt\n",
    "from time import time \n",
    "from glob import glob\n",
    "from matplotlib.pyplot import subplots\n",
    "from itertools import chain\n",
    "from functools import reduce\n",
    "from venn import venn\n",
    "\n",
    "sys.path.append('/data_gilbert/home/aarab/tools/pager/')\n",
    "\n",
    "import upsetplot as us\n",
    "import pager\n",
    "from matplotlib.backends.backend_pdf import PdfPages\n",
    "\n",
    "from IPython.display import IFrame"
   ]
  },
  {
   "cell_type": "code",
   "execution_count": 3,
   "metadata": {
    "tags": []
   },
   "outputs": [],
   "source": [
    "import pypage"
   ]
  },
  {
   "cell_type": "code",
   "execution_count": 4,
   "metadata": {
    "tags": []
   },
   "outputs": [],
   "source": [
    "pagerdir='/data_gilbert/home/aarab/tools/pager'"
   ]
  },
  {
   "cell_type": "code",
   "execution_count": 5,
   "metadata": {
    "tags": []
   },
   "outputs": [],
   "source": [
    "dictfilt = lambda x, y: dict([ (i,x[i]) for i in x if i in set(y) ])"
   ]
  },
  {
   "cell_type": "code",
   "execution_count": 6,
   "metadata": {
    "tags": []
   },
   "outputs": [],
   "source": [
    "from pypage import ExpressionProfile\n",
    "from pypage import GeneSets\n",
    "from pypage import PAGE"
   ]
  },
  {
   "cell_type": "code",
   "execution_count": 7,
   "metadata": {
    "tags": []
   },
   "outputs": [],
   "source": [
    "import pickle\n",
    "\n",
    "def write_adata_pkl(data, name):\n",
    "    file_name = f'{name}.pkl'\n",
    "    with open(file_name, 'wb') as file:\n",
    "        pickle.dump(data, file)\n",
    "        print(f'Object successfully saved to \"{file_name}\"')\n",
    "\n",
    "\n",
    "def read_adata_pkl(name):\n",
    "    file_name = f'{name}.pkl'\n",
    "    with open(file_name, 'rb') as f:\n",
    "        data = pickle.load(f)\n",
    "    return data"
   ]
  },
  {
   "cell_type": "code",
   "execution_count": 8,
   "metadata": {
    "tags": []
   },
   "outputs": [],
   "source": [
    "def load_annotation(ann_file):\n",
    "    gs_ann = GeneSets(ann_file=ann_file, n_bins=3)\n",
    "    return gs_ann\n",
    "\n",
    "\n",
    "def load_expression(expression_file):\n",
    "    df = pd.read_csv(expression_file,\n",
    "                     sep=\"\\t\",\n",
    "                     header=0,\n",
    "                     names=[\"gene\", \"exp\"])\n",
    "    exp = ExpressionProfile(df.iloc[:, 0],\n",
    "                            df.iloc[:, 1],\n",
    "                            n_bins=10)\n",
    "    # exp.convert_from_to('refseq', 'ensg', 'human')\n",
    "    return exp\n",
    "\n",
    "\n",
    "def run_pyPAGE(expression, annotation,threads=18):\n",
    "    p = PAGE(\n",
    "        expression,\n",
    "        annotation,\n",
    "        n_shuffle=1000,\n",
    "        n_jobs=threads,\n",
    "        # Hani: _\"You must redo iPAGE with `--independence=0` option for comparing results between multiple smaples.\"_        \n",
    "        filter_redundant=False\n",
    "    )\n",
    "    \n",
    "    _,_ = p.run()\n",
    "    \n",
    "    return p"
   ]
  },
  {
   "cell_type": "markdown",
   "metadata": {
    "tags": []
   },
   "source": [
    "### Load genesets"
   ]
  },
  {
   "cell_type": "code",
   "execution_count": 9,
   "metadata": {},
   "outputs": [],
   "source": [
    "# msigdb_c5_go = load_annotation(f'{pagerdir}/annotations/human/msigdb_v7.4_c5.go/c5.go.v7.4.symbols.gmt')\n",
    "# msigdb_c5_go._calculate_pathway_sizes()"
   ]
  },
  {
   "cell_type": "code",
   "execution_count": 10,
   "metadata": {
    "tags": []
   },
   "outputs": [],
   "source": [
    "# msigdb_c5_go.filter_pathways(min_size=10,max_size=500)"
   ]
  },
  {
   "cell_type": "code",
   "execution_count": 11,
   "metadata": {
    "tags": []
   },
   "outputs": [],
   "source": [
    "# msigdb_c2_kegg = load_annotation(f'{pagerdir}/annotations/human/msigdb_v7.4_c2.cp.kegg/c2.cp.kegg.v7.4.symbols.gmt')"
   ]
  },
  {
   "cell_type": "code",
   "execution_count": 17,
   "metadata": {
    "tags": []
   },
   "outputs": [
    {
     "name": "stdout",
     "output_type": "stream",
     "text": [
      "c3.tft.v7.4.symbols.gmt       msigdb_v7.4_c3.tft_names.txt\n",
      "msigdb_v7.4_c3.tft_index.txt\n"
     ]
    }
   ],
   "source": [
    "!ls {pagerdir}/annotations/human/msigdb_v7.4_c3.tft/"
   ]
  },
  {
   "cell_type": "code",
   "execution_count": 18,
   "metadata": {
    "tags": []
   },
   "outputs": [],
   "source": [
    "msigdb_c3_tft = load_annotation(\n",
    "    f'{pagerdir}/annotations/human/msigdb_v7.4_c3.tft/c3.tft.v7.4.symbols.gmt'\n",
    ")"
   ]
  },
  {
   "cell_type": "code",
   "execution_count": 19,
   "metadata": {},
   "outputs": [],
   "source": [
    "# msigdb_c5_gobp = load_annotation(f'{pagerdir}/annotations/human/msigdb_v7.4_c5.go.bp/c5.go.bp.v7.4.symbols.gmt')\n",
    "# msigdb_c5_gobp._calculate_pathway_sizes()"
   ]
  },
  {
   "cell_type": "code",
   "execution_count": 20,
   "metadata": {
    "tags": []
   },
   "outputs": [],
   "source": [
    "# pd.Series(msigdb_c5_gobp.pathway_sizes).plot.hist(bins=200)\n",
    "# plt.axvline(10, color='k', linestyle='dashed', linewidth=1)\n",
    "# plt.axvline(500, color='k', linestyle='dashed', linewidth=1)\n",
    "\n",
    "# plt.yscale('log')\n",
    "# plt.show()"
   ]
  },
  {
   "cell_type": "code",
   "execution_count": 21,
   "metadata": {
    "tags": []
   },
   "outputs": [],
   "source": [
    "# msigdb_c5_gobp.filter_pathways(min_size=50,max_size=150)"
   ]
  },
  {
   "cell_type": "markdown",
   "metadata": {},
   "source": [
    "## run pyPAGE"
   ]
  },
  {
   "cell_type": "markdown",
   "metadata": {},
   "source": [
    "### $\\Delta$Expression"
   ]
  },
  {
   "cell_type": "code",
   "execution_count": 22,
   "metadata": {
    "tags": []
   },
   "outputs": [
    {
     "name": "stdout",
     "output_type": "stream",
     "text": [
      "hl60_6h\n"
     ]
    },
    {
     "name": "stderr",
     "output_type": "stream",
     "text": [
      "calculating conditional mutual information: 100%|██████████| 1133/1133 [00:05<00:00, 194.64it/s]\n",
      "permutation testing:  43%|████▎     | 491/1133 [05:21<07:01,  1.52it/s]\n",
      "hypergeometric tests: 386it [00:01, 210.71it/s]\n"
     ]
    },
    {
     "name": "stdout",
     "output_type": "stream",
     "text": [
      "\n",
      "hl60_72h\n"
     ]
    },
    {
     "name": "stderr",
     "output_type": "stream",
     "text": [
      "calculating conditional mutual information: 100%|██████████| 1133/1133 [00:03<00:00, 284.08it/s]\n",
      "permutation testing:  51%|█████     | 580/1133 [06:17<05:59,  1.54it/s]\n",
      "hypergeometric tests: 479it [00:01, 254.47it/s]\n"
     ]
    },
    {
     "name": "stdout",
     "output_type": "stream",
     "text": [
      "\n",
      "kg1\n"
     ]
    },
    {
     "name": "stderr",
     "output_type": "stream",
     "text": [
      "calculating conditional mutual information: 100%|██████████| 1133/1133 [00:03<00:00, 285.28it/s]\n",
      "permutation testing:  59%|█████▊    | 665/1133 [06:58<04:54,  1.59it/s]\n",
      "hypergeometric tests: 530it [00:02, 258.95it/s]\n"
     ]
    },
    {
     "name": "stdout",
     "output_type": "stream",
     "text": [
      "\n",
      "molm13\n"
     ]
    },
    {
     "name": "stderr",
     "output_type": "stream",
     "text": [
      "calculating conditional mutual information: 100%|██████████| 1133/1133 [00:03<00:00, 292.00it/s]\n",
      "permutation testing:  51%|█████     | 578/1133 [06:20<06:04,  1.52it/s]\n",
      "hypergeometric tests: 475it [00:01, 254.19it/s]\n"
     ]
    },
    {
     "name": "stdout",
     "output_type": "stream",
     "text": [
      "\n",
      "molm14\n"
     ]
    },
    {
     "name": "stderr",
     "output_type": "stream",
     "text": [
      "calculating conditional mutual information: 100%|██████████| 1133/1133 [00:04<00:00, 282.38it/s]\n",
      "permutation testing:  51%|█████     | 574/1133 [06:11<06:01,  1.55it/s]\n",
      "hypergeometric tests: 459it [00:01, 251.41it/s]\n"
     ]
    },
    {
     "name": "stdout",
     "output_type": "stream",
     "text": [
      "\n",
      "ociaml3\n"
     ]
    },
    {
     "name": "stderr",
     "output_type": "stream",
     "text": [
      "calculating conditional mutual information: 100%|██████████| 1133/1133 [00:04<00:00, 241.97it/s]\n",
      "permutation testing:  50%|█████     | 572/1133 [06:26<06:18,  1.48it/s]\n",
      "hypergeometric tests: 454it [00:02, 211.85it/s]\n"
     ]
    },
    {
     "name": "stdout",
     "output_type": "stream",
     "text": [
      "\n",
      "skm1\n"
     ]
    },
    {
     "name": "stderr",
     "output_type": "stream",
     "text": [
      "calculating conditional mutual information: 100%|██████████| 1133/1133 [00:05<00:00, 212.74it/s]\n",
      "permutation testing:  57%|█████▋    | 651/1133 [07:11<05:19,  1.51it/s]\n",
      "hypergeometric tests: 526it [00:02, 245.77it/s]"
     ]
    },
    {
     "name": "stdout",
     "output_type": "stream",
     "text": [
      "\n"
     ]
    },
    {
     "name": "stderr",
     "output_type": "stream",
     "text": [
      "\n"
     ]
    }
   ],
   "source": [
    "exp_results = {}\n",
    "\n",
    "for delta_exp in glob('exp/*delta_exp.txt'):\n",
    "    msigdb_c3_tft.modified = False   # https://github.com/goodarzilab/pypage/issues/47#issuecomment-1699760555 \n",
    "    name = delta_exp.split('/')[1].replace('_delta_exp.txt','')\n",
    "    print(name)\n",
    "    exp_results[name] = run_pyPAGE(load_expression(delta_exp),msigdb_c3_tft)\n",
    "    print()"
   ]
  },
  {
   "cell_type": "code",
   "execution_count": 24,
   "metadata": {
    "tags": []
   },
   "outputs": [
    {
     "name": "stdout",
     "output_type": "stream",
     "text": [
      "Object successfully saved to \"page/exp_results_msigdb_c3_tft.pkl\"\n"
     ]
    }
   ],
   "source": [
    "write_adata_pkl(exp_results,'page/exp_results_msigdb_c3_tft')"
   ]
  },
  {
   "cell_type": "markdown",
   "metadata": {},
   "source": [
    "### $\\Delta$Stability"
   ]
  },
  {
   "cell_type": "code",
   "execution_count": 23,
   "metadata": {
    "tags": []
   },
   "outputs": [
    {
     "name": "stdout",
     "output_type": "stream",
     "text": [
      "hl60_120h\n"
     ]
    },
    {
     "name": "stderr",
     "output_type": "stream",
     "text": [
      "calculating conditional mutual information: 100%|██████████| 1133/1133 [00:01<00:00, 974.26it/s]\n",
      "permutation testing:   4%|▎         | 40/1133 [00:09<04:29,  4.06it/s]\n",
      "hypergeometric tests: 30it [00:00, 369.03it/s]\n"
     ]
    },
    {
     "name": "stdout",
     "output_type": "stream",
     "text": [
      "\n",
      "hl60_72h\n"
     ]
    },
    {
     "name": "stderr",
     "output_type": "stream",
     "text": [
      "calculating conditional mutual information: 100%|██████████| 1133/1133 [00:01<00:00, 862.73it/s]\n",
      "permutation testing:   6%|▌         | 69/1133 [00:15<04:00,  4.42it/s]\n",
      "hypergeometric tests: 46it [00:00, 349.54it/s]\n"
     ]
    },
    {
     "name": "stdout",
     "output_type": "stream",
     "text": [
      "\n",
      "hl60_6h\n"
     ]
    },
    {
     "name": "stderr",
     "output_type": "stream",
     "text": [
      "calculating conditional mutual information: 100%|██████████| 1133/1133 [00:01<00:00, 848.86it/s]\n",
      "permutation testing:   7%|▋         | 84/1133 [00:20<04:15,  4.10it/s]\n",
      "hypergeometric tests: 66it [00:00, 374.10it/s]\n"
     ]
    },
    {
     "name": "stdout",
     "output_type": "stream",
     "text": [
      "\n",
      "kg1\n"
     ]
    },
    {
     "name": "stderr",
     "output_type": "stream",
     "text": [
      "calculating conditional mutual information: 100%|██████████| 1133/1133 [00:01<00:00, 952.16it/s]\n",
      "permutation testing:   3%|▎         | 38/1133 [00:09<04:31,  4.03it/s]\n",
      "hypergeometric tests: 25it [00:00, 361.70it/s]\n"
     ]
    },
    {
     "name": "stdout",
     "output_type": "stream",
     "text": [
      "\n",
      "molm13\n"
     ]
    },
    {
     "name": "stderr",
     "output_type": "stream",
     "text": [
      "calculating conditional mutual information: 100%|██████████| 1133/1133 [00:01<00:00, 958.52it/s]\n",
      "permutation testing:   6%|▌         | 63/1133 [00:14<04:08,  4.30it/s]\n",
      "hypergeometric tests: 45it [00:00, 373.66it/s]\n"
     ]
    },
    {
     "name": "stdout",
     "output_type": "stream",
     "text": [
      "\n",
      "molm14\n"
     ]
    },
    {
     "name": "stderr",
     "output_type": "stream",
     "text": [
      "calculating conditional mutual information: 100%|██████████| 1133/1133 [00:01<00:00, 921.41it/s]\n",
      "permutation testing:   3%|▎         | 38/1133 [00:09<04:20,  4.20it/s]\n",
      "hypergeometric tests: 24it [00:00, 285.70it/s]\n"
     ]
    },
    {
     "name": "stdout",
     "output_type": "stream",
     "text": [
      "\n",
      "ociaml3\n"
     ]
    },
    {
     "name": "stderr",
     "output_type": "stream",
     "text": [
      "calculating conditional mutual information: 100%|██████████| 1133/1133 [00:01<00:00, 955.90it/s]\n",
      "permutation testing:   9%|▉         | 104/1133 [00:24<04:04,  4.21it/s]\n",
      "hypergeometric tests: 74it [00:00, 387.41it/s]\n"
     ]
    },
    {
     "name": "stdout",
     "output_type": "stream",
     "text": [
      "\n",
      "skm1\n"
     ]
    },
    {
     "name": "stderr",
     "output_type": "stream",
     "text": [
      "calculating conditional mutual information: 100%|██████████| 1133/1133 [00:01<00:00, 941.70it/s]\n",
      "permutation testing:   3%|▎         | 35/1133 [00:08<04:29,  4.08it/s]\n",
      "hypergeometric tests: 20it [00:00, 380.17it/s]"
     ]
    },
    {
     "name": "stdout",
     "output_type": "stream",
     "text": [
      "\n"
     ]
    },
    {
     "name": "stderr",
     "output_type": "stream",
     "text": [
      "\n"
     ]
    }
   ],
   "source": [
    "stbl_results = {}\n",
    "\n",
    "for delta_stbl in glob('stbl/*delta_stbl.txt'):\n",
    "    msigdb_c3_tft.modified = False   # https://github.com/goodarzilab/pypage/issues/47#issuecomment-1699760555 \n",
    "    name = delta_stbl.split('/')[1].replace('_delta_stbl.txt','')\n",
    "    print(name)\n",
    "    stbl_results[name] = run_pyPAGE(load_expression(delta_stbl),msigdb_c3_tft)\n",
    "    print()"
   ]
  },
  {
   "cell_type": "code",
   "execution_count": 25,
   "metadata": {
    "tags": []
   },
   "outputs": [
    {
     "name": "stdout",
     "output_type": "stream",
     "text": [
      "Object successfully saved to \"page/stbl_results_msigdb_c3_tft.pkl\"\n"
     ]
    }
   ],
   "source": [
    "write_adata_pkl(stbl_results,'page/stbl_results_msigdb_c3_tft')"
   ]
  },
  {
   "cell_type": "code",
   "execution_count": 27,
   "metadata": {
    "tags": []
   },
   "outputs": [
    {
     "name": "stdout",
     "output_type": "stream",
     "text": [
      "-rw-rw-r--. 1 aarab aarab 2.4G Sep  6 00:17 page/exp_results_msigdb_c3_tft.pkl\n",
      "-rw-rw-r--. 1 aarab aarab 1.3G Sep  5 21:27 page/exp_results_msigdb_c5_gobp_filt.pkl\n",
      "-rw-rw-r--. 1 aarab aarab  11G Aug 31 18:25 page/exp_results_msigdb_c5_gobp.pkl\n",
      "-rw-rw-r--. 1 aarab aarab 904M Sep  6 00:17 page/stbl_results_msigdb_c3_tft.pkl\n",
      "-rw-rw-r--. 1 aarab aarab 647M Sep  5 21:28 page/stbl_results_msigdb_c5_gobp_filt.pkl\n",
      "-rw-rw-r--. 1 aarab aarab 4.9G Aug 31 18:24 page/stbl_results_msigdb_c5_gobp.pkl\n"
     ]
    }
   ],
   "source": [
    "ls -lh page/*pkl"
   ]
  },
  {
   "cell_type": "markdown",
   "metadata": {},
   "source": [
    "## Draw heatmaps\n",
    "Fig. S4"
   ]
  },
  {
   "cell_type": "code",
   "execution_count": 701,
   "metadata": {
    "tags": []
   },
   "outputs": [
    {
     "data": {
      "text/plain": [
       "<function pager.pvmat2bio_signal(pvmat, side, n_clust=2, thr=2)>"
      ]
     },
     "execution_count": 701,
     "metadata": {},
     "output_type": "execute_result"
    }
   ],
   "source": [
    "pager.pvmat2bio_signal"
   ]
  },
  {
   "cell_type": "code",
   "execution_count": 34,
   "metadata": {
    "tags": []
   },
   "outputs": [],
   "source": [
    "def pvmat2bio_signal(pvmat,side,n_clust=2,thr=2):\n",
    "    if side == 'up':\n",
    "        out = pvmat.loc[\n",
    "            (pd.DataFrame(pvmat.iloc  [:,-n_clust:]  > thr).all(axis=1)) #& \n",
    "            # (pd.DataFrame(pvmat.iloc  [:,:-n_clust]  < thr).all(axis=1))\n",
    "            ,:\n",
    "        ].sort_values(by=pvmat.columns[-n_clust:].to_list()[::-1],ascending=False,axis=0)\n",
    "    elif side == 'both':\n",
    "        out = pvmat.loc[\n",
    "            (pd.DataFrame(pvmat.iloc  [:,:n_clust]  > thr).all(axis=1)) & \n",
    "            (pd.DataFrame(pvmat.iloc  [:,-n_clust:]  > thr).all(axis=1)) & \n",
    "            (pd.DataFrame(pvmat.iloc  [:,n_clust+1:-n_clust]  < thr).all(axis=1))\n",
    "            ,:\n",
    "        ].sort_values(\n",
    "            by=pvmat.columns[-n_clust:].to_list()[::-1] + pvmat.columns[:n_clust].to_list(),\n",
    "            ascending=False,axis=0\n",
    "        )\n",
    "    elif side == 'down':\n",
    "        out = pvmat.loc[\n",
    "            (pd.DataFrame(pvmat.iloc  [:,:n_clust]  > thr).all(axis=1)) #& \n",
    "            # (pd.DataFrame(pvmat.iloc  [:,n_clust+1:]  < thr).all(axis=1))\n",
    "            ,:\n",
    "        ].sort_values(by=pvmat.columns[:n_clust].to_list(),ascending=False,axis=0)\n",
    "    return out\n"
   ]
  },
  {
   "cell_type": "code",
   "execution_count": 28,
   "metadata": {
    "tags": []
   },
   "outputs": [],
   "source": [
    "def subset_results(p):\n",
    "    return pd.concat([\n",
    "        pvmat2bio_signal(\n",
    "            p.get_es_matrix(),\n",
    "            side=s,n_clust=n,\n",
    "            thr = -np.log10(0.001)\n",
    "        ) for s,n in zip(['up','down'],[1,2,3])\n",
    "    ])\n",
    "\n",
    "\n",
    "def draw_heatmap(es_matrix,cmap = 'viridis'):\n",
    "    # https://github.com/goodarzilab/pypage/issues/46\n",
    "    return pypage.heatmap.Heatmap(pathways=es_matrix.index,graphical_ar=es_matrix.to_numpy(),cmap_main = cmap)"
   ]
  },
  {
   "cell_type": "markdown",
   "metadata": {
    "tags": []
   },
   "source": [
    "### HL-60"
   ]
  },
  {
   "cell_type": "code",
   "execution_count": 29,
   "metadata": {
    "tags": []
   },
   "outputs": [],
   "source": [
    "from matplotlib.backends.backend_pdf import PdfPages\n",
    "import matplotlib.pyplot as plt"
   ]
  },
  {
   "cell_type": "code",
   "execution_count": 37,
   "metadata": {
    "tags": []
   },
   "outputs": [],
   "source": [
    "def make_page_heatmaps(page_results,mod,genesets='msigdb_c5_gobp'):\n",
    "    max_val=-np.log10(0.0001)\n",
    "    if mod == 'exp':\n",
    "        modality = \"RNA Expression\"\n",
    "    elif mod == 'stbl':\n",
    "        modality = \"RNA Stability\"\n",
    "\n",
    "    with PdfPages(f'page/{mod}_results_{genesets}.pdf') as pdf:\n",
    "        draw_heatmap(subset_results(page_results['hl60_6h'])).show(title=f'{modality}\\nHL-60 at 6h',max_val=max_val)\n",
    "        pdf.savefig()  # saves the current figure into a pdf page\n",
    "        plt.close()\n",
    "\n",
    "        draw_heatmap(subset_results(page_results['hl60_72h'])).show(title=f'{modality}\\nHL-60 at 72h',max_val=max_val)\n",
    "        pdf.savefig()  # saves the current figure into a pdf page\n",
    "        plt.close()\n",
    "\n",
    "        draw_heatmap(subset_results(page_results['hl60_120h'])).show(title=f'{modality}\\nHL-60 at 120h',max_val=max_val)\n",
    "        pdf.savefig()  # saves the current figure into a pdf page\n",
    "        plt.close()\n",
    "\n",
    "        draw_heatmap(subset_results(page_results['molm13'])).show(title=f'{modality}\\nMOLM-13',max_val=max_val)\n",
    "        pdf.savefig()  # saves the current figure into a pdf page\n",
    "        plt.close()\n",
    "\n",
    "        draw_heatmap(subset_results(page_results['molm14'])).show(title=f'{modality}\\nMOLM-14',max_val=max_val)\n",
    "        pdf.savefig()  # saves the current figure into a pdf page\n",
    "        plt.close()\n",
    "\n",
    "        draw_heatmap(subset_results(page_results['kg1'])).show(title=f'{modality}\\nKG-1',max_val=max_val)\n",
    "        pdf.savefig()  # saves the current figure into a pdf page\n",
    "        plt.close()\n",
    "\n",
    "        draw_heatmap(subset_results(page_results['skm1'])).show(title=f'{modality}\\nSKM-1',max_val=max_val)\n",
    "        pdf.savefig()  # saves the current figure into a pdf page\n",
    "        plt.close()\n",
    "\n",
    "        draw_heatmap(subset_results(page_results['ociaml3'])).show(title=f'{modality}\\nOCI-AML3',max_val=max_val)\n",
    "        pdf.savefig()  # saves the current figure into a pdf page\n",
    "        plt.close()"
   ]
  },
  {
   "cell_type": "code",
   "execution_count": 31,
   "metadata": {
    "tags": []
   },
   "outputs": [],
   "source": [
    "exp_results = read_adata_pkl('page/exp_results_msigdb_c3_tft')"
   ]
  },
  {
   "cell_type": "code",
   "execution_count": 32,
   "metadata": {
    "tags": []
   },
   "outputs": [],
   "source": [
    "stbl_results = read_adata_pkl('page/stbl_results_msigdb_c3_tft')"
   ]
  },
  {
   "cell_type": "code",
   "execution_count": 38,
   "metadata": {
    "tags": []
   },
   "outputs": [
    {
     "name": "stderr",
     "output_type": "stream",
     "text": [
      "/data_gilbert/home/aarab/anaconda3/envs/mamba/envs/pypage/lib/python3.11/site-packages/pypage/heatmap.py:105: UserWarning: Attempting to set identical low and high ylims makes transformation singular; automatically expanding.\n",
      "  im = self.ax.imshow(np.atleast_2d(graphical_ar),\n"
     ]
    }
   ],
   "source": [
    "make_page_heatmaps(exp_results,'exp',genesets='msigdb_c3_tft')"
   ]
  },
  {
   "cell_type": "code",
   "execution_count": 39,
   "metadata": {
    "tags": []
   },
   "outputs": [
    {
     "name": "stderr",
     "output_type": "stream",
     "text": [
      "/data_gilbert/home/aarab/anaconda3/envs/mamba/envs/pypage/lib/python3.11/site-packages/pypage/heatmap.py:105: UserWarning: Attempting to set identical low and high ylims makes transformation singular; automatically expanding.\n",
      "  im = self.ax.imshow(np.atleast_2d(graphical_ar),\n",
      "/data_gilbert/home/aarab/anaconda3/envs/mamba/envs/pypage/lib/python3.11/site-packages/pypage/heatmap.py:105: UserWarning: Attempting to set identical low and high ylims makes transformation singular; automatically expanding.\n",
      "  im = self.ax.imshow(np.atleast_2d(graphical_ar),\n"
     ]
    }
   ],
   "source": [
    "make_page_heatmaps(stbl_results,'stbl',genesets='msigdb_c3_tft')"
   ]
  },
  {
   "cell_type": "markdown",
   "metadata": {},
   "source": [
    "### Make sample vs pathway matrix\n",
    "1. convert `page` results to single values => \"PAGE enrichment score\""
   ]
  },
  {
   "cell_type": "code",
   "execution_count": 40,
   "metadata": {
    "tags": []
   },
   "outputs": [],
   "source": [
    "def get_PAGE_enrichment_score(page):\n",
    "    es_bins = subset_results(page)[subset_results(page) > - np.log10(0.05)].fillna(0) * [-1,-1,-1,0,0,0,0,1,1,1]\n",
    "\n",
    "    res = pd.DataFrame(es_bins.sum(axis=1),columns=['es'])\n",
    "    \n",
    "    return res"
   ]
  },
  {
   "cell_type": "code",
   "execution_count": 41,
   "metadata": {
    "tags": []
   },
   "outputs": [],
   "source": [
    "results = pd.concat(\n",
    "    dict([(name,get_PAGE_enrichment_score(page)) for name, page in exp_results.items() if name != 'hl60_72h_only'])\n",
    ").reset_index(names=['sample','pathway']).pivot_table(index='pathway',columns='sample',values='es').fillna(0)"
   ]
  },
  {
   "cell_type": "code",
   "execution_count": 42,
   "metadata": {
    "tags": []
   },
   "outputs": [],
   "source": [
    "# import seaborn as sns"
   ]
  },
  {
   "cell_type": "code",
   "execution_count": 43,
   "metadata": {
    "tags": []
   },
   "outputs": [],
   "source": [
    "# sns.clustermap(results, cmap='coolwarm', figsize=(7, 20), center=0,vmin=-10,vmax=10)"
   ]
  },
  {
   "cell_type": "markdown",
   "metadata": {},
   "source": [
    "didn't look good :)"
   ]
  },
  {
   "cell_type": "markdown",
   "metadata": {},
   "source": [
    "### onePAGE"
   ]
  },
  {
   "cell_type": "markdown",
   "metadata": {},
   "source": [
    "### $\\Delta$Expression"
   ]
  },
  {
   "cell_type": "code",
   "execution_count": 49,
   "metadata": {
    "tags": []
   },
   "outputs": [
    {
     "data": {
      "text/plain": [
       "[('hl60_6h', 'HNF1_01'),\n",
       " ('hl60_120h', 'IGLV5_37_TARGET_GENES'),\n",
       " ('kg1', 'IGLV5_37_TARGET_GENES'),\n",
       " ('molm13', 'E47_02'),\n",
       " ('molm14', 'IGLV5_37_TARGET_GENES'),\n",
       " ('molm14', 'ZNF92_TARGET_GENES'),\n",
       " ('ociaml3', 'IGLV5_37_TARGET_GENES'),\n",
       " ('skm1', 'IGLV5_37_TARGET_GENES')]"
      ]
     },
     "execution_count": 49,
     "metadata": {},
     "output_type": "execute_result"
    }
   ],
   "source": [
    "[(name,gs) for name, page in exp_results.items() for gs in subset_results(page).index]\n",
    " # if 'DIFFERENTIATION' in gs\n",
    "# 'GOBP_CELL_MORPHOGENESIS_INVOLVED_IN_DIFFERENTIATION'"
   ]
  },
  {
   "cell_type": "code",
   "execution_count": 50,
   "metadata": {
    "tags": []
   },
   "outputs": [],
   "source": [
    "results_bins = pd.concat(\n",
    "    dict([(name,page.get_es_matrix()) for name, page in exp_results.items() if name not in ['hl60_72h_only','hl60_6h']])\n",
    ").reset_index(names=['sample','pathway'])"
   ]
  },
  {
   "cell_type": "code",
   "execution_count": 59,
   "metadata": {
    "tags": []
   },
   "outputs": [
    {
     "data": {
      "image/png": "[encoded data removed]",
      "text/plain": [
       "<Figure size 484.295x242.148 with 2 Axes>"
      ]
     },
     "metadata": {},
     "output_type": "display_data"
    }
   ],
   "source": [
    "name = 'IGLV5_37_TARGET_GENES'\n",
    "\n",
    "hm = draw_heatmap(\n",
    "    results_bins.query(f'pathway == \"{name}\"').drop(columns=['pathway']).set_index('sample').sort_values([0],ascending=False),\n",
    "    cmap='coolwarm'\n",
    ")\n",
    "\n",
    "hm.show(\n",
    "    title=name.replace('_',' ').replace('IN ','\\nIN '),\n",
    "    # max_val=7\n",
    ")\n",
    "\n",
    "plt.savefig('page/exp_onePAGE_TF.pdf')"
   ]
  },
  {
   "cell_type": "code",
   "execution_count": 60,
   "metadata": {
    "tags": []
   },
   "outputs": [
    {
     "data": {
      "text/plain": [
       "'ADAMTSL2\",\"ADSS1\",\"AHNAK\",\"AMPD3\",\"ATP2B2\",\"ATP8B3\",\"BNC1\",\"BPIFB4\",\"CCDC159\",\"CCND2\",\"CFAP74\",\"CLEC2D\",\"CNTFR\",\"COL21A1\",\"COL9A2\",\"CPA4\",\"CPHL1P\",\"CRACR2B\",\"CXCL12\",\"CYP26B1\",\"EFHD1\",\"ERG\",\"F2RL1\",\"FAM83F\",\"FBXO27\",\"FGFR3\",\"FSCN1\",\"GAPDHP70\",\"GAS7\",\"GJA3\",\"GRIN2A\",\"HDAC10\",\"HECW2\",\"HHIP\",\"HIVEP3\",\"HRCT1\",\"ID2\",\"INHBA\",\"KCNH1-IT1\",\"KIAA1210\",\"KLHL4\",\"LARGE2\",\"LFNG\",\"LIMCH1\",\"LINC00390\",\"LINC00607\",\"LINC01213\",\"LINC01579\",\"LINC01775\",\"LINC02762\",\"LINC02798\",\"LINC02846\",\"LRRC15\",\"MOGAT3\",\"MX2\",\"NEFM\",\"NFKBIA\",\"NOS3\",\"NOXA1\",\"NPIPB8\",\"OSGIN1\",\"PHOSPHO1\",\"PKD1L2\",\"PLAAT5\",\"PLXNC1\",\"PNRC1\",\"POLD4\",\"POT1-AS1\",\"PRCD\",\"PTPRH\",\"RAB7B\",\"RIPOR3\",\"RNVU1-30\",\"SDCBP2\",\"SERPINB9P1\",\"SLC26A4\",\"SMIM36\",\"SPRED3\",\"SRRM3\",\"STARD10\",\"SYCE3\",\"UBE2E2-AS1\",\"USHBP1\",\"ADCY5\",\"ALDH1A2\",\"ASB2\",\"ASIC4\",\"ATP2B3\",\"ATP6V0D2\",\"ATXN1-AS1\",\"BAHCC1\",\"BAIAP3\",\"BMX\",\"BRINP2\",\"C1QL4\",\"CABP1\",\"CAMK2B\",\"CCDC152\",\"CCDC187\",\"CNGA1\",\"COL13A1\",\"COL16A1\",\"COL9A3\",\"CUEDC1\",\"DLX6-AS1\",\"DMTN\",\"DTX1\",\"EGFR\",\"ELAVL3\",\"ELN\",\"ENTPD8\",\"EPPK1\",\"EXOC3L4\",\"FA2H\",\"FAM189A1\",\"FAM189A2\",\"FLNC\",\"FRMD1\",\"GATA2\",\"GFAP\",\"GFI1B\",\"GLI2\",\"GPNMB\",\"GREM1\",\"GRIN1\",\"HECW2-AS1\",\"HGFAC\",\"HOXB5\",\"HOXC6\",\"HOXC9\",\"HPCAL4\",\"KCNH1\",\"KCNH2\",\"KCNN3\",\"KCNT1\",\"KIF12\",\"KLKP1\",\"LINC01615\",\"MCF2L\",\"MFAP2\",\"MIR3681HG\",\"MMP15\",\"MOV10L1\",\"MYEOV\",\"MYO18B\",\"NGEF\",\"NPTX1\",\"NSG1\",\"NSG2\",\"PADI1\",\"PADI4\",\"PDCD1\",\"PIWIL2\",\"PROKR1\",\"PRPH\",\"RAP1GAP\",\"RCOR2\",\"RHOD\",\"RNU6-821P\",\"ROR2\",\"S100A14\",\"SHANK2\",\"SHH\",\"SRPK3\",\"SSC5D\",\"ST8SIA1\",\"STAB1\",\"SYNE2\",\"TCF7\",\"TCP11\",\"TGFBI\",\"THRB\",\"TNNI2\",\"TNNT1\",\"WDR38\",\"ZNF395\",\"ZNF503-AS1'"
      ]
     },
     "execution_count": 60,
     "metadata": {},
     "output_type": "execute_result"
    }
   ],
   "source": [
    "'\",\"'.join(\n",
    "    [gene \n",
    "     for genes in exp_results['skm1'].get_enriched_genes(\n",
    "         'IGLV5_37_TARGET_GENES')[-2:]for gene in genes \n",
    "    ]\n",
    ")"
   ]
  },
  {
   "cell_type": "markdown",
   "metadata": {},
   "source": [
    "### $\\Delta$Stability"
   ]
  },
  {
   "cell_type": "code",
   "execution_count": 63,
   "metadata": {
    "tags": []
   },
   "outputs": [
    {
     "data": {
      "text/plain": [
       "[('hl60_120h', 'TBP_01'),\n",
       " ('hl60_72h', 'TBP_01'),\n",
       " ('hl60_72h', 'GATA6_01'),\n",
       " ('hl60_72h', 'TGGAAA_NFAT_Q4_01'),\n",
       " ('hl60_72h', 'SREBP_Q3'),\n",
       " ('hl60_72h', 'MZF1_01'),\n",
       " ('hl60_6h', 'ZNF436_TARGET_GENES'),\n",
       " ('hl60_6h', 'NFKBIA_TARGET_GENES'),\n",
       " ('hl60_6h', 'AP1_C'),\n",
       " ('molm14', 'ACCTGTTG_UNKNOWN'),\n",
       " ('ociaml3', 'AACTTT_UNKNOWN'),\n",
       " ('ociaml3', 'PAX6_01'),\n",
       " ('ociaml3', 'PAX3_TARGET_GENES'),\n",
       " ('ociaml3', 'COMP1_01'),\n",
       " ('skm1', 'SUPT20H_TARGET_GENES')]"
      ]
     },
     "execution_count": 63,
     "metadata": {},
     "output_type": "execute_result"
    }
   ],
   "source": [
    "[(name,gs) for name, page in stbl_results.items() for gs in subset_results(page).index]\n",
    " # if 'DIFFERENTIATION' in gs\n",
    "# 'GOBP_CELL_MORPHOGENESIS_INVOLVED_IN_DIFFERENTIATION'"
   ]
  },
  {
   "cell_type": "code",
   "execution_count": 65,
   "metadata": {
    "tags": []
   },
   "outputs": [],
   "source": [
    "results_bins = pd.concat(\n",
    "    dict([(name,page.get_es_matrix()) for name, page in stbl_results.items() if name not in ['hl60_72h_only','hl60_6h']])\n",
    ").reset_index(names=['sample','pathway'])"
   ]
  },
  {
   "cell_type": "code",
   "execution_count": 68,
   "metadata": {
    "tags": []
   },
   "outputs": [
    {
     "data": {
      "image/png": "[encoded data removed]",
      "text/plain": [
       "<Figure size 484.295x172.963 with 2 Axes>"
      ]
     },
     "metadata": {},
     "output_type": "display_data"
    }
   ],
   "source": [
    "name = 'SUPT20H_TARGET_GENES'\n",
    "\n",
    "draw_heatmap(\n",
    "    results_bins.query(f'pathway == \"{name}\"').drop(columns=['pathway']).set_index('sample').sort_values([0],ascending=False),\n",
    "    cmap='coolwarm'\n",
    ").show(\n",
    "    title=name.replace('_',' ').replace('IN ','\\nIN '),\n",
    "    # max_val=7\n",
    ")\n",
    "\n",
    "# plt.savefig('page/stbl_onePAGE_DIFFERENTIATION.eps')"
   ]
  },
  {
   "cell_type": "code",
   "execution_count": null,
   "metadata": {},
   "outputs": [],
   "source": []
  },
  {
   "cell_type": "code",
   "execution_count": null,
   "metadata": {},
   "outputs": [],
   "source": []
  },
  {
   "cell_type": "code",
   "execution_count": 546,
   "metadata": {
    "tags": []
   },
   "outputs": [],
   "source": [
    "# dict([(name,page.get_es_matrix()) for name, page in stbl_results.items() if name not in ['hl60_72h_only','hl60_6h']])"
   ]
  },
  {
   "cell_type": "code",
   "execution_count": 56,
   "metadata": {
    "tags": []
   },
   "outputs": [],
   "source": [
    "# [\n",
    "#     (name,gs) \n",
    "#     for name, page in stbl_results.items() \n",
    "#     for gs in page.get_es_matrix().index \n",
    "#     # if 'DIFFERENTIATION' in gs\n",
    "# ]"
   ]
  },
  {
   "cell_type": "code",
   "execution_count": null,
   "metadata": {},
   "outputs": [],
   "source": []
  },
  {
   "cell_type": "code",
   "execution_count": 659,
   "metadata": {
    "tags": []
   },
   "outputs": [
    {
     "data": {
      "text/plain": [
       "'ADRB2\",\"ARID5B\",\"BBS9\",\"CCDC71L\",\"CCND1\",\"DDIT3\",\"DKKL1\",\"GATA2\",\"GPER1\",\"HTR2C\",\"KLF4\",\"LRG1\",\"MEDAG\",\"MIR548D1\",\"OSBPL11\",\"PIM1\",\"PLCB1\",\"PPARD\",\"PPARG\",\"PPARGC1A\",\"SMAD6\",\"TNF\",\"ZBTB7C\",\"ALOX5\",\"ARNTL\",\"CCN4\",\"DIO2\",\"EGR2\",\"FFAR2\",\"FGF10\",\"FOXO1\",\"GNB3\",\"HES1\",\"INHBB\",\"KLF5\",\"MAFB\",\"NR4A3\",\"PDGFRA\",\"PTGS2\",\"RGS2\",\"SIX1\",\"SOCS1\",\"SORT1\",\"SOX13\",\"STEAP4\",\"SULT1E1\",\"TFAP2B\",\"TGFB1I1\",\"TRIB2\",\"TRIM32\",\"WNT1\",\"WNT5B\",\"YAP1\",\"ZC3H12A\",\"ZFP36L1\",\"ZFPM1'"
      ]
     },
     "execution_count": 659,
     "metadata": {},
     "output_type": "execute_result"
    }
   ],
   "source": [
    "'\",\"'.join(\n",
    "    [gene \n",
    "     for genes in exp_results['hl60_120h'].get_enriched_genes(\n",
    "         'GOBP_FAT_CELL_DIFFERENTIATION')[-2:]for gene in genes \n",
    "    ]\n",
    ")"
   ]
  },
  {
   "cell_type": "code",
   "execution_count": 631,
   "metadata": {
    "tags": []
   },
   "outputs": [
    {
     "data": {
      "text/plain": [
       "'BMP2\",\"COL27A1\",\"ECM1\",\"FGFR3\",\"GDF6\",\"HMGA2\",\"MBOAT2\",\"MDK\",\"NFIB\",\"RARB\",\"SMAD3\",\"SMPD3\",\"TSKU\",\"WNT2B\",\"ACVRL1\",\"ADAMTS12\",\"ADAMTS7\",\"AXIN2\",\"CCN4\",\"CHADL\",\"GREM1\",\"IHH\",\"MAF\",\"MATN1\",\"MUSTN1\",\"OSR1\",\"OSR2\",\"SCX\",\"SNAI2\",\"SOX5\",\"SULF1\",\"SULF2\",\"TGFBI\",\"WNT5B\",\"WNT9A\",\"ZNF219'"
      ]
     },
     "execution_count": 631,
     "metadata": {},
     "output_type": "execute_result"
    }
   ],
   "source": [
    "'\",\"'.join(\n",
    "    [gene \n",
    "     for genes in exp_results['molm13'].get_enriched_genes(\n",
    "         'GOBP_CHONDROCYTE_DIFFERENTIATION')[-2:]for gene in genes \n",
    "    ]\n",
    ")"
   ]
  },
  {
   "cell_type": "code",
   "execution_count": null,
   "metadata": {},
   "outputs": [],
   "source": [
    "         page.get_enriched_genes(\n",
    "             'GOBP_CELL_MORPHOGENESIS_INVOLVED_IN_DIFFERENTIATION'\n",
    "         )[-2:]"
   ]
  },
  {
   "cell_type": "code",
   "execution_count": 615,
   "metadata": {
    "tags": []
   },
   "outputs": [],
   "source": [
    "up_genes = dict([\n",
    "    (name,list(\n",
    "        [gene for genes in \n",
    "         page.get_enriched_genes(\n",
    "             'GOBP_CELL_MORPHOGENESIS_INVOLVED_IN_DIFFERENTIATION'\n",
    "         )[-2:] for gene in genes\n",
    "        ]\n",
    "    ))\n",
    "    for name, page in exp_results.items() if name not in ['hl60_72h_only','hl60_6h']\n",
    "])"
   ]
  },
  {
   "cell_type": "code",
   "execution_count": 616,
   "metadata": {
    "tags": []
   },
   "outputs": [],
   "source": [
    "from upsetplot import from_contents,UpSet"
   ]
  },
  {
   "cell_type": "code",
   "execution_count": 617,
   "metadata": {
    "tags": []
   },
   "outputs": [
    {
     "data": {
      "image/png": "[encoded data removed]",
      "text/plain": [
       "<Figure size 577.778x577.778 with 4 Axes>"
      ]
     },
     "metadata": {},
     "output_type": "display_data"
    }
   ],
   "source": [
    "UpSet(\n",
    "    from_contents(up_genes),min_degree=6\n",
    ").plot()\n",
    "\n",
    "plt.show()"
   ]
  },
  {
   "cell_type": "code",
   "execution_count": 618,
   "metadata": {
    "tags": []
   },
   "outputs": [],
   "source": [
    "d = from_contents(up_genes).reset_index().set_index('id')"
   ]
  },
  {
   "cell_type": "code",
   "execution_count": 623,
   "metadata": {
    "tags": []
   },
   "outputs": [
    {
     "data": {
      "text/plain": [
       "'BRSK1\",\"CSF1R\",\"DOK4\",\"FEZ1\",\"ID1\",\"ITGB7\",\"MDK\",\"NTNG2\",\"PTCH1\",\"RIPOR2\",\"SEMA3D\",\"TUBB3\",\"DMTN\",\"EFNB2\",\"EGR2\",\"EPHA2\",\"FZD7\",\"GATA1\",\"GBP1\",\"KIAA0319\",\"KIF5A\",\"L1CAM\",\"LRRK2\",\"NPTX1\",\"NTRK1\",\"RAP1GAP\",\"S100A6\",\"S100B\",\"SPTBN5\",\"ARC'"
      ]
     },
     "execution_count": 623,
     "metadata": {},
     "output_type": "execute_result"
    }
   ],
   "source": [
    "'\",\"'.join(\n",
    "    d[d.sum(axis=1).gt(5)].index.to_list()\n",
    ")"
   ]
  },
  {
   "cell_type": "markdown",
   "metadata": {
    "tags": []
   },
   "source": [
    "___\n",
    "# "
   ]
  },
  {
   "cell_type": "code",
   "execution_count": 527,
   "metadata": {
    "tags": []
   },
   "outputs": [
    {
     "name": "stdout",
     "output_type": "stream",
     "text": [
      "Mon Sep  4 03:54:55 PDT 2023\n"
     ]
    }
   ],
   "source": [
    "!date"
   ]
  }
 ],
 "metadata": {
  "kernelspec": {
   "display_name": "Python [conda env:pypage]",
   "language": "python",
   "name": "conda-env-pypage-py"
  },
  "language_info": {
   "codemirror_mode": {
    "name": "ipython",
    "version": 3
   },
   "file_extension": ".py",
   "mimetype": "text/x-python",
   "name": "python",
   "nbconvert_exporter": "python",
   "pygments_lexer": "ipython3",
   "version": "3.11.5"
  }
 },
 "nbformat": 4,
 "nbformat_minor": 4
}
