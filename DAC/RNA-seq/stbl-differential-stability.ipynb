{
 "cells": [
  {
   "cell_type": "markdown",
   "metadata": {
    "tags": []
   },
   "source": [
    "# Decitabine treatment Differential stability \n",
    "> #### REMoving Bias from Rna-seq ANalysis of Differential Transcript Stability\n",
    "[REMBRANDTS](https://github.com/csglab/REMBRANDTS) is a package for analysis of RNA-seq data across multiple samples in order to obtain unbiased estimates of differential mRNA stability. It uses DESeq to obtain estimates of differential pre-mRNA and mature mRNA abundance across samples, and then estimates a gene-specific bias function that is then subtracted from Δexon–Δintron to provide unbiased differential mRNA stability measures."
   ]
  },
  {
   "cell_type": "markdown",
   "metadata": {
    "tags": []
   },
   "source": [
    "## Load packages and functions"
   ]
  },
  {
   "cell_type": "code",
   "execution_count": 1,
   "metadata": {
    "tags": []
   },
   "outputs": [],
   "source": [
    "# %reload_ext rpy2.ipython"
   ]
  },
  {
   "cell_type": "code",
   "execution_count": 2,
   "metadata": {
    "tags": []
   },
   "outputs": [],
   "source": [
    "# %%R\n",
    "suppressMessages(suppressWarnings(library(edgeR)))\n",
    "suppressMessages(suppressWarnings(library(Biobase)))\n",
    "suppressMessages(suppressWarnings(library(rtracklayer)))\n",
    "suppressMessages(suppressWarnings(library(tidyverse)))\n",
    "suppressMessages(suppressWarnings(library(ggrepel)))\n",
    "suppressMessages(suppressWarnings(library(patchwork)))\n",
    "suppressMessages(suppressWarnings(library(gridExtra)))\n",
    "library(grid)\n",
    "library(ggthemes)\n"
   ]
  },
  {
   "cell_type": "code",
   "execution_count": 3,
   "metadata": {
    "tags": []
   },
   "outputs": [],
   "source": [
    "# %%R \n",
    "run_norm <- function(eset){\n",
    "    eset_norm <- eset\n",
    "    # Log tranform\n",
    "    exprs(eset_norm) <- log1p(exprs(eset_norm))\n",
    "    # Quantile normalize\n",
    "    exprs(eset_norm) <- normalizeBetweenArrays(exprs(eset_norm))\n",
    "    \n",
    "    return(eset_norm)\n",
    "}\n",
    "    \n",
    "run_limma <- function(eset,design, cm){\n",
    "    # Fit coefficients \n",
    "    fit <- lmFit(eset, design)\n",
    "    # Fit contrasts \n",
    "    fit2 <- contrasts.fit(fit, contrasts = cm)\n",
    "    # Calculate t-statistics \n",
    "    fit2 <- eBayes(fit2)\n",
    "    return (fit2)\n",
    "}\n",
    "\n",
    "get_res<- function(fit,coef){\n",
    "    res <- cbind(\n",
    "        fit[,coef]$coef [,coef] %>% data.frame %>% rename(log2FoldChange='.'),\n",
    "        fit[,coef]$p.value [,coef] %>% data.frame %>% rename(pvalue='.'),\n",
    "        fit$genes %>% data.frame %>% select(name)\n",
    "    )\n",
    "    return(res)\n",
    "}\n",
    "\n",
    "boxplot_top_hit <- function (eset,gene_name){\n",
    "    gene = (fData(eset) %>% rownames_to_column('row'))$row[fData(eset)$name == gene_name]\n",
    "    # Create a boxplot of a given gene\n",
    "    boxplot(exprs(eset)[gene, ] ~ pData(eset)[, \"cond\"],main = fData(eset)[gene, \"name\"])\n",
    "    boxplot(exprs(eset)[gene, ] ~ pData(eset)[, \"time\"],main = fData(eset)[gene, \"name\"])\n",
    "}\n"
   ]
  },
  {
   "cell_type": "code",
   "execution_count": 4,
   "metadata": {
    "tags": []
   },
   "outputs": [],
   "source": [
    "# %%R \n",
    "plot_volcano <- function(res, lfc.cutoff  = 1,pval.cutoff = 0.05, title=''){\n",
    "    res$sig <- as.factor(res$pvalue < pval.cutoff & abs(res$log2FoldChange) > lfc.cutoff)\n",
    "    relevel(res$sig, ref=TRUE)\n",
    "    ## Volcano plot\n",
    "    vol = res %>% ggplot(\n",
    "        aes(x=log2FoldChange, y=-log10(pvalue), colour=sig, fill=sig)) +\n",
    "        geom_point(aes(color = sig),alpha = 1/10) +\n",
    "    #         xlim(c(-20,20)) +\n",
    "    #         ylim(c(0,11)) +\n",
    "            geom_hline(yintercept=-log10(pval.cutoff), linetype=\"dashed\", alpha = 4/10) +\n",
    "            geom_vline(xintercept=lfc.cutoff, linetype=\"dashed\", alpha = 4/10) +\n",
    "            geom_vline(xintercept=(-1)*lfc.cutoff, linetype=\"dashed\", alpha = 4/10) +\n",
    "            scale_color_manual(values = c(\"grey\", \"red\")) +\n",
    "            theme_bw() + \n",
    "            theme(legend.position=\"none\",plot.title = element_text(hjust = 0.5,face = \"bold\")) +\n",
    "            ggtitle (title) + \n",
    "            geom_text_repel(\n",
    "                data = subset(res[order(res$pvalue),], sig == TRUE)[1:5,],\n",
    "                aes(label = name),\n",
    "                size = 3,\n",
    "                box.padding = unit(0.35, \"lines\"),\n",
    "                point.padding = unit(0.3, \"lines\")\n",
    "            ) \n",
    "    \n",
    "     return (vol)\n",
    "}"
   ]
  },
  {
   "cell_type": "markdown",
   "metadata": {
    "tags": []
   },
   "source": [
    "## Load annotations"
   ]
  },
  {
   "cell_type": "code",
   "execution_count": 5,
   "metadata": {
    "tags": []
   },
   "outputs": [],
   "source": [
    "# %%R\n",
    "# GTF = '/rumi/shams/genomes/hg38/hg38_ensemble_genes.gtf'\n",
    "GTF = '~/genomes/hg38/hg38_ensemble_genes.gtf'\n",
    "\n",
    "gtf <- rtracklayer::import(GTF)\n",
    "gene2name <- gtf[gtf$type == \"gene\"] %>% data.frame %>% column_to_rownames('gene_id') %>% dplyr::select('gene_name')"
   ]
  },
  {
   "cell_type": "markdown",
   "metadata": {
    "jp-MarkdownHeadingCollapsed": true,
    "tags": []
   },
   "source": [
    "## Load estimated RNA stability data "
   ]
  },
  {
   "cell_type": "code",
   "execution_count": 6,
   "metadata": {
    "tags": []
   },
   "outputs": [],
   "source": [
    "# Read `REMBRANDTS` results\n",
    "stbl = read.csv('stbl/REMBRANDTS.txt', sep='\\t') %>% column_to_rownames('GeneID')"
   ]
  },
  {
   "cell_type": "markdown",
   "metadata": {},
   "source": [
    "Make meta table:"
   ]
  },
  {
   "cell_type": "code",
   "execution_count": 7,
   "metadata": {
    "tags": []
   },
   "outputs": [
    {
     "data": {
      "text/html": [
       "<table class=\"dataframe\">\n",
       "<caption>A data.frame: 42 × 5</caption>\n",
       "<thead>\n",
       "\t<tr><th></th><th scope=col>line</th><th scope=col>cond</th><th scope=col>time</th><th scope=col>group</th><th scope=col>reps</th></tr>\n",
       "\t<tr><th></th><th scope=col>&lt;chr&gt;</th><th scope=col>&lt;fct&gt;</th><th scope=col>&lt;fct&gt;</th><th scope=col>&lt;chr&gt;</th><th scope=col>&lt;fct&gt;</th></tr>\n",
       "</thead>\n",
       "<tbody>\n",
       "\t<tr><th scope=row>hl60_120h_t_1</th><td>hl60   </td><td>Decitabine</td><td>120h</td><td>Decitabine.120h</td><td>rep1</td></tr>\n",
       "\t<tr><th scope=row>hl60_120h_t_2</th><td>hl60   </td><td>Decitabine</td><td>120h</td><td>Decitabine.120h</td><td>rep2</td></tr>\n",
       "\t<tr><th scope=row>hl60_120h_u_1</th><td>hl60   </td><td>DMSO      </td><td>120h</td><td>DMSO.120h      </td><td>rep1</td></tr>\n",
       "\t<tr><th scope=row>hl60_120h_u_2</th><td>hl60   </td><td>DMSO      </td><td>120h</td><td>DMSO.120h      </td><td>rep2</td></tr>\n",
       "\t<tr><th scope=row>hl60_6h_t_1</th><td>hl60   </td><td>Decitabine</td><td>6h  </td><td>Decitabine.6h  </td><td>rep1</td></tr>\n",
       "\t<tr><th scope=row>hl60_6h_t_2</th><td>hl60   </td><td>Decitabine</td><td>6h  </td><td>Decitabine.6h  </td><td>rep2</td></tr>\n",
       "\t<tr><th scope=row>hl60_6h_u_1</th><td>hl60   </td><td>DMSO      </td><td>6h  </td><td>DMSO.6h        </td><td>rep1</td></tr>\n",
       "\t<tr><th scope=row>hl60_6h_u_2</th><td>hl60   </td><td>DMSO      </td><td>6h  </td><td>DMSO.6h        </td><td>rep2</td></tr>\n",
       "\t<tr><th scope=row>hl60_72h_t_1</th><td>hl60   </td><td>Decitabine</td><td>72h </td><td>Decitabine.72h </td><td>rep1</td></tr>\n",
       "\t<tr><th scope=row>hl60_72h_t_2</th><td>hl60   </td><td>Decitabine</td><td>72h </td><td>Decitabine.72h </td><td>rep2</td></tr>\n",
       "\t<tr><th scope=row>hl60_72h_u_1</th><td>hl60   </td><td>DMSO      </td><td>72h </td><td>DMSO.72h       </td><td>rep1</td></tr>\n",
       "\t<tr><th scope=row>hl60_72h_u_2</th><td>hl60   </td><td>DMSO      </td><td>72h </td><td>DMSO.72h       </td><td>rep2</td></tr>\n",
       "\t<tr><th scope=row>kg1_t_1</th><td>kg1    </td><td>Decitabine</td><td>72h </td><td>Decitabine.72h </td><td>rep1</td></tr>\n",
       "\t<tr><th scope=row>kg1_t_2</th><td>kg1    </td><td>Decitabine</td><td>72h </td><td>Decitabine.72h </td><td>rep2</td></tr>\n",
       "\t<tr><th scope=row>kg1_t_3</th><td>kg1    </td><td>Decitabine</td><td>72h </td><td>Decitabine.72h </td><td>rep3</td></tr>\n",
       "\t<tr><th scope=row>kg1_u_1</th><td>kg1    </td><td>DMSO      </td><td>72h </td><td>DMSO.72h       </td><td>rep1</td></tr>\n",
       "\t<tr><th scope=row>kg1_u_2</th><td>kg1    </td><td>DMSO      </td><td>72h </td><td>DMSO.72h       </td><td>rep2</td></tr>\n",
       "\t<tr><th scope=row>kg1_u_3</th><td>kg1    </td><td>DMSO      </td><td>72h </td><td>DMSO.72h       </td><td>rep3</td></tr>\n",
       "\t<tr><th scope=row>molm13_t_1</th><td>molm13 </td><td>Decitabine</td><td>72h </td><td>Decitabine.72h </td><td>rep1</td></tr>\n",
       "\t<tr><th scope=row>molm13_t_2</th><td>molm13 </td><td>Decitabine</td><td>72h </td><td>Decitabine.72h </td><td>rep2</td></tr>\n",
       "\t<tr><th scope=row>molm13_t_3</th><td>molm13 </td><td>Decitabine</td><td>72h </td><td>Decitabine.72h </td><td>rep3</td></tr>\n",
       "\t<tr><th scope=row>molm13_u_1</th><td>molm13 </td><td>DMSO      </td><td>72h </td><td>DMSO.72h       </td><td>rep1</td></tr>\n",
       "\t<tr><th scope=row>molm13_u_2</th><td>molm13 </td><td>DMSO      </td><td>72h </td><td>DMSO.72h       </td><td>rep2</td></tr>\n",
       "\t<tr><th scope=row>molm13_u_3</th><td>molm13 </td><td>DMSO      </td><td>72h </td><td>DMSO.72h       </td><td>rep3</td></tr>\n",
       "\t<tr><th scope=row>molm14_t_1</th><td>molm14 </td><td>Decitabine</td><td>72h </td><td>Decitabine.72h </td><td>rep1</td></tr>\n",
       "\t<tr><th scope=row>molm14_t_2</th><td>molm14 </td><td>Decitabine</td><td>72h </td><td>Decitabine.72h </td><td>rep2</td></tr>\n",
       "\t<tr><th scope=row>molm14_t_3</th><td>molm14 </td><td>Decitabine</td><td>72h </td><td>Decitabine.72h </td><td>rep3</td></tr>\n",
       "\t<tr><th scope=row>molm14_u_1</th><td>molm14 </td><td>DMSO      </td><td>72h </td><td>DMSO.72h       </td><td>rep1</td></tr>\n",
       "\t<tr><th scope=row>molm14_u_2</th><td>molm14 </td><td>DMSO      </td><td>72h </td><td>DMSO.72h       </td><td>rep2</td></tr>\n",
       "\t<tr><th scope=row>molm14_u_3</th><td>molm14 </td><td>DMSO      </td><td>72h </td><td>DMSO.72h       </td><td>rep3</td></tr>\n",
       "\t<tr><th scope=row>ociaml3_t_1</th><td>ociaml3</td><td>Decitabine</td><td>72h </td><td>Decitabine.72h </td><td>rep1</td></tr>\n",
       "\t<tr><th scope=row>ociaml3_t_2</th><td>ociaml3</td><td>Decitabine</td><td>72h </td><td>Decitabine.72h </td><td>rep2</td></tr>\n",
       "\t<tr><th scope=row>ociaml3_t_3</th><td>ociaml3</td><td>Decitabine</td><td>72h </td><td>Decitabine.72h </td><td>rep3</td></tr>\n",
       "\t<tr><th scope=row>ociaml3_u_1</th><td>ociaml3</td><td>DMSO      </td><td>72h </td><td>DMSO.72h       </td><td>rep1</td></tr>\n",
       "\t<tr><th scope=row>ociaml3_u_2</th><td>ociaml3</td><td>DMSO      </td><td>72h </td><td>DMSO.72h       </td><td>rep2</td></tr>\n",
       "\t<tr><th scope=row>ociaml3_u_3</th><td>ociaml3</td><td>DMSO      </td><td>72h </td><td>DMSO.72h       </td><td>rep3</td></tr>\n",
       "\t<tr><th scope=row>skm1_t_1</th><td>skm1   </td><td>Decitabine</td><td>72h </td><td>Decitabine.72h </td><td>rep1</td></tr>\n",
       "\t<tr><th scope=row>skm1_t_2</th><td>skm1   </td><td>Decitabine</td><td>72h </td><td>Decitabine.72h </td><td>rep2</td></tr>\n",
       "\t<tr><th scope=row>skm1_t_3</th><td>skm1   </td><td>Decitabine</td><td>72h </td><td>Decitabine.72h </td><td>rep3</td></tr>\n",
       "\t<tr><th scope=row>skm1_u_1</th><td>skm1   </td><td>DMSO      </td><td>72h </td><td>DMSO.72h       </td><td>rep1</td></tr>\n",
       "\t<tr><th scope=row>skm1_u_2</th><td>skm1   </td><td>DMSO      </td><td>72h </td><td>DMSO.72h       </td><td>rep2</td></tr>\n",
       "\t<tr><th scope=row>skm1_u_3</th><td>skm1   </td><td>DMSO      </td><td>72h </td><td>DMSO.72h       </td><td>rep3</td></tr>\n",
       "</tbody>\n",
       "</table>\n"
      ],
      "text/latex": [
       "A data.frame: 42 × 5\n",
       "\\begin{tabular}{r|lllll}\n",
       "  & line & cond & time & group & reps\\\\\n",
       "  & <chr> & <fct> & <fct> & <chr> & <fct>\\\\\n",
       "\\hline\n",
       "\thl60\\_120h\\_t\\_1 & hl60    & Decitabine & 120h & Decitabine.120h & rep1\\\\\n",
       "\thl60\\_120h\\_t\\_2 & hl60    & Decitabine & 120h & Decitabine.120h & rep2\\\\\n",
       "\thl60\\_120h\\_u\\_1 & hl60    & DMSO       & 120h & DMSO.120h       & rep1\\\\\n",
       "\thl60\\_120h\\_u\\_2 & hl60    & DMSO       & 120h & DMSO.120h       & rep2\\\\\n",
       "\thl60\\_6h\\_t\\_1 & hl60    & Decitabine & 6h   & Decitabine.6h   & rep1\\\\\n",
       "\thl60\\_6h\\_t\\_2 & hl60    & Decitabine & 6h   & Decitabine.6h   & rep2\\\\\n",
       "\thl60\\_6h\\_u\\_1 & hl60    & DMSO       & 6h   & DMSO.6h         & rep1\\\\\n",
       "\thl60\\_6h\\_u\\_2 & hl60    & DMSO       & 6h   & DMSO.6h         & rep2\\\\\n",
       "\thl60\\_72h\\_t\\_1 & hl60    & Decitabine & 72h  & Decitabine.72h  & rep1\\\\\n",
       "\thl60\\_72h\\_t\\_2 & hl60    & Decitabine & 72h  & Decitabine.72h  & rep2\\\\\n",
       "\thl60\\_72h\\_u\\_1 & hl60    & DMSO       & 72h  & DMSO.72h        & rep1\\\\\n",
       "\thl60\\_72h\\_u\\_2 & hl60    & DMSO       & 72h  & DMSO.72h        & rep2\\\\\n",
       "\tkg1\\_t\\_1 & kg1     & Decitabine & 72h  & Decitabine.72h  & rep1\\\\\n",
       "\tkg1\\_t\\_2 & kg1     & Decitabine & 72h  & Decitabine.72h  & rep2\\\\\n",
       "\tkg1\\_t\\_3 & kg1     & Decitabine & 72h  & Decitabine.72h  & rep3\\\\\n",
       "\tkg1\\_u\\_1 & kg1     & DMSO       & 72h  & DMSO.72h        & rep1\\\\\n",
       "\tkg1\\_u\\_2 & kg1     & DMSO       & 72h  & DMSO.72h        & rep2\\\\\n",
       "\tkg1\\_u\\_3 & kg1     & DMSO       & 72h  & DMSO.72h        & rep3\\\\\n",
       "\tmolm13\\_t\\_1 & molm13  & Decitabine & 72h  & Decitabine.72h  & rep1\\\\\n",
       "\tmolm13\\_t\\_2 & molm13  & Decitabine & 72h  & Decitabine.72h  & rep2\\\\\n",
       "\tmolm13\\_t\\_3 & molm13  & Decitabine & 72h  & Decitabine.72h  & rep3\\\\\n",
       "\tmolm13\\_u\\_1 & molm13  & DMSO       & 72h  & DMSO.72h        & rep1\\\\\n",
       "\tmolm13\\_u\\_2 & molm13  & DMSO       & 72h  & DMSO.72h        & rep2\\\\\n",
       "\tmolm13\\_u\\_3 & molm13  & DMSO       & 72h  & DMSO.72h        & rep3\\\\\n",
       "\tmolm14\\_t\\_1 & molm14  & Decitabine & 72h  & Decitabine.72h  & rep1\\\\\n",
       "\tmolm14\\_t\\_2 & molm14  & Decitabine & 72h  & Decitabine.72h  & rep2\\\\\n",
       "\tmolm14\\_t\\_3 & molm14  & Decitabine & 72h  & Decitabine.72h  & rep3\\\\\n",
       "\tmolm14\\_u\\_1 & molm14  & DMSO       & 72h  & DMSO.72h        & rep1\\\\\n",
       "\tmolm14\\_u\\_2 & molm14  & DMSO       & 72h  & DMSO.72h        & rep2\\\\\n",
       "\tmolm14\\_u\\_3 & molm14  & DMSO       & 72h  & DMSO.72h        & rep3\\\\\n",
       "\tociaml3\\_t\\_1 & ociaml3 & Decitabine & 72h  & Decitabine.72h  & rep1\\\\\n",
       "\tociaml3\\_t\\_2 & ociaml3 & Decitabine & 72h  & Decitabine.72h  & rep2\\\\\n",
       "\tociaml3\\_t\\_3 & ociaml3 & Decitabine & 72h  & Decitabine.72h  & rep3\\\\\n",
       "\tociaml3\\_u\\_1 & ociaml3 & DMSO       & 72h  & DMSO.72h        & rep1\\\\\n",
       "\tociaml3\\_u\\_2 & ociaml3 & DMSO       & 72h  & DMSO.72h        & rep2\\\\\n",
       "\tociaml3\\_u\\_3 & ociaml3 & DMSO       & 72h  & DMSO.72h        & rep3\\\\\n",
       "\tskm1\\_t\\_1 & skm1    & Decitabine & 72h  & Decitabine.72h  & rep1\\\\\n",
       "\tskm1\\_t\\_2 & skm1    & Decitabine & 72h  & Decitabine.72h  & rep2\\\\\n",
       "\tskm1\\_t\\_3 & skm1    & Decitabine & 72h  & Decitabine.72h  & rep3\\\\\n",
       "\tskm1\\_u\\_1 & skm1    & DMSO       & 72h  & DMSO.72h        & rep1\\\\\n",
       "\tskm1\\_u\\_2 & skm1    & DMSO       & 72h  & DMSO.72h        & rep2\\\\\n",
       "\tskm1\\_u\\_3 & skm1    & DMSO       & 72h  & DMSO.72h        & rep3\\\\\n",
       "\\end{tabular}\n"
      ],
      "text/markdown": [
       "\n",
       "A data.frame: 42 × 5\n",
       "\n",
       "| <!--/--> | line &lt;chr&gt; | cond &lt;fct&gt; | time &lt;fct&gt; | group &lt;chr&gt; | reps &lt;fct&gt; |\n",
       "|---|---|---|---|---|---|\n",
       "| hl60_120h_t_1 | hl60    | Decitabine | 120h | Decitabine.120h | rep1 |\n",
       "| hl60_120h_t_2 | hl60    | Decitabine | 120h | Decitabine.120h | rep2 |\n",
       "| hl60_120h_u_1 | hl60    | DMSO       | 120h | DMSO.120h       | rep1 |\n",
       "| hl60_120h_u_2 | hl60    | DMSO       | 120h | DMSO.120h       | rep2 |\n",
       "| hl60_6h_t_1 | hl60    | Decitabine | 6h   | Decitabine.6h   | rep1 |\n",
       "| hl60_6h_t_2 | hl60    | Decitabine | 6h   | Decitabine.6h   | rep2 |\n",
       "| hl60_6h_u_1 | hl60    | DMSO       | 6h   | DMSO.6h         | rep1 |\n",
       "| hl60_6h_u_2 | hl60    | DMSO       | 6h   | DMSO.6h         | rep2 |\n",
       "| hl60_72h_t_1 | hl60    | Decitabine | 72h  | Decitabine.72h  | rep1 |\n",
       "| hl60_72h_t_2 | hl60    | Decitabine | 72h  | Decitabine.72h  | rep2 |\n",
       "| hl60_72h_u_1 | hl60    | DMSO       | 72h  | DMSO.72h        | rep1 |\n",
       "| hl60_72h_u_2 | hl60    | DMSO       | 72h  | DMSO.72h        | rep2 |\n",
       "| kg1_t_1 | kg1     | Decitabine | 72h  | Decitabine.72h  | rep1 |\n",
       "| kg1_t_2 | kg1     | Decitabine | 72h  | Decitabine.72h  | rep2 |\n",
       "| kg1_t_3 | kg1     | Decitabine | 72h  | Decitabine.72h  | rep3 |\n",
       "| kg1_u_1 | kg1     | DMSO       | 72h  | DMSO.72h        | rep1 |\n",
       "| kg1_u_2 | kg1     | DMSO       | 72h  | DMSO.72h        | rep2 |\n",
       "| kg1_u_3 | kg1     | DMSO       | 72h  | DMSO.72h        | rep3 |\n",
       "| molm13_t_1 | molm13  | Decitabine | 72h  | Decitabine.72h  | rep1 |\n",
       "| molm13_t_2 | molm13  | Decitabine | 72h  | Decitabine.72h  | rep2 |\n",
       "| molm13_t_3 | molm13  | Decitabine | 72h  | Decitabine.72h  | rep3 |\n",
       "| molm13_u_1 | molm13  | DMSO       | 72h  | DMSO.72h        | rep1 |\n",
       "| molm13_u_2 | molm13  | DMSO       | 72h  | DMSO.72h        | rep2 |\n",
       "| molm13_u_3 | molm13  | DMSO       | 72h  | DMSO.72h        | rep3 |\n",
       "| molm14_t_1 | molm14  | Decitabine | 72h  | Decitabine.72h  | rep1 |\n",
       "| molm14_t_2 | molm14  | Decitabine | 72h  | Decitabine.72h  | rep2 |\n",
       "| molm14_t_3 | molm14  | Decitabine | 72h  | Decitabine.72h  | rep3 |\n",
       "| molm14_u_1 | molm14  | DMSO       | 72h  | DMSO.72h        | rep1 |\n",
       "| molm14_u_2 | molm14  | DMSO       | 72h  | DMSO.72h        | rep2 |\n",
       "| molm14_u_3 | molm14  | DMSO       | 72h  | DMSO.72h        | rep3 |\n",
       "| ociaml3_t_1 | ociaml3 | Decitabine | 72h  | Decitabine.72h  | rep1 |\n",
       "| ociaml3_t_2 | ociaml3 | Decitabine | 72h  | Decitabine.72h  | rep2 |\n",
       "| ociaml3_t_3 | ociaml3 | Decitabine | 72h  | Decitabine.72h  | rep3 |\n",
       "| ociaml3_u_1 | ociaml3 | DMSO       | 72h  | DMSO.72h        | rep1 |\n",
       "| ociaml3_u_2 | ociaml3 | DMSO       | 72h  | DMSO.72h        | rep2 |\n",
       "| ociaml3_u_3 | ociaml3 | DMSO       | 72h  | DMSO.72h        | rep3 |\n",
       "| skm1_t_1 | skm1    | Decitabine | 72h  | Decitabine.72h  | rep1 |\n",
       "| skm1_t_2 | skm1    | Decitabine | 72h  | Decitabine.72h  | rep2 |\n",
       "| skm1_t_3 | skm1    | Decitabine | 72h  | Decitabine.72h  | rep3 |\n",
       "| skm1_u_1 | skm1    | DMSO       | 72h  | DMSO.72h        | rep1 |\n",
       "| skm1_u_2 | skm1    | DMSO       | 72h  | DMSO.72h        | rep2 |\n",
       "| skm1_u_3 | skm1    | DMSO       | 72h  | DMSO.72h        | rep3 |\n",
       "\n"
      ],
      "text/plain": [
       "              line    cond       time group           reps\n",
       "hl60_120h_t_1 hl60    Decitabine 120h Decitabine.120h rep1\n",
       "hl60_120h_t_2 hl60    Decitabine 120h Decitabine.120h rep2\n",
       "hl60_120h_u_1 hl60    DMSO       120h DMSO.120h       rep1\n",
       "hl60_120h_u_2 hl60    DMSO       120h DMSO.120h       rep2\n",
       "hl60_6h_t_1   hl60    Decitabine 6h   Decitabine.6h   rep1\n",
       "hl60_6h_t_2   hl60    Decitabine 6h   Decitabine.6h   rep2\n",
       "hl60_6h_u_1   hl60    DMSO       6h   DMSO.6h         rep1\n",
       "hl60_6h_u_2   hl60    DMSO       6h   DMSO.6h         rep2\n",
       "hl60_72h_t_1  hl60    Decitabine 72h  Decitabine.72h  rep1\n",
       "hl60_72h_t_2  hl60    Decitabine 72h  Decitabine.72h  rep2\n",
       "hl60_72h_u_1  hl60    DMSO       72h  DMSO.72h        rep1\n",
       "hl60_72h_u_2  hl60    DMSO       72h  DMSO.72h        rep2\n",
       "kg1_t_1       kg1     Decitabine 72h  Decitabine.72h  rep1\n",
       "kg1_t_2       kg1     Decitabine 72h  Decitabine.72h  rep2\n",
       "kg1_t_3       kg1     Decitabine 72h  Decitabine.72h  rep3\n",
       "kg1_u_1       kg1     DMSO       72h  DMSO.72h        rep1\n",
       "kg1_u_2       kg1     DMSO       72h  DMSO.72h        rep2\n",
       "kg1_u_3       kg1     DMSO       72h  DMSO.72h        rep3\n",
       "molm13_t_1    molm13  Decitabine 72h  Decitabine.72h  rep1\n",
       "molm13_t_2    molm13  Decitabine 72h  Decitabine.72h  rep2\n",
       "molm13_t_3    molm13  Decitabine 72h  Decitabine.72h  rep3\n",
       "molm13_u_1    molm13  DMSO       72h  DMSO.72h        rep1\n",
       "molm13_u_2    molm13  DMSO       72h  DMSO.72h        rep2\n",
       "molm13_u_3    molm13  DMSO       72h  DMSO.72h        rep3\n",
       "molm14_t_1    molm14  Decitabine 72h  Decitabine.72h  rep1\n",
       "molm14_t_2    molm14  Decitabine 72h  Decitabine.72h  rep2\n",
       "molm14_t_3    molm14  Decitabine 72h  Decitabine.72h  rep3\n",
       "molm14_u_1    molm14  DMSO       72h  DMSO.72h        rep1\n",
       "molm14_u_2    molm14  DMSO       72h  DMSO.72h        rep2\n",
       "molm14_u_3    molm14  DMSO       72h  DMSO.72h        rep3\n",
       "ociaml3_t_1   ociaml3 Decitabine 72h  Decitabine.72h  rep1\n",
       "ociaml3_t_2   ociaml3 Decitabine 72h  Decitabine.72h  rep2\n",
       "ociaml3_t_3   ociaml3 Decitabine 72h  Decitabine.72h  rep3\n",
       "ociaml3_u_1   ociaml3 DMSO       72h  DMSO.72h        rep1\n",
       "ociaml3_u_2   ociaml3 DMSO       72h  DMSO.72h        rep2\n",
       "ociaml3_u_3   ociaml3 DMSO       72h  DMSO.72h        rep3\n",
       "skm1_t_1      skm1    Decitabine 72h  Decitabine.72h  rep1\n",
       "skm1_t_2      skm1    Decitabine 72h  Decitabine.72h  rep2\n",
       "skm1_t_3      skm1    Decitabine 72h  Decitabine.72h  rep3\n",
       "skm1_u_1      skm1    DMSO       72h  DMSO.72h        rep1\n",
       "skm1_u_2      skm1    DMSO       72h  DMSO.72h        rep2\n",
       "skm1_u_3      skm1    DMSO       72h  DMSO.72h        rep3"
      ]
     },
     "metadata": {},
     "output_type": "display_data"
    }
   ],
   "source": [
    "# meta \n",
    "lines   <- c(rep('hl60',12),lapply(\n",
    "    c('kg1', 'molm13', 'molm14', 'ociaml3', 'skm1'), rep, 6) %>% unlist)\n",
    "\n",
    "# 'ociaml2', 'thp1'\n",
    "\n",
    "# meta \n",
    "conds  <- factor(c(\n",
    "    # hl60\n",
    "    rep(c(rep('Decitabine',2),rep('DMSO',2)),3),\n",
    "    # other cell lines\n",
    "    rep(c(rep('Decitabine',3), rep('DMSO',3)),5)\n",
    "), levels = c('DMSO','Decitabine'))\n",
    "\n",
    "reps <- factor(c(\n",
    "    # hl60\n",
    "    rep(c('rep1','rep2'),6),\n",
    "    # other cell lines\n",
    "    rep(c('rep1','rep2','rep3'),10)\n",
    "),c('rep1','rep2','rep3'))\n",
    "\n",
    "hours <- factor(c(\n",
    "    # hl60\n",
    "    c(rep('120h',4),rep('6h',4),rep('72h',4)), \n",
    "    # other cell lines\n",
    "    rep('72h',30)\n",
    "),c('6h','72h','120h') )\n",
    "\n",
    "colData <- data.frame(\n",
    "    line=lines, \n",
    "    cond=conds,\n",
    "    time=hours,\n",
    "    group = paste(conds,hours, sep='.'),\n",
    "    reps=reps,\n",
    "    row.names=stbl %>% colnames,\n",
    "    stringsAsFactors=FALSE\n",
    ")\n",
    "\n",
    "colData"
   ]
  },
  {
   "cell_type": "markdown",
   "metadata": {
    "jp-MarkdownHeadingCollapsed": true,
    "tags": []
   },
   "source": [
    "## Differential stability analysis with `limma`\n",
    "`limma` is originally design for micro-array experiments which is mainly doing same task as `DESeq2`.  Comparing to RNA expression analysis, RNA stability may have negetive values; `DESeq2` does not support negetive values but `Limma` does. Therefore, we decided to use `Limma` package instead of `DESeq2` for differential analysis. \n",
    "\n",
    "\n",
    "<!--   - #### [Decitabine treatment time-series RNA-Seq experiments in HL60 cell line](#Decitabine-treatment-time-series-RNA-Seq-experiments-in-HL60-cell-line)\n",
    "  - #### [Decitabine treatment RNA-Seq experiments in 5 other AML cell lines](#Decitabine-treatment-RNA-Seq-experiments-in-5-other-AML-cell-lines)\n",
    " -->\n",
    "<!-- I've learned how to use limma from this [DataCamp course | differential-expression-analysis-with-limma-in-r](https://campus.datacamp.com/courses/differential-expression-analysis-with-limma-in-r/). \n",
    "However, I found these links useful while browsing. \n",
    "- http://genomicsclass.github.io/book/pages/using_limma.html\n",
    "- https://bioconductor.org/packages/release/workflows/vignettes/RNAseq123/inst/doc/limmaWorkflow.html\n",
    " -->\n",
    "<!--     1) time-series RNA-Seq experiments in HL60 cell line -->"
   ]
  },
  {
   "cell_type": "code",
   "execution_count": 10,
   "metadata": {
    "tags": []
   },
   "outputs": [
    {
     "name": "stderr",
     "output_type": "stream",
     "text": [
      "Warning message in log1p(exprs(eset_norm)):\n",
      "“NaNs produced”\n"
     ]
    }
   ],
   "source": [
    "# Make annotation dataframe \n",
    "ann = data.frame(\n",
    "    name=gene2name[rownames(stbl),],\n",
    "    row.names=rownames(stbl)\n",
    ")\n",
    "\n",
    "eset <- ExpressionSet(\n",
    "    assayData = as.matrix(stbl),\n",
    "    phenoData = AnnotatedDataFrame(colData),\n",
    "    featureData = AnnotatedDataFrame(ann)\n",
    ")\n",
    "\n",
    "# normalize across all experiments\n",
    "exprs(eset) <- exprs(eset %>% run_norm)"
   ]
  },
  {
   "cell_type": "code",
   "execution_count": 11,
   "metadata": {
    "tags": []
   },
   "outputs": [],
   "source": [
    "# write all normalized counts into a file\n",
    "cbind(fData(eset),exprs(eset)) %>% \n",
    "    write.table(\n",
    "        'stbl/normalized_stbl_count_table.txt', quote = F, \n",
    "        col.names=TRUE, row.names=TRUE,sep ='\\t'\n",
    "    )"
   ]
  },
  {
   "cell_type": "code",
   "execution_count": null,
   "metadata": {},
   "outputs": [],
   "source": []
  },
  {
   "cell_type": "code",
   "execution_count": 12,
   "metadata": {
    "tags": []
   },
   "outputs": [],
   "source": [
    "make_comp_res <- function(e,m=~0+cond){\n",
    "    d <- model.matrix(m, pData(e))\n",
    "    # contrast design\n",
    "    cm <- makeContrasts(comp= condDecitabine - condDMSO,levels = d)\n",
    "    f <- e %>% run_limma (d, cm)\n",
    "    res <- get_res(f,'comp') \n",
    "    return(res)\n",
    "}"
   ]
  },
  {
   "cell_type": "code",
   "execution_count": 14,
   "metadata": {
    "tags": []
   },
   "outputs": [
    {
     "name": "stderr",
     "output_type": "stream",
     "text": [
      "Warning message:\n",
      "“Partial NA coefficients for 226 probe(s)”\n",
      "Warning message:\n",
      "“Partial NA coefficients for 217 probe(s)”\n",
      "Warning message:\n",
      "“Partial NA coefficients for 202 probe(s)”\n",
      "Warning message:\n",
      "“Partial NA coefficients for 54 probe(s)”\n",
      "Warning message:\n",
      "“Partial NA coefficients for 67 probe(s)”\n",
      "Warning message:\n",
      "“Partial NA coefficients for 46 probe(s)”\n",
      "Warning message:\n",
      "“Partial NA coefficients for 71 probe(s)”\n",
      "Warning message:\n",
      "“Partial NA coefficients for 99 probe(s)”\n"
     ]
    }
   ],
   "source": [
    "results = list()\n",
    "\n",
    "## hl60 cell line\n",
    "results$hl60_120h <- make_comp_res(\n",
    "    eset[,eset@phenoData@data$line == 'hl60' & eset@phenoData@data$time == '120h']\n",
    ")\n",
    "results$hl60_72h <- make_comp_res(\n",
    "    eset[,eset@phenoData@data$line == 'hl60' & eset@phenoData@data$time == '72h']\n",
    ")\n",
    "results$hl60_6h <- make_comp_res(\n",
    "    eset[,eset@phenoData@data$line == 'hl60' & eset@phenoData@data$time == '6h']\n",
    ")\n",
    "## other cell line\n",
    "for (line in c('kg1','molm13','molm14','ociaml3','skm1')){\n",
    "    results[[line]]<- make_comp_res(\n",
    "        eset[,eset@phenoData@data$line == line]\n",
    "    )\n",
    "}"
   ]
  },
  {
   "cell_type": "code",
   "execution_count": 15,
   "metadata": {
    "tags": []
   },
   "outputs": [],
   "source": [
    "result_table = data.frame(\n",
    "    gene_name=fData(eset)$name,\n",
    "    gene_id=fData(eset) %>% rownames\n",
    ")\n",
    "\n",
    "for (name in names(results)){\n",
    "    result_table[paste0(name,'_log2FC')] = results[[name]]$log2FoldChange\n",
    "    result_table[paste0(name,'_pvalue')] = results[[name]]$pvalue\n",
    "}\n",
    "\n",
    "result_table <- result_table %>% column_to_rownames('gene_id')"
   ]
  },
  {
   "cell_type": "code",
   "execution_count": 16,
   "metadata": {
    "tags": []
   },
   "outputs": [],
   "source": [
    "# write all results into one file \n",
    "write.table(result_table, 'stbl/delta_stbl_table.txt', quote = F, col.names=TRUE, row.names=TRUE,sep ='\\t')"
   ]
  },
  {
   "cell_type": "markdown",
   "metadata": {
    "tags": []
   },
   "source": [
    "## Plots"
   ]
  },
  {
   "cell_type": "markdown",
   "metadata": {
    "tags": []
   },
   "source": [
    "### Correlation matrix"
   ]
  },
  {
   "cell_type": "code",
   "execution_count": 8,
   "metadata": {
    "tags": []
   },
   "outputs": [
    {
     "name": "stderr",
     "output_type": "stream",
     "text": [
      "Loading required package: lattice\n",
      "\n",
      "Loading required package: survival\n",
      "\n",
      "Loading required package: Formula\n",
      "\n",
      "\n",
      "Attaching package: ‘Hmisc’\n",
      "\n",
      "\n",
      "The following objects are masked from ‘package:dplyr’:\n",
      "\n",
      "    src, summarize\n",
      "\n",
      "\n",
      "The following object is masked from ‘package:Biobase’:\n",
      "\n",
      "    contents\n",
      "\n",
      "\n",
      "The following objects are masked from ‘package:base’:\n",
      "\n",
      "    format.pval, units\n",
      "\n",
      "\n",
      "corrplot 0.92 loaded\n",
      "\n"
     ]
    }
   ],
   "source": [
    "library(Hmisc)\n",
    "library(corrplot)\n",
    "library(pheatmap)\n",
    "library(ggcorrplot)"
   ]
  },
  {
   "cell_type": "code",
   "execution_count": 9,
   "metadata": {
    "tags": []
   },
   "outputs": [],
   "source": [
    "result_table = read.table(\n",
    "     'stbl/delta_stbl_table.txt', sep ='\\t'\n",
    "    # col.names=TRUE, row.names=TRUE,\n",
    ")"
   ]
  },
  {
   "cell_type": "code",
   "execution_count": 10,
   "metadata": {
    "tags": []
   },
   "outputs": [],
   "source": [
    "all_fc <- result_table %>% select(ends_with(\"log2FC\")) \n",
    "colnames(all_fc) <- colnames(all_fc) %>% stringr::str_remove(pattern = \"_log2FC\") %>% unlist\n"
   ]
  },
  {
   "cell_type": "code",
   "execution_count": 12,
   "metadata": {
    "tags": []
   },
   "outputs": [],
   "source": [
    "corr <- rcorr(\n",
    "    as.matrix(\n",
    "        all_fc %>% select(\n",
    "            'hl60_6h','hl60_72h','hl60_120h',\n",
    "            'molm13','skm1',\n",
    "            'kg1','molm14','ociaml3',\n",
    "        )\n",
    "    )\n",
    ")"
   ]
  },
  {
   "cell_type": "code",
   "execution_count": 23,
   "metadata": {
    "tags": []
   },
   "outputs": [
    {
     "name": "stderr",
     "output_type": "stream",
     "text": [
      "Scale for 'fill' is already present. Adding another scale for 'fill', which\n",
      "will replace the existing scale.\n",
      "\n"
     ]
    },
    {
     "data": {
      "image/png": "[encoded data removed]",
      "text/plain": [
       "plot without title"
      ]
     },
     "metadata": {
      "image/png": {
       "height": 420,
       "width": 420
      }
     },
     "output_type": "display_data"
    }
   ],
   "source": [
    "colors=c(\"#386cb0\",\"white\",\"#fdb462\")\n",
    "ggcorrplot(\n",
    "    corr$r, \n",
    "    method = c(\"square\", \"circle\"),\n",
    "    # hc.order = TRUE,\n",
    "    type = \"upper\", \n",
    "    p.mat = corr$p,\n",
    ") + ggtitle(\n",
    "    \"Differential RNA Stability\"\n",
    ") + ggplot2::scale_fill_gradient2(\n",
    "    low = colors[1], high = colors[3], mid = colors[2], \n",
    "    midpoint = 0, limit = c(-0.4, 0.4), space = \"Lab\"\n",
    ") + theme(\n",
    "    plot.title = element_text(\n",
    "        # face = \"bold\",\n",
    "        size = rel(1.5), hjust = 0.5),\n",
    "    panel.background = element_blank(), \n",
    "    panel.border = element_blank(), \n",
    "    panel.grid.major = element_line(colour = \"white\"), \n",
    "    legend.title = element_blank(),\n",
    "    # legend.position=\"bottom\"\n",
    ")\n",
    "\n",
    "\n",
    "ggsave('stbl/plots/logFC_corr.pdf',width = 4, height = 4)"
   ]
  },
  {
   "cell_type": "markdown",
   "metadata": {
    "tags": []
   },
   "source": [
    "### Volcano Plots"
   ]
  },
  {
   "cell_type": "code",
   "execution_count": 26,
   "metadata": {
    "tags": []
   },
   "outputs": [],
   "source": [
    "# %%R \n",
    "# p1 = res_kg1 %>% \n",
    "# plot_volcano (title='RNA Stability\\nkg1 cell line')\n",
    "\n",
    "# p2 = res_molm14 %>% \n",
    "# plot_volcano (title='molm14 cell line')\n",
    "\n",
    "# p3 = res_ociaml2 %>% \n",
    "# plot_volcano (title='ociaml2 cell line')\n",
    "\n",
    "# p4 = res_ociaml3 %>% \n",
    "# plot_volcano (title='ociaml3 cell line')\n",
    "\n",
    "# p5 = res_thp1 %>% \n",
    "# plot_volcano (title='thp1 cell line')\n",
    "\n",
    "# p1$labels$x <- p2$labels$x <- p3$labels$x <- p4$labels$x <- \" \"\n"
   ]
  },
  {
   "cell_type": "code",
   "execution_count": 27,
   "metadata": {
    "tags": []
   },
   "outputs": [],
   "source": [
    "# %%R \n",
    "# (p1 / p2 / p3 / p4 / p5) + plot_layout(widths = c(1, 25))"
   ]
  },
  {
   "cell_type": "code",
   "execution_count": 28,
   "metadata": {
    "tags": []
   },
   "outputs": [],
   "source": [
    "# # Plot principal components labeled by treatment\n",
    "# col_by_cond=rep(c(rep(\"black\",2), rep(\"red\",2)),3)\n",
    "# plotMDS(ESETs$hl60, labels = pData(ESETs$hl60)[, \"time\"], col=col_by_cond, gene.selection = \"common\")"
   ]
  },
  {
   "cell_type": "code",
   "execution_count": 29,
   "metadata": {
    "tags": []
   },
   "outputs": [],
   "source": [
    "# df_sig = results %>% rownames_to_column %>% \n",
    "#     filter (\n",
    "#         hl60.72h.stbl.log2FoldChange > 1 & hl60.72h.stbl.pvalue < 0.05 \n",
    "# #         P.Value_120h   < 0.001 |\n",
    "# #         adj.P.Val_6h   < 0.05 \n",
    "# #         adj.P.Val_120h < 0.05)\n",
    "#            ) %>% \n",
    "#     remove_rownames %>% column_to_rownames('rowname') \n",
    "\n",
    "# df_sig %>% head"
   ]
  },
  {
   "cell_type": "markdown",
   "metadata": {
    "tags": []
   },
   "source": [
    "### Clustering "
   ]
  },
  {
   "cell_type": "code",
   "execution_count": 30,
   "metadata": {
    "tags": []
   },
   "outputs": [],
   "source": [
    "library(RColorBrewer)\n",
    "\n",
    "heat_colors <- brewer.pal(n = 6, name = \"RdYlBu\") %>% rev\n",
    "greens <- brewer.pal(n = 9, name = \"Greens\")"
   ]
  },
  {
   "cell_type": "markdown",
   "metadata": {},
   "source": [
    "### Heatmap to show HL-60 time series clusters"
   ]
  },
  {
   "cell_type": "code",
   "execution_count": 31,
   "metadata": {
    "tags": []
   },
   "outputs": [
    {
     "data": {
      "text/html": [
       "<strong>png:</strong> 2"
      ],
      "text/latex": [
       "\\textbf{png:} 2"
      ],
      "text/markdown": [
       "**png:** 2"
      ],
      "text/plain": [
       "png \n",
       "  2 "
      ]
     },
     "metadata": {},
     "output_type": "display_data"
    },
    {
     "data": {
      "image/png": "[encoded data removed]",
      "text/plain": [
       "plot without title"
      ]
     },
     "metadata": {
      "image/png": {
       "height": 420,
       "width": 420
      }
     },
     "output_type": "display_data"
    }
   ],
   "source": [
    "ann_colors = list(\n",
    "    cond = c('DMSO'=\"grey90\", 'Decitabine'=\"darkorchid\"),\n",
    "    time = c('120h'= greens[6], '72h'=greens[4], '6h'=greens[2])\n",
    ")\n",
    "\n",
    "\n",
    "exprs(eset)[\n",
    "    # select genes based on abs(log2FC) and pvalue\n",
    "    result_table %>%\n",
    "        filter(\n",
    "            (abs(hl60_6h_log2FC)  > 0.5 & hl60_6h_pvalue   < 0.01) |\n",
    "            (abs(hl60_72h_log2FC) > 0.5 & hl60_72h_pvalue  < 0.01)|\n",
    "            (abs(hl60_120h_log2FC)> 0.5 & hl60_120h_pvalue < 0.01) \n",
    "        ) %>% \n",
    "        rownames\n",
    "    , \n",
    "    # subset normalized counts\n",
    "    colData[colData$line=='hl60',c('cond','time')] %>% arrange(time,cond) %>% rownames\n",
    "] %>% data.frame %>% replace(is.na(.), 0) %>% \n",
    "    # generate heatmap\n",
    "    pheatmap(\n",
    "        color = heat_colors, \n",
    "        show_colnames = F,\n",
    "        show_rownames = F,\n",
    "        cutree_rows = 2,\n",
    "        main = 'RNA Stability\\nHL-60 cell line',\n",
    "        annotation = colData[colData$line=='hl60',c('cond','time')],\n",
    "        cluster_cols = F, \n",
    "        scale = 'row',\n",
    "        angle_col= 45,\n",
    "        annotation_colors = ann_colors\n",
    ") -> hm_hl60\n",
    "\n",
    "# https://stackoverflow.com/questions/43051525/how-to-draw-pheatmap-plot-to-screen-and-also-save-to-file\n",
    "pdf('stbl/plots/heatmap_clustering_hl60.pdf', width=4, height=7)\n",
    "grid::grid.newpage()\n",
    "grid::grid.draw(hm_hl60$gtable)\n",
    "dev.off()"
   ]
  },
  {
   "cell_type": "markdown",
   "metadata": {},
   "source": [
    "### Heatmap to show cell line consistency "
   ]
  },
  {
   "cell_type": "code",
   "execution_count": null,
   "metadata": {},
   "outputs": [],
   "source": []
  },
  {
   "cell_type": "code",
   "execution_count": null,
   "metadata": {},
   "outputs": [],
   "source": []
  },
  {
   "cell_type": "code",
   "execution_count": null,
   "metadata": {},
   "outputs": [],
   "source": []
  },
  {
   "cell_type": "markdown",
   "metadata": {
    "tags": []
   },
   "source": [
    "### volcano plots"
   ]
  },
  {
   "cell_type": "code",
   "execution_count": 32,
   "metadata": {
    "tags": []
   },
   "outputs": [],
   "source": [
    "# p1 = res_6h %>% \n",
    "# plot_volcano (title='RNA Stability\\nhl60 cell line treated for 6h\\nnot normalized')\n",
    "\n",
    "# p2 = res_norm_6h %>% \n",
    "# plot_volcano (title='normalized')\n",
    "\n",
    "# p3 = res_120h %>% \n",
    "# plot_volcano (title='RNA Stability\\nhl60 cell line treated for 120h\\nnot normalized')\n",
    "\n",
    "# p4 = res_norm_120h %>% \n",
    "# plot_volcano (title='normalized')\n",
    "\n",
    "# (p1 / p2)"
   ]
  },
  {
   "cell_type": "code",
   "execution_count": 33,
   "metadata": {
    "tags": []
   },
   "outputs": [],
   "source": [
    "# %%R \n",
    "# (p3 / p4)"
   ]
  },
  {
   "cell_type": "code",
   "execution_count": 34,
   "metadata": {
    "tags": []
   },
   "outputs": [],
   "source": [
    "# p1 = res_72h %>% \n",
    "# plot_volcano (title='RNA Stability\\nhl60 cell line treated for 72h\\nnot normalized')\n",
    "\n",
    "# p2 = res_norm_72h %>% \n",
    "# plot_volcano (title='')\n",
    "\n",
    "# # p1 / \n",
    "# p2"
   ]
  },
  {
   "cell_type": "code",
   "execution_count": 35,
   "metadata": {
    "tags": []
   },
   "outputs": [],
   "source": [
    "# %%R \n",
    "# boxplot_top_hit(eset, 'USP3')"
   ]
  },
  {
   "cell_type": "code",
   "execution_count": 36,
   "metadata": {
    "tags": []
   },
   "outputs": [],
   "source": [
    "# boxplot_top_hit(ESETs$hl60 %>% run_norm, 'USP3')"
   ]
  },
  {
   "cell_type": "markdown",
   "metadata": {},
   "source": [
    "___"
   ]
  },
  {
   "cell_type": "markdown",
   "metadata": {
    "tags": []
   },
   "source": [
    "## Enrichment analysis\n",
    "\n",
    "Write iGET friendly tables:"
   ]
  },
  {
   "cell_type": "code",
   "execution_count": 37,
   "metadata": {
    "tags": []
   },
   "outputs": [],
   "source": [
    "for (name in names(results)){\n",
    "    write.table(\n",
    "        results[[name]][,c('name','log2FoldChange')],\n",
    "        paste0('stbl/',name,'_delta_stbl.txt'), \n",
    "        quote = F, col.names=FALSE, row.names=FALSE,sep ='\\t'\n",
    "    )\n",
    "}"
   ]
  },
  {
   "cell_type": "markdown",
   "metadata": {
    "tags": []
   },
   "source": [
    "#\n",
    "___"
   ]
  },
  {
   "cell_type": "code",
   "execution_count": 38,
   "metadata": {
    "tags": []
   },
   "outputs": [
    {
     "data": {
      "text/plain": [
       "R version 4.1.1 (2021-08-10)\n",
       "Platform: x86_64-conda-linux-gnu (64-bit)\n",
       "Running under: CentOS Linux 7 (Core)\n",
       "\n",
       "Matrix products: default\n",
       "BLAS/LAPACK: /data_gilbert/home/aarab/anaconda3/envs/deseq2/lib/libopenblasp-r0.3.18.so\n",
       "\n",
       "locale:\n",
       " [1] LC_CTYPE=en_US.UTF-8       LC_NUMERIC=C              \n",
       " [3] LC_TIME=en_US.UTF-8        LC_COLLATE=en_US.UTF-8    \n",
       " [5] LC_MONETARY=en_US.UTF-8    LC_MESSAGES=en_US.UTF-8   \n",
       " [7] LC_PAPER=en_US.UTF-8       LC_NAME=C                 \n",
       " [9] LC_ADDRESS=C               LC_TELEPHONE=C            \n",
       "[11] LC_MEASUREMENT=en_US.UTF-8 LC_IDENTIFICATION=C       \n",
       "\n",
       "attached base packages:\n",
       "[1] grid      stats4    stats     graphics  grDevices utils     datasets \n",
       "[8] methods   base     \n",
       "\n",
       "other attached packages:\n",
       " [1] RColorBrewer_1.1-2   ggcorrplot_0.1.3     pheatmap_1.0.12     \n",
       " [4] corrplot_0.92        Hmisc_4.6-0          Formula_1.2-4       \n",
       " [7] survival_3.2-13      lattice_0.20-45      ggthemes_4.2.4      \n",
       "[10] gridExtra_2.3        patchwork_1.1.1      ggrepel_0.9.1       \n",
       "[13] forcats_0.5.1        stringr_1.4.0        dplyr_1.0.7         \n",
       "[16] purrr_0.3.4          readr_2.0.2          tidyr_1.1.4         \n",
       "[19] tibble_3.1.6         ggplot2_3.3.5        tidyverse_1.3.1     \n",
       "[22] rtracklayer_1.54.0   GenomicRanges_1.46.0 GenomeInfoDb_1.30.0 \n",
       "[25] IRanges_2.28.0       S4Vectors_0.32.0     Biobase_2.54.0      \n",
       "[28] BiocGenerics_0.40.0  edgeR_3.36.0         limma_3.50.0        \n",
       "\n",
       "loaded via a namespace (and not attached):\n",
       " [1] colorspace_2.0-2            rjson_0.2.20               \n",
       " [3] ellipsis_0.3.2              IRdisplay_1.0              \n",
       " [5] htmlTable_2.3.0             XVector_0.34.0             \n",
       " [7] base64enc_0.1-3             fs_1.5.0                   \n",
       " [9] rstudioapi_0.13             farver_2.1.0               \n",
       "[11] fansi_0.4.2                 lubridate_1.8.0            \n",
       "[13] xml2_1.3.2                  splines_4.1.1              \n",
       "[15] knitr_1.35                  IRkernel_1.2               \n",
       "[17] jsonlite_1.7.2              Rsamtools_2.10.0           \n",
       "[19] broom_0.7.10                cluster_2.1.2              \n",
       "[21] dbplyr_2.1.1                png_0.1-7                  \n",
       "[23] compiler_4.1.1              httr_1.4.2                 \n",
       "[25] backports_1.3.0             assertthat_0.2.1           \n",
       "[27] Matrix_1.3-4                fastmap_1.1.0              \n",
       "[29] cli_3.1.0                   htmltools_0.5.2            \n",
       "[31] tools_4.1.1                 gtable_0.3.0               \n",
       "[33] glue_1.5.0                  GenomeInfoDbData_1.2.7     \n",
       "[35] reshape2_1.4.4              Rcpp_1.0.7                 \n",
       "[37] cellranger_1.1.0            vctrs_0.3.8                \n",
       "[39] Biostrings_2.62.0           xfun_0.28                  \n",
       "[41] rvest_1.0.2                 lifecycle_1.0.1            \n",
       "[43] restfulr_0.0.13             XML_3.99-0.8               \n",
       "[45] zlibbioc_1.40.0             scales_1.1.1               \n",
       "[47] hms_1.1.1                   MatrixGenerics_1.6.0       \n",
       "[49] parallel_4.1.1              SummarizedExperiment_1.24.0\n",
       "[51] yaml_2.2.1                  rpart_4.1-15               \n",
       "[53] latticeExtra_0.6-29         stringi_1.7.5              \n",
       "[55] BiocIO_1.4.0                checkmate_2.0.0            \n",
       "[57] BiocParallel_1.28.0         repr_1.1.3                 \n",
       "[59] rlang_0.4.12                pkgconfig_2.0.3            \n",
       "[61] matrixStats_0.61.0          bitops_1.0-7               \n",
       "[63] evaluate_0.14               labeling_0.4.2             \n",
       "[65] GenomicAlignments_1.30.0    htmlwidgets_1.5.4          \n",
       "[67] tidyselect_1.1.1            plyr_1.8.6                 \n",
       "[69] magrittr_2.0.1              R6_2.5.1                   \n",
       "[71] generics_0.1.1              pbdZMQ_0.3-6               \n",
       "[73] DelayedArray_0.20.0         DBI_1.1.1                  \n",
       "[75] pillar_1.6.4                haven_2.4.3                \n",
       "[77] foreign_0.8-81              withr_2.4.2                \n",
       "[79] RCurl_1.98-1.5              nnet_7.3-16                \n",
       "[81] modelr_0.1.8                crayon_1.4.2               \n",
       "[83] uuid_1.0-3                  utf8_1.2.2                 \n",
       "[85] tzdb_0.2.0                  jpeg_0.1-9                 \n",
       "[87] locfit_1.5-9.4              readxl_1.3.1               \n",
       "[89] data.table_1.14.2           reprex_2.0.1               \n",
       "[91] digest_0.6.28               munsell_0.5.0              "
      ]
     },
     "metadata": {},
     "output_type": "display_data"
    }
   ],
   "source": [
    "sessionInfo()"
   ]
  },
  {
   "cell_type": "code",
   "execution_count": 39,
   "metadata": {
    "tags": []
   },
   "outputs": [
    {
     "data": {
      "text/html": [
       "'Wed Aug 30 16:02:29 2023'"
      ],
      "text/latex": [
       "'Wed Aug 30 16:02:29 2023'"
      ],
      "text/markdown": [
       "'Wed Aug 30 16:02:29 2023'"
      ],
      "text/plain": [
       "[1] \"Wed Aug 30 16:02:29 2023\""
      ]
     },
     "metadata": {},
     "output_type": "display_data"
    }
   ],
   "source": [
    "date()"
   ]
  }
 ],
 "metadata": {
  "kernelspec": {
   "display_name": "R [conda env:anaconda3-deseq2]",
   "language": "R",
   "name": "conda-env-anaconda3-deseq2-r"
  },
  "language_info": {
   "codemirror_mode": "r",
   "file_extension": ".r",
   "mimetype": "text/x-r-source",
   "name": "R",
   "pygments_lexer": "r",
   "version": "4.1.1"
  }
 },
 "nbformat": 4,
 "nbformat_minor": 4
}
