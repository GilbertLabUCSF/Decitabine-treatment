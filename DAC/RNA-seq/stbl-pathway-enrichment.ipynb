{
 "cells": [
  {
   "cell_type": "markdown",
   "metadata": {},
   "source": [
    "__Aim:__ Consistency analysis across cell lines using pathway enrichment results to find commonly up/down regulated pathways and their genes. \n",
    "\n",
    "___\n",
    "- https://github.com/abearab/ipage-msigdb\n",
    "- https://github.com/tanghaibao/goatools\n",
    "- https://gseapy.readthedocs.io/en/latest/index.html"
   ]
  },
  {
   "cell_type": "markdown",
   "metadata": {},
   "source": [
    "Hani: _\"You must redo iPAGE with `--independence=0` option for comparing results between multiple smaples.\"_"
   ]
  },
  {
   "cell_type": "code",
   "execution_count": 1,
   "metadata": {},
   "outputs": [],
   "source": [
    "import re\n",
    "import sys\n",
    "import pandas as pd \n",
    "import numpy as np\n",
    "import matplotlib.pyplot as plt\n",
    "from time import time \n",
    "from glob import glob\n",
    "from matplotlib.pyplot import subplots\n",
    "from itertools import chain\n",
    "from functools import reduce\n",
    "from venn import venn\n",
    "\n",
    "# sys.path.append('/rumi/shams/abe/Projects/ipage-down/')\n",
    "sys.path.append('/data_gilbert/home/aarab/Projects/pager/')\n",
    "\n",
    "import upsetplot as us\n",
    "import ipage_down as ipd\n",
    "from matplotlib.backends.backend_pdf import PdfPages\n",
    "\n",
    "from IPython.display import IFrame"
   ]
  },
  {
   "cell_type": "code",
   "execution_count": 2,
   "metadata": {},
   "outputs": [],
   "source": [
    "pagerdir='/data_gilbert/home/aarab/Projects/pager'"
   ]
  },
  {
   "cell_type": "code",
   "execution_count": 3,
   "metadata": {},
   "outputs": [],
   "source": [
    "# def get_pvmatrix_list(parent_path,pattern):\n",
    "#     \"\"\"\n",
    "#     pattern: msigdb gene set cluster name \n",
    "#     \"\"\"\n",
    "#     return glob(f'{parent_path}/*{pattern}*/pvmatrix.txt')\n",
    "\n",
    "# def get_pv_signal(exp,patterns,pdf=None):\n",
    "#     \"\"\"\n",
    "#     exp: experiment name\n",
    "#     patterns: list of patterns\n",
    "#     \"\"\"\n",
    "#     cols = pd.concat([\n",
    "#         ipd.pvmat2bio_signal(ipd.merge_multiple_pvmat(\n",
    "#             get_pvmatrix_list(f\"{exp}_fdr\",\"c1\")\n",
    "#         ),s,n_clust=1) for s in ['up','both','down']\n",
    "#     ]).columns\n",
    "    \n",
    "#     pv_signal = pd.concat([\n",
    "#         ipd.pvmat2bio_signal(ipd.merge_multiple_pvmat([\n",
    "#             pvmat for pattern in patterns\n",
    "#             for pvmat in \n",
    "#             get_pvmatrix_list(f\"{exp}\",pattern) + \\\n",
    "#             get_pvmatrix_list(f\"{exp}_fdr\",pattern)\n",
    "#         ]),s,n_clust=2) for s in ['up','both','down']\n",
    "#     ])\n",
    "    \n",
    "#     pv_signal.columns = cols\n",
    "#     pv_signal=pv_signal[~pv_signal.duplicated()]\n",
    "    \n",
    "#     if pdf:\n",
    "#         pv_signal.to_csv('temp-pvmatrix.txt',sep='\\t')\n",
    "    \n",
    "#         !bash {pager_dir}/ipage_draw_matrix.sh \\\n",
    "#             {exp}'.txt' \"temp-pvmatrix.txt\" \\\n",
    "#             {pdf} &> /dev/null\n",
    "    \n",
    "#         !rm -v 'temp-pvmatrix.txt'\n",
    "#     else: \n",
    "#         return pv_signal\n"
   ]
  },
  {
   "cell_type": "code",
   "execution_count": null,
   "metadata": {},
   "outputs": [],
   "source": []
  },
  {
   "cell_type": "code",
   "execution_count": null,
   "metadata": {},
   "outputs": [],
   "source": []
  },
  {
   "cell_type": "code",
   "execution_count": null,
   "metadata": {},
   "outputs": [],
   "source": []
  },
  {
   "cell_type": "code",
   "execution_count": null,
   "metadata": {},
   "outputs": [],
   "source": []
  },
  {
   "cell_type": "code",
   "execution_count": 4,
   "metadata": {},
   "outputs": [],
   "source": [
    "dictfilt = lambda x, y: dict([ (i,x[i]) for i in x if i in set(y) ])"
   ]
  },
  {
   "cell_type": "code",
   "execution_count": 5,
   "metadata": {},
   "outputs": [
    {
     "data": {
      "text/plain": [
       "'/data_gilbert/home/aarab/Projects/pager/'"
      ]
     },
     "execution_count": 5,
     "metadata": {},
     "output_type": "execute_result"
    }
   ],
   "source": [
    "sys.path[-1]"
   ]
  },
  {
   "cell_type": "code",
   "execution_count": 6,
   "metadata": {
    "tags": []
   },
   "outputs": [
    {
     "name": "stdout",
     "output_type": "stream",
     "text": [
      "## $1: input file contain table with first two columns as gene name/id and numeric value\n",
      "# pattern='msigdb_v0.3_m*'\n",
      "pattern='msigdb_v7*'\n",
      "\n",
      "\n",
      "expfile=`basename $1`\n",
      "outdir=${1/.txt/};\n",
      "\n",
      "mkdir -p $outdir\n",
      "cd $outdir; cd ../\n",
      "\n",
      "for f in `ls -d $PAGEDIR/PAGE_DATA/ANNOTATIONS/${pattern}`; do\n",
      "    base=`basename \"$f\"`;\n",
      "    echo '________________' $base '________________';\n",
      "    if [ -d \"${outdir}/${base}/\" ]; \n",
      "    then\n",
      "        echo 'This result exist!';\n",
      "    else\n",
      "        # Run iPAGE \n",
      "        perl $PAGEDIR/page.pl --expfile=$expfile --species=$base --exptype=continuous --ebins=11 --nodups=1 --independence=0;\n",
      "            # --independence=0; option for comparing results between multiple smaples.\n",
      "        wait\n",
      "        mv -v ${expfile}_PAGE/ ${outdir}/${base}/;\n",
      "        # remove the result folder if it was empty\n",
      "        counter=\"$(wc -l < ${outdir}/${base}/pvmatrix.txt)\"\n",
      "        if [ $counter -le \"$(echo '1')\" ] || [ -z $counter ]\n",
      "        then\n",
      "            rm -r ${outdir}/${base}\n",
      "        fi;\n",
      "        rm -r \\\n",
      "          ${outdir}/${base}/*txt.summary* \\\n",
      "          ${outdir}/${base}/SUMMARY \\\n",
      "          ${outdir}/${base}/imgsrc \\\n",
      "          ${outdir}/${base}/info.txt \\\n",
      "          ${outdir}/${base}/pvmatrix.txt.killed \\\n",
      "          ${outdir}/${base}/pvmatrix.txt.log\n",
      "          # ${outdir}/${base}/input.ipage_quantized\n",
      "    fi\n",
      "done\n"
     ]
    }
   ],
   "source": [
    "!cat /data_gilbert/home/aarab/Projects/pager/ipage_loop.sh"
   ]
  },
  {
   "cell_type": "markdown",
   "metadata": {
    "tags": []
   },
   "source": [
    "## $\\Delta$Stability"
   ]
  },
  {
   "cell_type": "code",
   "execution_count": 8,
   "metadata": {},
   "outputs": [],
   "source": [
    "cell_line_pws = {}"
   ]
  },
  {
   "cell_type": "code",
   "execution_count": 7,
   "metadata": {
    "tags": []
   },
   "outputs": [],
   "source": [
    "# %%bash\n",
    "# export PAGEDIR='/data_gilbert/home/aarab/iPAGE'\n",
    "\n",
    "# cd stbl/\n",
    "# ls *_delta_stbl.txt | parallel -j18 -k bash /data_gilbert/home/aarab/Projects/pager/ipage_loop.sh\n",
    "# cd ../"
   ]
  },
  {
   "cell_type": "markdown",
   "metadata": {
    "tags": []
   },
   "source": [
    "### Remake from pvmatrix (correct bin clusters)"
   ]
  },
  {
   "cell_type": "markdown",
   "metadata": {
    "tags": []
   },
   "source": [
    "### HL-60 time series"
   ]
  },
  {
   "cell_type": "markdown",
   "metadata": {
    "tags": []
   },
   "source": [
    "#### hl60 6h delta_stbl"
   ]
  },
  {
   "cell_type": "code",
   "execution_count": 19,
   "metadata": {
    "tags": []
   },
   "outputs": [],
   "source": [
    "study = 'hl60_6h_delta_stbl'\n",
    "\n",
    "pvmat = ipd.merge_multiple_pvmat(\n",
    "    pvmat_list = glob(f'stbl/{study}/*c5.go*/pvmatrix.txt') #+ glob(f'stbl/{study}_ind1/*c2.cp.kegg*/pvmatrix.txt')\n",
    ")\n",
    "\n",
    "bio_signal = pd.concat([\n",
    "    ipd.pvmat2bio_signal(pvmat,side='down',n_clust=1),\n",
    "    ipd.pvmat2bio_signal(pvmat,side='up',n_clust=1),\n",
    "    ipd.pvmat2bio_signal(pvmat,side='both'),\n",
    "],axis=0)\n",
    "\n",
    "bio_signal.to_csv(f'stbl/{study}_pvmatrix.txt',sep='\\t')\n",
    "cell_line_pws[study] = bio_signal\n",
    "\n",
    "exp_file = f'{study}.txt'\n",
    "pvmat_file = f'{study}_pvmatrix.txt'\n",
    "pdf_file = f'{study}.pdf'\n",
    "\n",
    "!cd stbl; bash {pagerdir}/ipage_draw_matrix.sh $exp_file $pvmat_file $pdf_file &> /dev/null; cd ../"
   ]
  },
  {
   "cell_type": "code",
   "execution_count": 20,
   "metadata": {},
   "outputs": [
    {
     "data": {
      "text/html": [
       "\n",
       "        <iframe\n",
       "            width=\"800\"\n",
       "            height=\"200\"\n",
       "            src=\"stbl/hl60_6h_delta_stbl.pdf\"\n",
       "            frameborder=\"0\"\n",
       "            allowfullscreen\n",
       "        ></iframe>\n",
       "        "
      ],
      "text/plain": [
       "<IPython.lib.display.IFrame at 0x7f941364d828>"
      ]
     },
     "execution_count": 20,
     "metadata": {},
     "output_type": "execute_result"
    }
   ],
   "source": [
    "pdf = 'stbl/hl60_6h_delta_stbl.pdf'\n",
    "IFrame(pdf, width=800, height=200)"
   ]
  },
  {
   "cell_type": "code",
   "execution_count": 21,
   "metadata": {},
   "outputs": [],
   "source": [
    "# gs = 'GOBP_REGULATION_OF_CHOLESTEROL_BIOSYNTHETIC_PROCESS'\n",
    "# pvmat_list = glob(f'stbl/{study}_ind0/*c5.go*/pvmatrix.txt')\n",
    "# gs_cluster_path = ipd.detect_gs_cluster(pvmat_list, gs=gs)\n",
    "\n",
    "# print ([p.split('/')[1:3] for p in gs_cluster_path])\n",
    "\n",
    "# gs_cluster_path = gs_cluster_path[1].split('pvmatrix.txt')[0]\n",
    "# print ('Down')\n",
    "# print (ipd.bin_identifier_genes(gs_cluster_path, '0', gs=gs))\n",
    "# print ('Up')\n",
    "# print (ipd.bin_identifier_genes(gs_cluster_path, '9', gs=gs))\n",
    "# print (ipd.bin_identifier_genes(gs_cluster_path, '10', gs=gs))"
   ]
  },
  {
   "cell_type": "markdown",
   "metadata": {
    "tags": []
   },
   "source": [
    "#### hl60 72h delta_stbl"
   ]
  },
  {
   "cell_type": "code",
   "execution_count": 22,
   "metadata": {
    "tags": []
   },
   "outputs": [],
   "source": [
    "study = 'hl60_72h_delta_stbl'\n",
    "\n",
    "pvmat = ipd.merge_multiple_pvmat(\n",
    "    pvmat_list = glob(f'stbl/{study}/*c5.go*/pvmatrix.txt') #+ glob(f'stbl/{study}_ind1/*c2.cp.kegg*/pvmatrix.txt')\n",
    ")\n",
    "\n",
    "bio_signal = pd.concat([\n",
    "    ipd.pvmat2bio_signal(pvmat,side='down',n_clust=1),\n",
    "    ipd.pvmat2bio_signal(pvmat,side='up',n_clust=1),\n",
    "    ipd.pvmat2bio_signal(pvmat,side='both'),\n",
    "],axis=0)\n",
    "\n",
    "cell_line_pws[study] = bio_signal\n",
    "\n",
    "bio_signal.to_csv(f'stbl/{study}_pvmatrix.txt',sep='\\t')\n",
    "\n",
    "exp_file = f'{study}.txt'\n",
    "pvmat_file = f'{study}_pvmatrix.txt'\n",
    "pdf_file = f'{study}.pdf'\n",
    "\n",
    "!cd stbl; bash {pagerdir}/ipage_draw_matrix.sh $exp_file $pvmat_file $pdf_file &> /dev/null; cd ../"
   ]
  },
  {
   "cell_type": "code",
   "execution_count": 23,
   "metadata": {},
   "outputs": [
    {
     "data": {
      "text/html": [
       "\n",
       "        <iframe\n",
       "            width=\"800\"\n",
       "            height=\"200\"\n",
       "            src=\"stbl/hl60_72h_delta_stbl.pdf\"\n",
       "            frameborder=\"0\"\n",
       "            allowfullscreen\n",
       "        ></iframe>\n",
       "        "
      ],
      "text/plain": [
       "<IPython.lib.display.IFrame at 0x7f941364dd30>"
      ]
     },
     "execution_count": 23,
     "metadata": {},
     "output_type": "execute_result"
    }
   ],
   "source": [
    "pdf = 'stbl/hl60_72h_delta_stbl.pdf'\n",
    "IFrame(pdf, width=800, height=200)"
   ]
  },
  {
   "cell_type": "code",
   "execution_count": 26,
   "metadata": {
    "tags": []
   },
   "outputs": [],
   "source": [
    "# # study = 'hl60_72h_delta_stbl'\n",
    "# study = 'hl60_120h_delta_stbl'\n",
    "\n",
    "# pvmat = ipd.merge_multiple_pvmat(\n",
    "#     pvmat_list = glob(f'stbl/{study}/*c3*/pvmatrix.txt') \n",
    "#     #+ glob(f'stbl/{study}_ind1/*c2.cp.kegg*/pvmatrix.txt')\n",
    "# )\n",
    "\n",
    "# bio_signal = pd.concat([\n",
    "#     ipd.pvmat2bio_signal(pvmat,side='down',n_clust=1),\n",
    "#     ipd.pvmat2bio_signal(pvmat,side='up',n_clust=1),\n",
    "#     ipd.pvmat2bio_signal(pvmat,side='both'),\n",
    "# ],axis=0)\n",
    "\n",
    "# bio_signal\n"
   ]
  },
  {
   "cell_type": "code",
   "execution_count": 27,
   "metadata": {},
   "outputs": [],
   "source": [
    "# gs = 'MIR193A_3P_MIR193B_3P'\n",
    "# pvmat_list = glob(f'stbl/{study}/*c3*/pvmatrix.txt')\n",
    "# gs_cluster_path = ipd.detect_gs_cluster(pvmat_list, gs=gs)\n",
    "\n",
    "# print ([p.split('/')[1:3] for p in gs_cluster_path])\n",
    "\n",
    "# gs_cluster_path = gs_cluster_path[0].split('pvmatrix.txt')[0]\n",
    "# print ('Down')\n",
    "# print (ipd.bin_identifier_genes(gs_cluster_path, '0', gs=gs))\n",
    "# # print (ipd.bin_identifier_genes(gs_cluster_path, '1', gs=gs))\n",
    "# # print (ipd.bin_identifier_genes(gs_cluster_path, '2', gs=gs))\n",
    "# # print (ipd.bin_identifier_genes(gs_cluster_path, '3', gs=gs))\n",
    "# print ('Up')\n",
    "# print (ipd.bin_identifier_genes(gs_cluster_path, '9', gs=gs))\n",
    "# print (ipd.bin_identifier_genes(gs_cluster_path, '10', gs=gs))"
   ]
  },
  {
   "cell_type": "markdown",
   "metadata": {
    "tags": []
   },
   "source": [
    "#### hl60 120h delta_stbl"
   ]
  },
  {
   "cell_type": "code",
   "execution_count": 30,
   "metadata": {
    "tags": []
   },
   "outputs": [],
   "source": [
    "study = 'hl60_120h_delta_stbl'\n",
    "\n",
    "pvmat = ipd.merge_multiple_pvmat(\n",
    "    pvmat_list = glob(f'stbl/{study}/*c5.go*/pvmatrix.txt') #+ glob(f'stbl/{study}_ind1/*c2.cp.kegg*/pvmatrix.txt')\n",
    ")\n",
    "\n",
    "bio_signal = pd.concat([\n",
    "    ipd.pvmat2bio_signal(pvmat,side='down',n_clust=1),\n",
    "    ipd.pvmat2bio_signal(pvmat,side='up',n_clust=1),\n",
    "    ipd.pvmat2bio_signal(pvmat,side='both'),\n",
    "],axis=0)\n",
    "\n",
    "cell_line_pws[study] = bio_signal\n",
    "\n",
    "bio_signal.to_csv(f'stbl/{study}_pvmatrix.txt',sep='\\t')\n",
    "\n",
    "exp_file = f'{study}.txt'\n",
    "pvmat_file = f'{study}_pvmatrix.txt'\n",
    "pdf_file = f'{study}.pdf'\n",
    "\n",
    "!cd stbl; bash {pagerdir}/ipage_draw_matrix.sh $exp_file $pvmat_file $pdf_file &> /dev/null; cd ../"
   ]
  },
  {
   "cell_type": "code",
   "execution_count": 31,
   "metadata": {},
   "outputs": [
    {
     "data": {
      "text/html": [
       "\n",
       "        <iframe\n",
       "            width=\"800\"\n",
       "            height=\"200\"\n",
       "            src=\"stbl/hl60_120h_delta_stbl.pdf\"\n",
       "            frameborder=\"0\"\n",
       "            allowfullscreen\n",
       "        ></iframe>\n",
       "        "
      ],
      "text/plain": [
       "<IPython.lib.display.IFrame at 0x7f941364db00>"
      ]
     },
     "execution_count": 31,
     "metadata": {},
     "output_type": "execute_result"
    }
   ],
   "source": [
    "pdf = 'stbl/hl60_120h_delta_stbl.pdf'\n",
    "IFrame(pdf, width=800, height=200)"
   ]
  },
  {
   "cell_type": "code",
   "execution_count": null,
   "metadata": {},
   "outputs": [],
   "source": []
  },
  {
   "cell_type": "code",
   "execution_count": 32,
   "metadata": {},
   "outputs": [],
   "source": [
    "# gs = 'GOBP_RESPONSE_TO_STEROL'\n",
    "# pvmat_list = glob(f'stbl/{study}_ind0/*c5.go*/pvmatrix.txt')\n",
    "# gs_cluster_path = ipd.detect_gs_cluster(pvmat_list, gs=gs)\n",
    "\n",
    "# print ([p.split('/')[1:3] for p in gs_cluster_path])\n",
    "\n",
    "# gs_cluster_path = gs_cluster_path[1].split('pvmatrix.txt')[0]\n",
    "# print ('Down')\n",
    "# print (ipd.bin_identifier_genes(gs_cluster_path, '0', gs=gs))\n",
    "# print ('Up')\n",
    "# print (ipd.bin_identifier_genes(gs_cluster_path, '9', gs=gs))\n",
    "# print (ipd.bin_identifier_genes(gs_cluster_path, '10', gs=gs))"
   ]
  },
  {
   "cell_type": "code",
   "execution_count": null,
   "metadata": {},
   "outputs": [],
   "source": []
  },
  {
   "cell_type": "code",
   "execution_count": 33,
   "metadata": {},
   "outputs": [],
   "source": [
    "# ind1 = 'hl60_120h_delta_stbl_ind1'\n",
    "# ipd.clean_bins_range(\n",
    "#     pd.concat([\n",
    "#         ipd.read_pvmatrix(f'stbl/{ind1}/msigdb_v7.4_c5.all/pvmatrix.L.txt'),\n",
    "#         ipd.read_pvmatrix(f'stbl/{ind1}/msigdb_v7.4_c5.all/pvmatrix.R.txt')\n",
    "#     ])\n",
    "# ).drop_duplicates().to_csv(f\"stbl/{ind1.replace('_ind1','_pvmatrix')}.txt\",sep = '\\t')"
   ]
  },
  {
   "cell_type": "markdown",
   "metadata": {
    "tags": []
   },
   "source": [
    "#### molm14_delta_stbl"
   ]
  },
  {
   "cell_type": "code",
   "execution_count": 34,
   "metadata": {
    "tags": []
   },
   "outputs": [],
   "source": [
    "study = 'molm14_delta_stbl'\n",
    "\n",
    "pvmat = ipd.merge_multiple_pvmat(\n",
    "    pvmat_list = glob(f'stbl/{study}/*c5.go*/pvmatrix.txt') #+ glob(f'stbl/{study}_ind1/*c2.cp.kegg*/pvmatrix.txt')\n",
    ")\n",
    "\n",
    "bio_signal = pd.concat([\n",
    "    ipd.pvmat2bio_signal(pvmat,side='down',n_clust=1),\n",
    "    ipd.pvmat2bio_signal(pvmat,side='up',n_clust=1),\n",
    "    ipd.pvmat2bio_signal(pvmat,side='both'),\n",
    "],axis=0)\n",
    "\n",
    "cell_line_pws[study] = bio_signal\n",
    "\n",
    "bio_signal.to_csv(f'stbl/{study}_pvmatrix.txt',sep='\\t')\n",
    "\n",
    "exp_file = f'{study}.txt'\n",
    "pvmat_file = f'{study}_pvmatrix.txt'\n",
    "pdf_file = f'{study}.pdf'\n",
    "\n",
    "!cd stbl; bash {pagerdir}/ipage_draw_matrix.sh $exp_file $pvmat_file $pdf_file &> /dev/null; cd ../"
   ]
  },
  {
   "cell_type": "code",
   "execution_count": 35,
   "metadata": {},
   "outputs": [
    {
     "data": {
      "text/html": [
       "\n",
       "        <iframe\n",
       "            width=\"800\"\n",
       "            height=\"200\"\n",
       "            src=\"stbl/molm14_delta_stbl.pdf\"\n",
       "            frameborder=\"0\"\n",
       "            allowfullscreen\n",
       "        ></iframe>\n",
       "        "
      ],
      "text/plain": [
       "<IPython.lib.display.IFrame at 0x7f9413413da0>"
      ]
     },
     "execution_count": 35,
     "metadata": {},
     "output_type": "execute_result"
    }
   ],
   "source": [
    "pdf = 'stbl/molm14_delta_stbl.pdf'\n",
    "IFrame(pdf, width=800, height=200)"
   ]
  },
  {
   "cell_type": "markdown",
   "metadata": {
    "tags": []
   },
   "source": [
    "#### ociaml2_delta_stbl"
   ]
  },
  {
   "cell_type": "code",
   "execution_count": 37,
   "metadata": {
    "tags": []
   },
   "outputs": [],
   "source": [
    "study = 'ociaml2_delta_stbl'\n",
    "\n",
    "pvmat = ipd.merge_multiple_pvmat(\n",
    "    pvmat_list = glob(f'stbl/{study}/*c5.go*/pvmatrix.txt') #+ glob(f'stbl/{study}_ind1/*c2.cp.kegg*/pvmatrix.txt')\n",
    ")\n",
    "\n",
    "bio_signal = pd.concat([\n",
    "    ipd.pvmat2bio_signal(pvmat,side='down',n_clust=1),\n",
    "    ipd.pvmat2bio_signal(pvmat,side='up',n_clust=1),\n",
    "    ipd.pvmat2bio_signal(pvmat,side='both'),\n",
    "],axis=0)\n",
    "\n",
    "cell_line_pws[study] = bio_signal\n",
    "\n",
    "bio_signal.to_csv(f'stbl/{study}_pvmatrix.txt',sep='\\t')\n",
    "\n",
    "exp_file = f'{study}.txt'\n",
    "pvmat_file = f'{study}_pvmatrix.txt'\n",
    "pdf_file = f'{study}.pdf'\n",
    "\n",
    "!cd stbl; bash {pagerdir}/ipage_draw_matrix.sh $exp_file $pvmat_file $pdf_file &> /dev/null; cd ../"
   ]
  },
  {
   "cell_type": "code",
   "execution_count": 38,
   "metadata": {},
   "outputs": [
    {
     "data": {
      "text/html": [
       "\n",
       "        <iframe\n",
       "            width=\"800\"\n",
       "            height=\"200\"\n",
       "            src=\"stbl/ociaml2_delta_stbl.pdf\"\n",
       "            frameborder=\"0\"\n",
       "            allowfullscreen\n",
       "        ></iframe>\n",
       "        "
      ],
      "text/plain": [
       "<IPython.lib.display.IFrame at 0x7f9413413b00>"
      ]
     },
     "execution_count": 38,
     "metadata": {},
     "output_type": "execute_result"
    }
   ],
   "source": [
    "pdf = 'stbl/ociaml2_delta_stbl.pdf'\n",
    "IFrame(pdf, width=800, height=200)"
   ]
  },
  {
   "cell_type": "markdown",
   "metadata": {
    "tags": []
   },
   "source": [
    "#### ociaml3_delta_stbl"
   ]
  },
  {
   "cell_type": "code",
   "execution_count": 39,
   "metadata": {
    "tags": []
   },
   "outputs": [],
   "source": [
    "study = 'ociaml3_delta_stbl'\n",
    "\n",
    "pvmat = ipd.merge_multiple_pvmat(\n",
    "    pvmat_list = glob(f'stbl/{study}/*c5.go*/pvmatrix.txt') #+ glob(f'stbl/{study}_ind1/*c2.cp.kegg*/pvmatrix.txt')\n",
    ")\n",
    "\n",
    "bio_signal = pd.concat([\n",
    "    ipd.pvmat2bio_signal(pvmat,side='down',n_clust=1),\n",
    "    ipd.pvmat2bio_signal(pvmat,side='up',n_clust=1),\n",
    "    ipd.pvmat2bio_signal(pvmat,side='both'),\n",
    "],axis=0)\n",
    "\n",
    "cell_line_pws[study] = bio_signal\n",
    "\n",
    "bio_signal.to_csv(f'stbl/{study}_pvmatrix.txt',sep='\\t')\n",
    "\n",
    "exp_file = f'{study}.txt'\n",
    "pvmat_file = f'{study}_pvmatrix.txt'\n",
    "pdf_file = f'{study}.pdf'\n",
    "\n",
    "!cd stbl; bash {pagerdir}/ipage_draw_matrix.sh $exp_file $pvmat_file $pdf_file &> /dev/null; cd ../"
   ]
  },
  {
   "cell_type": "code",
   "execution_count": 40,
   "metadata": {},
   "outputs": [
    {
     "data": {
      "text/html": [
       "\n",
       "        <iframe\n",
       "            width=\"800\"\n",
       "            height=\"200\"\n",
       "            src=\"stbl/ociaml3_delta_stbl.pdf\"\n",
       "            frameborder=\"0\"\n",
       "            allowfullscreen\n",
       "        ></iframe>\n",
       "        "
      ],
      "text/plain": [
       "<IPython.lib.display.IFrame at 0x7f94133a0860>"
      ]
     },
     "execution_count": 40,
     "metadata": {},
     "output_type": "execute_result"
    }
   ],
   "source": [
    "pdf = 'stbl/ociaml3_delta_stbl.pdf'\n",
    "IFrame(pdf, width=800, height=200)"
   ]
  },
  {
   "cell_type": "markdown",
   "metadata": {
    "tags": []
   },
   "source": [
    "#### kg1_delta_stbl"
   ]
  },
  {
   "cell_type": "code",
   "execution_count": 41,
   "metadata": {
    "tags": []
   },
   "outputs": [],
   "source": [
    "study = 'kg1_delta_stbl'\n",
    "\n",
    "pvmat = ipd.merge_multiple_pvmat(\n",
    "    pvmat_list = glob(f'stbl/{study}/*c5.go*/pvmatrix.txt') #+ glob(f'stbl/{study}_ind1/*c2.cp.kegg*/pvmatrix.txt')\n",
    ")\n",
    "\n",
    "bio_signal = pd.concat([\n",
    "    ipd.pvmat2bio_signal(pvmat,side='down',n_clust=1),\n",
    "    ipd.pvmat2bio_signal(pvmat,side='up',n_clust=1),\n",
    "    ipd.pvmat2bio_signal(pvmat,side='both'),\n",
    "],axis=0)\n",
    "\n",
    "cell_line_pws[study] = bio_signal\n",
    "\n",
    "bio_signal.to_csv(f'stbl/{study}_pvmatrix.txt',sep='\\t')\n",
    "\n",
    "exp_file = f'{study}.txt'\n",
    "pvmat_file = f'{study}_pvmatrix.txt'\n",
    "pdf_file = f'{study}.pdf'\n",
    "\n",
    "!cd stbl; bash {pagerdir}/ipage_draw_matrix.sh $exp_file $pvmat_file $pdf_file &> /dev/null; cd ../"
   ]
  },
  {
   "cell_type": "code",
   "execution_count": 42,
   "metadata": {},
   "outputs": [
    {
     "data": {
      "text/html": [
       "\n",
       "        <iframe\n",
       "            width=\"800\"\n",
       "            height=\"200\"\n",
       "            src=\"stbl/kg1_delta_stbl.pdf\"\n",
       "            frameborder=\"0\"\n",
       "            allowfullscreen\n",
       "        ></iframe>\n",
       "        "
      ],
      "text/plain": [
       "<IPython.lib.display.IFrame at 0x7f9413413780>"
      ]
     },
     "execution_count": 42,
     "metadata": {},
     "output_type": "execute_result"
    }
   ],
   "source": [
    "pdf = 'stbl/kg1_delta_stbl.pdf'\n",
    "IFrame(pdf, width=800, height=200)"
   ]
  },
  {
   "cell_type": "markdown",
   "metadata": {
    "tags": []
   },
   "source": [
    "#### thp1_delta_stbl"
   ]
  },
  {
   "cell_type": "code",
   "execution_count": 43,
   "metadata": {
    "tags": []
   },
   "outputs": [],
   "source": [
    "study = 'thp1_delta_stbl'\n",
    "\n",
    "pvmat = ipd.merge_multiple_pvmat(\n",
    "    pvmat_list = glob(f'stbl/{study}/*c5.go*/pvmatrix.txt') #+ glob(f'stbl/{study}_ind1/*c2.cp.kegg*/pvmatrix.txt')\n",
    ")\n",
    "\n",
    "bio_signal = pd.concat([\n",
    "    ipd.pvmat2bio_signal(pvmat,side='down',n_clust=1),\n",
    "    ipd.pvmat2bio_signal(pvmat,side='up',n_clust=1),\n",
    "    ipd.pvmat2bio_signal(pvmat,side='both'),\n",
    "],axis=0)\n",
    "\n",
    "cell_line_pws[study] = bio_signal\n",
    "\n",
    "bio_signal.to_csv(f'stbl/{study}_pvmatrix.txt',sep='\\t')\n",
    "\n",
    "exp_file = f'{study}.txt'\n",
    "pvmat_file = f'{study}_pvmatrix.txt'\n",
    "pdf_file = f'{study}.pdf'\n",
    "\n",
    "!cd stbl; bash {pagerdir}/ipage_draw_matrix.sh $exp_file $pvmat_file $pdf_file &> /dev/null; cd ../"
   ]
  },
  {
   "cell_type": "code",
   "execution_count": 44,
   "metadata": {},
   "outputs": [
    {
     "data": {
      "text/html": [
       "\n",
       "        <iframe\n",
       "            width=\"800\"\n",
       "            height=\"200\"\n",
       "            src=\"stbl/thp1_delta_stbl.pdf\"\n",
       "            frameborder=\"0\"\n",
       "            allowfullscreen\n",
       "        ></iframe>\n",
       "        "
      ],
      "text/plain": [
       "<IPython.lib.display.IFrame at 0x7f941364d470>"
      ]
     },
     "execution_count": 44,
     "metadata": {},
     "output_type": "execute_result"
    }
   ],
   "source": [
    "pdf = 'stbl/thp1_delta_stbl.pdf'\n",
    "IFrame(pdf, width=800, height=200)"
   ]
  },
  {
   "cell_type": "markdown",
   "metadata": {},
   "source": [
    "# Intersection "
   ]
  },
  {
   "cell_type": "code",
   "execution_count": 46,
   "metadata": {},
   "outputs": [],
   "source": [
    "for name in cell_line_pws:\n",
    "    cell_line_pws[name].columns = list(range(11))"
   ]
  },
  {
   "cell_type": "code",
   "execution_count": 61,
   "metadata": {},
   "outputs": [],
   "source": [
    "df = pd.concat(\n",
    "    [ipd.pvmat2bio_signal(pd.concat(cell_line_pws,axis=0),s,n_clust=n) for n in [1,2,3] for s in ['up','both','down']] \n",
    ").drop_duplicates()\n",
    "\n",
    "df = df.reset_index()#.set_index(['level_1','level_0']).sort_index(0)\n",
    "# df.index.names = [None,None]\n",
    "df = df.rename(columns={'level_0':'line','level_1':'GO'})"
   ]
  },
  {
   "cell_type": "code",
   "execution_count": 49,
   "metadata": {},
   "outputs": [],
   "source": [
    "%reload_ext rpy2.ipython"
   ]
  },
  {
   "cell_type": "code",
   "execution_count": 51,
   "metadata": {},
   "outputs": [],
   "source": [
    "%%R \n",
    "library(ggplot2)\n",
    "library(tidyverse)"
   ]
  },
  {
   "cell_type": "code",
   "execution_count": 53,
   "metadata": {},
   "outputs": [],
   "source": [
    "%%R\n",
    "library(pheatmap)\n",
    "library(RColorBrewer)\n",
    "library(viridis)\n",
    "\n",
    "# makeColorRampPalette <- function(colors, cutoff.fraction, num.colors.in.palette)\n",
    "# {\n",
    "#   stopifnot(length(colors) == 4)\n",
    "#   ramp1 <- colorRampPalette(colors[1:2])(num.colors.in.palette * cutoff.fraction)\n",
    "#   ramp2 <- colorRampPalette(colors[3:4])(num.colors.in.palette * (1 - cutoff.fraction))\n",
    "#   return(c(ramp1, ramp2))\n",
    "# }\n",
    "\n",
    "breaksList = seq(-3,3,by = 1)"
   ]
  },
  {
   "cell_type": "code",
   "execution_count": 181,
   "metadata": {},
   "outputs": [],
   "source": [
    "%%R -i df\n",
    "df <- df %>% remove_rownames() %>%\n",
    "    mutate(line=gsub(\"_delta_stbl\",'',line)) %>%\n",
    "    mutate(GO=gsub(\"GOBP_\",'GOBP | ',GO)) %>%\n",
    "    mutate(GO=gsub(\"GOMF_\",'GOMF | ',GO)) %>%\n",
    "    mutate(GO=gsub(\"GOCC_\",'GOCC | ',GO)) %>%\n",
    "    # mutate(name=paste0(GO,'-',line)) %>%\n",
    "    dplyr::filter(grepl(\"GOBP\",GO)) %>%\n",
    "    # group_by(GO) %>% filter( n() > 1 ) %>% \n",
    "    column_to_rownames('GO') "
   ]
  },
  {
   "cell_type": "code",
   "execution_count": 201,
   "metadata": {},
   "outputs": [],
   "source": [
    "%%R\n",
    "mat_colors <- list(group = brewer.pal(7, \"RdBu\"))$group\n",
    "greens <- brewer.pal(n = 4, name = \"Greens\")\n",
    "set1 <- brewer.pal(n = 6, name = \"Reds\")\n",
    "set2 <- c(\n",
    "    brewer.pal(n = 30, name = \"Reds\"),brewer.pal(n = 30, name = \"Blues\"),\n",
    "    brewer.pal(n = 16, name = \"Set2\"),brewer.pal(n = 16, name = \"Set1\")\n",
    "    # brewer.pal(n = 30, name = \"RdBu\")\n",
    "         )"
   ]
  },
  {
   "cell_type": "code",
   "execution_count": 202,
   "metadata": {},
   "outputs": [
    {
     "name": "stdout",
     "output_type": "stream",
     "text": [
      "[1] \"hl60_6h\"   \"hl60_120h\" \"kg1\"       \"ociaml3\"   \"thp1\"      \"hl60_72h\" \n",
      "[7] \"ociaml2\"   \"molm14\"   \n"
     ]
    }
   ],
   "source": [
    "%%R\n",
    "df$line %>% unique"
   ]
  },
  {
   "cell_type": "code",
   "execution_count": 203,
   "metadata": {},
   "outputs": [],
   "source": [
    "%%R \n",
    "go_col = c()\n",
    "go_names = df$GO %>% unique\n",
    "\n",
    "for (i in c(1:length(go_names))){\n",
    "    go_col[go_names[i]]=set2[i]\n",
    "}\n",
    "\n",
    "ann_colors = list(\n",
    "    line = c(\n",
    "        \"hl60_6h\"=greens[1],\n",
    "        \"hl60_72h\"=greens[2],\n",
    "        \"hl60_120h\"=greens[3],\n",
    "        \"kg1\"=set1[1],\n",
    "        \"molm14\"=set1[2],\n",
    "        \"ociaml3\"=set1[4],\n",
    "        \"ociaml2\"=set1[5],\n",
    "        \"thp1\"=set1[6]\n",
    "    )\n",
    "    # ,    GO=go_col\n",
    ")"
   ]
  },
  {
   "cell_type": "code",
   "execution_count": 204,
   "metadata": {},
   "outputs": [
    {
     "data": {
      "image/png": "[encoded data removed]"
     },
     "metadata": {},
     "output_type": "display_data"
    }
   ],
   "source": [
    "%%R\n",
    "df %>% dplyr::select(-c(line)) %>% \n",
    "    pheatmap(\n",
    "        cluster_cols=F,\n",
    "        cluster_rows=T,\n",
    "        cutree_rows=2,\n",
    "        show_rownames=T,\n",
    "        show_colnames=F,\n",
    "        vmin=-3,vmax=3,\n",
    "        annotation_row = df %>%select(line),\n",
    "        color = mat_colors[length(mat_colors):-1:1],\n",
    "        border_color = F,\n",
    "        breaks = breaksList,\n",
    "        annotation_colors = ann_colors\n",
    "        \n",
    "    ) -> pw_ht"
   ]
  },
  {
   "cell_type": "code",
   "execution_count": 205,
   "metadata": {},
   "outputs": [
    {
     "name": "stdout",
     "output_type": "stream",
     "text": [
      "png \n",
      "  2 \n"
     ]
    }
   ],
   "source": [
    "%%R \n",
    "pdf(\"figures/cell-line-consistency-stbl-GO.pdf\",width=12, height=8)\n",
    "grid::grid.newpage()\n",
    "grid::grid.draw(pw_ht$gtable)\n",
    "\n",
    "dev.off()"
   ]
  },
  {
   "cell_type": "markdown",
   "metadata": {},
   "source": [
    "# \n",
    "___"
   ]
  },
  {
   "cell_type": "code",
   "execution_count": null,
   "metadata": {},
   "outputs": [],
   "source": []
  },
  {
   "cell_type": "code",
   "execution_count": null,
   "metadata": {},
   "outputs": [],
   "source": []
  },
  {
   "cell_type": "code",
   "execution_count": null,
   "metadata": {},
   "outputs": [],
   "source": []
  },
  {
   "cell_type": "code",
   "execution_count": null,
   "metadata": {},
   "outputs": [],
   "source": []
  },
  {
   "cell_type": "code",
   "execution_count": null,
   "metadata": {},
   "outputs": [],
   "source": []
  },
  {
   "cell_type": "code",
   "execution_count": null,
   "metadata": {},
   "outputs": [],
   "source": []
  },
  {
   "cell_type": "code",
   "execution_count": 273,
   "metadata": {},
   "outputs": [
    {
     "name": "stdout",
     "output_type": "stream",
     "text": [
      "Tue Feb  8 17:38:38 PST 2022\n"
     ]
    }
   ],
   "source": [
    "!date"
   ]
  }
 ],
 "metadata": {
  "kernelspec": {
   "display_name": "Python [conda env:down]",
   "language": "python",
   "name": "conda-env-down-py"
  },
  "language_info": {
   "codemirror_mode": {
    "name": "ipython",
    "version": 3
   },
   "file_extension": ".py",
   "mimetype": "text/x-python",
   "name": "python",
   "nbconvert_exporter": "python",
   "pygments_lexer": "ipython3",
   "version": "3.6.13"
  }
 },
 "nbformat": 4,
 "nbformat_minor": 4
}
