{
 "cells": [
  {
   "cell_type": "markdown",
   "metadata": {},
   "source": [
    "__Aim:__ Consistency analysis across cell lines using pathway enrichment results to find commonly up/down regulated pathways and their genes. \n",
    "\n",
    "___\n",
    "- https://github.com/abearab/ipage-msigdb\n",
    "- https://github.com/tanghaibao/goatools\n",
    "- https://gseapy.readthedocs.io/en/latest/index.html"
   ]
  },
  {
   "cell_type": "markdown",
   "metadata": {},
   "source": [
    "Hani: _\"You must redo iPAGE with `--independence=0` option for comparing results between multiple smaples.\"_"
   ]
  },
  {
   "cell_type": "code",
   "execution_count": 1,
   "metadata": {},
   "outputs": [],
   "source": [
    "import re\n",
    "import sys\n",
    "import pandas as pd \n",
    "import numpy as np\n",
    "import matplotlib.pyplot as plt\n",
    "from time import time \n",
    "from glob import glob\n",
    "from matplotlib.pyplot import subplots\n",
    "from itertools import chain\n",
    "from functools import reduce\n",
    "from venn import venn\n",
    "\n",
    "# sys.path.append('/rumi/shams/abe/Projects/ipage-down/')\n",
    "sys.path.append('/data_gilbert/home/aarab/Projects/pager/')\n",
    "\n",
    "import upsetplot as us\n",
    "import ipage_down as ipd\n",
    "from matplotlib.backends.backend_pdf import PdfPages\n",
    "\n",
    "from IPython.display import IFrame"
   ]
  },
  {
   "cell_type": "code",
   "execution_count": 2,
   "metadata": {},
   "outputs": [],
   "source": [
    "pagerdir='/data_gilbert/home/aarab/Projects/pager'"
   ]
  },
  {
   "cell_type": "code",
   "execution_count": 3,
   "metadata": {},
   "outputs": [],
   "source": [
    "# def get_pvmatrix_list(parent_path,pattern):\n",
    "#     \"\"\"\n",
    "#     pattern: msigdb gene set cluster name \n",
    "#     \"\"\"\n",
    "#     return glob(f'{parent_path}/*{pattern}*/pvmatrix.txt')\n",
    "\n",
    "# def get_pv_signal(exp,patterns,pdf=None):\n",
    "#     \"\"\"\n",
    "#     exp: experiment name\n",
    "#     patterns: list of patterns\n",
    "#     \"\"\"\n",
    "#     cols = pd.concat([\n",
    "#         ipd.pvmat2bio_signal(ipd.merge_multiple_pvmat(\n",
    "#             get_pvmatrix_list(f\"{exp}_fdr\",\"c1\")\n",
    "#         ),s,n_clust=1) for s in ['up','both','down']\n",
    "#     ]).columns\n",
    "    \n",
    "#     pv_signal = pd.concat([\n",
    "#         ipd.pvmat2bio_signal(ipd.merge_multiple_pvmat([\n",
    "#             pvmat for pattern in patterns\n",
    "#             for pvmat in \n",
    "#             get_pvmatrix_list(f\"{exp}\",pattern) + \\\n",
    "#             get_pvmatrix_list(f\"{exp}_fdr\",pattern)\n",
    "#         ]),s,n_clust=2) for s in ['up','both','down']\n",
    "#     ])\n",
    "    \n",
    "#     pv_signal.columns = cols\n",
    "#     pv_signal=pv_signal[~pv_signal.duplicated()]\n",
    "    \n",
    "#     if pdf:\n",
    "#         pv_signal.to_csv('temp-pvmatrix.txt',sep='\\t')\n",
    "    \n",
    "#         !bash {pager_dir}/ipage_draw_matrix.sh \\\n",
    "#             {exp}'.txt' \"temp-pvmatrix.txt\" \\\n",
    "#             {pdf} &> /dev/null\n",
    "    \n",
    "#         !rm -v 'temp-pvmatrix.txt'\n",
    "#     else: \n",
    "#         return pv_signal\n"
   ]
  },
  {
   "cell_type": "code",
   "execution_count": null,
   "metadata": {},
   "outputs": [],
   "source": []
  },
  {
   "cell_type": "code",
   "execution_count": null,
   "metadata": {},
   "outputs": [],
   "source": []
  },
  {
   "cell_type": "code",
   "execution_count": null,
   "metadata": {},
   "outputs": [],
   "source": []
  },
  {
   "cell_type": "code",
   "execution_count": null,
   "metadata": {},
   "outputs": [],
   "source": []
  },
  {
   "cell_type": "code",
   "execution_count": 3,
   "metadata": {},
   "outputs": [],
   "source": [
    "dictfilt = lambda x, y: dict([ (i,x[i]) for i in x if i in set(y) ])"
   ]
  },
  {
   "cell_type": "code",
   "execution_count": 8,
   "metadata": {},
   "outputs": [
    {
     "data": {
      "text/plain": [
       "'/data_gilbert/home/aarab/Projects/pager/'"
      ]
     },
     "execution_count": 8,
     "metadata": {},
     "output_type": "execute_result"
    }
   ],
   "source": [
    "sys.path[-1]"
   ]
  },
  {
   "cell_type": "code",
   "execution_count": 9,
   "metadata": {
    "tags": []
   },
   "outputs": [
    {
     "name": "stdout",
     "output_type": "stream",
     "text": [
      "## $1: input file contain table with first two columns as gene name/id and numeric value\n",
      "# pattern='msigdb_v0.3_m*'\n",
      "pattern='msigdb_v7*'\n",
      "\n",
      "\n",
      "expfile=`basename $1`\n",
      "outdir=${1/.txt/};\n",
      "\n",
      "mkdir -p $outdir\n",
      "cd $outdir; cd ../\n",
      "\n",
      "for f in `ls -d $PAGEDIR/PAGE_DATA/ANNOTATIONS/${pattern}`; do\n",
      "    base=`basename \"$f\"`;\n",
      "    echo '________________' $base '________________';\n",
      "    if [ -d \"${outdir}/${base}/\" ]; \n",
      "    then\n",
      "        echo 'This result exist!';\n",
      "    else\n",
      "        # Run iPAGE \n",
      "        perl $PAGEDIR/page.pl --expfile=$expfile --species=$base --exptype=continuous --ebins=11 --nodups=1 --independence=0;\n",
      "            # --independence=0; option for comparing results between multiple smaples.\n",
      "        wait\n",
      "        mv -v ${expfile}_PAGE/ ${outdir}/${base}/;\n",
      "        # remove the result folder if it was empty\n",
      "        counter=\"$(wc -l < ${outdir}/${base}/pvmatrix.txt)\"\n",
      "        if [ $counter -le \"$(echo '1')\" ] || [ -z $counter ]\n",
      "        then\n",
      "            rm -r ${outdir}/${base}\n",
      "        fi;\n",
      "        rm -r \\\n",
      "          ${outdir}/${base}/*txt.summary* \\\n",
      "          ${outdir}/${base}/SUMMARY \\\n",
      "          ${outdir}/${base}/imgsrc \\\n",
      "          ${outdir}/${base}/info.txt \\\n",
      "          ${outdir}/${base}/pvmatrix.txt.killed \\\n",
      "          ${outdir}/${base}/pvmatrix.txt.log\n",
      "          # ${outdir}/${base}/input.ipage_quantized\n",
      "    fi\n",
      "done\n"
     ]
    }
   ],
   "source": [
    "!cat /data_gilbert/home/aarab/Projects/pager/ipage_loop.sh"
   ]
  },
  {
   "cell_type": "markdown",
   "metadata": {
    "tags": []
   },
   "source": [
    "## $\\Delta$Stability"
   ]
  },
  {
   "cell_type": "code",
   "execution_count": null,
   "metadata": {
    "tags": []
   },
   "outputs": [],
   "source": [
    "%%bash\n",
    "export PAGEDIR='/data_gilbert/home/aarab/iPAGE'\n",
    "\n",
    "cd stbl/\n",
    "ls *_delta_stbl.txt | parallel -j18 -k bash /data_gilbert/home/aarab/Projects/pager/ipage_loop.sh\n",
    "cd ../"
   ]
  },
  {
   "cell_type": "markdown",
   "metadata": {
    "tags": []
   },
   "source": [
    "### Remake from pvmatrix (correct bin clusters)"
   ]
  },
  {
   "cell_type": "markdown",
   "metadata": {
    "tags": []
   },
   "source": [
    "### HL-60 time series"
   ]
  },
  {
   "cell_type": "code",
   "execution_count": 218,
   "metadata": {},
   "outputs": [],
   "source": [
    "# hl60_pws ['120h'] = merge_multiple_pvmat(\n",
    "#     pvmat_list = glob('exp/hl60_120h_delta_exp_ind0/*c5*/pvmatrix.[L-R].txt')\n",
    "# )"
   ]
  },
  {
   "cell_type": "markdown",
   "metadata": {
    "tags": []
   },
   "source": [
    "#### hl60 6h delta_stbl"
   ]
  },
  {
   "cell_type": "code",
   "execution_count": null,
   "metadata": {},
   "outputs": [
    {
     "data": {
      "text/plain": [
       "'/data_gilbert/home/aarab/iPAGE'"
      ]
     },
     "execution_count": 22,
     "metadata": {},
     "output_type": "execute_result"
    }
   ],
   "source": [
    "pagedir"
   ]
  },
  {
   "cell_type": "code",
   "execution_count": 43,
   "metadata": {
    "tags": []
   },
   "outputs": [],
   "source": [
    "study = 'hl60_6h_delta_stbl'\n",
    "\n",
    "pvmat = ipd.merge_multiple_pvmat(\n",
    "    pvmat_list = glob(f'stbl/{study}/*c5.go*/pvmatrix.txt') #+ glob(f'stbl/{study}_ind1/*c2.cp.kegg*/pvmatrix.txt')\n",
    ")\n",
    "\n",
    "bio_signal = pd.concat([\n",
    "    ipd.pvmat2bio_signal(pvmat,side='down',n_clust=1),\n",
    "    ipd.pvmat2bio_signal(pvmat,side='up',n_clust=1),\n",
    "    ipd.pvmat2bio_signal(pvmat,side='both'),\n",
    "],axis=0)\n",
    "\n",
    "bio_signal.to_csv(f'stbl/{study}_pvmatrix.txt',sep='\\t')\n",
    "\n",
    "exp_file = f'{study}.txt'\n",
    "pvmat_file = f'{study}_pvmatrix.txt'\n",
    "pdf_file = f'{study}.pdf'\n",
    "\n",
    "!cd stbl; bash {pagerdir}/ipage_draw_matrix.sh $exp_file $pvmat_file $pdf_file &> /dev/null; cd ../"
   ]
  },
  {
   "cell_type": "code",
   "execution_count": 44,
   "metadata": {},
   "outputs": [
    {
     "data": {
      "text/html": [
       "\n",
       "        <iframe\n",
       "            width=\"800\"\n",
       "            height=\"200\"\n",
       "            src=\"stbl/hl60_6h_delta_stbl.pdf\"\n",
       "            frameborder=\"0\"\n",
       "            allowfullscreen\n",
       "        ></iframe>\n",
       "        "
      ],
      "text/plain": [
       "<IPython.lib.display.IFrame at 0x7f8f15b21d68>"
      ]
     },
     "execution_count": 44,
     "metadata": {},
     "output_type": "execute_result"
    }
   ],
   "source": [
    "pdf = 'stbl/hl60_6h_delta_stbl.pdf'\n",
    "IFrame(pdf, width=800, height=200)"
   ]
  },
  {
   "cell_type": "code",
   "execution_count": 46,
   "metadata": {},
   "outputs": [],
   "source": [
    "# gs = 'GOBP_REGULATION_OF_CHOLESTEROL_BIOSYNTHETIC_PROCESS'\n",
    "# pvmat_list = glob(f'stbl/{study}_ind0/*c5.go*/pvmatrix.txt')\n",
    "# gs_cluster_path = ipd.detect_gs_cluster(pvmat_list, gs=gs)\n",
    "\n",
    "# print ([p.split('/')[1:3] for p in gs_cluster_path])\n",
    "\n",
    "# gs_cluster_path = gs_cluster_path[1].split('pvmatrix.txt')[0]\n",
    "# print ('Down')\n",
    "# print (ipd.bin_identifier_genes(gs_cluster_path, '0', gs=gs))\n",
    "# print ('Up')\n",
    "# print (ipd.bin_identifier_genes(gs_cluster_path, '9', gs=gs))\n",
    "# print (ipd.bin_identifier_genes(gs_cluster_path, '10', gs=gs))"
   ]
  },
  {
   "cell_type": "markdown",
   "metadata": {
    "tags": []
   },
   "source": [
    "#### hl60 72h delta_stbl"
   ]
  },
  {
   "cell_type": "code",
   "execution_count": 47,
   "metadata": {
    "tags": []
   },
   "outputs": [],
   "source": [
    "study = 'hl60_72h_delta_stbl'\n",
    "\n",
    "pvmat = ipd.merge_multiple_pvmat(\n",
    "    pvmat_list = glob(f'stbl/{study}/*c5.go*/pvmatrix.txt') #+ glob(f'stbl/{study}_ind1/*c2.cp.kegg*/pvmatrix.txt')\n",
    ")\n",
    "\n",
    "bio_signal = pd.concat([\n",
    "    ipd.pvmat2bio_signal(pvmat,side='down',n_clust=1),\n",
    "    ipd.pvmat2bio_signal(pvmat,side='up',n_clust=1),\n",
    "    ipd.pvmat2bio_signal(pvmat,side='both'),\n",
    "],axis=0)\n",
    "\n",
    "bio_signal.to_csv(f'stbl/{study}_pvmatrix.txt',sep='\\t')\n",
    "\n",
    "exp_file = f'{study}.txt'\n",
    "pvmat_file = f'{study}_pvmatrix.txt'\n",
    "pdf_file = f'{study}.pdf'\n",
    "\n",
    "!cd stbl; bash {pagerdir}/ipage_draw_matrix.sh $exp_file $pvmat_file $pdf_file &> /dev/null; cd ../"
   ]
  },
  {
   "cell_type": "code",
   "execution_count": 48,
   "metadata": {},
   "outputs": [
    {
     "data": {
      "text/html": [
       "\n",
       "        <iframe\n",
       "            width=\"800\"\n",
       "            height=\"200\"\n",
       "            src=\"stbl/hl60_72h_delta_stbl.pdf\"\n",
       "            frameborder=\"0\"\n",
       "            allowfullscreen\n",
       "        ></iframe>\n",
       "        "
      ],
      "text/plain": [
       "<IPython.lib.display.IFrame at 0x7f8f15ae8828>"
      ]
     },
     "execution_count": 48,
     "metadata": {},
     "output_type": "execute_result"
    }
   ],
   "source": [
    "pdf = 'stbl/hl60_72h_delta_stbl.pdf'\n",
    "IFrame(pdf, width=800, height=200)"
   ]
  },
  {
   "cell_type": "code",
   "execution_count": 19,
   "metadata": {
    "tags": []
   },
   "outputs": [
    {
     "data": {
      "text/html": [
       "<div>\n",
       "<style scoped>\n",
       "    .dataframe tbody tr th:only-of-type {\n",
       "        vertical-align: middle;\n",
       "    }\n",
       "\n",
       "    .dataframe tbody tr th {\n",
       "        vertical-align: top;\n",
       "    }\n",
       "\n",
       "    .dataframe thead th {\n",
       "        text-align: right;\n",
       "    }\n",
       "</style>\n",
       "<table border=\"1\" class=\"dataframe\">\n",
       "  <thead>\n",
       "    <tr style=\"text-align: right;\">\n",
       "      <th></th>\n",
       "      <th>[-0.44 -0.36]</th>\n",
       "      <th>[-0.36 -0.20]</th>\n",
       "      <th>[-0.20 -0.13]</th>\n",
       "      <th>[-0.13 -0.07]</th>\n",
       "      <th>[-0.07 -0.01]</th>\n",
       "      <th>[-0.01 0.03]</th>\n",
       "      <th>[0.03 0.07]</th>\n",
       "      <th>[0.07 0.13]</th>\n",
       "      <th>[0.13 0.20]</th>\n",
       "      <th>[0.20 0.32]</th>\n",
       "      <th>[0.32 0.4]</th>\n",
       "    </tr>\n",
       "  </thead>\n",
       "  <tbody>\n",
       "    <tr>\n",
       "      <th>METTL14_TARGET_GENES</th>\n",
       "      <td>3.020</td>\n",
       "      <td>0.282</td>\n",
       "      <td>-0.644</td>\n",
       "      <td>0.539</td>\n",
       "      <td>0.539</td>\n",
       "      <td>-0.321</td>\n",
       "      <td>-1.250</td>\n",
       "      <td>0.539</td>\n",
       "      <td>-1.250</td>\n",
       "      <td>0.282</td>\n",
       "      <td>-1.239</td>\n",
       "    </tr>\n",
       "    <tr>\n",
       "      <th>RACTNNRTTTNC_UNKNOWN</th>\n",
       "      <td>2.748</td>\n",
       "      <td>1.444</td>\n",
       "      <td>-0.872</td>\n",
       "      <td>0.528</td>\n",
       "      <td>-0.872</td>\n",
       "      <td>0.236</td>\n",
       "      <td>-0.378</td>\n",
       "      <td>0.236</td>\n",
       "      <td>-0.872</td>\n",
       "      <td>-0.872</td>\n",
       "      <td>-0.386</td>\n",
       "    </tr>\n",
       "    <tr>\n",
       "      <th>CCAATNNSNNNGCG_UNKNOWN</th>\n",
       "      <td>0.216</td>\n",
       "      <td>0.490</td>\n",
       "      <td>-0.407</td>\n",
       "      <td>0.490</td>\n",
       "      <td>0.216</td>\n",
       "      <td>-0.915</td>\n",
       "      <td>-0.915</td>\n",
       "      <td>-0.915</td>\n",
       "      <td>-0.915</td>\n",
       "      <td>0.490</td>\n",
       "      <td>3.388</td>\n",
       "    </tr>\n",
       "    <tr>\n",
       "      <th>MIR4666B</th>\n",
       "      <td>-0.832</td>\n",
       "      <td>-0.352</td>\n",
       "      <td>-0.832</td>\n",
       "      <td>-0.352</td>\n",
       "      <td>0.255</td>\n",
       "      <td>-0.832</td>\n",
       "      <td>-0.832</td>\n",
       "      <td>0.993</td>\n",
       "      <td>0.255</td>\n",
       "      <td>0.566</td>\n",
       "      <td>2.906</td>\n",
       "    </tr>\n",
       "    <tr>\n",
       "      <th>MIR193A_3P_MIR193B_3P</th>\n",
       "      <td>0.278</td>\n",
       "      <td>-0.325</td>\n",
       "      <td>-0.790</td>\n",
       "      <td>-0.790</td>\n",
       "      <td>-0.790</td>\n",
       "      <td>-0.790</td>\n",
       "      <td>0.278</td>\n",
       "      <td>0.278</td>\n",
       "      <td>-0.325</td>\n",
       "      <td>1.620</td>\n",
       "      <td>2.300</td>\n",
       "    </tr>\n",
       "  </tbody>\n",
       "</table>\n",
       "</div>"
      ],
      "text/plain": [
       "                        [-0.44 -0.36]  [-0.36 -0.20]  [-0.20 -0.13]  \\\n",
       "METTL14_TARGET_GENES            3.020          0.282         -0.644   \n",
       "RACTNNRTTTNC_UNKNOWN            2.748          1.444         -0.872   \n",
       "CCAATNNSNNNGCG_UNKNOWN          0.216          0.490         -0.407   \n",
       "MIR4666B                       -0.832         -0.352         -0.832   \n",
       "MIR193A_3P_MIR193B_3P           0.278         -0.325         -0.790   \n",
       "\n",
       "                        [-0.13 -0.07]  [-0.07 -0.01]  [-0.01 0.03]  \\\n",
       "METTL14_TARGET_GENES            0.539          0.539        -0.321   \n",
       "RACTNNRTTTNC_UNKNOWN            0.528         -0.872         0.236   \n",
       "CCAATNNSNNNGCG_UNKNOWN          0.490          0.216        -0.915   \n",
       "MIR4666B                       -0.352          0.255        -0.832   \n",
       "MIR193A_3P_MIR193B_3P          -0.790         -0.790        -0.790   \n",
       "\n",
       "                        [0.03 0.07]  [0.07 0.13]  [0.13 0.20]  [0.20 0.32]  \\\n",
       "METTL14_TARGET_GENES         -1.250        0.539       -1.250        0.282   \n",
       "RACTNNRTTTNC_UNKNOWN         -0.378        0.236       -0.872       -0.872   \n",
       "CCAATNNSNNNGCG_UNKNOWN       -0.915       -0.915       -0.915        0.490   \n",
       "MIR4666B                     -0.832        0.993        0.255        0.566   \n",
       "MIR193A_3P_MIR193B_3P         0.278        0.278       -0.325        1.620   \n",
       "\n",
       "                        [0.32 0.4]  \n",
       "METTL14_TARGET_GENES        -1.239  \n",
       "RACTNNRTTTNC_UNKNOWN        -0.386  \n",
       "CCAATNNSNNNGCG_UNKNOWN       3.388  \n",
       "MIR4666B                     2.906  \n",
       "MIR193A_3P_MIR193B_3P        2.300  "
      ]
     },
     "execution_count": 19,
     "metadata": {},
     "output_type": "execute_result"
    }
   ],
   "source": [
    "# study = 'hl60_72h_delta_stbl'\n",
    "study = 'hl60_120h_delta_stbl'\n",
    "\n",
    "pvmat = ipd.merge_multiple_pvmat(\n",
    "    pvmat_list = glob(f'stbl/{study}/*c3*/pvmatrix.txt') \n",
    "    #+ glob(f'stbl/{study}_ind1/*c2.cp.kegg*/pvmatrix.txt')\n",
    ")\n",
    "\n",
    "bio_signal = pd.concat([\n",
    "    ipd.pvmat2bio_signal(pvmat,side='down',n_clust=1),\n",
    "    ipd.pvmat2bio_signal(pvmat,side='up',n_clust=1),\n",
    "    ipd.pvmat2bio_signal(pvmat,side='both'),\n",
    "],axis=0)\n",
    "\n",
    "bio_signal"
   ]
  },
  {
   "cell_type": "code",
   "execution_count": 22,
   "metadata": {},
   "outputs": [
    {
     "name": "stdout",
     "output_type": "stream",
     "text": [
      "[['hl60_120h_delta_stbl', 'msigdb_v7.4_c3.mir.mirdb']]\n",
      "Down\n",
      "{'MIR193A_3P_MIR193B_3P': ['NF2', 'ADARB1']}\n",
      "Up\n",
      "{'MIR193A_3P_MIR193B_3P': ['NAV3', 'SOS2', 'DMXL2', 'CLOCK', 'TAPT1']}\n",
      "{'MIR193A_3P_MIR193B_3P': ['CNOT6', 'INO80D', 'AAK1', 'LAMC1', 'PLXNC1', 'CREBRF']}\n"
     ]
    }
   ],
   "source": [
    "gs = 'MIR193A_3P_MIR193B_3P'\n",
    "pvmat_list = glob(f'stbl/{study}/*c3*/pvmatrix.txt')\n",
    "gs_cluster_path = ipd.detect_gs_cluster(pvmat_list, gs=gs)\n",
    "\n",
    "print ([p.split('/')[1:3] for p in gs_cluster_path])\n",
    "\n",
    "gs_cluster_path = gs_cluster_path[0].split('pvmatrix.txt')[0]\n",
    "print ('Down')\n",
    "print (ipd.bin_identifier_genes(gs_cluster_path, '0', gs=gs))\n",
    "# print (ipd.bin_identifier_genes(gs_cluster_path, '1', gs=gs))\n",
    "# print (ipd.bin_identifier_genes(gs_cluster_path, '2', gs=gs))\n",
    "# print (ipd.bin_identifier_genes(gs_cluster_path, '3', gs=gs))\n",
    "print ('Up')\n",
    "print (ipd.bin_identifier_genes(gs_cluster_path, '9', gs=gs))\n",
    "print (ipd.bin_identifier_genes(gs_cluster_path, '10', gs=gs))"
   ]
  },
  {
   "cell_type": "markdown",
   "metadata": {
    "tags": []
   },
   "source": [
    "#### hl60 120h delta_stbl"
   ]
  },
  {
   "cell_type": "code",
   "execution_count": 51,
   "metadata": {
    "tags": []
   },
   "outputs": [],
   "source": [
    "study = 'hl60_120h_delta_stbl'\n",
    "\n",
    "pvmat = ipd.merge_multiple_pvmat(\n",
    "    pvmat_list = glob(f'stbl/{study}/*c5.go*/pvmatrix.txt') #+ glob(f'stbl/{study}_ind1/*c2.cp.kegg*/pvmatrix.txt')\n",
    ")\n",
    "\n",
    "bio_signal = pd.concat([\n",
    "    ipd.pvmat2bio_signal(pvmat,side='down',n_clust=1),\n",
    "    ipd.pvmat2bio_signal(pvmat,side='up',n_clust=1),\n",
    "    ipd.pvmat2bio_signal(pvmat,side='both'),\n",
    "],axis=0)\n",
    "\n",
    "bio_signal.to_csv(f'stbl/{study}_pvmatrix.txt',sep='\\t')\n",
    "\n",
    "exp_file = f'{study}.txt'\n",
    "pvmat_file = f'{study}_pvmatrix.txt'\n",
    "pdf_file = f'{study}.pdf'\n",
    "\n",
    "!cd stbl; bash {pagerdir}/ipage_draw_matrix.sh $exp_file $pvmat_file $pdf_file &> /dev/null; cd ../"
   ]
  },
  {
   "cell_type": "code",
   "execution_count": 52,
   "metadata": {},
   "outputs": [
    {
     "data": {
      "text/html": [
       "\n",
       "        <iframe\n",
       "            width=\"800\"\n",
       "            height=\"200\"\n",
       "            src=\"stbl/hl60_120h_delta_stbl.pdf\"\n",
       "            frameborder=\"0\"\n",
       "            allowfullscreen\n",
       "        ></iframe>\n",
       "        "
      ],
      "text/plain": [
       "<IPython.lib.display.IFrame at 0x7f8f15ae8780>"
      ]
     },
     "execution_count": 52,
     "metadata": {},
     "output_type": "execute_result"
    }
   ],
   "source": [
    "pdf = 'stbl/hl60_120h_delta_stbl.pdf'\n",
    "IFrame(pdf, width=800, height=200)"
   ]
  },
  {
   "cell_type": "code",
   "execution_count": null,
   "metadata": {},
   "outputs": [],
   "source": []
  },
  {
   "cell_type": "code",
   "execution_count": 54,
   "metadata": {},
   "outputs": [],
   "source": [
    "# gs = 'GOBP_RESPONSE_TO_STEROL'\n",
    "# pvmat_list = glob(f'stbl/{study}_ind0/*c5.go*/pvmatrix.txt')\n",
    "# gs_cluster_path = ipd.detect_gs_cluster(pvmat_list, gs=gs)\n",
    "\n",
    "# print ([p.split('/')[1:3] for p in gs_cluster_path])\n",
    "\n",
    "# gs_cluster_path = gs_cluster_path[1].split('pvmatrix.txt')[0]\n",
    "# print ('Down')\n",
    "# print (ipd.bin_identifier_genes(gs_cluster_path, '0', gs=gs))\n",
    "# print ('Up')\n",
    "# print (ipd.bin_identifier_genes(gs_cluster_path, '9', gs=gs))\n",
    "# print (ipd.bin_identifier_genes(gs_cluster_path, '10', gs=gs))"
   ]
  },
  {
   "cell_type": "code",
   "execution_count": null,
   "metadata": {},
   "outputs": [],
   "source": []
  },
  {
   "cell_type": "code",
   "execution_count": 55,
   "metadata": {},
   "outputs": [],
   "source": [
    "# ind1 = 'hl60_120h_delta_stbl_ind1'\n",
    "# ipd.clean_bins_range(\n",
    "#     pd.concat([\n",
    "#         ipd.read_pvmatrix(f'stbl/{ind1}/msigdb_v7.4_c5.all/pvmatrix.L.txt'),\n",
    "#         ipd.read_pvmatrix(f'stbl/{ind1}/msigdb_v7.4_c5.all/pvmatrix.R.txt')\n",
    "#     ])\n",
    "# ).drop_duplicates().to_csv(f\"stbl/{ind1.replace('_ind1','_pvmatrix')}.txt\",sep = '\\t')"
   ]
  },
  {
   "cell_type": "markdown",
   "metadata": {
    "tags": []
   },
   "source": [
    "#### molm14_delta_stbl"
   ]
  },
  {
   "cell_type": "code",
   "execution_count": 56,
   "metadata": {
    "tags": []
   },
   "outputs": [],
   "source": [
    "study = 'molm14_delta_stbl'\n",
    "\n",
    "pvmat = ipd.merge_multiple_pvmat(\n",
    "    pvmat_list = glob(f'stbl/{study}/*c5.go*/pvmatrix.txt') #+ glob(f'stbl/{study}_ind1/*c2.cp.kegg*/pvmatrix.txt')\n",
    ")\n",
    "\n",
    "bio_signal = pd.concat([\n",
    "    ipd.pvmat2bio_signal(pvmat,side='down',n_clust=1),\n",
    "    ipd.pvmat2bio_signal(pvmat,side='up',n_clust=1),\n",
    "    ipd.pvmat2bio_signal(pvmat,side='both'),\n",
    "],axis=0)\n",
    "\n",
    "bio_signal.to_csv(f'stbl/{study}_pvmatrix.txt',sep='\\t')\n",
    "\n",
    "exp_file = f'{study}.txt'\n",
    "pvmat_file = f'{study}_pvmatrix.txt'\n",
    "pdf_file = f'{study}.pdf'\n",
    "\n",
    "!cd stbl; bash {pagerdir}/ipage_draw_matrix.sh $exp_file $pvmat_file $pdf_file &> /dev/null; cd ../"
   ]
  },
  {
   "cell_type": "code",
   "execution_count": 57,
   "metadata": {},
   "outputs": [
    {
     "data": {
      "text/html": [
       "\n",
       "        <iframe\n",
       "            width=\"800\"\n",
       "            height=\"200\"\n",
       "            src=\"stbl/molm14_delta_stbl.pdf\"\n",
       "            frameborder=\"0\"\n",
       "            allowfullscreen\n",
       "        ></iframe>\n",
       "        "
      ],
      "text/plain": [
       "<IPython.lib.display.IFrame at 0x7f8f15ae8128>"
      ]
     },
     "execution_count": 57,
     "metadata": {},
     "output_type": "execute_result"
    }
   ],
   "source": [
    "pdf = 'stbl/molm14_delta_stbl.pdf'\n",
    "IFrame(pdf, width=800, height=200)"
   ]
  },
  {
   "cell_type": "markdown",
   "metadata": {
    "tags": []
   },
   "source": [
    "#### ociaml2_delta_stbl"
   ]
  },
  {
   "cell_type": "code",
   "execution_count": 61,
   "metadata": {
    "tags": []
   },
   "outputs": [],
   "source": [
    "study = 'ociaml2_delta_stbl'\n",
    "\n",
    "pvmat = ipd.merge_multiple_pvmat(\n",
    "    pvmat_list = glob(f'stbl/{study}/*c5.go*/pvmatrix.txt') #+ glob(f'stbl/{study}_ind1/*c2.cp.kegg*/pvmatrix.txt')\n",
    ")\n",
    "\n",
    "bio_signal = pd.concat([\n",
    "    ipd.pvmat2bio_signal(pvmat,side='down',n_clust=1),\n",
    "    ipd.pvmat2bio_signal(pvmat,side='up',n_clust=1),\n",
    "    ipd.pvmat2bio_signal(pvmat,side='both'),\n",
    "],axis=0)\n",
    "\n",
    "bio_signal.to_csv(f'stbl/{study}_pvmatrix.txt',sep='\\t')\n",
    "\n",
    "exp_file = f'{study}.txt'\n",
    "pvmat_file = f'{study}_pvmatrix.txt'\n",
    "pdf_file = f'{study}.pdf'\n",
    "\n",
    "!cd stbl; bash {pagerdir}/ipage_draw_matrix.sh $exp_file $pvmat_file $pdf_file &> /dev/null; cd ../"
   ]
  },
  {
   "cell_type": "code",
   "execution_count": 62,
   "metadata": {},
   "outputs": [
    {
     "data": {
      "text/html": [
       "\n",
       "        <iframe\n",
       "            width=\"800\"\n",
       "            height=\"200\"\n",
       "            src=\"stbl/ociaml2_delta_stbl.pdf\"\n",
       "            frameborder=\"0\"\n",
       "            allowfullscreen\n",
       "        ></iframe>\n",
       "        "
      ],
      "text/plain": [
       "<IPython.lib.display.IFrame at 0x7f8f15ae8550>"
      ]
     },
     "execution_count": 62,
     "metadata": {},
     "output_type": "execute_result"
    }
   ],
   "source": [
    "pdf = 'stbl/ociaml2_delta_stbl.pdf'\n",
    "IFrame(pdf, width=800, height=200)"
   ]
  },
  {
   "cell_type": "markdown",
   "metadata": {
    "tags": []
   },
   "source": [
    "#### ociaml3_delta_stbl"
   ]
  },
  {
   "cell_type": "code",
   "execution_count": 72,
   "metadata": {
    "tags": []
   },
   "outputs": [],
   "source": [
    "study = 'ociaml3_delta_stbl'\n",
    "\n",
    "pvmat = ipd.merge_multiple_pvmat(\n",
    "    pvmat_list = glob(f'stbl/{study}/*c5.go*/pvmatrix.txt') #+ glob(f'stbl/{study}_ind1/*c2.cp.kegg*/pvmatrix.txt')\n",
    ")\n",
    "\n",
    "bio_signal = pd.concat([\n",
    "    ipd.pvmat2bio_signal(pvmat,side='down',n_clust=1),\n",
    "    ipd.pvmat2bio_signal(pvmat,side='up',n_clust=1),\n",
    "    ipd.pvmat2bio_signal(pvmat,side='both'),\n",
    "],axis=0)\n",
    "\n",
    "bio_signal.to_csv(f'stbl/{study}_pvmatrix.txt',sep='\\t')\n",
    "\n",
    "exp_file = f'{study}.txt'\n",
    "pvmat_file = f'{study}_pvmatrix.txt'\n",
    "pdf_file = f'{study}.pdf'\n",
    "\n",
    "!cd stbl; bash {pagerdir}/ipage_draw_matrix.sh $exp_file $pvmat_file $pdf_file &> /dev/null; cd ../"
   ]
  },
  {
   "cell_type": "code",
   "execution_count": 73,
   "metadata": {},
   "outputs": [
    {
     "data": {
      "text/html": [
       "\n",
       "        <iframe\n",
       "            width=\"800\"\n",
       "            height=\"200\"\n",
       "            src=\"stbl/ociaml3_delta_stbl.pdf\"\n",
       "            frameborder=\"0\"\n",
       "            allowfullscreen\n",
       "        ></iframe>\n",
       "        "
      ],
      "text/plain": [
       "<IPython.lib.display.IFrame at 0x7f8f15ad3ba8>"
      ]
     },
     "execution_count": 73,
     "metadata": {},
     "output_type": "execute_result"
    }
   ],
   "source": [
    "pdf = 'stbl/ociaml3_delta_stbl.pdf'\n",
    "IFrame(pdf, width=800, height=200)"
   ]
  },
  {
   "cell_type": "markdown",
   "metadata": {
    "tags": []
   },
   "source": [
    "#### kg1_delta_stbl"
   ]
  },
  {
   "cell_type": "code",
   "execution_count": 74,
   "metadata": {
    "tags": []
   },
   "outputs": [],
   "source": [
    "study = 'kg1_delta_stbl'\n",
    "\n",
    "pvmat = ipd.merge_multiple_pvmat(\n",
    "    pvmat_list = glob(f'stbl/{study}/*c5.go*/pvmatrix.txt') #+ glob(f'stbl/{study}_ind1/*c2.cp.kegg*/pvmatrix.txt')\n",
    ")\n",
    "\n",
    "bio_signal = pd.concat([\n",
    "    ipd.pvmat2bio_signal(pvmat,side='down',n_clust=1),\n",
    "    ipd.pvmat2bio_signal(pvmat,side='up',n_clust=1),\n",
    "    ipd.pvmat2bio_signal(pvmat,side='both'),\n",
    "],axis=0)\n",
    "\n",
    "bio_signal.to_csv(f'stbl/{study}_pvmatrix.txt',sep='\\t')\n",
    "\n",
    "exp_file = f'{study}.txt'\n",
    "pvmat_file = f'{study}_pvmatrix.txt'\n",
    "pdf_file = f'{study}.pdf'\n",
    "\n",
    "!cd stbl; bash {pagerdir}/ipage_draw_matrix.sh $exp_file $pvmat_file $pdf_file &> /dev/null; cd ../"
   ]
  },
  {
   "cell_type": "code",
   "execution_count": 75,
   "metadata": {},
   "outputs": [
    {
     "data": {
      "text/html": [
       "\n",
       "        <iframe\n",
       "            width=\"800\"\n",
       "            height=\"200\"\n",
       "            src=\"stbl/kg1_delta_stbl.pdf\"\n",
       "            frameborder=\"0\"\n",
       "            allowfullscreen\n",
       "        ></iframe>\n",
       "        "
      ],
      "text/plain": [
       "<IPython.lib.display.IFrame at 0x7f8f15ad3320>"
      ]
     },
     "execution_count": 75,
     "metadata": {},
     "output_type": "execute_result"
    }
   ],
   "source": [
    "pdf = 'stbl/kg1_delta_stbl.pdf'\n",
    "IFrame(pdf, width=800, height=200)"
   ]
  },
  {
   "cell_type": "markdown",
   "metadata": {
    "tags": []
   },
   "source": [
    "#### thp1_delta_stbl"
   ]
  },
  {
   "cell_type": "code",
   "execution_count": 76,
   "metadata": {
    "tags": []
   },
   "outputs": [],
   "source": [
    "study = 'thp1_delta_stbl'\n",
    "\n",
    "pvmat = ipd.merge_multiple_pvmat(\n",
    "    pvmat_list = glob(f'stbl/{study}/*c5.go*/pvmatrix.txt') #+ glob(f'stbl/{study}_ind1/*c2.cp.kegg*/pvmatrix.txt')\n",
    ")\n",
    "\n",
    "bio_signal = pd.concat([\n",
    "    ipd.pvmat2bio_signal(pvmat,side='down',n_clust=1),\n",
    "    ipd.pvmat2bio_signal(pvmat,side='up',n_clust=1),\n",
    "    ipd.pvmat2bio_signal(pvmat,side='both'),\n",
    "],axis=0)\n",
    "\n",
    "bio_signal.to_csv(f'stbl/{study}_pvmatrix.txt',sep='\\t')\n",
    "\n",
    "exp_file = f'{study}.txt'\n",
    "pvmat_file = f'{study}_pvmatrix.txt'\n",
    "pdf_file = f'{study}.pdf'\n",
    "\n",
    "!cd stbl; bash {pagerdir}/ipage_draw_matrix.sh $exp_file $pvmat_file $pdf_file &> /dev/null; cd ../"
   ]
  },
  {
   "cell_type": "code",
   "execution_count": 77,
   "metadata": {},
   "outputs": [
    {
     "data": {
      "text/html": [
       "\n",
       "        <iframe\n",
       "            width=\"800\"\n",
       "            height=\"200\"\n",
       "            src=\"stbl/thp1_delta_stbl.pdf\"\n",
       "            frameborder=\"0\"\n",
       "            allowfullscreen\n",
       "        ></iframe>\n",
       "        "
      ],
      "text/plain": [
       "<IPython.lib.display.IFrame at 0x7f8f15b05668>"
      ]
     },
     "execution_count": 77,
     "metadata": {},
     "output_type": "execute_result"
    }
   ],
   "source": [
    "pdf = 'stbl/thp1_delta_stbl.pdf'\n",
    "IFrame(pdf, width=800, height=200)"
   ]
  },
  {
   "cell_type": "markdown",
   "metadata": {},
   "source": [
    "# \n",
    "___"
   ]
  },
  {
   "cell_type": "code",
   "execution_count": 273,
   "metadata": {},
   "outputs": [
    {
     "name": "stdout",
     "output_type": "stream",
     "text": [
      "Tue Feb  8 17:38:38 PST 2022\n"
     ]
    }
   ],
   "source": [
    "!date"
   ]
  }
 ],
 "metadata": {
  "kernelspec": {
   "display_name": "Python [conda env:down]",
   "language": "python",
   "name": "conda-env-down-py"
  },
  "language_info": {
   "codemirror_mode": {
    "name": "ipython",
    "version": 3
   },
   "file_extension": ".py",
   "mimetype": "text/x-python",
   "name": "python",
   "nbconvert_exporter": "python",
   "pygments_lexer": "ipython3",
   "version": "3.6.13"
  }
 },
 "nbformat": 4,
 "nbformat_minor": 4
}
