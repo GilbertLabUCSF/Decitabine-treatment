{
 "cells": [
  {
   "cell_type": "markdown",
   "metadata": {},
   "source": [
    "__Aim:__ Consistency analysis across cell lines using pathway enrichment results to find commonly up/down regulated pathways and their genes. \n",
    "\n",
    "___\n",
    "- https://github.com/abearab/ipage-msigdb\n",
    "- https://github.com/tanghaibao/goatools\n",
    "- https://gseapy.readthedocs.io/en/latest/index.html"
   ]
  },
  {
   "cell_type": "markdown",
   "metadata": {},
   "source": [
    "Hani: _\"You must redo iPAGE with `--independence=0` option for comparing results between multiple smaples.\"_"
   ]
  },
  {
   "cell_type": "code",
   "execution_count": 1,
   "metadata": {},
   "outputs": [],
   "source": [
    "import re\n",
    "import sys\n",
    "import pandas as pd \n",
    "import numpy as np\n",
    "import matplotlib.pyplot as plt\n",
    "from time import time \n",
    "from glob import glob\n",
    "from matplotlib.pyplot import subplots\n",
    "from itertools import chain\n",
    "from functools import reduce\n",
    "from venn import venn\n",
    "\n",
    "# sys.path.append('/rumi/shams/abe/Projects/ipage-down/')\n",
    "sys.path.append('/data_gilbert/home/aarab/Projects/pager/')\n",
    "\n",
    "import upsetplot as us\n",
    "import ipage_down as ipd\n",
    "from matplotlib.backends.backend_pdf import PdfPages\n",
    "\n",
    "from IPython.display import IFrame"
   ]
  },
  {
   "cell_type": "code",
   "execution_count": 2,
   "metadata": {},
   "outputs": [],
   "source": [
    "pagerdir='/data_gilbert/home/aarab/Projects/pager'"
   ]
  },
  {
   "cell_type": "code",
   "execution_count": 3,
   "metadata": {},
   "outputs": [],
   "source": [
    "# def get_pvmatrix_list(parent_path,pattern):\n",
    "#     \"\"\"\n",
    "#     pattern: msigdb gene set cluster name \n",
    "#     \"\"\"\n",
    "#     return glob(f'{parent_path}/*{pattern}*/pvmatrix.txt')\n",
    "\n",
    "# def get_pv_signal(exp,patterns,pdf=None):\n",
    "#     \"\"\"\n",
    "#     exp: experiment name\n",
    "#     patterns: list of patterns\n",
    "#     \"\"\"\n",
    "#     cols = pd.concat([\n",
    "#         ipd.pvmat2bio_signal(ipd.merge_multiple_pvmat(\n",
    "#             get_pvmatrix_list(f\"{exp}_fdr\",\"c1\")\n",
    "#         ),s,n_clust=1) for s in ['up','both','down']\n",
    "#     ]).columns\n",
    "    \n",
    "#     pv_signal = pd.concat([\n",
    "#         ipd.pvmat2bio_signal(ipd.merge_multiple_pvmat([\n",
    "#             pvmat for pattern in patterns\n",
    "#             for pvmat in \n",
    "#             get_pvmatrix_list(f\"{exp}\",pattern) + \\\n",
    "#             get_pvmatrix_list(f\"{exp}_fdr\",pattern)\n",
    "#         ]),s,n_clust=2) for s in ['up','both','down']\n",
    "#     ])\n",
    "    \n",
    "#     pv_signal.columns = cols\n",
    "#     pv_signal=pv_signal[~pv_signal.duplicated()]\n",
    "    \n",
    "#     if pdf:\n",
    "#         pv_signal.to_csv('temp-pvmatrix.txt',sep='\\t')\n",
    "    \n",
    "#         !bash {pager_dir}/ipage_draw_matrix.sh \\\n",
    "#             {exp}'.txt' \"temp-pvmatrix.txt\" \\\n",
    "#             {pdf} &> /dev/null\n",
    "    \n",
    "#         !rm -v 'temp-pvmatrix.txt'\n",
    "#     else: \n",
    "#         return pv_signal\n"
   ]
  },
  {
   "cell_type": "code",
   "execution_count": null,
   "metadata": {},
   "outputs": [],
   "source": []
  },
  {
   "cell_type": "code",
   "execution_count": null,
   "metadata": {},
   "outputs": [],
   "source": []
  },
  {
   "cell_type": "code",
   "execution_count": null,
   "metadata": {},
   "outputs": [],
   "source": []
  },
  {
   "cell_type": "code",
   "execution_count": null,
   "metadata": {},
   "outputs": [],
   "source": []
  },
  {
   "cell_type": "code",
   "execution_count": 3,
   "metadata": {},
   "outputs": [],
   "source": [
    "dictfilt = lambda x, y: dict([ (i,x[i]) for i in x if i in set(y) ])"
   ]
  },
  {
   "cell_type": "code",
   "execution_count": 8,
   "metadata": {},
   "outputs": [
    {
     "data": {
      "text/plain": [
       "'/data_gilbert/home/aarab/Projects/pager/'"
      ]
     },
     "execution_count": 8,
     "metadata": {},
     "output_type": "execute_result"
    }
   ],
   "source": [
    "sys.path[-1]"
   ]
  },
  {
   "cell_type": "code",
   "execution_count": 9,
   "metadata": {
    "tags": []
   },
   "outputs": [
    {
     "name": "stdout",
     "output_type": "stream",
     "text": [
      "## $1: input file contain table with first two columns as gene name/id and numeric value\n",
      "# pattern='msigdb_v0.3_m*'\n",
      "pattern='msigdb_v7*'\n",
      "\n",
      "\n",
      "expfile=`basename $1`\n",
      "outdir=${1/.txt/};\n",
      "\n",
      "mkdir -p $outdir\n",
      "cd $outdir; cd ../\n",
      "\n",
      "for f in `ls -d $PAGEDIR/PAGE_DATA/ANNOTATIONS/${pattern}`; do\n",
      "    base=`basename \"$f\"`;\n",
      "    echo '________________' $base '________________';\n",
      "    if [ -d \"${outdir}/${base}/\" ]; \n",
      "    then\n",
      "        echo 'This result exist!';\n",
      "    else\n",
      "        # Run iPAGE \n",
      "        perl $PAGEDIR/page.pl --expfile=$expfile --species=$base --exptype=continuous --ebins=11 --nodups=1 --independence=0;\n",
      "            # --independence=0; option for comparing results between multiple smaples.\n",
      "        wait\n",
      "        mv -v ${expfile}_PAGE/ ${outdir}/${base}/;\n",
      "        # remove the result folder if it was empty\n",
      "        counter=\"$(wc -l < ${outdir}/${base}/pvmatrix.txt)\"\n",
      "        if [ $counter -le \"$(echo '1')\" ] || [ -z $counter ]\n",
      "        then\n",
      "            rm -r ${outdir}/${base}\n",
      "        fi;\n",
      "        rm -r \\\n",
      "          ${outdir}/${base}/*txt.summary* \\\n",
      "          ${outdir}/${base}/SUMMARY \\\n",
      "          ${outdir}/${base}/imgsrc \\\n",
      "          ${outdir}/${base}/info.txt \\\n",
      "          ${outdir}/${base}/pvmatrix.txt.killed \\\n",
      "          ${outdir}/${base}/pvmatrix.txt.log\n",
      "          # ${outdir}/${base}/input.ipage_quantized\n",
      "    fi\n",
      "done\n"
     ]
    }
   ],
   "source": [
    "!cat /data_gilbert/home/aarab/Projects/pager/ipage_loop.sh"
   ]
  },
  {
   "cell_type": "markdown",
   "metadata": {
    "tags": []
   },
   "source": [
    "## $\\Delta$Expression"
   ]
  },
  {
   "cell_type": "markdown",
   "metadata": {
    "tags": []
   },
   "source": [
    "#### `ind0`"
   ]
  },
  {
   "cell_type": "code",
   "execution_count": null,
   "metadata": {
    "tags": []
   },
   "outputs": [],
   "source": [
    "%%bash\n",
    "export PAGEDIR='/data_gilbert/home/aarab/iPAGE'\n",
    "\n",
    "cd exp/\n",
    "ls *_delta_exp.txt | parallel -j18 -k bash /data_gilbert/home/aarab/Projects/pager/ipage_loop.sh\n",
    "cd ../"
   ]
  },
  {
   "cell_type": "markdown",
   "metadata": {
    "tags": []
   },
   "source": [
    "### Remake from pvmatrix (correct bin clusters)"
   ]
  },
  {
   "cell_type": "code",
   "execution_count": 8,
   "metadata": {},
   "outputs": [],
   "source": [
    "cell_line_pws = {}"
   ]
  },
  {
   "cell_type": "code",
   "execution_count": 5,
   "metadata": {},
   "outputs": [],
   "source": [
    "# def read_ipage_intersections_file(gs_cluster_path,clust,gs=None):\n",
    "#     with open(f'{gs_cluster_path}/output.ipage_intersections') as raw:\n",
    "#         lines = [line for line in raw.read().splitlines()]\n",
    "#         if gs: \n",
    "#             lines = [line.split('\\t') for line in lines if re.search(gs, line)]\n",
    "#         else:\n",
    "#             lines = [line.split('\\t') for line in lines]\n",
    "\n",
    "#     #     left  = dict([(line[0].split(' ')[0],line[2:]) for line in lines if line[1] == '0' ])\n",
    "#     #     right = dict([(line[0].split(' ')[0],line[2:]) for line in lines if line[1] == '10'])\n",
    "#     # return left,right\n",
    "#     return dict([(line[0].split(' ')[0],line[2:]) for line in lines if line[1] == clust ])\n",
    "\n",
    "\n",
    "# def merge_multiple_pvmat(pvmat_list):\n",
    "#     df = ipd.clean_bins_range(\n",
    "#         ipd.read_pvmatrix(pvmat_list[0])\n",
    "#     )\n",
    "\n",
    "#     cols = df.columns\n",
    "\n",
    "#     df = pd.concat(\n",
    "#         [df] + [\n",
    "#             ipd.read_pvmatrix(pvmat).set_axis(cols, axis=1, inplace=False) \n",
    "#             for pvmat in pvmat_list[1:]\n",
    "#         ]\n",
    "#     )\n",
    "\n",
    "#     df = df.groupby(df.index).first()\n",
    "#     # ipd.style_clean_pvmatrix(df.iloc[:,[0,10]])    \n",
    "#     return df\n",
    "\n",
    "# def pvmat2bio_signal(pvmat,side,n_clust=2):\n",
    "#     if side == 'up':\n",
    "#         out = pvmat.loc[\n",
    "#             (pd.DataFrame(pvmat.iloc  [:,-n_clust:]  > 2).all(axis=1)) & \n",
    "#             (pd.DataFrame(pvmat.iloc  [:,:-n_clust]  < 2).all(axis=1))\n",
    "#             ,:\n",
    "#         ].sort_values(by=pvmat.columns[-n_clust:].to_list()[::-1],ascending=False,axis=0)\n",
    "#     elif side == 'both':\n",
    "#         out = pvmat.loc[\n",
    "#             (pd.DataFrame(pvmat.iloc  [:,:n_clust]  > 2).all(axis=1)) & \n",
    "#             (pd.DataFrame(pvmat.iloc  [:,-n_clust:]  > 2).all(axis=1)) & \n",
    "#             (pd.DataFrame(pvmat.iloc  [:,n_clust+1:-n_clust]  < 2).all(axis=1))\n",
    "#             ,:\n",
    "#         ].sort_values(\n",
    "#             by=pvmat.columns[-n_clust:].to_list()[::-1] + pvmat.columns[:n_clust].to_list(),\n",
    "#             ascending=False,axis=0\n",
    "#         )\n",
    "#     elif side == 'down':\n",
    "#         out = pvmat.loc[\n",
    "#             (pd.DataFrame(pvmat.iloc  [:,:n_clust]  > 2).all(axis=1)) & \n",
    "#             (pd.DataFrame(pvmat.iloc  [:,n_clust+1:]  < 2).all(axis=1))\n",
    "#             ,:\n",
    "#         ].sort_values(by=pvmat.columns[:n_clust].to_list(),ascending=False,axis=0)\n",
    "#     return out\n",
    "\n",
    "# def detect_gs_cluster(pvmat_list, gs):\n",
    "#     return [\n",
    "#         pvmat for pvmat in pvmat_list\n",
    "#         if gs in ipd.read_pvmatrix(pvmat).index.to_list()\n",
    "        \n",
    "#     ]"
   ]
  },
  {
   "cell_type": "markdown",
   "metadata": {
    "tags": []
   },
   "source": [
    "### HL-60 time series"
   ]
  },
  {
   "cell_type": "code",
   "execution_count": 6,
   "metadata": {},
   "outputs": [],
   "source": [
    "# cell_line_pws ['120h'] = merge_multiple_pvmat(\n",
    "#     pvmat_list = glob('exp/hl60_120h_delta_exp_ind0/*c5*/pvmatrix.[L-R].txt')\n",
    "# )"
   ]
  },
  {
   "cell_type": "markdown",
   "metadata": {
    "tags": []
   },
   "source": [
    "#### hl60 6h delta_exp"
   ]
  },
  {
   "cell_type": "code",
   "execution_count": 24,
   "metadata": {
    "tags": []
   },
   "outputs": [],
   "source": [
    "study = 'hl60_6h_delta_exp'\n",
    "\n",
    "pvmat = ipd.merge_multiple_pvmat(\n",
    "    pvmat_list = glob(f'exp/{study}/*c5.go.mf*/pvmatrix.txt')\n",
    ")\n",
    "\n",
    "bio_signal = pd.concat([\n",
    "    ipd.pvmat2bio_signal(pvmat,side='down',n_clust=2),\n",
    "    ipd.pvmat2bio_signal(pvmat,side='up',n_clust=2),\n",
    "    ipd.pvmat2bio_signal(pvmat,side='both'),\n",
    "],axis=0)\n",
    "\n",
    "bio_signal.to_csv(f'exp/{study}_pvmatrix.txt',sep='\\t')\n",
    "cell_line_pws[study] = bio_signal\n",
    "exp_file = f'{study}.txt'\n",
    "pvmat_file = f'{study}_pvmatrix.txt'\n",
    "pdf_file = f'{study}.pdf'\n",
    "\n",
    "!cd exp; bash {pagerdir}/ipage_draw_matrix.sh $exp_file $pvmat_file $pdf_file &> /dev/null; cd ../"
   ]
  },
  {
   "cell_type": "code",
   "execution_count": 25,
   "metadata": {},
   "outputs": [
    {
     "data": {
      "text/html": [
       "\n",
       "        <iframe\n",
       "            width=\"800\"\n",
       "            height=\"300\"\n",
       "            src=\"exp/hl60_6h_delta_exp.pdf\"\n",
       "            frameborder=\"0\"\n",
       "            allowfullscreen\n",
       "        ></iframe>\n",
       "        "
      ],
      "text/plain": [
       "<IPython.lib.display.IFrame at 0x7f691df95ef0>"
      ]
     },
     "execution_count": 25,
     "metadata": {},
     "output_type": "execute_result"
    }
   ],
   "source": [
    "pdf = 'exp/hl60_6h_delta_exp.pdf'\n",
    "IFrame(pdf, width=800, height=300)"
   ]
  },
  {
   "cell_type": "code",
   "execution_count": 26,
   "metadata": {},
   "outputs": [],
   "source": [
    "# gs_cluster_path = ipd.detect_gs_cluster(pvmat_list, gs=gs)\n",
    "\n",
    "# print ([p.split('/')[1:3] for p in gs_cluster_path])\n",
    "\n",
    "# gs_cluster_path = gs_cluster_path[1].split('pvmatrix.R.txt')[0]\n",
    "# print ('Down')\n",
    "# print (ipd.bin_identifier_genes(gs_cluster_path, '0', gs=gs))\n",
    "# print ('Up')\n",
    "# print (ipd.bin_identifier_genes(gs_cluster_path, '9', gs=gs))\n",
    "# print (ipd.bin_identifier_genes(gs_cluster_path, '10', gs=gs))"
   ]
  },
  {
   "cell_type": "markdown",
   "metadata": {
    "tags": []
   },
   "source": [
    "#### hl60 72h delta_exp"
   ]
  },
  {
   "cell_type": "code",
   "execution_count": 27,
   "metadata": {
    "tags": []
   },
   "outputs": [],
   "source": [
    "study = 'hl60_72h_delta_exp'\n",
    "\n",
    "pvmat = ipd.merge_multiple_pvmat(\n",
    "    pvmat_list = glob(f'exp/{study}/*c5.go.mf*/pvmatrix.txt') #+ glob(f'exp/{study}_ind1/*c2.cp.kegg*/pvmatrix.txt')\n",
    ")\n",
    "\n",
    "bio_signal = pd.concat([\n",
    "    ipd.pvmat2bio_signal(pvmat,side='down',n_clust=2),\n",
    "    ipd.pvmat2bio_signal(pvmat,side='up',n_clust=2),\n",
    "    ipd.pvmat2bio_signal(pvmat,side='both'),\n",
    "],axis=0)\n",
    "\n",
    "cell_line_pws[study] = bio_signal\n",
    "\n",
    "bio_signal.to_csv(f'exp/{study}_pvmatrix.txt',sep='\\t')\n",
    "\n",
    "exp_file = f'{study}.txt'\n",
    "pvmat_file = f'{study}_pvmatrix.txt'\n",
    "pdf_file = f'{study}.pdf'\n",
    "\n",
    "!cd exp; bash {pagerdir}/ipage_draw_matrix.sh $exp_file $pvmat_file $pdf_file &> /dev/null; cd ../"
   ]
  },
  {
   "cell_type": "code",
   "execution_count": 28,
   "metadata": {},
   "outputs": [
    {
     "data": {
      "text/html": [
       "\n",
       "        <iframe\n",
       "            width=\"800\"\n",
       "            height=\"500\"\n",
       "            src=\"exp/hl60_72h_delta_exp.pdf\"\n",
       "            frameborder=\"0\"\n",
       "            allowfullscreen\n",
       "        ></iframe>\n",
       "        "
      ],
      "text/plain": [
       "<IPython.lib.display.IFrame at 0x7f694d311d30>"
      ]
     },
     "execution_count": 28,
     "metadata": {},
     "output_type": "execute_result"
    }
   ],
   "source": [
    "pdf = 'exp/hl60_72h_delta_exp.pdf'\n",
    "IFrame(pdf, width=800, height=500)"
   ]
  },
  {
   "cell_type": "code",
   "execution_count": 29,
   "metadata": {
    "tags": []
   },
   "outputs": [
    {
     "data": {
      "text/html": [
       "<div>\n",
       "<style scoped>\n",
       "    .dataframe tbody tr th:only-of-type {\n",
       "        vertical-align: middle;\n",
       "    }\n",
       "\n",
       "    .dataframe tbody tr th {\n",
       "        vertical-align: top;\n",
       "    }\n",
       "\n",
       "    .dataframe thead th {\n",
       "        text-align: right;\n",
       "    }\n",
       "</style>\n",
       "<table border=\"1\" class=\"dataframe\">\n",
       "  <thead>\n",
       "    <tr style=\"text-align: right;\">\n",
       "      <th></th>\n",
       "      <th>[-1.18 -0.88]</th>\n",
       "      <th>[-0.88 -0.52]</th>\n",
       "      <th>[-0.52 -0.28]</th>\n",
       "      <th>[-0.28 -0.07]</th>\n",
       "      <th>[-0.07 0.00]</th>\n",
       "      <th>[0.00 0.16]</th>\n",
       "      <th>[0.16 0.39]</th>\n",
       "      <th>[0.39 0.58]</th>\n",
       "      <th>[0.58 0.87]</th>\n",
       "      <th>[0.87 1.81]</th>\n",
       "      <th>[1.81 2.11]</th>\n",
       "    </tr>\n",
       "  </thead>\n",
       "  <tbody>\n",
       "    <tr>\n",
       "      <th>MIR210_5P</th>\n",
       "      <td>2.897</td>\n",
       "      <td>-0.977</td>\n",
       "      <td>-0.382</td>\n",
       "      <td>0.397</td>\n",
       "      <td>1.958</td>\n",
       "      <td>-0.382</td>\n",
       "      <td>-0.382</td>\n",
       "      <td>-2.322</td>\n",
       "      <td>0.233</td>\n",
       "      <td>-0.382</td>\n",
       "      <td>-0.620</td>\n",
       "    </tr>\n",
       "    <tr>\n",
       "      <th>MIR320A_5P</th>\n",
       "      <td>-0.493</td>\n",
       "      <td>-0.929</td>\n",
       "      <td>0.527</td>\n",
       "      <td>-0.929</td>\n",
       "      <td>-2.102</td>\n",
       "      <td>0.527</td>\n",
       "      <td>1.138</td>\n",
       "      <td>-0.493</td>\n",
       "      <td>1.397</td>\n",
       "      <td>-1.237</td>\n",
       "      <td>2.323</td>\n",
       "    </tr>\n",
       "  </tbody>\n",
       "</table>\n",
       "</div>"
      ],
      "text/plain": [
       "            [-1.18 -0.88]  [-0.88 -0.52]  [-0.52 -0.28]  [-0.28 -0.07]  \\\n",
       "MIR210_5P           2.897         -0.977         -0.382          0.397   \n",
       "MIR320A_5P         -0.493         -0.929          0.527         -0.929   \n",
       "\n",
       "            [-0.07 0.00]  [0.00 0.16]  [0.16 0.39]  [0.39 0.58]  [0.58 0.87]  \\\n",
       "MIR210_5P          1.958       -0.382       -0.382       -2.322        0.233   \n",
       "MIR320A_5P        -2.102        0.527        1.138       -0.493        1.397   \n",
       "\n",
       "            [0.87 1.81]  [1.81 2.11]  \n",
       "MIR210_5P        -0.382       -0.620  \n",
       "MIR320A_5P       -1.237        2.323  "
      ]
     },
     "execution_count": 29,
     "metadata": {},
     "output_type": "execute_result"
    }
   ],
   "source": [
    "study = 'hl60_72h_delta_exp'\n",
    "\n",
    "pvmat = ipd.merge_multiple_pvmat(\n",
    "    pvmat_list = glob(f'exp/{study}/*c3.mir*/pvmatrix.txt')\n",
    ")\n",
    "\n",
    "bio_signal = pd.concat([\n",
    "    ipd.pvmat2bio_signal(pvmat,side='down',n_clust=1),\n",
    "    ipd.pvmat2bio_signal(pvmat,side='up',n_clust=1),\n",
    "    ipd.pvmat2bio_signal(pvmat,side='both'),\n",
    "],axis=0)\n",
    "\n",
    "bio_signal"
   ]
  },
  {
   "cell_type": "markdown",
   "metadata": {
    "tags": []
   },
   "source": [
    "#### hl60 120h delta_exp"
   ]
  },
  {
   "cell_type": "code",
   "execution_count": 30,
   "metadata": {},
   "outputs": [],
   "source": [
    "study = 'hl60_120h_delta_exp'"
   ]
  },
  {
   "cell_type": "code",
   "execution_count": 31,
   "metadata": {
    "tags": []
   },
   "outputs": [],
   "source": [
    "pvmat = ipd.merge_multiple_pvmat(\n",
    "    pvmat_list = glob(f'exp/{study}/*c5.go.mf*/pvmatrix.txt')\n",
    ")\n",
    "\n",
    "bio_signal = pd.concat([\n",
    "    ipd.pvmat2bio_signal(pvmat,side='down',n_clust=2),\n",
    "    ipd.pvmat2bio_signal(pvmat,side='up',n_clust=2),\n",
    "    ipd.pvmat2bio_signal(pvmat,side='both'),\n",
    "],axis=0)\n",
    "\n",
    "cell_line_pws[study] = bio_signal\n",
    "\n",
    "bio_signal.to_csv(f'exp/{study}_pvmatrix.txt',sep='\\t')\n",
    "\n",
    "exp_file = f'{study}.txt'\n",
    "pvmat_file = f'{study}_pvmatrix.txt'\n",
    "pdf_file = f'{study}.pdf'\n",
    "\n",
    "!cd exp; bash {pagerdir}/ipage_draw_matrix.sh $exp_file $pvmat_file $pdf_file &> /dev/null; cd ../"
   ]
  },
  {
   "cell_type": "code",
   "execution_count": 32,
   "metadata": {},
   "outputs": [
    {
     "data": {
      "text/html": [
       "\n",
       "        <iframe\n",
       "            width=\"800\"\n",
       "            height=\"500\"\n",
       "            src=\"exp/hl60_120h_delta_exp.pdf\"\n",
       "            frameborder=\"0\"\n",
       "            allowfullscreen\n",
       "        ></iframe>\n",
       "        "
      ],
      "text/plain": [
       "<IPython.lib.display.IFrame at 0x7f691df95128>"
      ]
     },
     "execution_count": 32,
     "metadata": {},
     "output_type": "execute_result"
    }
   ],
   "source": [
    "pdf = f'exp/{study}.pdf'\n",
    "IFrame(pdf, width=800, height=500)"
   ]
  },
  {
   "cell_type": "code",
   "execution_count": null,
   "metadata": {},
   "outputs": [],
   "source": []
  },
  {
   "cell_type": "code",
   "execution_count": null,
   "metadata": {},
   "outputs": [],
   "source": []
  },
  {
   "cell_type": "code",
   "execution_count": null,
   "metadata": {},
   "outputs": [],
   "source": []
  },
  {
   "cell_type": "code",
   "execution_count": 81,
   "metadata": {},
   "outputs": [
    {
     "data": {
      "text/plain": [
       "{'ALKBH8',\n",
       " 'BUD23',\n",
       " 'DIMT1',\n",
       " 'EMG1',\n",
       " 'FBL',\n",
       " 'FTSJ1',\n",
       " 'FTSJ3',\n",
       " 'METTL1',\n",
       " 'METTL16',\n",
       " 'METTL2A',\n",
       " 'METTL5',\n",
       " 'METTL8',\n",
       " 'MRM1',\n",
       " 'MRM2',\n",
       " 'MRM3',\n",
       " 'NOP2',\n",
       " 'NSUN2',\n",
       " 'NSUN4',\n",
       " 'RNMT',\n",
       " 'TARBP1',\n",
       " 'TFB1M',\n",
       " 'TFB2M',\n",
       " 'TGS1',\n",
       " 'THUMPD2',\n",
       " 'TRMT1',\n",
       " 'TRMT10C',\n",
       " 'TRMT11',\n",
       " 'TRMT2A',\n",
       " 'TRMT44',\n",
       " 'TRMT5',\n",
       " 'TRMT6',\n",
       " 'TRMT61A',\n",
       " 'TRMT61B',\n",
       " 'TYW3',\n",
       " 'WDR4',\n",
       " 'ZCCHC4'}"
      ]
     },
     "execution_count": 81,
     "metadata": {},
     "output_type": "execute_result"
    }
   ],
   "source": [
    "gs = \"GOMF_RNA_METHYLTRANSFERASE_ACTIVITY\"\n",
    "# ipd.detect_gs_cluster(glob(f'exp/{study}/*c5.go.mf*/pvmatrix.txt'), gs)[0]\n",
    "\n",
    "{\n",
    "    g \n",
    "    for c in [\"0\",\"1\"]\n",
    "    for g in list(ipd.bin_identifier_genes(\"exp/hl60_120h_delta_exp/msigdb_v7.4_c5.go.mf\", c, gs).values())[0]\n",
    "}"
   ]
  },
  {
   "cell_type": "markdown",
   "metadata": {
    "tags": []
   },
   "source": [
    "### 72h trearment in all cell lines "
   ]
  },
  {
   "cell_type": "markdown",
   "metadata": {
    "tags": []
   },
   "source": [
    "#### hl60_72h_only_delta_exp"
   ]
  },
  {
   "cell_type": "code",
   "execution_count": 123,
   "metadata": {
    "tags": []
   },
   "outputs": [],
   "source": [
    "study = 'hl60_72h_only_delta_exp'\n",
    "\n",
    "pvmat = ipd.merge_multiple_pvmat(\n",
    "    pvmat_list = glob(f'exp/{study}/*c5.go.bp*/pvmatrix.txt')\n",
    ")\n",
    "\n",
    "bio_signal = pd.concat([\n",
    "    ipd.pvmat2bio_signal(pvmat,side='down',n_clust=2),\n",
    "    ipd.pvmat2bio_signal(pvmat,side='up',n_clust=2),\n",
    "    ipd.pvmat2bio_signal(pvmat,side='both'),\n",
    "],axis=0)\n",
    "\n",
    "bio_signal.to_csv(f'exp/{study}_pvmatrix.txt',sep='\\t')\n",
    "cell_line_pws[study] = bio_signal\n",
    "exp_file = f'{study}.txt'\n",
    "pvmat_file = f'{study}_pvmatrix.txt'\n",
    "pdf_file = f'{study}.pdf'\n",
    "\n",
    "!cd exp; bash {pagerdir}/ipage_draw_matrix.sh $exp_file $pvmat_file $pdf_file &> /dev/null; cd ../"
   ]
  },
  {
   "cell_type": "code",
   "execution_count": 124,
   "metadata": {},
   "outputs": [
    {
     "data": {
      "text/html": [
       "\n",
       "        <iframe\n",
       "            width=\"800\"\n",
       "            height=\"300\"\n",
       "            src=\"exp/hl60_72h_only_delta_exp.pdf\"\n",
       "            frameborder=\"0\"\n",
       "            allowfullscreen\n",
       "        ></iframe>\n",
       "        "
      ],
      "text/plain": [
       "<IPython.lib.display.IFrame at 0x7f691af18f60>"
      ]
     },
     "execution_count": 124,
     "metadata": {},
     "output_type": "execute_result"
    }
   ],
   "source": [
    "pdf = 'exp/hl60_72h_only_delta_exp.pdf'\n",
    "IFrame(pdf, width=800, height=300)"
   ]
  },
  {
   "cell_type": "markdown",
   "metadata": {
    "tags": []
   },
   "source": [
    "#### molm14_delta_exp"
   ]
  },
  {
   "cell_type": "code",
   "execution_count": 125,
   "metadata": {
    "tags": []
   },
   "outputs": [],
   "source": [
    "study = 'molm14_delta_exp'\n",
    "\n",
    "pvmat = ipd.merge_multiple_pvmat(\n",
    "    pvmat_list = glob(f'exp/{study}/*c5.go.bp*/pvmatrix.txt')\n",
    ")\n",
    "\n",
    "bio_signal = pd.concat([\n",
    "    ipd.pvmat2bio_signal(pvmat,side='down',n_clust=2),\n",
    "    ipd.pvmat2bio_signal(pvmat,side='up',n_clust=2),\n",
    "    ipd.pvmat2bio_signal(pvmat,side='both'),\n",
    "],axis=0)\n",
    "\n",
    "bio_signal.to_csv(f'exp/{study}_pvmatrix.txt',sep='\\t')\n",
    "cell_line_pws[study] = bio_signal\n",
    "exp_file = f'{study}.txt'\n",
    "pvmat_file = f'{study}_pvmatrix.txt'\n",
    "pdf_file = f'{study}.pdf'\n",
    "\n",
    "!cd exp; bash {pagerdir}/ipage_draw_matrix.sh $exp_file $pvmat_file $pdf_file &> /dev/null; cd ../"
   ]
  },
  {
   "cell_type": "code",
   "execution_count": 126,
   "metadata": {},
   "outputs": [
    {
     "data": {
      "text/html": [
       "\n",
       "        <iframe\n",
       "            width=\"800\"\n",
       "            height=\"300\"\n",
       "            src=\"exp/molm14_delta_exp.pdf\"\n",
       "            frameborder=\"0\"\n",
       "            allowfullscreen\n",
       "        ></iframe>\n",
       "        "
      ],
      "text/plain": [
       "<IPython.lib.display.IFrame at 0x7f691af18cc0>"
      ]
     },
     "execution_count": 126,
     "metadata": {},
     "output_type": "execute_result"
    }
   ],
   "source": [
    "pdf = 'exp/molm14_delta_exp.pdf'\n",
    "IFrame(pdf, width=800, height=300)"
   ]
  },
  {
   "cell_type": "markdown",
   "metadata": {
    "tags": []
   },
   "source": [
    "#### ociaml2_delta_exp"
   ]
  },
  {
   "cell_type": "code",
   "execution_count": 127,
   "metadata": {
    "tags": []
   },
   "outputs": [],
   "source": [
    "study = 'ociaml2_delta_exp'\n",
    "\n",
    "pvmat = ipd.merge_multiple_pvmat(\n",
    "    pvmat_list = glob(f'exp/{study}/*c5.go.bp*/pvmatrix.txt')\n",
    ")\n",
    "\n",
    "bio_signal = pd.concat([\n",
    "    ipd.pvmat2bio_signal(pvmat,side='down',n_clust=2),\n",
    "    ipd.pvmat2bio_signal(pvmat,side='up',n_clust=2),\n",
    "    ipd.pvmat2bio_signal(pvmat,side='both'),\n",
    "],axis=0)\n",
    "\n",
    "bio_signal.to_csv(f'exp/{study}_pvmatrix.txt',sep='\\t')\n",
    "cell_line_pws[study] = bio_signal\n",
    "exp_file = f'{study}.txt'\n",
    "pvmat_file = f'{study}_pvmatrix.txt'\n",
    "pdf_file = f'{study}.pdf'\n",
    "\n",
    "!cd exp; bash {pagerdir}/ipage_draw_matrix.sh $exp_file $pvmat_file $pdf_file &> /dev/null; cd ../"
   ]
  },
  {
   "cell_type": "code",
   "execution_count": 128,
   "metadata": {},
   "outputs": [
    {
     "data": {
      "text/html": [
       "\n",
       "        <iframe\n",
       "            width=\"800\"\n",
       "            height=\"300\"\n",
       "            src=\"exp/ociaml2_delta_exp.pdf\"\n",
       "            frameborder=\"0\"\n",
       "            allowfullscreen\n",
       "        ></iframe>\n",
       "        "
      ],
      "text/plain": [
       "<IPython.lib.display.IFrame at 0x7f691af21080>"
      ]
     },
     "execution_count": 128,
     "metadata": {},
     "output_type": "execute_result"
    }
   ],
   "source": [
    "pdf = 'exp/ociaml2_delta_exp.pdf'\n",
    "IFrame(pdf, width=800, height=300)"
   ]
  },
  {
   "cell_type": "markdown",
   "metadata": {
    "tags": []
   },
   "source": [
    "#### ociaml3_delta_exp"
   ]
  },
  {
   "cell_type": "code",
   "execution_count": 129,
   "metadata": {
    "tags": []
   },
   "outputs": [],
   "source": [
    "study = 'ociaml3_delta_exp'\n",
    "\n",
    "pvmat = ipd.merge_multiple_pvmat(\n",
    "    pvmat_list = glob(f'exp/{study}/*c5.go.bp*/pvmatrix.txt')\n",
    ")\n",
    "\n",
    "bio_signal = pd.concat([\n",
    "    ipd.pvmat2bio_signal(pvmat,side='down',n_clust=2),\n",
    "    ipd.pvmat2bio_signal(pvmat,side='up',n_clust=2),\n",
    "    ipd.pvmat2bio_signal(pvmat,side='both'),\n",
    "],axis=0)\n",
    "\n",
    "bio_signal.to_csv(f'exp/{study}_pvmatrix.txt',sep='\\t')\n",
    "cell_line_pws[study] = bio_signal\n",
    "exp_file = f'{study}.txt'\n",
    "pvmat_file = f'{study}_pvmatrix.txt'\n",
    "pdf_file = f'{study}.pdf'\n",
    "\n",
    "!cd exp; bash {pagerdir}/ipage_draw_matrix.sh $exp_file $pvmat_file $pdf_file &> /dev/null; cd ../"
   ]
  },
  {
   "cell_type": "code",
   "execution_count": 130,
   "metadata": {},
   "outputs": [
    {
     "data": {
      "text/html": [
       "\n",
       "        <iframe\n",
       "            width=\"800\"\n",
       "            height=\"300\"\n",
       "            src=\"exp/ociaml3_delta_exp.pdf\"\n",
       "            frameborder=\"0\"\n",
       "            allowfullscreen\n",
       "        ></iframe>\n",
       "        "
      ],
      "text/plain": [
       "<IPython.lib.display.IFrame at 0x7f691af185f8>"
      ]
     },
     "execution_count": 130,
     "metadata": {},
     "output_type": "execute_result"
    }
   ],
   "source": [
    "pdf = 'exp/ociaml3_delta_exp.pdf'\n",
    "IFrame(pdf, width=800, height=300)"
   ]
  },
  {
   "cell_type": "markdown",
   "metadata": {
    "tags": []
   },
   "source": [
    "#### thp1_delta_exp"
   ]
  },
  {
   "cell_type": "code",
   "execution_count": 131,
   "metadata": {
    "tags": []
   },
   "outputs": [],
   "source": [
    "study = 'thp1_delta_exp'\n",
    "\n",
    "pvmat = ipd.merge_multiple_pvmat(\n",
    "    pvmat_list = glob(f'exp/{study}/*c5.go.bp*/pvmatrix.txt')\n",
    ")\n",
    "\n",
    "bio_signal = pd.concat([\n",
    "    ipd.pvmat2bio_signal(pvmat,side='down',n_clust=2),\n",
    "    ipd.pvmat2bio_signal(pvmat,side='up',n_clust=2),\n",
    "    ipd.pvmat2bio_signal(pvmat,side='both'),\n",
    "],axis=0)\n",
    "\n",
    "bio_signal.to_csv(f'exp/{study}_pvmatrix.txt',sep='\\t')\n",
    "cell_line_pws[study] = bio_signal\n",
    "exp_file = f'{study}.txt'\n",
    "pvmat_file = f'{study}_pvmatrix.txt'\n",
    "pdf_file = f'{study}.pdf'\n",
    "\n",
    "!cd exp; bash {pagerdir}/ipage_draw_matrix.sh $exp_file $pvmat_file $pdf_file &> /dev/null; cd ../"
   ]
  },
  {
   "cell_type": "code",
   "execution_count": 132,
   "metadata": {},
   "outputs": [
    {
     "data": {
      "text/html": [
       "\n",
       "        <iframe\n",
       "            width=\"800\"\n",
       "            height=\"300\"\n",
       "            src=\"exp/thp1_delta_exp.pdf\"\n",
       "            frameborder=\"0\"\n",
       "            allowfullscreen\n",
       "        ></iframe>\n",
       "        "
      ],
      "text/plain": [
       "<IPython.lib.display.IFrame at 0x7f691af21be0>"
      ]
     },
     "execution_count": 132,
     "metadata": {},
     "output_type": "execute_result"
    }
   ],
   "source": [
    "pdf = 'exp/thp1_delta_exp.pdf'\n",
    "IFrame(pdf, width=800, height=300)"
   ]
  },
  {
   "cell_type": "markdown",
   "metadata": {
    "tags": []
   },
   "source": [
    "#### kg1_delta_exp"
   ]
  },
  {
   "cell_type": "code",
   "execution_count": 133,
   "metadata": {
    "tags": []
   },
   "outputs": [],
   "source": [
    "study = 'kg1_delta_exp'\n",
    "\n",
    "pvmat = ipd.merge_multiple_pvmat(\n",
    "    pvmat_list = glob(f'exp/{study}/*c5.go.bp*/pvmatrix.txt')\n",
    ")\n",
    "\n",
    "bio_signal = pd.concat([\n",
    "    ipd.pvmat2bio_signal(pvmat,side='down',n_clust=2),\n",
    "    ipd.pvmat2bio_signal(pvmat,side='up',n_clust=2),\n",
    "    ipd.pvmat2bio_signal(pvmat,side='both'),\n",
    "],axis=0)\n",
    "\n",
    "bio_signal.to_csv(f'exp/{study}_pvmatrix.txt',sep='\\t')\n",
    "cell_line_pws[study] = bio_signal\n",
    "exp_file = f'{study}.txt'\n",
    "pvmat_file = f'{study}_pvmatrix.txt'\n",
    "pdf_file = f'{study}.pdf'\n",
    "\n",
    "!cd exp; bash {pagerdir}/ipage_draw_matrix.sh $exp_file $pvmat_file $pdf_file &> /dev/null; cd ../"
   ]
  },
  {
   "cell_type": "code",
   "execution_count": 134,
   "metadata": {},
   "outputs": [
    {
     "data": {
      "text/html": [
       "\n",
       "        <iframe\n",
       "            width=\"800\"\n",
       "            height=\"300\"\n",
       "            src=\"exp/kg1_delta_exp.pdf\"\n",
       "            frameborder=\"0\"\n",
       "            allowfullscreen\n",
       "        ></iframe>\n",
       "        "
      ],
      "text/plain": [
       "<IPython.lib.display.IFrame at 0x7f691af18a90>"
      ]
     },
     "execution_count": 134,
     "metadata": {},
     "output_type": "execute_result"
    }
   ],
   "source": [
    "pdf = 'exp/kg1_delta_exp.pdf'\n",
    "IFrame(pdf, width=800, height=300)"
   ]
  },
  {
   "cell_type": "markdown",
   "metadata": {
    "tags": []
   },
   "source": [
    "# Intersection "
   ]
  },
  {
   "cell_type": "code",
   "execution_count": 137,
   "metadata": {},
   "outputs": [],
   "source": [
    "for name in cell_line_pws:\n",
    "    cell_line_pws[name].columns = list(range(11))"
   ]
  },
  {
   "cell_type": "markdown",
   "metadata": {},
   "source": [
    "source: https://www.nature.com/articles/s41586-021-03313-9/figures/9\n",
    "\n",
    "I want something like module g\n",
    "\n",
    "<img src=\"https://media.springernature.com/full/springer-static/esm/art%3A10.1038%2Fs41586-021-03313-9/MediaObjects/41586_2021_3313_Fig9_ESM.jpg?as=webp\" width=600 > "
   ]
  },
  {
   "cell_type": "markdown",
   "metadata": {},
   "source": [
    "### HL-60"
   ]
  },
  {
   "cell_type": "code",
   "execution_count": 82,
   "metadata": {},
   "outputs": [],
   "source": [
    "data = dict([\n",
    "    ('6h_dn',  set(cell_line_pws['hl60_6h_delta_exp'  ].loc[cell_line_pws['hl60_6h_delta_exp'].iloc  [:,0]   > 2,:].index.to_list())),\n",
    "    ('6h_up',  set(cell_line_pws['hl60_6h_delta_exp'  ].loc[cell_line_pws['hl60_6h_delta_exp'].iloc  [:,10]  > 2,:].index.to_list())),\n",
    "    ('72h_dn', set(cell_line_pws['hl60_72h_delta_exp' ].loc[cell_line_pws['hl60_72h_delta_exp'].iloc [:,0]   > 2,:].index.to_list())),\n",
    "    ('72h_up', set(cell_line_pws['hl60_72h_delta_exp' ].loc[cell_line_pws['hl60_72h_delta_exp'].iloc [:,10]  > 2,:].index.to_list())),\n",
    "    ('120h_dn',set(cell_line_pws['hl60_120h_delta_exp'].loc[cell_line_pws['hl60_120h_delta_exp'].iloc[:,0]   > 2,:].index.to_list())),\n",
    "    ('120h_up',set(cell_line_pws['hl60_120h_delta_exp'].loc[cell_line_pws['hl60_120h_delta_exp'].iloc[:,10]  > 2,:].index.to_list())),\n",
    "])"
   ]
  },
  {
   "cell_type": "code",
   "execution_count": null,
   "metadata": {},
   "outputs": [],
   "source": []
  },
  {
   "cell_type": "code",
   "execution_count": 83,
   "metadata": {},
   "outputs": [
    {
     "data": {
      "image/png": "[encoded data removed]",
      "text/plain": [
       "<Figure size 256x384 with 4 Axes>"
      ]
     },
     "metadata": {
      "needs_background": "light"
     },
     "output_type": "display_data"
    }
   ],
   "source": [
    "fig1 = plt.figure()\n",
    "upset1 = us.UpSet(\n",
    "    us.from_contents(data),\n",
    "    # min_subset_size=5,\n",
    "    min_degree=2,\n",
    "    # max_degree=3,\n",
    "    orientation='horizontal',show_counts=True,\n",
    ")\n",
    "# upset1.style_subsets(present='hl60_72h_only',edgecolor=\"red\",linewidth=2)\n",
    "upset1.plot(fig=fig1)\n",
    "fig1.suptitle('iPAGE results',fontsize=20)\n",
    "plt.show()\n",
    "# pdf.savefig()"
   ]
  },
  {
   "cell_type": "markdown",
   "metadata": {},
   "source": [
    "### AML CELL LINE PANEL"
   ]
  },
  {
   "cell_type": "code",
   "execution_count": 160,
   "metadata": {},
   "outputs": [],
   "source": [
    "import seaborn as sns"
   ]
  },
  {
   "cell_type": "code",
   "execution_count": 533,
   "metadata": {},
   "outputs": [],
   "source": [
    "# def draw_heatmap(df,vmin,vmax,x_label='',save=False):\n",
    "#     plt.figure(figsize=(15, 20))\n",
    "#     cg = sns.clustermap(df, method='average', metric='euclidean', col_cluster=False, row_cluster=False, figsize=None,\n",
    "#                         cbar=True, cmap=plt.cm.RdBu_r, cbar_kws={'label': 'Over/Under-representation'}, \n",
    "#                         vmax=vmax,vmin=vmin\n",
    "#                        )\n",
    "#     plt.setp(cg.ax_heatmap.xaxis.get_majorticklabels(), rotation=30, ha='center')\n",
    "#     cg.ax_heatmap.set_xlabel(x_label, fontdict={'fontsize': 10})\n",
    "#     cg.ax_heatmap.set_title('Enrichments',\n",
    "#                             fontdict={'fontsize': 13})\n",
    "#     plt.tight_layout()\n",
    "#     # fig, ax = plt.subplots(1, 1, figsize=(15, 20))\n",
    "#     # sns.barplot(df.column, exp_['log2FoldChange'], color='purple')\n",
    "#     # fig.patch.set_visible(False)\n",
    "#     # ax.axis('off')\n",
    "#     if save:\n",
    "#         pass\n",
    "#         # plt.savefig('enrichment_%s/regulon_enrichment_%s_%s.png' % (cat, comp, cat), dpi=500)"
   ]
  },
  {
   "cell_type": "code",
   "execution_count": 640,
   "metadata": {},
   "outputs": [],
   "source": [
    "df = pd.concat(\n",
    "    [ipd.pvmat2bio_signal(pd.concat(cell_line_pws,axis=0),s,n_clust=n) for n in [1,2,3] for s in ['up','both','down']] \n",
    ").drop_duplicates()\n",
    "\n",
    "df = df.reset_index()#.set_index(['level_1','level_0']).sort_index(0)\n",
    "# df.index.names = [None,None]\n",
    "df = df.rename(columns={'level_0':'line','level_1':'GO'})"
   ]
  },
  {
   "cell_type": "code",
   "execution_count": 641,
   "metadata": {},
   "outputs": [],
   "source": [
    "%reload_ext rpy2.ipython"
   ]
  },
  {
   "cell_type": "code",
   "execution_count": 642,
   "metadata": {},
   "outputs": [],
   "source": [
    "%%R \n",
    "library(ggplot2)\n",
    "library(tidyverse)"
   ]
  },
  {
   "cell_type": "code",
   "execution_count": 753,
   "metadata": {},
   "outputs": [],
   "source": [
    "%%R\n",
    "library(pheatmap)\n",
    "library(RColorBrewer)\n",
    "library(viridis)\n",
    "\n",
    "# makeColorRampPalette <- function(colors, cutoff.fraction, num.colors.in.palette)\n",
    "# {\n",
    "#   stopifnot(length(colors) == 4)\n",
    "#   ramp1 <- colorRampPalette(colors[1:2])(num.colors.in.palette * cutoff.fraction)\n",
    "#   ramp2 <- colorRampPalette(colors[3:4])(num.colors.in.palette * (1 - cutoff.fraction))\n",
    "#   return(c(ramp1, ramp2))\n",
    "# }\n",
    "\n",
    "breaksList = seq(-3,3,by = 1)"
   ]
  },
  {
   "cell_type": "code",
   "execution_count": 825,
   "metadata": {},
   "outputs": [],
   "source": [
    "%%R -i df\n",
    "df %>% remove_rownames() %>%\n",
    "    mutate(line=gsub(\"_delta_exp\",'',line)) %>%\n",
    "    mutate(line=gsub(\"_only\",'',line)) %>%\n",
    "    mutate(GO=gsub(\"GOBP_\",'GOBP | ',GO)) %>%\n",
    "    mutate(GO=gsub(\"GOMF_\",'GOMF | ',GO)) %>%\n",
    "    mutate(name=paste0(GO,'-',line)) %>%\n",
    "    group_by(GO) %>% filter( n() > 1 ) %>% \n",
    "    column_to_rownames('name') -> df"
   ]
  },
  {
   "cell_type": "code",
   "execution_count": 826,
   "metadata": {},
   "outputs": [],
   "source": [
    "%%R\n",
    "mat_colors <- list(group = brewer.pal(7, \"RdBu\"))$group\n",
    "greens <- brewer.pal(n = 4, name = \"Greens\")\n",
    "set1 <- brewer.pal(n = 5, name = \"Set1\")\n",
    "set2 <- c(brewer.pal(n = 16, name = \"Set2\"),brewer.pal(n = 16, name = \"Set3\"))"
   ]
  },
  {
   "cell_type": "code",
   "execution_count": 827,
   "metadata": {},
   "outputs": [],
   "source": [
    "%%R \n",
    "go_col = c()\n",
    "go_names = df$GO %>% unique\n",
    "\n",
    "for (i in c(1:length(go_names))){\n",
    "    go_col[go_names[i]]=set2[i]\n",
    "}"
   ]
  },
  {
   "cell_type": "code",
   "execution_count": 828,
   "metadata": {},
   "outputs": [],
   "source": [
    "%%R \n",
    "ann_colors = list(\n",
    "    line = c(\n",
    "        \"hl60_6h\"=greens[1],\n",
    "        \"hl60_72h\"=greens[2],\n",
    "        \"hl60_120h\"=greens[3],\n",
    "        \"kg1\"=set1[1],\n",
    "        \"molm14\"=set1[2],\n",
    "        \"ociaml3\"=set1[4],\n",
    "        \"ociaml2\"=set1[5]\n",
    "    ),\n",
    "    GO=go_col\n",
    ")"
   ]
  },
  {
   "cell_type": "code",
   "execution_count": 830,
   "metadata": {},
   "outputs": [
    {
     "data": {
      "image/png": "[encoded data removed]"
     },
     "metadata": {},
     "output_type": "display_data"
    }
   ],
   "source": [
    "%%R\n",
    "df %>% dplyr::select(-c(line,GO)) %>% \n",
    "    pheatmap(\n",
    "        cluster_cols=F,\n",
    "        cluster_rows=T,\n",
    "        cutree_rows=3,\n",
    "        show_rownames=F,\n",
    "        show_colnames=F,\n",
    "        vmin=-3,vmax=3,\n",
    "        annotation_row = df %>%select(line,GO),\n",
    "        color = mat_colors[length(mat_colors):-1:1],\n",
    "        border_color = F,\n",
    "        breaks = breaksList,\n",
    "        annotation_colors = ann_colors\n",
    "        \n",
    "    ) -> pw_ht"
   ]
  },
  {
   "cell_type": "code",
   "execution_count": 832,
   "metadata": {},
   "outputs": [
    {
     "name": "stdout",
     "output_type": "stream",
     "text": [
      "png \n",
      "  2 \n"
     ]
    }
   ],
   "source": [
    "%%R \n",
    "pdf(\"figures/cell-line-consistency-exp-GO.pdf\",width=12, height=8)\n",
    "grid::grid.newpage()\n",
    "grid::grid.draw(pw_ht$gtable)\n",
    "\n",
    "dev.off()"
   ]
  },
  {
   "cell_type": "code",
   "execution_count": 84,
   "metadata": {},
   "outputs": [],
   "source": [
    "# plt.figure(figsize=(8,8))\n",
    "\n",
    "# # Make venn diagram                                                                                                                                                             \n",
    "# v = venn3_unweighted(\n",
    "#     [Exp_down,Rho_down,Hyper_m6A],('ΔRNA Expression\\nlog2FC < -0.1','ΔPhenotype (ρ)\\nlog2FC < -0.1','ΔRNA Methylation\\nlog2FC > 1')\n",
    "#     ,normalize_to=0.5\n",
    "# )\n",
    "\n",
    "# for x in ['100','010','001','110','101','011']:\n",
    "#     v.get_patch_by_id(x).set_alpha(0.5)\n",
    "#     v.get_patch_by_id(x).set_color('lightgrey')\n",
    "#     v.get_label_by_id(x).set_fontsize(12)\n",
    "\n",
    "# v.get_patch_by_id('111').set_color('y')\n",
    "# v.get_label_by_id('111').set_fontsize(15)\n",
    "\n",
    "\n",
    "# c = venn3_circles(\n",
    "#     (1,1,1,1,1,1,1), linestyle='dashed'\n",
    "#     ,normalize_to=0.5\n",
    "# )\n",
    "# for i,_ in enumerate(c):\n",
    "#     c[i].set_lw(1.0)\n",
    "#     c[i].set_ls('dotted')\n",
    "\n",
    "# plt.title(\"Intersectional genes\", fontsize=20)\n",
    "# plt.annotate(\n",
    "#     venn_genes_label, xy=v.get_label_by_id('111').get_position() - np.array([0, 0.05]), \n",
    "#     xytext=(-180,-250),\n",
    "#     ha='center', textcoords='offset points', bbox=dict(boxstyle='round,pad=0.5', fc='gray', alpha=0.1),\n",
    "#     fontsize=12, \n",
    "#     arrowprops=dict(arrowstyle='->', connectionstyle='arc3,rad=0.5',color='gray')\n",
    "# )\n",
    "\n",
    "# plt.figtext(\n",
    "#     0.5, 0.08, \"pvalue < 0.05\", ha=\"center\", fontsize=10, \n",
    "#     bbox={\"facecolor\":\"lightgray\", \"alpha\":0.1, \"pad\":5}\n",
    "# )\n",
    "\n",
    "# plt.savefig('intersectional-genes/venn_plot_Exp_down_Rho_down_Hyper_m6A.pdf')\n",
    "# plt.show()"
   ]
  },
  {
   "cell_type": "code",
   "execution_count": null,
   "metadata": {},
   "outputs": [],
   "source": []
  },
  {
   "cell_type": "code",
   "execution_count": null,
   "metadata": {},
   "outputs": [],
   "source": []
  },
  {
   "cell_type": "markdown",
   "metadata": {
    "tags": []
   },
   "source": [
    "___\n",
    "# "
   ]
  },
  {
   "cell_type": "code",
   "execution_count": 162,
   "metadata": {},
   "outputs": [
    {
     "name": "stdout",
     "output_type": "stream",
     "text": [
      "Wed Oct 19 14:55:19 PDT 2022\n"
     ]
    }
   ],
   "source": [
    "!date"
   ]
  }
 ],
 "metadata": {
  "kernelspec": {
   "display_name": "Python [conda env:down]",
   "language": "python",
   "name": "conda-env-down-py"
  },
  "language_info": {
   "codemirror_mode": {
    "name": "ipython",
    "version": 3
   },
   "file_extension": ".py",
   "mimetype": "text/x-python",
   "name": "python",
   "nbconvert_exporter": "python",
   "pygments_lexer": "ipython3",
   "version": "3.6.13"
  }
 },
 "nbformat": 4,
 "nbformat_minor": 4
}
