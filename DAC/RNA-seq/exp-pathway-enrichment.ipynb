{
 "cells": [
  {
   "cell_type": "markdown",
   "metadata": {},
   "source": [
    "__Aim:__ Consistency analysis across cell lines using pathway enrichment results to find commonly up/down regulated pathways and their genes. \n",
    "\n",
    "___\n",
    "- https://github.com/abearab/ipage-msigdb\n",
    "- https://github.com/tanghaibao/goatools\n",
    "- https://gseapy.readthedocs.io/en/latest/index.html"
   ]
  },
  {
   "cell_type": "markdown",
   "metadata": {},
   "source": [
    "Hani: _\"You must redo iPAGE with `--independence=0` option for comparing results between multiple smaples.\"_"
   ]
  },
  {
   "cell_type": "code",
   "execution_count": 1,
   "metadata": {
    "tags": []
   },
   "outputs": [],
   "source": [
    "import re\n",
    "import sys\n",
    "import pandas as pd \n",
    "import numpy as np\n",
    "import matplotlib.pyplot as plt\n",
    "from time import time \n",
    "from glob import glob\n",
    "from matplotlib.pyplot import subplots\n",
    "from itertools import chain\n",
    "from functools import reduce\n",
    "from venn import venn\n",
    "\n",
    "# sys.path.append('/rumi/shams/abe/Projects/ipage-down/')\n",
    "sys.path.append('/data_gilbert/home/aarab/tools/pager/')\n",
    "\n",
    "import upsetplot as us\n",
    "import pager\n",
    "from matplotlib.backends.backend_pdf import PdfPages\n",
    "\n",
    "from IPython.display import IFrame"
   ]
  },
  {
   "cell_type": "code",
   "execution_count": null,
   "metadata": {},
   "outputs": [],
   "source": []
  },
  {
   "cell_type": "code",
   "execution_count": null,
   "metadata": {},
   "outputs": [],
   "source": []
  },
  {
   "cell_type": "code",
   "execution_count": null,
   "metadata": {},
   "outputs": [],
   "source": []
  },
  {
   "cell_type": "code",
   "execution_count": null,
   "metadata": {},
   "outputs": [],
   "source": []
  },
  {
   "cell_type": "code",
   "execution_count": 23,
   "metadata": {
    "tags": []
   },
   "outputs": [],
   "source": [
    "pagerdir='/data_gilbert/home/aarab/tools/pager'"
   ]
  },
  {
   "cell_type": "code",
   "execution_count": 3,
   "metadata": {
    "tags": []
   },
   "outputs": [],
   "source": [
    "# def get_pvmatrix_list(parent_path,pattern):\n",
    "#     \"\"\"\n",
    "#     pattern: msigdb gene set cluster name \n",
    "#     \"\"\"\n",
    "#     return glob(f'{parent_path}/*{pattern}*/pvmatrix.txt')\n",
    "\n",
    "# def get_pv_signal(exp,patterns,pdf=None):\n",
    "#     \"\"\"\n",
    "#     exp: experiment name\n",
    "#     patterns: list of patterns\n",
    "#     \"\"\"\n",
    "#     cols = pd.concat([\n",
    "#         pager.pvmat2bio_signal(pager.merge_multiple_pvmat(\n",
    "#             get_pvmatrix_list(f\"{exp}_fdr\",\"c1\")\n",
    "#         ),s,n_clust=1) for s in ['up','both','down']\n",
    "#     ]).columns\n",
    "    \n",
    "#     pv_signal = pd.concat([\n",
    "#         pager.pvmat2bio_signal(pager.merge_multiple_pvmat([\n",
    "#             pvmat for pattern in patterns\n",
    "#             for pvmat in \n",
    "#             get_pvmatrix_list(f\"{exp}\",pattern) + \\\n",
    "#             get_pvmatrix_list(f\"{exp}_fdr\",pattern)\n",
    "#         ]),s,n_clust=2) for s in ['up','both','down']\n",
    "#     ])\n",
    "    \n",
    "#     pv_signal.columns = cols\n",
    "#     pv_signal=pv_signal[~pv_signal.duplicated()]\n",
    "    \n",
    "#     if pdf:\n",
    "#         pv_signal.to_csv('temp-pvmatrix.txt',sep='\\t')\n",
    "    \n",
    "#         !bash {pager_dir}/iPAGE_draw_matrix.sh \\\n",
    "#             {exp}'.txt' \"temp-pvmatrix.txt\" \\\n",
    "#             {pdf} &> /dev/null\n",
    "    \n",
    "#         !rm -v 'temp-pvmatrix.txt'\n",
    "#     else: \n",
    "#         return pv_signal\n"
   ]
  },
  {
   "cell_type": "code",
   "execution_count": null,
   "metadata": {},
   "outputs": [],
   "source": []
  },
  {
   "cell_type": "code",
   "execution_count": null,
   "metadata": {},
   "outputs": [],
   "source": []
  },
  {
   "cell_type": "code",
   "execution_count": null,
   "metadata": {},
   "outputs": [],
   "source": []
  },
  {
   "cell_type": "code",
   "execution_count": null,
   "metadata": {},
   "outputs": [],
   "source": []
  },
  {
   "cell_type": "code",
   "execution_count": 4,
   "metadata": {
    "tags": []
   },
   "outputs": [],
   "source": [
    "dictfilt = lambda x, y: dict([ (i,x[i]) for i in x if i in set(y) ])"
   ]
  },
  {
   "cell_type": "code",
   "execution_count": 5,
   "metadata": {
    "tags": []
   },
   "outputs": [
    {
     "data": {
      "text/plain": [
       "'/data_gilbert/home/aarab/tools/pager/'"
      ]
     },
     "execution_count": 5,
     "metadata": {},
     "output_type": "execute_result"
    }
   ],
   "source": [
    "sys.path[-1]"
   ]
  },
  {
   "cell_type": "code",
   "execution_count": 6,
   "metadata": {
    "tags": []
   },
   "outputs": [],
   "source": [
    "# !cat /data_gilbert/home/aarab/Projects/pager/ipage_loop.sh"
   ]
  },
  {
   "cell_type": "markdown",
   "metadata": {
    "jp-MarkdownHeadingCollapsed": true,
    "tags": []
   },
   "source": [
    "## $\\Delta$Expression"
   ]
  },
  {
   "cell_type": "markdown",
   "metadata": {
    "tags": []
   },
   "source": [
    "#### `ind0`"
   ]
  },
  {
   "cell_type": "code",
   "execution_count": null,
   "metadata": {
    "tags": []
   },
   "outputs": [],
   "source": [
    "%%bash\n",
    "export PAGEDIR='/data_gilbert/home/aarab/iPAGE'\n",
    "\n",
    "cd exp/\n",
    "ls *_delta_exp.txt | parallel -j18 -k bash /data_gilbert/home/aarab/Projects/pager/ipage_loop.sh\n",
    "cd ../"
   ]
  },
  {
   "cell_type": "markdown",
   "metadata": {
    "tags": []
   },
   "source": [
    "### Remake from pvmatrix (correct bin clusters)"
   ]
  },
  {
   "cell_type": "code",
   "execution_count": 7,
   "metadata": {
    "tags": []
   },
   "outputs": [],
   "source": [
    "cell_line_pws = {}"
   ]
  },
  {
   "cell_type": "code",
   "execution_count": 8,
   "metadata": {
    "tags": []
   },
   "outputs": [],
   "source": [
    "# def read_ipage_intersections_file(gs_cluster_path,clust,gs=None):\n",
    "#     with open(f'{gs_cluster_path}/output.ipage_intersections') as raw:\n",
    "#         lines = [line for line in raw.read().splitlines()]\n",
    "#         if gs: \n",
    "#             lines = [line.split('\\t') for line in lines if re.search(gs, line)]\n",
    "#         else:\n",
    "#             lines = [line.split('\\t') for line in lines]\n",
    "\n",
    "#     #     left  = dict([(line[0].split(' ')[0],line[2:]) for line in lines if line[1] == '0' ])\n",
    "#     #     right = dict([(line[0].split(' ')[0],line[2:]) for line in lines if line[1] == '10'])\n",
    "#     # return left,right\n",
    "#     return dict([(line[0].split(' ')[0],line[2:]) for line in lines if line[1] == clust ])\n",
    "\n",
    "\n",
    "# def merge_multiple_pvmat(pvmat_list):\n",
    "#     df = pager.clean_bins_range(\n",
    "#         pager.read_pvmatrix(pvmat_list[0])\n",
    "#     )\n",
    "\n",
    "#     cols = df.columns\n",
    "\n",
    "#     df = pd.concat(\n",
    "#         [df] + [\n",
    "#             pager.read_pvmatrix(pvmat).set_axis(cols, axis=1, inplace=False) \n",
    "#             for pvmat in pvmat_list[1:]\n",
    "#         ]\n",
    "#     )\n",
    "\n",
    "#     df = df.groupby(df.index).first()\n",
    "#     # pager.style_clean_pvmatrix(df.iloc[:,[0,10]])    \n",
    "#     return df\n",
    "\n",
    "# def pvmat2bio_signal(pvmat,side,n_clust=2):\n",
    "#     if side == 'up':\n",
    "#         out = pvmat.loc[\n",
    "#             (pd.DataFrame(pvmat.iloc  [:,-n_clust:]  > 2).all(axis=1)) & \n",
    "#             (pd.DataFrame(pvmat.iloc  [:,:-n_clust]  < 2).all(axis=1))\n",
    "#             ,:\n",
    "#         ].sort_values(by=pvmat.columns[-n_clust:].to_list()[::-1],ascending=False,axis=0)\n",
    "#     elif side == 'both':\n",
    "#         out = pvmat.loc[\n",
    "#             (pd.DataFrame(pvmat.iloc  [:,:n_clust]  > 2).all(axis=1)) & \n",
    "#             (pd.DataFrame(pvmat.iloc  [:,-n_clust:]  > 2).all(axis=1)) & \n",
    "#             (pd.DataFrame(pvmat.iloc  [:,n_clust+1:-n_clust]  < 2).all(axis=1))\n",
    "#             ,:\n",
    "#         ].sort_values(\n",
    "#             by=pvmat.columns[-n_clust:].to_list()[::-1] + pvmat.columns[:n_clust].to_list(),\n",
    "#             ascending=False,axis=0\n",
    "#         )\n",
    "#     elif side == 'down':\n",
    "#         out = pvmat.loc[\n",
    "#             (pd.DataFrame(pvmat.iloc  [:,:n_clust]  > 2).all(axis=1)) & \n",
    "#             (pd.DataFrame(pvmat.iloc  [:,n_clust+1:]  < 2).all(axis=1))\n",
    "#             ,:\n",
    "#         ].sort_values(by=pvmat.columns[:n_clust].to_list(),ascending=False,axis=0)\n",
    "#     return out\n",
    "\n",
    "# def detect_gs_cluster(pvmat_list, gs):\n",
    "#     return [\n",
    "#         pvmat for pvmat in pvmat_list\n",
    "#         if gs in pager.read_pvmatrix(pvmat).index.to_list()\n",
    "        \n",
    "#     ]"
   ]
  },
  {
   "cell_type": "markdown",
   "metadata": {
    "tags": []
   },
   "source": [
    "### HL-60 time series"
   ]
  },
  {
   "cell_type": "code",
   "execution_count": 9,
   "metadata": {
    "tags": []
   },
   "outputs": [],
   "source": [
    "# cell_line_pws ['120h'] = merge_multiple_pvmat(\n",
    "#     pvmat_list = glob('exp/hl60_120h_delta_exp_ind0/*c5*/pvmatrix.[L-R].txt')\n",
    "# )"
   ]
  },
  {
   "cell_type": "markdown",
   "metadata": {
    "tags": []
   },
   "source": [
    "#### hl60 6h delta_exp"
   ]
  },
  {
   "cell_type": "code",
   "execution_count": 252,
   "metadata": {
    "tags": []
   },
   "outputs": [
    {
     "name": "stderr",
     "output_type": "stream",
     "text": [
      "/data_gilbert/home/aarab/tools/pager/pager.py:235: FutureWarning: DataFrame.set_axis 'inplace' keyword is deprecated and will be removed in a future version. Use `obj = obj.set_axis(..., copy=False)` instead\n",
      "  read_pvmatrix(pvmat).set_axis(cols, axis=1, inplace=False)\n",
      "/data_gilbert/home/aarab/tools/pager/pager.py:235: FutureWarning: DataFrame.set_axis 'inplace' keyword is deprecated and will be removed in a future version. Use `obj = obj.set_axis(..., copy=False)` instead\n",
      "  read_pvmatrix(pvmat).set_axis(cols, axis=1, inplace=False)\n",
      "/data_gilbert/home/aarab/tools/pager/pager.py:235: FutureWarning: DataFrame.set_axis 'inplace' keyword is deprecated and will be removed in a future version. Use `obj = obj.set_axis(..., copy=False)` instead\n",
      "  read_pvmatrix(pvmat).set_axis(cols, axis=1, inplace=False)\n"
     ]
    }
   ],
   "source": [
    "study = 'hl60_6h_delta_exp'\n",
    "\n",
    "pvmat = pager.merge_multiple_pvmat(\n",
    "    pvmat_list = glob(f'exp/{study}/*c5.go*/pvmatrix.txt')\n",
    ")\n",
    "\n",
    "bio_signal = pd.concat([\n",
    "    pager.pvmat2bio_signal(pvmat,side='down',n_clust=1),\n",
    "    pager.pvmat2bio_signal(pvmat,side='up',n_clust=1),\n",
    "    pager.pvmat2bio_signal(pvmat,side='both'),\n",
    "],axis=0)\n",
    "\n",
    "\n",
    "bio_signal = bio_signal[bio_signal.index.str.contains('CHEMOTAXIS')]\n",
    "\n",
    "\n",
    "bio_signal.to_csv(f'exp/{study}_pvmatrix.txt',sep='\\t')\n",
    "cell_line_pws[study] = bio_signal\n",
    "exp_file = f'{study}.txt'\n",
    "pvmat_file = f'{study}_pvmatrix.txt'\n",
    "pdf_file = f'{study}.pdf'\n",
    "\n",
    "!cd exp; bash {pagerdir}/iPAGE_draw_matrix.sh $exp_file $pvmat_file $pdf_file &> /dev/null; cd ../"
   ]
  },
  {
   "cell_type": "code",
   "execution_count": 253,
   "metadata": {
    "tags": []
   },
   "outputs": [
    {
     "data": {
      "text/html": [
       "\n",
       "        <iframe\n",
       "            width=\"800\"\n",
       "            height=\"300\"\n",
       "            src=\"exp/hl60_6h_delta_exp.pdf\"\n",
       "            frameborder=\"0\"\n",
       "            allowfullscreen\n",
       "            \n",
       "        ></iframe>\n",
       "        "
      ],
      "text/plain": [
       "<IPython.lib.display.IFrame at 0x7f217098b640>"
      ]
     },
     "execution_count": 253,
     "metadata": {},
     "output_type": "execute_result"
    }
   ],
   "source": [
    "pdf = 'exp/hl60_6h_delta_exp.pdf'\n",
    "IFrame(pdf, width=800, height=300)"
   ]
  },
  {
   "cell_type": "code",
   "execution_count": 114,
   "metadata": {
    "tags": []
   },
   "outputs": [],
   "source": [
    "# gs_cluster_path = pager.detect_gs_cluster(pvmat_list, gs=gs)\n",
    "\n",
    "# print ([p.split('/')[1:3] for p in gs_cluster_path])\n",
    "\n",
    "# gs_cluster_path = gs_cluster_path[1].split('pvmatrix.R.txt')[0]\n",
    "# print ('Down')\n",
    "# print (pager.bin_identifier_genes(gs_cluster_path, '0', gs=gs))\n",
    "# print ('Up')\n",
    "# print (pager.bin_identifier_genes(gs_cluster_path, '9', gs=gs))\n",
    "# print (pager.bin_identifier_genes(gs_cluster_path, '10', gs=gs))"
   ]
  },
  {
   "cell_type": "markdown",
   "metadata": {
    "tags": []
   },
   "source": [
    "#### hl60 72h delta_exp"
   ]
  },
  {
   "cell_type": "code",
   "execution_count": 297,
   "metadata": {
    "tags": []
   },
   "outputs": [
    {
     "name": "stderr",
     "output_type": "stream",
     "text": [
      "/data_gilbert/home/aarab/tools/pager/pager.py:235: FutureWarning: DataFrame.set_axis 'inplace' keyword is deprecated and will be removed in a future version. Use `obj = obj.set_axis(..., copy=False)` instead\n",
      "  read_pvmatrix(pvmat).set_axis(cols, axis=1, inplace=False)\n",
      "/data_gilbert/home/aarab/tools/pager/pager.py:235: FutureWarning: DataFrame.set_axis 'inplace' keyword is deprecated and will be removed in a future version. Use `obj = obj.set_axis(..., copy=False)` instead\n",
      "  read_pvmatrix(pvmat).set_axis(cols, axis=1, inplace=False)\n",
      "/data_gilbert/home/aarab/tools/pager/pager.py:235: FutureWarning: DataFrame.set_axis 'inplace' keyword is deprecated and will be removed in a future version. Use `obj = obj.set_axis(..., copy=False)` instead\n",
      "  read_pvmatrix(pvmat).set_axis(cols, axis=1, inplace=False)\n"
     ]
    }
   ],
   "source": [
    "study = 'hl60_72h_delta_exp'\n",
    "\n",
    "pvmat = pager.merge_multiple_pvmat(\n",
    "    pvmat_list = glob(f'exp/{study}/*c5.go*/pvmatrix.txt') #+ glob(f'exp/{study}_ind1/*c2.cp.kegg*/pvmatrix.txt')\n",
    ")\n",
    "\n",
    "bio_signal = pd.concat([\n",
    "    pager.pvmat2bio_signal(pvmat,side='down',n_clust=1),\n",
    "    pager.pvmat2bio_signal(pvmat,side='down',n_clust=2),\n",
    "    pager.pvmat2bio_signal(pvmat,side='up',n_clust=1),\n",
    "    pager.pvmat2bio_signal(pvmat,side='up',n_clust=2),\n",
    "    pager.pvmat2bio_signal(pvmat,side='both'),\n",
    "],axis=0)\n",
    "\n",
    "\n",
    "bio_signal = pvmat\n",
    "\n",
    "# bio_signal = bio_signal[bio_signal.index.str.contains('CHEMOTAXIS'.upper())]\n",
    "bio_signal = bio_signal[bio_signal.index.str.contains('DIFFERENTIATION')]\n",
    "# bio_signal = bio_signal[bio_signal.index.str.contains('Neutrophil'.upper())]\n",
    "\n",
    "\n",
    "\n",
    "\n",
    "cell_line_pws[study] = bio_signal\n",
    "\n",
    "bio_signal.to_csv(f'exp/{study}_pvmatrix.txt',sep='\\t')\n",
    "\n",
    "exp_file = f'{study}.txt'\n",
    "pvmat_file = f'{study}_pvmatrix.txt'\n",
    "pdf_file = f'{study}.pdf'\n",
    "\n",
    "!cd exp; bash {pagerdir}/iPAGE_draw_matrix.sh $exp_file $pvmat_file $pdf_file &> /dev/null; cd ../"
   ]
  },
  {
   "cell_type": "code",
   "execution_count": 298,
   "metadata": {
    "tags": []
   },
   "outputs": [
    {
     "data": {
      "text/html": [
       "\n",
       "        <iframe\n",
       "            width=\"800\"\n",
       "            height=\"300\"\n",
       "            src=\"exp/hl60_72h_delta_exp.pdf\"\n",
       "            frameborder=\"0\"\n",
       "            allowfullscreen\n",
       "            \n",
       "        ></iframe>\n",
       "        "
      ],
      "text/plain": [
       "<IPython.lib.display.IFrame at 0x7f219bc03490>"
      ]
     },
     "execution_count": 298,
     "metadata": {},
     "output_type": "execute_result"
    }
   ],
   "source": [
    "pdf = 'exp/hl60_72h_delta_exp.pdf'\n",
    "IFrame(pdf, width=800, height=300)"
   ]
  },
  {
   "cell_type": "markdown",
   "metadata": {
    "tags": []
   },
   "source": [
    "#### hl60 120h delta_exp"
   ]
  },
  {
   "cell_type": "code",
   "execution_count": 294,
   "metadata": {
    "tags": []
   },
   "outputs": [
    {
     "name": "stderr",
     "output_type": "stream",
     "text": [
      "/data_gilbert/home/aarab/tools/pager/pager.py:235: FutureWarning: DataFrame.set_axis 'inplace' keyword is deprecated and will be removed in a future version. Use `obj = obj.set_axis(..., copy=False)` instead\n",
      "  read_pvmatrix(pvmat).set_axis(cols, axis=1, inplace=False)\n",
      "/data_gilbert/home/aarab/tools/pager/pager.py:235: FutureWarning: DataFrame.set_axis 'inplace' keyword is deprecated and will be removed in a future version. Use `obj = obj.set_axis(..., copy=False)` instead\n",
      "  read_pvmatrix(pvmat).set_axis(cols, axis=1, inplace=False)\n",
      "/data_gilbert/home/aarab/tools/pager/pager.py:235: FutureWarning: DataFrame.set_axis 'inplace' keyword is deprecated and will be removed in a future version. Use `obj = obj.set_axis(..., copy=False)` instead\n",
      "  read_pvmatrix(pvmat).set_axis(cols, axis=1, inplace=False)\n",
      "/data_gilbert/home/aarab/tools/pager/pager.py:235: FutureWarning: DataFrame.set_axis 'inplace' keyword is deprecated and will be removed in a future version. Use `obj = obj.set_axis(..., copy=False)` instead\n",
      "  read_pvmatrix(pvmat).set_axis(cols, axis=1, inplace=False)\n",
      "/data_gilbert/home/aarab/tools/pager/pager.py:235: FutureWarning: DataFrame.set_axis 'inplace' keyword is deprecated and will be removed in a future version. Use `obj = obj.set_axis(..., copy=False)` instead\n",
      "  read_pvmatrix(pvmat).set_axis(cols, axis=1, inplace=False)\n"
     ]
    }
   ],
   "source": [
    "study = 'hl60_120h_delta_exp'\n",
    "\n",
    "pvmat = pager.merge_multiple_pvmat(\n",
    "    pvmat_list = glob(f'exp/{study}/*c5*/pvmatrix.txt')\n",
    "    # pvmat_list = glob(f'exp/{study}/*c8*/pvmatrix.txt')\n",
    "    \n",
    ")\n",
    "\n",
    "bio_signal = pd.concat([\n",
    "    pager.pvmat2bio_signal(pvmat,side='down',n_clust=1),\n",
    "    pager.pvmat2bio_signal(pvmat,side='down',n_clust=2),\n",
    "    pager.pvmat2bio_signal(pvmat,side='up',n_clust=1),\n",
    "    pager.pvmat2bio_signal(pvmat,side='up',n_clust=2),\n",
    "    # pager.pvmat2bio_signal(pvmat,side='both'),\n",
    "],axis=0)\n",
    "\n",
    "\n",
    "\n",
    "# bio_signal = bio_signal[bio_signal.index.str.contains('CHEMOTAXIS'.upper())]\n",
    "bio_signal = bio_signal[bio_signal.index.str.contains('leukocyte'.upper())]\n",
    "# bio_signal = bio_signal[bio_signal.index.str.contains('MYELOID')]\n",
    "# bio_signal = bio_signal[bio_signal.index.str.contains('DIFFERENTIATION')]\n",
    "\n",
    "\n",
    "\n",
    "cell_line_pws[study] = bio_signal\n",
    "\n",
    "bio_signal.to_csv(f'exp/{study}_pvmatrix.txt',sep='\\t')\n",
    "\n",
    "exp_file = f'{study}.txt'\n",
    "pvmat_file = f'{study}_pvmatrix.txt'\n",
    "pdf_file = f'{study}.pdf'\n",
    "\n",
    "!cd exp; bash {pagerdir}/iPAGE_draw_matrix.sh $exp_file $pvmat_file $pdf_file &> /dev/null; cd ../"
   ]
  },
  {
   "cell_type": "code",
   "execution_count": 295,
   "metadata": {
    "tags": []
   },
   "outputs": [
    {
     "data": {
      "text/html": [
       "\n",
       "        <iframe\n",
       "            width=\"800\"\n",
       "            height=\"400\"\n",
       "            src=\"exp/hl60_120h_delta_exp.pdf\"\n",
       "            frameborder=\"0\"\n",
       "            allowfullscreen\n",
       "            \n",
       "        ></iframe>\n",
       "        "
      ],
      "text/plain": [
       "<IPython.lib.display.IFrame at 0x7f2170989a20>"
      ]
     },
     "execution_count": 295,
     "metadata": {},
     "output_type": "execute_result"
    }
   ],
   "source": [
    "pdf = f'exp/{study}.pdf'\n",
    "IFrame(pdf, width=800, height=400)"
   ]
  },
  {
   "cell_type": "code",
   "execution_count": null,
   "metadata": {},
   "outputs": [],
   "source": []
  },
  {
   "cell_type": "code",
   "execution_count": null,
   "metadata": {},
   "outputs": [],
   "source": []
  },
  {
   "cell_type": "markdown",
   "metadata": {},
   "source": [
    "### \n",
    "___"
   ]
  },
  {
   "cell_type": "code",
   "execution_count": 243,
   "metadata": {
    "tags": []
   },
   "outputs": [
    {
     "data": {
      "text/plain": [
       "'NOD2\",\"LGALS3\",\"S100A12\",\"CCL5\",\"IL1R1\",\"CXCL3\",\"CCN3\",\"CCL3\",\"CCL14\",\"FPR2\",\"PLA2G7\",\"CCL24\",\"DUSP1\",\"CCL1\",\"SLIT2\",\"CCL20\",\"CCR1\",\"C3AR1\",\"SERPINE1\",\"CXCL11\",\"ADAM8\",\"CCL3L1\",\"CCL15\",\"CXCL1\",\"FLT1\",\"CCL2\",\"EDN1\",\"CXCR1\",\"CCL4\",\"DEFB124\",\"DPP4\",\"PLA2G1B'"
      ]
     },
     "execution_count": 243,
     "metadata": {},
     "output_type": "execute_result"
    }
   ],
   "source": [
    "gs = \"GOBP_MONOCYTE_CHEMOTAXIS\"\n",
    "# pager.detect_gs_cluster(glob(f'exp/{study}/*c5.go.mf*/pvmatrix.txt'), gs)[0]\n",
    "\n",
    "l_120 = {\n",
    "    g \n",
    "    for c in [\"10\"]\n",
    "    for g in list(pager.bin_identifier_genes(\"exp/hl60_120h_delta_exp/msigdb_v7.4_c5.go.bp\", c, gs).values())[0]\n",
    "}\n",
    "\n",
    "'\",\"'.join(set(list(l_72) + list(l_120)))"
   ]
  },
  {
   "cell_type": "code",
   "execution_count": 217,
   "metadata": {
    "tags": []
   },
   "outputs": [
    {
     "data": {
      "text/plain": [
       "'NOD2\",\"LGALS3\",\"S100A12\",\"CCL5\",\"CXCL6\",\"S100A8\",\"IL1R1\",\"CXCL3\",\"CCL3\",\"CCL14\",\"MDK\",\"CXCL5\",\"XG\",\"CCL24\",\"CCL1\",\"RHOH\",\"SLIT2\",\"CCL20\",\"RIPOR2\",\"C5AR1\",\"C3AR1\",\"CXCL8\",\"CXCL11\",\"ADAM8\",\"CCL3L1\",\"CD177\",\"CCL15\",\"CXCL1\",\"JAML\",\"CCL2\",\"EDN1\",\"CXCR1\",\"CCL4\",\"S100A9\",\"DPP4\",\"PLA2G1B'"
      ]
     },
     "execution_count": 217,
     "metadata": {},
     "output_type": "execute_result"
    }
   ],
   "source": [
    "gs = \"GOBP_NEUTROPHIL_MIGRATION\"\n",
    "# pager.detect_gs_cluster(glob(f'exp/{study}/*c5.go.mf*/pvmatrix.txt'), gs)[0]\n",
    "\n",
    "l_72 = {\n",
    "    g \n",
    "    for c in [\"10\"]\n",
    "    for g in list(pager.bin_identifier_genes(\"exp/hl60_72h_delta_exp/msigdb_v7.4_c5.go.bp\", c, gs).values())[0]\n",
    "}\n",
    "\n",
    "l_120 = {\n",
    "    g \n",
    "    for c in [\"10\"]\n",
    "    for g in list(pager.bin_identifier_genes(\"exp/hl60_120h_delta_exp/msigdb_v7.4_c5.go.bp\", c, gs).values())[0]\n",
    "}\n",
    "\n",
    "'\",\"'.join(set(list(l_72) + list(l_120)))"
   ]
  },
  {
   "cell_type": "code",
   "execution_count": 216,
   "metadata": {
    "tags": []
   },
   "outputs": [
    {
     "data": {
      "text/plain": [
       "'COL11A1\",\"CHADL\",\"COL2A1\",\"ADAMTS7\",\"CCN3\",\"NKX3-2\",\"ACVRL1\",\"PTH1R\",\"SOX5\",\"AXIN2\",\"MDK\",\"SHOX2\",\"BMPR1B\",\"GDF6\",\"MATN1\",\"BMPR1A\",\"GLI2\",\"WNT9A\",\"FGFR3\",\"SULF2\",\"SMPD3\",\"IHH\",\"BMP4\",\"CCN4\",\"GDF5\",\"EXT1\",\"TRPS1\",\"COL27A1\",\"WNT5B'"
      ]
     },
     "execution_count": 216,
     "metadata": {},
     "output_type": "execute_result"
    }
   ],
   "source": [
    "gs = \"GOBP_CHONDROCYTE_DIFFERENTIATION\"\n",
    "# pager.detect_gs_cluster(glob(f'exp/{study}/*c5.go.mf*/pvmatrix.txt'), gs)[0]\n",
    "\n",
    "l_72 = {\n",
    "    g \n",
    "    for c in [\"10\"]\n",
    "    for g in list(pager.bin_identifier_genes(\"exp/hl60_72h_delta_exp/msigdb_v7.4_c5.go.bp\", c, gs).values())[0]\n",
    "}\n",
    "\n",
    "l_120 = {\n",
    "    g \n",
    "    for c in [\"10\"]\n",
    "    for g in list(pager.bin_identifier_genes(\"exp/hl60_120h_delta_exp/msigdb_v7.4_c5.go.bp\", c, gs).values())[0]\n",
    "}\n",
    "\n",
    "'\",\"'.join(set(list(l_72) + list(l_120)))"
   ]
  },
  {
   "cell_type": "markdown",
   "metadata": {
    "tags": []
   },
   "source": [
    "### 72h trearment in all cell lines "
   ]
  },
  {
   "cell_type": "markdown",
   "metadata": {
    "tags": []
   },
   "source": [
    "#### hl60_72h_only_delta_exp"
   ]
  },
  {
   "cell_type": "code",
   "execution_count": 254,
   "metadata": {
    "tags": []
   },
   "outputs": [],
   "source": [
    "study = 'hl60_72h_only_delta_exp'\n",
    "\n",
    "pvmat = pager.merge_multiple_pvmat(\n",
    "    pvmat_list = glob(f'exp/{study}/*c5.go.bp*/pvmatrix.txt')\n",
    ")\n",
    "\n",
    "bio_signal = pd.concat([\n",
    "    pager.pvmat2bio_signal(pvmat,side='down',n_clust=1),\n",
    "    pager.pvmat2bio_signal(pvmat,side='down',n_clust=2),\n",
    "    pager.pvmat2bio_signal(pvmat,side='up',n_clust=1),\n",
    "    pager.pvmat2bio_signal(pvmat,side='up',n_clust=2),\n",
    "    pager.pvmat2bio_signal(pvmat,side='both'),\n",
    "],axis=0)\n",
    "\n",
    "\n",
    "bio_signal = bio_signal[bio_signal.index.str.contains('CHEMOTAXIS'.upper())]\n",
    "\n",
    "\n",
    "\n",
    "bio_signal.to_csv(f'exp/{study}_pvmatrix.txt',sep='\\t')\n",
    "cell_line_pws[study] = bio_signal\n",
    "exp_file = f'{study}.txt'\n",
    "pvmat_file = f'{study}_pvmatrix.txt'\n",
    "pdf_file = f'{study}.pdf'\n",
    "\n",
    "!cd exp; bash {pagerdir}/iPAGE_draw_matrix.sh $exp_file $pvmat_file $pdf_file &> /dev/null; cd ../"
   ]
  },
  {
   "cell_type": "code",
   "execution_count": 255,
   "metadata": {
    "tags": []
   },
   "outputs": [
    {
     "data": {
      "text/html": [
       "\n",
       "        <iframe\n",
       "            width=\"800\"\n",
       "            height=\"300\"\n",
       "            src=\"exp/hl60_72h_only_delta_exp.pdf\"\n",
       "            frameborder=\"0\"\n",
       "            allowfullscreen\n",
       "            \n",
       "        ></iframe>\n",
       "        "
      ],
      "text/plain": [
       "<IPython.lib.display.IFrame at 0x7f2170ab8e50>"
      ]
     },
     "execution_count": 255,
     "metadata": {},
     "output_type": "execute_result"
    }
   ],
   "source": [
    "pdf = 'exp/hl60_72h_only_delta_exp.pdf'\n",
    "IFrame(pdf, width=800, height=300)"
   ]
  },
  {
   "cell_type": "markdown",
   "metadata": {
    "tags": []
   },
   "source": [
    "#### molm14_delta_exp"
   ]
  },
  {
   "cell_type": "code",
   "execution_count": 256,
   "metadata": {
    "tags": []
   },
   "outputs": [],
   "source": [
    "study = 'molm14_delta_exp'\n",
    "\n",
    "pvmat = pager.merge_multiple_pvmat(\n",
    "    pvmat_list = glob(f'exp/{study}/*c5.go.bp*/pvmatrix.txt')\n",
    ")\n",
    "\n",
    "bio_signal = pd.concat([\n",
    "    pager.pvmat2bio_signal(pvmat,side='down',n_clust=1),\n",
    "    pager.pvmat2bio_signal(pvmat,side='down',n_clust=2),\n",
    "    pager.pvmat2bio_signal(pvmat,side='up',n_clust=2),\n",
    "    pager.pvmat2bio_signal(pvmat,side='up',n_clust=1),\n",
    "    pager.pvmat2bio_signal(pvmat,side='both'),\n",
    "],axis=0)\n",
    "\n",
    "\n",
    "\n",
    "bio_signal = bio_signal[bio_signal.index.str.contains('CHEMOTAXIS'.upper())]\n",
    "\n",
    "\n",
    "bio_signal.to_csv(f'exp/{study}_pvmatrix.txt',sep='\\t')\n",
    "cell_line_pws[study] = bio_signal\n",
    "exp_file = f'{study}.txt'\n",
    "pvmat_file = f'{study}_pvmatrix.txt'\n",
    "pdf_file = f'{study}.pdf'\n",
    "\n",
    "!cd exp; bash {pagerdir}/iPAGE_draw_matrix.sh $exp_file $pvmat_file $pdf_file &> /dev/null; cd ../"
   ]
  },
  {
   "cell_type": "code",
   "execution_count": 257,
   "metadata": {
    "tags": []
   },
   "outputs": [
    {
     "data": {
      "text/html": [
       "\n",
       "        <iframe\n",
       "            width=\"800\"\n",
       "            height=\"300\"\n",
       "            src=\"exp/molm14_delta_exp.pdf\"\n",
       "            frameborder=\"0\"\n",
       "            allowfullscreen\n",
       "            \n",
       "        ></iframe>\n",
       "        "
      ],
      "text/plain": [
       "<IPython.lib.display.IFrame at 0x7f2170989150>"
      ]
     },
     "execution_count": 257,
     "metadata": {},
     "output_type": "execute_result"
    }
   ],
   "source": [
    "pdf = 'exp/molm14_delta_exp.pdf'\n",
    "IFrame(pdf, width=800, height=300)"
   ]
  },
  {
   "cell_type": "markdown",
   "metadata": {
    "tags": []
   },
   "source": [
    "#### ociaml2_delta_exp"
   ]
  },
  {
   "cell_type": "code",
   "execution_count": 258,
   "metadata": {
    "tags": []
   },
   "outputs": [],
   "source": [
    "study = 'ociaml2_delta_exp'\n",
    "\n",
    "pvmat = pager.merge_multiple_pvmat(\n",
    "    pvmat_list = glob(f'exp/{study}/*c5.go.bp*/pvmatrix.txt')\n",
    ")\n",
    "\n",
    "bio_signal = pd.concat([\n",
    "    pager.pvmat2bio_signal(pvmat,side='down',n_clust=2),\n",
    "    pager.pvmat2bio_signal(pvmat,side='down',n_clust=1),\n",
    "    pager.pvmat2bio_signal(pvmat,side='up',n_clust=2),\n",
    "    pager.pvmat2bio_signal(pvmat,side='up',n_clust=1),\n",
    "    pager.pvmat2bio_signal(pvmat,side='both'),\n",
    "],axis=0)\n",
    "\n",
    "\n",
    "bio_signal = bio_signal[bio_signal.index.str.contains('CHEMOTAXIS'.upper())]\n",
    "\n",
    "\n",
    "bio_signal.to_csv(f'exp/{study}_pvmatrix.txt',sep='\\t')\n",
    "cell_line_pws[study] = bio_signal\n",
    "exp_file = f'{study}.txt'\n",
    "pvmat_file = f'{study}_pvmatrix.txt'\n",
    "pdf_file = f'{study}.pdf'\n",
    "\n",
    "!cd exp; bash {pagerdir}/iPAGE_draw_matrix.sh $exp_file $pvmat_file $pdf_file &> /dev/null; cd ../"
   ]
  },
  {
   "cell_type": "code",
   "execution_count": 259,
   "metadata": {
    "tags": []
   },
   "outputs": [
    {
     "data": {
      "text/html": [
       "\n",
       "        <iframe\n",
       "            width=\"800\"\n",
       "            height=\"300\"\n",
       "            src=\"exp/ociaml2_delta_exp.pdf\"\n",
       "            frameborder=\"0\"\n",
       "            allowfullscreen\n",
       "            \n",
       "        ></iframe>\n",
       "        "
      ],
      "text/plain": [
       "<IPython.lib.display.IFrame at 0x7f2170ab9ea0>"
      ]
     },
     "execution_count": 259,
     "metadata": {},
     "output_type": "execute_result"
    }
   ],
   "source": [
    "pdf = 'exp/ociaml2_delta_exp.pdf'\n",
    "IFrame(pdf, width=800, height=300)"
   ]
  },
  {
   "cell_type": "markdown",
   "metadata": {
    "tags": []
   },
   "source": [
    "#### ociaml3_delta_exp"
   ]
  },
  {
   "cell_type": "code",
   "execution_count": 262,
   "metadata": {
    "tags": []
   },
   "outputs": [
    {
     "name": "stderr",
     "output_type": "stream",
     "text": [
      "/data_gilbert/home/aarab/tools/pager/pager.py:235: FutureWarning: DataFrame.set_axis 'inplace' keyword is deprecated and will be removed in a future version. Use `obj = obj.set_axis(..., copy=False)` instead\n",
      "  read_pvmatrix(pvmat).set_axis(cols, axis=1, inplace=False)\n",
      "/data_gilbert/home/aarab/tools/pager/pager.py:235: FutureWarning: DataFrame.set_axis 'inplace' keyword is deprecated and will be removed in a future version. Use `obj = obj.set_axis(..., copy=False)` instead\n",
      "  read_pvmatrix(pvmat).set_axis(cols, axis=1, inplace=False)\n",
      "/data_gilbert/home/aarab/tools/pager/pager.py:235: FutureWarning: DataFrame.set_axis 'inplace' keyword is deprecated and will be removed in a future version. Use `obj = obj.set_axis(..., copy=False)` instead\n",
      "  read_pvmatrix(pvmat).set_axis(cols, axis=1, inplace=False)\n"
     ]
    }
   ],
   "source": [
    "study = 'ociaml3_delta_exp'\n",
    "\n",
    "pvmat = pager.merge_multiple_pvmat(\n",
    "    pvmat_list = glob(f'exp/{study}/*c5.go*/pvmatrix.txt')\n",
    ")\n",
    "\n",
    "bio_signal = pd.concat([\n",
    "    pager.pvmat2bio_signal(pvmat,side='down',n_clust=2),\n",
    "    pager.pvmat2bio_signal(pvmat,side='down',n_clust=1),\n",
    "    pager.pvmat2bio_signal(pvmat,side='up',n_clust=2),\n",
    "    pager.pvmat2bio_signal(pvmat,side='up',n_clust=1),\n",
    "    pager.pvmat2bio_signal(pvmat,side='both'),\n",
    "],axis=0)\n",
    "\n",
    "\n",
    "bio_signal = bio_signal[bio_signal.index.str.contains('CHEMOTAXIS'.upper())]\n",
    "\n",
    "\n",
    "bio_signal.to_csv(f'exp/{study}_pvmatrix.txt',sep='\\t')\n",
    "cell_line_pws[study] = bio_signal\n",
    "exp_file = f'{study}.txt'\n",
    "pvmat_file = f'{study}_pvmatrix.txt'\n",
    "pdf_file = f'{study}.pdf'\n",
    "\n",
    "!cd exp; bash {pagerdir}/iPAGE_draw_matrix.sh $exp_file $pvmat_file $pdf_file &> /dev/null; cd ../"
   ]
  },
  {
   "cell_type": "code",
   "execution_count": 263,
   "metadata": {
    "tags": []
   },
   "outputs": [
    {
     "data": {
      "text/html": [
       "\n",
       "        <iframe\n",
       "            width=\"800\"\n",
       "            height=\"300\"\n",
       "            src=\"exp/ociaml3_delta_exp.pdf\"\n",
       "            frameborder=\"0\"\n",
       "            allowfullscreen\n",
       "            \n",
       "        ></iframe>\n",
       "        "
      ],
      "text/plain": [
       "<IPython.lib.display.IFrame at 0x7f2170ab84c0>"
      ]
     },
     "execution_count": 263,
     "metadata": {},
     "output_type": "execute_result"
    }
   ],
   "source": [
    "pdf = 'exp/ociaml3_delta_exp.pdf'\n",
    "IFrame(pdf, width=800, height=300)"
   ]
  },
  {
   "cell_type": "markdown",
   "metadata": {
    "tags": []
   },
   "source": [
    "#### thp1_delta_exp"
   ]
  },
  {
   "cell_type": "code",
   "execution_count": 264,
   "metadata": {
    "tags": []
   },
   "outputs": [
    {
     "name": "stderr",
     "output_type": "stream",
     "text": [
      "/data_gilbert/home/aarab/tools/pager/pager.py:235: FutureWarning: DataFrame.set_axis 'inplace' keyword is deprecated and will be removed in a future version. Use `obj = obj.set_axis(..., copy=False)` instead\n",
      "  read_pvmatrix(pvmat).set_axis(cols, axis=1, inplace=False)\n",
      "/data_gilbert/home/aarab/tools/pager/pager.py:235: FutureWarning: DataFrame.set_axis 'inplace' keyword is deprecated and will be removed in a future version. Use `obj = obj.set_axis(..., copy=False)` instead\n",
      "  read_pvmatrix(pvmat).set_axis(cols, axis=1, inplace=False)\n",
      "/data_gilbert/home/aarab/tools/pager/pager.py:235: FutureWarning: DataFrame.set_axis 'inplace' keyword is deprecated and will be removed in a future version. Use `obj = obj.set_axis(..., copy=False)` instead\n",
      "  read_pvmatrix(pvmat).set_axis(cols, axis=1, inplace=False)\n"
     ]
    }
   ],
   "source": [
    "study = 'thp1_delta_exp'\n",
    "\n",
    "pvmat = pager.merge_multiple_pvmat(\n",
    "    pvmat_list = glob(f'exp/{study}/*c5.go*/pvmatrix.txt')\n",
    ")\n",
    "\n",
    "bio_signal = pd.concat([\n",
    "    pager.pvmat2bio_signal(pvmat,side='down',n_clust=2),\n",
    "    pager.pvmat2bio_signal(pvmat,side='down',n_clust=1),\n",
    "    pager.pvmat2bio_signal(pvmat,side='up',n_clust=2),\n",
    "    pager.pvmat2bio_signal(pvmat,side='up',n_clust=1),\n",
    "    pager.pvmat2bio_signal(pvmat,side='both'),\n",
    "],axis=0)\n",
    "\n",
    "\n",
    "bio_signal = bio_signal[bio_signal.index.str.contains('CHEMOTAXIS'.upper())]\n",
    "\n",
    "\n",
    "bio_signal.to_csv(f'exp/{study}_pvmatrix.txt',sep='\\t')\n",
    "cell_line_pws[study] = bio_signal\n",
    "exp_file = f'{study}.txt'\n",
    "pvmat_file = f'{study}_pvmatrix.txt'\n",
    "pdf_file = f'{study}.pdf'\n",
    "\n",
    "!cd exp; bash {pagerdir}/iPAGE_draw_matrix.sh $exp_file $pvmat_file $pdf_file &> /dev/null; cd ../"
   ]
  },
  {
   "cell_type": "code",
   "execution_count": 265,
   "metadata": {
    "tags": []
   },
   "outputs": [
    {
     "data": {
      "text/html": [
       "\n",
       "        <iframe\n",
       "            width=\"800\"\n",
       "            height=\"300\"\n",
       "            src=\"exp/thp1_delta_exp.pdf\"\n",
       "            frameborder=\"0\"\n",
       "            allowfullscreen\n",
       "            \n",
       "        ></iframe>\n",
       "        "
      ],
      "text/plain": [
       "<IPython.lib.display.IFrame at 0x7f2170989690>"
      ]
     },
     "execution_count": 265,
     "metadata": {},
     "output_type": "execute_result"
    }
   ],
   "source": [
    "pdf = 'exp/thp1_delta_exp.pdf'\n",
    "IFrame(pdf, width=800, height=300)"
   ]
  },
  {
   "cell_type": "markdown",
   "metadata": {
    "tags": []
   },
   "source": [
    "#### kg1_delta_exp"
   ]
  },
  {
   "cell_type": "code",
   "execution_count": 266,
   "metadata": {
    "tags": []
   },
   "outputs": [],
   "source": [
    "study = 'kg1_delta_exp'\n",
    "\n",
    "pvmat = pager.merge_multiple_pvmat(\n",
    "    pvmat_list = glob(f'exp/{study}/*c5.go.bp*/pvmatrix.txt')\n",
    ")\n",
    "\n",
    "bio_signal = pd.concat([\n",
    "    pager.pvmat2bio_signal(pvmat,side='down',n_clust=2),\n",
    "    pager.pvmat2bio_signal(pvmat,side='down',n_clust=1),\n",
    "    pager.pvmat2bio_signal(pvmat,side='up',n_clust=2),\n",
    "    pager.pvmat2bio_signal(pvmat,side='up',n_clust=1),\n",
    "    pager.pvmat2bio_signal(pvmat,side='both'),\n",
    "],axis=0)\n",
    "\n",
    "\n",
    "bio_signal = bio_signal[bio_signal.index.str.contains('CHEMOTAXIS'.upper())]\n",
    "\n",
    "\n",
    "bio_signal.to_csv(f'exp/{study}_pvmatrix.txt',sep='\\t')\n",
    "cell_line_pws[study] = bio_signal\n",
    "exp_file = f'{study}.txt'\n",
    "pvmat_file = f'{study}_pvmatrix.txt'\n",
    "pdf_file = f'{study}.pdf'\n",
    "\n",
    "!cd exp; bash {pagerdir}/iPAGE_draw_matrix.sh $exp_file $pvmat_file $pdf_file &> /dev/null; cd ../"
   ]
  },
  {
   "cell_type": "code",
   "execution_count": 267,
   "metadata": {
    "tags": []
   },
   "outputs": [
    {
     "data": {
      "text/html": [
       "\n",
       "        <iframe\n",
       "            width=\"800\"\n",
       "            height=\"300\"\n",
       "            src=\"exp/kg1_delta_exp.pdf\"\n",
       "            frameborder=\"0\"\n",
       "            allowfullscreen\n",
       "            \n",
       "        ></iframe>\n",
       "        "
      ],
      "text/plain": [
       "<IPython.lib.display.IFrame at 0x7f219bfaafb0>"
      ]
     },
     "execution_count": 267,
     "metadata": {},
     "output_type": "execute_result"
    }
   ],
   "source": [
    "pdf = 'exp/kg1_delta_exp.pdf'\n",
    "IFrame(pdf, width=800, height=300)"
   ]
  },
  {
   "cell_type": "markdown",
   "metadata": {
    "tags": []
   },
   "source": [
    "# Intersection "
   ]
  },
  {
   "cell_type": "code",
   "execution_count": 268,
   "metadata": {
    "tags": []
   },
   "outputs": [],
   "source": [
    "for name in cell_line_pws:\n",
    "    cell_line_pws[name].columns = list(range(11))"
   ]
  },
  {
   "cell_type": "markdown",
   "metadata": {},
   "source": [
    "source: https://www.nature.com/articles/s41586-021-03313-9/figures/9\n",
    "\n",
    "I want something like module g\n",
    "\n",
    "<img src=\"https://media.springernature.com/full/springer-static/esm/art%3A10.1038%2Fs41586-021-03313-9/MediaObjects/41586_2021_3313_Fig9_ESM.jpg?as=webp\" width=600 > "
   ]
  },
  {
   "cell_type": "markdown",
   "metadata": {},
   "source": [
    "### HL-60"
   ]
  },
  {
   "cell_type": "code",
   "execution_count": 269,
   "metadata": {
    "tags": []
   },
   "outputs": [],
   "source": [
    "data = dict([\n",
    "    ('6h_dn',  set(cell_line_pws['hl60_6h_delta_exp'  ].loc[cell_line_pws['hl60_6h_delta_exp'].iloc  [:,0]   > 2,:].index.to_list())),\n",
    "    ('6h_up',  set(cell_line_pws['hl60_6h_delta_exp'  ].loc[cell_line_pws['hl60_6h_delta_exp'].iloc  [:,10]  > 2,:].index.to_list())),\n",
    "    ('72h_dn', set(cell_line_pws['hl60_72h_delta_exp' ].loc[cell_line_pws['hl60_72h_delta_exp'].iloc [:,0]   > 2,:].index.to_list())),\n",
    "    ('72h_up', set(cell_line_pws['hl60_72h_delta_exp' ].loc[cell_line_pws['hl60_72h_delta_exp'].iloc [:,10]  > 2,:].index.to_list())),\n",
    "    ('120h_dn',set(cell_line_pws['hl60_120h_delta_exp'].loc[cell_line_pws['hl60_120h_delta_exp'].iloc[:,0]   > 2,:].index.to_list())),\n",
    "    ('120h_up',set(cell_line_pws['hl60_120h_delta_exp'].loc[cell_line_pws['hl60_120h_delta_exp'].iloc[:,10]  > 2,:].index.to_list())),\n",
    "])"
   ]
  },
  {
   "cell_type": "code",
   "execution_count": 270,
   "metadata": {
    "tags": []
   },
   "outputs": [
    {
     "data": {
      "image/png": "[encoded data removed]",
      "text/plain": [
       "<Figure size 311.111x533.333 with 4 Axes>"
      ]
     },
     "metadata": {},
     "output_type": "display_data"
    }
   ],
   "source": [
    "fig1 = plt.figure()\n",
    "upset1 = us.UpSet(\n",
    "    us.from_contents(data),\n",
    "    # min_subset_size=5,\n",
    "    min_degree=2,\n",
    "    # max_degree=3,\n",
    "    orientation='horizontal',show_counts=True,\n",
    ")\n",
    "# upset1.style_subsets(present='hl60_72h_only',edgecolor=\"red\",linewidth=2)\n",
    "upset1.plot(fig=fig1)\n",
    "fig1.suptitle('iPAGE results',fontsize=20)\n",
    "plt.show()\n",
    "# pdf.savefig()"
   ]
  },
  {
   "cell_type": "markdown",
   "metadata": {},
   "source": [
    "### AML CELL LINE PANEL"
   ]
  },
  {
   "cell_type": "code",
   "execution_count": 271,
   "metadata": {
    "tags": []
   },
   "outputs": [],
   "source": [
    "import seaborn as sns"
   ]
  },
  {
   "cell_type": "code",
   "execution_count": 272,
   "metadata": {
    "tags": []
   },
   "outputs": [],
   "source": [
    "# def draw_heatmap(df,vmin,vmax,x_label='',save=False):\n",
    "#     plt.figure(figsize=(15, 20))\n",
    "#     cg = sns.clustermap(df, method='average', metric='euclidean', col_cluster=False, row_cluster=False, figsize=None,\n",
    "#                         cbar=True, cmap=plt.cm.RdBu_r, cbar_kws={'label': 'Over/Under-representation'}, \n",
    "#                         vmax=vmax,vmin=vmin\n",
    "#                        )\n",
    "#     plt.setp(cg.ax_heatmap.xaxis.get_majorticklabels(), rotation=30, ha='center')\n",
    "#     cg.ax_heatmap.set_xlabel(x_label, fontdict={'fontsize': 10})\n",
    "#     cg.ax_heatmap.set_title('Enrichments',\n",
    "#                             fontdict={'fontsize': 13})\n",
    "#     plt.tight_layout()\n",
    "#     # fig, ax = plt.subplots(1, 1, figsize=(15, 20))\n",
    "#     # sns.barplot(df.column, exp_['log2FoldChange'], color='purple')\n",
    "#     # fig.patch.set_visible(False)\n",
    "#     # ax.axis('off')\n",
    "#     if save:\n",
    "#         pass\n",
    "#         # plt.savefig('enrichment_%s/regulon_enrichment_%s_%s.png' % (cat, comp, cat), dpi=500)"
   ]
  },
  {
   "cell_type": "code",
   "execution_count": 273,
   "metadata": {
    "tags": []
   },
   "outputs": [],
   "source": [
    "df = pd.concat(\n",
    "    [pager.pvmat2bio_signal(pd.concat(cell_line_pws,axis=0),s,n_clust=n) for n in [1,2,3] for s in ['up','both','down']] \n",
    ").drop_duplicates()\n",
    "\n",
    "df = df.reset_index()#.set_index(['level_1','level_0']).sort_index(0)\n",
    "# df.index.names = [None,None]\n",
    "df = df.rename(columns={'level_0':'line','level_1':'GO'})"
   ]
  },
  {
   "cell_type": "code",
   "execution_count": null,
   "metadata": {},
   "outputs": [],
   "source": []
  },
  {
   "cell_type": "code",
   "execution_count": 286,
   "metadata": {
    "tags": []
   },
   "outputs": [
    {
     "data": {
      "text/plain": [
       "GO                                       line                   \n",
       "GOBP_EOSINOPHIL_CHEMOTAXIS               hl60_120h_delta_exp        2.401\n",
       "                                         hl60_72h_delta_exp         3.190\n",
       "                                         hl60_72h_only_delta_exp    3.178\n",
       "GOBP_GRANULOCYTE_CHEMOTAXIS              hl60_120h_delta_exp        6.477\n",
       "                                         hl60_72h_delta_exp         3.251\n",
       "                                         hl60_72h_only_delta_exp    3.623\n",
       "                                         kg1_delta_exp              4.487\n",
       "                                         molm14_delta_exp           3.223\n",
       "                                         ociaml2_delta_exp          4.045\n",
       "GOBP_MONOCYTE_CHEMOTAXIS                 hl60_120h_delta_exp        4.795\n",
       "                                         hl60_72h_only_delta_exp    2.666\n",
       "GOBP_NEGATIVE_CHEMOTAXIS                 hl60_120h_delta_exp        3.795\n",
       "                                         hl60_6h_delta_exp          3.805\n",
       "                                         thp1_delta_exp             2.651\n",
       "GOBP_NEGATIVE_REGULATION_OF_CHEMOTAXIS   hl60_120h_delta_exp        3.307\n",
       "                                         molm14_delta_exp           4.387\n",
       "GOBP_NEUTROPHIL_CHEMOTAXIS               hl60_120h_delta_exp        6.110\n",
       "                                         hl60_72h_delta_exp         2.776\n",
       "                                         hl60_72h_only_delta_exp    3.157\n",
       "                                         kg1_delta_exp              4.041\n",
       "                                         molm14_delta_exp           2.373\n",
       "                                         ociaml2_delta_exp          2.752\n",
       "GOBP_POSITIVE_REGULATION_OF_CHEMOTAXIS   hl60_120h_delta_exp        2.459\n",
       "GOBP_REGULATION_OF_LEUKOCYTE_CHEMOTAXIS  hl60_120h_delta_exp        4.248\n",
       "Name: 10, dtype: float64"
      ]
     },
     "execution_count": 286,
     "metadata": {},
     "output_type": "execute_result"
    }
   ],
   "source": [
    "df.sort_values(['GO','line']).set_index(['GO','line'])[10]"
   ]
  },
  {
   "cell_type": "code",
   "execution_count": 291,
   "metadata": {
    "tags": []
   },
   "outputs": [
    {
     "ename": "IndexError",
     "evalue": "list index out of range",
     "output_type": "error",
     "traceback": [
      "\u001b[0;31m---------------------------------------------------------------------------\u001b[0m",
      "\u001b[0;31mIndexError\u001b[0m                                Traceback (most recent call last)",
      "Cell \u001b[0;32mIn[291], line 4\u001b[0m\n\u001b[1;32m      1\u001b[0m \u001b[38;5;28;01mfor\u001b[39;00m gs \u001b[38;5;129;01min\u001b[39;00m \u001b[38;5;28mset\u001b[39m(df\u001b[38;5;241m.\u001b[39mGO):\n\u001b[1;32m      2\u001b[0m     \u001b[38;5;66;03m# pager.detect_gs_cluster(glob(f'exp/{study}/*c5.go.mf*/pvmatrix.txt'), gs)[0]\u001b[39;00m\n\u001b[0;32m----> 4\u001b[0m     l_72 \u001b[38;5;241m=\u001b[39m {\n\u001b[1;32m      5\u001b[0m         g \n\u001b[1;32m      6\u001b[0m         \u001b[38;5;28;01mfor\u001b[39;00m c \u001b[38;5;129;01min\u001b[39;00m [\u001b[38;5;124m\"\u001b[39m\u001b[38;5;124m10\u001b[39m\u001b[38;5;124m\"\u001b[39m]\n\u001b[1;32m      7\u001b[0m         \u001b[38;5;28;01mfor\u001b[39;00m g \u001b[38;5;129;01min\u001b[39;00m \u001b[38;5;28mlist\u001b[39m(pager\u001b[38;5;241m.\u001b[39mbin_identifier_genes(\u001b[38;5;124m\"\u001b[39m\u001b[38;5;124mexp/hl60_72h_delta_exp/msigdb_v7.4_c5.go.bp\u001b[39m\u001b[38;5;124m\"\u001b[39m, c, gs)\u001b[38;5;241m.\u001b[39mvalues())[\u001b[38;5;241m0\u001b[39m]\n\u001b[1;32m      8\u001b[0m     }\n\u001b[1;32m     10\u001b[0m     l_120 \u001b[38;5;241m=\u001b[39m {\n\u001b[1;32m     11\u001b[0m         g \n\u001b[1;32m     12\u001b[0m         \u001b[38;5;28;01mfor\u001b[39;00m c \u001b[38;5;129;01min\u001b[39;00m [\u001b[38;5;124m\"\u001b[39m\u001b[38;5;124m10\u001b[39m\u001b[38;5;124m\"\u001b[39m]\n\u001b[1;32m     13\u001b[0m         \u001b[38;5;28;01mfor\u001b[39;00m g \u001b[38;5;129;01min\u001b[39;00m \u001b[38;5;28mlist\u001b[39m(pager\u001b[38;5;241m.\u001b[39mbin_identifier_genes(\u001b[38;5;124m\"\u001b[39m\u001b[38;5;124mexp/hl60_120h_delta_exp/msigdb_v7.4_c5.go.bp\u001b[39m\u001b[38;5;124m\"\u001b[39m, c, gs)\u001b[38;5;241m.\u001b[39mvalues())[\u001b[38;5;241m0\u001b[39m]\n\u001b[1;32m     14\u001b[0m     }\n\u001b[1;32m     16\u001b[0m     \u001b[38;5;28mprint\u001b[39m(\u001b[38;5;124m'\u001b[39m\u001b[38;5;124m\"\u001b[39m\u001b[38;5;124m,\u001b[39m\u001b[38;5;124m\"\u001b[39m\u001b[38;5;124m'\u001b[39m\u001b[38;5;241m.\u001b[39mjoin(\u001b[38;5;28mset\u001b[39m(\u001b[38;5;28mlist\u001b[39m(l_72) \u001b[38;5;241m+\u001b[39m \u001b[38;5;28mlist\u001b[39m(l_120))))\n",
      "Cell \u001b[0;32mIn[291], line 7\u001b[0m, in \u001b[0;36m<setcomp>\u001b[0;34m(.0)\u001b[0m\n\u001b[1;32m      1\u001b[0m \u001b[38;5;28;01mfor\u001b[39;00m gs \u001b[38;5;129;01min\u001b[39;00m \u001b[38;5;28mset\u001b[39m(df\u001b[38;5;241m.\u001b[39mGO):\n\u001b[1;32m      2\u001b[0m     \u001b[38;5;66;03m# pager.detect_gs_cluster(glob(f'exp/{study}/*c5.go.mf*/pvmatrix.txt'), gs)[0]\u001b[39;00m\n\u001b[1;32m      4\u001b[0m     l_72 \u001b[38;5;241m=\u001b[39m {\n\u001b[1;32m      5\u001b[0m         g \n\u001b[1;32m      6\u001b[0m         \u001b[38;5;28;01mfor\u001b[39;00m c \u001b[38;5;129;01min\u001b[39;00m [\u001b[38;5;124m\"\u001b[39m\u001b[38;5;124m10\u001b[39m\u001b[38;5;124m\"\u001b[39m]\n\u001b[0;32m----> 7\u001b[0m         \u001b[38;5;28;01mfor\u001b[39;00m g \u001b[38;5;129;01min\u001b[39;00m \u001b[38;5;28;43mlist\u001b[39;49m\u001b[43m(\u001b[49m\u001b[43mpager\u001b[49m\u001b[38;5;241;43m.\u001b[39;49m\u001b[43mbin_identifier_genes\u001b[49m\u001b[43m(\u001b[49m\u001b[38;5;124;43m\"\u001b[39;49m\u001b[38;5;124;43mexp/hl60_72h_delta_exp/msigdb_v7.4_c5.go.bp\u001b[39;49m\u001b[38;5;124;43m\"\u001b[39;49m\u001b[43m,\u001b[49m\u001b[43m \u001b[49m\u001b[43mc\u001b[49m\u001b[43m,\u001b[49m\u001b[43m \u001b[49m\u001b[43mgs\u001b[49m\u001b[43m)\u001b[49m\u001b[38;5;241;43m.\u001b[39;49m\u001b[43mvalues\u001b[49m\u001b[43m(\u001b[49m\u001b[43m)\u001b[49m\u001b[43m)\u001b[49m\u001b[43m[\u001b[49m\u001b[38;5;241;43m0\u001b[39;49m\u001b[43m]\u001b[49m\n\u001b[1;32m      8\u001b[0m     }\n\u001b[1;32m     10\u001b[0m     l_120 \u001b[38;5;241m=\u001b[39m {\n\u001b[1;32m     11\u001b[0m         g \n\u001b[1;32m     12\u001b[0m         \u001b[38;5;28;01mfor\u001b[39;00m c \u001b[38;5;129;01min\u001b[39;00m [\u001b[38;5;124m\"\u001b[39m\u001b[38;5;124m10\u001b[39m\u001b[38;5;124m\"\u001b[39m]\n\u001b[1;32m     13\u001b[0m         \u001b[38;5;28;01mfor\u001b[39;00m g \u001b[38;5;129;01min\u001b[39;00m \u001b[38;5;28mlist\u001b[39m(pager\u001b[38;5;241m.\u001b[39mbin_identifier_genes(\u001b[38;5;124m\"\u001b[39m\u001b[38;5;124mexp/hl60_120h_delta_exp/msigdb_v7.4_c5.go.bp\u001b[39m\u001b[38;5;124m\"\u001b[39m, c, gs)\u001b[38;5;241m.\u001b[39mvalues())[\u001b[38;5;241m0\u001b[39m]\n\u001b[1;32m     14\u001b[0m     }\n\u001b[1;32m     16\u001b[0m     \u001b[38;5;28mprint\u001b[39m(\u001b[38;5;124m'\u001b[39m\u001b[38;5;124m\"\u001b[39m\u001b[38;5;124m,\u001b[39m\u001b[38;5;124m\"\u001b[39m\u001b[38;5;124m'\u001b[39m\u001b[38;5;241m.\u001b[39mjoin(\u001b[38;5;28mset\u001b[39m(\u001b[38;5;28mlist\u001b[39m(l_72) \u001b[38;5;241m+\u001b[39m \u001b[38;5;28mlist\u001b[39m(l_120))))\n",
      "\u001b[0;31mIndexError\u001b[0m: list index out of range"
     ]
    }
   ],
   "source": [
    "for gs in set(df.GO):\n",
    "    # pager.detect_gs_cluster(glob(f'exp/{study}/*c5.go.mf*/pvmatrix.txt'), gs)[0]\n",
    "\n",
    "    l_72 = {\n",
    "        g \n",
    "        for c in [\"10\"]\n",
    "        for g in list(pager.bin_identifier_genes(f\"exp/{study}/msigdb_v7.4_c5.go.bp\", c, gs).values())[0]\n",
    "    }\n",
    "\n",
    "    l_120 = {\n",
    "        g \n",
    "        for c in [\"10\"]\n",
    "        for g in list(pager.bin_identifier_genes(f\"exp/{study}/msigdb_v7.4_c5.go.bp\", c, gs).values())[0]\n",
    "    }\n",
    "\n",
    "    print('\",\"'.join(set(list(l_72) + list(l_120))))"
   ]
  },
  {
   "cell_type": "code",
   "execution_count": 274,
   "metadata": {
    "tags": []
   },
   "outputs": [
    {
     "ename": "ModuleNotFoundError",
     "evalue": "No module named 'rpy2'",
     "output_type": "error",
     "traceback": [
      "\u001b[0;31m---------------------------------------------------------------------------\u001b[0m",
      "\u001b[0;31mModuleNotFoundError\u001b[0m                       Traceback (most recent call last)",
      "Cell \u001b[0;32mIn[274], line 1\u001b[0m\n\u001b[0;32m----> 1\u001b[0m \u001b[43mget_ipython\u001b[49m\u001b[43m(\u001b[49m\u001b[43m)\u001b[49m\u001b[38;5;241;43m.\u001b[39;49m\u001b[43mrun_line_magic\u001b[49m\u001b[43m(\u001b[49m\u001b[38;5;124;43m'\u001b[39;49m\u001b[38;5;124;43mreload_ext\u001b[39;49m\u001b[38;5;124;43m'\u001b[39;49m\u001b[43m,\u001b[49m\u001b[43m \u001b[49m\u001b[38;5;124;43m'\u001b[39;49m\u001b[38;5;124;43mrpy2.ipython\u001b[39;49m\u001b[38;5;124;43m'\u001b[39;49m\u001b[43m)\u001b[49m\n",
      "File \u001b[0;32m~/anaconda3/envs/down/lib/python3.10/site-packages/IPython/core/interactiveshell.py:2364\u001b[0m, in \u001b[0;36mInteractiveShell.run_line_magic\u001b[0;34m(self, magic_name, line, _stack_depth)\u001b[0m\n\u001b[1;32m   2362\u001b[0m     kwargs[\u001b[38;5;124m'\u001b[39m\u001b[38;5;124mlocal_ns\u001b[39m\u001b[38;5;124m'\u001b[39m] \u001b[38;5;241m=\u001b[39m \u001b[38;5;28mself\u001b[39m\u001b[38;5;241m.\u001b[39mget_local_scope(stack_depth)\n\u001b[1;32m   2363\u001b[0m \u001b[38;5;28;01mwith\u001b[39;00m \u001b[38;5;28mself\u001b[39m\u001b[38;5;241m.\u001b[39mbuiltin_trap:\n\u001b[0;32m-> 2364\u001b[0m     result \u001b[38;5;241m=\u001b[39m \u001b[43mfn\u001b[49m\u001b[43m(\u001b[49m\u001b[38;5;241;43m*\u001b[39;49m\u001b[43margs\u001b[49m\u001b[43m,\u001b[49m\u001b[43m \u001b[49m\u001b[38;5;241;43m*\u001b[39;49m\u001b[38;5;241;43m*\u001b[39;49m\u001b[43mkwargs\u001b[49m\u001b[43m)\u001b[49m\n\u001b[1;32m   2365\u001b[0m \u001b[38;5;28;01mreturn\u001b[39;00m result\n",
      "File \u001b[0;32m~/anaconda3/envs/down/lib/python3.10/site-packages/IPython/core/magics/extension.py:63\u001b[0m, in \u001b[0;36mExtensionMagics.reload_ext\u001b[0;34m(self, module_str)\u001b[0m\n\u001b[1;32m     61\u001b[0m \u001b[38;5;28;01mif\u001b[39;00m \u001b[38;5;129;01mnot\u001b[39;00m module_str:\n\u001b[1;32m     62\u001b[0m     \u001b[38;5;28;01mraise\u001b[39;00m UsageError(\u001b[38;5;124m'\u001b[39m\u001b[38;5;124mMissing module name.\u001b[39m\u001b[38;5;124m'\u001b[39m)\n\u001b[0;32m---> 63\u001b[0m \u001b[38;5;28;43mself\u001b[39;49m\u001b[38;5;241;43m.\u001b[39;49m\u001b[43mshell\u001b[49m\u001b[38;5;241;43m.\u001b[39;49m\u001b[43mextension_manager\u001b[49m\u001b[38;5;241;43m.\u001b[39;49m\u001b[43mreload_extension\u001b[49m\u001b[43m(\u001b[49m\u001b[43mmodule_str\u001b[49m\u001b[43m)\u001b[49m\n",
      "File \u001b[0;32m~/anaconda3/envs/down/lib/python3.10/site-packages/IPython/core/extensions.py:141\u001b[0m, in \u001b[0;36mExtensionManager.reload_extension\u001b[0;34m(self, module_str)\u001b[0m\n\u001b[1;32m    139\u001b[0m         \u001b[38;5;28mself\u001b[39m\u001b[38;5;241m.\u001b[39mloaded\u001b[38;5;241m.\u001b[39madd(module_str)\n\u001b[1;32m    140\u001b[0m \u001b[38;5;28;01melse\u001b[39;00m:\n\u001b[0;32m--> 141\u001b[0m     \u001b[38;5;28;43mself\u001b[39;49m\u001b[38;5;241;43m.\u001b[39;49m\u001b[43mload_extension\u001b[49m\u001b[43m(\u001b[49m\u001b[43mmodule_str\u001b[49m\u001b[43m)\u001b[49m\n",
      "File \u001b[0;32m~/anaconda3/envs/down/lib/python3.10/site-packages/IPython/core/extensions.py:76\u001b[0m, in \u001b[0;36mExtensionManager.load_extension\u001b[0;34m(self, module_str)\u001b[0m\n\u001b[1;32m     69\u001b[0m \u001b[38;5;124;03m\"\"\"Load an IPython extension by its module name.\u001b[39;00m\n\u001b[1;32m     70\u001b[0m \n\u001b[1;32m     71\u001b[0m \u001b[38;5;124;03mReturns the string \"already loaded\" if the extension is already loaded,\u001b[39;00m\n\u001b[1;32m     72\u001b[0m \u001b[38;5;124;03m\"no load function\" if the module doesn't have a load_ipython_extension\u001b[39;00m\n\u001b[1;32m     73\u001b[0m \u001b[38;5;124;03mfunction, or None if it succeeded.\u001b[39;00m\n\u001b[1;32m     74\u001b[0m \u001b[38;5;124;03m\"\"\"\u001b[39;00m\n\u001b[1;32m     75\u001b[0m \u001b[38;5;28;01mtry\u001b[39;00m:\n\u001b[0;32m---> 76\u001b[0m     \u001b[38;5;28;01mreturn\u001b[39;00m \u001b[38;5;28;43mself\u001b[39;49m\u001b[38;5;241;43m.\u001b[39;49m\u001b[43m_load_extension\u001b[49m\u001b[43m(\u001b[49m\u001b[43mmodule_str\u001b[49m\u001b[43m)\u001b[49m\n\u001b[1;32m     77\u001b[0m \u001b[38;5;28;01mexcept\u001b[39;00m \u001b[38;5;167;01mModuleNotFoundError\u001b[39;00m:\n\u001b[1;32m     78\u001b[0m     \u001b[38;5;28;01mif\u001b[39;00m module_str \u001b[38;5;129;01min\u001b[39;00m BUILTINS_EXTS:\n",
      "File \u001b[0;32m~/anaconda3/envs/down/lib/python3.10/site-packages/IPython/core/extensions.py:91\u001b[0m, in \u001b[0;36mExtensionManager._load_extension\u001b[0;34m(self, module_str)\u001b[0m\n\u001b[1;32m     89\u001b[0m \u001b[38;5;28;01mwith\u001b[39;00m \u001b[38;5;28mself\u001b[39m\u001b[38;5;241m.\u001b[39mshell\u001b[38;5;241m.\u001b[39mbuiltin_trap:\n\u001b[1;32m     90\u001b[0m     \u001b[38;5;28;01mif\u001b[39;00m module_str \u001b[38;5;129;01mnot\u001b[39;00m \u001b[38;5;129;01min\u001b[39;00m sys\u001b[38;5;241m.\u001b[39mmodules:\n\u001b[0;32m---> 91\u001b[0m         mod \u001b[38;5;241m=\u001b[39m \u001b[43mimport_module\u001b[49m\u001b[43m(\u001b[49m\u001b[43mmodule_str\u001b[49m\u001b[43m)\u001b[49m\n\u001b[1;32m     92\u001b[0m     mod \u001b[38;5;241m=\u001b[39m sys\u001b[38;5;241m.\u001b[39mmodules[module_str]\n\u001b[1;32m     93\u001b[0m     \u001b[38;5;28;01mif\u001b[39;00m \u001b[38;5;28mself\u001b[39m\u001b[38;5;241m.\u001b[39m_call_load_ipython_extension(mod):\n",
      "File \u001b[0;32m~/anaconda3/envs/down/lib/python3.10/importlib/__init__.py:126\u001b[0m, in \u001b[0;36mimport_module\u001b[0;34m(name, package)\u001b[0m\n\u001b[1;32m    124\u001b[0m             \u001b[38;5;28;01mbreak\u001b[39;00m\n\u001b[1;32m    125\u001b[0m         level \u001b[38;5;241m+\u001b[39m\u001b[38;5;241m=\u001b[39m \u001b[38;5;241m1\u001b[39m\n\u001b[0;32m--> 126\u001b[0m \u001b[38;5;28;01mreturn\u001b[39;00m \u001b[43m_bootstrap\u001b[49m\u001b[38;5;241;43m.\u001b[39;49m\u001b[43m_gcd_import\u001b[49m\u001b[43m(\u001b[49m\u001b[43mname\u001b[49m\u001b[43m[\u001b[49m\u001b[43mlevel\u001b[49m\u001b[43m:\u001b[49m\u001b[43m]\u001b[49m\u001b[43m,\u001b[49m\u001b[43m \u001b[49m\u001b[43mpackage\u001b[49m\u001b[43m,\u001b[49m\u001b[43m \u001b[49m\u001b[43mlevel\u001b[49m\u001b[43m)\u001b[49m\n",
      "File \u001b[0;32m<frozen importlib._bootstrap>:1050\u001b[0m, in \u001b[0;36m_gcd_import\u001b[0;34m(name, package, level)\u001b[0m\n",
      "File \u001b[0;32m<frozen importlib._bootstrap>:1027\u001b[0m, in \u001b[0;36m_find_and_load\u001b[0;34m(name, import_)\u001b[0m\n",
      "File \u001b[0;32m<frozen importlib._bootstrap>:992\u001b[0m, in \u001b[0;36m_find_and_load_unlocked\u001b[0;34m(name, import_)\u001b[0m\n",
      "File \u001b[0;32m<frozen importlib._bootstrap>:241\u001b[0m, in \u001b[0;36m_call_with_frames_removed\u001b[0;34m(f, *args, **kwds)\u001b[0m\n",
      "File \u001b[0;32m<frozen importlib._bootstrap>:1050\u001b[0m, in \u001b[0;36m_gcd_import\u001b[0;34m(name, package, level)\u001b[0m\n",
      "File \u001b[0;32m<frozen importlib._bootstrap>:1027\u001b[0m, in \u001b[0;36m_find_and_load\u001b[0;34m(name, import_)\u001b[0m\n",
      "File \u001b[0;32m<frozen importlib._bootstrap>:1004\u001b[0m, in \u001b[0;36m_find_and_load_unlocked\u001b[0;34m(name, import_)\u001b[0m\n",
      "\u001b[0;31mModuleNotFoundError\u001b[0m: No module named 'rpy2'"
     ]
    }
   ],
   "source": [
    "%reload_ext rpy2.ipython"
   ]
  },
  {
   "cell_type": "code",
   "execution_count": null,
   "metadata": {
    "tags": []
   },
   "outputs": [],
   "source": [
    "%%R \n",
    "library(ggplot2)\n",
    "library(tidyverse)"
   ]
  },
  {
   "cell_type": "code",
   "execution_count": 753,
   "metadata": {},
   "outputs": [],
   "source": [
    "%%R\n",
    "library(pheatmap)\n",
    "library(RColorBrewer)\n",
    "library(viridis)\n",
    "\n",
    "# makeColorRampPalette <- function(colors, cutoff.fraction, num.colors.in.palette)\n",
    "# {\n",
    "#   stopifnot(length(colors) == 4)\n",
    "#   ramp1 <- colorRampPalette(colors[1:2])(num.colors.in.palette * cutoff.fraction)\n",
    "#   ramp2 <- colorRampPalette(colors[3:4])(num.colors.in.palette * (1 - cutoff.fraction))\n",
    "#   return(c(ramp1, ramp2))\n",
    "# }\n",
    "\n",
    "breaksList = seq(-3,3,by = 1)"
   ]
  },
  {
   "cell_type": "code",
   "execution_count": 825,
   "metadata": {},
   "outputs": [],
   "source": [
    "%%R -i df\n",
    "df %>% remove_rownames() %>%\n",
    "    mutate(line=gsub(\"_delta_exp\",'',line)) %>%\n",
    "    mutate(line=gsub(\"_only\",'',line)) %>%\n",
    "    mutate(GO=gsub(\"GOBP_\",'GOBP | ',GO)) %>%\n",
    "    mutate(GO=gsub(\"GOMF_\",'GOMF | ',GO)) %>%\n",
    "    mutate(name=paste0(GO,'-',line)) %>%\n",
    "    group_by(GO) %>% filter( n() > 1 ) %>% \n",
    "    column_to_rownames('name') -> df"
   ]
  },
  {
   "cell_type": "code",
   "execution_count": 826,
   "metadata": {},
   "outputs": [],
   "source": [
    "%%R\n",
    "mat_colors <- list(group = brewer.pal(7, \"RdBu\"))$group\n",
    "greens <- brewer.pal(n = 4, name = \"Greens\")\n",
    "set1 <- brewer.pal(n = 5, name = \"Set1\")\n",
    "set2 <- c(brewer.pal(n = 16, name = \"Set2\"),brewer.pal(n = 16, name = \"Set3\"))"
   ]
  },
  {
   "cell_type": "code",
   "execution_count": 827,
   "metadata": {},
   "outputs": [],
   "source": [
    "%%R \n",
    "go_col = c()\n",
    "go_names = df$GO %>% unique\n",
    "\n",
    "for (i in c(1:length(go_names))){\n",
    "    go_col[go_names[i]]=set2[i]\n",
    "}"
   ]
  },
  {
   "cell_type": "code",
   "execution_count": 828,
   "metadata": {},
   "outputs": [],
   "source": [
    "%%R \n",
    "ann_colors = list(\n",
    "    line = c(\n",
    "        \"hl60_6h\"=greens[1],\n",
    "        \"hl60_72h\"=greens[2],\n",
    "        \"hl60_120h\"=greens[3],\n",
    "        \"kg1\"=set1[1],\n",
    "        \"molm14\"=set1[2],\n",
    "        \"ociaml3\"=set1[4],\n",
    "        \"ociaml2\"=set1[5]\n",
    "    ),\n",
    "    GO=go_col\n",
    ")"
   ]
  },
  {
   "cell_type": "code",
   "execution_count": 830,
   "metadata": {},
   "outputs": [
    {
     "data": {
      "image/png": "[encoded data removed]"
     },
     "metadata": {},
     "output_type": "display_data"
    }
   ],
   "source": [
    "%%R\n",
    "df %>% dplyr::select(-c(line,GO)) %>% \n",
    "    pheatmap(\n",
    "        cluster_cols=F,\n",
    "        cluster_rows=T,\n",
    "        cutree_rows=3,\n",
    "        show_rownames=F,\n",
    "        show_colnames=F,\n",
    "        vmin=-3,vmax=3,\n",
    "        annotation_row = df %>%select(line,GO),\n",
    "        color = mat_colors[length(mat_colors):-1:1],\n",
    "        border_color = F,\n",
    "        breaks = breaksList,\n",
    "        annotation_colors = ann_colors\n",
    "        \n",
    "    ) -> pw_ht"
   ]
  },
  {
   "cell_type": "code",
   "execution_count": 832,
   "metadata": {},
   "outputs": [
    {
     "name": "stdout",
     "output_type": "stream",
     "text": [
      "png \n",
      "  2 \n"
     ]
    }
   ],
   "source": [
    "%%R \n",
    "pdf(\"figures/cell-line-consistency-exp-GO.pdf\",width=12, height=8)\n",
    "grid::grid.newpage()\n",
    "grid::grid.draw(pw_ht$gtable)\n",
    "\n",
    "dev.off()"
   ]
  },
  {
   "cell_type": "code",
   "execution_count": 84,
   "metadata": {},
   "outputs": [],
   "source": [
    "# plt.figure(figsize=(8,8))\n",
    "\n",
    "# # Make venn diagram                                                                                                                                                             \n",
    "# v = venn3_unweighted(\n",
    "#     [Exp_down,Rho_down,Hyper_m6A],('ΔRNA Expression\\nlog2FC < -0.1','ΔPhenotype (ρ)\\nlog2FC < -0.1','ΔRNA Methylation\\nlog2FC > 1')\n",
    "#     ,normalize_to=0.5\n",
    "# )\n",
    "\n",
    "# for x in ['100','010','001','110','101','011']:\n",
    "#     v.get_patch_by_id(x).set_alpha(0.5)\n",
    "#     v.get_patch_by_id(x).set_color('lightgrey')\n",
    "#     v.get_label_by_id(x).set_fontsize(12)\n",
    "\n",
    "# v.get_patch_by_id('111').set_color('y')\n",
    "# v.get_label_by_id('111').set_fontsize(15)\n",
    "\n",
    "\n",
    "# c = venn3_circles(\n",
    "#     (1,1,1,1,1,1,1), linestyle='dashed'\n",
    "#     ,normalize_to=0.5\n",
    "# )\n",
    "# for i,_ in enumerate(c):\n",
    "#     c[i].set_lw(1.0)\n",
    "#     c[i].set_ls('dotted')\n",
    "\n",
    "# plt.title(\"Intersectional genes\", fontsize=20)\n",
    "# plt.annotate(\n",
    "#     venn_genes_label, xy=v.get_label_by_id('111').get_position() - np.array([0, 0.05]), \n",
    "#     xytext=(-180,-250),\n",
    "#     ha='center', textcoords='offset points', bbox=dict(boxstyle='round,pad=0.5', fc='gray', alpha=0.1),\n",
    "#     fontsize=12, \n",
    "#     arrowprops=dict(arrowstyle='->', connectionstyle='arc3,rad=0.5',color='gray')\n",
    "# )\n",
    "\n",
    "# plt.figtext(\n",
    "#     0.5, 0.08, \"pvalue < 0.05\", ha=\"center\", fontsize=10, \n",
    "#     bbox={\"facecolor\":\"lightgray\", \"alpha\":0.1, \"pad\":5}\n",
    "# )\n",
    "\n",
    "# plt.savefig('intersectional-genes/venn_plot_Exp_down_Rho_down_Hyper_m6A.pdf')\n",
    "# plt.show()"
   ]
  },
  {
   "cell_type": "code",
   "execution_count": null,
   "metadata": {},
   "outputs": [],
   "source": []
  },
  {
   "cell_type": "code",
   "execution_count": null,
   "metadata": {},
   "outputs": [],
   "source": []
  },
  {
   "cell_type": "markdown",
   "metadata": {
    "tags": []
   },
   "source": [
    "___\n",
    "# "
   ]
  },
  {
   "cell_type": "code",
   "execution_count": 162,
   "metadata": {},
   "outputs": [
    {
     "name": "stdout",
     "output_type": "stream",
     "text": [
      "Wed Oct 19 14:55:19 PDT 2022\n"
     ]
    }
   ],
   "source": [
    "!date"
   ]
  }
 ],
 "metadata": {
  "kernelspec": {
   "display_name": "Python [conda env:anaconda3-down]",
   "language": "python",
   "name": "conda-env-anaconda3-down-py"
  },
  "language_info": {
   "codemirror_mode": {
    "name": "ipython",
    "version": 3
   },
   "file_extension": ".py",
   "mimetype": "text/x-python",
   "name": "python",
   "nbconvert_exporter": "python",
   "pygments_lexer": "ipython3",
   "version": "3.10.8"
  }
 },
 "nbformat": 4,
 "nbformat_minor": 4
}
