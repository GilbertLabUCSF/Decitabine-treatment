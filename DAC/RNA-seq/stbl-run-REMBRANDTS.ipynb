{
 "cells": [
  {
   "cell_type": "markdown",
   "metadata": {
    "tags": []
   },
   "source": [
    "## CRIES\n",
    "### Counting Reads for Intronic and Exonic Segments\n",
    "https://github.com/csglab/CRIES\n",
    "\n",
    "\n"
   ]
  },
  {
   "cell_type": "markdown",
   "metadata": {},
   "source": [
    "my `alignment` conda environment "
   ]
  },
  {
   "cell_type": "markdown",
   "metadata": {
    "tags": []
   },
   "source": [
    "**Step 1. Creating GTF annotation files**\n",
    "\n",
    "Intron and exon annotations for `gencode.v34` made within my notebook named `build-genome.ipynb`. \n",
    "\n",
    "**Step 2. Mapping reads**\n",
    "\n",
    "`STAR` \n",
    "\n",
    "**Step 3. Counting reads that map to intronic or exonic segments of each gene**\n",
    "\n",
    "`featureCounts`\n",
    "http://bioinf.wehi.edu.au/featureCounts/"
   ]
  },
  {
   "cell_type": "code",
   "execution_count": 6,
   "metadata": {},
   "outputs": [
    {
     "name": "stdout",
     "output_type": "stream",
     "text": [
      "#loop featureCounts intron and exon counts\n",
      "\n",
      "PDIR=$1\n",
      "bamDIR=$2\n",
      "countDIR=$3\n",
      "logDIR=$4\n",
      "JOBS=$5\n",
      "\n",
      "cd $PDIR\n",
      "\n",
      "GTF_index='~/genomes/hg38/hg38_ensemble_'\n",
      "\n",
      "mkdir -p $countDIR\n",
      "mkdir -p $logDIR\n",
      "\n",
      "for f in ${bamDIR}/*.bam; do\n",
      "    base=`basename $f`\n",
      "    sample=${base/.bam/};\n",
      "    echo -e '----------------------- ' $sample  ' -----------------------'\n",
      "    echo `date` \n",
      "    featureCounts -M -T $JOBS -t intron -g gene_id -a ${GTF_index}introns.gtf -o ${countDIR}/${sample}_introns.txt ${f} &> ${logDIR}/${sample}_introns.log\n",
      "    featureCounts -M -T $JOBS -t exon -g gene_id -a ${GTF_index}consExons.gtf -o ${countDIR}/${sample}_exons.txt ${f} &> ${logDIR}/${sample}_exons.log\n",
      "    echo `date` Done!\n",
      "done\n"
     ]
    }
   ],
   "source": [
    "cat scripts/intron_exon_counts.sh"
   ]
  },
  {
   "cell_type": "code",
   "execution_count": 8,
   "metadata": {},
   "outputs": [],
   "source": [
    "# nohup bash scripts/intron_exon_counts.sh . bam stbl-counts stbl-log 24 > stbl_count.out "
   ]
  },
  {
   "cell_type": "markdown",
   "metadata": {},
   "source": [
    "Note that `$countDIR` is `./stbl-counts`"
   ]
  },
  {
   "cell_type": "markdown",
   "metadata": {
    "tags": []
   },
   "source": [
    "### Run multiQC"
   ]
  },
  {
   "cell_type": "code",
   "execution_count": 2,
   "metadata": {
    "collapsed": true,
    "jupyter": {
     "outputs_hidden": true
    },
    "tags": []
   },
   "outputs": [
    {
     "name": "stdout",
     "output_type": "stream",
     "text": [
      "\u001b[1;30m[INFO   ]\u001b[0m         multiqc : This is MultiQC v1.9\n",
      "\u001b[1;30m[INFO   ]\u001b[0m         multiqc : Template    : default\n",
      "\u001b[1;30m[INFO   ]\u001b[0m         multiqc : Searching   : /data_gilbert/home/aarab/Projects/Decitabine-treatment/RNA-seq/stbl-counts/120h_DMSO_rep1_exons.txt.summary\n",
      "\u001b[1;30m[INFO   ]\u001b[0m         multiqc : Searching   : /data_gilbert/home/aarab/Projects/Decitabine-treatment/RNA-seq/stbl-counts/120h_DMSO_rep2_exons.txt.summary\n",
      "\u001b[1;30m[INFO   ]\u001b[0m         multiqc : Searching   : /data_gilbert/home/aarab/Projects/Decitabine-treatment/RNA-seq/stbl-counts/120h_treated_rep1_exons.txt.summary\n",
      "\u001b[1;30m[INFO   ]\u001b[0m         multiqc : Searching   : /data_gilbert/home/aarab/Projects/Decitabine-treatment/RNA-seq/stbl-counts/120h_treated_rep2_exons.txt.summary\n",
      "\u001b[1;30m[INFO   ]\u001b[0m         multiqc : Searching   : /data_gilbert/home/aarab/Projects/Decitabine-treatment/RNA-seq/stbl-counts/6h_DMSO_rep1_exons.txt.summary\n",
      "\u001b[1;30m[INFO   ]\u001b[0m         multiqc : Searching   : /data_gilbert/home/aarab/Projects/Decitabine-treatment/RNA-seq/stbl-counts/6h_DMSO_rep2_exons.txt.summary\n",
      "\u001b[1;30m[INFO   ]\u001b[0m         multiqc : Searching   : /data_gilbert/home/aarab/Projects/Decitabine-treatment/RNA-seq/stbl-counts/6h_treated_rep1_exons.txt.summary\n",
      "\u001b[1;30m[INFO   ]\u001b[0m         multiqc : Searching   : /data_gilbert/home/aarab/Projects/Decitabine-treatment/RNA-seq/stbl-counts/6h_treated_rep2_exons.txt.summary\n",
      "\u001b[1;30m[INFO   ]\u001b[0m         multiqc : Searching   : /data_gilbert/home/aarab/Projects/Decitabine-treatment/RNA-seq/stbl-counts/72h_DMSO_rep1_exons.txt.summary\n",
      "\u001b[1;30m[INFO   ]\u001b[0m         multiqc : Searching   : /data_gilbert/home/aarab/Projects/Decitabine-treatment/RNA-seq/stbl-counts/72h_DMSO_rep2_exons.txt.summary\n",
      "\u001b[1;30m[INFO   ]\u001b[0m         multiqc : Searching   : /data_gilbert/home/aarab/Projects/Decitabine-treatment/RNA-seq/stbl-counts/72h_treated_rep1_exons.txt.summary\n",
      "\u001b[1;30m[INFO   ]\u001b[0m         multiqc : Searching   : /data_gilbert/home/aarab/Projects/Decitabine-treatment/RNA-seq/stbl-counts/72h_treated_rep2_exons.txt.summary\n",
      "\u001b[1;30m[INFO   ]\u001b[0m         multiqc : Searching   : /data_gilbert/home/aarab/Projects/Decitabine-treatment/RNA-seq/stbl-counts/hl60_120h_t_1_exons.txt.summary\n",
      "\u001b[1;30m[INFO   ]\u001b[0m         multiqc : Searching   : /data_gilbert/home/aarab/Projects/Decitabine-treatment/RNA-seq/stbl-counts/hl60_120h_t_2_exons.txt.summary\n",
      "\u001b[1;30m[INFO   ]\u001b[0m         multiqc : Searching   : /data_gilbert/home/aarab/Projects/Decitabine-treatment/RNA-seq/stbl-counts/hl60_120h_u_1_exons.txt.summary\n",
      "\u001b[1;30m[INFO   ]\u001b[0m         multiqc : Searching   : /data_gilbert/home/aarab/Projects/Decitabine-treatment/RNA-seq/stbl-counts/hl60_120h_u_2_exons.txt.summary\n",
      "\u001b[1;30m[INFO   ]\u001b[0m         multiqc : Searching   : /data_gilbert/home/aarab/Projects/Decitabine-treatment/RNA-seq/stbl-counts/hl60_6h_t_1_exons.txt.summary\n",
      "\u001b[1;30m[INFO   ]\u001b[0m         multiqc : Searching   : /data_gilbert/home/aarab/Projects/Decitabine-treatment/RNA-seq/stbl-counts/hl60_6h_t_2_exons.txt.summary\n",
      "\u001b[1;30m[INFO   ]\u001b[0m         multiqc : Searching   : /data_gilbert/home/aarab/Projects/Decitabine-treatment/RNA-seq/stbl-counts/hl60_6h_u_1_exons.txt.summary\n",
      "\u001b[1;30m[INFO   ]\u001b[0m         multiqc : Searching   : /data_gilbert/home/aarab/Projects/Decitabine-treatment/RNA-seq/stbl-counts/hl60_6h_u_2_exons.txt.summary\n",
      "\u001b[1;30m[INFO   ]\u001b[0m         multiqc : Searching   : /data_gilbert/home/aarab/Projects/Decitabine-treatment/RNA-seq/stbl-counts/hl60_72h_t_1_exons.txt.summary\n",
      "\u001b[1;30m[INFO   ]\u001b[0m         multiqc : Searching   : /data_gilbert/home/aarab/Projects/Decitabine-treatment/RNA-seq/stbl-counts/hl60_72h_t_2_exons.txt.summary\n",
      "\u001b[1;30m[INFO   ]\u001b[0m         multiqc : Searching   : /data_gilbert/home/aarab/Projects/Decitabine-treatment/RNA-seq/stbl-counts/hl60_72h_u_1_exons.txt.summary\n",
      "\u001b[1;30m[INFO   ]\u001b[0m         multiqc : Searching   : /data_gilbert/home/aarab/Projects/Decitabine-treatment/RNA-seq/stbl-counts/hl60_72h_u_2_exons.txt.summary\n",
      "\u001b[1;30m[INFO   ]\u001b[0m         multiqc : Searching   : /data_gilbert/home/aarab/Projects/Decitabine-treatment/RNA-seq/stbl-counts/kg1_t_1_exons.txt.summary\n",
      "\u001b[1;30m[INFO   ]\u001b[0m         multiqc : Searching   : /data_gilbert/home/aarab/Projects/Decitabine-treatment/RNA-seq/stbl-counts/kg1_t_2_exons.txt.summary\n",
      "\u001b[1;30m[INFO   ]\u001b[0m         multiqc : Searching   : /data_gilbert/home/aarab/Projects/Decitabine-treatment/RNA-seq/stbl-counts/kg1_t_3_exons.txt.summary\n",
      "\u001b[1;30m[INFO   ]\u001b[0m         multiqc : Searching   : /data_gilbert/home/aarab/Projects/Decitabine-treatment/RNA-seq/stbl-counts/kg1_u_1_exons.txt.summary\n",
      "\u001b[1;30m[INFO   ]\u001b[0m         multiqc : Searching   : /data_gilbert/home/aarab/Projects/Decitabine-treatment/RNA-seq/stbl-counts/kg1_u_2_exons.txt.summary\n",
      "\u001b[1;30m[INFO   ]\u001b[0m         multiqc : Searching   : /data_gilbert/home/aarab/Projects/Decitabine-treatment/RNA-seq/stbl-counts/kg1_u_3_exons.txt.summary\n",
      "\u001b[1;30m[INFO   ]\u001b[0m         multiqc : Searching   : /data_gilbert/home/aarab/Projects/Decitabine-treatment/RNA-seq/stbl-counts/molm14_t_1_exons.txt.summary\n",
      "\u001b[1;30m[INFO   ]\u001b[0m         multiqc : Searching   : /data_gilbert/home/aarab/Projects/Decitabine-treatment/RNA-seq/stbl-counts/molm14_t_2_exons.txt.summary\n",
      "\u001b[1;30m[INFO   ]\u001b[0m         multiqc : Searching   : /data_gilbert/home/aarab/Projects/Decitabine-treatment/RNA-seq/stbl-counts/molm14_t_3_exons.txt.summary\n",
      "\u001b[1;30m[INFO   ]\u001b[0m         multiqc : Searching   : /data_gilbert/home/aarab/Projects/Decitabine-treatment/RNA-seq/stbl-counts/molm14_u_1_exons.txt.summary\n",
      "\u001b[1;30m[INFO   ]\u001b[0m         multiqc : Searching   : /data_gilbert/home/aarab/Projects/Decitabine-treatment/RNA-seq/stbl-counts/molm14_u_2_exons.txt.summary\n",
      "\u001b[1;30m[INFO   ]\u001b[0m         multiqc : Searching   : /data_gilbert/home/aarab/Projects/Decitabine-treatment/RNA-seq/stbl-counts/molm14_u_3_exons.txt.summary\n",
      "\u001b[1;30m[INFO   ]\u001b[0m         multiqc : Searching   : /data_gilbert/home/aarab/Projects/Decitabine-treatment/RNA-seq/stbl-counts/ociaml2_t_1_exons.txt.summary\n",
      "\u001b[1;30m[INFO   ]\u001b[0m         multiqc : Searching   : /data_gilbert/home/aarab/Projects/Decitabine-treatment/RNA-seq/stbl-counts/ociaml2_t_2_exons.txt.summary\n",
      "\u001b[1;30m[INFO   ]\u001b[0m         multiqc : Searching   : /data_gilbert/home/aarab/Projects/Decitabine-treatment/RNA-seq/stbl-counts/ociaml2_t_3_exons.txt.summary\n",
      "\u001b[1;30m[INFO   ]\u001b[0m         multiqc : Searching   : /data_gilbert/home/aarab/Projects/Decitabine-treatment/RNA-seq/stbl-counts/ociaml2_u_1_exons.txt.summary\n",
      "\u001b[1;30m[INFO   ]\u001b[0m         multiqc : Searching   : /data_gilbert/home/aarab/Projects/Decitabine-treatment/RNA-seq/stbl-counts/ociaml2_u_2_exons.txt.summary\n",
      "\u001b[1;30m[INFO   ]\u001b[0m         multiqc : Searching   : /data_gilbert/home/aarab/Projects/Decitabine-treatment/RNA-seq/stbl-counts/ociaml2_u_3_exons.txt.summary\n",
      "\u001b[1;30m[INFO   ]\u001b[0m         multiqc : Searching   : /data_gilbert/home/aarab/Projects/Decitabine-treatment/RNA-seq/stbl-counts/ociaml3_t_1_exons.txt.summary\n",
      "\u001b[1;30m[INFO   ]\u001b[0m         multiqc : Searching   : /data_gilbert/home/aarab/Projects/Decitabine-treatment/RNA-seq/stbl-counts/ociaml3_t_2_exons.txt.summary\n",
      "\u001b[1;30m[INFO   ]\u001b[0m         multiqc : Searching   : /data_gilbert/home/aarab/Projects/Decitabine-treatment/RNA-seq/stbl-counts/ociaml3_t_3_exons.txt.summary\n",
      "\u001b[1;30m[INFO   ]\u001b[0m         multiqc : Searching   : /data_gilbert/home/aarab/Projects/Decitabine-treatment/RNA-seq/stbl-counts/ociaml3_u_1_exons.txt.summary\n",
      "\u001b[1;30m[INFO   ]\u001b[0m         multiqc : Searching   : /data_gilbert/home/aarab/Projects/Decitabine-treatment/RNA-seq/stbl-counts/ociaml3_u_2_exons.txt.summary\n",
      "\u001b[1;30m[INFO   ]\u001b[0m         multiqc : Searching   : /data_gilbert/home/aarab/Projects/Decitabine-treatment/RNA-seq/stbl-counts/ociaml3_u_3_exons.txt.summary\n",
      "\u001b[1;30m[INFO   ]\u001b[0m         multiqc : Searching   : /data_gilbert/home/aarab/Projects/Decitabine-treatment/RNA-seq/stbl-counts/thp1_t_1_exons.txt.summary\n",
      "\u001b[1;30m[INFO   ]\u001b[0m         multiqc : Searching   : /data_gilbert/home/aarab/Projects/Decitabine-treatment/RNA-seq/stbl-counts/thp1_t_2_exons.txt.summary\n",
      "\u001b[1;30m[INFO   ]\u001b[0m         multiqc : Searching   : /data_gilbert/home/aarab/Projects/Decitabine-treatment/RNA-seq/stbl-counts/thp1_t_3_exons.txt.summary\n",
      "\u001b[1;30m[INFO   ]\u001b[0m         multiqc : Searching   : /data_gilbert/home/aarab/Projects/Decitabine-treatment/RNA-seq/stbl-counts/thp1_u_1_exons.txt.summary\n",
      "\u001b[1;30m[INFO   ]\u001b[0m         multiqc : Searching   : /data_gilbert/home/aarab/Projects/Decitabine-treatment/RNA-seq/stbl-counts/thp1_u_2_exons.txt.summary\n",
      "\u001b[1;30m[INFO   ]\u001b[0m         multiqc : Searching   : /data_gilbert/home/aarab/Projects/Decitabine-treatment/RNA-seq/stbl-counts/thp1_u_3_exons.txt.summary\n",
      "\u001b[?25lSearching 54 files..  [####################################]  100%          \u001b[?25h\n",
      "\u001b[1;30m[INFO   ]\u001b[0m  feature_counts : Found 54 reports\n",
      "\u001b[1;30m[INFO   ]\u001b[0m         multiqc : Compressing plot data\n",
      "\u001b[1;30m[WARNING]\u001b[0m         multiqc : \u001b[33mDeleting    : QC-reports/counts-exons-multiqc.html   (-f was specified)\u001b[0m\n",
      "\u001b[1;30m[INFO   ]\u001b[0m         multiqc : Report      : QC-reports/counts-exons-multiqc.html\n",
      "\u001b[1;30m[INFO   ]\u001b[0m         multiqc : Data        : QC-reports/counts-exons-multiqc_data\n",
      "\u001b[1;30m[INFO   ]\u001b[0m         multiqc : MultiQC complete\n",
      "\u001b[1;30m[INFO   ]\u001b[0m         multiqc : This is MultiQC v1.9\n",
      "\u001b[1;30m[INFO   ]\u001b[0m         multiqc : Template    : default\n",
      "\u001b[1;30m[INFO   ]\u001b[0m         multiqc : Searching   : /data_gilbert/home/aarab/Projects/Decitabine-treatment/RNA-seq/stbl-counts/120h_DMSO_rep1_introns.txt.summary\n",
      "\u001b[1;30m[INFO   ]\u001b[0m         multiqc : Searching   : /data_gilbert/home/aarab/Projects/Decitabine-treatment/RNA-seq/stbl-counts/120h_DMSO_rep2_introns.txt.summary\n",
      "\u001b[1;30m[INFO   ]\u001b[0m         multiqc : Searching   : /data_gilbert/home/aarab/Projects/Decitabine-treatment/RNA-seq/stbl-counts/120h_treated_rep1_introns.txt.summary\n",
      "\u001b[1;30m[INFO   ]\u001b[0m         multiqc : Searching   : /data_gilbert/home/aarab/Projects/Decitabine-treatment/RNA-seq/stbl-counts/120h_treated_rep2_introns.txt.summary\n",
      "\u001b[1;30m[INFO   ]\u001b[0m         multiqc : Searching   : /data_gilbert/home/aarab/Projects/Decitabine-treatment/RNA-seq/stbl-counts/6h_DMSO_rep1_introns.txt.summary\n",
      "\u001b[1;30m[INFO   ]\u001b[0m         multiqc : Searching   : /data_gilbert/home/aarab/Projects/Decitabine-treatment/RNA-seq/stbl-counts/6h_DMSO_rep2_introns.txt.summary\n",
      "\u001b[1;30m[INFO   ]\u001b[0m         multiqc : Searching   : /data_gilbert/home/aarab/Projects/Decitabine-treatment/RNA-seq/stbl-counts/6h_treated_rep1_introns.txt.summary\n",
      "\u001b[1;30m[INFO   ]\u001b[0m         multiqc : Searching   : /data_gilbert/home/aarab/Projects/Decitabine-treatment/RNA-seq/stbl-counts/6h_treated_rep2_introns.txt.summary\n",
      "\u001b[1;30m[INFO   ]\u001b[0m         multiqc : Searching   : /data_gilbert/home/aarab/Projects/Decitabine-treatment/RNA-seq/stbl-counts/72h_DMSO_rep1_introns.txt.summary\n",
      "\u001b[1;30m[INFO   ]\u001b[0m         multiqc : Searching   : /data_gilbert/home/aarab/Projects/Decitabine-treatment/RNA-seq/stbl-counts/72h_DMSO_rep2_introns.txt.summary\n",
      "\u001b[1;30m[INFO   ]\u001b[0m         multiqc : Searching   : /data_gilbert/home/aarab/Projects/Decitabine-treatment/RNA-seq/stbl-counts/72h_treated_rep1_introns.txt.summary\n",
      "\u001b[1;30m[INFO   ]\u001b[0m         multiqc : Searching   : /data_gilbert/home/aarab/Projects/Decitabine-treatment/RNA-seq/stbl-counts/72h_treated_rep2_introns.txt.summary\n",
      "\u001b[1;30m[INFO   ]\u001b[0m         multiqc : Searching   : /data_gilbert/home/aarab/Projects/Decitabine-treatment/RNA-seq/stbl-counts/hl60_120h_t_1_introns.txt.summary\n",
      "\u001b[1;30m[INFO   ]\u001b[0m         multiqc : Searching   : /data_gilbert/home/aarab/Projects/Decitabine-treatment/RNA-seq/stbl-counts/hl60_120h_t_2_introns.txt.summary\n",
      "\u001b[1;30m[INFO   ]\u001b[0m         multiqc : Searching   : /data_gilbert/home/aarab/Projects/Decitabine-treatment/RNA-seq/stbl-counts/hl60_120h_u_1_introns.txt.summary\n",
      "\u001b[1;30m[INFO   ]\u001b[0m         multiqc : Searching   : /data_gilbert/home/aarab/Projects/Decitabine-treatment/RNA-seq/stbl-counts/hl60_120h_u_2_introns.txt.summary\n",
      "\u001b[1;30m[INFO   ]\u001b[0m         multiqc : Searching   : /data_gilbert/home/aarab/Projects/Decitabine-treatment/RNA-seq/stbl-counts/hl60_6h_t_1_introns.txt.summary\n",
      "\u001b[1;30m[INFO   ]\u001b[0m         multiqc : Searching   : /data_gilbert/home/aarab/Projects/Decitabine-treatment/RNA-seq/stbl-counts/hl60_6h_t_2_introns.txt.summary\n",
      "\u001b[1;30m[INFO   ]\u001b[0m         multiqc : Searching   : /data_gilbert/home/aarab/Projects/Decitabine-treatment/RNA-seq/stbl-counts/hl60_6h_u_1_introns.txt.summary\n",
      "\u001b[1;30m[INFO   ]\u001b[0m         multiqc : Searching   : /data_gilbert/home/aarab/Projects/Decitabine-treatment/RNA-seq/stbl-counts/hl60_6h_u_2_introns.txt.summary\n",
      "\u001b[1;30m[INFO   ]\u001b[0m         multiqc : Searching   : /data_gilbert/home/aarab/Projects/Decitabine-treatment/RNA-seq/stbl-counts/hl60_72h_t_1_introns.txt.summary\n",
      "\u001b[1;30m[INFO   ]\u001b[0m         multiqc : Searching   : /data_gilbert/home/aarab/Projects/Decitabine-treatment/RNA-seq/stbl-counts/hl60_72h_t_2_introns.txt.summary\n",
      "\u001b[1;30m[INFO   ]\u001b[0m         multiqc : Searching   : /data_gilbert/home/aarab/Projects/Decitabine-treatment/RNA-seq/stbl-counts/hl60_72h_u_1_introns.txt.summary\n",
      "\u001b[1;30m[INFO   ]\u001b[0m         multiqc : Searching   : /data_gilbert/home/aarab/Projects/Decitabine-treatment/RNA-seq/stbl-counts/hl60_72h_u_2_introns.txt.summary\n",
      "\u001b[1;30m[INFO   ]\u001b[0m         multiqc : Searching   : /data_gilbert/home/aarab/Projects/Decitabine-treatment/RNA-seq/stbl-counts/kg1_t_1_introns.txt.summary\n",
      "\u001b[1;30m[INFO   ]\u001b[0m         multiqc : Searching   : /data_gilbert/home/aarab/Projects/Decitabine-treatment/RNA-seq/stbl-counts/kg1_t_2_introns.txt.summary\n",
      "\u001b[1;30m[INFO   ]\u001b[0m         multiqc : Searching   : /data_gilbert/home/aarab/Projects/Decitabine-treatment/RNA-seq/stbl-counts/kg1_t_3_introns.txt.summary\n",
      "\u001b[1;30m[INFO   ]\u001b[0m         multiqc : Searching   : /data_gilbert/home/aarab/Projects/Decitabine-treatment/RNA-seq/stbl-counts/kg1_u_1_introns.txt.summary\n",
      "\u001b[1;30m[INFO   ]\u001b[0m         multiqc : Searching   : /data_gilbert/home/aarab/Projects/Decitabine-treatment/RNA-seq/stbl-counts/kg1_u_2_introns.txt.summary\n",
      "\u001b[1;30m[INFO   ]\u001b[0m         multiqc : Searching   : /data_gilbert/home/aarab/Projects/Decitabine-treatment/RNA-seq/stbl-counts/kg1_u_3_introns.txt.summary\n",
      "\u001b[1;30m[INFO   ]\u001b[0m         multiqc : Searching   : /data_gilbert/home/aarab/Projects/Decitabine-treatment/RNA-seq/stbl-counts/molm14_t_1_introns.txt.summary\n",
      "\u001b[1;30m[INFO   ]\u001b[0m         multiqc : Searching   : /data_gilbert/home/aarab/Projects/Decitabine-treatment/RNA-seq/stbl-counts/molm14_t_2_introns.txt.summary\n",
      "\u001b[1;30m[INFO   ]\u001b[0m         multiqc : Searching   : /data_gilbert/home/aarab/Projects/Decitabine-treatment/RNA-seq/stbl-counts/molm14_t_3_introns.txt.summary\n",
      "\u001b[1;30m[INFO   ]\u001b[0m         multiqc : Searching   : /data_gilbert/home/aarab/Projects/Decitabine-treatment/RNA-seq/stbl-counts/molm14_u_1_introns.txt.summary\n",
      "\u001b[1;30m[INFO   ]\u001b[0m         multiqc : Searching   : /data_gilbert/home/aarab/Projects/Decitabine-treatment/RNA-seq/stbl-counts/molm14_u_2_introns.txt.summary\n",
      "\u001b[1;30m[INFO   ]\u001b[0m         multiqc : Searching   : /data_gilbert/home/aarab/Projects/Decitabine-treatment/RNA-seq/stbl-counts/molm14_u_3_introns.txt.summary\n",
      "\u001b[1;30m[INFO   ]\u001b[0m         multiqc : Searching   : /data_gilbert/home/aarab/Projects/Decitabine-treatment/RNA-seq/stbl-counts/ociaml2_t_1_introns.txt.summary\n",
      "\u001b[1;30m[INFO   ]\u001b[0m         multiqc : Searching   : /data_gilbert/home/aarab/Projects/Decitabine-treatment/RNA-seq/stbl-counts/ociaml2_t_2_introns.txt.summary\n",
      "\u001b[1;30m[INFO   ]\u001b[0m         multiqc : Searching   : /data_gilbert/home/aarab/Projects/Decitabine-treatment/RNA-seq/stbl-counts/ociaml2_t_3_introns.txt.summary\n",
      "\u001b[1;30m[INFO   ]\u001b[0m         multiqc : Searching   : /data_gilbert/home/aarab/Projects/Decitabine-treatment/RNA-seq/stbl-counts/ociaml2_u_1_introns.txt.summary\n",
      "\u001b[1;30m[INFO   ]\u001b[0m         multiqc : Searching   : /data_gilbert/home/aarab/Projects/Decitabine-treatment/RNA-seq/stbl-counts/ociaml2_u_2_introns.txt.summary\n",
      "\u001b[1;30m[INFO   ]\u001b[0m         multiqc : Searching   : /data_gilbert/home/aarab/Projects/Decitabine-treatment/RNA-seq/stbl-counts/ociaml2_u_3_introns.txt.summary\n",
      "\u001b[1;30m[INFO   ]\u001b[0m         multiqc : Searching   : /data_gilbert/home/aarab/Projects/Decitabine-treatment/RNA-seq/stbl-counts/ociaml3_t_1_introns.txt.summary\n",
      "\u001b[1;30m[INFO   ]\u001b[0m         multiqc : Searching   : /data_gilbert/home/aarab/Projects/Decitabine-treatment/RNA-seq/stbl-counts/ociaml3_t_2_introns.txt.summary\n",
      "\u001b[1;30m[INFO   ]\u001b[0m         multiqc : Searching   : /data_gilbert/home/aarab/Projects/Decitabine-treatment/RNA-seq/stbl-counts/ociaml3_t_3_introns.txt.summary\n",
      "\u001b[1;30m[INFO   ]\u001b[0m         multiqc : Searching   : /data_gilbert/home/aarab/Projects/Decitabine-treatment/RNA-seq/stbl-counts/ociaml3_u_1_introns.txt.summary\n",
      "\u001b[1;30m[INFO   ]\u001b[0m         multiqc : Searching   : /data_gilbert/home/aarab/Projects/Decitabine-treatment/RNA-seq/stbl-counts/ociaml3_u_2_introns.txt.summary\n",
      "\u001b[1;30m[INFO   ]\u001b[0m         multiqc : Searching   : /data_gilbert/home/aarab/Projects/Decitabine-treatment/RNA-seq/stbl-counts/ociaml3_u_3_introns.txt.summary\n",
      "\u001b[1;30m[INFO   ]\u001b[0m         multiqc : Searching   : /data_gilbert/home/aarab/Projects/Decitabine-treatment/RNA-seq/stbl-counts/thp1_t_1_introns.txt.summary\n",
      "\u001b[1;30m[INFO   ]\u001b[0m         multiqc : Searching   : /data_gilbert/home/aarab/Projects/Decitabine-treatment/RNA-seq/stbl-counts/thp1_t_2_introns.txt.summary\n",
      "\u001b[1;30m[INFO   ]\u001b[0m         multiqc : Searching   : /data_gilbert/home/aarab/Projects/Decitabine-treatment/RNA-seq/stbl-counts/thp1_t_3_introns.txt.summary\n",
      "\u001b[1;30m[INFO   ]\u001b[0m         multiqc : Searching   : /data_gilbert/home/aarab/Projects/Decitabine-treatment/RNA-seq/stbl-counts/thp1_u_1_introns.txt.summary\n",
      "\u001b[1;30m[INFO   ]\u001b[0m         multiqc : Searching   : /data_gilbert/home/aarab/Projects/Decitabine-treatment/RNA-seq/stbl-counts/thp1_u_2_introns.txt.summary\n",
      "\u001b[1;30m[INFO   ]\u001b[0m         multiqc : Searching   : /data_gilbert/home/aarab/Projects/Decitabine-treatment/RNA-seq/stbl-counts/thp1_u_3_introns.txt.summary\n",
      "\u001b[?25lSearching 54 files..  [####################################]  100%          \u001b[?25h\n",
      "\u001b[1;30m[INFO   ]\u001b[0m  feature_counts : Found 54 reports\n",
      "\u001b[1;30m[INFO   ]\u001b[0m         multiqc : Compressing plot data\n",
      "\u001b[1;30m[WARNING]\u001b[0m         multiqc : \u001b[33mDeleting    : QC-reports/counts-introns-multiqc.html   (-f was specified)\u001b[0m\n",
      "\u001b[1;30m[INFO   ]\u001b[0m         multiqc : Report      : QC-reports/counts-introns-multiqc.html\n",
      "\u001b[1;30m[INFO   ]\u001b[0m         multiqc : Data        : QC-reports/counts-introns-multiqc_data\n",
      "\u001b[1;30m[INFO   ]\u001b[0m         multiqc : MultiQC complete\n"
     ]
    }
   ],
   "source": [
    "!multiqc stbl-counts/*_exons.txt.summary -f -n QC-reports/counts-exons-multiqc.html\n",
    "!multiqc stbl-counts/*_introns.txt.summary -f -n QC-reports/counts-introns-multiqc.html"
   ]
  },
  {
   "cell_type": "markdown",
   "metadata": {},
   "source": [
    "**Step 4. Normalization** - REMBRANDTS"
   ]
  },
  {
   "cell_type": "markdown",
   "metadata": {
    "tags": []
   },
   "source": [
    "## Run REMBRANDTS\n",
    "#### REMoving Bias from Rna-seq ANalysis of Differential Transcript Stability\n",
    "> [REMBRANDTS](https://github.com/csglab/REMBRANDTS) is a package for analysis of RNA-seq data across multiple samples in order to obtain unbiased estimates of differential mRNA stability. It uses DESeq to obtain estimates of differential pre-mRNA and mature mRNA abundance across samples, and then estimates a gene-specific bias function that is then subtracted from Δexon–Δintron to provide unbiased differential mRNA stability measures.\n",
    "\n"
   ]
  },
  {
   "cell_type": "code",
   "execution_count": 1,
   "metadata": {},
   "outputs": [],
   "source": [
    "import os\n",
    "import subprocess\n",
    "import glob\n",
    "import warnings\n",
    "import pandas as pd\n",
    "import numpy as np\n",
    "\n",
    "# from rpy2.rinterface import RRuntimeWarning\n",
    "# warnings.filterwarnings(\"ignore\")\n",
    "# warnings.filterwarnings(\"ignore\", category=RRuntimeWarning)"
   ]
  },
  {
   "cell_type": "markdown",
   "metadata": {},
   "source": [
    "Prepare inputs:"
   ]
  },
  {
   "cell_type": "code",
   "execution_count": 4,
   "metadata": {},
   "outputs": [],
   "source": [
    "def make_interon_exon_df(stbldir,samples):\n",
    "    # list path to intron and exon count files \n",
    "    exon_count_files = glob.glob(f'{stbldir}/*_exons.txt')\n",
    "    intron_count_files = glob.glob(f'{stbldir}/*_introns.txt')\n",
    "    # define gene_ids for each count results for exon and intron \n",
    "    exon_gene_ids = pd.read_table(exon_count_files[0], skiprows=1)['Geneid'].tolist()\n",
    "    intron_gene_ids = pd.read_table(intron_count_files[0], skiprows=1)['Geneid'].tolist()\n",
    "    \n",
    "    # read all count tables into one dataframe \n",
    "    df_exon = pd.DataFrame({}, index=exon_gene_ids)\n",
    "    df_intron = pd.DataFrame({}, index=intron_gene_ids)\n",
    "\n",
    "    for f in exon_count_files:\n",
    "        counts = pd.read_table(f, skiprows=1).iloc[:, -1].tolist()\n",
    "        f_n = f.split('/')[-1].replace('_exons.txt', '')\n",
    "        df_exon[f_n] = counts\n",
    "    for f in intron_count_files:\n",
    "        counts = pd.read_table(f, skiprows=1).iloc[:, -1].tolist()\n",
    "        f_n = f.split('/')[-1].replace('_introns.txt', '')\n",
    "        df_intron[f_n] = counts\n",
    "\n",
    "    # reorder in to same column order as the meta table rows \n",
    "    df_exon = df_exon[samples] \n",
    "    df_intron = df_intron[samples] \n",
    "\n",
    "    # select overlap gene_ids\n",
    "    overlaps = list(set(df_exon.index)&set(df_intron.index))\n",
    "    # subset by overlap gene_ids \n",
    "    df_exon = df_exon.loc[overlaps, ]\n",
    "    df_intron = df_intron.loc[overlaps, ]\n",
    "    df_intron = df_intron.loc[df_exon.index.tolist(),:]\n",
    "    return df_exon, df_intron\n",
    "\n",
    "\n",
    "def write_inputs(stbldir, df_exon, df_intron):\n",
    "    # write input counts \n",
    "    for c in samples:\n",
    "        df_exon.loc[:, c].to_csv(f'{stbldir}/{c}_exons.ol.txt', sep='\\t', header=None)    \n",
    "        df_intron.loc[:, c].to_csv(f'{stbldir}/{c}_introns.ol.txt', sep='\\t', header=None)\n",
    "\n",
    "    ### Prepare REMBRANDTS inputs\n",
    "    # make meta data for running REMBRANDTS\n",
    "    labels = np.repeat(df_exon.columns.tolist(), 2)\n",
    "    files = [f'{labels[i]}_exons.ol.txt' if i%2==0 else f'{labels[i]}_introns.ol.txt' for i in range(len(labels))]\n",
    "    readtypes = ['exonic' if i%2==0 else 'intronic' for i in range(len(labels))]\n",
    "    meta = pd.DataFrame({'Label':labels, 'File':files, 'ReadType':readtypes, 'Batch':1})\n",
    "    meta.to_csv(f'{stbldir}/input_table.txt', index=False, sep='\\t')"
   ]
  },
  {
   "cell_type": "code",
   "execution_count": 5,
   "metadata": {},
   "outputs": [],
   "source": [
    "samples = [b.split('/')[-1].replace('.bam','') for b in glob.glob('bam/*.bam')]"
   ]
  },
  {
   "cell_type": "code",
   "execution_count": 6,
   "metadata": {},
   "outputs": [],
   "source": [
    "df_exon, df_intron = make_interon_exon_df('stbl-counts',samples)\n",
    "\n",
    "write_inputs('stbl-counts', df_exon, df_intron)"
   ]
  },
  {
   "cell_type": "markdown",
   "metadata": {},
   "source": [
    "`stbl` env"
   ]
  },
  {
   "cell_type": "markdown",
   "metadata": {},
   "source": [
    "Run REMBRANDTS"
   ]
  },
  {
   "cell_type": "code",
   "execution_count": 10,
   "metadata": {},
   "outputs": [],
   "source": [
    "workdir = os.getcwd()\n",
    "countdir = f'{workdir}/stbl-counts'\n",
    "outdir = f'{workdir}/stbl-output'"
   ]
  },
  {
   "cell_type": "code",
   "execution_count": 11,
   "metadata": {},
   "outputs": [
    {
     "data": {
      "text/plain": [
       "'bash REMBRANDTS.sh Decitabine /data_gilbert/home/aarab/Projects/Decitabine-treatment/RNA-seq/stbl-counts/input_table.txt /data_gilbert/home/aarab/Projects/Decitabine-treatment/RNA-seq/stbl-counts/ 0.99 linear'"
      ]
     },
     "execution_count": 11,
     "metadata": {},
     "output_type": "execute_result"
    }
   ],
   "source": [
    "# Run REMBRANDTS\n",
    "os.chdir('/data_gilbert/home/aarab/REMBRANDTS')\n",
    "cmd = f'bash REMBRANDTS.sh Decitabine {countdir}/input_table.txt {countdir}/ 0.99 linear'\n",
    "cmd\n",
    "# subprocess.call(cmd , shell=True)"
   ]
  },
  {
   "cell_type": "code",
   "execution_count": 12,
   "metadata": {},
   "outputs": [
    {
     "name": "stdout",
     "output_type": "stream",
     "text": [
      "\n",
      "********************************** Finished **********************************\n",
      "\n"
     ]
    }
   ],
   "source": [
    "# # remove results from previous run \n",
    "# subprocess.call(f'rm -rv {outdir}', shell=True)\n",
    "subprocess.call(f'mkdir -p {outdir}', shell=True)\n",
    "subprocess.call(f'mv -v ./out/Decitabine/* {outdir}', shell=True)\n",
    "os.chdir(workdir)\n",
    "\n",
    "print('\\n********************************** Finished **********************************\\n')"
   ]
  },
  {
   "cell_type": "code",
   "execution_count": 17,
   "metadata": {},
   "outputs": [],
   "source": [
    "out = pd.read_table(f'{outdir}/stability.filtered.mx.txt', index_col=0)"
   ]
  },
  {
   "cell_type": "code",
   "execution_count": 23,
   "metadata": {},
   "outputs": [
    {
     "data": {
      "text/plain": [
       "[('hl60_120h_u_1.x', 'hl60_120h_u_1'),\n",
       " ('hl60_120h_u_2.x', 'hl60_120h_u_2'),\n",
       " ('hl60_120h_t_1.x', 'hl60_120h_t_1'),\n",
       " ('hl60_120h_t_2.x', 'hl60_120h_t_2'),\n",
       " ('hl60_6h_u_1.x', 'hl60_6h_u_1'),\n",
       " ('hl60_6h_u_2.x', 'hl60_6h_u_2'),\n",
       " ('hl60_6h_t_1.x', 'hl60_6h_t_1'),\n",
       " ('hl60_6h_t_2.x', 'hl60_6h_t_2'),\n",
       " ('hl60_72h_u_1.x', 'hl60_72h_u_1'),\n",
       " ('hl60_72h_u_2.x', 'hl60_72h_u_2'),\n",
       " ('hl60_72h_t_1.x', 'hl60_72h_t_1'),\n",
       " ('hl60_72h_t_2.x', 'hl60_72h_t_2'),\n",
       " ('kg1_t_1.x', 'kg1_t_1'),\n",
       " ('kg1_t_2.x', 'kg1_t_2'),\n",
       " ('kg1_t_3.x', 'kg1_t_3'),\n",
       " ('kg1_u_1.x', 'kg1_u_1'),\n",
       " ('kg1_u_2.x', 'kg1_u_2'),\n",
       " ('kg1_u_3.x', 'kg1_u_3'),\n",
       " ('molm14_t_1.x', 'molm14_t_1'),\n",
       " ('molm14_t_2.x', 'molm14_t_2'),\n",
       " ('molm14_t_3.x', 'molm14_t_3'),\n",
       " ('molm14_u_1.x', 'molm14_u_1'),\n",
       " ('molm14_u_2.x', 'molm14_u_2'),\n",
       " ('molm14_u_3.x', 'molm14_u_3'),\n",
       " ('ociaml2_t_1.x', 'ociaml2_t_1'),\n",
       " ('ociaml2_t_2.x', 'ociaml2_t_2'),\n",
       " ('ociaml2_t_3.x', 'ociaml2_t_3'),\n",
       " ('ociaml2_u_1.x', 'ociaml2_u_1'),\n",
       " ('ociaml2_u_2.x', 'ociaml2_u_2'),\n",
       " ('ociaml2_u_3.x', 'ociaml2_u_3'),\n",
       " ('ociaml3_t_1.x', 'ociaml3_t_1'),\n",
       " ('ociaml3_t_2.x', 'ociaml3_t_2'),\n",
       " ('ociaml3_t_3.x', 'ociaml3_t_3'),\n",
       " ('ociaml3_u_1.x', 'ociaml3_u_1'),\n",
       " ('ociaml3_u_2.x', 'ociaml3_u_2'),\n",
       " ('ociaml3_u_3.x', 'ociaml3_u_3'),\n",
       " ('thp1_t_1.x', 'thp1_t_1'),\n",
       " ('thp1_t_2.x', 'thp1_t_2'),\n",
       " ('thp1_t_3.x', 'thp1_t_3'),\n",
       " ('thp1_u_1.x', 'thp1_u_1'),\n",
       " ('thp1_u_2.x', 'thp1_u_2'),\n",
       " ('thp1_u_3.x', 'thp1_u_3')]"
      ]
     },
     "execution_count": 23,
     "metadata": {},
     "output_type": "execute_result"
    }
   ],
   "source": [
    "[(x,y) for x,y in zip(out.columns,samples)]"
   ]
  },
  {
   "cell_type": "code",
   "execution_count": null,
   "metadata": {},
   "outputs": [],
   "source": [
    "out.columns = samples\n",
    "out.to_csv('stbl/REMBRANDTS.txt', sep='\\t')"
   ]
  },
  {
   "cell_type": "code",
   "execution_count": 15,
   "metadata": {},
   "outputs": [
    {
     "data": {
      "text/plain": [
       "(2776, 42)"
      ]
     },
     "execution_count": 15,
     "metadata": {},
     "output_type": "execute_result"
    }
   ],
   "source": [
    "out.shape"
   ]
  },
  {
   "cell_type": "code",
   "execution_count": 16,
   "metadata": {},
   "outputs": [
    {
     "name": "stdout",
     "output_type": "stream",
     "text": [
      "Wed Dec 15 00:31:52 PST 2021\n"
     ]
    }
   ],
   "source": [
    "!date"
   ]
  },
  {
   "cell_type": "markdown",
   "metadata": {},
   "source": [
    "All done!"
   ]
  }
 ],
 "metadata": {
  "kernelspec": {
   "display_name": "Python [conda env:down]",
   "language": "python",
   "name": "conda-env-down-py"
  },
  "language_info": {
   "codemirror_mode": {
    "name": "ipython",
    "version": 3
   },
   "file_extension": ".py",
   "mimetype": "text/x-python",
   "name": "python",
   "nbconvert_exporter": "python",
   "pygments_lexer": "ipython3",
   "version": "3.6.13"
  }
 },
 "nbformat": 4,
 "nbformat_minor": 4
}
