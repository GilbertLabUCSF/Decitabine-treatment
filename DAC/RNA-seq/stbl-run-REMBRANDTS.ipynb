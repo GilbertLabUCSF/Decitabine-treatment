{
 "cells": [
  {
   "cell_type": "code",
   "execution_count": 19,
   "metadata": {},
   "outputs": [
    {
     "name": "stdout",
     "output_type": "stream",
     "text": [
      "index=$1\n",
      "fastqDIR=$2\n",
      "bamDIR=$3\n",
      "JOBS=$4\n",
      "\n",
      "mkdir -p ${bamDIR}\n",
      "mkdir -p ${bamDIR}_star_qc\n",
      "\n",
      "STAR --genomeLoad LoadAndExit --genomeDir $index\n",
      "\n",
      "for fq in ${fastqDIR}/*fastq.gz; do\n",
      "    fq=`basename $fq`\n",
      "    out=${fq/.fastq.gz/}\n",
      "    echo '------------' $out '-----------'\n",
      "    STAR \\\n",
      "    --outSAMtype BAM SortedByCoordinate \\\n",
      "    --readFilesCommand zcat \\\n",
      "    --runThreadN $JOBS \\\n",
      "    --genomeDir $index \\\n",
      "    --readFilesIn ${fastqDIR}/$fq \\\n",
      "    --outFileNamePrefix ${bamDIR}/$out\n",
      "    \n",
      "    mv -v ${bamDIR}/${out}Aligned.sortedByCoord.out.bam ${bamDIR}/${out}.bam\n",
      "    mv -v ${bamDIR}/${out}Log.final.out ${bamDIR}_star_qc/\n",
      "    rm -v ${bamDIR}/${out}*out*\n",
      "    rm -r ${bamDIR}/${out}_STARtmp/\n",
      "    \n",
      "done\n",
      "\n",
      "STAR --genomeLoad Remove --genomeDir $index\n",
      "\n",
      "rm -r _STARtmp/ Log.out Log.progress.out Aligned.out.sam\n"
     ]
    }
   ],
   "source": [
    "cat scripts/star.sh"
   ]
  },
  {
   "cell_type": "code",
   "execution_count": 23,
   "metadata": {
    "tags": []
   },
   "outputs": [],
   "source": [
    "mv fastq/new/molm13_u_1.fastq.gz fastq/"
   ]
  },
  {
   "cell_type": "code",
   "execution_count": 28,
   "metadata": {},
   "outputs": [
    {
     "name": "stdout",
     "output_type": "stream",
     "text": [
      "Aug 28 17:34:22 ..... started STAR run\n",
      "Aug 28 17:34:22 ..... loading genome\n",
      "------------ molm13_t_2 -----------\n",
      "Aug 28 17:34:22 ..... started STAR run\n",
      "Aug 28 17:34:22 ..... loading genome\n",
      "Aug 28 17:35:01 ..... started mapping\n",
      "Aug 28 17:45:53 ..... finished mapping\n",
      "Aug 28 17:46:00 ..... started sorting BAM\n",
      "Aug 28 17:47:32 ..... finished successfully\n",
      "‘bam/molm13_t_2Aligned.sortedByCoord.out.bam’ -> ‘bam/molm13_t_2.bam’\n",
      "‘bam/molm13_t_2Log.final.out’ -> ‘bam_star_qc/molm13_t_2Log.final.out’\n",
      "removed ‘bam/molm13_t_2Log.out’\n",
      "removed ‘bam/molm13_t_2Log.progress.out’\n",
      "removed ‘bam/molm13_t_2SJ.out.tab’\n",
      "------------ molm13_t_3 -----------\n",
      "Aug 28 17:47:43 ..... started STAR run\n",
      "Aug 28 17:47:43 ..... loading genome\n",
      "Aug 28 17:48:06 ..... started mapping\n",
      "Aug 28 17:58:40 ..... finished mapping\n",
      "Aug 28 17:58:46 ..... started sorting BAM\n",
      "Aug 28 18:00:17 ..... finished successfully\n",
      "‘bam/molm13_t_3Aligned.sortedByCoord.out.bam’ -> ‘bam/molm13_t_3.bam’\n",
      "‘bam/molm13_t_3Log.final.out’ -> ‘bam_star_qc/molm13_t_3Log.final.out’\n",
      "removed ‘bam/molm13_t_3Log.out’\n",
      "removed ‘bam/molm13_t_3Log.progress.out’\n",
      "removed ‘bam/molm13_t_3SJ.out.tab’\n",
      "------------ molm13_u_2 -----------\n",
      "Aug 28 18:00:27 ..... started STAR run\n",
      "Aug 28 18:00:27 ..... loading genome\n",
      "Aug 28 18:00:49 ..... started mapping\n",
      "Aug 28 18:12:09 ..... finished mapping\n",
      "Aug 28 18:12:16 ..... started sorting BAM\n",
      "Aug 28 18:14:03 ..... finished successfully\n",
      "‘bam/molm13_u_2Aligned.sortedByCoord.out.bam’ -> ‘bam/molm13_u_2.bam’\n",
      "‘bam/molm13_u_2Log.final.out’ -> ‘bam_star_qc/molm13_u_2Log.final.out’\n",
      "removed ‘bam/molm13_u_2Log.out’\n",
      "removed ‘bam/molm13_u_2Log.progress.out’\n",
      "removed ‘bam/molm13_u_2SJ.out.tab’\n",
      "------------ molm13_u_3 -----------\n",
      "Aug 28 18:14:13 ..... started STAR run\n",
      "Aug 28 18:14:13 ..... loading genome\n",
      "Aug 28 18:14:36 ..... started mapping\n",
      "Aug 28 18:28:08 ..... finished mapping\n",
      "Aug 28 18:28:14 ..... started sorting BAM\n",
      "Aug 28 18:30:11 ..... finished successfully\n",
      "‘bam/molm13_u_3Aligned.sortedByCoord.out.bam’ -> ‘bam/molm13_u_3.bam’\n",
      "‘bam/molm13_u_3Log.final.out’ -> ‘bam_star_qc/molm13_u_3Log.final.out’\n",
      "removed ‘bam/molm13_u_3Log.out’\n",
      "removed ‘bam/molm13_u_3Log.progress.out’\n",
      "removed ‘bam/molm13_u_3SJ.out.tab’\n",
      "------------ skm1_t_1 -----------\n",
      "Aug 28 18:30:22 ..... started STAR run\n",
      "Aug 28 18:30:22 ..... loading genome\n",
      "Aug 28 18:30:45 ..... started mapping\n",
      "Aug 28 18:41:04 ..... finished mapping\n",
      "Aug 28 18:41:10 ..... started sorting BAM\n",
      "Aug 28 18:42:42 ..... finished successfully\n",
      "‘bam/skm1_t_1Aligned.sortedByCoord.out.bam’ -> ‘bam/skm1_t_1.bam’\n",
      "‘bam/skm1_t_1Log.final.out’ -> ‘bam_star_qc/skm1_t_1Log.final.out’\n",
      "removed ‘bam/skm1_t_1Log.out’\n",
      "removed ‘bam/skm1_t_1Log.progress.out’\n",
      "removed ‘bam/skm1_t_1SJ.out.tab’\n",
      "------------ skm1_t_2 -----------\n",
      "Aug 28 18:42:50 ..... started STAR run\n",
      "Aug 28 18:42:50 ..... loading genome\n",
      "Aug 28 18:43:12 ..... started mapping\n",
      "Aug 28 18:52:11 ..... finished mapping\n",
      "Aug 28 18:52:16 ..... started sorting BAM\n",
      "Aug 28 18:53:39 ..... finished successfully\n",
      "‘bam/skm1_t_2Aligned.sortedByCoord.out.bam’ -> ‘bam/skm1_t_2.bam’\n",
      "‘bam/skm1_t_2Log.final.out’ -> ‘bam_star_qc/skm1_t_2Log.final.out’\n",
      "removed ‘bam/skm1_t_2Log.out’\n",
      "removed ‘bam/skm1_t_2Log.progress.out’\n",
      "removed ‘bam/skm1_t_2SJ.out.tab’\n",
      "------------ skm1_t_3 -----------\n",
      "Aug 28 18:53:47 ..... started STAR run\n",
      "Aug 28 18:53:47 ..... loading genome\n",
      "Aug 28 18:54:12 ..... started mapping\n",
      "Aug 28 19:05:08 ..... finished mapping\n",
      "Aug 28 19:05:15 ..... started sorting BAM\n",
      "Aug 28 19:06:50 ..... finished successfully\n",
      "‘bam/skm1_t_3Aligned.sortedByCoord.out.bam’ -> ‘bam/skm1_t_3.bam’\n",
      "‘bam/skm1_t_3Log.final.out’ -> ‘bam_star_qc/skm1_t_3Log.final.out’\n",
      "removed ‘bam/skm1_t_3Log.out’\n",
      "removed ‘bam/skm1_t_3Log.progress.out’\n",
      "removed ‘bam/skm1_t_3SJ.out.tab’\n",
      "------------ skm1_u_1 -----------\n",
      "Aug 28 19:06:59 ..... started STAR run\n",
      "Aug 28 19:06:59 ..... loading genome\n",
      "Aug 28 19:07:24 ..... started mapping\n",
      "Aug 28 19:34:45 ..... finished successfully\n",
      "‘bam/skm1_u_2Aligned.sortedByCoord.out.bam’ -> ‘bam/skm1_u_2.bam’\n",
      "‘bam/skm1_u_2Log.final.out’ -> ‘bam_star_qc/skm1_u_2Log.final.out’\n",
      "removed ‘bam/skm1_u_2Log.out’\n",
      "removed ‘bam/skm1_u_2Log.progress.out’\n",
      "removed ‘bam/skm1_u_2SJ.out.tab’\n",
      "------------ skm1_u_3 -----------\n",
      "Aug 28 19:34:55 ..... started STAR run\n",
      "Aug 28 19:34:55 ..... loading genome\n",
      "Aug 28 19:35:19 ..... started mapping\n",
      "Aug 28 19:49:23 ..... finished mapping\n",
      "Aug 28 19:49:29 ..... started sorting BAM\n",
      "Aug 28 19:51:41 ..... finished successfully\n",
      "‘bam/skm1_u_3Aligned.sortedByCoord.out.bam’ -> ‘bam/skm1_u_3.bam’\n",
      "‘bam/skm1_u_3Log.final.out’ -> ‘bam_star_qc/skm1_u_3Log.final.out’\n",
      "removed ‘bam/skm1_u_3Log.out’\n",
      "removed ‘bam/skm1_u_3Log.progress.out’\n",
      "removed ‘bam/skm1_u_3SJ.out.tab’\n",
      "Aug 28 19:51:54 ..... started STAR run\n",
      "Aug 28 19:51:54 ..... loading genome\n"
     ]
    }
   ],
   "source": [
    "!bash scripts/star.sh \\\n",
    "    /data_gilbert/home/aarab/genomes/hg38/gencode.v34/star_index/ \\\n",
    "    fastq/new bam 9"
   ]
  },
  {
   "cell_type": "markdown",
   "metadata": {
    "tags": []
   },
   "source": [
    "## CRIES\n",
    "### Counting Reads for Intronic and Exonic Segments\n",
    "https://github.com/csglab/CRIES\n",
    "\n",
    "\n"
   ]
  },
  {
   "cell_type": "markdown",
   "metadata": {},
   "source": [
    "my `alignment` conda environment "
   ]
  },
  {
   "cell_type": "markdown",
   "metadata": {
    "tags": []
   },
   "source": [
    "**Step 1. Creating GTF annotation files**\n",
    "\n",
    "Intron and exon annotations for `gencode.v34` made within my notebook named `build-genome.ipynb`. \n",
    "\n",
    "**Step 2. Mapping reads**\n",
    "\n",
    "`STAR` \n",
    "\n",
    "**Step 3. Counting reads that map to intronic or exonic segments of each gene**\n",
    "\n",
    "`featureCounts`\n",
    "http://bioinf.wehi.edu.au/featureCounts/"
   ]
  },
  {
   "cell_type": "code",
   "execution_count": 1,
   "metadata": {},
   "outputs": [
    {
     "name": "stdout",
     "output_type": "stream",
     "text": [
      "#loop featureCounts intron and exon counts\n",
      "\n",
      "PDIR=$1\n",
      "bamDIR=$2\n",
      "countDIR=$3\n",
      "logDIR=$4\n",
      "JOBS=$5\n",
      "\n",
      "cd $PDIR\n",
      "\n",
      "GTF_index='/data_gilbert/home/aarab/genomes/hg38/hg38_ensemble_'\n",
      "\n",
      "mkdir -p $countDIR\n",
      "mkdir -p $logDIR\n",
      "\n",
      "for f in ${bamDIR}/*.bam; do\n",
      "    base=`basename $f`\n",
      "    sample=${base/.bam/};\n",
      "    echo -e '----------------------- ' $sample  ' -----------------------'\n",
      "    echo `date` \n",
      "    featureCounts -M -T $JOBS -t intron -g gene_id -a ${GTF_index}introns.gtf -o ${countDIR}/${sample}_introns.txt ${f} &> ${logDIR}/${sample}_introns.log\n",
      "    featureCounts -M -T $JOBS -t exon -g gene_id -a ${GTF_index}consExons.gtf -o ${countDIR}/${sample}_exons.txt ${f} &> ${logDIR}/${sample}_exons.log\n",
      "    echo `date` Done!\n",
      "done\n"
     ]
    }
   ],
   "source": [
    "cat scripts/intron_exon_counts.sh"
   ]
  },
  {
   "cell_type": "code",
   "execution_count": 53,
   "metadata": {},
   "outputs": [
    {
     "name": "stdout",
     "output_type": "stream",
     "text": [
      "-----------------------  molm13_t_1  -----------------------\n",
      "Mon Aug 28 20:24:50 PDT 2023\n",
      "Mon Aug 28 20:25:52 PDT 2023 Done!\n",
      "-----------------------  molm13_t_2  -----------------------\n",
      "Mon Aug 28 20:25:52 PDT 2023\n",
      "Mon Aug 28 20:27:07 PDT 2023 Done!\n",
      "-----------------------  molm13_t_3  -----------------------\n",
      "Mon Aug 28 20:27:07 PDT 2023\n",
      "Mon Aug 28 20:28:23 PDT 2023 Done!\n",
      "-----------------------  molm13_u_1  -----------------------\n",
      "Mon Aug 28 20:28:23 PDT 2023\n",
      "Mon Aug 28 20:29:33 PDT 2023 Done!\n",
      "-----------------------  molm13_u_2  -----------------------\n",
      "Mon Aug 28 20:29:33 PDT 2023\n",
      "Mon Aug 28 20:30:58 PDT 2023 Done!\n",
      "-----------------------  molm13_u_3  -----------------------\n",
      "Mon Aug 28 20:30:58 PDT 2023\n",
      "Mon Aug 28 20:32:34 PDT 2023 Done!\n",
      "-----------------------  skm1_t_1  -----------------------\n",
      "Mon Aug 28 20:32:34 PDT 2023\n",
      "Mon Aug 28 20:33:43 PDT 2023 Done!\n",
      "-----------------------  skm1_t_2  -----------------------\n",
      "Mon Aug 28 20:33:43 PDT 2023\n",
      "Mon Aug 28 20:34:47 PDT 2023 Done!\n",
      "-----------------------  skm1_t_3  -----------------------\n",
      "Mon Aug 28 20:34:47 PDT 2023\n",
      "Mon Aug 28 20:36:00 PDT 2023 Done!\n",
      "-----------------------  skm1_u_1  -----------------------\n",
      "Mon Aug 28 20:36:00 PDT 2023\n",
      "Mon Aug 28 20:37:26 PDT 2023 Done!\n",
      "-----------------------  skm1_u_2  -----------------------\n",
      "Mon Aug 28 20:37:26 PDT 2023\n",
      "Mon Aug 28 20:38:47 PDT 2023 Done!\n",
      "-----------------------  skm1_u_3  -----------------------\n",
      "Mon Aug 28 20:38:47 PDT 2023\n",
      "Mon Aug 28 20:40:20 PDT 2023 Done!\n"
     ]
    }
   ],
   "source": [
    "!bash scripts/intron_exon_counts.sh . bam_new stbl-counts stbl-log 4 \n",
    "# nohup > stbl_count.out "
   ]
  },
  {
   "cell_type": "markdown",
   "metadata": {},
   "source": [
    "Note that `$countDIR` is `./stbl-counts`"
   ]
  },
  {
   "cell_type": "markdown",
   "metadata": {
    "tags": []
   },
   "source": [
    "### Run multiQC"
   ]
  },
  {
   "cell_type": "code",
   "execution_count": 2,
   "metadata": {
    "collapsed": true,
    "jupyter": {
     "outputs_hidden": true
    },
    "tags": []
   },
   "outputs": [
    {
     "name": "stdout",
     "output_type": "stream",
     "text": [
      "\u001b[1;30m[INFO   ]\u001b[0m         multiqc : This is MultiQC v1.9\n",
      "\u001b[1;30m[INFO   ]\u001b[0m         multiqc : Template    : default\n",
      "\u001b[1;30m[INFO   ]\u001b[0m         multiqc : Searching   : /data_gilbert/home/aarab/Projects/Decitabine-treatment/RNA-seq/stbl-counts/120h_DMSO_rep1_exons.txt.summary\n",
      "\u001b[1;30m[INFO   ]\u001b[0m         multiqc : Searching   : /data_gilbert/home/aarab/Projects/Decitabine-treatment/RNA-seq/stbl-counts/120h_DMSO_rep2_exons.txt.summary\n",
      "\u001b[1;30m[INFO   ]\u001b[0m         multiqc : Searching   : /data_gilbert/home/aarab/Projects/Decitabine-treatment/RNA-seq/stbl-counts/120h_treated_rep1_exons.txt.summary\n",
      "\u001b[1;30m[INFO   ]\u001b[0m         multiqc : Searching   : /data_gilbert/home/aarab/Projects/Decitabine-treatment/RNA-seq/stbl-counts/120h_treated_rep2_exons.txt.summary\n",
      "\u001b[1;30m[INFO   ]\u001b[0m         multiqc : Searching   : /data_gilbert/home/aarab/Projects/Decitabine-treatment/RNA-seq/stbl-counts/6h_DMSO_rep1_exons.txt.summary\n",
      "\u001b[1;30m[INFO   ]\u001b[0m         multiqc : Searching   : /data_gilbert/home/aarab/Projects/Decitabine-treatment/RNA-seq/stbl-counts/6h_DMSO_rep2_exons.txt.summary\n",
      "\u001b[1;30m[INFO   ]\u001b[0m         multiqc : Searching   : /data_gilbert/home/aarab/Projects/Decitabine-treatment/RNA-seq/stbl-counts/6h_treated_rep1_exons.txt.summary\n",
      "\u001b[1;30m[INFO   ]\u001b[0m         multiqc : Searching   : /data_gilbert/home/aarab/Projects/Decitabine-treatment/RNA-seq/stbl-counts/6h_treated_rep2_exons.txt.summary\n",
      "\u001b[1;30m[INFO   ]\u001b[0m         multiqc : Searching   : /data_gilbert/home/aarab/Projects/Decitabine-treatment/RNA-seq/stbl-counts/72h_DMSO_rep1_exons.txt.summary\n",
      "\u001b[1;30m[INFO   ]\u001b[0m         multiqc : Searching   : /data_gilbert/home/aarab/Projects/Decitabine-treatment/RNA-seq/stbl-counts/72h_DMSO_rep2_exons.txt.summary\n",
      "\u001b[1;30m[INFO   ]\u001b[0m         multiqc : Searching   : /data_gilbert/home/aarab/Projects/Decitabine-treatment/RNA-seq/stbl-counts/72h_treated_rep1_exons.txt.summary\n",
      "\u001b[1;30m[INFO   ]\u001b[0m         multiqc : Searching   : /data_gilbert/home/aarab/Projects/Decitabine-treatment/RNA-seq/stbl-counts/72h_treated_rep2_exons.txt.summary\n",
      "\u001b[1;30m[INFO   ]\u001b[0m         multiqc : Searching   : /data_gilbert/home/aarab/Projects/Decitabine-treatment/RNA-seq/stbl-counts/hl60_120h_t_1_exons.txt.summary\n",
      "\u001b[1;30m[INFO   ]\u001b[0m         multiqc : Searching   : /data_gilbert/home/aarab/Projects/Decitabine-treatment/RNA-seq/stbl-counts/hl60_120h_t_2_exons.txt.summary\n",
      "\u001b[1;30m[INFO   ]\u001b[0m         multiqc : Searching   : /data_gilbert/home/aarab/Projects/Decitabine-treatment/RNA-seq/stbl-counts/hl60_120h_u_1_exons.txt.summary\n",
      "\u001b[1;30m[INFO   ]\u001b[0m         multiqc : Searching   : /data_gilbert/home/aarab/Projects/Decitabine-treatment/RNA-seq/stbl-counts/hl60_120h_u_2_exons.txt.summary\n",
      "\u001b[1;30m[INFO   ]\u001b[0m         multiqc : Searching   : /data_gilbert/home/aarab/Projects/Decitabine-treatment/RNA-seq/stbl-counts/hl60_6h_t_1_exons.txt.summary\n",
      "\u001b[1;30m[INFO   ]\u001b[0m         multiqc : Searching   : /data_gilbert/home/aarab/Projects/Decitabine-treatment/RNA-seq/stbl-counts/hl60_6h_t_2_exons.txt.summary\n",
      "\u001b[1;30m[INFO   ]\u001b[0m         multiqc : Searching   : /data_gilbert/home/aarab/Projects/Decitabine-treatment/RNA-seq/stbl-counts/hl60_6h_u_1_exons.txt.summary\n",
      "\u001b[1;30m[INFO   ]\u001b[0m         multiqc : Searching   : /data_gilbert/home/aarab/Projects/Decitabine-treatment/RNA-seq/stbl-counts/hl60_6h_u_2_exons.txt.summary\n",
      "\u001b[1;30m[INFO   ]\u001b[0m         multiqc : Searching   : /data_gilbert/home/aarab/Projects/Decitabine-treatment/RNA-seq/stbl-counts/hl60_72h_t_1_exons.txt.summary\n",
      "\u001b[1;30m[INFO   ]\u001b[0m         multiqc : Searching   : /data_gilbert/home/aarab/Projects/Decitabine-treatment/RNA-seq/stbl-counts/hl60_72h_t_2_exons.txt.summary\n",
      "\u001b[1;30m[INFO   ]\u001b[0m         multiqc : Searching   : /data_gilbert/home/aarab/Projects/Decitabine-treatment/RNA-seq/stbl-counts/hl60_72h_u_1_exons.txt.summary\n",
      "\u001b[1;30m[INFO   ]\u001b[0m         multiqc : Searching   : /data_gilbert/home/aarab/Projects/Decitabine-treatment/RNA-seq/stbl-counts/hl60_72h_u_2_exons.txt.summary\n",
      "\u001b[1;30m[INFO   ]\u001b[0m         multiqc : Searching   : /data_gilbert/home/aarab/Projects/Decitabine-treatment/RNA-seq/stbl-counts/kg1_t_1_exons.txt.summary\n",
      "\u001b[1;30m[INFO   ]\u001b[0m         multiqc : Searching   : /data_gilbert/home/aarab/Projects/Decitabine-treatment/RNA-seq/stbl-counts/kg1_t_2_exons.txt.summary\n",
      "\u001b[1;30m[INFO   ]\u001b[0m         multiqc : Searching   : /data_gilbert/home/aarab/Projects/Decitabine-treatment/RNA-seq/stbl-counts/kg1_t_3_exons.txt.summary\n",
      "\u001b[1;30m[INFO   ]\u001b[0m         multiqc : Searching   : /data_gilbert/home/aarab/Projects/Decitabine-treatment/RNA-seq/stbl-counts/kg1_u_1_exons.txt.summary\n",
      "\u001b[1;30m[INFO   ]\u001b[0m         multiqc : Searching   : /data_gilbert/home/aarab/Projects/Decitabine-treatment/RNA-seq/stbl-counts/kg1_u_2_exons.txt.summary\n",
      "\u001b[1;30m[INFO   ]\u001b[0m         multiqc : Searching   : /data_gilbert/home/aarab/Projects/Decitabine-treatment/RNA-seq/stbl-counts/kg1_u_3_exons.txt.summary\n",
      "\u001b[1;30m[INFO   ]\u001b[0m         multiqc : Searching   : /data_gilbert/home/aarab/Projects/Decitabine-treatment/RNA-seq/stbl-counts/molm14_t_1_exons.txt.summary\n",
      "\u001b[1;30m[INFO   ]\u001b[0m         multiqc : Searching   : /data_gilbert/home/aarab/Projects/Decitabine-treatment/RNA-seq/stbl-counts/molm14_t_2_exons.txt.summary\n",
      "\u001b[1;30m[INFO   ]\u001b[0m         multiqc : Searching   : /data_gilbert/home/aarab/Projects/Decitabine-treatment/RNA-seq/stbl-counts/molm14_t_3_exons.txt.summary\n",
      "\u001b[1;30m[INFO   ]\u001b[0m         multiqc : Searching   : /data_gilbert/home/aarab/Projects/Decitabine-treatment/RNA-seq/stbl-counts/molm14_u_1_exons.txt.summary\n",
      "\u001b[1;30m[INFO   ]\u001b[0m         multiqc : Searching   : /data_gilbert/home/aarab/Projects/Decitabine-treatment/RNA-seq/stbl-counts/molm14_u_2_exons.txt.summary\n",
      "\u001b[1;30m[INFO   ]\u001b[0m         multiqc : Searching   : /data_gilbert/home/aarab/Projects/Decitabine-treatment/RNA-seq/stbl-counts/molm14_u_3_exons.txt.summary\n",
      "\u001b[1;30m[INFO   ]\u001b[0m         multiqc : Searching   : /data_gilbert/home/aarab/Projects/Decitabine-treatment/RNA-seq/stbl-counts/ociaml2_t_1_exons.txt.summary\n",
      "\u001b[1;30m[INFO   ]\u001b[0m         multiqc : Searching   : /data_gilbert/home/aarab/Projects/Decitabine-treatment/RNA-seq/stbl-counts/ociaml2_t_2_exons.txt.summary\n",
      "\u001b[1;30m[INFO   ]\u001b[0m         multiqc : Searching   : /data_gilbert/home/aarab/Projects/Decitabine-treatment/RNA-seq/stbl-counts/ociaml2_t_3_exons.txt.summary\n",
      "\u001b[1;30m[INFO   ]\u001b[0m         multiqc : Searching   : /data_gilbert/home/aarab/Projects/Decitabine-treatment/RNA-seq/stbl-counts/ociaml2_u_1_exons.txt.summary\n",
      "\u001b[1;30m[INFO   ]\u001b[0m         multiqc : Searching   : /data_gilbert/home/aarab/Projects/Decitabine-treatment/RNA-seq/stbl-counts/ociaml2_u_2_exons.txt.summary\n",
      "\u001b[1;30m[INFO   ]\u001b[0m         multiqc : Searching   : /data_gilbert/home/aarab/Projects/Decitabine-treatment/RNA-seq/stbl-counts/ociaml2_u_3_exons.txt.summary\n",
      "\u001b[1;30m[INFO   ]\u001b[0m         multiqc : Searching   : /data_gilbert/home/aarab/Projects/Decitabine-treatment/RNA-seq/stbl-counts/ociaml3_t_1_exons.txt.summary\n",
      "\u001b[1;30m[INFO   ]\u001b[0m         multiqc : Searching   : /data_gilbert/home/aarab/Projects/Decitabine-treatment/RNA-seq/stbl-counts/ociaml3_t_2_exons.txt.summary\n",
      "\u001b[1;30m[INFO   ]\u001b[0m         multiqc : Searching   : /data_gilbert/home/aarab/Projects/Decitabine-treatment/RNA-seq/stbl-counts/ociaml3_t_3_exons.txt.summary\n",
      "\u001b[1;30m[INFO   ]\u001b[0m         multiqc : Searching   : /data_gilbert/home/aarab/Projects/Decitabine-treatment/RNA-seq/stbl-counts/ociaml3_u_1_exons.txt.summary\n",
      "\u001b[1;30m[INFO   ]\u001b[0m         multiqc : Searching   : /data_gilbert/home/aarab/Projects/Decitabine-treatment/RNA-seq/stbl-counts/ociaml3_u_2_exons.txt.summary\n",
      "\u001b[1;30m[INFO   ]\u001b[0m         multiqc : Searching   : /data_gilbert/home/aarab/Projects/Decitabine-treatment/RNA-seq/stbl-counts/ociaml3_u_3_exons.txt.summary\n",
      "\u001b[1;30m[INFO   ]\u001b[0m         multiqc : Searching   : /data_gilbert/home/aarab/Projects/Decitabine-treatment/RNA-seq/stbl-counts/thp1_t_1_exons.txt.summary\n",
      "\u001b[1;30m[INFO   ]\u001b[0m         multiqc : Searching   : /data_gilbert/home/aarab/Projects/Decitabine-treatment/RNA-seq/stbl-counts/thp1_t_2_exons.txt.summary\n",
      "\u001b[1;30m[INFO   ]\u001b[0m         multiqc : Searching   : /data_gilbert/home/aarab/Projects/Decitabine-treatment/RNA-seq/stbl-counts/thp1_t_3_exons.txt.summary\n",
      "\u001b[1;30m[INFO   ]\u001b[0m         multiqc : Searching   : /data_gilbert/home/aarab/Projects/Decitabine-treatment/RNA-seq/stbl-counts/thp1_u_1_exons.txt.summary\n",
      "\u001b[1;30m[INFO   ]\u001b[0m         multiqc : Searching   : /data_gilbert/home/aarab/Projects/Decitabine-treatment/RNA-seq/stbl-counts/thp1_u_2_exons.txt.summary\n",
      "\u001b[1;30m[INFO   ]\u001b[0m         multiqc : Searching   : /data_gilbert/home/aarab/Projects/Decitabine-treatment/RNA-seq/stbl-counts/thp1_u_3_exons.txt.summary\n",
      "\u001b[?25lSearching 54 files..  [####################################]  100%          \u001b[?25h\n",
      "\u001b[1;30m[INFO   ]\u001b[0m  feature_counts : Found 54 reports\n",
      "\u001b[1;30m[INFO   ]\u001b[0m         multiqc : Compressing plot data\n",
      "\u001b[1;30m[WARNING]\u001b[0m         multiqc : \u001b[33mDeleting    : QC-reports/counts-exons-multiqc.html   (-f was specified)\u001b[0m\n",
      "\u001b[1;30m[INFO   ]\u001b[0m         multiqc : Report      : QC-reports/counts-exons-multiqc.html\n",
      "\u001b[1;30m[INFO   ]\u001b[0m         multiqc : Data        : QC-reports/counts-exons-multiqc_data\n",
      "\u001b[1;30m[INFO   ]\u001b[0m         multiqc : MultiQC complete\n",
      "\u001b[1;30m[INFO   ]\u001b[0m         multiqc : This is MultiQC v1.9\n",
      "\u001b[1;30m[INFO   ]\u001b[0m         multiqc : Template    : default\n",
      "\u001b[1;30m[INFO   ]\u001b[0m         multiqc : Searching   : /data_gilbert/home/aarab/Projects/Decitabine-treatment/RNA-seq/stbl-counts/120h_DMSO_rep1_introns.txt.summary\n",
      "\u001b[1;30m[INFO   ]\u001b[0m         multiqc : Searching   : /data_gilbert/home/aarab/Projects/Decitabine-treatment/RNA-seq/stbl-counts/120h_DMSO_rep2_introns.txt.summary\n",
      "\u001b[1;30m[INFO   ]\u001b[0m         multiqc : Searching   : /data_gilbert/home/aarab/Projects/Decitabine-treatment/RNA-seq/stbl-counts/120h_treated_rep1_introns.txt.summary\n",
      "\u001b[1;30m[INFO   ]\u001b[0m         multiqc : Searching   : /data_gilbert/home/aarab/Projects/Decitabine-treatment/RNA-seq/stbl-counts/120h_treated_rep2_introns.txt.summary\n",
      "\u001b[1;30m[INFO   ]\u001b[0m         multiqc : Searching   : /data_gilbert/home/aarab/Projects/Decitabine-treatment/RNA-seq/stbl-counts/6h_DMSO_rep1_introns.txt.summary\n",
      "\u001b[1;30m[INFO   ]\u001b[0m         multiqc : Searching   : /data_gilbert/home/aarab/Projects/Decitabine-treatment/RNA-seq/stbl-counts/6h_DMSO_rep2_introns.txt.summary\n",
      "\u001b[1;30m[INFO   ]\u001b[0m         multiqc : Searching   : /data_gilbert/home/aarab/Projects/Decitabine-treatment/RNA-seq/stbl-counts/6h_treated_rep1_introns.txt.summary\n",
      "\u001b[1;30m[INFO   ]\u001b[0m         multiqc : Searching   : /data_gilbert/home/aarab/Projects/Decitabine-treatment/RNA-seq/stbl-counts/6h_treated_rep2_introns.txt.summary\n",
      "\u001b[1;30m[INFO   ]\u001b[0m         multiqc : Searching   : /data_gilbert/home/aarab/Projects/Decitabine-treatment/RNA-seq/stbl-counts/72h_DMSO_rep1_introns.txt.summary\n",
      "\u001b[1;30m[INFO   ]\u001b[0m         multiqc : Searching   : /data_gilbert/home/aarab/Projects/Decitabine-treatment/RNA-seq/stbl-counts/72h_DMSO_rep2_introns.txt.summary\n",
      "\u001b[1;30m[INFO   ]\u001b[0m         multiqc : Searching   : /data_gilbert/home/aarab/Projects/Decitabine-treatment/RNA-seq/stbl-counts/72h_treated_rep1_introns.txt.summary\n",
      "\u001b[1;30m[INFO   ]\u001b[0m         multiqc : Searching   : /data_gilbert/home/aarab/Projects/Decitabine-treatment/RNA-seq/stbl-counts/72h_treated_rep2_introns.txt.summary\n",
      "\u001b[1;30m[INFO   ]\u001b[0m         multiqc : Searching   : /data_gilbert/home/aarab/Projects/Decitabine-treatment/RNA-seq/stbl-counts/hl60_120h_t_1_introns.txt.summary\n",
      "\u001b[1;30m[INFO   ]\u001b[0m         multiqc : Searching   : /data_gilbert/home/aarab/Projects/Decitabine-treatment/RNA-seq/stbl-counts/hl60_120h_t_2_introns.txt.summary\n",
      "\u001b[1;30m[INFO   ]\u001b[0m         multiqc : Searching   : /data_gilbert/home/aarab/Projects/Decitabine-treatment/RNA-seq/stbl-counts/hl60_120h_u_1_introns.txt.summary\n",
      "\u001b[1;30m[INFO   ]\u001b[0m         multiqc : Searching   : /data_gilbert/home/aarab/Projects/Decitabine-treatment/RNA-seq/stbl-counts/hl60_120h_u_2_introns.txt.summary\n",
      "\u001b[1;30m[INFO   ]\u001b[0m         multiqc : Searching   : /data_gilbert/home/aarab/Projects/Decitabine-treatment/RNA-seq/stbl-counts/hl60_6h_t_1_introns.txt.summary\n",
      "\u001b[1;30m[INFO   ]\u001b[0m         multiqc : Searching   : /data_gilbert/home/aarab/Projects/Decitabine-treatment/RNA-seq/stbl-counts/hl60_6h_t_2_introns.txt.summary\n",
      "\u001b[1;30m[INFO   ]\u001b[0m         multiqc : Searching   : /data_gilbert/home/aarab/Projects/Decitabine-treatment/RNA-seq/stbl-counts/hl60_6h_u_1_introns.txt.summary\n",
      "\u001b[1;30m[INFO   ]\u001b[0m         multiqc : Searching   : /data_gilbert/home/aarab/Projects/Decitabine-treatment/RNA-seq/stbl-counts/hl60_6h_u_2_introns.txt.summary\n",
      "\u001b[1;30m[INFO   ]\u001b[0m         multiqc : Searching   : /data_gilbert/home/aarab/Projects/Decitabine-treatment/RNA-seq/stbl-counts/hl60_72h_t_1_introns.txt.summary\n",
      "\u001b[1;30m[INFO   ]\u001b[0m         multiqc : Searching   : /data_gilbert/home/aarab/Projects/Decitabine-treatment/RNA-seq/stbl-counts/hl60_72h_t_2_introns.txt.summary\n",
      "\u001b[1;30m[INFO   ]\u001b[0m         multiqc : Searching   : /data_gilbert/home/aarab/Projects/Decitabine-treatment/RNA-seq/stbl-counts/hl60_72h_u_1_introns.txt.summary\n",
      "\u001b[1;30m[INFO   ]\u001b[0m         multiqc : Searching   : /data_gilbert/home/aarab/Projects/Decitabine-treatment/RNA-seq/stbl-counts/hl60_72h_u_2_introns.txt.summary\n",
      "\u001b[1;30m[INFO   ]\u001b[0m         multiqc : Searching   : /data_gilbert/home/aarab/Projects/Decitabine-treatment/RNA-seq/stbl-counts/kg1_t_1_introns.txt.summary\n",
      "\u001b[1;30m[INFO   ]\u001b[0m         multiqc : Searching   : /data_gilbert/home/aarab/Projects/Decitabine-treatment/RNA-seq/stbl-counts/kg1_t_2_introns.txt.summary\n",
      "\u001b[1;30m[INFO   ]\u001b[0m         multiqc : Searching   : /data_gilbert/home/aarab/Projects/Decitabine-treatment/RNA-seq/stbl-counts/kg1_t_3_introns.txt.summary\n",
      "\u001b[1;30m[INFO   ]\u001b[0m         multiqc : Searching   : /data_gilbert/home/aarab/Projects/Decitabine-treatment/RNA-seq/stbl-counts/kg1_u_1_introns.txt.summary\n",
      "\u001b[1;30m[INFO   ]\u001b[0m         multiqc : Searching   : /data_gilbert/home/aarab/Projects/Decitabine-treatment/RNA-seq/stbl-counts/kg1_u_2_introns.txt.summary\n",
      "\u001b[1;30m[INFO   ]\u001b[0m         multiqc : Searching   : /data_gilbert/home/aarab/Projects/Decitabine-treatment/RNA-seq/stbl-counts/kg1_u_3_introns.txt.summary\n",
      "\u001b[1;30m[INFO   ]\u001b[0m         multiqc : Searching   : /data_gilbert/home/aarab/Projects/Decitabine-treatment/RNA-seq/stbl-counts/molm14_t_1_introns.txt.summary\n",
      "\u001b[1;30m[INFO   ]\u001b[0m         multiqc : Searching   : /data_gilbert/home/aarab/Projects/Decitabine-treatment/RNA-seq/stbl-counts/molm14_t_2_introns.txt.summary\n",
      "\u001b[1;30m[INFO   ]\u001b[0m         multiqc : Searching   : /data_gilbert/home/aarab/Projects/Decitabine-treatment/RNA-seq/stbl-counts/molm14_t_3_introns.txt.summary\n",
      "\u001b[1;30m[INFO   ]\u001b[0m         multiqc : Searching   : /data_gilbert/home/aarab/Projects/Decitabine-treatment/RNA-seq/stbl-counts/molm14_u_1_introns.txt.summary\n",
      "\u001b[1;30m[INFO   ]\u001b[0m         multiqc : Searching   : /data_gilbert/home/aarab/Projects/Decitabine-treatment/RNA-seq/stbl-counts/molm14_u_2_introns.txt.summary\n",
      "\u001b[1;30m[INFO   ]\u001b[0m         multiqc : Searching   : /data_gilbert/home/aarab/Projects/Decitabine-treatment/RNA-seq/stbl-counts/molm14_u_3_introns.txt.summary\n",
      "\u001b[1;30m[INFO   ]\u001b[0m         multiqc : Searching   : /data_gilbert/home/aarab/Projects/Decitabine-treatment/RNA-seq/stbl-counts/ociaml2_t_1_introns.txt.summary\n",
      "\u001b[1;30m[INFO   ]\u001b[0m         multiqc : Searching   : /data_gilbert/home/aarab/Projects/Decitabine-treatment/RNA-seq/stbl-counts/ociaml2_t_2_introns.txt.summary\n",
      "\u001b[1;30m[INFO   ]\u001b[0m         multiqc : Searching   : /data_gilbert/home/aarab/Projects/Decitabine-treatment/RNA-seq/stbl-counts/ociaml2_t_3_introns.txt.summary\n",
      "\u001b[1;30m[INFO   ]\u001b[0m         multiqc : Searching   : /data_gilbert/home/aarab/Projects/Decitabine-treatment/RNA-seq/stbl-counts/ociaml2_u_1_introns.txt.summary\n",
      "\u001b[1;30m[INFO   ]\u001b[0m         multiqc : Searching   : /data_gilbert/home/aarab/Projects/Decitabine-treatment/RNA-seq/stbl-counts/ociaml2_u_2_introns.txt.summary\n",
      "\u001b[1;30m[INFO   ]\u001b[0m         multiqc : Searching   : /data_gilbert/home/aarab/Projects/Decitabine-treatment/RNA-seq/stbl-counts/ociaml2_u_3_introns.txt.summary\n",
      "\u001b[1;30m[INFO   ]\u001b[0m         multiqc : Searching   : /data_gilbert/home/aarab/Projects/Decitabine-treatment/RNA-seq/stbl-counts/ociaml3_t_1_introns.txt.summary\n",
      "\u001b[1;30m[INFO   ]\u001b[0m         multiqc : Searching   : /data_gilbert/home/aarab/Projects/Decitabine-treatment/RNA-seq/stbl-counts/ociaml3_t_2_introns.txt.summary\n",
      "\u001b[1;30m[INFO   ]\u001b[0m         multiqc : Searching   : /data_gilbert/home/aarab/Projects/Decitabine-treatment/RNA-seq/stbl-counts/ociaml3_t_3_introns.txt.summary\n",
      "\u001b[1;30m[INFO   ]\u001b[0m         multiqc : Searching   : /data_gilbert/home/aarab/Projects/Decitabine-treatment/RNA-seq/stbl-counts/ociaml3_u_1_introns.txt.summary\n",
      "\u001b[1;30m[INFO   ]\u001b[0m         multiqc : Searching   : /data_gilbert/home/aarab/Projects/Decitabine-treatment/RNA-seq/stbl-counts/ociaml3_u_2_introns.txt.summary\n",
      "\u001b[1;30m[INFO   ]\u001b[0m         multiqc : Searching   : /data_gilbert/home/aarab/Projects/Decitabine-treatment/RNA-seq/stbl-counts/ociaml3_u_3_introns.txt.summary\n",
      "\u001b[1;30m[INFO   ]\u001b[0m         multiqc : Searching   : /data_gilbert/home/aarab/Projects/Decitabine-treatment/RNA-seq/stbl-counts/thp1_t_1_introns.txt.summary\n",
      "\u001b[1;30m[INFO   ]\u001b[0m         multiqc : Searching   : /data_gilbert/home/aarab/Projects/Decitabine-treatment/RNA-seq/stbl-counts/thp1_t_2_introns.txt.summary\n",
      "\u001b[1;30m[INFO   ]\u001b[0m         multiqc : Searching   : /data_gilbert/home/aarab/Projects/Decitabine-treatment/RNA-seq/stbl-counts/thp1_t_3_introns.txt.summary\n",
      "\u001b[1;30m[INFO   ]\u001b[0m         multiqc : Searching   : /data_gilbert/home/aarab/Projects/Decitabine-treatment/RNA-seq/stbl-counts/thp1_u_1_introns.txt.summary\n",
      "\u001b[1;30m[INFO   ]\u001b[0m         multiqc : Searching   : /data_gilbert/home/aarab/Projects/Decitabine-treatment/RNA-seq/stbl-counts/thp1_u_2_introns.txt.summary\n",
      "\u001b[1;30m[INFO   ]\u001b[0m         multiqc : Searching   : /data_gilbert/home/aarab/Projects/Decitabine-treatment/RNA-seq/stbl-counts/thp1_u_3_introns.txt.summary\n",
      "\u001b[?25lSearching 54 files..  [####################################]  100%          \u001b[?25h\n",
      "\u001b[1;30m[INFO   ]\u001b[0m  feature_counts : Found 54 reports\n",
      "\u001b[1;30m[INFO   ]\u001b[0m         multiqc : Compressing plot data\n",
      "\u001b[1;30m[WARNING]\u001b[0m         multiqc : \u001b[33mDeleting    : QC-reports/counts-introns-multiqc.html   (-f was specified)\u001b[0m\n",
      "\u001b[1;30m[INFO   ]\u001b[0m         multiqc : Report      : QC-reports/counts-introns-multiqc.html\n",
      "\u001b[1;30m[INFO   ]\u001b[0m         multiqc : Data        : QC-reports/counts-introns-multiqc_data\n",
      "\u001b[1;30m[INFO   ]\u001b[0m         multiqc : MultiQC complete\n"
     ]
    }
   ],
   "source": [
    "!multiqc stbl-counts/*_exons.txt.summary -f -n QC-reports/counts-exons-multiqc.html\n",
    "!multiqc stbl-counts/*_introns.txt.summary -f -n QC-reports/counts-introns-multiqc.html"
   ]
  },
  {
   "cell_type": "markdown",
   "metadata": {},
   "source": [
    "**Step 4. Normalization** - REMBRANDTS"
   ]
  },
  {
   "cell_type": "markdown",
   "metadata": {
    "tags": []
   },
   "source": [
    "## Run REMBRANDTS\n",
    "#### REMoving Bias from Rna-seq ANalysis of Differential Transcript Stability\n",
    "> [REMBRANDTS](https://github.com/csglab/REMBRANDTS) is a package for analysis of RNA-seq data across multiple samples in order to obtain unbiased estimates of differential mRNA stability. It uses DESeq to obtain estimates of differential pre-mRNA and mature mRNA abundance across samples, and then estimates a gene-specific bias function that is then subtracted from Δexon–Δintron to provide unbiased differential mRNA stability measures.\n",
    "\n"
   ]
  },
  {
   "cell_type": "code",
   "execution_count": 10,
   "metadata": {},
   "outputs": [],
   "source": [
    "import os\n",
    "import subprocess\n",
    "import glob\n",
    "import warnings\n",
    "import pandas as pd\n",
    "import numpy as np\n",
    "\n",
    "# from rpy2.rinterface import RRuntimeWarning\n",
    "# warnings.filterwarnings(\"ignore\")\n",
    "# warnings.filterwarnings(\"ignore\", category=RRuntimeWarning)"
   ]
  },
  {
   "cell_type": "markdown",
   "metadata": {},
   "source": [
    "Prepare inputs:"
   ]
  },
  {
   "cell_type": "code",
   "execution_count": 11,
   "metadata": {},
   "outputs": [],
   "source": [
    "def make_interon_exon_df(stbldir,samples):\n",
    "    # list path to intron and exon count files \n",
    "    exon_count_files = glob.glob(f'{stbldir}/*_exons.txt')\n",
    "    intron_count_files = glob.glob(f'{stbldir}/*_introns.txt')\n",
    "    # define gene_ids for each count results for exon and intron \n",
    "    exon_gene_ids = pd.read_table(exon_count_files[0], skiprows=1)['Geneid'].tolist()\n",
    "    intron_gene_ids = pd.read_table(intron_count_files[0], skiprows=1)['Geneid'].tolist()\n",
    "    \n",
    "    # read all count tables into one dataframe \n",
    "    df_exon = pd.DataFrame({}, index=exon_gene_ids)\n",
    "    df_intron = pd.DataFrame({}, index=intron_gene_ids)\n",
    "\n",
    "    for f in exon_count_files:\n",
    "        counts = pd.read_table(f, skiprows=1).iloc[:, -1].tolist()\n",
    "        f_n = f.split('/')[-1].replace('_exons.txt', '')\n",
    "        df_exon[f_n] = counts\n",
    "    for f in intron_count_files:\n",
    "        counts = pd.read_table(f, skiprows=1).iloc[:, -1].tolist()\n",
    "        f_n = f.split('/')[-1].replace('_introns.txt', '')\n",
    "        df_intron[f_n] = counts\n",
    "\n",
    "    # reorder in to same column order as the meta table rows \n",
    "    df_exon = df_exon[samples] \n",
    "    df_intron = df_intron[samples] \n",
    "\n",
    "    # select overlap gene_ids\n",
    "    overlaps = list(set(df_exon.index)&set(df_intron.index))\n",
    "    # subset by overlap gene_ids \n",
    "    df_exon = df_exon.loc[overlaps, ]\n",
    "    df_intron = df_intron.loc[overlaps, ]\n",
    "    df_intron = df_intron.loc[df_exon.index.tolist(),:]\n",
    "    return df_exon, df_intron\n",
    "\n",
    "\n",
    "def write_inputs(stbldir, df_exon, df_intron):\n",
    "    # write input counts \n",
    "    for c in samples:\n",
    "        df_exon.loc[:, c].to_csv(f'{stbldir}/{c}_exons.ol.txt', sep='\\t', header=None)    \n",
    "        df_intron.loc[:, c].to_csv(f'{stbldir}/{c}_introns.ol.txt', sep='\\t', header=None)\n",
    "\n",
    "    ### Prepare REMBRANDTS inputs\n",
    "    # make meta data for running REMBRANDTS\n",
    "    labels = np.repeat(df_exon.columns.tolist(), 2)\n",
    "    files = [f'{labels[i]}_exons.ol.txt' if i%2==0 else f'{labels[i]}_introns.ol.txt' for i in range(len(labels))]\n",
    "    readtypes = ['exonic' if i%2==0 else 'intronic' for i in range(len(labels))]\n",
    "    meta = pd.DataFrame({'Label':labels, 'File':files, 'ReadType':readtypes, 'Batch':1})\n",
    "    meta.to_csv(f'{stbldir}/input_table.txt', index=False, sep='\\t')"
   ]
  },
  {
   "cell_type": "code",
   "execution_count": 12,
   "metadata": {},
   "outputs": [],
   "source": [
    "samples = [b.split('/')[-1].replace('.bam','') for b in glob.glob('bam/*.bam') if 'sort' not in b]\n",
    "samples.sort()"
   ]
  },
  {
   "cell_type": "code",
   "execution_count": 5,
   "metadata": {},
   "outputs": [],
   "source": [
    "df_exon, df_intron = make_interon_exon_df('stbl-counts',samples)\n",
    "\n",
    "write_inputs('stbl-counts', df_exon, df_intron)"
   ]
  },
  {
   "cell_type": "markdown",
   "metadata": {},
   "source": [
    "Run REMBRANDTS, \n",
    "\n",
    "- I tried `DESeq2` based update https://github.com/csglab/REMBRANDTS/pull/5; but I had an issue with DESeq2, it's using all cores :'(\n",
    "- So, I'm using the original `DESeq` implementation"
   ]
  },
  {
   "cell_type": "code",
   "execution_count": 4,
   "metadata": {
    "tags": []
   },
   "outputs": [],
   "source": [
    "import os\n",
    "import subprocess"
   ]
  },
  {
   "cell_type": "code",
   "execution_count": 5,
   "metadata": {},
   "outputs": [],
   "source": [
    "workdir = os.getcwd()\n",
    "countdir = f'{workdir}/stbl-counts'\n",
    "outdir = f'{workdir}/stbl-output'"
   ]
  },
  {
   "cell_type": "code",
   "execution_count": 5,
   "metadata": {
    "tags": []
   },
   "outputs": [
    {
     "name": "stdout",
     "output_type": "stream",
     "text": [
      "Job ID: Decitabine\n",
      "Input metadata file: /data_gilbert/home/aarab/AML/Decitabine-treatment/DAC/RNA-seq/stbl-counts/input_table.txt\n",
      "Reference directory for HTSeq-Count files: /data_gilbert/home/aarab/AML/Decitabine-treatment/DAC/RNA-seq/stbl-counts/\n",
      "Stringency for filtering measurements: 0.9\n",
      "The mode of identifying bias parameters: linear\n",
      "Metadata file found.\n",
      "[1] \"Analyzing exonic reads ...\"\n",
      "[1] \"Analyzing batch 1\"\n",
      "[1] \"Analyzing intronic reads ...\"\n",
      "[1] \"Analyzing batch 1\"\n",
      "[1] \"Optimizing read count cutoff at stringency 0.9 ...\"\n",
      "[1] \"Total correlation is 0.674169967701771\"\n",
      "[1] \"Total number of genes is 15584\"\n",
      "[1] \"Maximum correlation is 0.750935453801622\"\n",
      "[1] \"Selected threshold is 3.69000004865579\"\n",
      "[1] \"Number of remaining genes is 10218\"\n",
      "jpeg \n",
      "   2 \n"
     ]
    },
    {
     "data": {
      "text/plain": [
       "0"
      ]
     },
     "execution_count": 5,
     "metadata": {},
     "output_type": "execute_result"
    }
   ],
   "source": [
    "# Run REMBRANDTS\n",
    "os.chdir('/data_gilbert/home/aarab/tools/REMBRANDTS/')\n",
    "cmd = f'bash REMBRANDTS.sh Decitabine {countdir}/input_table.txt {countdir}/ 0.9 linear'\n",
    "\n",
    "subprocess.call(cmd , shell=True)"
   ]
  },
  {
   "cell_type": "code",
   "execution_count": 6,
   "metadata": {
    "tags": []
   },
   "outputs": [
    {
     "name": "stdout",
     "output_type": "stream",
     "text": [
      "removed directory: ‘/data_gilbert/home/aarab/AML/Decitabine-treatment/DAC/RNA-seq/stbl-output/.ipynb_checkpoints’\n",
      "removed directory: ‘/data_gilbert/home/aarab/AML/Decitabine-treatment/DAC/RNA-seq/stbl-output’\n",
      "‘./out/Decitabine/cutoff.txt’ -> ‘/data_gilbert/home/aarab/AML/Decitabine-treatment/DAC/RNA-seq/stbl-output/cutoff.txt’\n",
      "‘./out/Decitabine/exonic.filtered.correl.heatmap.jpg’ -> ‘/data_gilbert/home/aarab/AML/Decitabine-treatment/DAC/RNA-seq/stbl-output/exonic.filtered.correl.heatmap.jpg’\n",
      "‘./out/Decitabine/exonic.filtered.mx.txt’ -> ‘/data_gilbert/home/aarab/AML/Decitabine-treatment/DAC/RNA-seq/stbl-output/exonic.filtered.mx.txt’\n",
      "‘./out/Decitabine/intronic.filtered.correl.heatmap.jpg’ -> ‘/data_gilbert/home/aarab/AML/Decitabine-treatment/DAC/RNA-seq/stbl-output/intronic.filtered.correl.heatmap.jpg’\n",
      "‘./out/Decitabine/intronic.filtered.mx.txt’ -> ‘/data_gilbert/home/aarab/AML/Decitabine-treatment/DAC/RNA-seq/stbl-output/intronic.filtered.mx.txt’\n",
      "‘./out/Decitabine/perGene_bias_vs_accrossGenes_(experimental).jpg’ -> ‘/data_gilbert/home/aarab/AML/Decitabine-treatment/DAC/RNA-seq/stbl-output/perGene_bias_vs_accrossGenes_(experimental).jpg’\n",
      "‘./out/Decitabine/sampleScatterplots’ -> ‘/data_gilbert/home/aarab/AML/Decitabine-treatment/DAC/RNA-seq/stbl-output/sampleScatterplots’\n",
      "‘./out/Decitabine/scatterplot.jpg’ -> ‘/data_gilbert/home/aarab/AML/Decitabine-treatment/DAC/RNA-seq/stbl-output/scatterplot.jpg’\n",
      "‘./out/Decitabine/stability.filtered.correl.heatmap.jpg’ -> ‘/data_gilbert/home/aarab/AML/Decitabine-treatment/DAC/RNA-seq/stbl-output/stability.filtered.correl.heatmap.jpg’\n",
      "‘./out/Decitabine/stability.filtered.mx_(experimental).txt’ -> ‘/data_gilbert/home/aarab/AML/Decitabine-treatment/DAC/RNA-seq/stbl-output/stability.filtered.mx_(experimental).txt’\n",
      "‘./out/Decitabine/stability.filtered.mx.txt’ -> ‘/data_gilbert/home/aarab/AML/Decitabine-treatment/DAC/RNA-seq/stbl-output/stability.filtered.mx.txt’\n",
      "\n",
      "********************************** Finished **********************************\n",
      "\n"
     ]
    }
   ],
   "source": [
    "# # remove results from previous run \n",
    "subprocess.call(f'rm -rv {outdir}', shell=True)\n",
    "subprocess.call(f'mkdir -p {outdir}', shell=True)\n",
    "subprocess.call(f'mv -v ./out/Decitabine/* {outdir}', shell=True)\n",
    "os.chdir(workdir)\n",
    "\n",
    "print('\\n********************************** Finished **********************************\\n')"
   ]
  },
  {
   "cell_type": "code",
   "execution_count": 7,
   "metadata": {
    "tags": []
   },
   "outputs": [],
   "source": [
    "os.chdir(workdir)"
   ]
  },
  {
   "cell_type": "markdown",
   "metadata": {},
   "source": [
    "___"
   ]
  },
  {
   "cell_type": "code",
   "execution_count": 1,
   "metadata": {
    "tags": []
   },
   "outputs": [],
   "source": [
    "import pandas as pd"
   ]
  },
  {
   "cell_type": "code",
   "execution_count": 6,
   "metadata": {
    "tags": []
   },
   "outputs": [],
   "source": [
    "out = pd.read_table(f'{outdir}/stability.filtered.mx.txt', index_col=0)"
   ]
  },
  {
   "cell_type": "code",
   "execution_count": 15,
   "metadata": {
    "tags": []
   },
   "outputs": [],
   "source": [
    "# out"
   ]
  },
  {
   "cell_type": "code",
   "execution_count": 16,
   "metadata": {
    "tags": []
   },
   "outputs": [],
   "source": [
    "# samples"
   ]
  },
  {
   "cell_type": "code",
   "execution_count": 17,
   "metadata": {
    "tags": []
   },
   "outputs": [
    {
     "data": {
      "text/plain": [
       "[('hl60_120h_t_1', 'hl60_120h_t_1'),\n",
       " ('hl60_120h_t_2', 'hl60_120h_t_2'),\n",
       " ('hl60_120h_u_1', 'hl60_120h_u_1'),\n",
       " ('hl60_120h_u_2', 'hl60_120h_u_2'),\n",
       " ('hl60_6h_t_1', 'hl60_6h_t_1'),\n",
       " ('hl60_6h_t_2', 'hl60_6h_t_2'),\n",
       " ('hl60_6h_u_1', 'hl60_6h_u_1'),\n",
       " ('hl60_6h_u_2', 'hl60_6h_u_2'),\n",
       " ('hl60_72h_t_1', 'hl60_72h_t_1'),\n",
       " ('hl60_72h_t_2', 'hl60_72h_t_2'),\n",
       " ('hl60_72h_u_1', 'hl60_72h_u_1'),\n",
       " ('hl60_72h_u_2', 'hl60_72h_u_2'),\n",
       " ('kg1_t_1', 'kg1_t_1'),\n",
       " ('kg1_t_2', 'kg1_t_2'),\n",
       " ('kg1_t_3', 'kg1_t_3'),\n",
       " ('kg1_u_1', 'kg1_u_1'),\n",
       " ('kg1_u_2', 'kg1_u_2'),\n",
       " ('kg1_u_3', 'kg1_u_3'),\n",
       " ('molm13_t_1', 'molm13_t_1'),\n",
       " ('molm13_t_2', 'molm13_t_2'),\n",
       " ('molm13_t_3', 'molm13_t_3'),\n",
       " ('molm13_u_1', 'molm13_u_1'),\n",
       " ('molm13_u_2', 'molm13_u_2'),\n",
       " ('molm13_u_3', 'molm13_u_3'),\n",
       " ('molm14_t_1', 'molm14_t_1'),\n",
       " ('molm14_t_2', 'molm14_t_2'),\n",
       " ('molm14_t_3', 'molm14_t_3'),\n",
       " ('molm14_u_1', 'molm14_u_1'),\n",
       " ('molm14_u_2', 'molm14_u_2'),\n",
       " ('molm14_u_3', 'molm14_u_3'),\n",
       " ('ociaml3_t_1', 'ociaml3_t_1'),\n",
       " ('ociaml3_t_2', 'ociaml3_t_2'),\n",
       " ('ociaml3_t_3', 'ociaml3_t_3'),\n",
       " ('ociaml3_u_1', 'ociaml3_u_1'),\n",
       " ('ociaml3_u_2', 'ociaml3_u_2'),\n",
       " ('ociaml3_u_3', 'ociaml3_u_3'),\n",
       " ('skm1_t_1', 'skm1_t_1'),\n",
       " ('skm1_t_2', 'skm1_t_2'),\n",
       " ('skm1_t_3', 'skm1_t_3'),\n",
       " ('skm1_u_1', 'skm1_u_1'),\n",
       " ('skm1_u_2', 'skm1_u_2'),\n",
       " ('skm1_u_3', 'skm1_u_3')]"
      ]
     },
     "execution_count": 17,
     "metadata": {},
     "output_type": "execute_result"
    }
   ],
   "source": [
    "[(x,y) for x,y in zip(out.columns,samples)]"
   ]
  },
  {
   "cell_type": "code",
   "execution_count": 18,
   "metadata": {
    "tags": []
   },
   "outputs": [],
   "source": [
    "# out.columns = samples\n",
    "out.to_csv('stbl/REMBRANDTS.txt', sep='\\t')"
   ]
  },
  {
   "cell_type": "code",
   "execution_count": 19,
   "metadata": {
    "tags": []
   },
   "outputs": [
    {
     "data": {
      "text/plain": [
       "(10218, 42)"
      ]
     },
     "execution_count": 19,
     "metadata": {},
     "output_type": "execute_result"
    }
   ],
   "source": [
    "out.shape"
   ]
  },
  {
   "cell_type": "code",
   "execution_count": 20,
   "metadata": {
    "tags": []
   },
   "outputs": [
    {
     "name": "stdout",
     "output_type": "stream",
     "text": [
      "Wed Aug 30 15:45:49 PDT 2023\n"
     ]
    }
   ],
   "source": [
    "!date"
   ]
  },
  {
   "cell_type": "markdown",
   "metadata": {},
   "source": [
    "All done!"
   ]
  }
 ],
 "metadata": {
  "kernelspec": {
   "display_name": "Python [conda env:screenpro2]",
   "language": "python",
   "name": "conda-env-screenpro2-py"
  },
  "language_info": {
   "codemirror_mode": {
    "name": "ipython",
    "version": 3
   },
   "file_extension": ".py",
   "mimetype": "text/x-python",
   "name": "python",
   "nbconvert_exporter": "python",
   "pygments_lexer": "ipython3",
   "version": "3.9.16"
  }
 },
 "nbformat": 4,
 "nbformat_minor": 4
}
