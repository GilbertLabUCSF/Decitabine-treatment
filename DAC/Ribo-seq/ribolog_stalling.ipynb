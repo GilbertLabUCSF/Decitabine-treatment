{
 "cells": [
  {
   "cell_type": "code",
   "execution_count": 85,
   "metadata": {},
   "outputs": [],
   "source": [
    "suppressWarnings(library('Ribolog'))\n",
    "suppressWarnings(library('riboWaltz'))\n",
    "suppressWarnings(library(ggplot2))\n",
    "suppressWarnings(library(tidyverse))\n",
    "\n",
    "suppressWarnings(library(ggthemes))"
   ]
  },
  {
   "cell_type": "code",
   "execution_count": 107,
   "metadata": {},
   "outputs": [],
   "source": [
    "source('../util.R')"
   ]
  },
  {
   "cell_type": "code",
   "execution_count": 86,
   "metadata": {},
   "outputs": [],
   "source": [
    "annotation <- Ribolog::read_annotation(\"~/genomes/Ribolog/Human.GRC38.96_annotation.txt\")"
   ]
  },
  {
   "cell_type": "code",
   "execution_count": 87,
   "metadata": {},
   "outputs": [
    {
     "name": "stdout",
     "output_type": "stream",
     "text": [
      "Reading 1_RiboSeq_S25DMSO_r1.ensemble.cds.longest.srt.dd.bam\n",
      "Input reads: 2.187 M\n",
      "0.000 M  (0.013 %) reads removed: exceeding indel_threshold.\n",
      "0.325 M  (14.857 %) reads removed: reference transcript IDs not found in annotation table.\n",
      "0.269 M  (14.450 %) reads removed: mapping on negative strand.\n",
      "Output reads: 1.593 M\n",
      "Done! 1_RiboSeq_S25DMSO_r1.ensemble.cds.longest.srt.dd.bam has been loaded as 1_RiboSeq_S25DMSO_r1.ensemble.cds.longest.srt.dd \n",
      "\n",
      "Reading 1_RiboSeq_S25DMSO_r2.ensemble.cds.longest.srt.dd.bam\n",
      "Input reads: 1.451 M\n",
      "0.000 M  (0.014 %) reads removed: exceeding indel_threshold.\n",
      "0.219 M  (15.092 %) reads removed: reference transcript IDs not found in annotation table.\n",
      "0.165 M  (13.387 %) reads removed: mapping on negative strand.\n",
      "Output reads: 1.067 M\n",
      "Done! 1_RiboSeq_S25DMSO_r2.ensemble.cds.longest.srt.dd.bam has been loaded as 1_RiboSeq_S25DMSO_r2.ensemble.cds.longest.srt.dd \n",
      "\n",
      "Reading 1_RiboSeq_S25Drug_r1.ensemble.cds.longest.srt.dd.bam\n",
      "Input reads: 1.484 M\n",
      "0.000 M  (0.013 %) reads removed: exceeding indel_threshold.\n",
      "0.220 M  (14.810 %) reads removed: reference transcript IDs not found in annotation table.\n",
      "0.199 M  (15.726 %) reads removed: mapping on negative strand.\n",
      "Output reads: 1.066 M\n",
      "Done! 1_RiboSeq_S25Drug_r1.ensemble.cds.longest.srt.dd.bam has been loaded as 1_RiboSeq_S25Drug_r1.ensemble.cds.longest.srt.dd \n",
      "\n",
      "Reading 1_RiboSeq_S25Drug_r2.ensemble.cds.longest.srt.dd.bam\n",
      "Input reads: 1.420 M\n",
      "0.000 M  (0.015 %) reads removed: exceeding indel_threshold.\n",
      "0.210 M  (14.813 %) reads removed: reference transcript IDs not found in annotation table.\n",
      "0.201 M  (16.616 %) reads removed: mapping on negative strand.\n",
      "Output reads: 1.009 M\n",
      "Done! 1_RiboSeq_S25Drug_r2.ensemble.cds.longest.srt.dd.bam has been loaded as 1_RiboSeq_S25Drug_r2.ensemble.cds.longest.srt.dd \n",
      "\n"
     ]
    }
   ],
   "source": [
    "reads_list <- riboWaltz::bamtolist(bamfolder='./bam/RPF', annotation=annotation)"
   ]
  },
  {
   "cell_type": "code",
   "execution_count": 88,
   "metadata": {},
   "outputs": [
    {
     "data": {
      "text/html": [
       "<style>\n",
       ".list-inline {list-style: none; margin:0; padding: 0}\n",
       ".list-inline>li {display: inline-block}\n",
       ".list-inline>li:not(:last-child)::after {content: \"\\00b7\"; padding: 0 .5ex}\n",
       "</style>\n",
       "<ol class=list-inline><li>'1_RiboSeq_S25DMSO_r1.ensemble.cds.longest.srt.dd'</li><li>'1_RiboSeq_S25DMSO_r2.ensemble.cds.longest.srt.dd'</li><li>'1_RiboSeq_S25Drug_r1.ensemble.cds.longest.srt.dd'</li><li>'1_RiboSeq_S25Drug_r2.ensemble.cds.longest.srt.dd'</li></ol>\n"
      ],
      "text/latex": [
       "\\begin{enumerate*}\n",
       "\\item '1\\_RiboSeq\\_S25DMSO\\_r1.ensemble.cds.longest.srt.dd'\n",
       "\\item '1\\_RiboSeq\\_S25DMSO\\_r2.ensemble.cds.longest.srt.dd'\n",
       "\\item '1\\_RiboSeq\\_S25Drug\\_r1.ensemble.cds.longest.srt.dd'\n",
       "\\item '1\\_RiboSeq\\_S25Drug\\_r2.ensemble.cds.longest.srt.dd'\n",
       "\\end{enumerate*}\n"
      ],
      "text/markdown": [
       "1. '1_RiboSeq_S25DMSO_r1.ensemble.cds.longest.srt.dd'\n",
       "2. '1_RiboSeq_S25DMSO_r2.ensemble.cds.longest.srt.dd'\n",
       "3. '1_RiboSeq_S25Drug_r1.ensemble.cds.longest.srt.dd'\n",
       "4. '1_RiboSeq_S25Drug_r2.ensemble.cds.longest.srt.dd'\n",
       "\n",
       "\n"
      ],
      "text/plain": [
       "[1] \"1_RiboSeq_S25DMSO_r1.ensemble.cds.longest.srt.dd\"\n",
       "[2] \"1_RiboSeq_S25DMSO_r2.ensemble.cds.longest.srt.dd\"\n",
       "[3] \"1_RiboSeq_S25Drug_r1.ensemble.cds.longest.srt.dd\"\n",
       "[4] \"1_RiboSeq_S25Drug_r2.ensemble.cds.longest.srt.dd\""
      ]
     },
     "metadata": {},
     "output_type": "display_data"
    }
   ],
   "source": [
    "names(reads_list) "
   ]
  },
  {
   "cell_type": "code",
   "execution_count": 89,
   "metadata": {},
   "outputs": [],
   "source": [
    "names(reads_list) <- c(\n",
    "    \"DMSO_rep1_RPF\", \"DMSO_rep2_RPF\", \n",
    "    \"Decitabine_rep1_RPF\", \"Decitabine_rep2_RPF\"\n",
    ")"
   ]
  },
  {
   "cell_type": "code",
   "execution_count": 90,
   "metadata": {},
   "outputs": [
    {
     "name": "stdout",
     "output_type": "stream",
     "text": [
      "processing DMSO_rep1_RPF\n",
      "best offset: 12 nts from the 5' end\n",
      "processing DMSO_rep2_RPF\n",
      "best offset: 13 nts from the 5' end\n",
      "processing Decitabine_rep1_RPF\n",
      "best offset: 13 nts from the 5' end\n",
      "processing Decitabine_rep2_RPF\n",
      "best offset: 13 nts from the 5' end\n"
     ]
    }
   ],
   "source": [
    "psite_offset <- Ribolog::psite_rW(reads_list)"
   ]
  },
  {
   "cell_type": "code",
   "execution_count": 91,
   "metadata": {},
   "outputs": [
    {
     "name": "stdout",
     "output_type": "stream",
     "text": [
      "processing DMSO_rep1_RPF\n",
      "1. adding p-site position\n",
      "2. adding transcript region\n",
      "processing DMSO_rep2_RPF\n",
      "1. adding p-site position\n",
      "2. adding transcript region\n",
      "processing Decitabine_rep1_RPF\n",
      "1. adding p-site position\n",
      "2. adding transcript region\n",
      "processing Decitabine_rep2_RPF\n",
      "1. adding p-site position\n",
      "2. adding transcript region\n"
     ]
    }
   ],
   "source": [
    "reads_psite_list <- Ribolog::psite_info_rW(reads_list, psite_offset)"
   ]
  },
  {
   "cell_type": "code",
   "execution_count": 94,
   "metadata": {},
   "outputs": [],
   "source": [
    "# Ribolog::print_period_region(reads_psite_list)"
   ]
  },
  {
   "cell_type": "code",
   "execution_count": 95,
   "metadata": {},
   "outputs": [],
   "source": [
    "# Ribolog::print_period_region_length(reads_psite_list)"
   ]
  },
  {
   "cell_type": "code",
   "execution_count": 96,
   "metadata": {},
   "outputs": [],
   "source": [
    "l_range <- c(30:38)\n",
    "cDNA_longest_CDS <- '~/genomes/Ribolog/Human.GRC38.96_cDNA_longest_CDS.fa'"
   ]
  },
  {
   "cell_type": "code",
   "execution_count": 97,
   "metadata": {},
   "outputs": [],
   "source": [
    "tr_codon_read_count <-  Ribolog::psite_to_codon_count(\n",
    "    reads_psite_list, \n",
    "    length_range = l_range, \n",
    "    annotation,\n",
    "    fasta_file = cDNA_longest_CDS\n",
    ") "
   ]
  },
  {
   "cell_type": "markdown",
   "metadata": {},
   "source": [
    "## Extracting Codon Counts"
   ]
  },
  {
   "cell_type": "code",
   "execution_count": 98,
   "metadata": {},
   "outputs": [],
   "source": [
    "p2a <- function(x){\n",
    "  y <- x[,c(1,2,4)]\n",
    "  codon_type_A <- c(as.vector(y$codon_type)[-1],\"XXX\")\n",
    "  y <- cbind(y, codon_type_A)\n",
    "}"
   ]
  },
  {
   "cell_type": "code",
   "execution_count": 99,
   "metadata": {},
   "outputs": [
    {
     "data": {
      "text/html": [
       "<style>\n",
       ".list-inline {list-style: none; margin:0; padding: 0}\n",
       ".list-inline>li {display: inline-block}\n",
       ".list-inline>li:not(:last-child)::after {content: \"\\00b7\"; padding: 0 .5ex}\n",
       "</style>\n",
       "<ol class=list-inline><li>'DMSO_rep1_RPF'</li><li>'DMSO_rep2_RPF'</li><li>'Decitabine_rep1_RPF'</li><li>'Decitabine_rep2_RPF'</li></ol>\n"
      ],
      "text/latex": [
       "\\begin{enumerate*}\n",
       "\\item 'DMSO\\_rep1\\_RPF'\n",
       "\\item 'DMSO\\_rep2\\_RPF'\n",
       "\\item 'Decitabine\\_rep1\\_RPF'\n",
       "\\item 'Decitabine\\_rep2\\_RPF'\n",
       "\\end{enumerate*}\n"
      ],
      "text/markdown": [
       "1. 'DMSO_rep1_RPF'\n",
       "2. 'DMSO_rep2_RPF'\n",
       "3. 'Decitabine_rep1_RPF'\n",
       "4. 'Decitabine_rep2_RPF'\n",
       "\n",
       "\n"
      ],
      "text/plain": [
       "[1] \"DMSO_rep1_RPF\"       \"DMSO_rep2_RPF\"       \"Decitabine_rep1_RPF\"\n",
       "[4] \"Decitabine_rep2_RPF\""
      ]
     },
     "metadata": {},
     "output_type": "display_data"
    }
   ],
   "source": [
    "names(tr_codon_read_count)"
   ]
  },
  {
   "cell_type": "code",
   "execution_count": 100,
   "metadata": {},
   "outputs": [],
   "source": [
    "tcrc.dmso       <- tr_codon_read_count[c(1,2)]\n",
    "tcrc.decitabine <- tr_codon_read_count[c(3,4)]"
   ]
  },
  {
   "cell_type": "code",
   "execution_count": 101,
   "metadata": {},
   "outputs": [],
   "source": [
    "bc.dmso <- Ribolog::CELP_detect_bias(tcrc.dmso, loess_method = \"direct\")"
   ]
  },
  {
   "cell_type": "code",
   "execution_count": 102,
   "metadata": {},
   "outputs": [
    {
     "data": {
      "text/html": [
       "<table class=\"dataframe\">\n",
       "<caption>A data.frame: 6 × 6</caption>\n",
       "<thead>\n",
       "\t<tr><th></th><th scope=col>transcript</th><th scope=col>codon_number</th><th scope=col>codon_type</th><th scope=col>bias_coefficient</th><th scope=col>codon_type_A</th><th scope=col>cond</th></tr>\n",
       "\t<tr><th></th><th scope=col>&lt;chr&gt;</th><th scope=col>&lt;int&gt;</th><th scope=col>&lt;chr&gt;</th><th scope=col>&lt;dbl&gt;</th><th scope=col>&lt;chr&gt;</th><th scope=col>&lt;chr&gt;</th></tr>\n",
       "</thead>\n",
       "<tbody>\n",
       "\t<tr><th scope=row>1</th><td>ENST00000003084</td><td>1</td><td>ATG</td><td>1</td><td>CAG</td><td>DMSO</td></tr>\n",
       "\t<tr><th scope=row>2</th><td>ENST00000003084</td><td>2</td><td>CAG</td><td>1</td><td>AGG</td><td>DMSO</td></tr>\n",
       "\t<tr><th scope=row>3</th><td>ENST00000003084</td><td>3</td><td>AGG</td><td>1</td><td>TCG</td><td>DMSO</td></tr>\n",
       "\t<tr><th scope=row>4</th><td>ENST00000003084</td><td>4</td><td>TCG</td><td>1</td><td>CCT</td><td>DMSO</td></tr>\n",
       "\t<tr><th scope=row>5</th><td>ENST00000003084</td><td>5</td><td>CCT</td><td>1</td><td>CTG</td><td>DMSO</td></tr>\n",
       "\t<tr><th scope=row>6</th><td>ENST00000003084</td><td>6</td><td>CTG</td><td>1</td><td>GAA</td><td>DMSO</td></tr>\n",
       "</tbody>\n",
       "</table>\n"
      ],
      "text/latex": [
       "A data.frame: 6 × 6\n",
       "\\begin{tabular}{r|llllll}\n",
       "  & transcript & codon\\_number & codon\\_type & bias\\_coefficient & codon\\_type\\_A & cond\\\\\n",
       "  & <chr> & <int> & <chr> & <dbl> & <chr> & <chr>\\\\\n",
       "\\hline\n",
       "\t1 & ENST00000003084 & 1 & ATG & 1 & CAG & DMSO\\\\\n",
       "\t2 & ENST00000003084 & 2 & CAG & 1 & AGG & DMSO\\\\\n",
       "\t3 & ENST00000003084 & 3 & AGG & 1 & TCG & DMSO\\\\\n",
       "\t4 & ENST00000003084 & 4 & TCG & 1 & CCT & DMSO\\\\\n",
       "\t5 & ENST00000003084 & 5 & CCT & 1 & CTG & DMSO\\\\\n",
       "\t6 & ENST00000003084 & 6 & CTG & 1 & GAA & DMSO\\\\\n",
       "\\end{tabular}\n"
      ],
      "text/markdown": [
       "\n",
       "A data.frame: 6 × 6\n",
       "\n",
       "| <!--/--> | transcript &lt;chr&gt; | codon_number &lt;int&gt; | codon_type &lt;chr&gt; | bias_coefficient &lt;dbl&gt; | codon_type_A &lt;chr&gt; | cond &lt;chr&gt; |\n",
       "|---|---|---|---|---|---|---|\n",
       "| 1 | ENST00000003084 | 1 | ATG | 1 | CAG | DMSO |\n",
       "| 2 | ENST00000003084 | 2 | CAG | 1 | AGG | DMSO |\n",
       "| 3 | ENST00000003084 | 3 | AGG | 1 | TCG | DMSO |\n",
       "| 4 | ENST00000003084 | 4 | TCG | 1 | CCT | DMSO |\n",
       "| 5 | ENST00000003084 | 5 | CCT | 1 | CTG | DMSO |\n",
       "| 6 | ENST00000003084 | 6 | CTG | 1 | GAA | DMSO |\n",
       "\n"
      ],
      "text/plain": [
       "  transcript      codon_number codon_type bias_coefficient codon_type_A cond\n",
       "1 ENST00000003084 1            ATG        1                CAG          DMSO\n",
       "2 ENST00000003084 2            CAG        1                AGG          DMSO\n",
       "3 ENST00000003084 3            AGG        1                TCG          DMSO\n",
       "4 ENST00000003084 4            TCG        1                CCT          DMSO\n",
       "5 ENST00000003084 5            CCT        1                CTG          DMSO\n",
       "6 ENST00000003084 6            CTG        1                GAA          DMSO"
      ]
     },
     "metadata": {},
     "output_type": "display_data"
    }
   ],
   "source": [
    "bc.dmso_pa_df <- lapply(bc.dmso, function(x) p2a(x))\n",
    "bc.dmso_pa_df <- dplyr::bind_rows(bc.dmso_pa_df, .id = \"transcript\")\n",
    "bc.dmso_pa_df$cond <- \"DMSO\"\n",
    "head(bc.dmso_pa_df)"
   ]
  },
  {
   "cell_type": "code",
   "execution_count": 103,
   "metadata": {},
   "outputs": [],
   "source": [
    "bc.decitabine <- Ribolog::CELP_detect_bias(tcrc.decitabine, loess_method = \"direct\")"
   ]
  },
  {
   "cell_type": "code",
   "execution_count": 104,
   "metadata": {},
   "outputs": [
    {
     "data": {
      "text/html": [
       "<table class=\"dataframe\">\n",
       "<caption>A data.frame: 6 × 6</caption>\n",
       "<thead>\n",
       "\t<tr><th></th><th scope=col>transcript</th><th scope=col>codon_number</th><th scope=col>codon_type</th><th scope=col>bias_coefficient</th><th scope=col>codon_type_A</th><th scope=col>cond</th></tr>\n",
       "\t<tr><th></th><th scope=col>&lt;chr&gt;</th><th scope=col>&lt;int&gt;</th><th scope=col>&lt;chr&gt;</th><th scope=col>&lt;dbl&gt;</th><th scope=col>&lt;chr&gt;</th><th scope=col>&lt;chr&gt;</th></tr>\n",
       "</thead>\n",
       "<tbody>\n",
       "\t<tr><th scope=row>1</th><td>ENST00000003084</td><td>1</td><td>ATG</td><td>1</td><td>CAG</td><td>Decitabine</td></tr>\n",
       "\t<tr><th scope=row>2</th><td>ENST00000003084</td><td>2</td><td>CAG</td><td>1</td><td>AGG</td><td>Decitabine</td></tr>\n",
       "\t<tr><th scope=row>3</th><td>ENST00000003084</td><td>3</td><td>AGG</td><td>1</td><td>TCG</td><td>Decitabine</td></tr>\n",
       "\t<tr><th scope=row>4</th><td>ENST00000003084</td><td>4</td><td>TCG</td><td>1</td><td>CCT</td><td>Decitabine</td></tr>\n",
       "\t<tr><th scope=row>5</th><td>ENST00000003084</td><td>5</td><td>CCT</td><td>1</td><td>CTG</td><td>Decitabine</td></tr>\n",
       "\t<tr><th scope=row>6</th><td>ENST00000003084</td><td>6</td><td>CTG</td><td>1</td><td>GAA</td><td>Decitabine</td></tr>\n",
       "</tbody>\n",
       "</table>\n"
      ],
      "text/latex": [
       "A data.frame: 6 × 6\n",
       "\\begin{tabular}{r|llllll}\n",
       "  & transcript & codon\\_number & codon\\_type & bias\\_coefficient & codon\\_type\\_A & cond\\\\\n",
       "  & <chr> & <int> & <chr> & <dbl> & <chr> & <chr>\\\\\n",
       "\\hline\n",
       "\t1 & ENST00000003084 & 1 & ATG & 1 & CAG & Decitabine\\\\\n",
       "\t2 & ENST00000003084 & 2 & CAG & 1 & AGG & Decitabine\\\\\n",
       "\t3 & ENST00000003084 & 3 & AGG & 1 & TCG & Decitabine\\\\\n",
       "\t4 & ENST00000003084 & 4 & TCG & 1 & CCT & Decitabine\\\\\n",
       "\t5 & ENST00000003084 & 5 & CCT & 1 & CTG & Decitabine\\\\\n",
       "\t6 & ENST00000003084 & 6 & CTG & 1 & GAA & Decitabine\\\\\n",
       "\\end{tabular}\n"
      ],
      "text/markdown": [
       "\n",
       "A data.frame: 6 × 6\n",
       "\n",
       "| <!--/--> | transcript &lt;chr&gt; | codon_number &lt;int&gt; | codon_type &lt;chr&gt; | bias_coefficient &lt;dbl&gt; | codon_type_A &lt;chr&gt; | cond &lt;chr&gt; |\n",
       "|---|---|---|---|---|---|---|\n",
       "| 1 | ENST00000003084 | 1 | ATG | 1 | CAG | Decitabine |\n",
       "| 2 | ENST00000003084 | 2 | CAG | 1 | AGG | Decitabine |\n",
       "| 3 | ENST00000003084 | 3 | AGG | 1 | TCG | Decitabine |\n",
       "| 4 | ENST00000003084 | 4 | TCG | 1 | CCT | Decitabine |\n",
       "| 5 | ENST00000003084 | 5 | CCT | 1 | CTG | Decitabine |\n",
       "| 6 | ENST00000003084 | 6 | CTG | 1 | GAA | Decitabine |\n",
       "\n"
      ],
      "text/plain": [
       "  transcript      codon_number codon_type bias_coefficient codon_type_A\n",
       "1 ENST00000003084 1            ATG        1                CAG         \n",
       "2 ENST00000003084 2            CAG        1                AGG         \n",
       "3 ENST00000003084 3            AGG        1                TCG         \n",
       "4 ENST00000003084 4            TCG        1                CCT         \n",
       "5 ENST00000003084 5            CCT        1                CTG         \n",
       "6 ENST00000003084 6            CTG        1                GAA         \n",
       "  cond      \n",
       "1 Decitabine\n",
       "2 Decitabine\n",
       "3 Decitabine\n",
       "4 Decitabine\n",
       "5 Decitabine\n",
       "6 Decitabine"
      ]
     },
     "metadata": {},
     "output_type": "display_data"
    }
   ],
   "source": [
    "bc.decitabine_pa_df <- lapply(bc.decitabine, function(x) p2a(x))\n",
    "bc.decitabine_pa_df <- dplyr::bind_rows(bc.decitabine_pa_df, .id = \"transcript\")\n",
    "bc.decitabine_pa_df$cond <- \"Decitabine\"\n",
    "head(bc.decitabine_pa_df)"
   ]
  },
  {
   "cell_type": "code",
   "execution_count": 105,
   "metadata": {},
   "outputs": [],
   "source": [
    "bc_pa_df <- rbind(bc.dmso_pa_df, bc.decitabine_pa_df)"
   ]
  },
  {
   "cell_type": "code",
   "execution_count": 106,
   "metadata": {},
   "outputs": [],
   "source": [
    "saveRDS(bc_pa_df, 'bc_pa_df.rds')"
   ]
  },
  {
   "cell_type": "markdown",
   "metadata": {},
   "source": [
    "## `glm`"
   ]
  },
  {
   "cell_type": "markdown",
   "metadata": {},
   "source": [
    "### codon"
   ]
  },
  {
   "cell_type": "code",
   "execution_count": 203,
   "metadata": {},
   "outputs": [],
   "source": [
    "estimates   <- data.frame(codon=as.Date(character()),\n",
    "                          mean_dwell_time=character(),\n",
    "                          p_val=character())"
   ]
  },
  {
   "cell_type": "code",
   "execution_count": 204,
   "metadata": {},
   "outputs": [
    {
     "name": "stdout",
     "output_type": "stream",
     "text": [
      "[1] \"CAG\"\n",
      "[1] \"AGG\"\n",
      "[1] \"TCG\"\n",
      "[1] \"CCT\"\n",
      "[1] \"CTG\"\n",
      "[1] \"GAA\"\n",
      "[1] \"AAG\"\n",
      "[1] \"GCC\"\n",
      "[1] \"AGC\"\n",
      "[1] \"GTT\"\n",
      "[1] \"GTC\"\n",
      "[1] \"TCC\"\n",
      "[1] \"AAA\"\n",
      "[1] \"CTT\"\n",
      "[1] \"TTT\"\n",
      "[1] \"TTC\"\n",
      "[1] \"TGG\"\n",
      "[1] \"ACC\"\n",
      "[1] \"AGA\"\n",
      "[1] \"CCA\"\n",
      "[1] \"ATT\"\n",
      "[1] \"TTG\"\n",
      "[1] \"GGA\"\n",
      "[1] \"TAC\"\n",
      "[1] \"CGC\"\n",
      "[1] \"TCA\"\n",
      "[1] \"GAC\"\n",
      "[1] \"ATA\"\n",
      "[1] \"CAA\"\n",
      "[1] \"ATC\"\n",
      "[1] \"TCT\"\n",
      "[1] \"GAT\"\n",
      "[1] \"GCT\"\n",
      "[1] \"AAT\"\n",
      "[1] \"CTA\"\n",
      "[1] \"GAG\"\n",
      "[1] \"CTC\"\n",
      "[1] \"CGG\"\n",
      "[1] \"CGA\"\n",
      "[1] \"TGT\"\n",
      "[1] \"ATG\"\n",
      "[1] \"TAT\"\n",
      "[1] \"TTA\"\n",
      "[1] \"GGG\"\n",
      "[1] \"GCA\"\n",
      "[1] \"GTA\"\n",
      "[1] \"CCG\"\n",
      "[1] \"AAC\"\n",
      "[1] \"GCG\"\n",
      "[1] \"GGC\"\n",
      "[1] \"TGC\"\n",
      "[1] \"GTG\"\n",
      "[1] \"ACA\"\n",
      "[1] \"CAC\"\n",
      "[1] \"CAT\"\n",
      "[1] \"AGT\"\n",
      "[1] \"ACT\"\n",
      "[1] \"CGT\"\n",
      "[1] \"GGT\"\n",
      "[1] \"CCC\"\n",
      "[1] \"ACG\"\n",
      "[1] \"TAG\"\n",
      "[1] \"XXX\"\n",
      "[1] \"TAA\"\n",
      "[1] \"TGA\"\n"
     ]
    }
   ],
   "source": [
    "for (codon in unique(bc_pa_df$'codon_type_A')){\n",
    "    print(codon)\n",
    "    bc_pa_df_asite <- subset(bc_pa_df, codon_type_A == codon)\n",
    "    bc_pa_df_asite$cond <- relevel(factor(bc_pa_df_asite$cond), ref=\"DMSO\")\n",
    "    fit1 <- glm(bias_coefficient ~ cond, data = bc_pa_df_asite)\n",
    "    coeff <- fit1$coefficients[['condDecitabine']]\n",
    "    pval <- coef(summary(fit1))[,4][['condDecitabine']]\n",
    "    entry <- data.frame(codon, coeff, pval)\n",
    "    names(entry) <- names(estimates)\n",
    "    estimates <- rbind(estimates, entry)\n",
    "}"
   ]
  },
  {
   "cell_type": "code",
   "execution_count": 205,
   "metadata": {},
   "outputs": [],
   "source": [
    "estimates$codon <- gsub('T', 'U', estimates$codon)"
   ]
  },
  {
   "cell_type": "code",
   "execution_count": 221,
   "metadata": {},
   "outputs": [
    {
     "data": {
      "text/html": [
       "<table class=\"dataframe\">\n",
       "<caption>A data.frame: 6 × 3</caption>\n",
       "<thead>\n",
       "\t<tr><th></th><th scope=col>codon</th><th scope=col>mean_dwell_time</th><th scope=col>p_val</th></tr>\n",
       "\t<tr><th></th><th scope=col>&lt;fct&gt;</th><th scope=col>&lt;dbl&gt;</th><th scope=col>&lt;dbl&gt;</th></tr>\n",
       "</thead>\n",
       "<tbody>\n",
       "\t<tr><th scope=row>1</th><td>GGG</td><td>-0.001364275</td><td>4.035758e-02</td></tr>\n",
       "\t<tr><th scope=row>2</th><td>UUU</td><td>-0.001657928</td><td>1.570794e-02</td></tr>\n",
       "\t<tr><th scope=row>3</th><td>UUG</td><td>-0.001730699</td><td>3.207811e-02</td></tr>\n",
       "\t<tr><th scope=row>4</th><td>UUA</td><td>-0.001839726</td><td>6.611098e-02</td></tr>\n",
       "\t<tr><th scope=row>5</th><td>GAG</td><td>-0.002018146</td><td>4.357805e-06</td></tr>\n",
       "\t<tr><th scope=row>6</th><td>CAA</td><td>-0.002123307</td><td>4.605010e-03</td></tr>\n",
       "</tbody>\n",
       "</table>\n"
      ],
      "text/latex": [
       "A data.frame: 6 × 3\n",
       "\\begin{tabular}{r|lll}\n",
       "  & codon & mean\\_dwell\\_time & p\\_val\\\\\n",
       "  & <fct> & <dbl> & <dbl>\\\\\n",
       "\\hline\n",
       "\t1 & GGG & -0.001364275 & 4.035758e-02\\\\\n",
       "\t2 & UUU & -0.001657928 & 1.570794e-02\\\\\n",
       "\t3 & UUG & -0.001730699 & 3.207811e-02\\\\\n",
       "\t4 & UUA & -0.001839726 & 6.611098e-02\\\\\n",
       "\t5 & GAG & -0.002018146 & 4.357805e-06\\\\\n",
       "\t6 & CAA & -0.002123307 & 4.605010e-03\\\\\n",
       "\\end{tabular}\n"
      ],
      "text/markdown": [
       "\n",
       "A data.frame: 6 × 3\n",
       "\n",
       "| <!--/--> | codon &lt;fct&gt; | mean_dwell_time &lt;dbl&gt; | p_val &lt;dbl&gt; |\n",
       "|---|---|---|---|\n",
       "| 1 | GGG | -0.001364275 | 4.035758e-02 |\n",
       "| 2 | UUU | -0.001657928 | 1.570794e-02 |\n",
       "| 3 | UUG | -0.001730699 | 3.207811e-02 |\n",
       "| 4 | UUA | -0.001839726 | 6.611098e-02 |\n",
       "| 5 | GAG | -0.002018146 | 4.357805e-06 |\n",
       "| 6 | CAA | -0.002123307 | 4.605010e-03 |\n",
       "\n"
      ],
      "text/plain": [
       "  codon mean_dwell_time p_val       \n",
       "1 GGG   -0.001364275    4.035758e-02\n",
       "2 UUU   -0.001657928    1.570794e-02\n",
       "3 UUG   -0.001730699    3.207811e-02\n",
       "4 UUA   -0.001839726    6.611098e-02\n",
       "5 GAG   -0.002018146    4.357805e-06\n",
       "6 CAA   -0.002123307    4.605010e-03"
      ]
     },
     "metadata": {},
     "output_type": "display_data"
    }
   ],
   "source": [
    "bs <- 30\n",
    "\n",
    "colour_codon <- ifelse(\n",
    "    estimates$codon == \"AUG\", \"darkred\",\n",
    "    ifelse(estimates$codon %in% c(\"UAA\", \"UGA\", \"UAG\"),\"darkgreen\", \"gray50\"))\n",
    "\n",
    "estimates <- estimates[order(-estimates$mean_dwell_time),]\n",
    "estimates$codon <- factor(estimates$codon,levels = estimates$codon)\n",
    "rownames(estimates) <- c(1:nrow(estimates))\n",
    "head(estimates)\n"
   ]
  },
  {
   "cell_type": "code",
   "execution_count": 222,
   "metadata": {},
   "outputs": [],
   "source": [
    "area.color <- ! estimates$'codon' %in% c('XXX')"
   ]
  },
  {
   "cell_type": "code",
   "execution_count": 223,
   "metadata": {},
   "outputs": [
    {
     "name": "stderr",
     "output_type": "stream",
     "text": [
      "Warning message:\n",
      "“Vectorized input to `element_text()` is not officially supported.\n",
      "Results may be unexpected or may change in future versions of ggplot2.”\n"
     ]
    },
    {
     "data": {
      "image/png": "[encoded data removed]",
      "text/plain": [
       "plot without title"
      ]
     },
     "metadata": {
      "image/png": {
       "height": 600,
       "width": 1200
      }
     },
     "output_type": "display_data"
    }
   ],
   "source": [
    "options(repr.plot.width = 20, repr.plot.height = 10)\n",
    "\n",
    "p = ggplot(estimates, aes(x = codon, y = mean_dwell_time, fill=area.color, label = ifelse(p_val < 0.05, \"*\", \"NS\"))) +\n",
    "      geom_bar(stat = \"identity\", alpha = 0.9)+ geom_text(vjust = 0) +\n",
    "      scale_y_continuous(\"Mean Dwell Time Estimate\") + \n",
    "      scale_x_discrete(\"Codon\") +\n",
    "      theme_bw(base_size = 30) +\n",
    "      theme(\n",
    "          legend.position = \"none\", \n",
    "          legend.margin=margin(0,0,0,0), legend.box.margin=margin(5,0,-15,0),\n",
    "          legend.text = element_text(margin = margin(l = -12, unit = \"pt\")),\n",
    "          strip.background=element_rect(colour=\"#f0f0f0\",fill=\"#f0f0f0\"),\n",
    "          axis.text.x = element_text(angle = 90, hjust = 1, vjust=0.5, size = bs * 0.5, colour = colour_codon), \n",
    "          panel.grid.major.x = element_blank(),\n",
    "          panel.grid.minor.y = element_blank()\n",
    "      ) + scale_fill_Publication()\n",
    "\n",
    "p"
   ]
  },
  {
   "cell_type": "code",
   "execution_count": 224,
   "metadata": {},
   "outputs": [],
   "source": [
    "ggsave(\n",
    "    'plots/ribolog_stalling_codon_barplot.pdf', plot = p, \n",
    "    device = 'pdf', width = 20, height=10, dpi = 300\n",
    ")"
   ]
  },
  {
   "cell_type": "code",
   "execution_count": 225,
   "metadata": {},
   "outputs": [],
   "source": [
    "write.csv(estimates, 'asite_mean_dwell_times.csv')"
   ]
  },
  {
   "cell_type": "markdown",
   "metadata": {},
   "source": [
    "### aa"
   ]
  },
  {
   "cell_type": "code",
   "execution_count": 226,
   "metadata": {},
   "outputs": [],
   "source": [
    "# https://github.com/goodarzilab/Ribolog/blob/master/R/MODULE_CODON_ANALYSIS.R\n",
    "cod_aa <- data.frame(\n",
    "    codon_type=c(\"GCC\", \"GCG\", \"GCU\", \"GCA\", \"AGA\", \"CGG\", \"AGG\", \"CGA\", \"CGC\", \"CGU\", \"AAC\", \"AAU\", \"GAC\", \"GAU\", \"UGC\", \"UGU\", \"CAA\", \"CAG\", \"GAG\", \"GAA\", \"GGC\", \"GGU\", \"GGA\", \"GGG\", \"CAC\", \"CAU\", \"AUA\", \"AUC\", \"AUU\", \"CUG\", \"CUA\", \"UUA\", \"CUU\", \"UUG\", \"CUC\", \"AAA\", \"AAG\", \"AUG\", \"UUC\", \"UUU\", \"CCG\", \"CCC\", \"CCU\", \"CCA\", \"AGC\", \"UCG\", \"UCU\", \"UCA\", \"UCC\", \"AGU\", \"UAG\", \"UAA\", \"UGA\", \"ACA\", \"ACC\", \"ACG\", \"ACU\", \"UGG\", \"UAU\", \"UAC\", \"GUA\", \"GUG\", \"GUU\", \"GUC\"),\n",
    "    amino_acid=c(\"A\", \"A\", \"A\", \"A\", \"R\", \"R\", \"R\", \"R\", \"R\", \"R\", \"N\", \"N\", \"D\", \"D\", \"C\", \"C\", \"Q\", \"Q\", \"E\", \"E\", \"G\", \"G\", \"G\", \"G\", \"H\", \"H\", \"I\", \"I\", \"I\", \"L\", \"L\", \"L\", \"L\", \"L\", \"L\", \"K\", \"K\", \"M\", \"F\", \"F\", \"P\", \"P\", \"P\", \"P\", \"S\", \"S\", \"S\", \"S\", \"S\", \"S\", \"*\", \"*\", \"*\", \"T\", \"T\", \"T\", \"T\", \"W\", \"Y\", \"Y\", \"V\", \"V\", \"V\", \"V\")\n",
    ") %>% mutate(codon_type=gsub('U', 'T', codon_type) )\n",
    "#%>% column_to_rownames('codon')"
   ]
  },
  {
   "cell_type": "code",
   "execution_count": 227,
   "metadata": {},
   "outputs": [],
   "source": [
    "total <- merge(x=bc_pa_df, y=cod_aa, by='codon_type', all.x=TRUE)"
   ]
  },
  {
   "cell_type": "code",
   "execution_count": 228,
   "metadata": {},
   "outputs": [],
   "source": [
    "total$codon_type <- gsub('T', 'U', bc_pa_df$codon_type)"
   ]
  },
  {
   "cell_type": "code",
   "execution_count": 229,
   "metadata": {},
   "outputs": [],
   "source": [
    "aa_estimates   <- data.frame(amino_acid=as.Date(character()),\n",
    "                              mean_dwell_time=character(),\n",
    "                              p_val=character())"
   ]
  },
  {
   "cell_type": "code",
   "execution_count": 230,
   "metadata": {},
   "outputs": [
    {
     "name": "stdout",
     "output_type": "stream",
     "text": [
      "[1] \"K\"\n",
      "[1] \"N\"\n",
      "[1] \"T\"\n",
      "[1] \"R\"\n",
      "[1] \"S\"\n",
      "[1] \"I\"\n",
      "[1] \"M\"\n",
      "[1] \"Q\"\n",
      "[1] \"H\"\n",
      "[1] \"P\"\n",
      "[1] \"L\"\n",
      "[1] \"E\"\n",
      "[1] \"D\"\n",
      "[1] \"A\"\n",
      "[1] \"G\"\n",
      "[1] \"V\"\n",
      "[1] \"*\"\n",
      "[1] \"Y\"\n",
      "[1] \"C\"\n",
      "[1] \"W\"\n",
      "[1] \"F\"\n"
     ]
    }
   ],
   "source": [
    "for (aa in unique(total$'amino_acid')){\n",
    "    print (aa)\n",
    "    bc_pa_df_asite <- subset(total, amino_acid == aa)\n",
    "    bc_pa_df_asite$cond <- relevel(factor(bc_pa_df_asite$cond), ref=\"DMSO\")\n",
    "    fit1 <- glm(bias_coefficient ~ cond, data = bc_pa_df_asite)\n",
    "    coeff <- fit1$coefficients[['condDecitabine']]\n",
    "    pval <- coef(summary(fit1))[,4][['condDecitabine']]\n",
    "    \n",
    "    entry <- data.frame(aa, coeff, pval)\n",
    "    names(entry) <- names(aa_estimates)\n",
    "    aa_estimates <- rbind(aa_estimates, entry)\n",
    "}\n"
   ]
  },
  {
   "cell_type": "code",
   "execution_count": 231,
   "metadata": {},
   "outputs": [],
   "source": [
    "aa_estimates <- aa_estimates[order(-aa_estimates$mean_dwell_time),]\n",
    "aa_estimates$amino_acid <- factor(aa_estimates$amino_acid,levels = aa_estimates$amino_acid)"
   ]
  },
  {
   "cell_type": "code",
   "execution_count": null,
   "metadata": {},
   "outputs": [],
   "source": []
  },
  {
   "cell_type": "code",
   "execution_count": 255,
   "metadata": {},
   "outputs": [
    {
     "name": "stderr",
     "output_type": "stream",
     "text": [
      "Warning message:\n",
      "“Vectorized input to `element_text()` is not officially supported.\n",
      "Results may be unexpected or may change in future versions of ggplot2.”\n"
     ]
    },
    {
     "data": {
      "image/png": "[encoded data removed]",
      "text/plain": [
       "plot without title"
      ]
     },
     "metadata": {
      "image/png": {
       "height": 600,
       "width": 1200
      }
     },
     "output_type": "display_data"
    }
   ],
   "source": [
    "area.color <- aa_estimates$'amino_acid' != 'M'#'Start'\n",
    "bs <- 30\n",
    "\n",
    "colour_aa <- ifelse(aa_estimates$'amino_acid' == \"M\", \"darkred\",\n",
    "                           ifelse(aa_estimates$amino_acid == \"*\",\n",
    "                                  \"darkgreen\", \"gray40\"))\n",
    "options(repr.plot.width = 20, repr.plot.height = 10)\n",
    "\n",
    "ggplot(aa_estimates, aes(x = amino_acid, y = mean_dwell_time, fill=area.color, label = ifelse(p_val < 0.05, \"*\", \"NS\"))) +\n",
    "      geom_bar(stat = \"identity\", alpha = 0.9)+ geom_text(vjust = 0) +\n",
    "      theme_bw(base_size = 30) +\n",
    "      theme(legend.position = \"none\", legend.margin=margin(0,0,0,0), legend.box.margin=margin(5,0,-15,0)) +\n",
    "      theme(legend.text = element_text(margin = margin(l = -12, unit = \"pt\"))) +\n",
    "      scale_x_discrete(\"Amino Acid\") +\n",
    "      theme(axis.text.x = element_text(angle = 0, hjust = 1, vjust=0, size = bs * 0.5)) +\n",
    "      theme(axis.text.x = element_text(colour = colour_aa), panel.grid.major.x = element_blank(),\n",
    "                                       panel.grid.minor.y = element_blank()) +\n",
    "      scale_y_continuous(\"Mean Dwell Time Estimate\") + \n",
    "      scale_fill_Publication() -> p\n",
    "\n",
    "p"
   ]
  },
  {
   "cell_type": "code",
   "execution_count": 256,
   "metadata": {},
   "outputs": [],
   "source": [
    "ggsave(\n",
    "    'plots/ribolog_stalling_amino_acid_barplot.pdf', plot = p, \n",
    "    device = 'pdf', width = 12, height=10, dpi = 300\n",
    ")"
   ]
  },
  {
   "cell_type": "code",
   "execution_count": 247,
   "metadata": {},
   "outputs": [],
   "source": [
    "write.csv(aa_estimates, 'aa_mean_dwell_time_estimates.csv')"
   ]
  },
  {
   "cell_type": "markdown",
   "metadata": {},
   "source": [
    "# "
   ]
  },
  {
   "cell_type": "code",
   "execution_count": 248,
   "metadata": {},
   "outputs": [
    {
     "data": {
      "text/plain": [
       "R version 4.1.1 (2021-08-10)\n",
       "Platform: x86_64-conda-linux-gnu (64-bit)\n",
       "Running under: CentOS Linux 7 (Core)\n",
       "\n",
       "Matrix products: default\n",
       "BLAS/LAPACK: /data_gilbert/home/aarab/anaconda3/envs/ribolog/lib/libopenblasp-r0.3.18.so\n",
       "\n",
       "locale:\n",
       " [1] LC_CTYPE=en_US.UTF-8       LC_NUMERIC=C              \n",
       " [3] LC_TIME=en_US.UTF-8        LC_COLLATE=en_US.UTF-8    \n",
       " [5] LC_MONETARY=en_US.UTF-8    LC_MESSAGES=en_US.UTF-8   \n",
       " [7] LC_PAPER=en_US.UTF-8       LC_NAME=C                 \n",
       " [9] LC_ADDRESS=C               LC_TELEPHONE=C            \n",
       "[11] LC_MEASUREMENT=en_US.UTF-8 LC_IDENTIFICATION=C       \n",
       "\n",
       "attached base packages:\n",
       "[1] stats     graphics  grDevices utils     datasets  methods   base     \n",
       "\n",
       "other attached packages:\n",
       " [1] scales_1.1.1       ggthemes_4.2.4     forcats_0.5.1      stringr_1.4.0     \n",
       " [5] dplyr_1.0.7        purrr_0.3.4        readr_2.1.1        tidyr_1.1.4       \n",
       " [9] tibble_3.1.5       tidyverse_1.3.1    ggplot2_3.3.5      riboWaltz_1.2.0   \n",
       "[13] Ribolog_0.0.0.9000\n",
       "\n",
       "loaded via a namespace (and not attached):\n",
       " [1] bitops_1.0-7                matrixStats_0.61.0         \n",
       " [3] fs_1.5.0                    lubridate_1.8.0            \n",
       " [5] httr_1.4.2                  GenomeInfoDb_1.30.0        \n",
       " [7] repr_1.1.3                  tools_4.1.1                \n",
       " [9] backports_1.2.1             utf8_1.2.2                 \n",
       "[11] R6_2.5.1                    DBI_1.1.2                  \n",
       "[13] BiocGenerics_0.40.0         colorspace_2.0-2           \n",
       "[15] ade4_1.7-18                 withr_2.4.2                \n",
       "[17] tidyselect_1.1.1            compiler_4.1.1             \n",
       "[19] textshaping_0.3.4           cli_3.0.1                  \n",
       "[21] rvest_1.0.2                 Biobase_2.54.0             \n",
       "[23] Cairo_1.5-12.2              xml2_1.3.2                 \n",
       "[25] DelayedArray_0.20.0         labeling_0.4.2             \n",
       "[27] systemfonts_1.0.3           pbdZMQ_0.3-6               \n",
       "[29] digest_0.6.28               Rsamtools_2.10.0           \n",
       "[31] XVector_0.34.0              base64enc_0.1-3            \n",
       "[33] pkgconfig_2.0.3             htmltools_0.5.2            \n",
       "[35] MatrixGenerics_1.6.0        dbplyr_2.1.1               \n",
       "[37] fastmap_1.1.0               rlang_0.4.12               \n",
       "[39] readxl_1.3.1                rstudioapi_0.13            \n",
       "[41] farver_2.1.0                generics_0.1.0             \n",
       "[43] jsonlite_1.7.2              BiocParallel_1.28.0        \n",
       "[45] RCurl_1.98-1.5              magrittr_2.0.1             \n",
       "[47] GenomeInfoDbData_1.2.6      Matrix_1.3-4               \n",
       "[49] Rcpp_1.0.7                  IRkernel_1.2               \n",
       "[51] munsell_0.5.0               S4Vectors_0.32.0           \n",
       "[53] fansi_0.4.2                 lifecycle_1.0.1            \n",
       "[55] stringi_1.7.5               MASS_7.3-54                \n",
       "[57] SummarizedExperiment_1.24.0 zlibbioc_1.40.0            \n",
       "[59] grid_4.1.1                  parallel_4.1.1             \n",
       "[61] crayon_1.4.1                lattice_0.20-45            \n",
       "[63] IRdisplay_1.0               Biostrings_2.62.0          \n",
       "[65] haven_2.4.3                 hms_1.1.1                  \n",
       "[67] pillar_1.6.4                GenomicRanges_1.46.0       \n",
       "[69] uuid_1.0-3                  seqinr_4.2-8               \n",
       "[71] stats4_4.1.1                reprex_2.0.1               \n",
       "[73] glue_1.4.2                  evaluate_0.14              \n",
       "[75] data.table_1.14.2           modelr_0.1.8               \n",
       "[77] vctrs_0.3.8                 tzdb_0.2.0                 \n",
       "[79] cellranger_1.1.0            gtable_0.3.0               \n",
       "[81] assertthat_0.2.1            broom_0.7.10               \n",
       "[83] ragg_1.1.3                  GenomicAlignments_1.30.0   \n",
       "[85] IRanges_2.28.0              ellipsis_0.3.2             "
      ]
     },
     "metadata": {},
     "output_type": "display_data"
    }
   ],
   "source": [
    "sessionInfo()"
   ]
  },
  {
   "cell_type": "code",
   "execution_count": 249,
   "metadata": {},
   "outputs": [
    {
     "data": {
      "text/html": [
       "'Tue Dec 28 02:13:31 2021'"
      ],
      "text/latex": [
       "'Tue Dec 28 02:13:31 2021'"
      ],
      "text/markdown": [
       "'Tue Dec 28 02:13:31 2021'"
      ],
      "text/plain": [
       "[1] \"Tue Dec 28 02:13:31 2021\""
      ]
     },
     "metadata": {},
     "output_type": "display_data"
    }
   ],
   "source": [
    "date()"
   ]
  }
 ],
 "metadata": {
  "kernelspec": {
   "display_name": "R [conda env:ribolog]",
   "language": "R",
   "name": "conda-env-ribolog-r"
  },
  "language_info": {
   "codemirror_mode": "r",
   "file_extension": ".r",
   "mimetype": "text/x-r-source",
   "name": "R",
   "pygments_lexer": "r",
   "version": "4.1.1"
  }
 },
 "nbformat": 4,
 "nbformat_minor": 4
}
