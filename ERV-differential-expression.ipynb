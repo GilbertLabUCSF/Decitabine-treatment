{
 "cells": [
  {
   "cell_type": "markdown",
   "metadata": {},
   "source": [
    "https://www.nature.com/articles/s41598-022-09765-x this cool as tool and also as a reference for DNA methylation works in the lab"
   ]
  },
  {
   "cell_type": "markdown",
   "metadata": {
    "tags": []
   },
   "source": [
    "## Load packages, functions and main data"
   ]
  },
  {
   "cell_type": "code",
   "execution_count": 1,
   "metadata": {},
   "outputs": [],
   "source": [
    "# %load_ext rpy2.ipython"
   ]
  },
  {
   "cell_type": "code",
   "execution_count": 2,
   "metadata": {},
   "outputs": [],
   "source": [
    "# %%R \n",
    "suppressMessages(suppressWarnings(library (GenomicFeatures)))\n",
    "suppressMessages(suppressWarnings(library (tximport)))\n",
    "suppressMessages(suppressWarnings(library (tidyverse)))\n",
    "suppressMessages(suppressWarnings(library (ggplot2)))\n",
    "suppressMessages(suppressWarnings(library (ggrepel)))\n",
    "suppressMessages(suppressWarnings(library (DESeq2)))\n",
    "suppressMessages(suppressWarnings(library (patchwork)))\n",
    "suppressMessages(suppressWarnings(library (BiocParallel)))\n",
    "suppressMessages(suppressWarnings(library (gridExtra)))\n",
    "library(grid)\n",
    "\n",
    "register(MulticoreParam(18))"
   ]
  },
  {
   "cell_type": "code",
   "execution_count": 3,
   "metadata": {},
   "outputs": [],
   "source": [
    "library(pheatmap)\n",
    "library(RColorBrewer)"
   ]
  },
  {
   "cell_type": "code",
   "execution_count": 4,
   "metadata": {},
   "outputs": [],
   "source": [
    "source('scripts/util.R')"
   ]
  },
  {
   "cell_type": "code",
   "execution_count": 5,
   "metadata": {},
   "outputs": [],
   "source": [
    "# Filter non-informative genes:\n",
    "filter_low_counts <- function (dds_in , min_count=10){\n",
    "    # all samples with a count of higher than `min_count`\n",
    "    keep <- rowSums(counts(dds_in ) > min_count) == ncol(dds_in )\n",
    "    dds_out <- dds_in [keep,]\n",
    "    print (paste (nrow(dds_in), 'genes filtered to ->' , nrow(dds_out),'genes!', sep=' ') )\n",
    "    return (dds_out)\n",
    "}\n",
    "\n",
    "\n",
    "plot_PCA <- function(vsd, colData, labels='', gr=c('cond'), title='', leg=\"none\"){\n",
    "    z <- plotPCA(vsd,intgroup=gr, returnData=TRUE)\n",
    "    percentVar <- round(100 * attr(z, \"percentVar\"))\n",
    "    pca <- ggplot(z, aes(PC1, PC2)) +\n",
    "            geom_point(aes(colour=group), alpha = 4/10,size=12) + \n",
    "            geom_point(shape = 1,size = 12,colour = \"black\") + \n",
    "            # geom_point(\n",
    "            #     aes(color=group), \n",
    "            #     \n",
    "            # size=10,\n",
    "            # stroke = 0.5\n",
    "            # ) +\n",
    "            geom_text_repel(\n",
    "                aes(label = labels),\n",
    "                box.padding = 1.5, max.overlaps = Inf\n",
    "            ) + #,size = 3.5)) +\n",
    "            xlab(paste0(\"PC1: \",percentVar[1],\"% variance\")) +\n",
    "            ylab(paste0(\"PC2: \",percentVar[2],\"% variance\")) +\n",
    "            ggtitle (title) + \n",
    "            scale_colour_Publication() + \n",
    "            theme_Publication(legend.position='top') +\n",
    "            guides (size = 'none') + theme(legend.title = element_blank()) \n",
    "    return (pca)\n",
    "}"
   ]
  },
  {
   "cell_type": "code",
   "execution_count": 6,
   "metadata": {},
   "outputs": [],
   "source": [
    "write_Result <- function(res, name_it, col=FALSE, row=FALSE){\n",
    "    write.table(res,name_it, sep=\"\\t\", quote=FALSE, col.names=col, row.names=row)\n",
    "}\n",
    "\n",
    "\n",
    "correct_batch <- function (dds,gr,out,labels='',title=''){\n",
    "    vsd <- varianceStabilizingTransformation(dds, blind=FALSE)\n",
    "    p0 <- plot_PCA(vsd, gr, labels=labels,title=paste0(title,' Before removeBatchEffect'))\n",
    "    mat <- assay(vsd)\n",
    "    \n",
    "    mat <- limma::removeBatchEffect(mat, vsd$reps) # batch is same as time \n",
    "    assay(vsd) <- mat\n",
    "    p1 <- plot_PCA(vsd, gr, labels=labels,title=paste0(title,' After removeBatchEffect'))\n",
    "    counts_batch_corrected <- assay(vsd)\n",
    "    \n",
    "    if (out == 'plot') {return (p0 + p1)}\n",
    "    if (out == 'plot1'){return (p1)}\n",
    "    if (out == 'vsd')  {return (vsd)}\n",
    "    if (out == 'cbc')  {return (counts_batch_corrected)}\n",
    "}\n",
    "\n",
    "\n",
    "plot_gene_counts <- function (dds, gene_id,gene_name, intgroup){\n",
    "    fiss <- plotCounts(dds, gene_id, intgroup = intgroup, returnData = TRUE)\n",
    "\n",
    "    p <- ggplot(fiss,\n",
    "      aes(x = cond, y = count, color = cond)) + \n",
    "      geom_point(size=5,alpha=8/10, position=position_jitter(h=0.15,w=0.15)) + \n",
    "      stat_summary(fun=mean, geom=\"line\") +\n",
    "      scale_y_log10() + \n",
    "      theme_bw() + \n",
    "      ggtitle(gene_name)\n",
    "    \n",
    "    return (p + theme_Publication())\n",
    "}"
   ]
  },
  {
   "cell_type": "markdown",
   "metadata": {},
   "source": [
    "Load annotations"
   ]
  },
  {
   "cell_type": "code",
   "execution_count": 7,
   "metadata": {},
   "outputs": [],
   "source": [
    "# txdb  = makeTxDbFromGFF(, organism='Homo sapiens')\n",
    "\n",
    "# # tx2gene objects \n",
    "# k <- keys(txdb, keytype = \"Name\")\n",
    "\n",
    "# tx2gene <- AnnotationDbi::select(txdb, k, \"GENEID\", \"TXNAME\")"
   ]
  },
  {
   "cell_type": "code",
   "execution_count": 8,
   "metadata": {},
   "outputs": [],
   "source": [
    "herv_gff_file = 'herv-genome/package-entities-erv.c.gff3'\n",
    "\n",
    "herv_gff = rtracklayer::import(herv_gff_file)\n",
    "\n",
    "# feature2ERV = herv_gff %>% \n",
    "#     data.frame %>% \n",
    "#     dplyr::filter(type == \"BED_feature\") %>% dplyr::select('ID','Name') %>% column_to_rownames('Name')"
   ]
  },
  {
   "cell_type": "markdown",
   "metadata": {
    "jp-MarkdownHeadingCollapsed": true,
    "tags": []
   },
   "source": [
    "___\n",
    "# Decitabine treatment RNA-Seq experiments\n",
    "- Decitabine treatment time-series RNA-Seq experiments in HL60 cell line\n",
    "- Decitabine treatment RNA-Seq experiments in 5 other AML cell lines"
   ]
  },
  {
   "cell_type": "markdown",
   "metadata": {},
   "source": [
    "List every salmon quant files"
   ]
  },
  {
   "cell_type": "code",
   "execution_count": 10,
   "metadata": {},
   "outputs": [],
   "source": [
    "# %%R\n",
    "files <- list.files(path='DAC/RNA-seq/herv/quants', pattern=\"quant.sf\",full.names = TRUE, recursive=T)\n",
    "names(files) <- gsub(\"DAC/RNA-seq/herv/quants/(\\\\S+)/quant.sf\",\"\\\\1\",files)"
   ]
  },
  {
   "cell_type": "code",
   "execution_count": 11,
   "metadata": {},
   "outputs": [
    {
     "name": "stdout",
     "output_type": "stream",
     "text": [
      "[1] \"DAC/RNA-seq/herv/quants/hl60_120h_t_1/quant.sf\"\n",
      "[1] \"DAC/RNA-seq/herv/quants/hl60_120h_t_2/quant.sf\"\n",
      "[1] \"DAC/RNA-seq/herv/quants/hl60_120h_u_1/quant.sf\"\n",
      "[1] \"DAC/RNA-seq/herv/quants/hl60_120h_u_2/quant.sf\"\n",
      "[1] \"DAC/RNA-seq/herv/quants/hl60_6h_t_1/quant.sf\"\n",
      "[1] \"DAC/RNA-seq/herv/quants/hl60_6h_t_2/quant.sf\"\n",
      "[1] \"DAC/RNA-seq/herv/quants/hl60_6h_u_1/quant.sf\"\n",
      "[1] \"DAC/RNA-seq/herv/quants/hl60_6h_u_2/quant.sf\"\n",
      "[1] \"DAC/RNA-seq/herv/quants/hl60_72h_t_1/quant.sf\"\n",
      "[1] \"DAC/RNA-seq/herv/quants/hl60_72h_t_2/quant.sf\"\n",
      "[1] \"DAC/RNA-seq/herv/quants/hl60_72h_u_1/quant.sf\"\n",
      "[1] \"DAC/RNA-seq/herv/quants/hl60_72h_u_2/quant.sf\"\n",
      "[1] \"DAC/RNA-seq/herv/quants/kg1_t_1/quant.sf\"\n",
      "[1] \"DAC/RNA-seq/herv/quants/kg1_t_2/quant.sf\"\n",
      "[1] \"DAC/RNA-seq/herv/quants/kg1_t_3/quant.sf\"\n",
      "[1] \"DAC/RNA-seq/herv/quants/kg1_u_1/quant.sf\"\n",
      "[1] \"DAC/RNA-seq/herv/quants/kg1_u_2/quant.sf\"\n",
      "[1] \"DAC/RNA-seq/herv/quants/kg1_u_3/quant.sf\"\n",
      "[1] \"DAC/RNA-seq/herv/quants/molm14_t_1/quant.sf\"\n",
      "[1] \"DAC/RNA-seq/herv/quants/molm14_t_2/quant.sf\"\n",
      "[1] \"DAC/RNA-seq/herv/quants/molm14_t_3/quant.sf\"\n",
      "[1] \"DAC/RNA-seq/herv/quants/molm14_u_1/quant.sf\"\n",
      "[1] \"DAC/RNA-seq/herv/quants/molm14_u_2/quant.sf\"\n",
      "[1] \"DAC/RNA-seq/herv/quants/molm14_u_3/quant.sf\"\n",
      "[1] \"DAC/RNA-seq/herv/quants/ociaml2_t_1/quant.sf\"\n",
      "[1] \"DAC/RNA-seq/herv/quants/ociaml2_t_2/quant.sf\"\n",
      "[1] \"DAC/RNA-seq/herv/quants/ociaml2_t_3/quant.sf\"\n",
      "[1] \"DAC/RNA-seq/herv/quants/ociaml2_u_1/quant.sf\"\n",
      "[1] \"DAC/RNA-seq/herv/quants/ociaml2_u_2/quant.sf\"\n",
      "[1] \"DAC/RNA-seq/herv/quants/ociaml2_u_3/quant.sf\"\n",
      "[1] \"DAC/RNA-seq/herv/quants/ociaml3_t_1/quant.sf\"\n",
      "[1] \"DAC/RNA-seq/herv/quants/ociaml3_t_2/quant.sf\"\n",
      "[1] \"DAC/RNA-seq/herv/quants/ociaml3_t_3/quant.sf\"\n",
      "[1] \"DAC/RNA-seq/herv/quants/ociaml3_u_1/quant.sf\"\n",
      "[1] \"DAC/RNA-seq/herv/quants/ociaml3_u_2/quant.sf\"\n",
      "[1] \"DAC/RNA-seq/herv/quants/ociaml3_u_3/quant.sf\"\n",
      "[1] \"DAC/RNA-seq/herv/quants/thp1_t_1/quant.sf\"\n",
      "[1] \"DAC/RNA-seq/herv/quants/thp1_t_2/quant.sf\"\n",
      "[1] \"DAC/RNA-seq/herv/quants/thp1_t_3/quant.sf\"\n",
      "[1] \"DAC/RNA-seq/herv/quants/thp1_u_1/quant.sf\"\n",
      "[1] \"DAC/RNA-seq/herv/quants/thp1_u_2/quant.sf\"\n",
      "[1] \"DAC/RNA-seq/herv/quants/thp1_u_3/quant.sf\"\n"
     ]
    }
   ],
   "source": [
    "for (f in files){print(f)}"
   ]
  },
  {
   "cell_type": "code",
   "execution_count": 12,
   "metadata": {},
   "outputs": [
    {
     "name": "stderr",
     "output_type": "stream",
     "text": [
      "reading in files with read_tsv\n",
      "\n",
      "1 \n",
      "2 \n",
      "3 \n",
      "4 \n",
      "5 \n",
      "6 \n",
      "7 \n",
      "8 \n",
      "9 \n",
      "10 \n",
      "11 \n",
      "12 \n",
      "13 \n",
      "14 \n",
      "15 \n",
      "16 \n",
      "17 \n",
      "18 \n",
      "19 \n",
      "20 \n",
      "21 \n",
      "22 \n",
      "23 \n",
      "24 \n",
      "25 \n",
      "26 \n",
      "27 \n",
      "28 \n",
      "29 \n",
      "30 \n",
      "31 \n",
      "32 \n",
      "33 \n",
      "34 \n",
      "35 \n",
      "36 \n",
      "37 \n",
      "38 \n",
      "39 \n",
      "40 \n",
      "41 \n",
      "42 \n",
      "\n",
      "\n"
     ]
    }
   ],
   "source": [
    "txi <- tximport(files, type = \"salmon\", txOut=T)"
   ]
  },
  {
   "cell_type": "code",
   "execution_count": 13,
   "metadata": {},
   "outputs": [],
   "source": [
    "# txi.erv <- summarizeToGene(txi, tx2gene = feature2ERV, ignoreAfterBar= TRUE)"
   ]
  },
  {
   "cell_type": "markdown",
   "metadata": {
    "tags": []
   },
   "source": [
    "#### Define sample sheet"
   ]
  },
  {
   "cell_type": "code",
   "execution_count": 14,
   "metadata": {},
   "outputs": [
    {
     "data": {
      "text/html": [
       "42"
      ],
      "text/latex": [
       "42"
      ],
      "text/markdown": [
       "42"
      ],
      "text/plain": [
       "[1] 42"
      ]
     },
     "metadata": {},
     "output_type": "display_data"
    }
   ],
   "source": [
    "colnames(txi$abundance) %>% length"
   ]
  },
  {
   "cell_type": "code",
   "execution_count": 15,
   "metadata": {},
   "outputs": [
    {
     "data": {
      "text/html": [
       "<table class=\"dataframe\">\n",
       "<caption>A data.frame: 42 × 4</caption>\n",
       "<thead>\n",
       "\t<tr><th></th><th scope=col>line</th><th scope=col>cond</th><th scope=col>time</th><th scope=col>reps</th></tr>\n",
       "\t<tr><th></th><th scope=col>&lt;chr&gt;</th><th scope=col>&lt;fct&gt;</th><th scope=col>&lt;fct&gt;</th><th scope=col>&lt;fct&gt;</th></tr>\n",
       "</thead>\n",
       "<tbody>\n",
       "\t<tr><th scope=row>hl60_120h_t_1</th><td>hl60   </td><td>Decitabine</td><td>120h</td><td>rep1</td></tr>\n",
       "\t<tr><th scope=row>hl60_120h_t_2</th><td>hl60   </td><td>Decitabine</td><td>120h</td><td>rep2</td></tr>\n",
       "\t<tr><th scope=row>hl60_120h_u_1</th><td>hl60   </td><td>DMSO      </td><td>120h</td><td>rep1</td></tr>\n",
       "\t<tr><th scope=row>hl60_120h_u_2</th><td>hl60   </td><td>DMSO      </td><td>120h</td><td>rep2</td></tr>\n",
       "\t<tr><th scope=row>hl60_6h_t_1</th><td>hl60   </td><td>Decitabine</td><td>6h  </td><td>rep1</td></tr>\n",
       "\t<tr><th scope=row>hl60_6h_t_2</th><td>hl60   </td><td>Decitabine</td><td>6h  </td><td>rep2</td></tr>\n",
       "\t<tr><th scope=row>hl60_6h_u_1</th><td>hl60   </td><td>DMSO      </td><td>6h  </td><td>rep1</td></tr>\n",
       "\t<tr><th scope=row>hl60_6h_u_2</th><td>hl60   </td><td>DMSO      </td><td>6h  </td><td>rep2</td></tr>\n",
       "\t<tr><th scope=row>hl60_72h_t_1</th><td>hl60   </td><td>Decitabine</td><td>72h </td><td>rep1</td></tr>\n",
       "\t<tr><th scope=row>hl60_72h_t_2</th><td>hl60   </td><td>Decitabine</td><td>72h </td><td>rep2</td></tr>\n",
       "\t<tr><th scope=row>hl60_72h_u_1</th><td>hl60   </td><td>DMSO      </td><td>72h </td><td>rep1</td></tr>\n",
       "\t<tr><th scope=row>hl60_72h_u_2</th><td>hl60   </td><td>DMSO      </td><td>72h </td><td>rep2</td></tr>\n",
       "\t<tr><th scope=row>kg1_t_1</th><td>kg1    </td><td>Decitabine</td><td>72h </td><td>rep1</td></tr>\n",
       "\t<tr><th scope=row>kg1_t_2</th><td>kg1    </td><td>Decitabine</td><td>72h </td><td>rep2</td></tr>\n",
       "\t<tr><th scope=row>kg1_t_3</th><td>kg1    </td><td>Decitabine</td><td>72h </td><td>rep3</td></tr>\n",
       "\t<tr><th scope=row>kg1_u_1</th><td>kg1    </td><td>DMSO      </td><td>72h </td><td>rep1</td></tr>\n",
       "\t<tr><th scope=row>kg1_u_2</th><td>kg1    </td><td>DMSO      </td><td>72h </td><td>rep2</td></tr>\n",
       "\t<tr><th scope=row>kg1_u_3</th><td>kg1    </td><td>DMSO      </td><td>72h </td><td>rep3</td></tr>\n",
       "\t<tr><th scope=row>molm14_t_1</th><td>molm14 </td><td>Decitabine</td><td>72h </td><td>rep1</td></tr>\n",
       "\t<tr><th scope=row>molm14_t_2</th><td>molm14 </td><td>Decitabine</td><td>72h </td><td>rep2</td></tr>\n",
       "\t<tr><th scope=row>molm14_t_3</th><td>molm14 </td><td>Decitabine</td><td>72h </td><td>rep3</td></tr>\n",
       "\t<tr><th scope=row>molm14_u_1</th><td>molm14 </td><td>DMSO      </td><td>72h </td><td>rep1</td></tr>\n",
       "\t<tr><th scope=row>molm14_u_2</th><td>molm14 </td><td>DMSO      </td><td>72h </td><td>rep2</td></tr>\n",
       "\t<tr><th scope=row>molm14_u_3</th><td>molm14 </td><td>DMSO      </td><td>72h </td><td>rep3</td></tr>\n",
       "\t<tr><th scope=row>ociaml2_t_1</th><td>ociaml2</td><td>Decitabine</td><td>72h </td><td>rep1</td></tr>\n",
       "\t<tr><th scope=row>ociaml2_t_2</th><td>ociaml2</td><td>Decitabine</td><td>72h </td><td>rep2</td></tr>\n",
       "\t<tr><th scope=row>ociaml2_t_3</th><td>ociaml2</td><td>Decitabine</td><td>72h </td><td>rep3</td></tr>\n",
       "\t<tr><th scope=row>ociaml2_u_1</th><td>ociaml2</td><td>DMSO      </td><td>72h </td><td>rep1</td></tr>\n",
       "\t<tr><th scope=row>ociaml2_u_2</th><td>ociaml2</td><td>DMSO      </td><td>72h </td><td>rep2</td></tr>\n",
       "\t<tr><th scope=row>ociaml2_u_3</th><td>ociaml2</td><td>DMSO      </td><td>72h </td><td>rep3</td></tr>\n",
       "\t<tr><th scope=row>ociaml3_t_1</th><td>ociaml3</td><td>Decitabine</td><td>72h </td><td>rep1</td></tr>\n",
       "\t<tr><th scope=row>ociaml3_t_2</th><td>ociaml3</td><td>Decitabine</td><td>72h </td><td>rep2</td></tr>\n",
       "\t<tr><th scope=row>ociaml3_t_3</th><td>ociaml3</td><td>Decitabine</td><td>72h </td><td>rep3</td></tr>\n",
       "\t<tr><th scope=row>ociaml3_u_1</th><td>ociaml3</td><td>DMSO      </td><td>72h </td><td>rep1</td></tr>\n",
       "\t<tr><th scope=row>ociaml3_u_2</th><td>ociaml3</td><td>DMSO      </td><td>72h </td><td>rep2</td></tr>\n",
       "\t<tr><th scope=row>ociaml3_u_3</th><td>ociaml3</td><td>DMSO      </td><td>72h </td><td>rep3</td></tr>\n",
       "\t<tr><th scope=row>thp1_t_1</th><td>thp1   </td><td>Decitabine</td><td>72h </td><td>rep1</td></tr>\n",
       "\t<tr><th scope=row>thp1_t_2</th><td>thp1   </td><td>Decitabine</td><td>72h </td><td>rep2</td></tr>\n",
       "\t<tr><th scope=row>thp1_t_3</th><td>thp1   </td><td>Decitabine</td><td>72h </td><td>rep3</td></tr>\n",
       "\t<tr><th scope=row>thp1_u_1</th><td>thp1   </td><td>DMSO      </td><td>72h </td><td>rep1</td></tr>\n",
       "\t<tr><th scope=row>thp1_u_2</th><td>thp1   </td><td>DMSO      </td><td>72h </td><td>rep2</td></tr>\n",
       "\t<tr><th scope=row>thp1_u_3</th><td>thp1   </td><td>DMSO      </td><td>72h </td><td>rep3</td></tr>\n",
       "</tbody>\n",
       "</table>\n"
      ],
      "text/latex": [
       "A data.frame: 42 × 4\n",
       "\\begin{tabular}{r|llll}\n",
       "  & line & cond & time & reps\\\\\n",
       "  & <chr> & <fct> & <fct> & <fct>\\\\\n",
       "\\hline\n",
       "\thl60\\_120h\\_t\\_1 & hl60    & Decitabine & 120h & rep1\\\\\n",
       "\thl60\\_120h\\_t\\_2 & hl60    & Decitabine & 120h & rep2\\\\\n",
       "\thl60\\_120h\\_u\\_1 & hl60    & DMSO       & 120h & rep1\\\\\n",
       "\thl60\\_120h\\_u\\_2 & hl60    & DMSO       & 120h & rep2\\\\\n",
       "\thl60\\_6h\\_t\\_1 & hl60    & Decitabine & 6h   & rep1\\\\\n",
       "\thl60\\_6h\\_t\\_2 & hl60    & Decitabine & 6h   & rep2\\\\\n",
       "\thl60\\_6h\\_u\\_1 & hl60    & DMSO       & 6h   & rep1\\\\\n",
       "\thl60\\_6h\\_u\\_2 & hl60    & DMSO       & 6h   & rep2\\\\\n",
       "\thl60\\_72h\\_t\\_1 & hl60    & Decitabine & 72h  & rep1\\\\\n",
       "\thl60\\_72h\\_t\\_2 & hl60    & Decitabine & 72h  & rep2\\\\\n",
       "\thl60\\_72h\\_u\\_1 & hl60    & DMSO       & 72h  & rep1\\\\\n",
       "\thl60\\_72h\\_u\\_2 & hl60    & DMSO       & 72h  & rep2\\\\\n",
       "\tkg1\\_t\\_1 & kg1     & Decitabine & 72h  & rep1\\\\\n",
       "\tkg1\\_t\\_2 & kg1     & Decitabine & 72h  & rep2\\\\\n",
       "\tkg1\\_t\\_3 & kg1     & Decitabine & 72h  & rep3\\\\\n",
       "\tkg1\\_u\\_1 & kg1     & DMSO       & 72h  & rep1\\\\\n",
       "\tkg1\\_u\\_2 & kg1     & DMSO       & 72h  & rep2\\\\\n",
       "\tkg1\\_u\\_3 & kg1     & DMSO       & 72h  & rep3\\\\\n",
       "\tmolm14\\_t\\_1 & molm14  & Decitabine & 72h  & rep1\\\\\n",
       "\tmolm14\\_t\\_2 & molm14  & Decitabine & 72h  & rep2\\\\\n",
       "\tmolm14\\_t\\_3 & molm14  & Decitabine & 72h  & rep3\\\\\n",
       "\tmolm14\\_u\\_1 & molm14  & DMSO       & 72h  & rep1\\\\\n",
       "\tmolm14\\_u\\_2 & molm14  & DMSO       & 72h  & rep2\\\\\n",
       "\tmolm14\\_u\\_3 & molm14  & DMSO       & 72h  & rep3\\\\\n",
       "\tociaml2\\_t\\_1 & ociaml2 & Decitabine & 72h  & rep1\\\\\n",
       "\tociaml2\\_t\\_2 & ociaml2 & Decitabine & 72h  & rep2\\\\\n",
       "\tociaml2\\_t\\_3 & ociaml2 & Decitabine & 72h  & rep3\\\\\n",
       "\tociaml2\\_u\\_1 & ociaml2 & DMSO       & 72h  & rep1\\\\\n",
       "\tociaml2\\_u\\_2 & ociaml2 & DMSO       & 72h  & rep2\\\\\n",
       "\tociaml2\\_u\\_3 & ociaml2 & DMSO       & 72h  & rep3\\\\\n",
       "\tociaml3\\_t\\_1 & ociaml3 & Decitabine & 72h  & rep1\\\\\n",
       "\tociaml3\\_t\\_2 & ociaml3 & Decitabine & 72h  & rep2\\\\\n",
       "\tociaml3\\_t\\_3 & ociaml3 & Decitabine & 72h  & rep3\\\\\n",
       "\tociaml3\\_u\\_1 & ociaml3 & DMSO       & 72h  & rep1\\\\\n",
       "\tociaml3\\_u\\_2 & ociaml3 & DMSO       & 72h  & rep2\\\\\n",
       "\tociaml3\\_u\\_3 & ociaml3 & DMSO       & 72h  & rep3\\\\\n",
       "\tthp1\\_t\\_1 & thp1    & Decitabine & 72h  & rep1\\\\\n",
       "\tthp1\\_t\\_2 & thp1    & Decitabine & 72h  & rep2\\\\\n",
       "\tthp1\\_t\\_3 & thp1    & Decitabine & 72h  & rep3\\\\\n",
       "\tthp1\\_u\\_1 & thp1    & DMSO       & 72h  & rep1\\\\\n",
       "\tthp1\\_u\\_2 & thp1    & DMSO       & 72h  & rep2\\\\\n",
       "\tthp1\\_u\\_3 & thp1    & DMSO       & 72h  & rep3\\\\\n",
       "\\end{tabular}\n"
      ],
      "text/markdown": [
       "\n",
       "A data.frame: 42 × 4\n",
       "\n",
       "| <!--/--> | line &lt;chr&gt; | cond &lt;fct&gt; | time &lt;fct&gt; | reps &lt;fct&gt; |\n",
       "|---|---|---|---|---|\n",
       "| hl60_120h_t_1 | hl60    | Decitabine | 120h | rep1 |\n",
       "| hl60_120h_t_2 | hl60    | Decitabine | 120h | rep2 |\n",
       "| hl60_120h_u_1 | hl60    | DMSO       | 120h | rep1 |\n",
       "| hl60_120h_u_2 | hl60    | DMSO       | 120h | rep2 |\n",
       "| hl60_6h_t_1 | hl60    | Decitabine | 6h   | rep1 |\n",
       "| hl60_6h_t_2 | hl60    | Decitabine | 6h   | rep2 |\n",
       "| hl60_6h_u_1 | hl60    | DMSO       | 6h   | rep1 |\n",
       "| hl60_6h_u_2 | hl60    | DMSO       | 6h   | rep2 |\n",
       "| hl60_72h_t_1 | hl60    | Decitabine | 72h  | rep1 |\n",
       "| hl60_72h_t_2 | hl60    | Decitabine | 72h  | rep2 |\n",
       "| hl60_72h_u_1 | hl60    | DMSO       | 72h  | rep1 |\n",
       "| hl60_72h_u_2 | hl60    | DMSO       | 72h  | rep2 |\n",
       "| kg1_t_1 | kg1     | Decitabine | 72h  | rep1 |\n",
       "| kg1_t_2 | kg1     | Decitabine | 72h  | rep2 |\n",
       "| kg1_t_3 | kg1     | Decitabine | 72h  | rep3 |\n",
       "| kg1_u_1 | kg1     | DMSO       | 72h  | rep1 |\n",
       "| kg1_u_2 | kg1     | DMSO       | 72h  | rep2 |\n",
       "| kg1_u_3 | kg1     | DMSO       | 72h  | rep3 |\n",
       "| molm14_t_1 | molm14  | Decitabine | 72h  | rep1 |\n",
       "| molm14_t_2 | molm14  | Decitabine | 72h  | rep2 |\n",
       "| molm14_t_3 | molm14  | Decitabine | 72h  | rep3 |\n",
       "| molm14_u_1 | molm14  | DMSO       | 72h  | rep1 |\n",
       "| molm14_u_2 | molm14  | DMSO       | 72h  | rep2 |\n",
       "| molm14_u_3 | molm14  | DMSO       | 72h  | rep3 |\n",
       "| ociaml2_t_1 | ociaml2 | Decitabine | 72h  | rep1 |\n",
       "| ociaml2_t_2 | ociaml2 | Decitabine | 72h  | rep2 |\n",
       "| ociaml2_t_3 | ociaml2 | Decitabine | 72h  | rep3 |\n",
       "| ociaml2_u_1 | ociaml2 | DMSO       | 72h  | rep1 |\n",
       "| ociaml2_u_2 | ociaml2 | DMSO       | 72h  | rep2 |\n",
       "| ociaml2_u_3 | ociaml2 | DMSO       | 72h  | rep3 |\n",
       "| ociaml3_t_1 | ociaml3 | Decitabine | 72h  | rep1 |\n",
       "| ociaml3_t_2 | ociaml3 | Decitabine | 72h  | rep2 |\n",
       "| ociaml3_t_3 | ociaml3 | Decitabine | 72h  | rep3 |\n",
       "| ociaml3_u_1 | ociaml3 | DMSO       | 72h  | rep1 |\n",
       "| ociaml3_u_2 | ociaml3 | DMSO       | 72h  | rep2 |\n",
       "| ociaml3_u_3 | ociaml3 | DMSO       | 72h  | rep3 |\n",
       "| thp1_t_1 | thp1    | Decitabine | 72h  | rep1 |\n",
       "| thp1_t_2 | thp1    | Decitabine | 72h  | rep2 |\n",
       "| thp1_t_3 | thp1    | Decitabine | 72h  | rep3 |\n",
       "| thp1_u_1 | thp1    | DMSO       | 72h  | rep1 |\n",
       "| thp1_u_2 | thp1    | DMSO       | 72h  | rep2 |\n",
       "| thp1_u_3 | thp1    | DMSO       | 72h  | rep3 |\n",
       "\n"
      ],
      "text/plain": [
       "              line    cond       time reps\n",
       "hl60_120h_t_1 hl60    Decitabine 120h rep1\n",
       "hl60_120h_t_2 hl60    Decitabine 120h rep2\n",
       "hl60_120h_u_1 hl60    DMSO       120h rep1\n",
       "hl60_120h_u_2 hl60    DMSO       120h rep2\n",
       "hl60_6h_t_1   hl60    Decitabine 6h   rep1\n",
       "hl60_6h_t_2   hl60    Decitabine 6h   rep2\n",
       "hl60_6h_u_1   hl60    DMSO       6h   rep1\n",
       "hl60_6h_u_2   hl60    DMSO       6h   rep2\n",
       "hl60_72h_t_1  hl60    Decitabine 72h  rep1\n",
       "hl60_72h_t_2  hl60    Decitabine 72h  rep2\n",
       "hl60_72h_u_1  hl60    DMSO       72h  rep1\n",
       "hl60_72h_u_2  hl60    DMSO       72h  rep2\n",
       "kg1_t_1       kg1     Decitabine 72h  rep1\n",
       "kg1_t_2       kg1     Decitabine 72h  rep2\n",
       "kg1_t_3       kg1     Decitabine 72h  rep3\n",
       "kg1_u_1       kg1     DMSO       72h  rep1\n",
       "kg1_u_2       kg1     DMSO       72h  rep2\n",
       "kg1_u_3       kg1     DMSO       72h  rep3\n",
       "molm14_t_1    molm14  Decitabine 72h  rep1\n",
       "molm14_t_2    molm14  Decitabine 72h  rep2\n",
       "molm14_t_3    molm14  Decitabine 72h  rep3\n",
       "molm14_u_1    molm14  DMSO       72h  rep1\n",
       "molm14_u_2    molm14  DMSO       72h  rep2\n",
       "molm14_u_3    molm14  DMSO       72h  rep3\n",
       "ociaml2_t_1   ociaml2 Decitabine 72h  rep1\n",
       "ociaml2_t_2   ociaml2 Decitabine 72h  rep2\n",
       "ociaml2_t_3   ociaml2 Decitabine 72h  rep3\n",
       "ociaml2_u_1   ociaml2 DMSO       72h  rep1\n",
       "ociaml2_u_2   ociaml2 DMSO       72h  rep2\n",
       "ociaml2_u_3   ociaml2 DMSO       72h  rep3\n",
       "ociaml3_t_1   ociaml3 Decitabine 72h  rep1\n",
       "ociaml3_t_2   ociaml3 Decitabine 72h  rep2\n",
       "ociaml3_t_3   ociaml3 Decitabine 72h  rep3\n",
       "ociaml3_u_1   ociaml3 DMSO       72h  rep1\n",
       "ociaml3_u_2   ociaml3 DMSO       72h  rep2\n",
       "ociaml3_u_3   ociaml3 DMSO       72h  rep3\n",
       "thp1_t_1      thp1    Decitabine 72h  rep1\n",
       "thp1_t_2      thp1    Decitabine 72h  rep2\n",
       "thp1_t_3      thp1    Decitabine 72h  rep3\n",
       "thp1_u_1      thp1    DMSO       72h  rep1\n",
       "thp1_u_2      thp1    DMSO       72h  rep2\n",
       "thp1_u_3      thp1    DMSO       72h  rep3"
      ]
     },
     "metadata": {},
     "output_type": "display_data"
    }
   ],
   "source": [
    "# meta \n",
    "lines   <- c(rep('hl60',12),lapply(c('kg1', 'molm14', 'ociaml2', 'ociaml3', 'thp1'), rep, 6) %>% unlist)\n",
    "\n",
    "# meta \n",
    "conds  <- factor(c(\n",
    "    # hl60\n",
    "    rep(c(rep('Decitabine',2),rep('DMSO',2)),3),\n",
    "    # 5 other cell lines\n",
    "    rep(c(rep('Decitabine',3), rep('DMSO',3)),5)\n",
    "), levels = c('DMSO','Decitabine'))\n",
    "\n",
    "reps <- factor(c(\n",
    "    # hl60\n",
    "    rep(c('rep1','rep2'),6),\n",
    "    # 5 other cell lines\n",
    "    rep(c('rep1','rep2','rep3'),10)\n",
    "),c('rep1','rep2','rep3'))\n",
    "\n",
    "hours <- factor(c(\n",
    "    # hl60\n",
    "    c(rep('120h',4),rep('6h',4),rep('72h',4)), \n",
    "    # 5 other cell lines\n",
    "    rep('72h',30)\n",
    "),c('6h','72h','120h') )\n",
    "\n",
    "colData <- data.frame(\n",
    "    line=lines, \n",
    "    cond=conds,\n",
    "    time=hours,\n",
    "    reps=reps,\n",
    "    row.names=colnames(txi$abundance),\n",
    "    stringsAsFactors=FALSE\n",
    ")\n",
    "colData"
   ]
  },
  {
   "cell_type": "markdown",
   "metadata": {
    "tags": []
   },
   "source": [
    "#### Save normalized counts"
   ]
  },
  {
   "cell_type": "code",
   "execution_count": 16,
   "metadata": {},
   "outputs": [
    {
     "name": "stderr",
     "output_type": "stream",
     "text": [
      "using counts and average transcript lengths from tximport\n",
      "\n"
     ]
    }
   ],
   "source": [
    "dds0 <- DESeqDataSetFromTximport(txi, colData, ~cond)\n",
    "# dds <- DESeqDataSetFromTximport(txi.gene, colData, ~cond)"
   ]
  },
  {
   "cell_type": "code",
   "execution_count": 17,
   "metadata": {},
   "outputs": [
    {
     "name": "stderr",
     "output_type": "stream",
     "text": [
      "using 'avgTxLength' from assays(dds), correcting for library size\n",
      "\n"
     ]
    }
   ],
   "source": [
    "dds0 <- estimateSizeFactors(dds0)"
   ]
  },
  {
   "cell_type": "code",
   "execution_count": 18,
   "metadata": {},
   "outputs": [],
   "source": [
    "ncu <- counts(dds0, normalized=TRUE) "
   ]
  },
  {
   "cell_type": "code",
   "execution_count": 19,
   "metadata": {},
   "outputs": [],
   "source": [
    "# write.table(\n",
    "#     ncu[DAC_tx2gene$TXNAME,],'tinat/deseq2_norm.txt', sep=\"\\t\", quote=FALSE, col.names=TRUE\n",
    "# )"
   ]
  },
  {
   "cell_type": "markdown",
   "metadata": {
    "jp-MarkdownHeadingCollapsed": true,
    "tags": []
   },
   "source": [
    "___\n",
    "## Decitabine treatment time-series RNA-Seq experiments in HL60 cell line"
   ]
  },
  {
   "cell_type": "markdown",
   "metadata": {},
   "source": [
    "In order to test for any differences over multiple time points, once can use a design including the time factor, and then test using the **likelihood ratio test (LRT)**. Here, as we have control (DMSO) and treatment (Decitabine) time series, design formula containing the condition factor, the time factor, and the interaction of the two. In this case, using the likelihood ratio test with a reduced model which does not contain the interaction terms will test whether the condition induces a change in gene expression at any time point after the reference level time point (time 0). \n",
    "\n",
    "(see [this](http://bioconductor.org/packages/devel/bioc/vignettes/DESeq2/inst/doc/DESeq2.html#time-series-experiments)  OR [this](http://master.bioconductor.org/packages/release/workflows/vignettes/rnaseqGene/inst/doc/rnaseqGene.html#time-course-experiments) for more details about DESeq2 time series experiments)"
   ]
  },
  {
   "cell_type": "markdown",
   "metadata": {
    "tags": []
   },
   "source": [
    "### Load count data and meta table "
   ]
  },
  {
   "cell_type": "markdown",
   "metadata": {},
   "source": [
    "Import salmon quants"
   ]
  },
  {
   "cell_type": "code",
   "execution_count": 21,
   "metadata": {},
   "outputs": [
    {
     "name": "stderr",
     "output_type": "stream",
     "text": [
      "reading in files with read_tsv\n",
      "\n",
      "1 \n",
      "2 \n",
      "3 \n",
      "4 \n",
      "5 \n",
      "6 \n",
      "7 \n",
      "8 \n",
      "9 \n",
      "10 \n",
      "11 \n",
      "12 \n",
      "\n",
      "\n"
     ]
    }
   ],
   "source": [
    "txi_hl60 <- tximport(\n",
    "    files[grep(\"hl60\", files, fixed=T)], \n",
    "    type = \"salmon\", \n",
    "    txOut=TRUE\n",
    ")"
   ]
  },
  {
   "cell_type": "markdown",
   "metadata": {},
   "source": [
    "Define the sample sheet"
   ]
  },
  {
   "cell_type": "code",
   "execution_count": 22,
   "metadata": {},
   "outputs": [
    {
     "data": {
      "text/html": [
       "<table class=\"dataframe\">\n",
       "<caption>A data.frame: 12 × 4</caption>\n",
       "<thead>\n",
       "\t<tr><th></th><th scope=col>line</th><th scope=col>cond</th><th scope=col>time</th><th scope=col>reps</th></tr>\n",
       "\t<tr><th></th><th scope=col>&lt;chr&gt;</th><th scope=col>&lt;fct&gt;</th><th scope=col>&lt;fct&gt;</th><th scope=col>&lt;fct&gt;</th></tr>\n",
       "</thead>\n",
       "<tbody>\n",
       "\t<tr><th scope=row>hl60_120h_t_1</th><td>hl60</td><td>Decitabine</td><td>120h</td><td>rep1</td></tr>\n",
       "\t<tr><th scope=row>hl60_120h_t_2</th><td>hl60</td><td>Decitabine</td><td>120h</td><td>rep2</td></tr>\n",
       "\t<tr><th scope=row>hl60_120h_u_1</th><td>hl60</td><td>DMSO      </td><td>120h</td><td>rep1</td></tr>\n",
       "\t<tr><th scope=row>hl60_120h_u_2</th><td>hl60</td><td>DMSO      </td><td>120h</td><td>rep2</td></tr>\n",
       "\t<tr><th scope=row>hl60_6h_t_1</th><td>hl60</td><td>Decitabine</td><td>6h  </td><td>rep1</td></tr>\n",
       "\t<tr><th scope=row>hl60_6h_t_2</th><td>hl60</td><td>Decitabine</td><td>6h  </td><td>rep2</td></tr>\n",
       "\t<tr><th scope=row>hl60_6h_u_1</th><td>hl60</td><td>DMSO      </td><td>6h  </td><td>rep1</td></tr>\n",
       "\t<tr><th scope=row>hl60_6h_u_2</th><td>hl60</td><td>DMSO      </td><td>6h  </td><td>rep2</td></tr>\n",
       "\t<tr><th scope=row>hl60_72h_t_1</th><td>hl60</td><td>Decitabine</td><td>72h </td><td>rep1</td></tr>\n",
       "\t<tr><th scope=row>hl60_72h_t_2</th><td>hl60</td><td>Decitabine</td><td>72h </td><td>rep2</td></tr>\n",
       "\t<tr><th scope=row>hl60_72h_u_1</th><td>hl60</td><td>DMSO      </td><td>72h </td><td>rep1</td></tr>\n",
       "\t<tr><th scope=row>hl60_72h_u_2</th><td>hl60</td><td>DMSO      </td><td>72h </td><td>rep2</td></tr>\n",
       "</tbody>\n",
       "</table>\n"
      ],
      "text/latex": [
       "A data.frame: 12 × 4\n",
       "\\begin{tabular}{r|llll}\n",
       "  & line & cond & time & reps\\\\\n",
       "  & <chr> & <fct> & <fct> & <fct>\\\\\n",
       "\\hline\n",
       "\thl60\\_120h\\_t\\_1 & hl60 & Decitabine & 120h & rep1\\\\\n",
       "\thl60\\_120h\\_t\\_2 & hl60 & Decitabine & 120h & rep2\\\\\n",
       "\thl60\\_120h\\_u\\_1 & hl60 & DMSO       & 120h & rep1\\\\\n",
       "\thl60\\_120h\\_u\\_2 & hl60 & DMSO       & 120h & rep2\\\\\n",
       "\thl60\\_6h\\_t\\_1 & hl60 & Decitabine & 6h   & rep1\\\\\n",
       "\thl60\\_6h\\_t\\_2 & hl60 & Decitabine & 6h   & rep2\\\\\n",
       "\thl60\\_6h\\_u\\_1 & hl60 & DMSO       & 6h   & rep1\\\\\n",
       "\thl60\\_6h\\_u\\_2 & hl60 & DMSO       & 6h   & rep2\\\\\n",
       "\thl60\\_72h\\_t\\_1 & hl60 & Decitabine & 72h  & rep1\\\\\n",
       "\thl60\\_72h\\_t\\_2 & hl60 & Decitabine & 72h  & rep2\\\\\n",
       "\thl60\\_72h\\_u\\_1 & hl60 & DMSO       & 72h  & rep1\\\\\n",
       "\thl60\\_72h\\_u\\_2 & hl60 & DMSO       & 72h  & rep2\\\\\n",
       "\\end{tabular}\n"
      ],
      "text/markdown": [
       "\n",
       "A data.frame: 12 × 4\n",
       "\n",
       "| <!--/--> | line &lt;chr&gt; | cond &lt;fct&gt; | time &lt;fct&gt; | reps &lt;fct&gt; |\n",
       "|---|---|---|---|---|\n",
       "| hl60_120h_t_1 | hl60 | Decitabine | 120h | rep1 |\n",
       "| hl60_120h_t_2 | hl60 | Decitabine | 120h | rep2 |\n",
       "| hl60_120h_u_1 | hl60 | DMSO       | 120h | rep1 |\n",
       "| hl60_120h_u_2 | hl60 | DMSO       | 120h | rep2 |\n",
       "| hl60_6h_t_1 | hl60 | Decitabine | 6h   | rep1 |\n",
       "| hl60_6h_t_2 | hl60 | Decitabine | 6h   | rep2 |\n",
       "| hl60_6h_u_1 | hl60 | DMSO       | 6h   | rep1 |\n",
       "| hl60_6h_u_2 | hl60 | DMSO       | 6h   | rep2 |\n",
       "| hl60_72h_t_1 | hl60 | Decitabine | 72h  | rep1 |\n",
       "| hl60_72h_t_2 | hl60 | Decitabine | 72h  | rep2 |\n",
       "| hl60_72h_u_1 | hl60 | DMSO       | 72h  | rep1 |\n",
       "| hl60_72h_u_2 | hl60 | DMSO       | 72h  | rep2 |\n",
       "\n"
      ],
      "text/plain": [
       "              line cond       time reps\n",
       "hl60_120h_t_1 hl60 Decitabine 120h rep1\n",
       "hl60_120h_t_2 hl60 Decitabine 120h rep2\n",
       "hl60_120h_u_1 hl60 DMSO       120h rep1\n",
       "hl60_120h_u_2 hl60 DMSO       120h rep2\n",
       "hl60_6h_t_1   hl60 Decitabine 6h   rep1\n",
       "hl60_6h_t_2   hl60 Decitabine 6h   rep2\n",
       "hl60_6h_u_1   hl60 DMSO       6h   rep1\n",
       "hl60_6h_u_2   hl60 DMSO       6h   rep2\n",
       "hl60_72h_t_1  hl60 Decitabine 72h  rep1\n",
       "hl60_72h_t_2  hl60 Decitabine 72h  rep2\n",
       "hl60_72h_u_1  hl60 DMSO       72h  rep1\n",
       "hl60_72h_u_2  hl60 DMSO       72h  rep2"
      ]
     },
     "metadata": {},
     "output_type": "display_data"
    }
   ],
   "source": [
    "colData[colData$line == 'hl60',]"
   ]
  },
  {
   "cell_type": "markdown",
   "metadata": {
    "tags": []
   },
   "source": [
    "### PCA\n",
    "<!-- Initial principal component analysis (PCA) shows the second treated biological replicate at 72h time point, behaves as an outlier. Removing that from the analysis give us a better representation of our dataset. In the second PCA plot, we can see that treated samples at 6h cluster with the non-treated samples which suggest that 6 hours treatment with the drug is not as effective as 72h and 120h. Although, we will check the variant genes in this time-point in the following statistical analysis. -->\n"
   ]
  },
  {
   "cell_type": "code",
   "execution_count": 23,
   "metadata": {},
   "outputs": [
    {
     "name": "stderr",
     "output_type": "stream",
     "text": [
      "using counts and average transcript lengths from tximport\n",
      "\n"
     ]
    },
    {
     "data": {
      "text/html": [
       "561085"
      ],
      "text/latex": [
       "561085"
      ],
      "text/markdown": [
       "561085"
      ],
      "text/plain": [
       "[1] 561085"
      ]
     },
     "metadata": {},
     "output_type": "display_data"
    }
   ],
   "source": [
    "dds0 <- DESeqDataSetFromTximport(txi_hl60, colData[colData$line == 'hl60',], ~0 + cond + time )\n",
    "nrow(dds0)"
   ]
  },
  {
   "cell_type": "code",
   "execution_count": null,
   "metadata": {},
   "outputs": [],
   "source": [
    "dds.pca <- DESeq(dds0, parallel=TRUE)\n",
    "# results \n",
    "vsd_hl60 <- varianceStabilizingTransformation(dds.pca)"
   ]
  },
  {
   "cell_type": "code",
   "execution_count": null,
   "metadata": {},
   "outputs": [],
   "source": [
    "pca_hl60 <- plot_PCA(\n",
    "    vsd_hl60, \n",
    "    colData(vsd_hl60), \n",
    "    labels=colData(vsd_hl60)[,'time'],gr=c('cond'), title='cell line: hl60'\n",
    ")\n",
    "\n",
    "pca_hl60"
   ]
  },
  {
   "cell_type": "code",
   "execution_count": null,
   "metadata": {},
   "outputs": [],
   "source": [
    "par(mar=c(15,5,1,1))\n",
    "boxplot(log10(assays(dds.pca)[[\"cooks\"]]), range=0, las=2)"
   ]
  },
  {
   "cell_type": "markdown",
   "metadata": {
    "tags": []
   },
   "source": [
    "### Differential expression analysis\n",
    "I'm doing differential expression analysis for treated samples vs. untreated at 6h, 72h and 120h. "
   ]
  },
  {
   "cell_type": "markdown",
   "metadata": {
    "tags": []
   },
   "source": [
    "#### First scenario\n",
    "Time included as factor variable. \n",
    "\n",
    "We make two different `dds` object one with with no `cond:time` interaction term and the other one with the interaction term (**ANOVA-like comparison**). \n",
    "\n",
    "<!-- Then, I'm replacing results from first object to the secound one for genes with adjust p-values (padj) > 0.05. Hossien Asgharian told me these genes has more accurate estimation from the model with no interaction term.  -->\n",
    "\n",
    "https://bioconductor.org/packages/release/workflows/vignettes/RNAseq123/inst/doc/designmatrices.html#design-matrices-with-and-without-intercept-term"
   ]
  },
  {
   "cell_type": "code",
   "execution_count": 24,
   "metadata": {},
   "outputs": [
    {
     "data": {
      "text/html": [
       "<style>\n",
       ".list-inline {list-style: none; margin:0; padding: 0}\n",
       ".list-inline>li {display: inline-block}\n",
       ".list-inline>li:not(:last-child)::after {content: \"\\00b7\"; padding: 0 .5ex}\n",
       "</style>\n",
       "<ol class=list-inline><li>'DMSO'</li><li>'Decitabine'</li></ol>\n"
      ],
      "text/latex": [
       "\\begin{enumerate*}\n",
       "\\item 'DMSO'\n",
       "\\item 'Decitabine'\n",
       "\\end{enumerate*}\n"
      ],
      "text/markdown": [
       "1. 'DMSO'\n",
       "2. 'Decitabine'\n",
       "\n",
       "\n"
      ],
      "text/plain": [
       "[1] \"DMSO\"       \"Decitabine\""
      ]
     },
     "metadata": {},
     "output_type": "display_data"
    }
   ],
   "source": [
    "levels(colData$cond)"
   ]
  },
  {
   "cell_type": "code",
   "execution_count": 25,
   "metadata": {},
   "outputs": [
    {
     "data": {
      "text/html": [
       "<table class=\"dataframe\">\n",
       "<caption>A matrix: 12 × 6 of type dbl</caption>\n",
       "<thead>\n",
       "\t<tr><th></th><th scope=col>condDMSO</th><th scope=col>condDecitabine</th><th scope=col>time72h</th><th scope=col>time120h</th><th scope=col>condDecitabine:time72h</th><th scope=col>condDecitabine:time120h</th></tr>\n",
       "</thead>\n",
       "<tbody>\n",
       "\t<tr><th scope=row>hl60_120h_t_1</th><td>0</td><td>1</td><td>0</td><td>1</td><td>0</td><td>1</td></tr>\n",
       "\t<tr><th scope=row>hl60_120h_t_2</th><td>0</td><td>1</td><td>0</td><td>1</td><td>0</td><td>1</td></tr>\n",
       "\t<tr><th scope=row>hl60_120h_u_1</th><td>1</td><td>0</td><td>0</td><td>1</td><td>0</td><td>0</td></tr>\n",
       "\t<tr><th scope=row>hl60_120h_u_2</th><td>1</td><td>0</td><td>0</td><td>1</td><td>0</td><td>0</td></tr>\n",
       "\t<tr><th scope=row>hl60_6h_t_1</th><td>0</td><td>1</td><td>0</td><td>0</td><td>0</td><td>0</td></tr>\n",
       "\t<tr><th scope=row>hl60_6h_t_2</th><td>0</td><td>1</td><td>0</td><td>0</td><td>0</td><td>0</td></tr>\n",
       "\t<tr><th scope=row>hl60_6h_u_1</th><td>1</td><td>0</td><td>0</td><td>0</td><td>0</td><td>0</td></tr>\n",
       "\t<tr><th scope=row>hl60_6h_u_2</th><td>1</td><td>0</td><td>0</td><td>0</td><td>0</td><td>0</td></tr>\n",
       "\t<tr><th scope=row>hl60_72h_t_1</th><td>0</td><td>1</td><td>1</td><td>0</td><td>1</td><td>0</td></tr>\n",
       "\t<tr><th scope=row>hl60_72h_t_2</th><td>0</td><td>1</td><td>1</td><td>0</td><td>1</td><td>0</td></tr>\n",
       "\t<tr><th scope=row>hl60_72h_u_1</th><td>1</td><td>0</td><td>1</td><td>0</td><td>0</td><td>0</td></tr>\n",
       "\t<tr><th scope=row>hl60_72h_u_2</th><td>1</td><td>0</td><td>1</td><td>0</td><td>0</td><td>0</td></tr>\n",
       "</tbody>\n",
       "</table>\n"
      ],
      "text/latex": [
       "A matrix: 12 × 6 of type dbl\n",
       "\\begin{tabular}{r|llllll}\n",
       "  & condDMSO & condDecitabine & time72h & time120h & condDecitabine:time72h & condDecitabine:time120h\\\\\n",
       "\\hline\n",
       "\thl60\\_120h\\_t\\_1 & 0 & 1 & 0 & 1 & 0 & 1\\\\\n",
       "\thl60\\_120h\\_t\\_2 & 0 & 1 & 0 & 1 & 0 & 1\\\\\n",
       "\thl60\\_120h\\_u\\_1 & 1 & 0 & 0 & 1 & 0 & 0\\\\\n",
       "\thl60\\_120h\\_u\\_2 & 1 & 0 & 0 & 1 & 0 & 0\\\\\n",
       "\thl60\\_6h\\_t\\_1 & 0 & 1 & 0 & 0 & 0 & 0\\\\\n",
       "\thl60\\_6h\\_t\\_2 & 0 & 1 & 0 & 0 & 0 & 0\\\\\n",
       "\thl60\\_6h\\_u\\_1 & 1 & 0 & 0 & 0 & 0 & 0\\\\\n",
       "\thl60\\_6h\\_u\\_2 & 1 & 0 & 0 & 0 & 0 & 0\\\\\n",
       "\thl60\\_72h\\_t\\_1 & 0 & 1 & 1 & 0 & 1 & 0\\\\\n",
       "\thl60\\_72h\\_t\\_2 & 0 & 1 & 1 & 0 & 1 & 0\\\\\n",
       "\thl60\\_72h\\_u\\_1 & 1 & 0 & 1 & 0 & 0 & 0\\\\\n",
       "\thl60\\_72h\\_u\\_2 & 1 & 0 & 1 & 0 & 0 & 0\\\\\n",
       "\\end{tabular}\n"
      ],
      "text/markdown": [
       "\n",
       "A matrix: 12 × 6 of type dbl\n",
       "\n",
       "| <!--/--> | condDMSO | condDecitabine | time72h | time120h | condDecitabine:time72h | condDecitabine:time120h |\n",
       "|---|---|---|---|---|---|---|\n",
       "| hl60_120h_t_1 | 0 | 1 | 0 | 1 | 0 | 1 |\n",
       "| hl60_120h_t_2 | 0 | 1 | 0 | 1 | 0 | 1 |\n",
       "| hl60_120h_u_1 | 1 | 0 | 0 | 1 | 0 | 0 |\n",
       "| hl60_120h_u_2 | 1 | 0 | 0 | 1 | 0 | 0 |\n",
       "| hl60_6h_t_1 | 0 | 1 | 0 | 0 | 0 | 0 |\n",
       "| hl60_6h_t_2 | 0 | 1 | 0 | 0 | 0 | 0 |\n",
       "| hl60_6h_u_1 | 1 | 0 | 0 | 0 | 0 | 0 |\n",
       "| hl60_6h_u_2 | 1 | 0 | 0 | 0 | 0 | 0 |\n",
       "| hl60_72h_t_1 | 0 | 1 | 1 | 0 | 1 | 0 |\n",
       "| hl60_72h_t_2 | 0 | 1 | 1 | 0 | 1 | 0 |\n",
       "| hl60_72h_u_1 | 1 | 0 | 1 | 0 | 0 | 0 |\n",
       "| hl60_72h_u_2 | 1 | 0 | 1 | 0 | 0 | 0 |\n",
       "\n"
      ],
      "text/plain": [
       "              condDMSO condDecitabine time72h time120h condDecitabine:time72h\n",
       "hl60_120h_t_1 0        1              0       1        0                     \n",
       "hl60_120h_t_2 0        1              0       1        0                     \n",
       "hl60_120h_u_1 1        0              0       1        0                     \n",
       "hl60_120h_u_2 1        0              0       1        0                     \n",
       "hl60_6h_t_1   0        1              0       0        0                     \n",
       "hl60_6h_t_2   0        1              0       0        0                     \n",
       "hl60_6h_u_1   1        0              0       0        0                     \n",
       "hl60_6h_u_2   1        0              0       0        0                     \n",
       "hl60_72h_t_1  0        1              1       0        1                     \n",
       "hl60_72h_t_2  0        1              1       0        1                     \n",
       "hl60_72h_u_1  1        0              1       0        0                     \n",
       "hl60_72h_u_2  1        0              1       0        0                     \n",
       "              condDecitabine:time120h\n",
       "hl60_120h_t_1 1                      \n",
       "hl60_120h_t_2 1                      \n",
       "hl60_120h_u_1 0                      \n",
       "hl60_120h_u_2 0                      \n",
       "hl60_6h_t_1   0                      \n",
       "hl60_6h_t_2   0                      \n",
       "hl60_6h_u_1   0                      \n",
       "hl60_6h_u_2   0                      \n",
       "hl60_72h_t_1  0                      \n",
       "hl60_72h_t_2  0                      \n",
       "hl60_72h_u_1  0                      \n",
       "hl60_72h_u_2  0                      "
      ]
     },
     "metadata": {},
     "output_type": "display_data"
    }
   ],
   "source": [
    "model.matrix(~0+cond*time, colData[colData$line=='hl60',])"
   ]
  },
  {
   "cell_type": "code",
   "execution_count": 57,
   "metadata": {},
   "outputs": [
    {
     "name": "stderr",
     "output_type": "stream",
     "text": [
      "using counts and average transcript lengths from tximport\n",
      "\n"
     ]
    }
   ],
   "source": [
    "dds <- DESeqDataSetFromTximport(txi_hl60, colData[colData$line=='hl60',], ~0 + cond + time + cond:time)"
   ]
  },
  {
   "cell_type": "code",
   "execution_count": 58,
   "metadata": {},
   "outputs": [
    {
     "name": "stderr",
     "output_type": "stream",
     "text": [
      "estimating size factors\n",
      "\n",
      "using 'avgTxLength' from assays(dds), correcting for library size\n",
      "\n",
      "estimating dispersions\n",
      "\n",
      "gene-wise dispersion estimates: 18 workers\n",
      "\n",
      "mean-dispersion relationship\n",
      "\n",
      "final dispersion estimates, fitting model and testing: 18 workers\n",
      "\n"
     ]
    }
   ],
   "source": [
    "# dds = filter_low_counts(dds,0)\n",
    "\n",
    "# Annova test\n",
    "dds <- DESeq(dds, test=\"LRT\", reduced=~1, parallel=TRUE)"
   ]
  },
  {
   "cell_type": "code",
   "execution_count": 59,
   "metadata": {},
   "outputs": [
    {
     "data": {
      "text/html": [
       "<style>\n",
       ".list-inline {list-style: none; margin:0; padding: 0}\n",
       ".list-inline>li {display: inline-block}\n",
       ".list-inline>li:not(:last-child)::after {content: \"\\00b7\"; padding: 0 .5ex}\n",
       "</style>\n",
       "<ol class=list-inline><li>'condDMSO'</li><li>'condDecitabine'</li><li>'time72h'</li><li>'time120h'</li><li>'condDecitabine.time72h'</li><li>'condDecitabine.time120h'</li></ol>\n"
      ],
      "text/latex": [
       "\\begin{enumerate*}\n",
       "\\item 'condDMSO'\n",
       "\\item 'condDecitabine'\n",
       "\\item 'time72h'\n",
       "\\item 'time120h'\n",
       "\\item 'condDecitabine.time72h'\n",
       "\\item 'condDecitabine.time120h'\n",
       "\\end{enumerate*}\n"
      ],
      "text/markdown": [
       "1. 'condDMSO'\n",
       "2. 'condDecitabine'\n",
       "3. 'time72h'\n",
       "4. 'time120h'\n",
       "5. 'condDecitabine.time72h'\n",
       "6. 'condDecitabine.time120h'\n",
       "\n",
       "\n"
      ],
      "text/plain": [
       "[1] \"condDMSO\"                \"condDecitabine\"         \n",
       "[3] \"time72h\"                 \"time120h\"               \n",
       "[5] \"condDecitabine.time72h\"  \"condDecitabine.time120h\""
      ]
     },
     "metadata": {},
     "output_type": "display_data"
    }
   ],
   "source": [
    "resultsNames(dds)"
   ]
  },
  {
   "cell_type": "code",
   "execution_count": 60,
   "metadata": {},
   "outputs": [],
   "source": [
    "# saveRDS(dds,'dds.rds.gz',compress='gzip')"
   ]
  },
  {
   "cell_type": "code",
   "execution_count": 61,
   "metadata": {},
   "outputs": [],
   "source": [
    "# dds_ind <- DESeqDataSetFromTximport(txi.gene, colData, ~0+cond + time)\n",
    "\n",
    "# dds_ind$time <- relevel(dds_ind$time, ref=\"6h\")\n",
    "# dds_ind$cond <- relevel(dds_ind$cond, ref=\"DMSO\")\n",
    "\n",
    "\n",
    "# dds_ind <- DESeq(dds_ind, test=\"LRT\", reduced=~1) #, parallel=TRUE)\n",
    "\n",
    "# resultsNames(dds_ind)\n",
    "\n",
    "# # no interaction\n",
    "# res.ind = results(dds_ind,contrast=list(\"condDMSO\",\"condDecitabine\"),listValues=c(1,-1)) %>% ann_Result"
   ]
  },
  {
   "cell_type": "code",
   "execution_count": 62,
   "metadata": {},
   "outputs": [],
   "source": [
    "# contrast design: treatment at 6h vs dmso at 6h\n",
    "res.6h  = results(dds, contrast=list(\"condDecitabine\",\"condDMSO\"),listValues=c(1,-1)) #%>% ann_Result\n",
    "\n",
    "# contrast design: treatment at 72h vs dmso at 72h\n",
    "res.72h = results(dds, contrast=list(c('condDecitabine', 'condDecitabine.time72h'),c('condDMSO')),listValues=c(1,-1)) #%>% ann_Result\n",
    "\n",
    "# contrast design: treatment at 120h vs dmso at 120h\n",
    "res.120h = results(dds, contrast=list(c('condDecitabine', 'condDecitabine.time120h'),c('condDMSO')),listValues=c(1,-1)) #%>% ann_Result"
   ]
  },
  {
   "cell_type": "code",
   "execution_count": null,
   "metadata": {},
   "outputs": [],
   "source": []
  },
  {
   "cell_type": "code",
   "execution_count": 63,
   "metadata": {},
   "outputs": [],
   "source": [
    "# %%R \n",
    "# # meta \n",
    "# colData.T <- data.frame(\n",
    "#     time=c(rep(120,4),rep(6,4),rep(72,4)), \n",
    "#     cond=rep(c(rep('DMSO',2), rep('Decitabine',2)),3), \n",
    "#     time_cond=paste(hours,treats,sep='_'), \n",
    "#     sample_id=colnames(txi$abundance),\n",
    "#     row.names=colnames(txi$abundance))\n",
    "\n",
    "# dds.T <- DESeqDataSetFromTximport(txi.gene, colData.T, ~cond + time + cond:time)\n",
    "# dds.T <- DESeq(dds.T, test=\"LRT\", reduced=~1, parallel=TRUE)"
   ]
  },
  {
   "cell_type": "code",
   "execution_count": null,
   "metadata": {},
   "outputs": [],
   "source": []
  },
  {
   "cell_type": "code",
   "execution_count": 64,
   "metadata": {},
   "outputs": [],
   "source": [
    "# %%R\n",
    "# resultsNames(dds.T)"
   ]
  },
  {
   "cell_type": "code",
   "execution_count": 65,
   "metadata": {},
   "outputs": [],
   "source": [
    "# %%R\n",
    "# res_cnt_time_T_vs_U = results(dds.T, name='cond_Decitabine_vs_DMSO', parallel=T) %>% \n",
    "#     data.frame %>% add_column(name = gene2name[rownames(dds.T),]) %>%\n",
    "#     add_column(ensembl = rownames(dds.T) %>% substr(0, 15))\n",
    "\n",
    "# p1 = plot_Volcano(res_cnt_time_T_vs_U, 0.1, title='Time as continuous variable: Treated vs DMSO', \n",
    "#                   x_min=-2,x_max=2)"
   ]
  },
  {
   "cell_type": "code",
   "execution_count": 66,
   "metadata": {},
   "outputs": [],
   "source": [
    "# %%R\n",
    "# res_cnt_time = results(dds.T, name='condDecitabine.time', parallel=T) %>% \n",
    "#     data.frame %>% add_column(name = gene2name[rownames(dds.T),]) %>%\n",
    "#     add_column(ensembl = rownames(dds.T) %>% substr(0, 15))\n",
    "\n",
    "# p2 = plot_Volcano(res_cnt_time, 0.01, title='Time as continuous variable: Condition and time interaction', \n",
    "#                   x_min=-0.1,x_max=0.1)"
   ]
  },
  {
   "cell_type": "code",
   "execution_count": 67,
   "metadata": {},
   "outputs": [],
   "source": [
    "# %%R\n",
    "# df = data.frame(\n",
    "#     'gene_id'=rownames(res_cnt_time_T_vs_U), 'gene_name'= res_cnt_time_T_vs_U$name,\n",
    "#     'baseMean' = res_cnt_time$baseMean,\n",
    "#     'log2FC_time' = res_cnt_time$log2FoldChange,'log2FC_time'= res_cnt_time$pval,\n",
    "#     'log2FC_T_vs_U' = res_cnt_time_T_vs_U$log2FoldChange,'pval_T_vs_U'= res_cnt_time_T_vs_U$pval\n",
    "# )    \n",
    "# df = df[order(df$log2FC_time),]\n",
    "\n",
    "# write_Result(df, 'results_time_continuous.txt', col=TRUE)"
   ]
  },
  {
   "cell_type": "code",
   "execution_count": 68,
   "metadata": {},
   "outputs": [],
   "source": [
    "# %%R\n",
    "# plot_Save(p1 / p2, 'Volcano_time_continuous')\n",
    "# p1 / p2"
   ]
  },
  {
   "cell_type": "markdown",
   "metadata": {
    "tags": []
   },
   "source": [
    "#### 72 hour only comparison "
   ]
  },
  {
   "cell_type": "code",
   "execution_count": 69,
   "metadata": {},
   "outputs": [],
   "source": [
    "# txi_hl60_72h <- tximport(\n",
    "#     files[grep(\"hl60_72h\", files, fixed=T)], \n",
    "#     type = \"salmon\", tx2gene = tx2gene, txOut=TRUE\n",
    "# )\n",
    "\n",
    "# # txi_hl60_72h.gene <- summarizeToGene(txi_hl60_72h, tx2gene, ignoreAfterBar= TRUE)"
   ]
  },
  {
   "cell_type": "markdown",
   "metadata": {},
   "source": [
    "Define the sample sheet"
   ]
  },
  {
   "cell_type": "code",
   "execution_count": 70,
   "metadata": {},
   "outputs": [],
   "source": [
    "# dds72h <- DESeqDataSetFromTximport(txi_hl60_72h.gene, colData[colData$time == '72h' & colData$line =='hl60',], ~cond)\n",
    "\n",
    "# dds72h <- DESeq(dds72h)"
   ]
  },
  {
   "cell_type": "code",
   "execution_count": 71,
   "metadata": {},
   "outputs": [],
   "source": [
    "# res.72h.only <- results(dds72h,name='cond_Decitabine_vs_DMSO') %>% \n",
    "# data.frame %>% ann_Result"
   ]
  },
  {
   "cell_type": "code",
   "execution_count": 72,
   "metadata": {},
   "outputs": [],
   "source": [
    "# plot_Volcano(res.72h.only,labels=10)"
   ]
  },
  {
   "cell_type": "markdown",
   "metadata": {
    "tags": []
   },
   "source": [
    "### Save results into a list"
   ]
  },
  {
   "cell_type": "code",
   "execution_count": 73,
   "metadata": {},
   "outputs": [],
   "source": [
    "RES = list(res.6h,res.72h,res.120h) #res.72h.only,\n",
    "names(RES) <- c('hl60_6h','hl60_72h','hl60_120h') #'hl60_72h_only',"
   ]
  },
  {
   "cell_type": "markdown",
   "metadata": {
    "jp-MarkdownHeadingCollapsed": true,
    "tags": []
   },
   "source": [
    "___\n",
    "## Decitabine treatment RNA-Seq experiments in 5 other AML cell lines "
   ]
  },
  {
   "cell_type": "markdown",
   "metadata": {},
   "source": [
    "Here, I'll run basic DESeq2 analysis "
   ]
  },
  {
   "cell_type": "markdown",
   "metadata": {
    "tags": []
   },
   "source": [
    "### Load count data and meta table "
   ]
  },
  {
   "cell_type": "markdown",
   "metadata": {},
   "source": [
    "Import salmon quants"
   ]
  },
  {
   "cell_type": "code",
   "execution_count": 74,
   "metadata": {},
   "outputs": [
    {
     "name": "stderr",
     "output_type": "stream",
     "text": [
      "reading in files with read_tsv\n",
      "\n",
      "1 \n",
      "2 \n",
      "3 \n",
      "4 \n",
      "5 \n",
      "6 \n",
      "7 \n",
      "8 \n",
      "9 \n",
      "10 \n",
      "11 \n",
      "12 \n",
      "13 \n",
      "14 \n",
      "15 \n",
      "16 \n",
      "17 \n",
      "18 \n",
      "19 \n",
      "20 \n",
      "21 \n",
      "22 \n",
      "23 \n",
      "24 \n",
      "25 \n",
      "26 \n",
      "27 \n",
      "28 \n",
      "29 \n",
      "30 \n",
      "\n",
      "\n"
     ]
    }
   ],
   "source": [
    "txi_other <- tximport(\n",
    "    files[grep(\"hl60\", files, fixed=T,invert=TRUE)],\n",
    "    type = \"salmon\", txOut=TRUE\n",
    ")"
   ]
  },
  {
   "cell_type": "markdown",
   "metadata": {
    "tags": []
   },
   "source": [
    "### Differential expression analysis\n"
   ]
  },
  {
   "cell_type": "markdown",
   "metadata": {},
   "source": [
    "Get results"
   ]
  },
  {
   "cell_type": "code",
   "execution_count": 75,
   "metadata": {},
   "outputs": [
    {
     "name": "stdout",
     "output_type": "stream",
     "text": [
      "[1] \"kg1\"\n"
     ]
    },
    {
     "name": "stderr",
     "output_type": "stream",
     "text": [
      "using counts and average transcript lengths from tximport\n",
      "\n",
      "estimating size factors\n",
      "\n",
      "using 'avgTxLength' from assays(dds), correcting for library size\n",
      "\n",
      "estimating dispersions\n",
      "\n",
      "gene-wise dispersion estimates\n",
      "\n",
      "mean-dispersion relationship\n",
      "\n",
      "final dispersion estimates\n",
      "\n",
      "fitting model and testing\n",
      "\n"
     ]
    },
    {
     "name": "stdout",
     "output_type": "stream",
     "text": [
      "[1] \"molm14\"\n"
     ]
    },
    {
     "name": "stderr",
     "output_type": "stream",
     "text": [
      "using counts and average transcript lengths from tximport\n",
      "\n",
      "estimating size factors\n",
      "\n",
      "using 'avgTxLength' from assays(dds), correcting for library size\n",
      "\n",
      "estimating dispersions\n",
      "\n",
      "gene-wise dispersion estimates\n",
      "\n",
      "mean-dispersion relationship\n",
      "\n",
      "final dispersion estimates\n",
      "\n",
      "fitting model and testing\n",
      "\n"
     ]
    },
    {
     "name": "stdout",
     "output_type": "stream",
     "text": [
      "[1] \"ociaml2\"\n"
     ]
    },
    {
     "name": "stderr",
     "output_type": "stream",
     "text": [
      "using counts and average transcript lengths from tximport\n",
      "\n",
      "estimating size factors\n",
      "\n",
      "using 'avgTxLength' from assays(dds), correcting for library size\n",
      "\n",
      "estimating dispersions\n",
      "\n",
      "gene-wise dispersion estimates\n",
      "\n",
      "mean-dispersion relationship\n",
      "\n",
      "final dispersion estimates\n",
      "\n",
      "fitting model and testing\n",
      "\n"
     ]
    },
    {
     "name": "stdout",
     "output_type": "stream",
     "text": [
      "[1] \"ociaml3\"\n"
     ]
    },
    {
     "name": "stderr",
     "output_type": "stream",
     "text": [
      "using counts and average transcript lengths from tximport\n",
      "\n",
      "estimating size factors\n",
      "\n",
      "using 'avgTxLength' from assays(dds), correcting for library size\n",
      "\n",
      "estimating dispersions\n",
      "\n",
      "gene-wise dispersion estimates\n",
      "\n",
      "mean-dispersion relationship\n",
      "\n",
      "final dispersion estimates\n",
      "\n",
      "fitting model and testing\n",
      "\n"
     ]
    },
    {
     "name": "stdout",
     "output_type": "stream",
     "text": [
      "[1] \"thp1\"\n"
     ]
    },
    {
     "name": "stderr",
     "output_type": "stream",
     "text": [
      "using counts and average transcript lengths from tximport\n",
      "\n",
      "estimating size factors\n",
      "\n",
      "using 'avgTxLength' from assays(dds), correcting for library size\n",
      "\n",
      "estimating dispersions\n",
      "\n",
      "gene-wise dispersion estimates\n",
      "\n",
      "mean-dispersion relationship\n",
      "\n",
      "final dispersion estimates\n",
      "\n",
      "fitting model and testing\n",
      "\n"
     ]
    }
   ],
   "source": [
    "DDS2 = list()\n",
    "\n",
    "# for loop to split DESeq object for more stable analysis  \n",
    "for (l in unique(colData$line) ){\n",
    "    if (l != 'hl60'){\n",
    "        print (l)\n",
    "        k = colData$line == l\n",
    "        # cell lines with BatchEffect \n",
    "        if (l %in% c('thp1','ociaml2') ){\n",
    "            # dds object for each cell line \n",
    "            dds_tmp1 <- DESeqDataSetFromTximport(txi, colData, ~cond + reps)[,c(k)]\n",
    "            DDS2[[l]]<- DESeq(dds_tmp1) #, parallel=TRUE)\n",
    "            # rm(dds_tmp1)\n",
    "        } \n",
    "        else {\n",
    "            dds_tmp2 <- DESeqDataSetFromTximport(txi, colData, ~cond)\n",
    "            dds_tmp2 <- dds_tmp2[,c(k)] # subset samples from dds object https://www.biostars.org/p/442188/\n",
    "            DDS2[[l]]<- DESeq(dds_tmp2) #, parallel=TRUE)\n",
    "            # rm(dds_tmp2)\n",
    "        }\n",
    "        # get results \n",
    "        res = results(\n",
    "            DDS2[[l]], \n",
    "            contrast=c('cond','Decitabine','DMSO'),\n",
    "            parallel=TRUE\n",
    "        )\n",
    "\n",
    "        RES[[l]] = res \n",
    "    }\n",
    "}"
   ]
  },
  {
   "cell_type": "markdown",
   "metadata": {
    "jp-MarkdownHeadingCollapsed": true,
    "tags": []
   },
   "source": [
    "## Save objects"
   ]
  },
  {
   "cell_type": "code",
   "execution_count": 76,
   "metadata": {},
   "outputs": [],
   "source": [
    "saveRDS(dds0, 'DAC/RNA-seq/herv/dds0.rds')"
   ]
  },
  {
   "cell_type": "code",
   "execution_count": 77,
   "metadata": {},
   "outputs": [],
   "source": [
    "saveRDS(DDS2, 'DAC/RNA-seq/herv/DDS2.rds')"
   ]
  },
  {
   "cell_type": "code",
   "execution_count": 78,
   "metadata": {},
   "outputs": [],
   "source": [
    "saveRDS(RES, 'DAC/RNA-seq/herv/RES.rds')"
   ]
  },
  {
   "cell_type": "markdown",
   "metadata": {
    "tags": []
   },
   "source": [
    "#### Check direction"
   ]
  },
  {
   "cell_type": "code",
   "execution_count": 79,
   "metadata": {},
   "outputs": [],
   "source": [
    "# RES[['hl60_120h']][DAC_tx2gene$TXNAME,] %>% data.frame %>% \n",
    "#     arrange(desc(abs(log2FoldChange))) %>% filter(pvalue < 0.01 & log2FoldChange > 2)"
   ]
  },
  {
   "cell_type": "code",
   "execution_count": 80,
   "metadata": {},
   "outputs": [],
   "source": [
    "# gene_id = 'DAC.301.1-x1-0'\n",
    "\n",
    "# fiss <- plotCounts(dds, gene_id, intgroup = c('cond','time'), returnData = TRUE)\n",
    "\n",
    "# p <- ggplot(fiss,\n",
    "#   aes(x = time, y = count, color = cond)) + \n",
    "#   geom_point(size=5,alpha=8/10) + stat_summary(fun=mean, geom=\"line\") +\n",
    "#   scale_y_log10() + \n",
    "#   theme_bw() + \n",
    "#   ggtitle(gene_id)\n",
    "\n",
    "# return (p + theme_Publication())"
   ]
  },
  {
   "cell_type": "code",
   "execution_count": 81,
   "metadata": {},
   "outputs": [],
   "source": [
    "# DAC_tx2gene[DAC_tx2gene$GENEID == 'DAC.252-x1-0',]"
   ]
  },
  {
   "cell_type": "code",
   "execution_count": 82,
   "metadata": {},
   "outputs": [
    {
     "data": {
      "text/plain": [
       "class: DESeqDataSet \n",
       "dim: 561085 12 \n",
       "metadata(1): version\n",
       "assays(2): counts avgTxLength\n",
       "rownames(561085): ERV:MLT1L:<hg38:chr1:34257-34322:C>:12\n",
       "  ERV:MLT1J2:<hg38:chr1:34565-34921:C>:14 ...\n",
       "  ERV:MLT1E1A:<hg38:chrY:56876945-56877043:C>:3974021\n",
       "  ERV:MLT1E1A:<hg38:chrY:56877888-56878470:C>:3974023\n",
       "rowData names(0):\n",
       "colnames(12): hl60_120h_t_1 hl60_120h_t_2 ... hl60_72h_u_1 hl60_72h_u_2\n",
       "colData names(4): line cond time reps"
      ]
     },
     "metadata": {},
     "output_type": "display_data"
    }
   ],
   "source": [
    "dds0[,dds0$line == \"hl60\"]"
   ]
  },
  {
   "cell_type": "code",
   "execution_count": 83,
   "metadata": {},
   "outputs": [],
   "source": [
    "# gene_id = \"DAC.252.1-x1-0\"\n",
    "\n",
    "# fiss <- plotCounts(dds0[,dds0$line == \"hl60\"], \n",
    "#                    gene_id, \n",
    "#                    intgroup = c('cond','time'), \n",
    "#                    returnData = TRUE)\n",
    "\n",
    "# p <- ggplot(fiss,\n",
    "#   aes(x = time, y = count, color = cond)) + \n",
    "#   geom_point(size=5,alpha=8/10) + stat_summary(fun=mean, geom=\"line\") +\n",
    "#   scale_y_log10() + \n",
    "#   theme_bw() + \n",
    "#   ggtitle(gene_id)\n",
    "\n",
    "# return (p + theme_Publication())"
   ]
  },
  {
   "cell_type": "markdown",
   "metadata": {
    "jp-MarkdownHeadingCollapsed": true,
    "tags": []
   },
   "source": [
    "## Merge all fold change data "
   ]
  },
  {
   "cell_type": "code",
   "execution_count": 6,
   "metadata": {},
   "outputs": [],
   "source": [
    "dds0 = readRDS('DAC/RNA-seq/herv/dds0.rds')"
   ]
  },
  {
   "cell_type": "code",
   "execution_count": 7,
   "metadata": {},
   "outputs": [],
   "source": [
    "DDS2 = readRDS('DAC/RNA-seq/herv/DDS2.rds')"
   ]
  },
  {
   "cell_type": "code",
   "execution_count": 8,
   "metadata": {},
   "outputs": [],
   "source": [
    "RES = readRDS('DAC/RNA-seq/herv/RES.rds')"
   ]
  },
  {
   "cell_type": "code",
   "execution_count": 9,
   "metadata": {},
   "outputs": [
    {
     "name": "stdout",
     "output_type": "stream",
     "text": [
      "[1] \"hl60_6h\"\n",
      "[1] \"hl60_72h\"\n",
      "[1] \"hl60_120h\"\n",
      "[1] \"kg1\"\n",
      "[1] \"molm14\"\n",
      "[1] \"ociaml2\"\n",
      "[1] \"ociaml3\"\n",
      "[1] \"thp1\"\n"
     ]
    }
   ],
   "source": [
    "result_table = data.frame(\n",
    "    gene_id=rownames(dds0)\n",
    ")\n",
    "\n",
    "for (name in names(RES)){\n",
    "    print (name)\n",
    "    \n",
    "    df = RES[[name]] %>% data.frame %>% select(c('log2FoldChange','pvalue')) \n",
    "    \n",
    "    colnames(df) <- c(paste0(name,\"_log2FC\"),paste0(name,\"_pvalue\"))\n",
    "    cbind(result_table,df%>% remove_rownames) -> result_table\n",
    "}\n",
    "result_table %>% column_to_rownames('gene_id') -> result_table"
   ]
  },
  {
   "cell_type": "markdown",
   "metadata": {
    "tags": []
   },
   "source": [
    "## Plots"
   ]
  },
  {
   "cell_type": "markdown",
   "metadata": {
    "tags": []
   },
   "source": [
    "### Correlation matrix"
   ]
  },
  {
   "cell_type": "code",
   "execution_count": 85,
   "metadata": {},
   "outputs": [
    {
     "name": "stderr",
     "output_type": "stream",
     "text": [
      "Loading required package: lattice\n",
      "\n",
      "Loading required package: survival\n",
      "\n",
      "Loading required package: Formula\n",
      "\n",
      "\n",
      "Attaching package: ‘Hmisc’\n",
      "\n",
      "\n",
      "The following objects are masked from ‘package:dplyr’:\n",
      "\n",
      "    src, summarize\n",
      "\n",
      "\n",
      "The following object is masked from ‘package:AnnotationDbi’:\n",
      "\n",
      "    contents\n",
      "\n",
      "\n",
      "The following object is masked from ‘package:Biobase’:\n",
      "\n",
      "    contents\n",
      "\n",
      "\n",
      "The following objects are masked from ‘package:base’:\n",
      "\n",
      "    format.pval, units\n",
      "\n",
      "\n",
      "corrplot 0.92 loaded\n",
      "\n"
     ]
    }
   ],
   "source": [
    "library(Hmisc)\n",
    "library(corrplot)\n",
    "library(pheatmap)\n",
    "library(ggcorrplot)"
   ]
  },
  {
   "cell_type": "code",
   "execution_count": 87,
   "metadata": {},
   "outputs": [],
   "source": [
    "all_fc <- result_table %>% select(ends_with(\"log2FC\")) \n",
    "colnames(all_fc) <- colnames(all_fc) %>% stringr::str_remove(pattern = \"_log2FC\") %>% unlist\n"
   ]
  },
  {
   "cell_type": "code",
   "execution_count": 88,
   "metadata": {},
   "outputs": [],
   "source": [
    "corr <- rcorr(\n",
    "    as.matrix(\n",
    "        all_fc %>% select('hl60_6h','hl60_72h','hl60_120h','kg1','molm14','ociaml2','ociaml3','thp1')\n",
    "    )\n",
    ")"
   ]
  },
  {
   "cell_type": "code",
   "execution_count": null,
   "metadata": {},
   "outputs": [],
   "source": [
    "colors=c(\"#386cb0\",\"white\",\"#fdb462\")\n",
    "ggcorrplot(\n",
    "    corr$r, \n",
    "    method = c(\"square\", \"circle\"),\n",
    "    hc.order = FALSE,\n",
    "    type = \"upper\", \n",
    "    p.mat = corr$p,\n",
    "    \n",
    ") + ggtitle(\n",
    "    \"TINAT Transcripts\\nDifferential RNA Expression\\nCorrelation matrix\"\n",
    ") + ggplot2::scale_fill_gradient2(\n",
    "    low = colors[1], high = colors[3], mid = colors[2], \n",
    "    midpoint = 0, limit = c(-0.2, 0.2), space = \"Lab\"\n",
    ") + theme(\n",
    "    plot.title = element_text(\n",
    "        # face = \"bold\",\n",
    "        size = rel(1.5), hjust = 0.5),\n",
    "    panel.background = element_blank(), \n",
    "    panel.border = element_blank(), \n",
    "    panel.grid.major = element_line(colour = \"white\"), \n",
    "    legend.title = element_blank(),\n",
    "    # legend.position=\"bottom\"\n",
    ")\n",
    "\n",
    "# ggsave('tinat/logFC_corr.pdf',width = 4, height = 4)"
   ]
  },
  {
   "cell_type": "markdown",
   "metadata": {
    "tags": []
   },
   "source": [
    "### Volcano plots"
   ]
  },
  {
   "cell_type": "code",
   "execution_count": 171,
   "metadata": {},
   "outputs": [],
   "source": [
    "plot_Volcano <- function (res, lfc.cutoff, pval.cutoff, title, labels, x_min, x_max) {\n",
    "    \n",
    "    colors_values = c(\"grey80\", \"tan\")\n",
    "\n",
    "    vol <- res %>% ggplot(aes(x = log2FoldChange, y = -log10(pvalue))) + \n",
    "        geom_point(\n",
    "            data = res %>% filter(\n",
    "                abs(log2FoldChange) >= lfc.cutoff, \n",
    "                pvalue < pval.cutoff), \n",
    "            aes(x = log2FoldChange, y = -log10(pvalue)), \n",
    "            size = 3, alpha = 5/10, shape = 21, \n",
    "            color = colors_values[2],\n",
    "            fill = colors_values[2]) + \n",
    "\n",
    "        geom_point(\n",
    "            data = res %>% filter(\n",
    "                (abs(log2FoldChange) < lfc.cutoff) | \n",
    "                (pvalue >= pval.cutoff)), \n",
    "            aes(x = log2FoldChange, y = -log10(pvalue)), \n",
    "            size = 1, alpha = 5/10, shape = 21, color = colors_values[1], \n",
    "            fill = colors_values[1]) + \n",
    "\n",
    "        # geom_point(\n",
    "        #     data = res %>% filter(gene_name %in% labels),\n",
    "        #     aes(x = log2FoldChange, y = -log10(pvalue)), \n",
    "        #     shape = 21, size = 3, color = \"grey40\", fill = \"red3\") + \n",
    "        \n",
    "        geom_rug(\n",
    "            data = res %>% filter(\n",
    "                abs(log2FoldChange) >= lfc.cutoff, \n",
    "                pvalue < pval.cutoff), \n",
    "            sides = \"b\", colour='tan') + \n",
    "\n",
    "        # geom_label_repel(\n",
    "        #     data = res %>% filter(gene_name %in% labels), \n",
    "        #     aes(label = gene_name), box.padding = 1, max.overlaps = Inf) + \n",
    "\n",
    "        xlim(c(x_min, x_max)) + \n",
    "        # ylim(c(0, -log10(res %>% select(pvalue) %>% min ))) + \n",
    "        geom_hline(yintercept = -log10(pval.cutoff), linetype = \"dashed\", alpha = 5/10) + \n",
    "        geom_text(aes(\n",
    "            x_min*0.9,-log10(pval.cutoff),\n",
    "            label = paste(\"-~log[10]~(\",pval.cutoff,')',sep=''), \n",
    "            vjust = x_min*0.05\n",
    "        ),parse = TRUE) +\n",
    "\n",
    "        theme(\n",
    "            legend.position = \"none\"\n",
    "        ) + \n",
    "        ggtitle(title) + theme_Publication()\n",
    "\n",
    "    return(vol)\n",
    "}"
   ]
  },
  {
   "cell_type": "code",
   "execution_count": 92,
   "metadata": {},
   "outputs": [],
   "source": [
    "VOL = list()"
   ]
  },
  {
   "cell_type": "code",
   "execution_count": 93,
   "metadata": {},
   "outputs": [
    {
     "data": {
      "text/html": [
       "<style>\n",
       ".list-inline {list-style: none; margin:0; padding: 0}\n",
       ".list-inline>li {display: inline-block}\n",
       ".list-inline>li:not(:last-child)::after {content: \"\\00b7\"; padding: 0 .5ex}\n",
       "</style>\n",
       "<ol class=list-inline><li>'hl60_6h'</li><li>'hl60_72h'</li><li>'hl60_120h'</li><li>'kg1'</li><li>'molm14'</li><li>'ociaml2'</li><li>'ociaml3'</li><li>'thp1'</li></ol>\n"
      ],
      "text/latex": [
       "\\begin{enumerate*}\n",
       "\\item 'hl60\\_6h'\n",
       "\\item 'hl60\\_72h'\n",
       "\\item 'hl60\\_120h'\n",
       "\\item 'kg1'\n",
       "\\item 'molm14'\n",
       "\\item 'ociaml2'\n",
       "\\item 'ociaml3'\n",
       "\\item 'thp1'\n",
       "\\end{enumerate*}\n"
      ],
      "text/markdown": [
       "1. 'hl60_6h'\n",
       "2. 'hl60_72h'\n",
       "3. 'hl60_120h'\n",
       "4. 'kg1'\n",
       "5. 'molm14'\n",
       "6. 'ociaml2'\n",
       "7. 'ociaml3'\n",
       "8. 'thp1'\n",
       "\n",
       "\n"
      ],
      "text/plain": [
       "[1] \"hl60_6h\"   \"hl60_72h\"  \"hl60_120h\" \"kg1\"       \"molm14\"    \"ociaml2\"  \n",
       "[7] \"ociaml3\"   \"thp1\"     "
      ]
     },
     "metadata": {},
     "output_type": "display_data"
    }
   ],
   "source": [
    "names(RES)"
   ]
  },
  {
   "cell_type": "markdown",
   "metadata": {},
   "source": [
    "#### hl60 time series"
   ]
  },
  {
   "cell_type": "code",
   "execution_count": 94,
   "metadata": {},
   "outputs": [],
   "source": [
    "# VOL[['hl60_6h']] = plot_Volcano(\n",
    "#     RES[['hl60_6h']][DAC_tx2gene$TXNAME,] %>% data.frame %>% drop_na(),\n",
    "#     lfc.cutoff  = 2, \n",
    "#     pval.cutoff = 0.05,\n",
    "#     title  = '6 hours treatment',\n",
    "#     x_min = -10, x_max = 10\n",
    "# )\n",
    "\n",
    "# VOL[['hl60_72h']] = plot_Volcano(\n",
    "#     RES[['hl60_72h']][DAC_tx2gene$TXNAME,] %>% data.frame %>% drop_na(),\n",
    "#     lfc.cutoff  = 2, \n",
    "#     pval.cutoff = 0.05,\n",
    "#     title  = '72 hours treatment', \n",
    "#     x_min = -10, x_max = 10\n",
    "# )\n",
    "\n",
    "# VOL[['hl60_120h']] <- plot_Volcano(\n",
    "#     RES[['hl60_120h']][DAC_tx2gene$TXNAME,] %>% data.frame %>% drop_na(),\n",
    "#     lfc.cutoff  = 2, \n",
    "#     pval.cutoff = 0.05,\n",
    "#     title  = '120 hours treatment', \n",
    "#     x_min = -5, x_max = 5\n",
    "# )\n",
    "\n",
    "# hl60_vol <- VOL[['hl60_6h']] / VOL[['hl60_72h']] / VOL[['hl60_120h']]\n",
    "\n",
    "# # Remove title from first subplot\n",
    "# hl60_vol[[1]] = hl60_vol[[1]] + theme(axis.text.x = element_blank(),\n",
    "#                                         axis.ticks.x = element_blank(),\n",
    "#                                         axis.title.x = element_blank() )\n",
    "\n",
    "# # Remove title from second subplot\n",
    "# hl60_vol[[2]] = hl60_vol[[2]] + theme(axis.text.x = element_blank(),\n",
    "#                                         axis.ticks.x = element_blank(),\n",
    "#                                         axis.title.x = element_blank() )"
   ]
  },
  {
   "cell_type": "code",
   "execution_count": 95,
   "metadata": {},
   "outputs": [],
   "source": [
    "# hl60_vol"
   ]
  },
  {
   "cell_type": "code",
   "execution_count": 96,
   "metadata": {},
   "outputs": [],
   "source": [
    "# VOL[['hl60_120h']]"
   ]
  },
  {
   "cell_type": "code",
   "execution_count": 97,
   "metadata": {},
   "outputs": [],
   "source": [
    "# hl60_vol"
   ]
  },
  {
   "cell_type": "code",
   "execution_count": 98,
   "metadata": {},
   "outputs": [],
   "source": [
    "# ggsave(\n",
    "#     'exp/plots/volcano_hl60.pdf', \n",
    "#     plot = hl60_vol, device = 'pdf', width = 8, height=15\n",
    "#     #, dpi = 300\n",
    "# )\n",
    "\n",
    "# ggsave(\n",
    "#     'exp/plots/volcano_hl60.png', \n",
    "#     plot = hl60_vol, device = 'png', width = 8, height=15, dpi = 300\n",
    "# )"
   ]
  },
  {
   "cell_type": "markdown",
   "metadata": {
    "tags": []
   },
   "source": [
    "### Clustering "
   ]
  },
  {
   "cell_type": "code",
   "execution_count": 10,
   "metadata": {},
   "outputs": [],
   "source": [
    "# mostVar <- function(data, n, i_want_most_var = TRUE) {\n",
    "#   data.var <- apply(data, 1, stats::var)\n",
    "#   data[order(data.var, decreasing = i_want_most_var)[1:n],] \n",
    "# }"
   ]
  },
  {
   "cell_type": "code",
   "execution_count": 11,
   "metadata": {},
   "outputs": [],
   "source": [
    "heat_colors <- brewer.pal(n = 6, name = \"RdYlBu\") %>% rev\n",
    "greens <- brewer.pal(n = 9, name = \"Greens\")"
   ]
  },
  {
   "cell_type": "markdown",
   "metadata": {
    "tags": []
   },
   "source": [
    "### Heatmap to show HL-60 time series clusters"
   ]
  },
  {
   "cell_type": "code",
   "execution_count": 24,
   "metadata": {},
   "outputs": [],
   "source": [
    "ann_colors = list(\n",
    "    cond = c('DMSO'=\"grey90\", 'Decitabine'=\"darkorchid\"),\n",
    "    time = c('120h'= greens[6], '72h'=greens[4], '6h'=greens[2])\n",
    ")"
   ]
  },
  {
   "cell_type": "code",
   "execution_count": 12,
   "metadata": {},
   "outputs": [],
   "source": [
    "    # select genes based on abs(log2FC) and pvalue\n",
    "\n",
    "# sub_res =  #%>%column_to_rownames('gene_id') \n",
    "#         # filter(\n",
    "#         #     (abs(hl60_72h_log2FC) > 2 & hl60_72h_pvalue  < 0.001)&\n",
    "#         #     (abs(hl60_120h_log2FC)> 2 & hl60_120h_pvalue < 0.001) \n",
    "#         # ) %>% \n",
    "\n",
    "# # %>% rownames\n",
    "# sub_res#[tins$GENEID,]"
   ]
  },
  {
   "cell_type": "code",
   "execution_count": 17,
   "metadata": {},
   "outputs": [
    {
     "name": "stderr",
     "output_type": "stream",
     "text": [
      "using 'avgTxLength' from assays(dds), correcting for library size\n",
      "\n"
     ]
    }
   ],
   "source": [
    "dds0 <- estimateSizeFactors(dds0)"
   ]
  },
  {
   "cell_type": "code",
   "execution_count": 18,
   "metadata": {},
   "outputs": [],
   "source": [
    "ncu <- counts(dds0, normalized=TRUE) "
   ]
  },
  {
   "cell_type": "code",
   "execution_count": 19,
   "metadata": {},
   "outputs": [],
   "source": [
    "colData = colData(dds0) %>% data.frame"
   ]
  },
  {
   "cell_type": "code",
   "execution_count": 27,
   "metadata": {},
   "outputs": [
    {
     "data": {
      "image/png": "[encoded data removed]",
      "text/plain": [
       "plot without title"
      ]
     },
     "metadata": {
      "image/png": {
       "height": 420,
       "width": 420
      }
     },
     "output_type": "display_data"
    }
   ],
   "source": [
    "ncu[\n",
    "    result_table %>% drop_na %>% \n",
    "        filter(\n",
    "            (abs(hl60_6h_log2FC)  > 4 & hl60_6h_pvalue   < 0.001) |\n",
    "            (abs(hl60_72h_log2FC) > 4 & hl60_72h_pvalue  < 0.001)|\n",
    "            (abs(hl60_120h_log2FC)> 4 & hl60_120h_pvalue < 0.001) \n",
    "        ) %>% rownames\n",
    "    ,\n",
    "    # subset normalized counts\n",
    "    colData[colData$line=='hl60',c('cond','time')] %>% arrange(time,cond) %>% rownames\n",
    "] %>% data.frame %>% filter(rowSums(., na.rm = TRUE) > 0)  %>%\n",
    "    # generate heatmap\n",
    "    pheatmap(\n",
    "        color = heat_colors, \n",
    "        show_colnames = F,\n",
    "        show_rownames = F,\n",
    "        cutree_rows = 4,\n",
    "        main = 'ERV Transcripts\\nDifferential RNA Expression\\nHL-60 cell line',\n",
    "        annotation = colData[colData$line=='hl60',c('cond','time')],\n",
    "        cluster_cols = F, \n",
    "        scale = 'row',\n",
    "        angle_col= 45,\n",
    "        annotation_colors = ann_colors\n",
    ") -> hm_hl60\n",
    "\n",
    "# # https://stackoverflow.com/questions/43051525/how-to-draw-pheatmap-plot-to-screen-and-also-save-to-file\n",
    "# pdf('tinat/heatmap_clustering_hl60.pdf', width=4, height=7)\n",
    "# grid::grid.newpage()\n",
    "# grid::grid.draw(hm_hl60$gtable)\n",
    "# dev.off()"
   ]
  },
  {
   "cell_type": "code",
   "execution_count": null,
   "metadata": {},
   "outputs": [],
   "source": []
  },
  {
   "cell_type": "code",
   "execution_count": null,
   "metadata": {},
   "outputs": [],
   "source": []
  },
  {
   "cell_type": "code",
   "execution_count": null,
   "metadata": {},
   "outputs": [],
   "source": []
  },
  {
   "cell_type": "code",
   "execution_count": 1,
   "metadata": {},
   "outputs": [
    {
     "ename": "ERROR",
     "evalue": "Error in eval(expr, envir, enclos): object 'ncu' not found\n",
     "output_type": "error",
     "traceback": [
      "Error in eval(expr, envir, enclos): object 'ncu' not found\nTraceback:\n"
     ]
    }
   ],
   "source": [
    "ncu"
   ]
  },
  {
   "cell_type": "code",
   "execution_count": null,
   "metadata": {},
   "outputs": [],
   "source": [
    "ncu[\n",
    "    DAC_tx2gene$TXNAME\n",
    "    ,\n",
    "    # subset normalized counts\n",
    "    colData %>% arrange(time,cond) %>% rownames\n",
    "] %>% data.frame %>% filter(rowSums(., na.rm = TRUE) > 0)  %>%\n",
    "    # generate heatmap\n",
    "    pheatmap(\n",
    "        color = heat_colors, \n",
    "        show_colnames = F,\n",
    "        show_rownames = F,\n",
    "        cutree_rows = 2,\n",
    "        main = 'TINAT Transcripts\\nDifferential RNA Expression\\nAML cell lines',\n",
    "        annotation = colData[,c('cond','time','line')],\n",
    "        cluster_cols = T, \n",
    "        scale = 'row',\n",
    "        angle_col= 45,\n",
    "        annotation_colors = ann_colors\n",
    ") -> hm_all\n",
    "\n",
    "# https://stackoverflow.com/questions/43051525/how-to-draw-pheatmap-plot-to-screen-and-also-save-to-file\n",
    "pdf('tinat/heatmap_clustering_all.pdf', width=5, height=6)\n",
    "grid::grid.newpage()\n",
    "grid::grid.draw(hm_all$gtable)\n",
    "dev.off()"
   ]
  },
  {
   "cell_type": "code",
   "execution_count": null,
   "metadata": {},
   "outputs": [],
   "source": [
    "read.table('../meRIP-seq/radar_scallop/result.sig.txt',header=TRUE)$name"
   ]
  },
  {
   "cell_type": "code",
   "execution_count": null,
   "metadata": {},
   "outputs": [],
   "source": []
  },
  {
   "cell_type": "code",
   "execution_count": null,
   "metadata": {},
   "outputs": [],
   "source": [
    "ncu[\n",
    "    # read.table('../meRIP-seq/radar_scallop/result.sig.txt',header=TRUE)$name\n",
    "    DAC_tx2gene[DAC_tx2gene$GENEID == 'DAC.12-x1-0' | DAC_tx2gene$GENEID == 'DAC.252-x1-0',]$TXNAME\n",
    "    ,\n",
    "    # subset normalized counts\n",
    "    colData %>% arrange(time,cond) %>% rownames\n",
    "] %>% data.frame %>% filter(rowSums(., na.rm = TRUE) > 0) %>%\n",
    "    # generate heatmap\n",
    "    pheatmap(\n",
    "        color = heat_colors,\n",
    "        show_colnames = F,\n",
    "        show_rownames = T,\n",
    "        cutree_rows = 2,\n",
    "        main = 'TINAT Transcripts\\nDifferential RNA Expression\\nAML cell lines',\n",
    "        annotation = colData[,c('cond','time','line')],\n",
    "        cluster_cols = T, \n",
    "        scale = 'row',\n",
    "        angle_col= 45,\n",
    "        annotation_colors = ann_colors\n",
    ") -> hm_m6A\n",
    "\n",
    "# https://stackoverflow.com/questions/43051525/how-to-draw-pheatmap-plot-to-screen-and-also-save-to-file\n",
    "pdf('tinat/heatmap_clustering_m6A.pdf', width=5, height=3)\n",
    "grid::grid.newpage()\n",
    "grid::grid.draw(hm_m6A$gtable)\n",
    "dev.off()"
   ]
  },
  {
   "cell_type": "code",
   "execution_count": null,
   "metadata": {},
   "outputs": [],
   "source": []
  },
  {
   "cell_type": "code",
   "execution_count": null,
   "metadata": {},
   "outputs": [],
   "source": []
  },
  {
   "cell_type": "code",
   "execution_count": null,
   "metadata": {},
   "outputs": [],
   "source": [
    "ncu[\n",
    "    # read.table('../meRIP-seq/radar_scallop/result.sig.txt',header=TRUE)$name\n",
    "    DAC_tx2gene[DAC_tx2gene$GENEID == 'DAC.12-x1-0' | DAC_tx2gene$GENEID == 'DAC.252-x1-0',]$TXNAME\n",
    "    ,\n",
    "    # subset normalized counts\n",
    "    colData %>% filter(line == 'hl60') %>% arrange(time,cond) %>% rownames\n",
    "] %>% data.frame %>% filter(rowSums(., na.rm = TRUE) > 0) %>%\n",
    "    # generate heatmap\n",
    "    pheatmap(\n",
    "        color = heat_colors,\n",
    "        show_colnames = F,\n",
    "        show_rownames = T,\n",
    "        cutree_rows = 2,\n",
    "        main = 'TINAT Transcripts\\nDifferential RNA Expression\\nHL-60 cell line',\n",
    "        annotation = colData[,c('cond','time')],\n",
    "        cluster_cols = F, \n",
    "        scale = 'row',\n",
    "        angle_col= 45,\n",
    "        annotation_colors = ann_colors\n",
    ") -> hm_m6A\n",
    "\n",
    "# https://stackoverflow.com/questions/43051525/how-to-draw-pheatmap-plot-to-screen-and-also-save-to-file\n",
    "pdf('tinat/heatmap_clustering_hl60_m6A.pdf', width=5, height=2)\n",
    "grid::grid.newpage()\n",
    "grid::grid.draw(hm_m6A$gtable)\n",
    "dev.off()"
   ]
  },
  {
   "cell_type": "code",
   "execution_count": null,
   "metadata": {},
   "outputs": [],
   "source": []
  },
  {
   "cell_type": "markdown",
   "metadata": {
    "tags": []
   },
   "source": [
    "## Save results "
   ]
  },
  {
   "cell_type": "code",
   "execution_count": null,
   "metadata": {},
   "outputs": [],
   "source": [
    "# write all results into one file \n",
    "write.table(\n",
    "    result_table[DAC_tx2gene$TXNAME,],\n",
    "    'tinat/delta_exp_table.txt', quote = F, col.names=TRUE, row.names=TRUE,sep ='\\t'\n",
    ")"
   ]
  },
  {
   "cell_type": "markdown",
   "metadata": {
    "tags": []
   },
   "source": [
    "___\n",
    "# Decitabine+rg3039 treatment RNA-Seq experiments \n",
    "in HL60 cell line\n"
   ]
  },
  {
   "cell_type": "markdown",
   "metadata": {
    "tags": []
   },
   "source": [
    "### load files"
   ]
  },
  {
   "cell_type": "code",
   "execution_count": 8,
   "metadata": {},
   "outputs": [],
   "source": [
    "# %%R\n",
    "files <- list.files(\n",
    "    path='DAC-rg3039/RNA-seq/herv/quants', \n",
    "    pattern=\"quant.sf\",full.names = TRUE, recursive=T\n",
    ")\n",
    "names(files) <- gsub(\"DAC-rg3039/RNA-seq/herv/quants/(\\\\S+)/quant.sf\",\"\\\\1\",files)"
   ]
  },
  {
   "cell_type": "code",
   "execution_count": 9,
   "metadata": {},
   "outputs": [
    {
     "name": "stdout",
     "output_type": "stream",
     "text": [
      "[1] \"DAC-rg3039/RNA-seq/herv/quants/hl60_combination_1/quant.sf\"\n",
      "[1] \"DAC-rg3039/RNA-seq/herv/quants/hl60_combination_2/quant.sf\"\n",
      "[1] \"DAC-rg3039/RNA-seq/herv/quants/hl60_decitabine_1/quant.sf\"\n",
      "[1] \"DAC-rg3039/RNA-seq/herv/quants/hl60_decitabine_2/quant.sf\"\n",
      "[1] \"DAC-rg3039/RNA-seq/herv/quants/hl60_dmso_1/quant.sf\"\n",
      "[1] \"DAC-rg3039/RNA-seq/herv/quants/hl60_dmso_2/quant.sf\"\n",
      "[1] \"DAC-rg3039/RNA-seq/herv/quants/hl60_rg3039_1/quant.sf\"\n",
      "[1] \"DAC-rg3039/RNA-seq/herv/quants/hl60_rg3039_2/quant.sf\"\n"
     ]
    }
   ],
   "source": [
    "for (f in files){print(f)}"
   ]
  },
  {
   "cell_type": "code",
   "execution_count": 10,
   "metadata": {},
   "outputs": [
    {
     "name": "stderr",
     "output_type": "stream",
     "text": [
      "reading in files with read_tsv\n",
      "\n",
      "1 \n",
      "2 \n",
      "3 \n",
      "4 \n",
      "5 \n",
      "6 \n",
      "7 \n",
      "8 \n",
      "\n",
      "\n"
     ]
    }
   ],
   "source": [
    "txi <- tximport(files, type = \"salmon\", txOut=T)"
   ]
  },
  {
   "cell_type": "code",
   "execution_count": 11,
   "metadata": {},
   "outputs": [
    {
     "data": {
      "text/html": [
       "<table class=\"dataframe\">\n",
       "<caption>A data.frame: 8 × 2</caption>\n",
       "<thead>\n",
       "\t<tr><th></th><th scope=col>cond</th><th scope=col>reps</th></tr>\n",
       "\t<tr><th></th><th scope=col>&lt;fct&gt;</th><th scope=col>&lt;fct&gt;</th></tr>\n",
       "</thead>\n",
       "<tbody>\n",
       "\t<tr><th scope=row>hl60_combination_1</th><td>Combination</td><td>rep1</td></tr>\n",
       "\t<tr><th scope=row>hl60_combination_2</th><td>Combination</td><td>rep2</td></tr>\n",
       "\t<tr><th scope=row>hl60_decitabine_1</th><td>Decitabine </td><td>rep1</td></tr>\n",
       "\t<tr><th scope=row>hl60_decitabine_2</th><td>Decitabine </td><td>rep2</td></tr>\n",
       "\t<tr><th scope=row>hl60_dmso_1</th><td>DMSO       </td><td>rep1</td></tr>\n",
       "\t<tr><th scope=row>hl60_dmso_2</th><td>DMSO       </td><td>rep2</td></tr>\n",
       "\t<tr><th scope=row>hl60_rg3039_1</th><td>rg3039     </td><td>rep1</td></tr>\n",
       "\t<tr><th scope=row>hl60_rg3039_2</th><td>rg3039     </td><td>rep2</td></tr>\n",
       "</tbody>\n",
       "</table>\n"
      ],
      "text/latex": [
       "A data.frame: 8 × 2\n",
       "\\begin{tabular}{r|ll}\n",
       "  & cond & reps\\\\\n",
       "  & <fct> & <fct>\\\\\n",
       "\\hline\n",
       "\thl60\\_combination\\_1 & Combination & rep1\\\\\n",
       "\thl60\\_combination\\_2 & Combination & rep2\\\\\n",
       "\thl60\\_decitabine\\_1 & Decitabine  & rep1\\\\\n",
       "\thl60\\_decitabine\\_2 & Decitabine  & rep2\\\\\n",
       "\thl60\\_dmso\\_1 & DMSO        & rep1\\\\\n",
       "\thl60\\_dmso\\_2 & DMSO        & rep2\\\\\n",
       "\thl60\\_rg3039\\_1 & rg3039      & rep1\\\\\n",
       "\thl60\\_rg3039\\_2 & rg3039      & rep2\\\\\n",
       "\\end{tabular}\n"
      ],
      "text/markdown": [
       "\n",
       "A data.frame: 8 × 2\n",
       "\n",
       "| <!--/--> | cond &lt;fct&gt; | reps &lt;fct&gt; |\n",
       "|---|---|---|\n",
       "| hl60_combination_1 | Combination | rep1 |\n",
       "| hl60_combination_2 | Combination | rep2 |\n",
       "| hl60_decitabine_1 | Decitabine  | rep1 |\n",
       "| hl60_decitabine_2 | Decitabine  | rep2 |\n",
       "| hl60_dmso_1 | DMSO        | rep1 |\n",
       "| hl60_dmso_2 | DMSO        | rep2 |\n",
       "| hl60_rg3039_1 | rg3039      | rep1 |\n",
       "| hl60_rg3039_2 | rg3039      | rep2 |\n",
       "\n"
      ],
      "text/plain": [
       "                   cond        reps\n",
       "hl60_combination_1 Combination rep1\n",
       "hl60_combination_2 Combination rep2\n",
       "hl60_decitabine_1  Decitabine  rep1\n",
       "hl60_decitabine_2  Decitabine  rep2\n",
       "hl60_dmso_1        DMSO        rep1\n",
       "hl60_dmso_2        DMSO        rep2\n",
       "hl60_rg3039_1      rg3039      rep1\n",
       "hl60_rg3039_2      rg3039      rep2"
      ]
     },
     "metadata": {},
     "output_type": "display_data"
    }
   ],
   "source": [
    "# meta \n",
    "conds  <- factor(c(\n",
    "    rep('Combination',2),rep('Decitabine',2),rep('DMSO',2),rep('rg3039',2)\n",
    "), levels = c('DMSO','Decitabine','rg3039','Combination'))\n",
    "\n",
    "reps <- factor(c(\n",
    "    rep(c('rep1','rep2'),4)\n",
    "),c('rep1','rep2'))\n",
    "\n",
    "colData <- data.frame(\n",
    "    cond=conds,\n",
    "    reps=reps,\n",
    "    row.names=colnames(txi$abundance),\n",
    "    stringsAsFactors=FALSE\n",
    ")\n",
    "colData"
   ]
  },
  {
   "cell_type": "code",
   "execution_count": 12,
   "metadata": {},
   "outputs": [
    {
     "name": "stderr",
     "output_type": "stream",
     "text": [
      "using counts and average transcript lengths from tximport\n",
      "\n"
     ]
    }
   ],
   "source": [
    "dds0 <- DESeqDataSetFromTximport(txi, colData, ~cond)"
   ]
  },
  {
   "cell_type": "code",
   "execution_count": 13,
   "metadata": {},
   "outputs": [
    {
     "name": "stderr",
     "output_type": "stream",
     "text": [
      "using 'avgTxLength' from assays(dds), correcting for library size\n",
      "\n"
     ]
    }
   ],
   "source": [
    "dds1 <- estimateSizeFactors(dds0)"
   ]
  },
  {
   "cell_type": "code",
   "execution_count": 14,
   "metadata": {},
   "outputs": [],
   "source": [
    "ncu <- counts(dds1, normalized=TRUE) %>% data.frame "
   ]
  },
  {
   "cell_type": "code",
   "execution_count": 15,
   "metadata": {},
   "outputs": [],
   "source": [
    "rld <- rlog(dds1)"
   ]
  },
  {
   "cell_type": "code",
   "execution_count": 16,
   "metadata": {},
   "outputs": [],
   "source": [
    "# dds.pca <- DESeq(dds0, parallel=TRUE)\n",
    "# # results \n",
    "# vsd <- varianceStabilizingTransformation(dds.pca)\n",
    "\n",
    "# pca = plot_PCA(\n",
    "#     vsd, \n",
    "#     colData(vsd), \n",
    "#     labels=colData(vsd)[,'cond'],\n",
    "#     gr=c('cond'), title='Drug combination'\n",
    "# )\n",
    "# pca"
   ]
  },
  {
   "cell_type": "code",
   "execution_count": 17,
   "metadata": {},
   "outputs": [
    {
     "data": {
      "text/html": [
       "<table class=\"dataframe\">\n",
       "<caption>A data.frame: 8 × 4</caption>\n",
       "<thead>\n",
       "\t<tr><th></th><th scope=col>cond</th><th scope=col>reps</th><th scope=col>Decitabine</th><th scope=col>rg3039</th></tr>\n",
       "\t<tr><th></th><th scope=col>&lt;fct&gt;</th><th scope=col>&lt;fct&gt;</th><th scope=col>&lt;fct&gt;</th><th scope=col>&lt;fct&gt;</th></tr>\n",
       "</thead>\n",
       "<tbody>\n",
       "\t<tr><th scope=row>hl60_combination_1</th><td>Combination</td><td>rep1</td><td>Treated   </td><td>Treated   </td></tr>\n",
       "\t<tr><th scope=row>hl60_combination_2</th><td>Combination</td><td>rep2</td><td>Treated   </td><td>Treated   </td></tr>\n",
       "\t<tr><th scope=row>hl60_decitabine_1</th><td>Decitabine </td><td>rep1</td><td>Treated   </td><td>NotTreated</td></tr>\n",
       "\t<tr><th scope=row>hl60_decitabine_2</th><td>Decitabine </td><td>rep2</td><td>Treated   </td><td>NotTreated</td></tr>\n",
       "\t<tr><th scope=row>hl60_dmso_1</th><td>DMSO       </td><td>rep1</td><td>NotTreated</td><td>NotTreated</td></tr>\n",
       "\t<tr><th scope=row>hl60_dmso_2</th><td>DMSO       </td><td>rep2</td><td>NotTreated</td><td>NotTreated</td></tr>\n",
       "\t<tr><th scope=row>hl60_rg3039_1</th><td>rg3039     </td><td>rep1</td><td>NotTreated</td><td>Treated   </td></tr>\n",
       "\t<tr><th scope=row>hl60_rg3039_2</th><td>rg3039     </td><td>rep2</td><td>NotTreated</td><td>Treated   </td></tr>\n",
       "</tbody>\n",
       "</table>\n"
      ],
      "text/latex": [
       "A data.frame: 8 × 4\n",
       "\\begin{tabular}{r|llll}\n",
       "  & cond & reps & Decitabine & rg3039\\\\\n",
       "  & <fct> & <fct> & <fct> & <fct>\\\\\n",
       "\\hline\n",
       "\thl60\\_combination\\_1 & Combination & rep1 & Treated    & Treated   \\\\\n",
       "\thl60\\_combination\\_2 & Combination & rep2 & Treated    & Treated   \\\\\n",
       "\thl60\\_decitabine\\_1 & Decitabine  & rep1 & Treated    & NotTreated\\\\\n",
       "\thl60\\_decitabine\\_2 & Decitabine  & rep2 & Treated    & NotTreated\\\\\n",
       "\thl60\\_dmso\\_1 & DMSO        & rep1 & NotTreated & NotTreated\\\\\n",
       "\thl60\\_dmso\\_2 & DMSO        & rep2 & NotTreated & NotTreated\\\\\n",
       "\thl60\\_rg3039\\_1 & rg3039      & rep1 & NotTreated & Treated   \\\\\n",
       "\thl60\\_rg3039\\_2 & rg3039      & rep2 & NotTreated & Treated   \\\\\n",
       "\\end{tabular}\n"
      ],
      "text/markdown": [
       "\n",
       "A data.frame: 8 × 4\n",
       "\n",
       "| <!--/--> | cond &lt;fct&gt; | reps &lt;fct&gt; | Decitabine &lt;fct&gt; | rg3039 &lt;fct&gt; |\n",
       "|---|---|---|---|---|\n",
       "| hl60_combination_1 | Combination | rep1 | Treated    | Treated    |\n",
       "| hl60_combination_2 | Combination | rep2 | Treated    | Treated    |\n",
       "| hl60_decitabine_1 | Decitabine  | rep1 | Treated    | NotTreated |\n",
       "| hl60_decitabine_2 | Decitabine  | rep2 | Treated    | NotTreated |\n",
       "| hl60_dmso_1 | DMSO        | rep1 | NotTreated | NotTreated |\n",
       "| hl60_dmso_2 | DMSO        | rep2 | NotTreated | NotTreated |\n",
       "| hl60_rg3039_1 | rg3039      | rep1 | NotTreated | Treated    |\n",
       "| hl60_rg3039_2 | rg3039      | rep2 | NotTreated | Treated    |\n",
       "\n"
      ],
      "text/plain": [
       "                   cond        reps Decitabine rg3039    \n",
       "hl60_combination_1 Combination rep1 Treated    Treated   \n",
       "hl60_combination_2 Combination rep2 Treated    Treated   \n",
       "hl60_decitabine_1  Decitabine  rep1 Treated    NotTreated\n",
       "hl60_decitabine_2  Decitabine  rep2 Treated    NotTreated\n",
       "hl60_dmso_1        DMSO        rep1 NotTreated NotTreated\n",
       "hl60_dmso_2        DMSO        rep2 NotTreated NotTreated\n",
       "hl60_rg3039_1      rg3039      rep1 NotTreated Treated   \n",
       "hl60_rg3039_2      rg3039      rep2 NotTreated Treated   "
      ]
     },
     "metadata": {},
     "output_type": "display_data"
    }
   ],
   "source": [
    "# add dummy variables for drug treatment \n",
    "colData$Decitabine <- factor(c(\n",
    "    rep('Treated',4),rep('NotTreated',4)\n",
    "),c('NotTreated','Treated'))\n",
    "\n",
    "colData$rg3039     <- factor(c(\n",
    "    rep('Treated',2),rep('NotTreated',4),rep('Treated',2)\n",
    "),c('NotTreated','Treated'))\n",
    "\n",
    "\n",
    "colData"
   ]
  },
  {
   "cell_type": "code",
   "execution_count": 18,
   "metadata": {},
   "outputs": [
    {
     "name": "stderr",
     "output_type": "stream",
     "text": [
      "using counts and average transcript lengths from tximport\n",
      "\n",
      "estimating size factors\n",
      "\n",
      "using 'avgTxLength' from assays(dds), correcting for library size\n",
      "\n",
      "estimating dispersions\n",
      "\n",
      "gene-wise dispersion estimates: 18 workers\n",
      "\n",
      "mean-dispersion relationship\n",
      "\n",
      "final dispersion estimates, fitting model and testing: 18 workers\n",
      "\n"
     ]
    }
   ],
   "source": [
    "dds_rep <- DESeqDataSetFromTximport(txi, colData, ~0+reps)\n",
    "\n",
    "# Annova test\n",
    "dds_rep <- DESeq(dds_rep, test=\"LRT\", reduced=~1, parallel=TRUE)"
   ]
  },
  {
   "cell_type": "code",
   "execution_count": 19,
   "metadata": {},
   "outputs": [
    {
     "data": {
      "text/html": [
       "<style>\n",
       ".list-inline {list-style: none; margin:0; padding: 0}\n",
       ".list-inline>li {display: inline-block}\n",
       ".list-inline>li:not(:last-child)::after {content: \"\\00b7\"; padding: 0 .5ex}\n",
       "</style>\n",
       "<ol class=list-inline><li>'repsrep1'</li><li>'repsrep2'</li></ol>\n"
      ],
      "text/latex": [
       "\\begin{enumerate*}\n",
       "\\item 'repsrep1'\n",
       "\\item 'repsrep2'\n",
       "\\end{enumerate*}\n"
      ],
      "text/markdown": [
       "1. 'repsrep1'\n",
       "2. 'repsrep2'\n",
       "\n",
       "\n"
      ],
      "text/plain": [
       "[1] \"repsrep1\" \"repsrep2\""
      ]
     },
     "metadata": {},
     "output_type": "display_data"
    }
   ],
   "source": [
    "resultsNames(dds_rep)"
   ]
  },
  {
   "cell_type": "code",
   "execution_count": 20,
   "metadata": {},
   "outputs": [],
   "source": [
    "# contrast design: rep2 vs rep1\n",
    "res_rep2_vs_rep1  = results(dds_rep, contrast=list(\n",
    "    c('repsrep2'),\n",
    "    c('repsrep1')\n",
    "),listValues=c(1,-1)) %>% data.frame"
   ]
  },
  {
   "cell_type": "code",
   "execution_count": 21,
   "metadata": {},
   "outputs": [],
   "source": [
    "res_rep2_vs_rep1 <- res_rep2_vs_rep1 %>% replace(is.na(res_rep2_vs_rep1),0)"
   ]
  },
  {
   "cell_type": "markdown",
   "metadata": {},
   "source": [
    "___"
   ]
  },
  {
   "cell_type": "code",
   "execution_count": 22,
   "metadata": {},
   "outputs": [
    {
     "data": {
      "text/html": [
       "<table class=\"dataframe\">\n",
       "<caption>A matrix: 8 × 4 of type dbl</caption>\n",
       "<thead>\n",
       "\t<tr><th></th><th scope=col>DecitabineNotTreated</th><th scope=col>DecitabineTreated</th><th scope=col>rg3039Treated</th><th scope=col>DecitabineTreated:rg3039Treated</th></tr>\n",
       "</thead>\n",
       "<tbody>\n",
       "\t<tr><th scope=row>hl60_combination_1</th><td>0</td><td>1</td><td>1</td><td>1</td></tr>\n",
       "\t<tr><th scope=row>hl60_combination_2</th><td>0</td><td>1</td><td>1</td><td>1</td></tr>\n",
       "\t<tr><th scope=row>hl60_decitabine_1</th><td>0</td><td>1</td><td>0</td><td>0</td></tr>\n",
       "\t<tr><th scope=row>hl60_decitabine_2</th><td>0</td><td>1</td><td>0</td><td>0</td></tr>\n",
       "\t<tr><th scope=row>hl60_dmso_1</th><td>1</td><td>0</td><td>0</td><td>0</td></tr>\n",
       "\t<tr><th scope=row>hl60_dmso_2</th><td>1</td><td>0</td><td>0</td><td>0</td></tr>\n",
       "\t<tr><th scope=row>hl60_rg3039_1</th><td>1</td><td>0</td><td>1</td><td>0</td></tr>\n",
       "\t<tr><th scope=row>hl60_rg3039_2</th><td>1</td><td>0</td><td>1</td><td>0</td></tr>\n",
       "</tbody>\n",
       "</table>\n"
      ],
      "text/latex": [
       "A matrix: 8 × 4 of type dbl\n",
       "\\begin{tabular}{r|llll}\n",
       "  & DecitabineNotTreated & DecitabineTreated & rg3039Treated & DecitabineTreated:rg3039Treated\\\\\n",
       "\\hline\n",
       "\thl60\\_combination\\_1 & 0 & 1 & 1 & 1\\\\\n",
       "\thl60\\_combination\\_2 & 0 & 1 & 1 & 1\\\\\n",
       "\thl60\\_decitabine\\_1 & 0 & 1 & 0 & 0\\\\\n",
       "\thl60\\_decitabine\\_2 & 0 & 1 & 0 & 0\\\\\n",
       "\thl60\\_dmso\\_1 & 1 & 0 & 0 & 0\\\\\n",
       "\thl60\\_dmso\\_2 & 1 & 0 & 0 & 0\\\\\n",
       "\thl60\\_rg3039\\_1 & 1 & 0 & 1 & 0\\\\\n",
       "\thl60\\_rg3039\\_2 & 1 & 0 & 1 & 0\\\\\n",
       "\\end{tabular}\n"
      ],
      "text/markdown": [
       "\n",
       "A matrix: 8 × 4 of type dbl\n",
       "\n",
       "| <!--/--> | DecitabineNotTreated | DecitabineTreated | rg3039Treated | DecitabineTreated:rg3039Treated |\n",
       "|---|---|---|---|---|\n",
       "| hl60_combination_1 | 0 | 1 | 1 | 1 |\n",
       "| hl60_combination_2 | 0 | 1 | 1 | 1 |\n",
       "| hl60_decitabine_1 | 0 | 1 | 0 | 0 |\n",
       "| hl60_decitabine_2 | 0 | 1 | 0 | 0 |\n",
       "| hl60_dmso_1 | 1 | 0 | 0 | 0 |\n",
       "| hl60_dmso_2 | 1 | 0 | 0 | 0 |\n",
       "| hl60_rg3039_1 | 1 | 0 | 1 | 0 |\n",
       "| hl60_rg3039_2 | 1 | 0 | 1 | 0 |\n",
       "\n"
      ],
      "text/plain": [
       "                   DecitabineNotTreated DecitabineTreated rg3039Treated\n",
       "hl60_combination_1 0                    1                 1            \n",
       "hl60_combination_2 0                    1                 1            \n",
       "hl60_decitabine_1  0                    1                 0            \n",
       "hl60_decitabine_2  0                    1                 0            \n",
       "hl60_dmso_1        1                    0                 0            \n",
       "hl60_dmso_2        1                    0                 0            \n",
       "hl60_rg3039_1      1                    0                 1            \n",
       "hl60_rg3039_2      1                    0                 1            \n",
       "                   DecitabineTreated:rg3039Treated\n",
       "hl60_combination_1 1                              \n",
       "hl60_combination_2 1                              \n",
       "hl60_decitabine_1  0                              \n",
       "hl60_decitabine_2  0                              \n",
       "hl60_dmso_1        0                              \n",
       "hl60_dmso_2        0                              \n",
       "hl60_rg3039_1      0                              \n",
       "hl60_rg3039_2      0                              "
      ]
     },
     "metadata": {},
     "output_type": "display_data"
    }
   ],
   "source": [
    "model.matrix(~0+Decitabine+rg3039+Decitabine*rg3039,colData)"
   ]
  },
  {
   "cell_type": "code",
   "execution_count": 23,
   "metadata": {},
   "outputs": [
    {
     "name": "stderr",
     "output_type": "stream",
     "text": [
      "using counts and average transcript lengths from tximport\n",
      "\n",
      "estimating size factors\n",
      "\n",
      "using 'avgTxLength' from assays(dds), correcting for library size\n",
      "\n",
      "estimating dispersions\n",
      "\n",
      "gene-wise dispersion estimates: 18 workers\n",
      "\n",
      "mean-dispersion relationship\n",
      "\n",
      "final dispersion estimates, fitting model and testing: 18 workers\n",
      "\n"
     ]
    }
   ],
   "source": [
    "dds2 <- DESeqDataSetFromTximport(txi, colData, ~0+Decitabine+rg3039+Decitabine*rg3039)\n",
    "\n",
    "# Annova test\n",
    "dds2 <- DESeq(dds2, test=\"LRT\", reduced=~1, parallel=TRUE)\n"
   ]
  },
  {
   "cell_type": "code",
   "execution_count": 24,
   "metadata": {},
   "outputs": [
    {
     "data": {
      "text/html": [
       "<style>\n",
       ".list-inline {list-style: none; margin:0; padding: 0}\n",
       ".list-inline>li {display: inline-block}\n",
       ".list-inline>li:not(:last-child)::after {content: \"\\00b7\"; padding: 0 .5ex}\n",
       "</style>\n",
       "<ol class=list-inline><li>'DecitabineNotTreated'</li><li>'DecitabineTreated'</li><li>'rg3039Treated'</li><li>'DecitabineTreated.rg3039Treated'</li></ol>\n"
      ],
      "text/latex": [
       "\\begin{enumerate*}\n",
       "\\item 'DecitabineNotTreated'\n",
       "\\item 'DecitabineTreated'\n",
       "\\item 'rg3039Treated'\n",
       "\\item 'DecitabineTreated.rg3039Treated'\n",
       "\\end{enumerate*}\n"
      ],
      "text/markdown": [
       "1. 'DecitabineNotTreated'\n",
       "2. 'DecitabineTreated'\n",
       "3. 'rg3039Treated'\n",
       "4. 'DecitabineTreated.rg3039Treated'\n",
       "\n",
       "\n"
      ],
      "text/plain": [
       "[1] \"DecitabineNotTreated\"            \"DecitabineTreated\"              \n",
       "[3] \"rg3039Treated\"                   \"DecitabineTreated.rg3039Treated\""
      ]
     },
     "metadata": {},
     "output_type": "display_data"
    }
   ],
   "source": [
    "resultsNames(dds2)"
   ]
  },
  {
   "cell_type": "code",
   "execution_count": 25,
   "metadata": {},
   "outputs": [],
   "source": [
    "# contrast design: combination treatment vs dmso \n",
    "res_comb_vs_dmso  = results(dds2, contrast=list(\n",
    "    c('DecitabineTreated','rg3039Treated','DecitabineTreated.rg3039Treated'),\n",
    "    c('DecitabineNotTreated')\n",
    "),listValues=c(1,-1)) %>% data.frame"
   ]
  },
  {
   "cell_type": "code",
   "execution_count": 26,
   "metadata": {},
   "outputs": [],
   "source": [
    "# contrast design: decitabine treatment vs dmso \n",
    "res_decitabine_vs_dmso  = results(dds2, contrast=list(\n",
    "    c('DecitabineTreated'),\n",
    "    c('DecitabineNotTreated')\n",
    "),listValues=c(1,-1)) %>% data.frame"
   ]
  },
  {
   "cell_type": "markdown",
   "metadata": {},
   "source": [
    "___"
   ]
  },
  {
   "cell_type": "code",
   "execution_count": 27,
   "metadata": {},
   "outputs": [
    {
     "data": {
      "text/html": [
       "<table class=\"dataframe\">\n",
       "<caption>A matrix: 8 × 4 of type dbl</caption>\n",
       "<thead>\n",
       "\t<tr><th></th><th scope=col>rg3039NotTreated</th><th scope=col>rg3039Treated</th><th scope=col>DecitabineTreated</th><th scope=col>rg3039Treated:DecitabineTreated</th></tr>\n",
       "</thead>\n",
       "<tbody>\n",
       "\t<tr><th scope=row>hl60_combination_1</th><td>0</td><td>1</td><td>1</td><td>1</td></tr>\n",
       "\t<tr><th scope=row>hl60_combination_2</th><td>0</td><td>1</td><td>1</td><td>1</td></tr>\n",
       "\t<tr><th scope=row>hl60_decitabine_1</th><td>1</td><td>0</td><td>1</td><td>0</td></tr>\n",
       "\t<tr><th scope=row>hl60_decitabine_2</th><td>1</td><td>0</td><td>1</td><td>0</td></tr>\n",
       "\t<tr><th scope=row>hl60_dmso_1</th><td>1</td><td>0</td><td>0</td><td>0</td></tr>\n",
       "\t<tr><th scope=row>hl60_dmso_2</th><td>1</td><td>0</td><td>0</td><td>0</td></tr>\n",
       "\t<tr><th scope=row>hl60_rg3039_1</th><td>0</td><td>1</td><td>0</td><td>0</td></tr>\n",
       "\t<tr><th scope=row>hl60_rg3039_2</th><td>0</td><td>1</td><td>0</td><td>0</td></tr>\n",
       "</tbody>\n",
       "</table>\n"
      ],
      "text/latex": [
       "A matrix: 8 × 4 of type dbl\n",
       "\\begin{tabular}{r|llll}\n",
       "  & rg3039NotTreated & rg3039Treated & DecitabineTreated & rg3039Treated:DecitabineTreated\\\\\n",
       "\\hline\n",
       "\thl60\\_combination\\_1 & 0 & 1 & 1 & 1\\\\\n",
       "\thl60\\_combination\\_2 & 0 & 1 & 1 & 1\\\\\n",
       "\thl60\\_decitabine\\_1 & 1 & 0 & 1 & 0\\\\\n",
       "\thl60\\_decitabine\\_2 & 1 & 0 & 1 & 0\\\\\n",
       "\thl60\\_dmso\\_1 & 1 & 0 & 0 & 0\\\\\n",
       "\thl60\\_dmso\\_2 & 1 & 0 & 0 & 0\\\\\n",
       "\thl60\\_rg3039\\_1 & 0 & 1 & 0 & 0\\\\\n",
       "\thl60\\_rg3039\\_2 & 0 & 1 & 0 & 0\\\\\n",
       "\\end{tabular}\n"
      ],
      "text/markdown": [
       "\n",
       "A matrix: 8 × 4 of type dbl\n",
       "\n",
       "| <!--/--> | rg3039NotTreated | rg3039Treated | DecitabineTreated | rg3039Treated:DecitabineTreated |\n",
       "|---|---|---|---|---|\n",
       "| hl60_combination_1 | 0 | 1 | 1 | 1 |\n",
       "| hl60_combination_2 | 0 | 1 | 1 | 1 |\n",
       "| hl60_decitabine_1 | 1 | 0 | 1 | 0 |\n",
       "| hl60_decitabine_2 | 1 | 0 | 1 | 0 |\n",
       "| hl60_dmso_1 | 1 | 0 | 0 | 0 |\n",
       "| hl60_dmso_2 | 1 | 0 | 0 | 0 |\n",
       "| hl60_rg3039_1 | 0 | 1 | 0 | 0 |\n",
       "| hl60_rg3039_2 | 0 | 1 | 0 | 0 |\n",
       "\n"
      ],
      "text/plain": [
       "                   rg3039NotTreated rg3039Treated DecitabineTreated\n",
       "hl60_combination_1 0                1             1                \n",
       "hl60_combination_2 0                1             1                \n",
       "hl60_decitabine_1  1                0             1                \n",
       "hl60_decitabine_2  1                0             1                \n",
       "hl60_dmso_1        1                0             0                \n",
       "hl60_dmso_2        1                0             0                \n",
       "hl60_rg3039_1      0                1             0                \n",
       "hl60_rg3039_2      0                1             0                \n",
       "                   rg3039Treated:DecitabineTreated\n",
       "hl60_combination_1 1                              \n",
       "hl60_combination_2 1                              \n",
       "hl60_decitabine_1  0                              \n",
       "hl60_decitabine_2  0                              \n",
       "hl60_dmso_1        0                              \n",
       "hl60_dmso_2        0                              \n",
       "hl60_rg3039_1      0                              \n",
       "hl60_rg3039_2      0                              "
      ]
     },
     "metadata": {},
     "output_type": "display_data"
    }
   ],
   "source": [
    "model.matrix(~0+rg3039+Decitabine+Decitabine*rg3039,colData)"
   ]
  },
  {
   "cell_type": "code",
   "execution_count": 28,
   "metadata": {},
   "outputs": [
    {
     "name": "stderr",
     "output_type": "stream",
     "text": [
      "using counts and average transcript lengths from tximport\n",
      "\n",
      "estimating size factors\n",
      "\n",
      "using 'avgTxLength' from assays(dds), correcting for library size\n",
      "\n",
      "estimating dispersions\n",
      "\n",
      "gene-wise dispersion estimates: 18 workers\n",
      "\n",
      "mean-dispersion relationship\n",
      "\n",
      "final dispersion estimates, fitting model and testing: 18 workers\n",
      "\n"
     ]
    }
   ],
   "source": [
    "dds3 <- DESeqDataSetFromTximport(txi, colData, ~0+rg3039+Decitabine+Decitabine*rg3039)\n",
    "\n",
    "# Annova test\n",
    "dds3 <- DESeq(dds3, test=\"LRT\", reduced=~1, parallel=TRUE)"
   ]
  },
  {
   "cell_type": "code",
   "execution_count": 29,
   "metadata": {},
   "outputs": [
    {
     "data": {
      "text/html": [
       "<style>\n",
       ".list-inline {list-style: none; margin:0; padding: 0}\n",
       ".list-inline>li {display: inline-block}\n",
       ".list-inline>li:not(:last-child)::after {content: \"\\00b7\"; padding: 0 .5ex}\n",
       "</style>\n",
       "<ol class=list-inline><li>'rg3039NotTreated'</li><li>'rg3039Treated'</li><li>'DecitabineTreated'</li><li>'rg3039Treated.DecitabineTreated'</li></ol>\n"
      ],
      "text/latex": [
       "\\begin{enumerate*}\n",
       "\\item 'rg3039NotTreated'\n",
       "\\item 'rg3039Treated'\n",
       "\\item 'DecitabineTreated'\n",
       "\\item 'rg3039Treated.DecitabineTreated'\n",
       "\\end{enumerate*}\n"
      ],
      "text/markdown": [
       "1. 'rg3039NotTreated'\n",
       "2. 'rg3039Treated'\n",
       "3. 'DecitabineTreated'\n",
       "4. 'rg3039Treated.DecitabineTreated'\n",
       "\n",
       "\n"
      ],
      "text/plain": [
       "[1] \"rg3039NotTreated\"                \"rg3039Treated\"                  \n",
       "[3] \"DecitabineTreated\"               \"rg3039Treated.DecitabineTreated\""
      ]
     },
     "metadata": {},
     "output_type": "display_data"
    }
   ],
   "source": [
    "resultsNames(dds3)"
   ]
  },
  {
   "cell_type": "code",
   "execution_count": 30,
   "metadata": {},
   "outputs": [],
   "source": [
    "# contrast design: combination treatment vs decitabine\n",
    "res_comb_vs_decitabine  = results(dds3, contrast=list(\n",
    "    c('rg3039Treated','rg3039Treated.DecitabineTreated'),\n",
    "    c('rg3039NotTreated')\n",
    "),listValues=c(1,-1)) %>% data.frame"
   ]
  },
  {
   "cell_type": "code",
   "execution_count": 31,
   "metadata": {},
   "outputs": [],
   "source": [
    "# contrast design: rg3039 treatment vs dmso\n",
    "res_rg3039_vs_dmso  = results(dds3, contrast=list(\n",
    "    c('rg3039Treated'),\n",
    "    c('rg3039NotTreated')\n",
    "),listValues=c(1,-1)) %>% data.frame"
   ]
  },
  {
   "cell_type": "code",
   "execution_count": 32,
   "metadata": {},
   "outputs": [],
   "source": [
    "# contrast design: combination treatment vs rg3039 \n",
    "res_comb_vs_rg3039  = results(dds3, contrast=list(\n",
    "    c('DecitabineTreated','rg3039Treated','rg3039Treated.DecitabineTreated'),\n",
    "    c('rg3039NotTreated')\n",
    "),listValues=c(1,-1)) %>% data.frame"
   ]
  },
  {
   "cell_type": "markdown",
   "metadata": {},
   "source": [
    "___"
   ]
  },
  {
   "cell_type": "code",
   "execution_count": 33,
   "metadata": {},
   "outputs": [],
   "source": [
    "RES = list(\n",
    "    'comb_vs_dmso'=res_comb_vs_dmso, \n",
    "    'comb_vs_decitabine'=res_comb_vs_decitabine,\n",
    "    'comb_vs_rg3039'=res_comb_vs_rg3039,\n",
    "    'decitabine_vs_dmso'=res_decitabine_vs_dmso,\n",
    "    'rg3039_vs_dmso'=res_rg3039_vs_dmso,\n",
    "    'rep2_vs_rep1'=res_rep2_vs_rep1\n",
    ")"
   ]
  },
  {
   "cell_type": "markdown",
   "metadata": {
    "tags": []
   },
   "source": [
    "### merge results"
   ]
  },
  {
   "cell_type": "code",
   "execution_count": 34,
   "metadata": {},
   "outputs": [],
   "source": [
    "result_table <- cbind(\n",
    "    RES[[1]] %>% select('log2FoldChange','pvalue') %>% \n",
    "        rename(comb_vs_dmso_log2FC=log2FoldChange,comb_vs_dmso_pvalue=pvalue),\n",
    "    RES[[2]] %>% select('log2FoldChange','pvalue') %>% \n",
    "        rename(comb_vs_decitabine_log2FC=log2FoldChange,comb_vs_decitabine_pvalue=pvalue),\n",
    "    RES[[3]] %>% select('log2FoldChange','pvalue') %>% \n",
    "        rename(comb_vs_rg3039_log2FC=log2FoldChange,comb_vs_rg3039_pvalue=pvalue),\n",
    "    RES[[4]] %>% select('log2FoldChange','pvalue') %>% \n",
    "        rename(decitabine_vs_dmso_log2FC=log2FoldChange,decitabine_vs_dmso_pvalue=pvalue),\n",
    "    RES[[5]] %>% select('log2FoldChange','pvalue') %>% \n",
    "        rename(rg3039_vs_dmso_log2FC=log2FoldChange,rg3039_vs_dmso_pvalue=pvalue),\n",
    "    RES[[6]] %>% select('log2FoldChange','pvalue') %>% \n",
    "        rename(rep2_vs_rep1_log2FC=log2FoldChange,rep2_vs_rep1_pvalue=pvalue)\n",
    "    \n",
    ") %>% drop_na\n",
    "\n",
    "result_table <- result_table %>% replace(is.na(result_table),0)"
   ]
  },
  {
   "cell_type": "code",
   "execution_count": 35,
   "metadata": {},
   "outputs": [],
   "source": [
    "result_table <- result_table %>% rownames_to_column('fullname') %>% \n",
    "        dplyr::rowwise() %>% dplyr::mutate(name = strsplit(fullname, split=\":\")[[1]][2]) %>% \n",
    "        data.frame %>%\n",
    "        # filter(!duplicated(name_new)) %>%\n",
    "    column_to_rownames('fullname') #%>% select(-name) "
   ]
  },
  {
   "cell_type": "code",
   "execution_count": 47,
   "metadata": {},
   "outputs": [],
   "source": [
    "write_Result(\n",
    "    ncu,'DAC-rg3039/RNA-seq/herv/deseq2_norm.txt',col=T,row=T\n",
    ")"
   ]
  },
  {
   "cell_type": "code",
   "execution_count": 50,
   "metadata": {},
   "outputs": [],
   "source": [
    "write_Result(\n",
    "    result_table,'DAC-rg3039/RNA-seq/herv/result_table.txt',col=T,row=T\n",
    ")"
   ]
  },
  {
   "cell_type": "code",
   "execution_count": 48,
   "metadata": {},
   "outputs": [],
   "source": [
    "# %>% group_by(name) %>% tally() %>% filter(n>50)\n",
    "# # dplyr::filter(name %in% 'LTR67B')"
   ]
  },
  {
   "cell_type": "markdown",
   "metadata": {},
   "source": [
    "## Plots"
   ]
  },
  {
   "cell_type": "code",
   "execution_count": 10,
   "metadata": {},
   "outputs": [],
   "source": [
    "result_table = read.table(\n",
    "    'DAC-rg3039/RNA-seq/herv/result_table.txt'\n",
    ")"
   ]
  },
  {
   "cell_type": "markdown",
   "metadata": {},
   "source": [
    "### scatter plot"
   ]
  },
  {
   "cell_type": "code",
   "execution_count": 76,
   "metadata": {},
   "outputs": [],
   "source": [
    "prep_scatter <- function(p){\n",
    "    p + \n",
    "    geom_point(\n",
    "        data          = result_table %>% dplyr::filter(name %in% labels$name),\n",
    "        colour='#3cedf0',size = 2, alpha = 1, show.legend = FALSE) + \n",
    "    geom_point(\n",
    "        data          = result_table[labels %>% rownames,],\n",
    "        shape = 21, colour = \"#386cb0\", fill = \"#3cedf0\", size = 2, stroke = 1,\n",
    "        alpha = 1, show.legend = FALSE) + \n",
    "    geom_text_repel(\n",
    "        data          = result_table[labels %>% rownames,],\n",
    "        nudge_y       = 1.1 ,#- subset(dat, mpg > 30)$mpg,\n",
    "        segment.size  = .2,\n",
    "        size = 4,\n",
    "        segment.color = \"grey50\",\n",
    "        direction     = \"x\"\n",
    "    ) +\n",
    "    theme_bw(30) +\n",
    "    theme(\n",
    "        text=element_text(size=14),\n",
    "        panel.background = element_rect(colour = \"black\"), \n",
    "        panel.grid.major = element_blank(),\n",
    "        panel.grid.minor = element_blank(),\n",
    "        axis.ticks = element_line(size = .5)\n",
    "        \n",
    "    ) -> p\n",
    "    return (p)\n",
    "}"
   ]
  },
  {
   "cell_type": "code",
   "execution_count": 77,
   "metadata": {},
   "outputs": [],
   "source": [
    "labels = result_table %>%\n",
    "    dplyr::filter(\n",
    "        (comb_vs_dmso_log2FC > 8 & comb_vs_dmso_log2FC  > 8) \n",
    "        &\n",
    "        (abs(decitabine_vs_dmso_log2FC) < 0.8 & abs(rg3039_vs_dmso_log2FC) < 0.8)\n",
    "        # &\n",
    "        # (name %in% (result_table %>% \n",
    "        #      group_by(name) %>% tally() %>% filter(n<100) %>% \n",
    "        #      column_to_rownames('name') %>% rownames\n",
    "        # ))\n",
    "    ) %>% select(name)\n",
    "\n",
    "# labels = result_table['ERV:HERVL+MLT2B3:<hg38:chr16:29002652-29008043:F>:1346575',]"
   ]
  },
  {
   "cell_type": "code",
   "execution_count": 78,
   "metadata": {},
   "outputs": [],
   "source": [
    "result_table$label = ''\n",
    "\n",
    "result_table[labels %>% rownames,]$label = 'PABL_A chr9:9641512-9642657'"
   ]
  },
  {
   "cell_type": "code",
   "execution_count": 79,
   "metadata": {},
   "outputs": [],
   "source": [
    "result_table %>% ggplot + \n",
    "    aes(decitabine_vs_dmso_log2FC, comb_vs_dmso_log2FC, label = label) + \n",
    "    # \"#fdb462\", \"#7fc97f\n",
    "    geom_point(colour='gray90',size = 2, alpha = 1, show.legend = FALSE) + \n",
    "    xlab('log2FC\\nDecitabine vs DMSO') + \n",
    "    ylab('log2FC\\nCombination vs DMSO') + \n",
    "    theme_Publication() + \n",
    "    labs(colour = \"\") -> p1 \n"
   ]
  },
  {
   "cell_type": "code",
   "execution_count": 80,
   "metadata": {},
   "outputs": [],
   "source": [
    "result_table %>% ggplot + \n",
    "    aes(rg3039_vs_dmso_log2FC, comb_vs_dmso_log2FC, label = label) + \n",
    "    # \"#fdb462\", \"#7fc97f\n",
    "    geom_point(colour='gray90',size = 2, alpha = 1, show.legend = FALSE) + \n",
    "    xlab('log2FC\\nRG3039 vs DMSO') + \n",
    "    ylab('log2FC\\nCombination vs DMSO') +     \n",
    "    theme_Publication() + \n",
    "    labs(colour = \"\") -> p2\n",
    "    # scale_y_continuous(breaks=NULL) "
   ]
  },
  {
   "cell_type": "code",
   "execution_count": 81,
   "metadata": {},
   "outputs": [],
   "source": [
    "# (prep_scatter(p1) + theme_Publication()) + (prep_scatter(p2) + theme_Publication())\n",
    "# # & theme(plot.margin = unit(c(0.1,0.1,0.1,0.1), \"cm\"))"
   ]
  },
  {
   "cell_type": "code",
   "execution_count": 82,
   "metadata": {},
   "outputs": [],
   "source": [
    "ggsave('DAC-rg3039/RNA-seq/herv/DAC-rg3039-ERV-expression-scatter.eps',\n",
    "       plot=(\n",
    "           prep_scatter(p1) + theme_Publication() + theme(axis.title = element_text(face = \"plain\", size = rel(0.8)))\n",
    "       ) + (\n",
    "           prep_scatter(p2) + theme_Publication() + theme(axis.title = element_text(face = \"plain\", size = rel(0.8)))\n",
    "       ),       \n",
    "       width = 10, height = 5, device='eps')"
   ]
  },
  {
   "cell_type": "markdown",
   "metadata": {},
   "source": [
    "https://herv.img.cas.cz/entities/3669486"
   ]
  },
  {
   "cell_type": "code",
   "execution_count": 137,
   "metadata": {},
   "outputs": [],
   "source": [
    "plot_gene_counts(\n",
    "    dds2,\n",
    "    'ERV:PABL_A:<hg38:chr9:9641512-9642657:F>:3669486',\n",
    "    'PABL_A\\nchr9:9641512-9642657',\n",
    "    'cond'\n",
    ") + \n",
    "xlab('') + \n",
    "theme(\n",
    "    legend.position = \"none\",\n",
    "    axis.title = element_text(face = \"plain\", size=16),\n",
    "    axis.text.x = element_text(angle = 45,hjust=1),\n",
    "    text=element_text(size=16),\n",
    "    plot.title = element_text(face = \"plain\", size=16),\n",
    "    \n",
    ") -> p3"
   ]
  },
  {
   "cell_type": "code",
   "execution_count": 140,
   "metadata": {},
   "outputs": [
    {
     "name": "stderr",
     "output_type": "stream",
     "text": [
      "geom_path: Each group consists of only one observation. Do you need to adjust\n",
      "the group aesthetic?\n",
      "\n"
     ]
    }
   ],
   "source": [
    "ggsave('DAC-rg3039/RNA-seq/herv/DAC-rg3039-ERV-expression-counts.pdf',\n",
    "       plot=p3,\n",
    "       width = 4, height = 5)"
   ]
  },
  {
   "cell_type": "code",
   "execution_count": 141,
   "metadata": {},
   "outputs": [
    {
     "name": "stderr",
     "output_type": "stream",
     "text": [
      "geom_path: Each group consists of only one observation. Do you need to adjust\n",
      "the group aesthetic?\n",
      "\n"
     ]
    },
    {
     "data": {
      "image/png": "[encoded data removed]",
      "text/plain": [
       "plot without title"
      ]
     },
     "metadata": {
      "image/png": {
       "height": 420,
       "width": 420
      }
     },
     "output_type": "display_data"
    }
   ],
   "source": [
    "p3"
   ]
  },
  {
   "cell_type": "markdown",
   "metadata": {},
   "source": [
    "### heatmap"
   ]
  },
  {
   "cell_type": "code",
   "execution_count": null,
   "metadata": {},
   "outputs": [],
   "source": [
    "dim(ncu)[1] - sum(rowSums(ncu) == 0)"
   ]
  },
  {
   "cell_type": "code",
   "execution_count": null,
   "metadata": {},
   "outputs": [],
   "source": [
    "heat_colors <- brewer.pal(n = 6, name = \"RdYlBu\") %>% rev\n",
    "paired <- brewer.pal(n = 10, name = \"Paired\")\n"
   ]
  },
  {
   "cell_type": "code",
   "execution_count": null,
   "metadata": {},
   "outputs": [],
   "source": [
    "ann_colors = list(\n",
    "    cond = c('DMSO'= paired[1], 'Decitabine'=paired[3], 'rg3039'=paired[9],'Combination'=paired[10])\n",
    ")"
   ]
  },
  {
   "cell_type": "code",
   "execution_count": null,
   "metadata": {},
   "outputs": [],
   "source": []
  },
  {
   "cell_type": "code",
   "execution_count": null,
   "metadata": {},
   "outputs": [],
   "source": [
    "ncu[\n",
    "    # select genes based on abs(log2FC) and pvalue\n",
    "    result_table %>%\n",
    "        dplyr::filter((abs(rep2_vs_rep1_log2FC) < 1 & rep2_vs_rep1_pvalue > 0.9) & (\n",
    "            (abs(comb_vs_dmso_log2FC) > 1 & comb_vs_dmso_pvalue  < 0.05) |\n",
    "            (abs(comb_vs_decitabine_log2FC) > 1 & comb_vs_decitabine_pvalue  < 0.05) |\n",
    "            (abs(comb_vs_rg3039_log2FC) > 1 & comb_vs_rg3039_pvalue  < 0.05) |\n",
    "            (abs(decitabine_vs_dmso_log2FC) > 1 & decitabine_vs_dmso_pvalue  < 0.05) |\n",
    "            (abs(rg3039_vs_dmso_log2FC) > 1 & rg3039_vs_dmso_pvalue  < 0.05)\n",
    "        )\n",
    "\n",
    "        #     (\n",
    "        #     (abs(comb_vs_decitabine_log2FC) > 1 & comb_vs_decitabine_pvalue  < 0.01) |\n",
    "        #     (abs(comb_vs_dmso_log2FC) > 1 & comb_vs_dmso_pvalue  < 0.01)\n",
    "        # ) & (abs(decitabine_vs_dmso_log2FC) < 0.8 & abs(rg3039_vs_dmso_log2FC) < 0.8)\n",
    "            \n",
    "        ) %>% \n",
    "    rownames\n",
    "    , \n",
    "    # subset normalized counts\n",
    "    colData %>% arrange(cond) %>% rownames\n",
    "] %>% \n",
    "rownames_to_column('name') %>% \n",
    "        dplyr::rowwise() %>% dplyr::mutate(name_new = strsplit(name, split=\":\")[[1]][2]) %>% \n",
    "        data.frame %>%\n",
    "        filter(!duplicated(name_new)) %>%\n",
    "    column_to_rownames('name_new') %>% select(-name) -> ncu1\n",
    "\n",
    "ncu1 %>% dim\n",
    "\n",
    "ncu1 %>%\n",
    "    # generate heatmap\n",
    "    pheatmap(\n",
    "        color = heat_colors, \n",
    "        show_colnames = F,\n",
    "        show_rownames = T,\n",
    "        cutree_rows = 5,\n",
    "        main = 'Decitabine+rg3039 drug combination\\nendogenous retrovirus (ERV)',\n",
    "        annotation = colData %>% arrange(cond) %>% select(cond),\n",
    "        cluster_cols = F, \n",
    "        scale = 'row',\n",
    "        angle_col= 45,\n",
    "        annotation_colors = ann_colors\n",
    ") -> hm\n",
    "\n",
    "# https://stackoverflow.com/questions/43051525/how-to-draw-pheatmap-plot-to-screen-and-also-save-to-file\n",
    "pdf('DAC-rg3039/RNA-seq/herv/heatmap_clustering.pdf', width=7, height=50)\n",
    "grid::grid.newpage()\n",
    "grid::grid.draw(hm$gtable)\n",
    "dev.off()"
   ]
  },
  {
   "cell_type": "code",
   "execution_count": null,
   "metadata": {},
   "outputs": [],
   "source": [
    "RES %>% names"
   ]
  },
  {
   "cell_type": "code",
   "execution_count": null,
   "metadata": {},
   "outputs": [],
   "source": []
  },
  {
   "cell_type": "code",
   "execution_count": 90,
   "metadata": {},
   "outputs": [
    {
     "ename": "ERROR",
     "evalue": "Error in (function (cond) : error in evaluating the argument 'x' in selecting a method for function 'rownames': Problem with `filter()` input `..1`.\n\u001b[34mℹ\u001b[39m Input `..1` is `&...`.\n\u001b[31m✖\u001b[39m error in evaluating the argument 'table' in selecting a method for function '%in%': attempt to apply non-function\n",
     "output_type": "error",
     "traceback": [
      "Error in (function (cond) : error in evaluating the argument 'x' in selecting a method for function 'rownames': Problem with `filter()` input `..1`.\n\u001b[34mℹ\u001b[39m Input `..1` is `&...`.\n\u001b[31m✖\u001b[39m error in evaluating the argument 'table' in selecting a method for function '%in%': attempt to apply non-function\nTraceback:\n",
      "1. data.frame(assay(rld))[result_table %>% dplyr::filter(name %in% \n .     labels$name(abs(rep2_vs_rep1_log2FC) < 1 & rep2_vs_rep1_pvalue > \n .         0.9) & ((abs(comb_vs_dmso_log2FC) > 1 & comb_vs_dmso_pvalue < \n .     0.05) | (abs(comb_vs_decitabine_log2FC) > 1 & comb_vs_decitabine_pvalue < \n .     0.05) | (abs(comb_vs_rg3039_log2FC) > 1 & comb_vs_rg3039_pvalue < \n .     0.05) | (abs(decitabine_vs_dmso_log2FC) > 1 & decitabine_vs_dmso_pvalue < \n .     0.05) | (abs(rg3039_vs_dmso_log2FC) > 1 & rg3039_vs_dmso_pvalue < \n .     0.05))) %>% rownames, colData %>% arrange(cond) %>% rownames]",
      "2. `[.data.frame`(data.frame(assay(rld)), result_table %>% dplyr::filter(name %in% \n .     labels$name(abs(rep2_vs_rep1_log2FC) < 1 & rep2_vs_rep1_pvalue > \n .         0.9) & ((abs(comb_vs_dmso_log2FC) > 1 & comb_vs_dmso_pvalue < \n .     0.05) | (abs(comb_vs_decitabine_log2FC) > 1 & comb_vs_decitabine_pvalue < \n .     0.05) | (abs(comb_vs_rg3039_log2FC) > 1 & comb_vs_rg3039_pvalue < \n .     0.05) | (abs(decitabine_vs_dmso_log2FC) > 1 & decitabine_vs_dmso_pvalue < \n .     0.05) | (abs(rg3039_vs_dmso_log2FC) > 1 & rg3039_vs_dmso_pvalue < \n .     0.05))) %>% rownames, colData %>% arrange(cond) %>% rownames)",
      "3. result_table %>% dplyr::filter(name %in% labels$name(abs(rep2_vs_rep1_log2FC) < \n .     1 & rep2_vs_rep1_pvalue > 0.9) & ((abs(comb_vs_dmso_log2FC) > \n .     1 & comb_vs_dmso_pvalue < 0.05) | (abs(comb_vs_decitabine_log2FC) > \n .     1 & comb_vs_decitabine_pvalue < 0.05) | (abs(comb_vs_rg3039_log2FC) > \n .     1 & comb_vs_rg3039_pvalue < 0.05) | (abs(decitabine_vs_dmso_log2FC) > \n .     1 & decitabine_vs_dmso_pvalue < 0.05) | (abs(rg3039_vs_dmso_log2FC) > \n .     1 & rg3039_vs_dmso_pvalue < 0.05))) %>% rownames",
      "4. rownames(.)",
      "5. dplyr::filter(., name %in% labels$name(abs(rep2_vs_rep1_log2FC) < \n .     1 & rep2_vs_rep1_pvalue > 0.9) & ((abs(comb_vs_dmso_log2FC) > \n .     1 & comb_vs_dmso_pvalue < 0.05) | (abs(comb_vs_decitabine_log2FC) > \n .     1 & comb_vs_decitabine_pvalue < 0.05) | (abs(comb_vs_rg3039_log2FC) > \n .     1 & comb_vs_rg3039_pvalue < 0.05) | (abs(decitabine_vs_dmso_log2FC) > \n .     1 & decitabine_vs_dmso_pvalue < 0.05) | (abs(rg3039_vs_dmso_log2FC) > \n .     1 & rg3039_vs_dmso_pvalue < 0.05)))",
      "6. filter.data.frame(., name %in% labels$name(abs(rep2_vs_rep1_log2FC) < \n .     1 & rep2_vs_rep1_pvalue > 0.9) & ((abs(comb_vs_dmso_log2FC) > \n .     1 & comb_vs_dmso_pvalue < 0.05) | (abs(comb_vs_decitabine_log2FC) > \n .     1 & comb_vs_decitabine_pvalue < 0.05) | (abs(comb_vs_rg3039_log2FC) > \n .     1 & comb_vs_rg3039_pvalue < 0.05) | (abs(decitabine_vs_dmso_log2FC) > \n .     1 & decitabine_vs_dmso_pvalue < 0.05) | (abs(rg3039_vs_dmso_log2FC) > \n .     1 & rg3039_vs_dmso_pvalue < 0.05)))",
      "7. filter_rows(.data, ..., caller_env = caller_env())",
      "8. withCallingHandlers({\n .     dots <- new_quosures(flatten(imap(dots, function(dot, index) {\n .         env_filter$current_expression <- index\n .         expand_if_across(dot)\n .     })))\n .     mask$eval_all_filter(dots, env_filter)\n . }, error = function(e) {\n .     local_call_step(dots = dots, .index = env_filter$current_expression, \n .         .fn = \"filter\")\n .     abort(c(cnd_bullet_header(), i = cnd_bullet_input_info(), \n .         x = conditionMessage(e), i = cnd_bullet_cur_group_label()), \n .         class = \"dplyr_error\")\n . })",
      "9. mask$eval_all_filter(dots, env_filter)",
      "10. name %in% labels$name(abs(rep2_vs_rep1_log2FC) < 1 & rep2_vs_rep1_pvalue > \n  .     0.9)",
      "11. .handleSimpleError(function (cond) \n  . .Internal(C_tryCatchHelper(addr, 1L, cond)), \"attempt to apply non-function\", \n  .     base::quote(name %in% labels$name(abs(rep2_vs_rep1_log2FC) < \n  .         1 & rep2_vs_rep1_pvalue > 0.9)))",
      "12. h(simpleError(msg, call))",
      "13. .handleSimpleError(function (e) \n  . {\n  .     local_call_step(dots = dots, .index = env_filter$current_expression, \n  .         .fn = \"filter\")\n  .     abort(c(cnd_bullet_header(), i = cnd_bullet_input_info(), \n  .         x = conditionMessage(e), i = cnd_bullet_cur_group_label()), \n  .         class = \"dplyr_error\")\n  . }, \"error in evaluating the argument 'table' in selecting a method for function '%in%': attempt to apply non-function\", \n  .     base::quote(h(simpleError(msg, call))))",
      "14. h(simpleError(msg, call))",
      "15. abort(c(cnd_bullet_header(), i = cnd_bullet_input_info(), x = conditionMessage(e), \n  .     i = cnd_bullet_cur_group_label()), class = \"dplyr_error\")",
      "16. signal_abort(cnd)",
      "17. signalCondition(cnd)",
      "18. (function (cond) \n  . .Internal(C_tryCatchHelper(addr, 1L, cond)))(structure(list(message = \"Problem with `filter()` input `..1`.\\n\\033[34mℹ\\033[39m Input `..1` is `&...`.\\n\\033[31m✖\\033[39m error in evaluating the argument 'table' in selecting a method for function '%in%': attempt to apply non-function\", \n  .     trace = structure(list(calls = list(IRkernel::main(), kernel$run(), \n  .         IRkernel:::handle_shell(), executor$execute(msg), base::tryCatch(evaluate(request$content$code, \n  .             envir = .GlobalEnv, output_handler = oh, stop_on_error = 1L), \n  .             interrupt = function(cond) {\n  .                 log_debug(\"Interrupt during execution\")\n  .                 interrupted <<- TRUE\n  .             }, error = .self$handle_error), base:::tryCatchList(expr, \n  .             classes, parentenv, handlers), base:::tryCatchOne(tryCatchList(expr, \n  .             names[-nh], parentenv, handlers[-nh]), names[nh], \n  .             parentenv, handlers[[nh]]), base:::doTryCatch(return(expr), \n  .             name, parentenv, handler), base:::tryCatchList(expr, \n  .             names[-nh], parentenv, handlers[-nh]), base:::tryCatchOne(expr, \n  .             names, parentenv, handlers[[1L]]), base:::doTryCatch(return(expr), \n  .             name, parentenv, handler), evaluate::evaluate(request$content$code, \n  .             envir = .GlobalEnv, output_handler = oh, stop_on_error = 1L), \n  .         evaluate:::evaluate_call(expr, parsed$src[[i]], envir = envir, \n  .             enclos = enclos, debug = debug, last = i == length(out), \n  .             use_try = stop_on_error != 2L, keep_warning = keep_warning, \n  .             keep_message = keep_message, output_handler = output_handler, \n  .             include_timing = include_timing), evaluate:::timing_fn(handle(ev <- withCallingHandlers(withVisible(eval(expr, \n  .             envir, enclos)), warning = wHandler, error = eHandler, \n  .             message = mHandler))), evaluate:::handle(ev <- withCallingHandlers(withVisible(eval(expr, \n  .             envir, enclos)), warning = wHandler, error = eHandler, \n  .             message = mHandler)), base::try(f, silent = TRUE), \n  .         base::tryCatch(expr, error = function(e) {\n  .             call <- conditionCall(e)\n  .             if (!is.null(call)) {\n  .                 if (identical(call[[1L]], quote(doTryCatch))) \n  .                   call <- sys.call(-4L)\n  .                 dcall <- deparse(call)[1L]\n  .                 prefix <- paste(\"Error in\", dcall, \": \")\n  .                 LONG <- 75L\n  .                 sm <- strsplit(conditionMessage(e), \"\\n\")[[1L]]\n  .                 w <- 14L + nchar(dcall, type = \"w\") + nchar(sm[1L], \n  .                   type = \"w\")\n  .                 if (is.na(w)) \n  .                   w <- 14L + nchar(dcall, type = \"b\") + nchar(sm[1L], \n  .                     type = \"b\")\n  .                 if (w > LONG) \n  .                   prefix <- paste0(prefix, \"\\n  \")\n  .             }\n  .             else prefix <- \"Error : \"\n  .             msg <- paste0(prefix, conditionMessage(e), \"\\n\")\n  .             .Internal(seterrmessage(msg[1L]))\n  .             if (!silent && isTRUE(getOption(\"show.error.messages\"))) {\n  .                 cat(msg, file = outFile)\n  .                 .Internal(printDeferredWarnings())\n  .             }\n  .             invisible(structure(msg, class = \"try-error\", condition = e))\n  .         }), base:::tryCatchList(expr, classes, parentenv, handlers), \n  .         base:::tryCatchOne(expr, names, parentenv, handlers[[1L]]), \n  .         base:::doTryCatch(return(expr), name, parentenv, handler), \n  .         base::withCallingHandlers(withVisible(eval(expr, envir, \n  .             enclos)), warning = wHandler, error = eHandler, message = mHandler), \n  .         base::withVisible(eval(expr, envir, enclos)), base::eval(expr, \n  .             envir, enclos), base::eval(expr, envir, enclos), \n  .         data.frame(assay(rld))[result_table %>% dplyr::filter(name %in% \n  .             labels$name(abs(rep2_vs_rep1_log2FC) < 1 & rep2_vs_rep1_pvalue > \n  .                 0.9) & ((abs(comb_vs_dmso_log2FC) > 1 & comb_vs_dmso_pvalue < \n  .             0.05) | (abs(comb_vs_decitabine_log2FC) > 1 & comb_vs_decitabine_pvalue < \n  .             0.05) | (abs(comb_vs_rg3039_log2FC) > 1 & comb_vs_rg3039_pvalue < \n  .             0.05) | (abs(decitabine_vs_dmso_log2FC) > 1 & decitabine_vs_dmso_pvalue < \n  .             0.05) | (abs(rg3039_vs_dmso_log2FC) > 1 & rg3039_vs_dmso_pvalue < \n  .             0.05))) %>% rownames, colData %>% arrange(cond) %>% \n  .             rownames], base::`[.data.frame`(data.frame(assay(rld)), \n  .             result_table %>% dplyr::filter(name %in% labels$name(abs(rep2_vs_rep1_log2FC) < \n  .                 1 & rep2_vs_rep1_pvalue > 0.9) & ((abs(comb_vs_dmso_log2FC) > \n  .                 1 & comb_vs_dmso_pvalue < 0.05) | (abs(comb_vs_decitabine_log2FC) > \n  .                 1 & comb_vs_decitabine_pvalue < 0.05) | (abs(comb_vs_rg3039_log2FC) > \n  .                 1 & comb_vs_rg3039_pvalue < 0.05) | (abs(decitabine_vs_dmso_log2FC) > \n  .                 1 & decitabine_vs_dmso_pvalue < 0.05) | (abs(rg3039_vs_dmso_log2FC) > \n  .                 1 & rg3039_vs_dmso_pvalue < 0.05))) %>% rownames, \n  .             colData %>% arrange(cond) %>% rownames), result_table %>% \n  .             dplyr::filter(name %in% labels$name(abs(rep2_vs_rep1_log2FC) < \n  .                 1 & rep2_vs_rep1_pvalue > 0.9) & ((abs(comb_vs_dmso_log2FC) > \n  .                 1 & comb_vs_dmso_pvalue < 0.05) | (abs(comb_vs_decitabine_log2FC) > \n  .                 1 & comb_vs_decitabine_pvalue < 0.05) | (abs(comb_vs_rg3039_log2FC) > \n  .                 1 & comb_vs_rg3039_pvalue < 0.05) | (abs(decitabine_vs_dmso_log2FC) > \n  .                 1 & decitabine_vs_dmso_pvalue < 0.05) | (abs(rg3039_vs_dmso_log2FC) > \n  .                 1 & rg3039_vs_dmso_pvalue < 0.05))) %>% rownames, \n  .         BiocGenerics::rownames(.), dplyr::filter(., name %in% \n  .             labels$name(abs(rep2_vs_rep1_log2FC) < 1 & rep2_vs_rep1_pvalue > \n  .                 0.9) & ((abs(comb_vs_dmso_log2FC) > 1 & comb_vs_dmso_pvalue < \n  .             0.05) | (abs(comb_vs_decitabine_log2FC) > 1 & comb_vs_decitabine_pvalue < \n  .             0.05) | (abs(comb_vs_rg3039_log2FC) > 1 & comb_vs_rg3039_pvalue < \n  .             0.05) | (abs(decitabine_vs_dmso_log2FC) > 1 & decitabine_vs_dmso_pvalue < \n  .             0.05) | (abs(rg3039_vs_dmso_log2FC) > 1 & rg3039_vs_dmso_pvalue < \n  .             0.05))), dplyr:::filter.data.frame(., name %in% labels$name(abs(rep2_vs_rep1_log2FC) < \n  .             1 & rep2_vs_rep1_pvalue > 0.9) & ((abs(comb_vs_dmso_log2FC) > \n  .             1 & comb_vs_dmso_pvalue < 0.05) | (abs(comb_vs_decitabine_log2FC) > \n  .             1 & comb_vs_decitabine_pvalue < 0.05) | (abs(comb_vs_rg3039_log2FC) > \n  .             1 & comb_vs_rg3039_pvalue < 0.05) | (abs(decitabine_vs_dmso_log2FC) > \n  .             1 & decitabine_vs_dmso_pvalue < 0.05) | (abs(rg3039_vs_dmso_log2FC) > \n  .             1 & rg3039_vs_dmso_pvalue < 0.05))), dplyr:::filter_rows(.data, \n  .             ..., caller_env = caller_env()), base::withCallingHandlers({\n  .             dots <- new_quosures(flatten(imap(dots, function(dot, \n  .                 index) {\n  .                 env_filter$current_expression <- index\n  .                 expand_if_across(dot)\n  .             })))\n  .             mask$eval_all_filter(dots, env_filter)\n  .         }, error = function(e) {\n  .             local_call_step(dots = dots, .index = env_filter$current_expression, \n  .                 .fn = \"filter\")\n  .             abort(c(cnd_bullet_header(), i = cnd_bullet_input_info(), \n  .                 x = conditionMessage(e), i = cnd_bullet_cur_group_label()), \n  .                 class = \"dplyr_error\")\n  .         }), mask$eval_all_filter(dots, env_filter), name %in% \n  .             labels$name(abs(rep2_vs_rep1_log2FC) < 1 & rep2_vs_rep1_pvalue > \n  .                 0.9), base::.handleSimpleError(function (cond) \n  .         .Internal(C_tryCatchHelper(addr, 1L, cond)), \"attempt to apply non-function\", \n  .             base::quote(name %in% labels$name(abs(rep2_vs_rep1_log2FC) < \n  .                 1 & rep2_vs_rep1_pvalue > 0.9))), base:::h(simpleError(msg, \n  .             call)), base::.handleSimpleError(function (e) \n  .         {\n  .             local_call_step(dots = dots, .index = env_filter$current_expression, \n  .                 .fn = \"filter\")\n  .             abort(c(cnd_bullet_header(), i = cnd_bullet_input_info(), \n  .                 x = conditionMessage(e), i = cnd_bullet_cur_group_label()), \n  .                 class = \"dplyr_error\")\n  .         }, \"error in evaluating the argument 'table' in selecting a method for function '%in%': attempt to apply non-function\", \n  .             base::quote(h(simpleError(msg, call)))), dplyr:::h(simpleError(msg, \n  .             call))), parents = c(0L, 1L, 2L, 3L, 4L, 5L, 6L, \n  .     7L, 6L, 9L, 10L, 4L, 12L, 13L, 13L, 15L, 16L, 17L, 18L, 19L, \n  .     13L, 13L, 13L, 23L, 0L, 0L, 0L, 0L, 0L, 0L, 30L, 31L, 31L, \n  .     0L, 0L, 35L, 0L, 37L), indices = 1:38), class = \"rlang_trace\", version = 1L), \n  .     parent = NULL), class = c(\"dplyr_error\", \"rlang_error\", \"error\", \n  . \"condition\")))"
     ]
    }
   ],
   "source": [
    "data.frame(assay(rld))[\n",
    "    # select genes based on abs(log2FC) and pvalue\n",
    "    result_table %>%\n",
    "        dplyr::filter(\n",
    "            name %in% labels$name\n",
    "            # (abs(comb_vs_decitabine_log2FC) > 5 & comb_vs_decitabine_log2FC  < 0.01) \n",
    "            # &\n",
    "            # (abs(decitabine_vs_dmso_log2FC) < 1 & abs(rg3039_vs_dmso_log2FC) < 1)\n",
    "            # &\n",
    "            # (name %in% (result_table %>% \n",
    "            #      group_by(name) %>% tally() %>% filter(n<100) %>% \n",
    "            #      column_to_rownames('name') %>% rownames\n",
    "            # ))\n",
    "\n",
    "            (abs(rep2_vs_rep1_log2FC) < 1 & rep2_vs_rep1_pvalue > 0.9) & (\n",
    "            (abs(comb_vs_dmso_log2FC) > 1 & comb_vs_dmso_pvalue  < 0.05) |\n",
    "            (abs(comb_vs_decitabine_log2FC) > 1 & comb_vs_decitabine_pvalue  < 0.05) |\n",
    "            (abs(comb_vs_rg3039_log2FC) > 1 & comb_vs_rg3039_pvalue  < 0.05) |\n",
    "            (abs(decitabine_vs_dmso_log2FC) > 1 & decitabine_vs_dmso_pvalue  < 0.05) |\n",
    "            (abs(rg3039_vs_dmso_log2FC) > 1 & rg3039_vs_dmso_pvalue  < 0.05)\n",
    "        )\n",
    "\n",
    "        #     (abs(comb_vs_decitabine_log2FC) > 1 & comb_vs_decitabine_pvalue  < 0.01) |\n",
    "        #     (abs(comb_vs_dmso_log2FC) > 1 & comb_vs_dmso_pvalue  < 0.01)\n",
    "        # ) & (abs(decitabine_vs_dmso_log2FC) < 0.8 & abs(rg3039_vs_dmso_log2FC) < 0.8)\n",
    "        ) %>% \n",
    "    rownames\n",
    "    , \n",
    "    # subset normalized counts\n",
    "    colData %>% arrange(cond) %>% rownames\n",
    "] -> rld1\n",
    "# %>% \n",
    "# rownames_to_column('name') %>% \n",
    "#         dplyr::rowwise() %>% dplyr::mutate(name_new = strsplit(name, split=\":\")[[1]][2]) %>% \n",
    "#         data.frame %>%\n",
    "#         filter(!duplicated(name_new)) %>%\n",
    "#     column_to_rownames('name_new') %>% \n",
    "# select(-name) \n",
    "\n",
    "rld1 %>%\n",
    "    # generate heatmap\n",
    "    pheatmap(\n",
    "        color = heat_colors, \n",
    "        show_colnames = F,\n",
    "        show_rownames = T,\n",
    "        cutree_rows = 2,\n",
    "        main = 'Decitabine+rg3039 drug combination\\nendogenous retrovirus (ERV)',\n",
    "        annotation = colData %>% arrange(cond) %>% select(cond),\n",
    "        cluster_cols = F, \n",
    "        # scale = 'row',\n",
    "        angle_col= 45,\n",
    "        annotation_colors = ann_colors\n",
    ") -> hm\n",
    "\n",
    "# # https://stackoverflow.com/questions/43051525/how-to-draw-pheatmap-plot-to-screen-and-also-save-to-file\n",
    "# pdf('DAC-rg3039/RNA-seq/herv/heatmap_clustering_counts.pdf', width=7, height=50)\n",
    "# grid::grid.newpage()\n",
    "# grid::grid.draw(hm$gtable)\n",
    "# dev.off()"
   ]
  },
  {
   "cell_type": "markdown",
   "metadata": {},
   "source": [
    "### "
   ]
  },
  {
   "cell_type": "markdown",
   "metadata": {},
   "source": [
    "- ERVL-E \n",
    "    - https://herv.img.cas.cz/elements/72\n",
    "    - https://dfam.org/family/DF0000120/summary"
   ]
  },
  {
   "cell_type": "code",
   "execution_count": 316,
   "metadata": {},
   "outputs": [],
   "source": [
    "ERVL.E='ERV:ERVL−E:<hg38:chr17:74540590−74541302:F>:1510718'"
   ]
  },
  {
   "cell_type": "code",
   "execution_count": 356,
   "metadata": {},
   "outputs": [],
   "source": [
    "ncu1 = ncu %>% rownames_to_column('name') %>% \n",
    "        dplyr::rowwise() %>% dplyr::mutate(name_new = strsplit(name, split=\":\")[[1]][2]) %>% \n",
    "        data.frame %>%\n",
    "        # filter(!duplicated(name_new)) %>%\n",
    "        filter(name_new == 'ERVL−E')"
   ]
  },
  {
   "cell_type": "code",
   "execution_count": 384,
   "metadata": {},
   "outputs": [
    {
     "data": {
      "text/html": [
       "<table class=\"dataframe\">\n",
       "<caption>A data.frame: 6 × 8</caption>\n",
       "<thead>\n",
       "\t<tr><th></th><th scope=col>hl60_dmso_1</th><th scope=col>hl60_dmso_2</th><th scope=col>hl60_decitabine_1</th><th scope=col>hl60_decitabine_2</th><th scope=col>hl60_rg3039_1</th><th scope=col>hl60_rg3039_2</th><th scope=col>hl60_combination_1</th><th scope=col>hl60_combination_2</th></tr>\n",
       "\t<tr><th></th><th scope=col>&lt;dbl&gt;</th><th scope=col>&lt;dbl&gt;</th><th scope=col>&lt;dbl&gt;</th><th scope=col>&lt;dbl&gt;</th><th scope=col>&lt;dbl&gt;</th><th scope=col>&lt;dbl&gt;</th><th scope=col>&lt;dbl&gt;</th><th scope=col>&lt;dbl&gt;</th></tr>\n",
       "</thead>\n",
       "<tbody>\n",
       "\t<tr><th scope=row>MLT1K</th><td>  34.42672</td><td>  10.45756</td><td>  0.0000</td><td>  43.64121</td><td>  29.75808</td><td>  17.27775</td><td>  0.00000</td><td>  0.000000</td></tr>\n",
       "\t<tr><th scope=row>HUERS-P3+LTR9</th><td>1266.58310</td><td>1776.04161</td><td>905.4203</td><td>1075.06389</td><td>1207.32785</td><td>1028.02595</td><td>726.40144</td><td>699.709011</td></tr>\n",
       "\t<tr><th scope=row>MER9a1</th><td>  32.02486</td><td>  95.86093</td><td>101.0031</td><td>  45.77005</td><td>  38.26039</td><td>  36.12620</td><td>  0.00000</td><td>  9.745251</td></tr>\n",
       "\t<tr><th scope=row>LTR72</th><td> 102.47954</td><td> 118.51897</td><td>168.3384</td><td> 192.65996</td><td> 178.54848</td><td> 104.45183</td><td>344.61476</td><td>294.306576</td></tr>\n",
       "\t<tr><th scope=row>MER21B</th><td>   0.00000</td><td>   0.00000</td><td>  0.0000</td><td>   0.00000</td><td>   0.00000</td><td>   0.00000</td><td> 30.97661</td><td> 11.044618</td></tr>\n",
       "\t<tr><th scope=row>MLT1A</th><td> 225.77524</td><td> 207.40820</td><td>296.9971</td><td> 288.45774</td><td> 218.22593</td><td> 190.84057</td><td>470.07002</td><td>400.204968</td></tr>\n",
       "</tbody>\n",
       "</table>\n"
      ],
      "text/latex": [
       "A data.frame: 6 × 8\n",
       "\\begin{tabular}{r|llllllll}\n",
       "  & hl60\\_dmso\\_1 & hl60\\_dmso\\_2 & hl60\\_decitabine\\_1 & hl60\\_decitabine\\_2 & hl60\\_rg3039\\_1 & hl60\\_rg3039\\_2 & hl60\\_combination\\_1 & hl60\\_combination\\_2\\\\\n",
       "  & <dbl> & <dbl> & <dbl> & <dbl> & <dbl> & <dbl> & <dbl> & <dbl>\\\\\n",
       "\\hline\n",
       "\tMLT1K &   34.42672 &   10.45756 &   0.0000 &   43.64121 &   29.75808 &   17.27775 &   0.00000 &   0.000000\\\\\n",
       "\tHUERS-P3+LTR9 & 1266.58310 & 1776.04161 & 905.4203 & 1075.06389 & 1207.32785 & 1028.02595 & 726.40144 & 699.709011\\\\\n",
       "\tMER9a1 &   32.02486 &   95.86093 & 101.0031 &   45.77005 &   38.26039 &   36.12620 &   0.00000 &   9.745251\\\\\n",
       "\tLTR72 &  102.47954 &  118.51897 & 168.3384 &  192.65996 &  178.54848 &  104.45183 & 344.61476 & 294.306576\\\\\n",
       "\tMER21B &    0.00000 &    0.00000 &   0.0000 &    0.00000 &    0.00000 &    0.00000 &  30.97661 &  11.044618\\\\\n",
       "\tMLT1A &  225.77524 &  207.40820 & 296.9971 &  288.45774 &  218.22593 &  190.84057 & 470.07002 & 400.204968\\\\\n",
       "\\end{tabular}\n"
      ],
      "text/markdown": [
       "\n",
       "A data.frame: 6 × 8\n",
       "\n",
       "| <!--/--> | hl60_dmso_1 &lt;dbl&gt; | hl60_dmso_2 &lt;dbl&gt; | hl60_decitabine_1 &lt;dbl&gt; | hl60_decitabine_2 &lt;dbl&gt; | hl60_rg3039_1 &lt;dbl&gt; | hl60_rg3039_2 &lt;dbl&gt; | hl60_combination_1 &lt;dbl&gt; | hl60_combination_2 &lt;dbl&gt; |\n",
       "|---|---|---|---|---|---|---|---|---|\n",
       "| MLT1K |   34.42672 |   10.45756 |   0.0000 |   43.64121 |   29.75808 |   17.27775 |   0.00000 |   0.000000 |\n",
       "| HUERS-P3+LTR9 | 1266.58310 | 1776.04161 | 905.4203 | 1075.06389 | 1207.32785 | 1028.02595 | 726.40144 | 699.709011 |\n",
       "| MER9a1 |   32.02486 |   95.86093 | 101.0031 |   45.77005 |   38.26039 |   36.12620 |   0.00000 |   9.745251 |\n",
       "| LTR72 |  102.47954 |  118.51897 | 168.3384 |  192.65996 |  178.54848 |  104.45183 | 344.61476 | 294.306576 |\n",
       "| MER21B |    0.00000 |    0.00000 |   0.0000 |    0.00000 |    0.00000 |    0.00000 |  30.97661 |  11.044618 |\n",
       "| MLT1A |  225.77524 |  207.40820 | 296.9971 |  288.45774 |  218.22593 |  190.84057 | 470.07002 | 400.204968 |\n",
       "\n"
      ],
      "text/plain": [
       "              hl60_dmso_1 hl60_dmso_2 hl60_decitabine_1 hl60_decitabine_2\n",
       "MLT1K           34.42672    10.45756    0.0000            43.64121       \n",
       "HUERS-P3+LTR9 1266.58310  1776.04161  905.4203          1075.06389       \n",
       "MER9a1          32.02486    95.86093  101.0031            45.77005       \n",
       "LTR72          102.47954   118.51897  168.3384           192.65996       \n",
       "MER21B           0.00000     0.00000    0.0000             0.00000       \n",
       "MLT1A          225.77524   207.40820  296.9971           288.45774       \n",
       "              hl60_rg3039_1 hl60_rg3039_2 hl60_combination_1 hl60_combination_2\n",
       "MLT1K           29.75808      17.27775      0.00000            0.000000        \n",
       "HUERS-P3+LTR9 1207.32785    1028.02595    726.40144          699.709011        \n",
       "MER9a1          38.26039      36.12620      0.00000            9.745251        \n",
       "LTR72          178.54848     104.45183    344.61476          294.306576        \n",
       "MER21B           0.00000       0.00000     30.97661           11.044618        \n",
       "MLT1A          218.22593     190.84057    470.07002          400.204968        "
      ]
     },
     "metadata": {},
     "output_type": "display_data"
    }
   ],
   "source": [
    "ncu1 %>% \n",
    "    # select(-name) %>% \n",
    "    head"
   ]
  },
  {
   "cell_type": "markdown",
   "metadata": {
    "tags": []
   },
   "source": [
    "# Session Info"
   ]
  },
  {
   "cell_type": "code",
   "execution_count": 108,
   "metadata": {},
   "outputs": [
    {
     "data": {
      "text/plain": [
       "R version 4.1.1 (2021-08-10)\n",
       "Platform: x86_64-conda-linux-gnu (64-bit)\n",
       "Running under: CentOS Linux 7 (Core)\n",
       "\n",
       "Matrix products: default\n",
       "BLAS/LAPACK: /data_gilbert/home/aarab/anaconda3/envs/deseq2/lib/libopenblasp-r0.3.18.so\n",
       "\n",
       "locale:\n",
       " [1] LC_CTYPE=en_US.UTF-8       LC_NUMERIC=C              \n",
       " [3] LC_TIME=en_US.UTF-8        LC_COLLATE=en_US.UTF-8    \n",
       " [5] LC_MONETARY=en_US.UTF-8    LC_MESSAGES=en_US.UTF-8   \n",
       " [7] LC_PAPER=en_US.UTF-8       LC_NAME=C                 \n",
       " [9] LC_ADDRESS=C               LC_TELEPHONE=C            \n",
       "[11] LC_MEASUREMENT=en_US.UTF-8 LC_IDENTIFICATION=C       \n",
       "\n",
       "attached base packages:\n",
       "[1] grid      stats4    stats     graphics  grDevices utils     datasets \n",
       "[8] methods   base     \n",
       "\n",
       "other attached packages:\n",
       " [1] corrplot_0.92               Hmisc_4.6-0                \n",
       " [3] Formula_1.2-4               survival_3.2-13            \n",
       " [5] lattice_0.20-45             ggcorrplot_0.1.3           \n",
       " [7] ggthemes_4.2.4              scales_1.1.1               \n",
       " [9] RColorBrewer_1.1-2          pheatmap_1.0.12            \n",
       "[11] gridExtra_2.3               BiocParallel_1.28.0        \n",
       "[13] patchwork_1.1.1             DESeq2_1.34.0              \n",
       "[15] SummarizedExperiment_1.24.0 MatrixGenerics_1.6.0       \n",
       "[17] matrixStats_0.61.0          ggrepel_0.9.1              \n",
       "[19] forcats_0.5.1               stringr_1.4.0              \n",
       "[21] dplyr_1.0.7                 purrr_0.3.4                \n",
       "[23] readr_2.0.2                 tidyr_1.1.4                \n",
       "[25] tibble_3.1.6                ggplot2_3.3.5              \n",
       "[27] tidyverse_1.3.1             tximport_1.22.0            \n",
       "[29] GenomicFeatures_1.46.1      AnnotationDbi_1.56.1       \n",
       "[31] Biobase_2.54.0              GenomicRanges_1.46.0       \n",
       "[33] GenomeInfoDb_1.30.0         IRanges_2.28.0             \n",
       "[35] S4Vectors_0.32.0            BiocGenerics_0.40.0        \n",
       "\n",
       "loaded via a namespace (and not attached):\n",
       "  [1] readxl_1.3.1             uuid_1.0-3               backports_1.3.0         \n",
       "  [4] BiocFileCache_2.2.0      plyr_1.8.6               repr_1.1.3              \n",
       "  [7] splines_4.1.1            digest_0.6.28            htmltools_0.5.2         \n",
       " [10] fansi_0.4.2              magrittr_2.0.1           checkmate_2.0.0         \n",
       " [13] memoise_2.0.0            cluster_2.1.2            tzdb_0.2.0              \n",
       " [16] Biostrings_2.62.0        annotate_1.72.0          modelr_0.1.8            \n",
       " [19] vroom_1.5.5              prettyunits_1.1.1        jpeg_0.1-9              \n",
       " [22] colorspace_2.0-2         blob_1.2.2               rvest_1.0.2             \n",
       " [25] rappdirs_0.3.3           haven_2.4.3              xfun_0.28               \n",
       " [28] crayon_1.4.2             RCurl_1.98-1.5           jsonlite_1.7.2          \n",
       " [31] genefilter_1.76.0        glue_1.5.0               gtable_0.3.0            \n",
       " [34] zlibbioc_1.40.0          XVector_0.34.0           DelayedArray_0.20.0     \n",
       " [37] DBI_1.1.1                Rcpp_1.0.7               xtable_1.8-4            \n",
       " [40] progress_1.2.2           htmlTable_2.3.0          foreign_0.8-81          \n",
       " [43] bit_4.0.4                htmlwidgets_1.5.4        httr_1.4.2              \n",
       " [46] ellipsis_0.3.2           pkgconfig_2.0.3          XML_3.99-0.8            \n",
       " [49] farver_2.1.0             nnet_7.3-16              dbplyr_2.1.1            \n",
       " [52] locfit_1.5-9.4           utf8_1.2.2               reshape2_1.4.4          \n",
       " [55] tidyselect_1.1.1         labeling_0.4.2           rlang_0.4.12            \n",
       " [58] munsell_0.5.0            cellranger_1.1.0         tools_4.1.1             \n",
       " [61] cachem_1.0.6             cli_3.1.0                generics_0.1.1          \n",
       " [64] RSQLite_2.2.8            broom_0.7.10             evaluate_0.14           \n",
       " [67] fastmap_1.1.0            yaml_2.2.1               knitr_1.35              \n",
       " [70] bit64_4.0.5              fs_1.5.0                 KEGGREST_1.34.0         \n",
       " [73] xml2_1.3.2               biomaRt_2.50.0           compiler_4.1.1          \n",
       " [76] rstudioapi_0.13          filelock_1.0.2           curl_4.3.2              \n",
       " [79] png_0.1-7                reprex_2.0.1             geneplotter_1.72.0      \n",
       " [82] stringi_1.7.5            IRdisplay_1.0            Matrix_1.3-4            \n",
       " [85] vctrs_0.3.8              pillar_1.6.4             lifecycle_1.0.1         \n",
       " [88] data.table_1.14.2        bitops_1.0-7             rtracklayer_1.54.0      \n",
       " [91] R6_2.5.1                 BiocIO_1.4.0             latticeExtra_0.6-29     \n",
       " [94] assertthat_0.2.1         rjson_0.2.20             withr_2.4.2             \n",
       " [97] GenomicAlignments_1.30.0 Rsamtools_2.10.0         GenomeInfoDbData_1.2.7  \n",
       "[100] parallel_4.1.1           hms_1.1.1                rpart_4.1-15            \n",
       "[103] IRkernel_1.2             pbdZMQ_0.3-6             lubridate_1.8.0         \n",
       "[106] base64enc_0.1-3          restfulr_0.0.13         "
      ]
     },
     "metadata": {},
     "output_type": "display_data"
    }
   ],
   "source": [
    "sessionInfo()"
   ]
  },
  {
   "cell_type": "code",
   "execution_count": 391,
   "metadata": {},
   "outputs": [
    {
     "data": {
      "text/html": [
       "'Fri Nov 11 13:22:12 2022'"
      ],
      "text/latex": [
       "'Fri Nov 11 13:22:12 2022'"
      ],
      "text/markdown": [
       "'Fri Nov 11 13:22:12 2022'"
      ],
      "text/plain": [
       "[1] \"Fri Nov 11 13:22:12 2022\""
      ]
     },
     "metadata": {},
     "output_type": "display_data"
    }
   ],
   "source": [
    "date()"
   ]
  }
 ],
 "metadata": {
  "kernelspec": {
   "display_name": "R [conda env:deseq2]",
   "language": "R",
   "name": "conda-env-deseq2-r"
  },
  "language_info": {
   "codemirror_mode": "r",
   "file_extension": ".r",
   "mimetype": "text/x-r-source",
   "name": "R",
   "pygments_lexer": "r",
   "version": "4.1.1"
  },
  "widgets": {
   "application/vnd.jupyter.widget-state+json": {
    "state": {},
    "version_major": 2,
    "version_minor": 0
   }
  }
 },
 "nbformat": 4,
 "nbformat_minor": 4
}
